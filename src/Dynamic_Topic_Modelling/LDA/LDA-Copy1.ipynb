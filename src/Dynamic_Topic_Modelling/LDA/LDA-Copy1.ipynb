{
 "cells": [
  {
   "cell_type": "markdown",
   "metadata": {},
   "source": [
    "<h1> Dynamic Topic Modelling using LDA </h1>"
   ]
  },
  {
   "cell_type": "code",
   "execution_count": null,
   "metadata": {},
   "outputs": [],
   "source": [
    "# Install pyLDAvis\n",
    "#!pip install pyLDAvis"
   ]
  },
  {
   "cell_type": "code",
   "execution_count": 5,
   "metadata": {},
   "outputs": [
    {
     "name": "stderr",
     "output_type": "stream",
     "text": [
      "/apps/software/standard/core/anaconda/2020.11-py3.8/lib/python3.8/site-packages/ipykernel/ipkernel.py:287: DeprecationWarning: `should_run_async` will not call `transform_cell` automatically in the future. Please pass the result to `transformed_cell` argument and any exception that happen during thetransform in `preprocessing_exc_tuple` in IPython 7.17 and above.\n",
      "  and should_run_async(code)\n"
     ]
    }
   ],
   "source": [
    "import pandas as pd\n",
    "import numpy\n",
    "import pickle\n",
    "import time\n",
    "import gensim\n",
    "import matplotlib.pyplot as plt\n",
    "import pyLDAvis\n",
    "import pyLDAvis.gensim_models\n",
    "import csv\n",
    "\n",
    "#from sklearn.decomposition import LatentDirichletAllocation\n",
    "#from sklearn.feature_extraction.text import CountVectorizer\n",
    "#from gensim.models.coherencemodel import CoherenceModel\n",
    "\n",
    "# setting up our imports\n",
    "from gensim.models import ldaseqmodel\n",
    "from gensim.corpora import Dictionary, bleicorpus\n",
    "from gensim.matutils import hellinger\n",
    "from gensim.models.coherencemodel import CoherenceModel\n",
    "#from gensim.models.wrappers.dtmmodel import DtmModel"
   ]
  },
  {
   "cell_type": "markdown",
   "metadata": {},
   "source": [
    "<h1> 1. Load data and treat </h1>"
   ]
  },
  {
   "cell_type": "code",
   "execution_count": 6,
   "metadata": {},
   "outputs": [
    {
     "name": "stderr",
     "output_type": "stream",
     "text": [
      "/apps/software/standard/core/anaconda/2020.11-py3.8/lib/python3.8/site-packages/ipykernel/ipkernel.py:287: DeprecationWarning: `should_run_async` will not call `transform_cell` automatically in the future. Please pass the result to `transformed_cell` argument and any exception that happen during thetransform in `preprocessing_exc_tuple` in IPython 7.17 and above.\n",
      "  and should_run_async(code)\n"
     ]
    },
    {
     "data": {
      "text/html": [
       "<div>\n",
       "<style scoped>\n",
       "    .dataframe tbody tr th:only-of-type {\n",
       "        vertical-align: middle;\n",
       "    }\n",
       "\n",
       "    .dataframe tbody tr th {\n",
       "        vertical-align: top;\n",
       "    }\n",
       "\n",
       "    .dataframe thead th {\n",
       "        text-align: right;\n",
       "    }\n",
       "</style>\n",
       "<table border=\"1\" class=\"dataframe\">\n",
       "  <thead>\n",
       "    <tr style=\"text-align: right;\">\n",
       "      <th></th>\n",
       "      <th>index</th>\n",
       "      <th>original index</th>\n",
       "      <th>PROJECT_ID</th>\n",
       "      <th>ABSTRACT</th>\n",
       "      <th>FY</th>\n",
       "      <th>PROJECT_TERMS</th>\n",
       "      <th>PROJECT_TITLE</th>\n",
       "      <th>DEPARTMENT</th>\n",
       "      <th>AGENCY</th>\n",
       "      <th>IC_CENTER</th>\n",
       "      <th>...</th>\n",
       "      <th>ORGANIZATION_COUNTRY</th>\n",
       "      <th>BUDGET_START_DATE</th>\n",
       "      <th>BUDGET_END_DATE</th>\n",
       "      <th>CFDA_CODE</th>\n",
       "      <th>FY.y</th>\n",
       "      <th>FY_TOTAL_COST</th>\n",
       "      <th>FY_TOTAL_COST_SUB_PROJECTS</th>\n",
       "      <th>ORG_COUNT</th>\n",
       "      <th>PI_COUNT</th>\n",
       "      <th>final_tokens</th>\n",
       "    </tr>\n",
       "  </thead>\n",
       "  <tbody>\n",
       "    <tr>\n",
       "      <th>5122</th>\n",
       "      <td>5122</td>\n",
       "      <td>5608</td>\n",
       "      <td>95622</td>\n",
       "      <td>Host - virus interactions are greatly affected...</td>\n",
       "      <td>2008</td>\n",
       "      <td>Affect; Antiviral Agents; Area; Biochemical; D...</td>\n",
       "      <td>THE ROLE OF A HOST ION PUMP IN RNA VIRUS RECOM...</td>\n",
       "      <td>NSF</td>\n",
       "      <td>NSF</td>\n",
       "      <td>NaN</td>\n",
       "      <td>...</td>\n",
       "      <td>UNITED STATES</td>\n",
       "      <td>NaN</td>\n",
       "      <td>NaN</td>\n",
       "      <td>47.074</td>\n",
       "      <td>2008</td>\n",
       "      <td>612000.0</td>\n",
       "      <td>NaN</td>\n",
       "      <td>1</td>\n",
       "      <td>1</td>\n",
       "      <td>[host, virus, interaction, greatly, affect, ex...</td>\n",
       "    </tr>\n",
       "    <tr>\n",
       "      <th>13938</th>\n",
       "      <td>13938</td>\n",
       "      <td>15726</td>\n",
       "      <td>152221</td>\n",
       "      <td>AbstractThe American Society for Virology (ASV...</td>\n",
       "      <td>2008</td>\n",
       "      <td>abstracting; Acquired Immunodeficiency Syndrom...</td>\n",
       "      <td>INTERNATIONAL CONGRESS OF VIROLOGY, ISTANBUL, ...</td>\n",
       "      <td>HHS</td>\n",
       "      <td>NIH</td>\n",
       "      <td>NIAID</td>\n",
       "      <td>...</td>\n",
       "      <td>UNITED STATES</td>\n",
       "      <td>2/1/2008</td>\n",
       "      <td>1/31/2009</td>\n",
       "      <td>93.855</td>\n",
       "      <td>2008</td>\n",
       "      <td>30000.0</td>\n",
       "      <td>NaN</td>\n",
       "      <td>1</td>\n",
       "      <td>1</td>\n",
       "      <td>[american, society, virology_asv, wish, provid...</td>\n",
       "    </tr>\n",
       "    <tr>\n",
       "      <th>14418</th>\n",
       "      <td>14418</td>\n",
       "      <td>17118</td>\n",
       "      <td>153617</td>\n",
       "      <td>DESCRIPTION (provided by applicant):  Severe a...</td>\n",
       "      <td>2008</td>\n",
       "      <td>Abbreviations; Address; Alleles; Alphavirus; A...</td>\n",
       "      <td>SARS REVERSE GENETICS</td>\n",
       "      <td>HHS</td>\n",
       "      <td>NIH</td>\n",
       "      <td>NIAID</td>\n",
       "      <td>...</td>\n",
       "      <td>UNITED STATES</td>\n",
       "      <td>2/1/2008</td>\n",
       "      <td>1/31/2010</td>\n",
       "      <td>93.855</td>\n",
       "      <td>2008</td>\n",
       "      <td>271608.0</td>\n",
       "      <td>NaN</td>\n",
       "      <td>1</td>\n",
       "      <td>1</td>\n",
       "      <td>[severe, acute, respiratory, syndrome, life_th...</td>\n",
       "    </tr>\n",
       "    <tr>\n",
       "      <th>14514</th>\n",
       "      <td>14514</td>\n",
       "      <td>17384</td>\n",
       "      <td>153888</td>\n",
       "      <td>DESCRIPTION (provided by applicant): Human cor...</td>\n",
       "      <td>2008</td>\n",
       "      <td>Acute; Age-Years; Antigens; Archives; base; Bi...</td>\n",
       "      <td>EPIDEMIOLOGY AND CLINICAL FEATURES OF HUMAN CO...</td>\n",
       "      <td>HHS</td>\n",
       "      <td>NIH</td>\n",
       "      <td>NIAID</td>\n",
       "      <td>...</td>\n",
       "      <td>UNITED STATES</td>\n",
       "      <td>2/1/2008</td>\n",
       "      <td>1/31/2010</td>\n",
       "      <td>93.855</td>\n",
       "      <td>2008</td>\n",
       "      <td>75292.0</td>\n",
       "      <td>NaN</td>\n",
       "      <td>1</td>\n",
       "      <td>1</td>\n",
       "      <td>[human, coronaviruse_hcov, initially, identify...</td>\n",
       "    </tr>\n",
       "    <tr>\n",
       "      <th>14565</th>\n",
       "      <td>14565</td>\n",
       "      <td>17526</td>\n",
       "      <td>154033</td>\n",
       "      <td>DESCRIPTION: Plus-stranded RNA viruses, which ...</td>\n",
       "      <td>2008</td>\n",
       "      <td>Affect; Agriculture; Animals; Antiviral Agents...</td>\n",
       "      <td>ROLES OF HOST RNA BINDING PROTEINS IN VIRUS RE...</td>\n",
       "      <td>HHS</td>\n",
       "      <td>NIH</td>\n",
       "      <td>NIAID</td>\n",
       "      <td>...</td>\n",
       "      <td>UNITED STATES</td>\n",
       "      <td>2/1/2008</td>\n",
       "      <td>1/31/2010</td>\n",
       "      <td>93.855</td>\n",
       "      <td>2008</td>\n",
       "      <td>200124.0</td>\n",
       "      <td>NaN</td>\n",
       "      <td>1</td>\n",
       "      <td>1</td>\n",
       "      <td>[strand, rna, virus, pose, significant, risk, ...</td>\n",
       "    </tr>\n",
       "  </tbody>\n",
       "</table>\n",
       "<p>5 rows × 31 columns</p>\n",
       "</div>"
      ],
      "text/plain": [
       "       index  original index PROJECT_ID  \\\n",
       "5122    5122            5608      95622   \n",
       "13938  13938           15726     152221   \n",
       "14418  14418           17118     153617   \n",
       "14514  14514           17384     153888   \n",
       "14565  14565           17526     154033   \n",
       "\n",
       "                                                ABSTRACT    FY  \\\n",
       "5122   Host - virus interactions are greatly affected...  2008   \n",
       "13938  AbstractThe American Society for Virology (ASV...  2008   \n",
       "14418  DESCRIPTION (provided by applicant):  Severe a...  2008   \n",
       "14514  DESCRIPTION (provided by applicant): Human cor...  2008   \n",
       "14565  DESCRIPTION: Plus-stranded RNA viruses, which ...  2008   \n",
       "\n",
       "                                           PROJECT_TERMS  \\\n",
       "5122   Affect; Antiviral Agents; Area; Biochemical; D...   \n",
       "13938  abstracting; Acquired Immunodeficiency Syndrom...   \n",
       "14418  Abbreviations; Address; Alleles; Alphavirus; A...   \n",
       "14514  Acute; Age-Years; Antigens; Archives; base; Bi...   \n",
       "14565  Affect; Agriculture; Animals; Antiviral Agents...   \n",
       "\n",
       "                                           PROJECT_TITLE DEPARTMENT AGENCY  \\\n",
       "5122   THE ROLE OF A HOST ION PUMP IN RNA VIRUS RECOM...        NSF    NSF   \n",
       "13938  INTERNATIONAL CONGRESS OF VIROLOGY, ISTANBUL, ...        HHS    NIH   \n",
       "14418                              SARS REVERSE GENETICS        HHS    NIH   \n",
       "14514  EPIDEMIOLOGY AND CLINICAL FEATURES OF HUMAN CO...        HHS    NIH   \n",
       "14565  ROLES OF HOST RNA BINDING PROTEINS IN VIRUS RE...        HHS    NIH   \n",
       "\n",
       "      IC_CENTER  ... ORGANIZATION_COUNTRY BUDGET_START_DATE BUDGET_END_DATE  \\\n",
       "5122        NaN  ...        UNITED STATES               NaN             NaN   \n",
       "13938     NIAID  ...        UNITED STATES          2/1/2008       1/31/2009   \n",
       "14418     NIAID  ...        UNITED STATES          2/1/2008       1/31/2010   \n",
       "14514     NIAID  ...        UNITED STATES          2/1/2008       1/31/2010   \n",
       "14565     NIAID  ...        UNITED STATES          2/1/2008       1/31/2010   \n",
       "\n",
       "      CFDA_CODE  FY.y FY_TOTAL_COST FY_TOTAL_COST_SUB_PROJECTS ORG_COUNT  \\\n",
       "5122     47.074  2008      612000.0                        NaN         1   \n",
       "13938    93.855  2008       30000.0                        NaN         1   \n",
       "14418    93.855  2008      271608.0                        NaN         1   \n",
       "14514    93.855  2008       75292.0                        NaN         1   \n",
       "14565    93.855  2008      200124.0                        NaN         1   \n",
       "\n",
       "      PI_COUNT                                       final_tokens  \n",
       "5122         1  [host, virus, interaction, greatly, affect, ex...  \n",
       "13938        1  [american, society, virology_asv, wish, provid...  \n",
       "14418        1  [severe, acute, respiratory, syndrome, life_th...  \n",
       "14514        1  [human, coronaviruse_hcov, initially, identify...  \n",
       "14565        1  [strand, rna, virus, pose, significant, risk, ...  \n",
       "\n",
       "[5 rows x 31 columns]"
      ]
     },
     "execution_count": 6,
     "metadata": {},
     "output_type": "execute_result"
    }
   ],
   "source": [
    "# Import the final tokens\n",
    "#f = open('/project/biocomplexity/sdad/projects_data/ncses/prd/Tech-Report/FR_meta_and_final_tokens_21SEPT14.pkl', 'rb')\n",
    "f = open('/project/biocomplexity/sdad/projects_data/ncses/prd/Tech-Report/case_studies/coronavirus_corpus.pkl', 'rb')\n",
    "df = pickle.load(f)\n",
    "f.close()\n",
    "df.head()"
   ]
  },
  {
   "cell_type": "code",
   "execution_count": 7,
   "metadata": {},
   "outputs": [
    {
     "name": "stderr",
     "output_type": "stream",
     "text": [
      "/apps/software/standard/core/anaconda/2020.11-py3.8/lib/python3.8/site-packages/ipykernel/ipkernel.py:287: DeprecationWarning: `should_run_async` will not call `transform_cell` automatically in the future. Please pass the result to `transformed_cell` argument and any exception that happen during thetransform in `preprocessing_exc_tuple` in IPython 7.17 and above.\n",
      "  and should_run_async(code)\n"
     ]
    },
    {
     "data": {
      "text/plain": [
       "Index(['index', 'original index', 'PROJECT_ID', 'ABSTRACT', 'FY',\n",
       "       'PROJECT_TERMS', 'PROJECT_TITLE', 'DEPARTMENT', 'AGENCY', 'IC_CENTER',\n",
       "       'PROJECT_NUMBER', 'PROJECT_START_DATE', 'PROJECT_END_DATE',\n",
       "       'CONTACT_PI_PROJECT_LEADER', 'OTHER_PIS', 'CONGRESSIONAL_DISTRICT',\n",
       "       'DUNS_NUMBER', 'ORGANIZATION_NAME', 'ORGANIZATION_CITY',\n",
       "       'ORGANIZATION_STATE', 'ORGANIZATION_ZIP', 'ORGANIZATION_COUNTRY',\n",
       "       'BUDGET_START_DATE', 'BUDGET_END_DATE', 'CFDA_CODE', 'FY.y',\n",
       "       'FY_TOTAL_COST', 'FY_TOTAL_COST_SUB_PROJECTS', 'ORG_COUNT', 'PI_COUNT',\n",
       "       'final_tokens'],\n",
       "      dtype='object')"
      ]
     },
     "execution_count": 7,
     "metadata": {},
     "output_type": "execute_result"
    }
   ],
   "source": [
    "# Count the number of Abstracts by year. PROJECT_START_DATE doesn't have missing informations= uses it for the time slice\n",
    "df.columns"
   ]
  },
  {
   "cell_type": "code",
   "execution_count": 8,
   "metadata": {},
   "outputs": [
    {
     "name": "stdout",
     "output_type": "stream",
     "text": [
      "1022 Abstracts\n"
     ]
    },
    {
     "name": "stderr",
     "output_type": "stream",
     "text": [
      "/apps/software/standard/core/anaconda/2020.11-py3.8/lib/python3.8/site-packages/ipykernel/ipkernel.py:287: DeprecationWarning: `should_run_async` will not call `transform_cell` automatically in the future. Please pass the result to `transformed_cell` argument and any exception that happen during thetransform in `preprocessing_exc_tuple` in IPython 7.17 and above.\n",
      "  and should_run_async(code)\n"
     ]
    }
   ],
   "source": [
    "# length (number of abstract) of the coronavirus sample\n",
    "print(len(df), \"Abstracts\")"
   ]
  },
  {
   "cell_type": "code",
   "execution_count": 9,
   "metadata": {},
   "outputs": [
    {
     "name": "stderr",
     "output_type": "stream",
     "text": [
      "/apps/software/standard/core/anaconda/2020.11-py3.8/lib/python3.8/site-packages/ipykernel/ipkernel.py:287: DeprecationWarning: `should_run_async` will not call `transform_cell` automatically in the future. Please pass the result to `transformed_cell` argument and any exception that happen during thetransform in `preprocessing_exc_tuple` in IPython 7.17 and above.\n",
      "  and should_run_async(code)\n"
     ]
    }
   ],
   "source": [
    "# Function to compute the corpus and dictionary for the DTM LDA\n",
    "def createLDAvars(docs):\n",
    "\n",
    "    # Create the variables needed for LDA from df[final_frqwds_removed]: dictionary (id2word), corpus\n",
    "    \n",
    "    # Create Dictionary\n",
    "    id2word = gensim.corpora.Dictionary(docs)\n",
    "\n",
    "    #Filter words to only those found in at least a set number of documents (min_appearances)\n",
    "    id2word.filter_extremes(no_below=20, no_above=0.6)\n",
    "    \n",
    "    # filter out stop words - \"use\" already filtered out by previous line\n",
    "    id2word.filter_tokens(bad_ids=[id2word.token2id['research'], id2word.token2id['project']])\n",
    "\n",
    "    # Create Corpus (Term Document Frequency)\n",
    "\n",
    "    #Creates a count for each unique word appearing in the document, where the word_id is substituted for the word\n",
    "    # corpus not need for c_v coherence\n",
    "    corpus = [id2word.doc2bow(doc) for doc in docs]\n",
    "\n",
    "    return id2word, corpus"
   ]
  },
  {
   "cell_type": "code",
   "execution_count": 10,
   "metadata": {},
   "outputs": [
    {
     "name": "stderr",
     "output_type": "stream",
     "text": [
      "/apps/software/standard/core/anaconda/2020.11-py3.8/lib/python3.8/site-packages/ipykernel/ipkernel.py:287: DeprecationWarning: `should_run_async` will not call `transform_cell` automatically in the future. Please pass the result to `transformed_cell` argument and any exception that happen during thetransform in `preprocessing_exc_tuple` in IPython 7.17 and above.\n",
      "  and should_run_async(code)\n"
     ]
    }
   ],
   "source": [
    "# build the dictionary id2word\n",
    "docs = df[\"final_tokens\"]\n",
    "[dictionary, corpus] = createLDAvars(docs)"
   ]
  },
  {
   "cell_type": "code",
   "execution_count": 11,
   "metadata": {},
   "outputs": [
    {
     "name": "stderr",
     "output_type": "stream",
     "text": [
      "/apps/software/standard/core/anaconda/2020.11-py3.8/lib/python3.8/site-packages/ipykernel/ipkernel.py:287: DeprecationWarning: `should_run_async` will not call `transform_cell` automatically in the future. Please pass the result to `transformed_cell` argument and any exception that happen during thetransform in `preprocessing_exc_tuple` in IPython 7.17 and above.\n",
      "  and should_run_async(code)\n"
     ]
    }
   ],
   "source": [
    "# Create the time slice using the fiscal year\n",
    "df['Year'] = df['FY']\n",
    "time_slice = df['PROJECT_ID'].groupby(df['Year']).count()"
   ]
  },
  {
   "cell_type": "markdown",
   "metadata": {},
   "source": [
    "<h2> 3. Solve a dynamic topic model </h2>"
   ]
  },
  {
   "cell_type": "code",
   "execution_count": null,
   "metadata": {},
   "outputs": [],
   "source": [
    "# Run the DMT. Pre-training model (default chain_variance=0.005)\n",
    "ldaseq = ldaseqmodel.LdaSeqModel(corpus=corpus, id2word=dictionary, time_slice=time_slice, num_topics=30)\n",
    "\n",
    "# save to file\n",
    "pickle.dump(ldaseq, open('/project/biocomplexity/sdad/projects_data/ncses/prd/Dynamic_Topics_Modelling/LDA/DTM_LDA_30.pkl','wb'))"
   ]
  },
  {
   "cell_type": "markdown",
   "metadata": {},
   "source": [
    "<h3> 3.1 Run the pickle file from slurm <h3 />"
   ]
  },
  {
   "cell_type": "code",
   "execution_count": 13,
   "metadata": {},
   "outputs": [
    {
     "name": "stderr",
     "output_type": "stream",
     "text": [
      "/apps/software/standard/core/anaconda/2020.11-py3.8/lib/python3.8/site-packages/ipykernel/ipkernel.py:287: DeprecationWarning: `should_run_async` will not call `transform_cell` automatically in the future. Please pass the result to `transformed_cell` argument and any exception that happen during thetransform in `preprocessing_exc_tuple` in IPython 7.17 and above.\n",
      "  and should_run_async(code)\n"
     ]
    }
   ],
   "source": [
    "# Load the pickle result from slurm\n",
    "f = open('/project/biocomplexity/sdad/projects_data/ncses/prd/Dynamic_Topics_Modelling/LDA/DTM_LDA_30.pkl', 'rb')\n",
    "ldaseq = pickle.load(f)\n",
    "f.close()"
   ]
  },
  {
   "cell_type": "code",
   "execution_count": 14,
   "metadata": {},
   "outputs": [
    {
     "name": "stderr",
     "output_type": "stream",
     "text": [
      "/apps/software/standard/core/anaconda/2020.11-py3.8/lib/python3.8/site-packages/ipykernel/ipkernel.py:287: DeprecationWarning: `should_run_async` will not call `transform_cell` automatically in the future. Please pass the result to `transformed_cell` argument and any exception that happen during thetransform in `preprocessing_exc_tuple` in IPython 7.17 and above.\n",
      "  and should_run_async(code)\n"
     ]
    }
   ],
   "source": [
    "# Print the list of topics a given time\n",
    "topic_list = ldaseq.print_topics(time=0)\n",
    "topic_words = []\n",
    "\n",
    "for i in range(len(topic_list)):\n",
    "    topic_words.append([item[0] for item in topic_list[i]])\n",
    "\n",
    "# Print the list of topics \n",
    "pd.DataFrame(topic_words)\n",
    "\n",
    "# Save the result in csv\n",
    "with open('Topic_list_0.csv', 'w', newline='') as csvfile:\n",
    "    writer = csv.writer(csvfile)\n",
    "    writer.writerows(topic_words)"
   ]
  },
  {
   "cell_type": "code",
   "execution_count": 15,
   "metadata": {},
   "outputs": [
    {
     "name": "stderr",
     "output_type": "stream",
     "text": [
      "/apps/software/standard/core/anaconda/2020.11-py3.8/lib/python3.8/site-packages/ipykernel/ipkernel.py:287: DeprecationWarning: `should_run_async` will not call `transform_cell` automatically in the future. Please pass the result to `transformed_cell` argument and any exception that happen during thetransform in `preprocessing_exc_tuple` in IPython 7.17 and above.\n",
      "  and should_run_async(code)\n"
     ]
    }
   ],
   "source": [
    "# Time evolution of the first topic. Combine the whole time evolution in a DataFrame\n",
    "time_topic = ldaseq.print_topic_times(topic=1)\n",
    "time = list(time_slice.index)\n",
    "topic_evol = pd.DataFrame(time_topic[0])\n",
    "topic_evol.columns = ['WORDS', 'YEAR_'+str(time[0])]\n",
    "\n",
    "for i in range(1,len(time_topic)):\n",
    "    year_topic = pd.DataFrame(time_topic[i])\n",
    "    year_topic.columns = ['WORDS', 'PROB_'+str(time[i])]\n",
    "    topic_evol = topic_evol.merge(year_topic, how='outer', on=['WORDS'])\n",
    "\n",
    "# Print the topic evolution. Detect some news words (max=30 words)\n",
    "topic_evol.head(30)\n",
    "\n",
    "# Save the result in csv\n",
    "topic_evol.to_csv('Topic_evol_1.csv')"
   ]
  },
  {
   "cell_type": "markdown",
   "metadata": {},
   "source": [
    "<h3> 3.2. Compute the topic coherence <h3 />"
   ]
  },
  {
   "cell_type": "code",
   "execution_count": 34,
   "metadata": {},
   "outputs": [
    {
     "name": "stderr",
     "output_type": "stream",
     "text": [
      "/apps/software/standard/core/anaconda/2020.11-py3.8/lib/python3.8/site-packages/ipykernel/ipkernel.py:287: DeprecationWarning: `should_run_async` will not call `transform_cell` automatically in the future. Please pass the result to `transformed_cell` argument and any exception that happen during thetransform in `preprocessing_exc_tuple` in IPython 7.17 and above.\n",
      "  and should_run_async(code)\n"
     ]
    },
    {
     "name": "stdout",
     "output_type": "stream",
     "text": [
      "The gobal coherence is  0.44078578516504213\n"
     ]
    }
   ],
   "source": [
    "# Compute model coherence. Show the trend evolution and compute the golbal coherence as the average coherence over the time\n",
    "coherence_values = []\n",
    "\n",
    "for t in range(0,len(time)):\n",
    "    topics_dtm = ldaseq.dtm_coherence(time=t)\n",
    "    cm = CoherenceModel(topics=topics_dtm, dictionary=dictionary, texts=docs, coherence='c_v', processes=30) \n",
    "    coherence_values.append(cm.get_coherence())\n",
    "    \n",
    "#  Create a coherence series from the list. compute also the median....\n",
    "coherence_serie = pd.Series(coherence_values, index =time)\n",
    "print (\"The gobal coherence is \", coherence_serie.mean())"
   ]
  },
  {
   "cell_type": "code",
   "execution_count": 35,
   "metadata": {},
   "outputs": [
    {
     "name": "stderr",
     "output_type": "stream",
     "text": [
      "/apps/software/standard/core/anaconda/2020.11-py3.8/lib/python3.8/site-packages/ipykernel/ipkernel.py:287: DeprecationWarning: `should_run_async` will not call `transform_cell` automatically in the future. Please pass the result to `transformed_cell` argument and any exception that happen during thetransform in `preprocessing_exc_tuple` in IPython 7.17 and above.\n",
      "  and should_run_async(code)\n"
     ]
    },
    {
     "data": {
      "image/png": "[encoded data removed]",
      "text/plain": [
       "<Figure size 432x288 with 1 Axes>"
      ]
     },
     "metadata": {
      "needs_background": "light"
     },
     "output_type": "display_data"
    }
   ],
   "source": [
    "# Print the time evolution of topics coherence\n",
    "serie = coherence_serie.plot()\n",
    "plt.title('Topic coherence over the time')\n",
    "plt.ylabel(\"Coherence\")\n",
    "plt.savefig('time_coherence.png')"
   ]
  },
  {
   "cell_type": "markdown",
   "metadata": {},
   "source": [
    "<h2> 3. Find the best dynamic LDA Topic modelling </h2>"
   ]
  },
  {
   "cell_type": "code",
   "execution_count": 1,
   "metadata": {},
   "outputs": [
    {
     "data": {
      "text/plain": [
       "[10,\n",
       " 20,\n",
       " 30,\n",
       " 40,\n",
       " 50,\n",
       " 60,\n",
       " 70,\n",
       " 80,\n",
       " 90,\n",
       " 100,\n",
       " 110,\n",
       " 120,\n",
       " 130,\n",
       " 140,\n",
       " 150,\n",
       " 160,\n",
       " 170,\n",
       " 180,\n",
       " 190]"
      ]
     },
     "execution_count": 1,
     "metadata": {},
     "output_type": "execute_result"
    }
   ],
   "source": [
    "# Set a number of Topic\n",
    "#n_topics = list(range(10,200,10)) \n",
    "list(range(10,200,10)) \n",
    "\n",
    "# For each number of topics, solve the DTM and compute the global coherence"
   ]
  },
  {
   "cell_type": "code",
   "execution_count": null,
   "metadata": {},
   "outputs": [],
   "source": []
  }
 ],
 "metadata": {
  "kernelspec": {
   "display_name": "Python 3.8",
   "language": "python",
   "name": "python-3.8"
  },
  "language_info": {
   "codemirror_mode": {
    "name": "ipython",
    "version": 3
   },
   "file_extension": ".py",
   "mimetype": "text/x-python",
   "name": "python",
   "nbconvert_exporter": "python",
   "pygments_lexer": "ipython3",
   "version": "3.8.8"
  }
 },
 "nbformat": 4,
 "nbformat_minor": 4
}
