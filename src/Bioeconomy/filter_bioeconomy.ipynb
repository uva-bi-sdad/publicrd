{
 "cells": [
  {
   "cell_type": "markdown",
   "metadata": {},
   "source": [
    "# Information Retrieval - Corpus Filtering  \n",
    "This notebook retrieves abstracts relevant to pandemics and then uses topic modeling to analyze the chosen abstracts.  Two info retrieval techniques are used: Literal Term Matching and Latent Semantic Indexing.  These are linear algebra techniques.  \n",
    "We use the Scikit-Learn library."
   ]
  },
  {
   "cell_type": "code",
   "execution_count": 1,
   "metadata": {},
   "outputs": [],
   "source": [
    "import pandas as pd\n",
    "pd.set_option('display.max_columns', 50)\n",
    "\n",
    "import numpy as np\n",
    "import pickle\n",
    "import matplotlib.pyplot as plt\n",
    "import time\n",
    "\n",
    "from sklearn.decomposition import NMF, TruncatedSVD\n",
    "from sklearn.feature_extraction.text import CountVectorizer\n",
    "from sklearn.feature_extraction.text import TfidfVectorizer\n",
    "\n",
    "from sklearn.metrics.pairwise import cosine_similarity"
   ]
  },
  {
   "cell_type": "code",
   "execution_count": null,
   "metadata": {},
   "outputs": [],
   "source": []
  },
  {
   "cell_type": "code",
   "execution_count": 2,
   "metadata": {},
   "outputs": [],
   "source": [
    "# pull in data\n",
    "df = pd.read_pickle(\"../../data/prd/Paper/FR_meta_and_final_tokens_23DEC21.pkl\")\n",
    "df.reset_index(inplace = True, drop = True)"
   ]
  },
  {
   "cell_type": "code",
   "execution_count": 3,
   "metadata": {},
   "outputs": [
    {
     "data": {
      "text/html": [
       "<div>\n",
       "<style scoped>\n",
       "    .dataframe tbody tr th:only-of-type {\n",
       "        vertical-align: middle;\n",
       "    }\n",
       "\n",
       "    .dataframe tbody tr th {\n",
       "        vertical-align: top;\n",
       "    }\n",
       "\n",
       "    .dataframe thead th {\n",
       "        text-align: right;\n",
       "    }\n",
       "</style>\n",
       "<table border=\"1\" class=\"dataframe\">\n",
       "  <thead>\n",
       "    <tr style=\"text-align: right;\">\n",
       "      <th></th>\n",
       "      <th>PROJECT_ID</th>\n",
       "      <th>ABSTRACT</th>\n",
       "      <th>PROJECT_TERMS</th>\n",
       "      <th>PROJECT_TITLE</th>\n",
       "      <th>DEPARTMENT</th>\n",
       "      <th>AGENCY</th>\n",
       "      <th>IC_CENTER</th>\n",
       "      <th>PROJECT_NUMBER</th>\n",
       "      <th>PROJECT_START_DATE</th>\n",
       "      <th>PROJECT_END_DATE</th>\n",
       "      <th>CONTACT_PI_PROJECT_LEADER</th>\n",
       "      <th>OTHER_PIS</th>\n",
       "      <th>CONGRESSIONAL_DISTRICT</th>\n",
       "      <th>DUNS_NUMBER</th>\n",
       "      <th>ORGANIZATION_NAME</th>\n",
       "      <th>ORGANIZATION_CITY</th>\n",
       "      <th>ORGANIZATION_STATE</th>\n",
       "      <th>ORGANIZATION_ZIP</th>\n",
       "      <th>ORGANIZATION_COUNTRY</th>\n",
       "      <th>BUDGET_START_DATE</th>\n",
       "      <th>BUDGET_END_DATE</th>\n",
       "      <th>CFDA_CODE</th>\n",
       "      <th>FY</th>\n",
       "      <th>FY_TOTAL_COST</th>\n",
       "      <th>FY_TOTAL_COST_SUB_PROJECTS</th>\n",
       "      <th>ORG_COUNT</th>\n",
       "      <th>PI_COUNT</th>\n",
       "      <th>FY_TOTAL_COST_SUM</th>\n",
       "      <th>NUM_RECORDS</th>\n",
       "      <th>final_tokens</th>\n",
       "    </tr>\n",
       "  </thead>\n",
       "  <tbody>\n",
       "    <tr>\n",
       "      <th>0</th>\n",
       "      <td>89996</td>\n",
       "      <td>This is a project to explore Game-based, Metap...</td>\n",
       "      <td>Achievement; analog; base; Cognitive Science; ...</td>\n",
       "      <td>RUI: CYGAMES: CYBER-ENABLED TEACHING AND LEARN...</td>\n",
       "      <td>NSF</td>\n",
       "      <td>NSF</td>\n",
       "      <td>NaN</td>\n",
       "      <td>0814512</td>\n",
       "      <td>9/15/2008</td>\n",
       "      <td>8/31/2012</td>\n",
       "      <td>REESE, DEBBIE D</td>\n",
       "      <td>CARTER, BEVERLY; WOOD, CHARLES; HITT, BEN</td>\n",
       "      <td>01</td>\n",
       "      <td>068719400</td>\n",
       "      <td>WHEELING JESUIT UNIVERSITY</td>\n",
       "      <td>WHEELING</td>\n",
       "      <td>WV</td>\n",
       "      <td>26003-6243</td>\n",
       "      <td>UNITED STATES</td>\n",
       "      <td>NaN</td>\n",
       "      <td>NaN</td>\n",
       "      <td>47.076</td>\n",
       "      <td>2008</td>\n",
       "      <td>1999467.0</td>\n",
       "      <td>NaN</td>\n",
       "      <td>1</td>\n",
       "      <td>1</td>\n",
       "      <td>1999467.0</td>\n",
       "      <td>1</td>\n",
       "      <td>project explore game base metaphor enhanced ga...</td>\n",
       "    </tr>\n",
       "    <tr>\n",
       "      <th>1</th>\n",
       "      <td>89997</td>\n",
       "      <td>Institution: Franklin Institute Science Museum...</td>\n",
       "      <td>Active Learning; Child; Computer software; des...</td>\n",
       "      <td>ARIEL - AUGMENTED REALITY FOR INTERPRETIVE AND...</td>\n",
       "      <td>NSF</td>\n",
       "      <td>NSF</td>\n",
       "      <td>NaN</td>\n",
       "      <td>0741659</td>\n",
       "      <td>9/15/2008</td>\n",
       "      <td>8/31/2012</td>\n",
       "      <td>SNYDER, STEVEN</td>\n",
       "      <td>ELINICH, KAREN; YOON, SUSAN</td>\n",
       "      <td>02</td>\n",
       "      <td>001741859</td>\n",
       "      <td>FRANKLIN INSTITUTE</td>\n",
       "      <td>PHILADELPHIA</td>\n",
       "      <td>PA</td>\n",
       "      <td>19103-1115</td>\n",
       "      <td>UNITED STATES</td>\n",
       "      <td>NaN</td>\n",
       "      <td>NaN</td>\n",
       "      <td>47.076</td>\n",
       "      <td>2008</td>\n",
       "      <td>1799699.0</td>\n",
       "      <td>NaN</td>\n",
       "      <td>1</td>\n",
       "      <td>1</td>\n",
       "      <td>1799699.0</td>\n",
       "      <td>1</td>\n",
       "      <td>institution franklin institute science museum ...</td>\n",
       "    </tr>\n",
       "    <tr>\n",
       "      <th>2</th>\n",
       "      <td>89998</td>\n",
       "      <td>Through programs (including small group conver...</td>\n",
       "      <td>Address; Age; Birth; Brain; Caregivers; Child;...</td>\n",
       "      <td>BRIGHTER FUTURES: PUBLIC DELIBERATION ABOUT TH...</td>\n",
       "      <td>NSF</td>\n",
       "      <td>NSF</td>\n",
       "      <td>NaN</td>\n",
       "      <td>0813522</td>\n",
       "      <td>9/15/2008</td>\n",
       "      <td>8/31/2011</td>\n",
       "      <td>FINK, LAURIE KLEINBAUM</td>\n",
       "      <td>CADIGAN, KAREN; ELLENBOGEN, KIRSTEN</td>\n",
       "      <td>04</td>\n",
       "      <td>061451670</td>\n",
       "      <td>SCIENCE MUSEUM OF MINNESOTA</td>\n",
       "      <td>SAINT PAUL</td>\n",
       "      <td>MN</td>\n",
       "      <td>55102-1202</td>\n",
       "      <td>UNITED STATES</td>\n",
       "      <td>NaN</td>\n",
       "      <td>NaN</td>\n",
       "      <td>47.076</td>\n",
       "      <td>2008</td>\n",
       "      <td>1505858.0</td>\n",
       "      <td>NaN</td>\n",
       "      <td>1</td>\n",
       "      <td>1</td>\n",
       "      <td>1505858.0</td>\n",
       "      <td>1</td>\n",
       "      <td>program include small group conversation citiz...</td>\n",
       "    </tr>\n",
       "    <tr>\n",
       "      <th>3</th>\n",
       "      <td>89999</td>\n",
       "      <td>In partnership with the American Chemical Soci...</td>\n",
       "      <td>Advanced Development; American; Chemicals; Che...</td>\n",
       "      <td>FOSTERING US-INTERNATIONAL COLLABORATIVE PARTN...</td>\n",
       "      <td>NSF</td>\n",
       "      <td>NSF</td>\n",
       "      <td>NaN</td>\n",
       "      <td>0838627</td>\n",
       "      <td>8/1/2008</td>\n",
       "      <td>12/31/2010</td>\n",
       "      <td>JOST, JOHN W</td>\n",
       "      <td>MILLER, BRADLEY; BOWMAN, KATHERINE</td>\n",
       "      <td>04</td>\n",
       "      <td>009059242</td>\n",
       "      <td>INTERNATIONAL UNION OF PURE AND APPLIED CHEMISTRY</td>\n",
       "      <td>DURHAM</td>\n",
       "      <td>NC</td>\n",
       "      <td>27709-3757</td>\n",
       "      <td>UNITED STATES</td>\n",
       "      <td>NaN</td>\n",
       "      <td>NaN</td>\n",
       "      <td>47.049</td>\n",
       "      <td>2008</td>\n",
       "      <td>51000.0</td>\n",
       "      <td>NaN</td>\n",
       "      <td>1</td>\n",
       "      <td>1</td>\n",
       "      <td>51000.0</td>\n",
       "      <td>1</td>\n",
       "      <td>partnership american chemical society acs nati...</td>\n",
       "    </tr>\n",
       "    <tr>\n",
       "      <th>4</th>\n",
       "      <td>90001</td>\n",
       "      <td>The Center for Molecular Interfacing (CMI) wil...</td>\n",
       "      <td>Address; Architecture; Carbon Nanotubes; Catal...</td>\n",
       "      <td>CCI PHASE I: CENTER FOR MOLECULAR INTERFACING</td>\n",
       "      <td>NSF</td>\n",
       "      <td>NSF</td>\n",
       "      <td>NaN</td>\n",
       "      <td>0847926</td>\n",
       "      <td>10/1/2008</td>\n",
       "      <td>9/30/2011</td>\n",
       "      <td>ABRUNA, HECTOR D</td>\n",
       "      <td>NaN</td>\n",
       "      <td>22</td>\n",
       "      <td>872612445</td>\n",
       "      <td>CORNELL UNIVERSITY ITHACA</td>\n",
       "      <td>ITHACA</td>\n",
       "      <td>NY</td>\n",
       "      <td>14850-2820</td>\n",
       "      <td>UNITED STATES</td>\n",
       "      <td>NaN</td>\n",
       "      <td>NaN</td>\n",
       "      <td>47.049</td>\n",
       "      <td>2008</td>\n",
       "      <td>1519821.0</td>\n",
       "      <td>NaN</td>\n",
       "      <td>1</td>\n",
       "      <td>1</td>\n",
       "      <td>1519821.0</td>\n",
       "      <td>1</td>\n",
       "      <td>center molecular interfacing cmi enable integr...</td>\n",
       "    </tr>\n",
       "  </tbody>\n",
       "</table>\n",
       "</div>"
      ],
      "text/plain": [
       "  PROJECT_ID                                           ABSTRACT  \\\n",
       "0      89996  This is a project to explore Game-based, Metap...   \n",
       "1      89997  Institution: Franklin Institute Science Museum...   \n",
       "2      89998  Through programs (including small group conver...   \n",
       "3      89999  In partnership with the American Chemical Soci...   \n",
       "4      90001  The Center for Molecular Interfacing (CMI) wil...   \n",
       "\n",
       "                                       PROJECT_TERMS  \\\n",
       "0  Achievement; analog; base; Cognitive Science; ...   \n",
       "1  Active Learning; Child; Computer software; des...   \n",
       "2  Address; Age; Birth; Brain; Caregivers; Child;...   \n",
       "3  Advanced Development; American; Chemicals; Che...   \n",
       "4  Address; Architecture; Carbon Nanotubes; Catal...   \n",
       "\n",
       "                                       PROJECT_TITLE DEPARTMENT AGENCY  \\\n",
       "0  RUI: CYGAMES: CYBER-ENABLED TEACHING AND LEARN...        NSF    NSF   \n",
       "1  ARIEL - AUGMENTED REALITY FOR INTERPRETIVE AND...        NSF    NSF   \n",
       "2  BRIGHTER FUTURES: PUBLIC DELIBERATION ABOUT TH...        NSF    NSF   \n",
       "3  FOSTERING US-INTERNATIONAL COLLABORATIVE PARTN...        NSF    NSF   \n",
       "4      CCI PHASE I: CENTER FOR MOLECULAR INTERFACING        NSF    NSF   \n",
       "\n",
       "  IC_CENTER PROJECT_NUMBER PROJECT_START_DATE PROJECT_END_DATE  \\\n",
       "0       NaN        0814512          9/15/2008        8/31/2012   \n",
       "1       NaN        0741659          9/15/2008        8/31/2012   \n",
       "2       NaN        0813522          9/15/2008        8/31/2011   \n",
       "3       NaN        0838627           8/1/2008       12/31/2010   \n",
       "4       NaN        0847926          10/1/2008        9/30/2011   \n",
       "\n",
       "  CONTACT_PI_PROJECT_LEADER                                  OTHER_PIS  \\\n",
       "0           REESE, DEBBIE D  CARTER, BEVERLY; WOOD, CHARLES; HITT, BEN   \n",
       "1            SNYDER, STEVEN                ELINICH, KAREN; YOON, SUSAN   \n",
       "2    FINK, LAURIE KLEINBAUM        CADIGAN, KAREN; ELLENBOGEN, KIRSTEN   \n",
       "3              JOST, JOHN W         MILLER, BRADLEY; BOWMAN, KATHERINE   \n",
       "4          ABRUNA, HECTOR D                                        NaN   \n",
       "\n",
       "  CONGRESSIONAL_DISTRICT DUNS_NUMBER  \\\n",
       "0                     01   068719400   \n",
       "1                     02   001741859   \n",
       "2                     04   061451670   \n",
       "3                     04   009059242   \n",
       "4                     22   872612445   \n",
       "\n",
       "                                   ORGANIZATION_NAME ORGANIZATION_CITY  \\\n",
       "0                         WHEELING JESUIT UNIVERSITY          WHEELING   \n",
       "1                                 FRANKLIN INSTITUTE      PHILADELPHIA   \n",
       "2                        SCIENCE MUSEUM OF MINNESOTA        SAINT PAUL   \n",
       "3  INTERNATIONAL UNION OF PURE AND APPLIED CHEMISTRY            DURHAM   \n",
       "4                          CORNELL UNIVERSITY ITHACA            ITHACA   \n",
       "\n",
       "  ORGANIZATION_STATE ORGANIZATION_ZIP ORGANIZATION_COUNTRY BUDGET_START_DATE  \\\n",
       "0                 WV       26003-6243        UNITED STATES               NaN   \n",
       "1                 PA       19103-1115        UNITED STATES               NaN   \n",
       "2                 MN       55102-1202        UNITED STATES               NaN   \n",
       "3                 NC       27709-3757        UNITED STATES               NaN   \n",
       "4                 NY       14850-2820        UNITED STATES               NaN   \n",
       "\n",
       "  BUDGET_END_DATE CFDA_CODE    FY  FY_TOTAL_COST  FY_TOTAL_COST_SUB_PROJECTS  \\\n",
       "0             NaN    47.076  2008      1999467.0                         NaN   \n",
       "1             NaN    47.076  2008      1799699.0                         NaN   \n",
       "2             NaN    47.076  2008      1505858.0                         NaN   \n",
       "3             NaN    47.049  2008        51000.0                         NaN   \n",
       "4             NaN    47.049  2008      1519821.0                         NaN   \n",
       "\n",
       "   ORG_COUNT  PI_COUNT  FY_TOTAL_COST_SUM  NUM_RECORDS  \\\n",
       "0          1         1          1999467.0            1   \n",
       "1          1         1          1799699.0            1   \n",
       "2          1         1          1505858.0            1   \n",
       "3          1         1            51000.0            1   \n",
       "4          1         1          1519821.0            1   \n",
       "\n",
       "                                        final_tokens  \n",
       "0  project explore game base metaphor enhanced ga...  \n",
       "1  institution franklin institute science museum ...  \n",
       "2  program include small group conversation citiz...  \n",
       "3  partnership american chemical society acs nati...  \n",
       "4  center molecular interfacing cmi enable integr...  "
      ]
     },
     "execution_count": 3,
     "metadata": {},
     "output_type": "execute_result"
    }
   ],
   "source": [
    "df.head()"
   ]
  },
  {
   "cell_type": "code",
   "execution_count": 4,
   "metadata": {},
   "outputs": [
    {
     "data": {
      "text/plain": [
       "(1143869, 30)"
      ]
     },
     "execution_count": 4,
     "metadata": {},
     "output_type": "execute_result"
    }
   ],
   "source": [
    "df.shape"
   ]
  },
  {
   "cell_type": "code",
   "execution_count": 5,
   "metadata": {},
   "outputs": [],
   "source": [
    "docs = df[\"final_tokens\"]  "
   ]
  },
  {
   "cell_type": "code",
   "execution_count": null,
   "metadata": {},
   "outputs": [],
   "source": []
  },
  {
   "cell_type": "code",
   "execution_count": null,
   "metadata": {},
   "outputs": [],
   "source": []
  },
  {
   "cell_type": "markdown",
   "metadata": {},
   "source": [
    "### Term Matching"
   ]
  },
  {
   "cell_type": "code",
   "execution_count": 52,
   "metadata": {},
   "outputs": [],
   "source": [
    "# new approach to grab all \"bioeconomy\" matches\n",
    "\n",
    "term_match_idx = []\n",
    "\n",
    "for i, abstract in enumerate(docs):\n",
    "    if ('bioeconomy' in abstract): \n",
    "        term_match_idx.append(i)\n",
    "        "
   ]
  },
  {
   "cell_type": "code",
   "execution_count": 53,
   "metadata": {},
   "outputs": [
    {
     "data": {
      "text/plain": [
       "94"
      ]
     },
     "execution_count": 53,
     "metadata": {},
     "output_type": "execute_result"
    }
   ],
   "source": [
    "len(term_match_idx) "
   ]
  },
  {
   "cell_type": "code",
   "execution_count": 42,
   "metadata": {},
   "outputs": [],
   "source": [
    "# new approach to grab all \"bioeconomy\" matches\n",
    "\n",
    "term_match_idx = []\n",
    "\n",
    "for i, abstract in enumerate(docs):\n",
    "    if ('bioenergy' in abstract): \n",
    "        term_match_idx.append(i)\n",
    "        "
   ]
  },
  {
   "cell_type": "code",
   "execution_count": 43,
   "metadata": {},
   "outputs": [
    {
     "data": {
      "text/plain": [
       "1210"
      ]
     },
     "execution_count": 43,
     "metadata": {},
     "output_type": "execute_result"
    }
   ],
   "source": [
    "len(term_match_idx) "
   ]
  },
  {
   "cell_type": "code",
   "execution_count": null,
   "metadata": {},
   "outputs": [],
   "source": []
  },
  {
   "cell_type": "code",
   "execution_count": null,
   "metadata": {},
   "outputs": [],
   "source": []
  },
  {
   "cell_type": "code",
   "execution_count": null,
   "metadata": {},
   "outputs": [],
   "source": []
  },
  {
   "cell_type": "markdown",
   "metadata": {},
   "source": [
    "#### Word cloud"
   ]
  },
  {
   "cell_type": "code",
   "execution_count": 12,
   "metadata": {},
   "outputs": [],
   "source": [
    "# Find doc-term matrix\n",
    "\n",
    "vectorizer = CountVectorizer()\n",
    "dtm = vectorizer.fit_transform(docs)\n",
    "\n",
    "terms = vectorizer.get_feature_names()"
   ]
  },
  {
   "cell_type": "code",
   "execution_count": 13,
   "metadata": {},
   "outputs": [
    {
     "data": {
      "text/plain": [
       "(1143869, 1629626)"
      ]
     },
     "execution_count": 13,
     "metadata": {},
     "output_type": "execute_result"
    }
   ],
   "source": [
    "dtm.shape"
   ]
  },
  {
   "cell_type": "code",
   "execution_count": 14,
   "metadata": {},
   "outputs": [
    {
     "name": "stdout",
     "output_type": "stream",
     "text": [
      "bioeconomy\n",
      "1\n"
     ]
    }
   ],
   "source": [
    "count = 0\n",
    "\n",
    "for term in terms:\n",
    "    if 'bioeconomy' in term:\n",
    "        print(term)\n",
    "        count = count + 1\n",
    "        \n",
    "print(count)"
   ]
  },
  {
   "cell_type": "code",
   "execution_count": 15,
   "metadata": {},
   "outputs": [],
   "source": [
    "term_counts = dtm.sum(axis=0)"
   ]
  },
  {
   "cell_type": "code",
   "execution_count": 18,
   "metadata": {},
   "outputs": [],
   "source": [
    "d = {}\n",
    "\n",
    "for i, term in enumerate(terms):\n",
    "    if 'bioeconomy' in term:\n",
    "        #print(term)\n",
    "        d[term] = term_counts[0,i]"
   ]
  },
  {
   "cell_type": "code",
   "execution_count": 19,
   "metadata": {},
   "outputs": [
    {
     "data": {
      "text/plain": [
       "{'bioeconomy': 136}"
      ]
     },
     "execution_count": 19,
     "metadata": {},
     "output_type": "execute_result"
    }
   ],
   "source": [
    "d"
   ]
  },
  {
   "cell_type": "code",
   "execution_count": 20,
   "metadata": {},
   "outputs": [
    {
     "data": {
      "image/png": "[encoded data removed]",
      "text/plain": [
       "<Figure size 432x288 with 1 Axes>"
      ]
     },
     "metadata": {
      "needs_background": "light"
     },
     "output_type": "display_data"
    }
   ],
   "source": [
    "from wordcloud import WordCloud\n",
    "\n",
    "wordcloud = WordCloud(width=900, height= 500, scale=1, max_words = 25, background_color='white').generate_from_frequencies(d)\n",
    "\n",
    "plt.imshow(wordcloud, interpolation='bilinear')\n",
    "plt.axis(\"off\")\n",
    "#plt.savefig(\"pan_wc.png\", dpi = 800, bbox_inches = \"tight\")\n",
    "#plt.savefig(\"pan_wc.pdf\", dpi = 800, bbox_inches = \"tight\")\n",
    "plt.show()"
   ]
  },
  {
   "cell_type": "code",
   "execution_count": null,
   "metadata": {},
   "outputs": [],
   "source": []
  },
  {
   "cell_type": "code",
   "execution_count": null,
   "metadata": {},
   "outputs": [],
   "source": []
  },
  {
   "cell_type": "markdown",
   "metadata": {},
   "source": [
    "## Latent Semantic Indexing (LSI)"
   ]
  },
  {
   "cell_type": "markdown",
   "metadata": {},
   "source": [
    "### Helper Functions"
   ]
  },
  {
   "cell_type": "code",
   "execution_count": 15,
   "metadata": {},
   "outputs": [],
   "source": [
    "# Create binary query vector \n",
    "\n",
    "def create_query(words, terms):\n",
    "    \n",
    "    # words: search query words\n",
    "    # terms: terms in corpus\n",
    "    \n",
    "    q = np.zeros(len(terms))  # number of terms\n",
    "\n",
    "    idx = []\n",
    "    for word in query_words:\n",
    "        idx.append(terms.index(word))\n",
    "\n",
    "    q[idx] = 1\n",
    "    \n",
    "    return q"
   ]
  },
  {
   "cell_type": "code",
   "execution_count": 16,
   "metadata": {},
   "outputs": [],
   "source": [
    "def return_top_abstracts(scores, top_n):\n",
    "    \n",
    "    '''\n",
    "    docs: Series that contains abstract\n",
    "    scores: scores of abstracts\n",
    "    top_n: return the top_n abstracts given by idx, if top_n = -1 return all abstracts\n",
    "    '''\n",
    "    # sort scores in descending order\n",
    "    scores_sorted_idx = np.argsort(scores)[::-1]\n",
    "    \n",
    "    if top_n == -1:\n",
    "        #n = sum(scores > 0)\n",
    "        ix = scores_sorted_idx #[:n]\n",
    "    else:\n",
    "        ix = scores_sorted_idx[:top_n]\n",
    "    \n",
    "    #print(ix[0:10])\n",
    "    \n",
    "    return ix\n",
    "    "
   ]
  },
  {
   "cell_type": "code",
   "execution_count": 17,
   "metadata": {},
   "outputs": [],
   "source": [
    "def create_result_df(abstracts, scores):\n",
    "    \n",
    "    df = pd.DataFrame()\n",
    "    df[\"abstracts\"] = abstracts\n",
    "    df[\"scores\"] = scores\n",
    "    \n",
    "    return df"
   ]
  },
  {
   "cell_type": "code",
   "execution_count": null,
   "metadata": {},
   "outputs": [],
   "source": []
  },
  {
   "cell_type": "code",
   "execution_count": 18,
   "metadata": {},
   "outputs": [],
   "source": [
    "# Find doc-term matrix using TF-IDF weighting\n",
    "\n",
    "tf_idf_vectorizer = TfidfVectorizer()\n",
    "tf_idf = tf_idf_vectorizer.fit_transform(docs)\n",
    "\n",
    "tf_idf_terms = tf_idf_vectorizer.get_feature_names()"
   ]
  },
  {
   "cell_type": "code",
   "execution_count": 19,
   "metadata": {},
   "outputs": [],
   "source": [
    "# CHANGE QUERY WORDS HERE\n",
    "\n",
    "query_words = []\n",
    "\n",
    "for word in tf_idf_terms:\n",
    "    if 'pandemic' in word:\n",
    "        query_words.append(word)\n",
    "\n",
    "#query_words = ['pandemic', 'pandemics'] \n",
    "              \n",
    "q = create_query(query_words, tf_idf_terms)"
   ]
  },
  {
   "cell_type": "code",
   "execution_count": 20,
   "metadata": {},
   "outputs": [
    {
     "data": {
      "text/plain": [
       "['1918_influenza_pandemic',\n",
       " '1918_pandemic',\n",
       " '1957_1968_pandemic',\n",
       " '2009_pandemic_h1n1',\n",
       " 'aidspandemic',\n",
       " 'andpandemic',\n",
       " 'anotherpandemic',\n",
       " 'apandemic',\n",
       " 'assesspandemic',\n",
       " 'betweenpandemic',\n",
       " 'bothpandemic',\n",
       " 'causedpandemic',\n",
       " 'chikvpandemic',\n",
       " 'cov_2pandemic',\n",
       " 'covid19_pandemic',\n",
       " 'covid19pandemic',\n",
       " 'covid_19_pandemic',\n",
       " 'covid_19pandemic',\n",
       " 'covid_19pandemic5',\n",
       " 'covid_pandemic',\n",
       " 'covidpandemic',\n",
       " 'criticalpandemic',\n",
       " 'currentpandemic',\n",
       " 'detetermrminineififththesuprragenomeofftthepandemiciccllonesiis',\n",
       " 'devastatingpandemic',\n",
       " 'ebolapandemic',\n",
       " 'emergingpandemic',\n",
       " 'escalatingpandemic',\n",
       " 'establishingpandemic',\n",
       " 'forpandemic',\n",
       " 'frompandemic',\n",
       " 'futurepandemic',\n",
       " 'globalpandemic',\n",
       " 'greatpandemic2',\n",
       " 'growingpandemic',\n",
       " 'h1n1_pandemic',\n",
       " 'h1n1pandemic',\n",
       " 'hivpandemic',\n",
       " 'howpandemic',\n",
       " 'humanpandemic',\n",
       " 'increasedpandemic',\n",
       " 'influenzapandemic',\n",
       " 'inpandemic',\n",
       " 'interpandemic',\n",
       " 'interpandemic_pandemic',\n",
       " 'majorpandemic',\n",
       " 'multiclade_recombinant_pandemic',\n",
       " 'newpandemic',\n",
       " 'non_pandemic',\n",
       " 'occasional_pandemic',\n",
       " 'occasionalpandemic',\n",
       " 'ofpandemic',\n",
       " 'ofseasonal_pandemic',\n",
       " 'ongoingpandemic',\n",
       " 'pandemic',\n",
       " 'pandemic1',\n",
       " 'pandemic2',\n",
       " 'pandemic2009',\n",
       " 'pandemic57499',\n",
       " 'pandemic_1918',\n",
       " 'pandemic_1918_1919',\n",
       " 'pandemic_1957',\n",
       " 'pandemic_flu',\n",
       " 'pandemic_h1n1',\n",
       " 'pandemic_preparedness',\n",
       " 'pandemic_sobering',\n",
       " 'pandemically',\n",
       " 'pandemicand',\n",
       " 'pandemiccompare',\n",
       " 'pandemiccovid_19',\n",
       " 'pandemicdisease',\n",
       " 'pandemicemergence',\n",
       " 'pandemicflu',\n",
       " 'pandemich3n2',\n",
       " 'pandemicha',\n",
       " 'pandemichas',\n",
       " 'pandemichave',\n",
       " 'pandemichuman',\n",
       " 'pandemicin',\n",
       " 'pandemicinfection',\n",
       " 'pandemicinfluence',\n",
       " 'pandemicinfluenza',\n",
       " 'pandemicinvolve',\n",
       " 'pandemiclike',\n",
       " 'pandemicon',\n",
       " 'pandemicpose',\n",
       " 'pandemicpreparedness',\n",
       " 'pandemicprogresse',\n",
       " 'pandemicproportion',\n",
       " 'pandemicremain',\n",
       " 'pandemics',\n",
       " 'pandemics18',\n",
       " 'pandemicsabstractthe',\n",
       " 'pandemicsetting',\n",
       " 'pandemicsh1n1',\n",
       " 'pandemicstrain',\n",
       " 'pandemicthat',\n",
       " 'pandemicthis',\n",
       " 'pandemicthreat',\n",
       " 'pandemicvaccine',\n",
       " 'pandemicwill',\n",
       " 'pandemicwith',\n",
       " 'possiblepandemic',\n",
       " 'prepandemic',\n",
       " 'prepandemic_vaccination',\n",
       " 'recurrentpandemic',\n",
       " 'seasonal_pandemic',\n",
       " 'severepandemic',\n",
       " 'thecovid_19_pandemic',\n",
       " 'thepandemic',\n",
       " 'thispandemic',\n",
       " 'threepandemic',\n",
       " 'understandpandemic',\n",
       " 'withpandemic',\n",
       " 'worldwide_pandemic_1957']"
      ]
     },
     "execution_count": 20,
     "metadata": {},
     "output_type": "execute_result"
    }
   ],
   "source": [
    "query_words"
   ]
  },
  {
   "cell_type": "code",
   "execution_count": 21,
   "metadata": {},
   "outputs": [
    {
     "data": {
      "text/plain": [
       "115"
      ]
     },
     "execution_count": 21,
     "metadata": {},
     "output_type": "execute_result"
    }
   ],
   "source": [
    "len(query_words)"
   ]
  },
  {
   "cell_type": "code",
   "execution_count": null,
   "metadata": {},
   "outputs": [],
   "source": []
  },
  {
   "cell_type": "code",
   "execution_count": 22,
   "metadata": {},
   "outputs": [],
   "source": [
    "# Find the Truncated SVD of the TF-IDF matrix\n",
    "\n",
    "lsa = TruncatedSVD(n_components=50, random_state=1)  # CHANGE THE NUMBER OF COMPONENTS - NOTE: MORE COMPONENTS \n",
    "                                                      # GIVES YOU A MORE ACCURATE APPROXIMATION OF THE DOC-TERM \n",
    "                                                      # MATRIX, BUT IS ALSO MORE EXPENSIVE AND MAY NOT LEAD TO THE \n",
    "                                                      # BEST INFO RETRIEVAL RESULTS.\n",
    "USigma = lsa.fit_transform(tf_idf)\n",
    "Vtrans = lsa.components_"
   ]
  },
  {
   "cell_type": "code",
   "execution_count": 23,
   "metadata": {},
   "outputs": [],
   "source": [
    "S = lsa.singular_values_"
   ]
  },
  {
   "cell_type": "code",
   "execution_count": 24,
   "metadata": {},
   "outputs": [
    {
     "data": {
      "text/plain": [
       "array([162.75474643,  99.18171844,  72.81242855,  68.68440984,\n",
       "        66.50219492,  62.6294814 ,  58.56022561,  54.69338407,\n",
       "        51.52434424,  50.36840028,  48.64617919,  47.53183664,\n",
       "        45.69105895,  43.9589213 ,  43.67628345,  43.4223868 ,\n",
       "        41.37011445,  40.76775442,  40.00801983,  39.73592333,\n",
       "        39.01442429,  38.77479471,  38.24795062,  37.19103778,\n",
       "        36.98271593,  36.4097371 ,  36.32088637,  35.87097828,\n",
       "        35.66275333,  35.04155178,  34.90376575,  34.67921138,\n",
       "        34.52276579,  34.39432847,  34.0049888 ,  33.23316325,\n",
       "        33.17674194,  32.83536346,  32.66038544,  32.61196385,\n",
       "        32.37058852,  32.01287748,  31.93379447,  31.76628275,\n",
       "        31.59189268,  31.34461234,  30.88534793,  30.62092066,\n",
       "        30.39109506,  30.3073787 ])"
      ]
     },
     "execution_count": 24,
     "metadata": {},
     "output_type": "execute_result"
    }
   ],
   "source": [
    "S"
   ]
  },
  {
   "cell_type": "code",
   "execution_count": null,
   "metadata": {},
   "outputs": [],
   "source": []
  },
  {
   "cell_type": "code",
   "execution_count": 25,
   "metadata": {},
   "outputs": [],
   "source": [
    "# transform query to be in same space as documents\n",
    "\n",
    "q = q.reshape(1,-1)  # changes (n,) vector to (1,n)\n",
    "qhat = lsa.transform(q)"
   ]
  },
  {
   "cell_type": "code",
   "execution_count": 26,
   "metadata": {},
   "outputs": [
    {
     "name": "stdout",
     "output_type": "stream",
     "text": [
      "(1, 50)\n",
      "(1143869, 50)\n",
      "(50, 1629626)\n"
     ]
    }
   ],
   "source": [
    "print(qhat.shape)\n",
    "print(USigma.shape)\n",
    "print(Vtrans.shape)"
   ]
  },
  {
   "cell_type": "code",
   "execution_count": 27,
   "metadata": {},
   "outputs": [],
   "source": [
    "lsa_scores = cosine_similarity(qhat, USigma)  "
   ]
  },
  {
   "cell_type": "code",
   "execution_count": 28,
   "metadata": {},
   "outputs": [
    {
     "data": {
      "text/plain": [
       "662812"
      ]
     },
     "execution_count": 28,
     "metadata": {},
     "output_type": "execute_result"
    }
   ],
   "source": [
    "sum(lsa_scores[0] > 0)\n",
    "\n",
    "# 50: 662812"
   ]
  },
  {
   "cell_type": "code",
   "execution_count": 29,
   "metadata": {},
   "outputs": [
    {
     "data": {
      "image/png": "[encoded data removed]",
      "text/plain": [
       "<Figure size 432x288 with 1 Axes>"
      ]
     },
     "metadata": {
      "needs_background": "light"
     },
     "output_type": "display_data"
    }
   ],
   "source": [
    "plt.hist(lsa_scores[0], bins = 30);\n",
    "#plt.xlim(0.9, 1.1)"
   ]
  },
  {
   "cell_type": "code",
   "execution_count": 30,
   "metadata": {},
   "outputs": [
    {
     "data": {
      "text/plain": [
       "2635"
      ]
     },
     "execution_count": 30,
     "metadata": {},
     "output_type": "execute_result"
    }
   ],
   "source": [
    "#np.percentile(lsa_scores[0], 93)\n",
    "\n",
    "sum(lsa_scores[0] >= 0.70)#/len(lsa_scores[0])\n",
    "\n",
    "# 50: 13556 \n",
    "# 70: 2635\n",
    "# 75: 1432"
   ]
  },
  {
   "cell_type": "code",
   "execution_count": 31,
   "metadata": {},
   "outputs": [
    {
     "data": {
      "text/plain": [
       "0.700051730783248"
      ]
     },
     "execution_count": 31,
     "metadata": {},
     "output_type": "execute_result"
    }
   ],
   "source": [
    "np.percentile(lsa_scores[0], 99.77)"
   ]
  },
  {
   "cell_type": "code",
   "execution_count": 32,
   "metadata": {},
   "outputs": [
    {
     "data": {
      "text/plain": [
       "0.2303585463020678"
      ]
     },
     "execution_count": 32,
     "metadata": {},
     "output_type": "execute_result"
    }
   ],
   "source": [
    "100*2635/len(lsa_scores[0])"
   ]
  },
  {
   "cell_type": "code",
   "execution_count": null,
   "metadata": {},
   "outputs": [],
   "source": []
  },
  {
   "cell_type": "code",
   "execution_count": null,
   "metadata": {},
   "outputs": [],
   "source": []
  },
  {
   "cell_type": "code",
   "execution_count": 33,
   "metadata": {},
   "outputs": [
    {
     "data": {
      "text/plain": [
       "array([0.94010028, 0.93318869, 0.93318869, 0.93318869, 0.93318869,\n",
       "       0.93318869, 0.93178611, 0.93178611, 0.92631246, 0.92631246])"
      ]
     },
     "execution_count": 33,
     "metadata": {},
     "output_type": "execute_result"
    }
   ],
   "source": [
    "lsa_idx = return_top_abstracts(lsa_scores[0], -1)  # CHANGE NUMBER OF TOP DOCS RETURNED \n",
    "top_lsa_abstracts = docs[lsa_idx]\n",
    "\n",
    "# top scores\n",
    "lsa_scores[0][lsa_idx][0:10]"
   ]
  },
  {
   "cell_type": "code",
   "execution_count": 34,
   "metadata": {},
   "outputs": [
    {
     "data": {
      "text/plain": [
       "1010234    objective identify host viral genetic determin...\n",
       "116545     influenza virus niaid class priority pathogen ...\n",
       "18918      influenza virus niaid class priority pathogen ...\n",
       "1083940    project overarching goal prometheus consortium...\n",
       "986455     project overarching goal prometheus consortium...\n",
       "276292     providedviruse antiviral vaccine enter body sk...\n",
       "62364      providedviruse antiviral vaccine enter body sk...\n",
       "171836     providedviruse antiviral vaccine enter body sk...\n",
       "441132     providedviruse antiviral vaccine enter body sk...\n",
       "366014     providedviruse antiviral vaccine enter body sk...\n",
       "813360     recently study attempt identify viral pathogen...\n",
       "915586     recently study attempt identify viral pathogen...\n",
       "1021163    recently study attempt identify viral pathogen...\n",
       "760676     recently study attempt identify viral pathogen...\n",
       "93498      dengue serotype vaccine development live atten...\n",
       "313560     influenza virus negative sense single strand r...\n",
       "231680     influenza virus negative sense single strand r...\n",
       "1055766    past fiscal year perform study viral pathogen ...\n",
       "25521      aging associate dramatic increase complication...\n",
       "274675     aging associate dramatic increase complication...\n",
       "124033     aging associate dramatic increase complication...\n",
       "264173     filovirus_ebola ebov virus marburg_marv virus ...\n",
       "531710     filovirus_ebola ebov virus marburg_marv virus ...\n",
       "329397     filovirus_ebola ebov virus marburg_marv virus ...\n",
       "440446     filovirus_ebola ebov virus marburg_marv virus ...\n",
       "Name: final_tokens, dtype: object"
      ]
     },
     "execution_count": 34,
     "metadata": {},
     "output_type": "execute_result"
    }
   ],
   "source": [
    "top_lsa_abstracts[2625:2650]"
   ]
  },
  {
   "cell_type": "code",
   "execution_count": 35,
   "metadata": {},
   "outputs": [
    {
     "data": {
      "text/plain": [
       "'recently study attempt identify viral pathogen restrict testing previously know virus detectable cell culture pcr stain antigen specific antibody sero_conversion testing restrict characterize virus largely discover cytopathic effect cell grow vitro introduction high throughput dna sequence allow metagenomic approach identify virus present reveal large number previously unknown virus belong different viral family particularly fece human wild domesticate animal high sensitivity nucleic_acid_testing reveal high rate enteric viral infection diarrheic healthy human animal metagenomic bioinformatic approach generate comprehensive list enteric virus present large cohort rhesus_macaque idiopathic chronic diarrhea icd common inflammatory condition colon resemble human ulcerative_colitis order identify candidate viral pathogen associate unexplained disease classic case control study compare presence viral concentration virus present large number animal icd healthy control viral replication virus anatomical site tissue pathology animal affect icd test situ_hybridization candidate viral pathogen strongly associate icd large number animal orally inoculate juvenile macaque development icd viral shedding viral replication colon closely monitor apply power metagenomic bioinformatic tool combine classic epidemiological study inclusive test role virus common chronic primate disease affect rhesus_macaque research colony large number animal sample carefully select veterinary science expert viral nucleic_acid comprehensively analyze follow animal inoculation identify viral pathogen study advance understanding viral diversity large primate population demonstrate utility metagenomic identify virus present subsequent disease association study compare viral replication affected case healthy control identification viruses cause icd assist manage health non human primate specie biomedical research provide model system virally induce chronic diarrhea colitis viral target vaccine development control major source mortality animal variability primate center'"
      ]
     },
     "execution_count": 35,
     "metadata": {},
     "output_type": "execute_result"
    }
   ],
   "source": [
    "top_lsa_abstracts.iloc[2635]"
   ]
  },
  {
   "cell_type": "code",
   "execution_count": 36,
   "metadata": {},
   "outputs": [
    {
     "data": {
      "text/plain": [
       "array([0.70014147, 0.70011195, 0.70011195, 0.70006402, 0.70006402,\n",
       "       0.70005173, 0.70005173, 0.70005173, 0.70005173, 0.70005173,\n",
       "       0.69998791, 0.69998791, 0.69998791, 0.69998791, 0.69997282])"
      ]
     },
     "execution_count": 36,
     "metadata": {},
     "output_type": "execute_result"
    }
   ],
   "source": [
    "lsa_scores[0][lsa_idx][2625:2640]"
   ]
  },
  {
   "cell_type": "code",
   "execution_count": null,
   "metadata": {},
   "outputs": [],
   "source": []
  },
  {
   "cell_type": "code",
   "execution_count": null,
   "metadata": {},
   "outputs": [],
   "source": []
  },
  {
   "cell_type": "markdown",
   "metadata": {},
   "source": [
    "### How do LSI and Term Matching Overlap?"
   ]
  },
  {
   "cell_type": "code",
   "execution_count": 37,
   "metadata": {},
   "outputs": [
    {
     "name": "stdout",
     "output_type": "stream",
     "text": [
      "847\n",
      "4936\n"
     ]
    }
   ],
   "source": [
    "# look at the intersection/difference -- LSI seems to pick up mainly influenza\n",
    "\n",
    "temp1 = list(set(term_match_idx).intersection(set(lsa_idx[0:2635])))\n",
    "print(len(temp1))\n",
    "temp2 = list(set(term_match_idx) - set(lsa_idx[0:2635]))\n",
    "print(len(temp2))"
   ]
  },
  {
   "cell_type": "code",
   "execution_count": 38,
   "metadata": {},
   "outputs": [
    {
     "data": {
      "text/plain": [
       "'DESCRIPTION (provided by applicant): Current influenza vaccines are targeted to induce immune responses to the variable antigens hemagglutinin and neuraminidase, which are effective for strain-specific protection. However, such vaccination does not provide protection against the emergence of antigenically distinct strains as shown by the failure to control the 2009 H1N1 pandemic at the early stage of its outbreak. The goal of our proposed project is to develop novel influenza vaccines that will induce broadly cross protective immunity against antigenically drifted strains in the absence of adjuvants. To achieve this goal, novel approaches will be proposed to develop a highly conserved antigenic target in an immunogenic form and to incorporate this into the influenza vaccination. A promising candidate as a conserved antigenic target is the membrane protein M2 containing a highly conserved extracellular domain. M2 on virus-like particles (VLPs) in a membrane-anchored form (M2 VLPs) will be in a conformation enabling M2 to be immunogenic and confer broadly cross-protective M2 immunity even without an adjuvant. We hypothesize that influenza vaccines containing highly conserved antigenic targets such as influenza M2 VLPs will induce broadly cross-protective and heterosubtypic immunity. To test this hypothesis, in specific aim 1, recombinant VLP vaccines containing novel constructs of the tetrameric M2 extracellular domain in a membrane-anchored chimeric form will be generated and their cross protective efficacy will be evaluated in comparison with the wild type M2 protein. We will also propose a novel approach to overcome the limitation of strain-specific protection by current vaccines and weak cross-protective immunity to M2. Specific aim 2 will investigate action mechanisms by which conserved M2 based immunity enhances the breadth of cross protection. Also, immune correlates contributing to cross protection will be determined using traditional and novel approaches including depletion of specific immune components. In specific aim 3, the cross-protective efficacy of promising vaccine candidates and the duration of cross protection will be further evaluated in ferrets, which is a more relevant animal model for testing pre-clinical vaccines for humans. Improving the breadth of cross protective immunity against influenza viruses after vaccination without using adjuvant is a desirable and practical approach applicable to humans and critically important for advancing the vaccine field.'"
      ]
     },
     "execution_count": 38,
     "metadata": {},
     "output_type": "execute_result"
    }
   ],
   "source": [
    "df['ABSTRACT'].iloc[temp2[2110]]"
   ]
  },
  {
   "cell_type": "code",
   "execution_count": null,
   "metadata": {},
   "outputs": [],
   "source": []
  },
  {
   "cell_type": "code",
   "execution_count": 39,
   "metadata": {},
   "outputs": [
    {
     "data": {
      "text/plain": [
       "1143869"
      ]
     },
     "execution_count": 39,
     "metadata": {},
     "output_type": "execute_result"
    }
   ],
   "source": [
    "len(lsa_idx)"
   ]
  },
  {
   "cell_type": "code",
   "execution_count": 40,
   "metadata": {},
   "outputs": [],
   "source": [
    "# find term matching indices in sorted lsa scores list\n",
    "\n",
    "mask = np.isin(lsa_idx, term_match_idx)\n",
    "tm_in_lsa_idx = np.nonzero(mask)  # returns tuple of length 1 (mask is 1d)\n",
    "tm_lsa_score = lsa_scores[0][lsa_idx[tm_in_lsa_idx]]        "
   ]
  },
  {
   "cell_type": "code",
   "execution_count": 41,
   "metadata": {},
   "outputs": [
    {
     "data": {
      "text/plain": [
       "count    5783.000000\n",
       "mean        0.346336\n",
       "std         0.276067\n",
       "min        -0.104371\n",
       "25%         0.099012\n",
       "50%         0.295506\n",
       "75%         0.584152\n",
       "max         0.931786\n",
       "dtype: float64"
      ]
     },
     "execution_count": 41,
     "metadata": {},
     "output_type": "execute_result"
    }
   ],
   "source": [
    "pd.Series(tm_lsa_score).describe()"
   ]
  },
  {
   "cell_type": "code",
   "execution_count": 42,
   "metadata": {},
   "outputs": [
    {
     "data": {
      "text/plain": [
       "count    5.783000e+03\n",
       "mean     1.467787e+05\n",
       "std      2.456746e+05\n",
       "min      6.000000e+00\n",
       "25%      7.461500e+03\n",
       "50%      3.648300e+04\n",
       "75%      1.405345e+05\n",
       "max      1.121347e+06\n",
       "dtype: float64"
      ]
     },
     "execution_count": 42,
     "metadata": {},
     "output_type": "execute_result"
    }
   ],
   "source": [
    "# tm_in_lsa_idx marks the index in lsa_idx where the term matching elemetns live.  \n",
    "# lsa_idx is sorted (largest to smallest scores)!\n",
    "\n",
    "pd.Series(tm_in_lsa_idx[0]).describe()"
   ]
  },
  {
   "cell_type": "code",
   "execution_count": 43,
   "metadata": {},
   "outputs": [
    {
     "name": "stdout",
     "output_type": "stream",
     "text": [
      "140534.5\n"
     ]
    }
   ],
   "source": [
    "p = np.percentile(tm_in_lsa_idx[0],75)\n",
    "print(p)"
   ]
  },
  {
   "cell_type": "code",
   "execution_count": 44,
   "metadata": {},
   "outputs": [
    {
     "data": {
      "text/plain": [
       "12.285891129141536"
      ]
     },
     "execution_count": 44,
     "metadata": {},
     "output_type": "execute_result"
    }
   ],
   "source": [
    "# lsa_idx has length of df.  \n",
    "\n",
    "100*p/len(df)"
   ]
  },
  {
   "cell_type": "code",
   "execution_count": 45,
   "metadata": {},
   "outputs": [
    {
     "data": {
      "text/plain": [
       "12.285847417842428"
      ]
     },
     "execution_count": 45,
     "metadata": {},
     "output_type": "execute_result"
    }
   ],
   "source": [
    "100*140534/len(df)"
   ]
  },
  {
   "cell_type": "code",
   "execution_count": null,
   "metadata": {},
   "outputs": [],
   "source": []
  },
  {
   "cell_type": "code",
   "execution_count": null,
   "metadata": {},
   "outputs": [],
   "source": []
  },
  {
   "cell_type": "markdown",
   "metadata": {},
   "source": [
    "## Create filtered corpus\n",
    "\n",
    "We use the results of our two information retrieval techniques to create a new, smaller corpus that only contains abstracts relevant to the query. "
   ]
  },
  {
   "cell_type": "code",
   "execution_count": 21,
   "metadata": {},
   "outputs": [],
   "source": [
    "docs_ix = np.concatenate([term_match_idx]) #, lsa_idx[0:2635]]) "
   ]
  },
  {
   "cell_type": "code",
   "execution_count": 22,
   "metadata": {},
   "outputs": [],
   "source": [
    "docs_idx = np.unique(docs_ix)"
   ]
  },
  {
   "cell_type": "code",
   "execution_count": 23,
   "metadata": {},
   "outputs": [
    {
     "data": {
      "text/plain": [
       "(94,)"
      ]
     },
     "execution_count": 23,
     "metadata": {},
     "output_type": "execute_result"
    }
   ],
   "source": [
    "docs_idx.shape"
   ]
  },
  {
   "cell_type": "code",
   "execution_count": null,
   "metadata": {},
   "outputs": [],
   "source": []
  },
  {
   "cell_type": "markdown",
   "metadata": {},
   "source": [
    "**create case-study corpuses**"
   ]
  },
  {
   "cell_type": "code",
   "execution_count": 24,
   "metadata": {},
   "outputs": [],
   "source": [
    "filt_corpus = df.loc[docs_idx, :]  # could have also used iloc since we reset the dataframe index after ingestion"
   ]
  },
  {
   "cell_type": "code",
   "execution_count": 25,
   "metadata": {},
   "outputs": [
    {
     "data": {
      "text/plain": [
       "(94, 30)"
      ]
     },
     "execution_count": 25,
     "metadata": {},
     "output_type": "execute_result"
    }
   ],
   "source": [
    "filt_corpus.shape"
   ]
  },
  {
   "cell_type": "code",
   "execution_count": 51,
   "metadata": {},
   "outputs": [],
   "source": [
    "#filt_corpus.to_pickle(\"./pandemic_corpus.pkl\")\n",
    "\n",
    "#pandemic_corpus = pd.read_pickle(\"/home/kjl5t/dspg20RnD/data/final/dashboard_data/pandemic_corpus.pkl\")\n",
    "#pandemic_corpus.shape"
   ]
  },
  {
   "cell_type": "code",
   "execution_count": 26,
   "metadata": {},
   "outputs": [],
   "source": [
    "text = filt_corpus[\"final_tokens\"]"
   ]
  },
  {
   "cell_type": "code",
   "execution_count": null,
   "metadata": {},
   "outputs": [],
   "source": []
  },
  {
   "cell_type": "code",
   "execution_count": null,
   "metadata": {},
   "outputs": [],
   "source": []
  },
  {
   "cell_type": "markdown",
   "metadata": {},
   "source": [
    "## Topic Modeling with relevant pandemic abstracts"
   ]
  },
  {
   "cell_type": "code",
   "execution_count": 27,
   "metadata": {},
   "outputs": [],
   "source": [
    "# function slightly modified from https://nlpforhackers.io/topic-modeling/\n",
    "\n",
    "def print_topics(model, vectorizer, top_n=10):\n",
    "    for idx, topic in enumerate(model.components_):  # loop through each row of H.  idx = row index.  topic = actual row\n",
    "        print(\"\\nTopic %d:\" % (idx))\n",
    "        #print([(vectorizer.get_feature_names()[i], topic[i])  # printing out words corresponding to indices found in next line\n",
    "                        #for i in topic.argsort()[:-top_n - 1:-1]])  # finding indices of top words in topic\n",
    "            \n",
    "        print_list = [(vectorizer.get_feature_names()[i], topic[i])  \n",
    "                        for i in topic.argsort()[:-top_n - 1:-1]]\n",
    "        for item in print_list:\n",
    "            print(item)\n",
    "        "
   ]
  },
  {
   "cell_type": "code",
   "execution_count": 28,
   "metadata": {},
   "outputs": [],
   "source": [
    "# Create a TF-IDF document-term matrix for the bioeconomy corpus \n",
    "\n",
    "# TRY DIFFERENT PARAMETERS IN THE TF-IDF DOC-TERM MATRIX SET-UP\n",
    "\n",
    "stop_wds = ['research', 'aim', 'project']\n",
    "\n",
    "nmf_vectorizer = TfidfVectorizer(max_df=1.0, min_df=1, lowercase=False, stop_words=stop_wds)\n",
    "nmf_tf_idf = nmf_vectorizer.fit_transform(text)"
   ]
  },
  {
   "cell_type": "code",
   "execution_count": 29,
   "metadata": {},
   "outputs": [
    {
     "data": {
      "text/plain": [
       "(94, 3402)"
      ]
     },
     "execution_count": 29,
     "metadata": {},
     "output_type": "execute_result"
    }
   ],
   "source": [
    "nmf_tf_idf.shape"
   ]
  },
  {
   "cell_type": "code",
   "execution_count": 32,
   "metadata": {},
   "outputs": [],
   "source": [
    "# topic modeling with NMF\n",
    "\n",
    "nmf_model = NMF(n_components=10, random_state=1)  # TRY DIFFERENT NUMBERS OF TOPICS\n",
    "W = nmf_model.fit_transform(nmf_tf_idf)\n",
    "H = nmf_model.components_"
   ]
  },
  {
   "cell_type": "code",
   "execution_count": 33,
   "metadata": {},
   "outputs": [
    {
     "name": "stdout",
     "output_type": "stream",
     "text": [
      "\n",
      "Topic 0:\n",
      "('chemical', 0.4933515946224006)\n",
      "('biomass', 0.3686631621508905)\n",
      "('product', 0.36805327044109204)\n",
      "('high', 0.3011898232934545)\n",
      "('sugar', 0.26575216985213723)\n",
      "('fuel', 0.26249821617466323)\n",
      "('reaction', 0.2577237816596437)\n",
      "('production', 0.24342267226164088)\n",
      "('value', 0.23674473427467732)\n",
      "('material', 0.22979544745238986)\n",
      "\n",
      "Topic 1:\n",
      "('video', 0.40372935466186866)\n",
      "('professional', 0.3471745271861412)\n",
      "('workshop', 0.33646627623096814)\n",
      "('institution', 0.3049963311881723)\n",
      "('career', 0.25164154075060974)\n",
      "('course', 0.24988104000157815)\n",
      "('training', 0.22892545578313378)\n",
      "('biomedical', 0.2168479730511343)\n",
      "('scientific', 0.19820147376420785)\n",
      "('content', 0.1952630592167844)\n",
      "\n",
      "Topic 2:\n",
      "('synthetic', 0.4786592511601497)\n",
      "('biology', 0.39982517861410855)\n",
      "('tna', 0.3175356668838036)\n",
      "('nucleic_acid', 0.26425906356154216)\n",
      "('episome', 0.23815175016285267)\n",
      "('organism', 0.2321113914755856)\n",
      "('base', 0.19209899820164783)\n",
      "('biological', 0.18566083975596365)\n",
      "('engineering', 0.17967900786529054)\n",
      "('directorate', 0.1672705439696907)\n",
      "\n",
      "Topic 3:\n",
      "('symposium', 0.5553446279952613)\n",
      "('committee', 0.32424614071523206)\n",
      "('meeting', 0.32100260441009915)\n",
      "('grant', 0.26573754725343385)\n",
      "('multistate', 0.23525192005240567)\n",
      "('researcher', 0.22839001269078407)\n",
      "('coordinate', 0.2000418291555886)\n",
      "('challenge', 0.1935247688272597)\n",
      "('university', 0.17598835731699553)\n",
      "('land', 0.17211232519149636)\n",
      "\n",
      "Topic 4:\n",
      "('cazyme', 0.5677508764303251)\n",
      "('plant', 0.42592005459878857)\n",
      "('genome', 0.3941180992492754)\n",
      "('carbohydrate', 0.352044454906873)\n",
      "('bioinformatic', 0.23901572489680442)\n",
      "('sequence', 0.20015386926592024)\n",
      "('enzyme', 0.1888682307222088)\n",
      "('teacher', 0.18459751557213203)\n",
      "('analysis', 0.16954483799265377)\n",
      "('wall', 0.15830483798480866)\n",
      "\n",
      "Topic 5:\n",
      "('new', 0.27857648305760613)\n",
      "('grain', 0.2564353115077775)\n",
      "('petroleum', 0.24414861221585749)\n",
      "('polymer', 0.24025742482287726)\n",
      "('resource', 0.21136272539898446)\n",
      "('lignocellulose', 0.20324553801489031)\n",
      "('crop', 0.20193767080188854)\n",
      "('biomass', 0.19873457010540657)\n",
      "('product', 0.1938530909664196)\n",
      "('rural', 0.18829036878627547)\n",
      "\n",
      "Topic 6:\n",
      "('protein', 0.7935338265800173)\n",
      "('crowded', 0.22579753276954279)\n",
      "('macromolecule', 0.21979299697025229)\n",
      "('interaction', 0.17092005961692328)\n",
      "('stability', 0.15310510334395638)\n",
      "('cell', 0.1528863306016257)\n",
      "('biological', 0.1489070331469516)\n",
      "('study', 0.13806293008370457)\n",
      "('rna', 0.13556822745878383)\n",
      "('complex', 0.13529423766927334)\n",
      "\n",
      "Topic 7:\n",
      "('soil', 0.26625519787062585)\n",
      "('water', 0.23789091409114071)\n",
      "('energy', 0.20723117843638378)\n",
      "('issue', 0.1740351033521105)\n",
      "('system', 0.17243081172909522)\n",
      "('source', 0.17066137960453875)\n",
      "('foreign', 0.15726249419764726)\n",
      "('food', 0.15366348482599446)\n",
      "('production', 0.15173645502792196)\n",
      "('product', 0.1502909660407151)\n",
      "\n",
      "Topic 8:\n",
      "('specie', 0.28423602020566474)\n",
      "('cell', 0.25550314064766816)\n",
      "('infection', 0.2518172048700501)\n",
      "('human', 0.22095661344583747)\n",
      "('sars_cov_2', 0.21789222370966468)\n",
      "('virus', 0.21093741895714377)\n",
      "('bee', 0.19551410898141566)\n",
      "('host', 0.18406040000765658)\n",
      "('infect', 0.17291892892581898)\n",
      "('identify', 0.16146897630168658)\n",
      "\n",
      "Topic 9:\n",
      "('policy', 0.3740286487150398)\n",
      "('regional', 0.2181739100889621)\n",
      "('bioenergy', 0.19828361589651414)\n",
      "('forest', 0.1936290708547064)\n",
      "('development', 0.15410322978143656)\n",
      "('extension', 0.14085533184381793)\n",
      "('public', 0.1403375187333928)\n",
      "('economic', 0.1293157905569656)\n",
      "('growth', 0.12392843314837422)\n",
      "('state', 0.12371089776227312)\n"
     ]
    }
   ],
   "source": [
    "print_topics(nmf_model, nmf_vectorizer, 10)"
   ]
  },
  {
   "cell_type": "code",
   "execution_count": 37,
   "metadata": {},
   "outputs": [
    {
     "data": {
      "text/plain": [
       "'Through their provision of goods and services, ecosystems provide essential ecosystem services to society, including production services (e.g., food, fiber, fuel), (2) regulation services (e.g., soil stabilization and erosion control, timing and volume of hydrologic flows, pest regulation), and (3) cultural services (e.g., habitat for wild plant and animal species, recreation, attractive landscapes). While society has historically expected solely production services from agricultural lands, increasing societal concern for the environment is adding pressure to enhance the provisioning of regulation and cultural services from agricultural landscapes. In response, policies are increasingly targeting conservation practices that promote planting of permanent (perennial) vegetation cover to offset the negative externalities of agriculture and enhance ecosystem services. Running counter to these conservation-oriented policies is a growing demand on agriculture to supply feed, fiber, and fuel. In particular, increasing pressures from the rapidly expanding bioenergy industry, combined with potential changes in federal conservation policy that may lead to phasing out the Conservation Reserve Program (CRP) from the Farm Bill, will require dynamic and flexible responses by producers. These changes will inevitably bring a series of unanticipated environmental costs and opportunities--all of which need to be understood to develop appropriate management and policy actions. For example, under a scenario in which marginal lands currently under CRP are brought back into production to supply feedstocks for the bioeconomy, the need to anticipate and minimize potential environmental impacts will be magnified. The increasing demand for multiple benefits from agricultural landscapes will undoubtedly bring significant change to the ecological, economic, and social systems in the Midwestern U.S. Incorporation of mixtures of annual and perennial plants within agroecosystems offers tremendous potential for stimulating economic potential while enhancing ecosystem service benefits. However, scientific information about how the location, type, and amount of perennial cover within watersheds affect important ecosystem services is sorely lacking. Further, our understanding of the economic implications of increasing perennial cover in agricultural landscapes is equally uncertain. In order to fill these gaps, this project aims to (1) develop alternate annual-perennial agroecosystems and assesses potential directions of change, (2) evaluate societal response options, and (3) create educational programs that enhance knowledge and dialogue related to these rapidly emerging issues. The results of this research will provide critically needed knowledge about how the integration of perennial vegetation within row-crop dominated landscapes can potentially minimize environmental impacts of agricultural production for food, fiber, and fuel, while enhancing ecosystem services and overall agroecosystem sustainability.'"
      ]
     },
     "execution_count": 37,
     "metadata": {},
     "output_type": "execute_result"
    }
   ],
   "source": [
    "# some bioeconomy abstracts\n",
    "\n",
    "df['ABSTRACT'][term_match_idx[3]]"
   ]
  },
  {
   "cell_type": "code",
   "execution_count": 44,
   "metadata": {},
   "outputs": [],
   "source": [
    "terms = nmf_vectorizer.get_feature_names()"
   ]
  },
  {
   "cell_type": "code",
   "execution_count": 48,
   "metadata": {},
   "outputs": [
    {
     "data": {
      "text/plain": [
       "['billion_ton',\n",
       " 'billion_united_states',\n",
       " 'bind',\n",
       " 'binding',\n",
       " 'bio',\n",
       " 'bio_inspired',\n",
       " 'bio_rad',\n",
       " 'biobase',\n",
       " 'biobased',\n",
       " 'biobased_economy',\n",
       " 'biocatalyst',\n",
       " 'biocentury',\n",
       " 'biochemical',\n",
       " 'biochemically',\n",
       " 'biochemist',\n",
       " 'biochemistry',\n",
       " 'biocontrol',\n",
       " 'bioconversion',\n",
       " 'bioconvesion',\n",
       " 'biodegradable',\n",
       " 'biodiesel',\n",
       " 'biodiversity',\n",
       " 'bioecomony',\n",
       " 'bioeconomic',\n",
       " 'bioeconomie',\n",
       " 'bioeconomy',\n",
       " 'bioenergy',\n",
       " 'bioenergy_biobased',\n",
       " 'bioenergy_bioproduct',\n",
       " 'bioenergy_crop',\n",
       " 'bioenergy_feedstock',\n",
       " 'bioengineer',\n",
       " 'bioengineering',\n",
       " 'bioenrgy',\n",
       " 'bioethanol',\n",
       " 'biofoundrie',\n",
       " 'biofuel',\n",
       " 'biofuel_biobased',\n",
       " 'biofuel_bioproduct',\n",
       " 'biofuel_feedstock',\n",
       " 'biofuels',\n",
       " 'biogenesis',\n",
       " 'biogeochemical',\n",
       " 'biogeographical',\n",
       " 'bioindustries',\n",
       " 'bioinformatic',\n",
       " 'bioinformatics',\n",
       " 'bioinnovations',\n",
       " 'biological',\n",
       " 'biologically',\n",
       " 'biologist',\n",
       " 'biology',\n",
       " 'biologythu',\n",
       " 'bioman',\n",
       " 'biomanufacture',\n",
       " 'biomanufacturer',\n",
       " 'biomanufacturing',\n",
       " 'biomarker',\n",
       " 'biomass',\n",
       " 'biomass_feedstock',\n",
       " 'biomaterial',\n",
       " 'biomedical',\n",
       " 'biomolecular',\n",
       " 'biomolecule',\n",
       " 'biopharmaceutical',\n",
       " 'biophysic',\n",
       " 'biophysical',\n",
       " 'biophysics',\n",
       " 'biopower',\n",
       " 'bioprocess',\n",
       " 'bioprocesse',\n",
       " 'bioprocessing',\n",
       " 'bioproduct',\n",
       " 'bioproduction',\n",
       " 'biopsy',\n",
       " 'bioreaction',\n",
       " 'bioreactor',\n",
       " 'biorefinerie',\n",
       " 'biorefineries',\n",
       " 'biorefinery',\n",
       " 'biorefining',\n",
       " 'biorenewable',\n",
       " 'biorenewable_chemicals_cbirc',\n",
       " 'bios308',\n",
       " 'bios441',\n",
       " 'biosciences',\n",
       " 'biosensor',\n",
       " 'biosynthesis',\n",
       " 'biosynthetic',\n",
       " 'biosystem',\n",
       " 'biosystems',\n",
       " 'biotech_company',\n",
       " 'biotech_firm',\n",
       " 'biotechnological',\n",
       " 'biotechnology',\n",
       " 'biotin',\n",
       " 'bird',\n",
       " 'bleach_coral',\n",
       " 'bleaching',\n",
       " 'blending']"
      ]
     },
     "execution_count": 48,
     "metadata": {},
     "output_type": "execute_result"
    }
   ],
   "source": [
    "terms[300:400]"
   ]
  },
  {
   "cell_type": "code",
   "execution_count": 54,
   "metadata": {},
   "outputs": [
    {
     "data": {
      "image/png": "[encoded data removed]",
      "text/plain": [
       "<Figure size 432x288 with 1 Axes>"
      ]
     },
     "metadata": {
      "needs_background": "light"
     },
     "output_type": "display_data"
    }
   ],
   "source": [
    "#from wordcloud import WordCloud\n",
    "\n",
    "wordcloud = WordCloud(width=900, height= 500, scale=1, max_words = 25, background_color='white').generate(\" \".join(df['ABSTRACT'][term_match_idx]))\n",
    "\n",
    "plt.imshow(wordcloud, interpolation='bilinear')\n",
    "plt.axis(\"off\")\n",
    "#plt.savefig(\"pan_wc.png\", dpi = 800, bbox_inches = \"tight\")\n",
    "#plt.savefig(\"pan_wc.pdf\", dpi = 800, bbox_inches = \"tight\")\n",
    "plt.show()"
   ]
  },
  {
   "cell_type": "code",
   "execution_count": null,
   "metadata": {},
   "outputs": [],
   "source": []
  },
  {
   "cell_type": "code",
   "execution_count": null,
   "metadata": {},
   "outputs": [],
   "source": []
  },
  {
   "cell_type": "code",
   "execution_count": null,
   "metadata": {},
   "outputs": [],
   "source": []
  },
  {
   "cell_type": "code",
   "execution_count": null,
   "metadata": {},
   "outputs": [],
   "source": []
  },
  {
   "cell_type": "code",
   "execution_count": null,
   "metadata": {},
   "outputs": [],
   "source": []
  },
  {
   "cell_type": "code",
   "execution_count": null,
   "metadata": {},
   "outputs": [],
   "source": []
  },
  {
   "cell_type": "code",
   "execution_count": 58,
   "metadata": {},
   "outputs": [
    {
     "data": {
      "text/plain": [
       "(5783,)"
      ]
     },
     "execution_count": 58,
     "metadata": {},
     "output_type": "execute_result"
    }
   ],
   "source": [
    "docs_ix = term_match_idx \n",
    "docs_idx = np.unique(docs_ix)\n",
    "docs_idx.shape"
   ]
  },
  {
   "cell_type": "code",
   "execution_count": 59,
   "metadata": {},
   "outputs": [
    {
     "name": "stdout",
     "output_type": "stream",
     "text": [
      "(5783, 30)\n",
      "5783\n"
     ]
    }
   ],
   "source": [
    "# topic model with just term matching\n",
    "\n",
    "filt_corpus2 = df.loc[docs_idx, :]\n",
    "print(filt_corpus2.shape)\n",
    "\n",
    "text = filt_corpus2[\"final_tokens\"]\n",
    "print(len(text))"
   ]
  },
  {
   "cell_type": "code",
   "execution_count": 60,
   "metadata": {},
   "outputs": [],
   "source": [
    "filt_corpus2.to_pickle(\"./term-match-pan-corpus.pkl\")"
   ]
  },
  {
   "cell_type": "code",
   "execution_count": 61,
   "metadata": {},
   "outputs": [
    {
     "name": "stdout",
     "output_type": "stream",
     "text": [
      "(5783, 18703)\n"
     ]
    }
   ],
   "source": [
    "# Create a TF-IDF document-term matrix for the pandemics corpus \n",
    "\n",
    "# TRY DIFFERENT PARAMETERS IN THE TF-IDF DOC-TERM MATRIX SET-UP\n",
    "\n",
    "stop_wds = ['research', 'aim', 'project']\n",
    "nmf_vectorizer2 = TfidfVectorizer(max_df=1.0, min_df=3, lowercase=False, stop_words=stop_wds) \n",
    "nmf_tf_idf2 = nmf_vectorizer2.fit_transform(text)\n",
    "print(nmf_tf_idf2.shape)"
   ]
  },
  {
   "cell_type": "code",
   "execution_count": 62,
   "metadata": {},
   "outputs": [],
   "source": [
    "# topic modeling with NMF\n",
    "\n",
    "nmf_model2 = NMF(n_components=20, random_state=1)  # TRY DIFFERENT NUMBERS OF TOPICS\n",
    "W = nmf_model2.fit_transform(nmf_tf_idf2)\n",
    "H = nmf_model2.components_"
   ]
  },
  {
   "cell_type": "code",
   "execution_count": 63,
   "metadata": {},
   "outputs": [
    {
     "name": "stdout",
     "output_type": "stream",
     "text": [
      "\n",
      "Topic 0:\n",
      "('virus', 2.3433546835060874)\n",
      "('host', 1.3099661492895747)\n",
      "('human', 1.2052427856437364)\n",
      "('viral', 0.8344924344739811)\n",
      "('gene', 0.7082435168387488)\n",
      "('evolution', 0.6362455104239401)\n",
      "('genetic', 0.6024134293883733)\n",
      "('sequence', 0.584006557464395)\n",
      "('pathogen', 0.5485592461829775)\n",
      "('model', 0.4729022050521842)\n",
      "\n",
      "Topic 1:\n",
      "('social', 0.8579437981516133)\n",
      "('health', 0.8409930486151155)\n",
      "('covid_19', 0.7603569151092018)\n",
      "('datum', 0.6944667093916935)\n",
      "('community', 0.5946572716040567)\n",
      "('behavior', 0.5784645886494667)\n",
      "('intervention', 0.5607518312192181)\n",
      "('public', 0.5510615086353723)\n",
      "('model', 0.5432727714811741)\n",
      "('risk', 0.5304616192967595)\n",
      "\n",
      "Topic 2:\n",
      "('hiv', 2.9231039340339042)\n",
      "('aids', 0.48762124511457877)\n",
      "('prevention', 0.2751340273999703)\n",
      "('trial', 0.2737458614896464)\n",
      "('intervention', 0.2084084719271732)\n",
      "('infection', 0.19836670449393565)\n",
      "('infect', 0.19737950607989374)\n",
      "('clinical', 0.17915435647258926)\n",
      "('antiretroviral', 0.1754654752181592)\n",
      "('woman', 0.16836823946854815)\n",
      "\n",
      "Topic 3:\n",
      "('vaccine', 2.1340903794474375)\n",
      "('adjuvant', 0.4295590040297302)\n",
      "('antigen', 0.3264355551294325)\n",
      "('protective', 0.30517935783422023)\n",
      "('efficacy', 0.2949394421616994)\n",
      "('protection', 0.28543586411623173)\n",
      "('dna', 0.2739847612224695)\n",
      "('dose', 0.2562247970904098)\n",
      "('response', 0.2495942888463271)\n",
      "('trial', 0.24740185138612808)\n",
      "\n",
      "Topic 4:\n",
      "('influenza', 3.9719446403349803)\n",
      "('virus', 0.9782140720710011)\n",
      "('strain', 0.47375846629429025)\n",
      "('vaccination', 0.41548628729204795)\n",
      "('infection', 0.3588719518451741)\n",
      "('year', 0.3529211410331723)\n",
      "('child', 0.28950842127149995)\n",
      "('pandemic', 0.2722812380570916)\n",
      "('effectiveness', 0.26203943514696937)\n",
      "('age', 0.2568524545489615)\n",
      "\n",
      "Topic 5:\n",
      "('cell', 2.5384495153158553)\n",
      "('response', 0.7762952522932153)\n",
      "('memory', 0.7746008320716586)\n",
      "('infection', 0.615019547810462)\n",
      "('cd4', 0.6045273927111771)\n",
      "('lung', 0.5294890868980079)\n",
      "('immune', 0.47366527429775607)\n",
      "('immunity', 0.4437934234816966)\n",
      "('cd8', 0.428908038364014)\n",
      "('specific', 0.3337779654300648)\n",
      "\n",
      "Topic 6:\n",
      "('training', 1.364939623296804)\n",
      "('program', 1.0336947473163103)\n",
      "('trainee', 0.6473208513425212)\n",
      "('faculty', 0.41529756942962875)\n",
      "('infectious', 0.41001223253541647)\n",
      "('doctoral', 0.36886427692163687)\n",
      "('disease', 0.3433122593831921)\n",
      "('investigator', 0.3395592171978713)\n",
      "('career', 0.3380078616140279)\n",
      "('health', 0.33649626617192097)\n",
      "\n",
      "Topic 7:\n",
      "('protection', 1.3226817197937177)\n",
      "('immune', 1.2202382319389602)\n",
      "('ecologic', 1.1854402695096302)\n",
      "('pathogenicity', 0.9324750886432185)\n",
      "('influenza', 0.9214449449213443)\n",
      "('evolution', 0.867857103590366)\n",
      "('environmental', 0.8492983783742014)\n",
      "('correlate', 0.8409845504411314)\n",
      "('cross', 0.8237923561660228)\n",
      "('influence', 0.7537407709231176)\n",
      "\n",
      "Topic 8:\n",
      "('hiv_1', 2.3612830371202542)\n",
      "('env', 0.49928726861451667)\n",
      "('subtype', 0.27403220140868995)\n",
      "('transmission', 0.26505661048838086)\n",
      "('infection', 0.2517310160522034)\n",
      "('aids', 0.18858300836564823)\n",
      "('infect', 0.18803919711318523)\n",
      "('sexual', 0.16538630787912958)\n",
      "('shiv', 0.15449948919882026)\n",
      "('microbicide', 0.14561047602653485)\n",
      "\n",
      "Topic 9:\n",
      "('sars_cov_2', 2.237408437904208)\n",
      "('covid_19', 1.7072151743924777)\n",
      "('patient', 0.7593601455978687)\n",
      "('infection', 0.5994985407147552)\n",
      "('disease', 0.44673595981315695)\n",
      "('severe', 0.43427497735186826)\n",
      "('coronavirus', 0.42602808721095475)\n",
      "('clinical', 0.39825209543258777)\n",
      "('respiratory', 0.30633160968004264)\n",
      "('testing', 0.3042828858570511)\n",
      "\n",
      "Topic 10:\n",
      "('tb', 1.7618238776519408)\n",
      "('mtb', 1.4665754179912796)\n",
      "('infection', 0.4099617566789216)\n",
      "('disease', 0.2711978946007108)\n",
      "('co', 0.26421673200632895)\n",
      "('autophagy', 0.25220939750776417)\n",
      "('host', 0.23568783154778772)\n",
      "('model', 0.23348016872550903)\n",
      "('tuberculosis_tb', 0.23042085155966116)\n",
      "('treatment', 0.19189184863592415)\n",
      "\n",
      "Topic 11:\n",
      "('drug', 1.4701102189145532)\n",
      "('inhibitor', 0.9363866432298126)\n",
      "('resistance', 0.8177676004040143)\n",
      "('antiviral', 0.45495423362144094)\n",
      "('compound', 0.4316853924760741)\n",
      "('resistant', 0.38385262886384947)\n",
      "('treatment', 0.3529101550676928)\n",
      "('target', 0.29626997195542754)\n",
      "('protease', 0.29513421471065293)\n",
      "('therapeutic', 0.26300303225007743)\n",
      "\n",
      "Topic 12:\n",
      "('iav', 2.5911727853814046)\n",
      "('lung', 0.49707724898986116)\n",
      "('sp', 0.32959781605841687)\n",
      "('infection', 0.3214998243714288)\n",
      "('mast', 0.260545782088764)\n",
      "('host', 0.22328498896458454)\n",
      "('response', 0.2108735350890926)\n",
      "('induce', 0.1990756902490664)\n",
      "('strain', 0.19440246713500361)\n",
      "('viral', 0.1719538615067485)\n",
      "\n",
      "Topic 13:\n",
      "('diagnostic', 0.7844439851336819)\n",
      "('detection', 0.6612264102626608)\n",
      "('technology', 0.6531105373356961)\n",
      "('sample', 0.5128814648317142)\n",
      "('device', 0.4378066391233372)\n",
      "('assay', 0.4148367766514963)\n",
      "('core', 0.4121044529336232)\n",
      "('poc', 0.40592993507255587)\n",
      "('rapid', 0.3976015831110277)\n",
      "('test', 0.38834663380107154)\n",
      "\n",
      "Topic 14:\n",
      "('animal', 1.1602648451580564)\n",
      "('bird', 0.6410682942968193)\n",
      "('contact', 0.5381365816703032)\n",
      "('characterization', 0.5309967385691517)\n",
      "('close', 0.5308746592452696)\n",
      "('surveillance', 0.526854051654551)\n",
      "('virus', 0.4195012220346611)\n",
      "('limit', 0.4059250917755394)\n",
      "('rapid', 0.384600416075855)\n",
      "('serosurveillance', 0.3693828602361197)\n",
      "\n",
      "Topic 15:\n",
      "('obesity', 1.071937438438081)\n",
      "('insulin', 0.5398179003783031)\n",
      "('obese', 0.421383622389334)\n",
      "('metabolic', 0.3757368203954193)\n",
      "('weight', 0.3027253445809032)\n",
      "('mouse', 0.29502923173428225)\n",
      "('gene', 0.2940764694781094)\n",
      "('lipid', 0.28235560030695217)\n",
      "('glucose', 0.26541416603493445)\n",
      "('study', 0.26162635093852743)\n",
      "\n",
      "Topic 16:\n",
      "('antibody', 1.3472352197391617)\n",
      "('ha', 0.547965024058042)\n",
      "('epitope', 0.4645647286801084)\n",
      "('human', 0.3024784275599357)\n",
      "('bind', 0.29455844343004833)\n",
      "('env', 0.28666446995604505)\n",
      "('glycan', 0.27856201148153603)\n",
      "('neutralization', 0.2577735153022265)\n",
      "('neutralize', 0.2424452538222523)\n",
      "('response', 0.22633158285232335)\n",
      "\n",
      "Topic 17:\n",
      "('cancer', 1.8120672852980864)\n",
      "('patient', 0.5214570753839074)\n",
      "('care', 0.3702879022434495)\n",
      "('treatment', 0.21594491830887383)\n",
      "('breast', 0.19170346029377455)\n",
      "('center', 0.13455332195333783)\n",
      "('survivor', 0.13121444123279494)\n",
      "('impact', 0.12239737652158492)\n",
      "('disparity', 0.1148261042598198)\n",
      "('clinical', 0.1145798816981869)\n",
      "\n",
      "Topic 18:\n",
      "('protein', 1.446195191611406)\n",
      "('viral', 0.7506901389014677)\n",
      "('rna', 0.7444889851109263)\n",
      "('virus', 0.5828729793792514)\n",
      "('bind', 0.44761593405888983)\n",
      "('membrane', 0.4355659039535048)\n",
      "('interaction', 0.39665760867786226)\n",
      "('structure', 0.39552036755891506)\n",
      "('np', 0.37150469278659715)\n",
      "('target', 0.35732503671693855)\n",
      "\n",
      "Topic 19:\n",
      "('student', 1.2827304795020111)\n",
      "('education', 0.385721913271621)\n",
      "('learning', 0.37286123274175875)\n",
      "('stem', 0.36712444314205367)\n",
      "('undergraduate', 0.34188234692991637)\n",
      "('science', 0.3089621391310284)\n",
      "('graduate', 0.28336818985803514)\n",
      "('online', 0.2552538078677325)\n",
      "('learn', 0.2442253174666447)\n",
      "('university', 0.23824772692874877)\n"
     ]
    }
   ],
   "source": [
    "print_topics(nmf_model2, nmf_vectorizer2, 10)"
   ]
  },
  {
   "cell_type": "code",
   "execution_count": null,
   "metadata": {},
   "outputs": [],
   "source": []
  },
  {
   "cell_type": "code",
   "execution_count": null,
   "metadata": {},
   "outputs": [],
   "source": []
  }
 ],
 "metadata": {
  "kernelspec": {
   "display_name": "Python 3.8",
   "language": "python",
   "name": "python-3.8"
  },
  "language_info": {
   "codemirror_mode": {
    "name": "ipython",
    "version": 3
   },
   "file_extension": ".py",
   "mimetype": "text/x-python",
   "name": "python",
   "nbconvert_exporter": "python",
   "pygments_lexer": "ipython3",
   "version": "3.8.8"
  }
 },
 "nbformat": 4,
 "nbformat_minor": 4
}
