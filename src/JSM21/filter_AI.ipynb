{
 "cells": [
  {
   "cell_type": "markdown",
   "metadata": {},
   "source": [
    "# Information Retrieval - Corpus Filtering  \n",
    "This notebook retrieves abstracts relevant to pandemics and then uses topic modeling to analyze the chosen abstracts.  Two info retrieval techniques are used: Literal Term Matching and Latent Semantic Indexing.  These are linear algebra techniques.  \n",
    "We use the Scikit-Learn library."
   ]
  },
  {
   "cell_type": "code",
   "execution_count": 1,
   "metadata": {},
   "outputs": [
    {
     "name": "stderr",
     "output_type": "stream",
     "text": [
      "/home/kjl5t/.local/lib/python3.8/site-packages/gensim/similarities/__init__.py:15: UserWarning: The gensim.similarities.levenshtein submodule is disabled, because the optional Levenshtein package <https://pypi.org/project/python-Levenshtein/> is unavailable. Install Levenhstein (e.g. `pip install python-Levenshtein`) to suppress this warning.\n",
      "  warnings.warn(msg)\n"
     ]
    }
   ],
   "source": [
    "import pandas as pd\n",
    "pd.set_option('display.max_columns', 50)\n",
    "\n",
    "import numpy as np\n",
    "import pickle\n",
    "import matplotlib.pyplot as plt\n",
    "import gensim\n",
    "import time\n",
    "\n",
    "from sklearn.decomposition import NMF, TruncatedSVD, LatentDirichletAllocation\n",
    "from sklearn.feature_extraction.text import CountVectorizer\n",
    "from sklearn.feature_extraction.text import TfidfVectorizer\n",
    "#from sklearn.metrics import pairwise_distances\n",
    "from sklearn.metrics.pairwise import cosine_similarity\n",
    "\n",
    "#import spacy\n",
    "#from spacy.lang.en.stop_words import STOP_WORDS"
   ]
  },
  {
   "cell_type": "code",
   "execution_count": null,
   "metadata": {},
   "outputs": [],
   "source": []
  },
  {
   "cell_type": "code",
   "execution_count": 2,
   "metadata": {},
   "outputs": [],
   "source": [
    "# pull in data\n",
    "\n",
    "# full corpus\n",
    "df = pd.read_pickle(\"../../data/prd/Federal_RePORTER/FR-cleaned-2021FEB24.pkl\")\n",
    "#df = pd.read_pickle(\"/home/kjl5t/dspg21RnD/data/dspg21RnD/smaller-final-dataset.pkl\")\n",
    "\n",
    "# pandemics corpus\n",
    "#df = pd.read_pickle(\"pandemic_corpus.pkl\")\n",
    "#df.reset_index(inplace = True)\n",
    "#df.rename(columns={'index':'original index'}, inplace=True)"
   ]
  },
  {
   "cell_type": "code",
   "execution_count": 3,
   "metadata": {},
   "outputs": [
    {
     "data": {
      "text/html": [
       "<div>\n",
       "<style scoped>\n",
       "    .dataframe tbody tr th:only-of-type {\n",
       "        vertical-align: middle;\n",
       "    }\n",
       "\n",
       "    .dataframe tbody tr th {\n",
       "        vertical-align: top;\n",
       "    }\n",
       "\n",
       "    .dataframe thead th {\n",
       "        text-align: right;\n",
       "    }\n",
       "</style>\n",
       "<table border=\"1\" class=\"dataframe\">\n",
       "  <thead>\n",
       "    <tr style=\"text-align: right;\">\n",
       "      <th></th>\n",
       "      <th>index</th>\n",
       "      <th>original index</th>\n",
       "      <th>PROJECT_ID</th>\n",
       "      <th>ABSTRACT</th>\n",
       "      <th>FY</th>\n",
       "      <th>ORG_COUNT</th>\n",
       "      <th>PI_COUNT</th>\n",
       "      <th>working_abstract</th>\n",
       "      <th>Start_Char</th>\n",
       "      <th>nchar</th>\n",
       "      <th>LAST_CHAR</th>\n",
       "      <th>lemma_abstract</th>\n",
       "      <th>clean_lemmas</th>\n",
       "      <th>stopwds_removed</th>\n",
       "      <th>n_grams_added</th>\n",
       "      <th>final_tokens</th>\n",
       "      <th>final_frqwds_removed</th>\n",
       "      <th>PROJECT_TERMS</th>\n",
       "      <th>PROJECT_TITLE</th>\n",
       "      <th>DEPARTMENT</th>\n",
       "      <th>AGENCY</th>\n",
       "      <th>IC_CENTER</th>\n",
       "      <th>PROJECT_NUMBER</th>\n",
       "      <th>PROJECT_START_DATE</th>\n",
       "      <th>PROJECT_END_DATE</th>\n",
       "      <th>CONTACT_PI_PROJECT_LEADER</th>\n",
       "      <th>OTHER_PIS</th>\n",
       "      <th>CONGRESSIONAL_DISTRICT</th>\n",
       "      <th>DUNS_NUMBER</th>\n",
       "      <th>ORGANIZATION_NAME</th>\n",
       "      <th>ORGANIZATION_CITY</th>\n",
       "      <th>ORGANIZATION_STATE</th>\n",
       "      <th>ORGANIZATION_ZIP</th>\n",
       "      <th>ORGANIZATION_COUNTRY</th>\n",
       "      <th>BUDGET_START_DATE</th>\n",
       "      <th>BUDGET_END_DATE</th>\n",
       "      <th>CFDA_CODE</th>\n",
       "      <th>FY.y</th>\n",
       "      <th>FY_TOTAL_COST</th>\n",
       "      <th>FY_TOTAL_COST_SUB_PROJECTS</th>\n",
       "    </tr>\n",
       "  </thead>\n",
       "  <tbody>\n",
       "    <tr>\n",
       "      <th>0</th>\n",
       "      <td>0</td>\n",
       "      <td>17608</td>\n",
       "      <td>152242</td>\n",
       "      <td>The multiprotein complex y-secretase proteolyt...</td>\n",
       "      <td>2008</td>\n",
       "      <td>1</td>\n",
       "      <td>1</td>\n",
       "      <td>The multiprotein complex y-secretase proteolyt...</td>\n",
       "      <td>T</td>\n",
       "      <td>1402</td>\n",
       "      <td>g</td>\n",
       "      <td>[multiprotein, complex, y-secretase, proteolyt...</td>\n",
       "      <td>[multiprotein, complex, y-secretase, proteolyt...</td>\n",
       "      <td>[multiprotein, complex, y-secretase, proteolyt...</td>\n",
       "      <td>[multiprotein, complex, y-secretase, proteolyt...</td>\n",
       "      <td>[multiprotein, complex, y_secretase, proteolyt...</td>\n",
       "      <td>[multiprotein, y_secretase, proteolytically_cl...</td>\n",
       "      <td>Active Sites; Affect; Alzheimer's Disease; Am...</td>\n",
       "      <td>STRUCTURE OF SIGNAL PEPTIDE PEPTIDASE</td>\n",
       "      <td>HHS</td>\n",
       "      <td>NIH</td>\n",
       "      <td>NIA</td>\n",
       "      <td>5F32AG027647-03</td>\n",
       "      <td>12/1/2005</td>\n",
       "      <td>1/1/2008</td>\n",
       "      <td>LIEBERMAN, RAQUEL L</td>\n",
       "      <td>NaN</td>\n",
       "      <td>07</td>\n",
       "      <td>030811269</td>\n",
       "      <td>BRIGHAM AND WOMEN'S HOSPITAL</td>\n",
       "      <td>BOSTON</td>\n",
       "      <td>MA</td>\n",
       "      <td>021156110</td>\n",
       "      <td>UNITED STATES</td>\n",
       "      <td>12/1/2007</td>\n",
       "      <td>1/1/2008</td>\n",
       "      <td>93.866</td>\n",
       "      <td>2008</td>\n",
       "      <td>3483.0</td>\n",
       "      <td>NaN</td>\n",
       "    </tr>\n",
       "    <tr>\n",
       "      <th>1</th>\n",
       "      <td>1</td>\n",
       "      <td>111864</td>\n",
       "      <td>190316</td>\n",
       "      <td>DESCRIPTION (provided by applicant):   The Kis...</td>\n",
       "      <td>2008</td>\n",
       "      <td>1</td>\n",
       "      <td>1</td>\n",
       "      <td>The Kissl gene encodes peptides called kisspep...</td>\n",
       "      <td>T</td>\n",
       "      <td>2553</td>\n",
       "      <td>y</td>\n",
       "      <td>[Kissl, gene, encode, peptide, call, kisspepti...</td>\n",
       "      <td>[kissl, gene, encode, peptide, call, kisspepti...</td>\n",
       "      <td>[kissl, gene, encode, peptide, kisspeptin, bin...</td>\n",
       "      <td>[kissl, gene, encode, peptide, kisspeptin, bin...</td>\n",
       "      <td>[kissl, gene, encode, peptide, kisspeptin, bin...</td>\n",
       "      <td>[kissl, gene, encode, peptide, kisspeptin, bin...</td>\n",
       "      <td>Affect; Animal Model; Axon; Behavior; Behavio...</td>\n",
       "      <td>ROLE OF KISS1 NEURONS IN THE SEASONAL AND CIRC...</td>\n",
       "      <td>HHS</td>\n",
       "      <td>NIH</td>\n",
       "      <td>NICHD</td>\n",
       "      <td>5K99HD056157-02</td>\n",
       "      <td>9/1/2007</td>\n",
       "      <td>1/1/2009</td>\n",
       "      <td>KAUFFMAN, ALEXANDER S</td>\n",
       "      <td>NaN</td>\n",
       "      <td>07</td>\n",
       "      <td>605799469</td>\n",
       "      <td>UNIVERSITY OF WASHINGTON</td>\n",
       "      <td>SEATTLE</td>\n",
       "      <td>WA</td>\n",
       "      <td>981959472</td>\n",
       "      <td>UNITED STATES</td>\n",
       "      <td>9/1/2008</td>\n",
       "      <td>1/1/2009</td>\n",
       "      <td>93.865</td>\n",
       "      <td>2008</td>\n",
       "      <td>39175.0</td>\n",
       "      <td>NaN</td>\n",
       "    </tr>\n",
       "    <tr>\n",
       "      <th>2</th>\n",
       "      <td>2</td>\n",
       "      <td>22052</td>\n",
       "      <td>154213</td>\n",
       "      <td>DESCRIPTION (provided by applicant): The objec...</td>\n",
       "      <td>2008</td>\n",
       "      <td>1</td>\n",
       "      <td>1</td>\n",
       "      <td>The objective of this research is to understan...</td>\n",
       "      <td>T</td>\n",
       "      <td>1414</td>\n",
       "      <td>e</td>\n",
       "      <td>[objective, research, be, understand, biophysi...</td>\n",
       "      <td>[objective, research, be, understand, biophysi...</td>\n",
       "      <td>[objective, research, understand, biophysical,...</td>\n",
       "      <td>[objective, research, understand, biophysical,...</td>\n",
       "      <td>[objective, research, understand, biophysical,...</td>\n",
       "      <td>[biophysical, basis, thermodynamics_kinetic, m...</td>\n",
       "      <td>Agreement; Antibodies; base; Binding; Biochem...</td>\n",
       "      <td>CARBONIC ANHYDRASE AS A MODEL TO UNDERSTAND DI...</td>\n",
       "      <td>HHS</td>\n",
       "      <td>NIH</td>\n",
       "      <td>NIGMS</td>\n",
       "      <td>5F32GM076971-02</td>\n",
       "      <td>1/2/2007</td>\n",
       "      <td>1/1/2009</td>\n",
       "      <td>MACK, ERIC T</td>\n",
       "      <td>NaN</td>\n",
       "      <td>05</td>\n",
       "      <td>082359691</td>\n",
       "      <td>HARVARD UNIVERSITY</td>\n",
       "      <td>CAMBRIDGE</td>\n",
       "      <td>MA</td>\n",
       "      <td>021385319</td>\n",
       "      <td>UNITED STATES</td>\n",
       "      <td>1/2/2008</td>\n",
       "      <td>1/1/2009</td>\n",
       "      <td>93.859</td>\n",
       "      <td>2008</td>\n",
       "      <td>49646.0</td>\n",
       "      <td>NaN</td>\n",
       "    </tr>\n",
       "    <tr>\n",
       "      <th>3</th>\n",
       "      <td>3</td>\n",
       "      <td>35004</td>\n",
       "      <td>159362</td>\n",
       "      <td>Obesity is the cause of many adverse pregnancy...</td>\n",
       "      <td>2008</td>\n",
       "      <td>1</td>\n",
       "      <td>1</td>\n",
       "      <td>Obesity is the cause of many adverse pregnancy...</td>\n",
       "      <td>O</td>\n",
       "      <td>1545</td>\n",
       "      <td>d</td>\n",
       "      <td>[obesity, cause, many, adverse, pregnancyoutco...</td>\n",
       "      <td>[obesity, cause, many, adverse, pregnancyoutco...</td>\n",
       "      <td>[obesity, cause, adverse, pregnancyoutcome, re...</td>\n",
       "      <td>[obesity, cause, adverse_pregnancyoutcome, res...</td>\n",
       "      <td>[obesity, cause, adverse_pregnancyoutcome, res...</td>\n",
       "      <td>[obesity, adverse_pregnancyoutcome, great, hea...</td>\n",
       "      <td>African; Analysis of Variance; Asians; Birth;...</td>\n",
       "      <td>OBESITY ON VAGAL TONE AND HBA1C DURING PREGNANCY</td>\n",
       "      <td>HHS</td>\n",
       "      <td>NIH</td>\n",
       "      <td>NINR</td>\n",
       "      <td>5F31NR009611-03</td>\n",
       "      <td>4/1/2006</td>\n",
       "      <td>1/1/2009</td>\n",
       "      <td>HELMREICH, REBECCA J</td>\n",
       "      <td>NaN</td>\n",
       "      <td>09</td>\n",
       "      <td>800771594</td>\n",
       "      <td>UNIVERSITY OF TEXAS HLTH SCI CTR HOUSTON</td>\n",
       "      <td>HOUSTON</td>\n",
       "      <td>TX</td>\n",
       "      <td>770305400</td>\n",
       "      <td>UNITED STATES</td>\n",
       "      <td>4/1/2008</td>\n",
       "      <td>1/1/2009</td>\n",
       "      <td>93.361</td>\n",
       "      <td>2008</td>\n",
       "      <td>20406.0</td>\n",
       "      <td>NaN</td>\n",
       "    </tr>\n",
       "    <tr>\n",
       "      <th>4</th>\n",
       "      <td>4</td>\n",
       "      <td>371628</td>\n",
       "      <td>594482</td>\n",
       "      <td>Local potato advisory groups have expressed in...</td>\n",
       "      <td>2010</td>\n",
       "      <td>1</td>\n",
       "      <td>1</td>\n",
       "      <td>Local potato advisory groups have expressed in...</td>\n",
       "      <td>L</td>\n",
       "      <td>271</td>\n",
       "      <td>s</td>\n",
       "      <td>[local, potato, advisory, group, express, inte...</td>\n",
       "      <td>[local, potato, advisory, group, express, inte...</td>\n",
       "      <td>[local, potato, advisory, group, express, inte...</td>\n",
       "      <td>[local, potato, advisory, group, express, inte...</td>\n",
       "      <td>[local, potato, advisory, group, express, inte...</td>\n",
       "      <td>[local, potato, advisory, express, interest, m...</td>\n",
       "      <td>cost; Health; interest; Manure; Parasitic nem...</td>\n",
       "      <td>PLANT-PARASITIC NEMATODE MANAGEMENT AS A COMPO...</td>\n",
       "      <td>USDA</td>\n",
       "      <td>NIFA</td>\n",
       "      <td>NaN</td>\n",
       "      <td>0219605</td>\n",
       "      <td>10/1/2009</td>\n",
       "      <td>1/1/2010</td>\n",
       "      <td>CHARLTON, B.</td>\n",
       "      <td>NaN</td>\n",
       "      <td>NaN</td>\n",
       "      <td>053599908</td>\n",
       "      <td>OREGON STATE UNIVERSITY</td>\n",
       "      <td>CORVALLIS</td>\n",
       "      <td>OR</td>\n",
       "      <td>97331</td>\n",
       "      <td>UNITED STATES</td>\n",
       "      <td>NaN</td>\n",
       "      <td>NaN</td>\n",
       "      <td>10.203</td>\n",
       "      <td>2010</td>\n",
       "      <td>NaN</td>\n",
       "      <td>NaN</td>\n",
       "    </tr>\n",
       "  </tbody>\n",
       "</table>\n",
       "</div>"
      ],
      "text/plain": [
       "   index  original index PROJECT_ID  \\\n",
       "0      0           17608     152242   \n",
       "1      1          111864     190316   \n",
       "2      2           22052     154213   \n",
       "3      3           35004     159362   \n",
       "4      4          371628     594482   \n",
       "\n",
       "                                            ABSTRACT    FY  ORG_COUNT  \\\n",
       "0  The multiprotein complex y-secretase proteolyt...  2008          1   \n",
       "1  DESCRIPTION (provided by applicant):   The Kis...  2008          1   \n",
       "2  DESCRIPTION (provided by applicant): The objec...  2008          1   \n",
       "3  Obesity is the cause of many adverse pregnancy...  2008          1   \n",
       "4  Local potato advisory groups have expressed in...  2010          1   \n",
       "\n",
       "   PI_COUNT                                   working_abstract Start_Char  \\\n",
       "0         1  The multiprotein complex y-secretase proteolyt...          T   \n",
       "1         1  The Kissl gene encodes peptides called kisspep...          T   \n",
       "2         1  The objective of this research is to understan...          T   \n",
       "3         1  Obesity is the cause of many adverse pregnancy...          O   \n",
       "4         1  Local potato advisory groups have expressed in...          L   \n",
       "\n",
       "   nchar LAST_CHAR                                     lemma_abstract  \\\n",
       "0   1402         g  [multiprotein, complex, y-secretase, proteolyt...   \n",
       "1   2553         y  [Kissl, gene, encode, peptide, call, kisspepti...   \n",
       "2   1414         e  [objective, research, be, understand, biophysi...   \n",
       "3   1545         d  [obesity, cause, many, adverse, pregnancyoutco...   \n",
       "4    271         s  [local, potato, advisory, group, express, inte...   \n",
       "\n",
       "                                        clean_lemmas  \\\n",
       "0  [multiprotein, complex, y-secretase, proteolyt...   \n",
       "1  [kissl, gene, encode, peptide, call, kisspepti...   \n",
       "2  [objective, research, be, understand, biophysi...   \n",
       "3  [obesity, cause, many, adverse, pregnancyoutco...   \n",
       "4  [local, potato, advisory, group, express, inte...   \n",
       "\n",
       "                                     stopwds_removed  \\\n",
       "0  [multiprotein, complex, y-secretase, proteolyt...   \n",
       "1  [kissl, gene, encode, peptide, kisspeptin, bin...   \n",
       "2  [objective, research, understand, biophysical,...   \n",
       "3  [obesity, cause, adverse, pregnancyoutcome, re...   \n",
       "4  [local, potato, advisory, group, express, inte...   \n",
       "\n",
       "                                       n_grams_added  \\\n",
       "0  [multiprotein, complex, y-secretase, proteolyt...   \n",
       "1  [kissl, gene, encode, peptide, kisspeptin, bin...   \n",
       "2  [objective, research, understand, biophysical,...   \n",
       "3  [obesity, cause, adverse_pregnancyoutcome, res...   \n",
       "4  [local, potato, advisory, group, express, inte...   \n",
       "\n",
       "                                        final_tokens  \\\n",
       "0  [multiprotein, complex, y_secretase, proteolyt...   \n",
       "1  [kissl, gene, encode, peptide, kisspeptin, bin...   \n",
       "2  [objective, research, understand, biophysical,...   \n",
       "3  [obesity, cause, adverse_pregnancyoutcome, res...   \n",
       "4  [local, potato, advisory, group, express, inte...   \n",
       "\n",
       "                                final_frqwds_removed  \\\n",
       "0  [multiprotein, y_secretase, proteolytically_cl...   \n",
       "1  [kissl, gene, encode, peptide, kisspeptin, bin...   \n",
       "2  [biophysical, basis, thermodynamics_kinetic, m...   \n",
       "3  [obesity, adverse_pregnancyoutcome, great, hea...   \n",
       "4  [local, potato, advisory, express, interest, m...   \n",
       "\n",
       "                                       PROJECT_TERMS  \\\n",
       "0   Active Sites; Affect; Alzheimer's Disease; Am...   \n",
       "1   Affect; Animal Model; Axon; Behavior; Behavio...   \n",
       "2   Agreement; Antibodies; base; Binding; Biochem...   \n",
       "3   African; Analysis of Variance; Asians; Birth;...   \n",
       "4   cost; Health; interest; Manure; Parasitic nem...   \n",
       "\n",
       "                                       PROJECT_TITLE DEPARTMENT AGENCY  \\\n",
       "0              STRUCTURE OF SIGNAL PEPTIDE PEPTIDASE        HHS    NIH   \n",
       "1  ROLE OF KISS1 NEURONS IN THE SEASONAL AND CIRC...        HHS    NIH   \n",
       "2  CARBONIC ANHYDRASE AS A MODEL TO UNDERSTAND DI...        HHS    NIH   \n",
       "3   OBESITY ON VAGAL TONE AND HBA1C DURING PREGNANCY        HHS    NIH   \n",
       "4  PLANT-PARASITIC NEMATODE MANAGEMENT AS A COMPO...       USDA   NIFA   \n",
       "\n",
       "  IC_CENTER   PROJECT_NUMBER PROJECT_START_DATE PROJECT_END_DATE  \\\n",
       "0       NIA  5F32AG027647-03          12/1/2005         1/1/2008   \n",
       "1     NICHD  5K99HD056157-02           9/1/2007         1/1/2009   \n",
       "2     NIGMS  5F32GM076971-02           1/2/2007         1/1/2009   \n",
       "3      NINR  5F31NR009611-03           4/1/2006         1/1/2009   \n",
       "4       NaN          0219605          10/1/2009         1/1/2010   \n",
       "\n",
       "  CONTACT_PI_PROJECT_LEADER OTHER_PIS CONGRESSIONAL_DISTRICT DUNS_NUMBER  \\\n",
       "0       LIEBERMAN, RAQUEL L       NaN                     07   030811269   \n",
       "1     KAUFFMAN, ALEXANDER S       NaN                     07   605799469   \n",
       "2              MACK, ERIC T       NaN                     05   082359691   \n",
       "3      HELMREICH, REBECCA J       NaN                     09   800771594   \n",
       "4              CHARLTON, B.       NaN                    NaN   053599908   \n",
       "\n",
       "                          ORGANIZATION_NAME ORGANIZATION_CITY  \\\n",
       "0              BRIGHAM AND WOMEN'S HOSPITAL            BOSTON   \n",
       "1                  UNIVERSITY OF WASHINGTON           SEATTLE   \n",
       "2                        HARVARD UNIVERSITY         CAMBRIDGE   \n",
       "3  UNIVERSITY OF TEXAS HLTH SCI CTR HOUSTON           HOUSTON   \n",
       "4                   OREGON STATE UNIVERSITY         CORVALLIS   \n",
       "\n",
       "  ORGANIZATION_STATE ORGANIZATION_ZIP ORGANIZATION_COUNTRY BUDGET_START_DATE  \\\n",
       "0                 MA        021156110        UNITED STATES         12/1/2007   \n",
       "1                 WA        981959472        UNITED STATES          9/1/2008   \n",
       "2                 MA        021385319        UNITED STATES          1/2/2008   \n",
       "3                 TX        770305400        UNITED STATES          4/1/2008   \n",
       "4                 OR            97331        UNITED STATES               NaN   \n",
       "\n",
       "  BUDGET_END_DATE CFDA_CODE  FY.y  FY_TOTAL_COST  FY_TOTAL_COST_SUB_PROJECTS  \n",
       "0        1/1/2008    93.866  2008         3483.0                         NaN  \n",
       "1        1/1/2009    93.865  2008        39175.0                         NaN  \n",
       "2        1/1/2009    93.859  2008        49646.0                         NaN  \n",
       "3        1/1/2009    93.361  2008        20406.0                         NaN  \n",
       "4             NaN    10.203  2010            NaN                         NaN  "
      ]
     },
     "execution_count": 3,
     "metadata": {},
     "output_type": "execute_result"
    }
   ],
   "source": [
    "df.head()"
   ]
  },
  {
   "cell_type": "code",
   "execution_count": null,
   "metadata": {},
   "outputs": [],
   "source": []
  },
  {
   "cell_type": "code",
   "execution_count": 4,
   "metadata": {},
   "outputs": [],
   "source": [
    "# input needed for doc-term matrix creation in Scikit-Learn is one string per document (not a list of strings).  \n",
    "# Original data 'ABSTRACT' is already in this form, but not the tokens in \"final_frqwds_removed\"\n",
    "\n",
    "\n",
    "tokens = df[\"stopwds_removed\"]\n",
    "\n",
    "docs = [] # docs will contain the processed tokens in string form (1 string per abstract)\n",
    "\n",
    "for abstract in tokens:\n",
    "    docs.append(\" \".join(abstract))\n",
    "    \n",
    "docs = pd.Series(docs)\n",
    "\n",
    "\n",
    "#docs = df[\"ABSTRACT\"]  # raw text\n"
   ]
  },
  {
   "cell_type": "code",
   "execution_count": null,
   "metadata": {},
   "outputs": [],
   "source": []
  },
  {
   "cell_type": "code",
   "execution_count": null,
   "metadata": {},
   "outputs": [],
   "source": []
  },
  {
   "cell_type": "markdown",
   "metadata": {},
   "source": [
    "### Term Matching"
   ]
  },
  {
   "cell_type": "code",
   "execution_count": 5,
   "metadata": {},
   "outputs": [],
   "source": [
    "# new approach to grab all \"artificial intelligence\" matches\n",
    "\n",
    "term_match_idx = []\n",
    "\n",
    "for i, abstract in enumerate(docs):\n",
    "    if ('artificial intelligence' in abstract): \n",
    "        term_match_idx.append(i)\n",
    "\n",
    "# stopwds_removed\n",
    "# artificial intelligence: 936\n",
    "# artificialintelligence: 26\n",
    "# artificial intelligent: 11\n",
    "# artificially intelligent: 23\n",
    "# artificialintelligent: 1\n",
    "# machine learning: 4933\n",
    "# machine learn: 5729\n",
    "# natural language processing: 924\n",
    "# natrual language process: 929\n",
    "\n",
    "# final_tokens\n",
    "# artificial_intelligence: 929\n",
    "# artificial intelligence: 11 (typos and other misses)"
   ]
  },
  {
   "cell_type": "code",
   "execution_count": 6,
   "metadata": {},
   "outputs": [
    {
     "data": {
      "text/plain": [
       "936"
      ]
     },
     "execution_count": 6,
     "metadata": {},
     "output_type": "execute_result"
    }
   ],
   "source": [
    "len(term_match_idx) "
   ]
  },
  {
   "cell_type": "code",
   "execution_count": null,
   "metadata": {},
   "outputs": [],
   "source": []
  },
  {
   "cell_type": "code",
   "execution_count": null,
   "metadata": {},
   "outputs": [],
   "source": []
  },
  {
   "cell_type": "markdown",
   "metadata": {},
   "source": [
    "### Helper Functions"
   ]
  },
  {
   "cell_type": "code",
   "execution_count": 7,
   "metadata": {},
   "outputs": [],
   "source": [
    "# Create binary query vector \n",
    "\n",
    "def create_query(words, terms):\n",
    "    \n",
    "    # words: search query words\n",
    "    # terms: terms in corpus\n",
    "    \n",
    "    q = np.zeros(len(terms))  # number of terms\n",
    "\n",
    "    idx = []\n",
    "    for word in query_words:\n",
    "        idx.append(terms.index(word))\n",
    "\n",
    "    q[idx] = 1\n",
    "    \n",
    "    return q"
   ]
  },
  {
   "cell_type": "code",
   "execution_count": 8,
   "metadata": {},
   "outputs": [],
   "source": [
    "def return_top_abstracts(scores, top_n):\n",
    "    \n",
    "    '''\n",
    "    docs: Series that contains abstract\n",
    "    scores: scores of abstracts\n",
    "    top_n: return the top_n abstracts given by idx, if top_n = -1 return all abstracts\n",
    "    '''\n",
    "    # sort scores in descending order\n",
    "    scores_sorted_idx = np.argsort(scores)[::-1]\n",
    "    \n",
    "    if top_n == -1:\n",
    "        n = sum(scores > 0)\n",
    "        ix = scores_sorted_idx[:n]\n",
    "    else:\n",
    "        ix = scores_sorted_idx[:top_n]\n",
    "    \n",
    "    #print(ix[0:10])\n",
    "    \n",
    "    return ix\n",
    "    "
   ]
  },
  {
   "cell_type": "code",
   "execution_count": 9,
   "metadata": {},
   "outputs": [],
   "source": [
    "def create_result_df(abstracts, scores):\n",
    "    \n",
    "    df = pd.DataFrame()\n",
    "    df[\"abstracts\"] = abstracts\n",
    "    df[\"scores\"] = scores\n",
    "    \n",
    "    return df"
   ]
  },
  {
   "cell_type": "code",
   "execution_count": null,
   "metadata": {},
   "outputs": [],
   "source": []
  },
  {
   "cell_type": "markdown",
   "metadata": {},
   "source": [
    "## Latent Semantic Indexing (LSI)"
   ]
  },
  {
   "cell_type": "code",
   "execution_count": 10,
   "metadata": {},
   "outputs": [],
   "source": [
    "# Find doc-term matrix using TF-IDF weighting\n",
    "\n",
    "tf_idf_vectorizer = TfidfVectorizer(min_df=20)\n",
    "tf_idf = tf_idf_vectorizer.fit_transform(docs)\n",
    "\n",
    "tf_idf_terms = tf_idf_vectorizer.get_feature_names()"
   ]
  },
  {
   "cell_type": "code",
   "execution_count": 11,
   "metadata": {},
   "outputs": [
    {
     "data": {
      "text/plain": [
       "73069"
      ]
     },
     "execution_count": 11,
     "metadata": {},
     "output_type": "execute_result"
    }
   ],
   "source": [
    "len(tf_idf_terms)"
   ]
  },
  {
   "cell_type": "code",
   "execution_count": null,
   "metadata": {},
   "outputs": [],
   "source": []
  },
  {
   "cell_type": "code",
   "execution_count": 12,
   "metadata": {},
   "outputs": [],
   "source": [
    "# CHANGE QUERY WORDS HERE\n",
    "\n",
    "#query_words = []\n",
    "\n",
    "#for word in tf_idf_terms:\n",
    "#    if 'artificial' in word:\n",
    "#        query_words.append(word)\n",
    "\n",
    "query_words = ['artificial', 'intelligence', 'artificialintelligence'] \n",
    "              \n",
    "q = create_query(query_words, tf_idf_terms)"
   ]
  },
  {
   "cell_type": "code",
   "execution_count": 13,
   "metadata": {},
   "outputs": [
    {
     "data": {
      "text/plain": [
       "['artificial', 'intelligence', 'artificialintelligence']"
      ]
     },
     "execution_count": 13,
     "metadata": {},
     "output_type": "execute_result"
    }
   ],
   "source": [
    "query_words"
   ]
  },
  {
   "cell_type": "code",
   "execution_count": null,
   "metadata": {},
   "outputs": [],
   "source": []
  },
  {
   "cell_type": "code",
   "execution_count": 14,
   "metadata": {},
   "outputs": [],
   "source": [
    "# Find the Truncated SVD of the TF-IDF matrix\n",
    "\n",
    "lsa = TruncatedSVD(n_components=200, random_state=1)  # CHANGE THE NUMBER OF COMPONENTS - NOTE: MORE COMPONENTS \n",
    "                                                      # GIVES YOU A MORE ACCURATE APPROXIMATION OF THE DOC-TERM \n",
    "                                                      # MATRIX, BUT IS ALSO MORE EXPENSIVE AND MAY NOT LEAD TO THE \n",
    "                                                      # BEST INFO RETRIEVAL RESULTS.\n",
    "USigma = lsa.fit_transform(tf_idf)\n",
    "Vtrans = lsa.components_"
   ]
  },
  {
   "cell_type": "code",
   "execution_count": 15,
   "metadata": {},
   "outputs": [],
   "source": [
    "S = lsa.singular_values_"
   ]
  },
  {
   "cell_type": "code",
   "execution_count": 16,
   "metadata": {},
   "outputs": [
    {
     "data": {
      "text/plain": [
       "array([131.42846235,  78.29545617,  59.26293043,  55.84475786,\n",
       "        54.83924446,  50.97456289,  47.30147997,  44.1971259 ,\n",
       "        41.68739349,  39.97459184,  39.56049829,  38.48671512,\n",
       "        37.4524683 ,  36.17823385,  35.17781792,  34.93699223,\n",
       "        34.01217915,  33.45551366,  33.04308953,  32.81267613,\n",
       "        32.0278632 ,  31.9092402 ,  31.3118951 ,  31.18539203,\n",
       "        30.69563793,  30.30047961,  30.18320173,  29.7931936 ,\n",
       "        29.72104976,  29.60957144,  29.04418432,  28.62677431,\n",
       "        28.14549119,  28.07848655,  27.70651087,  27.4544931 ,\n",
       "        27.30376101,  27.210167  ,  27.11309153,  27.05092339,\n",
       "        27.01906518,  26.72692633,  26.51392904,  26.41814337,\n",
       "        26.34008856,  26.18801876,  26.04519203,  25.88175087,\n",
       "        25.84763195,  25.79697347,  25.70938429,  25.5061714 ,\n",
       "        25.38482374,  25.28334793,  25.02085471,  24.8806723 ,\n",
       "        24.68355814,  24.46641436,  24.40113355,  24.37313529,\n",
       "        24.27778064,  24.25327769,  24.04940599,  23.9922977 ,\n",
       "        23.8823982 ,  23.83542296,  23.63189124,  23.57562457,\n",
       "        23.47251096,  23.37704614,  23.2818213 ,  23.24052135,\n",
       "        23.1107872 ,  23.05496767,  22.97484546,  22.90169609,\n",
       "        22.76271275,  22.67491043,  22.61719791,  22.5606384 ,\n",
       "        22.49961246,  22.39457615,  22.34885345,  22.28537289,\n",
       "        22.22218731,  22.20403472,  22.00477438,  21.95856884,\n",
       "        21.90219526,  21.81845511,  21.79294043,  21.73280475,\n",
       "        21.6441024 ,  21.56233625,  21.48964583,  21.44551146,\n",
       "        21.39268512,  21.1985662 ,  21.17015674,  21.12151897,\n",
       "        21.06832213,  21.04475815,  20.92815197,  20.89840611,\n",
       "        20.77327062,  20.74980559,  20.7140745 ,  20.60724126,\n",
       "        20.56265634,  20.48118521,  20.42070847,  20.37672218,\n",
       "        20.33628206,  20.2873947 ,  20.21409474,  20.20345041,\n",
       "        20.1437422 ,  20.0319171 ,  19.9468324 ,  19.94216695,\n",
       "        19.87366991,  19.80148498,  19.77168572,  19.73683459,\n",
       "        19.65902775,  19.62304254,  19.56276807,  19.5619103 ,\n",
       "        19.51566185,  19.43845848,  19.40581245,  19.35425104,\n",
       "        19.32207609,  19.25611147,  19.21023972,  19.16324617,\n",
       "        19.12978818,  19.08947978,  19.03509822,  18.96735652,\n",
       "        18.94474696,  18.91103478,  18.89460011,  18.83200328,\n",
       "        18.80372692,  18.72046515,  18.66081261,  18.65554776,\n",
       "        18.63699837,  18.58609023,  18.55328105,  18.49016546,\n",
       "        18.42058561,  18.36681127,  18.29316222,  18.2634555 ,\n",
       "        18.19424603,  18.17148683,  18.12350723,  18.05930713,\n",
       "        18.01380863,  17.98891005,  17.9296064 ,  17.90915186,\n",
       "        17.85238495,  17.80667605,  17.78326419,  17.7456199 ,\n",
       "        17.68552225,  17.64643561,  17.58120847,  17.56067437,\n",
       "        17.53222624,  17.49267308,  17.47167182,  17.39592602,\n",
       "        17.364824  ,  17.35104576,  17.31491351,  17.28463866,\n",
       "        17.19064464,  17.17497642,  17.14003963,  17.10076269,\n",
       "        17.04100178,  17.0026755 ,  16.97081937,  16.93520526,\n",
       "        16.91022983,  16.84899308,  16.78879649,  16.72779716,\n",
       "        16.69841618,  16.65166047,  16.63110336,  16.60367552,\n",
       "        16.50711049,  16.48684698,  16.46338271,  16.40884242])"
      ]
     },
     "execution_count": 16,
     "metadata": {},
     "output_type": "execute_result"
    }
   ],
   "source": [
    "S"
   ]
  },
  {
   "cell_type": "code",
   "execution_count": null,
   "metadata": {},
   "outputs": [],
   "source": []
  },
  {
   "cell_type": "code",
   "execution_count": 17,
   "metadata": {},
   "outputs": [],
   "source": [
    "# transform query to be in same space as documents\n",
    "\n",
    "q = q.reshape(1,-1)  # changes (n,) vector to (1,n)\n",
    "qhat = lsa.transform(q)"
   ]
  },
  {
   "cell_type": "code",
   "execution_count": 18,
   "metadata": {},
   "outputs": [
    {
     "name": "stdout",
     "output_type": "stream",
     "text": [
      "(1, 200)\n",
      "(690814, 200)\n",
      "(200, 73069)\n"
     ]
    }
   ],
   "source": [
    "print(qhat.shape)\n",
    "print(USigma.shape)\n",
    "print(Vtrans.shape)"
   ]
  },
  {
   "cell_type": "code",
   "execution_count": 19,
   "metadata": {},
   "outputs": [],
   "source": [
    "lsa_scores = cosine_similarity(qhat, USigma)  "
   ]
  },
  {
   "cell_type": "code",
   "execution_count": 20,
   "metadata": {},
   "outputs": [
    {
     "data": {
      "text/plain": [
       "473396"
      ]
     },
     "execution_count": 20,
     "metadata": {},
     "output_type": "execute_result"
    }
   ],
   "source": [
    "sum(lsa_scores[0] > 0)\n",
    "\n",
    "# 50: 518954\n",
    "# 100: 486165\n",
    "# 150: 480029\n",
    "# 200: 473396 \n",
    "# 500: 445744"
   ]
  },
  {
   "cell_type": "code",
   "execution_count": 21,
   "metadata": {},
   "outputs": [
    {
     "data": {
      "image/png": "[encoded data removed]",
      "text/plain": [
       "<Figure size 432x288 with 1 Axes>"
      ]
     },
     "metadata": {
      "needs_background": "light"
     },
     "output_type": "display_data"
    }
   ],
   "source": [
    "plt.hist(lsa_scores[0], bins = 30);\n",
    "#plt.xlim(0.9, 1.1)"
   ]
  },
  {
   "cell_type": "code",
   "execution_count": 22,
   "metadata": {},
   "outputs": [
    {
     "data": {
      "text/plain": [
       "703"
      ]
     },
     "execution_count": 22,
     "metadata": {},
     "output_type": "execute_result"
    }
   ],
   "source": [
    "#np.percentile(lsa_scores[0], 93)\n",
    "\n",
    "sum(lsa_scores[0] >= 0.5) # len(lsa_scores[0])\n",
    "\n",
    "# 50: 16210\n",
    "# 100: 2857\n",
    "# 150: 1015\n",
    "# 200: 703\n",
    "# 500: 15"
   ]
  },
  {
   "cell_type": "code",
   "execution_count": null,
   "metadata": {},
   "outputs": [],
   "source": []
  },
  {
   "cell_type": "code",
   "execution_count": 23,
   "metadata": {},
   "outputs": [
    {
     "data": {
      "text/plain": [
       "array([0.71775819, 0.7035631 , 0.69959444, 0.69776959, 0.69685481,\n",
       "       0.69253468, 0.68933348, 0.68715914, 0.68613186, 0.68315753])"
      ]
     },
     "execution_count": 23,
     "metadata": {},
     "output_type": "execute_result"
    }
   ],
   "source": [
    "lsa_idx = return_top_abstracts(lsa_scores[0], 3000)  # CHANGE NUMBER OF TOP DOCS RETURNED\n",
    "top_lsa_abstracts = docs[lsa_idx]\n",
    "\n",
    "# top scores\n",
    "lsa_scores[0][lsa_idx][0:10]"
   ]
  },
  {
   "cell_type": "code",
   "execution_count": 24,
   "metadata": {},
   "outputs": [
    {
     "data": {
      "text/plain": [
       "689263    learn algorithm pervasively deploy robotic sys...\n",
       "456658    learn robot behavior large data set important ...\n",
       "627918    goal project develop machine learning algorith...\n",
       "611795    machine learning science design computational ...\n",
       "675385    project develop technique efficient incrementa...\n",
       "509794    project develop groundwork system allow large ...\n",
       "645307    robot task environment complex challenging pro...\n",
       "84714     goal project allow human assist machine learn ...\n",
       "63555     currently surge interest service robotics desi...\n",
       "509380    virtual agent physical robot common increase n...\n",
       "643591    machine learning algorithm increasingly everyd...\n",
       "82414     past year machine learning algorithm especiall...\n",
       "108334    project consider problem apprenticeship learn ...\n",
       "627420    new security exploit emerge far faster manual ...\n",
       "642224    remote control robot potential allow human per...\n",
       "683102    broader impact commercial potential small busi...\n",
       "633822    project develop new method use deep reinforcem...\n",
       "515214    goal research investigate significantly advanc...\n",
       "516548    goal research investigate significantly advanc...\n",
       "665021    machine learning ml promise way build adaptive...\n",
       "84844     landmark human intelligence ability find solut...\n",
       "378785    research program develop theory algorithm enab...\n",
       "637041    high cost safety risk associate human perform ...\n",
       "509467    cyberphysical system widespread increase numbe...\n",
       "109800    2009 group researcher harvard lead nsf expedit...\n",
       "558789    propose work seek develop computational approa...\n",
       "685095    inspire award partially fund information integ...\n",
       "360440    machine learning classifier core component tec...\n",
       "642215    collaborative robot robot share human work per...\n",
       "634007    useful warehouse home environment school retai...\n",
       "531425    recent advance artificial intelligence human r...\n",
       "519846    ability human learn transfer knowledge related...\n",
       "519833    ability human learn transfer knowledge related...\n",
       "676755    year effort develop algorithm capable learn re...\n",
       "26869     science researcher hope use algorithm machine ...\n",
       "520638    research explore deep technical challenge new ...\n",
       "445294    machine learning forefront recent advance scie...\n",
       "266656    cognition new world primates project goal deve...\n",
       "675638    recent advance robot platform outpace ability ...\n",
       "612478    goal project robot use continuous stream visua...\n",
       "83804     machine learning increasingly important approa...\n",
       "533649    year robotics research transition concerned ex...\n",
       "288887    increase availability data attract huge effort...\n",
       "369320    small business innovation research sbir phase ...\n",
       "544059    sger proposal concern accumulation representat...\n",
       "544405    sger proposal concern accumulation representat...\n",
       "511437    intelligent processing complex signal image so...\n",
       "400148    project analyze strategic manipulation learn p...\n",
       "363305    general purpose robot poise enter home workpla...\n",
       "567032    objective research enable operation synthetic ...\n",
       "dtype: object"
      ]
     },
     "execution_count": 24,
     "metadata": {},
     "output_type": "execute_result"
    }
   ],
   "source": [
    "top_lsa_abstracts[0:50]"
   ]
  },
  {
   "cell_type": "code",
   "execution_count": 25,
   "metadata": {},
   "outputs": [
    {
     "data": {
      "text/plain": [
       "'ever- increase number mobile application use deep learning model provide novel useful feature language translation object recognition feature support pass input data example photo audio clip complex model order generate meaningful output mobile application use deep learning model currently need choose prediction accuracy speed development time lead poor user experience reason run state art model older mobile device propose modi mobile deep inference project outline new research design implement mobile aware deep inference platform combine innovation algorithm system optimization propose work address mobile deep inference performance problem enable flexible fine grain model partition layer base inference execution mobile model design modi enable scalable mobile deep inference paradigm efficient model management device cloud project empower deep learning provide useful feature mobile application significantly improve performance consequently project open door allow run optimize deep learning model resource constrain device embed device modi project use standalone cloud system integrate exist general inference serve platform incorporate mobile optimization increase adoption broader impact project graduate undergraduate course incorporate research result outreach expose undergraduate k 12 student research computer system deep learning project related source code resource release research community project website http://tianguo.info/projects/modi.html'"
      ]
     },
     "execution_count": 25,
     "metadata": {},
     "output_type": "execute_result"
    }
   ],
   "source": [
    "top_lsa_abstracts.iloc[800]"
   ]
  },
  {
   "cell_type": "code",
   "execution_count": null,
   "metadata": {},
   "outputs": [],
   "source": []
  },
  {
   "cell_type": "markdown",
   "metadata": {},
   "source": [
    "#### Scratch work for choosing rank of Truncated SVD in LSI"
   ]
  },
  {
   "cell_type": "code",
   "execution_count": 26,
   "metadata": {},
   "outputs": [
    {
     "name": "stdout",
     "output_type": "stream",
     "text": [
      "853\n"
     ]
    },
    {
     "data": {
      "text/plain": [
       "83"
      ]
     },
     "execution_count": 26,
     "metadata": {},
     "output_type": "execute_result"
    }
   ],
   "source": [
    "print(len(set(lsa_idx[0:936]) - set(term_match_idx)))  # worst possible: 936\n",
    "\n",
    "# 50: 890\n",
    "# 100: 877\n",
    "# 150: 853\n",
    "# 200: 853 \n",
    "# 500: 844\n",
    "\n",
    "len(set(term_match_idx).intersection(set(lsa_idx[:936])))"
   ]
  },
  {
   "cell_type": "code",
   "execution_count": null,
   "metadata": {},
   "outputs": [],
   "source": []
  },
  {
   "cell_type": "code",
   "execution_count": 28,
   "metadata": {},
   "outputs": [],
   "source": [
    "#idx_50 = lsa_idx\n",
    "#idx_100 = lsa_idx\n",
    "#idx_150 = lsa_idx\n",
    "#idx_200 = lsa_idx\n",
    "#idx_500 = lsa_idx"
   ]
  },
  {
   "cell_type": "code",
   "execution_count": 57,
   "metadata": {},
   "outputs": [
    {
     "data": {
      "text/plain": [
       "array([235896,  49442, 578917, 520638, 636134, 386435, 360906, 214643,\n",
       "       684048, 685888, 684153, 627420, 613355, 627735, 515214, 516548,\n",
       "       609262, 628826, 510510, 628668, 546712, 686073, 603468, 513537,\n",
       "       624932, 624933, 252415, 622160, 533250, 512383, 510998, 503154,\n",
       "       523438, 112648, 580395, 475248, 595235, 633889, 243916, 445294,\n",
       "       243929, 524895, 683102, 531779, 633822, 618752, 675385, 564004,\n",
       "       483551, 618597])"
      ]
     },
     "execution_count": 57,
     "metadata": {},
     "output_type": "execute_result"
    }
   ],
   "source": [
    "idx_50[0:50]"
   ]
  },
  {
   "cell_type": "code",
   "execution_count": 72,
   "metadata": {},
   "outputs": [
    {
     "data": {
      "text/plain": [
       "array([509794, 515214, 516548, 675385, 473620, 689263, 633889, 617179,\n",
       "       520638, 456658, 642215, 386435, 510998, 512383, 678689, 627918,\n",
       "       627420, 526852, 484124, 686119, 685943, 675290, 638728, 638659,\n",
       "       627104, 509380, 109800, 555368, 294655, 642224, 106248, 571551,\n",
       "        70629,  84714, 611795, 294658, 533250, 533649, 509467, 576029,\n",
       "       595735, 637041, 642643, 634007, 526880,  77931, 369320, 645307,\n",
       "       112556, 628725])"
      ]
     },
     "execution_count": 72,
     "metadata": {},
     "output_type": "execute_result"
    }
   ],
   "source": [
    "idx_100[0:50]"
   ]
  },
  {
   "cell_type": "code",
   "execution_count": 87,
   "metadata": {},
   "outputs": [
    {
     "data": {
      "text/plain": [
       "array([675385, 627918, 509794, 456658, 689263, 515214, 516548, 686119,\n",
       "       685943, 627420, 520638, 509380, 645307, 109800, 378785, 509467,\n",
       "       642224, 294655,  84714, 642215, 675638, 595735, 526852, 294658,\n",
       "       288887, 683102, 445294, 637041, 611795, 627104, 685095, 363305,\n",
       "       108334, 484124, 627059, 369320, 386435, 634007,  82414, 643591,\n",
       "       628725, 533649, 524895, 665021, 628826, 555368, 362676, 642602,\n",
       "        26088, 567032])"
      ]
     },
     "execution_count": 87,
     "metadata": {},
     "output_type": "execute_result"
    }
   ],
   "source": [
    "idx_150[0:50]"
   ]
  },
  {
   "cell_type": "code",
   "execution_count": 29,
   "metadata": {},
   "outputs": [
    {
     "data": {
      "text/plain": [
       "array([689263, 456658, 627918, 611795, 675385, 509794, 645307,  84714,\n",
       "        63555, 509380, 643591,  82414, 108334, 627420, 642224, 683102,\n",
       "       633822, 515214, 516548, 665021,  84844, 378785, 637041, 509467,\n",
       "       109800, 558789, 685095, 360440, 642215, 634007, 531425, 519846,\n",
       "       519833, 676755,  26869, 520638, 445294, 266656, 675638, 612478,\n",
       "        83804, 533649, 288887, 369320, 544059, 544405, 511437, 400148,\n",
       "       363305, 567032])"
      ]
     },
     "execution_count": 29,
     "metadata": {},
     "output_type": "execute_result"
    }
   ],
   "source": [
    "idx_200[0:50]"
   ]
  },
  {
   "cell_type": "code",
   "execution_count": 120,
   "metadata": {},
   "outputs": [
    {
     "data": {
      "text/plain": [
       "array([109800, 689263,  63555, 456658, 643591, 627918, 524895, 112433,\n",
       "       544059, 544405, 627420, 683102, 689160, 363802, 510850,  84714,\n",
       "        82414, 611795, 531425, 360440, 235896, 378785, 516548, 515214,\n",
       "        83804, 477862, 685095, 232473, 509794, 645307,  26088, 675638,\n",
       "       564692, 634007, 614897, 665021, 679808, 532824, 595285, 321163,\n",
       "       637041, 552214, 484124, 685934, 294655, 337761, 338740, 494941,\n",
       "        26869, 386435])"
      ]
     },
     "execution_count": 120,
     "metadata": {},
     "output_type": "execute_result"
    }
   ],
   "source": [
    "idx_500[0:50]"
   ]
  },
  {
   "cell_type": "code",
   "execution_count": 119,
   "metadata": {},
   "outputs": [],
   "source": [
    "#pickle.dump([idx_50, idx_100, idx_150, idx_200, idx_500], open('ai-rank_test.sav','wb'))"
   ]
  },
  {
   "cell_type": "code",
   "execution_count": null,
   "metadata": {},
   "outputs": [],
   "source": [
    "# import saved data\n",
    "f = open('rank_test.sav', 'rb')\n",
    "[idx_50, idx_100, idx_150, idx_200, idx_500] = pickle.load(f)\n",
    "f.close()"
   ]
  },
  {
   "cell_type": "code",
   "execution_count": null,
   "metadata": {},
   "outputs": [],
   "source": []
  },
  {
   "cell_type": "code",
   "execution_count": 121,
   "metadata": {},
   "outputs": [
    {
     "name": "stdout",
     "output_type": "stream",
     "text": [
      "453\n",
      "--------\n",
      "805\n"
     ]
    }
   ],
   "source": [
    "print(len(set(idx_50[0:999]) - set(idx_100[0:999]))) \n",
    "\n",
    "print('--------')\n",
    "\n",
    "print(len(set(idx_50[0:1999]) - set(idx_100[0:1999]))) "
   ]
  },
  {
   "cell_type": "code",
   "execution_count": 122,
   "metadata": {},
   "outputs": [
    {
     "name": "stdout",
     "output_type": "stream",
     "text": [
      "562\n",
      "268\n",
      "------------\n",
      "1083\n",
      "530\n"
     ]
    }
   ],
   "source": [
    "print(len(set(idx_50[0:999]) - set(idx_150[0:999])))\n",
    "print(len(set(idx_100[0:999]) - set(idx_150[0:999])))\n",
    "\n",
    "print('------------')\n",
    "\n",
    "print(len(set(idx_50[0:1999]) - set(idx_150[0:1999])))\n",
    "print(len(set(idx_100[0:1999]) - set(idx_150[0:1999])))"
   ]
  },
  {
   "cell_type": "code",
   "execution_count": 123,
   "metadata": {},
   "outputs": [
    {
     "name": "stdout",
     "output_type": "stream",
     "text": [
      "639\n",
      "394\n",
      "205\n",
      "--------\n",
      "1238\n",
      "747\n",
      "441\n"
     ]
    }
   ],
   "source": [
    "print(len(set(idx_50[0:999]) - set(idx_200[0:999])))\n",
    "print(len(set(idx_100[0:999]) - set(idx_200[0:999])))\n",
    "print(len(set(idx_150[0:999]) - set(idx_200[0:999])))\n",
    "\n",
    "print('--------')\n",
    "\n",
    "print(len(set(idx_50[0:1999]) - set(idx_200[0:1999])))\n",
    "print(len(set(idx_100[0:1999]) - set(idx_200[0:1999])))\n",
    "print(len(set(idx_150[0:1999]) - set(idx_200[0:1999])))"
   ]
  },
  {
   "cell_type": "code",
   "execution_count": 124,
   "metadata": {},
   "outputs": [
    {
     "name": "stdout",
     "output_type": "stream",
     "text": [
      "697\n",
      "463\n",
      "338\n",
      "310\n",
      "--------\n",
      "1344\n",
      "918\n",
      "681\n",
      "556\n"
     ]
    }
   ],
   "source": [
    "print(len(set(idx_50[0:999]) - set(idx_500[0:999])))\n",
    "print(len(set(idx_100[0:999]) - set(idx_500[0:999])))\n",
    "print(len(set(idx_150[0:999]) - set(idx_500[0:999])))\n",
    "print(len(set(idx_200[0:999]) - set(idx_500[0:999])))\n",
    "\n",
    "print('--------')\n",
    "\n",
    "print(len(set(idx_50[0:1999]) - set(idx_500[0:1999])))\n",
    "print(len(set(idx_100[0:1999]) - set(idx_500[0:1999])))\n",
    "print(len(set(idx_150[0:1999]) - set(idx_500[0:1999])))\n",
    "print(len(set(idx_200[0:1999]) - set(idx_500[0:1999])))"
   ]
  },
  {
   "cell_type": "code",
   "execution_count": null,
   "metadata": {},
   "outputs": [],
   "source": []
  },
  {
   "cell_type": "code",
   "execution_count": 151,
   "metadata": {},
   "outputs": [
    {
     "data": {
      "text/plain": [
       "0.5000082957556983"
      ]
     },
     "execution_count": 151,
     "metadata": {},
     "output_type": "execute_result"
    }
   ],
   "source": [
    "lsa_scores[0][lsa_idx][702]"
   ]
  },
  {
   "cell_type": "code",
   "execution_count": 125,
   "metadata": {},
   "outputs": [
    {
     "name": "stdout",
     "output_type": "stream",
     "text": [
      "373\n",
      "1000\n",
      "688\n",
      "--------\n",
      "642\n",
      "15\n",
      "15\n"
     ]
    }
   ],
   "source": [
    "# check overlap for the documents returned with cosine score > 0.5\n",
    "\n",
    "# sum(lsa_scores[0] >= 0.5) \n",
    "\n",
    "# 50: 16210\n",
    "# 100: 2857\n",
    "# 150: 1015\n",
    "# 200: 703\n",
    "# 500: 15\n",
    "\n",
    "print(len(set(idx_150[0:1015]) - set(idx_200[0:703])))\n",
    "print(len(set(idx_150[0:1015]) - set(idx_500[0:15])))\n",
    "print(len(set(idx_200[0:703]) - set(idx_500[0:15])))\n",
    "\n",
    "print('--------')\n",
    "\n",
    "print(len(set(idx_150[0:1015]).intersection(set(idx_200[0:703]))))\n",
    "print(len(set(idx_150[0:1015]).intersection(set(idx_500[0:15]))))\n",
    "print(len(set(idx_500[0:15]).intersection(set(idx_200[0:703]))))"
   ]
  },
  {
   "cell_type": "code",
   "execution_count": null,
   "metadata": {},
   "outputs": [],
   "source": []
  },
  {
   "cell_type": "code",
   "execution_count": null,
   "metadata": {},
   "outputs": [],
   "source": []
  },
  {
   "cell_type": "code",
   "execution_count": null,
   "metadata": {},
   "outputs": [],
   "source": []
  },
  {
   "cell_type": "markdown",
   "metadata": {},
   "source": [
    "## Create filtered corpus\n",
    "\n",
    "We use the results of our two information retrieval techniques to create a new, smaller corpus that only contains abstracts relevant to the query. "
   ]
  },
  {
   "cell_type": "code",
   "execution_count": 30,
   "metadata": {},
   "outputs": [],
   "source": [
    "docs_ix = np.concatenate([term_match_idx, lsa_idx[:703]]) "
   ]
  },
  {
   "cell_type": "code",
   "execution_count": 31,
   "metadata": {},
   "outputs": [],
   "source": [
    "docs_idx = np.unique(docs_ix)"
   ]
  },
  {
   "cell_type": "code",
   "execution_count": 32,
   "metadata": {},
   "outputs": [
    {
     "data": {
      "text/plain": [
       "(1569,)"
      ]
     },
     "execution_count": 32,
     "metadata": {},
     "output_type": "execute_result"
    }
   ],
   "source": [
    "docs_idx.shape"
   ]
  },
  {
   "cell_type": "code",
   "execution_count": null,
   "metadata": {},
   "outputs": [],
   "source": []
  },
  {
   "cell_type": "markdown",
   "metadata": {},
   "source": [
    "**create case-study corpuses**"
   ]
  },
  {
   "cell_type": "code",
   "execution_count": 33,
   "metadata": {},
   "outputs": [],
   "source": [
    "filt_corpus = df.loc[docs_idx, :]"
   ]
  },
  {
   "cell_type": "code",
   "execution_count": 34,
   "metadata": {},
   "outputs": [
    {
     "data": {
      "text/plain": [
       "(1569, 40)"
      ]
     },
     "execution_count": 34,
     "metadata": {},
     "output_type": "execute_result"
    }
   ],
   "source": [
    "filt_corpus.shape"
   ]
  },
  {
   "cell_type": "code",
   "execution_count": 35,
   "metadata": {},
   "outputs": [],
   "source": [
    "filt_corpus.to_pickle(\"./ai_corpus.pkl\")\n",
    "\n",
    "#pandemic_corpus = pd.read_pickle(\"/home/kjl5t/dspg20RnD/data/final/dashboard_data/pandemic_corpus.pkl\")\n",
    "#pandemic_corpus.shape"
   ]
  },
  {
   "cell_type": "code",
   "execution_count": 36,
   "metadata": {},
   "outputs": [],
   "source": [
    "lim_docs = filt_corpus[\"final_frqwds_removed\"]"
   ]
  },
  {
   "cell_type": "code",
   "execution_count": null,
   "metadata": {},
   "outputs": [],
   "source": []
  },
  {
   "cell_type": "code",
   "execution_count": 37,
   "metadata": {},
   "outputs": [],
   "source": [
    "# input needed for LDA, NMF (all from Scikit-Learn) is one string per document (not a list of strings)\n",
    "\n",
    "text = []\n",
    "\n",
    "for token_list in lim_docs:\n",
    "    text.append(\" \".join(token_list))"
   ]
  },
  {
   "cell_type": "code",
   "execution_count": 38,
   "metadata": {},
   "outputs": [
    {
     "data": {
      "text/plain": [
       "1569"
      ]
     },
     "execution_count": 38,
     "metadata": {},
     "output_type": "execute_result"
    }
   ],
   "source": [
    "len(lim_docs)"
   ]
  },
  {
   "cell_type": "code",
   "execution_count": null,
   "metadata": {},
   "outputs": [],
   "source": []
  },
  {
   "cell_type": "code",
   "execution_count": null,
   "metadata": {},
   "outputs": [],
   "source": []
  },
  {
   "cell_type": "markdown",
   "metadata": {},
   "source": [
    "## Topic Modeling with relevant pandemic abstracts"
   ]
  },
  {
   "cell_type": "code",
   "execution_count": 39,
   "metadata": {},
   "outputs": [],
   "source": [
    "# function slightly modified from https://nlpforhackers.io/topic-modeling/\n",
    "\n",
    "def print_topics(model, vectorizer, top_n=10):\n",
    "    for idx, topic in enumerate(model.components_):  # loop through each row of H.  idx = row index.  topic = actual row\n",
    "        print(\"\\nTopic %d:\" % (idx))\n",
    "        #print([(vectorizer.get_feature_names()[i], topic[i])  # printing out words corresponding to indices found in next line\n",
    "                        #for i in topic.argsort()[:-top_n - 1:-1]])  # finding indices of top words in topic\n",
    "            \n",
    "        print_list = [(vectorizer.get_feature_names()[i], topic[i])  \n",
    "                        for i in topic.argsort()[:-top_n - 1:-1]]\n",
    "        for item in print_list:\n",
    "            print(item)\n",
    "        "
   ]
  },
  {
   "cell_type": "code",
   "execution_count": 40,
   "metadata": {},
   "outputs": [],
   "source": [
    "# Create a TF-IDF document-term matrix for the pandemics corpus \n",
    "\n",
    "# TRY DIFFERENT PARAMETERS IN THE TF-IDF DOC-TERM MATRIX SET-UP\n",
    "nmf_vectorizer = TfidfVectorizer(max_df=1.0, min_df=3, lowercase=True) #, max_features=int(len(lim_docs)/2))\n",
    "\n",
    "nmf_tf_idf = nmf_vectorizer.fit_transform(text)"
   ]
  },
  {
   "cell_type": "code",
   "execution_count": 41,
   "metadata": {},
   "outputs": [
    {
     "data": {
      "text/plain": [
       "(1569, 5629)"
      ]
     },
     "execution_count": 41,
     "metadata": {},
     "output_type": "execute_result"
    }
   ],
   "source": [
    "nmf_tf_idf.shape"
   ]
  },
  {
   "cell_type": "code",
   "execution_count": 42,
   "metadata": {},
   "outputs": [
    {
     "name": "stderr",
     "output_type": "stream",
     "text": [
      "/apps/software/standard/compiler/gcc/9.2.0/jupyter_conda/2020.11-py3.8/lib/python3.8/site-packages/sklearn/decomposition/_nmf.py:1076: ConvergenceWarning: Maximum number of iterations 200 reached. Increase it to improve convergence.\n",
      "  warnings.warn(\"Maximum number of iterations %d reached. Increase it to\"\n"
     ]
    }
   ],
   "source": [
    "# topic modeling with NMF\n",
    "\n",
    "nmf_model = NMF(n_components=30, random_state=1)  # TRY DIFFERENT NUMBERS OF TOPICS\n",
    "W = nmf_model.fit_transform(nmf_tf_idf)\n",
    "H = nmf_model.components_"
   ]
  },
  {
   "cell_type": "code",
   "execution_count": 43,
   "metadata": {},
   "outputs": [
    {
     "name": "stdout",
     "output_type": "stream",
     "text": [
      "\n",
      "Topic 0:\n",
      "('machine_learning', 3.1740800784574352)\n",
      "('machine', 1.3734485046737714)\n",
      "('learn', 1.257595489039766)\n",
      "('statistical', 0.7326558920406767)\n",
      "('prediction', 0.6836755941164422)\n",
      "('framework', 0.5342171579229603)\n",
      "('feature', 0.511903677688454)\n",
      "('domain', 0.45434412035364924)\n",
      "('scale', 0.447706988232282)\n",
      "('representation', 0.437348590766556)\n",
      "\n",
      "Topic 1:\n",
      "('robot', 1.9103756719289942)\n",
      "('environment', 0.2403028384771644)\n",
      "('people', 0.16515356390454364)\n",
      "('soft', 0.15102555733383377)\n",
      "('robotics', 0.148887590393513)\n",
      "('team', 0.1454574837651478)\n",
      "('human', 0.13927674845976162)\n",
      "('interaction', 0.13034737112627828)\n",
      "('motion', 0.126469719390865)\n",
      "('planning', 0.12169923435912505)\n",
      "\n",
      "Topic 2:\n",
      "('conference', 1.175315596311104)\n",
      "('doctoral', 0.7576592763408715)\n",
      "('student', 0.6719995190832855)\n",
      "('consortium', 0.6098627552430603)\n",
      "('participant', 0.408054276728099)\n",
      "('international', 0.3819266421578622)\n",
      "('travel', 0.24367776092377452)\n",
      "('participation', 0.24027077020774848)\n",
      "('hold', 0.23153120416195616)\n",
      "('senior', 0.23069780998722064)\n",
      "\n",
      "Topic 3:\n",
      "('patient', 2.109510528517823)\n",
      "('clinical', 1.2184326910677143)\n",
      "('care', 0.8520586499707963)\n",
      "('health', 0.65959706803709)\n",
      "('healthcare', 0.45327594843176133)\n",
      "('nurse', 0.4191169068148741)\n",
      "('medical', 0.39985547890005757)\n",
      "('monitoring', 0.3265436160444397)\n",
      "('provider', 0.32287309951773313)\n",
      "('falls', 0.3051289099859503)\n",
      "\n",
      "Topic 4:\n",
      "('learning', 2.66207610584655)\n",
      "('learn', 1.3631871525695092)\n",
      "('learner', 0.6187742203090844)\n",
      "('environment', 0.4696863713033406)\n",
      "('reinforcement', 0.3294600287741433)\n",
      "('technology', 0.2314779825847652)\n",
      "('attention', 0.212224657880276)\n",
      "('perceptual', 0.2120574227586793)\n",
      "('category', 0.19014518646332176)\n",
      "('cognitive', 0.17665940044978562)\n",
      "\n",
      "Topic 5:\n",
      "('human', 3.0058533603812294)\n",
      "('machine', 0.7081854697699512)\n",
      "('interaction', 0.33047849448624167)\n",
      "('team', 0.24159483587598354)\n",
      "('operator', 0.23565417578080133)\n",
      "('cognitive', 0.22863945613746314)\n",
      "('performance', 0.1810849380491996)\n",
      "('intelligence', 0.17920565837719027)\n",
      "('share', 0.17828618444231803)\n",
      "('computer', 0.17279011497148197)\n",
      "\n",
      "Topic 6:\n",
      "('task', 3.080662737655164)\n",
      "('domain', 0.4333006657979568)\n",
      "('learn', 0.34515862438231526)\n",
      "('demonstration', 0.3244016732554503)\n",
      "('transfer', 0.302128125083545)\n",
      "('performance', 0.2510306263166503)\n",
      "('multi_task_learning', 0.2466798295256587)\n",
      "('motion', 0.23534179660900345)\n",
      "('thrust', 0.23382984515214822)\n",
      "('perceptual', 0.2279364045182655)\n",
      "\n",
      "Topic 7:\n",
      "('deep', 1.8641447696003657)\n",
      "('network', 1.0175066496029437)\n",
      "('neural', 0.616483699451522)\n",
      "('learning', 0.5221391427641053)\n",
      "('cbl', 0.39642893077890734)\n",
      "('architecture', 0.39256628268581567)\n",
      "('big', 0.23325523786800376)\n",
      "('layer', 0.22743114984738197)\n",
      "('cnn', 0.21077485087194722)\n",
      "('dl', 0.2026657270749875)\n",
      "\n",
      "Topic 8:\n",
      "('visual', 1.431281767569555)\n",
      "('vision', 0.8408809901629986)\n",
      "('scene', 0.7295861698437188)\n",
      "('image', 0.576878838398531)\n",
      "('object', 0.5436642479252246)\n",
      "('recognition', 0.3121590260297507)\n",
      "('representation', 0.2334516770473194)\n",
      "('perceptual', 0.21036361302559745)\n",
      "('computer', 0.2063581812855432)\n",
      "('eye', 0.18944405583462462)\n",
      "\n",
      "Topic 9:\n",
      "('computational', 0.8571414143446148)\n",
      "('thinking', 0.6993044894579099)\n",
      "('clinician', 0.6127336209613645)\n",
      "('medical', 0.4764283188896882)\n",
      "('cognitive', 0.4629720656338533)\n",
      "('projects', 0.4308663573720369)\n",
      "('machine_learning_intelligence_amplifying', 0.4308663573720369)\n",
      "('invigorate', 0.4308663573720369)\n",
      "('extraordinarily', 0.4241074209669626)\n",
      "('arisen', 0.4131482730093707)\n",
      "\n",
      "Topic 10:\n",
      "('melanoma', 0.9660011567578044)\n",
      "('spore', 0.624134001796492)\n",
      "('cancer', 0.45644983023641167)\n",
      "('skin', 0.44722813028914626)\n",
      "('yale', 0.3945274241611675)\n",
      "('modifier', 0.3569364452289017)\n",
      "('epigenetic', 0.3569364452289017)\n",
      "('specimen', 0.3351564250973328)\n",
      "('basal', 0.24484850708095718)\n",
      "('serological', 0.23264828260198797)\n",
      "\n",
      "Topic 11:\n",
      "('object', 1.2672082843373982)\n",
      "('hand', 1.2236460662947077)\n",
      "('grasp', 0.6247524040613796)\n",
      "('tactile', 0.5907184699258752)\n",
      "('haptic', 0.5243969377166121)\n",
      "('sensor', 0.47465485333033325)\n",
      "('grasping', 0.45014953463257545)\n",
      "('manipulation', 0.34548964596356746)\n",
      "('robotic', 0.31875044043371853)\n",
      "('touch', 0.2966106918379417)\n",
      "\n",
      "Topic 12:\n",
      "('computing', 1.0306914835665832)\n",
      "('device', 0.793422269483468)\n",
      "('hardware', 0.6832755971398592)\n",
      "('energy', 0.635401581473852)\n",
      "('architecture', 0.5355178089067734)\n",
      "('power', 0.42988161065786573)\n",
      "('technology', 0.4283746771223669)\n",
      "('platform', 0.32640112210398675)\n",
      "('memory', 0.3128009259507517)\n",
      "('performance', 0.294064936574393)\n",
      "\n",
      "Topic 13:\n",
      "('game', 1.8344097751962045)\n",
      "('player', 0.3843389139916446)\n",
      "('environment', 0.17319405509635083)\n",
      "('play', 0.17026999161446582)\n",
      "('rts_game', 0.14812512952951107)\n",
      "('strategic', 0.1340702241246683)\n",
      "('stem', 0.1331032560109539)\n",
      "('gameplay', 0.13002271094983717)\n",
      "('theory', 0.12174459013996959)\n",
      "('video_game', 0.12113584839271627)\n",
      "\n",
      "Topic 14:\n",
      "('language', 1.487490058956807)\n",
      "('natural', 0.5595218351457508)\n",
      "('word', 0.44035408479375765)\n",
      "('linguistic', 0.34950917879883736)\n",
      "('processing', 0.28196953527266694)\n",
      "('text', 0.2777520331326666)\n",
      "('representation', 0.25841822926151037)\n",
      "('meaning', 0.24237723688926463)\n",
      "('umr', 0.23100292245264467)\n",
      "('semantic', 0.18643442698201285)\n",
      "\n",
      "Topic 15:\n",
      "('workshop', 1.4133779510509832)\n",
      "('science', 0.23274221522359426)\n",
      "('participant', 0.21936620742724644)\n",
      "('job', 0.1931242651275367)\n",
      "('challenge', 0.19134994198303334)\n",
      "('opportunity', 0.17779300413307222)\n",
      "('convergence', 0.14981536942531543)\n",
      "('technology', 0.1432404342583734)\n",
      "('security', 0.13946315661985975)\n",
      "('robotics', 0.13703712769634577)\n",
      "\n",
      "Topic 16:\n",
      "('manipulation', 1.0478654728969146)\n",
      "('robotic', 0.814137752368786)\n",
      "('uncertainty', 0.6529306690415918)\n",
      "('deformable_object', 0.6123029338295599)\n",
      "('planning', 0.602055127863518)\n",
      "('manufacturing', 0.47969493131819363)\n",
      "('robotics', 0.4376868528243118)\n",
      "('motion', 0.32417346406191494)\n",
      "('autonomous', 0.21647101328785856)\n",
      "('surgical', 0.19426482326748787)\n",
      "\n",
      "Topic 17:\n",
      "('user', 1.373515699044785)\n",
      "('interface', 0.754665610552498)\n",
      "('iui', 0.20931925856993433)\n",
      "('interaction', 0.20788416422955983)\n",
      "('trust', 0.1957402671309961)\n",
      "('wheelchair', 0.16730970516513513)\n",
      "('intelligent', 0.15158171435235906)\n",
      "('technology', 0.14967219057556458)\n",
      "('assistive', 0.14752416868582016)\n",
      "('arm', 0.14095127586947104)\n",
      "\n",
      "Topic 18:\n",
      "('social', 1.262981911324331)\n",
      "('hiv', 0.30669327771956456)\n",
      "('child', 0.2714313505470471)\n",
      "('individual', 0.2520092082770472)\n",
      "('behavioral', 0.21537542404661902)\n",
      "('health', 0.19821247872597497)\n",
      "('autism', 0.197309959818799)\n",
      "('people', 0.19493707503914048)\n",
      "('technology', 0.1912588254495539)\n",
      "('choice', 0.1869202517562816)\n",
      "\n",
      "Topic 19:\n",
      "('cancer', 1.2044409413926742)\n",
      "('breast', 0.8522942013672428)\n",
      "('imaging', 0.4106060875273413)\n",
      "('image', 0.3998152892309765)\n",
      "('tumor', 0.35379703869448537)\n",
      "('clinical', 0.33515960941350353)\n",
      "('mammography', 0.2760410881535329)\n",
      "('tissue', 0.24502887092033185)\n",
      "('radiologist', 0.17456130390782254)\n",
      "('patient', 0.16713948035360168)\n",
      "\n",
      "Topic 20:\n",
      "('chemical', 0.5281565300849622)\n",
      "('drug', 0.4295201887830787)\n",
      "('protein', 0.3772237409174322)\n",
      "('molecule', 0.34950631586587055)\n",
      "('cell', 0.30141178025999465)\n",
      "('molecular', 0.25072952591557035)\n",
      "('property', 0.24768528179315363)\n",
      "('c_elegans', 0.22514808894741337)\n",
      "('genetic', 0.20294283065600047)\n",
      "('chemistry', 0.19487466088572206)\n",
      "\n",
      "Topic 21:\n",
      "('ai', 1.3282361368367575)\n",
      "('eaai', 0.27407296036116763)\n",
      "('symposium', 0.2668271855904425)\n",
      "('artificial_intelligence_ai', 0.2114664020778509)\n",
      "('educational', 0.15118219450582815)\n",
      "('education', 0.12196859473384061)\n",
      "('teaching', 0.11258264289826095)\n",
      "('aaai', 0.11179312925906669)\n",
      "('create', 0.10369130134363037)\n",
      "('technology', 0.10128711141297622)\n",
      "\n",
      "Topic 22:\n",
      "('algorithm', 1.425340956413715)\n",
      "('optimization', 0.4902630115156084)\n",
      "('efficient', 0.21442304817226515)\n",
      "('theory', 0.21340291396341424)\n",
      "('online', 0.20332317294433658)\n",
      "('search', 0.19166031607380646)\n",
      "('approximation', 0.1898867325591239)\n",
      "('combinatorial', 0.1660917418502118)\n",
      "('theoretical', 0.1638573178966937)\n",
      "('stochastic', 0.1634418041129433)\n",
      "\n",
      "Topic 23:\n",
      "('student', 1.2886626378948431)\n",
      "('teacher', 0.392309993286318)\n",
      "('reu', 0.28154478146537704)\n",
      "('school', 0.27758163517194523)\n",
      "('undergraduate', 0.26990527112017815)\n",
      "('science', 0.2664960409628969)\n",
      "('faculty', 0.24821164310005736)\n",
      "('graduate', 0.241434014494432)\n",
      "('assessment', 0.2408556061589776)\n",
      "('summer', 0.19272433352005472)\n",
      "\n",
      "Topic 24:\n",
      "('agent', 1.1467125213162561)\n",
      "('action', 0.6241350478462078)\n",
      "('reinforcement', 0.3067903675661226)\n",
      "('decision', 0.29203936574921147)\n",
      "('choice', 0.19237374076377708)\n",
      "('domain', 0.15384696552515645)\n",
      "('preference', 0.1516409906222581)\n",
      "('rl', 0.14407855351968712)\n",
      "('theory', 0.1180435850966584)\n",
      "('reward', 0.11082830925824091)\n",
      "\n",
      "Topic 25:\n",
      "('programming', 1.0704129176348594)\n",
      "('computer', 0.3840920565028899)\n",
      "('competition', 0.22524290135104555)\n",
      "('learner', 0.20907057927245726)\n",
      "('parallel', 0.20646417589682733)\n",
      "('museum', 0.2025091786327407)\n",
      "('engagement', 0.1698425404889885)\n",
      "('literacy', 0.16359171047878662)\n",
      "('mobile', 0.15710388423303479)\n",
      "('21st_century', 0.15509012051787452)\n",
      "\n",
      "Topic 26:\n",
      "('brain', 0.916609765966581)\n",
      "('neural', 0.5560893707694593)\n",
      "('neuroscience', 0.554423148331279)\n",
      "('cognitive', 0.3980871206902089)\n",
      "('neuron', 0.2581925187483606)\n",
      "('trainee', 0.2209356341212966)\n",
      "('computational', 0.19001178842976468)\n",
      "('imaging', 0.18100162297410685)\n",
      "('cortical', 0.17862067104630258)\n",
      "('disorder', 0.17333416634727183)\n",
      "\n",
      "Topic 27:\n",
      "('engineering', 1.0272661999849364)\n",
      "('science', 0.41995671907710447)\n",
      "('institute', 0.39129973456760314)\n",
      "('advanced', 0.2900305311949507)\n",
      "('engineer', 0.2645068384958072)\n",
      "('medicine', 0.2618794957875744)\n",
      "('technology', 0.23145351320201213)\n",
      "('emerge', 0.22414371874013486)\n",
      "('reverse', 0.22088850094994206)\n",
      "('grand_challenges', 0.2025273340495515)\n",
      "\n",
      "Topic 28:\n",
      "('video', 1.1123203827211081)\n",
      "('video_summarization', 0.3439560812270704)\n",
      "('image', 0.2885764829259936)\n",
      "('summarization', 0.27076108378027114)\n",
      "('search', 0.19531937026574553)\n",
      "('text', 0.18621848482611508)\n",
      "('supervise', 0.1504674455811909)\n",
      "('action', 0.14527501600813383)\n",
      "('algorithm', 0.13326514452665153)\n",
      "('browse', 0.13140299242018724)\n",
      "\n",
      "Topic 29:\n",
      "('logic', 0.828327152860558)\n",
      "('solver', 0.5628207770059755)\n",
      "('infrastructure', 0.40692636968714135)\n",
      "('solving', 0.282837948848991)\n",
      "('formula', 0.25887885330795746)\n",
      "('security', 0.19582223960012915)\n",
      "('logical', 0.15764538410928872)\n",
      "('piece', 0.13482259856931794)\n",
      "('verification', 0.13126618045336286)\n",
      "('reasoning', 0.1222903702088066)\n"
     ]
    }
   ],
   "source": [
    "print_topics(nmf_model, nmf_vectorizer, 10)"
   ]
  },
  {
   "cell_type": "code",
   "execution_count": null,
   "metadata": {},
   "outputs": [],
   "source": []
  },
  {
   "cell_type": "code",
   "execution_count": 44,
   "metadata": {},
   "outputs": [],
   "source": [
    "# TRY TOPIC MODELING WITH LDA\n",
    "# create document-term matrix\n",
    "\n",
    "lda_vectorizer = CountVectorizer(max_df=1.0, min_df=3, lowercase=True)\n",
    "lda_dtm = lda_vectorizer.fit_transform(text)"
   ]
  },
  {
   "cell_type": "code",
   "execution_count": 45,
   "metadata": {},
   "outputs": [],
   "source": [
    "# create model\n",
    "\n",
    "num_topics = 10\n",
    "lda_model = LatentDirichletAllocation(n_components=num_topics, doc_topic_prior = 1/num_topics, \n",
    "                                      topic_word_prior=0.1, n_jobs=39, random_state = 0)\n",
    "doc_top_dist = lda_model.fit_transform(lda_dtm)\n",
    "top_term_dist = lda_model.components_"
   ]
  },
  {
   "cell_type": "code",
   "execution_count": 46,
   "metadata": {},
   "outputs": [
    {
     "name": "stdout",
     "output_type": "stream",
     "text": [
      "\n",
      "Topic 0:\n",
      "('brain', 221.84305860476837)\n",
      "('image', 171.4705037297174)\n",
      "('imaging', 148.44798933360082)\n",
      "('clinical', 122.57583154422755)\n",
      "('patient', 116.63146898530947)\n",
      "('cancer', 116.3686187471945)\n",
      "('tissue', 75.62843547012453)\n",
      "('biomedical', 73.96103360158449)\n",
      "('dr', 69.35676025478287)\n",
      "('tumor', 69.02694996057585)\n",
      "\n",
      "Topic 1:\n",
      "('student', 748.8527856359768)\n",
      "('conference', 449.5678061474341)\n",
      "('participant', 217.62485144125645)\n",
      "('workshop', 207.3118399895346)\n",
      "('science', 196.77905688698817)\n",
      "('computer', 150.14622579547648)\n",
      "('artificial_intelligence', 145.16177557338122)\n",
      "('computational', 141.07847286973004)\n",
      "('consortium', 135.09965478449533)\n",
      "('graduate', 134.85572812510236)\n",
      "\n",
      "Topic 2:\n",
      "('algorithm', 999.1100938691992)\n",
      "('machine_learning', 634.2563462118017)\n",
      "('learn', 599.6854151500369)\n",
      "('task', 450.2967491917475)\n",
      "('learning', 415.85417817600273)\n",
      "('domain', 273.26124569418755)\n",
      "('computer', 256.46730717527686)\n",
      "('framework', 234.52710173042865)\n",
      "('machine', 223.41696027861238)\n",
      "('optimization', 221.46660966499908)\n",
      "\n",
      "Topic 3:\n",
      "('robot', 1804.276964942787)\n",
      "('human', 1786.1973463928396)\n",
      "('task', 625.4366951785613)\n",
      "('interaction', 406.744929800828)\n",
      "('robotic', 345.78604266225017)\n",
      "('environment', 327.93875660955393)\n",
      "('user', 308.83085370317735)\n",
      "('robotics', 280.6562696451281)\n",
      "('people', 248.55734491456386)\n",
      "('algorithm', 234.9856352616341)\n",
      "\n",
      "Topic 4:\n",
      "('patient', 352.61031644979494)\n",
      "('clinical', 280.2919894650782)\n",
      "('cancer', 168.83129839861684)\n",
      "('drug', 166.29600800543452)\n",
      "('health', 148.47254043798534)\n",
      "('care', 143.21025559394906)\n",
      "('artificial_intelligence', 105.52960409445664)\n",
      "('protein', 101.58638139993006)\n",
      "('platform', 99.05434770143047)\n",
      "('cell', 84.77891838229593)\n",
      "\n",
      "Topic 5:\n",
      "('technology', 346.51114579320034)\n",
      "('computing', 319.95432033575173)\n",
      "('device', 313.9033055016828)\n",
      "('computer', 290.80990615347815)\n",
      "('algorithm', 262.2934573929746)\n",
      "('software', 222.8908597352971)\n",
      "('network', 210.38518291991352)\n",
      "('enable', 208.43911981448161)\n",
      "('performance', 204.1866366455743)\n",
      "('machine', 188.49241235504715)\n",
      "\n",
      "Topic 6:\n",
      "('object', 305.6224024957028)\n",
      "('visual', 301.6667948721026)\n",
      "('learn', 184.1125031887773)\n",
      "('human', 167.81782629177053)\n",
      "('hand', 157.34097887175835)\n",
      "('language', 154.53581665718505)\n",
      "('learning', 150.10562403190934)\n",
      "('perceptual', 127.82350348652027)\n",
      "('task', 119.34588719279441)\n",
      "('cognitive', 97.9611586019929)\n",
      "\n",
      "Topic 7:\n",
      "('machine_learning', 90.67003330399122)\n",
      "('algorithm', 75.73622007829623)\n",
      "('social', 69.96647957335784)\n",
      "('artificial_intelligence', 69.60164355643151)\n",
      "('patient', 65.95996459162254)\n",
      "('learn', 58.31965072450427)\n",
      "('water', 58.20527015431477)\n",
      "('decision', 48.36817474970094)\n",
      "('reaction', 45.29635573505424)\n",
      "('set', 41.68348126430179)\n",
      "\n",
      "Topic 8:\n",
      "('science', 479.54269171874944)\n",
      "('student', 416.94948362755946)\n",
      "('technology', 408.6093724524416)\n",
      "('engineering', 408.1576906091936)\n",
      "('artificial_intelligence', 204.91703645681662)\n",
      "('education', 189.28304729170893)\n",
      "('computer', 179.96998482511557)\n",
      "('scientific', 168.6258714846422)\n",
      "('workshop', 157.24206078823545)\n",
      "('opportunity', 148.26757631435802)\n",
      "\n",
      "Topic 9:\n",
      "('learning', 1794.2425622239693)\n",
      "('learn', 1135.4160440822118)\n",
      "('deep', 388.18596621652233)\n",
      "('human', 371.6406132788781)\n",
      "('student', 360.55017486425487)\n",
      "('environment', 264.34759889697636)\n",
      "('science', 241.10831591908743)\n",
      "('learner', 233.54104376711584)\n",
      "('network', 212.39274154557828)\n",
      "('task', 210.8462916656157)\n"
     ]
    }
   ],
   "source": [
    "print_topics(lda_model, lda_vectorizer, 10)"
   ]
  },
  {
   "cell_type": "code",
   "execution_count": 47,
   "metadata": {},
   "outputs": [
    {
     "data": {
      "text/html": [
       "<div>\n",
       "<style scoped>\n",
       "    .dataframe tbody tr th:only-of-type {\n",
       "        vertical-align: middle;\n",
       "    }\n",
       "\n",
       "    .dataframe tbody tr th {\n",
       "        vertical-align: top;\n",
       "    }\n",
       "\n",
       "    .dataframe thead th {\n",
       "        text-align: right;\n",
       "    }\n",
       "</style>\n",
       "<table border=\"1\" class=\"dataframe\">\n",
       "  <thead>\n",
       "    <tr style=\"text-align: right;\">\n",
       "      <th></th>\n",
       "      <th>index</th>\n",
       "      <th>original index</th>\n",
       "      <th>PROJECT_ID</th>\n",
       "      <th>ABSTRACT</th>\n",
       "      <th>FY</th>\n",
       "      <th>ORG_COUNT</th>\n",
       "      <th>PI_COUNT</th>\n",
       "      <th>working_abstract</th>\n",
       "      <th>Start_Char</th>\n",
       "      <th>nchar</th>\n",
       "      <th>LAST_CHAR</th>\n",
       "      <th>lemma_abstract</th>\n",
       "      <th>clean_lemmas</th>\n",
       "      <th>stopwds_removed</th>\n",
       "      <th>n_grams_added</th>\n",
       "      <th>final_tokens</th>\n",
       "      <th>final_frqwds_removed</th>\n",
       "      <th>PROJECT_TERMS</th>\n",
       "      <th>PROJECT_TITLE</th>\n",
       "      <th>DEPARTMENT</th>\n",
       "      <th>AGENCY</th>\n",
       "      <th>IC_CENTER</th>\n",
       "      <th>PROJECT_NUMBER</th>\n",
       "      <th>PROJECT_START_DATE</th>\n",
       "      <th>PROJECT_END_DATE</th>\n",
       "      <th>CONTACT_PI_PROJECT_LEADER</th>\n",
       "      <th>OTHER_PIS</th>\n",
       "      <th>CONGRESSIONAL_DISTRICT</th>\n",
       "      <th>DUNS_NUMBER</th>\n",
       "      <th>ORGANIZATION_NAME</th>\n",
       "      <th>ORGANIZATION_CITY</th>\n",
       "      <th>ORGANIZATION_STATE</th>\n",
       "      <th>ORGANIZATION_ZIP</th>\n",
       "      <th>ORGANIZATION_COUNTRY</th>\n",
       "      <th>BUDGET_START_DATE</th>\n",
       "      <th>BUDGET_END_DATE</th>\n",
       "      <th>CFDA_CODE</th>\n",
       "      <th>FY.y</th>\n",
       "      <th>FY_TOTAL_COST</th>\n",
       "      <th>FY_TOTAL_COST_SUB_PROJECTS</th>\n",
       "    </tr>\n",
       "  </thead>\n",
       "  <tbody>\n",
       "    <tr>\n",
       "      <th>206</th>\n",
       "      <td>206</td>\n",
       "      <td>1094356</td>\n",
       "      <td>1130812</td>\n",
       "      <td>PROJECT SUMMARY / ABSTRACTModern digital patho...</td>\n",
       "      <td>2019</td>\n",
       "      <td>1</td>\n",
       "      <td>1</td>\n",
       "      <td>Modern digital pathology departments produce a...</td>\n",
       "      <td>M</td>\n",
       "      <td>3058</td>\n",
       "      <td>e</td>\n",
       "      <td>[modern, digital, pathology, department, produ...</td>\n",
       "      <td>[modern, digital, pathology, department, produ...</td>\n",
       "      <td>[modern, digital, pathology, department, produ...</td>\n",
       "      <td>[modern, digital, pathology, department, produ...</td>\n",
       "      <td>[modern, digital, pathology, department, produ...</td>\n",
       "      <td>[modern, digital, pathology, department, treme...</td>\n",
       "      <td>actionable mutation; anticancer research; Arc...</td>\n",
       "      <td>GENOTYPE AND HISTOLOGICAL PHENOTYPE RELATIONSH...</td>\n",
       "      <td>HHS</td>\n",
       "      <td>NIH</td>\n",
       "      <td>NCI</td>\n",
       "      <td>5F31CA214029-03</td>\n",
       "      <td>1/11/2017</td>\n",
       "      <td>1/10/2020</td>\n",
       "      <td>SCHAUMBERG, ANDREW JAMES</td>\n",
       "      <td>NaN</td>\n",
       "      <td>12</td>\n",
       "      <td>060217502</td>\n",
       "      <td>WEILL MEDICAL COLLEGE OF CONRELL UNIVERSITY</td>\n",
       "      <td>NEW YORK</td>\n",
       "      <td>NY</td>\n",
       "      <td>100654805</td>\n",
       "      <td>UNITED STATES</td>\n",
       "      <td>1/11/2019</td>\n",
       "      <td>1/10/2020</td>\n",
       "      <td>93.398</td>\n",
       "      <td>2019</td>\n",
       "      <td>45016.0</td>\n",
       "      <td>NaN</td>\n",
       "    </tr>\n",
       "    <tr>\n",
       "      <th>207</th>\n",
       "      <td>207</td>\n",
       "      <td>938623</td>\n",
       "      <td>931185</td>\n",
       "      <td>PROJECT SUMMARY / ABSTRACTModern digital patho...</td>\n",
       "      <td>2017</td>\n",
       "      <td>1</td>\n",
       "      <td>1</td>\n",
       "      <td>Modern digital pathology departments produce a...</td>\n",
       "      <td>M</td>\n",
       "      <td>3059</td>\n",
       "      <td>e</td>\n",
       "      <td>[modern, digital, pathology, department, produ...</td>\n",
       "      <td>[modern, digital, pathology, department, produ...</td>\n",
       "      <td>[modern, digital, pathology, department, produ...</td>\n",
       "      <td>[modern, digital, pathology, department, produ...</td>\n",
       "      <td>[modern, digital, pathology, department, produ...</td>\n",
       "      <td>[modern, digital, pathology, department, treme...</td>\n",
       "      <td>actionable mutation; anticancer research; Arc...</td>\n",
       "      <td>GENOTYPE AND HISTOLOGICAL PHENOTYPE RELATIONSH...</td>\n",
       "      <td>HHS</td>\n",
       "      <td>NIH</td>\n",
       "      <td>NCI</td>\n",
       "      <td>1F31CA214029-01</td>\n",
       "      <td>1/11/2017</td>\n",
       "      <td>1/10/2020</td>\n",
       "      <td>SCHAUMBERG, ANDREW JAMES</td>\n",
       "      <td>NaN</td>\n",
       "      <td>12</td>\n",
       "      <td>060217502</td>\n",
       "      <td>WEILL MEDICAL COLLEGE OF CONRELL UNIVERSITY</td>\n",
       "      <td>NEW YORK</td>\n",
       "      <td>NY</td>\n",
       "      <td>100654805</td>\n",
       "      <td>UNITED STATES</td>\n",
       "      <td>1/11/2017</td>\n",
       "      <td>1/10/2018</td>\n",
       "      <td>93.398</td>\n",
       "      <td>2017</td>\n",
       "      <td>44044.0</td>\n",
       "      <td>NaN</td>\n",
       "    </tr>\n",
       "    <tr>\n",
       "      <th>2940</th>\n",
       "      <td>2940</td>\n",
       "      <td>197954</td>\n",
       "      <td>119775</td>\n",
       "      <td>This is funding to support participation by ap...</td>\n",
       "      <td>2009</td>\n",
       "      <td>1</td>\n",
       "      <td>1</td>\n",
       "      <td>This is funding to support participation by ap...</td>\n",
       "      <td>T</td>\n",
       "      <td>3170</td>\n",
       "      <td>e</td>\n",
       "      <td>[fund, support, participation, approximately, ...</td>\n",
       "      <td>[fund, support, participation, approximately, ...</td>\n",
       "      <td>[fund, support, participation, approximately, ...</td>\n",
       "      <td>[fund, support, participation, approximately, ...</td>\n",
       "      <td>[fund, support, participation, approximately, ...</td>\n",
       "      <td>[fund, participation, approximately, graduate,...</td>\n",
       "      <td>Academia; Artificial Intelligence; Arts; base...</td>\n",
       "      <td>SUPPORTING STUDENTS ATTENDING IUI 2009 CONFERENCE</td>\n",
       "      <td>NSF</td>\n",
       "      <td>NSF</td>\n",
       "      <td>NaN</td>\n",
       "      <td>0914591</td>\n",
       "      <td>2/1/2009</td>\n",
       "      <td>1/31/2010</td>\n",
       "      <td>WELD, DANIEL S</td>\n",
       "      <td>NaN</td>\n",
       "      <td>07</td>\n",
       "      <td>605799469</td>\n",
       "      <td>UNIVERSITY OF WASHINGTON</td>\n",
       "      <td>SEATTLE</td>\n",
       "      <td>WA</td>\n",
       "      <td>98195-9472</td>\n",
       "      <td>UNITED STATES</td>\n",
       "      <td>NaN</td>\n",
       "      <td>NaN</td>\n",
       "      <td>47.070</td>\n",
       "      <td>2009</td>\n",
       "      <td>3459.0</td>\n",
       "      <td>NaN</td>\n",
       "    </tr>\n",
       "    <tr>\n",
       "      <th>2988</th>\n",
       "      <td>2988</td>\n",
       "      <td>197569</td>\n",
       "      <td>119389</td>\n",
       "      <td>Within the literature on causal statistical in...</td>\n",
       "      <td>2009</td>\n",
       "      <td>1</td>\n",
       "      <td>1</td>\n",
       "      <td>Within the literature on causal statistical in...</td>\n",
       "      <td>W</td>\n",
       "      <td>4672</td>\n",
       "      <td>t</td>\n",
       "      <td>[literature, causal, statistical, inference, i...</td>\n",
       "      <td>[literature, causal, statistical, inference, i...</td>\n",
       "      <td>[literature, causal, statistical, inference, i...</td>\n",
       "      <td>[literature, causal, statistical, inference, i...</td>\n",
       "      <td>[literature, causal, statistical, inference, i...</td>\n",
       "      <td>[literature, causal, statistical, inference, c...</td>\n",
       "      <td>Affect; Agriculture; Applied Research; Area; ...</td>\n",
       "      <td>COLLAB. PROPOSAL: PARTIAL AND POINT IDENTIFICA...</td>\n",
       "      <td>NSF</td>\n",
       "      <td>NSF</td>\n",
       "      <td>NaN</td>\n",
       "      <td>0852139</td>\n",
       "      <td>2/15/2009</td>\n",
       "      <td>1/31/2010</td>\n",
       "      <td>FLORES-LAGUNES, ALFONSO</td>\n",
       "      <td>NaN</td>\n",
       "      <td>06</td>\n",
       "      <td>019361885</td>\n",
       "      <td>UNIVERSITY OF FLORIDA</td>\n",
       "      <td>GAINESVILLE</td>\n",
       "      <td>FL</td>\n",
       "      <td>32611-2002</td>\n",
       "      <td>UNITED STATES</td>\n",
       "      <td>NaN</td>\n",
       "      <td>NaN</td>\n",
       "      <td>47.075</td>\n",
       "      <td>2009</td>\n",
       "      <td>63287.0</td>\n",
       "      <td>NaN</td>\n",
       "    </tr>\n",
       "    <tr>\n",
       "      <th>3035</th>\n",
       "      <td>3035</td>\n",
       "      <td>197568</td>\n",
       "      <td>119388</td>\n",
       "      <td>Within the literature on causal statistical in...</td>\n",
       "      <td>2009</td>\n",
       "      <td>1</td>\n",
       "      <td>1</td>\n",
       "      <td>Within the literature on causal statistical in...</td>\n",
       "      <td>W</td>\n",
       "      <td>4714</td>\n",
       "      <td>t</td>\n",
       "      <td>[literature, causal, statistical, inference, i...</td>\n",
       "      <td>[literature, causal, statistical, inference, i...</td>\n",
       "      <td>[literature, causal, statistical, inference, i...</td>\n",
       "      <td>[literature, causal, statistical, inference, i...</td>\n",
       "      <td>[literature, causal, statistical, inference, i...</td>\n",
       "      <td>[literature, causal, statistical, inference, c...</td>\n",
       "      <td>Affect; Agriculture; Applied Research; Area; ...</td>\n",
       "      <td>PARTIAL AND POINT IDENTIFICATION OF CAUSAL NET...</td>\n",
       "      <td>NSF</td>\n",
       "      <td>NSF</td>\n",
       "      <td>NaN</td>\n",
       "      <td>0852211</td>\n",
       "      <td>2/15/2009</td>\n",
       "      <td>1/31/2010</td>\n",
       "      <td>FLORES, CARLOS A</td>\n",
       "      <td>NaN</td>\n",
       "      <td>18</td>\n",
       "      <td>625174149</td>\n",
       "      <td>UNIVERSITY OF MIAMI CORAL GABLES</td>\n",
       "      <td>CORAL GABLES</td>\n",
       "      <td>FL</td>\n",
       "      <td>33146-2403</td>\n",
       "      <td>UNITED STATES</td>\n",
       "      <td>NaN</td>\n",
       "      <td>NaN</td>\n",
       "      <td>47.075</td>\n",
       "      <td>2009</td>\n",
       "      <td>7200.0</td>\n",
       "      <td>NaN</td>\n",
       "    </tr>\n",
       "  </tbody>\n",
       "</table>\n",
       "</div>"
      ],
      "text/plain": [
       "      index  original index PROJECT_ID  \\\n",
       "206     206         1094356    1130812   \n",
       "207     207          938623     931185   \n",
       "2940   2940          197954     119775   \n",
       "2988   2988          197569     119389   \n",
       "3035   3035          197568     119388   \n",
       "\n",
       "                                               ABSTRACT    FY  ORG_COUNT  \\\n",
       "206   PROJECT SUMMARY / ABSTRACTModern digital patho...  2019          1   \n",
       "207   PROJECT SUMMARY / ABSTRACTModern digital patho...  2017          1   \n",
       "2940  This is funding to support participation by ap...  2009          1   \n",
       "2988  Within the literature on causal statistical in...  2009          1   \n",
       "3035  Within the literature on causal statistical in...  2009          1   \n",
       "\n",
       "      PI_COUNT                                   working_abstract Start_Char  \\\n",
       "206          1  Modern digital pathology departments produce a...          M   \n",
       "207          1  Modern digital pathology departments produce a...          M   \n",
       "2940         1  This is funding to support participation by ap...          T   \n",
       "2988         1  Within the literature on causal statistical in...          W   \n",
       "3035         1  Within the literature on causal statistical in...          W   \n",
       "\n",
       "      nchar LAST_CHAR                                     lemma_abstract  \\\n",
       "206    3058         e  [modern, digital, pathology, department, produ...   \n",
       "207    3059         e  [modern, digital, pathology, department, produ...   \n",
       "2940   3170         e  [fund, support, participation, approximately, ...   \n",
       "2988   4672         t  [literature, causal, statistical, inference, i...   \n",
       "3035   4714         t  [literature, causal, statistical, inference, i...   \n",
       "\n",
       "                                           clean_lemmas  \\\n",
       "206   [modern, digital, pathology, department, produ...   \n",
       "207   [modern, digital, pathology, department, produ...   \n",
       "2940  [fund, support, participation, approximately, ...   \n",
       "2988  [literature, causal, statistical, inference, i...   \n",
       "3035  [literature, causal, statistical, inference, i...   \n",
       "\n",
       "                                        stopwds_removed  \\\n",
       "206   [modern, digital, pathology, department, produ...   \n",
       "207   [modern, digital, pathology, department, produ...   \n",
       "2940  [fund, support, participation, approximately, ...   \n",
       "2988  [literature, causal, statistical, inference, i...   \n",
       "3035  [literature, causal, statistical, inference, i...   \n",
       "\n",
       "                                          n_grams_added  \\\n",
       "206   [modern, digital, pathology, department, produ...   \n",
       "207   [modern, digital, pathology, department, produ...   \n",
       "2940  [fund, support, participation, approximately, ...   \n",
       "2988  [literature, causal, statistical, inference, i...   \n",
       "3035  [literature, causal, statistical, inference, i...   \n",
       "\n",
       "                                           final_tokens  \\\n",
       "206   [modern, digital, pathology, department, produ...   \n",
       "207   [modern, digital, pathology, department, produ...   \n",
       "2940  [fund, support, participation, approximately, ...   \n",
       "2988  [literature, causal, statistical, inference, i...   \n",
       "3035  [literature, causal, statistical, inference, i...   \n",
       "\n",
       "                                   final_frqwds_removed  \\\n",
       "206   [modern, digital, pathology, department, treme...   \n",
       "207   [modern, digital, pathology, department, treme...   \n",
       "2940  [fund, participation, approximately, graduate,...   \n",
       "2988  [literature, causal, statistical, inference, c...   \n",
       "3035  [literature, causal, statistical, inference, c...   \n",
       "\n",
       "                                          PROJECT_TERMS  \\\n",
       "206    actionable mutation; anticancer research; Arc...   \n",
       "207    actionable mutation; anticancer research; Arc...   \n",
       "2940   Academia; Artificial Intelligence; Arts; base...   \n",
       "2988   Affect; Agriculture; Applied Research; Area; ...   \n",
       "3035   Affect; Agriculture; Applied Research; Area; ...   \n",
       "\n",
       "                                          PROJECT_TITLE DEPARTMENT AGENCY  \\\n",
       "206   GENOTYPE AND HISTOLOGICAL PHENOTYPE RELATIONSH...        HHS    NIH   \n",
       "207   GENOTYPE AND HISTOLOGICAL PHENOTYPE RELATIONSH...        HHS    NIH   \n",
       "2940  SUPPORTING STUDENTS ATTENDING IUI 2009 CONFERENCE        NSF    NSF   \n",
       "2988  COLLAB. PROPOSAL: PARTIAL AND POINT IDENTIFICA...        NSF    NSF   \n",
       "3035  PARTIAL AND POINT IDENTIFICATION OF CAUSAL NET...        NSF    NSF   \n",
       "\n",
       "     IC_CENTER   PROJECT_NUMBER PROJECT_START_DATE PROJECT_END_DATE  \\\n",
       "206        NCI  5F31CA214029-03          1/11/2017        1/10/2020   \n",
       "207        NCI  1F31CA214029-01          1/11/2017        1/10/2020   \n",
       "2940       NaN          0914591           2/1/2009        1/31/2010   \n",
       "2988       NaN          0852139          2/15/2009        1/31/2010   \n",
       "3035       NaN          0852211          2/15/2009        1/31/2010   \n",
       "\n",
       "     CONTACT_PI_PROJECT_LEADER OTHER_PIS CONGRESSIONAL_DISTRICT DUNS_NUMBER  \\\n",
       "206   SCHAUMBERG, ANDREW JAMES       NaN                     12   060217502   \n",
       "207   SCHAUMBERG, ANDREW JAMES       NaN                     12   060217502   \n",
       "2940            WELD, DANIEL S       NaN                     07   605799469   \n",
       "2988   FLORES-LAGUNES, ALFONSO       NaN                     06   019361885   \n",
       "3035          FLORES, CARLOS A       NaN                     18   625174149   \n",
       "\n",
       "                                ORGANIZATION_NAME ORGANIZATION_CITY  \\\n",
       "206   WEILL MEDICAL COLLEGE OF CONRELL UNIVERSITY          NEW YORK   \n",
       "207   WEILL MEDICAL COLLEGE OF CONRELL UNIVERSITY          NEW YORK   \n",
       "2940                     UNIVERSITY OF WASHINGTON           SEATTLE   \n",
       "2988                        UNIVERSITY OF FLORIDA       GAINESVILLE   \n",
       "3035             UNIVERSITY OF MIAMI CORAL GABLES      CORAL GABLES   \n",
       "\n",
       "     ORGANIZATION_STATE ORGANIZATION_ZIP ORGANIZATION_COUNTRY  \\\n",
       "206                  NY        100654805        UNITED STATES   \n",
       "207                  NY        100654805        UNITED STATES   \n",
       "2940                 WA       98195-9472        UNITED STATES   \n",
       "2988                 FL       32611-2002        UNITED STATES   \n",
       "3035                 FL       33146-2403        UNITED STATES   \n",
       "\n",
       "     BUDGET_START_DATE BUDGET_END_DATE CFDA_CODE  FY.y  FY_TOTAL_COST  \\\n",
       "206          1/11/2019       1/10/2020    93.398  2019        45016.0   \n",
       "207          1/11/2017       1/10/2018    93.398  2017        44044.0   \n",
       "2940               NaN             NaN    47.070  2009         3459.0   \n",
       "2988               NaN             NaN    47.075  2009        63287.0   \n",
       "3035               NaN             NaN    47.075  2009         7200.0   \n",
       "\n",
       "      FY_TOTAL_COST_SUB_PROJECTS  \n",
       "206                          NaN  \n",
       "207                          NaN  \n",
       "2940                         NaN  \n",
       "2988                         NaN  \n",
       "3035                         NaN  "
      ]
     },
     "execution_count": 47,
     "metadata": {},
     "output_type": "execute_result"
    }
   ],
   "source": [
    "filt_corpus.head()"
   ]
  },
  {
   "cell_type": "code",
   "execution_count": null,
   "metadata": {},
   "outputs": [],
   "source": []
  }
 ],
 "metadata": {
  "kernelspec": {
   "display_name": "Python 3",
   "language": "python",
   "name": "python3"
  },
  "language_info": {
   "codemirror_mode": {
    "name": "ipython",
    "version": 3
   },
   "file_extension": ".py",
   "mimetype": "text/x-python",
   "name": "python",
   "nbconvert_exporter": "python",
   "pygments_lexer": "ipython3",
   "version": "3.8.8"
  }
 },
 "nbformat": 4,
 "nbformat_minor": 4
}
