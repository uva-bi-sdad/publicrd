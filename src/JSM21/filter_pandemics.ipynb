{
 "cells": [
  {
   "cell_type": "markdown",
   "metadata": {},
   "source": [
    "# Information Retrieval - Corpus Filtering  \n",
    "This notebook retrieves abstracts relevant to pandemics and then uses topic modeling to analyze the chosen abstracts.  Two info retrieval techniques are used: Literal Term Matching and Latent Semantic Indexing.  These are linear algebra techniques.  \n",
    "We use the Scikit-Learn library."
   ]
  },
  {
   "cell_type": "code",
   "execution_count": 1,
   "metadata": {},
   "outputs": [
    {
     "name": "stderr",
     "output_type": "stream",
     "text": [
      "/home/kjl5t/.local/lib/python3.8/site-packages/gensim/similarities/__init__.py:15: UserWarning: The gensim.similarities.levenshtein submodule is disabled, because the optional Levenshtein package <https://pypi.org/project/python-Levenshtein/> is unavailable. Install Levenhstein (e.g. `pip install python-Levenshtein`) to suppress this warning.\n",
      "  warnings.warn(msg)\n"
     ]
    }
   ],
   "source": [
    "import pandas as pd\n",
    "pd.set_option('display.max_columns', 50)\n",
    "\n",
    "import numpy as np\n",
    "import pickle\n",
    "import matplotlib.pyplot as plt\n",
    "import gensim\n",
    "import time\n",
    "\n",
    "from sklearn.decomposition import NMF, TruncatedSVD, LatentDirichletAllocation\n",
    "from sklearn.feature_extraction.text import CountVectorizer\n",
    "from sklearn.feature_extraction.text import TfidfVectorizer\n",
    "#from sklearn.metrics import pairwise_distances\n",
    "from sklearn.metrics.pairwise import cosine_similarity\n",
    "\n",
    "#import spacy\n",
    "#from spacy.lang.en.stop_words import STOP_WORDS"
   ]
  },
  {
   "cell_type": "code",
   "execution_count": null,
   "metadata": {},
   "outputs": [],
   "source": []
  },
  {
   "cell_type": "code",
   "execution_count": 2,
   "metadata": {},
   "outputs": [],
   "source": [
    "# pull in data\n",
    "\n",
    "# full corpus\n",
    "df = pd.read_pickle(\"../../data/prd/Federal_RePORTER/FR-cleaned-2021FEB24.pkl\")\n",
    "#df = pd.read_pickle(\"/home/kjl5t/dspg21RnD/data/dspg21RnD/smaller-final-dataset.pkl\")\n",
    "\n",
    "# pandemics corpus\n",
    "#df = pd.read_pickle(\"pandemic_corpus.pkl\")\n",
    "#df.reset_index(inplace = True)\n",
    "#df.rename(columns={'index':'original index'}, inplace=True)"
   ]
  },
  {
   "cell_type": "code",
   "execution_count": 3,
   "metadata": {},
   "outputs": [
    {
     "data": {
      "text/html": [
       "<div>\n",
       "<style scoped>\n",
       "    .dataframe tbody tr th:only-of-type {\n",
       "        vertical-align: middle;\n",
       "    }\n",
       "\n",
       "    .dataframe tbody tr th {\n",
       "        vertical-align: top;\n",
       "    }\n",
       "\n",
       "    .dataframe thead th {\n",
       "        text-align: right;\n",
       "    }\n",
       "</style>\n",
       "<table border=\"1\" class=\"dataframe\">\n",
       "  <thead>\n",
       "    <tr style=\"text-align: right;\">\n",
       "      <th></th>\n",
       "      <th>index</th>\n",
       "      <th>original index</th>\n",
       "      <th>PROJECT_ID</th>\n",
       "      <th>ABSTRACT</th>\n",
       "      <th>FY</th>\n",
       "      <th>ORG_COUNT</th>\n",
       "      <th>PI_COUNT</th>\n",
       "      <th>working_abstract</th>\n",
       "      <th>Start_Char</th>\n",
       "      <th>nchar</th>\n",
       "      <th>LAST_CHAR</th>\n",
       "      <th>lemma_abstract</th>\n",
       "      <th>clean_lemmas</th>\n",
       "      <th>stopwds_removed</th>\n",
       "      <th>n_grams_added</th>\n",
       "      <th>final_tokens</th>\n",
       "      <th>final_frqwds_removed</th>\n",
       "      <th>PROJECT_TERMS</th>\n",
       "      <th>PROJECT_TITLE</th>\n",
       "      <th>DEPARTMENT</th>\n",
       "      <th>AGENCY</th>\n",
       "      <th>IC_CENTER</th>\n",
       "      <th>PROJECT_NUMBER</th>\n",
       "      <th>PROJECT_START_DATE</th>\n",
       "      <th>PROJECT_END_DATE</th>\n",
       "      <th>CONTACT_PI_PROJECT_LEADER</th>\n",
       "      <th>OTHER_PIS</th>\n",
       "      <th>CONGRESSIONAL_DISTRICT</th>\n",
       "      <th>DUNS_NUMBER</th>\n",
       "      <th>ORGANIZATION_NAME</th>\n",
       "      <th>ORGANIZATION_CITY</th>\n",
       "      <th>ORGANIZATION_STATE</th>\n",
       "      <th>ORGANIZATION_ZIP</th>\n",
       "      <th>ORGANIZATION_COUNTRY</th>\n",
       "      <th>BUDGET_START_DATE</th>\n",
       "      <th>BUDGET_END_DATE</th>\n",
       "      <th>CFDA_CODE</th>\n",
       "      <th>FY.y</th>\n",
       "      <th>FY_TOTAL_COST</th>\n",
       "      <th>FY_TOTAL_COST_SUB_PROJECTS</th>\n",
       "    </tr>\n",
       "  </thead>\n",
       "  <tbody>\n",
       "    <tr>\n",
       "      <th>0</th>\n",
       "      <td>0</td>\n",
       "      <td>17608</td>\n",
       "      <td>152242</td>\n",
       "      <td>The multiprotein complex y-secretase proteolyt...</td>\n",
       "      <td>2008</td>\n",
       "      <td>1</td>\n",
       "      <td>1</td>\n",
       "      <td>The multiprotein complex y-secretase proteolyt...</td>\n",
       "      <td>T</td>\n",
       "      <td>1402</td>\n",
       "      <td>g</td>\n",
       "      <td>[multiprotein, complex, y-secretase, proteolyt...</td>\n",
       "      <td>[multiprotein, complex, y-secretase, proteolyt...</td>\n",
       "      <td>[multiprotein, complex, y-secretase, proteolyt...</td>\n",
       "      <td>[multiprotein, complex, y-secretase, proteolyt...</td>\n",
       "      <td>[multiprotein, complex, y_secretase, proteolyt...</td>\n",
       "      <td>[multiprotein, y_secretase, proteolytically_cl...</td>\n",
       "      <td>Active Sites; Affect; Alzheimer's Disease; Am...</td>\n",
       "      <td>STRUCTURE OF SIGNAL PEPTIDE PEPTIDASE</td>\n",
       "      <td>HHS</td>\n",
       "      <td>NIH</td>\n",
       "      <td>NIA</td>\n",
       "      <td>5F32AG027647-03</td>\n",
       "      <td>12/1/2005</td>\n",
       "      <td>1/1/2008</td>\n",
       "      <td>LIEBERMAN, RAQUEL L</td>\n",
       "      <td>NaN</td>\n",
       "      <td>07</td>\n",
       "      <td>030811269</td>\n",
       "      <td>BRIGHAM AND WOMEN'S HOSPITAL</td>\n",
       "      <td>BOSTON</td>\n",
       "      <td>MA</td>\n",
       "      <td>021156110</td>\n",
       "      <td>UNITED STATES</td>\n",
       "      <td>12/1/2007</td>\n",
       "      <td>1/1/2008</td>\n",
       "      <td>93.866</td>\n",
       "      <td>2008</td>\n",
       "      <td>3483.0</td>\n",
       "      <td>NaN</td>\n",
       "    </tr>\n",
       "    <tr>\n",
       "      <th>1</th>\n",
       "      <td>1</td>\n",
       "      <td>111864</td>\n",
       "      <td>190316</td>\n",
       "      <td>DESCRIPTION (provided by applicant):   The Kis...</td>\n",
       "      <td>2008</td>\n",
       "      <td>1</td>\n",
       "      <td>1</td>\n",
       "      <td>The Kissl gene encodes peptides called kisspep...</td>\n",
       "      <td>T</td>\n",
       "      <td>2553</td>\n",
       "      <td>y</td>\n",
       "      <td>[Kissl, gene, encode, peptide, call, kisspepti...</td>\n",
       "      <td>[kissl, gene, encode, peptide, call, kisspepti...</td>\n",
       "      <td>[kissl, gene, encode, peptide, kisspeptin, bin...</td>\n",
       "      <td>[kissl, gene, encode, peptide, kisspeptin, bin...</td>\n",
       "      <td>[kissl, gene, encode, peptide, kisspeptin, bin...</td>\n",
       "      <td>[kissl, gene, encode, peptide, kisspeptin, bin...</td>\n",
       "      <td>Affect; Animal Model; Axon; Behavior; Behavio...</td>\n",
       "      <td>ROLE OF KISS1 NEURONS IN THE SEASONAL AND CIRC...</td>\n",
       "      <td>HHS</td>\n",
       "      <td>NIH</td>\n",
       "      <td>NICHD</td>\n",
       "      <td>5K99HD056157-02</td>\n",
       "      <td>9/1/2007</td>\n",
       "      <td>1/1/2009</td>\n",
       "      <td>KAUFFMAN, ALEXANDER S</td>\n",
       "      <td>NaN</td>\n",
       "      <td>07</td>\n",
       "      <td>605799469</td>\n",
       "      <td>UNIVERSITY OF WASHINGTON</td>\n",
       "      <td>SEATTLE</td>\n",
       "      <td>WA</td>\n",
       "      <td>981959472</td>\n",
       "      <td>UNITED STATES</td>\n",
       "      <td>9/1/2008</td>\n",
       "      <td>1/1/2009</td>\n",
       "      <td>93.865</td>\n",
       "      <td>2008</td>\n",
       "      <td>39175.0</td>\n",
       "      <td>NaN</td>\n",
       "    </tr>\n",
       "    <tr>\n",
       "      <th>2</th>\n",
       "      <td>2</td>\n",
       "      <td>22052</td>\n",
       "      <td>154213</td>\n",
       "      <td>DESCRIPTION (provided by applicant): The objec...</td>\n",
       "      <td>2008</td>\n",
       "      <td>1</td>\n",
       "      <td>1</td>\n",
       "      <td>The objective of this research is to understan...</td>\n",
       "      <td>T</td>\n",
       "      <td>1414</td>\n",
       "      <td>e</td>\n",
       "      <td>[objective, research, be, understand, biophysi...</td>\n",
       "      <td>[objective, research, be, understand, biophysi...</td>\n",
       "      <td>[objective, research, understand, biophysical,...</td>\n",
       "      <td>[objective, research, understand, biophysical,...</td>\n",
       "      <td>[objective, research, understand, biophysical,...</td>\n",
       "      <td>[biophysical, basis, thermodynamics_kinetic, m...</td>\n",
       "      <td>Agreement; Antibodies; base; Binding; Biochem...</td>\n",
       "      <td>CARBONIC ANHYDRASE AS A MODEL TO UNDERSTAND DI...</td>\n",
       "      <td>HHS</td>\n",
       "      <td>NIH</td>\n",
       "      <td>NIGMS</td>\n",
       "      <td>5F32GM076971-02</td>\n",
       "      <td>1/2/2007</td>\n",
       "      <td>1/1/2009</td>\n",
       "      <td>MACK, ERIC T</td>\n",
       "      <td>NaN</td>\n",
       "      <td>05</td>\n",
       "      <td>082359691</td>\n",
       "      <td>HARVARD UNIVERSITY</td>\n",
       "      <td>CAMBRIDGE</td>\n",
       "      <td>MA</td>\n",
       "      <td>021385319</td>\n",
       "      <td>UNITED STATES</td>\n",
       "      <td>1/2/2008</td>\n",
       "      <td>1/1/2009</td>\n",
       "      <td>93.859</td>\n",
       "      <td>2008</td>\n",
       "      <td>49646.0</td>\n",
       "      <td>NaN</td>\n",
       "    </tr>\n",
       "    <tr>\n",
       "      <th>3</th>\n",
       "      <td>3</td>\n",
       "      <td>35004</td>\n",
       "      <td>159362</td>\n",
       "      <td>Obesity is the cause of many adverse pregnancy...</td>\n",
       "      <td>2008</td>\n",
       "      <td>1</td>\n",
       "      <td>1</td>\n",
       "      <td>Obesity is the cause of many adverse pregnancy...</td>\n",
       "      <td>O</td>\n",
       "      <td>1545</td>\n",
       "      <td>d</td>\n",
       "      <td>[obesity, cause, many, adverse, pregnancyoutco...</td>\n",
       "      <td>[obesity, cause, many, adverse, pregnancyoutco...</td>\n",
       "      <td>[obesity, cause, adverse, pregnancyoutcome, re...</td>\n",
       "      <td>[obesity, cause, adverse_pregnancyoutcome, res...</td>\n",
       "      <td>[obesity, cause, adverse_pregnancyoutcome, res...</td>\n",
       "      <td>[obesity, adverse_pregnancyoutcome, great, hea...</td>\n",
       "      <td>African; Analysis of Variance; Asians; Birth;...</td>\n",
       "      <td>OBESITY ON VAGAL TONE AND HBA1C DURING PREGNANCY</td>\n",
       "      <td>HHS</td>\n",
       "      <td>NIH</td>\n",
       "      <td>NINR</td>\n",
       "      <td>5F31NR009611-03</td>\n",
       "      <td>4/1/2006</td>\n",
       "      <td>1/1/2009</td>\n",
       "      <td>HELMREICH, REBECCA J</td>\n",
       "      <td>NaN</td>\n",
       "      <td>09</td>\n",
       "      <td>800771594</td>\n",
       "      <td>UNIVERSITY OF TEXAS HLTH SCI CTR HOUSTON</td>\n",
       "      <td>HOUSTON</td>\n",
       "      <td>TX</td>\n",
       "      <td>770305400</td>\n",
       "      <td>UNITED STATES</td>\n",
       "      <td>4/1/2008</td>\n",
       "      <td>1/1/2009</td>\n",
       "      <td>93.361</td>\n",
       "      <td>2008</td>\n",
       "      <td>20406.0</td>\n",
       "      <td>NaN</td>\n",
       "    </tr>\n",
       "    <tr>\n",
       "      <th>4</th>\n",
       "      <td>4</td>\n",
       "      <td>371628</td>\n",
       "      <td>594482</td>\n",
       "      <td>Local potato advisory groups have expressed in...</td>\n",
       "      <td>2010</td>\n",
       "      <td>1</td>\n",
       "      <td>1</td>\n",
       "      <td>Local potato advisory groups have expressed in...</td>\n",
       "      <td>L</td>\n",
       "      <td>271</td>\n",
       "      <td>s</td>\n",
       "      <td>[local, potato, advisory, group, express, inte...</td>\n",
       "      <td>[local, potato, advisory, group, express, inte...</td>\n",
       "      <td>[local, potato, advisory, group, express, inte...</td>\n",
       "      <td>[local, potato, advisory, group, express, inte...</td>\n",
       "      <td>[local, potato, advisory, group, express, inte...</td>\n",
       "      <td>[local, potato, advisory, express, interest, m...</td>\n",
       "      <td>cost; Health; interest; Manure; Parasitic nem...</td>\n",
       "      <td>PLANT-PARASITIC NEMATODE MANAGEMENT AS A COMPO...</td>\n",
       "      <td>USDA</td>\n",
       "      <td>NIFA</td>\n",
       "      <td>NaN</td>\n",
       "      <td>0219605</td>\n",
       "      <td>10/1/2009</td>\n",
       "      <td>1/1/2010</td>\n",
       "      <td>CHARLTON, B.</td>\n",
       "      <td>NaN</td>\n",
       "      <td>NaN</td>\n",
       "      <td>053599908</td>\n",
       "      <td>OREGON STATE UNIVERSITY</td>\n",
       "      <td>CORVALLIS</td>\n",
       "      <td>OR</td>\n",
       "      <td>97331</td>\n",
       "      <td>UNITED STATES</td>\n",
       "      <td>NaN</td>\n",
       "      <td>NaN</td>\n",
       "      <td>10.203</td>\n",
       "      <td>2010</td>\n",
       "      <td>NaN</td>\n",
       "      <td>NaN</td>\n",
       "    </tr>\n",
       "  </tbody>\n",
       "</table>\n",
       "</div>"
      ],
      "text/plain": [
       "   index  original index PROJECT_ID  \\\n",
       "0      0           17608     152242   \n",
       "1      1          111864     190316   \n",
       "2      2           22052     154213   \n",
       "3      3           35004     159362   \n",
       "4      4          371628     594482   \n",
       "\n",
       "                                            ABSTRACT    FY  ORG_COUNT  \\\n",
       "0  The multiprotein complex y-secretase proteolyt...  2008          1   \n",
       "1  DESCRIPTION (provided by applicant):   The Kis...  2008          1   \n",
       "2  DESCRIPTION (provided by applicant): The objec...  2008          1   \n",
       "3  Obesity is the cause of many adverse pregnancy...  2008          1   \n",
       "4  Local potato advisory groups have expressed in...  2010          1   \n",
       "\n",
       "   PI_COUNT                                   working_abstract Start_Char  \\\n",
       "0         1  The multiprotein complex y-secretase proteolyt...          T   \n",
       "1         1  The Kissl gene encodes peptides called kisspep...          T   \n",
       "2         1  The objective of this research is to understan...          T   \n",
       "3         1  Obesity is the cause of many adverse pregnancy...          O   \n",
       "4         1  Local potato advisory groups have expressed in...          L   \n",
       "\n",
       "   nchar LAST_CHAR                                     lemma_abstract  \\\n",
       "0   1402         g  [multiprotein, complex, y-secretase, proteolyt...   \n",
       "1   2553         y  [Kissl, gene, encode, peptide, call, kisspepti...   \n",
       "2   1414         e  [objective, research, be, understand, biophysi...   \n",
       "3   1545         d  [obesity, cause, many, adverse, pregnancyoutco...   \n",
       "4    271         s  [local, potato, advisory, group, express, inte...   \n",
       "\n",
       "                                        clean_lemmas  \\\n",
       "0  [multiprotein, complex, y-secretase, proteolyt...   \n",
       "1  [kissl, gene, encode, peptide, call, kisspepti...   \n",
       "2  [objective, research, be, understand, biophysi...   \n",
       "3  [obesity, cause, many, adverse, pregnancyoutco...   \n",
       "4  [local, potato, advisory, group, express, inte...   \n",
       "\n",
       "                                     stopwds_removed  \\\n",
       "0  [multiprotein, complex, y-secretase, proteolyt...   \n",
       "1  [kissl, gene, encode, peptide, kisspeptin, bin...   \n",
       "2  [objective, research, understand, biophysical,...   \n",
       "3  [obesity, cause, adverse, pregnancyoutcome, re...   \n",
       "4  [local, potato, advisory, group, express, inte...   \n",
       "\n",
       "                                       n_grams_added  \\\n",
       "0  [multiprotein, complex, y-secretase, proteolyt...   \n",
       "1  [kissl, gene, encode, peptide, kisspeptin, bin...   \n",
       "2  [objective, research, understand, biophysical,...   \n",
       "3  [obesity, cause, adverse_pregnancyoutcome, res...   \n",
       "4  [local, potato, advisory, group, express, inte...   \n",
       "\n",
       "                                        final_tokens  \\\n",
       "0  [multiprotein, complex, y_secretase, proteolyt...   \n",
       "1  [kissl, gene, encode, peptide, kisspeptin, bin...   \n",
       "2  [objective, research, understand, biophysical,...   \n",
       "3  [obesity, cause, adverse_pregnancyoutcome, res...   \n",
       "4  [local, potato, advisory, group, express, inte...   \n",
       "\n",
       "                                final_frqwds_removed  \\\n",
       "0  [multiprotein, y_secretase, proteolytically_cl...   \n",
       "1  [kissl, gene, encode, peptide, kisspeptin, bin...   \n",
       "2  [biophysical, basis, thermodynamics_kinetic, m...   \n",
       "3  [obesity, adverse_pregnancyoutcome, great, hea...   \n",
       "4  [local, potato, advisory, express, interest, m...   \n",
       "\n",
       "                                       PROJECT_TERMS  \\\n",
       "0   Active Sites; Affect; Alzheimer's Disease; Am...   \n",
       "1   Affect; Animal Model; Axon; Behavior; Behavio...   \n",
       "2   Agreement; Antibodies; base; Binding; Biochem...   \n",
       "3   African; Analysis of Variance; Asians; Birth;...   \n",
       "4   cost; Health; interest; Manure; Parasitic nem...   \n",
       "\n",
       "                                       PROJECT_TITLE DEPARTMENT AGENCY  \\\n",
       "0              STRUCTURE OF SIGNAL PEPTIDE PEPTIDASE        HHS    NIH   \n",
       "1  ROLE OF KISS1 NEURONS IN THE SEASONAL AND CIRC...        HHS    NIH   \n",
       "2  CARBONIC ANHYDRASE AS A MODEL TO UNDERSTAND DI...        HHS    NIH   \n",
       "3   OBESITY ON VAGAL TONE AND HBA1C DURING PREGNANCY        HHS    NIH   \n",
       "4  PLANT-PARASITIC NEMATODE MANAGEMENT AS A COMPO...       USDA   NIFA   \n",
       "\n",
       "  IC_CENTER   PROJECT_NUMBER PROJECT_START_DATE PROJECT_END_DATE  \\\n",
       "0       NIA  5F32AG027647-03          12/1/2005         1/1/2008   \n",
       "1     NICHD  5K99HD056157-02           9/1/2007         1/1/2009   \n",
       "2     NIGMS  5F32GM076971-02           1/2/2007         1/1/2009   \n",
       "3      NINR  5F31NR009611-03           4/1/2006         1/1/2009   \n",
       "4       NaN          0219605          10/1/2009         1/1/2010   \n",
       "\n",
       "  CONTACT_PI_PROJECT_LEADER OTHER_PIS CONGRESSIONAL_DISTRICT DUNS_NUMBER  \\\n",
       "0       LIEBERMAN, RAQUEL L       NaN                     07   030811269   \n",
       "1     KAUFFMAN, ALEXANDER S       NaN                     07   605799469   \n",
       "2              MACK, ERIC T       NaN                     05   082359691   \n",
       "3      HELMREICH, REBECCA J       NaN                     09   800771594   \n",
       "4              CHARLTON, B.       NaN                    NaN   053599908   \n",
       "\n",
       "                          ORGANIZATION_NAME ORGANIZATION_CITY  \\\n",
       "0              BRIGHAM AND WOMEN'S HOSPITAL            BOSTON   \n",
       "1                  UNIVERSITY OF WASHINGTON           SEATTLE   \n",
       "2                        HARVARD UNIVERSITY         CAMBRIDGE   \n",
       "3  UNIVERSITY OF TEXAS HLTH SCI CTR HOUSTON           HOUSTON   \n",
       "4                   OREGON STATE UNIVERSITY         CORVALLIS   \n",
       "\n",
       "  ORGANIZATION_STATE ORGANIZATION_ZIP ORGANIZATION_COUNTRY BUDGET_START_DATE  \\\n",
       "0                 MA        021156110        UNITED STATES         12/1/2007   \n",
       "1                 WA        981959472        UNITED STATES          9/1/2008   \n",
       "2                 MA        021385319        UNITED STATES          1/2/2008   \n",
       "3                 TX        770305400        UNITED STATES          4/1/2008   \n",
       "4                 OR            97331        UNITED STATES               NaN   \n",
       "\n",
       "  BUDGET_END_DATE CFDA_CODE  FY.y  FY_TOTAL_COST  FY_TOTAL_COST_SUB_PROJECTS  \n",
       "0        1/1/2008    93.866  2008         3483.0                         NaN  \n",
       "1        1/1/2009    93.865  2008        39175.0                         NaN  \n",
       "2        1/1/2009    93.859  2008        49646.0                         NaN  \n",
       "3        1/1/2009    93.361  2008        20406.0                         NaN  \n",
       "4             NaN    10.203  2010            NaN                         NaN  "
      ]
     },
     "execution_count": 3,
     "metadata": {},
     "output_type": "execute_result"
    }
   ],
   "source": [
    "df.head()"
   ]
  },
  {
   "cell_type": "code",
   "execution_count": 4,
   "metadata": {},
   "outputs": [
    {
     "data": {
      "text/plain": [
       "0"
      ]
     },
     "execution_count": 4,
     "metadata": {},
     "output_type": "execute_result"
    }
   ],
   "source": [
    "sum(df[\"PROJECT_START_DATE\"].isna())"
   ]
  },
  {
   "cell_type": "code",
   "execution_count": null,
   "metadata": {},
   "outputs": [],
   "source": []
  },
  {
   "cell_type": "code",
   "execution_count": null,
   "metadata": {},
   "outputs": [],
   "source": []
  },
  {
   "cell_type": "code",
   "execution_count": 5,
   "metadata": {},
   "outputs": [],
   "source": [
    "# input needed for doc-term matrix creation in Scikit-Learn is one string per document (not a list of strings).  \n",
    "# Original data 'ABSTRACT' is already in this form, but not the tokens in \"final_frqwds_removed\"\n",
    "\n",
    "\n",
    "tokens = df[\"stopwds_removed\"]\n",
    "\n",
    "docs = [] # docs will contain the processed tokens in string form (1 string per abstract)\n",
    "\n",
    "for abstract in tokens:\n",
    "    docs.append(\" \".join(abstract))\n",
    "    \n",
    "docs = pd.Series(docs)\n",
    "\n",
    "\n",
    "#docs = df[\"ABSTRACT\"]  # raw text\n"
   ]
  },
  {
   "cell_type": "code",
   "execution_count": null,
   "metadata": {},
   "outputs": [],
   "source": []
  },
  {
   "cell_type": "code",
   "execution_count": null,
   "metadata": {},
   "outputs": [],
   "source": []
  },
  {
   "cell_type": "markdown",
   "metadata": {},
   "source": [
    "### Term Matching"
   ]
  },
  {
   "cell_type": "code",
   "execution_count": 6,
   "metadata": {},
   "outputs": [],
   "source": [
    "# new approach to grab all \"pandemic\" matches\n",
    "\n",
    "term_match_idx = []\n",
    "\n",
    "for i, abstract in enumerate(docs):\n",
    "    if ('pandemic' in abstract): #or ('epidemic' in abstract):\n",
    "        term_match_idx.append(i)\n",
    "        "
   ]
  },
  {
   "cell_type": "code",
   "execution_count": 7,
   "metadata": {},
   "outputs": [
    {
     "data": {
      "text/plain": [
       "2307"
      ]
     },
     "execution_count": 7,
     "metadata": {},
     "output_type": "execute_result"
    }
   ],
   "source": [
    "len(term_match_idx) "
   ]
  },
  {
   "cell_type": "code",
   "execution_count": null,
   "metadata": {},
   "outputs": [],
   "source": []
  },
  {
   "cell_type": "code",
   "execution_count": null,
   "metadata": {},
   "outputs": [],
   "source": []
  },
  {
   "cell_type": "markdown",
   "metadata": {},
   "source": [
    "### Helper Functions"
   ]
  },
  {
   "cell_type": "code",
   "execution_count": 8,
   "metadata": {},
   "outputs": [],
   "source": [
    "# Create binary query vector \n",
    "\n",
    "def create_query(words, terms):\n",
    "    \n",
    "    # words: search query words\n",
    "    # terms: terms in corpus\n",
    "    \n",
    "    q = np.zeros(len(terms))  # number of terms\n",
    "\n",
    "    idx = []\n",
    "    for word in query_words:\n",
    "        idx.append(terms.index(word))\n",
    "\n",
    "    q[idx] = 1\n",
    "    \n",
    "    return q"
   ]
  },
  {
   "cell_type": "code",
   "execution_count": 9,
   "metadata": {},
   "outputs": [],
   "source": [
    "def return_top_abstracts(scores, top_n):\n",
    "    \n",
    "    '''\n",
    "    docs: Series that contains abstract\n",
    "    scores: scores of abstracts\n",
    "    top_n: return the top_n abstracts given by idx, if top_n = -1 return all abstracts\n",
    "    '''\n",
    "    # sort scores in descending order\n",
    "    scores_sorted_idx = np.argsort(scores)[::-1]\n",
    "    \n",
    "    if top_n == -1:\n",
    "        n = sum(scores > 0)\n",
    "        ix = scores_sorted_idx[:n]\n",
    "    else:\n",
    "        ix = scores_sorted_idx[:top_n]\n",
    "    \n",
    "    #print(ix[0:10])\n",
    "    \n",
    "    return ix\n",
    "    "
   ]
  },
  {
   "cell_type": "code",
   "execution_count": 10,
   "metadata": {},
   "outputs": [],
   "source": [
    "def create_result_df(abstracts, scores):\n",
    "    \n",
    "    df = pd.DataFrame()\n",
    "    df[\"abstracts\"] = abstracts\n",
    "    df[\"scores\"] = scores\n",
    "    \n",
    "    return df"
   ]
  },
  {
   "cell_type": "code",
   "execution_count": null,
   "metadata": {},
   "outputs": [],
   "source": []
  },
  {
   "cell_type": "markdown",
   "metadata": {},
   "source": [
    "## Latent Semantic Indexing (LSI)"
   ]
  },
  {
   "cell_type": "code",
   "execution_count": 11,
   "metadata": {},
   "outputs": [],
   "source": [
    "# Find doc-term matrix using TF-IDF weighting\n",
    "\n",
    "tf_idf_vectorizer = TfidfVectorizer(min_df=20)\n",
    "tf_idf = tf_idf_vectorizer.fit_transform(docs)\n",
    "\n",
    "tf_idf_terms = tf_idf_vectorizer.get_feature_names()"
   ]
  },
  {
   "cell_type": "code",
   "execution_count": 12,
   "metadata": {},
   "outputs": [
    {
     "data": {
      "text/plain": [
       "73069"
      ]
     },
     "execution_count": 12,
     "metadata": {},
     "output_type": "execute_result"
    }
   ],
   "source": [
    "len(tf_idf_terms)"
   ]
  },
  {
   "cell_type": "code",
   "execution_count": null,
   "metadata": {},
   "outputs": [],
   "source": []
  },
  {
   "cell_type": "code",
   "execution_count": 13,
   "metadata": {},
   "outputs": [],
   "source": [
    "# CHANGE QUERY WORDS HERE\n",
    "\n",
    "query_words = []\n",
    "\n",
    "for word in tf_idf_terms:\n",
    "    if 'pandemic' in word:\n",
    "        query_words.append(word)\n",
    "\n",
    "#query_words = ['pandemic', 'pandemics'] \n",
    "              \n",
    "q = create_query(query_words, tf_idf_terms)"
   ]
  },
  {
   "cell_type": "code",
   "execution_count": 14,
   "metadata": {},
   "outputs": [
    {
     "data": {
      "text/plain": [
       "['pandemic', 'pandemics']"
      ]
     },
     "execution_count": 14,
     "metadata": {},
     "output_type": "execute_result"
    }
   ],
   "source": [
    "query_words"
   ]
  },
  {
   "cell_type": "code",
   "execution_count": null,
   "metadata": {},
   "outputs": [],
   "source": []
  },
  {
   "cell_type": "code",
   "execution_count": 15,
   "metadata": {},
   "outputs": [],
   "source": [
    "# Find the Truncated SVD of the TF-IDF matrix\n",
    "\n",
    "lsa = TruncatedSVD(n_components=200, random_state=1)  # CHANGE THE NUMBER OF COMPONENTS - NOTE: MORE COMPONENTS \n",
    "                                                      # GIVES YOU A MORE ACCURATE APPROXIMATION OF THE DOC-TERM \n",
    "                                                      # MATRIX, BUT IS ALSO MORE EXPENSIVE AND MAY NOT LEAD TO THE \n",
    "                                                      # BEST INFO RETRIEVAL RESULTS.\n",
    "USigma = lsa.fit_transform(tf_idf)\n",
    "Vtrans = lsa.components_"
   ]
  },
  {
   "cell_type": "code",
   "execution_count": 16,
   "metadata": {},
   "outputs": [],
   "source": [
    "S = lsa.singular_values_"
   ]
  },
  {
   "cell_type": "code",
   "execution_count": 17,
   "metadata": {},
   "outputs": [
    {
     "data": {
      "text/plain": [
       "array([131.42846235,  78.29545617,  59.26293043,  55.84475786,\n",
       "        54.83924446,  50.97456289,  47.30147997,  44.1971259 ,\n",
       "        41.68739349,  39.97459184,  39.56049829,  38.48671512,\n",
       "        37.4524683 ,  36.17823385,  35.17781792,  34.93699223,\n",
       "        34.01217915,  33.45551366,  33.04308953,  32.81267613,\n",
       "        32.0278632 ,  31.9092402 ,  31.3118951 ,  31.18539203,\n",
       "        30.69563793,  30.30047961,  30.18320173,  29.7931936 ,\n",
       "        29.72104976,  29.60957144,  29.04418432,  28.62677431,\n",
       "        28.14549119,  28.07848655,  27.70651087,  27.4544931 ,\n",
       "        27.30376101,  27.210167  ,  27.11309153,  27.05092339,\n",
       "        27.01906518,  26.72692633,  26.51392904,  26.41814337,\n",
       "        26.34008856,  26.18801876,  26.04519203,  25.88175087,\n",
       "        25.84763195,  25.79697347,  25.70938429,  25.5061714 ,\n",
       "        25.38482374,  25.28334793,  25.02085471,  24.8806723 ,\n",
       "        24.68355814,  24.46641436,  24.40113355,  24.37313529,\n",
       "        24.27778064,  24.25327769,  24.04940599,  23.9922977 ,\n",
       "        23.8823982 ,  23.83542296,  23.63189124,  23.57562457,\n",
       "        23.47251096,  23.37704614,  23.2818213 ,  23.24052135,\n",
       "        23.1107872 ,  23.05496767,  22.97484546,  22.90169609,\n",
       "        22.76271275,  22.67491043,  22.61719791,  22.5606384 ,\n",
       "        22.49961246,  22.39457615,  22.34885345,  22.28537289,\n",
       "        22.22218731,  22.20403472,  22.00477438,  21.95856884,\n",
       "        21.90219526,  21.81845511,  21.79294043,  21.73280475,\n",
       "        21.6441024 ,  21.56233625,  21.48964583,  21.44551146,\n",
       "        21.39268512,  21.1985662 ,  21.17015674,  21.12151897,\n",
       "        21.06832213,  21.04475815,  20.92815197,  20.89840611,\n",
       "        20.77327062,  20.74980559,  20.7140745 ,  20.60724126,\n",
       "        20.56265634,  20.48118521,  20.42070847,  20.37672218,\n",
       "        20.33628206,  20.2873947 ,  20.21409474,  20.20345041,\n",
       "        20.1437422 ,  20.0319171 ,  19.9468324 ,  19.94216695,\n",
       "        19.87366991,  19.80148498,  19.77168572,  19.73683459,\n",
       "        19.65902775,  19.62304254,  19.56276807,  19.5619103 ,\n",
       "        19.51566185,  19.43845848,  19.40581245,  19.35425104,\n",
       "        19.32207609,  19.25611147,  19.21023972,  19.16324617,\n",
       "        19.12978818,  19.08947978,  19.03509822,  18.96735652,\n",
       "        18.94474696,  18.91103478,  18.89460011,  18.83200328,\n",
       "        18.80372692,  18.72046515,  18.66081261,  18.65554776,\n",
       "        18.63699837,  18.58609023,  18.55328105,  18.49016546,\n",
       "        18.42058561,  18.36681127,  18.29316222,  18.2634555 ,\n",
       "        18.19424603,  18.17148683,  18.12350723,  18.05930713,\n",
       "        18.01380863,  17.98891005,  17.9296064 ,  17.90915186,\n",
       "        17.85238495,  17.80667605,  17.78326419,  17.7456199 ,\n",
       "        17.68552225,  17.64643561,  17.58120847,  17.56067437,\n",
       "        17.53222624,  17.49267308,  17.47167182,  17.39592602,\n",
       "        17.364824  ,  17.35104576,  17.31491351,  17.28463866,\n",
       "        17.19064464,  17.17497642,  17.14003963,  17.10076269,\n",
       "        17.04100178,  17.0026755 ,  16.97081937,  16.93520526,\n",
       "        16.91022983,  16.84899308,  16.78879649,  16.72779716,\n",
       "        16.69841618,  16.65166047,  16.63110336,  16.60367552,\n",
       "        16.50711049,  16.48684698,  16.46338271,  16.40884242])"
      ]
     },
     "execution_count": 17,
     "metadata": {},
     "output_type": "execute_result"
    }
   ],
   "source": [
    "S"
   ]
  },
  {
   "cell_type": "code",
   "execution_count": null,
   "metadata": {},
   "outputs": [],
   "source": []
  },
  {
   "cell_type": "code",
   "execution_count": 18,
   "metadata": {},
   "outputs": [],
   "source": [
    "# transform query to be in same space as documents\n",
    "\n",
    "q = q.reshape(1,-1)  # changes (n,) vector to (1,n)\n",
    "qhat = lsa.transform(q)"
   ]
  },
  {
   "cell_type": "code",
   "execution_count": 19,
   "metadata": {},
   "outputs": [
    {
     "name": "stdout",
     "output_type": "stream",
     "text": [
      "(1, 200)\n",
      "(690814, 200)\n",
      "(200, 73069)\n"
     ]
    }
   ],
   "source": [
    "print(qhat.shape)\n",
    "print(USigma.shape)\n",
    "print(Vtrans.shape)"
   ]
  },
  {
   "cell_type": "code",
   "execution_count": 20,
   "metadata": {},
   "outputs": [],
   "source": [
    "lsa_scores = cosine_similarity(qhat, USigma)  "
   ]
  },
  {
   "cell_type": "code",
   "execution_count": 21,
   "metadata": {},
   "outputs": [
    {
     "data": {
      "text/plain": [
       "362955"
      ]
     },
     "execution_count": 21,
     "metadata": {},
     "output_type": "execute_result"
    }
   ],
   "source": [
    "sum(lsa_scores[0] > 0)\n",
    "\n",
    "# 50: 375145\n",
    "# 100: 379644\n",
    "# 150: 372729\n",
    "# 200: 362955\n",
    "# 500: 354775"
   ]
  },
  {
   "cell_type": "code",
   "execution_count": 22,
   "metadata": {},
   "outputs": [
    {
     "data": {
      "image/png": "[encoded data removed]",
      "text/plain": [
       "<Figure size 432x288 with 1 Axes>"
      ]
     },
     "metadata": {
      "needs_background": "light"
     },
     "output_type": "display_data"
    }
   ],
   "source": [
    "plt.hist(lsa_scores[0], bins = 30);\n",
    "#plt.xlim(0.9, 1.1)"
   ]
  },
  {
   "cell_type": "code",
   "execution_count": 23,
   "metadata": {},
   "outputs": [
    {
     "data": {
      "text/plain": [
       "1447"
      ]
     },
     "execution_count": 23,
     "metadata": {},
     "output_type": "execute_result"
    }
   ],
   "source": [
    "#np.percentile(lsa_scores[0], 93)\n",
    "\n",
    "sum(lsa_scores[0] >= 0.5)#/len(lsa_scores[0])\n",
    "\n",
    "# 50: 9731\n",
    "# 100: 3520\n",
    "# 150: 1505\n",
    "# 200: 1447\n",
    "# 500: 1307"
   ]
  },
  {
   "cell_type": "code",
   "execution_count": null,
   "metadata": {},
   "outputs": [],
   "source": []
  },
  {
   "cell_type": "code",
   "execution_count": 24,
   "metadata": {},
   "outputs": [
    {
     "data": {
      "text/plain": [
       "array([0.97306753, 0.96263049, 0.94909616, 0.94909616, 0.94006616,\n",
       "       0.93754631, 0.93754631, 0.93754631, 0.93385689, 0.93147208])"
      ]
     },
     "execution_count": 24,
     "metadata": {},
     "output_type": "execute_result"
    }
   ],
   "source": [
    "lsa_idx = return_top_abstracts(lsa_scores[0], 3000)  # CHANGE NUMBER OF TOP DOCS RETURNED\n",
    "top_lsa_abstracts = docs[lsa_idx]\n",
    "\n",
    "# top scores\n",
    "lsa_scores[0][lsa_idx][0:10]"
   ]
  },
  {
   "cell_type": "code",
   "execution_count": 25,
   "metadata": {},
   "outputs": [
    {
     "data": {
      "text/plain": [
       "656975    seasonality major effect spatiotemporal dynami...\n",
       "532055    project fill fundamental knowledge gap influen...\n",
       "506772    influenza major health threat world cause thou...\n",
       "494325    influenza major health threat world cause thou...\n",
       "62424     children ''s hospital corporation application ...\n",
       "160659    provide rapid approach contain influenza threa...\n",
       "141163    provide rapid approach contain influenza threa...\n",
       "152028    provide rapid approach contain influenza threa...\n",
       "634389    influenza remain important preventable cause m...\n",
       "659636    influenza respiratory diseases southern hemisp...\n",
       "575566    10 20 united state population suffer seasonal ...\n",
       "477013    influenza major cause morbidity mortality near...\n",
       "655408    recognize influenza pandemics 20th century his...\n",
       "201626    goal project generate evidence inform non-phar...\n",
       "658997    influenza respiratory diseases southern hemisp...\n",
       "530525    influenza remain important cause morbidity mor...\n",
       "658186    influenza major cause morbidity mortality near...\n",
       "197965    iaa provide funding quantification usa swine i...\n",
       "179546    iaa provide funding quantification usa swine i...\n",
       "185250    iaa provide funding quantification usa swine i...\n",
       "190281    iaa provide funding quantification usa swine i...\n",
       "186328    iaa provide funding quantification usa swine i...\n",
       "193129    iaa provide funding quantification usa swine i...\n",
       "553218    1918 20 influenza pandemic largest lethal epid...\n",
       "142717    influenza virus iav significant human pathogen...\n",
       "585717    influenza continue place significant economic ...\n",
       "308156    past year increase activity avian influenza pa...\n",
       "26944     influenza major public health risk current sea...\n",
       "231632    etiology parkinson disease multivariate range ...\n",
       "666335    avian influenza highly contagious disease spre...\n",
       "682087    etiology parkinson disease multivariate range ...\n",
       "414286    etiology parkinson disease multivariate range ...\n",
       "30019     flu. epidm bangladeshbangladesh seventh populo...\n",
       "280520    advance diagnostic technique 39 75 episode res...\n",
       "659738    acute lower respiratory infection alri common ...\n",
       "658791    influenza major cause morbidity mortality near...\n",
       "532037    influenza virus constantly evolve result vacci...\n",
       "174376    seasonal influenza responsible approximately 2...\n",
       "337268    influenza pandemics foremost international pub...\n",
       "258900    influenza pathogenesis immunology research cen...\n",
       "256803    influenza pathogenesis immunology research cen...\n",
       "91293     research arctic fox raby infection remain attr...\n",
       "257015    research arctic fox raby infection remain attr...\n",
       "217136    center research influenza pathogenesis determi...\n",
       "532890    influenza vaccination best available tool redu...\n",
       "533383    influenza vaccination best available tool redu...\n",
       "459220    influenza major public health risk current sea...\n",
       "477077    acute respiratory infection result 1.9 million...\n",
       "161305    influenza virus iav significant human pathogen...\n",
       "554107    propose develop liat tm avian influenza assay ...\n",
       "dtype: object"
      ]
     },
     "execution_count": 25,
     "metadata": {},
     "output_type": "execute_result"
    }
   ],
   "source": [
    "top_lsa_abstracts[0:50]"
   ]
  },
  {
   "cell_type": "code",
   "execution_count": null,
   "metadata": {},
   "outputs": [],
   "source": []
  },
  {
   "cell_type": "code",
   "execution_count": null,
   "metadata": {},
   "outputs": [],
   "source": []
  },
  {
   "cell_type": "markdown",
   "metadata": {},
   "source": [
    "#### Scratch work for choosing rank of Truncated SVD in LSI\n",
    "\n",
    "Note: ending indices should each be +1 more than they are."
   ]
  },
  {
   "cell_type": "code",
   "execution_count": 33,
   "metadata": {},
   "outputs": [
    {
     "name": "stdout",
     "output_type": "stream",
     "text": [
      "1344\n"
     ]
    },
    {
     "data": {
      "text/plain": [
       "747"
      ]
     },
     "execution_count": 33,
     "metadata": {},
     "output_type": "execute_result"
    }
   ],
   "source": [
    "print(len(set(lsa_idx[0:2306]) - set(term_match_idx)))  # worst possible: 2307\n",
    "\n",
    "# 50: 1772 .\n",
    "# 100: 1622 .\n",
    "# 150: 1462 .\n",
    "# 200: 1344 .\n",
    "# 500: 1342 .\n",
    "\n",
    "len(set(term_match_idx).intersection(set(lsa_idx[:1446])))"
   ]
  },
  {
   "cell_type": "code",
   "execution_count": null,
   "metadata": {},
   "outputs": [],
   "source": []
  },
  {
   "cell_type": "code",
   "execution_count": 93,
   "metadata": {},
   "outputs": [],
   "source": [
    "#idx_50 = lsa_idx\n",
    "#idx_100 = lsa_idx\n",
    "#idx_150 = lsa_idx\n",
    "#idx_200 = lsa_idx\n",
    "#idx_500 = lsa_idx"
   ]
  },
  {
   "cell_type": "code",
   "execution_count": 94,
   "metadata": {},
   "outputs": [
    {
     "data": {
      "text/plain": [
       "array([367176, 359975, 165083, 159197, 195614, 192354,  87187, 166197,\n",
       "       184972, 180905, 374680, 190758, 374655, 476818, 171274, 568853,\n",
       "       459330,  86152, 144080, 668292, 152978, 322361, 476180, 538655,\n",
       "       532055,  84518, 182902, 667807, 157238, 191261, 180040, 183565,\n",
       "       128226, 157053, 166876, 149957, 185250, 179546, 197965, 186328,\n",
       "       193129, 190281, 268571, 144236, 669417, 684269,  42243,  42640,\n",
       "       161305, 316242])"
      ]
     },
     "execution_count": 94,
     "metadata": {},
     "output_type": "execute_result"
    }
   ],
   "source": [
    "idx_50[0:50]"
   ]
  },
  {
   "cell_type": "code",
   "execution_count": 95,
   "metadata": {},
   "outputs": [
    {
     "data": {
      "text/plain": [
       "array([656975, 532055, 359975, 459330, 193129, 185250, 197965, 190281,\n",
       "       179546, 186328, 367176, 161305,  86152, 374655,  62424, 142717,\n",
       "       143762, 153784, 575566, 195614, 669417, 192354, 165083, 159197,\n",
       "       183565, 414286, 682087, 374680, 190758, 188496, 322361, 538655,\n",
       "       477013, 180905, 476818, 658186, 320839, 167280, 231632,  83536,\n",
       "       541212, 165820,  16487, 157676, 541197, 530525, 424368, 152028,\n",
       "       160659, 141163])"
      ]
     },
     "execution_count": 95,
     "metadata": {},
     "output_type": "execute_result"
    }
   ],
   "source": [
    "idx_100[0:50]"
   ]
  },
  {
   "cell_type": "code",
   "execution_count": 96,
   "metadata": {},
   "outputs": [
    {
     "data": {
      "text/plain": [
       "array([656975, 532055,  62424, 494325, 506772, 142717, 197965, 179546,\n",
       "       185250, 193129, 186328, 190281, 575566, 477013, 161305, 682087,\n",
       "       414286, 658186, 231632, 160659, 152028, 141163, 666335, 143762,\n",
       "       530525, 153784, 634389, 655408, 659636, 532037, 201626, 280520,\n",
       "       374655, 658791, 459330, 658997,  26944, 532890, 533383, 157676,\n",
       "       655518, 174376, 367176, 386563, 359975, 536105, 169713, 188496,\n",
       "       165820, 607701])"
      ]
     },
     "execution_count": 96,
     "metadata": {},
     "output_type": "execute_result"
    }
   ],
   "source": [
    "idx_150[0:50]"
   ]
  },
  {
   "cell_type": "code",
   "execution_count": 97,
   "metadata": {},
   "outputs": [
    {
     "data": {
      "text/plain": [
       "array([656975, 532055, 506772, 494325,  62424, 160659, 141163, 152028,\n",
       "       634389, 659636, 575566, 477013, 655408, 201626, 658997, 530525,\n",
       "       658186, 197965, 179546, 185250, 190281, 186328, 193129, 553218,\n",
       "       142717, 585717, 308156,  26944, 231632, 666335, 682087, 414286,\n",
       "        30019, 280520, 659738, 658791, 532037, 174376, 337268, 258900,\n",
       "       256803,  91293, 257015, 217136, 532890, 533383, 459220, 477077,\n",
       "       161305, 554107])"
      ]
     },
     "execution_count": 97,
     "metadata": {},
     "output_type": "execute_result"
    }
   ],
   "source": [
    "idx_200[0:50]"
   ]
  },
  {
   "cell_type": "code",
   "execution_count": 98,
   "metadata": {},
   "outputs": [
    {
     "data": {
      "text/plain": [
       "array([656975, 532055, 494325, 506772, 477013, 201626, 634389, 659636,\n",
       "        26944, 658186, 655408, 530525, 575566, 585717, 658997, 553218,\n",
       "        62424, 308156, 658791, 459220, 256803, 258900, 666335, 193129,\n",
       "       197965, 190281, 179546, 186328, 185250, 659738, 519707, 406123,\n",
       "       231632, 280520, 217136, 524203, 477077, 414286, 682087, 422364,\n",
       "       257015,  91293, 657896, 142717, 337268, 143762, 153784,  30019,\n",
       "       157676,  17508])"
      ]
     },
     "execution_count": 98,
     "metadata": {},
     "output_type": "execute_result"
    }
   ],
   "source": [
    "idx_500[0:50]"
   ]
  },
  {
   "cell_type": "code",
   "execution_count": 99,
   "metadata": {},
   "outputs": [],
   "source": [
    "#pickle.dump([idx_50, idx_100, idx_150, idx_200, idx_500], open('rank_test.sav','wb'))"
   ]
  },
  {
   "cell_type": "code",
   "execution_count": null,
   "metadata": {},
   "outputs": [],
   "source": [
    "# import saved data\n",
    "f = open('rank_test.sav', 'rb')\n",
    "[idx_50, idx_100, idx_150, idx_200, idx_500] = pickle.load(f)\n",
    "f.close()"
   ]
  },
  {
   "cell_type": "code",
   "execution_count": null,
   "metadata": {},
   "outputs": [],
   "source": []
  },
  {
   "cell_type": "code",
   "execution_count": 100,
   "metadata": {},
   "outputs": [
    {
     "name": "stdout",
     "output_type": "stream",
     "text": [
      "318\n",
      "--------\n",
      "555\n"
     ]
    }
   ],
   "source": [
    "print(len(set(idx_50[0:999]) - set(idx_100[0:999]))) \n",
    "\n",
    "print('--------')\n",
    "\n",
    "print(len(set(idx_50[0:1999]) - set(idx_100[0:1999]))) "
   ]
  },
  {
   "cell_type": "code",
   "execution_count": 101,
   "metadata": {},
   "outputs": [
    {
     "name": "stdout",
     "output_type": "stream",
     "text": [
      "551\n",
      "301\n",
      "------------\n",
      "956\n",
      "530\n"
     ]
    }
   ],
   "source": [
    "print(len(set(idx_50[0:999]) - set(idx_150[0:999])))\n",
    "print(len(set(idx_100[0:999]) - set(idx_150[0:999])))\n",
    "\n",
    "print('------------')\n",
    "\n",
    "print(len(set(idx_50[0:1999]) - set(idx_150[0:1999])))\n",
    "print(len(set(idx_100[0:1999]) - set(idx_150[0:1999])))"
   ]
  },
  {
   "cell_type": "code",
   "execution_count": 102,
   "metadata": {},
   "outputs": [
    {
     "name": "stdout",
     "output_type": "stream",
     "text": [
      "592\n",
      "370\n",
      "95\n",
      "--------\n",
      "1231\n",
      "856\n",
      "389\n"
     ]
    }
   ],
   "source": [
    "print(len(set(idx_50[0:999]) - set(idx_200[0:999])))\n",
    "print(len(set(idx_100[0:999]) - set(idx_200[0:999])))\n",
    "print(len(set(idx_150[0:999]) - set(idx_200[0:999])))\n",
    "\n",
    "print('--------')\n",
    "\n",
    "print(len(set(idx_50[0:1999]) - set(idx_200[0:1999])))\n",
    "print(len(set(idx_100[0:1999]) - set(idx_200[0:1999])))\n",
    "print(len(set(idx_150[0:1999]) - set(idx_200[0:1999])))"
   ]
  },
  {
   "cell_type": "code",
   "execution_count": 103,
   "metadata": {},
   "outputs": [
    {
     "name": "stdout",
     "output_type": "stream",
     "text": [
      "611\n",
      "399\n",
      "133\n",
      "55\n",
      "--------\n",
      "1259\n",
      "888\n",
      "433\n",
      "85\n"
     ]
    }
   ],
   "source": [
    "print(len(set(idx_50[0:999]) - set(idx_500[0:999])))\n",
    "print(len(set(idx_100[0:999]) - set(idx_500[0:999])))\n",
    "print(len(set(idx_150[0:999]) - set(idx_500[0:999])))\n",
    "print(len(set(idx_200[0:999]) - set(idx_500[0:999])))\n",
    "\n",
    "print('--------')\n",
    "\n",
    "print(len(set(idx_50[0:1999]) - set(idx_500[0:1999])))\n",
    "print(len(set(idx_100[0:1999]) - set(idx_500[0:1999])))\n",
    "print(len(set(idx_150[0:1999]) - set(idx_500[0:1999])))\n",
    "print(len(set(idx_200[0:1999]) - set(idx_500[0:1999])))"
   ]
  },
  {
   "cell_type": "code",
   "execution_count": null,
   "metadata": {},
   "outputs": [],
   "source": []
  },
  {
   "cell_type": "code",
   "execution_count": 28,
   "metadata": {},
   "outputs": [
    {
     "data": {
      "text/plain": [
       "0.500556382216268"
      ]
     },
     "execution_count": 28,
     "metadata": {},
     "output_type": "execute_result"
    }
   ],
   "source": [
    "lsa_scores[0][lsa_idx][1446]"
   ]
  },
  {
   "cell_type": "code",
   "execution_count": 120,
   "metadata": {},
   "outputs": [
    {
     "name": "stdout",
     "output_type": "stream",
     "text": [
      "181\n",
      "231\n",
      "146\n",
      "--------\n",
      "1323\n",
      "1216\n",
      "1300\n"
     ]
    }
   ],
   "source": [
    "# check overlap for the documents returned with cosine score > 0.5\n",
    "\n",
    "#sum(lsa_scores[0] >= 0.5)\n",
    "\n",
    "# 50: 9731\n",
    "# 100: 3520\n",
    "# 150: 1505\n",
    "# 200: 1447\n",
    "# 500: 1307\n",
    "\n",
    "print(len(set(idx_150[0:1504]) - set(idx_200[0:1446])))\n",
    "print(len(set(idx_150[0:1504]) - set(idx_500[0:1446])))\n",
    "print(len(set(idx_200[0:1446]) - set(idx_500[0:1306])))\n",
    "\n",
    "print('--------')\n",
    "\n",
    "print(len(set(idx_150[0:1504]).intersection(set(idx_200[0:1446]))))\n",
    "print(len(set(idx_150[0:1504]).intersection(set(idx_500[0:1306]))))\n",
    "print(len(set(idx_500[0:1306]).intersection(set(idx_200[0:1446]))))"
   ]
  },
  {
   "cell_type": "code",
   "execution_count": null,
   "metadata": {},
   "outputs": [],
   "source": []
  },
  {
   "cell_type": "code",
   "execution_count": null,
   "metadata": {},
   "outputs": [],
   "source": []
  },
  {
   "cell_type": "code",
   "execution_count": null,
   "metadata": {},
   "outputs": [],
   "source": []
  },
  {
   "cell_type": "markdown",
   "metadata": {},
   "source": [
    "## Create filtered corpus\n",
    "\n",
    "We use the results of our two information retrieval techniques to create a new, smaller corpus that only contains abstracts relevant to the query. "
   ]
  },
  {
   "cell_type": "code",
   "execution_count": 26,
   "metadata": {},
   "outputs": [],
   "source": [
    "docs_ix = np.concatenate([term_match_idx, lsa_idx[:1447]]) "
   ]
  },
  {
   "cell_type": "code",
   "execution_count": 27,
   "metadata": {},
   "outputs": [],
   "source": [
    "docs_idx = np.unique(docs_ix)"
   ]
  },
  {
   "cell_type": "code",
   "execution_count": 28,
   "metadata": {},
   "outputs": [
    {
     "data": {
      "text/plain": [
       "(3006,)"
      ]
     },
     "execution_count": 28,
     "metadata": {},
     "output_type": "execute_result"
    }
   ],
   "source": [
    "docs_idx.shape"
   ]
  },
  {
   "cell_type": "code",
   "execution_count": null,
   "metadata": {},
   "outputs": [],
   "source": []
  },
  {
   "cell_type": "markdown",
   "metadata": {},
   "source": [
    "**create case-study corpuses**"
   ]
  },
  {
   "cell_type": "code",
   "execution_count": 29,
   "metadata": {},
   "outputs": [],
   "source": [
    "filt_corpus = df.loc[docs_idx, :]"
   ]
  },
  {
   "cell_type": "code",
   "execution_count": 30,
   "metadata": {},
   "outputs": [
    {
     "data": {
      "text/plain": [
       "(3006, 40)"
      ]
     },
     "execution_count": 30,
     "metadata": {},
     "output_type": "execute_result"
    }
   ],
   "source": [
    "filt_corpus.shape"
   ]
  },
  {
   "cell_type": "code",
   "execution_count": 31,
   "metadata": {},
   "outputs": [],
   "source": [
    "filt_corpus.to_pickle(\"./pandemic_corpus.pkl\")\n",
    "\n",
    "#pandemic_corpus = pd.read_pickle(\"/home/kjl5t/dspg20RnD/data/final/dashboard_data/pandemic_corpus.pkl\")\n",
    "#pandemic_corpus.shape"
   ]
  },
  {
   "cell_type": "code",
   "execution_count": 32,
   "metadata": {},
   "outputs": [],
   "source": [
    "lim_docs = filt_corpus[\"final_frqwds_removed\"]"
   ]
  },
  {
   "cell_type": "code",
   "execution_count": null,
   "metadata": {},
   "outputs": [],
   "source": []
  },
  {
   "cell_type": "code",
   "execution_count": 33,
   "metadata": {},
   "outputs": [],
   "source": [
    "# input needed for LDA, NMF (all from Scikit-Learn) is one string per document (not a list of strings)\n",
    "\n",
    "text = []\n",
    "\n",
    "for token_list in lim_docs:\n",
    "    text.append(\" \".join(token_list))"
   ]
  },
  {
   "cell_type": "code",
   "execution_count": 34,
   "metadata": {},
   "outputs": [
    {
     "data": {
      "text/plain": [
       "3006"
      ]
     },
     "execution_count": 34,
     "metadata": {},
     "output_type": "execute_result"
    }
   ],
   "source": [
    "len(lim_docs)"
   ]
  },
  {
   "cell_type": "code",
   "execution_count": null,
   "metadata": {},
   "outputs": [],
   "source": []
  },
  {
   "cell_type": "code",
   "execution_count": null,
   "metadata": {},
   "outputs": [],
   "source": []
  },
  {
   "cell_type": "markdown",
   "metadata": {},
   "source": [
    "## Topic Modeling with relevant pandemic abstracts"
   ]
  },
  {
   "cell_type": "code",
   "execution_count": 35,
   "metadata": {},
   "outputs": [],
   "source": [
    "# function slightly modified from https://nlpforhackers.io/topic-modeling/\n",
    "\n",
    "def print_topics(model, vectorizer, top_n=10):\n",
    "    for idx, topic in enumerate(model.components_):  # loop through each row of H.  idx = row index.  topic = actual row\n",
    "        print(\"\\nTopic %d:\" % (idx))\n",
    "        #print([(vectorizer.get_feature_names()[i], topic[i])  # printing out words corresponding to indices found in next line\n",
    "                        #for i in topic.argsort()[:-top_n - 1:-1]])  # finding indices of top words in topic\n",
    "            \n",
    "        print_list = [(vectorizer.get_feature_names()[i], topic[i])  \n",
    "                        for i in topic.argsort()[:-top_n - 1:-1]]\n",
    "        for item in print_list:\n",
    "            print(item)\n",
    "        "
   ]
  },
  {
   "cell_type": "code",
   "execution_count": 36,
   "metadata": {},
   "outputs": [],
   "source": [
    "# Create a TF-IDF document-term matrix for the pandemics corpus \n",
    "\n",
    "# TRY DIFFERENT PARAMETERS IN THE TF-IDF DOC-TERM MATRIX SET-UP\n",
    "nmf_vectorizer = TfidfVectorizer(max_df=1.0, min_df=3, lowercase=True) #, max_features=int(len(lim_docs)/2))\n",
    "\n",
    "nmf_tf_idf = nmf_vectorizer.fit_transform(text)"
   ]
  },
  {
   "cell_type": "code",
   "execution_count": 37,
   "metadata": {},
   "outputs": [
    {
     "data": {
      "text/plain": [
       "(3006, 10368)"
      ]
     },
     "execution_count": 37,
     "metadata": {},
     "output_type": "execute_result"
    }
   ],
   "source": [
    "nmf_tf_idf.shape"
   ]
  },
  {
   "cell_type": "code",
   "execution_count": 38,
   "metadata": {},
   "outputs": [],
   "source": [
    "# topic modeling with NMF\n",
    "\n",
    "nmf_model = NMF(n_components=10, random_state=1)  # TRY DIFFERENT NUMBERS OF TOPICS\n",
    "W = nmf_model.fit_transform(nmf_tf_idf)\n",
    "H = nmf_model.components_"
   ]
  },
  {
   "cell_type": "code",
   "execution_count": 39,
   "metadata": {},
   "outputs": [
    {
     "name": "stdout",
     "output_type": "stream",
     "text": [
      "\n",
      "Topic 0:\n",
      "('antibody', 1.3890866496289127)\n",
      "('ha', 0.9717156875420555)\n",
      "('influenza', 0.944854267731217)\n",
      "('epitope', 0.8652300089633391)\n",
      "('virus', 0.6842244816428539)\n",
      "('strain', 0.5125617153729217)\n",
      "('conserve', 0.4751372984985678)\n",
      "('immunogen', 0.44864935710374587)\n",
      "('protective', 0.38490650924367986)\n",
      "('cross', 0.36911760872798854)\n",
      "\n",
      "Topic 1:\n",
      "('hiv', 2.363269102713559)\n",
      "('aids', 0.3757678320441777)\n",
      "('infect', 0.21983826849966506)\n",
      "('infection', 0.20980466459926717)\n",
      "('transmission', 0.19544159407190118)\n",
      "('env', 0.17387242615046253)\n",
      "('prevention', 0.15338451578251602)\n",
      "('woman', 0.1297704212327091)\n",
      "('antiretroviral', 0.1263548021321297)\n",
      "('individual', 0.12192585983060461)\n",
      "\n",
      "Topic 2:\n",
      "('vaccine', 1.7951093502244997)\n",
      "('adjuvant', 0.35694770207499144)\n",
      "('dna', 0.31382197667368633)\n",
      "('dose', 0.3044157993544703)\n",
      "('antigen', 0.25936244781655926)\n",
      "('protection', 0.24756614105956695)\n",
      "('efficacy', 0.24034805861418296)\n",
      "('candidate', 0.22588594843395388)\n",
      "('strain', 0.21874181496855508)\n",
      "('immunogenicity', 0.21489986409550327)\n",
      "\n",
      "Topic 3:\n",
      "('cell', 1.7577574193759808)\n",
      "('memory', 0.5250526820661536)\n",
      "('infection', 0.5064926540701168)\n",
      "('lung', 0.459865953369711)\n",
      "('cd4', 0.39342148318074394)\n",
      "('immune', 0.356257437396231)\n",
      "('subset', 0.23536604321379898)\n",
      "('cytokine', 0.23517741250536733)\n",
      "('immunity', 0.2323032151779249)\n",
      "('cd8_t', 0.21782147267592658)\n",
      "\n",
      "Topic 4:\n",
      "('influenza', 1.6081896094478252)\n",
      "('child', 0.4734417641914445)\n",
      "('vaccination', 0.46849230653434787)\n",
      "('age', 0.33243657675521965)\n",
      "('respiratory', 0.326187876115958)\n",
      "('illness', 0.29539993213676907)\n",
      "('effectiveness', 0.2885367311460948)\n",
      "('infection', 0.28175395974427103)\n",
      "('adult', 0.2619198917625178)\n",
      "('population', 0.25676924386632105)\n",
      "\n",
      "Topic 5:\n",
      "('drug', 0.964525967132903)\n",
      "('inhibitor', 0.9565577250175357)\n",
      "('compound', 0.5064161560100214)\n",
      "('resistance', 0.4883651738501567)\n",
      "('protein', 0.3697042856616431)\n",
      "('antiviral', 0.35804220612322624)\n",
      "('fusion', 0.3061013505974742)\n",
      "('entry', 0.2918710858829285)\n",
      "('screen', 0.27090631251430264)\n",
      "('bind', 0.24988441805937386)\n",
      "\n",
      "Topic 6:\n",
      "('virus', 1.5761991668662274)\n",
      "('host', 0.7078123510946565)\n",
      "('influenza', 0.6600694295421968)\n",
      "('viral', 0.5701085875582055)\n",
      "('rna', 0.47397701268777487)\n",
      "('gene', 0.44262631051268764)\n",
      "('human', 0.40507992956875416)\n",
      "('infection', 0.32077918520776066)\n",
      "('replication', 0.31245534519491275)\n",
      "('protein', 0.31186245469467716)\n",
      "\n",
      "Topic 7:\n",
      "('health', 0.6017524480168788)\n",
      "('infectious', 0.44782489899512395)\n",
      "('public', 0.3708750789880633)\n",
      "('diagnostic', 0.3504723175363424)\n",
      "('technology', 0.3160711289051713)\n",
      "('student', 0.31483300110809537)\n",
      "('clinical', 0.3132630970470002)\n",
      "('scientist', 0.31137490994683814)\n",
      "('trainee', 0.2829921155713875)\n",
      "('science', 0.26104895884328894)\n",
      "\n",
      "Topic 8:\n",
      "('iav', 2.0107687214017704)\n",
      "('lung', 0.3469201551939748)\n",
      "('host', 0.2748765337023084)\n",
      "('infection', 0.26447991389806574)\n",
      "('evolution', 0.2465118142677428)\n",
      "('sp', 0.24089935977051846)\n",
      "('evade', 0.18805608675487456)\n",
      "('underlying', 0.18298220854084202)\n",
      "('immunity', 0.17468434902471305)\n",
      "('viral', 0.1673143776425967)\n",
      "\n",
      "Topic 9:\n",
      "('influenza', 0.7120021174654174)\n",
      "('animal', 0.6793317836306437)\n",
      "('ecologic', 0.5529728984582717)\n",
      "('immune', 0.5178345708711257)\n",
      "('cross_protection', 0.5164081541001169)\n",
      "('pathogenicity', 0.5078251892658899)\n",
      "('virus', 0.49694207356818954)\n",
      "('evolution', 0.476170157961983)\n",
      "('environmental', 0.4418893590513724)\n",
      "('transmission', 0.4377635878469114)\n"
     ]
    }
   ],
   "source": [
    "print_topics(nmf_model, nmf_vectorizer, 10)"
   ]
  },
  {
   "cell_type": "code",
   "execution_count": null,
   "metadata": {},
   "outputs": [],
   "source": []
  },
  {
   "cell_type": "code",
   "execution_count": 44,
   "metadata": {},
   "outputs": [],
   "source": [
    "# TRY TOPIC MODELING WITH LDA\n",
    "# create document-term matrix\n",
    "\n",
    "lda_vectorizer = CountVectorizer(max_df=1.0, min_df=3, lowercase=True)\n",
    "lda_dtm = lda_vectorizer.fit_transform(text)"
   ]
  },
  {
   "cell_type": "code",
   "execution_count": 45,
   "metadata": {},
   "outputs": [],
   "source": [
    "# create model\n",
    "\n",
    "num_topics = 10\n",
    "lda_model = LatentDirichletAllocation(n_components=num_topics, doc_topic_prior = 1/num_topics, \n",
    "                                      topic_word_prior=0.1, n_jobs=39, random_state = 0)\n",
    "doc_top_dist = lda_model.fit_transform(lda_dtm)\n",
    "top_term_dist = lda_model.components_"
   ]
  },
  {
   "cell_type": "code",
   "execution_count": 46,
   "metadata": {},
   "outputs": [
    {
     "name": "stdout",
     "output_type": "stream",
     "text": [
      "\n",
      "Topic 0:\n",
      "('virus', 1525.4434120604676)\n",
      "('protein', 1126.1206467974187)\n",
      "('viral', 1102.4826850278316)\n",
      "('influenza', 1102.337619466158)\n",
      "('drug', 959.4075573102688)\n",
      "('cell', 862.1102503722885)\n",
      "('host', 748.5477931671157)\n",
      "('infection', 713.8863832057556)\n",
      "('inhibitor', 686.472540751323)\n",
      "('antiviral', 559.0138587330052)\n",
      "\n",
      "Topic 1:\n",
      "('influenza', 2516.301212913236)\n",
      "('vaccine', 611.2175597088066)\n",
      "('child', 517.3323659383097)\n",
      "('vaccination', 493.1391539296775)\n",
      "('respiratory', 346.13523581875955)\n",
      "('health', 304.09035331927504)\n",
      "('population', 298.6905077704604)\n",
      "('virus', 284.0263811968307)\n",
      "('illness', 283.11488938156197)\n",
      "('age', 273.30372915922976)\n",
      "\n",
      "Topic 2:\n",
      "('health', 1355.3287110291553)\n",
      "('hiv', 1056.795144906868)\n",
      "('public', 712.8899074675587)\n",
      "('clinical', 603.3312981168108)\n",
      "('infectious', 533.0829880934559)\n",
      "('need', 472.5800466109964)\n",
      "('pandemic', 447.51365678286277)\n",
      "('infection', 422.8808826831427)\n",
      "('population', 420.70064017763826)\n",
      "('technology', 418.9261234638962)\n",
      "\n",
      "Topic 3:\n",
      "('vaccine', 3723.7937906125117)\n",
      "('influenza', 2592.7852823490666)\n",
      "('virus', 2401.730304918175)\n",
      "('strain', 917.2833221299993)\n",
      "('human', 581.3778710771845)\n",
      "('protection', 556.62722393745)\n",
      "('dose', 554.1661656801722)\n",
      "('antibody', 532.723208560498)\n",
      "('ha', 530.1066047441419)\n",
      "('clinical', 496.7581142208651)\n",
      "\n",
      "Topic 4:\n",
      "('cell', 308.3642644335578)\n",
      "('human', 255.96867862902687)\n",
      "('virus', 168.41166176834062)\n",
      "('pathogen', 164.73814288561832)\n",
      "('cancer', 147.3517490727677)\n",
      "('protein', 135.94961048159556)\n",
      "('infection', 115.39361954042742)\n",
      "('receptor', 105.28864133089382)\n",
      "('bat', 103.23405938271829)\n",
      "('molecular', 102.88627033078735)\n",
      "\n",
      "Topic 5:\n",
      "('lung', 325.11152480897476)\n",
      "('infection', 295.5681397251064)\n",
      "('injury', 237.87819887685217)\n",
      "('gene', 219.428510903356)\n",
      "('vaccine', 194.35410710639025)\n",
      "('bacterial', 189.91092921383867)\n",
      "('pneumonia', 178.53453283984507)\n",
      "('zikv', 136.09997048352363)\n",
      "('dna', 132.09539463113458)\n",
      "('acute', 118.48274012729452)\n",
      "\n",
      "Topic 6:\n",
      "('hiv', 4360.948452503913)\n",
      "('cell', 956.4201067666241)\n",
      "('infection', 864.612020444808)\n",
      "('infect', 687.9340856532843)\n",
      "('aids', 476.22844803134353)\n",
      "('viral', 385.57055496564703)\n",
      "('immune', 370.2571229517711)\n",
      "('transmission', 337.7112430635166)\n",
      "('individual', 293.2738304127247)\n",
      "('pandemic', 260.1009150115909)\n",
      "\n",
      "Topic 7:\n",
      "('obesity', 478.08579963044923)\n",
      "('tb', 270.5784721546753)\n",
      "('diabete', 245.2934297154236)\n",
      "('mouse', 239.56590747305722)\n",
      "('cell', 224.27791606443947)\n",
      "('insulin', 188.0862680387158)\n",
      "('mtb', 184.20308360750892)\n",
      "('il', 167.75957079196803)\n",
      "('obese', 167.55096872353175)\n",
      "('human', 166.68370422286418)\n",
      "\n",
      "Topic 8:\n",
      "('cell', 3805.9436920479498)\n",
      "('influenza', 3476.5567694944016)\n",
      "('infection', 2387.5313543587777)\n",
      "('virus', 1742.5664227509567)\n",
      "('vaccine', 1739.8585282851955)\n",
      "('immune', 1506.437812067489)\n",
      "('human', 1007.616215339206)\n",
      "('antibody', 944.4855511826969)\n",
      "('immunity', 845.0186023670831)\n",
      "('vaccination', 798.4772769953893)\n",
      "\n",
      "Topic 9:\n",
      "('virus', 2971.8372650344254)\n",
      "('influenza', 1561.7362612584056)\n",
      "('human', 1324.76326641844)\n",
      "('host', 789.9412417287206)\n",
      "('strain', 735.5200712680144)\n",
      "('viral', 678.0037360686468)\n",
      "('pandemic', 534.0755245007712)\n",
      "('gene', 513.2180629757097)\n",
      "('infection', 490.2601686465912)\n",
      "('animal', 462.24850975563896)\n"
     ]
    }
   ],
   "source": [
    "print_topics(lda_model, lda_vectorizer, 10)"
   ]
  },
  {
   "cell_type": "code",
   "execution_count": 55,
   "metadata": {},
   "outputs": [
    {
     "data": {
      "text/html": [
       "<div>\n",
       "<style scoped>\n",
       "    .dataframe tbody tr th:only-of-type {\n",
       "        vertical-align: middle;\n",
       "    }\n",
       "\n",
       "    .dataframe tbody tr th {\n",
       "        vertical-align: top;\n",
       "    }\n",
       "\n",
       "    .dataframe thead th {\n",
       "        text-align: right;\n",
       "    }\n",
       "</style>\n",
       "<table border=\"1\" class=\"dataframe\">\n",
       "  <thead>\n",
       "    <tr style=\"text-align: right;\">\n",
       "      <th></th>\n",
       "      <th>index</th>\n",
       "      <th>original index</th>\n",
       "      <th>PROJECT_ID</th>\n",
       "      <th>ABSTRACT</th>\n",
       "      <th>FY</th>\n",
       "      <th>ORG_COUNT</th>\n",
       "      <th>PI_COUNT</th>\n",
       "      <th>working_abstract</th>\n",
       "      <th>Start_Char</th>\n",
       "      <th>nchar</th>\n",
       "      <th>LAST_CHAR</th>\n",
       "      <th>lemma_abstract</th>\n",
       "      <th>clean_lemmas</th>\n",
       "      <th>stopwds_removed</th>\n",
       "      <th>n_grams_added</th>\n",
       "      <th>final_tokens</th>\n",
       "      <th>final_frqwds_removed</th>\n",
       "      <th>PROJECT_TERMS</th>\n",
       "      <th>PROJECT_TITLE</th>\n",
       "      <th>DEPARTMENT</th>\n",
       "      <th>AGENCY</th>\n",
       "      <th>IC_CENTER</th>\n",
       "      <th>PROJECT_NUMBER</th>\n",
       "      <th>PROJECT_START_DATE</th>\n",
       "      <th>PROJECT_END_DATE</th>\n",
       "      <th>CONTACT_PI_PROJECT_LEADER</th>\n",
       "      <th>OTHER_PIS</th>\n",
       "      <th>CONGRESSIONAL_DISTRICT</th>\n",
       "      <th>DUNS_NUMBER</th>\n",
       "      <th>ORGANIZATION_NAME</th>\n",
       "      <th>ORGANIZATION_CITY</th>\n",
       "      <th>ORGANIZATION_STATE</th>\n",
       "      <th>ORGANIZATION_ZIP</th>\n",
       "      <th>ORGANIZATION_COUNTRY</th>\n",
       "      <th>BUDGET_START_DATE</th>\n",
       "      <th>BUDGET_END_DATE</th>\n",
       "      <th>CFDA_CODE</th>\n",
       "      <th>FY.y</th>\n",
       "      <th>FY_TOTAL_COST</th>\n",
       "      <th>FY_TOTAL_COST_SUB_PROJECTS</th>\n",
       "    </tr>\n",
       "  </thead>\n",
       "  <tbody>\n",
       "    <tr>\n",
       "      <th>355</th>\n",
       "      <td>355</td>\n",
       "      <td>174965</td>\n",
       "      <td>583520</td>\n",
       "      <td>Since the 1960s Tennessee has been a leader in...</td>\n",
       "      <td>2008</td>\n",
       "      <td>1</td>\n",
       "      <td>1</td>\n",
       "      <td>Since the 1960s Tennessee has been a leader in...</td>\n",
       "      <td>S</td>\n",
       "      <td>3165</td>\n",
       "      <td>y</td>\n",
       "      <td>[1960, Tennessee, leader, development, adoptio...</td>\n",
       "      <td>[1960, tennessee, leader, development, adoptio...</td>\n",
       "      <td>[1960, tennessee, leader, development, adoptio...</td>\n",
       "      <td>[1960, tennessee, leader, development, adoptio...</td>\n",
       "      <td>[1960, tennessee, leader, development, adoptio...</td>\n",
       "      <td>[1960, tennessee, leader, adoption, conservati...</td>\n",
       "      <td>Active Learning; Adoption; Agriculture; AIDS/...</td>\n",
       "      <td>COLLABORATIVE RESEARCH WITH THE NATIONAL UNIVE...</td>\n",
       "      <td>USDA</td>\n",
       "      <td>NIFA</td>\n",
       "      <td>NaN</td>\n",
       "      <td>2008-51160-04373</td>\n",
       "      <td>5/15/2008</td>\n",
       "      <td>1/14/2009</td>\n",
       "      <td>WALKER, FORBES R</td>\n",
       "      <td>EASH, NEAL</td>\n",
       "      <td>02</td>\n",
       "      <td>133891015</td>\n",
       "      <td>UNIVERSITY OF TENNESSEE</td>\n",
       "      <td>KNOXVILLE</td>\n",
       "      <td>TN</td>\n",
       "      <td>37996-4540</td>\n",
       "      <td>UNITED STATES</td>\n",
       "      <td>NaN</td>\n",
       "      <td>NaN</td>\n",
       "      <td>10.212</td>\n",
       "      <td>2008</td>\n",
       "      <td>95987.0</td>\n",
       "      <td>NaN</td>\n",
       "    </tr>\n",
       "    <tr>\n",
       "      <th>759</th>\n",
       "      <td>759</td>\n",
       "      <td>1001252</td>\n",
       "      <td>1101260</td>\n",
       "      <td>Rapidly spreading Zika virus (ZIKV) is an emer...</td>\n",
       "      <td>2017</td>\n",
       "      <td>1</td>\n",
       "      <td>1</td>\n",
       "      <td>Rapidly spreading Zika virus (ZIKV) is an emer...</td>\n",
       "      <td>R</td>\n",
       "      <td>3561</td>\n",
       "      <td>y</td>\n",
       "      <td>[rapidly, spread, Zika, virus, ZIKV, emerge, z...</td>\n",
       "      <td>[rapidly, spread, zika, virus, zikv, emerge, z...</td>\n",
       "      <td>[rapidly, spread, zika, virus, zikv, emerge, z...</td>\n",
       "      <td>[rapidly, spread, zika_virus_zikv, emerge, zoo...</td>\n",
       "      <td>[rapidly, spread, zika_virus_zikv, emerge, zoo...</td>\n",
       "      <td>[rapidly, spread, zika_virus_zikv, emerge, zoo...</td>\n",
       "      <td>Adult; Aedes; Africa; Americas; Antibodies; A...</td>\n",
       "      <td>NEW LIVE ATTENUATED ZIKA VIRUS VACCINE</td>\n",
       "      <td>DOD</td>\n",
       "      <td>CDMRP</td>\n",
       "      <td>NaN</td>\n",
       "      <td>PR172269</td>\n",
       "      <td>7/15/2018</td>\n",
       "      <td>1/14/2020</td>\n",
       "      <td>ZENG, MINGTAO</td>\n",
       "      <td>NaN</td>\n",
       "      <td>19</td>\n",
       "      <td>609980727</td>\n",
       "      <td>TEXAS TECH UNIVERSITY HEALTH SCIENCES CENTER</td>\n",
       "      <td>EL PASO</td>\n",
       "      <td>TX</td>\n",
       "      <td>79905</td>\n",
       "      <td>UNITED STATES</td>\n",
       "      <td>NaN</td>\n",
       "      <td>NaN</td>\n",
       "      <td>12.420</td>\n",
       "      <td>2017</td>\n",
       "      <td>305997.0</td>\n",
       "      <td>NaN</td>\n",
       "    </tr>\n",
       "    <tr>\n",
       "      <th>767</th>\n",
       "      <td>767</td>\n",
       "      <td>1001101</td>\n",
       "      <td>1101109</td>\n",
       "      <td>Topic Area: InfluenzaArea of Emphasis: Develop...</td>\n",
       "      <td>2017</td>\n",
       "      <td>1</td>\n",
       "      <td>1</td>\n",
       "      <td>Topic Area: InfluenzaArea of Emphasis: Develop...</td>\n",
       "      <td>T</td>\n",
       "      <td>4219</td>\n",
       "      <td>y</td>\n",
       "      <td>[topic, area, InfluenzaArea, emphasis, develop...</td>\n",
       "      <td>[topic, area, influenzaarea, emphasis, develop...</td>\n",
       "      <td>[topic, area, influenzaarea, emphasis, develop...</td>\n",
       "      <td>[topic, area, influenzaarea, emphasis, develop...</td>\n",
       "      <td>[topic, area, influenzaarea, emphasis, develop...</td>\n",
       "      <td>[topic, influenzaarea, emphasis, evaluation, i...</td>\n",
       "      <td>Adaptive Immune System; Address; Adjuvant; ae...</td>\n",
       "      <td>APPLICATION OF AN IMMUNE-MODULATING, ANTI-INFL...</td>\n",
       "      <td>DOD</td>\n",
       "      <td>CDMRP</td>\n",
       "      <td>NaN</td>\n",
       "      <td>PR170327</td>\n",
       "      <td>7/15/2018</td>\n",
       "      <td>1/14/2020</td>\n",
       "      <td>SIEGEL, HAL</td>\n",
       "      <td>NaN</td>\n",
       "      <td>06</td>\n",
       "      <td>080294428</td>\n",
       "      <td>NEW AMSTERDAM SCIENCES</td>\n",
       "      <td>SCOTTSDALE</td>\n",
       "      <td>AZ</td>\n",
       "      <td>85260</td>\n",
       "      <td>UNITED STATES</td>\n",
       "      <td>NaN</td>\n",
       "      <td>NaN</td>\n",
       "      <td>12.420</td>\n",
       "      <td>2017</td>\n",
       "      <td>204046.0</td>\n",
       "      <td>NaN</td>\n",
       "    </tr>\n",
       "    <tr>\n",
       "      <th>1873</th>\n",
       "      <td>1873</td>\n",
       "      <td>441317</td>\n",
       "      <td>813151</td>\n",
       "      <td>Objective(s): The safety of aquaculture produc...</td>\n",
       "      <td>2011</td>\n",
       "      <td>1</td>\n",
       "      <td>1</td>\n",
       "      <td>The safety of aquaculture products, particular...</td>\n",
       "      <td>T</td>\n",
       "      <td>4679</td>\n",
       "      <td>s</td>\n",
       "      <td>[safety, aquaculture, product, particularly, m...</td>\n",
       "      <td>[safety, aquaculture, product, particularly, m...</td>\n",
       "      <td>[safety, aquaculture, product, particularly, m...</td>\n",
       "      <td>[safety, aquaculture, product, particularly, m...</td>\n",
       "      <td>[safety, aquaculture, product, particularly, m...</td>\n",
       "      <td>[safety, aquaculture, product, particularly, m...</td>\n",
       "      <td>Affect; Algae; Aquaculture; Bacteriophages; B...</td>\n",
       "      <td>PATHOGEN DETECTION AND INTERVENTION METHODS FO...</td>\n",
       "      <td>USDA</td>\n",
       "      <td>ARS</td>\n",
       "      <td>NaN</td>\n",
       "      <td>ARS-0420935</td>\n",
       "      <td>1/31/2011</td>\n",
       "      <td>1/30/2016</td>\n",
       "      <td>RICHARDS, GARY P</td>\n",
       "      <td>NaN</td>\n",
       "      <td>13</td>\n",
       "      <td>NaN</td>\n",
       "      <td>AGRICULTURAL RESEARCH SERVICE</td>\n",
       "      <td>WYNDMOOR</td>\n",
       "      <td>PA</td>\n",
       "      <td>19038</td>\n",
       "      <td>UNITED STATES</td>\n",
       "      <td>NaN</td>\n",
       "      <td>NaN</td>\n",
       "      <td>10.001</td>\n",
       "      <td>2011</td>\n",
       "      <td>865694.0</td>\n",
       "      <td>NaN</td>\n",
       "    </tr>\n",
       "    <tr>\n",
       "      <th>1949</th>\n",
       "      <td>1949</td>\n",
       "      <td>165262</td>\n",
       "      <td>270537</td>\n",
       "      <td>This subproject is one of many research subpro...</td>\n",
       "      <td>2008</td>\n",
       "      <td>1</td>\n",
       "      <td>1</td>\n",
       "      <td>Synthesis of a new type of potential influenza...</td>\n",
       "      <td>S</td>\n",
       "      <td>92</td>\n",
       "      <td>d</td>\n",
       "      <td>[synthesis, new, type, potential, influenza, i...</td>\n",
       "      <td>[synthesis, new, type, potential, influenza, i...</td>\n",
       "      <td>[synthesis, new, type, potential, influenza, i...</td>\n",
       "      <td>[synthesis, new, type, potential, influenza, i...</td>\n",
       "      <td>[synthesis, new, type, potential, influenza, i...</td>\n",
       "      <td>[synthesis, influenza, inhibitor, alter, immun...</td>\n",
       "      <td>Computer Retrieval of Information on Scientif...</td>\n",
       "      <td>INFLUENZA INHIBITORS, 8 COMPOUNDS</td>\n",
       "      <td>HHS</td>\n",
       "      <td>NIH</td>\n",
       "      <td>NCRR</td>\n",
       "      <td>5P41RR005351-19 (7722)</td>\n",
       "      <td>2/1/2008</td>\n",
       "      <td>1/31/2009</td>\n",
       "      <td>VENOT, ANDRE</td>\n",
       "      <td>NaN</td>\n",
       "      <td>10</td>\n",
       "      <td>004315578</td>\n",
       "      <td>UNIVERSITY OF GEORGIA</td>\n",
       "      <td>ATHENS</td>\n",
       "      <td>GA</td>\n",
       "      <td>306021589</td>\n",
       "      <td>UNITED STATES</td>\n",
       "      <td>2/1/2008</td>\n",
       "      <td>1/31/2009</td>\n",
       "      <td>93.389</td>\n",
       "      <td>2008</td>\n",
       "      <td>NaN</td>\n",
       "      <td>1404.0</td>\n",
       "    </tr>\n",
       "  </tbody>\n",
       "</table>\n",
       "</div>"
      ],
      "text/plain": [
       "      index  original index PROJECT_ID  \\\n",
       "355     355          174965     583520   \n",
       "759     759         1001252    1101260   \n",
       "767     767         1001101    1101109   \n",
       "1873   1873          441317     813151   \n",
       "1949   1949          165262     270537   \n",
       "\n",
       "                                               ABSTRACT    FY  ORG_COUNT  \\\n",
       "355   Since the 1960s Tennessee has been a leader in...  2008          1   \n",
       "759   Rapidly spreading Zika virus (ZIKV) is an emer...  2017          1   \n",
       "767   Topic Area: InfluenzaArea of Emphasis: Develop...  2017          1   \n",
       "1873  Objective(s): The safety of aquaculture produc...  2011          1   \n",
       "1949  This subproject is one of many research subpro...  2008          1   \n",
       "\n",
       "      PI_COUNT                                   working_abstract Start_Char  \\\n",
       "355          1  Since the 1960s Tennessee has been a leader in...          S   \n",
       "759          1  Rapidly spreading Zika virus (ZIKV) is an emer...          R   \n",
       "767          1  Topic Area: InfluenzaArea of Emphasis: Develop...          T   \n",
       "1873         1  The safety of aquaculture products, particular...          T   \n",
       "1949         1  Synthesis of a new type of potential influenza...          S   \n",
       "\n",
       "      nchar LAST_CHAR                                     lemma_abstract  \\\n",
       "355    3165         y  [1960, Tennessee, leader, development, adoptio...   \n",
       "759    3561         y  [rapidly, spread, Zika, virus, ZIKV, emerge, z...   \n",
       "767    4219         y  [topic, area, InfluenzaArea, emphasis, develop...   \n",
       "1873   4679         s  [safety, aquaculture, product, particularly, m...   \n",
       "1949     92         d  [synthesis, new, type, potential, influenza, i...   \n",
       "\n",
       "                                           clean_lemmas  \\\n",
       "355   [1960, tennessee, leader, development, adoptio...   \n",
       "759   [rapidly, spread, zika, virus, zikv, emerge, z...   \n",
       "767   [topic, area, influenzaarea, emphasis, develop...   \n",
       "1873  [safety, aquaculture, product, particularly, m...   \n",
       "1949  [synthesis, new, type, potential, influenza, i...   \n",
       "\n",
       "                                        stopwds_removed  \\\n",
       "355   [1960, tennessee, leader, development, adoptio...   \n",
       "759   [rapidly, spread, zika, virus, zikv, emerge, z...   \n",
       "767   [topic, area, influenzaarea, emphasis, develop...   \n",
       "1873  [safety, aquaculture, product, particularly, m...   \n",
       "1949  [synthesis, new, type, potential, influenza, i...   \n",
       "\n",
       "                                          n_grams_added  \\\n",
       "355   [1960, tennessee, leader, development, adoptio...   \n",
       "759   [rapidly, spread, zika_virus_zikv, emerge, zoo...   \n",
       "767   [topic, area, influenzaarea, emphasis, develop...   \n",
       "1873  [safety, aquaculture, product, particularly, m...   \n",
       "1949  [synthesis, new, type, potential, influenza, i...   \n",
       "\n",
       "                                           final_tokens  \\\n",
       "355   [1960, tennessee, leader, development, adoptio...   \n",
       "759   [rapidly, spread, zika_virus_zikv, emerge, zoo...   \n",
       "767   [topic, area, influenzaarea, emphasis, develop...   \n",
       "1873  [safety, aquaculture, product, particularly, m...   \n",
       "1949  [synthesis, new, type, potential, influenza, i...   \n",
       "\n",
       "                                   final_frqwds_removed  \\\n",
       "355   [1960, tennessee, leader, adoption, conservati...   \n",
       "759   [rapidly, spread, zika_virus_zikv, emerge, zoo...   \n",
       "767   [topic, influenzaarea, emphasis, evaluation, i...   \n",
       "1873  [safety, aquaculture, product, particularly, m...   \n",
       "1949  [synthesis, influenza, inhibitor, alter, immun...   \n",
       "\n",
       "                                          PROJECT_TERMS  \\\n",
       "355    Active Learning; Adoption; Agriculture; AIDS/...   \n",
       "759    Adult; Aedes; Africa; Americas; Antibodies; A...   \n",
       "767    Adaptive Immune System; Address; Adjuvant; ae...   \n",
       "1873   Affect; Algae; Aquaculture; Bacteriophages; B...   \n",
       "1949   Computer Retrieval of Information on Scientif...   \n",
       "\n",
       "                                          PROJECT_TITLE DEPARTMENT AGENCY  \\\n",
       "355   COLLABORATIVE RESEARCH WITH THE NATIONAL UNIVE...       USDA   NIFA   \n",
       "759              NEW LIVE ATTENUATED ZIKA VIRUS VACCINE        DOD  CDMRP   \n",
       "767   APPLICATION OF AN IMMUNE-MODULATING, ANTI-INFL...        DOD  CDMRP   \n",
       "1873  PATHOGEN DETECTION AND INTERVENTION METHODS FO...       USDA    ARS   \n",
       "1949                  INFLUENZA INHIBITORS, 8 COMPOUNDS        HHS    NIH   \n",
       "\n",
       "     IC_CENTER          PROJECT_NUMBER PROJECT_START_DATE PROJECT_END_DATE  \\\n",
       "355        NaN        2008-51160-04373          5/15/2008        1/14/2009   \n",
       "759        NaN                PR172269          7/15/2018        1/14/2020   \n",
       "767        NaN                PR170327          7/15/2018        1/14/2020   \n",
       "1873       NaN             ARS-0420935          1/31/2011        1/30/2016   \n",
       "1949      NCRR  5P41RR005351-19 (7722)           2/1/2008        1/31/2009   \n",
       "\n",
       "     CONTACT_PI_PROJECT_LEADER   OTHER_PIS CONGRESSIONAL_DISTRICT DUNS_NUMBER  \\\n",
       "355           WALKER, FORBES R  EASH, NEAL                     02   133891015   \n",
       "759              ZENG, MINGTAO         NaN                     19   609980727   \n",
       "767                SIEGEL, HAL         NaN                     06   080294428   \n",
       "1873          RICHARDS, GARY P         NaN                     13         NaN   \n",
       "1949              VENOT, ANDRE         NaN                     10   004315578   \n",
       "\n",
       "                                 ORGANIZATION_NAME ORGANIZATION_CITY  \\\n",
       "355                        UNIVERSITY OF TENNESSEE         KNOXVILLE   \n",
       "759   TEXAS TECH UNIVERSITY HEALTH SCIENCES CENTER           EL PASO   \n",
       "767                         NEW AMSTERDAM SCIENCES        SCOTTSDALE   \n",
       "1873                 AGRICULTURAL RESEARCH SERVICE          WYNDMOOR   \n",
       "1949                         UNIVERSITY OF GEORGIA            ATHENS   \n",
       "\n",
       "     ORGANIZATION_STATE ORGANIZATION_ZIP ORGANIZATION_COUNTRY  \\\n",
       "355                  TN       37996-4540        UNITED STATES   \n",
       "759                  TX            79905        UNITED STATES   \n",
       "767                  AZ            85260        UNITED STATES   \n",
       "1873                 PA            19038        UNITED STATES   \n",
       "1949                 GA        306021589        UNITED STATES   \n",
       "\n",
       "     BUDGET_START_DATE BUDGET_END_DATE CFDA_CODE  FY.y  FY_TOTAL_COST  \\\n",
       "355                NaN             NaN    10.212  2008        95987.0   \n",
       "759                NaN             NaN    12.420  2017       305997.0   \n",
       "767                NaN             NaN    12.420  2017       204046.0   \n",
       "1873               NaN             NaN    10.001  2011       865694.0   \n",
       "1949          2/1/2008       1/31/2009    93.389  2008            NaN   \n",
       "\n",
       "      FY_TOTAL_COST_SUB_PROJECTS  \n",
       "355                          NaN  \n",
       "759                          NaN  \n",
       "767                          NaN  \n",
       "1873                         NaN  \n",
       "1949                      1404.0  "
      ]
     },
     "execution_count": 55,
     "metadata": {},
     "output_type": "execute_result"
    }
   ],
   "source": [
    "filt_corpus.head()"
   ]
  },
  {
   "cell_type": "code",
   "execution_count": null,
   "metadata": {},
   "outputs": [],
   "source": []
  }
 ],
 "metadata": {
  "kernelspec": {
   "display_name": "Python 3",
   "language": "python",
   "name": "python3"
  },
  "language_info": {
   "codemirror_mode": {
    "name": "ipython",
    "version": 3
   },
   "file_extension": ".py",
   "mimetype": "text/x-python",
   "name": "python",
   "nbconvert_exporter": "python",
   "pygments_lexer": "ipython3",
   "version": "3.8.8"
  }
 },
 "nbformat": 4,
 "nbformat_minor": 4
}
