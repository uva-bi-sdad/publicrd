{
 "cells": [
  {
   "cell_type": "markdown",
   "metadata": {},
   "source": [
    "# Cleaning the dataset "
   ]
  },
  {
   "cell_type": "code",
   "execution_count": 1,
   "metadata": {},
   "outputs": [],
   "source": [
    "import pandas as pd\n",
    "import numpy as np\n",
    "import matplotlib.pyplot as plt\n",
    "\n",
    "import re\n",
    "import string\n",
    "import time\n",
    "\n",
    "pd.set_option('display.max_columns', 50)"
   ]
  },
  {
   "cell_type": "markdown",
   "metadata": {},
   "source": [
    "### Read in Raw Dataset"
   ]
  },
  {
   "cell_type": "code",
   "execution_count": 2,
   "metadata": {},
   "outputs": [
    {
     "name": "stdout",
     "output_type": "stream",
     "text": [
      "(1262655, 26)\n"
     ]
    }
   ],
   "source": [
    "# reading in fixed metadata\n",
    "\n",
    "# set data types\n",
    "cols = ['PROJECT_ID', 'ABSTRACT', 'FY.x', 'PROJECT_TERMS', 'PROJECT_TITLE', 'DEPARTMENT', 'AGENCY', 'IC_CENTER', \n",
    "        'PROJECT_NUMBER', 'PROJECT_START_DATE', 'PROJECT_END_DATE', 'CONTACT_PI_PROJECT_LEADER', 'OTHER_PIS', \n",
    "        'CONGRESSIONAL_DISTRICT', 'DUNS_NUMBER', 'ORGANIZATION_NAME', 'ORGANIZATION_CITY', 'ORGANIZATION_STATE', \n",
    "        'ORGANIZATION_ZIP', 'ORGANIZATION_COUNTRY', 'BUDGET_START_DATE', 'BUDGET_END_DATE', 'CFDA_CODE', 'FY.y', \n",
    "        'FY_TOTAL_COST', 'FY_TOTAL_COST_SUB_PROJECTS']\n",
    "dtypes = {col: 'str' for col in cols}\n",
    "dtypes[\"FY_TOTAL_COST\"] = 'float'\n",
    "dtypes[\"FY_TOTAL_COST_SUB_PROJECTS\"] = 'float'\n",
    "\n",
    "df = pd.read_csv('../../../data/prd/Federal_RePORTER/FR-2021DEC/FR_raw_2021DEC17.csv', dtype = dtypes, engine='python')\n",
    "print(df.shape)"
   ]
  },
  {
   "cell_type": "code",
   "execution_count": 3,
   "metadata": {},
   "outputs": [
    {
     "data": {
      "text/html": [
       "<div>\n",
       "<style scoped>\n",
       "    .dataframe tbody tr th:only-of-type {\n",
       "        vertical-align: middle;\n",
       "    }\n",
       "\n",
       "    .dataframe tbody tr th {\n",
       "        vertical-align: top;\n",
       "    }\n",
       "\n",
       "    .dataframe thead th {\n",
       "        text-align: right;\n",
       "    }\n",
       "</style>\n",
       "<table border=\"1\" class=\"dataframe\">\n",
       "  <thead>\n",
       "    <tr style=\"text-align: right;\">\n",
       "      <th></th>\n",
       "      <th>PROJECT_ID</th>\n",
       "      <th>ABSTRACT</th>\n",
       "      <th>FY.x</th>\n",
       "      <th>PROJECT_TERMS</th>\n",
       "      <th>PROJECT_TITLE</th>\n",
       "      <th>DEPARTMENT</th>\n",
       "      <th>AGENCY</th>\n",
       "      <th>IC_CENTER</th>\n",
       "      <th>PROJECT_NUMBER</th>\n",
       "      <th>PROJECT_START_DATE</th>\n",
       "      <th>PROJECT_END_DATE</th>\n",
       "      <th>CONTACT_PI_PROJECT_LEADER</th>\n",
       "      <th>OTHER_PIS</th>\n",
       "      <th>CONGRESSIONAL_DISTRICT</th>\n",
       "      <th>DUNS_NUMBER</th>\n",
       "      <th>ORGANIZATION_NAME</th>\n",
       "      <th>ORGANIZATION_CITY</th>\n",
       "      <th>ORGANIZATION_STATE</th>\n",
       "      <th>ORGANIZATION_ZIP</th>\n",
       "      <th>ORGANIZATION_COUNTRY</th>\n",
       "      <th>BUDGET_START_DATE</th>\n",
       "      <th>BUDGET_END_DATE</th>\n",
       "      <th>CFDA_CODE</th>\n",
       "      <th>FY.y</th>\n",
       "      <th>FY_TOTAL_COST</th>\n",
       "      <th>FY_TOTAL_COST_SUB_PROJECTS</th>\n",
       "    </tr>\n",
       "  </thead>\n",
       "  <tbody>\n",
       "    <tr>\n",
       "      <th>0</th>\n",
       "      <td>89996</td>\n",
       "      <td>This is a project to explore Game-based, Metap...</td>\n",
       "      <td>2008</td>\n",
       "      <td>Achievement; analog; base; Cognitive Science;...</td>\n",
       "      <td>RUI: CYGAMES: CYBER-ENABLED TEACHING AND LEARN...</td>\n",
       "      <td>NSF</td>\n",
       "      <td>NSF</td>\n",
       "      <td>NaN</td>\n",
       "      <td>0814512</td>\n",
       "      <td>9/15/2008</td>\n",
       "      <td>8/31/2012</td>\n",
       "      <td>REESE, DEBBIE D</td>\n",
       "      <td>CARTER, BEVERLY; WOOD, CHARLES; HITT, BEN</td>\n",
       "      <td>01</td>\n",
       "      <td>068719400</td>\n",
       "      <td>WHEELING JESUIT UNIVERSITY</td>\n",
       "      <td>WHEELING</td>\n",
       "      <td>WV</td>\n",
       "      <td>26003-6243</td>\n",
       "      <td>UNITED STATES</td>\n",
       "      <td>NaN</td>\n",
       "      <td>NaN</td>\n",
       "      <td>47.076</td>\n",
       "      <td>2008</td>\n",
       "      <td>1999467.0</td>\n",
       "      <td>NaN</td>\n",
       "    </tr>\n",
       "    <tr>\n",
       "      <th>1</th>\n",
       "      <td>89997</td>\n",
       "      <td>Institution: Franklin Institute Science Museum...</td>\n",
       "      <td>2008</td>\n",
       "      <td>Active Learning; Child; Computer software; de...</td>\n",
       "      <td>ARIEL - AUGMENTED REALITY FOR INTERPRETIVE AND...</td>\n",
       "      <td>NSF</td>\n",
       "      <td>NSF</td>\n",
       "      <td>NaN</td>\n",
       "      <td>0741659</td>\n",
       "      <td>9/15/2008</td>\n",
       "      <td>8/31/2012</td>\n",
       "      <td>SNYDER, STEVEN</td>\n",
       "      <td>ELINICH, KAREN; YOON, SUSAN</td>\n",
       "      <td>02</td>\n",
       "      <td>001741859</td>\n",
       "      <td>FRANKLIN INSTITUTE</td>\n",
       "      <td>PHILADELPHIA</td>\n",
       "      <td>PA</td>\n",
       "      <td>19103-1115</td>\n",
       "      <td>UNITED STATES</td>\n",
       "      <td>NaN</td>\n",
       "      <td>NaN</td>\n",
       "      <td>47.076</td>\n",
       "      <td>2008</td>\n",
       "      <td>1799699.0</td>\n",
       "      <td>NaN</td>\n",
       "    </tr>\n",
       "    <tr>\n",
       "      <th>2</th>\n",
       "      <td>89998</td>\n",
       "      <td>Through programs (including small group conver...</td>\n",
       "      <td>2008</td>\n",
       "      <td>Address; Age; Birth; Brain; Caregivers; Child...</td>\n",
       "      <td>BRIGHTER FUTURES: PUBLIC DELIBERATION ABOUT TH...</td>\n",
       "      <td>NSF</td>\n",
       "      <td>NSF</td>\n",
       "      <td>NaN</td>\n",
       "      <td>0813522</td>\n",
       "      <td>9/15/2008</td>\n",
       "      <td>8/31/2011</td>\n",
       "      <td>FINK, LAURIE KLEINBAUM</td>\n",
       "      <td>CADIGAN, KAREN; ELLENBOGEN, KIRSTEN</td>\n",
       "      <td>04</td>\n",
       "      <td>061451670</td>\n",
       "      <td>SCIENCE MUSEUM OF MINNESOTA</td>\n",
       "      <td>SAINT PAUL</td>\n",
       "      <td>MN</td>\n",
       "      <td>55102-1202</td>\n",
       "      <td>UNITED STATES</td>\n",
       "      <td>NaN</td>\n",
       "      <td>NaN</td>\n",
       "      <td>47.076</td>\n",
       "      <td>2008</td>\n",
       "      <td>1505858.0</td>\n",
       "      <td>NaN</td>\n",
       "    </tr>\n",
       "    <tr>\n",
       "      <th>3</th>\n",
       "      <td>89999</td>\n",
       "      <td>In partnership with the American Chemical Soci...</td>\n",
       "      <td>2008</td>\n",
       "      <td>Advanced Development; American; Chemicals; Ch...</td>\n",
       "      <td>FOSTERING US-INTERNATIONAL COLLABORATIVE PARTN...</td>\n",
       "      <td>NSF</td>\n",
       "      <td>NSF</td>\n",
       "      <td>NaN</td>\n",
       "      <td>0838627</td>\n",
       "      <td>8/1/2008</td>\n",
       "      <td>12/31/2010</td>\n",
       "      <td>JOST, JOHN W</td>\n",
       "      <td>MILLER, BRADLEY; BOWMAN, KATHERINE</td>\n",
       "      <td>04</td>\n",
       "      <td>009059242</td>\n",
       "      <td>INTERNATIONAL UNION OF PURE AND APPLIED CHEMISTRY</td>\n",
       "      <td>DURHAM</td>\n",
       "      <td>NC</td>\n",
       "      <td>27709-3757</td>\n",
       "      <td>UNITED STATES</td>\n",
       "      <td>NaN</td>\n",
       "      <td>NaN</td>\n",
       "      <td>47.049</td>\n",
       "      <td>2008</td>\n",
       "      <td>51000.0</td>\n",
       "      <td>NaN</td>\n",
       "    </tr>\n",
       "    <tr>\n",
       "      <th>4</th>\n",
       "      <td>90000</td>\n",
       "      <td>Amphibian populations around the world are exp...</td>\n",
       "      <td>2008</td>\n",
       "      <td>Amphibia; Central America; Communicable Disea...</td>\n",
       "      <td>COLLABORATIVE RESEARCH: EVOLUTION OF AMPHIBIAN...</td>\n",
       "      <td>NSF</td>\n",
       "      <td>NSF</td>\n",
       "      <td>NaN</td>\n",
       "      <td>0815315</td>\n",
       "      <td>10/1/2008</td>\n",
       "      <td>9/30/2011</td>\n",
       "      <td>ZAMUDIO, KELLY R</td>\n",
       "      <td>NaN</td>\n",
       "      <td>22</td>\n",
       "      <td>872612445</td>\n",
       "      <td>CORNELL UNIVERSITY ITHACA</td>\n",
       "      <td>ITHACA</td>\n",
       "      <td>NY</td>\n",
       "      <td>14850-2820</td>\n",
       "      <td>UNITED STATES</td>\n",
       "      <td>NaN</td>\n",
       "      <td>NaN</td>\n",
       "      <td>47.074</td>\n",
       "      <td>2008</td>\n",
       "      <td>370996.0</td>\n",
       "      <td>NaN</td>\n",
       "    </tr>\n",
       "  </tbody>\n",
       "</table>\n",
       "</div>"
      ],
      "text/plain": [
       "  PROJECT_ID                                           ABSTRACT  FY.x  \\\n",
       "0      89996  This is a project to explore Game-based, Metap...  2008   \n",
       "1      89997  Institution: Franklin Institute Science Museum...  2008   \n",
       "2      89998  Through programs (including small group conver...  2008   \n",
       "3      89999  In partnership with the American Chemical Soci...  2008   \n",
       "4      90000  Amphibian populations around the world are exp...  2008   \n",
       "\n",
       "                                       PROJECT_TERMS  \\\n",
       "0   Achievement; analog; base; Cognitive Science;...   \n",
       "1   Active Learning; Child; Computer software; de...   \n",
       "2   Address; Age; Birth; Brain; Caregivers; Child...   \n",
       "3   Advanced Development; American; Chemicals; Ch...   \n",
       "4   Amphibia; Central America; Communicable Disea...   \n",
       "\n",
       "                                       PROJECT_TITLE DEPARTMENT AGENCY  \\\n",
       "0  RUI: CYGAMES: CYBER-ENABLED TEACHING AND LEARN...        NSF    NSF   \n",
       "1  ARIEL - AUGMENTED REALITY FOR INTERPRETIVE AND...        NSF    NSF   \n",
       "2  BRIGHTER FUTURES: PUBLIC DELIBERATION ABOUT TH...        NSF    NSF   \n",
       "3  FOSTERING US-INTERNATIONAL COLLABORATIVE PARTN...        NSF    NSF   \n",
       "4  COLLABORATIVE RESEARCH: EVOLUTION OF AMPHIBIAN...        NSF    NSF   \n",
       "\n",
       "  IC_CENTER PROJECT_NUMBER PROJECT_START_DATE PROJECT_END_DATE  \\\n",
       "0       NaN        0814512          9/15/2008        8/31/2012   \n",
       "1       NaN        0741659          9/15/2008        8/31/2012   \n",
       "2       NaN        0813522          9/15/2008        8/31/2011   \n",
       "3       NaN        0838627           8/1/2008       12/31/2010   \n",
       "4       NaN        0815315          10/1/2008        9/30/2011   \n",
       "\n",
       "  CONTACT_PI_PROJECT_LEADER                                  OTHER_PIS  \\\n",
       "0           REESE, DEBBIE D  CARTER, BEVERLY; WOOD, CHARLES; HITT, BEN   \n",
       "1            SNYDER, STEVEN                ELINICH, KAREN; YOON, SUSAN   \n",
       "2    FINK, LAURIE KLEINBAUM        CADIGAN, KAREN; ELLENBOGEN, KIRSTEN   \n",
       "3              JOST, JOHN W         MILLER, BRADLEY; BOWMAN, KATHERINE   \n",
       "4          ZAMUDIO, KELLY R                                        NaN   \n",
       "\n",
       "  CONGRESSIONAL_DISTRICT DUNS_NUMBER  \\\n",
       "0                     01   068719400   \n",
       "1                     02   001741859   \n",
       "2                     04   061451670   \n",
       "3                     04   009059242   \n",
       "4                     22   872612445   \n",
       "\n",
       "                                   ORGANIZATION_NAME ORGANIZATION_CITY  \\\n",
       "0                         WHEELING JESUIT UNIVERSITY          WHEELING   \n",
       "1                                 FRANKLIN INSTITUTE      PHILADELPHIA   \n",
       "2                        SCIENCE MUSEUM OF MINNESOTA        SAINT PAUL   \n",
       "3  INTERNATIONAL UNION OF PURE AND APPLIED CHEMISTRY            DURHAM   \n",
       "4                          CORNELL UNIVERSITY ITHACA            ITHACA   \n",
       "\n",
       "  ORGANIZATION_STATE ORGANIZATION_ZIP ORGANIZATION_COUNTRY BUDGET_START_DATE  \\\n",
       "0                 WV       26003-6243        UNITED STATES               NaN   \n",
       "1                 PA       19103-1115        UNITED STATES               NaN   \n",
       "2                 MN       55102-1202        UNITED STATES               NaN   \n",
       "3                 NC       27709-3757        UNITED STATES               NaN   \n",
       "4                 NY       14850-2820        UNITED STATES               NaN   \n",
       "\n",
       "  BUDGET_END_DATE CFDA_CODE  FY.y  FY_TOTAL_COST  FY_TOTAL_COST_SUB_PROJECTS  \n",
       "0             NaN    47.076  2008      1999467.0                         NaN  \n",
       "1             NaN    47.076  2008      1799699.0                         NaN  \n",
       "2             NaN    47.076  2008      1505858.0                         NaN  \n",
       "3             NaN    47.049  2008        51000.0                         NaN  \n",
       "4             NaN    47.074  2008       370996.0                         NaN  "
      ]
     },
     "execution_count": 3,
     "metadata": {},
     "output_type": "execute_result"
    }
   ],
   "source": [
    "df.head()"
   ]
  },
  {
   "cell_type": "markdown",
   "metadata": {},
   "source": [
    "#### some brief eda"
   ]
  },
  {
   "cell_type": "code",
   "execution_count": 4,
   "metadata": {},
   "outputs": [
    {
     "data": {
      "text/plain": [
       "1262655"
      ]
     },
     "execution_count": 4,
     "metadata": {},
     "output_type": "execute_result"
    }
   ],
   "source": [
    "len(pd.unique(df[\"PROJECT_ID\"]))"
   ]
  },
  {
   "cell_type": "code",
   "execution_count": 5,
   "metadata": {},
   "outputs": [
    {
     "data": {
      "text/plain": [
       "PROJECT_ID                     object\n",
       "ABSTRACT                       object\n",
       "FY.x                           object\n",
       "PROJECT_TERMS                  object\n",
       "PROJECT_TITLE                  object\n",
       "DEPARTMENT                     object\n",
       "AGENCY                         object\n",
       "IC_CENTER                      object\n",
       "PROJECT_NUMBER                 object\n",
       "PROJECT_START_DATE             object\n",
       "PROJECT_END_DATE               object\n",
       "CONTACT_PI_PROJECT_LEADER      object\n",
       "OTHER_PIS                      object\n",
       "CONGRESSIONAL_DISTRICT         object\n",
       "DUNS_NUMBER                    object\n",
       "ORGANIZATION_NAME              object\n",
       "ORGANIZATION_CITY              object\n",
       "ORGANIZATION_STATE             object\n",
       "ORGANIZATION_ZIP               object\n",
       "ORGANIZATION_COUNTRY           object\n",
       "BUDGET_START_DATE              object\n",
       "BUDGET_END_DATE                object\n",
       "CFDA_CODE                      object\n",
       "FY.y                           object\n",
       "FY_TOTAL_COST                 float64\n",
       "FY_TOTAL_COST_SUB_PROJECTS    float64\n",
       "dtype: object"
      ]
     },
     "execution_count": 5,
     "metadata": {},
     "output_type": "execute_result"
    }
   ],
   "source": [
    "df.dtypes"
   ]
  },
  {
   "cell_type": "code",
   "execution_count": 6,
   "metadata": {},
   "outputs": [
    {
     "data": {
      "text/plain": [
       "PROJECT_ID                          0\n",
       "ABSTRACT                        42536\n",
       "FY.x                            35162\n",
       "PROJECT_TERMS                   62547\n",
       "PROJECT_TITLE                       1\n",
       "DEPARTMENT                          0\n",
       "AGENCY                              0\n",
       "IC_CENTER                      219780\n",
       "PROJECT_NUMBER                      0\n",
       "PROJECT_START_DATE             165214\n",
       "PROJECT_END_DATE               156627\n",
       "CONTACT_PI_PROJECT_LEADER       25128\n",
       "OTHER_PIS                     1104459\n",
       "CONGRESSIONAL_DISTRICT         103654\n",
       "DUNS_NUMBER                     18276\n",
       "ORGANIZATION_NAME                2135\n",
       "ORGANIZATION_CITY               34339\n",
       "ORGANIZATION_STATE              45975\n",
       "ORGANIZATION_ZIP                77403\n",
       "ORGANIZATION_COUNTRY            34111\n",
       "BUDGET_START_DATE              285688\n",
       "BUDGET_END_DATE                285880\n",
       "CFDA_CODE                      217919\n",
       "FY.y                                0\n",
       "FY_TOTAL_COST                  227630\n",
       "FY_TOTAL_COST_SUB_PROJECTS    1076820\n",
       "dtype: int64"
      ]
     },
     "execution_count": 6,
     "metadata": {},
     "output_type": "execute_result"
    }
   ],
   "source": [
    "df.isnull().sum()"
   ]
  },
  {
   "cell_type": "code",
   "execution_count": 7,
   "metadata": {},
   "outputs": [
    {
     "data": {
      "text/plain": [
       "227630"
      ]
     },
     "execution_count": 7,
     "metadata": {},
     "output_type": "execute_result"
    }
   ],
   "source": [
    "temp = df[df['FY_TOTAL_COST'].isnull()]\n",
    "len(temp)"
   ]
  },
  {
   "cell_type": "code",
   "execution_count": 8,
   "metadata": {},
   "outputs": [
    {
     "data": {
      "text/plain": [
       "HHS     193009\n",
       "USDA     18101\n",
       "VA       14754\n",
       "NSF        883\n",
       "DOD        538\n",
       "EPA        175\n",
       "NASA       170\n",
       "Name: DEPARTMENT, dtype: int64"
      ]
     },
     "execution_count": 8,
     "metadata": {},
     "output_type": "execute_result"
    }
   ],
   "source": [
    "temp['DEPARTMENT'].value_counts()"
   ]
  },
  {
   "cell_type": "code",
   "execution_count": 9,
   "metadata": {},
   "outputs": [],
   "source": [
    "# are FY.x and FY.y equal?  YES except for the entries where FY.x is NULL\n",
    "\n",
    "temp = df[df[\"FY.x\"] != df[\"FY.y\"]]"
   ]
  },
  {
   "cell_type": "code",
   "execution_count": 10,
   "metadata": {},
   "outputs": [
    {
     "name": "stdout",
     "output_type": "stream",
     "text": [
      "35162\n"
     ]
    },
    {
     "data": {
      "text/plain": [
       "35162"
      ]
     },
     "execution_count": 10,
     "metadata": {},
     "output_type": "execute_result"
    }
   ],
   "source": [
    "print(len(temp))\n",
    "temp['FY.x'].isnull().sum()\n",
    "\n",
    "# CONCLUSION - Use FY.y for FY, drop FY.x"
   ]
  },
  {
   "cell_type": "code",
   "execution_count": 11,
   "metadata": {},
   "outputs": [],
   "source": [
    "# FY.y is the reliable fiscal year information so we rename this column to FY\n",
    "\n",
    "df = df.rename(columns={'FY.y': 'FY'})"
   ]
  },
  {
   "cell_type": "code",
   "execution_count": 12,
   "metadata": {},
   "outputs": [],
   "source": [
    "df = df.drop(columns = ['FY.x'])"
   ]
  },
  {
   "cell_type": "code",
   "execution_count": null,
   "metadata": {},
   "outputs": [],
   "source": []
  },
  {
   "cell_type": "code",
   "execution_count": null,
   "metadata": {},
   "outputs": [],
   "source": []
  },
  {
   "cell_type": "markdown",
   "metadata": {},
   "source": [
    "### Remove null abstracts"
   ]
  },
  {
   "cell_type": "code",
   "execution_count": 13,
   "metadata": {},
   "outputs": [
    {
     "name": "stdout",
     "output_type": "stream",
     "text": [
      "42536 null ABSTRACTs removed\n"
     ]
    }
   ],
   "source": [
    "#remove rows with NULL abstracts\n",
    "\n",
    "l1 = len(df)\n",
    "df = df[~df.ABSTRACT.isnull()]\n",
    "l2 = len(df)\n",
    "\n",
    "print(l1-l2, \"null ABSTRACTs removed\")"
   ]
  },
  {
   "cell_type": "code",
   "execution_count": null,
   "metadata": {},
   "outputs": [],
   "source": []
  },
  {
   "cell_type": "code",
   "execution_count": null,
   "metadata": {},
   "outputs": [],
   "source": []
  },
  {
   "cell_type": "markdown",
   "metadata": {},
   "source": [
    "### Aggregate Counts"
   ]
  },
  {
   "cell_type": "code",
   "execution_count": 14,
   "metadata": {},
   "outputs": [
    {
     "name": "stdout",
     "output_type": "stream",
     "text": [
      "PROJECT_ID\n",
      "ABSTRACT\n",
      "PROJECT_TERMS\n",
      "PROJECT_TITLE\n",
      "DEPARTMENT\n",
      "AGENCY\n",
      "IC_CENTER\n",
      "PROJECT_NUMBER\n",
      "PROJECT_START_DATE\n",
      "PROJECT_END_DATE\n",
      "CONTACT_PI_PROJECT_LEADER\n",
      "OTHER_PIS\n",
      "CONGRESSIONAL_DISTRICT\n",
      "DUNS_NUMBER\n",
      "ORGANIZATION_NAME\n",
      "ORGANIZATION_CITY\n",
      "ORGANIZATION_STATE\n",
      "ORGANIZATION_ZIP\n",
      "ORGANIZATION_COUNTRY\n",
      "BUDGET_START_DATE\n",
      "BUDGET_END_DATE\n",
      "CFDA_CODE\n",
      "FY\n"
     ]
    }
   ],
   "source": [
    "# strip white space from character columns\n",
    "\n",
    "for col in df.columns[0:23]:\n",
    "    print(col)\n",
    "    df[col] = df[col].str.strip()"
   ]
  },
  {
   "cell_type": "code",
   "execution_count": null,
   "metadata": {},
   "outputs": [],
   "source": []
  },
  {
   "cell_type": "markdown",
   "metadata": {},
   "source": [
    "**Aggregate funding amounts for rows with same ABSTRACT/TITLE/FY**"
   ]
  },
  {
   "cell_type": "code",
   "execution_count": 15,
   "metadata": {},
   "outputs": [
    {
     "name": "stdout",
     "output_type": "stream",
     "text": [
      "127229\n"
     ]
    }
   ],
   "source": [
    "# Checking into duplicates first to examine FY_TOTAL_COST \n",
    "\n",
    "dup = df[df.duplicated(subset=['ABSTRACT',  'PROJECT_TITLE', 'FY'], keep=False)]\n",
    "print(len(dup))"
   ]
  },
  {
   "cell_type": "code",
   "execution_count": 16,
   "metadata": {},
   "outputs": [
    {
     "data": {
      "text/html": [
       "<div>\n",
       "<style scoped>\n",
       "    .dataframe tbody tr th:only-of-type {\n",
       "        vertical-align: middle;\n",
       "    }\n",
       "\n",
       "    .dataframe tbody tr th {\n",
       "        vertical-align: top;\n",
       "    }\n",
       "\n",
       "    .dataframe thead th {\n",
       "        text-align: right;\n",
       "    }\n",
       "</style>\n",
       "<table border=\"1\" class=\"dataframe\">\n",
       "  <thead>\n",
       "    <tr style=\"text-align: right;\">\n",
       "      <th></th>\n",
       "      <th>PROJECT_ID</th>\n",
       "      <th>ABSTRACT</th>\n",
       "      <th>PROJECT_TERMS</th>\n",
       "      <th>PROJECT_TITLE</th>\n",
       "      <th>DEPARTMENT</th>\n",
       "      <th>AGENCY</th>\n",
       "      <th>IC_CENTER</th>\n",
       "      <th>PROJECT_NUMBER</th>\n",
       "      <th>PROJECT_START_DATE</th>\n",
       "      <th>PROJECT_END_DATE</th>\n",
       "      <th>CONTACT_PI_PROJECT_LEADER</th>\n",
       "      <th>OTHER_PIS</th>\n",
       "      <th>CONGRESSIONAL_DISTRICT</th>\n",
       "      <th>DUNS_NUMBER</th>\n",
       "      <th>ORGANIZATION_NAME</th>\n",
       "      <th>ORGANIZATION_CITY</th>\n",
       "      <th>ORGANIZATION_STATE</th>\n",
       "      <th>ORGANIZATION_ZIP</th>\n",
       "      <th>ORGANIZATION_COUNTRY</th>\n",
       "      <th>BUDGET_START_DATE</th>\n",
       "      <th>BUDGET_END_DATE</th>\n",
       "      <th>CFDA_CODE</th>\n",
       "      <th>FY</th>\n",
       "      <th>FY_TOTAL_COST</th>\n",
       "      <th>FY_TOTAL_COST_SUB_PROJECTS</th>\n",
       "    </tr>\n",
       "  </thead>\n",
       "  <tbody>\n",
       "    <tr>\n",
       "      <th>4</th>\n",
       "      <td>90000</td>\n",
       "      <td>Amphibian populations around the world are exp...</td>\n",
       "      <td>Amphibia; Central America; Communicable Diseas...</td>\n",
       "      <td>COLLABORATIVE RESEARCH: EVOLUTION OF AMPHIBIAN...</td>\n",
       "      <td>NSF</td>\n",
       "      <td>NSF</td>\n",
       "      <td>NaN</td>\n",
       "      <td>0815315</td>\n",
       "      <td>10/1/2008</td>\n",
       "      <td>9/30/2011</td>\n",
       "      <td>ZAMUDIO, KELLY R</td>\n",
       "      <td>NaN</td>\n",
       "      <td>22</td>\n",
       "      <td>872612445</td>\n",
       "      <td>CORNELL UNIVERSITY ITHACA</td>\n",
       "      <td>ITHACA</td>\n",
       "      <td>NY</td>\n",
       "      <td>14850-2820</td>\n",
       "      <td>UNITED STATES</td>\n",
       "      <td>NaN</td>\n",
       "      <td>NaN</td>\n",
       "      <td>47.074</td>\n",
       "      <td>2008</td>\n",
       "      <td>370996.0</td>\n",
       "      <td>NaN</td>\n",
       "    </tr>\n",
       "    <tr>\n",
       "      <th>12</th>\n",
       "      <td>89994</td>\n",
       "      <td>Over the past century, rapid growth of human p...</td>\n",
       "      <td>Address; Affect; Area; base; Behavior; Biodive...</td>\n",
       "      <td>CNH: COLLABORATIVE RESEARCH: INTEGRATED DYNAMI...</td>\n",
       "      <td>NSF</td>\n",
       "      <td>NSF</td>\n",
       "      <td>NaN</td>\n",
       "      <td>0814260</td>\n",
       "      <td>10/1/2008</td>\n",
       "      <td>3/31/2012</td>\n",
       "      <td>PLANTINGA, ANDREW J</td>\n",
       "      <td>NaN</td>\n",
       "      <td>05</td>\n",
       "      <td>053599908</td>\n",
       "      <td>OREGON STATE UNIVERSITY</td>\n",
       "      <td>CORVALLIS</td>\n",
       "      <td>OR</td>\n",
       "      <td>97331-8507</td>\n",
       "      <td>UNITED STATES</td>\n",
       "      <td>NaN</td>\n",
       "      <td>NaN</td>\n",
       "      <td>47.075</td>\n",
       "      <td>2008</td>\n",
       "      <td>144965.0</td>\n",
       "      <td>NaN</td>\n",
       "    </tr>\n",
       "    <tr>\n",
       "      <th>13</th>\n",
       "      <td>89993</td>\n",
       "      <td>Amphibian populations around the world are exp...</td>\n",
       "      <td>Amphibia; Central America; Communicable Diseas...</td>\n",
       "      <td>COLLABORATIVE RESEARCH: EVOLUTION OF AMPHIBIAN...</td>\n",
       "      <td>NSF</td>\n",
       "      <td>NSF</td>\n",
       "      <td>NaN</td>\n",
       "      <td>0815288</td>\n",
       "      <td>10/1/2008</td>\n",
       "      <td>3/31/2009</td>\n",
       "      <td>LIPS, KAREN R</td>\n",
       "      <td>NaN</td>\n",
       "      <td>12</td>\n",
       "      <td>939007555</td>\n",
       "      <td>SOUTHERN ILLINOIS UNIVERSITY CARBONDALE</td>\n",
       "      <td>CARBONDALE</td>\n",
       "      <td>IL</td>\n",
       "      <td>62901-4709</td>\n",
       "      <td>UNITED STATES</td>\n",
       "      <td>NaN</td>\n",
       "      <td>NaN</td>\n",
       "      <td>47.074</td>\n",
       "      <td>2008</td>\n",
       "      <td>NaN</td>\n",
       "      <td>NaN</td>\n",
       "    </tr>\n",
       "    <tr>\n",
       "      <th>18</th>\n",
       "      <td>90014</td>\n",
       "      <td>Phylogenetic trees, which depict the genealogi...</td>\n",
       "      <td>Area; Biodiversity; Biological; Biology; Commu...</td>\n",
       "      <td>COLLABORATIVE RESEARCH: PHYLOGENETIC TREES FOR...</td>\n",
       "      <td>NSF</td>\n",
       "      <td>NSF</td>\n",
       "      <td>NaN</td>\n",
       "      <td>0830012</td>\n",
       "      <td>10/1/2008</td>\n",
       "      <td>9/30/2011</td>\n",
       "      <td>FERNANDEZ-BACA, DAVID F</td>\n",
       "      <td>EULENSTEIN, OLIVER</td>\n",
       "      <td>04</td>\n",
       "      <td>005309844</td>\n",
       "      <td>IOWA STATE UNIVERSITY</td>\n",
       "      <td>AMES</td>\n",
       "      <td>IA</td>\n",
       "      <td>50011-2207</td>\n",
       "      <td>UNITED STATES</td>\n",
       "      <td>NaN</td>\n",
       "      <td>NaN</td>\n",
       "      <td>47.074</td>\n",
       "      <td>2008</td>\n",
       "      <td>800000.0</td>\n",
       "      <td>NaN</td>\n",
       "    </tr>\n",
       "    <tr>\n",
       "      <th>26</th>\n",
       "      <td>89973</td>\n",
       "      <td>This project involves the study of Galois grou...</td>\n",
       "      <td>Algorithms; analog; Area; base; Case Study; de...</td>\n",
       "      <td>ARBOREAL GALOIS REPRESENTATIONS AND APPLICATIO...</td>\n",
       "      <td>NSF</td>\n",
       "      <td>NSF</td>\n",
       "      <td>NaN</td>\n",
       "      <td>0852826</td>\n",
       "      <td>8/20/2008</td>\n",
       "      <td>7/31/2012</td>\n",
       "      <td>JONES, RAPHAEL F</td>\n",
       "      <td>NaN</td>\n",
       "      <td>03</td>\n",
       "      <td>041509506</td>\n",
       "      <td>COLLEGE OF THE HOLY CROSS</td>\n",
       "      <td>WORCESTER</td>\n",
       "      <td>MA</td>\n",
       "      <td>01610-2395</td>\n",
       "      <td>UNITED STATES</td>\n",
       "      <td>NaN</td>\n",
       "      <td>NaN</td>\n",
       "      <td>47.049</td>\n",
       "      <td>2008</td>\n",
       "      <td>84353.0</td>\n",
       "      <td>NaN</td>\n",
       "    </tr>\n",
       "  </tbody>\n",
       "</table>\n",
       "</div>"
      ],
      "text/plain": [
       "   PROJECT_ID                                           ABSTRACT  \\\n",
       "4       90000  Amphibian populations around the world are exp...   \n",
       "12      89994  Over the past century, rapid growth of human p...   \n",
       "13      89993  Amphibian populations around the world are exp...   \n",
       "18      90014  Phylogenetic trees, which depict the genealogi...   \n",
       "26      89973  This project involves the study of Galois grou...   \n",
       "\n",
       "                                        PROJECT_TERMS  \\\n",
       "4   Amphibia; Central America; Communicable Diseas...   \n",
       "12  Address; Affect; Area; base; Behavior; Biodive...   \n",
       "13  Amphibia; Central America; Communicable Diseas...   \n",
       "18  Area; Biodiversity; Biological; Biology; Commu...   \n",
       "26  Algorithms; analog; Area; base; Case Study; de...   \n",
       "\n",
       "                                        PROJECT_TITLE DEPARTMENT AGENCY  \\\n",
       "4   COLLABORATIVE RESEARCH: EVOLUTION OF AMPHIBIAN...        NSF    NSF   \n",
       "12  CNH: COLLABORATIVE RESEARCH: INTEGRATED DYNAMI...        NSF    NSF   \n",
       "13  COLLABORATIVE RESEARCH: EVOLUTION OF AMPHIBIAN...        NSF    NSF   \n",
       "18  COLLABORATIVE RESEARCH: PHYLOGENETIC TREES FOR...        NSF    NSF   \n",
       "26  ARBOREAL GALOIS REPRESENTATIONS AND APPLICATIO...        NSF    NSF   \n",
       "\n",
       "   IC_CENTER PROJECT_NUMBER PROJECT_START_DATE PROJECT_END_DATE  \\\n",
       "4        NaN        0815315          10/1/2008        9/30/2011   \n",
       "12       NaN        0814260          10/1/2008        3/31/2012   \n",
       "13       NaN        0815288          10/1/2008        3/31/2009   \n",
       "18       NaN        0830012          10/1/2008        9/30/2011   \n",
       "26       NaN        0852826          8/20/2008        7/31/2012   \n",
       "\n",
       "   CONTACT_PI_PROJECT_LEADER           OTHER_PIS CONGRESSIONAL_DISTRICT  \\\n",
       "4           ZAMUDIO, KELLY R                 NaN                     22   \n",
       "12       PLANTINGA, ANDREW J                 NaN                     05   \n",
       "13             LIPS, KAREN R                 NaN                     12   \n",
       "18   FERNANDEZ-BACA, DAVID F  EULENSTEIN, OLIVER                     04   \n",
       "26          JONES, RAPHAEL F                 NaN                     03   \n",
       "\n",
       "   DUNS_NUMBER                        ORGANIZATION_NAME ORGANIZATION_CITY  \\\n",
       "4    872612445                CORNELL UNIVERSITY ITHACA            ITHACA   \n",
       "12   053599908                  OREGON STATE UNIVERSITY         CORVALLIS   \n",
       "13   939007555  SOUTHERN ILLINOIS UNIVERSITY CARBONDALE        CARBONDALE   \n",
       "18   005309844                    IOWA STATE UNIVERSITY              AMES   \n",
       "26   041509506                COLLEGE OF THE HOLY CROSS         WORCESTER   \n",
       "\n",
       "   ORGANIZATION_STATE ORGANIZATION_ZIP ORGANIZATION_COUNTRY BUDGET_START_DATE  \\\n",
       "4                  NY       14850-2820        UNITED STATES               NaN   \n",
       "12                 OR       97331-8507        UNITED STATES               NaN   \n",
       "13                 IL       62901-4709        UNITED STATES               NaN   \n",
       "18                 IA       50011-2207        UNITED STATES               NaN   \n",
       "26                 MA       01610-2395        UNITED STATES               NaN   \n",
       "\n",
       "   BUDGET_END_DATE CFDA_CODE    FY  FY_TOTAL_COST  FY_TOTAL_COST_SUB_PROJECTS  \n",
       "4              NaN    47.074  2008       370996.0                         NaN  \n",
       "12             NaN    47.075  2008       144965.0                         NaN  \n",
       "13             NaN    47.074  2008            NaN                         NaN  \n",
       "18             NaN    47.074  2008       800000.0                         NaN  \n",
       "26             NaN    47.049  2008        84353.0                         NaN  "
      ]
     },
     "execution_count": 16,
     "metadata": {},
     "output_type": "execute_result"
    }
   ],
   "source": [
    "dup.head()"
   ]
  },
  {
   "cell_type": "code",
   "execution_count": 17,
   "metadata": {},
   "outputs": [
    {
     "data": {
      "text/html": [
       "<div>\n",
       "<style scoped>\n",
       "    .dataframe tbody tr th:only-of-type {\n",
       "        vertical-align: middle;\n",
       "    }\n",
       "\n",
       "    .dataframe tbody tr th {\n",
       "        vertical-align: top;\n",
       "    }\n",
       "\n",
       "    .dataframe thead th {\n",
       "        text-align: right;\n",
       "    }\n",
       "</style>\n",
       "<table border=\"1\" class=\"dataframe\">\n",
       "  <thead>\n",
       "    <tr style=\"text-align: right;\">\n",
       "      <th></th>\n",
       "      <th>PROJECT_ID</th>\n",
       "      <th>ABSTRACT</th>\n",
       "      <th>PROJECT_TERMS</th>\n",
       "      <th>PROJECT_TITLE</th>\n",
       "      <th>DEPARTMENT</th>\n",
       "      <th>AGENCY</th>\n",
       "      <th>IC_CENTER</th>\n",
       "      <th>PROJECT_NUMBER</th>\n",
       "      <th>PROJECT_START_DATE</th>\n",
       "      <th>PROJECT_END_DATE</th>\n",
       "      <th>CONTACT_PI_PROJECT_LEADER</th>\n",
       "      <th>OTHER_PIS</th>\n",
       "      <th>CONGRESSIONAL_DISTRICT</th>\n",
       "      <th>DUNS_NUMBER</th>\n",
       "      <th>ORGANIZATION_NAME</th>\n",
       "      <th>ORGANIZATION_CITY</th>\n",
       "      <th>ORGANIZATION_STATE</th>\n",
       "      <th>ORGANIZATION_ZIP</th>\n",
       "      <th>ORGANIZATION_COUNTRY</th>\n",
       "      <th>BUDGET_START_DATE</th>\n",
       "      <th>BUDGET_END_DATE</th>\n",
       "      <th>CFDA_CODE</th>\n",
       "      <th>FY</th>\n",
       "      <th>FY_TOTAL_COST</th>\n",
       "      <th>FY_TOTAL_COST_SUB_PROJECTS</th>\n",
       "    </tr>\n",
       "  </thead>\n",
       "  <tbody>\n",
       "    <tr>\n",
       "      <th>706622</th>\n",
       "      <td>753743</td>\n",
       "      <td>﻿There is good reason to believe that providin...</td>\n",
       "      <td>Abstinence; Acute; Adverse effects; catalyst; ...</td>\n",
       "      <td>REDUCING HOSPITAL READMISSION RATES BY IMPLEME...</td>\n",
       "      <td>HHS</td>\n",
       "      <td>AHRQ</td>\n",
       "      <td>AHRQ</td>\n",
       "      <td>1R21HS023863-01</td>\n",
       "      <td>5/1/2015</td>\n",
       "      <td>4/30/2017</td>\n",
       "      <td>CARTMELL, KATHLEEN BUFORD</td>\n",
       "      <td>NaN</td>\n",
       "      <td>06</td>\n",
       "      <td>183710748</td>\n",
       "      <td>MEDICAL UNIVERSITY OF SOUTH CAROLINA</td>\n",
       "      <td>CHARLESTON</td>\n",
       "      <td>SC</td>\n",
       "      <td>294035120</td>\n",
       "      <td>UNITED STATES</td>\n",
       "      <td>5/1/2015</td>\n",
       "      <td>4/30/2016</td>\n",
       "      <td>93.226</td>\n",
       "      <td>2015</td>\n",
       "      <td>NaN</td>\n",
       "      <td>NaN</td>\n",
       "    </tr>\n",
       "    <tr>\n",
       "      <th>793244</th>\n",
       "      <td>841133</td>\n",
       "      <td>﻿   DESCRIPTION (provided by applicant): There...</td>\n",
       "      <td>NaN</td>\n",
       "      <td>REDUCING HOSPITAL READMISSION RATES BY IMPLEME...</td>\n",
       "      <td>HHS</td>\n",
       "      <td>AHRQ</td>\n",
       "      <td>AHRQ</td>\n",
       "      <td>5R21HS023863-02</td>\n",
       "      <td>5/1/2015</td>\n",
       "      <td>4/30/2018</td>\n",
       "      <td>CARTMELL, KATHLEEN BUFORD</td>\n",
       "      <td>NaN</td>\n",
       "      <td>06</td>\n",
       "      <td>183710748</td>\n",
       "      <td>MEDICAL UNIVERSITY OF SOUTH CAROLINA</td>\n",
       "      <td>CHARLESTON</td>\n",
       "      <td>SC</td>\n",
       "      <td>294035120</td>\n",
       "      <td>UNITED STATES</td>\n",
       "      <td>5/1/2016</td>\n",
       "      <td>4/30/2018</td>\n",
       "      <td>93.226</td>\n",
       "      <td>2016</td>\n",
       "      <td>NaN</td>\n",
       "      <td>NaN</td>\n",
       "    </tr>\n",
       "  </tbody>\n",
       "</table>\n",
       "</div>"
      ],
      "text/plain": [
       "       PROJECT_ID                                           ABSTRACT  \\\n",
       "706622     753743  ﻿There is good reason to believe that providin...   \n",
       "793244     841133  ﻿   DESCRIPTION (provided by applicant): There...   \n",
       "\n",
       "                                            PROJECT_TERMS  \\\n",
       "706622  Abstinence; Acute; Adverse effects; catalyst; ...   \n",
       "793244                                                NaN   \n",
       "\n",
       "                                            PROJECT_TITLE DEPARTMENT AGENCY  \\\n",
       "706622  REDUCING HOSPITAL READMISSION RATES BY IMPLEME...        HHS   AHRQ   \n",
       "793244  REDUCING HOSPITAL READMISSION RATES BY IMPLEME...        HHS   AHRQ   \n",
       "\n",
       "       IC_CENTER   PROJECT_NUMBER PROJECT_START_DATE PROJECT_END_DATE  \\\n",
       "706622      AHRQ  1R21HS023863-01           5/1/2015        4/30/2017   \n",
       "793244      AHRQ  5R21HS023863-02           5/1/2015        4/30/2018   \n",
       "\n",
       "        CONTACT_PI_PROJECT_LEADER OTHER_PIS CONGRESSIONAL_DISTRICT  \\\n",
       "706622  CARTMELL, KATHLEEN BUFORD       NaN                     06   \n",
       "793244  CARTMELL, KATHLEEN BUFORD       NaN                     06   \n",
       "\n",
       "       DUNS_NUMBER                     ORGANIZATION_NAME ORGANIZATION_CITY  \\\n",
       "706622   183710748  MEDICAL UNIVERSITY OF SOUTH CAROLINA        CHARLESTON   \n",
       "793244   183710748  MEDICAL UNIVERSITY OF SOUTH CAROLINA        CHARLESTON   \n",
       "\n",
       "       ORGANIZATION_STATE ORGANIZATION_ZIP ORGANIZATION_COUNTRY  \\\n",
       "706622                 SC        294035120        UNITED STATES   \n",
       "793244                 SC        294035120        UNITED STATES   \n",
       "\n",
       "       BUDGET_START_DATE BUDGET_END_DATE CFDA_CODE    FY  FY_TOTAL_COST  \\\n",
       "706622          5/1/2015       4/30/2016    93.226  2015            NaN   \n",
       "793244          5/1/2016       4/30/2018    93.226  2016            NaN   \n",
       "\n",
       "        FY_TOTAL_COST_SUB_PROJECTS  \n",
       "706622                         NaN  \n",
       "793244                         NaN  "
      ]
     },
     "execution_count": 17,
     "metadata": {},
     "output_type": "execute_result"
    }
   ],
   "source": [
    "# look at specific dupicate group examples\n",
    "\n",
    "#dup[dup['ABSTRACT'] == dup[\"ABSTRACT\"].iloc[0]]\n",
    "\n",
    "temp = df[df['PROJECT_TITLE'] == 'REDUCING HOSPITAL READMISSION RATES BY IMPLEMENTING AN INPATIENT TOBACCO CESSATION SERVICE DRIVEN BY INTERACTIVE-VOICE RECOGNITION TECHNOLOGY'] \n",
    "temp\n",
    "\n",
    "# TAKEAWAY - Abstracts are basically the same for this example.  Differs in a junk phrase and the start and minor\n",
    "# punctuation, capitalization.  If FY had been the same though, these wouldn't have been counted as duplicates."
   ]
  },
  {
   "cell_type": "code",
   "execution_count": null,
   "metadata": {},
   "outputs": [],
   "source": [
    "# OVERALL TAKEAWAY - sum total cost for each group of duplicates"
   ]
  },
  {
   "cell_type": "code",
   "execution_count": null,
   "metadata": {},
   "outputs": [],
   "source": []
  },
  {
   "cell_type": "markdown",
   "metadata": {},
   "source": [
    "**Aggregate counts for unique ORGANIZATION_NAMEs, PIs, and PROJECT_IDs in rows with same Abstract/Title/FY**"
   ]
  },
  {
   "cell_type": "code",
   "execution_count": 18,
   "metadata": {},
   "outputs": [],
   "source": [
    "# group df by abstract/title/FY (exact matches)\n",
    "all_grp = df.groupby(['ABSTRACT', 'PROJECT_TITLE', 'FY'], dropna=False)"
   ]
  },
  {
   "cell_type": "code",
   "execution_count": 19,
   "metadata": {},
   "outputs": [],
   "source": [
    "# for each unique ABSTRACT/TITLE/FY in df, count unique Organizations, unique PIs, and group size\n",
    "agg_df = all_grp.agg(ORG_COUNT=('ORGANIZATION_NAME', 'nunique'),\n",
    "                     PI_COUNT=('CONTACT_PI_PROJECT_LEADER', 'nunique'),\n",
    "                     FY_TOTAL_COST_SUM=('FY_TOTAL_COST', 'sum'),\n",
    "                     NUM_RECORDS=('PROJECT_ID', 'count')\n",
    "                    )\n",
    "\n",
    "# merge to bring in the aggregated information\n",
    "merged = df.merge(agg_df, how='left', on=['ABSTRACT', 'PROJECT_TITLE', 'FY'])"
   ]
  },
  {
   "cell_type": "code",
   "execution_count": 20,
   "metadata": {},
   "outputs": [
    {
     "data": {
      "text/html": [
       "<div>\n",
       "<style scoped>\n",
       "    .dataframe tbody tr th:only-of-type {\n",
       "        vertical-align: middle;\n",
       "    }\n",
       "\n",
       "    .dataframe tbody tr th {\n",
       "        vertical-align: top;\n",
       "    }\n",
       "\n",
       "    .dataframe thead th {\n",
       "        text-align: right;\n",
       "    }\n",
       "</style>\n",
       "<table border=\"1\" class=\"dataframe\">\n",
       "  <thead>\n",
       "    <tr style=\"text-align: right;\">\n",
       "      <th></th>\n",
       "      <th></th>\n",
       "      <th></th>\n",
       "      <th>ORG_COUNT</th>\n",
       "      <th>PI_COUNT</th>\n",
       "      <th>FY_TOTAL_COST_SUM</th>\n",
       "      <th>NUM_RECORDS</th>\n",
       "    </tr>\n",
       "    <tr>\n",
       "      <th>ABSTRACT</th>\n",
       "      <th>PROJECT_TITLE</th>\n",
       "      <th>FY</th>\n",
       "      <th></th>\n",
       "      <th></th>\n",
       "      <th></th>\n",
       "      <th></th>\n",
       "    </tr>\n",
       "  </thead>\n",
       "  <tbody>\n",
       "    <tr>\n",
       "      <th>!  Project Summary Oral health problems (i.e. missing teeth, dental caries, and periodontal diseases) accumulate throughoutthe life span but occur with increasing frequency in later life. These problems arise in the context of increasingnumbers of older adults retaining their natural teeth and can seriously impact the individual's life, causing painas well as impairment of important functions such as speaking, chewing, and swallowing. Individuals withdementia have been shown to have significantly more oral plaque, more severe periodontal disease, morecaries, and fewer teeth than cognitively intact older adults. Our current study shows that even individuals withmild dementia have an increased risk of poor oral health mainly due to brushing their teeth less frequently thancognitively normal older individuals. Maintaining good oral hygiene is a critical step in preventing deteriorationof oral health. But individuals with mild dementia and their informal caregivers, who provide supervision orassistance with other daily activities, often neglect oral hygiene. Few interventions have addressed oral healthproblems among older adults in general and among individuals with dementia in particular, and to ourknowledge, no oral health interventions have been conducted among community-dwelling individuals with milddementia. To address this gap in knowledge we propose an adaptive intervention focused on mild dementiabecause individuals with this level of impairment still retain sufficient cognitive ability to perform oral hygienetasks successfully with minimal assistance. Guided by the Adaptive Leadership Framework, our intervention isdesigned to work with those with mild dementia and caregivers to identify technical and adaptive challenges inoral care and assist them to improve the demented individuals' ability to engage in effective oral care. Overthe past several years, we have conducted preliminary studies that support our proposed intervention. As thenext step toward our long-term goal of conducting an intervention study, we are proposing a one-year planningproject with the following aims: 1) Finalize the behavioral intervention protocol; 2) Establish projectinfrastructure for the future U01 project, and 3) Prepare a U01 application for the intervention. This project willprovide the infrastructure and the intervention materials to facilitate swift implementation of a future U01 project.The aim of the U01 application will be to conduct an innovative caregiver- and technology-assisted oral carebehavior intervention for individuals with mild dementia.. The project, if successful, will create an innovativeapproach to assist individuals with mild dementia and their caregivers in implementing a cooperative oralhygiene care plan to prevent deterioration of oral health, which in turn, will help individuals with dementiamaintain independence and quality of life for an extended period of time.PUBLIC HEALTH RELEVANCE: Oral health worsens in individuals with dementia. The growing number ofindividuals with dementia in the U.S. makes geriatric oral health an increasingly important public health issuethat this study will address. The intervention we propose for this study could be incorporated into clinicalpractice by developing toolkits that dental or non-dental health professionals could use to educate and trainolder individuals with and without cognitive impairment to maintain and improve oral health. !!</th>\n",
       "      <th>DEVELOPING AN ORAL HEALTH INTERVENTION FOR INDIVIDUALS WITH MILD DEMENTIA</th>\n",
       "      <th>2014</th>\n",
       "      <td>1</td>\n",
       "      <td>1</td>\n",
       "      <td>242036.0</td>\n",
       "      <td>1</td>\n",
       "    </tr>\n",
       "    <tr>\n",
       "      <th rowspan=\"4\" valign=\"top\">!  Project Summary: The goal of the CVM Vet-LRN Veterinary Diagnostic Laboratory #  Program is to complement, develop, and use university, state and federal veterinary $  diagnostic laboratory resources and expertise in order to increase national laboratory%  capacity to detect, respond to and recover from a catastrophic animal food/feed &amp;  contamination event, either microbial or chemical. The program's funding would allow'  provision for equipment, supplies, and personnel; training in standardized testing (  methodologies; participation in proficiency testing in those methodologies; participation)  in method enhancement activities to extend analysis capability; and analysis of *  surveillance and emergency outbreak samples. Nationwide standardization of validated!+  laboratory tests, competent laboratory analysts, uniform laboratory quality systems, and!!  electronic communication of laboratory data are essential to the FDA's mission to protect!#  food safety and security nationwide with the ultimate goal of protecting public health. The!$  Washington Animal Disease Diagnostic Laboratory (WADDL) at Washington State!%  University is well positioned to effectively function as a regional laboratory in the CVM!&amp;  Vet-LRN Veterinary Diagnostic Laboratory Program. Since 1974 WADDL has provided!'  full laboratory diagnostic services, including pathology, microbiology and toxicology, to!(  veterinarians and animal owners throughout the Pacific Northwest. WADDL actively!)  participates in multiple national laboratory networks (USDA-NAHLN, CDC-LRN) and is!*  well practiced in standardized methods, equipment, proficiency testing, and electronic#+  reporting. Furthermore, WADDL has a mature laboratory quality system based upon#!  international ISO 17025 laboratory standards, being fully accredited by the American##  Association of Veterinary Laboratory Diagnosticians laboratory accreditation program.#$  Finally, as a Select Agent approved laboratory, WADDL has didicated BSL-3 laboratory#%  space with personnel highly trained in maximal biosecurity procedures. Participation by#&amp;  WSU-WADDL in the Vet-LRN Veterinary Diagnostic Laboratory Program would provide#'  FDA-CVM with increased laboratory capacity and capability in the Pacific Northwest#(  region of the USA in the event of animal food or drug related illnesses or other large#)  scale animal food/feed emergency events by leveraging current high quality, state#*  funded laboratory resources and expertise.</th>\n",
       "      <th rowspan=\"4\" valign=\"top\">FDA VET-LRN VETERINARY DIAGNOSTIC LABORATORY PROGRAM</th>\n",
       "      <th>2012</th>\n",
       "      <td>1</td>\n",
       "      <td>1</td>\n",
       "      <td>16500.0</td>\n",
       "      <td>1</td>\n",
       "    </tr>\n",
       "    <tr>\n",
       "      <th>2013</th>\n",
       "      <td>1</td>\n",
       "      <td>1</td>\n",
       "      <td>16500.0</td>\n",
       "      <td>1</td>\n",
       "    </tr>\n",
       "    <tr>\n",
       "      <th>2014</th>\n",
       "      <td>1</td>\n",
       "      <td>1</td>\n",
       "      <td>16500.0</td>\n",
       "      <td>1</td>\n",
       "    </tr>\n",
       "    <tr>\n",
       "      <th>2015</th>\n",
       "      <td>1</td>\n",
       "      <td>1</td>\n",
       "      <td>21500.0</td>\n",
       "      <td>2</td>\n",
       "    </tr>\n",
       "  </tbody>\n",
       "</table>\n",
       "</div>"
      ],
      "text/plain": [
       "                                                                                                            ORG_COUNT  \\\n",
       "ABSTRACT                                           PROJECT_TITLE                                      FY                \n",
       "!  Project Summary Oral health problems (i.e. m... DEVELOPING AN ORAL HEALTH INTERVENTION FOR INDI... 2014          1   \n",
       "!  Project Summary: The goal of the CVM Vet-LRN... FDA VET-LRN VETERINARY DIAGNOSTIC LABORATORY PR... 2012          1   \n",
       "                                                                                                      2013          1   \n",
       "                                                                                                      2014          1   \n",
       "                                                                                                      2015          1   \n",
       "\n",
       "                                                                                                            PI_COUNT  \\\n",
       "ABSTRACT                                           PROJECT_TITLE                                      FY               \n",
       "!  Project Summary Oral health problems (i.e. m... DEVELOPING AN ORAL HEALTH INTERVENTION FOR INDI... 2014         1   \n",
       "!  Project Summary: The goal of the CVM Vet-LRN... FDA VET-LRN VETERINARY DIAGNOSTIC LABORATORY PR... 2012         1   \n",
       "                                                                                                      2013         1   \n",
       "                                                                                                      2014         1   \n",
       "                                                                                                      2015         1   \n",
       "\n",
       "                                                                                                            FY_TOTAL_COST_SUM  \\\n",
       "ABSTRACT                                           PROJECT_TITLE                                      FY                        \n",
       "!  Project Summary Oral health problems (i.e. m... DEVELOPING AN ORAL HEALTH INTERVENTION FOR INDI... 2014           242036.0   \n",
       "!  Project Summary: The goal of the CVM Vet-LRN... FDA VET-LRN VETERINARY DIAGNOSTIC LABORATORY PR... 2012            16500.0   \n",
       "                                                                                                      2013            16500.0   \n",
       "                                                                                                      2014            16500.0   \n",
       "                                                                                                      2015            21500.0   \n",
       "\n",
       "                                                                                                            NUM_RECORDS  \n",
       "ABSTRACT                                           PROJECT_TITLE                                      FY                 \n",
       "!  Project Summary Oral health problems (i.e. m... DEVELOPING AN ORAL HEALTH INTERVENTION FOR INDI... 2014            1  \n",
       "!  Project Summary: The goal of the CVM Vet-LRN... FDA VET-LRN VETERINARY DIAGNOSTIC LABORATORY PR... 2012            1  \n",
       "                                                                                                      2013            1  \n",
       "                                                                                                      2014            1  \n",
       "                                                                                                      2015            2  "
      ]
     },
     "execution_count": 20,
     "metadata": {},
     "output_type": "execute_result"
    }
   ],
   "source": [
    "agg_df.head()"
   ]
  },
  {
   "cell_type": "code",
   "execution_count": 21,
   "metadata": {},
   "outputs": [
    {
     "data": {
      "text/plain": [
       "1220119"
      ]
     },
     "execution_count": 21,
     "metadata": {},
     "output_type": "execute_result"
    }
   ],
   "source": [
    "agg_df['NUM_RECORDS'].sum()"
   ]
  },
  {
   "cell_type": "code",
   "execution_count": 22,
   "metadata": {},
   "outputs": [
    {
     "data": {
      "text/plain": [
       "1220119"
      ]
     },
     "execution_count": 22,
     "metadata": {},
     "output_type": "execute_result"
    }
   ],
   "source": [
    "len(df)"
   ]
  },
  {
   "cell_type": "code",
   "execution_count": 23,
   "metadata": {},
   "outputs": [
    {
     "data": {
      "text/html": [
       "<div>\n",
       "<style scoped>\n",
       "    .dataframe tbody tr th:only-of-type {\n",
       "        vertical-align: middle;\n",
       "    }\n",
       "\n",
       "    .dataframe tbody tr th {\n",
       "        vertical-align: top;\n",
       "    }\n",
       "\n",
       "    .dataframe thead th {\n",
       "        text-align: right;\n",
       "    }\n",
       "</style>\n",
       "<table border=\"1\" class=\"dataframe\">\n",
       "  <thead>\n",
       "    <tr style=\"text-align: right;\">\n",
       "      <th></th>\n",
       "      <th>PROJECT_ID</th>\n",
       "      <th>ABSTRACT</th>\n",
       "      <th>PROJECT_TERMS</th>\n",
       "      <th>PROJECT_TITLE</th>\n",
       "      <th>DEPARTMENT</th>\n",
       "      <th>AGENCY</th>\n",
       "      <th>IC_CENTER</th>\n",
       "      <th>PROJECT_NUMBER</th>\n",
       "      <th>PROJECT_START_DATE</th>\n",
       "      <th>PROJECT_END_DATE</th>\n",
       "      <th>CONTACT_PI_PROJECT_LEADER</th>\n",
       "      <th>OTHER_PIS</th>\n",
       "      <th>CONGRESSIONAL_DISTRICT</th>\n",
       "      <th>DUNS_NUMBER</th>\n",
       "      <th>ORGANIZATION_NAME</th>\n",
       "      <th>ORGANIZATION_CITY</th>\n",
       "      <th>ORGANIZATION_STATE</th>\n",
       "      <th>ORGANIZATION_ZIP</th>\n",
       "      <th>ORGANIZATION_COUNTRY</th>\n",
       "      <th>BUDGET_START_DATE</th>\n",
       "      <th>BUDGET_END_DATE</th>\n",
       "      <th>CFDA_CODE</th>\n",
       "      <th>FY</th>\n",
       "      <th>FY_TOTAL_COST</th>\n",
       "      <th>FY_TOTAL_COST_SUB_PROJECTS</th>\n",
       "      <th>ORG_COUNT</th>\n",
       "      <th>PI_COUNT</th>\n",
       "      <th>FY_TOTAL_COST_SUM</th>\n",
       "      <th>NUM_RECORDS</th>\n",
       "    </tr>\n",
       "  </thead>\n",
       "  <tbody>\n",
       "    <tr>\n",
       "      <th>0</th>\n",
       "      <td>89996</td>\n",
       "      <td>This is a project to explore Game-based, Metap...</td>\n",
       "      <td>Achievement; analog; base; Cognitive Science; ...</td>\n",
       "      <td>RUI: CYGAMES: CYBER-ENABLED TEACHING AND LEARN...</td>\n",
       "      <td>NSF</td>\n",
       "      <td>NSF</td>\n",
       "      <td>NaN</td>\n",
       "      <td>0814512</td>\n",
       "      <td>9/15/2008</td>\n",
       "      <td>8/31/2012</td>\n",
       "      <td>REESE, DEBBIE D</td>\n",
       "      <td>CARTER, BEVERLY; WOOD, CHARLES; HITT, BEN</td>\n",
       "      <td>01</td>\n",
       "      <td>068719400</td>\n",
       "      <td>WHEELING JESUIT UNIVERSITY</td>\n",
       "      <td>WHEELING</td>\n",
       "      <td>WV</td>\n",
       "      <td>26003-6243</td>\n",
       "      <td>UNITED STATES</td>\n",
       "      <td>NaN</td>\n",
       "      <td>NaN</td>\n",
       "      <td>47.076</td>\n",
       "      <td>2008</td>\n",
       "      <td>1999467.0</td>\n",
       "      <td>NaN</td>\n",
       "      <td>1</td>\n",
       "      <td>1</td>\n",
       "      <td>1999467.0</td>\n",
       "      <td>1</td>\n",
       "    </tr>\n",
       "    <tr>\n",
       "      <th>1</th>\n",
       "      <td>89997</td>\n",
       "      <td>Institution: Franklin Institute Science Museum...</td>\n",
       "      <td>Active Learning; Child; Computer software; des...</td>\n",
       "      <td>ARIEL - AUGMENTED REALITY FOR INTERPRETIVE AND...</td>\n",
       "      <td>NSF</td>\n",
       "      <td>NSF</td>\n",
       "      <td>NaN</td>\n",
       "      <td>0741659</td>\n",
       "      <td>9/15/2008</td>\n",
       "      <td>8/31/2012</td>\n",
       "      <td>SNYDER, STEVEN</td>\n",
       "      <td>ELINICH, KAREN; YOON, SUSAN</td>\n",
       "      <td>02</td>\n",
       "      <td>001741859</td>\n",
       "      <td>FRANKLIN INSTITUTE</td>\n",
       "      <td>PHILADELPHIA</td>\n",
       "      <td>PA</td>\n",
       "      <td>19103-1115</td>\n",
       "      <td>UNITED STATES</td>\n",
       "      <td>NaN</td>\n",
       "      <td>NaN</td>\n",
       "      <td>47.076</td>\n",
       "      <td>2008</td>\n",
       "      <td>1799699.0</td>\n",
       "      <td>NaN</td>\n",
       "      <td>1</td>\n",
       "      <td>1</td>\n",
       "      <td>1799699.0</td>\n",
       "      <td>1</td>\n",
       "    </tr>\n",
       "    <tr>\n",
       "      <th>2</th>\n",
       "      <td>89998</td>\n",
       "      <td>Through programs (including small group conver...</td>\n",
       "      <td>Address; Age; Birth; Brain; Caregivers; Child;...</td>\n",
       "      <td>BRIGHTER FUTURES: PUBLIC DELIBERATION ABOUT TH...</td>\n",
       "      <td>NSF</td>\n",
       "      <td>NSF</td>\n",
       "      <td>NaN</td>\n",
       "      <td>0813522</td>\n",
       "      <td>9/15/2008</td>\n",
       "      <td>8/31/2011</td>\n",
       "      <td>FINK, LAURIE KLEINBAUM</td>\n",
       "      <td>CADIGAN, KAREN; ELLENBOGEN, KIRSTEN</td>\n",
       "      <td>04</td>\n",
       "      <td>061451670</td>\n",
       "      <td>SCIENCE MUSEUM OF MINNESOTA</td>\n",
       "      <td>SAINT PAUL</td>\n",
       "      <td>MN</td>\n",
       "      <td>55102-1202</td>\n",
       "      <td>UNITED STATES</td>\n",
       "      <td>NaN</td>\n",
       "      <td>NaN</td>\n",
       "      <td>47.076</td>\n",
       "      <td>2008</td>\n",
       "      <td>1505858.0</td>\n",
       "      <td>NaN</td>\n",
       "      <td>1</td>\n",
       "      <td>1</td>\n",
       "      <td>1505858.0</td>\n",
       "      <td>1</td>\n",
       "    </tr>\n",
       "    <tr>\n",
       "      <th>3</th>\n",
       "      <td>89999</td>\n",
       "      <td>In partnership with the American Chemical Soci...</td>\n",
       "      <td>Advanced Development; American; Chemicals; Che...</td>\n",
       "      <td>FOSTERING US-INTERNATIONAL COLLABORATIVE PARTN...</td>\n",
       "      <td>NSF</td>\n",
       "      <td>NSF</td>\n",
       "      <td>NaN</td>\n",
       "      <td>0838627</td>\n",
       "      <td>8/1/2008</td>\n",
       "      <td>12/31/2010</td>\n",
       "      <td>JOST, JOHN W</td>\n",
       "      <td>MILLER, BRADLEY; BOWMAN, KATHERINE</td>\n",
       "      <td>04</td>\n",
       "      <td>009059242</td>\n",
       "      <td>INTERNATIONAL UNION OF PURE AND APPLIED CHEMISTRY</td>\n",
       "      <td>DURHAM</td>\n",
       "      <td>NC</td>\n",
       "      <td>27709-3757</td>\n",
       "      <td>UNITED STATES</td>\n",
       "      <td>NaN</td>\n",
       "      <td>NaN</td>\n",
       "      <td>47.049</td>\n",
       "      <td>2008</td>\n",
       "      <td>51000.0</td>\n",
       "      <td>NaN</td>\n",
       "      <td>1</td>\n",
       "      <td>1</td>\n",
       "      <td>51000.0</td>\n",
       "      <td>1</td>\n",
       "    </tr>\n",
       "    <tr>\n",
       "      <th>4</th>\n",
       "      <td>90000</td>\n",
       "      <td>Amphibian populations around the world are exp...</td>\n",
       "      <td>Amphibia; Central America; Communicable Diseas...</td>\n",
       "      <td>COLLABORATIVE RESEARCH: EVOLUTION OF AMPHIBIAN...</td>\n",
       "      <td>NSF</td>\n",
       "      <td>NSF</td>\n",
       "      <td>NaN</td>\n",
       "      <td>0815315</td>\n",
       "      <td>10/1/2008</td>\n",
       "      <td>9/30/2011</td>\n",
       "      <td>ZAMUDIO, KELLY R</td>\n",
       "      <td>NaN</td>\n",
       "      <td>22</td>\n",
       "      <td>872612445</td>\n",
       "      <td>CORNELL UNIVERSITY ITHACA</td>\n",
       "      <td>ITHACA</td>\n",
       "      <td>NY</td>\n",
       "      <td>14850-2820</td>\n",
       "      <td>UNITED STATES</td>\n",
       "      <td>NaN</td>\n",
       "      <td>NaN</td>\n",
       "      <td>47.074</td>\n",
       "      <td>2008</td>\n",
       "      <td>370996.0</td>\n",
       "      <td>NaN</td>\n",
       "      <td>2</td>\n",
       "      <td>2</td>\n",
       "      <td>370996.0</td>\n",
       "      <td>2</td>\n",
       "    </tr>\n",
       "  </tbody>\n",
       "</table>\n",
       "</div>"
      ],
      "text/plain": [
       "  PROJECT_ID                                           ABSTRACT  \\\n",
       "0      89996  This is a project to explore Game-based, Metap...   \n",
       "1      89997  Institution: Franklin Institute Science Museum...   \n",
       "2      89998  Through programs (including small group conver...   \n",
       "3      89999  In partnership with the American Chemical Soci...   \n",
       "4      90000  Amphibian populations around the world are exp...   \n",
       "\n",
       "                                       PROJECT_TERMS  \\\n",
       "0  Achievement; analog; base; Cognitive Science; ...   \n",
       "1  Active Learning; Child; Computer software; des...   \n",
       "2  Address; Age; Birth; Brain; Caregivers; Child;...   \n",
       "3  Advanced Development; American; Chemicals; Che...   \n",
       "4  Amphibia; Central America; Communicable Diseas...   \n",
       "\n",
       "                                       PROJECT_TITLE DEPARTMENT AGENCY  \\\n",
       "0  RUI: CYGAMES: CYBER-ENABLED TEACHING AND LEARN...        NSF    NSF   \n",
       "1  ARIEL - AUGMENTED REALITY FOR INTERPRETIVE AND...        NSF    NSF   \n",
       "2  BRIGHTER FUTURES: PUBLIC DELIBERATION ABOUT TH...        NSF    NSF   \n",
       "3  FOSTERING US-INTERNATIONAL COLLABORATIVE PARTN...        NSF    NSF   \n",
       "4  COLLABORATIVE RESEARCH: EVOLUTION OF AMPHIBIAN...        NSF    NSF   \n",
       "\n",
       "  IC_CENTER PROJECT_NUMBER PROJECT_START_DATE PROJECT_END_DATE  \\\n",
       "0       NaN        0814512          9/15/2008        8/31/2012   \n",
       "1       NaN        0741659          9/15/2008        8/31/2012   \n",
       "2       NaN        0813522          9/15/2008        8/31/2011   \n",
       "3       NaN        0838627           8/1/2008       12/31/2010   \n",
       "4       NaN        0815315          10/1/2008        9/30/2011   \n",
       "\n",
       "  CONTACT_PI_PROJECT_LEADER                                  OTHER_PIS  \\\n",
       "0           REESE, DEBBIE D  CARTER, BEVERLY; WOOD, CHARLES; HITT, BEN   \n",
       "1            SNYDER, STEVEN                ELINICH, KAREN; YOON, SUSAN   \n",
       "2    FINK, LAURIE KLEINBAUM        CADIGAN, KAREN; ELLENBOGEN, KIRSTEN   \n",
       "3              JOST, JOHN W         MILLER, BRADLEY; BOWMAN, KATHERINE   \n",
       "4          ZAMUDIO, KELLY R                                        NaN   \n",
       "\n",
       "  CONGRESSIONAL_DISTRICT DUNS_NUMBER  \\\n",
       "0                     01   068719400   \n",
       "1                     02   001741859   \n",
       "2                     04   061451670   \n",
       "3                     04   009059242   \n",
       "4                     22   872612445   \n",
       "\n",
       "                                   ORGANIZATION_NAME ORGANIZATION_CITY  \\\n",
       "0                         WHEELING JESUIT UNIVERSITY          WHEELING   \n",
       "1                                 FRANKLIN INSTITUTE      PHILADELPHIA   \n",
       "2                        SCIENCE MUSEUM OF MINNESOTA        SAINT PAUL   \n",
       "3  INTERNATIONAL UNION OF PURE AND APPLIED CHEMISTRY            DURHAM   \n",
       "4                          CORNELL UNIVERSITY ITHACA            ITHACA   \n",
       "\n",
       "  ORGANIZATION_STATE ORGANIZATION_ZIP ORGANIZATION_COUNTRY BUDGET_START_DATE  \\\n",
       "0                 WV       26003-6243        UNITED STATES               NaN   \n",
       "1                 PA       19103-1115        UNITED STATES               NaN   \n",
       "2                 MN       55102-1202        UNITED STATES               NaN   \n",
       "3                 NC       27709-3757        UNITED STATES               NaN   \n",
       "4                 NY       14850-2820        UNITED STATES               NaN   \n",
       "\n",
       "  BUDGET_END_DATE CFDA_CODE    FY  FY_TOTAL_COST  FY_TOTAL_COST_SUB_PROJECTS  \\\n",
       "0             NaN    47.076  2008      1999467.0                         NaN   \n",
       "1             NaN    47.076  2008      1799699.0                         NaN   \n",
       "2             NaN    47.076  2008      1505858.0                         NaN   \n",
       "3             NaN    47.049  2008        51000.0                         NaN   \n",
       "4             NaN    47.074  2008       370996.0                         NaN   \n",
       "\n",
       "   ORG_COUNT  PI_COUNT  FY_TOTAL_COST_SUM  NUM_RECORDS  \n",
       "0          1         1          1999467.0            1  \n",
       "1          1         1          1799699.0            1  \n",
       "2          1         1          1505858.0            1  \n",
       "3          1         1            51000.0            1  \n",
       "4          2         2           370996.0            2  "
      ]
     },
     "execution_count": 23,
     "metadata": {},
     "output_type": "execute_result"
    }
   ],
   "source": [
    "merged.head()"
   ]
  },
  {
   "cell_type": "code",
   "execution_count": null,
   "metadata": {},
   "outputs": [],
   "source": []
  },
  {
   "cell_type": "code",
   "execution_count": null,
   "metadata": {},
   "outputs": [],
   "source": []
  },
  {
   "cell_type": "markdown",
   "metadata": {},
   "source": [
    "### Deduplication"
   ]
  },
  {
   "cell_type": "code",
   "execution_count": 24,
   "metadata": {},
   "outputs": [
    {
     "name": "stdout",
     "output_type": "stream",
     "text": [
      "0\n",
      "1\n",
      "0\n"
     ]
    }
   ],
   "source": [
    "print(sum(merged['ABSTRACT'].isnull()))\n",
    "print(sum(merged['PROJECT_TITLE'].isnull()))\n",
    "print(sum(merged['FY'].isnull()))"
   ]
  },
  {
   "cell_type": "code",
   "execution_count": 25,
   "metadata": {},
   "outputs": [],
   "source": [
    "# save NON-duplicated rows and the LAST occurrance of duplicated rows\n",
    "dedup = merged[~merged.duplicated(subset=['ABSTRACT',  'PROJECT_TITLE', 'FY'], keep='last')]"
   ]
  },
  {
   "cell_type": "code",
   "execution_count": 26,
   "metadata": {},
   "outputs": [
    {
     "name": "stdout",
     "output_type": "stream",
     "text": [
      "Original: 1220119\n",
      "Deduplicated: 1148217\n",
      "Number of Duplicates: 71902\n"
     ]
    }
   ],
   "source": [
    "print(f\"Original: {len(df)}\")\n",
    "print(f\"Deduplicated: {len(dedup)}\")\n",
    "print(f\"Number of Duplicates: {len(df) - len(dedup)}\")"
   ]
  },
  {
   "cell_type": "code",
   "execution_count": 27,
   "metadata": {},
   "outputs": [
    {
     "data": {
      "text/plain": [
       "1220119"
      ]
     },
     "execution_count": 27,
     "metadata": {},
     "output_type": "execute_result"
    }
   ],
   "source": [
    "dedup['NUM_RECORDS'].sum()"
   ]
  },
  {
   "cell_type": "code",
   "execution_count": 28,
   "metadata": {},
   "outputs": [],
   "source": [
    "#save final (deduplicated) dataframe as \"df\" to fit downstream code\n",
    "df = dedup"
   ]
  },
  {
   "cell_type": "code",
   "execution_count": null,
   "metadata": {},
   "outputs": [],
   "source": []
  },
  {
   "cell_type": "code",
   "execution_count": null,
   "metadata": {},
   "outputs": [],
   "source": []
  },
  {
   "cell_type": "markdown",
   "metadata": {},
   "source": [
    "### Dataset setup"
   ]
  },
  {
   "cell_type": "markdown",
   "metadata": {},
   "source": [
    "##### Helper function used throughout"
   ]
  },
  {
   "cell_type": "code",
   "execution_count": 29,
   "metadata": {},
   "outputs": [],
   "source": [
    "# drops strings with length 0 - indices printed out, find with df.loc[ix]\n",
    "\n",
    "def drop_empties(df, col):\n",
    "    \n",
    "    l1 = len(df)\n",
    "    ix = df[df[col].apply(len)==0].index\n",
    "    print(ix)\n",
    "    df.drop(ix,axis=0,inplace=True)\n",
    "    l2 = len(df)\n",
    "    \n",
    "    print(f\"dropped {l1-l2}\")\n",
    "    \n",
    "    return df"
   ]
  },
  {
   "cell_type": "code",
   "execution_count": null,
   "metadata": {},
   "outputs": [],
   "source": []
  },
  {
   "cell_type": "code",
   "execution_count": 30,
   "metadata": {},
   "outputs": [
    {
     "name": "stderr",
     "output_type": "stream",
     "text": [
      "<ipython-input-30-61475bfdf4cd>:7: SettingWithCopyWarning: \n",
      "A value is trying to be set on a copy of a slice from a DataFrame.\n",
      "Try using .loc[row_indexer,col_indexer] = value instead\n",
      "\n",
      "See the caveats in the documentation: https://pandas.pydata.org/pandas-docs/stable/user_guide/indexing.html#returning-a-view-versus-a-copy\n",
      "  df[\"working_abstract\"] = df[\"ABSTRACT\"]\n"
     ]
    },
    {
     "name": "stdout",
     "output_type": "stream",
     "text": [
      "Int64Index([], dtype='int64')\n",
      "dropped 0\n"
     ]
    },
    {
     "name": "stderr",
     "output_type": "stream",
     "text": [
      "/apps/software/standard/core/anaconda/2020.11-py3.8/lib/python3.8/site-packages/pandas/core/frame.py:4163: SettingWithCopyWarning: \n",
      "A value is trying to be set on a copy of a slice from a DataFrame\n",
      "\n",
      "See the caveats in the documentation: https://pandas.pydata.org/pandas-docs/stable/user_guide/indexing.html#returning-a-view-versus-a-copy\n",
      "  return super().drop(\n"
     ]
    }
   ],
   "source": [
    "# strip leading and trailing whitespace, save in a working abstract column that will be updated as text is cleaned\n",
    "# strip() already ran above\n",
    "\n",
    "# Note: we cannot lower case abstracts up front - capitalization is needed to find POS in preprocessing\n",
    " \n",
    "#df = df.assign(working_abstract = [abstract.strip() for abstract in df[\"ABSTRACT\"]])\n",
    "df[\"working_abstract\"] = df[\"ABSTRACT\"]\n",
    "df = drop_empties(df, \"working_abstract\")\n",
    "\n",
    "wa = 'working_abstract'"
   ]
  },
  {
   "cell_type": "code",
   "execution_count": 31,
   "metadata": {},
   "outputs": [
    {
     "name": "stderr",
     "output_type": "stream",
     "text": [
      "<ipython-input-31-b36c65f57634>:7: SettingWithCopyWarning: \n",
      "A value is trying to be set on a copy of a slice from a DataFrame.\n",
      "Try using .loc[row_indexer,col_indexer] = value instead\n",
      "\n",
      "See the caveats in the documentation: https://pandas.pydata.org/pandas-docs/stable/user_guide/indexing.html#returning-a-view-versus-a-copy\n",
      "  df['nchar']=df['working_abstract'].apply(len)\n"
     ]
    },
    {
     "name": "stdout",
     "output_type": "stream",
     "text": [
      "4308 short abstracts removed\n"
     ]
    }
   ],
   "source": [
    "def remove_short_abstracts(df, limit):\n",
    "\n",
    "    # Remove abstracts with length < limit. 150 seems like a good cutoff, but it does lose some useful information.\n",
    "    \n",
    "    # what do we want to do for the cutoff?  -- SOLUTION UNTIL FURTHER EXPLORATION -> keep the same\n",
    "    \n",
    "    df['nchar']=df['working_abstract'].apply(len)\n",
    "    l1 = len(df)\n",
    "    df=df.loc[df['nchar']>=limit]\n",
    "    l2 = len(df)\n",
    "    \n",
    "    print(l1-l2, \"short abstracts removed\")\n",
    "    \n",
    "    return df\n",
    "\n",
    "df = remove_short_abstracts(df,limit=150)"
   ]
  },
  {
   "cell_type": "code",
   "execution_count": 32,
   "metadata": {},
   "outputs": [
    {
     "data": {
      "text/plain": [
       "1143909"
      ]
     },
     "execution_count": 32,
     "metadata": {},
     "output_type": "execute_result"
    }
   ],
   "source": [
    "len(df)"
   ]
  },
  {
   "cell_type": "code",
   "execution_count": null,
   "metadata": {},
   "outputs": [],
   "source": []
  },
  {
   "cell_type": "markdown",
   "metadata": {},
   "source": [
    "### Cleaning Strategy:\n",
    "1. Remove abstracts with all non-alphanumeric characters.\n",
    "2. Remove non-alphanumeric characters from the start and end of abstracts\n",
    "3. Remove other non-readable abstracts. (REMOVAL ABSTRACTS FOUND BY INSPECTION)\n",
    "4. Remove \"junk\" starting strings and ending strings\n",
    "5. Remove \"junk\" strings in the middle \n"
   ]
  },
  {
   "cell_type": "markdown",
   "metadata": {},
   "source": [
    "##### Helper functions for cleaning"
   ]
  },
  {
   "cell_type": "code",
   "execution_count": 33,
   "metadata": {},
   "outputs": [],
   "source": [
    "def strip_nonalnum(word):\n",
    "    \n",
    "    # function strips non-alphanumeric characters from the beginning and end of a string\n",
    "    # adapted from: https://stackoverflow.com/questions/22650506/how-to-rermove-non-alphanumeric-characters-at-the-beginning-or-end-of-a-string\n",
    "        \n",
    "    if not word:\n",
    "        return word  # nothing to strip\n",
    "    if (len(word) == 1) and (not word[0].isalnum()):  \n",
    "        return \"\"\n",
    "    for start, c in enumerate(word):\n",
    "        if c.isalnum():\n",
    "            break\n",
    "    for end, c in enumerate(word[::-1]):\n",
    "        if c.isalnum():\n",
    "            break\n",
    "                  \n",
    "    return word[start:len(word) - end]\n"
   ]
  },
  {
   "cell_type": "code",
   "execution_count": 34,
   "metadata": {},
   "outputs": [],
   "source": [
    "def remove_phrase(x, phrase,loc='Start'):\n",
    "    \n",
    "    # returns x with phrase removed. location can be \"Start\" of string, \"End\" of string, or \n",
    "    # \"Anywhere_All\"--anywhere will remove all instances and Anywhere_First will remove the first instance\n",
    "    # CASE info - this function assumes phrase is lower case, but that x is not.\n",
    "    \n",
    "    assert loc in ['Start','End']\n",
    "    \n",
    "    if loc=='End':\n",
    "        if x.lower().endswith(phrase):\n",
    "            return x[:-1*len(phrase)].strip()\n",
    "        else:\n",
    "            return x\n",
    "    elif loc=='Start':\n",
    "        if x.lower().startswith(phrase):\n",
    "            return x[len(phrase):].strip()\n",
    "        else:\n",
    "            return x\n",
    "    else:\n",
    "        return 'Error'\n",
    "    "
   ]
  },
  {
   "cell_type": "code",
   "execution_count": null,
   "metadata": {},
   "outputs": [],
   "source": []
  },
  {
   "cell_type": "code",
   "execution_count": 35,
   "metadata": {},
   "outputs": [
    {
     "name": "stdout",
     "output_type": "stream",
     "text": [
      "Int64Index([96789, 668610, 756384], dtype='int64')\n",
      "dropped 3\n"
     ]
    }
   ],
   "source": [
    "# strip non-alphanum characters from the beginning and end of each abstract\n",
    "\n",
    "temp = [strip_nonalnum(abstract) for abstract in df[\"working_abstract\"]]\n",
    "df = df.assign(working_abstract = temp)\n",
    "\n",
    "df = drop_empties(df, \"working_abstract\")"
   ]
  },
  {
   "cell_type": "code",
   "execution_count": 36,
   "metadata": {},
   "outputs": [
    {
     "name": "stdout",
     "output_type": "stream",
     "text": [
      "Int64Index([883794, 993838], dtype='int64')\n"
     ]
    }
   ],
   "source": [
    "# remove abstracts that are not readable: THIS NEEDS TO BE UPDATED BY HAND FOR EVERY NEW DATASET\n",
    "# For example: index = 883794: ¢ £/¥ ƒ § ¤ ƒ “ ƒ « ...\n",
    "\n",
    "df = df.assign(Start_Char = df['working_abstract'].apply(lambda x: x[0]))\n",
    "ix = df[df['Start_Char'] == 'ƒ'].index\n",
    "print(ix)"
   ]
  },
  {
   "cell_type": "code",
   "execution_count": 37,
   "metadata": {},
   "outputs": [],
   "source": [
    "df.drop(index = ix, inplace = True)"
   ]
  },
  {
   "cell_type": "code",
   "execution_count": null,
   "metadata": {},
   "outputs": [],
   "source": []
  },
  {
   "cell_type": "code",
   "execution_count": 38,
   "metadata": {},
   "outputs": [],
   "source": [
    "# \"junk\" phrases at start to remove\n",
    "\n",
    "start_phrases=['abstract', 'summary', 'proposal', 'description', 'narrative', \n",
    "               'technical abstract',\n",
    "               'non technical abstract', \n",
    "               'non- technical abstract',\n",
    "               'non-technical abstract',                      \n",
    "               'nontechnical abstract',\n",
    "               'technical summary', \n",
    "               'nontechnical summary',\n",
    "               'non-technical summary',\n",
    "               'non-technical description',\n",
    "               'description (provided by the applicant)',\n",
    "               'description (provided by investigator)',  \n",
    "               'description (provided by applicant)',\n",
    "               'project summary/abstract',\n",
    "               'proposal abstract',\n",
    "               'research abstract',\n",
    "               'project summary',\n",
    "               'research summary',\n",
    "               'project description'\n",
    "               'see instructions):',\n",
    "               'for center application (provided by the investigator):',\n",
    "               'objective(s)',      \n",
    "               'exceed the space provided',\n",
    "               'provided by applicant',\n",
    "               'provided by candidate']\n"
   ]
  },
  {
   "cell_type": "code",
   "execution_count": 39,
   "metadata": {},
   "outputs": [
    {
     "name": "stdout",
     "output_type": "stream",
     "text": [
      "Int64Index([], dtype='int64')\n",
      "dropped 0\n"
     ]
    }
   ],
   "source": [
    "#Remove found start phrases\n",
    "\n",
    "for phrase in start_phrases:\n",
    "    temp = df[wa].apply(remove_phrase,args=[phrase,'Start'])\n",
    "    df = df.assign(working_abstract = temp) \n",
    "\n",
    "# strip non-alphanum characters from the beginning and end of each abstract\n",
    "\n",
    "temp = [strip_nonalnum(abstract) for abstract in df[\"working_abstract\"]]\n",
    "df = df.assign(working_abstract = temp)\n",
    "\n",
    "df = drop_empties(df, \"working_abstract\")"
   ]
  },
  {
   "cell_type": "code",
   "execution_count": 40,
   "metadata": {},
   "outputs": [
    {
     "name": "stdout",
     "output_type": "stream",
     "text": [
      "Int64Index([], dtype='int64')\n",
      "dropped 0\n"
     ]
    }
   ],
   "source": [
    "#Repeated start phrase removal in case the order of project summary/abstract varies\n",
    "\n",
    "for phrase in start_phrases:\n",
    "    temp = df[wa].apply(remove_phrase,args=[phrase,'Start'])\n",
    "    df = df.assign(working_abstract = temp)  \n",
    "    \n",
    "df = drop_empties(df, \"working_abstract\")"
   ]
  },
  {
   "cell_type": "code",
   "execution_count": 41,
   "metadata": {},
   "outputs": [],
   "source": [
    "#starting_exact_phrases to remove\n",
    "\n",
    "#'This subproject represents an estimate of the percentage of the CTSA funding that isbeing utilized for a broad area of research (AIDS research, pediatric research, orclinical trials).  The Total Cost listed is only an estimate of the amount of CTSAinfrastructure going towards this area of research, not direct funding provided bythe NCRR grant to the subproject or subproject staff.'\n",
    "#'This subproject is one of many research subprojects utilizing theresources provided by a Center grant funded by NIH/NCRR. The subproject andinvestigator (PI) may have received primary funding from another NIH source,and thus could be represented in other CRISP entries. The institution listed isfor the Center, which is not necessarily the institution for the investigator.'\n",
    "\n",
    "temp = df[wa].apply(lambda x: x.replace('This subproject represents an estimate of the percentage of the CTSA funding that isbeing utilized for a broad area of research (AIDS research, pediatric research, orclinical trials).  The Total Cost listed is only an estimate of the amount of CTSAinfrastructure going towards this area of research, not direct funding provided bythe NCRR grant to the subproject or subproject staff.',\n",
    "                                       ''))\n",
    "df = df.assign(working_abstract = temp) \n",
    "\n",
    "expression=re.compile('This subproject is one of many research subprojects.*not necessarily the institution for the investigator.')\n",
    "temp = df[wa].apply(lambda x: re.sub(expression,'',x))\n",
    "df = df.assign(working_abstract = temp)\n",
    "\n",
    "expression=re.compile('This subproject is one of many research subprojects.*to the subproject or subproject staff.')\n",
    "temp = df[wa].apply(lambda x: re.sub(expression,'',x))\n",
    "df = df.assign(working_abstract = temp)"
   ]
  },
  {
   "cell_type": "code",
   "execution_count": 42,
   "metadata": {},
   "outputs": [
    {
     "name": "stdout",
     "output_type": "stream",
     "text": [
      "Int64Index([], dtype='int64')\n",
      "dropped 0\n"
     ]
    }
   ],
   "source": [
    "# strip non-alphanum characters from the beginning and end of each abstract\n",
    "\n",
    "temp = [strip_nonalnum(abstract) for abstract in df[\"working_abstract\"]]\n",
    "df = df.assign(working_abstract = temp)\n",
    "\n",
    "df = drop_empties(df, \"working_abstract\")"
   ]
  },
  {
   "cell_type": "code",
   "execution_count": null,
   "metadata": {},
   "outputs": [],
   "source": []
  },
  {
   "cell_type": "code",
   "execution_count": 43,
   "metadata": {},
   "outputs": [],
   "source": [
    "end_phrases = ['(end of abstract',\n",
    "               'end of abstract', \n",
    "               '(abstract end',  \n",
    "               '(end of abstract',\n",
    "               '(end 0f abstract',\n",
    "               '(end of absract',\n",
    "               '(abstract below',\n",
    "               '(end of reviewers\\' comment',\n",
    "               '(end abstract',\n",
    "               'performance site ========================================section end',\n",
    "               'key personnel ========================================section end',\n",
    "               '[summary truncated at 7800 characters', \n",
    "               'this award reflects nsf\\'s statutory mission and has been deemed worthy of support through evaluation using the foundation\\'s intellectual merit and broader impacts review criteria',\n",
    "               'project description page 6', 'page 1 of 1', 'project summary/abstract page 6',\n",
    "               'project description page 7', 'project summary/abstract page 7', 'pag 1 o 1', \n",
    "               'page 2 number pages consecutively at the bottom throughout form page 2']\n"
   ]
  },
  {
   "cell_type": "code",
   "execution_count": 44,
   "metadata": {},
   "outputs": [
    {
     "name": "stdout",
     "output_type": "stream",
     "text": [
      "Int64Index([], dtype='int64')\n",
      "dropped 0\n"
     ]
    }
   ],
   "source": [
    "# end phrase removal\n",
    "\n",
    "for phrase in end_phrases:\n",
    "    temp = df[wa].apply(remove_phrase,args=[phrase,'End'])\n",
    "    df = df.assign(working_abstract = temp) \n",
    "\n",
    "# strip non-alphanum characters from the beginning and end of each abstract\n",
    "\n",
    "temp = [strip_nonalnum(abstract) for abstract in df[\"working_abstract\"]]\n",
    "df = df.assign(working_abstract = temp)\n",
    "\n",
    "df = drop_empties(df, \"working_abstract\")"
   ]
  },
  {
   "cell_type": "code",
   "execution_count": null,
   "metadata": {},
   "outputs": [],
   "source": []
  },
  {
   "cell_type": "code",
   "execution_count": 45,
   "metadata": {},
   "outputs": [],
   "source": [
    "# \"junk\" removal within text body - not necessarily at the start or end\n",
    "\n",
    "# 'Enter the text here that' ending with 'lines of text.'\n",
    "expression=re.compile('Enter the text here that.*lines of text')\n",
    "temp=df[wa].apply(lambda x: re.sub(expression,'',x))\n",
    "df = df.assign(working_abstract = temp)\n",
    "\n",
    "expression=re.compile('PHS .*?Continuation Format Page')\n",
    "temp=df[wa].apply(lambda x: re.sub(expression,'',x))\n",
    "df = df.assign(working_abstract = temp)\n",
    "\n",
    "expression=re.compile('OMB No .*?Continuation Format Page')\n",
    "temp=df[wa].apply(lambda x: re.sub(expression,'',x))\n",
    "df = df.assign(working_abstract = temp)\n",
    "\n",
    "temp=df[wa].replace('Project Summary/Abstract','')\n",
    "df = df.assign(working_abstract = temp)"
   ]
  },
  {
   "cell_type": "code",
   "execution_count": 46,
   "metadata": {},
   "outputs": [],
   "source": [
    "\"\"\"If it starts with 'one page and must contain',\n",
    "This is an NIH thing and there aren't that many of them, but come from 3 different cfda\n",
    "it will start with \"one page and must contain a summary of the proposed activity suitable for dissemination to \n",
    "thepublic. It should be a self-contained description of the project and should contain a statement of objectives \n",
    "and methods to be employed. It should be informative to other persons working in the same or related fields and \n",
    "insofar as possible understandable to a technically liter-ate lay reader. This Abstract must not include any \n",
    "proprietary/confidential information.* Please click the add attachment button to complete this entry.\" plus some \n",
    "attachments, which includes tracking number, twice: following the second trackign number, there is a grant number\n",
    "followed by the actual content\" \n",
    "\n",
    "At the end of these files, they all end in 'Project Narrative File'(last instance) followed by more attachments, \n",
    "all of which can be discarded\n",
    "\"\"\"\n",
    "\n",
    "expression1=re.compile('one page and must.*?Tracking Number.*?(Tracking Number)')\n",
    "expression2=re.compile('Project Narrative File.*')\n",
    "\n",
    "def fix_abstract(abstract):\n",
    "    if abstract.startswith('one page and must contain'):\n",
    "        abstract=re.sub(expression1,'',abstract)\n",
    "        return re.sub(expression2,'',abstract)\n",
    "    else:\n",
    "        return abstract\n",
    "\n",
    "temp=df[wa].apply(fix_abstract)\n",
    "df = df.assign(working_abstract = temp)"
   ]
  },
  {
   "cell_type": "code",
   "execution_count": 47,
   "metadata": {},
   "outputs": [],
   "source": [
    "# removal of phrase at end\n",
    "\n",
    "expression=re.compile('Project Summary/Abstract Page.*')\n",
    "\n",
    "def remove_contact_pd(x):\n",
    "    \n",
    "    \"\"\"removes clause at end that tends to occur: eg Project Summary/Abstract Page 222Contact PD/PI: Sampson, HughNarrative (\"\"\"\n",
    "    \n",
    "    if x.startswith('Contact PD/PI'):\n",
    "        return re.sub(expression,'',x)\n",
    "    else:\n",
    "        return x\n",
    "    \n",
    "temp=df[wa].apply(remove_contact_pd) \n",
    "df = df.assign(working_abstract = temp)"
   ]
  },
  {
   "cell_type": "code",
   "execution_count": 48,
   "metadata": {},
   "outputs": [
    {
     "name": "stdout",
     "output_type": "stream",
     "text": [
      "Int64Index([], dtype='int64')\n",
      "dropped 0\n"
     ]
    }
   ],
   "source": [
    "# strip non-alphanum characters from the beginning and end of each abstract\n",
    "\n",
    "temp = [strip_nonalnum(abstract) for abstract in df[\"working_abstract\"]]\n",
    "df = df.assign(working_abstract = temp)\n",
    "\n",
    "df = drop_empties(df, \"working_abstract\")"
   ]
  },
  {
   "cell_type": "code",
   "execution_count": 49,
   "metadata": {},
   "outputs": [
    {
     "data": {
      "text/plain": [
       "1143904"
      ]
     },
     "execution_count": 49,
     "metadata": {},
     "output_type": "execute_result"
    }
   ],
   "source": [
    "len(df)"
   ]
  },
  {
   "cell_type": "code",
   "execution_count": null,
   "metadata": {},
   "outputs": [],
   "source": []
  },
  {
   "cell_type": "code",
   "execution_count": 50,
   "metadata": {},
   "outputs": [],
   "source": [
    "df.to_pickle(\"../../../data/prd/Paper/FR_clean_22DEC21.pkl\")\n"
   ]
  },
  {
   "cell_type": "code",
   "execution_count": null,
   "metadata": {},
   "outputs": [],
   "source": []
  },
  {
   "cell_type": "code",
   "execution_count": null,
   "metadata": {},
   "outputs": [],
   "source": []
  }
 ],
 "metadata": {
  "kernelspec": {
   "display_name": "Python 3.8",
   "language": "python",
   "name": "python-3.8"
  },
  "language_info": {
   "codemirror_mode": {
    "name": "ipython",
    "version": 3
   },
   "file_extension": ".py",
   "mimetype": "text/x-python",
   "name": "python",
   "nbconvert_exporter": "python",
   "pygments_lexer": "ipython3",
   "version": "3.8.8"
  }
 },
 "nbformat": 4,
 "nbformat_minor": 4
}
