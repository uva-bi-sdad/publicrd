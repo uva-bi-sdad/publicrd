{
 "cells": [
  {
   "cell_type": "markdown",
   "metadata": {},
   "source": [
    "# Scratch work for model selection"
   ]
  },
  {
   "cell_type": "code",
   "execution_count": 1,
   "metadata": {},
   "outputs": [],
   "source": [
    "import pandas as pd\n",
    "#import numpy as np\n",
    "import pickle\n",
    "import time\n",
    "import gc\n",
    "\n",
    "from sklearn.decomposition import LatentDirichletAllocation, NMF\n",
    "from sklearn.feature_extraction.text import CountVectorizer, TfidfVectorizer\n",
    "\n",
    "from gensim.models.coherencemodel import CoherenceModel"
   ]
  },
  {
   "cell_type": "code",
   "execution_count": 2,
   "metadata": {},
   "outputs": [],
   "source": [
    "# data needed for coherence calculation\n",
    "\n",
    "# import entire dataset\n",
    "f = open('../../../data/prd/Paper/coherence_vars.sav', 'rb')\n",
    "[id2word, docs] = pickle.load(f)\n",
    "f.close()\n",
    "\n",
    "# corpus - word frequency in docs, not needed for coherence function\n",
    "# id2word - dictionary\n",
    "# docs - df[\"final_tokens\"]"
   ]
  },
  {
   "cell_type": "code",
   "execution_count": 9,
   "metadata": {},
   "outputs": [
    {
     "data": {
      "text/plain": [
       "1143869"
      ]
     },
     "execution_count": 9,
     "metadata": {},
     "output_type": "execute_result"
    }
   ],
   "source": [
    "len(docs)"
   ]
  },
  {
   "cell_type": "code",
   "execution_count": 3,
   "metadata": {},
   "outputs": [],
   "source": [
    "# Function to format topics as a \"list of list of strings\".\n",
    "# Needed for topic coherence function in Gensim\n",
    "\n",
    "# function modified from https://nlpforhackers.io/topic-modeling/\n",
    "\n",
    "def list_topics(topic_term_dist, vectorizer, top_n=10):\n",
    "\n",
    "    #input. top_n: how many words to list per topic.  If -1, then list all words.\n",
    "       \n",
    "    topic_words = []\n",
    "    \n",
    "    for idx, topic in enumerate(topic_term_dist):  # loop through each row of H.  idx = row index.  topic = actual row\n",
    "            \n",
    "        if top_n == -1:   \n",
    "            topic_words.append([vectorizer.get_feature_names()[i] for i in topic.argsort()[::-1]])\n",
    "        else:\n",
    "            topic_words.append([vectorizer.get_feature_names()[i] for i in topic.argsort()[:-top_n - 1:-1]])\n",
    "        \n",
    "    return topic_words"
   ]
  },
  {
   "cell_type": "code",
   "execution_count": 4,
   "metadata": {},
   "outputs": [],
   "source": [
    "# input needed for LDA, NMF (from Scikit-Learn) is one string per document (not a list of strings)\n",
    "\n",
    "text = []\n",
    "\n",
    "for abstract in docs:\n",
    "    text.append(\" \".join(abstract))"
   ]
  },
  {
   "cell_type": "code",
   "execution_count": 5,
   "metadata": {},
   "outputs": [],
   "source": [
    "# function slightly modified from https://nlpforhackers.io/topic-modeling/\n",
    "\n",
    "def print_topics(topic_term_mat, vectorizer, top_n=10):\n",
    "    for idx, topic in enumerate(topic_term_mat):  # loop through each row of H.  idx = row index.  topic = actual row\n",
    "        print(\"\\nTopic %d:\" % (idx))\n",
    "        #print([(vectorizer.get_feature_names()[i], topic[i])  # printing out words corresponding to indices found in next line\n",
    "                        #for i in topic.argsort()[:-top_n - 1:-1]])  # finding indices of top words in topic\n",
    "            \n",
    "        print_list = [(vectorizer.get_feature_names()[i], topic[i])  \n",
    "                        for i in topic.argsort()[:-top_n - 1:-1]]\n",
    "        for item in print_list:\n",
    "            print(item)\n",
    "        "
   ]
  },
  {
   "cell_type": "code",
   "execution_count": null,
   "metadata": {},
   "outputs": [],
   "source": []
  },
  {
   "cell_type": "markdown",
   "metadata": {},
   "source": [
    "#### LDA"
   ]
  },
  {
   "cell_type": "code",
   "execution_count": 6,
   "metadata": {},
   "outputs": [],
   "source": [
    "# create document-term matrix\n",
    "\n",
    "stop_wds = ['research', 'aim', 'project']  # study will be eliminated by max_df\n",
    "\n",
    "vectorizer = CountVectorizer(max_df=0.6, min_df=20, lowercase=False, stop_words=stop_wds)\n",
    "doc_term_matrix = vectorizer.fit_transform(text)"
   ]
  },
  {
   "cell_type": "code",
   "execution_count": 7,
   "metadata": {},
   "outputs": [
    {
     "name": "stdout",
     "output_type": "stream",
     "text": [
      "  Model time: 1314.905624628067\n"
     ]
    }
   ],
   "source": [
    "# create model\n",
    "num_topics = 5\n",
    "\n",
    "t1 = time.time()\n",
    "lda_model = LatentDirichletAllocation(n_components=num_topics, doc_topic_prior = 1/num_topics,\n",
    "                                      topic_word_prior=0.1, n_jobs=19, random_state = 0)\n",
    "doc_topic = lda_model.fit_transform(doc_term_matrix)\n",
    "t2 = time.time()\n",
    "print(f\"  Model time: {t2-t1}\")\n",
    "\n",
    "topic_term = lda_model.components_"
   ]
  },
  {
   "cell_type": "code",
   "execution_count": 10,
   "metadata": {},
   "outputs": [
    {
     "data": {
      "text/plain": [
       "21.916666666666668"
      ]
     },
     "execution_count": 10,
     "metadata": {},
     "output_type": "execute_result"
    }
   ],
   "source": [
    "1315/60"
   ]
  },
  {
   "cell_type": "code",
   "execution_count": 9,
   "metadata": {},
   "outputs": [
    {
     "name": "stdout",
     "output_type": "stream",
     "text": [
      "\n",
      "Topic 0:\n",
      "('program', 523667.09705015284)\n",
      "('core', 462229.04216242203)\n",
      "('provide', 450636.7675416922)\n",
      "('support', 362805.20931679086)\n",
      "('new', 340100.3987703617)\n",
      "('center', 297055.4796595892)\n",
      "('include', 288326.0385743985)\n",
      "('clinical', 284798.24958029256)\n",
      "('student', 273517.20409035846)\n",
      "('develop', 265742.21541210474)\n",
      "\n",
      "Topic 1:\n",
      "('health', 571990.2636541908)\n",
      "('intervention', 314393.81538036565)\n",
      "('program', 276429.2213613038)\n",
      "('training', 270500.1748114237)\n",
      "('patient', 261967.87126937282)\n",
      "('care', 257389.0147080161)\n",
      "('treatment', 256916.51116136395)\n",
      "('use', 249882.1017584784)\n",
      "('risk', 234978.40351242007)\n",
      "('child', 222150.8447651066)\n",
      "\n",
      "Topic 2:\n",
      "('develop', 278615.33372304833)\n",
      "('datum', 271970.30330009817)\n",
      "('genetic', 241175.77406328474)\n",
      "('disease', 239226.05625092413)\n",
      "('gene', 232663.10147768827)\n",
      "('model', 220212.59278326805)\n",
      "('identify', 209517.31589152484)\n",
      "('method', 207926.7360375005)\n",
      "('risk', 199421.89608543157)\n",
      "('analysis', 199068.17085353844)\n",
      "\n",
      "Topic 3:\n",
      "('protein', 619160.2913727224)\n",
      "('cell', 488127.6455344795)\n",
      "('mechanism', 372082.2629123266)\n",
      "('function', 355789.4677721458)\n",
      "('role', 252512.11431545365)\n",
      "('specific', 234767.56634428972)\n",
      "('signal', 227406.36085221267)\n",
      "('determine', 221194.63337615976)\n",
      "('activity', 219081.5851636811)\n",
      "('neuron', 209968.3664240022)\n",
      "\n",
      "Topic 4:\n",
      "('cell', 1591623.2537413863)\n",
      "('cancer', 464413.4972862466)\n",
      "('mouse', 428422.09570364404)\n",
      "('disease', 408453.7477651575)\n",
      "('tumor', 386813.2200218016)\n",
      "('specific', 356252.2957496357)\n",
      "('response', 353716.1327969373)\n",
      "('mechanism', 335230.03051241074)\n",
      "('human', 320985.125710746)\n",
      "('patient', 310751.77720721555)\n"
     ]
    }
   ],
   "source": [
    "print_topics(topic_term, vectorizer, 10)"
   ]
  },
  {
   "cell_type": "code",
   "execution_count": null,
   "metadata": {},
   "outputs": [],
   "source": []
  },
  {
   "cell_type": "code",
   "execution_count": null,
   "metadata": {},
   "outputs": [],
   "source": []
  },
  {
   "cell_type": "markdown",
   "metadata": {},
   "source": [
    "#### NMF"
   ]
  },
  {
   "cell_type": "code",
   "execution_count": 6,
   "metadata": {},
   "outputs": [],
   "source": [
    "# create document-term matrix - TFIDF \n",
    "\n",
    "stop_wds = ['research', 'aim', 'project']  # study will be eliminated by max_df\n",
    "\n",
    "tfidf_vectorizer = TfidfVectorizer(max_df=0.6, min_df=20, lowercase=False, stop_words=stop_wds)\n",
    "tf_idf = tfidf_vectorizer.fit_transform(text)"
   ]
  },
  {
   "cell_type": "code",
   "execution_count": 7,
   "metadata": {},
   "outputs": [
    {
     "name": "stdout",
     "output_type": "stream",
     "text": [
      "  Model time: 181.36343955993652\n"
     ]
    }
   ],
   "source": [
    "# create model\n",
    "num_topics = 5\n",
    "\n",
    "t1 = time.time()\n",
    "nmf_model = NMF(n_components=num_topics, random_state = 0)\n",
    "doc_topic = nmf_model.fit_transform(tf_idf)\n",
    "t2 = time.time()\n",
    "print(f\"  Model time: {t2-t1}\")\n",
    "\n",
    "topic_term = nmf_model.components_              "
   ]
  },
  {
   "cell_type": "code",
   "execution_count": 8,
   "metadata": {},
   "outputs": [
    {
     "name": "stdout",
     "output_type": "stream",
     "text": [
      "\n",
      "Topic 0:\n",
      "('cell', 5.804278653231487)\n",
      "('protein', 2.5874489185198324)\n",
      "('gene', 2.1913886285816706)\n",
      "('mouse', 1.687654517628736)\n",
      "('mechanism', 1.5966446198216455)\n",
      "('signal', 1.5643679493998646)\n",
      "('function', 1.5074694048657473)\n",
      "('disease', 1.4439077372461109)\n",
      "('expression', 1.4242018217428354)\n",
      "('human', 1.4057081856526463)\n",
      "\n",
      "Topic 1:\n",
      "('program', 3.4646841659512098)\n",
      "('student', 3.097402131750013)\n",
      "('training', 3.0177176689205143)\n",
      "('trainee', 1.890557249680917)\n",
      "('faculty', 1.5434548481104549)\n",
      "('science', 1.5107758361476762)\n",
      "('career', 1.2774962029030215)\n",
      "('graduate', 1.1258170254988398)\n",
      "('mentor', 1.0529789457082235)\n",
      "('university', 1.0053071972181338)\n",
      "\n",
      "Topic 2:\n",
      "('health', 1.499791620712075)\n",
      "('hiv', 1.4146585128862277)\n",
      "('intervention', 1.3354337696275536)\n",
      "('patient', 1.2966490708641691)\n",
      "('risk', 1.2830805511885388)\n",
      "('care', 1.1159674224691325)\n",
      "('datum', 1.1119143353819354)\n",
      "('child', 1.062983138961337)\n",
      "('treatment', 1.0305846741790006)\n",
      "('use', 0.9386092805913568)\n",
      "\n",
      "Topic 3:\n",
      "('cancer', 6.857103359042603)\n",
      "('tumor', 2.879768235893415)\n",
      "('breast', 2.027899282160518)\n",
      "('prostate', 1.228846360265254)\n",
      "('patient', 1.1498549162259375)\n",
      "('clinical', 0.9666477881273523)\n",
      "('therapy', 0.7605331480796906)\n",
      "('treatment', 0.6976010412485938)\n",
      "('lung', 0.6910128264023158)\n",
      "('metastasis', 0.655656180544467)\n",
      "\n",
      "Topic 4:\n",
      "('core', 5.735975675461052)\n",
      "('administrative', 1.759432351745323)\n",
      "('center', 1.7367284107098202)\n",
      "('investigator', 1.4629616278880084)\n",
      "('support', 1.3182270680696657)\n",
      "('provide', 1.2509815924252157)\n",
      "('service', 1.00364115632257)\n",
      "('resource', 0.91226241405099)\n",
      "('analysis', 0.8404172158403346)\n",
      "('datum', 0.8124787783609475)\n"
     ]
    }
   ],
   "source": [
    "print_topics(topic_term, tfidf_vectorizer, 10)"
   ]
  },
  {
   "cell_type": "code",
   "execution_count": null,
   "metadata": {},
   "outputs": [],
   "source": []
  },
  {
   "cell_type": "code",
   "execution_count": 11,
   "metadata": {},
   "outputs": [
    {
     "data": {
      "text/plain": [
       "[5, 10, 15, 20, 25, 30, 35, 40, 45, 50]"
      ]
     },
     "execution_count": 11,
     "metadata": {},
     "output_type": "execute_result"
    }
   ],
   "source": [
    "list(range(5,51,5))"
   ]
  },
  {
   "cell_type": "code",
   "execution_count": null,
   "metadata": {},
   "outputs": [],
   "source": []
  },
  {
   "cell_type": "code",
   "execution_count": null,
   "metadata": {},
   "outputs": [],
   "source": []
  },
  {
   "cell_type": "markdown",
   "metadata": {},
   "source": [
    "#### View Results"
   ]
  },
  {
   "cell_type": "code",
   "execution_count": 2,
   "metadata": {},
   "outputs": [],
   "source": [
    "f = open('results/NMF/nmf_t7-9.pkl', 'rb')\n",
    "nmf_t = pickle.load(f)\n",
    "f.close()"
   ]
  },
  {
   "cell_type": "code",
   "execution_count": 3,
   "metadata": {},
   "outputs": [
    {
     "data": {
      "text/html": [
       "<div>\n",
       "<style scoped>\n",
       "    .dataframe tbody tr th:only-of-type {\n",
       "        vertical-align: middle;\n",
       "    }\n",
       "\n",
       "    .dataframe tbody tr th {\n",
       "        vertical-align: top;\n",
       "    }\n",
       "\n",
       "    .dataframe thead th {\n",
       "        text-align: right;\n",
       "    }\n",
       "</style>\n",
       "<table border=\"1\" class=\"dataframe\">\n",
       "  <thead>\n",
       "    <tr style=\"text-align: right;\">\n",
       "      <th></th>\n",
       "      <th>iteration 7</th>\n",
       "      <th>iteration 8</th>\n",
       "      <th>iteration 9</th>\n",
       "    </tr>\n",
       "  </thead>\n",
       "  <tbody>\n",
       "    <tr>\n",
       "      <th>5</th>\n",
       "      <td>152.779625</td>\n",
       "      <td>163.593867</td>\n",
       "      <td>157.793356</td>\n",
       "    </tr>\n",
       "    <tr>\n",
       "      <th>10</th>\n",
       "      <td>268.268722</td>\n",
       "      <td>243.787429</td>\n",
       "      <td>255.554070</td>\n",
       "    </tr>\n",
       "    <tr>\n",
       "      <th>15</th>\n",
       "      <td>493.303392</td>\n",
       "      <td>461.374807</td>\n",
       "      <td>565.622673</td>\n",
       "    </tr>\n",
       "    <tr>\n",
       "      <th>20</th>\n",
       "      <td>531.956342</td>\n",
       "      <td>1022.886506</td>\n",
       "      <td>1046.611888</td>\n",
       "    </tr>\n",
       "    <tr>\n",
       "      <th>25</th>\n",
       "      <td>1059.765064</td>\n",
       "      <td>1320.349235</td>\n",
       "      <td>1356.896534</td>\n",
       "    </tr>\n",
       "    <tr>\n",
       "      <th>30</th>\n",
       "      <td>1593.825921</td>\n",
       "      <td>1553.765904</td>\n",
       "      <td>1583.867026</td>\n",
       "    </tr>\n",
       "    <tr>\n",
       "      <th>35</th>\n",
       "      <td>1540.430326</td>\n",
       "      <td>1520.035944</td>\n",
       "      <td>1942.665938</td>\n",
       "    </tr>\n",
       "    <tr>\n",
       "      <th>40</th>\n",
       "      <td>1133.344528</td>\n",
       "      <td>1625.961456</td>\n",
       "      <td>1428.509186</td>\n",
       "    </tr>\n",
       "    <tr>\n",
       "      <th>45</th>\n",
       "      <td>1501.716046</td>\n",
       "      <td>2396.276008</td>\n",
       "      <td>2521.878382</td>\n",
       "    </tr>\n",
       "    <tr>\n",
       "      <th>50</th>\n",
       "      <td>2659.459015</td>\n",
       "      <td>1695.634787</td>\n",
       "      <td>2801.905075</td>\n",
       "    </tr>\n",
       "  </tbody>\n",
       "</table>\n",
       "</div>"
      ],
      "text/plain": [
       "    iteration 7  iteration 8  iteration 9\n",
       "5    152.779625   163.593867   157.793356\n",
       "10   268.268722   243.787429   255.554070\n",
       "15   493.303392   461.374807   565.622673\n",
       "20   531.956342  1022.886506  1046.611888\n",
       "25  1059.765064  1320.349235  1356.896534\n",
       "30  1593.825921  1553.765904  1583.867026\n",
       "35  1540.430326  1520.035944  1942.665938\n",
       "40  1133.344528  1625.961456  1428.509186\n",
       "45  1501.716046  2396.276008  2521.878382\n",
       "50  2659.459015  1695.634787  2801.905075"
      ]
     },
     "execution_count": 3,
     "metadata": {},
     "output_type": "execute_result"
    }
   ],
   "source": [
    "nmf_t"
   ]
  },
  {
   "cell_type": "code",
   "execution_count": 4,
   "metadata": {},
   "outputs": [
    {
     "data": {
      "text/plain": [
       "3.0374580506483713"
      ]
     },
     "execution_count": 4,
     "metadata": {},
     "output_type": "execute_result"
    }
   ],
   "source": [
    "nmf_t[\"iteration 7\"].sum()/60/60"
   ]
  },
  {
   "cell_type": "code",
   "execution_count": 5,
   "metadata": {},
   "outputs": [],
   "source": [
    "f = open('results/NMF/nmf_topics7-9.pkl', 'rb')\n",
    "nmf_top = pickle.load(f)\n",
    "f.close()"
   ]
  },
  {
   "cell_type": "code",
   "execution_count": 6,
   "metadata": {},
   "outputs": [
    {
     "data": {
      "text/html": [
       "<div>\n",
       "<style scoped>\n",
       "    .dataframe tbody tr th:only-of-type {\n",
       "        vertical-align: middle;\n",
       "    }\n",
       "\n",
       "    .dataframe tbody tr th {\n",
       "        vertical-align: top;\n",
       "    }\n",
       "\n",
       "    .dataframe thead th {\n",
       "        text-align: right;\n",
       "    }\n",
       "</style>\n",
       "<table border=\"1\" class=\"dataframe\">\n",
       "  <thead>\n",
       "    <tr style=\"text-align: right;\">\n",
       "      <th></th>\n",
       "      <th>iteration 7</th>\n",
       "      <th>iteration 8</th>\n",
       "      <th>iteration 9</th>\n",
       "    </tr>\n",
       "  </thead>\n",
       "  <tbody>\n",
       "    <tr>\n",
       "      <th>5</th>\n",
       "      <td>[[cell, protein, gene, mouse, mechanism, signa...</td>\n",
       "      <td>[[cell, protein, gene, mouse, mechanism, signa...</td>\n",
       "      <td>[[cell, protein, gene, mouse, mechanism, signa...</td>\n",
       "    </tr>\n",
       "    <tr>\n",
       "      <th>10</th>\n",
       "      <td>[[cell, immune, tumor, stem, response, mouse, ...</td>\n",
       "      <td>[[cell, immune, tumor, stem, response, mouse, ...</td>\n",
       "      <td>[[cell, immune, tumor, stem, response, mouse, ...</td>\n",
       "    </tr>\n",
       "    <tr>\n",
       "      <th>15</th>\n",
       "      <td>[[cell, stem, tumor, differentiation, tissue, ...</td>\n",
       "      <td>[[cell, stem, tumor, differentiation, tissue, ...</td>\n",
       "      <td>[[cell, stem, tumor, differentiation, tissue, ...</td>\n",
       "    </tr>\n",
       "    <tr>\n",
       "      <th>20</th>\n",
       "      <td>[[cell, stem, differentiation, tissue, signal,...</td>\n",
       "      <td>[[cell, stem, differentiation, tissue, signal,...</td>\n",
       "      <td>[[cell, stem, differentiation, tissue, signal,...</td>\n",
       "    </tr>\n",
       "    <tr>\n",
       "      <th>25</th>\n",
       "      <td>[[cell, stem, differentiation, signal, tissue,...</td>\n",
       "      <td>[[cell, stem, differentiation, signal, tissue,...</td>\n",
       "      <td>[[cell, stem, differentiation, signal, tissue,...</td>\n",
       "    </tr>\n",
       "    <tr>\n",
       "      <th>30</th>\n",
       "      <td>[[cell, stem, differentiation, tissue, progeni...</td>\n",
       "      <td>[[cell, stem, differentiation, tissue, progeni...</td>\n",
       "      <td>[[cell, stem, differentiation, signal, tissue,...</td>\n",
       "    </tr>\n",
       "    <tr>\n",
       "      <th>35</th>\n",
       "      <td>[[cell, stem, differentiation, tissue, progeni...</td>\n",
       "      <td>[[cell, stem, differentiation, tissue, progeni...</td>\n",
       "      <td>[[cell, antigen, type, differentiation, tissue...</td>\n",
       "    </tr>\n",
       "    <tr>\n",
       "      <th>40</th>\n",
       "      <td>[[cell, stem, differentiation, tissue, progeni...</td>\n",
       "      <td>[[cell, stem, differentiation, tissue, progeni...</td>\n",
       "      <td>[[cell, stem, differentiation, tissue, progeni...</td>\n",
       "    </tr>\n",
       "    <tr>\n",
       "      <th>45</th>\n",
       "      <td>[[cell, antigen, type, differentiation, cd4, t...</td>\n",
       "      <td>[[cell, antigen, type, differentiation, cd4, t...</td>\n",
       "      <td>[[cell, antigen, type, differentiation, cd4, t...</td>\n",
       "    </tr>\n",
       "    <tr>\n",
       "      <th>50</th>\n",
       "      <td>[[cell, stem, differentiation, tissue, progeni...</td>\n",
       "      <td>[[cell, antigen, tissue, type, cd4, differenti...</td>\n",
       "      <td>[[cell, stem, differentiation, tissue, progeni...</td>\n",
       "    </tr>\n",
       "  </tbody>\n",
       "</table>\n",
       "</div>"
      ],
      "text/plain": [
       "                                          iteration 7  \\\n",
       "5   [[cell, protein, gene, mouse, mechanism, signa...   \n",
       "10  [[cell, immune, tumor, stem, response, mouse, ...   \n",
       "15  [[cell, stem, tumor, differentiation, tissue, ...   \n",
       "20  [[cell, stem, differentiation, tissue, signal,...   \n",
       "25  [[cell, stem, differentiation, signal, tissue,...   \n",
       "30  [[cell, stem, differentiation, tissue, progeni...   \n",
       "35  [[cell, stem, differentiation, tissue, progeni...   \n",
       "40  [[cell, stem, differentiation, tissue, progeni...   \n",
       "45  [[cell, antigen, type, differentiation, cd4, t...   \n",
       "50  [[cell, stem, differentiation, tissue, progeni...   \n",
       "\n",
       "                                          iteration 8  \\\n",
       "5   [[cell, protein, gene, mouse, mechanism, signa...   \n",
       "10  [[cell, immune, tumor, stem, response, mouse, ...   \n",
       "15  [[cell, stem, tumor, differentiation, tissue, ...   \n",
       "20  [[cell, stem, differentiation, tissue, signal,...   \n",
       "25  [[cell, stem, differentiation, signal, tissue,...   \n",
       "30  [[cell, stem, differentiation, tissue, progeni...   \n",
       "35  [[cell, stem, differentiation, tissue, progeni...   \n",
       "40  [[cell, stem, differentiation, tissue, progeni...   \n",
       "45  [[cell, antigen, type, differentiation, cd4, t...   \n",
       "50  [[cell, antigen, tissue, type, cd4, differenti...   \n",
       "\n",
       "                                          iteration 9  \n",
       "5   [[cell, protein, gene, mouse, mechanism, signa...  \n",
       "10  [[cell, immune, tumor, stem, response, mouse, ...  \n",
       "15  [[cell, stem, tumor, differentiation, tissue, ...  \n",
       "20  [[cell, stem, differentiation, tissue, signal,...  \n",
       "25  [[cell, stem, differentiation, signal, tissue,...  \n",
       "30  [[cell, stem, differentiation, signal, tissue,...  \n",
       "35  [[cell, antigen, type, differentiation, tissue...  \n",
       "40  [[cell, stem, differentiation, tissue, progeni...  \n",
       "45  [[cell, antigen, type, differentiation, cd4, t...  \n",
       "50  [[cell, stem, differentiation, tissue, progeni...  "
      ]
     },
     "execution_count": 6,
     "metadata": {},
     "output_type": "execute_result"
    }
   ],
   "source": [
    "nmf_top"
   ]
  },
  {
   "cell_type": "code",
   "execution_count": 7,
   "metadata": {},
   "outputs": [
    {
     "data": {
      "text/plain": [
       "[['cell',\n",
       "  'protein',\n",
       "  'gene',\n",
       "  'mouse',\n",
       "  'mechanism',\n",
       "  'signal',\n",
       "  'function',\n",
       "  'disease',\n",
       "  'expression',\n",
       "  'human'],\n",
       " ['program',\n",
       "  'student',\n",
       "  'training',\n",
       "  'trainee',\n",
       "  'faculty',\n",
       "  'science',\n",
       "  'career',\n",
       "  'graduate',\n",
       "  'mentor',\n",
       "  'university'],\n",
       " ['health',\n",
       "  'hiv',\n",
       "  'intervention',\n",
       "  'patient',\n",
       "  'risk',\n",
       "  'care',\n",
       "  'datum',\n",
       "  'child',\n",
       "  'treatment',\n",
       "  'use'],\n",
       " ['cancer',\n",
       "  'tumor',\n",
       "  'breast',\n",
       "  'prostate',\n",
       "  'patient',\n",
       "  'clinical',\n",
       "  'therapy',\n",
       "  'treatment',\n",
       "  'lung',\n",
       "  'metastasis'],\n",
       " ['core',\n",
       "  'administrative',\n",
       "  'center',\n",
       "  'investigator',\n",
       "  'support',\n",
       "  'provide',\n",
       "  'service',\n",
       "  'resource',\n",
       "  'analysis',\n",
       "  'datum']]"
      ]
     },
     "execution_count": 7,
     "metadata": {},
     "output_type": "execute_result"
    }
   ],
   "source": [
    "nmf_top[\"iteration 7\"][5]"
   ]
  },
  {
   "cell_type": "code",
   "execution_count": null,
   "metadata": {},
   "outputs": [],
   "source": []
  },
  {
   "cell_type": "code",
   "execution_count": 8,
   "metadata": {},
   "outputs": [],
   "source": [
    "f = open('results/LDA/lda_t7-9.pkl', 'rb')\n",
    "lda_t = pickle.load(f)\n",
    "f.close()"
   ]
  },
  {
   "cell_type": "code",
   "execution_count": 9,
   "metadata": {},
   "outputs": [
    {
     "data": {
      "text/html": [
       "<div>\n",
       "<style scoped>\n",
       "    .dataframe tbody tr th:only-of-type {\n",
       "        vertical-align: middle;\n",
       "    }\n",
       "\n",
       "    .dataframe tbody tr th {\n",
       "        vertical-align: top;\n",
       "    }\n",
       "\n",
       "    .dataframe thead th {\n",
       "        text-align: right;\n",
       "    }\n",
       "</style>\n",
       "<table border=\"1\" class=\"dataframe\">\n",
       "  <thead>\n",
       "    <tr style=\"text-align: right;\">\n",
       "      <th></th>\n",
       "      <th>iteration 7</th>\n",
       "      <th>iteration 8</th>\n",
       "      <th>iteration 9</th>\n",
       "    </tr>\n",
       "  </thead>\n",
       "  <tbody>\n",
       "    <tr>\n",
       "      <th>5</th>\n",
       "      <td>435.932172</td>\n",
       "      <td>437.597362</td>\n",
       "      <td>433.935202</td>\n",
       "    </tr>\n",
       "    <tr>\n",
       "      <th>10</th>\n",
       "      <td>551.346491</td>\n",
       "      <td>567.117702</td>\n",
       "      <td>535.620089</td>\n",
       "    </tr>\n",
       "    <tr>\n",
       "      <th>15</th>\n",
       "      <td>583.455645</td>\n",
       "      <td>590.127040</td>\n",
       "      <td>566.917139</td>\n",
       "    </tr>\n",
       "    <tr>\n",
       "      <th>20</th>\n",
       "      <td>624.802642</td>\n",
       "      <td>616.598282</td>\n",
       "      <td>613.742041</td>\n",
       "    </tr>\n",
       "    <tr>\n",
       "      <th>25</th>\n",
       "      <td>654.983548</td>\n",
       "      <td>663.821654</td>\n",
       "      <td>635.227189</td>\n",
       "    </tr>\n",
       "    <tr>\n",
       "      <th>30</th>\n",
       "      <td>701.708098</td>\n",
       "      <td>664.762570</td>\n",
       "      <td>691.421715</td>\n",
       "    </tr>\n",
       "    <tr>\n",
       "      <th>35</th>\n",
       "      <td>738.484941</td>\n",
       "      <td>726.303918</td>\n",
       "      <td>754.729724</td>\n",
       "    </tr>\n",
       "    <tr>\n",
       "      <th>40</th>\n",
       "      <td>741.158344</td>\n",
       "      <td>742.826689</td>\n",
       "      <td>780.154899</td>\n",
       "    </tr>\n",
       "    <tr>\n",
       "      <th>45</th>\n",
       "      <td>814.057533</td>\n",
       "      <td>797.211070</td>\n",
       "      <td>812.083758</td>\n",
       "    </tr>\n",
       "    <tr>\n",
       "      <th>50</th>\n",
       "      <td>813.682839</td>\n",
       "      <td>845.275442</td>\n",
       "      <td>834.834809</td>\n",
       "    </tr>\n",
       "  </tbody>\n",
       "</table>\n",
       "</div>"
      ],
      "text/plain": [
       "    iteration 7  iteration 8  iteration 9\n",
       "5    435.932172   437.597362   433.935202\n",
       "10   551.346491   567.117702   535.620089\n",
       "15   583.455645   590.127040   566.917139\n",
       "20   624.802642   616.598282   613.742041\n",
       "25   654.983548   663.821654   635.227189\n",
       "30   701.708098   664.762570   691.421715\n",
       "35   738.484941   726.303918   754.729724\n",
       "40   741.158344   742.826689   780.154899\n",
       "45   814.057533   797.211070   812.083758\n",
       "50   813.682839   845.275442   834.834809"
      ]
     },
     "execution_count": 9,
     "metadata": {},
     "output_type": "execute_result"
    }
   ],
   "source": [
    "lda_t"
   ]
  },
  {
   "cell_type": "code",
   "execution_count": 10,
   "metadata": {},
   "outputs": [
    {
     "data": {
      "text/plain": [
       "1.8498922928174337"
      ]
     },
     "execution_count": 10,
     "metadata": {},
     "output_type": "execute_result"
    }
   ],
   "source": [
    "lda_t[\"iteration 7\"].sum()/60/60"
   ]
  },
  {
   "cell_type": "code",
   "execution_count": 11,
   "metadata": {},
   "outputs": [],
   "source": [
    "f = open('results/LDA/lda_p7-9.pkl', 'rb')\n",
    "lda_p = pickle.load(f)\n",
    "f.close()"
   ]
  },
  {
   "cell_type": "code",
   "execution_count": 12,
   "metadata": {},
   "outputs": [
    {
     "data": {
      "text/html": [
       "<div>\n",
       "<style scoped>\n",
       "    .dataframe tbody tr th:only-of-type {\n",
       "        vertical-align: middle;\n",
       "    }\n",
       "\n",
       "    .dataframe tbody tr th {\n",
       "        vertical-align: top;\n",
       "    }\n",
       "\n",
       "    .dataframe thead th {\n",
       "        text-align: right;\n",
       "    }\n",
       "</style>\n",
       "<table border=\"1\" class=\"dataframe\">\n",
       "  <thead>\n",
       "    <tr style=\"text-align: right;\">\n",
       "      <th></th>\n",
       "      <th>iteration 7</th>\n",
       "      <th>iteration 8</th>\n",
       "      <th>iteration 9</th>\n",
       "    </tr>\n",
       "  </thead>\n",
       "  <tbody>\n",
       "    <tr>\n",
       "      <th>5</th>\n",
       "      <td>2696.849974</td>\n",
       "      <td>2673.912880</td>\n",
       "      <td>2671.405578</td>\n",
       "    </tr>\n",
       "    <tr>\n",
       "      <th>10</th>\n",
       "      <td>2406.616979</td>\n",
       "      <td>2434.804312</td>\n",
       "      <td>2393.576193</td>\n",
       "    </tr>\n",
       "    <tr>\n",
       "      <th>15</th>\n",
       "      <td>2239.086827</td>\n",
       "      <td>2246.643285</td>\n",
       "      <td>2240.215003</td>\n",
       "    </tr>\n",
       "    <tr>\n",
       "      <th>20</th>\n",
       "      <td>2156.657389</td>\n",
       "      <td>2151.528615</td>\n",
       "      <td>2136.315159</td>\n",
       "    </tr>\n",
       "    <tr>\n",
       "      <th>25</th>\n",
       "      <td>2074.815944</td>\n",
       "      <td>2088.627053</td>\n",
       "      <td>2082.911066</td>\n",
       "    </tr>\n",
       "    <tr>\n",
       "      <th>30</th>\n",
       "      <td>2050.798042</td>\n",
       "      <td>2037.732953</td>\n",
       "      <td>2018.691059</td>\n",
       "    </tr>\n",
       "    <tr>\n",
       "      <th>35</th>\n",
       "      <td>1985.391977</td>\n",
       "      <td>1990.737078</td>\n",
       "      <td>2001.894329</td>\n",
       "    </tr>\n",
       "    <tr>\n",
       "      <th>40</th>\n",
       "      <td>1943.839797</td>\n",
       "      <td>1952.872967</td>\n",
       "      <td>1936.076310</td>\n",
       "    </tr>\n",
       "    <tr>\n",
       "      <th>45</th>\n",
       "      <td>1923.358611</td>\n",
       "      <td>1937.834389</td>\n",
       "      <td>1926.169997</td>\n",
       "    </tr>\n",
       "    <tr>\n",
       "      <th>50</th>\n",
       "      <td>1916.132948</td>\n",
       "      <td>1906.847762</td>\n",
       "      <td>1881.329188</td>\n",
       "    </tr>\n",
       "  </tbody>\n",
       "</table>\n",
       "</div>"
      ],
      "text/plain": [
       "    iteration 7  iteration 8  iteration 9\n",
       "5   2696.849974  2673.912880  2671.405578\n",
       "10  2406.616979  2434.804312  2393.576193\n",
       "15  2239.086827  2246.643285  2240.215003\n",
       "20  2156.657389  2151.528615  2136.315159\n",
       "25  2074.815944  2088.627053  2082.911066\n",
       "30  2050.798042  2037.732953  2018.691059\n",
       "35  1985.391977  1990.737078  2001.894329\n",
       "40  1943.839797  1952.872967  1936.076310\n",
       "45  1923.358611  1937.834389  1926.169997\n",
       "50  1916.132948  1906.847762  1881.329188"
      ]
     },
     "execution_count": 12,
     "metadata": {},
     "output_type": "execute_result"
    }
   ],
   "source": [
    "lda_p"
   ]
  },
  {
   "cell_type": "code",
   "execution_count": 13,
   "metadata": {},
   "outputs": [],
   "source": [
    "f = open('results/LDA/lda_topics7-9.pkl', 'rb')\n",
    "lda_top = pickle.load(f)\n",
    "f.close()"
   ]
  },
  {
   "cell_type": "code",
   "execution_count": 14,
   "metadata": {},
   "outputs": [
    {
     "data": {
      "text/html": [
       "<div>\n",
       "<style scoped>\n",
       "    .dataframe tbody tr th:only-of-type {\n",
       "        vertical-align: middle;\n",
       "    }\n",
       "\n",
       "    .dataframe tbody tr th {\n",
       "        vertical-align: top;\n",
       "    }\n",
       "\n",
       "    .dataframe thead th {\n",
       "        text-align: right;\n",
       "    }\n",
       "</style>\n",
       "<table border=\"1\" class=\"dataframe\">\n",
       "  <thead>\n",
       "    <tr style=\"text-align: right;\">\n",
       "      <th></th>\n",
       "      <th>iteration 7</th>\n",
       "      <th>iteration 8</th>\n",
       "      <th>iteration 9</th>\n",
       "    </tr>\n",
       "  </thead>\n",
       "  <tbody>\n",
       "    <tr>\n",
       "      <th>5</th>\n",
       "      <td>[[patient, disease, clinical, treatment, risk,...</td>\n",
       "      <td>[[brain, neuron, function, mechanism, model, d...</td>\n",
       "      <td>[[develop, system, new, method, datum, model, ...</td>\n",
       "    </tr>\n",
       "    <tr>\n",
       "      <th>10</th>\n",
       "      <td>[[disease, injury, mechanism, model, ad, brain...</td>\n",
       "      <td>[[health, risk, intervention, child, use, trea...</td>\n",
       "      <td>[[cell, cancer, tumor, target, pathway, signal...</td>\n",
       "    </tr>\n",
       "    <tr>\n",
       "      <th>15</th>\n",
       "      <td>[[core, datum, provide, analysis, support, cen...</td>\n",
       "      <td>[[risk, health, age, exposure, factor, disease...</td>\n",
       "      <td>[[environmental, change, food, plant, water, c...</td>\n",
       "    </tr>\n",
       "    <tr>\n",
       "      <th>20</th>\n",
       "      <td>[[genetic, risk, gene, identify, factor, datum...</td>\n",
       "      <td>[[cell, cancer, tumor, patient, breast, therap...</td>\n",
       "      <td>[[cell, gene, protein, signal, regulate, funct...</td>\n",
       "    </tr>\n",
       "    <tr>\n",
       "      <th>25</th>\n",
       "      <td>[[injury, heart, vascular, mechanism, cardiac,...</td>\n",
       "      <td>[[datum, model, method, develop, analysis, net...</td>\n",
       "      <td>[[structure, new, material, develop, chemical,...</td>\n",
       "    </tr>\n",
       "    <tr>\n",
       "      <th>30</th>\n",
       "      <td>[[genetic, gene, risk, identify, disease, vari...</td>\n",
       "      <td>[[cell, immune, response, vaccine, antigen, in...</td>\n",
       "      <td>[[age, function, activity, aging, memory, neur...</td>\n",
       "    </tr>\n",
       "    <tr>\n",
       "      <th>35</th>\n",
       "      <td>[[cell, mouse, induce, injury, inflammatory, v...</td>\n",
       "      <td>[[gene, expression, cell, protein, mechanism, ...</td>\n",
       "      <td>[[cell, tissue, mechanical, property, surface,...</td>\n",
       "    </tr>\n",
       "    <tr>\n",
       "      <th>40</th>\n",
       "      <td>[[protein, structure, complex, bind, cell, dna...</td>\n",
       "      <td>[[tumor, cancer, cell, target, therapy, treatm...</td>\n",
       "      <td>[[cell, stem, mouse, tissue, development, diff...</td>\n",
       "    </tr>\n",
       "    <tr>\n",
       "      <th>45</th>\n",
       "      <td>[[clinical, center, support, investigator, tri...</td>\n",
       "      <td>[[ad, age, disease, aging, mouse, alzheimer, m...</td>\n",
       "      <td>[[cell, tissue, model, stem, mechanical, regen...</td>\n",
       "    </tr>\n",
       "    <tr>\n",
       "      <th>50</th>\n",
       "      <td>[[hiv, use, risk, drug, aids, woman, preventio...</td>\n",
       "      <td>[[compound, drug, new, molecule, chemical, dev...</td>\n",
       "      <td>[[pain, injury, stroke, brain, chronic, treatm...</td>\n",
       "    </tr>\n",
       "  </tbody>\n",
       "</table>\n",
       "</div>"
      ],
      "text/plain": [
       "                                          iteration 7  \\\n",
       "5   [[patient, disease, clinical, treatment, risk,...   \n",
       "10  [[disease, injury, mechanism, model, ad, brain...   \n",
       "15  [[core, datum, provide, analysis, support, cen...   \n",
       "20  [[genetic, risk, gene, identify, factor, datum...   \n",
       "25  [[injury, heart, vascular, mechanism, cardiac,...   \n",
       "30  [[genetic, gene, risk, identify, disease, vari...   \n",
       "35  [[cell, mouse, induce, injury, inflammatory, v...   \n",
       "40  [[protein, structure, complex, bind, cell, dna...   \n",
       "45  [[clinical, center, support, investigator, tri...   \n",
       "50  [[hiv, use, risk, drug, aids, woman, preventio...   \n",
       "\n",
       "                                          iteration 8  \\\n",
       "5   [[brain, neuron, function, mechanism, model, d...   \n",
       "10  [[health, risk, intervention, child, use, trea...   \n",
       "15  [[risk, health, age, exposure, factor, disease...   \n",
       "20  [[cell, cancer, tumor, patient, breast, therap...   \n",
       "25  [[datum, model, method, develop, analysis, net...   \n",
       "30  [[cell, immune, response, vaccine, antigen, in...   \n",
       "35  [[gene, expression, cell, protein, mechanism, ...   \n",
       "40  [[tumor, cancer, cell, target, therapy, treatm...   \n",
       "45  [[ad, age, disease, aging, mouse, alzheimer, m...   \n",
       "50  [[compound, drug, new, molecule, chemical, dev...   \n",
       "\n",
       "                                          iteration 9  \n",
       "5   [[develop, system, new, method, datum, model, ...  \n",
       "10  [[cell, cancer, tumor, target, pathway, signal...  \n",
       "15  [[environmental, change, food, plant, water, c...  \n",
       "20  [[cell, gene, protein, signal, regulate, funct...  \n",
       "25  [[structure, new, material, develop, chemical,...  \n",
       "30  [[age, function, activity, aging, memory, neur...  \n",
       "35  [[cell, tissue, mechanical, property, surface,...  \n",
       "40  [[cell, stem, mouse, tissue, development, diff...  \n",
       "45  [[cell, tissue, model, stem, mechanical, regen...  \n",
       "50  [[pain, injury, stroke, brain, chronic, treatm...  "
      ]
     },
     "execution_count": 14,
     "metadata": {},
     "output_type": "execute_result"
    }
   ],
   "source": [
    "lda_top"
   ]
  },
  {
   "cell_type": "code",
   "execution_count": 16,
   "metadata": {},
   "outputs": [
    {
     "data": {
      "text/plain": [
       "[['patient',\n",
       "  'disease',\n",
       "  'clinical',\n",
       "  'treatment',\n",
       "  'risk',\n",
       "  'develop',\n",
       "  'cancer',\n",
       "  'therapy',\n",
       "  'drug',\n",
       "  'identify'],\n",
       " ['cell',\n",
       "  'protein',\n",
       "  'gene',\n",
       "  'mechanism',\n",
       "  'mouse',\n",
       "  'role',\n",
       "  'cancer',\n",
       "  'specific',\n",
       "  'expression',\n",
       "  'function'],\n",
       " ['system',\n",
       "  'develop',\n",
       "  'new',\n",
       "  'datum',\n",
       "  'provide',\n",
       "  'method',\n",
       "  'model',\n",
       "  'high',\n",
       "  'technology',\n",
       "  'use'],\n",
       " ['program',\n",
       "  'health',\n",
       "  'training',\n",
       "  'core',\n",
       "  'provide',\n",
       "  'support',\n",
       "  'clinical',\n",
       "  'center',\n",
       "  'include',\n",
       "  'intervention'],\n",
       " ['brain',\n",
       "  'mechanism',\n",
       "  'effect',\n",
       "  'function',\n",
       "  'neuron',\n",
       "  'increase',\n",
       "  'determine',\n",
       "  'test',\n",
       "  'disorder',\n",
       "  'specific']]"
      ]
     },
     "execution_count": 16,
     "metadata": {},
     "output_type": "execute_result"
    }
   ],
   "source": [
    "lda_top[\"iteration 7\"][5]"
   ]
  },
  {
   "cell_type": "code",
   "execution_count": null,
   "metadata": {},
   "outputs": [],
   "source": []
  },
  {
   "cell_type": "code",
   "execution_count": null,
   "metadata": {},
   "outputs": [],
   "source": []
  },
  {
   "cell_type": "markdown",
   "metadata": {},
   "source": [
    "#### Coherence"
   ]
  },
  {
   "cell_type": "code",
   "execution_count": 2,
   "metadata": {},
   "outputs": [
    {
     "name": "stdout",
     "output_type": "stream",
     "text": [
      "data ingested--------------------------\n"
     ]
    }
   ],
   "source": [
    "# data needed for coherence calculation\n",
    "\n",
    "# import entire dataset\n",
    "f = open('../../../data/prd/Paper/coherence_vars.sav', 'rb')\n",
    "[id2word, docs] = pickle.load(f)\n",
    "f.close()\n",
    "\n",
    "# import topics\n",
    "\n",
    "df_topics = pd.read_pickle(\"./results/NMF/nmf_topics0.pkl\")\n",
    "nrow, ncol = df_topics.shape\n",
    "\n",
    "\n",
    "print(\"data ingested--------------------------\", flush = True)"
   ]
  },
  {
   "cell_type": "code",
   "execution_count": null,
   "metadata": {},
   "outputs": [
    {
     "name": "stdout",
     "output_type": "stream",
     "text": [
      "Iteration 0\n",
      "  Coherence time: 168.43822956085205\n",
      "Number of topics = 5 complete.\n"
     ]
    }
   ],
   "source": [
    "# corpus - word frequency in docs - not needed for coherence calculation\n",
    "# id2word - dictionary\n",
    "# docs - df[\"final_tokens\"]\n",
    "\n",
    "# calculate coherence\n",
    "\n",
    "n_topics = list(range(5,51,5))\n",
    "batch = 0\n",
    "\n",
    "col_names = [f\"iteration {i+batch}\" for i in range(ncol)]\n",
    "co_val = pd.DataFrame(index = n_topics, columns = col_names)\n",
    "co_t = pd.DataFrame(index = n_topics, columns = col_names)\n",
    "\n",
    "for j in range(ncol):\n",
    "    \n",
    "    print(f'Iteration {j}', flush = True)\n",
    "    \n",
    "    coherence_values = []\n",
    "    coherence_time = []\n",
    "    \n",
    "    for i in range(nrow): \n",
    "            \n",
    "        # calculate coherence\n",
    "        t1 = time.time()\n",
    "        cm = CoherenceModel(topics=df_topics.iloc[i,j], dictionary=id2word, texts=docs, coherence='c_v',\n",
    "                            processes=10) \n",
    "        coherence_values.append(cm.get_coherence())\n",
    "        t2 = time.time()\n",
    "        coherence_time.append(t2-t1)\n",
    "        print(f\"  Coherence time: {t2-t1}\", flush=True)\n",
    "        \n",
    "        # output completion message\n",
    "        print('Number of topics =', df_topics.index[i], \"complete.\", flush = True)    \n",
    "    \n",
    "    # save results\n",
    "    co_val[f\"iteration {j+batch}\"] = coherence_values\n",
    "    co_t[f\"iteration {j+batch}\"] = coherence_time\n",
    "    \n",
    "       \n",
    "        \n",
    "# save results \n",
    "\n",
    "#co_val.to_pickle(\"./results/NMF/co_nmf_val0.pkl\")\n",
    "#co_t.to_pickle(\"./results/NMF/co_nmf_t0.pkl\")\n"
   ]
  },
  {
   "cell_type": "code",
   "execution_count": 3,
   "metadata": {},
   "outputs": [
    {
     "name": "stdout",
     "output_type": "stream",
     "text": [
      "0.7165704142062844\n",
      "  Coherence time: 472.81356859207153\n"
     ]
    }
   ],
   "source": [
    "t1 = time.time()\n",
    "cm = CoherenceModel(topics=df_topics.iloc[9,0], dictionary=id2word, texts=docs, coherence='c_v',\n",
    "                    processes=15) \n",
    "print(cm.get_coherence())\n",
    "t2 = time.time()\n",
    "print(f\"  Coherence time: {t2-t1}\", flush=True)"
   ]
  },
  {
   "cell_type": "code",
   "execution_count": 4,
   "metadata": {},
   "outputs": [
    {
     "data": {
      "text/plain": [
       "83.33333333333333"
      ]
     },
     "execution_count": 4,
     "metadata": {},
     "output_type": "execute_result"
    }
   ],
   "source": [
    "5000/60"
   ]
  },
  {
   "cell_type": "code",
   "execution_count": null,
   "metadata": {},
   "outputs": [],
   "source": []
  },
  {
   "cell_type": "code",
   "execution_count": 27,
   "metadata": {},
   "outputs": [],
   "source": [
    "f = open('results/NMF/co_nmf_t1-3.pkl', 'rb')\n",
    "co_nmf_t = pickle.load(f)\n",
    "f.close()"
   ]
  },
  {
   "cell_type": "code",
   "execution_count": 28,
   "metadata": {},
   "outputs": [
    {
     "data": {
      "text/html": [
       "<div>\n",
       "<style scoped>\n",
       "    .dataframe tbody tr th:only-of-type {\n",
       "        vertical-align: middle;\n",
       "    }\n",
       "\n",
       "    .dataframe tbody tr th {\n",
       "        vertical-align: top;\n",
       "    }\n",
       "\n",
       "    .dataframe thead th {\n",
       "        text-align: right;\n",
       "    }\n",
       "</style>\n",
       "<table border=\"1\" class=\"dataframe\">\n",
       "  <thead>\n",
       "    <tr style=\"text-align: right;\">\n",
       "      <th></th>\n",
       "      <th>iteration 1</th>\n",
       "      <th>iteration 2</th>\n",
       "      <th>iteration 3</th>\n",
       "    </tr>\n",
       "  </thead>\n",
       "  <tbody>\n",
       "    <tr>\n",
       "      <th>5</th>\n",
       "      <td>114.861114</td>\n",
       "      <td>117.141293</td>\n",
       "      <td>118.460506</td>\n",
       "    </tr>\n",
       "    <tr>\n",
       "      <th>10</th>\n",
       "      <td>151.909935</td>\n",
       "      <td>154.878960</td>\n",
       "      <td>155.231587</td>\n",
       "    </tr>\n",
       "    <tr>\n",
       "      <th>15</th>\n",
       "      <td>186.287828</td>\n",
       "      <td>187.699493</td>\n",
       "      <td>183.993934</td>\n",
       "    </tr>\n",
       "    <tr>\n",
       "      <th>20</th>\n",
       "      <td>221.522196</td>\n",
       "      <td>223.751019</td>\n",
       "      <td>224.886253</td>\n",
       "    </tr>\n",
       "    <tr>\n",
       "      <th>25</th>\n",
       "      <td>265.845104</td>\n",
       "      <td>260.652219</td>\n",
       "      <td>258.791718</td>\n",
       "    </tr>\n",
       "    <tr>\n",
       "      <th>30</th>\n",
       "      <td>302.753483</td>\n",
       "      <td>294.213289</td>\n",
       "      <td>296.886941</td>\n",
       "    </tr>\n",
       "    <tr>\n",
       "      <th>35</th>\n",
       "      <td>340.130318</td>\n",
       "      <td>340.101690</td>\n",
       "      <td>343.746220</td>\n",
       "    </tr>\n",
       "    <tr>\n",
       "      <th>40</th>\n",
       "      <td>371.994711</td>\n",
       "      <td>438.338857</td>\n",
       "      <td>372.235898</td>\n",
       "    </tr>\n",
       "    <tr>\n",
       "      <th>45</th>\n",
       "      <td>402.504977</td>\n",
       "      <td>408.179972</td>\n",
       "      <td>398.762976</td>\n",
       "    </tr>\n",
       "    <tr>\n",
       "      <th>50</th>\n",
       "      <td>438.697223</td>\n",
       "      <td>460.142708</td>\n",
       "      <td>479.154986</td>\n",
       "    </tr>\n",
       "  </tbody>\n",
       "</table>\n",
       "</div>"
      ],
      "text/plain": [
       "    iteration 1  iteration 2  iteration 3\n",
       "5    114.861114   117.141293   118.460506\n",
       "10   151.909935   154.878960   155.231587\n",
       "15   186.287828   187.699493   183.993934\n",
       "20   221.522196   223.751019   224.886253\n",
       "25   265.845104   260.652219   258.791718\n",
       "30   302.753483   294.213289   296.886941\n",
       "35   340.130318   340.101690   343.746220\n",
       "40   371.994711   438.338857   372.235898\n",
       "45   402.504977   408.179972   398.762976\n",
       "50   438.697223   460.142708   479.154986"
      ]
     },
     "execution_count": 28,
     "metadata": {},
     "output_type": "execute_result"
    }
   ],
   "source": [
    "co_nmf_t"
   ]
  },
  {
   "cell_type": "code",
   "execution_count": 29,
   "metadata": {},
   "outputs": [
    {
     "data": {
      "text/plain": [
       "46.6084481716156"
      ]
     },
     "execution_count": 29,
     "metadata": {},
     "output_type": "execute_result"
    }
   ],
   "source": [
    "co_nmf_t[\"iteration 1\"].sum()/60"
   ]
  },
  {
   "cell_type": "code",
   "execution_count": 30,
   "metadata": {},
   "outputs": [],
   "source": [
    "f = open('results/NMF/co_nmf_val1-3.pkl', 'rb')\n",
    "co_nmf_val = pickle.load(f)\n",
    "f.close()"
   ]
  },
  {
   "cell_type": "code",
   "execution_count": 31,
   "metadata": {},
   "outputs": [
    {
     "data": {
      "text/html": [
       "<div>\n",
       "<style scoped>\n",
       "    .dataframe tbody tr th:only-of-type {\n",
       "        vertical-align: middle;\n",
       "    }\n",
       "\n",
       "    .dataframe tbody tr th {\n",
       "        vertical-align: top;\n",
       "    }\n",
       "\n",
       "    .dataframe thead th {\n",
       "        text-align: right;\n",
       "    }\n",
       "</style>\n",
       "<table border=\"1\" class=\"dataframe\">\n",
       "  <thead>\n",
       "    <tr style=\"text-align: right;\">\n",
       "      <th></th>\n",
       "      <th>iteration 1</th>\n",
       "      <th>iteration 2</th>\n",
       "      <th>iteration 3</th>\n",
       "    </tr>\n",
       "  </thead>\n",
       "  <tbody>\n",
       "    <tr>\n",
       "      <th>5</th>\n",
       "      <td>0.681432</td>\n",
       "      <td>0.681432</td>\n",
       "      <td>0.681432</td>\n",
       "    </tr>\n",
       "    <tr>\n",
       "      <th>10</th>\n",
       "      <td>0.693060</td>\n",
       "      <td>0.693060</td>\n",
       "      <td>0.693060</td>\n",
       "    </tr>\n",
       "    <tr>\n",
       "      <th>15</th>\n",
       "      <td>0.696781</td>\n",
       "      <td>0.696781</td>\n",
       "      <td>0.714896</td>\n",
       "    </tr>\n",
       "    <tr>\n",
       "      <th>20</th>\n",
       "      <td>0.701793</td>\n",
       "      <td>0.701793</td>\n",
       "      <td>0.701793</td>\n",
       "    </tr>\n",
       "    <tr>\n",
       "      <th>25</th>\n",
       "      <td>0.699450</td>\n",
       "      <td>0.700078</td>\n",
       "      <td>0.701351</td>\n",
       "    </tr>\n",
       "    <tr>\n",
       "      <th>30</th>\n",
       "      <td>0.710418</td>\n",
       "      <td>0.712199</td>\n",
       "      <td>0.711775</td>\n",
       "    </tr>\n",
       "    <tr>\n",
       "      <th>35</th>\n",
       "      <td>0.715832</td>\n",
       "      <td>0.717924</td>\n",
       "      <td>0.715673</td>\n",
       "    </tr>\n",
       "    <tr>\n",
       "      <th>40</th>\n",
       "      <td>0.725350</td>\n",
       "      <td>0.718505</td>\n",
       "      <td>0.717401</td>\n",
       "    </tr>\n",
       "    <tr>\n",
       "      <th>45</th>\n",
       "      <td>0.714924</td>\n",
       "      <td>0.710819</td>\n",
       "      <td>0.723499</td>\n",
       "    </tr>\n",
       "    <tr>\n",
       "      <th>50</th>\n",
       "      <td>0.729898</td>\n",
       "      <td>0.727082</td>\n",
       "      <td>0.714613</td>\n",
       "    </tr>\n",
       "  </tbody>\n",
       "</table>\n",
       "</div>"
      ],
      "text/plain": [
       "    iteration 1  iteration 2  iteration 3\n",
       "5      0.681432     0.681432     0.681432\n",
       "10     0.693060     0.693060     0.693060\n",
       "15     0.696781     0.696781     0.714896\n",
       "20     0.701793     0.701793     0.701793\n",
       "25     0.699450     0.700078     0.701351\n",
       "30     0.710418     0.712199     0.711775\n",
       "35     0.715832     0.717924     0.715673\n",
       "40     0.725350     0.718505     0.717401\n",
       "45     0.714924     0.710819     0.723499\n",
       "50     0.729898     0.727082     0.714613"
      ]
     },
     "execution_count": 31,
     "metadata": {},
     "output_type": "execute_result"
    }
   ],
   "source": [
    "co_nmf_val"
   ]
  },
  {
   "cell_type": "code",
   "execution_count": null,
   "metadata": {},
   "outputs": [],
   "source": []
  },
  {
   "cell_type": "code",
   "execution_count": 43,
   "metadata": {},
   "outputs": [],
   "source": [
    "f = open('results/LDA/co_lda_t7-9.pkl', 'rb')\n",
    "co_lda_t = pickle.load(f)\n",
    "f.close()"
   ]
  },
  {
   "cell_type": "code",
   "execution_count": 44,
   "metadata": {},
   "outputs": [
    {
     "data": {
      "text/html": [
       "<div>\n",
       "<style scoped>\n",
       "    .dataframe tbody tr th:only-of-type {\n",
       "        vertical-align: middle;\n",
       "    }\n",
       "\n",
       "    .dataframe tbody tr th {\n",
       "        vertical-align: top;\n",
       "    }\n",
       "\n",
       "    .dataframe thead th {\n",
       "        text-align: right;\n",
       "    }\n",
       "</style>\n",
       "<table border=\"1\" class=\"dataframe\">\n",
       "  <thead>\n",
       "    <tr style=\"text-align: right;\">\n",
       "      <th></th>\n",
       "      <th>iteration 7</th>\n",
       "      <th>iteration 8</th>\n",
       "      <th>iteration 9</th>\n",
       "    </tr>\n",
       "  </thead>\n",
       "  <tbody>\n",
       "    <tr>\n",
       "      <th>5</th>\n",
       "      <td>132.882011</td>\n",
       "      <td>128.954055</td>\n",
       "      <td>135.533142</td>\n",
       "    </tr>\n",
       "    <tr>\n",
       "      <th>10</th>\n",
       "      <td>159.342826</td>\n",
       "      <td>164.274541</td>\n",
       "      <td>174.843091</td>\n",
       "    </tr>\n",
       "    <tr>\n",
       "      <th>15</th>\n",
       "      <td>204.871938</td>\n",
       "      <td>203.434997</td>\n",
       "      <td>214.461239</td>\n",
       "    </tr>\n",
       "    <tr>\n",
       "      <th>20</th>\n",
       "      <td>234.797601</td>\n",
       "      <td>248.812047</td>\n",
       "      <td>235.199594</td>\n",
       "    </tr>\n",
       "    <tr>\n",
       "      <th>25</th>\n",
       "      <td>276.729139</td>\n",
       "      <td>287.510907</td>\n",
       "      <td>272.260181</td>\n",
       "    </tr>\n",
       "    <tr>\n",
       "      <th>30</th>\n",
       "      <td>275.352768</td>\n",
       "      <td>312.833472</td>\n",
       "      <td>305.456198</td>\n",
       "    </tr>\n",
       "    <tr>\n",
       "      <th>35</th>\n",
       "      <td>323.491602</td>\n",
       "      <td>325.617960</td>\n",
       "      <td>377.233967</td>\n",
       "    </tr>\n",
       "    <tr>\n",
       "      <th>40</th>\n",
       "      <td>355.038644</td>\n",
       "      <td>358.549530</td>\n",
       "      <td>347.439366</td>\n",
       "    </tr>\n",
       "    <tr>\n",
       "      <th>45</th>\n",
       "      <td>372.149192</td>\n",
       "      <td>400.452527</td>\n",
       "      <td>396.407637</td>\n",
       "    </tr>\n",
       "    <tr>\n",
       "      <th>50</th>\n",
       "      <td>419.535974</td>\n",
       "      <td>431.629274</td>\n",
       "      <td>445.325002</td>\n",
       "    </tr>\n",
       "  </tbody>\n",
       "</table>\n",
       "</div>"
      ],
      "text/plain": [
       "    iteration 7  iteration 8  iteration 9\n",
       "5    132.882011   128.954055   135.533142\n",
       "10   159.342826   164.274541   174.843091\n",
       "15   204.871938   203.434997   214.461239\n",
       "20   234.797601   248.812047   235.199594\n",
       "25   276.729139   287.510907   272.260181\n",
       "30   275.352768   312.833472   305.456198\n",
       "35   323.491602   325.617960   377.233967\n",
       "40   355.038644   358.549530   347.439366\n",
       "45   372.149192   400.452527   396.407637\n",
       "50   419.535974   431.629274   445.325002"
      ]
     },
     "execution_count": 44,
     "metadata": {},
     "output_type": "execute_result"
    }
   ],
   "source": [
    "co_lda_t"
   ]
  },
  {
   "cell_type": "code",
   "execution_count": 45,
   "metadata": {},
   "outputs": [
    {
     "data": {
      "text/plain": [
       "45.90319490432739"
      ]
     },
     "execution_count": 45,
     "metadata": {},
     "output_type": "execute_result"
    }
   ],
   "source": [
    "co_lda_t[\"iteration 7\"].sum()/60"
   ]
  },
  {
   "cell_type": "code",
   "execution_count": null,
   "metadata": {},
   "outputs": [],
   "source": []
  },
  {
   "cell_type": "code",
   "execution_count": 46,
   "metadata": {},
   "outputs": [],
   "source": [
    "f = open('results/LDA/co_lda_val7-9.pkl', 'rb')\n",
    "co_lda_val = pickle.load(f)\n",
    "f.close()"
   ]
  },
  {
   "cell_type": "code",
   "execution_count": 47,
   "metadata": {},
   "outputs": [
    {
     "data": {
      "text/html": [
       "<div>\n",
       "<style scoped>\n",
       "    .dataframe tbody tr th:only-of-type {\n",
       "        vertical-align: middle;\n",
       "    }\n",
       "\n",
       "    .dataframe tbody tr th {\n",
       "        vertical-align: top;\n",
       "    }\n",
       "\n",
       "    .dataframe thead th {\n",
       "        text-align: right;\n",
       "    }\n",
       "</style>\n",
       "<table border=\"1\" class=\"dataframe\">\n",
       "  <thead>\n",
       "    <tr style=\"text-align: right;\">\n",
       "      <th></th>\n",
       "      <th>iteration 7</th>\n",
       "      <th>iteration 8</th>\n",
       "      <th>iteration 9</th>\n",
       "    </tr>\n",
       "  </thead>\n",
       "  <tbody>\n",
       "    <tr>\n",
       "      <th>5</th>\n",
       "      <td>0.520377</td>\n",
       "      <td>0.527728</td>\n",
       "      <td>0.511135</td>\n",
       "    </tr>\n",
       "    <tr>\n",
       "      <th>10</th>\n",
       "      <td>0.552631</td>\n",
       "      <td>0.537550</td>\n",
       "      <td>0.545996</td>\n",
       "    </tr>\n",
       "    <tr>\n",
       "      <th>15</th>\n",
       "      <td>0.571558</td>\n",
       "      <td>0.562548</td>\n",
       "      <td>0.580297</td>\n",
       "    </tr>\n",
       "    <tr>\n",
       "      <th>20</th>\n",
       "      <td>0.579274</td>\n",
       "      <td>0.581458</td>\n",
       "      <td>0.574645</td>\n",
       "    </tr>\n",
       "    <tr>\n",
       "      <th>25</th>\n",
       "      <td>0.587654</td>\n",
       "      <td>0.569543</td>\n",
       "      <td>0.582239</td>\n",
       "    </tr>\n",
       "    <tr>\n",
       "      <th>30</th>\n",
       "      <td>0.580807</td>\n",
       "      <td>0.582737</td>\n",
       "      <td>0.583099</td>\n",
       "    </tr>\n",
       "    <tr>\n",
       "      <th>35</th>\n",
       "      <td>0.596405</td>\n",
       "      <td>0.594299</td>\n",
       "      <td>0.592964</td>\n",
       "    </tr>\n",
       "    <tr>\n",
       "      <th>40</th>\n",
       "      <td>0.599051</td>\n",
       "      <td>0.591420</td>\n",
       "      <td>0.603519</td>\n",
       "    </tr>\n",
       "    <tr>\n",
       "      <th>45</th>\n",
       "      <td>0.599457</td>\n",
       "      <td>0.598102</td>\n",
       "      <td>0.598659</td>\n",
       "    </tr>\n",
       "    <tr>\n",
       "      <th>50</th>\n",
       "      <td>0.591788</td>\n",
       "      <td>0.605955</td>\n",
       "      <td>0.605674</td>\n",
       "    </tr>\n",
       "  </tbody>\n",
       "</table>\n",
       "</div>"
      ],
      "text/plain": [
       "    iteration 7  iteration 8  iteration 9\n",
       "5      0.520377     0.527728     0.511135\n",
       "10     0.552631     0.537550     0.545996\n",
       "15     0.571558     0.562548     0.580297\n",
       "20     0.579274     0.581458     0.574645\n",
       "25     0.587654     0.569543     0.582239\n",
       "30     0.580807     0.582737     0.583099\n",
       "35     0.596405     0.594299     0.592964\n",
       "40     0.599051     0.591420     0.603519\n",
       "45     0.599457     0.598102     0.598659\n",
       "50     0.591788     0.605955     0.605674"
      ]
     },
     "execution_count": 47,
     "metadata": {},
     "output_type": "execute_result"
    }
   ],
   "source": [
    "co_lda_val"
   ]
  },
  {
   "cell_type": "code",
   "execution_count": null,
   "metadata": {},
   "outputs": [],
   "source": []
  }
 ],
 "metadata": {
  "kernelspec": {
   "display_name": "Python 3.8",
   "language": "python",
   "name": "python-3.8"
  },
  "language_info": {
   "codemirror_mode": {
    "name": "ipython",
    "version": 3
   },
   "file_extension": ".py",
   "mimetype": "text/x-python",
   "name": "python",
   "nbconvert_exporter": "python",
   "pygments_lexer": "ipython3",
   "version": "3.8.8"
  }
 },
 "nbformat": 4,
 "nbformat_minor": 4
}
