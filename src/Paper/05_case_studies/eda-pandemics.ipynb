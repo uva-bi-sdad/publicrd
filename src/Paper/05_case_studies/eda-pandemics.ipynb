{
 "cells": [
  {
   "cell_type": "code",
   "execution_count": 1,
   "metadata": {},
   "outputs": [],
   "source": [
    "import pandas as pd\n",
    "pd.set_option('display.max_columns', 50)\n",
    "\n",
    "import numpy as np\n",
    "import pickle\n",
    "import matplotlib.pyplot as plt"
   ]
  },
  {
   "cell_type": "markdown",
   "metadata": {},
   "source": [
    "### Data Ingestion"
   ]
  },
  {
   "cell_type": "code",
   "execution_count": 2,
   "metadata": {},
   "outputs": [],
   "source": [
    "# pandemic corpus\n",
    "df = pd.read_pickle(\"../../../data/prd/Paper/case_studies/pandemic_corpus.pkl\")\n",
    "df.reset_index(inplace=True, drop = True)"
   ]
  },
  {
   "cell_type": "code",
   "execution_count": 3,
   "metadata": {},
   "outputs": [
    {
     "data": {
      "text/plain": [
       "(7571, 30)"
      ]
     },
     "execution_count": 3,
     "metadata": {},
     "output_type": "execute_result"
    }
   ],
   "source": [
    "df.shape"
   ]
  },
  {
   "cell_type": "code",
   "execution_count": 4,
   "metadata": {},
   "outputs": [
    {
     "data": {
      "text/html": [
       "<div>\n",
       "<style scoped>\n",
       "    .dataframe tbody tr th:only-of-type {\n",
       "        vertical-align: middle;\n",
       "    }\n",
       "\n",
       "    .dataframe tbody tr th {\n",
       "        vertical-align: top;\n",
       "    }\n",
       "\n",
       "    .dataframe thead th {\n",
       "        text-align: right;\n",
       "    }\n",
       "</style>\n",
       "<table border=\"1\" class=\"dataframe\">\n",
       "  <thead>\n",
       "    <tr style=\"text-align: right;\">\n",
       "      <th></th>\n",
       "      <th>PROJECT_ID</th>\n",
       "      <th>ABSTRACT</th>\n",
       "      <th>PROJECT_TERMS</th>\n",
       "      <th>PROJECT_TITLE</th>\n",
       "      <th>DEPARTMENT</th>\n",
       "      <th>AGENCY</th>\n",
       "      <th>IC_CENTER</th>\n",
       "      <th>PROJECT_NUMBER</th>\n",
       "      <th>PROJECT_START_DATE</th>\n",
       "      <th>PROJECT_END_DATE</th>\n",
       "      <th>CONTACT_PI_PROJECT_LEADER</th>\n",
       "      <th>OTHER_PIS</th>\n",
       "      <th>CONGRESSIONAL_DISTRICT</th>\n",
       "      <th>DUNS_NUMBER</th>\n",
       "      <th>ORGANIZATION_NAME</th>\n",
       "      <th>ORGANIZATION_CITY</th>\n",
       "      <th>ORGANIZATION_STATE</th>\n",
       "      <th>ORGANIZATION_ZIP</th>\n",
       "      <th>ORGANIZATION_COUNTRY</th>\n",
       "      <th>BUDGET_START_DATE</th>\n",
       "      <th>BUDGET_END_DATE</th>\n",
       "      <th>CFDA_CODE</th>\n",
       "      <th>FY</th>\n",
       "      <th>FY_TOTAL_COST</th>\n",
       "      <th>FY_TOTAL_COST_SUB_PROJECTS</th>\n",
       "      <th>ORG_COUNT</th>\n",
       "      <th>PI_COUNT</th>\n",
       "      <th>FY_TOTAL_COST_SUM</th>\n",
       "      <th>NUM_RECORDS</th>\n",
       "      <th>final_tokens</th>\n",
       "    </tr>\n",
       "  </thead>\n",
       "  <tbody>\n",
       "    <tr>\n",
       "      <th>0</th>\n",
       "      <td>90045</td>\n",
       "      <td>Study of Emerging Networks in Outbreak Respons...</td>\n",
       "      <td>Arts; Communicable Diseases; Communication; Co...</td>\n",
       "      <td>STUDY OF EMERGING NETWORKS IN OUTBREAK RESPONSE</td>\n",
       "      <td>NSF</td>\n",
       "      <td>NSF</td>\n",
       "      <td>NaN</td>\n",
       "      <td>0826995</td>\n",
       "      <td>9/15/2008</td>\n",
       "      <td>8/31/2012</td>\n",
       "      <td>ANSELL, CHRISTOPHER</td>\n",
       "      <td>KELLER, ANN; REINGOLD, ARTHUR</td>\n",
       "      <td>09</td>\n",
       "      <td>124726725</td>\n",
       "      <td>UNIVERSITY OF CALIFORNIA BERKELEY</td>\n",
       "      <td>BERKELEY</td>\n",
       "      <td>CA</td>\n",
       "      <td>94704-5940</td>\n",
       "      <td>UNITED STATES</td>\n",
       "      <td>NaN</td>\n",
       "      <td>NaN</td>\n",
       "      <td>47.075</td>\n",
       "      <td>2008</td>\n",
       "      <td>726706.0</td>\n",
       "      <td>NaN</td>\n",
       "      <td>1</td>\n",
       "      <td>1</td>\n",
       "      <td>726706.0</td>\n",
       "      <td>1</td>\n",
       "      <td>study emerging networks outbreak responseprinc...</td>\n",
       "    </tr>\n",
       "    <tr>\n",
       "      <th>1</th>\n",
       "      <td>90243</td>\n",
       "      <td>One of the products of human development and p...</td>\n",
       "      <td>Affect; Agriculture; anthropogenesis; Award; b...</td>\n",
       "      <td>HSD: COLLABORATIVE RESEARCH: HUMAN-RELATED FAC...</td>\n",
       "      <td>NSF</td>\n",
       "      <td>NSF</td>\n",
       "      <td>NaN</td>\n",
       "      <td>0826779</td>\n",
       "      <td>10/1/2008</td>\n",
       "      <td>3/31/2012</td>\n",
       "      <td>DASZAK, PETER</td>\n",
       "      <td>KILPATRICK, A MARM</td>\n",
       "      <td>08</td>\n",
       "      <td>077090066</td>\n",
       "      <td>ECOHEALTH ALLIANCE INC</td>\n",
       "      <td>NEW YORK</td>\n",
       "      <td>NY</td>\n",
       "      <td>10001-2320</td>\n",
       "      <td>UNITED STATES</td>\n",
       "      <td>NaN</td>\n",
       "      <td>NaN</td>\n",
       "      <td>47.075</td>\n",
       "      <td>2008</td>\n",
       "      <td>468673.0</td>\n",
       "      <td>NaN</td>\n",
       "      <td>2</td>\n",
       "      <td>2</td>\n",
       "      <td>700001.0</td>\n",
       "      <td>2</td>\n",
       "      <td>product human development population growth gl...</td>\n",
       "    </tr>\n",
       "    <tr>\n",
       "      <th>2</th>\n",
       "      <td>90573</td>\n",
       "      <td>Intellectual merit:The proposed project seeks ...</td>\n",
       "      <td>base; Basic Science; Biological; Biology; Bird...</td>\n",
       "      <td>COMBINING ECOLOGICAL AND MOLECULAR MODELS TO U...</td>\n",
       "      <td>NSF</td>\n",
       "      <td>NSF</td>\n",
       "      <td>NaN</td>\n",
       "      <td>0827416</td>\n",
       "      <td>9/1/2008</td>\n",
       "      <td>8/31/2011</td>\n",
       "      <td>KOELLE, KATHARINA</td>\n",
       "      <td>NaN</td>\n",
       "      <td>04</td>\n",
       "      <td>044387793</td>\n",
       "      <td>DUKE UNIVERSITY</td>\n",
       "      <td>DURHAM</td>\n",
       "      <td>NC</td>\n",
       "      <td>27705-4010</td>\n",
       "      <td>UNITED STATES</td>\n",
       "      <td>NaN</td>\n",
       "      <td>NaN</td>\n",
       "      <td>47.074</td>\n",
       "      <td>2008</td>\n",
       "      <td>610071.0</td>\n",
       "      <td>NaN</td>\n",
       "      <td>1</td>\n",
       "      <td>1</td>\n",
       "      <td>610071.0</td>\n",
       "      <td>1</td>\n",
       "      <td>intellectual_merit propose project seek develo...</td>\n",
       "    </tr>\n",
       "    <tr>\n",
       "      <th>3</th>\n",
       "      <td>91397</td>\n",
       "      <td>West Nile virus re-emerges annually in urban s...</td>\n",
       "      <td>Birds; Chicago; Culicidae; Disease; Environmen...</td>\n",
       "      <td>WEST NILE VIRUS: ECO-EPIDEMIOLOGY OF DISEASE E...</td>\n",
       "      <td>NSF</td>\n",
       "      <td>NSF</td>\n",
       "      <td>NaN</td>\n",
       "      <td>0840403</td>\n",
       "      <td>9/1/2008</td>\n",
       "      <td>8/31/2012</td>\n",
       "      <td>GOLDBERG, TONY L.</td>\n",
       "      <td>BRAWN, JEFFREY; RUIZ, MARILYN; KITRON, URIEL; ...</td>\n",
       "      <td>02</td>\n",
       "      <td>003255648</td>\n",
       "      <td>UNIVERSITY OF WISCONSIN SYSTEM</td>\n",
       "      <td>MADISON</td>\n",
       "      <td>WI</td>\n",
       "      <td>53715-1218</td>\n",
       "      <td>UNITED STATES</td>\n",
       "      <td>NaN</td>\n",
       "      <td>NaN</td>\n",
       "      <td>47.074</td>\n",
       "      <td>2008</td>\n",
       "      <td>1964529.0</td>\n",
       "      <td>NaN</td>\n",
       "      <td>1</td>\n",
       "      <td>1</td>\n",
       "      <td>1964529.0</td>\n",
       "      <td>1</td>\n",
       "      <td>west_nile virus emerge annually urban setting ...</td>\n",
       "    </tr>\n",
       "    <tr>\n",
       "      <th>4</th>\n",
       "      <td>93669</td>\n",
       "      <td>About five percent of the world's population d...</td>\n",
       "      <td>Affect; Disabled Persons; Disease; Emerging Co...</td>\n",
       "      <td>RESEARCH STARTER: POPULATION DYNAMICS AND EVOL...</td>\n",
       "      <td>NSF</td>\n",
       "      <td>NSF</td>\n",
       "      <td>NaN</td>\n",
       "      <td>0804039</td>\n",
       "      <td>8/1/2008</td>\n",
       "      <td>7/31/2010</td>\n",
       "      <td>DENNEHY, JOHN J</td>\n",
       "      <td>NaN</td>\n",
       "      <td>09</td>\n",
       "      <td>064932676</td>\n",
       "      <td>RESEARCH FOUNDATION OF THE CITY UNIVERSITY OF ...</td>\n",
       "      <td>FLUSHING</td>\n",
       "      <td>NY</td>\n",
       "      <td>11367-1575</td>\n",
       "      <td>UNITED STATES</td>\n",
       "      <td>NaN</td>\n",
       "      <td>NaN</td>\n",
       "      <td>47.074</td>\n",
       "      <td>2008</td>\n",
       "      <td>67848.0</td>\n",
       "      <td>NaN</td>\n",
       "      <td>1</td>\n",
       "      <td>1</td>\n",
       "      <td>67848.0</td>\n",
       "      <td>1</td>\n",
       "      <td>percent world population die major influenza p...</td>\n",
       "    </tr>\n",
       "  </tbody>\n",
       "</table>\n",
       "</div>"
      ],
      "text/plain": [
       "  PROJECT_ID                                           ABSTRACT  \\\n",
       "0      90045  Study of Emerging Networks in Outbreak Respons...   \n",
       "1      90243  One of the products of human development and p...   \n",
       "2      90573  Intellectual merit:The proposed project seeks ...   \n",
       "3      91397  West Nile virus re-emerges annually in urban s...   \n",
       "4      93669  About five percent of the world's population d...   \n",
       "\n",
       "                                       PROJECT_TERMS  \\\n",
       "0  Arts; Communicable Diseases; Communication; Co...   \n",
       "1  Affect; Agriculture; anthropogenesis; Award; b...   \n",
       "2  base; Basic Science; Biological; Biology; Bird...   \n",
       "3  Birds; Chicago; Culicidae; Disease; Environmen...   \n",
       "4  Affect; Disabled Persons; Disease; Emerging Co...   \n",
       "\n",
       "                                       PROJECT_TITLE DEPARTMENT AGENCY  \\\n",
       "0    STUDY OF EMERGING NETWORKS IN OUTBREAK RESPONSE        NSF    NSF   \n",
       "1  HSD: COLLABORATIVE RESEARCH: HUMAN-RELATED FAC...        NSF    NSF   \n",
       "2  COMBINING ECOLOGICAL AND MOLECULAR MODELS TO U...        NSF    NSF   \n",
       "3  WEST NILE VIRUS: ECO-EPIDEMIOLOGY OF DISEASE E...        NSF    NSF   \n",
       "4  RESEARCH STARTER: POPULATION DYNAMICS AND EVOL...        NSF    NSF   \n",
       "\n",
       "  IC_CENTER PROJECT_NUMBER PROJECT_START_DATE PROJECT_END_DATE  \\\n",
       "0       NaN        0826995          9/15/2008        8/31/2012   \n",
       "1       NaN        0826779          10/1/2008        3/31/2012   \n",
       "2       NaN        0827416           9/1/2008        8/31/2011   \n",
       "3       NaN        0840403           9/1/2008        8/31/2012   \n",
       "4       NaN        0804039           8/1/2008        7/31/2010   \n",
       "\n",
       "  CONTACT_PI_PROJECT_LEADER  \\\n",
       "0       ANSELL, CHRISTOPHER   \n",
       "1             DASZAK, PETER   \n",
       "2         KOELLE, KATHARINA   \n",
       "3         GOLDBERG, TONY L.   \n",
       "4           DENNEHY, JOHN J   \n",
       "\n",
       "                                           OTHER_PIS CONGRESSIONAL_DISTRICT  \\\n",
       "0                      KELLER, ANN; REINGOLD, ARTHUR                     09   \n",
       "1                                 KILPATRICK, A MARM                     08   \n",
       "2                                                NaN                     04   \n",
       "3  BRAWN, JEFFREY; RUIZ, MARILYN; KITRON, URIEL; ...                     02   \n",
       "4                                                NaN                     09   \n",
       "\n",
       "  DUNS_NUMBER                                  ORGANIZATION_NAME  \\\n",
       "0   124726725                  UNIVERSITY OF CALIFORNIA BERKELEY   \n",
       "1   077090066                             ECOHEALTH ALLIANCE INC   \n",
       "2   044387793                                    DUKE UNIVERSITY   \n",
       "3   003255648                     UNIVERSITY OF WISCONSIN SYSTEM   \n",
       "4   064932676  RESEARCH FOUNDATION OF THE CITY UNIVERSITY OF ...   \n",
       "\n",
       "  ORGANIZATION_CITY ORGANIZATION_STATE ORGANIZATION_ZIP ORGANIZATION_COUNTRY  \\\n",
       "0          BERKELEY                 CA       94704-5940        UNITED STATES   \n",
       "1          NEW YORK                 NY       10001-2320        UNITED STATES   \n",
       "2            DURHAM                 NC       27705-4010        UNITED STATES   \n",
       "3           MADISON                 WI       53715-1218        UNITED STATES   \n",
       "4          FLUSHING                 NY       11367-1575        UNITED STATES   \n",
       "\n",
       "  BUDGET_START_DATE BUDGET_END_DATE CFDA_CODE    FY  FY_TOTAL_COST  \\\n",
       "0               NaN             NaN    47.075  2008       726706.0   \n",
       "1               NaN             NaN    47.075  2008       468673.0   \n",
       "2               NaN             NaN    47.074  2008       610071.0   \n",
       "3               NaN             NaN    47.074  2008      1964529.0   \n",
       "4               NaN             NaN    47.074  2008        67848.0   \n",
       "\n",
       "   FY_TOTAL_COST_SUB_PROJECTS  ORG_COUNT  PI_COUNT  FY_TOTAL_COST_SUM  \\\n",
       "0                         NaN          1         1           726706.0   \n",
       "1                         NaN          2         2           700001.0   \n",
       "2                         NaN          1         1           610071.0   \n",
       "3                         NaN          1         1          1964529.0   \n",
       "4                         NaN          1         1            67848.0   \n",
       "\n",
       "   NUM_RECORDS                                       final_tokens  \n",
       "0            1  study emerging networks outbreak responseprinc...  \n",
       "1            2  product human development population growth gl...  \n",
       "2            1  intellectual_merit propose project seek develo...  \n",
       "3            1  west_nile virus emerge annually urban setting ...  \n",
       "4            1  percent world population die major influenza p...  "
      ]
     },
     "execution_count": 4,
     "metadata": {},
     "output_type": "execute_result"
    }
   ],
   "source": [
    "df.head()"
   ]
  },
  {
   "cell_type": "code",
   "execution_count": 5,
   "metadata": {},
   "outputs": [],
   "source": [
    "l = [len(x) for x in df['ABSTRACT']]\n",
    "lidx = np.argsort(l)"
   ]
  },
  {
   "cell_type": "code",
   "execution_count": 31,
   "metadata": {},
   "outputs": [
    {
     "data": {
      "text/plain": [
       "'Recent reports suggest an increasing frequency of severe outcomes of influenza virus infection when people also are infected with Staphylococcus aureus. This research will investigate whether synergistic effects occur as a result of being infected with both agents, as opposed to just influenza virus or Staphylococcus aureus, by using a swine model.'"
      ]
     },
     "execution_count": 31,
     "metadata": {},
     "output_type": "execute_result"
    }
   ],
   "source": [
    "df['ABSTRACT'][lidx[38]]"
   ]
  },
  {
   "cell_type": "code",
   "execution_count": 32,
   "metadata": {},
   "outputs": [
    {
     "data": {
      "text/plain": [
       "'recent report suggest increase frequency severe outcome influenza virus infection people infect staphylococcus_aureus research investigate synergistic effect occur result infect agent oppose influenza virus staphylococcus_aureus swine model'"
      ]
     },
     "execution_count": 32,
     "metadata": {},
     "output_type": "execute_result"
    }
   ],
   "source": [
    "df['final_tokens'][lidx[38]]"
   ]
  },
  {
   "cell_type": "code",
   "execution_count": 5,
   "metadata": {},
   "outputs": [
    {
     "data": {
      "text/plain": [
       "PROJECT_ID                       0\n",
       "ABSTRACT                         0\n",
       "PROJECT_TERMS                 1046\n",
       "PROJECT_TITLE                    0\n",
       "DEPARTMENT                       0\n",
       "AGENCY                           0\n",
       "IC_CENTER                     1051\n",
       "PROJECT_NUMBER                   0\n",
       "PROJECT_START_DATE            1004\n",
       "PROJECT_END_DATE               984\n",
       "CONTACT_PI_PROJECT_LEADER      752\n",
       "OTHER_PIS                     6737\n",
       "CONGRESSIONAL_DISTRICT        1619\n",
       "DUNS_NUMBER                    270\n",
       "ORGANIZATION_NAME               15\n",
       "ORGANIZATION_CITY              976\n",
       "ORGANIZATION_STATE            1107\n",
       "ORGANIZATION_ZIP              1414\n",
       "ORGANIZATION_COUNTRY           976\n",
       "BUDGET_START_DATE             1846\n",
       "BUDGET_END_DATE               1846\n",
       "CFDA_CODE                     1331\n",
       "FY                               0\n",
       "FY_TOTAL_COST                  922\n",
       "FY_TOTAL_COST_SUB_PROJECTS    6788\n",
       "ORG_COUNT                        0\n",
       "PI_COUNT                         0\n",
       "FY_TOTAL_COST_SUM                0\n",
       "NUM_RECORDS                      0\n",
       "final_tokens                     0\n",
       "dtype: int64"
      ]
     },
     "execution_count": 5,
     "metadata": {},
     "output_type": "execute_result"
    }
   ],
   "source": [
    "df.isnull().sum()"
   ]
  },
  {
   "cell_type": "code",
   "execution_count": 6,
   "metadata": {},
   "outputs": [
    {
     "data": {
      "text/plain": [
       "PROJECT_ID                     object\n",
       "ABSTRACT                       object\n",
       "PROJECT_TERMS                  object\n",
       "PROJECT_TITLE                  object\n",
       "DEPARTMENT                     object\n",
       "AGENCY                         object\n",
       "IC_CENTER                      object\n",
       "PROJECT_NUMBER                 object\n",
       "PROJECT_START_DATE             object\n",
       "PROJECT_END_DATE               object\n",
       "CONTACT_PI_PROJECT_LEADER      object\n",
       "OTHER_PIS                      object\n",
       "CONGRESSIONAL_DISTRICT         object\n",
       "DUNS_NUMBER                    object\n",
       "ORGANIZATION_NAME              object\n",
       "ORGANIZATION_CITY              object\n",
       "ORGANIZATION_STATE             object\n",
       "ORGANIZATION_ZIP               object\n",
       "ORGANIZATION_COUNTRY           object\n",
       "BUDGET_START_DATE              object\n",
       "BUDGET_END_DATE                object\n",
       "CFDA_CODE                      object\n",
       "FY                             object\n",
       "FY_TOTAL_COST                 float64\n",
       "FY_TOTAL_COST_SUB_PROJECTS    float64\n",
       "ORG_COUNT                       int64\n",
       "PI_COUNT                        int64\n",
       "FY_TOTAL_COST_SUM             float64\n",
       "NUM_RECORDS                     int64\n",
       "final_tokens                   object\n",
       "dtype: object"
      ]
     },
     "execution_count": 6,
     "metadata": {},
     "output_type": "execute_result"
    }
   ],
   "source": [
    "df.dtypes"
   ]
  },
  {
   "cell_type": "code",
   "execution_count": null,
   "metadata": {},
   "outputs": [],
   "source": []
  },
  {
   "cell_type": "code",
   "execution_count": null,
   "metadata": {},
   "outputs": [],
   "source": []
  },
  {
   "cell_type": "markdown",
   "metadata": {},
   "source": [
    "### Descriptive statistics on corpus"
   ]
  },
  {
   "cell_type": "code",
   "execution_count": 7,
   "metadata": {},
   "outputs": [],
   "source": [
    "df[\"FY\"] = df[\"FY\"].astype('int')"
   ]
  },
  {
   "cell_type": "code",
   "execution_count": 8,
   "metadata": {},
   "outputs": [],
   "source": [
    "cb_pal = {\"blue\":'#377eb8', \"orange\":'#ff7f00', \"green\":'#4daf4a', \"pink\":'#f781bf', \"brown\":'#a65628', \n",
    "          \"purple\":'#984ea3', \"gray\":'#999999', \"red\":'#e41a1c', \"yellow\":'#dede00'}"
   ]
  },
  {
   "cell_type": "code",
   "execution_count": 9,
   "metadata": {},
   "outputs": [
    {
     "name": "stdout",
     "output_type": "stream",
     "text": [
      "2008     479\n",
      "2009     549\n",
      "2010     545\n",
      "2011     532\n",
      "2012     442\n",
      "2013     412\n",
      "2014     388\n",
      "2015     433\n",
      "2016     440\n",
      "2017     450\n",
      "2018     452\n",
      "2019     457\n",
      "2020    1992\n",
      "Name: FY, dtype: int64\n"
     ]
    }
   ],
   "source": [
    "year_counts = df[\"FY\"].value_counts().sort_index()\n",
    "print(year_counts)"
   ]
  },
  {
   "cell_type": "code",
   "execution_count": 11,
   "metadata": {},
   "outputs": [
    {
     "name": "stderr",
     "output_type": "stream",
     "text": [
      "<ipython-input-11-4f072fe5cead>:12: UserWarning: FixedFormatter should only be used together with FixedLocator\n",
      "  ax.set_yticklabels(['{:,}'.format(int(x)) for x in ax.get_yticks().tolist()])\n"
     ]
    },
    {
     "data": {
      "image/png": "[encoded data removed]",
      "text/plain": [
       "<Figure size 432x288 with 1 Axes>"
      ]
     },
     "metadata": {
      "needs_background": "light"
     },
     "output_type": "display_data"
    }
   ],
   "source": [
    "# plot\n",
    "year = year_counts.index.tolist()\n",
    "count = year_counts.values\n",
    "\n",
    "fig = plt.figure()\n",
    "ax = fig.add_subplot(111)\n",
    "ax.set_axisbelow(True)\n",
    "plt.grid(True, color = \"whitesmoke\")\n",
    "plt.bar(year, count, color='navy')\n",
    "plt.xticks(year, rotation=45)\n",
    "plt.xlim(2007.3,2020.7)\n",
    "ax.set_yticklabels(['{:,}'.format(int(x)) for x in ax.get_yticks().tolist()])\n",
    "#x_ticks = ax.xaxis.get_major_ticks()\n",
    "#x_ticks[-1].label1.set_visible(False)\n",
    "plt.xlabel(\"FY\")\n",
    "plt.ylabel(\"Number of Projects\")\n",
    "plt.title(\"Pandemics Corpus: Project Frequency by FY\");\n",
    "\n",
    "plt.savefig(\"./figures/pan_startyr_freq.png\", dpi = 800, bbox_inches = \"tight\")\n",
    "plt.savefig(\"./figures/pan_startyr_freq.pdf\", dpi = 800, bbox_inches = \"tight\")"
   ]
  },
  {
   "cell_type": "code",
   "execution_count": null,
   "metadata": {},
   "outputs": [],
   "source": []
  },
  {
   "cell_type": "code",
   "execution_count": 11,
   "metadata": {},
   "outputs": [
    {
     "name": "stdout",
     "output_type": "stream",
     "text": [
      "HHS     6473\n",
      "NSF      869\n",
      "USDA     189\n",
      "DOD       24\n",
      "VA        11\n",
      "NASA       3\n",
      "EPA        2\n",
      "Name: DEPARTMENT, dtype: int64\n"
     ]
    }
   ],
   "source": [
    "agency_counts = df[\"DEPARTMENT\"].value_counts()\n",
    "print(agency_counts)"
   ]
  },
  {
   "cell_type": "code",
   "execution_count": 12,
   "metadata": {},
   "outputs": [
    {
     "data": {
      "text/plain": [
       "['HHS', 'NSF', 'USDA', 'DOD', 'VA', 'NASA', 'EPA']"
      ]
     },
     "execution_count": 12,
     "metadata": {},
     "output_type": "execute_result"
    }
   ],
   "source": [
    "agency_counts.index.tolist()"
   ]
  },
  {
   "cell_type": "code",
   "execution_count": 40,
   "metadata": {},
   "outputs": [
    {
     "data": {
      "image/png": "[encoded data removed]",
      "text/plain": [
       "<Figure size 432x288 with 1 Axes>"
      ]
     },
     "metadata": {
      "needs_background": "light"
     },
     "output_type": "display_data"
    }
   ],
   "source": [
    "# plot\n",
    "agency = agency_counts.index.tolist()\n",
    "pct = 100*agency_counts.values/len(df)\n",
    "\n",
    "#reload(plt)\n",
    "fig = plt.figure()\n",
    "ax = fig.add_subplot(111)\n",
    "ax.set_axisbelow(True)\n",
    "plt.grid(True, color = \"whitesmoke\")\n",
    "plt.bar(agency, pct, color=cb_pal['blue'])\n",
    "#plt.xticks(agency, rotation=45)\n",
    "plt.xlabel(\"Agency\", fontsize = 14)\n",
    "plt.ylabel(\"Percent of Dataset\", fontsize = 14)\n",
    "plt.title(\"Project Distribution by Funding Agency\", fontsize = 18);\n",
    "\n",
    "#plt.savefig(\"./figures/OECD/pan_agency_dist.png\", dpi = 800, bbox_inches = \"tight\")\n",
    "#plt.savefig(\"./figures/OECD/pan_agency_dist.pdf\", dpi = 800, bbox_inches = \"tight\")"
   ]
  },
  {
   "cell_type": "code",
   "execution_count": null,
   "metadata": {},
   "outputs": [],
   "source": []
  },
  {
   "cell_type": "code",
   "execution_count": 15,
   "metadata": {},
   "outputs": [
    {
     "data": {
      "text/plain": [
       "DEPARTMENT  FY  \n",
       "DOD         2009       1\n",
       "            2013       2\n",
       "            2014       2\n",
       "            2016       3\n",
       "            2017      11\n",
       "            2018       5\n",
       "EPA         2012       1\n",
       "            2015       1\n",
       "HHS         2008     447\n",
       "            2009     505\n",
       "            2010     512\n",
       "            2011     502\n",
       "            2012     412\n",
       "            2013     390\n",
       "            2014     368\n",
       "            2015     394\n",
       "            2016     414\n",
       "            2017     417\n",
       "            2018     430\n",
       "            2019     439\n",
       "            2020    1243\n",
       "NASA        2009       1\n",
       "            2012       1\n",
       "            2015       1\n",
       "NSF         2008      15\n",
       "            2009      17\n",
       "            2010      14\n",
       "            2011      10\n",
       "            2012       9\n",
       "            2013       6\n",
       "            2014       5\n",
       "            2015      19\n",
       "            2016      11\n",
       "            2017       8\n",
       "            2018       3\n",
       "            2019       5\n",
       "            2020     747\n",
       "USDA        2008      17\n",
       "            2009      24\n",
       "            2010      19\n",
       "            2011      19\n",
       "            2012      18\n",
       "            2013      13\n",
       "            2014      13\n",
       "            2015      16\n",
       "            2016      12\n",
       "            2017      13\n",
       "            2018      13\n",
       "            2019      12\n",
       "VA          2009       1\n",
       "            2011       1\n",
       "            2012       1\n",
       "            2013       1\n",
       "            2015       2\n",
       "            2017       1\n",
       "            2018       1\n",
       "            2019       1\n",
       "            2020       2\n",
       "dtype: int64"
      ]
     },
     "execution_count": 15,
     "metadata": {},
     "output_type": "execute_result"
    }
   ],
   "source": [
    "df.pivot_table(index=['DEPARTMENT','FY'], aggfunc='size')"
   ]
  },
  {
   "cell_type": "code",
   "execution_count": null,
   "metadata": {},
   "outputs": [],
   "source": []
  },
  {
   "cell_type": "code",
   "execution_count": 16,
   "metadata": {},
   "outputs": [
    {
     "data": {
      "text/html": [
       "<div>\n",
       "<style scoped>\n",
       "    .dataframe tbody tr th:only-of-type {\n",
       "        vertical-align: middle;\n",
       "    }\n",
       "\n",
       "    .dataframe tbody tr th {\n",
       "        vertical-align: top;\n",
       "    }\n",
       "\n",
       "    .dataframe thead th {\n",
       "        text-align: right;\n",
       "    }\n",
       "</style>\n",
       "<table border=\"1\" class=\"dataframe\">\n",
       "  <thead>\n",
       "    <tr style=\"text-align: right;\">\n",
       "      <th></th>\n",
       "      <th>COST</th>\n",
       "      <th>NUM_PROJECTS</th>\n",
       "    </tr>\n",
       "    <tr>\n",
       "      <th>FY</th>\n",
       "      <th></th>\n",
       "      <th></th>\n",
       "    </tr>\n",
       "  </thead>\n",
       "  <tbody>\n",
       "    <tr>\n",
       "      <th>2008</th>\n",
       "      <td>2.726033e+08</td>\n",
       "      <td>479</td>\n",
       "    </tr>\n",
       "    <tr>\n",
       "      <th>2009</th>\n",
       "      <td>3.635090e+08</td>\n",
       "      <td>549</td>\n",
       "    </tr>\n",
       "    <tr>\n",
       "      <th>2010</th>\n",
       "      <td>3.590730e+08</td>\n",
       "      <td>545</td>\n",
       "    </tr>\n",
       "    <tr>\n",
       "      <th>2011</th>\n",
       "      <td>3.820779e+08</td>\n",
       "      <td>532</td>\n",
       "    </tr>\n",
       "    <tr>\n",
       "      <th>2012</th>\n",
       "      <td>2.931471e+08</td>\n",
       "      <td>442</td>\n",
       "    </tr>\n",
       "    <tr>\n",
       "      <th>2013</th>\n",
       "      <td>2.812850e+08</td>\n",
       "      <td>412</td>\n",
       "    </tr>\n",
       "    <tr>\n",
       "      <th>2014</th>\n",
       "      <td>2.317233e+08</td>\n",
       "      <td>388</td>\n",
       "    </tr>\n",
       "    <tr>\n",
       "      <th>2015</th>\n",
       "      <td>2.638013e+08</td>\n",
       "      <td>433</td>\n",
       "    </tr>\n",
       "    <tr>\n",
       "      <th>2016</th>\n",
       "      <td>3.236039e+08</td>\n",
       "      <td>440</td>\n",
       "    </tr>\n",
       "    <tr>\n",
       "      <th>2017</th>\n",
       "      <td>3.534264e+08</td>\n",
       "      <td>450</td>\n",
       "    </tr>\n",
       "    <tr>\n",
       "      <th>2018</th>\n",
       "      <td>3.771801e+08</td>\n",
       "      <td>452</td>\n",
       "    </tr>\n",
       "    <tr>\n",
       "      <th>2019</th>\n",
       "      <td>4.041269e+08</td>\n",
       "      <td>457</td>\n",
       "    </tr>\n",
       "    <tr>\n",
       "      <th>2020</th>\n",
       "      <td>2.636214e+09</td>\n",
       "      <td>1992</td>\n",
       "    </tr>\n",
       "  </tbody>\n",
       "</table>\n",
       "</div>"
      ],
      "text/plain": [
       "              COST  NUM_PROJECTS\n",
       "FY                              \n",
       "2008  2.726033e+08           479\n",
       "2009  3.635090e+08           549\n",
       "2010  3.590730e+08           545\n",
       "2011  3.820779e+08           532\n",
       "2012  2.931471e+08           442\n",
       "2013  2.812850e+08           412\n",
       "2014  2.317233e+08           388\n",
       "2015  2.638013e+08           433\n",
       "2016  3.236039e+08           440\n",
       "2017  3.534264e+08           450\n",
       "2018  3.771801e+08           452\n",
       "2019  4.041269e+08           457\n",
       "2020  2.636214e+09          1992"
      ]
     },
     "execution_count": 16,
     "metadata": {},
     "output_type": "execute_result"
    }
   ],
   "source": [
    "dollars_by_year = df.groupby(['FY']).agg(COST = ('FY_TOTAL_COST_SUM', 'sum'),\n",
    "                                        NUM_PROJECTS = ('PROJECT_ID', 'count'))\n",
    "dollars_by_year"
   ]
  },
  {
   "cell_type": "code",
   "execution_count": 17,
   "metadata": {},
   "outputs": [
    {
     "data": {
      "image/png": "[encoded data removed]",
      "text/plain": [
       "<Figure size 432x288 with 1 Axes>"
      ]
     },
     "metadata": {
      "needs_background": "light"
     },
     "output_type": "display_data"
    }
   ],
   "source": [
    "# plot\n",
    "year = dollars_by_year.index.tolist()\n",
    "dollars = dollars_by_year['COST'].values/1000000000\n",
    "\n",
    "fig = plt.figure()\n",
    "ax = fig.add_subplot(111)\n",
    "ax.set_axisbelow(True)\n",
    "plt.grid(True, color = \"whitesmoke\")\n",
    "plt.bar(year, dollars, color='navy')\n",
    "plt.xticks(year, rotation=45)\n",
    "plt.xlim(2007.3,2020.7)\n",
    "#x_ticks = ax.xaxis.get_major_ticks()\n",
    "#x_ticks[-1].label1.set_visible(False)\n",
    "plt.xlabel(\"FY\")\n",
    "plt.ylabel(\"Total Projects Cost (billions of dollars)\")\n",
    "plt.title(\"Pandemics Corpus: Total Projects Cost by FY\");\n",
    "\n",
    "#plt.savefig(\"./figures/pan_cost_by_yr.png\", dpi = 800, bbox_inches = \"tight\")\n",
    "#plt.savefig(\"./figures/pan_cost_by_yr.pdf\", dpi = 800, bbox_inches = \"tight\")"
   ]
  },
  {
   "cell_type": "code",
   "execution_count": 18,
   "metadata": {},
   "outputs": [
    {
     "data": {
      "text/plain": [
       "FY\n",
       "2008    5.691091e+05\n",
       "2009    6.621294e+05\n",
       "2010    6.588495e+05\n",
       "2011    7.181915e+05\n",
       "2012    6.632287e+05\n",
       "2013    6.827306e+05\n",
       "2014    5.972249e+05\n",
       "2015    6.092408e+05\n",
       "2016    7.354635e+05\n",
       "2017    7.853920e+05\n",
       "2018    8.344693e+05\n",
       "2019    8.843039e+05\n",
       "2020    1.323401e+06\n",
       "dtype: float64"
      ]
     },
     "execution_count": 18,
     "metadata": {},
     "output_type": "execute_result"
    }
   ],
   "source": [
    "dollars_by_year['COST']/dollars_by_year['NUM_PROJECTS']"
   ]
  },
  {
   "cell_type": "code",
   "execution_count": 39,
   "metadata": {},
   "outputs": [
    {
     "data": {
      "image/png": "[encoded data removed]",
      "text/plain": [
       "<Figure size 432x288 with 1 Axes>"
      ]
     },
     "metadata": {
      "needs_background": "light"
     },
     "output_type": "display_data"
    }
   ],
   "source": [
    "# plot\n",
    "year = dollars_by_year.index.tolist()\n",
    "avg_cost = (dollars_by_year['COST']/dollars_by_year['NUM_PROJECTS']).values/1000000\n",
    "\n",
    "fig = plt.figure()\n",
    "ax = fig.add_subplot(111)\n",
    "ax.set_axisbelow(True)\n",
    "plt.grid(True, color = \"whitesmoke\")\n",
    "plt.bar(year, avg_cost, color=cb_pal['blue'])\n",
    "plt.xticks(year, rotation=45)\n",
    "plt.xlim(2007.3,2020.7)\n",
    "#x_ticks = ax.xaxis.get_major_ticks()\n",
    "#x_ticks[-1].label1.set_visible(False)\n",
    "plt.xlabel(\"FY\", fontsize=14)\n",
    "plt.ylabel(\"Average Project Cost\", fontsize = 14)\n",
    "plt.title(\"Average Project Cost (millions)\", fontsize = 18);\n",
    "\n",
    "plt.savefig(\"./figures/OECD/pan_avgcost_by_yr.png\", dpi = 800, bbox_inches = \"tight\")\n",
    "plt.savefig(\"./figures/OECD/pan_avgcost_by_yr.pdf\", dpi = 800, bbox_inches = \"tight\")"
   ]
  },
  {
   "cell_type": "code",
   "execution_count": null,
   "metadata": {},
   "outputs": [],
   "source": []
  },
  {
   "cell_type": "code",
   "execution_count": 44,
   "metadata": {},
   "outputs": [
    {
     "data": {
      "image/png": "[encoded data removed]",
      "text/plain": [
       "<Figure size 432x288 with 2 Axes>"
      ]
     },
     "metadata": {
      "needs_background": "light"
     },
     "output_type": "display_data"
    }
   ],
   "source": [
    "# number of projects and cost\n",
    "\n",
    "year = dollars_by_year.index.tolist()\n",
    "dollars = dollars_by_year['COST'].values/1000000000\n",
    "count = dollars_by_year['NUM_PROJECTS'].values\n",
    "\n",
    "fig, ax1 = plt.subplots()\n",
    "\n",
    "ax1.set_axisbelow(True)\n",
    "plt.grid(True, color = \"whitesmoke\")\n",
    "ax1.bar(year, count, color=cb_pal['blue'], linewidth = 6)\n",
    "ax1.set_xlabel('Fiscal Year (FY)', fontsize = 14)\n",
    "ax1.set_ylabel('Number of Projects', color=cb_pal['blue'], fontsize = 14)\n",
    "plt.xticks(year, rotation=45)\n",
    "plt.xlim(2007.3,2020.7)\n",
    "#x_ticks = ax.xaxis.get_major_ticks()\n",
    "#x_ticks[-1].label1.set_visible(False)\n",
    "\n",
    "ax2 = ax1.twinx()  # instantiate a second axes that shares the same x-axis\n",
    "ax2.set_ylabel('Total Funding', color=cb_pal['green'], fontsize = 14)  # we already handled the x-label with ax1\n",
    "ax2.plot(year, dollars, color=cb_pal['green'], linewidth = 6)\n",
    "#ax2.set_ylim(0,47)\n",
    "#ax2.tick_params(axis='y')\n",
    "\n",
    "plt.title(\"Project Frequency and Total Funding (billions)\", fontsize=14);\n",
    "\n",
    "fig.tight_layout()  # otherwise the right y-label is slightly clipped\n",
    "\n",
    "plt.savefig(\"./figures/OECD/pan_numproj_cost.png\", dpi = 800, bbox_inches = \"tight\")\n",
    "plt.savefig(\"./figures/OECD/pan_numproj_cost.pdf\", dpi = 800, bbox_inches = \"tight\")"
   ]
  },
  {
   "cell_type": "code",
   "execution_count": null,
   "metadata": {},
   "outputs": [],
   "source": []
  },
  {
   "cell_type": "code",
   "execution_count": 30,
   "metadata": {},
   "outputs": [
    {
     "data": {
      "text/html": [
       "<div>\n",
       "<style scoped>\n",
       "    .dataframe tbody tr th:only-of-type {\n",
       "        vertical-align: middle;\n",
       "    }\n",
       "\n",
       "    .dataframe tbody tr th {\n",
       "        vertical-align: top;\n",
       "    }\n",
       "\n",
       "    .dataframe thead th {\n",
       "        text-align: right;\n",
       "    }\n",
       "</style>\n",
       "<table border=\"1\" class=\"dataframe\">\n",
       "  <thead>\n",
       "    <tr style=\"text-align: right;\">\n",
       "      <th></th>\n",
       "      <th>COST</th>\n",
       "      <th>NUM_PROJECTS</th>\n",
       "    </tr>\n",
       "    <tr>\n",
       "      <th>DEPARTMENT</th>\n",
       "      <th></th>\n",
       "      <th></th>\n",
       "    </tr>\n",
       "  </thead>\n",
       "  <tbody>\n",
       "    <tr>\n",
       "      <th>DOD</th>\n",
       "      <td>5.465269e+07</td>\n",
       "      <td>24</td>\n",
       "    </tr>\n",
       "    <tr>\n",
       "      <th>EPA</th>\n",
       "      <td>8.760000e+05</td>\n",
       "      <td>2</td>\n",
       "    </tr>\n",
       "    <tr>\n",
       "      <th>HHS</th>\n",
       "      <td>6.140043e+09</td>\n",
       "      <td>6473</td>\n",
       "    </tr>\n",
       "    <tr>\n",
       "      <th>NASA</th>\n",
       "      <td>6.073750e+05</td>\n",
       "      <td>3</td>\n",
       "    </tr>\n",
       "    <tr>\n",
       "      <th>NSF</th>\n",
       "      <td>2.650338e+08</td>\n",
       "      <td>869</td>\n",
       "    </tr>\n",
       "    <tr>\n",
       "      <th>USDA</th>\n",
       "      <td>8.055860e+07</td>\n",
       "      <td>189</td>\n",
       "    </tr>\n",
       "    <tr>\n",
       "      <th>VA</th>\n",
       "      <td>0.000000e+00</td>\n",
       "      <td>11</td>\n",
       "    </tr>\n",
       "  </tbody>\n",
       "</table>\n",
       "</div>"
      ],
      "text/plain": [
       "                    COST  NUM_PROJECTS\n",
       "DEPARTMENT                            \n",
       "DOD         5.465269e+07            24\n",
       "EPA         8.760000e+05             2\n",
       "HHS         6.140043e+09          6473\n",
       "NASA        6.073750e+05             3\n",
       "NSF         2.650338e+08           869\n",
       "USDA        8.055860e+07           189\n",
       "VA          0.000000e+00            11"
      ]
     },
     "execution_count": 30,
     "metadata": {},
     "output_type": "execute_result"
    }
   ],
   "source": [
    "dollars_by_agency = df.groupby(['DEPARTMENT']).agg(COST = ('FY_TOTAL_COST_SUM', 'sum'),\n",
    "                                        NUM_PROJECTS = ('PROJECT_ID', 'count'))\n",
    "dollars_by_agency"
   ]
  },
  {
   "cell_type": "code",
   "execution_count": null,
   "metadata": {},
   "outputs": [],
   "source": []
  }
 ],
 "metadata": {
  "kernelspec": {
   "display_name": "Python 3.8",
   "language": "python",
   "name": "python-3.8"
  },
  "language_info": {
   "codemirror_mode": {
    "name": "ipython",
    "version": 3
   },
   "file_extension": ".py",
   "mimetype": "text/x-python",
   "name": "python",
   "nbconvert_exporter": "python",
   "pygments_lexer": "ipython3",
   "version": "3.8.8"
  }
 },
 "nbformat": 4,
 "nbformat_minor": 4
}
