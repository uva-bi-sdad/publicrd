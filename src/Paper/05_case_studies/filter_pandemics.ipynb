{
 "cells": [
  {
   "cell_type": "markdown",
   "metadata": {},
   "source": [
    "# Information Retrieval - Corpus Filtering  \n",
    "This notebook retrieves abstracts relevant to pandemics and then uses topic modeling to analyze the chosen abstracts.  Two info retrieval techniques are used: Literal Term Matching and Latent Semantic Indexing.  These are linear algebra techniques.  \n",
    "We use the Scikit-Learn library."
   ]
  },
  {
   "cell_type": "code",
   "execution_count": 1,
   "metadata": {},
   "outputs": [],
   "source": [
    "import pandas as pd\n",
    "pd.set_option('display.max_columns', 50)\n",
    "\n",
    "import numpy as np\n",
    "import pickle\n",
    "import matplotlib.pyplot as plt\n",
    "import time\n",
    "\n",
    "from sklearn.decomposition import NMF, TruncatedSVD\n",
    "from sklearn.feature_extraction.text import CountVectorizer\n",
    "from sklearn.feature_extraction.text import TfidfVectorizer\n",
    "\n",
    "from sklearn.metrics.pairwise import cosine_similarity"
   ]
  },
  {
   "cell_type": "code",
   "execution_count": null,
   "metadata": {},
   "outputs": [],
   "source": []
  },
  {
   "cell_type": "code",
   "execution_count": 2,
   "metadata": {},
   "outputs": [],
   "source": [
    "# pull in data\n",
    "df = pd.read_pickle(\"../../../data/prd/Paper/FR_meta_and_final_tokens_23DEC21.pkl\")\n",
    "df.reset_index(inplace = True, drop = True)"
   ]
  },
  {
   "cell_type": "code",
   "execution_count": 3,
   "metadata": {},
   "outputs": [
    {
     "data": {
      "text/html": [
       "<div>\n",
       "<style scoped>\n",
       "    .dataframe tbody tr th:only-of-type {\n",
       "        vertical-align: middle;\n",
       "    }\n",
       "\n",
       "    .dataframe tbody tr th {\n",
       "        vertical-align: top;\n",
       "    }\n",
       "\n",
       "    .dataframe thead th {\n",
       "        text-align: right;\n",
       "    }\n",
       "</style>\n",
       "<table border=\"1\" class=\"dataframe\">\n",
       "  <thead>\n",
       "    <tr style=\"text-align: right;\">\n",
       "      <th></th>\n",
       "      <th>PROJECT_ID</th>\n",
       "      <th>ABSTRACT</th>\n",
       "      <th>PROJECT_TERMS</th>\n",
       "      <th>PROJECT_TITLE</th>\n",
       "      <th>DEPARTMENT</th>\n",
       "      <th>AGENCY</th>\n",
       "      <th>IC_CENTER</th>\n",
       "      <th>PROJECT_NUMBER</th>\n",
       "      <th>PROJECT_START_DATE</th>\n",
       "      <th>PROJECT_END_DATE</th>\n",
       "      <th>CONTACT_PI_PROJECT_LEADER</th>\n",
       "      <th>OTHER_PIS</th>\n",
       "      <th>CONGRESSIONAL_DISTRICT</th>\n",
       "      <th>DUNS_NUMBER</th>\n",
       "      <th>ORGANIZATION_NAME</th>\n",
       "      <th>ORGANIZATION_CITY</th>\n",
       "      <th>ORGANIZATION_STATE</th>\n",
       "      <th>ORGANIZATION_ZIP</th>\n",
       "      <th>ORGANIZATION_COUNTRY</th>\n",
       "      <th>BUDGET_START_DATE</th>\n",
       "      <th>BUDGET_END_DATE</th>\n",
       "      <th>CFDA_CODE</th>\n",
       "      <th>FY</th>\n",
       "      <th>FY_TOTAL_COST</th>\n",
       "      <th>FY_TOTAL_COST_SUB_PROJECTS</th>\n",
       "      <th>ORG_COUNT</th>\n",
       "      <th>PI_COUNT</th>\n",
       "      <th>FY_TOTAL_COST_SUM</th>\n",
       "      <th>NUM_RECORDS</th>\n",
       "      <th>final_tokens</th>\n",
       "    </tr>\n",
       "  </thead>\n",
       "  <tbody>\n",
       "    <tr>\n",
       "      <th>0</th>\n",
       "      <td>89996</td>\n",
       "      <td>This is a project to explore Game-based, Metap...</td>\n",
       "      <td>Achievement; analog; base; Cognitive Science; ...</td>\n",
       "      <td>RUI: CYGAMES: CYBER-ENABLED TEACHING AND LEARN...</td>\n",
       "      <td>NSF</td>\n",
       "      <td>NSF</td>\n",
       "      <td>NaN</td>\n",
       "      <td>0814512</td>\n",
       "      <td>9/15/2008</td>\n",
       "      <td>8/31/2012</td>\n",
       "      <td>REESE, DEBBIE D</td>\n",
       "      <td>CARTER, BEVERLY; WOOD, CHARLES; HITT, BEN</td>\n",
       "      <td>01</td>\n",
       "      <td>068719400</td>\n",
       "      <td>WHEELING JESUIT UNIVERSITY</td>\n",
       "      <td>WHEELING</td>\n",
       "      <td>WV</td>\n",
       "      <td>26003-6243</td>\n",
       "      <td>UNITED STATES</td>\n",
       "      <td>NaN</td>\n",
       "      <td>NaN</td>\n",
       "      <td>47.076</td>\n",
       "      <td>2008</td>\n",
       "      <td>1999467.0</td>\n",
       "      <td>NaN</td>\n",
       "      <td>1</td>\n",
       "      <td>1</td>\n",
       "      <td>1999467.0</td>\n",
       "      <td>1</td>\n",
       "      <td>project explore game base metaphor enhanced ga...</td>\n",
       "    </tr>\n",
       "    <tr>\n",
       "      <th>1</th>\n",
       "      <td>89997</td>\n",
       "      <td>Institution: Franklin Institute Science Museum...</td>\n",
       "      <td>Active Learning; Child; Computer software; des...</td>\n",
       "      <td>ARIEL - AUGMENTED REALITY FOR INTERPRETIVE AND...</td>\n",
       "      <td>NSF</td>\n",
       "      <td>NSF</td>\n",
       "      <td>NaN</td>\n",
       "      <td>0741659</td>\n",
       "      <td>9/15/2008</td>\n",
       "      <td>8/31/2012</td>\n",
       "      <td>SNYDER, STEVEN</td>\n",
       "      <td>ELINICH, KAREN; YOON, SUSAN</td>\n",
       "      <td>02</td>\n",
       "      <td>001741859</td>\n",
       "      <td>FRANKLIN INSTITUTE</td>\n",
       "      <td>PHILADELPHIA</td>\n",
       "      <td>PA</td>\n",
       "      <td>19103-1115</td>\n",
       "      <td>UNITED STATES</td>\n",
       "      <td>NaN</td>\n",
       "      <td>NaN</td>\n",
       "      <td>47.076</td>\n",
       "      <td>2008</td>\n",
       "      <td>1799699.0</td>\n",
       "      <td>NaN</td>\n",
       "      <td>1</td>\n",
       "      <td>1</td>\n",
       "      <td>1799699.0</td>\n",
       "      <td>1</td>\n",
       "      <td>institution franklin institute science museum ...</td>\n",
       "    </tr>\n",
       "    <tr>\n",
       "      <th>2</th>\n",
       "      <td>89998</td>\n",
       "      <td>Through programs (including small group conver...</td>\n",
       "      <td>Address; Age; Birth; Brain; Caregivers; Child;...</td>\n",
       "      <td>BRIGHTER FUTURES: PUBLIC DELIBERATION ABOUT TH...</td>\n",
       "      <td>NSF</td>\n",
       "      <td>NSF</td>\n",
       "      <td>NaN</td>\n",
       "      <td>0813522</td>\n",
       "      <td>9/15/2008</td>\n",
       "      <td>8/31/2011</td>\n",
       "      <td>FINK, LAURIE KLEINBAUM</td>\n",
       "      <td>CADIGAN, KAREN; ELLENBOGEN, KIRSTEN</td>\n",
       "      <td>04</td>\n",
       "      <td>061451670</td>\n",
       "      <td>SCIENCE MUSEUM OF MINNESOTA</td>\n",
       "      <td>SAINT PAUL</td>\n",
       "      <td>MN</td>\n",
       "      <td>55102-1202</td>\n",
       "      <td>UNITED STATES</td>\n",
       "      <td>NaN</td>\n",
       "      <td>NaN</td>\n",
       "      <td>47.076</td>\n",
       "      <td>2008</td>\n",
       "      <td>1505858.0</td>\n",
       "      <td>NaN</td>\n",
       "      <td>1</td>\n",
       "      <td>1</td>\n",
       "      <td>1505858.0</td>\n",
       "      <td>1</td>\n",
       "      <td>program include small group conversation citiz...</td>\n",
       "    </tr>\n",
       "    <tr>\n",
       "      <th>3</th>\n",
       "      <td>89999</td>\n",
       "      <td>In partnership with the American Chemical Soci...</td>\n",
       "      <td>Advanced Development; American; Chemicals; Che...</td>\n",
       "      <td>FOSTERING US-INTERNATIONAL COLLABORATIVE PARTN...</td>\n",
       "      <td>NSF</td>\n",
       "      <td>NSF</td>\n",
       "      <td>NaN</td>\n",
       "      <td>0838627</td>\n",
       "      <td>8/1/2008</td>\n",
       "      <td>12/31/2010</td>\n",
       "      <td>JOST, JOHN W</td>\n",
       "      <td>MILLER, BRADLEY; BOWMAN, KATHERINE</td>\n",
       "      <td>04</td>\n",
       "      <td>009059242</td>\n",
       "      <td>INTERNATIONAL UNION OF PURE AND APPLIED CHEMISTRY</td>\n",
       "      <td>DURHAM</td>\n",
       "      <td>NC</td>\n",
       "      <td>27709-3757</td>\n",
       "      <td>UNITED STATES</td>\n",
       "      <td>NaN</td>\n",
       "      <td>NaN</td>\n",
       "      <td>47.049</td>\n",
       "      <td>2008</td>\n",
       "      <td>51000.0</td>\n",
       "      <td>NaN</td>\n",
       "      <td>1</td>\n",
       "      <td>1</td>\n",
       "      <td>51000.0</td>\n",
       "      <td>1</td>\n",
       "      <td>partnership american chemical society acs nati...</td>\n",
       "    </tr>\n",
       "    <tr>\n",
       "      <th>4</th>\n",
       "      <td>90001</td>\n",
       "      <td>The Center for Molecular Interfacing (CMI) wil...</td>\n",
       "      <td>Address; Architecture; Carbon Nanotubes; Catal...</td>\n",
       "      <td>CCI PHASE I: CENTER FOR MOLECULAR INTERFACING</td>\n",
       "      <td>NSF</td>\n",
       "      <td>NSF</td>\n",
       "      <td>NaN</td>\n",
       "      <td>0847926</td>\n",
       "      <td>10/1/2008</td>\n",
       "      <td>9/30/2011</td>\n",
       "      <td>ABRUNA, HECTOR D</td>\n",
       "      <td>NaN</td>\n",
       "      <td>22</td>\n",
       "      <td>872612445</td>\n",
       "      <td>CORNELL UNIVERSITY ITHACA</td>\n",
       "      <td>ITHACA</td>\n",
       "      <td>NY</td>\n",
       "      <td>14850-2820</td>\n",
       "      <td>UNITED STATES</td>\n",
       "      <td>NaN</td>\n",
       "      <td>NaN</td>\n",
       "      <td>47.049</td>\n",
       "      <td>2008</td>\n",
       "      <td>1519821.0</td>\n",
       "      <td>NaN</td>\n",
       "      <td>1</td>\n",
       "      <td>1</td>\n",
       "      <td>1519821.0</td>\n",
       "      <td>1</td>\n",
       "      <td>center molecular interfacing cmi enable integr...</td>\n",
       "    </tr>\n",
       "  </tbody>\n",
       "</table>\n",
       "</div>"
      ],
      "text/plain": [
       "  PROJECT_ID                                           ABSTRACT  \\\n",
       "0      89996  This is a project to explore Game-based, Metap...   \n",
       "1      89997  Institution: Franklin Institute Science Museum...   \n",
       "2      89998  Through programs (including small group conver...   \n",
       "3      89999  In partnership with the American Chemical Soci...   \n",
       "4      90001  The Center for Molecular Interfacing (CMI) wil...   \n",
       "\n",
       "                                       PROJECT_TERMS  \\\n",
       "0  Achievement; analog; base; Cognitive Science; ...   \n",
       "1  Active Learning; Child; Computer software; des...   \n",
       "2  Address; Age; Birth; Brain; Caregivers; Child;...   \n",
       "3  Advanced Development; American; Chemicals; Che...   \n",
       "4  Address; Architecture; Carbon Nanotubes; Catal...   \n",
       "\n",
       "                                       PROJECT_TITLE DEPARTMENT AGENCY  \\\n",
       "0  RUI: CYGAMES: CYBER-ENABLED TEACHING AND LEARN...        NSF    NSF   \n",
       "1  ARIEL - AUGMENTED REALITY FOR INTERPRETIVE AND...        NSF    NSF   \n",
       "2  BRIGHTER FUTURES: PUBLIC DELIBERATION ABOUT TH...        NSF    NSF   \n",
       "3  FOSTERING US-INTERNATIONAL COLLABORATIVE PARTN...        NSF    NSF   \n",
       "4      CCI PHASE I: CENTER FOR MOLECULAR INTERFACING        NSF    NSF   \n",
       "\n",
       "  IC_CENTER PROJECT_NUMBER PROJECT_START_DATE PROJECT_END_DATE  \\\n",
       "0       NaN        0814512          9/15/2008        8/31/2012   \n",
       "1       NaN        0741659          9/15/2008        8/31/2012   \n",
       "2       NaN        0813522          9/15/2008        8/31/2011   \n",
       "3       NaN        0838627           8/1/2008       12/31/2010   \n",
       "4       NaN        0847926          10/1/2008        9/30/2011   \n",
       "\n",
       "  CONTACT_PI_PROJECT_LEADER                                  OTHER_PIS  \\\n",
       "0           REESE, DEBBIE D  CARTER, BEVERLY; WOOD, CHARLES; HITT, BEN   \n",
       "1            SNYDER, STEVEN                ELINICH, KAREN; YOON, SUSAN   \n",
       "2    FINK, LAURIE KLEINBAUM        CADIGAN, KAREN; ELLENBOGEN, KIRSTEN   \n",
       "3              JOST, JOHN W         MILLER, BRADLEY; BOWMAN, KATHERINE   \n",
       "4          ABRUNA, HECTOR D                                        NaN   \n",
       "\n",
       "  CONGRESSIONAL_DISTRICT DUNS_NUMBER  \\\n",
       "0                     01   068719400   \n",
       "1                     02   001741859   \n",
       "2                     04   061451670   \n",
       "3                     04   009059242   \n",
       "4                     22   872612445   \n",
       "\n",
       "                                   ORGANIZATION_NAME ORGANIZATION_CITY  \\\n",
       "0                         WHEELING JESUIT UNIVERSITY          WHEELING   \n",
       "1                                 FRANKLIN INSTITUTE      PHILADELPHIA   \n",
       "2                        SCIENCE MUSEUM OF MINNESOTA        SAINT PAUL   \n",
       "3  INTERNATIONAL UNION OF PURE AND APPLIED CHEMISTRY            DURHAM   \n",
       "4                          CORNELL UNIVERSITY ITHACA            ITHACA   \n",
       "\n",
       "  ORGANIZATION_STATE ORGANIZATION_ZIP ORGANIZATION_COUNTRY BUDGET_START_DATE  \\\n",
       "0                 WV       26003-6243        UNITED STATES               NaN   \n",
       "1                 PA       19103-1115        UNITED STATES               NaN   \n",
       "2                 MN       55102-1202        UNITED STATES               NaN   \n",
       "3                 NC       27709-3757        UNITED STATES               NaN   \n",
       "4                 NY       14850-2820        UNITED STATES               NaN   \n",
       "\n",
       "  BUDGET_END_DATE CFDA_CODE    FY  FY_TOTAL_COST  FY_TOTAL_COST_SUB_PROJECTS  \\\n",
       "0             NaN    47.076  2008      1999467.0                         NaN   \n",
       "1             NaN    47.076  2008      1799699.0                         NaN   \n",
       "2             NaN    47.076  2008      1505858.0                         NaN   \n",
       "3             NaN    47.049  2008        51000.0                         NaN   \n",
       "4             NaN    47.049  2008      1519821.0                         NaN   \n",
       "\n",
       "   ORG_COUNT  PI_COUNT  FY_TOTAL_COST_SUM  NUM_RECORDS  \\\n",
       "0          1         1          1999467.0            1   \n",
       "1          1         1          1799699.0            1   \n",
       "2          1         1          1505858.0            1   \n",
       "3          1         1            51000.0            1   \n",
       "4          1         1          1519821.0            1   \n",
       "\n",
       "                                        final_tokens  \n",
       "0  project explore game base metaphor enhanced ga...  \n",
       "1  institution franklin institute science museum ...  \n",
       "2  program include small group conversation citiz...  \n",
       "3  partnership american chemical society acs nati...  \n",
       "4  center molecular interfacing cmi enable integr...  "
      ]
     },
     "execution_count": 3,
     "metadata": {},
     "output_type": "execute_result"
    }
   ],
   "source": [
    "df.head()"
   ]
  },
  {
   "cell_type": "code",
   "execution_count": 4,
   "metadata": {},
   "outputs": [
    {
     "data": {
      "text/plain": [
       "(1143869, 30)"
      ]
     },
     "execution_count": 4,
     "metadata": {},
     "output_type": "execute_result"
    }
   ],
   "source": [
    "df.shape"
   ]
  },
  {
   "cell_type": "code",
   "execution_count": 5,
   "metadata": {},
   "outputs": [],
   "source": [
    "docs = df[\"final_tokens\"]  "
   ]
  },
  {
   "cell_type": "code",
   "execution_count": null,
   "metadata": {},
   "outputs": [],
   "source": []
  },
  {
   "cell_type": "code",
   "execution_count": null,
   "metadata": {},
   "outputs": [],
   "source": []
  },
  {
   "cell_type": "markdown",
   "metadata": {},
   "source": [
    "### Term Matching"
   ]
  },
  {
   "cell_type": "code",
   "execution_count": 6,
   "metadata": {},
   "outputs": [],
   "source": [
    "# new approach to grab all \"pandemic\" matches\n",
    "\n",
    "term_match_idx = []\n",
    "\n",
    "for i, abstract in enumerate(docs):\n",
    "    if ('pandemic' in abstract): \n",
    "        term_match_idx.append(i)\n",
    "        "
   ]
  },
  {
   "cell_type": "code",
   "execution_count": 7,
   "metadata": {},
   "outputs": [
    {
     "data": {
      "text/plain": [
       "5783"
      ]
     },
     "execution_count": 7,
     "metadata": {},
     "output_type": "execute_result"
    }
   ],
   "source": [
    "len(term_match_idx) "
   ]
  },
  {
   "cell_type": "code",
   "execution_count": null,
   "metadata": {},
   "outputs": [],
   "source": []
  },
  {
   "cell_type": "code",
   "execution_count": null,
   "metadata": {},
   "outputs": [],
   "source": []
  },
  {
   "cell_type": "markdown",
   "metadata": {},
   "source": [
    "#### Word cloud"
   ]
  },
  {
   "cell_type": "code",
   "execution_count": 8,
   "metadata": {},
   "outputs": [],
   "source": [
    "# Find doc-term matrix\n",
    "\n",
    "vectorizer = CountVectorizer()\n",
    "dtm = vectorizer.fit_transform(docs)\n",
    "\n",
    "terms = vectorizer.get_feature_names()"
   ]
  },
  {
   "cell_type": "code",
   "execution_count": 9,
   "metadata": {},
   "outputs": [
    {
     "data": {
      "text/plain": [
       "(1143869, 1629626)"
      ]
     },
     "execution_count": 9,
     "metadata": {},
     "output_type": "execute_result"
    }
   ],
   "source": [
    "dtm.shape"
   ]
  },
  {
   "cell_type": "code",
   "execution_count": 10,
   "metadata": {},
   "outputs": [
    {
     "name": "stdout",
     "output_type": "stream",
     "text": [
      "1918_influenza_pandemic\n",
      "1918_pandemic\n",
      "1957_1968_pandemic\n",
      "2009_pandemic_h1n1\n",
      "aidspandemic\n",
      "andpandemic\n",
      "anotherpandemic\n",
      "apandemic\n",
      "assesspandemic\n",
      "betweenpandemic\n",
      "bothpandemic\n",
      "causedpandemic\n",
      "chikvpandemic\n",
      "cov_2pandemic\n",
      "covid19_pandemic\n",
      "covid19pandemic\n",
      "covid_19_pandemic\n",
      "covid_19pandemic\n",
      "covid_19pandemic5\n",
      "covid_pandemic\n",
      "covidpandemic\n",
      "criticalpandemic\n",
      "currentpandemic\n",
      "detetermrminineififththesuprragenomeofftthepandemiciccllonesiis\n",
      "devastatingpandemic\n",
      "ebolapandemic\n",
      "emergingpandemic\n",
      "escalatingpandemic\n",
      "establishingpandemic\n",
      "forpandemic\n",
      "frompandemic\n",
      "futurepandemic\n",
      "globalpandemic\n",
      "greatpandemic2\n",
      "growingpandemic\n",
      "h1n1_pandemic\n",
      "h1n1pandemic\n",
      "hivpandemic\n",
      "howpandemic\n",
      "humanpandemic\n",
      "increasedpandemic\n",
      "influenzapandemic\n",
      "inpandemic\n",
      "interpandemic\n",
      "interpandemic_pandemic\n",
      "majorpandemic\n",
      "multiclade_recombinant_pandemic\n",
      "newpandemic\n",
      "non_pandemic\n",
      "occasional_pandemic\n",
      "occasionalpandemic\n",
      "ofpandemic\n",
      "ofseasonal_pandemic\n",
      "ongoingpandemic\n",
      "pandemic\n",
      "pandemic1\n",
      "pandemic2\n",
      "pandemic2009\n",
      "pandemic57499\n",
      "pandemic_1918\n",
      "pandemic_1918_1919\n",
      "pandemic_1957\n",
      "pandemic_flu\n",
      "pandemic_h1n1\n",
      "pandemic_preparedness\n",
      "pandemic_sobering\n",
      "pandemically\n",
      "pandemicand\n",
      "pandemiccompare\n",
      "pandemiccovid_19\n",
      "pandemicdisease\n",
      "pandemicemergence\n",
      "pandemicflu\n",
      "pandemich3n2\n",
      "pandemicha\n",
      "pandemichas\n",
      "pandemichave\n",
      "pandemichuman\n",
      "pandemicin\n",
      "pandemicinfection\n",
      "pandemicinfluence\n",
      "pandemicinfluenza\n",
      "pandemicinvolve\n",
      "pandemiclike\n",
      "pandemicon\n",
      "pandemicpose\n",
      "pandemicpreparedness\n",
      "pandemicprogresse\n",
      "pandemicproportion\n",
      "pandemicremain\n",
      "pandemics\n",
      "pandemics18\n",
      "pandemicsabstractthe\n",
      "pandemicsetting\n",
      "pandemicsh1n1\n",
      "pandemicstrain\n",
      "pandemicthat\n",
      "pandemicthis\n",
      "pandemicthreat\n",
      "pandemicvaccine\n",
      "pandemicwill\n",
      "pandemicwith\n",
      "possiblepandemic\n",
      "prepandemic\n",
      "prepandemic_vaccination\n",
      "recurrentpandemic\n",
      "seasonal_pandemic\n",
      "severepandemic\n",
      "thecovid_19_pandemic\n",
      "thepandemic\n",
      "thispandemic\n",
      "threepandemic\n",
      "understandpandemic\n",
      "withpandemic\n",
      "worldwide_pandemic_1957\n",
      "115\n"
     ]
    }
   ],
   "source": [
    "count = 0\n",
    "\n",
    "for term in terms:\n",
    "    if 'pandemic' in term:\n",
    "        print(term)\n",
    "        count = count + 1\n",
    "        \n",
    "print(count)"
   ]
  },
  {
   "cell_type": "code",
   "execution_count": 11,
   "metadata": {},
   "outputs": [],
   "source": [
    "term_counts = dtm.sum(axis=0)"
   ]
  },
  {
   "cell_type": "code",
   "execution_count": 12,
   "metadata": {},
   "outputs": [],
   "source": [
    "d = {}\n",
    "\n",
    "for i, term in enumerate(terms):\n",
    "    if 'pandemic' in term:\n",
    "        #print(term)\n",
    "        d[term] = term_counts[0,i]"
   ]
  },
  {
   "cell_type": "code",
   "execution_count": 13,
   "metadata": {},
   "outputs": [
    {
     "data": {
      "text/plain": [
       "{'1918_influenza_pandemic': 61,\n",
       " '1918_pandemic': 96,\n",
       " '1957_1968_pandemic': 19,\n",
       " '2009_pandemic_h1n1': 64,\n",
       " 'aidspandemic': 4,\n",
       " 'andpandemic': 7,\n",
       " 'anotherpandemic': 1,\n",
       " 'apandemic': 13,\n",
       " 'assesspandemic': 1,\n",
       " 'betweenpandemic': 1,\n",
       " 'bothpandemic': 2,\n",
       " 'causedpandemic': 3,\n",
       " 'chikvpandemic': 1,\n",
       " 'cov_2pandemic': 2,\n",
       " 'covid19_pandemic': 28,\n",
       " 'covid19pandemic': 4,\n",
       " 'covid_19_pandemic': 1293,\n",
       " 'covid_19pandemic': 26,\n",
       " 'covid_19pandemic5': 1,\n",
       " 'covid_pandemic': 23,\n",
       " 'covidpandemic': 2,\n",
       " 'criticalpandemic': 2,\n",
       " 'currentpandemic': 5,\n",
       " 'detetermrminineififththesuprragenomeofftthepandemiciccllonesiis': 1,\n",
       " 'devastatingpandemic': 1,\n",
       " 'ebolapandemic': 2,\n",
       " 'emergingpandemic': 1,\n",
       " 'escalatingpandemic': 2,\n",
       " 'establishingpandemic': 1,\n",
       " 'forpandemic': 1,\n",
       " 'frompandemic': 1,\n",
       " 'futurepandemic': 4,\n",
       " 'globalpandemic': 3,\n",
       " 'greatpandemic2': 1,\n",
       " 'growingpandemic': 4,\n",
       " 'h1n1_pandemic': 67,\n",
       " 'h1n1pandemic': 6,\n",
       " 'hivpandemic': 14,\n",
       " 'howpandemic': 1,\n",
       " 'humanpandemic': 2,\n",
       " 'increasedpandemic': 2,\n",
       " 'influenzapandemic': 5,\n",
       " 'inpandemic': 4,\n",
       " 'interpandemic': 8,\n",
       " 'interpandemic_pandemic': 6,\n",
       " 'majorpandemic': 4,\n",
       " 'multiclade_recombinant_pandemic': 19,\n",
       " 'newpandemic': 1,\n",
       " 'non_pandemic': 2,\n",
       " 'occasional_pandemic': 82,\n",
       " 'occasionalpandemic': 3,\n",
       " 'ofpandemic': 11,\n",
       " 'ofseasonal_pandemic': 6,\n",
       " 'ongoingpandemic': 1,\n",
       " 'pandemic': 7737,\n",
       " 'pandemic1': 2,\n",
       " 'pandemic2': 2,\n",
       " 'pandemic2009': 3,\n",
       " 'pandemic57499': 3,\n",
       " 'pandemic_1918': 30,\n",
       " 'pandemic_1918_1919': 6,\n",
       " 'pandemic_1957': 1,\n",
       " 'pandemic_flu': 93,\n",
       " 'pandemic_h1n1': 108,\n",
       " 'pandemic_preparedness': 88,\n",
       " 'pandemic_sobering': 10,\n",
       " 'pandemically': 1,\n",
       " 'pandemicand': 9,\n",
       " 'pandemiccompare': 4,\n",
       " 'pandemiccovid_19': 1,\n",
       " 'pandemicdisease': 4,\n",
       " 'pandemicemergence': 1,\n",
       " 'pandemicflu': 1,\n",
       " 'pandemich3n2': 1,\n",
       " 'pandemicha': 2,\n",
       " 'pandemichas': 2,\n",
       " 'pandemichave': 1,\n",
       " 'pandemichuman': 1,\n",
       " 'pandemicin': 4,\n",
       " 'pandemicinfection': 1,\n",
       " 'pandemicinfluence': 1,\n",
       " 'pandemicinfluenza': 14,\n",
       " 'pandemicinvolve': 3,\n",
       " 'pandemiclike': 1,\n",
       " 'pandemicon': 2,\n",
       " 'pandemicpose': 3,\n",
       " 'pandemicpreparedness': 7,\n",
       " 'pandemicprogresse': 1,\n",
       " 'pandemicproportion': 1,\n",
       " 'pandemicremain': 1,\n",
       " 'pandemics': 4,\n",
       " 'pandemics18': 2,\n",
       " 'pandemicsabstractthe': 1,\n",
       " 'pandemicsetting': 1,\n",
       " 'pandemicsh1n1': 1,\n",
       " 'pandemicstrain': 2,\n",
       " 'pandemicthat': 1,\n",
       " 'pandemicthis': 1,\n",
       " 'pandemicthreat': 3,\n",
       " 'pandemicvaccine': 4,\n",
       " 'pandemicwill': 3,\n",
       " 'pandemicwith': 1,\n",
       " 'possiblepandemic': 1,\n",
       " 'prepandemic': 8,\n",
       " 'prepandemic_vaccination': 7,\n",
       " 'recurrentpandemic': 3,\n",
       " 'seasonal_pandemic': 196,\n",
       " 'severepandemic': 1,\n",
       " 'thecovid_19_pandemic': 27,\n",
       " 'thepandemic': 30,\n",
       " 'thispandemic': 10,\n",
       " 'threepandemic': 2,\n",
       " 'understandpandemic': 1,\n",
       " 'withpandemic': 5,\n",
       " 'worldwide_pandemic_1957': 38}"
      ]
     },
     "execution_count": 13,
     "metadata": {},
     "output_type": "execute_result"
    }
   ],
   "source": [
    "d"
   ]
  },
  {
   "cell_type": "code",
   "execution_count": 14,
   "metadata": {},
   "outputs": [
    {
     "data": {
      "image/png": "[encoded data removed]",
      "text/plain": [
       "<Figure size 432x288 with 1 Axes>"
      ]
     },
     "metadata": {
      "needs_background": "light"
     },
     "output_type": "display_data"
    }
   ],
   "source": [
    "from wordcloud import WordCloud\n",
    "\n",
    "wordcloud = WordCloud(width=900, height= 500, scale=1, max_words = 25, background_color='white').generate_from_frequencies(d)\n",
    "\n",
    "plt.imshow(wordcloud, interpolation='bilinear')\n",
    "plt.axis(\"off\")\n",
    "#plt.savefig(\"pan_wc.png\", dpi = 800, bbox_inches = \"tight\")\n",
    "#plt.savefig(\"pan_wc.pdf\", dpi = 800, bbox_inches = \"tight\")\n",
    "plt.show()"
   ]
  },
  {
   "cell_type": "code",
   "execution_count": null,
   "metadata": {},
   "outputs": [],
   "source": []
  },
  {
   "cell_type": "code",
   "execution_count": null,
   "metadata": {},
   "outputs": [],
   "source": []
  },
  {
   "cell_type": "markdown",
   "metadata": {},
   "source": [
    "## Latent Semantic Indexing (LSI)"
   ]
  },
  {
   "cell_type": "markdown",
   "metadata": {},
   "source": [
    "### Helper Functions"
   ]
  },
  {
   "cell_type": "code",
   "execution_count": 15,
   "metadata": {},
   "outputs": [],
   "source": [
    "# Create binary query vector \n",
    "\n",
    "def create_query(words, terms):\n",
    "    \n",
    "    # words: search query words\n",
    "    # terms: terms in corpus\n",
    "    \n",
    "    q = np.zeros(len(terms))  # number of terms\n",
    "\n",
    "    idx = []\n",
    "    for word in query_words:\n",
    "        idx.append(terms.index(word))\n",
    "\n",
    "    q[idx] = 1\n",
    "    \n",
    "    return q"
   ]
  },
  {
   "cell_type": "code",
   "execution_count": 16,
   "metadata": {},
   "outputs": [],
   "source": [
    "def return_top_abstracts(scores, top_n):\n",
    "    \n",
    "    '''\n",
    "    docs: Series that contains abstract\n",
    "    scores: scores of abstracts\n",
    "    top_n: return the top_n abstracts given by idx, if top_n = -1 return all abstracts\n",
    "    '''\n",
    "    # sort scores in descending order\n",
    "    scores_sorted_idx = np.argsort(scores)[::-1]\n",
    "    \n",
    "    if top_n == -1:\n",
    "        #n = sum(scores > 0)\n",
    "        ix = scores_sorted_idx #[:n]\n",
    "    else:\n",
    "        ix = scores_sorted_idx[:top_n]\n",
    "    \n",
    "    #print(ix[0:10])\n",
    "    \n",
    "    return ix\n",
    "    "
   ]
  },
  {
   "cell_type": "code",
   "execution_count": 17,
   "metadata": {},
   "outputs": [],
   "source": [
    "def create_result_df(abstracts, scores):\n",
    "    \n",
    "    df = pd.DataFrame()\n",
    "    df[\"abstracts\"] = abstracts\n",
    "    df[\"scores\"] = scores\n",
    "    \n",
    "    return df"
   ]
  },
  {
   "cell_type": "code",
   "execution_count": null,
   "metadata": {},
   "outputs": [],
   "source": []
  },
  {
   "cell_type": "code",
   "execution_count": 18,
   "metadata": {},
   "outputs": [],
   "source": [
    "# Find doc-term matrix using TF-IDF weighting\n",
    "\n",
    "tf_idf_vectorizer = TfidfVectorizer()\n",
    "tf_idf = tf_idf_vectorizer.fit_transform(docs)\n",
    "\n",
    "tf_idf_terms = tf_idf_vectorizer.get_feature_names()"
   ]
  },
  {
   "cell_type": "code",
   "execution_count": 19,
   "metadata": {},
   "outputs": [],
   "source": [
    "# CHANGE QUERY WORDS HERE\n",
    "\n",
    "query_words = []\n",
    "\n",
    "for word in tf_idf_terms:\n",
    "    if 'pandemic' in word:\n",
    "        query_words.append(word)\n",
    "\n",
    "#query_words = ['pandemic', 'pandemics'] \n",
    "              \n",
    "q = create_query(query_words, tf_idf_terms)"
   ]
  },
  {
   "cell_type": "code",
   "execution_count": 20,
   "metadata": {},
   "outputs": [
    {
     "data": {
      "text/plain": [
       "['1918_influenza_pandemic',\n",
       " '1918_pandemic',\n",
       " '1957_1968_pandemic',\n",
       " '2009_pandemic_h1n1',\n",
       " 'aidspandemic',\n",
       " 'andpandemic',\n",
       " 'anotherpandemic',\n",
       " 'apandemic',\n",
       " 'assesspandemic',\n",
       " 'betweenpandemic',\n",
       " 'bothpandemic',\n",
       " 'causedpandemic',\n",
       " 'chikvpandemic',\n",
       " 'cov_2pandemic',\n",
       " 'covid19_pandemic',\n",
       " 'covid19pandemic',\n",
       " 'covid_19_pandemic',\n",
       " 'covid_19pandemic',\n",
       " 'covid_19pandemic5',\n",
       " 'covid_pandemic',\n",
       " 'covidpandemic',\n",
       " 'criticalpandemic',\n",
       " 'currentpandemic',\n",
       " 'detetermrminineififththesuprragenomeofftthepandemiciccllonesiis',\n",
       " 'devastatingpandemic',\n",
       " 'ebolapandemic',\n",
       " 'emergingpandemic',\n",
       " 'escalatingpandemic',\n",
       " 'establishingpandemic',\n",
       " 'forpandemic',\n",
       " 'frompandemic',\n",
       " 'futurepandemic',\n",
       " 'globalpandemic',\n",
       " 'greatpandemic2',\n",
       " 'growingpandemic',\n",
       " 'h1n1_pandemic',\n",
       " 'h1n1pandemic',\n",
       " 'hivpandemic',\n",
       " 'howpandemic',\n",
       " 'humanpandemic',\n",
       " 'increasedpandemic',\n",
       " 'influenzapandemic',\n",
       " 'inpandemic',\n",
       " 'interpandemic',\n",
       " 'interpandemic_pandemic',\n",
       " 'majorpandemic',\n",
       " 'multiclade_recombinant_pandemic',\n",
       " 'newpandemic',\n",
       " 'non_pandemic',\n",
       " 'occasional_pandemic',\n",
       " 'occasionalpandemic',\n",
       " 'ofpandemic',\n",
       " 'ofseasonal_pandemic',\n",
       " 'ongoingpandemic',\n",
       " 'pandemic',\n",
       " 'pandemic1',\n",
       " 'pandemic2',\n",
       " 'pandemic2009',\n",
       " 'pandemic57499',\n",
       " 'pandemic_1918',\n",
       " 'pandemic_1918_1919',\n",
       " 'pandemic_1957',\n",
       " 'pandemic_flu',\n",
       " 'pandemic_h1n1',\n",
       " 'pandemic_preparedness',\n",
       " 'pandemic_sobering',\n",
       " 'pandemically',\n",
       " 'pandemicand',\n",
       " 'pandemiccompare',\n",
       " 'pandemiccovid_19',\n",
       " 'pandemicdisease',\n",
       " 'pandemicemergence',\n",
       " 'pandemicflu',\n",
       " 'pandemich3n2',\n",
       " 'pandemicha',\n",
       " 'pandemichas',\n",
       " 'pandemichave',\n",
       " 'pandemichuman',\n",
       " 'pandemicin',\n",
       " 'pandemicinfection',\n",
       " 'pandemicinfluence',\n",
       " 'pandemicinfluenza',\n",
       " 'pandemicinvolve',\n",
       " 'pandemiclike',\n",
       " 'pandemicon',\n",
       " 'pandemicpose',\n",
       " 'pandemicpreparedness',\n",
       " 'pandemicprogresse',\n",
       " 'pandemicproportion',\n",
       " 'pandemicremain',\n",
       " 'pandemics',\n",
       " 'pandemics18',\n",
       " 'pandemicsabstractthe',\n",
       " 'pandemicsetting',\n",
       " 'pandemicsh1n1',\n",
       " 'pandemicstrain',\n",
       " 'pandemicthat',\n",
       " 'pandemicthis',\n",
       " 'pandemicthreat',\n",
       " 'pandemicvaccine',\n",
       " 'pandemicwill',\n",
       " 'pandemicwith',\n",
       " 'possiblepandemic',\n",
       " 'prepandemic',\n",
       " 'prepandemic_vaccination',\n",
       " 'recurrentpandemic',\n",
       " 'seasonal_pandemic',\n",
       " 'severepandemic',\n",
       " 'thecovid_19_pandemic',\n",
       " 'thepandemic',\n",
       " 'thispandemic',\n",
       " 'threepandemic',\n",
       " 'understandpandemic',\n",
       " 'withpandemic',\n",
       " 'worldwide_pandemic_1957']"
      ]
     },
     "execution_count": 20,
     "metadata": {},
     "output_type": "execute_result"
    }
   ],
   "source": [
    "query_words"
   ]
  },
  {
   "cell_type": "code",
   "execution_count": 21,
   "metadata": {},
   "outputs": [
    {
     "data": {
      "text/plain": [
       "115"
      ]
     },
     "execution_count": 21,
     "metadata": {},
     "output_type": "execute_result"
    }
   ],
   "source": [
    "len(query_words)"
   ]
  },
  {
   "cell_type": "code",
   "execution_count": null,
   "metadata": {},
   "outputs": [],
   "source": []
  },
  {
   "cell_type": "code",
   "execution_count": 22,
   "metadata": {},
   "outputs": [],
   "source": [
    "# Find the Truncated SVD of the TF-IDF matrix\n",
    "\n",
    "lsa = TruncatedSVD(n_components=50, random_state=1)  # CHANGE THE NUMBER OF COMPONENTS - NOTE: MORE COMPONENTS \n",
    "                                                      # GIVES YOU A MORE ACCURATE APPROXIMATION OF THE DOC-TERM \n",
    "                                                      # MATRIX, BUT IS ALSO MORE EXPENSIVE AND MAY NOT LEAD TO THE \n",
    "                                                      # BEST INFO RETRIEVAL RESULTS.\n",
    "USigma = lsa.fit_transform(tf_idf)\n",
    "Vtrans = lsa.components_"
   ]
  },
  {
   "cell_type": "code",
   "execution_count": 23,
   "metadata": {},
   "outputs": [],
   "source": [
    "S = lsa.singular_values_"
   ]
  },
  {
   "cell_type": "code",
   "execution_count": 24,
   "metadata": {},
   "outputs": [
    {
     "data": {
      "text/plain": [
       "array([162.75474643,  99.18171844,  72.81242855,  68.68440984,\n",
       "        66.50219492,  62.6294814 ,  58.56022561,  54.69338407,\n",
       "        51.52434424,  50.36840028,  48.64617919,  47.53183664,\n",
       "        45.69105895,  43.9589213 ,  43.67628345,  43.4223868 ,\n",
       "        41.37011445,  40.76775442,  40.00801983,  39.73592333,\n",
       "        39.01442429,  38.77479471,  38.24795062,  37.19103778,\n",
       "        36.98271593,  36.4097371 ,  36.32088637,  35.87097828,\n",
       "        35.66275333,  35.04155178,  34.90376575,  34.67921138,\n",
       "        34.52276579,  34.39432847,  34.0049888 ,  33.23316325,\n",
       "        33.17674194,  32.83536346,  32.66038544,  32.61196385,\n",
       "        32.37058852,  32.01287748,  31.93379447,  31.76628275,\n",
       "        31.59189268,  31.34461234,  30.88534793,  30.62092066,\n",
       "        30.39109506,  30.3073787 ])"
      ]
     },
     "execution_count": 24,
     "metadata": {},
     "output_type": "execute_result"
    }
   ],
   "source": [
    "S"
   ]
  },
  {
   "cell_type": "code",
   "execution_count": null,
   "metadata": {},
   "outputs": [],
   "source": []
  },
  {
   "cell_type": "code",
   "execution_count": 25,
   "metadata": {},
   "outputs": [],
   "source": [
    "# transform query to be in same space as documents\n",
    "\n",
    "q = q.reshape(1,-1)  # changes (n,) vector to (1,n)\n",
    "qhat = lsa.transform(q)"
   ]
  },
  {
   "cell_type": "code",
   "execution_count": 26,
   "metadata": {},
   "outputs": [
    {
     "name": "stdout",
     "output_type": "stream",
     "text": [
      "(1, 50)\n",
      "(1143869, 50)\n",
      "(50, 1629626)\n"
     ]
    }
   ],
   "source": [
    "print(qhat.shape)\n",
    "print(USigma.shape)\n",
    "print(Vtrans.shape)"
   ]
  },
  {
   "cell_type": "code",
   "execution_count": 27,
   "metadata": {},
   "outputs": [],
   "source": [
    "lsa_scores = cosine_similarity(qhat, USigma)  "
   ]
  },
  {
   "cell_type": "code",
   "execution_count": 28,
   "metadata": {},
   "outputs": [
    {
     "data": {
      "text/plain": [
       "662812"
      ]
     },
     "execution_count": 28,
     "metadata": {},
     "output_type": "execute_result"
    }
   ],
   "source": [
    "sum(lsa_scores[0] > 0)\n",
    "\n",
    "# 50: 662812"
   ]
  },
  {
   "cell_type": "code",
   "execution_count": 29,
   "metadata": {},
   "outputs": [
    {
     "data": {
      "image/png": "[encoded data removed]",
      "text/plain": [
       "<Figure size 432x288 with 1 Axes>"
      ]
     },
     "metadata": {
      "needs_background": "light"
     },
     "output_type": "display_data"
    }
   ],
   "source": [
    "plt.hist(lsa_scores[0], bins = 30);\n",
    "#plt.xlim(0.9, 1.1)"
   ]
  },
  {
   "cell_type": "code",
   "execution_count": 30,
   "metadata": {},
   "outputs": [
    {
     "data": {
      "text/plain": [
       "2635"
      ]
     },
     "execution_count": 30,
     "metadata": {},
     "output_type": "execute_result"
    }
   ],
   "source": [
    "#np.percentile(lsa_scores[0], 93)\n",
    "\n",
    "sum(lsa_scores[0] >= 0.70)#/len(lsa_scores[0])\n",
    "\n",
    "# 50: 13556 \n",
    "# 70: 2635\n",
    "# 75: 1432"
   ]
  },
  {
   "cell_type": "code",
   "execution_count": 31,
   "metadata": {},
   "outputs": [
    {
     "data": {
      "text/plain": [
       "0.700051730783248"
      ]
     },
     "execution_count": 31,
     "metadata": {},
     "output_type": "execute_result"
    }
   ],
   "source": [
    "np.percentile(lsa_scores[0], 99.77)"
   ]
  },
  {
   "cell_type": "code",
   "execution_count": 32,
   "metadata": {},
   "outputs": [
    {
     "data": {
      "text/plain": [
       "0.2303585463020678"
      ]
     },
     "execution_count": 32,
     "metadata": {},
     "output_type": "execute_result"
    }
   ],
   "source": [
    "100*2635/len(lsa_scores[0])"
   ]
  },
  {
   "cell_type": "code",
   "execution_count": null,
   "metadata": {},
   "outputs": [],
   "source": []
  },
  {
   "cell_type": "code",
   "execution_count": null,
   "metadata": {},
   "outputs": [],
   "source": []
  },
  {
   "cell_type": "code",
   "execution_count": 33,
   "metadata": {},
   "outputs": [
    {
     "data": {
      "text/plain": [
       "array([0.94010028, 0.93318869, 0.93318869, 0.93318869, 0.93318869,\n",
       "       0.93318869, 0.93178611, 0.93178611, 0.92631246, 0.92631246])"
      ]
     },
     "execution_count": 33,
     "metadata": {},
     "output_type": "execute_result"
    }
   ],
   "source": [
    "lsa_idx = return_top_abstracts(lsa_scores[0], -1)  # CHANGE NUMBER OF TOP DOCS RETURNED \n",
    "top_lsa_abstracts = docs[lsa_idx]\n",
    "\n",
    "# top scores\n",
    "lsa_scores[0][lsa_idx][0:10]"
   ]
  },
  {
   "cell_type": "code",
   "execution_count": 34,
   "metadata": {},
   "outputs": [
    {
     "data": {
      "text/plain": [
       "1010234    objective identify host viral genetic determin...\n",
       "116545     influenza virus niaid class priority pathogen ...\n",
       "18918      influenza virus niaid class priority pathogen ...\n",
       "1083940    project overarching goal prometheus consortium...\n",
       "986455     project overarching goal prometheus consortium...\n",
       "276292     providedviruse antiviral vaccine enter body sk...\n",
       "62364      providedviruse antiviral vaccine enter body sk...\n",
       "171836     providedviruse antiviral vaccine enter body sk...\n",
       "441132     providedviruse antiviral vaccine enter body sk...\n",
       "366014     providedviruse antiviral vaccine enter body sk...\n",
       "813360     recently study attempt identify viral pathogen...\n",
       "915586     recently study attempt identify viral pathogen...\n",
       "1021163    recently study attempt identify viral pathogen...\n",
       "760676     recently study attempt identify viral pathogen...\n",
       "93498      dengue serotype vaccine development live atten...\n",
       "313560     influenza virus negative sense single strand r...\n",
       "231680     influenza virus negative sense single strand r...\n",
       "1055766    past fiscal year perform study viral pathogen ...\n",
       "25521      aging associate dramatic increase complication...\n",
       "274675     aging associate dramatic increase complication...\n",
       "124033     aging associate dramatic increase complication...\n",
       "264173     filovirus_ebola ebov virus marburg_marv virus ...\n",
       "531710     filovirus_ebola ebov virus marburg_marv virus ...\n",
       "329397     filovirus_ebola ebov virus marburg_marv virus ...\n",
       "440446     filovirus_ebola ebov virus marburg_marv virus ...\n",
       "Name: final_tokens, dtype: object"
      ]
     },
     "execution_count": 34,
     "metadata": {},
     "output_type": "execute_result"
    }
   ],
   "source": [
    "top_lsa_abstracts[2625:2650]"
   ]
  },
  {
   "cell_type": "code",
   "execution_count": 35,
   "metadata": {},
   "outputs": [
    {
     "data": {
      "text/plain": [
       "'recently study attempt identify viral pathogen restrict testing previously know virus detectable cell culture pcr stain antigen specific antibody sero_conversion testing restrict characterize virus largely discover cytopathic effect cell grow vitro introduction high throughput dna sequence allow metagenomic approach identify virus present reveal large number previously unknown virus belong different viral family particularly fece human wild domesticate animal high sensitivity nucleic_acid_testing reveal high rate enteric viral infection diarrheic healthy human animal metagenomic bioinformatic approach generate comprehensive list enteric virus present large cohort rhesus_macaque idiopathic chronic diarrhea icd common inflammatory condition colon resemble human ulcerative_colitis order identify candidate viral pathogen associate unexplained disease classic case control study compare presence viral concentration virus present large number animal icd healthy control viral replication virus anatomical site tissue pathology animal affect icd test situ_hybridization candidate viral pathogen strongly associate icd large number animal orally inoculate juvenile macaque development icd viral shedding viral replication colon closely monitor apply power metagenomic bioinformatic tool combine classic epidemiological study inclusive test role virus common chronic primate disease affect rhesus_macaque research colony large number animal sample carefully select veterinary science expert viral nucleic_acid comprehensively analyze follow animal inoculation identify viral pathogen study advance understanding viral diversity large primate population demonstrate utility metagenomic identify virus present subsequent disease association study compare viral replication affected case healthy control identification viruses cause icd assist manage health non human primate specie biomedical research provide model system virally induce chronic diarrhea colitis viral target vaccine development control major source mortality animal variability primate center'"
      ]
     },
     "execution_count": 35,
     "metadata": {},
     "output_type": "execute_result"
    }
   ],
   "source": [
    "top_lsa_abstracts.iloc[2635]"
   ]
  },
  {
   "cell_type": "code",
   "execution_count": 36,
   "metadata": {},
   "outputs": [
    {
     "data": {
      "text/plain": [
       "array([0.70014147, 0.70011195, 0.70011195, 0.70006402, 0.70006402,\n",
       "       0.70005173, 0.70005173, 0.70005173, 0.70005173, 0.70005173,\n",
       "       0.69998791, 0.69998791, 0.69998791, 0.69998791, 0.69997282])"
      ]
     },
     "execution_count": 36,
     "metadata": {},
     "output_type": "execute_result"
    }
   ],
   "source": [
    "lsa_scores[0][lsa_idx][2625:2640]"
   ]
  },
  {
   "cell_type": "code",
   "execution_count": null,
   "metadata": {},
   "outputs": [],
   "source": []
  },
  {
   "cell_type": "code",
   "execution_count": null,
   "metadata": {},
   "outputs": [],
   "source": []
  },
  {
   "cell_type": "markdown",
   "metadata": {},
   "source": [
    "### How do LSI and Term Matching Overlap?"
   ]
  },
  {
   "cell_type": "code",
   "execution_count": 37,
   "metadata": {},
   "outputs": [
    {
     "name": "stdout",
     "output_type": "stream",
     "text": [
      "847\n",
      "4936\n"
     ]
    }
   ],
   "source": [
    "# look at the intersection/difference -- LSI seems to pick up mainly influenza\n",
    "\n",
    "temp1 = list(set(term_match_idx).intersection(set(lsa_idx[0:2635])))\n",
    "print(len(temp1))\n",
    "temp2 = list(set(term_match_idx) - set(lsa_idx[0:2635]))\n",
    "print(len(temp2))"
   ]
  },
  {
   "cell_type": "code",
   "execution_count": 38,
   "metadata": {},
   "outputs": [
    {
     "data": {
      "text/plain": [
       "'DESCRIPTION (provided by applicant): Current influenza vaccines are targeted to induce immune responses to the variable antigens hemagglutinin and neuraminidase, which are effective for strain-specific protection. However, such vaccination does not provide protection against the emergence of antigenically distinct strains as shown by the failure to control the 2009 H1N1 pandemic at the early stage of its outbreak. The goal of our proposed project is to develop novel influenza vaccines that will induce broadly cross protective immunity against antigenically drifted strains in the absence of adjuvants. To achieve this goal, novel approaches will be proposed to develop a highly conserved antigenic target in an immunogenic form and to incorporate this into the influenza vaccination. A promising candidate as a conserved antigenic target is the membrane protein M2 containing a highly conserved extracellular domain. M2 on virus-like particles (VLPs) in a membrane-anchored form (M2 VLPs) will be in a conformation enabling M2 to be immunogenic and confer broadly cross-protective M2 immunity even without an adjuvant. We hypothesize that influenza vaccines containing highly conserved antigenic targets such as influenza M2 VLPs will induce broadly cross-protective and heterosubtypic immunity. To test this hypothesis, in specific aim 1, recombinant VLP vaccines containing novel constructs of the tetrameric M2 extracellular domain in a membrane-anchored chimeric form will be generated and their cross protective efficacy will be evaluated in comparison with the wild type M2 protein. We will also propose a novel approach to overcome the limitation of strain-specific protection by current vaccines and weak cross-protective immunity to M2. Specific aim 2 will investigate action mechanisms by which conserved M2 based immunity enhances the breadth of cross protection. Also, immune correlates contributing to cross protection will be determined using traditional and novel approaches including depletion of specific immune components. In specific aim 3, the cross-protective efficacy of promising vaccine candidates and the duration of cross protection will be further evaluated in ferrets, which is a more relevant animal model for testing pre-clinical vaccines for humans. Improving the breadth of cross protective immunity against influenza viruses after vaccination without using adjuvant is a desirable and practical approach applicable to humans and critically important for advancing the vaccine field.'"
      ]
     },
     "execution_count": 38,
     "metadata": {},
     "output_type": "execute_result"
    }
   ],
   "source": [
    "df['ABSTRACT'].iloc[temp2[2110]]"
   ]
  },
  {
   "cell_type": "code",
   "execution_count": null,
   "metadata": {},
   "outputs": [],
   "source": []
  },
  {
   "cell_type": "code",
   "execution_count": 39,
   "metadata": {},
   "outputs": [
    {
     "data": {
      "text/plain": [
       "1143869"
      ]
     },
     "execution_count": 39,
     "metadata": {},
     "output_type": "execute_result"
    }
   ],
   "source": [
    "len(lsa_idx)"
   ]
  },
  {
   "cell_type": "code",
   "execution_count": 40,
   "metadata": {},
   "outputs": [],
   "source": [
    "# find term matching indices in sorted lsa scores list\n",
    "\n",
    "mask = np.isin(lsa_idx, term_match_idx)\n",
    "tm_in_lsa_idx = np.nonzero(mask)  # returns tuple of length 1 (mask is 1d)\n",
    "tm_lsa_score = lsa_scores[0][lsa_idx[tm_in_lsa_idx]]        "
   ]
  },
  {
   "cell_type": "code",
   "execution_count": 41,
   "metadata": {},
   "outputs": [
    {
     "data": {
      "text/plain": [
       "count    5783.000000\n",
       "mean        0.346336\n",
       "std         0.276067\n",
       "min        -0.104371\n",
       "25%         0.099012\n",
       "50%         0.295506\n",
       "75%         0.584152\n",
       "max         0.931786\n",
       "dtype: float64"
      ]
     },
     "execution_count": 41,
     "metadata": {},
     "output_type": "execute_result"
    }
   ],
   "source": [
    "pd.Series(tm_lsa_score).describe()"
   ]
  },
  {
   "cell_type": "code",
   "execution_count": 42,
   "metadata": {},
   "outputs": [
    {
     "data": {
      "text/plain": [
       "count    5.783000e+03\n",
       "mean     1.467787e+05\n",
       "std      2.456746e+05\n",
       "min      6.000000e+00\n",
       "25%      7.461500e+03\n",
       "50%      3.648300e+04\n",
       "75%      1.405345e+05\n",
       "max      1.121347e+06\n",
       "dtype: float64"
      ]
     },
     "execution_count": 42,
     "metadata": {},
     "output_type": "execute_result"
    }
   ],
   "source": [
    "# tm_in_lsa_idx marks the index in lsa_idx where the term matching elemetns live.  \n",
    "# lsa_idx is sorted (largest to smallest scores)!\n",
    "\n",
    "pd.Series(tm_in_lsa_idx[0]).describe()"
   ]
  },
  {
   "cell_type": "code",
   "execution_count": 43,
   "metadata": {},
   "outputs": [
    {
     "name": "stdout",
     "output_type": "stream",
     "text": [
      "140534.5\n"
     ]
    }
   ],
   "source": [
    "p = np.percentile(tm_in_lsa_idx[0],75)\n",
    "print(p)"
   ]
  },
  {
   "cell_type": "code",
   "execution_count": 44,
   "metadata": {},
   "outputs": [
    {
     "data": {
      "text/plain": [
       "12.285891129141536"
      ]
     },
     "execution_count": 44,
     "metadata": {},
     "output_type": "execute_result"
    }
   ],
   "source": [
    "# lsa_idx has length of df.  \n",
    "\n",
    "100*p/len(df)"
   ]
  },
  {
   "cell_type": "code",
   "execution_count": 45,
   "metadata": {},
   "outputs": [
    {
     "data": {
      "text/plain": [
       "12.285847417842428"
      ]
     },
     "execution_count": 45,
     "metadata": {},
     "output_type": "execute_result"
    }
   ],
   "source": [
    "100*140534/len(df)"
   ]
  },
  {
   "cell_type": "code",
   "execution_count": null,
   "metadata": {},
   "outputs": [],
   "source": []
  },
  {
   "cell_type": "code",
   "execution_count": null,
   "metadata": {},
   "outputs": [],
   "source": []
  },
  {
   "cell_type": "markdown",
   "metadata": {},
   "source": [
    "## Create filtered corpus\n",
    "\n",
    "We use the results of our two information retrieval techniques to create a new, smaller corpus that only contains abstracts relevant to the query. "
   ]
  },
  {
   "cell_type": "code",
   "execution_count": 46,
   "metadata": {},
   "outputs": [],
   "source": [
    "docs_ix = np.concatenate([term_match_idx, lsa_idx[0:2635]]) "
   ]
  },
  {
   "cell_type": "code",
   "execution_count": 47,
   "metadata": {},
   "outputs": [],
   "source": [
    "docs_idx = np.unique(docs_ix)"
   ]
  },
  {
   "cell_type": "code",
   "execution_count": 48,
   "metadata": {},
   "outputs": [
    {
     "data": {
      "text/plain": [
       "(7571,)"
      ]
     },
     "execution_count": 48,
     "metadata": {},
     "output_type": "execute_result"
    }
   ],
   "source": [
    "docs_idx.shape"
   ]
  },
  {
   "cell_type": "code",
   "execution_count": null,
   "metadata": {},
   "outputs": [],
   "source": []
  },
  {
   "cell_type": "markdown",
   "metadata": {},
   "source": [
    "**create case-study corpuses**"
   ]
  },
  {
   "cell_type": "code",
   "execution_count": 49,
   "metadata": {},
   "outputs": [],
   "source": [
    "filt_corpus = df.loc[docs_idx, :]  # could have also used iloc since we reset the dataframe index after ingestion"
   ]
  },
  {
   "cell_type": "code",
   "execution_count": 50,
   "metadata": {},
   "outputs": [
    {
     "data": {
      "text/plain": [
       "(7571, 30)"
      ]
     },
     "execution_count": 50,
     "metadata": {},
     "output_type": "execute_result"
    }
   ],
   "source": [
    "filt_corpus.shape"
   ]
  },
  {
   "cell_type": "code",
   "execution_count": 51,
   "metadata": {},
   "outputs": [],
   "source": [
    "filt_corpus.to_pickle(\"./pandemic_corpus.pkl\")\n",
    "\n",
    "#pandemic_corpus = pd.read_pickle(\"/home/kjl5t/dspg20RnD/data/final/dashboard_data/pandemic_corpus.pkl\")\n",
    "#pandemic_corpus.shape"
   ]
  },
  {
   "cell_type": "code",
   "execution_count": 52,
   "metadata": {},
   "outputs": [],
   "source": [
    "text = filt_corpus[\"final_tokens\"]"
   ]
  },
  {
   "cell_type": "code",
   "execution_count": null,
   "metadata": {},
   "outputs": [],
   "source": []
  },
  {
   "cell_type": "code",
   "execution_count": null,
   "metadata": {},
   "outputs": [],
   "source": []
  },
  {
   "cell_type": "markdown",
   "metadata": {},
   "source": [
    "## Topic Modeling with relevant pandemic abstracts"
   ]
  },
  {
   "cell_type": "code",
   "execution_count": 53,
   "metadata": {},
   "outputs": [],
   "source": [
    "# function slightly modified from https://nlpforhackers.io/topic-modeling/\n",
    "\n",
    "def print_topics(model, vectorizer, top_n=10):\n",
    "    for idx, topic in enumerate(model.components_):  # loop through each row of H.  idx = row index.  topic = actual row\n",
    "        print(\"\\nTopic %d:\" % (idx))\n",
    "        #print([(vectorizer.get_feature_names()[i], topic[i])  # printing out words corresponding to indices found in next line\n",
    "                        #for i in topic.argsort()[:-top_n - 1:-1]])  # finding indices of top words in topic\n",
    "            \n",
    "        print_list = [(vectorizer.get_feature_names()[i], topic[i])  \n",
    "                        for i in topic.argsort()[:-top_n - 1:-1]]\n",
    "        for item in print_list:\n",
    "            print(item)\n",
    "        "
   ]
  },
  {
   "cell_type": "code",
   "execution_count": 54,
   "metadata": {},
   "outputs": [],
   "source": [
    "# Create a TF-IDF document-term matrix for the pandemics corpus \n",
    "\n",
    "# TRY DIFFERENT PARAMETERS IN THE TF-IDF DOC-TERM MATRIX SET-UP\n",
    "\n",
    "stop_wds = ['research', 'aim', 'project']\n",
    "\n",
    "nmf_vectorizer = TfidfVectorizer(max_df=1.0, min_df=3, lowercase=False, stop_words=stop_wds)\n",
    "nmf_tf_idf = nmf_vectorizer.fit_transform(text)"
   ]
  },
  {
   "cell_type": "code",
   "execution_count": 55,
   "metadata": {},
   "outputs": [
    {
     "data": {
      "text/plain": [
       "(7571, 21980)"
      ]
     },
     "execution_count": 55,
     "metadata": {},
     "output_type": "execute_result"
    }
   ],
   "source": [
    "nmf_tf_idf.shape"
   ]
  },
  {
   "cell_type": "code",
   "execution_count": 56,
   "metadata": {},
   "outputs": [
    {
     "name": "stderr",
     "output_type": "stream",
     "text": [
      "/apps/software/standard/core/anaconda/2020.11-py3.8/lib/python3.8/site-packages/sklearn/decomposition/_nmf.py:1076: ConvergenceWarning: Maximum number of iterations 200 reached. Increase it to improve convergence.\n",
      "  warnings.warn(\"Maximum number of iterations %d reached. Increase it to\"\n"
     ]
    }
   ],
   "source": [
    "# topic modeling with NMF\n",
    "\n",
    "nmf_model = NMF(n_components=20, random_state=1)  # TRY DIFFERENT NUMBERS OF TOPICS\n",
    "W = nmf_model.fit_transform(nmf_tf_idf)\n",
    "H = nmf_model.components_"
   ]
  },
  {
   "cell_type": "code",
   "execution_count": 57,
   "metadata": {},
   "outputs": [
    {
     "name": "stdout",
     "output_type": "stream",
     "text": [
      "\n",
      "Topic 0:\n",
      "('virus', 4.04441031469278)\n",
      "('human', 0.8023040523954229)\n",
      "('infection', 0.3831224526774793)\n",
      "('genetic', 0.379698728266028)\n",
      "('transmission', 0.37392711977297866)\n",
      "('host', 0.3697507268810123)\n",
      "('mutation', 0.36097474845893873)\n",
      "('cause', 0.354653999939141)\n",
      "('viral', 0.32490639102799757)\n",
      "('infect', 0.307015604300378)\n",
      "\n",
      "Topic 1:\n",
      "('social', 0.8722390300839232)\n",
      "('covid_19', 0.818275128149165)\n",
      "('health', 0.8122035759498376)\n",
      "('datum', 0.8013395873870156)\n",
      "('community', 0.6649153932979067)\n",
      "('behavior', 0.5678267535618879)\n",
      "('intervention', 0.554357959652187)\n",
      "('risk', 0.5379564268989002)\n",
      "('public', 0.520162787476839)\n",
      "('model', 0.5055835414712945)\n",
      "\n",
      "Topic 2:\n",
      "('influenza', 3.377917399266601)\n",
      "('vaccination', 0.40731015682093735)\n",
      "('strain', 0.34196837094561916)\n",
      "('effectiveness', 0.3032906103607889)\n",
      "('virus', 0.29148200942229363)\n",
      "('year', 0.28116134075200766)\n",
      "('age', 0.26209785339448977)\n",
      "('child', 0.25562363826095713)\n",
      "('infection', 0.22199553259593494)\n",
      "('respiratory', 0.22054639934400863)\n",
      "\n",
      "Topic 3:\n",
      "('vaccine', 2.459330480895021)\n",
      "('candidate', 0.3759117632632462)\n",
      "('adjuvant', 0.37180360743586416)\n",
      "('efficacy', 0.34649670573197844)\n",
      "('protection', 0.3284769050644052)\n",
      "('attenuate', 0.3280114357979791)\n",
      "('protective', 0.3040317714594663)\n",
      "('antigen', 0.30189285912008845)\n",
      "('dose', 0.2964961283468831)\n",
      "('rsv', 0.278979104289841)\n",
      "\n",
      "Topic 4:\n",
      "('hiv', 3.0603786553013115)\n",
      "('aids', 0.517763900422567)\n",
      "('prevention', 0.2858781873219962)\n",
      "('trial', 0.28015855270141127)\n",
      "('infection', 0.21478315072009735)\n",
      "('intervention', 0.2059035023546843)\n",
      "('clinical', 0.19348392560001706)\n",
      "('infect', 0.19334332261392861)\n",
      "('antiretroviral', 0.1837001172917443)\n",
      "('woman', 0.17492562900127195)\n",
      "\n",
      "Topic 5:\n",
      "('cell', 2.136499858988933)\n",
      "('response', 0.7235615201203972)\n",
      "('memory', 0.6522989733875447)\n",
      "('cd4', 0.5099959475678464)\n",
      "('immunity', 0.4236423516510242)\n",
      "('infection', 0.42225606311549724)\n",
      "('immune', 0.4099736638015694)\n",
      "('cd8', 0.39702515133756744)\n",
      "('lung', 0.36511686750429434)\n",
      "('specific', 0.31147652993434777)\n",
      "\n",
      "Topic 6:\n",
      "('hiv_1', 2.9987523110532397)\n",
      "('env', 0.943751938886376)\n",
      "('subtype', 0.3910533008068625)\n",
      "('transmission', 0.36217007021103487)\n",
      "('shiv', 0.29672622428056505)\n",
      "('infection', 0.28820624703487874)\n",
      "('aids', 0.2483562821404471)\n",
      "('glycan', 0.223853990257892)\n",
      "('variant', 0.20172067358949744)\n",
      "('infect', 0.19287629396149403)\n",
      "\n",
      "Topic 7:\n",
      "('protection', 1.0055231682741377)\n",
      "('ecologic', 0.9313979688102176)\n",
      "('immune', 0.9199952199104992)\n",
      "('evolution', 0.7275754086497975)\n",
      "('pathogenicity', 0.6993581939113728)\n",
      "('environmental', 0.6847902485945884)\n",
      "('correlate', 0.6637228097819288)\n",
      "('influenza', 0.6513534445352838)\n",
      "('cross', 0.6364069278979989)\n",
      "('emergence', 0.6014446645844254)\n",
      "\n",
      "Topic 8:\n",
      "('training', 1.3663813216155396)\n",
      "('program', 1.1419265377581294)\n",
      "('student', 0.785588477267691)\n",
      "('trainee', 0.6137749932654354)\n",
      "('faculty', 0.5183135819315093)\n",
      "('university', 0.44596785583239745)\n",
      "('career', 0.44161646552030137)\n",
      "('mentor', 0.38657133704715985)\n",
      "('doctoral', 0.3653365998930929)\n",
      "('support', 0.3631381493924167)\n",
      "\n",
      "Topic 9:\n",
      "('obesity', 0.6851594379372085)\n",
      "('disease', 0.5912764305061966)\n",
      "('infection', 0.57592355098298)\n",
      "('mtb', 0.4733943165970128)\n",
      "('tb', 0.47251742145307885)\n",
      "('gene', 0.45292079663262425)\n",
      "('mouse', 0.4501504327219582)\n",
      "('model', 0.396101412027686)\n",
      "('host', 0.3911059775417278)\n",
      "('bacterial', 0.3857856979714522)\n",
      "\n",
      "Topic 10:\n",
      "('drug', 1.6703352928990842)\n",
      "('inhibitor', 1.1232882774068682)\n",
      "('resistance', 0.9125524867009835)\n",
      "('compound', 0.5463980195920769)\n",
      "('antiviral', 0.5203765192461806)\n",
      "('resistant', 0.4362665471407058)\n",
      "('treatment', 0.400378654323942)\n",
      "('target', 0.35559955370291096)\n",
      "('protease', 0.32605575560834116)\n",
      "('anti', 0.3094458095917748)\n",
      "\n",
      "Topic 11:\n",
      "('iav', 2.548930408970811)\n",
      "('lung', 0.3531407387019064)\n",
      "('host', 0.31139037497215827)\n",
      "('sp', 0.2734719080915701)\n",
      "('evolution', 0.23627832585332817)\n",
      "('infection', 0.22942142628775236)\n",
      "('mast', 0.21421363741581256)\n",
      "('strain', 0.19221256947619594)\n",
      "('response', 0.18911703976109345)\n",
      "('immunity', 0.15200599705792853)\n",
      "\n",
      "Topic 12:\n",
      "('antibody', 1.9823118337976755)\n",
      "('epitope', 1.0061981033467338)\n",
      "('ha', 0.6733343686744578)\n",
      "('immunogen', 0.4616518901993661)\n",
      "('conserve', 0.44428972795961996)\n",
      "('neutralize', 0.43093820136535466)\n",
      "('neutralization', 0.430567774497183)\n",
      "('human', 0.4171933762823357)\n",
      "('bind', 0.38723168268757746)\n",
      "('protective', 0.36204141280653107)\n",
      "\n",
      "Topic 13:\n",
      "('diagnostic', 0.6977038838471701)\n",
      "('detection', 0.6062510725890321)\n",
      "('technology', 0.536192016712177)\n",
      "('sample', 0.5037343351868622)\n",
      "('assay', 0.46837454961320285)\n",
      "('rapid', 0.3783028869445932)\n",
      "('device', 0.35792791961690207)\n",
      "('core', 0.3362722060915147)\n",
      "('test', 0.32816935127086244)\n",
      "('cost', 0.3281343428652191)\n",
      "\n",
      "Topic 14:\n",
      "('sars_cov_2', 1.993387445302615)\n",
      "('covid_19', 1.4645706471478148)\n",
      "('patient', 0.580269651550551)\n",
      "('infection', 0.3986327627337973)\n",
      "('coronavirus', 0.38342839748463864)\n",
      "('disease', 0.31669001435601607)\n",
      "('severe', 0.31425266738816354)\n",
      "('clinical', 0.28697742132199394)\n",
      "('respiratory', 0.25117344950950726)\n",
      "('testing', 0.243434747704272)\n",
      "\n",
      "Topic 15:\n",
      "('viral', 0.8801882182877406)\n",
      "('protein', 0.8541139833336353)\n",
      "('rna', 0.7988705862215075)\n",
      "('host', 0.5671080947973767)\n",
      "('interaction', 0.3538340426794814)\n",
      "('structure', 0.3091571267599339)\n",
      "('assembly', 0.2998429499507131)\n",
      "('replication', 0.27941175058809525)\n",
      "('genome', 0.27932516104679117)\n",
      "('target', 0.27583404384324195)\n",
      "\n",
      "Topic 16:\n",
      "('animal', 1.121608049139458)\n",
      "('bird', 0.6205808180138371)\n",
      "('contact', 0.5127298330812723)\n",
      "('surveillance', 0.508303097739062)\n",
      "('close', 0.4947526872880324)\n",
      "('characterization', 0.4782253634695376)\n",
      "('limit', 0.3836601464039229)\n",
      "('rapid', 0.37518527942551455)\n",
      "('reassortment', 0.3548141480666013)\n",
      "('serosurveillance', 0.3494525699619381)\n",
      "\n",
      "Topic 17:\n",
      "('zikv', 1.8008334778855808)\n",
      "('dengue', 0.8130377154811131)\n",
      "('zika', 0.5549719322314326)\n",
      "('mosquito', 0.34238967178683416)\n",
      "('flavivirus', 0.29573642946954964)\n",
      "('infection', 0.2384478044786334)\n",
      "('wnv', 0.23662899349903432)\n",
      "('denv', 0.17433773110355227)\n",
      "('virus', 0.16410991115592025)\n",
      "('cns', 0.14838016542226498)\n",
      "\n",
      "Topic 18:\n",
      "('cancer', 1.9819656330229771)\n",
      "('patient', 0.6515157859318373)\n",
      "('care', 0.412072641139815)\n",
      "('kshv', 0.30108706421536174)\n",
      "('treatment', 0.24576538640751167)\n",
      "('breast', 0.196313460568392)\n",
      "('associate', 0.14783018148594032)\n",
      "('center', 0.14633746039387602)\n",
      "('clinical', 0.14556807011691986)\n",
      "('population', 0.1330255038687924)\n",
      "\n",
      "Topic 19:\n",
      "('ebola', 1.432406268184386)\n",
      "('virus', 0.5218243449422482)\n",
      "('outbreak', 0.2769207103813847)\n",
      "('gp', 0.25713733805945327)\n",
      "('filovirus', 0.2434681626689745)\n",
      "('cycle', 0.21635349381127914)\n",
      "('lassa', 0.2026561117305497)\n",
      "('entry', 0.17767013860708367)\n",
      "('disease', 0.1761884644873549)\n",
      "('replication', 0.16694580536468828)\n"
     ]
    }
   ],
   "source": [
    "print_topics(nmf_model, nmf_vectorizer, 10)"
   ]
  },
  {
   "cell_type": "code",
   "execution_count": null,
   "metadata": {},
   "outputs": [],
   "source": []
  },
  {
   "cell_type": "code",
   "execution_count": null,
   "metadata": {},
   "outputs": [],
   "source": []
  },
  {
   "cell_type": "code",
   "execution_count": 58,
   "metadata": {},
   "outputs": [
    {
     "data": {
      "text/plain": [
       "(5783,)"
      ]
     },
     "execution_count": 58,
     "metadata": {},
     "output_type": "execute_result"
    }
   ],
   "source": [
    "docs_ix = term_match_idx \n",
    "docs_idx = np.unique(docs_ix)\n",
    "docs_idx.shape"
   ]
  },
  {
   "cell_type": "code",
   "execution_count": 59,
   "metadata": {},
   "outputs": [
    {
     "name": "stdout",
     "output_type": "stream",
     "text": [
      "(5783, 30)\n",
      "5783\n"
     ]
    }
   ],
   "source": [
    "# topic model with just term matching\n",
    "\n",
    "filt_corpus2 = df.loc[docs_idx, :]\n",
    "print(filt_corpus2.shape)\n",
    "\n",
    "text = filt_corpus2[\"final_tokens\"]\n",
    "print(len(text))"
   ]
  },
  {
   "cell_type": "code",
   "execution_count": 60,
   "metadata": {},
   "outputs": [],
   "source": [
    "filt_corpus2.to_pickle(\"./term-match-pan-corpus.pkl\")"
   ]
  },
  {
   "cell_type": "code",
   "execution_count": 61,
   "metadata": {},
   "outputs": [
    {
     "name": "stdout",
     "output_type": "stream",
     "text": [
      "(5783, 18703)\n"
     ]
    }
   ],
   "source": [
    "# Create a TF-IDF document-term matrix for the pandemics corpus \n",
    "\n",
    "# TRY DIFFERENT PARAMETERS IN THE TF-IDF DOC-TERM MATRIX SET-UP\n",
    "\n",
    "stop_wds = ['research', 'aim', 'project']\n",
    "nmf_vectorizer2 = TfidfVectorizer(max_df=1.0, min_df=3, lowercase=False, stop_words=stop_wds) \n",
    "nmf_tf_idf2 = nmf_vectorizer2.fit_transform(text)\n",
    "print(nmf_tf_idf2.shape)"
   ]
  },
  {
   "cell_type": "code",
   "execution_count": 62,
   "metadata": {},
   "outputs": [],
   "source": [
    "# topic modeling with NMF\n",
    "\n",
    "nmf_model2 = NMF(n_components=20, random_state=1)  # TRY DIFFERENT NUMBERS OF TOPICS\n",
    "W = nmf_model2.fit_transform(nmf_tf_idf2)\n",
    "H = nmf_model2.components_"
   ]
  },
  {
   "cell_type": "code",
   "execution_count": 63,
   "metadata": {},
   "outputs": [
    {
     "name": "stdout",
     "output_type": "stream",
     "text": [
      "\n",
      "Topic 0:\n",
      "('virus', 2.3433546835060874)\n",
      "('host', 1.3099661492895747)\n",
      "('human', 1.2052427856437364)\n",
      "('viral', 0.8344924344739811)\n",
      "('gene', 0.7082435168387488)\n",
      "('evolution', 0.6362455104239401)\n",
      "('genetic', 0.6024134293883733)\n",
      "('sequence', 0.584006557464395)\n",
      "('pathogen', 0.5485592461829775)\n",
      "('model', 0.4729022050521842)\n",
      "\n",
      "Topic 1:\n",
      "('social', 0.8579437981516133)\n",
      "('health', 0.8409930486151155)\n",
      "('covid_19', 0.7603569151092018)\n",
      "('datum', 0.6944667093916935)\n",
      "('community', 0.5946572716040567)\n",
      "('behavior', 0.5784645886494667)\n",
      "('intervention', 0.5607518312192181)\n",
      "('public', 0.5510615086353723)\n",
      "('model', 0.5432727714811741)\n",
      "('risk', 0.5304616192967595)\n",
      "\n",
      "Topic 2:\n",
      "('hiv', 2.9231039340339042)\n",
      "('aids', 0.48762124511457877)\n",
      "('prevention', 0.2751340273999703)\n",
      "('trial', 0.2737458614896464)\n",
      "('intervention', 0.2084084719271732)\n",
      "('infection', 0.19836670449393565)\n",
      "('infect', 0.19737950607989374)\n",
      "('clinical', 0.17915435647258926)\n",
      "('antiretroviral', 0.1754654752181592)\n",
      "('woman', 0.16836823946854815)\n",
      "\n",
      "Topic 3:\n",
      "('vaccine', 2.1340903794474375)\n",
      "('adjuvant', 0.4295590040297302)\n",
      "('antigen', 0.3264355551294325)\n",
      "('protective', 0.30517935783422023)\n",
      "('efficacy', 0.2949394421616994)\n",
      "('protection', 0.28543586411623173)\n",
      "('dna', 0.2739847612224695)\n",
      "('dose', 0.2562247970904098)\n",
      "('response', 0.2495942888463271)\n",
      "('trial', 0.24740185138612808)\n",
      "\n",
      "Topic 4:\n",
      "('influenza', 3.9719446403349803)\n",
      "('virus', 0.9782140720710011)\n",
      "('strain', 0.47375846629429025)\n",
      "('vaccination', 0.41548628729204795)\n",
      "('infection', 0.3588719518451741)\n",
      "('year', 0.3529211410331723)\n",
      "('child', 0.28950842127149995)\n",
      "('pandemic', 0.2722812380570916)\n",
      "('effectiveness', 0.26203943514696937)\n",
      "('age', 0.2568524545489615)\n",
      "\n",
      "Topic 5:\n",
      "('cell', 2.5384495153158553)\n",
      "('response', 0.7762952522932153)\n",
      "('memory', 0.7746008320716586)\n",
      "('infection', 0.615019547810462)\n",
      "('cd4', 0.6045273927111771)\n",
      "('lung', 0.5294890868980079)\n",
      "('immune', 0.47366527429775607)\n",
      "('immunity', 0.4437934234816966)\n",
      "('cd8', 0.428908038364014)\n",
      "('specific', 0.3337779654300648)\n",
      "\n",
      "Topic 6:\n",
      "('training', 1.364939623296804)\n",
      "('program', 1.0336947473163103)\n",
      "('trainee', 0.6473208513425212)\n",
      "('faculty', 0.41529756942962875)\n",
      "('infectious', 0.41001223253541647)\n",
      "('doctoral', 0.36886427692163687)\n",
      "('disease', 0.3433122593831921)\n",
      "('investigator', 0.3395592171978713)\n",
      "('career', 0.3380078616140279)\n",
      "('health', 0.33649626617192097)\n",
      "\n",
      "Topic 7:\n",
      "('protection', 1.3226817197937177)\n",
      "('immune', 1.2202382319389602)\n",
      "('ecologic', 1.1854402695096302)\n",
      "('pathogenicity', 0.9324750886432185)\n",
      "('influenza', 0.9214449449213443)\n",
      "('evolution', 0.867857103590366)\n",
      "('environmental', 0.8492983783742014)\n",
      "('correlate', 0.8409845504411314)\n",
      "('cross', 0.8237923561660228)\n",
      "('influence', 0.7537407709231176)\n",
      "\n",
      "Topic 8:\n",
      "('hiv_1', 2.3612830371202542)\n",
      "('env', 0.49928726861451667)\n",
      "('subtype', 0.27403220140868995)\n",
      "('transmission', 0.26505661048838086)\n",
      "('infection', 0.2517310160522034)\n",
      "('aids', 0.18858300836564823)\n",
      "('infect', 0.18803919711318523)\n",
      "('sexual', 0.16538630787912958)\n",
      "('shiv', 0.15449948919882026)\n",
      "('microbicide', 0.14561047602653485)\n",
      "\n",
      "Topic 9:\n",
      "('sars_cov_2', 2.237408437904208)\n",
      "('covid_19', 1.7072151743924777)\n",
      "('patient', 0.7593601455978687)\n",
      "('infection', 0.5994985407147552)\n",
      "('disease', 0.44673595981315695)\n",
      "('severe', 0.43427497735186826)\n",
      "('coronavirus', 0.42602808721095475)\n",
      "('clinical', 0.39825209543258777)\n",
      "('respiratory', 0.30633160968004264)\n",
      "('testing', 0.3042828858570511)\n",
      "\n",
      "Topic 10:\n",
      "('tb', 1.7618238776519408)\n",
      "('mtb', 1.4665754179912796)\n",
      "('infection', 0.4099617566789216)\n",
      "('disease', 0.2711978946007108)\n",
      "('co', 0.26421673200632895)\n",
      "('autophagy', 0.25220939750776417)\n",
      "('host', 0.23568783154778772)\n",
      "('model', 0.23348016872550903)\n",
      "('tuberculosis_tb', 0.23042085155966116)\n",
      "('treatment', 0.19189184863592415)\n",
      "\n",
      "Topic 11:\n",
      "('drug', 1.4701102189145532)\n",
      "('inhibitor', 0.9363866432298126)\n",
      "('resistance', 0.8177676004040143)\n",
      "('antiviral', 0.45495423362144094)\n",
      "('compound', 0.4316853924760741)\n",
      "('resistant', 0.38385262886384947)\n",
      "('treatment', 0.3529101550676928)\n",
      "('target', 0.29626997195542754)\n",
      "('protease', 0.29513421471065293)\n",
      "('therapeutic', 0.26300303225007743)\n",
      "\n",
      "Topic 12:\n",
      "('iav', 2.5911727853814046)\n",
      "('lung', 0.49707724898986116)\n",
      "('sp', 0.32959781605841687)\n",
      "('infection', 0.3214998243714288)\n",
      "('mast', 0.260545782088764)\n",
      "('host', 0.22328498896458454)\n",
      "('response', 0.2108735350890926)\n",
      "('induce', 0.1990756902490664)\n",
      "('strain', 0.19440246713500361)\n",
      "('viral', 0.1719538615067485)\n",
      "\n",
      "Topic 13:\n",
      "('diagnostic', 0.7844439851336819)\n",
      "('detection', 0.6612264102626608)\n",
      "('technology', 0.6531105373356961)\n",
      "('sample', 0.5128814648317142)\n",
      "('device', 0.4378066391233372)\n",
      "('assay', 0.4148367766514963)\n",
      "('core', 0.4121044529336232)\n",
      "('poc', 0.40592993507255587)\n",
      "('rapid', 0.3976015831110277)\n",
      "('test', 0.38834663380107154)\n",
      "\n",
      "Topic 14:\n",
      "('animal', 1.1602648451580564)\n",
      "('bird', 0.6410682942968193)\n",
      "('contact', 0.5381365816703032)\n",
      "('characterization', 0.5309967385691517)\n",
      "('close', 0.5308746592452696)\n",
      "('surveillance', 0.526854051654551)\n",
      "('virus', 0.4195012220346611)\n",
      "('limit', 0.4059250917755394)\n",
      "('rapid', 0.384600416075855)\n",
      "('serosurveillance', 0.3693828602361197)\n",
      "\n",
      "Topic 15:\n",
      "('obesity', 1.071937438438081)\n",
      "('insulin', 0.5398179003783031)\n",
      "('obese', 0.421383622389334)\n",
      "('metabolic', 0.3757368203954193)\n",
      "('weight', 0.3027253445809032)\n",
      "('mouse', 0.29502923173428225)\n",
      "('gene', 0.2940764694781094)\n",
      "('lipid', 0.28235560030695217)\n",
      "('glucose', 0.26541416603493445)\n",
      "('study', 0.26162635093852743)\n",
      "\n",
      "Topic 16:\n",
      "('antibody', 1.3472352197391617)\n",
      "('ha', 0.547965024058042)\n",
      "('epitope', 0.4645647286801084)\n",
      "('human', 0.3024784275599357)\n",
      "('bind', 0.29455844343004833)\n",
      "('env', 0.28666446995604505)\n",
      "('glycan', 0.27856201148153603)\n",
      "('neutralization', 0.2577735153022265)\n",
      "('neutralize', 0.2424452538222523)\n",
      "('response', 0.22633158285232335)\n",
      "\n",
      "Topic 17:\n",
      "('cancer', 1.8120672852980864)\n",
      "('patient', 0.5214570753839074)\n",
      "('care', 0.3702879022434495)\n",
      "('treatment', 0.21594491830887383)\n",
      "('breast', 0.19170346029377455)\n",
      "('center', 0.13455332195333783)\n",
      "('survivor', 0.13121444123279494)\n",
      "('impact', 0.12239737652158492)\n",
      "('disparity', 0.1148261042598198)\n",
      "('clinical', 0.1145798816981869)\n",
      "\n",
      "Topic 18:\n",
      "('protein', 1.446195191611406)\n",
      "('viral', 0.7506901389014677)\n",
      "('rna', 0.7444889851109263)\n",
      "('virus', 0.5828729793792514)\n",
      "('bind', 0.44761593405888983)\n",
      "('membrane', 0.4355659039535048)\n",
      "('interaction', 0.39665760867786226)\n",
      "('structure', 0.39552036755891506)\n",
      "('np', 0.37150469278659715)\n",
      "('target', 0.35732503671693855)\n",
      "\n",
      "Topic 19:\n",
      "('student', 1.2827304795020111)\n",
      "('education', 0.385721913271621)\n",
      "('learning', 0.37286123274175875)\n",
      "('stem', 0.36712444314205367)\n",
      "('undergraduate', 0.34188234692991637)\n",
      "('science', 0.3089621391310284)\n",
      "('graduate', 0.28336818985803514)\n",
      "('online', 0.2552538078677325)\n",
      "('learn', 0.2442253174666447)\n",
      "('university', 0.23824772692874877)\n"
     ]
    }
   ],
   "source": [
    "print_topics(nmf_model2, nmf_vectorizer2, 10)"
   ]
  },
  {
   "cell_type": "code",
   "execution_count": null,
   "metadata": {},
   "outputs": [],
   "source": []
  },
  {
   "cell_type": "code",
   "execution_count": null,
   "metadata": {},
   "outputs": [],
   "source": []
  }
 ],
 "metadata": {
  "kernelspec": {
   "display_name": "Python 3.8",
   "language": "python",
   "name": "python-3.8"
  },
  "language_info": {
   "codemirror_mode": {
    "name": "ipython",
    "version": 3
   },
   "file_extension": ".py",
   "mimetype": "text/x-python",
   "name": "python",
   "nbconvert_exporter": "python",
   "pygments_lexer": "ipython3",
   "version": "3.8.8"
  }
 },
 "nbformat": 4,
 "nbformat_minor": 4
}
