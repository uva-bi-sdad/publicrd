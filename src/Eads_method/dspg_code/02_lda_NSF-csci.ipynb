{
 "cells": [
  {
   "cell_type": "markdown",
   "metadata": {},
   "source": [
    "In this document I will filter to only the abstracts that are from the NSF, to see if we can get a more specific corpus to run our topic model on."
   ]
  },
  {
   "cell_type": "code",
   "execution_count": 1,
   "metadata": {},
   "outputs": [],
   "source": [
    "import pandas as pd\n",
    "import sklearn\n",
    "from sklearn.feature_extraction.text import CountVectorizer\n",
    "from sklearn.decomposition import LatentDirichletAllocation\n",
    "#from git/dspg21RnD/wheat_filtration/wheat_filtration import keywords\n",
    "#from git/dspg21RnD/wheat_filtration/wheat_filtration import filter\n",
    "#import keywords"
   ]
  },
  {
   "cell_type": "code",
   "execution_count": 2,
   "metadata": {},
   "outputs": [],
   "source": [
    "#larger dataset\n",
    "\n",
    "df = pd.read_pickle(\"../../data/dspg21RnD/smaller-final-dataset.pkl\")"
   ]
  },
  {
   "cell_type": "code",
   "execution_count": 3,
   "metadata": {},
   "outputs": [
    {
     "data": {
      "text/html": [
       "<div>\n",
       "<style scoped>\n",
       "    .dataframe tbody tr th:only-of-type {\n",
       "        vertical-align: middle;\n",
       "    }\n",
       "\n",
       "    .dataframe tbody tr th {\n",
       "        vertical-align: top;\n",
       "    }\n",
       "\n",
       "    .dataframe thead th {\n",
       "        text-align: right;\n",
       "    }\n",
       "</style>\n",
       "<table border=\"1\" class=\"dataframe\">\n",
       "  <thead>\n",
       "    <tr style=\"text-align: right;\">\n",
       "      <th></th>\n",
       "      <th>original index</th>\n",
       "      <th>PROJECT_ID</th>\n",
       "      <th>ABSTRACT</th>\n",
       "      <th>FY</th>\n",
       "      <th>ORG_COUNT</th>\n",
       "      <th>PI_COUNT</th>\n",
       "      <th>nchar</th>\n",
       "      <th>final_frqwds_removed</th>\n",
       "      <th>PROJECT_TERMS</th>\n",
       "      <th>PROJECT_TITLE</th>\n",
       "      <th>...</th>\n",
       "      <th>ORGANIZATION_CITY</th>\n",
       "      <th>ORGANIZATION_STATE</th>\n",
       "      <th>ORGANIZATION_ZIP</th>\n",
       "      <th>ORGANIZATION_COUNTRY</th>\n",
       "      <th>BUDGET_START_DATE</th>\n",
       "      <th>BUDGET_END_DATE</th>\n",
       "      <th>CFDA_CODE</th>\n",
       "      <th>FY.y</th>\n",
       "      <th>FY_TOTAL_COST</th>\n",
       "      <th>FY_TOTAL_COST_SUB_PROJECTS</th>\n",
       "    </tr>\n",
       "  </thead>\n",
       "  <tbody>\n",
       "    <tr>\n",
       "      <th>0</th>\n",
       "      <td>17608</td>\n",
       "      <td>152242</td>\n",
       "      <td>The multiprotein complex y-secretase proteolyt...</td>\n",
       "      <td>2008</td>\n",
       "      <td>1</td>\n",
       "      <td>1</td>\n",
       "      <td>1402</td>\n",
       "      <td>[multiprotein, y_secretase, proteolytically_cl...</td>\n",
       "      <td>Active Sites; Affect; Alzheimer's Disease; Am...</td>\n",
       "      <td>STRUCTURE OF SIGNAL PEPTIDE PEPTIDASE</td>\n",
       "      <td>...</td>\n",
       "      <td>BOSTON</td>\n",
       "      <td>MA</td>\n",
       "      <td>021156110</td>\n",
       "      <td>UNITED STATES</td>\n",
       "      <td>12/1/2007</td>\n",
       "      <td>1/1/2008</td>\n",
       "      <td>93.866</td>\n",
       "      <td>2008</td>\n",
       "      <td>3483.0</td>\n",
       "      <td>NaN</td>\n",
       "    </tr>\n",
       "    <tr>\n",
       "      <th>1</th>\n",
       "      <td>111864</td>\n",
       "      <td>190316</td>\n",
       "      <td>DESCRIPTION (provided by applicant):   The Kis...</td>\n",
       "      <td>2008</td>\n",
       "      <td>1</td>\n",
       "      <td>1</td>\n",
       "      <td>2553</td>\n",
       "      <td>[kissl, gene, encode, peptide, kisspeptin, bin...</td>\n",
       "      <td>Affect; Animal Model; Axon; Behavior; Behavio...</td>\n",
       "      <td>ROLE OF KISS1 NEURONS IN THE SEASONAL AND CIRC...</td>\n",
       "      <td>...</td>\n",
       "      <td>SEATTLE</td>\n",
       "      <td>WA</td>\n",
       "      <td>981959472</td>\n",
       "      <td>UNITED STATES</td>\n",
       "      <td>9/1/2008</td>\n",
       "      <td>1/1/2009</td>\n",
       "      <td>93.865</td>\n",
       "      <td>2008</td>\n",
       "      <td>39175.0</td>\n",
       "      <td>NaN</td>\n",
       "    </tr>\n",
       "    <tr>\n",
       "      <th>2</th>\n",
       "      <td>22052</td>\n",
       "      <td>154213</td>\n",
       "      <td>DESCRIPTION (provided by applicant): The objec...</td>\n",
       "      <td>2008</td>\n",
       "      <td>1</td>\n",
       "      <td>1</td>\n",
       "      <td>1414</td>\n",
       "      <td>[biophysical, basis, thermodynamics_kinetic, m...</td>\n",
       "      <td>Agreement; Antibodies; base; Binding; Biochem...</td>\n",
       "      <td>CARBONIC ANHYDRASE AS A MODEL TO UNDERSTAND DI...</td>\n",
       "      <td>...</td>\n",
       "      <td>CAMBRIDGE</td>\n",
       "      <td>MA</td>\n",
       "      <td>021385319</td>\n",
       "      <td>UNITED STATES</td>\n",
       "      <td>1/2/2008</td>\n",
       "      <td>1/1/2009</td>\n",
       "      <td>93.859</td>\n",
       "      <td>2008</td>\n",
       "      <td>49646.0</td>\n",
       "      <td>NaN</td>\n",
       "    </tr>\n",
       "    <tr>\n",
       "      <th>3</th>\n",
       "      <td>35004</td>\n",
       "      <td>159362</td>\n",
       "      <td>Obesity is the cause of many adverse pregnancy...</td>\n",
       "      <td>2008</td>\n",
       "      <td>1</td>\n",
       "      <td>1</td>\n",
       "      <td>1545</td>\n",
       "      <td>[obesity, adverse_pregnancyoutcome, great, hea...</td>\n",
       "      <td>African; Analysis of Variance; Asians; Birth;...</td>\n",
       "      <td>OBESITY ON VAGAL TONE AND HBA1C DURING PREGNANCY</td>\n",
       "      <td>...</td>\n",
       "      <td>HOUSTON</td>\n",
       "      <td>TX</td>\n",
       "      <td>770305400</td>\n",
       "      <td>UNITED STATES</td>\n",
       "      <td>4/1/2008</td>\n",
       "      <td>1/1/2009</td>\n",
       "      <td>93.361</td>\n",
       "      <td>2008</td>\n",
       "      <td>20406.0</td>\n",
       "      <td>NaN</td>\n",
       "    </tr>\n",
       "    <tr>\n",
       "      <th>4</th>\n",
       "      <td>371628</td>\n",
       "      <td>594482</td>\n",
       "      <td>Local potato advisory groups have expressed in...</td>\n",
       "      <td>2010</td>\n",
       "      <td>1</td>\n",
       "      <td>1</td>\n",
       "      <td>271</td>\n",
       "      <td>[local, potato, advisory, express, interest, m...</td>\n",
       "      <td>cost; Health; interest; Manure; Parasitic nem...</td>\n",
       "      <td>PLANT-PARASITIC NEMATODE MANAGEMENT AS A COMPO...</td>\n",
       "      <td>...</td>\n",
       "      <td>CORVALLIS</td>\n",
       "      <td>OR</td>\n",
       "      <td>97331</td>\n",
       "      <td>UNITED STATES</td>\n",
       "      <td>NaN</td>\n",
       "      <td>NaN</td>\n",
       "      <td>10.203</td>\n",
       "      <td>2010</td>\n",
       "      <td>NaN</td>\n",
       "      <td>NaN</td>\n",
       "    </tr>\n",
       "  </tbody>\n",
       "</table>\n",
       "<p>5 rows × 31 columns</p>\n",
       "</div>"
      ],
      "text/plain": [
       "   original index PROJECT_ID  \\\n",
       "0           17608     152242   \n",
       "1          111864     190316   \n",
       "2           22052     154213   \n",
       "3           35004     159362   \n",
       "4          371628     594482   \n",
       "\n",
       "                                            ABSTRACT    FY  ORG_COUNT  \\\n",
       "0  The multiprotein complex y-secretase proteolyt...  2008          1   \n",
       "1  DESCRIPTION (provided by applicant):   The Kis...  2008          1   \n",
       "2  DESCRIPTION (provided by applicant): The objec...  2008          1   \n",
       "3  Obesity is the cause of many adverse pregnancy...  2008          1   \n",
       "4  Local potato advisory groups have expressed in...  2010          1   \n",
       "\n",
       "   PI_COUNT  nchar                               final_frqwds_removed  \\\n",
       "0         1   1402  [multiprotein, y_secretase, proteolytically_cl...   \n",
       "1         1   2553  [kissl, gene, encode, peptide, kisspeptin, bin...   \n",
       "2         1   1414  [biophysical, basis, thermodynamics_kinetic, m...   \n",
       "3         1   1545  [obesity, adverse_pregnancyoutcome, great, hea...   \n",
       "4         1    271  [local, potato, advisory, express, interest, m...   \n",
       "\n",
       "                                       PROJECT_TERMS  \\\n",
       "0   Active Sites; Affect; Alzheimer's Disease; Am...   \n",
       "1   Affect; Animal Model; Axon; Behavior; Behavio...   \n",
       "2   Agreement; Antibodies; base; Binding; Biochem...   \n",
       "3   African; Analysis of Variance; Asians; Birth;...   \n",
       "4   cost; Health; interest; Manure; Parasitic nem...   \n",
       "\n",
       "                                       PROJECT_TITLE  ... ORGANIZATION_CITY  \\\n",
       "0              STRUCTURE OF SIGNAL PEPTIDE PEPTIDASE  ...            BOSTON   \n",
       "1  ROLE OF KISS1 NEURONS IN THE SEASONAL AND CIRC...  ...           SEATTLE   \n",
       "2  CARBONIC ANHYDRASE AS A MODEL TO UNDERSTAND DI...  ...         CAMBRIDGE   \n",
       "3   OBESITY ON VAGAL TONE AND HBA1C DURING PREGNANCY  ...           HOUSTON   \n",
       "4  PLANT-PARASITIC NEMATODE MANAGEMENT AS A COMPO...  ...         CORVALLIS   \n",
       "\n",
       "  ORGANIZATION_STATE ORGANIZATION_ZIP ORGANIZATION_COUNTRY BUDGET_START_DATE  \\\n",
       "0                 MA        021156110        UNITED STATES         12/1/2007   \n",
       "1                 WA        981959472        UNITED STATES          9/1/2008   \n",
       "2                 MA        021385319        UNITED STATES          1/2/2008   \n",
       "3                 TX        770305400        UNITED STATES          4/1/2008   \n",
       "4                 OR            97331        UNITED STATES               NaN   \n",
       "\n",
       "  BUDGET_END_DATE CFDA_CODE  FY.y FY_TOTAL_COST FY_TOTAL_COST_SUB_PROJECTS  \n",
       "0        1/1/2008    93.866  2008        3483.0                        NaN  \n",
       "1        1/1/2009    93.865  2008       39175.0                        NaN  \n",
       "2        1/1/2009    93.859  2008       49646.0                        NaN  \n",
       "3        1/1/2009    93.361  2008       20406.0                        NaN  \n",
       "4             NaN    10.203  2010           NaN                        NaN  \n",
       "\n",
       "[5 rows x 31 columns]"
      ]
     },
     "execution_count": 3,
     "metadata": {},
     "output_type": "execute_result"
    }
   ],
   "source": [
    "df.head()"
   ]
  },
  {
   "cell_type": "code",
   "execution_count": null,
   "metadata": {},
   "outputs": [],
   "source": []
  },
  {
   "cell_type": "markdown",
   "metadata": {},
   "source": [
    "NSF only:"
   ]
  },
  {
   "cell_type": "code",
   "execution_count": 4,
   "metadata": {},
   "outputs": [],
   "source": [
    "#filter to NSF\n",
    "\n",
    "nsf = df[df[\"AGENCY\"] == \"NSF\"]"
   ]
  },
  {
   "cell_type": "code",
   "execution_count": 5,
   "metadata": {},
   "outputs": [
    {
     "data": {
      "text/plain": [
       "(690814, 31)"
      ]
     },
     "execution_count": 5,
     "metadata": {},
     "output_type": "execute_result"
    }
   ],
   "source": [
    "df.shape"
   ]
  },
  {
   "cell_type": "code",
   "execution_count": 6,
   "metadata": {},
   "outputs": [
    {
     "data": {
      "text/plain": [
       "(121715, 31)"
      ]
     },
     "execution_count": 6,
     "metadata": {},
     "output_type": "execute_result"
    }
   ],
   "source": [
    "nsf.shape"
   ]
  },
  {
   "cell_type": "code",
   "execution_count": 7,
   "metadata": {},
   "outputs": [
    {
     "data": {
      "text/plain": [
       "array(['NIH', 'NIFA', 'DVBIC', 'NASA', 'ARS', 'VA', 'CDMRP', 'EPA', 'IES',\n",
       "       'ALLCDC', 'ACF', 'AHRQ', 'NIDILRR', 'FS', 'CCCRP', 'NSF', 'FDA',\n",
       "       'CNRM', nan], dtype=object)"
      ]
     },
     "execution_count": 7,
     "metadata": {},
     "output_type": "execute_result"
    }
   ],
   "source": [
    "df[\"AGENCY\"].unique()"
   ]
  },
  {
   "cell_type": "code",
   "execution_count": 8,
   "metadata": {},
   "outputs": [
    {
     "data": {
      "text/plain": [
       "array(['NSF'], dtype=object)"
      ]
     },
     "execution_count": 8,
     "metadata": {},
     "output_type": "execute_result"
    }
   ],
   "source": [
    "nsf[\"AGENCY\"].unique()"
   ]
  },
  {
   "cell_type": "code",
   "execution_count": 9,
   "metadata": {},
   "outputs": [
    {
     "data": {
      "text/html": [
       "<div>\n",
       "<style scoped>\n",
       "    .dataframe tbody tr th:only-of-type {\n",
       "        vertical-align: middle;\n",
       "    }\n",
       "\n",
       "    .dataframe tbody tr th {\n",
       "        vertical-align: top;\n",
       "    }\n",
       "\n",
       "    .dataframe thead th {\n",
       "        text-align: right;\n",
       "    }\n",
       "</style>\n",
       "<table border=\"1\" class=\"dataframe\">\n",
       "  <thead>\n",
       "    <tr style=\"text-align: right;\">\n",
       "      <th></th>\n",
       "      <th>original index</th>\n",
       "      <th>PROJECT_ID</th>\n",
       "      <th>ABSTRACT</th>\n",
       "      <th>FY</th>\n",
       "      <th>ORG_COUNT</th>\n",
       "      <th>PI_COUNT</th>\n",
       "      <th>nchar</th>\n",
       "      <th>final_frqwds_removed</th>\n",
       "      <th>PROJECT_TERMS</th>\n",
       "      <th>PROJECT_TITLE</th>\n",
       "      <th>...</th>\n",
       "      <th>ORGANIZATION_CITY</th>\n",
       "      <th>ORGANIZATION_STATE</th>\n",
       "      <th>ORGANIZATION_ZIP</th>\n",
       "      <th>ORGANIZATION_COUNTRY</th>\n",
       "      <th>BUDGET_START_DATE</th>\n",
       "      <th>BUDGET_END_DATE</th>\n",
       "      <th>CFDA_CODE</th>\n",
       "      <th>FY.y</th>\n",
       "      <th>FY_TOTAL_COST</th>\n",
       "      <th>FY_TOTAL_COST_SUB_PROJECTS</th>\n",
       "    </tr>\n",
       "  </thead>\n",
       "  <tbody>\n",
       "    <tr>\n",
       "      <th>1925</th>\n",
       "      <td>13759</td>\n",
       "      <td>103782</td>\n",
       "      <td>Proposal Title: 2006 Minority Faculty Developm...</td>\n",
       "      <td>2008</td>\n",
       "      <td>1</td>\n",
       "      <td>1</td>\n",
       "      <td>3014</td>\n",
       "      <td>[title, principal, barabinoinstitution, georgi...</td>\n",
       "      <td>Achievement; Address; Administrator; Advisory...</td>\n",
       "      <td>2006 MINORITY FACULTY DEVELOPMENT WORKSHOP</td>\n",
       "      <td>...</td>\n",
       "      <td>ATLANTA</td>\n",
       "      <td>GA</td>\n",
       "      <td>30332-0420</td>\n",
       "      <td>UNITED STATES</td>\n",
       "      <td>NaN</td>\n",
       "      <td>NaN</td>\n",
       "      <td>47.041</td>\n",
       "      <td>2008</td>\n",
       "      <td>37738.0</td>\n",
       "      <td>NaN</td>\n",
       "    </tr>\n",
       "    <tr>\n",
       "      <th>1927</th>\n",
       "      <td>13714</td>\n",
       "      <td>103211</td>\n",
       "      <td>This workshop will provide a unique platform f...</td>\n",
       "      <td>2008</td>\n",
       "      <td>1</td>\n",
       "      <td>1</td>\n",
       "      <td>1175</td>\n",
       "      <td>[workshop, unique, platform, expert, cell, mol...</td>\n",
       "      <td>Area; Biology; Biomechanics; Biomedical Engin...</td>\n",
       "      <td>WORKSHOP: THE CELL AS A MACHINE: MECHANO-, CON...</td>\n",
       "      <td>...</td>\n",
       "      <td>CHAMPAIGN</td>\n",
       "      <td>IL</td>\n",
       "      <td>61820-7406</td>\n",
       "      <td>UNITED STATES</td>\n",
       "      <td>NaN</td>\n",
       "      <td>NaN</td>\n",
       "      <td>47.041</td>\n",
       "      <td>2008</td>\n",
       "      <td>44635.0</td>\n",
       "      <td>NaN</td>\n",
       "    </tr>\n",
       "    <tr>\n",
       "      <th>1958</th>\n",
       "      <td>11830</td>\n",
       "      <td>101825</td>\n",
       "      <td>AbstractZhengThe proposal is for partial fundi...</td>\n",
       "      <td>2008</td>\n",
       "      <td>1</td>\n",
       "      <td>1</td>\n",
       "      <td>1488</td>\n",
       "      <td>[partial, funding, th, southeastern, meeting, ...</td>\n",
       "      <td>abstracting; Back; experience; Faculty; Fundi...</td>\n",
       "      <td>THE 24TH SOUTHEASTERN ANALYSIS MEETING AND SHA...</td>\n",
       "      <td>...</td>\n",
       "      <td>NASHVILLE</td>\n",
       "      <td>TN</td>\n",
       "      <td>37240-7749</td>\n",
       "      <td>UNITED STATES</td>\n",
       "      <td>NaN</td>\n",
       "      <td>NaN</td>\n",
       "      <td>47.049</td>\n",
       "      <td>2008</td>\n",
       "      <td>25000.0</td>\n",
       "      <td>NaN</td>\n",
       "    </tr>\n",
       "    <tr>\n",
       "      <th>1962</th>\n",
       "      <td>11834</td>\n",
       "      <td>101831</td>\n",
       "      <td>The 50th Annual Maize Genetics Conference will...</td>\n",
       "      <td>2008</td>\n",
       "      <td>1</td>\n",
       "      <td>1</td>\n",
       "      <td>1083</td>\n",
       "      <td>[50th_annual, maize, genetics, conference, hol...</td>\n",
       "      <td>career; Communities; cost; District of Columb...</td>\n",
       "      <td>50TH ANNUAL MAIZE GENETICS CONFERENCE TO BE HE...</td>\n",
       "      <td>...</td>\n",
       "      <td>COLUMBIA</td>\n",
       "      <td>MO</td>\n",
       "      <td>65211-1230</td>\n",
       "      <td>UNITED STATES</td>\n",
       "      <td>NaN</td>\n",
       "      <td>NaN</td>\n",
       "      <td>47.074</td>\n",
       "      <td>2008</td>\n",
       "      <td>69750.0</td>\n",
       "      <td>NaN</td>\n",
       "    </tr>\n",
       "    <tr>\n",
       "      <th>1995</th>\n",
       "      <td>4372</td>\n",
       "      <td>94089</td>\n",
       "      <td>The purpose of this workshop, to be held April...</td>\n",
       "      <td>2008</td>\n",
       "      <td>1</td>\n",
       "      <td>1</td>\n",
       "      <td>1545</td>\n",
       "      <td>[purpose, workshop, hold, april, 2008, troy_mi...</td>\n",
       "      <td>Academia; Address; Automobiles; Communities; ...</td>\n",
       "      <td>NATIONAL WORKSHOP ON HIGH-CONFIDENCE AUTOMOTIV...</td>\n",
       "      <td>...</td>\n",
       "      <td>PITTSBURGH</td>\n",
       "      <td>PA</td>\n",
       "      <td>15213-3890</td>\n",
       "      <td>UNITED STATES</td>\n",
       "      <td>NaN</td>\n",
       "      <td>NaN</td>\n",
       "      <td>47.041</td>\n",
       "      <td>2008</td>\n",
       "      <td>NaN</td>\n",
       "      <td>NaN</td>\n",
       "    </tr>\n",
       "  </tbody>\n",
       "</table>\n",
       "<p>5 rows × 31 columns</p>\n",
       "</div>"
      ],
      "text/plain": [
       "      original index PROJECT_ID  \\\n",
       "1925           13759     103782   \n",
       "1927           13714     103211   \n",
       "1958           11830     101825   \n",
       "1962           11834     101831   \n",
       "1995            4372      94089   \n",
       "\n",
       "                                               ABSTRACT    FY  ORG_COUNT  \\\n",
       "1925  Proposal Title: 2006 Minority Faculty Developm...  2008          1   \n",
       "1927  This workshop will provide a unique platform f...  2008          1   \n",
       "1958  AbstractZhengThe proposal is for partial fundi...  2008          1   \n",
       "1962  The 50th Annual Maize Genetics Conference will...  2008          1   \n",
       "1995  The purpose of this workshop, to be held April...  2008          1   \n",
       "\n",
       "      PI_COUNT  nchar                               final_frqwds_removed  \\\n",
       "1925         1   3014  [title, principal, barabinoinstitution, georgi...   \n",
       "1927         1   1175  [workshop, unique, platform, expert, cell, mol...   \n",
       "1958         1   1488  [partial, funding, th, southeastern, meeting, ...   \n",
       "1962         1   1083  [50th_annual, maize, genetics, conference, hol...   \n",
       "1995         1   1545  [purpose, workshop, hold, april, 2008, troy_mi...   \n",
       "\n",
       "                                          PROJECT_TERMS  \\\n",
       "1925   Achievement; Address; Administrator; Advisory...   \n",
       "1927   Area; Biology; Biomechanics; Biomedical Engin...   \n",
       "1958   abstracting; Back; experience; Faculty; Fundi...   \n",
       "1962   career; Communities; cost; District of Columb...   \n",
       "1995   Academia; Address; Automobiles; Communities; ...   \n",
       "\n",
       "                                          PROJECT_TITLE  ...  \\\n",
       "1925         2006 MINORITY FACULTY DEVELOPMENT WORKSHOP  ...   \n",
       "1927  WORKSHOP: THE CELL AS A MACHINE: MECHANO-, CON...  ...   \n",
       "1958  THE 24TH SOUTHEASTERN ANALYSIS MEETING AND SHA...  ...   \n",
       "1962  50TH ANNUAL MAIZE GENETICS CONFERENCE TO BE HE...  ...   \n",
       "1995  NATIONAL WORKSHOP ON HIGH-CONFIDENCE AUTOMOTIV...  ...   \n",
       "\n",
       "     ORGANIZATION_CITY ORGANIZATION_STATE ORGANIZATION_ZIP  \\\n",
       "1925           ATLANTA                 GA       30332-0420   \n",
       "1927         CHAMPAIGN                 IL       61820-7406   \n",
       "1958         NASHVILLE                 TN       37240-7749   \n",
       "1962          COLUMBIA                 MO       65211-1230   \n",
       "1995        PITTSBURGH                 PA       15213-3890   \n",
       "\n",
       "     ORGANIZATION_COUNTRY BUDGET_START_DATE BUDGET_END_DATE CFDA_CODE  FY.y  \\\n",
       "1925        UNITED STATES               NaN             NaN    47.041  2008   \n",
       "1927        UNITED STATES               NaN             NaN    47.041  2008   \n",
       "1958        UNITED STATES               NaN             NaN    47.049  2008   \n",
       "1962        UNITED STATES               NaN             NaN    47.074  2008   \n",
       "1995        UNITED STATES               NaN             NaN    47.041  2008   \n",
       "\n",
       "     FY_TOTAL_COST FY_TOTAL_COST_SUB_PROJECTS  \n",
       "1925       37738.0                        NaN  \n",
       "1927       44635.0                        NaN  \n",
       "1958       25000.0                        NaN  \n",
       "1962       69750.0                        NaN  \n",
       "1995           NaN                        NaN  \n",
       "\n",
       "[5 rows x 31 columns]"
      ]
     },
     "execution_count": 9,
     "metadata": {},
     "output_type": "execute_result"
    }
   ],
   "source": [
    "nsf.head()"
   ]
  },
  {
   "cell_type": "code",
   "execution_count": 10,
   "metadata": {},
   "outputs": [
    {
     "data": {
      "text/plain": [
       "array(['47.041', '47.049', '47.074', '47.070', '47.050', '47.078',\n",
       "       '47.075', '47.079', '47.076', '47.080', '47.082', '47.081', nan,\n",
       "       '47.083'], dtype=object)"
      ]
     },
     "execution_count": 10,
     "metadata": {},
     "output_type": "execute_result"
    }
   ],
   "source": [
    "nsf[\"CFDA_CODE\"].unique()"
   ]
  },
  {
   "cell_type": "code",
   "execution_count": 11,
   "metadata": {},
   "outputs": [],
   "source": [
    "counts_cfda = nsf[\"PROJECT_ID\"].groupby(nsf[\"CFDA_CODE\"]).count()"
   ]
  },
  {
   "cell_type": "code",
   "execution_count": 12,
   "metadata": {},
   "outputs": [],
   "source": [
    "import matplotlib.pyplot as plt"
   ]
  },
  {
   "cell_type": "code",
   "execution_count": 13,
   "metadata": {},
   "outputs": [
    {
     "data": {
      "text/plain": [
       "CFDA_CODE\n",
       "47.041    23932\n",
       "47.049    25432\n",
       "47.050    12686\n",
       "47.070    16416\n",
       "47.074    12994\n",
       "47.075    10946\n",
       "47.076     9877\n",
       "47.078      976\n",
       "47.079     2627\n",
       "47.080      853\n",
       "47.081       54\n",
       "47.082     4712\n",
       "47.083      164\n",
       "Name: PROJECT_ID, dtype: int64"
      ]
     },
     "execution_count": 13,
     "metadata": {},
     "output_type": "execute_result"
    }
   ],
   "source": [
    "counts_cfda"
   ]
  },
  {
   "cell_type": "markdown",
   "metadata": {},
   "source": [
    "CFDA = 47.070"
   ]
  },
  {
   "cell_type": "code",
   "execution_count": 14,
   "metadata": {},
   "outputs": [],
   "source": [
    "# filter where cfda = 47.070\n",
    "\n",
    "nsf_csci = nsf[nsf[\"CFDA_CODE\"] == \"47.070\"]"
   ]
  },
  {
   "cell_type": "code",
   "execution_count": 15,
   "metadata": {},
   "outputs": [
    {
     "data": {
      "text/html": [
       "<div>\n",
       "<style scoped>\n",
       "    .dataframe tbody tr th:only-of-type {\n",
       "        vertical-align: middle;\n",
       "    }\n",
       "\n",
       "    .dataframe tbody tr th {\n",
       "        vertical-align: top;\n",
       "    }\n",
       "\n",
       "    .dataframe thead th {\n",
       "        text-align: right;\n",
       "    }\n",
       "</style>\n",
       "<table border=\"1\" class=\"dataframe\">\n",
       "  <thead>\n",
       "    <tr style=\"text-align: right;\">\n",
       "      <th></th>\n",
       "      <th>original index</th>\n",
       "      <th>PROJECT_ID</th>\n",
       "      <th>ABSTRACT</th>\n",
       "      <th>FY</th>\n",
       "      <th>ORG_COUNT</th>\n",
       "      <th>PI_COUNT</th>\n",
       "      <th>nchar</th>\n",
       "      <th>final_frqwds_removed</th>\n",
       "      <th>PROJECT_TERMS</th>\n",
       "      <th>PROJECT_TITLE</th>\n",
       "      <th>...</th>\n",
       "      <th>ORGANIZATION_CITY</th>\n",
       "      <th>ORGANIZATION_STATE</th>\n",
       "      <th>ORGANIZATION_ZIP</th>\n",
       "      <th>ORGANIZATION_COUNTRY</th>\n",
       "      <th>BUDGET_START_DATE</th>\n",
       "      <th>BUDGET_END_DATE</th>\n",
       "      <th>CFDA_CODE</th>\n",
       "      <th>FY.y</th>\n",
       "      <th>FY_TOTAL_COST</th>\n",
       "      <th>FY_TOTAL_COST_SUB_PROJECTS</th>\n",
       "    </tr>\n",
       "  </thead>\n",
       "  <tbody>\n",
       "    <tr>\n",
       "      <th>1996</th>\n",
       "      <td>11849</td>\n",
       "      <td>101844</td>\n",
       "      <td>This symposium is a premiere forum for researc...</td>\n",
       "      <td>2008</td>\n",
       "      <td>1</td>\n",
       "      <td>1</td>\n",
       "      <td>697</td>\n",
       "      <td>[symposium, premiere, forum, interaction, comp...</td>\n",
       "      <td>Arts; Award; Collaborations; Communities; Com...</td>\n",
       "      <td>SUPPORT FOR THE THIRTEENTH INTERNATIONAL CONFE...</td>\n",
       "      <td>...</td>\n",
       "      <td>CHAMPAIGN</td>\n",
       "      <td>IL</td>\n",
       "      <td>61820-7406</td>\n",
       "      <td>UNITED STATES</td>\n",
       "      <td>NaN</td>\n",
       "      <td>NaN</td>\n",
       "      <td>47.070</td>\n",
       "      <td>2008</td>\n",
       "      <td>4651.0</td>\n",
       "      <td>NaN</td>\n",
       "    </tr>\n",
       "    <tr>\n",
       "      <th>2067</th>\n",
       "      <td>11747</td>\n",
       "      <td>101739</td>\n",
       "      <td>This award is to the Computer Research Associa...</td>\n",
       "      <td>2008</td>\n",
       "      <td>1</td>\n",
       "      <td>1</td>\n",
       "      <td>2638</td>\n",
       "      <td>[award, computer, association, cra, coordinate...</td>\n",
       "      <td>Address; Architecture; Award; base; Collabora...</td>\n",
       "      <td>THE 2007 FIND PIS MEETING</td>\n",
       "      <td>...</td>\n",
       "      <td>WASHINGTON</td>\n",
       "      <td>DC</td>\n",
       "      <td>20036-0000</td>\n",
       "      <td>UNITED STATES</td>\n",
       "      <td>NaN</td>\n",
       "      <td>NaN</td>\n",
       "      <td>47.070</td>\n",
       "      <td>2008</td>\n",
       "      <td>29940.0</td>\n",
       "      <td>NaN</td>\n",
       "    </tr>\n",
       "    <tr>\n",
       "      <th>2187</th>\n",
       "      <td>12250</td>\n",
       "      <td>102249</td>\n",
       "      <td>IIS-0808994PI: Jonathan FurnerUniversity of Ca...</td>\n",
       "      <td>2008</td>\n",
       "      <td>1</td>\n",
       "      <td>1</td>\n",
       "      <td>1682</td>\n",
       "      <td>[iis, pi, furneruniversity, california_los, an...</td>\n",
       "      <td>Arts; Award; California; Development; Dimensi...</td>\n",
       "      <td>WORKSHOP: I-CONFERENCE DOCTORAL RESEARCH COLLO...</td>\n",
       "      <td>...</td>\n",
       "      <td>LOS ANGELES</td>\n",
       "      <td>CA</td>\n",
       "      <td>90095-1406</td>\n",
       "      <td>UNITED STATES</td>\n",
       "      <td>NaN</td>\n",
       "      <td>NaN</td>\n",
       "      <td>47.070</td>\n",
       "      <td>2008</td>\n",
       "      <td>25859.0</td>\n",
       "      <td>NaN</td>\n",
       "    </tr>\n",
       "    <tr>\n",
       "      <th>2234</th>\n",
       "      <td>12405</td>\n",
       "      <td>102404</td>\n",
       "      <td>ABSTRACT0812795Vijay K. VaishnaviGa State U Re...</td>\n",
       "      <td>2008</td>\n",
       "      <td>1</td>\n",
       "      <td>1</td>\n",
       "      <td>574</td>\n",
       "      <td>[vaishnaviga, res, fdnthis, seek, funding, enc...</td>\n",
       "      <td>computer science; design; Discipline; Funding...</td>\n",
       "      <td>STUDENT PARTICIPATION IN 3RD INTERNATIONAL CON...</td>\n",
       "      <td>...</td>\n",
       "      <td>ATLANTA</td>\n",
       "      <td>GA</td>\n",
       "      <td>30303-3999</td>\n",
       "      <td>UNITED STATES</td>\n",
       "      <td>NaN</td>\n",
       "      <td>NaN</td>\n",
       "      <td>47.070</td>\n",
       "      <td>2008</td>\n",
       "      <td>9000.0</td>\n",
       "      <td>NaN</td>\n",
       "    </tr>\n",
       "    <tr>\n",
       "      <th>2235</th>\n",
       "      <td>12451</td>\n",
       "      <td>102448</td>\n",
       "      <td>The 3rd International Conference on emerging N...</td>\n",
       "      <td>2008</td>\n",
       "      <td>1</td>\n",
       "      <td>1</td>\n",
       "      <td>3025</td>\n",
       "      <td>[3rd, international, conference, emerge, netwo...</td>\n",
       "      <td>Award; base; career; Commit; Communication; C...</td>\n",
       "      <td>STUDENT TRAVEL SUPPORT FOR CONEXT 2007 CONFERENCE</td>\n",
       "      <td>...</td>\n",
       "      <td>MADISON</td>\n",
       "      <td>WI</td>\n",
       "      <td>53715-1218</td>\n",
       "      <td>UNITED STATES</td>\n",
       "      <td>NaN</td>\n",
       "      <td>NaN</td>\n",
       "      <td>47.070</td>\n",
       "      <td>2008</td>\n",
       "      <td>10875.0</td>\n",
       "      <td>NaN</td>\n",
       "    </tr>\n",
       "  </tbody>\n",
       "</table>\n",
       "<p>5 rows × 31 columns</p>\n",
       "</div>"
      ],
      "text/plain": [
       "      original index PROJECT_ID  \\\n",
       "1996           11849     101844   \n",
       "2067           11747     101739   \n",
       "2187           12250     102249   \n",
       "2234           12405     102404   \n",
       "2235           12451     102448   \n",
       "\n",
       "                                               ABSTRACT    FY  ORG_COUNT  \\\n",
       "1996  This symposium is a premiere forum for researc...  2008          1   \n",
       "2067  This award is to the Computer Research Associa...  2008          1   \n",
       "2187  IIS-0808994PI: Jonathan FurnerUniversity of Ca...  2008          1   \n",
       "2234  ABSTRACT0812795Vijay K. VaishnaviGa State U Re...  2008          1   \n",
       "2235  The 3rd International Conference on emerging N...  2008          1   \n",
       "\n",
       "      PI_COUNT  nchar                               final_frqwds_removed  \\\n",
       "1996         1    697  [symposium, premiere, forum, interaction, comp...   \n",
       "2067         1   2638  [award, computer, association, cra, coordinate...   \n",
       "2187         1   1682  [iis, pi, furneruniversity, california_los, an...   \n",
       "2234         1    574  [vaishnaviga, res, fdnthis, seek, funding, enc...   \n",
       "2235         1   3025  [3rd, international, conference, emerge, netwo...   \n",
       "\n",
       "                                          PROJECT_TERMS  \\\n",
       "1996   Arts; Award; Collaborations; Communities; Com...   \n",
       "2067   Address; Architecture; Award; base; Collabora...   \n",
       "2187   Arts; Award; California; Development; Dimensi...   \n",
       "2234   computer science; design; Discipline; Funding...   \n",
       "2235   Award; base; career; Commit; Communication; C...   \n",
       "\n",
       "                                          PROJECT_TITLE  ...  \\\n",
       "1996  SUPPORT FOR THE THIRTEENTH INTERNATIONAL CONFE...  ...   \n",
       "2067                          THE 2007 FIND PIS MEETING  ...   \n",
       "2187  WORKSHOP: I-CONFERENCE DOCTORAL RESEARCH COLLO...  ...   \n",
       "2234  STUDENT PARTICIPATION IN 3RD INTERNATIONAL CON...  ...   \n",
       "2235  STUDENT TRAVEL SUPPORT FOR CONEXT 2007 CONFERENCE  ...   \n",
       "\n",
       "     ORGANIZATION_CITY ORGANIZATION_STATE ORGANIZATION_ZIP  \\\n",
       "1996         CHAMPAIGN                 IL       61820-7406   \n",
       "2067        WASHINGTON                 DC       20036-0000   \n",
       "2187       LOS ANGELES                 CA       90095-1406   \n",
       "2234           ATLANTA                 GA       30303-3999   \n",
       "2235           MADISON                 WI       53715-1218   \n",
       "\n",
       "     ORGANIZATION_COUNTRY BUDGET_START_DATE BUDGET_END_DATE CFDA_CODE  FY.y  \\\n",
       "1996        UNITED STATES               NaN             NaN    47.070  2008   \n",
       "2067        UNITED STATES               NaN             NaN    47.070  2008   \n",
       "2187        UNITED STATES               NaN             NaN    47.070  2008   \n",
       "2234        UNITED STATES               NaN             NaN    47.070  2008   \n",
       "2235        UNITED STATES               NaN             NaN    47.070  2008   \n",
       "\n",
       "     FY_TOTAL_COST FY_TOTAL_COST_SUB_PROJECTS  \n",
       "1996        4651.0                        NaN  \n",
       "2067       29940.0                        NaN  \n",
       "2187       25859.0                        NaN  \n",
       "2234        9000.0                        NaN  \n",
       "2235       10875.0                        NaN  \n",
       "\n",
       "[5 rows x 31 columns]"
      ]
     },
     "execution_count": 15,
     "metadata": {},
     "output_type": "execute_result"
    }
   ],
   "source": [
    "nsf_csci.head()"
   ]
  },
  {
   "cell_type": "code",
   "execution_count": 16,
   "metadata": {},
   "outputs": [
    {
     "data": {
      "text/plain": [
       "(16416, 31)"
      ]
     },
     "execution_count": 16,
     "metadata": {},
     "output_type": "execute_result"
    }
   ],
   "source": [
    "nsf_csci.shape"
   ]
  },
  {
   "cell_type": "code",
   "execution_count": 17,
   "metadata": {},
   "outputs": [
    {
     "data": {
      "image/png": "[encoded data removed]",
      "text/plain": [
       "<Figure size 432x288 with 1 Axes>"
      ]
     },
     "metadata": {
      "needs_background": "light"
     },
     "output_type": "display_data"
    }
   ],
   "source": [
    "counts_cfda.plot(kind = \"bar\")\n",
    "plt.xticks(rotation=70) \n",
    "plt.xlabel('CFDA code')  \n",
    "plt.ylabel('Project Count') \n",
    "plt.title('Project Count by CFDA code') \n",
    "plt.savefig(\"count_cfda_nsf.png\")"
   ]
  },
  {
   "cell_type": "code",
   "execution_count": 18,
   "metadata": {},
   "outputs": [],
   "source": [
    "#start with the core terms from the OECD paper\n",
    "core_terms = [\"adaboost\",\"artificial intelligence\",\"artificial neural network\",\"back propagation\"\n",
    ",\"back propagation neural network\",\"computational intelligence\",\"computer vision\"\n",
    ",\"convolutional neural network\",\"deep belief network\",\"deep convolutional neural network\"\n",
    ",\"deep learn\",\"deep neural network\",\"elman network\",\"elman neural network\"\n",
    ",\"expert system\",\"fee forward neural network\",\"inference engine\",\"machine intelligence\"\n",
    ",\"machine learn\",\"machine translation\",\"machine vision\",\"multilayer neural network\"\n",
    ",\"natural language process\",\"perceptron\",\"random forest\",\"rbf neural network\",\"recurrent neural network\"\n",
    ",\"self organize map\",\"spike neural network\",\"supervise learn\",\"support vector machine\"\n",
    ",\"svm classifier\",\"unsupervised learn\",\"artificial_intelligence\",\"artificial_neural_network\",\"back_propagation\"\n",
    ",\"back_propagation_neural_network\",\"computational_intelligence\",\"computer_vision\"\n",
    ",\"convolutional_neural_network\",\"deep_belief_network\",\"deep_convolutional_neural_network\"\n",
    ",\"deep_learn\",\"deep_neural_network\",\"elman_network\",\"elman_neural_network\"\n",
    ",\"expert_system\",\"fee_forward_neural_network\",\"inference_engine\",\"machine_intelligence\"\n",
    ",\"machine_learn\",\"machine_translation\",\"machine_vision\",\"multilayer_neural_network\"\n",
    ",\"natural_language_process\",\"random_forest\",\"rbf_neural_network\",\"recurrent_neural_network\"\n",
    ",\"self_organize_map\",\"spike_neural_network\",\"supervise_learn\",\"support_vector_machine\"\n",
    ",\"svm_classifier\",\"unsupervised_learn\", \"machine_learning\"]"
   ]
  },
  {
   "cell_type": "code",
   "execution_count": 19,
   "metadata": {},
   "outputs": [],
   "source": [
    "tokens = nsf[\"final_frqwds_removed\"]\n",
    "\n",
    "text = [] # text will contain the processed tokens in string form (1 string per abstract)\n",
    "\n",
    "\n",
    "for abstract in tokens:\n",
    "    text.append(\" \".join(abstract))\n",
    "    \n",
    "text = pd.Series(text)"
   ]
  },
  {
   "cell_type": "code",
   "execution_count": 20,
   "metadata": {},
   "outputs": [],
   "source": [
    "# TRY TOPIC MODELING WITH LDA\n",
    "\n",
    "lda_vectorizer = CountVectorizer(max_df=0.6, min_df=20)\n",
    "#this is our way to filter out words that don't appear enough, and those that appear way too often (we want the middle set of terms)\n",
    "#^this filters the size of our matrix\n",
    "\n",
    "lda_dtm = lda_vectorizer.fit_transform(text)\n",
    "#text = our abstract text, right in the dataframe\n",
    "#fits our doc-term matrix to our specific text \n",
    "#this is the standard for scikit-learn\n",
    " \n"
   ]
  },
  {
   "cell_type": "code",
   "execution_count": 44,
   "metadata": {},
   "outputs": [],
   "source": [
    "#functions for creating a topic dictionary, viewing the topics in the topic model,\n",
    "#and selecting only the relevant topics based on a threshold and our keyword list.\n",
    "\n",
    "\n",
    "def topic_dictionary(lda_model, lda_vectorizer, top_n=10):\n",
    "    topic_ls = {} #append keys, append the values\n",
    "    \n",
    "    \n",
    "    for idx, topic in enumerate(lda_model.components_):  # loop through each row of H.  idx = row index.  topic = actual row\n",
    "\n",
    "        print_list = [(lda_vectorizer.get_feature_names()[i], topic[i])  \n",
    "                        for i in topic.argsort()[:-top_n - 1:-1]]\n",
    "        topic_ls[idx] = print_list\n",
    "\n",
    "    return topic_ls\n",
    "\n",
    "def print_topics(model, vectorizer, top_n=10):\n",
    "    for idx, topic in enumerate(model.components_):  # loop through each row of H.  idx = row index.  topic = actual row\n",
    "        print(\"\\nTopic %d:\" % (idx))\n",
    "            \n",
    "        print_list = [(vectorizer.get_feature_names()[i], topic[i])  \n",
    "                        for i in topic.argsort()[:-top_n - 1:-1]]\n",
    "        for item in print_list:\n",
    "            print(item)\n",
    "            \n",
    "            \n",
    "def relevant_topics(topic_dictionary, keyword_list, threshold = 1):\n",
    "    \"\"\"returns a list of the topics which contain a threshold % of the\n",
    "    relevant words in the keyword list\"\"\"\n",
    "    relevant_topic = []\n",
    "    for key in topic_dictionary:\n",
    "        relevant_words = 0\n",
    "        for i in range(len(topic_dictionary[key])):\n",
    "            if topic_dictionary[key][i][0] in keyword_list:\n",
    "                relevant_words += 1\n",
    "            else: relevant_words += 0\n",
    "        if (relevant_words) >= threshold :#/ len(topic_dictionary[key]) >= threshold :\n",
    "            relevant_topic.append(key)\n",
    "    return relevant_topic  \n",
    "\n",
    "def super_keywords(keyword_list, relevant_topic_list, topic_dictionary):\n",
    "    superkeyword = keyword_list\n",
    "    for key in topic_dictionary:\n",
    "        if key in relevant_topic_list:\n",
    "            for i in range(len(topic_dictionary[key])):\n",
    "                superkeyword.append(topic_dictionary[key][i][0])\n",
    "    return superkeyword"
   ]
  },
  {
   "cell_type": "markdown",
   "metadata": {},
   "source": [
    "Now, trying a 75 topic model on the NSF corpus."
   ]
  },
  {
   "cell_type": "code",
   "execution_count": 31,
   "metadata": {},
   "outputs": [],
   "source": [
    "# create model\n",
    "\n",
    "num_topics = 75\n",
    "lda_model_75 = LatentDirichletAllocation(n_components=num_topics, doc_topic_prior = 1/num_topics, \n",
    "                                      topic_word_prior=0.1, n_jobs=29, random_state = 0)\n",
    "\n",
    "doc_top_dist_75 = lda_model_75.fit_transform(lda_dtm)\n",
    "top_term_dist_75 = lda_model_75.components_\n"
   ]
  },
  {
   "cell_type": "code",
   "execution_count": 32,
   "metadata": {},
   "outputs": [],
   "source": [
    "nsf_dic75 = topic_dictionary(lda_model_75, lda_vectorizer, 50)"
   ]
  },
  {
   "cell_type": "code",
   "execution_count": 34,
   "metadata": {},
   "outputs": [],
   "source": [
    "#print_topics(lda_model_75, lda_vectorizer, 10)"
   ]
  },
  {
   "cell_type": "code",
   "execution_count": 36,
   "metadata": {},
   "outputs": [
    {
     "data": {
      "text/plain": [
       "[('performance', 7800.409371582714),\n",
       " ('computing', 7343.015099344587),\n",
       " ('software', 5958.477080531771),\n",
       " ('architecture', 4528.284629600627),\n",
       " ('memory', 4122.096325295902),\n",
       " ('hardware', 4113.827991459793),\n",
       " ('computer', 4029.246460657543),\n",
       " ('parallel', 3489.1940486052117),\n",
       " ('programming', 2824.0297297148327),\n",
       " ('level', 2686.914908740683)]"
      ]
     },
     "execution_count": 36,
     "metadata": {},
     "output_type": "execute_result"
    }
   ],
   "source": [
    "nsf_dic75[59][0:10]"
   ]
  },
  {
   "cell_type": "code",
   "execution_count": 38,
   "metadata": {},
   "outputs": [
    {
     "data": {
      "text/plain": [
       "[('user', 9067.0361735743),\n",
       " ('software', 6199.237384664498),\n",
       " ('robot', 5763.631364107451),\n",
       " ('task', 4509.956711010427),\n",
       " ('human', 4080.6550480123565),\n",
       " ('search', 2557.349311948212),\n",
       " ('web', 2077.8788977733784),\n",
       " ('code', 2009.8207692561439),\n",
       " ('robotics', 1861.684610586474),\n",
       " ('enable', 1649.5467258057824)]"
      ]
     },
     "execution_count": 38,
     "metadata": {},
     "output_type": "execute_result"
    }
   ],
   "source": [
    "nsf_dic75[10][0:10]"
   ]
  },
  {
   "cell_type": "code",
   "execution_count": 39,
   "metadata": {},
   "outputs": [
    {
     "data": {
      "text/plain": [
       "[('computer', 10797.920295914659),\n",
       " ('computational', 9449.366877402887),\n",
       " ('science', 9304.498089473023),\n",
       " ('software', 6552.863237372862),\n",
       " ('computing', 6460.395668127229),\n",
       " ('open', 3744.741382892853),\n",
       " ('create', 3533.82968544871),\n",
       " ('scientific', 3454.934270348386),\n",
       " ('enable', 3286.0033656274363),\n",
       " ('technology', 2993.4955403200884)]"
      ]
     },
     "execution_count": 39,
     "metadata": {},
     "output_type": "execute_result"
    }
   ],
   "source": [
    "nsf_dic75[2][0:10]"
   ]
  },
  {
   "cell_type": "code",
   "execution_count": 40,
   "metadata": {},
   "outputs": [
    {
     "data": {
      "text/plain": [
       "[('algorithm', 11967.831495315058),\n",
       " ('statistical', 7918.781122632267),\n",
       " ('optimization', 6197.971995828134),\n",
       " ('framework', 5506.894508569184),\n",
       " ('computational', 4249.287311182363),\n",
       " ('modeling', 4226.22289767596),\n",
       " ('uncertainty', 4046.8904162257286),\n",
       " ('methodology', 3891.579111367414),\n",
       " ('parameter', 3307.839982719072),\n",
       " ('estimation', 3127.9878302988445)]"
      ]
     },
     "execution_count": 40,
     "metadata": {},
     "output_type": "execute_result"
    }
   ],
   "source": [
    "nsf_dic75[65][0:10]"
   ]
  },
  {
   "cell_type": "code",
   "execution_count": null,
   "metadata": {},
   "outputs": [],
   "source": []
  },
  {
   "cell_type": "markdown",
   "metadata": {},
   "source": [
    "Now, trying with 100"
   ]
  },
  {
   "cell_type": "code",
   "execution_count": 14,
   "metadata": {},
   "outputs": [],
   "source": [
    "# create model\n",
    "\n",
    "num_topics = 100\n",
    "lda_model_100 = LatentDirichletAllocation(n_components=num_topics, doc_topic_prior = 1/num_topics, \n",
    "                                      topic_word_prior=0.1, n_jobs=39, random_state = 0)\n",
    "\n",
    "doc_top_dist_100 = lda_model_100.fit_transform(lda_dtm)\n",
    "top_term_dist_100 = lda_model_100.components_\n"
   ]
  },
  {
   "cell_type": "code",
   "execution_count": 15,
   "metadata": {},
   "outputs": [],
   "source": [
    "nsf_dic100 = topic_dictionary(lda_model_100, lda_vectorizer, 50)"
   ]
  },
  {
   "cell_type": "code",
   "execution_count": 1,
   "metadata": {},
   "outputs": [],
   "source": [
    "#print_topics(lda_model_100, lda_vectorizer, 10)"
   ]
  },
  {
   "cell_type": "code",
   "execution_count": null,
   "metadata": {},
   "outputs": [],
   "source": [
    "# create model\n",
    "\n",
    "num_topics = 150\n",
    "lda_model_150 = LatentDirichletAllocation(n_components=num_topics, doc_topic_prior = 1/num_topics, \n",
    "                                      topic_word_prior=0.1, n_jobs=39, random_state = 0)\n",
    "\n",
    "doc_top_dist_150 = lda_model_150.fit_transform(lda_dtm)\n",
    "top_term_dist_150 = lda_model_150.components_\n"
   ]
  },
  {
   "cell_type": "code",
   "execution_count": 14,
   "metadata": {},
   "outputs": [],
   "source": [
    "# create model\n",
    "\n",
    "num_topics = 200\n",
    "lda_model_200 = LatentDirichletAllocation(n_components=num_topics, doc_topic_prior = 1/num_topics, \n",
    "                                      topic_word_prior=0.1, n_jobs=39, random_state = 0)\n",
    "\n",
    "doc_top_dist_200 = lda_model_200.fit_transform(lda_dtm)\n",
    "top_term_dist_200 = lda_model_200.components_\n"
   ]
  },
  {
   "cell_type": "code",
   "execution_count": 15,
   "metadata": {},
   "outputs": [],
   "source": [
    "nsf_dic200 = topic_dictionary(lda_model_200, lda_vectorizer, 50)"
   ]
  },
  {
   "cell_type": "code",
   "execution_count": 20,
   "metadata": {},
   "outputs": [],
   "source": [
    "#print_topics(lda_model_200, lda_vectorizer, 10)"
   ]
  },
  {
   "cell_type": "markdown",
   "metadata": {},
   "source": [
    "Topic 2, topic 126 are AI in the 200-topic model"
   ]
  },
  {
   "cell_type": "markdown",
   "metadata": {},
   "source": [
    "Doing a 30-topic model on the Computer and Information Science and Engineering subset of the NSF abstracts.  There are only 16k abstracts"
   ]
  },
  {
   "cell_type": "code",
   "execution_count": 19,
   "metadata": {},
   "outputs": [
    {
     "data": {
      "text/plain": [
       "(16416, 31)"
      ]
     },
     "execution_count": 19,
     "metadata": {},
     "output_type": "execute_result"
    }
   ],
   "source": [
    "nsf_csci.shape"
   ]
  },
  {
   "cell_type": "code",
   "execution_count": 48,
   "metadata": {},
   "outputs": [],
   "source": [
    "tokens = nsf_csci[\"final_frqwds_removed\"]\n",
    "\n",
    "text = [] # text will contain the processed tokens in string form (1 string per abstract)\n",
    "\n",
    "\n",
    "for abstract in tokens:\n",
    "    text.append(\" \".join(abstract))\n",
    "    \n",
    "text = pd.Series(text)"
   ]
  },
  {
   "cell_type": "code",
   "execution_count": 49,
   "metadata": {},
   "outputs": [],
   "source": [
    "# TRY TOPIC MODELING WITH LDA\n",
    "\n",
    "lda_vectorizer = CountVectorizer(max_df=0.6, min_df=20)\n",
    "#this is our way to filter out words that don't appear enough, and those that appear way too often (we want the middle set of terms)\n",
    "#^this filters the size of our matrix\n",
    "\n",
    "lda_dtm = lda_vectorizer.fit_transform(text)\n",
    "#text = our abstract text, right in the dataframe\n",
    "#fits our doc-term matrix to our specific text \n",
    "#this is the standard for scikit-learn\n",
    " \n"
   ]
  },
  {
   "cell_type": "code",
   "execution_count": 23,
   "metadata": {},
   "outputs": [],
   "source": [
    "# create model\n",
    "\n",
    "num_topics = 30\n",
    "lda_model_30 = LatentDirichletAllocation(n_components=num_topics, doc_topic_prior = 1/num_topics, \n",
    "                                      topic_word_prior=0.1, n_jobs=39, random_state = 0)\n",
    "\n",
    "doc_top_dist_30 = lda_model_30.fit_transform(lda_dtm)\n",
    "top_term_dist_30 = lda_model_30.components_"
   ]
  },
  {
   "cell_type": "code",
   "execution_count": 26,
   "metadata": {},
   "outputs": [],
   "source": [
    "nsfcs_dic30 = topic_dictionary(lda_model_30, lda_vectorizer, 50)"
   ]
  },
  {
   "cell_type": "code",
   "execution_count": 32,
   "metadata": {},
   "outputs": [],
   "source": [
    "#print_topics(lda_model_30, lda_vectorizer, 10)"
   ]
  },
  {
   "cell_type": "code",
   "execution_count": 33,
   "metadata": {},
   "outputs": [
    {
     "data": {
      "text/plain": [
       "[('language', 2452.516498079181),\n",
       " ('text', 1006.3110880040451),\n",
       " ('natural', 883.2785202163582),\n",
       " ('semantic', 678.091536979773),\n",
       " ('web', 671.0009600522898),\n",
       " ('document', 637.2073611739268),\n",
       " ('speech', 614.3428326228551),\n",
       " ('search', 594.220703737375),\n",
       " ('processing', 586.6491803139464),\n",
       " ('user', 570.2484549409298)]"
      ]
     },
     "execution_count": 33,
     "metadata": {},
     "output_type": "execute_result"
    }
   ],
   "source": [
    "nsfcs_dic30[1][0:10]"
   ]
  },
  {
   "cell_type": "code",
   "execution_count": 34,
   "metadata": {},
   "outputs": [
    {
     "data": {
      "text/plain": [
       "[('algorithm', 4208.608840558305),\n",
       " ('theory', 2840.2056846080322),\n",
       " ('computational', 1507.4670769526215),\n",
       " ('optimization', 1461.9417870086677),\n",
       " ('theoretical', 1331.815462417093),\n",
       " ('science', 1237.3574608835675),\n",
       " ('statistical', 1131.9209130553863),\n",
       " ('complexity', 1124.2932616654368),\n",
       " ('computer', 1026.237725446531),\n",
       " ('mathematical', 987.5560658641932)]"
      ]
     },
     "execution_count": 34,
     "metadata": {},
     "output_type": "execute_result"
    }
   ],
   "source": [
    "nsfcs_dic30[13][0:10]"
   ]
  },
  {
   "cell_type": "code",
   "execution_count": 35,
   "metadata": {},
   "outputs": [
    {
     "data": {
      "text/plain": [
       "[('robot', 3359.417680996466),\n",
       " ('human', 2577.4069159674955),\n",
       " ('environment', 1486.4579233364861),\n",
       " ('robotics', 1063.4565352290679),\n",
       " ('vehicle', 854.4045499561456),\n",
       " ('task', 816.9763273919507),\n",
       " ('robotic', 785.7580801377391),\n",
       " ('interaction', 758.42760293913),\n",
       " ('planning', 698.9661202034138),\n",
       " ('team', 665.1657482487662)]"
      ]
     },
     "execution_count": 35,
     "metadata": {},
     "output_type": "execute_result"
    }
   ],
   "source": [
    "nsfcs_dic30[25][0:10]"
   ]
  },
  {
   "cell_type": "code",
   "execution_count": 36,
   "metadata": {},
   "outputs": [
    {
     "data": {
      "text/plain": [
       "[('task', 1398.059958695678),\n",
       " ('learn', 1363.6580431289515),\n",
       " ('learning', 1256.710458306348),\n",
       " ('algorithm', 1097.6038041965683),\n",
       " ('decision', 1059.8277742272232),\n",
       " ('agent', 1013.1478363351598),\n",
       " ('machine_learning', 831.3305711952041),\n",
       " ('domain', 793.3176163212187),\n",
       " ('framework', 660.3604621222418),\n",
       " ('real', 632.9863435219587)]"
      ]
     },
     "execution_count": 36,
     "metadata": {},
     "output_type": "execute_result"
    }
   ],
   "source": [
    "nsfcs_dic30[28][0:10]"
   ]
  },
  {
   "cell_type": "code",
   "execution_count": 28,
   "metadata": {},
   "outputs": [],
   "source": [
    "num_topics = 50\n",
    "lda_model_50 = LatentDirichletAllocation(n_components=num_topics, doc_topic_prior = 1/num_topics, \n",
    "                                      topic_word_prior=0.1, n_jobs=39, random_state = 0)\n",
    "\n",
    "doc_top_dist_50 = lda_model_50.fit_transform(lda_dtm)\n",
    "top_term_dist_50 = lda_model_50.components_"
   ]
  },
  {
   "cell_type": "code",
   "execution_count": 22,
   "metadata": {},
   "outputs": [],
   "source": [
    "#print_topics(lda_model_50, lda_vectorizer, 10)"
   ]
  },
  {
   "cell_type": "markdown",
   "metadata": {},
   "source": [
    "25, 28, 48"
   ]
  },
  {
   "cell_type": "code",
   "execution_count": 50,
   "metadata": {},
   "outputs": [],
   "source": [
    "num_topics = 100\n",
    "lda_model_100 = LatentDirichletAllocation(n_components=num_topics, doc_topic_prior = 1/num_topics, \n",
    "                                      topic_word_prior=0.1, n_jobs=39, random_state = 0)\n",
    "\n",
    "doc_top_dist_100 = lda_model_100.fit_transform(lda_dtm)\n",
    "top_term_dist_100 = lda_model_100.components_"
   ]
  },
  {
   "cell_type": "code",
   "execution_count": 51,
   "metadata": {},
   "outputs": [],
   "source": [
    "#print_topics(lda_model_100, lda_vectorizer, 10)"
   ]
  },
  {
   "cell_type": "markdown",
   "metadata": {},
   "source": [
    "19, 52, 54, 76, 79, 86, 97"
   ]
  },
  {
   "cell_type": "code",
   "execution_count": 62,
   "metadata": {},
   "outputs": [],
   "source": [
    "nsfcs_dic100 = topic_dictionary(lda_model_100, lda_vectorizer, 50)"
   ]
  },
  {
   "cell_type": "code",
   "execution_count": 53,
   "metadata": {},
   "outputs": [
    {
     "data": {
      "text/plain": [
       "[('graph', 2462.2972841025025),\n",
       " ('mining', 660.3066246687682),\n",
       " ('algorithm', 559.8030180085358),\n",
       " ('pattern', 289.113236307129),\n",
       " ('edge', 227.46269296479247),\n",
       " ('real', 197.20648487656408),\n",
       " ('domain', 137.2843781269611),\n",
       " ('anomaly', 134.39008641464014),\n",
       " ('social', 134.07527965190465),\n",
       " ('analytics', 130.93391842624442),\n",
       " ('network', 129.21605419748968),\n",
       " ('irregular', 127.48866737124281),\n",
       " ('node', 119.53130373091832),\n",
       " ('world', 108.44226220914099),\n",
       " ('processing', 105.90993203052052)]"
      ]
     },
     "execution_count": 53,
     "metadata": {},
     "output_type": "execute_result"
    }
   ],
   "source": [
    "nsfcs_dic100[19][0:15]"
   ]
  },
  {
   "cell_type": "code",
   "execution_count": 54,
   "metadata": {},
   "outputs": [
    {
     "data": {
      "text/plain": [
       "[('task', 1667.5998674114032),\n",
       " ('robot', 1205.2733479871963),\n",
       " ('human', 667.5030619334059),\n",
       " ('planning', 651.9088761238436),\n",
       " ('motion', 547.4441514047675),\n",
       " ('action', 545.034947422538),\n",
       " ('autonomous', 524.3019424622092),\n",
       " ('manipulation', 508.5319744841163),\n",
       " ('environment', 507.2456930949452),\n",
       " ('robotic', 475.71316628732137),\n",
       " ('algorithm', 413.94966228240946),\n",
       " ('enable', 288.71012963912256),\n",
       " ('robotics', 283.509516724759),\n",
       " ('agent', 279.35572225212815),\n",
       " ('learn', 228.39561697061572)]"
      ]
     },
     "execution_count": 54,
     "metadata": {},
     "output_type": "execute_result"
    }
   ],
   "source": [
    "nsfcs_dic100[52][0:15]"
   ]
  },
  {
   "cell_type": "code",
   "execution_count": 55,
   "metadata": {},
   "outputs": [
    {
     "data": {
      "text/plain": [
       "[('robot', 400.84901342166),\n",
       " ('motor', 286.6005205219227),\n",
       " ('hand', 285.2745892318118),\n",
       " ('human', 223.16141139120617),\n",
       " ('robotic', 218.12729661842502),\n",
       " ('movement', 212.42065577045534),\n",
       " ('force', 210.76716086016995),\n",
       " ('arm', 173.53051174420514),\n",
       " ('environment', 145.77342117895245),\n",
       " ('robotics', 118.73722282530731),\n",
       " ('assistive', 116.94376450869532),\n",
       " ('pis', 115.4334127330146),\n",
       " ('object', 114.63801914889936),\n",
       " ('walk', 110.31475543395928),\n",
       " ('gait', 107.15655344429868)]"
      ]
     },
     "execution_count": 55,
     "metadata": {},
     "output_type": "execute_result"
    }
   ],
   "source": [
    "nsfcs_dic100[54][0:15]"
   ]
  },
  {
   "cell_type": "code",
   "execution_count": 56,
   "metadata": {},
   "outputs": [
    {
     "data": {
      "text/plain": [
       "[('algorithm', 1240.1942831168114),\n",
       " ('computational', 747.3377107663017),\n",
       " ('solution', 602.5737568888037),\n",
       " ('numerical', 435.97774869387007),\n",
       " ('optimization', 415.7614482832579),\n",
       " ('solving', 403.99019929766405),\n",
       " ('linear', 384.42221155603283),\n",
       " ('computer', 333.66799399344507),\n",
       " ('solve', 333.16176886312076),\n",
       " ('science', 333.07163175650385),\n",
       " ('mathematical', 280.08281954069486),\n",
       " ('engineering', 266.6018952432416),\n",
       " ('solver', 251.9626318867719),\n",
       " ('matrix', 243.3638556521591),\n",
       " ('equation', 234.6849094327548)]"
      ]
     },
     "execution_count": 56,
     "metadata": {},
     "output_type": "execute_result"
    }
   ],
   "source": [
    "nsfcs_dic100[76][0:15]"
   ]
  },
  {
   "cell_type": "code",
   "execution_count": 57,
   "metadata": {},
   "outputs": [
    {
     "data": {
      "text/plain": [
       "[('language', 2144.887478365342),\n",
       " ('speech', 1131.1117051254016),\n",
       " ('natural', 599.6745213872944),\n",
       " ('processing', 479.1224783524312),\n",
       " ('linguistic', 447.9412757359252),\n",
       " ('text', 444.0013130334293),\n",
       " ('recognition', 415.10750001393774),\n",
       " ('annotation', 323.56805380072103),\n",
       " ('translation', 299.85525376117687),\n",
       " ('human', 271.64202926108186),\n",
       " ('automatic', 261.98584160629355),\n",
       " ('word', 260.42863801789616),\n",
       " ('speaker', 236.27280804289842),\n",
       " ('audio', 227.33951009200655),\n",
       " ('technology', 208.12115178435536)]"
      ]
     },
     "execution_count": 57,
     "metadata": {},
     "output_type": "execute_result"
    }
   ],
   "source": [
    "nsfcs_dic100[79][0:15]"
   ]
  },
  {
   "cell_type": "code",
   "execution_count": 58,
   "metadata": {},
   "outputs": [
    {
     "data": {
      "text/plain": [
       "[('human', 3485.8322547179414),\n",
       " ('robot', 1777.589081373325),\n",
       " ('interaction', 699.6492100943879),\n",
       " ('robotics', 657.2793637927633),\n",
       " ('environment', 393.39388202687496),\n",
       " ('team', 382.00487124254914),\n",
       " ('people', 218.92423623762568),\n",
       " ('machine', 207.63928741334777),\n",
       " ('task', 203.30837221711272),\n",
       " ('cognitive', 189.08865713300628),\n",
       " ('operator', 176.57447472975485),\n",
       " ('interact', 165.88041193385916),\n",
       " ('intelligent', 151.45301088124222),\n",
       " ('robotic', 149.51433987674383),\n",
       " ('collaborative', 140.59228383853102)]"
      ]
     },
     "execution_count": 58,
     "metadata": {},
     "output_type": "execute_result"
    }
   ],
   "source": [
    "nsfcs_dic100[86][0:15]"
   ]
  },
  {
   "cell_type": "code",
   "execution_count": 59,
   "metadata": {},
   "outputs": [
    {
     "data": {
      "text/plain": [
       "[('learning', 1753.425587928131),\n",
       " ('deep', 1206.3295947990032),\n",
       " ('learn', 977.393948584993),\n",
       " ('machine_learning', 449.65095379314283),\n",
       " ('neural', 411.89155081104036),\n",
       " ('ai', 273.8011831510943),\n",
       " ('machine', 266.3093513909305),\n",
       " ('intelligence', 210.80992532602272),\n",
       " ('intelligent', 199.38004638266955),\n",
       " ('network', 196.9212463435522),\n",
       " ('algorithm', 192.03032816490338),\n",
       " ('artificial_intelligence', 167.46230118906087),\n",
       " ('reinforcement', 167.4450670234159),\n",
       " ('architecture', 166.82888205136672),\n",
       " ('advance', 118.04581497835483)]"
      ]
     },
     "execution_count": 59,
     "metadata": {},
     "output_type": "execute_result"
    }
   ],
   "source": [
    "nsfcs_dic100[97][0:15]"
   ]
  },
  {
   "cell_type": "code",
   "execution_count": 63,
   "metadata": {},
   "outputs": [
    {
     "data": {
      "text/plain": [
       "[15, 23, 28, 87, 97]"
      ]
     },
     "execution_count": 63,
     "metadata": {},
     "output_type": "execute_result"
    }
   ],
   "source": [
    "relevant_topics(nsfcs_dic100, core_terms, threshold = 1)"
   ]
  },
  {
   "cell_type": "code",
   "execution_count": 64,
   "metadata": {},
   "outputs": [
    {
     "data": {
      "text/plain": [
       "[('health', 2116.0966517857764),\n",
       " ('patient', 1244.7450881968607),\n",
       " ('care', 819.0339929744473),\n",
       " ('medical', 676.7615454630422),\n",
       " ('healthcare', 623.2943716504553),\n",
       " ('clinical', 556.9735215587403),\n",
       " ('technology', 223.57570780885894),\n",
       " ('individual', 210.91677664812553),\n",
       " ('cost', 207.34347137206652),\n",
       " ('population', 190.37128252654986),\n",
       " ('hospital', 184.70507724109828),\n",
       " ('medicine', 181.99000710864803),\n",
       " ('record', 177.60667439014955),\n",
       " ('personalize', 171.30428620903686),\n",
       " ('family', 170.9999364264955)]"
      ]
     },
     "execution_count": 64,
     "metadata": {},
     "output_type": "execute_result"
    }
   ],
   "source": [
    "nsfcs_dic100[15][0:15]"
   ]
  },
  {
   "cell_type": "code",
   "execution_count": 65,
   "metadata": {},
   "outputs": [
    {
     "data": {
      "text/plain": [
       "[('human', 3485.8322547179414),\n",
       " ('robot', 1777.589081373325),\n",
       " ('interaction', 699.6492100943879),\n",
       " ('robotics', 657.2793637927633),\n",
       " ('environment', 393.39388202687496),\n",
       " ('team', 382.00487124254914),\n",
       " ('people', 218.92423623762568),\n",
       " ('machine', 207.63928741334777),\n",
       " ('task', 203.30837221711272),\n",
       " ('cognitive', 189.08865713300628),\n",
       " ('operator', 176.57447472975485),\n",
       " ('interact', 165.88041193385916),\n",
       " ('intelligent', 151.45301088124222),\n",
       " ('robotic', 149.51433987674383),\n",
       " ('collaborative', 140.59228383853102)]"
      ]
     },
     "execution_count": 65,
     "metadata": {},
     "output_type": "execute_result"
    }
   ],
   "source": [
    "nsfcs_dic100[86][0:15]"
   ]
  },
  {
   "cell_type": "code",
   "execution_count": null,
   "metadata": {},
   "outputs": [],
   "source": []
  }
 ],
 "metadata": {
  "kernelspec": {
   "display_name": "Python 3",
   "language": "python",
   "name": "python3"
  },
  "language_info": {
   "codemirror_mode": {
    "name": "ipython",
    "version": 3
   },
   "file_extension": ".py",
   "mimetype": "text/x-python",
   "name": "python",
   "nbconvert_exporter": "python",
   "pygments_lexer": "ipython3",
   "version": "3.8.8"
  }
 },
 "nbformat": 4,
 "nbformat_minor": 4
}
