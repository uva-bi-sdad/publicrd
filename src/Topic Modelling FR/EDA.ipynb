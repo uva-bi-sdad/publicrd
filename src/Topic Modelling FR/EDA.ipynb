{
 "cells": [
  {
   "cell_type": "markdown",
   "metadata": {},
   "source": [
    "# Exploratory Analysis"
   ]
  },
  {
   "cell_type": "code",
   "execution_count": 3,
   "metadata": {},
   "outputs": [],
   "source": [
    "import pandas as pd\n",
    "import matplotlib.pyplot as plt\n",
    "import math\n",
    "\n",
    "import numpy as np"
   ]
  },
  {
   "cell_type": "code",
   "execution_count": 4,
   "metadata": {},
   "outputs": [],
   "source": [
    "df=pd.read_csv('../../data/prd/RND Topic Modelling/abstracts_federal_reporter_combined.csv',engine='python')"
   ]
  },
  {
   "cell_type": "code",
   "execution_count": 5,
   "metadata": {},
   "outputs": [
    {
     "data": {
      "text/html": [
       "<div>\n",
       "<style scoped>\n",
       "    .dataframe tbody tr th:only-of-type {\n",
       "        vertical-align: middle;\n",
       "    }\n",
       "\n",
       "    .dataframe tbody tr th {\n",
       "        vertical-align: top;\n",
       "    }\n",
       "\n",
       "    .dataframe thead th {\n",
       "        text-align: right;\n",
       "    }\n",
       "</style>\n",
       "<table border=\"1\" class=\"dataframe\">\n",
       "  <thead>\n",
       "    <tr style=\"text-align: right;\">\n",
       "      <th></th>\n",
       "      <th>PROJECT_ID</th>\n",
       "      <th>ABSTRACT</th>\n",
       "      <th>FY</th>\n",
       "      <th>FIRST_CHAR</th>\n",
       "      <th>LAST_CHAR</th>\n",
       "      <th>DEPARTMENT</th>\n",
       "      <th>AGENCY</th>\n",
       "      <th>IC_CENTER</th>\n",
       "      <th>PROJECT_NUMBER</th>\n",
       "      <th>PROJECT_TITLE</th>\n",
       "      <th>PROJECT_TERMS</th>\n",
       "      <th>CONTACT_PI_PROJECT_LEADER</th>\n",
       "      <th>OTHER_PIS</th>\n",
       "      <th>ORGANIZATION_NAME</th>\n",
       "      <th>CFDA_CODE</th>\n",
       "      <th>FY_TOTAL_COST</th>\n",
       "    </tr>\n",
       "  </thead>\n",
       "  <tbody>\n",
       "    <tr>\n",
       "      <th>0</th>\n",
       "      <td>89996</td>\n",
       "      <td>This is a project to explore Game-based, Metap...</td>\n",
       "      <td>2008</td>\n",
       "      <td>This is a project to explore Game-based, Metap...</td>\n",
       "      <td>.</td>\n",
       "      <td>NSF</td>\n",
       "      <td>NSF</td>\n",
       "      <td>NaN</td>\n",
       "      <td>0814512</td>\n",
       "      <td>RUI: CYGAMES: CYBER-ENABLED TEACHING AND LEARN...</td>\n",
       "      <td>Achievement; analog; base; Cognitive Science; ...</td>\n",
       "      <td>REESE, DEBBIE D</td>\n",
       "      <td>CARTER, BEVERLY; WOOD, CHARLES; HITT, BEN</td>\n",
       "      <td>WHEELING JESUIT UNIVERSITY</td>\n",
       "      <td>47.076</td>\n",
       "      <td>1999467.0</td>\n",
       "    </tr>\n",
       "    <tr>\n",
       "      <th>1</th>\n",
       "      <td>89997</td>\n",
       "      <td>Institution: Franklin Institute Science Museum...</td>\n",
       "      <td>2008</td>\n",
       "      <td>Institution: Franklin Institute Science Museum...</td>\n",
       "      <td>.</td>\n",
       "      <td>NSF</td>\n",
       "      <td>NSF</td>\n",
       "      <td>NaN</td>\n",
       "      <td>0741659</td>\n",
       "      <td>ARIEL - AUGMENTED REALITY FOR INTERPRETIVE AND...</td>\n",
       "      <td>Active Learning; Child; Computer software; des...</td>\n",
       "      <td>SNYDER, STEVEN</td>\n",
       "      <td>ELINICH, KAREN; YOON, SUSAN</td>\n",
       "      <td>FRANKLIN INSTITUTE</td>\n",
       "      <td>47.076</td>\n",
       "      <td>1799699.0</td>\n",
       "    </tr>\n",
       "    <tr>\n",
       "      <th>2</th>\n",
       "      <td>89998</td>\n",
       "      <td>Through programs (including small group conver...</td>\n",
       "      <td>2008</td>\n",
       "      <td>Through programs (including small group conver...</td>\n",
       "      <td>.</td>\n",
       "      <td>NSF</td>\n",
       "      <td>NSF</td>\n",
       "      <td>NaN</td>\n",
       "      <td>0813522</td>\n",
       "      <td>BRIGHTER FUTURES: PUBLIC DELIBERATION ABOUT TH...</td>\n",
       "      <td>Address; Age; Birth; Brain; Caregivers; Child;...</td>\n",
       "      <td>FINK, LAURIE KLEINBAUM</td>\n",
       "      <td>CADIGAN, KAREN; ELLENBOGEN, KIRSTEN</td>\n",
       "      <td>SCIENCE MUSEUM OF MINNESOTA</td>\n",
       "      <td>47.076</td>\n",
       "      <td>1505858.0</td>\n",
       "    </tr>\n",
       "    <tr>\n",
       "      <th>3</th>\n",
       "      <td>89999</td>\n",
       "      <td>In partnership with the American Chemical Soci...</td>\n",
       "      <td>2008</td>\n",
       "      <td>In partnership with the American Chemical Soci...</td>\n",
       "      <td>.</td>\n",
       "      <td>NSF</td>\n",
       "      <td>NSF</td>\n",
       "      <td>NaN</td>\n",
       "      <td>0838627</td>\n",
       "      <td>FOSTERING US-INTERNATIONAL COLLABORATIVE PARTN...</td>\n",
       "      <td>Advanced Development; American; Chemicals; Che...</td>\n",
       "      <td>JOST, JOHN W</td>\n",
       "      <td>MILLER, BRADLEY; BOWMAN, KATHERINE</td>\n",
       "      <td>INTERNATIONAL UNION OF PURE AND APPLIED CHEMISTRY</td>\n",
       "      <td>47.049</td>\n",
       "      <td>51000.0</td>\n",
       "    </tr>\n",
       "    <tr>\n",
       "      <th>4</th>\n",
       "      <td>90000</td>\n",
       "      <td>Amphibian populations around the world are exp...</td>\n",
       "      <td>2008</td>\n",
       "      <td>Amphibian populations around the world are exp...</td>\n",
       "      <td>.</td>\n",
       "      <td>NSF</td>\n",
       "      <td>NSF</td>\n",
       "      <td>NaN</td>\n",
       "      <td>0815315</td>\n",
       "      <td>COLLABORATIVE RESEARCH: EVOLUTION OF AMPHIBIAN...</td>\n",
       "      <td>Amphibia; Central America; Communicable Diseas...</td>\n",
       "      <td>ZAMUDIO, KELLY R</td>\n",
       "      <td>NaN</td>\n",
       "      <td>CORNELL UNIVERSITY ITHACA</td>\n",
       "      <td>47.074</td>\n",
       "      <td>370996.0</td>\n",
       "    </tr>\n",
       "  </tbody>\n",
       "</table>\n",
       "</div>"
      ],
      "text/plain": [
       "   PROJECT_ID                                           ABSTRACT    FY  \\\n",
       "0       89996  This is a project to explore Game-based, Metap...  2008   \n",
       "1       89997  Institution: Franklin Institute Science Museum...  2008   \n",
       "2       89998  Through programs (including small group conver...  2008   \n",
       "3       89999  In partnership with the American Chemical Soci...  2008   \n",
       "4       90000  Amphibian populations around the world are exp...  2008   \n",
       "\n",
       "                                          FIRST_CHAR LAST_CHAR DEPARTMENT  \\\n",
       "0  This is a project to explore Game-based, Metap...         .        NSF   \n",
       "1  Institution: Franklin Institute Science Museum...         .        NSF   \n",
       "2  Through programs (including small group conver...         .        NSF   \n",
       "3  In partnership with the American Chemical Soci...         .        NSF   \n",
       "4  Amphibian populations around the world are exp...         .        NSF   \n",
       "\n",
       "  AGENCY IC_CENTER PROJECT_NUMBER  \\\n",
       "0    NSF       NaN        0814512   \n",
       "1    NSF       NaN        0741659   \n",
       "2    NSF       NaN        0813522   \n",
       "3    NSF       NaN        0838627   \n",
       "4    NSF       NaN        0815315   \n",
       "\n",
       "                                       PROJECT_TITLE  \\\n",
       "0  RUI: CYGAMES: CYBER-ENABLED TEACHING AND LEARN...   \n",
       "1  ARIEL - AUGMENTED REALITY FOR INTERPRETIVE AND...   \n",
       "2  BRIGHTER FUTURES: PUBLIC DELIBERATION ABOUT TH...   \n",
       "3  FOSTERING US-INTERNATIONAL COLLABORATIVE PARTN...   \n",
       "4  COLLABORATIVE RESEARCH: EVOLUTION OF AMPHIBIAN...   \n",
       "\n",
       "                                       PROJECT_TERMS  \\\n",
       "0  Achievement; analog; base; Cognitive Science; ...   \n",
       "1  Active Learning; Child; Computer software; des...   \n",
       "2  Address; Age; Birth; Brain; Caregivers; Child;...   \n",
       "3  Advanced Development; American; Chemicals; Che...   \n",
       "4  Amphibia; Central America; Communicable Diseas...   \n",
       "\n",
       "  CONTACT_PI_PROJECT_LEADER                                  OTHER_PIS  \\\n",
       "0           REESE, DEBBIE D  CARTER, BEVERLY; WOOD, CHARLES; HITT, BEN   \n",
       "1            SNYDER, STEVEN                ELINICH, KAREN; YOON, SUSAN   \n",
       "2    FINK, LAURIE KLEINBAUM        CADIGAN, KAREN; ELLENBOGEN, KIRSTEN   \n",
       "3              JOST, JOHN W         MILLER, BRADLEY; BOWMAN, KATHERINE   \n",
       "4          ZAMUDIO, KELLY R                                        NaN   \n",
       "\n",
       "                                   ORGANIZATION_NAME CFDA_CODE  FY_TOTAL_COST  \n",
       "0                         WHEELING JESUIT UNIVERSITY    47.076      1999467.0  \n",
       "1                                 FRANKLIN INSTITUTE    47.076      1799699.0  \n",
       "2                        SCIENCE MUSEUM OF MINNESOTA    47.076      1505858.0  \n",
       "3  INTERNATIONAL UNION OF PURE AND APPLIED CHEMISTRY    47.049        51000.0  \n",
       "4                          CORNELL UNIVERSITY ITHACA    47.074       370996.0  "
      ]
     },
     "execution_count": 5,
     "metadata": {},
     "output_type": "execute_result"
    }
   ],
   "source": [
    "df.head()"
   ]
  },
  {
   "cell_type": "code",
   "execution_count": 4,
   "metadata": {},
   "outputs": [
    {
     "data": {
      "text/plain": [
       "2008    94846\n",
       "2012    64056\n",
       "2009    53413\n",
       "2013    53345\n",
       "2010    46349\n",
       "2014    43325\n",
       "2011    42761\n",
       "2015    42252\n",
       "2016    39681\n",
       "2018    35441\n",
       "2017    34619\n",
       "Name: FY, dtype: int64"
      ]
     },
     "execution_count": 4,
     "metadata": {},
     "output_type": "execute_result"
    }
   ],
   "source": [
    "df['FY'].value_counts()\n"
   ]
  },
  {
   "cell_type": "code",
   "execution_count": 5,
   "metadata": {},
   "outputs": [
    {
     "data": {
      "text/plain": [
       "Text(0,0.5,'Number of Abstracts')"
      ]
     },
     "execution_count": 5,
     "metadata": {},
     "output_type": "execute_result"
    },
    {
     "data": {
      "image/png": "[encoded data removed]",
      "text/plain": [
       "<Figure size 432x288 with 1 Axes>"
      ]
     },
     "metadata": {},
     "output_type": "display_data"
    }
   ],
   "source": [
    "plt.bar(df['FY'].value_counts().index, df['FY'].value_counts())\n",
    "plt.xlabel('Year')\n",
    "plt.ylabel('Number of Abstracts')"
   ]
  },
  {
   "cell_type": "code",
   "execution_count": 6,
   "metadata": {},
   "outputs": [
    {
     "data": {
      "text/plain": [
       "HHS     375441\n",
       "NSF     116510\n",
       "USDA     27304\n",
       "NASA     16006\n",
       "DOD       6951\n",
       "VA        4860\n",
       "EPA       1560\n",
       "ED        1456\n",
       "Name: DEPARTMENT, dtype: int64"
      ]
     },
     "execution_count": 6,
     "metadata": {},
     "output_type": "execute_result"
    }
   ],
   "source": [
    "df['DEPARTMENT'].value_counts()"
   ]
  },
  {
   "cell_type": "code",
   "execution_count": 7,
   "metadata": {},
   "outputs": [
    {
     "data": {
      "text/plain": [
       "Text(0,0.5,'Number of Abstracts')"
      ]
     },
     "execution_count": 7,
     "metadata": {},
     "output_type": "execute_result"
    },
    {
     "data": {
      "image/png": "[encoded data removed]",
      "text/plain": [
       "<Figure size 432x288 with 1 Axes>"
      ]
     },
     "metadata": {},
     "output_type": "display_data"
    }
   ],
   "source": [
    "plt.bar(df['DEPARTMENT'].value_counts().index, df['DEPARTMENT'].value_counts())\n",
    "plt.xlabel('Department')\n",
    "plt.ylabel('Number of Abstracts')"
   ]
  },
  {
   "cell_type": "code",
   "execution_count": 8,
   "metadata": {},
   "outputs": [
    {
     "data": {
      "text/plain": [
       "NIH        367697\n",
       "NSF        116510\n",
       "NIFA        25406\n",
       "NASA        16006\n",
       "CDMRP        6700\n",
       "VA           4860\n",
       "ALLCDC       2684\n",
       "AHRQ         2581\n",
       "ARS          1653\n",
       "EPA          1560\n",
       "IES          1456\n",
       "FDA          1397\n",
       "NIDILRR       800\n",
       "ACF           282\n",
       "FS            245\n",
       "CNRM          130\n",
       "DVBIC          99\n",
       "CCCRP          22\n",
       "Name: AGENCY, dtype: int64"
      ]
     },
     "execution_count": 8,
     "metadata": {},
     "output_type": "execute_result"
    }
   ],
   "source": [
    "df['AGENCY'].value_counts()"
   ]
  },
  {
   "cell_type": "code",
   "execution_count": 9,
   "metadata": {},
   "outputs": [
    {
     "data": {
      "text/plain": [
       "Text(0,0.5,'Number of Abstracts')"
      ]
     },
     "execution_count": 9,
     "metadata": {},
     "output_type": "execute_result"
    },
    {
     "data": {
      "image/png": "[encoded data removed]",
      "text/plain": [
       "<Figure size 432x288 with 1 Axes>"
      ]
     },
     "metadata": {},
     "output_type": "display_data"
    }
   ],
   "source": [
    "plt.bar(df['AGENCY'].value_counts().index, df['AGENCY'].value_counts())\n",
    "plt.xlabel('Agency')\n",
    "plt.xticks(rotation=70)\n",
    "plt.ylabel('Number of Abstracts')"
   ]
  },
  {
   "cell_type": "code",
   "execution_count": 10,
   "metadata": {},
   "outputs": [
    {
     "data": {
      "text/plain": [
       "NIH        367697\n",
       "ALLCDC       2684\n",
       "AHRQ         2581\n",
       "FDA          1397\n",
       "NIDILRR       800\n",
       "ACF           282\n",
       "Name: AGENCY, dtype: int64"
      ]
     },
     "execution_count": 10,
     "metadata": {},
     "output_type": "execute_result"
    }
   ],
   "source": [
    "df['AGENCY'][df['DEPARTMENT'] == 'HHS'].value_counts()"
   ]
  },
  {
   "cell_type": "markdown",
   "metadata": {},
   "source": [
    "### NIH abstracts are taking over the topics.  Possible solution: use a topic model per department and/or agency."
   ]
  },
  {
   "cell_type": "code",
   "execution_count": 11,
   "metadata": {},
   "outputs": [
    {
     "data": {
      "text/plain": [
       "count    4.256850e+05\n",
       "mean     4.509841e+05\n",
       "std      1.727112e+06\n",
       "min      1.000000e+00\n",
       "25%      1.390020e+05\n",
       "50%      2.917820e+05\n",
       "75%      4.500000e+05\n",
       "max      3.227983e+08\n",
       "Name: FY_TOTAL_COST, dtype: float64"
      ]
     },
     "execution_count": 11,
     "metadata": {},
     "output_type": "execute_result"
    }
   ],
   "source": [
    "df['FY_TOTAL_COST'].describe()"
   ]
  },
  {
   "cell_type": "code",
   "execution_count": 43,
   "metadata": {},
   "outputs": [
    {
     "data": {
      "image/png": "[encoded data removed]",
      "text/plain": [
       "<Figure size 432x288 with 1 Axes>"
      ]
     },
     "metadata": {},
     "output_type": "display_data"
    }
   ],
   "source": [
    "x = df['FY_TOTAL_COST'][df['FY_TOTAL_COST'].notna()]\n",
    "\n",
    "plt.hist(x, bins=100)\n",
    "plt.xscale('log')\n",
    "plt.yscale('log')\n",
    "#df['FY_TOTAL_COST'][0:40].values"
   ]
  },
  {
   "cell_type": "code",
   "execution_count": 13,
   "metadata": {},
   "outputs": [
    {
     "data": {
      "text/plain": [
       "NATIONAL INSTITUTES OF HEALTH                 30155\n",
       "THE JOHNS HOPKINS UNIVERSITY                   8948\n",
       "UNIVERSITY OF MICHIGAN AT ANN ARBOR            8733\n",
       "UNIVERSITY OF WASHINGTON                       8630\n",
       "STANFORD UNIVERSITY                            7894\n",
       "UNIVERSITY OF PENNSYLVANIA                     7574\n",
       "UNIVERSITY OF CALIFORNIA SAN FRANCISCO         7419\n",
       "UNIVERSITY OF CALIFORNIA SAN DIEGO             7341\n",
       "UNIVERSITY OF CALIFORNIA LOS ANGELES           7094\n",
       "THE UNIVERSITY OF PITTSBURGH                   6696\n",
       "UNIVERSITY OF NORTH CAROLINA CHAPEL HILL       6194\n",
       "YALE UNIVERSITY                                6137\n",
       "WASHINGTON UNIVERSITY                          6021\n",
       "UNIVERSITY OF MINNESOTA TWIN CITIES            5915\n",
       "DUKE UNIVERSITY                                5911\n",
       "UNIVERSITY OF WISCONSIN MADISON                5899\n",
       "UNIVERSITY OF CALIFORNIA DAVIS                 5040\n",
       "EMORY UNIVERSITY                               4915\n",
       "VANDERBILT UNIVERSITY                          4899\n",
       "MASSACHUSETTS GENERAL HOSPITAL                 4877\n",
       "HARVARD UNIVERSITY                             4627\n",
       "COLUMBIA UNIVERSITY HEALTH SCIENCES            4420\n",
       "UNIVERSITY OF CALIFORNIA BERKELEY              4128\n",
       "UNIVERSITY OF FLORIDA                          4082\n",
       "CORNELL UNIVERSITY ITHACA                      3858\n",
       "OHIO STATE UNIVERSITY                          3743\n",
       "UNIVERSITY OF CHICAGO                          3686\n",
       "BAYLOR COLLEGE OF MEDICINE                     3613\n",
       "BRIGHAM AND WOMEN'S HOSPITAL                   3598\n",
       "UNIVERSITY OF SOUTHERN CALIFORNIA              3535\n",
       "                                              ...  \n",
       "MUSASHI UNIVERSITY                                1\n",
       "PUTNAM HOLLIE M                                   1\n",
       "BIOCRYST PHARMACEUTICALS, INC.                    1\n",
       "OZARK INTEGRATED CIRCUITS INC                     1\n",
       "INDIVIDUAL AWARD- - KISACKY JEANNE                1\n",
       "GREEN MATTHEW H                                   1\n",
       "BREWER SCIENCE INCORPORATED                       1\n",
       "CABRINI COLLEGE                                   1\n",
       "BENEDICTINE COLLEGE                               1\n",
       "CROSSROADS COMMUNITY FOOD NETWORK INC             1\n",
       "AURORA UNIVERSITY                                 1\n",
       "GANG SPENCER                                      1\n",
       "MARY BIRD PERKINS CANCER CENTER                   1\n",
       "CENTERS FOR DISEASE CONTROL AND PREVENTION        1\n",
       "CADUCEUS WIRELESS INC                             1\n",
       "BAGINSKI, PAUL                                    1\n",
       "CATALINA SEA RANCH LLC                            1\n",
       "PHYTOSYNTHETIX, LLC                               1\n",
       "COLORADO CATTLEMEN'S ASSOCIATION                  1\n",
       "LAKE LAND COLLEGE                                 1\n",
       "BRAIN RECOVERY PROJECT                            1\n",
       "POINT DESIGNS LLC                                 1\n",
       "GATEWAY COMMUNITY AND TECHNICAL COLLEGE           1\n",
       "WASEDA UNIVERISTY                                 1\n",
       "HANSON ROBOKIND AND INTELLIGENT BOTS LLC          1\n",
       "STOTTLER HENKE ASSOCIATES INC                     1\n",
       "AMERICAN FORAGE &amp; GRASSLAND COUNCIL           1\n",
       "SOUTHEAST ISLAND SCHOOL DISTRICT                  1\n",
       "TOWN &amp; COUNTRY VETERINARY CLINIC PC           1\n",
       "NORTH HENNEPIN COMMUNITY COLLEGE                  1\n",
       "Name: ORGANIZATION_NAME, Length: 16027, dtype: int64"
      ]
     },
     "execution_count": 13,
     "metadata": {},
     "output_type": "execute_result"
    }
   ],
   "source": [
    "df['ORGANIZATION_NAME'].value_counts()"
   ]
  },
  {
   "cell_type": "code",
   "execution_count": null,
   "metadata": {},
   "outputs": [],
   "source": []
  },
  {
   "cell_type": "code",
   "execution_count": null,
   "metadata": {},
   "outputs": [],
   "source": []
  }
 ],
 "metadata": {
  "kernelspec": {
   "display_name": "Python 3",
   "language": "python",
   "name": "python3"
  },
  "language_info": {
   "codemirror_mode": {
    "name": "ipython",
    "version": 3
   },
   "file_extension": ".py",
   "mimetype": "text/x-python",
   "name": "python",
   "nbconvert_exporter": "python",
   "pygments_lexer": "ipython3",
   "version": "3.7.4"
  }
 },
 "nbformat": 4,
 "nbformat_minor": 4
}
