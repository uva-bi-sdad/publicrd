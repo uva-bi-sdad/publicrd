{
 "cells": [
  {
   "cell_type": "code",
   "execution_count": 2,
   "metadata": {},
   "outputs": [
    {
     "name": "stdout",
     "output_type": "stream",
     "text": [
      "Populating the interactive namespace from numpy and matplotlib\n"
     ]
    }
   ],
   "source": [
    "#Set up Environment\n",
    "\n",
    "import pandas as pd\n",
    "import matplotlib.pyplot as plt\n",
    "import numpy as np\n",
    "%pylab inline\n",
    "from string import ascii_letters\n",
    "import sys\n",
    "import re\n",
    "#Preprocessing\n",
    "import nltk\n",
    "\n",
    "#raw_df=pd.read_csv('abstracts_federal_reporter_combined.csv',engine='python')\n"
   ]
  },
  {
   "cell_type": "code",
   "execution_count": 5,
   "metadata": {},
   "outputs": [
    {
     "name": "stdout",
     "output_type": "stream",
     "text": [
      "Columns\n",
      "Index(['PROJECT_ID', 'ABSTRACT', 'FY', 'FIRST_CHAR', 'LAST_CHAR', 'DEPARTMENT',\n",
      "       'AGENCY', 'IC_CENTER', 'PROJECT_NUMBER', 'PROJECT_TITLE',\n",
      "       'PROJECT_TERMS', 'CONTACT_PI_PROJECT_LEADER', 'OTHER_PIS',\n",
      "       'ORGANIZATION_NAME', 'CFDA_CODE', 'FY_TOTAL_COST'],\n",
      "      dtype='object')\n",
      "Descriptive Stats\n",
      "         PROJECT_ID             FY  FY_TOTAL_COST\n",
      "count  5.500880e+05  550088.000000   4.256850e+05\n",
      "mean   4.980384e+05    2012.247477   4.509841e+05\n",
      "std    3.262050e+05       3.183765   1.727112e+06\n",
      "min    1.008600e+04    2008.000000   1.000000e+00\n",
      "25%    1.790538e+05    2009.000000   1.390020e+05\n",
      "50%    4.880660e+05    2012.000000   2.917820e+05\n",
      "75%    7.817102e+05    2015.000000   4.500000e+05\n",
      "max    1.101940e+06    2018.000000   3.227983e+08\n",
      "Length\n",
      "550088\n"
     ]
    }
   ],
   "source": [
    "#Visualize data\n",
    "\n",
    "print('Columns')\n",
    "print(raw_df.columns)\n",
    "print('Descriptive Stats')\n",
    "print(raw_df.describe())\n",
    "print('Length')\n",
    "print(len(raw_df))"
   ]
  },
  {
   "cell_type": "code",
   "execution_count": 8,
   "metadata": {},
   "outputs": [
    {
     "name": "stdout",
     "output_type": "stream",
     "text": [
      "Length550074\n",
      "Project ID duplicates\n",
      "Series([], Name: PROJECT_ID, dtype: int64)\n"
     ]
    },
    {
     "name": "stderr",
     "output_type": "stream",
     "text": [
      "/apps/software/standard/core/anaconda/5.2.0-py3.6/lib/python3.6/site-packages/ipykernel_launcher.py:10: SettingWithCopyWarning: \n",
      "A value is trying to be set on a copy of a slice from a DataFrame\n",
      "\n",
      "See the caveats in the documentation: http://pandas.pydata.org/pandas-docs/stable/indexing.html#indexing-view-versus-copy\n",
      "  # Remove the CWD from sys.path while we load stuff.\n"
     ]
    }
   ],
   "source": [
    "##############\n",
    "#Remove nulls and duplicates\n",
    "#Currently removes only duplicates based on ABSTRACTS and only in the same YEAR\n",
    "#The rationale here is that we may do year-by-year modelling and don't want to exclude projects\n",
    "#But if we do all-in-one modelling (e.g. across all years), we will want to reconsider\n",
    "#Also will want to do additional duplicate check once abstracts are cleaned\n",
    "###############\n",
    "\n",
    "df=raw_df.loc[pd.notnull(raw_df['ABSTRACT'])]\n",
    "df.drop_duplicates(subset=['ABSTRACT','FY'],inplace=True) #Drop projects with identical abstracts and year. Different year could indicate additional funding sent to this project.\n",
    "print('Length'+str(len(df)))\n",
    "\n",
    "####################\n",
    "#Check for additional duplicates\n",
    "#Note that the project id isnt necessarily identical for each transaction on same grant--e.g. one number could be added, so this isnt that strict and why checking astract is needed\n",
    "#####################\n",
    "print('Project ID duplicates')\n",
    "vc=df['PROJECT_ID'].value_counts()\n",
    "print(vc[vc>1])"
   ]
  },
  {
   "cell_type": "code",
   "execution_count": 4,
   "metadata": {},
   "outputs": [
    {
     "data": {
      "text/plain": [
       "\"\\nx='phrase to remove is at the start and phrase to remove is also in middle and phrase to remove is in the middle again and ends with phrase to remove'\\ny='nothing in common but a phrase to remov nothing in common'\\nprint(remove_phrase(x,'phrase to remove',loc='Start'))\\nprint(remove_phrase(x,'phrase to remove',loc='End'))\\nprint(remove_phrase(x,'phrase to remove',loc='Anywhere_All'))\\nprint(remove_phrase(x,'phrase to remove',loc='Anywhere_First'))\\nprint(remove_phrase(y,'phrase to remove',loc='Start'))\\nprint(remove_phrase(y,'phrase to remove',loc='End'))\\nprint(remove_phrase(y,'phrase to remove',loc='Anywhere_All'))\\nprint(remove_phrase(y,'phrase to remove',loc='Anywhere_First'))\\n\""
      ]
     },
     "execution_count": 4,
     "metadata": {},
     "output_type": "execute_result"
    }
   ],
   "source": [
    "################\n",
    "#Function for removing any text we don't like at start, end, or anywhere within a string\n",
    "################\n",
    "\n",
    "def remove_phrase(x, phrase,loc='Start'):\n",
    "    \"\"\"returns x with phrase removed. location can be \"Start\" of string, \"End\" of string, or \"Anywhere_All\"--anywhere will remove all instances and Anywhere_First will remove the first instane\"\"\"\n",
    "    assert loc in ['Start','End','Anywhere_All','Anywhere_First']\n",
    "    if loc=='End':\n",
    "        if x.endswith(phrase):\n",
    "            return x[:-1*len(phrase)].strip()\n",
    "        else:\n",
    "            return x\n",
    "    elif loc=='Start':\n",
    "        if x.startswith(phrase):\n",
    "            return x[len(phrase):].strip()\n",
    "        else:\n",
    "            return x\n",
    "    elif loc=='Anywhere_All':\n",
    "        return x.replace(phrase,'')\n",
    "    elif loc=='Anywhere_First':\n",
    "        return x.replace(phrase,'',1)\n",
    "    else:\n",
    "        return 'Error'\n",
    "    \n",
    "#Testing phrases\n",
    "\"\"\"\n",
    "x='phrase to remove is at the start and phrase to remove is also in middle and phrase to remove is in the middle again and ends with phrase to remove'\n",
    "y='nothing in common but a phrase to remov nothing in common'\n",
    "print(remove_phrase(x,'phrase to remove',loc='Start'))\n",
    "print(remove_phrase(x,'phrase to remove',loc='End'))\n",
    "print(remove_phrase(x,'phrase to remove',loc='Anywhere_All'))\n",
    "print(remove_phrase(x,'phrase to remove',loc='Anywhere_First'))\n",
    "print(remove_phrase(y,'phrase to remove',loc='Start'))\n",
    "print(remove_phrase(y,'phrase to remove',loc='End'))\n",
    "print(remove_phrase(y,'phrase to remove',loc='Anywhere_All'))\n",
    "print(remove_phrase(y,'phrase to remove',loc='Anywhere_First'))\n",
    "\"\"\""
   ]
  },
  {
   "cell_type": "code",
   "execution_count": 9,
   "metadata": {},
   "outputs": [
    {
     "name": "stderr",
     "output_type": "stream",
     "text": [
      "/apps/software/standard/core/anaconda/5.2.0-py3.6/lib/python3.6/site-packages/ipykernel_launcher.py:3: SettingWithCopyWarning: \n",
      "A value is trying to be set on a copy of a slice from a DataFrame.\n",
      "Try using .loc[row_indexer,col_indexer] = value instead\n",
      "\n",
      "See the caveats in the documentation: http://pandas.pydata.org/pandas-docs/stable/indexing.html#indexing-view-versus-copy\n",
      "  This is separate from the ipykernel package so we can avoid doing imports until\n",
      "/apps/software/standard/core/anaconda/5.2.0-py3.6/lib/python3.6/site-packages/ipykernel_launcher.py:6: SettingWithCopyWarning: \n",
      "A value is trying to be set on a copy of a slice from a DataFrame.\n",
      "Try using .loc[row_indexer,col_indexer] = value instead\n",
      "\n",
      "See the caveats in the documentation: http://pandas.pydata.org/pandas-docs/stable/indexing.html#indexing-view-versus-copy\n",
      "  \n"
     ]
    }
   ],
   "source": [
    "#Define a new series which is an abstract that keeps the raw text, but can be continuously manipulated.\n",
    "wa='working_abstract'\n",
    "df[wa]=df['ABSTRACT'].apply(str.strip)\n",
    "\n",
    "#Remove too short abstracts\n",
    "df['nchar']=df[wa].apply(len)\n",
    "limit=150 #Less than 150 chars is not an abstract\n",
    "df=df.loc[df['nchar']>=limit]"
   ]
  },
  {
   "cell_type": "code",
   "execution_count": 10,
   "metadata": {},
   "outputs": [],
   "source": [
    "#Data Cleaning Plan:\n",
    "\n",
    "#1 KATHRYN\n",
    "#Start by searching for truncation and end tags\n",
    "#1.1 Identify last character. If it's not a sentence-ending punctuation, manual investigation. \n",
    "#1.2Pull out last sentences and clauses to check for any end-based tags\n",
    "#1.3 Check for truncation\n",
    "\n",
    "#2: SAM\n",
    "#Then go to the first few sentences\n",
    "#What if it's actually just short?\n",
    "#2.1. Pull out starting tags that don't provide information--e.g. description, abstract\n",
    "#2.2 Check abstracts that start with a non-alphabetical character\n",
    "\n",
    "#3: SEAN\n",
    "#Finally, flag abstracts that contain information thats not appropriate in an abstract\n",
    "#3.1 Check for the phrases \"Prinicipal Investigator\", title of project, \"truncated\"\n",
    "\n",
    "#4 Review of common bigrams/bigrams tuning"
   ]
  },
  {
   "cell_type": "code",
   "execution_count": 11,
   "metadata": {},
   "outputs": [],
   "source": [
    "#2:\n",
    "#Then go to the first few sentences\n",
    "#2.1. Pull out starting tags that don't provide information--e.g. description, abstract\n",
    "#2.2 Check abstracts that start with a non-alphabetical character"
   ]
  },
  {
   "cell_type": "code",
   "execution_count": 12,
   "metadata": {},
   "outputs": [
    {
     "name": "stdout",
     "output_type": "stream",
     "text": [
      "This subproject is one of many research subprojects utilizing theresources provided by a Center gran    18325\n",
      "This subproject is one of many research subprojects utilizing the resourcesprovided by a Center gran     5812\n",
      "This award is funded under the American Recovery and Reinvestment Act of 2009 (Public Law 111-5). Th      518\n",
      "This award is funded under the American Recovery and Reinvestment Act of 2009 (Public Law 111-5).The      502\n",
      "This award is funded under the American Recovery and Reinvestment Act of 2009 (Public Law 111-5).Thi      499\n",
      "The broader impact/commercial potential of this Small Business Innovation Research (SBIR) Phase I pr      346\n",
      "The broader impact/commercial potential of this Small Business Innovation Research (SBIR) Phase II p      218\n",
      "This award is funded under the American Recovery and Reinvestment Act of 2009 (Public Law 111-5).Wit      117\n",
      "This award is funded under the American Recovery and Reinvestment Act of 2009 (Public Law 111-5).  T      112\n",
      "The Louis Stokes Alliances for Minority Participation (LSAMP) program assists universities and colle       92\n",
      "The broader impact/commercial potential of this Small Business Innovation Research (SBIR) project is       89\n",
      "In this project funded by the Macromolecular, Supramolecular and Nanochemistry Program of the Chemis       88\n",
      "This subproject represents an estimate of the percentage of the CTSA funding that isbeing utilized f       84\n",
      "As part of its overall strategy to enhance learning in informal environments, the Advancing Informal       73\n",
      "With support from the Chemical Measurement and Imaging Program in the Division of Chemistry, Profess       73\n",
      "The Historically Black Colleges and Universities Undergraduate Program (HBCU-UP) through Targeted In       72\n",
      "This project will advance efforts of the Innovative Technology Experiences for Students and Teachers       70\n",
      "The International Research Fellowship Program enables U.S. scientists and engineers to conduct nine        70\n",
      "The Discovery Research K-12 program (DRK-12) seeks to significantly enhance the learning and teachin       68\n",
      "The broader impact/commercial potential of this Small Business Technology Transfer (STTR) Phase I pr       62\n",
      "This award was provided as part of NSF's Social, Behavioral and Economic Sciences Postdoctoral Resea       60\n",
      "This award is funded under the American Recovery and Reinvestment Act of 2009 (Public Law 111-5).In        60\n",
      "The Planning Grants for Engineering Research Centers competition was run as a pilot solicitation wit       58\n",
      "With this award from the Major Research Instrumentation Program (MRI) and support from the Chemistry       57\n",
      "This award is funded under the American Recovery and Reinvestment Act of 2009 (Public Law 111-5). In       56\n",
      "This action funds an NSF National Plant Genome Initiative Postdoctoral Research Fellowship in Biolog       55\n",
      "This award is funded under the American Recovery and Reinvestment Act of 2009 (Public Law 111-5).          51\n",
      "This award is funded under the American Recovery and Reinvestment Act of 2009 (Public Law 111-5)This       47\n",
      "This award is funded under the American Recovery and Reinvestment Act of 2009 (Public Law 111-5).Dr.       47\n",
      "DESCRIPTION (provided by applicant): This proposal is to request support for a Keystone Symposia mee       45\n",
      "                                                                                                        ...  \n",
      "Enter the text here that is the new abstract information for your application. This section must be        42\n",
      "NSF Postdoctoral Fellowships in Biology combine research and training components to prepare young sc       42\n",
      "The broader impact/commercial potential of this Small Business Innovation Research Phase I project i       41\n",
      "In this project funded by the Chemical Structure, Dynamic & Mechanism B Program of the Chemistry Div       41\n",
      "This award is made as part of the FY 2018 Mathematical Sciences Postdoctoral Research Fellowships Pr       40\n",
      "DESCRIPTION (provided by applicant): This application addresses broad Challenge Area (15) Translatio       39\n",
      "This award is made as part of the FY 2013 Mathematical Sciences Postdoctoral Research Fellowships Pr       39\n",
      "The Cyberlearning and Future Learning Technologies Program funds efforts that will help envision the       38\n",
      "This award is supported by the Major Research Instrumentation (MRI) and the Chemistry Research Instr       38\n",
      "With funding from the National Science Foundation's Scholarships in Science, Technology, Engineering       37\n",
      "This award is made as part of the FY 2015 Mathematical Sciences Postdoctoral Research Fellowships Pr       37\n",
      "DESCRIPTION (provided by applicant): This Mentored Patient-Oriented Research Career Development Awar       36\n",
      "The goal of this contract is to provide support of National Toxicology Program (NTP) hazard identifi       36\n",
      "The goal of this project is to provide support of National Toxicology Program (NTP) hazard identific       35\n",
      "This subproject is one of many research subprojects utilizing the resources provided by a Center gra       35\n",
      "A goal of the Tribal Colleges and Universities Program (TCUP) is to increase the science, technology       35\n",
      "DESCRIPTION (provided by applicant): This proposal describes a 5-year training program for the devel       34\n",
      "This proposal will be awarded using funds made available by the American Recovery and Reinvestment A       34\n",
      "The Directorate of Social, Behavioral and Economic Sciences offers postdoctoral research fellowships       34\n",
      "This Pan-American Advanced Studies Institutes (PASI) award, jointly supported by the NSF and the Dep       33\n",
      "This award provides support to U.S. researchers participating in a project competitively selected by       33\n",
      "DESCRIPTION (provided by applicant): Age-related macular degeneration (AMD) is the leading cause of        33\n",
      "The mission of the National Network of Libraries of Medicine (NN/LM) is to advance the progress of m       33\n",
      "DESCRIPTION (provided by applicant): This application addresses broad Challenge Area (06) Enabling T       32\n",
      "With funding from the NSF Scholarships in Science, Technology, Engineering, and Mathematics (S-STEM)       32\n",
      "This National Science Foundation (NSF) Scholarships in Science, Technology, Engineering, and Mathema       32\n",
      "﻿   DESCRIPTION (provided by applicant): Support is requested for a Keystone Symposia meeting enti         32\n",
      "One of the major intellectual achievements of the 20th century was the development of the Standard M       32\n",
      "The Historically Black Colleges and Universities-Undergraduate Program (HBCU-UP) Research Initiation       31\n",
      "The Improving Undergraduate STEM Education: Hispanic-Serving Institutions Program (HSI Program) aims       31\n",
      "Name: FIRST_CHAR, Length: 66, dtype: int64\n"
     ]
    }
   ],
   "source": [
    "###############33\n",
    "#2: Pulling out duplicate first sentences\n",
    "#Starting with 'First_char', which doesn't work correctly but does tell us some stuff\n",
    "#Pull out starts that are absolutely high (not relatively by CFDA)\n",
    "################\n",
    "\n",
    "vc=df['FIRST_CHAR'].value_counts()\n",
    "print(vc[vc>30])"
   ]
  },
  {
   "cell_type": "code",
   "execution_count": 6,
   "metadata": {},
   "outputs": [
    {
     "data": {
      "text/html": [
       "<div>\n",
       "<style scoped>\n",
       "    .dataframe tbody tr th:only-of-type {\n",
       "        vertical-align: middle;\n",
       "    }\n",
       "\n",
       "    .dataframe tbody tr th {\n",
       "        vertical-align: top;\n",
       "    }\n",
       "\n",
       "    .dataframe thead th {\n",
       "        text-align: right;\n",
       "    }\n",
       "</style>\n",
       "<table border=\"1\" class=\"dataframe\">\n",
       "  <thead>\n",
       "    <tr style=\"text-align: right;\">\n",
       "      <th></th>\n",
       "      <th></th>\n",
       "      <th>FIRST_CHAR</th>\n",
       "      <th>CFDA_CODE</th>\n",
       "      <th>Relative Frequency</th>\n",
       "    </tr>\n",
       "    <tr>\n",
       "      <th>CFDA_CODE</th>\n",
       "      <th>FIRST_CHAR</th>\n",
       "      <th></th>\n",
       "      <th></th>\n",
       "      <th></th>\n",
       "    </tr>\n",
       "  </thead>\n",
       "  <tbody>\n",
       "    <tr>\n",
       "      <th>47.041</th>\n",
       "      <th>The broader impact/commercial potential of this Small Business Innovation Research (SBIR) Phase I pr</th>\n",
       "      <td>346</td>\n",
       "      <td>23165</td>\n",
       "      <td>0.014936</td>\n",
       "    </tr>\n",
       "    <tr>\n",
       "      <th rowspan=\"2\" valign=\"top\">47.079</th>\n",
       "      <th>The International Research Fellowship Program enables U.S. scientists and engineers to conduct nine</th>\n",
       "      <td>70</td>\n",
       "      <td>2225</td>\n",
       "      <td>0.031461</td>\n",
       "    </tr>\n",
       "    <tr>\n",
       "      <th>This Pan-American Advanced Studies Institutes (PASI) award, jointly supported by the NSF and the Dep</th>\n",
       "      <td>33</td>\n",
       "      <td>2225</td>\n",
       "      <td>0.014831</td>\n",
       "    </tr>\n",
       "    <tr>\n",
       "      <th rowspan=\"2\" valign=\"top\">47.08</th>\n",
       "      <th>This award facilitates scientific research using the large new computational resource named Blue Wat</th>\n",
       "      <td>7</td>\n",
       "      <td>496</td>\n",
       "      <td>0.014113</td>\n",
       "    </tr>\n",
       "    <tr>\n",
       "      <th>This award facilitates scientific research using the large, new, computational resource named Blue W</th>\n",
       "      <td>5</td>\n",
       "      <td>496</td>\n",
       "      <td>0.010081</td>\n",
       "    </tr>\n",
       "    <tr>\n",
       "      <th>47.080</th>\n",
       "      <th>This proposal is for a provisional allocation of time on the Blue Waters computer system, due to bec</th>\n",
       "      <td>7</td>\n",
       "      <td>326</td>\n",
       "      <td>0.021472</td>\n",
       "    </tr>\n",
       "    <tr>\n",
       "      <th rowspan=\"9\" valign=\"top\">47.082</th>\n",
       "      <th>This award is funded under the American Recovery and Reinvestment Act of 2009 (Public Law 111-5). Th</th>\n",
       "      <td>517</td>\n",
       "      <td>4622</td>\n",
       "      <td>0.111856</td>\n",
       "    </tr>\n",
       "    <tr>\n",
       "      <th>This award is funded under the American Recovery and Reinvestment Act of 2009 (Public Law 111-5).The</th>\n",
       "      <td>502</td>\n",
       "      <td>4622</td>\n",
       "      <td>0.108611</td>\n",
       "    </tr>\n",
       "    <tr>\n",
       "      <th>This award is funded under the American Recovery and Reinvestment Act of 2009 (Public Law 111-5).Thi</th>\n",
       "      <td>499</td>\n",
       "      <td>4622</td>\n",
       "      <td>0.107962</td>\n",
       "    </tr>\n",
       "    <tr>\n",
       "      <th>This award is funded under the American Recovery and Reinvestment Act of 2009 (Public Law 111-5).Wit</th>\n",
       "      <td>117</td>\n",
       "      <td>4622</td>\n",
       "      <td>0.025314</td>\n",
       "    </tr>\n",
       "    <tr>\n",
       "      <th>This award is funded under the American Recovery and Reinvestment Act of 2009 (Public Law 111-5).  T</th>\n",
       "      <td>112</td>\n",
       "      <td>4622</td>\n",
       "      <td>0.024232</td>\n",
       "    </tr>\n",
       "    <tr>\n",
       "      <th>This award is funded under the American Recovery and Reinvestment Act of 2009 (Public Law 111-5).In</th>\n",
       "      <td>60</td>\n",
       "      <td>4622</td>\n",
       "      <td>0.012981</td>\n",
       "    </tr>\n",
       "    <tr>\n",
       "      <th>This award is funded under the American Recovery and Reinvestment Act of 2009 (Public Law 111-5). In</th>\n",
       "      <td>56</td>\n",
       "      <td>4622</td>\n",
       "      <td>0.012116</td>\n",
       "    </tr>\n",
       "    <tr>\n",
       "      <th>This award is funded under the American Recovery and Reinvestment Act of 2009 (Public Law 111-5).</th>\n",
       "      <td>51</td>\n",
       "      <td>4622</td>\n",
       "      <td>0.011034</td>\n",
       "    </tr>\n",
       "    <tr>\n",
       "      <th>This award is funded under the American Recovery and Reinvestment Act of 2009 (Public Law 111-5).Dr.</th>\n",
       "      <td>47</td>\n",
       "      <td>4622</td>\n",
       "      <td>0.010169</td>\n",
       "    </tr>\n",
       "    <tr>\n",
       "      <th>47.083</th>\n",
       "      <th>Non-technical descriptionThis Research Infrastructure Improvement Track-2 Focused EPSCoR Collaborati</th>\n",
       "      <td>4</td>\n",
       "      <td>162</td>\n",
       "      <td>0.024691</td>\n",
       "    </tr>\n",
       "    <tr>\n",
       "      <th>84.305</th>\n",
       "      <th>A Research Network involves several teams of researchers who are working together to address a criti</th>\n",
       "      <td>19</td>\n",
       "      <td>1018</td>\n",
       "      <td>0.018664</td>\n",
       "    </tr>\n",
       "    <tr>\n",
       "      <th>93.095</th>\n",
       "      <th>NYU Langone Medical Center experienced an unprecedented storm on October 29th, 2012, causing damage</th>\n",
       "      <td>4</td>\n",
       "      <td>79</td>\n",
       "      <td>0.050633</td>\n",
       "    </tr>\n",
       "    <tr>\n",
       "      <th>93.281</th>\n",
       "      <th>DESCRIPTION (provided by applicant): This Mentored Patient-Oriented Research Career Development Awar</th>\n",
       "      <td>10</td>\n",
       "      <td>785</td>\n",
       "      <td>0.012739</td>\n",
       "    </tr>\n",
       "    <tr>\n",
       "      <th rowspan=\"2\" valign=\"top\">93.283</th>\n",
       "      <th>one page and must contain a summary of the proposed activity suitable for dissemination to thepublic</th>\n",
       "      <td>19</td>\n",
       "      <td>372</td>\n",
       "      <td>0.051075</td>\n",
       "    </tr>\n",
       "    <tr>\n",
       "      <th>Close FormNextPrint PageAbout OMB Number: 0980-0204Expiration Date: 12/31/2009Project Abstract Summa</th>\n",
       "      <td>5</td>\n",
       "      <td>372</td>\n",
       "      <td>0.013441</td>\n",
       "    </tr>\n",
       "    <tr>\n",
       "      <th>93.315</th>\n",
       "      <th>﻿   DESCRIPTION (provided by applicant): Fragile X syndrome (FXS) is the most common inherited cau</th>\n",
       "      <td>4</td>\n",
       "      <td>39</td>\n",
       "      <td>0.102564</td>\n",
       "    </tr>\n",
       "    <tr>\n",
       "      <th>93.333</th>\n",
       "      <th>This subproject is one of many research subprojects utilizing theresources provided by a Center gran</th>\n",
       "      <td>252</td>\n",
       "      <td>269</td>\n",
       "      <td>0.936803</td>\n",
       "    </tr>\n",
       "    <tr>\n",
       "      <th>93.371</th>\n",
       "      <th>This subproject is one of many research subprojects utilizing theresources provided by a Center gran</th>\n",
       "      <td>688</td>\n",
       "      <td>768</td>\n",
       "      <td>0.895833</td>\n",
       "    </tr>\n",
       "    <tr>\n",
       "      <th rowspan=\"2\" valign=\"top\">93.389</th>\n",
       "      <th>This subproject is one of many research subprojects utilizing theresources provided by a Center gran</th>\n",
       "      <td>17270</td>\n",
       "      <td>25455</td>\n",
       "      <td>0.678452</td>\n",
       "    </tr>\n",
       "    <tr>\n",
       "      <th>This subproject is one of many research subprojects utilizing the resourcesprovided by a Center gran</th>\n",
       "      <td>5811</td>\n",
       "      <td>25455</td>\n",
       "      <td>0.228285</td>\n",
       "    </tr>\n",
       "    <tr>\n",
       "      <th rowspan=\"2\" valign=\"top\">93.945</th>\n",
       "      <th>DESCRIPTION (provided by applicant): SEARCH for Diabetes in Youth (SEARCH) is an on-going, multi-cen</th>\n",
       "      <td>4</td>\n",
       "      <td>36</td>\n",
       "      <td>0.111111</td>\n",
       "    </tr>\n",
       "    <tr>\n",
       "      <th>one page and must contain a summary of the proposed activity suitable for dissemination to thepublic</th>\n",
       "      <td>4</td>\n",
       "      <td>36</td>\n",
       "      <td>0.111111</td>\n",
       "    </tr>\n",
       "  </tbody>\n",
       "</table>\n",
       "</div>"
      ],
      "text/plain": [
       "                                                              FIRST_CHAR  \\\n",
       "CFDA_CODE FIRST_CHAR                                                       \n",
       "47.041    The broader impact/commercial potential of this...         346   \n",
       "47.079    The International Research Fellowship Program e...          70   \n",
       "          This Pan-American Advanced Studies Institutes (...          33   \n",
       "47.08     This award facilitates scientific research usin...           7   \n",
       "          This award facilitates scientific research usin...           5   \n",
       "47.080    This proposal is for a provisional allocation o...           7   \n",
       "47.082    This award is funded under the American Recover...         517   \n",
       "          This award is funded under the American Recover...         502   \n",
       "          This award is funded under the American Recover...         499   \n",
       "          This award is funded under the American Recover...         117   \n",
       "          This award is funded under the American Recover...         112   \n",
       "          This award is funded under the American Recover...          60   \n",
       "          This award is funded under the American Recover...          56   \n",
       "          This award is funded under the American Recover...          51   \n",
       "          This award is funded under the American Recover...          47   \n",
       "47.083    Non-technical descriptionThis Research Infrastr...           4   \n",
       "84.305    A Research Network involves several teams of re...          19   \n",
       "93.095    NYU Langone Medical Center experienced an unpre...           4   \n",
       "93.281    DESCRIPTION (provided by applicant): This Mento...          10   \n",
       "93.283    one page and must contain a summary of the prop...          19   \n",
       "          Close FormNextPrint PageAbout OMB Number: 0980-...           5   \n",
       "93.315    ﻿   DESCRIPTION (provided by applicant): Fragil...           4   \n",
       "93.333    This subproject is one of many research subproj...         252   \n",
       "93.371    This subproject is one of many research subproj...         688   \n",
       "93.389    This subproject is one of many research subproj...       17270   \n",
       "          This subproject is one of many research subproj...        5811   \n",
       "93.945    DESCRIPTION (provided by applicant): SEARCH for...           4   \n",
       "          one page and must contain a summary of the prop...           4   \n",
       "\n",
       "                                                              CFDA_CODE  \\\n",
       "CFDA_CODE FIRST_CHAR                                                      \n",
       "47.041    The broader impact/commercial potential of this...      23165   \n",
       "47.079    The International Research Fellowship Program e...       2225   \n",
       "          This Pan-American Advanced Studies Institutes (...       2225   \n",
       "47.08     This award facilitates scientific research usin...        496   \n",
       "          This award facilitates scientific research usin...        496   \n",
       "47.080    This proposal is for a provisional allocation o...        326   \n",
       "47.082    This award is funded under the American Recover...       4622   \n",
       "          This award is funded under the American Recover...       4622   \n",
       "          This award is funded under the American Recover...       4622   \n",
       "          This award is funded under the American Recover...       4622   \n",
       "          This award is funded under the American Recover...       4622   \n",
       "          This award is funded under the American Recover...       4622   \n",
       "          This award is funded under the American Recover...       4622   \n",
       "          This award is funded under the American Recover...       4622   \n",
       "          This award is funded under the American Recover...       4622   \n",
       "47.083    Non-technical descriptionThis Research Infrastr...        162   \n",
       "84.305    A Research Network involves several teams of re...       1018   \n",
       "93.095    NYU Langone Medical Center experienced an unpre...         79   \n",
       "93.281    DESCRIPTION (provided by applicant): This Mento...        785   \n",
       "93.283    one page and must contain a summary of the prop...        372   \n",
       "          Close FormNextPrint PageAbout OMB Number: 0980-...        372   \n",
       "93.315    ﻿   DESCRIPTION (provided by applicant): Fragil...         39   \n",
       "93.333    This subproject is one of many research subproj...        269   \n",
       "93.371    This subproject is one of many research subproj...        768   \n",
       "93.389    This subproject is one of many research subproj...      25455   \n",
       "          This subproject is one of many research subproj...      25455   \n",
       "93.945    DESCRIPTION (provided by applicant): SEARCH for...         36   \n",
       "          one page and must contain a summary of the prop...         36   \n",
       "\n",
       "                                                              Relative Frequency  \n",
       "CFDA_CODE FIRST_CHAR                                                              \n",
       "47.041    The broader impact/commercial potential of this...            0.014936  \n",
       "47.079    The International Research Fellowship Program e...            0.031461  \n",
       "          This Pan-American Advanced Studies Institutes (...            0.014831  \n",
       "47.08     This award facilitates scientific research usin...            0.014113  \n",
       "          This award facilitates scientific research usin...            0.010081  \n",
       "47.080    This proposal is for a provisional allocation o...            0.021472  \n",
       "47.082    This award is funded under the American Recover...            0.111856  \n",
       "          This award is funded under the American Recover...            0.108611  \n",
       "          This award is funded under the American Recover...            0.107962  \n",
       "          This award is funded under the American Recover...            0.025314  \n",
       "          This award is funded under the American Recover...            0.024232  \n",
       "          This award is funded under the American Recover...            0.012981  \n",
       "          This award is funded under the American Recover...            0.012116  \n",
       "          This award is funded under the American Recover...            0.011034  \n",
       "          This award is funded under the American Recover...            0.010169  \n",
       "47.083    Non-technical descriptionThis Research Infrastr...            0.024691  \n",
       "84.305    A Research Network involves several teams of re...            0.018664  \n",
       "93.095    NYU Langone Medical Center experienced an unpre...            0.050633  \n",
       "93.281    DESCRIPTION (provided by applicant): This Mento...            0.012739  \n",
       "93.283    one page and must contain a summary of the prop...            0.051075  \n",
       "          Close FormNextPrint PageAbout OMB Number: 0980-...            0.013441  \n",
       "93.315    ﻿   DESCRIPTION (provided by applicant): Fragil...            0.102564  \n",
       "93.333    This subproject is one of many research subproj...            0.936803  \n",
       "93.371    This subproject is one of many research subproj...            0.895833  \n",
       "93.389    This subproject is one of many research subproj...            0.678452  \n",
       "          This subproject is one of many research subproj...            0.228285  \n",
       "93.945    DESCRIPTION (provided by applicant): SEARCH for...            0.111111  \n",
       "          one page and must contain a summary of the prop...            0.111111  "
      ]
     },
     "execution_count": 6,
     "metadata": {},
     "output_type": "execute_result"
    }
   ],
   "source": [
    "##########################\n",
    "#2: Starts\n",
    "#Pull out starts that are proportionally high to check for uninformative/duplicate sentences\n",
    "#Show how frequent certain first chars are by cfda by grouping, relative frequnecyy\n",
    "#Again based on First Char, repeat with first actual sentence\n",
    "##########################\n",
    "\n",
    "#Put together a table that groups first char by CFDA code and instead of counts, see how frequently it occurs within that CFDA code\n",
    "attempt_1=pd.DataFrame(df.groupby('CFDA_CODE')['FIRST_CHAR'].value_counts())\n",
    "attempt_2=df['CFDA_CODE'].value_counts()\n",
    "attempt_3=attempt_1.join(attempt_2,on='CFDA_CODE')\n",
    "attempt_3['Relative Frequency']=attempt_3['FIRST_CHAR']/attempt_3['CFDA_CODE']\n",
    "\n",
    "#Limit analysis to those items that occur at least 3 times and in at least 1% of abstracts (arbitrary)\n",
    "a=attempt_3['FIRST_CHAR']>3 \n",
    "b=attempt_3['Relative Frequency']>.01\n",
    "attempt_3.loc[(a&b)] #Some first sentences are a very good indicator of a particular CFDA, suggesting they have particular formatting rules that would be a give away for the\n",
    "#CFDA code, rather than the actual research conducted"
   ]
  },
  {
   "cell_type": "code",
   "execution_count": 13,
   "metadata": {},
   "outputs": [
    {
     "name": "stdout",
     "output_type": "stream",
     "text": [
      "The broader impact/commercial potential of this Small Business Innovation Research (SBIR) Phase I pr    346\n",
      "The broader impact/commercial potential of this Small Business Innovation Research (SBIR) Phase II p    218\n",
      "The broader impact/commercial potential of this Small Business Innovation Research (SBIR) project is     89\n",
      "The broader impact/commercial potential of this Small Business Technology Transfer (STTR) Phase I pr     62\n",
      "The Planning Grants for Engineering Research Centers competition was run as a pilot solicitation wit     58\n",
      "The broader impact/commercial potential of this Small Business Innovation Research Phase I project i     41\n",
      "The broader impact/commercial potential of this Small Business Innovation Research (SBIR) project wi     28\n",
      "The broader impact/commercial potential of this Small Business Innovation Research Phase II project      25\n",
      "This award provides funding for a three year standard award to support a Research Experiences for Te     22\n",
      "The broader impact/commercial potential of this Small Business Technology Transfer (STTR) project wi     20\n",
      "The broader impact/commercial potential of this Small Business Technology Transfer (STTR) project is     15\n",
      "The research objective of this Grant Opportunity for Academic Liaison with Industry (GOALI) award is     12\n",
      "The broader impact/commercial potential of this Small Business Innovation Research Phase I project w     12\n",
      "This award provides funding for a 3 year continuing award to support a Research Experiences for Teac     12\n",
      "This award is an outcome of the NSF 09-524 program solicitation  George E. Brown, Jr. Network for Ea     11\n",
      "This award provides funding for a three year continuing award to support a Research Experiences for      11\n",
      "The broader impact/commercial potential of this Small Business Technology Transfer (STTR) Phase II p     11\n",
      "The broader impacts/commercial potential of this Small Business Innovation Research (SBIR) Phase I p     10\n",
      "This award supports the conduct of an National Science Foundation Faculty Early Career Development (      9\n",
      "The research objective of this Grant Opportunity for Academic Liaison with Industry (GOALI) project       9\n",
      "The research objective of this Emerging Frontiers in Research and Innovation (EFRI) Origami Design f      8\n",
      "This award is an outcome of the NSF 08-519 program solicitation George E. Brown, Jr. Network for Ear      7\n",
      "The NSF Sustainable Energy pathways (SEP) Program, under the umbrella of the NSF Science, Engineerin      7\n",
      "This award provides funding for a three year standard award for a Research Experiences for Teachers       7\n",
      "The proposed planning activity seeks to undertake planning of the establishment of a new Industry/Un      7\n",
      "This Broadening Participation Research Initiation Grant in Engineering (BRIGE) provides funding for       7\n",
      "This PFI: Accelerating Innovation Research (AIR) Technology Translation (TT) project focuses on tran      6\n",
      "The research objective of this Faculty Early Career Development (CAREER) Program project is to devel      6\n",
      "The research objective of this Faculty Early Career Development (CAREER) Program award is to investi      6\n",
      "This Small Business Innovation Research (SBIR) Phase I project will demonstrate the feasibility of a      6\n",
      "                                                                                                       ... \n",
      "This Small Business Innovation Research Phase I project is to develop a highly energy efficient, hig      1\n",
      "This Small Business Innovation Research (SBIR) Phase I project proposes to develop a flow cytometer       1\n",
      "This Small Business Innovation Research (SBIR) Phase I project aims to develop a new material and me      1\n",
      "This project aims to develop a strategic decision-making framework for communication and control in       1\n",
      "1539847  Carlson, Ross P. NSF support will help ensure the success of the meeting by partially defra      1\n",
      "In this study we propose to grow extended chain polymer crystals on individual SWNTs (not on bundles      1\n",
      "0854210LeeNaturally-occurring methane hydrates have attracted a lot of public attention because they      1\n",
      "Angenent, Lars T., PIWashington University0645021CAREER: Microbial Fuel Cell Technology for Large-Sc      1\n",
      "Biomedical implants hold the promise of dramatically improving health and well-being by, for example      1\n",
      "The Small Business Technology Transfer Research (STTR) Phase I project focuses on the production of       1\n",
      "This Phase I project will determine the efficacy of cutting-edge digital technologies for language a      1\n",
      "1438560LoveGOALI: Developing Sensor-Mediated Control Strategies that Allow Innovative Treatment of N      1\n",
      "0967172VanapalliIn applications such as foods and consumer products, emulsions are often employed be      1\n",
      "Nanoindentation is a versatile material characterization technique that uses an extremely hard tip t      1\n",
      "The research objective of this award is to develop a comprehensive understanding of cell alignment i      1\n",
      "0824311Gon Namkoong, Old Dominion UniversityBRIGE: Triple-Wavelength White Light Emitters using Nitr      1\n",
      "Engaging in solving problems through engineering design develops the critical thinking and problem s      1\n",
      "0835607 Schnoor The dynamics of water and the role of humans in the water cycle are not well underst      1\n",
      "This Small Business Innovation Research Phase I project will develop new soluble small molecule (SSM      1\n",
      "CBET - 1605283/1605428PI: Morris, Jeffrey F./Chakraborty, BulbulThis collaborative project comprises      1\n",
      "The research goal of this project is to elucidate the mechanics and magneto-mechanics of magnetic sh      1\n",
      "On Saturday, February 27, 2010 at 03:34 am local time (06:34:14 UTC), a Mw 8.8 earthquake struck the      1\n",
      "1638007Sergi, FabrizioDemand for technology to support gait training after neurological injury is in      1\n",
      "0846541N. LapeThis NSF award by the Chemical and Biological Separations program supports work by Pro      1\n",
      "This Small Business Innovative Research (SBIR) Phase II project will catapult open ocean mariculture      1\n",
      "Antiferromagnets hold promise in spintronics, due to the unique advantages over ferromagnets, such a      1\n",
      "The Latinx (a gender-neutral term for Latinas/Latinos) population is a severely underrepresented gro      1\n",
      "1041361ElabdThe PI proposes to investigate the transport of liquids in polymers used in biomedical d      1\n",
      "This EArly-concept Grant for Exploratory Research (EAGER) award supports fundamental research on the      1\n",
      "Proposal Title: Active control of nonlocal electron kinetics in low-pressure plasmas using additiona      1\n",
      "Name: FIRST_CHAR, Length: 21295, dtype: int64\n"
     ]
    }
   ],
   "source": [
    "###############\n",
    "#2: Starts\n",
    "#Investigate CFDAs with identical first chars that occur very frequently\n",
    "#47.041 seems to contain a lot of variations of the same first char\n",
    "###############\n",
    "print(df.loc[df['CFDA_CODE']=='47.041','FIRST_CHAR'].value_counts())\n",
    "\n",
    "#Conclusion: This is an instance of near identical language that notes a grant rather than the research funding--e.g. SBIR"
   ]
  },
  {
   "cell_type": "code",
   "execution_count": 126,
   "metadata": {},
   "outputs": [
    {
     "name": "stdout",
     "output_type": "stream",
     "text": [
      "Enter the text here that is the new abstract information for your application. This section must be noE0longer than 30 lines of text.The key to understanding the results of the STEP/Phambili trials is first to model the results of the trial in controlled experiments using mucosal SIV inoculation of rhesus macaques. Thus, we will determine the effectiveness and potential of the Merck trivalent HIV adenovirus 5 vector vaccine (V520) for enhancing susceptibility to S1V in a rhesus macaque model of mucosal HIV transmission. If models of vaccine protection or enhancement are established, the immune mechanisms and inflammation/activation associated with any protective or enhancing effects can be defined in a renewal application.0'Qvic'am-.,cvii\n",
      "Enter the text here that is the new abstract information for your application. This section must be nolonger than 30 lines of text.Studies in zebrafish (Danio rerio) have provided important insights into vertebrate biology, but genomics toolsand resources lag behind other model systems. This pilot study aims to establish genomic approaches forsystematic annotation of RNA transcripts and chromatin domains in the zebrafish genome by an integratedexperimental and computational strategy. Previous studies in mouse and human have demonstrated that thecombination of RNA and chromatin profiling can identify and annotate large numbers of novel genomicelements. We will test the use of these approaches in annotating functional genomic elements in the zebrafishgenome and to establish protocols for a full-fledged project to generate an atlas of coding and non-codinggenes and their functional relationships. Taken together, this project will open the way to generate acomprehensive and dynamic map of genomic elements in zebrafish.\n",
      "Enter the text here that is the new abstract information for your application. This section must be nolongor than 30 tines of text. .N'..evidence of the medical significance of this common mould, our understanding of its pathogenicA. fumigatus conidia and germlings and infected host cells in culture (Aim 2). Findings will beyet unknown lineage-specific pathways. Importantly, given the multifactorial nature of thiscomponents of the innate imniune system in preventing the establishment of an invasive infectionevidence supports the critical role of alveolar macrophage and neutrophils as the essentialInvasive aspergillosis (IA) caused priniarity by Aspergillus fumigatus is an emerging source ofand neutrophil infections of human cell lines (Aim 1); and mRNA expression profiles of infectingfumigalus host-pathogen interaction. The approaches we will employ are: in vitro macrophagecurrent research field, and our genomic and bioinformatic expertise to characterize the A.profiling methodologies, mammalian cell culture modelling methodologies at the forefront of thespecific molecular landmarks of infection. We will combine advanced high throughput expressionstudy of the intact mammalian ex v/vo immune cell-fungal interactions, in order to decipher stage-interaction and the heterogeneity of the susceptible patient population, wethe fungal metabolic pathways to iron depletion, alkaline shift, and nitrogen starvation as welt asfumigafus in overcoming the defenses of the immune suppressed human host involve adaptingin immune competent mammalian hosts. Our key hypothesis is that mechanisms employed by A.pathogen- mediated events govern the nutcome of an A. fumigalus infection. Accumulatedmechanismsmorbidity and mortality in devetoped countries including the U.S. Despite the accumulating 'VI is limited. Epidemiological evidence demonstrates that concurrent host- and ilt perform a parallel3_¿o'>N..a'^Sono-3c¿¿..-...:.cyield a wealth of information on the host-pathogen interactions necessary for A. fumiqatus tovalidated using human primary macrophage and neutrophil cells. Completion of these aims willmount a successful invasive infection. The completion a'. will also illuminate some nf the...d¿¿The host response analysis will identify approaches to modulate or augment the therapeuticparticipating components of the host immune system and reveal the immune componentsminimize the risk of invasive aspergillosis during and after these treatments.regimens applied concurrently with transplant and other medical interventionsinsight will direct therapeutic approaches to treating, and diagnosing these invasive infections.necessary to maintain protective immunity against the invading fungus. This hithertn inaccessible ... in order to>.E=.mm'-N'3 ..''C3_.n'-'a..m._o'<m-¿\n",
      "Enter the text here that is the new abstract information for your application. This section must be noviilonger than 30 lines of text.Human brucellosis, caused by Bruce/Ia spp., is one of the most widespread zoonotic diseases globally, with an estimated 500,000 new cases each year. Animportant aspect of B. abortus infection is its ability to persist within phagocytic cells of the reticuloendothelial system. We have shown that the virB locus, encoding a Type IV secretion system (T4SS), is essential for survival in phagocytes and virulence in mice. However, the mechanisms by which the T4SS allows B. abortus to establish its niche in the host are unknown. The objective of this application is to characterize the role of molecules secreted by the B. abortus T4SS in interaction with host cells. The central hypothesis of this application is that the T4SS functions in establishing a replicative niche in the host bycan D-0O-00fl)E(fltargeting the Bruce//a-containing vacuole to the endoplasmic reticulum (ER). The rationale for the proposed research is that characterization of virulence mechanismsv,'excellent research environment that is highly conducive to its successful completion. The central hypothesis will be tested and the objectives of this application accomplished by pursuing the following specific aim: (i) Determine the contribution of T4SS-translocated effector proteins to persistent infection of the reticuloendothelial systemsignificantly influencing concepts and methods driving the field.\n",
      "Enter the text here that is the new abstract information for your application. This section must be no is the new abstract information for your application. This section must be no longer than 30 lines of text.6. ti'IL'I.)PROJECT SUMMARY/ABSTRACT'0.,,,T-000Z5m-~c¿)..NOf off 30¿.L.\n",
      "Enter the text here that is the new abstract information for your application. This section must be nolonger than 30 lines of text.Cytoplasmic dynein is a microtubule motor protein involved in a very wide array of cellularfunctions, including vesicular transport, chromosome segregation, and cell migration. Asingle major form of cytoplasmic dynein is responsible for almost all aspects of theseactivities, but how it is adapted to such a diversity of functions at a broad range of subcellularsites remains a major question. Among the known dynein interactors, two complexes haveemerged with prominent roles in dynein cargo binding and motor regulation, NudE-LIS1 anddynactin. We have recently reported NudE-LIS1 to have a novel and unique ability to interactwith the dynein motor domain during its powerstroke and adapt the motor protein for high loadfunctions. We also found LIS1-NudE to compete with dynactin for dynein binding, suggestingthat the two complexes may serve in alternative regulatory roles. This proposal is to test thishypothesis and to bring to bear on dynactin the approaches we have successfully used todetermine the functions and mechanism of action of LIS1 and NudE. Dynactin is known toenhance dynein processivity in vitro. However, its interaction with dynein has been difficult tocontrol, hampering progress toward a complete understanding of its mechanochemicalfunctions. Because dynactin is also important in dynein cargo recruitment, its specific in vivorole in motor regulation has also been difficult to define. Preliminary results have identifiedconditions controlling the dynein-dynactin interaction, and have revealed potent, long-rangeallosteric effects for dynactin fragments on dynein force production and processivity. TheAims of this proposal are (1) to determine how the dynein-dynactin interaction is regulatedand to produce and define cocomplexes for further analysis; (2) to determine the completescope of regulatory functions for the dynactin complex, its major regulatory subunitp150Glued, and its subfragments to understand the underlying mechanisms for dyneinregulation; and (3) to determine the specific roles of dynactin in dynein motor regulation invivo by high resolution particle tracking and force analysis. These studies are of broadrelevance for understanding basic mechanisms of cell behavior. In addition, they should shedimportant new light into the mechanisms underlying brain developmental disease, motorneuron degeneration, cell division, and other physiological and pathophysiological functions.\n",
      "Enter the text here that is the new abstract information for your application. This section must be nolonger than 30 lines of text.Mitotic crossing over is detrimental because it can lead to loss of heterozygosity or chromosomerearrangement, both of which are associated with cancer. The dangers of mitotic crossing over areevident in persons with Bloom syndrome, a rare, hereditary disease characterized by a highlyelevated incidence and early onset of a broad range of malignancies. A predominant feature of cellsfrom these patients is elevated mitotic crossing over between sister chromatids, homologouschromosomes, and heterologous chromosomes. Studies of BLM, which encodes a RecQ helicase,are providing important insights into mechanisms cells use to prevent mitotic crossing over. Wehave made significant contributions to these insights by exploiting unique advantages of Drosophilaas a model metazoan for genetic and molecular studies of the cellular functions of the BLMhelicase. We have developed a detailed model for the function of Drosophila DmBLM in double-strand break repair; we will now test predictions of this model, as well as models proposed byothers, using established and novel molecular genetic assays. This includes novel assays designedfor use in cultured human cells. Although repair of double-strand breaks may lead to crossing over,most spontaneous mitotic crossovers are thought to arise from problems at the replication fork,including blocks to fork progression, broken forks, and some fork convergences. Based on ourstudies of lethal phenotypes that occur when both DmBLM and any of three structure-specific DNAendonuclease is absent, we have modified models to explain roles of DmBLM in replication forkrepair; we will use innovative methods to test key predictions of these models. We will also combinein vivo and in vitro studies to uncover functions of these three endonucleases (MUS81-MMS4,GEN, and MUS312-SLX1), each of which has been implicated in resolution of Holliday junctionintermediates. Importantly, we find that GEN, which appears to play only a secondary role inbudding yeast and is absent from fission yeast, has several important functions in Drosophila. Ourstudies will therefore lead to a greater understanding of the cellular functions of this enzyme and theother putative resolvases. Finally, we will identify additional genes/proteins involved in preventing orpromoting mitotic crossovers through studies of candidate genes and through physical interactionexperiments. The results from our proposed studies will enhance our understanding of mechanismsthrough which mitotic crossovers are generated and how cells employ the tumor suppressor proteinBLM and other proteins to prevent mitotic crossing over, and how putative Holliday junctionresolvases function to promote crossing over.\n",
      "Enter the text here that is the new abstract information for your application. This section must be no longer than30 lines of text.This AREA R15 renewal will accomplish the objectives of (i) supporting meritorious research, (ii) strengtheningthe research environment of non-research intensive universities, and (iii) engaging undergraduate students inbiomedical research. The overall goal of this research is to understand how cells respond to DNA damage,because use of these pathways cause mutations in bacteria that drive increased virulence and drug resistance,whereas defects in this pathway can result in various cancers in humans. This proposal will characterize theunique mechanisms of a translesion synthesis protein (UmuD) homolog that regulates DNA damage responsegenes. The bacterial UmuD¿2C Y-family polymerase is induced after DNA damage via relief of LexA repressionand conducts mutagenic, translesion DNA synthesis. Homologs of bacterial Y-family polymerases exist ineukaryotes, where mutations in pol h predispose humans to skin cancer. Unlike other bacteria, non-entericAcinetobacter baylyi possesses an operon consisting of a umuD homolog, umuDAb, and a truncated, incompleteumuC. The genotypic and phenotypic characteristics of UmuDAb constitute a chimera of LexA and UmuD: it hasan extended N-terminal domain (NTD) like LexA, and a C-terminal domain (CTD) conducting self-cleavagesimilar to both UmuD and LexA. Furthermore, umuDAb cannot complement an Escherichia coli umuD mutant,but rather regulates ddrR and itself in response to DNA damage. We hypothesize that UmuDAb is a LexA-likerepressor. The mechanisms of UmuDAb action will be dissected in the translesion-synthesis incompetent A.baylyi as well as in the opportunistic pathogen Acinetobacter baumannii, which conducts UV-inducedmutagenesis and has both the ddrR-umuDAb locus and an E. coli-like umuDC operon. The specific Aims of thisproject are to: (1) Delineate the actions of the C- and N-terminal domains of UmuDAb that are required forregulation of genes after DNA damage; (2) Describe the functional roles and regulatory relationship of themultiple umuD alleles of A. baumannii in its response to DNA damage. These Aims will be accomplishedthrough experiments assaying ddrR regulation and UV-induced mutagenesis ability in cells with mutations in theN- or C-terminal domains of UmuDAb. Transcriptome analyses will complement these experiments. This projectwill extend our knowledge of the regulation and function of Y-family polymerases as well as their role in causingmutations in bacterial pathogens. These experiments will be completed by undergraduates mentored and trainedby the PI to perform authentic biomedical research, help write scientific manuscripts, and communicate theirfindings to the campus community and larger scientific networks. The enhanced research infrastructure, as well asthe expectation of and opportunities for student engagement in research, will be beneficial to the entire Biologyand Chemistry department at Morehead State University.\n",
      "Enter the text here that is the new abstract information for your application. This section must be no longer than 30 lines oftext.Complex carbohydrates play important roles in biological systems. However, it is very difficult to obtain thesestructures in pure homogeneous forms either by isolation from nature or by chemical synthesis. Therefore, thedetailed structure-activity relationship is usually not clear, even for well known compounds with importantfunctions. The ultimate goal of this project is to develop novel chemoenzymatic synthetic methods to efficientlyobtain synthetically challenging carbohydrates and analogs in amounts large enough for structuralcharacterization, functional studies, and therapeutic applications. For the current funding period, we arefocusing on the synthesis of heparin and heparan sulfate (HS) oligosaccharide analogs.We hypothesize that N-sulfated analogs can mimic heparin/HS oligosaccharides for binding to their targetproteins and have similar bioactivities. In addition, the N-sulfated analogs with synthetically controllable N-sulfation patterns can be powerful tools to probe the important roles of individual sulfations and provide criticalinformation about individual roles of related O-sulfation in functional heparin/HS oligosaccharides. To test thishypothesis, we propose to synthesize a list of N3-modified GlcNAc or GlcA derivatives that can be used assubstrates for UDP-GlcNAc and UDP-GlcA biosynthetic enzymes and heparosan synthases for producing N3-containing oligosaccharides. The azido group can then be reduced to an amino group and followed bychemical N-sulfation to provide N-sulfated analogs of heparin/HS oligosaccharides for testing their activities.Four specific aims are 1) chemical synthesis of N-acetylglucosamine (GlcNAc) and uronic acid derivatives asmonosaccharide precursors; 2) synthesis of UDP-GlcNAc, UDP-uronic acids, and their derivatives; 3)enzymatic synthesis of heparin and heparan sulfate oligosaccharide analogs using heparosan synthases; 4)structure-activity relationship (SAR) studies using heparin/heparan sulfate-binding proteins. In addition, we willcollaborate with our colleague and long-time collaborator, Prof. Andrew Fisher, an expert structural biologistwith special expertise on protein crystal structural studies to solve the crystal structures of heparosansynthases, which are important enzymes for the assembly of heparin/HS polysaccharide structures. Theinformation learned and the products obtained will facilitate the discovery and development of newtherapeutics.\n",
      "Enter the text here that is the new abstract information for your application. This section must be nolonger than 30 lines of text.Given the various tools that were developed to study Glycosaminoglycan (GAG) mixtures(specific aims 1), studying glycan mixtures in the context of glycans present in the upper airwaysbecame an obvious extension of this work. The glycan mixtures - especially the sialylatedglycans present in the epithelial cells- provided the important reference point to these beingcritical receptors for Influenza A viruses. We had furthermore established a foundation to studythe protein-GAG interactions, using various GAG degrading enzymes over the years. Based onthe fact that many of these enzymes, and other GAG or glycan binding proteins, have poorsequence identity [this includes key sulfatases, fibroblast growth factors or influenza virushemagglutinin (HA)], we developed newer tools to study GAG-protein interactions, which werebroadly applicable to protein-glycan interactions. Newer analytical and structural tools weredeveloped under specific aims 1 and as part of specific aims 2. We developed not onlyGAG/glycan databases, but also protein structural databases to study the diversity of glycan-protein interactions. Integration of these two approaches-glycan conformation coupled withprotein structure and database-enabled us to tackle a fundamental question related to glycanspecificity of influenza A viruses, which turned out to be the ideal model system to validate ourapproach. Given extensive glycan diversity and the mixture of glycans present in the apicalepithelium, for the first time we demonstrated that glycan topology is a key determinant for humanadaptation of influenza viruses (published in Nature Biotechnology). Our prediction that the thenemerging 2009 H1N1  swine flu  virus was not efficient in transmission (published in Science2009) was further validated and observed due to poor transmission of this virus in humans(published in NEJM 2009). More recently, with the outbreak of the 2013 H7N9, we rapidlyinvestigated the receptor specificity of the H7N9 HA and published our observations (along withour predictions on H5N1) back-to-back in the journal Cell. The R37 grant application will addresskey questions related to glycan topology and HA binding using complementary analytical andstructural approaches.\n"
     ]
    }
   ],
   "source": [
    "\n",
    "for x in df.loc[df['FIRST_CHAR'].apply(str.startswith,args=['Enter the text here that is the new abstract information for your application. This section must be'])][wa].iloc[0:10]:\n",
    "    print(x)\n",
    "'Enter the text here that is the new abstract information for your application. This section must be nolonger than 30 lines of text.',\n",
    "'Enter the text here that is the new abstract information for your application. This section must be noE0longer than 30 lines of text.'\n",
    "'Enter the text here that is the new abstract information for your application. This section must be nolongor than 30 lines of text.'\n",
    "'Enter the text here that is the new abstract information for your application. This section must be nolonger than 30 lines of text.'"
   ]
  },
  {
   "cell_type": "code",
   "execution_count": null,
   "metadata": {},
   "outputs": [],
   "source": [
    "'one page and must contain a summary of the proposed activity suitable for dissemination to thepublic',"
   ]
  },
  {
   "cell_type": "code",
   "execution_count": null,
   "metadata": {},
   "outputs": [],
   "source": [
    "start_phrases=['This subproject is one of many research subprojects utilizing theresources provided by a Center grant funded by NIH/NCRR. The subproject andinvestigator (PI) may have received primary funding from another NIH source,and thus could be represented in other CRISP entries. The institution listed isfor the Center, which is not necessarily the institution for the investigator.',\n",
    "              'This subproject is one of many research subprojects utilizing the resourcesprovided by a Center grant funded by NIH/NCRR. Primary support for the subprojectand the subproject\\'s principal investigator may have been provided by other sources,including other NIH sources.  The Total Cost listed for the subproject likelyrepresents the estimated amount of Center infrastructure utilized by the subproject,not direct funding provided by the NCRR grant to the subproject or subproject staff.',\n",
    "            'The broader impact/commercial potential of this I-Corps project'\n",
    "            'The broader impact/commercial potential of this project',\n",
    "            'The broader impact/commercial potential of this PFI project',\n",
    "            'The broader impact/commercial potential of this Small Business Innovation Research (SBIR) Phase I',\n",
    "            'The broader impact/commercial potential of this Small Business Innovation Research (SBIR) Phase II',\n",
    "            'The broader impacts/commercial potential of this Small Business Innovation Research (SBIR) Phase I',\n",
    "            'The broader impact/commercial potential of this Small Business Innovation Research (SBIR)',\n",
    "            'The broader impact/commercial potential of this Small Business Technology Transfer (STTR) Phase II',\n",
    "            'The broader impact/commercial potential of this Small Business Technology Transfer (STTR) Phase I',\n",
    "            'The broader impact/commercial potential of this Small Business Technology Transfer (STTR)',\n",
    "            'The broader impact/commercial potential of this Small Business Technology Transfer Phase II',\n",
    "            'The broader impact/commercial potential of this Small Business Technology Transfer Phase I',\n",
    "            'The broader impact/commercial potential of this Small Business Technology Transfer',\n",
    "            'The broader impact/commercial potential of this Small Business Innovation Research Phase II',\n",
    "            'The broader impact/commercial potential of this Small Business Innovation Research Phase I',\n",
    "            'The broader impact/commercial potential of this Small Business Innovation Research',\n",
    "            'Enter the text here that is the new abstract information for your application. This section must be',\n",
    "            'one page and must contain a summary of the proposed activity suitable for dissemination to thepublic',\n",
    "            'This award is funded under the American Recovery and Reinvestment Act of 2009 (Public Law 111-5).',\n",
    "            'This award is made as part of the FY 2018 Mathematical Sciences Postdoctoral Research Fellowships',\n",
    "            'This application addresses broad Challenge Area'\n",
    "              ]"
   ]
  },
  {
   "cell_type": "code",
   "execution_count": null,
   "metadata": {},
   "outputs": [],
   "source": [
    "#2.1 Pull out first sentence\n",
    "#Not done yet"
   ]
  },
  {
   "cell_type": "code",
   "execution_count": 7,
   "metadata": {},
   "outputs": [],
   "source": [
    "#2.1--phrases noticed through investigation of starting characters, as well as those identified in R Analysis\n",
    "\n",
    "start_phrases=['****TECHNICAL ABSTRACT****','****Technical Abstract****',\n",
    "               '****Non Technical Abstract****','*** Non- Technical Abstract ***','**Non-Technical Abstract**',\n",
    "          '*****NON-TECHNICAL ABSTRACT*****','***** NON-TECHNICAL ABSTRACT *****'\n",
    "          '****NONTECHNICAL ABSTRACT****','****Non-Technical Abstract****','*Non-technical Abstract*',\n",
    "               '*****NON-TECHNICAL ABSTRACT*****','****NON-TECHNICAL ABSTRACT****',\n",
    "               '***NON-TECHNICAL ABSTRACT***','****Nontechnical abstract****'\n",
    "               'DESCRIPTION (provided by applicant):','DESCRIPTION (provided by applicant)',\n",
    "               'Project Summary/Abstract','PROJECT SUMMARY/ABSTRACT','ABSTRACT',\n",
    "               'PROJECT SUMMARY','Project Summary','/ASBTRACT','/ Proposal','/ SUMMARY','/ DESCRIPTION','/PROJECT SUMMARY',\n",
    "               '/ PROJECT SUMMARY','/Abstract:','/ABSTRACT:','/ABSTRACT','/ ABSTRACT:',\n",
    "               '/ ABSTRACT','/Abstract','/ Abstract','/Description','/SUMMARY','/PROJECT SUMMARY',\n",
    "              '/ RESEARCH SUMMARY','/PROJECT SUMMARY','/abstract','/Proposal Abstract',\n",
    "               '/DESCRIPTION','/PROJECT DESCRIPTION','/PROJECT SUMMARY','/NARRATIVE','/RESEARCH ABSTRACT','/ PROJECT DESCRIPTION']\n",
    "df[wa]=df[wa].apply(str.lstrip,args=['?-_^. :,!;¿|]#%>&'])\n",
    "df.drop(df[df[wa].apply(len)==0].index[0],axis=0,inplace=True)\n",
    "#Remove found phrases\n",
    "for phrase in start_phrases:\n",
    "    df[wa]=df[wa].apply(remove_phrase,args=[phrase,'Start']).apply(str.lstrip,args=[' :'])\n",
    "\n",
    "df['Start Char']=df[wa].apply(lambda x: x[0])"
   ]
  },
  {
   "cell_type": "code",
   "execution_count": 8,
   "metadata": {},
   "outputs": [
    {
     "ename": "IndexError",
     "evalue": "index 0 is out of bounds for axis 0 with size 0",
     "output_type": "error",
     "traceback": [
      "\u001b[0;31m---------------------------------------------------------------------------\u001b[0m",
      "\u001b[0;31mIndexError\u001b[0m                                Traceback (most recent call last)",
      "\u001b[0;32m<ipython-input-8-4442c80486f6>\u001b[0m in \u001b[0;36m<module>\u001b[0;34m()\u001b[0m\n\u001b[1;32m      4\u001b[0m \u001b[0mdf\u001b[0m\u001b[0;34m[\u001b[0m\u001b[0mwa\u001b[0m\u001b[0;34m]\u001b[0m\u001b[0;34m=\u001b[0m\u001b[0mdf\u001b[0m\u001b[0;34m[\u001b[0m\u001b[0mwa\u001b[0m\u001b[0;34m]\u001b[0m\u001b[0;34m.\u001b[0m\u001b[0mapply\u001b[0m\u001b[0;34m(\u001b[0m\u001b[0mstr\u001b[0m\u001b[0;34m.\u001b[0m\u001b[0mlstrip\u001b[0m\u001b[0;34m,\u001b[0m\u001b[0margs\u001b[0m\u001b[0;34m=\u001b[0m\u001b[0;34m[\u001b[0m\u001b[0;34m'?-_^. :,!;¿|]#%>&'\u001b[0m\u001b[0;34m]\u001b[0m\u001b[0;34m)\u001b[0m\u001b[0;34m\u001b[0m\u001b[0m\n\u001b[1;32m      5\u001b[0m \u001b[0;31m#Drop those that are now length -\u001b[0m\u001b[0;34m\u001b[0m\u001b[0;34m\u001b[0m\u001b[0m\n\u001b[0;32m----> 6\u001b[0;31m \u001b[0mdf\u001b[0m\u001b[0;34m.\u001b[0m\u001b[0mdrop\u001b[0m\u001b[0;34m(\u001b[0m\u001b[0mdf\u001b[0m\u001b[0;34m[\u001b[0m\u001b[0mdf\u001b[0m\u001b[0;34m[\u001b[0m\u001b[0mwa\u001b[0m\u001b[0;34m]\u001b[0m\u001b[0;34m.\u001b[0m\u001b[0mapply\u001b[0m\u001b[0;34m(\u001b[0m\u001b[0mlen\u001b[0m\u001b[0;34m)\u001b[0m\u001b[0;34m==\u001b[0m\u001b[0;36m0\u001b[0m\u001b[0;34m]\u001b[0m\u001b[0;34m.\u001b[0m\u001b[0mindex\u001b[0m\u001b[0;34m[\u001b[0m\u001b[0;36m0\u001b[0m\u001b[0;34m]\u001b[0m\u001b[0;34m,\u001b[0m\u001b[0maxis\u001b[0m\u001b[0;34m=\u001b[0m\u001b[0;36m0\u001b[0m\u001b[0;34m,\u001b[0m\u001b[0minplace\u001b[0m\u001b[0;34m=\u001b[0m\u001b[0;32mTrue\u001b[0m\u001b[0;34m)\u001b[0m\u001b[0;34m\u001b[0m\u001b[0m\n\u001b[0m\u001b[1;32m      7\u001b[0m \u001b[0;31m#Define new starting char\u001b[0m\u001b[0;34m\u001b[0m\u001b[0;34m\u001b[0m\u001b[0m\n\u001b[1;32m      8\u001b[0m \u001b[0mdf\u001b[0m\u001b[0;34m[\u001b[0m\u001b[0;34m'Start Char'\u001b[0m\u001b[0;34m]\u001b[0m\u001b[0;34m=\u001b[0m\u001b[0mdf\u001b[0m\u001b[0;34m[\u001b[0m\u001b[0mwa\u001b[0m\u001b[0;34m]\u001b[0m\u001b[0;34m.\u001b[0m\u001b[0mapply\u001b[0m\u001b[0;34m(\u001b[0m\u001b[0;32mlambda\u001b[0m \u001b[0mx\u001b[0m\u001b[0;34m:\u001b[0m\u001b[0mx\u001b[0m\u001b[0;34m[\u001b[0m\u001b[0;36m0\u001b[0m\u001b[0;34m]\u001b[0m\u001b[0;34m)\u001b[0m\u001b[0;34m\u001b[0m\u001b[0m\n",
      "\u001b[0;32m/apps/software/standard/core/anaconda/5.2.0-py3.6/lib/python3.6/site-packages/pandas/core/indexes/base.py\u001b[0m in \u001b[0;36m__getitem__\u001b[0;34m(self, key)\u001b[0m\n\u001b[1;32m   2082\u001b[0m \u001b[0;34m\u001b[0m\u001b[0m\n\u001b[1;32m   2083\u001b[0m         \u001b[0;32mif\u001b[0m \u001b[0mis_scalar\u001b[0m\u001b[0;34m(\u001b[0m\u001b[0mkey\u001b[0m\u001b[0;34m)\u001b[0m\u001b[0;34m:\u001b[0m\u001b[0;34m\u001b[0m\u001b[0m\n\u001b[0;32m-> 2084\u001b[0;31m             \u001b[0;32mreturn\u001b[0m \u001b[0mgetitem\u001b[0m\u001b[0;34m(\u001b[0m\u001b[0mkey\u001b[0m\u001b[0;34m)\u001b[0m\u001b[0;34m\u001b[0m\u001b[0m\n\u001b[0m\u001b[1;32m   2085\u001b[0m \u001b[0;34m\u001b[0m\u001b[0m\n\u001b[1;32m   2086\u001b[0m         \u001b[0;32mif\u001b[0m \u001b[0misinstance\u001b[0m\u001b[0;34m(\u001b[0m\u001b[0mkey\u001b[0m\u001b[0;34m,\u001b[0m \u001b[0mslice\u001b[0m\u001b[0;34m)\u001b[0m\u001b[0;34m:\u001b[0m\u001b[0;34m\u001b[0m\u001b[0m\n",
      "\u001b[0;31mIndexError\u001b[0m: index 0 is out of bounds for axis 0 with size 0"
     ]
    }
   ],
   "source": [
    "#2.2\n",
    "\n",
    "#Pull out starting chars that appear to just be formatting errors\n",
    "df[wa]=df[wa].apply(str.lstrip,args=['?-_^. :,!;¿|]#%>&'])\n",
    "#Drop those that are now length -\n",
    "df.drop(df[df[wa].apply(len)==0].index[0],axis=0,inplace=True)\n",
    "#Define new starting char\n",
    "df['Start Char']=df[wa].apply(lambda x:x[0])\n"
   ]
  },
  {
   "cell_type": "code",
   "execution_count": null,
   "metadata": {},
   "outputs": [],
   "source": [
    "#2.2\n",
    "df['Start Char']=df[wa].apply(lambda x: x[0])\n",
    "vc=df['Start Char'].value_counts()\n",
    "print(vc.loc[[x for x in vc.index if not x in alpha+'0123456789[(']])\n",
    "bad_starts=[x for x in list(vc.index) if not x in alpha+'0123456789[({¿\\'\\\"']\n",
    "df.loc[df['Start Char'].isin(bad_starts),wa]"
   ]
  },
  {
   "cell_type": "code",
   "execution_count": null,
   "metadata": {},
   "outputs": [],
   "source": [
    "#2.2 Check abstracts that start with a non-alphabetical character\n",
    "\n",
    "#Identify starting characters\n",
    "df['Start Char']=df[wa].apply(lambda x:x[0])\n",
    "df['Start Char'].value_counts()"
   ]
  },
  {
   "cell_type": "code",
   "execution_count": null,
   "metadata": {},
   "outputs": [],
   "source": [
    "#2.2 Starting with first letter, do we see things are often completely surrounded by some sort of punctuation, in which case we can \n",
    "#make sure there isn't some starting clause we're missing\n",
    "df.loc[df['Start Char']=='-','LAST_CHAR'].value_counts() #Again--not starting and ending with '-'\n",
    "#Although * is a common start, the whole thing isn't surrounded by *s\n",
    "df.loc[df['Start Char']=='*','LAST_CHAR'].value_counts()"
   ]
  },
  {
   "cell_type": "code",
   "execution_count": null,
   "metadata": {},
   "outputs": [],
   "source": [
    "#INVESTIGATING ENDINGS OF ABSTRACTS FOR END TAGS AND TRUNCATION\n",
    "#1.1Identify last character. If it's not a sentence-ending punctuation, manual investigation. \n",
    "#1.2Pull out last sentences and clauses to check for any end-based tags\n",
    "#1.3Check out for truncation."
   ]
  },
  {
   "cell_type": "code",
   "execution_count": 11,
   "metadata": {},
   "outputs": [
    {
     "data": {
      "text/plain": [
       ")    1403\n",
       "]     493\n",
       "/     471\n",
       ",     452\n",
       ":     403\n",
       "*     262\n",
       ";     127\n",
       "-     110\n",
       "(      81\n",
       "'      66\n",
       "_      24\n",
       "\\      23\n",
       "^      17\n",
       "=      17\n",
       "�      13\n",
       "%      11\n",
       "}       9\n",
       "&       7\n",
       "+       4\n",
       "|       3\n",
       ">       3\n",
       "`       3\n",
       "#       3\n",
       "$       2\n",
       "[       2\n",
       "<       2\n",
       "{       1\n",
       "~       1\n",
       "Name: LAST_CHAR, dtype: int64"
      ]
     },
     "execution_count": 11,
     "metadata": {},
     "output_type": "execute_result"
    }
   ],
   "source": [
    "#1.1 Identify last character. If it's not a sentence-ending punctuation, manual investigation. \n",
    "\n",
    "punctuation=['!','?','.']\n",
    "\n",
    "#Three types of bad ends:\n",
    "#Numbers\n",
    "numbers=range(10)\n",
    "#Alphabet\n",
    "alpha=ascii_letters\n",
    "#Other\n",
    "bad_ends=['#', '$', '%', '&', \"'\", '(', ')', '*', '+', ',', '-', '/',':', ';', '<', '=', '>', '[', '\\\\', ']', '^', '_', '`','{', '|', '}', '~', '�']\n",
    "\n",
    "\n",
    "#Dealing with \"other\" last-chars\n",
    "df.loc[df['LAST_CHAR'].isin(bad_ends),'LAST_CHAR'].value_counts()"
   ]
  },
  {
   "cell_type": "code",
   "execution_count": null,
   "metadata": {},
   "outputs": [],
   "source": [
    "#1.1 Look at ending character for characters that are non-ending punctuation--ignoring numbers and alpha for now, which are likely cut off\n",
    "\n",
    "for x in ['}','=','~','{','[','$','<','#','>','`']:#'-',\n",
    "    mini=df.loc[df['LAST_CHAR']==x]\n",
    "    print(len(mini))\n",
    "    for y in mini.iterrows():\n",
    "        print(y[1]['ABSTRACT'])\n",
    "\n",
    "\n",
    "truncation_last_chars=['&','(',':','<','>','[','{','|','\\\\'] #\\ seems like a sign of actual cut off by system, not just characters stopping\n",
    "\n",
    "\"\"\"Chars to investigate for contained clauses\n",
    ") #Often times these contain things like the center that submitted, e.g. \"(Lucas Annual Report and ISMRM 2011 Abstracts)\"\n",
    "] #Very often related to NIH with format '[Corresponds to KewalRamani Project 2 in the October 2011 site visit report of the HIV Drug Resistance Program]  ', plus also :'[summary truncated at 7800 characters]'\n",
    "=#Most of the time its a string for =========SECTION END======, which also usually starts with exceed the space provided\n",
    "\"\"\"\n",
    "\n",
    "\"\"\"CHars to investigate\n",
    "# Looks like a formatting error, no contained clauses, fine to keep\n",
    "$ Looks like some sort of formatting  error, fine to keep\n",
    "% #Sometimes grants end with % effort--no clear pattern\n",
    "': #Often occurs at the end following full paragraph, but not always--no clear pattern\n",
    "): is very often at the end of paragraphs of full sentences, so that's likely okay. #However, unlike the ***, ')' is sometimes joined by a '(' forming a full sentence, so it's not wise to apply a removal at all here except key phrases found in EDA\n",
    "Don'y need to remove, would mess up structure in some cases and not clear cut whatthose would be\n",
    "\n",
    "*:  *** isn't a surrounding tag, it tends to just be stand alone at end, when it does surround it, just surrounds \"technical abstract\" or \"figures wont reproduce here see attachment\". Can be removed\n",
    "-#Sometimes truncations, usually strings of ____, which will be removed in post processing. Not indicative of pattern\n",
    "< #All are truncated\n",
    "> #Mostly truncated\n",
    "+ #All truncated\n",
    "/ websites, usually.\n",
    "; (esp preceded by numbers?)\n",
    "= #Most of the time its a string for =========SECTION END======, which also usually starts with exceed the space provided\n",
    "](and what proceeds should be pulled out\n",
    "^ look at individually\n",
    "_ #Sometimes truncations, usually strings of ____, which will be removed in post processing. Not indicative of pattern\n",
    "`#Not truncated\n",
    "~ ##Looks like just a formatting error, fine to keep\n",
    "} #No particular pattern, besides somtimes PIs using this to break up the text. If proceeded by valid punctuation, fine.\n",
    "�#Truncation not clear--if what proceeds this char or series of this char is not punctuation or bad char, this is likely cut off.\n",
    "\"\"\""
   ]
  },
  {
   "cell_type": "code",
   "execution_count": null,
   "metadata": {},
   "outputs": [],
   "source": [
    "#1.1 Examine last character\n",
    "# An abstract can be considered NOT cut-off is the final punctuation mark is followed only by non-alphanumeric characters\n",
    "df"
   ]
  },
  {
   "cell_type": "code",
   "execution_count": null,
   "metadata": {},
   "outputs": [],
   "source": [
    "#1.1 Examine last character\n",
    "#Look at truncation for items that end in non-punctuation"
   ]
  },
  {
   "cell_type": "code",
   "execution_count": 9,
   "metadata": {},
   "outputs": [
    {
     "name": "stdout",
     "output_type": "stream",
     "text": [
      "End phrases to remove: \n",
      "(End of Abstract)\n",
      "End of Abstract\n",
      "(Abstract end)(END OF ABSTRACT)\n",
      "(End of abstract.)\n",
      "(Abstract End)\n",
      "(End 0f Abstract)\n",
      "(End of Abstract.)\n",
      "(End of Absract)\n",
      "(Abstract below)\n",
      "(End of Reviewers' Comment)\n",
      "(End Abstract)\n",
      "(End of abstract)\n",
      "(End of abstract)\n",
      "PERFORMANCE SITE ========================================Section End===========================================KEY PERSONNEL ========================================Section End===========================================\n"
     ]
    }
   ],
   "source": [
    "#1.2\n",
    "#Ending phrases noticed through manual investigation of last character\n",
    "print('End phrases to remove: ')\n",
    "for phrase in ['(End of Abstract)',\"End of Abstract\", '(Abstract end)' \"(END OF ABSTRACT)\", '(End of abstract.)','(Abstract End)','(End 0f Abstract)','(End of Abstract.)','(End of Absract)',\n",
    "               '(Abstract below)','(End of Reviewers\\' Comment)','(End Abstract)','(End of abstract)','(End of abstract)',\n",
    "               'PERFORMANCE SITE ========================================Section End===========================================',\n",
    "                'KEY PERSONNEL ========================================Section End===========================================']:   \n",
    "    print(phrase)\n",
    "    df[wa]=df[wa].apply(remove_phrase,args=[phrase,'End'])\n",
    "df['LAST_CHAR']=df[wa].apply(lambda x: x[-1])"
   ]
  },
  {
   "cell_type": "code",
   "execution_count": 12,
   "metadata": {},
   "outputs": [
    {
     "name": "stderr",
     "output_type": "stream",
     "text": [
      "/apps/software/standard/core/anaconda/5.2.0-py3.6/lib/python3.6/site-packages/ipykernel_launcher.py:6: SettingWithCopyWarning: \n",
      "A value is trying to be set on a copy of a slice from a DataFrame.\n",
      "Try using .loc[row_indexer,col_indexer] = value instead\n",
      "\n",
      "See the caveats in the documentation: http://pandas.pydata.org/pandas-docs/stable/indexing.html#indexing-view-versus-copy\n",
      "  \n"
     ]
    }
   ],
   "source": [
    "#y='*' #Generally if last char is '*', it comes in as '***' following a complete sentence, so unlikely to be cut-of'\n",
    "\n",
    "#Fixes '***' if that makes the last character a punctuation ending mark, otherwise should remove\n",
    "y='*' \n",
    "entries_ending_right=df.loc[df['LAST_CHAR']==y]\n",
    "entries_ending_right['new_last_char_possible']=entries_ending_right.apply(lambda x:remove_phrase(x[wa],'***',loc='End')[-1],axis=1)\n",
    "entries_to_fix=list(entries_ending_right[entries_ending_right['new_last_char_possible'].isin(punctuation)]['PROJECT_ID'])\n",
    "\n",
    "df[wa]=df.apply(lambda x: remove_phrase(x[wa],'***','End') if x['PROJECT_ID'] in entries_to_fix else x[wa],axis=1)\n",
    "df['LAST_CHAR']=df[wa].apply(lambda x: x[-1])"
   ]
  },
  {
   "cell_type": "code",
   "execution_count": null,
   "metadata": {},
   "outputs": [],
   "source": [
    "#1.3 Remove any words esp at end, if they are entirely composed of non alpha numeric non punctuation characters\n",
    "#Don't need to do this, because will not show up in model. Only an issue if lots of common last phrases that are masked by some punctuation."
   ]
  },
  {
   "cell_type": "code",
   "execution_count": null,
   "metadata": {},
   "outputs": [],
   "source": [
    "#Clear signs of truncation\n",
    "trunc_ends=['[summary truncated at 7800 characters]']\n",
    "trunc_starts=['EXCEED THE SPACE PROVIDED']"
   ]
  },
  {
   "cell_type": "code",
   "execution_count": 32,
   "metadata": {},
   "outputs": [
    {
     "data": {
      "text/plain": [
       "2008    94718\n",
       "2012    63940\n",
       "2009    53312\n",
       "2013    53237\n",
       "2010    46261\n",
       "2014    43172\n",
       "2011    42675\n",
       "2015    42099\n",
       "2016    39550\n",
       "2018    35333\n",
       "2017    34506\n",
       "Name: FY, dtype: int64"
      ]
     },
     "execution_count": 32,
     "metadata": {},
     "output_type": "execute_result"
    }
   ],
   "source": [
    "df['FY'].value_counts()"
   ]
  },
  {
   "cell_type": "code",
   "execution_count": 34,
   "metadata": {},
   "outputs": [],
   "source": [
    "df[df['FY']==2008].to_csv('FedReporterAbstracts2008InProgressCleaning.csv')"
   ]
  },
  {
   "cell_type": "code",
   "execution_count": 13,
   "metadata": {},
   "outputs": [],
   "source": [
    "df.to_csv('FRAbstractsInProgressCleaning.csv')"
   ]
  },
  {
   "cell_type": "code",
   "execution_count": 36,
   "metadata": {},
   "outputs": [],
   "source": [
    "mini=df.loc[df['FY']==2008]"
   ]
  },
  {
   "cell_type": "code",
   "execution_count": 39,
   "metadata": {},
   "outputs": [
    {
     "data": {
      "text/plain": [
       "Ipsilateral increased oxygen extraction fraction (OEF) measured by PET is a powerful independent risk factor for subsequent stroke in patients with symptomatic carotid occlusion. The St. Louis Carotid Occlusion Study found that the relative risk conferred by increases OEF was 7.3 (95% Cl 1.6 - 33.4) for ipsilateral ischemic stroke corresponding to two year rates for ipsilateral stroke of 5.3% in 42 patients with normal OEF and 26.5% in 39 patients with increased OEF (p=.004). In patients with hemispheric symptoms within 120 days, the two year ipsilateral stroke rates were 12% in patients with normal OEF and 40% in patients with increased OEF. Previous PET studies have demonstrated that surgical anastomosis of the superficial temporal artery to the middle cerebral artery (STA-MCA) can restore OEF to normal. The Carotid Occlusion Surgery Study (COSS) will test the hypothesis that STA-MCA surgical anastomosis when added to best medical therapy can reduce by 40%, despite perioperative stroke and death, subsequent ipsilateral ischemic stroke (fatal and non-fatal) at two years in patients with recent (<120 days) symptomatic internal carotid artery occlusion and increased OEF. Clinically eligible patients with unilateral carotid artery occlusion demonstrated by any vascular imaging will be asked to consent to PET and treatment randomization if PET shows increased OEF. If necessary, consent for a supplemental arteriogram to confirm occlusion or demonstrate that extracranial and intracranial vessels will be sought as well. Those who agree and meet both arteriographic and PET criteria will be randomized 1:1 to undergo STA-MCA bypass surgery followed by medical management or medical management alone. All randomized patients will be followed at three month intervals for two years. The primary endpoint in the surgical group is the combination of the following: (1) 30 day post-operative (surgical group) or post-randomization (non-surgical group) occurrence of all stroke and death and (2) the occurrence of ipsilateral ischemic stroke within two years of randomization. Adjusting for anticipated 2 year mortality, 372 patients (186 in each group) will provide 90% power to detect the anticipated difference (40% vs. 24.2%). 91 have been randomized. Assuming 25-30% of PET scans will demonstrate increased OEF, this will require enrolling a total of 1400 clinically eligible subjects for PET. This proposal covers the second 5 years of this trial.                                                                                                                                                                                                                                                                                                                                                                                                                                                                                                                                                                                                                                                                                                                                                                                                                                                                                                                                                                                                                                                                                                                                                                                                                                                                                                                                                                                                                                                                                                                                                                                                                                                                                                                                                                                                                                                                                                                                                                                                                                                                                                                                                                                                                                                                                                                                                                                                                                                                                                                                                                                                                                                                                                                                                                                                                                                                                                                                                                                                                                2\n",
       "Sphincter of Oddi dysfunction (SOD) encompasses a spectrum of disorders in which dysfunction of the biliary and/or pancreatic sphincters result in abdominal pain. The diagnosis is often considered in patients with biliary-type pain who have previously undergone cholecystectomy. The Evaluating Predictors & Interventions in Sphincter of Oddi Dysfunction (EPISOD) trial is a prospective, double-blind, randomized, sham-controlled multi-center trial with a maximum of 214 randomized subjects who have received a prior cholecystectomy and are diagnosed with the clinical syndrome of SOD (as defined by the Rome III criteria). Subjects will be selected with severe pain-related disability (Grade 3 or 4 on the RAPID instrument), with no objective signs of biliary or pancreatic disease (i.e. SOD type III). The overall goal is to assess the value of endoscopic sphincterotomy as a treatment for adult subjects categorized as SOD III suffering from pain after cholecystectomy. Success is defined as Grade 1 pain-related disability (little or no disability during a 90-day period) on the RAPID at 9 and 12 months post-procedure. Subjects and study team members will be blind to treatment assignment. A 2:1 randomization allocation in favor of sphincterotomy and stratified by results of sphincter manometry (SOM - abnormal/normal) and center will be used. The following secondary aims will be assessed: 1) evaluate the relationship between the results of SOM (abnormal/normal), and the primary outcome (success/failure); 2) in the sub group of patients with manometrically proven PSH, evaluate the success rate of subjects who receive biliary sphincterotomy alone versus subjects who receive dual sphincterotomy; 3) evaluate the effects of pre-specified clinical prognostic factors on the primary outcome; 4) evaluate anxiety and depression scores over time and their relation to study outcomes; and 5) evaluate the economic impact of SOD III and endoscopic sphincterotomy in patients with SOD III. In addition, for a subset of eligible patients who decline randomization, a careful follow-up study (EPISOD2) of standard of care treatment will be conducted to assist in the interpretation and assessment of generalizability of the EPISOD primary aim as well as several of the secondary aims.                                                                                                                                                                                                                                                                                                                                                                                                                                                                                                                                                                                                                                                                                                                                                                                                                                                                                                                                                                                                                                                                                                                                                                                                                                                                                                                                                                                                                                                                                                                                                                                                                                                                                                                                                                                                                                                                                                                                                                                                                                                                                                                                                                                                                                                                                                                                                                                                                                                                                                                                                                                                                                                                                                                                                                                                                                                                                                                                                                                                                                                                                                                                                                                                                     2\n",
       "Health-relatedness and Long-term Objectives: Atherosclerotic renal artery stenosis is a common problem for which there is no clear consensus on diagnosis or therapy. There likely exists a progression wherein renal ischemia leads to neuroendocdne activation, hypertension, and renal insufficiency potentially resulting in acceleration of therosclerosis, further renal dysfunction, myocardial infarction, stroke and death. The current proposal tests whether revascularization of a stenotic renal artery plus optimum medical therapy is associated with improved clinical outcomes when compared with optimum medical therapy alone.   Specific Aims, Design and Methods: Cardiovascular Outcomes in Renal Atherosclerotic Lesions (CORAL) is a randomized clinical trial that will contrast the effect of optimum medical therapy alone to stenting with optimum medical therapy, on a composite cardiovascular and renal endpoint: cardiovascular or renal death, myocardial infarction, hospitalization for congestive heart failure, stroke, doubling of serum creatinine level, and need for renal replacement therapy. This endpoint will be adjudicated by a clinical events committee masked to treatment assignment. The secondary endpoints 1) evaluate the mechanisms linked to clinical events; 2) describe differential effectiveness in critical end-organs; 3) determine the value of stenting from the patient and the health policy perspectives, measured as quality of life and cost effectiveness; and 4) evaluate for clinically relevant differences in treatment effectiveness within the primary endpoint. The primary entry criteria are an atherosclerotic renal stenosis >60% with a 20 mmHg systolic pressure gradient and systolic hypertension >155 mmHg on 2 or more anti-hypertensive medications. A slight predominance of women is expected, and high priority will be placed on minority recruitment. Approximately 2200 patients will undergo a baseline evaluation with randomization occurring in 1080. The study has 90% power to detect a 28% reduction in primary endpoint hazard rate. This R01 from the Clinical Coordinating Center describes the main study hypotheses and overall trial conduct.                                                                                                                                                                                                                                                                                                                                                                                                                                                                                                                                                                                                                                                                                                                                                                                                                                                                                                                                                                                                                                                                                                                                                                                                                                                                                                                                                                                                                                                                                                                                                                                                                                                                                                                                                                                                                                                                                                                                                                                                                                                                                                                                                                                                                                                                                                                                                                                                                                                                                                                                                                                                                                                                                                                                                                                                                                                                                                                                                                                                                                                                                                                                                                                                                                                                                                                                       2\n",
       "The University of Pennsylvania, in response to RFA-HL-06-004, has assembled an interdisciplinary team of faculty from the School of Engineering and Applied Sciences and the School of Medicine with expertise in experimental and computational hemodynamics, bond mechanics and biorheology, transport physics, platelet biology, coagulation and protease biochemistry, continuum/stochastic simulation, inverse problems, and knockout mice for thrombosis research. The Cluster Team will deploy integrative and hierarchical computational models and experimental studies to predict spatial-temporal processes in mouse and human blood under hemodynamic conditions. Specific Aims are defined for 3 Cluster projects: Specific Aim 1 (Project I: D. A. Hammer, Collaborating PI) will focus on platelet hydrodynamics and receptor bonding and signaling (GPIb/vWF and GPVI/collagen) with outside-in/inside-out signaling leading to alpha2beta1 and alphallb-betaS activation. Platelet Adhesive Dynamics simulation of platelet capture, rolling, activation, arrest, and embolism as a function of fluid shear rate will be compared to experiment using parallel-plate flow chambers. Specific Aim 2 (Project II: S. L. Diamond, Lead PI) will focus on simulation and experiment of platelet deposition on a reactive surface in the presence of coagulation under flow conditions. Kinetic Monte Carlo/Continuum simulation of agonist activation, platelet deposition/fragmentation, granule release, and thrombin generation will be compared to experiments run in well plates, cone-and-plate viscometer, and parallel-plate flow cells. Specific Aim 3 (Project III: L. F. Brass, Collaborating PI) will focus on thrombin receptor function and platelet- platelet interactions within formed aggregates relating to signaling, clot stability, and retraction. Both human blood and normal and knockout mouse blood will be used for in situ detection of platelet function in formed thrombi and testing of intracellular signaling models for platelets under realistic hemodynamic conditions. Lay Statement: Blood is ideal for Systems Biology research since it is easily obtained from donors or patients, amenable to high throughput liquid handling experiments, and clinically relevant. Better elucidation and quantitative simulation of blood reactions and platelet signaling pathways under hemodynamic conditions are directed at clinical needs in thrombosis risk assessment, anti-coagulation therapy, platelet targeted therapies, and stroke research.                                                                                                                                                                                                                                                                                                                                                                                                                                                                                                                                                                                                                                                                                                                                                                                                                                                                                                                                                                                                                                                                                                                                                                                                                                                                                                                                                                                                                                                                                                                                                                                                                                                                                                                                                                                                                                                                                                                                                                                                                                                                                                                                                                                                                                                                                                                                                                                                                                                                                                                                                                                                                                                                                                                                                                                                                                                                                                                                                                                              2\n",
       "The Internet is plagued by security problems including spam, threatening its legitimate role as the engine of growth in the new millennium. While technology makes admirable progress against cyber-security problems, the problem is not one of technology alone. Cyber security is part of a framework that encompasses technological, economic and social issues. The availability of technological solutions needs to be supplemented by service providers accepting responsibility for deploying technologies efficiently. Deployment of solutions and assignment of responsibility today tend to focus on a network provider's accountability to its own customers. In the decentralized Internet, allocation of accountability for potential impact on a remote network is important. This research seeks to direct investments to minimize impact on destination networks by efficient allocation of incentives. Security threats render the Internet a risky environment, and insurance mechanisms can seek to enhance productive and secure use of the Internet by risk management.  This project uses game theoretic models to study allocation of incentives among mail service providers to reduce global incidence of spam. This project will develop incentive and insurance mechanisms with the provision for certifying providers who voluntarily accept responsibility for damage to rest of the network, conduct empirical studies of the patterns of spam observed on Internet today for refining the analytical model, and experimentally test and validate the mechanisms and model. This research seeks to start an evolution of the Internet into an accountable and well-organized environment                                                                                                                                                                                                                                                                                                                                                                                                                                                                                                                                                                                                                                                                                                                                                                                                                                                                                                                                                                                                                                                                                                                                                                                                                                                                                                                                                                                                                                                                                                                                                                                                                                                                                                                                                                                                                                                                                                                                                                                                                                                                                                                                                                                                                                                                                                                                                                                                                                                                                                                                                                                                                                                                                                                                                                                                                                                                                                                                                                                                                                                                                                                                                                                                                                                                                                                                                                                                                                                                                                                                                                                                                                                                                                                                                                                                                                                                           2\n",
       "Angiogenesis is defined as the growth of blood vessels from preexisting microvasculature. Therapeutic angiogenesis seeks to employ this phenomenon to treat patients with inadequate tissue perfusion by inducing neovascular growth. The goals of this project are: to develop anatomically-, biophysically-, and physiologically-detailed integrative multi-scale computational models of angiogenesis in normal and diseased skeletal muscle; to use highly synergistic and interactive computational and experimental approaches to understand physiologic and pathologic adaptations in mouse and human muscle; and to design improved and novel human therapeutics. Specifically, the experimentally-validated computational models will be used to understand, design and optimize therapies for human peripheral arterial obstructive disease (PAOD), a major cause of amputation and death. Currently there are no medical therapies available for PAOD that have the ability to increase perfusion and correct the principal abnormality of impaired blood flow. The vascular endothelial growth factor (VEGF) family of ligands and receptors will serve as the core focus of this project. To synthesize computational and experimental approaches, a collaboration has been established between computational biologists/bioengineers from Johns Hopkins University and basic/translational scientists from Duke University School of Medicine. Experimental data will be obtained from tissues of the normal and diabetic mouse and human with and without PAOD and the results will be utilized in multi-scale computational models, spanning from the molecule, to the tissue, to the organism level. The iteration of computational and experimental approaches will permit unparalleled investigation in the highly significant field of angiogenesis. This inter-disciplinary approach will have an immediate impact on fields that range from biology, to cell physiology, through human health and disease. The relevance of the research to public health would go beyond the applications to peripheral arterial obstructive disease, since over 70 diseases are presently identified as angiogenesis-dependent, including ischemic heart disease, cancer, macular degeneration, rheumatoid arthritis, obesity, and neurodegenerative diseases.                                                                                                                                                                                                                                                                                                                                                                                                                                                                                                                                                                                                                                                                                                                                                                                                                                                                                                                                                                                                                                                                                                                                                                                                                                                                                                                                                                                                                                                                                                                                                                                                                                                                                                                                                                                                                                                                                                                                                                                                                                                                                                                                                                                                                                                                                                                                                                                                                                                                                                                                                                                                                                                                                                                                                                                                                                                                                                                                                                                                                                                                                                                                                                                                                            2\n",
       "Vascular disease defined as disorders of the arteries, veins, lymphatics and microcirculation is the most common cause of morbidity and mortalitiy in our society. By virtue of its scope and complexity, the care of patients with vascular disease has been fragmentary and often incomplete. In contrast, Vascular Medicine proposes to provide comprehensive evaluation and coordinate comprehensive treatment for all vascular disease. Unfortunately, the number of Vascular Medicine specialists required to meet this healthcare imperative is currently inadequate. An infrastructure of academic Vascular Medicine specialists is required to meet this deficiency. In order to provide specialists in Vascular Medicine with research skills and clinical knowledge to assume academic leadership in the field the applicant proposes: 1. To create an effective and sustainable post-graduate program that will provide didactic clinical research training and provide comprehensive clinical training in vascular disease through development of: a. A multidisciplinary research core curriculum in vascular disease providing didactic training in research methodologies and statistical methods to design and conduct independent clinical vascular research; b. A multidisciplinary clinical core curriculum providing comprehensive evaluation, coordinated management, and longitudinal care of vascular disease. To ensure the successful synthesis of research and clinical training, the curriculum will be constructed within the famework of a mentoring team that will combine a faculty member from each core. The importance of this program is that it will serve as the training prototype for Vascular Medicine. Implementation and replication of this program will provide the future academic leaders in Vascular Medicine who will define the field as a distinct discipline. (End of Abstract)                                                                                                                                                                                                                                                                                                                                                                                                                                                                                                                                                                                                                                                                                                                                                                                                                                                                                                                                                                                                                                                                                                                                                                                                                                                                                                                                                                                                                                                                                                                                                                                                                                                                                                                                                                                                                                                                                                                                                                                                                                                                                                                                                                                                                                                                                                                                                                                                                                                                                                                                                                                                                                                                                                                                                                                                                                                                                                                                                                                                                                                                                                                                                                                                                                                                                                                                                                                                                                                                                                                                                                                                                                                               2\n",
       "The University of Mississippi Medical Center (the Research Intensive Medical Center) and Jackson-Hinds Comprehensive Health Center (the Minority Healthcare Serving System) propose to address cardiovascular health disparities among African Americans through establishment of its HEAT Partnership.  HEAT is an acronym for Hypertension Education and Treatment.  The HEAT Partnership is organized into four cores.  The administrative core includes the principal investigators from both the RIMC and the MSS as well as the core directors and co-directors.    Specific aims of the Research Core are to (1) provide a series of workshops for healthcare providers that focus on assessment and treatment of hypertensive patients according to current guidelines; (2) enroll a sufficient number of patients with uncontrolled hypertension to participate in the study and encourage each of them to continue treatment throughout the duration of the intervention as a means of promoting lifetime hypertension control; (3) provide a program of patient education that includes (a) a series of workshops for the intervention participants that focus on the impact of hypertension, and the efficacy of proper diet and exercise in managing hypertension; (b) a patient advocate, who will serve as a liaison between patient and provider; and (c) a  health partner  from the patient's social circle of  acquaintances who will help reinforce the workshop lessons in a participatory manner; and (4) compare the results of the intervention group and the control group, and determine the effectiveness of the intervention.    Specific aims of the Education Core are to (1) enhance cultural competency among healthcare providers and address its impact on health disparities among the nation's racial and ethnic minority populations; (2) explore issues of race, racism and health disparities in research and medical care, particularly as they affect African Americans in Mississippi; and (3) provide career development training for new investigators capable of conducting research to reduce cardiovascular health disparities.    Specific aims of the Community Outreach Core are to (1) conduct focus group sessions in selected vulnerable populations to assess the level of awareness about hypertension, and identify realistic lifestyle hypertension-prevention goals for the intended audience; (2) pursue partnerships with community-based organizations to enhance the activities of the Outreach Core; and (3) develop and disseminate culturally and linguistically appropriate education materials to the lay public about hypertension, including detection, diagnosis, and strategies for its prevention.                                                                                                                                                                                                                                                                                                                                                                                                                                                                                                                                                                                                                                                                                                                                                                                                                                                                                                                                                                                                                                                                                                                                                                                                                                                                                                                                                                                                                                                                                                                                                                                                                                                                                                                                                                                                                                                                                                                                                                                                                                                                                                                                                                                                                                                                                                                                                                                                                                                                                                                                                                                                                                                                                                                                                                                                                        2\n",
       "L-3-phosphoserine phosphatase (L3PSP) is a widely expressed member of the haloacid dehalogenase (HAD) superfamily and its enzyme activity is the irreversible and rate limiting step in L-serine biosynthesis. Dysregulation of L-serine biosynthesis is featured in neurological disorders, Williams-Beuren syndrome, skin ichthyosis and a variety of epithelial neoplasms. However, the significance of altered L3PSP activity on the initiation and course of these diseases is still not clear. We recently identified L3PSP by microarray analysis to be altered in an integrin transgenic mouse model that is predisposed to epidermal hyperplasia and skin inflammation indicating that L3PSP may be a critical regulator of epidermal homeostasis. The goal of this proposal is to define the role for L3PSP in skin development and epidermal disease. Our preliminary results show that ectopic expression of L3PSP in the proliferative layer of the epidermis leads to defects in hair follicle morphogenesis, decreased hair follicle number and dysregulated hair follicle cycling. We have also uncovered novel L3PSP interaction candidate proteins that function in sumoylation pathways and proteins that mediate Fas ligand apoptosis. We will determine if the effects of L3PSP expression in disrupted hair follicle growth and cycling are dependent on its phosphatase activity and if L3PSP expression stimulates epidermal keratinocytes to undergo apoptosis. To demonstrate a new role(s) for L3PSP outside of L-serine biosynthesis we will conduct biochemical studies to validate putative interactions between L3PSP and candidate proteins identified by yeast two-hybrid analysis. Finally, to determine the requirement for L3PSP in epidermal homeostasis we will generate murine and human skin that is deficient in L3PSP expression and measure the effect on epidermal proliferation, apoptosis and hair follicle morphogenesis. Lay summary: Overall we plan to ascertain whether a protein normally thought to function in basic cellular amino acid metabolism may also regulate the growth and maintenance of hair follicles by stimulating programmed cell death pathways in skin cells. In doing so, the studies outlined in this proposal will have important implications for hair follicle biology and epithelial cell survival in general.                                                                                                                                                                                                                                                                                                                                                                                                                                                                                                                                                                                                                                                                                                                                                                                                                                                                                                                                                                                                                                                                                                                                                                                                                                                                                                                                                                                                                                                                                                                                                                                                                                                                                                                                                                                                                                                                                                                                                                                                                                                                                                                                                                                                                                                                                                                                                                                                                                                                                                                                                                                                                                                                                                                                                                                                                                                                                                                                                                                                                                                                                                                                                                                                      2\n",
       "The MBRS-SCORE program will continue to develop the research environment at the University of Texas at El Paso that is more conducive to scientific research excellence in the biomedical sciences. The program will enhance and cultivate the research capabilities of program participants by providing research support. The SCORE program will foster interdisciplinary approaches to solving problems that affect basic biomedical research. This program will involve faculty from different disciplines on subprojects involving biochemistry, biostatistics, cancer biology, chemistry, infectious diseases, molecular biology, health sciences, immunology, toxicology, neurobiology, and bioengineering. These subprojects are focused to increase the number of underrepresented minorities in the biomedical sciences or in health professions. The program will expand the research opportunities for minority students, especially Hispanics, by providing the funds necessary to foster a productive research environment associated with graduate education. Our research initiatives, coupled with our student research programs, will increase the number of minority students performing biomedical research, thereby expanding the pool of minorities who will make biomedical research a career. Our unique geographical location and our high Hispanic enrollment virtually assure us of succeeding in this endeavor. The University of Texas at El Paso will contribute substantially to the SCORE Program by providing release time for faculty to increase their efforts in both laboratory research and research training. The major goals of the program are to: (1) enhance the research productivity of faculty directly and indirectly associated with SCORE program; (2) increase the number of underrepresented minority (URM) undergraduates and graduate students that are trained in biomedical research and prepared to pursue careers in biomedical fields; and (3) promote diversity at all academic/research levels.                                                                                                                                                                                                                                                                                                                                                                                                                                                                                                                                                                                                                                                                                                                                                                                                                                                                                                                                                                                                                                                                                                                                                                                                                                                                                                                                                                                                                                                                                                                                                                                                                                                                                                                                                                                                                                                                                                                                                                                                                                                                                                                                                                                                                                                                                                                                                                                                                                                                                                                                                                                                                                                                                                                                                                                                                                                                                                                                                                                                                                                                                                                                                                                                                                                                                                                                                                                                                                                                                                                                       2\n",
       "Significant advances in biotechnology and biochemistry have led to the discovery of a large number of cancer vaccines based on peptides and proteins. However, the development of suitable and efficient carrier systems remains a major challenge since the vaccine bioavailability is limited by enzymatic degradation. We developed recently several promising new vaccines for prostate cancer based on natural and modified survivin-derived peptides. We propose to encapsulate the survivin-derived peptide vaccines into our newly developed nanoparticles targeted to the mannose receptors on the dendritic cells. The inclusion of mannose or some of its derivatives in the nanoparticle formulation is expected to enhance delivery of active antigen and is the major conceptual advance of this pilot project. We suggest that this novel vaccine will induce potent and specific immune responses against prostate cancer. Because survivin is highly expressed in all prostate cancer, this new nanoparticle-vaccine strategy may have important clinical applications. This approach may provide a potential avenue for immunotherapy of prostate cancer, as many other prostate cancer-associated antigens have been described to date.                                                                                                                                                                                                                                                                                                                                                                                                                                                                                                                                                                                                                                                                                                                                                                                                                                                                                                                                                                                                                                                                                                                                                                                                                                                                                                                                                                                                                                                                                                                                                                                                                                                                                                                                                                                                                                                                                                                                                                                                                                                                                                                                                                                                                                                                                                                                                                                                                                                                                                                                                                                                                                                                                                                                                                                                                                                                                                                                                                                                                                                                                                                                                                                                                                                                                                                                                                                                                                                                                                                                                                                                                                                                                                                                                                                                                                                                                                                                                                                                                                                                                                                                                                                                                                                                                                                                        2\n",
       "This proposal is for the Clinical Trials Statistical and Data Management Center (CTSDMC) in the Department of Biostatistics, College of Public Health at the University of Iowa for the Carotid Occlusion Surgery Study (COSS) and covers the activities of the CTSDMC. Dr. William Powers is submitting a separate proposal for the Clinical Coordinating Center (CCC) for this trial. The goal of this study is to test the hypothesis that extra cranial-intra cranial (EC/IC) arterial bypass by surgical anastomosis of the superficial temporal artery to the middle cerebral artery (STA-MCA) when added to best medical therapy can reduce by 40%, despite perioperative stroke and death, subsequent ipsilateral ischemic stroke (fatal and non-fatal) at two years in patients with symptomatic carotid artery occlusion and increased oxygen extraction fraction measured by positron emission tomography (PET). This is a randomized, non-blinded, controlled trial in 372 participants randomized equally to surgical and non-surgical treatment. Participants who fulfill clinical entry criteria and who have carotid occlusion in at least one carotid artery by vascular imaging will be eligible for enrollment to undergo PET. If PET criteria is met then arteriographic criteria must be met for the participant to be randomized. All randomized participants will receive the best available medical treatment with anti-thrombotic agents and risk factor intervention to prevent subsequent stroke. Participants are followed for 24 months at 3 month intervals. The CTSDMC brings over 30 years experience in the design and implementation of clinical and epidemiology studies and over 14 years experience serving as the data coordinating center for multi-center clinical trials. These studies include studies in neurology, nephrology, and diabetes. The CTSDMC staff has successfully developed and operated web based data entry systems and databases for multi-center trials and have a excellent record in successfully coordinating clinical trials.                                                                                                                                                                                                                                                                                                                                                                                                                                                                                                                                                                                                                                                                                                                                                                                                                                                                                                                                                                                                                                                                                                                                                                                                                                                                                                                                                                                                                                                                                                                                                                                                                                                                                                                                                                                                                                                                                                                                                                                                                                                                                                                                                                                                                                                                                                                                                                                                                                                                                                                                                                                                                                                                                                                                                                                                                                                                                                                                                                                                                                                                                                                                                                                                                                                                                                                                                                                                                                                                                                    2\n",
       "This proposal seeks support for the development of a new interdisciplinary training program in Regenerative Science. Repair or regeneration of tissues can be characterized as a symphony of cellular activities often beginning with an acute inflammatory response followed by granulation tissue infiltration, recruitment, proliferation and differentiation of progenitor cells, matrix formation and organization, and eventual remodeling. The process occurs within the context of biologic and mechanical signals. While many scientists, engineers and clinicians working across numerous disciplines are dedicated to advancing the repair or regeneration of tissues and organs, they fall short in their ability to communicate, interpret, or integrate across the many core competencies that we believe are required to make substantial advances in regenerative medicine. These core competencies include: developmental biology, extracellular matrix structure and organization, bioregulatory signaling, tissue structure and function, preclinical models development, structural and computational modeling, clinical research design principles, and commercialization and regulatory parameters. This program will admit biologists, engineers and clinicians with training depth in one or more disciplines and augment their abilities by teaching them critical aspects of these core competencies through didactic and research intensive experiences. While this training program will expand to train in all organ or tissue systems in the future, its initial training will focus on musculoskeletal tissues.                                                                                                                                                                                                                                                                                                                                                                                                                                                                                                                                                                                                                                                                                                                                                                                                                                                                                                                                                                                                                                                                                                                                                                                                                                                                                                                                                                                                                                                                                                                                                                                                                                                                                                                                                                                                                                                                                                                                                                                                                                                                                                                                                                                                                                                                                                                                                                                                                                                                                                                                                                                                                                                                                                                                                                                                                                                                                                                                                                                                                                                                                                                                                                                                                                                                                                                                                                                                                                                                                                                                                                                                                                                                                                                                                                                                                                                                                                                                                    2\n",
       "The goal of this project is to identify quantitative trait loci associated with variation in brain structure and function. The ultimate promise of this research is the discovery of genes that predispose to brain disorders and mental illnesses. We believe that the analysis of genetic influences on brain structure and function in randomly sampled extended pedigrees will provide significant clues regarding the genes that are involved in both normal and pathological brain function. The focus of the project is on the genetic dissection of quantitative endophenotypes that more directly index the underlying biological basis of brain function than do discrete disease states themselves. To this end, we will perform neuroimaging and conduct neuropsychological examinations on Mexican American individuals who have been part of our ongoing genetic research studies for the past 15 years. All participants were previously genotyped and our plan is to utilize existing genome scan and genome-wide quantitative transcriptomic data for correlation with neuroanatomic and neurocognitive variables. Our specific aims are to: 1) perform high quality brain magnetic resonance imaging and neuropsychological examinations on 1,000 Mexican Americans who are members of approximately 30 large extended families, 2) assess the quantitative genetic architecture of brain-related phenotypes by estimating their heritabilities and their genetic correlations, 3) classify specific brain morphological variables and quantitative leukocyte-derived gene expression measures as endophenotypes related to brain function, 4) localize QTLs influencing variation in the quantitative brain-related phenotypes by performing linkage-based genome scanning using the variance component method, 5) refine the position of localized QTLs and identify positional candidate loci using an objective prioritization strategy that jointly utilizes in silico bioinformatics, genetic, and transcriptional data, and 6) identify the most likely functional variations within the two best positional candidate genes. This project involves coordinated R01 applications from Dr. John Blangero, Southwest Foundation for Biomedical Research, and Drs. David Glahn and Peter Fox, University of Texas Health Science Center at San Antonio. If funded, our data and biomaterials will be incorporated into the NIMH Human Genetics Initiative making them available to qualified researchers in the wider scientific community. Relevance to agency mission: Brain-related mental diseases are a major public health burden whose biology is still largely unknown. By identifying genes involved in brain function and structure, we will provide novel biological candidates for the determinants of such diseases and thus improve potential for intervention.                                                                                                                                                                                                                                                                                                                                                                                                                                                                                                                                                                                                                                                                                                                                                                                                                                                                                                                                                                                                                                                                                                                                                                                                                                                                                                                                                                                                                                                                                                                                                                                                                                                                                                                                                                                                                                                                                                                                                                                                                                                                                                                                                                                                                                                                                                                                                                                                                                                                                                                                                                                                                                                                                               2\n",
       "This application extends follow-up of old and very-old persons who have received cognitive interventions as part of ACTIVE (Advanced Cognitive Training for independent and Vital Elderly). Findings at five years indicate the effects of the intervention on cognitive abilities are durable and that these intervention effects nave transferred to maintenance of IADL function as hypothesized. The Specific Aims of this extended follow-up are to: 1) To determine if the cognitive interventions continue to have protective effects up to 10 years after initial training: a) basic cognitive abilities of memory, reasoning, and speed or processing; b) self- reported and performance-based instrumental activities of daily living; and c) health-related quality of life. 2) To determine if the cognitive interventions have beneficial effects on the distal outcomes of driving safety, personal care activities of daily living, health service utilization, and mortality. 3) To examine heath, genetic and cognitive moderators in individual response to training, including such factors as low cognitive function, cardiovascular status, engagement, and ApoE genotype. 4) To estimate and project the effects of ACTIVE training to the general population of older adults by linking the measures and outcomes of ACTIVE to the Health and Retirement Study. This application affords a unique opportunity to prospectively study lagged effects of three types of cognitive interventions on functional decline in this well-characterized cohort that, given its advancing age, is now at imminent risk for both IADL and ADL decline. We will be able to test the basic question in this study: For older adults exposed to these cognitive interventions, can disability in the performance of key everyday activities be delayed and independence maintained as subjects age into their 80s. We estimate power to detect effect sizes of 0.2 over 10 years for the cognitive abilities, everyday problem solving, and everyday speed and an effect size of 0.4 for everyday functioning. The ACTIVE study will determine if cognitive training can help older adults to continue functioning and living independently for a longer period of time. The ACTIVE study will determine if cognitive training can help older adults to continue functioning and living independently for a longer period of time.     This application is a renewal of the application rifled  ACTIVE Phase II: UAB Field Site . This application is for the Field Site at the University of Alabama at Birmingham. Phase I of ACTIVE (Advanced Cognitive Training for Independent and Vital Elderly) was a randomized controlled trial of three cognitive intervention arms, addressing the question of whether improving basic cognition aided in maintaining functional independence in elders. As to be reported in JAMA (11/12/02), Phase I found strong, broad and durable cognitive ability-specific training effects. The effect sizes were comparable to or greater than the amount of cognitive decline observed in other longitudinal studies, suggesting that the interventions have the potential to reverse age-related decline. There was minimal transfer of training effects to everyday activities (i.e., functional competence). However, it should be noted that through the two- year followup, there was no evidence of a significant decline in ADL and IADL status. Therefore, to adequately understand the cognitive transfer effects of the training interventions, a longer followup period is required, particularly to see whether there is a separation of the change trajectories for everyday activities of trained and untrained participants over time. Phase II of ACTIVE is proposed as a followup study focused on measuring the long-term impact of training effects on cognitive function and cognitively demanding everyday activities. The Phase II followup will consist of one assessment to include the Phase I post-test battery and a clinical assessment. The ACTIVE cohort (n = 2832) is a special sample, containing substantial oversampling of African American, socioeconomically poor, and very old adults. The Specific Aims of Phase II of ACTIVE are: 1) to determine whether the cognitive interventions (as initial treatment or as a consequence of repeated boosters) have long-term protective effects on functional outcomes; 2) to document any delayed transfer of the cognitive training to secondary outcomes; and 3) to identify individual factors that affect response to intervention. As in Phase I, the primary analytical approach to detecting treatment effects on both cognitive and functional abilities will be a repeated-measures, mixed-effects model incorporating all design features as fixed effects and individual-level variability as random effects. Other multivariate analyses including lagged and cross-lagged analyses of change using latent change analysis, structural equation modeling, and growth curve analyses will also be used as appropriate to characterize relationships between individual difference factors and change in functional competence. Retention is projected conservatively at 72% with 65% of the cohort providing full data and another 7% providing partial data at year 5. Power analysis shows that extending the study will make it possible to observe effect sizes on the order of 0.05-0.10 with excellent power, in the range of at least 80-90%.    2\n",
       "Opioid addiction has remained widespread throughout the United States since the 1960s and a large proportion of users are involved in crimes to support their habits. After release from incarceration, relapse to opioid addiction is very common and this leads to more crimes and re-incarceration. Treatment advances in the area of medications have not reached this population. Effective medications such as methadone and buprenorphine are not well accepted by prosecutors and judges. Permission to conduct research on the most effective treatment approaches is very difficult to obtain for patients under legal restraint because informed consent is problematic. Naltrexone, an opiate receptor antagonist, has demonstrated pharmacological efficacy in preventing relapse to opioid addiction and it has been reported to be clinically effective in parolee populations although it is rarely used. Recently a depot formulation with a one month duration has received FDA approval for the treatment of alcoholism. The purpose of this study is to determine whether a monthly injection of naltrexone is practical and useful in the prevention of relapse and when compared to treatment as usual. We will also monitor HIV risk behaviors to determine whether the intervention reduces risk of HIV and hepatitis C infections. This collaborative project will take place in six treatment sites where there is a large population of parolees with a history of opiate addiction. In order to prevent even a subtle form of coercion, referrals from parole officers will not be accepted. After determining that all volunteers are opiate free by urine test and not currently opiate dependent using a naloxone test, they will be randomized to depot naltrexone or Treatment as Usual (TAU). Participants in both groups will be given identical follow up monthly for six months with measures of opiate use by self-report, urine test and hair analysis. An additional random urine test will take place each month between monthly visits. Both groups will be re-evaluated six and 12 months later. The University of Pennsylvania will be the coordinating site and each site will have a randomization goal of 20 new patients per year over 3.5 to 4 years to accrue a total of 360 to 400 participants. Treatment outcome will be measured by urine tests, hair analysis, self-report and continuation in treatment. Both naltrexone and comparison groups will receive equivalent voucher incentives to remain in the program. A benefit-cost analysis will be conducted to compare the costs of the treatment with the quantifiable benefits in terms of reduced crime, re-incarceration and medical services and increased employment. PUBLIC HEALTH RELEVANCE: This project will test the benefits of a new treatment using a depot medication for preventing relapse to opioid addiction. If successful, it will influence the care given to probationers and parolees and likely relieve some of the overcrowding of our prisons. The data from this study can also be used by the FDA to evaluate the benefits of this treatment that could improve the lives of patients suffering from opioid addiction.                                                                                                                                                                                                                                                                                                                                                                                                                                                                                                                                                                                                                                                                                                                                                                                                                                                                                                                                                                                                                                                                                                                                                                                                                                                                                                                                                                                                                                                                                                                                                                                                                                                                                                                                                                                                                                                                                                                                                                                                                                                                                                                                                                                                                                                                                                                                     2\n",
       "Development of postoperative peritoneal adhesions phenomenologically involves a complex array of interacting cytokines and growth factors that are produced as a result of differential gene expression induced by hypoxia. Reactive radicals are produced during hypoxia and remain even after normoxia is restored. Among them is nitric oxide (NO), which is generated by NO synthases. Our long-term goal is to prevent or selectively limit the development of postoperative peritoneal adhesions. The objective of this application is to identify the mechanisms that underlie their development. The central hypothesis is that hypoxia modulates inducible nitric oxide synthase (iNOS), further resulting in reduced production of NO, which contributes to pro-inflammatory signaling, thus leading to the development of postoperative adhesions. The hypothesis has been formulated on the basis of strong preliminary and published data, which suggest that hypoxia causes cells to acquire an adhesion phenotype that is pathogenetically central to the process. There will be four specific aims, which will determine: 1) the biological effects of nitric oxide on the formation and development of the peritoneal adhesion phenotype; 2) the mechanisms by which hypoxia decreases nitric oxide production in peritoneal cells; 3) the in vivo effects of nitric oxide on postoperative adhesion development; and 4) the causal mechanism responsible for induction of, and protection against, postoperative adhesions. Both in vitro (human and rat) and in vivo (rat cecal abrasion model) studies will be conducted. Gene expression, iNOS activity, cellular apoptosis, production of extracellular matrix, tissue remodeling and cellular proliferation will be assayed as they relate to the production of adhesions. The applicants are particularly well prepared to undertake the proposed research because of extensive experience with the systems that will be employed, coupled with the fact that all necessary reagents and technologies needed are already in place. The proposed work is innovative, because of the combined cellular and molecular biological approaches that will be applied quantitatively, both in vitro and in vivo, thereby, reducing complexity and fostering identification of the relevant pathogenetic mechanisms. The outcomes are expected to collectively identify decreased production of NO as a result of hypoxia as the critical pathologic change, resulting in decreased apoptosis and tissue remodeling in concert with increased production of extracellular matrix, thereby, promoting the development of severe adhesions. These results are expected to be significant, because, once the molecular mechanisms are known, specific pathways can then be targeted selectively targeted to limit the underlying adhesion development processes. This, in turn, is expected to lead to innovative, new approaches to the prevention and treatment of peritoneal adhesions.                                                                                                                                                                                                                                                                                                                                                                                                                                                                                                                                                                                                                                                                                                                                                                                                                                                                                                                                                                                                                                                                                                                                                                                                                                                                                                                                                                                                                                                                                                                                                                                                                                                                                                                                                                                                                                                                                                                                                                                                                                                                                                                                                                                                                                                                                                                                                                                                                                                                                                                                            2\n",
       "Stroke is the third leading cause of death and the leading cause of adult disability in the United States. Each year in the US, 750,000 Americans suffer a symptomatic stroke, and over 11 million suffer an asymptomatic stroke. The central aim of this proposal is to demonstrate that paramedic initiation of the neuroprotective agent magnesium sulfate in the field is an efficacious and safe treatment for acute stroke. The proposal is a multicenter, randomized, double-blind, phase 3 clinical trial, using intention to treat analysis, of magnesium sulfate versus placebo among ambulance-transported patients with acute stroke. Study agent will be initiated within two hours of stroke onset in all enrolled individuals, and within one hour of onset in approximately one-half of enrolled individuals. A total of 1298 patients will be enrolled, 649 in each treatment arm. The dose of magnesium sulfate employed will be 4 gram IV loading dose over 15 minutes followed by 16 gram IV maintenance dose over 24 hours. The primary study hypothesis is that treatment with magnesium sulfate improves the long-term functional outcome of hyper-acute stroke patients. The primary study endpoint will be the difference in distribution of scores between magnesium sulfate and placebo groups on the modified Rankin Scale measure of global handicap, assessed 3 months poststroke. Secondary analyses will analyze treatment efficacy on endpoints indexing neurologic deficit, activities of daily living, global outcome, and quality of life, and in pre-specified patient subgroups, including patients with ischemic stroke, ischemic stroke co-treated with tissue plasminogen activator, ischemic stroke not co-treated with tissue plasminogen activator, intracerebral hemorrhage, patients treated within 15-60 minutes of symptom onset, and within 61-120 minutes of symptom onset. Successful conduct of the trial will serve as a pivotal test of the promising neuroprotective agent magnesium sulfate in acute stroke, and will also demonstrate for the first time that field enrollment and treatment of acute stroke patients is a practical and feasible strategy for phase 3 stroke trials, permitting enrollment of greater numbers of patients in hyper-acute time windows.                                                                                                                                                                                                                                                                                                                                                                                                                                                                                                                                                                                                                                                                                                                                                                                                                                                                                                                                                                                                                                                                                                                                                                                                                                                                                                                                                                                                                                                                                                                                                                                                                                                                                                                                                                                                                                                                                                                                                                                                                                                                                                                                                                                                                                                                                                                                                                                                                                                                                                                                                                                                                                                                                                                                                                                                                                                                                                                                                                                                                                                                                                                                                                                                                                                                  2\n",
       "The Duke Center for Systems Biology (DCSB) will support research collaborations aimed at discovering, modeling, and explaining the dynamical properties of biological networks. Using high throughput techniques, biologists can now determine nearly complete lists of many of the molecular components of cells, measure relative concentrations of these components, and determine which components interact with each other. A major challenge, however, is to understand how this complex network of interactions produces the orchestrated processes characteristic of living cells and higher organisms. DCSB will approach this challenge through interdisciplinary projects involving a wide array of experimental techniques, analysis tools, and modeling methods. Each project will be a collaboration between biologists and theorists with expertise in a relevant subfield of mathematics, computer science, statistics, or physics. DCSB projects will address three broad themes: (1) cell cycle control; (2) development and differentiation; and (3) population variation. In the first two, the emphasis will be on the dynamics determined by gene regulatory networks; in the third, on evolutionary dynamics of network structure. Six initial projects have been identified for support, covering networks involved in various model systems: the yeast cell cycle, mammalian cell cycle entry, Arabidopsis root development, sea urchin embryonic development, population variation in yeast, and population variation in sea urchin. Analysis and modeling efforts will draw from expertise in Bayesian statistics, nonlinear dynamics, computational topology and geometry, and visualization. DCSB will bring together outstanding researchers as collaborators and guest scientists through sabbatical and fellowship programs and through an annual symposium on a current systems biology theme. DCSB faculty will integrate systems biology themes into several existing graduate education programs that foster vertically integrated research teams and exposure to interdisciplinary approaches to biological problems. Faculty associated with DCSB will also teach several new undergraduate systems biology courses and administer a certificate program designed both for biology students and those students in mathematical/computational majors. The results will have substantial implications for treatment of human disease through manipulation of genetic regulatory systems, as well as for fundamental biology and theories of complex systems.                                                                                                                                                                                                                                                                                                                                                                                                                                                                                                                                                                                                                                                                                                                                                                                                                                                                                                                                                                                                                                                                                                                                                                                                                                                                                                                                                                                                                                                                                                                                                                                                                                                                                                                                                                                                                                                                                                                                                                                                                                                                                                                                                                                                                                                                                                                                                                                                                                                                                                                                                                                                                                                                                                                                                                                                                                                                                                                                                                                                  2\n",
       "Geographic and racial disparities in stroke mortality have existed for over 50 years with an incremental annual cost of $4.6 billion. Many causes for these disparities have been proposed, but existing research has inadequately addressed these, and interventions have failed to reduce their magnitude. Further, national data are not available describing the prevalence of cognitive decline, a problem largely caused by cerebrovascular disease and its risk factors. With completion of recruitment, baseline evaluation and follow-up of a national cohort of 30,000 black and white community dwelling participants, the REasons for Geographic And Racial Differences in Stroke (REGARDS) study is uniquely positioned to test older but unsubstantiated hypotheses explaining race/region disparities, to assess new evidence-based hypotheses, and to provide the first national data on predictors of cognitive decline. In this continuation application we propose to continue follow-up for incident stroke and cognitive decline among this cohort, which will quadruple the number of observed stroke events arid provide longitudinal data on cognitive decline. These data will provide the opportunity to investigate the underlying causes of the disparities in stroke mortality by assessing the role of confounding factors to mediate the observed excess risk among African Americans and Southerners, and to develop risk functions for relatively rare stroke subtypes including ICH and SAH. Preliminary analysis from REGARDS suggests that there is a- cognitive decline belt  that is concordant with the Stroke belt. The data from the continuation will allow a refinement of the description of these disparities, and, using similar analysis approaches employed for the stroke outcomes, will provide insights into the causes for these disparities. Finally, we will investigate the role of cognitive decline as a predictor for subsequent stroke events. Completion of these aims will allow for development of interventions to eliminate disparities in the incidence of stroke and cognitive decline. Implementation of specific interventions customized for black and white populations, and by region of the United States, may reduce health disparities in stroke recognition and treatment, risk factor prevention, and optimal management of existing risk factors.                                                                                                                                                                                                                                                                                                                                                                                                                                                                                                                                                                                                                                                                                                                                                                                                                                                                                                                                                                                                                                                                                                                                                                                                                                                                                                                                                                                                                                                                                                                                                                                                                                                                                                                                                                                                                                                                                                                                                                                                                                                                                                                                                                                                                                                                                                                                                                                                                                                                                                                                                                                                                                                                                                                                                                                                                                                                                                                                                                                                                                                                                                                                                                    2\n",
       "Myasthenia gravis (MG) is an autoimmune disease involving the thymus in which 85% of patients have antibodies to muscle acetylcholine receptors (AchR-Ab) that interfere with neuromuscular transmission and can cause severe, sometimes life-threatening, weakness. Thymectomy has been used world-wide to treat non-thymomatous MG, based on retrospective non-randomized studies. Prednisone (a corticosteroid) is also frequently used to treat MG. Both therapies are often employed together and both have adverse effects. Whether thymectomy benefits those who are also receiving prednisone is not known. To investigate the safety while comparing efficacy, we propose a multicenter, multiracial, international, single-blinded, 3-year duration clinical trial in which patients aged 18-60 years with generalized AchR-Ab positive non- thymomatous MG are randomized to receive extended transsternal thymectomy (ETTX) or no thymectomy. Both groups will receive prednisone administered by a 'blind' evaluator according to the same set protocol aimed at establishing the minimum dose needed to achieve and maintain Minimal Manifestation (MM) status. The primary endpoint will comprise response and toxicity using a composite measuring clinical course, short and long term toxicities based on: (a) clinical efficacy of therapy evaluated by the QMG weakness score (b) frequency of serious adverse events (c) the total dose of prednisone (Area under the Dose time Curve, AUDTC). A significant difference favoring ETTX would establish its clinical benefits in this patient population, and provide indirect evidence of the possible benefits of ETTX in patients not receiving prednisone medication. Conversely, failure to demonstrate a significant difference in the global or individual components of the primary endpoint would suggest that thymectomy is an unnecessary procedure in the population studied. Subgroup analysis may show whether benefits are confined to those who are prednisone naive at entry or in a particular age group. Thus the results will impact on current clinical practice.                                                                                                                                                                                                                                                                                                                                                                                                                                                                                                                                                                                                                                                                                                                                                                                                                                                                                                                                                                                                                                                                                                                                                                                                                                                                                                                                                                                                                                                                                                                                                                                                                                                                                                                                                                                                                                                                                                                                                                                                                                                                                                                                                                                                                                                                                                                                                                                                                                                                                                                                                                                                                                                                                                                                                                                                                                                                                                                                                                                                                                                                                                                                                                                                                                                                                                                                                                                                                                         2\n",
       "Name: working_abstract, dtype: int64"
      ]
     },
     "execution_count": 39,
     "metadata": {},
     "output_type": "execute_result"
    }
   ],
   "source": [
    "vc=mini[wa].value_counts()\n",
    "vc[vc>1]"
   ]
  },
  {
   "cell_type": "code",
   "execution_count": 40,
   "metadata": {},
   "outputs": [
    {
     "name": "stdout",
     "output_type": "stream",
     "text": [
      "Help on method drop_duplicates in module pandas.core.frame:\n",
      "\n",
      "drop_duplicates(subset=None, keep='first', inplace=False) method of pandas.core.frame.DataFrame instance\n",
      "    Return DataFrame with duplicate rows removed, optionally only\n",
      "    considering certain columns\n",
      "    \n",
      "    Parameters\n",
      "    ----------\n",
      "    subset : column label or sequence of labels, optional\n",
      "        Only consider certain columns for identifying duplicates, by\n",
      "        default use all of the columns\n",
      "    keep : {'first', 'last', False}, default 'first'\n",
      "        - ``first`` : Drop duplicates except for the first occurrence.\n",
      "        - ``last`` : Drop duplicates except for the last occurrence.\n",
      "        - False : Drop all duplicates.\n",
      "    inplace : boolean, default False\n",
      "        Whether to drop duplicates in place or to return a copy\n",
      "    \n",
      "    Returns\n",
      "    -------\n",
      "    deduplicated : DataFrame\n",
      "\n"
     ]
    }
   ],
   "source": [
    "help(df.drop_duplicates)"
   ]
  },
  {
   "cell_type": "code",
   "execution_count": 41,
   "metadata": {},
   "outputs": [
    {
     "name": "stderr",
     "output_type": "stream",
     "text": [
      "/apps/software/standard/core/anaconda/5.2.0-py3.6/lib/python3.6/site-packages/ipykernel_launcher.py:1: SettingWithCopyWarning: \n",
      "A value is trying to be set on a copy of a slice from a DataFrame\n",
      "\n",
      "See the caveats in the documentation: http://pandas.pydata.org/pandas-docs/stable/indexing.html#indexing-view-versus-copy\n",
      "  \"\"\"Entry point for launching an IPython kernel.\n"
     ]
    }
   ],
   "source": [
    "mini.drop_duplicates(subset=[wa],inplace=True)"
   ]
  },
  {
   "cell_type": "code",
   "execution_count": 43,
   "metadata": {},
   "outputs": [
    {
     "data": {
      "text/plain": [
       "Int64Index([    0,     1,     2,     3,     4,     5,     6,     7,     9,\n",
       "               10,\n",
       "            ...\n",
       "            94836, 94837, 94838, 94839, 94840, 94841, 94842, 94843, 94844,\n",
       "            94845],\n",
       "           dtype='int64', length=94697)"
      ]
     },
     "execution_count": 43,
     "metadata": {},
     "output_type": "execute_result"
    }
   ],
   "source": [
    "mini.index"
   ]
  },
  {
   "cell_type": "code",
   "execution_count": 44,
   "metadata": {},
   "outputs": [
    {
     "name": "stderr",
     "output_type": "stream",
     "text": [
      "/apps/software/standard/core/anaconda/5.2.0-py3.6/lib/python3.6/site-packages/ipykernel_launcher.py:2: SettingWithCopyWarning: \n",
      "A value is trying to be set on a copy of a slice from a DataFrame.\n",
      "Try using .loc[row_indexer,col_indexer] = value instead\n",
      "\n",
      "See the caveats in the documentation: http://pandas.pydata.org/pandas-docs/stable/indexing.html#indexing-view-versus-copy\n",
      "  \n"
     ]
    }
   ],
   "source": [
    "mini_text=mini[[wa]]\n",
    "mini_text['index']=mini_text.index\n",
    "documents=mini_text"
   ]
  },
  {
   "cell_type": "code",
   "execution_count": 45,
   "metadata": {},
   "outputs": [
    {
     "data": {
      "text/plain": [
       "94697"
      ]
     },
     "execution_count": 45,
     "metadata": {},
     "output_type": "execute_result"
    }
   ],
   "source": [
    "len(documents)"
   ]
  }
 ],
 "metadata": {
  "kernelspec": {
   "display_name": "Python 3",
   "language": "python",
   "name": "python3"
  },
  "language_info": {
   "codemirror_mode": {
    "name": "ipython",
    "version": 3
   },
   "file_extension": ".py",
   "mimetype": "text/x-python",
   "name": "python",
   "nbconvert_exporter": "python",
   "pygments_lexer": "ipython3",
   "version": "3.6.6"
  }
 },
 "nbformat": 4,
 "nbformat_minor": 2
}
