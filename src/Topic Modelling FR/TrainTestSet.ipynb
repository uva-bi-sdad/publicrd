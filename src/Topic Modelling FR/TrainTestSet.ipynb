{
 "cells": [
  {
   "cell_type": "markdown",
   "metadata": {},
   "source": [
    "# Creation of Test and Training Sets \n",
    "\n",
    "### Using the same agency distribution as in the original data"
   ]
  },
  {
   "cell_type": "code",
   "execution_count": 1,
   "metadata": {},
   "outputs": [],
   "source": [
    "import time\n",
    "import importlib\n",
    "\n",
    "import pandas as pd\n",
    "import numpy as np\n",
    "import random"
   ]
  },
  {
   "cell_type": "code",
   "execution_count": 2,
   "metadata": {},
   "outputs": [],
   "source": [
    "import TextCleaning"
   ]
  },
  {
   "cell_type": "code",
   "execution_count": 3,
   "metadata": {},
   "outputs": [],
   "source": [
    "raw_df=pd.read_csv('../../data/prd/RND Topic Modelling/abstracts_federal_reporter_combined.csv',engine='python')"
   ]
  },
  {
   "cell_type": "code",
   "execution_count": 4,
   "metadata": {},
   "outputs": [],
   "source": [
    "# Junk starting phrases noticed through investigation of starting characters, as well as those identified in R Analysis\n",
    "\n",
    "start_phrases=['****TECHNICAL ABSTRACT****','****Technical Abstract****',\n",
    "               '****Non Technical Abstract****','*** Non- Technical Abstract ***','**Non-Technical Abstract**',\n",
    "          '*****NON-TECHNICAL ABSTRACT*****','***** NON-TECHNICAL ABSTRACT *****'\n",
    "          '****NONTECHNICAL ABSTRACT****','****Non-Technical Abstract****','*Non-technical Abstract*',\n",
    "               '*****NON-TECHNICAL ABSTRACT*****','****NON-TECHNICAL ABSTRACT****',\n",
    "               '***NON-TECHNICAL ABSTRACT***','****Nontechnical abstract****'\n",
    "               'DESCRIPTION (provided by applicant):','DESCRIPTION (provided by applicant)',\n",
    "               'Project Summary/Abstract','PROJECT SUMMARY/ABSTRACT','ABSTRACT',\n",
    "               'PROJECT SUMMARY','Project Summary','/ASBTRACT','/ Proposal','/ SUMMARY','/ DESCRIPTION','/PROJECT SUMMARY',\n",
    "               '/ PROJECT SUMMARY','/Abstract:','/ABSTRACT:','/ABSTRACT','/ ABSTRACT:',\n",
    "               '/ ABSTRACT','/Abstract','/ Abstract','/Description','/SUMMARY','/PROJECT SUMMARY',\n",
    "              '/ RESEARCH SUMMARY','/PROJECT SUMMARY','/abstract','/Proposal Abstract',\n",
    "               '/DESCRIPTION','/PROJECT DESCRIPTION','/PROJECT SUMMARY','/NARRATIVE','/RESEARCH ABSTRACT','/ PROJECT DESCRIPTION',\n",
    "              'EXCEED THE SPACE PROVIDED',\n",
    "              'one page and must contain a summary of the proposed activity suitable for dissemination to thepublic. It should be a self-contained description of the project and should contain a statement of objectives and methods to be employed.It should be informative to other persons working in the same or related fields and insofar as possible understandable to a technically liter-ate lay reader. This Abstract must not include any proprietary/confidential information.* Please click the add attachment button to complete this entry.']\n",
    "\n",
    "#Ending phrases noticed through manual investigation of last character\n",
    "\n",
    "end_phrases = ['(End of Abstract)',\"End of Abstract\", '(Abstract end)' \"(END OF ABSTRACT)\", '(End of abstract.)','(Abstract End)','(End 0f Abstract)','(End of Abstract.)','(End of Absract)',\n",
    "               '(Abstract below)','(End of Reviewers\\' Comment)','(End Abstract)','(End of abstract)','(End of abstract)',\n",
    "               'PERFORMANCE SITE ========================================Section End===========================================',\n",
    "                'KEY PERSONNEL ========================================Section End===========================================',\n",
    "               '[summary truncated at 7800 characters]', \n",
    "               'This award reflects NSF\\'s statutory mission and has been deemed worthy of support through evaluation using the Foundation\\'s intellectual merit and broader impacts review criteria.',\n",
    "               'Project Description Page 6', 'Page 1 of 1', 'Project Summary/Abstract Page 6',\n",
    "               'Project Description Page 7', 'Project Summary/Abstract Page 7', 'Pag 1 o 1', \n",
    "               'Page 2 Number pages consecutively at the bottom throughout Form Page 2',\n",
    "               'This award reflects NSF\\'s statutory mission and has been deemed worthy of support through evaluation using the Foundation\\'s intellectual merit and broader impacts review criteria.']"
   ]
  },
  {
   "cell_type": "code",
   "execution_count": 5,
   "metadata": {},
   "outputs": [
    {
     "name": "stdout",
     "output_type": "stream",
     "text": [
      "3 nulls in  ABSTRACT . These rows removed.\n",
      "11 duplicate abstracts removed\n",
      "0 project ID duplicates - not removed\n"
     ]
    }
   ],
   "source": [
    "df = TextCleaning.remove_nulls(raw_df, \"ABSTRACT\")\n",
    "df = TextCleaning.remove_duplicates(df)\n",
    "df = TextCleaning.create_working_abstract_col(df)"
   ]
  },
  {
   "cell_type": "code",
   "execution_count": 6,
   "metadata": {},
   "outputs": [
    {
     "name": "stdout",
     "output_type": "stream",
     "text": [
      "****TECHNICAL ABSTRACT****\n",
      "****Technical Abstract****\n",
      "****Non Technical Abstract****\n",
      "*** Non- Technical Abstract ***\n",
      "**Non-Technical Abstract**\n",
      "*****NON-TECHNICAL ABSTRACT*****\n",
      "***** NON-TECHNICAL ABSTRACT *********NONTECHNICAL ABSTRACT****\n",
      "****Non-Technical Abstract****\n",
      "*Non-technical Abstract*\n",
      "*****NON-TECHNICAL ABSTRACT*****\n",
      "****NON-TECHNICAL ABSTRACT****\n",
      "***NON-TECHNICAL ABSTRACT***\n",
      "****Nontechnical abstract****DESCRIPTION (provided by applicant):\n",
      "DESCRIPTION (provided by applicant)\n",
      "Project Summary/Abstract\n",
      "PROJECT SUMMARY/ABSTRACT\n",
      "ABSTRACT\n",
      "PROJECT SUMMARY\n",
      "Project Summary\n",
      "/ASBTRACT\n",
      "/ Proposal\n",
      "/ SUMMARY\n",
      "/ DESCRIPTION\n",
      "/PROJECT SUMMARY\n",
      "/ PROJECT SUMMARY\n",
      "/Abstract:\n",
      "/ABSTRACT:\n",
      "/ABSTRACT\n",
      "/ ABSTRACT:\n",
      "/ ABSTRACT\n",
      "/Abstract\n",
      "/ Abstract\n",
      "/Description\n",
      "/SUMMARY\n",
      "/PROJECT SUMMARY\n",
      "/ RESEARCH SUMMARY\n",
      "/PROJECT SUMMARY\n",
      "/abstract\n",
      "/Proposal Abstract\n",
      "/DESCRIPTION\n",
      "/PROJECT DESCRIPTION\n",
      "/PROJECT SUMMARY\n",
      "/NARRATIVE\n",
      "/RESEARCH ABSTRACT\n",
      "/ PROJECT DESCRIPTION\n",
      "EXCEED THE SPACE PROVIDED\n",
      "one page and must contain a summary of the proposed activity suitable for dissemination to thepublic. It should be a self-contained description of the project and should contain a statement of objectives and methods to be employed.It should be informative to other persons working in the same or related fields and insofar as possible understandable to a technically liter-ate lay reader. This Abstract must not include any proprietary/confidential information.* Please click the add attachment button to complete this entry.\n"
     ]
    }
   ],
   "source": [
    "df = TextCleaning.remove_junk_start(df, 'working_abstract', start_phrases)"
   ]
  },
  {
   "cell_type": "code",
   "execution_count": 7,
   "metadata": {},
   "outputs": [
    {
     "name": "stdout",
     "output_type": "stream",
     "text": [
      "(End of Abstract)\n",
      "End of Abstract\n",
      "(Abstract end)(END OF ABSTRACT)\n",
      "(End of abstract.)\n",
      "(Abstract End)\n",
      "(End 0f Abstract)\n",
      "(End of Abstract.)\n",
      "(End of Absract)\n",
      "(Abstract below)\n",
      "(End of Reviewers' Comment)\n",
      "(End Abstract)\n",
      "(End of abstract)\n",
      "(End of abstract)\n",
      "PERFORMANCE SITE ========================================Section End===========================================\n",
      "KEY PERSONNEL ========================================Section End===========================================\n",
      "[summary truncated at 7800 characters]\n",
      "This award reflects NSF's statutory mission and has been deemed worthy of support through evaluation using the Foundation's intellectual merit and broader impacts review criteria.\n",
      "Project Description Page 6\n",
      "Page 1 of 1\n",
      "Project Summary/Abstract Page 6\n",
      "Project Description Page 7\n",
      "Project Summary/Abstract Page 7\n",
      "Pag 1 o 1\n",
      "Page 2 Number pages consecutively at the bottom throughout Form Page 2\n",
      "This award reflects NSF's statutory mission and has been deemed worthy of support through evaluation using the Foundation's intellectual merit and broader impacts review criteria.\n"
     ]
    }
   ],
   "source": [
    "df = TextCleaning.remove_junk_end(df, 'working_abstract', end_phrases) "
   ]
  },
  {
   "cell_type": "code",
   "execution_count": 8,
   "metadata": {},
   "outputs": [],
   "source": [
    "# create document set to process if not using entire set\n",
    "\n",
    "#idx = random.sample(range(len(df['working_abstract'])), 50000)\n",
    "#docs = df['working_abstract'].iloc[idx]\n",
    "\n",
    "#nasa_df = df[df['DEPARTMENT']=='NASA']\n",
    "#docs = df['working_abstract']\n",
    "#len(docs)\n",
    "\n",
    "df.reset_index(inplace = True)\n",
    "df.rename(columns={'index':'original index'}, inplace=True)"
   ]
  },
  {
   "cell_type": "code",
   "execution_count": 10,
   "metadata": {},
   "outputs": [
    {
     "name": "stdout",
     "output_type": "stream",
     "text": [
      "Time to tokenize abstracts 421.9240608215332 seconds\n"
     ]
    }
   ],
   "source": [
    "tokened_abstracts = TextCleaning.tokenize(df['working_abstract'])\n",
    "df['tokened_abstracts'] = tokened_abstracts"
   ]
  },
  {
   "cell_type": "code",
   "execution_count": 11,
   "metadata": {},
   "outputs": [],
   "source": [
    "stopWords = TextCleaning.create_stopwords()\n",
    "tokened_docs_nostop = TextCleaning.remove_stopwords(df['tokened_abstracts'], stopWords)\n",
    "\n",
    "df['tokened_docs_nostop'] = tokened_docs_nostop"
   ]
  },
  {
   "cell_type": "code",
   "execution_count": 13,
   "metadata": {},
   "outputs": [],
   "source": [
    "tns_bi_tri_docs = TextCleaning.add_bi_tri_grams(df['tokened_docs_nostop'])\n",
    "df['tns_bi_tri_docs'] = tns_bi_tri_docs"
   ]
  },
  {
   "cell_type": "code",
   "execution_count": 15,
   "metadata": {},
   "outputs": [
    {
     "name": "stdout",
     "output_type": "stream",
     "text": [
      "Time to lemmatize: 4811.499058008194 seconds\n"
     ]
    }
   ],
   "source": [
    "lemma_docs = TextCleaning.lemmatize(df['tns_bi_tri_docs'])\n",
    "df['lemma_abstracts'] = lemma_docs"
   ]
  },
  {
   "cell_type": "code",
   "execution_count": 16,
   "metadata": {},
   "outputs": [
    {
     "data": {
      "text/html": [
       "<div>\n",
       "<style scoped>\n",
       "    .dataframe tbody tr th:only-of-type {\n",
       "        vertical-align: middle;\n",
       "    }\n",
       "\n",
       "    .dataframe tbody tr th {\n",
       "        vertical-align: top;\n",
       "    }\n",
       "\n",
       "    .dataframe thead th {\n",
       "        text-align: right;\n",
       "    }\n",
       "</style>\n",
       "<table border=\"1\" class=\"dataframe\">\n",
       "  <thead>\n",
       "    <tr style=\"text-align: right;\">\n",
       "      <th></th>\n",
       "      <th>original index</th>\n",
       "      <th>PROJECT_ID</th>\n",
       "      <th>ABSTRACT</th>\n",
       "      <th>FY</th>\n",
       "      <th>FIRST_CHAR</th>\n",
       "      <th>LAST_CHAR</th>\n",
       "      <th>DEPARTMENT</th>\n",
       "      <th>AGENCY</th>\n",
       "      <th>IC_CENTER</th>\n",
       "      <th>PROJECT_NUMBER</th>\n",
       "      <th>...</th>\n",
       "      <th>OTHER_PIS</th>\n",
       "      <th>ORGANIZATION_NAME</th>\n",
       "      <th>CFDA_CODE</th>\n",
       "      <th>FY_TOTAL_COST</th>\n",
       "      <th>working_abstract</th>\n",
       "      <th>Start Char</th>\n",
       "      <th>tokened_abstracts</th>\n",
       "      <th>tokened_docs_nostop</th>\n",
       "      <th>tns_bi_tri_docs</th>\n",
       "      <th>lemma_abstracts</th>\n",
       "    </tr>\n",
       "  </thead>\n",
       "  <tbody>\n",
       "    <tr>\n",
       "      <th>0</th>\n",
       "      <td>0</td>\n",
       "      <td>89996</td>\n",
       "      <td>This is a project to explore Game-based, Metap...</td>\n",
       "      <td>2008</td>\n",
       "      <td>This is a project to explore Game-based, Metap...</td>\n",
       "      <td>.</td>\n",
       "      <td>NSF</td>\n",
       "      <td>NSF</td>\n",
       "      <td>NaN</td>\n",
       "      <td>0814512</td>\n",
       "      <td>...</td>\n",
       "      <td>CARTER, BEVERLY; WOOD, CHARLES; HITT, BEN</td>\n",
       "      <td>WHEELING JESUIT UNIVERSITY</td>\n",
       "      <td>47.076</td>\n",
       "      <td>1999467.0</td>\n",
       "      <td>This is a project to explore Game-based, Metap...</td>\n",
       "      <td>T</td>\n",
       "      <td>[this, project, explore, game, based, metaphor...</td>\n",
       "      <td>[explore, game, based, metaphor, enhanced, gam...</td>\n",
       "      <td>[explore, game, based, metaphor, enhanced, gam...</td>\n",
       "      <td>[explore, game, base, metaphor, enhanced, game...</td>\n",
       "    </tr>\n",
       "    <tr>\n",
       "      <th>1</th>\n",
       "      <td>1</td>\n",
       "      <td>89997</td>\n",
       "      <td>Institution: Franklin Institute Science Museum...</td>\n",
       "      <td>2008</td>\n",
       "      <td>Institution: Franklin Institute Science Museum...</td>\n",
       "      <td>.</td>\n",
       "      <td>NSF</td>\n",
       "      <td>NSF</td>\n",
       "      <td>NaN</td>\n",
       "      <td>0741659</td>\n",
       "      <td>...</td>\n",
       "      <td>ELINICH, KAREN; YOON, SUSAN</td>\n",
       "      <td>FRANKLIN INSTITUTE</td>\n",
       "      <td>47.076</td>\n",
       "      <td>1799699.0</td>\n",
       "      <td>Institution: Franklin Institute Science Museum...</td>\n",
       "      <td>I</td>\n",
       "      <td>[institution, franklin, institute, science, mu...</td>\n",
       "      <td>[franklin, institute, science, museum, snyder,...</td>\n",
       "      <td>[franklin_institute, science, museum, snyder, ...</td>\n",
       "      <td>[franklin_institute, science, museum, snyder, ...</td>\n",
       "    </tr>\n",
       "    <tr>\n",
       "      <th>2</th>\n",
       "      <td>2</td>\n",
       "      <td>89998</td>\n",
       "      <td>Through programs (including small group conver...</td>\n",
       "      <td>2008</td>\n",
       "      <td>Through programs (including small group conver...</td>\n",
       "      <td>.</td>\n",
       "      <td>NSF</td>\n",
       "      <td>NSF</td>\n",
       "      <td>NaN</td>\n",
       "      <td>0813522</td>\n",
       "      <td>...</td>\n",
       "      <td>CADIGAN, KAREN; ELLENBOGEN, KIRSTEN</td>\n",
       "      <td>SCIENCE MUSEUM OF MINNESOTA</td>\n",
       "      <td>47.076</td>\n",
       "      <td>1505858.0</td>\n",
       "      <td>Through programs (including small group conver...</td>\n",
       "      <td>T</td>\n",
       "      <td>[through, programs, including, small, group, c...</td>\n",
       "      <td>[programs, small, group, conversations, citize...</td>\n",
       "      <td>[programs, small, group, conversations, citize...</td>\n",
       "      <td>[program, small, group, conversation, citizen,...</td>\n",
       "    </tr>\n",
       "    <tr>\n",
       "      <th>3</th>\n",
       "      <td>3</td>\n",
       "      <td>89999</td>\n",
       "      <td>In partnership with the American Chemical Soci...</td>\n",
       "      <td>2008</td>\n",
       "      <td>In partnership with the American Chemical Soci...</td>\n",
       "      <td>.</td>\n",
       "      <td>NSF</td>\n",
       "      <td>NSF</td>\n",
       "      <td>NaN</td>\n",
       "      <td>0838627</td>\n",
       "      <td>...</td>\n",
       "      <td>MILLER, BRADLEY; BOWMAN, KATHERINE</td>\n",
       "      <td>INTERNATIONAL UNION OF PURE AND APPLIED CHEMISTRY</td>\n",
       "      <td>47.049</td>\n",
       "      <td>51000.0</td>\n",
       "      <td>In partnership with the American Chemical Soci...</td>\n",
       "      <td>I</td>\n",
       "      <td>[partnership, with, the, american, chemical, s...</td>\n",
       "      <td>[partnership, american, chemical, society, acs...</td>\n",
       "      <td>[partnership, american, chemical, society, acs...</td>\n",
       "      <td>[partnership, american, chemical, society, ac,...</td>\n",
       "    </tr>\n",
       "    <tr>\n",
       "      <th>4</th>\n",
       "      <td>4</td>\n",
       "      <td>90000</td>\n",
       "      <td>Amphibian populations around the world are exp...</td>\n",
       "      <td>2008</td>\n",
       "      <td>Amphibian populations around the world are exp...</td>\n",
       "      <td>.</td>\n",
       "      <td>NSF</td>\n",
       "      <td>NSF</td>\n",
       "      <td>NaN</td>\n",
       "      <td>0815315</td>\n",
       "      <td>...</td>\n",
       "      <td>NaN</td>\n",
       "      <td>CORNELL UNIVERSITY ITHACA</td>\n",
       "      <td>47.074</td>\n",
       "      <td>370996.0</td>\n",
       "      <td>Amphibian populations around the world are exp...</td>\n",
       "      <td>A</td>\n",
       "      <td>[amphibian, populations, around, the, world, a...</td>\n",
       "      <td>[amphibian, populations, around, world, experi...</td>\n",
       "      <td>[amphibian, populations, around_world, experie...</td>\n",
       "      <td>[amphibian, population, around_world, experien...</td>\n",
       "    </tr>\n",
       "  </tbody>\n",
       "</table>\n",
       "<p>5 rows × 23 columns</p>\n",
       "</div>"
      ],
      "text/plain": [
       "   original index  PROJECT_ID  \\\n",
       "0               0       89996   \n",
       "1               1       89997   \n",
       "2               2       89998   \n",
       "3               3       89999   \n",
       "4               4       90000   \n",
       "\n",
       "                                            ABSTRACT    FY  \\\n",
       "0  This is a project to explore Game-based, Metap...  2008   \n",
       "1  Institution: Franklin Institute Science Museum...  2008   \n",
       "2  Through programs (including small group conver...  2008   \n",
       "3  In partnership with the American Chemical Soci...  2008   \n",
       "4  Amphibian populations around the world are exp...  2008   \n",
       "\n",
       "                                          FIRST_CHAR LAST_CHAR DEPARTMENT  \\\n",
       "0  This is a project to explore Game-based, Metap...         .        NSF   \n",
       "1  Institution: Franklin Institute Science Museum...         .        NSF   \n",
       "2  Through programs (including small group conver...         .        NSF   \n",
       "3  In partnership with the American Chemical Soci...         .        NSF   \n",
       "4  Amphibian populations around the world are exp...         .        NSF   \n",
       "\n",
       "  AGENCY IC_CENTER PROJECT_NUMBER  \\\n",
       "0    NSF       NaN        0814512   \n",
       "1    NSF       NaN        0741659   \n",
       "2    NSF       NaN        0813522   \n",
       "3    NSF       NaN        0838627   \n",
       "4    NSF       NaN        0815315   \n",
       "\n",
       "                         ...                          \\\n",
       "0                        ...                           \n",
       "1                        ...                           \n",
       "2                        ...                           \n",
       "3                        ...                           \n",
       "4                        ...                           \n",
       "\n",
       "                                   OTHER_PIS  \\\n",
       "0  CARTER, BEVERLY; WOOD, CHARLES; HITT, BEN   \n",
       "1                ELINICH, KAREN; YOON, SUSAN   \n",
       "2        CADIGAN, KAREN; ELLENBOGEN, KIRSTEN   \n",
       "3         MILLER, BRADLEY; BOWMAN, KATHERINE   \n",
       "4                                        NaN   \n",
       "\n",
       "                                   ORGANIZATION_NAME CFDA_CODE FY_TOTAL_COST  \\\n",
       "0                         WHEELING JESUIT UNIVERSITY    47.076     1999467.0   \n",
       "1                                 FRANKLIN INSTITUTE    47.076     1799699.0   \n",
       "2                        SCIENCE MUSEUM OF MINNESOTA    47.076     1505858.0   \n",
       "3  INTERNATIONAL UNION OF PURE AND APPLIED CHEMISTRY    47.049       51000.0   \n",
       "4                          CORNELL UNIVERSITY ITHACA    47.074      370996.0   \n",
       "\n",
       "                                    working_abstract Start Char  \\\n",
       "0  This is a project to explore Game-based, Metap...          T   \n",
       "1  Institution: Franklin Institute Science Museum...          I   \n",
       "2  Through programs (including small group conver...          T   \n",
       "3  In partnership with the American Chemical Soci...          I   \n",
       "4  Amphibian populations around the world are exp...          A   \n",
       "\n",
       "                                   tokened_abstracts  \\\n",
       "0  [this, project, explore, game, based, metaphor...   \n",
       "1  [institution, franklin, institute, science, mu...   \n",
       "2  [through, programs, including, small, group, c...   \n",
       "3  [partnership, with, the, american, chemical, s...   \n",
       "4  [amphibian, populations, around, the, world, a...   \n",
       "\n",
       "                                 tokened_docs_nostop  \\\n",
       "0  [explore, game, based, metaphor, enhanced, gam...   \n",
       "1  [franklin, institute, science, museum, snyder,...   \n",
       "2  [programs, small, group, conversations, citize...   \n",
       "3  [partnership, american, chemical, society, acs...   \n",
       "4  [amphibian, populations, around, world, experi...   \n",
       "\n",
       "                                     tns_bi_tri_docs  \\\n",
       "0  [explore, game, based, metaphor, enhanced, gam...   \n",
       "1  [franklin_institute, science, museum, snyder, ...   \n",
       "2  [programs, small, group, conversations, citize...   \n",
       "3  [partnership, american, chemical, society, acs...   \n",
       "4  [amphibian, populations, around_world, experie...   \n",
       "\n",
       "                                     lemma_abstracts  \n",
       "0  [explore, game, base, metaphor, enhanced, game...  \n",
       "1  [franklin_institute, science, museum, snyder, ...  \n",
       "2  [program, small, group, conversation, citizen,...  \n",
       "3  [partnership, american, chemical, society, ac,...  \n",
       "4  [amphibian, population, around_world, experien...  \n",
       "\n",
       "[5 rows x 23 columns]"
      ]
     },
     "execution_count": 16,
     "metadata": {},
     "output_type": "execute_result"
    }
   ],
   "source": [
    "df.head()"
   ]
  },
  {
   "cell_type": "code",
   "execution_count": 19,
   "metadata": {},
   "outputs": [],
   "source": [
    "# save this df\n",
    "\n",
    "df.to_pickle(\"./entire_data_set.pkl\")"
   ]
  },
  {
   "cell_type": "code",
   "execution_count": 7,
   "metadata": {},
   "outputs": [],
   "source": [
    "# import saved data\n",
    "\n",
    "df = pd.read_pickle(\"./entire_data_set.pkl\")"
   ]
  },
  {
   "cell_type": "markdown",
   "metadata": {},
   "source": [
    "### Create Train and Test Sets\n",
    "\n",
    "#### 8 Agencies - HHS, NSF, USDA, NASA, DOD, VA, EPA, ED"
   ]
  },
  {
   "cell_type": "code",
   "execution_count": 8,
   "metadata": {},
   "outputs": [
    {
     "data": {
      "text/plain": [
       "['HHS', 'NSF', 'USDA', 'NASA', 'DOD', 'VA', 'EPA', 'ED']"
      ]
     },
     "execution_count": 8,
     "metadata": {},
     "output_type": "execute_result"
    }
   ],
   "source": [
    "dept_percent = df['DEPARTMENT'].value_counts()/len(df)\n",
    "dept_percent.index.tolist()"
   ]
  },
  {
   "cell_type": "code",
   "execution_count": 23,
   "metadata": {},
   "outputs": [],
   "source": [
    "# create train and test sets\n",
    "\n",
    "agency_list = dept_percent.index.tolist() #['HHS', 'NSF', 'USDA', 'NASA', 'DOD', 'VA', 'EPA', 'ED']\n",
    "\n",
    "train_idx = []\n",
    "test_idx = []\n",
    "split_percent = 0.6\n",
    "\n",
    "for agency in agency_list:\n",
    "\n",
    "    # find indices for specific department\n",
    "    idx = df[df['DEPARTMENT']==agency].index.tolist()\n",
    "\n",
    "    # find a random subset of indices from each agency\n",
    "    # first 80% of indices: train set\n",
    "    # last 20% of indices: test set\n",
    "    \n",
    "    rand_idx = random.sample(idx, len(idx))\n",
    "    test_train_split = int(split_percent*len(idx))\n",
    "    \n",
    "    train_idx.append(rand_idx[:test_train_split])\n",
    "    test_idx.append(rand_idx[test_train_split:])\n",
    "\n",
    "# create one list from list of lists for train_idx and test_idx\n",
    "flat_train_idx = [ix for idx_list in train_idx for ix in idx_list]\n",
    "flat_test_idx = [ix for idx_list in test_idx for ix in idx_list]\n",
    "        \n",
    "# create train and test sets\n",
    "train_df = df.loc[flat_train_idx]\n",
    "test_df = df.loc[flat_test_idx]\n"
   ]
  },
  {
   "cell_type": "code",
   "execution_count": 3,
   "metadata": {},
   "outputs": [],
   "source": [
    "# save/read train & test df's\n",
    "\n",
    "#train_df.to_pickle(\"./train_df.pkl\")\n",
    "#test_df.to_pickle(\"./test_df.pkl\")\n",
    "\n",
    "train_df = pd.read_pickle(\"./train_df.pkl\")\n",
    "test_df = pd.read_pickle(\"./test_df.pkl\")"
   ]
  },
  {
   "cell_type": "code",
   "execution_count": null,
   "metadata": {},
   "outputs": [],
   "source": []
  },
  {
   "cell_type": "code",
   "execution_count": null,
   "metadata": {},
   "outputs": [],
   "source": []
  },
  {
   "cell_type": "code",
   "execution_count": 4,
   "metadata": {},
   "outputs": [
    {
     "data": {
      "text/plain": [
       "HHS     0.682531\n",
       "NSF     0.211805\n",
       "USDA    0.049633\n",
       "NASA    0.029097\n",
       "DOD     0.012635\n",
       "VA      0.008835\n",
       "EPA     0.002820\n",
       "ED      0.002645\n",
       "Name: DEPARTMENT, dtype: float64"
      ]
     },
     "execution_count": 4,
     "metadata": {},
     "output_type": "execute_result"
    }
   ],
   "source": [
    "train_df['DEPARTMENT'].value_counts()/len(train_df)"
   ]
  },
  {
   "cell_type": "code",
   "execution_count": 5,
   "metadata": {},
   "outputs": [
    {
     "data": {
      "text/plain": [
       "HHS     0.682500\n",
       "NSF     0.211800\n",
       "USDA    0.049637\n",
       "NASA    0.029104\n",
       "DOD     0.012643\n",
       "VA      0.008835\n",
       "EPA     0.002827\n",
       "ED      0.002654\n",
       "Name: DEPARTMENT, dtype: float64"
      ]
     },
     "execution_count": 5,
     "metadata": {},
     "output_type": "execute_result"
    }
   ],
   "source": [
    "test_df['DEPARTMENT'].value_counts()/len(test_df)"
   ]
  },
  {
   "cell_type": "code",
   "execution_count": 6,
   "metadata": {},
   "outputs": [
    {
     "data": {
      "text/plain": [
       "HHS     75088\n",
       "NSF     23302\n",
       "USDA     5461\n",
       "NASA     3202\n",
       "DOD      1391\n",
       "VA        972\n",
       "EPA       311\n",
       "ED        292\n",
       "Name: DEPARTMENT, dtype: int64"
      ]
     },
     "execution_count": 6,
     "metadata": {},
     "output_type": "execute_result"
    }
   ],
   "source": [
    "test_df['DEPARTMENT'].value_counts()"
   ]
  },
  {
   "cell_type": "code",
   "execution_count": 19,
   "metadata": {},
   "outputs": [
    {
     "data": {
      "text/plain": [
       "HHS     0.682525\n",
       "NSF     0.211804\n",
       "USDA    0.049634\n",
       "NASA    0.029098\n",
       "DOD     0.012637\n",
       "VA      0.008835\n",
       "EPA     0.002821\n",
       "ED      0.002647\n",
       "Name: DEPARTMENT, dtype: float64"
      ]
     },
     "execution_count": 19,
     "metadata": {},
     "output_type": "execute_result"
    }
   ],
   "source": [
    "dept_percent"
   ]
  },
  {
   "cell_type": "code",
   "execution_count": null,
   "metadata": {},
   "outputs": [],
   "source": []
  },
  {
   "cell_type": "code",
   "execution_count": null,
   "metadata": {},
   "outputs": [],
   "source": []
  },
  {
   "cell_type": "markdown",
   "metadata": {},
   "source": [
    "If we decide to use an evenly split test/train set:\n",
    "\n",
    "The agency with the least amount of abstracts is ED with 1456.  \n",
    "80%-20% split:  \n",
    "- training set: 1164\n",
    "- testing set: 292 \n",
    "\n",
    "So, the largest training set we could have is 1164 abstracts from each of the 8 agencies: 1164\\*8 = 9,312  \n",
    "and the largest test set we could have is 292\\*8 = 2,336."
   ]
  }
 ],
 "metadata": {
  "kernelspec": {
   "display_name": "Python 3",
   "language": "python",
   "name": "python3"
  },
  "language_info": {
   "codemirror_mode": {
    "name": "ipython",
    "version": 3
   },
   "file_extension": ".py",
   "mimetype": "text/x-python",
   "name": "python",
   "nbconvert_exporter": "python",
   "pygments_lexer": "ipython3",
   "version": "3.6.8"
  }
 },
 "nbformat": 4,
 "nbformat_minor": 2
}
