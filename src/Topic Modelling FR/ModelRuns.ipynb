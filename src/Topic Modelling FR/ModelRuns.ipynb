{
 "cells": [
  {
   "cell_type": "markdown",
   "metadata": {},
   "source": [
    "# Model Runs\n",
    "\n",
    "Sam - let me know if you have any questions!  \n",
    "\n",
    "This script loads data, prepares it for LDA in Scikit-Learn, and then runs LDA multiple times. It also provides examples of how to pull the topic-term distribution and perplexity from each model. "
   ]
  },
  {
   "cell_type": "code",
   "execution_count": 2,
   "metadata": {},
   "outputs": [],
   "source": [
    "import pandas as pd\n",
    "import numpy as np\n",
    "import pickle\n",
    "import time\n",
    "from sklearn.decomposition import NMF, TruncatedSVD, LatentDirichletAllocation\n",
    "from sklearn.feature_extraction.text import CountVectorizer\n"
   ]
  },
  {
   "cell_type": "code",
   "execution_count": 3,
   "metadata": {},
   "outputs": [],
   "source": [
    "docs=pd.read_csv('/project/biocomplexity/sdad/projects_data/ncses/prd/RND Topic Modelling/NSF_data.csv')['lemma_abstracts']"
   ]
  },
  {
   "cell_type": "code",
   "execution_count": 4,
   "metadata": {},
   "outputs": [],
   "source": [
    "# input needed here is one string per document (not a list of strings)\n",
    "\n",
    "text = []\n",
    "i=0\n",
    "for doc in docs:\n",
    "    text.append(doc.replace('\\'','').replace(',','')[1:-1])"
   ]
  },
  {
   "cell_type": "code",
   "execution_count": 5,
   "metadata": {},
   "outputs": [],
   "source": [
    "# form document-term matrix -- input for LDA in Scikit-Learn\n",
    "\n",
    "vectorizer = CountVectorizer(max_df=0.4, min_df=3, lowercase=False, max_features=int(len(docs)/2))\n",
    "doc_term_matrix = vectorizer.fit_transform(text)"
   ]
  },
  {
   "cell_type": "code",
   "execution_count": 6,
   "metadata": {},
   "outputs": [],
   "source": [
    "lda_model = LatentDirichletAllocation(n_components=50, doc_topic_prior = 1/50, \n",
    "                                              topic_word_prior=0.1, n_jobs=39,learning_method='batch',random_state=2)\n",
    "lda_model.fit_transform(doc_term_matrix)\n",
    "chosen_model=lda_model"
   ]
  },
  {
   "cell_type": "code",
   "execution_count": 7,
   "metadata": {},
   "outputs": [
    {
     "data": {
      "text/plain": [
       "50"
      ]
     },
     "execution_count": 7,
     "metadata": {},
     "output_type": "execute_result"
    }
   ],
   "source": [
    "len(chosen_model.components_)"
   ]
  },
  {
   "cell_type": "code",
   "execution_count": 8,
   "metadata": {},
   "outputs": [],
   "source": []
  },
  {
   "cell_type": "code",
   "execution_count": 9,
   "metadata": {},
   "outputs": [],
   "source": [
    "output=chosen_model.transform(doc_term_matrix)\n",
    "doc_topic_matrix=pd.DataFrame(output,columns=['Topic_'+str(x) for x in range(50)])"
   ]
  },
  {
   "cell_type": "code",
   "execution_count": 96,
   "metadata": {},
   "outputs": [
    {
     "data": {
      "text/plain": [
       "0         ['explore', 'game', 'base', 'metaphor', 'enhan...\n",
       "1         ['science', 'museum', 'snyder', 'steve', 'drl'...\n",
       "2         ['program', 'small', 'group', 'conversation', ...\n",
       "3         ['partnership', 'american', 'chemical', 'socie...\n",
       "4         ['amphibian', 'population', 'around_world', 'e...\n",
       "5         ['center', 'molecular', 'interfacing', 'cmi', ...\n",
       "6         ['dru', 'integrate', 'optimization', 'evacuati...\n",
       "7         ['foc', 'international', 'collaborative', 'goa...\n",
       "8         ['goal', 'reconstruct', 'low', 'frequency', 'b...\n",
       "9         ['propose', 'workshop', 'bring_together', 'mul...\n",
       "10        ['past', 'century', 'rapid', 'growth', 'human'...\n",
       "11        ['united_states', 'past', 'decade', 'see', 'ex...\n",
       "12        ['ohio', 'state', 'university', 'college', 'ed...\n",
       "13        ['empirical', 'examines', 'variety', 'material...\n",
       "14        ['multidisciplinary', 'draw', 'sociology', 'co...\n",
       "15        ['phylogenetic_trees', 'depict', 'genealogical...\n",
       "16        ['small', 'scale', 'experimental', 'classroom'...\n",
       "17        ['university', 'colorado', 'establish', 'distr...\n",
       "18        ['goal', 'investigate', 'joint', 'influence', ...\n",
       "19        ['terc', 'partner', 'toxics', 'action', 'cente...\n",
       "20        ['scientist', 'inventor', 'writer', 'creator',...\n",
       "21        ['propose', 'empirical', 'fall', 'contextual',...\n",
       "22        ['pruden', 'research', 'open', 'new', 'paradig...\n",
       "23        ['involves', 'galois', 'group', 'extension', '...\n",
       "24        ['grassland', 'degradation', 'global', 'concer...\n",
       "25        ['physical', 'model', 'achieve', 'realistic', ...\n",
       "26        ['mps_dmr_bmat', 'leckband', 'deborah', 'org',...\n",
       "27        ['support', 'expansion', 'continuation', 'succ...\n",
       "28        ['specie', 'carabid', 'beetle', 'genus', 'paus...\n",
       "29        ['collaborative', 'research', 'computational',...\n",
       "                                ...                        \n",
       "116445    ['national', 'science', 'foundation', 'provide...\n",
       "116446    ['university', 'hawai', 'propose', 'host', 'tr...\n",
       "116447    ['broad', 'impact', 'commercial', 'potential',...\n",
       "116448    ['goal', 'international_geotraces', 'program',...\n",
       "116449    ['polymer', 'important', 'industrial', 'materi...\n",
       "116450    ['support', 'day', 'conference', 'geometry_top...\n",
       "116451    ['trait', 'organisms', 'enhance', 'rate', 'dis...\n",
       "116452    ['objective', 'construct', 'comprehensive', 'm...\n",
       "116453    ['distribute', 'constraint', 'optimization', '...\n",
       "116454    ['mobile_phones_tablets', 'widely', 'use', 'wi...\n",
       "116455    ['qingzhu', 'wang', 'colleague', 'investigate'...\n",
       "116456    ['broad', 'impact', 'commercial', 'potential',...\n",
       "116457    ['broad', 'impact', 'commercial', 'potential',...\n",
       "116458    ['last', 'ice', 'age', 'episodes', 'expand', '...\n",
       "116459    ['hybridization', 'occur', 'member', 'differen...\n",
       "116460    ['nsf', 'big', 'data', 'innovation', 'hubs', '...\n",
       "116461    ['focus', 'chronic', 'vivo', 'brain', 'neuropo...\n",
       "116462    ['midwest', 'conference', 'representation', 't...\n",
       "116463    ['fund', 'participation', 'researcher', 'inter...\n",
       "116464    ['rapid', 'response', 'research', 'rapid', 'ma...\n",
       "116465    ['workshop', 'entitle', 'schedule', 'hold', 's...\n",
       "116466    ['technical', 'non', 'technical_abstractfunds_...\n",
       "116467    ['allen', 'southeast', 'texas_houston', 'globa...\n",
       "116468    ['environmental', 'chemical', 'science', 'prog...\n",
       "116469    ['focus', 'telomerase', 'enzyme', 'responsible...\n",
       "116470    ['broad', 'impact', 'commercial', 'potential',...\n",
       "116471    ['broad', 'impact', 'commercial', 'potential',...\n",
       "116472    ['lamontagne', 'gentry', 'floodwaters', 'gener...\n",
       "116473    ['lamontagne', 'gentry', 'floodwaters', 'gener...\n",
       "116474    ['broad', 'impact', 'commercial', 'potential',...\n",
       "Name: lemma_abstracts, Length: 116475, dtype: object"
      ]
     },
     "execution_count": 96,
     "metadata": {},
     "output_type": "execute_result"
    }
   ],
   "source": [
    "docs"
   ]
  },
  {
   "cell_type": "code",
   "execution_count": 93,
   "metadata": {},
   "outputs": [
    {
     "ename": "NameError",
     "evalue": "name 'df' is not defined",
     "output_type": "error",
     "traceback": [
      "\u001b[0;31m---------------------------------------------------------------------------\u001b[0m",
      "\u001b[0;31mNameError\u001b[0m                                 Traceback (most recent call last)",
      "\u001b[0;32m<ipython-input-93-9e112543b788>\u001b[0m in \u001b[0;36m<module>\u001b[0;34m()\u001b[0m\n\u001b[0;32m----> 1\u001b[0;31m \u001b[0mlen\u001b[0m\u001b[0;34m(\u001b[0m\u001b[0mdf\u001b[0m\u001b[0;34m)\u001b[0m\u001b[0;34m\u001b[0m\u001b[0;34m\u001b[0m\u001b[0m\n\u001b[0m",
      "\u001b[0;31mNameError\u001b[0m: name 'df' is not defined"
     ]
    }
   ],
   "source": [
    "len(df)"
   ]
  },
  {
   "cell_type": "code",
   "execution_count": 75,
   "metadata": {},
   "outputs": [],
   "source": [
    "# Function to compute multiple models \n",
    "\n",
    "#function copied from https://datascienceplus.com/evaluation-of-topic-modeling-topic-coherence/\n",
    "# minor alterations made\n",
    "\n",
    "def model_runs(doc_term_matrix, num_runs, num_topics):\n",
    "    \"\"\"\n",
    "    Create and save n models\n",
    "\n",
    "    Parameters:\n",
    "    ----------\n",
    "    doc_term_matrix \n",
    "    num_runs : number of models to create\n",
    "    num_topics: number of topics to use in each model\n",
    "\n",
    "    Returns:\n",
    "    -------\n",
    "    model_list : List of LDA topic models\n",
    "    \"\"\"\n",
    "\n",
    "    model_list = []\n",
    "    \n",
    "    for i in range(num_runs):\n",
    "        lda_model = LatentDirichletAllocation(n_components=num_topics, doc_topic_prior = 1/num_topics, \n",
    "                                              topic_word_prior=0.1, n_jobs=39,learning_method='batch',random_state=i)\n",
    "        lda_model.fit_transform(doc_term_matrix)\n",
    "        model_list.append(lda_model)\n",
    "      \n",
    "        print('Iteration', i, \"complete.\")\n",
    "\n",
    "    return model_list "
   ]
  },
  {
   "cell_type": "code",
   "execution_count": 63,
   "metadata": {},
   "outputs": [
    {
     "name": "stdout",
     "output_type": "stream",
     "text": [
      "Iteration 0 complete.\n",
      "Iteration 1 complete.\n",
      "Iteration 2 complete.\n",
      "Iteration 3 complete.\n",
      "Iteration 4 complete.\n",
      "Iteration 5 complete.\n",
      "Iteration 6 complete.\n",
      "Iteration 7 complete.\n",
      "Iteration 8 complete.\n",
      "Iteration 9 complete.\n"
     ]
    }
   ],
   "source": [
    "# example of function use\n",
    "\n",
    "models = model_runs(doc_term_matrix, num_runs=10, num_topics=50)"
   ]
  },
  {
   "cell_type": "code",
   "execution_count": 78,
   "metadata": {},
   "outputs": [
    {
     "data": {
      "text/plain": [
       "2077.5729556204137"
      ]
     },
     "execution_count": 78,
     "metadata": {},
     "output_type": "execute_result"
    }
   ],
   "source": [
    "chosen_model.bound_"
   ]
  },
  {
   "cell_type": "code",
   "execution_count": 65,
   "metadata": {},
   "outputs": [
    {
     "name": "stdout",
     "output_type": "stream",
     "text": [
      "2101.1271055990824\n",
      "[2101.1271055990824, 2100.9864867505976, 2077.5729556204137, 2088.873564643355, 2085.042812898538, 2106.134231659918, 2090.0627055269097, 2089.3296967147153, 2085.4422353844175, 2085.8664234939506]\n"
     ]
    }
   ],
   "source": [
    "# Example of getting perplexity from model 0\n",
    "\n",
    "perplexity = models[0].bound_\n",
    "print(perplexity)\n",
    "\n",
    "print([model.bound_ for model in models])"
   ]
  },
  {
   "cell_type": "code",
   "execution_count": 12,
   "metadata": {},
   "outputs": [
    {
     "data": {
      "text/plain": [
       "(array([1., 1., 1., 0., 0., 2., 1., 0., 3., 1.]),\n",
       " array([2077.49665419, 2079.6736491 , 2081.85064401, 2084.02763891,\n",
       "        2086.20463382, 2088.38162873, 2090.55862364, 2092.73561854,\n",
       "        2094.91261345, 2097.08960836, 2099.26660327]),\n",
       " <a list of 10 Patch objects>)"
      ]
     },
     "execution_count": 12,
     "metadata": {},
     "output_type": "execute_result"
    },
    {
     "data": {
      "image/png": "[encoded data removed]",
      "text/plain": [
       "<Figure size 432x288 with 1 Axes>"
      ]
     },
     "metadata": {},
     "output_type": "display_data"
    }
   ],
   "source": [
    "import matplotlib.pyplot as plt\n",
    "plt.hist([model.bound_ for model in models])"
   ]
  },
  {
   "cell_type": "code",
   "execution_count": null,
   "metadata": {},
   "outputs": [],
   "source": []
  },
  {
   "cell_type": "code",
   "execution_count": 14,
   "metadata": {},
   "outputs": [],
   "source": [
    "# Function to print out topics with terms - no built in for Scikit-Learn!\n",
    "\n",
    "# function slightly modified from https://nlpforhackers.io/topic-modeling/\n",
    "\n",
    "def print_topics(model, vectorizer, top_n=10):\n",
    "    for idx, topic in enumerate(model.components_):  # loop through each row of H.  idx = row index.  topic = actual row\n",
    "        print(\"\\nTopic %d:\" % (idx))\n",
    "        #print([(vectorizer.get_feature_names()[i], topic[i])  # printing out words corresponding to indices found in next line\n",
    "                        #for i in topic.argsort()[:-top_n - 1:-1]])  # finding indices of top words in topic\n",
    "            \n",
    "        print_list = [(vectorizer.get_feature_names()[i], topic[i])  \n",
    "                        for i in topic.argsort()[:-top_n - 1:-1]]\n",
    "        for item in print_list:\n",
    "            print(item)\n",
    "        "
   ]
  },
  {
   "cell_type": "code",
   "execution_count": 67,
   "metadata": {},
   "outputs": [],
   "source": [
    "n_words=30\n",
    "n_topics=50\n",
    "\n",
    "def topics_to_dataframe(model, vectorizer, top_n=10):\n",
    "    all_topics=[]\n",
    "    for idx, topic in enumerate(model.components_):  # loop through each row of H.  idx = row index.  topic = actual row\n",
    "        #print(\"\\nTopic %d:\" % (idx))\n",
    "        #print([(vectorizer.get_feature_names()[i], topic[i])  # printing out words corresponding to indices found in next line\n",
    "                        #for i in topic.argsort()[:-top_n - 1:-1]])  # finding indices of top words in topic\n",
    "            \n",
    "        print_list = [(vectorizer.get_feature_names()[i], topic[i])  \n",
    "                        for i in topic.argsort()[:-top_n - 1:-1]]\n",
    "        all_topics.append(print_list)\n",
    "    return all_topics\n",
    "\n",
    "#Compare your outputs for 10 runs\n",
    "model_df_list=[]\n",
    "for idx in range(10):\n",
    "    output=topics_to_dataframe(models[idx],vectorizer,top_n=n_words)\n",
    "    model_df=pd.DataFrame(output,index=[['Topic'+str(x) for x in range(n_topics)]])\n",
    "    model_df=model_df.T.set_index(pd.MultiIndex.from_tuples([('Model '+str(idx),'Word '+str(x)) for x in range(n_words)]))\n",
    "    model_df_list.append(model_df)\n",
    "master_df=pd.concat(model_df_list)\n",
    "master_df.to_csv('Term-Topic Ouputs for NSF 10 Model 50 Topic Per Model Run.csv')\n",
    "\n",
    "#Chosen Model Output\n",
    "output=topics_to_dataframe(chosen_model,vectorizer,top_n=n_words)\n",
    "model_df=pd.DataFrame(output,index=[['Topic'+str(x) for x in range(n_topics)]])\n",
    "model_df=model_df.T.set_index(pd.MultiIndex.from_tuples([('Model '+str(2),'Word '+str(x)) for x in range(n_words)]))\n",
    "model_df.to_csv('OutputOfChosenNSF50Model.csv')"
   ]
  },
  {
   "cell_type": "code",
   "execution_count": 12,
   "metadata": {},
   "outputs": [
    {
     "name": "stderr",
     "output_type": "stream",
     "text": [
      "/apps/software/standard/core/jupyter_conda/5.2.0-py3.6/lib/python3.6/site-packages/IPython/core/interactiveshell.py:2785: DtypeWarning: Columns (9,16) have mixed types. Specify dtype option on import or set low_memory=False.\n",
      "  interactivity=interactivity, compiler=compiler, result=result)\n"
     ]
    }
   ],
   "source": [
    "admin=pd.read_csv('/project/biocomplexity/sdad/projects_data/ncses/prd/RND Topic Modelling/FRAbstractsProcessed.csv')\n",
    "nsf_admin=admin.loc[admin['AGENCY']=='NSF']\n",
    "#Make sure your rows are identical\n",
    "(nsf_admin['lemma_abstracts'].reset_index()['lemma_abstracts']==docs).value_counts()\n",
    "pd.concat([nsf_admin[['PROJECT_ID', 'ABSTRACT', 'FY',\n",
    "        'DEPARTMENT', 'AGENCY', 'IC_CENTER',\n",
    "       'PROJECT_NUMBER', 'PROJECT_TITLE', 'PROJECT_TERMS',\n",
    "       'CONTACT_PI_PROJECT_LEADER', 'OTHER_PIS', 'ORGANIZATION_NAME',\n",
    "       'CFDA_CODE', 'FY_TOTAL_COST', 'working_abstract', \n",
    "       'tokened_abstracts', 'tokened_docs_nostop', 'tns_bi_tri_docs',\n",
    "       'lemma_abstracts']].reset_index(),doc_topic_matrix],axis=1).to_csv('FinalNSFTopicDataFrame.csv')"
   ]
  },
  {
   "cell_type": "code",
   "execution_count": 27,
   "metadata": {},
   "outputs": [],
   "source": []
  },
  {
   "cell_type": "code",
   "execution_count": null,
   "metadata": {},
   "outputs": [],
   "source": []
  }
 ],
 "metadata": {
  "kernelspec": {
   "display_name": "env_full",
   "language": "python",
   "name": "env_full"
  },
  "language_info": {
   "codemirror_mode": {
    "name": "ipython",
    "version": 3
   },
   "file_extension": ".py",
   "mimetype": "text/x-python",
   "name": "python",
   "nbconvert_exporter": "python",
   "pygments_lexer": "ipython3",
   "version": "3.6.8"
  }
 },
 "nbformat": 4,
 "nbformat_minor": 4
}
