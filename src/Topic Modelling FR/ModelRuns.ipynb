{
 "cells": [
  {
   "cell_type": "markdown",
   "metadata": {},
   "source": [
    "# Model Runs\n",
    "\n",
    "Sam - let me know if you have any questions!  \n",
    "\n",
    "This script loads data, prepares it for LDA in Scikit-Learn, and then runs LDA multiple times. It also provides examples of how to pull the topic-term distribution and perplexity from each model. "
   ]
  },
  {
   "cell_type": "code",
   "execution_count": 1,
   "metadata": {},
   "outputs": [],
   "source": [
    "import pandas as pd\n",
    "import numpy as np\n",
    "import pickle\n",
    "import matplotlib.pyplot as plt\n",
    "import gensim\n",
    "import time\n",
    "\n",
    "from sklearn.decomposition import NMF, TruncatedSVD, LatentDirichletAllocation\n",
    "from sklearn.feature_extraction.text import CountVectorizer\n",
    "from sklearn.feature_extraction.text import TfidfVectorizer\n",
    "\n",
    "from gensim.models.coherencemodel import CoherenceModel"
   ]
  },
  {
   "cell_type": "code",
   "execution_count": 2,
   "metadata": {},
   "outputs": [],
   "source": [
    "# import NSF data\n",
    "f = open('/project/biocomplexity/sdad/projects_data/ncses/prd/RND Topic Modelling/agency_data.sav', 'rb')\n",
    "\n",
    "# import entire dataset\n",
    "#f = open('/project/biocomplexity/sdad/projects_data/ncses/prd/RND Topic Modelling/lda_data.sav', 'rb')\n",
    "\n",
    "[corpus, id2word, docs] = pickle.load(f)\n",
    "f.close()\n",
    "\n",
    "# corpus - word frequency in docs\n",
    "# id2word - dictionary\n",
    "# docs - lemmatized abstracts\n"
   ]
  },
  {
   "cell_type": "code",
   "execution_count": 3,
   "metadata": {},
   "outputs": [],
   "source": [
    "# input needed here is one string per document (not a list of strings)\n",
    "\n",
    "text = []\n",
    "i=0\n",
    "for doc in docs:\n",
    "    text.append(\" \".join(doc))"
   ]
  },
  {
   "cell_type": "code",
   "execution_count": 4,
   "metadata": {},
   "outputs": [],
   "source": [
    "# form document-term matrix -- input for LDA in Scikit-Learn\n",
    "\n",
    "vectorizer = CountVectorizer(max_df=0.4, min_df=3, lowercase=False, max_features=int(len(docs)/2))\n",
    "doc_term_matrix = vectorizer.fit_transform(text)"
   ]
  },
  {
   "cell_type": "code",
   "execution_count": 5,
   "metadata": {},
   "outputs": [],
   "source": [
    "# Function to compute multiple models \n",
    "\n",
    "#function copied from https://datascienceplus.com/evaluation-of-topic-modeling-topic-coherence/\n",
    "# minor alterations made\n",
    "\n",
    "def model_runs(doc_term_matrix, num_runs, num_topics):\n",
    "    \"\"\"\n",
    "    Create and save n models\n",
    "\n",
    "    Parameters:\n",
    "    ----------\n",
    "    doc_term_matrix \n",
    "    num_runs : number of models to create\n",
    "    num_topics: number of topics to use in each model\n",
    "\n",
    "    Returns:\n",
    "    -------\n",
    "    model_list : List of LDA topic models\n",
    "    \"\"\"\n",
    "\n",
    "    model_list = []\n",
    "    \n",
    "    for i in range(num_runs):\n",
    "        \n",
    "        lda_model = LatentDirichletAllocation(n_components=num_topics, doc_topic_prior = 1/num_topics, \n",
    "                                              topic_word_prior=0.1, n_jobs=39, random_state=i)\n",
    "        lda_model.fit_transform(doc_term_matrix)\n",
    "        model_list.append(lda_model)\n",
    "      \n",
    "        print('Iteration', i, \"complete.\")\n",
    "\n",
    "    return model_list "
   ]
  },
  {
   "cell_type": "code",
   "execution_count": 6,
   "metadata": {},
   "outputs": [
    {
     "name": "stdout",
     "output_type": "stream",
     "text": [
      "Iteration 0 complete.\n",
      "Iteration 1 complete.\n",
      "Iteration 2 complete.\n",
      "Iteration 3 complete.\n",
      "Iteration 4 complete.\n",
      "Iteration 5 complete.\n",
      "Iteration 6 complete.\n",
      "Iteration 7 complete.\n",
      "Iteration 8 complete.\n",
      "Iteration 9 complete.\n"
     ]
    }
   ],
   "source": [
    "# example of function use\n",
    "\n",
    "models = model_runs(doc_term_matrix, num_runs=10, num_topics=60)"
   ]
  },
  {
   "cell_type": "code",
   "execution_count": null,
   "metadata": {},
   "outputs": [],
   "source": [
    "# Example of getting perplexity from model 0\n",
    "\n",
    "perplexity = models[0].bound_\n",
    "print(perplexity)"
   ]
  },
  {
   "cell_type": "code",
   "execution_count": null,
   "metadata": {},
   "outputs": [],
   "source": [
    "# Example of getting term-topic distribution from model 0\n",
    "\n",
    "TT = models[0].components_\n",
    "print(TT)"
   ]
  },
  {
   "cell_type": "code",
   "execution_count": null,
   "metadata": {},
   "outputs": [],
   "source": []
  },
  {
   "cell_type": "code",
   "execution_count": null,
   "metadata": {},
   "outputs": [],
   "source": [
    "# Function to print out topics with terms - no built in for Scikit-Learn!\n",
    "\n",
    "# function slightly modified from https://nlpforhackers.io/topic-modeling/\n",
    "\n",
    "def print_topics(model, vectorizer, top_n=10):\n",
    "    for idx, topic in enumerate(model.components_):  # loop through each row of H.  idx = row index.  topic = actual row\n",
    "        print(\"\\nTopic %d:\" % (idx))\n",
    "        #print([(vectorizer.get_feature_names()[i], topic[i])  # printing out words corresponding to indices found in next line\n",
    "                        #for i in topic.argsort()[:-top_n - 1:-1]])  # finding indices of top words in topic\n",
    "            \n",
    "        print_list = [(vectorizer.get_feature_names()[i], topic[i])  \n",
    "                        for i in topic.argsort()[:-top_n - 1:-1]]\n",
    "        for item in print_list:\n",
    "            print(item)\n",
    "        "
   ]
  },
  {
   "cell_type": "code",
   "execution_count": null,
   "metadata": {},
   "outputs": [],
   "source": [
    "# Example of function use to print out the top_n words for each topic\n",
    "\n",
    "print_topics(models[0], vectorizer, top_n=20)"
   ]
  },
  {
   "cell_type": "code",
   "execution_count": null,
   "metadata": {},
   "outputs": [],
   "source": []
  },
  {
   "cell_type": "code",
   "execution_count": null,
   "metadata": {},
   "outputs": [],
   "source": []
  },
  {
   "cell_type": "code",
   "execution_count": 7,
   "metadata": {},
   "outputs": [],
   "source": [
    "# save list of models \n",
    "\n",
    "pickle.dump([models], open('all_data_models.sav','wb'))"
   ]
  },
  {
   "cell_type": "code",
   "execution_count": 8,
   "metadata": {},
   "outputs": [],
   "source": [
    "n_words=30\n",
    "n_topics=60"
   ]
  },
  {
   "cell_type": "code",
   "execution_count": 9,
   "metadata": {},
   "outputs": [],
   "source": [
    "def topics_to_dataframe(model, vectorizer, top_n=10):\n",
    "    all_topics=[]\n",
    "    for idx, topic in enumerate(model.components_):  # loop through each row of H.  idx = row index.  topic = actual row\n",
    "        #print(\"\\nTopic %d:\" % (idx))\n",
    "        #print([(vectorizer.get_feature_names()[i], topic[i])  # printing out words corresponding to indices found in next line\n",
    "                        #for i in topic.argsort()[:-top_n - 1:-1]])  # finding indices of top words in topic\n",
    "        print_list = [(vectorizer.get_feature_names()[i], topic[i])\n",
    "                        for i in topic.argsort()[:-top_n - 1:-1]]\n",
    "        all_topics.append(print_list)\n",
    "    return all_topics"
   ]
  },
  {
   "cell_type": "code",
   "execution_count": 10,
   "metadata": {},
   "outputs": [],
   "source": [
    "#Compare your outputs for 10 runs\n",
    "\n",
    "model_df_list=[]\n",
    "for idx in range(10):\n",
    "    output=topics_to_dataframe(models[idx],vectorizer,top_n=n_words)\n",
    "    model_df=pd.DataFrame(output,index=[['Topic'+str(x) for x in range(n_topics)]])\n",
    "    model_df=model_df.T.set_index(pd.MultiIndex.from_tuples([('Model '+str(idx),'Word '+str(x)) for x in range(n_words)]))\n",
    "    model_df_list.append(model_df)\n",
    "master_df=pd.concat(model_df_list)\n",
    "\n",
    "# CHANGE FILE NAME in this line\n",
    "#master_df.to_csv('Term-Topic Ouputs for Entire Dataset 10 Model 60 Topic Per Model Run.csv')"
   ]
  },
  {
   "cell_type": "code",
   "execution_count": null,
   "metadata": {},
   "outputs": [],
   "source": [
    "#Chosen Model Output\n",
    "output=topics_to_dataframe(chosen_model,vectorizer,top_n=n_words)\n",
    "model_df=pd.DataFrame(output,index=[['Topic'+str(x) for x in range(n_topics)]])\n",
    "model_df=model_df.T.set_index(pd.MultiIndex.from_tuples([('Model '+str(2),'Word '+str(x)) for x in range(n_words)]))\n",
    "\n",
    "# CHANGE FILE NAME in this line\n",
    "#model_df.to_csv('OutputOfChosenAllData60Model.csv')"
   ]
  },
  {
   "cell_type": "code",
   "execution_count": null,
   "metadata": {},
   "outputs": [],
   "source": [
    "output=chosen_model.transform(doc_term_matrix)\n",
    "doc_topic_matrix=pd.DataFrame(output,columns=['Topic_'+str(x) for x in range(60)])\n",
    "admin=pd.read_csv('/project/biocomplexity/sdad/projects_data/ncses/prd/RND Topic Modelling/FRAbstractsProcessed.csv')\n",
    "#nsf_admin=admin.loc[admin['AGENCY']=='NSF']\n",
    "\n",
    "#Make sure your rows are identical\n",
    "(admin['lemma_abstracts'].reset_index()['lemma_abstracts']==docs).value_counts()\n",
    "\n",
    "# CHANGE FILE NAME in this line\n",
    "pd.concat([admin[['PROJECT_ID', 'ABSTRACT', 'FY',\n",
    "        'DEPARTMENT', 'AGENCY', 'IC_CENTER',\n",
    "       'PROJECT_NUMBER', 'PROJECT_TITLE', 'PROJECT_TERMS',\n",
    "       'CONTACT_PI_PROJECT_LEADER', 'OTHER_PIS', 'ORGANIZATION_NAME',\n",
    "       'CFDA_CODE', 'FY_TOTAL_COST', 'working_abstract',\n",
    "       'tokened_abstracts', 'tokened_docs_nostop', 'tns_bi_tri_docs',\n",
    "       'lemma_abstracts']].reset_index(),doc_topic_matrix],axis=1).to_csv(#'FinalAllDataTopicDataFrame.csv')"
   ]
  }
 ],
 "metadata": {
  "kernelspec": {
   "display_name": "Python 3",
   "language": "python",
   "name": "python3"
  },
  "language_info": {
   "codemirror_mode": {
    "name": "ipython",
    "version": 3
   },
   "file_extension": ".py",
   "mimetype": "text/x-python",
   "name": "python",
   "nbconvert_exporter": "python",
   "pygments_lexer": "ipython3",
   "version": "3.7.4"
  }
 },
 "nbformat": 4,
 "nbformat_minor": 4
}
