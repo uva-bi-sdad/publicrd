{
 "cells": [
  {
   "cell_type": "markdown",
   "metadata": {},
   "source": [
    "# Investigate randomness of NMF and LSA"
   ]
  },
  {
   "cell_type": "code",
   "execution_count": 121,
   "metadata": {},
   "outputs": [],
   "source": [
    "import pandas as pd\n",
    "import numpy as np\n",
    "import pickle\n",
    "import matplotlib.pyplot as plt\n",
    "import gensim\n",
    "import time\n",
    "\n",
    "from sklearn.decomposition import NMF, TruncatedSVD, LatentDirichletAllocation\n",
    "from sklearn.feature_extraction.text import CountVectorizer\n",
    "from sklearn.feature_extraction.text import TfidfVectorizer\n",
    "\n",
    "from gensim.models.coherencemodel import CoherenceModel"
   ]
  },
  {
   "cell_type": "code",
   "execution_count": 122,
   "metadata": {},
   "outputs": [],
   "source": [
    "# import NSF data\n",
    "f = open('../../data/prd/RND Topic Modelling/nsf_stanford_lemma.sav', 'rb')\n",
    "\n",
    "# import entire dataset\n",
    "#f = open('/project/biocomplexity/sdad/projects_data/ncses/prd/RND Topic Modelling/lda_data_stanford_lemma.sav', 'rb')\n",
    "\n",
    "[corpus, id2word, docs] = pickle.load(f)\n",
    "f.close()\n",
    "\n",
    "# corpus - word frequency in docs\n",
    "# id2word - dictionary\n",
    "# docs - lemmatized abstracts"
   ]
  },
  {
   "cell_type": "code",
   "execution_count": 123,
   "metadata": {},
   "outputs": [],
   "source": [
    "# input needed here is one string per document (not a list of strings)\n",
    "\n",
    "text = []\n",
    "i=0\n",
    "for doc in docs:\n",
    "    text.append(\" \".join(doc))"
   ]
  },
  {
   "cell_type": "code",
   "execution_count": 124,
   "metadata": {},
   "outputs": [],
   "source": [
    "# create doc-term tfidf matrix\n",
    "\n",
    "tfidf_vectorizer = TfidfVectorizer(max_df=0.4, min_df=3, lowercase=False, max_features=int(len(docs)/2))\n",
    "tf_idf = tfidf_vectorizer.fit_transform(text)"
   ]
  },
  {
   "cell_type": "code",
   "execution_count": 102,
   "metadata": {},
   "outputs": [],
   "source": [
    "nmf_model = NMF(n_components=5, random_state=5)\n",
    "W = nmf_model.fit_transform(tf_idf)\n",
    "H = nmf_model.components_"
   ]
  },
  {
   "cell_type": "code",
   "execution_count": 114,
   "metadata": {},
   "outputs": [],
   "source": [
    "nmf_model2 = NMF(n_components=6, random_state=5)\n",
    "W2 = nmf_model2.fit_transform(tf_idf)\n",
    "H2 = nmf_model2.components_"
   ]
  },
  {
   "cell_type": "code",
   "execution_count": 115,
   "metadata": {},
   "outputs": [
    {
     "data": {
      "text/plain": [
       "array([[0.02012892, 0.01615863, 0.        , 0.        , 0.        ],\n",
       "       [0.00622214, 0.03097469, 0.003554  , 0.        , 0.00362708],\n",
       "       [0.00395395, 0.01747157, 0.        , 0.00976837, 0.01302049],\n",
       "       ...,\n",
       "       [0.00254561, 0.        , 0.        , 0.02852103, 0.        ],\n",
       "       [0.002533  , 0.        , 0.        , 0.02837237, 0.        ],\n",
       "       [0.0241984 , 0.        , 0.0130397 , 0.        , 0.        ]])"
      ]
     },
     "execution_count": 115,
     "metadata": {},
     "output_type": "execute_result"
    }
   ],
   "source": [
    "W"
   ]
  },
  {
   "cell_type": "code",
   "execution_count": 116,
   "metadata": {},
   "outputs": [
    {
     "data": {
      "text/plain": [
       "array([[1.61829526e-02, 1.55547866e-02, 0.00000000e+00, 0.00000000e+00,\n",
       "        0.00000000e+00, 1.09278123e-02],\n",
       "       [9.02402473e-03, 2.83482114e-02, 3.40100632e-03, 0.00000000e+00,\n",
       "        5.73195524e-03, 0.00000000e+00],\n",
       "       [5.60817441e-03, 1.60504396e-02, 0.00000000e+00, 9.46092935e-03,\n",
       "        1.43719338e-02, 0.00000000e+00],\n",
       "       ...,\n",
       "       [2.14654110e-03, 0.00000000e+00, 0.00000000e+00, 2.85288628e-02,\n",
       "        7.76560061e-05, 7.08583167e-04],\n",
       "       [2.13611212e-03, 0.00000000e+00, 0.00000000e+00, 2.83801799e-02,\n",
       "        7.75415973e-05, 7.04574223e-04],\n",
       "       [2.61325813e-02, 0.00000000e+00, 1.38863813e-02, 0.00000000e+00,\n",
       "        0.00000000e+00, 0.00000000e+00]])"
      ]
     },
     "execution_count": 116,
     "metadata": {},
     "output_type": "execute_result"
    }
   ],
   "source": [
    "W2"
   ]
  },
  {
   "cell_type": "code",
   "execution_count": 117,
   "metadata": {},
   "outputs": [
    {
     "data": {
      "text/plain": [
       "2.262035151051824"
      ]
     },
     "execution_count": 117,
     "metadata": {},
     "output_type": "execute_result"
    }
   ],
   "source": [
    "diffW = W - W2[:,0:5]\n",
    "np.linalg.norm(diffW, ord='fro')"
   ]
  },
  {
   "cell_type": "code",
   "execution_count": 118,
   "metadata": {},
   "outputs": [
    {
     "data": {
      "text/plain": [
       "array([[4.40438386e-04, 3.58146248e-04, 3.19243421e-04, ...,\n",
       "        0.00000000e+00, 0.00000000e+00, 0.00000000e+00],\n",
       "       [0.00000000e+00, 0.00000000e+00, 0.00000000e+00, ...,\n",
       "        0.00000000e+00, 0.00000000e+00, 0.00000000e+00],\n",
       "       [1.65885981e-04, 0.00000000e+00, 0.00000000e+00, ...,\n",
       "        2.50389808e-03, 1.41319987e-04, 9.16197417e-04],\n",
       "       [4.35694172e-04, 1.22889673e-03, 0.00000000e+00, ...,\n",
       "        0.00000000e+00, 4.79349966e-04, 8.73525278e-06],\n",
       "       [0.00000000e+00, 0.00000000e+00, 1.43772768e-03, ...,\n",
       "        0.00000000e+00, 0.00000000e+00, 0.00000000e+00]])"
      ]
     },
     "execution_count": 118,
     "metadata": {},
     "output_type": "execute_result"
    }
   ],
   "source": [
    "H"
   ]
  },
  {
   "cell_type": "code",
   "execution_count": 119,
   "metadata": {},
   "outputs": [
    {
     "data": {
      "text/plain": [
       "array([[3.66185699e-04, 6.58070844e-04, 3.48850936e-04, ...,\n",
       "        2.92115443e-04, 0.00000000e+00, 6.20818137e-05],\n",
       "       [0.00000000e+00, 0.00000000e+00, 0.00000000e+00, ...,\n",
       "        0.00000000e+00, 0.00000000e+00, 0.00000000e+00],\n",
       "       [1.44168726e-04, 0.00000000e+00, 0.00000000e+00, ...,\n",
       "        2.51936864e-03, 1.60770033e-04, 9.45296778e-04],\n",
       "       [4.55559772e-04, 1.15546881e-03, 0.00000000e+00, ...,\n",
       "        0.00000000e+00, 4.79295443e-04, 2.56014253e-07],\n",
       "       [0.00000000e+00, 0.00000000e+00, 1.49132109e-03, ...,\n",
       "        0.00000000e+00, 0.00000000e+00, 0.00000000e+00],\n",
       "       [1.59283543e-04, 0.00000000e+00, 9.94401949e-05, ...,\n",
       "        0.00000000e+00, 0.00000000e+00, 0.00000000e+00]])"
      ]
     },
     "execution_count": 119,
     "metadata": {},
     "output_type": "execute_result"
    }
   ],
   "source": [
    "H2"
   ]
  },
  {
   "cell_type": "code",
   "execution_count": 120,
   "metadata": {},
   "outputs": [
    {
     "data": {
      "text/plain": [
       "2.54087908775569"
      ]
     },
     "execution_count": 120,
     "metadata": {},
     "output_type": "execute_result"
    }
   ],
   "source": [
    "diffH = H - H2[0:5,:]\n",
    "np.linalg.norm(diffH, ord='fro')"
   ]
  },
  {
   "cell_type": "code",
   "execution_count": null,
   "metadata": {},
   "outputs": [],
   "source": []
  },
  {
   "cell_type": "code",
   "execution_count": null,
   "metadata": {},
   "outputs": [],
   "source": []
  },
  {
   "cell_type": "code",
   "execution_count": 135,
   "metadata": {},
   "outputs": [],
   "source": [
    "lsa_model = TruncatedSVD(n_components=5, random_state=10)\n",
    "USigma = lsa_model.fit_transform(tf_idf)\n",
    "Vtrans = lsa_model.components_"
   ]
  },
  {
   "cell_type": "code",
   "execution_count": 141,
   "metadata": {},
   "outputs": [],
   "source": [
    "lsa_model2 = TruncatedSVD(n_components=6, random_state=10)\n",
    "USigma2 = lsa_model2.fit_transform(tf_idf)\n",
    "Vtrans2 = lsa_model2.components_"
   ]
  },
  {
   "cell_type": "code",
   "execution_count": 136,
   "metadata": {},
   "outputs": [
    {
     "data": {
      "text/plain": [
       "array([[ 0.14082944,  0.01739611,  0.05835951, -0.06836009, -0.04442716],\n",
       "       [ 0.15471062,  0.09889438,  0.00387851, -0.04489336, -0.05556939],\n",
       "       [ 0.13669578,  0.07566367,  0.0261642 ,  0.01835999,  0.00865936],\n",
       "       ...,\n",
       "       [ 0.09866348, -0.02580425,  0.02604446,  0.0869921 , -0.01569363],\n",
       "       [ 0.09866348, -0.02580425,  0.02604446,  0.0869921 , -0.01569363],\n",
       "       [ 0.1505098 , -0.08536802,  0.01429919, -0.0773828 , -0.06871124]])"
      ]
     },
     "execution_count": 136,
     "metadata": {},
     "output_type": "execute_result"
    }
   ],
   "source": [
    "USigma"
   ]
  },
  {
   "cell_type": "code",
   "execution_count": 142,
   "metadata": {},
   "outputs": [
    {
     "data": {
      "text/plain": [
       "array([[ 0.14082943,  0.01743983,  0.05779215, -0.06888674, -0.03958534,\n",
       "        -0.07379267],\n",
       "       [ 0.1547106 ,  0.0988097 ,  0.00332828, -0.04465528, -0.05262656,\n",
       "         0.01110419],\n",
       "       [ 0.13669578,  0.0756351 ,  0.02625105,  0.01736296,  0.01035576,\n",
       "         0.0077622 ],\n",
       "       ...,\n",
       "       [ 0.0986634 , -0.02579484,  0.02593745,  0.08667647, -0.01453376,\n",
       "         0.0172314 ],\n",
       "       [ 0.0986634 , -0.02579484,  0.02593745,  0.08667647, -0.01453376,\n",
       "         0.0172314 ],\n",
       "       [ 0.15050973, -0.08535227,  0.01390051, -0.0781688 , -0.06768319,\n",
       "         0.04046016]])"
      ]
     },
     "execution_count": 142,
     "metadata": {},
     "output_type": "execute_result"
    }
   ],
   "source": [
    "USigma2"
   ]
  },
  {
   "cell_type": "code",
   "execution_count": 144,
   "metadata": {},
   "outputs": [
    {
     "data": {
      "text/plain": [
       "0.7559543545785241"
      ]
     },
     "execution_count": 144,
     "metadata": {},
     "output_type": "execute_result"
    }
   ],
   "source": [
    "diffU = USigma - USigma2[:,0:5]\n",
    "np.linalg.norm(diffU, ord='fro')"
   ]
  },
  {
   "cell_type": "code",
   "execution_count": 139,
   "metadata": {},
   "outputs": [
    {
     "data": {
      "text/plain": [
       "array([[ 5.75109568e-05,  7.26446972e-05,  6.50207328e-05, ...,\n",
       "         1.66712976e-04,  2.52948106e-05,  6.13206285e-05],\n",
       "       [-8.22549670e-05, -1.09435907e-05,  1.02640729e-04, ...,\n",
       "        -2.41435151e-04, -3.84924696e-05, -9.51282321e-05],\n",
       "       [ 3.57767199e-05,  2.35890927e-04,  9.97228735e-05, ...,\n",
       "        -3.82333078e-04, -4.63698876e-05, -1.36729305e-04],\n",
       "       [ 2.09199055e-05,  2.54512284e-04, -8.25894898e-05, ...,\n",
       "        -1.92640584e-04,  1.13191998e-04, -3.83117021e-05],\n",
       "       [-3.63200274e-05, -3.77534143e-05,  2.40397979e-04, ...,\n",
       "        -1.73557597e-04, -1.77387945e-05, -5.05994835e-05]])"
      ]
     },
     "execution_count": 139,
     "metadata": {},
     "output_type": "execute_result"
    }
   ],
   "source": [
    "Vtrans"
   ]
  },
  {
   "cell_type": "code",
   "execution_count": 143,
   "metadata": {},
   "outputs": [
    {
     "data": {
      "text/plain": [
       "array([[ 5.75109557e-05,  7.26446918e-05,  6.50207231e-05, ...,\n",
       "         1.66712960e-04,  2.52948094e-05,  6.13206232e-05],\n",
       "       [-8.22548065e-05, -1.10915548e-05,  1.02734132e-04, ...,\n",
       "        -2.41631040e-04, -3.84984150e-05, -9.50978162e-05],\n",
       "       [ 3.58144572e-05,  2.36339730e-04,  9.99844844e-05, ...,\n",
       "        -3.82456948e-04, -4.59434074e-05, -1.37176951e-04],\n",
       "       [ 2.01437665e-05,  2.55606305e-04, -8.24582757e-05, ...,\n",
       "        -1.93873449e-04,  1.13669593e-04, -3.88767345e-05],\n",
       "       [-3.59445991e-05, -4.44656952e-05,  2.41969902e-04, ...,\n",
       "        -1.76767807e-04, -1.60779953e-05, -5.02223962e-05],\n",
       "       [-2.21111340e-06,  9.16994248e-05,  1.49867338e-04, ...,\n",
       "         2.76411346e-04,  3.58740297e-05,  8.17480220e-05]])"
      ]
     },
     "execution_count": 143,
     "metadata": {},
     "output_type": "execute_result"
    }
   ],
   "source": [
    "Vtrans2"
   ]
  },
  {
   "cell_type": "code",
   "execution_count": 145,
   "metadata": {},
   "outputs": [
    {
     "data": {
      "text/plain": [
       "0.0231981646456215"
      ]
     },
     "execution_count": 145,
     "metadata": {},
     "output_type": "execute_result"
    }
   ],
   "source": [
    "diffV = Vtrans - Vtrans2[0:5,:]\n",
    "np.linalg.norm(diffV, ord='fro')"
   ]
  },
  {
   "cell_type": "code",
   "execution_count": null,
   "metadata": {},
   "outputs": [],
   "source": []
  }
 ],
 "metadata": {
  "kernelspec": {
   "display_name": "Python 3",
   "language": "python",
   "name": "python3"
  },
  "language_info": {
   "codemirror_mode": {
    "name": "ipython",
    "version": 3
   },
   "file_extension": ".py",
   "mimetype": "text/x-python",
   "name": "python",
   "nbconvert_exporter": "python",
   "pygments_lexer": "ipython3",
   "version": "3.7.4"
  }
 },
 "nbformat": 4,
 "nbformat_minor": 4
}
