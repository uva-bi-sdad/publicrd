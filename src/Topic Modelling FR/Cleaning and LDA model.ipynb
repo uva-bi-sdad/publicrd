{
 "cells": [
  {
   "cell_type": "markdown",
   "metadata": {},
   "source": [
    "# Set-up and Data Ingestion"
   ]
  },
  {
   "cell_type": "code",
   "execution_count": 1,
   "metadata": {},
   "outputs": [
    {
     "name": "stdout",
     "output_type": "stream",
     "text": [
      "Populating the interactive namespace from numpy and matplotlib\n"
     ]
    }
   ],
   "source": [
    "import pandas as pd\n",
    "import matplotlib.pyplot as plt\n",
    "import numpy as np\n",
    "%pylab inline\n",
    "from string import ascii_letters\n",
    "import sys\n",
    "import re\n",
    "import time\n"
   ]
  },
  {
   "cell_type": "code",
   "execution_count": 2,
   "metadata": {},
   "outputs": [
    {
     "name": "stdout",
     "output_type": "stream",
     "text": [
      "[nltk_data] Downloading package wordnet to /home/kjl5t/nltk_data...\n",
      "[nltk_data]   Package wordnet is already up-to-date!\n",
      "[nltk_data] Downloading package averaged_perceptron_tagger to\n",
      "[nltk_data]     /home/kjl5t/nltk_data...\n",
      "[nltk_data]   Package averaged_perceptron_tagger is already up-to-\n",
      "[nltk_data]       date!\n",
      "[nltk_data] Downloading package stopwords to /home/kjl5t/nltk_data...\n",
      "[nltk_data]   Package stopwords is already up-to-date!\n"
     ]
    },
    {
     "data": {
      "text/plain": [
       "True"
      ]
     },
     "execution_count": 2,
     "metadata": {},
     "output_type": "execute_result"
    }
   ],
   "source": [
    "import gensim\n",
    "from gensim.utils import simple_preprocess\n",
    "from gensim.parsing.preprocessing import STOPWORDS\n",
    "\n",
    "from nltk.stem import WordNetLemmatizer, SnowballStemmer\n",
    "from nltk.stem.porter import *\n",
    "from nltk import pos_tag\n",
    "\n",
    "np.random.seed(2018)\n",
    "\n",
    "import nltk\n",
    "nltk.download('wordnet')\n",
    "nltk.download('averaged_perceptron_tagger')\n",
    "nltk.download('stopwords')"
   ]
  },
  {
   "cell_type": "code",
   "execution_count": 3,
   "metadata": {},
   "outputs": [],
   "source": [
    "raw_df=pd.read_csv('../../data/prd/RND Topic Modelling/abstracts_federal_reporter_combined.csv',engine='python')\n"
   ]
  },
  {
   "cell_type": "markdown",
   "metadata": {},
   "source": [
    "# Remove duplicate and null abstracts"
   ]
  },
  {
   "cell_type": "code",
   "execution_count": 4,
   "metadata": {},
   "outputs": [
    {
     "name": "stdout",
     "output_type": "stream",
     "text": [
      "Length 550074\n",
      "Project ID duplicates\n",
      "Series([], Name: PROJECT_ID, dtype: int64)\n"
     ]
    },
    {
     "name": "stderr",
     "output_type": "stream",
     "text": [
      "/apps/software/standard/core/anaconda/5.2.0-py3.6/lib/python3.6/site-packages/ipykernel_launcher.py:10: SettingWithCopyWarning: \n",
      "A value is trying to be set on a copy of a slice from a DataFrame\n",
      "\n",
      "See the caveats in the documentation: http://pandas.pydata.org/pandas-docs/stable/indexing.html#indexing-view-versus-copy\n",
      "  # Remove the CWD from sys.path while we load stuff.\n"
     ]
    }
   ],
   "source": [
    "##############\n",
    "#Remove nulls and duplicates\n",
    "#Currently removes only duplicates based on ABSTRACTS and only in the same YEAR\n",
    "#The rationale here is that we may do year-by-year modelling and don't want to exclude projects\n",
    "#But if we do all-in-one modelling (e.g. across all years), we will want to reconsider\n",
    "#Also will want to do additional duplicate check once abstracts are cleaned\n",
    "###############\n",
    "\n",
    "df=raw_df.loc[pd.notnull(raw_df['ABSTRACT'])]\n",
    "df.drop_duplicates(subset=['ABSTRACT','FY'],inplace=True) #Drop projects with identical abstracts and year. Different year\n",
    "                                                          # could indicate additional funding sent to this project.\n",
    "print('Length '+str(len(df)))\n",
    "\n",
    "####################\n",
    "#Check for additional duplicates\n",
    "#Note that the project id isnt necessarily identical for each transaction on same grant--e.g. one number could be added, \n",
    "#so this isnt that strict and why checking astract is needed\n",
    "#####################\n",
    "print('Project ID duplicates')\n",
    "vc=df['PROJECT_ID'].value_counts()\n",
    "print(vc[vc>1])\n",
    "\n",
    "# no output means no duplicate IDs "
   ]
  },
  {
   "cell_type": "markdown",
   "metadata": {},
   "source": [
    "# Create working abstracts to manipulate"
   ]
  },
  {
   "cell_type": "code",
   "execution_count": 5,
   "metadata": {},
   "outputs": [
    {
     "name": "stderr",
     "output_type": "stream",
     "text": [
      "/apps/software/standard/core/anaconda/5.2.0-py3.6/lib/python3.6/site-packages/ipykernel_launcher.py:3: SettingWithCopyWarning: \n",
      "A value is trying to be set on a copy of a slice from a DataFrame.\n",
      "Try using .loc[row_indexer,col_indexer] = value instead\n",
      "\n",
      "See the caveats in the documentation: http://pandas.pydata.org/pandas-docs/stable/indexing.html#indexing-view-versus-copy\n",
      "  This is separate from the ipykernel package so we can avoid doing imports until\n"
     ]
    }
   ],
   "source": [
    "#Define a new series which is an abstract that keeps the raw text, but can be continuously manipulated.\n",
    "wa='working_abstract'\n",
    "df[wa]=df['ABSTRACT'].apply(str.strip)"
   ]
  },
  {
   "cell_type": "code",
   "execution_count": 6,
   "metadata": {},
   "outputs": [
    {
     "name": "stdout",
     "output_type": "stream",
     "text": [
      "False    550074\n",
      "Name: working_abstract, dtype: int64\n"
     ]
    }
   ],
   "source": [
    "#Ensure there are no empty abstracts\n",
    "print(pd.isnull(df[wa]).value_counts())"
   ]
  },
  {
   "cell_type": "markdown",
   "metadata": {},
   "source": [
    "# Remove \"junk\" from the beginning and end of abstracts.  \n",
    "\n",
    "\"Junk\" does not contribute any meaning to the abstract for purposes of topic modeling."
   ]
  },
  {
   "cell_type": "code",
   "execution_count": 7,
   "metadata": {},
   "outputs": [
    {
     "data": {
      "text/plain": [
       "\"\\nx='phrase to remove is at the start and phrase to remove is also in middle and phrase to remove is in the middle again and ends with phrase to remove'\\ny='nothing in common but a phrase to remov nothing in common'\\nprint(remove_phrase(x,'phrase to remove',loc='Start'))\\nprint(remove_phrase(x,'phrase to remove',loc='End'))\\nprint(remove_phrase(x,'phrase to remove',loc='Anywhere_All'))\\nprint(remove_phrase(x,'phrase to remove',loc='Anywhere_First'))\\nprint(remove_phrase(y,'phrase to remove',loc='Start'))\\nprint(remove_phrase(y,'phrase to remove',loc='End'))\\nprint(remove_phrase(y,'phrase to remove',loc='Anywhere_All'))\\nprint(remove_phrase(y,'phrase to remove',loc='Anywhere_First'))\\n\""
      ]
     },
     "execution_count": 7,
     "metadata": {},
     "output_type": "execute_result"
    }
   ],
   "source": [
    "################\n",
    "#Function for removing any text we don't like at start, end, or anywhere within a string\n",
    "################\n",
    "\n",
    "def remove_phrase(x, phrase,loc='Start'):\n",
    "    \"\"\"\n",
    "    returns x with phrase removed. location can be \"Start\" of string, \"End\" of string, or \n",
    "    \"Anywhere_All\"--anywhere will remove all instances and Anywhere_First will remove the first instance\n",
    "    \"\"\"\n",
    "    assert loc in ['Start','End','Anywhere_All','Anywhere_First']\n",
    "    if loc=='End':\n",
    "        if x.endswith(phrase):\n",
    "            return x[:-1*len(phrase)].strip()\n",
    "        else:\n",
    "            return x\n",
    "    elif loc=='Start':\n",
    "        if x.startswith(phrase):\n",
    "            return x[len(phrase):].strip()\n",
    "        else:\n",
    "            return x\n",
    "    elif loc=='Anywhere_All':\n",
    "        return x.replace(phrase,'')\n",
    "    elif loc=='Anywhere_First':\n",
    "        return x.replace(phrase,'',1)\n",
    "    else:\n",
    "        return 'Error'\n",
    "    \n",
    "#Testing phrases\n",
    "'''\n",
    "x='phrase to remove is at the start and phrase to remove is also in middle and phrase to remove is in the middle again and ends with phrase to remove'\n",
    "y='nothing in common but a phrase to remov nothing in common'\n",
    "print(remove_phrase(x,'phrase to remove',loc='Start'))\n",
    "print(remove_phrase(x,'phrase to remove',loc='End'))\n",
    "print(remove_phrase(x,'phrase to remove',loc='Anywhere_All'))\n",
    "print(remove_phrase(x,'phrase to remove',loc='Anywhere_First'))\n",
    "print(remove_phrase(y,'phrase to remove',loc='Start'))\n",
    "print(remove_phrase(y,'phrase to remove',loc='End'))\n",
    "print(remove_phrase(y,'phrase to remove',loc='Anywhere_All'))\n",
    "print(remove_phrase(y,'phrase to remove',loc='Anywhere_First'))\n",
    "'''"
   ]
  },
  {
   "cell_type": "code",
   "execution_count": 8,
   "metadata": {},
   "outputs": [
    {
     "name": "stderr",
     "output_type": "stream",
     "text": [
      "/apps/software/standard/core/anaconda/5.2.0-py3.6/lib/python3.6/site-packages/ipykernel_launcher.py:18: SettingWithCopyWarning: \n",
      "A value is trying to be set on a copy of a slice from a DataFrame.\n",
      "Try using .loc[row_indexer,col_indexer] = value instead\n",
      "\n",
      "See the caveats in the documentation: http://pandas.pydata.org/pandas-docs/stable/indexing.html#indexing-view-versus-copy\n",
      "/apps/software/standard/core/anaconda/5.2.0-py3.6/lib/python3.6/site-packages/pandas/core/frame.py:3697: SettingWithCopyWarning: \n",
      "A value is trying to be set on a copy of a slice from a DataFrame\n",
      "\n",
      "See the caveats in the documentation: http://pandas.pydata.org/pandas-docs/stable/indexing.html#indexing-view-versus-copy\n",
      "  errors=errors)\n"
     ]
    },
    {
     "name": "stdout",
     "output_type": "stream",
     "text": [
      "****TECHNICAL ABSTRACT****\n"
     ]
    },
    {
     "name": "stderr",
     "output_type": "stream",
     "text": [
      "/apps/software/standard/core/anaconda/5.2.0-py3.6/lib/python3.6/site-packages/ipykernel_launcher.py:23: SettingWithCopyWarning: \n",
      "A value is trying to be set on a copy of a slice from a DataFrame.\n",
      "Try using .loc[row_indexer,col_indexer] = value instead\n",
      "\n",
      "See the caveats in the documentation: http://pandas.pydata.org/pandas-docs/stable/indexing.html#indexing-view-versus-copy\n"
     ]
    },
    {
     "name": "stdout",
     "output_type": "stream",
     "text": [
      "****Technical Abstract****\n",
      "****Non Technical Abstract****\n",
      "*** Non- Technical Abstract ***\n",
      "**Non-Technical Abstract**\n",
      "*****NON-TECHNICAL ABSTRACT*****\n",
      "***** NON-TECHNICAL ABSTRACT *********NONTECHNICAL ABSTRACT****\n",
      "****Non-Technical Abstract****\n",
      "*Non-technical Abstract*\n",
      "*****NON-TECHNICAL ABSTRACT*****\n",
      "****NON-TECHNICAL ABSTRACT****\n",
      "***NON-TECHNICAL ABSTRACT***\n",
      "****Nontechnical abstract****DESCRIPTION (provided by applicant):\n",
      "DESCRIPTION (provided by applicant)\n",
      "Project Summary/Abstract\n",
      "PROJECT SUMMARY/ABSTRACT\n",
      "ABSTRACT\n",
      "PROJECT SUMMARY\n",
      "Project Summary\n",
      "/ASBTRACT\n",
      "/ Proposal\n",
      "/ SUMMARY\n",
      "/ DESCRIPTION\n",
      "/PROJECT SUMMARY\n",
      "/ PROJECT SUMMARY\n",
      "/Abstract:\n",
      "/ABSTRACT:\n",
      "/ABSTRACT\n",
      "/ ABSTRACT:\n",
      "/ ABSTRACT\n",
      "/Abstract\n",
      "/ Abstract\n",
      "/Description\n",
      "/SUMMARY\n",
      "/PROJECT SUMMARY\n",
      "/ RESEARCH SUMMARY\n",
      "/PROJECT SUMMARY\n",
      "/abstract\n",
      "/Proposal Abstract\n",
      "/DESCRIPTION\n",
      "/PROJECT DESCRIPTION\n",
      "/PROJECT SUMMARY\n",
      "/NARRATIVE\n",
      "/RESEARCH ABSTRACT\n",
      "/ PROJECT DESCRIPTION\n",
      "EXCEED THE SPACE PROVIDED\n",
      "one page and must contain a summary of the proposed activity suitable for dissemination to thepublic. It should be a self-contained description of the project and should contain a statement of objectives and methods to be employed.It should be informative to other persons working in the same or related fields and insofar as possible understandable to a technically liter-ate lay reader. This Abstract must not include any proprietary/confidential information.* Please click the add attachment button to complete this entry.\n"
     ]
    },
    {
     "name": "stderr",
     "output_type": "stream",
     "text": [
      "/apps/software/standard/core/anaconda/5.2.0-py3.6/lib/python3.6/site-packages/ipykernel_launcher.py:28: SettingWithCopyWarning: \n",
      "A value is trying to be set on a copy of a slice from a DataFrame.\n",
      "Try using .loc[row_indexer,col_indexer] = value instead\n",
      "\n",
      "See the caveats in the documentation: http://pandas.pydata.org/pandas-docs/stable/indexing.html#indexing-view-versus-copy\n"
     ]
    }
   ],
   "source": [
    "#2.1--phrases noticed through investigation of starting characters, as well as those identified in R Analysis\n",
    "\n",
    "start_phrases=['****TECHNICAL ABSTRACT****','****Technical Abstract****',\n",
    "               '****Non Technical Abstract****','*** Non- Technical Abstract ***','**Non-Technical Abstract**',\n",
    "          '*****NON-TECHNICAL ABSTRACT*****','***** NON-TECHNICAL ABSTRACT *****'\n",
    "          '****NONTECHNICAL ABSTRACT****','****Non-Technical Abstract****','*Non-technical Abstract*',\n",
    "               '*****NON-TECHNICAL ABSTRACT*****','****NON-TECHNICAL ABSTRACT****',\n",
    "               '***NON-TECHNICAL ABSTRACT***','****Nontechnical abstract****'\n",
    "               'DESCRIPTION (provided by applicant):','DESCRIPTION (provided by applicant)',\n",
    "               'Project Summary/Abstract','PROJECT SUMMARY/ABSTRACT','ABSTRACT',\n",
    "               'PROJECT SUMMARY','Project Summary','/ASBTRACT','/ Proposal','/ SUMMARY','/ DESCRIPTION','/PROJECT SUMMARY',\n",
    "               '/ PROJECT SUMMARY','/Abstract:','/ABSTRACT:','/ABSTRACT','/ ABSTRACT:',\n",
    "               '/ ABSTRACT','/Abstract','/ Abstract','/Description','/SUMMARY','/PROJECT SUMMARY',\n",
    "              '/ RESEARCH SUMMARY','/PROJECT SUMMARY','/abstract','/Proposal Abstract',\n",
    "               '/DESCRIPTION','/PROJECT DESCRIPTION','/PROJECT SUMMARY','/NARRATIVE','/RESEARCH ABSTRACT','/ PROJECT DESCRIPTION',\n",
    "              'EXCEED THE SPACE PROVIDED',\n",
    "              'one page and must contain a summary of the proposed activity suitable for dissemination to thepublic. It should be a self-contained description of the project and should contain a statement of objectives and methods to be employed.It should be informative to other persons working in the same or related fields and insofar as possible understandable to a technically liter-ate lay reader. This Abstract must not include any proprietary/confidential information.* Please click the add attachment button to complete this entry.']\n",
    "df[wa]=df[wa].apply(str.lstrip,args=['?-_^. :,!;¿|]#%>&'])\n",
    "df.drop(df[df[wa].apply(len)==0].index[0],axis=0,inplace=True)\n",
    "#Remove found phrases\n",
    "for phrase in start_phrases:\n",
    "    print(phrase)\n",
    "    df[wa]=df[wa].apply(remove_phrase,args=[phrase,'Start']).apply(str.lstrip,args=[' :'])\n",
    "    \n",
    "#df.drop(df[df[wa].apply(len)==0].index[0],axis=0,inplace=True)    # this seems to only drop the first null...ask sam.  This is a bug.  Fix below\n",
    "\n",
    "df.drop(df[df[wa].apply(len)==0].index,axis=0,inplace=True)\n",
    "df['Start Char']=df[wa].apply(lambda x: x[0])"
   ]
  },
  {
   "cell_type": "code",
   "execution_count": 9,
   "metadata": {},
   "outputs": [
    {
     "name": "stdout",
     "output_type": "stream",
     "text": [
      "End phrases to remove: \n",
      "(End of Abstract)\n"
     ]
    },
    {
     "name": "stderr",
     "output_type": "stream",
     "text": [
      "/apps/software/standard/core/anaconda/5.2.0-py3.6/lib/python3.6/site-packages/ipykernel_launcher.py:15: SettingWithCopyWarning: \n",
      "A value is trying to be set on a copy of a slice from a DataFrame.\n",
      "Try using .loc[row_indexer,col_indexer] = value instead\n",
      "\n",
      "See the caveats in the documentation: http://pandas.pydata.org/pandas-docs/stable/indexing.html#indexing-view-versus-copy\n",
      "  from ipykernel import kernelapp as app\n"
     ]
    },
    {
     "name": "stdout",
     "output_type": "stream",
     "text": [
      "End of Abstract\n",
      "(Abstract end)(END OF ABSTRACT)\n",
      "(End of abstract.)\n",
      "(Abstract End)\n",
      "(End 0f Abstract)\n",
      "(End of Abstract.)\n",
      "(End of Absract)\n",
      "(Abstract below)\n",
      "(End of Reviewers' Comment)\n",
      "(End Abstract)\n",
      "(End of abstract)\n",
      "(End of abstract)\n",
      "PERFORMANCE SITE ========================================Section End===========================================\n",
      "KEY PERSONNEL ========================================Section End===========================================\n",
      "[summary truncated at 7800 characters]\n",
      "This award reflects NSF's statutory mission and has been deemed worthy of support through evaluation using the Foundation's intellectual merit and broader impacts review criteria.\n",
      "Project Description Page 6\n",
      "Page 1 of 1\n",
      "Project Summary/Abstract Page 6\n",
      "Project Description Page 7\n",
      "Project Summary/Abstract Page 7\n",
      "Pag 1 o 1\n",
      "Page 2 Number pages consecutively at the bottom throughout Form Page 2\n",
      "This award reflects NSF's statutory mission and has been deemed worthy of support through evaluation using the Foundation's intellectual merit and broader impacts review criteria.\n"
     ]
    },
    {
     "name": "stderr",
     "output_type": "stream",
     "text": [
      "/apps/software/standard/core/anaconda/5.2.0-py3.6/lib/python3.6/site-packages/pandas/core/frame.py:3697: SettingWithCopyWarning: \n",
      "A value is trying to be set on a copy of a slice from a DataFrame\n",
      "\n",
      "See the caveats in the documentation: http://pandas.pydata.org/pandas-docs/stable/indexing.html#indexing-view-versus-copy\n",
      "  errors=errors)\n",
      "/apps/software/standard/core/anaconda/5.2.0-py3.6/lib/python3.6/site-packages/ipykernel_launcher.py:18: SettingWithCopyWarning: \n",
      "A value is trying to be set on a copy of a slice from a DataFrame.\n",
      "Try using .loc[row_indexer,col_indexer] = value instead\n",
      "\n",
      "See the caveats in the documentation: http://pandas.pydata.org/pandas-docs/stable/indexing.html#indexing-view-versus-copy\n"
     ]
    }
   ],
   "source": [
    "#1.2\n",
    "#Ending phrases noticed through manual investigation of last character\n",
    "print('End phrases to remove: ')\n",
    "for phrase in ['(End of Abstract)',\"End of Abstract\", '(Abstract end)' \"(END OF ABSTRACT)\", '(End of abstract.)','(Abstract End)','(End 0f Abstract)','(End of Abstract.)','(End of Absract)',\n",
    "               '(Abstract below)','(End of Reviewers\\' Comment)','(End Abstract)','(End of abstract)','(End of abstract)',\n",
    "               'PERFORMANCE SITE ========================================Section End===========================================',\n",
    "                'KEY PERSONNEL ========================================Section End===========================================',\n",
    "               '[summary truncated at 7800 characters]', \n",
    "               'This award reflects NSF\\'s statutory mission and has been deemed worthy of support through evaluation using the Foundation\\'s intellectual merit and broader impacts review criteria.',\n",
    "               'Project Description Page 6', 'Page 1 of 1', 'Project Summary/Abstract Page 6',\n",
    "               'Project Description Page 7', 'Project Summary/Abstract Page 7', 'Pag 1 o 1', \n",
    "               'Page 2 Number pages consecutively at the bottom throughout Form Page 2',\n",
    "               'This award reflects NSF\\'s statutory mission and has been deemed worthy of support through evaluation using the Foundation\\'s intellectual merit and broader impacts review criteria.']:      \n",
    "    print(phrase)\n",
    "    df[wa]=df[wa].apply(remove_phrase,args=[phrase,'End'])\n",
    "\n",
    "df.drop(df[df[wa].apply(len)==0].index,axis=0,inplace=True)\n",
    "df['LAST_CHAR']=df[wa].apply(lambda x: x[-1])"
   ]
  },
  {
   "cell_type": "markdown",
   "metadata": {},
   "source": [
    "# Tokenize & simple_preprocess\n",
    "- removes numbers, punctuation, and accents\n",
    "- lowercases\n",
    "- only includes words with 3 <= length <= 25"
   ]
  },
  {
   "cell_type": "code",
   "execution_count": 10,
   "metadata": {},
   "outputs": [
    {
     "data": {
      "text/plain": [
       "116507"
      ]
     },
     "execution_count": 10,
     "metadata": {},
     "output_type": "execute_result"
    }
   ],
   "source": [
    "import random \n",
    "\n",
    "#idx = random.sample(range(len(text)), 25000)\n",
    "#test_text = text.iloc[idx]\n",
    "\n",
    "test_text = df[wa][df['DEPARTMENT']=='NSF']\n",
    "len(test_text)"
   ]
  },
  {
   "cell_type": "code",
   "execution_count": 11,
   "metadata": {},
   "outputs": [
    {
     "name": "stdout",
     "output_type": "stream",
     "text": [
      "time  86.76537704467773\n",
      "['this', 'project', 'explore', 'game', 'based', 'metaphor', 'enhanced', 'game', 'design', 'game', 'method', 'for', 'applying', 'cognitive', 'science', 'metaphor', 'theory', 'toward', 'the', 'design', 'computer', 'mediated', 'learning', 'environments', 'the', 'process', 'uses', 'structure', 'mapping', 'theory', 'design', 'videogame', 'worlds', 'aligned', 'with', 'science', 'concepts', 'this', 'rigorous', 'specification', 'procedure', 'for', 'mapping', 'relational', 'structure', 'from', 'targeted', 'concept', 'game', 'world', 'game', 'design', 'translates', 'targeted', 'concept', 'into', 'game', 'system', 'game', 'play', 'and', 'game', 'goal', 'because', 'the', 'relational', 'structure', 'the', 'game', 'world', 'designed', 'analog', 'the', 'targeted', 'conceptual', 'domain', 'players', 'begin', 'construct', 'mental', 'models', 'the', 'targeted', 'concept', 'during', 'interactive', 'gameplay', 'this', 'makes', 'learning', 'concrete', 'and', 'embodied', 'gameplay', 'experiences', 'are', 'designed', 'guide', 'the', 'learner', 'discover', 'the', 'relational', 'structure', 'the', 'targeted', 'concept', 'this', 'gameplay', 'readiness', 'activity', 'for', 'preparing', 'the', 'learner', 'for', 'subsequent', 'instruction', 'the', 'primary', 'objective', 'the', 'cyber', 'enabled', 'teaching', 'and', 'learning', 'through', 'game', 'based', 'metaphor', 'enhanced', 'learning', 'objects', 'cygames', 'project', 'empirically', 'test', 'this', 'application', 'cognitive', 'science', 'theory', 'aptly', 'designed', 'videogame', 'worlds', 'will', 'provide', 'common', 'experience', 'that', 'prepares', 'educators', 'and', 'their', 'learners', 'achieve', 'success', 'cygames', 'employs', 'cognitive', 'science', 'informatic', 'sciences', 'and', 'analysis', 'methodologies', 'enhance', 'control', 'over', 'what', 'games', 'engage', 'learning', 'through', 'doing', 'discovery', 'and', 'inquiry', 'while', 'each', 'player', 'takes', 'idiosyncratic', 'route', 'applied', 'structure', 'mapping', 'theory', 'ensures', 'that', 'gameplay', 'exploration', 'proceeds', 'toward', 'the', 'learning', 'goal', 'selene', 'lunar', 'creation', 'game', 'the', 'core', 'cygames', 'research', 'this', 'project', 'will', 'complete', 'refine', 'and', 'test', 'existing', 'selene', 'prototype', 'collect', 'game', 'data', 'representing', 'perceptions', 'and', 'learning', 'develop', 'and', 'refine', 'new', 'methods', 'and', 'metrics', 'for', 'assessing', 'motivation', 'engagement', 'and', 'achievement', 'within', 'instructional', 'videogames', 'and', 'integrate', 'game', 'data', 'collection', 'and', 'assessment', 'within', 'cyber', 'enabled', 'informatics', 'infrastructure']\n"
     ]
    }
   ],
   "source": [
    "############\n",
    "#Tokenize\n",
    "#Converts document into a list of lowercase tokens\n",
    "#ignores those too long or short, can remove accents, uses \"tokenize\"\n",
    "#############\n",
    "\n",
    "#Tokenize, lowercase, remove accents (deacc=True), remove too short of words (min_length)\n",
    "t1 = time.time()\n",
    "tokened_text=[gensim.utils.simple_preprocess(x, deacc=True,min_len=3, max_len=25) for x in test_text]\n",
    "t2 = time.time()\n",
    "print(\"time \", t2-t1)\n",
    "\n",
    "#Our example text throughout cleaning process\n",
    "print(tokened_text[0])"
   ]
  },
  {
   "cell_type": "markdown",
   "metadata": {},
   "source": [
    "# Removal of Stop Words\n",
    "- general English list\n",
    "- words relevant to the corpus that do not aid in Topic Modeling "
   ]
  },
  {
   "cell_type": "code",
   "execution_count": 12,
   "metadata": {},
   "outputs": [],
   "source": [
    "stopWords = set(nltk.corpus.stopwords.words('english'))"
   ]
  },
  {
   "cell_type": "code",
   "execution_count": 13,
   "metadata": {},
   "outputs": [],
   "source": [
    "# format stop words the same way we formatted our corpus, ie. without apostrophes.  Testing print statements are commented out.\n",
    "\n",
    "#print(stopWords)\n",
    "\n",
    "stop_wds = stopWords.copy()\n",
    "for word in stopWords:\n",
    "    #print(word)\n",
    "    if \"\\'\" in word:\n",
    "        stop_wds.discard(word)\n",
    "        stop_wds.add(word.replace(\"\\'\",\"\"))\n",
    "    \n",
    "#print(stop_wds) # stop_wds is new list of stop words to use"
   ]
  },
  {
   "cell_type": "code",
   "execution_count": 14,
   "metadata": {},
   "outputs": [],
   "source": [
    "# more stop words that do not add meaning to topics\n",
    "\n",
    "additional_stopwords=['another','well','funding','addition','require','grant', 'thus','measure', 'protocol','project',\n",
    "                      'specifically', 'federal','institution', 'similar','found','find','investigator','including',\n",
    "                      'funded', 'via','within', 'thus', 'particular', 'furthermore','study','studie','include','also',\n",
    "                      'includes','however','whether','due', 'investigators','may','studies','overall', 'subproject','whether','could',\n",
    "                      'many','finally', 'award', 'several', 'specific', 'aim', 'additional', 'therefore', 'either', 'various','address', \n",
    "                      'description', 'applicant', 'aims', 'proposal', 'within', 'among', 'would', 'form'] \n",
    "                      #'abstract', 'page']?\n",
    "    \n",
    "    \n",
    "#    'grant_funded', 'in_addition', 'proposed_research'  What to do with bigrams in stop words.  Talk to Sam\n",
    "\n",
    "sw = stop_wds.union(additional_stopwords)"
   ]
  },
  {
   "cell_type": "code",
   "execution_count": 15,
   "metadata": {},
   "outputs": [],
   "source": [
    "# remove stopwords\n",
    "\n",
    "def remove_stopwords(texts,sw):\n",
    "    return [[word for word in doc if word not in sw] for doc in texts]\n",
    "    "
   ]
  },
  {
   "cell_type": "code",
   "execution_count": 16,
   "metadata": {},
   "outputs": [],
   "source": [
    "nostop_test_data = remove_stopwords(tokened_text,sw)"
   ]
  },
  {
   "cell_type": "code",
   "execution_count": 17,
   "metadata": {},
   "outputs": [
    {
     "name": "stdout",
     "output_type": "stream",
     "text": [
      "['explore', 'game', 'based', 'metaphor', 'enhanced', 'game', 'design', 'game', 'method', 'applying', 'cognitive', 'science', 'metaphor', 'theory', 'toward', 'design', 'computer', 'mediated', 'learning', 'environments', 'process', 'uses', 'structure', 'mapping', 'theory', 'design', 'videogame', 'worlds', 'aligned', 'science', 'concepts', 'rigorous', 'specification', 'procedure', 'mapping', 'relational', 'structure', 'targeted', 'concept', 'game', 'world', 'game', 'design', 'translates', 'targeted', 'concept', 'game', 'system', 'game', 'play', 'game', 'goal', 'relational', 'structure', 'game', 'world', 'designed', 'analog', 'targeted', 'conceptual', 'domain', 'players', 'begin', 'construct', 'mental', 'models', 'targeted', 'concept', 'interactive', 'gameplay', 'makes', 'learning', 'concrete', 'embodied', 'gameplay', 'experiences', 'designed', 'guide', 'learner', 'discover', 'relational', 'structure', 'targeted', 'concept', 'gameplay', 'readiness', 'activity', 'preparing', 'learner', 'subsequent', 'instruction', 'primary', 'objective', 'cyber', 'enabled', 'teaching', 'learning', 'game', 'based', 'metaphor', 'enhanced', 'learning', 'objects', 'cygames', 'empirically', 'test', 'application', 'cognitive', 'science', 'theory', 'aptly', 'designed', 'videogame', 'worlds', 'provide', 'common', 'experience', 'prepares', 'educators', 'learners', 'achieve', 'success', 'cygames', 'employs', 'cognitive', 'science', 'informatic', 'sciences', 'analysis', 'methodologies', 'enhance', 'control', 'games', 'engage', 'learning', 'discovery', 'inquiry', 'player', 'takes', 'idiosyncratic', 'route', 'applied', 'structure', 'mapping', 'theory', 'ensures', 'gameplay', 'exploration', 'proceeds', 'toward', 'learning', 'goal', 'selene', 'lunar', 'creation', 'game', 'core', 'cygames', 'research', 'complete', 'refine', 'test', 'existing', 'selene', 'prototype', 'collect', 'game', 'data', 'representing', 'perceptions', 'learning', 'develop', 'refine', 'new', 'methods', 'metrics', 'assessing', 'motivation', 'engagement', 'achievement', 'instructional', 'videogames', 'integrate', 'game', 'data', 'collection', 'assessment', 'cyber', 'enabled', 'informatics', 'infrastructure']\n"
     ]
    }
   ],
   "source": [
    "print(nostop_test_data[0])"
   ]
  },
  {
   "cell_type": "markdown",
   "metadata": {},
   "source": [
    "# Find bigrams and trigrams"
   ]
  },
  {
   "cell_type": "code",
   "execution_count": 18,
   "metadata": {},
   "outputs": [
    {
     "name": "stdout",
     "output_type": "stream",
     "text": [
      "['explore', 'game', 'based', 'metaphor', 'enhanced', 'game', 'design', 'game', 'method', 'applying', 'cognitive', 'science', 'metaphor', 'theory', 'toward', 'design', 'computer', 'mediated', 'learning', 'environments', 'process', 'uses', 'structure', 'mapping', 'theory', 'design', 'videogame', 'worlds', 'aligned', 'science', 'concepts', 'rigorous', 'specification', 'procedure', 'mapping', 'relational', 'structure', 'targeted', 'concept', 'game', 'world', 'game', 'design', 'translates', 'targeted', 'concept', 'game', 'system', 'game', 'play', 'game', 'goal', 'relational', 'structure', 'game', 'world', 'designed', 'analog', 'targeted', 'conceptual', 'domain', 'players', 'begin', 'construct', 'mental', 'models', 'targeted', 'concept', 'interactive', 'gameplay', 'makes', 'learning', 'concrete', 'embodied', 'gameplay', 'experiences', 'designed', 'guide', 'learner', 'discover', 'relational', 'structure', 'targeted', 'concept', 'gameplay', 'readiness', 'activity', 'preparing', 'learner', 'subsequent', 'instruction', 'primary', 'objective', 'cyber_enabled', 'teaching', 'learning', 'game', 'based', 'metaphor', 'enhanced', 'learning', 'objects', 'cygames', 'empirically', 'test', 'application', 'cognitive', 'science', 'theory', 'aptly', 'designed', 'videogame', 'worlds', 'provide', 'common', 'experience', 'prepares', 'educators', 'learners', 'achieve', 'success', 'cygames', 'employs', 'cognitive', 'science', 'informatic', 'sciences', 'analysis', 'methodologies', 'enhance', 'control', 'games', 'engage', 'learning', 'discovery', 'inquiry', 'player', 'takes', 'idiosyncratic', 'route', 'applied', 'structure', 'mapping', 'theory', 'ensures', 'gameplay', 'exploration', 'proceeds', 'toward', 'learning', 'goal', 'selene', 'lunar', 'creation', 'game', 'core', 'cygames', 'research', 'complete', 'refine', 'test', 'existing', 'selene', 'prototype', 'collect', 'game', 'data', 'representing', 'perceptions', 'learning', 'develop', 'refine', 'new', 'methods', 'metrics', 'assessing', 'motivation', 'engagement', 'achievement', 'instructional', 'videogames', 'integrate', 'game', 'data', 'collection', 'assessment', 'cyber_enabled', 'informatics', 'infrastructure']\n"
     ]
    }
   ],
   "source": [
    "#Calculate bi and tri grams\n",
    "from gensim.models import Phrases\n",
    "\n",
    "# Build the bigram and trigram models\n",
    "bigram = gensim.models.Phrases(nostop_test_data, min_count=5, threshold=100) # higher threshold fewer phrases.\n",
    "test_data_b = bigram[nostop_test_data]\n",
    "trigram = gensim.models.Phrases(test_data_b, threshold=100)  \n",
    "\n",
    "nostop_bt_text = trigram[test_data_b]\n",
    "\n",
    "# See trigram example\n",
    "print(nostop_bt_text[0])"
   ]
  },
  {
   "cell_type": "code",
   "execution_count": 19,
   "metadata": {},
   "outputs": [
    {
     "data": {
      "text/plain": [
       "['grant', 'funded']"
      ]
     },
     "execution_count": 19,
     "metadata": {},
     "output_type": "execute_result"
    }
   ],
   "source": [
    "bigram['grant', 'funded']"
   ]
  },
  {
   "cell_type": "markdown",
   "metadata": {},
   "source": [
    "# Lemmatize"
   ]
  },
  {
   "cell_type": "code",
   "execution_count": 20,
   "metadata": {},
   "outputs": [
    {
     "name": "stdout",
     "output_type": "stream",
     "text": [
      "['explore', 'game', 'base', 'metaphor', 'enhanced', 'game', 'design', 'game', 'method', 'apply', 'cognitive', 'science', 'metaphor', 'theory', 'design', 'computer', 'mediate', 'learning', 'environment', 'process', 'us', 'structure', 'map', 'theory', 'design', 'videogame', 'world', 'align', 'science', 'concept', 'rigorous', 'specification', 'procedure', 'map', 'relational', 'structure', 'target', 'concept', 'game', 'world', 'game', 'design', 'translate', 'target', 'concept', 'game', 'system', 'game', 'play', 'game', 'goal', 'relational', 'structure', 'game', 'world', 'design', 'analog', 'target', 'conceptual', 'domain', 'player', 'begin', 'construct', 'mental', 'model', 'target', 'concept', 'interactive', 'gameplay', 'make', 'learn', 'concrete', 'embody', 'gameplay', 'experience', 'design', 'guide', 'learner', 'relational', 'structure', 'target', 'concept', 'gameplay', 'readiness', 'activity', 'prepare', 'learner', 'subsequent', 'instruction', 'primary', 'objective', 'cyber_enabled', 'teach', 'learn', 'game', 'base', 'metaphor', 'enhance', 'learning', 'object', 'cygames', 'empirically', 'test', 'application', 'cognitive', 'science', 'theory', 'aptly', 'design', 'videogame', 'world', 'provide', 'common', 'experience', 'prepares', 'educator', 'learner', 'achieve', 'success', 'cygames', 'employ', 'cognitive', 'science', 'informatic', 'science', 'analysis', 'methodology', 'enhance', 'control', 'game', 'engage', 'learn', 'discovery', 'inquiry', 'player', 'take', 'idiosyncratic', 'route', 'apply', 'structure', 'map', 'theory', 'ensures', 'gameplay', 'exploration', 'proceeds', 'learn', 'goal', 'selene', 'lunar', 'creation', 'game', 'core', 'cygames', 'research', 'complete', 'refine', 'test', 'exist', 'selene', 'prototype', 'collect', 'game', 'data', 'represent', 'perception', 'learn', 'develop', 'refine', 'new', 'method', 'metric', 'assess', 'motivation', 'engagement', 'achievement', 'instructional', 'videogames', 'integrate', 'game', 'data', 'collection', 'assessment', 'cyber_enabled', 'informatics', 'infrastructure']\n",
      "time  1219.7017815113068\n"
     ]
    }
   ],
   "source": [
    "\n",
    "##########\n",
    "#Lemmatize\n",
    "#Create function to lemmatize by part of speech\n",
    "#Retain only adjectives, nouns, verbs, and adverbs\n",
    "##########\n",
    "from nltk.stem.wordnet import WordNetLemmatizer\n",
    "\n",
    "#Create lemmatizer\n",
    "lemmatizer=WordNetLemmatizer()\n",
    "\n",
    "#The POS tags created using pos_tag method are abbreviations like 'FW' or 'JJ'.\n",
    "\"\"\"['FW',#Foreign word\n",
    " 'JJ','JJR','JJS', #Adjectives\n",
    " 'NN','NNS','NNP','NNPS','POS',#Nouns, POS is a possessive noun\n",
    " 'RB','RBR','RBS','RP', #Adverbs\n",
    " 'VB','VBD','VBG','VBN','VBP','VBZ','MD']]#Verbs, MD is modal, 'could','will'\"\"\"\n",
    "#We are ignoring all other categories: numbers, prepositions,pronouns etc.\n",
    "\n",
    "\n",
    "def apply_lemmatizer(x):\n",
    "    \"\"\"apply lemmatizer with correct pos parameter for each word. Takes a tuple of length 2 e.g. (\"avocado\",'NN')\"\"\"\n",
    "    y=x[1] #x is a tuple of length 2\n",
    "    if y in ['JJ','JJR','JJS']:\n",
    "        return lemmatizer.lemmatize(x[0],pos='a')\n",
    "    elif y in ['NN','NNS','NNP','NNPS','POS']:\n",
    "        return lemmatizer.lemmatize(x[0],pos='n')\n",
    "    elif y in ['RB','RBR','RBS','RP']: #This doesn't actually work\n",
    "        return lemmatizer.lemmatize(x[0],pos='r')\n",
    "    elif y in ['VB','VBD','VBG','VBN','VBP','VBZ','MD']:\n",
    "        return lemmatizer.lemmatize(x[0],pos='v')\n",
    "    elif y=='FW':\n",
    "        return x[0]\n",
    "    elif '_' in x[0]: #Bi and trigrams\n",
    "        return x[0]\n",
    "        \n",
    "#Traverse each document, tag its part of speech\n",
    "#and return tokens that are lemmatized and either a noun, verb, adverb, adj, or foreign work\n",
    "#This works REALLY slowly\n",
    "docs=[] #Final lemmatized list of documents, i.e. list of lists of tokens\n",
    "t1 = time.time()\n",
    "for x in range(len(nostop_bt_text)):\n",
    "    doc=nostop_bt_text[x]\n",
    "    tagged_sentence=pos_tag(doc) #output is a list of tuples: [('game', 'NN'), ('explore','VB')]\n",
    "    tokens_kept=[] #Tokens we are retaining\n",
    "    for token_tuple in tagged_sentence:\n",
    "        tokens_kept.append(apply_lemmatizer(token_tuple))\n",
    "    #Removes tokens that aren't nouns, verbs, adverbs, adjectives or foreign words\n",
    "    docs.append([x for x in tokens_kept if x is not None]) # could we just do this in apply_lemmatizer function?  Ask SAm.\n",
    "    \n",
    "t2 = time.time()    \n",
    "    \n",
    "#Our example text throughout cleaning process\n",
    "print(docs[0])\n",
    "print(\"time \", t2-t1)"
   ]
  },
  {
   "cell_type": "markdown",
   "metadata": {},
   "source": [
    "# Create dictionary and corpus to feed to LDA model"
   ]
  },
  {
   "cell_type": "code",
   "execution_count": 21,
   "metadata": {},
   "outputs": [
    {
     "name": "stdout",
     "output_type": "stream",
     "text": [
      "Dictionary(210133 unique tokens: ['achieve', 'achievement', 'activity', 'align', 'analog']...)\n",
      "Dictionary(58253 unique tokens: ['achieve', 'achievement', 'activity', 'align', 'analog']...)\n",
      "116507\n",
      "23659\n"
     ]
    },
    {
     "data": {
      "text/plain": [
       "'achieve'"
      ]
     },
     "execution_count": 21,
     "metadata": {},
     "output_type": "execute_result"
    }
   ],
   "source": [
    "#######################\n",
    "#Dictionary creation\n",
    "###################\n",
    "\n",
    "# Create Dictionary\n",
    "id2word = gensim.corpora.Dictionary(docs)\n",
    "print(id2word)\n",
    "\n",
    "keep_only_most_common=int(len(docs)/2) #LDA works best with less features than documents\n",
    "#Filter words to only those found in at least a set number of documents (min_appearances)\n",
    "id2word.filter_extremes(no_below=3, no_above=0.4, keep_n=keep_only_most_common)\n",
    "print(id2word)\n",
    "\n",
    "#Our dataset:\n",
    "print(len(docs))\n",
    "#Bigrams or trigrams\n",
    "print(len([x for x in id2word.token2id.keys() if '_' in x]))\n",
    "\n",
    "####################\n",
    "# Term Document Frequency--Our corpus\n",
    "####################\n",
    "#Creates a count for each unique word appearing in the document, where the word_id is substituted for the word\n",
    "corpus = [id2word.doc2bow(doc) for doc in docs]\n",
    "\n",
    "#To see what the word is: \n",
    "#Index 0 is the document, Index 1 is the (word, count) tuple, Index 2 is the location of word ID in tuple\n",
    "#Final 0 is never changed.\n",
    "id2word[corpus[0][0][0]] \n"
   ]
  },
  {
   "cell_type": "markdown",
   "metadata": {},
   "source": [
    "# Train LDA model"
   ]
  },
  {
   "cell_type": "code",
   "execution_count": 22,
   "metadata": {},
   "outputs": [
    {
     "name": "stdout",
     "output_type": "stream",
     "text": [
      "time  139.75012636184692\n"
     ]
    }
   ],
   "source": [
    "########################\n",
    "#Run model\n",
    "########################\n",
    "\n",
    "#This takes a long time - make sure to use workers = number of cores - 1\n",
    "t1 = time.time()\n",
    "lda_model = gensim.models.LdaMulticore(corpus, num_topics=10, id2word=id2word, passes=10, workers=7)\n",
    "t2 = time.time()\n",
    "print(\"time \", t2-t1)"
   ]
  },
  {
   "cell_type": "code",
   "execution_count": 23,
   "metadata": {},
   "outputs": [
    {
     "name": "stdout",
     "output_type": "stream",
     "text": [
      "Topic: 0 \n",
      "Words: 0.020*\"cell\" + 0.012*\"protein\" + 0.007*\"biology\" + 0.007*\"gene\" + 0.007*\"plant\" + 0.007*\"function\" + 0.007*\"biological\" + 0.006*\"molecular\" + 0.005*\"brain\" + 0.005*\"development\"\n",
      "Topic: 1 \n",
      "Words: 0.010*\"instrument\" + 0.010*\"data\" + 0.010*\"physic\" + 0.009*\"university\" + 0.008*\"support\" + 0.007*\"program\" + 0.007*\"image\" + 0.006*\"facility\" + 0.005*\"particle\" + 0.005*\"scientific\"\n",
      "Topic: 2 \n",
      "Words: 0.019*\"theory\" + 0.016*\"problem\" + 0.016*\"model\" + 0.011*\"method\" + 0.009*\"mathematical\" + 0.007*\"structure\" + 0.007*\"application\" + 0.007*\"field\" + 0.007*\"analysis\" + 0.006*\"quantum\"\n",
      "Topic: 3 \n",
      "Words: 0.021*\"data\" + 0.012*\"network\" + 0.011*\"design\" + 0.009*\"model\" + 0.007*\"application\" + 0.007*\"software\" + 0.006*\"base\" + 0.006*\"information\" + 0.006*\"tool\" + 0.005*\"user\"\n",
      "Topic: 4 \n",
      "Words: 0.013*\"model\" + 0.008*\"climate\" + 0.007*\"ocean\" + 0.007*\"data\" + 0.007*\"change\" + 0.007*\"process\" + 0.006*\"earth\" + 0.005*\"surface\" + 0.005*\"flow\" + 0.005*\"scale\"\n",
      "Topic: 5 \n",
      "Words: 0.017*\"material\" + 0.012*\"chemical\" + 0.011*\"chemistry\" + 0.008*\"property\" + 0.008*\"structure\" + 0.007*\"program\" + 0.007*\"reaction\" + 0.006*\"molecular\" + 0.006*\"molecule\" + 0.006*\"process\"\n",
      "Topic: 6 \n",
      "Words: 0.015*\"material\" + 0.012*\"energy\" + 0.011*\"device\" + 0.011*\"technology\" + 0.007*\"application\" + 0.006*\"design\" + 0.006*\"cost\" + 0.006*\"low\" + 0.006*\"base\" + 0.006*\"power\"\n",
      "Topic: 7 \n",
      "Words: 0.013*\"social\" + 0.007*\"data\" + 0.006*\"policy\" + 0.006*\"language\" + 0.005*\"understand\" + 0.005*\"change\" + 0.005*\"community\" + 0.005*\"individual\" + 0.004*\"people\" + 0.004*\"economic\"\n",
      "Topic: 8 \n",
      "Words: 0.014*\"specie\" + 0.011*\"change\" + 0.009*\"water\" + 0.009*\"environmental\" + 0.008*\"plant\" + 0.006*\"community\" + 0.006*\"population\" + 0.006*\"human\" + 0.006*\"data\" + 0.005*\"ecological\"\n",
      "Topic: 9 \n",
      "Words: 0.018*\"program\" + 0.012*\"stem\" + 0.011*\"engineering\" + 0.010*\"support\" + 0.010*\"education\" + 0.010*\"university\" + 0.008*\"conference\" + 0.008*\"community\" + 0.008*\"learn\" + 0.008*\"school\"\n"
     ]
    }
   ],
   "source": [
    "for idx, topic in lda_model.print_topics(-1):\n",
    "    print('Topic: {} \\nWords: {}'.format(idx, topic))"
   ]
  },
  {
   "cell_type": "markdown",
   "metadata": {},
   "source": [
    "# Create a visualization of the model results using pyLDAvis"
   ]
  },
  {
   "cell_type": "code",
   "execution_count": 24,
   "metadata": {},
   "outputs": [],
   "source": [
    "import pyLDAvis\n",
    "import pyLDAvis.gensim as ldavis"
   ]
  },
  {
   "cell_type": "code",
   "execution_count": 25,
   "metadata": {},
   "outputs": [
    {
     "name": "stderr",
     "output_type": "stream",
     "text": [
      "/home/kjl5t/.local/lib/python3.6/site-packages/pyLDAvis/_prepare.py:257: FutureWarning: Sorting because non-concatenation axis is not aligned. A future version\n",
      "of pandas will change to not sort by default.\n",
      "\n",
      "To accept the future behavior, pass 'sort=False'.\n",
      "\n",
      "To retain the current behavior and silence the warning, pass 'sort=True'.\n",
      "\n",
      "  return pd.concat([default_term_info] + list(topic_dfs))\n"
     ]
    }
   ],
   "source": [
    "pyLDAvis.enable_notebook()\n",
    "\n",
    "vis = ldavis.prepare(lda_model, corpus, id2word)\n"
   ]
  },
  {
   "cell_type": "code",
   "execution_count": 26,
   "metadata": {},
   "outputs": [
    {
     "data": {
      "text/html": [
       "\n",
       "<link rel=\"stylesheet\" type=\"text/css\" href=\"https://cdn.rawgit.com/bmabey/pyLDAvis/files/ldavis.v1.0.0.css\">\n",
       "\n",
       "\n",
       "<div id=\"ldavis_el3186971401067311573286800676213\"></div>\n",
       "<script type=\"text/javascript\">\n",
       "\n",
       "var ldavis_el3186971401067311573286800676213_data = {\"mdsDat\": {\"x\": [0.15083354989598344, -0.0152598560775159, -0.14548154809438593, 0.12700319970859797, -0.1011024441701262, -0.024541766188873052, -0.12130229344982374, 0.1121492784428138, 0.013400629348606419, 0.00430125058472357], \"y\": [-0.1647504592962231, -0.07213325510000397, -0.05884247584284343, 0.014263768279635729, -0.011669411468060132, 0.13857064886489132, 0.011221797069635532, 0.14647263720097572, 0.060002263680418444, -0.06313551338842628], \"topics\": [1, 2, 3, 4, 5, 6, 7, 8, 9, 10], \"cluster\": [1, 1, 1, 1, 1, 1, 1, 1, 1, 1], \"Freq\": [16.256406784057617, 14.622651100158691, 11.084271430969238, 9.847719192504883, 9.272883415222168, 9.246259689331055, 8.555546760559082, 8.191508293151855, 8.04900074005127, 4.873748302459717]}, \"tinfo\": {\"Category\": [\"Default\", \"Default\", \"Default\", \"Default\", \"Default\", \"Default\", \"Default\", \"Default\", \"Default\", \"Default\", \"Default\", \"Default\", \"Default\", \"Default\", \"Default\", \"Default\", \"Default\", \"Default\", \"Default\", \"Default\", \"Default\", \"Default\", \"Default\", \"Default\", \"Default\", \"Default\", \"Default\", \"Default\", \"Default\", \"Default\", \"Topic1\", \"Topic1\", \"Topic1\", \"Topic1\", \"Topic1\", \"Topic1\", \"Topic1\", \"Topic1\", \"Topic1\", \"Topic1\", \"Topic1\", \"Topic1\", \"Topic1\", \"Topic1\", \"Topic1\", \"Topic1\", \"Topic1\", \"Topic1\", \"Topic1\", \"Topic1\", \"Topic1\", \"Topic1\", \"Topic1\", \"Topic1\", \"Topic1\", \"Topic1\", \"Topic1\", \"Topic1\", \"Topic1\", \"Topic1\", \"Topic1\", \"Topic1\", \"Topic1\", \"Topic1\", \"Topic1\", \"Topic1\", \"Topic1\", \"Topic1\", \"Topic1\", \"Topic1\", \"Topic1\", \"Topic1\", \"Topic1\", \"Topic1\", \"Topic1\", \"Topic1\", \"Topic1\", \"Topic1\", \"Topic1\", \"Topic1\", \"Topic1\", \"Topic1\", \"Topic1\", \"Topic1\", \"Topic1\", \"Topic1\", \"Topic1\", \"Topic1\", \"Topic1\", \"Topic1\", \"Topic1\", \"Topic1\", \"Topic1\", \"Topic1\", \"Topic1\", \"Topic1\", \"Topic1\", \"Topic1\", \"Topic1\", \"Topic1\", \"Topic1\", \"Topic1\", \"Topic1\", \"Topic1\", \"Topic1\", \"Topic1\", \"Topic1\", \"Topic1\", \"Topic1\", \"Topic1\", \"Topic1\", \"Topic1\", \"Topic1\", \"Topic1\", \"Topic1\", \"Topic1\", \"Topic1\", \"Topic1\", \"Topic1\", \"Topic1\", \"Topic1\", \"Topic1\", \"Topic1\", \"Topic2\", \"Topic2\", \"Topic2\", \"Topic2\", \"Topic2\", \"Topic2\", \"Topic2\", \"Topic2\", \"Topic2\", \"Topic2\", \"Topic2\", \"Topic2\", \"Topic2\", \"Topic2\", \"Topic2\", \"Topic2\", \"Topic2\", \"Topic2\", \"Topic2\", \"Topic2\", \"Topic2\", \"Topic2\", \"Topic2\", \"Topic2\", \"Topic2\", \"Topic2\", \"Topic2\", \"Topic2\", \"Topic2\", \"Topic2\", \"Topic2\", \"Topic2\", \"Topic2\", \"Topic2\", \"Topic2\", \"Topic2\", \"Topic2\", \"Topic2\", \"Topic2\", \"Topic2\", \"Topic2\", \"Topic2\", \"Topic2\", \"Topic2\", \"Topic2\", \"Topic2\", \"Topic2\", \"Topic2\", \"Topic2\", \"Topic2\", \"Topic2\", \"Topic2\", \"Topic2\", \"Topic2\", \"Topic2\", \"Topic2\", \"Topic2\", \"Topic2\", \"Topic2\", \"Topic2\", \"Topic2\", \"Topic2\", \"Topic2\", \"Topic2\", \"Topic2\", \"Topic2\", \"Topic2\", \"Topic2\", \"Topic2\", \"Topic2\", \"Topic2\", \"Topic2\", \"Topic2\", \"Topic2\", \"Topic2\", \"Topic2\", \"Topic2\", \"Topic2\", \"Topic2\", \"Topic2\", \"Topic2\", \"Topic2\", \"Topic2\", \"Topic2\", \"Topic2\", \"Topic2\", \"Topic2\", \"Topic2\", \"Topic2\", \"Topic2\", \"Topic2\", \"Topic2\", \"Topic2\", \"Topic2\", \"Topic2\", \"Topic2\", \"Topic2\", \"Topic2\", \"Topic2\", \"Topic2\", \"Topic3\", \"Topic3\", \"Topic3\", \"Topic3\", \"Topic3\", \"Topic3\", \"Topic3\", \"Topic3\", \"Topic3\", \"Topic3\", \"Topic3\", \"Topic3\", \"Topic3\", \"Topic3\", \"Topic3\", \"Topic3\", \"Topic3\", \"Topic3\", \"Topic3\", \"Topic3\", \"Topic3\", \"Topic3\", \"Topic3\", \"Topic3\", \"Topic3\", \"Topic3\", \"Topic3\", \"Topic3\", \"Topic3\", \"Topic3\", \"Topic3\", \"Topic3\", \"Topic3\", \"Topic3\", \"Topic3\", \"Topic3\", \"Topic3\", \"Topic3\", \"Topic3\", \"Topic3\", \"Topic3\", \"Topic3\", \"Topic3\", \"Topic3\", \"Topic3\", \"Topic3\", \"Topic3\", \"Topic3\", \"Topic3\", \"Topic3\", \"Topic3\", \"Topic3\", \"Topic3\", \"Topic3\", \"Topic3\", \"Topic3\", \"Topic3\", \"Topic3\", \"Topic3\", \"Topic3\", \"Topic3\", \"Topic3\", \"Topic3\", \"Topic3\", \"Topic3\", \"Topic3\", \"Topic3\", \"Topic3\", \"Topic3\", \"Topic3\", \"Topic3\", \"Topic3\", \"Topic3\", \"Topic3\", \"Topic3\", \"Topic3\", \"Topic3\", \"Topic3\", \"Topic3\", \"Topic3\", \"Topic3\", \"Topic3\", \"Topic3\", \"Topic3\", \"Topic3\", \"Topic3\", \"Topic3\", \"Topic3\", \"Topic3\", \"Topic3\", \"Topic3\", \"Topic3\", \"Topic3\", \"Topic3\", \"Topic3\", \"Topic3\", \"Topic3\", \"Topic3\", \"Topic4\", \"Topic4\", \"Topic4\", \"Topic4\", \"Topic4\", \"Topic4\", \"Topic4\", \"Topic4\", \"Topic4\", \"Topic4\", \"Topic4\", \"Topic4\", \"Topic4\", \"Topic4\", \"Topic4\", \"Topic4\", \"Topic4\", \"Topic4\", \"Topic4\", \"Topic4\", \"Topic4\", \"Topic4\", \"Topic4\", \"Topic4\", \"Topic4\", \"Topic4\", \"Topic4\", \"Topic4\", \"Topic4\", \"Topic4\", \"Topic4\", \"Topic4\", \"Topic4\", \"Topic4\", \"Topic4\", \"Topic4\", \"Topic4\", \"Topic4\", \"Topic4\", \"Topic4\", \"Topic4\", \"Topic4\", \"Topic4\", \"Topic4\", \"Topic4\", \"Topic4\", \"Topic4\", \"Topic4\", \"Topic4\", \"Topic4\", \"Topic4\", \"Topic4\", \"Topic4\", \"Topic4\", \"Topic4\", \"Topic4\", \"Topic4\", \"Topic4\", \"Topic4\", \"Topic4\", \"Topic4\", \"Topic4\", \"Topic4\", \"Topic4\", \"Topic4\", \"Topic4\", \"Topic4\", \"Topic4\", \"Topic4\", \"Topic4\", \"Topic4\", \"Topic4\", \"Topic4\", \"Topic4\", \"Topic4\", \"Topic4\", \"Topic4\", \"Topic4\", \"Topic4\", \"Topic4\", \"Topic4\", \"Topic4\", \"Topic4\", \"Topic4\", \"Topic4\", \"Topic4\", \"Topic4\", \"Topic4\", \"Topic4\", \"Topic4\", \"Topic4\", \"Topic4\", \"Topic4\", \"Topic4\", \"Topic4\", \"Topic4\", \"Topic4\", \"Topic4\", \"Topic4\", \"Topic4\", \"Topic4\", \"Topic4\", \"Topic4\", \"Topic4\", \"Topic5\", \"Topic5\", \"Topic5\", \"Topic5\", \"Topic5\", \"Topic5\", \"Topic5\", \"Topic5\", \"Topic5\", \"Topic5\", \"Topic5\", \"Topic5\", \"Topic5\", \"Topic5\", \"Topic5\", \"Topic5\", \"Topic5\", \"Topic5\", \"Topic5\", \"Topic5\", \"Topic5\", \"Topic5\", \"Topic5\", \"Topic5\", \"Topic5\", \"Topic5\", \"Topic5\", \"Topic5\", \"Topic5\", \"Topic5\", \"Topic5\", \"Topic5\", \"Topic5\", \"Topic5\", \"Topic5\", \"Topic5\", \"Topic5\", \"Topic5\", \"Topic5\", \"Topic5\", \"Topic5\", \"Topic5\", \"Topic5\", \"Topic5\", \"Topic5\", \"Topic5\", \"Topic5\", \"Topic5\", \"Topic5\", \"Topic5\", \"Topic5\", \"Topic5\", \"Topic5\", \"Topic5\", \"Topic5\", \"Topic5\", \"Topic5\", \"Topic5\", \"Topic5\", \"Topic5\", \"Topic5\", \"Topic5\", \"Topic5\", \"Topic5\", \"Topic5\", \"Topic5\", \"Topic5\", \"Topic5\", \"Topic5\", \"Topic5\", \"Topic5\", \"Topic5\", \"Topic5\", \"Topic5\", \"Topic5\", \"Topic5\", \"Topic5\", \"Topic5\", \"Topic5\", \"Topic5\", \"Topic5\", \"Topic5\", \"Topic5\", \"Topic5\", \"Topic5\", \"Topic5\", \"Topic5\", \"Topic5\", \"Topic5\", \"Topic5\", \"Topic5\", \"Topic5\", \"Topic5\", \"Topic5\", \"Topic6\", \"Topic6\", \"Topic6\", \"Topic6\", \"Topic6\", \"Topic6\", \"Topic6\", \"Topic6\", \"Topic6\", \"Topic6\", \"Topic6\", \"Topic6\", \"Topic6\", \"Topic6\", \"Topic6\", \"Topic6\", \"Topic6\", \"Topic6\", \"Topic6\", \"Topic6\", \"Topic6\", \"Topic6\", \"Topic6\", \"Topic6\", \"Topic6\", \"Topic6\", \"Topic6\", \"Topic6\", \"Topic6\", \"Topic6\", \"Topic6\", \"Topic6\", \"Topic6\", \"Topic6\", \"Topic6\", \"Topic6\", \"Topic6\", \"Topic6\", \"Topic6\", \"Topic6\", \"Topic6\", \"Topic6\", \"Topic6\", \"Topic6\", \"Topic6\", \"Topic6\", \"Topic6\", \"Topic6\", \"Topic6\", \"Topic6\", \"Topic6\", \"Topic6\", \"Topic6\", \"Topic6\", \"Topic6\", \"Topic6\", \"Topic6\", \"Topic6\", \"Topic6\", \"Topic6\", \"Topic6\", \"Topic6\", \"Topic6\", \"Topic6\", \"Topic6\", \"Topic6\", \"Topic6\", \"Topic6\", \"Topic6\", \"Topic6\", \"Topic6\", \"Topic6\", \"Topic6\", \"Topic6\", \"Topic6\", \"Topic6\", \"Topic6\", \"Topic6\", \"Topic6\", \"Topic6\", \"Topic6\", \"Topic6\", \"Topic6\", \"Topic6\", \"Topic6\", \"Topic6\", \"Topic6\", \"Topic7\", \"Topic7\", \"Topic7\", \"Topic7\", \"Topic7\", \"Topic7\", \"Topic7\", \"Topic7\", \"Topic7\", \"Topic7\", \"Topic7\", \"Topic7\", \"Topic7\", \"Topic7\", \"Topic7\", \"Topic7\", \"Topic7\", \"Topic7\", \"Topic7\", \"Topic7\", \"Topic7\", \"Topic7\", \"Topic7\", \"Topic7\", \"Topic7\", \"Topic7\", \"Topic7\", \"Topic7\", \"Topic7\", \"Topic7\", \"Topic7\", \"Topic7\", \"Topic7\", \"Topic7\", \"Topic7\", \"Topic7\", \"Topic7\", \"Topic7\", \"Topic7\", \"Topic7\", \"Topic7\", \"Topic7\", \"Topic7\", \"Topic7\", \"Topic7\", \"Topic7\", \"Topic7\", \"Topic7\", \"Topic7\", \"Topic7\", \"Topic7\", \"Topic7\", \"Topic7\", \"Topic7\", \"Topic7\", \"Topic7\", \"Topic7\", \"Topic7\", \"Topic7\", \"Topic7\", \"Topic7\", \"Topic7\", \"Topic7\", \"Topic7\", \"Topic7\", \"Topic7\", \"Topic7\", \"Topic7\", \"Topic7\", \"Topic7\", \"Topic7\", \"Topic7\", \"Topic7\", \"Topic7\", \"Topic7\", \"Topic7\", \"Topic7\", \"Topic7\", \"Topic7\", \"Topic7\", \"Topic7\", \"Topic7\", \"Topic7\", \"Topic7\", \"Topic7\", \"Topic7\", \"Topic7\", \"Topic7\", \"Topic7\", \"Topic7\", \"Topic7\", \"Topic8\", \"Topic8\", \"Topic8\", \"Topic8\", \"Topic8\", \"Topic8\", \"Topic8\", \"Topic8\", \"Topic8\", \"Topic8\", \"Topic8\", \"Topic8\", \"Topic8\", \"Topic8\", \"Topic8\", \"Topic8\", \"Topic8\", \"Topic8\", \"Topic8\", \"Topic8\", \"Topic8\", \"Topic8\", \"Topic8\", \"Topic8\", \"Topic8\", \"Topic8\", \"Topic8\", \"Topic8\", \"Topic8\", \"Topic8\", \"Topic8\", \"Topic8\", \"Topic8\", \"Topic8\", \"Topic8\", \"Topic8\", \"Topic8\", \"Topic8\", \"Topic8\", \"Topic8\", \"Topic8\", \"Topic8\", \"Topic8\", \"Topic8\", \"Topic8\", \"Topic8\", \"Topic8\", \"Topic8\", \"Topic8\", \"Topic8\", \"Topic8\", \"Topic8\", \"Topic8\", \"Topic8\", \"Topic8\", \"Topic8\", \"Topic8\", \"Topic8\", \"Topic8\", \"Topic8\", \"Topic8\", \"Topic8\", \"Topic8\", \"Topic8\", \"Topic8\", \"Topic8\", \"Topic8\", \"Topic8\", \"Topic8\", \"Topic8\", \"Topic8\", \"Topic8\", \"Topic8\", \"Topic8\", \"Topic8\", \"Topic8\", \"Topic8\", \"Topic8\", \"Topic8\", \"Topic8\", \"Topic8\", \"Topic8\", \"Topic8\", \"Topic8\", \"Topic8\", \"Topic8\", \"Topic8\", \"Topic8\", \"Topic9\", \"Topic9\", \"Topic9\", \"Topic9\", \"Topic9\", \"Topic9\", \"Topic9\", \"Topic9\", \"Topic9\", \"Topic9\", \"Topic9\", \"Topic9\", \"Topic9\", \"Topic9\", \"Topic9\", \"Topic9\", \"Topic9\", \"Topic9\", \"Topic9\", \"Topic9\", \"Topic9\", \"Topic9\", \"Topic9\", \"Topic9\", \"Topic9\", \"Topic9\", \"Topic9\", \"Topic9\", \"Topic9\", \"Topic9\", \"Topic9\", \"Topic9\", \"Topic9\", \"Topic9\", \"Topic9\", \"Topic9\", \"Topic9\", \"Topic9\", \"Topic9\", \"Topic9\", \"Topic9\", \"Topic9\", \"Topic9\", \"Topic9\", \"Topic9\", \"Topic9\", \"Topic9\", \"Topic9\", \"Topic9\", \"Topic9\", \"Topic9\", \"Topic9\", \"Topic9\", \"Topic9\", \"Topic9\", \"Topic9\", \"Topic9\", \"Topic9\", \"Topic9\", \"Topic9\", \"Topic9\", \"Topic9\", \"Topic9\", \"Topic9\", \"Topic9\", \"Topic9\", \"Topic9\", \"Topic9\", \"Topic9\", \"Topic9\", \"Topic9\", \"Topic9\", \"Topic9\", \"Topic9\", \"Topic9\", \"Topic9\", \"Topic9\", \"Topic9\", \"Topic9\", \"Topic9\", \"Topic9\", \"Topic9\", \"Topic9\", \"Topic9\", \"Topic9\", \"Topic9\", \"Topic9\", \"Topic9\", \"Topic9\", \"Topic9\", \"Topic10\", \"Topic10\", \"Topic10\", \"Topic10\", \"Topic10\", \"Topic10\", \"Topic10\", \"Topic10\", \"Topic10\", \"Topic10\", \"Topic10\", \"Topic10\", \"Topic10\", \"Topic10\", \"Topic10\", \"Topic10\", \"Topic10\", \"Topic10\", \"Topic10\", \"Topic10\", \"Topic10\", \"Topic10\", \"Topic10\", \"Topic10\", \"Topic10\", \"Topic10\", \"Topic10\", \"Topic10\", \"Topic10\", \"Topic10\", \"Topic10\", \"Topic10\", \"Topic10\", \"Topic10\", \"Topic10\", \"Topic10\", \"Topic10\", \"Topic10\", \"Topic10\", \"Topic10\", \"Topic10\", \"Topic10\", \"Topic10\", \"Topic10\", \"Topic10\", \"Topic10\", \"Topic10\", \"Topic10\", \"Topic10\", \"Topic10\", \"Topic10\", \"Topic10\", \"Topic10\", \"Topic10\", \"Topic10\", \"Topic10\", \"Topic10\", \"Topic10\", \"Topic10\", \"Topic10\", \"Topic10\", \"Topic10\", \"Topic10\", \"Topic10\", \"Topic10\", \"Topic10\", \"Topic10\", \"Topic10\", \"Topic10\", \"Topic10\", \"Topic10\", \"Topic10\", \"Topic10\", \"Topic10\", \"Topic10\", \"Topic10\", \"Topic10\", \"Topic10\", \"Topic10\", \"Topic10\", \"Topic10\", \"Topic10\", \"Topic10\", \"Topic10\", \"Topic10\"], \"Freq\": [79288.0, 39714.0, 42209.0, 117340.0, 46990.0, 42611.0, 31233.0, 25704.0, 31617.0, 101031.0, 20039.0, 25192.0, 27797.0, 28414.0, 24829.0, 60592.0, 48427.0, 26642.0, 30043.0, 116058.0, 23607.0, 52749.0, 57161.0, 26021.0, 18552.0, 22788.0, 23063.0, 21578.0, 61773.0, 19278.0, 2290.9443359375, 1262.1790771484375, 704.3792114257812, 653.3255615234375, 722.3212280273438, 636.2872924804688, 567.060546875, 535.9176635742188, 531.9378662109375, 554.3788452148438, 414.1370544433594, 393.0457458496094, 396.5185241699219, 343.494140625, 313.2203674316406, 300.7834777832031, 336.23828125, 319.0587158203125, 286.2298583984375, 258.193359375, 259.32861328125, 249.1442413330078, 663.258056640625, 242.59881591796875, 237.46791076660156, 228.0351104736328, 239.74342346191406, 281.7073669433594, 236.88787841796875, 212.2218780517578, 4626.8046875, 27346.193359375, 866.4027709960938, 1159.7684326171875, 2309.521728515625, 1177.4603271484375, 365.14263916015625, 21700.318359375, 24612.49609375, 5279.5888671875, 39253.4296875, 1305.0361328125, 1983.60400390625, 839.1851806640625, 1039.9688720703125, 3256.2509765625, 4572.75048828125, 3850.086181640625, 1969.27734375, 975.9624633789062, 10192.3916015625, 15215.4453125, 17654.990234375, 3800.302734375, 21123.9296875, 14694.5419921875, 2686.632080078125, 2788.560302734375, 7880.66455078125, 17480.359375, 12089.8212890625, 11068.5380859375, 3166.425048828125, 14185.328125, 9633.287109375, 4672.70703125, 10448.12890625, 32962.08203125, 59123.29296875, 36174.13671875, 6518.35302734375, 26040.16015625, 10962.5927734375, 14150.4814453125, 25041.869140625, 17539.095703125, 32215.951171875, 19985.662109375, 33248.71484375, 10240.7216796875, 18577.423828125, 27153.724609375, 17056.8046875, 23763.91015625, 19192.095703125, 24526.103515625, 18781.24609375, 19304.689453125, 19054.849609375, 16966.73828125, 16145.9462890625, 15465.0751953125, 14926.0771484375, 1139.8477783203125, 3449.285888671875, 1014.2593383789062, 727.9609985351562, 654.7846069335938, 558.701171875, 530.2837524414062, 521.1055908203125, 450.4601745605469, 433.0330810546875, 474.5859069824219, 403.0815124511719, 398.5286560058594, 374.25128173828125, 358.5800476074219, 344.3472900390625, 319.8753662109375, 272.70819091796875, 280.200927734375, 262.3921813964844, 429.09515380859375, 244.99154663085938, 238.2606964111328, 223.44688415527344, 231.9524383544922, 222.41485595703125, 235.10472106933594, 1485.91943359375, 278.9295959472656, 243.39889526367188, 5694.39111328125, 2120.957763671875, 544.1012573242188, 896.8160400390625, 522.59765625, 662.1937866210938, 4978.3505859375, 20286.478515625, 2395.0810546875, 1995.1165771484375, 848.6673583984375, 1690.729248046875, 7118.52001953125, 5875.2080078125, 2525.00537109375, 15703.71875, 2909.368896484375, 1975.15771484375, 5721.44140625, 1085.278076171875, 850.5955200195312, 3354.401123046875, 1337.1630859375, 919.4696044921875, 4654.193359375, 2031.3421630859375, 36232.46875, 1251.3900146484375, 8964.4130859375, 2917.968505859375, 7351.4755859375, 8439.8369140625, 1780.7244873046875, 12894.3359375, 61094.54296875, 5942.2373046875, 3869.884033203125, 7856.5322265625, 3634.28759765625, 14933.2109375, 31595.63671875, 9241.9228515625, 5369.31689453125, 9454.0859375, 12905.029296875, 7231.87939453125, 16422.779296875, 17836.841796875, 9602.556640625, 20515.240234375, 7151.2021484375, 13150.171875, 25079.1875, 18714.26171875, 10627.0517578125, 13799.9794921875, 13804.8037109375, 12014.8173828125, 14006.4990234375, 10566.294921875, 12648.9521484375, 11505.369140625, 11266.681640625, 11241.7861328125, 11064.59765625, 10402.6728515625, 10211.8134765625, 10245.904296875, 10016.9794921875, 9617.6259765625, 1024.00634765625, 914.9806518554688, 1298.6668701171875, 731.7627563476562, 616.7731323242188, 592.1864624023438, 480.4138488769531, 471.420166015625, 471.5693359375, 369.3128356933594, 290.8046569824219, 273.638427734375, 502.83428955078125, 293.64569091796875, 276.96795654296875, 393.6622009277344, 252.6951141357422, 252.04444885253906, 279.48150634765625, 447.873291015625, 526.57177734375, 792.8931884765625, 215.92994689941406, 247.134521484375, 210.81224060058594, 382.38165283203125, 203.77444458007812, 187.90060424804688, 186.4055938720703, 218.82632446289062, 1553.9561767578125, 973.06982421875, 435.728759765625, 597.3524169921875, 509.9117431640625, 2343.856689453125, 1726.5753173828125, 4751.10546875, 5122.1142578125, 711.3614501953125, 404.3208312988281, 2849.597900390625, 681.3235473632812, 609.4446411132812, 958.7647094726562, 528.0198974609375, 24670.3359375, 11022.4296875, 3697.706787109375, 3494.054443359375, 2462.679443359375, 5349.14794921875, 3125.615234375, 4668.0439453125, 5606.2275390625, 2096.28515625, 1211.249267578125, 3180.6650390625, 3508.78759765625, 4826.03564453125, 7554.15771484375, 7022.26416015625, 3772.426025390625, 26306.537109375, 5515.6875, 12319.6103515625, 2739.974365234375, 12751.939453125, 2649.088623046875, 32635.94921875, 3342.697509765625, 6272.48095703125, 23482.234375, 12728.9453125, 8129.51025390625, 7117.84228515625, 6237.23974609375, 6260.5859375, 5215.11572265625, 8146.27294921875, 15063.4560546875, 7657.75732421875, 5260.6787109375, 11335.0966796875, 12100.8642578125, 7170.0625, 9917.064453125, 13803.5224609375, 8719.9443359375, 12636.2744140625, 10094.6787109375, 9841.9462890625, 12146.310546875, 8318.4111328125, 10007.212890625, 7858.9716796875, 8535.6103515625, 8706.0029296875, 6070.5810546875, 1018.13427734375, 1183.59765625, 935.0047607421875, 839.364501953125, 745.1950073242188, 680.305908203125, 526.626708984375, 465.8466491699219, 510.1571044921875, 406.27325439453125, 406.6714782714844, 403.6167297363281, 399.1536560058594, 350.1612854003906, 345.8828430175781, 313.95037841796875, 544.789306640625, 418.55499267578125, 291.0267639160156, 316.87371826171875, 249.23199462890625, 279.50396728515625, 245.4020538330078, 250.67544555664062, 241.10426330566406, 1909.2156982421875, 250.57626342773438, 225.8437042236328, 233.2533721923828, 2265.400146484375, 1347.1641845703125, 705.0955810546875, 775.5218505859375, 365.0614013671875, 330.3275146484375, 380.3017272949219, 1328.8258056640625, 1109.8013916015625, 605.2352294921875, 587.9569091796875, 2097.79052734375, 1123.3358154296875, 890.8599243164062, 843.7363891601562, 7184.611328125, 897.3717651367188, 25938.939453125, 3681.4423828125, 816.3665161132812, 12619.6298828125, 2389.585693359375, 10846.884765625, 1326.85302734375, 734.215576171875, 4089.7177734375, 1375.4312744140625, 2194.06689453125, 1592.42138671875, 8606.396484375, 8311.328125, 2193.443359375, 1109.5435791015625, 1857.127197265625, 2787.85888671875, 2569.749755859375, 2016.6734619140625, 5262.8935546875, 4844.126953125, 3301.290771484375, 7994.79052734375, 3559.9951171875, 3351.2265625, 8858.0078125, 3977.696533203125, 5157.57421875, 4810.65771484375, 8285.5703125, 6129.16552734375, 2808.861083984375, 5044.720703125, 10655.2958984375, 6836.11083984375, 4316.0869140625, 14050.0927734375, 9809.0703125, 9717.7333984375, 5217.56201171875, 5046.68408203125, 7831.05712890625, 6537.09765625, 5646.302734375, 7560.8173828125, 7819.462890625, 7700.80615234375, 6331.61572265625, 6078.1923828125, 6653.0986328125, 6197.29296875, 6461.02197265625, 6356.69873046875, 6489.90478515625, 6661.67578125, 5878.748046875, 2671.421142578125, 563.260009765625, 3028.552734375, 503.1764831542969, 457.9146728515625, 1109.1627197265625, 372.09295654296875, 354.7323913574219, 544.755126953125, 311.58331298828125, 314.5869140625, 285.6617126464844, 363.55670166015625, 272.3573303222656, 258.50360107421875, 264.78985595703125, 289.02044677734375, 247.31410217285156, 240.41062927246094, 236.10719299316406, 214.38760375976562, 280.03570556640625, 210.50352478027344, 196.2764892578125, 337.8539123535156, 193.58505249023438, 225.96803283691406, 212.90480041503906, 189.1071014404297, 174.9371795654297, 2113.63232421875, 1643.542724609375, 887.3389282226562, 471.3932800292969, 1517.0804443359375, 6090.296875, 390.1419982910156, 345.75372314453125, 12336.6318359375, 2462.7880859375, 397.268310546875, 1158.42529296875, 650.9613647460938, 669.284423828125, 1669.01416015625, 10684.4365234375, 4072.4990234375, 7770.173828125, 902.5861206054688, 21105.966796875, 22383.59765625, 11360.2802734375, 1993.97314453125, 8211.8369140625, 1632.6497802734375, 1565.5506591796875, 4735.98095703125, 8363.9248046875, 2528.549072265625, 2501.80078125, 6186.34375, 1596.8033447265625, 1339.3485107421875, 4647.1005859375, 3210.84423828125, 31626.74609375, 11545.244140625, 3584.0087890625, 15432.609375, 5012.28759765625, 11142.181640625, 14836.103515625, 3789.85009765625, 3444.840087890625, 4838.2724609375, 6004.93212890625, 11316.7109375, 3467.75048828125, 12765.806640625, 8883.3818359375, 7264.6484375, 9191.30078125, 9304.5419921875, 6607.53125, 5755.880859375, 8052.90673828125, 8002.98388671875, 8494.0908203125, 7109.30419921875, 7541.3896484375, 7124.06689453125, 6725.1865234375, 6401.2919921875, 6253.95947265625, 3820.99462890625, 1607.149658203125, 1546.258544921875, 1427.2330322265625, 1305.450927734375, 1296.8192138671875, 1341.7987060546875, 981.8806762695312, 957.9993896484375, 1076.2222900390625, 749.584228515625, 704.4891967773438, 775.1534423828125, 738.6195068359375, 598.248046875, 563.6674194335938, 545.62890625, 533.7627563476562, 1454.8143310546875, 480.0732421875, 480.38726806640625, 473.3702087402344, 486.489501953125, 416.6973571777344, 407.7218322753906, 411.74249267578125, 398.5573425292969, 418.62939453125, 381.7768859863281, 362.6690673828125, 5715.279296875, 6346.720703125, 4690.08544921875, 1012.3141479492188, 813.4091186523438, 836.7443237304688, 13610.0537109375, 1966.9251708984375, 1379.379150390625, 4560.94775390625, 2540.0390625, 1622.3824462890625, 4437.56591796875, 5134.13916015625, 1432.3304443359375, 6540.09716796875, 2506.33251953125, 1409.926025390625, 4261.03076171875, 4028.46728515625, 4159.96337890625, 2604.4609375, 11249.59765625, 2144.267822265625, 15445.6025390625, 2793.06494140625, 3145.893310546875, 3741.0146484375, 4046.403076171875, 3079.8662109375, 9317.02734375, 6253.765625, 5237.16259765625, 23771.072265625, 5162.46826171875, 7565.53076171875, 9392.455078125, 13182.2177734375, 13097.810546875, 8076.5361328125, 9071.21875, 6728.009765625, 5978.47509765625, 13581.072265625, 8760.55859375, 8619.123046875, 7730.9208984375, 8119.541015625, 5616.2646484375, 7215.30078125, 5639.412109375, 6005.6591796875, 5613.67626953125, 5755.69384765625, 5386.8623046875, 5518.005859375, 5504.720703125, 2863.425048828125, 2632.107421875, 2116.39208984375, 1502.5572509765625, 1598.8245849609375, 1392.408447265625, 1132.4320068359375, 982.5903930664062, 843.4906616210938, 687.8544921875, 670.129150390625, 3219.123779296875, 592.8411865234375, 2441.836669921875, 534.605224609375, 527.345947265625, 431.2369384765625, 417.7195739746094, 414.7789001464844, 396.9903564453125, 403.4006042480469, 373.01788330078125, 370.5199279785156, 355.84918212890625, 353.37677001953125, 336.51849365234375, 316.04840087890625, 302.5248718261719, 292.4954833984375, 288.201416015625, 6418.1552734375, 1440.539794921875, 942.6138916015625, 6777.8896484375, 794.0653686523438, 420.2994079589844, 420.5399475097656, 2755.04345703125, 689.853759765625, 681.3563842773438, 673.5421142578125, 716.8592529296875, 774.7052612304688, 2689.860595703125, 479.46063232421875, 2929.680908203125, 4120.65478515625, 33091.6484375, 2601.866943359375, 15102.8349609375, 3520.443115234375, 6532.1708984375, 3468.406005859375, 3703.65966796875, 2201.111572265625, 1955.7044677734375, 3478.72509765625, 28060.3828125, 4058.789794921875, 7025.46533203125, 2724.86669921875, 10825.5439453125, 7790.4150390625, 3400.1953125, 9751.662109375, 4121.720703125, 5755.1181640625, 8066.29931640625, 19529.765625, 27578.412109375, 9667.263671875, 5232.90625, 9119.751953125, 12168.248046875, 7139.216796875, 11161.0625, 8411.451171875, 11960.7939453125, 11523.0341796875, 6965.109375, 9759.806640625, 9023.2861328125, 6992.3271484375, 5763.35595703125, 8211.595703125, 7845.4326171875, 9464.189453125, 7129.6044921875, 7941.66259765625, 7539.60107421875, 7089.23681640625, 3845.1875, 1073.5059814453125, 628.9510498046875, 540.8626708984375, 693.3430786132812, 434.3386535644531, 433.6307373046875, 435.55401611328125, 754.9849243164062, 332.5374755859375, 293.0957946777344, 291.9139099121094, 4945.75244140625, 289.8673095703125, 289.8673095703125, 286.51934814453125, 3667.22265625, 803.2652587890625, 277.79315185546875, 268.0017395019531, 940.0740356445312, 261.11749267578125, 795.0104370117188, 248.9967498779297, 296.97540283203125, 280.04022216796875, 225.27052307128906, 420.35296630859375, 213.30178833007812, 204.32464599609375, 7734.32958984375, 817.9107666015625, 1721.1900634765625, 294.1306457519531, 1851.9326171875, 650.61767578125, 1222.91845703125, 658.615234375, 5420.34912109375, 3143.804931640625, 1042.3619384765625, 772.08349609375, 1520.532958984375, 610.4177856445312, 889.3969116210938, 22241.73828125, 3002.768310546875, 7615.61865234375, 3912.126220703125, 7026.70263671875, 2404.6181640625, 5549.85009765625, 1634.224853515625, 5930.4462890625, 3547.532958984375, 3553.685546875, 6134.8173828125, 1237.3509521484375, 2457.358642578125, 1796.5223388671875, 1498.31591796875, 1119.6663818359375, 14255.2607421875, 13380.93359375, 3118.910400390625, 2993.016357421875, 14423.82421875, 4176.31396484375, 10372.115234375, 5869.05712890625, 18559.291015625, 4694.63916015625, 7635.98583984375, 5924.9052734375, 9663.1640625, 7245.71240234375, 10407.759765625, 5485.22021484375, 5345.5263671875, 6811.072265625, 9497.1533203125, 7410.47802734375, 5848.7939453125, 6057.06640625, 5974.1376953125, 5346.21435546875, 6487.47998046875, 5353.7099609375, 1224.99462890625, 862.668212890625, 845.4805297851562, 1239.89697265625, 737.2572631835938, 641.8427734375, 628.9075317382812, 651.6187133789062, 502.60528564453125, 488.46661376953125, 436.464111328125, 492.30523681640625, 434.2855224609375, 380.79571533203125, 366.7586364746094, 358.0591735839844, 350.6977844238281, 572.962646484375, 438.2257080078125, 346.47784423828125, 306.0743408203125, 290.0386962890625, 294.7354736328125, 285.95770263671875, 277.0198669433594, 287.17413330078125, 3460.201171875, 260.8643798828125, 257.6846923828125, 247.615234375, 2689.061279296875, 958.5752563476562, 1048.961669921875, 2829.723388671875, 897.9588623046875, 765.6032104492188, 1042.456298828125, 1465.1221923828125, 691.9439697265625, 5628.6123046875, 18660.267578125, 11257.775390625, 1278.89013671875, 1402.3616943359375, 8809.87109375, 7191.19091796875, 6342.5849609375, 7255.818359375, 1162.9493408203125, 31769.583984375, 1587.291748046875, 2871.963623046875, 2625.679443359375, 1825.3966064453125, 2668.730712890625, 2540.90234375, 2183.607177734375, 1746.9384765625, 3470.95849609375, 1319.9737548828125, 3420.617431640625, 3314.53271484375, 11966.986328125, 6762.1416015625, 5000.37841796875, 10626.5908203125, 2085.2294921875, 10926.763671875, 3090.74072265625, 5065.98974609375, 10882.5048828125, 9781.0390625, 6568.017578125, 8134.595703125, 3264.002685546875, 4330.599609375, 8407.9169921875, 5767.62451171875, 7480.60205078125, 5838.140625, 7544.8671875, 5228.21875, 6402.2138671875, 8120.197265625, 7061.83251953125, 6284.03857421875, 6226.1484375, 5421.50048828125, 5331.0615234375, 5183.64794921875, 1200.12158203125, 1359.4786376953125, 1956.4559326171875, 855.9446411132812, 754.9196166992188, 658.0736083984375, 485.3806457519531, 685.968505859375, 458.5450134277344, 424.7080383300781, 401.79681396484375, 339.5086364746094, 360.1318359375, 267.071044921875, 4163.2763671875, 260.80902099609375, 256.5789794921875, 261.3685302734375, 238.36871337890625, 599.71337890625, 1310.70849609375, 204.0927734375, 203.16722106933594, 235.32479858398438, 198.3183135986328, 195.37106323242188, 198.11375427246094, 287.4062805175781, 234.4425506591797, 189.16189575195312, 1337.0008544921875, 973.45947265625, 442.071044921875, 384.16217041015625, 584.1973876953125, 256.9236145019531, 246.6806182861328, 3955.698486328125, 636.3004760742188, 701.1798095703125, 654.1218872070312, 1479.67626953125, 1882.2808837890625, 412.5854187011719, 9854.7041015625, 2860.92626953125, 4851.31982421875, 2971.732421875, 891.615966796875, 3359.45166015625, 6144.94091796875, 1158.5968017578125, 1191.7904052734375, 1315.7784423828125, 9565.291015625, 2401.912109375, 3596.19580078125, 6506.90869140625, 5292.255859375, 1208.430908203125, 2194.81298828125, 8867.1171875, 4834.609375, 8112.76171875, 4412.3125, 4987.81884765625, 9570.04296875, 3252.760986328125, 3665.192626953125, 5231.37451171875, 7267.5546875, 3347.25634765625, 2852.08447265625, 3751.063232421875, 2949.940673828125, 4482.7509765625, 4232.5048828125, 4229.4521484375, 4439.970703125, 4095.582275390625, 4055.381103515625, 4068.73388671875, 4252.951171875, 3728.02001953125, 3384.8974609375], \"Term\": [\"material\", \"cell\", \"theory\", \"data\", \"problem\", \"stem\", \"social\", \"specie\", \"device\", \"program\", \"protein\", \"chemistry\", \"chemical\", \"conference\", \"plant\", \"university\", \"energy\", \"physic\", \"water\", \"model\", \"climate\", \"network\", \"change\", \"workshop\", \"mathematical\", \"faculty\", \"molecular\", \"software\", \"application\", \"quantum\", \"reu_site\", \"attendee\", \"noyce\", \"teacher_preparation\", \"grc\", \"invited_speakers\", \"poster_session\", \"doctoral_consortium\", \"noyce_scholars\", \"undergraduates_reu_site\", \"poster_sessions\", \"attendees\", \"pre_service_teachers\", \"panel_discussion\", \"formative_assessment\", \"associate_degree\", \"scholarships\", \"organizing_committee\", \"held_june\", \"scholarship_recipients\", \"presenter\", \"sfs\", \"lsamp\", \"travel_awards\", \"ret_site\", \"retention_graduation\", \"alumnus\", \"baccalaureate\", \"poster_presentations\", \"academically_talented\", \"symposium\", \"conference\", \"urm\", \"attendance\", \"instructor\", \"organizer\", \"ecr\", \"faculty\", \"workshop\", \"attend\", \"stem\", \"pedagogy\", \"school_district\", \"graduation\", \"gordon\", \"instructional\", \"reu\", \"session\", \"alliance\", \"competency\", \"meeting\", \"professional\", \"college\", \"math\", \"teacher\", \"participant\", \"cohort\", \"forum\", \"workforce\", \"career\", \"mentor\", \"skill\", \"bring_together\", \"teach\", \"curriculum\", \"discussion\", \"academic\", \"education\", \"program\", \"engineering\", \"classroom\", \"learn\", \"institution\", \"mathematics\", \"school\", \"course\", \"university\", \"experience\", \"support\", \"participation\", \"opportunity\", \"community\", \"year\", \"graduate\", \"researcher\", \"development\", \"activity\", \"undergraduate\", \"field\", \"technology\", \"work\", \"design\", \"increase\", \"iot\", \"privacy\", \"programmer\", \"compiler\", \"runtime\", \"malware\", \"multicore\", \"malicious\", \"virtualization\", \"attacker\", \"authentication\", \"cross_layer\", \"concurrency\", \"geni\", \"mimo\", \"internet_things_iot\", \"cognitive_radio\", \"sdn\", \"gpus\", \"dmz\", \"debug\", \"privacy_preserving\", \"cyber_attacks\", \"mmwave\", \"middleware\", \"smart_cities\", \"unsupervised\", \"cyber_physical\", \"speech_recognition\", \"nlp\", \"robot\", \"query\", \"gpu\", \"hpc\", \"congestion\", \"parallelism\", \"machine_learning\", \"software\", \"analytics\", \"automatically\", \"workload\", \"server\", \"wireless\", \"hardware\", \"node\", \"user\", \"open_source\", \"processor\", \"mobile\", \"abstraction\", \"workflow\", \"traffic\", \"cps\", \"scene\", \"internet\", \"intelligent\", \"network\", \"testbed\", \"security\", \"automate\", \"algorithms\", \"task\", \"robotic\", \"compute\", \"data\", \"distribute\", \"big\", \"algorithm\", \"visual\", \"performance\", \"design\", \"infrastructure\", \"architecture\", \"communication\", \"computer\", \"real\", \"tool\", \"information\", \"framework\", \"application\", \"service\", \"enable\", \"model\", \"base\", \"challenge\", \"approach\", \"time\", \"technique\", \"technology\", \"human\", \"large\", \"control\", \"improve\", \"analysis\", \"method\", \"problem\", \"propose\", \"impact\", \"make\", \"scale\", \"additive_manufacturing\", \"thz\", \"transistor\", \"metamaterials\", \"piezoelectric\", \"resonator\", \"wafer\", \"converter\", \"mems\", \"qubits\", \"electric_vehicles\", \"qubit\", \"mem\", \"capacitor\", \"electromechanical\", \"miniaturization\", \"metamaterial\", \"nanophotonic\", \"single_photon\", \"turbine\", \"cmos\", \"terahertz\", \"photonic_crystal\", \"waste_heat\", \"pfi_air_technology\", \"phonon\", \"gaas\", \"superconductor\", \"heat_exchanger\", \"sic\", \"photonic\", \"thermoelectric\", \"spintronics\", \"nanowire\", \"miniaturize\", \"graphene\", \"voltage\", \"fabrication\", \"semiconductor\", \"nanomanufacturing\", \"ink\", \"fabricate\", \"printing\", \"superconductors\", \"superconducting\", \"ferroelectric\", \"device\", \"optical\", \"electronics\", \"electric\", \"silicon\", \"laser\", \"battery\", \"manufacturing\", \"manufacture\", \"electricity\", \"vibration\", \"composite\", \"chip\", \"electrical\", \"magnetic\", \"commercial\", \"spin\", \"energy\", \"thermal\", \"power\", \"small_business_innovation\", \"cost\", \"fiber\", \"material\", \"nano\", \"electronic\", \"technology\", \"low\", \"sensor\", \"light\", \"mechanical\", \"efficiency\", \"solar\", \"quantum\", \"application\", \"phase\", \"electron\", \"control\", \"propose\", \"reduce\", \"enable\", \"design\", \"performance\", \"base\", \"property\", \"potential\", \"process\", \"novel\", \"impact\", \"scale\", \"field\", \"development\", \"political\", \"violence\", \"ethnographic\", \"politics\", \"court\", \"democracy\", \"religious\", \"democratic\", \"participant_observation\", \"voter\", \"respondent\", \"sanction\", \"semi_structured_interviews\", \"moral\", \"religion\", \"depth_interviews\", \"electoral\", \"adolescent\", \"refugee\", \"judicial\", \"transnational\", \"ideology\", \"native_speaker\", \"public_opinion\", \"ethnography\", \"activist\", \"legal\", \"phonological\", \"protest\", \"legitimacy\", \"linguistic\", \"governance\", \"immigrant\", \"election\", \"linguist\", \"legislative\", \"grammatical\", \"psychological\", \"infant\", \"labor_market\", \"war\", \"household\", \"actor\", \"emotion\", \"narrative\", \"child\", \"emotional\", \"social\", \"interview\", \"sentence\", \"policy\", \"firm\", \"language\", \"english\", \"justice\", \"cultural\", \"neighborhood\", \"conflict\", \"indigenous\", \"people\", \"economic\", \"word\", \"policymakers\", \"gender\", \"identity\", \"perception\", \"speech\", \"survey\", \"decision\", \"city\", \"examine\", \"government\", \"intervention\", \"individual\", \"country\", \"organization\", \"risk\", \"public\", \"practice\", \"decision_making\", \"context\", \"understand\", \"question\", \"finding\", \"data\", \"change\", \"community\", \"affect\", \"influence\", \"group\", \"effect\", \"way\", \"analysis\", \"process\", \"work\", \"state\", \"knowledge\", \"make\", \"different\", \"information\", \"focus\", \"impact\", \"development\", \"researcher\", \"catalysis\", \"supramolecular\", \"catalytic\", \"lignin\", \"anion\", \"adsorption\", \"ionic_liquids\", \"macromolecular_supramolecular_nanochemistry\", \"colloid\", \"aromatic\", \"catalysts\", \"organic_macromolecular\", \"copolymer\", \"micelle\", \"organometallic\", \"photocatalysts\", \"fullerene\", \"zeolite\", \"metal_ions\", \"hydrogen_bonding\", \"amphiphilic\", \"adsorbent\", \"inorganic_bioinorganic_organometallic_chemistry\", \"alkene\", \"block_copolymers\", \"solvation\", \"polyelectrolyte\", \"nanoclusters\", \"photophysical\", \"identify_unknown_substances\", \"reactivity\", \"solvent\", \"surfactant\", \"hydrophobic\", \"nmr\", \"catalyst\", \"nmr_spectroscopy\", \"amine\", \"reaction\", \"oxidation\", \"photocatalytic\", \"aqueous\", \"monomer\", \"polymerization\", \"self_assembly\", \"polymer\", \"nanoparticles\", \"organic\", \"colloidal\", \"chemistry\", \"chemical\", \"molecule\", \"nanoparticle\", \"metal\", \"ligand\", \"kinetics\", \"compound\", \"synthesis\", \"bond\", \"hydrogen\", \"membrane\", \"inorganic\", \"polymeric\", \"professor\", \"separation\", \"material\", \"molecular\", \"ion\", \"property\", \"solid\", \"surface\", \"structure\", \"synthetic\", \"crystal\", \"division\", \"particle\", \"process\", \"fuel\", \"program\", \"energy\", \"fundamental\", \"undergraduate\", \"method\", \"water\", \"experimental\", \"application\", \"university\", \"work\", \"graduate\", \"design\", \"development\", \"base\", \"understand\", \"support\", \"mantle\", \"eruption\", \"magma\", \"tectonic\", \"glacier\", \"volcano\", \"sea_ice\", \"subduction\", \"ice_sheet\", \"crustal\", \"magmatic\", \"subduction_zones\", \"glacial\", \"southern_ocean\", \"seismicity\", \"upwelling\", \"lithosphere\", \"air_sea\", \"volcanic\", \"volcanism\", \"enso\", \"subduction_zone\", \"geomagnetic\", \"uplift\", \"volcanic_eruption\", \"lava\", \"upper_mantle\", \"plate_tectonics\", \"earth_interior\", \"mjo\", \"ice\", \"earthquake\", \"rock\", \"seafloor\", \"tsunami\", \"plume\", \"ocean\", \"geochemical\", \"crust\", \"seismic\", \"circulation\", \"geologic\", \"arctic\", \"sediment\", \"oceanic\", \"atmospheric\", \"turbulence\", \"turbulent\", \"atmosphere\", \"fault\", \"sea\", \"precipitation\", \"earth\", \"aerosol\", \"climate\", \"weather\", \"melt\", \"flux\", \"variability\", \"wind\", \"flow\", \"observation\", \"wave\", \"model\", \"record\", \"region\", \"surface\", \"change\", \"process\", \"water\", \"scale\", \"measurement\", \"temperature\", \"data\", \"time\", \"understand\", \"large\", \"field\", \"global\", \"work\", \"condition\", \"dynamic\", \"determine\", \"understanding\", \"rate\", \"important\", \"impact\", \"algebraic\", \"conjecture\", \"algebraic_geometry\", \"polynomial\", \"partial_differential_equation\", \"asymptotic\", \"singularity\", \"string_theory\", \"theorem\", \"pde\", \"cohomology\", \"manifold\", \"moduli_spaces\", \"invariant\", \"differential_geometry\", \"homotopy\", \"symplectic\", \"adic\", \"infinite_dimensional\", \"duality\", \"automorphic_forms\", \"algebraic_varieties\", \"algebraic_topology\", \"algebras\", \"pdes\", \"langlands\", \"noncommutative\", \"moduli_space\", \"symplectic_geometry\", \"branches_mathematics\", \"equation\", \"combinatorics\", \"arithmetic\", \"geometric\", \"differential_equation\", \"hamiltonian\", \"nonlocal\", \"approximation\", \"integer\", \"convex\", \"knot\", \"hyperbolic\", \"regularity\", \"finite\", \"eigenvalue\", \"topological\", \"classical\", \"theory\", \"symmetry\", \"mathematical\", \"random\", \"geometry\", \"topology\", \"dynamical\", \"algebra\", \"combinatorial\", \"stochastic\", \"problem\", \"nonlinear\", \"statistical\", \"probability\", \"quantum\", \"dimensional\", \"linear\", \"theoretical\", \"arise\", \"numerical\", \"space\", \"method\", \"model\", \"physic\", \"object\", \"computational\", \"structure\", \"solution\", \"analysis\", \"number\", \"application\", \"field\", \"mathematics\", \"group\", \"area\", \"question\", \"example\", \"property\", \"dynamic\", \"work\", \"complex\", \"understand\", \"important\", \"technique\", \"biodiversity\", \"predator\", \"pollinator\", \"herbivore\", \"coral_reef\", \"grassland\", \"ecologist\", \"predation\", \"prey\", \"symbiont\", \"experience_outside_introduction\", \"educators_ensuring_globally_aware\", \"forest\", \"scientific_infrastructure_respective\", \"location_orientation_society\", \"broader_impacts_eapsi_fellowship\", \"habitat\", \"taxonomic\", \"tropical_forests\", \"nsf_eapsi_collaboration\", \"wildlife\", \"microbiomes\", \"ecosystem_services\", \"stormwater\", \"land_managers\", \"symbionts\", \"mutualism\", \"bee\", \"hurricane_harvey\", \"hominin\", \"ecological\", \"reef\", \"bird\", \"biogeographic\", \"coral\", \"taxon\", \"phylogenetic\", \"ant\", \"ecology\", \"fish\", \"primate\", \"wetland\", \"aquatic\", \"forage\", \"parasite\", \"specie\", \"ecosystems\", \"soil\", \"conservation\", \"ecosystem\", \"insect\", \"microbial\", \"watershed\", \"evolutionary\", \"trait\", \"tree\", \"food\", \"wild\", \"fire\", \"drought\", \"fossil\", \"diet\", \"environmental\", \"plant\", \"nutrient\", \"agricultural\", \"water\", \"land\", \"population\", \"animal\", \"change\", \"marine\", \"natural\", \"diversity\", \"human\", \"climate\", \"community\", \"evolution\", \"management\", \"environment\", \"data\", \"understand\", \"resource\", \"important\", \"impact\", \"effect\", \"model\", \"test\", \"chromosome\", \"arabidopsis\", \"mrna\", \"mutant\", \"chromatin\", \"epigenetic\", \"microtubule\", \"nervous_system\", \"drosophila\", \"gene_regulation\", \"transcriptional\", \"phage\", \"motility\", \"organelle\", \"kinase\", \"elegans\", \"transcription_factors\", \"embryo\", \"embryonic\", \"signaling_pathways\", \"multicellular\", \"phosphorylation\", \"cytoskeleton\", \"ribosome\", \"zebrafish\", \"synaptic\", \"rna\", \"auxin\", \"rnai\", \"dna_methylation\", \"neuron\", \"yeast\", \"vitro\", \"gene_expression\", \"antibody\", \"intracellular\", \"neuronal\", \"mutation\", \"eukaryotic\", \"genome\", \"protein\", \"gene\", \"organ\", \"vivo\", \"brain\", \"tissue\", \"cellular\", \"dna\", \"viral\", \"cell\", \"receptor\", \"cancer\", \"proteins\", \"immune\", \"bacterial\", \"biochemical\", \"virus\", \"therapeutic\", \"regulate\", \"tumor\", \"neural\", \"bacteria\", \"biology\", \"genetic\", \"disease\", \"biological\", \"metabolic\", \"plant\", \"drug\", \"sequence\", \"function\", \"molecular\", \"signal\", \"mechanism\", \"organism\", \"animal\", \"development\", \"role\", \"undergraduate\", \"identify\", \"understand\", \"response\", \"control\", \"model\", \"process\", \"activity\", \"approach\", \"interaction\", \"work\", \"level\", \"neutrino\", \"dark_matter\", \"telescope\", \"ligo\", \"gravitational_wave\", \"lhc\", \"neutron_star\", \"astronomer\", \"neutrinos\", \"gamma_ray\", \"nucleon\", \"supernova\", \"redshift\", \"unols\", \"galaxy\", \"advanced_ligo\", \"earthcube\", \"cern\", \"pulsar\", \"cosmic\", \"astronomical\", \"expanding_base\", \"access_working_calibrated\", \"supernovae\", \"acquisition_maintenance\", \"veritas\", \"xsede\", \"luminosity\", \"nees\", \"icecube\", \"stellar\", \"astrophysical\", \"galactic\", \"milky_way\", \"cosmological\", \"big_bang\", \"quasar\", \"star\", \"gravitational_waves\", \"star_formation\", \"sky\", \"astrophysics\", \"astronomy\", \"quark\", \"instrument\", \"universe\", \"instrumentation\", \"detector\", \"neutron\", \"nuclear\", \"facility\", \"black_hole\", \"upgrade\", \"observatory\", \"physic\", \"acquisition\", \"mass\", \"image\", \"particle\", \"microscope\", \"equipment\", \"university\", \"measurement\", \"support\", \"laboratory\", \"experiment\", \"data\", \"observation\", \"nsf\", \"scientific\", \"program\", \"sample\", \"resolution\", \"scientist\", \"capability\", \"large\", \"make\", \"analysis\", \"field\", \"energy\", \"group\", \"undergraduate\", \"work\", \"researcher\", \"community\"], \"Total\": [79288.0, 39714.0, 42209.0, 117340.0, 46990.0, 42611.0, 31233.0, 25704.0, 31617.0, 101031.0, 20039.0, 25192.0, 27797.0, 28414.0, 24829.0, 60592.0, 48427.0, 26642.0, 30043.0, 116058.0, 23607.0, 52749.0, 57161.0, 26021.0, 18552.0, 22788.0, 23063.0, 21578.0, 61773.0, 19278.0, 2291.944580078125, 1263.3944091796875, 705.2781982421875, 654.2346801757812, 723.3764038085938, 637.2979125976562, 567.9647827148438, 536.817138671875, 532.8360595703125, 555.3297729492188, 415.0621643066406, 393.9572448730469, 397.6112976074219, 344.4442138671875, 314.14544677734375, 301.68560791015625, 337.2609558105469, 320.06243896484375, 287.20037841796875, 259.0906982421875, 260.23773193359375, 250.04220581054688, 665.6536254882812, 243.500244140625, 238.36680603027344, 228.9292755126953, 240.6996307373047, 282.8323974609375, 237.8378143310547, 213.1165008544922, 4706.6328125, 28414.865234375, 871.1187744140625, 1170.13037109375, 2349.49169921875, 1196.790283203125, 367.69317626953125, 22788.658203125, 26021.68359375, 5473.89990234375, 42611.21484375, 1333.0565185546875, 2047.0198974609375, 855.3482666015625, 1064.7078857421875, 3416.185302734375, 4871.916015625, 4107.81298828125, 2066.450927734375, 1003.2356567382812, 11268.8720703125, 17159.294921875, 20185.533203125, 4093.431640625, 24480.146484375, 17060.123046875, 2881.1962890625, 3052.330078125, 9320.76953125, 22210.9375, 15145.666015625, 14120.79296875, 3592.33984375, 19263.68359375, 12477.74609375, 5538.15185546875, 13731.298828125, 50070.61328125, 101031.25, 58542.40625, 8282.3798828125, 42713.5390625, 15388.1767578125, 21141.59375, 42554.58984375, 28183.412109375, 60592.81640625, 34682.88671875, 70833.5, 14938.3291015625, 35623.81640625, 62451.30859375, 32966.7578125, 57302.59375, 46270.3046875, 76549.7421875, 49023.13671875, 55962.71875, 65727.484375, 63114.796875, 76706.1640625, 76106.1640625, 43128.35546875, 1140.7449951171875, 3452.2392578125, 1015.283935546875, 728.896728515625, 655.71533203125, 559.6159057617188, 531.2041015625, 522.0127563476562, 451.3842468261719, 433.9386291503906, 475.5981140136719, 403.986572265625, 399.4412841796875, 375.1795654296875, 359.48046875, 345.24468994140625, 320.77679443359375, 273.608154296875, 281.1281433105469, 263.2895812988281, 430.5902099609375, 245.89346313476562, 239.1643829345703, 224.34422302246094, 232.8848876953125, 223.31617736816406, 236.0865020751953, 1492.174560546875, 280.108154296875, 244.43215942382812, 5751.11474609375, 2142.936279296875, 546.4965209960938, 905.9120483398438, 525.4203491210938, 668.1553955078125, 5144.57177734375, 21578.810546875, 2461.321044921875, 2060.3193359375, 865.1875610351562, 1753.4852294921875, 7605.23779296875, 6342.8720703125, 2690.7373046875, 18062.9453125, 3144.119384765625, 2102.4853515625, 6440.37109375, 1131.94482421875, 877.6347045898438, 3777.85009765625, 1423.3138427734375, 958.9080200195312, 5510.732421875, 2270.552978515625, 52749.39453125, 1344.6505126953125, 11804.01171875, 3411.91455078125, 9772.3984375, 11424.0703125, 2001.98388671875, 18995.81640625, 117340.578125, 8012.47216796875, 4948.27001953125, 11901.3583984375, 4773.107421875, 27752.248046875, 76106.1640625, 16271.818359375, 7996.462890625, 17305.095703125, 26482.794921875, 12221.3173828125, 40274.05078125, 46717.98828125, 18849.939453125, 61773.203125, 12542.1748046875, 36184.95703125, 116058.7734375, 72591.265625, 27987.609375, 51807.30078125, 53422.25390625, 41605.1484375, 63114.796875, 31760.1484375, 52063.36328125, 42756.09765625, 42781.95703125, 50319.79296875, 62866.58203125, 46990.87109375, 51308.70703125, 61503.43359375, 47788.83203125, 41212.15234375, 1024.98095703125, 915.908935546875, 1300.209716796875, 732.6732177734375, 617.6883544921875, 593.1182861328125, 481.32354736328125, 472.3797302246094, 472.5730895996094, 370.2212219238281, 291.7080383300781, 274.54046630859375, 504.5655822753906, 294.6656799316406, 277.9405212402344, 395.06341552734375, 253.59654235839844, 252.9574737548828, 280.49468994140625, 449.61334228515625, 528.6530151367188, 796.0869750976562, 216.8354949951172, 248.17413330078125, 211.71173095703125, 384.0606384277344, 204.6821746826172, 188.8123016357422, 187.31329345703125, 219.91171264648438, 1563.1357421875, 983.8411254882812, 438.2454528808594, 603.357666015625, 514.4781494140625, 2402.1708984375, 1769.756591796875, 4981.353515625, 5406.5400390625, 727.5855102539062, 408.8370666503906, 3016.431396484375, 697.1890258789062, 623.0206909179688, 997.784423828125, 539.2174072265625, 31617.39453125, 13429.3828125, 4249.5244140625, 4007.30517578125, 2773.325439453125, 6547.91796875, 3673.452880859375, 5742.271484375, 7122.587890625, 2417.92138671875, 1329.851806640625, 3928.321533203125, 4393.95654296875, 6352.60546875, 11010.66796875, 10229.8896484375, 4975.60400390625, 48427.24609375, 8075.95263671875, 21358.546875, 3545.82958984375, 23929.71875, 3435.14697265625, 79288.96875, 4626.47998046875, 10411.3330078125, 63114.796875, 28163.10546875, 15453.939453125, 13341.8583984375, 11495.3662109375, 11870.5703125, 9039.5986328125, 19278.017578125, 61773.203125, 18712.275390625, 9501.396484375, 42756.09765625, 51308.70703125, 18042.44921875, 36184.95703125, 76106.1640625, 27752.248046875, 72591.265625, 40913.75390625, 38522.2109375, 72069.6015625, 29320.43359375, 61503.43359375, 41212.15234375, 65727.484375, 76549.7421875, 6072.27001953125, 1019.0621948242188, 1184.7061767578125, 935.9393310546875, 840.3037109375, 746.1033325195312, 681.2180786132812, 527.5294799804688, 466.7461853027344, 511.2123718261719, 407.1850280761719, 407.6029968261719, 404.5547790527344, 400.1175842285156, 351.0709533691406, 346.79400634765625, 314.8487548828125, 546.4005126953125, 419.8257751464844, 291.9258728027344, 318.0001220703125, 250.12745666503906, 280.5195617675781, 246.29934692382812, 251.59767150878906, 242.00352478027344, 1916.4332275390625, 251.55255126953125, 226.7365264892578, 234.1772003173828, 2282.48681640625, 1357.8958740234375, 709.1874389648438, 781.41845703125, 366.72607421875, 331.7611389160156, 382.7760009765625, 1357.38818359375, 1130.7818603515625, 612.8495483398438, 596.7279663085938, 2207.01123046875, 1163.1173095703125, 916.5075073242188, 868.88232421875, 8010.93310546875, 930.1864624023438, 31233.24609375, 4133.58984375, 847.4273071289062, 15283.291015625, 2665.8505859375, 13839.4970703125, 1437.04833984375, 759.333251953125, 5178.30712890625, 1547.629150390625, 2653.849853515625, 1840.590576171875, 13096.623046875, 13195.5830078125, 2741.395263671875, 1216.330810546875, 2303.209716796875, 4010.38623046875, 3685.2666015625, 2698.393310546875, 9759.439453125, 8819.8388671875, 5262.67626953125, 17991.3671875, 5904.5703125, 5501.0166015625, 22378.337890625, 7504.908203125, 11143.0673828125, 10453.892578125, 28133.521484375, 17478.5859375, 4720.64501953125, 13322.9345703125, 61409.65625, 25483.998046875, 10547.5361328125, 117340.578125, 57161.35546875, 62451.30859375, 16722.529296875, 15779.560546875, 47830.7890625, 30967.37890625, 22119.349609375, 50319.79296875, 72069.6015625, 76706.1640625, 36936.30859375, 31891.359375, 47788.83203125, 35890.125, 46717.98828125, 46755.15234375, 61503.43359375, 76549.7421875, 46270.3046875, 2673.105712890625, 564.185791015625, 3034.498779296875, 504.1665344238281, 458.8323974609375, 1111.408935546875, 373.0433349609375, 355.6467590332031, 546.2596435546875, 312.4921875, 315.5171813964844, 286.56982421875, 364.7642517089844, 273.2680969238281, 259.40887451171875, 265.746337890625, 290.0751037597656, 248.2290496826172, 241.3253631591797, 237.01165771484375, 215.29275512695312, 281.2432556152344, 211.41156005859375, 197.1778564453125, 339.4092712402344, 194.49227905273438, 227.0438232421875, 213.96127319335938, 190.07254028320312, 175.8382568359375, 2126.283203125, 1653.834716796875, 892.4619140625, 473.9412536621094, 1547.4439697265625, 6305.14404296875, 393.3729248046875, 348.335693359375, 13208.9453125, 2573.646728515625, 402.1830749511719, 1205.3243408203125, 665.9330444335938, 685.5492553710938, 1765.540771484375, 12045.4482421875, 4465.361328125, 8796.595703125, 939.7431640625, 25192.701171875, 27797.423828125, 14329.7275390625, 2263.86279296875, 10526.83984375, 1848.5430908203125, 1769.04150390625, 5937.79052734375, 11221.49609375, 3007.87890625, 2976.52587890625, 8331.01953125, 1824.98486328125, 1495.1138916015625, 6495.4296875, 4234.5341796875, 79288.96875, 23063.5625, 5363.41357421875, 40913.75390625, 9221.2626953125, 29730.5078125, 53293.0390625, 6374.47216796875, 5535.85888671875, 10128.3369140625, 16441.50390625, 72069.6015625, 5938.04443359375, 101031.25, 48427.24609375, 31914.828125, 55962.71875, 62866.58203125, 30043.703125, 21470.53515625, 61773.203125, 60592.81640625, 76706.1640625, 57302.59375, 76106.1640625, 76549.7421875, 72591.265625, 61409.65625, 70833.5, 3822.025146484375, 1608.144775390625, 1547.245361328125, 1428.2423095703125, 1306.448486328125, 1297.8399658203125, 1342.856201171875, 982.790771484375, 958.9296264648438, 1077.41552734375, 750.5162353515625, 705.3961181640625, 776.2195434570312, 739.6488647460938, 599.1561889648438, 564.587158203125, 546.5377807617188, 534.6708984375, 1457.4677734375, 480.97998046875, 481.3018798828125, 474.2758483886719, 487.531005859375, 417.6126708984375, 408.6319885253906, 412.6727294921875, 399.4608459472656, 419.5932922363281, 382.7026062011719, 363.5744934082031, 5765.1826171875, 6421.8935546875, 4771.40771484375, 1017.2794799804688, 817.8118286132812, 842.88671875, 14249.93359375, 2010.1724853515625, 1402.8447265625, 4779.7734375, 2663.642822265625, 1684.3536376953125, 4822.36572265625, 5631.291015625, 1499.6300048828125, 7563.529296875, 2778.602294921875, 1498.417236328125, 5053.17822265625, 4760.11962890625, 4947.4365234375, 2946.810302734375, 15216.4189453125, 2383.040771484375, 23607.97265625, 3304.644287109375, 3847.209228515625, 4776.98486328125, 5824.73291015625, 4107.20751953125, 20013.8671875, 13064.7763671875, 10636.9345703125, 116058.7734375, 10605.3974609375, 19985.716796875, 29730.5078125, 57161.35546875, 72069.6015625, 30043.703125, 41212.15234375, 22194.45703125, 17233.41015625, 117340.578125, 53422.25390625, 61409.65625, 52063.36328125, 65727.484375, 17876.1953125, 76706.1640625, 22510.748046875, 35955.5546875, 26668.021484375, 37663.3984375, 18194.95703125, 46053.6953125, 61503.43359375, 2864.6201171875, 2633.33251953125, 2117.578857421875, 1503.5047607421875, 1599.9085693359375, 1393.3768310546875, 1133.3712158203125, 983.5340576171875, 844.4089965820312, 688.7694702148438, 671.0319213867188, 3223.522705078125, 593.743896484375, 2445.7529296875, 535.5198974609375, 528.2595825195312, 432.13922119140625, 418.6197509765625, 415.6809997558594, 397.937744140625, 404.364501953125, 373.91632080078125, 371.4364318847656, 356.75421142578125, 354.28277587890625, 337.417236328125, 316.9483642578125, 303.4240417480469, 293.40985107421875, 289.105224609375, 6511.3056640625, 1446.149169921875, 946.0397338867188, 6964.978515625, 801.7605590820312, 421.68988037109375, 422.0987854003906, 2859.89208984375, 696.6246337890625, 688.0783081054688, 680.7745361328125, 726.1744384765625, 788.4882202148438, 2846.375, 482.34442138671875, 3167.931640625, 4575.82958984375, 42209.6484375, 2848.37890625, 18552.59375, 4123.048828125, 8223.2412109375, 4133.0654296875, 4473.248046875, 2532.23046875, 2225.190673828125, 4270.21923828125, 46990.87109375, 5472.572265625, 10828.1767578125, 3451.1357421875, 19278.017578125, 13063.193359375, 4590.90869140625, 19113.193359375, 6247.89990234375, 10133.7392578125, 17064.689453125, 62866.58203125, 116058.7734375, 26642.0, 9782.8447265625, 28729.48046875, 53293.0390625, 19531.95703125, 50319.79296875, 28705.5390625, 61773.203125, 65727.484375, 21141.59375, 47830.7890625, 45229.94140625, 25483.998046875, 15241.763671875, 40913.75390625, 35955.5546875, 76706.1640625, 29643.49609375, 61409.65625, 46053.6953125, 41605.1484375, 3847.630859375, 1074.7301025390625, 629.8680419921875, 541.7752685546875, 694.6818237304688, 435.27685546875, 434.72442626953125, 436.6726379394531, 757.0194091796875, 333.4820861816406, 293.9985656738281, 292.8167419433594, 4961.0908203125, 290.7701110839844, 290.7701110839844, 287.42254638671875, 3678.827392578125, 805.8876342773438, 278.7061462402344, 268.90948486328125, 943.267333984375, 262.0174560546875, 797.7711181640625, 249.9007110595703, 298.0703430175781, 281.0806579589844, 226.17715454101562, 422.045654296875, 214.19815063476562, 205.2610321044922, 7832.95068359375, 823.2625122070312, 1750.723876953125, 295.6031494140625, 1915.044189453125, 660.0283203125, 1263.103271484375, 672.6784057617188, 5812.255859375, 3321.43310546875, 1076.1461181640625, 791.3209838867188, 1591.512939453125, 624.4102172851562, 921.8297119140625, 25704.900390625, 3245.9814453125, 8714.6357421875, 4397.599609375, 8158.10791015625, 2677.95654296875, 6767.7685546875, 1799.17041015625, 7406.49951171875, 4236.85546875, 4311.19189453125, 7976.19873046875, 1338.467529296875, 2970.8564453125, 2080.663818359375, 1704.8873291015625, 1200.5264892578125, 26297.125, 24829.6171875, 4231.5419921875, 4021.57373046875, 30043.703125, 6393.43408203125, 21677.5, 10227.4501953125, 57161.35546875, 8383.8681640625, 19352.427734375, 12986.5625, 31760.1484375, 23607.97265625, 62451.30859375, 16240.404296875, 15307.40234375, 33924.921875, 117340.578125, 61409.65625, 27930.626953125, 46053.6953125, 61503.43359375, 30967.37890625, 116058.7734375, 36080.23828125, 1226.1763916015625, 863.59375, 846.4002075195312, 1241.4267578125, 738.1680297851562, 642.7742919921875, 629.8485717773438, 652.7548217773438, 503.53125, 489.3882751464844, 437.37335205078125, 493.3588562011719, 435.2454528808594, 381.7109375, 367.670166015625, 358.9665222167969, 351.6035461425781, 574.49658203125, 439.45166015625, 347.5009460449219, 306.9836730957031, 290.9503173828125, 295.6619873046875, 286.87445068359375, 277.9271240234375, 288.1335144042969, 3472.044921875, 261.7751770019531, 258.5886535644531, 248.51791381835938, 2700.17822265625, 962.9519653320312, 1055.349609375, 2882.244140625, 904.3604125976562, 771.7689208984375, 1054.57373046875, 1487.5484619140625, 697.5199584960938, 5816.04638671875, 20039.810546875, 11991.2763671875, 1306.61181640625, 1439.375244140625, 9687.001953125, 7959.880859375, 7054.4189453125, 8207.1142578125, 1212.0318603515625, 39714.3515625, 1693.896240234375, 3184.905029296875, 2911.4228515625, 1997.5069580078125, 3039.176513671875, 2898.197509765625, 2498.00048828125, 1956.3492431640625, 4424.99365234375, 1429.268310546875, 4539.97705078125, 4384.248046875, 21524.46875, 10923.40625, 7608.82861328125, 21770.892578125, 2526.79736328125, 24829.6171875, 4355.05419921875, 8715.447265625, 26662.880859375, 23063.5625, 13478.73046875, 24907.119140625, 5445.43310546875, 10227.4501953125, 76549.7421875, 26489.052734375, 55962.71875, 27774.603515625, 61409.65625, 20655.615234375, 42756.09765625, 116058.7734375, 72069.6015625, 49023.13671875, 51807.30078125, 37420.9375, 76706.1640625, 40857.578125, 1201.0810546875, 1360.6387939453125, 1958.408935546875, 856.8524169921875, 755.8284301757812, 659.145751953125, 486.30328369140625, 687.3172607421875, 459.465087890625, 425.7940673828125, 402.9093322753906, 340.5721130371094, 361.3123779296875, 267.9745178222656, 4177.4375, 261.70916748046875, 257.47576904296875, 262.3729553222656, 239.31201171875, 602.1373291015625, 1316.1927490234375, 204.99217224121094, 204.06649780273438, 236.38478088378906, 199.22605895996094, 196.28466796875, 199.04090881347656, 288.75714111328125, 235.5474853515625, 190.06964111328125, 1345.7379150390625, 986.0167846679688, 444.2240905761719, 387.0233459472656, 591.720947265625, 258.27508544921875, 247.95059204101562, 4099.73193359375, 646.508544921875, 715.0437622070312, 669.757080078125, 1573.1083984375, 2033.6265869140625, 421.6369934082031, 11879.6376953125, 3276.11279296875, 5833.88818359375, 3573.533203125, 971.8487548828125, 4429.5185546875, 9515.326171875, 1413.9169921875, 1466.276611328125, 1780.295654296875, 26642.0, 4253.3583984375, 7761.57080078125, 19437.583984375, 16441.50390625, 1714.2109375, 4435.876953125, 60592.81640625, 22194.45703125, 70833.5, 21599.439453125, 27794.1328125, 117340.578125, 13064.7763671875, 17226.724609375, 40372.80859375, 101031.25, 17607.984375, 11698.09765625, 26466.48828125, 13309.7490234375, 52063.36328125, 47788.83203125, 50319.79296875, 65727.484375, 48427.24609375, 47830.7890625, 55962.71875, 76706.1640625, 46270.3046875, 62451.30859375], \"loglift\": [30.0, 29.0, 28.0, 27.0, 26.0, 25.0, 24.0, 23.0, 22.0, 21.0, 20.0, 19.0, 18.0, 17.0, 16.0, 15.0, 14.0, 13.0, 12.0, 11.0, 10.0, 9.0, 8.0, 7.0, 6.0, 5.0, 4.0, 3.0, 2.0, 1.0, 1.8162000179290771, 1.8157000541687012, 1.8154000043869019, 1.8152999877929688, 1.8151999711990356, 1.8150999546051025, 1.8150999546051025, 1.815000057220459, 1.815000057220459, 1.815000057220459, 1.8144999742507935, 1.8143999576568604, 1.8138999938964844, 1.8138999938964844, 1.8136999607086182, 1.8136999607086182, 1.813599944114685, 1.8135000467300415, 1.8133000135421753, 1.8131999969482422, 1.8131999969482422, 1.813099980354309, 1.813099980354309, 1.812999963760376, 1.8128999471664429, 1.8128000497817993, 1.8127000331878662, 1.8127000331878662, 1.8127000331878662, 1.8125, 1.7996000051498413, 1.7783000469207764, 1.8113000392913818, 1.807800054550171, 1.7994999885559082, 1.8004000186920166, 1.8097000122070312, 1.767699956893921, 1.7610000371932983, 1.780500054359436, 1.7345999479293823, 1.7954000234603882, 1.7851999998092651, 1.7976000308990479, 1.7932000160217285, 1.7687000036239624, 1.7532999515533447, 1.7518999576568604, 1.7684999704360962, 1.7891000509262085, 1.7163000106811523, 1.6964999437332153, 1.6827000379562378, 1.742400050163269, 1.6691999435424805, 1.6674000024795532, 1.7467999458312988, 1.7263000011444092, 1.648900032043457, 1.5772000551223755, 1.5913000106811523, 1.573099970817566, 1.690500020980835, 1.510699987411499, 1.5579999685287476, 1.6468000411987305, 1.5434000492095947, 1.3985999822616577, 1.280900001525879, 1.3352999687194824, 1.5772000551223755, 1.3217999935150146, 1.4775999784469604, 1.4151999950408936, 1.2863999605178833, 1.3423999547958374, 1.184999942779541, 1.2654999494552612, 1.0604000091552734, 1.4391000270843506, 1.1655999422073364, 0.9837999939918518, 1.1576999425888062, 0.9365000128746033, 0.9366999864578247, 0.6784999966621399, 0.857200026512146, 0.7523000240325928, 0.578499972820282, 0.503000020980835, 0.25839999318122864, 0.22310000658035278, 0.7555999755859375, 1.9218000173568726, 1.9217000007629395, 1.9215999841690063, 1.9213000535964966, 1.9212000370025635, 1.9210000038146973, 1.9208999872207642, 1.9208999872207642, 1.9205000400543213, 1.9205000400543213, 1.9205000400543213, 1.9204000234603882, 1.920300006866455, 1.9200999736785889, 1.9200999736785889, 1.9199999570846558, 1.919800043106079, 1.9192999601364136, 1.9192999601364136, 1.9191999435424805, 1.919100046157837, 1.9189000129699707, 1.9187999963760376, 1.9185999631881714, 1.9185999631881714, 1.9185999631881714, 1.9184000492095947, 1.9184000492095947, 1.9184000492095947, 1.9184000492095947, 1.9127000570297241, 1.9122999906539917, 1.9182000160217285, 1.912500023841858, 1.917199969291687, 1.913599967956543, 1.889799952507019, 1.86080002784729, 1.895300030708313, 1.8904000520706177, 1.9033000469207764, 1.886199951171875, 1.8565000295639038, 1.8459999561309814, 1.8589999675750732, 1.7826000452041626, 1.8450000286102295, 1.8601000308990479, 1.8042000532150269, 1.8804999589920044, 1.8912999629974365, 1.8036999702453613, 1.860200047492981, 1.8805999755859375, 1.7537000179290771, 1.8113000392913818, 1.5470000505447388, 1.8507000207901, 1.6474000215530396, 1.7661999464035034, 1.6378999948501587, 1.6197999715805054, 1.8055000305175781, 1.5351999998092651, 1.2698999643325806, 1.6237000226974487, 1.676800012588501, 1.5073000192642212, 1.649999976158142, 1.302899956703186, 1.0434999465942383, 1.3568999767303467, 1.5242999792099, 1.3179999589920044, 1.2036999464035034, 1.3978999853134155, 1.0255999565124512, 0.9596999883651733, 1.2481000423431396, 0.8202999830245972, 1.36080002784729, 0.9103999733924866, 0.390500009059906, 0.5669999718666077, 0.954200029373169, 0.5996999740600586, 0.5694000124931335, 0.6804999709129333, 0.4171999990940094, 0.8220999836921692, 0.5077000260353088, 0.6098999977111816, 0.5882999897003174, 0.423799991607666, 0.18529999256134033, 0.4147000014781952, 0.3082999885082245, 0.13040000200271606, 0.36010000109672546, 0.4675000011920929, 2.198699951171875, 2.1986000537872314, 2.198499917984009, 2.1984000205993652, 2.198199987411499, 2.1981000900268555, 2.1977999210357666, 2.1975998878479004, 2.197499990463257, 2.197200059890747, 2.196500062942505, 2.1963999271392822, 2.196199893951416, 2.196199893951416, 2.1960999965667725, 2.1960999965667725, 2.1960999965667725, 2.196000099182129, 2.196000099182129, 2.1958000659942627, 2.19569993019104, 2.1956000328063965, 2.195499897003174, 2.1953999996185303, 2.1953999996185303, 2.1953001022338867, 2.195199966430664, 2.1947999000549316, 2.1947999000549316, 2.194700002670288, 2.1937999725341797, 2.1886000633239746, 2.1939001083374023, 2.1895999908447266, 2.190700054168701, 2.175100088119507, 2.1749000549316406, 2.1522998809814453, 2.1456000804901123, 2.1770999431610107, 2.188499927520752, 2.142699956893921, 2.1765999794006348, 2.1775999069213867, 2.1598000526428223, 2.1786999702453613, 1.9515000581741333, 2.0020999908447266, 2.060499906539917, 2.0625998973846436, 2.0808000564575195, 1.9974000453948975, 2.038100004196167, 1.9924999475479126, 1.9602999687194824, 2.0569000244140625, 2.1061999797821045, 1.9884999990463257, 1.9746999740600586, 1.9248000383377075, 1.8229000568389893, 1.8234000205993652, 1.9227999448776245, 1.589400053024292, 1.8183000087738037, 1.649399995803833, 1.9417999982833862, 1.570199966430664, 1.9398000240325928, 1.312000036239624, 1.8746000528335571, 1.6928999423980713, 1.2108999490737915, 1.405500054359436, 1.5572999715805054, 1.5713000297546387, 1.5881999731063843, 1.5599000453948975, 1.6496000289916992, 1.3381999731063843, 0.7883999943733215, 1.3062000274658203, 1.6085000038146973, 0.871999979019165, 0.7551000118255615, 1.2768000364303589, 0.9053000211715698, 0.49239999055862427, 1.0419000387191772, 0.4514000117778778, 0.8001999855041504, 0.835099995136261, 0.4189999997615814, 0.9398000240325928, 0.383899986743927, 0.5425999760627747, 0.15839999914169312, 0.025699999183416367, 2.317699909210205, 2.316999912261963, 2.316999912261963, 2.3169000148773193, 2.316800117492676, 2.316699981689453, 2.3166000843048096, 2.316200017929077, 2.315999984741211, 2.3159000873565674, 2.315700054168701, 2.3155999183654785, 2.3155999183654785, 2.315500020980835, 2.3152999877929688, 2.3152999877929688, 2.3150999546051025, 2.315000057220459, 2.3148999214172363, 2.3148000240325928, 2.3143999576568604, 2.314300060272217, 2.314300060272217, 2.314300060272217, 2.314300060272217, 2.314199924468994, 2.314199924468994, 2.313999891281128, 2.313999891281128, 2.313999891281128, 2.3104000091552734, 2.309999942779541, 2.3120999336242676, 2.3104000091552734, 2.3134000301361084, 2.3136000633239746, 2.3113999366760254, 2.2967000007629395, 2.2992000579833984, 2.3053998947143555, 2.303100109100342, 2.267199993133545, 2.283099889755249, 2.2894999980926514, 2.288599967956543, 2.2091000080108643, 2.2820000648498535, 2.132200002670288, 2.2021000385284424, 2.280600070953369, 2.1263999938964844, 2.2084999084472656, 2.0743000507354736, 2.238100051879883, 2.2843000888824463, 2.081899881362915, 2.200000047683716, 2.127700090408325, 2.173099994659424, 1.8981000185012817, 1.8557000160217285, 2.094899892807007, 2.2260000705718994, 2.1026999950408936, 1.954300045967102, 1.9573999643325806, 2.026700019836426, 1.7003999948501587, 1.7187000513076782, 1.8516000509262085, 1.5068000555038452, 1.812000036239624, 1.8222999572753906, 1.3911999464035034, 1.6830999851226807, 1.5476000308990479, 1.5418000221252441, 1.0954999923706055, 1.2699999809265137, 1.798799991607666, 1.3467999696731567, 0.5663999915122986, 1.0020999908447266, 1.424399971961975, 0.19550000131130219, 0.555400013923645, 0.45750001072883606, 1.1532000303268433, 1.177899956703186, 0.508400022983551, 0.762499988079071, 0.9524999856948853, 0.42250001430511475, 0.09690000116825104, 0.019300000742077827, 0.5543000102043152, 0.6603000164031982, 0.34619998931884766, 0.5616000294685364, 0.33959999680519104, 0.32249999046325684, 0.06909999996423721, -0.12359999865293503, 0.2547999918460846, 2.3773999214172363, 2.3763999938964844, 2.3761000633239746, 2.3761000633239746, 2.3761000633239746, 2.3761000633239746, 2.375499963760376, 2.375499963760376, 2.3752999305725098, 2.375200033187866, 2.3750998973846436, 2.3749001026153564, 2.374799966812134, 2.3747000694274902, 2.3745999336242676, 2.374500036239624, 2.3743999004364014, 2.3743999004364014, 2.374300003051758, 2.374300003051758, 2.3738999366760254, 2.373800039291382, 2.373800039291382, 2.373500108718872, 2.373500108718872, 2.3733999729156494, 2.373300075531006, 2.3731000423431396, 2.372999906539917, 2.3729000091552734, 2.3721001148223877, 2.371799945831299, 2.372299909591675, 2.3726999759674072, 2.358299970626831, 2.343400001525879, 2.369800090789795, 2.3705999851226807, 2.309799909591675, 2.3340001106262207, 2.365799903869629, 2.338399887084961, 2.355299949645996, 2.354099988937378, 2.321899890899658, 2.25819993019104, 2.2860000133514404, 2.253999948501587, 2.3376998901367188, 2.2011001110076904, 2.1614999771118164, 2.145900011062622, 2.2511000633239746, 2.129699945449829, 2.2539000511169434, 2.2558999061584473, 2.151900053024292, 2.084199905395508, 2.2044999599456787, 2.2042999267578125, 2.080399990081787, 2.244499921798706, 2.2681000232696533, 2.0432000160217285, 2.101300001144409, 1.4589999914169312, 1.6861000061035156, 1.975000023841858, 1.4031000137329102, 1.7684999704360962, 1.3966000080108643, 1.0993000268936157, 1.8581000566482544, 1.9036999940872192, 1.639299988746643, 1.3708000183105469, 0.5267000198364258, 1.8401999473571777, 0.3093999922275543, 0.682200014591217, 0.8980000019073486, 0.5716000199317932, 0.4675999879837036, 0.8636000156402588, 1.0615999698638916, 0.34060001373291016, 0.35370001196861267, 0.17749999463558197, 0.29109999537467957, 0.06639999896287918, 0.003599999938160181, -0.0008999999845400453, 0.11699999868869781, -0.04899999871850014, 2.38070011138916, 2.3803000450134277, 2.3803000450134277, 2.380199909210205, 2.380199909210205, 2.380199909210205, 2.380199909210205, 2.380000114440918, 2.380000114440918, 2.3798000812530518, 2.379699945449829, 2.379699945449829, 2.3796000480651855, 2.3796000480651855, 2.3794000148773193, 2.379300117492676, 2.379300117492676, 2.379300117492676, 2.3791000843048096, 2.3791000843048096, 2.378999948501587, 2.378999948501587, 2.3787999153137207, 2.3787999153137207, 2.378700017929077, 2.378700017929077, 2.378700017929077, 2.378700017929077, 2.378499984741211, 2.378499984741211, 2.372299909591675, 2.3691999912261963, 2.363800048828125, 2.3761000633239746, 2.3756000995635986, 2.3736000061035156, 2.3350000381469727, 2.3592000007629395, 2.3640999794006348, 2.3341000080108643, 2.333400011062622, 2.3434998989105225, 2.297800064086914, 2.2885000705718994, 2.3350000381469727, 2.235599994659424, 2.2778000831604004, 2.3201000690460205, 2.210400104522705, 2.214099884033203, 2.2076001167297363, 2.257499933242798, 2.078900098800659, 2.275399923324585, 1.9566999673843384, 2.2128000259399414, 2.1796998977661133, 2.1364998817443848, 2.016700029373169, 2.093100070953369, 1.6164000034332275, 1.6441999673843384, 1.6723999977111816, 0.7953000068664551, 1.6610000133514404, 1.409500002861023, 1.228700041770935, 0.9139000177383423, 0.6758000254631042, 1.0672999620437622, 0.8672999739646912, 1.187399983406067, 1.3222999572753906, 0.22450000047683716, 0.5730000138282776, 0.4174000024795532, 0.47369998693466187, 0.2897000014781952, 1.223099946975708, 0.01720000058412552, 0.9966999888420105, 0.5914000272750854, 0.822700023651123, 0.5024999976158142, 1.1638000011444092, 0.25920000672340393, -0.032499998807907104, 2.458199977874756, 2.4581000804901123, 2.4579999446868896, 2.4579999446868896, 2.457900047302246, 2.457900047302246, 2.4577999114990234, 2.4576001167297363, 2.4574999809265137, 2.4572999477386475, 2.457200050354004, 2.457200050354004, 2.4570999145507812, 2.4570000171661377, 2.456899881362915, 2.456899881362915, 2.4565000534057617, 2.456399917602539, 2.456399917602539, 2.456199884414673, 2.456199884414673, 2.456199884414673, 2.4560999870300293, 2.4560999870300293, 2.4560000896453857, 2.455899953842163, 2.455699920654297, 2.4556000232696533, 2.4554998874664307, 2.4554998874664307, 2.444200038909912, 2.454699993133545, 2.4549999237060547, 2.4314000606536865, 2.448899984359741, 2.4553000926971436, 2.454900026321411, 2.4212000370025635, 2.4488000869750977, 2.4488000869750977, 2.4479000568389893, 2.44569993019104, 2.440999984741211, 2.4019999504089355, 2.4526000022888184, 2.3803999423980713, 2.353800058364868, 2.2151999473571777, 2.3680999279022217, 2.2528998851776123, 2.300600051879883, 2.2283999919891357, 2.2832999229431152, 2.2697999477386475, 2.31850004196167, 2.3294999599456787, 2.2535998821258545, 1.9429999589920044, 2.1596999168395996, 2.0260000228881836, 2.2223000526428223, 1.881500005722046, 1.9416999816894531, 2.1582999229431152, 1.785599946975708, 2.04259991645813, 1.892799973487854, 1.7093000411987305, 1.2894999980926514, 1.0214999914169312, 1.4448000192642212, 1.832900047302246, 1.3111000061035156, 0.9815999865531921, 1.4521000385284424, 0.9526000022888184, 1.2310999631881714, 0.8167999982833862, 0.7174000144004822, 1.3482999801635742, 0.8691999912261963, 0.8465999960899353, 1.1654000282287598, 1.4860999584197998, 0.8526999950408936, 0.9362000226974487, 0.366100013256073, 1.0335999727249146, 0.413100004196167, 0.6489999890327454, 0.6888999938964844, 2.5013999938964844, 2.5009000301361084, 2.5006000995635986, 2.5004000663757324, 2.5000998973846436, 2.4999001026153564, 2.4995999336242676, 2.499500036239624, 2.4993999004364014, 2.4992001056671143, 2.499000072479248, 2.499000072479248, 2.499000072479248, 2.499000072479248, 2.499000072479248, 2.4988999366760254, 2.4988999366760254, 2.498800039291382, 2.498800039291382, 2.498699903488159, 2.498699903488159, 2.4986000061035156, 2.4986000061035156, 2.4983999729156494, 2.4983999729156494, 2.4983999729156494, 2.4981000423431396, 2.4981000423431396, 2.4979000091552734, 2.497499942779541, 2.4893999099731445, 2.4955999851226807, 2.485100030899048, 2.4971001148223877, 2.468600034713745, 2.4876999855041504, 2.4697000980377197, 2.4809000492095947, 2.432300090789795, 2.4470999240875244, 2.4702000617980957, 2.4774999618530273, 2.456399917602539, 2.4793999195098877, 2.4663000106811523, 2.3573999404907227, 2.4242000579833984, 2.367300033569336, 2.3850998878479004, 2.352799892425537, 2.394399881362915, 2.3036999702453613, 2.405900001525879, 2.2797999382019043, 2.32450008392334, 2.308799982070923, 2.2395999431610107, 2.4235000610351562, 2.312299966812134, 2.3552000522613525, 2.3729000091552734, 2.432300090789795, 1.8897000551223755, 1.8839000463485718, 2.197000026702881, 2.206700086593628, 1.7683000564575195, 2.076200008392334, 1.7648999691009521, 1.9466999769210815, 1.3772000074386597, 1.9221999645233154, 1.572100043296814, 1.7173000574111938, 1.3121999502182007, 1.3208999633789062, 0.7102000117301941, 1.416599988937378, 1.4500000476837158, 0.8964999914169312, -0.012000000104308128, 0.3874000012874603, 0.9386000037193298, 0.47350001335144043, 0.1703999936580658, 0.7455000281333923, -0.3822000026702881, 0.5940999984741211, 2.518699884414673, 2.5185999870300293, 2.5185000896453857, 2.518399953842163, 2.518399953842163, 2.518199920654297, 2.5181000232696533, 2.517899990081787, 2.5178000926971436, 2.517699956893921, 2.5174999237060547, 2.5174999237060547, 2.517400026321411, 2.517199993133545, 2.5171000957489014, 2.5171000957489014, 2.5169999599456787, 2.516900062561035, 2.5167999267578125, 2.516700029373169, 2.516700029373169, 2.5164999961853027, 2.5164999961853027, 2.516400098800659, 2.516400098800659, 2.5162999629974365, 2.516200065612793, 2.5160999298095703, 2.5160999298095703, 2.5160000324249268, 2.515500068664551, 2.5151000022888184, 2.5136001110076904, 2.501199960708618, 2.512500047683716, 2.5116000175476074, 2.5081000328063965, 2.5044000148773193, 2.5116000175476074, 2.4869000911712646, 2.4482998847961426, 2.4565000534057617, 2.498199939727783, 2.4935998916625977, 2.4247000217437744, 2.418100118637085, 2.413300037384033, 2.396399974822998, 2.478300094604492, 2.2964000701904297, 2.4546000957489014, 2.4161999225616455, 2.416300058364868, 2.429500102996826, 2.3896000385284424, 2.3880999088287354, 2.3850998878479004, 2.406399965286255, 2.2767999172210693, 2.4400999546051025, 2.2365000247955322, 2.2399001121520996, 1.9326000213623047, 2.04010009765625, 2.0998001098632812, 1.80239999294281, 2.327500104904175, 1.698799967765808, 2.1767001152038574, 1.9771000146865845, 1.6234999895095825, 1.6618000268936157, 1.8006999492645264, 1.4005999565124512, 2.0078001022338867, 1.6603000164031982, 0.3109000027179718, 0.995199978351593, 0.5072000026702881, 0.9599000215530396, 0.42289999127388, 1.1456999778747559, 0.6208000183105469, -0.14010000228881836, 0.19670000672340393, 0.4652999937534332, 0.4007999897003174, 0.5878000259399414, -0.1467999964952469, 0.45500001311302185, 3.0204999446868896, 3.0204999446868896, 3.0202999114990234, 3.02020001411438, 3.0201001167297363, 3.019700050354004, 3.019399881362915, 3.0192999839782715, 3.0192999839782715, 3.0188000202178955, 3.0185000896453857, 3.018199920654297, 3.0179998874664307, 3.017899990081787, 3.017899990081787, 3.017899990081787, 3.0178000926971436, 3.0174999237060547, 3.017400026321411, 3.0172998905181885, 3.0171000957489014, 3.016900062561035, 3.016900062561035, 3.0167999267578125, 3.016700029373169, 3.0165998935699463, 3.0165998935699463, 3.0165998935699463, 3.0165998935699463, 3.0164999961853027, 3.0148000717163086, 3.008500099182129, 3.016400098800659, 3.0139000415802, 3.008500099182129, 3.0160999298095703, 3.016200065612793, 2.9855000972747803, 3.0053999423980713, 3.001699924468994, 2.9976999759674072, 2.960099935531616, 2.944000005722046, 2.9995999336242676, 2.834399938583374, 2.8857998847961426, 2.836899995803833, 2.836899995803833, 2.9351000785827637, 2.744800090789795, 2.5840001106262207, 2.822200059890747, 2.813999891281128, 2.7190001010894775, 1.996999979019165, 2.449899911880493, 2.252000093460083, 1.9270000457763672, 1.8876999616622925, 2.6717000007629395, 2.317699909210205, 1.0994999408721924, 1.4973000288009644, 0.8543999791145325, 1.4329999685287476, 1.3035000562667847, 0.5149000287055969, 1.6309000253677368, 1.4737000465393066, 0.9778000116348267, 0.38929998874664307, 1.3610999584197998, 1.6098999977111816, 1.0674999952316284, 1.5146000385284424, 0.569100022315979, 0.5972999930381775, 0.5450000166893005, 0.3264000117778778, 0.5511999726295471, 0.5536999702453613, 0.4000000059604645, 0.12890000641345978, 0.5026999711990356, 0.10620000213384628], \"logprob\": [30.0, 29.0, 28.0, 27.0, 26.0, 25.0, 24.0, 23.0, 22.0, 21.0, 20.0, 19.0, 18.0, 17.0, 16.0, 15.0, 14.0, 13.0, 12.0, 11.0, 10.0, 9.0, 8.0, 7.0, 6.0, 5.0, 4.0, 3.0, 2.0, 1.0, -7.25540018081665, -7.851500034332275, -8.434800148010254, -8.510000228881836, -8.409600257873535, -8.536499977111816, -8.651599884033203, -8.708100318908691, -8.71560001373291, -8.674300193786621, -8.965900421142578, -9.018199920654297, -9.009400367736816, -9.152899742126465, -9.245200157165527, -9.285699844360352, -9.174300193786621, -9.226699829101562, -9.33530044555664, -9.438400268554688, -9.434000015258789, -9.474100112915039, -8.49489974975586, -9.500699996948242, -9.522100448608398, -9.562600135803223, -9.512499809265137, -9.351200103759766, -9.524499893188477, -9.634499549865723, -6.552499771118164, -4.7758002281188965, -8.227800369262695, -7.936100006103516, -7.247300148010254, -7.921000003814697, -9.09179973602295, -5.006999969482422, -4.881100177764893, -6.420499801635742, -4.414299964904785, -7.8180999755859375, -7.399400234222412, -8.259699821472168, -8.04520034790039, -6.903800010681152, -6.564199924468994, -6.736299991607666, -7.406700134277344, -8.108699798583984, -5.762700080871582, -5.361999988555908, -5.2133002281188965, -6.749300003051758, -5.033899784088135, -5.396900177001953, -7.096099853515625, -7.058800220489502, -6.019899845123291, -5.223299980163574, -5.5920000076293945, -5.680200099945068, -6.93179988861084, -5.43209981918335, -5.8190999031066895, -6.542600154876709, -5.7378997802734375, -4.589000225067139, -4.004700183868408, -4.495999813079834, -6.209700107574463, -4.824699878692627, -5.689899921417236, -5.434599876403809, -4.863800048828125, -5.219900131225586, -4.6118998527526855, -5.089300155639648, -4.5802998542785645, -5.757999897003174, -5.162399768829346, -4.782800197601318, -5.247799873352051, -4.916200160980225, -5.129899978637695, -4.8846001625061035, -5.151500225067139, -5.124000072479248, -5.13700008392334, -5.2530999183654785, -5.302700042724609, -5.345799922943115, -5.381199836730957, -7.847499847412109, -6.740300178527832, -7.964300155639648, -8.295900344848633, -8.401900291442871, -8.560600280761719, -8.612799644470215, -8.630200386047363, -8.775899887084961, -8.815400123596191, -8.723799705505371, -8.887100219726562, -8.89840030670166, -8.961299896240234, -9.003999710083008, -9.044500350952148, -9.118300437927246, -9.277799606323242, -9.250699996948242, -9.316399574279785, -8.82450008392334, -9.385000228881836, -9.412799835205078, -9.47700023651123, -9.43970012664795, -9.481599807739258, -9.426199913024902, -7.582399845123291, -9.255200386047363, -9.391500473022461, -6.238999843597412, -7.226600170135498, -8.5871000289917, -8.087300300598145, -8.627400398254395, -8.390600204467773, -6.373300075531006, -4.968500137329102, -7.105000019073486, -7.287700176239014, -8.142499923706055, -7.4532999992370605, -6.015699863433838, -6.207699775695801, -7.052199840545654, -5.2245001792907715, -6.9105000495910645, -7.297800064086914, -6.2342000007629395, -7.896599769592285, -8.140299797058105, -6.768199920654297, -7.687900066375732, -8.062399864196777, -6.440700054168701, -7.269700050354004, -4.388500213623047, -7.754199981689453, -5.785200119018555, -6.907599925994873, -5.983500003814697, -5.8454999923706055, -7.401400089263916, -5.4217000007629395, -3.865999937057495, -6.196400165557861, -6.625199794769287, -5.917099952697754, -6.688000202178955, -5.274899959564209, -4.525400161743164, -5.754700183868408, -6.297699928283691, -5.73199987411499, -5.42080020904541, -5.999899864196777, -5.179800033569336, -5.0971999168396, -5.716400146484375, -4.957300186157227, -6.011199951171875, -5.4019999504089355, -4.756400108337402, -5.049200057983398, -5.614999771118164, -5.353799819946289, -5.353400230407715, -5.492300033569336, -5.338900089263916, -5.620800018310547, -5.440899848937988, -5.535600185394287, -5.556600093841553, -5.558800220489502, -5.574699878692627, -5.63640022277832, -5.654900074005127, -5.651599884033203, -5.674200057983398, -5.714799880981445, -7.677700042724609, -7.790200233459473, -7.440100193023682, -8.013699531555176, -8.184599876403809, -8.225299835205078, -8.434499740600586, -8.453399658203125, -8.453100204467773, -8.697500228881836, -8.93649959564209, -8.997300148010254, -8.388899803161621, -8.926799774169922, -8.985199928283691, -8.633700370788574, -9.07699966430664, -9.079500198364258, -8.976200103759766, -8.504599571228027, -8.34280014038086, -7.933499813079834, -9.234199523925781, -9.099200248718262, -9.258199691772461, -8.662699699401855, -9.292099952697754, -9.373200416564941, -9.381199836730957, -9.22089958190918, -7.2606000900268555, -7.728700160980225, -8.532099723815918, -8.21660041809082, -8.374899864196777, -6.849599838256836, -7.155300140380859, -6.14300012588501, -6.067800045013428, -8.041999816894531, -8.606900215148926, -6.654200077056885, -8.085100173950195, -8.196599960327148, -7.743500232696533, -8.34000015258789, -4.495800018310547, -5.301499843597412, -6.393700122833252, -6.450300216674805, -6.800099849700928, -6.024499893188477, -6.561800003051758, -6.160699844360352, -5.977499961853027, -6.96120023727417, -7.509699821472168, -6.544300079345703, -6.446100234985352, -6.127399921417236, -5.679299831390381, -5.752299785614014, -6.373700141906738, -4.431600093841553, -5.993800163269043, -5.190199851989746, -6.693399906158447, -5.155700206756592, -6.727200031280518, -4.216000080108643, -6.49459981918335, -5.865200042724609, -4.545100212097168, -5.15749979019165, -5.605899810791016, -5.738800048828125, -5.8709001541137695, -5.867099761962891, -6.049799919128418, -5.603799819946289, -4.989099979400635, -5.6656999588012695, -6.041100025177002, -5.273499965667725, -5.208099842071533, -5.731500148773193, -5.407100200653076, -5.076499938964844, -5.535799980163574, -5.16480016708374, -5.389400005340576, -5.414700031280518, -5.204400062561035, -5.582900047302246, -5.398099899291992, -5.639699935913086, -5.55709981918335, -5.537399768829346, -5.779699802398682, -7.565100193023682, -7.4145002365112305, -7.650300025939941, -7.758200168609619, -7.877200126647949, -7.968299865722656, -8.22439956665039, -8.347000122070312, -8.256099700927734, -8.483799934387207, -8.48289966583252, -8.490400314331055, -8.501500129699707, -8.632499694824219, -8.644800186157227, -8.741600036621094, -8.190500259399414, -8.454099655151367, -8.817399978637695, -8.732399940490723, -8.97249984741211, -8.857799530029297, -8.98799991607666, -8.966699600219727, -9.005599975585938, -6.936399936676025, -8.967100143432617, -9.071000099182129, -9.038700103759766, -6.765399932861328, -7.285099983215332, -7.932499885559082, -7.837299823760986, -8.590800285339355, -8.690799713134766, -8.54990005493164, -7.298799991607666, -7.478899955749512, -8.085200309753418, -8.1141996383667, -6.842199802398682, -7.466800212860107, -7.698699951171875, -7.752999782562256, -5.611199855804443, -7.691400051116943, -4.327400207519531, -6.279799938201904, -7.785999774932861, -5.047900199890137, -6.711999893188477, -5.19920015335083, -7.300300121307373, -7.892099857330322, -6.174600124359131, -7.2642998695373535, -6.797399997711182, -7.1178998947143555, -5.430600166320801, -5.4654998779296875, -6.797599792480469, -7.4791998863220215, -6.964099884033203, -6.557799816131592, -6.6392998695373535, -6.881700038909912, -5.922399997711182, -6.005300045013428, -6.388800144195557, -5.504300117492676, -6.313300132751465, -6.373799800872803, -5.401800155639648, -6.202400207519531, -5.942599773406982, -6.01230001449585, -5.468599796295166, -5.769999980926514, -6.550300121307373, -5.964799880981445, -5.2170000076293945, -5.660900115966797, -6.120800018310547, -4.940499782562256, -5.299799919128418, -5.309199810028076, -5.931099891662598, -5.964399814605713, -5.525000095367432, -5.705599784851074, -5.852099895477295, -5.560100078582764, -5.526500225067139, -5.541800022125244, -5.737599849700928, -5.77839994430542, -5.688000202178955, -5.758999824523926, -5.717299938201904, -5.73360013961792, -5.712900161743164, -5.686699867248535, -5.811800003051758, -6.54040002822876, -8.097000122070312, -6.414899826049805, -8.209799766540527, -8.303999900817871, -7.419400215148926, -8.51159954071045, -8.559399604797363, -8.130399703979492, -8.689000129699707, -8.679499626159668, -8.775899887084961, -8.534799575805664, -8.823599815368652, -8.875800132751465, -8.851799964904785, -8.764200210571289, -8.920100212097168, -8.948399543762207, -8.966400146484375, -9.062899589538574, -8.79580020904541, -9.081199645996094, -9.151200294494629, -8.608099937438965, -9.164999961853027, -9.010299682617188, -9.069899559020996, -9.188400268554688, -9.266300201416016, -6.774600028991699, -7.026100158691406, -7.642499923706055, -8.274999618530273, -7.106200218200684, -5.716300010681152, -8.464200019836426, -8.585000038146973, -5.01039981842041, -6.621699810028076, -8.446100234985352, -7.375899791717529, -7.952300071716309, -7.924499988555908, -7.010700225830078, -5.154200077056885, -6.11870002746582, -5.472700119018555, -7.625500202178955, -4.473400115966797, -4.414599895477295, -5.092800140380859, -6.832799911499023, -5.417399883270264, -7.032800197601318, -7.074699878692627, -5.967800140380859, -5.39900016784668, -6.595300197601318, -6.605999946594238, -5.7006001472473145, -7.054999828338623, -7.230800151824951, -5.986700057983398, -6.356400012969971, -4.068999767303467, -5.076700210571289, -6.246500015258789, -4.786499977111816, -5.911099910736084, -5.112199783325195, -4.825900077819824, -6.1905999183654785, -6.286099910736084, -5.946400165557861, -5.730400085449219, -5.096700191497803, -6.2795000076293945, -4.976200103759766, -5.338799953460693, -5.539899826049805, -5.304699897766113, -5.292500019073486, -5.634799957275391, -5.77269983291626, -5.4369001388549805, -5.4430999755859375, -5.383600234985352, -5.561600208282471, -5.502600193023682, -5.559500217437744, -5.617099761962891, -5.666500091552734, -5.689700126647949, -6.179599761962891, -7.045599937438965, -7.084199905395508, -7.164299964904785, -7.253499984741211, -7.260200023651123, -7.226099967956543, -7.538400173187256, -7.563000202178955, -7.446599960327148, -7.808300018310547, -7.8703999519348145, -7.774799823760986, -7.8231000900268555, -8.03380012512207, -8.093400001525879, -8.125900268554688, -8.147899627685547, -7.145199775695801, -8.253899574279785, -8.253199577331543, -8.267999649047852, -8.240599632263184, -8.395500183105469, -8.4173002243042, -8.407400131225586, -8.4399995803833, -8.390899658203125, -8.482999801635742, -8.53439998626709, -5.776899814605713, -5.672100067138672, -5.974599838256836, -7.507800102233887, -7.726600170135498, -7.698299884796143, -4.909299850463867, -6.843599796295166, -7.198500156402588, -6.002600193023682, -6.587900161743164, -7.036200046539307, -6.03000020980835, -5.884200096130371, -7.160799980163574, -5.642099857330322, -6.60129976272583, -7.176499843597412, -6.0706000328063965, -6.126699924468994, -6.094600200653076, -6.562900066375732, -5.099800109863281, -6.757299900054932, -4.782800197601318, -6.4928998947143555, -6.374000072479248, -6.200699806213379, -6.122300148010254, -6.395199775695801, -5.2881999015808105, -5.6869001388549805, -5.864299774169922, -4.351600170135498, -5.878699779510498, -5.496500015258789, -5.280200004577637, -4.941199779510498, -4.9475998878479, -5.431099891662598, -5.315000057220459, -5.613800048828125, -5.731900215148926, -4.911399841308594, -5.349800109863281, -5.366099834442139, -5.474899768829346, -5.42579984664917, -5.794400215148926, -5.543900012969971, -5.790299892425537, -5.727399826049805, -5.794899940490723, -5.769899845123291, -5.836100101470947, -5.812099933624268, -5.814499855041504, -6.390399932861328, -6.474699974060059, -6.692699909210205, -7.035299777984619, -6.973199844360352, -7.111400127410889, -7.3180999755859375, -7.460000038146973, -7.61269998550415, -7.8165998458862305, -7.842700004577637, -6.2733001708984375, -7.9653000831604, -6.549699783325195, -8.068699836730957, -8.082300186157227, -8.283499717712402, -8.315400123596191, -8.322500228881836, -8.366299629211426, -8.350299835205078, -8.428600311279297, -8.43529987335205, -8.475700378417969, -8.48270034790039, -8.531499862670898, -8.594300270080566, -8.637999534606934, -8.671799659729004, -8.68649959564209, -5.5833001136779785, -7.077400207519531, -7.501500129699707, -5.528800010681152, -7.672999858856201, -8.309200286865234, -8.308699607849121, -6.428999900817871, -7.813700199127197, -7.826099872589111, -7.837699890136719, -7.775300025939941, -7.697700023651123, -6.453000068664551, -8.177499771118164, -6.367599964141846, -6.026400089263916, -3.94320011138916, -6.486199855804443, -4.72760009765625, -6.183899879455566, -5.565700054168701, -6.198800086975098, -6.1331000328063965, -6.653500080108643, -6.771699905395508, -6.195799827575684, -4.108099937438965, -6.041600227355957, -5.4928998947143555, -6.440000057220459, -5.060500144958496, -5.389599800109863, -6.218599796295166, -5.164999961853027, -6.026199817657471, -5.692399978637695, -5.354800224304199, -4.4704999923706055, -4.125400066375732, -5.173699855804443, -5.787499904632568, -5.23199987411499, -4.943600177764893, -5.476799964904785, -5.03000020980835, -5.312900066375732, -4.9608001708984375, -4.9980998039245605, -5.501500129699707, -5.1641998291015625, -5.242599964141846, -5.497600078582764, -5.690899848937988, -5.336900234222412, -5.382500171661377, -5.194900035858154, -5.4781999588012695, -5.370299816131592, -5.422299861907959, -5.48390007019043, -6.05210018157959, -7.328000068664551, -7.86269998550415, -8.01360034942627, -7.765200138092041, -8.23289966583252, -8.23449993133545, -8.23009967803955, -7.679999828338623, -8.5, -8.626199722290039, -8.63029956817627, -5.8003997802734375, -8.637299537658691, -8.637299537658691, -8.648900032043457, -6.0995001792907715, -7.618000030517578, -8.679800033569336, -8.715700149536133, -7.4608001708984375, -8.741800308227539, -7.628399848937988, -8.789299964904785, -8.613100051879883, -8.671799659729004, -8.889399528503418, -8.265600204467773, -8.944000244140625, -8.987000465393066, -5.353300094604492, -7.599999904632568, -6.855899810791016, -8.622699737548828, -6.782700061798096, -7.828800201416016, -7.197700023651123, -7.8165998458862305, -5.708799839019775, -6.253499984741211, -7.357500076293945, -7.657599925994873, -6.979899883270264, -7.892600059509277, -7.516200065612793, -4.296999931335449, -6.2993998527526855, -5.368800163269043, -6.034900188446045, -5.44920015335083, -6.521599769592285, -5.685200214385986, -6.907800197601318, -5.618899822235107, -6.132699966430664, -6.13100004196167, -5.585000038146973, -7.185999870300293, -6.499899864196777, -6.8130998611450195, -6.99459981918335, -7.285900115966797, -4.741799831390381, -4.805099964141846, -6.261499881744385, -6.302700042724609, -4.730100154876709, -5.9695000648498535, -5.059800148010254, -5.629300117492676, -4.478000164031982, -5.852499961853027, -5.366099834442139, -5.619800090789795, -5.1305999755859375, -5.418600082397461, -5.056399822235107, -5.696899890899658, -5.722700119018555, -5.480400085449219, -5.1479997634887695, -5.396100044250488, -5.632699966430664, -5.597700119018555, -5.611499786376953, -5.722599983215332, -5.529099941253662, -5.721199989318848, -7.178500175476074, -7.529099941253662, -7.549300193786621, -7.166399955749512, -7.686200141906738, -7.82480001449585, -7.845200061798096, -7.809700012207031, -8.0693998336792, -8.097900390625, -8.21049976348877, -8.090100288391113, -8.215499877929688, -8.34689998626709, -8.384499549865723, -8.408499717712402, -8.429200172424316, -7.938399791717529, -8.206399917602539, -8.441399574279785, -8.565299987792969, -8.619199752807617, -8.603099822998047, -8.633299827575684, -8.66510009765625, -8.62909984588623, -6.140100002288818, -8.725199699401855, -8.73740005493164, -8.777299880981445, -6.392199993133545, -7.423699855804443, -7.333600044250488, -6.34119987487793, -7.488999843597412, -7.648499965667725, -7.339799880981445, -6.999499797821045, -7.74970006942749, -5.653600215911865, -4.454999923706055, -4.960400104522705, -7.13539981842041, -7.043300151824951, -5.20550012588501, -5.408599853515625, -5.53410005569458, -5.399600028991699, -7.230500221252441, -3.9228999614715576, -6.919400215148926, -6.326399803161621, -6.416100025177002, -6.779600143432617, -6.399799823760986, -6.44890022277832, -6.600399971008301, -6.823599815368652, -6.13700008392334, -7.103799819946289, -6.151599884033203, -6.18310022354126, -4.8993000984191895, -5.470099925994873, -5.771900177001953, -5.018099784851074, -6.646500110626221, -4.990200042724609, -6.252999782562256, -5.758900165557861, -4.99429988861084, -5.10099983215332, -5.499199867248535, -5.285299777984619, -6.198500156402588, -5.9156999588012695, -5.252200126647949, -5.629199981689453, -5.369100093841553, -5.617000102996826, -5.360499858856201, -5.72730016708374, -5.524799823760986, -5.287099838256836, -5.426700115203857, -5.543399810791016, -5.552700042724609, -5.690999984741211, -5.707900047302246, -5.735899925231934, -6.697299957275391, -6.5725998878479, -6.208600044250488, -7.035299777984619, -7.160900115966797, -7.2982001304626465, -7.60260009765625, -7.256700038909912, -7.65939998626709, -7.736100196838379, -7.791500091552734, -7.960000038146973, -7.901000022888184, -8.199999809265137, -5.453400135040283, -8.223699569702148, -8.239999771118164, -8.221599578857422, -8.313699722290039, -7.390999794006348, -6.6092000007629395, -8.468899726867676, -8.47350025177002, -8.326499938964844, -8.497599601745605, -8.51259994506836, -8.498600006103516, -8.12660026550293, -8.330300331115723, -8.544899940490723, -6.589300155639648, -6.906599998474121, -7.696000099182129, -7.836400032043457, -7.417200088500977, -8.238699913024902, -8.279399871826172, -5.5046000480651855, -7.3317999839782715, -7.2347002029418945, -7.304200172424316, -6.4878997802734375, -6.247200012207031, -7.764999866485596, -4.591800212860107, -5.82859992980957, -5.30049991607666, -5.790599822998047, -6.9944000244140625, -5.668000221252441, -5.0640997886657715, -6.732500076293945, -6.7042999267578125, -6.605299949645996, -4.621600151062012, -6.003499984741211, -5.599899768829346, -5.006899833679199, -5.213500022888184, -6.690400123596191, -6.093599796295166, -4.697400093078613, -5.303899765014648, -4.786300182342529, -5.395299911499023, -5.27269983291626, -4.621099948883057, -5.700200080871582, -5.5808000564575195, -5.225100040435791, -4.896299839019775, -5.671599864959717, -5.831699848175049, -5.557700157165527, -5.797900199890137, -5.379499912261963, -5.4369001388549805, -5.437699794769287, -5.389100074768066, -5.469799995422363, -5.479700088500977, -5.476399898529053, -5.43209981918335, -5.563899993896484, -5.660399913787842]}, \"token.table\": {\"Topic\": [2, 5, 7, 1, 2, 3, 4, 5, 6, 7, 8, 9, 10, 1, 10, 1, 2, 3, 4, 5, 6, 7, 8, 9, 10, 10, 4, 1, 2, 3, 4, 5, 6, 7, 8, 9, 10, 2, 4, 3, 7, 1, 4, 5, 3, 5, 10, 3, 5, 6, 10, 1, 2, 3, 4, 5, 6, 7, 8, 9, 10, 1, 2, 3, 4, 5, 6, 8, 9, 6, 1, 7, 7, 7, 7, 7, 7, 2, 3, 5, 6, 7, 9, 10, 2, 3, 6, 7, 9, 10, 5, 1, 2, 3, 4, 5, 8, 9, 10, 1, 5, 9, 5, 1, 2, 3, 4, 5, 6, 7, 8, 9, 10, 1, 2, 4, 1, 2, 3, 4, 6, 7, 8, 9, 10, 5, 7, 8, 3, 5, 9, 1, 2, 3, 4, 5, 6, 7, 8, 9, 10, 1, 2, 3, 4, 5, 6, 7, 8, 9, 10, 2, 3, 6, 7, 1, 5, 6, 8, 9, 10, 3, 5, 6, 9, 9, 1, 2, 3, 4, 5, 6, 7, 8, 9, 10, 4, 6, 8, 10, 1, 2, 3, 4, 5, 6, 7, 8, 9, 10, 1, 2, 3, 4, 5, 6, 7, 8, 9, 10, 2, 7, 5, 1, 10, 6, 7, 10, 1, 2, 7, 10, 6, 7, 10, 6, 7, 10, 7, 1, 3, 5, 6, 7, 8, 9, 10, 1, 2, 3, 4, 5, 6, 7, 8, 10, 2, 1, 2, 4, 5, 6, 8, 9, 10, 1, 4, 1, 1, 2, 1, 2, 3, 4, 5, 6, 7, 8, 9, 10, 2, 3, 4, 6, 7, 9, 10, 7, 9, 1, 5, 6, 8, 9, 5, 6, 8, 9, 1, 2, 3, 4, 5, 6, 7, 8, 9, 10, 2, 3, 4, 5, 9, 8, 9, 1, 2, 3, 4, 5, 6, 7, 8, 9, 10, 7, 10, 1, 3, 5, 6, 7, 8, 9, 4, 8, 6, 8, 1, 2, 3, 4, 5, 6, 7, 8, 9, 10, 1, 2, 3, 4, 5, 6, 7, 8, 9, 10, 4, 7, 8, 9, 7, 10, 3, 5, 1, 2, 3, 4, 5, 7, 8, 9, 10, 1, 2, 3, 4, 6, 7, 8, 9, 10, 7, 1, 2, 3, 4, 5, 6, 7, 8, 9, 10, 8, 1, 2, 3, 4, 5, 7, 9, 1, 2, 3, 4, 5, 6, 7, 8, 9, 10, 3, 1, 2, 3, 4, 5, 6, 7, 8, 9, 10, 1, 5, 1, 2, 3, 4, 5, 5, 1, 5, 9, 1, 3, 5, 6, 7, 9, 10, 1, 2, 3, 5, 7, 9, 10, 1, 2, 3, 4, 5, 6, 7, 8, 9, 10, 1, 2, 3, 4, 5, 6, 7, 8, 9, 10, 1, 2, 3, 4, 5, 6, 7, 8, 9, 10, 1, 3, 4, 5, 6, 7, 8, 9, 10, 1, 2, 3, 4, 5, 6, 7, 8, 9, 10, 2, 3, 5, 7, 9, 9, 9, 3, 4, 6, 8, 9, 1, 2, 3, 4, 5, 6, 7, 8, 9, 10, 1, 2, 3, 5, 6, 7, 8, 9, 10, 1, 2, 3, 4, 5, 6, 7, 8, 9, 10, 1, 2, 3, 4, 5, 6, 7, 8, 9, 10, 2, 3, 2, 7, 1, 2, 4, 8, 9, 10, 1, 2, 3, 4, 5, 6, 7, 8, 9, 10, 3, 5, 3, 5, 6, 1, 2, 3, 5, 7, 9, 1, 7, 1, 2, 3, 4, 5, 6, 8, 9, 10, 1, 2, 3, 4, 5, 6, 7, 8, 9, 10, 1, 2, 3, 4, 5, 6, 7, 8, 9, 10, 1, 2, 3, 4, 9, 2, 1, 2, 3, 4, 5, 6, 7, 8, 9, 10, 1, 2, 3, 4, 5, 6, 7, 8, 9, 10, 1, 2, 3, 4, 5, 6, 7, 8, 9, 10, 1, 2, 3, 4, 5, 6, 7, 8, 9, 10, 1, 2, 3, 4, 5, 6, 7, 9, 10, 1, 2, 3, 4, 5, 6, 7, 8, 9, 10, 2, 1, 2, 3, 4, 5, 6, 7, 8, 9, 10, 1, 2, 3, 4, 5, 6, 7, 8, 9, 10, 2, 3, 4, 5, 6, 7, 8, 9, 2, 3, 7, 7, 1, 2, 3, 4, 5, 6, 7, 8, 9, 10, 1, 2, 3, 4, 5, 6, 7, 8, 9, 10, 1, 2, 3, 4, 5, 6, 7, 8, 9, 10, 3, 2, 7, 5, 6, 8, 6, 8, 6, 10, 7, 10, 1, 2, 3, 4, 5, 6, 7, 8, 9, 10, 1, 2, 3, 4, 5, 6, 7, 8, 9, 10, 1, 2, 3, 4, 5, 6, 7, 8, 9, 10, 4, 1, 2, 4, 5, 2, 3, 5, 6, 6, 1, 3, 5, 6, 7, 10, 1, 2, 4, 5, 6, 8, 9, 10, 1, 2, 3, 4, 5, 6, 7, 8, 9, 10, 2, 1, 2, 9, 10, 1, 2, 3, 4, 5, 6, 7, 8, 9, 10, 1, 2, 1, 2, 3, 4, 6, 7, 8, 9, 10, 1, 2, 4, 6, 7, 8, 9, 4, 4, 4, 1, 2, 3, 4, 5, 6, 7, 8, 9, 10, 2, 3, 10, 1, 2, 3, 4, 5, 6, 7, 8, 9, 10, 1, 2, 3, 4, 5, 6, 7, 8, 9, 10, 1, 2, 3, 4, 5, 6, 7, 9, 10, 4, 8, 9, 1, 2, 3, 4, 5, 6, 7, 8, 9, 10, 1, 7, 7, 1, 2, 3, 4, 5, 6, 7, 8, 9, 10, 1, 2, 3, 4, 5, 6, 7, 8, 9, 10, 1, 2, 3, 4, 5, 7, 8, 9, 1, 2, 3, 4, 5, 6, 7, 8, 9, 10, 1, 2, 3, 4, 5, 6, 7, 8, 9, 10, 1, 2, 3, 4, 5, 6, 7, 8, 9, 10, 2, 1, 3, 5, 7, 8, 9, 10, 9, 1, 9, 4, 6, 8, 9, 2, 3, 4, 5, 7, 9, 7, 1, 2, 3, 4, 5, 6, 7, 8, 9, 10, 1, 2, 3, 5, 6, 7, 9, 10, 1, 2, 3, 4, 5, 6, 7, 8, 9, 10, 6, 10, 2, 4, 6, 8, 10, 1, 4, 6, 8, 9, 10, 8, 1, 2, 4, 6, 7, 8, 9, 10, 1, 2, 3, 4, 5, 6, 7, 8, 9, 10, 1, 2, 3, 4, 6, 8, 10, 4, 8, 1, 2, 4, 6, 8, 1, 3, 1, 2, 3, 4, 5, 6, 7, 8, 9, 10, 8, 1, 2, 3, 4, 5, 6, 7, 8, 9, 10, 1, 2, 3, 4, 5, 6, 7, 8, 9, 10, 7, 10, 2, 4, 4, 1, 2, 3, 5, 6, 7, 9, 10, 3, 1, 2, 3, 5, 6, 7, 9, 10, 2, 3, 4, 5, 6, 8, 3, 3, 5, 6, 7, 9, 10, 1, 2, 3, 4, 5, 7, 8, 9, 10, 1, 2, 3, 5, 10, 9, 8, 9, 9, 2, 4, 1, 2, 4, 9, 1, 2, 3, 4, 5, 6, 7, 8, 9, 10, 1, 2, 3, 4, 5, 6, 7, 8, 9, 10, 1, 2, 3, 4, 5, 6, 7, 8, 9, 10, 1, 2, 4, 6, 1, 2, 3, 4, 5, 6, 7, 8, 9, 10, 1, 2, 3, 4, 5, 6, 7, 8, 9, 10, 9, 3, 6, 7, 8, 10, 1, 2, 3, 4, 5, 6, 8, 9, 10, 6, 4, 4, 6, 9, 1, 2, 3, 4, 5, 6, 7, 8, 9, 10, 1, 2, 4, 5, 6, 7, 8, 9, 10, 1, 2, 3, 4, 5, 6, 7, 8, 9, 10, 1, 2, 3, 4, 5, 6, 7, 8, 9, 10, 10, 1, 2, 3, 4, 5, 6, 7, 8, 9, 10, 8, 1, 2, 3, 4, 5, 6, 7, 8, 9, 10, 1, 2, 3, 4, 5, 6, 7, 8, 9, 10, 3, 5, 9, 10, 1, 3, 5, 10, 1, 2, 3, 4, 5, 6, 7, 8, 9, 10, 1, 2, 3, 4, 5, 6, 7, 8, 9, 10, 2, 3, 6, 3, 5, 2, 3, 5, 7, 8, 9, 10, 1, 2, 3, 4, 5, 6, 7, 8, 9, 10, 1, 2, 3, 4, 5, 6, 7, 8, 9, 10, 2, 3, 5, 6, 7, 8, 10, 2, 3, 4, 5, 6, 7, 8, 9, 10, 1, 2, 3, 4, 5, 6, 7, 9, 10, 4, 6, 8, 9, 10, 1, 2, 3, 4, 5, 6, 7, 8, 9, 10, 3, 4, 5, 6, 7, 8, 9, 10, 1, 2, 3, 4, 5, 6, 7, 8, 9, 10, 1, 2, 3, 4, 5, 6, 7, 8, 9, 2, 8, 9, 4, 6, 8, 10, 1, 1, 2, 4, 5, 6, 8, 9, 10, 3, 4, 5, 6, 8, 10, 1, 2, 3, 4, 5, 6, 7, 8, 9, 10, 1, 2, 3, 4, 5, 6, 7, 8, 9, 10, 5, 1, 2, 3, 4, 5, 6, 7, 8, 9, 10, 1, 2, 3, 4, 5, 6, 7, 8, 9, 10, 3, 6, 10, 6, 10, 10, 1, 4, 6, 8, 9, 5, 7, 8, 9, 7, 8, 9, 9, 2, 4, 5, 7, 8, 9, 2, 1, 2, 5, 7, 8, 9, 5, 6, 8, 10, 6, 8, 10, 6, 2, 3, 5, 7, 1, 2, 3, 5, 6, 7, 9, 10, 6, 6, 1, 2, 3, 4, 5, 6, 7, 8, 9, 10, 1, 5, 7, 9, 1, 2, 4, 8, 10, 1, 2, 3, 4, 5, 6, 7, 8, 9, 10, 2, 10, 2, 1, 2, 3, 4, 5, 6, 7, 8, 9, 10, 1, 4, 5, 2, 4, 3, 5, 8, 10, 7, 10, 1, 1, 2, 3, 4, 5, 6, 7, 8, 9, 10, 6, 8, 3, 7, 1, 2, 3, 10, 3, 1, 8, 8, 7, 2, 3, 4, 5, 8, 1, 2, 10, 1, 2, 3, 4, 5, 6, 7, 8, 9, 10, 8, 3, 5, 6, 10, 5, 3, 5, 3, 7, 3, 5, 6, 7, 8, 10, 6, 10, 1, 2, 3, 4, 5, 6, 7, 8, 9, 10, 5, 1, 2, 4, 5, 6, 7, 8, 9, 10, 4, 1, 2, 3, 4, 5, 6, 7, 8, 9, 10, 4, 8, 2, 3, 7, 8, 9, 1, 2, 3, 4, 5, 6, 7, 8, 9, 10, 1, 2, 3, 4, 5, 6, 7, 8, 9, 10, 1, 2, 3, 4, 5, 6, 7, 8, 9, 10, 1, 2, 3, 4, 5, 6, 7, 8, 9, 10, 1, 4, 6, 8, 1, 2, 3, 4, 5, 6, 7, 8, 9, 10, 2, 4, 8, 9, 7, 1, 2, 3, 4, 5, 6, 7, 8, 9, 10, 1, 2, 3, 4, 5, 6, 7, 8, 9, 10, 1, 2, 3, 4, 5, 6, 7, 8, 9, 10, 3, 5, 3, 5, 6, 8, 10, 5, 8, 9, 1, 2, 3, 4, 5, 6, 7, 8, 9, 10, 1, 2, 3, 4, 5, 7, 9, 10, 1, 2, 4, 5, 9, 10, 1, 2, 3, 4, 5, 6, 7, 9, 10, 1, 2, 3, 5, 6, 9, 10, 2, 7, 1, 2, 3, 5, 9, 1, 2, 3, 4, 5, 6, 7, 8, 9, 10, 1, 2, 3, 4, 5, 6, 7, 8, 9, 10, 2, 1, 2, 3, 4, 7, 8, 9, 1, 2, 3, 4, 6, 8, 10, 5, 9, 2, 7, 1, 3, 5, 6, 7, 9, 10, 5, 2, 4, 1, 4, 9, 3, 5, 6, 7, 9, 7, 9, 1, 2, 3, 4, 5, 6, 7, 8, 9, 10, 1, 4, 1, 2, 3, 4, 5, 6, 7, 8, 9, 10, 1, 2, 3, 4, 6, 8, 9, 10, 8, 7, 1, 2, 4, 5, 7, 8, 9, 1, 2, 3, 4, 5, 6, 7, 8, 9, 10, 1, 3, 5, 6, 7, 9, 10, 6, 1, 2, 3, 4, 5, 6, 7, 8, 9, 10, 2, 4, 4, 4, 1, 2, 3, 4, 5, 6, 7, 8, 9, 10, 10, 5, 9, 1, 2, 3, 4, 5, 6, 7, 8, 9, 10, 5, 10, 1, 2, 3, 4, 5, 6, 7, 8, 9, 10, 1, 4, 2, 4, 6, 8, 1, 2, 3, 4, 5, 6, 7, 8, 9, 10, 1, 5, 6, 10, 1, 2, 7, 10, 5, 6, 6, 3, 5, 6, 7, 9, 10, 1, 2, 3, 4, 5, 6, 7, 8, 9, 10, 2, 2, 1, 2, 3, 4, 5, 6, 7, 8, 9, 10, 5, 7, 6, 1, 2, 3, 4, 5, 7, 8, 9, 10, 1, 2, 3, 4, 5, 1, 3, 4, 5, 6, 8, 9, 10, 1, 2, 3, 4, 5, 6, 7, 8, 9, 10, 1, 2, 3, 4, 5, 6, 7, 8, 9, 10, 1, 2, 3, 4, 5, 6, 7, 8, 9, 10, 1, 2, 3, 4, 5, 6, 7, 8, 9, 10, 1, 2, 3, 4, 5, 7, 9, 10, 1, 2, 3, 4, 5, 6, 7, 8, 9, 10, 1, 2, 3, 5, 6, 7, 8, 9, 10, 1, 2, 3, 4, 5, 6, 7, 8, 9, 10, 1, 2, 3, 4, 5, 6, 7, 8, 9, 10, 3, 5, 6, 7, 3, 6, 3, 5, 7, 9, 3, 1, 2, 3, 4, 5, 6, 7, 8, 9, 10, 5, 6, 8, 9, 3, 5, 6, 7, 8, 10, 5, 3, 3, 1, 2, 3, 4, 5, 6, 7, 8, 9, 10, 5, 1, 5, 6, 8, 9, 10, 8, 3, 5, 6, 9, 10, 9, 2, 6, 10, 2, 3, 2, 3, 10, 6, 2, 1, 2, 3, 4, 5, 6, 8, 9, 10, 1, 2, 3, 4, 5, 6, 7, 8, 9, 10, 7, 7, 1, 2, 3, 5, 6, 7, 8, 9, 10, 3, 5, 7, 9, 10, 3, 5, 9, 4, 9, 9, 9, 2, 5, 9, 7, 9, 8, 1, 3, 5, 9, 10, 5, 1, 3, 5, 3, 5, 9, 3, 5, 9, 3, 3, 5, 1, 2, 4, 10, 4, 1, 2, 3, 4, 5, 6, 7, 8, 9, 10, 10, 1, 2, 3, 4, 5, 6, 7, 8, 9, 10, 9, 1, 2, 3, 4, 5, 6, 7, 8, 9, 10, 1, 2, 3, 4, 7, 9, 2, 3, 7, 9, 7, 9, 10, 10, 3, 5, 10, 10, 2, 5, 7, 9, 10, 5, 7, 9, 1, 2, 3, 4, 6, 7, 8, 9, 10, 7, 2, 3, 5, 6, 7, 10, 3, 7, 1, 2, 3, 4, 5, 6, 7, 8, 9, 10, 1, 1, 1, 2, 3, 4, 5, 6, 7, 8, 9, 10, 8, 1, 2, 3, 4, 5, 6, 7, 8, 9, 10, 10, 1, 2, 3, 4, 5, 6, 7, 8, 9, 10, 1, 2, 3, 4, 5, 6, 7, 8, 10, 5, 6, 8, 9, 1, 2, 3, 4, 5, 6, 7, 9, 10, 1, 2, 3, 4, 5, 6, 7, 8, 9, 10, 1, 4, 6, 8, 10, 1, 4, 6, 7, 8, 9, 10, 6, 8, 10, 1, 2, 3, 4, 5, 6, 7, 8, 9, 10, 1, 2, 3, 4, 5, 6, 7, 8, 9, 10, 1, 2, 3, 5, 6, 7, 9, 10, 3, 7, 8, 9, 9, 1, 3, 4, 5, 6, 8, 10, 5, 5, 6, 7, 8, 9, 10, 1, 2, 3, 4, 5, 6, 7, 8, 9, 10, 1, 4, 7, 9, 1, 5, 3, 5, 6, 9, 1, 2, 7, 8, 9, 8, 9, 7, 1, 2, 3, 4, 5, 6, 7, 8, 9, 10, 4, 1, 2, 3, 4, 5, 6, 7, 8, 9, 10, 3, 5, 6, 7, 8, 9, 10, 7, 7, 1, 2, 4, 1, 2, 3, 4, 5, 6, 7, 8, 9, 10, 1, 2, 3, 4, 6, 7, 8, 9, 1, 2, 3, 4, 5, 6, 7, 8, 9, 10, 3, 9, 1, 2, 3, 4, 5, 6, 7, 8, 9, 10, 4, 3, 5, 9, 5, 3, 5, 3, 5, 3, 5, 7, 8, 9, 1, 2, 3, 5, 6, 7, 9, 10, 3, 1, 2, 3, 4, 5, 6, 7, 8, 9, 10, 6, 5, 6, 10, 1, 2, 3, 4, 5, 6, 7, 8, 9, 10, 1, 2, 4, 6, 8, 4, 8, 4, 8, 5, 1, 3, 5, 7, 9, 3, 5, 3, 5, 9, 7, 1, 2, 3, 4, 5, 6, 7, 8, 9, 10, 1, 1, 1, 1, 2, 3, 4, 5, 6, 7, 8, 9, 10, 1, 2, 3, 4, 5, 6, 7, 8, 9, 10, 1, 2, 3, 4, 5, 6, 7, 8, 9, 10, 1, 3, 5, 6, 8, 8, 8, 1, 4, 8, 9, 2, 4, 8, 9, 1, 3, 1, 2, 4, 2, 1, 2, 3, 4, 5, 6, 7, 8, 9, 10, 1, 2, 3, 4, 5, 6, 7, 8, 9, 10, 1, 2, 3, 4, 5, 6, 7, 8, 9, 10, 2, 3, 1, 2, 3, 4, 5, 6, 7, 8, 9, 10, 1, 3, 4, 5, 6, 7, 8, 9, 10, 1, 2, 3, 4, 5, 6, 7, 8, 9, 10, 2, 1, 2, 3, 4, 5, 6, 7, 8, 9, 10, 1, 2, 3, 4, 5, 6, 7, 8, 9, 10, 3, 5, 7, 9, 5, 7, 9, 4, 1, 2, 4, 1, 2, 3, 4, 5, 6, 7, 8, 9, 10, 4, 10, 1, 3, 5, 7, 10, 3, 7, 10, 10, 3, 3, 2, 4, 8, 9, 1, 2, 3, 4, 5, 6, 7, 8, 9, 10, 2, 3, 4, 5, 6, 7, 8, 9, 1, 2, 3, 4, 5, 6, 7, 8, 9, 10, 1, 2, 3, 4, 5, 6, 7, 8, 9, 10, 4, 5, 9, 1, 2, 3, 4, 5, 6, 7, 8, 9, 10, 5, 9, 1, 2, 3, 4, 5, 6, 7, 8, 9, 10, 10, 1, 2, 3, 4, 5, 6, 7, 8, 9, 10, 6, 8, 4, 1, 2, 3, 4, 5, 6, 7, 8, 9, 10, 2, 4, 7, 1, 2, 3, 4, 5, 6, 8, 9, 10, 4, 4, 1, 2, 3, 4, 5, 6, 7, 8, 9, 10, 1, 2, 3, 4, 5, 6, 7, 8, 9, 10, 3, 1, 2, 3, 4, 5, 6, 7, 8, 9, 10, 4, 1, 2, 3, 4, 5, 6, 7, 8, 9, 10, 1, 1, 1, 3, 5, 6, 7, 8, 9, 10, 1, 9, 1, 2, 3, 4, 5, 6, 7, 8, 9, 10, 5, 9, 9, 1, 2, 3, 7, 1, 2, 3, 6, 7, 9, 10, 1, 5, 6, 8, 10, 1, 2, 3, 4, 5, 6, 7, 8, 9, 10, 2, 1, 2, 3, 4, 5, 6, 7, 8, 9, 10, 4, 1, 2, 3, 4, 5, 6, 7, 8, 9, 10, 2, 3, 4, 6, 7, 10, 1, 1, 1, 2, 3, 4, 5, 6, 7, 8, 9, 10, 1, 3, 4, 5, 6, 9, 10, 1, 2, 3, 4, 5, 6, 7, 8, 9, 10, 8, 1, 2, 3, 4, 5, 6, 7, 8, 9, 10, 2, 1, 2, 4, 5, 6, 8, 9, 10, 6, 6, 10, 1, 2, 3, 4, 5, 6, 7, 8, 9, 10, 5, 6, 8, 10, 2, 3, 6, 7, 10, 6, 3, 5, 7, 9, 4, 3, 5, 7, 1, 2, 3, 5, 6, 7, 8, 9, 10, 2, 4, 7, 1, 2, 3, 4, 5, 6, 7, 8, 9, 10, 1, 2, 3, 4, 5, 6, 7, 8, 9, 10, 2, 3, 6, 7, 9, 10, 1, 2, 3, 4, 5, 6, 8, 9, 10, 1, 2, 3, 4, 6, 8, 9, 10, 1, 3, 2, 3, 4, 5, 6, 7, 8, 9, 10, 9, 3, 5, 6, 10, 3, 7, 1, 2, 3, 4, 5, 6, 7, 8, 9, 10, 6, 8, 10, 2, 3, 9, 2, 1, 2, 3, 4, 5, 6, 7, 8, 9, 10, 1, 2, 3, 4, 5, 6, 7, 8, 9, 10, 5, 6, 8, 9, 10, 1, 3, 5, 6, 7, 8, 10, 1, 2, 3, 4, 5, 6, 7, 8, 9, 10, 1, 2, 3, 4, 5, 6, 7, 8, 9, 10, 5, 3, 5, 6, 1, 2, 3, 4, 5, 6, 7, 8, 9, 10, 3, 4, 5, 6, 7, 8, 9, 10, 1, 2, 4, 2, 3, 5, 6, 7, 10, 3, 5, 1, 5, 6, 7, 9, 10, 6, 10, 1, 2, 3, 4, 5, 6, 7, 8, 9, 10, 1, 2, 3, 4, 5, 6, 7, 8, 9, 10, 6, 10, 1, 2, 3, 4, 5, 6, 7, 8, 9, 10, 2, 3, 5, 6, 7, 8, 9, 10, 8, 7, 1, 2, 3, 4, 5, 6, 7, 8, 9, 10, 6, 6, 6, 3, 5, 10, 3, 3, 5, 7, 10, 10, 1, 2, 3, 4, 5, 6, 7, 8, 9, 10, 5, 1, 2, 3, 4, 5, 6, 7, 8, 9, 10, 5, 6, 1, 2, 4, 6, 7, 8, 9, 10, 8, 8, 3, 5, 7, 10, 7, 7, 1, 5, 8, 9, 9, 1, 2, 3, 4, 5, 6, 7, 8, 9, 10, 1, 2, 3, 4, 5, 6, 7, 8, 9, 10, 1, 2, 3, 4, 5, 6, 7, 8, 9, 10, 6, 8, 9, 8, 9, 1, 2, 3, 4, 5, 6, 7, 8, 9, 10, 1, 2, 3, 4, 5, 6, 7, 8, 9, 10, 1, 1, 2, 3, 4, 5, 6, 7, 8, 9, 10, 1, 2, 3, 4, 5, 6, 7, 8, 9, 10, 6, 6, 10, 3, 5, 6, 7, 8, 9, 10, 3, 10, 1, 2, 3, 4, 5, 6, 7, 8, 9, 10, 1, 2, 3, 5, 6, 10, 7, 1, 2, 3, 4, 5, 6, 7, 8, 9, 10, 1, 2, 3, 4, 5, 6, 7, 8, 9, 10, 1, 3, 4, 5, 9, 2, 3, 5, 6, 7, 8, 9, 10, 3, 5, 3, 1, 2, 3, 4, 5, 6, 7, 8, 9, 10, 3, 5, 6, 7, 8, 9, 10, 1, 2, 3, 4, 5, 6, 7, 8, 9, 10, 2, 3, 5, 7, 1, 2, 3, 5, 7, 9, 2, 3, 4, 6, 7, 8, 9, 1, 2, 4, 7, 8, 9, 9, 9, 2, 3, 4, 1, 2, 4, 6, 7, 8, 9, 8, 6, 8, 10, 3, 5, 7, 9, 3, 6, 3, 6, 7, 10, 3, 6, 7, 1, 2, 3, 4, 5, 6, 7, 8, 9, 10, 1, 1, 2, 3, 4, 5, 6, 7, 8, 9, 10, 1, 2, 3, 4, 5, 6, 7, 8, 9, 10, 3, 4, 7, 10, 1, 2, 3, 4, 5, 6, 7, 8, 9, 10, 10, 2, 1, 2, 3, 4, 5, 6, 7, 10, 6, 6, 6, 1, 8, 9, 1, 2, 3, 4, 5, 6, 7, 8, 9, 10, 2, 3, 4, 5, 6, 7, 8, 9, 10, 10, 3, 5, 6, 7, 9, 10, 4, 1, 2, 5, 8, 9, 2, 2, 5, 8, 9, 1, 2, 3, 4, 5, 6, 7, 8, 9, 10, 3, 5, 9, 3, 5, 9, 6, 10, 6, 6, 6, 2, 3, 5, 7, 9, 4, 3, 1, 2, 4, 7, 3, 1, 2, 3, 4, 5, 6, 7, 8, 9, 10, 4, 6, 8, 10, 1, 2, 3, 4, 5, 6, 7, 8, 9, 10, 1, 2, 3, 4, 5, 6, 7, 8, 9, 10, 1, 2, 3, 4, 6, 7, 8, 10, 6, 8, 2, 4, 7, 8, 9, 4, 8, 1, 2, 3, 4, 6, 7, 8, 10, 2, 3, 1, 2, 3, 4, 5, 6, 7, 8, 9, 10, 1, 2, 3, 4, 5, 6, 7, 8, 9, 10, 2, 3, 6, 9, 10, 1, 2, 3, 4, 5, 6, 7, 8, 9, 10, 1, 2, 4, 1, 2, 3, 4, 5, 6, 7, 8, 9, 10, 10, 1, 2, 3, 4, 5, 6, 7, 8, 9, 10, 5, 9, 9, 5], \"Freq\": [0.9585272669792175, 0.007950917817652225, 0.0318036712706089, 0.7608894109725952, 0.030295750126242638, 0.02315877005457878, 0.10923948138952255, 0.030659882351756096, 0.0016021791379898787, 0.0007282632286660373, 0.006263063754886389, 0.01281743310391903, 0.024323992431163788, 0.994761049747467, 0.9947737455368042, 0.022335290908813477, 0.1182594895362854, 0.011520308442413807, 0.15799279510974884, 0.006112816743552685, 0.025626808404922485, 0.00047021667705848813, 0.031974732875823975, 0.06065794825553894, 0.5647302269935608, 0.9938458800315857, 0.9958532452583313, 0.3831048309803009, 0.09375165402889252, 0.047712165862321854, 0.05030277743935585, 0.11117199808359146, 0.06894703954458237, 0.014217776246368885, 0.054974041879177094, 0.12818437814712524, 0.04763057082891464, 0.0335305817425251, 0.9655088186264038, 0.9990429282188416, 0.9985195398330688, 0.001830159337259829, 0.9974368214607239, 0.9955794215202332, 0.0008997588302008808, 0.9978325366973877, 0.9972902536392212, 0.003357055364176631, 0.09567607939243317, 0.8996908664703369, 0.0008392638410441577, 0.022783635184168816, 0.04078330472111702, 0.04012550786137581, 0.31203413009643555, 0.06841070204973221, 0.1420837640762329, 0.019076062366366386, 0.2493641972541809, 0.0996260792016983, 0.0057407584972679615, 0.03729883208870888, 0.0014919532695785165, 0.002735247602686286, 0.06514862179756165, 0.07832754403352737, 0.0014919532695785165, 0.7442359924316406, 0.0691271647810936, 0.9987452030181885, 0.13031989336013794, 0.8691942095756531, 0.9994344115257263, 0.9992544054985046, 0.9988250136375427, 0.9975494146347046, 0.9978858828544617, 0.6601767539978027, 0.0027727927081286907, 8.402402454521507e-05, 0.0010923122754320502, 0.33155879378318787, 0.00016804804909043014, 0.004117176868021488, 0.752220630645752, 0.0006139741744846106, 0.00010232902423013002, 0.24518033862113953, 0.00010232902423013002, 0.0016372643876820803, 0.9940264225006104, 0.9528414011001587, 0.0004839214961975813, 0.0004839214961975813, 0.036294110119342804, 0.0014517644885927439, 0.003387450473383069, 0.0004839214961975813, 0.004839214961975813, 0.9970933198928833, 0.9932947158813477, 0.005741587840020657, 0.9939953684806824, 0.03587057814002037, 0.22341109812259674, 0.01518289279192686, 0.15025895833969116, 0.026152729988098145, 0.0974169373512268, 0.22180138528347015, 0.07255594432353973, 0.07327136397361755, 0.08404247462749481, 0.026002297177910805, 0.9730547070503235, 0.0004062858934048563, 9.777607920113951e-05, 0.0008799847564660013, 0.00019555215840227902, 0.0007822086336091161, 0.00019555215840227902, 0.00039110431680455804, 0.5738478302955627, 0.4234682023525238, 9.777607920113951e-05, 0.9981858134269714, 0.019325727596879005, 0.9796657562255859, 0.0011057538213208318, 0.004423015285283327, 0.9929669499397278, 0.06295610219240189, 0.3321019411087036, 0.24384360015392303, 0.001570260152220726, 0.13036397099494934, 0.006281040608882904, 0.19362764060497284, 0.005180239677429199, 0.015168389305472374, 0.00888734869658947, 0.12567727267742157, 0.2663717269897461, 0.12378564476966858, 0.06715269386768341, 0.0928826630115509, 0.03765878453850746, 0.10342171788215637, 0.05958619713783264, 0.12017611414194107, 0.0032813907600939274, 0.035316016525030136, 0.00034966354724019766, 0.00034966354724019766, 0.9633230566978455, 0.001256665913388133, 0.021991653367877007, 0.008168328553438187, 0.9556943774223328, 0.010681659914553165, 0.002513331826776266, 0.027378523722290993, 0.9607372283935547, 0.010785479098558426, 0.0008296521846204996, 0.9993124604225159, 0.005002211779356003, 0.6714218854904175, 0.13005749881267548, 0.01650729775428772, 0.08516265451908112, 0.012255419045686722, 0.00037516586598940194, 0.013005750253796577, 0.06452853232622147, 0.0016257187817245722, 0.07506689429283142, 0.9202951788902283, 0.004562076181173325, 0.00020736710575874895, 0.27738264203071594, 0.09453914314508438, 0.09232822060585022, 0.06497908383607864, 0.07720549404621124, 0.06128683686256409, 0.1994917392730713, 0.07282786071300507, 0.017731616273522377, 0.04220655560493469, 0.02064693719148636, 0.08979017287492752, 0.02944989502429962, 0.05137726292014122, 0.03345124050974846, 0.01680564694106579, 0.6597416996955872, 0.03601210191845894, 0.058739736676216125, 0.004001344554126263, 0.0031711142510175705, 0.996786892414093, 0.9984249472618103, 0.9977273941040039, 0.9980834722518921, 0.003039068542420864, 0.000759767135605216, 0.9960547089576721, 0.039830319583415985, 0.0004917323822155595, 0.03392953425645828, 0.9254403114318848, 0.005070907529443502, 0.007099270820617676, 0.9867986440658569, 0.0006356841186061502, 0.05784725397825241, 0.9408124685287476, 0.9990118741989136, 0.047099072486162186, 0.006134753115475178, 0.04907802492380142, 0.8432316780090332, 0.0021768477745354176, 0.011675819754600525, 0.0005936857778578997, 0.03957905247807503, 0.008197231218218803, 0.0001322134048677981, 0.007668377831578255, 0.0001322134048677981, 0.04363042488694191, 0.8646757006645203, 0.004230828955769539, 0.013089127838611603, 0.05830611288547516, 0.9978369474411011, 0.9645773768424988, 0.00018268510757479817, 0.028498876839876175, 0.00036537021514959633, 0.00018268510757479817, 0.00018268510757479817, 0.004201757721602917, 0.0016441659536212683, 0.9913425445556641, 0.0076914504170417786, 0.9988963007926941, 0.9975701570510864, 0.998742401599884, 0.008499627001583576, 0.8552383184432983, 0.04220504313707352, 0.0020516340155154467, 0.002344724489375949, 0.011723622679710388, 0.0008792717126198113, 0.003517086850479245, 0.02051633968949318, 0.053342483937740326, 0.9682965278625488, 0.015531572513282299, 0.009221871383488178, 0.001456085010431707, 0.004368254914879799, 0.00048536164104007185, 0.00048536164104007185, 0.996625542640686, 0.9970387816429138, 0.9970569014549255, 0.03535383939743042, 0.00045617856085300446, 0.20801742374897003, 0.7561159729957581, 0.02138737216591835, 0.0023032554890960455, 0.09772384166717529, 0.8781984448432922, 0.20434965193271637, 0.25779959559440613, 0.17407052218914032, 0.06285880506038666, 0.09264200180768967, 0.05688012018799782, 0.03395725414156914, 0.03880632296204567, 0.05325709655880928, 0.02537495456635952, 0.035933494567871094, 0.8509705066680908, 0.012522278353571892, 0.09718377143144608, 0.0035389047116041183, 0.99515300989151, 0.002369411988183856, 0.06931715458631516, 0.782091498374939, 0.012731722556054592, 0.01616726629436016, 0.005658543203026056, 0.017177721485495567, 0.043247438967227936, 0.020815355703234673, 0.0054564522579312325, 0.02768644317984581, 0.0038718406576663256, 0.995063066482544, 0.0034504204522818327, 0.0072458828799426556, 0.0893658921122551, 0.0003450420335866511, 0.0006900840671733022, 0.02208269014954567, 0.8767518401145935, 0.000259900203673169, 0.9993162155151367, 0.003382914001122117, 0.9945766925811768, 0.07748878747224808, 0.005052617751061916, 0.016765505075454712, 0.001469852402806282, 0.14317281544208527, 0.03964008390903473, 0.028432458639144897, 0.18400715291500092, 0.48812881112098694, 0.015846846625208855, 0.2528750002384186, 0.0012543863849714398, 0.00023229376529343426, 0.00013937626499682665, 0.019280383363366127, 0.00018583501514513046, 0.042045172303915024, 0.12051400542259216, 0.5559719204902649, 0.0074798595160245895, 0.0005711923004128039, 0.0022847692016512156, 0.9830219745635986, 0.01370861567556858, 0.17964279651641846, 0.8197086453437805, 0.002946295542642474, 0.9958478808403015, 0.012633487582206726, 0.0009973805863410234, 0.07214386016130447, 0.05552085116505623, 0.8407918214797974, 0.0023272214457392693, 0.014628248289227486, 0.000664920371491462, 0.000332460185745731, 0.0008258488960564137, 0.07659748941659927, 0.0003096933360211551, 0.006090635899454355, 0.0001032311120070517, 0.006503560114651918, 0.0001032311120070517, 0.9094660878181458, 0.0001032311120070517, 0.996177077293396, 0.8813197612762451, 0.011134804226458073, 0.001670220633968711, 0.031177451834082603, 0.0005567402113229036, 0.005567402113229036, 0.03618811443448067, 0.020321017131209373, 0.003340441267937422, 0.00862947292625904, 0.998529851436615, 0.0009419433190487325, 0.0028258298989385366, 0.06373816728591919, 0.0003139811160508543, 0.005965640768408775, 0.02449052594602108, 0.9017537236213684, 0.04214955493807793, 0.3507955074310303, 0.2560529112815857, 0.002479385584592819, 0.05559834465384483, 0.037641581147909164, 0.0005259302561171353, 0.010518605820834637, 0.02261500246822834, 0.22164204716682434, 0.9977409243583679, 0.7869996428489685, 0.006618360988795757, 0.0306155476719141, 0.017468871548771858, 0.0705508291721344, 0.009860007092356682, 0.0031966231763362885, 0.01017516665160656, 0.052451636642217636, 0.012066127732396126, 0.0003740966785699129, 0.9992122650146484, 0.032830335199832916, 0.00047580196405760944, 0.0001586006546858698, 0.00047580196405760944, 0.9658780097961426, 0.9983608722686768, 0.00032954371999949217, 0.9981878995895386, 0.0013181748799979687, 5.035962749389e-05, 0.13063287734985352, 0.0688416138291359, 0.0002769779530353844, 0.00020143850997556, 0.7999626994132996, 2.5179813746945e-05, 0.0001417551247868687, 0.09029801189899445, 0.00708775594830513, 0.0025515921879559755, 0.0005670204991474748, 0.8991526961326599, 0.9947671890258789, 0.2089853435754776, 0.37970373034477234, 0.10926263779401779, 0.06167014688253403, 0.07324670255184174, 0.01400619838386774, 0.06327800452709198, 0.04158983379602432, 0.04016062989830971, 0.008110731840133667, 0.04998131841421127, 0.05244802311062813, 0.039187315851449966, 0.17160195112228394, 0.037927720695734024, 0.23061034083366394, 0.012525944970548153, 0.32467740774154663, 0.07720250636339188, 0.0038487541023641825, 0.009533257223665714, 7.194911449914798e-05, 0.02892354317009449, 0.00010792366811074317, 0.8052544593811035, 0.07000648975372314, 0.002338346093893051, 0.02388710528612137, 0.049788787961006165, 0.010072875767946243, 0.10471286624670029, 0.00230225408449769, 3.969403769588098e-05, 0.8377823233604431, 0.03231094405055046, 0.006787680089473724, 0.005676247179508209, 0.0034930752590298653, 0.006906762253493071, 0.024466563016176224, 0.009112546220421791, 0.008113911375403404, 0.8968992829322815, 0.014355381019413471, 0.0014979528496041894, 0.0002496587985660881, 0.018724409863352776, 0.022843779996037483, 0.0037448820658028126, 0.18912340700626373, 0.7985968589782715, 0.00045517063699662685, 0.00022758531849831343, 0.01160685159265995, 0.9984176754951477, 0.9990406036376953, 0.00037542570498771966, 0.026655225083231926, 0.9535813331604004, 0.00037542570498771966, 0.018395859748125076, 0.17557606101036072, 0.06802622228860855, 0.005320487078279257, 0.6272473931312561, 0.017861634492874146, 0.016721529886126518, 0.0036103304009884596, 0.0628957524895668, 0.003990365192294121, 0.019001739099621773, 0.0002185396006098017, 0.006119109224528074, 0.03256240114569664, 0.021635420620441437, 0.0019668564200401306, 0.9006017446517944, 0.0013112376909703016, 0.03518487513065338, 0.0006556188454851508, 0.7869718670845032, 0.027166103944182396, 0.014730066061019897, 0.021008454263210297, 0.025596506893634796, 0.023543957620859146, 0.00012073824473191053, 0.025837983936071396, 0.05264187604188919, 0.022457312792539597, 0.012114551849663258, 0.0017367014661431313, 8.471714681945741e-05, 0.023381931707262993, 4.2358573409728706e-05, 0.6542704701423645, 0.0006353785865940154, 0.30693021416664124, 4.2358573409728706e-05, 0.0008048128802329302, 0.0018915999680757523, 0.996873140335083, 0.9975783824920654, 0.9984622001647949, 0.9325987100601196, 0.007982795126736164, 0.04963216185569763, 0.001041234121657908, 0.008329872973263264, 0.0006941561005078256, 0.8746362924575806, 0.0003963234485127032, 0.0038641535211354494, 0.005152204539626837, 0.050035834312438965, 0.002328400267288089, 9.90808621281758e-05, 0.006539336871355772, 0.029823338612914085, 0.027148155495524406, 0.0018306312849745154, 0.9976940751075745, 0.038308341056108475, 0.9609008431434631, 0.0010641205590218306, 0.00044939969666302204, 0.01797598786652088, 0.0017975987866520882, 0.045838769525289536, 0.8790258169174194, 0.0548267625272274, 0.0034574579913169146, 0.9964393973350525, 0.002639324637129903, 0.231283038854599, 0.6864199042320251, 0.01876853033900261, 0.03157414495944977, 0.0010752803646028042, 0.021505609154701233, 0.003714605001732707, 0.0029325829818844795, 0.21750818192958832, 0.5463130474090576, 0.09742794930934906, 0.05882660299539566, 0.002947108820080757, 0.003929478581994772, 0.014157679863274097, 0.00924583151936531, 0.04339762032032013, 0.006183149758726358, 0.43480274081230164, 0.08701178431510925, 0.0063409400172531605, 0.15560923516750336, 0.017998021095991135, 0.04790932312607765, 0.0044194431975483894, 0.16665783524513245, 0.025075536221265793, 0.05420222878456116, 0.9728521704673767, 0.000996774761006236, 0.003987099044024944, 0.018938720226287842, 0.001993549522012472, 0.9987697601318359, 0.018789956346154213, 0.2060822993516922, 0.03771485015749931, 0.055256638675928116, 0.19535481929779053, 0.04402314871549606, 0.24052493274211884, 0.053333789110183716, 0.1434716135263443, 0.005431208293884993, 0.0007636849186383188, 0.0017819314962252975, 0.809760570526123, 0.0010182466357946396, 0.1573190987110138, 0.01425545196980238, 0.01272808201611042, 0.0007636849186383188, 0.0002545616589486599, 0.0012728081783279777, 0.00033682561479508877, 0.00639968691393733, 0.02930383011698723, 0.0015157152665778995, 0.7976030707359314, 0.01077841967344284, 0.00016841280739754438, 0.06298638880252838, 0.09077450633049011, 0.00016841280739754438, 0.10859924554824829, 0.3128145635128021, 0.029621141031384468, 0.0002436521608615294, 0.12680354714393616, 0.001809987472370267, 0.31744396686553955, 0.00041768941446207464, 0.09310993552207947, 0.009119552560150623, 0.16698414087295532, 0.6787810325622559, 0.032480835914611816, 5.2643168601207435e-05, 0.0005790748982690275, 0.002684801584109664, 0.100969597697258, 0.00010528633720241487, 0.017319602891802788, 0.2715347707271576, 0.48729750514030457, 0.03202078863978386, 0.0006796865491196513, 0.012876284308731556, 0.006985667627304792, 0.16399326920509338, 0.002605465240776539, 0.005815096199512482, 0.016199195757508278, 0.9988952279090881, 0.0014215431874617934, 0.07023311406373978, 0.11394556611776352, 0.09986340999603271, 0.12713927030563354, 0.2505025565624237, 0.07383140176534653, 0.18098022043704987, 0.06894484162330627, 0.013104851357638836, 0.9623835682868958, 0.0021115709096193314, 0.00045750700519420207, 0.0043639130890369415, 0.0010909782722592354, 0.0008798211929388344, 0.022980928421020508, 0.0019004137720912695, 0.002956199226900935, 0.0008798211929388344, 0.08628973364830017, 0.001130433171056211, 0.8267234563827515, 0.001130433171056211, 0.008289843797683716, 0.004521732684224844, 0.053130362182855606, 0.01846374198794365, 0.9953935146331787, 0.001903238007798791, 0.001903238007798791, 0.9994939565658569, 0.010460251942276955, 0.0022739677224308252, 0.022739678621292114, 0.019783519208431244, 0.008868474513292313, 0.003183554857969284, 0.024104058742523193, 0.8895761966705322, 0.010005458258092403, 0.009095870889723301, 0.10147914290428162, 0.19057363271713257, 0.003752926830202341, 0.378670334815979, 0.015612175688147545, 0.05306638777256012, 0.11679108440876007, 0.08901942521333694, 0.04571064934134483, 0.005329156294465065, 0.0034614945761859417, 0.2690844237804413, 0.2651083767414093, 0.030966343358159065, 0.12360809743404388, 0.07486651092767715, 0.03410039842128754, 0.047548774629831314, 0.1497330218553543, 0.0015202510403469205, 0.9970791935920715, 0.00871993787586689, 0.9897129535675049, 0.9979047775268555, 0.03237523138523102, 0.9670795202255249, 0.0014395079342648387, 0.9975789785385132, 0.003321501426398754, 0.9964504241943359, 0.011829900555312634, 0.9869517087936401, 0.03255366161465645, 0.2796940505504608, 0.5328938364982605, 0.0549943782389164, 0.03063136711716652, 0.001379038323648274, 0.0009193589212372899, 0.03209398314356804, 0.007814550772309303, 0.02703750878572464, 0.3209899365901947, 0.0034643993712961674, 0.0173219982534647, 0.5300531387329102, 0.010259952396154404, 0.017721734941005707, 0.0007994768093340099, 0.06449113041162491, 0.0033311534207314253, 0.03171258047223091, 0.6223164200782776, 0.10186842828989029, 0.0441749207675457, 0.01426370907574892, 0.06294482946395874, 0.016250694170594215, 0.030088620260357857, 0.01674743928015232, 0.07316360622644424, 0.018202196806669235, 0.9984485507011414, 0.05620685964822769, 0.9393571019172668, 0.001405171467922628, 0.002107757143676281, 0.9975578784942627, 0.0007128372672013938, 0.015682419762015343, 0.9830026030540466, 0.9986861944198608, 0.0005419213557615876, 0.24440652132034302, 0.6223063468933105, 0.09375239163637161, 0.037392571568489075, 0.0014451235765591264, 0.143676295876503, 0.00019311330106575042, 0.7898334264755249, 0.00038622660213150084, 0.00019311330106575042, 0.06449984014034271, 0.00019311330106575042, 0.001158679835498333, 0.7720144391059875, 0.09913649410009384, 0.02780951000750065, 0.0012822828721255064, 0.04576146975159645, 0.005609987303614616, 0.0015227108960971236, 0.010258262977004051, 0.030774788931012154, 0.005770273040980101, 0.9951314330101013, 0.003350814338773489, 0.9958620667457581, 0.9977610111236572, 0.9987955689430237, 0.02426270581781864, 0.520663857460022, 0.002948681591078639, 0.1197369247674942, 0.0033151363022625446, 0.11574001610279083, 0.03294682875275612, 0.08093534409999847, 0.0178966224193573, 0.08155746757984161, 0.0023223937023431063, 0.9963068962097168, 0.012471883557736874, 0.3543148636817932, 0.00011338075273670256, 0.5492163896560669, 0.0011338075855746865, 0.0023809957783669233, 0.06167913228273392, 0.018254302442073822, 0.0003401422582101077, 0.011015444062650204, 0.368593692779541, 0.595045804977417, 0.00021183546050451696, 0.0004236709210090339, 0.019912533462047577, 0.004660380072891712, 0.9985212087631226, 0.9989963173866272, 0.9977104663848877, 0.2032029926776886, 0.41515690088272095, 0.18137821555137634, 0.03951059654355049, 0.09908527135848999, 0.00607046764343977, 0.013231516815721989, 0.006832560990005732, 0.02294163778424263, 0.012600818648934364, 0.0033580211456865072, 0.16482287645339966, 0.8316699266433716, 0.04428524896502495, 0.04496021568775177, 0.04769757762551308, 0.08875799179077148, 0.11388171464204788, 0.21051430702209473, 0.05767206847667694, 0.16757898032665253, 0.1868155151605606, 0.03783557936549187, 0.3203929662704468, 0.11932110786437988, 0.11372996866703033, 0.0870283767580986, 0.09306366741657257, 0.03482702746987343, 0.05400409922003746, 0.031221529468894005, 0.10983707755804062, 0.03657752275466919, 0.0010437292512506247, 0.2038751095533371, 0.7802667021751404, 3.1628158467356116e-05, 0.013631736859679222, 3.1628158467356116e-05, 6.325631693471223e-05, 0.0006009350181557238, 0.00044279423309490085, 0.020824197679758072, 0.9329240322113037, 0.04581323266029358, 0.057815346866846085, 0.14926111698150635, 0.06035086140036583, 0.17266587913036346, 0.08539953827857971, 0.0855109840631485, 0.134661003947258, 0.12059027701616287, 0.11719100922346115, 0.016550512984395027, 0.008730785921216011, 0.99032062292099, 0.9990291595458984, 0.0007655096123926342, 0.02342459373176098, 0.227892205119133, 7.655096123926342e-05, 0.06085801497101784, 0.04156717285513878, 0.5963319540023804, 0.0006889586220495403, 0.027328692376613617, 0.021051514893770218, 0.8437833189964294, 0.003611312946304679, 0.000722262600902468, 0.12729878723621368, 0.003430747427046299, 0.0032501816749572754, 0.0023473533801734447, 0.00559753505513072, 0.005778100807219744, 0.00433357572183013, 0.0001314262772211805, 0.030096616595983505, 0.01603400520980358, 0.013405480422079563, 0.001577115268446505, 0.004862772300839424, 0.2767837345600128, 0.6571313738822937, 0.04642761871218681, 0.7415938377380371, 0.029329275712370872, 0.02221536636352539, 0.006864298600703478, 0.04567878693342209, 0.007987547665834427, 0.055039193481206894, 0.021466532722115517, 0.023338614031672478, 0.3359626531600952, 0.04027239605784416, 0.01162740308791399, 0.05913805216550827, 0.02263878472149372, 0.006699232384562492, 0.0022330775391310453, 0.45624083280563354, 0.051899801939725876, 0.013321462087333202, 0.22392620146274567, 0.00404804851859808, 0.0074049667455255985, 0.01856178417801857, 0.47766974568367004, 0.002073390642181039, 0.007010035216808319, 0.0013822604669257998, 0.20526568591594696, 0.05272336304187775, 0.995102047920227, 0.00012184550723759457, 0.0006092275143601, 0.04422992095351219, 0.010600559413433075, 0.06019167974591255, 0.8841109871864319, 0.00012184550723759457, 0.9979159832000732, 0.9984778165817261, 0.9989449381828308, 0.000480615854030475, 0.09275885671377182, 0.8636666536331177, 0.04325542598962784, 0.006888547912240028, 0.04753098264336586, 0.041560906916856766, 0.19150163233280182, 0.0027554191183298826, 0.7097500562667847, 0.9976434707641602, 0.006953028496354818, 0.16692830622196198, 0.0697527825832367, 0.048643387854099274, 0.14618046581745148, 0.16703955829143524, 0.21818603575229645, 0.07837453484535217, 0.08688504248857498, 0.011041409336030483, 0.0002235512074548751, 0.005588780157268047, 0.007377190049737692, 0.015872135758399963, 0.1249651238322258, 0.8280336856842041, 0.0004471024149097502, 0.01721344329416752, 0.03995683789253235, 6.571848643943667e-05, 0.008806277066469193, 0.00039431091863662004, 0.05270622670650482, 0.7393329739570618, 0.003483079606667161, 0.048697397112846375, 0.002694457769393921, 0.10383520275354385, 0.9981641173362732, 0.9981521964073181, 0.0014014558400958776, 0.00046715192729607224, 0.9883377552032471, 0.00015571730909869075, 0.009498756378889084, 0.0005106632597744465, 0.009447270072996616, 0.0021703187376260757, 0.9873673915863037, 0.00025533162988722324, 0.00012766581494361162, 0.9983335733413696, 0.04438896104693413, 0.0005161507287994027, 0.00808636099100113, 0.003613054985180497, 0.003785105189308524, 0.9325122833251953, 0.003957155626267195, 0.0029248539358377457, 0.07858690619468689, 0.0958654135465622, 0.07563136518001556, 0.6298319697380066, 0.028949080035090446, 0.010458044707775116, 0.0024250538554042578, 0.07487353682518005, 0.0019703563302755356, 0.0013640928082168102, 0.03996024653315544, 0.04952128604054451, 0.00012257744674570858, 0.00551598472520709, 0.04302468150854111, 0.8613516688346863, 0.0004903097869828343, 0.002506984630599618, 0.9965264201164246, 0.0027726590633392334, 0.0003080732421949506, 0.003696878906339407, 0.06808418780565262, 0.9251438975334167, 0.9926754832267761, 0.005439317785203457, 0.6583102941513062, 0.05755871161818504, 0.05522201210260391, 0.03792643919587135, 0.06690551340579987, 0.02109021507203579, 0.004933033138513565, 0.025503981858491898, 0.032394248992204666, 0.040163278579711914, 0.9972107410430908, 0.017114784568548203, 0.02266901545226574, 0.1511913537979126, 0.21109309792518616, 0.12077224999666214, 0.1466381847858429, 0.06254968792200089, 0.17263327538967133, 0.07624151557683945, 0.01911689154803753, 0.001684839022345841, 0.29830074310302734, 0.5274388790130615, 0.008929646573960781, 0.08550558239221573, 0.010951453819870949, 0.011962356977164745, 0.021481698378920555, 0.024935618042945862, 0.008676921017467976, 0.9930663108825684, 0.0041464148089289665, 0.006398620083928108, 0.9930658936500549, 0.9973042607307434, 0.0002495442458894104, 0.04117480292916298, 0.871907651424408, 0.025952603667974472, 0.022958071902394295, 0.008734049275517464, 0.0029945310670882463, 0.025952603667974472, 0.9975727796554565, 0.09082887321710587, 0.03683527931571007, 0.7596883177757263, 0.029908988624811172, 0.0022038202732801437, 0.019362134858965874, 0.05541033670306206, 0.005981797352433205, 0.07899346947669983, 0.8668602705001831, 0.007857989519834518, 0.04466646537184715, 0.0008271567639894783, 0.0004135783819947392, 0.9966161251068115, 0.5537080764770508, 0.32068970799446106, 0.005157136823982, 0.005262384191155434, 0.000315743061946705, 0.11482522636651993, 0.03390536084771156, 0.0511942133307457, 0.602420449256897, 0.008068131282925606, 0.2916053235530853, 0.003841967321932316, 0.003265672130510211, 0.0002881475375033915, 0.005378753878176212, 0.02588525041937828, 0.00023532044724561274, 0.8702149987220764, 0.06965485215187073, 0.03412146493792534, 0.9973074793815613, 0.0017406543483957648, 0.9973949790000916, 0.9966966509819031, 0.026186365634202957, 0.9721688032150269, 0.012900639325380325, 0.020426012575626373, 0.9643228054046631, 0.0021501064766198397, 0.09219300746917725, 0.36341068148612976, 0.27406415343284607, 0.022578442469239235, 0.07936999946832657, 0.021196654066443443, 0.002404314000159502, 0.0245682206004858, 0.056542832404375076, 0.06370050460100174, 0.035950835794210434, 0.07183972746133804, 0.5432272553443909, 0.0006401354912668467, 0.1834297925233841, 0.037355005741119385, 0.020546285435557365, 0.018914971500635147, 0.0035310701932758093, 0.08458048850297928, 0.6179110407829285, 0.09184794872999191, 0.11726542562246323, 0.0008882450056262314, 0.0716916173696518, 0.00386044941842556, 0.037596676498651505, 0.0018960614688694477, 0.05090327188372612, 0.006149388384073973, 0.07237056642770767, 0.0034793540835380554, 0.9234205484390259, 0.997295081615448, 0.1593518704175949, 0.24866674840450287, 0.051790833473205566, 0.06075179949402809, 0.09423750638961792, 0.05686085298657417, 0.0045689125545322895, 0.20076686143875122, 0.08477543294429779, 0.03823148086667061, 0.09506742656230927, 0.03460454195737839, 0.05091811344027519, 0.06190790981054306, 0.11430907249450684, 0.04890268296003342, 0.0006844854797236621, 0.54207444190979, 0.03681010752916336, 0.014754464849829674, 0.9987953901290894, 0.0007678951369598508, 0.010443373583257198, 0.9856702089309692, 0.00015357902157120407, 0.0026108433958142996, 0.06695406883955002, 0.09175186604261398, 0.30726730823516846, 0.00022543455997947603, 0.022994326427578926, 0.008341078646481037, 0.003832387737929821, 0.004057822283357382, 0.49482887983322144, 0.9992881417274475, 0.9994038939476013, 0.9976245164871216, 0.007168253883719444, 0.9920862913131714, 0.0038792137056589127, 0.021366463974118233, 0.009544097818434238, 0.01594787836074829, 0.03891528770327568, 0.252579927444458, 0.06576190888881683, 0.33773788809776306, 0.1654515415430069, 0.08885246515274048, 0.0006750827305950224, 0.003240397199988365, 0.0018902316223829985, 0.00027003310970030725, 0.0025653145276010036, 0.009721191599965096, 0.8006481528282166, 0.1690407246351242, 0.011881456710398197, 0.03879638388752937, 0.014729286544024944, 0.014284628443419933, 0.4443797767162323, 0.07381317764520645, 0.13011795282363892, 0.01478486880660057, 0.1816982477903366, 0.08248400688171387, 0.004946816712617874, 0.02263517491519451, 0.15614990890026093, 0.07577863335609436, 0.09985721111297607, 0.08030566573143005, 0.05242175608873367, 0.37810584902763367, 0.059638768434524536, 0.05852341279387474, 0.016599128022789955, 0.995159924030304, 0.5762495994567871, 0.04751623049378395, 0.03814561292529106, 0.12859368324279785, 0.0525042787194252, 0.02952464669942856, 0.003286923747509718, 0.04408514127135277, 0.048957861959934235, 0.03116810880601406, 0.9966034889221191, 0.007843381725251675, 0.06814388185739517, 0.09509201347827911, 0.10074068605899811, 0.1549607664346695, 0.14942002296447754, 0.03533119708299637, 0.10307931154966354, 0.10595761239528656, 0.17946232855319977, 0.03227679058909416, 0.06851249933242798, 0.21485258638858795, 0.053096022456884384, 0.26808834075927734, 0.046948060393333435, 0.040939826518297195, 0.05486588925123215, 0.134789377450943, 0.085605688393116, 0.9448250532150269, 0.05403736233711243, 0.0006630351417697966, 0.0003315175708848983, 0.0010037432657554746, 0.9537568688392639, 0.044365450739860535, 0.0006022459710948169, 0.099628746509552, 0.06536822766065598, 0.08396979421377182, 0.011980671435594559, 0.03667766973376274, 0.02227984555065632, 0.00010509361163713038, 0.031738270074129105, 0.0024171529803425074, 0.6458002328872681, 0.9522280693054199, 8.776295726420358e-05, 0.0013164443662390113, 0.0003510518290568143, 0.0071526807732880116, 0.0003510518290568143, 8.776295726420358e-05, 0.0003510518290568143, 0.0063628144562244415, 0.03168242797255516, 0.15146678686141968, 0.002100787591189146, 0.846197247505188, 0.9791968464851379, 0.018545394763350487, 0.0014555418165400624, 0.7711460590362549, 0.05705723911523819, 0.03871741145849228, 0.011353226378560066, 0.10305236279964447, 0.01717539317905903, 0.28990915417671204, 0.027522733435034752, 0.12986956536769867, 0.03827926889061928, 0.044501930475234985, 0.12354040145874023, 0.1753147840499878, 0.07890154421329498, 0.024616794660687447, 0.06755165010690689, 0.22242161631584167, 0.05622166022658348, 0.032329823821783066, 0.40919509530067444, 0.040957432240247726, 0.041810713708400726, 0.010808211751282215, 0.10362609475851059, 0.08087196946144104, 0.001801368547603488, 0.02283606305718422, 0.020376795902848244, 0.002459268318489194, 0.007729128934442997, 0.9450616836547852, 0.0007026481325738132, 0.0014052962651476264, 0.04544144123792648, 0.04813426733016968, 0.00504904892295599, 0.0013464130461215973, 0.05553954094648361, 0.0026928260922431946, 0.8270342350006104, 0.0047124456614255905, 0.00976149458438158, 0.004876492545008659, 0.03376033157110214, 0.016129937022924423, 0.8965243697166443, 0.013504132628440857, 0.005251606926321983, 0.021006427705287933, 0.001125344424508512, 0.008252525702118874, 0.000301074847811833, 0.0033118233550339937, 0.9465793371200562, 0.04937627539038658, 0.000301074847811833, 0.0005995842511765659, 0.07484810054302216, 0.16023889183998108, 0.011691893450915813, 0.06175718083977699, 0.4655272364616394, 0.19001825153827667, 0.023983370512723923, 0.010492724366486073, 0.0007994456682354212, 0.0619637705385685, 0.0004186741425655782, 0.057567693293094635, 0.7831299901008606, 0.0008373482851311564, 0.011722875759005547, 0.03914603218436241, 0.04521680623292923, 0.29134756326675415, 0.10927137732505798, 0.0773390680551529, 0.13596361875534058, 0.08510292321443558, 0.06499818712472916, 0.10163585841655731, 0.059544239193201065, 0.05026184022426605, 0.024532055482268333, 0.005516412202268839, 0.0002507460012566298, 0.03510444238781929, 0.04914621636271477, 0.06732530146837234, 0.0008776110480539501, 0.0001253730006283149, 0.7691633701324463, 0.07246559858322144, 0.014413601718842983, 0.9769218564033508, 0.00640604505315423, 0.0004031371499877423, 0.0022172543685883284, 0.9969581365585327, 0.00020156857499387115, 0.9963537454605103, 0.9137281775474548, 0.009828557260334492, 0.05110849440097809, 0.0016380927991122007, 0.00032761855982244015, 0.008518083021044731, 0.010156175121665001, 0.004586659837514162, 0.001759647042490542, 0.0005865490529686213, 0.019356118515133858, 0.09032855182886124, 0.878650426864624, 0.00938478484749794, 0.06546439975500107, 0.5094445943832397, 0.014376703649759293, 0.08822309225797653, 0.04811686649918556, 0.03453591838479042, 0.14626041054725647, 0.07098165899515152, 0.019840912893414497, 0.002864730777218938, 0.011788392439484596, 0.023745190352201462, 0.2962254583835602, 0.010272742249071598, 0.5840306878089905, 0.005052168387919664, 0.0031997065525501966, 0.051363710314035416, 0.0077466582879424095, 0.006736224517226219, 0.9962937235832214, 0.004088080488145351, 0.06934734433889389, 0.035855092108249664, 0.0290291216224432, 0.08131154626607895, 0.030904388055205345, 0.24295949935913086, 0.08903764188289642, 0.4081704616546631, 0.009301320649683475, 0.04038874804973602, 0.10575021803379059, 0.20188108086585999, 0.015290698036551476, 0.2276371270418167, 0.05618078261613846, 0.185117706656456, 0.026382720097899437, 0.08344084024429321, 0.05796678736805916, 0.9966671466827393, 0.002251116093248129, 0.9949933290481567, 0.0031119557097554207, 0.9965439438819885, 0.9981350898742676, 0.14848843216896057, 0.8062661290168762, 0.02084048092365265, 0.0008683534106239676, 0.02301136590540409, 8.339395571965724e-05, 8.339395571965724e-05, 0.060960981994867325, 0.9388492107391357, 0.0010408556554466486, 0.016653690487146378, 0.9818738102912903, 0.9971632361412048, 9.154653525911272e-05, 0.00027463960577733815, 9.154653525911272e-05, 0.00027463960577733815, 0.38019275665283203, 0.6190376877784729, 0.9968559741973877, 0.0003438762214500457, 0.0010316286934539676, 0.0003438762214500457, 0.00017193811072502285, 0.03026110678911209, 0.9678395986557007, 0.0009949394734576344, 0.9785230159759521, 0.016913970932364464, 0.002984818536788225, 0.9629806876182556, 0.02731017954647541, 0.008905493654310703, 0.9968596696853638, 0.00043072638800367713, 0.008183801546692848, 0.017946932464838028, 0.9731544852256775, 0.00048642620095051825, 0.0007296393159776926, 0.11503979563713074, 0.026996653527021408, 0.06177612766623497, 0.7943339943885803, 0.00012160655023762956, 0.0006080327439121902, 0.9984288811683655, 0.998891294002533, 0.12111078202724457, 0.06371601670980453, 0.03602556139230728, 0.11657961457967758, 0.02383057400584221, 0.3141608238220215, 0.07378527522087097, 0.2067553997039795, 0.02259988710284233, 0.02148108184337616, 0.9767937660217285, 0.013149146921932697, 0.007513797841966152, 0.001878449460491538, 0.0007364334887824953, 0.002945733955129981, 0.9919759035110474, 0.0007364334887824953, 0.002945733955129981, 0.24404823780059814, 0.0950111448764801, 0.028113815933465958, 0.602922797203064, 0.005758251529186964, 0.004403368569910526, 0.00016936034080572426, 0.011685863137245178, 0.00016936034080572426, 0.008129295893013477, 0.9954317808151245, 0.003659675596281886, 0.995987057685852, 0.41471073031425476, 0.04067878797650337, 0.06987467408180237, 0.021360289305448532, 0.12406070530414581, 0.07127077132463455, 0.06460440903902054, 0.05511094257235527, 0.08310269564390182, 0.05521564930677414, 0.9808869957923889, 0.005845572333782911, 0.012860259041190147, 0.005224987864494324, 0.9927477240562439, 0.9757840037345886, 0.023728536441922188, 0.9970665574073792, 0.9989039301872253, 0.013920929282903671, 0.9837456941604614, 0.9980972409248352, 0.24638941884040833, 0.0162865798920393, 0.01126889232546091, 0.16372299194335938, 0.12383236736059189, 0.00830009300261736, 0.20405267179012299, 0.0999983474612236, 0.041354116052389145, 0.08477802574634552, 0.002718257484957576, 0.9967849850654602, 0.0023714108392596245, 0.9959926009178162, 0.00015765728312544525, 0.9262365698814392, 0.025698138400912285, 0.047612499445676804, 0.9929887652397156, 0.9958204030990601, 0.9985690116882324, 0.9938564300537109, 0.9976155757904053, 0.013139942660927773, 0.01857716031372547, 0.9506068825721741, 0.007249623071402311, 0.009968232363462448, 0.0011038599768653512, 0.9901623725891113, 0.00883087981492281, 0.028274426236748695, 0.3326810598373413, 0.011303473263978958, 0.14804716408252716, 0.007808527909219265, 0.014735447242856026, 0.0029596840031445026, 0.30424919724464417, 0.14565423130989075, 0.004282095935195684, 0.9944063425064087, 0.019149841740727425, 0.840577244758606, 0.050058357417583466, 0.09003785252571106, 0.9957315921783447, 0.004219932481646538, 0.9937940835952759, 0.012393716722726822, 0.9873660802841187, 0.0012141852639615536, 0.0005203651380725205, 0.991295576095581, 0.0036425557918846607, 0.0001734550460241735, 0.0029487358406186104, 0.9990305304527283, 0.9943723678588867, 0.1523694097995758, 0.14153216779232025, 0.03312378376722336, 0.16299062967300415, 0.05335809662938118, 0.07802091538906097, 0.018578123301267624, 0.12536633014678955, 0.2101920247077942, 0.024518802762031555, 0.9952328205108643, 0.12941396236419678, 0.01720532588660717, 0.6951949000358582, 0.01845208741724491, 0.00024935253895819187, 0.03441065177321434, 0.03690417483448982, 0.06782389432191849, 0.0004987050779163837, 0.9954924583435059, 0.0008745943196117878, 0.16679027676582336, 0.20239141583442688, 0.0029839100316166878, 0.028141357004642487, 0.0506235770881176, 0.07758165895938873, 0.0014919550158083439, 0.13443028926849365, 0.3347638249397278, 0.9940954446792603, 0.004230193328112364, 0.000500624009873718, 0.020024960860610008, 0.000500624009873718, 0.06458050012588501, 0.9136388897895813, 0.18096551299095154, 0.1665923297405243, 0.16270636022090912, 0.10552256554365158, 0.09262897819280624, 0.08950719982385635, 0.020535439252853394, 0.09713278710842133, 0.05354172736406326, 0.03087632544338703, 0.0776267796754837, 0.07098235934972763, 0.044100694358348846, 0.1220097541809082, 0.11942581087350845, 0.11981666088104248, 0.1637219339609146, 0.13152039051055908, 0.1098717451095581, 0.04093048349022865, 0.1827172189950943, 0.2633586823940277, 0.15674832463264465, 0.06743496656417847, 0.06458330154418945, 0.1179702952504158, 0.01554393582046032, 0.04424762353301048, 0.04597732797265053, 0.04139595478773117, 0.34608322381973267, 0.1342272311449051, 0.13582710921764374, 0.08597592264413834, 0.04053017869591713, 0.058940339833498, 0.007721138186752796, 0.12070944905281067, 0.05152063071727753, 0.018456535413861275, 0.054330386221408844, 0.8649397492408752, 0.0005433039041236043, 0.07986567169427872, 0.10438666492700577, 0.14393383264541626, 0.05009308457374573, 0.3958292305469513, 0.02591792121529579, 0.021091826260089874, 0.010009679943323135, 0.12127799540758133, 0.1143069714307785, 0.013093018904328346, 0.00265303160995245, 0.9816216826438904, 0.00442171934992075, 0.0106121264398098, 0.9983617067337036, 0.03567906841635704, 0.017174115404486656, 0.02395503968000412, 0.31984415650367737, 0.08631419390439987, 0.17934593558311462, 0.03257378563284874, 0.23194561898708344, 0.06952031701803207, 0.0036122677847743034, 0.11670023202896118, 0.3818015456199646, 0.04473651573061943, 0.138297900557518, 0.03304936736822128, 0.04801148548722267, 0.07508885115385056, 0.062117401510477066, 0.06430071592330933, 0.035896237939596176, 0.18897703289985657, 0.5679758787155151, 0.041912954300642014, 0.03785686194896698, 0.017576400190591812, 0.022923067212104797, 0.00030727972625754774, 0.030727973207831383, 0.0029498853255063295, 0.08886529505252838, 0.9881687164306641, 0.009783849120140076, 0.05534292384982109, 0.8750757575035095, 0.052055224776268005, 0.016438491642475128, 0.0005479497485794127, 0.998053252696991, 0.8980728387832642, 0.10156998038291931, 0.7124300599098206, 0.01130738202482462, 0.0037041425239294767, 0.14277194440364838, 0.01897560805082321, 0.014946539886295795, 0.00025993981398642063, 0.022029900923371315, 0.009942698292434216, 0.06362026929855347, 0.9531099200248718, 0.01756344921886921, 0.001463620807044208, 0.005561759229749441, 0.009659897536039352, 0.0002927241730503738, 0.007903552614152431, 0.004098138306289911, 0.9831913709640503, 0.00766123179346323, 0.003830615896731615, 0.001702495850622654, 0.003404991701245308, 0.0004256239626556635, 0.04949646070599556, 0.007407633122056723, 0.0319875068962574, 0.024327341467142105, 0.011027272790670395, 0.0437723770737648, 8.417764911428094e-05, 0.0022727965842932463, 0.8295707702636719, 0.013198744505643845, 0.0023997717071324587, 0.04885249584913254, 0.07182174175977707, 0.029825733974575996, 0.0023997717071324587, 0.8315209150314331, 0.008612959645688534, 0.9904903769493103, 0.05152929574251175, 0.8944957256317139, 0.04888676851987839, 0.003963792230933905, 0.0008808426791802049, 0.10184138268232346, 0.11317193508148193, 0.08511278033256531, 0.08316200226545334, 0.14783167839050293, 0.07177799940109253, 0.10111986100673676, 0.1063842922449112, 0.1448921412229538, 0.04470759257674217, 0.04336991533637047, 0.8445338606834412, 0.010524916462600231, 0.034115247428417206, 0.0021775690838694572, 0.0023590330965816975, 0.017602015286684036, 0.01578737422823906, 0.0029034253675490618, 0.026493756100535393, 0.9963947534561157, 0.248863086104393, 0.1021629348397255, 0.002726768609136343, 0.6091601252555847, 0.0001817845768528059, 0.005453537218272686, 0.0312669463455677, 0.10378388315439224, 0.0016934432787820697, 0.0007257614051923156, 0.8905092477798462, 0.00048384093679487705, 0.0021772843319922686, 0.00024192046839743853, 0.006478623021394014, 0.992525041103363, 0.0012266160920262337, 0.9984655380249023, 0.9979634284973145, 0.18048207461833954, 0.6682311296463013, 0.052951350808143616, 0.0001864484220277518, 0.019204188138246536, 0.07886768132448196, 0.9972031712532043, 0.999346911907196, 0.9968283772468567, 0.03160667419433594, 0.9666374921798706, 0.9981772899627686, 0.009609723463654518, 0.8852251172065735, 0.0016958336345851421, 0.0005652778781950474, 0.1028805673122406, 0.9900487661361694, 0.008813491091132164, 0.32535457611083984, 0.13539718091487885, 0.06418666243553162, 0.19058454036712646, 0.07447158545255661, 0.046658407896757126, 0.017590971663594246, 0.06682060658931732, 0.06208578124642372, 0.01683841645717621, 0.0114220529794693, 0.9871917366981506, 0.18583816289901733, 0.0100002596154809, 0.059584878385066986, 0.030324861407279968, 0.14921683073043823, 0.1315774917602539, 0.0005555699463002384, 0.09328945726156235, 0.1352812945842743, 0.2042645663022995, 0.004692314192652702, 0.00015641046047676355, 0.00578718725591898, 0.13795402646064758, 0.1926976889371872, 0.653170108795166, 0.003753851167857647, 0.0017205150797963142, 0.9964091181755066, 0.9987634420394897, 0.013295280747115612, 0.18562813103199005, 0.783771276473999, 7.225696026580408e-05, 0.016763614490628242, 0.00021677088807336986, 0.0003612847940530628, 0.05808307230472565, 0.24295395612716675, 0.10917466133832932, 0.07339134067296982, 0.04769188538193703, 0.14849214255809784, 0.11566674709320068, 0.07778982818126678, 0.04066199064254761, 0.08610661327838898, 0.0006108811940066516, 0.816900908946991, 0.06185172125697136, 0.007636014837771654, 0.0001527202985016629, 0.0022908044047653675, 0.11056949943304062, 0.9983698129653931, 0.609642744064331, 0.20923107862472534, 0.003980002831667662, 0.10165394842624664, 0.012712596915662289, 0.0040034144185483456, 0.006883063353598118, 0.004143885336816311, 0.03642873093485832, 0.011307889595627785, 0.0031308161560446024, 0.996121346950531, 0.9946915507316589, 0.9949730634689331, 0.1505228728055954, 0.1904420256614685, 0.08678928762674332, 0.13681672513484955, 0.10167024284601212, 0.07112511992454529, 0.03242972493171692, 0.07932432740926743, 0.1268797665834427, 0.02401023358106613, 0.9982617497444153, 0.8833984136581421, 0.1163078099489212, 0.0015739935915917158, 0.008169776760041714, 0.5335088968276978, 0.024659233167767525, 0.10545757412910461, 0.017763642594218254, 0.026533035561442375, 0.03777584806084633, 0.10111035406589508, 0.14353322982788086, 0.9976862072944641, 0.9990051984786987, 0.0010891089914366603, 0.03724752739071846, 0.0914851576089859, 0.005663366988301277, 0.0603366382420063, 0.03528713062405586, 0.7405941486358643, 0.0076237628236413, 0.006970297545194626, 0.013504951260983944, 0.0027268310077488422, 0.9952932596206665, 0.007009898312389851, 0.9923387169837952, 0.9990160465240479, 0.9973514676094055, 0.025387825444340706, 0.11863038688898087, 0.4519743025302887, 0.04434880241751671, 0.07474318146705627, 0.1233883798122406, 0.06142788380384445, 0.04044298455119133, 0.012392099015414715, 0.04726041480898857, 0.9960135221481323, 0.003004565602168441, 0.0034631178714334965, 0.9939148426055908, 0.0021381760016083717, 0.9676218628883362, 0.02974008396267891, 0.00019437963783275336, 0.9981814622879028, 0.9991950988769531, 0.999312162399292, 0.6860619187355042, 0.057852983474731445, 0.1335068792104721, 0.004631871357560158, 9.082101314561442e-05, 0.11779484897851944, 0.11707756668329239, 0.20960964262485504, 0.10316217690706253, 0.13921663165092468, 0.07962111383676529, 0.06235766410827637, 0.08654741942882538, 0.047919146716594696, 0.06593590974807739, 0.08857718110084534, 0.9980599284172058, 0.9988994002342224, 0.07284057885408401, 0.4344956576824188, 0.03743286803364754, 0.07970000058412552, 0.000522622955031693, 0.008361967280507088, 6.532786937896162e-05, 0.34924280643463135, 0.0004572951002046466, 0.016919918358325958, 0.0009306588908657432, 0.9985969662666321, 0.9997317790985107, 0.09336493909358978, 0.06991840898990631, 0.7870734930038452, 0.012916653417050838, 0.034959204494953156, 0.0005615936242975295, 0.00014039840607438236, 0.0009827888570725918, 0.00014039840607438236, 0.12817227840423584, 0.036745041608810425, 0.8129187226295471, 0.0033087951596826315, 0.01863374188542366, 0.014193925075232983, 0.0003578300529625267, 0.0003578300529625267, 0.002743363846093416, 0.371785432100296, 0.5600040555000305, 0.006202387623488903, 0.04425165057182312, 0.006957354489713907, 0.00360751710832119, 0.12819570302963257, 0.05127827823162079, 0.05978171154856682, 0.22534097731113434, 0.04251716658473015, 0.0096629923209548, 0.009405313059687614, 0.46330827474594116, 0.11036844551563263, 0.006772695109248161, 0.41160833835601807, 0.02226034738123417, 0.3988827168941498, 0.01604258455336094, 0.0063943322747945786, 0.009585192427039146, 0.00489349290728569, 0.013192251324653625, 0.9283164739608765, 0.002442938042804599, 0.004152994602918625, 0.006107345223426819, 0.011481808498501778, 0.0007328814244829118, 0.02931525744497776, 0.0002442937984596938, 0.014413334429264069, 0.002442938042804599, 0.13566836714744568, 0.017571667209267616, 0.0011319172335788608, 5.390081787481904e-05, 0.0007007106323726475, 0.00016170245362445712, 0.814064085483551, 0.011804278939962387, 0.018649684265255928, 0.00016170245362445712, 0.6692967414855957, 9.460024739382789e-05, 0.00018920049478765577, 4.730012369691394e-05, 0.00018920049478765577, 0.32944536209106445, 0.0006622017244808376, 4.730012369691394e-05, 0.0013967450940981507, 0.08822022378444672, 0.21437785029411316, 0.016986222937703133, 0.09646552801132202, 0.30313876271247864, 0.025817256420850754, 0.019419262185692787, 0.01635543443262577, 0.21784718334674835, 0.04680146649479866, 0.0007829241803847253, 0.5425664186477661, 0.21147651970386505, 0.02505357377231121, 0.03827629238367081, 8.699157478986308e-05, 0.1336190551519394, 0.0013048736145719886, 0.017103543505072594, 0.12205345928668976, 0.07941504567861557, 0.07403505593538284, 0.19287657737731934, 0.11502735316753387, 0.008632070384919643, 0.05115003511309624, 0.3266134560108185, 0.013088627718389034, 0.904438316822052, 0.005856841802597046, 0.002662200713530183, 0.012867303565144539, 0.011181243695318699, 0.0076316422782838345, 0.0015085804043337703, 0.01828044466674328, 0.026267047971487045, 0.009317702613770962, 0.04938644915819168, 0.13230369985103607, 0.8177356123924255, 0.0005198573344387114, 0.9968971610069275, 0.0019819028675556183, 0.012243399396538734, 0.7425261735916138, 0.0004801333125215024, 0.2446279227733612, 0.9987872838973999, 0.7982481718063354, 0.006008319556713104, 0.006008319556713104, 0.0005282039055600762, 0.04219028726220131, 0.01690252497792244, 0.016308296471834183, 0.03882298618555069, 0.054867181926965714, 0.02013777382671833, 0.014247284270823002, 0.007915157824754715, 0.1523667871952057, 0.8251551985740662, 0.2029099017381668, 0.7801011800765991, 0.012444380670785904, 9.499527368461713e-05, 9.499527368461713e-05, 0.0042747873812913895, 0.9945079684257507, 0.9976476430892944, 0.9990811347961426, 0.04624078422784805, 0.17600765824317932, 0.08118780702352524, 0.0844486802816391, 0.14801186323165894, 0.03792157769203186, 0.31065788865089417, 0.039878103882074356, 0.062274739146232605, 0.013393443077802658, 0.9953595399856567, 0.00014775918680243194, 0.024084748700261116, 0.02659665420651436, 0.8200635313987732, 0.12899377942085266, 0.00014775918680243194, 0.9961168169975281, 0.12950564920902252, 0.034418169409036636, 0.0005833588074892759, 0.13008901476860046, 0.7046974301338196, 0.9986527562141418, 0.9962003231048584, 0.005167646799236536, 0.9921882152557373, 0.9986634254455566, 0.9973082542419434, 0.0019437171285972, 0.9912957549095154, 0.0038874342571944, 0.9984198808670044, 0.9940081834793091, 0.00807406846433878, 0.8883028626441956, 0.04021507501602173, 0.010247856378555298, 0.0071424455381929874, 0.01956409029662609, 0.017235031351447105, 0.008695150725543499, 0.0006210822029970586, 0.08209633827209473, 0.21608878672122955, 0.03505982086062431, 0.042142439633607864, 0.03624887391924858, 0.20481863617897034, 0.2376209795475006, 0.055894095450639725, 0.06996455043554306, 0.020058803260326385, 0.9986024498939514, 0.9987471103668213, 0.005549879744648933, 4.335843550506979e-05, 0.008801762945950031, 0.5005731582641602, 0.00047694280510768294, 0.005593238398432732, 0.04067021235823631, 0.42408886551856995, 0.014178209006786346, 0.013468504883348942, 0.7927575707435608, 0.004536024760454893, 0.18890798091888428, 0.00020935499924235046, 0.003003304824233055, 0.9775757789611816, 0.019521482288837433, 0.9972068667411804, 0.997138500213623, 0.998345673084259, 0.996795654296875, 0.9977332353591919, 0.0008055247599259019, 0.9988507032394409, 0.014117186889052391, 0.9848418831825256, 0.9947954416275024, 0.024208469316363335, 0.7225795984268188, 0.24921755492687225, 0.003026058664545417, 0.0008645881898701191, 0.9955072402954102, 0.012369680218398571, 0.9772047400474548, 0.00824645347893238, 0.1179400086402893, 0.880795419216156, 0.000883445783983916, 0.08711501210927963, 0.9119082689285278, 0.0006718381191603839, 0.9962148666381836, 0.9894628524780273, 0.008286958560347557, 0.018414461985230446, 0.009207230992615223, 0.971362829208374, 0.0011509038740769029, 0.9981478452682495, 0.03932323306798935, 0.0971454307436943, 0.01875733584165573, 0.06665830314159393, 0.12065669894218445, 0.11647117882966995, 0.08500225841999054, 0.3945758044719696, 0.047642599791288376, 0.01374504528939724, 0.9934302568435669, 0.0012922992464154959, 0.009046094492077827, 0.0071076457388699055, 0.8884557485580444, 0.0051691969856619835, 0.0019384488696232438, 0.047815073281526566, 0.012922992929816246, 0.0051691969856619835, 0.020676787942647934, 0.9988436102867126, 0.14028596878051758, 0.6868704557418823, 0.0034313190262764692, 0.046597689390182495, 0.007317619398236275, 0.014331918209791183, 0.022161392495036125, 0.015014390461146832, 0.057725779712200165, 0.006274953484535217, 0.0004405308573041111, 0.2301773726940155, 0.0004405308573041111, 0.0024229197297245264, 0.012995660305023193, 0.7535280585289001, 0.0007406918448396027, 0.00037034592241980135, 0.002962767379358411, 0.99586021900177, 0.010430755093693733, 0.98807692527771, 0.9990999102592468, 0.9989877343177795, 0.027782101184129715, 0.054535236209630966, 0.9178382754325867, 0.9973199963569641, 0.9941408634185791, 0.9803262948989868, 0.001292453845962882, 0.0077547235414385796, 0.009693404659628868, 0.991425633430481, 0.0025421169120818377, 0.005084233824163675, 0.002973162801936269, 0.9384045004844666, 0.013750878162682056, 0.002601517364382744, 0.008547843433916569, 0.013379232957959175, 0.0011149360798299313, 0.012635941617190838, 0.005946325603872538, 0.9970078468322754, 0.0014618354616686702, 0.23334547877311707, 0.0014618354616686702, 0.021744802594184875, 0.7416987419128418, 0.00018272943270858377, 0.0023691137321293354, 0.9973968267440796, 0.017394013702869415, 0.2524860203266144, 0.2836929261684418, 0.01998606137931347, 0.14290376007556915, 0.018928779289126396, 0.03956285119056702, 0.05231846123933792, 0.1645951122045517, 0.0080831004306674, 0.9981876611709595, 0.9984309077262878, 0.5786358118057251, 0.016834309324622154, 0.01433818694204092, 0.029663212597370148, 0.04452384263277054, 0.050502926111221313, 0.0018575788708403707, 0.030011508613824844, 0.02095581218600273, 0.21275083720684052, 0.99661785364151, 0.0006772744818590581, 0.00022575816547032446, 0.046280425041913986, 0.0004515163309406489, 0.027542496100068092, 0.00022575816547032446, 0.026413705199956894, 0.010159117169678211, 0.12958519160747528, 0.7583217024803162, 0.9977430701255798, 0.249289870262146, 0.11363660544157028, 0.047551799565553665, 0.054240401834249496, 0.05782856047153473, 0.026719581335783005, 0.2930096387863159, 0.04103737697005272, 0.06333272159099579, 0.05333465337753296, 0.0005920815165154636, 0.007401019334793091, 0.05555698648095131, 9.868025517789647e-05, 0.0007894420414231718, 0.352584570646286, 0.5679048895835876, 9.868025517789647e-05, 0.014900718815624714, 0.002835845574736595, 0.16944177448749542, 0.7370835542678833, 0.09051074087619781, 0.00020443950779736042, 0.2428741455078125, 0.0282126534730196, 0.049474362283945084, 0.0013288568006828427, 0.00040887901559472084, 0.5349159836769104, 0.00020443950779736042, 0.1423921138048172, 0.032300591468811035, 0.04982863739132881, 0.0048221261240541935, 0.08855873346328735, 0.011175085790455341, 0.4786916971206665, 0.045695386826992035, 0.026636507362127304, 0.013394795358181, 0.24899010360240936, 0.0011234089033678174, 0.0005617044516839087, 0.21962644159793854, 0.03931931033730507, 0.7392030358314514, 0.0004912303411401808, 0.0001403515343554318, 0.955092191696167, 7.01757671777159e-05, 0.028842240571975708, 7.01757671777159e-05, 0.015298317186534405, 0.9549022316932678, 0.040676701813936234, 0.003334155771881342, 0.007951351813971996, 0.9252192974090576, 0.005088865291327238, 0.0015902704326435924, 0.0015902704326435924, 0.006361081730574369, 0.02894292213022709, 0.002544432645663619, 0.005088865291327238, 0.015266595408320427, 0.5214769840240479, 0.054036881774663925, 0.06913913786411285, 0.051145557314157486, 0.06689345091581345, 0.035706449300050735, 0.003733457298949361, 0.0762130618095398, 0.07750432938337326, 0.04415585473179817, 7.446358358720317e-05, 0.00022339075803756714, 0.8207376599311829, 0.04966721311211586, 0.009903657250106335, 0.0003723179397638887, 0.005361378192901611, 0.11363143473863602, 0.011480073444545269, 0.005357367917895317, 0.0038266913034021854, 0.9788676500320435, 0.9981374740600586, 0.00011368034029146656, 0.0222813468426466, 0.00022736068058293313, 0.8832962512969971, 0.05979586020112038, 0.033990420401096344, 0.00011368034029146656, 0.998011589050293, 0.005325563717633486, 0.006243763957172632, 0.00018364012066740543, 0.3885824978351593, 0.5994013547897339, 0.00018364012066740543, 0.2403288036584854, 0.09315209090709686, 0.00565373944118619, 0.4628886878490448, 0.02755076251924038, 0.010948511771857738, 0.009422899223864079, 0.027461020275950432, 0.10957485437393188, 0.01301257498562336, 0.9834638833999634, 0.00919125135987997, 0.0016711365897208452, 0.004177841357886791, 0.996680498123169, 0.9984238147735596, 0.01049095019698143, 0.9570078253746033, 0.031861405819654465, 0.0003885537153109908, 0.9958071112632751, 0.9907875061035156, 0.0014966578455641866, 0.0014966578455641866, 0.0044899736531078815, 0.9643863439559937, 0.03471357002854347, 0.9994320869445801, 0.8613654375076294, 0.013364499434828758, 5.861622412339784e-05, 0.1099054217338562, 0.0028721950948238373, 0.00046892979298718274, 0.00023446489649359137, 0.0029894274193793535, 0.005509925074875355, 0.0031652760226279497, 0.9984012842178345, 0.6855518817901611, 0.022291649132966995, 0.028718071058392525, 0.08642198145389557, 0.05375433713197708, 0.022425534203648567, 0.0036148622166365385, 0.02101975306868553, 0.04304363578557968, 0.033069293946027756, 0.08892130851745605, 0.36523422598838806, 0.10236290097236633, 0.11981872469186783, 6.082168692955747e-05, 0.0017030072631314397, 0.321868360042572, 0.9988828301429749, 0.9963792562484741, 0.9789532423019409, 0.0022504671942442656, 0.018003737553954124, 0.06329876184463501, 0.17913015186786652, 0.013285867869853973, 0.6571159362792969, 0.0019852446857839823, 0.011682400479912758, 0.009162667207419872, 0.03687973693013191, 0.020692357793450356, 0.006719289347529411, 0.06512419134378433, 0.168508842587471, 0.00027135078562423587, 0.6973715424537659, 0.00027135078562423587, 0.002170806284993887, 0.006783769931644201, 0.05969717353582382, 0.03996072709560394, 0.5380825400352478, 0.3142087757587433, 0.02907872572541237, 0.04212271422147751, 0.000504463620018214, 0.001369258388876915, 0.023025162518024445, 0.0024142188485711813, 0.0092605110257864, 0.9966381788253784, 0.997245728969574, 0.10180483013391495, 0.05322709307074547, 0.40925008058547974, 0.04141666367650032, 0.23375029861927032, 0.08652074635028839, 0.033507417887449265, 0.004114945884793997, 0.010260644368827343, 0.02607913687825203, 0.9978034496307373, 0.9946346282958984, 0.0026037555653601885, 0.9967337250709534, 0.9971915483474731, 0.009945719502866268, 0.9871126413345337, 0.9941555261611938, 0.005117917433381081, 0.9961468577384949, 0.9943572282791138, 0.0007917009061202407, 0.9682502150535583, 0.030876334756612778, 0.12330155074596405, 7.5069438025821e-05, 0.11737106740474701, 0.015239096246659756, 0.019030103459954262, 0.3628481328487396, 0.0030778469517827034, 0.35901960730552673, 0.9988855719566345, 0.00024164689239114523, 0.0012082344619557261, 0.009706150740385056, 0.0001610979379620403, 0.009343679994344711, 0.0001610979379620403, 0.00012082344619557261, 0.538912832736969, 0.4400792717933655, 8.054896898102015e-05, 0.9985860586166382, 0.0035591970663517714, 0.9930160045623779, 0.0023727980442345142, 0.03232287988066673, 0.10377345979213715, 6.543093331856653e-05, 0.8257383704185486, 0.00032715467386879027, 0.0035332704428583384, 0.00013086186663713306, 0.033108051866292953, 6.543093331856653e-05, 0.0009814640507102013, 0.03453008085489273, 0.0008221447351388633, 0.912580668926239, 0.00986573752015829, 0.04192938283085823, 0.9997908473014832, 0.0001646830642130226, 0.998996376991272, 0.9986218810081482, 0.9954025745391846, 8.301890920847654e-05, 0.11224156618118286, 0.886974036693573, 0.0003320756368339062, 0.00024905672762542963, 0.10367102921009064, 0.8955839276313782, 0.01458684355020523, 0.9758598804473877, 0.008752106688916683, 0.999664306640625, 0.15942798554897308, 0.02813977561891079, 0.009502940811216831, 0.1670856922864914, 0.007334793917834759, 0.01669934205710888, 0.008903240785002708, 0.4784684479236603, 0.09355322271585464, 0.03090762346982956, 0.9964773654937744, 0.9983013272285461, 0.9974409341812134, 0.11107877641916275, 0.17755989730358124, 0.25548896193504333, 0.08353622257709503, 0.10747046768665314, 0.06905107200145721, 0.0364205464720726, 0.0725555419921875, 0.06258726865053177, 0.02424575202167034, 0.002996458439156413, 0.30788612365722656, 0.5768182873725891, 0.05534084513783455, 0.0058056386187672615, 0.00683567114174366, 0.024393044412136078, 0.0040733106434345245, 0.0044478680938482285, 0.01151763740926981, 0.43682023882865906, 0.14560674130916595, 0.008181439712643623, 0.3506576716899872, 0.004805880598723888, 0.0009726186981424689, 0.013788300566375256, 0.03489984944462776, 0.003547197673469782, 0.0007437672466039658, 0.9984625577926636, 0.000339349964633584, 0.02579059824347496, 0.8836673498153687, 0.08992774039506912, 0.9984596371650696, 0.9993206858634949, 0.9952438473701477, 0.0013209701282903552, 0.9973323941230774, 0.0013209701282903552, 0.0009292418253608048, 0.0009292418253608048, 0.9682700037956238, 0.029735738411545753, 0.02151496894657612, 0.976779580116272, 0.00028966704849153757, 0.9990617036819458, 0.00028966704849153757, 0.9963664412498474, 0.015067503787577152, 0.07707607746124268, 0.006374713033437729, 0.05737241730093956, 0.0031873565167188644, 0.030135007575154305, 0.7895951271057129, 0.016516301780939102, 0.0008692790288478136, 0.003766875946894288, 0.06816217303276062, 0.22138342261314392, 0.02208939753472805, 0.029388686642050743, 0.022706538438796997, 0.009746573865413666, 0.5971372723579407, 0.009959381073713303, 0.014981633052229881, 0.004405111074447632, 0.05412822961807251, 0.11678987741470337, 0.16853152215480804, 0.10849234461784363, 0.15702876448631287, 0.18174098432064056, 0.038615450263023376, 0.06060807779431343, 0.09798860549926758, 0.01609555259346962, 0.9393644332885742, 0.059929072856903076, 0.8866914510726929, 0.014452808536589146, 0.003962866961956024, 0.05513047054409981, 0.009207837283611298, 0.0032635373063385487, 0.00011655490379780531, 0.010956160724163055, 0.007517791353166103, 0.0086833406239748, 0.14302363991737366, 0.00015395440277643502, 0.002617224818095565, 0.7154260873794556, 0.0016934984596446157, 0.03925837203860283, 0.005388404242694378, 0.0032330425456166267, 0.08929355442523956, 0.5851951837539673, 0.0668209120631218, 0.02900092862546444, 0.018459634855389595, 0.12635694444179535, 0.020894525572657585, 0.021151870489120483, 0.018964428454637527, 0.041214969009160995, 0.07193813472986221, 0.9987353682518005, 4.888331750407815e-05, 0.026885824277997017, 0.24673853814601898, 0.013198495842516422, 0.3772081136703491, 0.06613912433385849, 0.20071490108966827, 0.0033729488495737314, 0.026616966351866722, 0.03910665214061737, 0.07392507791519165, 0.1990305483341217, 0.23584690690040588, 0.05014743283390999, 0.10744764655828476, 0.08156510442495346, 0.12206505239009857, 0.0306380745023489, 0.0748995691537857, 0.024420807138085365, 4.990067100152373e-05, 0.06856352090835571, 0.00019960268400609493, 0.931146502494812, 0.09754680842161179, 0.00034347467590123415, 0.9019644856452942, 0.996751606464386, 0.013260760344564915, 0.0073670893907547, 0.97908616065979, 0.1300228238105774, 0.0772743672132492, 0.03106614202260971, 0.29452410340309143, 0.0476655587553978, 0.058364540338516235, 0.005082904361188412, 0.18380208313465118, 0.05644512176513672, 0.11569827795028687, 0.9947245121002197, 0.9945175647735596, 0.00010374510748079047, 0.42255380749702454, 0.014524314552545547, 0.561572253704071, 0.0011930686887353659, 0.002371708396822214, 0.018973667174577713, 0.979515552520752, 0.9961662292480469, 0.9980313777923584, 0.9967013597488403, 0.9897634387016296, 0.006533091887831688, 0.0004666494205594063, 0.0027998965233564377, 0.0804818794131279, 0.02966567501425743, 0.0037670698948204517, 0.26824676990509033, 0.01836446486413479, 0.10861717909574509, 0.2743682563304901, 0.100062794983387, 0.0693768709897995, 0.047049131244421005, 0.05214587599039078, 0.03201514482498169, 0.03565322980284691, 0.013097104616463184, 0.0004850779369007796, 0.8537371754646301, 0.004123162478208542, 0.008488863706588745, 0.06430353224277496, 0.10129180550575256, 0.12157214432954788, 0.07485590875148773, 0.09018982201814651, 0.29607105255126953, 0.029843434691429138, 0.1451501101255417, 0.049848977476358414, 0.026930538937449455, 0.00022711881319992244, 0.001287006656639278, 0.001287006656639278, 0.019986456260085106, 0.9339882731437683, 0.00817627739161253, 0.005223732907325029, 0.0005299439071677625, 0.01922939345240593, 0.010144640691578388, 0.0028218254446983337, 0.9942231774330139, 0.0028218254446983337, 0.0245472714304924, 0.5917528867721558, 0.11038089543581009, 0.029865847900509834, 0.021683422848582268, 0.027329295873641968, 0.1163540706038475, 0.0090824905782938, 0.024219974875450134, 0.044839683920145035, 0.06257762014865875, 0.9368932843208313, 0.0388481430709362, 0.10852964222431183, 0.03328493982553482, 0.15256382524967194, 0.003960247617214918, 0.4867332875728607, 0.005091746803373098, 0.08985990285873413, 0.03913101926445961, 0.041959766298532486, 0.9963677525520325, 0.015463532879948616, 0.2508528530597687, 0.39739614725112915, 0.0809202790260315, 0.06340602785348892, 0.03447425365447998, 0.01801307499408722, 0.08286014944314957, 0.02865464612841606, 0.02793412283062935, 0.006073397118598223, 0.993607759475708, 0.9980330467224121, 0.10952822118997574, 0.01496068388223648, 0.0398784801363945, 0.11913508176803589, 0.013359541073441505, 0.3785703480243683, 0.02596854604780674, 0.17827731370925903, 0.07180127501487732, 0.04863473400473595, 0.005072999279946089, 0.011414247564971447, 0.9828935861587524, 0.000451978063210845, 0.019887033849954605, 0.017175165936350822, 0.050847530364990234, 0.016723187640309334, 0.04225994646549225, 0.0682486891746521, 0.784407913684845, 0.0002259890316054225, 0.9969494938850403, 0.9982119202613831, 0.41478005051612854, 0.09297540038824081, 0.013399522751569748, 0.1270577311515808, 0.04305136948823929, 0.044845178723335266, 0.044780340045690536, 0.09939420223236084, 0.03913957253098488, 0.0805700346827507, 8.548398182028905e-05, 0.028808102011680603, 0.22362610697746277, 0.013250017538666725, 0.05436781421303749, 0.28714069724082947, 0.05616297945380211, 0.012138726189732552, 0.08061140030622482, 0.2438003271818161, 0.9981145858764648, 0.26737675070762634, 0.3024994730949402, 0.011456957086920738, 0.12087089568376541, 0.02219785563647747, 0.01868916116654873, 0.0014321196358650923, 0.20941169559955597, 0.020192887634038925, 0.02588556334376335, 0.997089684009552, 0.012587375938892365, 0.07963936030864716, 0.11812768131494522, 0.13744446635246277, 0.02764381468296051, 0.1380254179239273, 0.008327033370733261, 0.22027908265590668, 0.2531030774116516, 0.0048897117376327515, 0.9942659735679626, 0.9959407448768616, 0.93864506483078, 0.004105160944163799, 0.022988902404904366, 0.01046816073358059, 0.0004105161060579121, 0.0008210322121158242, 0.005747225601226091, 0.016831159591674805, 0.999587893486023, 0.9969518184661865, 0.013296482153236866, 0.2485198676586151, 0.041133005172014236, 0.4602113366127014, 0.011000687256455421, 0.04151563718914986, 0.004782907199114561, 0.16108831763267517, 0.01520964503288269, 0.0033480352722108364, 0.0031681617256253958, 0.9965308904647827, 0.9977235794067383, 0.0008693966665305197, 0.9900689125061035, 0.0064335353672504425, 0.0024343107361346483, 0.0009990090038627386, 0.8896175622940063, 0.07392667233943939, 0.0019980180077254772, 0.0024975226260721684, 0.0004995045019313693, 0.030469775199890137, 0.001467072288505733, 0.0008383269887417555, 0.9829384088516235, 0.0025149809662252665, 0.012155741453170776, 0.09773848950862885, 0.024160925298929214, 0.02170708030462265, 0.1651625633239746, 0.09781399369239807, 0.15372388064861298, 0.08713033050298691, 0.10815788805484772, 0.21775032579898834, 0.02661476843059063, 0.998909056186676, 0.0007383014308288693, 0.050090912729501724, 0.0836552307009697, 0.09631994366645813, 0.053725626319646835, 0.2524990737438202, 0.09501371532678604, 0.14181067049503326, 0.03606318682432175, 0.19008421897888184, 0.9985206127166748, 0.025477921590209007, 0.23337776958942413, 0.19069617986679077, 0.03569335490465164, 0.06541759520769119, 0.22010497748851776, 0.07568155974149704, 0.0981021299958229, 0.018174251541495323, 0.03729482367634773, 0.9583818316459656, 0.0031285586301237345, 0.016685646027326584, 0.005214264616370201, 0.011471381410956383, 0.004171411506831646, 0.9957903027534485, 0.9962611794471741, 0.5884676575660706, 0.01078614592552185, 0.04265109822154045, 0.02436869964003563, 0.12628485262393951, 0.017835913226008415, 0.005075833294540644, 0.036118313670158386, 0.10675699263811111, 0.04164063185453415, 0.9692138433456421, 0.0004885150119662285, 0.001954060047864914, 0.01856357231736183, 0.003419605316594243, 0.005862180609256029, 0.0004885150119662285, 0.29505008459091187, 0.10487256199121475, 0.04099293798208237, 0.10360933840274811, 0.07725496590137482, 0.061477020382881165, 0.03660879656672478, 0.07027006894350052, 0.08027680218219757, 0.12956739962100983, 0.9973514676094055, 0.33786121010780334, 0.032380569726228714, 0.005629760678857565, 0.09600820392370224, 0.05576863884925842, 0.10545410960912704, 0.020138675346970558, 0.12876661121845245, 0.07624736428260803, 0.14172638952732086, 0.9977772831916809, 0.002021248685196042, 0.0002021248801611364, 0.001010624342598021, 0.0002021248801611364, 0.8408395051956177, 0.1139984279870987, 0.0014148741029202938, 0.040424976497888565, 0.9993624091148376, 0.9948102235794067, 0.00393205601722002, 0.08403922617435455, 0.7594028115272522, 0.04498470574617386, 0.08446280658245087, 0.0018637730972841382, 8.471695764455944e-05, 0.0012707543792203069, 0.016180939972400665, 0.0038969803135842085, 0.0037275461945682764, 0.0001775791752152145, 0.9116914868354797, 0.08754653483629227, 0.0005327375256456435, 0.00041842987411655486, 0.0006276448257267475, 0.9542293548583984, 0.00041842987411655486, 0.04414435103535652, 0.9980702996253967, 0.04531189426779747, 0.945319414138794, 0.002831993391737342, 0.005663986783474684, 0.9986286759376526, 0.9473711252212524, 0.05234401300549507, 0.00018496117263566703, 0.0016824188642203808, 0.38630926609039307, 0.5260794758796692, 0.020512569695711136, 0.0339072123169899, 6.470841617556289e-05, 0.002329503186047077, 0.013006391935050488, 0.016112396493554115, 0.030681097880005836, 0.9629144668579102, 0.005900211166590452, 0.00023615348618477583, 0.03400610014796257, 0.09587831795215607, 0.00968229304999113, 0.7582888603210449, 0.02361534908413887, 0.035423021763563156, 0.0025976882316172123, 0.021017659455537796, 0.018892278894782066, 0.04027331992983818, 0.0811203345656395, 0.0016063433140516281, 0.007458022329956293, 0.027078358456492424, 0.058861006051301956, 0.1100345104932785, 0.08398880809545517, 0.5812667608261108, 0.008146455511450768, 0.9643651247024536, 0.0022811712697148323, 0.006843513809144497, 0.0017108784522861242, 0.0034217569045722485, 0.021100834012031555, 0.234488844871521, 0.5701562762260437, 0.008292023092508316, 0.09814884513616562, 0.0018338127993047237, 0.0025513917207717896, 0.03627759963274002, 0.00023919297382235527, 0.047998055815696716, 0.9372383952140808, 0.030429817736148834, 0.00024343853874597698, 0.02166602946817875, 0.0014606312615796924, 0.00024343853874597698, 0.0031647009309381247, 0.004868770949542522, 0.9958319067955017, 0.9958541989326477, 0.20966365933418274, 0.0799778550863266, 0.007641669362783432, 0.0011870553717017174, 0.05556903034448624, 0.051785293966531754, 0.0029676384292542934, 0.487286239862442, 0.10386735200881958, 0.9956807494163513, 0.8881034851074219, 0.07644252479076385, 0.020913520827889442, 0.014423117972910404, 0.9946712255477905, 0.9987901449203491, 0.7838795185089111, 0.04086172953248024, 0.016783760860562325, 0.06012410297989845, 0.03172626346349716, 0.010480998083949089, 0.0026910670567303896, 0.008144018240272999, 0.029814189299941063, 0.01550904382020235, 0.008958471938967705, 0.01194462925195694, 0.9764734506607056, 0.2264632284641266, 0.7727387547492981, 0.0005640428862534463, 0.9941062331199646, 0.07735347002744675, 0.07264694571495056, 6.403432780643925e-05, 0.8304932713508606, 3.2017163903219625e-05, 3.2017163903219625e-05, 0.004002145491540432, 0.014663862064480782, 0.0007043776568025351, 3.2017163903219625e-05, 0.010612262412905693, 0.9400888681411743, 0.003197581274434924, 0.0005097593530081213, 0.0008341516368091106, 0.0007878098986111581, 0.009453718550503254, 0.00013902527280151844, 0.002780505456030369, 0.03155873715877533, 0.009638956747949123, 0.1147494912147522, 0.8739321231842041, 0.0004589979653246701, 0.0011474948842078447, 0.0007743706810288131, 0.576906144618988, 0.14746229350566864, 0.06504713743925095, 0.00011062437988584861, 0.00011062437988584861, 0.20963320136070251, 0.022448118776082993, 0.021905893459916115, 0.28390905261039734, 0.0021689003333449364, 0.5435264110565186, 0.05780119448900223, 0.05411406233906746, 0.00043378007831051946, 0.0023857904598116875, 0.011278281919658184, 0.04899662733078003, 0.3118990957736969, 0.11115117371082306, 0.012748338282108307, 0.13715983927249908, 0.002047925954684615, 0.36550357937812805, 0.005580598022788763, 0.003891059197485447, 0.0010239629773423076, 0.997468888759613, 0.005441898014396429, 0.9940533638000488, 0.9991227388381958, 0.013888327404856682, 0.13372643291950226, 0.06756642460823059, 0.06686321645975113, 0.011661507189273834, 0.053385090082883835, 0.4726719558238983, 0.021975202485919, 0.006094456184655428, 0.1522441953420639, 0.0003112246922682971, 7.780617306707427e-05, 0.07698921114206314, 0.003656890243291855, 0.0003112246922682971, 0.8652824759483337, 0.05325832590460777, 0.00011670926323859021, 0.0025941364001482725, 0.24977827072143555, 0.7474818229675293, 0.996043860912323, 0.7580989003181458, 0.04522063955664635, 0.0010049031116068363, 0.08762755244970322, 0.10792659223079681, 0.9948762655258179, 0.004563652444630861, 0.020001307129859924, 0.002439183881506324, 0.009512817487120628, 0.001951347105205059, 0.0009756735526025295, 0.964941143989563, 0.01818070560693741, 0.9803595542907715, 0.21049748361110687, 0.04524003714323044, 0.15981563925743103, 0.17143023014068604, 0.14795739948749542, 0.05330798029899597, 0.08105845004320145, 0.03191981092095375, 0.03091808781027794, 0.06787359714508057, 0.011636308394372463, 0.1636471301317215, 0.00046175825991667807, 0.08699525147676468, 0.0006464615580625832, 0.022349098697304726, 0.6487703323364258, 0.04848461598157883, 0.007665187120437622, 0.00932751689106226, 0.005944693926721811, 0.9935069680213928, 0.9211894273757935, 0.002135588089004159, 0.007016932126134634, 0.003989560063928366, 0.011569724418222904, 0.00269882008433342, 0.0017601000145077705, 0.002769224112853408, 0.04475347697734833, 0.002088651992380619, 0.17680591344833374, 0.0014050800818949938, 0.00023418001364916563, 0.0023418001364916563, 0.8147122859954834, 0.00023418001364916563, 0.004215240478515625, 0.00023418001364916563, 0.9963957071304321, 0.9994570016860962, 0.028258850798010826, 0.05713691934943199, 0.13119912147521973, 0.04874933138489723, 0.27838531136512756, 0.08532071113586426, 0.22832250595092773, 0.03722812607884407, 0.07537569850683212, 0.029985154047608376, 0.999195396900177, 0.9973099231719971, 0.9980208277702332, 0.9611294269561768, 0.0010022205533459783, 0.03708215802907944, 0.9956978559494019, 0.9774956107139587, 0.004815249238163233, 0.014445748180150986, 0.9983201622962952, 0.9941418170928955, 0.46939653158187866, 0.11114797741174698, 0.02508699893951416, 0.06241397187113762, 0.08829155564308167, 0.06008456274867058, 0.013439968228340149, 0.038103438913822174, 0.017505841329693794, 0.11453620344400406, 0.9978982210159302, 0.00016817741561681032, 0.0016481386264786124, 0.16716834902763367, 0.0008408870780840516, 0.3747665584087372, 0.3159044682979584, 0.1076335459947586, 0.00837523490190506, 0.018062254413962364, 0.005415312945842743, 0.9938799738883972, 0.004481983836740255, 0.11250646412372589, 0.006045429036021233, 0.5392727851867676, 0.06639725714921951, 0.0037912013940513134, 0.08596805483102798, 0.00040985961095429957, 0.18566639721393585, 0.9985544085502625, 0.996155321598053, 0.034405533224344254, 0.026681844145059586, 0.913502037525177, 0.02527753636240959, 0.9973637461662292, 0.9951949715614319, 0.9830807447433472, 0.008286179043352604, 0.00594905111938715, 0.002549593336880207, 0.9960660338401794, 0.0417947843670845, 0.07120262831449509, 0.03528941050171852, 0.003119013737887144, 0.7453551292419434, 0.021031063050031662, 0.000980261480435729, 0.024862995371222496, 0.05275588855147362, 0.0036537018604576588, 0.008000662550330162, 0.028865134343504906, 0.01129505317658186, 0.0014118816470727324, 0.5945590138435364, 0.016001325100660324, 0.0031375146936625242, 0.00564752658829093, 0.3263015151023865, 0.005020023323595524, 0.023546773940324783, 0.7387909889221191, 0.0512952022254467, 0.09392449259757996, 0.02836116962134838, 0.01829470507800579, 0.01925758458673954, 0.0011379481293261051, 0.01418058481067419, 0.011379482224583626, 0.0015150865074247122, 0.9863213300704956, 0.012120692059397697, 0.9964168071746826, 0.0012408677721396089, 0.736359715461731, 0.03696073964238167, 0.006748449523001909, 0.015365701168775558, 0.05954208970069885, 0.014483211562037468, 0.009915029630064964, 0.023463839665055275, 0.06966476887464523, 0.02746099978685379, 0.862903356552124, 0.0002450965694151819, 0.007066951133310795, 0.0042891898192465305, 0.03852101042866707, 0.010539152659475803, 4.0849427023204044e-05, 0.02226293832063675, 0.037050433456897736, 0.017075061798095703, 0.9981127977371216, 0.01867557317018509, 0.288786381483078, 0.15440396964550018, 0.015887456014752388, 0.13224324584007263, 0.055449869483709335, 0.17038756608963013, 0.03415442630648613, 0.06621776521205902, 0.06379017978906631, 0.2688276171684265, 0.22191309928894043, 0.37205222249031067, 0.03840620815753937, 0.03778828680515289, 0.0015844145091250539, 0.0007605189457535744, 0.00890440959483385, 0.030230628326535225, 0.0195199865847826, 0.9991301894187927, 0.0005106185562908649, 0.9987699389457703, 0.34543365240097046, 0.17222359776496887, 0.3468843400478363, 0.004003850743174553, 0.11831668764352798, 0.005512548144906759, 0.007601513527333736, 0.9961223006248474, 0.0025122882798314095, 0.054794538766145706, 0.16845786571502686, 0.13877402245998383, 0.16078053414821625, 0.02996099926531315, 0.1122220978140831, 0.021895643323659897, 0.1483914852142334, 0.1016623005270958, 0.06302618980407715, 0.000743687676731497, 0.9303532838821411, 0.03792807087302208, 0.001487375353462994, 0.009667939506471157, 0.019335879012942314, 0.9983313679695129, 0.025689061731100082, 0.07272463291883469, 0.08549068868160248, 0.11735349148511887, 0.1164640560746193, 0.02045707404613495, 0.5102235078811646, 0.007847982458770275, 0.0031915127765387297, 0.04054790735244751, 0.023383280262351036, 0.042810115963220596, 0.008694694377481937, 0.10334130376577377, 0.01731831580400467, 0.0036010723561048508, 0.7839913964271545, 0.011111203581094742, 0.00021322138491086662, 0.005543756298720837, 0.0005111561622470617, 0.02606896497309208, 0.007156186271458864, 0.07258417457342148, 0.8929898142814636, 0.00012382440036162734, 0.6830154061317444, 0.08605796098709106, 0.17063002288341522, 0.00012382440036162734, 0.043214716017246246, 0.0004952976014465094, 0.016344821080565453, 0.9889808297157288, 0.010164243169128895, 0.9990076422691345, 0.04013308882713318, 0.2584128975868225, 0.1024666577577591, 0.0996401235461235, 0.03135397657752037, 0.16399532556533813, 0.11843378841876984, 0.08090261369943619, 0.04327784478664398, 0.06141635403037071, 0.0618099719285965, 0.009045361541211605, 0.00012563001655507833, 0.0003768900642171502, 0.024372223764657974, 0.903405487537384, 0.0007537801284343004, 0.09606681764125824, 0.407781183719635, 0.059988997876644135, 0.026940423995256424, 0.05651281401515007, 0.0243581160902977, 0.15387079119682312, 0.03627645969390869, 0.09984096139669418, 0.03836217150092125, 0.00031566337565891445, 0.0744965597987175, 0.00031566337565891445, 0.9248936772346497, 0.0012097557773813605, 0.10016778111457825, 0.03871218487620354, 0.01766243577003479, 0.839086651802063, 0.0029034139588475227, 0.8878065347671509, 0.0005294016445986927, 0.006882220972329378, 0.0021176065783947706, 0.017205553129315376, 0.00026470082229934633, 0.08496896177530289, 0.00023602410510648042, 0.00047204821021296084, 0.026906747370958328, 0.00023602410510648042, 0.837413489818573, 0.1347697675228119, 0.9982834458351135, 0.9968600273132324, 0.0007691066712141037, 0.9990695714950562, 0.9968549609184265, 0.9979456067085266, 0.06332355737686157, 0.00023195441463030875, 0.00023195441463030875, 0.11064225435256958, 0.8243659734725952, 0.0011597720440477133, 0.9974663257598877, 0.9941161870956421, 0.0012227752013131976, 0.0024455504026263952, 0.021689418703317642, 0.018890785053372383, 0.035682592540979385, 0.923549473285675, 0.9964117407798767, 0.002224133349955082, 0.003598931711167097, 0.9018923044204712, 0.08241553604602814, 0.011876475065946579, 0.0053389668464660645, 0.9409928917884827, 0.053389668464660645, 0.3449617922306061, 0.05164152383804321, 0.07304862886667252, 0.007201222702860832, 0.16423434019088745, 0.05585861578583717, 0.02342630922794342, 0.07326305657625198, 0.13367828726768494, 0.07270912081003189, 0.9976054430007935, 0.0673184022307396, 0.060788486152887344, 0.04958503693342209, 0.17350691556930542, 0.10423441976308823, 0.1403525173664093, 0.129328191280365, 0.1206650659441948, 0.12286341190338135, 0.03134686127305031, 0.07288242876529694, 0.041021257638931274, 0.07245761156082153, 0.15404877066612244, 0.15059714019298553, 0.1528274267911911, 0.09638004750013351, 0.12109900265932083, 0.10843418538570404, 0.030294664204120636, 0.0003052398096770048, 0.0003052398096770048, 0.12606403231620789, 0.8732910752296448, 0.531680166721344, 0.009324537590146065, 0.02176825702190399, 0.03337029367685318, 0.1320783644914627, 0.035433243960142136, 0.0066014425829052925, 0.04804199934005737, 0.03536722809076309, 0.14633747935295105, 0.9963634014129639, 0.9953978657722473, 0.027961982414126396, 0.09888993948698044, 0.00750199519097805, 0.0006819995469413698, 0.04910396784543991, 0.0013639990938827395, 0.0006819995469413698, 0.8129434585571289, 0.9985328912734985, 0.9988463521003723, 0.998960018157959, 0.9941239356994629, 0.0034438471775501966, 0.0011479491367936134, 0.0022144783288240433, 0.8694041967391968, 0.01151528675109148, 0.008415017277002335, 0.0029895456973463297, 0.00016608586884103715, 5.536195749300532e-05, 0.0009965152712538838, 0.00016608586884103715, 0.10413584113121033, 0.08154880255460739, 0.00909912958741188, 0.06232045590877533, 0.0003433633828535676, 0.694624125957489, 0.002403543796390295, 0.1261860430240631, 0.020430121570825577, 0.002746907062828541, 0.9934550523757935, 0.9106277823448181, 0.02180694043636322, 0.009775524958968163, 0.050381552428007126, 0.0030078538693487644, 0.0030078538693487644, 0.9989576935768127, 0.0008250608225353062, 0.003300243290141225, 0.0024751825258135796, 0.03382749482989311, 0.9595457315444946, 0.9969333410263062, 0.012009605765342712, 0.01521216705441475, 0.098478764295578, 0.8742992877960205, 0.0023045784328132868, 0.7613489031791687, 0.005866199266165495, 0.07940319925546646, 0.006075706332921982, 0.003980635199695826, 0.00984683446586132, 0.010684863664209843, 0.1001444011926651, 0.02032219059765339, 0.0009475533151999116, 0.0037902132607996464, 0.9939833879470825, 0.02362135984003544, 0.0020842375233769417, 0.9740337133407593, 0.9983068108558655, 0.001372243044897914, 0.9984533786773682, 0.9979625344276428, 0.9993528127670288, 0.0011300989426672459, 0.9758403897285461, 0.006215543951839209, 0.0011300989426672459, 0.015821384266018867, 0.9976284503936768, 0.9972501993179321, 0.0016758055426180363, 0.0016758055426180363, 0.9853736162185669, 0.010054833255708218, 0.9952689409255981, 0.0014645331539213657, 0.0004327029746491462, 0.020104046911001205, 0.0011316847521811724, 0.2199462503194809, 0.2688416838645935, 0.004227175377309322, 0.4801006019115448, 0.00016642422997392714, 0.003594763344153762, 0.0011116234818473458, 0.08615081757307053, 0.9081963300704956, 0.0038906820118427277, 9.401204442838207e-05, 0.0011281445622444153, 0.22487682104110718, 0.01955450512468815, 9.401204442838207e-05, 0.4923411011695862, 0.24743971228599548, 9.401204442838207e-05, 0.0003760481777135283, 0.013913783244788647, 0.1127067506313324, 0.18960773944854736, 0.0619819313287735, 0.25525161623954773, 0.060942117124795914, 0.03553449735045433, 0.1406460851430893, 0.05872686207294464, 0.050905656069517136, 0.03368091955780983, 0.0006052088574506342, 0.07201985269784927, 0.0015130221145227551, 0.0072625065222382545, 0.8451741933822632, 0.019064079970121384, 0.04357503727078438, 0.010893759317696095, 0.022746775299310684, 0.9755839109420776, 0.0395975224673748, 0.0007471230928786099, 0.016436707228422165, 0.9241912364959717, 0.018678076565265656, 0.002120289718732238, 0.996536135673523, 0.0021912697702646255, 0.002434744266793132, 0.2342223972082138, 0.00024347442376893014, 0.7499012351036072, 0.0021912697702646255, 0.007304233033210039, 0.0017043210100382566, 0.9360654354095459, 0.06377183645963669, 0.0010943332454189658, 0.10469121485948563, 0.0010943332454189658, 0.7999576330184937, 0.005471666343510151, 0.00474211061373353, 0.0663895532488823, 0.004377332981675863, 0.0065659997053444386, 0.005106888711452484, 0.21049155294895172, 0.12241519242525101, 0.060034289956092834, 0.10039610415697098, 0.1107342541217804, 0.09406023472547531, 0.1233799159526825, 0.05354198068380356, 0.06949897855520248, 0.055445346981287, 0.9696516990661621, 0.0011394262546673417, 0.0034182786475867033, 0.005697131156921387, 0.019370246678590775, 0.8455310463905334, 0.031435173004865646, 0.037443261593580246, 0.009119418449699879, 0.028001978993415833, 0.02017000876367092, 0.00010728727647801861, 0.004291491117328405, 0.011372451670467854, 0.012552611529827118, 0.01618146151304245, 0.9812901020050049, 0.002311637392267585, 0.9458265900611877, 0.0035355130676180124, 0.00030743589741177857, 0.006648301612585783, 0.0029975001234561205, 0.0017293270211666822, 0.0027669232804328203, 0.01552551332861185, 0.009837948717176914, 0.010837116278707981, 0.994770348072052, 0.5173999667167664, 0.026572221890091896, 0.0344589538872242, 0.0723152682185173, 0.008432736620306969, 0.12315436452627182, 0.03539929538965225, 0.08399370312690735, 0.02211318537592888, 0.07613730430603027, 0.004153893794864416, 0.9958959817886353, 0.9966641664505005, 0.9950487017631531], \"Term\": [\"abstraction\", \"abstraction\", \"abstraction\", \"academic\", \"academic\", \"academic\", \"academic\", \"academic\", \"academic\", \"academic\", \"academic\", \"academic\", \"academic\", \"academically_talented\", \"access_working_calibrated\", \"acquisition\", \"acquisition\", \"acquisition\", \"acquisition\", \"acquisition\", \"acquisition\", \"acquisition\", \"acquisition\", \"acquisition\", \"acquisition\", \"acquisition_maintenance\", \"activist\", \"activity\", \"activity\", \"activity\", \"activity\", \"activity\", \"activity\", \"activity\", \"activity\", \"activity\", \"activity\", \"actor\", \"actor\", \"additive_manufacturing\", \"adic\", \"adolescent\", \"adolescent\", \"adsorbent\", \"adsorption\", \"adsorption\", \"advanced_ligo\", \"aerosol\", \"aerosol\", \"aerosol\", \"aerosol\", \"affect\", \"affect\", \"affect\", \"affect\", \"affect\", \"affect\", \"affect\", \"affect\", \"affect\", \"affect\", \"agricultural\", \"agricultural\", \"agricultural\", \"agricultural\", \"agricultural\", \"agricultural\", \"agricultural\", \"agricultural\", \"air_sea\", \"algebra\", \"algebra\", \"algebraic\", \"algebraic_geometry\", \"algebraic_topology\", \"algebraic_varieties\", \"algebras\", \"algorithm\", \"algorithm\", \"algorithm\", \"algorithm\", \"algorithm\", \"algorithm\", \"algorithm\", \"algorithms\", \"algorithms\", \"algorithms\", \"algorithms\", \"algorithms\", \"algorithms\", \"alkene\", \"alliance\", \"alliance\", \"alliance\", \"alliance\", \"alliance\", \"alliance\", \"alliance\", \"alliance\", \"alumnus\", \"amine\", \"amine\", \"amphiphilic\", \"analysis\", \"analysis\", \"analysis\", \"analysis\", \"analysis\", \"analysis\", \"analysis\", \"analysis\", \"analysis\", \"analysis\", \"analytics\", \"analytics\", \"analytics\", \"animal\", \"animal\", \"animal\", \"animal\", \"animal\", \"animal\", \"animal\", \"animal\", \"animal\", \"anion\", \"ant\", \"ant\", \"antibody\", \"antibody\", \"antibody\", \"application\", \"application\", \"application\", \"application\", \"application\", \"application\", \"application\", \"application\", \"application\", \"application\", \"approach\", \"approach\", \"approach\", \"approach\", \"approach\", \"approach\", \"approach\", \"approach\", \"approach\", \"approach\", \"approximation\", \"approximation\", \"approximation\", \"approximation\", \"aquatic\", \"aquatic\", \"aquatic\", \"aquatic\", \"aquatic\", \"aquatic\", \"aqueous\", \"aqueous\", \"aqueous\", \"aqueous\", \"arabidopsis\", \"architecture\", \"architecture\", \"architecture\", \"architecture\", \"architecture\", \"architecture\", \"architecture\", \"architecture\", \"architecture\", \"architecture\", \"arctic\", \"arctic\", \"arctic\", \"arctic\", \"area\", \"area\", \"area\", \"area\", \"area\", \"area\", \"area\", \"area\", \"area\", \"area\", \"arise\", \"arise\", \"arise\", \"arise\", \"arise\", \"arise\", \"arise\", \"arise\", \"arise\", \"arise\", \"arithmetic\", \"arithmetic\", \"aromatic\", \"associate_degree\", \"astronomer\", \"astronomical\", \"astronomical\", \"astronomical\", \"astronomy\", \"astronomy\", \"astronomy\", \"astronomy\", \"astrophysical\", \"astrophysical\", \"astrophysical\", \"astrophysics\", \"astrophysics\", \"astrophysics\", \"asymptotic\", \"atmosphere\", \"atmosphere\", \"atmosphere\", \"atmosphere\", \"atmosphere\", \"atmosphere\", \"atmosphere\", \"atmosphere\", \"atmospheric\", \"atmospheric\", \"atmospheric\", \"atmospheric\", \"atmospheric\", \"atmospheric\", \"atmospheric\", \"atmospheric\", \"atmospheric\", \"attacker\", \"attend\", \"attend\", \"attend\", \"attend\", \"attend\", \"attend\", \"attend\", \"attend\", \"attendance\", \"attendance\", \"attendee\", \"attendees\", \"authentication\", \"automate\", \"automate\", \"automate\", \"automate\", \"automate\", \"automate\", \"automate\", \"automate\", \"automate\", \"automate\", \"automatically\", \"automatically\", \"automatically\", \"automatically\", \"automatically\", \"automatically\", \"automatically\", \"automorphic_forms\", \"auxin\", \"baccalaureate\", \"bacteria\", \"bacteria\", \"bacteria\", \"bacteria\", \"bacterial\", \"bacterial\", \"bacterial\", \"bacterial\", \"base\", \"base\", \"base\", \"base\", \"base\", \"base\", \"base\", \"base\", \"base\", \"base\", \"battery\", \"battery\", \"battery\", \"battery\", \"battery\", \"bee\", \"bee\", \"big\", \"big\", \"big\", \"big\", \"big\", \"big\", \"big\", \"big\", \"big\", \"big\", \"big_bang\", \"big_bang\", \"biochemical\", \"biochemical\", \"biochemical\", \"biochemical\", \"biochemical\", \"biochemical\", \"biochemical\", \"biodiversity\", \"biodiversity\", \"biogeographic\", \"biogeographic\", \"biological\", \"biological\", \"biological\", \"biological\", \"biological\", \"biological\", \"biological\", \"biological\", \"biological\", \"biological\", \"biology\", \"biology\", \"biology\", \"biology\", \"biology\", \"biology\", \"biology\", \"biology\", \"biology\", \"biology\", \"bird\", \"bird\", \"bird\", \"bird\", \"black_hole\", \"black_hole\", \"block_copolymers\", \"block_copolymers\", \"bond\", \"bond\", \"bond\", \"bond\", \"bond\", \"bond\", \"bond\", \"bond\", \"bond\", \"brain\", \"brain\", \"brain\", \"brain\", \"brain\", \"brain\", \"brain\", \"brain\", \"brain\", \"branches_mathematics\", \"bring_together\", \"bring_together\", \"bring_together\", \"bring_together\", \"bring_together\", \"bring_together\", \"bring_together\", \"bring_together\", \"bring_together\", \"bring_together\", \"broader_impacts_eapsi_fellowship\", \"cancer\", \"cancer\", \"cancer\", \"cancer\", \"cancer\", \"cancer\", \"cancer\", \"capability\", \"capability\", \"capability\", \"capability\", \"capability\", \"capability\", \"capability\", \"capability\", \"capability\", \"capability\", \"capacitor\", \"career\", \"career\", \"career\", \"career\", \"career\", \"career\", \"career\", \"career\", \"career\", \"career\", \"catalysis\", \"catalysis\", \"catalyst\", \"catalyst\", \"catalyst\", \"catalyst\", \"catalyst\", \"catalysts\", \"catalytic\", \"catalytic\", \"catalytic\", \"cell\", \"cell\", \"cell\", \"cell\", \"cell\", \"cell\", \"cell\", \"cellular\", \"cellular\", \"cellular\", \"cellular\", \"cellular\", \"cellular\", \"cern\", \"challenge\", \"challenge\", \"challenge\", \"challenge\", \"challenge\", \"challenge\", \"challenge\", \"challenge\", \"challenge\", \"challenge\", \"change\", \"change\", \"change\", \"change\", \"change\", \"change\", \"change\", \"change\", \"change\", \"change\", \"chemical\", \"chemical\", \"chemical\", \"chemical\", \"chemical\", \"chemical\", \"chemical\", \"chemical\", \"chemical\", \"chemical\", \"chemistry\", \"chemistry\", \"chemistry\", \"chemistry\", \"chemistry\", \"chemistry\", \"chemistry\", \"chemistry\", \"chemistry\", \"child\", \"child\", \"child\", \"child\", \"child\", \"child\", \"child\", \"child\", \"child\", \"child\", \"chip\", \"chip\", \"chip\", \"chip\", \"chip\", \"chromatin\", \"chromosome\", \"circulation\", \"circulation\", \"circulation\", \"circulation\", \"circulation\", \"city\", \"city\", \"city\", \"city\", \"city\", \"city\", \"city\", \"city\", \"city\", \"city\", \"classical\", \"classical\", \"classical\", \"classical\", \"classical\", \"classical\", \"classical\", \"classical\", \"classical\", \"classroom\", \"classroom\", \"classroom\", \"classroom\", \"classroom\", \"classroom\", \"classroom\", \"classroom\", \"classroom\", \"classroom\", \"climate\", \"climate\", \"climate\", \"climate\", \"climate\", \"climate\", \"climate\", \"climate\", \"climate\", \"climate\", \"cmos\", \"cmos\", \"cognitive_radio\", \"cohomology\", \"cohort\", \"cohort\", \"cohort\", \"cohort\", \"cohort\", \"cohort\", \"college\", \"college\", \"college\", \"college\", \"college\", \"college\", \"college\", \"college\", \"college\", \"college\", \"colloid\", \"colloid\", \"colloidal\", \"colloidal\", \"colloidal\", \"combinatorial\", \"combinatorial\", \"combinatorial\", \"combinatorial\", \"combinatorial\", \"combinatorial\", \"combinatorics\", \"combinatorics\", \"commercial\", \"commercial\", \"commercial\", \"commercial\", \"commercial\", \"commercial\", \"commercial\", \"commercial\", \"commercial\", \"communication\", \"communication\", \"communication\", \"communication\", \"communication\", \"communication\", \"communication\", \"communication\", \"communication\", \"communication\", \"community\", \"community\", \"community\", \"community\", \"community\", \"community\", \"community\", \"community\", \"community\", \"community\", \"competency\", \"competency\", \"competency\", \"competency\", \"competency\", \"compiler\", \"complex\", \"complex\", \"complex\", \"complex\", \"complex\", \"complex\", \"complex\", \"complex\", \"complex\", \"complex\", \"composite\", \"composite\", \"composite\", \"composite\", \"composite\", \"composite\", \"composite\", \"composite\", \"composite\", \"composite\", \"compound\", \"compound\", \"compound\", \"compound\", \"compound\", \"compound\", \"compound\", \"compound\", \"compound\", \"compound\", \"computational\", \"computational\", \"computational\", \"computational\", \"computational\", \"computational\", \"computational\", \"computational\", \"computational\", \"computational\", \"compute\", \"compute\", \"compute\", \"compute\", \"compute\", \"compute\", \"compute\", \"compute\", \"compute\", \"computer\", \"computer\", \"computer\", \"computer\", \"computer\", \"computer\", \"computer\", \"computer\", \"computer\", \"computer\", \"concurrency\", \"condition\", \"condition\", \"condition\", \"condition\", \"condition\", \"condition\", \"condition\", \"condition\", \"condition\", \"condition\", \"conference\", \"conference\", \"conference\", \"conference\", \"conference\", \"conference\", \"conference\", \"conference\", \"conference\", \"conference\", \"conflict\", \"conflict\", \"conflict\", \"conflict\", \"conflict\", \"conflict\", \"conflict\", \"conflict\", \"congestion\", \"congestion\", \"congestion\", \"conjecture\", \"conservation\", \"conservation\", \"conservation\", \"conservation\", \"conservation\", \"conservation\", \"conservation\", \"conservation\", \"conservation\", \"conservation\", \"context\", \"context\", \"context\", \"context\", \"context\", \"context\", \"context\", \"context\", \"context\", \"context\", \"control\", \"control\", \"control\", \"control\", \"control\", \"control\", \"control\", \"control\", \"control\", \"control\", \"converter\", \"convex\", \"convex\", \"copolymer\", \"coral\", \"coral\", \"coral_reef\", \"coral_reef\", \"cosmic\", \"cosmic\", \"cosmological\", \"cosmological\", \"cost\", \"cost\", \"cost\", \"cost\", \"cost\", \"cost\", \"cost\", \"cost\", \"cost\", \"cost\", \"country\", \"country\", \"country\", \"country\", \"country\", \"country\", \"country\", \"country\", \"country\", \"country\", \"course\", \"course\", \"course\", \"course\", \"course\", \"course\", \"course\", \"course\", \"course\", \"course\", \"court\", \"cps\", \"cps\", \"cps\", \"cps\", \"cross_layer\", \"crust\", \"crust\", \"crust\", \"crustal\", \"crystal\", \"crystal\", \"crystal\", \"crystal\", \"crystal\", \"crystal\", \"cultural\", \"cultural\", \"cultural\", \"cultural\", \"cultural\", \"cultural\", \"cultural\", \"cultural\", \"curriculum\", \"curriculum\", \"curriculum\", \"curriculum\", \"curriculum\", \"curriculum\", \"curriculum\", \"curriculum\", \"curriculum\", \"curriculum\", \"cyber_attacks\", \"cyber_physical\", \"cyber_physical\", \"cytoskeleton\", \"dark_matter\", \"data\", \"data\", \"data\", \"data\", \"data\", \"data\", \"data\", \"data\", \"data\", \"data\", \"debug\", \"debug\", \"decision\", \"decision\", \"decision\", \"decision\", \"decision\", \"decision\", \"decision\", \"decision\", \"decision\", \"decision_making\", \"decision_making\", \"decision_making\", \"decision_making\", \"decision_making\", \"decision_making\", \"decision_making\", \"democracy\", \"democratic\", \"depth_interviews\", \"design\", \"design\", \"design\", \"design\", \"design\", \"design\", \"design\", \"design\", \"design\", \"design\", \"detector\", \"detector\", \"detector\", \"determine\", \"determine\", \"determine\", \"determine\", \"determine\", \"determine\", \"determine\", \"determine\", \"determine\", \"determine\", \"development\", \"development\", \"development\", \"development\", \"development\", \"development\", \"development\", \"development\", \"development\", \"development\", \"device\", \"device\", \"device\", \"device\", \"device\", \"device\", \"device\", \"device\", \"device\", \"diet\", \"diet\", \"diet\", \"different\", \"different\", \"different\", \"different\", \"different\", \"different\", \"different\", \"different\", \"different\", \"different\", \"differential_equation\", \"differential_equation\", \"differential_geometry\", \"dimensional\", \"dimensional\", \"dimensional\", \"dimensional\", \"dimensional\", \"dimensional\", \"dimensional\", \"dimensional\", \"dimensional\", \"dimensional\", \"discussion\", \"discussion\", \"discussion\", \"discussion\", \"discussion\", \"discussion\", \"discussion\", \"discussion\", \"discussion\", \"discussion\", \"disease\", \"disease\", \"disease\", \"disease\", \"disease\", \"disease\", \"disease\", \"disease\", \"distribute\", \"distribute\", \"distribute\", \"distribute\", \"distribute\", \"distribute\", \"distribute\", \"distribute\", \"distribute\", \"distribute\", \"diversity\", \"diversity\", \"diversity\", \"diversity\", \"diversity\", \"diversity\", \"diversity\", \"diversity\", \"diversity\", \"diversity\", \"division\", \"division\", \"division\", \"division\", \"division\", \"division\", \"division\", \"division\", \"division\", \"division\", \"dmz\", \"dna\", \"dna\", \"dna\", \"dna\", \"dna\", \"dna\", \"dna\", \"dna_methylation\", \"doctoral_consortium\", \"drosophila\", \"drought\", \"drought\", \"drought\", \"drought\", \"drug\", \"drug\", \"drug\", \"drug\", \"drug\", \"drug\", \"duality\", \"dynamic\", \"dynamic\", \"dynamic\", \"dynamic\", \"dynamic\", \"dynamic\", \"dynamic\", \"dynamic\", \"dynamic\", \"dynamic\", \"dynamical\", \"dynamical\", \"dynamical\", \"dynamical\", \"dynamical\", \"dynamical\", \"dynamical\", \"dynamical\", \"earth\", \"earth\", \"earth\", \"earth\", \"earth\", \"earth\", \"earth\", \"earth\", \"earth\", \"earth\", \"earth_interior\", \"earthcube\", \"earthquake\", \"earthquake\", \"earthquake\", \"earthquake\", \"earthquake\", \"ecological\", \"ecological\", \"ecological\", \"ecological\", \"ecological\", \"ecological\", \"ecologist\", \"ecology\", \"ecology\", \"ecology\", \"ecology\", \"ecology\", \"ecology\", \"ecology\", \"ecology\", \"economic\", \"economic\", \"economic\", \"economic\", \"economic\", \"economic\", \"economic\", \"economic\", \"economic\", \"economic\", \"ecosystem\", \"ecosystem\", \"ecosystem\", \"ecosystem\", \"ecosystem\", \"ecosystem\", \"ecosystem\", \"ecosystem_services\", \"ecosystem_services\", \"ecosystems\", \"ecosystems\", \"ecosystems\", \"ecosystems\", \"ecosystems\", \"ecr\", \"ecr\", \"education\", \"education\", \"education\", \"education\", \"education\", \"education\", \"education\", \"education\", \"education\", \"education\", \"educators_ensuring_globally_aware\", \"effect\", \"effect\", \"effect\", \"effect\", \"effect\", \"effect\", \"effect\", \"effect\", \"effect\", \"effect\", \"efficiency\", \"efficiency\", \"efficiency\", \"efficiency\", \"efficiency\", \"efficiency\", \"efficiency\", \"efficiency\", \"efficiency\", \"efficiency\", \"eigenvalue\", \"eigenvalue\", \"election\", \"election\", \"electoral\", \"electric\", \"electric\", \"electric\", \"electric\", \"electric\", \"electric\", \"electric\", \"electric\", \"electric_vehicles\", \"electrical\", \"electrical\", \"electrical\", \"electrical\", \"electrical\", \"electrical\", \"electrical\", \"electrical\", \"electricity\", \"electricity\", \"electricity\", \"electricity\", \"electricity\", \"electricity\", \"electromechanical\", \"electron\", \"electron\", \"electron\", \"electron\", \"electron\", \"electron\", \"electronic\", \"electronic\", \"electronic\", \"electronic\", \"electronic\", \"electronic\", \"electronic\", \"electronic\", \"electronic\", \"electronics\", \"electronics\", \"electronics\", \"electronics\", \"electronics\", \"elegans\", \"embryo\", \"embryo\", \"embryonic\", \"emotion\", \"emotion\", \"emotional\", \"emotional\", \"emotional\", \"emotional\", \"enable\", \"enable\", \"enable\", \"enable\", \"enable\", \"enable\", \"enable\", \"enable\", \"enable\", \"enable\", \"energy\", \"energy\", \"energy\", \"energy\", \"energy\", \"energy\", \"energy\", \"energy\", \"energy\", \"energy\", \"engineering\", \"engineering\", \"engineering\", \"engineering\", \"engineering\", \"engineering\", \"engineering\", \"engineering\", \"engineering\", \"engineering\", \"english\", \"english\", \"english\", \"enso\", \"environment\", \"environment\", \"environment\", \"environment\", \"environment\", \"environment\", \"environment\", \"environment\", \"environment\", \"environment\", \"environmental\", \"environmental\", \"environmental\", \"environmental\", \"environmental\", \"environmental\", \"environmental\", \"environmental\", \"environmental\", \"environmental\", \"epigenetic\", \"equation\", \"equation\", \"equation\", \"equation\", \"equation\", \"equipment\", \"equipment\", \"equipment\", \"equipment\", \"equipment\", \"equipment\", \"equipment\", \"equipment\", \"equipment\", \"eruption\", \"ethnographic\", \"ethnography\", \"eukaryotic\", \"eukaryotic\", \"evolution\", \"evolution\", \"evolution\", \"evolution\", \"evolution\", \"evolution\", \"evolution\", \"evolution\", \"evolution\", \"evolution\", \"evolutionary\", \"evolutionary\", \"evolutionary\", \"evolutionary\", \"evolutionary\", \"evolutionary\", \"evolutionary\", \"evolutionary\", \"evolutionary\", \"examine\", \"examine\", \"examine\", \"examine\", \"examine\", \"examine\", \"examine\", \"examine\", \"examine\", \"examine\", \"example\", \"example\", \"example\", \"example\", \"example\", \"example\", \"example\", \"example\", \"example\", \"example\", \"expanding_base\", \"experience\", \"experience\", \"experience\", \"experience\", \"experience\", \"experience\", \"experience\", \"experience\", \"experience\", \"experience\", \"experience_outside_introduction\", \"experiment\", \"experiment\", \"experiment\", \"experiment\", \"experiment\", \"experiment\", \"experiment\", \"experiment\", \"experiment\", \"experiment\", \"experimental\", \"experimental\", \"experimental\", \"experimental\", \"experimental\", \"experimental\", \"experimental\", \"experimental\", \"experimental\", \"experimental\", \"fabricate\", \"fabricate\", \"fabricate\", \"fabricate\", \"fabrication\", \"fabrication\", \"fabrication\", \"fabrication\", \"facility\", \"facility\", \"facility\", \"facility\", \"facility\", \"facility\", \"facility\", \"facility\", \"facility\", \"facility\", \"faculty\", \"faculty\", \"faculty\", \"faculty\", \"faculty\", \"faculty\", \"faculty\", \"faculty\", \"faculty\", \"faculty\", \"fault\", \"fault\", \"fault\", \"ferroelectric\", \"ferroelectric\", \"fiber\", \"fiber\", \"fiber\", \"fiber\", \"fiber\", \"fiber\", \"fiber\", \"field\", \"field\", \"field\", \"field\", \"field\", \"field\", \"field\", \"field\", \"field\", \"field\", \"finding\", \"finding\", \"finding\", \"finding\", \"finding\", \"finding\", \"finding\", \"finding\", \"finding\", \"finding\", \"finite\", \"finite\", \"finite\", \"finite\", \"finite\", \"finite\", \"finite\", \"fire\", \"fire\", \"fire\", \"fire\", \"fire\", \"fire\", \"fire\", \"fire\", \"fire\", \"firm\", \"firm\", \"firm\", \"firm\", \"firm\", \"firm\", \"firm\", \"firm\", \"firm\", \"fish\", \"fish\", \"fish\", \"fish\", \"fish\", \"flow\", \"flow\", \"flow\", \"flow\", \"flow\", \"flow\", \"flow\", \"flow\", \"flow\", \"flow\", \"flux\", \"flux\", \"flux\", \"flux\", \"flux\", \"flux\", \"flux\", \"flux\", \"focus\", \"focus\", \"focus\", \"focus\", \"focus\", \"focus\", \"focus\", \"focus\", \"focus\", \"focus\", \"food\", \"food\", \"food\", \"food\", \"food\", \"food\", \"food\", \"food\", \"food\", \"forage\", \"forage\", \"forage\", \"forest\", \"forest\", \"forest\", \"forest\", \"formative_assessment\", \"forum\", \"forum\", \"forum\", \"forum\", \"forum\", \"forum\", \"forum\", \"forum\", \"fossil\", \"fossil\", \"fossil\", \"fossil\", \"fossil\", \"fossil\", \"framework\", \"framework\", \"framework\", \"framework\", \"framework\", \"framework\", \"framework\", \"framework\", \"framework\", \"framework\", \"fuel\", \"fuel\", \"fuel\", \"fuel\", \"fuel\", \"fuel\", \"fuel\", \"fuel\", \"fuel\", \"fuel\", \"fullerene\", \"function\", \"function\", \"function\", \"function\", \"function\", \"function\", \"function\", \"function\", \"function\", \"function\", \"fundamental\", \"fundamental\", \"fundamental\", \"fundamental\", \"fundamental\", \"fundamental\", \"fundamental\", \"fundamental\", \"fundamental\", \"fundamental\", \"gaas\", \"galactic\", \"galactic\", \"galaxy\", \"galaxy\", \"gamma_ray\", \"gender\", \"gender\", \"gender\", \"gender\", \"gender\", \"gene\", \"gene\", \"gene\", \"gene\", \"gene_expression\", \"gene_expression\", \"gene_expression\", \"gene_regulation\", \"genetic\", \"genetic\", \"genetic\", \"genetic\", \"genetic\", \"genetic\", \"geni\", \"genome\", \"genome\", \"genome\", \"genome\", \"genome\", \"genome\", \"geochemical\", \"geochemical\", \"geochemical\", \"geochemical\", \"geologic\", \"geologic\", \"geologic\", \"geomagnetic\", \"geometric\", \"geometric\", \"geometric\", \"geometric\", \"geometry\", \"geometry\", \"geometry\", \"geometry\", \"geometry\", \"geometry\", \"geometry\", \"geometry\", \"glacial\", \"glacier\", \"global\", \"global\", \"global\", \"global\", \"global\", \"global\", \"global\", \"global\", \"global\", \"global\", \"gordon\", \"gordon\", \"gordon\", \"gordon\", \"governance\", \"governance\", \"governance\", \"governance\", \"governance\", \"government\", \"government\", \"government\", \"government\", \"government\", \"government\", \"government\", \"government\", \"government\", \"government\", \"gpu\", \"gpu\", \"gpus\", \"graduate\", \"graduate\", \"graduate\", \"graduate\", \"graduate\", \"graduate\", \"graduate\", \"graduate\", \"graduate\", \"graduate\", \"graduation\", \"graduation\", \"graduation\", \"grammatical\", \"grammatical\", \"graphene\", \"graphene\", \"grassland\", \"gravitational_wave\", \"gravitational_waves\", \"gravitational_waves\", \"grc\", \"group\", \"group\", \"group\", \"group\", \"group\", \"group\", \"group\", \"group\", \"group\", \"group\", \"habitat\", \"habitat\", \"hamiltonian\", \"hamiltonian\", \"hardware\", \"hardware\", \"hardware\", \"hardware\", \"heat_exchanger\", \"held_june\", \"herbivore\", \"hominin\", \"homotopy\", \"household\", \"household\", \"household\", \"household\", \"household\", \"hpc\", \"hpc\", \"hpc\", \"human\", \"human\", \"human\", \"human\", \"human\", \"human\", \"human\", \"human\", \"human\", \"human\", \"hurricane_harvey\", \"hydrogen\", \"hydrogen\", \"hydrogen\", \"hydrogen\", \"hydrogen_bonding\", \"hydrophobic\", \"hydrophobic\", \"hyperbolic\", \"hyperbolic\", \"ice\", \"ice\", \"ice\", \"ice\", \"ice\", \"ice\", \"ice_sheet\", \"icecube\", \"identify\", \"identify\", \"identify\", \"identify\", \"identify\", \"identify\", \"identify\", \"identify\", \"identify\", \"identify\", \"identify_unknown_substances\", \"identity\", \"identity\", \"identity\", \"identity\", \"identity\", \"identity\", \"identity\", \"identity\", \"identity\", \"ideology\", \"image\", \"image\", \"image\", \"image\", \"image\", \"image\", \"image\", \"image\", \"image\", \"image\", \"immigrant\", \"immigrant\", \"immune\", \"immune\", \"immune\", \"immune\", \"immune\", \"impact\", \"impact\", \"impact\", \"impact\", \"impact\", \"impact\", \"impact\", \"impact\", \"impact\", \"impact\", \"important\", \"important\", \"important\", \"important\", \"important\", \"important\", \"important\", \"important\", \"important\", \"important\", \"improve\", \"improve\", \"improve\", \"improve\", \"improve\", \"improve\", \"improve\", \"improve\", \"improve\", \"improve\", \"increase\", \"increase\", \"increase\", \"increase\", \"increase\", \"increase\", \"increase\", \"increase\", \"increase\", \"increase\", \"indigenous\", \"indigenous\", \"indigenous\", \"indigenous\", \"individual\", \"individual\", \"individual\", \"individual\", \"individual\", \"individual\", \"individual\", \"individual\", \"individual\", \"individual\", \"infant\", \"infant\", \"infant\", \"infant\", \"infinite_dimensional\", \"influence\", \"influence\", \"influence\", \"influence\", \"influence\", \"influence\", \"influence\", \"influence\", \"influence\", \"influence\", \"information\", \"information\", \"information\", \"information\", \"information\", \"information\", \"information\", \"information\", \"information\", \"information\", \"infrastructure\", \"infrastructure\", \"infrastructure\", \"infrastructure\", \"infrastructure\", \"infrastructure\", \"infrastructure\", \"infrastructure\", \"infrastructure\", \"infrastructure\", \"ink\", \"ink\", \"inorganic\", \"inorganic\", \"inorganic\", \"inorganic\", \"inorganic\", \"inorganic_bioinorganic_organometallic_chemistry\", \"insect\", \"insect\", \"institution\", \"institution\", \"institution\", \"institution\", \"institution\", \"institution\", \"institution\", \"institution\", \"institution\", \"institution\", \"instructional\", \"instructional\", \"instructional\", \"instructional\", \"instructional\", \"instructional\", \"instructional\", \"instructional\", \"instructor\", \"instructor\", \"instructor\", \"instructor\", \"instructor\", \"instructor\", \"instrument\", \"instrument\", \"instrument\", \"instrument\", \"instrument\", \"instrument\", \"instrument\", \"instrument\", \"instrument\", \"instrumentation\", \"instrumentation\", \"instrumentation\", \"instrumentation\", \"instrumentation\", \"instrumentation\", \"instrumentation\", \"integer\", \"integer\", \"intelligent\", \"intelligent\", \"intelligent\", \"intelligent\", \"intelligent\", \"interaction\", \"interaction\", \"interaction\", \"interaction\", \"interaction\", \"interaction\", \"interaction\", \"interaction\", \"interaction\", \"interaction\", \"internet\", \"internet\", \"internet\", \"internet\", \"internet\", \"internet\", \"internet\", \"internet\", \"internet\", \"internet\", \"internet_things_iot\", \"intervention\", \"intervention\", \"intervention\", \"intervention\", \"intervention\", \"intervention\", \"intervention\", \"interview\", \"interview\", \"interview\", \"interview\", \"interview\", \"interview\", \"interview\", \"intracellular\", \"intracellular\", \"invariant\", \"invariant\", \"invited_speakers\", \"ion\", \"ion\", \"ion\", \"ion\", \"ion\", \"ion\", \"ionic_liquids\", \"iot\", \"judicial\", \"justice\", \"justice\", \"kinase\", \"kinetics\", \"kinetics\", \"kinetics\", \"kinetics\", \"kinetics\", \"knot\", \"knot\", \"knowledge\", \"knowledge\", \"knowledge\", \"knowledge\", \"knowledge\", \"knowledge\", \"knowledge\", \"knowledge\", \"knowledge\", \"knowledge\", \"labor_market\", \"labor_market\", \"laboratory\", \"laboratory\", \"laboratory\", \"laboratory\", \"laboratory\", \"laboratory\", \"laboratory\", \"laboratory\", \"laboratory\", \"laboratory\", \"land\", \"land\", \"land\", \"land\", \"land\", \"land\", \"land\", \"land\", \"land_managers\", \"langlands\", \"language\", \"language\", \"language\", \"language\", \"language\", \"language\", \"language\", \"large\", \"large\", \"large\", \"large\", \"large\", \"large\", \"large\", \"large\", \"large\", \"large\", \"laser\", \"laser\", \"laser\", \"laser\", \"laser\", \"laser\", \"laser\", \"lava\", \"learn\", \"learn\", \"learn\", \"learn\", \"learn\", \"learn\", \"learn\", \"learn\", \"learn\", \"learn\", \"legal\", \"legal\", \"legislative\", \"legitimacy\", \"level\", \"level\", \"level\", \"level\", \"level\", \"level\", \"level\", \"level\", \"level\", \"level\", \"lhc\", \"ligand\", \"ligand\", \"light\", \"light\", \"light\", \"light\", \"light\", \"light\", \"light\", \"light\", \"light\", \"light\", \"lignin\", \"ligo\", \"linear\", \"linear\", \"linear\", \"linear\", \"linear\", \"linear\", \"linear\", \"linear\", \"linear\", \"linear\", \"linguist\", \"linguist\", \"linguistic\", \"linguistic\", \"lithosphere\", \"location_orientation_society\", \"low\", \"low\", \"low\", \"low\", \"low\", \"low\", \"low\", \"low\", \"low\", \"low\", \"lsamp\", \"lsamp\", \"luminosity\", \"luminosity\", \"machine_learning\", \"machine_learning\", \"machine_learning\", \"machine_learning\", \"macromolecular_supramolecular_nanochemistry\", \"magma\", \"magmatic\", \"magnetic\", \"magnetic\", \"magnetic\", \"magnetic\", \"magnetic\", \"magnetic\", \"make\", \"make\", \"make\", \"make\", \"make\", \"make\", \"make\", \"make\", \"make\", \"make\", \"malicious\", \"malware\", \"management\", \"management\", \"management\", \"management\", \"management\", \"management\", \"management\", \"management\", \"management\", \"management\", \"manifold\", \"manifold\", \"mantle\", \"manufacture\", \"manufacture\", \"manufacture\", \"manufacture\", \"manufacture\", \"manufacture\", \"manufacture\", \"manufacture\", \"manufacture\", \"manufacturing\", \"manufacturing\", \"manufacturing\", \"manufacturing\", \"manufacturing\", \"marine\", \"marine\", \"marine\", \"marine\", \"marine\", \"marine\", \"marine\", \"marine\", \"mass\", \"mass\", \"mass\", \"mass\", \"mass\", \"mass\", \"mass\", \"mass\", \"mass\", \"mass\", \"material\", \"material\", \"material\", \"material\", \"material\", \"material\", \"material\", \"material\", \"material\", \"material\", \"math\", \"math\", \"math\", \"math\", \"math\", \"math\", \"math\", \"math\", \"math\", \"math\", \"mathematical\", \"mathematical\", \"mathematical\", \"mathematical\", \"mathematical\", \"mathematical\", \"mathematical\", \"mathematical\", \"mathematical\", \"mathematical\", \"mathematics\", \"mathematics\", \"mathematics\", \"mathematics\", \"mathematics\", \"mathematics\", \"mathematics\", \"mathematics\", \"measurement\", \"measurement\", \"measurement\", \"measurement\", \"measurement\", \"measurement\", \"measurement\", \"measurement\", \"measurement\", \"measurement\", \"mechanical\", \"mechanical\", \"mechanical\", \"mechanical\", \"mechanical\", \"mechanical\", \"mechanical\", \"mechanical\", \"mechanical\", \"mechanism\", \"mechanism\", \"mechanism\", \"mechanism\", \"mechanism\", \"mechanism\", \"mechanism\", \"mechanism\", \"mechanism\", \"mechanism\", \"meeting\", \"meeting\", \"meeting\", \"meeting\", \"meeting\", \"meeting\", \"meeting\", \"meeting\", \"meeting\", \"meeting\", \"melt\", \"melt\", \"melt\", \"melt\", \"mem\", \"mem\", \"membrane\", \"membrane\", \"membrane\", \"membrane\", \"mems\", \"mentor\", \"mentor\", \"mentor\", \"mentor\", \"mentor\", \"mentor\", \"mentor\", \"mentor\", \"mentor\", \"mentor\", \"metabolic\", \"metabolic\", \"metabolic\", \"metabolic\", \"metal\", \"metal\", \"metal\", \"metal\", \"metal\", \"metal\", \"metal_ions\", \"metamaterial\", \"metamaterials\", \"method\", \"method\", \"method\", \"method\", \"method\", \"method\", \"method\", \"method\", \"method\", \"method\", \"micelle\", \"microbial\", \"microbial\", \"microbial\", \"microbial\", \"microbial\", \"microbial\", \"microbiomes\", \"microscope\", \"microscope\", \"microscope\", \"microscope\", \"microscope\", \"microtubule\", \"middleware\", \"milky_way\", \"milky_way\", \"mimo\", \"miniaturization\", \"miniaturize\", \"miniaturize\", \"miniaturize\", \"mjo\", \"mmwave\", \"mobile\", \"mobile\", \"mobile\", \"mobile\", \"mobile\", \"mobile\", \"mobile\", \"mobile\", \"mobile\", \"model\", \"model\", \"model\", \"model\", \"model\", \"model\", \"model\", \"model\", \"model\", \"model\", \"moduli_space\", \"moduli_spaces\", \"molecular\", \"molecular\", \"molecular\", \"molecular\", \"molecular\", \"molecular\", \"molecular\", \"molecular\", \"molecular\", \"molecule\", \"molecule\", \"molecule\", \"molecule\", \"molecule\", \"monomer\", \"monomer\", \"monomer\", \"moral\", \"motility\", \"mrna\", \"multicellular\", \"multicore\", \"mutant\", \"mutant\", \"mutation\", \"mutation\", \"mutualism\", \"nano\", \"nano\", \"nano\", \"nano\", \"nano\", \"nanoclusters\", \"nanomanufacturing\", \"nanomanufacturing\", \"nanomanufacturing\", \"nanoparticle\", \"nanoparticle\", \"nanoparticle\", \"nanoparticles\", \"nanoparticles\", \"nanoparticles\", \"nanophotonic\", \"nanowire\", \"nanowire\", \"narrative\", \"narrative\", \"narrative\", \"narrative\", \"native_speaker\", \"natural\", \"natural\", \"natural\", \"natural\", \"natural\", \"natural\", \"natural\", \"natural\", \"natural\", \"natural\", \"nees\", \"neighborhood\", \"neighborhood\", \"neighborhood\", \"neighborhood\", \"neighborhood\", \"neighborhood\", \"neighborhood\", \"neighborhood\", \"neighborhood\", \"neighborhood\", \"nervous_system\", \"network\", \"network\", \"network\", \"network\", \"network\", \"network\", \"network\", \"network\", \"network\", \"network\", \"neural\", \"neural\", \"neural\", \"neural\", \"neural\", \"neural\", \"neuron\", \"neuron\", \"neuron\", \"neuron\", \"neuronal\", \"neuronal\", \"neutrino\", \"neutrinos\", \"neutron\", \"neutron\", \"neutron\", \"neutron_star\", \"nlp\", \"nmr\", \"nmr\", \"nmr\", \"nmr\", \"nmr_spectroscopy\", \"nmr_spectroscopy\", \"nmr_spectroscopy\", \"node\", \"node\", \"node\", \"node\", \"node\", \"node\", \"node\", \"node\", \"node\", \"noncommutative\", \"nonlinear\", \"nonlinear\", \"nonlinear\", \"nonlinear\", \"nonlinear\", \"nonlinear\", \"nonlocal\", \"nonlocal\", \"novel\", \"novel\", \"novel\", \"novel\", \"novel\", \"novel\", \"novel\", \"novel\", \"novel\", \"novel\", \"noyce\", \"noyce_scholars\", \"nsf\", \"nsf\", \"nsf\", \"nsf\", \"nsf\", \"nsf\", \"nsf\", \"nsf\", \"nsf\", \"nsf\", \"nsf_eapsi_collaboration\", \"nuclear\", \"nuclear\", \"nuclear\", \"nuclear\", \"nuclear\", \"nuclear\", \"nuclear\", \"nuclear\", \"nuclear\", \"nuclear\", \"nucleon\", \"number\", \"number\", \"number\", \"number\", \"number\", \"number\", \"number\", \"number\", \"number\", \"number\", \"numerical\", \"numerical\", \"numerical\", \"numerical\", \"numerical\", \"numerical\", \"numerical\", \"numerical\", \"numerical\", \"nutrient\", \"nutrient\", \"nutrient\", \"nutrient\", \"object\", \"object\", \"object\", \"object\", \"object\", \"object\", \"object\", \"object\", \"object\", \"observation\", \"observation\", \"observation\", \"observation\", \"observation\", \"observation\", \"observation\", \"observation\", \"observation\", \"observation\", \"observatory\", \"observatory\", \"observatory\", \"observatory\", \"observatory\", \"ocean\", \"ocean\", \"ocean\", \"ocean\", \"ocean\", \"ocean\", \"ocean\", \"oceanic\", \"oceanic\", \"oceanic\", \"open_source\", \"open_source\", \"open_source\", \"open_source\", \"open_source\", \"open_source\", \"open_source\", \"open_source\", \"open_source\", \"open_source\", \"opportunity\", \"opportunity\", \"opportunity\", \"opportunity\", \"opportunity\", \"opportunity\", \"opportunity\", \"opportunity\", \"opportunity\", \"opportunity\", \"optical\", \"optical\", \"optical\", \"optical\", \"optical\", \"optical\", \"optical\", \"optical\", \"organ\", \"organ\", \"organ\", \"organ\", \"organelle\", \"organic\", \"organic\", \"organic\", \"organic\", \"organic\", \"organic\", \"organic\", \"organic_macromolecular\", \"organism\", \"organism\", \"organism\", \"organism\", \"organism\", \"organism\", \"organization\", \"organization\", \"organization\", \"organization\", \"organization\", \"organization\", \"organization\", \"organization\", \"organization\", \"organization\", \"organizer\", \"organizer\", \"organizer\", \"organizer\", \"organizing_committee\", \"organometallic\", \"oxidation\", \"oxidation\", \"oxidation\", \"oxidation\", \"panel_discussion\", \"parallelism\", \"parallelism\", \"parallelism\", \"parallelism\", \"parasite\", \"parasite\", \"partial_differential_equation\", \"participant\", \"participant\", \"participant\", \"participant\", \"participant\", \"participant\", \"participant\", \"participant\", \"participant\", \"participant\", \"participant_observation\", \"participation\", \"participation\", \"participation\", \"participation\", \"participation\", \"participation\", \"participation\", \"participation\", \"participation\", \"participation\", \"particle\", \"particle\", \"particle\", \"particle\", \"particle\", \"particle\", \"particle\", \"pde\", \"pdes\", \"pedagogy\", \"pedagogy\", \"pedagogy\", \"people\", \"people\", \"people\", \"people\", \"people\", \"people\", \"people\", \"people\", \"people\", \"people\", \"perception\", \"perception\", \"perception\", \"perception\", \"perception\", \"perception\", \"perception\", \"perception\", \"performance\", \"performance\", \"performance\", \"performance\", \"performance\", \"performance\", \"performance\", \"performance\", \"performance\", \"performance\", \"pfi_air_technology\", \"phage\", \"phase\", \"phase\", \"phase\", \"phase\", \"phase\", \"phase\", \"phase\", \"phase\", \"phase\", \"phase\", \"phonological\", \"phonon\", \"phonon\", \"phosphorylation\", \"photocatalysts\", \"photocatalytic\", \"photocatalytic\", \"photonic\", \"photonic\", \"photonic_crystal\", \"photophysical\", \"phylogenetic\", \"phylogenetic\", \"phylogenetic\", \"physic\", \"physic\", \"physic\", \"physic\", \"physic\", \"physic\", \"physic\", \"physic\", \"piezoelectric\", \"plant\", \"plant\", \"plant\", \"plant\", \"plant\", \"plant\", \"plant\", \"plant\", \"plant\", \"plant\", \"plate_tectonics\", \"plume\", \"plume\", \"plume\", \"policy\", \"policy\", \"policy\", \"policy\", \"policy\", \"policy\", \"policy\", \"policy\", \"policy\", \"policy\", \"policymakers\", \"policymakers\", \"policymakers\", \"policymakers\", \"policymakers\", \"political\", \"political\", \"politics\", \"pollinator\", \"polyelectrolyte\", \"polymer\", \"polymer\", \"polymer\", \"polymer\", \"polymer\", \"polymeric\", \"polymeric\", \"polymerization\", \"polymerization\", \"polymerization\", \"polynomial\", \"population\", \"population\", \"population\", \"population\", \"population\", \"population\", \"population\", \"population\", \"population\", \"population\", \"poster_presentations\", \"poster_session\", \"poster_sessions\", \"potential\", \"potential\", \"potential\", \"potential\", \"potential\", \"potential\", \"potential\", \"potential\", \"potential\", \"potential\", \"power\", \"power\", \"power\", \"power\", \"power\", \"power\", \"power\", \"power\", \"power\", \"power\", \"practice\", \"practice\", \"practice\", \"practice\", \"practice\", \"practice\", \"practice\", \"practice\", \"practice\", \"practice\", \"pre_service_teachers\", \"precipitation\", \"precipitation\", \"precipitation\", \"precipitation\", \"predation\", \"predator\", \"presenter\", \"prey\", \"prey\", \"prey\", \"primate\", \"primate\", \"primate\", \"primate\", \"printing\", \"printing\", \"privacy\", \"privacy\", \"privacy\", \"privacy_preserving\", \"probability\", \"probability\", \"probability\", \"probability\", \"probability\", \"probability\", \"probability\", \"probability\", \"probability\", \"probability\", \"problem\", \"problem\", \"problem\", \"problem\", \"problem\", \"problem\", \"problem\", \"problem\", \"problem\", \"problem\", \"process\", \"process\", \"process\", \"process\", \"process\", \"process\", \"process\", \"process\", \"process\", \"process\", \"processor\", \"processor\", \"professional\", \"professional\", \"professional\", \"professional\", \"professional\", \"professional\", \"professional\", \"professional\", \"professional\", \"professional\", \"professor\", \"professor\", \"professor\", \"professor\", \"professor\", \"professor\", \"professor\", \"professor\", \"professor\", \"program\", \"program\", \"program\", \"program\", \"program\", \"program\", \"program\", \"program\", \"program\", \"program\", \"programmer\", \"property\", \"property\", \"property\", \"property\", \"property\", \"property\", \"property\", \"property\", \"property\", \"property\", \"propose\", \"propose\", \"propose\", \"propose\", \"propose\", \"propose\", \"propose\", \"propose\", \"propose\", \"propose\", \"protein\", \"protein\", \"protein\", \"protein\", \"proteins\", \"proteins\", \"proteins\", \"protest\", \"psychological\", \"psychological\", \"psychological\", \"public\", \"public\", \"public\", \"public\", \"public\", \"public\", \"public\", \"public\", \"public\", \"public\", \"public_opinion\", \"pulsar\", \"quantum\", \"quantum\", \"quantum\", \"quantum\", \"quantum\", \"quark\", \"quark\", \"quark\", \"quasar\", \"qubit\", \"qubits\", \"query\", \"query\", \"query\", \"query\", \"question\", \"question\", \"question\", \"question\", \"question\", \"question\", \"question\", \"question\", \"question\", \"question\", \"random\", \"random\", \"random\", \"random\", \"random\", \"random\", \"random\", \"random\", \"rate\", \"rate\", \"rate\", \"rate\", \"rate\", \"rate\", \"rate\", \"rate\", \"rate\", \"rate\", \"reaction\", \"reaction\", \"reaction\", \"reaction\", \"reaction\", \"reaction\", \"reaction\", \"reaction\", \"reaction\", \"reaction\", \"reactivity\", \"reactivity\", \"reactivity\", \"real\", \"real\", \"real\", \"real\", \"real\", \"real\", \"real\", \"real\", \"real\", \"real\", \"receptor\", \"receptor\", \"record\", \"record\", \"record\", \"record\", \"record\", \"record\", \"record\", \"record\", \"record\", \"record\", \"redshift\", \"reduce\", \"reduce\", \"reduce\", \"reduce\", \"reduce\", \"reduce\", \"reduce\", \"reduce\", \"reduce\", \"reduce\", \"reef\", \"reef\", \"refugee\", \"region\", \"region\", \"region\", \"region\", \"region\", \"region\", \"region\", \"region\", \"region\", \"region\", \"regularity\", \"regularity\", \"regularity\", \"regulate\", \"regulate\", \"regulate\", \"regulate\", \"regulate\", \"regulate\", \"regulate\", \"regulate\", \"regulate\", \"religion\", \"religious\", \"researcher\", \"researcher\", \"researcher\", \"researcher\", \"researcher\", \"researcher\", \"researcher\", \"researcher\", \"researcher\", \"researcher\", \"resolution\", \"resolution\", \"resolution\", \"resolution\", \"resolution\", \"resolution\", \"resolution\", \"resolution\", \"resolution\", \"resolution\", \"resonator\", \"resource\", \"resource\", \"resource\", \"resource\", \"resource\", \"resource\", \"resource\", \"resource\", \"resource\", \"resource\", \"respondent\", \"response\", \"response\", \"response\", \"response\", \"response\", \"response\", \"response\", \"response\", \"response\", \"response\", \"ret_site\", \"retention_graduation\", \"reu\", \"reu\", \"reu\", \"reu\", \"reu\", \"reu\", \"reu\", \"reu\", \"reu_site\", \"ribosome\", \"risk\", \"risk\", \"risk\", \"risk\", \"risk\", \"risk\", \"risk\", \"risk\", \"risk\", \"risk\", \"rna\", \"rna\", \"rnai\", \"robot\", \"robot\", \"robot\", \"robot\", \"robotic\", \"robotic\", \"robotic\", \"robotic\", \"robotic\", \"robotic\", \"robotic\", \"rock\", \"rock\", \"rock\", \"rock\", \"rock\", \"role\", \"role\", \"role\", \"role\", \"role\", \"role\", \"role\", \"role\", \"role\", \"role\", \"runtime\", \"sample\", \"sample\", \"sample\", \"sample\", \"sample\", \"sample\", \"sample\", \"sample\", \"sample\", \"sample\", \"sanction\", \"scale\", \"scale\", \"scale\", \"scale\", \"scale\", \"scale\", \"scale\", \"scale\", \"scale\", \"scale\", \"scene\", \"scene\", \"scene\", \"scene\", \"scene\", \"scene\", \"scholarship_recipients\", \"scholarships\", \"school\", \"school\", \"school\", \"school\", \"school\", \"school\", \"school\", \"school\", \"school\", \"school\", \"school_district\", \"school_district\", \"school_district\", \"school_district\", \"school_district\", \"school_district\", \"school_district\", \"scientific\", \"scientific\", \"scientific\", \"scientific\", \"scientific\", \"scientific\", \"scientific\", \"scientific\", \"scientific\", \"scientific\", \"scientific_infrastructure_respective\", \"scientist\", \"scientist\", \"scientist\", \"scientist\", \"scientist\", \"scientist\", \"scientist\", \"scientist\", \"scientist\", \"scientist\", \"sdn\", \"sea\", \"sea\", \"sea\", \"sea\", \"sea\", \"sea\", \"sea\", \"sea\", \"sea_ice\", \"seafloor\", \"seafloor\", \"security\", \"security\", \"security\", \"security\", \"security\", \"security\", \"security\", \"security\", \"security\", \"security\", \"sediment\", \"sediment\", \"sediment\", \"sediment\", \"seismic\", \"seismic\", \"seismic\", \"seismic\", \"seismic\", \"seismicity\", \"self_assembly\", \"self_assembly\", \"self_assembly\", \"self_assembly\", \"semi_structured_interviews\", \"semiconductor\", \"semiconductor\", \"semiconductor\", \"sensor\", \"sensor\", \"sensor\", \"sensor\", \"sensor\", \"sensor\", \"sensor\", \"sensor\", \"sensor\", \"sentence\", \"sentence\", \"sentence\", \"separation\", \"separation\", \"separation\", \"separation\", \"separation\", \"separation\", \"separation\", \"separation\", \"separation\", \"separation\", \"sequence\", \"sequence\", \"sequence\", \"sequence\", \"sequence\", \"sequence\", \"sequence\", \"sequence\", \"sequence\", \"sequence\", \"server\", \"server\", \"server\", \"server\", \"server\", \"server\", \"service\", \"service\", \"service\", \"service\", \"service\", \"service\", \"service\", \"service\", \"service\", \"session\", \"session\", \"session\", \"session\", \"session\", \"session\", \"session\", \"session\", \"sfs\", \"sic\", \"signal\", \"signal\", \"signal\", \"signal\", \"signal\", \"signal\", \"signal\", \"signal\", \"signal\", \"signaling_pathways\", \"silicon\", \"silicon\", \"silicon\", \"silicon\", \"single_photon\", \"singularity\", \"skill\", \"skill\", \"skill\", \"skill\", \"skill\", \"skill\", \"skill\", \"skill\", \"skill\", \"skill\", \"sky\", \"sky\", \"sky\", \"small_business_innovation\", \"small_business_innovation\", \"small_business_innovation\", \"smart_cities\", \"social\", \"social\", \"social\", \"social\", \"social\", \"social\", \"social\", \"social\", \"social\", \"social\", \"software\", \"software\", \"software\", \"software\", \"software\", \"software\", \"software\", \"software\", \"software\", \"software\", \"soil\", \"soil\", \"soil\", \"soil\", \"soil\", \"solar\", \"solar\", \"solar\", \"solar\", \"solar\", \"solar\", \"solar\", \"solid\", \"solid\", \"solid\", \"solid\", \"solid\", \"solid\", \"solid\", \"solid\", \"solid\", \"solid\", \"solution\", \"solution\", \"solution\", \"solution\", \"solution\", \"solution\", \"solution\", \"solution\", \"solution\", \"solution\", \"solvation\", \"solvent\", \"solvent\", \"southern_ocean\", \"space\", \"space\", \"space\", \"space\", \"space\", \"space\", \"space\", \"space\", \"space\", \"space\", \"specie\", \"specie\", \"specie\", \"specie\", \"specie\", \"specie\", \"specie\", \"specie\", \"speech\", \"speech\", \"speech\", \"speech_recognition\", \"spin\", \"spin\", \"spin\", \"spin\", \"spin\", \"spintronics\", \"spintronics\", \"star\", \"star\", \"star\", \"star\", \"star\", \"star\", \"star_formation\", \"star_formation\", \"state\", \"state\", \"state\", \"state\", \"state\", \"state\", \"state\", \"state\", \"state\", \"state\", \"statistical\", \"statistical\", \"statistical\", \"statistical\", \"statistical\", \"statistical\", \"statistical\", \"statistical\", \"statistical\", \"statistical\", \"stellar\", \"stellar\", \"stem\", \"stem\", \"stem\", \"stem\", \"stem\", \"stem\", \"stem\", \"stem\", \"stem\", \"stem\", \"stochastic\", \"stochastic\", \"stochastic\", \"stochastic\", \"stochastic\", \"stochastic\", \"stochastic\", \"stochastic\", \"stormwater\", \"string_theory\", \"structure\", \"structure\", \"structure\", \"structure\", \"structure\", \"structure\", \"structure\", \"structure\", \"structure\", \"structure\", \"subduction\", \"subduction_zone\", \"subduction_zones\", \"superconducting\", \"superconducting\", \"superconducting\", \"superconductor\", \"superconductors\", \"superconductors\", \"superconductors\", \"supernova\", \"supernovae\", \"support\", \"support\", \"support\", \"support\", \"support\", \"support\", \"support\", \"support\", \"support\", \"support\", \"supramolecular\", \"surface\", \"surface\", \"surface\", \"surface\", \"surface\", \"surface\", \"surface\", \"surface\", \"surface\", \"surface\", \"surfactant\", \"surfactant\", \"survey\", \"survey\", \"survey\", \"survey\", \"survey\", \"survey\", \"survey\", \"survey\", \"symbiont\", \"symbionts\", \"symmetry\", \"symmetry\", \"symmetry\", \"symmetry\", \"symplectic\", \"symplectic_geometry\", \"symposium\", \"symposium\", \"symposium\", \"symposium\", \"synaptic\", \"synthesis\", \"synthesis\", \"synthesis\", \"synthesis\", \"synthesis\", \"synthesis\", \"synthesis\", \"synthesis\", \"synthesis\", \"synthesis\", \"synthetic\", \"synthetic\", \"synthetic\", \"synthetic\", \"synthetic\", \"synthetic\", \"synthetic\", \"synthetic\", \"synthetic\", \"synthetic\", \"task\", \"task\", \"task\", \"task\", \"task\", \"task\", \"task\", \"task\", \"task\", \"task\", \"taxon\", \"taxon\", \"taxon\", \"taxonomic\", \"taxonomic\", \"teach\", \"teach\", \"teach\", \"teach\", \"teach\", \"teach\", \"teach\", \"teach\", \"teach\", \"teach\", \"teacher\", \"teacher\", \"teacher\", \"teacher\", \"teacher\", \"teacher\", \"teacher\", \"teacher\", \"teacher\", \"teacher\", \"teacher_preparation\", \"technique\", \"technique\", \"technique\", \"technique\", \"technique\", \"technique\", \"technique\", \"technique\", \"technique\", \"technique\", \"technology\", \"technology\", \"technology\", \"technology\", \"technology\", \"technology\", \"technology\", \"technology\", \"technology\", \"technology\", \"tectonic\", \"telescope\", \"telescope\", \"temperature\", \"temperature\", \"temperature\", \"temperature\", \"temperature\", \"temperature\", \"temperature\", \"terahertz\", \"terahertz\", \"test\", \"test\", \"test\", \"test\", \"test\", \"test\", \"test\", \"test\", \"test\", \"test\", \"testbed\", \"testbed\", \"testbed\", \"testbed\", \"testbed\", \"testbed\", \"theorem\", \"theoretical\", \"theoretical\", \"theoretical\", \"theoretical\", \"theoretical\", \"theoretical\", \"theoretical\", \"theoretical\", \"theoretical\", \"theoretical\", \"theory\", \"theory\", \"theory\", \"theory\", \"theory\", \"theory\", \"theory\", \"theory\", \"theory\", \"theory\", \"therapeutic\", \"therapeutic\", \"therapeutic\", \"therapeutic\", \"therapeutic\", \"thermal\", \"thermal\", \"thermal\", \"thermal\", \"thermal\", \"thermal\", \"thermal\", \"thermal\", \"thermoelectric\", \"thermoelectric\", \"thz\", \"time\", \"time\", \"time\", \"time\", \"time\", \"time\", \"time\", \"time\", \"time\", \"time\", \"tissue\", \"tissue\", \"tissue\", \"tissue\", \"tissue\", \"tissue\", \"tissue\", \"tool\", \"tool\", \"tool\", \"tool\", \"tool\", \"tool\", \"tool\", \"tool\", \"tool\", \"tool\", \"topological\", \"topological\", \"topological\", \"topological\", \"topology\", \"topology\", \"topology\", \"topology\", \"topology\", \"topology\", \"traffic\", \"traffic\", \"traffic\", \"traffic\", \"traffic\", \"traffic\", \"traffic\", \"trait\", \"trait\", \"trait\", \"trait\", \"trait\", \"trait\", \"transcription_factors\", \"transcriptional\", \"transistor\", \"transistor\", \"transnational\", \"travel_awards\", \"tree\", \"tree\", \"tree\", \"tree\", \"tree\", \"tree\", \"tropical_forests\", \"tsunami\", \"tsunami\", \"tsunami\", \"tumor\", \"tumor\", \"tumor\", \"tumor\", \"turbine\", \"turbine\", \"turbulence\", \"turbulence\", \"turbulence\", \"turbulence\", \"turbulent\", \"turbulent\", \"turbulent\", \"undergraduate\", \"undergraduate\", \"undergraduate\", \"undergraduate\", \"undergraduate\", \"undergraduate\", \"undergraduate\", \"undergraduate\", \"undergraduate\", \"undergraduate\", \"undergraduates_reu_site\", \"understand\", \"understand\", \"understand\", \"understand\", \"understand\", \"understand\", \"understand\", \"understand\", \"understand\", \"understand\", \"understanding\", \"understanding\", \"understanding\", \"understanding\", \"understanding\", \"understanding\", \"understanding\", \"understanding\", \"understanding\", \"understanding\", \"universe\", \"universe\", \"universe\", \"universe\", \"university\", \"university\", \"university\", \"university\", \"university\", \"university\", \"university\", \"university\", \"university\", \"university\", \"unols\", \"unsupervised\", \"upgrade\", \"upgrade\", \"upgrade\", \"upgrade\", \"upgrade\", \"upgrade\", \"upgrade\", \"upgrade\", \"uplift\", \"upper_mantle\", \"upwelling\", \"urm\", \"urm\", \"urm\", \"user\", \"user\", \"user\", \"user\", \"user\", \"user\", \"user\", \"user\", \"user\", \"user\", \"variability\", \"variability\", \"variability\", \"variability\", \"variability\", \"variability\", \"variability\", \"variability\", \"variability\", \"veritas\", \"vibration\", \"vibration\", \"vibration\", \"vibration\", \"vibration\", \"vibration\", \"violence\", \"viral\", \"viral\", \"viral\", \"viral\", \"viral\", \"virtualization\", \"virus\", \"virus\", \"virus\", \"virus\", \"visual\", \"visual\", \"visual\", \"visual\", \"visual\", \"visual\", \"visual\", \"visual\", \"visual\", \"visual\", \"vitro\", \"vitro\", \"vitro\", \"vivo\", \"vivo\", \"vivo\", \"volcanic\", \"volcanic\", \"volcanic_eruption\", \"volcanism\", \"volcano\", \"voltage\", \"voltage\", \"voltage\", \"voltage\", \"voltage\", \"voter\", \"wafer\", \"war\", \"war\", \"war\", \"war\", \"waste_heat\", \"water\", \"water\", \"water\", \"water\", \"water\", \"water\", \"water\", \"water\", \"water\", \"water\", \"watershed\", \"watershed\", \"watershed\", \"watershed\", \"wave\", \"wave\", \"wave\", \"wave\", \"wave\", \"wave\", \"wave\", \"wave\", \"wave\", \"wave\", \"way\", \"way\", \"way\", \"way\", \"way\", \"way\", \"way\", \"way\", \"way\", \"way\", \"weather\", \"weather\", \"weather\", \"weather\", \"weather\", \"weather\", \"weather\", \"weather\", \"wetland\", \"wetland\", \"wild\", \"wild\", \"wild\", \"wild\", \"wild\", \"wildlife\", \"wildlife\", \"wind\", \"wind\", \"wind\", \"wind\", \"wind\", \"wind\", \"wind\", \"wind\", \"wireless\", \"wireless\", \"word\", \"word\", \"word\", \"word\", \"word\", \"word\", \"word\", \"word\", \"word\", \"word\", \"work\", \"work\", \"work\", \"work\", \"work\", \"work\", \"work\", \"work\", \"work\", \"work\", \"workflow\", \"workflow\", \"workflow\", \"workflow\", \"workflow\", \"workforce\", \"workforce\", \"workforce\", \"workforce\", \"workforce\", \"workforce\", \"workforce\", \"workforce\", \"workforce\", \"workforce\", \"workload\", \"workload\", \"workload\", \"workshop\", \"workshop\", \"workshop\", \"workshop\", \"workshop\", \"workshop\", \"workshop\", \"workshop\", \"workshop\", \"workshop\", \"xsede\", \"year\", \"year\", \"year\", \"year\", \"year\", \"year\", \"year\", \"year\", \"year\", \"year\", \"yeast\", \"yeast\", \"zebrafish\", \"zeolite\"]}, \"R\": 30, \"lambda.step\": 0.01, \"plot.opts\": {\"xlab\": \"PC1\", \"ylab\": \"PC2\"}, \"topic.order\": [10, 4, 7, 8, 6, 5, 3, 9, 1, 2]};\n",
       "\n",
       "function LDAvis_load_lib(url, callback){\n",
       "  var s = document.createElement('script');\n",
       "  s.src = url;\n",
       "  s.async = true;\n",
       "  s.onreadystatechange = s.onload = callback;\n",
       "  s.onerror = function(){console.warn(\"failed to load library \" + url);};\n",
       "  document.getElementsByTagName(\"head\")[0].appendChild(s);\n",
       "}\n",
       "\n",
       "if(typeof(LDAvis) !== \"undefined\"){\n",
       "   // already loaded: just create the visualization\n",
       "   !function(LDAvis){\n",
       "       new LDAvis(\"#\" + \"ldavis_el3186971401067311573286800676213\", ldavis_el3186971401067311573286800676213_data);\n",
       "   }(LDAvis);\n",
       "}else if(typeof define === \"function\" && define.amd){\n",
       "   // require.js is available: use it to load d3/LDAvis\n",
       "   require.config({paths: {d3: \"https://cdnjs.cloudflare.com/ajax/libs/d3/3.5.5/d3.min\"}});\n",
       "   require([\"d3\"], function(d3){\n",
       "      window.d3 = d3;\n",
       "      LDAvis_load_lib(\"https://cdn.rawgit.com/bmabey/pyLDAvis/files/ldavis.v1.0.0.js\", function(){\n",
       "        new LDAvis(\"#\" + \"ldavis_el3186971401067311573286800676213\", ldavis_el3186971401067311573286800676213_data);\n",
       "      });\n",
       "    });\n",
       "}else{\n",
       "    // require.js not available: dynamically load d3 & LDAvis\n",
       "    LDAvis_load_lib(\"https://cdnjs.cloudflare.com/ajax/libs/d3/3.5.5/d3.min.js\", function(){\n",
       "         LDAvis_load_lib(\"https://cdn.rawgit.com/bmabey/pyLDAvis/files/ldavis.v1.0.0.js\", function(){\n",
       "                 new LDAvis(\"#\" + \"ldavis_el3186971401067311573286800676213\", ldavis_el3186971401067311573286800676213_data);\n",
       "            })\n",
       "         });\n",
       "}\n",
       "</script>"
      ],
      "text/plain": [
       "<IPython.core.display.HTML object>"
      ]
     },
     "execution_count": 26,
     "metadata": {},
     "output_type": "execute_result"
    }
   ],
   "source": [
    "pyLDAvis.display(vis)"
   ]
  },
  {
   "cell_type": "code",
   "execution_count": null,
   "metadata": {},
   "outputs": [],
   "source": []
  },
  {
   "cell_type": "code",
   "execution_count": null,
   "metadata": {},
   "outputs": [],
   "source": []
  },
  {
   "cell_type": "code",
   "execution_count": null,
   "metadata": {},
   "outputs": [],
   "source": []
  },
  {
   "cell_type": "markdown",
   "metadata": {},
   "source": [
    "# Extra"
   ]
  },
  {
   "cell_type": "code",
   "execution_count": 22,
   "metadata": {},
   "outputs": [
    {
     "data": {
      "text/plain": [
       "\"The Binding Principles, perhaps the most well studied principles in human language, state where in a sentence nominals (e.g., pronouns, common and proper nouns, etc.) may occur, and what they may/may not refer to. Many prominent researchers argue that these principles are part of our innate linguistic endowment because (i) they occur in the vast majority of languages for which we have data, and (ii) children in every language studied to date exhibit them at the very earliest testable ages. This argument for innateness is threatened somewhat by the existence of a handful of languages, e.g., Thai, in which the Binding Principles appear not to hold. If these principles are innate, exceptional languages like Thai should not exist.So why don't Thai speakers obey the Binding Principles? Thai children hold the answer to this puzzle: if Thai children, unlike Thai adults, exhibit knowledge of the Binding Principles at young ages, this will show that the principles are indeed part of our innate linguistic endowment, and that as children mature, they 'unlearn' these principles on the basis of adult input. However, if Thai children show no evidence of the Binding Principles at any stage in development, this will suggest that the principles are not innate. If this is the case, children acquiring other languages (e.g., English) do not have access to these innate principles, and must simply learn them on the basis of experience and other (non-linguistic) mechanisms. This project will test 80 Thai children aged 3yrs-7yrs and 20 adult Thai speakers on six experiments, each targeting a different aspect of the Binding Principles. The project will not only address one of the biggest debates in cognitive science (nature versus nurture), but it will also gather data from an understudied language, as well as establish and foster relations between academic institutions in Thailand and the United States. Moreover, this work will lay the foundation for the development of standards for the acquisition of Thai that may be used for Speech Pathology or educational assessment purposes.\""
      ]
     },
     "execution_count": 22,
     "metadata": {},
     "output_type": "execute_result"
    }
   ],
   "source": [
    "df[wa][df.index[85]]"
   ]
  },
  {
   "cell_type": "code",
   "execution_count": 47,
   "metadata": {},
   "outputs": [
    {
     "name": "stdout",
     "output_type": "stream",
     "text": [
      "Int64Index([  2092,   3426,  19034,  21230,  59567,  65718,  68023,  71888,\n",
      "             72340,  74398,  78863,  79951,  81310,  82095,  86570,  86697,\n",
      "             86711, 119532, 120315, 127869, 129676, 129802, 131347, 132781,\n",
      "            133844, 135499, 135998, 136003, 139060, 139160, 143584, 144645,\n",
      "            157973, 165423, 169447, 180384, 184253, 185084, 185092, 185098,\n",
      "            185691, 186274, 191274, 199161, 203579, 224518, 227375, 228513,\n",
      "            234759, 248680, 255542, 276938, 282493, 296911, 301320, 322930,\n",
      "            382249, 396939, 419241, 437579, 440221, 452087, 458490, 461743,\n",
      "            462559, 480348, 488423, 491838, 492152, 498100, 501368, 510759,\n",
      "            510777, 512436, 512786, 513131, 515244, 516575, 522046, 529835,\n",
      "            537868, 538062, 538863],\n",
      "           dtype='int64')\n",
      "observe a strong surface brightness discontinuity, most likely a cold front, in the outskirts of M87\n",
      "ntation goes beyond the original projcct and its first supplement in two ways: results from the 2007\n",
      "g body of evidence that infectious agents play a role inthe development of autoimmunity inman. $ R37\n",
      " associated proteins in the inner ear is necessary to design therapies for hearing loss (e.g. PHL).7\n",
      "organization, city, state)The University of Texas M. D. Anderson Cancer CenterHouston, TexasPage 157\n",
      "inistration of the program project.246Lemke, Greg E. CoreB ANALYTICAL COREDennis D.M. O'Leary, PI247\n",
      "d to as theCancer Clinical Trials Office (CCTO).sity, Stanford, CAPHS 398/2590 (Rev. 09/04) Page 847\n",
      ": Articles provided in the Appendix are indicated by a letter in curly brackets (e.g., {A}).Page 147\n",
      "ly participate in DNA synthesis and arePHS 398/2590 (Rev. 09/04) Page Continuation Format Page000137\n",
      "S FOR INITIAL BUDGET PERIOD $ 89,404SBIR/STTR Only: FEE REQUESTEDPHS 398 (Rev. 09/04) Form Page 4397\n",
      " technique into medical and biological imaging.Project Start:  01-SEP-2004 Project End:  31-AUG-2007\n",
      " 2007Guest Speaker, Div of Hemostasis and Thrombosis, Harvard Medical School Cambridge, MA June 2007\n",
      "eatment of upper airway and endobronchial airway injury will have been demonstrated.  IACUC2002-2397\n",
      "or the Center, which is not necessarily the institution for the investigator.Dissemination 2006-2007\n",
      "vidence of policy-relevant strategies.    OVERALL CENTER   PRINCIPAL INVESTIGATOR:  LEE  SCORE:  207\n",
      "ileName MimeType6423-Mandatory_ProjectNarrativePBC.pdf application/pdfTracking Number: GRANT00426567\n",
      ")FileName MimeType5155-Mandatory_Project_Narrative.pdf application/pdfTracking Number: GRANT00427077\n",
      "r methods will be implemented in a user-friendly software toolbox with anonymized data provided.  37\n",
      "ty in the patients suffering from End Stage Kidney Failure. Public Health Relevance Statement Page 7\n",
      " of cultural awareness and cultural competence on the part of manyinvestigators and research staff.7\n",
      "ico borderregion, and have applicability to other resource-poor countries.Project Description Page 7\n",
      "on and apply thisknowledge to the development and testing of HIV vaccines.Project Description Page 7\n",
      "al concerns and generalize to other areas of communication in health care.Project Description Page 7\n",
      "ospective trial is planned for FDA approval of the SIM PhyzioType product.Project Description Page 7\n",
      "ls on a regular basis and adjust treatment accordingly as directed by theirhealth professional.V^^*7\n",
      "s in humans infected by filarial nematodes that harbor the Wolbachia symbionts.Grant ID: MCB-0604177\n",
      " Additional support for this project comes from Dr. Abosch's grants and Dr. Vaughan's   NIH EB007327\n",
      "n ultra-high field human imaging.  Some support for this study is coming from Vaughan's NIH EB007327\n",
      "B. \t  Institution: WAKE FOREST UNIVERSITY HEALTH SCIENCES MEDICAL CENTER BLVDWINSTON-SALEM, NC 27157\n",
      " for pain and identify noveltargets for the development of new analgesics.Project Description Page 7\n",
      "ble to stakeholders through the project website: http://nimss.umd.edu/homepages/home.cfmtrackID=9457\n",
      "ell Anemia Sub-Phenotypes  2009(B). Endothelial dysfunction in primary pulmonary hypertension - 2007\n",
      "SAP Purchase Requisition: 4200334727\n",
      "CTMI. Hence this proposal in ideal for PA-08-114 program.   Public Health Relevance Statement Page 7\n",
      "terventions that will ultimately improve the quality of life for cancer survivors treated with RT. 7\n",
      "ion, andrecovery in both children and adults with severe thermal injuries.Project Description Page 7\n",
      "e size of 80 - 120 mg, and begin treatmentBody Weight: days 1,3, 4, 7Caliper Measurement: days 1,4,7\n",
      "nge by simian-human immunodeficiency virus SHIVBa-L. J Virol. 2010 Feb;84(3):1302-13. PMID: 19906907\n",
      "s (Callithrix jacchus). Psychoneuroendocrinology. 2009 Apr 10. [Epub ahead of print ] PMID: 19362777\n",
      "s (Callithrix jacchus). Psychoneuroendocrinology. 2009 Apr 10. [Epub ahead of print ] PMID: 19362777\n",
      " infection.  Proc Natl Acad Sci U S A. 2009 Jun 16;106(24):9791-6. Epub 2009 May 28.  PMID: 19478057\n",
      "nt Practices 1. Quality Management System 2. Staffing Management 3. Monitoring Work FlowPage 1 of 37\n",
      "ation about the investigation can be found at ClinicalTrials.gov with study identifier:  NCT01019967\n",
      "nteraction (the MHD model of Ma et al. [2006] and the hybrid kinetic model of Sillanpaa et al. [2007\n",
      "The X-ray Absorber in the X-ray Transient NLS1 WPVS 007\n",
      "for the Evolution of Self-Recognition 2010; 5(9): e12865. E-pub 2010 September 29. PMCID: PMC2947497\n",
      " Additional support for this project comes from Dr. Abosch's grants and Dr. Vaughan's   NIH EB007327\n",
      "n ultra-high field human imaging.  Some support for this study is coming from Vaughan's NIH EB007327\n",
      "ation about the investigation can be found at ClinicalTrials.gov with study identifier:  NCT01019967\n",
      "o an RNA associated with disease and modulate its function. Public Health Relevance Statement Page 7\n",
      "ts, our findings will serve the federal health goals of pharmacovigilance formarketed medications.17\n",
      " into the academic offerings of the Department of AppliedMedical Sciences.Project Description Page 7\n",
      "ove or inhibit these processes, and enable drug design and the development of implantable devices.17\n",
      "ncy outcomes and which patterns are predictive of pregnancy complications.Project Description Page 7\n",
      "pics in Early Childhood Special Education. Advance online publication. doi: 10.1177/0271121415594797\n",
      "ight facilitate the early life use of prevention efforts t decrease the risk for alcohol problems.47\n",
      "sit the following website: http://ots.ac.cr/index.php?option=com_content&task=view&id=321&Itemid=447\n",
      "inical development of the lead BAscompounds will be made accordingly.Project Summary/Abstract Page 7\n",
      " as well as many other diseases such as Alzheimer's and attention deficit hyperactivity disorder. 37\n",
      "g studies: NCT00942981, NCT00001258, NCT00024622, NCT00004571, NCT00001247, NCT00044083, NCT00057707\n",
      "ed award will help her become a successfulindependent clinician scientist.Project Description Page 7\n",
      "ed drivers, moderate their driving behaviors under variable driving conditions? SUPPORTS Z1AHD001707\n",
      "diatrician scientist from 1990-2011. J Pediatr 2012. 161:975. PMID 23171484References Cited Page 357\n",
      "g studies: NCT00942981, NCT00001258, NCT00024622, NCT00004571, NCT00001247, NCT00044083, NCT00057707\n",
      "ical research: a progress report. Nat Med 2000 Nov;6:1201-4. PMID:11062519References Cited Page 1497\n",
      "CT00942981, NCT00001258, NCT00024622, NCT00004571, NCT00001247,NCT00001486, NCT00044083, NCT00057707\n",
      "at multiple time points between baseline and finaloutcome assessment.Project Summary/Abstract Page 7\n",
      "Conference planning and administrative services for the PDBP Consortium Meeting 2017\n",
      "cer stem cells in NB xenografts. These studies were published in Clin. Cancer Res. 23:1771-1784,2017\n",
      "nuscript in press). A follow up meeting of the CBTC membership is planned at NIH on Sept 18-19, 2017\n",
      "lay members representing community interests, and at least one!Facilities & Other Resources Page 357\n",
      "ized Lab Water System                        $7,4452)Two (2) Water Sampling Carousel Frames   $9,017\n",
      "port Equipment requested in this proposal includes:1)Dynamic Positioning (DP) System Upgrade$204,787\n",
      "n can be found at the conference website: http://www-users.math.umn.edu/~cberkesc/localCohomConf2017\n",
      "and abstracts, and registration information, can be found at https://www.math.ucdavis.edu/bayopt2017\n",
      "ge:http://www-cgi.uni-regensburg.de/Fakultaeten/MAT/sfb-higher-invariants/index.php/SpringSchool2017\n",
      "Appropriated; RI; 125218 Exterior Ladders - Phase 2 -Buildings 434, 550, 560, 567\n",
      "abstract 11/30/2017\n",
      "terferences with Luciferase Reporter Enzymes 01 Jul 2018Assay Operations for SAR Support 20 Nov 2017\n",
      "cal recurrent artificial neural networks. Joint data collection at the two high-volume DBS centers37\n",
      "insight into the role of the Ton complex in energy transduction. Nature 538:60-65. PMCID: PMC5161667\n",
      "he link to roles of estrogen receptor in the gender disparity for AD.Project Summary/Abstract Page 7\n",
      "CT00942981, NCT00001258, NCT00024622, NCT00004571, NCT00001247,NCT00001486, NCT00044083, NCT00057707\n"
     ]
    }
   ],
   "source": [
    "docs = df[wa][df['LAST_CHAR'] == '7']\n",
    "print((df[wa][df['LAST_CHAR'] == '7']).index)\n",
    "\n",
    "for d in docs:\n",
    "    print(d[-100:])"
   ]
  },
  {
   "cell_type": "code",
   "execution_count": 51,
   "metadata": {},
   "outputs": [
    {
     "data": {
      "text/plain": [
       "\"one page and must contain a summary of the proposed activity suitable for dissemination to thepublic. It should be a self-contained description of the project and should contain a statement of objectives and methods to be employed.It should be informative to other persons working in the same or related fields and insofar as possible understandable to a technically liter-ate lay reader. This Abstract must not include any proprietary/confidential information.* Please click the add attachment button to complete this entry.3145-AbstractPBC.pdfTracking Number: GRANT00426567AttachmentsProjectAbstractAddAttachmentFile Name Mime Type3145-AbstractPBC.pdf application/pdfTracking Number: GRANT00426567 Pacific Basin Consortium ConferenceTopic NCEH 500.5 - International Environmental Health Abstract th The Pacific Basin Consortium for Environment and Health will hold its 13 InternationalConference, `Environmental Exposures in the Era of Climate Change', October 12-16, 2009 inPerth, Australia. Objectives of the conference are to: (1) present research related tocharacterization and sources of environmental pollutants, human exposure to pollutants, and thehealth effects of exposure; (2) describe the latest advances in reducing the generation ofhazardous chemical pollutants, methods for destroying or capturing them, and technology for theremediation of contaminated soils and groundwater; (3) increase interdisciplinary andinternational cooperation in understanding and addressing threats to human and environmentalhealth in the region; (4) situate discussions of reducing risks to human and environmental healthwithin a larger context which addresses issues of equity, poverty, development andsustainability; (5) encourage student and young scientist participation; and, (6) offer trainingopportunities in areas related to protection of health and the environment. Specific topic areasexpected to be covered in plenary sessions, technical sessions and an ongoing poster session atthe conference include: health effects of persistent organic pollutants in the environment;genotoxic effects of contaminants; metals: sources and health effects; mining: exposures, healtheffects and remediation; water conservation, recycling and remediation; hazardous wastemanagement and health; indoor and outdoor air pollution and health; children's environmentalhealth; water pollution and health; bioremediation; and environmental health and vulnerablepopulations. It is increasingly apparent that environmental pollutants are not contained within nationalborders and that it is only through international and interdisciplinary efforts that people can hopeto understand and ultimately address the dangerous and complex problems associated withhazardous substances in the environment. The PBC is uniquely positioned to bring togethergeographically and professionally diverse people to share research and address environmentalhealth problems in the region, and indeed has successfully done so for more than 20 years. ThePBC's biannual conference is an excellent venue to share the latest research on environmentalhealth challenges and develop the collaborative efforts needed to succeed in finding effective,affordable solutions.Project Narrative File(s)FileName MimeType6423-Mandatory_ProjectNarrativePBC.pdf application/pdfTracking Number: GRANT00426567\""
      ]
     },
     "execution_count": 51,
     "metadata": {},
     "output_type": "execute_result"
    }
   ],
   "source": [
    "df[wa][86697]"
   ]
  },
  {
   "cell_type": "code",
   "execution_count": 52,
   "metadata": {},
   "outputs": [
    {
     "name": "stdout",
     "output_type": "stream",
     "text": [
      "['one', 'page', 'and', 'must', 'contain', 'summary', 'the', 'proposed', 'activity', 'suitable', 'for', 'dissemination', 'thepublic', 'should', 'self', 'contained', 'description', 'the', 'project', 'and', 'should', 'contain', 'statement', 'objectives', 'and', 'methods', 'employed', 'should', 'informative', 'other', 'persons', 'working', 'the', 'same', 'related', 'fields', 'and', 'insofar', 'possible', 'understandable', 'technically', 'liter', 'ate', 'lay', 'reader', 'this', 'abstract', 'must', 'not', 'include', 'any', 'proprietary', 'confidential', 'information', 'please', 'click', 'the', 'add', 'attachment', 'button', 'complete', 'this', 'entry', 'abstractpbc', 'pdftracking', 'number', 'grant', 'name', 'mime', 'type', 'abstractpbc', 'pdf', 'application', 'pdftracking', 'number', 'grant', 'pacific', 'basin', 'consortium', 'conferencetopic', 'nceh', 'international', 'environmental', 'health', 'abstract', 'the', 'pacific', 'basin', 'consortium', 'for', 'environment', 'and', 'health', 'will', 'hold', 'its', 'environmental', 'exposures', 'the', 'era', 'climate', 'change', 'october', 'inperth', 'australia', 'objectives', 'the', 'conference', 'are', 'present', 'research', 'related', 'and', 'sources', 'environmental', 'pollutants', 'human', 'exposure', 'pollutants', 'and', 'thehealth', 'effects', 'exposure', 'describe', 'the', 'latest', 'advances', 'reducing', 'the', 'generation', 'ofhazardous', 'chemical', 'pollutants', 'methods', 'for', 'destroying', 'capturing', 'them', 'and', 'technology', 'for', 'theremediation', 'contaminated', 'soils', 'and', 'groundwater', 'increase', 'cooperation', 'understanding', 'and', 'addressing', 'threats', 'human', 'and', 'the', 'region', 'situate', 'discussions', 'reducing', 'risks', 'human', 'and', 'environmental', 'healthwithin', 'larger', 'context', 'which', 'addresses', 'issues', 'equity', 'poverty', 'development', 'encourage', 'student', 'and', 'young', 'scientist', 'participation', 'and', 'offer', 'areas', 'related', 'protection', 'health', 'and', 'the', 'environment', 'specific', 'topic', 'areasexpected', 'covered', 'plenary', 'sessions', 'technical', 'sessions', 'and', 'ongoing', 'poster', 'session', 'atthe', 'conference', 'include', 'health', 'effects', 'persistent', 'organic', 'pollutants', 'the', 'environment', 'genotoxic', 'effects', 'contaminants', 'metals', 'sources', 'and', 'health', 'effects', 'mining', 'exposures', 'healtheffects', 'and', 'remediation', 'water', 'conservation', 'recycling', 'and', 'remediation', 'hazardous', 'wastemanagement', 'and', 'health', 'indoor', 'and', 'outdoor', 'air', 'pollution', 'and', 'health', 'children', 'water', 'pollution', 'and', 'health', 'bioremediation', 'and', 'environmental', 'health', 'and', 'increasingly', 'apparent', 'that', 'environmental', 'pollutants', 'are', 'not', 'contained', 'within', 'nationalborders', 'and', 'that', 'only', 'through', 'international', 'and', 'efforts', 'that', 'people', 'can', 'hopeto', 'understand', 'and', 'ultimately', 'address', 'the', 'dangerous', 'and', 'complex', 'problems', 'associated', 'withhazardous', 'substances', 'the', 'environment', 'the', 'pbc', 'uniquely', 'positioned', 'bring', 'and', 'professionally', 'diverse', 'people', 'share', 'research', 'and', 'address', 'problems', 'the', 'region', 'and', 'indeed', 'has', 'successfully', 'done', 'for', 'more', 'than', 'years', 'thepbc', 'biannual', 'conference', 'excellent', 'venue', 'share', 'the', 'latest', 'research', 'challenges', 'and', 'develop', 'the', 'collaborative', 'efforts', 'needed', 'succeed', 'finding', 'effective', 'affordable', 'solutions', 'project', 'narrative', 'file', 'filename', 'mimetype', 'pdf', 'application', 'pdftracking', 'number', 'grant']\n"
     ]
    }
   ],
   "source": [
    "print(tokened_text[86696])"
   ]
  },
  {
   "cell_type": "code",
   "execution_count": 51,
   "metadata": {},
   "outputs": [
    {
     "name": "stdout",
     "output_type": "stream",
     "text": [
      "25\n"
     ]
    }
   ],
   "source": [
    "st_str = 'one page and must contain a summary of the proposed activity suitable for dissemination to thepublic. It should be a self-contained description of the project and should contain a statement of objectives and methods to be employed.It should be informative to other persons working in the same or related fields and insofar as possible understandable to a technically liter-ate lay reader. This Abstract must not include any proprietary/confidential information.* Please click the add attachment button to complete this entry.'\n",
    "\n",
    "count = 0\n",
    "for abstract in df[wa]:\n",
    "    if abstract.startswith(st_str):\n",
    "        count = count + 1\n",
    "        \n",
    "print(count)\n",
    "\n"
   ]
  },
  {
   "cell_type": "code",
   "execution_count": 38,
   "metadata": {},
   "outputs": [
    {
     "data": {
      "text/plain": [
       "['the', 'dog', 'was', 'named', 'bond']"
      ]
     },
     "execution_count": 38,
     "metadata": {},
     "output_type": "execute_result"
    }
   ],
   "source": [
    "gensim.utils.simple_preprocess(\"The dog was 3 named Bond007.\", deacc=True,min_len=3, max_len=25)"
   ]
  },
  {
   "cell_type": "markdown",
   "metadata": {},
   "source": [
    "### Trying to find more stop words"
   ]
  },
  {
   "cell_type": "code",
   "execution_count": 44,
   "metadata": {},
   "outputs": [],
   "source": [
    "all_tokens = list()\n",
    "\n",
    "for tokens in nostop_test_data:\n",
    "    all_tokens.extend(tokens)\n"
   ]
  },
  {
   "cell_type": "code",
   "execution_count": 45,
   "metadata": {},
   "outputs": [],
   "source": [
    "# potential stop words - check list by hand \n",
    "\n",
    "from collections import Counter\n",
    "\n",
    "c = Counter(all_tokens)"
   ]
  },
  {
   "cell_type": "code",
   "execution_count": 46,
   "metadata": {},
   "outputs": [
    {
     "data": {
      "text/plain": [
       "[('research', 306901),\n",
       " ('project', 240559),\n",
       " ('students', 162546),\n",
       " ('new', 125131),\n",
       " ('data', 116395),\n",
       " ('science', 91710),\n",
       " ('high', 85110),\n",
       " ('also', 81521),\n",
       " ('systems', 76009),\n",
       " ('program', 72214),\n",
       " ('development', 72168),\n",
       " ('understanding', 71678),\n",
       " ('provide', 69660),\n",
       " ('based', 67747),\n",
       " ('study', 67266),\n",
       " ('work', 63135),\n",
       " ('university', 62758),\n",
       " ('use', 61694),\n",
       " ('materials', 61667),\n",
       " ('engineering', 57672),\n",
       " ('well', 56294),\n",
       " ('develop', 56023),\n",
       " ('using', 55433),\n",
       " ('used', 55174),\n",
       " ('graduate', 54321),\n",
       " ('system', 52730),\n",
       " ('design', 51427),\n",
       " ('undergraduate', 50620),\n",
       " ('education', 50025),\n",
       " ('methods', 49685),\n",
       " ('two', 49232),\n",
       " ('models', 48913),\n",
       " ('time', 47571),\n",
       " ('energy', 47545),\n",
       " ('one', 47170),\n",
       " ('including', 47078),\n",
       " ('impact', 46749),\n",
       " ('information', 46580),\n",
       " ('applications', 46284),\n",
       " ('model', 46279),\n",
       " ('important', 46232),\n",
       " ('technology', 45772),\n",
       " ('proposed', 45600),\n",
       " ('community', 44642),\n",
       " ('results', 44480),\n",
       " ('field', 44466),\n",
       " ('analysis', 44438),\n",
       " ('support', 43894),\n",
       " ('learning', 43716),\n",
       " ('researchers', 42935),\n",
       " ('large', 42927),\n",
       " ('many', 42717),\n",
       " ('scientific', 40816),\n",
       " ('state', 40686),\n",
       " ('training', 40497),\n",
       " ('stem', 40247),\n",
       " ('theory', 38282),\n",
       " ('potential', 37658),\n",
       " ('studies', 36875),\n",
       " ('properties', 36775),\n",
       " ('include', 36657),\n",
       " ('school', 36426),\n",
       " ('processes', 36079),\n",
       " ('broader', 35858),\n",
       " ('student', 35808),\n",
       " ('techniques', 35499),\n",
       " ('different', 35420),\n",
       " ('developed', 35176),\n",
       " ('activities', 35056),\n",
       " ('knowledge', 32851),\n",
       " ('public', 32632),\n",
       " ('may', 32247),\n",
       " ('goal', 31690),\n",
       " ('scale', 31655),\n",
       " ('first', 31587),\n",
       " ('approach', 31539),\n",
       " ('award', 31344),\n",
       " ('groups', 31335),\n",
       " ('problems', 31332),\n",
       " ('social', 31074),\n",
       " ('fundamental', 30854),\n",
       " ('tools', 30614),\n",
       " ('water', 30384),\n",
       " ('structure', 30258),\n",
       " ('control', 30168),\n",
       " ('process', 29705),\n",
       " ('novel', 29555),\n",
       " ('computational', 28868),\n",
       " ('network', 28828),\n",
       " ('three', 28659),\n",
       " ('impacts', 28650),\n",
       " ('physics', 28505),\n",
       " ('within', 28063),\n",
       " ('scientists', 27741),\n",
       " ('level', 27465),\n",
       " ('human', 27462),\n",
       " ('future', 27246),\n",
       " ('complex', 27183),\n",
       " ('areas', 27123),\n",
       " ('performance', 27055)]"
      ]
     },
     "execution_count": 46,
     "metadata": {},
     "output_type": "execute_result"
    }
   ],
   "source": [
    "c.most_common(100)"
   ]
  },
  {
   "cell_type": "code",
   "execution_count": 47,
   "metadata": {},
   "outputs": [
    {
     "data": {
      "text/plain": [
       "20965"
      ]
     },
     "execution_count": 47,
     "metadata": {},
     "output_type": "execute_result"
    }
   ],
   "source": [
    "c['technical']"
   ]
  },
  {
   "cell_type": "code",
   "execution_count": 48,
   "metadata": {},
   "outputs": [
    {
     "data": {
      "text/plain": [
       "[('nianet', 1),\n",
       " ('righted', 1),\n",
       " ('ausreptheory', 1),\n",
       " ('midreptheory', 1),\n",
       " ('dataresearch', 1),\n",
       " ('subsequentworkshops', 1),\n",
       " ('bdv', 1),\n",
       " ('pegylating', 1),\n",
       " ('qingzhu', 1),\n",
       " ('calaboose', 1),\n",
       " ('bather', 1),\n",
       " ('utsap', 1),\n",
       " ('txhsic', 1),\n",
       " ('gameworld', 1),\n",
       " ('biostimulants', 1),\n",
       " ('uguin', 1),\n",
       " ('azschool', 1),\n",
       " ('mathphys', 1),\n",
       " ('anoklase', 1),\n",
       " ('lnmo', 1),\n",
       " ('wholesaling', 1),\n",
       " ('fowa', 1),\n",
       " ('rrdv', 1),\n",
       " ('sulfinate', 1),\n",
       " ('reductionthe', 1),\n",
       " ('nonnutritive', 1),\n",
       " ('djs', 1),\n",
       " ('rainbelts', 1),\n",
       " ('sgoc', 1),\n",
       " ('esss', 1),\n",
       " ('algortihm', 1),\n",
       " ('convolves', 1),\n",
       " ('ectosymbiont', 1),\n",
       " ('hypermastigote', 1),\n",
       " ('hypermastigotes', 1),\n",
       " ('nwconference', 1),\n",
       " ('pausader', 1),\n",
       " ('achievementsthis', 1),\n",
       " ('akaigawa', 1),\n",
       " ('antiguo', 1),\n",
       " ('caballeros', 1),\n",
       " ('nata', 1),\n",
       " ('glazes', 1),\n",
       " ('tica', 1),\n",
       " ('cnico', 1),\n",
       " ('polit', 1),\n",
       " ('unmtemps', 1),\n",
       " ('bartrami', 1),\n",
       " ('strymon', 1),\n",
       " ('hairstreak', 1),\n",
       " ('bartram', 1),\n",
       " ('skarn', 1),\n",
       " ('feud', 1),\n",
       " ('gameshow', 1),\n",
       " ('triploblastic', 1),\n",
       " ('trifunctional', 1),\n",
       " ('prebilaterians', 1),\n",
       " ('nematostellla', 1),\n",
       " ('trifluoromethylations', 1),\n",
       " ('conzo', 1),\n",
       " ('firon', 1),\n",
       " ('hydrozincation', 1),\n",
       " ('hydromagnesiation', 1),\n",
       " ('hydrometallation', 1),\n",
       " ('nephrological', 1),\n",
       " ('nippe', 1),\n",
       " ('subgeometries', 1),\n",
       " ('bullseye', 1),\n",
       " ('lxr', 1),\n",
       " ('nejcs', 1),\n",
       " ('esweber', 1),\n",
       " ('acca', 1),\n",
       " ('ttrogdon', 1),\n",
       " ('humathbio', 1),\n",
       " ('elekes', 1),\n",
       " ('addressesed', 1),\n",
       " ('nicadd', 1),\n",
       " ('stefani', 1),\n",
       " ('linquan', 1),\n",
       " ('blekherman', 1),\n",
       " ('nerr', 1),\n",
       " ('copano', 1),\n",
       " ('anuj', 1),\n",
       " ('linturbulent', 1),\n",
       " ('semicentennial', 1),\n",
       " ('mccme', 1),\n",
       " ('consort', 1),\n",
       " ('leelavati', 1),\n",
       " ('bigke', 1),\n",
       " ('inadvancing', 1),\n",
       " ('itfocuses', 1),\n",
       " ('relatedscientific', 1),\n",
       " ('nwrs', 1),\n",
       " ('circled', 1),\n",
       " ('vibra', 1),\n",
       " ('athropocene', 1),\n",
       " ('technik', 1),\n",
       " ('polystability', 1),\n",
       " ('systematizers', 1),\n",
       " ('mwd', 1)]"
      ]
     },
     "execution_count": 48,
     "metadata": {},
     "output_type": "execute_result"
    }
   ],
   "source": [
    "# n least common elements\n",
    "\n",
    "c.most_common()[:-100-1:-1] "
   ]
  },
  {
   "cell_type": "code",
   "execution_count": null,
   "metadata": {},
   "outputs": [],
   "source": []
  },
  {
   "cell_type": "code",
   "execution_count": null,
   "metadata": {},
   "outputs": [],
   "source": []
  },
  {
   "cell_type": "code",
   "execution_count": null,
   "metadata": {},
   "outputs": [],
   "source": []
  },
  {
   "cell_type": "code",
   "execution_count": 66,
   "metadata": {},
   "outputs": [
    {
     "ename": "TypeError",
     "evalue": "this type has no size",
     "output_type": "error",
     "traceback": [
      "\u001b[0;31m---------------------------------------------------------------------------\u001b[0m",
      "\u001b[0;31mTypeError\u001b[0m                                 Traceback (most recent call last)",
      "\u001b[0;32m<ipython-input-66-dcd8e9cb8a1b>\u001b[0m in \u001b[0;36m<module>\u001b[0;34m()\u001b[0m\n\u001b[1;32m     61\u001b[0m \u001b[0;34m\u001b[0m\u001b[0m\n\u001b[1;32m     62\u001b[0m \u001b[0;31m# creating Array of string data type with space for 4 integers\u001b[0m\u001b[0;34m\u001b[0m\u001b[0;34m\u001b[0m\u001b[0m\n\u001b[0;32m---> 63\u001b[0;31m \u001b[0mdocs\u001b[0m \u001b[0;34m=\u001b[0m \u001b[0mmultiprocessing\u001b[0m\u001b[0;34m.\u001b[0m\u001b[0mArray\u001b[0m\u001b[0;34m(\u001b[0m\u001b[0;34m'POINTER(c_char)'\u001b[0m\u001b[0;34m,\u001b[0m\u001b[0;36m2\u001b[0m\u001b[0;34m)\u001b[0m\u001b[0;34m\u001b[0m\u001b[0m\n\u001b[0m\u001b[1;32m     64\u001b[0m \u001b[0;34m\u001b[0m\u001b[0m\n\u001b[1;32m     65\u001b[0m \u001b[0;34m\u001b[0m\u001b[0m\n",
      "\u001b[0;32m/apps/software/standard/core/anaconda/5.2.0-py3.6/lib/python3.6/multiprocessing/context.py\u001b[0m in \u001b[0;36mArray\u001b[0;34m(self, typecode_or_type, size_or_initializer, lock)\u001b[0m\n\u001b[1;32m    139\u001b[0m         \u001b[0;32mfrom\u001b[0m \u001b[0;34m.\u001b[0m\u001b[0msharedctypes\u001b[0m \u001b[0;32mimport\u001b[0m \u001b[0mArray\u001b[0m\u001b[0;34m\u001b[0m\u001b[0m\n\u001b[1;32m    140\u001b[0m         return Array(typecode_or_type, size_or_initializer, lock=lock,\n\u001b[0;32m--> 141\u001b[0;31m                      ctx=self.get_context())\n\u001b[0m\u001b[1;32m    142\u001b[0m \u001b[0;34m\u001b[0m\u001b[0m\n\u001b[1;32m    143\u001b[0m     \u001b[0;32mdef\u001b[0m \u001b[0mfreeze_support\u001b[0m\u001b[0;34m(\u001b[0m\u001b[0mself\u001b[0m\u001b[0;34m)\u001b[0m\u001b[0;34m:\u001b[0m\u001b[0;34m\u001b[0m\u001b[0m\n",
      "\u001b[0;32m/apps/software/standard/core/anaconda/5.2.0-py3.6/lib/python3.6/multiprocessing/sharedctypes.py\u001b[0m in \u001b[0;36mArray\u001b[0;34m(typecode_or_type, size_or_initializer, lock, ctx)\u001b[0m\n\u001b[1;32m     85\u001b[0m     \u001b[0mReturn\u001b[0m \u001b[0ma\u001b[0m \u001b[0msynchronization\u001b[0m \u001b[0mwrapper\u001b[0m \u001b[0;32mfor\u001b[0m \u001b[0ma\u001b[0m \u001b[0mRawArray\u001b[0m\u001b[0;34m\u001b[0m\u001b[0m\n\u001b[1;32m     86\u001b[0m     '''\n\u001b[0;32m---> 87\u001b[0;31m     \u001b[0mobj\u001b[0m \u001b[0;34m=\u001b[0m \u001b[0mRawArray\u001b[0m\u001b[0;34m(\u001b[0m\u001b[0mtypecode_or_type\u001b[0m\u001b[0;34m,\u001b[0m \u001b[0msize_or_initializer\u001b[0m\u001b[0;34m)\u001b[0m\u001b[0;34m\u001b[0m\u001b[0m\n\u001b[0m\u001b[1;32m     88\u001b[0m     \u001b[0;32mif\u001b[0m \u001b[0mlock\u001b[0m \u001b[0;32mis\u001b[0m \u001b[0;32mFalse\u001b[0m\u001b[0;34m:\u001b[0m\u001b[0;34m\u001b[0m\u001b[0m\n\u001b[1;32m     89\u001b[0m         \u001b[0;32mreturn\u001b[0m \u001b[0mobj\u001b[0m\u001b[0;34m\u001b[0m\u001b[0m\n",
      "\u001b[0;32m/apps/software/standard/core/anaconda/5.2.0-py3.6/lib/python3.6/multiprocessing/sharedctypes.py\u001b[0m in \u001b[0;36mRawArray\u001b[0;34m(typecode_or_type, size_or_initializer)\u001b[0m\n\u001b[1;32m     58\u001b[0m     \u001b[0;32mif\u001b[0m \u001b[0misinstance\u001b[0m\u001b[0;34m(\u001b[0m\u001b[0msize_or_initializer\u001b[0m\u001b[0;34m,\u001b[0m \u001b[0mint\u001b[0m\u001b[0;34m)\u001b[0m\u001b[0;34m:\u001b[0m\u001b[0;34m\u001b[0m\u001b[0m\n\u001b[1;32m     59\u001b[0m         \u001b[0mtype_\u001b[0m \u001b[0;34m=\u001b[0m \u001b[0mtype_\u001b[0m \u001b[0;34m*\u001b[0m \u001b[0msize_or_initializer\u001b[0m\u001b[0;34m\u001b[0m\u001b[0m\n\u001b[0;32m---> 60\u001b[0;31m         \u001b[0mobj\u001b[0m \u001b[0;34m=\u001b[0m \u001b[0m_new_value\u001b[0m\u001b[0;34m(\u001b[0m\u001b[0mtype_\u001b[0m\u001b[0;34m)\u001b[0m\u001b[0;34m\u001b[0m\u001b[0m\n\u001b[0m\u001b[1;32m     61\u001b[0m         \u001b[0mctypes\u001b[0m\u001b[0;34m.\u001b[0m\u001b[0mmemset\u001b[0m\u001b[0;34m(\u001b[0m\u001b[0mctypes\u001b[0m\u001b[0;34m.\u001b[0m\u001b[0maddressof\u001b[0m\u001b[0;34m(\u001b[0m\u001b[0mobj\u001b[0m\u001b[0;34m)\u001b[0m\u001b[0;34m,\u001b[0m \u001b[0;36m0\u001b[0m\u001b[0;34m,\u001b[0m \u001b[0mctypes\u001b[0m\u001b[0;34m.\u001b[0m\u001b[0msizeof\u001b[0m\u001b[0;34m(\u001b[0m\u001b[0mobj\u001b[0m\u001b[0;34m)\u001b[0m\u001b[0;34m)\u001b[0m\u001b[0;34m\u001b[0m\u001b[0m\n\u001b[1;32m     62\u001b[0m         \u001b[0;32mreturn\u001b[0m \u001b[0mobj\u001b[0m\u001b[0;34m\u001b[0m\u001b[0m\n",
      "\u001b[0;32m/apps/software/standard/core/anaconda/5.2.0-py3.6/lib/python3.6/multiprocessing/sharedctypes.py\u001b[0m in \u001b[0;36m_new_value\u001b[0;34m(type_)\u001b[0m\n\u001b[1;32m     37\u001b[0m \u001b[0;34m\u001b[0m\u001b[0m\n\u001b[1;32m     38\u001b[0m \u001b[0;32mdef\u001b[0m \u001b[0m_new_value\u001b[0m\u001b[0;34m(\u001b[0m\u001b[0mtype_\u001b[0m\u001b[0;34m)\u001b[0m\u001b[0;34m:\u001b[0m\u001b[0;34m\u001b[0m\u001b[0m\n\u001b[0;32m---> 39\u001b[0;31m     \u001b[0msize\u001b[0m \u001b[0;34m=\u001b[0m \u001b[0mctypes\u001b[0m\u001b[0;34m.\u001b[0m\u001b[0msizeof\u001b[0m\u001b[0;34m(\u001b[0m\u001b[0mtype_\u001b[0m\u001b[0;34m)\u001b[0m\u001b[0;34m\u001b[0m\u001b[0m\n\u001b[0m\u001b[1;32m     40\u001b[0m     \u001b[0mwrapper\u001b[0m \u001b[0;34m=\u001b[0m \u001b[0mheap\u001b[0m\u001b[0;34m.\u001b[0m\u001b[0mBufferWrapper\u001b[0m\u001b[0;34m(\u001b[0m\u001b[0msize\u001b[0m\u001b[0;34m)\u001b[0m\u001b[0;34m\u001b[0m\u001b[0m\n\u001b[1;32m     41\u001b[0m     \u001b[0;32mreturn\u001b[0m \u001b[0mrebuild_ctype\u001b[0m\u001b[0;34m(\u001b[0m\u001b[0mtype_\u001b[0m\u001b[0;34m,\u001b[0m \u001b[0mwrapper\u001b[0m\u001b[0;34m,\u001b[0m \u001b[0;32mNone\u001b[0m\u001b[0;34m)\u001b[0m\u001b[0;34m\u001b[0m\u001b[0m\n",
      "\u001b[0;31mTypeError\u001b[0m: this type has no size"
     ]
    }
   ],
   "source": [
    "## Parallel Version -- DOESN'T WORK\n",
    "\n",
    "##########\n",
    "#Lemmatize\n",
    "#Create function to lemmatize by part of speech\n",
    "#Retain only adjectives, nouns, verbs, and adverbs\n",
    "##########\n",
    "from nltk.stem.wordnet import WordNetLemmatizer\n",
    "\n",
    "#Create lemmatizer\n",
    "lemmatizer=WordNetLemmatizer()\n",
    "\n",
    "#The POS tags created using pos_tag method are abbreviations like 'FW' or 'JJ'.\n",
    "\"\"\"['FW',#Foreign word\n",
    " 'JJ','JJR','JJS', #Adjectives\n",
    " 'NN','NNS','NNP','NNPS','POS',#Nouns, POS is a possessive noun\n",
    " 'RB','RBR','RBS','RP', #Adverbs\n",
    " 'VB','VBD','VBG','VBN','VBP','VBZ','MD']]#Verbs, MD is modal, 'could','will'\"\"\"\n",
    "#We are ignoring all other categories: numbers, prepositions,pronouns etc.\n",
    "\n",
    "\n",
    "def apply_lemmatizer(x):\n",
    "    \"\"\"apply lemmatizer with correct pos parameter for each word. Takes a tuple of length 2 e.g. (\"avocado\",'NN')\"\"\"\n",
    "    y=x[1] #x is a tuple of length 2\n",
    "    if y in ['JJ','JJR','JJS']:\n",
    "        return lemmatizer.lemmatize(x[0],pos='a')\n",
    "    elif y in ['NN','NNS','NNP','NNPS','POS']:\n",
    "        return lemmatizer.lemmatize(x[0],pos='n')\n",
    "    elif y in ['RB','RBR','RBS','RP']: #This doesn't actually work\n",
    "        return lemmatizer.lemmatize(x[0],pos='r')\n",
    "    elif y in ['VB','VBD','VBG','VBN','VBP','VBZ','MD']:\n",
    "        return lemmatizer.lemmatize(x[0],pos='v')\n",
    "    elif y=='FW':\n",
    "        return x[0]\n",
    "    elif '_' in x[0]: #Bi and trigrams\n",
    "        return x[0]\n",
    "        \n",
    "#Traverse each document, tag its part of speech\n",
    "#and return tokens that are lemmatized and either a noun, verb, adverb, adj, or foreign work\n",
    "#This works REALLY slowly\n",
    "docs=[] #Final lemmatized list of documents, i.e. list of lists of tokens\n",
    "\n",
    "\n",
    "# parallel version\n",
    "\n",
    "import multiprocessing \n",
    "import os \n",
    "import ctypes \n",
    "  \n",
    "def doc_lemma(text, docs, idx):\n",
    "    \n",
    "    doc=text[x]\n",
    "    tagged_sentence=pos_tag(doc) #output is a list of tuples: [('game', 'NN'), ('explore','VB')]\n",
    "    tokens_kept=[] #Tokens we are retaining\n",
    "    for token_tuple in tagged_sentence:\n",
    "        tokens_kept.append(apply_lemmatizer(token_tuple))\n",
    "    #Removes tokens that aren't nouns, verbs, adverbs, adjectives or foreign words\n",
    "    docs.append([x for x in tokens_kept if x is not None]) #Removes tokens that aren't nouns, verbs, adverbs, adjectives or foreign words\n",
    "  \n",
    "    return\n",
    "\n",
    "# creating Array of string data type with space for 4 integers \n",
    "docs = multiprocessing.Array('POINTER(c_char)',2) ## Shared memory allocation will need to be done separately. Maybe using Manager class?\n",
    "    \n",
    "# Instead of for-loop - creating new processes \n",
    "p1 = multiprocessing.Process(target=char_count, args=(lim_data, result, 0))\n",
    "p2 = multiprocessing.Process(target=char_count, args=(lim_data, result, 1))\n",
    "  \n",
    "# starting processes \n",
    "p1.start() \n",
    "p2.start()\n",
    "  \n",
    "# wait until process is finished \n",
    "p1.join() \n",
    "p2.join() \n",
    "\n",
    "print(docs)\n",
    "    \n",
    "    \n",
    "#Our example text throughout cleaning process\n",
    "print(docs[0])\n",
    "#print(\"time \", t2-t1)"
   ]
  }
 ],
 "metadata": {
  "kernelspec": {
   "display_name": "Python 3",
   "language": "python",
   "name": "python3"
  },
  "language_info": {
   "codemirror_mode": {
    "name": "ipython",
    "version": 3
   },
   "file_extension": ".py",
   "mimetype": "text/x-python",
   "name": "python",
   "nbconvert_exporter": "python",
   "pygments_lexer": "ipython3",
   "version": "3.6.6"
  }
 },
 "nbformat": 4,
 "nbformat_minor": 2
}
