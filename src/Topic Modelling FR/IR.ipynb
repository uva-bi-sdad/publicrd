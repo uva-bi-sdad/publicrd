{
 "cells": [
  {
   "cell_type": "markdown",
   "metadata": {},
   "source": [
    "# Information Retrieval - Pandemic Investigation"
   ]
  },
  {
   "cell_type": "code",
   "execution_count": 38,
   "metadata": {},
   "outputs": [],
   "source": [
    "import pandas as pd\n",
    "import numpy as np\n",
    "import pickle\n",
    "import matplotlib.pyplot as plt\n",
    "import gensim\n",
    "import time\n",
    "\n",
    "from sklearn.decomposition import NMF, TruncatedSVD, LatentDirichletAllocation\n",
    "from sklearn.feature_extraction.text import CountVectorizer\n",
    "from sklearn.feature_extraction.text import TfidfVectorizer\n",
    "from sklearn.metrics import pairwise_distances\n",
    "\n",
    "from gensim.models.coherencemodel import CoherenceModel\n",
    "\n",
    "import TextCleaning"
   ]
  },
  {
   "cell_type": "code",
   "execution_count": 2,
   "metadata": {},
   "outputs": [],
   "source": [
    "'''\n",
    "# CLEANED AND PROCESSED DATA PULL\n",
    "\n",
    "# import NSF data\n",
    "f = open('/project/biocomplexity/sdad/projects_data/ncses/prd/RND Topic Modelling/agency_data.sav', 'rb')\n",
    "\n",
    "# import entire dataset\n",
    "#f = open('/project/biocomplexity/sdad/projects_data/ncses/prd/RND Topic Modelling/lda_data.sav', 'rb')\n",
    "\n",
    "[corpus, id2word, docs] = pickle.load(f)\n",
    "f.close()\n",
    "\n",
    "# corpus - word frequency in docs\n",
    "# id2word - dictionary\n",
    "# docs - lemmatized abstracts\n",
    "\n",
    "'''"
   ]
  },
  {
   "cell_type": "code",
   "execution_count": 2,
   "metadata": {},
   "outputs": [
    {
     "name": "stdout",
     "output_type": "stream",
     "text": [
      "3 nulls in  ABSTRACT . These rows removed.\n",
      "11 duplicate abstracts removed\n",
      "0 project ID duplicates - not removed\n"
     ]
    }
   ],
   "source": [
    "# ORIGINAL DATA PULL\n",
    "\n",
    "# pull in original abstracts\n",
    "\n",
    "raw_df=pd.read_csv('~/prd/publicrd/data/prd/RND Topic Modelling/abstracts_federal_reporter_combined.csv',engine='python')\n",
    "\n",
    "# remove null abstracts and duplicates\n",
    "\n",
    "df = TextCleaning.remove_nulls(raw_df, \"ABSTRACT\")\n",
    "df = TextCleaning.remove_duplicates(df)\n",
    "\n",
    "df.reset_index(inplace = True)\n",
    "df.rename(columns={'index':'original index'}, inplace=True)"
   ]
  },
  {
   "cell_type": "code",
   "execution_count": 3,
   "metadata": {},
   "outputs": [
    {
     "data": {
      "text/html": [
       "<div>\n",
       "<style scoped>\n",
       "    .dataframe tbody tr th:only-of-type {\n",
       "        vertical-align: middle;\n",
       "    }\n",
       "\n",
       "    .dataframe tbody tr th {\n",
       "        vertical-align: top;\n",
       "    }\n",
       "\n",
       "    .dataframe thead th {\n",
       "        text-align: right;\n",
       "    }\n",
       "</style>\n",
       "<table border=\"1\" class=\"dataframe\">\n",
       "  <thead>\n",
       "    <tr style=\"text-align: right;\">\n",
       "      <th></th>\n",
       "      <th>original index</th>\n",
       "      <th>PROJECT_ID</th>\n",
       "      <th>ABSTRACT</th>\n",
       "      <th>FY</th>\n",
       "      <th>FIRST_CHAR</th>\n",
       "      <th>LAST_CHAR</th>\n",
       "      <th>DEPARTMENT</th>\n",
       "      <th>AGENCY</th>\n",
       "      <th>IC_CENTER</th>\n",
       "      <th>PROJECT_NUMBER</th>\n",
       "      <th>PROJECT_TITLE</th>\n",
       "      <th>PROJECT_TERMS</th>\n",
       "      <th>CONTACT_PI_PROJECT_LEADER</th>\n",
       "      <th>OTHER_PIS</th>\n",
       "      <th>ORGANIZATION_NAME</th>\n",
       "      <th>CFDA_CODE</th>\n",
       "      <th>FY_TOTAL_COST</th>\n",
       "    </tr>\n",
       "  </thead>\n",
       "  <tbody>\n",
       "    <tr>\n",
       "      <th>0</th>\n",
       "      <td>0</td>\n",
       "      <td>89996</td>\n",
       "      <td>This is a project to explore Game-based, Metap...</td>\n",
       "      <td>2008</td>\n",
       "      <td>This is a project to explore Game-based, Metap...</td>\n",
       "      <td>.</td>\n",
       "      <td>NSF</td>\n",
       "      <td>NSF</td>\n",
       "      <td>NaN</td>\n",
       "      <td>0814512</td>\n",
       "      <td>RUI: CYGAMES: CYBER-ENABLED TEACHING AND LEARN...</td>\n",
       "      <td>Achievement; analog; base; Cognitive Science; ...</td>\n",
       "      <td>REESE, DEBBIE D</td>\n",
       "      <td>CARTER, BEVERLY; WOOD, CHARLES; HITT, BEN</td>\n",
       "      <td>WHEELING JESUIT UNIVERSITY</td>\n",
       "      <td>47.076</td>\n",
       "      <td>1999467.0</td>\n",
       "    </tr>\n",
       "    <tr>\n",
       "      <th>1</th>\n",
       "      <td>1</td>\n",
       "      <td>89997</td>\n",
       "      <td>Institution: Franklin Institute Science Museum...</td>\n",
       "      <td>2008</td>\n",
       "      <td>Institution: Franklin Institute Science Museum...</td>\n",
       "      <td>.</td>\n",
       "      <td>NSF</td>\n",
       "      <td>NSF</td>\n",
       "      <td>NaN</td>\n",
       "      <td>0741659</td>\n",
       "      <td>ARIEL - AUGMENTED REALITY FOR INTERPRETIVE AND...</td>\n",
       "      <td>Active Learning; Child; Computer software; des...</td>\n",
       "      <td>SNYDER, STEVEN</td>\n",
       "      <td>ELINICH, KAREN; YOON, SUSAN</td>\n",
       "      <td>FRANKLIN INSTITUTE</td>\n",
       "      <td>47.076</td>\n",
       "      <td>1799699.0</td>\n",
       "    </tr>\n",
       "    <tr>\n",
       "      <th>2</th>\n",
       "      <td>2</td>\n",
       "      <td>89998</td>\n",
       "      <td>Through programs (including small group conver...</td>\n",
       "      <td>2008</td>\n",
       "      <td>Through programs (including small group conver...</td>\n",
       "      <td>.</td>\n",
       "      <td>NSF</td>\n",
       "      <td>NSF</td>\n",
       "      <td>NaN</td>\n",
       "      <td>0813522</td>\n",
       "      <td>BRIGHTER FUTURES: PUBLIC DELIBERATION ABOUT TH...</td>\n",
       "      <td>Address; Age; Birth; Brain; Caregivers; Child;...</td>\n",
       "      <td>FINK, LAURIE KLEINBAUM</td>\n",
       "      <td>CADIGAN, KAREN; ELLENBOGEN, KIRSTEN</td>\n",
       "      <td>SCIENCE MUSEUM OF MINNESOTA</td>\n",
       "      <td>47.076</td>\n",
       "      <td>1505858.0</td>\n",
       "    </tr>\n",
       "    <tr>\n",
       "      <th>3</th>\n",
       "      <td>3</td>\n",
       "      <td>89999</td>\n",
       "      <td>In partnership with the American Chemical Soci...</td>\n",
       "      <td>2008</td>\n",
       "      <td>In partnership with the American Chemical Soci...</td>\n",
       "      <td>.</td>\n",
       "      <td>NSF</td>\n",
       "      <td>NSF</td>\n",
       "      <td>NaN</td>\n",
       "      <td>0838627</td>\n",
       "      <td>FOSTERING US-INTERNATIONAL COLLABORATIVE PARTN...</td>\n",
       "      <td>Advanced Development; American; Chemicals; Che...</td>\n",
       "      <td>JOST, JOHN W</td>\n",
       "      <td>MILLER, BRADLEY; BOWMAN, KATHERINE</td>\n",
       "      <td>INTERNATIONAL UNION OF PURE AND APPLIED CHEMISTRY</td>\n",
       "      <td>47.049</td>\n",
       "      <td>51000.0</td>\n",
       "    </tr>\n",
       "    <tr>\n",
       "      <th>4</th>\n",
       "      <td>4</td>\n",
       "      <td>90000</td>\n",
       "      <td>Amphibian populations around the world are exp...</td>\n",
       "      <td>2008</td>\n",
       "      <td>Amphibian populations around the world are exp...</td>\n",
       "      <td>.</td>\n",
       "      <td>NSF</td>\n",
       "      <td>NSF</td>\n",
       "      <td>NaN</td>\n",
       "      <td>0815315</td>\n",
       "      <td>COLLABORATIVE RESEARCH: EVOLUTION OF AMPHIBIAN...</td>\n",
       "      <td>Amphibia; Central America; Communicable Diseas...</td>\n",
       "      <td>ZAMUDIO, KELLY R</td>\n",
       "      <td>NaN</td>\n",
       "      <td>CORNELL UNIVERSITY ITHACA</td>\n",
       "      <td>47.074</td>\n",
       "      <td>370996.0</td>\n",
       "    </tr>\n",
       "  </tbody>\n",
       "</table>\n",
       "</div>"
      ],
      "text/plain": [
       "   original index  PROJECT_ID  \\\n",
       "0               0       89996   \n",
       "1               1       89997   \n",
       "2               2       89998   \n",
       "3               3       89999   \n",
       "4               4       90000   \n",
       "\n",
       "                                            ABSTRACT    FY  \\\n",
       "0  This is a project to explore Game-based, Metap...  2008   \n",
       "1  Institution: Franklin Institute Science Museum...  2008   \n",
       "2  Through programs (including small group conver...  2008   \n",
       "3  In partnership with the American Chemical Soci...  2008   \n",
       "4  Amphibian populations around the world are exp...  2008   \n",
       "\n",
       "                                          FIRST_CHAR LAST_CHAR DEPARTMENT  \\\n",
       "0  This is a project to explore Game-based, Metap...         .        NSF   \n",
       "1  Institution: Franklin Institute Science Museum...         .        NSF   \n",
       "2  Through programs (including small group conver...         .        NSF   \n",
       "3  In partnership with the American Chemical Soci...         .        NSF   \n",
       "4  Amphibian populations around the world are exp...         .        NSF   \n",
       "\n",
       "  AGENCY IC_CENTER PROJECT_NUMBER  \\\n",
       "0    NSF       NaN        0814512   \n",
       "1    NSF       NaN        0741659   \n",
       "2    NSF       NaN        0813522   \n",
       "3    NSF       NaN        0838627   \n",
       "4    NSF       NaN        0815315   \n",
       "\n",
       "                                       PROJECT_TITLE  \\\n",
       "0  RUI: CYGAMES: CYBER-ENABLED TEACHING AND LEARN...   \n",
       "1  ARIEL - AUGMENTED REALITY FOR INTERPRETIVE AND...   \n",
       "2  BRIGHTER FUTURES: PUBLIC DELIBERATION ABOUT TH...   \n",
       "3  FOSTERING US-INTERNATIONAL COLLABORATIVE PARTN...   \n",
       "4  COLLABORATIVE RESEARCH: EVOLUTION OF AMPHIBIAN...   \n",
       "\n",
       "                                       PROJECT_TERMS  \\\n",
       "0  Achievement; analog; base; Cognitive Science; ...   \n",
       "1  Active Learning; Child; Computer software; des...   \n",
       "2  Address; Age; Birth; Brain; Caregivers; Child;...   \n",
       "3  Advanced Development; American; Chemicals; Che...   \n",
       "4  Amphibia; Central America; Communicable Diseas...   \n",
       "\n",
       "  CONTACT_PI_PROJECT_LEADER                                  OTHER_PIS  \\\n",
       "0           REESE, DEBBIE D  CARTER, BEVERLY; WOOD, CHARLES; HITT, BEN   \n",
       "1            SNYDER, STEVEN                ELINICH, KAREN; YOON, SUSAN   \n",
       "2    FINK, LAURIE KLEINBAUM        CADIGAN, KAREN; ELLENBOGEN, KIRSTEN   \n",
       "3              JOST, JOHN W         MILLER, BRADLEY; BOWMAN, KATHERINE   \n",
       "4          ZAMUDIO, KELLY R                                        NaN   \n",
       "\n",
       "                                   ORGANIZATION_NAME CFDA_CODE  FY_TOTAL_COST  \n",
       "0                         WHEELING JESUIT UNIVERSITY    47.076      1999467.0  \n",
       "1                                 FRANKLIN INSTITUTE    47.076      1799699.0  \n",
       "2                        SCIENCE MUSEUM OF MINNESOTA    47.076      1505858.0  \n",
       "3  INTERNATIONAL UNION OF PURE AND APPLIED CHEMISTRY    47.049        51000.0  \n",
       "4                          CORNELL UNIVERSITY ITHACA    47.074       370996.0  "
      ]
     },
     "execution_count": 3,
     "metadata": {},
     "output_type": "execute_result"
    }
   ],
   "source": [
    "df.head()"
   ]
  },
  {
   "cell_type": "code",
   "execution_count": 5,
   "metadata": {},
   "outputs": [
    {
     "data": {
      "text/plain": [
       "'\\ntext = []\\ni=0\\nfor doc in docs:\\n    text.append(\" \".join(doc))\\n'"
      ]
     },
     "execution_count": 5,
     "metadata": {},
     "output_type": "execute_result"
    }
   ],
   "source": [
    "# input needed for doc-term matrix creation is one string per document (not a list of strings).  This is \n",
    "# already the format of df[\"ABSTRACT\"] so nothing to do here\n",
    "\n",
    "'''\n",
    "text = []\n",
    "i=0\n",
    "for doc in docs:\n",
    "    text.append(\" \".join(doc))\n",
    "'''    "
   ]
  },
  {
   "cell_type": "markdown",
   "metadata": {},
   "source": [
    "## Functions needed for all approaches"
   ]
  },
  {
   "cell_type": "code",
   "execution_count": 4,
   "metadata": {},
   "outputs": [],
   "source": [
    "# Create query vector \n",
    "\n",
    "def create_query(words, terms):\n",
    "    \n",
    "    # words: search query words\n",
    "    # terms: terms in corpus\n",
    "    \n",
    "    q = np.zeros(len(terms))  # number of terms\n",
    "\n",
    "    idx = []\n",
    "    for word in query_words:\n",
    "        idx.append(terms.index(word))\n",
    "\n",
    "    q[idx] = 1\n",
    "    \n",
    "    return q"
   ]
  },
  {
   "cell_type": "code",
   "execution_count": 110,
   "metadata": {},
   "outputs": [],
   "source": [
    "def return_top_abstracts(df, scores, top_n):\n",
    "    \n",
    "    '''\n",
    "    df: dataframe that contains ABSTRACT column\n",
    "    scores: scores of abstracts\n",
    "    top_n: return the top_n abstracts given by idx\n",
    "    '''\n",
    "    # sort scores in descending order\n",
    "    scores_sorted_idx = np.argsort(scores)[::-1]\n",
    "    \n",
    "    ix = scores_sorted_idx[:top_n]\n",
    "    print(ix[0:10])\n",
    "    \n",
    "    return ix, df['ABSTRACT'][ix]\n",
    "    "
   ]
  },
  {
   "cell_type": "code",
   "execution_count": 6,
   "metadata": {},
   "outputs": [],
   "source": [
    "def create_result_df(abstracts, scores):\n",
    "    \n",
    "    df = pd.DataFrame()\n",
    "    df[\"abstracts\"] = abstracts\n",
    "    df[\"scores\"] = scores\n",
    "    \n",
    "    return df"
   ]
  },
  {
   "cell_type": "markdown",
   "metadata": {},
   "source": [
    "## Exact word matches - Frequency Count Document-Term Matrix\n",
    "\n",
    "This will return all abstracts in the corpus with exact word matches to the query.  A query is just a list of words to search for.\n",
    "\n",
    "Results will be return in sorted order of how high the query scores with each abstract. A high score means more occurences of the query words in the abstract."
   ]
  },
  {
   "cell_type": "code",
   "execution_count": 7,
   "metadata": {},
   "outputs": [],
   "source": [
    "# Create document-term matrix based on count frequencies\n",
    "\n",
    "vectorizer = CountVectorizer()\n",
    "doc_term_matrix = vectorizer.fit_transform(df[\"ABSTRACT\"])"
   ]
  },
  {
   "cell_type": "code",
   "execution_count": 8,
   "metadata": {},
   "outputs": [],
   "source": [
    "terms = vectorizer.get_feature_names()"
   ]
  },
  {
   "cell_type": "code",
   "execution_count": 9,
   "metadata": {},
   "outputs": [],
   "source": [
    "# CHANGE QUERY WORDS HERE\n",
    "\n",
    "query_words = ['pandemic']\n",
    "\n",
    "q = create_query(query_words, terms)"
   ]
  },
  {
   "cell_type": "code",
   "execution_count": 10,
   "metadata": {},
   "outputs": [],
   "source": [
    "# calculate the score for each document against the query. Docs with more occurences of the query words \n",
    "# will score higher\n",
    "\n",
    "f_scores = doc_term_matrix.dot(q)"
   ]
  },
  {
   "cell_type": "code",
   "execution_count": 11,
   "metadata": {},
   "outputs": [
    {
     "data": {
      "text/plain": [
       "1643"
      ]
     },
     "execution_count": 11,
     "metadata": {},
     "output_type": "execute_result"
    }
   ],
   "source": [
    "sum(f_scores >0)"
   ]
  },
  {
   "cell_type": "code",
   "execution_count": 12,
   "metadata": {},
   "outputs": [
    {
     "data": {
      "text/plain": [
       "array([25., 20., 19., 18., 17., 16., 15., 14., 14., 14.])"
      ]
     },
     "execution_count": 12,
     "metadata": {},
     "output_type": "execute_result"
    }
   ],
   "source": [
    "# sort scores in descending order\n",
    "\n",
    "f_scores_sorted = np.sort(f_scores)[::-1]\n",
    "f_scores_sorted[:10]"
   ]
  },
  {
   "cell_type": "code",
   "execution_count": 111,
   "metadata": {},
   "outputs": [
    {
     "name": "stdout",
     "output_type": "stream",
     "text": [
      "[236762 235170 145010  92006 128050 292930 236456 236214 346289 299250]\n"
     ]
    }
   ],
   "source": [
    "f_idx, f_top_abstracts = return_top_abstracts(df, f_scores, 100)"
   ]
  },
  {
   "cell_type": "code",
   "execution_count": 112,
   "metadata": {},
   "outputs": [
    {
     "data": {
      "text/plain": [
       "236762    Influenza A viruses are significant human path...\n",
       "235170    The hemagglutinin of the 2009 pandemic H1N1 in...\n",
       "145010    Influenza A viruses are significant human path...\n",
       "92006     Influenza A viruses are significant human path...\n",
       "128050    DESCRIPTION (provided by applicant): The 1918-...\n",
       "                                ...                        \n",
       "146779    We have developed a protocol for rapid product...\n",
       "83990     This subproject is one of many research subpro...\n",
       "405458    ﻿   DESCRIPTION (provided by applicant):  Infl...\n",
       "48451     DESCRIPTION (provided by applicant): Pandemic ...\n",
       "117729    DESCRIPTION (provided by applicant): Influenza...\n",
       "Name: ABSTRACT, Length: 100, dtype: object"
      ]
     },
     "execution_count": 112,
     "metadata": {},
     "output_type": "execute_result"
    }
   ],
   "source": [
    "f_top_abstracts"
   ]
  },
  {
   "cell_type": "code",
   "execution_count": 113,
   "metadata": {
    "collapsed": true,
    "jupyter": {
     "outputs_hidden": true
    }
   },
   "outputs": [
    {
     "data": {
      "text/plain": [
       "'(1) To develop animal, especially nonhuman primate, models that mimic human disease:We have established nonhuman primate (NHPs) models using Cynomolgus macaques for several influenza A viruses. Seasonal H1N1 & H3N2 viruses lead to either asymptomatic or fairly mild disease in Cynomolgus macaques. Gross pathology is limited to a few areas in the lungs. Histopathological investigations revealed alveolar edema and fibrin, hyaline membrane formation and type II alveolar pneumocyte hyperplasia. Animals recover quickly from the infection and clear virus within the first few days. There is limited evidence for virus shedding. (Brining 2010; Safronetz 2011)  The pandemic H2N2 strain A/Singapore/1/57 leads to a moderate infection compared to the seasonal strains. Lung infiltrates, gross pathology and histopathology are in general slightly enhanced. Animals clear the infection with a delay and fully recover. There is limited evidence for virus shedding (Richt, 2012).  We observed different degrees of clinical severity, gross pathology, lung infiltration and histology in macaques infected with three distinct pandemic H1N1 isolates. A Mexican strain isolated from a moderately sick human A/Mexico/4108/2009 (H1N1) (M4108) behaved similarly to the pandemic H2N2 strain. A California isolate from a sick boy with moderate disease A/California/4/2009 (H1N1) (Ca04) was more severe and another Mexico strain from a cluster of severe cases A/Mexico/4487/2009 (H1N1) (M4487) was severe in clinical disease and pathology. This clearly indicates that a variety of strains co-circulated with different pathogenic potential. (Brining 2010; Safronetz 2011; Feldmann, in preparation)  Infection with the swine H2N3 virus A/swine/MS/06 was also more severe and was similar to the disease caused by Ca04. Thus, this newly described swine virus has potential to infect primates and thus, could potentially also infect humans (Richt, 2012).  Furthermore, we have established the ferret model for influenza viruses. We have compared disease progression and virus replication of two pandemic H1N1 viruses (M4108, M4487). In contrast to the differences we observed in the nonhuman primate model, both infections did not really differ in the ferret model with both viruses causing mild respiratory disease. (Tsuda, in preparation)(2) To identify and characterize determinants of pathogenicity in animal models:To better understand the features that define highly lethal influenza viruses, we exploited a technology for the artificial generation and modification of influenza viruses (reverse genetics system). Using this technology, we have generated a consensus pandemic H1N1 virus (parent virus). In order to study virulence of the different strains and the mechanisms of pathogenesis we have generated selected recombinant viruses and characterized those mutants in vitro.  For this we have compared the genome sequences of two early circulating pandemic H1N1 strains with different pathogenicity in humans (M4108, M4487). Sequence comparison revealed amino acid changes in 5 genome segments, PB2, PA, HA, NP and M. The recombinant viruses were generated on the background of M4108 by replacing the corresponding genomic segment. We have characterized the recombinant viruses in vitro and in vivo (ferret) and found preliminary evidence for a role of PB2 and PA. (Tsuda, in preparation) Severe influenza virus infections are often associated with bacterial co-infections. This seems also be the case with the latest pandemic H1N1 virus. In order to study a potentiating effect of influenza and bacterial co-infection we performed a co-infection study in cynomolgus macaques using a moderately severe pandemic H1N1 strain (Ca04) and Methicillin-resistant Staphylococcus aureus (MRSA). Animals infected with MRSA only were largely asymptomatic, whereas animals infected with Ca04 only developed moderate pulmonary disease. Interestingly, animals initially infected with MRSA followed by Ca04 showed a dramatic reduction in clinical signs, whereas those initially infected with Ca04 followed by MRSA showed enhanced clinical disease (Kobayashi, in preparation). We are currently working on the potential mechanism. Similar studies were performed with a seasonal viruses (H1N1, H3N2) and MRSA in which we did not see disease reduction or enhancement.(3) To identify potential targets for intervention:The inherent virulence properties of past (i.e. 1918 virus) and potential future pandemic influenza viruses (i.e. highly virulent H5N1) indicates the need for evaluating antiviral options. Therefore, the recently developed Cynomolgus macaque model for the 1918 influenza virus was used for a drug efficacy study. We demonstrated that oseltamivir phosphate is effective in preventing severe disease in Cynomolgus macaques caused by the 1918 influenza virus if given prophylactically. Efficacy was reduced in a treatment regime through emergence of oseltamivir-resistant mutants that led to the death of one of four animals.  This emphasizes the importance of implementing combination therapy and vaccination strategies early in a pandemic. (Feldmann, in revision)In a first attempt to identify new targets for intervention we have performed a comparative transcriptomic analysis of acute host responses to infection with pandemic H1N1 (Ca04) in mice, macaques and swine.  We observed differences in inflammatory molecules elicited, and the kinetics of their gene expression changes across these species, including genes regulated by nuclear receptor signaling molecules controlling lipid and metabolic processes impacting inflammatory responses to pandemic H1N1 influenza virus.  While the heterodimeric retinoid X receptor (RXR) signaling pathway was differentially regulated during infection in each species, divergent expression of lipid-binding molecules and NFB molecules was observed across species.  By comparing transcriptional changes across hosts in the context of clinical and virological measures and integrating evidence from transcription factor analyses, we were able to examine similarities and differences in acute host responses to pandemic H1N1 influenza infection across hosts. (Go, in revision)  (4) To develop cross-protective vaccines and test their efficacy in the developed animal models:In collaboration (Dr. J. Rose) we have generated and characterized VSV-based vaccines that express the HK/156 (clade 0) H5 HA from the first position of the VSV genome. These vectors induce broadly cross-neutralizing antibodies against homologous and heterologous H5N1 viruses of different clades in mice. The vaccines provide complete protection against morbidity and mortality after heterologous challenge with clade 0 and clade 1 strains in animals even 1 year after vaccination. Therefore, VSV-based avian influenza vaccines are potent, broadly cross-protective pandemic vaccine candidates (Schwartz 2010). More recently we started a collaborative project (Dr. M. Jarvis) to develop a universal vaccine against influenza A viruses. Our approach is based on two observations: i) highly conserved B cell epitopes are present within two separate helical regions within the hemagglutinin stalk region, and antibodies against them affords heterosubtypic binding and protection, and ii) removal of hemagglutinin globular region can increase antibody responses against other normally poorly antigenic epitopes. We used the Cytomegalovirus vector platform for these studies, which is able to induce long-lasting immune responses (both T cell and antibody) following a single vaccination. The vectors have been made and we are currently testing immunogenicity.'"
      ]
     },
     "execution_count": 113,
     "metadata": {},
     "output_type": "execute_result"
    }
   ],
   "source": [
    "f_top_abstracts.iloc[9]"
   ]
  },
  {
   "cell_type": "code",
   "execution_count": 17,
   "metadata": {},
   "outputs": [],
   "source": [
    "f_df = create_result_df(df[\"ABSTRACT\"], f_scores)"
   ]
  },
  {
   "cell_type": "code",
   "execution_count": 18,
   "metadata": {
    "collapsed": true,
    "jupyter": {
     "outputs_hidden": true
    }
   },
   "outputs": [
    {
     "data": {
      "text/html": [
       "<div>\n",
       "<style scoped>\n",
       "    .dataframe tbody tr th:only-of-type {\n",
       "        vertical-align: middle;\n",
       "    }\n",
       "\n",
       "    .dataframe tbody tr th {\n",
       "        vertical-align: top;\n",
       "    }\n",
       "\n",
       "    .dataframe thead th {\n",
       "        text-align: right;\n",
       "    }\n",
       "</style>\n",
       "<table border=\"1\" class=\"dataframe\">\n",
       "  <thead>\n",
       "    <tr style=\"text-align: right;\">\n",
       "      <th></th>\n",
       "      <th>abstracts</th>\n",
       "      <th>scores</th>\n",
       "    </tr>\n",
       "  </thead>\n",
       "  <tbody>\n",
       "    <tr>\n",
       "      <th>0</th>\n",
       "      <td>This is a project to explore Game-based, Metap...</td>\n",
       "      <td>0.0</td>\n",
       "    </tr>\n",
       "    <tr>\n",
       "      <th>1</th>\n",
       "      <td>Institution: Franklin Institute Science Museum...</td>\n",
       "      <td>0.0</td>\n",
       "    </tr>\n",
       "    <tr>\n",
       "      <th>2</th>\n",
       "      <td>Through programs (including small group conver...</td>\n",
       "      <td>0.0</td>\n",
       "    </tr>\n",
       "    <tr>\n",
       "      <th>3</th>\n",
       "      <td>In partnership with the American Chemical Soci...</td>\n",
       "      <td>0.0</td>\n",
       "    </tr>\n",
       "    <tr>\n",
       "      <th>4</th>\n",
       "      <td>Amphibian populations around the world are exp...</td>\n",
       "      <td>0.0</td>\n",
       "    </tr>\n",
       "    <tr>\n",
       "      <th>...</th>\n",
       "      <td>...</td>\n",
       "      <td>...</td>\n",
       "    </tr>\n",
       "    <tr>\n",
       "      <th>550069</th>\n",
       "      <td>The Title IV-E Prevention Services Clearinghou...</td>\n",
       "      <td>0.0</td>\n",
       "    </tr>\n",
       "    <tr>\n",
       "      <th>550070</th>\n",
       "      <td>This mixed-methods study seeks to deepen our u...</td>\n",
       "      <td>0.0</td>\n",
       "    </tr>\n",
       "    <tr>\n",
       "      <th>550071</th>\n",
       "      <td>The purpose of this project is to examine the ...</td>\n",
       "      <td>0.0</td>\n",
       "    </tr>\n",
       "    <tr>\n",
       "      <th>550072</th>\n",
       "      <td>The 2014 Child Care and Development Block Gran...</td>\n",
       "      <td>0.0</td>\n",
       "    </tr>\n",
       "    <tr>\n",
       "      <th>550073</th>\n",
       "      <td>The goal of this study is to understand the us...</td>\n",
       "      <td>0.0</td>\n",
       "    </tr>\n",
       "  </tbody>\n",
       "</table>\n",
       "<p>550074 rows × 2 columns</p>\n",
       "</div>"
      ],
      "text/plain": [
       "                                                abstracts  scores\n",
       "0       This is a project to explore Game-based, Metap...     0.0\n",
       "1       Institution: Franklin Institute Science Museum...     0.0\n",
       "2       Through programs (including small group conver...     0.0\n",
       "3       In partnership with the American Chemical Soci...     0.0\n",
       "4       Amphibian populations around the world are exp...     0.0\n",
       "...                                                   ...     ...\n",
       "550069  The Title IV-E Prevention Services Clearinghou...     0.0\n",
       "550070  This mixed-methods study seeks to deepen our u...     0.0\n",
       "550071  The purpose of this project is to examine the ...     0.0\n",
       "550072  The 2014 Child Care and Development Block Gran...     0.0\n",
       "550073  The goal of this study is to understand the us...     0.0\n",
       "\n",
       "[550074 rows x 2 columns]"
      ]
     },
     "execution_count": 18,
     "metadata": {},
     "output_type": "execute_result"
    }
   ],
   "source": [
    "f_df"
   ]
  },
  {
   "cell_type": "markdown",
   "metadata": {},
   "source": [
    "## TF-IDF approach"
   ]
  },
  {
   "cell_type": "code",
   "execution_count": 68,
   "metadata": {},
   "outputs": [],
   "source": [
    "# Find doc-term matrix using TF-IDF weighting\n",
    "\n",
    "tf_idf_vectorizer = TfidfVectorizer()\n",
    "tf_idf = tf_idf_vectorizer.fit_transform(df[\"ABSTRACT\"])"
   ]
  },
  {
   "cell_type": "code",
   "execution_count": 20,
   "metadata": {},
   "outputs": [],
   "source": [
    "tf_idf_terms = tf_idf_vectorizer.get_feature_names()"
   ]
  },
  {
   "cell_type": "code",
   "execution_count": 23,
   "metadata": {},
   "outputs": [],
   "source": [
    "# CHANGE QUERY WORDS HERE\n",
    "\n",
    "query_words = ['pandemic']\n",
    "\n",
    "q = create_query(query_words, tf_idf_terms)"
   ]
  },
  {
   "cell_type": "code",
   "execution_count": null,
   "metadata": {},
   "outputs": [],
   "source": [
    "# I don't need this as it created the exact same query as the create_query function\n",
    "\n",
    "'''\n",
    "# transform query to be in same space as documents\n",
    "# q = q.reshape(1,-1)\n",
    "qhat = tf_idf_vectorizer.transform(query_words)\n",
    "\n",
    "temp = qhat.toarray()\n",
    "qhat = np.reshape(temp, qhat.shape[1])\n",
    "\n",
    "tf_idf_scores = pairwise_distances(qhat, tf_idf, metric='cosine', n_jobs=19)\n",
    "'''"
   ]
  },
  {
   "cell_type": "code",
   "execution_count": 71,
   "metadata": {},
   "outputs": [],
   "source": [
    "# calculate the score for each document against the query. Docs with more occurences of the query words \n",
    "# will score higher\n",
    "\n",
    "tf_idf_scores = tf_idf.dot(q)"
   ]
  },
  {
   "cell_type": "code",
   "execution_count": 72,
   "metadata": {},
   "outputs": [
    {
     "data": {
      "text/plain": [
       "1643"
      ]
     },
     "execution_count": 72,
     "metadata": {},
     "output_type": "execute_result"
    }
   ],
   "source": [
    "sum(tf_idf_scores >0)"
   ]
  },
  {
   "cell_type": "code",
   "execution_count": 73,
   "metadata": {},
   "outputs": [
    {
     "data": {
      "text/plain": [
       "array([0.5857311 , 0.54566878, 0.5312256 , 0.52167944, 0.51754378,\n",
       "       0.48825648, 0.43052922, 0.42960531, 0.42195537, 0.39556147])"
      ]
     },
     "execution_count": 73,
     "metadata": {},
     "output_type": "execute_result"
    }
   ],
   "source": [
    "# sort scores in descending order\n",
    "\n",
    "tf_idf_scores_sorted = np.sort(tf_idf_scores)[::-1]\n",
    "tf_idf_scores_sorted[:10]"
   ]
  },
  {
   "cell_type": "code",
   "execution_count": 114,
   "metadata": {},
   "outputs": [
    {
     "name": "stdout",
     "output_type": "stream",
     "text": [
      "[346289 292930  85470 128050 236762  62499 145793 236456 148102 194186]\n"
     ]
    }
   ],
   "source": [
    "tfidf_idx, tfidf_top_abstracts = return_top_abstracts(df, tf_idf_scores, 100)"
   ]
  },
  {
   "cell_type": "code",
   "execution_count": 115,
   "metadata": {},
   "outputs": [
    {
     "data": {
      "text/plain": [
       "346289    PROJECT SUMMARY / ABSTRACTInfluenza pandemics ...\n",
       "292930    DESCRIPTION (provided by applicant): Influenza...\n",
       "85470     DESCRIPTION (provided by applicant): The pande...\n",
       "128050    DESCRIPTION (provided by applicant): The 1918-...\n",
       "236762    Influenza A viruses are significant human path...\n",
       "                                ...                        \n",
       "437135    Improvements in vaccines against influenza tha...\n",
       "236028    In April 2009, the Centers for Disease Control...\n",
       "354271    Influenza A viruses (IAV) are significant huma...\n",
       "488951    Influenza A viruses (IAV) are significant huma...\n",
       "191233    The immunogenicity and efficacy of the vaccine...\n",
       "Name: ABSTRACT, Length: 100, dtype: object"
      ]
     },
     "execution_count": 115,
     "metadata": {},
     "output_type": "execute_result"
    }
   ],
   "source": [
    "tfidf_top_abstracts"
   ]
  },
  {
   "cell_type": "code",
   "execution_count": 116,
   "metadata": {
    "collapsed": true,
    "jupyter": {
     "outputs_hidden": true
    }
   },
   "outputs": [
    {
     "data": {
      "text/plain": [
       "'PROJECT SUMMARY / ABSTRACTInfluenza pandemics are among the foremost international public health challenges of the 21st century.Eleven probable and three possible pandemics have occurred in the past four-hundred years. The April,2009 outbreak of a novel strain of influenza A (H1N1) in Mexico City demonstrated that infection can betransmitted globally in days and cause disproportionate morbidity and mortality in young adults, pregnantwomen, and minorities. The 2009 (H1N1) Pandemic has been defined by its transmissibility and case-fatality proportion as a  mild  pandemic; the WHO estimates that a more severe pandemic could causehundreds of millions of deaths, and overwhelm healthcare capacity. Even during this mild pandemic,hospitals and ICUs were operating near or at surge capacity during peaks of transmission. Public healthofficials have limited decision support technology to plan for or prevent healthcare utilization surge in futureinfluenza pandemics. Despite an appropriate public health response to the ongoing pandemic, severalinfluenza A viruses remain pandemic threats. The exact timing of the next influenza pandemic is uncertain,but there is no doubt that another one will occur.Over the past three years, I have developed skills in cost-effectiveness analysis and infectious diseasemodeling by designing an influenza disease transmission model to compare the effectiveness and cost-effectiveness of alternative pandemic mitigation strategies. Several of my model parameters are based onassumptions or data from seasonal influenza epidemics or 20th century pandemics, and my model is limitedto the spread of pandemic influenza within a city. I would like to improve the accuracy of the modelparameters and expand its geographical scope in order to compare the effectiveness of healthcareutilization surge preparation strategies and to inform pandemic healthcare decision support. To do so, Ineed to develop additional skills in large database analysis and multivariable statistical modeling bycompleting coursework and projects under the guidance of an experienced, multi-disciplinary team ofmentors and advisors. Combined with my existing methodological background, these skills will enable meto perform research as an independent investigator in infectious disease health policy.The 2009 (H1N1) Pandemic, occurring in an era with advanced healthcare database collection, hasprovided a unique opportunity for me to meet all of these objectives by: (1) Measuring influenza-relatedhealthcare costs and utilization during a pandemic; (2) Incorporating length-of-stay results from Aim 1 intomultivariate analyses to predict the temporal spread of peak influenza healthcare utilization; (3) Inputtingresults of Aims 1 and 2 into my pandemic influenza transmission model to compare the effectiveness andcost-effectiveness of alternative surge preparation strategies over a range of pandemic severities; and (4)Disseminating results of Aims 1, 2, and 3 through CDC to update healthcare decision support technology.'"
      ]
     },
     "execution_count": 116,
     "metadata": {},
     "output_type": "execute_result"
    }
   ],
   "source": [
    "tfidf_top_abstracts.iloc[0]"
   ]
  },
  {
   "cell_type": "code",
   "execution_count": 79,
   "metadata": {},
   "outputs": [],
   "source": [
    "tf_idf_df = create_result_df(df[\"ABSTRACT\"], tf_idf_scores)"
   ]
  },
  {
   "cell_type": "code",
   "execution_count": 80,
   "metadata": {},
   "outputs": [
    {
     "data": {
      "text/html": [
       "<div>\n",
       "<style scoped>\n",
       "    .dataframe tbody tr th:only-of-type {\n",
       "        vertical-align: middle;\n",
       "    }\n",
       "\n",
       "    .dataframe tbody tr th {\n",
       "        vertical-align: top;\n",
       "    }\n",
       "\n",
       "    .dataframe thead th {\n",
       "        text-align: right;\n",
       "    }\n",
       "</style>\n",
       "<table border=\"1\" class=\"dataframe\">\n",
       "  <thead>\n",
       "    <tr style=\"text-align: right;\">\n",
       "      <th></th>\n",
       "      <th>abstracts</th>\n",
       "      <th>scores</th>\n",
       "    </tr>\n",
       "  </thead>\n",
       "  <tbody>\n",
       "    <tr>\n",
       "      <th>0</th>\n",
       "      <td>This is a project to explore Game-based, Metap...</td>\n",
       "      <td>0.0</td>\n",
       "    </tr>\n",
       "    <tr>\n",
       "      <th>1</th>\n",
       "      <td>Institution: Franklin Institute Science Museum...</td>\n",
       "      <td>0.0</td>\n",
       "    </tr>\n",
       "    <tr>\n",
       "      <th>2</th>\n",
       "      <td>Through programs (including small group conver...</td>\n",
       "      <td>0.0</td>\n",
       "    </tr>\n",
       "    <tr>\n",
       "      <th>3</th>\n",
       "      <td>In partnership with the American Chemical Soci...</td>\n",
       "      <td>0.0</td>\n",
       "    </tr>\n",
       "    <tr>\n",
       "      <th>4</th>\n",
       "      <td>Amphibian populations around the world are exp...</td>\n",
       "      <td>0.0</td>\n",
       "    </tr>\n",
       "    <tr>\n",
       "      <th>...</th>\n",
       "      <td>...</td>\n",
       "      <td>...</td>\n",
       "    </tr>\n",
       "    <tr>\n",
       "      <th>550069</th>\n",
       "      <td>The Title IV-E Prevention Services Clearinghou...</td>\n",
       "      <td>0.0</td>\n",
       "    </tr>\n",
       "    <tr>\n",
       "      <th>550070</th>\n",
       "      <td>This mixed-methods study seeks to deepen our u...</td>\n",
       "      <td>0.0</td>\n",
       "    </tr>\n",
       "    <tr>\n",
       "      <th>550071</th>\n",
       "      <td>The purpose of this project is to examine the ...</td>\n",
       "      <td>0.0</td>\n",
       "    </tr>\n",
       "    <tr>\n",
       "      <th>550072</th>\n",
       "      <td>The 2014 Child Care and Development Block Gran...</td>\n",
       "      <td>0.0</td>\n",
       "    </tr>\n",
       "    <tr>\n",
       "      <th>550073</th>\n",
       "      <td>The goal of this study is to understand the us...</td>\n",
       "      <td>0.0</td>\n",
       "    </tr>\n",
       "  </tbody>\n",
       "</table>\n",
       "<p>550074 rows × 2 columns</p>\n",
       "</div>"
      ],
      "text/plain": [
       "                                                abstracts  scores\n",
       "0       This is a project to explore Game-based, Metap...     0.0\n",
       "1       Institution: Franklin Institute Science Museum...     0.0\n",
       "2       Through programs (including small group conver...     0.0\n",
       "3       In partnership with the American Chemical Soci...     0.0\n",
       "4       Amphibian populations around the world are exp...     0.0\n",
       "...                                                   ...     ...\n",
       "550069  The Title IV-E Prevention Services Clearinghou...     0.0\n",
       "550070  This mixed-methods study seeks to deepen our u...     0.0\n",
       "550071  The purpose of this project is to examine the ...     0.0\n",
       "550072  The 2014 Child Care and Development Block Gran...     0.0\n",
       "550073  The goal of this study is to understand the us...     0.0\n",
       "\n",
       "[550074 rows x 2 columns]"
      ]
     },
     "execution_count": 80,
     "metadata": {},
     "output_type": "execute_result"
    }
   ],
   "source": [
    "tf_idf_df"
   ]
  },
  {
   "cell_type": "code",
   "execution_count": null,
   "metadata": {},
   "outputs": [],
   "source": []
  },
  {
   "cell_type": "markdown",
   "metadata": {},
   "source": [
    "## Latent Semantic Indexing (LSI) Approach\n",
    "\n",
    "Uses the TF-IDF matrix."
   ]
  },
  {
   "cell_type": "code",
   "execution_count": 81,
   "metadata": {},
   "outputs": [],
   "source": [
    "# Find the Truncated SVD of the TF-IDF matrix\n",
    "\n",
    "lsa = TruncatedSVD(n_components=500, random_state=1)\n",
    "USigma = lsa.fit_transform(tf_idf)\n",
    "Vtrans = lsa.components_"
   ]
  },
  {
   "cell_type": "code",
   "execution_count": 85,
   "metadata": {},
   "outputs": [],
   "source": [
    "# CHANGE QUERY WORDS HERE\n",
    "\n",
    "query_words = ['pandemic']\n",
    "\n",
    "q = create_query(query_words, tf_idf_terms)\n",
    "\n",
    "# transform query to be in same space as documents\n",
    "q = q.reshape(1,-1)\n",
    "qhat = lsa.transform(q)"
   ]
  },
  {
   "cell_type": "code",
   "execution_count": 86,
   "metadata": {},
   "outputs": [
    {
     "name": "stdout",
     "output_type": "stream",
     "text": [
      "(1, 500)\n",
      "(550074, 500)\n",
      "(500, 1058314)\n"
     ]
    }
   ],
   "source": [
    "print(qhat.shape)\n",
    "print(USigma.shape)\n",
    "print(Vtrans.shape)"
   ]
  },
  {
   "cell_type": "code",
   "execution_count": 87,
   "metadata": {},
   "outputs": [],
   "source": [
    "lsa_scores = pairwise_distances(qhat, USigma, metric='cosine', n_jobs=19)"
   ]
  },
  {
   "cell_type": "code",
   "execution_count": 88,
   "metadata": {},
   "outputs": [
    {
     "data": {
      "text/plain": [
       "(1, 550074)"
      ]
     },
     "execution_count": 88,
     "metadata": {},
     "output_type": "execute_result"
    }
   ],
   "source": [
    "lsa_scores.shape"
   ]
  },
  {
   "cell_type": "code",
   "execution_count": 89,
   "metadata": {},
   "outputs": [
    {
     "data": {
      "text/plain": [
       "array([[1.00844   , 1.00255825, 0.99657046, ..., 1.01523998, 1.00458235,\n",
       "        1.00618948]])"
      ]
     },
     "execution_count": 89,
     "metadata": {},
     "output_type": "execute_result"
    }
   ],
   "source": [
    "lsa_scores"
   ]
  },
  {
   "cell_type": "code",
   "execution_count": 90,
   "metadata": {},
   "outputs": [
    {
     "data": {
      "text/plain": [
       "numpy.ndarray"
      ]
     },
     "execution_count": 90,
     "metadata": {},
     "output_type": "execute_result"
    }
   ],
   "source": [
    "type(lsa_scores)"
   ]
  },
  {
   "cell_type": "code",
   "execution_count": 91,
   "metadata": {},
   "outputs": [
    {
     "data": {
      "text/plain": [
       "550074"
      ]
     },
     "execution_count": 91,
     "metadata": {},
     "output_type": "execute_result"
    }
   ],
   "source": [
    "sum(lsa_scores[0] > 0)"
   ]
  },
  {
   "cell_type": "code",
   "execution_count": 92,
   "metadata": {},
   "outputs": [
    {
     "data": {
      "text/plain": [
       "array([1.00844   , 1.00255825, 0.99657046, ..., 1.01523998, 1.00458235,\n",
       "       1.00618948])"
      ]
     },
     "execution_count": 92,
     "metadata": {},
     "output_type": "execute_result"
    }
   ],
   "source": [
    "lsa_scores[0]"
   ]
  },
  {
   "cell_type": "code",
   "execution_count": 93,
   "metadata": {},
   "outputs": [
    {
     "data": {
      "text/plain": [
       "array([1.08098967, 1.07729089, 1.07715628, 1.07566429, 1.07454822,\n",
       "       1.07420224, 1.07400681, 1.0733301 , 1.06976128, 1.06955734])"
      ]
     },
     "execution_count": 93,
     "metadata": {},
     "output_type": "execute_result"
    }
   ],
   "source": [
    "# sort scores in descending order\n",
    "\n",
    "lsa_scores_sorted = np.sort(lsa_scores[0])[::-1]\n",
    "lsa_scores_sorted[:10]"
   ]
  },
  {
   "cell_type": "code",
   "execution_count": 117,
   "metadata": {},
   "outputs": [
    {
     "name": "stdout",
     "output_type": "stream",
     "text": [
      "[120887 410792 483108 499717 516916 119396 412678 222388 368089 444202]\n"
     ]
    }
   ],
   "source": [
    "lsa_idx, lsa_top_abstracts = return_top_abstracts(df, lsa_scores[0], 100)"
   ]
  },
  {
   "cell_type": "code",
   "execution_count": 118,
   "metadata": {},
   "outputs": [
    {
     "data": {
      "text/plain": [
       "120887    Dengue fever is one of the most important emer...\n",
       "410792    ﻿   DESCRIPTION (provided by applicant): Respi...\n",
       "483108    ﻿DESCRIPTION (provided by applicant): Respirat...\n",
       "499717    Project SummaryThis proposal is for a new R21,...\n",
       "516916    We initially focused on a PIV3-based vector to...\n",
       "                                ...                        \n",
       "92478     This project has been designed to investigate ...\n",
       "490091    PROJECT 1: Systems Analyses of Heterologous Im...\n",
       "485285    CORE A PROJECT SUMMARY/ABSTRACTThe primary goa...\n",
       "28495     DESCRIPTION (provided by applicant): The long ...\n",
       "414783    ﻿   DESCRIPTION (provided by applicant): Respi...\n",
       "Name: ABSTRACT, Length: 100, dtype: object"
      ]
     },
     "execution_count": 118,
     "metadata": {},
     "output_type": "execute_result"
    }
   ],
   "source": [
    "lsa_top_abstracts"
   ]
  },
  {
   "cell_type": "code",
   "execution_count": 119,
   "metadata": {
    "collapsed": true,
    "jupyter": {
     "outputs_hidden": true
    }
   },
   "outputs": [
    {
     "data": {
      "text/plain": [
       "'We initially focused on a PIV3-based vector to express RSV F protein, given the pediatric impact of both viruses. We used an attenuated HPIV3 vaccine candidate called B/HPIV3 that we previously developed. This virus consists of bovine PIV3 in which the F and HN genes have been replaced by those of HPIV3, yielding a chimeric virus that is attenuated in primates due to the bovine backbone, and which bears the neutralization and major protective F and HN antigens of HPIV3. Both the empty B/HPIV3 vector and B/HPIV3 expressing the unmodified RSV F protein were previously shown to be well-tolerated in infants and young children. Therefore, the crucial factor of safety has already been demonstrated for this vector.  A number of strategies were evaluated previously  to optimize the immunogenicity  of the expressed RSV F protein. Evaluation of several different positions for the  RSV F gene in the vector genome identified the second gene position as generally being optimal. Evaluation of several versions of codon-optimization of the RSV F ORF identified the most efficient sequence. The RSV F protein was modified to be identical to an early-passage isolate, which reduced fusion and stabilized the trimer. We also engineered RSV F to be efficiently packaged in the B/HPIV3 vector particle. This was done by replacing the transmembrane domain and cytoplasmic tail (TMCT) of RSV F with those of BPIV3 F. This modification was substantially attenuating but resulted in a large increase in the titers of serum RSV-neutralizing antibodies when assayed in the absence of complement, an assay that detects strongly-neutralizing antibodies. We sought to improve the quality of the RSV F antigen by increasing the stability of the prefusion conformation (the conformation that is the most efficient in inducing neutralizing antibodies)  by structure-based engineering, using mutations that have been reported by colleagues in the NIH Vaccine Research Center and elsewhere. This included the addition of a disulfide bond (called the DS mutation) on its own and in combination with two cavity-filling mutations (called Cav1).  Both the DS and DS-Cav1 forms of RSV F resulted in a large increase in serum RSV-neutralizing antibodies that neutralized efficiently in vitro without added complement. The combination of DS-Cav1 prefusion stabilization, optimized codon-usage, and vector packaging significantly improved vector immunogenicity and protective efficacy against RSV. This provides an improved PIV3-vectored RSV vaccine candidate that will be manufactured into clinical trial maternal for pediatric clinical evaluation. During the present report period, we constructed and evaluated B/HPIV3 constructs expressing additional versions of stabilized prefusion RSV F protein, but these studies are still in progress. We also are constructing and evaluating versions of PIV3 vectors that are less attenuated on their own than B/HPIV3. The use of such a vector would accommodate the added attenuation that results from packaging of the TMCT versions of RSV F. We also used the B/HPIV3 vector to express the RSV attachment glycoprotein (G), which is the second RSV neutralization antigen and a major protective antigen. G contains a conserved fractalkine-like CX3C motif and is expressed as membrane-anchored (mG) and secreted (sG) forms. The CX3C motif and sG are widely  thought to interfere with host immune responses, and it has been suggested that elimination of these features would improve the immunogenicity of an RSV vaccine. We used the rB/HPIV3 vector to express wt RSV G and various modified forms, including  sG, mG, mutants with ablated CX3C motif, and mutants bearing the TMCT of BPIV3 HN to achieve enhanced packaging into vector virions. Using a hamster model, we evaluated the effects of these individual factors on immunogenicity and protective efficacy induced against both the vector and the RSV insert. Furthermore, since PIV3 and RSV have similar tropisms and patterns of replication in vivo, evaluation of the replication of the B/HPIV3 vector provided a means to detect possible changes in the pulmonary immune milieu that might affect RSV/PIV3 replication. In hamsters, all vector constructs replicated to similar titers in the upper and lower respiratory tracts, allowing direct comparison of immune responses. Ablation of sG did not affect the RSV- or PIV3-neutralizing antibody (NAb) responses. Increased packaging did not affect the immunogenicity of RSV G, in contrast to previous findings with RSV F. Mutation of the CX3C motif drastically reduced the G-specific serum NAb response and protection against RSV challenge, indicating the importance of the integrity of the CX3C motif for the immunogenicity of RSV G. In human airway epithelium (HAE) cultures, serum NAbs induced by wt RSV G , but not by wt RSV F, completely blocked RSV infection in the absence of added complement. This activity was reduced if the CX3C motif in the G immunogen was ablated. This suggests that NAbs induced by wt RSV G conferred more complete protection of the epithelium than NAbs induced by wt RSV F. In addition, vector expressing wt G was more protective in hamsters than that expressing wt F against RSV challenge. Increased expression of wt RSV G by codon-optimization increased the immunogenicity and protective efficacy. This study showed that ablation of the CX3C motif in an RSV vaccine, as has been suggested by some, would be ill-advised, and ablation of sG would have no benefit. It suggests that RSV G would be an important component of an RSV vaccine.We also extended the principles described above to HPIV1 vectors. We previously compared HPIV1 vectors that were attenuated by different mutations, and selected a vector containing a 6-nt deletion in the P/C gene (called C-del170), that reduces the ability of HPIV1 to block host interferon and apoptosis responses. We evaluated RSV F protein modified for increased stability in the prefusion conformation by the previously-described DS-Cav1 mutations. RSV F was expressed from the first or second gene position. The TMCT domains were  substituted with those of HPIV1 F, resulting in efficient packaging into the HPIV1 vector virions. In hamsters, the presence of the RSV F gene, and in particular the TMCT versions, was substantially attenuating and thereby resulted in reduced immunogenicity  (due to reduced antigen expression). However, the vector expressing full-length RSV F from the pre-N position was immunogenic for RSV and HPIV1. It conferred complement-independent high-quality RSV-neutralizing antibodies at titers similar to those of wild type RSV and provided protection against RSV challenge. The vectors exhibited stable RSV F expression in vitro and in vivo. In conclusion, an attenuated rHPIV1 vector expressing a pre-F-stabilized form of RSV F demonstrated promising immunogenicity and should be further developed as an intranasal bivalent pediatric vaccine.'"
      ]
     },
     "execution_count": 119,
     "metadata": {},
     "output_type": "execute_result"
    }
   ],
   "source": [
    "lsa_top_abstracts.iloc[4]"
   ]
  },
  {
   "cell_type": "code",
   "execution_count": 97,
   "metadata": {},
   "outputs": [],
   "source": [
    "lsa_df = create_result_df(df[\"ABSTRACT\"], lsa_scores[0])"
   ]
  },
  {
   "cell_type": "code",
   "execution_count": 98,
   "metadata": {},
   "outputs": [
    {
     "data": {
      "text/html": [
       "<div>\n",
       "<style scoped>\n",
       "    .dataframe tbody tr th:only-of-type {\n",
       "        vertical-align: middle;\n",
       "    }\n",
       "\n",
       "    .dataframe tbody tr th {\n",
       "        vertical-align: top;\n",
       "    }\n",
       "\n",
       "    .dataframe thead th {\n",
       "        text-align: right;\n",
       "    }\n",
       "</style>\n",
       "<table border=\"1\" class=\"dataframe\">\n",
       "  <thead>\n",
       "    <tr style=\"text-align: right;\">\n",
       "      <th></th>\n",
       "      <th>abstracts</th>\n",
       "      <th>scores</th>\n",
       "    </tr>\n",
       "  </thead>\n",
       "  <tbody>\n",
       "    <tr>\n",
       "      <th>0</th>\n",
       "      <td>This is a project to explore Game-based, Metap...</td>\n",
       "      <td>1.008440</td>\n",
       "    </tr>\n",
       "    <tr>\n",
       "      <th>1</th>\n",
       "      <td>Institution: Franklin Institute Science Museum...</td>\n",
       "      <td>1.002558</td>\n",
       "    </tr>\n",
       "    <tr>\n",
       "      <th>2</th>\n",
       "      <td>Through programs (including small group conver...</td>\n",
       "      <td>0.996570</td>\n",
       "    </tr>\n",
       "    <tr>\n",
       "      <th>3</th>\n",
       "      <td>In partnership with the American Chemical Soci...</td>\n",
       "      <td>0.995445</td>\n",
       "    </tr>\n",
       "    <tr>\n",
       "      <th>4</th>\n",
       "      <td>Amphibian populations around the world are exp...</td>\n",
       "      <td>0.997222</td>\n",
       "    </tr>\n",
       "    <tr>\n",
       "      <th>...</th>\n",
       "      <td>...</td>\n",
       "      <td>...</td>\n",
       "    </tr>\n",
       "    <tr>\n",
       "      <th>550069</th>\n",
       "      <td>The Title IV-E Prevention Services Clearinghou...</td>\n",
       "      <td>1.007695</td>\n",
       "    </tr>\n",
       "    <tr>\n",
       "      <th>550070</th>\n",
       "      <td>This mixed-methods study seeks to deepen our u...</td>\n",
       "      <td>1.004997</td>\n",
       "    </tr>\n",
       "    <tr>\n",
       "      <th>550071</th>\n",
       "      <td>The purpose of this project is to examine the ...</td>\n",
       "      <td>1.015240</td>\n",
       "    </tr>\n",
       "    <tr>\n",
       "      <th>550072</th>\n",
       "      <td>The 2014 Child Care and Development Block Gran...</td>\n",
       "      <td>1.004582</td>\n",
       "    </tr>\n",
       "    <tr>\n",
       "      <th>550073</th>\n",
       "      <td>The goal of this study is to understand the us...</td>\n",
       "      <td>1.006189</td>\n",
       "    </tr>\n",
       "  </tbody>\n",
       "</table>\n",
       "<p>550074 rows × 2 columns</p>\n",
       "</div>"
      ],
      "text/plain": [
       "                                                abstracts    scores\n",
       "0       This is a project to explore Game-based, Metap...  1.008440\n",
       "1       Institution: Franklin Institute Science Museum...  1.002558\n",
       "2       Through programs (including small group conver...  0.996570\n",
       "3       In partnership with the American Chemical Soci...  0.995445\n",
       "4       Amphibian populations around the world are exp...  0.997222\n",
       "...                                                   ...       ...\n",
       "550069  The Title IV-E Prevention Services Clearinghou...  1.007695\n",
       "550070  This mixed-methods study seeks to deepen our u...  1.004997\n",
       "550071  The purpose of this project is to examine the ...  1.015240\n",
       "550072  The 2014 Child Care and Development Block Gran...  1.004582\n",
       "550073  The goal of this study is to understand the us...  1.006189\n",
       "\n",
       "[550074 rows x 2 columns]"
      ]
     },
     "execution_count": 98,
     "metadata": {},
     "output_type": "execute_result"
    }
   ],
   "source": [
    "lsa_df"
   ]
  },
  {
   "cell_type": "code",
   "execution_count": null,
   "metadata": {},
   "outputs": [],
   "source": []
  },
  {
   "cell_type": "markdown",
   "metadata": {},
   "source": [
    "## Topic Modeling with relevant pandemic abstracts"
   ]
  },
  {
   "cell_type": "code",
   "execution_count": 126,
   "metadata": {},
   "outputs": [],
   "source": [
    "docs_ix = np.concatenate([f_idx, tfidf_idx, lsa_idx])"
   ]
  },
  {
   "cell_type": "code",
   "execution_count": 127,
   "metadata": {},
   "outputs": [],
   "source": [
    "docs_idx = np.unique(docs_ix)"
   ]
  },
  {
   "cell_type": "code",
   "execution_count": 131,
   "metadata": {},
   "outputs": [
    {
     "data": {
      "text/plain": [
       "(238,)"
      ]
     },
     "execution_count": 131,
     "metadata": {},
     "output_type": "execute_result"
    }
   ],
   "source": [
    "docs_idx.shape"
   ]
  },
  {
   "cell_type": "code",
   "execution_count": 132,
   "metadata": {},
   "outputs": [],
   "source": [
    "docs = df['ABSTRACT'][docs_idx]"
   ]
  },
  {
   "cell_type": "code",
   "execution_count": 133,
   "metadata": {},
   "outputs": [],
   "source": [
    "nmf_vectorizer = TfidfVectorizer(max_df=0.4, min_df=3, lowercase=True, max_features=int(len(docs)/2))\n",
    "nmf_tf_idf = nmf_vectorizer.fit_transform(docs)"
   ]
  },
  {
   "cell_type": "code",
   "execution_count": 137,
   "metadata": {},
   "outputs": [],
   "source": [
    "# topic modeling with NMF\n",
    "\n",
    "nmf_model = NMF(n_components=10, random_state=1)\n",
    "W = nmf_model.fit_transform(nmf_tf_idf)\n",
    "H = nmf_model.components_"
   ]
  },
  {
   "cell_type": "code",
   "execution_count": 135,
   "metadata": {},
   "outputs": [],
   "source": [
    "# function slightly modified from https://nlpforhackers.io/topic-modeling/\n",
    "\n",
    "def print_topics(model, vectorizer, top_n=10):\n",
    "    for idx, topic in enumerate(model.components_):  # loop through each row of H.  idx = row index.  topic = actual row\n",
    "        print(\"\\nTopic %d:\" % (idx))\n",
    "        #print([(vectorizer.get_feature_names()[i], topic[i])  # printing out words corresponding to indices found in next line\n",
    "                        #for i in topic.argsort()[:-top_n - 1:-1]])  # finding indices of top words in topic\n",
    "            \n",
    "        print_list = [(vectorizer.get_feature_names()[i], topic[i])  \n",
    "                        for i in topic.argsort()[:-top_n - 1:-1]]\n",
    "        for item in print_list:\n",
    "            print(item)\n",
    "        "
   ]
  },
  {
   "cell_type": "code",
   "execution_count": 138,
   "metadata": {},
   "outputs": [
    {
     "name": "stdout",
     "output_type": "stream",
     "text": [
      "\n",
      "Topic 0:\n",
      "('rsv', 2.795218020654589)\n",
      "('airway', 0.36470339736504226)\n",
      "('asthma', 0.35133118774291056)\n",
      "('expression', 0.28851166079183294)\n",
      "('induced', 0.2876505132268857)\n",
      "('lung', 0.25092440219377565)\n",
      "('infants', 0.24268855831998154)\n",
      "('mice', 0.21239884659800604)\n",
      "('role', 0.1996148426464383)\n",
      "('severe', 0.1982233900343613)\n",
      "\n",
      "Topic 1:\n",
      "('vaccines', 0.9188059343400766)\n",
      "('against', 0.7827593564023378)\n",
      "('protection', 0.5629577644647044)\n",
      "('antibody', 0.5498538945061914)\n",
      "('vaccination', 0.47524610524449723)\n",
      "('ha', 0.39533842881474995)\n",
      "('responses', 0.36053509023532204)\n",
      "('cross', 0.3111548988760989)\n",
      "('antibodies', 0.2659231868889383)\n",
      "('strain', 0.2623675857410589)\n",
      "\n",
      "Topic 2:\n",
      "('zikv', 1.9443930018333209)\n",
      "('denv', 0.4013957558654288)\n",
      "('aim', 0.11402717201109577)\n",
      "('such', 0.08550146211377954)\n",
      "('between', 0.08150924164521098)\n",
      "('how', 0.08142181142621109)\n",
      "('high', 0.07253149164384412)\n",
      "('protein', 0.07243403627880844)\n",
      "('it', 0.07020558889870795)\n",
      "('other', 0.06261986279742487)\n",
      "\n",
      "Topic 3:\n",
      "('1918', 1.4010506736642008)\n",
      "('pandemics', 0.6140248737304455)\n",
      "('were', 0.421117407884248)\n",
      "('cases', 0.37919784650724264)\n",
      "('resulted', 0.3586180412357161)\n",
      "('avian', 0.343380546136445)\n",
      "('significant', 0.333845027729551)\n",
      "('000', 0.3241775613767565)\n",
      "('was', 0.32130361509799915)\n",
      "('host', 0.3118818734386424)\n",
      "\n",
      "Topic 4:\n",
      "('dengue', 1.2589486049110505)\n",
      "('denv', 0.891834786353831)\n",
      "('aim', 0.17975576476350322)\n",
      "('infections', 0.17870005195910038)\n",
      "('clinical', 0.12106305068569649)\n",
      "('responses', 0.12087357906922684)\n",
      "('project', 0.1072247648778898)\n",
      "('important', 0.10235999382007242)\n",
      "('infants', 0.07765726707472952)\n",
      "('pre', 0.07238045721918278)\n",
      "\n",
      "Topic 5:\n",
      "('research', 0.7095403627402099)\n",
      "('public', 0.4015048793743077)\n",
      "('clinical', 0.3498399479464886)\n",
      "('data', 0.3265551579333032)\n",
      "('other', 0.32090034348909996)\n",
      "('population', 0.3123999959107783)\n",
      "('such', 0.3021966075609325)\n",
      "('project', 0.2901899408406077)\n",
      "('use', 0.28432087116831745)\n",
      "('their', 0.24750140536244275)\n",
      "\n",
      "Topic 6:\n",
      "('h1n1', 1.2141930659726432)\n",
      "('2009', 0.900276992302189)\n",
      "('seasonal', 0.32873493728618874)\n",
      "('was', 0.26883384534457155)\n",
      "('swine', 0.26803255978565355)\n",
      "('clinical', 0.24382728641443813)\n",
      "('were', 0.22561678799591262)\n",
      "('pandemics', 0.16936958798210167)\n",
      "('severe', 0.16515549940584134)\n",
      "('challenge', 0.14198968349994395)\n",
      "\n",
      "Topic 7:\n",
      "('cd8', 1.481616449844236)\n",
      "('responses', 0.41646010309983184)\n",
      "('following', 0.28723797798060313)\n",
      "('mice', 0.22041148108646122)\n",
      "('lung', 0.218826948539396)\n",
      "('during', 0.1914315769758383)\n",
      "('rsv', 0.14785209962629695)\n",
      "('other', 0.14758115608462818)\n",
      "('respiratory', 0.14694641033294892)\n",
      "('infections', 0.12732896379708983)\n",
      "\n",
      "Topic 8:\n",
      "('iav', 0.6965315874060288)\n",
      "('ha', 0.4437129428145635)\n",
      "('proteins', 0.37394896774092756)\n",
      "('virulence', 0.30080442046465183)\n",
      "('replication', 0.28475400785119015)\n",
      "('novel', 0.27375318148252153)\n",
      "('host', 0.25927359932501925)\n",
      "('aim', 0.23878502334473725)\n",
      "('how', 0.23535447867308523)\n",
      "('mechanisms', 0.21342444585588757)\n",
      "\n",
      "Topic 9:\n",
      "('h5n1', 1.1476615694543306)\n",
      "('avian', 1.0091483105745975)\n",
      "('swine', 0.33568407792222693)\n",
      "('humans', 0.2955643027485509)\n",
      "('highly', 0.23109174261321128)\n",
      "('production', 0.21153597948448177)\n",
      "('cross', 0.15279513554374138)\n",
      "('significant', 0.14913015048485515)\n",
      "('potential', 0.14551242781616683)\n",
      "('cause', 0.14375982836603904)\n"
     ]
    }
   ],
   "source": [
    "print_topics(nmf_model, nmf_vectorizer, 10)"
   ]
  },
  {
   "cell_type": "code",
   "execution_count": null,
   "metadata": {},
   "outputs": [],
   "source": []
  }
 ],
 "metadata": {
  "kernelspec": {
   "display_name": "Python 3",
   "language": "python",
   "name": "python3"
  },
  "language_info": {
   "codemirror_mode": {
    "name": "ipython",
    "version": 3
   },
   "file_extension": ".py",
   "mimetype": "text/x-python",
   "name": "python",
   "nbconvert_exporter": "python",
   "pygments_lexer": "ipython3",
   "version": "3.7.4"
  }
 },
 "nbformat": 4,
 "nbformat_minor": 4
}
