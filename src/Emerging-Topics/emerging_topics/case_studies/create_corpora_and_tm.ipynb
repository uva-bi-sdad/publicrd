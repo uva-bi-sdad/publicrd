{
 "cells": [
  {
   "cell_type": "markdown",
   "metadata": {},
   "source": [
    "# Information Retrieval - For RShiny Dashboard  \n",
    "This notebook retrieves abstracts relevant to pandemics and then uses topic modeling to analyze the chosen abstracts.  Three info retrieval techniques are used: Literal Term Matching, TF-IDF, and Latent Semantic Indexing.  These are linear algebra techniques.  \n",
    "We use the Scikit-Learn library."
   ]
  },
  {
   "cell_type": "code",
   "execution_count": 1,
   "metadata": {},
   "outputs": [],
   "source": [
    "import pandas as pd\n",
    "import numpy as np\n",
    "import pickle\n",
    "import matplotlib.pyplot as plt\n",
    "import gensim\n",
    "import time\n",
    "\n",
    "from sklearn.decomposition import NMF, TruncatedSVD, LatentDirichletAllocation\n",
    "from sklearn.feature_extraction.text import CountVectorizer\n",
    "from sklearn.feature_extraction.text import TfidfVectorizer\n",
    "from sklearn.metrics import pairwise_distances\n",
    "\n",
    "import spacy\n",
    "from spacy.lang.en.stop_words import STOP_WORDS"
   ]
  },
  {
   "cell_type": "code",
   "execution_count": null,
   "metadata": {},
   "outputs": [],
   "source": []
  },
  {
   "cell_type": "code",
   "execution_count": 2,
   "metadata": {},
   "outputs": [],
   "source": [
    "# pull in data\n",
    "\n",
    "df = pd.read_pickle(\"../../../data/final/final_dataset_7-20.pkl\")\n",
    "\n",
    "df.reset_index(inplace = True)\n",
    "#df.rename(columns={'index':'original index'}, inplace=True)"
   ]
  },
  {
   "cell_type": "code",
   "execution_count": 3,
   "metadata": {},
   "outputs": [
    {
     "data": {
      "text/html": [
       "<div>\n",
       "<style scoped>\n",
       "    .dataframe tbody tr th:only-of-type {\n",
       "        vertical-align: middle;\n",
       "    }\n",
       "\n",
       "    .dataframe tbody tr th {\n",
       "        vertical-align: top;\n",
       "    }\n",
       "\n",
       "    .dataframe thead th {\n",
       "        text-align: right;\n",
       "    }\n",
       "</style>\n",
       "<table border=\"1\" class=\"dataframe\">\n",
       "  <thead>\n",
       "    <tr style=\"text-align: right;\">\n",
       "      <th></th>\n",
       "      <th>index</th>\n",
       "      <th>original index</th>\n",
       "      <th>PROJECT_ID</th>\n",
       "      <th>ABSTRACT</th>\n",
       "      <th>FY</th>\n",
       "      <th>PROJECT_TERMS</th>\n",
       "      <th>PROJECT_TITLE</th>\n",
       "      <th>DEPARTMENT</th>\n",
       "      <th>AGENCY</th>\n",
       "      <th>IC_CENTER</th>\n",
       "      <th>...</th>\n",
       "      <th>working_abstract</th>\n",
       "      <th>Start_Char</th>\n",
       "      <th>nchar</th>\n",
       "      <th>LAST_CHAR</th>\n",
       "      <th>lemma_abstract</th>\n",
       "      <th>clean_lemmas</th>\n",
       "      <th>stopwds_removed</th>\n",
       "      <th>n_grams_added</th>\n",
       "      <th>final_tokens</th>\n",
       "      <th>final_frqwds_removed</th>\n",
       "    </tr>\n",
       "  </thead>\n",
       "  <tbody>\n",
       "    <tr>\n",
       "      <th>0</th>\n",
       "      <td>0</td>\n",
       "      <td>17608</td>\n",
       "      <td>152242</td>\n",
       "      <td>The multiprotein complex y-secretase proteolyt...</td>\n",
       "      <td>2008</td>\n",
       "      <td>Active Sites; Affect; Alzheimer's Disease; Amy...</td>\n",
       "      <td>STRUCTURE OF SIGNAL PEPTIDE PEPTIDASE</td>\n",
       "      <td>HHS</td>\n",
       "      <td>NIH</td>\n",
       "      <td>NaN</td>\n",
       "      <td>...</td>\n",
       "      <td>The multiprotein complex y-secretase proteolyt...</td>\n",
       "      <td>T</td>\n",
       "      <td>1402</td>\n",
       "      <td>g</td>\n",
       "      <td>[multiprotein, complex, y-secretase, proteolyt...</td>\n",
       "      <td>[multiprotein, complex, y-secretase, proteolyt...</td>\n",
       "      <td>[multiprotein, complex, y-secretase, proteolyt...</td>\n",
       "      <td>[multiprotein, complex, y-secretase, proteolyt...</td>\n",
       "      <td>[multiprotein, complex, y_secretase, proteolyt...</td>\n",
       "      <td>[multiprotein, y_secretase, proteolytically_cl...</td>\n",
       "    </tr>\n",
       "    <tr>\n",
       "      <th>1</th>\n",
       "      <td>1</td>\n",
       "      <td>111864</td>\n",
       "      <td>190316</td>\n",
       "      <td>DESCRIPTION (provided by applicant):   The Kis...</td>\n",
       "      <td>2008</td>\n",
       "      <td>Affect; Animal Model; Axon; Behavior; Behavior...</td>\n",
       "      <td>ROLE OF KISS1 NEURONS IN THE SEASONAL AND CIRC...</td>\n",
       "      <td>HHS</td>\n",
       "      <td>NIH</td>\n",
       "      <td>NaN</td>\n",
       "      <td>...</td>\n",
       "      <td>The Kissl gene encodes peptides called kisspep...</td>\n",
       "      <td>T</td>\n",
       "      <td>2553</td>\n",
       "      <td>y</td>\n",
       "      <td>[Kissl, gene, encode, peptide, call, kisspepti...</td>\n",
       "      <td>[kissl, gene, encode, peptide, call, kisspepti...</td>\n",
       "      <td>[kissl, gene, encode, peptide, kisspeptin, bin...</td>\n",
       "      <td>[kissl, gene, encode, peptide, kisspeptin, bin...</td>\n",
       "      <td>[kissl, gene, encode, peptide, kisspeptin, bin...</td>\n",
       "      <td>[kissl, gene, encode, peptide, kisspeptin, bin...</td>\n",
       "    </tr>\n",
       "    <tr>\n",
       "      <th>2</th>\n",
       "      <td>2</td>\n",
       "      <td>22052</td>\n",
       "      <td>154213</td>\n",
       "      <td>DESCRIPTION (provided by applicant): The objec...</td>\n",
       "      <td>2008</td>\n",
       "      <td>Agreement; Antibodies; base; Binding; Biochemi...</td>\n",
       "      <td>CARBONIC ANHYDRASE AS A MODEL TO UNDERSTAND DI...</td>\n",
       "      <td>HHS</td>\n",
       "      <td>NIH</td>\n",
       "      <td>NaN</td>\n",
       "      <td>...</td>\n",
       "      <td>The objective of this research is to understan...</td>\n",
       "      <td>T</td>\n",
       "      <td>1414</td>\n",
       "      <td>e</td>\n",
       "      <td>[objective, research, be, understand, biophysi...</td>\n",
       "      <td>[objective, research, be, understand, biophysi...</td>\n",
       "      <td>[objective, research, understand, biophysical,...</td>\n",
       "      <td>[objective, research, understand, biophysical,...</td>\n",
       "      <td>[objective, research, understand, biophysical,...</td>\n",
       "      <td>[biophysical, basis, thermodynamics_kinetic, m...</td>\n",
       "    </tr>\n",
       "    <tr>\n",
       "      <th>3</th>\n",
       "      <td>3</td>\n",
       "      <td>35004</td>\n",
       "      <td>159362</td>\n",
       "      <td>Obesity is the cause of many adverse pregnancy...</td>\n",
       "      <td>2008</td>\n",
       "      <td>African; Analysis of Variance; Asians; Birth; ...</td>\n",
       "      <td>OBESITY ON VAGAL TONE AND HBA1C DURING PREGNANCY</td>\n",
       "      <td>HHS</td>\n",
       "      <td>NIH</td>\n",
       "      <td>NaN</td>\n",
       "      <td>...</td>\n",
       "      <td>Obesity is the cause of many adverse pregnancy...</td>\n",
       "      <td>O</td>\n",
       "      <td>1545</td>\n",
       "      <td>d</td>\n",
       "      <td>[obesity, cause, many, adverse, pregnancyoutco...</td>\n",
       "      <td>[obesity, cause, many, adverse, pregnancyoutco...</td>\n",
       "      <td>[obesity, cause, adverse, pregnancyoutcome, re...</td>\n",
       "      <td>[obesity, cause, adverse_pregnancyoutcome, res...</td>\n",
       "      <td>[obesity, cause, adverse_pregnancyoutcome, res...</td>\n",
       "      <td>[obesity, adverse_pregnancyoutcome, great, hea...</td>\n",
       "    </tr>\n",
       "    <tr>\n",
       "      <th>4</th>\n",
       "      <td>4</td>\n",
       "      <td>371628</td>\n",
       "      <td>594482</td>\n",
       "      <td>Local potato advisory groups have expressed in...</td>\n",
       "      <td>2010</td>\n",
       "      <td>cost; Health; interest; Manure; Parasitic nema...</td>\n",
       "      <td>PLANT-PARASITIC NEMATODE MANAGEMENT AS A COMPO...</td>\n",
       "      <td>USDA</td>\n",
       "      <td>NIFA</td>\n",
       "      <td>NaN</td>\n",
       "      <td>...</td>\n",
       "      <td>Local potato advisory groups have expressed in...</td>\n",
       "      <td>L</td>\n",
       "      <td>271</td>\n",
       "      <td>s</td>\n",
       "      <td>[local, potato, advisory, group, express, inte...</td>\n",
       "      <td>[local, potato, advisory, group, express, inte...</td>\n",
       "      <td>[local, potato, advisory, group, express, inte...</td>\n",
       "      <td>[local, potato, advisory, group, express, inte...</td>\n",
       "      <td>[local, potato, advisory, group, express, inte...</td>\n",
       "      <td>[local, potato, advisory, express, interest, m...</td>\n",
       "    </tr>\n",
       "  </tbody>\n",
       "</table>\n",
       "<p>5 rows × 40 columns</p>\n",
       "</div>"
      ],
      "text/plain": [
       "   index  original index PROJECT_ID  \\\n",
       "0      0           17608     152242   \n",
       "1      1          111864     190316   \n",
       "2      2           22052     154213   \n",
       "3      3           35004     159362   \n",
       "4      4          371628     594482   \n",
       "\n",
       "                                            ABSTRACT    FY  \\\n",
       "0  The multiprotein complex y-secretase proteolyt...  2008   \n",
       "1  DESCRIPTION (provided by applicant):   The Kis...  2008   \n",
       "2  DESCRIPTION (provided by applicant): The objec...  2008   \n",
       "3  Obesity is the cause of many adverse pregnancy...  2008   \n",
       "4  Local potato advisory groups have expressed in...  2010   \n",
       "\n",
       "                                       PROJECT_TERMS  \\\n",
       "0  Active Sites; Affect; Alzheimer's Disease; Amy...   \n",
       "1  Affect; Animal Model; Axon; Behavior; Behavior...   \n",
       "2  Agreement; Antibodies; base; Binding; Biochemi...   \n",
       "3  African; Analysis of Variance; Asians; Birth; ...   \n",
       "4  cost; Health; interest; Manure; Parasitic nema...   \n",
       "\n",
       "                                       PROJECT_TITLE DEPARTMENT AGENCY  \\\n",
       "0              STRUCTURE OF SIGNAL PEPTIDE PEPTIDASE        HHS    NIH   \n",
       "1  ROLE OF KISS1 NEURONS IN THE SEASONAL AND CIRC...        HHS    NIH   \n",
       "2  CARBONIC ANHYDRASE AS A MODEL TO UNDERSTAND DI...        HHS    NIH   \n",
       "3   OBESITY ON VAGAL TONE AND HBA1C DURING PREGNANCY        HHS    NIH   \n",
       "4  PLANT-PARASITIC NEMATODE MANAGEMENT AS A COMPO...       USDA   NIFA   \n",
       "\n",
       "  IC_CENTER  ...                                   working_abstract  \\\n",
       "0       NaN  ...  The multiprotein complex y-secretase proteolyt...   \n",
       "1       NaN  ...  The Kissl gene encodes peptides called kisspep...   \n",
       "2       NaN  ...  The objective of this research is to understan...   \n",
       "3       NaN  ...  Obesity is the cause of many adverse pregnancy...   \n",
       "4       NaN  ...  Local potato advisory groups have expressed in...   \n",
       "\n",
       "  Start_Char nchar LAST_CHAR  \\\n",
       "0          T  1402         g   \n",
       "1          T  2553         y   \n",
       "2          T  1414         e   \n",
       "3          O  1545         d   \n",
       "4          L   271         s   \n",
       "\n",
       "                                      lemma_abstract  \\\n",
       "0  [multiprotein, complex, y-secretase, proteolyt...   \n",
       "1  [Kissl, gene, encode, peptide, call, kisspepti...   \n",
       "2  [objective, research, be, understand, biophysi...   \n",
       "3  [obesity, cause, many, adverse, pregnancyoutco...   \n",
       "4  [local, potato, advisory, group, express, inte...   \n",
       "\n",
       "                                        clean_lemmas  \\\n",
       "0  [multiprotein, complex, y-secretase, proteolyt...   \n",
       "1  [kissl, gene, encode, peptide, call, kisspepti...   \n",
       "2  [objective, research, be, understand, biophysi...   \n",
       "3  [obesity, cause, many, adverse, pregnancyoutco...   \n",
       "4  [local, potato, advisory, group, express, inte...   \n",
       "\n",
       "                                     stopwds_removed  \\\n",
       "0  [multiprotein, complex, y-secretase, proteolyt...   \n",
       "1  [kissl, gene, encode, peptide, kisspeptin, bin...   \n",
       "2  [objective, research, understand, biophysical,...   \n",
       "3  [obesity, cause, adverse, pregnancyoutcome, re...   \n",
       "4  [local, potato, advisory, group, express, inte...   \n",
       "\n",
       "                                       n_grams_added  \\\n",
       "0  [multiprotein, complex, y-secretase, proteolyt...   \n",
       "1  [kissl, gene, encode, peptide, kisspeptin, bin...   \n",
       "2  [objective, research, understand, biophysical,...   \n",
       "3  [obesity, cause, adverse_pregnancyoutcome, res...   \n",
       "4  [local, potato, advisory, group, express, inte...   \n",
       "\n",
       "                                        final_tokens  \\\n",
       "0  [multiprotein, complex, y_secretase, proteolyt...   \n",
       "1  [kissl, gene, encode, peptide, kisspeptin, bin...   \n",
       "2  [objective, research, understand, biophysical,...   \n",
       "3  [obesity, cause, adverse_pregnancyoutcome, res...   \n",
       "4  [local, potato, advisory, group, express, inte...   \n",
       "\n",
       "                                final_frqwds_removed  \n",
       "0  [multiprotein, y_secretase, proteolytically_cl...  \n",
       "1  [kissl, gene, encode, peptide, kisspeptin, bin...  \n",
       "2  [biophysical, basis, thermodynamics_kinetic, m...  \n",
       "3  [obesity, adverse_pregnancyoutcome, great, hea...  \n",
       "4  [local, potato, advisory, express, interest, m...  \n",
       "\n",
       "[5 rows x 40 columns]"
      ]
     },
     "execution_count": 3,
     "metadata": {},
     "output_type": "execute_result"
    }
   ],
   "source": [
    "df.head()"
   ]
  },
  {
   "cell_type": "code",
   "execution_count": 4,
   "metadata": {},
   "outputs": [],
   "source": [
    "# input needed for doc-term matrix creation in Scikit-Learn is one string per document (not a list of strings).  \n",
    "# Original data is already in this form!\n",
    "\n",
    "docs = df[\"ABSTRACT\"] \n",
    "tokens = df[\"final_frqwds_removed\"]"
   ]
  },
  {
   "cell_type": "code",
   "execution_count": null,
   "metadata": {},
   "outputs": [],
   "source": []
  },
  {
   "cell_type": "markdown",
   "metadata": {},
   "source": [
    "## Functions needed for all info retrieval approaches"
   ]
  },
  {
   "cell_type": "code",
   "execution_count": 5,
   "metadata": {},
   "outputs": [],
   "source": [
    "# Create query vector \n",
    "\n",
    "def create_query(words, terms):\n",
    "    \n",
    "    # words: search query words\n",
    "    # terms: terms in corpus\n",
    "    \n",
    "    q = np.zeros(len(terms))  # number of terms\n",
    "\n",
    "    idx = []\n",
    "    for word in query_words:\n",
    "        idx.append(terms.index(word))\n",
    "\n",
    "    q[idx] = 1\n",
    "    \n",
    "    return q"
   ]
  },
  {
   "cell_type": "code",
   "execution_count": 6,
   "metadata": {},
   "outputs": [],
   "source": [
    "def return_top_abstracts(docs, scores, top_n):\n",
    "    \n",
    "    '''\n",
    "    docs: Series that contains abstract\n",
    "    scores: scores of abstracts\n",
    "    top_n: return the top_n abstracts given by idx, if top_n = -1 return all abstracts\n",
    "    '''\n",
    "    # sort scores in descending order\n",
    "    scores_sorted_idx = np.argsort(scores)[::-1]\n",
    "    \n",
    "    if top_n == -1:\n",
    "        n = sum(scores > 0)\n",
    "        ix = scores_sorted_idx[:n]\n",
    "    else:\n",
    "        ix = scores_sorted_idx[:top_n]\n",
    "    \n",
    "    print(ix[0:10])\n",
    "    \n",
    "    return ix, docs[ix]\n",
    "    "
   ]
  },
  {
   "cell_type": "code",
   "execution_count": 7,
   "metadata": {},
   "outputs": [],
   "source": [
    "def create_result_df(abstracts, scores):\n",
    "    \n",
    "    df = pd.DataFrame()\n",
    "    df[\"abstracts\"] = abstracts\n",
    "    df[\"scores\"] = scores\n",
    "    \n",
    "    return df"
   ]
  },
  {
   "cell_type": "code",
   "execution_count": null,
   "metadata": {},
   "outputs": [],
   "source": []
  },
  {
   "cell_type": "markdown",
   "metadata": {},
   "source": [
    "## Literal Term Matching - Frequency Count Document-Term Matrix\n",
    "\n",
    "This will return all abstracts in the corpus with exact word matches to the query.  \n",
    "\n",
    "Results will be return in sorted order of how high the query scores with each abstract. A high score means more occurences of the query words in the abstract."
   ]
  },
  {
   "cell_type": "code",
   "execution_count": 8,
   "metadata": {},
   "outputs": [],
   "source": [
    "# Note - we are now using the spaCy stopwords list instead of nltk.  It is more comprehensive.\n",
    "\n",
    "def create_stopwords():\n",
    "      \n",
    "    \"\"\" creates list of stopwords. stop words include the general English list and any additional we see sneaking \n",
    "    through.  \"\"\"\n",
    "    \n",
    "    spacy_stop_words = STOP_WORDS\n",
    "\n",
    "    # more stop words that do not add meaning to topics\n",
    "    additional_stopwords = {'addition', 'specifically', 'similar','including', 'particular', \n",
    "                            'furthermore','include', 'includes','overall', 'finally', 'specific', \n",
    "                            'additional'} \n",
    "           \n",
    "    sw = spacy_stop_words.union(additional_stopwords)\n",
    "    \n",
    "    return sw"
   ]
  },
  {
   "cell_type": "code",
   "execution_count": 9,
   "metadata": {},
   "outputs": [
    {
     "name": "stderr",
     "output_type": "stream",
     "text": [
      "/apps/software/standard/compiler/gcc/7.1.0/jupyter_conda/2019.10-py3.7/lib/python3.7/site-packages/sklearn/feature_extraction/text.py:385: UserWarning: Your stop_words may be inconsistent with your preprocessing. Tokenizing the stop words generated tokens ['ll', 've'] not in stop_words.\n",
      "  'stop_words.' % sorted(inconsistent))\n"
     ]
    }
   ],
   "source": [
    "# Create document-term matrix based on count frequencies\n",
    "\n",
    "stop_words = create_stopwords()\n",
    "\n",
    "vectorizer = CountVectorizer(lowercase=True, stop_words=stop_words, min_df=20)\n",
    "doc_term_matrix = vectorizer.fit_transform(docs)"
   ]
  },
  {
   "cell_type": "code",
   "execution_count": 10,
   "metadata": {},
   "outputs": [
    {
     "data": {
      "text/plain": [
       "(690814, 84347)"
      ]
     },
     "execution_count": 10,
     "metadata": {},
     "output_type": "execute_result"
    }
   ],
   "source": [
    "doc_term_matrix.shape"
   ]
  },
  {
   "cell_type": "code",
   "execution_count": 11,
   "metadata": {},
   "outputs": [],
   "source": [
    "terms = vectorizer.get_feature_names()"
   ]
  },
  {
   "cell_type": "markdown",
   "metadata": {},
   "source": [
    "### Create Query Words - list the search terms\n",
    "\n",
    "A query is just a list of words to search for in the corpus.  We will use the same query for all three info retrieval techniques."
   ]
  },
  {
   "cell_type": "code",
   "execution_count": 122,
   "metadata": {},
   "outputs": [],
   "source": [
    "# CHANGE QUERY WORDS HERE\n",
    "\n",
    "query_words = ['coronavirus']#, 'mers', 'sars'] # 'pandemic', mers_cov', 'sars_cov']   #'mers', 'sars', 'zikv', 'denv', 'hiv'] #'influenza', 'aids'] \n",
    "              \n",
    "q = create_query(query_words, terms)"
   ]
  },
  {
   "cell_type": "code",
   "execution_count": null,
   "metadata": {},
   "outputs": [],
   "source": []
  },
  {
   "cell_type": "code",
   "execution_count": 123,
   "metadata": {},
   "outputs": [],
   "source": [
    "# calculate the score for each document against the query. Docs with more occurences of the query words \n",
    "# will score higher\n",
    "\n",
    "f_scores = doc_term_matrix.dot(q)"
   ]
  },
  {
   "cell_type": "code",
   "execution_count": 124,
   "metadata": {},
   "outputs": [
    {
     "data": {
      "text/plain": [
       "457"
      ]
     },
     "execution_count": 124,
     "metadata": {},
     "output_type": "execute_result"
    }
   ],
   "source": [
    "sum(f_scores >0)  # how many abstracts include at least one of the query words"
   ]
  },
  {
   "cell_type": "code",
   "execution_count": 125,
   "metadata": {},
   "outputs": [
    {
     "data": {
      "text/plain": [
       "array([13., 11., 11., 10., 10.,  7.,  7.,  7.,  7.,  7.])"
      ]
     },
     "execution_count": 125,
     "metadata": {},
     "output_type": "execute_result"
    }
   ],
   "source": [
    "# sort scores in descending order\n",
    "\n",
    "f_scores_sorted = np.sort(f_scores)[::-1]\n",
    "f_scores_sorted[:10]"
   ]
  },
  {
   "cell_type": "code",
   "execution_count": 126,
   "metadata": {},
   "outputs": [
    {
     "name": "stdout",
     "output_type": "stream",
     "text": [
      "[327940 315175  67124  45963  44370 303289 540874 408200 265059 409427]\n"
     ]
    }
   ],
   "source": [
    "f_idx, f_top_abstracts = return_top_abstracts(docs, f_scores, 500)  # CHANGE NUMBER OF TOP DOCS RETURNED"
   ]
  },
  {
   "cell_type": "code",
   "execution_count": 127,
   "metadata": {},
   "outputs": [
    {
     "data": {
      "text/plain": [
       "327940    DESCRIPTION (provided by applicant): Coronavir...\n",
       "315175    DESCRIPTION (provided by applicant): Human cor...\n",
       "67124     DESCRIPTION (provided by applicant): The long-...\n",
       "45963     DESCRIPTION (provided by applicant):  Coronavi...\n",
       "44370     DESCRIPTION (provided by applicant): Coronavir...\n",
       "                                ...                        \n",
       "230134    Project SummaryThe Interdisciplinary Vision Tr...\n",
       "230135    DESCRIPTION (provided by applicant): In this s...\n",
       "230136    The BADERC Transgenic Core (PI – Bradford Lowe...\n",
       "231825    DESCRIPTION (provided by applicant): The devel...\n",
       "230137    DESCRIPTION (provided by applicant): Enzymes p...\n",
       "Name: ABSTRACT, Length: 500, dtype: object"
      ]
     },
     "execution_count": 127,
     "metadata": {},
     "output_type": "execute_result"
    }
   ],
   "source": [
    "f_top_abstracts"
   ]
  },
  {
   "cell_type": "markdown",
   "metadata": {},
   "source": [
    "## TF-IDF Document-Term Matrix\n",
    "\n",
    "This approach is similar to Literal Term Matching using frequency counts in the document-term matrix.  However, instead of using frequency counts, the entries of the document-term matrix are weighted using TF-IDF."
   ]
  },
  {
   "cell_type": "code",
   "execution_count": 18,
   "metadata": {},
   "outputs": [],
   "source": [
    "# Find doc-term matrix using TF-IDF weighting\n",
    "\n",
    "tf_idf_vectorizer = TfidfVectorizer(lowercase=True, stop_words=stop_words, min_df=20)\n",
    "tf_idf = tf_idf_vectorizer.fit_transform(docs)"
   ]
  },
  {
   "cell_type": "code",
   "execution_count": 19,
   "metadata": {},
   "outputs": [],
   "source": [
    "tf_idf_terms = tf_idf_vectorizer.get_feature_names()  # these terms are the same as the terms created from the \n",
    "                                                      # frequency count document-term matrix, so we do not need to\n",
    "                                                      # recreate the query vector."
   ]
  },
  {
   "cell_type": "code",
   "execution_count": 20,
   "metadata": {},
   "outputs": [
    {
     "data": {
      "text/plain": [
       "True"
      ]
     },
     "execution_count": 20,
     "metadata": {},
     "output_type": "execute_result"
    }
   ],
   "source": [
    "tf_idf_terms == terms"
   ]
  },
  {
   "cell_type": "code",
   "execution_count": 128,
   "metadata": {},
   "outputs": [],
   "source": [
    "# calculate the score for each document against the query. Docs with more occurences of the query words \n",
    "# will score higher\n",
    "\n",
    "tf_idf_scores = tf_idf.dot(q)"
   ]
  },
  {
   "cell_type": "code",
   "execution_count": 129,
   "metadata": {},
   "outputs": [
    {
     "data": {
      "text/plain": [
       "457"
      ]
     },
     "execution_count": 129,
     "metadata": {},
     "output_type": "execute_result"
    }
   ],
   "source": [
    "sum(tf_idf_scores >0)   # how many abstracts include at least one of the query words"
   ]
  },
  {
   "cell_type": "code",
   "execution_count": 130,
   "metadata": {},
   "outputs": [
    {
     "data": {
      "text/plain": [
       "array([0.59612967, 0.56165131, 0.55908117, 0.55013338, 0.55013338,\n",
       "       0.52166201, 0.51974354, 0.46893319, 0.45727428, 0.43942867])"
      ]
     },
     "execution_count": 130,
     "metadata": {},
     "output_type": "execute_result"
    }
   ],
   "source": [
    "# sort scores in descending order\n",
    "\n",
    "tf_idf_scores_sorted = np.sort(tf_idf_scores)[::-1]\n",
    "tf_idf_scores_sorted[:10]"
   ]
  },
  {
   "cell_type": "code",
   "execution_count": 131,
   "metadata": {},
   "outputs": [
    {
     "name": "stdout",
     "output_type": "stream",
     "text": [
      "[ 67124 265059 327940  45963  44370 548248 315175 473394 540874 227279]\n"
     ]
    }
   ],
   "source": [
    "tfidf_idx, tfidf_top_abstracts = return_top_abstracts(docs, tf_idf_scores, 500)  # CHANGE NUMBER OF TOP DOCS RETURNED"
   ]
  },
  {
   "cell_type": "code",
   "execution_count": 132,
   "metadata": {},
   "outputs": [
    {
     "data": {
      "text/plain": [
       "67124     DESCRIPTION (provided by applicant): The long-...\n",
       "265059    This subproject is one of many research subpro...\n",
       "327940    DESCRIPTION (provided by applicant): Coronavir...\n",
       "45963     DESCRIPTION (provided by applicant):  Coronavi...\n",
       "44370     DESCRIPTION (provided by applicant): Coronavir...\n",
       "                                ...                        \n",
       "230140    ﻿   DESCRIPTION (provided by applicant): Preec...\n",
       "230152    The Career Development program is directed by ...\n",
       "230141    ﻿   DESCRIPTION (provided by applicant): We pr...\n",
       "230142    The administrative core will serve to coordina...\n",
       "231823    DESCRIPTION (provided by applicant): There is ...\n",
       "Name: ABSTRACT, Length: 500, dtype: object"
      ]
     },
     "execution_count": 132,
     "metadata": {},
     "output_type": "execute_result"
    }
   ],
   "source": [
    "tfidf_top_abstracts"
   ]
  },
  {
   "cell_type": "code",
   "execution_count": null,
   "metadata": {},
   "outputs": [],
   "source": []
  },
  {
   "cell_type": "markdown",
   "metadata": {},
   "source": [
    "## Latent Semantic Indexing (LSI) Approach\n",
    "\n",
    "LSI Uses the TF-IDF matrix.  LSI is a tecnique that utilizes a truncated Singular Value Decomposition of the document-term matrix.  Basically, LSI still returns relevant documents to the query; however some of the documents returned may not include the exact search terms!  LSI is finding the latent or hidden relationships in the terms.  "
   ]
  },
  {
   "cell_type": "code",
   "execution_count": 26,
   "metadata": {},
   "outputs": [],
   "source": [
    "# Find the Truncated SVD of the TF-IDF matrix\n",
    "\n",
    "lsa = TruncatedSVD(n_components=500, random_state=1)  # CHANGE THE NUMBER OF COMPONENTS - NOTE: MORE COMPONENTS \n",
    "                                                      # GIVES YOU A MORE ACCURATE APPROXIMATION OF THE DOC-TERM \n",
    "                                                      # MATRIX, BUT IS ALSO MORE EXPENSIVE AND MAY NOT LEAD TO THE \n",
    "                                                      # BEST INFO RETRIEVAL RESULTS.\n",
    "USigma = lsa.fit_transform(tf_idf)\n",
    "Vtrans = lsa.components_"
   ]
  },
  {
   "cell_type": "code",
   "execution_count": 133,
   "metadata": {},
   "outputs": [],
   "source": [
    "# transform query to be in same space as documents\n",
    "\n",
    "q = q.reshape(1,-1)\n",
    "qhat = lsa.transform(q)"
   ]
  },
  {
   "cell_type": "code",
   "execution_count": 134,
   "metadata": {},
   "outputs": [
    {
     "name": "stdout",
     "output_type": "stream",
     "text": [
      "(1, 500)\n",
      "(690814, 500)\n",
      "(500, 84347)\n"
     ]
    }
   ],
   "source": [
    "print(qhat.shape)\n",
    "print(USigma.shape)\n",
    "print(Vtrans.shape)"
   ]
  },
  {
   "cell_type": "code",
   "execution_count": 135,
   "metadata": {},
   "outputs": [],
   "source": [
    "lsa_scores = pairwise_distances(qhat, USigma, metric='cosine', n_jobs=20)  # CHANGE N_JOBS TO BE NUMBER OF CORES - 1"
   ]
  },
  {
   "cell_type": "code",
   "execution_count": 136,
   "metadata": {},
   "outputs": [
    {
     "data": {
      "text/plain": [
       "(1, 690814)"
      ]
     },
     "execution_count": 136,
     "metadata": {},
     "output_type": "execute_result"
    }
   ],
   "source": [
    "lsa_scores.shape"
   ]
  },
  {
   "cell_type": "code",
   "execution_count": 137,
   "metadata": {},
   "outputs": [
    {
     "data": {
      "text/plain": [
       "array([[0.9656445 , 0.99068657, 0.98044827, ..., 1.00679923, 0.99425543,\n",
       "        1.00488297]])"
      ]
     },
     "execution_count": 137,
     "metadata": {},
     "output_type": "execute_result"
    }
   ],
   "source": [
    "lsa_scores"
   ]
  },
  {
   "cell_type": "code",
   "execution_count": 138,
   "metadata": {},
   "outputs": [
    {
     "data": {
      "text/plain": [
       "array([0.9656445 , 0.99068657, 0.98044827, ..., 1.00679923, 0.99425543,\n",
       "       1.00488297])"
      ]
     },
     "execution_count": 138,
     "metadata": {},
     "output_type": "execute_result"
    }
   ],
   "source": [
    "lsa_scores[0]"
   ]
  },
  {
   "cell_type": "code",
   "execution_count": 139,
   "metadata": {},
   "outputs": [
    {
     "data": {
      "text/plain": [
       "690814"
      ]
     },
     "execution_count": 139,
     "metadata": {},
     "output_type": "execute_result"
    }
   ],
   "source": [
    "sum(lsa_scores[0] > 0)  # how many abstracts scored above 0"
   ]
  },
  {
   "cell_type": "code",
   "execution_count": 140,
   "metadata": {},
   "outputs": [
    {
     "data": {
      "text/plain": [
       "array([1.15118662, 1.15001451, 1.14881236, 1.14453546, 1.14453546,\n",
       "       1.14453546, 1.14453546, 1.14078958, 1.13988056, 1.13815179])"
      ]
     },
     "execution_count": 140,
     "metadata": {},
     "output_type": "execute_result"
    }
   ],
   "source": [
    "# sort scores in descending order\n",
    "\n",
    "lsa_scores_sorted = np.sort(lsa_scores[0])[::-1]\n",
    "lsa_scores_sorted[:10]"
   ]
  },
  {
   "cell_type": "code",
   "execution_count": 141,
   "metadata": {},
   "outputs": [
    {
     "name": "stdout",
     "output_type": "stream",
     "text": [
      "[485925 537029 171359 493901 507866 512236 500722  19912  96618 194458]\n"
     ]
    }
   ],
   "source": [
    "lsa_idx, lsa_top_abstracts = return_top_abstracts(docs, lsa_scores[0], 500)  # CHANGE NUMBER OF TOP DOCS RETURNED"
   ]
  },
  {
   "cell_type": "code",
   "execution_count": 142,
   "metadata": {},
   "outputs": [
    {
     "data": {
      "text/plain": [
       "485925    Project 2  Studies of the sand fly vector  wil...\n",
       "537029    AbstractExtracellular vesicles (EVs) are cargo...\n",
       "171359    We have investigated the phenotype, function, ...\n",
       "493901    Project 2  Studies of the sand fly vector  wil...\n",
       "507866    Project 2  Studies of the sand fly vector  wil...\n",
       "                                ...                        \n",
       "346736    1252182FuThe goal of the proposed work is to o...\n",
       "345889    1252182FuThe goal of the proposed work is to o...\n",
       "35833     This subproject is one of many research subpro...\n",
       "68385     DESCRIPTION (provided by applicant): A number ...\n",
       "384146    DESCRIPTION (provided by applicant):  A number...\n",
       "Name: ABSTRACT, Length: 500, dtype: object"
      ]
     },
     "execution_count": 142,
     "metadata": {},
     "output_type": "execute_result"
    }
   ],
   "source": [
    "lsa_top_abstracts"
   ]
  },
  {
   "cell_type": "code",
   "execution_count": null,
   "metadata": {},
   "outputs": [],
   "source": []
  },
  {
   "cell_type": "markdown",
   "metadata": {},
   "source": [
    "## Create pandemics corpus\n",
    "\n",
    "We use the results of our three information retrieval techniques to create a new, smaller corpus that only contains abstracts relevant to the query. "
   ]
  },
  {
   "cell_type": "code",
   "execution_count": 143,
   "metadata": {},
   "outputs": [],
   "source": [
    "docs_ix = np.concatenate([f_idx, tfidf_idx, lsa_idx])"
   ]
  },
  {
   "cell_type": "code",
   "execution_count": 144,
   "metadata": {},
   "outputs": [],
   "source": [
    "docs_idx = np.unique(docs_ix)"
   ]
  },
  {
   "cell_type": "code",
   "execution_count": 145,
   "metadata": {},
   "outputs": [
    {
     "data": {
      "text/plain": [
       "(1012,)"
      ]
     },
     "execution_count": 145,
     "metadata": {},
     "output_type": "execute_result"
    }
   ],
   "source": [
    "docs_idx.shape"
   ]
  },
  {
   "cell_type": "code",
   "execution_count": 42,
   "metadata": {},
   "outputs": [],
   "source": [
    "#lim_docs = [tokens[i] for i in docs_idx]"
   ]
  },
  {
   "cell_type": "code",
   "execution_count": null,
   "metadata": {},
   "outputs": [],
   "source": []
  },
  {
   "cell_type": "markdown",
   "metadata": {},
   "source": [
    "**create case-study corpuses**"
   ]
  },
  {
   "cell_type": "code",
   "execution_count": 46,
   "metadata": {},
   "outputs": [],
   "source": [
    "pandemic_corpus = df.loc[docs_idx, :]"
   ]
  },
  {
   "cell_type": "code",
   "execution_count": 47,
   "metadata": {},
   "outputs": [
    {
     "data": {
      "text/plain": [
       "(1137, 40)"
      ]
     },
     "execution_count": 47,
     "metadata": {},
     "output_type": "execute_result"
    }
   ],
   "source": [
    "pandemic_corpus.shape"
   ]
  },
  {
   "cell_type": "code",
   "execution_count": 48,
   "metadata": {},
   "outputs": [],
   "source": [
    "pandemic_corpus.to_pickle(\"./pandemic_corpus.pkl\")"
   ]
  },
  {
   "cell_type": "code",
   "execution_count": 49,
   "metadata": {},
   "outputs": [],
   "source": [
    "lim_docs = pandemic_corpus[\"final_frqwds_removed\"]"
   ]
  },
  {
   "cell_type": "code",
   "execution_count": null,
   "metadata": {},
   "outputs": [],
   "source": []
  },
  {
   "cell_type": "code",
   "execution_count": 146,
   "metadata": {},
   "outputs": [],
   "source": [
    "corona_corpus = df.loc[docs_idx, :]"
   ]
  },
  {
   "cell_type": "code",
   "execution_count": 147,
   "metadata": {},
   "outputs": [
    {
     "data": {
      "text/plain": [
       "(1012, 40)"
      ]
     },
     "execution_count": 147,
     "metadata": {},
     "output_type": "execute_result"
    }
   ],
   "source": [
    "corona_corpus.shape"
   ]
  },
  {
   "cell_type": "code",
   "execution_count": 155,
   "metadata": {},
   "outputs": [],
   "source": [
    "corona_corpus.to_pickle(\"./corona_corpus.pkl\")"
   ]
  },
  {
   "cell_type": "code",
   "execution_count": 148,
   "metadata": {},
   "outputs": [],
   "source": [
    "lim_docs = corona_corpus[\"final_frqwds_removed\"]"
   ]
  },
  {
   "cell_type": "code",
   "execution_count": null,
   "metadata": {},
   "outputs": [],
   "source": []
  },
  {
   "cell_type": "code",
   "execution_count": 149,
   "metadata": {},
   "outputs": [],
   "source": [
    "# input needed for LDA, NMF (all from Scikit-Learn) is one string per document (not a list of strings)\n",
    "\n",
    "text = []\n",
    "\n",
    "for token_list in lim_docs:\n",
    "    text.append(\" \".join(token_list))"
   ]
  },
  {
   "cell_type": "code",
   "execution_count": 150,
   "metadata": {},
   "outputs": [
    {
     "data": {
      "text/plain": [
       "1012"
      ]
     },
     "execution_count": 150,
     "metadata": {},
     "output_type": "execute_result"
    }
   ],
   "source": [
    "len(lim_docs)"
   ]
  },
  {
   "cell_type": "markdown",
   "metadata": {},
   "source": [
    "## Topic Modeling with relevant pandemic abstracts"
   ]
  },
  {
   "cell_type": "code",
   "execution_count": 52,
   "metadata": {},
   "outputs": [],
   "source": [
    "# function slightly modified from https://nlpforhackers.io/topic-modeling/\n",
    "\n",
    "def print_topics(model, vectorizer, top_n=10):\n",
    "    for idx, topic in enumerate(model.components_):  # loop through each row of H.  idx = row index.  topic = actual row\n",
    "        print(\"\\nTopic %d:\" % (idx))\n",
    "        #print([(vectorizer.get_feature_names()[i], topic[i])  # printing out words corresponding to indices found in next line\n",
    "                        #for i in topic.argsort()[:-top_n - 1:-1]])  # finding indices of top words in topic\n",
    "            \n",
    "        print_list = [(vectorizer.get_feature_names()[i], topic[i])  \n",
    "                        for i in topic.argsort()[:-top_n - 1:-1]]\n",
    "        for item in print_list:\n",
    "            print(item)\n",
    "        "
   ]
  },
  {
   "cell_type": "code",
   "execution_count": 151,
   "metadata": {},
   "outputs": [],
   "source": [
    "# Create a TF-IDF document-term matrix for the pandemics corpus \n",
    "\n",
    "# TRY DIFFERENT PARAMETERS IN THE TF-IDF DOC-TERM MATRIX SET-UP\n",
    "nmf_vectorizer = TfidfVectorizer(max_df=1.0, min_df=3, lowercase=True) #, max_features=int(len(lim_docs)/2))\n",
    "\n",
    "nmf_tf_idf = nmf_vectorizer.fit_transform(text)"
   ]
  },
  {
   "cell_type": "code",
   "execution_count": 152,
   "metadata": {},
   "outputs": [
    {
     "data": {
      "text/plain": [
       "(1012, 5252)"
      ]
     },
     "execution_count": 152,
     "metadata": {},
     "output_type": "execute_result"
    }
   ],
   "source": [
    "nmf_tf_idf.shape"
   ]
  },
  {
   "cell_type": "code",
   "execution_count": 158,
   "metadata": {},
   "outputs": [],
   "source": [
    "# topic modeling with NMF\n",
    "\n",
    "nmf_model = NMF(n_components=30, random_state=1)  # TRY DIFFERENT NUMBERS OF TOPICS\n",
    "W = nmf_model.fit_transform(nmf_tf_idf)\n",
    "H = nmf_model.components_"
   ]
  },
  {
   "cell_type": "code",
   "execution_count": 159,
   "metadata": {},
   "outputs": [
    {
     "name": "stdout",
     "output_type": "stream",
     "text": [
      "\n",
      "Topic 0:\n",
      "('rna', 2.7019640472234205)\n",
      "('replication', 1.8838767182028298)\n",
      "('viral', 1.6131435990689662)\n",
      "('protein', 1.4368932283112912)\n",
      "('coronavirus', 1.3268361368060235)\n",
      "('virus', 1.0330762699564786)\n",
      "('coronaviruse', 0.92985372459449)\n",
      "('genome', 0.7878428708335287)\n",
      "('host', 0.7348722372658618)\n",
      "('interaction', 0.6665080528080917)\n",
      "\n",
      "Topic 1:\n",
      "('hsv', 1.9528548414943694)\n",
      "('woman', 0.28269394756273597)\n",
      "('shedding', 0.23666844578105778)\n",
      "('genital', 0.22517262408776506)\n",
      "('reactivation', 0.21140446249874711)\n",
      "('cds', 0.19136501375884643)\n",
      "('infection', 0.18244958957597174)\n",
      "('cell', 0.14407838765079745)\n",
      "('subject', 0.1370929990203456)\n",
      "('genital_hsv', 0.13302060105085622)\n",
      "\n",
      "Topic 2:\n",
      "('ebv', 1.9198800687844073)\n",
      "('cell', 0.4715935988716344)\n",
      "('patient', 0.2533474076440763)\n",
      "('nhl', 0.23240012445805583)\n",
      "('lymphoma', 0.21374570163797063)\n",
      "('latent', 0.1831939635431176)\n",
      "('latency', 0.17421277887102182)\n",
      "('malignancy', 0.16917767440372172)\n",
      "('ctl', 0.1599594978230759)\n",
      "('line', 0.14526906958565947)\n",
      "\n",
      "Topic 3:\n",
      "('siv', 1.3549656167419155)\n",
      "('cd4', 0.48226937349952126)\n",
      "('infect', 0.44045163448921426)\n",
      "('aids', 0.3980670808696465)\n",
      "('macaque', 0.36155536568276286)\n",
      "('cell', 0.31656651910628986)\n",
      "('progression', 0.2770757000788017)\n",
      "('monocyte', 0.22970906843470315)\n",
      "('rhesus_macaque', 0.2280186895089232)\n",
      "('infection', 0.22664915785966502)\n",
      "\n",
      "Topic 4:\n",
      "('immune', 0.9353915892857821)\n",
      "('polygenic', 0.6699604899097489)\n",
      "('trait', 0.48167844295393536)\n",
      "('protective', 0.3949781394866074)\n",
      "('immunity', 0.3591786602881733)\n",
      "('kinetic', 0.3361673353326337)\n",
      "('phenotype', 0.3052806604602864)\n",
      "('host', 0.29860389407073823)\n",
      "('conserve', 0.29606468904834093)\n",
      "('cc', 0.2743869322848815)\n",
      "\n",
      "Topic 5:\n",
      "('npc', 1.6584431235156225)\n",
      "('family', 0.5131202543810391)\n",
      "('multiplex', 0.439026955322417)\n",
      "('individual', 0.39235164908902453)\n",
      "('gene', 0.3683117544382955)\n",
      "('ebv', 0.3556511200683539)\n",
      "('ethnic', 0.30488996058696843)\n",
      "('exogenous', 0.2931592210145624)\n",
      "('occupational', 0.28681093465044133)\n",
      "('antibody', 0.26922503093432437)\n",
      "\n",
      "Topic 6:\n",
      "('vaccine', 1.2304864842547878)\n",
      "('sars_cov', 0.6366200891084203)\n",
      "('sar_cov', 0.6029200922342285)\n",
      "('virus', 0.4996749122407404)\n",
      "('attenuate', 0.4892892045116979)\n",
      "('protein', 0.4500489380633583)\n",
      "('sar', 0.4344345786355623)\n",
      "('candidate', 0.3928976113658375)\n",
      "('sars', 0.3580325981630502)\n",
      "('live', 0.31503946565542235)\n",
      "\n",
      "Topic 7:\n",
      "('mouse', 1.5744262650053165)\n",
      "('aged', 1.2836606950913718)\n",
      "('cell', 0.7114063805914895)\n",
      "('severe', 0.6956973485417466)\n",
      "('anti_virus', 0.694652022536061)\n",
      "('balb_c', 0.6826810187695034)\n",
      "('young', 0.6435225189850396)\n",
      "('rdc', 0.46900688787028505)\n",
      "('respiratory', 0.4382755338326044)\n",
      "('infect', 0.39877987481253985)\n",
      "\n",
      "Topic 8:\n",
      "('lymphoma', 0.5203370912014104)\n",
      "('inflammation', 0.4540735442035602)\n",
      "('aids', 0.4463253768081543)\n",
      "('cancer', 0.429059660299838)\n",
      "('blood', 0.4165451937394959)\n",
      "('ebv', 0.40330662602597067)\n",
      "('descriptive', 0.34587703698990274)\n",
      "('noncardia_gastric', 0.34587703698990274)\n",
      "('iib', 0.34230036804961467)\n",
      "('helicobacter_pylori', 0.34042774192590897)\n",
      "\n",
      "Topic 9:\n",
      "('cr', 1.0650906935513444)\n",
      "('nrf2', 0.9685761112820885)\n",
      "('lifespan', 0.46937143038325674)\n",
      "('protection', 0.31117549122250576)\n",
      "('longevity', 0.2916227677225237)\n",
      "('skn', 0.29057283338462664)\n",
      "('transcription', 0.27799479192713583)\n",
      "('carcinogenesis', 0.2779717516645913)\n",
      "('diet', 0.2544919074542588)\n",
      "('c_elegans', 0.1937152222564177)\n",
      "\n",
      "Topic 10:\n",
      "('gene', 1.5740475484413243)\n",
      "('uncharacterize', 0.8544919177057544)\n",
      "('rp', 0.6286816484770767)\n",
      "('virus', 0.5623759038122504)\n",
      "('lav_ebov', 0.43970973229181265)\n",
      "('candidate', 0.36549769379021974)\n",
      "('encode', 0.3527435117583629)\n",
      "('entry', 0.3462730465919002)\n",
      "('product', 0.3208959980448343)\n",
      "('host', 0.2841593697437581)\n",
      "\n",
      "Topic 11:\n",
      "('virus', 0.8395891992217196)\n",
      "('human', 0.641136571130568)\n",
      "('health', 0.49926481248873306)\n",
      "('emerge', 0.4980154839207595)\n",
      "('pathogen', 0.39071928463851663)\n",
      "('animal', 0.38454777051604727)\n",
      "('respiratory', 0.3815576734231166)\n",
      "('outbreak', 0.32995841660550507)\n",
      "('clinical', 0.326801716969361)\n",
      "('uganda', 0.29692888973042253)\n",
      "\n",
      "Topic 12:\n",
      "('dna', 1.302242442504507)\n",
      "('molecule', 0.8540018469870743)\n",
      "('sequence', 0.6838127613989173)\n",
      "('nanopore', 0.5330764168699303)\n",
      "('nuclear', 0.4225546644672359)\n",
      "('pna', 0.39136520379370987)\n",
      "('sequencing', 0.3693197130833224)\n",
      "('cell', 0.31333786443167566)\n",
      "('read', 0.29073271110617566)\n",
      "('translocation', 0.28753970714475424)\n",
      "\n",
      "Topic 13:\n",
      "('hiv', 1.630223377219032)\n",
      "('latency', 0.2958092608052949)\n",
      "('infect', 0.25723723214488764)\n",
      "('reservoir', 0.21166803519409122)\n",
      "('cell', 0.1884456629694478)\n",
      "('mucosal', 0.15696183203671207)\n",
      "('art', 0.15428424553480075)\n",
      "('macrophage', 0.15180461176007007)\n",
      "('individual', 0.1492028902515731)\n",
      "('inflammation', 0.14552720393853816)\n",
      "\n",
      "Topic 14:\n",
      "('brain', 0.5278960371862483)\n",
      "('metabolite', 0.4306505739087399)\n",
      "('feed', 0.39108816719209205)\n",
      "('redox', 0.2503577023389877)\n",
      "('gc', 0.24812207898057595)\n",
      "('epileptic', 0.23044446729744397)\n",
      "('feed_ketone_ester', 0.23044446729744397)\n",
      "('atp_hydrolysis', 0.23044446729744397)\n",
      "('malonyl_coa', 0.23044446729744397)\n",
      "('regime', 0.23044446729744397)\n",
      "\n",
      "Topic 15:\n",
      "('inhibitor', 0.9326158466661866)\n",
      "('compound', 0.3764375359143463)\n",
      "('protease', 0.3698304167689064)\n",
      "('screen', 0.3428063264493295)\n",
      "('enzyme', 0.3227385771832443)\n",
      "('crystal', 0.30702314767420763)\n",
      "('drug', 0.2992588125083938)\n",
      "('sclpro', 0.2361617878608047)\n",
      "('chemical', 0.19318373508645742)\n",
      "('tdp', 0.18267294520582128)\n",
      "\n",
      "Topic 16:\n",
      "('fusion', 0.7994470168604076)\n",
      "('protein', 0.6477180990228188)\n",
      "('receptor', 0.5339323277817392)\n",
      "('entry', 0.41831063607879776)\n",
      "('spike', 0.3997650378004664)\n",
      "('peptide', 0.31835454425355353)\n",
      "('bind', 0.2720975694588085)\n",
      "('host', 0.2369902267607947)\n",
      "('membrane', 0.23447363997279363)\n",
      "('domain', 0.228284223023972)\n",
      "\n",
      "Topic 17:\n",
      "('cell', 1.291018788290245)\n",
      "('lung', 1.251674606264544)\n",
      "('cd8_t', 1.007010983991562)\n",
      "('injury', 0.8658907260605774)\n",
      "('virus', 0.848776690738986)\n",
      "('infection', 0.6317333549294781)\n",
      "('te', 0.5197335915032953)\n",
      "('effector', 0.4630547975862007)\n",
      "('interferon', 0.46139687266212004)\n",
      "('influenza', 0.45792372971890893)\n",
      "\n",
      "Topic 18:\n",
      "('mers_cov', 1.0668252438084382)\n",
      "('mers', 0.4572024363805105)\n",
      "('dpp4', 0.44111476264594357)\n",
      "('vaccine', 0.39753936861222705)\n",
      "('rbd', 0.3403481282841698)\n",
      "('bind', 0.2902874806524534)\n",
      "('subunit', 0.25082149527911524)\n",
      "('receptor', 0.21578401619462997)\n",
      "('mouse', 0.18892767604003055)\n",
      "('neutralize_antibody', 0.18683252298324524)\n",
      "\n",
      "Topic 19:\n",
      "('aav_vector', 0.7035153995156227)\n",
      "('rhesus_monkey', 0.6133116846590142)\n",
      "('siv', 0.5954745119303867)\n",
      "('scfvi', 0.47940460145181335)\n",
      "('antibody', 0.4489506744687261)\n",
      "('igg', 0.41610745744814454)\n",
      "('authentic', 0.4152200290164477)\n",
      "('deliver', 0.3850648074591039)\n",
      "('delivery', 0.38488603146852)\n",
      "('barrier', 0.3665971757563958)\n",
      "\n",
      "Topic 20:\n",
      "('fruit', 1.825265932603544)\n",
      "('insect', 0.8278453350153806)\n",
      "('plant', 0.7989260317238535)\n",
      "('resistance', 0.5999051741484029)\n",
      "('pest', 0.5548547440434473)\n",
      "('tree', 0.49641837329992494)\n",
      "('grower', 0.48191179367061315)\n",
      "('variety', 0.4458362098108351)\n",
      "('industry', 0.36678165555547726)\n",
      "('production', 0.36202753856981734)\n",
      "\n",
      "Topic 21:\n",
      "('m_tuberculosis', 0.7526297614036268)\n",
      "('patient', 0.6822850953445891)\n",
      "('tb', 0.37358267780115156)\n",
      "('infection', 0.3509758798327167)\n",
      "('therapy', 0.33769406774706023)\n",
      "('host', 0.287029014011667)\n",
      "('tuberculosis', 0.245269685357981)\n",
      "('antimicrobial', 0.22300122646553694)\n",
      "('relapse', 0.22147024373771237)\n",
      "('initial', 0.22129496194977114)\n",
      "\n",
      "Topic 22:\n",
      "('cns', 0.556893313633419)\n",
      "('cn', 0.5415571099168921)\n",
      "('mhv', 0.5279568438390577)\n",
      "('cell', 0.470155258548395)\n",
      "('demyelination', 0.39288066329237714)\n",
      "('chemokine', 0.35653170620992974)\n",
      "('demyelinating', 0.33408116459487397)\n",
      "('oligodendrocyte', 0.2926624698222796)\n",
      "('mouse', 0.29087391327843526)\n",
      "('ifn', 0.28724016247932577)\n",
      "\n",
      "Topic 23:\n",
      "('cmv', 1.433634670428652)\n",
      "('ensure', 0.24085445561314311)\n",
      "('leader', 0.23062315414570198)\n",
      "('cell', 0.2242237067704691)\n",
      "('expertise', 0.19701647078993245)\n",
      "('sorting', 0.1846807645267595)\n",
      "('latency_reactivation', 0.17232415037302448)\n",
      "('cmv_reactivation', 0.16385467360505723)\n",
      "('proteomic', 0.16313342338191128)\n",
      "('specialize', 0.16281224743198255)\n",
      "\n",
      "Topic 24:\n",
      "('zoonotic', 0.514139453287286)\n",
      "('emerge', 0.4131482947122449)\n",
      "('bat_cov', 0.3729563729618289)\n",
      "('movement', 0.35829134530498724)\n",
      "('species', 0.3480920634805645)\n",
      "('biology', 0.3344819599891669)\n",
      "('synthetically', 0.288358301548174)\n",
      "('human', 0.2860427479345332)\n",
      "('concern', 0.2834960831334898)\n",
      "('adaptation', 0.26680116384526315)\n",
      "\n",
      "Topic 25:\n",
      "('cancer', 0.5794059531964025)\n",
      "('member', 0.4964493614420912)\n",
      "('jccc', 0.4012209475269084)\n",
      "('gr', 0.38269491648936266)\n",
      "('encourage', 0.34268372071951053)\n",
      "('pursue', 0.31816671756159975)\n",
      "('fundamental', 0.28738379698470534)\n",
      "('basic', 0.27686175796171236)\n",
      "('clinical', 0.24486456816560795)\n",
      "('direct', 0.21645206620966204)\n",
      "\n",
      "Topic 26:\n",
      "('vector', 1.0740428857111062)\n",
      "('sand_fly', 0.5140219846484791)\n",
      "('assumption', 0.2842703360031212)\n",
      "('p_argentipe', 0.27351797144167905)\n",
      "('abundance', 0.24950901969089517)\n",
      "('irs', 0.2474076911564754)\n",
      "('asymptomatically_infect_person', 0.22853705839121738)\n",
      "('vl', 0.21243155810204445)\n",
      "('bite', 0.20898386964380444)\n",
      "('indoor', 0.20898386964380444)\n",
      "\n",
      "Topic 27:\n",
      "('tumor', 1.0208688012107254)\n",
      "('mm', 0.46780789646138243)\n",
      "('mgus', 0.2907172896299519)\n",
      "('ras', 0.2782269571388515)\n",
      "('mutation', 0.25087188871918126)\n",
      "('translocation', 0.2393270873513558)\n",
      "('myc', 0.23867183066967396)\n",
      "('cyclin', 0.21889611482676447)\n",
      "('myeloma', 0.2153101852719108)\n",
      "('nfkb', 0.20316215200498913)\n",
      "\n",
      "Topic 28:\n",
      "('hrv', 1.0420045370180742)\n",
      "('asthma', 0.4069263799475815)\n",
      "('virus', 0.33773474908660744)\n",
      "('airway', 0.26397018159946417)\n",
      "('assay', 0.2502702807739448)\n",
      "('serotype', 0.20364002100360626)\n",
      "('strain', 0.18155764573302927)\n",
      "('ppg', 0.17041831409008323)\n",
      "('detect', 0.12915134667858721)\n",
      "('capable', 0.11685449692003202)\n",
      "\n",
      "Topic 29:\n",
      "('influenza', 0.46326914897012156)\n",
      "('phage_display_library', 0.44829115964035365)\n",
      "('surface_plasmon_resonance', 0.4474887852023854)\n",
      "('task', 0.4455222268358606)\n",
      "('vaccinate', 0.4205803031519056)\n",
      "('subject', 0.39334505052910806)\n",
      "('construction', 0.3814885378759442)\n",
      "('maturation', 0.3792987382252066)\n",
      "('affinity', 0.3557657642547455)\n",
      "('naturally', 0.34793628070320853)\n"
     ]
    }
   ],
   "source": [
    "print_topics(nmf_model, nmf_vectorizer, 10)"
   ]
  },
  {
   "cell_type": "code",
   "execution_count": null,
   "metadata": {},
   "outputs": [],
   "source": []
  },
  {
   "cell_type": "code",
   "execution_count": null,
   "metadata": {},
   "outputs": [],
   "source": []
  },
  {
   "cell_type": "code",
   "execution_count": null,
   "metadata": {},
   "outputs": [],
   "source": []
  },
  {
   "cell_type": "code",
   "execution_count": 238,
   "metadata": {},
   "outputs": [],
   "source": [
    "# TRY TOPIC MODELING WITH LDA\n",
    "\n",
    "# create document-term matrix\n",
    "\n",
    "lda_vectorizer = CountVectorizer(max_df=1.0, min_df=3, lowercase=True)\n",
    "lda_dtm = lda_vectorizer.fit_transform(text)"
   ]
  },
  {
   "cell_type": "code",
   "execution_count": 239,
   "metadata": {},
   "outputs": [],
   "source": [
    "# create model\n",
    "\n",
    "num_topics = 30\n",
    "lda_model = LatentDirichletAllocation(n_components=num_topics, doc_topic_prior = 1/num_topics, \n",
    "                                      topic_word_prior=0.1, n_jobs=39, random_state = 0)\n",
    "doc_top_dist = lda_model.fit_transform(lda_dtm)\n",
    "top_term_dist = lda_model.components_"
   ]
  },
  {
   "cell_type": "code",
   "execution_count": 240,
   "metadata": {
    "collapsed": true,
    "jupyter": {
     "outputs_hidden": true
    }
   },
   "outputs": [
    {
     "name": "stdout",
     "output_type": "stream",
     "text": [
      "\n",
      "Topic 0:\n",
      "('protein', 225.55502749264147)\n",
      "('receptor', 183.95759402950594)\n",
      "('cell', 172.4504639973329)\n",
      "('bind', 108.84685928736633)\n",
      "('structural', 83.23407993256878)\n",
      "('virus', 81.06300054201091)\n",
      "('viral', 75.5561411680632)\n",
      "('interaction', 68.26001146683492)\n",
      "('human', 67.85457954982031)\n",
      "('host', 64.82284755171038)\n",
      "\n",
      "Topic 1:\n",
      "('subset', 81.29454728313978)\n",
      "('cd4', 66.23840025065098)\n",
      "('memory', 62.37910850799191)\n",
      "('effector', 40.5848650803486)\n",
      "('viral', 40.11634209137843)\n",
      "('cell', 36.6079502522241)\n",
      "('rna', 36.412992443476384)\n",
      "('orf', 35.0999999999997)\n",
      "('protection', 33.610323276130394)\n",
      "('protein', 29.212279854306338)\n",
      "\n",
      "Topic 2:\n",
      "('cell', 202.03669046303705)\n",
      "('death', 163.99491597475762)\n",
      "('protein', 84.11074125989704)\n",
      "('human', 76.15368948404043)\n",
      "('receptor', 61.47717954877514)\n",
      "('cycle', 58.31210018295787)\n",
      "('autophagy', 45.205793172633825)\n",
      "('cellular', 39.855071437383906)\n",
      "('virus', 39.49494201595987)\n",
      "('play', 34.583390658500534)\n",
      "\n",
      "Topic 3:\n",
      "('virus', 503.9476289736178)\n",
      "('viral', 325.2321535714292)\n",
      "('host', 286.15035135611254)\n",
      "('protein', 256.0762166468321)\n",
      "('rna', 248.50619917303135)\n",
      "('replication', 245.83348386659708)\n",
      "('coronavirus', 192.01133936013733)\n",
      "('cell', 191.60339705724633)\n",
      "('gene', 152.11975127500102)\n",
      "('inhibitor', 145.26787553860322)\n",
      "\n",
      "Topic 4:\n",
      "('hcv', 936.1753590840242)\n",
      "('hiv', 632.951690355523)\n",
      "('infection', 134.9779998086495)\n",
      "('patient', 129.20551468069908)\n",
      "('care', 101.4077745557858)\n",
      "('infect', 89.42085859532881)\n",
      "('drug', 87.35339680209223)\n",
      "('testing', 83.95306041199797)\n",
      "('therapy', 67.12313233292302)\n",
      "('pwid', 57.09998924511843)\n",
      "\n",
      "Topic 5:\n",
      "('macrophage', 31.248062120572182)\n",
      "('autophagy', 25.548084297365087)\n",
      "('lymph_node', 24.57677967487654)\n",
      "('mhc', 22.256418456312527)\n",
      "('inflammasome', 18.38049756732289)\n",
      "('allele', 13.797361678592972)\n",
      "('dpp4', 12.611532939763322)\n",
      "('stress', 12.381605657078323)\n",
      "('lymphocyte', 12.378169577119507)\n",
      "('ko', 11.581209770269776)\n",
      "\n",
      "Topic 6:\n",
      "('cell', 934.7630243171636)\n",
      "('kshv', 644.071509136028)\n",
      "('ebv', 249.03681019003906)\n",
      "('infection', 206.40151230095978)\n",
      "('tumor', 204.29310230359386)\n",
      "('ks', 164.44968704007013)\n",
      "('gene', 157.9034254506393)\n",
      "('patient', 137.32721670022917)\n",
      "('latency', 119.06444569548658)\n",
      "('infect', 118.52913997672619)\n",
      "\n",
      "Topic 7:\n",
      "('infection', 37.96606498605185)\n",
      "('hiv', 33.76821571557734)\n",
      "('ebv', 31.115520854869917)\n",
      "('ctl', 28.45277437853249)\n",
      "('blood', 24.656756917921147)\n",
      "('lymphoma', 22.28779492866996)\n",
      "('aids', 22.26071367147582)\n",
      "('cancer', 20.803584883813166)\n",
      "('inflammation', 20.214829806497576)\n",
      "('cell', 19.58788170362728)\n",
      "\n",
      "Topic 8:\n",
      "('patient', 54.54788106866963)\n",
      "('ebv', 44.73114870784985)\n",
      "('therapy', 41.96609261330226)\n",
      "('ribosome', 39.766882924657075)\n",
      "('npc', 34.712694079240485)\n",
      "('hiv', 34.42578022429774)\n",
      "('kshv', 25.76576034198771)\n",
      "('cell', 24.210821678231724)\n",
      "('viral', 20.1858803027162)\n",
      "('combine', 18.58042345210228)\n",
      "\n",
      "Topic 9:\n",
      "('dna', 49.092469057059134)\n",
      "('molecule', 36.05519013665967)\n",
      "('interaction', 28.521474390341215)\n",
      "('cnt', 25.099998160903862)\n",
      "('drug', 24.451244905273363)\n",
      "('marker', 17.25102149760146)\n",
      "('molecular', 16.403091079555782)\n",
      "('neurocognitive', 13.579437937030622)\n",
      "('biology', 13.45022424178504)\n",
      "('pharmacokinetic', 13.09999362818956)\n",
      "\n",
      "Topic 10:\n",
      "('virus', 281.5459801216521)\n",
      "('vector', 205.3719205987978)\n",
      "('vaccine', 159.45759715332724)\n",
      "('infection', 137.34190539828347)\n",
      "('ndv', 127.93951750647453)\n",
      "('hpiv3', 106.09999824759721)\n",
      "('dose', 96.94269498581012)\n",
      "('express', 91.02185874747664)\n",
      "('respiratory', 85.16365186595259)\n",
      "('protein', 83.9930629823828)\n",
      "\n",
      "Topic 11:\n",
      "('influenza', 147.31641992929428)\n",
      "('patient', 120.39671583081108)\n",
      "('clinical', 98.13476379246524)\n",
      "('emerge', 60.77197942644498)\n",
      "('infection', 55.714783774117606)\n",
      "('protocol', 54.53067060905437)\n",
      "('care', 40.94011646530207)\n",
      "('infectious', 37.581736532400356)\n",
      "('dose', 37.5082034001803)\n",
      "('virus', 35.96013982812435)\n",
      "\n",
      "Topic 12:\n",
      "('virus', 153.62964944511606)\n",
      "('human', 114.47456736113963)\n",
      "('infectious', 108.83793302623653)\n",
      "('health', 62.14013558425235)\n",
      "('epidemiology', 58.83806564875385)\n",
      "('public', 58.45553037079896)\n",
      "('pathogen', 58.141758887593724)\n",
      "('emerge', 57.96085605948189)\n",
      "('respiratory', 56.86762371306408)\n",
      "('infection', 56.31796475597069)\n",
      "\n",
      "Topic 13:\n",
      "('human', 53.35607439223278)\n",
      "('inactivation', 51.95940358475925)\n",
      "('plasma', 51.34206354501669)\n",
      "('virus', 51.221905871453465)\n",
      "('cfi', 45.099999701806894)\n",
      "('technology', 38.71534007295505)\n",
      "('bacteria', 37.76394849442186)\n",
      "('pathogen', 34.90475793724826)\n",
      "('blood', 29.9358126139684)\n",
      "('unit', 29.779111494776974)\n",
      "\n",
      "Topic 14:\n",
      "('cell', 372.6554349855349)\n",
      "('virus', 300.92800316166296)\n",
      "('mouse', 274.4906554047676)\n",
      "('sars_cov', 230.4177664236629)\n",
      "('infection', 197.66947006316775)\n",
      "('protein', 187.08252776826131)\n",
      "('human', 156.96552151397535)\n",
      "('lung', 153.20635617159826)\n",
      "('sar_cov', 137.91357387274857)\n",
      "('sars', 137.08053338965914)\n",
      "\n",
      "Topic 15:\n",
      "('gene', 237.3553797841826)\n",
      "('genetic', 119.5861349439917)\n",
      "('npc', 112.96660802507539)\n",
      "('individual', 76.39456684063575)\n",
      "('population', 68.57990551455192)\n",
      "('ebv', 64.13629588534057)\n",
      "('level', 63.53760362045235)\n",
      "('cell', 61.82857778036647)\n",
      "('immune', 57.99535564937193)\n",
      "('inference', 57.09998399875331)\n",
      "\n",
      "Topic 16:\n",
      "('hiv', 315.8619665259027)\n",
      "('hsv', 182.24248900403467)\n",
      "('health', 141.7827974379656)\n",
      "('infection', 116.0088514380458)\n",
      "('spread', 80.2945145425962)\n",
      "('individual', 77.77331587568254)\n",
      "('art', 71.57568484876215)\n",
      "('neighborhood', 66.09996601859086)\n",
      "('public', 58.81363331552422)\n",
      "('influence', 53.536044672485716)\n",
      "\n",
      "Topic 17:\n",
      "('cell', 15.278114860965227)\n",
      "('dna', 14.230090464312385)\n",
      "('mir', 11.711383186000122)\n",
      "('coronaviruse', 10.376286892084652)\n",
      "('gs_5734', 9.735086425040814)\n",
      "('human', 9.567253566693791)\n",
      "('stage', 9.542991336591268)\n",
      "('fracture', 9.34752412787078)\n",
      "('virus', 9.271969074533509)\n",
      "('infect', 8.78741304706353)\n",
      "\n",
      "Topic 18:\n",
      "('immune', 343.6097573757179)\n",
      "('antibiotic', 162.10065477411436)\n",
      "('gene', 132.9284518710922)\n",
      "('host', 132.27881107032914)\n",
      "('immunity', 114.35949761792645)\n",
      "('virus', 101.27540891709802)\n",
      "('transmission', 89.90178372669166)\n",
      "('vaccination', 83.13574563361934)\n",
      "('protective', 83.02891297545558)\n",
      "('polygenic', 80.09999999999806)\n",
      "\n",
      "Topic 19:\n",
      "('vaccine', 212.13853388844507)\n",
      "('antibody', 183.14176871524614)\n",
      "('mers_cov', 177.3943510644298)\n",
      "('infection', 154.24324638952956)\n",
      "('human', 138.604975872332)\n",
      "('virus', 125.26640753973862)\n",
      "('cell', 111.07428269505291)\n",
      "('animal', 105.31857413541228)\n",
      "('viral', 76.92133426775077)\n",
      "('efficacy', 76.24320024843422)\n",
      "\n",
      "Topic 20:\n",
      "('ace2', 74.64692958681516)\n",
      "('emerge', 55.65097439618435)\n",
      "('virus', 51.99525711664124)\n",
      "('human', 48.52380729596921)\n",
      "('fusion', 44.23932249436229)\n",
      "('peptide', 41.21774842846524)\n",
      "('infection', 36.40422202073073)\n",
      "('epithelial', 36.12178324690375)\n",
      "('protein', 35.39467814022834)\n",
      "('sars_cov', 35.2646229591111)\n",
      "\n",
      "Topic 21:\n",
      "('vaccine', 188.9054227002202)\n",
      "('mouse', 133.75458246858923)\n",
      "('protein', 110.31113831780557)\n",
      "('cell', 67.07456911062577)\n",
      "('virus', 66.002068214547)\n",
      "('sars_cov', 64.54526990855365)\n",
      "('infect', 56.588147308767866)\n",
      "('infection', 55.1059901032736)\n",
      "('sar_cov', 53.69954355338436)\n",
      "('rbd', 50.16731090890117)\n",
      "\n",
      "Topic 22:\n",
      "('hla', 94.76255567810914)\n",
      "('cell', 92.00596645621278)\n",
      "('antigen', 48.3786975638055)\n",
      "('cytc', 48.09999999999929)\n",
      "('molecule', 45.72369785803854)\n",
      "('ebv', 41.82026741406932)\n",
      "('trophoblast', 40.0999999999993)\n",
      "('test', 34.3828288128813)\n",
      "('patient', 33.26100258863145)\n",
      "('phosphorylation', 29.45951867508582)\n",
      "\n",
      "Topic 23:\n",
      "('influenza', 95.28592397287079)\n",
      "('lana', 72.064505714747)\n",
      "('c_mybp_c', 50.09999999999928)\n",
      "('interaction', 43.824858986166184)\n",
      "('molecule', 42.587728420167856)\n",
      "('structural', 34.87695528651681)\n",
      "('protein', 33.19628529201318)\n",
      "('phosphorylation', 30.453933448601486)\n",
      "('repression', 24.099965112891258)\n",
      "('cardiac', 20.44293899747181)\n",
      "\n",
      "Topic 24:\n",
      "('hrv', 50.09999999999904)\n",
      "('virus', 40.933177344196956)\n",
      "('respiratory', 32.4464878641917)\n",
      "('assay', 29.073062821791673)\n",
      "('infection', 26.663916212356988)\n",
      "('malawi', 25.09998802599216)\n",
      "('pla2g2d', 24.099998554495706)\n",
      "('viral', 23.111823058109575)\n",
      "('asthma', 23.09760740712724)\n",
      "('population', 23.092783119638568)\n",
      "\n",
      "Topic 25:\n",
      "('rna', 196.59215346629395)\n",
      "('virus', 81.91558681690859)\n",
      "('fidelity', 77.0408929802264)\n",
      "('molecule', 58.05456406158865)\n",
      "('cov', 55.63374376091291)\n",
      "('exon', 52.099990699525385)\n",
      "('genome', 50.72242428813553)\n",
      "('pdk1', 48.099999999998886)\n",
      "('protein', 40.90658911188318)\n",
      "('vivo', 38.96468485936381)\n",
      "\n",
      "Topic 26:\n",
      "('ks', 263.2347563169589)\n",
      "('art', 125.54703358141448)\n",
      "('patient', 67.44834059092155)\n",
      "('hiv', 54.60260816366088)\n",
      "('clinical', 44.78909910409095)\n",
      "('survival', 29.606473220194474)\n",
      "('africa', 28.53622453605498)\n",
      "('cancer', 28.462595269547066)\n",
      "('antiretroviral', 25.904922270545423)\n",
      "('care', 24.894611560269013)\n",
      "\n",
      "Topic 27:\n",
      "('cell', 219.8952930931712)\n",
      "('clinical', 61.15605808536564)\n",
      "('cd8_t', 60.944181092314544)\n",
      "('splicing', 57.099990858616216)\n",
      "('hsv', 55.42689654307695)\n",
      "('hiv', 52.90090117682046)\n",
      "('cancer', 51.39939835147358)\n",
      "('vaccination', 50.74765888690318)\n",
      "('tumor', 49.075981432919995)\n",
      "('vector', 45.18522355150008)\n",
      "\n",
      "Topic 28:\n",
      "('protein', 125.91509064143841)\n",
      "('virus', 117.5683409093777)\n",
      "('cell', 91.89723430510497)\n",
      "('infection', 84.39740344190295)\n",
      "('mouse', 75.6367047918581)\n",
      "('inhibitor', 65.60368950914612)\n",
      "('gene', 59.85410278029665)\n",
      "('mhv', 54.09227060111421)\n",
      "('viral', 54.08003211512107)\n",
      "('human', 52.4846760214769)\n",
      "\n",
      "Topic 29:\n",
      "('lab', 174.89846594617197)\n",
      "('dna', 88.13822719069428)\n",
      "('ebv', 74.89085870605918)\n",
      "('testing', 51.10952784452906)\n",
      "('cell', 43.208660960539106)\n",
      "('assay', 42.27223819058267)\n",
      "('laboratory', 41.0959338536628)\n",
      "('blood', 39.73378493078292)\n",
      "('individual', 39.16535523199175)\n",
      "('test', 37.06729556172424)\n"
     ]
    }
   ],
   "source": [
    "print_topics(lda_model, lda_vectorizer, 10)"
   ]
  },
  {
   "cell_type": "code",
   "execution_count": null,
   "metadata": {},
   "outputs": [],
   "source": []
  }
 ],
 "metadata": {
  "kernelspec": {
   "display_name": "Python 3",
   "language": "python",
   "name": "python3"
  },
  "language_info": {
   "codemirror_mode": {
    "name": "ipython",
    "version": 3
   },
   "file_extension": ".py",
   "mimetype": "text/x-python",
   "name": "python",
   "nbconvert_exporter": "python",
   "pygments_lexer": "ipython3",
   "version": "3.7.4"
  }
 },
 "nbformat": 4,
 "nbformat_minor": 4
}
