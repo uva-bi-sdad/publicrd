{
 "cells": [
  {
   "cell_type": "markdown",
   "metadata": {},
   "source": [
    "## Script to create dataset for RShiny dashboard"
   ]
  },
  {
   "cell_type": "code",
   "execution_count": 1,
   "metadata": {},
   "outputs": [],
   "source": [
    "import pandas as pd\n",
    "import numpy as np\n",
    "import pickle\n",
    "\n",
    "import pyarrow.feather as ft"
   ]
  },
  {
   "cell_type": "code",
   "execution_count": 2,
   "metadata": {},
   "outputs": [],
   "source": [
    "df = pd.read_pickle(\"../../data/final/final_dataset_7-20.pkl\")"
   ]
  },
  {
   "cell_type": "code",
   "execution_count": 3,
   "metadata": {},
   "outputs": [
    {
     "data": {
      "text/plain": [
       "Index(['original index', 'PROJECT_ID', 'ABSTRACT', 'FY', 'PROJECT_TERMS',\n",
       "       'PROJECT_TITLE', 'DEPARTMENT', 'AGENCY', 'IC_CENTER', 'PROJECT_NUMBER',\n",
       "       'PROJECT_START_DATE', 'PROJECT_END_DATE', 'CONTACT_PI_PROJECT_LEADER',\n",
       "       'OTHER_PIS', 'CONGRESSIONAL_DISTRICT', 'DUNS_NUMBER',\n",
       "       'ORGANIZATION_NAME', 'ORGANIZATION_CITY', 'ORGANIZATION_STATE',\n",
       "       'ORGANIZATION_ZIP', 'ORGANIZATION_COUNTRY', 'BUDGET_START_DATE',\n",
       "       'BUDGET_END_DATE', 'CFDA_CODE', 'FY.y', 'FY_TOTAL_COST',\n",
       "       'FY_TOTAL_COST_SUB_PROJECTS', 'ORG_COUNT', 'PI_COUNT',\n",
       "       'working_abstract', 'Start_Char', 'nchar', 'LAST_CHAR',\n",
       "       'lemma_abstract', 'clean_lemmas', 'stopwds_removed', 'n_grams_added',\n",
       "       'final_tokens', 'final_frqwds_removed'],\n",
       "      dtype='object')"
      ]
     },
     "execution_count": 3,
     "metadata": {},
     "output_type": "execute_result"
    }
   ],
   "source": [
    "# create df for shinyapp\n",
    "\n",
    "df.columns"
   ]
  },
  {
   "cell_type": "code",
   "execution_count": 3,
   "metadata": {},
   "outputs": [],
   "source": [
    "app_data = df.loc[:, ['ABSTRACT', 'FY', 'PROJECT_START_DATE', 'DEPARTMENT']] #'final_frqwds_removed']]"
   ]
  },
  {
   "cell_type": "code",
   "execution_count": 9,
   "metadata": {},
   "outputs": [
    {
     "data": {
      "text/html": [
       "<div>\n",
       "<style scoped>\n",
       "    .dataframe tbody tr th:only-of-type {\n",
       "        vertical-align: middle;\n",
       "    }\n",
       "\n",
       "    .dataframe tbody tr th {\n",
       "        vertical-align: top;\n",
       "    }\n",
       "\n",
       "    .dataframe thead th {\n",
       "        text-align: right;\n",
       "    }\n",
       "</style>\n",
       "<table border=\"1\" class=\"dataframe\">\n",
       "  <thead>\n",
       "    <tr style=\"text-align: right;\">\n",
       "      <th></th>\n",
       "      <th>ABSTRACT</th>\n",
       "      <th>PROJECT_START_DATE</th>\n",
       "      <th>DEPARTMENT</th>\n",
       "    </tr>\n",
       "  </thead>\n",
       "  <tbody>\n",
       "    <tr>\n",
       "      <th>0</th>\n",
       "      <td>The multiprotein complex y-secretase proteolyt...</td>\n",
       "      <td>12/1/2005</td>\n",
       "      <td>HHS</td>\n",
       "    </tr>\n",
       "    <tr>\n",
       "      <th>1</th>\n",
       "      <td>DESCRIPTION (provided by applicant):   The Kis...</td>\n",
       "      <td>9/1/2007</td>\n",
       "      <td>HHS</td>\n",
       "    </tr>\n",
       "    <tr>\n",
       "      <th>2</th>\n",
       "      <td>DESCRIPTION (provided by applicant): The objec...</td>\n",
       "      <td>1/2/2007</td>\n",
       "      <td>HHS</td>\n",
       "    </tr>\n",
       "    <tr>\n",
       "      <th>3</th>\n",
       "      <td>Obesity is the cause of many adverse pregnancy...</td>\n",
       "      <td>4/1/2006</td>\n",
       "      <td>HHS</td>\n",
       "    </tr>\n",
       "    <tr>\n",
       "      <th>4</th>\n",
       "      <td>Local potato advisory groups have expressed in...</td>\n",
       "      <td>10/1/2009</td>\n",
       "      <td>USDA</td>\n",
       "    </tr>\n",
       "    <tr>\n",
       "      <th>5</th>\n",
       "      <td>DESCRIPTION (provided by applicant): Despite a...</td>\n",
       "      <td>7/1/2009</td>\n",
       "      <td>HHS</td>\n",
       "    </tr>\n",
       "    <tr>\n",
       "      <th>6</th>\n",
       "      <td>To describe the short-term durability of funct...</td>\n",
       "      <td>1/1/2007</td>\n",
       "      <td>DOD</td>\n",
       "    </tr>\n",
       "    <tr>\n",
       "      <th>7</th>\n",
       "      <td>The NICHD's Pediatric Pharmacology Research Un...</td>\n",
       "      <td>1/2/2005</td>\n",
       "      <td>HHS</td>\n",
       "    </tr>\n",
       "    <tr>\n",
       "      <th>8</th>\n",
       "      <td>DESCRIPTION (provided by applicant): This stud...</td>\n",
       "      <td>1/2/2009</td>\n",
       "      <td>HHS</td>\n",
       "    </tr>\n",
       "    <tr>\n",
       "      <th>9</th>\n",
       "      <td>Cloud properties from reflected light. EPOCh''...</td>\n",
       "      <td>1/2/2008</td>\n",
       "      <td>NASA</td>\n",
       "    </tr>\n",
       "  </tbody>\n",
       "</table>\n",
       "</div>"
      ],
      "text/plain": [
       "                                            ABSTRACT PROJECT_START_DATE  \\\n",
       "0  The multiprotein complex y-secretase proteolyt...          12/1/2005   \n",
       "1  DESCRIPTION (provided by applicant):   The Kis...           9/1/2007   \n",
       "2  DESCRIPTION (provided by applicant): The objec...           1/2/2007   \n",
       "3  Obesity is the cause of many adverse pregnancy...           4/1/2006   \n",
       "4  Local potato advisory groups have expressed in...          10/1/2009   \n",
       "5  DESCRIPTION (provided by applicant): Despite a...           7/1/2009   \n",
       "6  To describe the short-term durability of funct...           1/1/2007   \n",
       "7  The NICHD's Pediatric Pharmacology Research Un...           1/2/2005   \n",
       "8  DESCRIPTION (provided by applicant): This stud...           1/2/2009   \n",
       "9  Cloud properties from reflected light. EPOCh''...           1/2/2008   \n",
       "\n",
       "  DEPARTMENT  \n",
       "0        HHS  \n",
       "1        HHS  \n",
       "2        HHS  \n",
       "3        HHS  \n",
       "4       USDA  \n",
       "5        HHS  \n",
       "6        DOD  \n",
       "7        HHS  \n",
       "8        HHS  \n",
       "9       NASA  "
      ]
     },
     "execution_count": 9,
     "metadata": {},
     "output_type": "execute_result"
    }
   ],
   "source": [
    "app_data.head(10)"
   ]
  },
  {
   "cell_type": "code",
   "execution_count": null,
   "metadata": {},
   "outputs": [],
   "source": [
    "df.head(10)"
   ]
  },
  {
   "cell_type": "code",
   "execution_count": 4,
   "metadata": {},
   "outputs": [],
   "source": [
    "app_data.to_csv(path_or_buf='../../data/final/data_for_liz.csv' , index=False)"
   ]
  },
  {
   "cell_type": "code",
   "execution_count": 6,
   "metadata": {},
   "outputs": [],
   "source": [
    "# save as feather to pass to R\n",
    "\n",
    "#ft.write_dataframe(app_data, \"./app_data.feather\")\n",
    "#ft.write_feather(app_data, \"./app_data.feather\")"
   ]
  },
  {
   "cell_type": "code",
   "execution_count": null,
   "metadata": {},
   "outputs": [],
   "source": []
  }
 ],
 "metadata": {
  "kernelspec": {
   "display_name": "Python 3",
   "language": "python",
   "name": "python3"
  },
  "language_info": {
   "codemirror_mode": {
    "name": "ipython",
    "version": 3
   },
   "file_extension": ".py",
   "mimetype": "text/x-python",
   "name": "python",
   "nbconvert_exporter": "python",
   "pygments_lexer": "ipython3",
   "version": "3.7.4"
  }
 },
 "nbformat": 4,
 "nbformat_minor": 4
}
