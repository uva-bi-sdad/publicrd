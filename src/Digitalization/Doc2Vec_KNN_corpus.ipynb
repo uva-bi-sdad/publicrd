{
 "cells": [
  {
   "cell_type": "code",
   "execution_count": 2,
   "metadata": {},
   "outputs": [],
   "source": [
    "import gensim\n",
    "import nltk\n",
    "from gensim.models.doc2vec import Doc2Vec, TaggedDocument\n",
    "from gensim.models import Word2Vec\n",
    "from nltk.tokenize import word_tokenize, punkt\n",
    "from gensim.models import KeyedVectors\n",
    "\n",
    "#setting up libraries\n",
    "import pandas as pd\n",
    "pd.set_option('display.max_columns', 50)\n",
    "import numpy as np\n",
    "import pickle\n",
    "import matplotlib.pyplot as plt\n",
    "import time\n",
    "import spacy\n"
   ]
  },
  {
   "cell_type": "code",
   "execution_count": 3,
   "metadata": {},
   "outputs": [],
   "source": [
    "df_big = pd.read_pickle(\"/home/seh6fy/git/publicrd/data/prd/Paper/FR_meta_and_final_tokens_23DEC21.pkl\")\n",
    "df = pd.read_csv(\"/home/seh6fy/git/publicrd/data/prd/Digital_abstract_labelled/labelled_abstracts.csv\")"
   ]
  },
  {
   "cell_type": "code",
   "execution_count": 4,
   "metadata": {},
   "outputs": [],
   "source": [
    "df_big = df_big[~df_big.ABSTRACT.isnull()]"
   ]
  },
  {
   "cell_type": "code",
   "execution_count": 5,
   "metadata": {},
   "outputs": [],
   "source": [
    "df = df[~df.label.isnull()]\n",
    "df_big = df_big[~df_big.ABSTRACT.isnull()]"
   ]
  },
  {
   "cell_type": "code",
   "execution_count": 6,
   "metadata": {},
   "outputs": [],
   "source": [
    "df_nsf = df.loc[df['label'] == 'Big-data']\n",
    "df_nsf = df_nsf.iloc[0:384,]"
   ]
  },
  {
   "cell_type": "code",
   "execution_count": 7,
   "metadata": {},
   "outputs": [],
   "source": [
    "df_nasa = df.loc[df['label'] == 'Non Big-data']\n",
    "df_nasa = df_nasa.iloc[0:384,]"
   ]
  },
  {
   "cell_type": "code",
   "execution_count": 8,
   "metadata": {},
   "outputs": [],
   "source": [
    "frames = [df_nsf, df_nasa]\n",
    "df_split = pd.concat(frames)"
   ]
  },
  {
   "cell_type": "code",
   "execution_count": 9,
   "metadata": {},
   "outputs": [],
   "source": [
    "#creates a dataframe with the training and testing data \n",
    "both = [df_split, df_big]\n",
    "new_df= pd.concat(both)"
   ]
  },
  {
   "cell_type": "code",
   "execution_count": 10,
   "metadata": {},
   "outputs": [],
   "source": [
    "new_df= new_df.reset_index(level=None, drop=True, inplace=False, col_level=0, col_fill='')"
   ]
  },
  {
   "cell_type": "code",
   "execution_count": 11,
   "metadata": {},
   "outputs": [],
   "source": [
    "data = new_df['ABSTRACT']"
   ]
  },
  {
   "cell_type": "code",
   "execution_count": 12,
   "metadata": {},
   "outputs": [],
   "source": [
    "tagged_data = [TaggedDocument(words=word_tokenize(_d.lower()), tags=[str(i)]) for i, _d in enumerate(data)]\n",
    "tagged_df = pd.DataFrame(tagged_data)"
   ]
  },
  {
   "cell_type": "code",
   "execution_count": 13,
   "metadata": {},
   "outputs": [
    {
     "data": {
      "text/html": [
       "<div>\n",
       "<style scoped>\n",
       "    .dataframe tbody tr th:only-of-type {\n",
       "        vertical-align: middle;\n",
       "    }\n",
       "\n",
       "    .dataframe tbody tr th {\n",
       "        vertical-align: top;\n",
       "    }\n",
       "\n",
       "    .dataframe thead th {\n",
       "        text-align: right;\n",
       "    }\n",
       "</style>\n",
       "<table border=\"1\" class=\"dataframe\">\n",
       "  <thead>\n",
       "    <tr style=\"text-align: right;\">\n",
       "      <th></th>\n",
       "      <th>words</th>\n",
       "      <th>tags</th>\n",
       "    </tr>\n",
       "  </thead>\n",
       "  <tbody>\n",
       "    <tr>\n",
       "      <th>0</th>\n",
       "      <td>[ï, », ¿, description, (, provided, by, applic...</td>\n",
       "      <td>[0]</td>\n",
       "    </tr>\n",
       "    <tr>\n",
       "      <th>1</th>\n",
       "      <td>[project, summary/abstractthe, establishment, ...</td>\n",
       "      <td>[1]</td>\n",
       "    </tr>\n",
       "    <tr>\n",
       "      <th>2</th>\n",
       "      <td>[abstractthis, ahrq, k08, project, employs, bi...</td>\n",
       "      <td>[2]</td>\n",
       "    </tr>\n",
       "    <tr>\n",
       "      <th>3</th>\n",
       "      <td>[project, summary, â€, “, epidemiology, and, c...</td>\n",
       "      <td>[3]</td>\n",
       "    </tr>\n",
       "    <tr>\n",
       "      <th>4</th>\n",
       "      <td>[description, (, provided, by, applicant, ), :...</td>\n",
       "      <td>[4]</td>\n",
       "    </tr>\n",
       "    <tr>\n",
       "      <th>...</th>\n",
       "      <td>...</td>\n",
       "      <td>...</td>\n",
       "    </tr>\n",
       "    <tr>\n",
       "      <th>1144632</th>\n",
       "      <td>[circadian, rhythms, are, fundamental, endogen...</td>\n",
       "      <td>[1144632]</td>\n",
       "    </tr>\n",
       "    <tr>\n",
       "      <th>1144633</th>\n",
       "      <td>[recent, research, suggests, that, learning, a...</td>\n",
       "      <td>[1144633]</td>\n",
       "    </tr>\n",
       "    <tr>\n",
       "      <th>1144634</th>\n",
       "      <td>[the, covid-19, pandemic, has, caused, unprece...</td>\n",
       "      <td>[1144634]</td>\n",
       "    </tr>\n",
       "    <tr>\n",
       "      <th>1144635</th>\n",
       "      <td>[subduction, zones, –, locations, where, one, ...</td>\n",
       "      <td>[1144635]</td>\n",
       "    </tr>\n",
       "    <tr>\n",
       "      <th>1144636</th>\n",
       "      <td>[stretching, for, over, 80, miles, along, the,...</td>\n",
       "      <td>[1144636]</td>\n",
       "    </tr>\n",
       "  </tbody>\n",
       "</table>\n",
       "<p>1144637 rows × 2 columns</p>\n",
       "</div>"
      ],
      "text/plain": [
       "                                                     words       tags\n",
       "0        [ï, », ¿, description, (, provided, by, applic...        [0]\n",
       "1        [project, summary/abstractthe, establishment, ...        [1]\n",
       "2        [abstractthis, ahrq, k08, project, employs, bi...        [2]\n",
       "3        [project, summary, â€, “, epidemiology, and, c...        [3]\n",
       "4        [description, (, provided, by, applicant, ), :...        [4]\n",
       "...                                                    ...        ...\n",
       "1144632  [circadian, rhythms, are, fundamental, endogen...  [1144632]\n",
       "1144633  [recent, research, suggests, that, learning, a...  [1144633]\n",
       "1144634  [the, covid-19, pandemic, has, caused, unprece...  [1144634]\n",
       "1144635  [subduction, zones, –, locations, where, one, ...  [1144635]\n",
       "1144636  [stretching, for, over, 80, miles, along, the,...  [1144636]\n",
       "\n",
       "[1144637 rows x 2 columns]"
      ]
     },
     "execution_count": 13,
     "metadata": {},
     "output_type": "execute_result"
    }
   ],
   "source": [
    "tagged_df"
   ]
  },
  {
   "cell_type": "code",
   "execution_count": 14,
   "metadata": {},
   "outputs": [
    {
     "data": {
      "text/html": [
       "<div>\n",
       "<style scoped>\n",
       "    .dataframe tbody tr th:only-of-type {\n",
       "        vertical-align: middle;\n",
       "    }\n",
       "\n",
       "    .dataframe tbody tr th {\n",
       "        vertical-align: top;\n",
       "    }\n",
       "\n",
       "    .dataframe thead th {\n",
       "        text-align: right;\n",
       "    }\n",
       "</style>\n",
       "<table border=\"1\" class=\"dataframe\">\n",
       "  <thead>\n",
       "    <tr style=\"text-align: right;\">\n",
       "      <th></th>\n",
       "      <th>Unnamed: 0</th>\n",
       "      <th>Duplicates</th>\n",
       "      <th>index</th>\n",
       "      <th>PROJECT_ID</th>\n",
       "      <th>ABSTRACT</th>\n",
       "      <th>Is it related to Big-Data</th>\n",
       "      <th>Expert name</th>\n",
       "      <th>label</th>\n",
       "      <th>PROJECT_TERMS</th>\n",
       "      <th>PROJECT_TITLE</th>\n",
       "      <th>DEPARTMENT</th>\n",
       "      <th>AGENCY</th>\n",
       "      <th>IC_CENTER</th>\n",
       "      <th>PROJECT_NUMBER</th>\n",
       "      <th>PROJECT_START_DATE</th>\n",
       "      <th>PROJECT_END_DATE</th>\n",
       "      <th>CONTACT_PI_PROJECT_LEADER</th>\n",
       "      <th>OTHER_PIS</th>\n",
       "      <th>CONGRESSIONAL_DISTRICT</th>\n",
       "      <th>DUNS_NUMBER</th>\n",
       "      <th>ORGANIZATION_NAME</th>\n",
       "      <th>ORGANIZATION_CITY</th>\n",
       "      <th>ORGANIZATION_STATE</th>\n",
       "      <th>ORGANIZATION_ZIP</th>\n",
       "      <th>ORGANIZATION_COUNTRY</th>\n",
       "      <th>BUDGET_START_DATE</th>\n",
       "      <th>BUDGET_END_DATE</th>\n",
       "      <th>CFDA_CODE</th>\n",
       "      <th>FY</th>\n",
       "      <th>FY_TOTAL_COST</th>\n",
       "      <th>FY_TOTAL_COST_SUB_PROJECTS</th>\n",
       "      <th>ORG_COUNT</th>\n",
       "      <th>PI_COUNT</th>\n",
       "      <th>FY_TOTAL_COST_SUM</th>\n",
       "      <th>NUM_RECORDS</th>\n",
       "      <th>final_tokens</th>\n",
       "      <th>words</th>\n",
       "      <th>tags</th>\n",
       "    </tr>\n",
       "  </thead>\n",
       "  <tbody>\n",
       "    <tr>\n",
       "      <th>0</th>\n",
       "      <td>0.0</td>\n",
       "      <td>0.0</td>\n",
       "      <td>979.0</td>\n",
       "      <td>950056</td>\n",
       "      <td>ï»¿   DESCRIPTION (provided by applicant): Adv...</td>\n",
       "      <td>1</td>\n",
       "      <td>Kristian</td>\n",
       "      <td>Big-data</td>\n",
       "      <td>NaN</td>\n",
       "      <td>NaN</td>\n",
       "      <td>NaN</td>\n",
       "      <td>NaN</td>\n",
       "      <td>NaN</td>\n",
       "      <td>NaN</td>\n",
       "      <td>NaN</td>\n",
       "      <td>NaN</td>\n",
       "      <td>NaN</td>\n",
       "      <td>NaN</td>\n",
       "      <td>NaN</td>\n",
       "      <td>NaN</td>\n",
       "      <td>NaN</td>\n",
       "      <td>NaN</td>\n",
       "      <td>NaN</td>\n",
       "      <td>NaN</td>\n",
       "      <td>NaN</td>\n",
       "      <td>NaN</td>\n",
       "      <td>NaN</td>\n",
       "      <td>NaN</td>\n",
       "      <td>NaN</td>\n",
       "      <td>NaN</td>\n",
       "      <td>NaN</td>\n",
       "      <td>NaN</td>\n",
       "      <td>NaN</td>\n",
       "      <td>NaN</td>\n",
       "      <td>NaN</td>\n",
       "      <td>NaN</td>\n",
       "      <td>[ï, », ¿, description, (, provided, by, applic...</td>\n",
       "      <td>[0]</td>\n",
       "    </tr>\n",
       "    <tr>\n",
       "      <th>1</th>\n",
       "      <td>1.0</td>\n",
       "      <td>0.0</td>\n",
       "      <td>816.0</td>\n",
       "      <td>1178172</td>\n",
       "      <td>Project Summary/AbstractThe establishment of t...</td>\n",
       "      <td>1</td>\n",
       "      <td>Kristian</td>\n",
       "      <td>Big-data</td>\n",
       "      <td>NaN</td>\n",
       "      <td>NaN</td>\n",
       "      <td>NaN</td>\n",
       "      <td>NaN</td>\n",
       "      <td>NaN</td>\n",
       "      <td>NaN</td>\n",
       "      <td>NaN</td>\n",
       "      <td>NaN</td>\n",
       "      <td>NaN</td>\n",
       "      <td>NaN</td>\n",
       "      <td>NaN</td>\n",
       "      <td>NaN</td>\n",
       "      <td>NaN</td>\n",
       "      <td>NaN</td>\n",
       "      <td>NaN</td>\n",
       "      <td>NaN</td>\n",
       "      <td>NaN</td>\n",
       "      <td>NaN</td>\n",
       "      <td>NaN</td>\n",
       "      <td>NaN</td>\n",
       "      <td>NaN</td>\n",
       "      <td>NaN</td>\n",
       "      <td>NaN</td>\n",
       "      <td>NaN</td>\n",
       "      <td>NaN</td>\n",
       "      <td>NaN</td>\n",
       "      <td>NaN</td>\n",
       "      <td>NaN</td>\n",
       "      <td>[project, summary/abstractthe, establishment, ...</td>\n",
       "      <td>[1]</td>\n",
       "    </tr>\n",
       "    <tr>\n",
       "      <th>2</th>\n",
       "      <td>7.0</td>\n",
       "      <td>0.0</td>\n",
       "      <td>333.0</td>\n",
       "      <td>1163576</td>\n",
       "      <td>AbstractThis AHRQ K08 project employs big data...</td>\n",
       "      <td>1</td>\n",
       "      <td>Kristian</td>\n",
       "      <td>Big-data</td>\n",
       "      <td>NaN</td>\n",
       "      <td>NaN</td>\n",
       "      <td>NaN</td>\n",
       "      <td>NaN</td>\n",
       "      <td>NaN</td>\n",
       "      <td>NaN</td>\n",
       "      <td>NaN</td>\n",
       "      <td>NaN</td>\n",
       "      <td>NaN</td>\n",
       "      <td>NaN</td>\n",
       "      <td>NaN</td>\n",
       "      <td>NaN</td>\n",
       "      <td>NaN</td>\n",
       "      <td>NaN</td>\n",
       "      <td>NaN</td>\n",
       "      <td>NaN</td>\n",
       "      <td>NaN</td>\n",
       "      <td>NaN</td>\n",
       "      <td>NaN</td>\n",
       "      <td>NaN</td>\n",
       "      <td>NaN</td>\n",
       "      <td>NaN</td>\n",
       "      <td>NaN</td>\n",
       "      <td>NaN</td>\n",
       "      <td>NaN</td>\n",
       "      <td>NaN</td>\n",
       "      <td>NaN</td>\n",
       "      <td>NaN</td>\n",
       "      <td>[abstractthis, ahrq, k08, project, employs, bi...</td>\n",
       "      <td>[2]</td>\n",
       "    </tr>\n",
       "    <tr>\n",
       "      <th>3</th>\n",
       "      <td>14.0</td>\n",
       "      <td>0.0</td>\n",
       "      <td>741.0</td>\n",
       "      <td>1178158</td>\n",
       "      <td>PROJECT SUMMARY â€“ EPIDEMIOLOGY AND CLINICAL ...</td>\n",
       "      <td>1</td>\n",
       "      <td>Kristian</td>\n",
       "      <td>Big-data</td>\n",
       "      <td>NaN</td>\n",
       "      <td>NaN</td>\n",
       "      <td>NaN</td>\n",
       "      <td>NaN</td>\n",
       "      <td>NaN</td>\n",
       "      <td>NaN</td>\n",
       "      <td>NaN</td>\n",
       "      <td>NaN</td>\n",
       "      <td>NaN</td>\n",
       "      <td>NaN</td>\n",
       "      <td>NaN</td>\n",
       "      <td>NaN</td>\n",
       "      <td>NaN</td>\n",
       "      <td>NaN</td>\n",
       "      <td>NaN</td>\n",
       "      <td>NaN</td>\n",
       "      <td>NaN</td>\n",
       "      <td>NaN</td>\n",
       "      <td>NaN</td>\n",
       "      <td>NaN</td>\n",
       "      <td>NaN</td>\n",
       "      <td>NaN</td>\n",
       "      <td>NaN</td>\n",
       "      <td>NaN</td>\n",
       "      <td>NaN</td>\n",
       "      <td>NaN</td>\n",
       "      <td>NaN</td>\n",
       "      <td>NaN</td>\n",
       "      <td>[project, summary, â€, “, epidemiology, and, c...</td>\n",
       "      <td>[3]</td>\n",
       "    </tr>\n",
       "    <tr>\n",
       "      <th>4</th>\n",
       "      <td>22.0</td>\n",
       "      <td>0.0</td>\n",
       "      <td>549.0</td>\n",
       "      <td>620880</td>\n",
       "      <td>DESCRIPTION (provided by applicant): This appl...</td>\n",
       "      <td>1</td>\n",
       "      <td>Kristian</td>\n",
       "      <td>Big-data</td>\n",
       "      <td>NaN</td>\n",
       "      <td>NaN</td>\n",
       "      <td>NaN</td>\n",
       "      <td>NaN</td>\n",
       "      <td>NaN</td>\n",
       "      <td>NaN</td>\n",
       "      <td>NaN</td>\n",
       "      <td>NaN</td>\n",
       "      <td>NaN</td>\n",
       "      <td>NaN</td>\n",
       "      <td>NaN</td>\n",
       "      <td>NaN</td>\n",
       "      <td>NaN</td>\n",
       "      <td>NaN</td>\n",
       "      <td>NaN</td>\n",
       "      <td>NaN</td>\n",
       "      <td>NaN</td>\n",
       "      <td>NaN</td>\n",
       "      <td>NaN</td>\n",
       "      <td>NaN</td>\n",
       "      <td>NaN</td>\n",
       "      <td>NaN</td>\n",
       "      <td>NaN</td>\n",
       "      <td>NaN</td>\n",
       "      <td>NaN</td>\n",
       "      <td>NaN</td>\n",
       "      <td>NaN</td>\n",
       "      <td>NaN</td>\n",
       "      <td>[description, (, provided, by, applicant, ), :...</td>\n",
       "      <td>[4]</td>\n",
       "    </tr>\n",
       "  </tbody>\n",
       "</table>\n",
       "</div>"
      ],
      "text/plain": [
       "   Unnamed: 0  Duplicates  index PROJECT_ID  \\\n",
       "0         0.0         0.0  979.0     950056   \n",
       "1         1.0         0.0  816.0    1178172   \n",
       "2         7.0         0.0  333.0    1163576   \n",
       "3        14.0         0.0  741.0    1178158   \n",
       "4        22.0         0.0  549.0     620880   \n",
       "\n",
       "                                            ABSTRACT  \\\n",
       "0  ï»¿   DESCRIPTION (provided by applicant): Adv...   \n",
       "1  Project Summary/AbstractThe establishment of t...   \n",
       "2  AbstractThis AHRQ K08 project employs big data...   \n",
       "3  PROJECT SUMMARY â€“ EPIDEMIOLOGY AND CLINICAL ...   \n",
       "4  DESCRIPTION (provided by applicant): This appl...   \n",
       "\n",
       "  Is it related to Big-Data Expert name     label PROJECT_TERMS PROJECT_TITLE  \\\n",
       "0                         1    Kristian  Big-data           NaN           NaN   \n",
       "1                         1    Kristian  Big-data           NaN           NaN   \n",
       "2                         1    Kristian  Big-data           NaN           NaN   \n",
       "3                         1    Kristian  Big-data           NaN           NaN   \n",
       "4                         1    Kristian  Big-data           NaN           NaN   \n",
       "\n",
       "  DEPARTMENT AGENCY IC_CENTER PROJECT_NUMBER PROJECT_START_DATE  \\\n",
       "0        NaN    NaN       NaN            NaN                NaN   \n",
       "1        NaN    NaN       NaN            NaN                NaN   \n",
       "2        NaN    NaN       NaN            NaN                NaN   \n",
       "3        NaN    NaN       NaN            NaN                NaN   \n",
       "4        NaN    NaN       NaN            NaN                NaN   \n",
       "\n",
       "  PROJECT_END_DATE CONTACT_PI_PROJECT_LEADER OTHER_PIS CONGRESSIONAL_DISTRICT  \\\n",
       "0              NaN                       NaN       NaN                    NaN   \n",
       "1              NaN                       NaN       NaN                    NaN   \n",
       "2              NaN                       NaN       NaN                    NaN   \n",
       "3              NaN                       NaN       NaN                    NaN   \n",
       "4              NaN                       NaN       NaN                    NaN   \n",
       "\n",
       "  DUNS_NUMBER ORGANIZATION_NAME ORGANIZATION_CITY ORGANIZATION_STATE  \\\n",
       "0         NaN               NaN               NaN                NaN   \n",
       "1         NaN               NaN               NaN                NaN   \n",
       "2         NaN               NaN               NaN                NaN   \n",
       "3         NaN               NaN               NaN                NaN   \n",
       "4         NaN               NaN               NaN                NaN   \n",
       "\n",
       "  ORGANIZATION_ZIP ORGANIZATION_COUNTRY BUDGET_START_DATE BUDGET_END_DATE  \\\n",
       "0              NaN                  NaN               NaN             NaN   \n",
       "1              NaN                  NaN               NaN             NaN   \n",
       "2              NaN                  NaN               NaN             NaN   \n",
       "3              NaN                  NaN               NaN             NaN   \n",
       "4              NaN                  NaN               NaN             NaN   \n",
       "\n",
       "  CFDA_CODE   FY  FY_TOTAL_COST  FY_TOTAL_COST_SUB_PROJECTS  ORG_COUNT  \\\n",
       "0       NaN  NaN            NaN                         NaN        NaN   \n",
       "1       NaN  NaN            NaN                         NaN        NaN   \n",
       "2       NaN  NaN            NaN                         NaN        NaN   \n",
       "3       NaN  NaN            NaN                         NaN        NaN   \n",
       "4       NaN  NaN            NaN                         NaN        NaN   \n",
       "\n",
       "   PI_COUNT  FY_TOTAL_COST_SUM  NUM_RECORDS final_tokens  \\\n",
       "0       NaN                NaN          NaN          NaN   \n",
       "1       NaN                NaN          NaN          NaN   \n",
       "2       NaN                NaN          NaN          NaN   \n",
       "3       NaN                NaN          NaN          NaN   \n",
       "4       NaN                NaN          NaN          NaN   \n",
       "\n",
       "                                               words tags  \n",
       "0  [ï, », ¿, description, (, provided, by, applic...  [0]  \n",
       "1  [project, summary/abstractthe, establishment, ...  [1]  \n",
       "2  [abstractthis, ahrq, k08, project, employs, bi...  [2]  \n",
       "3  [project, summary, â€, “, epidemiology, and, c...  [3]  \n",
       "4  [description, (, provided, by, applicant, ), :...  [4]  "
      ]
     },
     "execution_count": 14,
     "metadata": {},
     "output_type": "execute_result"
    }
   ],
   "source": [
    "new_df['words'] = tagged_df['words']\n",
    "new_df['tags'] = tagged_df['tags']\n",
    "new_df.head()"
   ]
  },
  {
   "cell_type": "code",
   "execution_count": null,
   "metadata": {},
   "outputs": [],
   "source": [
    "model = gensim.models.doc2vec.Doc2Vec(vector_size=50, epochs=15) #min_count=2 - min number of times it shows up\n",
    "model.build_vocab(tagged_data)\n",
    "model.train(tagged_data, total_examples=model.corpus_count, epochs=model.epochs)\n",
    "model.save(\"d2v.model\")"
   ]
  },
  {
   "cell_type": "code",
   "execution_count": null,
   "metadata": {},
   "outputs": [],
   "source": [
    "model = Doc2Vec.load(\"d2v.model\")"
   ]
  },
  {
   "cell_type": "code",
   "execution_count": null,
   "metadata": {},
   "outputs": [],
   "source": [
    "vector = []\n",
    "for i in range(0, len(df_split)):\n",
    "    vectorthis = (model.dv[df_split['tags'][i]]).tolist()\n",
    "    vector.append(vectorthis)"
   ]
  },
  {
   "cell_type": "code",
   "execution_count": null,
   "metadata": {},
   "outputs": [],
   "source": [
    "mat = []\n",
    "for i in vector:\n",
    "    for x in i:\n",
    "        mat.append(x)"
   ]
  },
  {
   "cell_type": "code",
   "execution_count": null,
   "metadata": {},
   "outputs": [],
   "source": [
    "training = pd.DataFrame(mat)"
   ]
  },
  {
   "cell_type": "code",
   "execution_count": null,
   "metadata": {},
   "outputs": [],
   "source": [
    "trainingnp = training.to_numpy()"
   ]
  },
  {
   "cell_type": "code",
   "execution_count": null,
   "metadata": {},
   "outputs": [],
   "source": [
    "training_data =  new_df[~new_df.label.isnull()]\n",
    "testing_data = new_df.drop(training_data.index)"
   ]
  },
  {
   "cell_type": "code",
   "execution_count": null,
   "metadata": {},
   "outputs": [],
   "source": [
    "train_id = training_data.index\n",
    "test_id = testing_data.index"
   ]
  },
  {
   "cell_type": "code",
   "execution_count": null,
   "metadata": {},
   "outputs": [],
   "source": [
    "x_train = trainingnp[train_id]\n",
    "x_test = trainingnp[test_id]"
   ]
  },
  {
   "cell_type": "code",
   "execution_count": null,
   "metadata": {},
   "outputs": [],
   "source": [
    "df_split['index'] = df_split.index\n",
    "y_test = df_split.loc[df_split[\"index\"].isin(test_id)]\n",
    "y_test = y_test['label']"
   ]
  },
  {
   "cell_type": "code",
   "execution_count": null,
   "metadata": {},
   "outputs": [],
   "source": [
    "df_split['index'] = df_split.index\n",
    "y_train = df_split.loc[df_split[\"index\"].isin(train_id)]\n",
    "y_train = y_train['label']"
   ]
  },
  {
   "cell_type": "code",
   "execution_count": null,
   "metadata": {},
   "outputs": [],
   "source": [
    "import math"
   ]
  },
  {
   "cell_type": "code",
   "execution_count": null,
   "metadata": {},
   "outputs": [],
   "source": [
    "neighbors = int(math.sqrt(len(df_split.index)))"
   ]
  },
  {
   "cell_type": "code",
   "execution_count": null,
   "metadata": {},
   "outputs": [],
   "source": [
    "from sklearn.neighbors import KNeighborsClassifier\n",
    "classifier = KNeighborsClassifier(n_neighbors = 15 )\n",
    "classifier.fit(x_train, y_train)"
   ]
  },
  {
   "cell_type": "code",
   "execution_count": null,
   "metadata": {},
   "outputs": [],
   "source": [
    "# from sklearn.svm import SVC\n",
    "# from sklearn.pipeline import make_pipeline\n",
    "# from sklearn.preprocessing import StandardScaler\n",
    "# clf = make_pipeline(StandardScaler(), SVC(gamma='auto', ))\n",
    "# clf.fit(x_train, y_train)\n"
   ]
  },
  {
   "cell_type": "code",
   "execution_count": null,
   "metadata": {},
   "outputs": [],
   "source": [
    "y_pred = classifier.predict(x_test)"
   ]
  },
  {
   "cell_type": "code",
   "execution_count": null,
   "metadata": {},
   "outputs": [],
   "source": [
    "# y_pred = clf.predict(x_test)"
   ]
  },
  {
   "cell_type": "code",
   "execution_count": null,
   "metadata": {},
   "outputs": [],
   "source": [
    "import scipy.sparse"
   ]
  },
  {
   "cell_type": "code",
   "execution_count": null,
   "metadata": {},
   "outputs": [],
   "source": [
    "predictions = df_split.loc[test_id,]\n",
    "predictions['PREDICTIONS'] = y_pred"
   ]
  },
  {
   "cell_type": "code",
   "execution_count": null,
   "metadata": {},
   "outputs": [],
   "source": [
    "predictions = predictions[[\"index\",\"label\", \"PREDICTIONS\",\"ABSTRACT\"]]"
   ]
  },
  {
   "cell_type": "code",
   "execution_count": null,
   "metadata": {},
   "outputs": [],
   "source": [
    "big_data = predictions.loc[predictions['PREDICTIONS'] == 'Big-data']"
   ]
  },
  {
   "cell_type": "code",
   "execution_count": null,
   "metadata": {},
   "outputs": [],
   "source": [
    "merged_inner = pd.merge(left=big_data, right=new_df, left_on='ABSTRACT', right_on='ABSTRACT')"
   ]
  },
  {
   "cell_type": "code",
   "execution_count": null,
   "metadata": {},
   "outputs": [],
   "source": [
    "merged_inner = merged_inner[[ \"PREDICTIONS\",\"ABSTRACT\", \"PROJECT_ID\",\"PROJECT_TERMS\",\"PROJECT_TITLE\",\"DEPARTMENT\",\"AGENCY\",\"PROJECT_NUMBER\",\"PROJECT_START_DATE\",\"PROJECT_END_DATE\",\"FY_TOTAL_COST\"]]"
   ]
  },
  {
   "cell_type": "code",
   "execution_count": null,
   "metadata": {},
   "outputs": [],
   "source": [
    "merged_inner.to_csv(r'doc2vec_dataframe.csv')"
   ]
  },
  {
   "cell_type": "code",
   "execution_count": 1180,
   "metadata": {},
   "outputs": [],
   "source": [
    "# predictions['PREDICTIONS'].value_counts()"
   ]
  },
  {
   "cell_type": "code",
   "execution_count": 1181,
   "metadata": {},
   "outputs": [],
   "source": [
    "# predictions['label'].value_counts()"
   ]
  },
  {
   "cell_type": "code",
   "execution_count": 1182,
   "metadata": {},
   "outputs": [],
   "source": [
    "# df_split['label'].value_counts()"
   ]
  },
  {
   "cell_type": "code",
   "execution_count": 1183,
   "metadata": {},
   "outputs": [],
   "source": [
    "# predictions.to_csv('precision.csv')"
   ]
  },
  {
   "cell_type": "code",
   "execution_count": null,
   "metadata": {},
   "outputs": [],
   "source": []
  },
  {
   "cell_type": "code",
   "execution_count": 1184,
   "metadata": {},
   "outputs": [
    {
     "data": {
      "text/plain": [
       "Non Big-data    65\n",
       "Big-data        50\n",
       "Name: PREDICTIONS, dtype: int64"
      ]
     },
     "execution_count": 1184,
     "metadata": {},
     "output_type": "execute_result"
    }
   ],
   "source": [
    "predictions['PREDICTIONS'].value_counts()"
   ]
  },
  {
   "cell_type": "code",
   "execution_count": 1185,
   "metadata": {},
   "outputs": [
    {
     "name": "stdout",
     "output_type": "stream",
     "text": [
      "[[30 31]\n",
      " [20 34]]\n",
      "              precision    recall  f1-score   support\n",
      "\n",
      "    Big-data       0.60      0.49      0.54        61\n",
      "Non Big-data       0.52      0.63      0.57        54\n",
      "\n",
      "    accuracy                           0.56       115\n",
      "   macro avg       0.56      0.56      0.56       115\n",
      "weighted avg       0.56      0.56      0.56       115\n",
      "\n"
     ]
    }
   ],
   "source": [
    "from sklearn.metrics import classification_report, confusion_matrix\n",
    "print(confusion_matrix(y_test, y_pred))\n",
    "print(classification_report(y_test, y_pred))"
   ]
  },
  {
   "cell_type": "code",
   "execution_count": null,
   "metadata": {},
   "outputs": [],
   "source": []
  },
  {
   "cell_type": "markdown",
   "metadata": {},
   "source": [
    "##### error = []\n",
    "\n",
    "# Calculating error for K values between 1 and 40\n",
    "for i in range(1, 40):\n",
    "    knn = KNeighborsClassifier(n_neighbors=i)\n",
    "    knn.fit(x_train, y_train)\n",
    "    pred_i = knn.predict(x_test)\n",
    "    error.append(np.mean(pred_i != y_test))"
   ]
  },
  {
   "cell_type": "code",
   "execution_count": null,
   "metadata": {},
   "outputs": [],
   "source": []
  }
 ],
 "metadata": {
  "kernelspec": {
   "display_name": "Python 3",
   "language": "python",
   "name": "python3"
  },
  "language_info": {
   "codemirror_mode": {
    "name": "ipython",
    "version": 3
   },
   "file_extension": ".py",
   "mimetype": "text/x-python",
   "name": "python",
   "nbconvert_exporter": "python",
   "pygments_lexer": "ipython3",
   "version": "3.8.8"
  }
 },
 "nbformat": 4,
 "nbformat_minor": 4
}
