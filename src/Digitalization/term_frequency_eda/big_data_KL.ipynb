{
 "cells": [
  {
   "cell_type": "code",
   "execution_count": 1,
   "metadata": {},
   "outputs": [],
   "source": [
    "# Skylar Haskiell\n",
    "import pandas as pd\n",
    "pd.set_option('display.max_columns', 50)\n",
    "\n",
    "import numpy as np\n",
    "import pickle\n",
    "import matplotlib.pyplot as plt\n",
    "import time\n",
    "from textwrap import wrap\n",
    "\n",
    "from sklearn.decomposition import NMF, TruncatedSVD\n",
    "from sklearn.feature_extraction.text import CountVectorizer\n",
    "from sklearn.feature_extraction.text import TfidfVectorizer\n",
    "\n",
    "from sklearn.metrics.pairwise import cosine_similarity"
   ]
  },
  {
   "cell_type": "code",
   "execution_count": 2,
   "metadata": {},
   "outputs": [],
   "source": [
    "# pull in data\n",
    "df = pd.read_pickle(\"../../../data/prd/Paper/FR_meta_and_final_tokens_23DEC21.pkl\")\n",
    "#df = pd.read_pickle(\"../../../data/prd/Paper/FR_lemmas_22DEC21.pkl\")\n",
    "\n",
    "df.reset_index(inplace = True, drop = True)"
   ]
  },
  {
   "cell_type": "code",
   "execution_count": 3,
   "metadata": {},
   "outputs": [
    {
     "data": {
      "text/html": [
       "<div>\n",
       "<style scoped>\n",
       "    .dataframe tbody tr th:only-of-type {\n",
       "        vertical-align: middle;\n",
       "    }\n",
       "\n",
       "    .dataframe tbody tr th {\n",
       "        vertical-align: top;\n",
       "    }\n",
       "\n",
       "    .dataframe thead th {\n",
       "        text-align: right;\n",
       "    }\n",
       "</style>\n",
       "<table border=\"1\" class=\"dataframe\">\n",
       "  <thead>\n",
       "    <tr style=\"text-align: right;\">\n",
       "      <th></th>\n",
       "      <th>PROJECT_ID</th>\n",
       "      <th>ABSTRACT</th>\n",
       "      <th>PROJECT_TERMS</th>\n",
       "      <th>PROJECT_TITLE</th>\n",
       "      <th>DEPARTMENT</th>\n",
       "      <th>AGENCY</th>\n",
       "      <th>IC_CENTER</th>\n",
       "      <th>PROJECT_NUMBER</th>\n",
       "      <th>PROJECT_START_DATE</th>\n",
       "      <th>PROJECT_END_DATE</th>\n",
       "      <th>CONTACT_PI_PROJECT_LEADER</th>\n",
       "      <th>OTHER_PIS</th>\n",
       "      <th>CONGRESSIONAL_DISTRICT</th>\n",
       "      <th>DUNS_NUMBER</th>\n",
       "      <th>ORGANIZATION_NAME</th>\n",
       "      <th>ORGANIZATION_CITY</th>\n",
       "      <th>ORGANIZATION_STATE</th>\n",
       "      <th>ORGANIZATION_ZIP</th>\n",
       "      <th>ORGANIZATION_COUNTRY</th>\n",
       "      <th>BUDGET_START_DATE</th>\n",
       "      <th>BUDGET_END_DATE</th>\n",
       "      <th>CFDA_CODE</th>\n",
       "      <th>FY</th>\n",
       "      <th>FY_TOTAL_COST</th>\n",
       "      <th>FY_TOTAL_COST_SUB_PROJECTS</th>\n",
       "      <th>ORG_COUNT</th>\n",
       "      <th>PI_COUNT</th>\n",
       "      <th>FY_TOTAL_COST_SUM</th>\n",
       "      <th>NUM_RECORDS</th>\n",
       "      <th>final_tokens</th>\n",
       "    </tr>\n",
       "  </thead>\n",
       "  <tbody>\n",
       "    <tr>\n",
       "      <th>0</th>\n",
       "      <td>89996</td>\n",
       "      <td>This is a project to explore Game-based, Metap...</td>\n",
       "      <td>Achievement; analog; base; Cognitive Science; ...</td>\n",
       "      <td>RUI: CYGAMES: CYBER-ENABLED TEACHING AND LEARN...</td>\n",
       "      <td>NSF</td>\n",
       "      <td>NSF</td>\n",
       "      <td>NaN</td>\n",
       "      <td>0814512</td>\n",
       "      <td>9/15/2008</td>\n",
       "      <td>8/31/2012</td>\n",
       "      <td>REESE, DEBBIE D</td>\n",
       "      <td>CARTER, BEVERLY; WOOD, CHARLES; HITT, BEN</td>\n",
       "      <td>01</td>\n",
       "      <td>068719400</td>\n",
       "      <td>WHEELING JESUIT UNIVERSITY</td>\n",
       "      <td>WHEELING</td>\n",
       "      <td>WV</td>\n",
       "      <td>26003-6243</td>\n",
       "      <td>UNITED STATES</td>\n",
       "      <td>NaN</td>\n",
       "      <td>NaN</td>\n",
       "      <td>47.076</td>\n",
       "      <td>2008</td>\n",
       "      <td>1999467.0</td>\n",
       "      <td>NaN</td>\n",
       "      <td>1</td>\n",
       "      <td>1</td>\n",
       "      <td>1999467.0</td>\n",
       "      <td>1</td>\n",
       "      <td>project explore game base metaphor enhanced ga...</td>\n",
       "    </tr>\n",
       "    <tr>\n",
       "      <th>1</th>\n",
       "      <td>89997</td>\n",
       "      <td>Institution: Franklin Institute Science Museum...</td>\n",
       "      <td>Active Learning; Child; Computer software; des...</td>\n",
       "      <td>ARIEL - AUGMENTED REALITY FOR INTERPRETIVE AND...</td>\n",
       "      <td>NSF</td>\n",
       "      <td>NSF</td>\n",
       "      <td>NaN</td>\n",
       "      <td>0741659</td>\n",
       "      <td>9/15/2008</td>\n",
       "      <td>8/31/2012</td>\n",
       "      <td>SNYDER, STEVEN</td>\n",
       "      <td>ELINICH, KAREN; YOON, SUSAN</td>\n",
       "      <td>02</td>\n",
       "      <td>001741859</td>\n",
       "      <td>FRANKLIN INSTITUTE</td>\n",
       "      <td>PHILADELPHIA</td>\n",
       "      <td>PA</td>\n",
       "      <td>19103-1115</td>\n",
       "      <td>UNITED STATES</td>\n",
       "      <td>NaN</td>\n",
       "      <td>NaN</td>\n",
       "      <td>47.076</td>\n",
       "      <td>2008</td>\n",
       "      <td>1799699.0</td>\n",
       "      <td>NaN</td>\n",
       "      <td>1</td>\n",
       "      <td>1</td>\n",
       "      <td>1799699.0</td>\n",
       "      <td>1</td>\n",
       "      <td>institution franklin institute science museum ...</td>\n",
       "    </tr>\n",
       "    <tr>\n",
       "      <th>2</th>\n",
       "      <td>89998</td>\n",
       "      <td>Through programs (including small group conver...</td>\n",
       "      <td>Address; Age; Birth; Brain; Caregivers; Child;...</td>\n",
       "      <td>BRIGHTER FUTURES: PUBLIC DELIBERATION ABOUT TH...</td>\n",
       "      <td>NSF</td>\n",
       "      <td>NSF</td>\n",
       "      <td>NaN</td>\n",
       "      <td>0813522</td>\n",
       "      <td>9/15/2008</td>\n",
       "      <td>8/31/2011</td>\n",
       "      <td>FINK, LAURIE KLEINBAUM</td>\n",
       "      <td>CADIGAN, KAREN; ELLENBOGEN, KIRSTEN</td>\n",
       "      <td>04</td>\n",
       "      <td>061451670</td>\n",
       "      <td>SCIENCE MUSEUM OF MINNESOTA</td>\n",
       "      <td>SAINT PAUL</td>\n",
       "      <td>MN</td>\n",
       "      <td>55102-1202</td>\n",
       "      <td>UNITED STATES</td>\n",
       "      <td>NaN</td>\n",
       "      <td>NaN</td>\n",
       "      <td>47.076</td>\n",
       "      <td>2008</td>\n",
       "      <td>1505858.0</td>\n",
       "      <td>NaN</td>\n",
       "      <td>1</td>\n",
       "      <td>1</td>\n",
       "      <td>1505858.0</td>\n",
       "      <td>1</td>\n",
       "      <td>program include small group conversation citiz...</td>\n",
       "    </tr>\n",
       "    <tr>\n",
       "      <th>3</th>\n",
       "      <td>89999</td>\n",
       "      <td>In partnership with the American Chemical Soci...</td>\n",
       "      <td>Advanced Development; American; Chemicals; Che...</td>\n",
       "      <td>FOSTERING US-INTERNATIONAL COLLABORATIVE PARTN...</td>\n",
       "      <td>NSF</td>\n",
       "      <td>NSF</td>\n",
       "      <td>NaN</td>\n",
       "      <td>0838627</td>\n",
       "      <td>8/1/2008</td>\n",
       "      <td>12/31/2010</td>\n",
       "      <td>JOST, JOHN W</td>\n",
       "      <td>MILLER, BRADLEY; BOWMAN, KATHERINE</td>\n",
       "      <td>04</td>\n",
       "      <td>009059242</td>\n",
       "      <td>INTERNATIONAL UNION OF PURE AND APPLIED CHEMISTRY</td>\n",
       "      <td>DURHAM</td>\n",
       "      <td>NC</td>\n",
       "      <td>27709-3757</td>\n",
       "      <td>UNITED STATES</td>\n",
       "      <td>NaN</td>\n",
       "      <td>NaN</td>\n",
       "      <td>47.049</td>\n",
       "      <td>2008</td>\n",
       "      <td>51000.0</td>\n",
       "      <td>NaN</td>\n",
       "      <td>1</td>\n",
       "      <td>1</td>\n",
       "      <td>51000.0</td>\n",
       "      <td>1</td>\n",
       "      <td>partnership american chemical society acs nati...</td>\n",
       "    </tr>\n",
       "    <tr>\n",
       "      <th>4</th>\n",
       "      <td>90001</td>\n",
       "      <td>The Center for Molecular Interfacing (CMI) wil...</td>\n",
       "      <td>Address; Architecture; Carbon Nanotubes; Catal...</td>\n",
       "      <td>CCI PHASE I: CENTER FOR MOLECULAR INTERFACING</td>\n",
       "      <td>NSF</td>\n",
       "      <td>NSF</td>\n",
       "      <td>NaN</td>\n",
       "      <td>0847926</td>\n",
       "      <td>10/1/2008</td>\n",
       "      <td>9/30/2011</td>\n",
       "      <td>ABRUNA, HECTOR D</td>\n",
       "      <td>NaN</td>\n",
       "      <td>22</td>\n",
       "      <td>872612445</td>\n",
       "      <td>CORNELL UNIVERSITY ITHACA</td>\n",
       "      <td>ITHACA</td>\n",
       "      <td>NY</td>\n",
       "      <td>14850-2820</td>\n",
       "      <td>UNITED STATES</td>\n",
       "      <td>NaN</td>\n",
       "      <td>NaN</td>\n",
       "      <td>47.049</td>\n",
       "      <td>2008</td>\n",
       "      <td>1519821.0</td>\n",
       "      <td>NaN</td>\n",
       "      <td>1</td>\n",
       "      <td>1</td>\n",
       "      <td>1519821.0</td>\n",
       "      <td>1</td>\n",
       "      <td>center molecular interfacing cmi enable integr...</td>\n",
       "    </tr>\n",
       "  </tbody>\n",
       "</table>\n",
       "</div>"
      ],
      "text/plain": [
       "  PROJECT_ID                                           ABSTRACT  \\\n",
       "0      89996  This is a project to explore Game-based, Metap...   \n",
       "1      89997  Institution: Franklin Institute Science Museum...   \n",
       "2      89998  Through programs (including small group conver...   \n",
       "3      89999  In partnership with the American Chemical Soci...   \n",
       "4      90001  The Center for Molecular Interfacing (CMI) wil...   \n",
       "\n",
       "                                       PROJECT_TERMS  \\\n",
       "0  Achievement; analog; base; Cognitive Science; ...   \n",
       "1  Active Learning; Child; Computer software; des...   \n",
       "2  Address; Age; Birth; Brain; Caregivers; Child;...   \n",
       "3  Advanced Development; American; Chemicals; Che...   \n",
       "4  Address; Architecture; Carbon Nanotubes; Catal...   \n",
       "\n",
       "                                       PROJECT_TITLE DEPARTMENT AGENCY  \\\n",
       "0  RUI: CYGAMES: CYBER-ENABLED TEACHING AND LEARN...        NSF    NSF   \n",
       "1  ARIEL - AUGMENTED REALITY FOR INTERPRETIVE AND...        NSF    NSF   \n",
       "2  BRIGHTER FUTURES: PUBLIC DELIBERATION ABOUT TH...        NSF    NSF   \n",
       "3  FOSTERING US-INTERNATIONAL COLLABORATIVE PARTN...        NSF    NSF   \n",
       "4      CCI PHASE I: CENTER FOR MOLECULAR INTERFACING        NSF    NSF   \n",
       "\n",
       "  IC_CENTER PROJECT_NUMBER PROJECT_START_DATE PROJECT_END_DATE  \\\n",
       "0       NaN        0814512          9/15/2008        8/31/2012   \n",
       "1       NaN        0741659          9/15/2008        8/31/2012   \n",
       "2       NaN        0813522          9/15/2008        8/31/2011   \n",
       "3       NaN        0838627           8/1/2008       12/31/2010   \n",
       "4       NaN        0847926          10/1/2008        9/30/2011   \n",
       "\n",
       "  CONTACT_PI_PROJECT_LEADER                                  OTHER_PIS  \\\n",
       "0           REESE, DEBBIE D  CARTER, BEVERLY; WOOD, CHARLES; HITT, BEN   \n",
       "1            SNYDER, STEVEN                ELINICH, KAREN; YOON, SUSAN   \n",
       "2    FINK, LAURIE KLEINBAUM        CADIGAN, KAREN; ELLENBOGEN, KIRSTEN   \n",
       "3              JOST, JOHN W         MILLER, BRADLEY; BOWMAN, KATHERINE   \n",
       "4          ABRUNA, HECTOR D                                        NaN   \n",
       "\n",
       "  CONGRESSIONAL_DISTRICT DUNS_NUMBER  \\\n",
       "0                     01   068719400   \n",
       "1                     02   001741859   \n",
       "2                     04   061451670   \n",
       "3                     04   009059242   \n",
       "4                     22   872612445   \n",
       "\n",
       "                                   ORGANIZATION_NAME ORGANIZATION_CITY  \\\n",
       "0                         WHEELING JESUIT UNIVERSITY          WHEELING   \n",
       "1                                 FRANKLIN INSTITUTE      PHILADELPHIA   \n",
       "2                        SCIENCE MUSEUM OF MINNESOTA        SAINT PAUL   \n",
       "3  INTERNATIONAL UNION OF PURE AND APPLIED CHEMISTRY            DURHAM   \n",
       "4                          CORNELL UNIVERSITY ITHACA            ITHACA   \n",
       "\n",
       "  ORGANIZATION_STATE ORGANIZATION_ZIP ORGANIZATION_COUNTRY BUDGET_START_DATE  \\\n",
       "0                 WV       26003-6243        UNITED STATES               NaN   \n",
       "1                 PA       19103-1115        UNITED STATES               NaN   \n",
       "2                 MN       55102-1202        UNITED STATES               NaN   \n",
       "3                 NC       27709-3757        UNITED STATES               NaN   \n",
       "4                 NY       14850-2820        UNITED STATES               NaN   \n",
       "\n",
       "  BUDGET_END_DATE CFDA_CODE    FY  FY_TOTAL_COST  FY_TOTAL_COST_SUB_PROJECTS  \\\n",
       "0             NaN    47.076  2008      1999467.0                         NaN   \n",
       "1             NaN    47.076  2008      1799699.0                         NaN   \n",
       "2             NaN    47.076  2008      1505858.0                         NaN   \n",
       "3             NaN    47.049  2008        51000.0                         NaN   \n",
       "4             NaN    47.049  2008      1519821.0                         NaN   \n",
       "\n",
       "   ORG_COUNT  PI_COUNT  FY_TOTAL_COST_SUM  NUM_RECORDS  \\\n",
       "0          1         1          1999467.0            1   \n",
       "1          1         1          1799699.0            1   \n",
       "2          1         1          1505858.0            1   \n",
       "3          1         1            51000.0            1   \n",
       "4          1         1          1519821.0            1   \n",
       "\n",
       "                                        final_tokens  \n",
       "0  project explore game base metaphor enhanced ga...  \n",
       "1  institution franklin institute science museum ...  \n",
       "2  program include small group conversation citiz...  \n",
       "3  partnership american chemical society acs nati...  \n",
       "4  center molecular interfacing cmi enable integr...  "
      ]
     },
     "execution_count": 3,
     "metadata": {},
     "output_type": "execute_result"
    }
   ],
   "source": [
    "df.head()"
   ]
  },
  {
   "cell_type": "code",
   "execution_count": 4,
   "metadata": {},
   "outputs": [
    {
     "data": {
      "text/plain": [
       "(1143869, 30)"
      ]
     },
     "execution_count": 4,
     "metadata": {},
     "output_type": "execute_result"
    }
   ],
   "source": [
    "df.shape"
   ]
  },
  {
   "cell_type": "code",
   "execution_count": 5,
   "metadata": {},
   "outputs": [],
   "source": [
    "# look thru raw abstracts\n",
    "\n",
    "docs = df[\"final_tokens\"]\n",
    "\n",
    "term_match_data = []\n",
    "\n",
    "# big_datum: 0 matches\n",
    "for i, abstract in enumerate(docs):\n",
    "        if ('big datum' in abstract or 'big data' in abstract or 'big_data' in abstract):\n",
    "            term_match_data.append(i)"
   ]
  },
  {
   "cell_type": "code",
   "execution_count": 6,
   "metadata": {},
   "outputs": [
    {
     "data": {
      "text/plain": [
       "4684"
      ]
     },
     "execution_count": 6,
     "metadata": {},
     "output_type": "execute_result"
    }
   ],
   "source": [
    "len(term_match_data)"
   ]
  },
  {
   "cell_type": "code",
   "execution_count": 7,
   "metadata": {},
   "outputs": [
    {
     "data": {
      "text/plain": [
       "'computer science 31this project aim improve big data preparedness diverse stem audience define comprehensive framework call tide timely introduction emerge data intensive computing project create certificate program provide method institutionalize framework develop project motivate guide collective experience grid computing solve domain specific problem life science environmental engineering data intensive computing receive attention solution address datum deluge bring tremendous advance distribute system internet base computing innovative programming model call mapreduce peta scale distribute file system support revolutionize fundamentally change approach large scale datum storage processing exist systematic approach teach big datum concept stem undergraduate tide address issue follow objective define set core competency require research advance field practical application design build system data intensive computing area define certificate program consist course effectively address competency define datum structure algorithm distribute system data intensive computing domain specific course capstone project solve data intensive problem course develop exist course tide project define develop curriculum course include teach material laboratory exercise case study practical experimentation broaden_participation certificate program assess progress effectiveness program provide strategy educator effectively adopt tide framework'"
      ]
     },
     "execution_count": 7,
     "metadata": {},
     "output_type": "execute_result"
    }
   ],
   "source": [
    "df[\"final_tokens\"][term_match_data[0]]"
   ]
  },
  {
   "cell_type": "code",
   "execution_count": 8,
   "metadata": {},
   "outputs": [
    {
     "data": {
      "text/plain": [
       "\"Enhanced Science of Science and Innovation Policy depends on better metrics. You can't manage what you can't measure.  This is particularly true for interdisciplinary research, which currently has few generally agreed-upon measures with acceptable degrees of accuracy.  Researchers at the University of Sussex have begun to address this problem by developing a conceptual framework to gauge research diversity.  The current project builds upon that conceptual framework to empirically test metrics that gauge the interdisciplinarity of particular bodies of research.  One proposed key measure assesses the degree to which particular research papers, or collections of such, integrate research knowledge from diverse research domains.  A second measure determines the degree of specialization of collections of research papers (e.g., those published by a particular research center or those of a research area such as quantum dots).  The resulting measures help track and characterize the emergence of new (interdisciplinary) research areas.  The project described in this proposal seeks to generate analytical algorithms for indicators of interdisciplinarity.  It also seeks to visually depict knowledge interchanges among areas of research activity.  Such science maps can help identify and characterize focused areas of research--domains--that are sources of knowledge used by other domains.  They can also show the extent of intellectual and social networking among both domains and contributing institutions.  This project will, through US-UK collaboration, develop effective means to apply and test these new metrics.  The proposed project focuses on nanoscience and nanoengineering ( nano ), an emergent research domain of considerable significance that extends well beyond traditional disciplinary boundaries.  Georgia Tech has assembled a substantial nano dataset that will serve as the main testbed for computing and assessing indicator variations.  The research team will generate indicator sets and maps of selected nano sub-topics (e.g., molecular motors research).  These indicator sets and maps will be shared with researchers and R&D managers to gauge their validity and utility. Taking into account feedback, the research team will then develop a taxonomy of nanotechnology research activity based on identification of coherent research sub-areas.Broader Impacts: These tools better enable scientists, science managers, and Federal science and regulatory agencies to gauge and track cross-domain knowledge transfers.  Failure to recognize the full extent and complexity of these patterns could result in major funding and regulatory mistakes.   The new indicators and accompanying maps help identify leverage points likely to spark advances in science, technology, and innovation.  They can also facilitate graduate education by identifying convergent knowledge domains - potentially emerging  interdisciplines.   Better understanding of research landscapes can help orient graduate curricula and spotlight promising dissertation topics.  More accurate interdisciplinarity measures also contribute to an ongoing National Academies initiative to bolster interdisciplinary research across the US.\""
      ]
     },
     "execution_count": 8,
     "metadata": {},
     "output_type": "execute_result"
    }
   ],
   "source": [
    "df[\"ABSTRACT\"][100]  #[term_match_data[4]]"
   ]
  },
  {
   "cell_type": "code",
   "execution_count": 9,
   "metadata": {},
   "outputs": [
    {
     "name": "stdout",
     "output_type": "stream",
     "text": [
      "2009      6\n",
      "2010      2\n",
      "2011      5\n",
      "2012     64\n",
      "2013    194\n",
      "2014    331\n",
      "2015    490\n",
      "2016    642\n",
      "2017    683\n",
      "2018    754\n",
      "2019    761\n",
      "2020    752\n",
      "Name: FY, dtype: int64\n"
     ]
    }
   ],
   "source": [
    "yrs_big_data = df[\"FY\"][term_match_data].value_counts().sort_index(ascending=True)\n",
    "print(yrs_big_data)"
   ]
  },
  {
   "cell_type": "code",
   "execution_count": 10,
   "metadata": {},
   "outputs": [
    {
     "name": "stderr",
     "output_type": "stream",
     "text": [
      "<ipython-input-10-975acdfa48cb>:12: UserWarning: FixedFormatter should only be used together with FixedLocator\n",
      "  ax.set_yticklabels(['{:,}'.format(int(x)) for x in ax.get_yticks().tolist()])\n"
     ]
    },
    {
     "data": {
      "text/plain": [
       "Text(0.5, 1.0, 'Big Data Frequency by FY')"
      ]
     },
     "execution_count": 10,
     "metadata": {},
     "output_type": "execute_result"
    },
    {
     "data": {
      "image/png": "[encoded data removed]",
      "text/plain": [
       "<Figure size 432x288 with 1 Axes>"
      ]
     },
     "metadata": {
      "needs_background": "light"
     },
     "output_type": "display_data"
    }
   ],
   "source": [
    "year = yrs_big_data.index.tolist()\n",
    "count = yrs_big_data.values\n",
    "\n",
    "fig = plt.figure()\n",
    "ax = fig.add_subplot(111)\n",
    "ax.set_axisbelow(True)\n",
    "plt.grid(True, color = \"whitesmoke\")\n",
    "plt.bar(year, count, color='navy')\n",
    "#plt.xlim(-0.7, len(year)-0.3)\n",
    "#plt.xlim(2007.3,2020.7)\n",
    "plt.xticks(year, rotation=45)\n",
    "ax.set_yticklabels(['{:,}'.format(int(x)) for x in ax.get_yticks().tolist()])\n",
    "#x_ticks = ax.xaxis.get_major_ticks()\n",
    "#x_ticks[-1].label1.set_visible(False)\n",
    "plt.xlabel(\"FY\")\n",
    "plt.ylabel(\"Number of Projects\")\n",
    "plt.title(\"Big Data Frequency by FY\")\n",
    "\n",
    "#plt.savefig(\"startyr_freq.png\", dpi = 800, bbox_inches = \"tight\")\n",
    "#plt.savefig(\"startyr_freq.pdf\", dpi = 800, bbox_inches = \"tight\")"
   ]
  },
  {
   "cell_type": "code",
   "execution_count": 11,
   "metadata": {},
   "outputs": [
    {
     "name": "stdout",
     "output_type": "stream",
     "text": [
      "DOD        7\n",
      "EPA        1\n",
      "HHS     2411\n",
      "NASA       3\n",
      "NSF     2219\n",
      "USDA      30\n",
      "VA        13\n",
      "Name: DEPARTMENT, dtype: int64\n"
     ]
    }
   ],
   "source": [
    "dept_big_data = df[\"DEPARTMENT\"][term_match_data].value_counts().sort_index(ascending=True)\n",
    "print(dept_big_data)"
   ]
  },
  {
   "cell_type": "code",
   "execution_count": 12,
   "metadata": {},
   "outputs": [
    {
     "data": {
      "text/plain": [
       "'HHS'"
      ]
     },
     "execution_count": 12,
     "metadata": {},
     "output_type": "execute_result"
    }
   ],
   "source": [
    "df[\"DEPARTMENT\"][term_match_data[2000]]"
   ]
  },
  {
   "cell_type": "code",
   "execution_count": null,
   "metadata": {},
   "outputs": [],
   "source": []
  },
  {
   "cell_type": "code",
   "execution_count": null,
   "metadata": {},
   "outputs": [],
   "source": []
  },
  {
   "cell_type": "code",
   "execution_count": 13,
   "metadata": {},
   "outputs": [
    {
     "data": {
      "text/plain": [
       "1096888"
      ]
     },
     "execution_count": 13,
     "metadata": {},
     "output_type": "execute_result"
    }
   ],
   "source": [
    "sum(~df[\"PROJECT_TERMS\"].isna())"
   ]
  },
  {
   "cell_type": "code",
   "execution_count": 14,
   "metadata": {},
   "outputs": [
    {
     "data": {
      "text/plain": [
       "'achievement; analog; base; cognitive science; computer design; conceptual domain; data; data collection; design; educational process of instructing; ensure; environment; experience; goals; informatics; instruction; learning; maps; mediating; metaphor; methodology; methods; metric; modeling; motivation; perception; play; procedures; process; prototype; psyche structure; readiness; research; research infrastructure; route; science; structure; success; system; testing; theories; translating'"
      ]
     },
     "execution_count": 14,
     "metadata": {},
     "output_type": "execute_result"
    }
   ],
   "source": [
    "df[\"PROJECT_TERMS\"][0].lower()"
   ]
  },
  {
   "cell_type": "code",
   "execution_count": 15,
   "metadata": {},
   "outputs": [
    {
     "data": {
      "text/plain": [
       "True"
      ]
     },
     "execution_count": 15,
     "metadata": {},
     "output_type": "execute_result"
    }
   ],
   "source": [
    "type(df[\"PROJECT_TERMS\"][0]) == str"
   ]
  },
  {
   "cell_type": "code",
   "execution_count": 16,
   "metadata": {},
   "outputs": [],
   "source": [
    "terms_idx = []\n",
    "\n",
    "# big datum = 0, big_datum = 0, big_data = 0\n",
    "for i, keywords in enumerate(df[\"PROJECT_TERMS\"]):\n",
    "    if type(keywords) == str:\n",
    "        keywords = keywords.lower()\n",
    "        if ('big data' in keywords): \n",
    "            terms_idx.append(i)\n",
    "    else:\n",
    "        pass"
   ]
  },
  {
   "cell_type": "code",
   "execution_count": 17,
   "metadata": {},
   "outputs": [
    {
     "data": {
      "text/plain": [
       "5156"
      ]
     },
     "execution_count": 17,
     "metadata": {},
     "output_type": "execute_result"
    }
   ],
   "source": [
    "len(terms_idx)"
   ]
  },
  {
   "cell_type": "code",
   "execution_count": 18,
   "metadata": {},
   "outputs": [
    {
     "data": {
      "text/plain": [
       "'abstracting; Address; American Heart Association; Area; base; Big Data; biomedical informatics; Biometry; Blood Pressure; Cardiovascular Diseases; cardiovascular disorder prevention; Cardiovascular system; career; Cause of Death; Cholesterol; cigarette smoking; cohort; Commit; comparative effectiveness; Coronary heart disease; cost effective; Country; Data; Development; Diabetes Mellitus; disability; disorder prevention; dissemination research; Educational Curriculum; Educational process of instructing; effectiveness research; Electronic Health Record; Environmental Policy; Epidemic; Epidemiology; Etiology; Faculty; Female; Funding Agency; Future; Generations; Genomics; Goals; Health; health care delivery; Health Professional; Health Promotion; Hypertension; imaging modality; implementation research; improved; Incidence; Insulin Resistance; interest; Investigation; Knowledge; Learning; Magnetic Resonance Imaging; Maintenance; Medical; member; metabolomics; Methods; Minority; mortality; Nature; Obesity; Observational Study; Outcomes Research; Participant; Patient-Focused Outcomes; Physical environment; Policies; Population; population health; Population Sciences; Postdoctoral Fellow; Practical trial; Prevalence; Prevention; Preventive; Program Development; programs; Proteomics; Public Health; public health relevance; Publishing; Qualifying; Quality of Care; Reporting; Research; research in practice; Research Personnel; Research Proposals; Research Training; Scientist; skills; Social Environment; Source; stroke; Structure; success; Systems Biology; Training; transcriptomics; Translating; Translational Research; trend; United States'"
      ]
     },
     "execution_count": 18,
     "metadata": {},
     "output_type": "execute_result"
    }
   ],
   "source": [
    "df[\"PROJECT_TERMS\"][terms_idx[15]]"
   ]
  },
  {
   "cell_type": "code",
   "execution_count": 19,
   "metadata": {},
   "outputs": [
    {
     "data": {
      "text/plain": [
       "\"We propose to create a massively scalable toolkit to enable large, multi-center Patient-centered Information Commons (PIC) at local, regional and, national scale, where the focus is the alignment of all available biomedical data per individual. Such a Commons is a prerequisite for conducting the large-N, Big Data, longitudinal studies essential for understanding causation in the Precision Medicine framework while simultaneously addressing key complexities of Patient Centric Outcome Research studies required under ACA (Affordable Care Act). This agenda entails the four following aims:  Aim 1: Create an individual patient data identification and retrieval toolkit that is robust across distributed data of wide variety and geographically scattered. Robustness with regard to a variety of organizational structures and national scalability is emphasized. Aim 2: Generate a complete diagnostic and prognostic 'data' picture of a patient across multiple sources of data, some of which are noisy and sparse. Aim 3. Enable robust decentralized computation on large-scale data with the Patient-centered Information Commons Big Data Science Platform (PIC-DSP), particularly in configurations where data are generated in locations other than where computational resources are most available. Aim 4: Create three patient-centered information commons instances (PICIs) to test all aspects of the toolkit developed. We have selected neurodevelopmental disorders as our first PICI, as it fulfills several criteria (wide variety of data types and scales, collaborator engagement, multiple healthcare institutions, and opportunity to rigorously test and refine features of the tool).\""
      ]
     },
     "execution_count": 19,
     "metadata": {},
     "output_type": "execute_result"
    }
   ],
   "source": [
    "df[\"ABSTRACT\"][terms_idx[100]]"
   ]
  },
  {
   "cell_type": "code",
   "execution_count": 20,
   "metadata": {},
   "outputs": [],
   "source": [
    "# find abstracts labeled with \"big data\" and not including the words \"big data\"\n",
    "\n",
    "proj_terms_not_in_abs = list(set(terms_idx).difference(set(term_match_data)))"
   ]
  },
  {
   "cell_type": "code",
   "execution_count": 21,
   "metadata": {},
   "outputs": [
    {
     "data": {
      "text/plain": [
       "1628"
      ]
     },
     "execution_count": 21,
     "metadata": {},
     "output_type": "execute_result"
    }
   ],
   "source": [
    "len(proj_terms_not_in_abs)"
   ]
  },
  {
   "cell_type": "code",
   "execution_count": 23,
   "metadata": {},
   "outputs": [
    {
     "data": {
      "text/plain": [
       "3528"
      ]
     },
     "execution_count": 23,
     "metadata": {},
     "output_type": "execute_result"
    }
   ],
   "source": [
    "len(list(set(terms_idx).intersection(set(term_match_data))))"
   ]
  },
  {
   "cell_type": "code",
   "execution_count": 22,
   "metadata": {},
   "outputs": [
    {
     "data": {
      "text/plain": [
       "\"DESCRIPTION (provided by applicant): Commercially available heart sensors have been reported to last nearly 84 hours without needing battery replacements. These lifetimes are clearly not enough since long term monitoring for congenital heart diseases are typically prescribed for months if not years. Generative Model-based Resource Efficient ECG Monitoring (GeM-REM) leverages the morphologic predictability of ECG signals to considerably reduce wireless communication from a wearable ECG sensor to a desktop, laptop or a smart-phone and increases their lifetime by 40 fold. In principle, the GeMREM technique considers the periodicity of ECG signals and develops a generative model. The generative model if supplied with the correct parameters can generate synthetic physiological signals that are equivalent to the original signal in diagnostic content. Theoretical study with MIT BIH data shows that this technique can result in huge increase (40 fold) in lifetime and reduction in storage requirements while maintaining required accuracy. Relying on predictability, GeM-REM immediately recognizes changes in the ECG and thus it can promptly generate alerts based on pre-defined thresholds. Additionally, it can identify segments of ECG trace which are  normal  and  abnormal . Such a classification can be extremely useful for cardiologists to quickly browse through lengthy ECG traces. GeM-REM drastically reduces wireless data transmission allowing several more wireless sensors to be in close proximity, e.g., in an ICU. Additionally, reduced wireless communication saves considerable energy and consequently extends the time between battery recharges or changes. In an ongoing clinical study with St. Luke's hospital we have deployed GeMREM enabled ECG sensors on 25 patients each monitored for 20 hours to analyze the feasibility of the technology in a hospital environment. However, GeMREM is intended for long term use and hence in this project we plan to deploy sensors at a hospital and home setting with frequent motion artifacts and distortions of ECG signals due to pathological conditions. In this project we aim to deploy sensors on 100 ICU patients at St. Luke's hospital and also require them to take home and monitor for a week. The main study aims are: a) to analyze the feasibility of using GeMREM sensors at home and hospital, and b) to obtain a statistically stable lifetime and storage needs.\""
      ]
     },
     "execution_count": 22,
     "metadata": {},
     "output_type": "execute_result"
    }
   ],
   "source": [
    "df[\"ABSTRACT\"][proj_terms_not_in_abs[20]]"
   ]
  },
  {
   "cell_type": "code",
   "execution_count": 25,
   "metadata": {},
   "outputs": [],
   "source": [
    "in_abs_not_terms = list(set(term_match_data).difference(set(terms_idx)))"
   ]
  },
  {
   "cell_type": "code",
   "execution_count": 29,
   "metadata": {},
   "outputs": [
    {
     "data": {
      "text/plain": [
       "'This project addresses the growing need for improved synchronization methods for large-scale, multi-party distributed systems.\\xa0 As users migrate information to cloud storage, cloud providers may use multiple loosely consistent replicas because of the overhead of keeping replicas synchronized at all times.\\xa0 Further, users themselves may create loosely synchronized replicas on laptops, tablets, or other devices when they are disconnected from the cloud storage.\\xa0 Periodic synchronization, or reconciliation, becomes a requirement in such settings.Reconciliation has been most studied in the specific setting of two connected users, each containing a set of keys, and both desiring the union of the sets.\\xa0 The costs of these protocols is typically in terms of the size of the symmetric set difference between the two sets.\\xa0 The Principal Investigator (PI) will focus on generalizing reconciliation methods to settings where many parties communicate over a network represented by a graph.\\xa0 The new framework will aim to  encompass standard problems such as rumor spreading and network coding, as well as generalize to other objects such as sequences with other measures such as edit distance. The primary theoretical and practical challenge the PI will pursue is to develop schemes where the amount of communication necessary for object synchronization depends only on the size of the difference among objects that need to be synchronized, and not the sizes of the objects themselves.\\xa0 For example, for large databases, the synchronization cost should depend on the delta between the databases, which will generally be much smaller than the databases themselves.\\xa0 A further goal is that the framework will have practical consequences for modern cloud-based deployments, especially large-scale big data systems. Because the goals of reconciliation include both algorithmic efficiency as well as communication efficiency, the PI will work to bring ideas from both the theoretical computer science and information theory communities together in this work.\\xa0 The new algorithms and data structures developed for these problems are expected to have significant additional uses for other problems as well.'"
      ]
     },
     "execution_count": 29,
     "metadata": {},
     "output_type": "execute_result"
    }
   ],
   "source": [
    "df[\"ABSTRACT\"][in_abs_not_terms[1]]"
   ]
  },
  {
   "cell_type": "code",
   "execution_count": 30,
   "metadata": {},
   "outputs": [
    {
     "data": {
      "text/plain": [
       "'Address; Algorithms; base; Code; Communication; Communities; computer science; cost; Data; Databases; Devices; Distributed Systems; Goals; Graph; improved; Information Systems; Information Theory; laptop; Measures; Methods; Principal Investigator; Protocols documentation; Provider; Scheme; Structure; Tablets; theories; Time; Work'"
      ]
     },
     "execution_count": 30,
     "metadata": {},
     "output_type": "execute_result"
    }
   ],
   "source": [
    "df[\"PROJECT_TERMS\"][in_abs_not_terms[1]]"
   ]
  },
  {
   "cell_type": "code",
   "execution_count": null,
   "metadata": {},
   "outputs": [],
   "source": []
  },
  {
   "cell_type": "code",
   "execution_count": null,
   "metadata": {},
   "outputs": [],
   "source": []
  },
  {
   "cell_type": "code",
   "execution_count": 79,
   "metadata": {},
   "outputs": [],
   "source": [
    "# look thru raw abstracts\n",
    "\n",
    "docs = df[\"final_tokens\"]\n",
    "\n",
    "term_match_data2 = []\n",
    "\n",
    "for i, abstract in enumerate(docs):\n",
    "        if ('data mining' in abstract or 'datum mining' in abstract or 'data_mining' in abstract):\n",
    "            term_match_data2.append(i)"
   ]
  },
  {
   "cell_type": "code",
   "execution_count": 80,
   "metadata": {},
   "outputs": [
    {
     "data": {
      "text/plain": [
       "3092"
      ]
     },
     "execution_count": 80,
     "metadata": {},
     "output_type": "execute_result"
    }
   ],
   "source": [
    "len(term_match_data2)"
   ]
  },
  {
   "cell_type": "code",
   "execution_count": 81,
   "metadata": {},
   "outputs": [
    {
     "data": {
      "text/plain": [
       "'project encourage interdisciplinary machine learn research education integrate use machine learn application area solve real science problem serve catalyst new research machine learning application domain investigate basic machine learn issue arise work real world application optimize choice available generate training datum assess improve quality training datum design specific algorithm method time series feature base datum develop method abstain classification research motivate go collaboration researcher create solution train artificial nose chemistry tufts land cover mapping remotely_sensed datum geography boston university classification sky survey astronomy harvard non invasive gluclose monitoring biomedical engineering tufts liquification prediction civil engineering tufts successful application machine learn task significant impact life human education initiative complementary goal educate computer science student conduct interdisciplinary machine learning research educate professor graduate student undergraduate science engineering medicine recognize pose problem machine learning datum mining problem'"
      ]
     },
     "execution_count": 81,
     "metadata": {},
     "output_type": "execute_result"
    }
   ],
   "source": [
    "df[\"final_tokens\"][term_match_data2[10]]"
   ]
  },
  {
   "cell_type": "code",
   "execution_count": 82,
   "metadata": {},
   "outputs": [
    {
     "name": "stdout",
     "output_type": "stream",
     "text": [
      "2008    258\n",
      "2009    287\n",
      "2010    258\n",
      "2011    228\n",
      "2012    225\n",
      "2013    230\n",
      "2014    254\n",
      "2015    265\n",
      "2016    240\n",
      "2017    217\n",
      "2018    226\n",
      "2019    219\n",
      "2020    185\n",
      "Name: FY, dtype: int64\n"
     ]
    }
   ],
   "source": [
    "yrs_data_mining = df[\"FY\"][term_match_data2].value_counts().sort_index(ascending=True)\n",
    "print(yrs_data_mining)"
   ]
  },
  {
   "cell_type": "code",
   "execution_count": 84,
   "metadata": {},
   "outputs": [
    {
     "name": "stderr",
     "output_type": "stream",
     "text": [
      "<ipython-input-84-deae1569af7f>:12: UserWarning: FixedFormatter should only be used together with FixedLocator\n",
      "  ax.set_yticklabels(['{:,}'.format(int(x)) for x in ax.get_yticks().tolist()])\n"
     ]
    },
    {
     "data": {
      "text/plain": [
       "Text(0.5, 1.0, 'Data Mining Frequency by FY')"
      ]
     },
     "execution_count": 84,
     "metadata": {},
     "output_type": "execute_result"
    },
    {
     "data": {
      "image/png": "[encoded data removed]",
      "text/plain": [
       "<Figure size 432x288 with 1 Axes>"
      ]
     },
     "metadata": {
      "needs_background": "light"
     },
     "output_type": "display_data"
    }
   ],
   "source": [
    "year = yrs_data_mining.index.tolist()\n",
    "count = yrs_data_mining.values\n",
    "\n",
    "fig = plt.figure()\n",
    "ax = fig.add_subplot(111)\n",
    "ax.set_axisbelow(True)\n",
    "plt.grid(True, color = \"whitesmoke\")\n",
    "plt.bar(year, count, color='navy')\n",
    "#plt.xlim(-0.7, len(year)-0.3)\n",
    "#plt.xlim(2007.3,2020.7)\n",
    "plt.xticks(year, rotation=45)\n",
    "ax.set_yticklabels(['{:,}'.format(int(x)) for x in ax.get_yticks().tolist()])\n",
    "#x_ticks = ax.xaxis.get_major_ticks()\n",
    "#x_ticks[-1].label1.set_visible(False)\n",
    "plt.xlabel(\"FY\")\n",
    "plt.ylabel(\"Number of Projects\")\n",
    "plt.title(\"Data Mining Frequency by FY\")\n",
    "\n",
    "#plt.savefig(\"startyr_freq.png\", dpi = 800, bbox_inches = \"tight\")\n",
    "#plt.savefig(\"startyr_freq.pdf\", dpi = 800, bbox_inches = \"tight\")"
   ]
  },
  {
   "cell_type": "code",
   "execution_count": null,
   "metadata": {},
   "outputs": [],
   "source": []
  },
  {
   "cell_type": "code",
   "execution_count": null,
   "metadata": {},
   "outputs": [],
   "source": []
  },
  {
   "cell_type": "code",
   "execution_count": 45,
   "metadata": {},
   "outputs": [],
   "source": [
    "# look thru raw abstracts - \"data analysis\"\n",
    "\n",
    "docs = df[\"final_tokens\"]\n",
    "\n",
    "term_match_data3 = []\n",
    "\n",
    "for i, abstract in enumerate(docs):\n",
    "        if ('datum analy' in abstract): # or 'datum mining' in abstract or 'data_mining' in abstract):\n",
    "            term_match_data3.append(i)"
   ]
  },
  {
   "cell_type": "code",
   "execution_count": 46,
   "metadata": {},
   "outputs": [
    {
     "data": {
      "text/plain": [
       "20845"
      ]
     },
     "execution_count": 46,
     "metadata": {},
     "output_type": "execute_result"
    }
   ],
   "source": [
    "len(term_match_data3)"
   ]
  },
  {
   "cell_type": "code",
   "execution_count": 47,
   "metadata": {},
   "outputs": [
    {
     "data": {
      "text/plain": [
       "'ses_0817659rachel einwohnerpurdue universitythis study ask resistance place situation condition facilitate emergence collective armed resistance current theory social movement emergence argue collective action occur group individual opportunity resource sense efficacy study contribution examine resistance condition extreme repression limited resource great despair research study jewish victim holocaust commonly portray passive individual know case jewish resistance warsaw ghetto uprising demonstrate place jews rise oppressor jewish ghetto nazi occupy europe provide useful setting empirical study emergence collective resistance extreme circumstance project contribution extant literature examine understudied context collective action use result develop new theoretical model investigator conduct depth qualitative analysis compare strategically select case study warsaw ghetto collective jewish resistance occur vilna ghetto collective resistance plan achieve lodz ghetto collective resistance attempt datum include primary secondary source include transcript random sample n120 archive oral testimony survivor ghetto ghetto testimony house university southern_california shoah foundation institute oral testimony datum analyze qualitative software package nvivo study broad impact educational policy relate project help contribute extant knowledge collective action contentious_politic general result intend primarily professional academic audience educational setting eg holocaust education public school addition extent disseminate widely eg medium finding impact general publics understanding holocaust especially help dispel_myth jewish passivity lastly finding relevance contemporary case resistance armed insurgency prison revolt urban riot'"
      ]
     },
     "execution_count": 47,
     "metadata": {},
     "output_type": "execute_result"
    }
   ],
   "source": [
    "df[\"final_tokens\"][term_match_data3[0]]"
   ]
  },
  {
   "cell_type": "code",
   "execution_count": 48,
   "metadata": {},
   "outputs": [
    {
     "data": {
      "text/plain": [
       "'SES-0817659Rachel L. EinwohnerPurdue UniversityThis study asks: Why does resistance take place in some situations but not others? What conditions facilitated the emergence of collective armed resistance? While current theories of social movement emergence argue that collective action occurs when groups of individuals have opportunity, resources, and a sense of efficacy, this study will make a contribution by examining resistance under conditions of extreme repression, limited resources, and great despair.  This research will study Jewish victims of the Holocaust who are commonly portrayed as passive individuals. Yet well known cases of Jewish resistance such as the Warsaw Ghetto Uprising demonstrate that in at least some places, Jews did rise up against their oppressors. Jewish ghettos in Nazi-occupied Europe therefore provide a useful setting for an empirical study of the emergence of collective resistance under extreme circumstances. This project will make a contribution to the extant literature by examining an understudied context for collective action and use the results to develop new theoretical models. The investigator will conduct in-depth qualitative analysis and compare three strategically selected case studies: the Warsaw Ghetto (where collective Jewish resistance occurred), the Vilna Ghetto (where collective resistance was planned but not achieved), and the Lodz Ghetto (where collective resistance was never attempted). Data will include both primary and secondary sources, including transcripts from a random sample (N=120) of archived oral testimonies from survivors of each ghetto (40 from each ghetto). These testimonies are housed at the University of Southern California Shoah Foundation Institute. Oral testimony data will be analyzed using the qualitative software package NVivo.The study?s broader impacts are both educational and policy-related. First, the project will help contribute to extant knowledge about collective action and contentious politics in general. Although the results are intended primarily for professional academic audiences, they may also be used in other educational settings (e.g., Holocaust education in public schools). In addition, to the extent that they are disseminated more widely (e.g., through the media), the findings can also have an impact on the general public?s understanding of the Holocaust, especially by helping to dispel the myth of Jewish passivity. Lastly, the findings will have relevance to contemporary cases of resistance such as armed insurgencies, prison revolts and urban riots.'"
      ]
     },
     "execution_count": 48,
     "metadata": {},
     "output_type": "execute_result"
    }
   ],
   "source": [
    "df[\"ABSTRACT\"][term_match_data3[0]]"
   ]
  },
  {
   "cell_type": "code",
   "execution_count": 49,
   "metadata": {},
   "outputs": [
    {
     "name": "stdout",
     "output_type": "stream",
     "text": [
      "2008    1367\n",
      "2009    1500\n",
      "2010    1535\n",
      "2011    1439\n",
      "2012    1377\n",
      "2013    1427\n",
      "2014    1527\n",
      "2015    1715\n",
      "2016    1739\n",
      "2017    1704\n",
      "2018    1765\n",
      "2019    1801\n",
      "2020    1949\n",
      "Name: FY, dtype: int64\n"
     ]
    }
   ],
   "source": [
    "yrs_data_mining = df[\"FY\"][term_match_data3].value_counts().sort_index(ascending=True)\n",
    "print(yrs_data_mining)"
   ]
  },
  {
   "cell_type": "code",
   "execution_count": 50,
   "metadata": {},
   "outputs": [
    {
     "name": "stderr",
     "output_type": "stream",
     "text": [
      "<ipython-input-50-f5217d5afa70>:12: UserWarning: FixedFormatter should only be used together with FixedLocator\n",
      "  ax.set_yticklabels(['{:,}'.format(int(x)) for x in ax.get_yticks().tolist()])\n"
     ]
    },
    {
     "data": {
      "text/plain": [
       "Text(0.5, 1.0, 'Datum Analy.. Frequency by FY')"
      ]
     },
     "execution_count": 50,
     "metadata": {},
     "output_type": "execute_result"
    },
    {
     "data": {
      "image/png": "[encoded data removed]",
      "text/plain": [
       "<Figure size 432x288 with 1 Axes>"
      ]
     },
     "metadata": {
      "needs_background": "light"
     },
     "output_type": "display_data"
    }
   ],
   "source": [
    "year = yrs_data_mining.index.tolist()\n",
    "count = yrs_data_mining.values\n",
    "\n",
    "fig = plt.figure()\n",
    "ax = fig.add_subplot(111)\n",
    "ax.set_axisbelow(True)\n",
    "plt.grid(True, color = \"whitesmoke\")\n",
    "plt.bar(year, count, color='navy')\n",
    "#plt.xlim(-0.7, len(year)-0.3)\n",
    "#plt.xlim(2007.3,2020.7)\n",
    "plt.xticks(year, rotation=45)\n",
    "ax.set_yticklabels(['{:,}'.format(int(x)) for x in ax.get_yticks().tolist()])\n",
    "#x_ticks = ax.xaxis.get_major_ticks()\n",
    "#x_ticks[-1].label1.set_visible(False)\n",
    "plt.xlabel(\"FY\")\n",
    "plt.ylabel(\"Number of Projects\")\n",
    "plt.title(\"Datum Analy.. Frequency by FY\")\n",
    "\n",
    "#plt.savefig(\"startyr_freq.png\", dpi = 800, bbox_inches = \"tight\")\n",
    "#plt.savefig(\"startyr_freq.pdf\", dpi = 800, bbox_inches = \"tight\")"
   ]
  },
  {
   "cell_type": "code",
   "execution_count": null,
   "metadata": {},
   "outputs": [],
   "source": []
  },
  {
   "cell_type": "code",
   "execution_count": null,
   "metadata": {},
   "outputs": [],
   "source": []
  },
  {
   "cell_type": "code",
   "execution_count": null,
   "metadata": {},
   "outputs": [],
   "source": []
  },
  {
   "cell_type": "code",
   "execution_count": null,
   "metadata": {},
   "outputs": [],
   "source": []
  },
  {
   "cell_type": "code",
   "execution_count": 90,
   "metadata": {},
   "outputs": [
    {
     "data": {
      "text/plain": [
       "'DESCRIPTION (provided by applicant): Insulin is the primary hormone regulating glucose homeostasis. It binds to and activates the insulin receptor (IR), which subsequently tyrosine phosphorylates and activates multiple cell signaling proteins including IRS proteins, APS and SH2-B. Defects in activation of IR and/or its downstream signaling molecules result in insulin resistance, which is associated with and may be a driving force for type 2 diabetes. The long-term goal of my research program is to elucidate the molecular mechanisms of insulin signaling and resistance. We recently identified SH2-B as a binding protein for IR as well as for JAK2, a cytosolic tyrosine kinase required for cytokine action. SH2-B binds to JAK2 via its SH2 domain, and enhances JAK2 kinase activity; however, its role in insulin action is unclear. To study the physiological function of SH2-B in vivo, we generated mutant mice lacking SH2-B. Initial inspection revealed that the mutant mice homozygous for the SH2-B null allele develop insulin resistance and type 2 diabetes. Moreover, hepatic IRS2 is reduced significantly in SH2-B deficient mice. We hypothesize that SH2-B enhances IR activation and IRS2 expression independently, and that both contribute to maintaining normal insulin sensitivity in animals. To test this hypothesis, we shall determine whether deletion of SH2-B impairs insulin-stimulated IR activation and the subsequent phosphorylation of its substrates and activation of downstream pathways, and whether reintroduction of recombinant SH2-B can rescues normal insulin signaling and physiological responses in SH2-B deficient cells and tissues. We shall determine whether SH2-B activates IRS2 promoter independent of insulin stimulation. We shall use a variety of methods to identify molecular mechanisms by which SH2-B potentiates IR activation and promotes IRS2 expression. Thus, the Specific Aims of this proposal are to:   1. Determine whether SH2-B directly enhances insulin physiological responses and signal transduction in mice, tissues and cultured cells.     2. Determine whether and how SH2-B enhances IR activation in mice, tissues and cultured cells.   3. Determine whether and how SH2-B enhances the IRS2 expression in mice, tissues and cultured cells.   The results of this proposal will lead to identification of SH2-B-initiated signaling events that may serve as targets for drug intervention of insulin resistance and type 2 diabetes.'"
      ]
     },
     "execution_count": 90,
     "metadata": {},
     "output_type": "execute_result"
    }
   ],
   "source": [
    "df[\"ABSTRACT\"][15000]"
   ]
  },
  {
   "cell_type": "code",
   "execution_count": null,
   "metadata": {},
   "outputs": [],
   "source": []
  },
  {
   "cell_type": "code",
   "execution_count": null,
   "metadata": {},
   "outputs": [],
   "source": []
  },
  {
   "cell_type": "code",
   "execution_count": 5,
   "metadata": {},
   "outputs": [],
   "source": [
    "docs = df[\"final_tokens\"]  "
   ]
  },
  {
   "cell_type": "code",
   "execution_count": 91,
   "metadata": {},
   "outputs": [],
   "source": [
    "#counts number of abstracts that contain 'data'\n",
    "term_match_data = []\n",
    "for i, abstract in enumerate(docs):\n",
    "        if ('social media' in abstract):\n",
    "            term_match_data.append(i)"
   ]
  },
  {
   "cell_type": "code",
   "execution_count": 92,
   "metadata": {},
   "outputs": [
    {
     "data": {
      "text/plain": [
       "381"
      ]
     },
     "execution_count": 92,
     "metadata": {},
     "output_type": "execute_result"
    }
   ],
   "source": [
    "len(term_match_data)"
   ]
  },
  {
   "cell_type": "code",
   "execution_count": 8,
   "metadata": {},
   "outputs": [],
   "source": [
    "term_match_idx = []\n",
    "\n",
    "for i, abstract in enumerate(docs):\n",
    "    if ('data' in abstract): \n",
    "        if ('big' in abstract or 'mining' in abstract):\n",
    "            term_match_idx.append(i)"
   ]
  },
  {
   "cell_type": "code",
   "execution_count": 9,
   "metadata": {},
   "outputs": [
    {
     "data": {
      "text/plain": [
       "9327"
      ]
     },
     "execution_count": 9,
     "metadata": {},
     "output_type": "execute_result"
    }
   ],
   "source": [
    "len(term_match_idx) "
   ]
  },
  {
   "cell_type": "code",
   "execution_count": 10,
   "metadata": {},
   "outputs": [],
   "source": [
    "vectorizer = CountVectorizer()\n",
    "dtm = vectorizer.fit_transform(docs)\n",
    "\n",
    "terms = vectorizer.get_feature_names()"
   ]
  },
  {
   "cell_type": "code",
   "execution_count": 11,
   "metadata": {},
   "outputs": [
    {
     "data": {
      "text/plain": [
       "(1143869, 1629626)"
      ]
     },
     "execution_count": 11,
     "metadata": {},
     "output_type": "execute_result"
    }
   ],
   "source": [
    "dtm.shape"
   ]
  },
  {
   "cell_type": "code",
   "execution_count": 12,
   "metadata": {},
   "outputs": [
    {
     "name": "stdout",
     "output_type": "stream",
     "text": [
      "2955\n"
     ]
    }
   ],
   "source": [
    "#checks for all terms relating to data \n",
    "count = 0\n",
    "\n",
    "for term in terms:\n",
    "    if 'data' in term:\n",
    "        if not 'base' in term: \n",
    "#             print(term)\n",
    "            count = count + 1\n",
    "        \n",
    "print(count)"
   ]
  },
  {
   "cell_type": "code",
   "execution_count": 13,
   "metadata": {},
   "outputs": [],
   "source": [
    "term_counts = dtm.sum(axis=0)"
   ]
  },
  {
   "cell_type": "code",
   "execution_count": 14,
   "metadata": {},
   "outputs": [
    {
     "name": "stdout",
     "output_type": "stream",
     "text": [
      "big_dataresearch\n",
      "bigdata\n",
      "bigdata_4\n",
      "bigdataadministrative\n",
      "bigdatasimpact\n",
      "bigdatatop100org\n",
      "bigdatax\n",
      "biggerdata\n",
      "bigreddata\n",
      "biodata_mining\n",
      "bydatamining\n",
      "databasemining\n",
      "dataexamining\n",
      "datamining\n",
      "dataminingtool\n",
      "miningdata\n",
      "16\n"
     ]
    }
   ],
   "source": [
    "icount = 0\n",
    "for term in terms:\n",
    "    if 'data' in term:\n",
    "        if 'mining' in term or 'big' in term:\n",
    "            if not 'http'in term:\n",
    "                print(term)\n",
    "                icount = icount + 1\n",
    "        \n",
    "print(icount)"
   ]
  },
  {
   "cell_type": "code",
   "execution_count": 15,
   "metadata": {},
   "outputs": [],
   "source": [
    "#will create set of all terms with data and big or mining and list their frequency\n",
    "di = {}\n",
    "\n",
    "for i, term in enumerate(terms):\n",
    "    if 'data' in term:\n",
    "        if 'mining' in term or 'big' in term:\n",
    "            if not 'http' in term:\n",
    "        #print(term)\n",
    "                di[term] = term_counts[0,i]"
   ]
  },
  {
   "cell_type": "code",
   "execution_count": 16,
   "metadata": {},
   "outputs": [
    {
     "data": {
      "text/plain": [
       "{'big_dataresearch': 7,\n",
       " 'bigdata': 208,\n",
       " 'bigdata_4': 2,\n",
       " 'bigdataadministrative': 1,\n",
       " 'bigdatasimpact': 1,\n",
       " 'bigdatatop100org': 1,\n",
       " 'bigdatax': 10,\n",
       " 'biggerdata': 5,\n",
       " 'bigreddata': 2,\n",
       " 'biodata_mining': 14,\n",
       " 'bydatamining': 3,\n",
       " 'databasemining': 2,\n",
       " 'dataexamining': 3,\n",
       " 'datamining': 21,\n",
       " 'dataminingtool': 2,\n",
       " 'miningdata': 1}"
      ]
     },
     "execution_count": 16,
     "metadata": {},
     "output_type": "execute_result"
    }
   ],
   "source": [
    "di"
   ]
  },
  {
   "cell_type": "code",
   "execution_count": 17,
   "metadata": {},
   "outputs": [],
   "source": [
    "docs_ix = np.concatenate([term_match_idx]) "
   ]
  },
  {
   "cell_type": "code",
   "execution_count": 18,
   "metadata": {},
   "outputs": [],
   "source": [
    "docs_idx = np.unique(docs_ix)"
   ]
  },
  {
   "cell_type": "code",
   "execution_count": 19,
   "metadata": {},
   "outputs": [],
   "source": [
    "filt_corpus = df.loc[docs_idx, :]"
   ]
  },
  {
   "cell_type": "code",
   "execution_count": 20,
   "metadata": {},
   "outputs": [],
   "source": [
    "filt_corpus = filt_corpus[~filt_corpus.PROJECT_TERMS.isnull()]"
   ]
  },
  {
   "cell_type": "code",
   "execution_count": 27,
   "metadata": {},
   "outputs": [
    {
     "data": {
      "text/html": [
       "<div>\n",
       "<style scoped>\n",
       "    .dataframe tbody tr th:only-of-type {\n",
       "        vertical-align: middle;\n",
       "    }\n",
       "\n",
       "    .dataframe tbody tr th {\n",
       "        vertical-align: top;\n",
       "    }\n",
       "\n",
       "    .dataframe thead th {\n",
       "        text-align: right;\n",
       "    }\n",
       "</style>\n",
       "<table border=\"1\" class=\"dataframe\">\n",
       "  <thead>\n",
       "    <tr style=\"text-align: right;\">\n",
       "      <th></th>\n",
       "      <th>PROJECT_ID</th>\n",
       "      <th>ABSTRACT</th>\n",
       "      <th>PROJECT_TERMS</th>\n",
       "      <th>PROJECT_TITLE</th>\n",
       "      <th>DEPARTMENT</th>\n",
       "      <th>AGENCY</th>\n",
       "      <th>IC_CENTER</th>\n",
       "      <th>PROJECT_NUMBER</th>\n",
       "      <th>PROJECT_START_DATE</th>\n",
       "      <th>PROJECT_END_DATE</th>\n",
       "      <th>CONTACT_PI_PROJECT_LEADER</th>\n",
       "      <th>OTHER_PIS</th>\n",
       "      <th>CONGRESSIONAL_DISTRICT</th>\n",
       "      <th>DUNS_NUMBER</th>\n",
       "      <th>ORGANIZATION_NAME</th>\n",
       "      <th>ORGANIZATION_CITY</th>\n",
       "      <th>ORGANIZATION_STATE</th>\n",
       "      <th>ORGANIZATION_ZIP</th>\n",
       "      <th>ORGANIZATION_COUNTRY</th>\n",
       "      <th>BUDGET_START_DATE</th>\n",
       "      <th>BUDGET_END_DATE</th>\n",
       "      <th>CFDA_CODE</th>\n",
       "      <th>FY</th>\n",
       "      <th>FY_TOTAL_COST</th>\n",
       "      <th>FY_TOTAL_COST_SUB_PROJECTS</th>\n",
       "      <th>ORG_COUNT</th>\n",
       "      <th>PI_COUNT</th>\n",
       "      <th>FY_TOTAL_COST_SUM</th>\n",
       "      <th>NUM_RECORDS</th>\n",
       "      <th>final_tokens</th>\n",
       "    </tr>\n",
       "  </thead>\n",
       "  <tbody>\n",
       "    <tr>\n",
       "      <th>245</th>\n",
       "      <td>89815</td>\n",
       "      <td>This proposal seeks to advance our understandi...</td>\n",
       "      <td>Address; Adsorption; Archives; Attention; Bioa...</td>\n",
       "      <td>COLLABORATIVE RESEARCH: EVOLUTION OF DISSOLVED...</td>\n",
       "      <td>NSF</td>\n",
       "      <td>NSF</td>\n",
       "      <td>NaN</td>\n",
       "      <td>0809254</td>\n",
       "      <td>10/1/2008</td>\n",
       "      <td>9/30/2011</td>\n",
       "      <td>LENTERS, JOHN D</td>\n",
       "      <td>SCOTT, DURELLE</td>\n",
       "      <td>01</td>\n",
       "      <td>555456995</td>\n",
       "      <td>UNIVERSITY OF NEBRASKA LINCOLN</td>\n",
       "      <td>LINCOLN</td>\n",
       "      <td>NE</td>\n",
       "      <td>68588-0430</td>\n",
       "      <td>UNITED STATES</td>\n",
       "      <td>NaN</td>\n",
       "      <td>NaN</td>\n",
       "      <td>47.050</td>\n",
       "      <td>2008</td>\n",
       "      <td>138458.0</td>\n",
       "      <td>NaN</td>\n",
       "      <td>2</td>\n",
       "      <td>2</td>\n",
       "      <td>470378.0</td>\n",
       "      <td>2</td>\n",
       "      <td>proposal seek advance understanding transport ...</td>\n",
       "    </tr>\n",
       "    <tr>\n",
       "      <th>254</th>\n",
       "      <td>89807</td>\n",
       "      <td>This proposal seeks to advance our understandi...</td>\n",
       "      <td>Address; Adsorption; Archives; Attention; Bioa...</td>\n",
       "      <td>COLLABORATIVE RESEARCH: EVOLUTION OF DISSOLVED...</td>\n",
       "      <td>NSF</td>\n",
       "      <td>NSF</td>\n",
       "      <td>NaN</td>\n",
       "      <td>0809231</td>\n",
       "      <td>10/1/2008</td>\n",
       "      <td>9/30/2012</td>\n",
       "      <td>MITCHELL, MYRON J</td>\n",
       "      <td>NaN</td>\n",
       "      <td>21</td>\n",
       "      <td>804878247</td>\n",
       "      <td>STATE UNIVERSITY NEW YORK STONY BROOK</td>\n",
       "      <td>ALBANY</td>\n",
       "      <td>NY</td>\n",
       "      <td>12201-0009</td>\n",
       "      <td>UNITED STATES</td>\n",
       "      <td>NaN</td>\n",
       "      <td>NaN</td>\n",
       "      <td>47.050</td>\n",
       "      <td>2008</td>\n",
       "      <td>70256.0</td>\n",
       "      <td>NaN</td>\n",
       "      <td>1</td>\n",
       "      <td>1</td>\n",
       "      <td>70256.0</td>\n",
       "      <td>1</td>\n",
       "      <td>proposal seek advance understanding transport ...</td>\n",
       "    </tr>\n",
       "    <tr>\n",
       "      <th>283</th>\n",
       "      <td>89781</td>\n",
       "      <td>The goal of the Firefly cubesat is to unambigu...</td>\n",
       "      <td>Acceleration; Altitude; Characteristics; Colla...</td>\n",
       "      <td>COLLABORATIVE RESEARCH: CUBESAT FIREFLY--UNDER...</td>\n",
       "      <td>NSF</td>\n",
       "      <td>NSF</td>\n",
       "      <td>NaN</td>\n",
       "      <td>0838015</td>\n",
       "      <td>10/1/2008</td>\n",
       "      <td>9/30/2011</td>\n",
       "      <td>WEATHERWAX, ALLAN T</td>\n",
       "      <td>NaN</td>\n",
       "      <td>21</td>\n",
       "      <td>080481351</td>\n",
       "      <td>SIENA COLLEGE</td>\n",
       "      <td>LOUDONVILLE</td>\n",
       "      <td>NY</td>\n",
       "      <td>12211-1462</td>\n",
       "      <td>UNITED STATES</td>\n",
       "      <td>NaN</td>\n",
       "      <td>NaN</td>\n",
       "      <td>47.050</td>\n",
       "      <td>2008</td>\n",
       "      <td>329432.0</td>\n",
       "      <td>NaN</td>\n",
       "      <td>1</td>\n",
       "      <td>1</td>\n",
       "      <td>329432.0</td>\n",
       "      <td>1</td>\n",
       "      <td>goal firefly cubesat unambiguously determine t...</td>\n",
       "    </tr>\n",
       "    <tr>\n",
       "      <th>300</th>\n",
       "      <td>89765</td>\n",
       "      <td>This project develops novel computational appr...</td>\n",
       "      <td>Address; Algorithms; analytical tool; base; Be...</td>\n",
       "      <td>DHB: LONGITUDINAL ANALYSIS AND MODELING OF LAR...</td>\n",
       "      <td>NSF</td>\n",
       "      <td>NSF</td>\n",
       "      <td>NaN</td>\n",
       "      <td>0826958</td>\n",
       "      <td>10/1/2008</td>\n",
       "      <td>9/30/2012</td>\n",
       "      <td>TOROCZKAI, ZOLTAN</td>\n",
       "      <td>ALBER, MARK; CHAWLA, NITESH; LIZARDO, OMAR; HA...</td>\n",
       "      <td>02</td>\n",
       "      <td>824910376</td>\n",
       "      <td>UNIVERSITY OF NOTRE DAME</td>\n",
       "      <td>NOTRE DAME</td>\n",
       "      <td>IN</td>\n",
       "      <td>46556-5612</td>\n",
       "      <td>UNITED STATES</td>\n",
       "      <td>NaN</td>\n",
       "      <td>NaN</td>\n",
       "      <td>47.075</td>\n",
       "      <td>2008</td>\n",
       "      <td>711770.0</td>\n",
       "      <td>NaN</td>\n",
       "      <td>1</td>\n",
       "      <td>1</td>\n",
       "      <td>711770.0</td>\n",
       "      <td>1</td>\n",
       "      <td>project develop novel computational approach a...</td>\n",
       "    </tr>\n",
       "    <tr>\n",
       "      <th>386</th>\n",
       "      <td>90167</td>\n",
       "      <td>0743933GhiorsoThis award provides funding to i...</td>\n",
       "      <td>Archives; Automatic Data Processing; Award; Co...</td>\n",
       "      <td>GEOINFORMATICS: COLLABORATIVE RESEARCH: PROPOS...</td>\n",
       "      <td>NSF</td>\n",
       "      <td>NSF</td>\n",
       "      <td>NaN</td>\n",
       "      <td>0743933</td>\n",
       "      <td>9/15/2008</td>\n",
       "      <td>8/31/2010</td>\n",
       "      <td>GHIORSO, MARK S</td>\n",
       "      <td>NaN</td>\n",
       "      <td>08</td>\n",
       "      <td>602157450</td>\n",
       "      <td>OFM RESEARCH</td>\n",
       "      <td>REDMOND</td>\n",
       "      <td>WA</td>\n",
       "      <td>98053-8841</td>\n",
       "      <td>UNITED STATES</td>\n",
       "      <td>NaN</td>\n",
       "      <td>NaN</td>\n",
       "      <td>47.050</td>\n",
       "      <td>2008</td>\n",
       "      <td>159836.0</td>\n",
       "      <td>NaN</td>\n",
       "      <td>1</td>\n",
       "      <td>1</td>\n",
       "      <td>159836.0</td>\n",
       "      <td>1</td>\n",
       "      <td>award provide funding improve library experime...</td>\n",
       "    </tr>\n",
       "  </tbody>\n",
       "</table>\n",
       "</div>"
      ],
      "text/plain": [
       "    PROJECT_ID                                           ABSTRACT  \\\n",
       "245      89815  This proposal seeks to advance our understandi...   \n",
       "254      89807  This proposal seeks to advance our understandi...   \n",
       "283      89781  The goal of the Firefly cubesat is to unambigu...   \n",
       "300      89765  This project develops novel computational appr...   \n",
       "386      90167  0743933GhiorsoThis award provides funding to i...   \n",
       "\n",
       "                                         PROJECT_TERMS  \\\n",
       "245  Address; Adsorption; Archives; Attention; Bioa...   \n",
       "254  Address; Adsorption; Archives; Attention; Bioa...   \n",
       "283  Acceleration; Altitude; Characteristics; Colla...   \n",
       "300  Address; Algorithms; analytical tool; base; Be...   \n",
       "386  Archives; Automatic Data Processing; Award; Co...   \n",
       "\n",
       "                                         PROJECT_TITLE DEPARTMENT AGENCY  \\\n",
       "245  COLLABORATIVE RESEARCH: EVOLUTION OF DISSOLVED...        NSF    NSF   \n",
       "254  COLLABORATIVE RESEARCH: EVOLUTION OF DISSOLVED...        NSF    NSF   \n",
       "283  COLLABORATIVE RESEARCH: CUBESAT FIREFLY--UNDER...        NSF    NSF   \n",
       "300  DHB: LONGITUDINAL ANALYSIS AND MODELING OF LAR...        NSF    NSF   \n",
       "386  GEOINFORMATICS: COLLABORATIVE RESEARCH: PROPOS...        NSF    NSF   \n",
       "\n",
       "    IC_CENTER PROJECT_NUMBER PROJECT_START_DATE PROJECT_END_DATE  \\\n",
       "245       NaN        0809254          10/1/2008        9/30/2011   \n",
       "254       NaN        0809231          10/1/2008        9/30/2012   \n",
       "283       NaN        0838015          10/1/2008        9/30/2011   \n",
       "300       NaN        0826958          10/1/2008        9/30/2012   \n",
       "386       NaN        0743933          9/15/2008        8/31/2010   \n",
       "\n",
       "    CONTACT_PI_PROJECT_LEADER  \\\n",
       "245           LENTERS, JOHN D   \n",
       "254         MITCHELL, MYRON J   \n",
       "283       WEATHERWAX, ALLAN T   \n",
       "300         TOROCZKAI, ZOLTAN   \n",
       "386           GHIORSO, MARK S   \n",
       "\n",
       "                                             OTHER_PIS CONGRESSIONAL_DISTRICT  \\\n",
       "245                                     SCOTT, DURELLE                     01   \n",
       "254                                                NaN                     21   \n",
       "283                                                NaN                     21   \n",
       "300  ALBER, MARK; CHAWLA, NITESH; LIZARDO, OMAR; HA...                     02   \n",
       "386                                                NaN                     08   \n",
       "\n",
       "    DUNS_NUMBER                      ORGANIZATION_NAME ORGANIZATION_CITY  \\\n",
       "245   555456995         UNIVERSITY OF NEBRASKA LINCOLN           LINCOLN   \n",
       "254   804878247  STATE UNIVERSITY NEW YORK STONY BROOK            ALBANY   \n",
       "283   080481351                          SIENA COLLEGE       LOUDONVILLE   \n",
       "300   824910376               UNIVERSITY OF NOTRE DAME        NOTRE DAME   \n",
       "386   602157450                           OFM RESEARCH           REDMOND   \n",
       "\n",
       "    ORGANIZATION_STATE ORGANIZATION_ZIP ORGANIZATION_COUNTRY  \\\n",
       "245                 NE       68588-0430        UNITED STATES   \n",
       "254                 NY       12201-0009        UNITED STATES   \n",
       "283                 NY       12211-1462        UNITED STATES   \n",
       "300                 IN       46556-5612        UNITED STATES   \n",
       "386                 WA       98053-8841        UNITED STATES   \n",
       "\n",
       "    BUDGET_START_DATE BUDGET_END_DATE CFDA_CODE    FY  FY_TOTAL_COST  \\\n",
       "245               NaN             NaN    47.050  2008       138458.0   \n",
       "254               NaN             NaN    47.050  2008        70256.0   \n",
       "283               NaN             NaN    47.050  2008       329432.0   \n",
       "300               NaN             NaN    47.075  2008       711770.0   \n",
       "386               NaN             NaN    47.050  2008       159836.0   \n",
       "\n",
       "     FY_TOTAL_COST_SUB_PROJECTS  ORG_COUNT  PI_COUNT  FY_TOTAL_COST_SUM  \\\n",
       "245                         NaN          2         2           470378.0   \n",
       "254                         NaN          1         1            70256.0   \n",
       "283                         NaN          1         1           329432.0   \n",
       "300                         NaN          1         1           711770.0   \n",
       "386                         NaN          1         1           159836.0   \n",
       "\n",
       "     NUM_RECORDS                                       final_tokens  \n",
       "245            2  proposal seek advance understanding transport ...  \n",
       "254            1  proposal seek advance understanding transport ...  \n",
       "283            1  goal firefly cubesat unambiguously determine t...  \n",
       "300            1  project develop novel computational approach a...  \n",
       "386            1  award provide funding improve library experime...  "
      ]
     },
     "execution_count": 27,
     "metadata": {},
     "output_type": "execute_result"
    }
   ],
   "source": [
    "filt_corpus.head()"
   ]
  },
  {
   "cell_type": "code",
   "execution_count": 21,
   "metadata": {},
   "outputs": [],
   "source": [
    "wrd_frq = pd.Series(' '.join(filt_corpus.PROJECT_TERMS).split())\n",
    "wrd_frq = wrd_frq.str.lower()\n",
    "wrd_frq = wrd_frq.str.rstrip(\";\")\n",
    "wrd_frq = wrd_frq.str.rstrip(\"s\")\n",
    "wrd_frq = wrd_frq.value_counts()"
   ]
  },
  {
   "cell_type": "code",
   "execution_count": 22,
   "metadata": {},
   "outputs": [
    {
     "data": {
      "text/plain": [
       "data           30710\n",
       "research       23227\n",
       "health          9510\n",
       "system          8363\n",
       "clinical        7928\n",
       "development     7435\n",
       "disease         6877\n",
       "of              6638\n",
       "science         5910\n",
       "tool            5621\n",
       "computer        5603\n",
       "base            5556\n",
       "method          5368\n",
       "resource        5228\n",
       "gene            5132\n",
       "design          4785\n",
       "human           4693\n",
       "modeling        4655\n",
       "biological      4549\n",
       "genetic         4532\n",
       "personnel       4431\n",
       "proce           4400\n",
       "program         4372\n",
       "cell            4301\n",
       "training        4239\n",
       "cancer          4199\n",
       "technology      4188\n",
       "goal            4185\n",
       "novel           4154\n",
       "database        4144\n",
       "study           4048\n",
       "software        3893\n",
       "patient         3782\n",
       "learning        3748\n",
       "mining          3729\n",
       "protein         3671\n",
       "work            3668\n",
       "improved        3595\n",
       "and             3571\n",
       "risk            3551\n",
       "dtype: int64"
      ]
     },
     "execution_count": 22,
     "metadata": {},
     "output_type": "execute_result"
    }
   ],
   "source": [
    "wrd_frq[0:40]"
   ]
  },
  {
   "cell_type": "code",
   "execution_count": 28,
   "metadata": {},
   "outputs": [],
   "source": [
    "filt_corpus[\"FY\"] = filt_corpus[\"FY\"].astype('int')"
   ]
  },
  {
   "cell_type": "code",
   "execution_count": 30,
   "metadata": {},
   "outputs": [
    {
     "name": "stdout",
     "output_type": "stream",
     "text": [
      "2008     382\n",
      "2009     487\n",
      "2010     433\n",
      "2011     386\n",
      "2012     433\n",
      "2013     571\n",
      "2014     673\n",
      "2015     764\n",
      "2016     884\n",
      "2017     937\n",
      "2018    1051\n",
      "2019     673\n",
      "2020     721\n",
      "Name: FY, dtype: int64\n"
     ]
    }
   ],
   "source": [
    "year_counts = filt_corpus['FY'].value_counts().sort_index(ascending=True)\n",
    "print(year_counts)"
   ]
  },
  {
   "cell_type": "code",
   "execution_count": 32,
   "metadata": {},
   "outputs": [],
   "source": [
    "cb_pal = {\"blue\":'#377eb8', \"orange\":'#ff7f00', \"green\":'#4daf4a', \"pink\":'#f781bf', \"brown\":'#a65628', \n",
    "          \"purple\":'#984ea3', \"gray\":'#999999', \"red\":'#e41a1c', \"yellow\":'#dede00'}"
   ]
  },
  {
   "cell_type": "code",
   "execution_count": 35,
   "metadata": {},
   "outputs": [
    {
     "name": "stderr",
     "output_type": "stream",
     "text": [
      "<ipython-input-35-d54647f0cc45>:12: UserWarning: FixedFormatter should only be used together with FixedLocator\n",
      "  ax.set_yticklabels(['{:,}'.format(int(x)) for x in ax.get_yticks().tolist()])\n"
     ]
    },
    {
     "data": {
      "image/png": "[encoded data removed]",
      "text/plain": [
       "<Figure size 432x288 with 1 Axes>"
      ]
     },
     "metadata": {
      "needs_background": "light"
     },
     "output_type": "display_data"
    }
   ],
   "source": [
    "year = year_counts.index.tolist()\n",
    "count = year_counts.values\n",
    "\n",
    "fig = plt.figure()\n",
    "ax = fig.add_subplot(111)\n",
    "ax.set_axisbelow(True)\n",
    "plt.grid(True, color = \"whitesmoke\")\n",
    "plt.bar(year, count, color='navy')\n",
    "#plt.xlim(-0.7, len(year)-0.3)\n",
    "plt.xlim(2007.3,2020.7)\n",
    "plt.xticks(year, rotation=45)\n",
    "ax.set_yticklabels(['{:,}'.format(int(x)) for x in ax.get_yticks().tolist()])\n",
    "#x_ticks = ax.xaxis.get_major_ticks()\n",
    "#x_ticks[-1].label1.set_visible(False)\n",
    "plt.xlabel(\"FY\")\n",
    "plt.ylabel(\"Number of Projects\")\n",
    "plt.title(\"Data Mining & Big Data Frequency by FY\")\n",
    "\n",
    "plt.savefig(\"startyr_freq.png\", dpi = 800, bbox_inches = \"tight\")\n",
    "plt.savefig(\"startyr_freq.pdf\", dpi = 800, bbox_inches = \"tight\")"
   ]
  },
  {
   "cell_type": "code",
   "execution_count": null,
   "metadata": {},
   "outputs": [],
   "source": []
  }
 ],
 "metadata": {
  "kernelspec": {
   "display_name": "Python 3",
   "language": "python",
   "name": "python3"
  },
  "language_info": {
   "codemirror_mode": {
    "name": "ipython",
    "version": 3
   },
   "file_extension": ".py",
   "mimetype": "text/x-python",
   "name": "python",
   "nbconvert_exporter": "python",
   "pygments_lexer": "ipython3",
   "version": "3.8.8"
  }
 },
 "nbformat": 4,
 "nbformat_minor": 4
}
