{
 "cells": [
  {
   "cell_type": "code",
   "execution_count": 24,
   "metadata": {},
   "outputs": [],
   "source": [
    "# Skylar Haskiell\n",
    "import pandas as pd\n",
    "pd.set_option('display.max_columns', 50)\n",
    "\n",
    "import numpy as np\n",
    "import pickle\n",
    "import matplotlib.pyplot as plt\n",
    "import time\n",
    "from textwrap import wrap\n",
    "\n",
    "from sklearn.decomposition import NMF, TruncatedSVD\n",
    "from sklearn.feature_extraction.text import CountVectorizer\n",
    "from sklearn.feature_extraction.text import TfidfVectorizer\n",
    "\n",
    "from sklearn.metrics.pairwise import cosine_similarity"
   ]
  },
  {
   "cell_type": "code",
   "execution_count": 2,
   "metadata": {},
   "outputs": [],
   "source": [
    "# pull in data\n",
    "df = pd.read_pickle(\"../../../data/prd/Paper/FR_meta_and_final_tokens_23DEC21.pkl\")\n",
    "df.reset_index(inplace = True, drop = True)"
   ]
  },
  {
   "cell_type": "code",
   "execution_count": 3,
   "metadata": {},
   "outputs": [],
   "source": [
    "# df.head()"
   ]
  },
  {
   "cell_type": "code",
   "execution_count": 4,
   "metadata": {},
   "outputs": [
    {
     "data": {
      "text/plain": [
       "(1143869, 30)"
      ]
     },
     "execution_count": 4,
     "metadata": {},
     "output_type": "execute_result"
    }
   ],
   "source": [
    "df.shape"
   ]
  },
  {
   "cell_type": "code",
   "execution_count": 5,
   "metadata": {},
   "outputs": [],
   "source": [
    "docs = df[\"final_tokens\"]  "
   ]
  },
  {
   "cell_type": "code",
   "execution_count": 6,
   "metadata": {},
   "outputs": [],
   "source": [
    "#counts number of abstracts that contain 'data'\n",
    "term_match_data = []\n",
    "for i, abstract in enumerate(docs):\n",
    "        if ('data' in abstract):\n",
    "            term_match_data.append(i)"
   ]
  },
  {
   "cell_type": "code",
   "execution_count": 7,
   "metadata": {},
   "outputs": [
    {
     "data": {
      "text/plain": [
       "138685"
      ]
     },
     "execution_count": 7,
     "metadata": {},
     "output_type": "execute_result"
    }
   ],
   "source": [
    "len(term_match_data)"
   ]
  },
  {
   "cell_type": "code",
   "execution_count": 8,
   "metadata": {},
   "outputs": [],
   "source": [
    "term_match_idx = []\n",
    "\n",
    "for i, abstract in enumerate(docs):\n",
    "    if ('data' in abstract): \n",
    "        if ('big' in abstract or 'mining' in abstract):\n",
    "            term_match_idx.append(i)"
   ]
  },
  {
   "cell_type": "code",
   "execution_count": 9,
   "metadata": {},
   "outputs": [
    {
     "data": {
      "text/plain": [
       "9327"
      ]
     },
     "execution_count": 9,
     "metadata": {},
     "output_type": "execute_result"
    }
   ],
   "source": [
    "len(term_match_idx) "
   ]
  },
  {
   "cell_type": "code",
   "execution_count": 10,
   "metadata": {},
   "outputs": [],
   "source": [
    "vectorizer = CountVectorizer()\n",
    "dtm = vectorizer.fit_transform(docs)\n",
    "\n",
    "terms = vectorizer.get_feature_names()"
   ]
  },
  {
   "cell_type": "code",
   "execution_count": 11,
   "metadata": {},
   "outputs": [
    {
     "data": {
      "text/plain": [
       "(1143869, 1629626)"
      ]
     },
     "execution_count": 11,
     "metadata": {},
     "output_type": "execute_result"
    }
   ],
   "source": [
    "dtm.shape"
   ]
  },
  {
   "cell_type": "code",
   "execution_count": 12,
   "metadata": {},
   "outputs": [
    {
     "name": "stdout",
     "output_type": "stream",
     "text": [
      "2955\n"
     ]
    }
   ],
   "source": [
    "#checks for all terms relating to data \n",
    "count = 0\n",
    "\n",
    "for term in terms:\n",
    "    if 'data' in term:\n",
    "        if not 'base' in term: \n",
    "#             print(term)\n",
    "            count = count + 1\n",
    "        \n",
    "print(count)"
   ]
  },
  {
   "cell_type": "code",
   "execution_count": 13,
   "metadata": {},
   "outputs": [],
   "source": [
    "term_counts = dtm.sum(axis=0)"
   ]
  },
  {
   "cell_type": "code",
   "execution_count": 14,
   "metadata": {},
   "outputs": [
    {
     "name": "stdout",
     "output_type": "stream",
     "text": [
      "big_dataresearch\n",
      "bigdata\n",
      "bigdata_4\n",
      "bigdataadministrative\n",
      "bigdatasimpact\n",
      "bigdatatop100org\n",
      "bigdatax\n",
      "biggerdata\n",
      "bigreddata\n",
      "biodata_mining\n",
      "bydatamining\n",
      "databasemining\n",
      "dataexamining\n",
      "datamining\n",
      "dataminingtool\n",
      "miningdata\n",
      "16\n"
     ]
    }
   ],
   "source": [
    "icount = 0\n",
    "for term in terms:\n",
    "    if 'data' in term:\n",
    "        if 'mining' in term or 'big' in term:\n",
    "            if not 'http'in term:\n",
    "                print(term)\n",
    "                icount = icount + 1\n",
    "        \n",
    "print(icount)"
   ]
  },
  {
   "cell_type": "code",
   "execution_count": 15,
   "metadata": {},
   "outputs": [],
   "source": [
    "#will create set of all terms with data and big or mining and list their frequency\n",
    "di = {}\n",
    "\n",
    "for i, term in enumerate(terms):\n",
    "    if 'data' in term:\n",
    "        if 'mining' in term or 'big' in term:\n",
    "            if not 'http' in term:\n",
    "        #print(term)\n",
    "                di[term] = term_counts[0,i]"
   ]
  },
  {
   "cell_type": "code",
   "execution_count": 16,
   "metadata": {},
   "outputs": [
    {
     "data": {
      "text/plain": [
       "{'big_dataresearch': 7,\n",
       " 'bigdata': 208,\n",
       " 'bigdata_4': 2,\n",
       " 'bigdataadministrative': 1,\n",
       " 'bigdatasimpact': 1,\n",
       " 'bigdatatop100org': 1,\n",
       " 'bigdatax': 10,\n",
       " 'biggerdata': 5,\n",
       " 'bigreddata': 2,\n",
       " 'biodata_mining': 14,\n",
       " 'bydatamining': 3,\n",
       " 'databasemining': 2,\n",
       " 'dataexamining': 3,\n",
       " 'datamining': 21,\n",
       " 'dataminingtool': 2,\n",
       " 'miningdata': 1}"
      ]
     },
     "execution_count": 16,
     "metadata": {},
     "output_type": "execute_result"
    }
   ],
   "source": [
    "di"
   ]
  },
  {
   "cell_type": "code",
   "execution_count": 17,
   "metadata": {},
   "outputs": [],
   "source": [
    "docs_ix = np.concatenate([term_match_idx]) "
   ]
  },
  {
   "cell_type": "code",
   "execution_count": 18,
   "metadata": {},
   "outputs": [],
   "source": [
    "docs_idx = np.unique(docs_ix)"
   ]
  },
  {
   "cell_type": "code",
   "execution_count": 19,
   "metadata": {},
   "outputs": [],
   "source": [
    "filt_corpus = df.loc[docs_idx, :]"
   ]
  },
  {
   "cell_type": "code",
   "execution_count": 20,
   "metadata": {},
   "outputs": [],
   "source": [
    "filt_corpus = filt_corpus[~filt_corpus.PROJECT_TERMS.isnull()]"
   ]
  },
  {
   "cell_type": "code",
   "execution_count": 27,
   "metadata": {},
   "outputs": [
    {
     "data": {
      "text/html": [
       "<div>\n",
       "<style scoped>\n",
       "    .dataframe tbody tr th:only-of-type {\n",
       "        vertical-align: middle;\n",
       "    }\n",
       "\n",
       "    .dataframe tbody tr th {\n",
       "        vertical-align: top;\n",
       "    }\n",
       "\n",
       "    .dataframe thead th {\n",
       "        text-align: right;\n",
       "    }\n",
       "</style>\n",
       "<table border=\"1\" class=\"dataframe\">\n",
       "  <thead>\n",
       "    <tr style=\"text-align: right;\">\n",
       "      <th></th>\n",
       "      <th>PROJECT_ID</th>\n",
       "      <th>ABSTRACT</th>\n",
       "      <th>PROJECT_TERMS</th>\n",
       "      <th>PROJECT_TITLE</th>\n",
       "      <th>DEPARTMENT</th>\n",
       "      <th>AGENCY</th>\n",
       "      <th>IC_CENTER</th>\n",
       "      <th>PROJECT_NUMBER</th>\n",
       "      <th>PROJECT_START_DATE</th>\n",
       "      <th>PROJECT_END_DATE</th>\n",
       "      <th>CONTACT_PI_PROJECT_LEADER</th>\n",
       "      <th>OTHER_PIS</th>\n",
       "      <th>CONGRESSIONAL_DISTRICT</th>\n",
       "      <th>DUNS_NUMBER</th>\n",
       "      <th>ORGANIZATION_NAME</th>\n",
       "      <th>ORGANIZATION_CITY</th>\n",
       "      <th>ORGANIZATION_STATE</th>\n",
       "      <th>ORGANIZATION_ZIP</th>\n",
       "      <th>ORGANIZATION_COUNTRY</th>\n",
       "      <th>BUDGET_START_DATE</th>\n",
       "      <th>BUDGET_END_DATE</th>\n",
       "      <th>CFDA_CODE</th>\n",
       "      <th>FY</th>\n",
       "      <th>FY_TOTAL_COST</th>\n",
       "      <th>FY_TOTAL_COST_SUB_PROJECTS</th>\n",
       "      <th>ORG_COUNT</th>\n",
       "      <th>PI_COUNT</th>\n",
       "      <th>FY_TOTAL_COST_SUM</th>\n",
       "      <th>NUM_RECORDS</th>\n",
       "      <th>final_tokens</th>\n",
       "    </tr>\n",
       "  </thead>\n",
       "  <tbody>\n",
       "    <tr>\n",
       "      <th>245</th>\n",
       "      <td>89815</td>\n",
       "      <td>This proposal seeks to advance our understandi...</td>\n",
       "      <td>Address; Adsorption; Archives; Attention; Bioa...</td>\n",
       "      <td>COLLABORATIVE RESEARCH: EVOLUTION OF DISSOLVED...</td>\n",
       "      <td>NSF</td>\n",
       "      <td>NSF</td>\n",
       "      <td>NaN</td>\n",
       "      <td>0809254</td>\n",
       "      <td>10/1/2008</td>\n",
       "      <td>9/30/2011</td>\n",
       "      <td>LENTERS, JOHN D</td>\n",
       "      <td>SCOTT, DURELLE</td>\n",
       "      <td>01</td>\n",
       "      <td>555456995</td>\n",
       "      <td>UNIVERSITY OF NEBRASKA LINCOLN</td>\n",
       "      <td>LINCOLN</td>\n",
       "      <td>NE</td>\n",
       "      <td>68588-0430</td>\n",
       "      <td>UNITED STATES</td>\n",
       "      <td>NaN</td>\n",
       "      <td>NaN</td>\n",
       "      <td>47.050</td>\n",
       "      <td>2008</td>\n",
       "      <td>138458.0</td>\n",
       "      <td>NaN</td>\n",
       "      <td>2</td>\n",
       "      <td>2</td>\n",
       "      <td>470378.0</td>\n",
       "      <td>2</td>\n",
       "      <td>proposal seek advance understanding transport ...</td>\n",
       "    </tr>\n",
       "    <tr>\n",
       "      <th>254</th>\n",
       "      <td>89807</td>\n",
       "      <td>This proposal seeks to advance our understandi...</td>\n",
       "      <td>Address; Adsorption; Archives; Attention; Bioa...</td>\n",
       "      <td>COLLABORATIVE RESEARCH: EVOLUTION OF DISSOLVED...</td>\n",
       "      <td>NSF</td>\n",
       "      <td>NSF</td>\n",
       "      <td>NaN</td>\n",
       "      <td>0809231</td>\n",
       "      <td>10/1/2008</td>\n",
       "      <td>9/30/2012</td>\n",
       "      <td>MITCHELL, MYRON J</td>\n",
       "      <td>NaN</td>\n",
       "      <td>21</td>\n",
       "      <td>804878247</td>\n",
       "      <td>STATE UNIVERSITY NEW YORK STONY BROOK</td>\n",
       "      <td>ALBANY</td>\n",
       "      <td>NY</td>\n",
       "      <td>12201-0009</td>\n",
       "      <td>UNITED STATES</td>\n",
       "      <td>NaN</td>\n",
       "      <td>NaN</td>\n",
       "      <td>47.050</td>\n",
       "      <td>2008</td>\n",
       "      <td>70256.0</td>\n",
       "      <td>NaN</td>\n",
       "      <td>1</td>\n",
       "      <td>1</td>\n",
       "      <td>70256.0</td>\n",
       "      <td>1</td>\n",
       "      <td>proposal seek advance understanding transport ...</td>\n",
       "    </tr>\n",
       "    <tr>\n",
       "      <th>283</th>\n",
       "      <td>89781</td>\n",
       "      <td>The goal of the Firefly cubesat is to unambigu...</td>\n",
       "      <td>Acceleration; Altitude; Characteristics; Colla...</td>\n",
       "      <td>COLLABORATIVE RESEARCH: CUBESAT FIREFLY--UNDER...</td>\n",
       "      <td>NSF</td>\n",
       "      <td>NSF</td>\n",
       "      <td>NaN</td>\n",
       "      <td>0838015</td>\n",
       "      <td>10/1/2008</td>\n",
       "      <td>9/30/2011</td>\n",
       "      <td>WEATHERWAX, ALLAN T</td>\n",
       "      <td>NaN</td>\n",
       "      <td>21</td>\n",
       "      <td>080481351</td>\n",
       "      <td>SIENA COLLEGE</td>\n",
       "      <td>LOUDONVILLE</td>\n",
       "      <td>NY</td>\n",
       "      <td>12211-1462</td>\n",
       "      <td>UNITED STATES</td>\n",
       "      <td>NaN</td>\n",
       "      <td>NaN</td>\n",
       "      <td>47.050</td>\n",
       "      <td>2008</td>\n",
       "      <td>329432.0</td>\n",
       "      <td>NaN</td>\n",
       "      <td>1</td>\n",
       "      <td>1</td>\n",
       "      <td>329432.0</td>\n",
       "      <td>1</td>\n",
       "      <td>goal firefly cubesat unambiguously determine t...</td>\n",
       "    </tr>\n",
       "    <tr>\n",
       "      <th>300</th>\n",
       "      <td>89765</td>\n",
       "      <td>This project develops novel computational appr...</td>\n",
       "      <td>Address; Algorithms; analytical tool; base; Be...</td>\n",
       "      <td>DHB: LONGITUDINAL ANALYSIS AND MODELING OF LAR...</td>\n",
       "      <td>NSF</td>\n",
       "      <td>NSF</td>\n",
       "      <td>NaN</td>\n",
       "      <td>0826958</td>\n",
       "      <td>10/1/2008</td>\n",
       "      <td>9/30/2012</td>\n",
       "      <td>TOROCZKAI, ZOLTAN</td>\n",
       "      <td>ALBER, MARK; CHAWLA, NITESH; LIZARDO, OMAR; HA...</td>\n",
       "      <td>02</td>\n",
       "      <td>824910376</td>\n",
       "      <td>UNIVERSITY OF NOTRE DAME</td>\n",
       "      <td>NOTRE DAME</td>\n",
       "      <td>IN</td>\n",
       "      <td>46556-5612</td>\n",
       "      <td>UNITED STATES</td>\n",
       "      <td>NaN</td>\n",
       "      <td>NaN</td>\n",
       "      <td>47.075</td>\n",
       "      <td>2008</td>\n",
       "      <td>711770.0</td>\n",
       "      <td>NaN</td>\n",
       "      <td>1</td>\n",
       "      <td>1</td>\n",
       "      <td>711770.0</td>\n",
       "      <td>1</td>\n",
       "      <td>project develop novel computational approach a...</td>\n",
       "    </tr>\n",
       "    <tr>\n",
       "      <th>386</th>\n",
       "      <td>90167</td>\n",
       "      <td>0743933GhiorsoThis award provides funding to i...</td>\n",
       "      <td>Archives; Automatic Data Processing; Award; Co...</td>\n",
       "      <td>GEOINFORMATICS: COLLABORATIVE RESEARCH: PROPOS...</td>\n",
       "      <td>NSF</td>\n",
       "      <td>NSF</td>\n",
       "      <td>NaN</td>\n",
       "      <td>0743933</td>\n",
       "      <td>9/15/2008</td>\n",
       "      <td>8/31/2010</td>\n",
       "      <td>GHIORSO, MARK S</td>\n",
       "      <td>NaN</td>\n",
       "      <td>08</td>\n",
       "      <td>602157450</td>\n",
       "      <td>OFM RESEARCH</td>\n",
       "      <td>REDMOND</td>\n",
       "      <td>WA</td>\n",
       "      <td>98053-8841</td>\n",
       "      <td>UNITED STATES</td>\n",
       "      <td>NaN</td>\n",
       "      <td>NaN</td>\n",
       "      <td>47.050</td>\n",
       "      <td>2008</td>\n",
       "      <td>159836.0</td>\n",
       "      <td>NaN</td>\n",
       "      <td>1</td>\n",
       "      <td>1</td>\n",
       "      <td>159836.0</td>\n",
       "      <td>1</td>\n",
       "      <td>award provide funding improve library experime...</td>\n",
       "    </tr>\n",
       "  </tbody>\n",
       "</table>\n",
       "</div>"
      ],
      "text/plain": [
       "    PROJECT_ID                                           ABSTRACT  \\\n",
       "245      89815  This proposal seeks to advance our understandi...   \n",
       "254      89807  This proposal seeks to advance our understandi...   \n",
       "283      89781  The goal of the Firefly cubesat is to unambigu...   \n",
       "300      89765  This project develops novel computational appr...   \n",
       "386      90167  0743933GhiorsoThis award provides funding to i...   \n",
       "\n",
       "                                         PROJECT_TERMS  \\\n",
       "245  Address; Adsorption; Archives; Attention; Bioa...   \n",
       "254  Address; Adsorption; Archives; Attention; Bioa...   \n",
       "283  Acceleration; Altitude; Characteristics; Colla...   \n",
       "300  Address; Algorithms; analytical tool; base; Be...   \n",
       "386  Archives; Automatic Data Processing; Award; Co...   \n",
       "\n",
       "                                         PROJECT_TITLE DEPARTMENT AGENCY  \\\n",
       "245  COLLABORATIVE RESEARCH: EVOLUTION OF DISSOLVED...        NSF    NSF   \n",
       "254  COLLABORATIVE RESEARCH: EVOLUTION OF DISSOLVED...        NSF    NSF   \n",
       "283  COLLABORATIVE RESEARCH: CUBESAT FIREFLY--UNDER...        NSF    NSF   \n",
       "300  DHB: LONGITUDINAL ANALYSIS AND MODELING OF LAR...        NSF    NSF   \n",
       "386  GEOINFORMATICS: COLLABORATIVE RESEARCH: PROPOS...        NSF    NSF   \n",
       "\n",
       "    IC_CENTER PROJECT_NUMBER PROJECT_START_DATE PROJECT_END_DATE  \\\n",
       "245       NaN        0809254          10/1/2008        9/30/2011   \n",
       "254       NaN        0809231          10/1/2008        9/30/2012   \n",
       "283       NaN        0838015          10/1/2008        9/30/2011   \n",
       "300       NaN        0826958          10/1/2008        9/30/2012   \n",
       "386       NaN        0743933          9/15/2008        8/31/2010   \n",
       "\n",
       "    CONTACT_PI_PROJECT_LEADER  \\\n",
       "245           LENTERS, JOHN D   \n",
       "254         MITCHELL, MYRON J   \n",
       "283       WEATHERWAX, ALLAN T   \n",
       "300         TOROCZKAI, ZOLTAN   \n",
       "386           GHIORSO, MARK S   \n",
       "\n",
       "                                             OTHER_PIS CONGRESSIONAL_DISTRICT  \\\n",
       "245                                     SCOTT, DURELLE                     01   \n",
       "254                                                NaN                     21   \n",
       "283                                                NaN                     21   \n",
       "300  ALBER, MARK; CHAWLA, NITESH; LIZARDO, OMAR; HA...                     02   \n",
       "386                                                NaN                     08   \n",
       "\n",
       "    DUNS_NUMBER                      ORGANIZATION_NAME ORGANIZATION_CITY  \\\n",
       "245   555456995         UNIVERSITY OF NEBRASKA LINCOLN           LINCOLN   \n",
       "254   804878247  STATE UNIVERSITY NEW YORK STONY BROOK            ALBANY   \n",
       "283   080481351                          SIENA COLLEGE       LOUDONVILLE   \n",
       "300   824910376               UNIVERSITY OF NOTRE DAME        NOTRE DAME   \n",
       "386   602157450                           OFM RESEARCH           REDMOND   \n",
       "\n",
       "    ORGANIZATION_STATE ORGANIZATION_ZIP ORGANIZATION_COUNTRY  \\\n",
       "245                 NE       68588-0430        UNITED STATES   \n",
       "254                 NY       12201-0009        UNITED STATES   \n",
       "283                 NY       12211-1462        UNITED STATES   \n",
       "300                 IN       46556-5612        UNITED STATES   \n",
       "386                 WA       98053-8841        UNITED STATES   \n",
       "\n",
       "    BUDGET_START_DATE BUDGET_END_DATE CFDA_CODE    FY  FY_TOTAL_COST  \\\n",
       "245               NaN             NaN    47.050  2008       138458.0   \n",
       "254               NaN             NaN    47.050  2008        70256.0   \n",
       "283               NaN             NaN    47.050  2008       329432.0   \n",
       "300               NaN             NaN    47.075  2008       711770.0   \n",
       "386               NaN             NaN    47.050  2008       159836.0   \n",
       "\n",
       "     FY_TOTAL_COST_SUB_PROJECTS  ORG_COUNT  PI_COUNT  FY_TOTAL_COST_SUM  \\\n",
       "245                         NaN          2         2           470378.0   \n",
       "254                         NaN          1         1            70256.0   \n",
       "283                         NaN          1         1           329432.0   \n",
       "300                         NaN          1         1           711770.0   \n",
       "386                         NaN          1         1           159836.0   \n",
       "\n",
       "     NUM_RECORDS                                       final_tokens  \n",
       "245            2  proposal seek advance understanding transport ...  \n",
       "254            1  proposal seek advance understanding transport ...  \n",
       "283            1  goal firefly cubesat unambiguously determine t...  \n",
       "300            1  project develop novel computational approach a...  \n",
       "386            1  award provide funding improve library experime...  "
      ]
     },
     "execution_count": 27,
     "metadata": {},
     "output_type": "execute_result"
    }
   ],
   "source": [
    "filt_corpus.head()"
   ]
  },
  {
   "cell_type": "code",
   "execution_count": 21,
   "metadata": {},
   "outputs": [],
   "source": [
    "wrd_frq = pd.Series(' '.join(filt_corpus.PROJECT_TERMS).split())\n",
    "wrd_frq = wrd_frq.str.lower()\n",
    "wrd_frq = wrd_frq.str.rstrip(\";\")\n",
    "wrd_frq = wrd_frq.str.rstrip(\"s\")\n",
    "wrd_frq = wrd_frq.value_counts()"
   ]
  },
  {
   "cell_type": "code",
   "execution_count": 22,
   "metadata": {},
   "outputs": [
    {
     "data": {
      "text/plain": [
       "data           30710\n",
       "research       23227\n",
       "health          9510\n",
       "system          8363\n",
       "clinical        7928\n",
       "development     7435\n",
       "disease         6877\n",
       "of              6638\n",
       "science         5910\n",
       "tool            5621\n",
       "computer        5603\n",
       "base            5556\n",
       "method          5368\n",
       "resource        5228\n",
       "gene            5132\n",
       "design          4785\n",
       "human           4693\n",
       "modeling        4655\n",
       "biological      4549\n",
       "genetic         4532\n",
       "personnel       4431\n",
       "proce           4400\n",
       "program         4372\n",
       "cell            4301\n",
       "training        4239\n",
       "cancer          4199\n",
       "technology      4188\n",
       "goal            4185\n",
       "novel           4154\n",
       "database        4144\n",
       "study           4048\n",
       "software        3893\n",
       "patient         3782\n",
       "learning        3748\n",
       "mining          3729\n",
       "protein         3671\n",
       "work            3668\n",
       "improved        3595\n",
       "and             3571\n",
       "risk            3551\n",
       "dtype: int64"
      ]
     },
     "execution_count": 22,
     "metadata": {},
     "output_type": "execute_result"
    }
   ],
   "source": [
    "wrd_frq[0:40]"
   ]
  },
  {
   "cell_type": "code",
   "execution_count": 28,
   "metadata": {},
   "outputs": [],
   "source": [
    "filt_corpus[\"FY\"] = filt_corpus[\"FY\"].astype('int')"
   ]
  },
  {
   "cell_type": "code",
   "execution_count": 30,
   "metadata": {},
   "outputs": [
    {
     "name": "stdout",
     "output_type": "stream",
     "text": [
      "2008     382\n",
      "2009     487\n",
      "2010     433\n",
      "2011     386\n",
      "2012     433\n",
      "2013     571\n",
      "2014     673\n",
      "2015     764\n",
      "2016     884\n",
      "2017     937\n",
      "2018    1051\n",
      "2019     673\n",
      "2020     721\n",
      "Name: FY, dtype: int64\n"
     ]
    }
   ],
   "source": [
    "year_counts = filt_corpus['FY'].value_counts().sort_index(ascending=True)\n",
    "print(year_counts)"
   ]
  },
  {
   "cell_type": "code",
   "execution_count": 32,
   "metadata": {},
   "outputs": [],
   "source": [
    "cb_pal = {\"blue\":'#377eb8', \"orange\":'#ff7f00', \"green\":'#4daf4a', \"pink\":'#f781bf', \"brown\":'#a65628', \n",
    "          \"purple\":'#984ea3', \"gray\":'#999999', \"red\":'#e41a1c', \"yellow\":'#dede00'}"
   ]
  },
  {
   "cell_type": "code",
   "execution_count": 35,
   "metadata": {},
   "outputs": [
    {
     "name": "stderr",
     "output_type": "stream",
     "text": [
      "<ipython-input-35-d54647f0cc45>:12: UserWarning: FixedFormatter should only be used together with FixedLocator\n",
      "  ax.set_yticklabels(['{:,}'.format(int(x)) for x in ax.get_yticks().tolist()])\n"
     ]
    },
    {
     "data": {
      "image/png": "[encoded data removed]",
      "text/plain": [
       "<Figure size 432x288 with 1 Axes>"
      ]
     },
     "metadata": {
      "needs_background": "light"
     },
     "output_type": "display_data"
    }
   ],
   "source": [
    "year = year_counts.index.tolist()\n",
    "count = year_counts.values\n",
    "\n",
    "fig = plt.figure()\n",
    "ax = fig.add_subplot(111)\n",
    "ax.set_axisbelow(True)\n",
    "plt.grid(True, color = \"whitesmoke\")\n",
    "plt.bar(year, count, color='navy')\n",
    "#plt.xlim(-0.7, len(year)-0.3)\n",
    "plt.xlim(2007.3,2020.7)\n",
    "plt.xticks(year, rotation=45)\n",
    "ax.set_yticklabels(['{:,}'.format(int(x)) for x in ax.get_yticks().tolist()])\n",
    "#x_ticks = ax.xaxis.get_major_ticks()\n",
    "#x_ticks[-1].label1.set_visible(False)\n",
    "plt.xlabel(\"FY\")\n",
    "plt.ylabel(\"Number of Projects\")\n",
    "plt.title(\"Data Mining & Big Data Frequency by FY\")\n",
    "\n",
    "plt.savefig(\"startyr_freq.png\", dpi = 800, bbox_inches = \"tight\")\n",
    "plt.savefig(\"startyr_freq.pdf\", dpi = 800, bbox_inches = \"tight\")"
   ]
  },
  {
   "cell_type": "code",
   "execution_count": null,
   "metadata": {},
   "outputs": [],
   "source": []
  }
 ],
 "metadata": {
  "kernelspec": {
   "display_name": "Python 3",
   "language": "python",
   "name": "python3"
  },
  "language_info": {
   "codemirror_mode": {
    "name": "ipython",
    "version": 3
   },
   "file_extension": ".py",
   "mimetype": "text/x-python",
   "name": "python",
   "nbconvert_exporter": "python",
   "pygments_lexer": "ipython3",
   "version": "3.8.8"
  }
 },
 "nbformat": 4,
 "nbformat_minor": 4
}
