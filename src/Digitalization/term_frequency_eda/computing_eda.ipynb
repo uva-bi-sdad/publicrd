{
 "cells": [
  {
   "cell_type": "code",
   "execution_count": 2,
   "metadata": {},
   "outputs": [],
   "source": [
    "# Skylar Haskiell\n",
    "import pandas as pd\n",
    "pd.set_option('display.max_columns', 50)\n",
    "\n",
    "import numpy as np\n",
    "import pickle\n",
    "import matplotlib.pyplot as plt\n",
    "import time\n",
    "\n",
    "from sklearn.decomposition import NMF, TruncatedSVD\n",
    "from sklearn.feature_extraction.text import CountVectorizer\n",
    "from sklearn.feature_extraction.text import TfidfVectorizer\n",
    "\n",
    "from sklearn.metrics.pairwise import cosine_similarity"
   ]
  },
  {
   "cell_type": "code",
   "execution_count": 3,
   "metadata": {},
   "outputs": [],
   "source": [
    "# pull in data\n",
    "df = pd.read_pickle(\"../../../data/prd/Paper/FR_meta_and_final_tokens_23DEC21.pkl\")\n",
    "df.reset_index(inplace = True, drop = True)"
   ]
  },
  {
   "cell_type": "code",
   "execution_count": 4,
   "metadata": {},
   "outputs": [],
   "source": [
    "# df.head()"
   ]
  },
  {
   "cell_type": "code",
   "execution_count": 5,
   "metadata": {},
   "outputs": [],
   "source": [
    "docs = df[\"final_tokens\"]  "
   ]
  },
  {
   "cell_type": "code",
   "execution_count": 6,
   "metadata": {},
   "outputs": [],
   "source": [
    "# df.shape"
   ]
  },
  {
   "cell_type": "code",
   "execution_count": 7,
   "metadata": {},
   "outputs": [],
   "source": [
    "#counts number of abstracts that contain 'computing'\n",
    "term_match_int = []\n",
    "for i, abstract in enumerate(docs):\n",
    "        if ('computing' in abstract):\n",
    "            term_match_int.append(i)"
   ]
  },
  {
   "cell_type": "code",
   "execution_count": 8,
   "metadata": {},
   "outputs": [
    {
     "data": {
      "text/plain": [
       "16077"
      ]
     },
     "execution_count": 8,
     "metadata": {},
     "output_type": "execute_result"
    }
   ],
   "source": [
    "len(term_match_int)"
   ]
  },
  {
   "cell_type": "code",
   "execution_count": 9,
   "metadata": {},
   "outputs": [],
   "source": [
    "# grabs all computing and cloud matches\n",
    "\n",
    "term_match_idx = []\n",
    "\n",
    "for i, abstract in enumerate(docs):\n",
    "    if ('computing' in abstract): \n",
    "        if ('cloud' in abstract or 'super' in abstract):\n",
    "            term_match_idx.append(i)"
   ]
  },
  {
   "cell_type": "code",
   "execution_count": 10,
   "metadata": {},
   "outputs": [
    {
     "data": {
      "text/plain": [
       "4057"
      ]
     },
     "execution_count": 10,
     "metadata": {},
     "output_type": "execute_result"
    }
   ],
   "source": [
    "len(term_match_idx) "
   ]
  },
  {
   "cell_type": "code",
   "execution_count": 11,
   "metadata": {},
   "outputs": [],
   "source": [
    "vectorizer = CountVectorizer()\n",
    "dtm = vectorizer.fit_transform(docs)\n",
    "\n",
    "terms = vectorizer.get_feature_names()"
   ]
  },
  {
   "cell_type": "code",
   "execution_count": 12,
   "metadata": {},
   "outputs": [
    {
     "data": {
      "text/plain": [
       "(1143869, 1629626)"
      ]
     },
     "execution_count": 12,
     "metadata": {},
     "output_type": "execute_result"
    }
   ],
   "source": [
    "dtm.shape"
   ]
  },
  {
   "cell_type": "code",
   "execution_count": 13,
   "metadata": {},
   "outputs": [
    {
     "name": "stdout",
     "output_type": "stream",
     "text": [
      "31computing\n",
      "6computing\n",
      "acceleratedcomputing\n",
      "accesscomputing\n",
      "advancedcomputing\n",
      "andbiocomputing\n",
      "andcomputing\n",
      "andsupercomputing\n",
      "associatedcomputing\n",
      "basedcomputing\n",
      "beowulfcomputing\n",
      "biocomputing\n",
      "biocomputing_cgrb\n",
      "biocomputing_visualization\n",
      "biocomputing_visualization_informatics_rbvi\n",
      "biocomputinginfrastructure\n",
      "biomedical_supercomputing_nrbsc\n",
      "biomedicalcomputing\n",
      "centeredcomputing\n",
      "cloud_computing\n",
      "cloud_computing_web_crawler\n",
      "cloudcomputing\n",
      "cmu_pittsburgh_supercomputing\n",
      "cognitivecomputing\n",
      "computing\n",
      "computing10\n",
      "computing2\n",
      "computing3\n",
      "computing4\n",
      "computing4good\n",
      "computing_a4rc\n",
      "computing_base\n",
      "computing_hpc\n",
      "computing_initiative_nsci\n",
      "computing_namic\n",
      "computing_part\n",
      "computing_systems_icdcs\n",
      "computingabstract\n",
      "computingabstractsynthetic\n",
      "computingadministrator\n",
      "computingadvisory\n",
      "computingaim\n",
      "computingalgorithm\n",
      "computingand\n",
      "computingapplication\n",
      "computingarchitecture\n",
      "computingat\n",
      "computingb\n",
      "computingbela\n",
      "computingbinde\n",
      "computingbrief\n",
      "computingcan\n",
      "computingcapability\n",
      "computingcenter\n",
      "computingcircuits\n",
      "computingcognitive\n",
      "computingcommunity\n",
      "computingcomponent\n",
      "computingcore\n",
      "computingdouglas\n",
      "computingdr\n",
      "computingenvironment\n",
      "computingequipment\n",
      "computingequipmenttravelnational\n",
      "computingfacilitie\n",
      "computingfacility\n",
      "computingformulation\n",
      "computingframework\n",
      "computingfunction\n",
      "computingfunctionalitie\n",
      "computinghost\n",
      "computinghowever\n",
      "computingiii\n",
      "computingimage\n",
      "computingimages\n",
      "computingin\n",
      "computinginfrastructure\n",
      "computinginstrument\n",
      "computingintellectual\n",
      "computingintensive\n",
      "computingis\n",
      "computingknoesis\n",
      "computingmap\n",
      "computingmri\n",
      "computingnon\n",
      "computingobject\n",
      "computingof\n",
      "computingorg\n",
      "computingover\n",
      "computingpi\n",
      "computingpis\n",
      "computingplatform\n",
      "computingpower\n",
      "computingprocessor\n",
      "computingproject\n",
      "computingresource\n",
      "computingscience\n",
      "computingservice\n",
      "computingskill\n",
      "computingsolution\n",
      "computingstaff\n",
      "computingstarte\n",
      "computingsystem\n",
      "computingtechnologie\n",
      "computingtechnology\n",
      "computingthe\n",
      "computingthis\n",
      "computingto\n",
      "computingtool\n",
      "computingtoolkit\n",
      "computinguse\n",
      "computingworkflow\n",
      "datacomputing\n",
      "diodesbiocomputing\n",
      "distribute_computing_hpdc\n",
      "distributedcomputing\n",
      "dnacomputing\n",
      "dynamiccomputing\n",
      "emergingcomputing\n",
      "everycomputing\n",
      "exascale_computing\n",
      "fogcomputing\n",
      "fpgacomputing\n",
      "goldmancomputing\n",
      "gpucomputing\n",
      "highperformance_computing\n",
      "hpccomputing\n",
      "httpcdc_computingorg\n",
      "httpcomputingecevtedudbatra\n",
      "httpsgithubcomgoodwillcomputinglabreyaz\n",
      "httpsitesgooglecomsitecomputingfinvariantsworkshop\n",
      "httpsmypagesunheduqyusecure_approximate_computing_system\n",
      "httpspatial_computinggithubiounlocking_spatiotemporal_map_data\n",
      "httpwwwcsetamuedureucomputingfordisaster\n",
      "httpwwwnianetorgquantumcomputing\n",
      "interactingcomputing\n",
      "localcomputing\n",
      "mapreducecomputing\n",
      "medicinecomputing\n",
      "metacomputing\n",
      "minnesota_supercomputing\n",
      "minnesotasupercomputing\n",
      "modularcomputing\n",
      "nanocomputing\n",
      "necessarycomputing\n",
      "neuralcomputing\n",
      "neurocomputing\n",
      "neuromorphic_computing\n",
      "newcomputing\n",
      "nueorocomputing\n",
      "numericalcomputing\n",
      "ofcomputing\n",
      "oncomputing\n",
      "pacific_symposium_biocomputing\n",
      "parallelcomputing\n",
      "performance_computinghpc\n",
      "performancecomputing\n",
      "performancecomputing_hpc\n",
      "pervasivecomputing\n",
      "petascale_computing\n",
      "phewascomputing\n",
      "pittsburg_supercomputing\n",
      "pittsburgh_supercomputing\n",
      "pittsburgh_supercomputing_centerpsc\n",
      "pittsburgh_supercomputingcenter\n",
      "rcomputing\n",
      "researchcomputing\n",
      "researchers_computing_a4rc\n",
      "rosucomputing\n",
      "san_diego_supercomputing\n",
      "scalablecomputing\n",
      "scalecomputing\n",
      "scientificcomputing\n",
      "scientificsupercomputing\n",
      "serverless_computing\n",
      "starscomputingcorpsorg\n",
      "statisticalcomputing\n",
      "stemcomputing\n",
      "stemcomputing_partnership_stemc\n",
      "stemcomputing_stemc\n",
      "supercomputing\n",
      "supercomputing_11\n",
      "supercomputing_applications\n",
      "supercomputing_applications_ncsa\n",
      "supercomputing_nrbsc\n",
      "supercomputing_pittsburgh_supercomputing\n",
      "supercomputingcenter\n",
      "thecomputing\n",
      "thencomputing\n",
      "throughputcomputing\n",
      "ubiquitous_computing_ubicomp\n",
      "unary_computing\n",
      "upcomputing\n",
      "193\n"
     ]
    }
   ],
   "source": [
    "#checks for all terms relating to internet \n",
    "count = 0\n",
    "\n",
    "for term in terms:\n",
    "    if 'computing' in term:\n",
    "        \n",
    "            print(term)\n",
    "            count = count + 1\n",
    "        \n",
    "print(count)"
   ]
  },
  {
   "cell_type": "code",
   "execution_count": 14,
   "metadata": {},
   "outputs": [],
   "source": [
    "#total number of terms relating to the word internet \n",
    "term_counts = dtm.sum(axis=0)"
   ]
  },
  {
   "cell_type": "code",
   "execution_count": 15,
   "metadata": {},
   "outputs": [
    {
     "name": "stdout",
     "output_type": "stream",
     "text": [
      "andsupercomputing\n",
      "biomedical_supercomputing_nrbsc\n",
      "cloud_computing\n",
      "cloud_computing_web_crawler\n",
      "cloudcomputing\n",
      "cmu_pittsburgh_supercomputing\n",
      "minnesota_supercomputing\n",
      "minnesotasupercomputing\n",
      "pittsburg_supercomputing\n",
      "pittsburgh_supercomputing\n",
      "pittsburgh_supercomputing_centerpsc\n",
      "pittsburgh_supercomputingcenter\n",
      "san_diego_supercomputing\n",
      "scientificsupercomputing\n",
      "supercomputing\n",
      "supercomputing_11\n",
      "supercomputing_applications\n",
      "supercomputing_applications_ncsa\n",
      "supercomputing_nrbsc\n",
      "supercomputing_pittsburgh_supercomputing\n",
      "supercomputingcenter\n",
      "21\n"
     ]
    }
   ],
   "source": [
    "#checks terms with both internet and thing or iot\n",
    "icount = 0\n",
    "for term in terms:\n",
    "    if 'computing' in term:\n",
    "        if 'super' in term or 'cloud' in term:\n",
    "            print(term)\n",
    "            icount = icount + 1\n",
    "        \n",
    "print(icount)"
   ]
  },
  {
   "cell_type": "code",
   "execution_count": 16,
   "metadata": {},
   "outputs": [],
   "source": [
    "#will create set of all terms with internet and thing or iot and list their frequency\n",
    "di = {}\n",
    "\n",
    "for i, term in enumerate(terms):\n",
    "    if 'computing' in term:\n",
    "        if 'cloud' in term or 'super' in term:\n",
    "        #print(term)\n",
    "            di[term] = term_counts[0,i]"
   ]
  },
  {
   "cell_type": "code",
   "execution_count": 17,
   "metadata": {},
   "outputs": [
    {
     "data": {
      "text/plain": [
       "{'andsupercomputing': 6,\n",
       " 'biomedical_supercomputing_nrbsc': 19,\n",
       " 'cloud_computing': 1765,\n",
       " 'cloud_computing_web_crawler': 8,\n",
       " 'cloudcomputing': 19,\n",
       " 'cmu_pittsburgh_supercomputing': 10,\n",
       " 'minnesota_supercomputing': 24,\n",
       " 'minnesotasupercomputing': 1,\n",
       " 'pittsburg_supercomputing': 6,\n",
       " 'pittsburgh_supercomputing': 136,\n",
       " 'pittsburgh_supercomputing_centerpsc': 7,\n",
       " 'pittsburgh_supercomputingcenter': 9,\n",
       " 'san_diego_supercomputing': 12,\n",
       " 'scientificsupercomputing': 1,\n",
       " 'supercomputing': 517,\n",
       " 'supercomputing_11': 1,\n",
       " 'supercomputing_applications': 22,\n",
       " 'supercomputing_applications_ncsa': 19,\n",
       " 'supercomputing_nrbsc': 4,\n",
       " 'supercomputing_pittsburgh_supercomputing': 8,\n",
       " 'supercomputingcenter': 2}"
      ]
     },
     "execution_count": 17,
     "metadata": {},
     "output_type": "execute_result"
    }
   ],
   "source": [
    "di"
   ]
  },
  {
   "cell_type": "code",
   "execution_count": 18,
   "metadata": {},
   "outputs": [],
   "source": [
    "docs_ix = np.concatenate([term_match_idx]) "
   ]
  },
  {
   "cell_type": "code",
   "execution_count": 19,
   "metadata": {},
   "outputs": [],
   "source": [
    "docs_idx = np.unique(docs_ix)"
   ]
  },
  {
   "cell_type": "code",
   "execution_count": 20,
   "metadata": {},
   "outputs": [],
   "source": [
    "# docs_idx.shape"
   ]
  },
  {
   "cell_type": "code",
   "execution_count": 21,
   "metadata": {},
   "outputs": [],
   "source": [
    "filt_corpus = df.loc[docs_idx, :]"
   ]
  },
  {
   "cell_type": "code",
   "execution_count": null,
   "metadata": {},
   "outputs": [],
   "source": []
  },
  {
   "cell_type": "code",
   "execution_count": 22,
   "metadata": {},
   "outputs": [],
   "source": [
    "#removes abstracts with no terms from data set\n",
    "filt_corpus = filt_corpus[~filt_corpus.PROJECT_TERMS.isnull()]"
   ]
  },
  {
   "cell_type": "code",
   "execution_count": null,
   "metadata": {},
   "outputs": [],
   "source": []
  },
  {
   "cell_type": "code",
   "execution_count": 23,
   "metadata": {},
   "outputs": [],
   "source": [
    "#calculates the top 40 keywords in the data set\n",
    "\n",
    "wrd_frq = pd.Series(' '.join(filt_corpus.PROJECT_TERMS).split())\n",
    "#makes lowercase\n",
    "wrd_frq = wrd_frq.str.lower()\n",
    "# removes trailing ;\n",
    "wrd_frq = wrd_frq.str.rstrip(\";\")\n",
    "# removes trailing s\n",
    "wrd_frq = wrd_frq.str.rstrip(\"s\")\n",
    "#counts word freqeuncy\n",
    "wrd_frq = wrd_frq.value_counts()"
   ]
  },
  {
   "cell_type": "code",
   "execution_count": 24,
   "metadata": {},
   "outputs": [
    {
     "data": {
      "text/plain": [
       "research          8924\n",
       "data              7366\n",
       "computer          4169\n",
       "system            3853\n",
       "computing         3148\n",
       "development       2657\n",
       "resource          2636\n",
       "software          2433\n",
       "science           2359\n",
       "technology        2046\n",
       "student           1963\n",
       "design            1922\n",
       "tool              1915\n",
       "base              1877\n",
       "modeling          1831\n",
       "performance       1829\n",
       "of                1812\n",
       "proce             1724\n",
       "program           1710\n",
       "health            1697\n",
       "personnel         1669\n",
       "training          1515\n",
       "infrastructure    1488\n",
       "work              1486\n",
       "cloud             1385\n",
       "time              1383\n",
       "method            1374\n",
       "goal              1350\n",
       "service           1335\n",
       "environment       1284\n",
       "and               1265\n",
       "communitie        1250\n",
       "grant             1237\n",
       "high              1213\n",
       "novel             1192\n",
       "source            1188\n",
       "disease           1175\n",
       "simulation        1157\n",
       "addre             1143\n",
       "clinical          1140\n",
       "dtype: int64"
      ]
     },
     "execution_count": 24,
     "metadata": {},
     "output_type": "execute_result"
    }
   ],
   "source": [
    "wrd_frq[0:40]"
   ]
  },
  {
   "cell_type": "code",
   "execution_count": 25,
   "metadata": {},
   "outputs": [],
   "source": [
    "filt_corpus[\"FY\"] = filt_corpus[\"FY\"].astype('int')"
   ]
  },
  {
   "cell_type": "code",
   "execution_count": 26,
   "metadata": {},
   "outputs": [
    {
     "name": "stdout",
     "output_type": "stream",
     "text": [
      "2008    160\n",
      "2009    229\n",
      "2010    269\n",
      "2011    273\n",
      "2012    261\n",
      "2013    261\n",
      "2014    281\n",
      "2015    324\n",
      "2016    352\n",
      "2017    388\n",
      "2018    433\n",
      "2019    129\n",
      "2020    149\n",
      "Name: FY, dtype: int64\n"
     ]
    }
   ],
   "source": [
    "year_counts = filt_corpus['FY'].value_counts().sort_index(ascending=True)\n",
    "print(year_counts)"
   ]
  },
  {
   "cell_type": "code",
   "execution_count": 27,
   "metadata": {},
   "outputs": [],
   "source": [
    "cb_pal = {\"blue\":'#377eb8', \"orange\":'#ff7f00', \"green\":'#4daf4a', \"pink\":'#f781bf', \"brown\":'#a65628', \n",
    "          \"purple\":'#984ea3', \"gray\":'#999999', \"red\":'#e41a1c', \"yellow\":'#dede00'}"
   ]
  },
  {
   "cell_type": "code",
   "execution_count": 29,
   "metadata": {},
   "outputs": [
    {
     "name": "stderr",
     "output_type": "stream",
     "text": [
      "<ipython-input-29-24013e5304d6>:12: UserWarning: FixedFormatter should only be used together with FixedLocator\n",
      "  ax.set_yticklabels(['{:,}'.format(int(x)) for x in ax.get_yticks().tolist()])\n"
     ]
    },
    {
     "data": {
      "image/png": "[encoded data removed]",
      "text/plain": [
       "<Figure size 432x288 with 1 Axes>"
      ]
     },
     "metadata": {
      "needs_background": "light"
     },
     "output_type": "display_data"
    }
   ],
   "source": [
    "year = year_counts.index.tolist()\n",
    "count = year_counts.values\n",
    "\n",
    "fig = plt.figure()\n",
    "ax = fig.add_subplot(111)\n",
    "ax.set_axisbelow(True)\n",
    "plt.grid(True, color = \"whitesmoke\")\n",
    "plt.bar(year, count, color='navy')\n",
    "#plt.xlim(-0.7, len(year)-0.3)\n",
    "plt.xlim(2007.3,2020.7)\n",
    "plt.xticks(year, rotation=45)\n",
    "ax.set_yticklabels(['{:,}'.format(int(x)) for x in ax.get_yticks().tolist()])\n",
    "#x_ticks = ax.xaxis.get_major_ticks()\n",
    "#x_ticks[-1].label1.set_visible(False)\n",
    "plt.xlabel(\"FY\")\n",
    "plt.ylabel(\"Number of Projects\")\n",
    "plt.title(\"Super & Cloud Computing Frequency by FY\")\n",
    "\n",
    "plt.savefig(\"startyr_freq.png\", dpi = 800, bbox_inches = \"tight\")\n",
    "plt.savefig(\"startyr_freq.pdf\", dpi = 800, bbox_inches = \"tight\")"
   ]
  },
  {
   "cell_type": "code",
   "execution_count": null,
   "metadata": {},
   "outputs": [],
   "source": []
  }
 ],
 "metadata": {
  "kernelspec": {
   "display_name": "Python 3",
   "language": "python",
   "name": "python3"
  },
  "language_info": {
   "codemirror_mode": {
    "name": "ipython",
    "version": 3
   },
   "file_extension": ".py",
   "mimetype": "text/x-python",
   "name": "python",
   "nbconvert_exporter": "python",
   "pygments_lexer": "ipython3",
   "version": "3.8.8"
  }
 },
 "nbformat": 4,
 "nbformat_minor": 4
}
