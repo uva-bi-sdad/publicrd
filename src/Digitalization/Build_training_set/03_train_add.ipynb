{
 "cells": [
  {
   "cell_type": "markdown",
   "metadata": {},
   "source": [
    "#### Create a CSV for the additional training set"
   ]
  },
  {
   "cell_type": "code",
   "execution_count": 1,
   "metadata": {},
   "outputs": [],
   "source": [
    "import pandas as pd\n",
    "import random"
   ]
  },
  {
   "cell_type": "code",
   "execution_count": 2,
   "metadata": {},
   "outputs": [
    {
     "name": "stdout",
     "output_type": "stream",
     "text": [
      "(1143869, 30)\n"
     ]
    }
   ],
   "source": [
    "# pull in data\n",
    "df = pd.read_pickle(\"../../../data/prd/Paper/FR_meta_and_final_tokens_23DEC21.pkl\")\n",
    "df.reset_index(inplace = True, drop = True)\n",
    "\n",
    "print(df.shape)"
   ]
  },
  {
   "cell_type": "code",
   "execution_count": 3,
   "metadata": {},
   "outputs": [],
   "source": [
    "# pull in training set addition IDs\n",
    "\n",
    "ids = pd.read_csv(\"training_addition_ids.csv\", dtype=str)"
   ]
  },
  {
   "cell_type": "code",
   "execution_count": 4,
   "metadata": {},
   "outputs": [
    {
     "data": {
      "text/html": [
       "<div>\n",
       "<style scoped>\n",
       "    .dataframe tbody tr th:only-of-type {\n",
       "        vertical-align: middle;\n",
       "    }\n",
       "\n",
       "    .dataframe tbody tr th {\n",
       "        vertical-align: top;\n",
       "    }\n",
       "\n",
       "    .dataframe thead th {\n",
       "        text-align: right;\n",
       "    }\n",
       "</style>\n",
       "<table border=\"1\" class=\"dataframe\">\n",
       "  <thead>\n",
       "    <tr style=\"text-align: right;\">\n",
       "      <th></th>\n",
       "      <th>PROJECT_ID</th>\n",
       "    </tr>\n",
       "  </thead>\n",
       "  <tbody>\n",
       "    <tr>\n",
       "      <th>0</th>\n",
       "      <td>90145</td>\n",
       "    </tr>\n",
       "    <tr>\n",
       "      <th>1</th>\n",
       "      <td>90761</td>\n",
       "    </tr>\n",
       "    <tr>\n",
       "      <th>2</th>\n",
       "      <td>91610</td>\n",
       "    </tr>\n",
       "    <tr>\n",
       "      <th>3</th>\n",
       "      <td>92672</td>\n",
       "    </tr>\n",
       "    <tr>\n",
       "      <th>4</th>\n",
       "      <td>94151</td>\n",
       "    </tr>\n",
       "    <tr>\n",
       "      <th>...</th>\n",
       "      <td>...</td>\n",
       "    </tr>\n",
       "    <tr>\n",
       "      <th>406</th>\n",
       "      <td>1290525</td>\n",
       "    </tr>\n",
       "    <tr>\n",
       "      <th>407</th>\n",
       "      <td>1292937</td>\n",
       "    </tr>\n",
       "    <tr>\n",
       "      <th>408</th>\n",
       "      <td>1293276</td>\n",
       "    </tr>\n",
       "    <tr>\n",
       "      <th>409</th>\n",
       "      <td>1293348</td>\n",
       "    </tr>\n",
       "    <tr>\n",
       "      <th>410</th>\n",
       "      <td>1293493</td>\n",
       "    </tr>\n",
       "  </tbody>\n",
       "</table>\n",
       "<p>411 rows × 1 columns</p>\n",
       "</div>"
      ],
      "text/plain": [
       "    PROJECT_ID\n",
       "0        90145\n",
       "1        90761\n",
       "2        91610\n",
       "3        92672\n",
       "4        94151\n",
       "..         ...\n",
       "406    1290525\n",
       "407    1292937\n",
       "408    1293276\n",
       "409    1293348\n",
       "410    1293493\n",
       "\n",
       "[411 rows x 1 columns]"
      ]
     },
     "execution_count": 4,
     "metadata": {},
     "output_type": "execute_result"
    }
   ],
   "source": [
    "ids"
   ]
  },
  {
   "cell_type": "code",
   "execution_count": 5,
   "metadata": {},
   "outputs": [],
   "source": [
    "# filter df to the 411 ids from the Wiki method (top 0.1%, no \"big data\" term) \n",
    "\n",
    "train_add_df = df[ df['PROJECT_ID'].isin(list(ids[\"PROJECT_ID\"])) ]"
   ]
  },
  {
   "cell_type": "code",
   "execution_count": 6,
   "metadata": {},
   "outputs": [
    {
     "data": {
      "text/html": [
       "<div>\n",
       "<style scoped>\n",
       "    .dataframe tbody tr th:only-of-type {\n",
       "        vertical-align: middle;\n",
       "    }\n",
       "\n",
       "    .dataframe tbody tr th {\n",
       "        vertical-align: top;\n",
       "    }\n",
       "\n",
       "    .dataframe thead th {\n",
       "        text-align: right;\n",
       "    }\n",
       "</style>\n",
       "<table border=\"1\" class=\"dataframe\">\n",
       "  <thead>\n",
       "    <tr style=\"text-align: right;\">\n",
       "      <th></th>\n",
       "      <th>PROJECT_ID</th>\n",
       "      <th>ABSTRACT</th>\n",
       "      <th>PROJECT_TERMS</th>\n",
       "      <th>PROJECT_TITLE</th>\n",
       "      <th>DEPARTMENT</th>\n",
       "      <th>AGENCY</th>\n",
       "      <th>IC_CENTER</th>\n",
       "      <th>PROJECT_NUMBER</th>\n",
       "      <th>PROJECT_START_DATE</th>\n",
       "      <th>PROJECT_END_DATE</th>\n",
       "      <th>...</th>\n",
       "      <th>BUDGET_END_DATE</th>\n",
       "      <th>CFDA_CODE</th>\n",
       "      <th>FY</th>\n",
       "      <th>FY_TOTAL_COST</th>\n",
       "      <th>FY_TOTAL_COST_SUB_PROJECTS</th>\n",
       "      <th>ORG_COUNT</th>\n",
       "      <th>PI_COUNT</th>\n",
       "      <th>FY_TOTAL_COST_SUM</th>\n",
       "      <th>NUM_RECORDS</th>\n",
       "      <th>final_tokens</th>\n",
       "    </tr>\n",
       "  </thead>\n",
       "  <tbody>\n",
       "    <tr>\n",
       "      <th>373</th>\n",
       "      <td>90145</td>\n",
       "      <td>Scientists and supporters of science have long...</td>\n",
       "      <td>Address; American Indians; Biological Models; ...</td>\n",
       "      <td>COLLABORATIVE RESEARCH: AOC: MONITORING, MODEL...</td>\n",
       "      <td>NSF</td>\n",
       "      <td>NSF</td>\n",
       "      <td>NaN</td>\n",
       "      <td>0827333</td>\n",
       "      <td>10/1/2008</td>\n",
       "      <td>9/30/2011</td>\n",
       "      <td>...</td>\n",
       "      <td>NaN</td>\n",
       "      <td>47.075</td>\n",
       "      <td>2008</td>\n",
       "      <td>193905.0</td>\n",
       "      <td>NaN</td>\n",
       "      <td>3</td>\n",
       "      <td>3</td>\n",
       "      <td>1220851.0</td>\n",
       "      <td>3</td>\n",
       "      <td>scientist supporter science long work improve ...</td>\n",
       "    </tr>\n",
       "    <tr>\n",
       "      <th>672</th>\n",
       "      <td>90761</td>\n",
       "      <td>ENABLING MASSIVE SCIENTIFIC DATABASES THROUGH ...</td>\n",
       "      <td>Data Set; Databases; design; simulation</td>\n",
       "      <td>''ENABLING MASSIVE SCIENTIFIC DATABASES THROUG...</td>\n",
       "      <td>NASA</td>\n",
       "      <td>NASA</td>\n",
       "      <td>NaN</td>\n",
       "      <td>NNX08AY72G</td>\n",
       "      <td>8/1/2008</td>\n",
       "      <td>1/21/2011</td>\n",
       "      <td>...</td>\n",
       "      <td>NaN</td>\n",
       "      <td>43.001</td>\n",
       "      <td>2008</td>\n",
       "      <td>159359.0</td>\n",
       "      <td>NaN</td>\n",
       "      <td>1</td>\n",
       "      <td>1</td>\n",
       "      <td>159359.0</td>\n",
       "      <td>1</td>\n",
       "      <td>enable massive scientific database automated s...</td>\n",
       "    </tr>\n",
       "    <tr>\n",
       "      <th>1681</th>\n",
       "      <td>91610</td>\n",
       "      <td>Intellectual Merit:  This project implements P...</td>\n",
       "      <td>Archives; Climate; Communities; Data; Data Ana...</td>\n",
       "      <td>SEDDB, THE ONLINE INFORMATION SYSTEM FOR SEDIM...</td>\n",
       "      <td>NSF</td>\n",
       "      <td>NSF</td>\n",
       "      <td>NaN</td>\n",
       "      <td>0826197</td>\n",
       "      <td>9/1/2008</td>\n",
       "      <td>8/31/2011</td>\n",
       "      <td>...</td>\n",
       "      <td>NaN</td>\n",
       "      <td>47.050</td>\n",
       "      <td>2008</td>\n",
       "      <td>399123.0</td>\n",
       "      <td>NaN</td>\n",
       "      <td>1</td>\n",
       "      <td>1</td>\n",
       "      <td>399123.0</td>\n",
       "      <td>1</td>\n",
       "      <td>intellectual_merit project implement phase ii ...</td>\n",
       "    </tr>\n",
       "    <tr>\n",
       "      <th>2651</th>\n",
       "      <td>92672</td>\n",
       "      <td>This project seeks to develop incremental proc...</td>\n",
       "      <td>Address; base; Communities; Complex; computeri...</td>\n",
       "      <td>CSR-DMSS, SM: INCREMENTAL WEB-SCALE DATA PROCE...</td>\n",
       "      <td>NSF</td>\n",
       "      <td>NSF</td>\n",
       "      <td>NaN</td>\n",
       "      <td>0834784</td>\n",
       "      <td>9/1/2008</td>\n",
       "      <td>8/31/2009</td>\n",
       "      <td>...</td>\n",
       "      <td>NaN</td>\n",
       "      <td>47.070</td>\n",
       "      <td>2008</td>\n",
       "      <td>100000.0</td>\n",
       "      <td>NaN</td>\n",
       "      <td>1</td>\n",
       "      <td>1</td>\n",
       "      <td>100000.0</td>\n",
       "      <td>1</td>\n",
       "      <td>project seek develop incremental processing ab...</td>\n",
       "    </tr>\n",
       "    <tr>\n",
       "      <th>3987</th>\n",
       "      <td>94151</td>\n",
       "      <td>Commercial and government entities now spend a...</td>\n",
       "      <td>Algorithms; Archives; Benchmarking; Computer s...</td>\n",
       "      <td>III-COR-MEDIUM: DESIGN AND IMPLEMENTATION OF T...</td>\n",
       "      <td>NSF</td>\n",
       "      <td>NSF</td>\n",
       "      <td>NaN</td>\n",
       "      <td>0803511</td>\n",
       "      <td>8/1/2008</td>\n",
       "      <td>8/31/2010</td>\n",
       "      <td>...</td>\n",
       "      <td>NaN</td>\n",
       "      <td>47.070</td>\n",
       "      <td>2008</td>\n",
       "      <td>177401.0</td>\n",
       "      <td>NaN</td>\n",
       "      <td>1</td>\n",
       "      <td>1</td>\n",
       "      <td>177401.0</td>\n",
       "      <td>1</td>\n",
       "      <td>commercial government entity spend billion per...</td>\n",
       "    </tr>\n",
       "  </tbody>\n",
       "</table>\n",
       "<p>5 rows × 30 columns</p>\n",
       "</div>"
      ],
      "text/plain": [
       "     PROJECT_ID                                           ABSTRACT  \\\n",
       "373       90145  Scientists and supporters of science have long...   \n",
       "672       90761  ENABLING MASSIVE SCIENTIFIC DATABASES THROUGH ...   \n",
       "1681      91610  Intellectual Merit:  This project implements P...   \n",
       "2651      92672  This project seeks to develop incremental proc...   \n",
       "3987      94151  Commercial and government entities now spend a...   \n",
       "\n",
       "                                          PROJECT_TERMS  \\\n",
       "373   Address; American Indians; Biological Models; ...   \n",
       "672             Data Set; Databases; design; simulation   \n",
       "1681  Archives; Climate; Communities; Data; Data Ana...   \n",
       "2651  Address; base; Communities; Complex; computeri...   \n",
       "3987  Algorithms; Archives; Benchmarking; Computer s...   \n",
       "\n",
       "                                          PROJECT_TITLE DEPARTMENT AGENCY  \\\n",
       "373   COLLABORATIVE RESEARCH: AOC: MONITORING, MODEL...        NSF    NSF   \n",
       "672   ''ENABLING MASSIVE SCIENTIFIC DATABASES THROUG...       NASA   NASA   \n",
       "1681  SEDDB, THE ONLINE INFORMATION SYSTEM FOR SEDIM...        NSF    NSF   \n",
       "2651  CSR-DMSS, SM: INCREMENTAL WEB-SCALE DATA PROCE...        NSF    NSF   \n",
       "3987  III-COR-MEDIUM: DESIGN AND IMPLEMENTATION OF T...        NSF    NSF   \n",
       "\n",
       "     IC_CENTER PROJECT_NUMBER PROJECT_START_DATE PROJECT_END_DATE  ...  \\\n",
       "373        NaN        0827333          10/1/2008        9/30/2011  ...   \n",
       "672        NaN     NNX08AY72G           8/1/2008        1/21/2011  ...   \n",
       "1681       NaN        0826197           9/1/2008        8/31/2011  ...   \n",
       "2651       NaN        0834784           9/1/2008        8/31/2009  ...   \n",
       "3987       NaN        0803511           8/1/2008        8/31/2010  ...   \n",
       "\n",
       "     BUDGET_END_DATE CFDA_CODE    FY FY_TOTAL_COST FY_TOTAL_COST_SUB_PROJECTS  \\\n",
       "373              NaN    47.075  2008      193905.0                        NaN   \n",
       "672              NaN    43.001  2008      159359.0                        NaN   \n",
       "1681             NaN    47.050  2008      399123.0                        NaN   \n",
       "2651             NaN    47.070  2008      100000.0                        NaN   \n",
       "3987             NaN    47.070  2008      177401.0                        NaN   \n",
       "\n",
       "     ORG_COUNT PI_COUNT FY_TOTAL_COST_SUM NUM_RECORDS  \\\n",
       "373          3        3         1220851.0           3   \n",
       "672          1        1          159359.0           1   \n",
       "1681         1        1          399123.0           1   \n",
       "2651         1        1          100000.0           1   \n",
       "3987         1        1          177401.0           1   \n",
       "\n",
       "                                           final_tokens  \n",
       "373   scientist supporter science long work improve ...  \n",
       "672   enable massive scientific database automated s...  \n",
       "1681  intellectual_merit project implement phase ii ...  \n",
       "2651  project seek develop incremental processing ab...  \n",
       "3987  commercial government entity spend billion per...  \n",
       "\n",
       "[5 rows x 30 columns]"
      ]
     },
     "execution_count": 6,
     "metadata": {},
     "output_type": "execute_result"
    }
   ],
   "source": [
    "train_add_df.head()"
   ]
  },
  {
   "cell_type": "code",
   "execution_count": null,
   "metadata": {},
   "outputs": [],
   "source": []
  },
  {
   "cell_type": "code",
   "execution_count": 34,
   "metadata": {},
   "outputs": [],
   "source": [
    "# randomly sample 200 project ids of train_add_df\n",
    "\n",
    "random.seed(5)\n",
    "rand_pos_ids = random.sample(list(train_add_df[\"PROJECT_ID\"]), 200)"
   ]
  },
  {
   "cell_type": "code",
   "execution_count": 35,
   "metadata": {},
   "outputs": [
    {
     "data": {
      "text/plain": [
       "['1096641',\n",
       " '466894',\n",
       " '1285271',\n",
       " '797163',\n",
       " '1277212',\n",
       " '1285232',\n",
       " '1154155',\n",
       " '997509',\n",
       " '102767',\n",
       " '903694']"
      ]
     },
     "execution_count": 35,
     "metadata": {},
     "output_type": "execute_result"
    }
   ],
   "source": [
    "rand_pos_ids[:10]"
   ]
  },
  {
   "cell_type": "code",
   "execution_count": 26,
   "metadata": {},
   "outputs": [
    {
     "name": "stdout",
     "output_type": "stream",
     "text": [
      "1143458\n"
     ]
    }
   ],
   "source": [
    "# randomly sample 200 project ids of df-train_add_df (to keep balance in training set) \n",
    "\n",
    "not_train_add_df = df[ ~df['PROJECT_ID'].isin(list(ids[\"PROJECT_ID\"])) ]\n",
    "print(len(not_train_add_df))"
   ]
  },
  {
   "cell_type": "code",
   "execution_count": 36,
   "metadata": {},
   "outputs": [],
   "source": [
    "rand_neg_ids = random.sample(list(not_train_add_df[\"PROJECT_ID\"]), 200)"
   ]
  },
  {
   "cell_type": "code",
   "execution_count": 37,
   "metadata": {},
   "outputs": [
    {
     "data": {
      "text/plain": [
       "['848475',\n",
       " '253605',\n",
       " '735042',\n",
       " '865820',\n",
       " '647200',\n",
       " '1138159',\n",
       " '610177',\n",
       " '678392',\n",
       " '891616',\n",
       " '461168']"
      ]
     },
     "execution_count": 37,
     "metadata": {},
     "output_type": "execute_result"
    }
   ],
   "source": [
    "rand_neg_ids[:10]"
   ]
  },
  {
   "cell_type": "code",
   "execution_count": 38,
   "metadata": {},
   "outputs": [],
   "source": [
    "# create union of random ids\n",
    "\n",
    "new_ids = rand_pos_ids + rand_neg_ids"
   ]
  },
  {
   "cell_type": "code",
   "execution_count": 39,
   "metadata": {},
   "outputs": [
    {
     "data": {
      "text/plain": [
       "400"
      ]
     },
     "execution_count": 39,
     "metadata": {},
     "output_type": "execute_result"
    }
   ],
   "source": [
    "# double check\n",
    "len(new_ids)"
   ]
  },
  {
   "cell_type": "code",
   "execution_count": null,
   "metadata": {},
   "outputs": [],
   "source": []
  },
  {
   "cell_type": "code",
   "execution_count": 14,
   "metadata": {},
   "outputs": [],
   "source": [
    "# check for duplicates already in training and testing set\n",
    "\n",
    "# pull in previous training and testing IDs\n",
    "\n",
    "prev_train_ids = pd.read_csv(\"../../../data/prd/Big_Data/projectid_training.csv\", dtype=str)\n",
    "prev_test_ids = pd.read_csv(\"../../../data/prd/Big_Data/projectid_testing.csv\", dtype=str)"
   ]
  },
  {
   "cell_type": "code",
   "execution_count": 15,
   "metadata": {},
   "outputs": [],
   "source": [
    "prev_ids = list(prev_train_ids[\"PROJECT_ID\"]) + list(prev_test_ids[\"PROJECT_ID\"])"
   ]
  },
  {
   "cell_type": "code",
   "execution_count": 16,
   "metadata": {},
   "outputs": [
    {
     "data": {
      "text/plain": [
       "1200"
      ]
     },
     "execution_count": 16,
     "metadata": {},
     "output_type": "execute_result"
    }
   ],
   "source": [
    "len(prev_ids)"
   ]
  },
  {
   "cell_type": "code",
   "execution_count": 40,
   "metadata": {},
   "outputs": [
    {
     "data": {
      "text/plain": [
       "set()"
      ]
     },
     "execution_count": 40,
     "metadata": {},
     "output_type": "execute_result"
    }
   ],
   "source": [
    "set(new_ids).intersection(set(prev_ids))\n",
    "\n",
    "# none of the new_ids were already labeled in the previous training set"
   ]
  },
  {
   "cell_type": "code",
   "execution_count": 18,
   "metadata": {},
   "outputs": [],
   "source": [
    "temp = df[df[\"PROJECT_ID\"] == \"1079688\"]"
   ]
  },
  {
   "cell_type": "code",
   "execution_count": 23,
   "metadata": {},
   "outputs": [
    {
     "data": {
      "text/plain": [
       "'PROJECT\\xa0\\xa0SUMMARY\\xa0There\\xa0 are\\xa0 limited\\xa0 formal\\xa0 opportunities\\xa0 for\\xa0 biomedical\\xa0 and\\xa0 health\\xa0 science\\xa0 trainees\\xa0 to\\xa0 acquire\\xa0 essential\\xa0 data\\xa0science\\xa0 skills.\\xa0 Along\\xa0 with\\xa0 the\\xa0 growth\\xa0 in\\xa0 biomedical\\xa0 and\\xa0 health\\xa0 data,\\xa0 there\\xa0 will\\xa0 be\\xa0 a\\xa0 need\\xa0 for\\xa0 researchers\\xa0 to\\xa0develop\\xa0 approaches\\xa0 for\\xa0 leveraging\\xa0 them\\xa0 to\\xa0discover\\xa0and\\xa0validate\\xa0hypotheses.\\xa0The\\xa0Training\\xa0and\\xa0Teaching\\xa0for\\xa0Transforming\\xa0 Big\\xa0 Data\\xa0 to\\xa0 Knowledge\\xa0 (T3BD2K)\\xa0 Initiative\\xa0 will\\xa0 address\\xa0 these\\xa0 needs\\xa0 by:\\xa0 (1)\\xa0 Developing\\xa0 a\\xa0ten\\xadweek\\xa0 short\\xa0 course\\xa0 to\\xa0 teach\\xa0 pragmatic\\xa0 data\\xa0 science\\xa0 skills;\\xa0 and\\xa0 (2)\\xa0 Coordinating\\xa0 data\\xa0 science\\xa0 education\\xa0across\\xa0 training\\xa0 programs\\xa0 in\\xa0 Rhode\\xa0 Island.\\xa0 The\\xa0 T3BD2K\\xa0Initiative\\xa0will\\xa0directly\\xa0impact\\xa0all\\xa0currently\\xa0funded\\xa0NIH\\xa0training\\xa0 programs\\xa0 and\\xa0 be\\xa0 developed\\xa0 synergistically\\xa0 with\\xa0 the\\xa0 Data\\xa0 Science\\xa0 Initiative\\xa0 at\\xa0 Brown\\xa0 University.\\xa0 A\\xa0significant\\xa0 artifact\\xa0 of\\xa0 this\\xa0 training\\xa0 program\\xa0 will\\xa0 be\\xa0 a\\xa0 publicly\\xa0 available\\xa0 curriculum\\xa0 and\\xa0 associated\\xa0 teaching\\xa0materials\\xa0 aimed\\xa0 at\\xa0 biomedical\\xa0 trainees\\xa0 for\\xa0 providing\\xa0 pragmatic\\xa0 training\\xa0 in\\xa0 biomedical\\xa0 informatics\\xa0 and\\xa0 data\\xa0science\\xa0 (e.g.,\\xa0 biostatistics,\\xa0 computer\\xa0 science,\\xa0 and\\xa0applied\\xa0mathematics),\\xa0alongside\\xa0fundamental\\xa0principles\\xa0of\\xa0team\\xa0science,\\xa0that\\xa0could\\xa0be\\xa0utilized\\xa0by\\xa0students\\xa0nationally.\\xa0All\\xa0course\\xa0materials\\xa0will\\xa0be\\xa0made\\xa0available\\xa0using\\xa0a\\xa0Creative\\xa0Commons\\xa0CC\\xadBY\\xad4.0\\xa0license,\\xa0and\\xa0made\\xa0available\\xa0through\\xa0publicly\\xa0accessible\\xa0systems\\xa0(GitBooks\\xa0and\\xa0GitHub).\\xa0 Additionally,\\xa0 all\\xa0 lectures\\xa0 will\\xa0 be\\xa0 video\\xa0 captured,\\xa0 with\\xa0the\\xa0goal\\xa0of\\xa0transitioning\\xa0a\\xa0traditional\\xa0format\\xa0mode\\xa0for\\xa0 teaching\\xa0 the\\xa0 course\\xa0 to\\xa0 a\\xa0 “flipped”\\xa0 classroom.\\xa0 The\\xa0 course\\xa0 will\\xa0 culminate\\xa0 in\\xa0 a\\xa0 symposium\\xa0that\\xa0showcases\\xa0participants\\xa0applications\\xa0of\\xa0data\\xa0science\\xa0in\\xa0biomedical\\xa0and\\xa0health\\xa0contexts,\\xa0with\\xa0project\\xa0abstracts,\\xa0posters,\\xa0and\\xa0oral\\xa0 presentations\\xa0 being\\xa0 made\\xa0 available\\xa0 through\\xa0 a\\xa0 publicly\\xa0 accessible\\xa0 data\\xa0 repository\\xa0 that\\xa0 is\\xa0 maintained\\xa0 by\\xa0Brown\\xa0 University\\xa0 (the\\xa0 Brown\\xa0 Digital\\xa0 Repository\\xa0 [BDR]).\\xa0 The\\xa0 overall\\xa0 success\\xa0 of\\xa0 the\\xa0 T3BD2K\\xa0Initiative\\xa0will\\xa0be\\xa0poised\\xa0to\\xa0transform\\xa0pragmatic\\xa0data\\xa0science\\xa0training\\xa0and\\xa0teaching\\xa0in\\xa0Rhode\\xa0Island,\\xa0with\\xa0the\\xa0potential\\xa0to\\xa0inform\\xa0biomedical\\xa0\\xa0data\\xa0\\xa0scientist\\xa0\\xa0training\\xa0\\xa0nationally.'"
      ]
     },
     "execution_count": 23,
     "metadata": {},
     "output_type": "execute_result"
    }
   ],
   "source": [
    "temp[\"ABSTRACT\"].iloc[0]"
   ]
  },
  {
   "cell_type": "code",
   "execution_count": null,
   "metadata": {},
   "outputs": [],
   "source": []
  },
  {
   "cell_type": "code",
   "execution_count": null,
   "metadata": {},
   "outputs": [],
   "source": []
  },
  {
   "cell_type": "code",
   "execution_count": 41,
   "metadata": {},
   "outputs": [
    {
     "data": {
      "text/plain": [
       "400"
      ]
     },
     "execution_count": 41,
     "metadata": {},
     "output_type": "execute_result"
    }
   ],
   "source": [
    "# create CSV of new_id abstracts\n",
    "\n",
    "new_train_df = df[ df[\"PROJECT_ID\"].isin(new_ids) ]\n",
    "len(new_train_df)"
   ]
  },
  {
   "cell_type": "code",
   "execution_count": 42,
   "metadata": {},
   "outputs": [
    {
     "data": {
      "text/html": [
       "<div>\n",
       "<style scoped>\n",
       "    .dataframe tbody tr th:only-of-type {\n",
       "        vertical-align: middle;\n",
       "    }\n",
       "\n",
       "    .dataframe tbody tr th {\n",
       "        vertical-align: top;\n",
       "    }\n",
       "\n",
       "    .dataframe thead th {\n",
       "        text-align: right;\n",
       "    }\n",
       "</style>\n",
       "<table border=\"1\" class=\"dataframe\">\n",
       "  <thead>\n",
       "    <tr style=\"text-align: right;\">\n",
       "      <th></th>\n",
       "      <th>PROJECT_ID</th>\n",
       "      <th>ABSTRACT</th>\n",
       "      <th>PROJECT_TERMS</th>\n",
       "      <th>PROJECT_TITLE</th>\n",
       "      <th>DEPARTMENT</th>\n",
       "      <th>AGENCY</th>\n",
       "      <th>IC_CENTER</th>\n",
       "      <th>PROJECT_NUMBER</th>\n",
       "      <th>PROJECT_START_DATE</th>\n",
       "      <th>PROJECT_END_DATE</th>\n",
       "      <th>...</th>\n",
       "      <th>BUDGET_END_DATE</th>\n",
       "      <th>CFDA_CODE</th>\n",
       "      <th>FY</th>\n",
       "      <th>FY_TOTAL_COST</th>\n",
       "      <th>FY_TOTAL_COST_SUB_PROJECTS</th>\n",
       "      <th>ORG_COUNT</th>\n",
       "      <th>PI_COUNT</th>\n",
       "      <th>FY_TOTAL_COST_SUM</th>\n",
       "      <th>NUM_RECORDS</th>\n",
       "      <th>final_tokens</th>\n",
       "    </tr>\n",
       "  </thead>\n",
       "  <tbody>\n",
       "    <tr>\n",
       "      <th>373</th>\n",
       "      <td>90145</td>\n",
       "      <td>Scientists and supporters of science have long...</td>\n",
       "      <td>Address; American Indians; Biological Models; ...</td>\n",
       "      <td>COLLABORATIVE RESEARCH: AOC: MONITORING, MODEL...</td>\n",
       "      <td>NSF</td>\n",
       "      <td>NSF</td>\n",
       "      <td>NaN</td>\n",
       "      <td>0827333</td>\n",
       "      <td>10/1/2008</td>\n",
       "      <td>9/30/2011</td>\n",
       "      <td>...</td>\n",
       "      <td>NaN</td>\n",
       "      <td>47.075</td>\n",
       "      <td>2008</td>\n",
       "      <td>193905.0</td>\n",
       "      <td>NaN</td>\n",
       "      <td>3</td>\n",
       "      <td>3</td>\n",
       "      <td>1220851.0</td>\n",
       "      <td>3</td>\n",
       "      <td>scientist supporter science long work improve ...</td>\n",
       "    </tr>\n",
       "    <tr>\n",
       "      <th>672</th>\n",
       "      <td>90761</td>\n",
       "      <td>ENABLING MASSIVE SCIENTIFIC DATABASES THROUGH ...</td>\n",
       "      <td>Data Set; Databases; design; simulation</td>\n",
       "      <td>''ENABLING MASSIVE SCIENTIFIC DATABASES THROUG...</td>\n",
       "      <td>NASA</td>\n",
       "      <td>NASA</td>\n",
       "      <td>NaN</td>\n",
       "      <td>NNX08AY72G</td>\n",
       "      <td>8/1/2008</td>\n",
       "      <td>1/21/2011</td>\n",
       "      <td>...</td>\n",
       "      <td>NaN</td>\n",
       "      <td>43.001</td>\n",
       "      <td>2008</td>\n",
       "      <td>159359.0</td>\n",
       "      <td>NaN</td>\n",
       "      <td>1</td>\n",
       "      <td>1</td>\n",
       "      <td>159359.0</td>\n",
       "      <td>1</td>\n",
       "      <td>enable massive scientific database automated s...</td>\n",
       "    </tr>\n",
       "    <tr>\n",
       "      <th>1387</th>\n",
       "      <td>91282</td>\n",
       "      <td>This project addresses an important unsolved p...</td>\n",
       "      <td>Address; base; Characteristics; design; Develo...</td>\n",
       "      <td>FINAL MASS LOSS ON THE AGB AND PLANETARY NEBUL...</td>\n",
       "      <td>NSF</td>\n",
       "      <td>NSF</td>\n",
       "      <td>NaN</td>\n",
       "      <td>0806910</td>\n",
       "      <td>8/15/2008</td>\n",
       "      <td>7/31/2012</td>\n",
       "      <td>...</td>\n",
       "      <td>NaN</td>\n",
       "      <td>47.049</td>\n",
       "      <td>2008</td>\n",
       "      <td>256305.0</td>\n",
       "      <td>NaN</td>\n",
       "      <td>1</td>\n",
       "      <td>1</td>\n",
       "      <td>256305.0</td>\n",
       "      <td>1</td>\n",
       "      <td>project address important unsolved problem evo...</td>\n",
       "    </tr>\n",
       "    <tr>\n",
       "      <th>1681</th>\n",
       "      <td>91610</td>\n",
       "      <td>Intellectual Merit:  This project implements P...</td>\n",
       "      <td>Archives; Climate; Communities; Data; Data Ana...</td>\n",
       "      <td>SEDDB, THE ONLINE INFORMATION SYSTEM FOR SEDIM...</td>\n",
       "      <td>NSF</td>\n",
       "      <td>NSF</td>\n",
       "      <td>NaN</td>\n",
       "      <td>0826197</td>\n",
       "      <td>9/1/2008</td>\n",
       "      <td>8/31/2011</td>\n",
       "      <td>...</td>\n",
       "      <td>NaN</td>\n",
       "      <td>47.050</td>\n",
       "      <td>2008</td>\n",
       "      <td>399123.0</td>\n",
       "      <td>NaN</td>\n",
       "      <td>1</td>\n",
       "      <td>1</td>\n",
       "      <td>399123.0</td>\n",
       "      <td>1</td>\n",
       "      <td>intellectual_merit project implement phase ii ...</td>\n",
       "    </tr>\n",
       "    <tr>\n",
       "      <th>1990</th>\n",
       "      <td>92217</td>\n",
       "      <td>ANALYSIS OF THE EMPLACEMENT OF THE MARE IMBRIU...</td>\n",
       "      <td>Investigation; Modeling; Moon</td>\n",
       "      <td>''ANALYSIS OF THE EMPLACEMENT OF THE MARE IMBR...</td>\n",
       "      <td>NASA</td>\n",
       "      <td>NASA</td>\n",
       "      <td>NaN</td>\n",
       "      <td>NNX08AY98G</td>\n",
       "      <td>11/1/2008</td>\n",
       "      <td>4/25/2011</td>\n",
       "      <td>...</td>\n",
       "      <td>NaN</td>\n",
       "      <td>43.001</td>\n",
       "      <td>2008</td>\n",
       "      <td>32499.0</td>\n",
       "      <td>NaN</td>\n",
       "      <td>1</td>\n",
       "      <td>1</td>\n",
       "      <td>32499.0</td>\n",
       "      <td>1</td>\n",
       "      <td>analysis emplacement mare imbrium lava_flow mo...</td>\n",
       "    </tr>\n",
       "  </tbody>\n",
       "</table>\n",
       "<p>5 rows × 30 columns</p>\n",
       "</div>"
      ],
      "text/plain": [
       "     PROJECT_ID                                           ABSTRACT  \\\n",
       "373       90145  Scientists and supporters of science have long...   \n",
       "672       90761  ENABLING MASSIVE SCIENTIFIC DATABASES THROUGH ...   \n",
       "1387      91282  This project addresses an important unsolved p...   \n",
       "1681      91610  Intellectual Merit:  This project implements P...   \n",
       "1990      92217  ANALYSIS OF THE EMPLACEMENT OF THE MARE IMBRIU...   \n",
       "\n",
       "                                          PROJECT_TERMS  \\\n",
       "373   Address; American Indians; Biological Models; ...   \n",
       "672             Data Set; Databases; design; simulation   \n",
       "1387  Address; base; Characteristics; design; Develo...   \n",
       "1681  Archives; Climate; Communities; Data; Data Ana...   \n",
       "1990                      Investigation; Modeling; Moon   \n",
       "\n",
       "                                          PROJECT_TITLE DEPARTMENT AGENCY  \\\n",
       "373   COLLABORATIVE RESEARCH: AOC: MONITORING, MODEL...        NSF    NSF   \n",
       "672   ''ENABLING MASSIVE SCIENTIFIC DATABASES THROUG...       NASA   NASA   \n",
       "1387  FINAL MASS LOSS ON THE AGB AND PLANETARY NEBUL...        NSF    NSF   \n",
       "1681  SEDDB, THE ONLINE INFORMATION SYSTEM FOR SEDIM...        NSF    NSF   \n",
       "1990  ''ANALYSIS OF THE EMPLACEMENT OF THE MARE IMBR...       NASA   NASA   \n",
       "\n",
       "     IC_CENTER PROJECT_NUMBER PROJECT_START_DATE PROJECT_END_DATE  ...  \\\n",
       "373        NaN        0827333          10/1/2008        9/30/2011  ...   \n",
       "672        NaN     NNX08AY72G           8/1/2008        1/21/2011  ...   \n",
       "1387       NaN        0806910          8/15/2008        7/31/2012  ...   \n",
       "1681       NaN        0826197           9/1/2008        8/31/2011  ...   \n",
       "1990       NaN     NNX08AY98G          11/1/2008        4/25/2011  ...   \n",
       "\n",
       "     BUDGET_END_DATE CFDA_CODE    FY FY_TOTAL_COST FY_TOTAL_COST_SUB_PROJECTS  \\\n",
       "373              NaN    47.075  2008      193905.0                        NaN   \n",
       "672              NaN    43.001  2008      159359.0                        NaN   \n",
       "1387             NaN    47.049  2008      256305.0                        NaN   \n",
       "1681             NaN    47.050  2008      399123.0                        NaN   \n",
       "1990             NaN    43.001  2008       32499.0                        NaN   \n",
       "\n",
       "     ORG_COUNT PI_COUNT FY_TOTAL_COST_SUM NUM_RECORDS  \\\n",
       "373          3        3         1220851.0           3   \n",
       "672          1        1          159359.0           1   \n",
       "1387         1        1          256305.0           1   \n",
       "1681         1        1          399123.0           1   \n",
       "1990         1        1           32499.0           1   \n",
       "\n",
       "                                           final_tokens  \n",
       "373   scientist supporter science long work improve ...  \n",
       "672   enable massive scientific database automated s...  \n",
       "1387  project address important unsolved problem evo...  \n",
       "1681  intellectual_merit project implement phase ii ...  \n",
       "1990  analysis emplacement mare imbrium lava_flow mo...  \n",
       "\n",
       "[5 rows x 30 columns]"
      ]
     },
     "execution_count": 42,
     "metadata": {},
     "output_type": "execute_result"
    }
   ],
   "source": [
    "new_train_df.head()"
   ]
  },
  {
   "cell_type": "code",
   "execution_count": 43,
   "metadata": {},
   "outputs": [],
   "source": [
    "csv_df = new_train_df[[\"PROJECT_ID\", \"ABSTRACT\"]]"
   ]
  },
  {
   "cell_type": "code",
   "execution_count": 44,
   "metadata": {},
   "outputs": [
    {
     "name": "stderr",
     "output_type": "stream",
     "text": [
      "/home/kjl5t/.local/lib/python3.8/site-packages/pandas/core/frame.py:3607: SettingWithCopyWarning: \n",
      "A value is trying to be set on a copy of a slice from a DataFrame.\n",
      "Try using .loc[row_indexer,col_indexer] = value instead\n",
      "\n",
      "See the caveats in the documentation: https://pandas.pydata.org/pandas-docs/stable/user_guide/indexing.html#returning-a-view-versus-a-copy\n",
      "  self._set_item(key, value)\n"
     ]
    }
   ],
   "source": [
    "csv_df[\"big data (1) or not big data (0)\"] = \"\""
   ]
  },
  {
   "cell_type": "code",
   "execution_count": 45,
   "metadata": {},
   "outputs": [],
   "source": [
    "csv_df[\"Labeler Name\"] = \"\""
   ]
  },
  {
   "cell_type": "code",
   "execution_count": 46,
   "metadata": {},
   "outputs": [
    {
     "data": {
      "text/html": [
       "<div>\n",
       "<style scoped>\n",
       "    .dataframe tbody tr th:only-of-type {\n",
       "        vertical-align: middle;\n",
       "    }\n",
       "\n",
       "    .dataframe tbody tr th {\n",
       "        vertical-align: top;\n",
       "    }\n",
       "\n",
       "    .dataframe thead th {\n",
       "        text-align: right;\n",
       "    }\n",
       "</style>\n",
       "<table border=\"1\" class=\"dataframe\">\n",
       "  <thead>\n",
       "    <tr style=\"text-align: right;\">\n",
       "      <th></th>\n",
       "      <th>PROJECT_ID</th>\n",
       "      <th>ABSTRACT</th>\n",
       "      <th>big data (1) or not big data (0)</th>\n",
       "      <th>Labeler Name</th>\n",
       "    </tr>\n",
       "  </thead>\n",
       "  <tbody>\n",
       "    <tr>\n",
       "      <th>373</th>\n",
       "      <td>90145</td>\n",
       "      <td>Scientists and supporters of science have long...</td>\n",
       "      <td></td>\n",
       "      <td></td>\n",
       "    </tr>\n",
       "    <tr>\n",
       "      <th>672</th>\n",
       "      <td>90761</td>\n",
       "      <td>ENABLING MASSIVE SCIENTIFIC DATABASES THROUGH ...</td>\n",
       "      <td></td>\n",
       "      <td></td>\n",
       "    </tr>\n",
       "    <tr>\n",
       "      <th>1387</th>\n",
       "      <td>91282</td>\n",
       "      <td>This project addresses an important unsolved p...</td>\n",
       "      <td></td>\n",
       "      <td></td>\n",
       "    </tr>\n",
       "    <tr>\n",
       "      <th>1681</th>\n",
       "      <td>91610</td>\n",
       "      <td>Intellectual Merit:  This project implements P...</td>\n",
       "      <td></td>\n",
       "      <td></td>\n",
       "    </tr>\n",
       "    <tr>\n",
       "      <th>1990</th>\n",
       "      <td>92217</td>\n",
       "      <td>ANALYSIS OF THE EMPLACEMENT OF THE MARE IMBRIU...</td>\n",
       "      <td></td>\n",
       "      <td></td>\n",
       "    </tr>\n",
       "  </tbody>\n",
       "</table>\n",
       "</div>"
      ],
      "text/plain": [
       "     PROJECT_ID                                           ABSTRACT  \\\n",
       "373       90145  Scientists and supporters of science have long...   \n",
       "672       90761  ENABLING MASSIVE SCIENTIFIC DATABASES THROUGH ...   \n",
       "1387      91282  This project addresses an important unsolved p...   \n",
       "1681      91610  Intellectual Merit:  This project implements P...   \n",
       "1990      92217  ANALYSIS OF THE EMPLACEMENT OF THE MARE IMBRIU...   \n",
       "\n",
       "     big data (1) or not big data (0) Labeler Name  \n",
       "373                                                 \n",
       "672                                                 \n",
       "1387                                                \n",
       "1681                                                \n",
       "1990                                                "
      ]
     },
     "execution_count": 46,
     "metadata": {},
     "output_type": "execute_result"
    }
   ],
   "source": [
    "csv_df.head()"
   ]
  },
  {
   "cell_type": "code",
   "execution_count": 47,
   "metadata": {},
   "outputs": [],
   "source": [
    "csv_df.to_csv(\"new_big_data_abstract_labeling.csv\", index=False)"
   ]
  },
  {
   "cell_type": "code",
   "execution_count": null,
   "metadata": {},
   "outputs": [],
   "source": []
  },
  {
   "cell_type": "code",
   "execution_count": 48,
   "metadata": {},
   "outputs": [
    {
     "data": {
      "text/plain": [
       "list"
      ]
     },
     "execution_count": 48,
     "metadata": {},
     "output_type": "execute_result"
    }
   ],
   "source": [
    "# save new_ids for training\n",
    "\n",
    "type(new_ids)"
   ]
  },
  {
   "cell_type": "code",
   "execution_count": 51,
   "metadata": {},
   "outputs": [],
   "source": [
    "new_ids_df = pd.DataFrame(new_ids, columns=[\"PROJECT_ID\"])"
   ]
  },
  {
   "cell_type": "code",
   "execution_count": 52,
   "metadata": {},
   "outputs": [
    {
     "data": {
      "text/html": [
       "<div>\n",
       "<style scoped>\n",
       "    .dataframe tbody tr th:only-of-type {\n",
       "        vertical-align: middle;\n",
       "    }\n",
       "\n",
       "    .dataframe tbody tr th {\n",
       "        vertical-align: top;\n",
       "    }\n",
       "\n",
       "    .dataframe thead th {\n",
       "        text-align: right;\n",
       "    }\n",
       "</style>\n",
       "<table border=\"1\" class=\"dataframe\">\n",
       "  <thead>\n",
       "    <tr style=\"text-align: right;\">\n",
       "      <th></th>\n",
       "      <th>PROJECT_ID</th>\n",
       "    </tr>\n",
       "  </thead>\n",
       "  <tbody>\n",
       "    <tr>\n",
       "      <th>0</th>\n",
       "      <td>1096641</td>\n",
       "    </tr>\n",
       "    <tr>\n",
       "      <th>1</th>\n",
       "      <td>466894</td>\n",
       "    </tr>\n",
       "    <tr>\n",
       "      <th>2</th>\n",
       "      <td>1285271</td>\n",
       "    </tr>\n",
       "    <tr>\n",
       "      <th>3</th>\n",
       "      <td>797163</td>\n",
       "    </tr>\n",
       "    <tr>\n",
       "      <th>4</th>\n",
       "      <td>1277212</td>\n",
       "    </tr>\n",
       "  </tbody>\n",
       "</table>\n",
       "</div>"
      ],
      "text/plain": [
       "  PROJECT_ID\n",
       "0    1096641\n",
       "1     466894\n",
       "2    1285271\n",
       "3     797163\n",
       "4    1277212"
      ]
     },
     "execution_count": 52,
     "metadata": {},
     "output_type": "execute_result"
    }
   ],
   "source": [
    "new_ids_df.head()"
   ]
  },
  {
   "cell_type": "code",
   "execution_count": 53,
   "metadata": {},
   "outputs": [],
   "source": [
    "new_ids_df.to_csv(\"additional_ids.csv\", index=False)"
   ]
  },
  {
   "cell_type": "code",
   "execution_count": null,
   "metadata": {},
   "outputs": [],
   "source": []
  }
 ],
 "metadata": {
  "kernelspec": {
   "display_name": "Python 3.8",
   "language": "python",
   "name": "python-3.8"
  },
  "language_info": {
   "codemirror_mode": {
    "name": "ipython",
    "version": 3
   },
   "file_extension": ".py",
   "mimetype": "text/x-python",
   "name": "python",
   "nbconvert_exporter": "python",
   "pygments_lexer": "ipython3",
   "version": "3.8.8"
  }
 },
 "nbformat": 4,
 "nbformat_minor": 4
}
