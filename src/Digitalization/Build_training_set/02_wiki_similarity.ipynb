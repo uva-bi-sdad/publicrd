{
 "cells": [
  {
   "cell_type": "markdown",
   "metadata": {},
   "source": [
    "#### Test sentence-transformers with Wikipedia Big Data classification approach "
   ]
  },
  {
   "cell_type": "code",
   "execution_count": 1,
   "metadata": {},
   "outputs": [],
   "source": [
    "import wikipedia\n",
    "import pandas as pd\n",
    "import numpy as np\n",
    "import matplotlib.pyplot as plt\n",
    "\n",
    "from sentence_transformers import SentenceTransformer\n",
    "from sklearn.metrics.pairwise import cosine_similarity"
   ]
  },
  {
   "cell_type": "markdown",
   "metadata": {},
   "source": [
    "##### Get Wiki Big Data Summary and embed"
   ]
  },
  {
   "cell_type": "code",
   "execution_count": 2,
   "metadata": {},
   "outputs": [
    {
     "name": "stdout",
     "output_type": "stream",
     "text": [
      "['Big data', 'Big Data (band)', 'Data', 'Data science', 'Big data ethics', 'List of big data companies', 'Data lake', 'Data mining', 'Streaming data', 'Data analysis']\n"
     ]
    }
   ],
   "source": [
    "print(wikipedia.search(\"big data\"))"
   ]
  },
  {
   "cell_type": "code",
   "execution_count": 3,
   "metadata": {},
   "outputs": [
    {
     "name": "stdout",
     "output_type": "stream",
     "text": [
      "Though used sometimes loosely partly because of a lack of formal definition, the interpretation that\n"
     ]
    }
   ],
   "source": [
    "big_data_wiki_text = wikipedia.summary(\"Big data\")  # downloaded on Nov 15-17\n",
    "print(big_data_wiki_text[0:100])"
   ]
  },
  {
   "cell_type": "code",
   "execution_count": 4,
   "metadata": {},
   "outputs": [],
   "source": [
    "#model = SentenceTransformer('bert-base-nli-mean-tokens')\n",
    "model = SentenceTransformer('all-MiniLM-L6-v2')"
   ]
  },
  {
   "cell_type": "code",
   "execution_count": 5,
   "metadata": {},
   "outputs": [
    {
     "name": "stdout",
     "output_type": "stream",
     "text": [
      "(384,)\n"
     ]
    }
   ],
   "source": [
    "wiki_embed = model.encode(big_data_wiki_text)\n",
    "print(wiki_embed.shape)"
   ]
  },
  {
   "cell_type": "code",
   "execution_count": null,
   "metadata": {},
   "outputs": [],
   "source": []
  },
  {
   "cell_type": "code",
   "execution_count": null,
   "metadata": {},
   "outputs": [],
   "source": []
  },
  {
   "cell_type": "markdown",
   "metadata": {},
   "source": [
    "##### Read in Federal RePORTER abstracts and embed"
   ]
  },
  {
   "cell_type": "code",
   "execution_count": 7,
   "metadata": {},
   "outputs": [
    {
     "name": "stdout",
     "output_type": "stream",
     "text": [
      "(1143869, 30)\n"
     ]
    }
   ],
   "source": [
    "# pull in data\n",
    "df = pd.read_pickle(\"../../../../data/prd/Paper/FR_meta_and_final_tokens_23DEC21.pkl\")\n",
    "df.reset_index(inplace = True, drop = True)\n",
    "\n",
    "print(df.shape)"
   ]
  },
  {
   "cell_type": "code",
   "execution_count": 8,
   "metadata": {},
   "outputs": [
    {
     "data": {
      "text/html": [
       "<div>\n",
       "<style scoped>\n",
       "    .dataframe tbody tr th:only-of-type {\n",
       "        vertical-align: middle;\n",
       "    }\n",
       "\n",
       "    .dataframe tbody tr th {\n",
       "        vertical-align: top;\n",
       "    }\n",
       "\n",
       "    .dataframe thead th {\n",
       "        text-align: right;\n",
       "    }\n",
       "</style>\n",
       "<table border=\"1\" class=\"dataframe\">\n",
       "  <thead>\n",
       "    <tr style=\"text-align: right;\">\n",
       "      <th></th>\n",
       "      <th>PROJECT_ID</th>\n",
       "      <th>ABSTRACT</th>\n",
       "      <th>PROJECT_TERMS</th>\n",
       "      <th>PROJECT_TITLE</th>\n",
       "      <th>DEPARTMENT</th>\n",
       "      <th>AGENCY</th>\n",
       "      <th>IC_CENTER</th>\n",
       "      <th>PROJECT_NUMBER</th>\n",
       "      <th>PROJECT_START_DATE</th>\n",
       "      <th>PROJECT_END_DATE</th>\n",
       "      <th>...</th>\n",
       "      <th>BUDGET_END_DATE</th>\n",
       "      <th>CFDA_CODE</th>\n",
       "      <th>FY</th>\n",
       "      <th>FY_TOTAL_COST</th>\n",
       "      <th>FY_TOTAL_COST_SUB_PROJECTS</th>\n",
       "      <th>ORG_COUNT</th>\n",
       "      <th>PI_COUNT</th>\n",
       "      <th>FY_TOTAL_COST_SUM</th>\n",
       "      <th>NUM_RECORDS</th>\n",
       "      <th>final_tokens</th>\n",
       "    </tr>\n",
       "  </thead>\n",
       "  <tbody>\n",
       "    <tr>\n",
       "      <th>0</th>\n",
       "      <td>89996</td>\n",
       "      <td>This is a project to explore Game-based, Metap...</td>\n",
       "      <td>Achievement; analog; base; Cognitive Science; ...</td>\n",
       "      <td>RUI: CYGAMES: CYBER-ENABLED TEACHING AND LEARN...</td>\n",
       "      <td>NSF</td>\n",
       "      <td>NSF</td>\n",
       "      <td>NaN</td>\n",
       "      <td>0814512</td>\n",
       "      <td>9/15/2008</td>\n",
       "      <td>8/31/2012</td>\n",
       "      <td>...</td>\n",
       "      <td>NaN</td>\n",
       "      <td>47.076</td>\n",
       "      <td>2008</td>\n",
       "      <td>1999467.0</td>\n",
       "      <td>NaN</td>\n",
       "      <td>1</td>\n",
       "      <td>1</td>\n",
       "      <td>1999467.0</td>\n",
       "      <td>1</td>\n",
       "      <td>project explore game base metaphor enhanced ga...</td>\n",
       "    </tr>\n",
       "    <tr>\n",
       "      <th>1</th>\n",
       "      <td>89997</td>\n",
       "      <td>Institution: Franklin Institute Science Museum...</td>\n",
       "      <td>Active Learning; Child; Computer software; des...</td>\n",
       "      <td>ARIEL - AUGMENTED REALITY FOR INTERPRETIVE AND...</td>\n",
       "      <td>NSF</td>\n",
       "      <td>NSF</td>\n",
       "      <td>NaN</td>\n",
       "      <td>0741659</td>\n",
       "      <td>9/15/2008</td>\n",
       "      <td>8/31/2012</td>\n",
       "      <td>...</td>\n",
       "      <td>NaN</td>\n",
       "      <td>47.076</td>\n",
       "      <td>2008</td>\n",
       "      <td>1799699.0</td>\n",
       "      <td>NaN</td>\n",
       "      <td>1</td>\n",
       "      <td>1</td>\n",
       "      <td>1799699.0</td>\n",
       "      <td>1</td>\n",
       "      <td>institution franklin institute science museum ...</td>\n",
       "    </tr>\n",
       "    <tr>\n",
       "      <th>2</th>\n",
       "      <td>89998</td>\n",
       "      <td>Through programs (including small group conver...</td>\n",
       "      <td>Address; Age; Birth; Brain; Caregivers; Child;...</td>\n",
       "      <td>BRIGHTER FUTURES: PUBLIC DELIBERATION ABOUT TH...</td>\n",
       "      <td>NSF</td>\n",
       "      <td>NSF</td>\n",
       "      <td>NaN</td>\n",
       "      <td>0813522</td>\n",
       "      <td>9/15/2008</td>\n",
       "      <td>8/31/2011</td>\n",
       "      <td>...</td>\n",
       "      <td>NaN</td>\n",
       "      <td>47.076</td>\n",
       "      <td>2008</td>\n",
       "      <td>1505858.0</td>\n",
       "      <td>NaN</td>\n",
       "      <td>1</td>\n",
       "      <td>1</td>\n",
       "      <td>1505858.0</td>\n",
       "      <td>1</td>\n",
       "      <td>program include small group conversation citiz...</td>\n",
       "    </tr>\n",
       "    <tr>\n",
       "      <th>3</th>\n",
       "      <td>89999</td>\n",
       "      <td>In partnership with the American Chemical Soci...</td>\n",
       "      <td>Advanced Development; American; Chemicals; Che...</td>\n",
       "      <td>FOSTERING US-INTERNATIONAL COLLABORATIVE PARTN...</td>\n",
       "      <td>NSF</td>\n",
       "      <td>NSF</td>\n",
       "      <td>NaN</td>\n",
       "      <td>0838627</td>\n",
       "      <td>8/1/2008</td>\n",
       "      <td>12/31/2010</td>\n",
       "      <td>...</td>\n",
       "      <td>NaN</td>\n",
       "      <td>47.049</td>\n",
       "      <td>2008</td>\n",
       "      <td>51000.0</td>\n",
       "      <td>NaN</td>\n",
       "      <td>1</td>\n",
       "      <td>1</td>\n",
       "      <td>51000.0</td>\n",
       "      <td>1</td>\n",
       "      <td>partnership american chemical society acs nati...</td>\n",
       "    </tr>\n",
       "    <tr>\n",
       "      <th>4</th>\n",
       "      <td>90001</td>\n",
       "      <td>The Center for Molecular Interfacing (CMI) wil...</td>\n",
       "      <td>Address; Architecture; Carbon Nanotubes; Catal...</td>\n",
       "      <td>CCI PHASE I: CENTER FOR MOLECULAR INTERFACING</td>\n",
       "      <td>NSF</td>\n",
       "      <td>NSF</td>\n",
       "      <td>NaN</td>\n",
       "      <td>0847926</td>\n",
       "      <td>10/1/2008</td>\n",
       "      <td>9/30/2011</td>\n",
       "      <td>...</td>\n",
       "      <td>NaN</td>\n",
       "      <td>47.049</td>\n",
       "      <td>2008</td>\n",
       "      <td>1519821.0</td>\n",
       "      <td>NaN</td>\n",
       "      <td>1</td>\n",
       "      <td>1</td>\n",
       "      <td>1519821.0</td>\n",
       "      <td>1</td>\n",
       "      <td>center molecular interfacing cmi enable integr...</td>\n",
       "    </tr>\n",
       "  </tbody>\n",
       "</table>\n",
       "<p>5 rows × 30 columns</p>\n",
       "</div>"
      ],
      "text/plain": [
       "  PROJECT_ID                                           ABSTRACT  \\\n",
       "0      89996  This is a project to explore Game-based, Metap...   \n",
       "1      89997  Institution: Franklin Institute Science Museum...   \n",
       "2      89998  Through programs (including small group conver...   \n",
       "3      89999  In partnership with the American Chemical Soci...   \n",
       "4      90001  The Center for Molecular Interfacing (CMI) wil...   \n",
       "\n",
       "                                       PROJECT_TERMS  \\\n",
       "0  Achievement; analog; base; Cognitive Science; ...   \n",
       "1  Active Learning; Child; Computer software; des...   \n",
       "2  Address; Age; Birth; Brain; Caregivers; Child;...   \n",
       "3  Advanced Development; American; Chemicals; Che...   \n",
       "4  Address; Architecture; Carbon Nanotubes; Catal...   \n",
       "\n",
       "                                       PROJECT_TITLE DEPARTMENT AGENCY  \\\n",
       "0  RUI: CYGAMES: CYBER-ENABLED TEACHING AND LEARN...        NSF    NSF   \n",
       "1  ARIEL - AUGMENTED REALITY FOR INTERPRETIVE AND...        NSF    NSF   \n",
       "2  BRIGHTER FUTURES: PUBLIC DELIBERATION ABOUT TH...        NSF    NSF   \n",
       "3  FOSTERING US-INTERNATIONAL COLLABORATIVE PARTN...        NSF    NSF   \n",
       "4      CCI PHASE I: CENTER FOR MOLECULAR INTERFACING        NSF    NSF   \n",
       "\n",
       "  IC_CENTER PROJECT_NUMBER PROJECT_START_DATE PROJECT_END_DATE  ...  \\\n",
       "0       NaN        0814512          9/15/2008        8/31/2012  ...   \n",
       "1       NaN        0741659          9/15/2008        8/31/2012  ...   \n",
       "2       NaN        0813522          9/15/2008        8/31/2011  ...   \n",
       "3       NaN        0838627           8/1/2008       12/31/2010  ...   \n",
       "4       NaN        0847926          10/1/2008        9/30/2011  ...   \n",
       "\n",
       "  BUDGET_END_DATE CFDA_CODE    FY FY_TOTAL_COST FY_TOTAL_COST_SUB_PROJECTS  \\\n",
       "0             NaN    47.076  2008     1999467.0                        NaN   \n",
       "1             NaN    47.076  2008     1799699.0                        NaN   \n",
       "2             NaN    47.076  2008     1505858.0                        NaN   \n",
       "3             NaN    47.049  2008       51000.0                        NaN   \n",
       "4             NaN    47.049  2008     1519821.0                        NaN   \n",
       "\n",
       "  ORG_COUNT PI_COUNT FY_TOTAL_COST_SUM NUM_RECORDS  \\\n",
       "0         1        1         1999467.0           1   \n",
       "1         1        1         1799699.0           1   \n",
       "2         1        1         1505858.0           1   \n",
       "3         1        1           51000.0           1   \n",
       "4         1        1         1519821.0           1   \n",
       "\n",
       "                                        final_tokens  \n",
       "0  project explore game base metaphor enhanced ga...  \n",
       "1  institution franklin institute science museum ...  \n",
       "2  program include small group conversation citiz...  \n",
       "3  partnership american chemical society acs nati...  \n",
       "4  center molecular interfacing cmi enable integr...  \n",
       "\n",
       "[5 rows x 30 columns]"
      ]
     },
     "execution_count": 8,
     "metadata": {},
     "output_type": "execute_result"
    }
   ],
   "source": [
    "df.head()"
   ]
  },
  {
   "cell_type": "code",
   "execution_count": null,
   "metadata": {},
   "outputs": [],
   "source": []
  },
  {
   "cell_type": "markdown",
   "metadata": {},
   "source": [
    "##### first test - can skip to reading in saved embeddings"
   ]
  },
  {
   "cell_type": "code",
   "execution_count": 58,
   "metadata": {},
   "outputs": [
    {
     "name": "stdout",
     "output_type": "stream",
     "text": [
      "(5000, 384)\n"
     ]
    }
   ],
   "source": [
    "# as a test, we will embed the first 5000 raw abstracts\n",
    "\n",
    "abstract_embeddings = model.encode(df['ABSTRACT'][0:5000])\n",
    "print(abstract_embeddings.shape)"
   ]
  },
  {
   "cell_type": "code",
   "execution_count": 15,
   "metadata": {},
   "outputs": [
    {
     "data": {
      "text/plain": [
       "array([[ 1.20384119e-01,  8.16156063e-03,  9.28894617e-03, ...,\n",
       "         5.32603897e-02, -3.88779342e-02,  3.57533023e-02],\n",
       "       [-5.72349830e-03, -2.37571988e-02,  3.68777220e-03, ...,\n",
       "        -3.38120833e-02, -8.12887624e-02,  9.24430788e-02],\n",
       "       [ 3.62169333e-02,  5.91664873e-02,  3.15182880e-02, ...,\n",
       "         1.69784054e-01, -6.89427108e-02,  5.73992133e-02],\n",
       "       ...,\n",
       "       [-1.75447818e-02, -7.06315786e-02,  3.27346213e-02, ...,\n",
       "        -5.89017719e-02, -3.39082219e-02, -1.95147435e-03],\n",
       "       [ 2.43563466e-02, -9.93201435e-02,  3.24729793e-02, ...,\n",
       "         1.23873286e-01, -1.32197383e-04, -3.90445478e-02],\n",
       "       [-9.14216191e-02, -8.69413391e-02,  1.05147087e-03, ...,\n",
       "         1.30271874e-02, -6.99800104e-02, -6.25943989e-02]], dtype=float32)"
      ]
     },
     "execution_count": 15,
     "metadata": {},
     "output_type": "execute_result"
    }
   ],
   "source": [
    "abstract_embeddings"
   ]
  },
  {
   "cell_type": "code",
   "execution_count": null,
   "metadata": {},
   "outputs": [],
   "source": []
  },
  {
   "cell_type": "markdown",
   "metadata": {},
   "source": [
    "##### Read in computed BERT embeddings"
   ]
  },
  {
   "cell_type": "code",
   "execution_count": 10,
   "metadata": {},
   "outputs": [],
   "source": [
    "# load BERT embeddings\n",
    "vector = pd.read_csv('../../../../data/prd/Doc2Vec/bert_final.csv')    "
   ]
  },
  {
   "cell_type": "code",
   "execution_count": 11,
   "metadata": {},
   "outputs": [
    {
     "data": {
      "text/plain": [
       "(1143869, 384)"
      ]
     },
     "execution_count": 11,
     "metadata": {},
     "output_type": "execute_result"
    }
   ],
   "source": [
    "vector.shape"
   ]
  },
  {
   "cell_type": "markdown",
   "metadata": {},
   "source": [
    "##### Calculate similarity between Big Data Wiki summary and abstracts"
   ]
  },
  {
   "cell_type": "code",
   "execution_count": 12,
   "metadata": {},
   "outputs": [],
   "source": [
    "scores = cosine_similarity(\n",
    "    [wiki_embed],\n",
    "    vector\n",
    ")\n",
    "#print(scores)"
   ]
  },
  {
   "cell_type": "code",
   "execution_count": 13,
   "metadata": {},
   "outputs": [
    {
     "data": {
      "text/plain": [
       "numpy.ndarray"
      ]
     },
     "execution_count": 13,
     "metadata": {},
     "output_type": "execute_result"
    }
   ],
   "source": [
    "type(scores)"
   ]
  },
  {
   "cell_type": "code",
   "execution_count": 14,
   "metadata": {},
   "outputs": [
    {
     "data": {
      "text/plain": [
       "0.7114261750430765"
      ]
     },
     "execution_count": 14,
     "metadata": {},
     "output_type": "execute_result"
    }
   ],
   "source": [
    "scores.max()"
   ]
  },
  {
   "cell_type": "code",
   "execution_count": 15,
   "metadata": {},
   "outputs": [
    {
     "data": {
      "text/plain": [
       "471976"
      ]
     },
     "execution_count": 15,
     "metadata": {},
     "output_type": "execute_result"
    }
   ],
   "source": [
    "np.argmax(scores)"
   ]
  },
  {
   "cell_type": "code",
   "execution_count": 16,
   "metadata": {},
   "outputs": [
    {
     "data": {
      "text/plain": [
       "'Big Data analytics requires bridging the gap between data-intensive computing and data-driven computing to obtain actionable insights. The former has primarily focused on optimizing data movement, reuse, organization and storage, while the latter has focused on hypothesis-driven, bottom-up data-to-discovery and the two fields have evolved somewhat independently. This exploratory project aims to investigate a holistic Ecosystem that optimizes data generation from simulations, sensors, or business processes (Transaction Step); organizes this data (possibly combining with other data) to enable reduction, pre-processing for downstream data analysis (Organization Step); performs knowledge discovery, learning and mining models from this data (Prediction Step); and leads to actions (e.g., refining models, new experiments, recommendation) (Feedback Step). Intellectual Merit: As opposed to the current practice of considering optimizations in each step in isolation, the project considers scalability and optimizations of the entire Ecosystem for big data analytics as part of the design strategy. The project aims to consider big data challenges in designing algorithms, software, analytics, and data management. This strategy contrasts with traditional approaches that first design algorithms for small data sizes and then scale them up. The project aims to treat data complexity, computational requirement, and data access patterns as a whole when designing and implementing algorithms, software and applications. Broader Impacts: The project could advance the state of the art in big data analytics across a number of key applications such as Climate Informatics and Social Media Analytics. The software resulting from the project is being made available to the broder scientific community under open source license. The project offers enhanced opportunities for education and training of graduate students and postdoctoral researchers at Northwestern University.'"
      ]
     },
     "execution_count": 16,
     "metadata": {},
     "output_type": "execute_result"
    }
   ],
   "source": [
    "df['ABSTRACT'][471976]"
   ]
  },
  {
   "cell_type": "code",
   "execution_count": 17,
   "metadata": {},
   "outputs": [
    {
     "data": {
      "text/plain": [
       "-0.1788268346582267"
      ]
     },
     "execution_count": 17,
     "metadata": {},
     "output_type": "execute_result"
    }
   ],
   "source": [
    "scores.min()"
   ]
  },
  {
   "cell_type": "code",
   "execution_count": 18,
   "metadata": {},
   "outputs": [
    {
     "data": {
      "text/plain": [
       "622052"
      ]
     },
     "execution_count": 18,
     "metadata": {},
     "output_type": "execute_result"
    }
   ],
   "source": [
    "np.argmin(scores)"
   ]
  },
  {
   "cell_type": "code",
   "execution_count": 19,
   "metadata": {},
   "outputs": [
    {
     "data": {
      "text/plain": [
       "'TECHNICAL SUMMARY:Novel ferroelectric behaviors, namely, narrow single and double polarization loops, have been observed in semicrystalline polar polymers and are promising for advanced electrical applications. Based on recent finding from poly(vinylidene fluoride)-based random copolymers, it is proposed that repeating-unit isomorphism having bulky comonomers inside ferroelectric crystals is an effective strategy to expand interchain distance and pin nanosized ferroelectric domains (i.e., nanodomains). In this proposal, the hypothesis of pinned nanodomains via crystal isomorphism is employed to rationally design new ferroelectric nylon copolymers and testify the working mechanism. First, nylon 11 random copolymers with various n-nylon comonomers will be synthesized to mismatch amide groups in the crystal, disrupting hydrogen-bonding interactions for enhanced ferroelectricity. Second, N- or C-methylation will be further employed in nylon 11 random copolymers to expand the interchain distance and facilitate faster dipole switching. Third, nanodomains will be pinned either physically (by larger comonomers) or chemically (by UV-crosslinkable comonomers) in ferroelectric nylon crystals to realize narrow polarization loops. If successful, this study will not only confirm the mechanism of pinned nanodomains responsible for novel ferroelectric behaviors, but also provide better polymeric materials for various electroactive applications.NON-TECHNICAL SUMMARY:Electroactive polymers with high field response are smart soft materials, which are highly attractive for numerous electrical applications in electrical energy storage, smart actuators/artificial muscles, and energy harvesting. However, comparing with electroactive ceramic materials, current electroactive polymers show inferior electric field responses. This impairs their usage in practical applications, despite the superior processability, light weight, and low-cost characteristics for polymers. Stimulated by recent research results, this project aims to realize a nanoconfinement effect on electric responsiveness of semicrystalline polar polymers via rational polymer design, synthesis, and electrical property characterization. If successful, these novel electroactive polymers will be able to achieve ultrahigh electric field responses and the above-mentioned applications will become practically feasible to benefit society. In addition to the scientific research activities, this project also provides a broad education and training platform for minority and under-represented high school students, and undergraduate and graduate young professionals. An interactive feedback educational theme, involving faculty members, graduate students, undergraduates and high school students, will be implemented and emphasized throughout the proposed project to enhance the awareness of nano-science and technology of polymers in the general community.'"
      ]
     },
     "execution_count": 19,
     "metadata": {},
     "output_type": "execute_result"
    }
   ],
   "source": [
    "df['ABSTRACT'][622052]"
   ]
  },
  {
   "cell_type": "code",
   "execution_count": null,
   "metadata": {},
   "outputs": [],
   "source": []
  },
  {
   "cell_type": "code",
   "execution_count": 18,
   "metadata": {},
   "outputs": [
    {
     "data": {
      "text/plain": [
       "(1, 1143869)"
      ]
     },
     "execution_count": 18,
     "metadata": {},
     "output_type": "execute_result"
    }
   ],
   "source": [
    "scores.shape"
   ]
  },
  {
   "cell_type": "code",
   "execution_count": 19,
   "metadata": {},
   "outputs": [
    {
     "data": {
      "text/plain": [
       "(1143869,)"
      ]
     },
     "execution_count": 19,
     "metadata": {},
     "output_type": "execute_result"
    }
   ],
   "source": [
    "scores[0].shape"
   ]
  },
  {
   "cell_type": "code",
   "execution_count": 20,
   "metadata": {},
   "outputs": [
    {
     "data": {
      "text/plain": [
       "array([ 0.1158897 ,  0.11239832,  0.07516901,  0.00435888, -0.00693279,\n",
       "        0.10332922,  0.12685726,  0.08216588,  0.08385753,  0.20399945])"
      ]
     },
     "execution_count": 20,
     "metadata": {},
     "output_type": "execute_result"
    }
   ],
   "source": [
    "scores[0][0:10]"
   ]
  },
  {
   "cell_type": "code",
   "execution_count": 21,
   "metadata": {},
   "outputs": [
    {
     "data": {
      "text/plain": [
       "Text(0, 0.5, 'Frequency')"
      ]
     },
     "execution_count": 21,
     "metadata": {},
     "output_type": "execute_result"
    },
    {
     "data": {
      "image/png": "[encoded data removed]",
      "text/plain": [
       "<Figure size 640x480 with 1 Axes>"
      ]
     },
     "metadata": {},
     "output_type": "display_data"
    }
   ],
   "source": [
    "plt.hist(scores[0], bins=30)\n",
    "plt.title('Cosine Similary between Abstracts and Big Data Wiki')\n",
    "plt.xlabel('Cosine Similarity Score')\n",
    "plt.ylabel('Frequency')\n",
    "#plt.savefig('wiki_sim.png')"
   ]
  },
  {
   "cell_type": "code",
   "execution_count": 22,
   "metadata": {},
   "outputs": [
    {
     "data": {
      "text/html": [
       "<div>\n",
       "<style scoped>\n",
       "    .dataframe tbody tr th:only-of-type {\n",
       "        vertical-align: middle;\n",
       "    }\n",
       "\n",
       "    .dataframe tbody tr th {\n",
       "        vertical-align: top;\n",
       "    }\n",
       "\n",
       "    .dataframe thead th {\n",
       "        text-align: right;\n",
       "    }\n",
       "</style>\n",
       "<table border=\"1\" class=\"dataframe\">\n",
       "  <thead>\n",
       "    <tr style=\"text-align: right;\">\n",
       "      <th></th>\n",
       "      <th>0</th>\n",
       "    </tr>\n",
       "  </thead>\n",
       "  <tbody>\n",
       "    <tr>\n",
       "      <th>count</th>\n",
       "      <td>1.143869e+06</td>\n",
       "    </tr>\n",
       "    <tr>\n",
       "      <th>mean</th>\n",
       "      <td>5.597372e-02</td>\n",
       "    </tr>\n",
       "    <tr>\n",
       "      <th>std</th>\n",
       "      <td>7.344299e-02</td>\n",
       "    </tr>\n",
       "    <tr>\n",
       "      <th>min</th>\n",
       "      <td>-2.028002e-01</td>\n",
       "    </tr>\n",
       "    <tr>\n",
       "      <th>25%</th>\n",
       "      <td>6.107218e-03</td>\n",
       "    </tr>\n",
       "    <tr>\n",
       "      <th>50%</th>\n",
       "      <td>5.014612e-02</td>\n",
       "    </tr>\n",
       "    <tr>\n",
       "      <th>75%</th>\n",
       "      <td>9.761767e-02</td>\n",
       "    </tr>\n",
       "    <tr>\n",
       "      <th>max</th>\n",
       "      <td>6.762191e-01</td>\n",
       "    </tr>\n",
       "  </tbody>\n",
       "</table>\n",
       "</div>"
      ],
      "text/plain": [
       "                  0\n",
       "count  1.143869e+06\n",
       "mean   5.597372e-02\n",
       "std    7.344299e-02\n",
       "min   -2.028002e-01\n",
       "25%    6.107218e-03\n",
       "50%    5.014612e-02\n",
       "75%    9.761767e-02\n",
       "max    6.762191e-01"
      ]
     },
     "execution_count": 22,
     "metadata": {},
     "output_type": "execute_result"
    }
   ],
   "source": [
    "scores_df = pd.DataFrame(scores[0])\n",
    "scores_df.describe()"
   ]
  },
  {
   "cell_type": "code",
   "execution_count": 23,
   "metadata": {},
   "outputs": [
    {
     "data": {
      "text/plain": [
       "0.4085942889627746"
      ]
     },
     "execution_count": 23,
     "metadata": {},
     "output_type": "execute_result"
    }
   ],
   "source": [
    "np.percentile(scores[0], 99.9)"
   ]
  },
  {
   "cell_type": "code",
   "execution_count": 24,
   "metadata": {},
   "outputs": [],
   "source": [
    "df['wiki_scores'] = scores[0]"
   ]
  },
  {
   "cell_type": "code",
   "execution_count": 25,
   "metadata": {},
   "outputs": [
    {
     "data": {
      "text/html": [
       "<div>\n",
       "<style scoped>\n",
       "    .dataframe tbody tr th:only-of-type {\n",
       "        vertical-align: middle;\n",
       "    }\n",
       "\n",
       "    .dataframe tbody tr th {\n",
       "        vertical-align: top;\n",
       "    }\n",
       "\n",
       "    .dataframe thead th {\n",
       "        text-align: right;\n",
       "    }\n",
       "</style>\n",
       "<table border=\"1\" class=\"dataframe\">\n",
       "  <thead>\n",
       "    <tr style=\"text-align: right;\">\n",
       "      <th></th>\n",
       "      <th>PROJECT_ID</th>\n",
       "      <th>ABSTRACT</th>\n",
       "      <th>PROJECT_TERMS</th>\n",
       "      <th>PROJECT_TITLE</th>\n",
       "      <th>DEPARTMENT</th>\n",
       "      <th>AGENCY</th>\n",
       "      <th>IC_CENTER</th>\n",
       "      <th>PROJECT_NUMBER</th>\n",
       "      <th>PROJECT_START_DATE</th>\n",
       "      <th>PROJECT_END_DATE</th>\n",
       "      <th>...</th>\n",
       "      <th>CFDA_CODE</th>\n",
       "      <th>FY</th>\n",
       "      <th>FY_TOTAL_COST</th>\n",
       "      <th>FY_TOTAL_COST_SUB_PROJECTS</th>\n",
       "      <th>ORG_COUNT</th>\n",
       "      <th>PI_COUNT</th>\n",
       "      <th>FY_TOTAL_COST_SUM</th>\n",
       "      <th>NUM_RECORDS</th>\n",
       "      <th>final_tokens</th>\n",
       "      <th>wiki_scores</th>\n",
       "    </tr>\n",
       "  </thead>\n",
       "  <tbody>\n",
       "    <tr>\n",
       "      <th>0</th>\n",
       "      <td>89996</td>\n",
       "      <td>This is a project to explore Game-based, Metap...</td>\n",
       "      <td>Achievement; analog; base; Cognitive Science; ...</td>\n",
       "      <td>RUI: CYGAMES: CYBER-ENABLED TEACHING AND LEARN...</td>\n",
       "      <td>NSF</td>\n",
       "      <td>NSF</td>\n",
       "      <td>NaN</td>\n",
       "      <td>0814512</td>\n",
       "      <td>9/15/2008</td>\n",
       "      <td>8/31/2012</td>\n",
       "      <td>...</td>\n",
       "      <td>47.076</td>\n",
       "      <td>2008</td>\n",
       "      <td>1999467.0</td>\n",
       "      <td>NaN</td>\n",
       "      <td>1</td>\n",
       "      <td>1</td>\n",
       "      <td>1999467.0</td>\n",
       "      <td>1</td>\n",
       "      <td>project explore game base metaphor enhanced ga...</td>\n",
       "      <td>0.115890</td>\n",
       "    </tr>\n",
       "    <tr>\n",
       "      <th>1</th>\n",
       "      <td>89997</td>\n",
       "      <td>Institution: Franklin Institute Science Museum...</td>\n",
       "      <td>Active Learning; Child; Computer software; des...</td>\n",
       "      <td>ARIEL - AUGMENTED REALITY FOR INTERPRETIVE AND...</td>\n",
       "      <td>NSF</td>\n",
       "      <td>NSF</td>\n",
       "      <td>NaN</td>\n",
       "      <td>0741659</td>\n",
       "      <td>9/15/2008</td>\n",
       "      <td>8/31/2012</td>\n",
       "      <td>...</td>\n",
       "      <td>47.076</td>\n",
       "      <td>2008</td>\n",
       "      <td>1799699.0</td>\n",
       "      <td>NaN</td>\n",
       "      <td>1</td>\n",
       "      <td>1</td>\n",
       "      <td>1799699.0</td>\n",
       "      <td>1</td>\n",
       "      <td>institution franklin institute science museum ...</td>\n",
       "      <td>0.112398</td>\n",
       "    </tr>\n",
       "    <tr>\n",
       "      <th>2</th>\n",
       "      <td>89998</td>\n",
       "      <td>Through programs (including small group conver...</td>\n",
       "      <td>Address; Age; Birth; Brain; Caregivers; Child;...</td>\n",
       "      <td>BRIGHTER FUTURES: PUBLIC DELIBERATION ABOUT TH...</td>\n",
       "      <td>NSF</td>\n",
       "      <td>NSF</td>\n",
       "      <td>NaN</td>\n",
       "      <td>0813522</td>\n",
       "      <td>9/15/2008</td>\n",
       "      <td>8/31/2011</td>\n",
       "      <td>...</td>\n",
       "      <td>47.076</td>\n",
       "      <td>2008</td>\n",
       "      <td>1505858.0</td>\n",
       "      <td>NaN</td>\n",
       "      <td>1</td>\n",
       "      <td>1</td>\n",
       "      <td>1505858.0</td>\n",
       "      <td>1</td>\n",
       "      <td>program include small group conversation citiz...</td>\n",
       "      <td>0.075169</td>\n",
       "    </tr>\n",
       "    <tr>\n",
       "      <th>3</th>\n",
       "      <td>89999</td>\n",
       "      <td>In partnership with the American Chemical Soci...</td>\n",
       "      <td>Advanced Development; American; Chemicals; Che...</td>\n",
       "      <td>FOSTERING US-INTERNATIONAL COLLABORATIVE PARTN...</td>\n",
       "      <td>NSF</td>\n",
       "      <td>NSF</td>\n",
       "      <td>NaN</td>\n",
       "      <td>0838627</td>\n",
       "      <td>8/1/2008</td>\n",
       "      <td>12/31/2010</td>\n",
       "      <td>...</td>\n",
       "      <td>47.049</td>\n",
       "      <td>2008</td>\n",
       "      <td>51000.0</td>\n",
       "      <td>NaN</td>\n",
       "      <td>1</td>\n",
       "      <td>1</td>\n",
       "      <td>51000.0</td>\n",
       "      <td>1</td>\n",
       "      <td>partnership american chemical society acs nati...</td>\n",
       "      <td>0.004359</td>\n",
       "    </tr>\n",
       "    <tr>\n",
       "      <th>4</th>\n",
       "      <td>90001</td>\n",
       "      <td>The Center for Molecular Interfacing (CMI) wil...</td>\n",
       "      <td>Address; Architecture; Carbon Nanotubes; Catal...</td>\n",
       "      <td>CCI PHASE I: CENTER FOR MOLECULAR INTERFACING</td>\n",
       "      <td>NSF</td>\n",
       "      <td>NSF</td>\n",
       "      <td>NaN</td>\n",
       "      <td>0847926</td>\n",
       "      <td>10/1/2008</td>\n",
       "      <td>9/30/2011</td>\n",
       "      <td>...</td>\n",
       "      <td>47.049</td>\n",
       "      <td>2008</td>\n",
       "      <td>1519821.0</td>\n",
       "      <td>NaN</td>\n",
       "      <td>1</td>\n",
       "      <td>1</td>\n",
       "      <td>1519821.0</td>\n",
       "      <td>1</td>\n",
       "      <td>center molecular interfacing cmi enable integr...</td>\n",
       "      <td>-0.006933</td>\n",
       "    </tr>\n",
       "  </tbody>\n",
       "</table>\n",
       "<p>5 rows × 31 columns</p>\n",
       "</div>"
      ],
      "text/plain": [
       "  PROJECT_ID                                           ABSTRACT  \\\n",
       "0      89996  This is a project to explore Game-based, Metap...   \n",
       "1      89997  Institution: Franklin Institute Science Museum...   \n",
       "2      89998  Through programs (including small group conver...   \n",
       "3      89999  In partnership with the American Chemical Soci...   \n",
       "4      90001  The Center for Molecular Interfacing (CMI) wil...   \n",
       "\n",
       "                                       PROJECT_TERMS  \\\n",
       "0  Achievement; analog; base; Cognitive Science; ...   \n",
       "1  Active Learning; Child; Computer software; des...   \n",
       "2  Address; Age; Birth; Brain; Caregivers; Child;...   \n",
       "3  Advanced Development; American; Chemicals; Che...   \n",
       "4  Address; Architecture; Carbon Nanotubes; Catal...   \n",
       "\n",
       "                                       PROJECT_TITLE DEPARTMENT AGENCY  \\\n",
       "0  RUI: CYGAMES: CYBER-ENABLED TEACHING AND LEARN...        NSF    NSF   \n",
       "1  ARIEL - AUGMENTED REALITY FOR INTERPRETIVE AND...        NSF    NSF   \n",
       "2  BRIGHTER FUTURES: PUBLIC DELIBERATION ABOUT TH...        NSF    NSF   \n",
       "3  FOSTERING US-INTERNATIONAL COLLABORATIVE PARTN...        NSF    NSF   \n",
       "4      CCI PHASE I: CENTER FOR MOLECULAR INTERFACING        NSF    NSF   \n",
       "\n",
       "  IC_CENTER PROJECT_NUMBER PROJECT_START_DATE PROJECT_END_DATE  ... CFDA_CODE  \\\n",
       "0       NaN        0814512          9/15/2008        8/31/2012  ...    47.076   \n",
       "1       NaN        0741659          9/15/2008        8/31/2012  ...    47.076   \n",
       "2       NaN        0813522          9/15/2008        8/31/2011  ...    47.076   \n",
       "3       NaN        0838627           8/1/2008       12/31/2010  ...    47.049   \n",
       "4       NaN        0847926          10/1/2008        9/30/2011  ...    47.049   \n",
       "\n",
       "     FY FY_TOTAL_COST FY_TOTAL_COST_SUB_PROJECTS ORG_COUNT PI_COUNT  \\\n",
       "0  2008     1999467.0                        NaN         1        1   \n",
       "1  2008     1799699.0                        NaN         1        1   \n",
       "2  2008     1505858.0                        NaN         1        1   \n",
       "3  2008       51000.0                        NaN         1        1   \n",
       "4  2008     1519821.0                        NaN         1        1   \n",
       "\n",
       "  FY_TOTAL_COST_SUM NUM_RECORDS  \\\n",
       "0         1999467.0           1   \n",
       "1         1799699.0           1   \n",
       "2         1505858.0           1   \n",
       "3           51000.0           1   \n",
       "4         1519821.0           1   \n",
       "\n",
       "                                        final_tokens wiki_scores  \n",
       "0  project explore game base metaphor enhanced ga...    0.115890  \n",
       "1  institution franklin institute science museum ...    0.112398  \n",
       "2  program include small group conversation citiz...    0.075169  \n",
       "3  partnership american chemical society acs nati...    0.004359  \n",
       "4  center molecular interfacing cmi enable integr...   -0.006933  \n",
       "\n",
       "[5 rows x 31 columns]"
      ]
     },
     "execution_count": 25,
     "metadata": {},
     "output_type": "execute_result"
    }
   ],
   "source": [
    "df.head()"
   ]
  },
  {
   "cell_type": "code",
   "execution_count": 26,
   "metadata": {},
   "outputs": [],
   "source": [
    "df[\"big_data_cnt\"] = 0"
   ]
  },
  {
   "cell_type": "code",
   "execution_count": 27,
   "metadata": {},
   "outputs": [
    {
     "data": {
      "text/plain": [
       "(1143869, 32)"
      ]
     },
     "execution_count": 27,
     "metadata": {},
     "output_type": "execute_result"
    }
   ],
   "source": [
    "df.shape"
   ]
  },
  {
   "cell_type": "code",
   "execution_count": null,
   "metadata": {},
   "outputs": [],
   "source": []
  },
  {
   "cell_type": "code",
   "execution_count": 28,
   "metadata": {},
   "outputs": [],
   "source": [
    "for idx, abstract in enumerate(df['ABSTRACT']):\n",
    "    abstract_lowercase = abstract.lower()\n",
    "    if \"big data\" in abstract_lowercase or \"big-data\" in abstract_lowercase:\n",
    "        df.iloc[idx, 31] = abstract_lowercase.count(\"big data\") + abstract_lowercase.count(\"big-data\")"
   ]
  },
  {
   "cell_type": "code",
   "execution_count": 29,
   "metadata": {},
   "outputs": [
    {
     "data": {
      "text/plain": [
       "8503"
      ]
     },
     "execution_count": 29,
     "metadata": {},
     "output_type": "execute_result"
    }
   ],
   "source": [
    "sum(df[\"big_data_cnt\"])"
   ]
  },
  {
   "cell_type": "code",
   "execution_count": 30,
   "metadata": {},
   "outputs": [
    {
     "data": {
      "text/plain": [
       "4628"
      ]
     },
     "execution_count": 30,
     "metadata": {},
     "output_type": "execute_result"
    }
   ],
   "source": [
    "sum(df[\"big_data_cnt\"] != 0)"
   ]
  },
  {
   "cell_type": "code",
   "execution_count": null,
   "metadata": {},
   "outputs": [],
   "source": []
  },
  {
   "cell_type": "code",
   "execution_count": 31,
   "metadata": {},
   "outputs": [],
   "source": [
    "temp = df[df['wiki_scores'] > 0.4]"
   ]
  },
  {
   "cell_type": "code",
   "execution_count": 32,
   "metadata": {},
   "outputs": [
    {
     "data": {
      "text/plain": [
       "1278"
      ]
     },
     "execution_count": 32,
     "metadata": {},
     "output_type": "execute_result"
    }
   ],
   "source": [
    "len(temp)"
   ]
  },
  {
   "cell_type": "code",
   "execution_count": 33,
   "metadata": {},
   "outputs": [
    {
     "data": {
      "text/plain": [
       "0.4096705172255217"
      ]
     },
     "execution_count": 33,
     "metadata": {},
     "output_type": "execute_result"
    }
   ],
   "source": [
    "temp[\"wiki_scores\"].iloc[3]"
   ]
  },
  {
   "cell_type": "code",
   "execution_count": 34,
   "metadata": {},
   "outputs": [
    {
     "data": {
      "text/plain": [
       "'This project seeks to develop incremental processing abstractions andtechnologies to address the approaching bottleneck in processingunstructured web-scale data.  Government, medical, financial, and web-basedservices increasingly depend on the ability to rapidly sift through huge,evolving data sets.  These data-intensive applications perform complexmulti-step computations over successive generations of data inflows (e.g.,weekly web crawls or nightly telescope dumps).  Current approaches toprocessing unstructured data have driven the development of massivelyparallel  ad-hoc  data processing systems, such as MapReduce.  However,they process data in a snap-shot fashion, forcing massive re-computationswhen even a small amount of new data arrives.The core of the project consists of a cluster-based incremental dataprocessing system that overcomes these limitations.  A key component is adataflow programming model that combines massive parallelism and flexible,incremental computations.  An incremental processing controllerorchestrates multiple backend data processing tasks, ensuring reliable,consistent operation in the event of node failures.  The project seeks toshed light on the fundamental challenges and benefits of incrementalprocessing for ad-hoc data by using both industrial and e-scienceapplications.  For example, through cooperation with Yahoo! Research, theproject will vet existing prototypes on real-world web-indexing dataflowsand large data sets.  While in the short term the project provides aplatform for such highly skilled operators, the long-term goal is tosignificantly advance the methods and abstractions that the scientificcommunity and commercial world use to tackle processing vast, dynamic datasets.'"
      ]
     },
     "execution_count": 34,
     "metadata": {},
     "output_type": "execute_result"
    }
   ],
   "source": [
    "temp[\"ABSTRACT\"].iloc[3]"
   ]
  },
  {
   "cell_type": "code",
   "execution_count": null,
   "metadata": {},
   "outputs": [],
   "source": []
  },
  {
   "cell_type": "code",
   "execution_count": null,
   "metadata": {},
   "outputs": [],
   "source": []
  },
  {
   "cell_type": "markdown",
   "metadata": {},
   "source": [
    "##### how does the Wiki comparison method compare with term matching?"
   ]
  },
  {
   "cell_type": "code",
   "execution_count": 35,
   "metadata": {},
   "outputs": [
    {
     "data": {
      "text/html": [
       "<div>\n",
       "<style scoped>\n",
       "    .dataframe tbody tr th:only-of-type {\n",
       "        vertical-align: middle;\n",
       "    }\n",
       "\n",
       "    .dataframe tbody tr th {\n",
       "        vertical-align: top;\n",
       "    }\n",
       "\n",
       "    .dataframe thead th {\n",
       "        text-align: right;\n",
       "    }\n",
       "</style>\n",
       "<table border=\"1\" class=\"dataframe\">\n",
       "  <thead>\n",
       "    <tr style=\"text-align: right;\">\n",
       "      <th></th>\n",
       "      <th>PROJECT_ID</th>\n",
       "      <th>ABSTRACT</th>\n",
       "      <th>PROJECT_TERMS</th>\n",
       "      <th>PROJECT_TITLE</th>\n",
       "      <th>DEPARTMENT</th>\n",
       "      <th>AGENCY</th>\n",
       "      <th>IC_CENTER</th>\n",
       "      <th>PROJECT_NUMBER</th>\n",
       "      <th>PROJECT_START_DATE</th>\n",
       "      <th>PROJECT_END_DATE</th>\n",
       "      <th>...</th>\n",
       "      <th>FY</th>\n",
       "      <th>FY_TOTAL_COST</th>\n",
       "      <th>FY_TOTAL_COST_SUB_PROJECTS</th>\n",
       "      <th>ORG_COUNT</th>\n",
       "      <th>PI_COUNT</th>\n",
       "      <th>FY_TOTAL_COST_SUM</th>\n",
       "      <th>NUM_RECORDS</th>\n",
       "      <th>final_tokens</th>\n",
       "      <th>wiki_scores</th>\n",
       "      <th>big_data_cnt</th>\n",
       "    </tr>\n",
       "  </thead>\n",
       "  <tbody>\n",
       "    <tr>\n",
       "      <th>373</th>\n",
       "      <td>90145</td>\n",
       "      <td>Scientists and supporters of science have long...</td>\n",
       "      <td>Address; American Indians; Biological Models; ...</td>\n",
       "      <td>COLLABORATIVE RESEARCH: AOC: MONITORING, MODEL...</td>\n",
       "      <td>NSF</td>\n",
       "      <td>NSF</td>\n",
       "      <td>NaN</td>\n",
       "      <td>0827333</td>\n",
       "      <td>10/1/2008</td>\n",
       "      <td>9/30/2011</td>\n",
       "      <td>...</td>\n",
       "      <td>2008</td>\n",
       "      <td>193905.0</td>\n",
       "      <td>NaN</td>\n",
       "      <td>3</td>\n",
       "      <td>3</td>\n",
       "      <td>1220851.0</td>\n",
       "      <td>3</td>\n",
       "      <td>scientist supporter science long work improve ...</td>\n",
       "      <td>0.437631</td>\n",
       "      <td>0</td>\n",
       "    </tr>\n",
       "    <tr>\n",
       "      <th>672</th>\n",
       "      <td>90761</td>\n",
       "      <td>ENABLING MASSIVE SCIENTIFIC DATABASES THROUGH ...</td>\n",
       "      <td>Data Set; Databases; design; simulation</td>\n",
       "      <td>''ENABLING MASSIVE SCIENTIFIC DATABASES THROUG...</td>\n",
       "      <td>NASA</td>\n",
       "      <td>NASA</td>\n",
       "      <td>NaN</td>\n",
       "      <td>NNX08AY72G</td>\n",
       "      <td>8/1/2008</td>\n",
       "      <td>1/21/2011</td>\n",
       "      <td>...</td>\n",
       "      <td>2008</td>\n",
       "      <td>159359.0</td>\n",
       "      <td>NaN</td>\n",
       "      <td>1</td>\n",
       "      <td>1</td>\n",
       "      <td>159359.0</td>\n",
       "      <td>1</td>\n",
       "      <td>enable massive scientific database automated s...</td>\n",
       "      <td>0.430477</td>\n",
       "      <td>0</td>\n",
       "    </tr>\n",
       "    <tr>\n",
       "      <th>1681</th>\n",
       "      <td>91610</td>\n",
       "      <td>Intellectual Merit:  This project implements P...</td>\n",
       "      <td>Archives; Climate; Communities; Data; Data Ana...</td>\n",
       "      <td>SEDDB, THE ONLINE INFORMATION SYSTEM FOR SEDIM...</td>\n",
       "      <td>NSF</td>\n",
       "      <td>NSF</td>\n",
       "      <td>NaN</td>\n",
       "      <td>0826197</td>\n",
       "      <td>9/1/2008</td>\n",
       "      <td>8/31/2011</td>\n",
       "      <td>...</td>\n",
       "      <td>2008</td>\n",
       "      <td>399123.0</td>\n",
       "      <td>NaN</td>\n",
       "      <td>1</td>\n",
       "      <td>1</td>\n",
       "      <td>399123.0</td>\n",
       "      <td>1</td>\n",
       "      <td>intellectual_merit project implement phase ii ...</td>\n",
       "      <td>0.419146</td>\n",
       "      <td>0</td>\n",
       "    </tr>\n",
       "    <tr>\n",
       "      <th>2651</th>\n",
       "      <td>92672</td>\n",
       "      <td>This project seeks to develop incremental proc...</td>\n",
       "      <td>Address; base; Communities; Complex; computeri...</td>\n",
       "      <td>CSR-DMSS, SM: INCREMENTAL WEB-SCALE DATA PROCE...</td>\n",
       "      <td>NSF</td>\n",
       "      <td>NSF</td>\n",
       "      <td>NaN</td>\n",
       "      <td>0834784</td>\n",
       "      <td>9/1/2008</td>\n",
       "      <td>8/31/2009</td>\n",
       "      <td>...</td>\n",
       "      <td>2008</td>\n",
       "      <td>100000.0</td>\n",
       "      <td>NaN</td>\n",
       "      <td>1</td>\n",
       "      <td>1</td>\n",
       "      <td>100000.0</td>\n",
       "      <td>1</td>\n",
       "      <td>project seek develop incremental processing ab...</td>\n",
       "      <td>0.409671</td>\n",
       "      <td>0</td>\n",
       "    </tr>\n",
       "    <tr>\n",
       "      <th>3987</th>\n",
       "      <td>94151</td>\n",
       "      <td>Commercial and government entities now spend a...</td>\n",
       "      <td>Algorithms; Archives; Benchmarking; Computer s...</td>\n",
       "      <td>III-COR-MEDIUM: DESIGN AND IMPLEMENTATION OF T...</td>\n",
       "      <td>NSF</td>\n",
       "      <td>NSF</td>\n",
       "      <td>NaN</td>\n",
       "      <td>0803511</td>\n",
       "      <td>8/1/2008</td>\n",
       "      <td>8/31/2010</td>\n",
       "      <td>...</td>\n",
       "      <td>2008</td>\n",
       "      <td>177401.0</td>\n",
       "      <td>NaN</td>\n",
       "      <td>1</td>\n",
       "      <td>1</td>\n",
       "      <td>177401.0</td>\n",
       "      <td>1</td>\n",
       "      <td>commercial government entity spend billion per...</td>\n",
       "      <td>0.423867</td>\n",
       "      <td>0</td>\n",
       "    </tr>\n",
       "  </tbody>\n",
       "</table>\n",
       "<p>5 rows × 32 columns</p>\n",
       "</div>"
      ],
      "text/plain": [
       "     PROJECT_ID                                           ABSTRACT  \\\n",
       "373       90145  Scientists and supporters of science have long...   \n",
       "672       90761  ENABLING MASSIVE SCIENTIFIC DATABASES THROUGH ...   \n",
       "1681      91610  Intellectual Merit:  This project implements P...   \n",
       "2651      92672  This project seeks to develop incremental proc...   \n",
       "3987      94151  Commercial and government entities now spend a...   \n",
       "\n",
       "                                          PROJECT_TERMS  \\\n",
       "373   Address; American Indians; Biological Models; ...   \n",
       "672             Data Set; Databases; design; simulation   \n",
       "1681  Archives; Climate; Communities; Data; Data Ana...   \n",
       "2651  Address; base; Communities; Complex; computeri...   \n",
       "3987  Algorithms; Archives; Benchmarking; Computer s...   \n",
       "\n",
       "                                          PROJECT_TITLE DEPARTMENT AGENCY  \\\n",
       "373   COLLABORATIVE RESEARCH: AOC: MONITORING, MODEL...        NSF    NSF   \n",
       "672   ''ENABLING MASSIVE SCIENTIFIC DATABASES THROUG...       NASA   NASA   \n",
       "1681  SEDDB, THE ONLINE INFORMATION SYSTEM FOR SEDIM...        NSF    NSF   \n",
       "2651  CSR-DMSS, SM: INCREMENTAL WEB-SCALE DATA PROCE...        NSF    NSF   \n",
       "3987  III-COR-MEDIUM: DESIGN AND IMPLEMENTATION OF T...        NSF    NSF   \n",
       "\n",
       "     IC_CENTER PROJECT_NUMBER PROJECT_START_DATE PROJECT_END_DATE  ...    FY  \\\n",
       "373        NaN        0827333          10/1/2008        9/30/2011  ...  2008   \n",
       "672        NaN     NNX08AY72G           8/1/2008        1/21/2011  ...  2008   \n",
       "1681       NaN        0826197           9/1/2008        8/31/2011  ...  2008   \n",
       "2651       NaN        0834784           9/1/2008        8/31/2009  ...  2008   \n",
       "3987       NaN        0803511           8/1/2008        8/31/2010  ...  2008   \n",
       "\n",
       "     FY_TOTAL_COST FY_TOTAL_COST_SUB_PROJECTS ORG_COUNT PI_COUNT  \\\n",
       "373       193905.0                        NaN         3        3   \n",
       "672       159359.0                        NaN         1        1   \n",
       "1681      399123.0                        NaN         1        1   \n",
       "2651      100000.0                        NaN         1        1   \n",
       "3987      177401.0                        NaN         1        1   \n",
       "\n",
       "     FY_TOTAL_COST_SUM NUM_RECORDS  \\\n",
       "373          1220851.0           3   \n",
       "672           159359.0           1   \n",
       "1681          399123.0           1   \n",
       "2651          100000.0           1   \n",
       "3987          177401.0           1   \n",
       "\n",
       "                                           final_tokens wiki_scores  \\\n",
       "373   scientist supporter science long work improve ...    0.437631   \n",
       "672   enable massive scientific database automated s...    0.430477   \n",
       "1681  intellectual_merit project implement phase ii ...    0.419146   \n",
       "2651  project seek develop incremental processing ab...    0.409671   \n",
       "3987  commercial government entity spend billion per...    0.423867   \n",
       "\n",
       "     big_data_cnt  \n",
       "373             0  \n",
       "672             0  \n",
       "1681            0  \n",
       "2651            0  \n",
       "3987            0  \n",
       "\n",
       "[5 rows x 32 columns]"
      ]
     },
     "execution_count": 35,
     "metadata": {},
     "output_type": "execute_result"
    }
   ],
   "source": [
    "temp.head()"
   ]
  },
  {
   "cell_type": "code",
   "execution_count": 36,
   "metadata": {},
   "outputs": [
    {
     "data": {
      "text/plain": [
       "867"
      ]
     },
     "execution_count": 36,
     "metadata": {},
     "output_type": "execute_result"
    }
   ],
   "source": [
    "sum(temp['big_data_cnt'] != 0)"
   ]
  },
  {
   "cell_type": "code",
   "execution_count": 37,
   "metadata": {},
   "outputs": [
    {
     "data": {
      "text/plain": [
       "67.84037558685446"
      ]
     },
     "execution_count": 37,
     "metadata": {},
     "output_type": "execute_result"
    }
   ],
   "source": [
    "100*sum(temp['big_data_cnt'] != 0)/len(temp)"
   ]
  },
  {
   "cell_type": "code",
   "execution_count": 38,
   "metadata": {},
   "outputs": [],
   "source": [
    "# add to training set...the 1278-867 = 411 abstracts from temp without \"big data\"\n",
    "\n",
    "add_train_df = temp[temp['big_data_cnt'] == 0] "
   ]
  },
  {
   "cell_type": "code",
   "execution_count": 39,
   "metadata": {},
   "outputs": [
    {
     "data": {
      "text/plain": [
       "411"
      ]
     },
     "execution_count": 39,
     "metadata": {},
     "output_type": "execute_result"
    }
   ],
   "source": [
    "len(add_train_df)"
   ]
  },
  {
   "cell_type": "code",
   "execution_count": 40,
   "metadata": {},
   "outputs": [
    {
     "data": {
      "text/plain": [
       "'The Innovations in Data-Intensive Astronomy workshop, to be held in Green Bank, WV, will be a cross disciplinary meeting to bring together computer science experts in data intensive computing and infrastructure, and leading astronomy researchers motivated by the need to analyze and curate massive astronomical data sets. The workshop will focus on discussions devoted to the development and deployment of next generation data intensive software applications and infrastructure to satisfy the science goals of the 2010 Astronomy and Astrophysics Decadal Survey. This workshop will facilitate discussion and foster the establishment of collaborations for data intensive scientific computing across a number of disciplines, including all branches of astronomy as well as computer science.  The workshop is timely with regard to the topic of data curation. There is much discussion and debate surrounding the decision of what data to archive long term. Complimentarily, the idea of software as an instrument is gaining popularity and shows promise for enabling science to a wider audience. That is, by retaining unreduced data indefinitely, we enable future reuse and reanalysis of the data in new, unanticipated ways, perhaps even by researchers outside the field of astronomy.'"
      ]
     },
     "execution_count": 40,
     "metadata": {},
     "output_type": "execute_result"
    }
   ],
   "source": [
    "add_train_df[\"ABSTRACT\"].iloc[100]"
   ]
  },
  {
   "cell_type": "code",
   "execution_count": 41,
   "metadata": {},
   "outputs": [],
   "source": [
    "# save PROJECT IDS of training addition\n",
    "\n",
    "add_train_ids = add_train_df[\"PROJECT_ID\"]"
   ]
  },
  {
   "cell_type": "code",
   "execution_count": 42,
   "metadata": {},
   "outputs": [
    {
     "data": {
      "text/plain": [
       "pandas.core.series.Series"
      ]
     },
     "execution_count": 42,
     "metadata": {},
     "output_type": "execute_result"
    }
   ],
   "source": [
    "type(add_train_ids)"
   ]
  },
  {
   "cell_type": "code",
   "execution_count": 43,
   "metadata": {},
   "outputs": [],
   "source": [
    "add_train_ids.to_csv(\"training_addition_ids.csv\", index=False)"
   ]
  },
  {
   "cell_type": "code",
   "execution_count": 44,
   "metadata": {},
   "outputs": [
    {
     "data": {
      "text/html": [
       "<div>\n",
       "<style scoped>\n",
       "    .dataframe tbody tr th:only-of-type {\n",
       "        vertical-align: middle;\n",
       "    }\n",
       "\n",
       "    .dataframe tbody tr th {\n",
       "        vertical-align: top;\n",
       "    }\n",
       "\n",
       "    .dataframe thead th {\n",
       "        text-align: right;\n",
       "    }\n",
       "</style>\n",
       "<table border=\"1\" class=\"dataframe\">\n",
       "  <thead>\n",
       "    <tr style=\"text-align: right;\">\n",
       "      <th></th>\n",
       "      <th>PROJECT_ID</th>\n",
       "      <th>ABSTRACT</th>\n",
       "      <th>PROJECT_TERMS</th>\n",
       "      <th>PROJECT_TITLE</th>\n",
       "      <th>DEPARTMENT</th>\n",
       "      <th>AGENCY</th>\n",
       "      <th>IC_CENTER</th>\n",
       "      <th>PROJECT_NUMBER</th>\n",
       "      <th>PROJECT_START_DATE</th>\n",
       "      <th>PROJECT_END_DATE</th>\n",
       "      <th>...</th>\n",
       "      <th>FY</th>\n",
       "      <th>FY_TOTAL_COST</th>\n",
       "      <th>FY_TOTAL_COST_SUB_PROJECTS</th>\n",
       "      <th>ORG_COUNT</th>\n",
       "      <th>PI_COUNT</th>\n",
       "      <th>FY_TOTAL_COST_SUM</th>\n",
       "      <th>NUM_RECORDS</th>\n",
       "      <th>final_tokens</th>\n",
       "      <th>wiki_scores</th>\n",
       "      <th>big_data_cnt</th>\n",
       "    </tr>\n",
       "  </thead>\n",
       "  <tbody>\n",
       "    <tr>\n",
       "      <th>373</th>\n",
       "      <td>90145</td>\n",
       "      <td>Scientists and supporters of science have long...</td>\n",
       "      <td>Address; American Indians; Biological Models; ...</td>\n",
       "      <td>COLLABORATIVE RESEARCH: AOC: MONITORING, MODEL...</td>\n",
       "      <td>NSF</td>\n",
       "      <td>NSF</td>\n",
       "      <td>NaN</td>\n",
       "      <td>0827333</td>\n",
       "      <td>10/1/2008</td>\n",
       "      <td>9/30/2011</td>\n",
       "      <td>...</td>\n",
       "      <td>2008</td>\n",
       "      <td>193905.0</td>\n",
       "      <td>NaN</td>\n",
       "      <td>3</td>\n",
       "      <td>3</td>\n",
       "      <td>1220851.0</td>\n",
       "      <td>3</td>\n",
       "      <td>scientist supporter science long work improve ...</td>\n",
       "      <td>0.437631</td>\n",
       "      <td>0</td>\n",
       "    </tr>\n",
       "    <tr>\n",
       "      <th>672</th>\n",
       "      <td>90761</td>\n",
       "      <td>ENABLING MASSIVE SCIENTIFIC DATABASES THROUGH ...</td>\n",
       "      <td>Data Set; Databases; design; simulation</td>\n",
       "      <td>''ENABLING MASSIVE SCIENTIFIC DATABASES THROUG...</td>\n",
       "      <td>NASA</td>\n",
       "      <td>NASA</td>\n",
       "      <td>NaN</td>\n",
       "      <td>NNX08AY72G</td>\n",
       "      <td>8/1/2008</td>\n",
       "      <td>1/21/2011</td>\n",
       "      <td>...</td>\n",
       "      <td>2008</td>\n",
       "      <td>159359.0</td>\n",
       "      <td>NaN</td>\n",
       "      <td>1</td>\n",
       "      <td>1</td>\n",
       "      <td>159359.0</td>\n",
       "      <td>1</td>\n",
       "      <td>enable massive scientific database automated s...</td>\n",
       "      <td>0.430477</td>\n",
       "      <td>0</td>\n",
       "    </tr>\n",
       "    <tr>\n",
       "      <th>1681</th>\n",
       "      <td>91610</td>\n",
       "      <td>Intellectual Merit:  This project implements P...</td>\n",
       "      <td>Archives; Climate; Communities; Data; Data Ana...</td>\n",
       "      <td>SEDDB, THE ONLINE INFORMATION SYSTEM FOR SEDIM...</td>\n",
       "      <td>NSF</td>\n",
       "      <td>NSF</td>\n",
       "      <td>NaN</td>\n",
       "      <td>0826197</td>\n",
       "      <td>9/1/2008</td>\n",
       "      <td>8/31/2011</td>\n",
       "      <td>...</td>\n",
       "      <td>2008</td>\n",
       "      <td>399123.0</td>\n",
       "      <td>NaN</td>\n",
       "      <td>1</td>\n",
       "      <td>1</td>\n",
       "      <td>399123.0</td>\n",
       "      <td>1</td>\n",
       "      <td>intellectual_merit project implement phase ii ...</td>\n",
       "      <td>0.419146</td>\n",
       "      <td>0</td>\n",
       "    </tr>\n",
       "    <tr>\n",
       "      <th>2651</th>\n",
       "      <td>92672</td>\n",
       "      <td>This project seeks to develop incremental proc...</td>\n",
       "      <td>Address; base; Communities; Complex; computeri...</td>\n",
       "      <td>CSR-DMSS, SM: INCREMENTAL WEB-SCALE DATA PROCE...</td>\n",
       "      <td>NSF</td>\n",
       "      <td>NSF</td>\n",
       "      <td>NaN</td>\n",
       "      <td>0834784</td>\n",
       "      <td>9/1/2008</td>\n",
       "      <td>8/31/2009</td>\n",
       "      <td>...</td>\n",
       "      <td>2008</td>\n",
       "      <td>100000.0</td>\n",
       "      <td>NaN</td>\n",
       "      <td>1</td>\n",
       "      <td>1</td>\n",
       "      <td>100000.0</td>\n",
       "      <td>1</td>\n",
       "      <td>project seek develop incremental processing ab...</td>\n",
       "      <td>0.409671</td>\n",
       "      <td>0</td>\n",
       "    </tr>\n",
       "    <tr>\n",
       "      <th>3987</th>\n",
       "      <td>94151</td>\n",
       "      <td>Commercial and government entities now spend a...</td>\n",
       "      <td>Algorithms; Archives; Benchmarking; Computer s...</td>\n",
       "      <td>III-COR-MEDIUM: DESIGN AND IMPLEMENTATION OF T...</td>\n",
       "      <td>NSF</td>\n",
       "      <td>NSF</td>\n",
       "      <td>NaN</td>\n",
       "      <td>0803511</td>\n",
       "      <td>8/1/2008</td>\n",
       "      <td>8/31/2010</td>\n",
       "      <td>...</td>\n",
       "      <td>2008</td>\n",
       "      <td>177401.0</td>\n",
       "      <td>NaN</td>\n",
       "      <td>1</td>\n",
       "      <td>1</td>\n",
       "      <td>177401.0</td>\n",
       "      <td>1</td>\n",
       "      <td>commercial government entity spend billion per...</td>\n",
       "      <td>0.423867</td>\n",
       "      <td>0</td>\n",
       "    </tr>\n",
       "  </tbody>\n",
       "</table>\n",
       "<p>5 rows × 32 columns</p>\n",
       "</div>"
      ],
      "text/plain": [
       "     PROJECT_ID                                           ABSTRACT  \\\n",
       "373       90145  Scientists and supporters of science have long...   \n",
       "672       90761  ENABLING MASSIVE SCIENTIFIC DATABASES THROUGH ...   \n",
       "1681      91610  Intellectual Merit:  This project implements P...   \n",
       "2651      92672  This project seeks to develop incremental proc...   \n",
       "3987      94151  Commercial and government entities now spend a...   \n",
       "\n",
       "                                          PROJECT_TERMS  \\\n",
       "373   Address; American Indians; Biological Models; ...   \n",
       "672             Data Set; Databases; design; simulation   \n",
       "1681  Archives; Climate; Communities; Data; Data Ana...   \n",
       "2651  Address; base; Communities; Complex; computeri...   \n",
       "3987  Algorithms; Archives; Benchmarking; Computer s...   \n",
       "\n",
       "                                          PROJECT_TITLE DEPARTMENT AGENCY  \\\n",
       "373   COLLABORATIVE RESEARCH: AOC: MONITORING, MODEL...        NSF    NSF   \n",
       "672   ''ENABLING MASSIVE SCIENTIFIC DATABASES THROUG...       NASA   NASA   \n",
       "1681  SEDDB, THE ONLINE INFORMATION SYSTEM FOR SEDIM...        NSF    NSF   \n",
       "2651  CSR-DMSS, SM: INCREMENTAL WEB-SCALE DATA PROCE...        NSF    NSF   \n",
       "3987  III-COR-MEDIUM: DESIGN AND IMPLEMENTATION OF T...        NSF    NSF   \n",
       "\n",
       "     IC_CENTER PROJECT_NUMBER PROJECT_START_DATE PROJECT_END_DATE  ...    FY  \\\n",
       "373        NaN        0827333          10/1/2008        9/30/2011  ...  2008   \n",
       "672        NaN     NNX08AY72G           8/1/2008        1/21/2011  ...  2008   \n",
       "1681       NaN        0826197           9/1/2008        8/31/2011  ...  2008   \n",
       "2651       NaN        0834784           9/1/2008        8/31/2009  ...  2008   \n",
       "3987       NaN        0803511           8/1/2008        8/31/2010  ...  2008   \n",
       "\n",
       "     FY_TOTAL_COST FY_TOTAL_COST_SUB_PROJECTS ORG_COUNT PI_COUNT  \\\n",
       "373       193905.0                        NaN         3        3   \n",
       "672       159359.0                        NaN         1        1   \n",
       "1681      399123.0                        NaN         1        1   \n",
       "2651      100000.0                        NaN         1        1   \n",
       "3987      177401.0                        NaN         1        1   \n",
       "\n",
       "     FY_TOTAL_COST_SUM NUM_RECORDS  \\\n",
       "373          1220851.0           3   \n",
       "672           159359.0           1   \n",
       "1681          399123.0           1   \n",
       "2651          100000.0           1   \n",
       "3987          177401.0           1   \n",
       "\n",
       "                                           final_tokens wiki_scores  \\\n",
       "373   scientist supporter science long work improve ...    0.437631   \n",
       "672   enable massive scientific database automated s...    0.430477   \n",
       "1681  intellectual_merit project implement phase ii ...    0.419146   \n",
       "2651  project seek develop incremental processing ab...    0.409671   \n",
       "3987  commercial government entity spend billion per...    0.423867   \n",
       "\n",
       "     big_data_cnt  \n",
       "373             0  \n",
       "672             0  \n",
       "1681            0  \n",
       "2651            0  \n",
       "3987            0  \n",
       "\n",
       "[5 rows x 32 columns]"
      ]
     },
     "execution_count": 44,
     "metadata": {},
     "output_type": "execute_result"
    }
   ],
   "source": [
    "add_train_df.head()"
   ]
  },
  {
   "cell_type": "code",
   "execution_count": null,
   "metadata": {},
   "outputs": [],
   "source": []
  },
  {
   "cell_type": "code",
   "execution_count": null,
   "metadata": {},
   "outputs": [],
   "source": []
  },
  {
   "cell_type": "markdown",
   "metadata": {},
   "source": [
    "##### What if we removed the phrase \"big data\" from abstracts...do they still score as high?\n",
    "\n",
    "Need to do this with removing \"big-data\" as well"
   ]
  },
  {
   "cell_type": "code",
   "execution_count": 51,
   "metadata": {},
   "outputs": [],
   "source": [
    "big_data_term_df = df[df['big_data_cnt'] > 0]"
   ]
  },
  {
   "cell_type": "code",
   "execution_count": 52,
   "metadata": {},
   "outputs": [
    {
     "data": {
      "text/plain": [
       "4383"
      ]
     },
     "execution_count": 52,
     "metadata": {},
     "output_type": "execute_result"
    }
   ],
   "source": [
    "len(big_data_term_df)"
   ]
  },
  {
   "cell_type": "code",
   "execution_count": 53,
   "metadata": {},
   "outputs": [
    {
     "name": "stderr",
     "output_type": "stream",
     "text": [
      "/home/kjl5t/.local/lib/python3.8/site-packages/pandas/core/frame.py:3607: SettingWithCopyWarning: \n",
      "A value is trying to be set on a copy of a slice from a DataFrame.\n",
      "Try using .loc[row_indexer,col_indexer] = value instead\n",
      "\n",
      "See the caveats in the documentation: https://pandas.pydata.org/pandas-docs/stable/user_guide/indexing.html#returning-a-view-versus-a-copy\n",
      "  self._set_item(key, value)\n"
     ]
    }
   ],
   "source": [
    "# remove 'big data' instances in each abstract\n",
    "\n",
    "big_data_term_df['working_abstract'] = \"\""
   ]
  },
  {
   "cell_type": "code",
   "execution_count": 54,
   "metadata": {},
   "outputs": [
    {
     "data": {
      "text/html": [
       "<div>\n",
       "<style scoped>\n",
       "    .dataframe tbody tr th:only-of-type {\n",
       "        vertical-align: middle;\n",
       "    }\n",
       "\n",
       "    .dataframe tbody tr th {\n",
       "        vertical-align: top;\n",
       "    }\n",
       "\n",
       "    .dataframe thead th {\n",
       "        text-align: right;\n",
       "    }\n",
       "</style>\n",
       "<table border=\"1\" class=\"dataframe\">\n",
       "  <thead>\n",
       "    <tr style=\"text-align: right;\">\n",
       "      <th></th>\n",
       "      <th>PROJECT_ID</th>\n",
       "      <th>ABSTRACT</th>\n",
       "      <th>PROJECT_TERMS</th>\n",
       "      <th>PROJECT_TITLE</th>\n",
       "      <th>DEPARTMENT</th>\n",
       "      <th>AGENCY</th>\n",
       "      <th>IC_CENTER</th>\n",
       "      <th>PROJECT_NUMBER</th>\n",
       "      <th>PROJECT_START_DATE</th>\n",
       "      <th>PROJECT_END_DATE</th>\n",
       "      <th>...</th>\n",
       "      <th>FY_TOTAL_COST</th>\n",
       "      <th>FY_TOTAL_COST_SUB_PROJECTS</th>\n",
       "      <th>ORG_COUNT</th>\n",
       "      <th>PI_COUNT</th>\n",
       "      <th>FY_TOTAL_COST_SUM</th>\n",
       "      <th>NUM_RECORDS</th>\n",
       "      <th>final_tokens</th>\n",
       "      <th>wiki_scores</th>\n",
       "      <th>big_data_cnt</th>\n",
       "      <th>working_abstract</th>\n",
       "    </tr>\n",
       "  </thead>\n",
       "  <tbody>\n",
       "    <tr>\n",
       "      <th>105027</th>\n",
       "      <td>114036</td>\n",
       "      <td>The Virtualization Studio spearheads research ...</td>\n",
       "      <td>Algorithms; Arts; Behavior; Biological Preserv...</td>\n",
       "      <td>II-EN THE HUMAN VIRTUALIZATION STUDIO: FROM DI...</td>\n",
       "      <td>NSF</td>\n",
       "      <td>NSF</td>\n",
       "      <td>NaN</td>\n",
       "      <td>0855163</td>\n",
       "      <td>7/15/2009</td>\n",
       "      <td>6/30/2011</td>\n",
       "      <td>...</td>\n",
       "      <td>600000.0</td>\n",
       "      <td>NaN</td>\n",
       "      <td>1</td>\n",
       "      <td>1</td>\n",
       "      <td>600000.0</td>\n",
       "      <td>1</td>\n",
       "      <td>virtualization studio spearhead research recon...</td>\n",
       "      <td>0.121756</td>\n",
       "      <td>1</td>\n",
       "      <td></td>\n",
       "    </tr>\n",
       "    <tr>\n",
       "      <th>110140</th>\n",
       "      <td>119449</td>\n",
       "      <td>Progress in the field of machine translation (...</td>\n",
       "      <td>Algorithms; Architecture; Area; cluster comput...</td>\n",
       "      <td>INCA: AN INTEGRATED CLUSTER COMPUTING ARCHITEC...</td>\n",
       "      <td>NSF</td>\n",
       "      <td>NSF</td>\n",
       "      <td>NaN</td>\n",
       "      <td>0844507</td>\n",
       "      <td>2/15/2009</td>\n",
       "      <td>1/31/2012</td>\n",
       "      <td>...</td>\n",
       "      <td>465089.0</td>\n",
       "      <td>NaN</td>\n",
       "      <td>1</td>\n",
       "      <td>1</td>\n",
       "      <td>465089.0</td>\n",
       "      <td>1</td>\n",
       "      <td>progress field machine translation mt come dep...</td>\n",
       "      <td>0.338492</td>\n",
       "      <td>1</td>\n",
       "      <td></td>\n",
       "    </tr>\n",
       "    <tr>\n",
       "      <th>153476</th>\n",
       "      <td>275113</td>\n",
       "      <td>DESCRIPTION (provided by applicant): Rare dise...</td>\n",
       "      <td>abstracting; Acquired Immunodeficiency Syndrom...</td>\n",
       "      <td>INTEGRATED DISCOVERY AND HYPOTHESIS TESTING OF...</td>\n",
       "      <td>HHS</td>\n",
       "      <td>NIH</td>\n",
       "      <td>NLM</td>\n",
       "      <td>1R01LM010140-01</td>\n",
       "      <td>7/1/2009</td>\n",
       "      <td>6/30/2011</td>\n",
       "      <td>...</td>\n",
       "      <td>533007.0</td>\n",
       "      <td>NaN</td>\n",
       "      <td>1</td>\n",
       "      <td>1</td>\n",
       "      <td>533007.0</td>\n",
       "      <td>1</td>\n",
       "      <td>rare disease study isolated laboratory forget ...</td>\n",
       "      <td>0.285717</td>\n",
       "      <td>1</td>\n",
       "      <td></td>\n",
       "    </tr>\n",
       "    <tr>\n",
       "      <th>157841</th>\n",
       "      <td>280840</td>\n",
       "      <td>DESCRIPTION (provided by applicant): Recent ad...</td>\n",
       "      <td>Achievement; Address; Adopted; Algorithms; ant...</td>\n",
       "      <td>SEMANTIC DATA INTEGRATION FOR INTEGRATIVE CANC...</td>\n",
       "      <td>HHS</td>\n",
       "      <td>NIH</td>\n",
       "      <td>NCI</td>\n",
       "      <td>2R44CA132293-02A2</td>\n",
       "      <td>9/21/2007</td>\n",
       "      <td>8/31/2012</td>\n",
       "      <td>...</td>\n",
       "      <td>449882.0</td>\n",
       "      <td>NaN</td>\n",
       "      <td>1</td>\n",
       "      <td>1</td>\n",
       "      <td>449882.0</td>\n",
       "      <td>1</td>\n",
       "      <td>recent advance high throughput measurement cri...</td>\n",
       "      <td>0.321332</td>\n",
       "      <td>1</td>\n",
       "      <td></td>\n",
       "    </tr>\n",
       "    <tr>\n",
       "      <th>257284</th>\n",
       "      <td>350954</td>\n",
       "      <td>DESCRIPTION (provided by applicant): Recent ad...</td>\n",
       "      <td>Achievement; Address; Adopted; Algorithms; ant...</td>\n",
       "      <td>SEMANTIC DATA INTEGRATION FOR INTEGRATIVE CANC...</td>\n",
       "      <td>HHS</td>\n",
       "      <td>NIH</td>\n",
       "      <td>NCI</td>\n",
       "      <td>5R44CA132293-03</td>\n",
       "      <td>9/21/2007</td>\n",
       "      <td>8/31/2012</td>\n",
       "      <td>...</td>\n",
       "      <td>463379.0</td>\n",
       "      <td>NaN</td>\n",
       "      <td>1</td>\n",
       "      <td>1</td>\n",
       "      <td>463379.0</td>\n",
       "      <td>1</td>\n",
       "      <td>recent advance high throughput measurement cri...</td>\n",
       "      <td>0.321332</td>\n",
       "      <td>1</td>\n",
       "      <td></td>\n",
       "    </tr>\n",
       "  </tbody>\n",
       "</table>\n",
       "<p>5 rows × 33 columns</p>\n",
       "</div>"
      ],
      "text/plain": [
       "       PROJECT_ID                                           ABSTRACT  \\\n",
       "105027     114036  The Virtualization Studio spearheads research ...   \n",
       "110140     119449  Progress in the field of machine translation (...   \n",
       "153476     275113  DESCRIPTION (provided by applicant): Rare dise...   \n",
       "157841     280840  DESCRIPTION (provided by applicant): Recent ad...   \n",
       "257284     350954  DESCRIPTION (provided by applicant): Recent ad...   \n",
       "\n",
       "                                            PROJECT_TERMS  \\\n",
       "105027  Algorithms; Arts; Behavior; Biological Preserv...   \n",
       "110140  Algorithms; Architecture; Area; cluster comput...   \n",
       "153476  abstracting; Acquired Immunodeficiency Syndrom...   \n",
       "157841  Achievement; Address; Adopted; Algorithms; ant...   \n",
       "257284  Achievement; Address; Adopted; Algorithms; ant...   \n",
       "\n",
       "                                            PROJECT_TITLE DEPARTMENT AGENCY  \\\n",
       "105027  II-EN THE HUMAN VIRTUALIZATION STUDIO: FROM DI...        NSF    NSF   \n",
       "110140  INCA: AN INTEGRATED CLUSTER COMPUTING ARCHITEC...        NSF    NSF   \n",
       "153476  INTEGRATED DISCOVERY AND HYPOTHESIS TESTING OF...        HHS    NIH   \n",
       "157841  SEMANTIC DATA INTEGRATION FOR INTEGRATIVE CANC...        HHS    NIH   \n",
       "257284  SEMANTIC DATA INTEGRATION FOR INTEGRATIVE CANC...        HHS    NIH   \n",
       "\n",
       "       IC_CENTER     PROJECT_NUMBER PROJECT_START_DATE PROJECT_END_DATE  ...  \\\n",
       "105027       NaN            0855163          7/15/2009        6/30/2011  ...   \n",
       "110140       NaN            0844507          2/15/2009        1/31/2012  ...   \n",
       "153476       NLM    1R01LM010140-01           7/1/2009        6/30/2011  ...   \n",
       "157841       NCI  2R44CA132293-02A2          9/21/2007        8/31/2012  ...   \n",
       "257284       NCI    5R44CA132293-03          9/21/2007        8/31/2012  ...   \n",
       "\n",
       "       FY_TOTAL_COST FY_TOTAL_COST_SUB_PROJECTS ORG_COUNT PI_COUNT  \\\n",
       "105027      600000.0                        NaN         1        1   \n",
       "110140      465089.0                        NaN         1        1   \n",
       "153476      533007.0                        NaN         1        1   \n",
       "157841      449882.0                        NaN         1        1   \n",
       "257284      463379.0                        NaN         1        1   \n",
       "\n",
       "       FY_TOTAL_COST_SUM NUM_RECORDS  \\\n",
       "105027          600000.0           1   \n",
       "110140          465089.0           1   \n",
       "153476          533007.0           1   \n",
       "157841          449882.0           1   \n",
       "257284          463379.0           1   \n",
       "\n",
       "                                             final_tokens wiki_scores  \\\n",
       "105027  virtualization studio spearhead research recon...    0.121756   \n",
       "110140  progress field machine translation mt come dep...    0.338492   \n",
       "153476  rare disease study isolated laboratory forget ...    0.285717   \n",
       "157841  recent advance high throughput measurement cri...    0.321332   \n",
       "257284  recent advance high throughput measurement cri...    0.321332   \n",
       "\n",
       "       big_data_cnt working_abstract  \n",
       "105027            1                   \n",
       "110140            1                   \n",
       "153476            1                   \n",
       "157841            1                   \n",
       "257284            1                   \n",
       "\n",
       "[5 rows x 33 columns]"
      ]
     },
     "execution_count": 54,
     "metadata": {},
     "output_type": "execute_result"
    }
   ],
   "source": [
    "big_data_term_df.head()"
   ]
  },
  {
   "cell_type": "code",
   "execution_count": 55,
   "metadata": {},
   "outputs": [
    {
     "name": "stderr",
     "output_type": "stream",
     "text": [
      "/home/kjl5t/.local/lib/python3.8/site-packages/pandas/core/indexing.py:1732: SettingWithCopyWarning: \n",
      "A value is trying to be set on a copy of a slice from a DataFrame\n",
      "\n",
      "See the caveats in the documentation: https://pandas.pydata.org/pandas-docs/stable/user_guide/indexing.html#returning-a-view-versus-a-copy\n",
      "  self._setitem_single_block(indexer, value, name)\n"
     ]
    }
   ],
   "source": [
    "for idx, abstract in enumerate(big_data_term_df['ABSTRACT']):\n",
    "    temp_abs = abstract.replace('big data', '')\n",
    "    temp_abs = temp_abs.replace('Big Data', '')\n",
    "    temp_abs = temp_abs.replace('Big data', '')\n",
    "    temp_abs = temp_abs.replace('BIG Data', '')\n",
    "    #temp_abs = temp_abs.replace('BIG data', '') removes 3 caBIG data mentions and 1 legit\n",
    "    temp_abs = temp_abs.replace('biG data', '')\n",
    "    big_data_term_df['working_abstract'].iloc[idx] = temp_abs.replace('BIG DATA', '')    "
   ]
  },
  {
   "cell_type": "code",
   "execution_count": 56,
   "metadata": {},
   "outputs": [
    {
     "data": {
      "text/plain": [
       "'The Virtualization Studio spearheads research to reconstruct, record, and render dynamic events in 3D. The studio creates a ?full-body? interactive environment where multiple users are simultaneously given a visceral sense of three dimensional space, through vision and sound, and are able to interact, through action and speech, unencumbered by 3D glasses, head-mounted displays or special clothing. The studio pursues the thesis that robust sensors for hard problems, in this case audiovisual reconstruction of highly dynamic multiple actors/speakers, can be constructed by using a large number of sensors running simple, parallelized algorithms. High fidelity reconstructions are created using a grid of 1132 cameras, and a 128-node multi-speaker microphone array to localize and associate multiple sound sources in the event space. In addition, a multi-viewer lenticular display screen, consisting of 48 projectors, and a front surround sound speaker are used to render interactive environments. The reconstruction algorithms are parallelized and a cluster is used to process the data and respond to behaviors in the event space in realtime.Audiovisual reconstruction and rendering of scenes containing multiple users will revolutionize research into collaborative interfaces, and will allow digital preservation of culturally significant events, like theatrical performances, sports events, and key speeches. In addition to these core research objectives, the Virtualization Studio will act as a gathering place for multidisciplinary research, bringing together researchers from interactive art, human behavior analysis, computer graphics, computer vision, psychology, big data research, and speech processing. The infrastructure will be used to develop a new course on Human Virtualization, and will be used as a pedagogical tool in several existing courses and outreach projects, introducing the next generation of students to the power of interdisciplinary research in computer science.'"
      ]
     },
     "execution_count": 56,
     "metadata": {},
     "output_type": "execute_result"
    }
   ],
   "source": [
    "big_data_term_df['ABSTRACT'].iloc[0]"
   ]
  },
  {
   "cell_type": "code",
   "execution_count": 57,
   "metadata": {},
   "outputs": [
    {
     "data": {
      "text/plain": [
       "'The Virtualization Studio spearheads research to reconstruct, record, and render dynamic events in 3D. The studio creates a ?full-body? interactive environment where multiple users are simultaneously given a visceral sense of three dimensional space, through vision and sound, and are able to interact, through action and speech, unencumbered by 3D glasses, head-mounted displays or special clothing. The studio pursues the thesis that robust sensors for hard problems, in this case audiovisual reconstruction of highly dynamic multiple actors/speakers, can be constructed by using a large number of sensors running simple, parallelized algorithms. High fidelity reconstructions are created using a grid of 1132 cameras, and a 128-node multi-speaker microphone array to localize and associate multiple sound sources in the event space. In addition, a multi-viewer lenticular display screen, consisting of 48 projectors, and a front surround sound speaker are used to render interactive environments. The reconstruction algorithms are parallelized and a cluster is used to process the data and respond to behaviors in the event space in realtime.Audiovisual reconstruction and rendering of scenes containing multiple users will revolutionize research into collaborative interfaces, and will allow digital preservation of culturally significant events, like theatrical performances, sports events, and key speeches. In addition to these core research objectives, the Virtualization Studio will act as a gathering place for multidisciplinary research, bringing together researchers from interactive art, human behavior analysis, computer graphics, computer vision, psychology,  research, and speech processing. The infrastructure will be used to develop a new course on Human Virtualization, and will be used as a pedagogical tool in several existing courses and outreach projects, introducing the next generation of students to the power of interdisciplinary research in computer science.'"
      ]
     },
     "execution_count": 57,
     "metadata": {},
     "output_type": "execute_result"
    }
   ],
   "source": [
    "big_data_term_df['working_abstract'].iloc[0]"
   ]
  },
  {
   "cell_type": "code",
   "execution_count": null,
   "metadata": {},
   "outputs": [],
   "source": []
  },
  {
   "cell_type": "code",
   "execution_count": 58,
   "metadata": {},
   "outputs": [
    {
     "name": "stdout",
     "output_type": "stream",
     "text": [
      "3\n",
      "4\n",
      "10\n",
      "733\n"
     ]
    }
   ],
   "source": [
    "for idx, abstract in enumerate(big_data_term_df['working_abstract']):\n",
    "    if \"big data\" in abstract.lower():\n",
    "        #print(\"\\n\")\n",
    "        #print(abstract)\n",
    "        print(idx)"
   ]
  },
  {
   "cell_type": "code",
   "execution_count": 59,
   "metadata": {},
   "outputs": [
    {
     "data": {
      "text/plain": [
       "'Natural fractures act as major heterogeneities in the subsurface that controls flow and transport of subsurface fluids and chemical species. Their importance cannot be underestimated, because their transmissivity may result in undesired migration during geologic sequestration of CO2, they strongly control heat recovery from geothermal reservoirs, and they may lead to induced seismicity due to fluid injection into the subsurface. Advanced computational methods are critical to design subsurface processes in fractured media for successful environmental and energy applications. This project will address the following key BIG data and computer science challenges: (1) Computation of seismic wave propagation in fractured media; (2)  analytics for inferring fracture characteristics; (3) High Performance Computation of flow and transport in fractured media; and (4) Integration of data from disparate sources for risk assessment and decision-making. This will enable design of technologies for addressing key societal issues such as safe energy extraction from the surface, long-term sequestration of large volumes of greenhouse gases, and safe storage of nuclear waste. The project will provide interdisciplinary training for a team of graduate students and postdoctoral fellows.  Outreach to high schools teachers and minorities through a planned workshop will inspire interest in environmental green-engineering, mathematics, and computational science.  Numerous applications will benefit from this research, including Computer and Information Science and Engineering (CISE), Geosciences (GEO), and Mathematical and Physical Sciences (MPS).   The proposed research will emphasize high performance computation (HPC) approaches for characterizing fractures using large subsurface seismic data sets, BIG data analytics for extraction of fracture related information from seismic inversion results and long-duration dynamic data, and advanced computational approaches for modeling flow, transport, and geomechanics in fractured subsurface systems. The  specific objectives are to: Develop an efficient forward modeling algorithm for seismic wave propagation in fractured media using efficient computational schemes. Compute flow and transport in fractured media using an efficient computational scheme implemented on GPUs such as mimetic finite differences. Perform efficient multiphysics simulation of flow and geomechanics in fractured media. Integrate information from time-lapse seismic inversion and flow/transport simulation using novel statistical schemes. Joint inversion of seismic and fluid flow data and uncertainty quantification using efficient computational schemes. Develop and deploy a scalable hybrid-staging based substrate that can support targeted workflows using staging-based in-situ/in-transit approaches. Computational simulation is critical to design subsurface processes for successful environmental and energy applications. Project URL: http://csm.ices.utexas.edu/current-projects/'"
      ]
     },
     "execution_count": 59,
     "metadata": {},
     "output_type": "execute_result"
    }
   ],
   "source": [
    "big_data_term_df[\"working_abstract\"].iloc[733]"
   ]
  },
  {
   "cell_type": "code",
   "execution_count": null,
   "metadata": {},
   "outputs": [],
   "source": []
  },
  {
   "cell_type": "code",
   "execution_count": 60,
   "metadata": {},
   "outputs": [],
   "source": [
    "# need to reset index for embeddings to work\n",
    "\n",
    "big_data_term_df.reset_index(inplace = True, drop = True)"
   ]
  },
  {
   "cell_type": "code",
   "execution_count": 61,
   "metadata": {},
   "outputs": [],
   "source": [
    "# embed abstracts\n",
    "\n",
    "abs_del_bigdata_embeddings = model.encode(big_data_term_df['working_abstract'])"
   ]
  },
  {
   "cell_type": "code",
   "execution_count": 62,
   "metadata": {},
   "outputs": [
    {
     "name": "stdout",
     "output_type": "stream",
     "text": [
      "(4383, 384)\n"
     ]
    }
   ],
   "source": [
    "print(abs_del_bigdata_embeddings.shape)"
   ]
  },
  {
   "cell_type": "code",
   "execution_count": 63,
   "metadata": {},
   "outputs": [],
   "source": [
    "new_scores = cosine_similarity(\n",
    "    [wiki_embed],\n",
    "    abs_del_bigdata_embeddings\n",
    ")\n",
    "#print(scores)"
   ]
  },
  {
   "cell_type": "code",
   "execution_count": 64,
   "metadata": {},
   "outputs": [
    {
     "data": {
      "text/plain": [
       "0.57391745"
      ]
     },
     "execution_count": 64,
     "metadata": {},
     "output_type": "execute_result"
    }
   ],
   "source": [
    "new_scores.max()"
   ]
  },
  {
   "cell_type": "code",
   "execution_count": 65,
   "metadata": {},
   "outputs": [
    {
     "data": {
      "text/plain": [
       "-0.04830304"
      ]
     },
     "execution_count": 65,
     "metadata": {},
     "output_type": "execute_result"
    }
   ],
   "source": [
    "new_scores.min()"
   ]
  },
  {
   "cell_type": "code",
   "execution_count": 66,
   "metadata": {},
   "outputs": [
    {
     "data": {
      "text/plain": [
       "array([0.12175605, 0.27203265, 0.22610486], dtype=float32)"
      ]
     },
     "execution_count": 66,
     "metadata": {},
     "output_type": "execute_result"
    }
   ],
   "source": [
    "new_scores[0][:3]"
   ]
  },
  {
   "cell_type": "code",
   "execution_count": 67,
   "metadata": {},
   "outputs": [
    {
     "data": {
      "text/plain": [
       "Text(0, 0.5, 'Frequency')"
      ]
     },
     "execution_count": 67,
     "metadata": {},
     "output_type": "execute_result"
    },
    {
     "data": {
      "image/png": "[encoded data removed]",
      "text/plain": [
       "<Figure size 640x480 with 1 Axes>"
      ]
     },
     "metadata": {},
     "output_type": "display_data"
    }
   ],
   "source": [
    "plt.hist(new_scores[0], bins=30)\n",
    "plt.title('Abstracts with \"big data\" Removed')\n",
    "plt.xlabel('Cosine Similarity Score with Big Data Wiki')\n",
    "plt.ylabel('Frequency')\n",
    "#plt.savefig('remove_bd_term_wiki_sim.png')"
   ]
  },
  {
   "cell_type": "code",
   "execution_count": 68,
   "metadata": {},
   "outputs": [
    {
     "name": "stderr",
     "output_type": "stream",
     "text": [
      "/home/kjl5t/.local/lib/python3.8/site-packages/pandas/core/frame.py:3607: SettingWithCopyWarning: \n",
      "A value is trying to be set on a copy of a slice from a DataFrame.\n",
      "Try using .loc[row_indexer,col_indexer] = value instead\n",
      "\n",
      "See the caveats in the documentation: https://pandas.pydata.org/pandas-docs/stable/user_guide/indexing.html#returning-a-view-versus-a-copy\n",
      "  self._set_item(key, value)\n"
     ]
    }
   ],
   "source": [
    "big_data_term_df['wiki_score_wo_bigdata'] = new_scores[0]"
   ]
  },
  {
   "cell_type": "code",
   "execution_count": 69,
   "metadata": {},
   "outputs": [
    {
     "data": {
      "text/html": [
       "<div>\n",
       "<style scoped>\n",
       "    .dataframe tbody tr th:only-of-type {\n",
       "        vertical-align: middle;\n",
       "    }\n",
       "\n",
       "    .dataframe tbody tr th {\n",
       "        vertical-align: top;\n",
       "    }\n",
       "\n",
       "    .dataframe thead th {\n",
       "        text-align: right;\n",
       "    }\n",
       "</style>\n",
       "<table border=\"1\" class=\"dataframe\">\n",
       "  <thead>\n",
       "    <tr style=\"text-align: right;\">\n",
       "      <th></th>\n",
       "      <th>PROJECT_ID</th>\n",
       "      <th>ABSTRACT</th>\n",
       "      <th>PROJECT_TERMS</th>\n",
       "      <th>PROJECT_TITLE</th>\n",
       "      <th>DEPARTMENT</th>\n",
       "      <th>AGENCY</th>\n",
       "      <th>IC_CENTER</th>\n",
       "      <th>PROJECT_NUMBER</th>\n",
       "      <th>PROJECT_START_DATE</th>\n",
       "      <th>PROJECT_END_DATE</th>\n",
       "      <th>...</th>\n",
       "      <th>FY_TOTAL_COST_SUB_PROJECTS</th>\n",
       "      <th>ORG_COUNT</th>\n",
       "      <th>PI_COUNT</th>\n",
       "      <th>FY_TOTAL_COST_SUM</th>\n",
       "      <th>NUM_RECORDS</th>\n",
       "      <th>final_tokens</th>\n",
       "      <th>wiki_scores</th>\n",
       "      <th>big_data_cnt</th>\n",
       "      <th>working_abstract</th>\n",
       "      <th>wiki_score_wo_bigdata</th>\n",
       "    </tr>\n",
       "  </thead>\n",
       "  <tbody>\n",
       "    <tr>\n",
       "      <th>0</th>\n",
       "      <td>114036</td>\n",
       "      <td>The Virtualization Studio spearheads research ...</td>\n",
       "      <td>Algorithms; Arts; Behavior; Biological Preserv...</td>\n",
       "      <td>II-EN THE HUMAN VIRTUALIZATION STUDIO: FROM DI...</td>\n",
       "      <td>NSF</td>\n",
       "      <td>NSF</td>\n",
       "      <td>NaN</td>\n",
       "      <td>0855163</td>\n",
       "      <td>7/15/2009</td>\n",
       "      <td>6/30/2011</td>\n",
       "      <td>...</td>\n",
       "      <td>NaN</td>\n",
       "      <td>1</td>\n",
       "      <td>1</td>\n",
       "      <td>600000.0</td>\n",
       "      <td>1</td>\n",
       "      <td>virtualization studio spearhead research recon...</td>\n",
       "      <td>0.121756</td>\n",
       "      <td>1</td>\n",
       "      <td>The Virtualization Studio spearheads research ...</td>\n",
       "      <td>0.121756</td>\n",
       "    </tr>\n",
       "    <tr>\n",
       "      <th>1</th>\n",
       "      <td>119449</td>\n",
       "      <td>Progress in the field of machine translation (...</td>\n",
       "      <td>Algorithms; Architecture; Area; cluster comput...</td>\n",
       "      <td>INCA: AN INTEGRATED CLUSTER COMPUTING ARCHITEC...</td>\n",
       "      <td>NSF</td>\n",
       "      <td>NSF</td>\n",
       "      <td>NaN</td>\n",
       "      <td>0844507</td>\n",
       "      <td>2/15/2009</td>\n",
       "      <td>1/31/2012</td>\n",
       "      <td>...</td>\n",
       "      <td>NaN</td>\n",
       "      <td>1</td>\n",
       "      <td>1</td>\n",
       "      <td>465089.0</td>\n",
       "      <td>1</td>\n",
       "      <td>progress field machine translation mt come dep...</td>\n",
       "      <td>0.338492</td>\n",
       "      <td>1</td>\n",
       "      <td>Progress in the field of machine translation (...</td>\n",
       "      <td>0.272033</td>\n",
       "    </tr>\n",
       "    <tr>\n",
       "      <th>2</th>\n",
       "      <td>275113</td>\n",
       "      <td>DESCRIPTION (provided by applicant): Rare dise...</td>\n",
       "      <td>abstracting; Acquired Immunodeficiency Syndrom...</td>\n",
       "      <td>INTEGRATED DISCOVERY AND HYPOTHESIS TESTING OF...</td>\n",
       "      <td>HHS</td>\n",
       "      <td>NIH</td>\n",
       "      <td>NLM</td>\n",
       "      <td>1R01LM010140-01</td>\n",
       "      <td>7/1/2009</td>\n",
       "      <td>6/30/2011</td>\n",
       "      <td>...</td>\n",
       "      <td>NaN</td>\n",
       "      <td>1</td>\n",
       "      <td>1</td>\n",
       "      <td>533007.0</td>\n",
       "      <td>1</td>\n",
       "      <td>rare disease study isolated laboratory forget ...</td>\n",
       "      <td>0.285717</td>\n",
       "      <td>1</td>\n",
       "      <td>DESCRIPTION (provided by applicant): Rare dise...</td>\n",
       "      <td>0.226105</td>\n",
       "    </tr>\n",
       "    <tr>\n",
       "      <th>3</th>\n",
       "      <td>280840</td>\n",
       "      <td>DESCRIPTION (provided by applicant): Recent ad...</td>\n",
       "      <td>Achievement; Address; Adopted; Algorithms; ant...</td>\n",
       "      <td>SEMANTIC DATA INTEGRATION FOR INTEGRATIVE CANC...</td>\n",
       "      <td>HHS</td>\n",
       "      <td>NIH</td>\n",
       "      <td>NCI</td>\n",
       "      <td>2R44CA132293-02A2</td>\n",
       "      <td>9/21/2007</td>\n",
       "      <td>8/31/2012</td>\n",
       "      <td>...</td>\n",
       "      <td>NaN</td>\n",
       "      <td>1</td>\n",
       "      <td>1</td>\n",
       "      <td>449882.0</td>\n",
       "      <td>1</td>\n",
       "      <td>recent advance high throughput measurement cri...</td>\n",
       "      <td>0.321332</td>\n",
       "      <td>1</td>\n",
       "      <td>DESCRIPTION (provided by applicant): Recent ad...</td>\n",
       "      <td>0.321333</td>\n",
       "    </tr>\n",
       "    <tr>\n",
       "      <th>4</th>\n",
       "      <td>350954</td>\n",
       "      <td>DESCRIPTION (provided by applicant): Recent ad...</td>\n",
       "      <td>Achievement; Address; Adopted; Algorithms; ant...</td>\n",
       "      <td>SEMANTIC DATA INTEGRATION FOR INTEGRATIVE CANC...</td>\n",
       "      <td>HHS</td>\n",
       "      <td>NIH</td>\n",
       "      <td>NCI</td>\n",
       "      <td>5R44CA132293-03</td>\n",
       "      <td>9/21/2007</td>\n",
       "      <td>8/31/2012</td>\n",
       "      <td>...</td>\n",
       "      <td>NaN</td>\n",
       "      <td>1</td>\n",
       "      <td>1</td>\n",
       "      <td>463379.0</td>\n",
       "      <td>1</td>\n",
       "      <td>recent advance high throughput measurement cri...</td>\n",
       "      <td>0.321332</td>\n",
       "      <td>1</td>\n",
       "      <td>DESCRIPTION (provided by applicant): Recent ad...</td>\n",
       "      <td>0.321333</td>\n",
       "    </tr>\n",
       "    <tr>\n",
       "      <th>5</th>\n",
       "      <td>425413</td>\n",
       "      <td>DESCRIPTION (provided by applicant): Rare dise...</td>\n",
       "      <td>Affect; blind; Case Study; Curiosities; Data S...</td>\n",
       "      <td>INTEGRATED DISCOVERY AND HYPOTHESIS TESTING OF...</td>\n",
       "      <td>HHS</td>\n",
       "      <td>NIH</td>\n",
       "      <td>NLM</td>\n",
       "      <td>3R01LM010140-02S1</td>\n",
       "      <td>7/1/2009</td>\n",
       "      <td>6/30/2011</td>\n",
       "      <td>...</td>\n",
       "      <td>NaN</td>\n",
       "      <td>1</td>\n",
       "      <td>1</td>\n",
       "      <td>541496.0</td>\n",
       "      <td>2</td>\n",
       "      <td>rare disease study isolated laboratory forget ...</td>\n",
       "      <td>0.285717</td>\n",
       "      <td>1</td>\n",
       "      <td>DESCRIPTION (provided by applicant): Rare dise...</td>\n",
       "      <td>0.226105</td>\n",
       "    </tr>\n",
       "    <tr>\n",
       "      <th>6</th>\n",
       "      <td>138258</td>\n",
       "      <td>Contemporary information technology is ever mo...</td>\n",
       "      <td>Collaborations; Collection; college; Communica...</td>\n",
       "      <td>EAGER: AN EXPLORATION IN ENABLING COMMUNITY-DR...</td>\n",
       "      <td>NSF</td>\n",
       "      <td>NSF</td>\n",
       "      <td>NaN</td>\n",
       "      <td>1153617</td>\n",
       "      <td>9/1/2011</td>\n",
       "      <td>8/31/2013</td>\n",
       "      <td>...</td>\n",
       "      <td>NaN</td>\n",
       "      <td>1</td>\n",
       "      <td>1</td>\n",
       "      <td>120114.0</td>\n",
       "      <td>1</td>\n",
       "      <td>contemporary information technology central sc...</td>\n",
       "      <td>0.496617</td>\n",
       "      <td>1</td>\n",
       "      <td>Contemporary information technology is ever mo...</td>\n",
       "      <td>0.356064</td>\n",
       "    </tr>\n",
       "    <tr>\n",
       "      <th>7</th>\n",
       "      <td>139207</td>\n",
       "      <td>North Carolina State University proposes the E...</td>\n",
       "      <td>Advocacy; base; computer science; County; Data...</td>\n",
       "      <td>TYPE I: ENGAGE: IMMERSIVE GAME-BASED LEARNING ...</td>\n",
       "      <td>NSF</td>\n",
       "      <td>NSF</td>\n",
       "      <td>NaN</td>\n",
       "      <td>1138497</td>\n",
       "      <td>1/1/2012</td>\n",
       "      <td>12/31/2014</td>\n",
       "      <td>...</td>\n",
       "      <td>NaN</td>\n",
       "      <td>1</td>\n",
       "      <td>1</td>\n",
       "      <td>999996.0</td>\n",
       "      <td>1</td>\n",
       "      <td>north_carolina state university propose engage...</td>\n",
       "      <td>0.141772</td>\n",
       "      <td>1</td>\n",
       "      <td>North Carolina State University proposes the E...</td>\n",
       "      <td>0.116528</td>\n",
       "    </tr>\n",
       "    <tr>\n",
       "      <th>8</th>\n",
       "      <td>140038</td>\n",
       "      <td>All-pairs similarity comparison is one of the ...</td>\n",
       "      <td>Advertisements; Algorithms; Businesses; Commun...</td>\n",
       "      <td>III: SMALL: PARALLEL SIMILARITY COMPARISON AND...</td>\n",
       "      <td>NSF</td>\n",
       "      <td>NSF</td>\n",
       "      <td>NaN</td>\n",
       "      <td>1118106</td>\n",
       "      <td>8/15/2011</td>\n",
       "      <td>7/31/2014</td>\n",
       "      <td>...</td>\n",
       "      <td>NaN</td>\n",
       "      <td>1</td>\n",
       "      <td>1</td>\n",
       "      <td>515732.0</td>\n",
       "      <td>1</td>\n",
       "      <td>pair similarity comparison core algorithm data...</td>\n",
       "      <td>0.245515</td>\n",
       "      <td>1</td>\n",
       "      <td>All-pairs similarity comparison is one of the ...</td>\n",
       "      <td>0.245515</td>\n",
       "    </tr>\n",
       "    <tr>\n",
       "      <th>9</th>\n",
       "      <td>143084</td>\n",
       "      <td>The goal of this project is to explore key alg...</td>\n",
       "      <td>Algorithms; base; Cataloging; Catalogs; Cities...</td>\n",
       "      <td>EAGER: EXPLORING AND LINKING WIDELY DISTRIBUTE...</td>\n",
       "      <td>NSF</td>\n",
       "      <td>NSF</td>\n",
       "      <td>NaN</td>\n",
       "      <td>1143585</td>\n",
       "      <td>9/1/2011</td>\n",
       "      <td>8/31/2013</td>\n",
       "      <td>...</td>\n",
       "      <td>NaN</td>\n",
       "      <td>1</td>\n",
       "      <td>1</td>\n",
       "      <td>197407.0</td>\n",
       "      <td>1</td>\n",
       "      <td>goal project explore key algorithm technology ...</td>\n",
       "      <td>0.387680</td>\n",
       "      <td>1</td>\n",
       "      <td>The goal of this project is to explore key alg...</td>\n",
       "      <td>0.387680</td>\n",
       "    </tr>\n",
       "  </tbody>\n",
       "</table>\n",
       "<p>10 rows × 34 columns</p>\n",
       "</div>"
      ],
      "text/plain": [
       "  PROJECT_ID                                           ABSTRACT  \\\n",
       "0     114036  The Virtualization Studio spearheads research ...   \n",
       "1     119449  Progress in the field of machine translation (...   \n",
       "2     275113  DESCRIPTION (provided by applicant): Rare dise...   \n",
       "3     280840  DESCRIPTION (provided by applicant): Recent ad...   \n",
       "4     350954  DESCRIPTION (provided by applicant): Recent ad...   \n",
       "5     425413  DESCRIPTION (provided by applicant): Rare dise...   \n",
       "6     138258  Contemporary information technology is ever mo...   \n",
       "7     139207  North Carolina State University proposes the E...   \n",
       "8     140038  All-pairs similarity comparison is one of the ...   \n",
       "9     143084  The goal of this project is to explore key alg...   \n",
       "\n",
       "                                       PROJECT_TERMS  \\\n",
       "0  Algorithms; Arts; Behavior; Biological Preserv...   \n",
       "1  Algorithms; Architecture; Area; cluster comput...   \n",
       "2  abstracting; Acquired Immunodeficiency Syndrom...   \n",
       "3  Achievement; Address; Adopted; Algorithms; ant...   \n",
       "4  Achievement; Address; Adopted; Algorithms; ant...   \n",
       "5  Affect; blind; Case Study; Curiosities; Data S...   \n",
       "6  Collaborations; Collection; college; Communica...   \n",
       "7  Advocacy; base; computer science; County; Data...   \n",
       "8  Advertisements; Algorithms; Businesses; Commun...   \n",
       "9  Algorithms; base; Cataloging; Catalogs; Cities...   \n",
       "\n",
       "                                       PROJECT_TITLE DEPARTMENT AGENCY  \\\n",
       "0  II-EN THE HUMAN VIRTUALIZATION STUDIO: FROM DI...        NSF    NSF   \n",
       "1  INCA: AN INTEGRATED CLUSTER COMPUTING ARCHITEC...        NSF    NSF   \n",
       "2  INTEGRATED DISCOVERY AND HYPOTHESIS TESTING OF...        HHS    NIH   \n",
       "3  SEMANTIC DATA INTEGRATION FOR INTEGRATIVE CANC...        HHS    NIH   \n",
       "4  SEMANTIC DATA INTEGRATION FOR INTEGRATIVE CANC...        HHS    NIH   \n",
       "5  INTEGRATED DISCOVERY AND HYPOTHESIS TESTING OF...        HHS    NIH   \n",
       "6  EAGER: AN EXPLORATION IN ENABLING COMMUNITY-DR...        NSF    NSF   \n",
       "7  TYPE I: ENGAGE: IMMERSIVE GAME-BASED LEARNING ...        NSF    NSF   \n",
       "8  III: SMALL: PARALLEL SIMILARITY COMPARISON AND...        NSF    NSF   \n",
       "9  EAGER: EXPLORING AND LINKING WIDELY DISTRIBUTE...        NSF    NSF   \n",
       "\n",
       "  IC_CENTER     PROJECT_NUMBER PROJECT_START_DATE PROJECT_END_DATE  ...  \\\n",
       "0       NaN            0855163          7/15/2009        6/30/2011  ...   \n",
       "1       NaN            0844507          2/15/2009        1/31/2012  ...   \n",
       "2       NLM    1R01LM010140-01           7/1/2009        6/30/2011  ...   \n",
       "3       NCI  2R44CA132293-02A2          9/21/2007        8/31/2012  ...   \n",
       "4       NCI    5R44CA132293-03          9/21/2007        8/31/2012  ...   \n",
       "5       NLM  3R01LM010140-02S1           7/1/2009        6/30/2011  ...   \n",
       "6       NaN            1153617           9/1/2011        8/31/2013  ...   \n",
       "7       NaN            1138497           1/1/2012       12/31/2014  ...   \n",
       "8       NaN            1118106          8/15/2011        7/31/2014  ...   \n",
       "9       NaN            1143585           9/1/2011        8/31/2013  ...   \n",
       "\n",
       "  FY_TOTAL_COST_SUB_PROJECTS ORG_COUNT PI_COUNT FY_TOTAL_COST_SUM NUM_RECORDS  \\\n",
       "0                        NaN         1        1          600000.0           1   \n",
       "1                        NaN         1        1          465089.0           1   \n",
       "2                        NaN         1        1          533007.0           1   \n",
       "3                        NaN         1        1          449882.0           1   \n",
       "4                        NaN         1        1          463379.0           1   \n",
       "5                        NaN         1        1          541496.0           2   \n",
       "6                        NaN         1        1          120114.0           1   \n",
       "7                        NaN         1        1          999996.0           1   \n",
       "8                        NaN         1        1          515732.0           1   \n",
       "9                        NaN         1        1          197407.0           1   \n",
       "\n",
       "                                        final_tokens wiki_scores big_data_cnt  \\\n",
       "0  virtualization studio spearhead research recon...    0.121756            1   \n",
       "1  progress field machine translation mt come dep...    0.338492            1   \n",
       "2  rare disease study isolated laboratory forget ...    0.285717            1   \n",
       "3  recent advance high throughput measurement cri...    0.321332            1   \n",
       "4  recent advance high throughput measurement cri...    0.321332            1   \n",
       "5  rare disease study isolated laboratory forget ...    0.285717            1   \n",
       "6  contemporary information technology central sc...    0.496617            1   \n",
       "7  north_carolina state university propose engage...    0.141772            1   \n",
       "8  pair similarity comparison core algorithm data...    0.245515            1   \n",
       "9  goal project explore key algorithm technology ...    0.387680            1   \n",
       "\n",
       "                                    working_abstract wiki_score_wo_bigdata  \n",
       "0  The Virtualization Studio spearheads research ...              0.121756  \n",
       "1  Progress in the field of machine translation (...              0.272033  \n",
       "2  DESCRIPTION (provided by applicant): Rare dise...              0.226105  \n",
       "3  DESCRIPTION (provided by applicant): Recent ad...              0.321333  \n",
       "4  DESCRIPTION (provided by applicant): Recent ad...              0.321333  \n",
       "5  DESCRIPTION (provided by applicant): Rare dise...              0.226105  \n",
       "6  Contemporary information technology is ever mo...              0.356064  \n",
       "7  North Carolina State University proposes the E...              0.116528  \n",
       "8  All-pairs similarity comparison is one of the ...              0.245515  \n",
       "9  The goal of this project is to explore key alg...              0.387680  \n",
       "\n",
       "[10 rows x 34 columns]"
      ]
     },
     "execution_count": 69,
     "metadata": {},
     "output_type": "execute_result"
    }
   ],
   "source": [
    "big_data_term_df.head(10)"
   ]
  },
  {
   "cell_type": "code",
   "execution_count": 70,
   "metadata": {},
   "outputs": [
    {
     "data": {
      "text/plain": [
       "(0.195, 0.45)"
      ]
     },
     "execution_count": 70,
     "metadata": {},
     "output_type": "execute_result"
    },
    {
     "data": {
      "image/png": "[encoded data removed]",
      "text/plain": [
       "<Figure size 640x480 with 1 Axes>"
      ]
     },
     "metadata": {},
     "output_type": "display_data"
    }
   ],
   "source": [
    "# plot differences in wiki scores\n",
    "\n",
    "diff = big_data_term_df[\"wiki_scores\"] - big_data_term_df[\"wiki_score_wo_bigdata\"]\n",
    "\n",
    "plt.stem(diff[diff > 0.2] , )\n",
    "plt.title('Original Score - Revised Score')\n",
    "plt.xlabel('Document Index')\n",
    "plt.ylabel('Score Difference')\n",
    "plt.ylim(0.195,0.45)\n",
    "#plt.savefig('remove_bd_term_wiki_sim.png')"
   ]
  },
  {
   "cell_type": "code",
   "execution_count": null,
   "metadata": {},
   "outputs": [],
   "source": []
  },
  {
   "cell_type": "code",
   "execution_count": 71,
   "metadata": {},
   "outputs": [
    {
     "data": {
      "text/plain": [
       "Text(0, 0.5, 'Frequency')"
      ]
     },
     "execution_count": 71,
     "metadata": {},
     "output_type": "execute_result"
    },
    {
     "data": {
      "image/png": "[encoded data removed]",
      "text/plain": [
       "<Figure size 640x480 with 1 Axes>"
      ]
     },
     "metadata": {},
     "output_type": "display_data"
    }
   ],
   "source": [
    "# plot differences in wiki scores\n",
    "\n",
    "diff = big_data_term_df[\"wiki_scores\"] - big_data_term_df[\"wiki_score_wo_bigdata\"]\n",
    "\n",
    "plt.hist(diff, bins=30 )\n",
    "plt.title('Abstracts with \"big data\" Removed')\n",
    "plt.xlabel('Score Difference')\n",
    "plt.ylabel('Frequency')\n",
    "#plt.savefig('figures/score_diff_hist.png')"
   ]
  },
  {
   "cell_type": "code",
   "execution_count": 72,
   "metadata": {},
   "outputs": [
    {
     "data": {
      "text/plain": [
       "0   -3.865981e-09\n",
       "1    6.645964e-02\n",
       "2    5.961170e-02\n",
       "3   -7.873756e-08\n",
       "4   -7.873756e-08\n",
       "5    5.961170e-02\n",
       "6    1.405531e-01\n",
       "7    2.524438e-02\n",
       "8    6.262873e-08\n",
       "9    2.074205e-08\n",
       "dtype: float64"
      ]
     },
     "execution_count": 72,
     "metadata": {},
     "output_type": "execute_result"
    }
   ],
   "source": [
    "diff[:10]"
   ]
  },
  {
   "cell_type": "code",
   "execution_count": 73,
   "metadata": {},
   "outputs": [
    {
     "data": {
      "text/html": [
       "<div>\n",
       "<style scoped>\n",
       "    .dataframe tbody tr th:only-of-type {\n",
       "        vertical-align: middle;\n",
       "    }\n",
       "\n",
       "    .dataframe tbody tr th {\n",
       "        vertical-align: top;\n",
       "    }\n",
       "\n",
       "    .dataframe thead th {\n",
       "        text-align: right;\n",
       "    }\n",
       "</style>\n",
       "<table border=\"1\" class=\"dataframe\">\n",
       "  <thead>\n",
       "    <tr style=\"text-align: right;\">\n",
       "      <th></th>\n",
       "      <th>0</th>\n",
       "    </tr>\n",
       "  </thead>\n",
       "  <tbody>\n",
       "    <tr>\n",
       "      <th>count</th>\n",
       "      <td>4.383000e+03</td>\n",
       "    </tr>\n",
       "    <tr>\n",
       "      <th>mean</th>\n",
       "      <td>6.038315e-02</td>\n",
       "    </tr>\n",
       "    <tr>\n",
       "      <th>std</th>\n",
       "      <td>6.492341e-02</td>\n",
       "    </tr>\n",
       "    <tr>\n",
       "      <th>min</th>\n",
       "      <td>-1.980091e-02</td>\n",
       "    </tr>\n",
       "    <tr>\n",
       "      <th>25%</th>\n",
       "      <td>3.497211e-08</td>\n",
       "    </tr>\n",
       "    <tr>\n",
       "      <th>50%</th>\n",
       "      <td>4.979661e-02</td>\n",
       "    </tr>\n",
       "    <tr>\n",
       "      <th>75%</th>\n",
       "      <td>9.638879e-02</td>\n",
       "    </tr>\n",
       "    <tr>\n",
       "      <th>max</th>\n",
       "      <td>4.256910e-01</td>\n",
       "    </tr>\n",
       "  </tbody>\n",
       "</table>\n",
       "</div>"
      ],
      "text/plain": [
       "                  0\n",
       "count  4.383000e+03\n",
       "mean   6.038315e-02\n",
       "std    6.492341e-02\n",
       "min   -1.980091e-02\n",
       "25%    3.497211e-08\n",
       "50%    4.979661e-02\n",
       "75%    9.638879e-02\n",
       "max    4.256910e-01"
      ]
     },
     "execution_count": 73,
     "metadata": {},
     "output_type": "execute_result"
    }
   ],
   "source": [
    "diff_df = pd.DataFrame(diff)\n",
    "diff_df.describe()"
   ]
  },
  {
   "cell_type": "code",
   "execution_count": 74,
   "metadata": {},
   "outputs": [
    {
     "data": {
      "text/plain": [
       "([<matplotlib.axis.XTick at 0x7f90a5f6b940>], [Text(1, 0, '')])"
      ]
     },
     "execution_count": 74,
     "metadata": {},
     "output_type": "execute_result"
    },
    {
     "data": {
      "image/png": "[encoded data removed]",
      "text/plain": [
       "<Figure size 300x500 with 1 Axes>"
      ]
     },
     "metadata": {},
     "output_type": "display_data"
    }
   ],
   "source": [
    "f = plt.figure()\n",
    "f.set_figwidth(3)\n",
    "f.set_figheight(5)\n",
    "\n",
    "plt.boxplot(diff, widths = 0.4)\n",
    "plt.title('Abstracts with \"big data\" Removed')\n",
    "plt.xlabel('Difference in Scores')\n",
    "plt.xticks([1], [''])\n",
    "#plt.savefig('figures/score_diff_box.png')"
   ]
  },
  {
   "cell_type": "code",
   "execution_count": 75,
   "metadata": {},
   "outputs": [
    {
     "data": {
      "text/plain": [
       "-0.019800912866264675"
      ]
     },
     "execution_count": 75,
     "metadata": {},
     "output_type": "execute_result"
    }
   ],
   "source": [
    "np.min(diff)"
   ]
  },
  {
   "cell_type": "code",
   "execution_count": 76,
   "metadata": {},
   "outputs": [
    {
     "data": {
      "text/plain": [
       "3584"
      ]
     },
     "execution_count": 76,
     "metadata": {},
     "output_type": "execute_result"
    }
   ],
   "source": [
    "np.argmin(diff)"
   ]
  },
  {
   "cell_type": "code",
   "execution_count": 96,
   "metadata": {},
   "outputs": [
    {
     "data": {
      "text/plain": [
       "4368    2124\n",
       "4369     839\n",
       "4370    1321\n",
       "4371    3364\n",
       "4372     523\n",
       "4373    2101\n",
       "4374    2099\n",
       "4375    1846\n",
       "4376    2651\n",
       "4377    3213\n",
       "4378    1049\n",
       "4379    3721\n",
       "4380    2848\n",
       "4381    1326\n",
       "4382    1410\n",
       "dtype: int64"
      ]
     },
     "execution_count": 96,
     "metadata": {},
     "output_type": "execute_result"
    }
   ],
   "source": [
    "np.argsort(diff)[-15:]"
   ]
  },
  {
   "cell_type": "code",
   "execution_count": 78,
   "metadata": {},
   "outputs": [
    {
     "data": {
      "text/plain": [
       "-0.005679911573917562"
      ]
     },
     "execution_count": 78,
     "metadata": {},
     "output_type": "execute_result"
    }
   ],
   "source": [
    "diff.iloc[1403]"
   ]
  },
  {
   "cell_type": "code",
   "execution_count": 79,
   "metadata": {},
   "outputs": [
    {
     "data": {
      "text/plain": [
       "'Many artificial intelligence (AI) applications such as image understanding and natural language processing rely on Machine Learning (ML) methods to automatically extract valuable knowledge from Big Data (Big Learning). Efficient ML requires not only expertise in advanced mathematical models and algorithms, but also experiences with large computer clusters where issues such as machine failures, memory/network bottlenecks, inter-machine latencies must be properly handled through complex system programming. Such demand on  dual skill  often prevents democratizing large-scale AI to wide user communities, and necessitates a new framework that bridges ML and the distributed computing environment of a cluster with a single-machine-like simple interface, allowing ML practitioners to be agnostic about the backend details, and able to quickly prototype or deploy ML programs on clusters. Solutions to such a need remain rare. In this project the PIs develop a new general purpose framework for ML on distributed systems, offering highly efficient and theoretically justified protocols (e.g. communication, scheduling, and partitioning functions) to orchestrate a heterogeneous computer cluster to become programmable and act like a single big computer, and execute distributed ML programs correctly and at a speed orders of magnitude faster than current systems such as Hadoop and Spark. With this new framework, data scientists will be able to conduct ML analytics with complex models on massive data without the need for dedicated engineering and infrastructure teams, allowing Big Learning more readily accessible to society. Specifically, over a four year span, the proposed research focuses on three technical aims: (1) Building a System Framework for Big Learning, by developing a new architecture that supports both data- and model-parallel execution of large ML programs, using intelligent scheduler, parameter server, and consistency controller that are configurable to provide flexible options for model/data parallelization, synchronization schemes, load balance, fault tolerance, and multi-instance tenancy; (2) Building a Multi-Level-Abstraction Programming Interface, which supports easy parallel programming of both basic and advanced ML algorithms for large-scale applications; and (3)Conducting theoretical analysis of distributed ML algorithms on the proposed system, based on unique insights such as block consistency and error-tolerance under bounded synchronism. The goal is to develop a system framework to achieve general, automatic, and effective parallelization of ML programs.'"
      ]
     },
     "execution_count": 79,
     "metadata": {},
     "output_type": "execute_result"
    }
   ],
   "source": [
    "big_data_term_df[\"ABSTRACT\"].iloc[1403]"
   ]
  },
  {
   "cell_type": "code",
   "execution_count": 80,
   "metadata": {},
   "outputs": [
    {
     "data": {
      "text/plain": [
       "'Many artificial intelligence (AI) applications such as image understanding and natural language processing rely on Machine Learning (ML) methods to automatically extract valuable knowledge from  (Big Learning). Efficient ML requires not only expertise in advanced mathematical models and algorithms, but also experiences with large computer clusters where issues such as machine failures, memory/network bottlenecks, inter-machine latencies must be properly handled through complex system programming. Such demand on  dual skill  often prevents democratizing large-scale AI to wide user communities, and necessitates a new framework that bridges ML and the distributed computing environment of a cluster with a single-machine-like simple interface, allowing ML practitioners to be agnostic about the backend details, and able to quickly prototype or deploy ML programs on clusters. Solutions to such a need remain rare. In this project the PIs develop a new general purpose framework for ML on distributed systems, offering highly efficient and theoretically justified protocols (e.g. communication, scheduling, and partitioning functions) to orchestrate a heterogeneous computer cluster to become programmable and act like a single big computer, and execute distributed ML programs correctly and at a speed orders of magnitude faster than current systems such as Hadoop and Spark. With this new framework, data scientists will be able to conduct ML analytics with complex models on massive data without the need for dedicated engineering and infrastructure teams, allowing Big Learning more readily accessible to society. Specifically, over a four year span, the proposed research focuses on three technical aims: (1) Building a System Framework for Big Learning, by developing a new architecture that supports both data- and model-parallel execution of large ML programs, using intelligent scheduler, parameter server, and consistency controller that are configurable to provide flexible options for model/data parallelization, synchronization schemes, load balance, fault tolerance, and multi-instance tenancy; (2) Building a Multi-Level-Abstraction Programming Interface, which supports easy parallel programming of both basic and advanced ML algorithms for large-scale applications; and (3)Conducting theoretical analysis of distributed ML algorithms on the proposed system, based on unique insights such as block consistency and error-tolerance under bounded synchronism. The goal is to develop a system framework to achieve general, automatic, and effective parallelization of ML programs.'"
      ]
     },
     "execution_count": 80,
     "metadata": {},
     "output_type": "execute_result"
    }
   ],
   "source": [
    "big_data_term_df[\"working_abstract\"].iloc[1403]"
   ]
  },
  {
   "cell_type": "code",
   "execution_count": null,
   "metadata": {},
   "outputs": [],
   "source": []
  },
  {
   "cell_type": "code",
   "execution_count": 111,
   "metadata": {},
   "outputs": [
    {
     "data": {
      "text/plain": [
       "4.38724617746189e-08"
      ]
     },
     "execution_count": 111,
     "metadata": {},
     "output_type": "execute_result"
    }
   ],
   "source": [
    "# max diff\n",
    "\n",
    "diff.iloc[364]"
   ]
  },
  {
   "cell_type": "code",
   "execution_count": 109,
   "metadata": {},
   "outputs": [
    {
     "data": {
      "text/plain": [
       "PROJECT_ID                                                              1186559\n",
       "ABSTRACT                      Objective 1: To perform agriculture Big Data r...\n",
       "PROJECT_TERMS                 Address; Agriculture; Animals; Big Data; Compu...\n",
       "PROJECT_TITLE                    EXTENDING COMPUTING INFRASTRUCTURE AND SUPPORT\n",
       "DEPARTMENT                                                                 USDA\n",
       "AGENCY                                                                      ARS\n",
       "IC_CENTER                                                                   ARS\n",
       "PROJECT_NUMBER                                                 ARS-0435071-PROJ\n",
       "PROJECT_START_DATE                                                    7/26/2018\n",
       "PROJECT_END_DATE                                                      7/25/2023\n",
       "CONTACT_PI_PROJECT_LEADER                                       STEVEN M KAPPES\n",
       "OTHER_PIS                                                                   NaN\n",
       "CONGRESSIONAL_DISTRICT                                                       05\n",
       "DUNS_NUMBER                                                           137398483\n",
       "ORGANIZATION_NAME                                 AGRICULTURAL RESEARCH SERVICE\n",
       "ORGANIZATION_CITY                                                    BELTSVILLE\n",
       "ORGANIZATION_STATE                                                           MD\n",
       "ORGANIZATION_ZIP                                                          20705\n",
       "ORGANIZATION_COUNTRY                                              UNITED STATES\n",
       "BUDGET_START_DATE                                                           NaN\n",
       "BUDGET_END_DATE                                                             NaN\n",
       "CFDA_CODE                                                                10.001\n",
       "FY                                                                         2019\n",
       "FY_TOTAL_COST                                                         2700000.0\n",
       "FY_TOTAL_COST_SUB_PROJECTS                                                  NaN\n",
       "ORG_COUNT                                                                     1\n",
       "PI_COUNT                                                                      1\n",
       "FY_TOTAL_COST_SUM                                                     2700000.0\n",
       "NUM_RECORDS                                                                   1\n",
       "final_tokens                  objective perform agriculture big data researc...\n",
       "wiki_scores                                                            0.495562\n",
       "big_data_cnt                                                                  2\n",
       "working_abstract              Objective 1: To perform agriculture  research ...\n",
       "wiki_score_wo_bigdata                                                  0.152559\n",
       "Name: 3364, dtype: object"
      ]
     },
     "execution_count": 109,
     "metadata": {},
     "output_type": "execute_result"
    }
   ],
   "source": [
    "big_data_term_df.iloc[3364]"
   ]
  },
  {
   "cell_type": "code",
   "execution_count": 110,
   "metadata": {},
   "outputs": [
    {
     "data": {
      "text/plain": [
       "'Objective 1: To perform agriculture Big Data research to address animal health, plant health, food safety and agricultural productivity.   Objective 2: To improve computational analysis of Big Data by developing software suited to an HPC environment.'"
      ]
     },
     "execution_count": 110,
     "metadata": {},
     "output_type": "execute_result"
    }
   ],
   "source": [
    "big_data_term_df[\"ABSTRACT\"].iloc[3364]"
   ]
  },
  {
   "cell_type": "code",
   "execution_count": 89,
   "metadata": {},
   "outputs": [
    {
     "data": {
      "text/plain": [
       "\"The second annual joint Principal Investigators meeting for the  program and the  Hubs and Spokes program provides updates to progress on intellectual objectives and information sharing. The meeting will promote interaction between the participants in these programs, facilitate collaborations, expose students to the latest research, and situate the programs within the larger  ecosystem.The meeting will be a three-day meeting that includes one day dedicated to each program and a third day shared between the two. The agenda includes breakouts, panel discussions, lightning talks, and poster sessions to encourage intellectual engagement across the programs, thus setting conditions for new projects and multi-disciplinary activities. The meeting will produce a report that highlights outcomes for broader dissemination and sharing.This award reflects NSF's statutory mission and has been deemed worthy of support through evaluation using the Foundation's intellectual merit and broader impacts review criteria.\""
      ]
     },
     "execution_count": 89,
     "metadata": {},
     "output_type": "execute_result"
    }
   ],
   "source": [
    "big_data_term_df[\"working_abstract\"].iloc[2848]"
   ]
  },
  {
   "cell_type": "code",
   "execution_count": null,
   "metadata": {},
   "outputs": [],
   "source": []
  },
  {
   "cell_type": "code",
   "execution_count": 86,
   "metadata": {},
   "outputs": [
    {
     "data": {
      "image/png": "[encoded data removed]",
      "text/plain": [
       "<Figure size 640x480 with 1 Axes>"
      ]
     },
     "metadata": {},
     "output_type": "display_data"
    }
   ],
   "source": [
    "# relationship between score difference and number of occurences of big data\n",
    "\n",
    "plt.scatter(big_data_term_df[\"big_data_cnt\"], diff)\n",
    "plt.title('Abstracts with \"big data\" Removed')\n",
    "plt.ylabel('Difference in Scores')\n",
    "plt.xlabel('Occurrences of \"big data\" in Abstract')\n",
    "plt.savefig('figures/cnt_vs_diff.png')"
   ]
  },
  {
   "cell_type": "code",
   "execution_count": 101,
   "metadata": {},
   "outputs": [
    {
     "data": {
      "text/plain": [
       "array([0.30187874, 0.31678033, 0.32102893, 0.32200842, 0.32335016,\n",
       "       0.32987518, 0.33412708, 0.33830181, 0.34300375, 0.34832905,\n",
       "       0.34974134, 0.35601936, 0.35862094, 0.35862094, 0.35862094,\n",
       "       0.35862094, 0.35862094, 0.3811667 , 0.39299208, 0.42569103])"
      ]
     },
     "execution_count": 101,
     "metadata": {},
     "output_type": "execute_result"
    }
   ],
   "source": [
    "np.sort(diff)[-20:]"
   ]
  },
  {
   "cell_type": "code",
   "execution_count": null,
   "metadata": {},
   "outputs": [],
   "source": []
  }
 ],
 "metadata": {
  "kernelspec": {
   "display_name": "Python [conda env:.conda-bert_new]",
   "language": "python",
   "name": "conda-env-.conda-bert_new-py"
  },
  "language_info": {
   "codemirror_mode": {
    "name": "ipython",
    "version": 3
   },
   "file_extension": ".py",
   "mimetype": "text/x-python",
   "name": "python",
   "nbconvert_exporter": "python",
   "pygments_lexer": "ipython3",
   "version": "3.8.13"
  }
 },
 "nbformat": 4,
 "nbformat_minor": 4
}
