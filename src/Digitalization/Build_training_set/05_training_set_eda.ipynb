{
 "cells": [
  {
   "cell_type": "markdown",
   "metadata": {},
   "source": [
    "### EDA on labeled set of abstracts\n",
    "\n",
    "covers initial set (1200) and updated set (1600) "
   ]
  },
  {
   "cell_type": "code",
   "execution_count": 1,
   "metadata": {},
   "outputs": [],
   "source": [
    "import pandas as pd\n",
    "pd.set_option('display.max_columns', 50)\n",
    "\n",
    "import numpy as np\n",
    "import pickle\n",
    "import matplotlib.pyplot as plt\n",
    "import time\n",
    "\n",
    "import seaborn as sns"
   ]
  },
  {
   "cell_type": "code",
   "execution_count": 2,
   "metadata": {},
   "outputs": [
    {
     "data": {
      "text/plain": [
       "(1143869, 30)"
      ]
     },
     "execution_count": 2,
     "metadata": {},
     "output_type": "execute_result"
    }
   ],
   "source": [
    "df = pd.read_pickle(\"../../../data/prd/Paper/FR_meta_and_final_tokens_23DEC21.pkl\")\n",
    "df.reset_index(inplace = True, drop = True)\n",
    "df.shape"
   ]
  },
  {
   "cell_type": "code",
   "execution_count": 3,
   "metadata": {},
   "outputs": [
    {
     "data": {
      "text/plain": [
       "PROJECT_ID                     object\n",
       "ABSTRACT                       object\n",
       "PROJECT_TERMS                  object\n",
       "PROJECT_TITLE                  object\n",
       "DEPARTMENT                     object\n",
       "AGENCY                         object\n",
       "IC_CENTER                      object\n",
       "PROJECT_NUMBER                 object\n",
       "PROJECT_START_DATE             object\n",
       "PROJECT_END_DATE               object\n",
       "CONTACT_PI_PROJECT_LEADER      object\n",
       "OTHER_PIS                      object\n",
       "CONGRESSIONAL_DISTRICT         object\n",
       "DUNS_NUMBER                    object\n",
       "ORGANIZATION_NAME              object\n",
       "ORGANIZATION_CITY              object\n",
       "ORGANIZATION_STATE             object\n",
       "ORGANIZATION_ZIP               object\n",
       "ORGANIZATION_COUNTRY           object\n",
       "BUDGET_START_DATE              object\n",
       "BUDGET_END_DATE                object\n",
       "CFDA_CODE                      object\n",
       "FY                             object\n",
       "FY_TOTAL_COST                 float64\n",
       "FY_TOTAL_COST_SUB_PROJECTS    float64\n",
       "ORG_COUNT                       int64\n",
       "PI_COUNT                        int64\n",
       "FY_TOTAL_COST_SUM             float64\n",
       "NUM_RECORDS                     int64\n",
       "final_tokens                   object\n",
       "dtype: object"
      ]
     },
     "execution_count": 3,
     "metadata": {},
     "output_type": "execute_result"
    }
   ],
   "source": [
    "df.dtypes"
   ]
  },
  {
   "cell_type": "code",
   "execution_count": 4,
   "metadata": {},
   "outputs": [
    {
     "data": {
      "text/html": [
       "<div>\n",
       "<style scoped>\n",
       "    .dataframe tbody tr th:only-of-type {\n",
       "        vertical-align: middle;\n",
       "    }\n",
       "\n",
       "    .dataframe tbody tr th {\n",
       "        vertical-align: top;\n",
       "    }\n",
       "\n",
       "    .dataframe thead th {\n",
       "        text-align: right;\n",
       "    }\n",
       "</style>\n",
       "<table border=\"1\" class=\"dataframe\">\n",
       "  <thead>\n",
       "    <tr style=\"text-align: right;\">\n",
       "      <th></th>\n",
       "      <th>PROJECT_ID</th>\n",
       "      <th>ABSTRACT</th>\n",
       "      <th>PROJECT_TERMS</th>\n",
       "      <th>PROJECT_TITLE</th>\n",
       "      <th>DEPARTMENT</th>\n",
       "      <th>AGENCY</th>\n",
       "      <th>IC_CENTER</th>\n",
       "      <th>PROJECT_NUMBER</th>\n",
       "      <th>PROJECT_START_DATE</th>\n",
       "      <th>PROJECT_END_DATE</th>\n",
       "      <th>CONTACT_PI_PROJECT_LEADER</th>\n",
       "      <th>OTHER_PIS</th>\n",
       "      <th>CONGRESSIONAL_DISTRICT</th>\n",
       "      <th>DUNS_NUMBER</th>\n",
       "      <th>ORGANIZATION_NAME</th>\n",
       "      <th>ORGANIZATION_CITY</th>\n",
       "      <th>ORGANIZATION_STATE</th>\n",
       "      <th>ORGANIZATION_ZIP</th>\n",
       "      <th>ORGANIZATION_COUNTRY</th>\n",
       "      <th>BUDGET_START_DATE</th>\n",
       "      <th>BUDGET_END_DATE</th>\n",
       "      <th>CFDA_CODE</th>\n",
       "      <th>FY</th>\n",
       "      <th>FY_TOTAL_COST</th>\n",
       "      <th>FY_TOTAL_COST_SUB_PROJECTS</th>\n",
       "      <th>ORG_COUNT</th>\n",
       "      <th>PI_COUNT</th>\n",
       "      <th>FY_TOTAL_COST_SUM</th>\n",
       "      <th>NUM_RECORDS</th>\n",
       "      <th>final_tokens</th>\n",
       "    </tr>\n",
       "  </thead>\n",
       "  <tbody>\n",
       "    <tr>\n",
       "      <th>0</th>\n",
       "      <td>89996</td>\n",
       "      <td>This is a project to explore Game-based, Metap...</td>\n",
       "      <td>Achievement; analog; base; Cognitive Science; ...</td>\n",
       "      <td>RUI: CYGAMES: CYBER-ENABLED TEACHING AND LEARN...</td>\n",
       "      <td>NSF</td>\n",
       "      <td>NSF</td>\n",
       "      <td>NaN</td>\n",
       "      <td>0814512</td>\n",
       "      <td>9/15/2008</td>\n",
       "      <td>8/31/2012</td>\n",
       "      <td>REESE, DEBBIE D</td>\n",
       "      <td>CARTER, BEVERLY; WOOD, CHARLES; HITT, BEN</td>\n",
       "      <td>01</td>\n",
       "      <td>068719400</td>\n",
       "      <td>WHEELING JESUIT UNIVERSITY</td>\n",
       "      <td>WHEELING</td>\n",
       "      <td>WV</td>\n",
       "      <td>26003-6243</td>\n",
       "      <td>UNITED STATES</td>\n",
       "      <td>NaN</td>\n",
       "      <td>NaN</td>\n",
       "      <td>47.076</td>\n",
       "      <td>2008</td>\n",
       "      <td>1999467.0</td>\n",
       "      <td>NaN</td>\n",
       "      <td>1</td>\n",
       "      <td>1</td>\n",
       "      <td>1999467.0</td>\n",
       "      <td>1</td>\n",
       "      <td>project explore game base metaphor enhanced ga...</td>\n",
       "    </tr>\n",
       "    <tr>\n",
       "      <th>1</th>\n",
       "      <td>89997</td>\n",
       "      <td>Institution: Franklin Institute Science Museum...</td>\n",
       "      <td>Active Learning; Child; Computer software; des...</td>\n",
       "      <td>ARIEL - AUGMENTED REALITY FOR INTERPRETIVE AND...</td>\n",
       "      <td>NSF</td>\n",
       "      <td>NSF</td>\n",
       "      <td>NaN</td>\n",
       "      <td>0741659</td>\n",
       "      <td>9/15/2008</td>\n",
       "      <td>8/31/2012</td>\n",
       "      <td>SNYDER, STEVEN</td>\n",
       "      <td>ELINICH, KAREN; YOON, SUSAN</td>\n",
       "      <td>02</td>\n",
       "      <td>001741859</td>\n",
       "      <td>FRANKLIN INSTITUTE</td>\n",
       "      <td>PHILADELPHIA</td>\n",
       "      <td>PA</td>\n",
       "      <td>19103-1115</td>\n",
       "      <td>UNITED STATES</td>\n",
       "      <td>NaN</td>\n",
       "      <td>NaN</td>\n",
       "      <td>47.076</td>\n",
       "      <td>2008</td>\n",
       "      <td>1799699.0</td>\n",
       "      <td>NaN</td>\n",
       "      <td>1</td>\n",
       "      <td>1</td>\n",
       "      <td>1799699.0</td>\n",
       "      <td>1</td>\n",
       "      <td>institution franklin institute science museum ...</td>\n",
       "    </tr>\n",
       "    <tr>\n",
       "      <th>2</th>\n",
       "      <td>89998</td>\n",
       "      <td>Through programs (including small group conver...</td>\n",
       "      <td>Address; Age; Birth; Brain; Caregivers; Child;...</td>\n",
       "      <td>BRIGHTER FUTURES: PUBLIC DELIBERATION ABOUT TH...</td>\n",
       "      <td>NSF</td>\n",
       "      <td>NSF</td>\n",
       "      <td>NaN</td>\n",
       "      <td>0813522</td>\n",
       "      <td>9/15/2008</td>\n",
       "      <td>8/31/2011</td>\n",
       "      <td>FINK, LAURIE KLEINBAUM</td>\n",
       "      <td>CADIGAN, KAREN; ELLENBOGEN, KIRSTEN</td>\n",
       "      <td>04</td>\n",
       "      <td>061451670</td>\n",
       "      <td>SCIENCE MUSEUM OF MINNESOTA</td>\n",
       "      <td>SAINT PAUL</td>\n",
       "      <td>MN</td>\n",
       "      <td>55102-1202</td>\n",
       "      <td>UNITED STATES</td>\n",
       "      <td>NaN</td>\n",
       "      <td>NaN</td>\n",
       "      <td>47.076</td>\n",
       "      <td>2008</td>\n",
       "      <td>1505858.0</td>\n",
       "      <td>NaN</td>\n",
       "      <td>1</td>\n",
       "      <td>1</td>\n",
       "      <td>1505858.0</td>\n",
       "      <td>1</td>\n",
       "      <td>program include small group conversation citiz...</td>\n",
       "    </tr>\n",
       "    <tr>\n",
       "      <th>3</th>\n",
       "      <td>89999</td>\n",
       "      <td>In partnership with the American Chemical Soci...</td>\n",
       "      <td>Advanced Development; American; Chemicals; Che...</td>\n",
       "      <td>FOSTERING US-INTERNATIONAL COLLABORATIVE PARTN...</td>\n",
       "      <td>NSF</td>\n",
       "      <td>NSF</td>\n",
       "      <td>NaN</td>\n",
       "      <td>0838627</td>\n",
       "      <td>8/1/2008</td>\n",
       "      <td>12/31/2010</td>\n",
       "      <td>JOST, JOHN W</td>\n",
       "      <td>MILLER, BRADLEY; BOWMAN, KATHERINE</td>\n",
       "      <td>04</td>\n",
       "      <td>009059242</td>\n",
       "      <td>INTERNATIONAL UNION OF PURE AND APPLIED CHEMISTRY</td>\n",
       "      <td>DURHAM</td>\n",
       "      <td>NC</td>\n",
       "      <td>27709-3757</td>\n",
       "      <td>UNITED STATES</td>\n",
       "      <td>NaN</td>\n",
       "      <td>NaN</td>\n",
       "      <td>47.049</td>\n",
       "      <td>2008</td>\n",
       "      <td>51000.0</td>\n",
       "      <td>NaN</td>\n",
       "      <td>1</td>\n",
       "      <td>1</td>\n",
       "      <td>51000.0</td>\n",
       "      <td>1</td>\n",
       "      <td>partnership american chemical society acs nati...</td>\n",
       "    </tr>\n",
       "    <tr>\n",
       "      <th>4</th>\n",
       "      <td>90001</td>\n",
       "      <td>The Center for Molecular Interfacing (CMI) wil...</td>\n",
       "      <td>Address; Architecture; Carbon Nanotubes; Catal...</td>\n",
       "      <td>CCI PHASE I: CENTER FOR MOLECULAR INTERFACING</td>\n",
       "      <td>NSF</td>\n",
       "      <td>NSF</td>\n",
       "      <td>NaN</td>\n",
       "      <td>0847926</td>\n",
       "      <td>10/1/2008</td>\n",
       "      <td>9/30/2011</td>\n",
       "      <td>ABRUNA, HECTOR D</td>\n",
       "      <td>NaN</td>\n",
       "      <td>22</td>\n",
       "      <td>872612445</td>\n",
       "      <td>CORNELL UNIVERSITY ITHACA</td>\n",
       "      <td>ITHACA</td>\n",
       "      <td>NY</td>\n",
       "      <td>14850-2820</td>\n",
       "      <td>UNITED STATES</td>\n",
       "      <td>NaN</td>\n",
       "      <td>NaN</td>\n",
       "      <td>47.049</td>\n",
       "      <td>2008</td>\n",
       "      <td>1519821.0</td>\n",
       "      <td>NaN</td>\n",
       "      <td>1</td>\n",
       "      <td>1</td>\n",
       "      <td>1519821.0</td>\n",
       "      <td>1</td>\n",
       "      <td>center molecular interfacing cmi enable integr...</td>\n",
       "    </tr>\n",
       "  </tbody>\n",
       "</table>\n",
       "</div>"
      ],
      "text/plain": [
       "  PROJECT_ID                                           ABSTRACT  \\\n",
       "0      89996  This is a project to explore Game-based, Metap...   \n",
       "1      89997  Institution: Franklin Institute Science Museum...   \n",
       "2      89998  Through programs (including small group conver...   \n",
       "3      89999  In partnership with the American Chemical Soci...   \n",
       "4      90001  The Center for Molecular Interfacing (CMI) wil...   \n",
       "\n",
       "                                       PROJECT_TERMS  \\\n",
       "0  Achievement; analog; base; Cognitive Science; ...   \n",
       "1  Active Learning; Child; Computer software; des...   \n",
       "2  Address; Age; Birth; Brain; Caregivers; Child;...   \n",
       "3  Advanced Development; American; Chemicals; Che...   \n",
       "4  Address; Architecture; Carbon Nanotubes; Catal...   \n",
       "\n",
       "                                       PROJECT_TITLE DEPARTMENT AGENCY  \\\n",
       "0  RUI: CYGAMES: CYBER-ENABLED TEACHING AND LEARN...        NSF    NSF   \n",
       "1  ARIEL - AUGMENTED REALITY FOR INTERPRETIVE AND...        NSF    NSF   \n",
       "2  BRIGHTER FUTURES: PUBLIC DELIBERATION ABOUT TH...        NSF    NSF   \n",
       "3  FOSTERING US-INTERNATIONAL COLLABORATIVE PARTN...        NSF    NSF   \n",
       "4      CCI PHASE I: CENTER FOR MOLECULAR INTERFACING        NSF    NSF   \n",
       "\n",
       "  IC_CENTER PROJECT_NUMBER PROJECT_START_DATE PROJECT_END_DATE  \\\n",
       "0       NaN        0814512          9/15/2008        8/31/2012   \n",
       "1       NaN        0741659          9/15/2008        8/31/2012   \n",
       "2       NaN        0813522          9/15/2008        8/31/2011   \n",
       "3       NaN        0838627           8/1/2008       12/31/2010   \n",
       "4       NaN        0847926          10/1/2008        9/30/2011   \n",
       "\n",
       "  CONTACT_PI_PROJECT_LEADER                                  OTHER_PIS  \\\n",
       "0           REESE, DEBBIE D  CARTER, BEVERLY; WOOD, CHARLES; HITT, BEN   \n",
       "1            SNYDER, STEVEN                ELINICH, KAREN; YOON, SUSAN   \n",
       "2    FINK, LAURIE KLEINBAUM        CADIGAN, KAREN; ELLENBOGEN, KIRSTEN   \n",
       "3              JOST, JOHN W         MILLER, BRADLEY; BOWMAN, KATHERINE   \n",
       "4          ABRUNA, HECTOR D                                        NaN   \n",
       "\n",
       "  CONGRESSIONAL_DISTRICT DUNS_NUMBER  \\\n",
       "0                     01   068719400   \n",
       "1                     02   001741859   \n",
       "2                     04   061451670   \n",
       "3                     04   009059242   \n",
       "4                     22   872612445   \n",
       "\n",
       "                                   ORGANIZATION_NAME ORGANIZATION_CITY  \\\n",
       "0                         WHEELING JESUIT UNIVERSITY          WHEELING   \n",
       "1                                 FRANKLIN INSTITUTE      PHILADELPHIA   \n",
       "2                        SCIENCE MUSEUM OF MINNESOTA        SAINT PAUL   \n",
       "3  INTERNATIONAL UNION OF PURE AND APPLIED CHEMISTRY            DURHAM   \n",
       "4                          CORNELL UNIVERSITY ITHACA            ITHACA   \n",
       "\n",
       "  ORGANIZATION_STATE ORGANIZATION_ZIP ORGANIZATION_COUNTRY BUDGET_START_DATE  \\\n",
       "0                 WV       26003-6243        UNITED STATES               NaN   \n",
       "1                 PA       19103-1115        UNITED STATES               NaN   \n",
       "2                 MN       55102-1202        UNITED STATES               NaN   \n",
       "3                 NC       27709-3757        UNITED STATES               NaN   \n",
       "4                 NY       14850-2820        UNITED STATES               NaN   \n",
       "\n",
       "  BUDGET_END_DATE CFDA_CODE    FY  FY_TOTAL_COST  FY_TOTAL_COST_SUB_PROJECTS  \\\n",
       "0             NaN    47.076  2008      1999467.0                         NaN   \n",
       "1             NaN    47.076  2008      1799699.0                         NaN   \n",
       "2             NaN    47.076  2008      1505858.0                         NaN   \n",
       "3             NaN    47.049  2008        51000.0                         NaN   \n",
       "4             NaN    47.049  2008      1519821.0                         NaN   \n",
       "\n",
       "   ORG_COUNT  PI_COUNT  FY_TOTAL_COST_SUM  NUM_RECORDS  \\\n",
       "0          1         1          1999467.0            1   \n",
       "1          1         1          1799699.0            1   \n",
       "2          1         1          1505858.0            1   \n",
       "3          1         1            51000.0            1   \n",
       "4          1         1          1519821.0            1   \n",
       "\n",
       "                                        final_tokens  \n",
       "0  project explore game base metaphor enhanced ga...  \n",
       "1  institution franklin institute science museum ...  \n",
       "2  program include small group conversation citiz...  \n",
       "3  partnership american chemical society acs nati...  \n",
       "4  center molecular interfacing cmi enable integr...  "
      ]
     },
     "execution_count": 4,
     "metadata": {},
     "output_type": "execute_result"
    }
   ],
   "source": [
    "df.head()"
   ]
  },
  {
   "cell_type": "code",
   "execution_count": null,
   "metadata": {},
   "outputs": [],
   "source": []
  },
  {
   "cell_type": "markdown",
   "metadata": {},
   "source": [
    "#### Initial labeled set - 1,200 abstracts"
   ]
  },
  {
   "cell_type": "code",
   "execution_count": 5,
   "metadata": {},
   "outputs": [
    {
     "name": "stdout",
     "output_type": "stream",
     "text": [
      "(1200, 8)\n"
     ]
    }
   ],
   "source": [
    "old_df = pd.read_csv('../../../data/prd/Digital_abstract_labelled/AUG-2022-labelled_abstracts.csv')\n",
    "print(old_df.shape)"
   ]
  },
  {
   "cell_type": "code",
   "execution_count": 6,
   "metadata": {},
   "outputs": [
    {
     "data": {
      "text/plain": [
       "Unnamed: 0                    int64\n",
       "Duplicates                    int64\n",
       "index                         int64\n",
       "PROJECT_ID                    int64\n",
       "ABSTRACT                     object\n",
       "Is it related to Big-Data     int64\n",
       "Expert name                  object\n",
       "label                        object\n",
       "dtype: object"
      ]
     },
     "execution_count": 6,
     "metadata": {},
     "output_type": "execute_result"
    }
   ],
   "source": [
    "old_df.dtypes"
   ]
  },
  {
   "cell_type": "code",
   "execution_count": 7,
   "metadata": {},
   "outputs": [],
   "source": [
    "old_df[\"PROJECT_ID\"] = old_df[\"PROJECT_ID\"].astype(str)\n",
    "old_df = old_df.drop(columns=['Unnamed: 0'])"
   ]
  },
  {
   "cell_type": "code",
   "execution_count": 8,
   "metadata": {},
   "outputs": [
    {
     "data": {
      "text/html": [
       "<div>\n",
       "<style scoped>\n",
       "    .dataframe tbody tr th:only-of-type {\n",
       "        vertical-align: middle;\n",
       "    }\n",
       "\n",
       "    .dataframe tbody tr th {\n",
       "        vertical-align: top;\n",
       "    }\n",
       "\n",
       "    .dataframe thead th {\n",
       "        text-align: right;\n",
       "    }\n",
       "</style>\n",
       "<table border=\"1\" class=\"dataframe\">\n",
       "  <thead>\n",
       "    <tr style=\"text-align: right;\">\n",
       "      <th></th>\n",
       "      <th>Duplicates</th>\n",
       "      <th>index</th>\n",
       "      <th>PROJECT_ID</th>\n",
       "      <th>ABSTRACT</th>\n",
       "      <th>Is it related to Big-Data</th>\n",
       "      <th>Expert name</th>\n",
       "      <th>label</th>\n",
       "    </tr>\n",
       "  </thead>\n",
       "  <tbody>\n",
       "    <tr>\n",
       "      <th>0</th>\n",
       "      <td>0</td>\n",
       "      <td>979</td>\n",
       "      <td>950056</td>\n",
       "      <td>ï»¿   DESCRIPTION (provided by applicant): Adv...</td>\n",
       "      <td>1</td>\n",
       "      <td>Kristian</td>\n",
       "      <td>Big-data</td>\n",
       "    </tr>\n",
       "    <tr>\n",
       "      <th>1</th>\n",
       "      <td>0</td>\n",
       "      <td>816</td>\n",
       "      <td>1178172</td>\n",
       "      <td>Project Summary/AbstractThe establishment of t...</td>\n",
       "      <td>1</td>\n",
       "      <td>Kristian</td>\n",
       "      <td>Big-data</td>\n",
       "    </tr>\n",
       "    <tr>\n",
       "      <th>2</th>\n",
       "      <td>0</td>\n",
       "      <td>1096</td>\n",
       "      <td>163037</td>\n",
       "      <td>DESCRIPTION (provided by applicant): The long-...</td>\n",
       "      <td>0</td>\n",
       "      <td>Kristian</td>\n",
       "      <td>Non Big-data</td>\n",
       "    </tr>\n",
       "    <tr>\n",
       "      <th>3</th>\n",
       "      <td>0</td>\n",
       "      <td>725</td>\n",
       "      <td>880197</td>\n",
       "      <td>DESCRIPTION (provided by applicant): The most ...</td>\n",
       "      <td>0</td>\n",
       "      <td>Kristian</td>\n",
       "      <td>Non Big-data</td>\n",
       "    </tr>\n",
       "    <tr>\n",
       "      <th>4</th>\n",
       "      <td>0</td>\n",
       "      <td>92</td>\n",
       "      <td>887331</td>\n",
       "      <td>Transsphenoidal surgery (TSS) is the best trea...</td>\n",
       "      <td>0</td>\n",
       "      <td>Kristian</td>\n",
       "      <td>Non Big-data</td>\n",
       "    </tr>\n",
       "  </tbody>\n",
       "</table>\n",
       "</div>"
      ],
      "text/plain": [
       "   Duplicates  index PROJECT_ID  \\\n",
       "0           0    979     950056   \n",
       "1           0    816    1178172   \n",
       "2           0   1096     163037   \n",
       "3           0    725     880197   \n",
       "4           0     92     887331   \n",
       "\n",
       "                                            ABSTRACT  \\\n",
       "0  ï»¿   DESCRIPTION (provided by applicant): Adv...   \n",
       "1  Project Summary/AbstractThe establishment of t...   \n",
       "2  DESCRIPTION (provided by applicant): The long-...   \n",
       "3  DESCRIPTION (provided by applicant): The most ...   \n",
       "4  Transsphenoidal surgery (TSS) is the best trea...   \n",
       "\n",
       "   Is it related to Big-Data Expert name         label  \n",
       "0                          1    Kristian      Big-data  \n",
       "1                          1    Kristian      Big-data  \n",
       "2                          0    Kristian  Non Big-data  \n",
       "3                          0    Kristian  Non Big-data  \n",
       "4                          0    Kristian  Non Big-data  "
      ]
     },
     "execution_count": 8,
     "metadata": {},
     "output_type": "execute_result"
    }
   ],
   "source": [
    "old_df.head()"
   ]
  },
  {
   "cell_type": "code",
   "execution_count": null,
   "metadata": {},
   "outputs": [],
   "source": []
  },
  {
   "cell_type": "code",
   "execution_count": 9,
   "metadata": {},
   "outputs": [],
   "source": [
    "# merge agency and year information into training set \n",
    "\n",
    "d = old_df.merge(df[[\"PROJECT_ID\", \"DEPARTMENT\", \"FY\"]], how = 'left', on = \"PROJECT_ID\")"
   ]
  },
  {
   "cell_type": "code",
   "execution_count": 10,
   "metadata": {},
   "outputs": [
    {
     "data": {
      "text/plain": [
       "(1200, 9)"
      ]
     },
     "execution_count": 10,
     "metadata": {},
     "output_type": "execute_result"
    }
   ],
   "source": [
    "d.shape"
   ]
  },
  {
   "cell_type": "code",
   "execution_count": 11,
   "metadata": {},
   "outputs": [
    {
     "data": {
      "text/html": [
       "<div>\n",
       "<style scoped>\n",
       "    .dataframe tbody tr th:only-of-type {\n",
       "        vertical-align: middle;\n",
       "    }\n",
       "\n",
       "    .dataframe tbody tr th {\n",
       "        vertical-align: top;\n",
       "    }\n",
       "\n",
       "    .dataframe thead th {\n",
       "        text-align: right;\n",
       "    }\n",
       "</style>\n",
       "<table border=\"1\" class=\"dataframe\">\n",
       "  <thead>\n",
       "    <tr style=\"text-align: right;\">\n",
       "      <th></th>\n",
       "      <th>Duplicates</th>\n",
       "      <th>index</th>\n",
       "      <th>PROJECT_ID</th>\n",
       "      <th>ABSTRACT</th>\n",
       "      <th>Is it related to Big-Data</th>\n",
       "      <th>Expert name</th>\n",
       "      <th>label</th>\n",
       "      <th>DEPARTMENT</th>\n",
       "      <th>FY</th>\n",
       "    </tr>\n",
       "  </thead>\n",
       "  <tbody>\n",
       "    <tr>\n",
       "      <th>0</th>\n",
       "      <td>0</td>\n",
       "      <td>979</td>\n",
       "      <td>950056</td>\n",
       "      <td>ï»¿   DESCRIPTION (provided by applicant): Adv...</td>\n",
       "      <td>1</td>\n",
       "      <td>Kristian</td>\n",
       "      <td>Big-data</td>\n",
       "      <td>HHS</td>\n",
       "      <td>2017</td>\n",
       "    </tr>\n",
       "    <tr>\n",
       "      <th>1</th>\n",
       "      <td>0</td>\n",
       "      <td>816</td>\n",
       "      <td>1178172</td>\n",
       "      <td>Project Summary/AbstractThe establishment of t...</td>\n",
       "      <td>1</td>\n",
       "      <td>Kristian</td>\n",
       "      <td>Big-data</td>\n",
       "      <td>HHS</td>\n",
       "      <td>2019</td>\n",
       "    </tr>\n",
       "    <tr>\n",
       "      <th>2</th>\n",
       "      <td>0</td>\n",
       "      <td>1096</td>\n",
       "      <td>163037</td>\n",
       "      <td>DESCRIPTION (provided by applicant): The long-...</td>\n",
       "      <td>0</td>\n",
       "      <td>Kristian</td>\n",
       "      <td>Non Big-data</td>\n",
       "      <td>HHS</td>\n",
       "      <td>2008</td>\n",
       "    </tr>\n",
       "    <tr>\n",
       "      <th>3</th>\n",
       "      <td>0</td>\n",
       "      <td>725</td>\n",
       "      <td>880197</td>\n",
       "      <td>DESCRIPTION (provided by applicant): The most ...</td>\n",
       "      <td>0</td>\n",
       "      <td>Kristian</td>\n",
       "      <td>Non Big-data</td>\n",
       "      <td>HHS</td>\n",
       "      <td>2016</td>\n",
       "    </tr>\n",
       "    <tr>\n",
       "      <th>4</th>\n",
       "      <td>0</td>\n",
       "      <td>92</td>\n",
       "      <td>887331</td>\n",
       "      <td>Transsphenoidal surgery (TSS) is the best trea...</td>\n",
       "      <td>0</td>\n",
       "      <td>Kristian</td>\n",
       "      <td>Non Big-data</td>\n",
       "      <td>HHS</td>\n",
       "      <td>2015</td>\n",
       "    </tr>\n",
       "  </tbody>\n",
       "</table>\n",
       "</div>"
      ],
      "text/plain": [
       "   Duplicates  index PROJECT_ID  \\\n",
       "0           0    979     950056   \n",
       "1           0    816    1178172   \n",
       "2           0   1096     163037   \n",
       "3           0    725     880197   \n",
       "4           0     92     887331   \n",
       "\n",
       "                                            ABSTRACT  \\\n",
       "0  ï»¿   DESCRIPTION (provided by applicant): Adv...   \n",
       "1  Project Summary/AbstractThe establishment of t...   \n",
       "2  DESCRIPTION (provided by applicant): The long-...   \n",
       "3  DESCRIPTION (provided by applicant): The most ...   \n",
       "4  Transsphenoidal surgery (TSS) is the best trea...   \n",
       "\n",
       "   Is it related to Big-Data Expert name         label DEPARTMENT    FY  \n",
       "0                          1    Kristian      Big-data        HHS  2017  \n",
       "1                          1    Kristian      Big-data        HHS  2019  \n",
       "2                          0    Kristian  Non Big-data        HHS  2008  \n",
       "3                          0    Kristian  Non Big-data        HHS  2016  \n",
       "4                          0    Kristian  Non Big-data        HHS  2015  "
      ]
     },
     "execution_count": 11,
     "metadata": {},
     "output_type": "execute_result"
    }
   ],
   "source": [
    "d.head()"
   ]
  },
  {
   "cell_type": "code",
   "execution_count": null,
   "metadata": {},
   "outputs": [],
   "source": []
  },
  {
   "cell_type": "markdown",
   "metadata": {},
   "source": [
    "##### Agency, FY, label break downs"
   ]
  },
  {
   "cell_type": "code",
   "execution_count": 12,
   "metadata": {},
   "outputs": [
    {
     "data": {
      "text/plain": [
       "Non Big-data    713\n",
       "Big-data        487\n",
       "Name: label, dtype: int64"
      ]
     },
     "execution_count": 12,
     "metadata": {},
     "output_type": "execute_result"
    }
   ],
   "source": [
    "d[\"label\"].value_counts()"
   ]
  },
  {
   "cell_type": "code",
   "execution_count": 13,
   "metadata": {},
   "outputs": [
    {
     "data": {
      "text/plain": [
       "Non Big-data    59.416667\n",
       "Big-data        40.583333\n",
       "Name: label, dtype: float64"
      ]
     },
     "execution_count": 13,
     "metadata": {},
     "output_type": "execute_result"
    }
   ],
   "source": [
    "100*d[\"label\"].value_counts()/len(d)"
   ]
  },
  {
   "cell_type": "code",
   "execution_count": null,
   "metadata": {},
   "outputs": [],
   "source": []
  },
  {
   "cell_type": "code",
   "execution_count": 14,
   "metadata": {},
   "outputs": [],
   "source": [
    "agency_counts = d[\"DEPARTMENT\"].value_counts()"
   ]
  },
  {
   "cell_type": "code",
   "execution_count": 15,
   "metadata": {},
   "outputs": [
    {
     "data": {
      "text/plain": [
       "Text(0.5, 1.0, 'Project Frequency by Funding Agency')"
      ]
     },
     "execution_count": 15,
     "metadata": {},
     "output_type": "execute_result"
    },
    {
     "data": {
      "image/png": "[encoded data removed]",
      "text/plain": [
       "<Figure size 432x288 with 1 Axes>"
      ]
     },
     "metadata": {
      "needs_background": "light"
     },
     "output_type": "display_data"
    }
   ],
   "source": [
    "# plot\n",
    "agency = agency_counts.index.tolist()\n",
    "count = agency_counts.values\n",
    "\n",
    "fig = plt.figure()\n",
    "ax = fig.add_subplot(111)\n",
    "ax.set_axisbelow(True)\n",
    "plt.grid(True, color = \"whitesmoke\")\n",
    "plt.bar(agency, count, color='navy')\n",
    "#plt.ylim(0,100)\n",
    "plt.xlabel(\"Agency\")\n",
    "plt.ylabel(\"Number of Projects\")\n",
    "plt.title(\"Project Frequency by Funding Agency\")\n",
    "\n",
    "#plt.savefig(\"figures/OECD/agency_dist.png\", dpi = 800, bbox_inches = \"tight\")\n",
    "#plt.savefig(\"figures/OECD/agency_dist.pdf\", dpi = 800, bbox_inches = \"tight\")"
   ]
  },
  {
   "cell_type": "code",
   "execution_count": 16,
   "metadata": {},
   "outputs": [
    {
     "data": {
      "text/html": [
       "<div>\n",
       "<style scoped>\n",
       "    .dataframe tbody tr th:only-of-type {\n",
       "        vertical-align: middle;\n",
       "    }\n",
       "\n",
       "    .dataframe tbody tr th {\n",
       "        vertical-align: top;\n",
       "    }\n",
       "\n",
       "    .dataframe thead tr th {\n",
       "        text-align: left;\n",
       "    }\n",
       "\n",
       "    .dataframe thead tr:last-of-type th {\n",
       "        text-align: right;\n",
       "    }\n",
       "</style>\n",
       "<table border=\"1\" class=\"dataframe\">\n",
       "  <thead>\n",
       "    <tr>\n",
       "      <th></th>\n",
       "      <th colspan=\"3\" halign=\"left\">PROJECT_ID</th>\n",
       "    </tr>\n",
       "    <tr>\n",
       "      <th>label</th>\n",
       "      <th>Big-data</th>\n",
       "      <th>Non Big-data</th>\n",
       "      <th>All</th>\n",
       "    </tr>\n",
       "    <tr>\n",
       "      <th>DEPARTMENT</th>\n",
       "      <th></th>\n",
       "      <th></th>\n",
       "      <th></th>\n",
       "    </tr>\n",
       "  </thead>\n",
       "  <tbody>\n",
       "    <tr>\n",
       "      <th>DOD</th>\n",
       "      <td>2</td>\n",
       "      <td>6</td>\n",
       "      <td>8</td>\n",
       "    </tr>\n",
       "    <tr>\n",
       "      <th>ED</th>\n",
       "      <td>0</td>\n",
       "      <td>1</td>\n",
       "      <td>1</td>\n",
       "    </tr>\n",
       "    <tr>\n",
       "      <th>EPA</th>\n",
       "      <td>0</td>\n",
       "      <td>1</td>\n",
       "      <td>1</td>\n",
       "    </tr>\n",
       "    <tr>\n",
       "      <th>HHS</th>\n",
       "      <td>246</td>\n",
       "      <td>565</td>\n",
       "      <td>811</td>\n",
       "    </tr>\n",
       "    <tr>\n",
       "      <th>NASA</th>\n",
       "      <td>0</td>\n",
       "      <td>9</td>\n",
       "      <td>9</td>\n",
       "    </tr>\n",
       "    <tr>\n",
       "      <th>NSF</th>\n",
       "      <td>234</td>\n",
       "      <td>113</td>\n",
       "      <td>347</td>\n",
       "    </tr>\n",
       "    <tr>\n",
       "      <th>USDA</th>\n",
       "      <td>4</td>\n",
       "      <td>10</td>\n",
       "      <td>14</td>\n",
       "    </tr>\n",
       "    <tr>\n",
       "      <th>VA</th>\n",
       "      <td>1</td>\n",
       "      <td>8</td>\n",
       "      <td>9</td>\n",
       "    </tr>\n",
       "    <tr>\n",
       "      <th>All</th>\n",
       "      <td>487</td>\n",
       "      <td>713</td>\n",
       "      <td>1200</td>\n",
       "    </tr>\n",
       "  </tbody>\n",
       "</table>\n",
       "</div>"
      ],
      "text/plain": [
       "           PROJECT_ID                   \n",
       "label        Big-data Non Big-data   All\n",
       "DEPARTMENT                              \n",
       "DOD                 2            6     8\n",
       "ED                  0            1     1\n",
       "EPA                 0            1     1\n",
       "HHS               246          565   811\n",
       "NASA                0            9     9\n",
       "NSF               234          113   347\n",
       "USDA                4           10    14\n",
       "VA                  1            8     9\n",
       "All               487          713  1200"
      ]
     },
     "execution_count": 16,
     "metadata": {},
     "output_type": "execute_result"
    }
   ],
   "source": [
    "pd.pivot_table(d, values=['PROJECT_ID'], index=['DEPARTMENT'], columns=['label'], aggfunc='count', fill_value=0, margins = True)"
   ]
  },
  {
   "cell_type": "code",
   "execution_count": 17,
   "metadata": {},
   "outputs": [
    {
     "data": {
      "text/plain": [
       "<AxesSubplot:xlabel='DEPARTMENT', ylabel='count'>"
      ]
     },
     "execution_count": 17,
     "metadata": {},
     "output_type": "execute_result"
    },
    {
     "data": {
      "image/png": "[encoded data removed]",
      "text/plain": [
       "<Figure size 432x288 with 1 Axes>"
      ]
     },
     "metadata": {
      "needs_background": "light"
     },
     "output_type": "display_data"
    }
   ],
   "source": [
    "sns.countplot(data=d, x='DEPARTMENT', hue='label')\n",
    "\n",
    "#g.set_axis_labels(\"\", \"Body mass (g)\")\n",
    "#g.legend.set_title(\"\")"
   ]
  },
  {
   "cell_type": "code",
   "execution_count": null,
   "metadata": {},
   "outputs": [],
   "source": []
  },
  {
   "cell_type": "code",
   "execution_count": null,
   "metadata": {},
   "outputs": [],
   "source": []
  },
  {
   "cell_type": "code",
   "execution_count": 18,
   "metadata": {},
   "outputs": [],
   "source": [
    "year_counts = d[\"FY\"].value_counts().sort_index(ascending=True)"
   ]
  },
  {
   "cell_type": "code",
   "execution_count": 19,
   "metadata": {},
   "outputs": [
    {
     "name": "stderr",
     "output_type": "stream",
     "text": [
      "<ipython-input-19-29184aefaed3>:13: UserWarning: FixedFormatter should only be used together with FixedLocator\n",
      "  ax.set_yticklabels(['{:,}'.format(int(x)) for x in ax.get_yticks().tolist()])\n"
     ]
    },
    {
     "data": {
      "text/plain": [
       "Text(0.5, 1.0, 'Project Frequency by FY')"
      ]
     },
     "execution_count": 19,
     "metadata": {},
     "output_type": "execute_result"
    },
    {
     "data": {
      "image/png": "[encoded data removed]",
      "text/plain": [
       "<Figure size 432x288 with 1 Axes>"
      ]
     },
     "metadata": {
      "needs_background": "light"
     },
     "output_type": "display_data"
    }
   ],
   "source": [
    "# plot\n",
    "year = year_counts.index.tolist()\n",
    "count = year_counts.values\n",
    "\n",
    "fig = plt.figure()\n",
    "ax = fig.add_subplot(111)\n",
    "ax.set_axisbelow(True)\n",
    "plt.grid(True, color = \"whitesmoke\")\n",
    "plt.bar(year, count, color='navy')\n",
    "#plt.xlim(-0.7, len(year)-0.3)\n",
    "#plt.xlim(2007.3,2020.7)\n",
    "plt.xticks(year, rotation=45)\n",
    "ax.set_yticklabels(['{:,}'.format(int(x)) for x in ax.get_yticks().tolist()])\n",
    "#x_ticks = ax.xaxis.get_major_ticks()\n",
    "#x_ticks[-1].label1.set_visible(False)\n",
    "plt.xlabel(\"FY\")\n",
    "plt.ylabel(\"Number of Projects\")\n",
    "plt.title(\"Project Frequency by FY\")\n",
    "\n",
    "#plt.savefig(\"startyr_freq.png\", dpi = 800, bbox_inches = \"tight\")\n",
    "#plt.savefig(\"startyr_freq.pdf\", dpi = 800, bbox_inches = \"tight\")"
   ]
  },
  {
   "cell_type": "code",
   "execution_count": 20,
   "metadata": {},
   "outputs": [
    {
     "data": {
      "text/html": [
       "<div>\n",
       "<style scoped>\n",
       "    .dataframe tbody tr th:only-of-type {\n",
       "        vertical-align: middle;\n",
       "    }\n",
       "\n",
       "    .dataframe tbody tr th {\n",
       "        vertical-align: top;\n",
       "    }\n",
       "\n",
       "    .dataframe thead tr th {\n",
       "        text-align: left;\n",
       "    }\n",
       "\n",
       "    .dataframe thead tr:last-of-type th {\n",
       "        text-align: right;\n",
       "    }\n",
       "</style>\n",
       "<table border=\"1\" class=\"dataframe\">\n",
       "  <thead>\n",
       "    <tr>\n",
       "      <th></th>\n",
       "      <th colspan=\"3\" halign=\"left\">PROJECT_ID</th>\n",
       "    </tr>\n",
       "    <tr>\n",
       "      <th>label</th>\n",
       "      <th>Big-data</th>\n",
       "      <th>Non Big-data</th>\n",
       "      <th>All</th>\n",
       "    </tr>\n",
       "    <tr>\n",
       "      <th>FY</th>\n",
       "      <th></th>\n",
       "      <th></th>\n",
       "      <th></th>\n",
       "    </tr>\n",
       "  </thead>\n",
       "  <tbody>\n",
       "    <tr>\n",
       "      <th>2008</th>\n",
       "      <td>5</td>\n",
       "      <td>52</td>\n",
       "      <td>57</td>\n",
       "    </tr>\n",
       "    <tr>\n",
       "      <th>2009</th>\n",
       "      <td>3</td>\n",
       "      <td>53</td>\n",
       "      <td>56</td>\n",
       "    </tr>\n",
       "    <tr>\n",
       "      <th>2010</th>\n",
       "      <td>2</td>\n",
       "      <td>46</td>\n",
       "      <td>48</td>\n",
       "    </tr>\n",
       "    <tr>\n",
       "      <th>2011</th>\n",
       "      <td>4</td>\n",
       "      <td>42</td>\n",
       "      <td>46</td>\n",
       "    </tr>\n",
       "    <tr>\n",
       "      <th>2012</th>\n",
       "      <td>12</td>\n",
       "      <td>47</td>\n",
       "      <td>59</td>\n",
       "    </tr>\n",
       "    <tr>\n",
       "      <th>2013</th>\n",
       "      <td>26</td>\n",
       "      <td>47</td>\n",
       "      <td>73</td>\n",
       "    </tr>\n",
       "    <tr>\n",
       "      <th>2014</th>\n",
       "      <td>30</td>\n",
       "      <td>46</td>\n",
       "      <td>76</td>\n",
       "    </tr>\n",
       "    <tr>\n",
       "      <th>2015</th>\n",
       "      <td>51</td>\n",
       "      <td>50</td>\n",
       "      <td>101</td>\n",
       "    </tr>\n",
       "    <tr>\n",
       "      <th>2016</th>\n",
       "      <td>78</td>\n",
       "      <td>60</td>\n",
       "      <td>138</td>\n",
       "    </tr>\n",
       "    <tr>\n",
       "      <th>2017</th>\n",
       "      <td>75</td>\n",
       "      <td>61</td>\n",
       "      <td>136</td>\n",
       "    </tr>\n",
       "    <tr>\n",
       "      <th>2018</th>\n",
       "      <td>76</td>\n",
       "      <td>66</td>\n",
       "      <td>142</td>\n",
       "    </tr>\n",
       "    <tr>\n",
       "      <th>2019</th>\n",
       "      <td>65</td>\n",
       "      <td>67</td>\n",
       "      <td>132</td>\n",
       "    </tr>\n",
       "    <tr>\n",
       "      <th>2020</th>\n",
       "      <td>60</td>\n",
       "      <td>76</td>\n",
       "      <td>136</td>\n",
       "    </tr>\n",
       "    <tr>\n",
       "      <th>All</th>\n",
       "      <td>487</td>\n",
       "      <td>713</td>\n",
       "      <td>1200</td>\n",
       "    </tr>\n",
       "  </tbody>\n",
       "</table>\n",
       "</div>"
      ],
      "text/plain": [
       "      PROJECT_ID                   \n",
       "label   Big-data Non Big-data   All\n",
       "FY                                 \n",
       "2008           5           52    57\n",
       "2009           3           53    56\n",
       "2010           2           46    48\n",
       "2011           4           42    46\n",
       "2012          12           47    59\n",
       "2013          26           47    73\n",
       "2014          30           46    76\n",
       "2015          51           50   101\n",
       "2016          78           60   138\n",
       "2017          75           61   136\n",
       "2018          76           66   142\n",
       "2019          65           67   132\n",
       "2020          60           76   136\n",
       "All          487          713  1200"
      ]
     },
     "execution_count": 20,
     "metadata": {},
     "output_type": "execute_result"
    }
   ],
   "source": [
    "pd.pivot_table(d, values=['PROJECT_ID'], index=['FY'], columns=['label'], aggfunc='count', fill_value=0, margins = True)"
   ]
  },
  {
   "cell_type": "code",
   "execution_count": 21,
   "metadata": {},
   "outputs": [
    {
     "data": {
      "text/plain": [
       "<AxesSubplot:xlabel='FY', ylabel='count'>"
      ]
     },
     "execution_count": 21,
     "metadata": {},
     "output_type": "execute_result"
    },
    {
     "data": {
      "image/png": "[encoded data removed]",
      "text/plain": [
       "<Figure size 432x288 with 1 Axes>"
      ]
     },
     "metadata": {
      "needs_background": "light"
     },
     "output_type": "display_data"
    }
   ],
   "source": [
    "sns.countplot(data=d, x='FY', hue='label', order=d[\"FY\"].value_counts().sort_index(ascending=True).index)"
   ]
  },
  {
   "cell_type": "code",
   "execution_count": null,
   "metadata": {},
   "outputs": [],
   "source": []
  },
  {
   "cell_type": "code",
   "execution_count": null,
   "metadata": {},
   "outputs": [],
   "source": []
  },
  {
   "cell_type": "markdown",
   "metadata": {},
   "source": [
    "##### Compare labels with term matching on \"big data\""
   ]
  },
  {
   "cell_type": "code",
   "execution_count": 22,
   "metadata": {},
   "outputs": [],
   "source": [
    "# cross check training set with term matching for \"big data\"\n",
    "\n",
    "d[\"big data term\"] = False"
   ]
  },
  {
   "cell_type": "code",
   "execution_count": 23,
   "metadata": {},
   "outputs": [
    {
     "data": {
      "text/html": [
       "<div>\n",
       "<style scoped>\n",
       "    .dataframe tbody tr th:only-of-type {\n",
       "        vertical-align: middle;\n",
       "    }\n",
       "\n",
       "    .dataframe tbody tr th {\n",
       "        vertical-align: top;\n",
       "    }\n",
       "\n",
       "    .dataframe thead th {\n",
       "        text-align: right;\n",
       "    }\n",
       "</style>\n",
       "<table border=\"1\" class=\"dataframe\">\n",
       "  <thead>\n",
       "    <tr style=\"text-align: right;\">\n",
       "      <th></th>\n",
       "      <th>Duplicates</th>\n",
       "      <th>index</th>\n",
       "      <th>PROJECT_ID</th>\n",
       "      <th>ABSTRACT</th>\n",
       "      <th>Is it related to Big-Data</th>\n",
       "      <th>Expert name</th>\n",
       "      <th>label</th>\n",
       "      <th>DEPARTMENT</th>\n",
       "      <th>FY</th>\n",
       "      <th>big data term</th>\n",
       "    </tr>\n",
       "  </thead>\n",
       "  <tbody>\n",
       "    <tr>\n",
       "      <th>0</th>\n",
       "      <td>0</td>\n",
       "      <td>979</td>\n",
       "      <td>950056</td>\n",
       "      <td>ï»¿   DESCRIPTION (provided by applicant): Adv...</td>\n",
       "      <td>1</td>\n",
       "      <td>Kristian</td>\n",
       "      <td>Big-data</td>\n",
       "      <td>HHS</td>\n",
       "      <td>2017</td>\n",
       "      <td>False</td>\n",
       "    </tr>\n",
       "    <tr>\n",
       "      <th>1</th>\n",
       "      <td>0</td>\n",
       "      <td>816</td>\n",
       "      <td>1178172</td>\n",
       "      <td>Project Summary/AbstractThe establishment of t...</td>\n",
       "      <td>1</td>\n",
       "      <td>Kristian</td>\n",
       "      <td>Big-data</td>\n",
       "      <td>HHS</td>\n",
       "      <td>2019</td>\n",
       "      <td>False</td>\n",
       "    </tr>\n",
       "    <tr>\n",
       "      <th>2</th>\n",
       "      <td>0</td>\n",
       "      <td>1096</td>\n",
       "      <td>163037</td>\n",
       "      <td>DESCRIPTION (provided by applicant): The long-...</td>\n",
       "      <td>0</td>\n",
       "      <td>Kristian</td>\n",
       "      <td>Non Big-data</td>\n",
       "      <td>HHS</td>\n",
       "      <td>2008</td>\n",
       "      <td>False</td>\n",
       "    </tr>\n",
       "    <tr>\n",
       "      <th>3</th>\n",
       "      <td>0</td>\n",
       "      <td>725</td>\n",
       "      <td>880197</td>\n",
       "      <td>DESCRIPTION (provided by applicant): The most ...</td>\n",
       "      <td>0</td>\n",
       "      <td>Kristian</td>\n",
       "      <td>Non Big-data</td>\n",
       "      <td>HHS</td>\n",
       "      <td>2016</td>\n",
       "      <td>False</td>\n",
       "    </tr>\n",
       "    <tr>\n",
       "      <th>4</th>\n",
       "      <td>0</td>\n",
       "      <td>92</td>\n",
       "      <td>887331</td>\n",
       "      <td>Transsphenoidal surgery (TSS) is the best trea...</td>\n",
       "      <td>0</td>\n",
       "      <td>Kristian</td>\n",
       "      <td>Non Big-data</td>\n",
       "      <td>HHS</td>\n",
       "      <td>2015</td>\n",
       "      <td>False</td>\n",
       "    </tr>\n",
       "  </tbody>\n",
       "</table>\n",
       "</div>"
      ],
      "text/plain": [
       "   Duplicates  index PROJECT_ID  \\\n",
       "0           0    979     950056   \n",
       "1           0    816    1178172   \n",
       "2           0   1096     163037   \n",
       "3           0    725     880197   \n",
       "4           0     92     887331   \n",
       "\n",
       "                                            ABSTRACT  \\\n",
       "0  ï»¿   DESCRIPTION (provided by applicant): Adv...   \n",
       "1  Project Summary/AbstractThe establishment of t...   \n",
       "2  DESCRIPTION (provided by applicant): The long-...   \n",
       "3  DESCRIPTION (provided by applicant): The most ...   \n",
       "4  Transsphenoidal surgery (TSS) is the best trea...   \n",
       "\n",
       "   Is it related to Big-Data Expert name         label DEPARTMENT    FY  \\\n",
       "0                          1    Kristian      Big-data        HHS  2017   \n",
       "1                          1    Kristian      Big-data        HHS  2019   \n",
       "2                          0    Kristian  Non Big-data        HHS  2008   \n",
       "3                          0    Kristian  Non Big-data        HHS  2016   \n",
       "4                          0    Kristian  Non Big-data        HHS  2015   \n",
       "\n",
       "   big data term  \n",
       "0          False  \n",
       "1          False  \n",
       "2          False  \n",
       "3          False  \n",
       "4          False  "
      ]
     },
     "execution_count": 23,
     "metadata": {},
     "output_type": "execute_result"
    }
   ],
   "source": [
    "d.head()"
   ]
  },
  {
   "cell_type": "code",
   "execution_count": 24,
   "metadata": {},
   "outputs": [],
   "source": [
    "for idx, abstract in enumerate(d['ABSTRACT']):\n",
    "    if \"big data\" in abstract.lower() or \"big-data\" in abstract.lower():\n",
    "        d.iloc[idx, 9] = True"
   ]
  },
  {
   "cell_type": "code",
   "execution_count": 25,
   "metadata": {},
   "outputs": [
    {
     "data": {
      "text/plain": [
       "595"
      ]
     },
     "execution_count": 25,
     "metadata": {},
     "output_type": "execute_result"
    }
   ],
   "source": [
    "sum(d['big data term'])"
   ]
  },
  {
   "cell_type": "code",
   "execution_count": 26,
   "metadata": {},
   "outputs": [
    {
     "data": {
      "text/html": [
       "<div>\n",
       "<style scoped>\n",
       "    .dataframe tbody tr th:only-of-type {\n",
       "        vertical-align: middle;\n",
       "    }\n",
       "\n",
       "    .dataframe tbody tr th {\n",
       "        vertical-align: top;\n",
       "    }\n",
       "\n",
       "    .dataframe thead tr th {\n",
       "        text-align: left;\n",
       "    }\n",
       "\n",
       "    .dataframe thead tr:last-of-type th {\n",
       "        text-align: right;\n",
       "    }\n",
       "</style>\n",
       "<table border=\"1\" class=\"dataframe\">\n",
       "  <thead>\n",
       "    <tr>\n",
       "      <th></th>\n",
       "      <th colspan=\"3\" halign=\"left\">PROJECT_ID</th>\n",
       "    </tr>\n",
       "    <tr>\n",
       "      <th>label</th>\n",
       "      <th>Big-data</th>\n",
       "      <th>Non Big-data</th>\n",
       "      <th>All</th>\n",
       "    </tr>\n",
       "    <tr>\n",
       "      <th>big data term</th>\n",
       "      <th></th>\n",
       "      <th></th>\n",
       "      <th></th>\n",
       "    </tr>\n",
       "  </thead>\n",
       "  <tbody>\n",
       "    <tr>\n",
       "      <th>False</th>\n",
       "      <td>45</td>\n",
       "      <td>560</td>\n",
       "      <td>605</td>\n",
       "    </tr>\n",
       "    <tr>\n",
       "      <th>True</th>\n",
       "      <td>442</td>\n",
       "      <td>153</td>\n",
       "      <td>595</td>\n",
       "    </tr>\n",
       "    <tr>\n",
       "      <th>All</th>\n",
       "      <td>487</td>\n",
       "      <td>713</td>\n",
       "      <td>1200</td>\n",
       "    </tr>\n",
       "  </tbody>\n",
       "</table>\n",
       "</div>"
      ],
      "text/plain": [
       "              PROJECT_ID                   \n",
       "label           Big-data Non Big-data   All\n",
       "big data term                              \n",
       "False                 45          560   605\n",
       "True                 442          153   595\n",
       "All                  487          713  1200"
      ]
     },
     "execution_count": 26,
     "metadata": {},
     "output_type": "execute_result"
    }
   ],
   "source": [
    "pd.pivot_table(d, values=['PROJECT_ID'], index=['big data term'], columns=['label'], aggfunc='count', fill_value=0, margins=True)"
   ]
  },
  {
   "cell_type": "code",
   "execution_count": 125,
   "metadata": {},
   "outputs": [
    {
     "data": {
      "image/png": "[encoded data removed]",
      "text/plain": [
       "<Figure size 432x288 with 1 Axes>"
      ]
     },
     "metadata": {},
     "output_type": "display_data"
    }
   ],
   "source": [
    "sns.set(font_scale=1.4)\n",
    "ax = sns.countplot(data=d, x='label', hue='big data term')\n",
    "for p in ax.patches:\n",
    "    ax.annotate('{:.0f}'.format(p.get_height()), (p.get_x()+0.12, p.get_height()+10))\n",
    "plt.ylim(0,650)\n",
    "    \n",
    "plt.title(\"Initial Labeled Set of 1,200 Abstracts\")\n",
    "plt.xlabel(\"Abstract Label\")\n",
    "plt.ylabel(\"Number of Abstracts\")\n",
    "plt.legend(title='Contains Phrase \"big data\"', loc='upper left', ncol=2, labels=['No', 'Yes'], \n",
    "          title_fontsize=13, fontsize=13) #bbox_to_anchor=(0.80, -0.2))\n",
    "\n",
    "plt.savefig(\"figures/init_label_term.png\", bbox_inches = \"tight\")"
   ]
  },
  {
   "cell_type": "code",
   "execution_count": null,
   "metadata": {},
   "outputs": [],
   "source": []
  },
  {
   "cell_type": "code",
   "execution_count": null,
   "metadata": {},
   "outputs": [],
   "source": []
  },
  {
   "cell_type": "markdown",
   "metadata": {},
   "source": [
    "#### Updated Labeled Set - 1,600 abstracts"
   ]
  },
  {
   "cell_type": "code",
   "execution_count": 28,
   "metadata": {},
   "outputs": [
    {
     "name": "stdout",
     "output_type": "stream",
     "text": [
      "(1600, 8)\n"
     ]
    }
   ],
   "source": [
    "new_df = pd.read_csv('../../../data/prd/Digital_abstract_labelled/DEC-2022-labelled_abstracts.csv')\n",
    "print(new_df.shape)"
   ]
  },
  {
   "cell_type": "code",
   "execution_count": 29,
   "metadata": {},
   "outputs": [
    {
     "data": {
      "text/plain": [
       "Unnamed: 0                    int64\n",
       "Duplicates                    int64\n",
       "index                         int64\n",
       "PROJECT_ID                    int64\n",
       "ABSTRACT                     object\n",
       "Is it related to Big-Data     int64\n",
       "Expert name                  object\n",
       "label                        object\n",
       "dtype: object"
      ]
     },
     "execution_count": 29,
     "metadata": {},
     "output_type": "execute_result"
    }
   ],
   "source": [
    "new_df.dtypes"
   ]
  },
  {
   "cell_type": "code",
   "execution_count": 30,
   "metadata": {},
   "outputs": [],
   "source": [
    "new_df[\"PROJECT_ID\"] = new_df[\"PROJECT_ID\"].astype(str)\n",
    "new_df = new_df.drop(columns=['Unnamed: 0'])"
   ]
  },
  {
   "cell_type": "code",
   "execution_count": 31,
   "metadata": {},
   "outputs": [
    {
     "data": {
      "text/html": [
       "<div>\n",
       "<style scoped>\n",
       "    .dataframe tbody tr th:only-of-type {\n",
       "        vertical-align: middle;\n",
       "    }\n",
       "\n",
       "    .dataframe tbody tr th {\n",
       "        vertical-align: top;\n",
       "    }\n",
       "\n",
       "    .dataframe thead th {\n",
       "        text-align: right;\n",
       "    }\n",
       "</style>\n",
       "<table border=\"1\" class=\"dataframe\">\n",
       "  <thead>\n",
       "    <tr style=\"text-align: right;\">\n",
       "      <th></th>\n",
       "      <th>Duplicates</th>\n",
       "      <th>index</th>\n",
       "      <th>PROJECT_ID</th>\n",
       "      <th>ABSTRACT</th>\n",
       "      <th>Is it related to Big-Data</th>\n",
       "      <th>Expert name</th>\n",
       "      <th>label</th>\n",
       "    </tr>\n",
       "  </thead>\n",
       "  <tbody>\n",
       "    <tr>\n",
       "      <th>0</th>\n",
       "      <td>0</td>\n",
       "      <td>979</td>\n",
       "      <td>950056</td>\n",
       "      <td>ï»¿   DESCRIPTION (provided by applicant): Adv...</td>\n",
       "      <td>1</td>\n",
       "      <td>Kristian</td>\n",
       "      <td>Big-data</td>\n",
       "    </tr>\n",
       "    <tr>\n",
       "      <th>1</th>\n",
       "      <td>0</td>\n",
       "      <td>816</td>\n",
       "      <td>1178172</td>\n",
       "      <td>Project Summary/AbstractThe establishment of t...</td>\n",
       "      <td>1</td>\n",
       "      <td>Kristian</td>\n",
       "      <td>Big-data</td>\n",
       "    </tr>\n",
       "    <tr>\n",
       "      <th>2</th>\n",
       "      <td>0</td>\n",
       "      <td>1096</td>\n",
       "      <td>163037</td>\n",
       "      <td>DESCRIPTION (provided by applicant): The long-...</td>\n",
       "      <td>0</td>\n",
       "      <td>Kristian</td>\n",
       "      <td>Non Big-data</td>\n",
       "    </tr>\n",
       "    <tr>\n",
       "      <th>3</th>\n",
       "      <td>0</td>\n",
       "      <td>725</td>\n",
       "      <td>880197</td>\n",
       "      <td>DESCRIPTION (provided by applicant): The most ...</td>\n",
       "      <td>0</td>\n",
       "      <td>Kristian</td>\n",
       "      <td>Non Big-data</td>\n",
       "    </tr>\n",
       "    <tr>\n",
       "      <th>4</th>\n",
       "      <td>0</td>\n",
       "      <td>92</td>\n",
       "      <td>887331</td>\n",
       "      <td>Transsphenoidal surgery (TSS) is the best trea...</td>\n",
       "      <td>0</td>\n",
       "      <td>Kristian</td>\n",
       "      <td>Non Big-data</td>\n",
       "    </tr>\n",
       "  </tbody>\n",
       "</table>\n",
       "</div>"
      ],
      "text/plain": [
       "   Duplicates  index PROJECT_ID  \\\n",
       "0           0    979     950056   \n",
       "1           0    816    1178172   \n",
       "2           0   1096     163037   \n",
       "3           0    725     880197   \n",
       "4           0     92     887331   \n",
       "\n",
       "                                            ABSTRACT  \\\n",
       "0  ï»¿   DESCRIPTION (provided by applicant): Adv...   \n",
       "1  Project Summary/AbstractThe establishment of t...   \n",
       "2  DESCRIPTION (provided by applicant): The long-...   \n",
       "3  DESCRIPTION (provided by applicant): The most ...   \n",
       "4  Transsphenoidal surgery (TSS) is the best trea...   \n",
       "\n",
       "   Is it related to Big-Data Expert name         label  \n",
       "0                          1    Kristian      Big-data  \n",
       "1                          1    Kristian      Big-data  \n",
       "2                          0    Kristian  Non Big-data  \n",
       "3                          0    Kristian  Non Big-data  \n",
       "4                          0    Kristian  Non Big-data  "
      ]
     },
     "execution_count": 31,
     "metadata": {},
     "output_type": "execute_result"
    }
   ],
   "source": [
    "new_df.head()"
   ]
  },
  {
   "cell_type": "code",
   "execution_count": null,
   "metadata": {},
   "outputs": [],
   "source": []
  },
  {
   "cell_type": "code",
   "execution_count": 32,
   "metadata": {},
   "outputs": [],
   "source": [
    "# merge agency and year information into training set \n",
    "\n",
    "d_new = new_df.merge(df[[\"PROJECT_ID\", \"DEPARTMENT\", \"FY\"]], how = 'left', on = \"PROJECT_ID\")"
   ]
  },
  {
   "cell_type": "code",
   "execution_count": 33,
   "metadata": {},
   "outputs": [
    {
     "data": {
      "text/plain": [
       "(1600, 9)"
      ]
     },
     "execution_count": 33,
     "metadata": {},
     "output_type": "execute_result"
    }
   ],
   "source": [
    "d_new.shape"
   ]
  },
  {
   "cell_type": "code",
   "execution_count": 34,
   "metadata": {},
   "outputs": [
    {
     "data": {
      "text/html": [
       "<div>\n",
       "<style scoped>\n",
       "    .dataframe tbody tr th:only-of-type {\n",
       "        vertical-align: middle;\n",
       "    }\n",
       "\n",
       "    .dataframe tbody tr th {\n",
       "        vertical-align: top;\n",
       "    }\n",
       "\n",
       "    .dataframe thead th {\n",
       "        text-align: right;\n",
       "    }\n",
       "</style>\n",
       "<table border=\"1\" class=\"dataframe\">\n",
       "  <thead>\n",
       "    <tr style=\"text-align: right;\">\n",
       "      <th></th>\n",
       "      <th>Duplicates</th>\n",
       "      <th>index</th>\n",
       "      <th>PROJECT_ID</th>\n",
       "      <th>ABSTRACT</th>\n",
       "      <th>Is it related to Big-Data</th>\n",
       "      <th>Expert name</th>\n",
       "      <th>label</th>\n",
       "      <th>DEPARTMENT</th>\n",
       "      <th>FY</th>\n",
       "    </tr>\n",
       "  </thead>\n",
       "  <tbody>\n",
       "    <tr>\n",
       "      <th>0</th>\n",
       "      <td>0</td>\n",
       "      <td>979</td>\n",
       "      <td>950056</td>\n",
       "      <td>ï»¿   DESCRIPTION (provided by applicant): Adv...</td>\n",
       "      <td>1</td>\n",
       "      <td>Kristian</td>\n",
       "      <td>Big-data</td>\n",
       "      <td>HHS</td>\n",
       "      <td>2017</td>\n",
       "    </tr>\n",
       "    <tr>\n",
       "      <th>1</th>\n",
       "      <td>0</td>\n",
       "      <td>816</td>\n",
       "      <td>1178172</td>\n",
       "      <td>Project Summary/AbstractThe establishment of t...</td>\n",
       "      <td>1</td>\n",
       "      <td>Kristian</td>\n",
       "      <td>Big-data</td>\n",
       "      <td>HHS</td>\n",
       "      <td>2019</td>\n",
       "    </tr>\n",
       "    <tr>\n",
       "      <th>2</th>\n",
       "      <td>0</td>\n",
       "      <td>1096</td>\n",
       "      <td>163037</td>\n",
       "      <td>DESCRIPTION (provided by applicant): The long-...</td>\n",
       "      <td>0</td>\n",
       "      <td>Kristian</td>\n",
       "      <td>Non Big-data</td>\n",
       "      <td>HHS</td>\n",
       "      <td>2008</td>\n",
       "    </tr>\n",
       "    <tr>\n",
       "      <th>3</th>\n",
       "      <td>0</td>\n",
       "      <td>725</td>\n",
       "      <td>880197</td>\n",
       "      <td>DESCRIPTION (provided by applicant): The most ...</td>\n",
       "      <td>0</td>\n",
       "      <td>Kristian</td>\n",
       "      <td>Non Big-data</td>\n",
       "      <td>HHS</td>\n",
       "      <td>2016</td>\n",
       "    </tr>\n",
       "    <tr>\n",
       "      <th>4</th>\n",
       "      <td>0</td>\n",
       "      <td>92</td>\n",
       "      <td>887331</td>\n",
       "      <td>Transsphenoidal surgery (TSS) is the best trea...</td>\n",
       "      <td>0</td>\n",
       "      <td>Kristian</td>\n",
       "      <td>Non Big-data</td>\n",
       "      <td>HHS</td>\n",
       "      <td>2015</td>\n",
       "    </tr>\n",
       "  </tbody>\n",
       "</table>\n",
       "</div>"
      ],
      "text/plain": [
       "   Duplicates  index PROJECT_ID  \\\n",
       "0           0    979     950056   \n",
       "1           0    816    1178172   \n",
       "2           0   1096     163037   \n",
       "3           0    725     880197   \n",
       "4           0     92     887331   \n",
       "\n",
       "                                            ABSTRACT  \\\n",
       "0  ï»¿   DESCRIPTION (provided by applicant): Adv...   \n",
       "1  Project Summary/AbstractThe establishment of t...   \n",
       "2  DESCRIPTION (provided by applicant): The long-...   \n",
       "3  DESCRIPTION (provided by applicant): The most ...   \n",
       "4  Transsphenoidal surgery (TSS) is the best trea...   \n",
       "\n",
       "   Is it related to Big-Data Expert name         label DEPARTMENT    FY  \n",
       "0                          1    Kristian      Big-data        HHS  2017  \n",
       "1                          1    Kristian      Big-data        HHS  2019  \n",
       "2                          0    Kristian  Non Big-data        HHS  2008  \n",
       "3                          0    Kristian  Non Big-data        HHS  2016  \n",
       "4                          0    Kristian  Non Big-data        HHS  2015  "
      ]
     },
     "execution_count": 34,
     "metadata": {},
     "output_type": "execute_result"
    }
   ],
   "source": [
    "d_new.head()"
   ]
  },
  {
   "cell_type": "code",
   "execution_count": null,
   "metadata": {},
   "outputs": [],
   "source": []
  },
  {
   "cell_type": "markdown",
   "metadata": {},
   "source": [
    "##### Agency, FY, label break downs"
   ]
  },
  {
   "cell_type": "code",
   "execution_count": 35,
   "metadata": {},
   "outputs": [
    {
     "data": {
      "text/plain": [
       "Non Big-data    913\n",
       "Big-data        687\n",
       "Name: label, dtype: int64"
      ]
     },
     "execution_count": 35,
     "metadata": {},
     "output_type": "execute_result"
    }
   ],
   "source": [
    "d_new[\"label\"].value_counts()"
   ]
  },
  {
   "cell_type": "code",
   "execution_count": 36,
   "metadata": {},
   "outputs": [
    {
     "data": {
      "text/plain": [
       "Non Big-data    57.0625\n",
       "Big-data        42.9375\n",
       "Name: label, dtype: float64"
      ]
     },
     "execution_count": 36,
     "metadata": {},
     "output_type": "execute_result"
    }
   ],
   "source": [
    "100*d_new[\"label\"].value_counts()/len(d_new)"
   ]
  },
  {
   "cell_type": "code",
   "execution_count": null,
   "metadata": {},
   "outputs": [],
   "source": []
  },
  {
   "cell_type": "code",
   "execution_count": 37,
   "metadata": {},
   "outputs": [],
   "source": [
    "agency_counts = d_new[\"DEPARTMENT\"].value_counts()"
   ]
  },
  {
   "cell_type": "code",
   "execution_count": 38,
   "metadata": {},
   "outputs": [
    {
     "data": {
      "text/plain": [
       "Text(0.5, 1.0, 'Project Frequency by Funding Agency')"
      ]
     },
     "execution_count": 38,
     "metadata": {},
     "output_type": "execute_result"
    },
    {
     "data": {
      "image/png": "[encoded data removed]",
      "text/plain": [
       "<Figure size 432x288 with 1 Axes>"
      ]
     },
     "metadata": {
      "needs_background": "light"
     },
     "output_type": "display_data"
    }
   ],
   "source": [
    "# plot\n",
    "agency = agency_counts.index.tolist()\n",
    "count = agency_counts.values\n",
    "\n",
    "fig = plt.figure()\n",
    "ax = fig.add_subplot(111)\n",
    "ax.set_axisbelow(True)\n",
    "plt.grid(True, color = \"whitesmoke\")\n",
    "plt.bar(agency, count, color='navy')\n",
    "#plt.ylim(0,100)\n",
    "plt.xlabel(\"Agency\")\n",
    "plt.ylabel(\"Number of Projects\")\n",
    "plt.title(\"Project Frequency by Funding Agency\")\n",
    "\n",
    "#plt.savefig(\"figures/OECD/agency_dist.png\", dpi = 800, bbox_inches = \"tight\")\n",
    "#plt.savefig(\"figures/OECD/agency_dist.pdf\", dpi = 800, bbox_inches = \"tight\")"
   ]
  },
  {
   "cell_type": "code",
   "execution_count": 39,
   "metadata": {},
   "outputs": [
    {
     "data": {
      "text/html": [
       "<div>\n",
       "<style scoped>\n",
       "    .dataframe tbody tr th:only-of-type {\n",
       "        vertical-align: middle;\n",
       "    }\n",
       "\n",
       "    .dataframe tbody tr th {\n",
       "        vertical-align: top;\n",
       "    }\n",
       "\n",
       "    .dataframe thead tr th {\n",
       "        text-align: left;\n",
       "    }\n",
       "\n",
       "    .dataframe thead tr:last-of-type th {\n",
       "        text-align: right;\n",
       "    }\n",
       "</style>\n",
       "<table border=\"1\" class=\"dataframe\">\n",
       "  <thead>\n",
       "    <tr>\n",
       "      <th></th>\n",
       "      <th colspan=\"3\" halign=\"left\">PROJECT_ID</th>\n",
       "    </tr>\n",
       "    <tr>\n",
       "      <th>label</th>\n",
       "      <th>Big-data</th>\n",
       "      <th>Non Big-data</th>\n",
       "      <th>All</th>\n",
       "    </tr>\n",
       "    <tr>\n",
       "      <th>DEPARTMENT</th>\n",
       "      <th></th>\n",
       "      <th></th>\n",
       "      <th></th>\n",
       "    </tr>\n",
       "  </thead>\n",
       "  <tbody>\n",
       "    <tr>\n",
       "      <th>DOD</th>\n",
       "      <td>2</td>\n",
       "      <td>7</td>\n",
       "      <td>9</td>\n",
       "    </tr>\n",
       "    <tr>\n",
       "      <th>ED</th>\n",
       "      <td>0</td>\n",
       "      <td>1</td>\n",
       "      <td>1</td>\n",
       "    </tr>\n",
       "    <tr>\n",
       "      <th>EPA</th>\n",
       "      <td>0</td>\n",
       "      <td>1</td>\n",
       "      <td>1</td>\n",
       "    </tr>\n",
       "    <tr>\n",
       "      <th>HHS</th>\n",
       "      <td>296</td>\n",
       "      <td>702</td>\n",
       "      <td>998</td>\n",
       "    </tr>\n",
       "    <tr>\n",
       "      <th>NASA</th>\n",
       "      <td>4</td>\n",
       "      <td>15</td>\n",
       "      <td>19</td>\n",
       "    </tr>\n",
       "    <tr>\n",
       "      <th>NSF</th>\n",
       "      <td>378</td>\n",
       "      <td>162</td>\n",
       "      <td>540</td>\n",
       "    </tr>\n",
       "    <tr>\n",
       "      <th>USDA</th>\n",
       "      <td>5</td>\n",
       "      <td>15</td>\n",
       "      <td>20</td>\n",
       "    </tr>\n",
       "    <tr>\n",
       "      <th>VA</th>\n",
       "      <td>2</td>\n",
       "      <td>10</td>\n",
       "      <td>12</td>\n",
       "    </tr>\n",
       "    <tr>\n",
       "      <th>All</th>\n",
       "      <td>687</td>\n",
       "      <td>913</td>\n",
       "      <td>1600</td>\n",
       "    </tr>\n",
       "  </tbody>\n",
       "</table>\n",
       "</div>"
      ],
      "text/plain": [
       "           PROJECT_ID                   \n",
       "label        Big-data Non Big-data   All\n",
       "DEPARTMENT                              \n",
       "DOD                 2            7     9\n",
       "ED                  0            1     1\n",
       "EPA                 0            1     1\n",
       "HHS               296          702   998\n",
       "NASA                4           15    19\n",
       "NSF               378          162   540\n",
       "USDA                5           15    20\n",
       "VA                  2           10    12\n",
       "All               687          913  1600"
      ]
     },
     "execution_count": 39,
     "metadata": {},
     "output_type": "execute_result"
    }
   ],
   "source": [
    "pd.pivot_table(d_new, values=['PROJECT_ID'], index=['DEPARTMENT'], columns=['label'], aggfunc='count', fill_value=0, margins = True)"
   ]
  },
  {
   "cell_type": "code",
   "execution_count": 40,
   "metadata": {},
   "outputs": [
    {
     "data": {
      "text/plain": [
       "<AxesSubplot:xlabel='DEPARTMENT', ylabel='count'>"
      ]
     },
     "execution_count": 40,
     "metadata": {},
     "output_type": "execute_result"
    },
    {
     "data": {
      "image/png": "[encoded data removed]",
      "text/plain": [
       "<Figure size 432x288 with 1 Axes>"
      ]
     },
     "metadata": {
      "needs_background": "light"
     },
     "output_type": "display_data"
    }
   ],
   "source": [
    "sns.countplot(data=d_new, x='DEPARTMENT', hue='label')\n",
    "\n",
    "#g.set_axis_labels(\"\", \"Body mass (g)\")\n",
    "#g.legend.set_title(\"\")"
   ]
  },
  {
   "cell_type": "code",
   "execution_count": null,
   "metadata": {},
   "outputs": [],
   "source": []
  },
  {
   "cell_type": "code",
   "execution_count": null,
   "metadata": {},
   "outputs": [],
   "source": []
  },
  {
   "cell_type": "code",
   "execution_count": 41,
   "metadata": {},
   "outputs": [],
   "source": [
    "year_counts = d_new[\"FY\"].value_counts().sort_index(ascending=True)"
   ]
  },
  {
   "cell_type": "code",
   "execution_count": 42,
   "metadata": {},
   "outputs": [
    {
     "data": {
      "text/plain": [
       "Text(0.5, 1.0, 'Project Frequency by FY')"
      ]
     },
     "execution_count": 42,
     "metadata": {},
     "output_type": "execute_result"
    },
    {
     "data": {
      "image/png": "[encoded data removed]",
      "text/plain": [
       "<Figure size 432x288 with 1 Axes>"
      ]
     },
     "metadata": {
      "needs_background": "light"
     },
     "output_type": "display_data"
    }
   ],
   "source": [
    "# plot\n",
    "year = year_counts.index.tolist()\n",
    "count = year_counts.values\n",
    "\n",
    "fig = plt.figure()\n",
    "ax = fig.add_subplot(111)\n",
    "ax.set_axisbelow(True)\n",
    "plt.grid(True, color = \"whitesmoke\")\n",
    "plt.bar(year, count, color='navy')\n",
    "#plt.xlim(-0.7, len(year)-0.3)\n",
    "#plt.xlim(2007.3,2020.7)\n",
    "plt.xticks(year, rotation=45)\n",
    "#ax.set_yticklabels(['{:,}'.format(int(x)) for x in ax.get_yticks().tolist()])\n",
    "#x_ticks = ax.xaxis.get_major_ticks()\n",
    "#x_ticks[-1].label1.set_visible(False)\n",
    "plt.xlabel(\"FY\")\n",
    "plt.ylabel(\"Number of Projects\")\n",
    "plt.title(\"Project Frequency by FY\")\n",
    "\n",
    "#plt.savefig(\"startyr_freq.png\", dpi = 800, bbox_inches = \"tight\")\n",
    "#plt.savefig(\"startyr_freq.pdf\", dpi = 800, bbox_inches = \"tight\")"
   ]
  },
  {
   "cell_type": "code",
   "execution_count": 43,
   "metadata": {},
   "outputs": [
    {
     "data": {
      "text/html": [
       "<div>\n",
       "<style scoped>\n",
       "    .dataframe tbody tr th:only-of-type {\n",
       "        vertical-align: middle;\n",
       "    }\n",
       "\n",
       "    .dataframe tbody tr th {\n",
       "        vertical-align: top;\n",
       "    }\n",
       "\n",
       "    .dataframe thead tr th {\n",
       "        text-align: left;\n",
       "    }\n",
       "\n",
       "    .dataframe thead tr:last-of-type th {\n",
       "        text-align: right;\n",
       "    }\n",
       "</style>\n",
       "<table border=\"1\" class=\"dataframe\">\n",
       "  <thead>\n",
       "    <tr>\n",
       "      <th></th>\n",
       "      <th colspan=\"3\" halign=\"left\">PROJECT_ID</th>\n",
       "    </tr>\n",
       "    <tr>\n",
       "      <th>label</th>\n",
       "      <th>Big-data</th>\n",
       "      <th>Non Big-data</th>\n",
       "      <th>All</th>\n",
       "    </tr>\n",
       "    <tr>\n",
       "      <th>FY</th>\n",
       "      <th></th>\n",
       "      <th></th>\n",
       "      <th></th>\n",
       "    </tr>\n",
       "  </thead>\n",
       "  <tbody>\n",
       "    <tr>\n",
       "      <th>2008</th>\n",
       "      <td>11</td>\n",
       "      <td>74</td>\n",
       "      <td>85</td>\n",
       "    </tr>\n",
       "    <tr>\n",
       "      <th>2009</th>\n",
       "      <td>20</td>\n",
       "      <td>60</td>\n",
       "      <td>80</td>\n",
       "    </tr>\n",
       "    <tr>\n",
       "      <th>2010</th>\n",
       "      <td>17</td>\n",
       "      <td>60</td>\n",
       "      <td>77</td>\n",
       "    </tr>\n",
       "    <tr>\n",
       "      <th>2011</th>\n",
       "      <td>19</td>\n",
       "      <td>59</td>\n",
       "      <td>78</td>\n",
       "    </tr>\n",
       "    <tr>\n",
       "      <th>2012</th>\n",
       "      <td>15</td>\n",
       "      <td>57</td>\n",
       "      <td>72</td>\n",
       "    </tr>\n",
       "    <tr>\n",
       "      <th>2013</th>\n",
       "      <td>37</td>\n",
       "      <td>60</td>\n",
       "      <td>97</td>\n",
       "    </tr>\n",
       "    <tr>\n",
       "      <th>2014</th>\n",
       "      <td>45</td>\n",
       "      <td>68</td>\n",
       "      <td>113</td>\n",
       "    </tr>\n",
       "    <tr>\n",
       "      <th>2015</th>\n",
       "      <td>68</td>\n",
       "      <td>70</td>\n",
       "      <td>138</td>\n",
       "    </tr>\n",
       "    <tr>\n",
       "      <th>2016</th>\n",
       "      <td>91</td>\n",
       "      <td>86</td>\n",
       "      <td>177</td>\n",
       "    </tr>\n",
       "    <tr>\n",
       "      <th>2017</th>\n",
       "      <td>90</td>\n",
       "      <td>79</td>\n",
       "      <td>169</td>\n",
       "    </tr>\n",
       "    <tr>\n",
       "      <th>2018</th>\n",
       "      <td>96</td>\n",
       "      <td>76</td>\n",
       "      <td>172</td>\n",
       "    </tr>\n",
       "    <tr>\n",
       "      <th>2019</th>\n",
       "      <td>100</td>\n",
       "      <td>81</td>\n",
       "      <td>181</td>\n",
       "    </tr>\n",
       "    <tr>\n",
       "      <th>2020</th>\n",
       "      <td>78</td>\n",
       "      <td>83</td>\n",
       "      <td>161</td>\n",
       "    </tr>\n",
       "    <tr>\n",
       "      <th>All</th>\n",
       "      <td>687</td>\n",
       "      <td>913</td>\n",
       "      <td>1600</td>\n",
       "    </tr>\n",
       "  </tbody>\n",
       "</table>\n",
       "</div>"
      ],
      "text/plain": [
       "      PROJECT_ID                   \n",
       "label   Big-data Non Big-data   All\n",
       "FY                                 \n",
       "2008          11           74    85\n",
       "2009          20           60    80\n",
       "2010          17           60    77\n",
       "2011          19           59    78\n",
       "2012          15           57    72\n",
       "2013          37           60    97\n",
       "2014          45           68   113\n",
       "2015          68           70   138\n",
       "2016          91           86   177\n",
       "2017          90           79   169\n",
       "2018          96           76   172\n",
       "2019         100           81   181\n",
       "2020          78           83   161\n",
       "All          687          913  1600"
      ]
     },
     "execution_count": 43,
     "metadata": {},
     "output_type": "execute_result"
    }
   ],
   "source": [
    "pd.pivot_table(d_new, values=['PROJECT_ID'], index=['FY'], columns=['label'], aggfunc='count', fill_value=0, margins = True)"
   ]
  },
  {
   "cell_type": "code",
   "execution_count": 44,
   "metadata": {},
   "outputs": [
    {
     "data": {
      "text/plain": [
       "<AxesSubplot:xlabel='FY', ylabel='count'>"
      ]
     },
     "execution_count": 44,
     "metadata": {},
     "output_type": "execute_result"
    },
    {
     "data": {
      "image/png": "[encoded data removed]",
      "text/plain": [
       "<Figure size 432x288 with 1 Axes>"
      ]
     },
     "metadata": {
      "needs_background": "light"
     },
     "output_type": "display_data"
    }
   ],
   "source": [
    "sns.countplot(data=d_new, x='FY', hue='label', order=d[\"FY\"].value_counts().sort_index(ascending=True).index)"
   ]
  },
  {
   "cell_type": "code",
   "execution_count": null,
   "metadata": {},
   "outputs": [],
   "source": []
  },
  {
   "cell_type": "code",
   "execution_count": null,
   "metadata": {},
   "outputs": [],
   "source": []
  },
  {
   "cell_type": "markdown",
   "metadata": {},
   "source": [
    "##### Compare labels with term matching on \"big data\""
   ]
  },
  {
   "cell_type": "code",
   "execution_count": 45,
   "metadata": {},
   "outputs": [],
   "source": [
    "# cross check training set with term matching for \"big data\"\n",
    "\n",
    "d_new[\"big data term\"] = False"
   ]
  },
  {
   "cell_type": "code",
   "execution_count": 46,
   "metadata": {},
   "outputs": [
    {
     "data": {
      "text/html": [
       "<div>\n",
       "<style scoped>\n",
       "    .dataframe tbody tr th:only-of-type {\n",
       "        vertical-align: middle;\n",
       "    }\n",
       "\n",
       "    .dataframe tbody tr th {\n",
       "        vertical-align: top;\n",
       "    }\n",
       "\n",
       "    .dataframe thead th {\n",
       "        text-align: right;\n",
       "    }\n",
       "</style>\n",
       "<table border=\"1\" class=\"dataframe\">\n",
       "  <thead>\n",
       "    <tr style=\"text-align: right;\">\n",
       "      <th></th>\n",
       "      <th>Duplicates</th>\n",
       "      <th>index</th>\n",
       "      <th>PROJECT_ID</th>\n",
       "      <th>ABSTRACT</th>\n",
       "      <th>Is it related to Big-Data</th>\n",
       "      <th>Expert name</th>\n",
       "      <th>label</th>\n",
       "      <th>DEPARTMENT</th>\n",
       "      <th>FY</th>\n",
       "      <th>big data term</th>\n",
       "    </tr>\n",
       "  </thead>\n",
       "  <tbody>\n",
       "    <tr>\n",
       "      <th>0</th>\n",
       "      <td>0</td>\n",
       "      <td>979</td>\n",
       "      <td>950056</td>\n",
       "      <td>ï»¿   DESCRIPTION (provided by applicant): Adv...</td>\n",
       "      <td>1</td>\n",
       "      <td>Kristian</td>\n",
       "      <td>Big-data</td>\n",
       "      <td>HHS</td>\n",
       "      <td>2017</td>\n",
       "      <td>False</td>\n",
       "    </tr>\n",
       "    <tr>\n",
       "      <th>1</th>\n",
       "      <td>0</td>\n",
       "      <td>816</td>\n",
       "      <td>1178172</td>\n",
       "      <td>Project Summary/AbstractThe establishment of t...</td>\n",
       "      <td>1</td>\n",
       "      <td>Kristian</td>\n",
       "      <td>Big-data</td>\n",
       "      <td>HHS</td>\n",
       "      <td>2019</td>\n",
       "      <td>False</td>\n",
       "    </tr>\n",
       "    <tr>\n",
       "      <th>2</th>\n",
       "      <td>0</td>\n",
       "      <td>1096</td>\n",
       "      <td>163037</td>\n",
       "      <td>DESCRIPTION (provided by applicant): The long-...</td>\n",
       "      <td>0</td>\n",
       "      <td>Kristian</td>\n",
       "      <td>Non Big-data</td>\n",
       "      <td>HHS</td>\n",
       "      <td>2008</td>\n",
       "      <td>False</td>\n",
       "    </tr>\n",
       "    <tr>\n",
       "      <th>3</th>\n",
       "      <td>0</td>\n",
       "      <td>725</td>\n",
       "      <td>880197</td>\n",
       "      <td>DESCRIPTION (provided by applicant): The most ...</td>\n",
       "      <td>0</td>\n",
       "      <td>Kristian</td>\n",
       "      <td>Non Big-data</td>\n",
       "      <td>HHS</td>\n",
       "      <td>2016</td>\n",
       "      <td>False</td>\n",
       "    </tr>\n",
       "    <tr>\n",
       "      <th>4</th>\n",
       "      <td>0</td>\n",
       "      <td>92</td>\n",
       "      <td>887331</td>\n",
       "      <td>Transsphenoidal surgery (TSS) is the best trea...</td>\n",
       "      <td>0</td>\n",
       "      <td>Kristian</td>\n",
       "      <td>Non Big-data</td>\n",
       "      <td>HHS</td>\n",
       "      <td>2015</td>\n",
       "      <td>False</td>\n",
       "    </tr>\n",
       "  </tbody>\n",
       "</table>\n",
       "</div>"
      ],
      "text/plain": [
       "   Duplicates  index PROJECT_ID  \\\n",
       "0           0    979     950056   \n",
       "1           0    816    1178172   \n",
       "2           0   1096     163037   \n",
       "3           0    725     880197   \n",
       "4           0     92     887331   \n",
       "\n",
       "                                            ABSTRACT  \\\n",
       "0  ï»¿   DESCRIPTION (provided by applicant): Adv...   \n",
       "1  Project Summary/AbstractThe establishment of t...   \n",
       "2  DESCRIPTION (provided by applicant): The long-...   \n",
       "3  DESCRIPTION (provided by applicant): The most ...   \n",
       "4  Transsphenoidal surgery (TSS) is the best trea...   \n",
       "\n",
       "   Is it related to Big-Data Expert name         label DEPARTMENT    FY  \\\n",
       "0                          1    Kristian      Big-data        HHS  2017   \n",
       "1                          1    Kristian      Big-data        HHS  2019   \n",
       "2                          0    Kristian  Non Big-data        HHS  2008   \n",
       "3                          0    Kristian  Non Big-data        HHS  2016   \n",
       "4                          0    Kristian  Non Big-data        HHS  2015   \n",
       "\n",
       "   big data term  \n",
       "0          False  \n",
       "1          False  \n",
       "2          False  \n",
       "3          False  \n",
       "4          False  "
      ]
     },
     "execution_count": 46,
     "metadata": {},
     "output_type": "execute_result"
    }
   ],
   "source": [
    "d_new.head()"
   ]
  },
  {
   "cell_type": "code",
   "execution_count": 47,
   "metadata": {},
   "outputs": [],
   "source": [
    "for idx, abstract in enumerate(d_new['ABSTRACT']):\n",
    "    if \"big data\" in abstract.lower() or \"big-data\" in abstract.lower():\n",
    "        d_new.iloc[idx, 9] = True"
   ]
  },
  {
   "cell_type": "code",
   "execution_count": 48,
   "metadata": {},
   "outputs": [
    {
     "data": {
      "text/plain": [
       "596"
      ]
     },
     "execution_count": 48,
     "metadata": {},
     "output_type": "execute_result"
    }
   ],
   "source": [
    "sum(d_new['big data term'])"
   ]
  },
  {
   "cell_type": "code",
   "execution_count": 49,
   "metadata": {},
   "outputs": [
    {
     "data": {
      "text/html": [
       "<div>\n",
       "<style scoped>\n",
       "    .dataframe tbody tr th:only-of-type {\n",
       "        vertical-align: middle;\n",
       "    }\n",
       "\n",
       "    .dataframe tbody tr th {\n",
       "        vertical-align: top;\n",
       "    }\n",
       "\n",
       "    .dataframe thead tr th {\n",
       "        text-align: left;\n",
       "    }\n",
       "\n",
       "    .dataframe thead tr:last-of-type th {\n",
       "        text-align: right;\n",
       "    }\n",
       "</style>\n",
       "<table border=\"1\" class=\"dataframe\">\n",
       "  <thead>\n",
       "    <tr>\n",
       "      <th></th>\n",
       "      <th colspan=\"3\" halign=\"left\">PROJECT_ID</th>\n",
       "    </tr>\n",
       "    <tr>\n",
       "      <th>label</th>\n",
       "      <th>Big-data</th>\n",
       "      <th>Non Big-data</th>\n",
       "      <th>All</th>\n",
       "    </tr>\n",
       "    <tr>\n",
       "      <th>big data term</th>\n",
       "      <th></th>\n",
       "      <th></th>\n",
       "      <th></th>\n",
       "    </tr>\n",
       "  </thead>\n",
       "  <tbody>\n",
       "    <tr>\n",
       "      <th>False</th>\n",
       "      <td>244</td>\n",
       "      <td>760</td>\n",
       "      <td>1004</td>\n",
       "    </tr>\n",
       "    <tr>\n",
       "      <th>True</th>\n",
       "      <td>443</td>\n",
       "      <td>153</td>\n",
       "      <td>596</td>\n",
       "    </tr>\n",
       "    <tr>\n",
       "      <th>All</th>\n",
       "      <td>687</td>\n",
       "      <td>913</td>\n",
       "      <td>1600</td>\n",
       "    </tr>\n",
       "  </tbody>\n",
       "</table>\n",
       "</div>"
      ],
      "text/plain": [
       "              PROJECT_ID                   \n",
       "label           Big-data Non Big-data   All\n",
       "big data term                              \n",
       "False                244          760  1004\n",
       "True                 443          153   596\n",
       "All                  687          913  1600"
      ]
     },
     "execution_count": 49,
     "metadata": {},
     "output_type": "execute_result"
    }
   ],
   "source": [
    "pd.pivot_table(d_new, values=['PROJECT_ID'], index=['big data term'], columns=['label'], aggfunc='count', fill_value=0, margins=True)"
   ]
  },
  {
   "cell_type": "code",
   "execution_count": 126,
   "metadata": {},
   "outputs": [
    {
     "data": {
      "image/png": "[encoded data removed]",
      "text/plain": [
       "<Figure size 432x288 with 1 Axes>"
      ]
     },
     "metadata": {},
     "output_type": "display_data"
    }
   ],
   "source": [
    "sns.set(font_scale=1.4)\n",
    "ax = sns.countplot(data=d_new, x='label', hue='big data term')\n",
    "for p in ax.patches:\n",
    "    ax.annotate('{:.0f}'.format(p.get_height()), (p.get_x()+0.12, p.get_height()+10))\n",
    "plt.ylim(0,870)\n",
    "\n",
    "plt.title(\"Updated Labeled Set of 1,600 Abstracts\")\n",
    "plt.xlabel(\"Abstract Label\")\n",
    "plt.ylabel(\"Number of Abstracts\")\n",
    "plt.legend(title='Contains Phrase \"big data\"', loc='upper left', ncol=2, labels=['No', 'Yes'], \n",
    "          title_fontsize=13, fontsize=13) #bbox_to_anchor=(0.80, -0.2))\n",
    "\n",
    "plt.savefig(\"figures/update_label_term.png\", bbox_inches = \"tight\")"
   ]
  },
  {
   "cell_type": "code",
   "execution_count": null,
   "metadata": {},
   "outputs": [],
   "source": []
  },
  {
   "cell_type": "code",
   "execution_count": null,
   "metadata": {},
   "outputs": [],
   "source": []
  }
 ],
 "metadata": {
  "kernelspec": {
   "display_name": "Python 3.8",
   "language": "python",
   "name": "python-3.8"
  },
  "language_info": {
   "codemirror_mode": {
    "name": "ipython",
    "version": 3
   },
   "file_extension": ".py",
   "mimetype": "text/x-python",
   "name": "python",
   "nbconvert_exporter": "python",
   "pygments_lexer": "ipython3",
   "version": "3.8.8"
  }
 },
 "nbformat": 4,
 "nbformat_minor": 4
}
