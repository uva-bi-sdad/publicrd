{
 "cells": [
  {
   "cell_type": "code",
   "execution_count": 1,
   "metadata": {},
   "outputs": [],
   "source": [
    "import wikipedia\n",
    "\n",
    "import torch\n",
    "from transformers import pipeline\n",
    "from transformers import RobertaTokenizer, RobertaModel"
   ]
  },
  {
   "cell_type": "code",
   "execution_count": 1,
   "metadata": {},
   "outputs": [],
   "source": [
    "import pandas as pd\n",
    "pd.set_option('display.max_columns', 50)\n",
    "\n",
    "import numpy as np\n",
    "import pickle\n",
    "import matplotlib.pyplot as plt\n",
    "import time\n",
    "\n",
    "from sklearn.decomposition import NMF, TruncatedSVD\n",
    "from sklearn.feature_extraction.text import CountVectorizer\n",
    "from sklearn.feature_extraction.text import TfidfVectorizer\n",
    "\n",
    "from sklearn.metrics.pairwise import cosine_similarity"
   ]
  },
  {
   "cell_type": "code",
   "execution_count": null,
   "metadata": {},
   "outputs": [],
   "source": []
  },
  {
   "cell_type": "code",
   "execution_count": null,
   "metadata": {},
   "outputs": [],
   "source": [
    "# pull in data\n",
    "df = pd.read_pickle(\"../../../data/prd/Paper/FR_meta_and_final_tokens_23DEC21.pkl\")\n",
    "df.reset_index(inplace = True, drop = True)\n",
    "\n",
    "print(df.shape)"
   ]
  },
  {
   "cell_type": "code",
   "execution_count": null,
   "metadata": {},
   "outputs": [],
   "source": [
    "df.head()"
   ]
  },
  {
   "cell_type": "code",
   "execution_count": null,
   "metadata": {},
   "outputs": [],
   "source": []
  },
  {
   "cell_type": "code",
   "execution_count": 4,
   "metadata": {},
   "outputs": [
    {
     "name": "stderr",
     "output_type": "stream",
     "text": [
      "Some weights of the model checkpoint at roberta-base were not used when initializing RobertaModel: ['lm_head.dense.bias', 'lm_head.layer_norm.bias', 'lm_head.bias', 'lm_head.layer_norm.weight', 'lm_head.dense.weight', 'lm_head.decoder.weight']\n",
      "- This IS expected if you are initializing RobertaModel from the checkpoint of a model trained on another task or with another architecture (e.g. initializing a BertForSequenceClassification model from a BertForPreTraining model).\n",
      "- This IS NOT expected if you are initializing RobertaModel from the checkpoint of a model that you expect to be exactly identical (initializing a BertForSequenceClassification model from a BertForSequenceClassification model).\n"
     ]
    }
   ],
   "source": [
    "tokenizer = RobertaTokenizer.from_pretrained('roberta-base')\n",
    "model = RobertaModel.from_pretrained('roberta-base')"
   ]
  },
  {
   "cell_type": "code",
   "execution_count": 107,
   "metadata": {},
   "outputs": [],
   "source": [
    "text = [\"good\", \"bad\"]\n",
    "encoded_input = tokenizer(text, return_tensors='pt', padding=True)\n",
    "output = model(**encoded_input)"
   ]
  },
  {
   "cell_type": "code",
   "execution_count": 108,
   "metadata": {},
   "outputs": [
    {
     "data": {
      "text/plain": [
       "{'input_ids': tensor([[    0,  8396,     2],\n",
       "        [    0, 10999,     2]]), 'attention_mask': tensor([[1, 1, 1],\n",
       "        [1, 1, 1]])}"
      ]
     },
     "execution_count": 108,
     "metadata": {},
     "output_type": "execute_result"
    }
   ],
   "source": [
    "encoded_input"
   ]
  },
  {
   "cell_type": "code",
   "execution_count": 118,
   "metadata": {},
   "outputs": [
    {
     "data": {
      "text/plain": [
       "odict_keys(['last_hidden_state', 'pooler_output'])"
      ]
     },
     "execution_count": 118,
     "metadata": {},
     "output_type": "execute_result"
    }
   ],
   "source": [
    "output.keys()"
   ]
  },
  {
   "cell_type": "code",
   "execution_count": 119,
   "metadata": {},
   "outputs": [
    {
     "data": {
      "text/plain": [
       "tensor([[[-0.0600,  0.1117,  0.0125,  ..., -0.0877, -0.0479, -0.0382],\n",
       "         [-0.0543,  0.0645,  0.1325,  ..., -0.2585, -0.1425, -0.0546],\n",
       "         [-0.0580,  0.1246, -0.0108,  ..., -0.1436, -0.0497, -0.0861]],\n",
       "\n",
       "        [[-0.0530,  0.0905,  0.0115,  ..., -0.0906, -0.0578, -0.0353],\n",
       "         [-0.0506, -0.0965,  0.1254,  ..., -0.2834, -0.0933, -0.0792],\n",
       "         [-0.0466,  0.0914, -0.0126,  ..., -0.1488, -0.0618, -0.0766]]],\n",
       "       grad_fn=<NativeLayerNormBackward>)"
      ]
     },
     "execution_count": 119,
     "metadata": {},
     "output_type": "execute_result"
    }
   ],
   "source": [
    "output.last_hidden_state"
   ]
  },
  {
   "cell_type": "code",
   "execution_count": 109,
   "metadata": {},
   "outputs": [
    {
     "data": {
      "text/plain": [
       "torch.Size([2, 3, 768])"
      ]
     },
     "execution_count": 109,
     "metadata": {},
     "output_type": "execute_result"
    }
   ],
   "source": [
    "output[0].shape"
   ]
  },
  {
   "cell_type": "code",
   "execution_count": 110,
   "metadata": {},
   "outputs": [
    {
     "data": {
      "text/plain": [
       "tensor([[-0.0600,  0.1117,  0.0125,  ..., -0.0877, -0.0479, -0.0382],\n",
       "        [-0.0543,  0.0645,  0.1325,  ..., -0.2585, -0.1425, -0.0546],\n",
       "        [-0.0580,  0.1246, -0.0108,  ..., -0.1436, -0.0497, -0.0861]],\n",
       "       grad_fn=<SelectBackward>)"
      ]
     },
     "execution_count": 110,
     "metadata": {},
     "output_type": "execute_result"
    }
   ],
   "source": [
    "output[0][0]"
   ]
  },
  {
   "cell_type": "code",
   "execution_count": 111,
   "metadata": {},
   "outputs": [
    {
     "data": {
      "text/plain": [
       "tensor([[-0.0530,  0.0905,  0.0115,  ..., -0.0906, -0.0578, -0.0353],\n",
       "        [-0.0506, -0.0965,  0.1254,  ..., -0.2834, -0.0933, -0.0792],\n",
       "        [-0.0466,  0.0914, -0.0126,  ..., -0.1488, -0.0618, -0.0766]],\n",
       "       grad_fn=<SelectBackward>)"
      ]
     },
     "execution_count": 111,
     "metadata": {},
     "output_type": "execute_result"
    }
   ],
   "source": [
    "output[0][1]"
   ]
  },
  {
   "cell_type": "code",
   "execution_count": 112,
   "metadata": {},
   "outputs": [
    {
     "data": {
      "text/plain": [
       "torch.Tensor"
      ]
     },
     "execution_count": 112,
     "metadata": {},
     "output_type": "execute_result"
    }
   ],
   "source": [
    "type(output[0][:,0,:])"
   ]
  },
  {
   "cell_type": "code",
   "execution_count": 113,
   "metadata": {},
   "outputs": [
    {
     "name": "stdout",
     "output_type": "stream",
     "text": [
      "[[-0.05997714  0.1117099   0.01250292 ... -0.08772442 -0.04788758\n",
      "  -0.03824044]\n",
      " [-0.05302423  0.0905467   0.01149731 ... -0.09061782 -0.05778022\n",
      "  -0.03527931]]\n"
     ]
    }
   ],
   "source": [
    "# doc_vecs contains vectorized documents\n",
    "\n",
    "doc_vecs = output[0][:,0,:].detach().numpy()\n",
    "print(doc_vecs)"
   ]
  },
  {
   "cell_type": "code",
   "execution_count": 114,
   "metadata": {},
   "outputs": [
    {
     "data": {
      "text/plain": [
       "numpy.ndarray"
      ]
     },
     "execution_count": 114,
     "metadata": {},
     "output_type": "execute_result"
    }
   ],
   "source": [
    "type(doc_vecs[0])"
   ]
  },
  {
   "cell_type": "code",
   "execution_count": 115,
   "metadata": {},
   "outputs": [
    {
     "data": {
      "text/plain": [
       "(1, 768)"
      ]
     },
     "execution_count": 115,
     "metadata": {},
     "output_type": "execute_result"
    }
   ],
   "source": [
    "doc_vecs[0].reshape(1, -1).shape"
   ]
  },
  {
   "cell_type": "code",
   "execution_count": 116,
   "metadata": {},
   "outputs": [
    {
     "data": {
      "text/plain": [
       "array([[0.9996189]], dtype=float32)"
      ]
     },
     "execution_count": 116,
     "metadata": {},
     "output_type": "execute_result"
    }
   ],
   "source": [
    "cosine_similarity(doc_vecs[0].reshape(1, -1), doc_vecs[1].reshape(1, -1))"
   ]
  },
  {
   "cell_type": "code",
   "execution_count": null,
   "metadata": {},
   "outputs": [],
   "source": []
  },
  {
   "cell_type": "code",
   "execution_count": null,
   "metadata": {},
   "outputs": [],
   "source": []
  },
  {
   "cell_type": "code",
   "execution_count": 46,
   "metadata": {},
   "outputs": [
    {
     "name": "stdout",
     "output_type": "stream",
     "text": [
      "<class 'numpy.ndarray'>\n"
     ]
    }
   ],
   "source": [
    "# get document representation\n",
    "\n",
    "doc_vector = output[0][:,0,:].detach().numpy()\n",
    "\n",
    "print(type(doc_vector))"
   ]
  },
  {
   "cell_type": "code",
   "execution_count": 45,
   "metadata": {},
   "outputs": [
    {
     "data": {
      "text/plain": [
       "array([-1.14643313e-01,  1.10333711e-01, -1.48565806e-02, -8.80328715e-02,\n",
       "        1.13034829e-01, -5.11918180e-02, -3.00938613e-04,  2.94117164e-02,\n",
       "        2.08435301e-02, -9.86900479e-02, -4.26134691e-02,  2.39708610e-02,\n",
       "        2.46323347e-02, -6.32747263e-02,  6.43565729e-02, -1.22286044e-02,\n",
       "       -8.59912559e-02,  1.28469355e-02, -6.85404381e-03, -1.25063034e-02,\n",
       "       -1.14405125e-01,  1.78088136e-02,  1.03543662e-02,  1.62025899e-01,\n",
       "       -3.59903574e-02,  8.63939226e-02,  4.45442498e-02,  9.85156000e-02,\n",
       "       -2.68439967e-02,  4.74899542e-03, -7.75303915e-02, -9.41260830e-02,\n",
       "        8.12896490e-02,  1.62781458e-02,  1.49947591e-02,  8.35780054e-02,\n",
       "        1.03193717e-02, -1.94536354e-02, -2.43302137e-02,  4.37730663e-02,\n",
       "        1.41453734e-02,  1.71921611e-01,  1.89868044e-02,  1.92040962e-03,\n",
       "        3.52538303e-02,  3.12549099e-02,  1.03037469e-02, -6.07903227e-02,\n",
       "       -3.01116593e-02, -9.09070484e-03,  1.08087575e-02,  8.74547586e-02,\n",
       "       -5.55447787e-02,  5.98837957e-02, -1.55763432e-01,  3.42793763e-02,\n",
       "        7.75606260e-02,  6.68669343e-02,  5.70529625e-02, -1.25349328e-01,\n",
       "       -7.65406042e-02, -1.93824276e-01, -7.69761279e-02, -9.98953134e-02,\n",
       "        6.82761595e-02, -6.62722066e-02, -3.44074406e-02,  2.31339969e-02,\n",
       "        2.10686624e-02,  8.04213136e-02,  5.04950657e-02, -5.90502769e-02,\n",
       "       -1.64113962e-03,  2.25617979e-02,  9.70089063e-03, -2.79799514e-02,\n",
       "       -8.55629798e-03,  5.21999836e-01, -4.31107469e-02,  2.80959848e-02,\n",
       "        2.95673441e-02, -1.03618853e-01,  5.53737998e-01,  7.42102638e-02,\n",
       "       -2.17395350e-02, -1.22498423e-02,  1.40263647e-01, -1.42730381e-02,\n",
       "        6.04555756e-02,  3.15971859e-02, -2.82638357e-03,  6.88981041e-02,\n",
       "       -3.96905914e-02,  3.55542451e-02,  4.75230515e-02,  9.38749220e-03,\n",
       "       -3.90020721e-02,  8.49565864e-02, -5.68004511e-02, -1.00953892e-01,\n",
       "       -1.55504243e-02, -5.00667319e-02,  8.86596665e-02,  9.69569162e-02,\n",
       "        6.05923915e-03, -5.22323325e-02,  4.59181331e-02, -5.71901649e-02,\n",
       "        5.66406175e-02, -5.58037721e-02,  9.27891489e-03, -7.51786977e-02,\n",
       "        8.85301232e-02, -3.29301842e-02,  4.13884595e-02, -3.52864675e-02,\n",
       "       -1.25102894e-02,  6.74499646e-02,  1.08029612e-03,  4.75677400e-04,\n",
       "       -7.06537440e-03,  7.97202289e-02,  7.83867761e-02, -9.84502509e-02,\n",
       "       -8.20987821e-02, -6.70276731e-02, -5.42696081e-02,  1.72351226e-02,\n",
       "        2.71270946e-02,  1.18032917e-02,  1.16175050e-02, -1.18171453e-01,\n",
       "       -2.06153560e-02,  8.42092112e-02,  2.14086864e-02,  2.84785423e-02,\n",
       "        7.38467574e-02, -2.86902171e-02,  1.14621855e-02, -8.03119913e-02,\n",
       "        2.68855295e-03,  4.31338921e-02,  1.40425302e-02,  3.45680304e-02,\n",
       "        1.46057889e-01,  9.71315950e-02, -2.77188625e-02, -4.87251580e-02,\n",
       "        1.18250446e-02,  6.70979358e-03,  6.45256713e-02, -6.78401515e-02,\n",
       "        3.49251577e-03, -1.53203309e-02, -6.13517426e-02,  5.12353539e-01,\n",
       "        1.50919750e-01,  1.08132154e-01,  1.98834925e-03, -4.84801410e-03,\n",
       "        2.18713403e-01,  2.21212860e-02,  3.10888328e-02, -5.86458035e-02,\n",
       "        6.39288395e-04, -5.26138535e-03, -6.34249225e-02, -6.40094057e-02,\n",
       "        3.69417071e-02,  1.22903520e-02,  7.27388337e-02,  2.29996592e-02,\n",
       "        4.36492264e-02, -8.71170219e-03, -8.99952054e-02, -8.57997388e-02,\n",
       "        7.42682964e-02,  1.37954885e-02, -9.33308080e-02,  3.59926559e-02,\n",
       "        3.28669809e-02,  8.71828496e-02, -7.46966079e-02,  2.24764235e-02,\n",
       "       -5.73887713e-02,  4.16226387e-02,  1.20122507e-02,  1.67809557e-02,\n",
       "       -7.50465225e-03,  3.79368961e-02,  5.04442714e-02, -6.19686954e-02,\n",
       "       -2.42466908e-02, -3.40246297e-02, -4.95270975e-02,  5.39188348e-02,\n",
       "       -2.87848599e-02, -7.62610584e-02,  3.18224095e-02, -5.69247268e-02,\n",
       "        1.73893459e-02, -7.77484104e-02,  1.42299518e-01, -1.00167722e-01,\n",
       "        1.58420671e-02, -4.14940827e-02,  2.81268135e-02,  3.43736336e-02,\n",
       "        2.82723660e-04, -9.34931040e-02, -2.06786557e-03,  3.80517021e-02,\n",
       "       -4.44434471e-02,  1.15898453e-01,  4.68609259e-02, -2.00990755e-02,\n",
       "        4.59322743e-02,  1.53650850e-01, -1.90068930e-02,  1.05476389e-02,\n",
       "        6.72365576e-02,  3.15415412e-02, -2.08631884e-02,  6.64955452e-02,\n",
       "        2.65221409e-02, -9.51803382e-03,  1.25709614e-02,  1.68530121e-02,\n",
       "        3.58431302e-02, -9.21758730e-03, -5.55342101e-02,  3.74817587e-02,\n",
       "        1.88111160e-02,  2.81410217e-02,  6.60700426e-02, -1.42137840e-01,\n",
       "       -5.71583286e-02, -4.30706237e-03, -6.22161441e-02,  4.31837738e-02,\n",
       "        3.99586605e-03,  7.54647404e-02,  4.84352298e-02,  4.24769185e-02,\n",
       "        1.40257208e-02,  7.16944933e-02,  5.14497124e-02,  1.15006920e-02,\n",
       "       -1.27672199e-02,  3.13941427e-02, -3.18758301e-02, -4.85792793e-02,\n",
       "        5.50610907e-02,  3.18123475e-02,  7.05715492e-02, -4.01131660e-02,\n",
       "       -5.33034317e-02,  2.63752911e-04, -4.70311940e-02, -6.85700104e-02,\n",
       "       -5.81895001e-02, -5.91226369e-02,  4.79484117e-03, -2.37428732e-02,\n",
       "       -8.12947378e-02, -6.01768941e-02, -8.23433101e-02,  1.37331779e-03,\n",
       "        8.96038115e-02, -3.34567055e-02,  9.05729271e-03, -9.87816080e-02,\n",
       "       -4.38963845e-02, -2.29535867e-02,  3.70833352e-02, -4.66395840e-02,\n",
       "        2.41754446e-02,  2.13038810e-02, -1.13031998e-01,  4.88788001e-02,\n",
       "        3.50630879e-02, -6.56198636e-02, -4.27367203e-02, -4.97830920e-02,\n",
       "        3.84013541e-02,  1.24008013e-02, -9.50073823e-02,  1.59130171e-02,\n",
       "        7.38869840e-03,  2.55728625e-02,  9.28224549e-02,  1.18077807e-02,\n",
       "       -1.31352514e-01,  3.30966376e-02, -1.35018490e-02,  1.15626892e-02,\n",
       "        6.82224110e-02, -2.16027331e-02,  3.73959877e-02,  2.29956135e-02,\n",
       "       -1.02258168e-01, -8.40663314e-02, -1.11968711e-01, -2.28107013e-02,\n",
       "       -2.87181661e-02, -5.34739085e-02, -3.02406251e-02, -2.74609569e-02,\n",
       "       -1.55811245e-02,  7.99740404e-02, -1.02593396e-02, -4.24947664e-02,\n",
       "       -1.01427071e-01,  1.11690357e-01,  1.43116778e-02,  2.57543121e-02,\n",
       "        1.12038843e-01, -4.12630253e-02,  1.43703464e-02, -5.40065877e-02,\n",
       "       -2.14209910e-02,  4.04435545e-02,  7.81060308e-02, -3.71086262e-02,\n",
       "       -2.27398835e-02,  7.92880580e-02,  1.72235034e-02,  3.81637141e-02,\n",
       "        3.51010524e-02,  3.21426898e-01, -3.79639119e-01,  4.22329046e-02,\n",
       "        8.71664658e-02, -1.70116872e-02,  5.22278361e-02,  3.19911423e-03,\n",
       "        9.19135511e-02,  7.34075904e-02,  1.12202287e-01,  1.20301664e-01,\n",
       "       -1.72018204e-02,  3.82755101e-02, -7.80861303e-02,  7.21000955e-02,\n",
       "        5.74797392e-02,  6.58897460e-02,  6.23858683e-02, -5.81240058e-02,\n",
       "        8.75912514e-03,  2.27204226e-02, -5.80732264e-02, -1.12147611e-02,\n",
       "       -1.41098639e-02, -8.17794651e-02,  4.33970392e-02,  7.33760297e-02,\n",
       "        6.50106594e-02, -3.65977921e-02,  2.26741042e-02,  1.56955980e-02,\n",
       "        5.72551042e-02, -5.12633920e-02,  1.77965034e-02, -8.60008523e-02,\n",
       "        5.06358445e-02, -2.70579923e-02, -1.08029470e-01,  7.62901381e-02,\n",
       "        1.22126075e-03,  2.62801554e-02,  9.68309119e-02, -8.61485451e-02,\n",
       "        9.65403393e-03,  1.59788085e-03, -1.62607878e-02,  4.52035405e-02,\n",
       "        3.88980173e-02,  1.18999276e-02,  6.02233373e-02,  1.69487014e-01,\n",
       "       -1.74628459e-02,  4.77905609e-02, -5.83317354e-02,  4.30174582e-02,\n",
       "        1.41828015e-01, -6.14456348e-02,  7.69639462e-02, -8.40315968e-03,\n",
       "        2.12680493e-02,  5.94405793e-02, -2.31147911e-02, -4.72965501e-02,\n",
       "       -9.44008306e-02, -1.20130666e-01,  6.58572316e-02,  1.59333237e-02,\n",
       "       -2.25395914e-02, -1.32127181e-01,  5.20707034e-02, -5.04540987e-02,\n",
       "        4.00571637e-02, -4.72424598e-03, -1.22894078e-01,  8.73868018e-02,\n",
       "       -3.01781371e-02, -8.05585762e-04,  2.55083712e-03, -8.12603682e-02,\n",
       "        9.25080269e-04, -6.75211251e-02, -3.81454676e-02,  3.87761630e-02,\n",
       "        6.17928281e-02, -7.33348355e-02,  5.06640486e-02, -7.04462677e-02,\n",
       "        2.10279562e-02, -1.01968301e-02, -5.33792377e-02, -9.24031213e-02,\n",
       "       -6.16568625e-02,  6.45637810e-02, -1.72200613e-02, -4.44527045e-02,\n",
       "       -6.07619509e-02,  2.04826929e-02,  3.18528600e-02, -7.94086084e-02,\n",
       "       -1.23889543e-01, -1.36982258e-02, -6.49061278e-02,  6.41684532e-02,\n",
       "       -6.82561398e-02, -4.24121991e-02, -2.77095027e-02, -3.65847498e-02,\n",
       "       -2.28687320e-02,  4.34062704e-02, -2.09427886e-02, -9.27868187e-02,\n",
       "       -1.81502569e-02, -2.55509727e-02,  7.17698783e-02,  2.43747160e-02,\n",
       "       -3.01351845e-02, -3.12578566e-02,  2.07650773e-02,  3.39267179e-02,\n",
       "       -7.82338306e-02,  8.78302529e-02, -1.42155197e-02,  1.04891825e-02,\n",
       "       -1.34956062e-01, -3.21476936e-01,  3.69577296e-02, -4.19770787e-03,\n",
       "        5.05875014e-02,  5.79327159e-02, -9.05095339e-02,  4.65368778e-02,\n",
       "        4.44842167e-02, -6.04593977e-02,  4.06584442e-02, -6.18064366e-02,\n",
       "        5.35158291e-02, -2.06491165e-02, -6.66405484e-02,  5.06492145e-03,\n",
       "       -1.05226208e-02, -5.67293838e-02,  8.75963420e-02, -5.49790338e-02,\n",
       "        1.75916180e-02, -1.55772507e-01,  1.00929821e-02, -2.92766076e-02,\n",
       "        4.67375144e-02,  8.10980611e-03,  2.38025859e-02, -7.63732791e-02,\n",
       "       -5.49910814e-02,  1.66450683e-02,  1.08015344e-01,  5.88367060e-02,\n",
       "       -5.22802547e-02, -2.78381575e-02,  2.99539883e-03,  5.12287393e-02,\n",
       "        1.03856914e-01, -6.11226521e-02,  1.23226577e-02, -5.40475808e-02,\n",
       "        5.88713475e-02,  5.13747446e-02,  2.08354190e-01, -3.06671970e-02,\n",
       "        1.52606264e-01, -8.82307719e-03,  1.31711572e-01,  4.93615381e-02,\n",
       "       -3.20048677e-03, -7.48415291e-02, -4.34950143e-02, -3.50560993e-02,\n",
       "       -4.61531244e-02,  3.19724530e-02, -8.51588473e-02, -6.19857088e-02,\n",
       "       -4.34871251e-03,  3.44597995e-02, -3.15182693e-02,  2.75648315e-03,\n",
       "        1.53450489e-01,  9.75864939e-03,  5.01356311e-02, -4.95870784e-03,\n",
       "       -6.36990815e-02, -6.90898113e-03, -2.75498331e-02,  1.17656235e-02,\n",
       "       -3.06600574e-02, -7.21558137e-03, -6.17691204e-02, -1.97125152e-02,\n",
       "       -6.30905703e-02, -1.70706566e-02, -8.61806702e-03,  1.16394006e-03,\n",
       "        1.39143363e-01, -2.06563938e-02,  3.21356058e-02,  7.37893209e-03,\n",
       "        7.55555779e-02,  3.89874205e-02, -1.24818366e-02,  4.51852940e-02,\n",
       "        1.58444420e-01,  2.26304308e-02, -5.05030751e-02, -1.01524498e-02,\n",
       "       -6.84114695e-02,  1.03236837e-02,  1.47613019e-01, -5.28961122e-02,\n",
       "        1.17457055e-01,  4.75873463e-02,  2.90029831e-02, -7.20509365e-02,\n",
       "        5.53772189e-02, -7.89671578e-03,  1.22158425e-02, -5.76373279e-01,\n",
       "       -1.01653934e-02,  8.84094834e-02, -4.69007753e-02, -3.18926647e-02,\n",
       "        8.44567642e-02,  4.65634204e-02, -2.64386404e-02, -3.64470519e-02,\n",
       "       -4.14997116e-02,  8.97726193e-02,  2.60866694e-02,  7.84721971e-02,\n",
       "       -3.87682728e-02, -8.71830992e-03,  7.72591680e-02, -2.20156517e-02,\n",
       "       -7.35374121e-03,  2.68954802e-02, -2.22038105e-01,  5.09757223e-03,\n",
       "       -7.48036131e-02,  1.17394947e-01, -4.92203347e-02,  7.01801702e-02,\n",
       "        9.33790058e-02, -7.83360749e-02,  1.14895776e-02,  4.45277281e-02,\n",
       "        3.86703163e-02,  2.78852303e-02,  3.66880815e-03, -2.55095810e-02,\n",
       "        5.49630187e-02,  1.28014520e-01,  1.40414819e-01,  2.35128850e-02,\n",
       "        1.18013000e+01, -2.53634970e-03,  6.15401715e-02, -5.89954183e-02,\n",
       "        2.23600026e-02, -1.03645399e-01,  1.32818688e-02, -1.16816096e-01,\n",
       "       -1.66447647e-02,  1.29622430e-01,  1.75267924e-02, -1.61259975e-02,\n",
       "       -8.66418481e-02, -6.10926710e-02,  1.85947120e-02,  3.03926878e-03,\n",
       "       -6.15584441e-02, -3.43717635e-02,  5.20356819e-02, -7.87670389e-02,\n",
       "       -2.00367272e-02,  2.12085117e-02,  4.21271510e-02,  1.71196796e-02,\n",
       "       -7.70938173e-02,  8.68035946e-03,  4.20042463e-02, -6.71712980e-02,\n",
       "       -4.93205385e-03,  4.96369079e-02, -5.14659984e-03,  1.80783235e-02,\n",
       "        4.07019481e-02,  1.09480824e-02,  9.59165171e-02,  4.38625403e-02,\n",
       "        1.85223413e-03,  5.06406277e-02,  2.16400921e-02,  1.84051339e-02,\n",
       "       -6.26154477e-04,  2.86890436e-02,  8.18830803e-02,  8.08015019e-02,\n",
       "        2.22628340e-02,  2.54439209e-02,  2.96485405e-02,  1.27683863e-01,\n",
       "        3.54254954e-02,  7.97272474e-02,  1.24363534e-01, -6.80483729e-02,\n",
       "        1.11598752e-01,  5.01464158e-02,  1.43122515e-02,  5.16919419e-02,\n",
       "        2.69939769e-02,  1.13519458e-02,  1.82015598e-02,  8.70306417e-03,\n",
       "       -7.47681484e-02,  5.00440747e-02,  2.02215407e-02,  4.24337313e-02,\n",
       "       -2.51945872e-02,  1.31665006e-01,  1.13102533e-01,  1.04003496e-01,\n",
       "       -4.94987071e-02, -7.07330853e-02, -2.43716929e-02, -6.77107722e-02,\n",
       "       -7.15262219e-02,  2.26555578e-02,  6.09473921e-02, -3.38097736e-02,\n",
       "        1.10443672e-02, -1.97752248e-02,  2.69445404e-02, -2.68946383e-02,\n",
       "        1.80325788e-02,  3.51950191e-02,  3.40671316e-02, -3.03070340e-02,\n",
       "        2.30135303e-02,  5.50981760e-02,  3.03401072e-02,  8.62531289e-02,\n",
       "       -2.94847786e-02, -8.56778771e-02, -3.30131426e-02,  1.96073167e-02,\n",
       "       -5.98797388e-03, -6.99407756e-02,  3.08778211e-02, -6.93957731e-02,\n",
       "        4.88882512e-02, -1.54244751e-01,  1.21678952e-02,  8.28997046e-02,\n",
       "       -1.08984232e-01,  2.16422305e-02, -1.57611147e-02,  7.23805204e-02,\n",
       "        6.48577511e-02,  3.16873789e-02, -1.65010318e-02, -1.54635124e-02,\n",
       "        3.45491283e-02,  2.24677958e-02, -2.85741668e-02,  1.10902684e-02,\n",
       "        3.54891308e-02, -3.23156193e-02,  1.46435201e-02,  1.09367457e-03,\n",
       "       -1.60173997e-02,  1.24379471e-02,  4.99522761e-02,  8.21372792e-02,\n",
       "       -1.14387684e-01, -1.54254586e-02, -2.48513427e-02, -9.18029621e-03,\n",
       "       -1.13966865e-02, -4.26793285e-03, -2.11474393e-02,  4.80624922e-02,\n",
       "       -4.57797125e-02,  2.00214162e-02, -7.01831374e-03,  2.69036535e-02,\n",
       "        3.01957913e-02, -7.25289956e-02,  1.13068588e-01, -7.04175606e-02,\n",
       "       -5.75179867e-02,  6.63684011e-02, -3.79907922e-03,  5.73443100e-02,\n",
       "        1.28314737e-02, -1.80213451e-02, -3.42614576e-02, -8.17673951e-02,\n",
       "        3.62774767e-02,  6.19490519e-02,  9.88310203e-02,  6.20113239e-02,\n",
       "        1.21696003e-01, -8.54291022e-02,  4.48915223e-03,  6.04400188e-02,\n",
       "        1.09377190e-01,  1.75427981e-02,  5.47993649e-03, -4.52079549e-02,\n",
       "       -8.77312645e-02,  8.71081576e-02, -1.89276468e-02,  2.25233342e-02,\n",
       "        5.48988357e-02, -1.36480154e-03,  9.47016105e-02,  3.71544436e-02,\n",
       "        1.80063937e-02,  4.06344645e-02, -5.70242144e-02,  6.76181614e-02,\n",
       "        3.80305648e-02, -1.77473687e-02,  2.06242707e-02,  3.10902111e-02,\n",
       "       -9.11208242e-02, -6.32014945e-02,  6.90693185e-02,  1.20697290e-01,\n",
       "        5.36644496e-02, -8.08994249e-02, -1.80655101e-03, -2.70754453e-02],\n",
       "      dtype=float32)"
      ]
     },
     "execution_count": 45,
     "metadata": {},
     "output_type": "execute_result"
    }
   ],
   "source": [
    "doc_vector[0]"
   ]
  },
  {
   "cell_type": "code",
   "execution_count": 3,
   "metadata": {},
   "outputs": [
    {
     "name": "stdout",
     "output_type": "stream",
     "text": [
      "['Big data', 'Data', 'Big Data (band)', 'Data science', 'Big data ethics', 'List of big data companies', 'Data analysis', 'Data mining', 'Streaming data', 'Data lake']\n"
     ]
    }
   ],
   "source": [
    "print(wikipedia.search(\"big data\"))"
   ]
  },
  {
   "cell_type": "code",
   "execution_count": null,
   "metadata": {},
   "outputs": [],
   "source": []
  },
  {
   "cell_type": "code",
   "execution_count": 5,
   "metadata": {},
   "outputs": [
    {
     "name": "stdout",
     "output_type": "stream",
     "text": [
      "None\n"
     ]
    }
   ],
   "source": [
    "print(wikipedia.suggest(\"Big Data\"))"
   ]
  },
  {
   "cell_type": "code",
   "execution_count": null,
   "metadata": {},
   "outputs": [],
   "source": []
  },
  {
   "cell_type": "code",
   "execution_count": 6,
   "metadata": {},
   "outputs": [
    {
     "name": "stdout",
     "output_type": "stream",
     "text": [
      "Big data refers to data sets that are too large or complex to be dealt with by traditional data-processing application software. Data with many fields (rows) offer greater statistical power, while data with higher complexity (more attributes or columns) may lead to a higher false discovery rate. Big data analysis challenges include capturing data, data storage, data analysis, search, sharing, transfer, visualization, querying, updating, information privacy, and data source. Big data was originally associated with three key concepts: volume, variety, and velocity. The analysis of big data presents challenges in sampling, and thus previously allowing for only observations and sampling. Thus a fourth concept, veracity, refers to the quality or insightfulness of the data. Without sufficient investment in expertise for big data veracity, then the volume and variety of data can produce costs and risks that exceed an organization's capacity to create and capture value from big data.Current usage of the term big data tends to refer to the use of predictive analytics, user behavior analytics, or certain other advanced data analytics methods that extract value from big data, and seldom to a particular size of data set. \"There is little doubt that the quantities of data now available are indeed large, but that's not the most relevant characteristic of this new data ecosystem.\"\n",
      "Analysis of data sets can find new correlations to \"spot business trends, prevent diseases, combat crime and so on\". Scientists, business executives, medical practitioners, advertising and governments alike regularly meet difficulties with large data-sets in areas including Internet searches, fintech, healthcare analytics, geographic information systems, urban informatics, and business informatics. Scientists encounter limitations in e-Science work, including meteorology, genomics, connectomics, complex physics simulations, biology, and environmental research.The size and number of available data sets have grown rapidly as data is collected by devices such as mobile devices, cheap and numerous information-sensing Internet of things devices, aerial (remote sensing), software logs, cameras, microphones, radio-frequency identification (RFID) readers and wireless sensor networks. The world's technological per-capita capacity to store information has roughly doubled every 40 months since the 1980s; as of 2012, every day 2.5 exabytes (2.5×260 bytes) of data are generated. Based on an IDC report prediction, the global data volume was predicted to grow exponentially from 4.4 zettabytes to 44 zettabytes between 2013 and 2020. By 2025, IDC predicts there will be 163 zettabytes of data. According to IDC, global spending on big data and business analytics (BDA) solutions is estimated to reach $215.7 billion in 2021. While Statista report, the global big data market is forecasted to grow to $103 billion by 2027. In 2011 McKinsey & Company reported, if US healthcare were to use big data creatively and effectively to drive efficiency and quality, the sector could create more than $300 billion in value every year. In the developed economies of Europe, government administrators could save more than €100 billion ($149 billion) in operational efficiency improvements alone by using big data. And users of services enabled by personal-location data could capture $600 billion in consumer surplus. One question for large enterprises is determining who should own big-data initiatives that affect the entire organization.Relational database management systems and desktop statistical software packages used to visualize data often have difficulty processing and analyzing big data. The processing and analysis of big data may require \"massively parallel software running on tens, hundreds, or even thousands of servers\". What qualifies as \"big data\" varies depending on the capabilities of those analyzing it and their tools. Furthermore, expanding capabilities make big data a moving target. \"For some organizations, facing hundreds of gigabytes of data for the first time may trigger a need to reconsider data management options. For others, it may take tens or hundreds of terabytes before data size becomes a significant consideration.\"\n"
     ]
    }
   ],
   "source": [
    "print(wikipedia.summary(\"Big data\"))"
   ]
  }
 ],
 "metadata": {
  "kernelspec": {
   "display_name": "Python [conda env:.conda-bert_new]",
   "language": "python",
   "name": "conda-env-.conda-bert_new-py"
  },
  "language_info": {
   "codemirror_mode": {
    "name": "ipython",
    "version": 3
   },
   "file_extension": ".py",
   "mimetype": "text/x-python",
   "name": "python",
   "nbconvert_exporter": "python",
   "pygments_lexer": "ipython3",
   "version": "3.8.13"
  }
 },
 "nbformat": 4,
 "nbformat_minor": 4
}
