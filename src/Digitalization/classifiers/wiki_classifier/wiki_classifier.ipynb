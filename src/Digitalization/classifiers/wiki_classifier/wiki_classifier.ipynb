{
 "cells": [
  {
   "cell_type": "markdown",
   "metadata": {},
   "source": [
    "#### Test sentence-transformers with Wikipedia Big Data classification approach "
   ]
  },
  {
   "cell_type": "code",
   "execution_count": 1,
   "metadata": {},
   "outputs": [],
   "source": [
    "import wikipedia\n",
    "import pandas as pd\n",
    "import numpy as np\n",
    "import matplotlib.pyplot as plt\n",
    "from matplotlib.ticker import StrMethodFormatter\n",
    "import seaborn as sns\n",
    "\n",
    "from sentence_transformers import SentenceTransformer\n",
    "from sklearn.metrics.pairwise import cosine_similarity"
   ]
  },
  {
   "cell_type": "markdown",
   "metadata": {},
   "source": [
    "##### Get Wiki Big Data Summary and embed"
   ]
  },
  {
   "cell_type": "code",
   "execution_count": 2,
   "metadata": {},
   "outputs": [
    {
     "name": "stdout",
     "output_type": "stream",
     "text": [
      "['Big data', 'Big Data (band)', 'Data', 'Data science', 'Big data ethics', 'List of big data companies', 'Data lake', 'Data analysis', 'Big data maturity model', 'Data mining']\n"
     ]
    }
   ],
   "source": [
    "print(wikipedia.search(\"big data\"))"
   ]
  },
  {
   "cell_type": "code",
   "execution_count": 3,
   "metadata": {},
   "outputs": [
    {
     "name": "stdout",
     "output_type": "stream",
     "text": [
      "Though used sometimes loosely partly because of a lack of formal definition, the interpretation that seems to best describe Big data is the one associated with large body of information that we could not comprehend when used only in smaller amounts. In it primary definition though, Big data refers to data sets that are too large or complex to be dealt with by traditional data-processing application software. Data with many fields (rows) offer greater statistical power, while data with higher complexity (more attributes or columns) may lead to a higher false discovery rate. Big data analysis challenges include capturing data, data storage, data analysis, search, sharing, transfer, visualization, querying, updating, information privacy, and data source. Big data was originally associated with three key concepts: volume, variety, and velocity. The analysis of big data presents challenges in sampling, and thus previously allowing for only observations and sampling. Thus a fourth concept, veracity, refers to the quality or insightfulness of the data. Without sufficient investment in expertise for big data veracity, then the volume and variety of data can produce costs and risks that exceed an organization's capacity to create and capture value from big data.Current usage of the term big data tends to refer to the use of predictive analytics, user behavior analytics, or certain other advanced data analytics methods that extract value from big data, and seldom to a particular size of data set. \"There is little doubt that the quantities of data now available are indeed large, but that's not the most relevant characteristic of this new data ecosystem.\"\n",
      "Analysis of data sets can find new correlations to \"spot business trends, prevent diseases, combat crime and so on\". Scientists, business executives, medical practitioners, advertising and governments alike regularly meet difficulties with large data-sets in areas including Internet searches, fintech, healthcare analytics, geographic information systems, urban informatics, and business informatics. Scientists encounter limitations in e-Science work, including meteorology, genomics, connectomics, complex physics simulations, biology, and environmental research.The size and number of available data sets have grown rapidly as data is collected by devices such as mobile devices, cheap and numerous information-sensing Internet of things devices, aerial (remote sensing), software logs, cameras, microphones, radio-frequency identification (RFID) readers and wireless sensor networks. The world's technological per-capita capacity to store information has roughly doubled every 40 months since the 1980s; as of 2012, every day 2.5 exabytes (2.5×260 bytes) of data are generated. Based on an IDC report prediction, the global data volume was predicted to grow exponentially from 4.4 zettabytes to 44 zettabytes between 2013 and 2020. By 2025, IDC predicts there will be 163 zettabytes of data. According to IDC, global spending on big data and business analytics (BDA) solutions is estimated to reach $215.7 billion in 2021. While Statista report, the global big data market is forecasted to grow to $103 billion by 2027. In 2011 McKinsey & Company reported, if US healthcare were to use big data creatively and effectively to drive efficiency and quality, the sector could create more than $300 billion in value every year. In the developed economies of Europe, government administrators could save more than €100 billion ($149 billion) in operational efficiency improvements alone by using big data. And users of services enabled by personal-location data could capture $600 billion in consumer surplus. One question for large enterprises is determining who should own big-data initiatives that affect the entire organization.Relational database management systems and desktop statistical software packages used to visualize data often have difficulty processing and analyzing big data. The processing and analysis of big data may require \"massively parallel software running on tens, hundreds, or even thousands of servers\". What qualifies as \"big data\" varies depending on the capabilities of those analyzing it and their tools. Furthermore, expanding capabilities make big data a moving target. \"For some organizations, facing hundreds of gigabytes of data for the first time may trigger a need to reconsider data management options. For others, it may take tens or hundreds of terabytes before data size becomes a significant consideration.\"\n",
      "\n",
      "\n"
     ]
    }
   ],
   "source": [
    "# Note: if the big data wiki summary is updated, method results will change!\n",
    "# Timestamp for download is listed below - if needed in the future, this version of the summary can be found on\n",
    "# Big data Wiki under the View History tab.  If we want to pursue this method futher, we should use a package/API \n",
    "# that allows the user to request a summary from a particular date/version.\n",
    "\n",
    "big_data_wiki_text = wikipedia.summary(\"Big data\")  # downloaded on Dec 15, 2022, 3:30pm\n",
    "# https://en.wikipedia.org/w/index.php?title=Big_data&diff=1123680238&oldid=1120846918\n",
    "\n",
    "print(big_data_wiki_text)"
   ]
  },
  {
   "cell_type": "code",
   "execution_count": 4,
   "metadata": {},
   "outputs": [
    {
     "name": "stdout",
     "output_type": "stream",
     "text": [
      "Big data refers to data sets that are too large or complex to be dealt with by traditional data-processing application software. Data with many fields (rows) offer greater statistical power, while data with higher complexity (more attributes or columns) may lead to a higher false discovery rate. Big data analysis challenges include capturing data, data storage, data analysis, search, sharing, transfer, visualization, querying, updating, information privacy, and data source. Big data was originally associated with three key concepts: volume, variety, and velocity. The analysis of big data presents challenges in sampling, and thus previously allowing for only observations and sampling. Thus a fourth concept, veracity, refers to the quality or insightfulness of the data. Without sufficient investment in expertise for big data veracity, then the volume and variety of data can produce costs and risks that exceed an organization's capacity to create and capture value from big data.Current usage of the term big data tends to refer to the use of predictive analytics, user behavior analytics, or certain other advanced data analytics methods that extract value from big data, and seldom to a particular size of data set. \"There is little doubt that the quantities of data now available are indeed large, but that's not the most relevant characteristic of this new data ecosystem.\"\n",
      "Analysis of data sets can find new correlations to \"spot business trends, prevent diseases, combat crime and so on\". Scientists, business executives, medical practitioners, advertising and governments alike regularly meet difficulties with large data-sets in areas including Internet searches, fintech, healthcare analytics, geographic information systems, urban informatics, and business informatics. Scientists encounter limitations in e-Science work, including meteorology, genomics, connectomics, complex physics simulations, biology, and environmental research.The size and number of available data sets have grown rapidly as data is collected by devices such as mobile devices, cheap and numerous information-sensing Internet of things devices, aerial (remote sensing), software logs, cameras, microphones, radio-frequency identification (RFID) readers and wireless sensor networks. The world's technological per-capita capacity to store information has roughly doubled every 40 months since the 1980s; as of 2012, every day 2.5 exabytes (2.5×260 bytes) of data are generated. Based on an IDC report prediction, the global data volume was predicted to grow exponentially from 4.4 zettabytes to 44 zettabytes between 2013 and 2020. By 2025, IDC predicts there will be 163 zettabytes of data. According to IDC, global spending on big data and business analytics (BDA) solutions is estimated to reach $215.7 billion in 2021. While Statista report, the global big data market is forecasted to grow to $103 billion by 2027. In 2011 McKinsey & Company reported, if US healthcare were to use big data creatively and effectively to drive efficiency and quality, the sector could create more than $300 billion in value every year. In the developed economies of Europe, government administrators could save more than €100 billion ($149 billion) in operational efficiency improvements alone by using big data. And users of services enabled by personal-location data could capture $600 billion in consumer surplus. One question for large enterprises is determining who should own big-data initiatives that affect the entire organization.Relational database management systems and desktop statistical software packages used to visualize data often have difficulty processing and analyzing big data. The processing and analysis of big data may require \"massively parallel software running on tens, hundreds, or even thousands of servers\". What qualifies as \"big data\" varies depending on the capabilities of those analyzing it and their tools. Furthermore, expanding capabilities make big data a moving target. \"For some organizations, facing hundreds of gigabytes of data for the first time may trigger a need to reconsider data management options. For others, it may take tens or hundreds of terabytes before data size becomes a significant consideration.\"\n",
      "\n",
      "\n"
     ]
    }
   ],
   "source": [
    "# Nov 15 version of Big data Wiki summary:\n",
    "\n",
    "big_data_wiki_text = big_data_wiki_text[283:]\n",
    "print(big_data_wiki_text)"
   ]
  },
  {
   "cell_type": "code",
   "execution_count": null,
   "metadata": {},
   "outputs": [],
   "source": []
  },
  {
   "cell_type": "code",
   "execution_count": 5,
   "metadata": {},
   "outputs": [],
   "source": [
    "#model = SentenceTransformer('bert-base-nli-mean-tokens')\n",
    "model = SentenceTransformer('all-MiniLM-L6-v2')"
   ]
  },
  {
   "cell_type": "code",
   "execution_count": 6,
   "metadata": {},
   "outputs": [
    {
     "name": "stdout",
     "output_type": "stream",
     "text": [
      "(384,)\n"
     ]
    }
   ],
   "source": [
    "wiki_embed = model.encode(big_data_wiki_text)\n",
    "print(wiki_embed.shape)"
   ]
  },
  {
   "cell_type": "code",
   "execution_count": null,
   "metadata": {},
   "outputs": [],
   "source": []
  },
  {
   "cell_type": "code",
   "execution_count": null,
   "metadata": {},
   "outputs": [],
   "source": []
  },
  {
   "cell_type": "markdown",
   "metadata": {},
   "source": [
    "##### Read in Federal RePORTER abstracts and embed"
   ]
  },
  {
   "cell_type": "code",
   "execution_count": 7,
   "metadata": {},
   "outputs": [
    {
     "name": "stdout",
     "output_type": "stream",
     "text": [
      "(1143869, 30)\n"
     ]
    }
   ],
   "source": [
    "# pull in data\n",
    "df = pd.read_pickle(\"../../../../data/prd/Paper/FR_meta_and_final_tokens_23DEC21.pkl\")\n",
    "df.reset_index(inplace = True, drop = True)\n",
    "\n",
    "print(df.shape)"
   ]
  },
  {
   "cell_type": "code",
   "execution_count": 8,
   "metadata": {},
   "outputs": [
    {
     "data": {
      "text/html": [
       "<div>\n",
       "<style scoped>\n",
       "    .dataframe tbody tr th:only-of-type {\n",
       "        vertical-align: middle;\n",
       "    }\n",
       "\n",
       "    .dataframe tbody tr th {\n",
       "        vertical-align: top;\n",
       "    }\n",
       "\n",
       "    .dataframe thead th {\n",
       "        text-align: right;\n",
       "    }\n",
       "</style>\n",
       "<table border=\"1\" class=\"dataframe\">\n",
       "  <thead>\n",
       "    <tr style=\"text-align: right;\">\n",
       "      <th></th>\n",
       "      <th>PROJECT_ID</th>\n",
       "      <th>ABSTRACT</th>\n",
       "      <th>PROJECT_TERMS</th>\n",
       "      <th>PROJECT_TITLE</th>\n",
       "      <th>DEPARTMENT</th>\n",
       "      <th>AGENCY</th>\n",
       "      <th>IC_CENTER</th>\n",
       "      <th>PROJECT_NUMBER</th>\n",
       "      <th>PROJECT_START_DATE</th>\n",
       "      <th>PROJECT_END_DATE</th>\n",
       "      <th>...</th>\n",
       "      <th>BUDGET_END_DATE</th>\n",
       "      <th>CFDA_CODE</th>\n",
       "      <th>FY</th>\n",
       "      <th>FY_TOTAL_COST</th>\n",
       "      <th>FY_TOTAL_COST_SUB_PROJECTS</th>\n",
       "      <th>ORG_COUNT</th>\n",
       "      <th>PI_COUNT</th>\n",
       "      <th>FY_TOTAL_COST_SUM</th>\n",
       "      <th>NUM_RECORDS</th>\n",
       "      <th>final_tokens</th>\n",
       "    </tr>\n",
       "  </thead>\n",
       "  <tbody>\n",
       "    <tr>\n",
       "      <th>0</th>\n",
       "      <td>89996</td>\n",
       "      <td>This is a project to explore Game-based, Metap...</td>\n",
       "      <td>Achievement; analog; base; Cognitive Science; ...</td>\n",
       "      <td>RUI: CYGAMES: CYBER-ENABLED TEACHING AND LEARN...</td>\n",
       "      <td>NSF</td>\n",
       "      <td>NSF</td>\n",
       "      <td>NaN</td>\n",
       "      <td>0814512</td>\n",
       "      <td>9/15/2008</td>\n",
       "      <td>8/31/2012</td>\n",
       "      <td>...</td>\n",
       "      <td>NaN</td>\n",
       "      <td>47.076</td>\n",
       "      <td>2008</td>\n",
       "      <td>1999467.0</td>\n",
       "      <td>NaN</td>\n",
       "      <td>1</td>\n",
       "      <td>1</td>\n",
       "      <td>1999467.0</td>\n",
       "      <td>1</td>\n",
       "      <td>project explore game base metaphor enhanced ga...</td>\n",
       "    </tr>\n",
       "    <tr>\n",
       "      <th>1</th>\n",
       "      <td>89997</td>\n",
       "      <td>Institution: Franklin Institute Science Museum...</td>\n",
       "      <td>Active Learning; Child; Computer software; des...</td>\n",
       "      <td>ARIEL - AUGMENTED REALITY FOR INTERPRETIVE AND...</td>\n",
       "      <td>NSF</td>\n",
       "      <td>NSF</td>\n",
       "      <td>NaN</td>\n",
       "      <td>0741659</td>\n",
       "      <td>9/15/2008</td>\n",
       "      <td>8/31/2012</td>\n",
       "      <td>...</td>\n",
       "      <td>NaN</td>\n",
       "      <td>47.076</td>\n",
       "      <td>2008</td>\n",
       "      <td>1799699.0</td>\n",
       "      <td>NaN</td>\n",
       "      <td>1</td>\n",
       "      <td>1</td>\n",
       "      <td>1799699.0</td>\n",
       "      <td>1</td>\n",
       "      <td>institution franklin institute science museum ...</td>\n",
       "    </tr>\n",
       "    <tr>\n",
       "      <th>2</th>\n",
       "      <td>89998</td>\n",
       "      <td>Through programs (including small group conver...</td>\n",
       "      <td>Address; Age; Birth; Brain; Caregivers; Child;...</td>\n",
       "      <td>BRIGHTER FUTURES: PUBLIC DELIBERATION ABOUT TH...</td>\n",
       "      <td>NSF</td>\n",
       "      <td>NSF</td>\n",
       "      <td>NaN</td>\n",
       "      <td>0813522</td>\n",
       "      <td>9/15/2008</td>\n",
       "      <td>8/31/2011</td>\n",
       "      <td>...</td>\n",
       "      <td>NaN</td>\n",
       "      <td>47.076</td>\n",
       "      <td>2008</td>\n",
       "      <td>1505858.0</td>\n",
       "      <td>NaN</td>\n",
       "      <td>1</td>\n",
       "      <td>1</td>\n",
       "      <td>1505858.0</td>\n",
       "      <td>1</td>\n",
       "      <td>program include small group conversation citiz...</td>\n",
       "    </tr>\n",
       "    <tr>\n",
       "      <th>3</th>\n",
       "      <td>89999</td>\n",
       "      <td>In partnership with the American Chemical Soci...</td>\n",
       "      <td>Advanced Development; American; Chemicals; Che...</td>\n",
       "      <td>FOSTERING US-INTERNATIONAL COLLABORATIVE PARTN...</td>\n",
       "      <td>NSF</td>\n",
       "      <td>NSF</td>\n",
       "      <td>NaN</td>\n",
       "      <td>0838627</td>\n",
       "      <td>8/1/2008</td>\n",
       "      <td>12/31/2010</td>\n",
       "      <td>...</td>\n",
       "      <td>NaN</td>\n",
       "      <td>47.049</td>\n",
       "      <td>2008</td>\n",
       "      <td>51000.0</td>\n",
       "      <td>NaN</td>\n",
       "      <td>1</td>\n",
       "      <td>1</td>\n",
       "      <td>51000.0</td>\n",
       "      <td>1</td>\n",
       "      <td>partnership american chemical society acs nati...</td>\n",
       "    </tr>\n",
       "    <tr>\n",
       "      <th>4</th>\n",
       "      <td>90001</td>\n",
       "      <td>The Center for Molecular Interfacing (CMI) wil...</td>\n",
       "      <td>Address; Architecture; Carbon Nanotubes; Catal...</td>\n",
       "      <td>CCI PHASE I: CENTER FOR MOLECULAR INTERFACING</td>\n",
       "      <td>NSF</td>\n",
       "      <td>NSF</td>\n",
       "      <td>NaN</td>\n",
       "      <td>0847926</td>\n",
       "      <td>10/1/2008</td>\n",
       "      <td>9/30/2011</td>\n",
       "      <td>...</td>\n",
       "      <td>NaN</td>\n",
       "      <td>47.049</td>\n",
       "      <td>2008</td>\n",
       "      <td>1519821.0</td>\n",
       "      <td>NaN</td>\n",
       "      <td>1</td>\n",
       "      <td>1</td>\n",
       "      <td>1519821.0</td>\n",
       "      <td>1</td>\n",
       "      <td>center molecular interfacing cmi enable integr...</td>\n",
       "    </tr>\n",
       "  </tbody>\n",
       "</table>\n",
       "<p>5 rows × 30 columns</p>\n",
       "</div>"
      ],
      "text/plain": [
       "  PROJECT_ID                                           ABSTRACT  \\\n",
       "0      89996  This is a project to explore Game-based, Metap...   \n",
       "1      89997  Institution: Franklin Institute Science Museum...   \n",
       "2      89998  Through programs (including small group conver...   \n",
       "3      89999  In partnership with the American Chemical Soci...   \n",
       "4      90001  The Center for Molecular Interfacing (CMI) wil...   \n",
       "\n",
       "                                       PROJECT_TERMS  \\\n",
       "0  Achievement; analog; base; Cognitive Science; ...   \n",
       "1  Active Learning; Child; Computer software; des...   \n",
       "2  Address; Age; Birth; Brain; Caregivers; Child;...   \n",
       "3  Advanced Development; American; Chemicals; Che...   \n",
       "4  Address; Architecture; Carbon Nanotubes; Catal...   \n",
       "\n",
       "                                       PROJECT_TITLE DEPARTMENT AGENCY  \\\n",
       "0  RUI: CYGAMES: CYBER-ENABLED TEACHING AND LEARN...        NSF    NSF   \n",
       "1  ARIEL - AUGMENTED REALITY FOR INTERPRETIVE AND...        NSF    NSF   \n",
       "2  BRIGHTER FUTURES: PUBLIC DELIBERATION ABOUT TH...        NSF    NSF   \n",
       "3  FOSTERING US-INTERNATIONAL COLLABORATIVE PARTN...        NSF    NSF   \n",
       "4      CCI PHASE I: CENTER FOR MOLECULAR INTERFACING        NSF    NSF   \n",
       "\n",
       "  IC_CENTER PROJECT_NUMBER PROJECT_START_DATE PROJECT_END_DATE  ...  \\\n",
       "0       NaN        0814512          9/15/2008        8/31/2012  ...   \n",
       "1       NaN        0741659          9/15/2008        8/31/2012  ...   \n",
       "2       NaN        0813522          9/15/2008        8/31/2011  ...   \n",
       "3       NaN        0838627           8/1/2008       12/31/2010  ...   \n",
       "4       NaN        0847926          10/1/2008        9/30/2011  ...   \n",
       "\n",
       "  BUDGET_END_DATE CFDA_CODE    FY FY_TOTAL_COST FY_TOTAL_COST_SUB_PROJECTS  \\\n",
       "0             NaN    47.076  2008     1999467.0                        NaN   \n",
       "1             NaN    47.076  2008     1799699.0                        NaN   \n",
       "2             NaN    47.076  2008     1505858.0                        NaN   \n",
       "3             NaN    47.049  2008       51000.0                        NaN   \n",
       "4             NaN    47.049  2008     1519821.0                        NaN   \n",
       "\n",
       "  ORG_COUNT PI_COUNT FY_TOTAL_COST_SUM NUM_RECORDS  \\\n",
       "0         1        1         1999467.0           1   \n",
       "1         1        1         1799699.0           1   \n",
       "2         1        1         1505858.0           1   \n",
       "3         1        1           51000.0           1   \n",
       "4         1        1         1519821.0           1   \n",
       "\n",
       "                                        final_tokens  \n",
       "0  project explore game base metaphor enhanced ga...  \n",
       "1  institution franklin institute science museum ...  \n",
       "2  program include small group conversation citiz...  \n",
       "3  partnership american chemical society acs nati...  \n",
       "4  center molecular interfacing cmi enable integr...  \n",
       "\n",
       "[5 rows x 30 columns]"
      ]
     },
     "execution_count": 8,
     "metadata": {},
     "output_type": "execute_result"
    }
   ],
   "source": [
    "df.head()"
   ]
  },
  {
   "cell_type": "code",
   "execution_count": null,
   "metadata": {},
   "outputs": [],
   "source": []
  },
  {
   "cell_type": "code",
   "execution_count": 9,
   "metadata": {},
   "outputs": [],
   "source": [
    "#abstract_embeddings = model.encode(df['ABSTRACT'])\n",
    "#print(abstract_embeddings.shape)\n",
    "\n",
    "# Kristian saved these"
   ]
  },
  {
   "cell_type": "code",
   "execution_count": null,
   "metadata": {},
   "outputs": [],
   "source": []
  },
  {
   "cell_type": "markdown",
   "metadata": {},
   "source": [
    "##### Read in computed BERT embeddings"
   ]
  },
  {
   "cell_type": "code",
   "execution_count": 9,
   "metadata": {},
   "outputs": [],
   "source": [
    "# load BERT embeddings\n",
    "vector = pd.read_csv('../../../../data/prd/Doc2Vec/bert_final.csv')    "
   ]
  },
  {
   "cell_type": "code",
   "execution_count": 10,
   "metadata": {},
   "outputs": [
    {
     "data": {
      "text/plain": [
       "(1143869, 384)"
      ]
     },
     "execution_count": 10,
     "metadata": {},
     "output_type": "execute_result"
    }
   ],
   "source": [
    "vector.shape"
   ]
  },
  {
   "cell_type": "markdown",
   "metadata": {},
   "source": [
    "##### Calculate similarity between Big Data Wiki summary and abstracts"
   ]
  },
  {
   "cell_type": "code",
   "execution_count": 11,
   "metadata": {},
   "outputs": [],
   "source": [
    "scores = cosine_similarity(\n",
    "    [wiki_embed],\n",
    "    vector\n",
    ")\n",
    "#print(scores)"
   ]
  },
  {
   "cell_type": "code",
   "execution_count": 12,
   "metadata": {},
   "outputs": [
    {
     "data": {
      "text/plain": [
       "numpy.ndarray"
      ]
     },
     "execution_count": 12,
     "metadata": {},
     "output_type": "execute_result"
    }
   ],
   "source": [
    "type(scores)"
   ]
  },
  {
   "cell_type": "code",
   "execution_count": 13,
   "metadata": {},
   "outputs": [
    {
     "data": {
      "text/plain": [
       "0.6762190895012082"
      ]
     },
     "execution_count": 13,
     "metadata": {},
     "output_type": "execute_result"
    }
   ],
   "source": [
    "scores.max()"
   ]
  },
  {
   "cell_type": "code",
   "execution_count": 14,
   "metadata": {},
   "outputs": [
    {
     "data": {
      "text/plain": [
       "540921"
      ]
     },
     "execution_count": 14,
     "metadata": {},
     "output_type": "execute_result"
    }
   ],
   "source": [
    "np.argmax(scores)"
   ]
  },
  {
   "cell_type": "code",
   "execution_count": 15,
   "metadata": {},
   "outputs": [
    {
     "data": {
      "text/plain": [
       "\"DESCRIPTION (provided by applicant): As technology continues to advance, our ability to collect data on nearly every aspect of our lives has improved exponentially. While amassing large amounts of data has become easier, the question of how that data can be used is still being determined. The hope is that the vast volume of data, often referred to as  big data,  can be analyzed and mined to help solve major problems in healthcare and in business. Yet most of the discussions about big data focus on what it holds for the future, and not about how big data is influencing decision-makers today. With conversations about big data generally addressing its future uses, many fundamental questions are going unanswered. The goal of this year's conference, titled  How are Decision Makers Using Big and Small Data Now? , is to define what big data is and what it means to various stakeholders in healthcare by taking status of how decision-makers are using big data now. Conference attendees will gain a greater understanding of how big data is being utilized today by public and private health systems, major employers, providers, insurers, and consumers. Each conference speaker will present the evidence on how his or her organization is using (or not using) big data and will explain what their experiences have been thus far. The focus on big data as part of health IT is of great interest to the Agency for Healthcare Research & Quality and this conference will be addressing key areas of strategic importance to AHRQ. AHRQ's health information technology (health IT) initiative was created to  put information technology to work  in health care and has funded contracts and grants to see how health IT can improve the quality and safety of patient-centered healthcare. This conference will address topics that relate to AHRQ-funded projects, including how big data and health IT are impacting quality measures and how EHRs can be used for effective clinical decision support. We have established collaborations for this conference with public and private organizations that have an important stake, or can be an important resource, for addressing our themes. Veterans Health Administration, the University of Pennsylvania, and Kaiser Permanente have agreed to play lead roles in this conference. Health Affairs, another co-sponsor, is planning a themed issue to coordinate with the conference. This conference, as like those in past years, will have an in-person audience that we estimate will be between 300 to 500 with additional participants following the proceedings over the Web in real-time. The conference's themes and its emphasis on examining the evidence make it one of great value and importance to the current healthcare climate and to AHRQ and its on-going initiatives.\""
      ]
     },
     "execution_count": 15,
     "metadata": {},
     "output_type": "execute_result"
    }
   ],
   "source": [
    "df['ABSTRACT'][540921]"
   ]
  },
  {
   "cell_type": "code",
   "execution_count": 16,
   "metadata": {},
   "outputs": [
    {
     "data": {
      "text/plain": [
       "-0.2028002339350856"
      ]
     },
     "execution_count": 16,
     "metadata": {},
     "output_type": "execute_result"
    }
   ],
   "source": [
    "scores.min()"
   ]
  },
  {
   "cell_type": "code",
   "execution_count": 17,
   "metadata": {},
   "outputs": [
    {
     "data": {
      "text/plain": [
       "708525"
      ]
     },
     "execution_count": 17,
     "metadata": {},
     "output_type": "execute_result"
    }
   ],
   "source": [
    "np.argmin(scores)"
   ]
  },
  {
   "cell_type": "code",
   "execution_count": 18,
   "metadata": {},
   "outputs": [
    {
     "data": {
      "text/plain": [
       "'&lt;!-- /* Font Definitions */@font-face{panose-1:0 0 0 0 0 0 0 0 0 0;mso-font-charset:128;mso-generic-mso-font-format:other;mso-font-pitch:fixed;mso-font-signature:1 134676480 16 0 131072 0;}@font-face{panose-1:2 4 5 3 5 4 6 3 2 4;mso-font-charset:0;mso-generic-mso-font-pitch:variable;mso-font-signature:3 0 0 0 1 0;}@font-face{panose-1:2 4 5 3 5 4 6 3 2 4;mso-font-charset:0;mso-generic-mso-font-pitch:variable;mso-font-signature:3 0 0 0 1 0;} /* Style Definitions */p.MsoNormal, li.MsoNormal, div.MsoNormal{mso-style-unhide:no;mso-style-qformat:yes;mso-style-parent:  ;margin:0in;margin-bottom:.0001pt;mso-pagination:widow-orphan;;mso-ascii-mso-ascii-theme-font:minor-latin;mso-fareast-mso-fareast-theme-font:minor-fareast;mso-hansi-mso-hansi-theme-font:minor-latin;mso-bidi-mso-bidi-theme-font:minor-bidi;}.MsoChpDefault{mso-style-type:export-only;mso-default-props:yes;mso-ascii-mso-ascii-theme-font:minor-latin;mso-fareast-mso-fareast-theme-font:minor-fareast;mso-hansi-mso-hansi-theme-font:minor-latin;mso-bidi-mso-bidi-theme-font:minor-bidi;}@page WordSection1{size:8.5in 11.0in;margin:1.0in 1.25in 1.0in 1.25in;mso-header-margin:.5in;mso-footer-margin:.5in;mso-paper-source:0;}div.WordSection1{page:WordSection1;}-->Problem: Calves rely on colostrum ingestion (passive immunity) as a foundation for their immune system because minimal maternal antibodies are transferred transplacentally during pregnancy from the cow to the calf. Failure of passive immunity (FPI) negatively impacts both lifelong health and production of dairy cows, which is problematic for producers. Approved medications (for instance, antibiotics) for the management of common calf hood disease conditions such as diarrhea and respiratory disease can be administered in dairy calves raised on conventional dairies. Organically raised calves that are administered with therapeutic doses of antibiotics permanently lose their organic status; thus organic dairies are less likely to use conventional therapy in order to retain their organic status certification. Conventional dairies are more likely to have more frequent veterinary visits while organic dairies often rely on holistic methods of treatment in place of conventional therapy. As a result of the profound negative effect of FPI in dairy calves, combined with prohibited use of conventional therapeutics, colostrum feeding practices on organic dairies are crucial management procedures for prevention of calf neonatal diseases. The prevalence of FPI in heifer dairy calves raised on conventional dairies in the US is estimated at 19.2 %. To the authors&#39; knowledge, little information is currently available regarding colostral feeding practices on organic dairies in California. We anticipate that there are major differences in colostrum feeding management practices between conventional and organic dairies. Consequently, morbidity and mortality attributable to FPI will be different between calves raised on conventional and organic dairies. Information regarding FPI on organic dairies will help producers improve calf health and management.Justification: Currently, information on FPI in organic dairies in California is unknown. The results of the proposed study will provide educational information regarding prevalence of FPI and the associated colostral management practices to organic dairy producers and veterinarians. The information will form a foundation for future research proposals and educational outreach programs, germane to stakeholder needs, benefitting the organic dairy industry. Data collectionBlood samples to determine the passive transfer status of calves will be collected from several farms in different counties. At the same time information regarding colostrum feeding practices on the farms will be collected through farm visit interviews. Analysis of proteins (immunoglobulin will be performed). The percentage of calves that did not receive sufficient colostrum will be calculated. Colostrum feeding practices on organic dairies will be determinedUse of the dataThe data collected will be used to provide recommendation regarding optimum colostrum feeding practices on organic dairies.'"
      ]
     },
     "execution_count": 18,
     "metadata": {},
     "output_type": "execute_result"
    }
   ],
   "source": [
    "df['ABSTRACT'][708525]"
   ]
  },
  {
   "cell_type": "code",
   "execution_count": null,
   "metadata": {},
   "outputs": [],
   "source": []
  },
  {
   "cell_type": "code",
   "execution_count": 19,
   "metadata": {},
   "outputs": [
    {
     "data": {
      "text/plain": [
       "(1, 1143869)"
      ]
     },
     "execution_count": 19,
     "metadata": {},
     "output_type": "execute_result"
    }
   ],
   "source": [
    "scores.shape"
   ]
  },
  {
   "cell_type": "code",
   "execution_count": 20,
   "metadata": {},
   "outputs": [
    {
     "data": {
      "text/plain": [
       "(1143869,)"
      ]
     },
     "execution_count": 20,
     "metadata": {},
     "output_type": "execute_result"
    }
   ],
   "source": [
    "scores[0].shape"
   ]
  },
  {
   "cell_type": "code",
   "execution_count": 21,
   "metadata": {},
   "outputs": [
    {
     "data": {
      "text/plain": [
       "array([ 0.1158897 ,  0.11239832,  0.07516901,  0.00435888, -0.00693279,\n",
       "        0.10332922,  0.12685726,  0.08216588,  0.08385753,  0.20399945])"
      ]
     },
     "execution_count": 21,
     "metadata": {},
     "output_type": "execute_result"
    }
   ],
   "source": [
    "scores[0][0:10]"
   ]
  },
  {
   "cell_type": "code",
   "execution_count": 22,
   "metadata": {},
   "outputs": [
    {
     "data": {
      "text/plain": [
       "Text(0, 0.5, 'Number of Abstracts')"
      ]
     },
     "execution_count": 22,
     "metadata": {},
     "output_type": "execute_result"
    },
    {
     "data": {
      "image/png": "[encoded data removed]",
      "text/plain": [
       "<Figure size 640x480 with 1 Axes>"
      ]
     },
     "metadata": {},
     "output_type": "display_data"
    }
   ],
   "source": [
    "sns.set(font_scale=1.4)\n",
    "fig, ax = plt.subplots()\n",
    "plt.hist(scores[0], bins=30)\n",
    "ax.yaxis.set_major_formatter(StrMethodFormatter('{x:,.0f}'))\n",
    "\n",
    "plt.title('Cosine Similarity between Abstracts and Big Data Wiki')\n",
    "plt.xlabel('Cosine Similarity Score')\n",
    "plt.ylabel('Number of Abstracts')\n",
    "\n",
    "#plt.savefig('figures/wiki_sim.png', bbox_inches='tight')"
   ]
  },
  {
   "cell_type": "code",
   "execution_count": 23,
   "metadata": {},
   "outputs": [
    {
     "data": {
      "text/html": [
       "<div>\n",
       "<style scoped>\n",
       "    .dataframe tbody tr th:only-of-type {\n",
       "        vertical-align: middle;\n",
       "    }\n",
       "\n",
       "    .dataframe tbody tr th {\n",
       "        vertical-align: top;\n",
       "    }\n",
       "\n",
       "    .dataframe thead th {\n",
       "        text-align: right;\n",
       "    }\n",
       "</style>\n",
       "<table border=\"1\" class=\"dataframe\">\n",
       "  <thead>\n",
       "    <tr style=\"text-align: right;\">\n",
       "      <th></th>\n",
       "      <th>0</th>\n",
       "    </tr>\n",
       "  </thead>\n",
       "  <tbody>\n",
       "    <tr>\n",
       "      <th>count</th>\n",
       "      <td>1.143869e+06</td>\n",
       "    </tr>\n",
       "    <tr>\n",
       "      <th>mean</th>\n",
       "      <td>5.597372e-02</td>\n",
       "    </tr>\n",
       "    <tr>\n",
       "      <th>std</th>\n",
       "      <td>7.344299e-02</td>\n",
       "    </tr>\n",
       "    <tr>\n",
       "      <th>min</th>\n",
       "      <td>-2.028002e-01</td>\n",
       "    </tr>\n",
       "    <tr>\n",
       "      <th>25%</th>\n",
       "      <td>6.107218e-03</td>\n",
       "    </tr>\n",
       "    <tr>\n",
       "      <th>50%</th>\n",
       "      <td>5.014612e-02</td>\n",
       "    </tr>\n",
       "    <tr>\n",
       "      <th>75%</th>\n",
       "      <td>9.761767e-02</td>\n",
       "    </tr>\n",
       "    <tr>\n",
       "      <th>max</th>\n",
       "      <td>6.762191e-01</td>\n",
       "    </tr>\n",
       "  </tbody>\n",
       "</table>\n",
       "</div>"
      ],
      "text/plain": [
       "                  0\n",
       "count  1.143869e+06\n",
       "mean   5.597372e-02\n",
       "std    7.344299e-02\n",
       "min   -2.028002e-01\n",
       "25%    6.107218e-03\n",
       "50%    5.014612e-02\n",
       "75%    9.761767e-02\n",
       "max    6.762191e-01"
      ]
     },
     "execution_count": 23,
     "metadata": {},
     "output_type": "execute_result"
    }
   ],
   "source": [
    "scores_df = pd.DataFrame(scores[0])\n",
    "scores_df.describe()"
   ]
  },
  {
   "cell_type": "code",
   "execution_count": 24,
   "metadata": {},
   "outputs": [
    {
     "data": {
      "text/plain": [
       "0.4085942889627746"
      ]
     },
     "execution_count": 24,
     "metadata": {},
     "output_type": "execute_result"
    }
   ],
   "source": [
    "np.percentile(scores[0], 99.9)"
   ]
  },
  {
   "cell_type": "code",
   "execution_count": 25,
   "metadata": {},
   "outputs": [],
   "source": [
    "df['wiki_scores'] = scores[0]"
   ]
  },
  {
   "cell_type": "code",
   "execution_count": 26,
   "metadata": {},
   "outputs": [
    {
     "data": {
      "text/html": [
       "<div>\n",
       "<style scoped>\n",
       "    .dataframe tbody tr th:only-of-type {\n",
       "        vertical-align: middle;\n",
       "    }\n",
       "\n",
       "    .dataframe tbody tr th {\n",
       "        vertical-align: top;\n",
       "    }\n",
       "\n",
       "    .dataframe thead th {\n",
       "        text-align: right;\n",
       "    }\n",
       "</style>\n",
       "<table border=\"1\" class=\"dataframe\">\n",
       "  <thead>\n",
       "    <tr style=\"text-align: right;\">\n",
       "      <th></th>\n",
       "      <th>PROJECT_ID</th>\n",
       "      <th>ABSTRACT</th>\n",
       "      <th>PROJECT_TERMS</th>\n",
       "      <th>PROJECT_TITLE</th>\n",
       "      <th>DEPARTMENT</th>\n",
       "      <th>AGENCY</th>\n",
       "      <th>IC_CENTER</th>\n",
       "      <th>PROJECT_NUMBER</th>\n",
       "      <th>PROJECT_START_DATE</th>\n",
       "      <th>PROJECT_END_DATE</th>\n",
       "      <th>...</th>\n",
       "      <th>CFDA_CODE</th>\n",
       "      <th>FY</th>\n",
       "      <th>FY_TOTAL_COST</th>\n",
       "      <th>FY_TOTAL_COST_SUB_PROJECTS</th>\n",
       "      <th>ORG_COUNT</th>\n",
       "      <th>PI_COUNT</th>\n",
       "      <th>FY_TOTAL_COST_SUM</th>\n",
       "      <th>NUM_RECORDS</th>\n",
       "      <th>final_tokens</th>\n",
       "      <th>wiki_scores</th>\n",
       "    </tr>\n",
       "  </thead>\n",
       "  <tbody>\n",
       "    <tr>\n",
       "      <th>0</th>\n",
       "      <td>89996</td>\n",
       "      <td>This is a project to explore Game-based, Metap...</td>\n",
       "      <td>Achievement; analog; base; Cognitive Science; ...</td>\n",
       "      <td>RUI: CYGAMES: CYBER-ENABLED TEACHING AND LEARN...</td>\n",
       "      <td>NSF</td>\n",
       "      <td>NSF</td>\n",
       "      <td>NaN</td>\n",
       "      <td>0814512</td>\n",
       "      <td>9/15/2008</td>\n",
       "      <td>8/31/2012</td>\n",
       "      <td>...</td>\n",
       "      <td>47.076</td>\n",
       "      <td>2008</td>\n",
       "      <td>1999467.0</td>\n",
       "      <td>NaN</td>\n",
       "      <td>1</td>\n",
       "      <td>1</td>\n",
       "      <td>1999467.0</td>\n",
       "      <td>1</td>\n",
       "      <td>project explore game base metaphor enhanced ga...</td>\n",
       "      <td>0.115890</td>\n",
       "    </tr>\n",
       "    <tr>\n",
       "      <th>1</th>\n",
       "      <td>89997</td>\n",
       "      <td>Institution: Franklin Institute Science Museum...</td>\n",
       "      <td>Active Learning; Child; Computer software; des...</td>\n",
       "      <td>ARIEL - AUGMENTED REALITY FOR INTERPRETIVE AND...</td>\n",
       "      <td>NSF</td>\n",
       "      <td>NSF</td>\n",
       "      <td>NaN</td>\n",
       "      <td>0741659</td>\n",
       "      <td>9/15/2008</td>\n",
       "      <td>8/31/2012</td>\n",
       "      <td>...</td>\n",
       "      <td>47.076</td>\n",
       "      <td>2008</td>\n",
       "      <td>1799699.0</td>\n",
       "      <td>NaN</td>\n",
       "      <td>1</td>\n",
       "      <td>1</td>\n",
       "      <td>1799699.0</td>\n",
       "      <td>1</td>\n",
       "      <td>institution franklin institute science museum ...</td>\n",
       "      <td>0.112398</td>\n",
       "    </tr>\n",
       "    <tr>\n",
       "      <th>2</th>\n",
       "      <td>89998</td>\n",
       "      <td>Through programs (including small group conver...</td>\n",
       "      <td>Address; Age; Birth; Brain; Caregivers; Child;...</td>\n",
       "      <td>BRIGHTER FUTURES: PUBLIC DELIBERATION ABOUT TH...</td>\n",
       "      <td>NSF</td>\n",
       "      <td>NSF</td>\n",
       "      <td>NaN</td>\n",
       "      <td>0813522</td>\n",
       "      <td>9/15/2008</td>\n",
       "      <td>8/31/2011</td>\n",
       "      <td>...</td>\n",
       "      <td>47.076</td>\n",
       "      <td>2008</td>\n",
       "      <td>1505858.0</td>\n",
       "      <td>NaN</td>\n",
       "      <td>1</td>\n",
       "      <td>1</td>\n",
       "      <td>1505858.0</td>\n",
       "      <td>1</td>\n",
       "      <td>program include small group conversation citiz...</td>\n",
       "      <td>0.075169</td>\n",
       "    </tr>\n",
       "    <tr>\n",
       "      <th>3</th>\n",
       "      <td>89999</td>\n",
       "      <td>In partnership with the American Chemical Soci...</td>\n",
       "      <td>Advanced Development; American; Chemicals; Che...</td>\n",
       "      <td>FOSTERING US-INTERNATIONAL COLLABORATIVE PARTN...</td>\n",
       "      <td>NSF</td>\n",
       "      <td>NSF</td>\n",
       "      <td>NaN</td>\n",
       "      <td>0838627</td>\n",
       "      <td>8/1/2008</td>\n",
       "      <td>12/31/2010</td>\n",
       "      <td>...</td>\n",
       "      <td>47.049</td>\n",
       "      <td>2008</td>\n",
       "      <td>51000.0</td>\n",
       "      <td>NaN</td>\n",
       "      <td>1</td>\n",
       "      <td>1</td>\n",
       "      <td>51000.0</td>\n",
       "      <td>1</td>\n",
       "      <td>partnership american chemical society acs nati...</td>\n",
       "      <td>0.004359</td>\n",
       "    </tr>\n",
       "    <tr>\n",
       "      <th>4</th>\n",
       "      <td>90001</td>\n",
       "      <td>The Center for Molecular Interfacing (CMI) wil...</td>\n",
       "      <td>Address; Architecture; Carbon Nanotubes; Catal...</td>\n",
       "      <td>CCI PHASE I: CENTER FOR MOLECULAR INTERFACING</td>\n",
       "      <td>NSF</td>\n",
       "      <td>NSF</td>\n",
       "      <td>NaN</td>\n",
       "      <td>0847926</td>\n",
       "      <td>10/1/2008</td>\n",
       "      <td>9/30/2011</td>\n",
       "      <td>...</td>\n",
       "      <td>47.049</td>\n",
       "      <td>2008</td>\n",
       "      <td>1519821.0</td>\n",
       "      <td>NaN</td>\n",
       "      <td>1</td>\n",
       "      <td>1</td>\n",
       "      <td>1519821.0</td>\n",
       "      <td>1</td>\n",
       "      <td>center molecular interfacing cmi enable integr...</td>\n",
       "      <td>-0.006933</td>\n",
       "    </tr>\n",
       "  </tbody>\n",
       "</table>\n",
       "<p>5 rows × 31 columns</p>\n",
       "</div>"
      ],
      "text/plain": [
       "  PROJECT_ID                                           ABSTRACT  \\\n",
       "0      89996  This is a project to explore Game-based, Metap...   \n",
       "1      89997  Institution: Franklin Institute Science Museum...   \n",
       "2      89998  Through programs (including small group conver...   \n",
       "3      89999  In partnership with the American Chemical Soci...   \n",
       "4      90001  The Center for Molecular Interfacing (CMI) wil...   \n",
       "\n",
       "                                       PROJECT_TERMS  \\\n",
       "0  Achievement; analog; base; Cognitive Science; ...   \n",
       "1  Active Learning; Child; Computer software; des...   \n",
       "2  Address; Age; Birth; Brain; Caregivers; Child;...   \n",
       "3  Advanced Development; American; Chemicals; Che...   \n",
       "4  Address; Architecture; Carbon Nanotubes; Catal...   \n",
       "\n",
       "                                       PROJECT_TITLE DEPARTMENT AGENCY  \\\n",
       "0  RUI: CYGAMES: CYBER-ENABLED TEACHING AND LEARN...        NSF    NSF   \n",
       "1  ARIEL - AUGMENTED REALITY FOR INTERPRETIVE AND...        NSF    NSF   \n",
       "2  BRIGHTER FUTURES: PUBLIC DELIBERATION ABOUT TH...        NSF    NSF   \n",
       "3  FOSTERING US-INTERNATIONAL COLLABORATIVE PARTN...        NSF    NSF   \n",
       "4      CCI PHASE I: CENTER FOR MOLECULAR INTERFACING        NSF    NSF   \n",
       "\n",
       "  IC_CENTER PROJECT_NUMBER PROJECT_START_DATE PROJECT_END_DATE  ... CFDA_CODE  \\\n",
       "0       NaN        0814512          9/15/2008        8/31/2012  ...    47.076   \n",
       "1       NaN        0741659          9/15/2008        8/31/2012  ...    47.076   \n",
       "2       NaN        0813522          9/15/2008        8/31/2011  ...    47.076   \n",
       "3       NaN        0838627           8/1/2008       12/31/2010  ...    47.049   \n",
       "4       NaN        0847926          10/1/2008        9/30/2011  ...    47.049   \n",
       "\n",
       "     FY FY_TOTAL_COST FY_TOTAL_COST_SUB_PROJECTS ORG_COUNT PI_COUNT  \\\n",
       "0  2008     1999467.0                        NaN         1        1   \n",
       "1  2008     1799699.0                        NaN         1        1   \n",
       "2  2008     1505858.0                        NaN         1        1   \n",
       "3  2008       51000.0                        NaN         1        1   \n",
       "4  2008     1519821.0                        NaN         1        1   \n",
       "\n",
       "  FY_TOTAL_COST_SUM NUM_RECORDS  \\\n",
       "0         1999467.0           1   \n",
       "1         1799699.0           1   \n",
       "2         1505858.0           1   \n",
       "3           51000.0           1   \n",
       "4         1519821.0           1   \n",
       "\n",
       "                                        final_tokens wiki_scores  \n",
       "0  project explore game base metaphor enhanced ga...    0.115890  \n",
       "1  institution franklin institute science museum ...    0.112398  \n",
       "2  program include small group conversation citiz...    0.075169  \n",
       "3  partnership american chemical society acs nati...    0.004359  \n",
       "4  center molecular interfacing cmi enable integr...   -0.006933  \n",
       "\n",
       "[5 rows x 31 columns]"
      ]
     },
     "execution_count": 26,
     "metadata": {},
     "output_type": "execute_result"
    }
   ],
   "source": [
    "df.head()"
   ]
  },
  {
   "cell_type": "code",
   "execution_count": 27,
   "metadata": {},
   "outputs": [],
   "source": [
    "df[\"big_data_cnt\"] = 0"
   ]
  },
  {
   "cell_type": "code",
   "execution_count": 28,
   "metadata": {},
   "outputs": [
    {
     "data": {
      "text/plain": [
       "(1143869, 32)"
      ]
     },
     "execution_count": 28,
     "metadata": {},
     "output_type": "execute_result"
    }
   ],
   "source": [
    "df.shape"
   ]
  },
  {
   "cell_type": "code",
   "execution_count": null,
   "metadata": {},
   "outputs": [],
   "source": []
  },
  {
   "cell_type": "code",
   "execution_count": 29,
   "metadata": {},
   "outputs": [],
   "source": [
    "for idx, abstract in enumerate(df['ABSTRACT']):\n",
    "    abstract_lowercase = abstract.lower()\n",
    "    if \"big data\" in abstract_lowercase or \"big-data\" in abstract_lowercase:\n",
    "        df.iloc[idx, 31] = abstract_lowercase.count(\"big data\") + abstract_lowercase.count(\"big-data\")"
   ]
  },
  {
   "cell_type": "code",
   "execution_count": 30,
   "metadata": {},
   "outputs": [
    {
     "data": {
      "text/plain": [
       "8503"
      ]
     },
     "execution_count": 30,
     "metadata": {},
     "output_type": "execute_result"
    }
   ],
   "source": [
    "sum(df[\"big_data_cnt\"])"
   ]
  },
  {
   "cell_type": "code",
   "execution_count": 31,
   "metadata": {},
   "outputs": [
    {
     "data": {
      "text/plain": [
       "4628"
      ]
     },
     "execution_count": 31,
     "metadata": {},
     "output_type": "execute_result"
    }
   ],
   "source": [
    "sum(df[\"big_data_cnt\"] != 0)"
   ]
  },
  {
   "cell_type": "code",
   "execution_count": null,
   "metadata": {},
   "outputs": [],
   "source": []
  },
  {
   "cell_type": "code",
   "execution_count": null,
   "metadata": {},
   "outputs": [],
   "source": []
  },
  {
   "cell_type": "markdown",
   "metadata": {},
   "source": [
    "### Investigate score threshold using labelled data"
   ]
  },
  {
   "cell_type": "code",
   "execution_count": 32,
   "metadata": {},
   "outputs": [
    {
     "name": "stdout",
     "output_type": "stream",
     "text": [
      "(1600, 8)\n"
     ]
    },
    {
     "data": {
      "text/html": [
       "<div>\n",
       "<style scoped>\n",
       "    .dataframe tbody tr th:only-of-type {\n",
       "        vertical-align: middle;\n",
       "    }\n",
       "\n",
       "    .dataframe tbody tr th {\n",
       "        vertical-align: top;\n",
       "    }\n",
       "\n",
       "    .dataframe thead th {\n",
       "        text-align: right;\n",
       "    }\n",
       "</style>\n",
       "<table border=\"1\" class=\"dataframe\">\n",
       "  <thead>\n",
       "    <tr style=\"text-align: right;\">\n",
       "      <th></th>\n",
       "      <th>Unnamed: 0</th>\n",
       "      <th>Duplicates</th>\n",
       "      <th>index</th>\n",
       "      <th>PROJECT_ID</th>\n",
       "      <th>ABSTRACT</th>\n",
       "      <th>Is it related to Big-Data</th>\n",
       "      <th>Expert name</th>\n",
       "      <th>label</th>\n",
       "    </tr>\n",
       "  </thead>\n",
       "  <tbody>\n",
       "    <tr>\n",
       "      <th>0</th>\n",
       "      <td>0</td>\n",
       "      <td>0</td>\n",
       "      <td>979</td>\n",
       "      <td>950056</td>\n",
       "      <td>ï»¿   DESCRIPTION (provided by applicant): Adv...</td>\n",
       "      <td>1</td>\n",
       "      <td>Kristian</td>\n",
       "      <td>Big-data</td>\n",
       "    </tr>\n",
       "    <tr>\n",
       "      <th>1</th>\n",
       "      <td>1</td>\n",
       "      <td>0</td>\n",
       "      <td>816</td>\n",
       "      <td>1178172</td>\n",
       "      <td>Project Summary/AbstractThe establishment of t...</td>\n",
       "      <td>1</td>\n",
       "      <td>Kristian</td>\n",
       "      <td>Big-data</td>\n",
       "    </tr>\n",
       "    <tr>\n",
       "      <th>2</th>\n",
       "      <td>2</td>\n",
       "      <td>0</td>\n",
       "      <td>1096</td>\n",
       "      <td>163037</td>\n",
       "      <td>DESCRIPTION (provided by applicant): The long-...</td>\n",
       "      <td>0</td>\n",
       "      <td>Kristian</td>\n",
       "      <td>Non Big-data</td>\n",
       "    </tr>\n",
       "    <tr>\n",
       "      <th>3</th>\n",
       "      <td>3</td>\n",
       "      <td>0</td>\n",
       "      <td>725</td>\n",
       "      <td>880197</td>\n",
       "      <td>DESCRIPTION (provided by applicant): The most ...</td>\n",
       "      <td>0</td>\n",
       "      <td>Kristian</td>\n",
       "      <td>Non Big-data</td>\n",
       "    </tr>\n",
       "    <tr>\n",
       "      <th>4</th>\n",
       "      <td>4</td>\n",
       "      <td>0</td>\n",
       "      <td>92</td>\n",
       "      <td>887331</td>\n",
       "      <td>Transsphenoidal surgery (TSS) is the best trea...</td>\n",
       "      <td>0</td>\n",
       "      <td>Kristian</td>\n",
       "      <td>Non Big-data</td>\n",
       "    </tr>\n",
       "  </tbody>\n",
       "</table>\n",
       "</div>"
      ],
      "text/plain": [
       "  Unnamed: 0 Duplicates index PROJECT_ID  \\\n",
       "0          0          0   979     950056   \n",
       "1          1          0   816    1178172   \n",
       "2          2          0  1096     163037   \n",
       "3          3          0   725     880197   \n",
       "4          4          0    92     887331   \n",
       "\n",
       "                                            ABSTRACT  \\\n",
       "0  ï»¿   DESCRIPTION (provided by applicant): Adv...   \n",
       "1  Project Summary/AbstractThe establishment of t...   \n",
       "2  DESCRIPTION (provided by applicant): The long-...   \n",
       "3  DESCRIPTION (provided by applicant): The most ...   \n",
       "4  Transsphenoidal surgery (TSS) is the best trea...   \n",
       "\n",
       "  Is it related to Big-Data Expert name         label  \n",
       "0                         1    Kristian      Big-data  \n",
       "1                         1    Kristian      Big-data  \n",
       "2                         0    Kristian  Non Big-data  \n",
       "3                         0    Kristian  Non Big-data  \n",
       "4                         0    Kristian  Non Big-data  "
      ]
     },
     "execution_count": 32,
     "metadata": {},
     "output_type": "execute_result"
    }
   ],
   "source": [
    "# read in new training dataset - 1600 labeled abstracts\n",
    "df_lab = pd.read_csv(\"../../../../data/prd/Digital_abstract_labelled/DEC-2022-labelled_abstracts.csv\", dtype=str)\n",
    "print(df_lab.shape)\n",
    "df_lab.head()"
   ]
  },
  {
   "cell_type": "code",
   "execution_count": 33,
   "metadata": {},
   "outputs": [
    {
     "data": {
      "text/html": [
       "<div>\n",
       "<style scoped>\n",
       "    .dataframe tbody tr th:only-of-type {\n",
       "        vertical-align: middle;\n",
       "    }\n",
       "\n",
       "    .dataframe tbody tr th {\n",
       "        vertical-align: top;\n",
       "    }\n",
       "\n",
       "    .dataframe thead th {\n",
       "        text-align: right;\n",
       "    }\n",
       "</style>\n",
       "<table border=\"1\" class=\"dataframe\">\n",
       "  <thead>\n",
       "    <tr style=\"text-align: right;\">\n",
       "      <th></th>\n",
       "      <th>PROJECT_ID</th>\n",
       "      <th>ABSTRACT</th>\n",
       "      <th>Is it related to Big-Data</th>\n",
       "      <th>label</th>\n",
       "    </tr>\n",
       "  </thead>\n",
       "  <tbody>\n",
       "    <tr>\n",
       "      <th>0</th>\n",
       "      <td>950056</td>\n",
       "      <td>ï»¿   DESCRIPTION (provided by applicant): Adv...</td>\n",
       "      <td>1</td>\n",
       "      <td>Big-data</td>\n",
       "    </tr>\n",
       "    <tr>\n",
       "      <th>1</th>\n",
       "      <td>1178172</td>\n",
       "      <td>Project Summary/AbstractThe establishment of t...</td>\n",
       "      <td>1</td>\n",
       "      <td>Big-data</td>\n",
       "    </tr>\n",
       "    <tr>\n",
       "      <th>2</th>\n",
       "      <td>163037</td>\n",
       "      <td>DESCRIPTION (provided by applicant): The long-...</td>\n",
       "      <td>0</td>\n",
       "      <td>Non Big-data</td>\n",
       "    </tr>\n",
       "    <tr>\n",
       "      <th>3</th>\n",
       "      <td>880197</td>\n",
       "      <td>DESCRIPTION (provided by applicant): The most ...</td>\n",
       "      <td>0</td>\n",
       "      <td>Non Big-data</td>\n",
       "    </tr>\n",
       "    <tr>\n",
       "      <th>4</th>\n",
       "      <td>887331</td>\n",
       "      <td>Transsphenoidal surgery (TSS) is the best trea...</td>\n",
       "      <td>0</td>\n",
       "      <td>Non Big-data</td>\n",
       "    </tr>\n",
       "  </tbody>\n",
       "</table>\n",
       "</div>"
      ],
      "text/plain": [
       "  PROJECT_ID                                           ABSTRACT  \\\n",
       "0     950056  ï»¿   DESCRIPTION (provided by applicant): Adv...   \n",
       "1    1178172  Project Summary/AbstractThe establishment of t...   \n",
       "2     163037  DESCRIPTION (provided by applicant): The long-...   \n",
       "3     880197  DESCRIPTION (provided by applicant): The most ...   \n",
       "4     887331  Transsphenoidal surgery (TSS) is the best trea...   \n",
       "\n",
       "  Is it related to Big-Data         label  \n",
       "0                         1      Big-data  \n",
       "1                         1      Big-data  \n",
       "2                         0  Non Big-data  \n",
       "3                         0  Non Big-data  \n",
       "4                         0  Non Big-data  "
      ]
     },
     "execution_count": 33,
     "metadata": {},
     "output_type": "execute_result"
    }
   ],
   "source": [
    "df_lab = df_lab[['PROJECT_ID','ABSTRACT','Is it related to Big-Data','label']]\n",
    "df_lab.head()"
   ]
  },
  {
   "cell_type": "code",
   "execution_count": 34,
   "metadata": {},
   "outputs": [],
   "source": [
    "df_merge = df.merge(df_lab[[\"PROJECT_ID\", \"label\"]], how='left', on='PROJECT_ID')"
   ]
  },
  {
   "cell_type": "code",
   "execution_count": 35,
   "metadata": {},
   "outputs": [
    {
     "data": {
      "text/html": [
       "<div>\n",
       "<style scoped>\n",
       "    .dataframe tbody tr th:only-of-type {\n",
       "        vertical-align: middle;\n",
       "    }\n",
       "\n",
       "    .dataframe tbody tr th {\n",
       "        vertical-align: top;\n",
       "    }\n",
       "\n",
       "    .dataframe thead th {\n",
       "        text-align: right;\n",
       "    }\n",
       "</style>\n",
       "<table border=\"1\" class=\"dataframe\">\n",
       "  <thead>\n",
       "    <tr style=\"text-align: right;\">\n",
       "      <th></th>\n",
       "      <th>PROJECT_ID</th>\n",
       "      <th>ABSTRACT</th>\n",
       "      <th>PROJECT_TERMS</th>\n",
       "      <th>PROJECT_TITLE</th>\n",
       "      <th>DEPARTMENT</th>\n",
       "      <th>AGENCY</th>\n",
       "      <th>IC_CENTER</th>\n",
       "      <th>PROJECT_NUMBER</th>\n",
       "      <th>PROJECT_START_DATE</th>\n",
       "      <th>PROJECT_END_DATE</th>\n",
       "      <th>...</th>\n",
       "      <th>FY_TOTAL_COST</th>\n",
       "      <th>FY_TOTAL_COST_SUB_PROJECTS</th>\n",
       "      <th>ORG_COUNT</th>\n",
       "      <th>PI_COUNT</th>\n",
       "      <th>FY_TOTAL_COST_SUM</th>\n",
       "      <th>NUM_RECORDS</th>\n",
       "      <th>final_tokens</th>\n",
       "      <th>wiki_scores</th>\n",
       "      <th>big_data_cnt</th>\n",
       "      <th>label</th>\n",
       "    </tr>\n",
       "  </thead>\n",
       "  <tbody>\n",
       "    <tr>\n",
       "      <th>0</th>\n",
       "      <td>89996</td>\n",
       "      <td>This is a project to explore Game-based, Metap...</td>\n",
       "      <td>Achievement; analog; base; Cognitive Science; ...</td>\n",
       "      <td>RUI: CYGAMES: CYBER-ENABLED TEACHING AND LEARN...</td>\n",
       "      <td>NSF</td>\n",
       "      <td>NSF</td>\n",
       "      <td>NaN</td>\n",
       "      <td>0814512</td>\n",
       "      <td>9/15/2008</td>\n",
       "      <td>8/31/2012</td>\n",
       "      <td>...</td>\n",
       "      <td>1999467.0</td>\n",
       "      <td>NaN</td>\n",
       "      <td>1</td>\n",
       "      <td>1</td>\n",
       "      <td>1999467.0</td>\n",
       "      <td>1</td>\n",
       "      <td>project explore game base metaphor enhanced ga...</td>\n",
       "      <td>0.115890</td>\n",
       "      <td>0</td>\n",
       "      <td>NaN</td>\n",
       "    </tr>\n",
       "    <tr>\n",
       "      <th>1</th>\n",
       "      <td>89997</td>\n",
       "      <td>Institution: Franklin Institute Science Museum...</td>\n",
       "      <td>Active Learning; Child; Computer software; des...</td>\n",
       "      <td>ARIEL - AUGMENTED REALITY FOR INTERPRETIVE AND...</td>\n",
       "      <td>NSF</td>\n",
       "      <td>NSF</td>\n",
       "      <td>NaN</td>\n",
       "      <td>0741659</td>\n",
       "      <td>9/15/2008</td>\n",
       "      <td>8/31/2012</td>\n",
       "      <td>...</td>\n",
       "      <td>1799699.0</td>\n",
       "      <td>NaN</td>\n",
       "      <td>1</td>\n",
       "      <td>1</td>\n",
       "      <td>1799699.0</td>\n",
       "      <td>1</td>\n",
       "      <td>institution franklin institute science museum ...</td>\n",
       "      <td>0.112398</td>\n",
       "      <td>0</td>\n",
       "      <td>NaN</td>\n",
       "    </tr>\n",
       "    <tr>\n",
       "      <th>2</th>\n",
       "      <td>89998</td>\n",
       "      <td>Through programs (including small group conver...</td>\n",
       "      <td>Address; Age; Birth; Brain; Caregivers; Child;...</td>\n",
       "      <td>BRIGHTER FUTURES: PUBLIC DELIBERATION ABOUT TH...</td>\n",
       "      <td>NSF</td>\n",
       "      <td>NSF</td>\n",
       "      <td>NaN</td>\n",
       "      <td>0813522</td>\n",
       "      <td>9/15/2008</td>\n",
       "      <td>8/31/2011</td>\n",
       "      <td>...</td>\n",
       "      <td>1505858.0</td>\n",
       "      <td>NaN</td>\n",
       "      <td>1</td>\n",
       "      <td>1</td>\n",
       "      <td>1505858.0</td>\n",
       "      <td>1</td>\n",
       "      <td>program include small group conversation citiz...</td>\n",
       "      <td>0.075169</td>\n",
       "      <td>0</td>\n",
       "      <td>NaN</td>\n",
       "    </tr>\n",
       "    <tr>\n",
       "      <th>3</th>\n",
       "      <td>89999</td>\n",
       "      <td>In partnership with the American Chemical Soci...</td>\n",
       "      <td>Advanced Development; American; Chemicals; Che...</td>\n",
       "      <td>FOSTERING US-INTERNATIONAL COLLABORATIVE PARTN...</td>\n",
       "      <td>NSF</td>\n",
       "      <td>NSF</td>\n",
       "      <td>NaN</td>\n",
       "      <td>0838627</td>\n",
       "      <td>8/1/2008</td>\n",
       "      <td>12/31/2010</td>\n",
       "      <td>...</td>\n",
       "      <td>51000.0</td>\n",
       "      <td>NaN</td>\n",
       "      <td>1</td>\n",
       "      <td>1</td>\n",
       "      <td>51000.0</td>\n",
       "      <td>1</td>\n",
       "      <td>partnership american chemical society acs nati...</td>\n",
       "      <td>0.004359</td>\n",
       "      <td>0</td>\n",
       "      <td>NaN</td>\n",
       "    </tr>\n",
       "    <tr>\n",
       "      <th>4</th>\n",
       "      <td>90001</td>\n",
       "      <td>The Center for Molecular Interfacing (CMI) wil...</td>\n",
       "      <td>Address; Architecture; Carbon Nanotubes; Catal...</td>\n",
       "      <td>CCI PHASE I: CENTER FOR MOLECULAR INTERFACING</td>\n",
       "      <td>NSF</td>\n",
       "      <td>NSF</td>\n",
       "      <td>NaN</td>\n",
       "      <td>0847926</td>\n",
       "      <td>10/1/2008</td>\n",
       "      <td>9/30/2011</td>\n",
       "      <td>...</td>\n",
       "      <td>1519821.0</td>\n",
       "      <td>NaN</td>\n",
       "      <td>1</td>\n",
       "      <td>1</td>\n",
       "      <td>1519821.0</td>\n",
       "      <td>1</td>\n",
       "      <td>center molecular interfacing cmi enable integr...</td>\n",
       "      <td>-0.006933</td>\n",
       "      <td>0</td>\n",
       "      <td>NaN</td>\n",
       "    </tr>\n",
       "  </tbody>\n",
       "</table>\n",
       "<p>5 rows × 33 columns</p>\n",
       "</div>"
      ],
      "text/plain": [
       "  PROJECT_ID                                           ABSTRACT  \\\n",
       "0      89996  This is a project to explore Game-based, Metap...   \n",
       "1      89997  Institution: Franklin Institute Science Museum...   \n",
       "2      89998  Through programs (including small group conver...   \n",
       "3      89999  In partnership with the American Chemical Soci...   \n",
       "4      90001  The Center for Molecular Interfacing (CMI) wil...   \n",
       "\n",
       "                                       PROJECT_TERMS  \\\n",
       "0  Achievement; analog; base; Cognitive Science; ...   \n",
       "1  Active Learning; Child; Computer software; des...   \n",
       "2  Address; Age; Birth; Brain; Caregivers; Child;...   \n",
       "3  Advanced Development; American; Chemicals; Che...   \n",
       "4  Address; Architecture; Carbon Nanotubes; Catal...   \n",
       "\n",
       "                                       PROJECT_TITLE DEPARTMENT AGENCY  \\\n",
       "0  RUI: CYGAMES: CYBER-ENABLED TEACHING AND LEARN...        NSF    NSF   \n",
       "1  ARIEL - AUGMENTED REALITY FOR INTERPRETIVE AND...        NSF    NSF   \n",
       "2  BRIGHTER FUTURES: PUBLIC DELIBERATION ABOUT TH...        NSF    NSF   \n",
       "3  FOSTERING US-INTERNATIONAL COLLABORATIVE PARTN...        NSF    NSF   \n",
       "4      CCI PHASE I: CENTER FOR MOLECULAR INTERFACING        NSF    NSF   \n",
       "\n",
       "  IC_CENTER PROJECT_NUMBER PROJECT_START_DATE PROJECT_END_DATE  ...  \\\n",
       "0       NaN        0814512          9/15/2008        8/31/2012  ...   \n",
       "1       NaN        0741659          9/15/2008        8/31/2012  ...   \n",
       "2       NaN        0813522          9/15/2008        8/31/2011  ...   \n",
       "3       NaN        0838627           8/1/2008       12/31/2010  ...   \n",
       "4       NaN        0847926          10/1/2008        9/30/2011  ...   \n",
       "\n",
       "  FY_TOTAL_COST FY_TOTAL_COST_SUB_PROJECTS ORG_COUNT PI_COUNT  \\\n",
       "0     1999467.0                        NaN         1        1   \n",
       "1     1799699.0                        NaN         1        1   \n",
       "2     1505858.0                        NaN         1        1   \n",
       "3       51000.0                        NaN         1        1   \n",
       "4     1519821.0                        NaN         1        1   \n",
       "\n",
       "  FY_TOTAL_COST_SUM NUM_RECORDS  \\\n",
       "0         1999467.0           1   \n",
       "1         1799699.0           1   \n",
       "2         1505858.0           1   \n",
       "3           51000.0           1   \n",
       "4         1519821.0           1   \n",
       "\n",
       "                                        final_tokens wiki_scores big_data_cnt  \\\n",
       "0  project explore game base metaphor enhanced ga...    0.115890            0   \n",
       "1  institution franklin institute science museum ...    0.112398            0   \n",
       "2  program include small group conversation citiz...    0.075169            0   \n",
       "3  partnership american chemical society acs nati...    0.004359            0   \n",
       "4  center molecular interfacing cmi enable integr...   -0.006933            0   \n",
       "\n",
       "  label  \n",
       "0   NaN  \n",
       "1   NaN  \n",
       "2   NaN  \n",
       "3   NaN  \n",
       "4   NaN  \n",
       "\n",
       "[5 rows x 33 columns]"
      ]
     },
     "execution_count": 35,
     "metadata": {},
     "output_type": "execute_result"
    }
   ],
   "source": [
    "df_merge.head()"
   ]
  },
  {
   "cell_type": "code",
   "execution_count": 36,
   "metadata": {},
   "outputs": [
    {
     "data": {
      "text/plain": [
       "Non Big-data    913\n",
       "Big-data        687\n",
       "Name: label, dtype: int64"
      ]
     },
     "execution_count": 36,
     "metadata": {},
     "output_type": "execute_result"
    }
   ],
   "source": [
    "df_merge['label'].value_counts()"
   ]
  },
  {
   "cell_type": "code",
   "execution_count": 37,
   "metadata": {},
   "outputs": [],
   "source": [
    "label_BD_scores = df_merge.loc[df_merge['label'] == 'Big-data', \"wiki_scores\"]"
   ]
  },
  {
   "cell_type": "code",
   "execution_count": 38,
   "metadata": {},
   "outputs": [],
   "source": [
    "label_NBD_scores = df_merge.loc[df_merge['label'] == 'Non Big-data', \"wiki_scores\"]"
   ]
  },
  {
   "cell_type": "code",
   "execution_count": 39,
   "metadata": {},
   "outputs": [],
   "source": [
    "df_merge.loc[df_merge['label'].isna(), \"label\"] = \"no label\""
   ]
  },
  {
   "cell_type": "code",
   "execution_count": 40,
   "metadata": {},
   "outputs": [
    {
     "data": {
      "text/plain": [
       "0"
      ]
     },
     "execution_count": 40,
     "metadata": {},
     "output_type": "execute_result"
    }
   ],
   "source": [
    "sum(df_merge['label'].isna())"
   ]
  },
  {
   "cell_type": "code",
   "execution_count": 41,
   "metadata": {},
   "outputs": [],
   "source": [
    "label_NA_scores = df_merge.loc[df_merge['label'] == 'no label', \"wiki_scores\"]"
   ]
  },
  {
   "cell_type": "code",
   "execution_count": 42,
   "metadata": {},
   "outputs": [
    {
     "data": {
      "text/plain": [
       "1142269"
      ]
     },
     "execution_count": 42,
     "metadata": {},
     "output_type": "execute_result"
    }
   ],
   "source": [
    "len(label_NA_scores)   # len(df) - 1600"
   ]
  },
  {
   "cell_type": "code",
   "execution_count": 43,
   "metadata": {},
   "outputs": [
    {
     "data": {
      "text/plain": [
       "Text(1.8, 0.5, 'n = 913')"
      ]
     },
     "execution_count": 43,
     "metadata": {},
     "output_type": "execute_result"
    },
    {
     "data": {
      "image/png": "[encoded data removed]",
      "text/plain": [
       "<Figure size 640x480 with 1 Axes>"
      ]
     },
     "metadata": {},
     "output_type": "display_data"
    }
   ],
   "source": [
    "sns.set(font_scale=1.4)\n",
    "sns.boxplot(data=df_merge, x=\"label\", y=\"wiki_scores\")\n",
    "plt.ylabel('Wiki Comparison Score')\n",
    "plt.xlabel('Abstract Label')\n",
    "plt.title('Distribution of Labeled Abstract Scores')\n",
    "plt.ylim(-0.25,0.75)\n",
    "\n",
    "plt.text(-0.35, 0.7, f\"n = {len(label_NA_scores):,}\", fontsize=12)\n",
    "plt.text(0.8, 0.65, f\"n = {len(label_BD_scores):,}\", fontsize=12)\n",
    "plt.text(1.8, 0.50, f\"n = {len(label_NBD_scores):,}\", fontsize=12)\n",
    "\n",
    "#plt.savefig('figures/wiki_scores_by_label_box.png', bbox_inches='tight')"
   ]
  },
  {
   "cell_type": "code",
   "execution_count": 44,
   "metadata": {},
   "outputs": [
    {
     "data": {
      "text/plain": [
       "Text(1.8, 0.55, 'n = 913')"
      ]
     },
     "execution_count": 44,
     "metadata": {},
     "output_type": "execute_result"
    },
    {
     "data": {
      "image/png": "[encoded data removed]",
      "text/plain": [
       "<Figure size 640x480 with 1 Axes>"
      ]
     },
     "metadata": {},
     "output_type": "display_data"
    }
   ],
   "source": [
    "sns.set(font_scale=1.4)\n",
    "sns.violinplot(data=df_merge, x=\"label\", y=\"wiki_scores\")\n",
    "plt.ylabel('Wiki Comparison Score')\n",
    "plt.xlabel('Abstract Label')\n",
    "plt.title('Distribution of Labeled Abstract Scores')\n",
    "plt.ylim(-0.25,0.77)\n",
    "\n",
    "plt.text(-0.35, 0.7, f\"n = {len(label_NA_scores):,}\", fontsize=12)\n",
    "plt.text(0.8, 0.72, f\"n = {len(label_BD_scores):,}\", fontsize=12)\n",
    "plt.text(1.8, 0.55, f\"n = {len(label_NBD_scores):,}\", fontsize=12)\n",
    "\n",
    "#plt.savefig('figures/wiki_scores_by_label.png', bbox_inches='tight')"
   ]
  },
  {
   "cell_type": "code",
   "execution_count": 45,
   "metadata": {},
   "outputs": [
    {
     "data": {
      "text/html": [
       "<div>\n",
       "<style scoped>\n",
       "    .dataframe tbody tr th:only-of-type {\n",
       "        vertical-align: middle;\n",
       "    }\n",
       "\n",
       "    .dataframe tbody tr th {\n",
       "        vertical-align: top;\n",
       "    }\n",
       "\n",
       "    .dataframe thead th {\n",
       "        text-align: right;\n",
       "    }\n",
       "</style>\n",
       "<table border=\"1\" class=\"dataframe\">\n",
       "  <thead>\n",
       "    <tr style=\"text-align: right;\">\n",
       "      <th></th>\n",
       "      <th>wiki_scores</th>\n",
       "    </tr>\n",
       "  </thead>\n",
       "  <tbody>\n",
       "    <tr>\n",
       "      <th>count</th>\n",
       "      <td>687.000000</td>\n",
       "    </tr>\n",
       "    <tr>\n",
       "      <th>mean</th>\n",
       "      <td>0.309659</td>\n",
       "    </tr>\n",
       "    <tr>\n",
       "      <th>std</th>\n",
       "      <td>0.150290</td>\n",
       "    </tr>\n",
       "    <tr>\n",
       "      <th>min</th>\n",
       "      <td>-0.050797</td>\n",
       "    </tr>\n",
       "    <tr>\n",
       "      <th>25%</th>\n",
       "      <td>0.193826</td>\n",
       "    </tr>\n",
       "    <tr>\n",
       "      <th>50%</th>\n",
       "      <td>0.348872</td>\n",
       "    </tr>\n",
       "    <tr>\n",
       "      <th>75%</th>\n",
       "      <td>0.425420</td>\n",
       "    </tr>\n",
       "    <tr>\n",
       "      <th>max</th>\n",
       "      <td>0.625970</td>\n",
       "    </tr>\n",
       "  </tbody>\n",
       "</table>\n",
       "</div>"
      ],
      "text/plain": [
       "       wiki_scores\n",
       "count   687.000000\n",
       "mean      0.309659\n",
       "std       0.150290\n",
       "min      -0.050797\n",
       "25%       0.193826\n",
       "50%       0.348872\n",
       "75%       0.425420\n",
       "max       0.625970"
      ]
     },
     "execution_count": 45,
     "metadata": {},
     "output_type": "execute_result"
    }
   ],
   "source": [
    "# look at some examples\n",
    "\n",
    "pd.DataFrame(label_BD_scores).describe()"
   ]
  },
  {
   "cell_type": "code",
   "execution_count": 46,
   "metadata": {},
   "outputs": [
    {
     "data": {
      "text/html": [
       "<div>\n",
       "<style scoped>\n",
       "    .dataframe tbody tr th:only-of-type {\n",
       "        vertical-align: middle;\n",
       "    }\n",
       "\n",
       "    .dataframe tbody tr th {\n",
       "        vertical-align: top;\n",
       "    }\n",
       "\n",
       "    .dataframe thead th {\n",
       "        text-align: right;\n",
       "    }\n",
       "</style>\n",
       "<table border=\"1\" class=\"dataframe\">\n",
       "  <thead>\n",
       "    <tr style=\"text-align: right;\">\n",
       "      <th></th>\n",
       "      <th>wiki_scores</th>\n",
       "    </tr>\n",
       "  </thead>\n",
       "  <tbody>\n",
       "    <tr>\n",
       "      <th>count</th>\n",
       "      <td>913.000000</td>\n",
       "    </tr>\n",
       "    <tr>\n",
       "      <th>mean</th>\n",
       "      <td>0.088407</td>\n",
       "    </tr>\n",
       "    <tr>\n",
       "      <th>std</th>\n",
       "      <td>0.114512</td>\n",
       "    </tr>\n",
       "    <tr>\n",
       "      <th>min</th>\n",
       "      <td>-0.130109</td>\n",
       "    </tr>\n",
       "    <tr>\n",
       "      <th>25%</th>\n",
       "      <td>0.014572</td>\n",
       "    </tr>\n",
       "    <tr>\n",
       "      <th>50%</th>\n",
       "      <td>0.064071</td>\n",
       "    </tr>\n",
       "    <tr>\n",
       "      <th>75%</th>\n",
       "      <td>0.124768</td>\n",
       "    </tr>\n",
       "    <tr>\n",
       "      <th>max</th>\n",
       "      <td>0.466685</td>\n",
       "    </tr>\n",
       "  </tbody>\n",
       "</table>\n",
       "</div>"
      ],
      "text/plain": [
       "       wiki_scores\n",
       "count   913.000000\n",
       "mean      0.088407\n",
       "std       0.114512\n",
       "min      -0.130109\n",
       "25%       0.014572\n",
       "50%       0.064071\n",
       "75%       0.124768\n",
       "max       0.466685"
      ]
     },
     "execution_count": 46,
     "metadata": {},
     "output_type": "execute_result"
    }
   ],
   "source": [
    "pd.DataFrame(label_NBD_scores).describe()"
   ]
  },
  {
   "cell_type": "code",
   "execution_count": 47,
   "metadata": {},
   "outputs": [
    {
     "name": "stdout",
     "output_type": "stream",
     "text": [
      "-0.0507972526921192\n",
      "118\n"
     ]
    }
   ],
   "source": [
    "print(min(label_BD_scores))\n",
    "print(np.argmin(label_BD_scores))"
   ]
  },
  {
   "cell_type": "code",
   "execution_count": 48,
   "metadata": {},
   "outputs": [
    {
     "data": {
      "text/plain": [
       "373      118\n",
       "672      196\n",
       "3557     564\n",
       "3987     530\n",
       "6842     518\n",
       "10200      7\n",
       "11897    164\n",
       "13808    529\n",
       "20201    573\n",
       "57780     30\n",
       "Name: wiki_scores, dtype: int64"
      ]
     },
     "execution_count": 48,
     "metadata": {},
     "output_type": "execute_result"
    }
   ],
   "source": [
    "np.argsort(label_BD_scores)[0:10]"
   ]
  },
  {
   "cell_type": "code",
   "execution_count": 49,
   "metadata": {},
   "outputs": [
    {
     "data": {
      "text/plain": [
       "'AbstractThe majority of schizophrenia patients fail to achieve premorbid status and functional outcomes (e.g.employment, interpersonal relationships, independent living) are very poor, despite effective psychosissymptom reduction with antipsychotic medications. Cognitive impairments are broad and persistent andunderlie the functional deficits of the illness. To date, however, there have been no characteristics identified inschizophrenia that provide good predictors for treatment targets of cognitive and functional deficits. Glutamatedysfunction may significantly contribute to the cognitive and functional deficits in schizophrenia. The proposedresearch is centered around the pathophysiological model of N-methyl-D-aspartate receptor (NMDAR)hypofunction of schizophrenia. This dysfunction produces damage to the dendritic portion of neurons, whichleads to chronic cognitive and functional disabilities. Patients who have lower glutamate levels may manifestwith broad cognitive impairment and greater social disabilities. Our short-term goal is to characterize therelationship between glutamate, cognition, and functional outcomes in schizophrenia. The documentation ofthese relationships is essential for us to achieve our long-term goal: to create a model that will allow theselection of specific patients that will be good candidates for glutamatergic modulation drug treatments.The proposed project will use a novel method, proton echo planar spectroscopic imaging (PEPSI) at 3 Tesla,to study glutamate concentrations in distinct cortical gray and white matter regions in schizophrenia. We willalso measure N-acetylaspartate compounds (NAAc, a marker of neuronal viability), myoinositol (Ins, a glialmarker) and GABA (the major inhibitory neurotransmitter). PEPSI is advantageous over other spectroscopytechniques because it provides superior spatial resolution (1cc voxels), with greater brain coverage (over 130voxels), and very fast acquisition (under 10 min). To examine neurometabolism across different stages of theillness, 200 subjects with schizophrenia will be equally recruited into two groups: short illness duration (d10yrs) and long duration (>10 yrs). Symptoms, side-effects, cognitive and social function will be assessed. Agroup of 200 healthy volunteers, matched in age, gender and parental socioeconomic status to theschizophrenia groups, will also be studied. This project will address four specific pressing issues: 1) The in-vivoexamination of the relationship between glutamate, cognition, negative symptoms and social function inschizophrenia. 2) The evaluation of cortical pathology suggestive of dendritic damage (reduced gray matterNAAc), early in the illness. 3) The examination of a compensatory glial up-regulation (increased Ins) in olderschizophrenia subjects. 4) The assessment of GABAergic dysfunction in schizophrenia. Documentation thatreduced glutamate is a robust correlate of cognition in schizophrenia would support the use of glutamateenhancing agents to optimize cognitive function in vulnerable patients. As 3 Tesla scanners become widelyavailable for standard of care, spectroscopy with PEPSI, may contribute to the identification of such individuals.This application presents extensive pilot data addressing all four of these issues.'"
      ]
     },
     "execution_count": 49,
     "metadata": {},
     "output_type": "execute_result"
    }
   ],
   "source": [
    "df_merge[df_merge['label'] == 'Big-data'][\"ABSTRACT\"].iloc[118]"
   ]
  },
  {
   "cell_type": "code",
   "execution_count": 50,
   "metadata": {},
   "outputs": [
    {
     "name": "stdout",
     "output_type": "stream",
     "text": [
      "0.4666852671496321\n",
      "489\n"
     ]
    }
   ],
   "source": [
    "print(max(label_NBD_scores))\n",
    "print(np.argmax(label_NBD_scores))"
   ]
  },
  {
   "cell_type": "code",
   "execution_count": 51,
   "metadata": {},
   "outputs": [
    {
     "data": {
      "text/plain": [
       "1050        87\n",
       "1387       401\n",
       "1413       566\n",
       "1681       597\n",
       "1990        51\n",
       "          ... \n",
       "1141433    589\n",
       "1141803    585\n",
       "1143731    893\n",
       "1143778    881\n",
       "1143822    489\n",
       "Name: wiki_scores, Length: 913, dtype: int64"
      ]
     },
     "execution_count": 51,
     "metadata": {},
     "output_type": "execute_result"
    }
   ],
   "source": [
    "np.argsort(label_NBD_scores)"
   ]
  },
  {
   "cell_type": "code",
   "execution_count": 52,
   "metadata": {},
   "outputs": [
    {
     "data": {
      "text/plain": [
       "'Data intensive research for many scientific disciplines has changed the basic research methods for those disciplines. For example large plant genomic data bases have changed how research is done in plant biology where analyzing the genes in the data base becomes a critical component of plant genetics research. This workshop addresses the emerging discipline of data intensive research in education through case studies of how data intensive research emerged in other disciplines.  The workshop is a two-day workshop that will feature case studies in disciplines such as astronomy, plant genomics, engineering, ocean sciences, and health information technology on the first day. The case studies will be presented by two participants within each domain - the provider of the data intensive research and the user of the research. The second day will be devoted to cross-cutting issues such as data interoperability, privacy, security, open data access, and other policy and data curation issues.'"
      ]
     },
     "execution_count": 52,
     "metadata": {},
     "output_type": "execute_result"
    }
   ],
   "source": [
    "df_merge[df_merge['label'] == 'Non Big-data'][\"ABSTRACT\"].iloc[489]"
   ]
  },
  {
   "cell_type": "code",
   "execution_count": null,
   "metadata": {},
   "outputs": [],
   "source": []
  },
  {
   "cell_type": "code",
   "execution_count": null,
   "metadata": {},
   "outputs": [],
   "source": []
  },
  {
   "cell_type": "markdown",
   "metadata": {},
   "source": [
    "#### Scratch work"
   ]
  },
  {
   "cell_type": "code",
   "execution_count": 92,
   "metadata": {},
   "outputs": [],
   "source": [
    "# get old Wiki from Nov 15-17\n",
    "# 1120846918 revision_id\n",
    "\n",
    "bd = wikipedia.page(\"Big data\")"
   ]
  },
  {
   "cell_type": "code",
   "execution_count": 96,
   "metadata": {},
   "outputs": [
    {
     "data": {
      "text/plain": [
       "1126395551"
      ]
     },
     "execution_count": 96,
     "metadata": {},
     "output_type": "execute_result"
    }
   ],
   "source": [
    "bd.revision_id"
   ]
  },
  {
   "cell_type": "code",
   "execution_count": 24,
   "metadata": {},
   "outputs": [],
   "source": [
    "import requests\n",
    " \n",
    "subject = 'Big data'\n",
    "url = 'https://en.wikipedia.org/w/api.php'\n",
    "params = {\n",
    "        'action': 'query',\n",
    "        'format': 'json',\n",
    "        'titles': subject,\n",
    "        'prop': 'extracts|revisions',\n",
    "        'rvlimit': 1,\n",
    "        'rvprop': 'content',\n",
    "        'rvdir': 'newer',\n",
    "        'rvstart': '2022-11-15T00:00:00Z'\n",
    "        #'exintro': True,\n",
    "        #'explaintext': True\n",
    "    }\n",
    " \n",
    "response = requests.get(url, params=params)\n",
    "data = response.json()\n",
    " \n",
    "page = next(iter(data['query']['pages'].values()))\n",
    "#print(page['extract'])"
   ]
  },
  {
   "cell_type": "code",
   "execution_count": null,
   "metadata": {},
   "outputs": [],
   "source": []
  }
 ],
 "metadata": {
  "kernelspec": {
   "display_name": "Python [conda env:.conda-bert_new]",
   "language": "python",
   "name": "conda-env-.conda-bert_new-py"
  },
  "language_info": {
   "codemirror_mode": {
    "name": "ipython",
    "version": 3
   },
   "file_extension": ".py",
   "mimetype": "text/x-python",
   "name": "python",
   "nbconvert_exporter": "python",
   "pygments_lexer": "ipython3",
   "version": "3.8.13"
  }
 },
 "nbformat": 4,
 "nbformat_minor": 4
}
