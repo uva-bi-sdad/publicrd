{
 "cells": [
  {
   "cell_type": "markdown",
   "metadata": {},
   "source": [
    "### Analysis of classifier results"
   ]
  },
  {
   "cell_type": "code",
   "execution_count": 1,
   "metadata": {},
   "outputs": [],
   "source": [
    "import pandas as pd\n",
    "import numpy as np\n",
    "import random\n",
    "import seaborn as sns\n",
    "import matplotlib.pyplot as plt\n",
    "from matplotlib.ticker import StrMethodFormatter\n",
    "\n",
    "from sklearn.model_selection import train_test_split\n",
    "from sklearn.metrics import classification_report, confusion_matrix"
   ]
  },
  {
   "cell_type": "code",
   "execution_count": null,
   "metadata": {},
   "outputs": [],
   "source": []
  },
  {
   "cell_type": "markdown",
   "metadata": {},
   "source": [
    "#### BERT as a classifier"
   ]
  },
  {
   "cell_type": "code",
   "execution_count": 2,
   "metadata": {},
   "outputs": [
    {
     "name": "stdout",
     "output_type": "stream",
     "text": [
      "(1143869, 6)\n"
     ]
    }
   ],
   "source": [
    "# read in results\n",
    "\n",
    "df_results = pd.read_csv(\"../../../../data/prd/Digital_abstract_labelled/big_data/bertclassifier_new_training_set.csv\")\n",
    "print(df_results.shape)"
   ]
  },
  {
   "cell_type": "code",
   "execution_count": 3,
   "metadata": {},
   "outputs": [],
   "source": [
    "df_results = df_results.drop(columns=['Unnamed: 0'])"
   ]
  },
  {
   "cell_type": "code",
   "execution_count": 4,
   "metadata": {},
   "outputs": [
    {
     "data": {
      "text/html": [
       "<div>\n",
       "<style scoped>\n",
       "    .dataframe tbody tr th:only-of-type {\n",
       "        vertical-align: middle;\n",
       "    }\n",
       "\n",
       "    .dataframe tbody tr th {\n",
       "        vertical-align: top;\n",
       "    }\n",
       "\n",
       "    .dataframe thead th {\n",
       "        text-align: right;\n",
       "    }\n",
       "</style>\n",
       "<table border=\"1\" class=\"dataframe\">\n",
       "  <thead>\n",
       "    <tr style=\"text-align: right;\">\n",
       "      <th></th>\n",
       "      <th>PROJECT_ID</th>\n",
       "      <th>ABSTRACT</th>\n",
       "      <th>Is it related to Big-Data</th>\n",
       "      <th>label</th>\n",
       "      <th>classification</th>\n",
       "    </tr>\n",
       "  </thead>\n",
       "  <tbody>\n",
       "    <tr>\n",
       "      <th>0</th>\n",
       "      <td>89996</td>\n",
       "      <td>This is a project to explore Game-based, Metap...</td>\n",
       "      <td>NaN</td>\n",
       "      <td>NaN</td>\n",
       "      <td>0.0</td>\n",
       "    </tr>\n",
       "    <tr>\n",
       "      <th>1</th>\n",
       "      <td>89997</td>\n",
       "      <td>Institution: Franklin Institute Science Museum...</td>\n",
       "      <td>NaN</td>\n",
       "      <td>NaN</td>\n",
       "      <td>0.0</td>\n",
       "    </tr>\n",
       "    <tr>\n",
       "      <th>2</th>\n",
       "      <td>89998</td>\n",
       "      <td>Through programs (including small group conver...</td>\n",
       "      <td>NaN</td>\n",
       "      <td>NaN</td>\n",
       "      <td>0.0</td>\n",
       "    </tr>\n",
       "    <tr>\n",
       "      <th>3</th>\n",
       "      <td>89999</td>\n",
       "      <td>In partnership with the American Chemical Soci...</td>\n",
       "      <td>NaN</td>\n",
       "      <td>NaN</td>\n",
       "      <td>0.0</td>\n",
       "    </tr>\n",
       "    <tr>\n",
       "      <th>4</th>\n",
       "      <td>90001</td>\n",
       "      <td>The Center for Molecular Interfacing (CMI) wil...</td>\n",
       "      <td>NaN</td>\n",
       "      <td>NaN</td>\n",
       "      <td>0.0</td>\n",
       "    </tr>\n",
       "  </tbody>\n",
       "</table>\n",
       "</div>"
      ],
      "text/plain": [
       "   PROJECT_ID                                           ABSTRACT  \\\n",
       "0       89996  This is a project to explore Game-based, Metap...   \n",
       "1       89997  Institution: Franklin Institute Science Museum...   \n",
       "2       89998  Through programs (including small group conver...   \n",
       "3       89999  In partnership with the American Chemical Soci...   \n",
       "4       90001  The Center for Molecular Interfacing (CMI) wil...   \n",
       "\n",
       "   Is it related to Big-Data label  classification  \n",
       "0                        NaN   NaN             0.0  \n",
       "1                        NaN   NaN             0.0  \n",
       "2                        NaN   NaN             0.0  \n",
       "3                        NaN   NaN             0.0  \n",
       "4                        NaN   NaN             0.0  "
      ]
     },
     "execution_count": 4,
     "metadata": {},
     "output_type": "execute_result"
    }
   ],
   "source": [
    "df_results.head()"
   ]
  },
  {
   "cell_type": "code",
   "execution_count": 5,
   "metadata": {},
   "outputs": [
    {
     "data": {
      "text/plain": [
       "0.0    1132920\n",
       "1.0      10949\n",
       "Name: classification, dtype: int64"
      ]
     },
     "execution_count": 5,
     "metadata": {},
     "output_type": "execute_result"
    }
   ],
   "source": [
    "df_results['classification'].value_counts()"
   ]
  },
  {
   "cell_type": "code",
   "execution_count": 6,
   "metadata": {},
   "outputs": [
    {
     "data": {
      "text/plain": [
       "Non Big-data    913\n",
       "Big-data        687\n",
       "Name: label, dtype: int64"
      ]
     },
     "execution_count": 6,
     "metadata": {},
     "output_type": "execute_result"
    }
   ],
   "source": [
    "df_results['label'].value_counts(0)"
   ]
  },
  {
   "cell_type": "code",
   "execution_count": 7,
   "metadata": {},
   "outputs": [
    {
     "data": {
      "text/plain": [
       "PROJECT_ID                     int64\n",
       "ABSTRACT                      object\n",
       "Is it related to Big-Data    float64\n",
       "label                         object\n",
       "classification               float64\n",
       "dtype: object"
      ]
     },
     "execution_count": 7,
     "metadata": {},
     "output_type": "execute_result"
    }
   ],
   "source": [
    "df_results.dtypes"
   ]
  },
  {
   "cell_type": "code",
   "execution_count": null,
   "metadata": {},
   "outputs": [],
   "source": []
  },
  {
   "cell_type": "code",
   "execution_count": 8,
   "metadata": {},
   "outputs": [
    {
     "name": "stdout",
     "output_type": "stream",
     "text": [
      "1280 160 160\n"
     ]
    }
   ],
   "source": [
    "# get training set, test set, validation set ids\n",
    "\n",
    "#\n",
    "# PREP TRAINING, VALIDATION, AND TESTING DATASETS ----------------------------------\n",
    "#\n",
    "\n",
    "#data frame with only labeled abstracts - 1600 (new set)\n",
    "df_lab = pd.read_csv(\"../../../../data/prd/Digital_abstract_labelled/DEC-2022-labelled_abstracts.csv\")\n",
    "df_lab = df_lab[['PROJECT_ID','ABSTRACT','Is it related to Big-Data','label']]\n",
    "\n",
    "#data frame with all of the abstracts\n",
    "df = pd.read_pickle(\"../../../../data/prd/Paper/FR_meta_and_final_tokens_23DEC21.pkl\")\n",
    "df.reset_index(inplace = True, drop = True)\n",
    "df = df[['PROJECT_ID','ABSTRACT']]\n",
    "\n",
    "# merge with the labelled data using PROJECT_ID.\n",
    "df['PROJECT_ID'] = pd.to_numeric(df['PROJECT_ID'])\n",
    "df_merge = df.merge(df_lab[['PROJECT_ID','Is it related to Big-Data','label']], how='left', on='PROJECT_ID')\n",
    "\n",
    "# Save project ID of labelled data\n",
    "project_id_lab = list(df_lab['PROJECT_ID'])\n",
    "\n",
    "# Get the index of labelled abstract\n",
    "subset_df = df_merge.loc[df_merge['PROJECT_ID'].isin(project_id_lab),['PROJECT_ID','label']]\n",
    "\n",
    "# build training and testing sets from the labeled data - sklearn to find list of indices for training and test set\n",
    "X_train_idx, X_test_idx, y_train_tfidf, y_test_tfidf = train_test_split(subset_df.index, \n",
    "                                                                        subset_df['label'].values, \n",
    "                                                                        test_size=0.20, random_state=0, \n",
    "                                                                        stratify=subset_df['label'].values)\n",
    "\n",
    "# create validation index set by splitting test index set into 2\n",
    "random.seed(1)\n",
    "temp = random.sample(list(X_test_idx), int(0.5 * len(X_test_idx)))\n",
    "X_val_idx = list(set(X_test_idx) - set(temp))\n",
    "X_test_idx = temp\n",
    "\n",
    "# create train, validation, and test sets\n",
    "df_train = df_merge.loc[X_train_idx]\n",
    "df_val = df_merge.loc[X_val_idx]\n",
    "df_test = df_merge.loc[X_test_idx]\n",
    "\n",
    "print(len(df_train),len(df_val), len(df_test))\n"
   ]
  },
  {
   "cell_type": "code",
   "execution_count": null,
   "metadata": {},
   "outputs": [],
   "source": []
  },
  {
   "cell_type": "code",
   "execution_count": 9,
   "metadata": {},
   "outputs": [],
   "source": [
    "# df, df_merge, and df_results all have same index"
   ]
  },
  {
   "cell_type": "code",
   "execution_count": 10,
   "metadata": {},
   "outputs": [
    {
     "data": {
      "text/html": [
       "<div>\n",
       "<style scoped>\n",
       "    .dataframe tbody tr th:only-of-type {\n",
       "        vertical-align: middle;\n",
       "    }\n",
       "\n",
       "    .dataframe tbody tr th {\n",
       "        vertical-align: top;\n",
       "    }\n",
       "\n",
       "    .dataframe thead th {\n",
       "        text-align: right;\n",
       "    }\n",
       "</style>\n",
       "<table border=\"1\" class=\"dataframe\">\n",
       "  <thead>\n",
       "    <tr style=\"text-align: right;\">\n",
       "      <th></th>\n",
       "      <th>PROJECT_ID</th>\n",
       "      <th>ABSTRACT</th>\n",
       "    </tr>\n",
       "  </thead>\n",
       "  <tbody>\n",
       "    <tr>\n",
       "      <th>0</th>\n",
       "      <td>89996</td>\n",
       "      <td>This is a project to explore Game-based, Metap...</td>\n",
       "    </tr>\n",
       "    <tr>\n",
       "      <th>1</th>\n",
       "      <td>89997</td>\n",
       "      <td>Institution: Franklin Institute Science Museum...</td>\n",
       "    </tr>\n",
       "    <tr>\n",
       "      <th>2</th>\n",
       "      <td>89998</td>\n",
       "      <td>Through programs (including small group conver...</td>\n",
       "    </tr>\n",
       "    <tr>\n",
       "      <th>3</th>\n",
       "      <td>89999</td>\n",
       "      <td>In partnership with the American Chemical Soci...</td>\n",
       "    </tr>\n",
       "    <tr>\n",
       "      <th>4</th>\n",
       "      <td>90001</td>\n",
       "      <td>The Center for Molecular Interfacing (CMI) wil...</td>\n",
       "    </tr>\n",
       "  </tbody>\n",
       "</table>\n",
       "</div>"
      ],
      "text/plain": [
       "   PROJECT_ID                                           ABSTRACT\n",
       "0       89996  This is a project to explore Game-based, Metap...\n",
       "1       89997  Institution: Franklin Institute Science Museum...\n",
       "2       89998  Through programs (including small group conver...\n",
       "3       89999  In partnership with the American Chemical Soci...\n",
       "4       90001  The Center for Molecular Interfacing (CMI) wil..."
      ]
     },
     "execution_count": 10,
     "metadata": {},
     "output_type": "execute_result"
    }
   ],
   "source": [
    "df.head()"
   ]
  },
  {
   "cell_type": "code",
   "execution_count": 11,
   "metadata": {},
   "outputs": [
    {
     "data": {
      "text/html": [
       "<div>\n",
       "<style scoped>\n",
       "    .dataframe tbody tr th:only-of-type {\n",
       "        vertical-align: middle;\n",
       "    }\n",
       "\n",
       "    .dataframe tbody tr th {\n",
       "        vertical-align: top;\n",
       "    }\n",
       "\n",
       "    .dataframe thead th {\n",
       "        text-align: right;\n",
       "    }\n",
       "</style>\n",
       "<table border=\"1\" class=\"dataframe\">\n",
       "  <thead>\n",
       "    <tr style=\"text-align: right;\">\n",
       "      <th></th>\n",
       "      <th>PROJECT_ID</th>\n",
       "      <th>ABSTRACT</th>\n",
       "      <th>Is it related to Big-Data</th>\n",
       "      <th>label</th>\n",
       "    </tr>\n",
       "  </thead>\n",
       "  <tbody>\n",
       "    <tr>\n",
       "      <th>0</th>\n",
       "      <td>89996</td>\n",
       "      <td>This is a project to explore Game-based, Metap...</td>\n",
       "      <td>NaN</td>\n",
       "      <td>NaN</td>\n",
       "    </tr>\n",
       "    <tr>\n",
       "      <th>1</th>\n",
       "      <td>89997</td>\n",
       "      <td>Institution: Franklin Institute Science Museum...</td>\n",
       "      <td>NaN</td>\n",
       "      <td>NaN</td>\n",
       "    </tr>\n",
       "    <tr>\n",
       "      <th>2</th>\n",
       "      <td>89998</td>\n",
       "      <td>Through programs (including small group conver...</td>\n",
       "      <td>NaN</td>\n",
       "      <td>NaN</td>\n",
       "    </tr>\n",
       "    <tr>\n",
       "      <th>3</th>\n",
       "      <td>89999</td>\n",
       "      <td>In partnership with the American Chemical Soci...</td>\n",
       "      <td>NaN</td>\n",
       "      <td>NaN</td>\n",
       "    </tr>\n",
       "    <tr>\n",
       "      <th>4</th>\n",
       "      <td>90001</td>\n",
       "      <td>The Center for Molecular Interfacing (CMI) wil...</td>\n",
       "      <td>NaN</td>\n",
       "      <td>NaN</td>\n",
       "    </tr>\n",
       "  </tbody>\n",
       "</table>\n",
       "</div>"
      ],
      "text/plain": [
       "   PROJECT_ID                                           ABSTRACT  \\\n",
       "0       89996  This is a project to explore Game-based, Metap...   \n",
       "1       89997  Institution: Franklin Institute Science Museum...   \n",
       "2       89998  Through programs (including small group conver...   \n",
       "3       89999  In partnership with the American Chemical Soci...   \n",
       "4       90001  The Center for Molecular Interfacing (CMI) wil...   \n",
       "\n",
       "   Is it related to Big-Data label  \n",
       "0                        NaN   NaN  \n",
       "1                        NaN   NaN  \n",
       "2                        NaN   NaN  \n",
       "3                        NaN   NaN  \n",
       "4                        NaN   NaN  "
      ]
     },
     "execution_count": 11,
     "metadata": {},
     "output_type": "execute_result"
    }
   ],
   "source": [
    "df_merge.head()"
   ]
  },
  {
   "cell_type": "code",
   "execution_count": 12,
   "metadata": {},
   "outputs": [
    {
     "data": {
      "text/html": [
       "<div>\n",
       "<style scoped>\n",
       "    .dataframe tbody tr th:only-of-type {\n",
       "        vertical-align: middle;\n",
       "    }\n",
       "\n",
       "    .dataframe tbody tr th {\n",
       "        vertical-align: top;\n",
       "    }\n",
       "\n",
       "    .dataframe thead th {\n",
       "        text-align: right;\n",
       "    }\n",
       "</style>\n",
       "<table border=\"1\" class=\"dataframe\">\n",
       "  <thead>\n",
       "    <tr style=\"text-align: right;\">\n",
       "      <th></th>\n",
       "      <th>PROJECT_ID</th>\n",
       "      <th>ABSTRACT</th>\n",
       "      <th>Is it related to Big-Data</th>\n",
       "      <th>label</th>\n",
       "      <th>classification</th>\n",
       "    </tr>\n",
       "  </thead>\n",
       "  <tbody>\n",
       "    <tr>\n",
       "      <th>0</th>\n",
       "      <td>89996</td>\n",
       "      <td>This is a project to explore Game-based, Metap...</td>\n",
       "      <td>NaN</td>\n",
       "      <td>NaN</td>\n",
       "      <td>0.0</td>\n",
       "    </tr>\n",
       "    <tr>\n",
       "      <th>1</th>\n",
       "      <td>89997</td>\n",
       "      <td>Institution: Franklin Institute Science Museum...</td>\n",
       "      <td>NaN</td>\n",
       "      <td>NaN</td>\n",
       "      <td>0.0</td>\n",
       "    </tr>\n",
       "    <tr>\n",
       "      <th>2</th>\n",
       "      <td>89998</td>\n",
       "      <td>Through programs (including small group conver...</td>\n",
       "      <td>NaN</td>\n",
       "      <td>NaN</td>\n",
       "      <td>0.0</td>\n",
       "    </tr>\n",
       "    <tr>\n",
       "      <th>3</th>\n",
       "      <td>89999</td>\n",
       "      <td>In partnership with the American Chemical Soci...</td>\n",
       "      <td>NaN</td>\n",
       "      <td>NaN</td>\n",
       "      <td>0.0</td>\n",
       "    </tr>\n",
       "    <tr>\n",
       "      <th>4</th>\n",
       "      <td>90001</td>\n",
       "      <td>The Center for Molecular Interfacing (CMI) wil...</td>\n",
       "      <td>NaN</td>\n",
       "      <td>NaN</td>\n",
       "      <td>0.0</td>\n",
       "    </tr>\n",
       "  </tbody>\n",
       "</table>\n",
       "</div>"
      ],
      "text/plain": [
       "   PROJECT_ID                                           ABSTRACT  \\\n",
       "0       89996  This is a project to explore Game-based, Metap...   \n",
       "1       89997  Institution: Franklin Institute Science Museum...   \n",
       "2       89998  Through programs (including small group conver...   \n",
       "3       89999  In partnership with the American Chemical Soci...   \n",
       "4       90001  The Center for Molecular Interfacing (CMI) wil...   \n",
       "\n",
       "   Is it related to Big-Data label  classification  \n",
       "0                        NaN   NaN             0.0  \n",
       "1                        NaN   NaN             0.0  \n",
       "2                        NaN   NaN             0.0  \n",
       "3                        NaN   NaN             0.0  \n",
       "4                        NaN   NaN             0.0  "
      ]
     },
     "execution_count": 12,
     "metadata": {},
     "output_type": "execute_result"
    }
   ],
   "source": [
    "df_results.head()"
   ]
  },
  {
   "cell_type": "code",
   "execution_count": 13,
   "metadata": {},
   "outputs": [
    {
     "data": {
      "text/html": [
       "<div>\n",
       "<style scoped>\n",
       "    .dataframe tbody tr th:only-of-type {\n",
       "        vertical-align: middle;\n",
       "    }\n",
       "\n",
       "    .dataframe tbody tr th {\n",
       "        vertical-align: top;\n",
       "    }\n",
       "\n",
       "    .dataframe thead th {\n",
       "        text-align: right;\n",
       "    }\n",
       "</style>\n",
       "<table border=\"1\" class=\"dataframe\">\n",
       "  <thead>\n",
       "    <tr style=\"text-align: right;\">\n",
       "      <th></th>\n",
       "      <th>PROJECT_ID</th>\n",
       "      <th>ABSTRACT</th>\n",
       "      <th>Is it related to Big-Data</th>\n",
       "      <th>label</th>\n",
       "    </tr>\n",
       "  </thead>\n",
       "  <tbody>\n",
       "    <tr>\n",
       "      <th>1103485</th>\n",
       "      <td>1189983</td>\n",
       "      <td>PROJECT SUMMARY/ABSTRACT Cancer pain is still ...</td>\n",
       "      <td>1.0</td>\n",
       "      <td>Big-data</td>\n",
       "    </tr>\n",
       "    <tr>\n",
       "      <th>615012</th>\n",
       "      <td>676733</td>\n",
       "      <td>The Enabling Big Computing for Data Intensive ...</td>\n",
       "      <td>1.0</td>\n",
       "      <td>Big-data</td>\n",
       "    </tr>\n",
       "    <tr>\n",
       "      <th>1137144</th>\n",
       "      <td>1274343</td>\n",
       "      <td>In the mobile and big data era, data on human ...</td>\n",
       "      <td>1.0</td>\n",
       "      <td>Big-data</td>\n",
       "    </tr>\n",
       "    <tr>\n",
       "      <th>189763</th>\n",
       "      <td>547215</td>\n",
       "      <td>Background:  A paucity of clinical trials for ...</td>\n",
       "      <td>0.0</td>\n",
       "      <td>Non Big-data</td>\n",
       "    </tr>\n",
       "    <tr>\n",
       "      <th>223215</th>\n",
       "      <td>293390</td>\n",
       "      <td>Hematopoietic stem cell (HSC) transplantation ...</td>\n",
       "      <td>0.0</td>\n",
       "      <td>Non Big-data</td>\n",
       "    </tr>\n",
       "  </tbody>\n",
       "</table>\n",
       "</div>"
      ],
      "text/plain": [
       "         PROJECT_ID                                           ABSTRACT  \\\n",
       "1103485     1189983  PROJECT SUMMARY/ABSTRACT Cancer pain is still ...   \n",
       "615012       676733  The Enabling Big Computing for Data Intensive ...   \n",
       "1137144     1274343  In the mobile and big data era, data on human ...   \n",
       "189763       547215  Background:  A paucity of clinical trials for ...   \n",
       "223215       293390  Hematopoietic stem cell (HSC) transplantation ...   \n",
       "\n",
       "         Is it related to Big-Data         label  \n",
       "1103485                        1.0      Big-data  \n",
       "615012                         1.0      Big-data  \n",
       "1137144                        1.0      Big-data  \n",
       "189763                         0.0  Non Big-data  \n",
       "223215                         0.0  Non Big-data  "
      ]
     },
     "execution_count": 13,
     "metadata": {},
     "output_type": "execute_result"
    }
   ],
   "source": [
    "df_test.head()"
   ]
  },
  {
   "cell_type": "code",
   "execution_count": 14,
   "metadata": {},
   "outputs": [],
   "source": [
    "# filter df_results to test set PROJECT_IDs\n",
    "\n",
    "df_test_results = df_results.loc[X_test_idx]"
   ]
  },
  {
   "cell_type": "code",
   "execution_count": 15,
   "metadata": {},
   "outputs": [
    {
     "data": {
      "text/html": [
       "<div>\n",
       "<style scoped>\n",
       "    .dataframe tbody tr th:only-of-type {\n",
       "        vertical-align: middle;\n",
       "    }\n",
       "\n",
       "    .dataframe tbody tr th {\n",
       "        vertical-align: top;\n",
       "    }\n",
       "\n",
       "    .dataframe thead th {\n",
       "        text-align: right;\n",
       "    }\n",
       "</style>\n",
       "<table border=\"1\" class=\"dataframe\">\n",
       "  <thead>\n",
       "    <tr style=\"text-align: right;\">\n",
       "      <th></th>\n",
       "      <th>PROJECT_ID</th>\n",
       "      <th>ABSTRACT</th>\n",
       "      <th>Is it related to Big-Data</th>\n",
       "      <th>label</th>\n",
       "      <th>classification</th>\n",
       "    </tr>\n",
       "  </thead>\n",
       "  <tbody>\n",
       "    <tr>\n",
       "      <th>1103485</th>\n",
       "      <td>1189983</td>\n",
       "      <td>PROJECT SUMMARY/ABSTRACT Cancer pain is still ...</td>\n",
       "      <td>1.0</td>\n",
       "      <td>Big-data</td>\n",
       "      <td>0.0</td>\n",
       "    </tr>\n",
       "    <tr>\n",
       "      <th>615012</th>\n",
       "      <td>676733</td>\n",
       "      <td>The Enabling Big Computing for Data Intensive ...</td>\n",
       "      <td>1.0</td>\n",
       "      <td>Big-data</td>\n",
       "      <td>1.0</td>\n",
       "    </tr>\n",
       "    <tr>\n",
       "      <th>1137144</th>\n",
       "      <td>1274343</td>\n",
       "      <td>In the mobile and big data era, data on human ...</td>\n",
       "      <td>1.0</td>\n",
       "      <td>Big-data</td>\n",
       "      <td>1.0</td>\n",
       "    </tr>\n",
       "    <tr>\n",
       "      <th>189763</th>\n",
       "      <td>547215</td>\n",
       "      <td>Background:  A paucity of clinical trials for ...</td>\n",
       "      <td>0.0</td>\n",
       "      <td>Non Big-data</td>\n",
       "      <td>0.0</td>\n",
       "    </tr>\n",
       "    <tr>\n",
       "      <th>223215</th>\n",
       "      <td>293390</td>\n",
       "      <td>Hematopoietic stem cell (HSC) transplantation ...</td>\n",
       "      <td>0.0</td>\n",
       "      <td>Non Big-data</td>\n",
       "      <td>0.0</td>\n",
       "    </tr>\n",
       "  </tbody>\n",
       "</table>\n",
       "</div>"
      ],
      "text/plain": [
       "         PROJECT_ID                                           ABSTRACT  \\\n",
       "1103485     1189983  PROJECT SUMMARY/ABSTRACT Cancer pain is still ...   \n",
       "615012       676733  The Enabling Big Computing for Data Intensive ...   \n",
       "1137144     1274343  In the mobile and big data era, data on human ...   \n",
       "189763       547215  Background:  A paucity of clinical trials for ...   \n",
       "223215       293390  Hematopoietic stem cell (HSC) transplantation ...   \n",
       "\n",
       "         Is it related to Big-Data         label  classification  \n",
       "1103485                        1.0      Big-data             0.0  \n",
       "615012                         1.0      Big-data             1.0  \n",
       "1137144                        1.0      Big-data             1.0  \n",
       "189763                         0.0  Non Big-data             0.0  \n",
       "223215                         0.0  Non Big-data             0.0  "
      ]
     },
     "execution_count": 15,
     "metadata": {},
     "output_type": "execute_result"
    }
   ],
   "source": [
    "df_test_results.head()"
   ]
  },
  {
   "cell_type": "code",
   "execution_count": 16,
   "metadata": {},
   "outputs": [],
   "source": [
    "df_test_results[\"predicted_label\"] = \"Big-data\""
   ]
  },
  {
   "cell_type": "code",
   "execution_count": 17,
   "metadata": {},
   "outputs": [],
   "source": [
    "df_test_results.loc[df_test_results[\"classification\"] == 0.0, \"predicted_label\"] = \"Non Big-data\""
   ]
  },
  {
   "cell_type": "code",
   "execution_count": 18,
   "metadata": {},
   "outputs": [
    {
     "data": {
      "text/html": [
       "<div>\n",
       "<style scoped>\n",
       "    .dataframe tbody tr th:only-of-type {\n",
       "        vertical-align: middle;\n",
       "    }\n",
       "\n",
       "    .dataframe tbody tr th {\n",
       "        vertical-align: top;\n",
       "    }\n",
       "\n",
       "    .dataframe thead th {\n",
       "        text-align: right;\n",
       "    }\n",
       "</style>\n",
       "<table border=\"1\" class=\"dataframe\">\n",
       "  <thead>\n",
       "    <tr style=\"text-align: right;\">\n",
       "      <th></th>\n",
       "      <th>PROJECT_ID</th>\n",
       "      <th>ABSTRACT</th>\n",
       "      <th>Is it related to Big-Data</th>\n",
       "      <th>label</th>\n",
       "      <th>classification</th>\n",
       "      <th>predicted_label</th>\n",
       "    </tr>\n",
       "  </thead>\n",
       "  <tbody>\n",
       "    <tr>\n",
       "      <th>1103485</th>\n",
       "      <td>1189983</td>\n",
       "      <td>PROJECT SUMMARY/ABSTRACT Cancer pain is still ...</td>\n",
       "      <td>1.0</td>\n",
       "      <td>Big-data</td>\n",
       "      <td>0.0</td>\n",
       "      <td>Non Big-data</td>\n",
       "    </tr>\n",
       "    <tr>\n",
       "      <th>615012</th>\n",
       "      <td>676733</td>\n",
       "      <td>The Enabling Big Computing for Data Intensive ...</td>\n",
       "      <td>1.0</td>\n",
       "      <td>Big-data</td>\n",
       "      <td>1.0</td>\n",
       "      <td>Big-data</td>\n",
       "    </tr>\n",
       "    <tr>\n",
       "      <th>1137144</th>\n",
       "      <td>1274343</td>\n",
       "      <td>In the mobile and big data era, data on human ...</td>\n",
       "      <td>1.0</td>\n",
       "      <td>Big-data</td>\n",
       "      <td>1.0</td>\n",
       "      <td>Big-data</td>\n",
       "    </tr>\n",
       "    <tr>\n",
       "      <th>189763</th>\n",
       "      <td>547215</td>\n",
       "      <td>Background:  A paucity of clinical trials for ...</td>\n",
       "      <td>0.0</td>\n",
       "      <td>Non Big-data</td>\n",
       "      <td>0.0</td>\n",
       "      <td>Non Big-data</td>\n",
       "    </tr>\n",
       "    <tr>\n",
       "      <th>223215</th>\n",
       "      <td>293390</td>\n",
       "      <td>Hematopoietic stem cell (HSC) transplantation ...</td>\n",
       "      <td>0.0</td>\n",
       "      <td>Non Big-data</td>\n",
       "      <td>0.0</td>\n",
       "      <td>Non Big-data</td>\n",
       "    </tr>\n",
       "  </tbody>\n",
       "</table>\n",
       "</div>"
      ],
      "text/plain": [
       "         PROJECT_ID                                           ABSTRACT  \\\n",
       "1103485     1189983  PROJECT SUMMARY/ABSTRACT Cancer pain is still ...   \n",
       "615012       676733  The Enabling Big Computing for Data Intensive ...   \n",
       "1137144     1274343  In the mobile and big data era, data on human ...   \n",
       "189763       547215  Background:  A paucity of clinical trials for ...   \n",
       "223215       293390  Hematopoietic stem cell (HSC) transplantation ...   \n",
       "\n",
       "         Is it related to Big-Data         label  classification  \\\n",
       "1103485                        1.0      Big-data             0.0   \n",
       "615012                         1.0      Big-data             1.0   \n",
       "1137144                        1.0      Big-data             1.0   \n",
       "189763                         0.0  Non Big-data             0.0   \n",
       "223215                         0.0  Non Big-data             0.0   \n",
       "\n",
       "        predicted_label  \n",
       "1103485    Non Big-data  \n",
       "615012         Big-data  \n",
       "1137144        Big-data  \n",
       "189763     Non Big-data  \n",
       "223215     Non Big-data  "
      ]
     },
     "execution_count": 18,
     "metadata": {},
     "output_type": "execute_result"
    }
   ],
   "source": [
    "df_test_results.head()"
   ]
  },
  {
   "cell_type": "code",
   "execution_count": 19,
   "metadata": {},
   "outputs": [
    {
     "data": {
      "text/plain": [
       "0.0    131\n",
       "1.0     29\n",
       "Name: classification, dtype: int64"
      ]
     },
     "execution_count": 19,
     "metadata": {},
     "output_type": "execute_result"
    }
   ],
   "source": [
    "df_test_results[\"classification\"].value_counts()"
   ]
  },
  {
   "cell_type": "code",
   "execution_count": 20,
   "metadata": {},
   "outputs": [
    {
     "data": {
      "text/plain": [
       "Non Big-data    131\n",
       "Big-data         29\n",
       "Name: predicted_label, dtype: int64"
      ]
     },
     "execution_count": 20,
     "metadata": {},
     "output_type": "execute_result"
    }
   ],
   "source": [
    "df_test_results[\"predicted_label\"].value_counts()"
   ]
  },
  {
   "cell_type": "code",
   "execution_count": null,
   "metadata": {},
   "outputs": [],
   "source": []
  },
  {
   "cell_type": "code",
   "execution_count": null,
   "metadata": {},
   "outputs": [],
   "source": []
  },
  {
   "cell_type": "code",
   "execution_count": 21,
   "metadata": {},
   "outputs": [
    {
     "name": "stdout",
     "output_type": "stream",
     "text": [
      "[[28 38]\n",
      " [ 1 93]]\n",
      "              precision    recall  f1-score   support\n",
      "\n",
      "    Big-data       0.97      0.42      0.59        66\n",
      "Non Big-data       0.71      0.99      0.83        94\n",
      "\n",
      "    accuracy                           0.76       160\n",
      "   macro avg       0.84      0.71      0.71       160\n",
      "weighted avg       0.82      0.76      0.73       160\n",
      "\n"
     ]
    }
   ],
   "source": [
    "# Classifier performance\n",
    "confusion = confusion_matrix(df_test_results['label'], df_test_results['predicted_label'])\n",
    "print(confusion)\n",
    "print(classification_report(df_test_results['label'], df_test_results['predicted_label']))"
   ]
  },
  {
   "cell_type": "code",
   "execution_count": 22,
   "metadata": {},
   "outputs": [
    {
     "data": {
      "image/png": "[encoded data removed]",
      "text/plain": [
       "<Figure size 432x288 with 2 Axes>"
      ]
     },
     "metadata": {},
     "output_type": "display_data"
    }
   ],
   "source": [
    "## Display the visualization of the Confusion Matrix.\n",
    "\n",
    "sns.set(font_scale=1.4)\n",
    "ax = sns.heatmap(confusion, annot=True, fmt=\"\", cmap='Blues', xticklabels=[\"Big Data\", \"Not Big Data\"], \n",
    "            annot_kws={\"fontsize\":20})\n",
    "plt.title('BERT as a Classifier\\n Confusion Matrix \\n') \n",
    "plt.xlabel('\\nPredicted Values')\n",
    "plt.ylabel('Actual Values') \n",
    "ax.set_yticklabels(['Big Data', 'Not Big Data'], va='center', rotation = 90) #position=(0,0.28))\n",
    "\n",
    "plt.savefig('figures/bert_as_classifier.png', bbox_inches='tight')\n",
    "plt.show()"
   ]
  },
  {
   "cell_type": "code",
   "execution_count": null,
   "metadata": {},
   "outputs": [],
   "source": []
  },
  {
   "cell_type": "code",
   "execution_count": null,
   "metadata": {},
   "outputs": [],
   "source": []
  },
  {
   "cell_type": "markdown",
   "metadata": {},
   "source": [
    "### SVM with BERT - best classifier - Calculate dollar amounts"
   ]
  },
  {
   "cell_type": "code",
   "execution_count": 2,
   "metadata": {},
   "outputs": [
    {
     "name": "stdout",
     "output_type": "stream",
     "text": [
      "(1143869, 30)\n"
     ]
    }
   ],
   "source": [
    "#data frame with all of the abstracts\n",
    "df = pd.read_pickle(\"../../../../data/prd/Paper/FR_meta_and_final_tokens_23DEC21.pkl\")\n",
    "df.reset_index(inplace = True, drop = True)\n",
    "print(df.shape)"
   ]
  },
  {
   "cell_type": "code",
   "execution_count": 3,
   "metadata": {},
   "outputs": [
    {
     "data": {
      "text/plain": [
       "PROJECT_ID                     object\n",
       "ABSTRACT                       object\n",
       "PROJECT_TERMS                  object\n",
       "PROJECT_TITLE                  object\n",
       "DEPARTMENT                     object\n",
       "AGENCY                         object\n",
       "IC_CENTER                      object\n",
       "PROJECT_NUMBER                 object\n",
       "PROJECT_START_DATE             object\n",
       "PROJECT_END_DATE               object\n",
       "CONTACT_PI_PROJECT_LEADER      object\n",
       "OTHER_PIS                      object\n",
       "CONGRESSIONAL_DISTRICT         object\n",
       "DUNS_NUMBER                    object\n",
       "ORGANIZATION_NAME              object\n",
       "ORGANIZATION_CITY              object\n",
       "ORGANIZATION_STATE             object\n",
       "ORGANIZATION_ZIP               object\n",
       "ORGANIZATION_COUNTRY           object\n",
       "BUDGET_START_DATE              object\n",
       "BUDGET_END_DATE                object\n",
       "CFDA_CODE                      object\n",
       "FY                             object\n",
       "FY_TOTAL_COST                 float64\n",
       "FY_TOTAL_COST_SUB_PROJECTS    float64\n",
       "ORG_COUNT                       int64\n",
       "PI_COUNT                        int64\n",
       "FY_TOTAL_COST_SUM             float64\n",
       "NUM_RECORDS                     int64\n",
       "final_tokens                   object\n",
       "dtype: object"
      ]
     },
     "execution_count": 3,
     "metadata": {},
     "output_type": "execute_result"
    }
   ],
   "source": [
    "df.dtypes"
   ]
  },
  {
   "cell_type": "code",
   "execution_count": 4,
   "metadata": {},
   "outputs": [
    {
     "name": "stdout",
     "output_type": "stream",
     "text": [
      "(1143869, 10)\n"
     ]
    }
   ],
   "source": [
    "df_results = pd.read_csv(\"/project/biocomplexity/sdad/projects_data/ncses/prd/Digital_abstract_labelled/big_data/bert_new_training_set.csv\")\n",
    "print(df_results.shape)"
   ]
  },
  {
   "cell_type": "code",
   "execution_count": 5,
   "metadata": {},
   "outputs": [
    {
     "data": {
      "text/plain": [
       "Unnamed: 0                     int64\n",
       "PROJECT_ID                     int64\n",
       "ABSTRACT                      object\n",
       "Is it related to Big-Data    float64\n",
       "label                         object\n",
       "Prediction_KNN                object\n",
       "Prediction_SVM                object\n",
       "Prediction_DT                 object\n",
       "Prediction_RF                 object\n",
       "Prediction_NN                 object\n",
       "dtype: object"
      ]
     },
     "execution_count": 5,
     "metadata": {},
     "output_type": "execute_result"
    }
   ],
   "source": [
    "df_results.dtypes"
   ]
  },
  {
   "cell_type": "code",
   "execution_count": 6,
   "metadata": {},
   "outputs": [],
   "source": [
    "df_results['PROJECT_ID'] = df_results['PROJECT_ID'].astype(str)"
   ]
  },
  {
   "cell_type": "code",
   "execution_count": 7,
   "metadata": {},
   "outputs": [
    {
     "data": {
      "text/html": [
       "<div>\n",
       "<style scoped>\n",
       "    .dataframe tbody tr th:only-of-type {\n",
       "        vertical-align: middle;\n",
       "    }\n",
       "\n",
       "    .dataframe tbody tr th {\n",
       "        vertical-align: top;\n",
       "    }\n",
       "\n",
       "    .dataframe thead th {\n",
       "        text-align: right;\n",
       "    }\n",
       "</style>\n",
       "<table border=\"1\" class=\"dataframe\">\n",
       "  <thead>\n",
       "    <tr style=\"text-align: right;\">\n",
       "      <th></th>\n",
       "      <th>PROJECT_ID</th>\n",
       "      <th>ABSTRACT</th>\n",
       "      <th>PROJECT_TERMS</th>\n",
       "      <th>PROJECT_TITLE</th>\n",
       "      <th>DEPARTMENT</th>\n",
       "      <th>AGENCY</th>\n",
       "      <th>IC_CENTER</th>\n",
       "      <th>PROJECT_NUMBER</th>\n",
       "      <th>PROJECT_START_DATE</th>\n",
       "      <th>PROJECT_END_DATE</th>\n",
       "      <th>...</th>\n",
       "      <th>BUDGET_END_DATE</th>\n",
       "      <th>CFDA_CODE</th>\n",
       "      <th>FY</th>\n",
       "      <th>FY_TOTAL_COST</th>\n",
       "      <th>FY_TOTAL_COST_SUB_PROJECTS</th>\n",
       "      <th>ORG_COUNT</th>\n",
       "      <th>PI_COUNT</th>\n",
       "      <th>FY_TOTAL_COST_SUM</th>\n",
       "      <th>NUM_RECORDS</th>\n",
       "      <th>final_tokens</th>\n",
       "    </tr>\n",
       "  </thead>\n",
       "  <tbody>\n",
       "    <tr>\n",
       "      <th>0</th>\n",
       "      <td>89996</td>\n",
       "      <td>This is a project to explore Game-based, Metap...</td>\n",
       "      <td>Achievement; analog; base; Cognitive Science; ...</td>\n",
       "      <td>RUI: CYGAMES: CYBER-ENABLED TEACHING AND LEARN...</td>\n",
       "      <td>NSF</td>\n",
       "      <td>NSF</td>\n",
       "      <td>NaN</td>\n",
       "      <td>0814512</td>\n",
       "      <td>9/15/2008</td>\n",
       "      <td>8/31/2012</td>\n",
       "      <td>...</td>\n",
       "      <td>NaN</td>\n",
       "      <td>47.076</td>\n",
       "      <td>2008</td>\n",
       "      <td>1999467.0</td>\n",
       "      <td>NaN</td>\n",
       "      <td>1</td>\n",
       "      <td>1</td>\n",
       "      <td>1999467.0</td>\n",
       "      <td>1</td>\n",
       "      <td>project explore game base metaphor enhanced ga...</td>\n",
       "    </tr>\n",
       "    <tr>\n",
       "      <th>1</th>\n",
       "      <td>89997</td>\n",
       "      <td>Institution: Franklin Institute Science Museum...</td>\n",
       "      <td>Active Learning; Child; Computer software; des...</td>\n",
       "      <td>ARIEL - AUGMENTED REALITY FOR INTERPRETIVE AND...</td>\n",
       "      <td>NSF</td>\n",
       "      <td>NSF</td>\n",
       "      <td>NaN</td>\n",
       "      <td>0741659</td>\n",
       "      <td>9/15/2008</td>\n",
       "      <td>8/31/2012</td>\n",
       "      <td>...</td>\n",
       "      <td>NaN</td>\n",
       "      <td>47.076</td>\n",
       "      <td>2008</td>\n",
       "      <td>1799699.0</td>\n",
       "      <td>NaN</td>\n",
       "      <td>1</td>\n",
       "      <td>1</td>\n",
       "      <td>1799699.0</td>\n",
       "      <td>1</td>\n",
       "      <td>institution franklin institute science museum ...</td>\n",
       "    </tr>\n",
       "    <tr>\n",
       "      <th>2</th>\n",
       "      <td>89998</td>\n",
       "      <td>Through programs (including small group conver...</td>\n",
       "      <td>Address; Age; Birth; Brain; Caregivers; Child;...</td>\n",
       "      <td>BRIGHTER FUTURES: PUBLIC DELIBERATION ABOUT TH...</td>\n",
       "      <td>NSF</td>\n",
       "      <td>NSF</td>\n",
       "      <td>NaN</td>\n",
       "      <td>0813522</td>\n",
       "      <td>9/15/2008</td>\n",
       "      <td>8/31/2011</td>\n",
       "      <td>...</td>\n",
       "      <td>NaN</td>\n",
       "      <td>47.076</td>\n",
       "      <td>2008</td>\n",
       "      <td>1505858.0</td>\n",
       "      <td>NaN</td>\n",
       "      <td>1</td>\n",
       "      <td>1</td>\n",
       "      <td>1505858.0</td>\n",
       "      <td>1</td>\n",
       "      <td>program include small group conversation citiz...</td>\n",
       "    </tr>\n",
       "    <tr>\n",
       "      <th>3</th>\n",
       "      <td>89999</td>\n",
       "      <td>In partnership with the American Chemical Soci...</td>\n",
       "      <td>Advanced Development; American; Chemicals; Che...</td>\n",
       "      <td>FOSTERING US-INTERNATIONAL COLLABORATIVE PARTN...</td>\n",
       "      <td>NSF</td>\n",
       "      <td>NSF</td>\n",
       "      <td>NaN</td>\n",
       "      <td>0838627</td>\n",
       "      <td>8/1/2008</td>\n",
       "      <td>12/31/2010</td>\n",
       "      <td>...</td>\n",
       "      <td>NaN</td>\n",
       "      <td>47.049</td>\n",
       "      <td>2008</td>\n",
       "      <td>51000.0</td>\n",
       "      <td>NaN</td>\n",
       "      <td>1</td>\n",
       "      <td>1</td>\n",
       "      <td>51000.0</td>\n",
       "      <td>1</td>\n",
       "      <td>partnership american chemical society acs nati...</td>\n",
       "    </tr>\n",
       "    <tr>\n",
       "      <th>4</th>\n",
       "      <td>90001</td>\n",
       "      <td>The Center for Molecular Interfacing (CMI) wil...</td>\n",
       "      <td>Address; Architecture; Carbon Nanotubes; Catal...</td>\n",
       "      <td>CCI PHASE I: CENTER FOR MOLECULAR INTERFACING</td>\n",
       "      <td>NSF</td>\n",
       "      <td>NSF</td>\n",
       "      <td>NaN</td>\n",
       "      <td>0847926</td>\n",
       "      <td>10/1/2008</td>\n",
       "      <td>9/30/2011</td>\n",
       "      <td>...</td>\n",
       "      <td>NaN</td>\n",
       "      <td>47.049</td>\n",
       "      <td>2008</td>\n",
       "      <td>1519821.0</td>\n",
       "      <td>NaN</td>\n",
       "      <td>1</td>\n",
       "      <td>1</td>\n",
       "      <td>1519821.0</td>\n",
       "      <td>1</td>\n",
       "      <td>center molecular interfacing cmi enable integr...</td>\n",
       "    </tr>\n",
       "  </tbody>\n",
       "</table>\n",
       "<p>5 rows × 30 columns</p>\n",
       "</div>"
      ],
      "text/plain": [
       "  PROJECT_ID                                           ABSTRACT  \\\n",
       "0      89996  This is a project to explore Game-based, Metap...   \n",
       "1      89997  Institution: Franklin Institute Science Museum...   \n",
       "2      89998  Through programs (including small group conver...   \n",
       "3      89999  In partnership with the American Chemical Soci...   \n",
       "4      90001  The Center for Molecular Interfacing (CMI) wil...   \n",
       "\n",
       "                                       PROJECT_TERMS  \\\n",
       "0  Achievement; analog; base; Cognitive Science; ...   \n",
       "1  Active Learning; Child; Computer software; des...   \n",
       "2  Address; Age; Birth; Brain; Caregivers; Child;...   \n",
       "3  Advanced Development; American; Chemicals; Che...   \n",
       "4  Address; Architecture; Carbon Nanotubes; Catal...   \n",
       "\n",
       "                                       PROJECT_TITLE DEPARTMENT AGENCY  \\\n",
       "0  RUI: CYGAMES: CYBER-ENABLED TEACHING AND LEARN...        NSF    NSF   \n",
       "1  ARIEL - AUGMENTED REALITY FOR INTERPRETIVE AND...        NSF    NSF   \n",
       "2  BRIGHTER FUTURES: PUBLIC DELIBERATION ABOUT TH...        NSF    NSF   \n",
       "3  FOSTERING US-INTERNATIONAL COLLABORATIVE PARTN...        NSF    NSF   \n",
       "4      CCI PHASE I: CENTER FOR MOLECULAR INTERFACING        NSF    NSF   \n",
       "\n",
       "  IC_CENTER PROJECT_NUMBER PROJECT_START_DATE PROJECT_END_DATE  ...  \\\n",
       "0       NaN        0814512          9/15/2008        8/31/2012  ...   \n",
       "1       NaN        0741659          9/15/2008        8/31/2012  ...   \n",
       "2       NaN        0813522          9/15/2008        8/31/2011  ...   \n",
       "3       NaN        0838627           8/1/2008       12/31/2010  ...   \n",
       "4       NaN        0847926          10/1/2008        9/30/2011  ...   \n",
       "\n",
       "  BUDGET_END_DATE CFDA_CODE    FY FY_TOTAL_COST FY_TOTAL_COST_SUB_PROJECTS  \\\n",
       "0             NaN    47.076  2008     1999467.0                        NaN   \n",
       "1             NaN    47.076  2008     1799699.0                        NaN   \n",
       "2             NaN    47.076  2008     1505858.0                        NaN   \n",
       "3             NaN    47.049  2008       51000.0                        NaN   \n",
       "4             NaN    47.049  2008     1519821.0                        NaN   \n",
       "\n",
       "  ORG_COUNT PI_COUNT FY_TOTAL_COST_SUM NUM_RECORDS  \\\n",
       "0         1        1         1999467.0           1   \n",
       "1         1        1         1799699.0           1   \n",
       "2         1        1         1505858.0           1   \n",
       "3         1        1           51000.0           1   \n",
       "4         1        1         1519821.0           1   \n",
       "\n",
       "                                        final_tokens  \n",
       "0  project explore game base metaphor enhanced ga...  \n",
       "1  institution franklin institute science museum ...  \n",
       "2  program include small group conversation citiz...  \n",
       "3  partnership american chemical society acs nati...  \n",
       "4  center molecular interfacing cmi enable integr...  \n",
       "\n",
       "[5 rows x 30 columns]"
      ]
     },
     "execution_count": 7,
     "metadata": {},
     "output_type": "execute_result"
    }
   ],
   "source": [
    "df.head()"
   ]
  },
  {
   "cell_type": "code",
   "execution_count": 8,
   "metadata": {},
   "outputs": [
    {
     "data": {
      "text/html": [
       "<div>\n",
       "<style scoped>\n",
       "    .dataframe tbody tr th:only-of-type {\n",
       "        vertical-align: middle;\n",
       "    }\n",
       "\n",
       "    .dataframe tbody tr th {\n",
       "        vertical-align: top;\n",
       "    }\n",
       "\n",
       "    .dataframe thead th {\n",
       "        text-align: right;\n",
       "    }\n",
       "</style>\n",
       "<table border=\"1\" class=\"dataframe\">\n",
       "  <thead>\n",
       "    <tr style=\"text-align: right;\">\n",
       "      <th></th>\n",
       "      <th>Unnamed: 0</th>\n",
       "      <th>PROJECT_ID</th>\n",
       "      <th>ABSTRACT</th>\n",
       "      <th>Is it related to Big-Data</th>\n",
       "      <th>label</th>\n",
       "      <th>Prediction_KNN</th>\n",
       "      <th>Prediction_SVM</th>\n",
       "      <th>Prediction_DT</th>\n",
       "      <th>Prediction_RF</th>\n",
       "      <th>Prediction_NN</th>\n",
       "    </tr>\n",
       "  </thead>\n",
       "  <tbody>\n",
       "    <tr>\n",
       "      <th>0</th>\n",
       "      <td>0</td>\n",
       "      <td>89996</td>\n",
       "      <td>This is a project to explore Game-based, Metap...</td>\n",
       "      <td>NaN</td>\n",
       "      <td>NaN</td>\n",
       "      <td>Non Big-data</td>\n",
       "      <td>Non Big-data</td>\n",
       "      <td>Non Big-data</td>\n",
       "      <td>Non Big-data</td>\n",
       "      <td>Non Big-data</td>\n",
       "    </tr>\n",
       "    <tr>\n",
       "      <th>1</th>\n",
       "      <td>1</td>\n",
       "      <td>89997</td>\n",
       "      <td>Institution: Franklin Institute Science Museum...</td>\n",
       "      <td>NaN</td>\n",
       "      <td>NaN</td>\n",
       "      <td>Big-data</td>\n",
       "      <td>Non Big-data</td>\n",
       "      <td>Non Big-data</td>\n",
       "      <td>Non Big-data</td>\n",
       "      <td>Non Big-data</td>\n",
       "    </tr>\n",
       "    <tr>\n",
       "      <th>2</th>\n",
       "      <td>2</td>\n",
       "      <td>89998</td>\n",
       "      <td>Through programs (including small group conver...</td>\n",
       "      <td>NaN</td>\n",
       "      <td>NaN</td>\n",
       "      <td>Non Big-data</td>\n",
       "      <td>Non Big-data</td>\n",
       "      <td>Non Big-data</td>\n",
       "      <td>Non Big-data</td>\n",
       "      <td>Non Big-data</td>\n",
       "    </tr>\n",
       "    <tr>\n",
       "      <th>3</th>\n",
       "      <td>3</td>\n",
       "      <td>89999</td>\n",
       "      <td>In partnership with the American Chemical Soci...</td>\n",
       "      <td>NaN</td>\n",
       "      <td>NaN</td>\n",
       "      <td>Non Big-data</td>\n",
       "      <td>Non Big-data</td>\n",
       "      <td>Non Big-data</td>\n",
       "      <td>Non Big-data</td>\n",
       "      <td>Non Big-data</td>\n",
       "    </tr>\n",
       "    <tr>\n",
       "      <th>4</th>\n",
       "      <td>4</td>\n",
       "      <td>90001</td>\n",
       "      <td>The Center for Molecular Interfacing (CMI) wil...</td>\n",
       "      <td>NaN</td>\n",
       "      <td>NaN</td>\n",
       "      <td>Non Big-data</td>\n",
       "      <td>Non Big-data</td>\n",
       "      <td>Big-data</td>\n",
       "      <td>Non Big-data</td>\n",
       "      <td>Non Big-data</td>\n",
       "    </tr>\n",
       "  </tbody>\n",
       "</table>\n",
       "</div>"
      ],
      "text/plain": [
       "   Unnamed: 0 PROJECT_ID                                           ABSTRACT  \\\n",
       "0           0      89996  This is a project to explore Game-based, Metap...   \n",
       "1           1      89997  Institution: Franklin Institute Science Museum...   \n",
       "2           2      89998  Through programs (including small group conver...   \n",
       "3           3      89999  In partnership with the American Chemical Soci...   \n",
       "4           4      90001  The Center for Molecular Interfacing (CMI) wil...   \n",
       "\n",
       "   Is it related to Big-Data label Prediction_KNN Prediction_SVM  \\\n",
       "0                        NaN   NaN   Non Big-data   Non Big-data   \n",
       "1                        NaN   NaN       Big-data   Non Big-data   \n",
       "2                        NaN   NaN   Non Big-data   Non Big-data   \n",
       "3                        NaN   NaN   Non Big-data   Non Big-data   \n",
       "4                        NaN   NaN   Non Big-data   Non Big-data   \n",
       "\n",
       "  Prediction_DT Prediction_RF Prediction_NN  \n",
       "0  Non Big-data  Non Big-data  Non Big-data  \n",
       "1  Non Big-data  Non Big-data  Non Big-data  \n",
       "2  Non Big-data  Non Big-data  Non Big-data  \n",
       "3  Non Big-data  Non Big-data  Non Big-data  \n",
       "4      Big-data  Non Big-data  Non Big-data  "
      ]
     },
     "execution_count": 8,
     "metadata": {},
     "output_type": "execute_result"
    }
   ],
   "source": [
    "df_results.head()"
   ]
  },
  {
   "cell_type": "code",
   "execution_count": 9,
   "metadata": {},
   "outputs": [],
   "source": [
    "df_merge = df.merge(df_results[['PROJECT_ID', 'Prediction_SVM']], how='left', on='PROJECT_ID')"
   ]
  },
  {
   "cell_type": "code",
   "execution_count": 10,
   "metadata": {},
   "outputs": [
    {
     "name": "stdout",
     "output_type": "stream",
     "text": [
      "(1143869, 31)\n"
     ]
    }
   ],
   "source": [
    "print(df_merge.shape)"
   ]
  },
  {
   "cell_type": "code",
   "execution_count": 11,
   "metadata": {},
   "outputs": [
    {
     "data": {
      "text/html": [
       "<div>\n",
       "<style scoped>\n",
       "    .dataframe tbody tr th:only-of-type {\n",
       "        vertical-align: middle;\n",
       "    }\n",
       "\n",
       "    .dataframe tbody tr th {\n",
       "        vertical-align: top;\n",
       "    }\n",
       "\n",
       "    .dataframe thead th {\n",
       "        text-align: right;\n",
       "    }\n",
       "</style>\n",
       "<table border=\"1\" class=\"dataframe\">\n",
       "  <thead>\n",
       "    <tr style=\"text-align: right;\">\n",
       "      <th></th>\n",
       "      <th>PROJECT_ID</th>\n",
       "      <th>ABSTRACT</th>\n",
       "      <th>PROJECT_TERMS</th>\n",
       "      <th>PROJECT_TITLE</th>\n",
       "      <th>DEPARTMENT</th>\n",
       "      <th>AGENCY</th>\n",
       "      <th>IC_CENTER</th>\n",
       "      <th>PROJECT_NUMBER</th>\n",
       "      <th>PROJECT_START_DATE</th>\n",
       "      <th>PROJECT_END_DATE</th>\n",
       "      <th>...</th>\n",
       "      <th>CFDA_CODE</th>\n",
       "      <th>FY</th>\n",
       "      <th>FY_TOTAL_COST</th>\n",
       "      <th>FY_TOTAL_COST_SUB_PROJECTS</th>\n",
       "      <th>ORG_COUNT</th>\n",
       "      <th>PI_COUNT</th>\n",
       "      <th>FY_TOTAL_COST_SUM</th>\n",
       "      <th>NUM_RECORDS</th>\n",
       "      <th>final_tokens</th>\n",
       "      <th>Prediction_SVM</th>\n",
       "    </tr>\n",
       "  </thead>\n",
       "  <tbody>\n",
       "    <tr>\n",
       "      <th>0</th>\n",
       "      <td>89996</td>\n",
       "      <td>This is a project to explore Game-based, Metap...</td>\n",
       "      <td>Achievement; analog; base; Cognitive Science; ...</td>\n",
       "      <td>RUI: CYGAMES: CYBER-ENABLED TEACHING AND LEARN...</td>\n",
       "      <td>NSF</td>\n",
       "      <td>NSF</td>\n",
       "      <td>NaN</td>\n",
       "      <td>0814512</td>\n",
       "      <td>9/15/2008</td>\n",
       "      <td>8/31/2012</td>\n",
       "      <td>...</td>\n",
       "      <td>47.076</td>\n",
       "      <td>2008</td>\n",
       "      <td>1999467.0</td>\n",
       "      <td>NaN</td>\n",
       "      <td>1</td>\n",
       "      <td>1</td>\n",
       "      <td>1999467.0</td>\n",
       "      <td>1</td>\n",
       "      <td>project explore game base metaphor enhanced ga...</td>\n",
       "      <td>Non Big-data</td>\n",
       "    </tr>\n",
       "    <tr>\n",
       "      <th>1</th>\n",
       "      <td>89997</td>\n",
       "      <td>Institution: Franklin Institute Science Museum...</td>\n",
       "      <td>Active Learning; Child; Computer software; des...</td>\n",
       "      <td>ARIEL - AUGMENTED REALITY FOR INTERPRETIVE AND...</td>\n",
       "      <td>NSF</td>\n",
       "      <td>NSF</td>\n",
       "      <td>NaN</td>\n",
       "      <td>0741659</td>\n",
       "      <td>9/15/2008</td>\n",
       "      <td>8/31/2012</td>\n",
       "      <td>...</td>\n",
       "      <td>47.076</td>\n",
       "      <td>2008</td>\n",
       "      <td>1799699.0</td>\n",
       "      <td>NaN</td>\n",
       "      <td>1</td>\n",
       "      <td>1</td>\n",
       "      <td>1799699.0</td>\n",
       "      <td>1</td>\n",
       "      <td>institution franklin institute science museum ...</td>\n",
       "      <td>Non Big-data</td>\n",
       "    </tr>\n",
       "    <tr>\n",
       "      <th>2</th>\n",
       "      <td>89998</td>\n",
       "      <td>Through programs (including small group conver...</td>\n",
       "      <td>Address; Age; Birth; Brain; Caregivers; Child;...</td>\n",
       "      <td>BRIGHTER FUTURES: PUBLIC DELIBERATION ABOUT TH...</td>\n",
       "      <td>NSF</td>\n",
       "      <td>NSF</td>\n",
       "      <td>NaN</td>\n",
       "      <td>0813522</td>\n",
       "      <td>9/15/2008</td>\n",
       "      <td>8/31/2011</td>\n",
       "      <td>...</td>\n",
       "      <td>47.076</td>\n",
       "      <td>2008</td>\n",
       "      <td>1505858.0</td>\n",
       "      <td>NaN</td>\n",
       "      <td>1</td>\n",
       "      <td>1</td>\n",
       "      <td>1505858.0</td>\n",
       "      <td>1</td>\n",
       "      <td>program include small group conversation citiz...</td>\n",
       "      <td>Non Big-data</td>\n",
       "    </tr>\n",
       "    <tr>\n",
       "      <th>3</th>\n",
       "      <td>89999</td>\n",
       "      <td>In partnership with the American Chemical Soci...</td>\n",
       "      <td>Advanced Development; American; Chemicals; Che...</td>\n",
       "      <td>FOSTERING US-INTERNATIONAL COLLABORATIVE PARTN...</td>\n",
       "      <td>NSF</td>\n",
       "      <td>NSF</td>\n",
       "      <td>NaN</td>\n",
       "      <td>0838627</td>\n",
       "      <td>8/1/2008</td>\n",
       "      <td>12/31/2010</td>\n",
       "      <td>...</td>\n",
       "      <td>47.049</td>\n",
       "      <td>2008</td>\n",
       "      <td>51000.0</td>\n",
       "      <td>NaN</td>\n",
       "      <td>1</td>\n",
       "      <td>1</td>\n",
       "      <td>51000.0</td>\n",
       "      <td>1</td>\n",
       "      <td>partnership american chemical society acs nati...</td>\n",
       "      <td>Non Big-data</td>\n",
       "    </tr>\n",
       "    <tr>\n",
       "      <th>4</th>\n",
       "      <td>90001</td>\n",
       "      <td>The Center for Molecular Interfacing (CMI) wil...</td>\n",
       "      <td>Address; Architecture; Carbon Nanotubes; Catal...</td>\n",
       "      <td>CCI PHASE I: CENTER FOR MOLECULAR INTERFACING</td>\n",
       "      <td>NSF</td>\n",
       "      <td>NSF</td>\n",
       "      <td>NaN</td>\n",
       "      <td>0847926</td>\n",
       "      <td>10/1/2008</td>\n",
       "      <td>9/30/2011</td>\n",
       "      <td>...</td>\n",
       "      <td>47.049</td>\n",
       "      <td>2008</td>\n",
       "      <td>1519821.0</td>\n",
       "      <td>NaN</td>\n",
       "      <td>1</td>\n",
       "      <td>1</td>\n",
       "      <td>1519821.0</td>\n",
       "      <td>1</td>\n",
       "      <td>center molecular interfacing cmi enable integr...</td>\n",
       "      <td>Non Big-data</td>\n",
       "    </tr>\n",
       "  </tbody>\n",
       "</table>\n",
       "<p>5 rows × 31 columns</p>\n",
       "</div>"
      ],
      "text/plain": [
       "  PROJECT_ID                                           ABSTRACT  \\\n",
       "0      89996  This is a project to explore Game-based, Metap...   \n",
       "1      89997  Institution: Franklin Institute Science Museum...   \n",
       "2      89998  Through programs (including small group conver...   \n",
       "3      89999  In partnership with the American Chemical Soci...   \n",
       "4      90001  The Center for Molecular Interfacing (CMI) wil...   \n",
       "\n",
       "                                       PROJECT_TERMS  \\\n",
       "0  Achievement; analog; base; Cognitive Science; ...   \n",
       "1  Active Learning; Child; Computer software; des...   \n",
       "2  Address; Age; Birth; Brain; Caregivers; Child;...   \n",
       "3  Advanced Development; American; Chemicals; Che...   \n",
       "4  Address; Architecture; Carbon Nanotubes; Catal...   \n",
       "\n",
       "                                       PROJECT_TITLE DEPARTMENT AGENCY  \\\n",
       "0  RUI: CYGAMES: CYBER-ENABLED TEACHING AND LEARN...        NSF    NSF   \n",
       "1  ARIEL - AUGMENTED REALITY FOR INTERPRETIVE AND...        NSF    NSF   \n",
       "2  BRIGHTER FUTURES: PUBLIC DELIBERATION ABOUT TH...        NSF    NSF   \n",
       "3  FOSTERING US-INTERNATIONAL COLLABORATIVE PARTN...        NSF    NSF   \n",
       "4      CCI PHASE I: CENTER FOR MOLECULAR INTERFACING        NSF    NSF   \n",
       "\n",
       "  IC_CENTER PROJECT_NUMBER PROJECT_START_DATE PROJECT_END_DATE  ... CFDA_CODE  \\\n",
       "0       NaN        0814512          9/15/2008        8/31/2012  ...    47.076   \n",
       "1       NaN        0741659          9/15/2008        8/31/2012  ...    47.076   \n",
       "2       NaN        0813522          9/15/2008        8/31/2011  ...    47.076   \n",
       "3       NaN        0838627           8/1/2008       12/31/2010  ...    47.049   \n",
       "4       NaN        0847926          10/1/2008        9/30/2011  ...    47.049   \n",
       "\n",
       "     FY FY_TOTAL_COST FY_TOTAL_COST_SUB_PROJECTS ORG_COUNT PI_COUNT  \\\n",
       "0  2008     1999467.0                        NaN         1        1   \n",
       "1  2008     1799699.0                        NaN         1        1   \n",
       "2  2008     1505858.0                        NaN         1        1   \n",
       "3  2008       51000.0                        NaN         1        1   \n",
       "4  2008     1519821.0                        NaN         1        1   \n",
       "\n",
       "  FY_TOTAL_COST_SUM NUM_RECORDS  \\\n",
       "0         1999467.0           1   \n",
       "1         1799699.0           1   \n",
       "2         1505858.0           1   \n",
       "3           51000.0           1   \n",
       "4         1519821.0           1   \n",
       "\n",
       "                                        final_tokens Prediction_SVM  \n",
       "0  project explore game base metaphor enhanced ga...   Non Big-data  \n",
       "1  institution franklin institute science museum ...   Non Big-data  \n",
       "2  program include small group conversation citiz...   Non Big-data  \n",
       "3  partnership american chemical society acs nati...   Non Big-data  \n",
       "4  center molecular interfacing cmi enable integr...   Non Big-data  \n",
       "\n",
       "[5 rows x 31 columns]"
      ]
     },
     "execution_count": 11,
     "metadata": {},
     "output_type": "execute_result"
    }
   ],
   "source": [
    "df_merge.head()"
   ]
  },
  {
   "cell_type": "code",
   "execution_count": 12,
   "metadata": {},
   "outputs": [
    {
     "data": {
      "text/plain": [
       "PROJECT_ID                         0\n",
       "ABSTRACT                           0\n",
       "PROJECT_TERMS                  46981\n",
       "PROJECT_TITLE                      1\n",
       "DEPARTMENT                         0\n",
       "AGENCY                             0\n",
       "IC_CENTER                     198070\n",
       "PROJECT_NUMBER                     0\n",
       "PROJECT_START_DATE            151060\n",
       "PROJECT_END_DATE              143183\n",
       "CONTACT_PI_PROJECT_LEADER      21828\n",
       "OTHER_PIS                     995097\n",
       "CONGRESSIONAL_DISTRICT         93555\n",
       "DUNS_NUMBER                    15185\n",
       "ORGANIZATION_NAME               1850\n",
       "ORGANIZATION_CITY              30357\n",
       "ORGANIZATION_STATE             37046\n",
       "ORGANIZATION_ZIP               70625\n",
       "ORGANIZATION_COUNTRY           30145\n",
       "BUDGET_START_DATE             258598\n",
       "BUDGET_END_DATE               258790\n",
       "CFDA_CODE                     195012\n",
       "FY                                 0\n",
       "FY_TOTAL_COST                 208196\n",
       "FY_TOTAL_COST_SUB_PROJECTS    975585\n",
       "ORG_COUNT                          0\n",
       "PI_COUNT                           0\n",
       "FY_TOTAL_COST_SUM                  0\n",
       "NUM_RECORDS                        0\n",
       "final_tokens                       0\n",
       "Prediction_SVM                     0\n",
       "dtype: int64"
      ]
     },
     "execution_count": 12,
     "metadata": {},
     "output_type": "execute_result"
    }
   ],
   "source": [
    "df_merge.isnull().sum()"
   ]
  },
  {
   "cell_type": "code",
   "execution_count": 13,
   "metadata": {},
   "outputs": [
    {
     "name": "stdout",
     "output_type": "stream",
     "text": [
      "Number of abstracts related to Big data: 49739\n"
     ]
    }
   ],
   "source": [
    "df_bigdata = df_merge[df_merge['Prediction_SVM']=='Big-data']\n",
    "print('Number of abstracts related to Big data:', len(df_bigdata))"
   ]
  },
  {
   "cell_type": "code",
   "execution_count": 24,
   "metadata": {},
   "outputs": [
    {
     "data": {
      "text/plain": [
       "4.3483126127205125"
      ]
     },
     "execution_count": 24,
     "metadata": {},
     "output_type": "execute_result"
    }
   ],
   "source": [
    "100*len(df_bigdata)/len(df)"
   ]
  },
  {
   "cell_type": "code",
   "execution_count": null,
   "metadata": {},
   "outputs": [],
   "source": []
  },
  {
   "cell_type": "code",
   "execution_count": 14,
   "metadata": {},
   "outputs": [
    {
     "data": {
      "image/png": "[encoded data removed]",
      "text/plain": [
       "<Figure size 432x288 with 1 Axes>"
      ]
     },
     "metadata": {},
     "output_type": "display_data"
    }
   ],
   "source": [
    "sns.set(font_scale=1.4)\n",
    "fig, ax = plt.subplots()\n",
    "sns.countplot(data=df_bigdata, x='FY', color='navy')\n",
    "\n",
    "ax.yaxis.set_major_formatter(StrMethodFormatter('{x:,.0f}'))\n",
    "plt.xticks(rotation=60)\n",
    "\n",
    "plt.xlabel(\"FY\")\n",
    "plt.ylabel(\"Number of Projects\")\n",
    "plt.title(\"Projects Classified as Big Data by FY\")\n",
    "\n",
    "plt.savefig(\"figures/best_results/big_data_numproj_by_year.png\", bbox_inches = \"tight\")"
   ]
  },
  {
   "cell_type": "code",
   "execution_count": 15,
   "metadata": {},
   "outputs": [
    {
     "data": {
      "image/png": "[encoded data removed]",
      "text/plain": [
       "<Figure size 432x288 with 1 Axes>"
      ]
     },
     "metadata": {},
     "output_type": "display_data"
    }
   ],
   "source": [
    "sns.set(font_scale=1.4)\n",
    "fig, ax = plt.subplots()\n",
    "sns.countplot(data=df_bigdata, x='DEPARTMENT', color='navy', order = df_bigdata['DEPARTMENT'].value_counts().index)\n",
    "\n",
    "ax.yaxis.set_major_formatter(StrMethodFormatter('{x:,.0f}'))\n",
    "plt.xticks(rotation=60)\n",
    "\n",
    "plt.xlabel(\"Agency\")\n",
    "plt.ylabel(\"Number of Projects\")\n",
    "plt.title(\"Projects Classified as Big Data by Agency\")\n",
    "\n",
    "plt.savefig(\"figures/best_results/big_data_numproj_by_agency.png\", bbox_inches = \"tight\")\n"
   ]
  },
  {
   "cell_type": "code",
   "execution_count": 16,
   "metadata": {},
   "outputs": [
    {
     "data": {
      "text/html": [
       "<div>\n",
       "<style scoped>\n",
       "    .dataframe tbody tr th:only-of-type {\n",
       "        vertical-align: middle;\n",
       "    }\n",
       "\n",
       "    .dataframe tbody tr th {\n",
       "        vertical-align: top;\n",
       "    }\n",
       "\n",
       "    .dataframe thead th {\n",
       "        text-align: right;\n",
       "    }\n",
       "</style>\n",
       "<table border=\"1\" class=\"dataframe\">\n",
       "  <thead>\n",
       "    <tr style=\"text-align: right;\">\n",
       "      <th></th>\n",
       "      <th>COST</th>\n",
       "      <th>FY</th>\n",
       "    </tr>\n",
       "    <tr>\n",
       "      <th>FY</th>\n",
       "      <th></th>\n",
       "      <th></th>\n",
       "    </tr>\n",
       "  </thead>\n",
       "  <tbody>\n",
       "    <tr>\n",
       "      <th>2008</th>\n",
       "      <td>1.370514e+09</td>\n",
       "      <td>2008</td>\n",
       "    </tr>\n",
       "    <tr>\n",
       "      <th>2009</th>\n",
       "      <td>2.142416e+09</td>\n",
       "      <td>2009</td>\n",
       "    </tr>\n",
       "    <tr>\n",
       "      <th>2010</th>\n",
       "      <td>2.006890e+09</td>\n",
       "      <td>2010</td>\n",
       "    </tr>\n",
       "    <tr>\n",
       "      <th>2011</th>\n",
       "      <td>1.440923e+09</td>\n",
       "      <td>2011</td>\n",
       "    </tr>\n",
       "    <tr>\n",
       "      <th>2012</th>\n",
       "      <td>1.439334e+09</td>\n",
       "      <td>2012</td>\n",
       "    </tr>\n",
       "    <tr>\n",
       "      <th>2013</th>\n",
       "      <td>1.831050e+09</td>\n",
       "      <td>2013</td>\n",
       "    </tr>\n",
       "    <tr>\n",
       "      <th>2014</th>\n",
       "      <td>1.903771e+09</td>\n",
       "      <td>2014</td>\n",
       "    </tr>\n",
       "    <tr>\n",
       "      <th>2015</th>\n",
       "      <td>2.161208e+09</td>\n",
       "      <td>2015</td>\n",
       "    </tr>\n",
       "    <tr>\n",
       "      <th>2016</th>\n",
       "      <td>2.413731e+09</td>\n",
       "      <td>2016</td>\n",
       "    </tr>\n",
       "    <tr>\n",
       "      <th>2017</th>\n",
       "      <td>2.456302e+09</td>\n",
       "      <td>2017</td>\n",
       "    </tr>\n",
       "    <tr>\n",
       "      <th>2018</th>\n",
       "      <td>2.685435e+09</td>\n",
       "      <td>2018</td>\n",
       "    </tr>\n",
       "    <tr>\n",
       "      <th>2019</th>\n",
       "      <td>2.939335e+09</td>\n",
       "      <td>2019</td>\n",
       "    </tr>\n",
       "    <tr>\n",
       "      <th>2020</th>\n",
       "      <td>3.130884e+09</td>\n",
       "      <td>2020</td>\n",
       "    </tr>\n",
       "  </tbody>\n",
       "</table>\n",
       "</div>"
      ],
      "text/plain": [
       "              COST    FY\n",
       "FY                      \n",
       "2008  1.370514e+09  2008\n",
       "2009  2.142416e+09  2009\n",
       "2010  2.006890e+09  2010\n",
       "2011  1.440923e+09  2011\n",
       "2012  1.439334e+09  2012\n",
       "2013  1.831050e+09  2013\n",
       "2014  1.903771e+09  2014\n",
       "2015  2.161208e+09  2015\n",
       "2016  2.413731e+09  2016\n",
       "2017  2.456302e+09  2017\n",
       "2018  2.685435e+09  2018\n",
       "2019  2.939335e+09  2019\n",
       "2020  3.130884e+09  2020"
      ]
     },
     "execution_count": 16,
     "metadata": {},
     "output_type": "execute_result"
    }
   ],
   "source": [
    "# compute dollars per year\n",
    "\n",
    "dollars_by_year = df_bigdata.groupby(['FY']).agg(COST = ('FY_TOTAL_COST_SUM', 'sum'))\n",
    "dollars_by_year['FY'] = dollars_by_year.index\n",
    "dollars_by_year"
   ]
  },
  {
   "cell_type": "code",
   "execution_count": 17,
   "metadata": {},
   "outputs": [],
   "source": [
    "dollars_by_year['COST'] = dollars_by_year['COST'].values/1000000000"
   ]
  },
  {
   "cell_type": "code",
   "execution_count": 18,
   "metadata": {},
   "outputs": [],
   "source": [
    "cb_pal = {\"blue\":'#377eb8', \"orange\":'#ff7f00', \"green\":'#4daf4a', \"pink\":'#f781bf', \"brown\":'#a65628', \n",
    "          \"purple\":'#984ea3', \"gray\":'#999999', \"red\":'#e41a1c', \"yellow\":'#dede00'}"
   ]
  },
  {
   "cell_type": "code",
   "execution_count": 22,
   "metadata": {},
   "outputs": [
    {
     "data": {
      "image/png": "[encoded data removed]",
      "text/plain": [
       "<Figure size 432x288 with 1 Axes>"
      ]
     },
     "metadata": {},
     "output_type": "display_data"
    }
   ],
   "source": [
    "sns.set(font_scale=1.4)\n",
    "fig, ax = plt.subplots()\n",
    "sns.barplot(data=dollars_by_year, x='FY', y='COST', color=cb_pal['green'])\n",
    "\n",
    "#ax.yaxis.set_major_formatter(StrMethodFormatter('{x:,.0f}'))\n",
    "plt.xticks(rotation=60)\n",
    "\n",
    "plt.xlabel(\"FY\")\n",
    "plt.ylabel(\"Total Projects Cost - USD (billions)\", fontsize=14)\n",
    "plt.title(\"Cost of Projects Classified as Big Data\");\n",
    "\n",
    "plt.savefig(\"figures/best_results/big_data_cost_by_yr.png\", bbox_inches = \"tight\")"
   ]
  },
  {
   "cell_type": "code",
   "execution_count": null,
   "metadata": {},
   "outputs": [],
   "source": []
  },
  {
   "cell_type": "code",
   "execution_count": null,
   "metadata": {},
   "outputs": [],
   "source": []
  },
  {
   "cell_type": "markdown",
   "metadata": {},
   "source": [
    "### TFIDF - KNN"
   ]
  },
  {
   "cell_type": "code",
   "execution_count": null,
   "metadata": {},
   "outputs": [],
   "source": [
    "# Count the number of projects that is Big data related\n",
    "df_bigdata = df_merge[df_merge['Prediction_KNN']=='Big-data']\n",
    "print('Number of abstracts related to Big data:', len(df_bigdata))"
   ]
  },
  {
   "cell_type": "code",
   "execution_count": 27,
   "metadata": {},
   "outputs": [
    {
     "name": "stderr",
     "output_type": "stream",
     "text": [
      "/tmp/ipykernel_78861/234042915.py:2: SettingWithCopyWarning: \n",
      "A value is trying to be set on a copy of a slice from a DataFrame.\n",
      "Try using .loc[row_indexer,col_indexer] = value instead\n",
      "\n",
      "See the caveats in the documentation: https://pandas.pydata.org/pandas-docs/stable/user_guide/indexing.html#returning-a-view-versus-a-copy\n",
      "  df_bigdata[\"FY\"] = df_bigdata[\"FY\"].astype('int')\n",
      "/tmp/ipykernel_78861/234042915.py:17: UserWarning: FixedFormatter should only be used together with FixedLocator\n",
      "  ax.set_yticklabels(['{:,}'.format(int(x)) for x in ax.get_yticks().tolist()])\n"
     ]
    },
    {
     "data": {
      "image/png": "[encoded data removed]",
      "text/plain": [
       "<Figure size 640x480 with 1 Axes>"
      ]
     },
     "metadata": {},
     "output_type": "display_data"
    }
   ],
   "source": [
    "# Distribution over time and agencies\n",
    "df_bigdata[\"FY\"] = df_bigdata[\"FY\"].astype('int')\n",
    "year_counts = df_bigdata['FY'].value_counts().sort_index(ascending=True)\n",
    "\n",
    "# Distribution\n",
    "year = year_counts.index.tolist()\n",
    "count = year_counts.values\n",
    "\n",
    "fig = plt2.figure()\n",
    "ax = fig.add_subplot(111)\n",
    "ax.set_axisbelow(True)\n",
    "plt2.grid(True, color = \"whitesmoke\")\n",
    "plt2.bar(year, count, color='navy')\n",
    "#plt.xlim(-0.7, len(year)-0.3)\n",
    "plt2.xlim(2007.3,2020.7)\n",
    "plt2.xticks(year, rotation=45)\n",
    "ax.set_yticklabels(['{:,}'.format(int(x)) for x in ax.get_yticks().tolist()])\n",
    "#x_ticks = ax.xaxis.get_major_ticks()\n",
    "#x_ticks[-1].label1.set_visible(False)\n",
    "plt2.xlabel(\"FY\")\n",
    "plt2.ylabel(\"Number of Projects\")\n",
    "plt2.title(\"Big data sample\")\n",
    "\n",
    "plt2.savefig(\"big_data_time.png\", dpi = 800, bbox_inches = \"tight\")"
   ]
  },
  {
   "cell_type": "code",
   "execution_count": 28,
   "metadata": {},
   "outputs": [
    {
     "data": {
      "image/png": "[encoded data removed]",
      "text/plain": [
       "<Figure size 640x480 with 1 Axes>"
      ]
     },
     "metadata": {},
     "output_type": "display_data"
    }
   ],
   "source": [
    "agency_counts = 100*df_bigdata[\"DEPARTMENT\"].value_counts()/len(df_bigdata)\n",
    "agency = agency_counts.index.tolist()\n",
    "count = agency_counts.values\n",
    "\n",
    "fig = plt2.figure()\n",
    "ax = fig.add_subplot(111)\n",
    "ax.set_axisbelow(True)\n",
    "plt2.grid(True, color = \"whitesmoke\")\n",
    "plt2.bar(agency, count, color='navy')\n",
    "plt2.ylim(0,100)\n",
    "plt2.xlabel(\"Agency\")\n",
    "plt2.ylabel(\"Percent of Dataset\")\n",
    "plt2.title(\"Project Distribution by Funding Agency\")\n",
    "\n",
    "plt2.savefig(\"big_data_agency.png\", dpi = 800, bbox_inches = \"tight\")"
   ]
  },
  {
   "cell_type": "code",
   "execution_count": null,
   "metadata": {},
   "outputs": [],
   "source": []
  },
  {
   "cell_type": "markdown",
   "metadata": {},
   "source": [
    "#### SVM"
   ]
  },
  {
   "cell_type": "code",
   "execution_count": 35,
   "metadata": {},
   "outputs": [
    {
     "data": {
      "text/html": [
       "<div>\n",
       "<style scoped>\n",
       "    .dataframe tbody tr th:only-of-type {\n",
       "        vertical-align: middle;\n",
       "    }\n",
       "\n",
       "    .dataframe tbody tr th {\n",
       "        vertical-align: top;\n",
       "    }\n",
       "\n",
       "    .dataframe thead th {\n",
       "        text-align: right;\n",
       "    }\n",
       "</style>\n",
       "<table border=\"1\" class=\"dataframe\">\n",
       "  <thead>\n",
       "    <tr style=\"text-align: right;\">\n",
       "      <th>Prediction_SVM</th>\n",
       "      <th>Big-data</th>\n",
       "      <th>Non Big-data</th>\n",
       "      <th>Total</th>\n",
       "    </tr>\n",
       "    <tr>\n",
       "      <th>Prediction_KNN</th>\n",
       "      <th></th>\n",
       "      <th></th>\n",
       "      <th></th>\n",
       "    </tr>\n",
       "  </thead>\n",
       "  <tbody>\n",
       "    <tr>\n",
       "      <th>Big-data</th>\n",
       "      <td>25368</td>\n",
       "      <td>421333</td>\n",
       "      <td>446701</td>\n",
       "    </tr>\n",
       "    <tr>\n",
       "      <th>Non Big-data</th>\n",
       "      <td>88</td>\n",
       "      <td>697080</td>\n",
       "      <td>697168</td>\n",
       "    </tr>\n",
       "    <tr>\n",
       "      <th>Total</th>\n",
       "      <td>25456</td>\n",
       "      <td>1118413</td>\n",
       "      <td>1143869</td>\n",
       "    </tr>\n",
       "  </tbody>\n",
       "</table>\n",
       "</div>"
      ],
      "text/plain": [
       "Prediction_SVM  Big-data  Non Big-data    Total\n",
       "Prediction_KNN                                 \n",
       "Big-data           25368        421333   446701\n",
       "Non Big-data          88        697080   697168\n",
       "Total              25456       1118413  1143869"
      ]
     },
     "execution_count": 35,
     "metadata": {},
     "output_type": "execute_result"
    }
   ],
   "source": [
    "# Cross comparision between SVM and KNN\n",
    "pd.crosstab(df_merge['Prediction_KNN'], df_merge['Prediction_SVM'], margins=True, margins_name=\"Total\")"
   ]
  },
  {
   "cell_type": "code",
   "execution_count": null,
   "metadata": {},
   "outputs": [],
   "source": []
  },
  {
   "cell_type": "markdown",
   "metadata": {},
   "source": [
    "### Decision Tree"
   ]
  },
  {
   "cell_type": "code",
   "execution_count": 41,
   "metadata": {},
   "outputs": [
    {
     "data": {
      "text/html": [
       "<div>\n",
       "<style scoped>\n",
       "    .dataframe tbody tr th:only-of-type {\n",
       "        vertical-align: middle;\n",
       "    }\n",
       "\n",
       "    .dataframe tbody tr th {\n",
       "        vertical-align: top;\n",
       "    }\n",
       "\n",
       "    .dataframe thead th {\n",
       "        text-align: right;\n",
       "    }\n",
       "</style>\n",
       "<table border=\"1\" class=\"dataframe\">\n",
       "  <thead>\n",
       "    <tr style=\"text-align: right;\">\n",
       "      <th>Prediction_SVM</th>\n",
       "      <th>Big-data</th>\n",
       "      <th>Non Big-data</th>\n",
       "      <th>Total</th>\n",
       "    </tr>\n",
       "    <tr>\n",
       "      <th>Prediction_DT</th>\n",
       "      <th></th>\n",
       "      <th></th>\n",
       "      <th></th>\n",
       "    </tr>\n",
       "  </thead>\n",
       "  <tbody>\n",
       "    <tr>\n",
       "      <th>Big-data</th>\n",
       "      <td>18697</td>\n",
       "      <td>117824</td>\n",
       "      <td>136521</td>\n",
       "    </tr>\n",
       "    <tr>\n",
       "      <th>Non Big-data</th>\n",
       "      <td>6759</td>\n",
       "      <td>1000589</td>\n",
       "      <td>1007348</td>\n",
       "    </tr>\n",
       "    <tr>\n",
       "      <th>Total</th>\n",
       "      <td>25456</td>\n",
       "      <td>1118413</td>\n",
       "      <td>1143869</td>\n",
       "    </tr>\n",
       "  </tbody>\n",
       "</table>\n",
       "</div>"
      ],
      "text/plain": [
       "Prediction_SVM  Big-data  Non Big-data    Total\n",
       "Prediction_DT                                  \n",
       "Big-data           18697        117824   136521\n",
       "Non Big-data        6759       1000589  1007348\n",
       "Total              25456       1118413  1143869"
      ]
     },
     "execution_count": 41,
     "metadata": {},
     "output_type": "execute_result"
    }
   ],
   "source": [
    "# Cross comparision between NN and SVM\n",
    "pd.crosstab(df_merge['Prediction_DT'], df_merge['Prediction_SVM'], margins=True, margins_name=\"Total\")"
   ]
  },
  {
   "cell_type": "code",
   "execution_count": 42,
   "metadata": {},
   "outputs": [
    {
     "data": {
      "text/html": [
       "<div>\n",
       "<style scoped>\n",
       "    .dataframe tbody tr th:only-of-type {\n",
       "        vertical-align: middle;\n",
       "    }\n",
       "\n",
       "    .dataframe tbody tr th {\n",
       "        vertical-align: top;\n",
       "    }\n",
       "\n",
       "    .dataframe thead th {\n",
       "        text-align: right;\n",
       "    }\n",
       "</style>\n",
       "<table border=\"1\" class=\"dataframe\">\n",
       "  <thead>\n",
       "    <tr style=\"text-align: right;\">\n",
       "      <th>Prediction_KNN</th>\n",
       "      <th>Big-data</th>\n",
       "      <th>Non Big-data</th>\n",
       "      <th>Total</th>\n",
       "    </tr>\n",
       "    <tr>\n",
       "      <th>Prediction_DT</th>\n",
       "      <th></th>\n",
       "      <th></th>\n",
       "      <th></th>\n",
       "    </tr>\n",
       "  </thead>\n",
       "  <tbody>\n",
       "    <tr>\n",
       "      <th>Big-data</th>\n",
       "      <td>87681</td>\n",
       "      <td>48840</td>\n",
       "      <td>136521</td>\n",
       "    </tr>\n",
       "    <tr>\n",
       "      <th>Non Big-data</th>\n",
       "      <td>359020</td>\n",
       "      <td>648328</td>\n",
       "      <td>1007348</td>\n",
       "    </tr>\n",
       "    <tr>\n",
       "      <th>Total</th>\n",
       "      <td>446701</td>\n",
       "      <td>697168</td>\n",
       "      <td>1143869</td>\n",
       "    </tr>\n",
       "  </tbody>\n",
       "</table>\n",
       "</div>"
      ],
      "text/plain": [
       "Prediction_KNN  Big-data  Non Big-data    Total\n",
       "Prediction_DT                                  \n",
       "Big-data           87681         48840   136521\n",
       "Non Big-data      359020        648328  1007348\n",
       "Total             446701        697168  1143869"
      ]
     },
     "execution_count": 42,
     "metadata": {},
     "output_type": "execute_result"
    }
   ],
   "source": [
    "# Cross comparision between NN and KNN\n",
    "pd.crosstab(df_merge['Prediction_DT'], df_merge['Prediction_KNN'], margins=True, margins_name=\"Total\")"
   ]
  },
  {
   "cell_type": "code",
   "execution_count": null,
   "metadata": {},
   "outputs": [],
   "source": []
  },
  {
   "cell_type": "markdown",
   "metadata": {},
   "source": [
    "### Random Forest"
   ]
  },
  {
   "cell_type": "code",
   "execution_count": 48,
   "metadata": {},
   "outputs": [
    {
     "data": {
      "text/html": [
       "<div>\n",
       "<style scoped>\n",
       "    .dataframe tbody tr th:only-of-type {\n",
       "        vertical-align: middle;\n",
       "    }\n",
       "\n",
       "    .dataframe tbody tr th {\n",
       "        vertical-align: top;\n",
       "    }\n",
       "\n",
       "    .dataframe thead th {\n",
       "        text-align: right;\n",
       "    }\n",
       "</style>\n",
       "<table border=\"1\" class=\"dataframe\">\n",
       "  <thead>\n",
       "    <tr style=\"text-align: right;\">\n",
       "      <th>Prediction_DT</th>\n",
       "      <th>Big-data</th>\n",
       "      <th>Non Big-data</th>\n",
       "      <th>Total</th>\n",
       "    </tr>\n",
       "    <tr>\n",
       "      <th>Prediction_RF</th>\n",
       "      <th></th>\n",
       "      <th></th>\n",
       "      <th></th>\n",
       "    </tr>\n",
       "  </thead>\n",
       "  <tbody>\n",
       "    <tr>\n",
       "      <th>Big-data</th>\n",
       "      <td>27126</td>\n",
       "      <td>36219</td>\n",
       "      <td>63345</td>\n",
       "    </tr>\n",
       "    <tr>\n",
       "      <th>Non Big-data</th>\n",
       "      <td>109395</td>\n",
       "      <td>971129</td>\n",
       "      <td>1080524</td>\n",
       "    </tr>\n",
       "    <tr>\n",
       "      <th>Total</th>\n",
       "      <td>136521</td>\n",
       "      <td>1007348</td>\n",
       "      <td>1143869</td>\n",
       "    </tr>\n",
       "  </tbody>\n",
       "</table>\n",
       "</div>"
      ],
      "text/plain": [
       "Prediction_DT  Big-data  Non Big-data    Total\n",
       "Prediction_RF                                 \n",
       "Big-data          27126         36219    63345\n",
       "Non Big-data     109395        971129  1080524\n",
       "Total            136521       1007348  1143869"
      ]
     },
     "execution_count": 48,
     "metadata": {},
     "output_type": "execute_result"
    }
   ],
   "source": [
    "# Cross comparision between RF and DT\n",
    "pd.crosstab(df_merge['Prediction_RF'], df_merge['Prediction_DT'], margins=True, margins_name=\"Total\")"
   ]
  },
  {
   "cell_type": "code",
   "execution_count": 49,
   "metadata": {},
   "outputs": [
    {
     "data": {
      "text/html": [
       "<div>\n",
       "<style scoped>\n",
       "    .dataframe tbody tr th:only-of-type {\n",
       "        vertical-align: middle;\n",
       "    }\n",
       "\n",
       "    .dataframe tbody tr th {\n",
       "        vertical-align: top;\n",
       "    }\n",
       "\n",
       "    .dataframe thead th {\n",
       "        text-align: right;\n",
       "    }\n",
       "</style>\n",
       "<table border=\"1\" class=\"dataframe\">\n",
       "  <thead>\n",
       "    <tr style=\"text-align: right;\">\n",
       "      <th>Prediction_SVM</th>\n",
       "      <th>Big-data</th>\n",
       "      <th>Non Big-data</th>\n",
       "      <th>Total</th>\n",
       "    </tr>\n",
       "    <tr>\n",
       "      <th>Prediction_RF</th>\n",
       "      <th></th>\n",
       "      <th></th>\n",
       "      <th></th>\n",
       "    </tr>\n",
       "  </thead>\n",
       "  <tbody>\n",
       "    <tr>\n",
       "      <th>Big-data</th>\n",
       "      <td>18586</td>\n",
       "      <td>44759</td>\n",
       "      <td>63345</td>\n",
       "    </tr>\n",
       "    <tr>\n",
       "      <th>Non Big-data</th>\n",
       "      <td>6870</td>\n",
       "      <td>1073654</td>\n",
       "      <td>1080524</td>\n",
       "    </tr>\n",
       "    <tr>\n",
       "      <th>Total</th>\n",
       "      <td>25456</td>\n",
       "      <td>1118413</td>\n",
       "      <td>1143869</td>\n",
       "    </tr>\n",
       "  </tbody>\n",
       "</table>\n",
       "</div>"
      ],
      "text/plain": [
       "Prediction_SVM  Big-data  Non Big-data    Total\n",
       "Prediction_RF                                  \n",
       "Big-data           18586         44759    63345\n",
       "Non Big-data        6870       1073654  1080524\n",
       "Total              25456       1118413  1143869"
      ]
     },
     "execution_count": 49,
     "metadata": {},
     "output_type": "execute_result"
    }
   ],
   "source": [
    "# Cross comparision between RF and SVM\n",
    "pd.crosstab(df_merge['Prediction_RF'], df_merge['Prediction_SVM'], margins=True, margins_name=\"Total\")"
   ]
  },
  {
   "cell_type": "code",
   "execution_count": 67,
   "metadata": {},
   "outputs": [
    {
     "data": {
      "text/html": [
       "<div>\n",
       "<style scoped>\n",
       "    .dataframe tbody tr th:only-of-type {\n",
       "        vertical-align: middle;\n",
       "    }\n",
       "\n",
       "    .dataframe tbody tr th {\n",
       "        vertical-align: top;\n",
       "    }\n",
       "\n",
       "    .dataframe thead th {\n",
       "        text-align: right;\n",
       "    }\n",
       "</style>\n",
       "<table border=\"1\" class=\"dataframe\">\n",
       "  <thead>\n",
       "    <tr style=\"text-align: right;\">\n",
       "      <th>Prediction_KNN</th>\n",
       "      <th>Big-data</th>\n",
       "      <th>Non Big-data</th>\n",
       "      <th>Total</th>\n",
       "    </tr>\n",
       "    <tr>\n",
       "      <th>Prediction_RF</th>\n",
       "      <th></th>\n",
       "      <th></th>\n",
       "      <th></th>\n",
       "    </tr>\n",
       "  </thead>\n",
       "  <tbody>\n",
       "    <tr>\n",
       "      <th>Big-data</th>\n",
       "      <td>33750</td>\n",
       "      <td>2183</td>\n",
       "      <td>35933</td>\n",
       "    </tr>\n",
       "    <tr>\n",
       "      <th>Non Big-data</th>\n",
       "      <td>336756</td>\n",
       "      <td>771180</td>\n",
       "      <td>1107936</td>\n",
       "    </tr>\n",
       "    <tr>\n",
       "      <th>Total</th>\n",
       "      <td>370506</td>\n",
       "      <td>773363</td>\n",
       "      <td>1143869</td>\n",
       "    </tr>\n",
       "  </tbody>\n",
       "</table>\n",
       "</div>"
      ],
      "text/plain": [
       "Prediction_KNN  Big-data  Non Big-data    Total\n",
       "Prediction_RF                                  \n",
       "Big-data           33750          2183    35933\n",
       "Non Big-data      336756        771180  1107936\n",
       "Total             370506        773363  1143869"
      ]
     },
     "execution_count": 67,
     "metadata": {},
     "output_type": "execute_result"
    }
   ],
   "source": [
    "# Cross comparision between RF and SVM\n",
    "pd.crosstab(df_merge['Prediction_RF'], df_merge['Prediction_KNN'], margins=True, margins_name=\"Total\")"
   ]
  },
  {
   "cell_type": "code",
   "execution_count": null,
   "metadata": {},
   "outputs": [],
   "source": []
  },
  {
   "cell_type": "markdown",
   "metadata": {},
   "source": [
    "#### Neural Network"
   ]
  },
  {
   "cell_type": "code",
   "execution_count": null,
   "metadata": {},
   "outputs": [],
   "source": [
    "# Cross comparision between NN and KNN\n",
    "pd.crosstab(df_merge['Prediction_NN'], df_merge['Prediction_KNN'], margins=True, margins_name=\"Total\")"
   ]
  },
  {
   "cell_type": "code",
   "execution_count": null,
   "metadata": {},
   "outputs": [],
   "source": [
    "# Cross comparision between NN and SVM\n",
    "pd.crosstab(df_merge['Prediction_NN'], df_merge['Prediction_SVM'], margins=True, margins_name=\"Total\")"
   ]
  },
  {
   "cell_type": "code",
   "execution_count": null,
   "metadata": {},
   "outputs": [],
   "source": [
    "# Cross comparision between NN and DT\n",
    "pd.crosstab(df_merge['Prediction_NN'], df_merge['Prediction_DT'], margins=True, margins_name=\"Total\")"
   ]
  },
  {
   "cell_type": "code",
   "execution_count": null,
   "metadata": {},
   "outputs": [],
   "source": [
    "# Cross comparision between NN and RF\n",
    "pd.crosstab(df_merge['Prediction_NN'], df_merge['Prediction_RF'], margins=True, margins_name=\"Total\")"
   ]
  },
  {
   "cell_type": "code",
   "execution_count": null,
   "metadata": {},
   "outputs": [],
   "source": []
  },
  {
   "cell_type": "code",
   "execution_count": null,
   "metadata": {},
   "outputs": [],
   "source": []
  },
  {
   "cell_type": "markdown",
   "metadata": {},
   "source": [
    "## 1.7. Decision rule based on all classifiers"
   ]
  },
  {
   "cell_type": "code",
   "execution_count": null,
   "metadata": {},
   "outputs": [],
   "source": [
    "# Compute a score to be identify as big data\n",
    "df_merge = pd.read_csv(\"/project/biocomplexity/sdad/projects_data/ncses/prd/Digital_abstract_labelled/FR_final_predicted.csv\")\n",
    "df_merge['score'] = np.where(df_merge['Prediction_KNN'].str.contains(\"Non Big-data\"), 0, 1) + np.where(df_merge['Prediction_SVM'].str.contains(\"Non Big-data\"), 0, 1) + np.where(df_merge['Prediction_DT'].str.contains(\"Non Big-data\"), 0, 1) + np.where(df_merge['Prediction_RF'].str.contains(\"Non Big-data\"), 0, 1) + np.where(df_merge['Prediction_NN'].str.contains(\"Non Big-data\"), 0, 1)"
   ]
  },
  {
   "cell_type": "code",
   "execution_count": null,
   "metadata": {},
   "outputs": [],
   "source": [
    "df_merge.head()"
   ]
  },
  {
   "cell_type": "code",
   "execution_count": null,
   "metadata": {},
   "outputs": [],
   "source": [
    "# Distribution of abstracts\n",
    "df_merge['score'].value_counts()"
   ]
  },
  {
   "cell_type": "code",
   "execution_count": null,
   "metadata": {},
   "outputs": [],
   "source": [
    "# Used a rule (majority votes from classifiers) to identify Big-data abstracts. Useful because we have an impair number of classifier\n",
    "df_merge['Big_data'] = 0\n",
    "df_merge.loc[df_merge['score']>3,'Big_data'] = 1\n",
    "df_merge['Big_data'].value_counts()"
   ]
  },
  {
   "cell_type": "code",
   "execution_count": null,
   "metadata": {},
   "outputs": [],
   "source": [
    "# subset the data to big-data and save\n",
    "df_bigdata = df_merge[df_merge['Big_data']==1]\n",
    "#df_bigdata.to_csv(\"/project/biocomplexity/sdad/projects_data/ncses/prd/Digital_abstract_labelled/abstracts_classification_big_data.csv\")"
   ]
  },
  {
   "cell_type": "markdown",
   "metadata": {},
   "source": [
    "## Descriptive statistics of our Big data"
   ]
  },
  {
   "cell_type": "code",
   "execution_count": null,
   "metadata": {},
   "outputs": [],
   "source": [
    "# Distribution over time and agencies\n",
    "df_bigdata[\"FY\"] = df_bigdata[\"FY\"].astype('int')\n",
    "year_counts = df_bigdata['FY'].value_counts().sort_index(ascending=True)\n",
    "\n",
    "# Distribution\n",
    "year = year_counts.index.tolist()\n",
    "count = year_counts.values\n",
    "\n",
    "fig = plt2.figure()\n",
    "ax = fig.add_subplot(111)\n",
    "ax.set_axisbelow(True)\n",
    "plt2.grid(True, color = \"whitesmoke\")\n",
    "plt2.bar(year, count, color='navy')\n",
    "#plt.xlim(-0.7, len(year)-0.3)\n",
    "plt2.xlim(2007.3,2020.7)\n",
    "plt2.xticks(year, rotation=45)\n",
    "ax.set_yticklabels(['{:,}'.format(int(x)) for x in ax.get_yticks().tolist()])\n",
    "#x_ticks = ax.xaxis.get_major_ticks()\n",
    "#x_ticks[-1].label1.set_visible(False)\n",
    "plt2.xlabel(\"FY\")\n",
    "plt2.ylabel(\"Number of Projects\")\n",
    "plt2.title(\"Big Data Sample Over Time \\n TFIDF \\n\")\n",
    "\n",
    "plt2.savefig(\"tfidf_big_data_time.png\", dpi = 800, bbox_inches = \"tight\")"
   ]
  },
  {
   "cell_type": "code",
   "execution_count": null,
   "metadata": {},
   "outputs": [],
   "source": [
    "agency_counts = 100*df_bigdata[\"DEPARTMENT\"].value_counts()/len(df_bigdata)\n",
    "agency = agency_counts.index.tolist()\n",
    "count = agency_counts.values\n",
    "\n",
    "fig = plt2.figure()\n",
    "ax = fig.add_subplot(111)\n",
    "ax.set_axisbelow(True)\n",
    "plt2.grid(True, color = \"whitesmoke\")\n",
    "plt2.bar(agency, count, color=cb_pal['blue'])\n",
    "plt2.ylim(0,100)\n",
    "plt2.xlabel(\"Agency\")\n",
    "plt2.ylabel(\"Percent of Dataset\")\n",
    "plt2.title(\"Project Distribution by Funding Agency \\n TFIDF \\n\")\n",
    "\n",
    "plt2.savefig(\"tfidf_big_data_agency.png\", dpi = 800, bbox_inches = \"tight\")"
   ]
  },
  {
   "cell_type": "code",
   "execution_count": null,
   "metadata": {},
   "outputs": [],
   "source": []
  },
  {
   "cell_type": "code",
   "execution_count": null,
   "metadata": {},
   "outputs": [],
   "source": []
  },
  {
   "cell_type": "code",
   "execution_count": null,
   "metadata": {},
   "outputs": [],
   "source": []
  },
  {
   "cell_type": "code",
   "execution_count": null,
   "metadata": {},
   "outputs": [],
   "source": []
  }
 ],
 "metadata": {
  "kernelspec": {
   "display_name": "Python 3.8",
   "language": "python",
   "name": "python-3.8"
  },
  "language_info": {
   "codemirror_mode": {
    "name": "ipython",
    "version": 3
   },
   "file_extension": ".py",
   "mimetype": "text/x-python",
   "name": "python",
   "nbconvert_exporter": "python",
   "pygments_lexer": "ipython3",
   "version": "3.8.8"
  }
 },
 "nbformat": 4,
 "nbformat_minor": 4
}
