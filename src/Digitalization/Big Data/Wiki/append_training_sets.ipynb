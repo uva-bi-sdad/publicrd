{
 "cells": [
  {
   "cell_type": "code",
   "execution_count": 1,
   "metadata": {},
   "outputs": [],
   "source": [
    "import pandas as pd\n"
   ]
  },
  {
   "cell_type": "markdown",
   "metadata": {},
   "source": [
    "#### Read in previous labeled set"
   ]
  },
  {
   "cell_type": "code",
   "execution_count": 2,
   "metadata": {},
   "outputs": [
    {
     "data": {
      "text/plain": [
       "(1200, 8)"
      ]
     },
     "execution_count": 2,
     "metadata": {},
     "output_type": "execute_result"
    }
   ],
   "source": [
    "# get previous training and testing set \n",
    "\n",
    "df_old = pd.read_csv(\"../../../data/prd/Digital_abstract_labelled/labelled_abstracts.csv\", dtype=str)\n",
    "\n",
    "df_old.shape"
   ]
  },
  {
   "cell_type": "code",
   "execution_count": 3,
   "metadata": {},
   "outputs": [
    {
     "data": {
      "text/html": [
       "<div>\n",
       "<style scoped>\n",
       "    .dataframe tbody tr th:only-of-type {\n",
       "        vertical-align: middle;\n",
       "    }\n",
       "\n",
       "    .dataframe tbody tr th {\n",
       "        vertical-align: top;\n",
       "    }\n",
       "\n",
       "    .dataframe thead th {\n",
       "        text-align: right;\n",
       "    }\n",
       "</style>\n",
       "<table border=\"1\" class=\"dataframe\">\n",
       "  <thead>\n",
       "    <tr style=\"text-align: right;\">\n",
       "      <th></th>\n",
       "      <th>Unnamed: 0</th>\n",
       "      <th>Duplicates</th>\n",
       "      <th>index</th>\n",
       "      <th>PROJECT_ID</th>\n",
       "      <th>ABSTRACT</th>\n",
       "      <th>Is it related to Big-Data</th>\n",
       "      <th>Expert name</th>\n",
       "      <th>label</th>\n",
       "    </tr>\n",
       "  </thead>\n",
       "  <tbody>\n",
       "    <tr>\n",
       "      <th>0</th>\n",
       "      <td>0</td>\n",
       "      <td>0</td>\n",
       "      <td>979</td>\n",
       "      <td>950056</td>\n",
       "      <td>ï»¿   DESCRIPTION (provided by applicant): Adv...</td>\n",
       "      <td>1</td>\n",
       "      <td>Kristian</td>\n",
       "      <td>Big-data</td>\n",
       "    </tr>\n",
       "    <tr>\n",
       "      <th>1</th>\n",
       "      <td>1</td>\n",
       "      <td>0</td>\n",
       "      <td>816</td>\n",
       "      <td>1178172</td>\n",
       "      <td>Project Summary/AbstractThe establishment of t...</td>\n",
       "      <td>1</td>\n",
       "      <td>Kristian</td>\n",
       "      <td>Big-data</td>\n",
       "    </tr>\n",
       "    <tr>\n",
       "      <th>2</th>\n",
       "      <td>2</td>\n",
       "      <td>0</td>\n",
       "      <td>1096</td>\n",
       "      <td>163037</td>\n",
       "      <td>DESCRIPTION (provided by applicant): The long-...</td>\n",
       "      <td>0</td>\n",
       "      <td>Kristian</td>\n",
       "      <td>Non Big-data</td>\n",
       "    </tr>\n",
       "    <tr>\n",
       "      <th>3</th>\n",
       "      <td>3</td>\n",
       "      <td>0</td>\n",
       "      <td>725</td>\n",
       "      <td>880197</td>\n",
       "      <td>DESCRIPTION (provided by applicant): The most ...</td>\n",
       "      <td>0</td>\n",
       "      <td>Kristian</td>\n",
       "      <td>Non Big-data</td>\n",
       "    </tr>\n",
       "    <tr>\n",
       "      <th>4</th>\n",
       "      <td>4</td>\n",
       "      <td>0</td>\n",
       "      <td>92</td>\n",
       "      <td>887331</td>\n",
       "      <td>Transsphenoidal surgery (TSS) is the best trea...</td>\n",
       "      <td>0</td>\n",
       "      <td>Kristian</td>\n",
       "      <td>Non Big-data</td>\n",
       "    </tr>\n",
       "  </tbody>\n",
       "</table>\n",
       "</div>"
      ],
      "text/plain": [
       "  Unnamed: 0 Duplicates index PROJECT_ID  \\\n",
       "0          0          0   979     950056   \n",
       "1          1          0   816    1178172   \n",
       "2          2          0  1096     163037   \n",
       "3          3          0   725     880197   \n",
       "4          4          0    92     887331   \n",
       "\n",
       "                                            ABSTRACT  \\\n",
       "0  ï»¿   DESCRIPTION (provided by applicant): Adv...   \n",
       "1  Project Summary/AbstractThe establishment of t...   \n",
       "2  DESCRIPTION (provided by applicant): The long-...   \n",
       "3  DESCRIPTION (provided by applicant): The most ...   \n",
       "4  Transsphenoidal surgery (TSS) is the best trea...   \n",
       "\n",
       "  Is it related to Big-Data Expert name         label  \n",
       "0                         1    Kristian      Big-data  \n",
       "1                         1    Kristian      Big-data  \n",
       "2                         0    Kristian  Non Big-data  \n",
       "3                         0    Kristian  Non Big-data  \n",
       "4                         0    Kristian  Non Big-data  "
      ]
     },
     "execution_count": 3,
     "metadata": {},
     "output_type": "execute_result"
    }
   ],
   "source": [
    "df_old.head()"
   ]
  },
  {
   "cell_type": "code",
   "execution_count": 4,
   "metadata": {},
   "outputs": [],
   "source": [
    "df_old = df_old.drop(columns=[\"Unnamed: 0\"])"
   ]
  },
  {
   "cell_type": "code",
   "execution_count": 5,
   "metadata": {},
   "outputs": [
    {
     "data": {
      "text/html": [
       "<div>\n",
       "<style scoped>\n",
       "    .dataframe tbody tr th:only-of-type {\n",
       "        vertical-align: middle;\n",
       "    }\n",
       "\n",
       "    .dataframe tbody tr th {\n",
       "        vertical-align: top;\n",
       "    }\n",
       "\n",
       "    .dataframe thead th {\n",
       "        text-align: right;\n",
       "    }\n",
       "</style>\n",
       "<table border=\"1\" class=\"dataframe\">\n",
       "  <thead>\n",
       "    <tr style=\"text-align: right;\">\n",
       "      <th></th>\n",
       "      <th>Duplicates</th>\n",
       "      <th>index</th>\n",
       "      <th>PROJECT_ID</th>\n",
       "      <th>ABSTRACT</th>\n",
       "      <th>Is it related to Big-Data</th>\n",
       "      <th>Expert name</th>\n",
       "      <th>label</th>\n",
       "    </tr>\n",
       "  </thead>\n",
       "  <tbody>\n",
       "    <tr>\n",
       "      <th>0</th>\n",
       "      <td>0</td>\n",
       "      <td>979</td>\n",
       "      <td>950056</td>\n",
       "      <td>ï»¿   DESCRIPTION (provided by applicant): Adv...</td>\n",
       "      <td>1</td>\n",
       "      <td>Kristian</td>\n",
       "      <td>Big-data</td>\n",
       "    </tr>\n",
       "    <tr>\n",
       "      <th>1</th>\n",
       "      <td>0</td>\n",
       "      <td>816</td>\n",
       "      <td>1178172</td>\n",
       "      <td>Project Summary/AbstractThe establishment of t...</td>\n",
       "      <td>1</td>\n",
       "      <td>Kristian</td>\n",
       "      <td>Big-data</td>\n",
       "    </tr>\n",
       "    <tr>\n",
       "      <th>2</th>\n",
       "      <td>0</td>\n",
       "      <td>1096</td>\n",
       "      <td>163037</td>\n",
       "      <td>DESCRIPTION (provided by applicant): The long-...</td>\n",
       "      <td>0</td>\n",
       "      <td>Kristian</td>\n",
       "      <td>Non Big-data</td>\n",
       "    </tr>\n",
       "    <tr>\n",
       "      <th>3</th>\n",
       "      <td>0</td>\n",
       "      <td>725</td>\n",
       "      <td>880197</td>\n",
       "      <td>DESCRIPTION (provided by applicant): The most ...</td>\n",
       "      <td>0</td>\n",
       "      <td>Kristian</td>\n",
       "      <td>Non Big-data</td>\n",
       "    </tr>\n",
       "    <tr>\n",
       "      <th>4</th>\n",
       "      <td>0</td>\n",
       "      <td>92</td>\n",
       "      <td>887331</td>\n",
       "      <td>Transsphenoidal surgery (TSS) is the best trea...</td>\n",
       "      <td>0</td>\n",
       "      <td>Kristian</td>\n",
       "      <td>Non Big-data</td>\n",
       "    </tr>\n",
       "  </tbody>\n",
       "</table>\n",
       "</div>"
      ],
      "text/plain": [
       "  Duplicates index PROJECT_ID  \\\n",
       "0          0   979     950056   \n",
       "1          0   816    1178172   \n",
       "2          0  1096     163037   \n",
       "3          0   725     880197   \n",
       "4          0    92     887331   \n",
       "\n",
       "                                            ABSTRACT  \\\n",
       "0  ï»¿   DESCRIPTION (provided by applicant): Adv...   \n",
       "1  Project Summary/AbstractThe establishment of t...   \n",
       "2  DESCRIPTION (provided by applicant): The long-...   \n",
       "3  DESCRIPTION (provided by applicant): The most ...   \n",
       "4  Transsphenoidal surgery (TSS) is the best trea...   \n",
       "\n",
       "  Is it related to Big-Data Expert name         label  \n",
       "0                         1    Kristian      Big-data  \n",
       "1                         1    Kristian      Big-data  \n",
       "2                         0    Kristian  Non Big-data  \n",
       "3                         0    Kristian  Non Big-data  \n",
       "4                         0    Kristian  Non Big-data  "
      ]
     },
     "execution_count": 5,
     "metadata": {},
     "output_type": "execute_result"
    }
   ],
   "source": [
    "df_old.head()"
   ]
  },
  {
   "cell_type": "code",
   "execution_count": 6,
   "metadata": {},
   "outputs": [
    {
     "data": {
      "text/plain": [
       "1199"
      ]
     },
     "execution_count": 6,
     "metadata": {},
     "output_type": "execute_result"
    }
   ],
   "source": [
    "max(df_old[\"index\"].astype('int')) # index: between 0-1199"
   ]
  },
  {
   "cell_type": "code",
   "execution_count": 7,
   "metadata": {},
   "outputs": [
    {
     "data": {
      "text/plain": [
       "Duplicates                     0\n",
       "index                          0\n",
       "PROJECT_ID                     0\n",
       "ABSTRACT                       0\n",
       "Is it related to Big-Data      0\n",
       "Expert name                  100\n",
       "label                          0\n",
       "dtype: int64"
      ]
     },
     "execution_count": 7,
     "metadata": {},
     "output_type": "execute_result"
    }
   ],
   "source": [
    "df_old.isnull().sum()  # nothing missing except expert name in 100 rows - OK"
   ]
  },
  {
   "cell_type": "code",
   "execution_count": 8,
   "metadata": {},
   "outputs": [
    {
     "data": {
      "text/plain": [
       "0    711\n",
       "1    487\n",
       "o      2\n",
       "Name: Is it related to Big-Data, dtype: int64"
      ]
     },
     "execution_count": 8,
     "metadata": {},
     "output_type": "execute_result"
    }
   ],
   "source": [
    "# check labels\n",
    "\n",
    "df_old[\"Is it related to Big-Data\"].value_counts()"
   ]
  },
  {
   "cell_type": "code",
   "execution_count": 9,
   "metadata": {},
   "outputs": [],
   "source": [
    "# label mis-labeled abstracts (used o instead of 0)\n",
    "\n",
    "temp = df_old.loc[df_old[\"Is it related to Big-Data\"] == 'o']\n",
    "\n",
    "#temp[\"ABSTRACT\"].iloc[1]  # 1st abstract - 0, 2nd abstract - 0"
   ]
  },
  {
   "cell_type": "code",
   "execution_count": 10,
   "metadata": {},
   "outputs": [],
   "source": [
    "df_old.loc[df_old[\"Is it related to Big-Data\"] == 'o', \"Is it related to Big-Data\"] = '0'"
   ]
  },
  {
   "cell_type": "code",
   "execution_count": 11,
   "metadata": {},
   "outputs": [
    {
     "data": {
      "text/plain": [
       "0    713\n",
       "1    487\n",
       "Name: Is it related to Big-Data, dtype: int64"
      ]
     },
     "execution_count": 11,
     "metadata": {},
     "output_type": "execute_result"
    }
   ],
   "source": [
    "df_old[\"Is it related to Big-Data\"].value_counts()"
   ]
  },
  {
   "cell_type": "code",
   "execution_count": null,
   "metadata": {},
   "outputs": [],
   "source": []
  },
  {
   "cell_type": "markdown",
   "metadata": {},
   "source": [
    "#### Read in new labeled set and format exactly as old labeled set"
   ]
  },
  {
   "cell_type": "code",
   "execution_count": 12,
   "metadata": {},
   "outputs": [
    {
     "name": "stdout",
     "output_type": "stream",
     "text": [
      "(400, 4)\n"
     ]
    }
   ],
   "source": [
    "df_new = pd.read_excel(\"new_big_data_abstract_labeling.xlsx\", dtype=str)\n",
    "\n",
    "print(df_new.shape)"
   ]
  },
  {
   "cell_type": "code",
   "execution_count": 13,
   "metadata": {},
   "outputs": [
    {
     "data": {
      "text/html": [
       "<div>\n",
       "<style scoped>\n",
       "    .dataframe tbody tr th:only-of-type {\n",
       "        vertical-align: middle;\n",
       "    }\n",
       "\n",
       "    .dataframe tbody tr th {\n",
       "        vertical-align: top;\n",
       "    }\n",
       "\n",
       "    .dataframe thead th {\n",
       "        text-align: right;\n",
       "    }\n",
       "</style>\n",
       "<table border=\"1\" class=\"dataframe\">\n",
       "  <thead>\n",
       "    <tr style=\"text-align: right;\">\n",
       "      <th></th>\n",
       "      <th>PROJECT_ID</th>\n",
       "      <th>ABSTRACT</th>\n",
       "      <th>big data (1) or not big data (0)</th>\n",
       "      <th>Labeler Name</th>\n",
       "    </tr>\n",
       "  </thead>\n",
       "  <tbody>\n",
       "    <tr>\n",
       "      <th>0</th>\n",
       "      <td>90145</td>\n",
       "      <td>Scientists and supporters of science have long...</td>\n",
       "      <td>1</td>\n",
       "      <td>KJL</td>\n",
       "    </tr>\n",
       "    <tr>\n",
       "      <th>1</th>\n",
       "      <td>90761</td>\n",
       "      <td>ENABLING MASSIVE SCIENTIFIC DATABASES THROUGH ...</td>\n",
       "      <td>1</td>\n",
       "      <td>KJL</td>\n",
       "    </tr>\n",
       "    <tr>\n",
       "      <th>2</th>\n",
       "      <td>91282</td>\n",
       "      <td>This project addresses an important unsolved p...</td>\n",
       "      <td>0</td>\n",
       "      <td>KJL</td>\n",
       "    </tr>\n",
       "    <tr>\n",
       "      <th>3</th>\n",
       "      <td>91610</td>\n",
       "      <td>Intellectual Merit:  This project implements P...</td>\n",
       "      <td>0</td>\n",
       "      <td>KJL</td>\n",
       "    </tr>\n",
       "    <tr>\n",
       "      <th>4</th>\n",
       "      <td>92217</td>\n",
       "      <td>ANALYSIS OF THE EMPLACEMENT OF THE MARE IMBRIU...</td>\n",
       "      <td>0</td>\n",
       "      <td>KJL</td>\n",
       "    </tr>\n",
       "  </tbody>\n",
       "</table>\n",
       "</div>"
      ],
      "text/plain": [
       "  PROJECT_ID                                           ABSTRACT  \\\n",
       "0      90145  Scientists and supporters of science have long...   \n",
       "1      90761  ENABLING MASSIVE SCIENTIFIC DATABASES THROUGH ...   \n",
       "2      91282  This project addresses an important unsolved p...   \n",
       "3      91610  Intellectual Merit:  This project implements P...   \n",
       "4      92217  ANALYSIS OF THE EMPLACEMENT OF THE MARE IMBRIU...   \n",
       "\n",
       "  big data (1) or not big data (0) Labeler Name  \n",
       "0                                1          KJL  \n",
       "1                                1          KJL  \n",
       "2                                0          KJL  \n",
       "3                                0          KJL  \n",
       "4                                0          KJL  "
      ]
     },
     "execution_count": 13,
     "metadata": {},
     "output_type": "execute_result"
    }
   ],
   "source": [
    "df_new.head()"
   ]
  },
  {
   "cell_type": "code",
   "execution_count": 14,
   "metadata": {},
   "outputs": [
    {
     "data": {
      "text/plain": [
       "PROJECT_ID                          0\n",
       "ABSTRACT                            0\n",
       "big data (1) or not big data (0)    0\n",
       "Labeler Name                        0\n",
       "dtype: int64"
      ]
     },
     "execution_count": 14,
     "metadata": {},
     "output_type": "execute_result"
    }
   ],
   "source": [
    "df_new.isnull().sum()  # no abstracts were missed - good"
   ]
  },
  {
   "cell_type": "code",
   "execution_count": 15,
   "metadata": {},
   "outputs": [
    {
     "data": {
      "text/plain": [
       "1    200\n",
       "0    200\n",
       "Name: big data (1) or not big data (0), dtype: int64"
      ]
     },
     "execution_count": 15,
     "metadata": {},
     "output_type": "execute_result"
    }
   ],
   "source": [
    "df_new[\"big data (1) or not big data (0)\"].value_counts()  # all labels good"
   ]
  },
  {
   "cell_type": "code",
   "execution_count": 16,
   "metadata": {},
   "outputs": [],
   "source": [
    "df_new['Duplicates'] = 0"
   ]
  },
  {
   "cell_type": "code",
   "execution_count": 17,
   "metadata": {},
   "outputs": [],
   "source": [
    "df_new['index'] = range(0,400,1)"
   ]
  },
  {
   "cell_type": "code",
   "execution_count": 18,
   "metadata": {},
   "outputs": [
    {
     "data": {
      "text/plain": [
       "Index(['PROJECT_ID', 'ABSTRACT', 'big data (1) or not big data (0)',\n",
       "       'Labeler Name', 'Duplicates', 'index'],\n",
       "      dtype='object')"
      ]
     },
     "execution_count": 18,
     "metadata": {},
     "output_type": "execute_result"
    }
   ],
   "source": [
    "df_new.columns"
   ]
  },
  {
   "cell_type": "code",
   "execution_count": 19,
   "metadata": {},
   "outputs": [
    {
     "data": {
      "text/plain": [
       "Index(['Duplicates', 'index', 'PROJECT_ID', 'ABSTRACT',\n",
       "       'Is it related to Big-Data', 'Expert name', 'label'],\n",
       "      dtype='object')"
      ]
     },
     "execution_count": 19,
     "metadata": {},
     "output_type": "execute_result"
    }
   ],
   "source": [
    "df_old.columns"
   ]
  },
  {
   "cell_type": "code",
   "execution_count": 20,
   "metadata": {},
   "outputs": [],
   "source": [
    "df_new = df_new.rename(columns={\"big data (1) or not big data (0)\": \"Is it related to Big-Data\",\n",
    "                       \"Labeler Name\": \"Expert name\"})"
   ]
  },
  {
   "cell_type": "code",
   "execution_count": 21,
   "metadata": {},
   "outputs": [
    {
     "data": {
      "text/html": [
       "<div>\n",
       "<style scoped>\n",
       "    .dataframe tbody tr th:only-of-type {\n",
       "        vertical-align: middle;\n",
       "    }\n",
       "\n",
       "    .dataframe tbody tr th {\n",
       "        vertical-align: top;\n",
       "    }\n",
       "\n",
       "    .dataframe thead th {\n",
       "        text-align: right;\n",
       "    }\n",
       "</style>\n",
       "<table border=\"1\" class=\"dataframe\">\n",
       "  <thead>\n",
       "    <tr style=\"text-align: right;\">\n",
       "      <th></th>\n",
       "      <th>PROJECT_ID</th>\n",
       "      <th>ABSTRACT</th>\n",
       "      <th>Is it related to Big-Data</th>\n",
       "      <th>Expert name</th>\n",
       "      <th>Duplicates</th>\n",
       "      <th>index</th>\n",
       "    </tr>\n",
       "  </thead>\n",
       "  <tbody>\n",
       "    <tr>\n",
       "      <th>0</th>\n",
       "      <td>90145</td>\n",
       "      <td>Scientists and supporters of science have long...</td>\n",
       "      <td>1</td>\n",
       "      <td>KJL</td>\n",
       "      <td>0</td>\n",
       "      <td>0</td>\n",
       "    </tr>\n",
       "    <tr>\n",
       "      <th>1</th>\n",
       "      <td>90761</td>\n",
       "      <td>ENABLING MASSIVE SCIENTIFIC DATABASES THROUGH ...</td>\n",
       "      <td>1</td>\n",
       "      <td>KJL</td>\n",
       "      <td>0</td>\n",
       "      <td>1</td>\n",
       "    </tr>\n",
       "    <tr>\n",
       "      <th>2</th>\n",
       "      <td>91282</td>\n",
       "      <td>This project addresses an important unsolved p...</td>\n",
       "      <td>0</td>\n",
       "      <td>KJL</td>\n",
       "      <td>0</td>\n",
       "      <td>2</td>\n",
       "    </tr>\n",
       "    <tr>\n",
       "      <th>3</th>\n",
       "      <td>91610</td>\n",
       "      <td>Intellectual Merit:  This project implements P...</td>\n",
       "      <td>0</td>\n",
       "      <td>KJL</td>\n",
       "      <td>0</td>\n",
       "      <td>3</td>\n",
       "    </tr>\n",
       "    <tr>\n",
       "      <th>4</th>\n",
       "      <td>92217</td>\n",
       "      <td>ANALYSIS OF THE EMPLACEMENT OF THE MARE IMBRIU...</td>\n",
       "      <td>0</td>\n",
       "      <td>KJL</td>\n",
       "      <td>0</td>\n",
       "      <td>4</td>\n",
       "    </tr>\n",
       "    <tr>\n",
       "      <th>...</th>\n",
       "      <td>...</td>\n",
       "      <td>...</td>\n",
       "      <td>...</td>\n",
       "      <td>...</td>\n",
       "      <td>...</td>\n",
       "      <td>...</td>\n",
       "    </tr>\n",
       "    <tr>\n",
       "      <th>395</th>\n",
       "      <td>1290459</td>\n",
       "      <td>Extracting knowledge from data using statistic...</td>\n",
       "      <td>1</td>\n",
       "      <td>SSS</td>\n",
       "      <td>0</td>\n",
       "      <td>395</td>\n",
       "    </tr>\n",
       "    <tr>\n",
       "      <th>396</th>\n",
       "      <td>1290525</td>\n",
       "      <td>As the amount and variety of data available on...</td>\n",
       "      <td>1</td>\n",
       "      <td>SSS</td>\n",
       "      <td>0</td>\n",
       "      <td>396</td>\n",
       "    </tr>\n",
       "    <tr>\n",
       "      <th>397</th>\n",
       "      <td>1292937</td>\n",
       "      <td>By 2030, nearly 146 million connected vehicles...</td>\n",
       "      <td>1</td>\n",
       "      <td>SSS</td>\n",
       "      <td>0</td>\n",
       "      <td>397</td>\n",
       "    </tr>\n",
       "    <tr>\n",
       "      <th>398</th>\n",
       "      <td>1293276</td>\n",
       "      <td>High-performance computing (HPC) has enabled s...</td>\n",
       "      <td>1</td>\n",
       "      <td>SSS</td>\n",
       "      <td>0</td>\n",
       "      <td>398</td>\n",
       "    </tr>\n",
       "    <tr>\n",
       "      <th>399</th>\n",
       "      <td>1294135</td>\n",
       "      <td>Operator theory and matrix analysis are both f...</td>\n",
       "      <td>0</td>\n",
       "      <td>SSS</td>\n",
       "      <td>0</td>\n",
       "      <td>399</td>\n",
       "    </tr>\n",
       "  </tbody>\n",
       "</table>\n",
       "<p>400 rows × 6 columns</p>\n",
       "</div>"
      ],
      "text/plain": [
       "    PROJECT_ID                                           ABSTRACT  \\\n",
       "0        90145  Scientists and supporters of science have long...   \n",
       "1        90761  ENABLING MASSIVE SCIENTIFIC DATABASES THROUGH ...   \n",
       "2        91282  This project addresses an important unsolved p...   \n",
       "3        91610  Intellectual Merit:  This project implements P...   \n",
       "4        92217  ANALYSIS OF THE EMPLACEMENT OF THE MARE IMBRIU...   \n",
       "..         ...                                                ...   \n",
       "395    1290459  Extracting knowledge from data using statistic...   \n",
       "396    1290525  As the amount and variety of data available on...   \n",
       "397    1292937  By 2030, nearly 146 million connected vehicles...   \n",
       "398    1293276  High-performance computing (HPC) has enabled s...   \n",
       "399    1294135  Operator theory and matrix analysis are both f...   \n",
       "\n",
       "    Is it related to Big-Data Expert name  Duplicates  index  \n",
       "0                           1         KJL           0      0  \n",
       "1                           1         KJL           0      1  \n",
       "2                           0         KJL           0      2  \n",
       "3                           0         KJL           0      3  \n",
       "4                           0         KJL           0      4  \n",
       "..                        ...         ...         ...    ...  \n",
       "395                         1         SSS           0    395  \n",
       "396                         1         SSS           0    396  \n",
       "397                         1         SSS           0    397  \n",
       "398                         1         SSS           0    398  \n",
       "399                         0         SSS           0    399  \n",
       "\n",
       "[400 rows x 6 columns]"
      ]
     },
     "execution_count": 21,
     "metadata": {},
     "output_type": "execute_result"
    }
   ],
   "source": [
    "df_new"
   ]
  },
  {
   "cell_type": "code",
   "execution_count": 22,
   "metadata": {},
   "outputs": [],
   "source": [
    "# Add label\n",
    "df_new['label'] = 'Non Big-data'\n",
    "df_new.loc[df_new['Is it related to Big-Data']==\"1\",'label'] = 'Big-data'"
   ]
  },
  {
   "cell_type": "code",
   "execution_count": 23,
   "metadata": {},
   "outputs": [
    {
     "data": {
      "text/html": [
       "<div>\n",
       "<style scoped>\n",
       "    .dataframe tbody tr th:only-of-type {\n",
       "        vertical-align: middle;\n",
       "    }\n",
       "\n",
       "    .dataframe tbody tr th {\n",
       "        vertical-align: top;\n",
       "    }\n",
       "\n",
       "    .dataframe thead th {\n",
       "        text-align: right;\n",
       "    }\n",
       "</style>\n",
       "<table border=\"1\" class=\"dataframe\">\n",
       "  <thead>\n",
       "    <tr style=\"text-align: right;\">\n",
       "      <th></th>\n",
       "      <th>PROJECT_ID</th>\n",
       "      <th>ABSTRACT</th>\n",
       "      <th>Is it related to Big-Data</th>\n",
       "      <th>Expert name</th>\n",
       "      <th>Duplicates</th>\n",
       "      <th>index</th>\n",
       "      <th>label</th>\n",
       "    </tr>\n",
       "  </thead>\n",
       "  <tbody>\n",
       "    <tr>\n",
       "      <th>0</th>\n",
       "      <td>90145</td>\n",
       "      <td>Scientists and supporters of science have long...</td>\n",
       "      <td>1</td>\n",
       "      <td>KJL</td>\n",
       "      <td>0</td>\n",
       "      <td>0</td>\n",
       "      <td>Big-data</td>\n",
       "    </tr>\n",
       "    <tr>\n",
       "      <th>1</th>\n",
       "      <td>90761</td>\n",
       "      <td>ENABLING MASSIVE SCIENTIFIC DATABASES THROUGH ...</td>\n",
       "      <td>1</td>\n",
       "      <td>KJL</td>\n",
       "      <td>0</td>\n",
       "      <td>1</td>\n",
       "      <td>Big-data</td>\n",
       "    </tr>\n",
       "    <tr>\n",
       "      <th>2</th>\n",
       "      <td>91282</td>\n",
       "      <td>This project addresses an important unsolved p...</td>\n",
       "      <td>0</td>\n",
       "      <td>KJL</td>\n",
       "      <td>0</td>\n",
       "      <td>2</td>\n",
       "      <td>Non Big-data</td>\n",
       "    </tr>\n",
       "    <tr>\n",
       "      <th>3</th>\n",
       "      <td>91610</td>\n",
       "      <td>Intellectual Merit:  This project implements P...</td>\n",
       "      <td>0</td>\n",
       "      <td>KJL</td>\n",
       "      <td>0</td>\n",
       "      <td>3</td>\n",
       "      <td>Non Big-data</td>\n",
       "    </tr>\n",
       "    <tr>\n",
       "      <th>4</th>\n",
       "      <td>92217</td>\n",
       "      <td>ANALYSIS OF THE EMPLACEMENT OF THE MARE IMBRIU...</td>\n",
       "      <td>0</td>\n",
       "      <td>KJL</td>\n",
       "      <td>0</td>\n",
       "      <td>4</td>\n",
       "      <td>Non Big-data</td>\n",
       "    </tr>\n",
       "  </tbody>\n",
       "</table>\n",
       "</div>"
      ],
      "text/plain": [
       "  PROJECT_ID                                           ABSTRACT  \\\n",
       "0      90145  Scientists and supporters of science have long...   \n",
       "1      90761  ENABLING MASSIVE SCIENTIFIC DATABASES THROUGH ...   \n",
       "2      91282  This project addresses an important unsolved p...   \n",
       "3      91610  Intellectual Merit:  This project implements P...   \n",
       "4      92217  ANALYSIS OF THE EMPLACEMENT OF THE MARE IMBRIU...   \n",
       "\n",
       "  Is it related to Big-Data Expert name  Duplicates  index         label  \n",
       "0                         1         KJL           0      0      Big-data  \n",
       "1                         1         KJL           0      1      Big-data  \n",
       "2                         0         KJL           0      2  Non Big-data  \n",
       "3                         0         KJL           0      3  Non Big-data  \n",
       "4                         0         KJL           0      4  Non Big-data  "
      ]
     },
     "execution_count": 23,
     "metadata": {},
     "output_type": "execute_result"
    }
   ],
   "source": [
    "df_new.head()"
   ]
  },
  {
   "cell_type": "code",
   "execution_count": 24,
   "metadata": {},
   "outputs": [],
   "source": [
    "df_new = df_new[['Duplicates', 'index', 'PROJECT_ID', 'ABSTRACT',\n",
    "                 'Is it related to Big-Data', 'Expert name', 'label']]"
   ]
  },
  {
   "cell_type": "code",
   "execution_count": 25,
   "metadata": {},
   "outputs": [
    {
     "data": {
      "text/html": [
       "<div>\n",
       "<style scoped>\n",
       "    .dataframe tbody tr th:only-of-type {\n",
       "        vertical-align: middle;\n",
       "    }\n",
       "\n",
       "    .dataframe tbody tr th {\n",
       "        vertical-align: top;\n",
       "    }\n",
       "\n",
       "    .dataframe thead th {\n",
       "        text-align: right;\n",
       "    }\n",
       "</style>\n",
       "<table border=\"1\" class=\"dataframe\">\n",
       "  <thead>\n",
       "    <tr style=\"text-align: right;\">\n",
       "      <th></th>\n",
       "      <th>Duplicates</th>\n",
       "      <th>index</th>\n",
       "      <th>PROJECT_ID</th>\n",
       "      <th>ABSTRACT</th>\n",
       "      <th>Is it related to Big-Data</th>\n",
       "      <th>Expert name</th>\n",
       "      <th>label</th>\n",
       "    </tr>\n",
       "  </thead>\n",
       "  <tbody>\n",
       "    <tr>\n",
       "      <th>0</th>\n",
       "      <td>0</td>\n",
       "      <td>0</td>\n",
       "      <td>90145</td>\n",
       "      <td>Scientists and supporters of science have long...</td>\n",
       "      <td>1</td>\n",
       "      <td>KJL</td>\n",
       "      <td>Big-data</td>\n",
       "    </tr>\n",
       "    <tr>\n",
       "      <th>1</th>\n",
       "      <td>0</td>\n",
       "      <td>1</td>\n",
       "      <td>90761</td>\n",
       "      <td>ENABLING MASSIVE SCIENTIFIC DATABASES THROUGH ...</td>\n",
       "      <td>1</td>\n",
       "      <td>KJL</td>\n",
       "      <td>Big-data</td>\n",
       "    </tr>\n",
       "    <tr>\n",
       "      <th>2</th>\n",
       "      <td>0</td>\n",
       "      <td>2</td>\n",
       "      <td>91282</td>\n",
       "      <td>This project addresses an important unsolved p...</td>\n",
       "      <td>0</td>\n",
       "      <td>KJL</td>\n",
       "      <td>Non Big-data</td>\n",
       "    </tr>\n",
       "    <tr>\n",
       "      <th>3</th>\n",
       "      <td>0</td>\n",
       "      <td>3</td>\n",
       "      <td>91610</td>\n",
       "      <td>Intellectual Merit:  This project implements P...</td>\n",
       "      <td>0</td>\n",
       "      <td>KJL</td>\n",
       "      <td>Non Big-data</td>\n",
       "    </tr>\n",
       "    <tr>\n",
       "      <th>4</th>\n",
       "      <td>0</td>\n",
       "      <td>4</td>\n",
       "      <td>92217</td>\n",
       "      <td>ANALYSIS OF THE EMPLACEMENT OF THE MARE IMBRIU...</td>\n",
       "      <td>0</td>\n",
       "      <td>KJL</td>\n",
       "      <td>Non Big-data</td>\n",
       "    </tr>\n",
       "  </tbody>\n",
       "</table>\n",
       "</div>"
      ],
      "text/plain": [
       "   Duplicates  index PROJECT_ID  \\\n",
       "0           0      0      90145   \n",
       "1           0      1      90761   \n",
       "2           0      2      91282   \n",
       "3           0      3      91610   \n",
       "4           0      4      92217   \n",
       "\n",
       "                                            ABSTRACT  \\\n",
       "0  Scientists and supporters of science have long...   \n",
       "1  ENABLING MASSIVE SCIENTIFIC DATABASES THROUGH ...   \n",
       "2  This project addresses an important unsolved p...   \n",
       "3  Intellectual Merit:  This project implements P...   \n",
       "4  ANALYSIS OF THE EMPLACEMENT OF THE MARE IMBRIU...   \n",
       "\n",
       "  Is it related to Big-Data Expert name         label  \n",
       "0                         1         KJL      Big-data  \n",
       "1                         1         KJL      Big-data  \n",
       "2                         0         KJL  Non Big-data  \n",
       "3                         0         KJL  Non Big-data  \n",
       "4                         0         KJL  Non Big-data  "
      ]
     },
     "execution_count": 25,
     "metadata": {},
     "output_type": "execute_result"
    }
   ],
   "source": [
    "df_new.head()"
   ]
  },
  {
   "cell_type": "code",
   "execution_count": null,
   "metadata": {},
   "outputs": [],
   "source": []
  },
  {
   "cell_type": "markdown",
   "metadata": {},
   "source": [
    "#### Concatenate old and new labeled sets"
   ]
  },
  {
   "cell_type": "code",
   "execution_count": 26,
   "metadata": {},
   "outputs": [],
   "source": [
    "df = pd.concat([df_old, df_new], ignore_index = True)"
   ]
  },
  {
   "cell_type": "code",
   "execution_count": 27,
   "metadata": {},
   "outputs": [
    {
     "data": {
      "text/html": [
       "<div>\n",
       "<style scoped>\n",
       "    .dataframe tbody tr th:only-of-type {\n",
       "        vertical-align: middle;\n",
       "    }\n",
       "\n",
       "    .dataframe tbody tr th {\n",
       "        vertical-align: top;\n",
       "    }\n",
       "\n",
       "    .dataframe thead th {\n",
       "        text-align: right;\n",
       "    }\n",
       "</style>\n",
       "<table border=\"1\" class=\"dataframe\">\n",
       "  <thead>\n",
       "    <tr style=\"text-align: right;\">\n",
       "      <th></th>\n",
       "      <th>Duplicates</th>\n",
       "      <th>index</th>\n",
       "      <th>PROJECT_ID</th>\n",
       "      <th>ABSTRACT</th>\n",
       "      <th>Is it related to Big-Data</th>\n",
       "      <th>Expert name</th>\n",
       "      <th>label</th>\n",
       "    </tr>\n",
       "  </thead>\n",
       "  <tbody>\n",
       "    <tr>\n",
       "      <th>0</th>\n",
       "      <td>0</td>\n",
       "      <td>979</td>\n",
       "      <td>950056</td>\n",
       "      <td>ï»¿   DESCRIPTION (provided by applicant): Adv...</td>\n",
       "      <td>1</td>\n",
       "      <td>Kristian</td>\n",
       "      <td>Big-data</td>\n",
       "    </tr>\n",
       "    <tr>\n",
       "      <th>1</th>\n",
       "      <td>0</td>\n",
       "      <td>816</td>\n",
       "      <td>1178172</td>\n",
       "      <td>Project Summary/AbstractThe establishment of t...</td>\n",
       "      <td>1</td>\n",
       "      <td>Kristian</td>\n",
       "      <td>Big-data</td>\n",
       "    </tr>\n",
       "    <tr>\n",
       "      <th>2</th>\n",
       "      <td>0</td>\n",
       "      <td>1096</td>\n",
       "      <td>163037</td>\n",
       "      <td>DESCRIPTION (provided by applicant): The long-...</td>\n",
       "      <td>0</td>\n",
       "      <td>Kristian</td>\n",
       "      <td>Non Big-data</td>\n",
       "    </tr>\n",
       "    <tr>\n",
       "      <th>3</th>\n",
       "      <td>0</td>\n",
       "      <td>725</td>\n",
       "      <td>880197</td>\n",
       "      <td>DESCRIPTION (provided by applicant): The most ...</td>\n",
       "      <td>0</td>\n",
       "      <td>Kristian</td>\n",
       "      <td>Non Big-data</td>\n",
       "    </tr>\n",
       "    <tr>\n",
       "      <th>4</th>\n",
       "      <td>0</td>\n",
       "      <td>92</td>\n",
       "      <td>887331</td>\n",
       "      <td>Transsphenoidal surgery (TSS) is the best trea...</td>\n",
       "      <td>0</td>\n",
       "      <td>Kristian</td>\n",
       "      <td>Non Big-data</td>\n",
       "    </tr>\n",
       "  </tbody>\n",
       "</table>\n",
       "</div>"
      ],
      "text/plain": [
       "  Duplicates index PROJECT_ID  \\\n",
       "0          0   979     950056   \n",
       "1          0   816    1178172   \n",
       "2          0  1096     163037   \n",
       "3          0   725     880197   \n",
       "4          0    92     887331   \n",
       "\n",
       "                                            ABSTRACT  \\\n",
       "0  ï»¿   DESCRIPTION (provided by applicant): Adv...   \n",
       "1  Project Summary/AbstractThe establishment of t...   \n",
       "2  DESCRIPTION (provided by applicant): The long-...   \n",
       "3  DESCRIPTION (provided by applicant): The most ...   \n",
       "4  Transsphenoidal surgery (TSS) is the best trea...   \n",
       "\n",
       "  Is it related to Big-Data Expert name         label  \n",
       "0                         1    Kristian      Big-data  \n",
       "1                         1    Kristian      Big-data  \n",
       "2                         0    Kristian  Non Big-data  \n",
       "3                         0    Kristian  Non Big-data  \n",
       "4                         0    Kristian  Non Big-data  "
      ]
     },
     "execution_count": 27,
     "metadata": {},
     "output_type": "execute_result"
    }
   ],
   "source": [
    "df.head()"
   ]
  },
  {
   "cell_type": "code",
   "execution_count": 28,
   "metadata": {},
   "outputs": [
    {
     "data": {
      "text/plain": [
       "Duplicates                     0\n",
       "index                          0\n",
       "PROJECT_ID                     0\n",
       "ABSTRACT                       0\n",
       "Is it related to Big-Data      0\n",
       "Expert name                  100\n",
       "label                          0\n",
       "dtype: int64"
      ]
     },
     "execution_count": 28,
     "metadata": {},
     "output_type": "execute_result"
    }
   ],
   "source": [
    "df.isnull().sum()"
   ]
  },
  {
   "cell_type": "code",
   "execution_count": 29,
   "metadata": {},
   "outputs": [
    {
     "name": "stdout",
     "output_type": "stream",
     "text": [
      "(1600, 7)\n"
     ]
    }
   ],
   "source": [
    "print(df.shape)"
   ]
  },
  {
   "cell_type": "code",
   "execution_count": null,
   "metadata": {},
   "outputs": [],
   "source": []
  },
  {
   "cell_type": "markdown",
   "metadata": {},
   "source": [
    "#### Write new labeled dataset"
   ]
  },
  {
   "cell_type": "code",
   "execution_count": 30,
   "metadata": {},
   "outputs": [],
   "source": [
    "df.to_csv('../../../data/prd/Digital_abstract_labelled/DEC-2022-labelled_abstracts.csv')"
   ]
  },
  {
   "cell_type": "code",
   "execution_count": null,
   "metadata": {},
   "outputs": [],
   "source": []
  }
 ],
 "metadata": {
  "kernelspec": {
   "display_name": "Python 3.8",
   "language": "python",
   "name": "python-3.8"
  },
  "language_info": {
   "codemirror_mode": {
    "name": "ipython",
    "version": 3
   },
   "file_extension": ".py",
   "mimetype": "text/x-python",
   "name": "python",
   "nbconvert_exporter": "python",
   "pygments_lexer": "ipython3",
   "version": "3.8.8"
  }
 },
 "nbformat": 4,
 "nbformat_minor": 4
}
