{
 "cells": [
  {
   "cell_type": "code",
   "execution_count": 1,
   "metadata": {},
   "outputs": [],
   "source": [
    "import gensim\n",
    "import nltk\n",
    "from gensim.models.doc2vec import Doc2Vec, TaggedDocument\n",
    "from gensim.models import Word2Vec\n",
    "from nltk.tokenize import word_tokenize, punkt\n",
    "from gensim.models import KeyedVectors\n",
    "\n",
    "#setting up libraries\n",
    "import pandas as pd\n",
    "pd.set_option('display.max_columns', 50)\n",
    "import numpy as np\n",
    "import pickle\n",
    "import matplotlib.pyplot as plt\n",
    "import time"
   ]
  },
  {
   "cell_type": "code",
   "execution_count": 2,
   "metadata": {},
   "outputs": [],
   "source": [
    "df = pd.read_pickle(\"/home/kno5cac/git/publicrd/data/prd/Paper/FR_meta_and_final_tokens_23DEC21.pkl\")"
   ]
  },
  {
   "cell_type": "code",
   "execution_count": 3,
   "metadata": {},
   "outputs": [],
   "source": [
    "df = df[~df.DEPARTMENT.isnull()]"
   ]
  },
  {
   "cell_type": "code",
   "execution_count": 36,
   "metadata": {},
   "outputs": [],
   "source": [
    "df_nsf = df.loc[df['DEPARTMENT'] == 'HHS']\n",
    "df_nsf = df_nsf.iloc[0:10000,]"
   ]
  },
  {
   "cell_type": "code",
   "execution_count": 37,
   "metadata": {},
   "outputs": [],
   "source": [
    "df_nasa = df.loc[df['DEPARTMENT'] == 'NSF']\n",
    "df_nasa = df_nasa.iloc[0:10000,]"
   ]
  },
  {
   "cell_type": "code",
   "execution_count": 38,
   "metadata": {},
   "outputs": [],
   "source": [
    "frames = [df_nsf, df_nasa]\n",
    "df_split = pd.concat(frames)\n",
    "#df_split.head()"
   ]
  },
  {
   "cell_type": "code",
   "execution_count": 39,
   "metadata": {},
   "outputs": [],
   "source": [
    "df_split= df_split.reset_index(level=None, drop=False, inplace=False, col_level=0, col_fill='')"
   ]
  },
  {
   "cell_type": "code",
   "execution_count": 40,
   "metadata": {},
   "outputs": [],
   "source": [
    "data = df_split['ABSTRACT']"
   ]
  },
  {
   "cell_type": "code",
   "execution_count": 41,
   "metadata": {},
   "outputs": [],
   "source": [
    "#print(data)"
   ]
  },
  {
   "cell_type": "code",
   "execution_count": 42,
   "metadata": {},
   "outputs": [],
   "source": [
    "tagged_data = [TaggedDocument(words=word_tokenize(_d.lower()), tags=[str(i)]) for i, _d in enumerate(data)]\n",
    "tagged_df = pd.DataFrame(tagged_data)"
   ]
  },
  {
   "cell_type": "code",
   "execution_count": 43,
   "metadata": {},
   "outputs": [],
   "source": [
    "#print(tagged_df)"
   ]
  },
  {
   "cell_type": "code",
   "execution_count": 44,
   "metadata": {},
   "outputs": [
    {
     "data": {
      "text/html": [
       "<div>\n",
       "<style scoped>\n",
       "    .dataframe tbody tr th:only-of-type {\n",
       "        vertical-align: middle;\n",
       "    }\n",
       "\n",
       "    .dataframe tbody tr th {\n",
       "        vertical-align: top;\n",
       "    }\n",
       "\n",
       "    .dataframe thead th {\n",
       "        text-align: right;\n",
       "    }\n",
       "</style>\n",
       "<table border=\"1\" class=\"dataframe\">\n",
       "  <thead>\n",
       "    <tr style=\"text-align: right;\">\n",
       "      <th></th>\n",
       "      <th>index</th>\n",
       "      <th>PROJECT_ID</th>\n",
       "      <th>ABSTRACT</th>\n",
       "      <th>PROJECT_TERMS</th>\n",
       "      <th>PROJECT_TITLE</th>\n",
       "      <th>DEPARTMENT</th>\n",
       "      <th>AGENCY</th>\n",
       "      <th>IC_CENTER</th>\n",
       "      <th>PROJECT_NUMBER</th>\n",
       "      <th>PROJECT_START_DATE</th>\n",
       "      <th>PROJECT_END_DATE</th>\n",
       "      <th>CONTACT_PI_PROJECT_LEADER</th>\n",
       "      <th>OTHER_PIS</th>\n",
       "      <th>CONGRESSIONAL_DISTRICT</th>\n",
       "      <th>DUNS_NUMBER</th>\n",
       "      <th>ORGANIZATION_NAME</th>\n",
       "      <th>ORGANIZATION_CITY</th>\n",
       "      <th>ORGANIZATION_STATE</th>\n",
       "      <th>ORGANIZATION_ZIP</th>\n",
       "      <th>ORGANIZATION_COUNTRY</th>\n",
       "      <th>BUDGET_START_DATE</th>\n",
       "      <th>BUDGET_END_DATE</th>\n",
       "      <th>CFDA_CODE</th>\n",
       "      <th>FY</th>\n",
       "      <th>FY_TOTAL_COST</th>\n",
       "      <th>FY_TOTAL_COST_SUB_PROJECTS</th>\n",
       "      <th>ORG_COUNT</th>\n",
       "      <th>PI_COUNT</th>\n",
       "      <th>FY_TOTAL_COST_SUM</th>\n",
       "      <th>NUM_RECORDS</th>\n",
       "      <th>final_tokens</th>\n",
       "      <th>words</th>\n",
       "      <th>tags</th>\n",
       "    </tr>\n",
       "  </thead>\n",
       "  <tbody>\n",
       "    <tr>\n",
       "      <th>0</th>\n",
       "      <td>13120</td>\n",
       "      <td>150681</td>\n",
       "      <td>DESCRIPTION (provided by applicant):  The use ...</td>\n",
       "      <td>Abstinence; Adult; Animals; Anxiety Disorders;...</td>\n",
       "      <td>PET IMAGING OF SEROTONIN TRANSMISSION IN MDMA ...</td>\n",
       "      <td>HHS</td>\n",
       "      <td>NIH</td>\n",
       "      <td>NIDA</td>\n",
       "      <td>5R01DA015806-04</td>\n",
       "      <td>8/15/2003</td>\n",
       "      <td>4/30/2010</td>\n",
       "      <td>ABI-DARGHAM, ANISSA</td>\n",
       "      <td>NaN</td>\n",
       "      <td>13</td>\n",
       "      <td>167204994</td>\n",
       "      <td>NEW YORK STATE PSYCHIATRIC INSTITUTE</td>\n",
       "      <td>NEW YORK</td>\n",
       "      <td>NY</td>\n",
       "      <td>100321007</td>\n",
       "      <td>UNITED STATES</td>\n",
       "      <td>5/1/2008</td>\n",
       "      <td>4/30/2010</td>\n",
       "      <td>93.279</td>\n",
       "      <td>2008</td>\n",
       "      <td>409348.0</td>\n",
       "      <td>NaN</td>\n",
       "      <td>1</td>\n",
       "      <td>1</td>\n",
       "      <td>409348.0</td>\n",
       "      <td>1</td>\n",
       "      <td>use recreational drug methylenedioxymethamphet...</td>\n",
       "      <td>[description, (, provided, by, applicant, ), :...</td>\n",
       "      <td>[0]</td>\n",
       "    </tr>\n",
       "    <tr>\n",
       "      <th>1</th>\n",
       "      <td>13121</td>\n",
       "      <td>150683</td>\n",
       "      <td>DESCRIPTION (provided by applicant): The patho...</td>\n",
       "      <td>5-(6)-carboxyfluorescein diacetate succinimidy...</td>\n",
       "      <td>DOUBLE NEGATIVE, CD4-CD8- T CELLS IN HUMAN LEI...</td>\n",
       "      <td>HHS</td>\n",
       "      <td>NIH</td>\n",
       "      <td>NIAID</td>\n",
       "      <td>1R03AI066253-01A1</td>\n",
       "      <td>9/30/2008</td>\n",
       "      <td>9/29/2011</td>\n",
       "      <td>GOLLOB, KENNETH J</td>\n",
       "      <td>NaN</td>\n",
       "      <td>NaN</td>\n",
       "      <td>899644116</td>\n",
       "      <td>UNIVERSIDADE FEDERAL DE MINAS GERAIS</td>\n",
       "      <td>BELO HORIZONTE</td>\n",
       "      <td>NaN</td>\n",
       "      <td>31270-901</td>\n",
       "      <td>BRAZIL</td>\n",
       "      <td>9/30/2008</td>\n",
       "      <td>9/29/2009</td>\n",
       "      <td>93.855</td>\n",
       "      <td>2008</td>\n",
       "      <td>54000.0</td>\n",
       "      <td>NaN</td>\n",
       "      <td>1</td>\n",
       "      <td>1</td>\n",
       "      <td>54000.0</td>\n",
       "      <td>1</td>\n",
       "      <td>pathogen leishmania protozoan_parasite cause w...</td>\n",
       "      <td>[description, (, provided, by, applicant, ), :...</td>\n",
       "      <td>[1]</td>\n",
       "    </tr>\n",
       "    <tr>\n",
       "      <th>2</th>\n",
       "      <td>13122</td>\n",
       "      <td>150684</td>\n",
       "      <td>DESCRIPTION (provided by applicant): \\t In thi...</td>\n",
       "      <td>Adopted; AIDS clinical trial group; AIDS/HIV p...</td>\n",
       "      <td>SAO PAULO CLINICAL TRIALS UNIT</td>\n",
       "      <td>HHS</td>\n",
       "      <td>NIH</td>\n",
       "      <td>NIAID</td>\n",
       "      <td>1U01AI069420-01</td>\n",
       "      <td>1/1/2008</td>\n",
       "      <td>12/31/2013</td>\n",
       "      <td>KALLAS, ESPER GEORGES</td>\n",
       "      <td>NaN</td>\n",
       "      <td>NaN</td>\n",
       "      <td>914608039</td>\n",
       "      <td>FEDERAL UNIVERSITY OF SAO PAULO</td>\n",
       "      <td>SAO PAULO</td>\n",
       "      <td>NaN</td>\n",
       "      <td>04037-003</td>\n",
       "      <td>BRAZIL</td>\n",
       "      <td>1/1/2008</td>\n",
       "      <td>12/31/2008</td>\n",
       "      <td>93.855</td>\n",
       "      <td>2008</td>\n",
       "      <td>493116.0</td>\n",
       "      <td>NaN</td>\n",
       "      <td>1</td>\n",
       "      <td>1</td>\n",
       "      <td>493116.0</td>\n",
       "      <td>1</td>\n",
       "      <td>application propose constitution_sao_paulo cli...</td>\n",
       "      <td>[description, (, provided, by, applicant, ), :...</td>\n",
       "      <td>[2]</td>\n",
       "    </tr>\n",
       "    <tr>\n",
       "      <th>3</th>\n",
       "      <td>13123</td>\n",
       "      <td>150685</td>\n",
       "      <td>DESCRIPTION (provided by applicant): \\t  The O...</td>\n",
       "      <td>AIDS clinical trial group; AIDS prevention; ba...</td>\n",
       "      <td>THE FIOCRUZ THERAPEUTIC AND PREVENTION HIV/AID...</td>\n",
       "      <td>HHS</td>\n",
       "      <td>NIH</td>\n",
       "      <td>NIAID</td>\n",
       "      <td>1U01AI069476-01</td>\n",
       "      <td>1/15/2008</td>\n",
       "      <td>12/31/2013</td>\n",
       "      <td>GRINSZTEJN, BEATRIZ</td>\n",
       "      <td>NaN</td>\n",
       "      <td>NaN</td>\n",
       "      <td>899294177</td>\n",
       "      <td>FUNDACAO OSWALDO CRUZ</td>\n",
       "      <td>RIO DE JANEIRO</td>\n",
       "      <td>NaN</td>\n",
       "      <td>21040-360</td>\n",
       "      <td>BRAZIL</td>\n",
       "      <td>1/15/2008</td>\n",
       "      <td>12/31/2008</td>\n",
       "      <td>93.855</td>\n",
       "      <td>2008</td>\n",
       "      <td>3194471.0</td>\n",
       "      <td>NaN</td>\n",
       "      <td>1</td>\n",
       "      <td>1</td>\n",
       "      <td>3194471.0</td>\n",
       "      <td>1</td>\n",
       "      <td>oswaldo_cruz foundation fiocruz therapeutic pr...</td>\n",
       "      <td>[description, (, provided, by, applicant, ), :...</td>\n",
       "      <td>[3]</td>\n",
       "    </tr>\n",
       "    <tr>\n",
       "      <th>4</th>\n",
       "      <td>13124</td>\n",
       "      <td>150686</td>\n",
       "      <td>DESCRIPTION (provided by applicant): \\t     Fe...</td>\n",
       "      <td>AIDS prevention; AIDS/HIV problem; American; b...</td>\n",
       "      <td>CLINICAL TRIAL UNIT FOR HIV PREVENTION AND MIC...</td>\n",
       "      <td>HHS</td>\n",
       "      <td>NIH</td>\n",
       "      <td>NIAID</td>\n",
       "      <td>1U01AI069480-01</td>\n",
       "      <td>9/8/2008</td>\n",
       "      <td>11/30/2013</td>\n",
       "      <td>MAYER, KENNETH H</td>\n",
       "      <td>NaN</td>\n",
       "      <td>07</td>\n",
       "      <td>072366156</td>\n",
       "      <td>FENWAY COMMUNITY HEALTH CENTER</td>\n",
       "      <td>BOSTON</td>\n",
       "      <td>MA</td>\n",
       "      <td>022154302</td>\n",
       "      <td>UNITED STATES</td>\n",
       "      <td>9/8/2008</td>\n",
       "      <td>11/30/2008</td>\n",
       "      <td>93.855</td>\n",
       "      <td>2008</td>\n",
       "      <td>637625.0</td>\n",
       "      <td>NaN</td>\n",
       "      <td>1</td>\n",
       "      <td>1</td>\n",
       "      <td>637625.0</td>\n",
       "      <td>1</td>\n",
       "      <td>fenway community health fch_boston community h...</td>\n",
       "      <td>[description, (, provided, by, applicant, ), :...</td>\n",
       "      <td>[4]</td>\n",
       "    </tr>\n",
       "  </tbody>\n",
       "</table>\n",
       "</div>"
      ],
      "text/plain": [
       "   index PROJECT_ID                                           ABSTRACT  \\\n",
       "0  13120     150681  DESCRIPTION (provided by applicant):  The use ...   \n",
       "1  13121     150683  DESCRIPTION (provided by applicant): The patho...   \n",
       "2  13122     150684  DESCRIPTION (provided by applicant): \\t In thi...   \n",
       "3  13123     150685  DESCRIPTION (provided by applicant): \\t  The O...   \n",
       "4  13124     150686  DESCRIPTION (provided by applicant): \\t     Fe...   \n",
       "\n",
       "                                       PROJECT_TERMS  \\\n",
       "0  Abstinence; Adult; Animals; Anxiety Disorders;...   \n",
       "1  5-(6)-carboxyfluorescein diacetate succinimidy...   \n",
       "2  Adopted; AIDS clinical trial group; AIDS/HIV p...   \n",
       "3  AIDS clinical trial group; AIDS prevention; ba...   \n",
       "4  AIDS prevention; AIDS/HIV problem; American; b...   \n",
       "\n",
       "                                       PROJECT_TITLE DEPARTMENT AGENCY  \\\n",
       "0  PET IMAGING OF SEROTONIN TRANSMISSION IN MDMA ...        HHS    NIH   \n",
       "1  DOUBLE NEGATIVE, CD4-CD8- T CELLS IN HUMAN LEI...        HHS    NIH   \n",
       "2                     SAO PAULO CLINICAL TRIALS UNIT        HHS    NIH   \n",
       "3  THE FIOCRUZ THERAPEUTIC AND PREVENTION HIV/AID...        HHS    NIH   \n",
       "4  CLINICAL TRIAL UNIT FOR HIV PREVENTION AND MIC...        HHS    NIH   \n",
       "\n",
       "  IC_CENTER     PROJECT_NUMBER PROJECT_START_DATE PROJECT_END_DATE  \\\n",
       "0      NIDA    5R01DA015806-04          8/15/2003        4/30/2010   \n",
       "1     NIAID  1R03AI066253-01A1          9/30/2008        9/29/2011   \n",
       "2     NIAID    1U01AI069420-01           1/1/2008       12/31/2013   \n",
       "3     NIAID    1U01AI069476-01          1/15/2008       12/31/2013   \n",
       "4     NIAID    1U01AI069480-01           9/8/2008       11/30/2013   \n",
       "\n",
       "  CONTACT_PI_PROJECT_LEADER OTHER_PIS CONGRESSIONAL_DISTRICT DUNS_NUMBER  \\\n",
       "0       ABI-DARGHAM, ANISSA       NaN                     13   167204994   \n",
       "1         GOLLOB, KENNETH J       NaN                    NaN   899644116   \n",
       "2     KALLAS, ESPER GEORGES       NaN                    NaN   914608039   \n",
       "3       GRINSZTEJN, BEATRIZ       NaN                    NaN   899294177   \n",
       "4          MAYER, KENNETH H       NaN                     07   072366156   \n",
       "\n",
       "                      ORGANIZATION_NAME ORGANIZATION_CITY ORGANIZATION_STATE  \\\n",
       "0  NEW YORK STATE PSYCHIATRIC INSTITUTE          NEW YORK                 NY   \n",
       "1  UNIVERSIDADE FEDERAL DE MINAS GERAIS    BELO HORIZONTE                NaN   \n",
       "2       FEDERAL UNIVERSITY OF SAO PAULO         SAO PAULO                NaN   \n",
       "3                 FUNDACAO OSWALDO CRUZ    RIO DE JANEIRO                NaN   \n",
       "4        FENWAY COMMUNITY HEALTH CENTER            BOSTON                 MA   \n",
       "\n",
       "  ORGANIZATION_ZIP ORGANIZATION_COUNTRY BUDGET_START_DATE BUDGET_END_DATE  \\\n",
       "0        100321007        UNITED STATES          5/1/2008       4/30/2010   \n",
       "1        31270-901               BRAZIL         9/30/2008       9/29/2009   \n",
       "2        04037-003               BRAZIL          1/1/2008      12/31/2008   \n",
       "3        21040-360               BRAZIL         1/15/2008      12/31/2008   \n",
       "4        022154302        UNITED STATES          9/8/2008      11/30/2008   \n",
       "\n",
       "  CFDA_CODE    FY  FY_TOTAL_COST  FY_TOTAL_COST_SUB_PROJECTS  ORG_COUNT  \\\n",
       "0    93.279  2008       409348.0                         NaN          1   \n",
       "1    93.855  2008        54000.0                         NaN          1   \n",
       "2    93.855  2008       493116.0                         NaN          1   \n",
       "3    93.855  2008      3194471.0                         NaN          1   \n",
       "4    93.855  2008       637625.0                         NaN          1   \n",
       "\n",
       "   PI_COUNT  FY_TOTAL_COST_SUM  NUM_RECORDS  \\\n",
       "0         1           409348.0            1   \n",
       "1         1            54000.0            1   \n",
       "2         1           493116.0            1   \n",
       "3         1          3194471.0            1   \n",
       "4         1           637625.0            1   \n",
       "\n",
       "                                        final_tokens  \\\n",
       "0  use recreational drug methylenedioxymethamphet...   \n",
       "1  pathogen leishmania protozoan_parasite cause w...   \n",
       "2  application propose constitution_sao_paulo cli...   \n",
       "3  oswaldo_cruz foundation fiocruz therapeutic pr...   \n",
       "4  fenway community health fch_boston community h...   \n",
       "\n",
       "                                               words tags  \n",
       "0  [description, (, provided, by, applicant, ), :...  [0]  \n",
       "1  [description, (, provided, by, applicant, ), :...  [1]  \n",
       "2  [description, (, provided, by, applicant, ), :...  [2]  \n",
       "3  [description, (, provided, by, applicant, ), :...  [3]  \n",
       "4  [description, (, provided, by, applicant, ), :...  [4]  "
      ]
     },
     "execution_count": 44,
     "metadata": {},
     "output_type": "execute_result"
    }
   ],
   "source": [
    "df_split['words'] = tagged_df['words']\n",
    "df_split['tags'] = tagged_df['tags']\n",
    "df_split.head()"
   ]
  },
  {
   "cell_type": "code",
   "execution_count": 45,
   "metadata": {},
   "outputs": [],
   "source": [
    "model = gensim.models.doc2vec.Doc2Vec(vector_size=100, epochs=100) #min_count=2 - min number of times it shows up\n",
    "model.build_vocab(tagged_data)\n",
    "model.train(tagged_data, total_examples=model.corpus_count, epochs=model.epochs)\n",
    "model.save(\"d2v.model\")"
   ]
  },
  {
   "cell_type": "code",
   "execution_count": 46,
   "metadata": {},
   "outputs": [],
   "source": [
    "model = Doc2Vec.load(\"d2v.model\")"
   ]
  },
  {
   "cell_type": "code",
   "execution_count": 47,
   "metadata": {},
   "outputs": [],
   "source": [
    "vector = []\n",
    "for i in range(0, len(df_split)):\n",
    "    vectorthis = (model.dv[df_split['tags'][i]]).tolist()\n",
    "    vector.append(vectorthis)"
   ]
  },
  {
   "cell_type": "code",
   "execution_count": 48,
   "metadata": {},
   "outputs": [],
   "source": [
    "mat = []\n",
    "for i in vector:\n",
    "    #dont use this loop\n",
    "    for x in i:\n",
    "        mat.append(x)"
   ]
  },
  {
   "cell_type": "code",
   "execution_count": 49,
   "metadata": {},
   "outputs": [],
   "source": [
    "training = pd.DataFrame(mat)"
   ]
  },
  {
   "cell_type": "code",
   "execution_count": 50,
   "metadata": {},
   "outputs": [],
   "source": [
    "trainingnp = training.to_numpy()"
   ]
  },
  {
   "cell_type": "code",
   "execution_count": 51,
   "metadata": {},
   "outputs": [],
   "source": [
    "training_data = df_split.sample(frac=0.85, random_state=25)\n",
    "testing_data = df_split.drop(training_data.index)\n",
    "#print(training_data)"
   ]
  },
  {
   "cell_type": "code",
   "execution_count": 52,
   "metadata": {},
   "outputs": [],
   "source": [
    "train_id = training_data.index\n",
    "test_id = testing_data.index"
   ]
  },
  {
   "cell_type": "code",
   "execution_count": 53,
   "metadata": {},
   "outputs": [],
   "source": [
    "#print(test_id)"
   ]
  },
  {
   "cell_type": "code",
   "execution_count": 54,
   "metadata": {},
   "outputs": [],
   "source": [
    "x_train = trainingnp[train_id]\n",
    "x_test = trainingnp[test_id]"
   ]
  },
  {
   "cell_type": "code",
   "execution_count": 55,
   "metadata": {},
   "outputs": [],
   "source": [
    "df_split['index'] = df_split.index\n",
    "y_test = df_split.loc[df_split[\"index\"].isin(test_id)]\n",
    "y_test = y_test['DEPARTMENT']"
   ]
  },
  {
   "cell_type": "code",
   "execution_count": 56,
   "metadata": {},
   "outputs": [],
   "source": [
    "df_split['index'] = df_split.index\n",
    "y_train = df_split.loc[df_split[\"index\"].isin(train_id)]\n",
    "y_train = y_train['DEPARTMENT']"
   ]
  },
  {
   "cell_type": "code",
   "execution_count": 57,
   "metadata": {},
   "outputs": [],
   "source": [
    "import math"
   ]
  },
  {
   "cell_type": "code",
   "execution_count": 58,
   "metadata": {},
   "outputs": [],
   "source": [
    "neighbors = int(math.sqrt(len(df_split.index)))"
   ]
  },
  {
   "cell_type": "code",
   "execution_count": 59,
   "metadata": {},
   "outputs": [
    {
     "data": {
      "text/plain": [
       "KNeighborsClassifier(n_neighbors=3)"
      ]
     },
     "execution_count": 59,
     "metadata": {},
     "output_type": "execute_result"
    }
   ],
   "source": [
    "from sklearn.neighbors import KNeighborsClassifier\n",
    "classifier = KNeighborsClassifier(n_neighbors = 3)\n",
    "classifier.fit(x_train, y_train)"
   ]
  },
  {
   "cell_type": "code",
   "execution_count": 60,
   "metadata": {},
   "outputs": [],
   "source": [
    "y_pred = classifier.predict(x_test)"
   ]
  },
  {
   "cell_type": "code",
   "execution_count": 61,
   "metadata": {},
   "outputs": [],
   "source": [
    "import scipy.sparse"
   ]
  },
  {
   "cell_type": "code",
   "execution_count": 62,
   "metadata": {},
   "outputs": [],
   "source": [
    "predictions = df_split.loc[test_id,]\n",
    "predictions['PREDICTIONS'] = y_pred"
   ]
  },
  {
   "cell_type": "code",
   "execution_count": 63,
   "metadata": {},
   "outputs": [],
   "source": [
    "predictions = predictions[[\"index\",\"DEPARTMENT\", \"PREDICTIONS\",\"ABSTRACT\"]]"
   ]
  },
  {
   "cell_type": "code",
   "execution_count": 64,
   "metadata": {},
   "outputs": [
    {
     "data": {
      "text/html": [
       "<div>\n",
       "<style scoped>\n",
       "    .dataframe tbody tr th:only-of-type {\n",
       "        vertical-align: middle;\n",
       "    }\n",
       "\n",
       "    .dataframe tbody tr th {\n",
       "        vertical-align: top;\n",
       "    }\n",
       "\n",
       "    .dataframe thead th {\n",
       "        text-align: right;\n",
       "    }\n",
       "</style>\n",
       "<table border=\"1\" class=\"dataframe\">\n",
       "  <thead>\n",
       "    <tr style=\"text-align: right;\">\n",
       "      <th></th>\n",
       "      <th>index</th>\n",
       "      <th>DEPARTMENT</th>\n",
       "      <th>PREDICTIONS</th>\n",
       "      <th>ABSTRACT</th>\n",
       "    </tr>\n",
       "  </thead>\n",
       "  <tbody>\n",
       "    <tr>\n",
       "      <th>14</th>\n",
       "      <td>14</td>\n",
       "      <td>HHS</td>\n",
       "      <td>NSF</td>\n",
       "      <td>DESCRIPTION (provided by applicant):   Primary...</td>\n",
       "    </tr>\n",
       "    <tr>\n",
       "      <th>32</th>\n",
       "      <td>32</td>\n",
       "      <td>HHS</td>\n",
       "      <td>HHS</td>\n",
       "      <td>DESCRIPTION (provided by applicant): The need ...</td>\n",
       "    </tr>\n",
       "    <tr>\n",
       "      <th>62</th>\n",
       "      <td>62</td>\n",
       "      <td>HHS</td>\n",
       "      <td>HHS</td>\n",
       "      <td>DESCRIPTION (provided by applicant): Children ...</td>\n",
       "    </tr>\n",
       "    <tr>\n",
       "      <th>71</th>\n",
       "      <td>71</td>\n",
       "      <td>HHS</td>\n",
       "      <td>NSF</td>\n",
       "      <td>DESCRIPTION (provided by applicant):  Cryptoco...</td>\n",
       "    </tr>\n",
       "    <tr>\n",
       "      <th>89</th>\n",
       "      <td>89</td>\n",
       "      <td>HHS</td>\n",
       "      <td>HHS</td>\n",
       "      <td>The goals of this proposal are to test the hyp...</td>\n",
       "    </tr>\n",
       "    <tr>\n",
       "      <th>...</th>\n",
       "      <td>...</td>\n",
       "      <td>...</td>\n",
       "      <td>...</td>\n",
       "      <td>...</td>\n",
       "    </tr>\n",
       "    <tr>\n",
       "      <th>19982</th>\n",
       "      <td>19982</td>\n",
       "      <td>NSF</td>\n",
       "      <td>HHS</td>\n",
       "      <td>The goal of this project is to study aerosol-w...</td>\n",
       "    </tr>\n",
       "    <tr>\n",
       "      <th>19986</th>\n",
       "      <td>19986</td>\n",
       "      <td>NSF</td>\n",
       "      <td>NSF</td>\n",
       "      <td>In this project the PI proposes to study discr...</td>\n",
       "    </tr>\n",
       "    <tr>\n",
       "      <th>19990</th>\n",
       "      <td>19990</td>\n",
       "      <td>NSF</td>\n",
       "      <td>HHS</td>\n",
       "      <td>Microfinance has spread very rapidly in the la...</td>\n",
       "    </tr>\n",
       "    <tr>\n",
       "      <th>19994</th>\n",
       "      <td>19994</td>\n",
       "      <td>NSF</td>\n",
       "      <td>NSF</td>\n",
       "      <td>Project Title: Effect of Tax Reform on the Siz...</td>\n",
       "    </tr>\n",
       "    <tr>\n",
       "      <th>19997</th>\n",
       "      <td>19997</td>\n",
       "      <td>NSF</td>\n",
       "      <td>NSF</td>\n",
       "      <td>PI: Venkatesan SundaresanProposal Number: IOS-...</td>\n",
       "    </tr>\n",
       "  </tbody>\n",
       "</table>\n",
       "<p>3000 rows × 4 columns</p>\n",
       "</div>"
      ],
      "text/plain": [
       "       index DEPARTMENT PREDICTIONS  \\\n",
       "14        14        HHS         NSF   \n",
       "32        32        HHS         HHS   \n",
       "62        62        HHS         HHS   \n",
       "71        71        HHS         NSF   \n",
       "89        89        HHS         HHS   \n",
       "...      ...        ...         ...   \n",
       "19982  19982        NSF         HHS   \n",
       "19986  19986        NSF         NSF   \n",
       "19990  19990        NSF         HHS   \n",
       "19994  19994        NSF         NSF   \n",
       "19997  19997        NSF         NSF   \n",
       "\n",
       "                                                ABSTRACT  \n",
       "14     DESCRIPTION (provided by applicant):   Primary...  \n",
       "32     DESCRIPTION (provided by applicant): The need ...  \n",
       "62     DESCRIPTION (provided by applicant): Children ...  \n",
       "71     DESCRIPTION (provided by applicant):  Cryptoco...  \n",
       "89     The goals of this proposal are to test the hyp...  \n",
       "...                                                  ...  \n",
       "19982  The goal of this project is to study aerosol-w...  \n",
       "19986  In this project the PI proposes to study discr...  \n",
       "19990  Microfinance has spread very rapidly in the la...  \n",
       "19994  Project Title: Effect of Tax Reform on the Siz...  \n",
       "19997  PI: Venkatesan SundaresanProposal Number: IOS-...  \n",
       "\n",
       "[3000 rows x 4 columns]"
      ]
     },
     "execution_count": 64,
     "metadata": {},
     "output_type": "execute_result"
    }
   ],
   "source": [
    "predictions "
   ]
  },
  {
   "cell_type": "code",
   "execution_count": 65,
   "metadata": {},
   "outputs": [
    {
     "data": {
      "text/plain": [
       "NSF    1546\n",
       "HHS    1454\n",
       "Name: PREDICTIONS, dtype: int64"
      ]
     },
     "execution_count": 65,
     "metadata": {},
     "output_type": "execute_result"
    }
   ],
   "source": [
    "predictions['PREDICTIONS'].value_counts()"
   ]
  },
  {
   "cell_type": "code",
   "execution_count": 66,
   "metadata": {},
   "outputs": [
    {
     "data": {
      "text/plain": [
       "HHS    1520\n",
       "NSF    1480\n",
       "Name: DEPARTMENT, dtype: int64"
      ]
     },
     "execution_count": 66,
     "metadata": {},
     "output_type": "execute_result"
    }
   ],
   "source": [
    "predictions['DEPARTMENT'].value_counts()"
   ]
  },
  {
   "cell_type": "code",
   "execution_count": 67,
   "metadata": {},
   "outputs": [
    {
     "name": "stdout",
     "output_type": "stream",
     "text": [
      "[[705 815]\n",
      " [749 731]]\n",
      "              precision    recall  f1-score   support\n",
      "\n",
      "         HHS       0.48      0.46      0.47      1520\n",
      "         NSF       0.47      0.49      0.48      1480\n",
      "\n",
      "    accuracy                           0.48      3000\n",
      "   macro avg       0.48      0.48      0.48      3000\n",
      "weighted avg       0.48      0.48      0.48      3000\n",
      "\n"
     ]
    }
   ],
   "source": [
    "from sklearn.metrics import classification_report, confusion_matrix\n",
    "print(confusion_matrix(y_test, y_pred))\n",
    "print(classification_report(y_test, y_pred))"
   ]
  },
  {
   "cell_type": "code",
   "execution_count": 68,
   "metadata": {},
   "outputs": [],
   "source": [
    "error = []\n",
    "\n",
    "# Calculating error for K values between 1 and 40\n",
    "for i in range(1, 40):\n",
    "    knn = KNeighborsClassifier(n_neighbors=i)\n",
    "    knn.fit(x_train, y_train)\n",
    "    pred_i = knn.predict(x_test)\n",
    "    error.append(np.mean(pred_i != y_test))"
   ]
  },
  {
   "cell_type": "code",
   "execution_count": 69,
   "metadata": {},
   "outputs": [],
   "source": [
    "#https://stackabuse.com/k-nearest-neighbors-algorithm-in-python-and-scikit-learn/"
   ]
  },
  {
   "cell_type": "code",
   "execution_count": null,
   "metadata": {},
   "outputs": [],
   "source": []
  },
  {
   "cell_type": "code",
   "execution_count": null,
   "metadata": {},
   "outputs": [],
   "source": []
  },
  {
   "cell_type": "code",
   "execution_count": null,
   "metadata": {},
   "outputs": [],
   "source": []
  },
  {
   "cell_type": "code",
   "execution_count": null,
   "metadata": {},
   "outputs": [],
   "source": []
  },
  {
   "cell_type": "code",
   "execution_count": null,
   "metadata": {},
   "outputs": [],
   "source": []
  }
 ],
 "metadata": {
  "kernelspec": {
   "display_name": "Python 3",
   "language": "python",
   "name": "python3"
  },
  "language_info": {
   "codemirror_mode": {
    "name": "ipython",
    "version": 3
   },
   "file_extension": ".py",
   "mimetype": "text/x-python",
   "name": "python",
   "nbconvert_exporter": "python",
   "pygments_lexer": "ipython3",
   "version": "3.8.8"
  }
 },
 "nbformat": 4,
 "nbformat_minor": 4
}
