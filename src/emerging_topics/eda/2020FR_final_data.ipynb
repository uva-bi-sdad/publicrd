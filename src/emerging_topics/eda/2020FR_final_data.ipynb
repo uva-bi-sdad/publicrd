{
 "cells": [
  {
   "cell_type": "markdown",
   "metadata": {},
   "source": [
    "# FR: 2008 - 2019 dataset EDA"
   ]
  },
  {
   "cell_type": "code",
   "execution_count": 1,
   "metadata": {},
   "outputs": [],
   "source": [
    "import pandas as pd\n",
    "import numpy as np\n",
    "import pickle\n",
    "import matplotlib.pyplot as plt\n"
   ]
  },
  {
   "cell_type": "code",
   "execution_count": 2,
   "metadata": {},
   "outputs": [],
   "source": [
    "# read in data\n",
    "\n",
    "df = pd.read_pickle(\"../../data/final/final_dataset_7-20.pkl\")"
   ]
  },
  {
   "cell_type": "code",
   "execution_count": 3,
   "metadata": {},
   "outputs": [
    {
     "data": {
      "text/html": [
       "<div>\n",
       "<style scoped>\n",
       "    .dataframe tbody tr th:only-of-type {\n",
       "        vertical-align: middle;\n",
       "    }\n",
       "\n",
       "    .dataframe tbody tr th {\n",
       "        vertical-align: top;\n",
       "    }\n",
       "\n",
       "    .dataframe thead th {\n",
       "        text-align: right;\n",
       "    }\n",
       "</style>\n",
       "<table border=\"1\" class=\"dataframe\">\n",
       "  <thead>\n",
       "    <tr style=\"text-align: right;\">\n",
       "      <th></th>\n",
       "      <th>original index</th>\n",
       "      <th>PROJECT_ID</th>\n",
       "      <th>ABSTRACT</th>\n",
       "      <th>FY</th>\n",
       "      <th>PROJECT_TERMS</th>\n",
       "      <th>PROJECT_TITLE</th>\n",
       "      <th>DEPARTMENT</th>\n",
       "      <th>AGENCY</th>\n",
       "      <th>IC_CENTER</th>\n",
       "      <th>PROJECT_NUMBER</th>\n",
       "      <th>...</th>\n",
       "      <th>working_abstract</th>\n",
       "      <th>Start_Char</th>\n",
       "      <th>nchar</th>\n",
       "      <th>LAST_CHAR</th>\n",
       "      <th>lemma_abstract</th>\n",
       "      <th>clean_lemmas</th>\n",
       "      <th>stopwds_removed</th>\n",
       "      <th>n_grams_added</th>\n",
       "      <th>final_tokens</th>\n",
       "      <th>final_frqwds_removed</th>\n",
       "    </tr>\n",
       "  </thead>\n",
       "  <tbody>\n",
       "    <tr>\n",
       "      <th>0</th>\n",
       "      <td>17608</td>\n",
       "      <td>152242</td>\n",
       "      <td>The multiprotein complex y-secretase proteolyt...</td>\n",
       "      <td>2008</td>\n",
       "      <td>Active Sites; Affect; Alzheimer's Disease; Amy...</td>\n",
       "      <td>STRUCTURE OF SIGNAL PEPTIDE PEPTIDASE</td>\n",
       "      <td>HHS</td>\n",
       "      <td>NIH</td>\n",
       "      <td>NaN</td>\n",
       "      <td>5F32AG027647-03</td>\n",
       "      <td>...</td>\n",
       "      <td>The multiprotein complex y-secretase proteolyt...</td>\n",
       "      <td>T</td>\n",
       "      <td>1402</td>\n",
       "      <td>g</td>\n",
       "      <td>[multiprotein, complex, y-secretase, proteolyt...</td>\n",
       "      <td>[multiprotein, complex, y-secretase, proteolyt...</td>\n",
       "      <td>[multiprotein, complex, y-secretase, proteolyt...</td>\n",
       "      <td>[multiprotein, complex, y-secretase, proteolyt...</td>\n",
       "      <td>[multiprotein, complex, y_secretase, proteolyt...</td>\n",
       "      <td>[multiprotein, y_secretase, proteolytically_cl...</td>\n",
       "    </tr>\n",
       "    <tr>\n",
       "      <th>1</th>\n",
       "      <td>111864</td>\n",
       "      <td>190316</td>\n",
       "      <td>DESCRIPTION (provided by applicant):   The Kis...</td>\n",
       "      <td>2008</td>\n",
       "      <td>Affect; Animal Model; Axon; Behavior; Behavior...</td>\n",
       "      <td>ROLE OF KISS1 NEURONS IN THE SEASONAL AND CIRC...</td>\n",
       "      <td>HHS</td>\n",
       "      <td>NIH</td>\n",
       "      <td>NaN</td>\n",
       "      <td>5K99HD056157-02</td>\n",
       "      <td>...</td>\n",
       "      <td>The Kissl gene encodes peptides called kisspep...</td>\n",
       "      <td>T</td>\n",
       "      <td>2553</td>\n",
       "      <td>y</td>\n",
       "      <td>[Kissl, gene, encode, peptide, call, kisspepti...</td>\n",
       "      <td>[kissl, gene, encode, peptide, call, kisspepti...</td>\n",
       "      <td>[kissl, gene, encode, peptide, kisspeptin, bin...</td>\n",
       "      <td>[kissl, gene, encode, peptide, kisspeptin, bin...</td>\n",
       "      <td>[kissl, gene, encode, peptide, kisspeptin, bin...</td>\n",
       "      <td>[kissl, gene, encode, peptide, kisspeptin, bin...</td>\n",
       "    </tr>\n",
       "    <tr>\n",
       "      <th>2</th>\n",
       "      <td>22052</td>\n",
       "      <td>154213</td>\n",
       "      <td>DESCRIPTION (provided by applicant): The objec...</td>\n",
       "      <td>2008</td>\n",
       "      <td>Agreement; Antibodies; base; Binding; Biochemi...</td>\n",
       "      <td>CARBONIC ANHYDRASE AS A MODEL TO UNDERSTAND DI...</td>\n",
       "      <td>HHS</td>\n",
       "      <td>NIH</td>\n",
       "      <td>NaN</td>\n",
       "      <td>5F32GM076971-02</td>\n",
       "      <td>...</td>\n",
       "      <td>The objective of this research is to understan...</td>\n",
       "      <td>T</td>\n",
       "      <td>1414</td>\n",
       "      <td>e</td>\n",
       "      <td>[objective, research, be, understand, biophysi...</td>\n",
       "      <td>[objective, research, be, understand, biophysi...</td>\n",
       "      <td>[objective, research, understand, biophysical,...</td>\n",
       "      <td>[objective, research, understand, biophysical,...</td>\n",
       "      <td>[objective, research, understand, biophysical,...</td>\n",
       "      <td>[biophysical, basis, thermodynamics_kinetic, m...</td>\n",
       "    </tr>\n",
       "    <tr>\n",
       "      <th>3</th>\n",
       "      <td>35004</td>\n",
       "      <td>159362</td>\n",
       "      <td>Obesity is the cause of many adverse pregnancy...</td>\n",
       "      <td>2008</td>\n",
       "      <td>African; Analysis of Variance; Asians; Birth; ...</td>\n",
       "      <td>OBESITY ON VAGAL TONE AND HBA1C DURING PREGNANCY</td>\n",
       "      <td>HHS</td>\n",
       "      <td>NIH</td>\n",
       "      <td>NaN</td>\n",
       "      <td>5F31NR009611-03</td>\n",
       "      <td>...</td>\n",
       "      <td>Obesity is the cause of many adverse pregnancy...</td>\n",
       "      <td>O</td>\n",
       "      <td>1545</td>\n",
       "      <td>d</td>\n",
       "      <td>[obesity, cause, many, adverse, pregnancyoutco...</td>\n",
       "      <td>[obesity, cause, many, adverse, pregnancyoutco...</td>\n",
       "      <td>[obesity, cause, adverse, pregnancyoutcome, re...</td>\n",
       "      <td>[obesity, cause, adverse_pregnancyoutcome, res...</td>\n",
       "      <td>[obesity, cause, adverse_pregnancyoutcome, res...</td>\n",
       "      <td>[obesity, adverse_pregnancyoutcome, great, hea...</td>\n",
       "    </tr>\n",
       "    <tr>\n",
       "      <th>4</th>\n",
       "      <td>371628</td>\n",
       "      <td>594482</td>\n",
       "      <td>Local potato advisory groups have expressed in...</td>\n",
       "      <td>2010</td>\n",
       "      <td>cost; Health; interest; Manure; Parasitic nema...</td>\n",
       "      <td>PLANT-PARASITIC NEMATODE MANAGEMENT AS A COMPO...</td>\n",
       "      <td>USDA</td>\n",
       "      <td>NIFA</td>\n",
       "      <td>NaN</td>\n",
       "      <td>0219605</td>\n",
       "      <td>...</td>\n",
       "      <td>Local potato advisory groups have expressed in...</td>\n",
       "      <td>L</td>\n",
       "      <td>271</td>\n",
       "      <td>s</td>\n",
       "      <td>[local, potato, advisory, group, express, inte...</td>\n",
       "      <td>[local, potato, advisory, group, express, inte...</td>\n",
       "      <td>[local, potato, advisory, group, express, inte...</td>\n",
       "      <td>[local, potato, advisory, group, express, inte...</td>\n",
       "      <td>[local, potato, advisory, group, express, inte...</td>\n",
       "      <td>[local, potato, advisory, express, interest, m...</td>\n",
       "    </tr>\n",
       "  </tbody>\n",
       "</table>\n",
       "<p>5 rows × 39 columns</p>\n",
       "</div>"
      ],
      "text/plain": [
       "   original index PROJECT_ID  \\\n",
       "0           17608     152242   \n",
       "1          111864     190316   \n",
       "2           22052     154213   \n",
       "3           35004     159362   \n",
       "4          371628     594482   \n",
       "\n",
       "                                            ABSTRACT    FY  \\\n",
       "0  The multiprotein complex y-secretase proteolyt...  2008   \n",
       "1  DESCRIPTION (provided by applicant):   The Kis...  2008   \n",
       "2  DESCRIPTION (provided by applicant): The objec...  2008   \n",
       "3  Obesity is the cause of many adverse pregnancy...  2008   \n",
       "4  Local potato advisory groups have expressed in...  2010   \n",
       "\n",
       "                                       PROJECT_TERMS  \\\n",
       "0  Active Sites; Affect; Alzheimer's Disease; Amy...   \n",
       "1  Affect; Animal Model; Axon; Behavior; Behavior...   \n",
       "2  Agreement; Antibodies; base; Binding; Biochemi...   \n",
       "3  African; Analysis of Variance; Asians; Birth; ...   \n",
       "4  cost; Health; interest; Manure; Parasitic nema...   \n",
       "\n",
       "                                       PROJECT_TITLE DEPARTMENT AGENCY  \\\n",
       "0              STRUCTURE OF SIGNAL PEPTIDE PEPTIDASE        HHS    NIH   \n",
       "1  ROLE OF KISS1 NEURONS IN THE SEASONAL AND CIRC...        HHS    NIH   \n",
       "2  CARBONIC ANHYDRASE AS A MODEL TO UNDERSTAND DI...        HHS    NIH   \n",
       "3   OBESITY ON VAGAL TONE AND HBA1C DURING PREGNANCY        HHS    NIH   \n",
       "4  PLANT-PARASITIC NEMATODE MANAGEMENT AS A COMPO...       USDA   NIFA   \n",
       "\n",
       "  IC_CENTER   PROJECT_NUMBER  ...  \\\n",
       "0       NaN  5F32AG027647-03  ...   \n",
       "1       NaN  5K99HD056157-02  ...   \n",
       "2       NaN  5F32GM076971-02  ...   \n",
       "3       NaN  5F31NR009611-03  ...   \n",
       "4       NaN          0219605  ...   \n",
       "\n",
       "                                    working_abstract Start_Char nchar  \\\n",
       "0  The multiprotein complex y-secretase proteolyt...          T  1402   \n",
       "1  The Kissl gene encodes peptides called kisspep...          T  2553   \n",
       "2  The objective of this research is to understan...          T  1414   \n",
       "3  Obesity is the cause of many adverse pregnancy...          O  1545   \n",
       "4  Local potato advisory groups have expressed in...          L   271   \n",
       "\n",
       "  LAST_CHAR                                     lemma_abstract  \\\n",
       "0         g  [multiprotein, complex, y-secretase, proteolyt...   \n",
       "1         y  [Kissl, gene, encode, peptide, call, kisspepti...   \n",
       "2         e  [objective, research, be, understand, biophysi...   \n",
       "3         d  [obesity, cause, many, adverse, pregnancyoutco...   \n",
       "4         s  [local, potato, advisory, group, express, inte...   \n",
       "\n",
       "                                        clean_lemmas  \\\n",
       "0  [multiprotein, complex, y-secretase, proteolyt...   \n",
       "1  [kissl, gene, encode, peptide, call, kisspepti...   \n",
       "2  [objective, research, be, understand, biophysi...   \n",
       "3  [obesity, cause, many, adverse, pregnancyoutco...   \n",
       "4  [local, potato, advisory, group, express, inte...   \n",
       "\n",
       "                                     stopwds_removed  \\\n",
       "0  [multiprotein, complex, y-secretase, proteolyt...   \n",
       "1  [kissl, gene, encode, peptide, kisspeptin, bin...   \n",
       "2  [objective, research, understand, biophysical,...   \n",
       "3  [obesity, cause, adverse, pregnancyoutcome, re...   \n",
       "4  [local, potato, advisory, group, express, inte...   \n",
       "\n",
       "                                       n_grams_added  \\\n",
       "0  [multiprotein, complex, y-secretase, proteolyt...   \n",
       "1  [kissl, gene, encode, peptide, kisspeptin, bin...   \n",
       "2  [objective, research, understand, biophysical,...   \n",
       "3  [obesity, cause, adverse_pregnancyoutcome, res...   \n",
       "4  [local, potato, advisory, group, express, inte...   \n",
       "\n",
       "                                        final_tokens  \\\n",
       "0  [multiprotein, complex, y_secretase, proteolyt...   \n",
       "1  [kissl, gene, encode, peptide, kisspeptin, bin...   \n",
       "2  [objective, research, understand, biophysical,...   \n",
       "3  [obesity, cause, adverse_pregnancyoutcome, res...   \n",
       "4  [local, potato, advisory, group, express, inte...   \n",
       "\n",
       "                                final_frqwds_removed  \n",
       "0  [multiprotein, y_secretase, proteolytically_cl...  \n",
       "1  [kissl, gene, encode, peptide, kisspeptin, bin...  \n",
       "2  [biophysical, basis, thermodynamics_kinetic, m...  \n",
       "3  [obesity, adverse_pregnancyoutcome, great, hea...  \n",
       "4  [local, potato, advisory, express, interest, m...  \n",
       "\n",
       "[5 rows x 39 columns]"
      ]
     },
     "execution_count": 3,
     "metadata": {},
     "output_type": "execute_result"
    }
   ],
   "source": [
    "df.head()"
   ]
  },
  {
   "cell_type": "code",
   "execution_count": 34,
   "metadata": {},
   "outputs": [
    {
     "data": {
      "text/plain": [
       "Text(0.5, 1.0, 'Abstract County by Project Start Year')"
      ]
     },
     "execution_count": 34,
     "metadata": {},
     "output_type": "execute_result"
    },
    {
     "data": {
      "image/png": "[encoded data removed]",
      "text/plain": [
       "<Figure size 432x288 with 1 Axes>"
      ]
     },
     "metadata": {
      "needs_background": "light"
     },
     "output_type": "display_data"
    }
   ],
   "source": [
    "# plot number of abstracts by department\n",
    "\n",
    "y = df[\"DEPARTMENT\"].value_counts()\n",
    "y.plot(kind = 'bar')\n",
    "plt.ylabel('Number of Abstracts')\n",
    "plt.xlabel('Year')\n",
    "plt.title('Abstract County by Project Start Year')\n"
   ]
  },
  {
   "cell_type": "code",
   "execution_count": null,
   "metadata": {},
   "outputs": [],
   "source": []
  },
  {
   "cell_type": "code",
   "execution_count": 32,
   "metadata": {},
   "outputs": [
    {
     "data": {
      "text/plain": [
       "0         2005\n",
       "1         2007\n",
       "2         2007\n",
       "3         2006\n",
       "4         2009\n",
       "          ... \n",
       "690850    2018\n",
       "690851    2019\n",
       "690852    2018\n",
       "690853    2019\n",
       "690854    2018\n",
       "Name: START_YEAR, Length: 690814, dtype: int64"
      ]
     },
     "execution_count": 32,
     "metadata": {},
     "output_type": "execute_result"
    }
   ],
   "source": [
    "# Extract Year from PROJECT_START_DATE\n",
    "\n",
    "# On our graphs, we want to be able to show year. Therefore, this getYear function gets the year from \n",
    "# different date formats from Project Start Year/End Year\n",
    "\n",
    "#START\n",
    "\n",
    "def getYear(a):   \n",
    "    a = str(a)\n",
    "    if a.find(\"/\"):\n",
    "        splitdate = a.split(\"/\")\n",
    "        if len(splitdate) == 3:\n",
    "            a = splitdate[2]\n",
    "        else:\n",
    "            a = splitdate[0]\n",
    "    year = str(a)\n",
    "    return year\n",
    "\n",
    "df['START_YEAR'] = df['PROJECT_START_DATE'].apply(getYear)\n",
    "df['START_YEAR'].astype(int)"
   ]
  },
  {
   "cell_type": "code",
   "execution_count": 30,
   "metadata": {},
   "outputs": [
    {
     "data": {
      "text/plain": [
       "Text(0.5, 1.0, 'Abstract County by Project Start Year')"
      ]
     },
     "execution_count": 30,
     "metadata": {},
     "output_type": "execute_result"
    },
    {
     "data": {
      "image/png": "[encoded data removed]",
      "text/plain": [
       "<Figure size 432x288 with 1 Axes>"
      ]
     },
     "metadata": {
      "needs_background": "light"
     },
     "output_type": "display_data"
    }
   ],
   "source": [
    "# plot number of abstracts by Start_Year\n",
    "\n",
    "df_filter = df[df['START_YEAR'] > 2007 and df['START_YEAR'] < 2020]\n",
    "y = df_filter['START_YEAR'].value_counts().sort_index()\n",
    "\n",
    "\n",
    "\n",
    "y.plot(kind = 'bar')\n",
    "plt.xlim(2008,2019)\n",
    "plt.ylabel('Number of Abstracts')\n",
    "plt.xlabel('Year')\n",
    "plt.title('Abstract County by Project Start Year')"
   ]
  },
  {
   "cell_type": "code",
   "execution_count": 33,
   "metadata": {},
   "outputs": [
    {
     "ename": "TypeError",
     "evalue": "'>' not supported between instances of 'str' and 'int'",
     "output_type": "error",
     "traceback": [
      "\u001b[0;31m---------------------------------------------------------------------------\u001b[0m",
      "\u001b[0;31mTypeError\u001b[0m                                 Traceback (most recent call last)",
      "\u001b[0;32m<ipython-input-33-65e4db1c73c2>\u001b[0m in \u001b[0;36m<module>\u001b[0;34m\u001b[0m\n\u001b[0;32m----> 1\u001b[0;31m \u001b[0mdf_filter\u001b[0m \u001b[0;34m=\u001b[0m \u001b[0mdf\u001b[0m\u001b[0;34m[\u001b[0m\u001b[0mdf\u001b[0m\u001b[0;34m[\u001b[0m\u001b[0;34m'START_YEAR'\u001b[0m\u001b[0;34m]\u001b[0m \u001b[0;34m>\u001b[0m \u001b[0;36m2007\u001b[0m \u001b[0;32mand\u001b[0m \u001b[0mdf\u001b[0m\u001b[0;34m[\u001b[0m\u001b[0;34m'START_YEAR'\u001b[0m\u001b[0;34m]\u001b[0m \u001b[0;34m<\u001b[0m \u001b[0;36m2020\u001b[0m\u001b[0;34m]\u001b[0m\u001b[0;34m\u001b[0m\u001b[0;34m\u001b[0m\u001b[0m\n\u001b[0m",
      "\u001b[0;32m/apps/software/standard/compiler/gcc/7.1.0/jupyter_conda/2019.10-py3.7/lib/python3.7/site-packages/pandas/core/ops/common.py\u001b[0m in \u001b[0;36mnew_method\u001b[0;34m(self, other)\u001b[0m\n\u001b[1;32m     62\u001b[0m         \u001b[0mother\u001b[0m \u001b[0;34m=\u001b[0m \u001b[0mitem_from_zerodim\u001b[0m\u001b[0;34m(\u001b[0m\u001b[0mother\u001b[0m\u001b[0;34m)\u001b[0m\u001b[0;34m\u001b[0m\u001b[0;34m\u001b[0m\u001b[0m\n\u001b[1;32m     63\u001b[0m \u001b[0;34m\u001b[0m\u001b[0m\n\u001b[0;32m---> 64\u001b[0;31m         \u001b[0;32mreturn\u001b[0m \u001b[0mmethod\u001b[0m\u001b[0;34m(\u001b[0m\u001b[0mself\u001b[0m\u001b[0;34m,\u001b[0m \u001b[0mother\u001b[0m\u001b[0;34m)\u001b[0m\u001b[0;34m\u001b[0m\u001b[0;34m\u001b[0m\u001b[0m\n\u001b[0m\u001b[1;32m     65\u001b[0m \u001b[0;34m\u001b[0m\u001b[0m\n\u001b[1;32m     66\u001b[0m     \u001b[0;32mreturn\u001b[0m \u001b[0mnew_method\u001b[0m\u001b[0;34m\u001b[0m\u001b[0;34m\u001b[0m\u001b[0m\n",
      "\u001b[0;32m/apps/software/standard/compiler/gcc/7.1.0/jupyter_conda/2019.10-py3.7/lib/python3.7/site-packages/pandas/core/ops/__init__.py\u001b[0m in \u001b[0;36mwrapper\u001b[0;34m(self, other)\u001b[0m\n\u001b[1;32m    527\u001b[0m         \u001b[0mrvalues\u001b[0m \u001b[0;34m=\u001b[0m \u001b[0mextract_array\u001b[0m\u001b[0;34m(\u001b[0m\u001b[0mother\u001b[0m\u001b[0;34m,\u001b[0m \u001b[0mextract_numpy\u001b[0m\u001b[0;34m=\u001b[0m\u001b[0;32mTrue\u001b[0m\u001b[0;34m)\u001b[0m\u001b[0;34m\u001b[0m\u001b[0;34m\u001b[0m\u001b[0m\n\u001b[1;32m    528\u001b[0m \u001b[0;34m\u001b[0m\u001b[0m\n\u001b[0;32m--> 529\u001b[0;31m         \u001b[0mres_values\u001b[0m \u001b[0;34m=\u001b[0m \u001b[0mcomparison_op\u001b[0m\u001b[0;34m(\u001b[0m\u001b[0mlvalues\u001b[0m\u001b[0;34m,\u001b[0m \u001b[0mrvalues\u001b[0m\u001b[0;34m,\u001b[0m \u001b[0mop\u001b[0m\u001b[0;34m)\u001b[0m\u001b[0;34m\u001b[0m\u001b[0;34m\u001b[0m\u001b[0m\n\u001b[0m\u001b[1;32m    530\u001b[0m \u001b[0;34m\u001b[0m\u001b[0m\n\u001b[1;32m    531\u001b[0m         \u001b[0;32mreturn\u001b[0m \u001b[0m_construct_result\u001b[0m\u001b[0;34m(\u001b[0m\u001b[0mself\u001b[0m\u001b[0;34m,\u001b[0m \u001b[0mres_values\u001b[0m\u001b[0;34m,\u001b[0m \u001b[0mindex\u001b[0m\u001b[0;34m=\u001b[0m\u001b[0mself\u001b[0m\u001b[0;34m.\u001b[0m\u001b[0mindex\u001b[0m\u001b[0;34m,\u001b[0m \u001b[0mname\u001b[0m\u001b[0;34m=\u001b[0m\u001b[0mres_name\u001b[0m\u001b[0;34m)\u001b[0m\u001b[0;34m\u001b[0m\u001b[0;34m\u001b[0m\u001b[0m\n",
      "\u001b[0;32m/apps/software/standard/compiler/gcc/7.1.0/jupyter_conda/2019.10-py3.7/lib/python3.7/site-packages/pandas/core/ops/array_ops.py\u001b[0m in \u001b[0;36mcomparison_op\u001b[0;34m(left, right, op)\u001b[0m\n\u001b[1;32m    245\u001b[0m \u001b[0;34m\u001b[0m\u001b[0m\n\u001b[1;32m    246\u001b[0m     \u001b[0;32melif\u001b[0m \u001b[0mis_object_dtype\u001b[0m\u001b[0;34m(\u001b[0m\u001b[0mlvalues\u001b[0m\u001b[0;34m.\u001b[0m\u001b[0mdtype\u001b[0m\u001b[0;34m)\u001b[0m\u001b[0;34m:\u001b[0m\u001b[0;34m\u001b[0m\u001b[0;34m\u001b[0m\u001b[0m\n\u001b[0;32m--> 247\u001b[0;31m         \u001b[0mres_values\u001b[0m \u001b[0;34m=\u001b[0m \u001b[0mcomp_method_OBJECT_ARRAY\u001b[0m\u001b[0;34m(\u001b[0m\u001b[0mop\u001b[0m\u001b[0;34m,\u001b[0m \u001b[0mlvalues\u001b[0m\u001b[0;34m,\u001b[0m \u001b[0mrvalues\u001b[0m\u001b[0;34m)\u001b[0m\u001b[0;34m\u001b[0m\u001b[0;34m\u001b[0m\u001b[0m\n\u001b[0m\u001b[1;32m    248\u001b[0m \u001b[0;34m\u001b[0m\u001b[0m\n\u001b[1;32m    249\u001b[0m     \u001b[0;32melse\u001b[0m\u001b[0;34m:\u001b[0m\u001b[0;34m\u001b[0m\u001b[0;34m\u001b[0m\u001b[0m\n",
      "\u001b[0;32m/apps/software/standard/compiler/gcc/7.1.0/jupyter_conda/2019.10-py3.7/lib/python3.7/site-packages/pandas/core/ops/array_ops.py\u001b[0m in \u001b[0;36mcomp_method_OBJECT_ARRAY\u001b[0;34m(op, x, y)\u001b[0m\n\u001b[1;32m     55\u001b[0m         \u001b[0mresult\u001b[0m \u001b[0;34m=\u001b[0m \u001b[0mlibops\u001b[0m\u001b[0;34m.\u001b[0m\u001b[0mvec_compare\u001b[0m\u001b[0;34m(\u001b[0m\u001b[0mx\u001b[0m\u001b[0;34m.\u001b[0m\u001b[0mravel\u001b[0m\u001b[0;34m(\u001b[0m\u001b[0;34m)\u001b[0m\u001b[0;34m,\u001b[0m \u001b[0my\u001b[0m\u001b[0;34m,\u001b[0m \u001b[0mop\u001b[0m\u001b[0;34m)\u001b[0m\u001b[0;34m\u001b[0m\u001b[0;34m\u001b[0m\u001b[0m\n\u001b[1;32m     56\u001b[0m     \u001b[0;32melse\u001b[0m\u001b[0;34m:\u001b[0m\u001b[0;34m\u001b[0m\u001b[0;34m\u001b[0m\u001b[0m\n\u001b[0;32m---> 57\u001b[0;31m         \u001b[0mresult\u001b[0m \u001b[0;34m=\u001b[0m \u001b[0mlibops\u001b[0m\u001b[0;34m.\u001b[0m\u001b[0mscalar_compare\u001b[0m\u001b[0;34m(\u001b[0m\u001b[0mx\u001b[0m\u001b[0;34m.\u001b[0m\u001b[0mravel\u001b[0m\u001b[0;34m(\u001b[0m\u001b[0;34m)\u001b[0m\u001b[0;34m,\u001b[0m \u001b[0my\u001b[0m\u001b[0;34m,\u001b[0m \u001b[0mop\u001b[0m\u001b[0;34m)\u001b[0m\u001b[0;34m\u001b[0m\u001b[0;34m\u001b[0m\u001b[0m\n\u001b[0m\u001b[1;32m     58\u001b[0m     \u001b[0;32mreturn\u001b[0m \u001b[0mresult\u001b[0m\u001b[0;34m.\u001b[0m\u001b[0mreshape\u001b[0m\u001b[0;34m(\u001b[0m\u001b[0mx\u001b[0m\u001b[0;34m.\u001b[0m\u001b[0mshape\u001b[0m\u001b[0;34m)\u001b[0m\u001b[0;34m\u001b[0m\u001b[0;34m\u001b[0m\u001b[0m\n\u001b[1;32m     59\u001b[0m \u001b[0;34m\u001b[0m\u001b[0m\n",
      "\u001b[0;32mpandas/_libs/ops.pyx\u001b[0m in \u001b[0;36mpandas._libs.ops.scalar_compare\u001b[0;34m()\u001b[0m\n",
      "\u001b[0;31mTypeError\u001b[0m: '>' not supported between instances of 'str' and 'int'"
     ]
    }
   ],
   "source": [
    "df_filter = df[df['START_YEAR'] > 2007 and df['START_YEAR'] < 2020]"
   ]
  },
  {
   "cell_type": "code",
   "execution_count": null,
   "metadata": {},
   "outputs": [],
   "source": []
  }
 ],
 "metadata": {
  "kernelspec": {
   "display_name": "Python 3",
   "language": "python",
   "name": "python3"
  },
  "language_info": {
   "codemirror_mode": {
    "name": "ipython",
    "version": 3
   },
   "file_extension": ".py",
   "mimetype": "text/x-python",
   "name": "python",
   "nbconvert_exporter": "python",
   "pygments_lexer": "ipython3",
   "version": "3.7.4"
  }
 },
 "nbformat": 4,
 "nbformat_minor": 4
}
