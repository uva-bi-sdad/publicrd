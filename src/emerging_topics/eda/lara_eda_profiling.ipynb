{
 "cells": [
  {
   "cell_type": "markdown",
   "metadata": {},
   "source": [
    "### For a cleaned up, stream-lined version of De-duplication code, look under \"cleaning\" file for \"2020-07-14_deduplication_no_eda\"\n",
    "#### This notebook is a combination of Exploratory Data Analysis, Data Profiling and De-duplication. Because of this mish-mash, some code may be out of order for proper functioning. There is some documentation through out the code, but not everywhere."
   ]
  },
  {
   "cell_type": "code",
   "execution_count": 255,
   "metadata": {},
   "outputs": [],
   "source": [
    "import pandas as pd\n",
    "import numpy as np\n",
    "import pickle\n",
    "import matplotlib.pyplot as plt\n",
    "import gensim\n",
    "import time\n",
    "\n",
    "#from sklearn.decomposition import NMF, TruncatedSVD, LatentDirichletAllocation\n",
    "#from sklearn.feature_extraction.text import CountVectorizer\n",
    "#from sklearn.feature_extraction.text import TfidfVectorizer\n",
    "#from sklearn.metrics import pairwise_distances\n",
    "\n",
    "#from gensim.models.coherencemodel import CoherenceModel\n",
    "\n",
    "#import TextCleaning_update"
   ]
  },
  {
   "cell_type": "code",
   "execution_count": 256,
   "metadata": {},
   "outputs": [],
   "source": [
    "# pull in old 2018 raw abstracts\n",
    "old = pd.read_csv('../../data/original/raw_abstracts.csv',engine='python')\n",
    "\n",
    "# remove null abstracts and duplicates\n",
    "#olddf = TextCleaning.remove_nulls(raw_df, \"ABSTRACT\")\n",
    "#olddf = TextCleaning.remove_duplicates(df)\n",
    "\n",
    "old.reset_index(inplace = True)\n",
    "old.rename(columns={'index':'original index'}, inplace=True)"
   ]
  },
  {
   "cell_type": "code",
   "execution_count": 257,
   "metadata": {},
   "outputs": [],
   "source": [
    "#import new data with 2019 added\n",
    "\n",
    "raw = pd.read_csv('../../data/original/working_federal_reporter_2020.csv',engine='python')"
   ]
  },
  {
   "cell_type": "code",
   "execution_count": 258,
   "metadata": {},
   "outputs": [],
   "source": [
    "#df = new\n",
    "#df = TextCleaning.remove_nulls(new, \"ABSTRACT\")\n",
    "#df = TextCleaning.remove_duplicates(df)\n",
    "\n",
    "raw.reset_index(inplace = True)\n",
    "raw.rename(columns={'index':'original index'}, inplace=True)"
   ]
  },
  {
   "cell_type": "code",
   "execution_count": 321,
   "metadata": {},
   "outputs": [],
   "source": [
    "#create working df to make changes but keep raw file as is\n",
    "rnd = raw"
   ]
  },
  {
   "cell_type": "markdown",
   "metadata": {},
   "source": [
    "## Assess difference between two 'FY' columns"
   ]
  },
  {
   "cell_type": "code",
   "execution_count": 322,
   "metadata": {},
   "outputs": [
    {
     "data": {
      "text/plain": [
       "FY.x     0\n",
       "FY.y    19\n",
       "dtype: int64"
      ]
     },
     "execution_count": 322,
     "metadata": {},
     "output_type": "execute_result"
    }
   ],
   "source": [
    "disagree_years = raw[raw['FY.x'] != raw['FY.y']][['FY.x','FY.y']]\n",
    "disagree_years.isnull().sum()"
   ]
  },
  {
   "cell_type": "code",
   "execution_count": 323,
   "metadata": {},
   "outputs": [],
   "source": [
    "#Fill NAs in FY.x column with values from FY.y\n",
    "rnd['FY.x'] = rnd['FY.x'].fillna(rnd['FY.y'])"
   ]
  },
  {
   "cell_type": "code",
   "execution_count": 324,
   "metadata": {},
   "outputs": [
    {
     "data": {
      "text/plain": [
       "FY.x     0\n",
       "FY.y    19\n",
       "dtype: int64"
      ]
     },
     "execution_count": 324,
     "metadata": {},
     "output_type": "execute_result"
    }
   ],
   "source": [
    "#recheck where FY columns are mismatched\n",
    "rnd[rnd['FY.x'] != rnd['FY.y']][['FY.x','FY.y']].isnull().sum()"
   ]
  },
  {
   "cell_type": "code",
   "execution_count": 325,
   "metadata": {
    "collapsed": true,
    "jupyter": {
     "outputs_hidden": true
    }
   },
   "outputs": [
    {
     "data": {
      "text/html": [
       "<div>\n",
       "<style scoped>\n",
       "    .dataframe tbody tr th:only-of-type {\n",
       "        vertical-align: middle;\n",
       "    }\n",
       "\n",
       "    .dataframe tbody tr th {\n",
       "        vertical-align: top;\n",
       "    }\n",
       "\n",
       "    .dataframe thead th {\n",
       "        text-align: right;\n",
       "    }\n",
       "</style>\n",
       "<table border=\"1\" class=\"dataframe\">\n",
       "  <thead>\n",
       "    <tr style=\"text-align: right;\">\n",
       "      <th></th>\n",
       "      <th>FY.x</th>\n",
       "      <th>FY.y</th>\n",
       "    </tr>\n",
       "  </thead>\n",
       "  <tbody>\n",
       "    <tr>\n",
       "      <td>16282</td>\n",
       "      <td>2008.0</td>\n",
       "      <td>NaN</td>\n",
       "    </tr>\n",
       "    <tr>\n",
       "      <td>50636</td>\n",
       "      <td>2008.0</td>\n",
       "      <td>NaN</td>\n",
       "    </tr>\n",
       "    <tr>\n",
       "      <td>73128</td>\n",
       "      <td>2008.0</td>\n",
       "      <td>NaN</td>\n",
       "    </tr>\n",
       "    <tr>\n",
       "      <td>73784</td>\n",
       "      <td>2008.0</td>\n",
       "      <td>81405.0</td>\n",
       "    </tr>\n",
       "    <tr>\n",
       "      <td>73807</td>\n",
       "      <td>2008.0</td>\n",
       "      <td>329831.0</td>\n",
       "    </tr>\n",
       "    <tr>\n",
       "      <td>87421</td>\n",
       "      <td>2008.0</td>\n",
       "      <td>7073.0</td>\n",
       "    </tr>\n",
       "    <tr>\n",
       "      <td>126758</td>\n",
       "      <td>2009.0</td>\n",
       "      <td>NaN</td>\n",
       "    </tr>\n",
       "    <tr>\n",
       "      <td>154276</td>\n",
       "      <td>2009.0</td>\n",
       "      <td>NaN</td>\n",
       "    </tr>\n",
       "    <tr>\n",
       "      <td>187001</td>\n",
       "      <td>2009.0</td>\n",
       "      <td>320749.0</td>\n",
       "    </tr>\n",
       "    <tr>\n",
       "      <td>187618</td>\n",
       "      <td>2009.0</td>\n",
       "      <td>79171.0</td>\n",
       "    </tr>\n",
       "    <tr>\n",
       "      <td>217077</td>\n",
       "      <td>2010.0</td>\n",
       "      <td>599098.0</td>\n",
       "    </tr>\n",
       "    <tr>\n",
       "      <td>234019</td>\n",
       "      <td>2010.0</td>\n",
       "      <td>NaN</td>\n",
       "    </tr>\n",
       "    <tr>\n",
       "      <td>269035</td>\n",
       "      <td>2010.0</td>\n",
       "      <td>NaN</td>\n",
       "    </tr>\n",
       "    <tr>\n",
       "      <td>293939</td>\n",
       "      <td>2010.0</td>\n",
       "      <td>NaN</td>\n",
       "    </tr>\n",
       "    <tr>\n",
       "      <td>298423</td>\n",
       "      <td>2010.0</td>\n",
       "      <td>332527.0</td>\n",
       "    </tr>\n",
       "    <tr>\n",
       "      <td>298975</td>\n",
       "      <td>2010.0</td>\n",
       "      <td>82071.0</td>\n",
       "    </tr>\n",
       "    <tr>\n",
       "      <td>301571</td>\n",
       "      <td>2010.0</td>\n",
       "      <td>NaN</td>\n",
       "    </tr>\n",
       "    <tr>\n",
       "      <td>307530</td>\n",
       "      <td>2010.0</td>\n",
       "      <td>20772.0</td>\n",
       "    </tr>\n",
       "    <tr>\n",
       "      <td>382348</td>\n",
       "      <td>2011.0</td>\n",
       "      <td>NaN</td>\n",
       "    </tr>\n",
       "    <tr>\n",
       "      <td>461470</td>\n",
       "      <td>2012.0</td>\n",
       "      <td>NaN</td>\n",
       "    </tr>\n",
       "    <tr>\n",
       "      <td>532149</td>\n",
       "      <td>2013.0</td>\n",
       "      <td>NaN</td>\n",
       "    </tr>\n",
       "    <tr>\n",
       "      <td>640622</td>\n",
       "      <td>2014.0</td>\n",
       "      <td>NaN</td>\n",
       "    </tr>\n",
       "    <tr>\n",
       "      <td>944963</td>\n",
       "      <td>2017.0</td>\n",
       "      <td>NaN</td>\n",
       "    </tr>\n",
       "    <tr>\n",
       "      <td>944965</td>\n",
       "      <td>2017.0</td>\n",
       "      <td>NaN</td>\n",
       "    </tr>\n",
       "    <tr>\n",
       "      <td>1039323</td>\n",
       "      <td>2018.0</td>\n",
       "      <td>NaN</td>\n",
       "    </tr>\n",
       "    <tr>\n",
       "      <td>1039325</td>\n",
       "      <td>2018.0</td>\n",
       "      <td>NaN</td>\n",
       "    </tr>\n",
       "    <tr>\n",
       "      <td>1086239</td>\n",
       "      <td>2019.0</td>\n",
       "      <td>NaN</td>\n",
       "    </tr>\n",
       "    <tr>\n",
       "      <td>1087833</td>\n",
       "      <td>2019.0</td>\n",
       "      <td>993326.0</td>\n",
       "    </tr>\n",
       "    <tr>\n",
       "      <td>1112738</td>\n",
       "      <td>2019.0</td>\n",
       "      <td>NaN</td>\n",
       "    </tr>\n",
       "  </tbody>\n",
       "</table>\n",
       "</div>"
      ],
      "text/plain": [
       "           FY.x      FY.y\n",
       "16282    2008.0       NaN\n",
       "50636    2008.0       NaN\n",
       "73128    2008.0       NaN\n",
       "73784    2008.0   81405.0\n",
       "73807    2008.0  329831.0\n",
       "87421    2008.0    7073.0\n",
       "126758   2009.0       NaN\n",
       "154276   2009.0       NaN\n",
       "187001   2009.0  320749.0\n",
       "187618   2009.0   79171.0\n",
       "217077   2010.0  599098.0\n",
       "234019   2010.0       NaN\n",
       "269035   2010.0       NaN\n",
       "293939   2010.0       NaN\n",
       "298423   2010.0  332527.0\n",
       "298975   2010.0   82071.0\n",
       "301571   2010.0       NaN\n",
       "307530   2010.0   20772.0\n",
       "382348   2011.0       NaN\n",
       "461470   2012.0       NaN\n",
       "532149   2013.0       NaN\n",
       "640622   2014.0       NaN\n",
       "944963   2017.0       NaN\n",
       "944965   2017.0       NaN\n",
       "1039323  2018.0       NaN\n",
       "1039325  2018.0       NaN\n",
       "1086239  2019.0       NaN\n",
       "1087833  2019.0  993326.0\n",
       "1112738  2019.0       NaN"
      ]
     },
     "execution_count": 325,
     "metadata": {},
     "output_type": "execute_result"
    }
   ],
   "source": [
    "#rnd[rnd['FY.x'] != rnd['FY.y']][['FY.x','FY.y']]"
   ]
  },
  {
   "cell_type": "code",
   "execution_count": 326,
   "metadata": {},
   "outputs": [],
   "source": [
    "#rename 'FY.x' as 'FY' to fit downstream code\n",
    "rnd = rnd.rename(columns={'FY.x': 'FY'})"
   ]
  },
  {
   "cell_type": "code",
   "execution_count": 327,
   "metadata": {},
   "outputs": [],
   "source": [
    "#drop FY.y columns\n",
    "rnd = rnd.drop(['FY.y'], axis=1)"
   ]
  },
  {
   "cell_type": "code",
   "execution_count": null,
   "metadata": {},
   "outputs": [],
   "source": []
  },
  {
   "cell_type": "markdown",
   "metadata": {},
   "source": [
    "### Fill empty PROJECT_START/END_DATEs  with BUDGET END/START DATEs or FY"
   ]
  },
  {
   "cell_type": "code",
   "execution_count": 328,
   "metadata": {},
   "outputs": [
    {
     "data": {
      "text/plain": [
       "82415"
      ]
     },
     "execution_count": 328,
     "metadata": {},
     "output_type": "execute_result"
    }
   ],
   "source": [
    "# For rows with missing Project Start Date, how many also have missing Budget Start Date\n",
    "rnd[rnd.PROJECT_START_DATE.isnull()]['BUDGET_START_DATE'].isnull().sum()"
   ]
  },
  {
   "cell_type": "code",
   "execution_count": 329,
   "metadata": {},
   "outputs": [
    {
     "data": {
      "text/plain": [
       "72511"
      ]
     },
     "execution_count": 329,
     "metadata": {},
     "output_type": "execute_result"
    }
   ],
   "source": [
    "# For rows with missing Project Start Date, how many are NOT missing Budget Start Date\n",
    "rnd[rnd.PROJECT_START_DATE.isnull()]['BUDGET_START_DATE'].notnull().sum()"
   ]
  },
  {
   "cell_type": "code",
   "execution_count": 330,
   "metadata": {},
   "outputs": [],
   "source": [
    "# Fill missing values in Project Start Date with Budget Start Date\n",
    "rnd['PROJECT_START_DATE'] = rnd['PROJECT_START_DATE'].fillna(rnd['BUDGET_START_DATE'])"
   ]
  },
  {
   "cell_type": "code",
   "execution_count": 331,
   "metadata": {},
   "outputs": [
    {
     "data": {
      "text/plain": [
       "PROJECT_START_DATE    82415\n",
       "dtype: int64"
      ]
     },
     "execution_count": 331,
     "metadata": {},
     "output_type": "execute_result"
    }
   ],
   "source": [
    "rnd[['PROJECT_START_DATE']].isnull().sum()"
   ]
  },
  {
   "cell_type": "code",
   "execution_count": 332,
   "metadata": {},
   "outputs": [
    {
     "data": {
      "text/plain": [
       "81204"
      ]
     },
     "execution_count": 332,
     "metadata": {},
     "output_type": "execute_result"
    }
   ],
   "source": [
    "# For rows with missing Project END Date, how many also have missing Budget END Date\n",
    "rnd[rnd.PROJECT_END_DATE.isnull()]['BUDGET_END_DATE'].isnull().sum()"
   ]
  },
  {
   "cell_type": "code",
   "execution_count": 333,
   "metadata": {},
   "outputs": [
    {
     "data": {
      "text/plain": [
       "65128"
      ]
     },
     "execution_count": 333,
     "metadata": {},
     "output_type": "execute_result"
    }
   ],
   "source": [
    "# For rows with missing Project END Date, how many are NOT missing Budget END Date\n",
    "rnd[rnd.PROJECT_END_DATE.isnull()]['BUDGET_END_DATE'].notnull().sum()"
   ]
  },
  {
   "cell_type": "code",
   "execution_count": 334,
   "metadata": {},
   "outputs": [],
   "source": [
    "# Fill missing values in Project Start Date with Budget Start Date\n",
    "rnd['PROJECT_END_DATE'] = rnd['PROJECT_END_DATE'].fillna(rnd['BUDGET_END_DATE'])"
   ]
  },
  {
   "cell_type": "code",
   "execution_count": 335,
   "metadata": {},
   "outputs": [
    {
     "data": {
      "text/plain": [
       "PROJECT_END_DATE    81204\n",
       "dtype: int64"
      ]
     },
     "execution_count": 335,
     "metadata": {},
     "output_type": "execute_result"
    }
   ],
   "source": [
    "rnd[['PROJECT_END_DATE']].isnull().sum()"
   ]
  },
  {
   "cell_type": "code",
   "execution_count": null,
   "metadata": {},
   "outputs": [],
   "source": []
  },
  {
   "cell_type": "markdown",
   "metadata": {},
   "source": [
    "#### If START date still missing, fill with FY"
   ]
  },
  {
   "cell_type": "code",
   "execution_count": 336,
   "metadata": {},
   "outputs": [],
   "source": [
    "rnd['PROJECT_START_DATE'] = rnd['PROJECT_START_DATE'].fillna(rnd['FY'])"
   ]
  },
  {
   "cell_type": "code",
   "execution_count": 337,
   "metadata": {},
   "outputs": [
    {
     "data": {
      "text/plain": [
       "PROJECT_START_DATE    0\n",
       "dtype: int64"
      ]
     },
     "execution_count": 337,
     "metadata": {},
     "output_type": "execute_result"
    }
   ],
   "source": [
    "rnd[['PROJECT_START_DATE']].isnull().sum()"
   ]
  },
  {
   "cell_type": "code",
   "execution_count": null,
   "metadata": {},
   "outputs": [],
   "source": []
  },
  {
   "cell_type": "markdown",
   "metadata": {},
   "source": [
    "## Null ABSTRACT values"
   ]
  },
  {
   "cell_type": "code",
   "execution_count": 338,
   "metadata": {},
   "outputs": [
    {
     "data": {
      "text/plain": [
       "42380"
      ]
     },
     "execution_count": 338,
     "metadata": {},
     "output_type": "execute_result"
    }
   ],
   "source": [
    "len(raw[raw.ABSTRACT.isnull()])"
   ]
  },
  {
   "cell_type": "code",
   "execution_count": 339,
   "metadata": {},
   "outputs": [
    {
     "data": {
      "text/plain": [
       "42380"
      ]
     },
     "execution_count": 339,
     "metadata": {},
     "output_type": "execute_result"
    }
   ],
   "source": [
    "len(rnd[rnd.ABSTRACT.isnull()])"
   ]
  },
  {
   "cell_type": "code",
   "execution_count": 340,
   "metadata": {},
   "outputs": [
    {
     "data": {
      "text/plain": [
       "0"
      ]
     },
     "execution_count": 340,
     "metadata": {},
     "output_type": "execute_result"
    }
   ],
   "source": [
    "len(rnd[rnd.PROJECT_TITLE.isnull()])"
   ]
  },
  {
   "cell_type": "code",
   "execution_count": 341,
   "metadata": {},
   "outputs": [],
   "source": [
    "# create df as dedup, dropping NAN abstracts\n",
    "rnd = rnd[~rnd.ABSTRACT.isnull()]"
   ]
  },
  {
   "cell_type": "code",
   "execution_count": 342,
   "metadata": {},
   "outputs": [
    {
     "data": {
      "text/plain": [
       "1113757"
      ]
     },
     "execution_count": 342,
     "metadata": {},
     "output_type": "execute_result"
    }
   ],
   "source": [
    "len(rnd)"
   ]
  },
  {
   "cell_type": "code",
   "execution_count": 343,
   "metadata": {},
   "outputs": [
    {
     "data": {
      "text/plain": [
       "1156137"
      ]
     },
     "execution_count": 343,
     "metadata": {},
     "output_type": "execute_result"
    }
   ],
   "source": [
    "len(raw)"
   ]
  },
  {
   "cell_type": "code",
   "execution_count": 344,
   "metadata": {},
   "outputs": [
    {
     "data": {
      "text/html": [
       "<div>\n",
       "<style scoped>\n",
       "    .dataframe tbody tr th:only-of-type {\n",
       "        vertical-align: middle;\n",
       "    }\n",
       "\n",
       "    .dataframe tbody tr th {\n",
       "        vertical-align: top;\n",
       "    }\n",
       "\n",
       "    .dataframe thead th {\n",
       "        text-align: right;\n",
       "    }\n",
       "</style>\n",
       "<table border=\"1\" class=\"dataframe\">\n",
       "  <thead>\n",
       "    <tr style=\"text-align: right;\">\n",
       "      <th></th>\n",
       "      <th>original index</th>\n",
       "      <th>PROJECT_ID</th>\n",
       "      <th>ABSTRACT</th>\n",
       "      <th>FY</th>\n",
       "      <th>PROJECT_TERMS</th>\n",
       "      <th>PROJECT_TITLE</th>\n",
       "      <th>DEPARTMENT</th>\n",
       "      <th>AGENCY</th>\n",
       "      <th>IC_CENTER</th>\n",
       "      <th>PROJECT_NUMBER</th>\n",
       "      <th>...</th>\n",
       "      <th>ORGANIZATION_NAME</th>\n",
       "      <th>ORGANIZATION_CITY</th>\n",
       "      <th>ORGANIZATION_STATE</th>\n",
       "      <th>ORGANIZATION_ZIP</th>\n",
       "      <th>ORGANIZATION_COUNTRY</th>\n",
       "      <th>BUDGET_START_DATE</th>\n",
       "      <th>BUDGET_END_DATE</th>\n",
       "      <th>CFDA_CODE</th>\n",
       "      <th>FY_TOTAL_COST</th>\n",
       "      <th>FY_TOTAL_COST_SUB_PROJECTS</th>\n",
       "    </tr>\n",
       "  </thead>\n",
       "  <tbody>\n",
       "  </tbody>\n",
       "</table>\n",
       "<p>0 rows × 26 columns</p>\n",
       "</div>"
      ],
      "text/plain": [
       "Empty DataFrame\n",
       "Columns: [original index, PROJECT_ID, ABSTRACT, FY, PROJECT_TERMS, PROJECT_TITLE, DEPARTMENT, AGENCY, IC_CENTER, PROJECT_NUMBER, PROJECT_START_DATE, PROJECT_END_DATE, CONTACT_PI_PROJECT_LEADER, OTHER_PIS, CONGRESSIONAL_DISTRICT, DUNS_NUMBER, ORGANIZATION_NAME, ORGANIZATION_CITY, ORGANIZATION_STATE, ORGANIZATION_ZIP, ORGANIZATION_COUNTRY, BUDGET_START_DATE, BUDGET_END_DATE, CFDA_CODE, FY_TOTAL_COST, FY_TOTAL_COST_SUB_PROJECTS]\n",
       "Index: []\n",
       "\n",
       "[0 rows x 26 columns]"
      ]
     },
     "execution_count": 344,
     "metadata": {},
     "output_type": "execute_result"
    }
   ],
   "source": [
    "rnd[rnd.ABSTRACT == '']"
   ]
  },
  {
   "cell_type": "code",
   "execution_count": 345,
   "metadata": {},
   "outputs": [
    {
     "data": {
      "text/plain": [
       "1112433"
      ]
     },
     "execution_count": 345,
     "metadata": {},
     "output_type": "execute_result"
    }
   ],
   "source": [
    "# drop abstracts with values of \"ABSTRACT NOT PROVIDED\" and \"No abstract provided \"\n",
    "rnd = rnd[rnd.ABSTRACT != 'ABSTRACT NOT PROVIDED']\n",
    "rnd = rnd[rnd.ABSTRACT != 'No abstract provided']\n",
    "len(rnd)"
   ]
  },
  {
   "cell_type": "code",
   "execution_count": null,
   "metadata": {},
   "outputs": [],
   "source": []
  },
  {
   "cell_type": "markdown",
   "metadata": {},
   "source": [
    "# DE-DUPLICATION"
   ]
  },
  {
   "cell_type": "code",
   "execution_count": 346,
   "metadata": {},
   "outputs": [
    {
     "data": {
      "text/plain": [
       "0"
      ]
     },
     "execution_count": 346,
     "metadata": {},
     "output_type": "execute_result"
    }
   ],
   "source": [
    "# check to make sure \"original index\" columns do not have different values\n",
    "(rnd['original index'] != rnd['original index']).sum()"
   ]
  },
  {
   "cell_type": "code",
   "execution_count": 347,
   "metadata": {},
   "outputs": [],
   "source": [
    "rnd = rnd.drop(['original index'], axis=1)"
   ]
  },
  {
   "cell_type": "code",
   "execution_count": 348,
   "metadata": {},
   "outputs": [
    {
     "data": {
      "text/plain": [
       "0"
      ]
     },
     "execution_count": 348,
     "metadata": {},
     "output_type": "execute_result"
    }
   ],
   "source": [
    "#each row has a unique Project ID\n",
    "pid = rnd.PROJECT_ID.value_counts()> 1\n",
    "pid.sum()"
   ]
  },
  {
   "cell_type": "code",
   "execution_count": 349,
   "metadata": {},
   "outputs": [
    {
     "data": {
      "text/plain": [
       "3576"
      ]
     },
     "execution_count": 349,
     "metadata": {},
     "output_type": "execute_result"
    }
   ],
   "source": [
    "#Some PROJECT_NUMBERs are repeated\n",
    "pnum = rnd.PROJECT_NUMBER.value_counts()> 1\n",
    "pnum.sum()"
   ]
  },
  {
   "cell_type": "code",
   "execution_count": null,
   "metadata": {},
   "outputs": [],
   "source": []
  },
  {
   "cell_type": "code",
   "execution_count": 350,
   "metadata": {},
   "outputs": [
    {
     "data": {
      "text/html": [
       "<div>\n",
       "<style scoped>\n",
       "    .dataframe tbody tr th:only-of-type {\n",
       "        vertical-align: middle;\n",
       "    }\n",
       "\n",
       "    .dataframe tbody tr th {\n",
       "        vertical-align: top;\n",
       "    }\n",
       "\n",
       "    .dataframe thead th {\n",
       "        text-align: right;\n",
       "    }\n",
       "</style>\n",
       "<table border=\"1\" class=\"dataframe\">\n",
       "  <thead>\n",
       "    <tr style=\"text-align: right;\">\n",
       "      <th></th>\n",
       "      <th>PROJECT_ID</th>\n",
       "      <th>ABSTRACT</th>\n",
       "      <th>FY</th>\n",
       "      <th>PROJECT_TERMS</th>\n",
       "      <th>PROJECT_TITLE</th>\n",
       "      <th>DEPARTMENT</th>\n",
       "      <th>AGENCY</th>\n",
       "      <th>IC_CENTER</th>\n",
       "      <th>PROJECT_NUMBER</th>\n",
       "      <th>PROJECT_START_DATE</th>\n",
       "      <th>...</th>\n",
       "      <th>ORGANIZATION_NAME</th>\n",
       "      <th>ORGANIZATION_CITY</th>\n",
       "      <th>ORGANIZATION_STATE</th>\n",
       "      <th>ORGANIZATION_ZIP</th>\n",
       "      <th>ORGANIZATION_COUNTRY</th>\n",
       "      <th>BUDGET_START_DATE</th>\n",
       "      <th>BUDGET_END_DATE</th>\n",
       "      <th>CFDA_CODE</th>\n",
       "      <th>FY_TOTAL_COST</th>\n",
       "      <th>FY_TOTAL_COST_SUB_PROJECTS</th>\n",
       "    </tr>\n",
       "  </thead>\n",
       "  <tbody>\n",
       "  </tbody>\n",
       "</table>\n",
       "<p>0 rows × 25 columns</p>\n",
       "</div>"
      ],
      "text/plain": [
       "Empty DataFrame\n",
       "Columns: [PROJECT_ID, ABSTRACT, FY, PROJECT_TERMS, PROJECT_TITLE, DEPARTMENT, AGENCY, IC_CENTER, PROJECT_NUMBER, PROJECT_START_DATE, PROJECT_END_DATE, CONTACT_PI_PROJECT_LEADER, OTHER_PIS, CONGRESSIONAL_DISTRICT, DUNS_NUMBER, ORGANIZATION_NAME, ORGANIZATION_CITY, ORGANIZATION_STATE, ORGANIZATION_ZIP, ORGANIZATION_COUNTRY, BUDGET_START_DATE, BUDGET_END_DATE, CFDA_CODE, FY_TOTAL_COST, FY_TOTAL_COST_SUB_PROJECTS]\n",
       "Index: []\n",
       "\n",
       "[0 rows x 25 columns]"
      ]
     },
     "execution_count": 350,
     "metadata": {},
     "output_type": "execute_result"
    }
   ],
   "source": [
    "#There are no rows that are exactly the same.\n",
    "rnd[rnd.duplicated(subset=None, keep='first')]"
   ]
  },
  {
   "cell_type": "code",
   "execution_count": 351,
   "metadata": {},
   "outputs": [
    {
     "data": {
      "text/plain": [
       "3161"
      ]
     },
     "execution_count": 351,
     "metadata": {},
     "output_type": "execute_result"
    }
   ],
   "source": [
    "len(\n",
    "    rnd[rnd.duplicated(subset=['ABSTRACT', 'FY', 'PROJECT_TITLE', 'DEPARTMENT', 'AGENCY', 'PROJECT_TERMS',\n",
    "      'PROJECT_START_DATE', 'PROJECT_END_DATE', 'CONTACT_PI_PROJECT_LEADER', \n",
    "       'FY_TOTAL_COST', 'FY_TOTAL_COST_SUB_PROJECTS'], keep='first')]\n",
    ")"
   ]
  },
  {
   "cell_type": "code",
   "execution_count": null,
   "metadata": {},
   "outputs": [],
   "source": []
  },
  {
   "cell_type": "code",
   "execution_count": 352,
   "metadata": {},
   "outputs": [
    {
     "data": {
      "text/plain": [
       "6454"
      ]
     },
     "execution_count": 352,
     "metadata": {},
     "output_type": "execute_result"
    }
   ],
   "source": [
    "len(rnd[rnd.duplicated(subset=['PROJECT_NUMBER'], keep='last')]\n",
    "   )"
   ]
  },
  {
   "cell_type": "code",
   "execution_count": 388,
   "metadata": {},
   "outputs": [],
   "source": [
    "duplicates = rnd[rnd.duplicated(subset=['ABSTRACT',  'PROJECT_TITLE', #'DEPARTMENT', 'AGENCY', #'PROJECT_TERMS','FY',\n",
    "      'PROJECT_START_DATE', #'PROJECT_END_DATE', \n",
    "                            # 'ORGANIZATION_NAME',\n",
    "                             #'CONTACT_PI_PROJECT_LEADER', \n",
    "      # 'FY_TOTAL_COST', #'FY_TOTAL_COST_SUB_PROJECTS'\n",
    "                        ], keep= False)]"
   ]
  },
  {
   "cell_type": "code",
   "execution_count": 389,
   "metadata": {},
   "outputs": [
    {
     "data": {
      "text/plain": [
       "612336"
      ]
     },
     "execution_count": 389,
     "metadata": {},
     "output_type": "execute_result"
    }
   ],
   "source": [
    "len(duplicates)"
   ]
  },
  {
   "cell_type": "code",
   "execution_count": 355,
   "metadata": {},
   "outputs": [
    {
     "data": {
      "text/plain": [
       "0"
      ]
     },
     "execution_count": 355,
     "metadata": {},
     "output_type": "execute_result"
    }
   ],
   "source": [
    "#There are no rows without a Project Title\n",
    "rnd.PROJECT_TITLE.isnull().sum()"
   ]
  },
  {
   "cell_type": "code",
   "execution_count": 356,
   "metadata": {},
   "outputs": [],
   "source": [
    "#Sort df by END date\n",
    "rnd = rnd.sort_values(['PROJECT_END_DATE'])"
   ]
  },
  {
   "cell_type": "code",
   "execution_count": 357,
   "metadata": {},
   "outputs": [],
   "source": [
    "null_date = rnd[rnd.PROJECT_START_DATE.isnull()]"
   ]
  },
  {
   "cell_type": "code",
   "execution_count": 358,
   "metadata": {},
   "outputs": [
    {
     "data": {
      "text/plain": [
       "0"
      ]
     },
     "execution_count": 358,
     "metadata": {},
     "output_type": "execute_result"
    }
   ],
   "source": [
    "len(null_date)"
   ]
  },
  {
   "cell_type": "code",
   "execution_count": 359,
   "metadata": {},
   "outputs": [],
   "source": [
    "null_date_dup = null_date[null_date.duplicated(subset=['ABSTRACT', 'PROJECT_TITLE'], keep=False)]"
   ]
  },
  {
   "cell_type": "code",
   "execution_count": 360,
   "metadata": {},
   "outputs": [
    {
     "data": {
      "text/plain": [
       "0"
      ]
     },
     "execution_count": 360,
     "metadata": {},
     "output_type": "execute_result"
    }
   ],
   "source": [
    "len(null_date_dup)"
   ]
  },
  {
   "cell_type": "code",
   "execution_count": 361,
   "metadata": {},
   "outputs": [
    {
     "data": {
      "text/plain": [
       "0"
      ]
     },
     "execution_count": 361,
     "metadata": {},
     "output_type": "execute_result"
    }
   ],
   "source": [
    "len(null_date_dup.ABSTRACT.value_counts())"
   ]
  },
  {
   "cell_type": "code",
   "execution_count": 362,
   "metadata": {},
   "outputs": [],
   "source": [
    "# where Proj_START is NAN, but END date is not duplicated, fill start date with previous end date"
   ]
  },
  {
   "cell_type": "code",
   "execution_count": 363,
   "metadata": {},
   "outputs": [
    {
     "data": {
      "text/plain": [
       "0"
      ]
     },
     "execution_count": 363,
     "metadata": {},
     "output_type": "execute_result"
    }
   ],
   "source": [
    "len(null_date_dup[~null_date_dup.duplicated(subset=['PROJECT_END_DATE'], keep=False)])"
   ]
  },
  {
   "cell_type": "markdown",
   "metadata": {},
   "source": [
    "Since there are only 8 rows that have duplicated Start Date, Abstract and Project Title, but END Date is NOT duplicated, it is not worth the time to figure out how to fill the Start Dates with END dates from other rows with same Abstract/Title."
   ]
  },
  {
   "cell_type": "code",
   "execution_count": null,
   "metadata": {},
   "outputs": [],
   "source": []
  },
  {
   "cell_type": "code",
   "execution_count": 364,
   "metadata": {},
   "outputs": [],
   "source": [
    "#Remove rows that have the same Abstract/Title/Start Date\n",
    "dedup = rnd[~rnd.duplicated(subset=['ABSTRACT',  'PROJECT_TITLE', #'DEPARTMENT', 'AGENCY', #'PROJECT_TERMS','FY',\n",
    "      'PROJECT_START_DATE', #'PROJECT_END_DATE', \n",
    "                            # 'ORGANIZATION_NAME',\n",
    "                             #'CONTACT_PI_PROJECT_LEADER', \n",
    "      # 'FY_TOTAL_COST', #'FY_TOTAL_COST_SUB_PROJECTS'\n",
    "                        ], keep='last')]\n"
   ]
  },
  {
   "cell_type": "code",
   "execution_count": 365,
   "metadata": {},
   "outputs": [
    {
     "data": {
      "text/plain": [
       "698600"
      ]
     },
     "execution_count": 365,
     "metadata": {},
     "output_type": "execute_result"
    }
   ],
   "source": [
    "len(dedup)"
   ]
  },
  {
   "cell_type": "code",
   "execution_count": null,
   "metadata": {},
   "outputs": [],
   "source": []
  },
  {
   "cell_type": "markdown",
   "metadata": {},
   "source": [
    "### How many different organizations/PIs are there within each group of duplicate rows?"
   ]
  },
  {
   "cell_type": "code",
   "execution_count": 391,
   "metadata": {},
   "outputs": [
    {
     "data": {
      "text/plain": [
       "222"
      ]
     },
     "execution_count": 391,
     "metadata": {},
     "output_type": "execute_result"
    }
   ],
   "source": [
    "duplicates.ORGANIZATION_NAME.isnull().sum()"
   ]
  },
  {
   "cell_type": "code",
   "execution_count": 393,
   "metadata": {},
   "outputs": [
    {
     "data": {
      "text/plain": [
       "578211"
      ]
     },
     "execution_count": 393,
     "metadata": {},
     "output_type": "execute_result"
    }
   ],
   "source": [
    "# Number of unique ABSTRACTS in data frame\n",
    "len(rnd.ABSTRACT.value_counts())"
   ]
  },
  {
   "cell_type": "code",
   "execution_count": 429,
   "metadata": {},
   "outputs": [],
   "source": [
    "grouped = duplicates.groupby(['ABSTRACT', 'PROJECT_TITLE', 'PROJECT_START_DATE'])"
   ]
  },
  {
   "cell_type": "code",
   "execution_count": 430,
   "metadata": {},
   "outputs": [
    {
     "data": {
      "text/plain": [
       "198503"
      ]
     },
     "execution_count": 430,
     "metadata": {},
     "output_type": "execute_result"
    }
   ],
   "source": [
    "#number of unique ABSTRACTS that have at least 1 duplicate\n",
    "len(grouped)"
   ]
  },
  {
   "cell_type": "code",
   "execution_count": 433,
   "metadata": {
    "collapsed": true,
    "jupyter": {
     "outputs_hidden": true
    }
   },
   "outputs": [
    {
     "data": {
      "text/plain": [
       "1     177309\n",
       "2      18132\n",
       "3       2075\n",
       "4        556\n",
       "5        182\n",
       "6         66\n",
       "7         40\n",
       "0         39\n",
       "8         33\n",
       "9         24\n",
       "11         8\n",
       "13         8\n",
       "10         7\n",
       "12         6\n",
       "15         4\n",
       "19         3\n",
       "14         2\n",
       "16         2\n",
       "18         2\n",
       "28         1\n",
       "17         1\n",
       "20         1\n",
       "22         1\n",
       "31         1\n",
       "Name: ORGANIZATION_NAME, dtype: int64"
      ]
     },
     "execution_count": 433,
     "metadata": {},
     "output_type": "execute_result"
    }
   ],
   "source": [
    "# count of how many abstracts have X number of unique organizations\n",
    "grouped['ORGANIZATION_NAME'].nunique().value_counts()"
   ]
  },
  {
   "cell_type": "code",
   "execution_count": 434,
   "metadata": {},
   "outputs": [],
   "source": [
    "# group whole df by abstract/title/start_date (exact matches)\n",
    "all_grp = rnd.groupby(['ABSTRACT', 'PROJECT_TITLE', 'PROJECT_START_DATE'])"
   ]
  },
  {
   "cell_type": "code",
   "execution_count": 435,
   "metadata": {},
   "outputs": [],
   "source": [
    "# for each unique ABSTRACT/TITLE/START_DATE in whole df, count unique organizations\n",
    "unique_all = all_grp.agg({'ORGANIZATION_NAME' : 'nunique'}) \n",
    "unique_all = unique_all.rename(columns={'ORGANIZATION_NAME': 'ORG_COUNT'})"
   ]
  },
  {
   "cell_type": "code",
   "execution_count": 444,
   "metadata": {},
   "outputs": [],
   "source": [
    "merged = rnd.merge(unique_all, left_on=['ABSTRACT', 'PROJECT_TITLE', 'PROJECT_START_DATE'], right_on=['ABSTRACT', 'PROJECT_TITLE', 'PROJECT_START_DATE'])"
   ]
  },
  {
   "cell_type": "code",
   "execution_count": 449,
   "metadata": {},
   "outputs": [],
   "source": [
    "# for each unique ABSTRACT/TITLE/START_DATE in whole df, count unique PIs\n",
    "unique_pi = all_grp.agg({'CONTACT_PI_PROJECT_LEADER' : 'nunique'}) \n",
    "unique_pi = unique_pi.rename(columns={'CONTACT_PI_PROJECT_LEADER': 'PI_COUNT'})\n",
    "merged_pi = merged.merge(unique_pi, left_on=['ABSTRACT', 'PROJECT_TITLE', 'PROJECT_START_DATE'], right_on=['ABSTRACT', 'PROJECT_TITLE', 'PROJECT_START_DATE'])"
   ]
  },
  {
   "cell_type": "code",
   "execution_count": null,
   "metadata": {},
   "outputs": [],
   "source": []
  },
  {
   "cell_type": "markdown",
   "metadata": {},
   "source": [
    "#### Examine specific ABSTRACTS with duplicate rows"
   ]
  },
  {
   "cell_type": "code",
   "execution_count": 453,
   "metadata": {
    "collapsed": true,
    "jupyter": {
     "outputs_hidden": true
    }
   },
   "outputs": [
    {
     "data": {
      "text/plain": [
       "ABSTRACT NOT PROVIDED                                                                                                                                                                                                                                                                                                                                                                                                                                                                                                                                                                                                                                                                                                                                                                                                                                                                                                                                                                                                                                                                                                                                                                                                                                                                                                                                                                                                                                                                                                                                                                                                                                                                                                                                                                                                                                                                                                                                                                                                                                                                                                                                                                                                                                                                                                                                                                                                                                                                                                                                                                                                                                                                                                                                                                                                                                                                                                                                      848\n",
       "No abstract provided                                                                                                                                                                                                                                                                                                                                                                                                                                                                                                                                                                                                                                                                                                                                                                                                                                                                                                                                                                                                                                                                                                                                                                                                                                                                                                                                                                                                                                                                                                                                                                                                                                                                                                                                                                                                                                                                                                                                                                                                                                                                                                                                                                                                                                                                                                                                                                                                                                                                                                                                                                                                                                                                                                                                                                                                                                                                                                                                       476\n",
       "The Vaccine and Treatment Evaluation Units (VTEUs) are a consortium of individual contracts within academic centers and organizations that provide a ready resource for the design and conduct of clinical trials to evaluate promising vaccines and treatments for infectious disease. Investigations of novel product delivery systems and routes of delivery may also be conducted. In general, products will be evaluated in normal healthy populations; however, access to special populations is also available.                                                                                                                                                                                                                                                                                                                                                                                                                                                                                                                                                                                                                                                                                                                                                                                                                                                                                                                                                                                                                                                                                                                                                                                                                                                                                                                                                                                                                                                                                                                                                                                                                                                                                                                                                                                                                                                                                                                                                                                                                                                                                                                                                                                                                                                                                                                                                                                                                                     258\n",
       "2008 EAPSI FellowshipThis award supports a U.S. graduate student to conduct an individual research project at one of seven locations in East Asia and the Pacific region (Australia, China, Japan, Korea, New Zealand, Singapore, Taiwan).  The research project will provide the student with a first-hand mentored research experience, an introduction to science and science policy infrastructure, and an orientation to the culture and language of the location.  The primary goals of the East Asia Summer Institute program are to expose students to science and engineering in the context of a research laboratory, and to initiate early-career professional relationships that will foster research collaborations with foreign counterparts in the future.                                                                                                                                                                                                                                                                                                                                                                                                                                                                                                                                                                                                                                                                                                                                                                                                                                                                                                                                                                                                                                                                                                                                                                                                                                                                                                                                                                                                                                                                                                                                                                                                                                                                                                                                                                                                                                                                                                                                                                                                                                                                                                                                                                                  190\n",
       "This contract provides for the development and standardization of small animal models for infectious diseases, and may include efficacy testing of candidate products.                                                                                                                                                                                                                                                                                                                                                                                                                                                                                                                                                                                                                                                                                                                                                                                                                                                                                                                                                                                                                                                                                                                                                                                                                                                                                                                                                                                                                                                                                                                                                                                                                                                                                                                                                                                                                                                                                                                                                                                                                                                                                                                                                                                                                                                                                                                                                                                                                                                                                                                                                                                                                                                                                                                                                                                     167\n",
       "                                                                                                                                                                                                                                                                                                                                                                                                                                                                                                                                                                                                                                                                                                                                                                                                                                                                                                                                                                                                                                                                                                                                                                                                                                                                                                                                                                                                                                                                                                                                                                                                                                                                                                                                                                                                                                                                                                                                                                                                                                                                                                                                                                                                                                                                                                                                                                                                                                                                                                                                                                                                                                                                                                                                                                                                                                                                                                                                                          ... \n",
       "DESCRIPTION (provided by applicant): This institutional training grant is for training in the field of behavior genetics. The goals of behavior genetics are to elucidate the genetic and environmental components that regulate individual differences for a multitude of complex normal and abnormal phenotypes. Using multidisciplinary approaches, the genetic basis of psychopathologies, personality disorders, as well as normal cognition and personality, can be investigated. The application of biometrical, statistical, and quantitative genetic techniques and the development of quantitative trait loci methods allow the mapping and identification of genes that regulate complex traits. Information from such analyses, along with neurochemical, neuropharmacological, neurophysiological, and molecular genetic studies, will provide an understanding of gene function related to behavior. The Institute for Behavioral Genetics (IBG) at the University of Colorado has actively pursued the goals of behavior genetics for over 40 years. Its faculty is distinguished and active in research. Major research projects are now in progress in both human and animal behavior genetics, including large scale national collaborative studies amassing DNA repositories and rich phenotypic data sets for studies of mental health. Facilities are available for genotype assay, including genome-wide assays, gene function and expression studies, and behavioral, biochemical, and neurophysiological studies. Funds are requested to support 4 predoctoral and 1 postdoctoral trainee over a total period of 5 years. Predoctoral trainees receive doctorate degrees from a cooperating academic unit and certification in behavior genetics. Academic requirements in the training program include training in behavior genetics, quantitative and biometrical genetics, theoretical and computer-based statistics, molecular genetics, bioinformatics and genomics, responsible conduct of research, and courses on behavioral and clinical phenotypes. Additional requirements vary according to the degree granting academic unit. Research experience is an integral part of training. Postdoctoral trainees also pursue a formalized program that emphasizes individual research as well as competence in molecular and quantitative behavior genetics. Other activities in preparation for research careers in mental health include: supervision of students and/or technicians, hosting of seminar speakers, guest lecturing, a weekly journal club, and mandatory attendance in a course on the responsible conduct of research.  PUBLIC HEALTH RELEVANCE: This proposal is to train scientists who will be able to contribute significantly to our understanding of genetic contributions to mental illness. This understanding will lead to new approaches to the prevention and alleviation of mental illness.      1\n",
       "Interdisciplinary and collaborative training in the applied biosciences is increasing enrollment, retention, and graduation in STEM fields by targeted outreach and recruitment of students for bioinformatics, biotechnology, and biochemistry.  Scholarship support is being provided for traditionally underrepresented students and a Complementary Learning Program (CLP) is providing academic support for bioscience and other STEM majors.  The impact of the project is being assessed by comparing retention and graduation rates for CLP participants and non-participants and tracking STEM enrollment and retention rates among minority students.The merits of the project include the use of group learning environments and exposure to scientific applications in biotechnology and bioinformatics to increase student learning outcomes and persistence in STEM majors. This project is adapting best practices in undergraduate education, including the concepts of Supplemental Instruction and the model of Learning Organizations by Senge, and implementing them within an interdisciplinary curriculum. This project is having a broad impact by (1) increasing the number of students graduating in STEM, particularly in bioinformatics, biotechnology, and biochemistry; (2) increasing awareness of STEM research and employment opportunities; (3) increasing awareness of bioinformatics and biotechnology among high school students; and (4) expanding STEM enrollment for underrepresented populations.  The dissemination plan includes sharing project results in presentations at scientific meetings and education conferences, preparing manuscripts for submission to scientific and educational journals, and submitting materials for inclusion in the National Science Digital Library (NSDL).                                                                                                                                                                                                                                                                                                                                                                                                                                                                                                                                                                                                                                                                                                                                                                                                                                                                                                                                                                                                                                                                                                                    1\n",
       "The U.S. Military has an impressive human service delivery system in place that is designed to support families and thus lower their chances of experiencing problems and dysfunction. In fact, the U.S. Military has partnered with non-military organizations (e.g. CSREES Families, 4-H & Nutrition) to improve access to such supports. Despite the wide array of services however, few if any studies have attempted to explore what educational programs, support networks and services are actually being used, what conditions facilitate or inhibit use and what supports or delivery methods are missing for the youth and families of military service members. The present study seeks to explore this issue via the  Military Families Needs Assessment  (MFNA). As will be detailed, the MNFA will provide a systematic way to gather feedback from both those who have accessed various educational programs and support services, as well as from those who have not. The goal of the project will be to hear directly from the consumers about what is working and what is not in the arena of family education and support. This information will provide guidance for policy makers and service providers in the development and refinement of educational programs, support networks and services, and their delivery in ways that better support service members' families. In turn, it is anticipated that such program enhancements will improve quality of life and overall adjustment to deployment and reintegration, thus improving overall family and service member readiness.                                                                                                                                                                                                                                                                                                                                                                                                                                                                                                                                                                                                                                                                                                                                                                                                                                                                                                                                                                                                                                                                                                                                                                                                                                                                                                                                                  1\n",
       "DESCRIPTION (provided by applicant): This study examines the issue of  silent  strokes in the relationship between the structural stability of atherosclerotic carotid plaque and the development of nonmotor symptomatology, including brain atrophy and cognitive decline. It addresses the question of the role of carotid emboli in  silent  stroke and their cognitive sequelae. The study uses human carotid endarterectomy patients to study three specific aims. The first uses ultrasound to relate plaque elasticity and its development of mechanical strain features with pulsation and the histopathophysiology of the plaque for ulcer, hemorrhage and thinning of stabilizing fibrous cap at the point of these mechanical strain features. The second examines ultrasound detected elasticity strain features in the plaques and the presence of transcranial Doppler TCD detectable microemboli. The third looks at ultrasound strain deficits, microemboli, cognitive decline and brain MRI evidence of focal and generalized atrophy. Understanding the structural plaque abnormalities, which render a carotid plaque mechanically unstable and at risk of embolization will demonstrate a pathophysiologic mechanism in individuals who are likely to suffer not only classic episodic major strokes, but also functional progressive decline from the contribution of microemboli to cerebral  silent  stroke and cognitive decline.                                                                                                                                                                                                                                                                                                                                                                                                                                                                                                                                                                                                                                                                                                                                                                                                                                                                                                                                                                                                                                                                                                                                                                                                                                                                                                                                                                                                                                                                                                   1\n",
       "THE CLOUDS OF VENUS ARE A HIGHLY COUPLED SYSTEM INVOLVING CHEMISTRY, DYNAMICS, AND RADIATIVE BALANCE OF BOTH GASEOUS AND AEROSOL SPECIES AND ARE A UBIQUITOUS FEATURE OF THE VENUS ATMOSPHERE. THE AEROSOLS IN THE VENUS ATMOSPHERE EXHIBIT SIGNIFICANT SPATIAL                                                                                                                                                                                                                                                                                                                                                                                                                                                                                                                                                                                                                                                                                                                                                                                                                                                                                                                                                                                                                                                                                                                                                                                                                                                                                                                                                                                                                                                                                                                                                                                                                                                                                                                                                                                                                                                                                                                                                                                                                                                                                                                                                                                                                                                                                                                                                                                                                                                                                                                                                                                                                                                                                              1\n",
       "Name: ABSTRACT, Length: 578213, dtype: int64"
      ]
     },
     "execution_count": 453,
     "metadata": {},
     "output_type": "execute_result"
    }
   ],
   "source": [
    "raw.ABSTRACT.value_counts()"
   ]
  },
  {
   "cell_type": "code",
   "execution_count": 305,
   "metadata": {},
   "outputs": [],
   "source": [
    "# Abstract w/ highest occurances in raw (2019) data\n",
    "common_raw = raw[raw.ABSTRACT == \"The Vaccine and Treatment Evaluation Units (VTEUs) are a consortium of individual contracts within academic centers and organizations that provide a ready resource for the design and conduct of clinical trials to evaluate promising vaccines and treatments for infectious disease. Investigations of novel product delivery systems and routes of delivery may also be conducted. In general, products will be evaluated in normal healthy populations; however, access to special populations is also available.\"]"
   ]
  },
  {
   "cell_type": "code",
   "execution_count": 306,
   "metadata": {},
   "outputs": [
    {
     "data": {
      "text/plain": [
       "258"
      ]
     },
     "execution_count": 306,
     "metadata": {},
     "output_type": "execute_result"
    }
   ],
   "source": [
    "len(common_raw)"
   ]
  },
  {
   "cell_type": "code",
   "execution_count": 307,
   "metadata": {},
   "outputs": [],
   "source": [
    "# Abstract w/ highest occurances in de-duplicated and -NAN  2019 data\n",
    "common_df = rnd[rnd.ABSTRACT == \"The Vaccine and Treatment Evaluation Units (VTEUs) are a consortium of individual contracts within academic centers and organizations that provide a ready resource for the design and conduct of clinical trials to evaluate promising vaccines and treatments for infectious disease. Investigations of novel product delivery systems and routes of delivery may also be conducted. In general, products will be evaluated in normal healthy populations; however, access to special populations is also available.\"]"
   ]
  },
  {
   "cell_type": "code",
   "execution_count": 308,
   "metadata": {},
   "outputs": [
    {
     "data": {
      "text/plain": [
       "258"
      ]
     },
     "execution_count": 308,
     "metadata": {},
     "output_type": "execute_result"
    }
   ],
   "source": [
    "len(common_df)"
   ]
  },
  {
   "cell_type": "code",
   "execution_count": 309,
   "metadata": {},
   "outputs": [
    {
     "data": {
      "text/html": [
       "<div>\n",
       "<style scoped>\n",
       "    .dataframe tbody tr th:only-of-type {\n",
       "        vertical-align: middle;\n",
       "    }\n",
       "\n",
       "    .dataframe tbody tr th {\n",
       "        vertical-align: top;\n",
       "    }\n",
       "\n",
       "    .dataframe thead th {\n",
       "        text-align: right;\n",
       "    }\n",
       "</style>\n",
       "<table border=\"1\" class=\"dataframe\">\n",
       "  <thead>\n",
       "    <tr style=\"text-align: right;\">\n",
       "      <th></th>\n",
       "      <th>FY.x</th>\n",
       "      <th>FY_TOTAL_COST</th>\n",
       "      <th>CONTACT_PI_PROJECT_LEADER</th>\n",
       "      <th>PROJECT_TITLE</th>\n",
       "      <th>PROJECT_START_DATE</th>\n",
       "      <th>PROJECT_END_DATE</th>\n",
       "    </tr>\n",
       "  </thead>\n",
       "  <tbody>\n",
       "    <tr>\n",
       "      <td>411955</td>\n",
       "      <td>2011.0</td>\n",
       "      <td>250000.0</td>\n",
       "      <td>BERNSTEIN, DAVID</td>\n",
       "      <td>VACCINE AND TREATMENT EVALUATION UNITS</td>\n",
       "      <td>11/1/2007</td>\n",
       "      <td>10/31/2013</td>\n",
       "    </tr>\n",
       "    <tr>\n",
       "      <td>412078</td>\n",
       "      <td>2011.0</td>\n",
       "      <td>500000.0</td>\n",
       "      <td>MULLIGAN, MARK JOSEPH</td>\n",
       "      <td>VACCINE AND EVALUTION TREATMENT UNITS</td>\n",
       "      <td>11/1/2007</td>\n",
       "      <td>6/15/2013</td>\n",
       "    </tr>\n",
       "    <tr>\n",
       "      <td>412109</td>\n",
       "      <td>2011.0</td>\n",
       "      <td>2000000.0</td>\n",
       "      <td>WINOKUR, PATRICIA</td>\n",
       "      <td>VACCINE AND TREATMENT EVALUATION UNITS</td>\n",
       "      <td>11/1/2007</td>\n",
       "      <td>10/31/2013</td>\n",
       "    </tr>\n",
       "    <tr>\n",
       "      <td>412140</td>\n",
       "      <td>2011.0</td>\n",
       "      <td>250000.0</td>\n",
       "      <td>MULLIGAN, MARK JOSEPH</td>\n",
       "      <td>VACCINE AND EVALUTION TREATMENT UNITS</td>\n",
       "      <td>11/1/2007</td>\n",
       "      <td>6/15/2013</td>\n",
       "    </tr>\n",
       "    <tr>\n",
       "      <td>412342</td>\n",
       "      <td>2011.0</td>\n",
       "      <td>500000.0</td>\n",
       "      <td>WINOKUR, PATRICIA</td>\n",
       "      <td>VACCINE AND TREATMENT EVALUATION UNITS</td>\n",
       "      <td>11/1/2007</td>\n",
       "      <td>10/31/2013</td>\n",
       "    </tr>\n",
       "    <tr>\n",
       "      <td>...</td>\n",
       "      <td>...</td>\n",
       "      <td>...</td>\n",
       "      <td>...</td>\n",
       "      <td>...</td>\n",
       "      <td>...</td>\n",
       "      <td>...</td>\n",
       "    </tr>\n",
       "    <tr>\n",
       "      <td>1086502</td>\n",
       "      <td>2019.0</td>\n",
       "      <td>721834.0</td>\n",
       "      <td>MULLIGAN, MARK</td>\n",
       "      <td>VACCINE AND TREATMENT EVALUATION UNITS: OVERAL...</td>\n",
       "      <td>7/12/2018</td>\n",
       "      <td>7/11/2019</td>\n",
       "    </tr>\n",
       "    <tr>\n",
       "      <td>1090403</td>\n",
       "      <td>2019.0</td>\n",
       "      <td>405891.0</td>\n",
       "      <td>HOFT, DANIEL</td>\n",
       "      <td>VACCINE AND TREATMENT EVALUATION UNITS: CONSUL...</td>\n",
       "      <td>9/15/2015</td>\n",
       "      <td>6/30/2020</td>\n",
       "    </tr>\n",
       "    <tr>\n",
       "      <td>1094195</td>\n",
       "      <td>2019.0</td>\n",
       "      <td>112851.0</td>\n",
       "      <td>KOTLOFF, KAREN L.</td>\n",
       "      <td>PHASE 1 MALARIA VACCINE TRIAL  - VTEU</td>\n",
       "      <td>3/23/2014</td>\n",
       "      <td>10/31/2020</td>\n",
       "    </tr>\n",
       "    <tr>\n",
       "      <td>1099132</td>\n",
       "      <td>2019.0</td>\n",
       "      <td>442431.0</td>\n",
       "      <td>SZTEIN, MARCELO</td>\n",
       "      <td>VACCINE AND TREATMENT EVALUATION UNIT: CONSULT...</td>\n",
       "      <td>9/1/2015</td>\n",
       "      <td>2/28/2020</td>\n",
       "    </tr>\n",
       "    <tr>\n",
       "      <td>1100471</td>\n",
       "      <td>2019.0</td>\n",
       "      <td>489532.0</td>\n",
       "      <td>WALTER, EMMANUEL B</td>\n",
       "      <td>VACCINE AND TREATMENT EVALUATION UNITS: A PHAS...</td>\n",
       "      <td>9/11/2014</td>\n",
       "      <td>12/31/2020</td>\n",
       "    </tr>\n",
       "  </tbody>\n",
       "</table>\n",
       "<p>258 rows × 6 columns</p>\n",
       "</div>"
      ],
      "text/plain": [
       "           FY.x  FY_TOTAL_COST CONTACT_PI_PROJECT_LEADER  \\\n",
       "411955   2011.0       250000.0          BERNSTEIN, DAVID   \n",
       "412078   2011.0       500000.0     MULLIGAN, MARK JOSEPH   \n",
       "412109   2011.0      2000000.0         WINOKUR, PATRICIA   \n",
       "412140   2011.0       250000.0     MULLIGAN, MARK JOSEPH   \n",
       "412342   2011.0       500000.0         WINOKUR, PATRICIA   \n",
       "...         ...            ...                       ...   \n",
       "1086502  2019.0       721834.0            MULLIGAN, MARK   \n",
       "1090403  2019.0       405891.0              HOFT, DANIEL   \n",
       "1094195  2019.0       112851.0         KOTLOFF, KAREN L.   \n",
       "1099132  2019.0       442431.0           SZTEIN, MARCELO   \n",
       "1100471  2019.0       489532.0        WALTER, EMMANUEL B   \n",
       "\n",
       "                                             PROJECT_TITLE PROJECT_START_DATE  \\\n",
       "411955              VACCINE AND TREATMENT EVALUATION UNITS          11/1/2007   \n",
       "412078               VACCINE AND EVALUTION TREATMENT UNITS          11/1/2007   \n",
       "412109              VACCINE AND TREATMENT EVALUATION UNITS          11/1/2007   \n",
       "412140               VACCINE AND EVALUTION TREATMENT UNITS          11/1/2007   \n",
       "412342              VACCINE AND TREATMENT EVALUATION UNITS          11/1/2007   \n",
       "...                                                    ...                ...   \n",
       "1086502  VACCINE AND TREATMENT EVALUATION UNITS: OVERAL...          7/12/2018   \n",
       "1090403  VACCINE AND TREATMENT EVALUATION UNITS: CONSUL...          9/15/2015   \n",
       "1094195              PHASE 1 MALARIA VACCINE TRIAL  - VTEU          3/23/2014   \n",
       "1099132  VACCINE AND TREATMENT EVALUATION UNIT: CONSULT...           9/1/2015   \n",
       "1100471  VACCINE AND TREATMENT EVALUATION UNITS: A PHAS...          9/11/2014   \n",
       "\n",
       "        PROJECT_END_DATE  \n",
       "411955        10/31/2013  \n",
       "412078         6/15/2013  \n",
       "412109        10/31/2013  \n",
       "412140         6/15/2013  \n",
       "412342        10/31/2013  \n",
       "...                  ...  \n",
       "1086502        7/11/2019  \n",
       "1090403        6/30/2020  \n",
       "1094195       10/31/2020  \n",
       "1099132        2/28/2020  \n",
       "1100471       12/31/2020  \n",
       "\n",
       "[258 rows x 6 columns]"
      ]
     },
     "execution_count": 309,
     "metadata": {},
     "output_type": "execute_result"
    }
   ],
   "source": [
    "# High Count Abstract in raw 2019 data\n",
    "common_raw[['FY.x', 'FY_TOTAL_COST', 'CONTACT_PI_PROJECT_LEADER', 'PROJECT_TITLE', 'PROJECT_START_DATE', 'PROJECT_END_DATE']]#.sort_values()"
   ]
  },
  {
   "cell_type": "code",
   "execution_count": 310,
   "metadata": {},
   "outputs": [
    {
     "data": {
      "text/html": [
       "<div>\n",
       "<style scoped>\n",
       "    .dataframe tbody tr th:only-of-type {\n",
       "        vertical-align: middle;\n",
       "    }\n",
       "\n",
       "    .dataframe tbody tr th {\n",
       "        vertical-align: top;\n",
       "    }\n",
       "\n",
       "    .dataframe thead th {\n",
       "        text-align: right;\n",
       "    }\n",
       "</style>\n",
       "<table border=\"1\" class=\"dataframe\">\n",
       "  <thead>\n",
       "    <tr style=\"text-align: right;\">\n",
       "      <th></th>\n",
       "      <th>FY</th>\n",
       "      <th>FY_TOTAL_COST</th>\n",
       "      <th>CONTACT_PI_PROJECT_LEADER</th>\n",
       "      <th>PROJECT_TITLE</th>\n",
       "      <th>PROJECT_START_DATE</th>\n",
       "      <th>PROJECT_END_DATE</th>\n",
       "    </tr>\n",
       "  </thead>\n",
       "  <tbody>\n",
       "    <tr>\n",
       "      <td>762148</td>\n",
       "      <td>2015.0</td>\n",
       "      <td>244997.0</td>\n",
       "      <td>WINOKUR, PATRICIA</td>\n",
       "      <td>PHASE I TRIAL OF YELLOW FEVER VIRUS VACCINES -...</td>\n",
       "      <td>7/1/2015</td>\n",
       "      <td>1/1/2017</td>\n",
       "    </tr>\n",
       "    <tr>\n",
       "      <td>818679</td>\n",
       "      <td>2016.0</td>\n",
       "      <td>1180154.0</td>\n",
       "      <td>EL SAHLY, HANA</td>\n",
       "      <td>A PROSPECTIVE NATURAL HISTORY STUDY OF US PATI...</td>\n",
       "      <td>4/13/2016</td>\n",
       "      <td>1/11/2020</td>\n",
       "    </tr>\n",
       "    <tr>\n",
       "      <td>778015</td>\n",
       "      <td>2016.0</td>\n",
       "      <td>364065.0</td>\n",
       "      <td>NAGGIE, SUSANNA</td>\n",
       "      <td>PHASE IV CLINICAL TRIAL IN ADULTS WITH COMMUNI...</td>\n",
       "      <td>6/10/2015</td>\n",
       "      <td>1/15/2021</td>\n",
       "    </tr>\n",
       "    <tr>\n",
       "      <td>765530</td>\n",
       "      <td>2015.0</td>\n",
       "      <td>5057627.0</td>\n",
       "      <td>NAGGIE, SUSANNA</td>\n",
       "      <td>PHASE IV CLINICAL TRIAL IN ADULTS WITH COMMUNI...</td>\n",
       "      <td>6/10/2015</td>\n",
       "      <td>1/15/2021</td>\n",
       "    </tr>\n",
       "    <tr>\n",
       "      <td>760932</td>\n",
       "      <td>2015.0</td>\n",
       "      <td>212465.0</td>\n",
       "      <td>KOTLOFF, KAREN L.</td>\n",
       "      <td>PHASE II TRIAL OF MENINGOCOCCAL VACCINES IN PR...</td>\n",
       "      <td>4/20/2015</td>\n",
       "      <td>1/31/2016</td>\n",
       "    </tr>\n",
       "    <tr>\n",
       "      <td>...</td>\n",
       "      <td>...</td>\n",
       "      <td>...</td>\n",
       "      <td>...</td>\n",
       "      <td>...</td>\n",
       "      <td>...</td>\n",
       "      <td>...</td>\n",
       "    </tr>\n",
       "    <tr>\n",
       "      <td>674126</td>\n",
       "      <td>2014.0</td>\n",
       "      <td>NaN</td>\n",
       "      <td>EDWARDS, KATHRYN MARGARET</td>\n",
       "      <td>VACCINE AND TREATMENT EVALUATION UNITS</td>\n",
       "      <td>11/1/2007</td>\n",
       "      <td>9/18/2015</td>\n",
       "    </tr>\n",
       "    <tr>\n",
       "      <td>870544</td>\n",
       "      <td>2017.0</td>\n",
       "      <td>312232.0</td>\n",
       "      <td>BERNSTIEN, DAVID</td>\n",
       "      <td>VACCINE AND TREATMENT EVALUATION UNITS: PHASE ...</td>\n",
       "      <td>11/1/2007</td>\n",
       "      <td>9/30/2017</td>\n",
       "    </tr>\n",
       "    <tr>\n",
       "      <td>830336</td>\n",
       "      <td>2016.0</td>\n",
       "      <td>4825191.0</td>\n",
       "      <td>EDWARDS, KATHRYN MARGARET</td>\n",
       "      <td>VTEU: PHASE I INFLUENZA VACCINE CLINICAL TRIAL</td>\n",
       "      <td>11/15/2015</td>\n",
       "      <td>9/30/2018</td>\n",
       "    </tr>\n",
       "    <tr>\n",
       "      <td>948253</td>\n",
       "      <td>2018.0</td>\n",
       "      <td>186478.0</td>\n",
       "      <td>MULLIGAN, MARK</td>\n",
       "      <td>VACCINE AND TREATMENT EVALUATION UNITS: PHASE ...</td>\n",
       "      <td>7/1/2015</td>\n",
       "      <td>9/30/2018</td>\n",
       "    </tr>\n",
       "    <tr>\n",
       "      <td>924753</td>\n",
       "      <td>2017.0</td>\n",
       "      <td>1360130.0</td>\n",
       "      <td>MULLIGAN, MARK</td>\n",
       "      <td>VACCINE AND TREATMENT EVALUATION UNIT: ASSAY W...</td>\n",
       "      <td>9/15/2015</td>\n",
       "      <td>9/5/2017</td>\n",
       "    </tr>\n",
       "  </tbody>\n",
       "</table>\n",
       "<p>258 rows × 6 columns</p>\n",
       "</div>"
      ],
      "text/plain": [
       "            FY  FY_TOTAL_COST  CONTACT_PI_PROJECT_LEADER  \\\n",
       "762148  2015.0       244997.0          WINOKUR, PATRICIA   \n",
       "818679  2016.0      1180154.0             EL SAHLY, HANA   \n",
       "778015  2016.0       364065.0            NAGGIE, SUSANNA   \n",
       "765530  2015.0      5057627.0            NAGGIE, SUSANNA   \n",
       "760932  2015.0       212465.0          KOTLOFF, KAREN L.   \n",
       "...        ...            ...                        ...   \n",
       "674126  2014.0            NaN  EDWARDS, KATHRYN MARGARET   \n",
       "870544  2017.0       312232.0           BERNSTIEN, DAVID   \n",
       "830336  2016.0      4825191.0  EDWARDS, KATHRYN MARGARET   \n",
       "948253  2018.0       186478.0             MULLIGAN, MARK   \n",
       "924753  2017.0      1360130.0             MULLIGAN, MARK   \n",
       "\n",
       "                                            PROJECT_TITLE PROJECT_START_DATE  \\\n",
       "762148  PHASE I TRIAL OF YELLOW FEVER VIRUS VACCINES -...           7/1/2015   \n",
       "818679  A PROSPECTIVE NATURAL HISTORY STUDY OF US PATI...          4/13/2016   \n",
       "778015  PHASE IV CLINICAL TRIAL IN ADULTS WITH COMMUNI...          6/10/2015   \n",
       "765530  PHASE IV CLINICAL TRIAL IN ADULTS WITH COMMUNI...          6/10/2015   \n",
       "760932  PHASE II TRIAL OF MENINGOCOCCAL VACCINES IN PR...          4/20/2015   \n",
       "...                                                   ...                ...   \n",
       "674126             VACCINE AND TREATMENT EVALUATION UNITS          11/1/2007   \n",
       "870544  VACCINE AND TREATMENT EVALUATION UNITS: PHASE ...          11/1/2007   \n",
       "830336     VTEU: PHASE I INFLUENZA VACCINE CLINICAL TRIAL         11/15/2015   \n",
       "948253  VACCINE AND TREATMENT EVALUATION UNITS: PHASE ...           7/1/2015   \n",
       "924753  VACCINE AND TREATMENT EVALUATION UNIT: ASSAY W...          9/15/2015   \n",
       "\n",
       "       PROJECT_END_DATE  \n",
       "762148         1/1/2017  \n",
       "818679        1/11/2020  \n",
       "778015        1/15/2021  \n",
       "765530        1/15/2021  \n",
       "760932        1/31/2016  \n",
       "...                 ...  \n",
       "674126        9/18/2015  \n",
       "870544        9/30/2017  \n",
       "830336        9/30/2018  \n",
       "948253        9/30/2018  \n",
       "924753         9/5/2017  \n",
       "\n",
       "[258 rows x 6 columns]"
      ]
     },
     "execution_count": 310,
     "metadata": {},
     "output_type": "execute_result"
    }
   ],
   "source": [
    "# Abstract w/ highest occurances in de-duplicated and -NAN  2019 data\n",
    "common_df[['FY', 'FY_TOTAL_COST', 'CONTACT_PI_PROJECT_LEADER', 'PROJECT_TITLE', 'PROJECT_START_DATE', 'PROJECT_END_DATE']]#.sort_values()"
   ]
  },
  {
   "cell_type": "code",
   "execution_count": null,
   "metadata": {},
   "outputs": [],
   "source": []
  },
  {
   "cell_type": "code",
   "execution_count": 311,
   "metadata": {},
   "outputs": [],
   "source": [
    "#Abstract w/ only 2 occurances in raw 2019 data\n",
    "less_common_raw = raw[raw.ABSTRACT == \"DESCRIPTION (provided by applicant):  The proposed research is designed to develop and test a novel mouse model for in vivo target validation studies relevant to neurodegenerative diseases. This model would permit regulatable silencing of disease- relevant genes via RNA interference (RNAi). The development of safe and effective therapies for human disease requires extensive preclinical data on the effects of altered expression and/or activity of specific gene products on disease pathogenesis in experimentally tractable model systems. In recent years, RNAi techniques have greatly expanded the repertoire of reverse genetic approaches available for studies of potential therapeutic targets in vivo. RNAi is a powerful tool for experimental manipulation of gene expression and can be used to assess the impact of inhibiting target gene products on the initiation and maintenance of disease in mouse models. The primary goal of this project is to generate a flexible system that permits regulatable RNAi-mediated gene silencing in vivo and to use this system to evaluate the therapeutic potential of gene knockdown approaches for the treatment of dominantly inherited amyotrophic lateral sclerosis (ALS). Approximately 20% of familial ALS (FALS) cases are caused by mutations in Cu, Zn superoxide dismutase (SOD1). Overwhelming evidence implicates novel toxic function(s) of the mutant protein as the cause of disease; for this reason, mutant SOD1 itself is a key therapeutic target for familial FALS. The regulatable RNAi vector generated in the first part of this project will be used to establish transgenic mice in which mutant SOD1 expression can be shut down upon treatment of animals with doxycycline. These experiments will assess whether inducing RNAi-mediated silencing of mutant SOD1 in the early stages of pathogenesis will slow the progression of disease. Earlier studies have demonstrated that constitutive expression, beginning prenatally, of small RNAs targeting mutant SOD1 could ameliorate disease in an ALS mouse model. To date, however, there are no mouse models of ALS that permit temporal regulation of mutant SOD1 protein levels. Given the uniformly rapid progression of ALS in affected individuals, it is critical to determine whether a reduction of mutant protein levels would be beneficial if achieved at the onset of disease symptoms. The proposed experiments are designed directly to determine at what point, during the life of an animal engineered to develop motor neuron disease, a reduction in the amount of mutant SOD1 protein will provide a significant therapeutic benefit. The results of this study will aid in establishing an appropriate window for applying agents aimed at reducing mutant protein levels in mutant SOD1-mediated ALS and will provide key data regarding the therapeutic potential of RNAi-mediated gene silencing for the treatment of this devastating disease.    Public Health Relevance: The proposed studies are designed to develop a versatile tool that can be used to validate potential therapeutic targets for human neurodegenerative disorders, including amyotrophic lateral sclerosis (ALS), using mouse models of disease. The specific experiments described in this proposal will help to identify a therapeutic window in the disease course during which treatments for ALS would be most likely to succeed. These studies will provide critical data to aid in the development of effective therapies for familial ALS and will yield a novel reagent that can be readily adapted for use in future target validation efforts.\"]"
   ]
  },
  {
   "cell_type": "code",
   "execution_count": 312,
   "metadata": {},
   "outputs": [
    {
     "data": {
      "text/html": [
       "<div>\n",
       "<style scoped>\n",
       "    .dataframe tbody tr th:only-of-type {\n",
       "        vertical-align: middle;\n",
       "    }\n",
       "\n",
       "    .dataframe tbody tr th {\n",
       "        vertical-align: top;\n",
       "    }\n",
       "\n",
       "    .dataframe thead th {\n",
       "        text-align: right;\n",
       "    }\n",
       "</style>\n",
       "<table border=\"1\" class=\"dataframe\">\n",
       "  <thead>\n",
       "    <tr style=\"text-align: right;\">\n",
       "      <th></th>\n",
       "      <th>FY.x</th>\n",
       "      <th>FY_TOTAL_COST</th>\n",
       "      <th>CONTACT_PI_PROJECT_LEADER</th>\n",
       "      <th>PROJECT_TITLE</th>\n",
       "      <th>PROJECT_START_DATE</th>\n",
       "      <th>PROJECT_END_DATE</th>\n",
       "    </tr>\n",
       "  </thead>\n",
       "  <tbody>\n",
       "    <tr>\n",
       "      <td>67353</td>\n",
       "      <td>2008.0</td>\n",
       "      <td>220927.0</td>\n",
       "      <td>MAXWELL, MICHELE M</td>\n",
       "      <td>TARGET VALIDATION FOR NEUROGENERATIVE DISEASE ...</td>\n",
       "      <td>9/15/2008</td>\n",
       "      <td>2/28/2010</td>\n",
       "    </tr>\n",
       "    <tr>\n",
       "      <td>161389</td>\n",
       "      <td>2009.0</td>\n",
       "      <td>199643.0</td>\n",
       "      <td>MAXWELL, MICHELE M</td>\n",
       "      <td>TARGET VALIDATION FOR NEUROGENERATIVE DISEASE ...</td>\n",
       "      <td>9/15/2008</td>\n",
       "      <td>2/28/2011</td>\n",
       "    </tr>\n",
       "  </tbody>\n",
       "</table>\n",
       "</div>"
      ],
      "text/plain": [
       "          FY.x  FY_TOTAL_COST CONTACT_PI_PROJECT_LEADER  \\\n",
       "67353   2008.0       220927.0        MAXWELL, MICHELE M   \n",
       "161389  2009.0       199643.0        MAXWELL, MICHELE M   \n",
       "\n",
       "                                            PROJECT_TITLE PROJECT_START_DATE  \\\n",
       "67353   TARGET VALIDATION FOR NEUROGENERATIVE DISEASE ...          9/15/2008   \n",
       "161389  TARGET VALIDATION FOR NEUROGENERATIVE DISEASE ...          9/15/2008   \n",
       "\n",
       "       PROJECT_END_DATE  \n",
       "67353         2/28/2010  \n",
       "161389        2/28/2011  "
      ]
     },
     "execution_count": 312,
     "metadata": {},
     "output_type": "execute_result"
    }
   ],
   "source": [
    "less_common_raw[['FY.x', 'FY_TOTAL_COST', 'CONTACT_PI_PROJECT_LEADER', 'PROJECT_TITLE', 'PROJECT_START_DATE', 'PROJECT_END_DATE']]"
   ]
  },
  {
   "cell_type": "code",
   "execution_count": 313,
   "metadata": {},
   "outputs": [],
   "source": [
    "#Abstract w/ only 2 occurances in du-duped 2019 data\n",
    "less_common_df = df[df.ABSTRACT == \"DESCRIPTION (provided by applicant):  The proposed research is designed to develop and test a novel mouse model for in vivo target validation studies relevant to neurodegenerative diseases. This model would permit regulatable silencing of disease- relevant genes via RNA interference (RNAi). The development of safe and effective therapies for human disease requires extensive preclinical data on the effects of altered expression and/or activity of specific gene products on disease pathogenesis in experimentally tractable model systems. In recent years, RNAi techniques have greatly expanded the repertoire of reverse genetic approaches available for studies of potential therapeutic targets in vivo. RNAi is a powerful tool for experimental manipulation of gene expression and can be used to assess the impact of inhibiting target gene products on the initiation and maintenance of disease in mouse models. The primary goal of this project is to generate a flexible system that permits regulatable RNAi-mediated gene silencing in vivo and to use this system to evaluate the therapeutic potential of gene knockdown approaches for the treatment of dominantly inherited amyotrophic lateral sclerosis (ALS). Approximately 20% of familial ALS (FALS) cases are caused by mutations in Cu, Zn superoxide dismutase (SOD1). Overwhelming evidence implicates novel toxic function(s) of the mutant protein as the cause of disease; for this reason, mutant SOD1 itself is a key therapeutic target for familial FALS. The regulatable RNAi vector generated in the first part of this project will be used to establish transgenic mice in which mutant SOD1 expression can be shut down upon treatment of animals with doxycycline. These experiments will assess whether inducing RNAi-mediated silencing of mutant SOD1 in the early stages of pathogenesis will slow the progression of disease. Earlier studies have demonstrated that constitutive expression, beginning prenatally, of small RNAs targeting mutant SOD1 could ameliorate disease in an ALS mouse model. To date, however, there are no mouse models of ALS that permit temporal regulation of mutant SOD1 protein levels. Given the uniformly rapid progression of ALS in affected individuals, it is critical to determine whether a reduction of mutant protein levels would be beneficial if achieved at the onset of disease symptoms. The proposed experiments are designed directly to determine at what point, during the life of an animal engineered to develop motor neuron disease, a reduction in the amount of mutant SOD1 protein will provide a significant therapeutic benefit. The results of this study will aid in establishing an appropriate window for applying agents aimed at reducing mutant protein levels in mutant SOD1-mediated ALS and will provide key data regarding the therapeutic potential of RNAi-mediated gene silencing for the treatment of this devastating disease.    Public Health Relevance: The proposed studies are designed to develop a versatile tool that can be used to validate potential therapeutic targets for human neurodegenerative disorders, including amyotrophic lateral sclerosis (ALS), using mouse models of disease. The specific experiments described in this proposal will help to identify a therapeutic window in the disease course during which treatments for ALS would be most likely to succeed. These studies will provide critical data to aid in the development of effective therapies for familial ALS and will yield a novel reagent that can be readily adapted for use in future target validation efforts.\"]"
   ]
  },
  {
   "cell_type": "code",
   "execution_count": 314,
   "metadata": {},
   "outputs": [
    {
     "data": {
      "text/html": [
       "<div>\n",
       "<style scoped>\n",
       "    .dataframe tbody tr th:only-of-type {\n",
       "        vertical-align: middle;\n",
       "    }\n",
       "\n",
       "    .dataframe tbody tr th {\n",
       "        vertical-align: top;\n",
       "    }\n",
       "\n",
       "    .dataframe thead th {\n",
       "        text-align: right;\n",
       "    }\n",
       "</style>\n",
       "<table border=\"1\" class=\"dataframe\">\n",
       "  <thead>\n",
       "    <tr style=\"text-align: right;\">\n",
       "      <th></th>\n",
       "      <th>FY</th>\n",
       "      <th>FY_TOTAL_COST</th>\n",
       "      <th>CONTACT_PI_PROJECT_LEADER</th>\n",
       "      <th>PROJECT_TITLE</th>\n",
       "      <th>PROJECT_START_DATE</th>\n",
       "      <th>PROJECT_END_DATE</th>\n",
       "    </tr>\n",
       "  </thead>\n",
       "  <tbody>\n",
       "    <tr>\n",
       "      <td>67353</td>\n",
       "      <td>2008.0</td>\n",
       "      <td>220927.0</td>\n",
       "      <td>MAXWELL, MICHELE M</td>\n",
       "      <td>TARGET VALIDATION FOR NEUROGENERATIVE DISEASE ...</td>\n",
       "      <td>9/15/2008</td>\n",
       "      <td>2/28/2010</td>\n",
       "    </tr>\n",
       "    <tr>\n",
       "      <td>161389</td>\n",
       "      <td>2009.0</td>\n",
       "      <td>199643.0</td>\n",
       "      <td>MAXWELL, MICHELE M</td>\n",
       "      <td>TARGET VALIDATION FOR NEUROGENERATIVE DISEASE ...</td>\n",
       "      <td>9/15/2008</td>\n",
       "      <td>2/28/2011</td>\n",
       "    </tr>\n",
       "  </tbody>\n",
       "</table>\n",
       "</div>"
      ],
      "text/plain": [
       "            FY  FY_TOTAL_COST CONTACT_PI_PROJECT_LEADER  \\\n",
       "67353   2008.0       220927.0        MAXWELL, MICHELE M   \n",
       "161389  2009.0       199643.0        MAXWELL, MICHELE M   \n",
       "\n",
       "                                            PROJECT_TITLE PROJECT_START_DATE  \\\n",
       "67353   TARGET VALIDATION FOR NEUROGENERATIVE DISEASE ...          9/15/2008   \n",
       "161389  TARGET VALIDATION FOR NEUROGENERATIVE DISEASE ...          9/15/2008   \n",
       "\n",
       "       PROJECT_END_DATE  \n",
       "67353         2/28/2010  \n",
       "161389        2/28/2011  "
      ]
     },
     "execution_count": 314,
     "metadata": {},
     "output_type": "execute_result"
    }
   ],
   "source": [
    "less_common_df[['FY', 'FY_TOTAL_COST', 'CONTACT_PI_PROJECT_LEADER', 'PROJECT_TITLE', 'PROJECT_START_DATE', 'PROJECT_END_DATE']]"
   ]
  },
  {
   "cell_type": "code",
   "execution_count": null,
   "metadata": {},
   "outputs": [],
   "source": []
  },
  {
   "cell_type": "markdown",
   "metadata": {},
   "source": [
    "# Exploring NAN values in metadata"
   ]
  },
  {
   "cell_type": "code",
   "execution_count": 315,
   "metadata": {},
   "outputs": [
    {
     "data": {
      "text/plain": [
       "PROJECT_ID                          0\n",
       "ABSTRACT                            0\n",
       "FY                                  0\n",
       "PROJECT_TERMS                    3536\n",
       "PROJECT_TITLE                       0\n",
       "DEPARTMENT                          0\n",
       "AGENCY                              0\n",
       "IC_CENTER                      595857\n",
       "PROJECT_NUMBER                      0\n",
       "PROJECT_START_DATE                  0\n",
       "PROJECT_END_DATE                78105\n",
       "CONTACT_PI_PROJECT_LEADER          43\n",
       "OTHER_PIS                      969227\n",
       "CONGRESSIONAL_DISTRICT          69263\n",
       "DUNS_NUMBER                     12047\n",
       "ORGANIZATION_NAME                1626\n",
       "ORGANIZATION_CITY                5548\n",
       "ORGANIZATION_STATE              12162\n",
       "ORGANIZATION_ZIP                46167\n",
       "ORGANIZATION_COUNTRY             5341\n",
       "BUDGET_START_DATE              632754\n",
       "BUDGET_END_DATE                632805\n",
       "CFDA_CODE                      192234\n",
       "FY_TOTAL_COST                  275416\n",
       "FY_TOTAL_COST_SUB_PROJECTS    1041539\n",
       "dtype: int64"
      ]
     },
     "execution_count": 315,
     "metadata": {},
     "output_type": "execute_result"
    }
   ],
   "source": [
    "#how many rows in each column are NAN in the deduplicated/current data set\n",
    "rnd.isnull().sum()"
   ]
  },
  {
   "cell_type": "code",
   "execution_count": 316,
   "metadata": {},
   "outputs": [
    {
     "data": {
      "text/plain": [
       "original index                    0\n",
       "PROJECT_ID                        0\n",
       "ABSTRACT                          3\n",
       "FY                                0\n",
       "FIRST_CHAR                        3\n",
       "LAST_CHAR                         0\n",
       "DEPARTMENT                        0\n",
       "AGENCY                            0\n",
       "IC_CENTER                    373853\n",
       "PROJECT_NUMBER                    0\n",
       "PROJECT_TITLE                     0\n",
       "PROJECT_TERMS                  4967\n",
       "CONTACT_PI_PROJECT_LEADER        55\n",
       "OTHER_PIS                    464283\n",
       "ORGANIZATION_NAME               298\n",
       "CFDA_CODE                     76580\n",
       "FY_TOTAL_COST                124403\n",
       "dtype: int64"
      ]
     },
     "execution_count": 316,
     "metadata": {},
     "output_type": "execute_result"
    }
   ],
   "source": [
    "#how many rows in each column are NAN in the old data set\n",
    "old.isnull().sum()"
   ]
  },
  {
   "cell_type": "code",
   "execution_count": 317,
   "metadata": {},
   "outputs": [
    {
     "data": {
      "text/plain": [
       "PROJECT_ID                          0\n",
       "ABSTRACT                            0\n",
       "FY                                  0\n",
       "PROJECT_TERMS                    3536\n",
       "PROJECT_TITLE                       0\n",
       "DEPARTMENT                          0\n",
       "AGENCY                              0\n",
       "IC_CENTER                      595857\n",
       "PROJECT_NUMBER                      0\n",
       "PROJECT_START_DATE                  0\n",
       "PROJECT_END_DATE                78105\n",
       "CONTACT_PI_PROJECT_LEADER          43\n",
       "OTHER_PIS                      969227\n",
       "CONGRESSIONAL_DISTRICT          69263\n",
       "DUNS_NUMBER                     12047\n",
       "ORGANIZATION_NAME                1626\n",
       "ORGANIZATION_CITY                5548\n",
       "ORGANIZATION_STATE              12162\n",
       "ORGANIZATION_ZIP                46167\n",
       "ORGANIZATION_COUNTRY             5341\n",
       "BUDGET_START_DATE              632754\n",
       "BUDGET_END_DATE                632805\n",
       "CFDA_CODE                      192234\n",
       "FY_TOTAL_COST                  275416\n",
       "FY_TOTAL_COST_SUB_PROJECTS    1041539\n",
       "dtype: int64"
      ]
     },
     "execution_count": 317,
     "metadata": {},
     "output_type": "execute_result"
    }
   ],
   "source": [
    "#how many rows in each column are NOT NAN in the raw 2019 data\n",
    "rnd.isnull().sum()"
   ]
  },
  {
   "cell_type": "code",
   "execution_count": null,
   "metadata": {},
   "outputs": [],
   "source": []
  },
  {
   "cell_type": "code",
   "execution_count": null,
   "metadata": {},
   "outputs": [],
   "source": []
  },
  {
   "cell_type": "code",
   "execution_count": null,
   "metadata": {},
   "outputs": [],
   "source": []
  },
  {
   "cell_type": "markdown",
   "metadata": {},
   "source": [
    "### Total Abstracts per Year"
   ]
  },
  {
   "cell_type": "code",
   "execution_count": 455,
   "metadata": {},
   "outputs": [],
   "source": [
    "rawyear = raw['FY.x'].value_counts().sort_index()"
   ]
  },
  {
   "cell_type": "code",
   "execution_count": 456,
   "metadata": {},
   "outputs": [
    {
     "data": {
      "image/png": "[encoded data removed]",
      "text/plain": [
       "<Figure size 432x288 with 1 Axes>"
      ]
     },
     "metadata": {
      "needs_background": "light"
     },
     "output_type": "display_data"
    }
   ],
   "source": [
    "plt.bar(rawyear.index, rawyear, align='center', alpha=0.5)\n",
    "#plt.xticks(y_pos, objects)\n",
    "plt.ylabel('# of Abstracts')\n",
    "plt.title('Abstracts per year in raw 2019 data')\n",
    "\n",
    "plt.show()"
   ]
  },
  {
   "cell_type": "code",
   "execution_count": 457,
   "metadata": {},
   "outputs": [
    {
     "data": {
      "text/plain": [
       "2008.0     99431\n",
       "2009.0    113722\n",
       "2010.0    105804\n",
       "2011.0     92836\n",
       "2012.0     86290\n",
       "2013.0     86659\n",
       "2014.0     86461\n",
       "2015.0     88403\n",
       "2016.0     89412\n",
       "2017.0     87851\n",
       "2018.0     95718\n",
       "2019.0     79846\n",
       "Name: FY, dtype: int64"
      ]
     },
     "execution_count": 457,
     "metadata": {},
     "output_type": "execute_result"
    }
   ],
   "source": [
    "year = rnd.FY.value_counts().sort_index()\n",
    "year"
   ]
  },
  {
   "cell_type": "code",
   "execution_count": 458,
   "metadata": {},
   "outputs": [
    {
     "data": {
      "image/png": "[encoded data removed]",
      "text/plain": [
       "<Figure size 432x288 with 1 Axes>"
      ]
     },
     "metadata": {
      "needs_background": "light"
     },
     "output_type": "display_data"
    }
   ],
   "source": [
    "plt.bar(year.index, year, align='center', alpha=0.5)\n",
    "#plt.xticks(y_pos, objects)\n",
    "plt.ylabel('# of Abstracts')\n",
    "plt.title('Abstracts per year in deduplicate 2019 data')\n",
    "\n",
    "plt.show()"
   ]
  },
  {
   "cell_type": "code",
   "execution_count": 459,
   "metadata": {},
   "outputs": [
    {
     "data": {
      "text/plain": [
       "2008    94846\n",
       "2009    53413\n",
       "2010    46349\n",
       "2011    42761\n",
       "2012    64056\n",
       "2013    53345\n",
       "2014    43325\n",
       "2015    42252\n",
       "2016    39681\n",
       "2017    34619\n",
       "2018    35441\n",
       "Name: FY, dtype: int64"
      ]
     },
     "execution_count": 459,
     "metadata": {},
     "output_type": "execute_result"
    }
   ],
   "source": [
    "oldyear = old.FY.value_counts().sort_index()\n",
    "oldyear"
   ]
  },
  {
   "cell_type": "code",
   "execution_count": 460,
   "metadata": {},
   "outputs": [
    {
     "data": {
      "image/png": "[encoded data removed]",
      "text/plain": [
       "<Figure size 432x288 with 1 Axes>"
      ]
     },
     "metadata": {
      "needs_background": "light"
     },
     "output_type": "display_data"
    }
   ],
   "source": [
    "plt.bar(oldyear.index, oldyear, align='center', alpha=0.5)\n",
    "#plt.xticks(y_pos, objects)\n",
    "plt.ylabel('# of Abstracts')\n",
    "plt.title('Abstracts per year')\n",
    "\n",
    "plt.show()"
   ]
  },
  {
   "cell_type": "code",
   "execution_count": null,
   "metadata": {},
   "outputs": [],
   "source": []
  },
  {
   "cell_type": "code",
   "execution_count": null,
   "metadata": {},
   "outputs": [],
   "source": []
  },
  {
   "cell_type": "markdown",
   "metadata": {},
   "source": [
    "### NAs per year"
   ]
  },
  {
   "cell_type": "code",
   "execution_count": 461,
   "metadata": {},
   "outputs": [],
   "source": [
    "df = rnd"
   ]
  },
  {
   "cell_type": "code",
   "execution_count": 462,
   "metadata": {},
   "outputs": [],
   "source": [
    "nans = df.isnull()\n",
    "nans = nans.drop('FY', axis=1)\n",
    "nans['FY'] = df['FY']"
   ]
  },
  {
   "cell_type": "code",
   "execution_count": 463,
   "metadata": {},
   "outputs": [
    {
     "data": {
      "text/html": [
       "<div>\n",
       "<style scoped>\n",
       "    .dataframe tbody tr th:only-of-type {\n",
       "        vertical-align: middle;\n",
       "    }\n",
       "\n",
       "    .dataframe tbody tr th {\n",
       "        vertical-align: top;\n",
       "    }\n",
       "\n",
       "    .dataframe thead th {\n",
       "        text-align: right;\n",
       "    }\n",
       "</style>\n",
       "<table border=\"1\" class=\"dataframe\">\n",
       "  <thead>\n",
       "    <tr style=\"text-align: right;\">\n",
       "      <th></th>\n",
       "      <th>PROJECT_ID</th>\n",
       "      <th>ABSTRACT</th>\n",
       "      <th>PROJECT_TERMS</th>\n",
       "      <th>PROJECT_TITLE</th>\n",
       "      <th>DEPARTMENT</th>\n",
       "      <th>AGENCY</th>\n",
       "      <th>IC_CENTER</th>\n",
       "      <th>PROJECT_NUMBER</th>\n",
       "      <th>PROJECT_START_DATE</th>\n",
       "      <th>PROJECT_END_DATE</th>\n",
       "      <th>...</th>\n",
       "      <th>ORGANIZATION_CITY</th>\n",
       "      <th>ORGANIZATION_STATE</th>\n",
       "      <th>ORGANIZATION_ZIP</th>\n",
       "      <th>ORGANIZATION_COUNTRY</th>\n",
       "      <th>BUDGET_START_DATE</th>\n",
       "      <th>BUDGET_END_DATE</th>\n",
       "      <th>CFDA_CODE</th>\n",
       "      <th>FY_TOTAL_COST</th>\n",
       "      <th>FY_TOTAL_COST_SUB_PROJECTS</th>\n",
       "      <th>org_count</th>\n",
       "    </tr>\n",
       "    <tr>\n",
       "      <th>FY</th>\n",
       "      <th></th>\n",
       "      <th></th>\n",
       "      <th></th>\n",
       "      <th></th>\n",
       "      <th></th>\n",
       "      <th></th>\n",
       "      <th></th>\n",
       "      <th></th>\n",
       "      <th></th>\n",
       "      <th></th>\n",
       "      <th></th>\n",
       "      <th></th>\n",
       "      <th></th>\n",
       "      <th></th>\n",
       "      <th></th>\n",
       "      <th></th>\n",
       "      <th></th>\n",
       "      <th></th>\n",
       "      <th></th>\n",
       "      <th></th>\n",
       "      <th></th>\n",
       "    </tr>\n",
       "  </thead>\n",
       "  <tbody>\n",
       "    <tr>\n",
       "      <td>2008.0</td>\n",
       "      <td>0.0</td>\n",
       "      <td>0.0</td>\n",
       "      <td>3536.0</td>\n",
       "      <td>0.0</td>\n",
       "      <td>0.0</td>\n",
       "      <td>0.0</td>\n",
       "      <td>99431.0</td>\n",
       "      <td>0.0</td>\n",
       "      <td>0.0</td>\n",
       "      <td>11125.0</td>\n",
       "      <td>...</td>\n",
       "      <td>257.0</td>\n",
       "      <td>859.0</td>\n",
       "      <td>3826.0</td>\n",
       "      <td>255.0</td>\n",
       "      <td>99431.0</td>\n",
       "      <td>99431.0</td>\n",
       "      <td>15101.0</td>\n",
       "      <td>22604.0</td>\n",
       "      <td>99415.0</td>\n",
       "      <td>0.0</td>\n",
       "    </tr>\n",
       "    <tr>\n",
       "      <td>2009.0</td>\n",
       "      <td>0.0</td>\n",
       "      <td>0.0</td>\n",
       "      <td>0.0</td>\n",
       "      <td>0.0</td>\n",
       "      <td>0.0</td>\n",
       "      <td>0.0</td>\n",
       "      <td>113722.0</td>\n",
       "      <td>0.0</td>\n",
       "      <td>0.0</td>\n",
       "      <td>11285.0</td>\n",
       "      <td>...</td>\n",
       "      <td>144.0</td>\n",
       "      <td>704.0</td>\n",
       "      <td>3825.0</td>\n",
       "      <td>144.0</td>\n",
       "      <td>113722.0</td>\n",
       "      <td>113722.0</td>\n",
       "      <td>15155.0</td>\n",
       "      <td>21757.0</td>\n",
       "      <td>113713.0</td>\n",
       "      <td>0.0</td>\n",
       "    </tr>\n",
       "    <tr>\n",
       "      <td>2010.0</td>\n",
       "      <td>0.0</td>\n",
       "      <td>0.0</td>\n",
       "      <td>0.0</td>\n",
       "      <td>0.0</td>\n",
       "      <td>0.0</td>\n",
       "      <td>0.0</td>\n",
       "      <td>105804.0</td>\n",
       "      <td>0.0</td>\n",
       "      <td>0.0</td>\n",
       "      <td>10867.0</td>\n",
       "      <td>...</td>\n",
       "      <td>494.0</td>\n",
       "      <td>997.0</td>\n",
       "      <td>4245.0</td>\n",
       "      <td>488.0</td>\n",
       "      <td>105804.0</td>\n",
       "      <td>105804.0</td>\n",
       "      <td>15245.0</td>\n",
       "      <td>20115.0</td>\n",
       "      <td>105785.0</td>\n",
       "      <td>0.0</td>\n",
       "    </tr>\n",
       "    <tr>\n",
       "      <td>2011.0</td>\n",
       "      <td>0.0</td>\n",
       "      <td>0.0</td>\n",
       "      <td>0.0</td>\n",
       "      <td>0.0</td>\n",
       "      <td>0.0</td>\n",
       "      <td>0.0</td>\n",
       "      <td>92836.0</td>\n",
       "      <td>0.0</td>\n",
       "      <td>0.0</td>\n",
       "      <td>10090.0</td>\n",
       "      <td>...</td>\n",
       "      <td>244.0</td>\n",
       "      <td>739.0</td>\n",
       "      <td>3819.0</td>\n",
       "      <td>246.0</td>\n",
       "      <td>92836.0</td>\n",
       "      <td>92836.0</td>\n",
       "      <td>15074.0</td>\n",
       "      <td>19364.0</td>\n",
       "      <td>92809.0</td>\n",
       "      <td>0.0</td>\n",
       "    </tr>\n",
       "    <tr>\n",
       "      <td>2012.0</td>\n",
       "      <td>0.0</td>\n",
       "      <td>0.0</td>\n",
       "      <td>0.0</td>\n",
       "      <td>0.0</td>\n",
       "      <td>0.0</td>\n",
       "      <td>0.0</td>\n",
       "      <td>16773.0</td>\n",
       "      <td>0.0</td>\n",
       "      <td>0.0</td>\n",
       "      <td>3712.0</td>\n",
       "      <td>...</td>\n",
       "      <td>209.0</td>\n",
       "      <td>711.0</td>\n",
       "      <td>3853.0</td>\n",
       "      <td>208.0</td>\n",
       "      <td>21798.0</td>\n",
       "      <td>21801.0</td>\n",
       "      <td>15520.0</td>\n",
       "      <td>13540.0</td>\n",
       "      <td>75956.0</td>\n",
       "      <td>0.0</td>\n",
       "    </tr>\n",
       "    <tr>\n",
       "      <td>2013.0</td>\n",
       "      <td>0.0</td>\n",
       "      <td>0.0</td>\n",
       "      <td>0.0</td>\n",
       "      <td>0.0</td>\n",
       "      <td>0.0</td>\n",
       "      <td>0.0</td>\n",
       "      <td>86659.0</td>\n",
       "      <td>0.0</td>\n",
       "      <td>0.0</td>\n",
       "      <td>11304.0</td>\n",
       "      <td>...</td>\n",
       "      <td>203.0</td>\n",
       "      <td>686.0</td>\n",
       "      <td>3499.0</td>\n",
       "      <td>202.0</td>\n",
       "      <td>86659.0</td>\n",
       "      <td>86659.0</td>\n",
       "      <td>16309.0</td>\n",
       "      <td>14909.0</td>\n",
       "      <td>86647.0</td>\n",
       "      <td>0.0</td>\n",
       "    </tr>\n",
       "    <tr>\n",
       "      <td>2014.0</td>\n",
       "      <td>0.0</td>\n",
       "      <td>0.0</td>\n",
       "      <td>0.0</td>\n",
       "      <td>0.0</td>\n",
       "      <td>0.0</td>\n",
       "      <td>0.0</td>\n",
       "      <td>16931.0</td>\n",
       "      <td>0.0</td>\n",
       "      <td>0.0</td>\n",
       "      <td>3299.0</td>\n",
       "      <td>...</td>\n",
       "      <td>219.0</td>\n",
       "      <td>731.0</td>\n",
       "      <td>3536.0</td>\n",
       "      <td>216.0</td>\n",
       "      <td>21796.0</td>\n",
       "      <td>21797.0</td>\n",
       "      <td>15813.0</td>\n",
       "      <td>86347.0</td>\n",
       "      <td>86424.0</td>\n",
       "      <td>0.0</td>\n",
       "    </tr>\n",
       "    <tr>\n",
       "      <td>2015.0</td>\n",
       "      <td>0.0</td>\n",
       "      <td>0.0</td>\n",
       "      <td>0.0</td>\n",
       "      <td>0.0</td>\n",
       "      <td>0.0</td>\n",
       "      <td>0.0</td>\n",
       "      <td>18138.0</td>\n",
       "      <td>0.0</td>\n",
       "      <td>0.0</td>\n",
       "      <td>3449.0</td>\n",
       "      <td>...</td>\n",
       "      <td>286.0</td>\n",
       "      <td>923.0</td>\n",
       "      <td>6234.0</td>\n",
       "      <td>218.0</td>\n",
       "      <td>23253.0</td>\n",
       "      <td>23253.0</td>\n",
       "      <td>15928.0</td>\n",
       "      <td>15414.0</td>\n",
       "      <td>77483.0</td>\n",
       "      <td>0.0</td>\n",
       "    </tr>\n",
       "    <tr>\n",
       "      <td>2016.0</td>\n",
       "      <td>0.0</td>\n",
       "      <td>0.0</td>\n",
       "      <td>0.0</td>\n",
       "      <td>0.0</td>\n",
       "      <td>0.0</td>\n",
       "      <td>0.0</td>\n",
       "      <td>17944.0</td>\n",
       "      <td>0.0</td>\n",
       "      <td>0.0</td>\n",
       "      <td>3302.0</td>\n",
       "      <td>...</td>\n",
       "      <td>174.0</td>\n",
       "      <td>772.0</td>\n",
       "      <td>3422.0</td>\n",
       "      <td>101.0</td>\n",
       "      <td>23083.0</td>\n",
       "      <td>23084.0</td>\n",
       "      <td>15862.0</td>\n",
       "      <td>14746.0</td>\n",
       "      <td>78475.0</td>\n",
       "      <td>0.0</td>\n",
       "    </tr>\n",
       "    <tr>\n",
       "      <td>2017.0</td>\n",
       "      <td>0.0</td>\n",
       "      <td>0.0</td>\n",
       "      <td>0.0</td>\n",
       "      <td>0.0</td>\n",
       "      <td>0.0</td>\n",
       "      <td>0.0</td>\n",
       "      <td>13890.0</td>\n",
       "      <td>0.0</td>\n",
       "      <td>0.0</td>\n",
       "      <td>3274.0</td>\n",
       "      <td>...</td>\n",
       "      <td>106.0</td>\n",
       "      <td>713.0</td>\n",
       "      <td>3471.0</td>\n",
       "      <td>52.0</td>\n",
       "      <td>19410.0</td>\n",
       "      <td>19411.0</td>\n",
       "      <td>15765.0</td>\n",
       "      <td>13433.0</td>\n",
       "      <td>76757.0</td>\n",
       "      <td>0.0</td>\n",
       "    </tr>\n",
       "    <tr>\n",
       "      <td>2018.0</td>\n",
       "      <td>0.0</td>\n",
       "      <td>0.0</td>\n",
       "      <td>0.0</td>\n",
       "      <td>0.0</td>\n",
       "      <td>0.0</td>\n",
       "      <td>0.0</td>\n",
       "      <td>13729.0</td>\n",
       "      <td>0.0</td>\n",
       "      <td>0.0</td>\n",
       "      <td>3202.0</td>\n",
       "      <td>...</td>\n",
       "      <td>28.0</td>\n",
       "      <td>581.0</td>\n",
       "      <td>3243.0</td>\n",
       "      <td>25.0</td>\n",
       "      <td>19261.0</td>\n",
       "      <td>19281.0</td>\n",
       "      <td>19851.0</td>\n",
       "      <td>18092.0</td>\n",
       "      <td>80346.0</td>\n",
       "      <td>0.0</td>\n",
       "    </tr>\n",
       "    <tr>\n",
       "      <td>2019.0</td>\n",
       "      <td>0.0</td>\n",
       "      <td>0.0</td>\n",
       "      <td>0.0</td>\n",
       "      <td>0.0</td>\n",
       "      <td>0.0</td>\n",
       "      <td>0.0</td>\n",
       "      <td>0.0</td>\n",
       "      <td>0.0</td>\n",
       "      <td>0.0</td>\n",
       "      <td>3196.0</td>\n",
       "      <td>...</td>\n",
       "      <td>3184.0</td>\n",
       "      <td>3746.0</td>\n",
       "      <td>3194.0</td>\n",
       "      <td>3186.0</td>\n",
       "      <td>5701.0</td>\n",
       "      <td>5726.0</td>\n",
       "      <td>16611.0</td>\n",
       "      <td>15095.0</td>\n",
       "      <td>67729.0</td>\n",
       "      <td>0.0</td>\n",
       "    </tr>\n",
       "  </tbody>\n",
       "</table>\n",
       "<p>12 rows × 25 columns</p>\n",
       "</div>"
      ],
      "text/plain": [
       "        PROJECT_ID  ABSTRACT  PROJECT_TERMS  PROJECT_TITLE  DEPARTMENT  \\\n",
       "FY                                                                       \n",
       "2008.0         0.0       0.0         3536.0            0.0         0.0   \n",
       "2009.0         0.0       0.0            0.0            0.0         0.0   \n",
       "2010.0         0.0       0.0            0.0            0.0         0.0   \n",
       "2011.0         0.0       0.0            0.0            0.0         0.0   \n",
       "2012.0         0.0       0.0            0.0            0.0         0.0   \n",
       "2013.0         0.0       0.0            0.0            0.0         0.0   \n",
       "2014.0         0.0       0.0            0.0            0.0         0.0   \n",
       "2015.0         0.0       0.0            0.0            0.0         0.0   \n",
       "2016.0         0.0       0.0            0.0            0.0         0.0   \n",
       "2017.0         0.0       0.0            0.0            0.0         0.0   \n",
       "2018.0         0.0       0.0            0.0            0.0         0.0   \n",
       "2019.0         0.0       0.0            0.0            0.0         0.0   \n",
       "\n",
       "        AGENCY  IC_CENTER  PROJECT_NUMBER  PROJECT_START_DATE  \\\n",
       "FY                                                              \n",
       "2008.0     0.0    99431.0             0.0                 0.0   \n",
       "2009.0     0.0   113722.0             0.0                 0.0   \n",
       "2010.0     0.0   105804.0             0.0                 0.0   \n",
       "2011.0     0.0    92836.0             0.0                 0.0   \n",
       "2012.0     0.0    16773.0             0.0                 0.0   \n",
       "2013.0     0.0    86659.0             0.0                 0.0   \n",
       "2014.0     0.0    16931.0             0.0                 0.0   \n",
       "2015.0     0.0    18138.0             0.0                 0.0   \n",
       "2016.0     0.0    17944.0             0.0                 0.0   \n",
       "2017.0     0.0    13890.0             0.0                 0.0   \n",
       "2018.0     0.0    13729.0             0.0                 0.0   \n",
       "2019.0     0.0        0.0             0.0                 0.0   \n",
       "\n",
       "        PROJECT_END_DATE  ...  ORGANIZATION_CITY  ORGANIZATION_STATE  \\\n",
       "FY                        ...                                          \n",
       "2008.0           11125.0  ...              257.0               859.0   \n",
       "2009.0           11285.0  ...              144.0               704.0   \n",
       "2010.0           10867.0  ...              494.0               997.0   \n",
       "2011.0           10090.0  ...              244.0               739.0   \n",
       "2012.0            3712.0  ...              209.0               711.0   \n",
       "2013.0           11304.0  ...              203.0               686.0   \n",
       "2014.0            3299.0  ...              219.0               731.0   \n",
       "2015.0            3449.0  ...              286.0               923.0   \n",
       "2016.0            3302.0  ...              174.0               772.0   \n",
       "2017.0            3274.0  ...              106.0               713.0   \n",
       "2018.0            3202.0  ...               28.0               581.0   \n",
       "2019.0            3196.0  ...             3184.0              3746.0   \n",
       "\n",
       "        ORGANIZATION_ZIP  ORGANIZATION_COUNTRY  BUDGET_START_DATE  \\\n",
       "FY                                                                  \n",
       "2008.0            3826.0                 255.0            99431.0   \n",
       "2009.0            3825.0                 144.0           113722.0   \n",
       "2010.0            4245.0                 488.0           105804.0   \n",
       "2011.0            3819.0                 246.0            92836.0   \n",
       "2012.0            3853.0                 208.0            21798.0   \n",
       "2013.0            3499.0                 202.0            86659.0   \n",
       "2014.0            3536.0                 216.0            21796.0   \n",
       "2015.0            6234.0                 218.0            23253.0   \n",
       "2016.0            3422.0                 101.0            23083.0   \n",
       "2017.0            3471.0                  52.0            19410.0   \n",
       "2018.0            3243.0                  25.0            19261.0   \n",
       "2019.0            3194.0                3186.0             5701.0   \n",
       "\n",
       "        BUDGET_END_DATE  CFDA_CODE  FY_TOTAL_COST  FY_TOTAL_COST_SUB_PROJECTS  \\\n",
       "FY                                                                              \n",
       "2008.0          99431.0    15101.0        22604.0                     99415.0   \n",
       "2009.0         113722.0    15155.0        21757.0                    113713.0   \n",
       "2010.0         105804.0    15245.0        20115.0                    105785.0   \n",
       "2011.0          92836.0    15074.0        19364.0                     92809.0   \n",
       "2012.0          21801.0    15520.0        13540.0                     75956.0   \n",
       "2013.0          86659.0    16309.0        14909.0                     86647.0   \n",
       "2014.0          21797.0    15813.0        86347.0                     86424.0   \n",
       "2015.0          23253.0    15928.0        15414.0                     77483.0   \n",
       "2016.0          23084.0    15862.0        14746.0                     78475.0   \n",
       "2017.0          19411.0    15765.0        13433.0                     76757.0   \n",
       "2018.0          19281.0    19851.0        18092.0                     80346.0   \n",
       "2019.0           5726.0    16611.0        15095.0                     67729.0   \n",
       "\n",
       "        org_count  \n",
       "FY                 \n",
       "2008.0        0.0  \n",
       "2009.0        0.0  \n",
       "2010.0        0.0  \n",
       "2011.0        0.0  \n",
       "2012.0        0.0  \n",
       "2013.0        0.0  \n",
       "2014.0        0.0  \n",
       "2015.0        0.0  \n",
       "2016.0        0.0  \n",
       "2017.0        0.0  \n",
       "2018.0        0.0  \n",
       "2019.0        0.0  \n",
       "\n",
       "[12 rows x 25 columns]"
      ]
     },
     "execution_count": 463,
     "metadata": {},
     "output_type": "execute_result"
    }
   ],
   "source": [
    "nans = nans.groupby('FY').sum()\n",
    "nans"
   ]
  },
  {
   "cell_type": "code",
   "execution_count": 464,
   "metadata": {},
   "outputs": [
    {
     "data": {
      "text/plain": [
       "FY\n",
       "2008.0    555438.0\n",
       "2009.0    619311.0\n",
       "2010.0    578620.0\n",
       "2011.0    510782.0\n",
       "2012.0    260823.0\n",
       "2013.0    475287.0\n",
       "2014.0    337434.0\n",
       "2015.0    266381.0\n",
       "2016.0    261251.0\n",
       "2017.0    244272.0\n",
       "2018.0    261623.0\n",
       "2019.0    202448.0\n",
       "dtype: float64"
      ]
     },
     "execution_count": 464,
     "metadata": {},
     "output_type": "execute_result"
    }
   ],
   "source": [
    "totalnan = nans.sum(axis = 1)\n",
    "totalnan"
   ]
  },
  {
   "cell_type": "code",
   "execution_count": 465,
   "metadata": {},
   "outputs": [
    {
     "data": {
      "image/png": "[encoded data removed]",
      "text/plain": [
       "<Figure size 432x288 with 1 Axes>"
      ]
     },
     "metadata": {
      "needs_background": "light"
     },
     "output_type": "display_data"
    }
   ],
   "source": [
    "plt.bar(totalnan.index, totalnan/(year*len(df.columns)), align='center', alpha=0.5)\n",
    "#plt.xticks(y_pos, objects)\n",
    "plt.ylabel('% NAs')\n",
    "plt.title('% NAs per year for all Vars')\n",
    "\n",
    "plt.show()"
   ]
  },
  {
   "cell_type": "code",
   "execution_count": 466,
   "metadata": {},
   "outputs": [
    {
     "data": {
      "image/png": "[encoded data removed]",
      "text/plain": [
       "<Figure size 432x288 with 1 Axes>"
      ]
     },
     "metadata": {
      "needs_background": "light"
     },
     "output_type": "display_data"
    }
   ],
   "source": [
    "plt.bar(nans.index, nans.IC_CENTER/year, align='center', alpha=0.5)\n",
    "#plt.xticks(y_pos, objects)\n",
    "plt.ylabel('% NAs')\n",
    "plt.title('IC_CENTER % NA per year')\n",
    "\n",
    "plt.show()"
   ]
  },
  {
   "cell_type": "code",
   "execution_count": 467,
   "metadata": {},
   "outputs": [
    {
     "data": {
      "image/png": "[encoded data removed]",
      "text/plain": [
       "<Figure size 432x288 with 1 Axes>"
      ]
     },
     "metadata": {
      "needs_background": "light"
     },
     "output_type": "display_data"
    }
   ],
   "source": [
    "plt.bar(nans.index, nans.PROJECT_TERMS/year, align='center', alpha=0.5)\n",
    "#plt.xticks(y_pos, objects)\n",
    "plt.ylabel('% NAs')\n",
    "plt.title('PROJECT_TERMS % NA per year')\n",
    "\n",
    "plt.show()"
   ]
  },
  {
   "cell_type": "code",
   "execution_count": 468,
   "metadata": {},
   "outputs": [
    {
     "data": {
      "image/png": "[encoded data removed]",
      "text/plain": [
       "<Figure size 432x288 with 1 Axes>"
      ]
     },
     "metadata": {
      "needs_background": "light"
     },
     "output_type": "display_data"
    }
   ],
   "source": [
    "plt.bar(nans.index, nans.OTHER_PIS/year, align='center', alpha=0.5)\n",
    "#plt.xticks(y_pos, objects)\n",
    "plt.ylabel('% NAs')\n",
    "plt.title('OTHER_PIS % NA per year')\n",
    "\n",
    "plt.show()"
   ]
  },
  {
   "cell_type": "code",
   "execution_count": 469,
   "metadata": {},
   "outputs": [
    {
     "data": {
      "image/png": "[encoded data removed]",
      "text/plain": [
       "<Figure size 432x288 with 1 Axes>"
      ]
     },
     "metadata": {
      "needs_background": "light"
     },
     "output_type": "display_data"
    }
   ],
   "source": [
    "plt.bar(nans.index, nans.ORGANIZATION_NAME/year, align='center', alpha=0.5)\n",
    "#plt.xticks(y_pos, objects)\n",
    "plt.ylabel('% NAs')\n",
    "plt.title('ORGANIZATION_NAME % NA per year')\n",
    "\n",
    "plt.show()"
   ]
  },
  {
   "cell_type": "code",
   "execution_count": 470,
   "metadata": {},
   "outputs": [
    {
     "data": {
      "image/png": "[encoded data removed]",
      "text/plain": [
       "<Figure size 432x288 with 1 Axes>"
      ]
     },
     "metadata": {
      "needs_background": "light"
     },
     "output_type": "display_data"
    }
   ],
   "source": [
    "plt.bar(nans.index, nans.CFDA_CODE/year, align='center', alpha=0.5)\n",
    "#plt.xticks(y_pos, objects)\n",
    "plt.ylabel('% NAs')\n",
    "plt.title('CFDA_CODE % NA per year')\n",
    "\n",
    "plt.show()"
   ]
  },
  {
   "cell_type": "code",
   "execution_count": 471,
   "metadata": {},
   "outputs": [
    {
     "data": {
      "image/png": "[encoded data removed]",
      "text/plain": [
       "<Figure size 432x288 with 1 Axes>"
      ]
     },
     "metadata": {
      "needs_background": "light"
     },
     "output_type": "display_data"
    }
   ],
   "source": [
    "plt.bar(nans.index, nans.FY_TOTAL_COST/year, align='center', alpha=0.5)\n",
    "#plt.xticks(y_pos, objects)\n",
    "plt.ylabel('% NAs')\n",
    "plt.title('FY_TOTAL_COST % NA per year')\n",
    "\n",
    "plt.show()"
   ]
  },
  {
   "cell_type": "code",
   "execution_count": 472,
   "metadata": {},
   "outputs": [
    {
     "data": {
      "text/plain": [
       "86461"
      ]
     },
     "execution_count": 472,
     "metadata": {},
     "output_type": "execute_result"
    }
   ],
   "source": [
    "len(df[df.FY == 2014])"
   ]
  },
  {
   "cell_type": "code",
   "execution_count": 473,
   "metadata": {},
   "outputs": [
    {
     "data": {
      "text/plain": [
       "86347"
      ]
     },
     "execution_count": 473,
     "metadata": {},
     "output_type": "execute_result"
    }
   ],
   "source": [
    "df[df.FY == 2014]['FY_TOTAL_COST'].isnull().sum()"
   ]
  },
  {
   "cell_type": "code",
   "execution_count": 474,
   "metadata": {},
   "outputs": [
    {
     "data": {
      "text/plain": [
       "86424"
      ]
     },
     "execution_count": 474,
     "metadata": {},
     "output_type": "execute_result"
    }
   ],
   "source": [
    "df[df.FY == 2014]['FY_TOTAL_COST_SUB_PROJECTS'].isnull().sum()"
   ]
  },
  {
   "cell_type": "code",
   "execution_count": null,
   "metadata": {},
   "outputs": [],
   "source": []
  },
  {
   "cell_type": "code",
   "execution_count": null,
   "metadata": {},
   "outputs": [],
   "source": []
  },
  {
   "cell_type": "code",
   "execution_count": 475,
   "metadata": {},
   "outputs": [],
   "source": [
    "same = df.DEPARTMENT == df.AGENCY"
   ]
  },
  {
   "cell_type": "code",
   "execution_count": 476,
   "metadata": {},
   "outputs": [
    {
     "data": {
      "text/plain": [
       "166157"
      ]
     },
     "execution_count": 476,
     "metadata": {},
     "output_type": "execute_result"
    }
   ],
   "source": [
    "same.sum()"
   ]
  },
  {
   "cell_type": "code",
   "execution_count": 477,
   "metadata": {},
   "outputs": [
    {
     "data": {
      "text/plain": [
       "946276"
      ]
     },
     "execution_count": 477,
     "metadata": {},
     "output_type": "execute_result"
    }
   ],
   "source": [
    "len(df) - same.sum()"
   ]
  },
  {
   "cell_type": "markdown",
   "metadata": {},
   "source": [
    "While there are no NAN values in DEPARTMENT or AGENCY, there are mismatched between them on ~5/6 of the rows"
   ]
  },
  {
   "cell_type": "code",
   "execution_count": null,
   "metadata": {},
   "outputs": [],
   "source": []
  }
 ],
 "metadata": {
  "kernelspec": {
   "display_name": "Python 3.7",
   "language": "python",
   "name": "python37"
  },
  "language_info": {
   "codemirror_mode": {
    "name": "ipython",
    "version": 3
   },
   "file_extension": ".py",
   "mimetype": "text/x-python",
   "name": "python",
   "nbconvert_exporter": "python",
   "pygments_lexer": "ipython3",
   "version": "3.7.4"
  }
 },
 "nbformat": 4,
 "nbformat_minor": 4
}
