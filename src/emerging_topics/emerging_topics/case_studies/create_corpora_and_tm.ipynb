{
 "cells": [
  {
   "cell_type": "markdown",
   "metadata": {},
   "source": [
    "# Information Retrieval - For RShiny Dashboard  \n",
    "This notebook retrieves abstracts relevant to pandemics and then uses topic modeling to analyze the chosen abstracts.  Three info retrieval techniques are used: Literal Term Matching, TF-IDF, and Latent Semantic Indexing.  These are linear algebra techniques.  \n",
    "We use the Scikit-Learn library."
   ]
  },
  {
   "cell_type": "code",
   "execution_count": 2,
   "metadata": {},
   "outputs": [],
   "source": [
    "import pandas as pd\n",
    "import numpy as np\n",
    "import pickle\n",
    "import matplotlib.pyplot as plt\n",
    "import gensim\n",
    "import time\n",
    "\n",
    "from sklearn.decomposition import NMF, TruncatedSVD, LatentDirichletAllocation\n",
    "from sklearn.feature_extraction.text import CountVectorizer\n",
    "from sklearn.feature_extraction.text import TfidfVectorizer\n",
    "from sklearn.metrics import pairwise_distances\n",
    "\n",
    "import spacy\n",
    "from spacy.lang.en.stop_words import STOP_WORDS"
   ]
  },
  {
   "cell_type": "code",
   "execution_count": null,
   "metadata": {},
   "outputs": [],
   "source": []
  },
  {
   "cell_type": "code",
   "execution_count": 5,
   "metadata": {},
   "outputs": [],
   "source": [
    "# pull in data\n",
    "\n",
    "df = pd.read_pickle(\"/home/kjl5t/dspg20RnD/data/final/final_dataset_7-20.pkl\")\n",
    "\n",
    "df.reset_index(inplace = True)\n",
    "#df.rename(columns={'index':'original index'}, inplace=True)"
   ]
  },
  {
   "cell_type": "code",
   "execution_count": 6,
   "metadata": {},
   "outputs": [
    {
     "data": {
      "text/html": [
       "<div>\n",
       "<style scoped>\n",
       "    .dataframe tbody tr th:only-of-type {\n",
       "        vertical-align: middle;\n",
       "    }\n",
       "\n",
       "    .dataframe tbody tr th {\n",
       "        vertical-align: top;\n",
       "    }\n",
       "\n",
       "    .dataframe thead th {\n",
       "        text-align: right;\n",
       "    }\n",
       "</style>\n",
       "<table border=\"1\" class=\"dataframe\">\n",
       "  <thead>\n",
       "    <tr style=\"text-align: right;\">\n",
       "      <th></th>\n",
       "      <th>index</th>\n",
       "      <th>original index</th>\n",
       "      <th>PROJECT_ID</th>\n",
       "      <th>ABSTRACT</th>\n",
       "      <th>FY</th>\n",
       "      <th>PROJECT_TERMS</th>\n",
       "      <th>PROJECT_TITLE</th>\n",
       "      <th>DEPARTMENT</th>\n",
       "      <th>AGENCY</th>\n",
       "      <th>IC_CENTER</th>\n",
       "      <th>...</th>\n",
       "      <th>working_abstract</th>\n",
       "      <th>Start_Char</th>\n",
       "      <th>nchar</th>\n",
       "      <th>LAST_CHAR</th>\n",
       "      <th>lemma_abstract</th>\n",
       "      <th>clean_lemmas</th>\n",
       "      <th>stopwds_removed</th>\n",
       "      <th>n_grams_added</th>\n",
       "      <th>final_tokens</th>\n",
       "      <th>final_frqwds_removed</th>\n",
       "    </tr>\n",
       "  </thead>\n",
       "  <tbody>\n",
       "    <tr>\n",
       "      <th>0</th>\n",
       "      <td>0</td>\n",
       "      <td>17608</td>\n",
       "      <td>152242</td>\n",
       "      <td>The multiprotein complex y-secretase proteolyt...</td>\n",
       "      <td>2008</td>\n",
       "      <td>Active Sites; Affect; Alzheimer's Disease; Amy...</td>\n",
       "      <td>STRUCTURE OF SIGNAL PEPTIDE PEPTIDASE</td>\n",
       "      <td>HHS</td>\n",
       "      <td>NIH</td>\n",
       "      <td>NaN</td>\n",
       "      <td>...</td>\n",
       "      <td>The multiprotein complex y-secretase proteolyt...</td>\n",
       "      <td>T</td>\n",
       "      <td>1402</td>\n",
       "      <td>g</td>\n",
       "      <td>[multiprotein, complex, y-secretase, proteolyt...</td>\n",
       "      <td>[multiprotein, complex, y-secretase, proteolyt...</td>\n",
       "      <td>[multiprotein, complex, y-secretase, proteolyt...</td>\n",
       "      <td>[multiprotein, complex, y-secretase, proteolyt...</td>\n",
       "      <td>[multiprotein, complex, y_secretase, proteolyt...</td>\n",
       "      <td>[multiprotein, y_secretase, proteolytically_cl...</td>\n",
       "    </tr>\n",
       "    <tr>\n",
       "      <th>1</th>\n",
       "      <td>1</td>\n",
       "      <td>111864</td>\n",
       "      <td>190316</td>\n",
       "      <td>DESCRIPTION (provided by applicant):   The Kis...</td>\n",
       "      <td>2008</td>\n",
       "      <td>Affect; Animal Model; Axon; Behavior; Behavior...</td>\n",
       "      <td>ROLE OF KISS1 NEURONS IN THE SEASONAL AND CIRC...</td>\n",
       "      <td>HHS</td>\n",
       "      <td>NIH</td>\n",
       "      <td>NaN</td>\n",
       "      <td>...</td>\n",
       "      <td>The Kissl gene encodes peptides called kisspep...</td>\n",
       "      <td>T</td>\n",
       "      <td>2553</td>\n",
       "      <td>y</td>\n",
       "      <td>[Kissl, gene, encode, peptide, call, kisspepti...</td>\n",
       "      <td>[kissl, gene, encode, peptide, call, kisspepti...</td>\n",
       "      <td>[kissl, gene, encode, peptide, kisspeptin, bin...</td>\n",
       "      <td>[kissl, gene, encode, peptide, kisspeptin, bin...</td>\n",
       "      <td>[kissl, gene, encode, peptide, kisspeptin, bin...</td>\n",
       "      <td>[kissl, gene, encode, peptide, kisspeptin, bin...</td>\n",
       "    </tr>\n",
       "    <tr>\n",
       "      <th>2</th>\n",
       "      <td>2</td>\n",
       "      <td>22052</td>\n",
       "      <td>154213</td>\n",
       "      <td>DESCRIPTION (provided by applicant): The objec...</td>\n",
       "      <td>2008</td>\n",
       "      <td>Agreement; Antibodies; base; Binding; Biochemi...</td>\n",
       "      <td>CARBONIC ANHYDRASE AS A MODEL TO UNDERSTAND DI...</td>\n",
       "      <td>HHS</td>\n",
       "      <td>NIH</td>\n",
       "      <td>NaN</td>\n",
       "      <td>...</td>\n",
       "      <td>The objective of this research is to understan...</td>\n",
       "      <td>T</td>\n",
       "      <td>1414</td>\n",
       "      <td>e</td>\n",
       "      <td>[objective, research, be, understand, biophysi...</td>\n",
       "      <td>[objective, research, be, understand, biophysi...</td>\n",
       "      <td>[objective, research, understand, biophysical,...</td>\n",
       "      <td>[objective, research, understand, biophysical,...</td>\n",
       "      <td>[objective, research, understand, biophysical,...</td>\n",
       "      <td>[biophysical, basis, thermodynamics_kinetic, m...</td>\n",
       "    </tr>\n",
       "    <tr>\n",
       "      <th>3</th>\n",
       "      <td>3</td>\n",
       "      <td>35004</td>\n",
       "      <td>159362</td>\n",
       "      <td>Obesity is the cause of many adverse pregnancy...</td>\n",
       "      <td>2008</td>\n",
       "      <td>African; Analysis of Variance; Asians; Birth; ...</td>\n",
       "      <td>OBESITY ON VAGAL TONE AND HBA1C DURING PREGNANCY</td>\n",
       "      <td>HHS</td>\n",
       "      <td>NIH</td>\n",
       "      <td>NaN</td>\n",
       "      <td>...</td>\n",
       "      <td>Obesity is the cause of many adverse pregnancy...</td>\n",
       "      <td>O</td>\n",
       "      <td>1545</td>\n",
       "      <td>d</td>\n",
       "      <td>[obesity, cause, many, adverse, pregnancyoutco...</td>\n",
       "      <td>[obesity, cause, many, adverse, pregnancyoutco...</td>\n",
       "      <td>[obesity, cause, adverse, pregnancyoutcome, re...</td>\n",
       "      <td>[obesity, cause, adverse_pregnancyoutcome, res...</td>\n",
       "      <td>[obesity, cause, adverse_pregnancyoutcome, res...</td>\n",
       "      <td>[obesity, adverse_pregnancyoutcome, great, hea...</td>\n",
       "    </tr>\n",
       "    <tr>\n",
       "      <th>4</th>\n",
       "      <td>4</td>\n",
       "      <td>371628</td>\n",
       "      <td>594482</td>\n",
       "      <td>Local potato advisory groups have expressed in...</td>\n",
       "      <td>2010</td>\n",
       "      <td>cost; Health; interest; Manure; Parasitic nema...</td>\n",
       "      <td>PLANT-PARASITIC NEMATODE MANAGEMENT AS A COMPO...</td>\n",
       "      <td>USDA</td>\n",
       "      <td>NIFA</td>\n",
       "      <td>NaN</td>\n",
       "      <td>...</td>\n",
       "      <td>Local potato advisory groups have expressed in...</td>\n",
       "      <td>L</td>\n",
       "      <td>271</td>\n",
       "      <td>s</td>\n",
       "      <td>[local, potato, advisory, group, express, inte...</td>\n",
       "      <td>[local, potato, advisory, group, express, inte...</td>\n",
       "      <td>[local, potato, advisory, group, express, inte...</td>\n",
       "      <td>[local, potato, advisory, group, express, inte...</td>\n",
       "      <td>[local, potato, advisory, group, express, inte...</td>\n",
       "      <td>[local, potato, advisory, express, interest, m...</td>\n",
       "    </tr>\n",
       "  </tbody>\n",
       "</table>\n",
       "<p>5 rows × 40 columns</p>\n",
       "</div>"
      ],
      "text/plain": [
       "   index  original index PROJECT_ID  \\\n",
       "0      0           17608     152242   \n",
       "1      1          111864     190316   \n",
       "2      2           22052     154213   \n",
       "3      3           35004     159362   \n",
       "4      4          371628     594482   \n",
       "\n",
       "                                            ABSTRACT    FY  \\\n",
       "0  The multiprotein complex y-secretase proteolyt...  2008   \n",
       "1  DESCRIPTION (provided by applicant):   The Kis...  2008   \n",
       "2  DESCRIPTION (provided by applicant): The objec...  2008   \n",
       "3  Obesity is the cause of many adverse pregnancy...  2008   \n",
       "4  Local potato advisory groups have expressed in...  2010   \n",
       "\n",
       "                                       PROJECT_TERMS  \\\n",
       "0  Active Sites; Affect; Alzheimer's Disease; Amy...   \n",
       "1  Affect; Animal Model; Axon; Behavior; Behavior...   \n",
       "2  Agreement; Antibodies; base; Binding; Biochemi...   \n",
       "3  African; Analysis of Variance; Asians; Birth; ...   \n",
       "4  cost; Health; interest; Manure; Parasitic nema...   \n",
       "\n",
       "                                       PROJECT_TITLE DEPARTMENT AGENCY  \\\n",
       "0              STRUCTURE OF SIGNAL PEPTIDE PEPTIDASE        HHS    NIH   \n",
       "1  ROLE OF KISS1 NEURONS IN THE SEASONAL AND CIRC...        HHS    NIH   \n",
       "2  CARBONIC ANHYDRASE AS A MODEL TO UNDERSTAND DI...        HHS    NIH   \n",
       "3   OBESITY ON VAGAL TONE AND HBA1C DURING PREGNANCY        HHS    NIH   \n",
       "4  PLANT-PARASITIC NEMATODE MANAGEMENT AS A COMPO...       USDA   NIFA   \n",
       "\n",
       "  IC_CENTER  ...                                   working_abstract  \\\n",
       "0       NaN  ...  The multiprotein complex y-secretase proteolyt...   \n",
       "1       NaN  ...  The Kissl gene encodes peptides called kisspep...   \n",
       "2       NaN  ...  The objective of this research is to understan...   \n",
       "3       NaN  ...  Obesity is the cause of many adverse pregnancy...   \n",
       "4       NaN  ...  Local potato advisory groups have expressed in...   \n",
       "\n",
       "  Start_Char nchar LAST_CHAR  \\\n",
       "0          T  1402         g   \n",
       "1          T  2553         y   \n",
       "2          T  1414         e   \n",
       "3          O  1545         d   \n",
       "4          L   271         s   \n",
       "\n",
       "                                      lemma_abstract  \\\n",
       "0  [multiprotein, complex, y-secretase, proteolyt...   \n",
       "1  [Kissl, gene, encode, peptide, call, kisspepti...   \n",
       "2  [objective, research, be, understand, biophysi...   \n",
       "3  [obesity, cause, many, adverse, pregnancyoutco...   \n",
       "4  [local, potato, advisory, group, express, inte...   \n",
       "\n",
       "                                        clean_lemmas  \\\n",
       "0  [multiprotein, complex, y-secretase, proteolyt...   \n",
       "1  [kissl, gene, encode, peptide, call, kisspepti...   \n",
       "2  [objective, research, be, understand, biophysi...   \n",
       "3  [obesity, cause, many, adverse, pregnancyoutco...   \n",
       "4  [local, potato, advisory, group, express, inte...   \n",
       "\n",
       "                                     stopwds_removed  \\\n",
       "0  [multiprotein, complex, y-secretase, proteolyt...   \n",
       "1  [kissl, gene, encode, peptide, kisspeptin, bin...   \n",
       "2  [objective, research, understand, biophysical,...   \n",
       "3  [obesity, cause, adverse, pregnancyoutcome, re...   \n",
       "4  [local, potato, advisory, group, express, inte...   \n",
       "\n",
       "                                       n_grams_added  \\\n",
       "0  [multiprotein, complex, y-secretase, proteolyt...   \n",
       "1  [kissl, gene, encode, peptide, kisspeptin, bin...   \n",
       "2  [objective, research, understand, biophysical,...   \n",
       "3  [obesity, cause, adverse_pregnancyoutcome, res...   \n",
       "4  [local, potato, advisory, group, express, inte...   \n",
       "\n",
       "                                        final_tokens  \\\n",
       "0  [multiprotein, complex, y_secretase, proteolyt...   \n",
       "1  [kissl, gene, encode, peptide, kisspeptin, bin...   \n",
       "2  [objective, research, understand, biophysical,...   \n",
       "3  [obesity, cause, adverse_pregnancyoutcome, res...   \n",
       "4  [local, potato, advisory, group, express, inte...   \n",
       "\n",
       "                                final_frqwds_removed  \n",
       "0  [multiprotein, y_secretase, proteolytically_cl...  \n",
       "1  [kissl, gene, encode, peptide, kisspeptin, bin...  \n",
       "2  [biophysical, basis, thermodynamics_kinetic, m...  \n",
       "3  [obesity, adverse_pregnancyoutcome, great, hea...  \n",
       "4  [local, potato, advisory, express, interest, m...  \n",
       "\n",
       "[5 rows x 40 columns]"
      ]
     },
     "execution_count": 6,
     "metadata": {},
     "output_type": "execute_result"
    }
   ],
   "source": [
    "df.head()"
   ]
  },
  {
   "cell_type": "code",
   "execution_count": 7,
   "metadata": {},
   "outputs": [],
   "source": [
    "# input needed for doc-term matrix creation in Scikit-Learn is one string per document (not a list of strings).  \n",
    "# Original data is already in this form!\n",
    "\n",
    "docs = df[\"ABSTRACT\"] \n",
    "tokens = df[\"final_frqwds_removed\"]"
   ]
  },
  {
   "cell_type": "code",
   "execution_count": null,
   "metadata": {},
   "outputs": [],
   "source": []
  },
  {
   "cell_type": "markdown",
   "metadata": {},
   "source": [
    "## Functions needed for all info retrieval approaches"
   ]
  },
  {
   "cell_type": "code",
   "execution_count": 8,
   "metadata": {},
   "outputs": [],
   "source": [
    "# Create query vector \n",
    "\n",
    "def create_query(words, terms):\n",
    "    \n",
    "    # words: search query words\n",
    "    # terms: terms in corpus\n",
    "    \n",
    "    q = np.zeros(len(terms))  # number of terms\n",
    "\n",
    "    idx = []\n",
    "    for word in query_words:\n",
    "        idx.append(terms.index(word))\n",
    "\n",
    "    q[idx] = 1\n",
    "    \n",
    "    return q"
   ]
  },
  {
   "cell_type": "code",
   "execution_count": 9,
   "metadata": {},
   "outputs": [],
   "source": [
    "def return_top_abstracts(docs, scores, top_n):\n",
    "    \n",
    "    '''\n",
    "    docs: Series that contains abstract\n",
    "    scores: scores of abstracts\n",
    "    top_n: return the top_n abstracts given by idx, if top_n = -1 return all abstracts\n",
    "    '''\n",
    "    # sort scores in descending order\n",
    "    scores_sorted_idx = np.argsort(scores)[::-1]\n",
    "    \n",
    "    if top_n == -1:\n",
    "        n = sum(scores > 0)\n",
    "        ix = scores_sorted_idx[:n]\n",
    "    else:\n",
    "        ix = scores_sorted_idx[:top_n]\n",
    "    \n",
    "    print(ix[0:10])\n",
    "    \n",
    "    return ix, docs[ix]\n",
    "    "
   ]
  },
  {
   "cell_type": "code",
   "execution_count": 10,
   "metadata": {},
   "outputs": [],
   "source": [
    "def create_result_df(abstracts, scores):\n",
    "    \n",
    "    df = pd.DataFrame()\n",
    "    df[\"abstracts\"] = abstracts\n",
    "    df[\"scores\"] = scores\n",
    "    \n",
    "    return df"
   ]
  },
  {
   "cell_type": "code",
   "execution_count": null,
   "metadata": {},
   "outputs": [],
   "source": []
  },
  {
   "cell_type": "markdown",
   "metadata": {},
   "source": [
    "## Literal Term Matching - Frequency Count Document-Term Matrix\n",
    "\n",
    "This will return all abstracts in the corpus with exact word matches to the query.  \n",
    "\n",
    "Results will be return in sorted order of how high the query scores with each abstract. A high score means more occurences of the query words in the abstract."
   ]
  },
  {
   "cell_type": "code",
   "execution_count": 11,
   "metadata": {},
   "outputs": [],
   "source": [
    "# Note - we are now using the spaCy stopwords list instead of nltk.  It is more comprehensive.\n",
    "\n",
    "def create_stopwords():\n",
    "      \n",
    "    \"\"\" creates list of stopwords. stop words include the general English list and any additional we see sneaking \n",
    "    through.  \"\"\"\n",
    "    \n",
    "    spacy_stop_words = STOP_WORDS\n",
    "\n",
    "    # more stop words that do not add meaning to topics\n",
    "    additional_stopwords = {'addition', 'specifically', 'similar','including', 'particular', \n",
    "                            'furthermore','include', 'includes','overall', 'finally', 'specific', \n",
    "                            'additional'} \n",
    "           \n",
    "    sw = spacy_stop_words.union(additional_stopwords)\n",
    "    \n",
    "    return sw"
   ]
  },
  {
   "cell_type": "code",
   "execution_count": 12,
   "metadata": {},
   "outputs": [
    {
     "name": "stderr",
     "output_type": "stream",
     "text": [
      "/apps/software/standard/compiler/gcc/9.2.0/jupyter_conda/2019.10-py3.7/lib/python3.7/site-packages/sklearn/feature_extraction/text.py:385: UserWarning: Your stop_words may be inconsistent with your preprocessing. Tokenizing the stop words generated tokens ['ll', 've'] not in stop_words.\n",
      "  'stop_words.' % sorted(inconsistent))\n"
     ]
    }
   ],
   "source": [
    "# Create document-term matrix based on count frequencies\n",
    "\n",
    "stop_words = create_stopwords()\n",
    "\n",
    "vectorizer = CountVectorizer(lowercase=True, stop_words=stop_words, min_df=20)\n",
    "doc_term_matrix = vectorizer.fit_transform(docs)"
   ]
  },
  {
   "cell_type": "code",
   "execution_count": 13,
   "metadata": {},
   "outputs": [
    {
     "data": {
      "text/plain": [
       "(690814, 84347)"
      ]
     },
     "execution_count": 13,
     "metadata": {},
     "output_type": "execute_result"
    }
   ],
   "source": [
    "doc_term_matrix.shape"
   ]
  },
  {
   "cell_type": "code",
   "execution_count": 14,
   "metadata": {},
   "outputs": [],
   "source": [
    "terms = vectorizer.get_feature_names()"
   ]
  },
  {
   "cell_type": "markdown",
   "metadata": {},
   "source": [
    "### Create Query Words - list the search terms\n",
    "\n",
    "A query is just a list of words to search for in the corpus.  We will use the same query for all three info retrieval techniques."
   ]
  },
  {
   "cell_type": "code",
   "execution_count": 26,
   "metadata": {},
   "outputs": [
    {
     "data": {
      "text/plain": [
       "False"
      ]
     },
     "execution_count": 26,
     "metadata": {},
     "output_type": "execute_result"
    }
   ],
   "source": [
    "'artificial_intelligence' in terms"
   ]
  },
  {
   "cell_type": "code",
   "execution_count": 28,
   "metadata": {},
   "outputs": [],
   "source": [
    "# CHANGE QUERY WORDS HERE\n",
    "\n",
    "query_words = ['ai', 'artificial', 'intelligence'] # 'artificial_intelligence' not in terms\n",
    "\n",
    "# coronavirus, 'mers', 'sars'] # 'pandemic', mers_cov', 'sars_cov']   #'mers', 'sars', 'zikv', 'denv', 'hiv'] #'influenza', 'aids'] \n",
    "              \n",
    "q = create_query(query_words, terms)"
   ]
  },
  {
   "cell_type": "code",
   "execution_count": null,
   "metadata": {},
   "outputs": [],
   "source": []
  },
  {
   "cell_type": "code",
   "execution_count": 29,
   "metadata": {},
   "outputs": [],
   "source": [
    "# calculate the score for each document against the query. Docs with more occurences of the query words \n",
    "# will score higher\n",
    "\n",
    "f_scores = doc_term_matrix.dot(q)"
   ]
  },
  {
   "cell_type": "code",
   "execution_count": 30,
   "metadata": {},
   "outputs": [
    {
     "data": {
      "text/plain": [
       "8669"
      ]
     },
     "execution_count": 30,
     "metadata": {},
     "output_type": "execute_result"
    }
   ],
   "source": [
    "sum(f_scores >0)  # how many abstracts include at least one of the query words"
   ]
  },
  {
   "cell_type": "code",
   "execution_count": 31,
   "metadata": {},
   "outputs": [
    {
     "data": {
      "text/plain": [
       "array([25., 25., 23., 20., 18., 18., 18., 17., 17., 17.])"
      ]
     },
     "execution_count": 31,
     "metadata": {},
     "output_type": "execute_result"
    }
   ],
   "source": [
    "# sort scores in descending order\n",
    "\n",
    "f_scores_sorted = np.sort(f_scores)[::-1]\n",
    "f_scores_sorted[:10]"
   ]
  },
  {
   "cell_type": "code",
   "execution_count": 32,
   "metadata": {},
   "outputs": [
    {
     "name": "stdout",
     "output_type": "stream",
     "text": [
      "[492111 681010 639437 328397 665068 120772 305952 265504  65398  65361]\n"
     ]
    }
   ],
   "source": [
    "f_idx, f_top_abstracts = return_top_abstracts(docs, f_scores, 500)  # CHANGE NUMBER OF TOP DOCS RETURNED"
   ]
  },
  {
   "cell_type": "code",
   "execution_count": 33,
   "metadata": {},
   "outputs": [
    {
     "data": {
      "text/plain": [
       "492111    Background:  Deaths from prostate cancer are t...\n",
       "681010    Beef Cattle. Successful management of estrus a...\n",
       "639437    As a result of the powerful innovation and app...\n",
       "328397    DESCRIPTION (provided by applicant): Two third...\n",
       "665068    Improving Fluid Intelligence by Training Worki...\n",
       "                                ...                        \n",
       "168395    Traumatic events are common occurrences in the...\n",
       "69964     This STTR Phase I project, Serious Game for En...\n",
       "273080    DESCRIPTION (provided by applicant): The long-...\n",
       "632517    ﻿   DESCRIPTION (provided by applicant): This ...\n",
       "132463    The proposed Center for American Indian and Al...\n",
       "Name: ABSTRACT, Length: 500, dtype: object"
      ]
     },
     "execution_count": 33,
     "metadata": {},
     "output_type": "execute_result"
    }
   ],
   "source": [
    "f_top_abstracts"
   ]
  },
  {
   "cell_type": "markdown",
   "metadata": {},
   "source": [
    "## TF-IDF Document-Term Matrix\n",
    "\n",
    "This approach is similar to Literal Term Matching using frequency counts in the document-term matrix.  However, instead of using frequency counts, the entries of the document-term matrix are weighted using TF-IDF."
   ]
  },
  {
   "cell_type": "code",
   "execution_count": 34,
   "metadata": {},
   "outputs": [],
   "source": [
    "# Find doc-term matrix using TF-IDF weighting\n",
    "\n",
    "tf_idf_vectorizer = TfidfVectorizer(lowercase=True, stop_words=stop_words, min_df=20)\n",
    "tf_idf = tf_idf_vectorizer.fit_transform(docs)"
   ]
  },
  {
   "cell_type": "code",
   "execution_count": 35,
   "metadata": {},
   "outputs": [],
   "source": [
    "tf_idf_terms = tf_idf_vectorizer.get_feature_names()  # these terms are the same as the terms created from the \n",
    "                                                      # frequency count document-term matrix, so we do not need to\n",
    "                                                      # recreate the query vector."
   ]
  },
  {
   "cell_type": "code",
   "execution_count": 36,
   "metadata": {},
   "outputs": [
    {
     "data": {
      "text/plain": [
       "True"
      ]
     },
     "execution_count": 36,
     "metadata": {},
     "output_type": "execute_result"
    }
   ],
   "source": [
    "tf_idf_terms == terms"
   ]
  },
  {
   "cell_type": "code",
   "execution_count": 37,
   "metadata": {},
   "outputs": [],
   "source": [
    "# calculate the score for each document against the query. Docs with more occurences of the query words \n",
    "# will score higher\n",
    "\n",
    "tf_idf_scores = tf_idf.dot(q)"
   ]
  },
  {
   "cell_type": "code",
   "execution_count": 38,
   "metadata": {},
   "outputs": [
    {
     "data": {
      "text/plain": [
       "8669"
      ]
     },
     "execution_count": 38,
     "metadata": {},
     "output_type": "execute_result"
    }
   ],
   "source": [
    "sum(tf_idf_scores >0)   # how many abstracts include at least one of the query words"
   ]
  },
  {
   "cell_type": "code",
   "execution_count": 39,
   "metadata": {},
   "outputs": [
    {
     "data": {
      "text/plain": [
       "array([1.08297506, 1.05870074, 1.05150226, 1.01949681, 0.93721633,\n",
       "       0.90397893, 0.88244022, 0.83848679, 0.82627865, 0.80352009])"
      ]
     },
     "execution_count": 39,
     "metadata": {},
     "output_type": "execute_result"
    }
   ],
   "source": [
    "# sort scores in descending order\n",
    "\n",
    "tf_idf_scores_sorted = np.sort(tf_idf_scores)[::-1]\n",
    "tf_idf_scores_sorted[:10]"
   ]
  },
  {
   "cell_type": "code",
   "execution_count": 40,
   "metadata": {},
   "outputs": [
    {
     "name": "stdout",
     "output_type": "stream",
     "text": [
      "[115149 293012 261070  95701 235101 209895  10300 639437 108705 571378]\n"
     ]
    }
   ],
   "source": [
    "tfidf_idx, tfidf_top_abstracts = return_top_abstracts(docs, tf_idf_scores, 500)  # CHANGE NUMBER OF TOP DOCS RETURNED"
   ]
  },
  {
   "cell_type": "code",
   "execution_count": 41,
   "metadata": {},
   "outputs": [
    {
     "data": {
      "text/plain": [
       "115149    This award supports participants to EAAI-11, T...\n",
       "293012    This grant supports the participation of under...\n",
       "261070    This award supports participants to EAAI-10: T...\n",
       "95701     This award supports participants to EAAI-12, t...\n",
       "235101    This proposal will support US-based Ph.D. stud...\n",
       "                                ...                        \n",
       "116320    This subproject is one of many research subpro...\n",
       "35355     This project supports a Doctoral Student Sympo...\n",
       "197546    This protocol compares diabetes (DM) and heart...\n",
       "414149    DESCRIPTION (provided by applicant): Breast ca...\n",
       "166858    The purpose of this study is to investigate th...\n",
       "Name: ABSTRACT, Length: 500, dtype: object"
      ]
     },
     "execution_count": 41,
     "metadata": {},
     "output_type": "execute_result"
    }
   ],
   "source": [
    "tfidf_top_abstracts"
   ]
  },
  {
   "cell_type": "code",
   "execution_count": null,
   "metadata": {},
   "outputs": [],
   "source": []
  },
  {
   "cell_type": "markdown",
   "metadata": {},
   "source": [
    "## Latent Semantic Indexing (LSI) Approach\n",
    "\n",
    "LSI Uses the TF-IDF matrix.  LSI is a tecnique that utilizes a truncated Singular Value Decomposition of the document-term matrix.  Basically, LSI still returns relevant documents to the query; however some of the documents returned may not include the exact search terms!  LSI is finding the latent or hidden relationships in the terms.  "
   ]
  },
  {
   "cell_type": "code",
   "execution_count": 42,
   "metadata": {},
   "outputs": [],
   "source": [
    "# Find the Truncated SVD of the TF-IDF matrix\n",
    "\n",
    "lsa = TruncatedSVD(n_components=500, random_state=1)  # CHANGE THE NUMBER OF COMPONENTS - NOTE: MORE COMPONENTS \n",
    "                                                      # GIVES YOU A MORE ACCURATE APPROXIMATION OF THE DOC-TERM \n",
    "                                                      # MATRIX, BUT IS ALSO MORE EXPENSIVE AND MAY NOT LEAD TO THE \n",
    "                                                      # BEST INFO RETRIEVAL RESULTS.\n",
    "USigma = lsa.fit_transform(tf_idf)\n",
    "Vtrans = lsa.components_"
   ]
  },
  {
   "cell_type": "code",
   "execution_count": 43,
   "metadata": {},
   "outputs": [],
   "source": [
    "# transform query to be in same space as documents\n",
    "\n",
    "q = q.reshape(1,-1)\n",
    "qhat = lsa.transform(q)"
   ]
  },
  {
   "cell_type": "code",
   "execution_count": 44,
   "metadata": {},
   "outputs": [
    {
     "name": "stdout",
     "output_type": "stream",
     "text": [
      "(1, 500)\n",
      "(690814, 500)\n",
      "(500, 84347)\n"
     ]
    }
   ],
   "source": [
    "print(qhat.shape)\n",
    "print(USigma.shape)\n",
    "print(Vtrans.shape)"
   ]
  },
  {
   "cell_type": "code",
   "execution_count": 45,
   "metadata": {},
   "outputs": [],
   "source": [
    "lsa_scores = pairwise_distances(qhat, USigma, metric='cosine', n_jobs=20)  # CHANGE N_JOBS TO BE NUMBER OF CORES - 1"
   ]
  },
  {
   "cell_type": "code",
   "execution_count": 46,
   "metadata": {},
   "outputs": [
    {
     "data": {
      "text/plain": [
       "(1, 690814)"
      ]
     },
     "execution_count": 46,
     "metadata": {},
     "output_type": "execute_result"
    }
   ],
   "source": [
    "lsa_scores.shape"
   ]
  },
  {
   "cell_type": "code",
   "execution_count": 47,
   "metadata": {},
   "outputs": [
    {
     "data": {
      "text/plain": [
       "array([[0.99294071, 0.99103517, 1.00450711, ..., 0.95513276, 0.99677847,\n",
       "        1.00304953]])"
      ]
     },
     "execution_count": 47,
     "metadata": {},
     "output_type": "execute_result"
    }
   ],
   "source": [
    "lsa_scores"
   ]
  },
  {
   "cell_type": "code",
   "execution_count": 48,
   "metadata": {},
   "outputs": [
    {
     "data": {
      "text/plain": [
       "array([0.99294071, 0.99103517, 1.00450711, ..., 0.95513276, 0.99677847,\n",
       "       1.00304953])"
      ]
     },
     "execution_count": 48,
     "metadata": {},
     "output_type": "execute_result"
    }
   ],
   "source": [
    "lsa_scores[0]"
   ]
  },
  {
   "cell_type": "code",
   "execution_count": 49,
   "metadata": {},
   "outputs": [
    {
     "data": {
      "text/plain": [
       "690814"
      ]
     },
     "execution_count": 49,
     "metadata": {},
     "output_type": "execute_result"
    }
   ],
   "source": [
    "sum(lsa_scores[0] > 0)  # how many abstracts scored above 0"
   ]
  },
  {
   "cell_type": "code",
   "execution_count": 50,
   "metadata": {},
   "outputs": [
    {
     "data": {
      "text/plain": [
       "array([1.16680793, 1.16459887, 1.15476659, 1.14918613, 1.14508752,\n",
       "       1.14445104, 1.14335151, 1.14311037, 1.1421273 , 1.13914895])"
      ]
     },
     "execution_count": 50,
     "metadata": {},
     "output_type": "execute_result"
    }
   ],
   "source": [
    "# sort scores in descending order\n",
    "\n",
    "lsa_scores_sorted = np.sort(lsa_scores[0])[::-1]\n",
    "lsa_scores_sorted[:10]"
   ]
  },
  {
   "cell_type": "code",
   "execution_count": 51,
   "metadata": {},
   "outputs": [
    {
     "name": "stdout",
     "output_type": "stream",
     "text": [
      "[548568  95643 556623 672013 491186 538465 548941 381912  32728 320074]\n"
     ]
    }
   ],
   "source": [
    "lsa_idx, lsa_top_abstracts = return_top_abstracts(docs, lsa_scores[0], 500)  # CHANGE NUMBER OF TOP DOCS RETURNED"
   ]
  },
  {
   "cell_type": "code",
   "execution_count": 52,
   "metadata": {},
   "outputs": [
    {
     "data": {
      "text/plain": [
       "548568    Geology, Paleontology and Paleobiology of the ...\n",
       "95643     0960160MillerThis award is funded under the Am...\n",
       "556623    Interpreting the environments and mammal speci...\n",
       "672013    Majority rule and minority rights are importan...\n",
       "491186    Arid ecosystems cover one third of Earth's lan...\n",
       "                                ...                        \n",
       "243578    At a time when pharmaceutical pipelines of new...\n",
       "469042    The attitudes citizens hold toward judicial in...\n",
       "49463     DESCRIPTION (provided by applicant): The aryl ...\n",
       "316809    WuDMS-0907913     This award is funded under t...\n",
       "319863    Despite their importance as recyclers, symbion...\n",
       "Name: ABSTRACT, Length: 500, dtype: object"
      ]
     },
     "execution_count": 52,
     "metadata": {},
     "output_type": "execute_result"
    }
   ],
   "source": [
    "lsa_top_abstracts"
   ]
  },
  {
   "cell_type": "code",
   "execution_count": null,
   "metadata": {},
   "outputs": [],
   "source": []
  },
  {
   "cell_type": "markdown",
   "metadata": {},
   "source": [
    "## Create pandemics corpus\n",
    "\n",
    "We use the results of our three information retrieval techniques to create a new, smaller corpus that only contains abstracts relevant to the query. "
   ]
  },
  {
   "cell_type": "code",
   "execution_count": 53,
   "metadata": {},
   "outputs": [],
   "source": [
    "docs_ix = np.concatenate([f_idx, tfidf_idx, lsa_idx])"
   ]
  },
  {
   "cell_type": "code",
   "execution_count": 54,
   "metadata": {},
   "outputs": [],
   "source": [
    "docs_idx = np.unique(docs_ix)"
   ]
  },
  {
   "cell_type": "code",
   "execution_count": 55,
   "metadata": {},
   "outputs": [
    {
     "data": {
      "text/plain": [
       "(1119,)"
      ]
     },
     "execution_count": 55,
     "metadata": {},
     "output_type": "execute_result"
    }
   ],
   "source": [
    "docs_idx.shape"
   ]
  },
  {
   "cell_type": "code",
   "execution_count": 42,
   "metadata": {},
   "outputs": [],
   "source": [
    "#lim_docs = [tokens[i] for i in docs_idx]"
   ]
  },
  {
   "cell_type": "code",
   "execution_count": null,
   "metadata": {},
   "outputs": [],
   "source": []
  },
  {
   "cell_type": "markdown",
   "metadata": {},
   "source": [
    "**create case-study corpuses**"
   ]
  },
  {
   "cell_type": "code",
   "execution_count": 46,
   "metadata": {},
   "outputs": [],
   "source": [
    "pandemic_corpus = df.loc[docs_idx, :]"
   ]
  },
  {
   "cell_type": "code",
   "execution_count": 47,
   "metadata": {},
   "outputs": [
    {
     "data": {
      "text/plain": [
       "(1137, 40)"
      ]
     },
     "execution_count": 47,
     "metadata": {},
     "output_type": "execute_result"
    }
   ],
   "source": [
    "pandemic_corpus.shape"
   ]
  },
  {
   "cell_type": "code",
   "execution_count": 48,
   "metadata": {},
   "outputs": [],
   "source": [
    "#pandemic_corpus.to_pickle(\"./pandemic_corpus.pkl\")"
   ]
  },
  {
   "cell_type": "code",
   "execution_count": 49,
   "metadata": {},
   "outputs": [],
   "source": [
    "lim_docs = pandemic_corpus[\"final_frqwds_removed\"]"
   ]
  },
  {
   "cell_type": "code",
   "execution_count": null,
   "metadata": {},
   "outputs": [],
   "source": []
  },
  {
   "cell_type": "code",
   "execution_count": 146,
   "metadata": {},
   "outputs": [],
   "source": [
    "corona_corpus = df.loc[docs_idx, :]"
   ]
  },
  {
   "cell_type": "code",
   "execution_count": 147,
   "metadata": {},
   "outputs": [
    {
     "data": {
      "text/plain": [
       "(1012, 40)"
      ]
     },
     "execution_count": 147,
     "metadata": {},
     "output_type": "execute_result"
    }
   ],
   "source": [
    "corona_corpus.shape"
   ]
  },
  {
   "cell_type": "code",
   "execution_count": 155,
   "metadata": {},
   "outputs": [],
   "source": [
    "#corona_corpus.to_pickle(\"./corona_corpus.pkl\")"
   ]
  },
  {
   "cell_type": "code",
   "execution_count": 148,
   "metadata": {},
   "outputs": [],
   "source": [
    "lim_docs = corona_corpus[\"final_frqwds_removed\"]"
   ]
  },
  {
   "cell_type": "code",
   "execution_count": null,
   "metadata": {},
   "outputs": [],
   "source": []
  },
  {
   "cell_type": "code",
   "execution_count": 56,
   "metadata": {},
   "outputs": [],
   "source": [
    "ai_corpus = df.loc[docs_idx, :]"
   ]
  },
  {
   "cell_type": "code",
   "execution_count": 57,
   "metadata": {},
   "outputs": [
    {
     "data": {
      "text/plain": [
       "(1119, 40)"
      ]
     },
     "execution_count": 57,
     "metadata": {},
     "output_type": "execute_result"
    }
   ],
   "source": [
    "ai_corpus.shape"
   ]
  },
  {
   "cell_type": "code",
   "execution_count": 58,
   "metadata": {},
   "outputs": [],
   "source": [
    "lim_docs = ai_corpus[\"final_frqwds_removed\"]"
   ]
  },
  {
   "cell_type": "code",
   "execution_count": null,
   "metadata": {},
   "outputs": [],
   "source": []
  },
  {
   "cell_type": "code",
   "execution_count": 59,
   "metadata": {},
   "outputs": [],
   "source": [
    "# input needed for LDA, NMF (all from Scikit-Learn) is one string per document (not a list of strings)\n",
    "\n",
    "text = []\n",
    "\n",
    "for token_list in lim_docs:\n",
    "    text.append(\" \".join(token_list))"
   ]
  },
  {
   "cell_type": "code",
   "execution_count": 60,
   "metadata": {},
   "outputs": [
    {
     "data": {
      "text/plain": [
       "1119"
      ]
     },
     "execution_count": 60,
     "metadata": {},
     "output_type": "execute_result"
    }
   ],
   "source": [
    "len(lim_docs)"
   ]
  },
  {
   "cell_type": "markdown",
   "metadata": {},
   "source": [
    "## Topic Modeling with relevant pandemic abstracts"
   ]
  },
  {
   "cell_type": "code",
   "execution_count": 61,
   "metadata": {},
   "outputs": [],
   "source": [
    "# function slightly modified from https://nlpforhackers.io/topic-modeling/\n",
    "\n",
    "def print_topics(model, vectorizer, top_n=10):\n",
    "    for idx, topic in enumerate(model.components_):  # loop through each row of H.  idx = row index.  topic = actual row\n",
    "        print(\"\\nTopic %d:\" % (idx))\n",
    "        #print([(vectorizer.get_feature_names()[i], topic[i])  # printing out words corresponding to indices found in next line\n",
    "                        #for i in topic.argsort()[:-top_n - 1:-1]])  # finding indices of top words in topic\n",
    "            \n",
    "        print_list = [(vectorizer.get_feature_names()[i], topic[i])  \n",
    "                        for i in topic.argsort()[:-top_n - 1:-1]]\n",
    "        for item in print_list:\n",
    "            print(item)\n",
    "        "
   ]
  },
  {
   "cell_type": "code",
   "execution_count": 62,
   "metadata": {},
   "outputs": [],
   "source": [
    "# Create a TF-IDF document-term matrix for the pandemics corpus \n",
    "\n",
    "# TRY DIFFERENT PARAMETERS IN THE TF-IDF DOC-TERM MATRIX SET-UP\n",
    "nmf_vectorizer = TfidfVectorizer(max_df=1.0, min_df=3, lowercase=True) #, max_features=int(len(lim_docs)/2))\n",
    "\n",
    "nmf_tf_idf = nmf_vectorizer.fit_transform(text)"
   ]
  },
  {
   "cell_type": "code",
   "execution_count": 63,
   "metadata": {},
   "outputs": [
    {
     "data": {
      "text/plain": [
       "(1119, 5920)"
      ]
     },
     "execution_count": 63,
     "metadata": {},
     "output_type": "execute_result"
    }
   ],
   "source": [
    "nmf_tf_idf.shape"
   ]
  },
  {
   "cell_type": "code",
   "execution_count": 64,
   "metadata": {},
   "outputs": [],
   "source": [
    "# topic modeling with NMF\n",
    "\n",
    "nmf_model = NMF(n_components=30, random_state=1)  # TRY DIFFERENT NUMBERS OF TOPICS\n",
    "W = nmf_model.fit_transform(nmf_tf_idf)\n",
    "H = nmf_model.components_"
   ]
  },
  {
   "cell_type": "code",
   "execution_count": 65,
   "metadata": {},
   "outputs": [
    {
     "name": "stdout",
     "output_type": "stream",
     "text": [
      "\n",
      "Topic 0:\n",
      "('youth', 1.6838253012848148)\n",
      "('ai', 1.4336299491341014)\n",
      "('suicide', 0.8128930023375601)\n",
      "('family', 0.8021618616591655)\n",
      "('prevention', 0.7715689453360194)\n",
      "('substance', 0.7246083825208314)\n",
      "('alcohol', 0.6931700088187136)\n",
      "('adolescent', 0.6325770501296395)\n",
      "('cultural', 0.5998297956773952)\n",
      "('urban', 0.5854624232334149)\n",
      "\n",
      "Topic 1:\n",
      "('hf', 2.7828159665806838)\n",
      "('heart', 0.4993770451817277)\n",
      "('failure', 0.3662671528717993)\n",
      "('clinical', 0.30580092453060814)\n",
      "('patient', 0.28028129466952445)\n",
      "('cardiac', 0.252053281755288)\n",
      "('hospitalization', 0.1860880936865309)\n",
      "('diastolic', 0.16847881490510358)\n",
      "('rock1', 0.14467955307300623)\n",
      "('dysfunction', 0.14447431595200974)\n",
      "\n",
      "Topic 2:\n",
      "('ahr', 1.82228747187345)\n",
      "('ligand', 0.6015626094549615)\n",
      "('bind', 0.21981424218395415)\n",
      "('cell', 0.20505263631896875)\n",
      "('gene', 0.15463846552836036)\n",
      "('ahr_dependent', 0.14287212052772189)\n",
      "('immune', 0.14161366838705303)\n",
      "('dioxin', 0.1362486652526506)\n",
      "('activation', 0.13287529482611826)\n",
      "('treg', 0.1318932421995782)\n",
      "\n",
      "Topic 3:\n",
      "('student', 1.4450583670961323)\n",
      "('conference', 1.0712102081092794)\n",
      "('doctoral', 0.822995021195203)\n",
      "('consortium', 0.5682878373142966)\n",
      "('artificial_intelligence', 0.521641675908508)\n",
      "('ai', 0.5152241492839142)\n",
      "('participant', 0.38850641535838176)\n",
      "('career', 0.3690430586936409)\n",
      "('international', 0.3621073137662721)\n",
      "('science', 0.32761531201542016)\n",
      "\n",
      "Topic 4:\n",
      "('cancer', 0.6672352908889743)\n",
      "('student', 0.5187402205674606)\n",
      "('african_americans', 0.4523822524767103)\n",
      "('public', 0.4450437375465449)\n",
      "('basic', 0.38611539769351644)\n",
      "('nccu_unc_chapel_hill', 0.3695120586923983)\n",
      "('nccu', 0.3695120586923983)\n",
      "('undergraduate', 0.343350596474057)\n",
      "('health', 0.33829131588139727)\n",
      "('summer', 0.31083557313501087)\n",
      "\n",
      "Topic 5:\n",
      "('hh', 1.8246889119748562)\n",
      "('protein', 0.47608965371170453)\n",
      "('gli', 0.43769982926532286)\n",
      "('cell', 0.3145861943096207)\n",
      "('transduction', 0.2591578761434987)\n",
      "('cilia', 0.23398095381318315)\n",
      "('smo', 0.224880820326877)\n",
      "('activation', 0.20269533553158486)\n",
      "('ift', 0.18489671515698558)\n",
      "('hedgehog_hh', 0.1844546634470175)\n",
      "\n",
      "Topic 6:\n",
      "('hiv', 1.4657198516362777)\n",
      "('tb', 0.6912766995335858)\n",
      "('infection', 0.33302553098157)\n",
      "('genomics', 0.26215592278523986)\n",
      "('cfar', 0.2483316442830483)\n",
      "('clinical', 0.2405058588434605)\n",
      "('child', 0.20916076701579212)\n",
      "('progression', 0.2078250726771897)\n",
      "('host', 0.20280998674641748)\n",
      "('cafgen', 0.20175257518022904)\n",
      "\n",
      "Topic 7:\n",
      "('nidp', 0.48179199754642915)\n",
      "('al', 0.47046729949092897)\n",
      "('native', 0.4184545567841931)\n",
      "('ai', 0.3911527648841619)\n",
      "('national', 0.3646850286307511)\n",
      "('health', 0.3501815148739885)\n",
      "('student', 0.3414028196213137)\n",
      "('institute', 0.32721546724756323)\n",
      "('disparity', 0.30531448620007795)\n",
      "('rt', 0.2659689444252857)\n",
      "\n",
      "Topic 8:\n",
      "('african', 1.3936985199027028)\n",
      "('africa', 1.2881528689338702)\n",
      "('region', 0.9657370800405695)\n",
      "('species', 0.8453226516973036)\n",
      "('climate', 0.8363568244061532)\n",
      "('north', 0.641555001084748)\n",
      "('fungi', 0.5469789228637286)\n",
      "('plant', 0.5383405627170891)\n",
      "('fossil', 0.5033728991386409)\n",
      "('biodiversity', 0.4977898988222216)\n",
      "\n",
      "Topic 9:\n",
      "('native', 0.8475234746863566)\n",
      "('health', 0.6128162648876423)\n",
      "('ai', 0.5559653748596336)\n",
      "('npcc', 0.45173344201676285)\n",
      "('cnp', 0.42770867290690184)\n",
      "('pilot', 0.4106306324210578)\n",
      "('scientist', 0.39221252735391315)\n",
      "('mentoring', 0.3835974834568789)\n",
      "('junior', 0.3835158900208219)\n",
      "('population', 0.36548048883573603)\n",
      "\n",
      "Topic 10:\n",
      "('e_cig', 1.4292713463614366)\n",
      "('smoking', 0.9281729020195184)\n",
      "('cigarette', 0.47291234793209813)\n",
      "('nicotine', 0.40484750829282384)\n",
      "('smoker', 0.3918443447108882)\n",
      "('tobacco', 0.3671003359774312)\n",
      "('smoking_cessation', 0.36485249637808526)\n",
      "('nicotine_dependence', 0.3567815260033914)\n",
      "('vaping', 0.32983184916033154)\n",
      "('user', 0.3183207780632027)\n",
      "\n",
      "Topic 11:\n",
      "('intelligence', 1.4193227766614827)\n",
      "('cognitive', 0.511442158457052)\n",
      "('human', 0.4494075154662621)\n",
      "('brain', 0.34854203468184697)\n",
      "('learn', 0.31848097364193984)\n",
      "('learning', 0.3165905177804947)\n",
      "('task', 0.3107006806014766)\n",
      "('computer', 0.25803332082939023)\n",
      "('artificial_intelligence', 0.25256364738424636)\n",
      "('machine', 0.2471370743314257)\n",
      "\n",
      "Topic 12:\n",
      "('artificial', 1.675313955247535)\n",
      "('lung', 0.8830071297451433)\n",
      "('cornea', 0.4502380075650819)\n",
      "('device', 0.3438841538480894)\n",
      "('technology', 0.307955121769694)\n",
      "('gas', 0.2556098460837249)\n",
      "('blood', 0.23506344657517939)\n",
      "('corneal', 0.21376269246670276)\n",
      "('property', 0.20924073794730547)\n",
      "('size', 0.19729122826110915)\n",
      "\n",
      "Topic 13:\n",
      "('cancer', 2.0854380694966577)\n",
      "('care', 0.5644028819794408)\n",
      "('surgical', 0.5224448372262236)\n",
      "('implement', 0.3773214984500017)\n",
      "('ai', 0.3540438873280774)\n",
      "('patient', 0.31043698007715537)\n",
      "('ai_ans', 0.29595077491327154)\n",
      "('disparity', 0.29084625759582877)\n",
      "('partner', 0.27981020683199037)\n",
      "('readiness', 0.26442754834362586)\n",
      "\n",
      "Topic 14:\n",
      "('neighborhood', 1.740070398799792)\n",
      "('housing', 0.4189239600104723)\n",
      "('resident', 0.29312798264432555)\n",
      "('mto', 0.27886981266500505)\n",
      "('family', 0.2337039817543117)\n",
      "('economic', 0.2325322011344313)\n",
      "('income', 0.2208095002096012)\n",
      "('racial', 0.217315096452779)\n",
      "('low_income', 0.21453470212134437)\n",
      "('individual', 0.2026213598751458)\n",
      "\n",
      "Topic 15:\n",
      "('ai_ctrc', 2.0027375335785473)\n",
      "('evaluation', 0.5668146029453422)\n",
      "('tec', 0.5651257594154948)\n",
      "('achieve', 0.5617312499737104)\n",
      "('ac', 0.5296192077515743)\n",
      "('translational', 0.3844700393823667)\n",
      "('progress', 0.3699607202218832)\n",
      "('pppc', 0.322938596945917)\n",
      "('ensure', 0.2946274520825704)\n",
      "('alaska', 0.2660626115220729)\n",
      "\n",
      "Topic 16:\n",
      "('oral', 1.054600420903904)\n",
      "('health', 0.8740381670807654)\n",
      "('colorado', 0.36327796070028157)\n",
      "('disparity', 0.27855139004281737)\n",
      "('cnohr', 0.2677322248170624)\n",
      "('cary_periodontal', 0.2677322248170624)\n",
      "('forresearch', 0.26353947096621955)\n",
      "('ai_ans', 0.23843495884286336)\n",
      "('ihs', 0.23060439929744536)\n",
      "('school', 0.22804720031075743)\n",
      "\n",
      "Topic 17:\n",
      "('aa', 0.9703600184848471)\n",
      "('gene', 0.5447179418818593)\n",
      "('genetic', 0.5409226374923851)\n",
      "('variant', 0.5169308765389209)\n",
      "('population', 0.4888679379085772)\n",
      "('african', 0.45941345220378693)\n",
      "('diabete', 0.4436827406064365)\n",
      "('allele', 0.359277857113401)\n",
      "('genome', 0.35746233862646937)\n",
      "('ancestry', 0.30358603039123827)\n",
      "\n",
      "Topic 18:\n",
      "('meeting', 1.5605535429989557)\n",
      "('workshop', 0.5256912065922893)\n",
      "('pant', 0.434325192274269)\n",
      "('south_carolina', 0.23163496551128804)\n",
      "('theory', 0.23017161649240228)\n",
      "('institution', 0.22760420758536315)\n",
      "('contract', 0.20654635743209274)\n",
      "('southeast', 0.20345274881903416)\n",
      "('preparation', 0.19921931085797784)\n",
      "('faculty', 0.18665859332487145)\n",
      "\n",
      "Topic 19:\n",
      "('ai', 1.2226513528959937)\n",
      "('biofilm', 0.6329494800223205)\n",
      "('quorum_sense', 0.624195014034234)\n",
      "('bacteria', 0.5933360198214669)\n",
      "('bacterial', 0.5629079539867474)\n",
      "('molecule', 0.4751070742756618)\n",
      "('species', 0.3744357979971302)\n",
      "('autoinducer', 0.37196163827415435)\n",
      "('pathogen', 0.26317320425122726)\n",
      "('antibiotic', 0.261012093656447)\n",
      "\n",
      "Topic 20:\n",
      "('enamel', 0.8232965745064476)\n",
      "('defect', 0.6490213256081155)\n",
      "('mutation', 0.612792089841956)\n",
      "('gene', 0.5154325943431385)\n",
      "('ai', 0.47507351602719605)\n",
      "('protein', 0.3910999772012431)\n",
      "('malformation', 0.28877317505907285)\n",
      "('fam83h', 0.2615435608551338)\n",
      "('mouse', 0.25592904626996404)\n",
      "('genetic', 0.2435024562409728)\n",
      "\n",
      "Topic 21:\n",
      "('network', 1.1934042496385384)\n",
      "('country', 0.39744632917367867)\n",
      "('aging', 0.379724299731206)\n",
      "('hrs', 0.3497170395126708)\n",
      "('disability', 0.3379441684878389)\n",
      "('aids', 0.30030145439511224)\n",
      "('collaboration', 0.2886013656173764)\n",
      "('old', 0.28715287437304343)\n",
      "('trend', 0.26338160501236063)\n",
      "('survey', 0.20008909666608665)\n",
      "\n",
      "Topic 22:\n",
      "('dialysis', 0.8073436626132502)\n",
      "('lkdt', 0.6920088536685003)\n",
      "('patient', 0.6455252917157214)\n",
      "('transplant', 0.31461155752436193)\n",
      "('eligible', 0.3080785309638306)\n",
      "('diabete', 0.27055521588247905)\n",
      "('ai', 0.26506046421943025)\n",
      "('randomize', 0.23544047675086763)\n",
      "('donation', 0.2309339402509188)\n",
      "('lkdt_conversation_family', 0.23066961788950008)\n",
      "\n",
      "Topic 23:\n",
      "('minority', 1.309061500339453)\n",
      "('office', 0.29158239617047665)\n",
      "('status', 0.28419028228410825)\n",
      "('acculturation', 0.22332707670085167)\n",
      "('mdd_das', 0.20902160333652414)\n",
      "('science', 0.19225338889846397)\n",
      "('omh_ophs_ncmhd', 0.19024173080479415)\n",
      "('faculty', 0.1858505108146197)\n",
      "('recruitment_retention', 0.1616894156543571)\n",
      "('boricua', 0.15676620250239315)\n",
      "\n",
      "Topic 24:\n",
      "('cell', 1.425646588738328)\n",
      "('pca', 0.527080131327618)\n",
      "('ar', 0.38862281673863913)\n",
      "('androgen', 0.3079517269329765)\n",
      "('growth', 0.2915381180368754)\n",
      "('plumbagin', 0.22708655845229211)\n",
      "('tumor', 0.22510052173682546)\n",
      "('prostate', 0.2238901725358245)\n",
      "('metastasis', 0.20237723014866937)\n",
      "('tissue', 0.19679963343600362)\n",
      "\n",
      "Topic 25:\n",
      "('cec', 0.8066973638298472)\n",
      "('environmental', 0.7839526741501769)\n",
      "('resilience', 0.6174187507841941)\n",
      "('ai', 0.5645507270404555)\n",
      "('health', 0.5098866260059266)\n",
      "('tribal', 0.49224859245106684)\n",
      "('exposure', 0.47807117718369735)\n",
      "('ehl', 0.35618080866972723)\n",
      "('cbpr', 0.3230813154753714)\n",
      "('ciehr', 0.28671528581769956)\n",
      "\n",
      "Topic 26:\n",
      "('political', 0.5986562993831328)\n",
      "('survey', 0.5646453822816814)\n",
      "('public', 0.390455881237693)\n",
      "('opinion', 0.35384533691091485)\n",
      "('democracy', 0.3351167771563076)\n",
      "('election', 0.3134938382685497)\n",
      "('inequality', 0.3014617428251735)\n",
      "('economic', 0.295954965143458)\n",
      "('citizen', 0.2801184619301674)\n",
      "('country', 0.26191298618505776)\n",
      "\n",
      "Topic 27:\n",
      "('health', 0.7386436273802707)\n",
      "('ai', 0.46985797807561663)\n",
      "('trauma', 0.35671348911304546)\n",
      "('american_indian_alaska_native', 0.28583619358991647)\n",
      "('care', 0.254834566965367)\n",
      "('disparity', 0.2387241118070615)\n",
      "('partnership', 0.23436413501069417)\n",
      "('trauma_relate', 0.22720089678413186)\n",
      "('ptsd', 0.2130070891814441)\n",
      "('setting', 0.20246663937577977)\n",
      "\n",
      "Topic 28:\n",
      "('breast', 0.6755771683616733)\n",
      "('ai', 0.5027083860216806)\n",
      "('ais', 0.45874652423090034)\n",
      "('woman', 0.45477466353033713)\n",
      "('estrogen', 0.4162894251070046)\n",
      "('therapy', 0.41531182637059966)\n",
      "('cancer', 0.3366777797254552)\n",
      "('patient', 0.2633852471553201)\n",
      "('resistance', 0.21503602613405895)\n",
      "('mammography', 0.212294664547916)\n",
      "\n",
      "Topic 29:\n",
      "('crc', 0.9422751391873242)\n",
      "('screen', 0.6662342828266652)\n",
      "('ai_ans', 0.5766737935679456)\n",
      "('urban', 0.3883564121100254)\n",
      "('health', 0.19003789378651378)\n",
      "('pamphlet', 0.18450176053815234)\n",
      "('clinic', 0.17322822264199472)\n",
      "('story', 0.1700867817129182)\n",
      "('indian', 0.16837918483379802)\n",
      "('digital', 0.1659702803998206)\n"
     ]
    }
   ],
   "source": [
    "print_topics(nmf_model, nmf_vectorizer, 10)"
   ]
  },
  {
   "cell_type": "code",
   "execution_count": null,
   "metadata": {},
   "outputs": [],
   "source": []
  },
  {
   "cell_type": "code",
   "execution_count": null,
   "metadata": {},
   "outputs": [],
   "source": []
  },
  {
   "cell_type": "code",
   "execution_count": null,
   "metadata": {},
   "outputs": [],
   "source": []
  },
  {
   "cell_type": "code",
   "execution_count": 238,
   "metadata": {},
   "outputs": [],
   "source": [
    "# TRY TOPIC MODELING WITH LDA\n",
    "\n",
    "# create document-term matrix\n",
    "\n",
    "lda_vectorizer = CountVectorizer(max_df=1.0, min_df=3, lowercase=True)\n",
    "lda_dtm = lda_vectorizer.fit_transform(text)"
   ]
  },
  {
   "cell_type": "code",
   "execution_count": 239,
   "metadata": {},
   "outputs": [],
   "source": [
    "# create model\n",
    "\n",
    "num_topics = 30\n",
    "lda_model = LatentDirichletAllocation(n_components=num_topics, doc_topic_prior = 1/num_topics, \n",
    "                                      topic_word_prior=0.1, n_jobs=39, random_state = 0)\n",
    "doc_top_dist = lda_model.fit_transform(lda_dtm)\n",
    "top_term_dist = lda_model.components_"
   ]
  },
  {
   "cell_type": "code",
   "execution_count": 240,
   "metadata": {
    "collapsed": true,
    "jupyter": {
     "outputs_hidden": true
    }
   },
   "outputs": [
    {
     "name": "stdout",
     "output_type": "stream",
     "text": [
      "\n",
      "Topic 0:\n",
      "('protein', 225.55502749264147)\n",
      "('receptor', 183.95759402950594)\n",
      "('cell', 172.4504639973329)\n",
      "('bind', 108.84685928736633)\n",
      "('structural', 83.23407993256878)\n",
      "('virus', 81.06300054201091)\n",
      "('viral', 75.5561411680632)\n",
      "('interaction', 68.26001146683492)\n",
      "('human', 67.85457954982031)\n",
      "('host', 64.82284755171038)\n",
      "\n",
      "Topic 1:\n",
      "('subset', 81.29454728313978)\n",
      "('cd4', 66.23840025065098)\n",
      "('memory', 62.37910850799191)\n",
      "('effector', 40.5848650803486)\n",
      "('viral', 40.11634209137843)\n",
      "('cell', 36.6079502522241)\n",
      "('rna', 36.412992443476384)\n",
      "('orf', 35.0999999999997)\n",
      "('protection', 33.610323276130394)\n",
      "('protein', 29.212279854306338)\n",
      "\n",
      "Topic 2:\n",
      "('cell', 202.03669046303705)\n",
      "('death', 163.99491597475762)\n",
      "('protein', 84.11074125989704)\n",
      "('human', 76.15368948404043)\n",
      "('receptor', 61.47717954877514)\n",
      "('cycle', 58.31210018295787)\n",
      "('autophagy', 45.205793172633825)\n",
      "('cellular', 39.855071437383906)\n",
      "('virus', 39.49494201595987)\n",
      "('play', 34.583390658500534)\n",
      "\n",
      "Topic 3:\n",
      "('virus', 503.9476289736178)\n",
      "('viral', 325.2321535714292)\n",
      "('host', 286.15035135611254)\n",
      "('protein', 256.0762166468321)\n",
      "('rna', 248.50619917303135)\n",
      "('replication', 245.83348386659708)\n",
      "('coronavirus', 192.01133936013733)\n",
      "('cell', 191.60339705724633)\n",
      "('gene', 152.11975127500102)\n",
      "('inhibitor', 145.26787553860322)\n",
      "\n",
      "Topic 4:\n",
      "('hcv', 936.1753590840242)\n",
      "('hiv', 632.951690355523)\n",
      "('infection', 134.9779998086495)\n",
      "('patient', 129.20551468069908)\n",
      "('care', 101.4077745557858)\n",
      "('infect', 89.42085859532881)\n",
      "('drug', 87.35339680209223)\n",
      "('testing', 83.95306041199797)\n",
      "('therapy', 67.12313233292302)\n",
      "('pwid', 57.09998924511843)\n",
      "\n",
      "Topic 5:\n",
      "('macrophage', 31.248062120572182)\n",
      "('autophagy', 25.548084297365087)\n",
      "('lymph_node', 24.57677967487654)\n",
      "('mhc', 22.256418456312527)\n",
      "('inflammasome', 18.38049756732289)\n",
      "('allele', 13.797361678592972)\n",
      "('dpp4', 12.611532939763322)\n",
      "('stress', 12.381605657078323)\n",
      "('lymphocyte', 12.378169577119507)\n",
      "('ko', 11.581209770269776)\n",
      "\n",
      "Topic 6:\n",
      "('cell', 934.7630243171636)\n",
      "('kshv', 644.071509136028)\n",
      "('ebv', 249.03681019003906)\n",
      "('infection', 206.40151230095978)\n",
      "('tumor', 204.29310230359386)\n",
      "('ks', 164.44968704007013)\n",
      "('gene', 157.9034254506393)\n",
      "('patient', 137.32721670022917)\n",
      "('latency', 119.06444569548658)\n",
      "('infect', 118.52913997672619)\n",
      "\n",
      "Topic 7:\n",
      "('infection', 37.96606498605185)\n",
      "('hiv', 33.76821571557734)\n",
      "('ebv', 31.115520854869917)\n",
      "('ctl', 28.45277437853249)\n",
      "('blood', 24.656756917921147)\n",
      "('lymphoma', 22.28779492866996)\n",
      "('aids', 22.26071367147582)\n",
      "('cancer', 20.803584883813166)\n",
      "('inflammation', 20.214829806497576)\n",
      "('cell', 19.58788170362728)\n",
      "\n",
      "Topic 8:\n",
      "('patient', 54.54788106866963)\n",
      "('ebv', 44.73114870784985)\n",
      "('therapy', 41.96609261330226)\n",
      "('ribosome', 39.766882924657075)\n",
      "('npc', 34.712694079240485)\n",
      "('hiv', 34.42578022429774)\n",
      "('kshv', 25.76576034198771)\n",
      "('cell', 24.210821678231724)\n",
      "('viral', 20.1858803027162)\n",
      "('combine', 18.58042345210228)\n",
      "\n",
      "Topic 9:\n",
      "('dna', 49.092469057059134)\n",
      "('molecule', 36.05519013665967)\n",
      "('interaction', 28.521474390341215)\n",
      "('cnt', 25.099998160903862)\n",
      "('drug', 24.451244905273363)\n",
      "('marker', 17.25102149760146)\n",
      "('molecular', 16.403091079555782)\n",
      "('neurocognitive', 13.579437937030622)\n",
      "('biology', 13.45022424178504)\n",
      "('pharmacokinetic', 13.09999362818956)\n",
      "\n",
      "Topic 10:\n",
      "('virus', 281.5459801216521)\n",
      "('vector', 205.3719205987978)\n",
      "('vaccine', 159.45759715332724)\n",
      "('infection', 137.34190539828347)\n",
      "('ndv', 127.93951750647453)\n",
      "('hpiv3', 106.09999824759721)\n",
      "('dose', 96.94269498581012)\n",
      "('express', 91.02185874747664)\n",
      "('respiratory', 85.16365186595259)\n",
      "('protein', 83.9930629823828)\n",
      "\n",
      "Topic 11:\n",
      "('influenza', 147.31641992929428)\n",
      "('patient', 120.39671583081108)\n",
      "('clinical', 98.13476379246524)\n",
      "('emerge', 60.77197942644498)\n",
      "('infection', 55.714783774117606)\n",
      "('protocol', 54.53067060905437)\n",
      "('care', 40.94011646530207)\n",
      "('infectious', 37.581736532400356)\n",
      "('dose', 37.5082034001803)\n",
      "('virus', 35.96013982812435)\n",
      "\n",
      "Topic 12:\n",
      "('virus', 153.62964944511606)\n",
      "('human', 114.47456736113963)\n",
      "('infectious', 108.83793302623653)\n",
      "('health', 62.14013558425235)\n",
      "('epidemiology', 58.83806564875385)\n",
      "('public', 58.45553037079896)\n",
      "('pathogen', 58.141758887593724)\n",
      "('emerge', 57.96085605948189)\n",
      "('respiratory', 56.86762371306408)\n",
      "('infection', 56.31796475597069)\n",
      "\n",
      "Topic 13:\n",
      "('human', 53.35607439223278)\n",
      "('inactivation', 51.95940358475925)\n",
      "('plasma', 51.34206354501669)\n",
      "('virus', 51.221905871453465)\n",
      "('cfi', 45.099999701806894)\n",
      "('technology', 38.71534007295505)\n",
      "('bacteria', 37.76394849442186)\n",
      "('pathogen', 34.90475793724826)\n",
      "('blood', 29.9358126139684)\n",
      "('unit', 29.779111494776974)\n",
      "\n",
      "Topic 14:\n",
      "('cell', 372.6554349855349)\n",
      "('virus', 300.92800316166296)\n",
      "('mouse', 274.4906554047676)\n",
      "('sars_cov', 230.4177664236629)\n",
      "('infection', 197.66947006316775)\n",
      "('protein', 187.08252776826131)\n",
      "('human', 156.96552151397535)\n",
      "('lung', 153.20635617159826)\n",
      "('sar_cov', 137.91357387274857)\n",
      "('sars', 137.08053338965914)\n",
      "\n",
      "Topic 15:\n",
      "('gene', 237.3553797841826)\n",
      "('genetic', 119.5861349439917)\n",
      "('npc', 112.96660802507539)\n",
      "('individual', 76.39456684063575)\n",
      "('population', 68.57990551455192)\n",
      "('ebv', 64.13629588534057)\n",
      "('level', 63.53760362045235)\n",
      "('cell', 61.82857778036647)\n",
      "('immune', 57.99535564937193)\n",
      "('inference', 57.09998399875331)\n",
      "\n",
      "Topic 16:\n",
      "('hiv', 315.8619665259027)\n",
      "('hsv', 182.24248900403467)\n",
      "('health', 141.7827974379656)\n",
      "('infection', 116.0088514380458)\n",
      "('spread', 80.2945145425962)\n",
      "('individual', 77.77331587568254)\n",
      "('art', 71.57568484876215)\n",
      "('neighborhood', 66.09996601859086)\n",
      "('public', 58.81363331552422)\n",
      "('influence', 53.536044672485716)\n",
      "\n",
      "Topic 17:\n",
      "('cell', 15.278114860965227)\n",
      "('dna', 14.230090464312385)\n",
      "('mir', 11.711383186000122)\n",
      "('coronaviruse', 10.376286892084652)\n",
      "('gs_5734', 9.735086425040814)\n",
      "('human', 9.567253566693791)\n",
      "('stage', 9.542991336591268)\n",
      "('fracture', 9.34752412787078)\n",
      "('virus', 9.271969074533509)\n",
      "('infect', 8.78741304706353)\n",
      "\n",
      "Topic 18:\n",
      "('immune', 343.6097573757179)\n",
      "('antibiotic', 162.10065477411436)\n",
      "('gene', 132.9284518710922)\n",
      "('host', 132.27881107032914)\n",
      "('immunity', 114.35949761792645)\n",
      "('virus', 101.27540891709802)\n",
      "('transmission', 89.90178372669166)\n",
      "('vaccination', 83.13574563361934)\n",
      "('protective', 83.02891297545558)\n",
      "('polygenic', 80.09999999999806)\n",
      "\n",
      "Topic 19:\n",
      "('vaccine', 212.13853388844507)\n",
      "('antibody', 183.14176871524614)\n",
      "('mers_cov', 177.3943510644298)\n",
      "('infection', 154.24324638952956)\n",
      "('human', 138.604975872332)\n",
      "('virus', 125.26640753973862)\n",
      "('cell', 111.07428269505291)\n",
      "('animal', 105.31857413541228)\n",
      "('viral', 76.92133426775077)\n",
      "('efficacy', 76.24320024843422)\n",
      "\n",
      "Topic 20:\n",
      "('ace2', 74.64692958681516)\n",
      "('emerge', 55.65097439618435)\n",
      "('virus', 51.99525711664124)\n",
      "('human', 48.52380729596921)\n",
      "('fusion', 44.23932249436229)\n",
      "('peptide', 41.21774842846524)\n",
      "('infection', 36.40422202073073)\n",
      "('epithelial', 36.12178324690375)\n",
      "('protein', 35.39467814022834)\n",
      "('sars_cov', 35.2646229591111)\n",
      "\n",
      "Topic 21:\n",
      "('vaccine', 188.9054227002202)\n",
      "('mouse', 133.75458246858923)\n",
      "('protein', 110.31113831780557)\n",
      "('cell', 67.07456911062577)\n",
      "('virus', 66.002068214547)\n",
      "('sars_cov', 64.54526990855365)\n",
      "('infect', 56.588147308767866)\n",
      "('infection', 55.1059901032736)\n",
      "('sar_cov', 53.69954355338436)\n",
      "('rbd', 50.16731090890117)\n",
      "\n",
      "Topic 22:\n",
      "('hla', 94.76255567810914)\n",
      "('cell', 92.00596645621278)\n",
      "('antigen', 48.3786975638055)\n",
      "('cytc', 48.09999999999929)\n",
      "('molecule', 45.72369785803854)\n",
      "('ebv', 41.82026741406932)\n",
      "('trophoblast', 40.0999999999993)\n",
      "('test', 34.3828288128813)\n",
      "('patient', 33.26100258863145)\n",
      "('phosphorylation', 29.45951867508582)\n",
      "\n",
      "Topic 23:\n",
      "('influenza', 95.28592397287079)\n",
      "('lana', 72.064505714747)\n",
      "('c_mybp_c', 50.09999999999928)\n",
      "('interaction', 43.824858986166184)\n",
      "('molecule', 42.587728420167856)\n",
      "('structural', 34.87695528651681)\n",
      "('protein', 33.19628529201318)\n",
      "('phosphorylation', 30.453933448601486)\n",
      "('repression', 24.099965112891258)\n",
      "('cardiac', 20.44293899747181)\n",
      "\n",
      "Topic 24:\n",
      "('hrv', 50.09999999999904)\n",
      "('virus', 40.933177344196956)\n",
      "('respiratory', 32.4464878641917)\n",
      "('assay', 29.073062821791673)\n",
      "('infection', 26.663916212356988)\n",
      "('malawi', 25.09998802599216)\n",
      "('pla2g2d', 24.099998554495706)\n",
      "('viral', 23.111823058109575)\n",
      "('asthma', 23.09760740712724)\n",
      "('population', 23.092783119638568)\n",
      "\n",
      "Topic 25:\n",
      "('rna', 196.59215346629395)\n",
      "('virus', 81.91558681690859)\n",
      "('fidelity', 77.0408929802264)\n",
      "('molecule', 58.05456406158865)\n",
      "('cov', 55.63374376091291)\n",
      "('exon', 52.099990699525385)\n",
      "('genome', 50.72242428813553)\n",
      "('pdk1', 48.099999999998886)\n",
      "('protein', 40.90658911188318)\n",
      "('vivo', 38.96468485936381)\n",
      "\n",
      "Topic 26:\n",
      "('ks', 263.2347563169589)\n",
      "('art', 125.54703358141448)\n",
      "('patient', 67.44834059092155)\n",
      "('hiv', 54.60260816366088)\n",
      "('clinical', 44.78909910409095)\n",
      "('survival', 29.606473220194474)\n",
      "('africa', 28.53622453605498)\n",
      "('cancer', 28.462595269547066)\n",
      "('antiretroviral', 25.904922270545423)\n",
      "('care', 24.894611560269013)\n",
      "\n",
      "Topic 27:\n",
      "('cell', 219.8952930931712)\n",
      "('clinical', 61.15605808536564)\n",
      "('cd8_t', 60.944181092314544)\n",
      "('splicing', 57.099990858616216)\n",
      "('hsv', 55.42689654307695)\n",
      "('hiv', 52.90090117682046)\n",
      "('cancer', 51.39939835147358)\n",
      "('vaccination', 50.74765888690318)\n",
      "('tumor', 49.075981432919995)\n",
      "('vector', 45.18522355150008)\n",
      "\n",
      "Topic 28:\n",
      "('protein', 125.91509064143841)\n",
      "('virus', 117.5683409093777)\n",
      "('cell', 91.89723430510497)\n",
      "('infection', 84.39740344190295)\n",
      "('mouse', 75.6367047918581)\n",
      "('inhibitor', 65.60368950914612)\n",
      "('gene', 59.85410278029665)\n",
      "('mhv', 54.09227060111421)\n",
      "('viral', 54.08003211512107)\n",
      "('human', 52.4846760214769)\n",
      "\n",
      "Topic 29:\n",
      "('lab', 174.89846594617197)\n",
      "('dna', 88.13822719069428)\n",
      "('ebv', 74.89085870605918)\n",
      "('testing', 51.10952784452906)\n",
      "('cell', 43.208660960539106)\n",
      "('assay', 42.27223819058267)\n",
      "('laboratory', 41.0959338536628)\n",
      "('blood', 39.73378493078292)\n",
      "('individual', 39.16535523199175)\n",
      "('test', 37.06729556172424)\n"
     ]
    }
   ],
   "source": [
    "print_topics(lda_model, lda_vectorizer, 10)"
   ]
  },
  {
   "cell_type": "code",
   "execution_count": null,
   "metadata": {},
   "outputs": [],
   "source": []
  }
 ],
 "metadata": {
  "kernelspec": {
   "display_name": "Python 3",
   "language": "python",
   "name": "python3"
  },
  "language_info": {
   "codemirror_mode": {
    "name": "ipython",
    "version": 3
   },
   "file_extension": ".py",
   "mimetype": "text/x-python",
   "name": "python",
   "nbconvert_exporter": "python",
   "pygments_lexer": "ipython3",
   "version": "3.7.4"
  }
 },
 "nbformat": 4,
 "nbformat_minor": 4
}
