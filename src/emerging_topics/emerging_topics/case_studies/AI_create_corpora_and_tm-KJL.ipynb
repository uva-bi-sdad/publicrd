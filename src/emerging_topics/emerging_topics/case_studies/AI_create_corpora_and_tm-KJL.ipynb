{
 "cells": [
  {
   "cell_type": "markdown",
   "metadata": {},
   "source": [
    "# Information Retrieval - For RShiny Dashboard  \n",
    "This notebook retrieves abstracts relevant to pandemics and then uses topic modeling to analyze the chosen abstracts.  Three info retrieval techniques are used: Literal Term Matching, TF-IDF, and Latent Semantic Indexing.  These are linear algebra techniques.  \n",
    "We use the Scikit-Learn library."
   ]
  },
  {
   "cell_type": "code",
   "execution_count": 1,
   "metadata": {},
   "outputs": [],
   "source": [
    "import pandas as pd\n",
    "import numpy as np\n",
    "import pickle\n",
    "import matplotlib.pyplot as plt\n",
    "import gensim\n",
    "import time\n",
    "\n",
    "from sklearn.decomposition import NMF, TruncatedSVD, LatentDirichletAllocation\n",
    "from sklearn.feature_extraction.text import CountVectorizer\n",
    "from sklearn.feature_extraction.text import TfidfVectorizer\n",
    "from sklearn.metrics import pairwise_distances\n",
    "\n",
    "import spacy\n",
    "from spacy.lang.en.stop_words import STOP_WORDS"
   ]
  },
  {
   "cell_type": "code",
   "execution_count": null,
   "metadata": {},
   "outputs": [],
   "source": []
  },
  {
   "cell_type": "code",
   "execution_count": 2,
   "metadata": {},
   "outputs": [],
   "source": [
    "# pull in entire dataframe\n",
    "\n",
    "df = pd.read_pickle(\"/home/kjl5t/dspg20RnD/data/final/final_dataset_7-20.pkl\")\n",
    "\n",
    "df.reset_index(inplace = True)\n",
    "#df.rename(columns={'index':'original index'}, inplace=True)"
   ]
  },
  {
   "cell_type": "code",
   "execution_count": 3,
   "metadata": {},
   "outputs": [
    {
     "data": {
      "text/html": [
       "<div>\n",
       "<style scoped>\n",
       "    .dataframe tbody tr th:only-of-type {\n",
       "        vertical-align: middle;\n",
       "    }\n",
       "\n",
       "    .dataframe tbody tr th {\n",
       "        vertical-align: top;\n",
       "    }\n",
       "\n",
       "    .dataframe thead th {\n",
       "        text-align: right;\n",
       "    }\n",
       "</style>\n",
       "<table border=\"1\" class=\"dataframe\">\n",
       "  <thead>\n",
       "    <tr style=\"text-align: right;\">\n",
       "      <th></th>\n",
       "      <th>index</th>\n",
       "      <th>original index</th>\n",
       "      <th>PROJECT_ID</th>\n",
       "      <th>ABSTRACT</th>\n",
       "      <th>FY</th>\n",
       "      <th>PROJECT_TERMS</th>\n",
       "      <th>PROJECT_TITLE</th>\n",
       "      <th>DEPARTMENT</th>\n",
       "      <th>AGENCY</th>\n",
       "      <th>IC_CENTER</th>\n",
       "      <th>...</th>\n",
       "      <th>working_abstract</th>\n",
       "      <th>Start_Char</th>\n",
       "      <th>nchar</th>\n",
       "      <th>LAST_CHAR</th>\n",
       "      <th>lemma_abstract</th>\n",
       "      <th>clean_lemmas</th>\n",
       "      <th>stopwds_removed</th>\n",
       "      <th>n_grams_added</th>\n",
       "      <th>final_tokens</th>\n",
       "      <th>final_frqwds_removed</th>\n",
       "    </tr>\n",
       "  </thead>\n",
       "  <tbody>\n",
       "    <tr>\n",
       "      <th>0</th>\n",
       "      <td>0</td>\n",
       "      <td>17608</td>\n",
       "      <td>152242</td>\n",
       "      <td>The multiprotein complex y-secretase proteolyt...</td>\n",
       "      <td>2008</td>\n",
       "      <td>Active Sites; Affect; Alzheimer's Disease; Amy...</td>\n",
       "      <td>STRUCTURE OF SIGNAL PEPTIDE PEPTIDASE</td>\n",
       "      <td>HHS</td>\n",
       "      <td>NIH</td>\n",
       "      <td>NaN</td>\n",
       "      <td>...</td>\n",
       "      <td>The multiprotein complex y-secretase proteolyt...</td>\n",
       "      <td>T</td>\n",
       "      <td>1402</td>\n",
       "      <td>g</td>\n",
       "      <td>[multiprotein, complex, y-secretase, proteolyt...</td>\n",
       "      <td>[multiprotein, complex, y-secretase, proteolyt...</td>\n",
       "      <td>[multiprotein, complex, y-secretase, proteolyt...</td>\n",
       "      <td>[multiprotein, complex, y-secretase, proteolyt...</td>\n",
       "      <td>[multiprotein, complex, y_secretase, proteolyt...</td>\n",
       "      <td>[multiprotein, y_secretase, proteolytically_cl...</td>\n",
       "    </tr>\n",
       "    <tr>\n",
       "      <th>1</th>\n",
       "      <td>1</td>\n",
       "      <td>111864</td>\n",
       "      <td>190316</td>\n",
       "      <td>DESCRIPTION (provided by applicant):   The Kis...</td>\n",
       "      <td>2008</td>\n",
       "      <td>Affect; Animal Model; Axon; Behavior; Behavior...</td>\n",
       "      <td>ROLE OF KISS1 NEURONS IN THE SEASONAL AND CIRC...</td>\n",
       "      <td>HHS</td>\n",
       "      <td>NIH</td>\n",
       "      <td>NaN</td>\n",
       "      <td>...</td>\n",
       "      <td>The Kissl gene encodes peptides called kisspep...</td>\n",
       "      <td>T</td>\n",
       "      <td>2553</td>\n",
       "      <td>y</td>\n",
       "      <td>[Kissl, gene, encode, peptide, call, kisspepti...</td>\n",
       "      <td>[kissl, gene, encode, peptide, call, kisspepti...</td>\n",
       "      <td>[kissl, gene, encode, peptide, kisspeptin, bin...</td>\n",
       "      <td>[kissl, gene, encode, peptide, kisspeptin, bin...</td>\n",
       "      <td>[kissl, gene, encode, peptide, kisspeptin, bin...</td>\n",
       "      <td>[kissl, gene, encode, peptide, kisspeptin, bin...</td>\n",
       "    </tr>\n",
       "    <tr>\n",
       "      <th>2</th>\n",
       "      <td>2</td>\n",
       "      <td>22052</td>\n",
       "      <td>154213</td>\n",
       "      <td>DESCRIPTION (provided by applicant): The objec...</td>\n",
       "      <td>2008</td>\n",
       "      <td>Agreement; Antibodies; base; Binding; Biochemi...</td>\n",
       "      <td>CARBONIC ANHYDRASE AS A MODEL TO UNDERSTAND DI...</td>\n",
       "      <td>HHS</td>\n",
       "      <td>NIH</td>\n",
       "      <td>NaN</td>\n",
       "      <td>...</td>\n",
       "      <td>The objective of this research is to understan...</td>\n",
       "      <td>T</td>\n",
       "      <td>1414</td>\n",
       "      <td>e</td>\n",
       "      <td>[objective, research, be, understand, biophysi...</td>\n",
       "      <td>[objective, research, be, understand, biophysi...</td>\n",
       "      <td>[objective, research, understand, biophysical,...</td>\n",
       "      <td>[objective, research, understand, biophysical,...</td>\n",
       "      <td>[objective, research, understand, biophysical,...</td>\n",
       "      <td>[biophysical, basis, thermodynamics_kinetic, m...</td>\n",
       "    </tr>\n",
       "    <tr>\n",
       "      <th>3</th>\n",
       "      <td>3</td>\n",
       "      <td>35004</td>\n",
       "      <td>159362</td>\n",
       "      <td>Obesity is the cause of many adverse pregnancy...</td>\n",
       "      <td>2008</td>\n",
       "      <td>African; Analysis of Variance; Asians; Birth; ...</td>\n",
       "      <td>OBESITY ON VAGAL TONE AND HBA1C DURING PREGNANCY</td>\n",
       "      <td>HHS</td>\n",
       "      <td>NIH</td>\n",
       "      <td>NaN</td>\n",
       "      <td>...</td>\n",
       "      <td>Obesity is the cause of many adverse pregnancy...</td>\n",
       "      <td>O</td>\n",
       "      <td>1545</td>\n",
       "      <td>d</td>\n",
       "      <td>[obesity, cause, many, adverse, pregnancyoutco...</td>\n",
       "      <td>[obesity, cause, many, adverse, pregnancyoutco...</td>\n",
       "      <td>[obesity, cause, adverse, pregnancyoutcome, re...</td>\n",
       "      <td>[obesity, cause, adverse_pregnancyoutcome, res...</td>\n",
       "      <td>[obesity, cause, adverse_pregnancyoutcome, res...</td>\n",
       "      <td>[obesity, adverse_pregnancyoutcome, great, hea...</td>\n",
       "    </tr>\n",
       "    <tr>\n",
       "      <th>4</th>\n",
       "      <td>4</td>\n",
       "      <td>371628</td>\n",
       "      <td>594482</td>\n",
       "      <td>Local potato advisory groups have expressed in...</td>\n",
       "      <td>2010</td>\n",
       "      <td>cost; Health; interest; Manure; Parasitic nema...</td>\n",
       "      <td>PLANT-PARASITIC NEMATODE MANAGEMENT AS A COMPO...</td>\n",
       "      <td>USDA</td>\n",
       "      <td>NIFA</td>\n",
       "      <td>NaN</td>\n",
       "      <td>...</td>\n",
       "      <td>Local potato advisory groups have expressed in...</td>\n",
       "      <td>L</td>\n",
       "      <td>271</td>\n",
       "      <td>s</td>\n",
       "      <td>[local, potato, advisory, group, express, inte...</td>\n",
       "      <td>[local, potato, advisory, group, express, inte...</td>\n",
       "      <td>[local, potato, advisory, group, express, inte...</td>\n",
       "      <td>[local, potato, advisory, group, express, inte...</td>\n",
       "      <td>[local, potato, advisory, group, express, inte...</td>\n",
       "      <td>[local, potato, advisory, express, interest, m...</td>\n",
       "    </tr>\n",
       "  </tbody>\n",
       "</table>\n",
       "<p>5 rows × 40 columns</p>\n",
       "</div>"
      ],
      "text/plain": [
       "   index  original index PROJECT_ID  \\\n",
       "0      0           17608     152242   \n",
       "1      1          111864     190316   \n",
       "2      2           22052     154213   \n",
       "3      3           35004     159362   \n",
       "4      4          371628     594482   \n",
       "\n",
       "                                            ABSTRACT    FY  \\\n",
       "0  The multiprotein complex y-secretase proteolyt...  2008   \n",
       "1  DESCRIPTION (provided by applicant):   The Kis...  2008   \n",
       "2  DESCRIPTION (provided by applicant): The objec...  2008   \n",
       "3  Obesity is the cause of many adverse pregnancy...  2008   \n",
       "4  Local potato advisory groups have expressed in...  2010   \n",
       "\n",
       "                                       PROJECT_TERMS  \\\n",
       "0  Active Sites; Affect; Alzheimer's Disease; Amy...   \n",
       "1  Affect; Animal Model; Axon; Behavior; Behavior...   \n",
       "2  Agreement; Antibodies; base; Binding; Biochemi...   \n",
       "3  African; Analysis of Variance; Asians; Birth; ...   \n",
       "4  cost; Health; interest; Manure; Parasitic nema...   \n",
       "\n",
       "                                       PROJECT_TITLE DEPARTMENT AGENCY  \\\n",
       "0              STRUCTURE OF SIGNAL PEPTIDE PEPTIDASE        HHS    NIH   \n",
       "1  ROLE OF KISS1 NEURONS IN THE SEASONAL AND CIRC...        HHS    NIH   \n",
       "2  CARBONIC ANHYDRASE AS A MODEL TO UNDERSTAND DI...        HHS    NIH   \n",
       "3   OBESITY ON VAGAL TONE AND HBA1C DURING PREGNANCY        HHS    NIH   \n",
       "4  PLANT-PARASITIC NEMATODE MANAGEMENT AS A COMPO...       USDA   NIFA   \n",
       "\n",
       "  IC_CENTER  ...                                   working_abstract  \\\n",
       "0       NaN  ...  The multiprotein complex y-secretase proteolyt...   \n",
       "1       NaN  ...  The Kissl gene encodes peptides called kisspep...   \n",
       "2       NaN  ...  The objective of this research is to understan...   \n",
       "3       NaN  ...  Obesity is the cause of many adverse pregnancy...   \n",
       "4       NaN  ...  Local potato advisory groups have expressed in...   \n",
       "\n",
       "  Start_Char nchar LAST_CHAR  \\\n",
       "0          T  1402         g   \n",
       "1          T  2553         y   \n",
       "2          T  1414         e   \n",
       "3          O  1545         d   \n",
       "4          L   271         s   \n",
       "\n",
       "                                      lemma_abstract  \\\n",
       "0  [multiprotein, complex, y-secretase, proteolyt...   \n",
       "1  [Kissl, gene, encode, peptide, call, kisspepti...   \n",
       "2  [objective, research, be, understand, biophysi...   \n",
       "3  [obesity, cause, many, adverse, pregnancyoutco...   \n",
       "4  [local, potato, advisory, group, express, inte...   \n",
       "\n",
       "                                        clean_lemmas  \\\n",
       "0  [multiprotein, complex, y-secretase, proteolyt...   \n",
       "1  [kissl, gene, encode, peptide, call, kisspepti...   \n",
       "2  [objective, research, be, understand, biophysi...   \n",
       "3  [obesity, cause, many, adverse, pregnancyoutco...   \n",
       "4  [local, potato, advisory, group, express, inte...   \n",
       "\n",
       "                                     stopwds_removed  \\\n",
       "0  [multiprotein, complex, y-secretase, proteolyt...   \n",
       "1  [kissl, gene, encode, peptide, kisspeptin, bin...   \n",
       "2  [objective, research, understand, biophysical,...   \n",
       "3  [obesity, cause, adverse, pregnancyoutcome, re...   \n",
       "4  [local, potato, advisory, group, express, inte...   \n",
       "\n",
       "                                       n_grams_added  \\\n",
       "0  [multiprotein, complex, y-secretase, proteolyt...   \n",
       "1  [kissl, gene, encode, peptide, kisspeptin, bin...   \n",
       "2  [objective, research, understand, biophysical,...   \n",
       "3  [obesity, cause, adverse_pregnancyoutcome, res...   \n",
       "4  [local, potato, advisory, group, express, inte...   \n",
       "\n",
       "                                        final_tokens  \\\n",
       "0  [multiprotein, complex, y_secretase, proteolyt...   \n",
       "1  [kissl, gene, encode, peptide, kisspeptin, bin...   \n",
       "2  [objective, research, understand, biophysical,...   \n",
       "3  [obesity, cause, adverse_pregnancyoutcome, res...   \n",
       "4  [local, potato, advisory, group, express, inte...   \n",
       "\n",
       "                                final_frqwds_removed  \n",
       "0  [multiprotein, y_secretase, proteolytically_cl...  \n",
       "1  [kissl, gene, encode, peptide, kisspeptin, bin...  \n",
       "2  [biophysical, basis, thermodynamics_kinetic, m...  \n",
       "3  [obesity, adverse_pregnancyoutcome, great, hea...  \n",
       "4  [local, potato, advisory, express, interest, m...  \n",
       "\n",
       "[5 rows x 40 columns]"
      ]
     },
     "execution_count": 3,
     "metadata": {},
     "output_type": "execute_result"
    }
   ],
   "source": [
    "df.head()"
   ]
  },
  {
   "cell_type": "code",
   "execution_count": 11,
   "metadata": {},
   "outputs": [],
   "source": [
    "# input needed for doc-term matrix creation in Scikit-Learn is one string per document (not a list of strings).  \n",
    "# Original data is already in this form, but not if we search by the tokens instead of the original abstract.\n",
    "\n",
    "#docs = df[\"ABSTRACT\"] \n",
    "tokens = df[\"final_frqwds_removed\"]\n",
    "\n",
    "docs = []\n",
    "\n",
    "for abstract in tokens:\n",
    "    docs.append(\" \".join(abstract))\n",
    "    \n",
    "docs = pd.Series(docs)"
   ]
  },
  {
   "cell_type": "code",
   "execution_count": null,
   "metadata": {},
   "outputs": [],
   "source": []
  },
  {
   "cell_type": "code",
   "execution_count": null,
   "metadata": {},
   "outputs": [],
   "source": []
  },
  {
   "cell_type": "code",
   "execution_count": 4,
   "metadata": {},
   "outputs": [],
   "source": [
    "# to save time/storage -- only read in list of final tokens, ie. df[\"final_frqwds_removed\"] - DO NOT USE\n",
    "# creates a problem when indexing since this produces a list for tokens rather than a series\n",
    "'''\n",
    "f = open('../topic_model_tuning/coherence_vars20.sav', 'rb')\n",
    "\n",
    "[corpus, id2word, tokens] = pickle.load(f)\n",
    "f.close()\n",
    "\n",
    "# corpus - word frequency in docs\n",
    "# id2word - dictionary\n",
    "# tokens - df[\"final_frqwds_removed\"]\n",
    "'''"
   ]
  },
  {
   "cell_type": "code",
   "execution_count": 5,
   "metadata": {},
   "outputs": [],
   "source": [
    "# input needed for doc-term matrix creation in Scikit-Learn is one string per document (not a list of strings).  \n",
    "''' \n",
    "docs = []\n",
    "\n",
    "for abstract in tokens:\n",
    "    docs.append(\" \".join(abstract))\n",
    "'''"
   ]
  },
  {
   "cell_type": "code",
   "execution_count": null,
   "metadata": {},
   "outputs": [],
   "source": []
  },
  {
   "cell_type": "markdown",
   "metadata": {},
   "source": [
    "## Functions needed for all info retrieval approaches"
   ]
  },
  {
   "cell_type": "code",
   "execution_count": 14,
   "metadata": {},
   "outputs": [],
   "source": [
    "# Create query vector \n",
    "\n",
    "def create_query(words, terms):\n",
    "    \n",
    "    # words: search query words\n",
    "    # terms: terms in corpus\n",
    "    \n",
    "    q = np.zeros(len(terms))  # number of terms\n",
    "\n",
    "    idx = []\n",
    "    for word in query_words:\n",
    "        idx.append(terms.index(word))\n",
    "\n",
    "    q[idx] = 1\n",
    "    \n",
    "    return q"
   ]
  },
  {
   "cell_type": "code",
   "execution_count": 15,
   "metadata": {},
   "outputs": [],
   "source": [
    "def return_top_abstracts(docs, scores, top_n):\n",
    "    \n",
    "    '''\n",
    "    docs: Series that contains abstract\n",
    "    scores: scores of abstracts\n",
    "    top_n: return the top_n abstracts given by idx, if top_n = -1 return all abstracts\n",
    "    '''\n",
    "    # sort scores in descending order\n",
    "    scores_sorted_idx = np.argsort(scores)[::-1]\n",
    "    \n",
    "    if top_n == -1:\n",
    "        n = sum(scores > 0)\n",
    "        ix = scores_sorted_idx[:n]\n",
    "    else:\n",
    "        ix = scores_sorted_idx[:top_n]\n",
    "    \n",
    "    print(ix[0:10])\n",
    "    \n",
    "    return ix, docs[ix]\n",
    "    "
   ]
  },
  {
   "cell_type": "code",
   "execution_count": 16,
   "metadata": {},
   "outputs": [],
   "source": [
    "def create_result_df(abstracts, scores):\n",
    "    \n",
    "    df = pd.DataFrame()\n",
    "    df[\"abstracts\"] = abstracts\n",
    "    df[\"scores\"] = scores\n",
    "    \n",
    "    return df"
   ]
  },
  {
   "cell_type": "code",
   "execution_count": null,
   "metadata": {},
   "outputs": [],
   "source": []
  },
  {
   "cell_type": "markdown",
   "metadata": {},
   "source": [
    "## Literal Term Matching - Frequency Count Document-Term Matrix\n",
    "\n",
    "This will return all abstracts in the corpus with exact word matches to the query.  \n",
    "\n",
    "Results will be return in sorted order of how high the query scores with each abstract. A high score means more occurences of the query words in the abstract."
   ]
  },
  {
   "cell_type": "code",
   "execution_count": 17,
   "metadata": {},
   "outputs": [],
   "source": [
    "# Note - we are now using the spaCy stopwords list instead of nltk.  It is more comprehensive.\n",
    "\n",
    "def create_stopwords():\n",
    "      \n",
    "    \"\"\" creates list of stopwords. stop words include the general English list and any additional we see sneaking \n",
    "    through.  \"\"\"\n",
    "    \n",
    "    spacy_stop_words = STOP_WORDS\n",
    "\n",
    "    # more stop words that do not add meaning to topics\n",
    "    additional_stopwords = {'addition', 'specifically', 'similar','including', 'particular', \n",
    "                            'furthermore','include', 'includes','overall', 'finally', 'specific', \n",
    "                            'additional'} \n",
    "           \n",
    "    sw = spacy_stop_words.union(additional_stopwords)\n",
    "    \n",
    "    return sw"
   ]
  },
  {
   "cell_type": "code",
   "execution_count": 18,
   "metadata": {},
   "outputs": [
    {
     "name": "stderr",
     "output_type": "stream",
     "text": [
      "/apps/software/standard/compiler/gcc/9.2.0/jupyter_conda/2019.10-py3.7/lib/python3.7/site-packages/sklearn/feature_extraction/text.py:385: UserWarning: Your stop_words may be inconsistent with your preprocessing. Tokenizing the stop words generated tokens ['ll', 've'] not in stop_words.\n",
      "  'stop_words.' % sorted(inconsistent))\n"
     ]
    }
   ],
   "source": [
    "# Create document-term matrix based on count frequencies\n",
    "\n",
    "stop_words = create_stopwords()\n",
    "\n",
    "vectorizer = CountVectorizer(lowercase=True, stop_words=stop_words, min_df=20)\n",
    "doc_term_matrix = vectorizer.fit_transform(docs)"
   ]
  },
  {
   "cell_type": "code",
   "execution_count": 19,
   "metadata": {},
   "outputs": [
    {
     "data": {
      "text/plain": [
       "(690814, 93578)"
      ]
     },
     "execution_count": 19,
     "metadata": {},
     "output_type": "execute_result"
    }
   ],
   "source": [
    "doc_term_matrix.shape"
   ]
  },
  {
   "cell_type": "code",
   "execution_count": 20,
   "metadata": {},
   "outputs": [],
   "source": [
    "terms = vectorizer.get_feature_names()"
   ]
  },
  {
   "cell_type": "markdown",
   "metadata": {},
   "source": [
    "### Create Query Words - list the search terms\n",
    "\n",
    "A query is just a list of words to search for in the corpus.  We will use the same query for all three info retrieval techniques."
   ]
  },
  {
   "cell_type": "code",
   "execution_count": 21,
   "metadata": {},
   "outputs": [
    {
     "data": {
      "text/plain": [
       "True"
      ]
     },
     "execution_count": 21,
     "metadata": {},
     "output_type": "execute_result"
    }
   ],
   "source": [
    "'artificial_intelligence' in terms"
   ]
  },
  {
   "cell_type": "code",
   "execution_count": 31,
   "metadata": {},
   "outputs": [
    {
     "data": {
      "text/plain": [
       "True"
      ]
     },
     "execution_count": 31,
     "metadata": {},
     "output_type": "execute_result"
    }
   ],
   "source": [
    "'machine_learning' in terms"
   ]
  },
  {
   "cell_type": "code",
   "execution_count": 32,
   "metadata": {},
   "outputs": [
    {
     "data": {
      "text/plain": [
       "False"
      ]
     },
     "execution_count": 32,
     "metadata": {},
     "output_type": "execute_result"
    }
   ],
   "source": [
    "'machine_learn' in terms"
   ]
  },
  {
   "cell_type": "code",
   "execution_count": null,
   "metadata": {},
   "outputs": [],
   "source": []
  },
  {
   "cell_type": "code",
   "execution_count": null,
   "metadata": {},
   "outputs": [],
   "source": []
  },
  {
   "cell_type": "code",
   "execution_count": 22,
   "metadata": {},
   "outputs": [],
   "source": [
    "# CHANGE QUERY WORDS HERE\n",
    "\n",
    "query_words = ['artificial_intelligence'] #'ai', 'artificial', 'intelligence' \n",
    "\n",
    "# coronavirus, 'mers', 'sars'] # 'pandemic', mers_cov', 'sars_cov']   #'mers', 'sars', 'zikv', 'denv', 'hiv'] #'influenza', 'aids'] \n",
    "              \n",
    "q = create_query(query_words, terms)"
   ]
  },
  {
   "cell_type": "code",
   "execution_count": null,
   "metadata": {},
   "outputs": [],
   "source": []
  },
  {
   "cell_type": "code",
   "execution_count": 23,
   "metadata": {},
   "outputs": [],
   "source": [
    "# calculate the score for each document against the query. Docs with more occurences of the query words \n",
    "# will score higher\n",
    "\n",
    "f_scores = doc_term_matrix.dot(q)"
   ]
  },
  {
   "cell_type": "code",
   "execution_count": 24,
   "metadata": {},
   "outputs": [
    {
     "data": {
      "text/plain": [
       "776"
      ]
     },
     "execution_count": 24,
     "metadata": {},
     "output_type": "execute_result"
    }
   ],
   "source": [
    "sum(f_scores >0)  # how many abstracts include at least one of the query words"
   ]
  },
  {
   "cell_type": "code",
   "execution_count": 25,
   "metadata": {},
   "outputs": [
    {
     "data": {
      "text/plain": [
       "array([6., 5., 5., 4., 4., 4., 4., 4., 4., 3.])"
      ]
     },
     "execution_count": 25,
     "metadata": {},
     "output_type": "execute_result"
    }
   ],
   "source": [
    "# sort scores in descending order\n",
    "\n",
    "f_scores_sorted = np.sort(f_scores)[::-1]\n",
    "f_scores_sorted[:10]"
   ]
  },
  {
   "cell_type": "code",
   "execution_count": 27,
   "metadata": {},
   "outputs": [
    {
     "name": "stdout",
     "output_type": "stream",
     "text": [
      "[493912  10300  83585 293012  19512 429296 689629 637044 689591 290517]\n"
     ]
    }
   ],
   "source": [
    "f_idx, f_top_abstracts = return_top_abstracts(docs, f_scores, 500)  # CHANGE NUMBER OF TOP DOCS RETURNED"
   ]
  },
  {
   "cell_type": "code",
   "execution_count": 28,
   "metadata": {},
   "outputs": [
    {
     "data": {
      "text/plain": [
       "493912    unique interdisciplinary team computer scienti...\n",
       "10300     graduate student attend workshop organize conj...\n",
       "83585     eager award education collaboration kindle_mat...\n",
       "293012    grant participation undergraduate student hold...\n",
       "19512     aaai artificial_intelligence interactive digit...\n",
       "                                ...                        \n",
       "520598    range contemporary emerge technology far reach...\n",
       "196879    nih interdisciplinary environment bring multid...\n",
       "569741    modify date modify cs george lee abstract prog...\n",
       "524959    radical shift computing paradigm neuro_inspire...\n",
       "386530    renewal biomedical_informatics grow significan...\n",
       "Length: 500, dtype: object"
      ]
     },
     "execution_count": 28,
     "metadata": {},
     "output_type": "execute_result"
    }
   ],
   "source": [
    "f_top_abstracts"
   ]
  },
  {
   "cell_type": "code",
   "execution_count": 35,
   "metadata": {},
   "outputs": [
    {
     "data": {
      "text/plain": [
       "'radical shift computing paradigm neuro_inspired computing attractive intensive image speech recognition neuro inspire architecture leverage distribute computation neuron node localize storage synaptic element neuron node today generally implement silicon transistor crossbar_array synaptic element silicon neuron power_hungry area_inefficient parallelism computing context single device efficiently emulate neuronal eg integrate fire neuromorphic_hardware exploit metal_insulator transition phenomenon strongly correlate oxide compact neuron node self oscillate oxide neuron overcome aforemention limitation silicon neuron profound society embrace artificial_intelligence instance compact neuromorphic_hardware enable intelligent processing power efficient mobile platform eg autonomous_vehicle personalize healthcare wearable device smart sensor education integration train undergraduate graduate student generation workforce interdisciplinary skill cross layer nature range engineering semiconductor device circuit device interaction artificial neural network ideal platform educational engage minority unrepresentative student technology transfer video site seminar student internship industrial collaborator advance artificial neuron device exploit volatile threshold switch strongly correlate oxide purpose significantly energy neuron node compatible integration crossbar_array resistive synaptic element scope explore strongly correlate oxide o2 smnio3 self oscillation artificial neuron node oxide device connect series synaptic element resistance dynamic range oxide device node voltage oxide device synaptic element start self oscillation oscillation frequency represent synaptic conductance explore self oscillation emulate integrate fire neuronal achieve aforemention device fabrication physical electrical characterization device modeling circuit device co_design feasibility concept optimize device performance intellectual significance fold fundamental science perspective physical switch metal_insulator transition strongly correlate oxide apply engineering perspective oxide neuron device integrate resistive crossbar_array demonstration neural network solving practical ie image pattern classification'"
      ]
     },
     "execution_count": 35,
     "metadata": {},
     "output_type": "execute_result"
    }
   ],
   "source": [
    "f_top_abstracts.iloc[498]"
   ]
  },
  {
   "cell_type": "code",
   "execution_count": null,
   "metadata": {},
   "outputs": [],
   "source": []
  },
  {
   "cell_type": "markdown",
   "metadata": {},
   "source": [
    "## TF-IDF Document-Term Matrix\n",
    "\n",
    "This approach is similar to Literal Term Matching using frequency counts in the document-term matrix.  However, instead of using frequency counts, the entries of the document-term matrix are weighted using TF-IDF."
   ]
  },
  {
   "cell_type": "code",
   "execution_count": 36,
   "metadata": {},
   "outputs": [
    {
     "name": "stderr",
     "output_type": "stream",
     "text": [
      "/apps/software/standard/compiler/gcc/9.2.0/jupyter_conda/2019.10-py3.7/lib/python3.7/site-packages/sklearn/feature_extraction/text.py:385: UserWarning: Your stop_words may be inconsistent with your preprocessing. Tokenizing the stop words generated tokens ['ll', 've'] not in stop_words.\n",
      "  'stop_words.' % sorted(inconsistent))\n"
     ]
    }
   ],
   "source": [
    "# Find doc-term matrix using TF-IDF weighting\n",
    "\n",
    "tf_idf_vectorizer = TfidfVectorizer(lowercase=True, stop_words=stop_words, min_df=20)\n",
    "tf_idf = tf_idf_vectorizer.fit_transform(docs)"
   ]
  },
  {
   "cell_type": "code",
   "execution_count": 37,
   "metadata": {},
   "outputs": [],
   "source": [
    "tf_idf_terms = tf_idf_vectorizer.get_feature_names()  # these terms are the same as the terms created from the \n",
    "                                                      # frequency count document-term matrix, so we do not need to\n",
    "                                                      # recreate the query vector."
   ]
  },
  {
   "cell_type": "code",
   "execution_count": 38,
   "metadata": {},
   "outputs": [
    {
     "data": {
      "text/plain": [
       "True"
      ]
     },
     "execution_count": 38,
     "metadata": {},
     "output_type": "execute_result"
    }
   ],
   "source": [
    "tf_idf_terms == terms"
   ]
  },
  {
   "cell_type": "code",
   "execution_count": 39,
   "metadata": {},
   "outputs": [],
   "source": [
    "# calculate the score for each document against the query. Docs with more occurences of the query words \n",
    "# will score higher\n",
    "\n",
    "tf_idf_scores = tf_idf.dot(q)"
   ]
  },
  {
   "cell_type": "code",
   "execution_count": 40,
   "metadata": {},
   "outputs": [
    {
     "data": {
      "text/plain": [
       "776"
      ]
     },
     "execution_count": 40,
     "metadata": {},
     "output_type": "execute_result"
    }
   ],
   "source": [
    "sum(tf_idf_scores >0)   # how many abstracts include at least one of the query words"
   ]
  },
  {
   "cell_type": "code",
   "execution_count": 41,
   "metadata": {},
   "outputs": [
    {
     "data": {
      "text/plain": [
       "array([0.54210581, 0.53685946, 0.40581146, 0.39018629, 0.37190372,\n",
       "       0.34989933, 0.34834546, 0.34467873, 0.33076975, 0.31210131])"
      ]
     },
     "execution_count": 41,
     "metadata": {},
     "output_type": "execute_result"
    }
   ],
   "source": [
    "# sort scores in descending order\n",
    "\n",
    "tf_idf_scores_sorted = np.sort(tf_idf_scores)[::-1]\n",
    "tf_idf_scores_sorted[:10]"
   ]
  },
  {
   "cell_type": "code",
   "execution_count": 42,
   "metadata": {},
   "outputs": [
    {
     "name": "stdout",
     "output_type": "stream",
     "text": [
      "[293012  10300 493912 235101 581817  51183 531638 292485 378772 202240]\n"
     ]
    }
   ],
   "source": [
    "tfidf_idx, tfidf_top_abstracts = return_top_abstracts(docs, tf_idf_scores, 500)  # CHANGE NUMBER OF TOP DOCS RETURNED"
   ]
  },
  {
   "cell_type": "code",
   "execution_count": 43,
   "metadata": {},
   "outputs": [
    {
     "data": {
      "text/plain": [
       "293012    grant participation undergraduate student hold...\n",
       "10300     graduate student attend workshop organize conj...\n",
       "493912    unique interdisciplinary team computer scienti...\n",
       "235101    phd student artificial_intelligence opportunit...\n",
       "581817    live maintain dimensional shape embryonic poor...\n",
       "                                ...                        \n",
       "490365    intellectual_merit self assembly individual ar...\n",
       "636454    sbir ii create scalable virtual learning assis...\n",
       "622262    anxiety disorder common psychiatric disorder y...\n",
       "528444    human brain currently powerful processor man r...\n",
       "498517    human infant confront world fill ambiguity fea...\n",
       "Length: 500, dtype: object"
      ]
     },
     "execution_count": 43,
     "metadata": {},
     "output_type": "execute_result"
    }
   ],
   "source": [
    "tfidf_top_abstracts"
   ]
  },
  {
   "cell_type": "code",
   "execution_count": 48,
   "metadata": {},
   "outputs": [
    {
     "data": {
      "text/plain": [
       "'anxiety disorder common psychiatric disorder youth lifetime prevalence range general population anxiety disorder social anxiety disorder sad youth short impairment likelihood substance_abuse limited academic achievement attenuate occupational impaired miss social relationship emerge social skill formal peer generalization session homework_assignment efficacy element skill generalization element peer generalization homework_assignment difficult implement traditional clinical setting limit optimal dissemination youth need setting eg school outpatient facility recenly complete sttr validate interactive virtual environment ve solve need intensive behavioral practice opportunity skill generalization ve pegasys vr intensive practice social skill need formal peer clinic solution intensive parental involvement home solution indicate implement ve environment set accessible credible feasible parent clinician child participate examination indicate statistically improvement sad symptom success need automation acceptance adoption clinician socially anxiety youth ii sttr incorporate artificial_intelligence natural language ves clinic practice expand homework solution opportunity reinforce skill acquisition generalization practice vivo setting game theory technology randomize youth age test pegasys vr traditional behavioral youth social anxiety disorder maintain month pegasys vr clinically efficacious offer sustainable cost__effective easily rapidy disseminate'"
      ]
     },
     "execution_count": 48,
     "metadata": {},
     "output_type": "execute_result"
    }
   ],
   "source": [
    "tfidf_top_abstracts.iloc[497]"
   ]
  },
  {
   "cell_type": "code",
   "execution_count": null,
   "metadata": {},
   "outputs": [],
   "source": []
  },
  {
   "cell_type": "code",
   "execution_count": null,
   "metadata": {},
   "outputs": [],
   "source": []
  },
  {
   "cell_type": "markdown",
   "metadata": {},
   "source": [
    "## Latent Semantic Indexing (LSI) Approach\n",
    "\n",
    "LSI Uses the TF-IDF matrix.  LSI is a tecnique that utilizes a truncated Singular Value Decomposition of the document-term matrix.  Basically, LSI still returns relevant documents to the query; however some of the documents returned may not include the exact search terms!  LSI is finding the latent or hidden relationships in the terms.  "
   ]
  },
  {
   "cell_type": "code",
   "execution_count": 49,
   "metadata": {},
   "outputs": [],
   "source": [
    "# Find the Truncated SVD of the TF-IDF matrix\n",
    "\n",
    "lsa = TruncatedSVD(n_components=500, random_state=1)  # CHANGE THE NUMBER OF COMPONENTS - NOTE: MORE COMPONENTS \n",
    "                                                      # GIVES YOU A MORE ACCURATE APPROXIMATION OF THE DOC-TERM \n",
    "                                                      # MATRIX, BUT IS ALSO MORE EXPENSIVE AND MAY NOT LEAD TO THE \n",
    "                                                      # BEST INFO RETRIEVAL RESULTS.\n",
    "USigma = lsa.fit_transform(tf_idf)\n",
    "Vtrans = lsa.components_"
   ]
  },
  {
   "cell_type": "code",
   "execution_count": 50,
   "metadata": {},
   "outputs": [],
   "source": [
    "# transform query to be in same space as documents\n",
    "\n",
    "q = q.reshape(1,-1)\n",
    "qhat = lsa.transform(q)"
   ]
  },
  {
   "cell_type": "code",
   "execution_count": 51,
   "metadata": {},
   "outputs": [
    {
     "name": "stdout",
     "output_type": "stream",
     "text": [
      "(1, 500)\n",
      "(690814, 500)\n",
      "(500, 93578)\n"
     ]
    }
   ],
   "source": [
    "print(qhat.shape)\n",
    "print(USigma.shape)\n",
    "print(Vtrans.shape)"
   ]
  },
  {
   "cell_type": "code",
   "execution_count": 52,
   "metadata": {},
   "outputs": [],
   "source": [
    "lsa_scores = pairwise_distances(qhat, USigma, metric='cosine', n_jobs=20)  # CHANGE N_JOBS TO BE NUMBER OF CORES - 1"
   ]
  },
  {
   "cell_type": "code",
   "execution_count": 53,
   "metadata": {},
   "outputs": [
    {
     "data": {
      "text/plain": [
       "(1, 690814)"
      ]
     },
     "execution_count": 53,
     "metadata": {},
     "output_type": "execute_result"
    }
   ],
   "source": [
    "lsa_scores.shape"
   ]
  },
  {
   "cell_type": "code",
   "execution_count": 54,
   "metadata": {},
   "outputs": [
    {
     "data": {
      "text/plain": [
       "array([[0.99133602, 0.98604572, 0.9832503 , ..., 0.95342406, 0.97755251,\n",
       "        1.00443007]])"
      ]
     },
     "execution_count": 54,
     "metadata": {},
     "output_type": "execute_result"
    }
   ],
   "source": [
    "lsa_scores"
   ]
  },
  {
   "cell_type": "code",
   "execution_count": 55,
   "metadata": {},
   "outputs": [
    {
     "data": {
      "text/plain": [
       "array([0.99133602, 0.98604572, 0.9832503 , ..., 0.95342406, 0.97755251,\n",
       "       1.00443007])"
      ]
     },
     "execution_count": 55,
     "metadata": {},
     "output_type": "execute_result"
    }
   ],
   "source": [
    "lsa_scores[0]"
   ]
  },
  {
   "cell_type": "code",
   "execution_count": 56,
   "metadata": {},
   "outputs": [
    {
     "data": {
      "text/plain": [
       "690814"
      ]
     },
     "execution_count": 56,
     "metadata": {},
     "output_type": "execute_result"
    }
   ],
   "source": [
    "sum(lsa_scores[0] > 0)  # how many abstracts scored above 0"
   ]
  },
  {
   "cell_type": "code",
   "execution_count": 57,
   "metadata": {},
   "outputs": [
    {
     "data": {
      "text/plain": [
       "array([1.14581175, 1.13709072, 1.13687709, 1.13399649, 1.13048978,\n",
       "       1.12849743, 1.12779594, 1.12625484, 1.12600067, 1.12432865])"
      ]
     },
     "execution_count": 57,
     "metadata": {},
     "output_type": "execute_result"
    }
   ],
   "source": [
    "# sort scores in descending order\n",
    "\n",
    "lsa_scores_sorted = np.sort(lsa_scores[0])[::-1]\n",
    "lsa_scores_sorted[:10]"
   ]
  },
  {
   "cell_type": "code",
   "execution_count": 58,
   "metadata": {},
   "outputs": [
    {
     "name": "stdout",
     "output_type": "stream",
     "text": [
      "[521029 423786 306306 689195 286505 541903 290054 485773 156876 421426]\n"
     ]
    }
   ],
   "source": [
    "lsa_idx, lsa_top_abstracts = return_top_abstracts(docs, lsa_scores[0], 500)  # CHANGE NUMBER OF TOP DOCS RETURNED"
   ]
  },
  {
   "cell_type": "code",
   "execution_count": 59,
   "metadata": {},
   "outputs": [
    {
     "data": {
      "text/plain": [
       "521029    background hivcontinuestobeapressingpublicheal...\n",
       "423786    award pi postdoctoral supervision dr meers opp...\n",
       "306306    wave instability neutral dynamo windy windy wa...\n",
       "689195    math anxiety disproportionately feel woman wom...\n",
       "286505    evidence practice ebps increasingly implement ...\n",
       "                                ...                        \n",
       "350515    administrative adm strong consistent scientifi...\n",
       "345974    administrative adm strong consistent scientifi...\n",
       "601476    listener combine auditory spatial binaural_cue...\n",
       "490137    biomedical infrastructure biomedical health he...\n",
       "107885    barrier limit exchange nutrient organism water...\n",
       "Length: 500, dtype: object"
      ]
     },
     "execution_count": 59,
     "metadata": {},
     "output_type": "execute_result"
    }
   ],
   "source": [
    "lsa_top_abstracts"
   ]
  },
  {
   "cell_type": "code",
   "execution_count": 68,
   "metadata": {},
   "outputs": [
    {
     "data": {
      "text/plain": [
       "'purpose qualitative quantitative safety_tolerability arikace placebo'"
      ]
     },
     "execution_count": 68,
     "metadata": {},
     "output_type": "execute_result"
    }
   ],
   "source": [
    "lsa_top_abstracts.iloc[100]"
   ]
  },
  {
   "cell_type": "code",
   "execution_count": null,
   "metadata": {},
   "outputs": [],
   "source": []
  },
  {
   "cell_type": "code",
   "execution_count": null,
   "metadata": {},
   "outputs": [],
   "source": []
  },
  {
   "cell_type": "markdown",
   "metadata": {},
   "source": [
    "## Create pandemics corpus\n",
    "\n",
    "We use the results of our three information retrieval techniques to create a new, smaller corpus that only contains abstracts relevant to the query. "
   ]
  },
  {
   "cell_type": "code",
   "execution_count": 87,
   "metadata": {},
   "outputs": [],
   "source": [
    "docs_ix = np.concatenate([f_idx, tfidf_idx]) #, lsa_idx])"
   ]
  },
  {
   "cell_type": "code",
   "execution_count": 88,
   "metadata": {},
   "outputs": [],
   "source": [
    "docs_idx = np.unique(docs_ix)"
   ]
  },
  {
   "cell_type": "code",
   "execution_count": 89,
   "metadata": {},
   "outputs": [
    {
     "data": {
      "text/plain": [
       "(661,)"
      ]
     },
     "execution_count": 89,
     "metadata": {},
     "output_type": "execute_result"
    }
   ],
   "source": [
    "docs_idx.shape"
   ]
  },
  {
   "cell_type": "code",
   "execution_count": 72,
   "metadata": {},
   "outputs": [],
   "source": [
    "#lim_docs = [tokens[i] for i in docs_idx]"
   ]
  },
  {
   "cell_type": "code",
   "execution_count": null,
   "metadata": {},
   "outputs": [],
   "source": []
  },
  {
   "cell_type": "markdown",
   "metadata": {},
   "source": [
    "**create case-study corpuses**"
   ]
  },
  {
   "cell_type": "code",
   "execution_count": 90,
   "metadata": {},
   "outputs": [],
   "source": [
    "ai_corpus = df.loc[docs_idx, :]"
   ]
  },
  {
   "cell_type": "code",
   "execution_count": 91,
   "metadata": {},
   "outputs": [
    {
     "data": {
      "text/plain": [
       "(661, 40)"
      ]
     },
     "execution_count": 91,
     "metadata": {},
     "output_type": "execute_result"
    }
   ],
   "source": [
    "ai_corpus.shape"
   ]
  },
  {
   "cell_type": "code",
   "execution_count": 92,
   "metadata": {},
   "outputs": [],
   "source": [
    "#ai_corpus.to_pickle(\"./ai_corpus.pkl\")"
   ]
  },
  {
   "cell_type": "code",
   "execution_count": 93,
   "metadata": {},
   "outputs": [],
   "source": [
    "lim_docs = ai_corpus[\"final_frqwds_removed\"]"
   ]
  },
  {
   "cell_type": "code",
   "execution_count": null,
   "metadata": {},
   "outputs": [],
   "source": []
  },
  {
   "cell_type": "code",
   "execution_count": 94,
   "metadata": {},
   "outputs": [],
   "source": [
    "# input needed for LDA, NMF (all from Scikit-Learn) is one string per document (not a list of strings)\n",
    "\n",
    "text = []\n",
    "\n",
    "for token_list in lim_docs:\n",
    "    text.append(\" \".join(token_list))"
   ]
  },
  {
   "cell_type": "code",
   "execution_count": 95,
   "metadata": {},
   "outputs": [
    {
     "data": {
      "text/plain": [
       "661"
      ]
     },
     "execution_count": 95,
     "metadata": {},
     "output_type": "execute_result"
    }
   ],
   "source": [
    "len(lim_docs)"
   ]
  },
  {
   "cell_type": "markdown",
   "metadata": {},
   "source": [
    "## Topic Modeling with relevant pandemic abstracts"
   ]
  },
  {
   "cell_type": "code",
   "execution_count": 96,
   "metadata": {},
   "outputs": [],
   "source": [
    "# function slightly modified from https://nlpforhackers.io/topic-modeling/\n",
    "\n",
    "def print_topics(model, vectorizer, top_n=10):\n",
    "    for idx, topic in enumerate(model.components_):  # loop through each row of H.  idx = row index.  topic = actual row\n",
    "        print(\"\\nTopic %d:\" % (idx))\n",
    "        #print([(vectorizer.get_feature_names()[i], topic[i])  # printing out words corresponding to indices found in next line\n",
    "                        #for i in topic.argsort()[:-top_n - 1:-1]])  # finding indices of top words in topic\n",
    "            \n",
    "        print_list = [(vectorizer.get_feature_names()[i], topic[i])  \n",
    "                        for i in topic.argsort()[:-top_n - 1:-1]]\n",
    "        for item in print_list:\n",
    "            print(item)\n",
    "        "
   ]
  },
  {
   "cell_type": "code",
   "execution_count": 97,
   "metadata": {},
   "outputs": [],
   "source": [
    "# Create a TF-IDF document-term matrix for the pandemics corpus \n",
    "\n",
    "# TRY DIFFERENT PARAMETERS IN THE TF-IDF DOC-TERM MATRIX SET-UP\n",
    "nmf_vectorizer = TfidfVectorizer(max_df=1.0, min_df=3, lowercase=True) #, max_features=int(len(lim_docs)/2))\n",
    "\n",
    "nmf_tf_idf = nmf_vectorizer.fit_transform(text)"
   ]
  },
  {
   "cell_type": "code",
   "execution_count": 98,
   "metadata": {},
   "outputs": [
    {
     "data": {
      "text/plain": [
       "(661, 3537)"
      ]
     },
     "execution_count": 98,
     "metadata": {},
     "output_type": "execute_result"
    }
   ],
   "source": [
    "nmf_tf_idf.shape"
   ]
  },
  {
   "cell_type": "code",
   "execution_count": 103,
   "metadata": {},
   "outputs": [],
   "source": [
    "# topic modeling with NMF\n",
    "\n",
    "nmf_model = NMF(n_components=30, random_state=1)  # TRY DIFFERENT NUMBERS OF TOPICS\n",
    "W = nmf_model.fit_transform(nmf_tf_idf)\n",
    "H = nmf_model.components_"
   ]
  },
  {
   "cell_type": "code",
   "execution_count": 104,
   "metadata": {},
   "outputs": [
    {
     "name": "stdout",
     "output_type": "stream",
     "text": [
      "\n",
      "Topic 0:\n",
      "('robot', 2.9276555431026523)\n",
      "('robotics', 1.8796799753240636)\n",
      "('planning', 1.3957262296727975)\n",
      "('robotic', 0.9263724100777656)\n",
      "('environment', 0.5895251796196265)\n",
      "('human', 0.5321522585489054)\n",
      "('autonomous', 0.5262712301936743)\n",
      "('execution', 0.5087147277827263)\n",
      "('sensor', 0.4999294818395091)\n",
      "('manufacturing', 0.4834539125793396)\n",
      "\n",
      "Topic 1:\n",
      "('student', 1.1983127483998974)\n",
      "('reu', 0.4400906665204058)\n",
      "('graduate', 0.3372826043302055)\n",
      "('faculty', 0.334001298311603)\n",
      "('summer', 0.3303538555777053)\n",
      "('mentor', 0.3024311421821423)\n",
      "('undergraduate', 0.29963604825409723)\n",
      "('science', 0.28998847836336)\n",
      "('school', 0.24223020110358717)\n",
      "('rusis', 0.23107958190465744)\n",
      "\n",
      "Topic 2:\n",
      "('melanoma', 1.0048244609218435)\n",
      "('spore', 0.6415026256853423)\n",
      "('skin', 0.4814985220707861)\n",
      "('cancer', 0.4711648935169887)\n",
      "('yale', 0.41760852379198254)\n",
      "('modifier', 0.3670705669140861)\n",
      "('epigenetic', 0.3670705669140861)\n",
      "('specimen', 0.3447241921186862)\n",
      "('basal', 0.2557584887001398)\n",
      "('therapy', 0.24913391894604944)\n",
      "\n",
      "Topic 3:\n",
      "('network', 1.2297099749098788)\n",
      "('deep', 1.0966132998066158)\n",
      "('neural', 0.6842399622561169)\n",
      "('architecture', 0.3382964356182848)\n",
      "('learning', 0.23990486742909245)\n",
      "('cnn', 0.20148552741743023)\n",
      "('biological', 0.1894304601900043)\n",
      "('artificial', 0.18715044394459407)\n",
      "('processing', 0.18592887648602205)\n",
      "('normalization', 0.18089337709986833)\n",
      "\n",
      "Topic 4:\n",
      "('learning', 1.8850206144060233)\n",
      "('learn', 0.9434345075903758)\n",
      "('learner', 0.5232061683570645)\n",
      "('science', 0.4830215596074131)\n",
      "('teacher', 0.46598462368783083)\n",
      "('student', 0.43494009062282474)\n",
      "('stem', 0.42394226701993043)\n",
      "('environment', 0.3986182776348598)\n",
      "('education', 0.3602907858401954)\n",
      "('reinforcement', 0.3149941681740963)\n",
      "\n",
      "Topic 5:\n",
      "('patient', 1.385461044211499)\n",
      "('clinical', 0.888294594725494)\n",
      "('care', 0.7712462782035876)\n",
      "('health', 0.44793851591018047)\n",
      "('healthcare', 0.3300430488954556)\n",
      "('drug', 0.2706675696325066)\n",
      "('falls', 0.26907915234159374)\n",
      "('fall', 0.26505528530125133)\n",
      "('decision', 0.26431570721182124)\n",
      "('medical', 0.24409217648024004)\n",
      "\n",
      "Topic 6:\n",
      "('writing', 1.8311152149594385)\n",
      "('assessment', 1.0627701569796357)\n",
      "('teacher', 0.8383504531726808)\n",
      "('student', 0.7168616573742477)\n",
      "('text', 0.6617401983293126)\n",
      "('feedback', 0.6451442420277268)\n",
      "('analytic', 0.5870778410610354)\n",
      "('instruction', 0.5111807840627102)\n",
      "('formative', 0.4710907965568576)\n",
      "('automated', 0.4641276896700241)\n",
      "\n",
      "Topic 7:\n",
      "('brain', 1.1207661906094029)\n",
      "('neuroscience', 0.8219243697574871)\n",
      "('cognitive', 0.6352018175369181)\n",
      "('neural', 0.3893155277970943)\n",
      "('computational', 0.32199860125850255)\n",
      "('imaging', 0.22033792988315778)\n",
      "('neuroscientist', 0.16771938485555207)\n",
      "('motor', 0.16392750325923247)\n",
      "('explain', 0.15597172926271316)\n",
      "('resolution', 0.15279352461336507)\n",
      "\n",
      "Topic 8:\n",
      "('algorithm', 1.1078068442401985)\n",
      "('decision', 0.4198798721397983)\n",
      "('optimization', 0.41986322188643255)\n",
      "('approximation', 0.2921023961936018)\n",
      "('theory', 0.25813846080837066)\n",
      "('algorithmic', 0.24282518062290429)\n",
      "('machine_learning', 0.23026084847926173)\n",
      "('efficient', 0.22487788633436695)\n",
      "('stochastic', 0.21867211116007845)\n",
      "('computational', 0.20991296721367816)\n",
      "\n",
      "Topic 9:\n",
      "('language', 1.3517059672810834)\n",
      "('natural', 0.43087415090553915)\n",
      "('umr', 0.35654199744466086)\n",
      "('word', 0.3438770048554691)\n",
      "('representation', 0.3170390569987805)\n",
      "('meaning', 0.28248982706989534)\n",
      "('linguistic', 0.27940789487470535)\n",
      "('human', 0.25171321074126324)\n",
      "('processing', 0.21001937059769488)\n",
      "('speaker', 0.20245252316563359)\n",
      "\n",
      "Topic 10:\n",
      "('visual', 1.0750901331299356)\n",
      "('scene', 0.5832815589464246)\n",
      "('image', 0.5435824516868386)\n",
      "('object', 0.5152121923670966)\n",
      "('vision', 0.3294957366888013)\n",
      "('recognition', 0.2884883484964977)\n",
      "('shape', 0.2340221839259497)\n",
      "('task', 0.16595796946632435)\n",
      "('action', 0.16578612224658068)\n",
      "('world', 0.15252503736332476)\n",
      "\n",
      "Topic 11:\n",
      "('engineering', 0.7667890277124416)\n",
      "('institute', 0.4459261906636104)\n",
      "('advanced', 0.3549731654488005)\n",
      "('medicine', 0.3200100811746879)\n",
      "('reverse', 0.3016755610384498)\n",
      "('emerge', 0.27042690208752457)\n",
      "('brain', 0.26570535156180203)\n",
      "('science', 0.2646884605841094)\n",
      "('grand_challenges', 0.2627868079567834)\n",
      "('biomedical', 0.2508430882907619)\n",
      "\n",
      "Topic 12:\n",
      "('doctoral', 1.7601129954826162)\n",
      "('conference', 1.354594664738393)\n",
      "('consortium', 1.2243995521997961)\n",
      "('student', 0.7868014907064446)\n",
      "('international', 0.6024956767845998)\n",
      "('travel', 0.4914328224367471)\n",
      "('participation', 0.4571634590056878)\n",
      "('hold', 0.3752859911718063)\n",
      "('icap', 0.3675235451495761)\n",
      "('career', 0.36243724283676054)\n",
      "\n",
      "Topic 13:\n",
      "('workshop', 1.7716430990250953)\n",
      "('acl', 0.44541674750733673)\n",
      "('student', 0.39595380209781017)\n",
      "('linguistic', 0.38903643672977395)\n",
      "('author', 0.36382827893337355)\n",
      "('computational', 0.3235010025646236)\n",
      "('meeting', 0.3088222353839654)\n",
      "('main', 0.277584305737519)\n",
      "('conference', 0.272748576234133)\n",
      "('generation', 0.25723179798796064)\n",
      "\n",
      "Topic 14:\n",
      "('ai', 1.611662890821934)\n",
      "('eaai', 0.8269210471508682)\n",
      "('symposium', 0.7286892971157417)\n",
      "('aaai', 0.32875591357131023)\n",
      "('teaching', 0.3135955852809142)\n",
      "('teach', 0.26868318951064646)\n",
      "('education', 0.25242738738110165)\n",
      "('participant', 0.2514859835220961)\n",
      "('share', 0.24294877187219988)\n",
      "('educational', 0.24096773392471063)\n",
      "\n",
      "Topic 15:\n",
      "('protein', 1.1187871698000669)\n",
      "('drug', 0.6836143422978356)\n",
      "('molecule', 0.6792971518487093)\n",
      "('chemical', 0.6369938779556086)\n",
      "('property', 0.5462781382331505)\n",
      "('molecular', 0.39114406518675165)\n",
      "('chemistry', 0.32060021976418657)\n",
      "('reaction', 0.3066768576718011)\n",
      "('water', 0.2723405665327927)\n",
      "('energy', 0.2594447583626582)\n",
      "\n",
      "Topic 16:\n",
      "('computing', 1.0186967345722655)\n",
      "('architecture', 0.43411271506428223)\n",
      "('hardware', 0.3398037402432307)\n",
      "('memory', 0.3347701605491442)\n",
      "('device', 0.33354944136416176)\n",
      "('performance', 0.27146973561845855)\n",
      "('energy', 0.2647319725774783)\n",
      "('cpu', 0.213946586316215)\n",
      "('processing', 0.20928275658108242)\n",
      "('computer', 0.19663080719113368)\n",
      "\n",
      "Topic 17:\n",
      "('cancer', 1.0248063932694749)\n",
      "('breast', 0.745229436014658)\n",
      "('tumor', 0.2522693444102189)\n",
      "('clinical', 0.2411735826968536)\n",
      "('imaging', 0.23915194649332008)\n",
      "('tissue', 0.19511540729002205)\n",
      "('image', 0.18110972438895348)\n",
      "('patient', 0.17107274894683344)\n",
      "('genomic', 0.1580622056133383)\n",
      "('mammography', 0.14426935054305423)\n",
      "\n",
      "Topic 18:\n",
      "('game', 1.563743676248437)\n",
      "('agent', 0.9824913188984908)\n",
      "('player', 0.4381801456964029)\n",
      "('video_game', 0.2905656892117897)\n",
      "('theory', 0.2778490201272021)\n",
      "('hiv', 0.27585635044963785)\n",
      "('assembly', 0.2568867808820147)\n",
      "('self', 0.2512110603456106)\n",
      "('strategic', 0.24096637792372552)\n",
      "('decision', 0.22641237901503591)\n",
      "\n",
      "Topic 19:\n",
      "('human', 0.9665091643189484)\n",
      "('social', 0.7558804855686936)\n",
      "('machine', 0.41568331970391226)\n",
      "('computer', 0.34167044045122985)\n",
      "('people', 0.340365297136035)\n",
      "('individual', 0.3156329013748329)\n",
      "('interaction', 0.2991561052966915)\n",
      "('user', 0.27874310305723493)\n",
      "('learn', 0.2633806344786183)\n",
      "('collective_intelligence', 0.2512011278807987)\n",
      "\n",
      "Topic 20:\n",
      "('connectivity', 0.5204068616650389)\n",
      "('neural', 0.46174732311561645)\n",
      "('cortical', 0.4587968027905475)\n",
      "('neuron', 0.44502431385979446)\n",
      "('inactivation', 0.4396985177133086)\n",
      "('prediction', 0.3392577335424111)\n",
      "('sequence', 0.3233833053187122)\n",
      "('circuit', 0.31914913456437394)\n",
      "('calcium', 0.3184198850827593)\n",
      "('imaging', 0.23484936311419602)\n",
      "\n",
      "Topic 21:\n",
      "('trainee', 1.151249028779892)\n",
      "('bmi', 0.4629815352003059)\n",
      "('degree', 0.41141594443315577)\n",
      "('request', 0.367925779405453)\n",
      "('isp', 0.34723615140022945)\n",
      "('faculty', 0.3332111429181216)\n",
      "('informatic', 0.33171479272879245)\n",
      "('position', 0.2812488666282859)\n",
      "('neuroscience', 0.25439716707343146)\n",
      "('biomedical_informatics', 0.23234554002107796)\n",
      "\n",
      "Topic 22:\n",
      "('technology', 0.5474271802265576)\n",
      "('industry', 0.41396235897408995)\n",
      "('food', 0.317707794258377)\n",
      "('safety', 0.30443699371985844)\n",
      "('manufacturing', 0.25692410988159065)\n",
      "('smart', 0.22735444834912735)\n",
      "('security', 0.22643724344368465)\n",
      "('innovation', 0.2098969931285428)\n",
      "('university', 0.19682537440110476)\n",
      "('worker', 0.1839137925535925)\n",
      "\n",
      "Topic 23:\n",
      "('strain', 0.43042281803696686)\n",
      "('synthetic', 0.4277256164568417)\n",
      "('metabolic', 0.376537032932604)\n",
      "('productivity', 0.35435988290066633)\n",
      "('factory', 0.3048039092509543)\n",
      "('biology', 0.2979725055627577)\n",
      "('genetic', 0.2846621059154181)\n",
      "('cell', 0.23670365429925233)\n",
      "('microbial', 0.20341519553037235)\n",
      "('fermentation', 0.195285559770171)\n",
      "\n",
      "Topic 24:\n",
      "('c_elegans', 0.6421824665898482)\n",
      "('image', 0.3927200318523564)\n",
      "('screen', 0.34825074587035926)\n",
      "('infection', 0.2975974333092411)\n",
      "('throughput', 0.28230646857913416)\n",
      "('assay', 0.280962129713548)\n",
      "('metabolism', 0.2774504009726938)\n",
      "('microscopy', 0.22656393915446651)\n",
      "('genetic', 0.21908512420159235)\n",
      "('regulator', 0.18117825742612614)\n",
      "\n",
      "Topic 25:\n",
      "('participant', 0.5937414427747041)\n",
      "('conference', 0.48878503843046645)\n",
      "('hri', 0.4765322994970147)\n",
      "('workshop', 0.3079909111359032)\n",
      "('interaction', 0.2759171198417772)\n",
      "('panel', 0.2616002819375944)\n",
      "('poster_session', 0.24236256959288097)\n",
      "('human', 0.24070743386698165)\n",
      "('invite', 0.22335851295275982)\n",
      "('student', 0.21950104744437693)\n",
      "\n",
      "Topic 26:\n",
      "('search', 0.7025456492505454)\n",
      "('combinatorial', 0.6040892935782518)\n",
      "('symposium', 0.4712562136290985)\n",
      "('socs', 0.3038656182661641)\n",
      "('heuristic', 0.3013946017781379)\n",
      "('optimization', 0.24826260356355517)\n",
      "('computer', 0.24768505107297004)\n",
      "('attend', 0.22452900572611714)\n",
      "('meeting', 0.2173434977606946)\n",
      "('science', 0.18729890918250305)\n",
      "\n",
      "Topic 27:\n",
      "('disability', 0.6608519344977876)\n",
      "('construct', 0.3037475905332195)\n",
      "('indicator', 0.273575038816532)\n",
      "('read', 0.25336568670219695)\n",
      "('predict', 0.244186932015226)\n",
      "('functionally', 0.20135568163970483)\n",
      "('srcd', 0.20135568163970483)\n",
      "('dyslexia', 0.20135568163970483)\n",
      "('reading_comprehension', 0.19381753582817624)\n",
      "('reading', 0.18989860907416262)\n",
      "\n",
      "Topic 28:\n",
      "('narrative', 1.0033302640117647)\n",
      "('creativity', 0.23770831564472344)\n",
      "('character', 0.23226136580564927)\n",
      "('create', 0.18411864090102303)\n",
      "('film', 0.17303519393705308)\n",
      "('generation', 0.14705059017419456)\n",
      "('convey', 0.14580348800386078)\n",
      "('creative', 0.14067477870543432)\n",
      "('interactive', 0.13995941314069169)\n",
      "('theoretic', 0.13869269946042548)\n",
      "\n",
      "Topic 29:\n",
      "('logic', 0.7875305742404585)\n",
      "('solver', 0.603048219220293)\n",
      "('infrastructure', 0.4685125319768434)\n",
      "('formula', 0.26638728262517514)\n",
      "('solving', 0.2518165782881567)\n",
      "('piece', 0.16256407687214108)\n",
      "('currently', 0.11920980394997407)\n",
      "('competition', 0.1179016215743544)\n",
      "('verification', 0.11739683903060957)\n",
      "('logical', 0.10744142553148024)\n"
     ]
    }
   ],
   "source": [
    "print_topics(nmf_model, nmf_vectorizer, 10)"
   ]
  },
  {
   "cell_type": "code",
   "execution_count": 108,
   "metadata": {},
   "outputs": [],
   "source": [
    "# next step - look at documents containing topics like breast cancer (topic 17)\n",
    "\n",
    "b_cancer_docs = W[:, 17]"
   ]
  },
  {
   "cell_type": "code",
   "execution_count": 111,
   "metadata": {},
   "outputs": [
    {
     "data": {
      "text/plain": [
       "186"
      ]
     },
     "execution_count": 111,
     "metadata": {},
     "output_type": "execute_result"
    }
   ],
   "source": [
    "sum(b_cancer_docs > 0) "
   ]
  },
  {
   "cell_type": "code",
   "execution_count": 121,
   "metadata": {},
   "outputs": [],
   "source": [
    "max_score = max(b_cancer_docs)"
   ]
  },
  {
   "cell_type": "code",
   "execution_count": 115,
   "metadata": {},
   "outputs": [
    {
     "data": {
      "text/plain": [
       "array([0.14184447, 0.14186073, 0.        , 0.        , 0.        ,\n",
       "       0.00243191, 0.01463379, 0.        , 0.        , 0.        ,\n",
       "       0.        , 0.0077163 , 0.        , 0.        , 0.        ,\n",
       "       0.        , 0.        , 0.        , 0.        , 0.        ])"
      ]
     },
     "execution_count": 115,
     "metadata": {},
     "output_type": "execute_result"
    }
   ],
   "source": [
    "b_cancer_docs[0:20]"
   ]
  },
  {
   "cell_type": "code",
   "execution_count": 120,
   "metadata": {},
   "outputs": [
    {
     "name": "stdout",
     "output_type": "stream",
     "text": [
      "['literature', 'causal', 'statistical', 'inference', 'causal', 'channel', 'interest', 'net', 'direct', 'causal', 'block', 'variable', 'represent', 'net', 'useful', 'learn', 'way', 'causally', 'policy', 'purpose', 'evaluation', 'evident', 'importance', 'latest', 'theoretical', 'definition', 'identification', 'estimation', 'place', 'economics', 'introduce', 'net', 'economics', 'employ', 'familiar', 'econometric', 'language', 'ii', 'literature', 'causal', 'partial', 'point', 'identification', 'nonparametric_parametric', 'assignment', 'heterogeneous', 'iii', 'relevant', 'simulation', 'guide', 'future', 'apply', 'employ', 'framework', 'neyman', '1923', 'rubin', '1974', 'related', 'concept', 'principal', 'stratification', 'frangakis_rubin_2002', 'introduce', 'economics', 'concept', 'net', 'average', 'nate', 'average', 'mate', 'decompose', 'total', 'average', 'eat', 'related', 'concept', 'previously', 'introduce', 'robins', 'greenland', '1992', 'pearl', '2001', 'second', 'nonparametric', 'partial', 'identification', 'net', 'minimal', 'assumption', 'subsequently', 'present', 'set', 'assumption', 'parametric_nonparametric', 'point', 'identification', 'nate', 'nonparametric', 'insight', 'seminal', 'imbens', 'angrist', '1994', 'angrist', 'imbens', 'rubin', '1996', 'local', 'average', 'case', 'randomly_assign', 'selection', 'observable', 'selection', 'unobservable', 'case', 'consider', 'recent', 'literature', 'net', 'economics', 'methodology', 'substantive', 'empirical', 'employ', 'set', 'available', 'complement', 'monte_carlo_simulation', 'simulation', 'offer', 'insight', 'robustness', 'alternative', 'identification', 'assumption', 'clear', 'contribution', 'econometric', 'literature', 'causal_inference', 'linkage', 'econometric', 'statistic', 'epidemiology', 'artificial_intelligence', 'emphasize', 'estimation', 'causal', 'likely', 'economics', 'science', 'add', 'kit', 'apply', 'particularly', 'case', 'estimation', 'policymaking', 'labor', 'public', 'agricultural', 'health', 'economics', 'stress', 'inclusion', 'empirical', 'simulation', 'guidance', 'apply', 'implement', 'introduce', 'broader_impacts', 'teaching', 'graduate', 'course', 'economics', 'agricultural', 'economics', 'university', 'miami', 'assistant', 'select', 'coding', 'statistical', 'empirical', 'simulationswill', 'train', 'regard', 'ensure', 'come', 'underrepresented', 'anticipate', 'exist', 'diversity', 'principal', 'institution', 'broaden_participation_underrepresented', 'pis', 'junior', 'faculty', 'member', 'synergy', 'university', 'miami', 'particularly', 'economics', 'agricultural', 'economics', 'pis', 'member', 'department']\n"
     ]
    }
   ],
   "source": [
    "print(lim_docs.iloc[2])"
   ]
  },
  {
   "cell_type": "code",
   "execution_count": 123,
   "metadata": {},
   "outputs": [],
   "source": [
    "idx = np.where(b_cancer_docs == max_score)"
   ]
  },
  {
   "cell_type": "code",
   "execution_count": 124,
   "metadata": {},
   "outputs": [
    {
     "data": {
      "text/plain": [
       "(array([245]),)"
      ]
     },
     "execution_count": 124,
     "metadata": {},
     "output_type": "execute_result"
    }
   ],
   "source": [
    "idx"
   ]
  },
  {
   "cell_type": "code",
   "execution_count": 125,
   "metadata": {},
   "outputs": [
    {
     "data": {
      "text/plain": [
       "array([0.00108239, 0.        , 0.0053626 , 0.        , 0.        ,\n",
       "       0.        , 0.        , 0.        , 0.        , 0.        ,\n",
       "       0.        , 0.00339288, 0.        , 0.        , 0.        ,\n",
       "       0.46861872, 0.        , 0.32673669, 0.        , 0.        ])"
      ]
     },
     "execution_count": 125,
     "metadata": {},
     "output_type": "execute_result"
    }
   ],
   "source": [
    "b_cancer_docs[230:250]"
   ]
  },
  {
   "cell_type": "code",
   "execution_count": 130,
   "metadata": {},
   "outputs": [
    {
     "name": "stdout",
     "output_type": "stream",
     "text": [
      "['clinical', 'decision', 'individual', 'patient', 'society', 'makinggood', 'healthcare', 'decision', 'paramount', 'task', 'decisionsupport', 'utilize', 'clinical', 'feature', 'genomic', 'profile', 'breast', 'cancer', 'patient', 'toassist', 'physician', 'integrate', 'patient', 'diagnostic', 'subtype', 'tumor', 'stage', 'andgrade', 'age', 'comorbidity', 'therapeutic', 'patient', 'traditional', 'clinical', 'increasingly', 'available', 'electronic', 'unprecedentedlyabundant', 'genomic', 'available', 'advanced', 'sequencing', 'technology', 'generation', 'sequencing', 'patient', 'genomic', 'likely', 'available', 'patientsin', 'foreseeable_future', 'source', 'opportunity', 'newgeneration', 'clinical', 'decision', 'achieve', 'substantial', 'progress', 'currentlypossible', 'sheer', 'magnitude', 'variable', 'million', 'present', 'formidable', 'computational', 'modeling', 'challenge', 'integrate', 'heterogeneous', 'informationin', 'clinical', 'dataset', 'genomic', 'dataset', 'present', 'arduous', 'challenge', 'breast', 'cancer', 'commonest', 'cancer', 'woman', 'breast', 'cancer', 'subtype', 'beendefin', 'tumor', 'stage', 'predict', 'therapy', 'survival', 'albeit', 'imperfectly', 'forexample', 'her2', 'amplify', 'breast', 'cancer', 'subtype', 'poor_prognosis', 'therapy', 'antibody', 'her2', 'herceptin', 'vastly', 'survival', 'patient', 'herceptin', 'therapyof', 'patient', 'her2', 'amplify', 'tumor', 'respond', 'expensive', 'cardiactoxicity', 'patient', 'benefit', 'studies', 'thousand', 'gene', 'areassociate', 'subtype', 'prognosis', 'breast', 'cancer', 'allele', 'combination', 'usefully', 'guidethe', 'selection', 'amass', 'genomic', 'combineit', 'clinical', 'hold', 'promise', 'accurate', 'classification', 'choice', 'build', 'source', 'medicalarchival', 'systems', 'medical', 'lynn', 'sage', 'database', 'lynnsage', 'comprehensive', 'breast', 'northwestern_memorial_hospital', 'breast', 'cancer', 'set', 'cancer', 'genome', 'atlas', 'dream', 'breast', 'cancer', 'challenge', 'willbuild', 'previous', 'bayesian', 'network', 'learn', 'dimensional', 'dataset', 'multidisciplinary', 'team', 'track_record', 'nih', 'funding', 'publication', 'biomedicalinformatics', 'artificial_intelligence', 'cutting_edge', 'decision']\n"
     ]
    }
   ],
   "source": [
    "print(lim_docs.iloc[245]) # breast cancer topic with AI component"
   ]
  },
  {
   "cell_type": "code",
   "execution_count": 131,
   "metadata": {},
   "outputs": [
    {
     "data": {
      "text/plain": [
       "'Critical clinical activities involve decision making. For both individual patients and for society at large, makinggood healthcare decisions is a paramount task. The objective of this research is to develop a novel decisionsupport system that utilizes both the clinical features and the genomic profile of a breast cancer patient toassist the physician in integrating information about a specific patient (diagnostic subtype, tumor stage andgrade, age, comorbidities) to make therapeutic plans for the patient. Traditional clinical data are becoming increasingly available in electronic form. Unprecedentedlyabundant genomic data are available to researchers as the results of advanced sequencing technologies suchas next generation sequencing. Patient-specific genomic data are likely to become available for most patientsin the foreseeable future. These sources of data provide significant opportunities for developing newgeneration clinical decision support systems that can achieve substantial progress over what is currentlypossible. However, the sheer magnitude of the number of variables in these data (often in the millions)presents formidable computational and modeling challenges. Also, integrating the heterogeneous informationin multiple clinical datasets and genomic datasets presents an arduous challenge. Breast cancer is the commonest cancer among women. Various breast cancer subtypes have beendefined which, along with tumor stage, predict response to therapy and survival, albeit imperfectly. Forexample, HER2-amplified breast cancer is a subtype with poor prognosis, and therapy with an antibody toHER2 (Herceptin) has vastly improved the survival of such patients. Although Herceptin is used in the therapyof all patients with HER2-amplified tumors, only some respond. Also, it is expensive and can cause cardiactoxicity. So, it is important to give it only to patients benefiting from it. Studies show thousands of genes areassociated with subtype and prognosis of breast cancer, and particular allele combinations may usefully guidethe selection of effective treatment. The proposed system will amass all this genomic information and combineit with clinical information and therefore holds promise to provide accurate classification and treatment choices. We will build the knowledge base of the proposed system using the following sources: 1) The MedicalArchival Systems at the University of Pittsburgh Medical Center; 2) The Lynn Sage Database used by the LynnSage Comprehensive Breast Center at Northwestern Memorial Hospital; 3) The breast cancer data sets fromThe Cancer Genome Atlas project; and 4) Dream 7 Breast Cancer Challenge Data. The proposed system willbuild on previous results of the investigators in using Bayesian Network to learn from high-dimensional datasets. Our multidisciplinary team has a track record, including NIH funding, publications in biomedicalinformatics and artificial intelligence, and experience developing cutting-edge decision support systems.'"
      ]
     },
     "execution_count": 131,
     "metadata": {},
     "output_type": "execute_result"
    }
   ],
   "source": [
    "ai_corpus[\"ABSTRACT\"].iloc[245]"
   ]
  },
  {
   "cell_type": "code",
   "execution_count": null,
   "metadata": {},
   "outputs": [],
   "source": []
  },
  {
   "cell_type": "code",
   "execution_count": null,
   "metadata": {},
   "outputs": [],
   "source": []
  },
  {
   "cell_type": "code",
   "execution_count": null,
   "metadata": {},
   "outputs": [],
   "source": []
  },
  {
   "cell_type": "code",
   "execution_count": null,
   "metadata": {},
   "outputs": [],
   "source": []
  },
  {
   "cell_type": "code",
   "execution_count": 238,
   "metadata": {},
   "outputs": [],
   "source": [
    "# TRY TOPIC MODELING WITH LDA\n",
    "\n",
    "# create document-term matrix\n",
    "\n",
    "lda_vectorizer = CountVectorizer(max_df=1.0, min_df=3, lowercase=True)\n",
    "lda_dtm = lda_vectorizer.fit_transform(text)"
   ]
  },
  {
   "cell_type": "code",
   "execution_count": 239,
   "metadata": {},
   "outputs": [],
   "source": [
    "# create model\n",
    "\n",
    "num_topics = 30\n",
    "lda_model = LatentDirichletAllocation(n_components=num_topics, doc_topic_prior = 1/num_topics, \n",
    "                                      topic_word_prior=0.1, n_jobs=39, random_state = 0)\n",
    "doc_top_dist = lda_model.fit_transform(lda_dtm)\n",
    "top_term_dist = lda_model.components_"
   ]
  },
  {
   "cell_type": "code",
   "execution_count": 240,
   "metadata": {
    "collapsed": true,
    "jupyter": {
     "outputs_hidden": true
    }
   },
   "outputs": [
    {
     "name": "stdout",
     "output_type": "stream",
     "text": [
      "\n",
      "Topic 0:\n",
      "('protein', 225.55502749264147)\n",
      "('receptor', 183.95759402950594)\n",
      "('cell', 172.4504639973329)\n",
      "('bind', 108.84685928736633)\n",
      "('structural', 83.23407993256878)\n",
      "('virus', 81.06300054201091)\n",
      "('viral', 75.5561411680632)\n",
      "('interaction', 68.26001146683492)\n",
      "('human', 67.85457954982031)\n",
      "('host', 64.82284755171038)\n",
      "\n",
      "Topic 1:\n",
      "('subset', 81.29454728313978)\n",
      "('cd4', 66.23840025065098)\n",
      "('memory', 62.37910850799191)\n",
      "('effector', 40.5848650803486)\n",
      "('viral', 40.11634209137843)\n",
      "('cell', 36.6079502522241)\n",
      "('rna', 36.412992443476384)\n",
      "('orf', 35.0999999999997)\n",
      "('protection', 33.610323276130394)\n",
      "('protein', 29.212279854306338)\n",
      "\n",
      "Topic 2:\n",
      "('cell', 202.03669046303705)\n",
      "('death', 163.99491597475762)\n",
      "('protein', 84.11074125989704)\n",
      "('human', 76.15368948404043)\n",
      "('receptor', 61.47717954877514)\n",
      "('cycle', 58.31210018295787)\n",
      "('autophagy', 45.205793172633825)\n",
      "('cellular', 39.855071437383906)\n",
      "('virus', 39.49494201595987)\n",
      "('play', 34.583390658500534)\n",
      "\n",
      "Topic 3:\n",
      "('virus', 503.9476289736178)\n",
      "('viral', 325.2321535714292)\n",
      "('host', 286.15035135611254)\n",
      "('protein', 256.0762166468321)\n",
      "('rna', 248.50619917303135)\n",
      "('replication', 245.83348386659708)\n",
      "('coronavirus', 192.01133936013733)\n",
      "('cell', 191.60339705724633)\n",
      "('gene', 152.11975127500102)\n",
      "('inhibitor', 145.26787553860322)\n",
      "\n",
      "Topic 4:\n",
      "('hcv', 936.1753590840242)\n",
      "('hiv', 632.951690355523)\n",
      "('infection', 134.9779998086495)\n",
      "('patient', 129.20551468069908)\n",
      "('care', 101.4077745557858)\n",
      "('infect', 89.42085859532881)\n",
      "('drug', 87.35339680209223)\n",
      "('testing', 83.95306041199797)\n",
      "('therapy', 67.12313233292302)\n",
      "('pwid', 57.09998924511843)\n",
      "\n",
      "Topic 5:\n",
      "('macrophage', 31.248062120572182)\n",
      "('autophagy', 25.548084297365087)\n",
      "('lymph_node', 24.57677967487654)\n",
      "('mhc', 22.256418456312527)\n",
      "('inflammasome', 18.38049756732289)\n",
      "('allele', 13.797361678592972)\n",
      "('dpp4', 12.611532939763322)\n",
      "('stress', 12.381605657078323)\n",
      "('lymphocyte', 12.378169577119507)\n",
      "('ko', 11.581209770269776)\n",
      "\n",
      "Topic 6:\n",
      "('cell', 934.7630243171636)\n",
      "('kshv', 644.071509136028)\n",
      "('ebv', 249.03681019003906)\n",
      "('infection', 206.40151230095978)\n",
      "('tumor', 204.29310230359386)\n",
      "('ks', 164.44968704007013)\n",
      "('gene', 157.9034254506393)\n",
      "('patient', 137.32721670022917)\n",
      "('latency', 119.06444569548658)\n",
      "('infect', 118.52913997672619)\n",
      "\n",
      "Topic 7:\n",
      "('infection', 37.96606498605185)\n",
      "('hiv', 33.76821571557734)\n",
      "('ebv', 31.115520854869917)\n",
      "('ctl', 28.45277437853249)\n",
      "('blood', 24.656756917921147)\n",
      "('lymphoma', 22.28779492866996)\n",
      "('aids', 22.26071367147582)\n",
      "('cancer', 20.803584883813166)\n",
      "('inflammation', 20.214829806497576)\n",
      "('cell', 19.58788170362728)\n",
      "\n",
      "Topic 8:\n",
      "('patient', 54.54788106866963)\n",
      "('ebv', 44.73114870784985)\n",
      "('therapy', 41.96609261330226)\n",
      "('ribosome', 39.766882924657075)\n",
      "('npc', 34.712694079240485)\n",
      "('hiv', 34.42578022429774)\n",
      "('kshv', 25.76576034198771)\n",
      "('cell', 24.210821678231724)\n",
      "('viral', 20.1858803027162)\n",
      "('combine', 18.58042345210228)\n",
      "\n",
      "Topic 9:\n",
      "('dna', 49.092469057059134)\n",
      "('molecule', 36.05519013665967)\n",
      "('interaction', 28.521474390341215)\n",
      "('cnt', 25.099998160903862)\n",
      "('drug', 24.451244905273363)\n",
      "('marker', 17.25102149760146)\n",
      "('molecular', 16.403091079555782)\n",
      "('neurocognitive', 13.579437937030622)\n",
      "('biology', 13.45022424178504)\n",
      "('pharmacokinetic', 13.09999362818956)\n",
      "\n",
      "Topic 10:\n",
      "('virus', 281.5459801216521)\n",
      "('vector', 205.3719205987978)\n",
      "('vaccine', 159.45759715332724)\n",
      "('infection', 137.34190539828347)\n",
      "('ndv', 127.93951750647453)\n",
      "('hpiv3', 106.09999824759721)\n",
      "('dose', 96.94269498581012)\n",
      "('express', 91.02185874747664)\n",
      "('respiratory', 85.16365186595259)\n",
      "('protein', 83.9930629823828)\n",
      "\n",
      "Topic 11:\n",
      "('influenza', 147.31641992929428)\n",
      "('patient', 120.39671583081108)\n",
      "('clinical', 98.13476379246524)\n",
      "('emerge', 60.77197942644498)\n",
      "('infection', 55.714783774117606)\n",
      "('protocol', 54.53067060905437)\n",
      "('care', 40.94011646530207)\n",
      "('infectious', 37.581736532400356)\n",
      "('dose', 37.5082034001803)\n",
      "('virus', 35.96013982812435)\n",
      "\n",
      "Topic 12:\n",
      "('virus', 153.62964944511606)\n",
      "('human', 114.47456736113963)\n",
      "('infectious', 108.83793302623653)\n",
      "('health', 62.14013558425235)\n",
      "('epidemiology', 58.83806564875385)\n",
      "('public', 58.45553037079896)\n",
      "('pathogen', 58.141758887593724)\n",
      "('emerge', 57.96085605948189)\n",
      "('respiratory', 56.86762371306408)\n",
      "('infection', 56.31796475597069)\n",
      "\n",
      "Topic 13:\n",
      "('human', 53.35607439223278)\n",
      "('inactivation', 51.95940358475925)\n",
      "('plasma', 51.34206354501669)\n",
      "('virus', 51.221905871453465)\n",
      "('cfi', 45.099999701806894)\n",
      "('technology', 38.71534007295505)\n",
      "('bacteria', 37.76394849442186)\n",
      "('pathogen', 34.90475793724826)\n",
      "('blood', 29.9358126139684)\n",
      "('unit', 29.779111494776974)\n",
      "\n",
      "Topic 14:\n",
      "('cell', 372.6554349855349)\n",
      "('virus', 300.92800316166296)\n",
      "('mouse', 274.4906554047676)\n",
      "('sars_cov', 230.4177664236629)\n",
      "('infection', 197.66947006316775)\n",
      "('protein', 187.08252776826131)\n",
      "('human', 156.96552151397535)\n",
      "('lung', 153.20635617159826)\n",
      "('sar_cov', 137.91357387274857)\n",
      "('sars', 137.08053338965914)\n",
      "\n",
      "Topic 15:\n",
      "('gene', 237.3553797841826)\n",
      "('genetic', 119.5861349439917)\n",
      "('npc', 112.96660802507539)\n",
      "('individual', 76.39456684063575)\n",
      "('population', 68.57990551455192)\n",
      "('ebv', 64.13629588534057)\n",
      "('level', 63.53760362045235)\n",
      "('cell', 61.82857778036647)\n",
      "('immune', 57.99535564937193)\n",
      "('inference', 57.09998399875331)\n",
      "\n",
      "Topic 16:\n",
      "('hiv', 315.8619665259027)\n",
      "('hsv', 182.24248900403467)\n",
      "('health', 141.7827974379656)\n",
      "('infection', 116.0088514380458)\n",
      "('spread', 80.2945145425962)\n",
      "('individual', 77.77331587568254)\n",
      "('art', 71.57568484876215)\n",
      "('neighborhood', 66.09996601859086)\n",
      "('public', 58.81363331552422)\n",
      "('influence', 53.536044672485716)\n",
      "\n",
      "Topic 17:\n",
      "('cell', 15.278114860965227)\n",
      "('dna', 14.230090464312385)\n",
      "('mir', 11.711383186000122)\n",
      "('coronaviruse', 10.376286892084652)\n",
      "('gs_5734', 9.735086425040814)\n",
      "('human', 9.567253566693791)\n",
      "('stage', 9.542991336591268)\n",
      "('fracture', 9.34752412787078)\n",
      "('virus', 9.271969074533509)\n",
      "('infect', 8.78741304706353)\n",
      "\n",
      "Topic 18:\n",
      "('immune', 343.6097573757179)\n",
      "('antibiotic', 162.10065477411436)\n",
      "('gene', 132.9284518710922)\n",
      "('host', 132.27881107032914)\n",
      "('immunity', 114.35949761792645)\n",
      "('virus', 101.27540891709802)\n",
      "('transmission', 89.90178372669166)\n",
      "('vaccination', 83.13574563361934)\n",
      "('protective', 83.02891297545558)\n",
      "('polygenic', 80.09999999999806)\n",
      "\n",
      "Topic 19:\n",
      "('vaccine', 212.13853388844507)\n",
      "('antibody', 183.14176871524614)\n",
      "('mers_cov', 177.3943510644298)\n",
      "('infection', 154.24324638952956)\n",
      "('human', 138.604975872332)\n",
      "('virus', 125.26640753973862)\n",
      "('cell', 111.07428269505291)\n",
      "('animal', 105.31857413541228)\n",
      "('viral', 76.92133426775077)\n",
      "('efficacy', 76.24320024843422)\n",
      "\n",
      "Topic 20:\n",
      "('ace2', 74.64692958681516)\n",
      "('emerge', 55.65097439618435)\n",
      "('virus', 51.99525711664124)\n",
      "('human', 48.52380729596921)\n",
      "('fusion', 44.23932249436229)\n",
      "('peptide', 41.21774842846524)\n",
      "('infection', 36.40422202073073)\n",
      "('epithelial', 36.12178324690375)\n",
      "('protein', 35.39467814022834)\n",
      "('sars_cov', 35.2646229591111)\n",
      "\n",
      "Topic 21:\n",
      "('vaccine', 188.9054227002202)\n",
      "('mouse', 133.75458246858923)\n",
      "('protein', 110.31113831780557)\n",
      "('cell', 67.07456911062577)\n",
      "('virus', 66.002068214547)\n",
      "('sars_cov', 64.54526990855365)\n",
      "('infect', 56.588147308767866)\n",
      "('infection', 55.1059901032736)\n",
      "('sar_cov', 53.69954355338436)\n",
      "('rbd', 50.16731090890117)\n",
      "\n",
      "Topic 22:\n",
      "('hla', 94.76255567810914)\n",
      "('cell', 92.00596645621278)\n",
      "('antigen', 48.3786975638055)\n",
      "('cytc', 48.09999999999929)\n",
      "('molecule', 45.72369785803854)\n",
      "('ebv', 41.82026741406932)\n",
      "('trophoblast', 40.0999999999993)\n",
      "('test', 34.3828288128813)\n",
      "('patient', 33.26100258863145)\n",
      "('phosphorylation', 29.45951867508582)\n",
      "\n",
      "Topic 23:\n",
      "('influenza', 95.28592397287079)\n",
      "('lana', 72.064505714747)\n",
      "('c_mybp_c', 50.09999999999928)\n",
      "('interaction', 43.824858986166184)\n",
      "('molecule', 42.587728420167856)\n",
      "('structural', 34.87695528651681)\n",
      "('protein', 33.19628529201318)\n",
      "('phosphorylation', 30.453933448601486)\n",
      "('repression', 24.099965112891258)\n",
      "('cardiac', 20.44293899747181)\n",
      "\n",
      "Topic 24:\n",
      "('hrv', 50.09999999999904)\n",
      "('virus', 40.933177344196956)\n",
      "('respiratory', 32.4464878641917)\n",
      "('assay', 29.073062821791673)\n",
      "('infection', 26.663916212356988)\n",
      "('malawi', 25.09998802599216)\n",
      "('pla2g2d', 24.099998554495706)\n",
      "('viral', 23.111823058109575)\n",
      "('asthma', 23.09760740712724)\n",
      "('population', 23.092783119638568)\n",
      "\n",
      "Topic 25:\n",
      "('rna', 196.59215346629395)\n",
      "('virus', 81.91558681690859)\n",
      "('fidelity', 77.0408929802264)\n",
      "('molecule', 58.05456406158865)\n",
      "('cov', 55.63374376091291)\n",
      "('exon', 52.099990699525385)\n",
      "('genome', 50.72242428813553)\n",
      "('pdk1', 48.099999999998886)\n",
      "('protein', 40.90658911188318)\n",
      "('vivo', 38.96468485936381)\n",
      "\n",
      "Topic 26:\n",
      "('ks', 263.2347563169589)\n",
      "('art', 125.54703358141448)\n",
      "('patient', 67.44834059092155)\n",
      "('hiv', 54.60260816366088)\n",
      "('clinical', 44.78909910409095)\n",
      "('survival', 29.606473220194474)\n",
      "('africa', 28.53622453605498)\n",
      "('cancer', 28.462595269547066)\n",
      "('antiretroviral', 25.904922270545423)\n",
      "('care', 24.894611560269013)\n",
      "\n",
      "Topic 27:\n",
      "('cell', 219.8952930931712)\n",
      "('clinical', 61.15605808536564)\n",
      "('cd8_t', 60.944181092314544)\n",
      "('splicing', 57.099990858616216)\n",
      "('hsv', 55.42689654307695)\n",
      "('hiv', 52.90090117682046)\n",
      "('cancer', 51.39939835147358)\n",
      "('vaccination', 50.74765888690318)\n",
      "('tumor', 49.075981432919995)\n",
      "('vector', 45.18522355150008)\n",
      "\n",
      "Topic 28:\n",
      "('protein', 125.91509064143841)\n",
      "('virus', 117.5683409093777)\n",
      "('cell', 91.89723430510497)\n",
      "('infection', 84.39740344190295)\n",
      "('mouse', 75.6367047918581)\n",
      "('inhibitor', 65.60368950914612)\n",
      "('gene', 59.85410278029665)\n",
      "('mhv', 54.09227060111421)\n",
      "('viral', 54.08003211512107)\n",
      "('human', 52.4846760214769)\n",
      "\n",
      "Topic 29:\n",
      "('lab', 174.89846594617197)\n",
      "('dna', 88.13822719069428)\n",
      "('ebv', 74.89085870605918)\n",
      "('testing', 51.10952784452906)\n",
      "('cell', 43.208660960539106)\n",
      "('assay', 42.27223819058267)\n",
      "('laboratory', 41.0959338536628)\n",
      "('blood', 39.73378493078292)\n",
      "('individual', 39.16535523199175)\n",
      "('test', 37.06729556172424)\n"
     ]
    }
   ],
   "source": [
    "print_topics(lda_model, lda_vectorizer, 10)"
   ]
  },
  {
   "cell_type": "code",
   "execution_count": null,
   "metadata": {},
   "outputs": [],
   "source": []
  }
 ],
 "metadata": {
  "kernelspec": {
   "display_name": "Python 3",
   "language": "python",
   "name": "python3"
  },
  "language_info": {
   "codemirror_mode": {
    "name": "ipython",
    "version": 3
   },
   "file_extension": ".py",
   "mimetype": "text/x-python",
   "name": "python",
   "nbconvert_exporter": "python",
   "pygments_lexer": "ipython3",
   "version": "3.7.4"
  }
 },
 "nbformat": 4,
 "nbformat_minor": 4
}
