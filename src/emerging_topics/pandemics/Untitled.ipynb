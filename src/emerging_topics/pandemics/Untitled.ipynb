{
 "cells": [
  {
   "cell_type": "markdown",
   "metadata": {},
   "source": [
    "Liz Analysis"
   ]
  },
  {
   "cell_type": "code",
   "execution_count": 1,
   "metadata": {},
   "outputs": [],
   "source": [
    "import pickle\n",
    "with open('../../data/final/processed_dataset_stanford_lemma.pkl', 'rb') as f:\n",
    "    data = pickle.load(f)"
   ]
  },
  {
   "cell_type": "code",
   "execution_count": 4,
   "metadata": {},
   "outputs": [
    {
     "name": "stdout",
     "output_type": "stream",
     "text": [
      "0         This is a project to explore Game-based, Metap...\n",
      "1         Institution: Franklin Institute Science Museum...\n",
      "2         Through programs (including small group conver...\n",
      "3         In partnership with the American Chemical Soci...\n",
      "4         Amphibian populations around the world are exp...\n",
      "                                ...                        \n",
      "543428    The Title IV-E Prevention Services Clearinghou...\n",
      "543429    This mixed-methods study seeks to deepen our u...\n",
      "543430    The purpose of this project is to examine the ...\n",
      "543431    The 2014 Child Care and Development Block Gran...\n",
      "543432    The goal of this study is to understand the us...\n",
      "Name: ABSTRACT, Length: 543433, dtype: object\n"
     ]
    }
   ],
   "source": [
    "print(data[\"ABSTRACT\"])"
   ]
  },
  {
   "cell_type": "code",
   "execution_count": null,
   "metadata": {},
   "outputs": [],
   "source": []
  }
 ],
 "metadata": {
  "kernelspec": {
   "display_name": "Python 3",
   "language": "python",
   "name": "python3"
  },
  "language_info": {
   "codemirror_mode": {
    "name": "ipython",
    "version": 3
   },
   "file_extension": ".py",
   "mimetype": "text/x-python",
   "name": "python",
   "nbconvert_exporter": "python",
   "pygments_lexer": "ipython3",
   "version": "3.7.4"
  }
 },
 "nbformat": 4,
 "nbformat_minor": 4
}
