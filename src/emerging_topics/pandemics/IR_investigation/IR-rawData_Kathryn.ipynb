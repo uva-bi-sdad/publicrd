{
 "cells": [
  {
   "cell_type": "markdown",
   "metadata": {},
   "source": [
    "# Information Retrieval - Pandemic Investigation  \n",
    "This notebook retrieves abstracts relevant to pandemics and then uses topic modeling to analyze the chosen abstracts.  Three info retrieval techniques are used: Literal Term Matching, TF-IDF, and Latent Semantic Indexing.  These are linear algebra techniques.  \n",
    "We use the Scikit-Learn library."
   ]
  },
  {
   "cell_type": "code",
   "execution_count": 1,
   "metadata": {},
   "outputs": [],
   "source": [
    "import pandas as pd\n",
    "import numpy as np\n",
    "import pickle\n",
    "import matplotlib.pyplot as plt\n",
    "import gensim\n",
    "import time\n",
    "\n",
    "from sklearn.decomposition import NMF, TruncatedSVD, LatentDirichletAllocation\n",
    "from sklearn.feature_extraction.text import CountVectorizer\n",
    "from sklearn.feature_extraction.text import TfidfVectorizer\n",
    "from sklearn.metrics import pairwise_distances\n",
    "\n",
    "#from gensim.models.coherencemodel import CoherenceModel\n",
    "\n",
    "import TextCleaning"
   ]
  },
  {
   "cell_type": "code",
   "execution_count": 2,
   "metadata": {},
   "outputs": [
    {
     "name": "stdout",
     "output_type": "stream",
     "text": [
      "3 nulls in  ABSTRACT . These rows removed.\n",
      "11 duplicate abstracts removed\n",
      "0 project ID duplicates - not removed\n"
     ]
    }
   ],
   "source": [
    "# pull in raw abstracts\n",
    "\n",
    "raw_df=pd.read_csv('../../data/original/raw_abstracts.csv',engine='python')\n",
    "\n",
    "# remove null abstracts and duplicates\n",
    "\n",
    "df = TextCleaning.remove_nulls(raw_df, \"ABSTRACT\")\n",
    "df = TextCleaning.remove_duplicates(df)\n",
    "\n",
    "df.reset_index(inplace = True)\n",
    "df.rename(columns={'index':'original index'}, inplace=True)"
   ]
  },
  {
   "cell_type": "code",
   "execution_count": 3,
   "metadata": {},
   "outputs": [
    {
     "data": {
      "text/html": [
       "<div>\n",
       "<style scoped>\n",
       "    .dataframe tbody tr th:only-of-type {\n",
       "        vertical-align: middle;\n",
       "    }\n",
       "\n",
       "    .dataframe tbody tr th {\n",
       "        vertical-align: top;\n",
       "    }\n",
       "\n",
       "    .dataframe thead th {\n",
       "        text-align: right;\n",
       "    }\n",
       "</style>\n",
       "<table border=\"1\" class=\"dataframe\">\n",
       "  <thead>\n",
       "    <tr style=\"text-align: right;\">\n",
       "      <th></th>\n",
       "      <th>original index</th>\n",
       "      <th>PROJECT_ID</th>\n",
       "      <th>ABSTRACT</th>\n",
       "      <th>FY</th>\n",
       "      <th>FIRST_CHAR</th>\n",
       "      <th>LAST_CHAR</th>\n",
       "      <th>DEPARTMENT</th>\n",
       "      <th>AGENCY</th>\n",
       "      <th>IC_CENTER</th>\n",
       "      <th>PROJECT_NUMBER</th>\n",
       "      <th>PROJECT_TITLE</th>\n",
       "      <th>PROJECT_TERMS</th>\n",
       "      <th>CONTACT_PI_PROJECT_LEADER</th>\n",
       "      <th>OTHER_PIS</th>\n",
       "      <th>ORGANIZATION_NAME</th>\n",
       "      <th>CFDA_CODE</th>\n",
       "      <th>FY_TOTAL_COST</th>\n",
       "    </tr>\n",
       "  </thead>\n",
       "  <tbody>\n",
       "    <tr>\n",
       "      <th>0</th>\n",
       "      <td>0</td>\n",
       "      <td>89996</td>\n",
       "      <td>This is a project to explore Game-based, Metap...</td>\n",
       "      <td>2008</td>\n",
       "      <td>This is a project to explore Game-based, Metap...</td>\n",
       "      <td>.</td>\n",
       "      <td>NSF</td>\n",
       "      <td>NSF</td>\n",
       "      <td>NaN</td>\n",
       "      <td>0814512</td>\n",
       "      <td>RUI: CYGAMES: CYBER-ENABLED TEACHING AND LEARN...</td>\n",
       "      <td>Achievement; analog; base; Cognitive Science; ...</td>\n",
       "      <td>REESE, DEBBIE D</td>\n",
       "      <td>CARTER, BEVERLY; WOOD, CHARLES; HITT, BEN</td>\n",
       "      <td>WHEELING JESUIT UNIVERSITY</td>\n",
       "      <td>47.076</td>\n",
       "      <td>1999467.0</td>\n",
       "    </tr>\n",
       "    <tr>\n",
       "      <th>1</th>\n",
       "      <td>1</td>\n",
       "      <td>89997</td>\n",
       "      <td>Institution: Franklin Institute Science Museum...</td>\n",
       "      <td>2008</td>\n",
       "      <td>Institution: Franklin Institute Science Museum...</td>\n",
       "      <td>.</td>\n",
       "      <td>NSF</td>\n",
       "      <td>NSF</td>\n",
       "      <td>NaN</td>\n",
       "      <td>0741659</td>\n",
       "      <td>ARIEL - AUGMENTED REALITY FOR INTERPRETIVE AND...</td>\n",
       "      <td>Active Learning; Child; Computer software; des...</td>\n",
       "      <td>SNYDER, STEVEN</td>\n",
       "      <td>ELINICH, KAREN; YOON, SUSAN</td>\n",
       "      <td>FRANKLIN INSTITUTE</td>\n",
       "      <td>47.076</td>\n",
       "      <td>1799699.0</td>\n",
       "    </tr>\n",
       "    <tr>\n",
       "      <th>2</th>\n",
       "      <td>2</td>\n",
       "      <td>89998</td>\n",
       "      <td>Through programs (including small group conver...</td>\n",
       "      <td>2008</td>\n",
       "      <td>Through programs (including small group conver...</td>\n",
       "      <td>.</td>\n",
       "      <td>NSF</td>\n",
       "      <td>NSF</td>\n",
       "      <td>NaN</td>\n",
       "      <td>0813522</td>\n",
       "      <td>BRIGHTER FUTURES: PUBLIC DELIBERATION ABOUT TH...</td>\n",
       "      <td>Address; Age; Birth; Brain; Caregivers; Child;...</td>\n",
       "      <td>FINK, LAURIE KLEINBAUM</td>\n",
       "      <td>CADIGAN, KAREN; ELLENBOGEN, KIRSTEN</td>\n",
       "      <td>SCIENCE MUSEUM OF MINNESOTA</td>\n",
       "      <td>47.076</td>\n",
       "      <td>1505858.0</td>\n",
       "    </tr>\n",
       "    <tr>\n",
       "      <th>3</th>\n",
       "      <td>3</td>\n",
       "      <td>89999</td>\n",
       "      <td>In partnership with the American Chemical Soci...</td>\n",
       "      <td>2008</td>\n",
       "      <td>In partnership with the American Chemical Soci...</td>\n",
       "      <td>.</td>\n",
       "      <td>NSF</td>\n",
       "      <td>NSF</td>\n",
       "      <td>NaN</td>\n",
       "      <td>0838627</td>\n",
       "      <td>FOSTERING US-INTERNATIONAL COLLABORATIVE PARTN...</td>\n",
       "      <td>Advanced Development; American; Chemicals; Che...</td>\n",
       "      <td>JOST, JOHN W</td>\n",
       "      <td>MILLER, BRADLEY; BOWMAN, KATHERINE</td>\n",
       "      <td>INTERNATIONAL UNION OF PURE AND APPLIED CHEMISTRY</td>\n",
       "      <td>47.049</td>\n",
       "      <td>51000.0</td>\n",
       "    </tr>\n",
       "    <tr>\n",
       "      <th>4</th>\n",
       "      <td>4</td>\n",
       "      <td>90000</td>\n",
       "      <td>Amphibian populations around the world are exp...</td>\n",
       "      <td>2008</td>\n",
       "      <td>Amphibian populations around the world are exp...</td>\n",
       "      <td>.</td>\n",
       "      <td>NSF</td>\n",
       "      <td>NSF</td>\n",
       "      <td>NaN</td>\n",
       "      <td>0815315</td>\n",
       "      <td>COLLABORATIVE RESEARCH: EVOLUTION OF AMPHIBIAN...</td>\n",
       "      <td>Amphibia; Central America; Communicable Diseas...</td>\n",
       "      <td>ZAMUDIO, KELLY R</td>\n",
       "      <td>NaN</td>\n",
       "      <td>CORNELL UNIVERSITY ITHACA</td>\n",
       "      <td>47.074</td>\n",
       "      <td>370996.0</td>\n",
       "    </tr>\n",
       "  </tbody>\n",
       "</table>\n",
       "</div>"
      ],
      "text/plain": [
       "   original index  PROJECT_ID  \\\n",
       "0               0       89996   \n",
       "1               1       89997   \n",
       "2               2       89998   \n",
       "3               3       89999   \n",
       "4               4       90000   \n",
       "\n",
       "                                            ABSTRACT    FY  \\\n",
       "0  This is a project to explore Game-based, Metap...  2008   \n",
       "1  Institution: Franklin Institute Science Museum...  2008   \n",
       "2  Through programs (including small group conver...  2008   \n",
       "3  In partnership with the American Chemical Soci...  2008   \n",
       "4  Amphibian populations around the world are exp...  2008   \n",
       "\n",
       "                                          FIRST_CHAR LAST_CHAR DEPARTMENT  \\\n",
       "0  This is a project to explore Game-based, Metap...         .        NSF   \n",
       "1  Institution: Franklin Institute Science Museum...         .        NSF   \n",
       "2  Through programs (including small group conver...         .        NSF   \n",
       "3  In partnership with the American Chemical Soci...         .        NSF   \n",
       "4  Amphibian populations around the world are exp...         .        NSF   \n",
       "\n",
       "  AGENCY IC_CENTER PROJECT_NUMBER  \\\n",
       "0    NSF       NaN        0814512   \n",
       "1    NSF       NaN        0741659   \n",
       "2    NSF       NaN        0813522   \n",
       "3    NSF       NaN        0838627   \n",
       "4    NSF       NaN        0815315   \n",
       "\n",
       "                                       PROJECT_TITLE  \\\n",
       "0  RUI: CYGAMES: CYBER-ENABLED TEACHING AND LEARN...   \n",
       "1  ARIEL - AUGMENTED REALITY FOR INTERPRETIVE AND...   \n",
       "2  BRIGHTER FUTURES: PUBLIC DELIBERATION ABOUT TH...   \n",
       "3  FOSTERING US-INTERNATIONAL COLLABORATIVE PARTN...   \n",
       "4  COLLABORATIVE RESEARCH: EVOLUTION OF AMPHIBIAN...   \n",
       "\n",
       "                                       PROJECT_TERMS  \\\n",
       "0  Achievement; analog; base; Cognitive Science; ...   \n",
       "1  Active Learning; Child; Computer software; des...   \n",
       "2  Address; Age; Birth; Brain; Caregivers; Child;...   \n",
       "3  Advanced Development; American; Chemicals; Che...   \n",
       "4  Amphibia; Central America; Communicable Diseas...   \n",
       "\n",
       "  CONTACT_PI_PROJECT_LEADER                                  OTHER_PIS  \\\n",
       "0           REESE, DEBBIE D  CARTER, BEVERLY; WOOD, CHARLES; HITT, BEN   \n",
       "1            SNYDER, STEVEN                ELINICH, KAREN; YOON, SUSAN   \n",
       "2    FINK, LAURIE KLEINBAUM        CADIGAN, KAREN; ELLENBOGEN, KIRSTEN   \n",
       "3              JOST, JOHN W         MILLER, BRADLEY; BOWMAN, KATHERINE   \n",
       "4          ZAMUDIO, KELLY R                                        NaN   \n",
       "\n",
       "                                   ORGANIZATION_NAME CFDA_CODE  FY_TOTAL_COST  \n",
       "0                         WHEELING JESUIT UNIVERSITY    47.076      1999467.0  \n",
       "1                                 FRANKLIN INSTITUTE    47.076      1799699.0  \n",
       "2                        SCIENCE MUSEUM OF MINNESOTA    47.076      1505858.0  \n",
       "3  INTERNATIONAL UNION OF PURE AND APPLIED CHEMISTRY    47.049        51000.0  \n",
       "4                          CORNELL UNIVERSITY ITHACA    47.074       370996.0  "
      ]
     },
     "execution_count": 3,
     "metadata": {},
     "output_type": "execute_result"
    }
   ],
   "source": [
    "df.head()"
   ]
  },
  {
   "cell_type": "code",
   "execution_count": 4,
   "metadata": {},
   "outputs": [],
   "source": [
    "# input needed for doc-term matrix creation in Scikit-Learn is one string per document (not a list of strings).  \n",
    "# Original data is already in this form!\n",
    "\n",
    "docs = df[\"ABSTRACT\"] "
   ]
  },
  {
   "cell_type": "markdown",
   "metadata": {},
   "source": [
    "## Functions needed for all info retrieval approaches"
   ]
  },
  {
   "cell_type": "code",
   "execution_count": 5,
   "metadata": {},
   "outputs": [],
   "source": [
    "# Create query vector \n",
    "\n",
    "def create_query(words, terms):\n",
    "    \n",
    "    # words: search query words\n",
    "    # terms: terms in corpus\n",
    "    \n",
    "    q = np.zeros(len(terms))  # number of terms\n",
    "\n",
    "    idx = []\n",
    "    for word in query_words:\n",
    "        idx.append(terms.index(word))\n",
    "\n",
    "    q[idx] = 1\n",
    "    \n",
    "    return q"
   ]
  },
  {
   "cell_type": "code",
   "execution_count": 81,
   "metadata": {},
   "outputs": [],
   "source": [
    "def return_top_abstracts(docs, scores, top_n):\n",
    "    \n",
    "    '''\n",
    "    docs: Series that contains abstract\n",
    "    scores: scores of abstracts\n",
    "    top_n: return the top_n abstracts given by idx, if top_n = -1 return all abstracts\n",
    "    '''\n",
    "    # sort scores in descending order\n",
    "    scores_sorted_idx = np.argsort(scores)[::-1]\n",
    "    \n",
    "    if top_n == -1:\n",
    "        n = sum(scores > 0)\n",
    "        ix = scores_sorted_idx[:n]\n",
    "    else:\n",
    "        ix = scores_sorted_idx[:top_n]\n",
    "    \n",
    "    print(ix[0:10])\n",
    "    \n",
    "    return ix, docs[ix]\n",
    "    "
   ]
  },
  {
   "cell_type": "code",
   "execution_count": 7,
   "metadata": {},
   "outputs": [],
   "source": [
    "def create_result_df(abstracts, scores):\n",
    "    \n",
    "    df = pd.DataFrame()\n",
    "    df[\"abstracts\"] = abstracts\n",
    "    df[\"scores\"] = scores\n",
    "    \n",
    "    return df"
   ]
  },
  {
   "cell_type": "code",
   "execution_count": null,
   "metadata": {},
   "outputs": [],
   "source": []
  },
  {
   "cell_type": "markdown",
   "metadata": {},
   "source": [
    "## Literal Term Matching - Frequency Count Document-Term Matrix\n",
    "\n",
    "This will return all abstracts in the corpus with exact word matches to the query.  \n",
    "\n",
    "Results will be return in sorted order of how high the query scores with each abstract. A high score means more occurences of the query words in the abstract."
   ]
  },
  {
   "cell_type": "code",
   "execution_count": 8,
   "metadata": {},
   "outputs": [],
   "source": [
    "# Create document-term matrix based on count frequencies\n",
    "\n",
    "vectorizer = CountVectorizer()\n",
    "doc_term_matrix = vectorizer.fit_transform(docs)"
   ]
  },
  {
   "cell_type": "code",
   "execution_count": 9,
   "metadata": {},
   "outputs": [],
   "source": [
    "terms = vectorizer.get_feature_names()"
   ]
  },
  {
   "cell_type": "markdown",
   "metadata": {},
   "source": [
    "### Create Query Words - list the search terms\n",
    "\n",
    "A query is just a list of words to search for in the corpus.  We will use the same query for all three info retrieval techniques."
   ]
  },
  {
   "cell_type": "code",
   "execution_count": 51,
   "metadata": {},
   "outputs": [],
   "source": [
    "# CHANGE QUERY WORDS HERE\n",
    "\n",
    "query_words = ['pandemic']   #['plague', 'bubonic', #['pandemic', 'influenza', 'mers', 'sars', 'zikv', 'denv', 'hiv', 'aids', \n",
    "              \n",
    "\n",
    "q = create_query(query_words, terms)"
   ]
  },
  {
   "cell_type": "code",
   "execution_count": null,
   "metadata": {},
   "outputs": [],
   "source": []
  },
  {
   "cell_type": "code",
   "execution_count": 52,
   "metadata": {},
   "outputs": [],
   "source": [
    "# calculate the score for each document against the query. Docs with more occurences of the query words \n",
    "# will score higher\n",
    "\n",
    "f_scores = doc_term_matrix.dot(q)"
   ]
  },
  {
   "cell_type": "code",
   "execution_count": 53,
   "metadata": {},
   "outputs": [
    {
     "data": {
      "text/plain": [
       "1643"
      ]
     },
     "execution_count": 53,
     "metadata": {},
     "output_type": "execute_result"
    }
   ],
   "source": [
    "sum(f_scores >0)  # how many abstracts include at least one of the query words"
   ]
  },
  {
   "cell_type": "code",
   "execution_count": 54,
   "metadata": {},
   "outputs": [
    {
     "data": {
      "text/plain": [
       "array([25., 20., 19., 18., 17., 16., 15., 14., 14., 14.])"
      ]
     },
     "execution_count": 54,
     "metadata": {},
     "output_type": "execute_result"
    }
   ],
   "source": [
    "# sort scores in descending order\n",
    "\n",
    "f_scores_sorted = np.sort(f_scores)[::-1]\n",
    "f_scores_sorted[:10]"
   ]
  },
  {
   "cell_type": "code",
   "execution_count": 82,
   "metadata": {},
   "outputs": [
    {
     "name": "stdout",
     "output_type": "stream",
     "text": [
      "[236762 235170 145010  92006 128050 292930 236456 236214 346289 299250]\n"
     ]
    }
   ],
   "source": [
    "f_idx, f_top_abstracts = return_top_abstracts(docs, f_scores, -1)  # CHANGE NUMBER OF TOP DOCS RETURNED"
   ]
  },
  {
   "cell_type": "code",
   "execution_count": 83,
   "metadata": {},
   "outputs": [
    {
     "data": {
      "text/plain": [
       "236762    Influenza A viruses are significant human path...\n",
       "235170    The hemagglutinin of the 2009 pandemic H1N1 in...\n",
       "145010    Influenza A viruses are significant human path...\n",
       "92006     Influenza A viruses are significant human path...\n",
       "128050    DESCRIPTION (provided by applicant): The 1918-...\n",
       "                                ...                        \n",
       "138565    This subproject is one of many research subpro...\n",
       "515584    VIRUS AND OTHER INFECTION-ASSOCIATED CANCERS R...\n",
       "172268    DESCRIPTION (provided by applicant): This prop...\n",
       "69658     The use of appropriate point-of-care (POC) dia...\n",
       "344992    DESCRIPTION (provided by applicant): Emerging ...\n",
       "Name: ABSTRACT, Length: 1643, dtype: object"
      ]
     },
     "execution_count": 83,
     "metadata": {},
     "output_type": "execute_result"
    }
   ],
   "source": [
    "f_top_abstracts"
   ]
  },
  {
   "cell_type": "code",
   "execution_count": 16,
   "metadata": {},
   "outputs": [
    {
     "data": {
      "text/plain": [
       "'DESCRIPTION (provided by applicant): Cholera has reemerged as a global killer with the world witnessing an unprecedented rise in cholera infection and transmission over the past two decades. The causative agent of cholera is Vibrio cholera, a natural inhabitant of many types of aquatic environments but is more prevalent in coastal ecosystems. Thus, a warmer global climate with increasingly variable precipitation patterns and accelerated sea level rise is likely to have wide-ranging effects on the outbreaks and transmission of this infectious disease. Most of these health effects are likely to occur where hydrologic, climatic, and ecological extremes and population vulnerability converge. The impact of variability and changes in climatic conditions in cholera prone regions of the world are not well understood. Extreme climatic events such as prolonged droughts, floods and major cyclones have been implicated with major cholera epidemics. Such extreme events are also likely to create unseen changes in the ecosystem and can potentially impact cholera bacteria. Existing literature suggests that significant uncertainly and knowledge gaps remain in attributing the expansion and resurgence of cholera to climate change for two reasons: (i) incomplete understanding of ecology of cholera within the context of climatic and hydrologic extremes and their manifestations on the epidemiology of cholera; and (ii) lack of long-term data sets as well as absence of mechanistic models that can link climate, hydrology, ecology, and epidemiology of cholera within a consistent framework. Three empirical observations suggest possible connections among climate change and variability with ecology, hydrology and microbiology of cholera: (a) if the current warming trends continue, extreme events are likely to be more frequent and intense; (b) almost all cholera outbreaks originate near the coastal areas; and (c) extreme weather and climate events are likely to have significant effects on the outbreak and transmission of cholera vibrio. Taken together, these three empirical observations motivate us to explore the above two broad and complex knowledge gaps by investigating the role of hydrology, ecology, and climate on the epidemiology of cholera using an integrated diagnostic (Section 3.2) and predictive (Section 3.3) framework. Within the diagnostic framework, the specific aim is to examine linkages among climatic, hydrologic and ecological extremes with cholera dynamics by focusing on four related objectives: (1) Quantify the role of freshwater discharge from the large river basins in altering the relationships and seasonality of sea surface temperature (SST) and phytoplankton; (2) Quantify the effects of hydrologic and climatic extremes on cholera dynamics for different regions; (3) Evaluate the influences of ENSO cycle on cholera dynamics; and (4) Examine the effects of sea-level changes on estuarine ecosystems and cholera dynamics. To develop an effective cholera adaptation strategy for a changing climate, the specific aim within the predictive framework is to provide estimates of disease burden and outcomes for different plausible scenarios. A cholera-climate prediction model (CCPM) will be developed by integrating existing knowledge, results from diagnostic analyses and three previously developed physical models (downscaled climate projections, hydrologic module, and ecosystem module).The proposed CCPM will integrate hydrological, ecological, microbiological and oceanic determinants of cholera occurrences and transmission. A key innovation is the first direct application of downscaled climate projections from an ensemble of climate model simulations within a predictive cholera-climate model for three different regions (South Asia, Sub-Saharan Africa, and Latin America) of the world. This collaborative initiative among Tufts University, University of Maryland, and an international partner - Institute of Water Modeling from Bangladesh -- integrates and builds on several decades of expanding interdisciplinary experience in ecology and microbiology of cholera, hydrology, remote sensing, climatology, hydrodynamic and ecosystem modeling. Once tested and validated, the proposed cholera tracking and prediction model will have the capabilities and functionalities to be useful for many regions of the world.    PUBLIC HEALTH RELEVANCE: Effects of Climate Change on Cholera Dynamics and Prediction  A warmer climate is likely to have wide-ranging effects on outbreaks and transmission of cholera in different parts of the world where hydrologic, climatic, and ecological extremes and population vulnerability converge. The Cholera-Climate Prediction Model (CCPM) developed through this project will integrate hydrological, ecological, microbiological and oceanic determinants of cholera occurrences and transmission. This is perhaps the first direct application of downscaled climate projections from an ensemble of climate model simulations within a CCPM for three different cholera prone regions of the world. Once tested and validated, the proposed CCPM will have the capabilities and functionalities to be useful for many regions of the world.'"
      ]
     },
     "execution_count": 16,
     "metadata": {},
     "output_type": "execute_result"
    }
   ],
   "source": [
    "f_top_abstracts.iloc[0]"
   ]
  },
  {
   "cell_type": "code",
   "execution_count": 84,
   "metadata": {},
   "outputs": [
    {
     "data": {
      "text/plain": [
       "1643"
      ]
     },
     "execution_count": 84,
     "metadata": {},
     "output_type": "execute_result"
    }
   ],
   "source": [
    "len(f_idx)"
   ]
  },
  {
   "cell_type": "code",
   "execution_count": 17,
   "metadata": {},
   "outputs": [],
   "source": [
    "f_df = create_result_df(docs, f_scores)"
   ]
  },
  {
   "cell_type": "code",
   "execution_count": 18,
   "metadata": {},
   "outputs": [
    {
     "data": {
      "text/html": [
       "<div>\n",
       "<style scoped>\n",
       "    .dataframe tbody tr th:only-of-type {\n",
       "        vertical-align: middle;\n",
       "    }\n",
       "\n",
       "    .dataframe tbody tr th {\n",
       "        vertical-align: top;\n",
       "    }\n",
       "\n",
       "    .dataframe thead th {\n",
       "        text-align: right;\n",
       "    }\n",
       "</style>\n",
       "<table border=\"1\" class=\"dataframe\">\n",
       "  <thead>\n",
       "    <tr style=\"text-align: right;\">\n",
       "      <th></th>\n",
       "      <th>abstracts</th>\n",
       "      <th>scores</th>\n",
       "    </tr>\n",
       "  </thead>\n",
       "  <tbody>\n",
       "    <tr>\n",
       "      <th>0</th>\n",
       "      <td>This is a project to explore Game-based, Metap...</td>\n",
       "      <td>0.0</td>\n",
       "    </tr>\n",
       "    <tr>\n",
       "      <th>1</th>\n",
       "      <td>Institution: Franklin Institute Science Museum...</td>\n",
       "      <td>0.0</td>\n",
       "    </tr>\n",
       "    <tr>\n",
       "      <th>2</th>\n",
       "      <td>Through programs (including small group conver...</td>\n",
       "      <td>0.0</td>\n",
       "    </tr>\n",
       "    <tr>\n",
       "      <th>3</th>\n",
       "      <td>In partnership with the American Chemical Soci...</td>\n",
       "      <td>0.0</td>\n",
       "    </tr>\n",
       "    <tr>\n",
       "      <th>4</th>\n",
       "      <td>Amphibian populations around the world are exp...</td>\n",
       "      <td>0.0</td>\n",
       "    </tr>\n",
       "    <tr>\n",
       "      <th>...</th>\n",
       "      <td>...</td>\n",
       "      <td>...</td>\n",
       "    </tr>\n",
       "    <tr>\n",
       "      <th>550069</th>\n",
       "      <td>The Title IV-E Prevention Services Clearinghou...</td>\n",
       "      <td>0.0</td>\n",
       "    </tr>\n",
       "    <tr>\n",
       "      <th>550070</th>\n",
       "      <td>This mixed-methods study seeks to deepen our u...</td>\n",
       "      <td>0.0</td>\n",
       "    </tr>\n",
       "    <tr>\n",
       "      <th>550071</th>\n",
       "      <td>The purpose of this project is to examine the ...</td>\n",
       "      <td>0.0</td>\n",
       "    </tr>\n",
       "    <tr>\n",
       "      <th>550072</th>\n",
       "      <td>The 2014 Child Care and Development Block Gran...</td>\n",
       "      <td>0.0</td>\n",
       "    </tr>\n",
       "    <tr>\n",
       "      <th>550073</th>\n",
       "      <td>The goal of this study is to understand the us...</td>\n",
       "      <td>0.0</td>\n",
       "    </tr>\n",
       "  </tbody>\n",
       "</table>\n",
       "<p>550074 rows × 2 columns</p>\n",
       "</div>"
      ],
      "text/plain": [
       "                                                abstracts  scores\n",
       "0       This is a project to explore Game-based, Metap...     0.0\n",
       "1       Institution: Franklin Institute Science Museum...     0.0\n",
       "2       Through programs (including small group conver...     0.0\n",
       "3       In partnership with the American Chemical Soci...     0.0\n",
       "4       Amphibian populations around the world are exp...     0.0\n",
       "...                                                   ...     ...\n",
       "550069  The Title IV-E Prevention Services Clearinghou...     0.0\n",
       "550070  This mixed-methods study seeks to deepen our u...     0.0\n",
       "550071  The purpose of this project is to examine the ...     0.0\n",
       "550072  The 2014 Child Care and Development Block Gran...     0.0\n",
       "550073  The goal of this study is to understand the us...     0.0\n",
       "\n",
       "[550074 rows x 2 columns]"
      ]
     },
     "execution_count": 18,
     "metadata": {},
     "output_type": "execute_result"
    }
   ],
   "source": [
    "f_df"
   ]
  },
  {
   "cell_type": "markdown",
   "metadata": {},
   "source": [
    "## TF-IDF Document-Term Matrix\n",
    "\n",
    "This approach is similar to Literal Term Matching using frequency counts in the document-term matrix.  However, instead of using frequency counts, the entries of the document-term matrix are weighted using TF-IDF."
   ]
  },
  {
   "cell_type": "code",
   "execution_count": 19,
   "metadata": {},
   "outputs": [],
   "source": [
    "# Find doc-term matrix using TF-IDF weighting\n",
    "\n",
    "tf_idf_vectorizer = TfidfVectorizer()\n",
    "tf_idf = tf_idf_vectorizer.fit_transform(docs)"
   ]
  },
  {
   "cell_type": "code",
   "execution_count": 20,
   "metadata": {},
   "outputs": [],
   "source": [
    "tf_idf_terms = tf_idf_vectorizer.get_feature_names()  # these terms are the same as the terms created from the \n",
    "                                                      # frequency count document-term matrix, so we do not need to\n",
    "                                                      # recreate the query vector."
   ]
  },
  {
   "cell_type": "code",
   "execution_count": 56,
   "metadata": {},
   "outputs": [],
   "source": [
    "# calculate the score for each document against the query. Docs with more occurences of the query words \n",
    "# will score higher\n",
    "\n",
    "tf_idf_scores = tf_idf.dot(q)"
   ]
  },
  {
   "cell_type": "code",
   "execution_count": 57,
   "metadata": {},
   "outputs": [
    {
     "data": {
      "text/plain": [
       "1643"
      ]
     },
     "execution_count": 57,
     "metadata": {},
     "output_type": "execute_result"
    }
   ],
   "source": [
    "sum(tf_idf_scores >0)   # how many abstracts include at least one of the query words"
   ]
  },
  {
   "cell_type": "code",
   "execution_count": 58,
   "metadata": {},
   "outputs": [
    {
     "data": {
      "text/plain": [
       "array([0.5857311 , 0.54566878, 0.5312256 , 0.52167944, 0.51754378,\n",
       "       0.48825648, 0.43052922, 0.42960531, 0.42195537, 0.39556147])"
      ]
     },
     "execution_count": 58,
     "metadata": {},
     "output_type": "execute_result"
    }
   ],
   "source": [
    "# sort scores in descending order\n",
    "\n",
    "tf_idf_scores_sorted = np.sort(tf_idf_scores)[::-1]\n",
    "tf_idf_scores_sorted[:10]"
   ]
  },
  {
   "cell_type": "code",
   "execution_count": 85,
   "metadata": {},
   "outputs": [
    {
     "name": "stdout",
     "output_type": "stream",
     "text": [
      "[346289 292930  85470 128050 236762  62499 145793 236456 148102 194186]\n"
     ]
    }
   ],
   "source": [
    "tfidf_idx, tfidf_top_abstracts = return_top_abstracts(docs, tf_idf_scores, -1)  # CHANGE NUMBER OF TOP DOCS RETURNED"
   ]
  },
  {
   "cell_type": "code",
   "execution_count": 86,
   "metadata": {},
   "outputs": [
    {
     "data": {
      "text/plain": [
       "346289    PROJECT SUMMARY / ABSTRACTInfluenza pandemics ...\n",
       "292930    DESCRIPTION (provided by applicant): Influenza...\n",
       "85470     DESCRIPTION (provided by applicant): The pande...\n",
       "128050    DESCRIPTION (provided by applicant): The 1918-...\n",
       "236762    Influenza A viruses are significant human path...\n",
       "                                ...                        \n",
       "484114    Dengue (DV) disease is a major and spreading g...\n",
       "236047    A major focus of our efforts is on the roles p...\n",
       "193917    HIV/AIDS is a global pandemic with nearly 33 m...\n",
       "236722    LID scientists are collaborating with scientis...\n",
       "134171    2.b. OpportunitiesThe NWRCE is primed to produ...\n",
       "Name: ABSTRACT, Length: 1643, dtype: object"
      ]
     },
     "execution_count": 86,
     "metadata": {},
     "output_type": "execute_result"
    }
   ],
   "source": [
    "tfidf_top_abstracts"
   ]
  },
  {
   "cell_type": "code",
   "execution_count": 26,
   "metadata": {},
   "outputs": [],
   "source": [
    "tf_idf_df = create_result_df(docs, tf_idf_scores)"
   ]
  },
  {
   "cell_type": "code",
   "execution_count": 27,
   "metadata": {},
   "outputs": [
    {
     "data": {
      "text/html": [
       "<div>\n",
       "<style scoped>\n",
       "    .dataframe tbody tr th:only-of-type {\n",
       "        vertical-align: middle;\n",
       "    }\n",
       "\n",
       "    .dataframe tbody tr th {\n",
       "        vertical-align: top;\n",
       "    }\n",
       "\n",
       "    .dataframe thead th {\n",
       "        text-align: right;\n",
       "    }\n",
       "</style>\n",
       "<table border=\"1\" class=\"dataframe\">\n",
       "  <thead>\n",
       "    <tr style=\"text-align: right;\">\n",
       "      <th></th>\n",
       "      <th>abstracts</th>\n",
       "      <th>scores</th>\n",
       "    </tr>\n",
       "  </thead>\n",
       "  <tbody>\n",
       "    <tr>\n",
       "      <th>0</th>\n",
       "      <td>This is a project to explore Game-based, Metap...</td>\n",
       "      <td>0.0</td>\n",
       "    </tr>\n",
       "    <tr>\n",
       "      <th>1</th>\n",
       "      <td>Institution: Franklin Institute Science Museum...</td>\n",
       "      <td>0.0</td>\n",
       "    </tr>\n",
       "    <tr>\n",
       "      <th>2</th>\n",
       "      <td>Through programs (including small group conver...</td>\n",
       "      <td>0.0</td>\n",
       "    </tr>\n",
       "    <tr>\n",
       "      <th>3</th>\n",
       "      <td>In partnership with the American Chemical Soci...</td>\n",
       "      <td>0.0</td>\n",
       "    </tr>\n",
       "    <tr>\n",
       "      <th>4</th>\n",
       "      <td>Amphibian populations around the world are exp...</td>\n",
       "      <td>0.0</td>\n",
       "    </tr>\n",
       "    <tr>\n",
       "      <th>...</th>\n",
       "      <td>...</td>\n",
       "      <td>...</td>\n",
       "    </tr>\n",
       "    <tr>\n",
       "      <th>550069</th>\n",
       "      <td>The Title IV-E Prevention Services Clearinghou...</td>\n",
       "      <td>0.0</td>\n",
       "    </tr>\n",
       "    <tr>\n",
       "      <th>550070</th>\n",
       "      <td>This mixed-methods study seeks to deepen our u...</td>\n",
       "      <td>0.0</td>\n",
       "    </tr>\n",
       "    <tr>\n",
       "      <th>550071</th>\n",
       "      <td>The purpose of this project is to examine the ...</td>\n",
       "      <td>0.0</td>\n",
       "    </tr>\n",
       "    <tr>\n",
       "      <th>550072</th>\n",
       "      <td>The 2014 Child Care and Development Block Gran...</td>\n",
       "      <td>0.0</td>\n",
       "    </tr>\n",
       "    <tr>\n",
       "      <th>550073</th>\n",
       "      <td>The goal of this study is to understand the us...</td>\n",
       "      <td>0.0</td>\n",
       "    </tr>\n",
       "  </tbody>\n",
       "</table>\n",
       "<p>550074 rows × 2 columns</p>\n",
       "</div>"
      ],
      "text/plain": [
       "                                                abstracts  scores\n",
       "0       This is a project to explore Game-based, Metap...     0.0\n",
       "1       Institution: Franklin Institute Science Museum...     0.0\n",
       "2       Through programs (including small group conver...     0.0\n",
       "3       In partnership with the American Chemical Soci...     0.0\n",
       "4       Amphibian populations around the world are exp...     0.0\n",
       "...                                                   ...     ...\n",
       "550069  The Title IV-E Prevention Services Clearinghou...     0.0\n",
       "550070  This mixed-methods study seeks to deepen our u...     0.0\n",
       "550071  The purpose of this project is to examine the ...     0.0\n",
       "550072  The 2014 Child Care and Development Block Gran...     0.0\n",
       "550073  The goal of this study is to understand the us...     0.0\n",
       "\n",
       "[550074 rows x 2 columns]"
      ]
     },
     "execution_count": 27,
     "metadata": {},
     "output_type": "execute_result"
    }
   ],
   "source": [
    "tf_idf_df"
   ]
  },
  {
   "cell_type": "code",
   "execution_count": 87,
   "metadata": {},
   "outputs": [
    {
     "data": {
      "text/plain": [
       "1643"
      ]
     },
     "execution_count": 87,
     "metadata": {},
     "output_type": "execute_result"
    }
   ],
   "source": [
    "len(tfidf_idx)"
   ]
  },
  {
   "cell_type": "code",
   "execution_count": null,
   "metadata": {},
   "outputs": [],
   "source": []
  },
  {
   "cell_type": "markdown",
   "metadata": {},
   "source": [
    "## Latent Semantic Indexing (LSI) Approach\n",
    "\n",
    "LSI Uses the TF-IDF matrix.  LSI is a tecnique that utilizes a truncated Singular Value Decomposition of the document-term matrix.  Basically, LSI still returns relevant documents to the query; however some of the documents returned may not include the exact search terms!  LSI is finding the latent or hidden relationships in the terms.  "
   ]
  },
  {
   "cell_type": "code",
   "execution_count": 28,
   "metadata": {},
   "outputs": [],
   "source": [
    "# Find the Truncated SVD of the TF-IDF matrix\n",
    "\n",
    "lsa = TruncatedSVD(n_components=500, random_state=1)  # CHANGE THE NUMBER OF COMPONENTS - NOTE: MORE COMPONENTS \n",
    "                                                      # GIVES YOU A MORE ACCURATE APPROXIMATION OF THE DOC-TERM \n",
    "                                                      # MATRIX, BUT IS ALSO MORE EXPENSIVE AND MAY NOT LEAD TO THE \n",
    "                                                      # BEST INFO RETRIEVAL RESULTS.\n",
    "USigma = lsa.fit_transform(tf_idf)\n",
    "Vtrans = lsa.components_"
   ]
  },
  {
   "cell_type": "code",
   "execution_count": 60,
   "metadata": {},
   "outputs": [],
   "source": [
    "# transform query to be in same space as documents\n",
    "\n",
    "q = q.reshape(1,-1)\n",
    "qhat = lsa.transform(q)"
   ]
  },
  {
   "cell_type": "code",
   "execution_count": 30,
   "metadata": {},
   "outputs": [
    {
     "name": "stdout",
     "output_type": "stream",
     "text": [
      "(1, 500)\n",
      "(550074, 500)\n",
      "(500, 1058314)\n"
     ]
    }
   ],
   "source": [
    "print(qhat.shape)\n",
    "print(USigma.shape)\n",
    "print(Vtrans.shape)"
   ]
  },
  {
   "cell_type": "code",
   "execution_count": 61,
   "metadata": {},
   "outputs": [],
   "source": [
    "lsa_scores = pairwise_distances(qhat, USigma, metric='cosine', n_jobs=7)  # CHANGE N_JOBS TO BE NUMBER OF CORES - 1"
   ]
  },
  {
   "cell_type": "code",
   "execution_count": 32,
   "metadata": {},
   "outputs": [
    {
     "data": {
      "text/plain": [
       "(1, 550074)"
      ]
     },
     "execution_count": 32,
     "metadata": {},
     "output_type": "execute_result"
    }
   ],
   "source": [
    "lsa_scores.shape"
   ]
  },
  {
   "cell_type": "code",
   "execution_count": 33,
   "metadata": {},
   "outputs": [
    {
     "data": {
      "text/plain": [
       "array([[1.00846092, 1.00728205, 1.00090019, ..., 0.96333499, 1.02447059,\n",
       "        1.0099427 ]])"
      ]
     },
     "execution_count": 33,
     "metadata": {},
     "output_type": "execute_result"
    }
   ],
   "source": [
    "lsa_scores"
   ]
  },
  {
   "cell_type": "code",
   "execution_count": 34,
   "metadata": {},
   "outputs": [
    {
     "data": {
      "text/plain": [
       "numpy.ndarray"
      ]
     },
     "execution_count": 34,
     "metadata": {},
     "output_type": "execute_result"
    }
   ],
   "source": [
    "type(lsa_scores)"
   ]
  },
  {
   "cell_type": "code",
   "execution_count": 35,
   "metadata": {},
   "outputs": [
    {
     "data": {
      "text/plain": [
       "550074"
      ]
     },
     "execution_count": 35,
     "metadata": {},
     "output_type": "execute_result"
    }
   ],
   "source": [
    "sum(lsa_scores[0] > 0)  # how many abstracts scored above 0"
   ]
  },
  {
   "cell_type": "code",
   "execution_count": 36,
   "metadata": {},
   "outputs": [
    {
     "data": {
      "text/plain": [
       "array([1.00846092, 1.00728205, 1.00090019, ..., 0.96333499, 1.02447059,\n",
       "       1.0099427 ])"
      ]
     },
     "execution_count": 36,
     "metadata": {},
     "output_type": "execute_result"
    }
   ],
   "source": [
    "lsa_scores[0]"
   ]
  },
  {
   "cell_type": "code",
   "execution_count": 37,
   "metadata": {},
   "outputs": [
    {
     "data": {
      "text/plain": [
       "array([1.14018403, 1.14018403, 1.14018403, 1.14018403, 1.13667546,\n",
       "       1.13453916, 1.13170556, 1.13108187, 1.13054259, 1.12509284])"
      ]
     },
     "execution_count": 37,
     "metadata": {},
     "output_type": "execute_result"
    }
   ],
   "source": [
    "# sort scores in descending order\n",
    "\n",
    "lsa_scores_sorted = np.sort(lsa_scores[0])[::-1]\n",
    "lsa_scores_sorted[:10]"
   ]
  },
  {
   "cell_type": "code",
   "execution_count": 88,
   "metadata": {},
   "outputs": [
    {
     "name": "stdout",
     "output_type": "stream",
     "text": [
      "[120887 410792 483108 499717 516916 119396 412678 222388 368089 444202]\n"
     ]
    }
   ],
   "source": [
    "lsa_idx, lsa_top_abstracts = return_top_abstracts(docs, lsa_scores[0], 500)  # CHANGE NUMBER OF TOP DOCS RETURNED"
   ]
  },
  {
   "cell_type": "code",
   "execution_count": 75,
   "metadata": {},
   "outputs": [
    {
     "data": {
      "text/plain": [
       "120887    Dengue fever is one of the most important emer...\n",
       "410792    ﻿   DESCRIPTION (provided by applicant): Respi...\n",
       "483108    ﻿DESCRIPTION (provided by applicant): Respirat...\n",
       "499717    Project SummaryThis proposal is for a new R21,...\n",
       "516916    We initially focused on a PIV3-based vector to...\n",
       "                                ...                        \n",
       "249919    DESCRIPTION (provided by applicant): Developme...\n",
       "413277    ﻿   DESCRIPTION (provided by applicant): The m...\n",
       "120008    Filoviruses, Ebola viruses (EBOV) and Marburg ...\n",
       "518791    Epstein-Barr virus (EBV) is a human gamma herp...\n",
       "535081    PROJECT SUMMARY Human cytomegalovirus (hCMV) i...\n",
       "Name: ABSTRACT, Length: 500, dtype: object"
      ]
     },
     "execution_count": 75,
     "metadata": {},
     "output_type": "execute_result"
    }
   ],
   "source": [
    "lsa_top_abstracts"
   ]
  },
  {
   "cell_type": "code",
   "execution_count": 40,
   "metadata": {},
   "outputs": [],
   "source": [
    "lsa_df = create_result_df(docs, lsa_scores[0])"
   ]
  },
  {
   "cell_type": "code",
   "execution_count": 41,
   "metadata": {},
   "outputs": [
    {
     "data": {
      "text/html": [
       "<div>\n",
       "<style scoped>\n",
       "    .dataframe tbody tr th:only-of-type {\n",
       "        vertical-align: middle;\n",
       "    }\n",
       "\n",
       "    .dataframe tbody tr th {\n",
       "        vertical-align: top;\n",
       "    }\n",
       "\n",
       "    .dataframe thead th {\n",
       "        text-align: right;\n",
       "    }\n",
       "</style>\n",
       "<table border=\"1\" class=\"dataframe\">\n",
       "  <thead>\n",
       "    <tr style=\"text-align: right;\">\n",
       "      <th></th>\n",
       "      <th>abstracts</th>\n",
       "      <th>scores</th>\n",
       "    </tr>\n",
       "  </thead>\n",
       "  <tbody>\n",
       "    <tr>\n",
       "      <th>0</th>\n",
       "      <td>This is a project to explore Game-based, Metap...</td>\n",
       "      <td>1.008461</td>\n",
       "    </tr>\n",
       "    <tr>\n",
       "      <th>1</th>\n",
       "      <td>Institution: Franklin Institute Science Museum...</td>\n",
       "      <td>1.007282</td>\n",
       "    </tr>\n",
       "    <tr>\n",
       "      <th>2</th>\n",
       "      <td>Through programs (including small group conver...</td>\n",
       "      <td>1.000900</td>\n",
       "    </tr>\n",
       "    <tr>\n",
       "      <th>3</th>\n",
       "      <td>In partnership with the American Chemical Soci...</td>\n",
       "      <td>0.956898</td>\n",
       "    </tr>\n",
       "    <tr>\n",
       "      <th>4</th>\n",
       "      <td>Amphibian populations around the world are exp...</td>\n",
       "      <td>0.938714</td>\n",
       "    </tr>\n",
       "    <tr>\n",
       "      <th>...</th>\n",
       "      <td>...</td>\n",
       "      <td>...</td>\n",
       "    </tr>\n",
       "    <tr>\n",
       "      <th>550069</th>\n",
       "      <td>The Title IV-E Prevention Services Clearinghou...</td>\n",
       "      <td>1.003445</td>\n",
       "    </tr>\n",
       "    <tr>\n",
       "      <th>550070</th>\n",
       "      <td>This mixed-methods study seeks to deepen our u...</td>\n",
       "      <td>0.988316</td>\n",
       "    </tr>\n",
       "    <tr>\n",
       "      <th>550071</th>\n",
       "      <td>The purpose of this project is to examine the ...</td>\n",
       "      <td>0.963335</td>\n",
       "    </tr>\n",
       "    <tr>\n",
       "      <th>550072</th>\n",
       "      <td>The 2014 Child Care and Development Block Gran...</td>\n",
       "      <td>1.024471</td>\n",
       "    </tr>\n",
       "    <tr>\n",
       "      <th>550073</th>\n",
       "      <td>The goal of this study is to understand the us...</td>\n",
       "      <td>1.009943</td>\n",
       "    </tr>\n",
       "  </tbody>\n",
       "</table>\n",
       "<p>550074 rows × 2 columns</p>\n",
       "</div>"
      ],
      "text/plain": [
       "                                                abstracts    scores\n",
       "0       This is a project to explore Game-based, Metap...  1.008461\n",
       "1       Institution: Franklin Institute Science Museum...  1.007282\n",
       "2       Through programs (including small group conver...  1.000900\n",
       "3       In partnership with the American Chemical Soci...  0.956898\n",
       "4       Amphibian populations around the world are exp...  0.938714\n",
       "...                                                   ...       ...\n",
       "550069  The Title IV-E Prevention Services Clearinghou...  1.003445\n",
       "550070  This mixed-methods study seeks to deepen our u...  0.988316\n",
       "550071  The purpose of this project is to examine the ...  0.963335\n",
       "550072  The 2014 Child Care and Development Block Gran...  1.024471\n",
       "550073  The goal of this study is to understand the us...  1.009943\n",
       "\n",
       "[550074 rows x 2 columns]"
      ]
     },
     "execution_count": 41,
     "metadata": {},
     "output_type": "execute_result"
    }
   ],
   "source": [
    "lsa_df"
   ]
  },
  {
   "cell_type": "code",
   "execution_count": null,
   "metadata": {},
   "outputs": [],
   "source": []
  },
  {
   "cell_type": "markdown",
   "metadata": {},
   "source": [
    "## Create pandemics corpus\n",
    "\n",
    "We use the results of our three information retrieval techniques to create a new, smaller corpus that only contains abstracts relevant to the query. "
   ]
  },
  {
   "cell_type": "code",
   "execution_count": 89,
   "metadata": {},
   "outputs": [],
   "source": [
    "docs_ix = np.concatenate([f_idx, tfidf_idx, lsa_idx])"
   ]
  },
  {
   "cell_type": "code",
   "execution_count": 90,
   "metadata": {},
   "outputs": [],
   "source": [
    "docs_idx = np.unique(docs_ix)"
   ]
  },
  {
   "cell_type": "code",
   "execution_count": 91,
   "metadata": {},
   "outputs": [
    {
     "data": {
      "text/plain": [
       "(2142,)"
      ]
     },
     "execution_count": 91,
     "metadata": {},
     "output_type": "execute_result"
    }
   ],
   "source": [
    "docs_idx.shape"
   ]
  },
  {
   "cell_type": "code",
   "execution_count": 92,
   "metadata": {},
   "outputs": [],
   "source": [
    "lim_docs = [docs[i] for i in docs_idx]"
   ]
  },
  {
   "cell_type": "code",
   "execution_count": 80,
   "metadata": {},
   "outputs": [],
   "source": [
    "# print out the abstracts of the pandemics corpus -- long text output!\n",
    "\n",
    "#lim_docs"
   ]
  },
  {
   "cell_type": "markdown",
   "metadata": {},
   "source": [
    "## Topic Modeling with relevant pandemic abstracts"
   ]
  },
  {
   "cell_type": "code",
   "execution_count": 99,
   "metadata": {},
   "outputs": [],
   "source": [
    "# Create a TF-IDF document-term matrix for the pandemics corpus \n",
    "\n",
    "# TRY DIFFERENT PARAMETERS IN THE TF-IDF DOC-TERM MATRIX SET-UP\n",
    "nmf_vectorizer = TfidfVectorizer(stop_words='english', #ngram_range=(1,2) , \n",
    "                                 max_df=1.0, min_df=3, lowercase=True) #, max_features=int(len(lim_docs)/2))\n",
    "\n",
    "nmf_tf_idf = nmf_vectorizer.fit_transform(lim_docs)"
   ]
  },
  {
   "cell_type": "code",
   "execution_count": 103,
   "metadata": {},
   "outputs": [],
   "source": [
    "# topic modeling with NMF\n",
    "\n",
    "nmf_model = NMF(n_components=30, random_state=1)  # TRY DIFFERENT NUMBERS OF TOPICS\n",
    "W = nmf_model.fit_transform(nmf_tf_idf)\n",
    "H = nmf_model.components_"
   ]
  },
  {
   "cell_type": "code",
   "execution_count": 48,
   "metadata": {},
   "outputs": [],
   "source": [
    "# TRY TOPIC MODELING WITH LDA\n",
    "\n"
   ]
  },
  {
   "cell_type": "code",
   "execution_count": 49,
   "metadata": {},
   "outputs": [],
   "source": [
    "# function slightly modified from https://nlpforhackers.io/topic-modeling/\n",
    "\n",
    "def print_topics(model, vectorizer, top_n=10):\n",
    "    for idx, topic in enumerate(model.components_):  # loop through each row of H.  idx = row index.  topic = actual row\n",
    "        print(\"\\nTopic %d:\" % (idx))\n",
    "        #print([(vectorizer.get_feature_names()[i], topic[i])  # printing out words corresponding to indices found in next line\n",
    "                        #for i in topic.argsort()[:-top_n - 1:-1]])  # finding indices of top words in topic\n",
    "            \n",
    "        print_list = [(vectorizer.get_feature_names()[i], topic[i])  \n",
    "                        for i in topic.argsort()[:-top_n - 1:-1]]\n",
    "        for item in print_list:\n",
    "            print(item)\n",
    "        "
   ]
  },
  {
   "cell_type": "code",
   "execution_count": 104,
   "metadata": {},
   "outputs": [
    {
     "name": "stdout",
     "output_type": "stream",
     "text": [
      "\n",
      "Topic 0:\n",
      "('influenza', 4.519414003084231)\n",
      "('virus', 0.5284520425835895)\n",
      "('vaccination', 0.4944423455770978)\n",
      "('strains', 0.3977435403091121)\n",
      "('seasonal', 0.3450379550316708)\n",
      "('children', 0.3415073151125046)\n",
      "('pandemic', 0.32607504913314583)\n",
      "('respiratory', 0.32008854337896264)\n",
      "('population', 0.31826551065216147)\n",
      "('infection', 0.3137844308818986)\n",
      "\n",
      "Topic 1:\n",
      "('hiv', 2.3317062872016274)\n",
      "('aids', 0.32750491881772725)\n",
      "('infected', 0.27528695374683904)\n",
      "('infection', 0.20585380810429027)\n",
      "('transmission', 0.20368668372018525)\n",
      "('women', 0.15628598529206367)\n",
      "('individuals', 0.15132026420219505)\n",
      "('sexual', 0.15126411835441264)\n",
      "('africa', 0.1489400889144754)\n",
      "('antiretroviral', 0.12493919959118038)\n",
      "\n",
      "Topic 2:\n",
      "('rsv', 2.0949763993839357)\n",
      "('asthma', 0.23038937373871535)\n",
      "('infants', 0.21055885753542572)\n",
      "('bronchiolitis', 0.20109541993260288)\n",
      "('respiratory', 0.17958224227144007)\n",
      "('children', 0.16434034916966048)\n",
      "('disease', 0.16333413434859434)\n",
      "('airway', 0.15351602526029215)\n",
      "('lung', 0.15210626683911674)\n",
      "('infection', 0.13980401475336168)\n",
      "\n",
      "Topic 3:\n",
      "('cd8', 2.8177121550075137)\n",
      "('cells', 1.663604682300071)\n",
      "('cell', 1.396464953056735)\n",
      "('memory', 1.2033684050396727)\n",
      "('responses', 0.7362600243422016)\n",
      "('cd4', 0.6338392791356681)\n",
      "('chronic', 0.5428569307389787)\n",
      "('effector', 0.4596170940648627)\n",
      "('specific', 0.4460786699528743)\n",
      "('antigen', 0.43311255075279964)\n",
      "\n",
      "Topic 4:\n",
      "('denv', 2.4877386642087176)\n",
      "('abs', 0.35477568842287144)\n",
      "('dengue', 0.29952506693841585)\n",
      "('infection', 0.291992322720417)\n",
      "('ade', 0.191913899097772)\n",
      "('serotypes', 0.18984215754966063)\n",
      "('ab', 0.17943373661457984)\n",
      "('specific', 0.1632895585365667)\n",
      "('serotype', 0.15817561640423786)\n",
      "('enhancement', 0.1560929717253022)\n",
      "\n",
      "Topic 5:\n",
      "('training', 1.4219491852993398)\n",
      "('research', 1.3077082463884806)\n",
      "('program', 0.9277822015861276)\n",
      "('trainees', 0.6357354211727798)\n",
      "('university', 0.4713253902956979)\n",
      "('faculty', 0.4563218218347407)\n",
      "('scientists', 0.39183827962756773)\n",
      "('investigators', 0.384383187514199)\n",
      "('aids', 0.3530339915855924)\n",
      "('doctoral', 0.33705813532510914)\n",
      "\n",
      "Topic 6:\n",
      "('vaccine', 3.016419282200485)\n",
      "('vaccines', 1.3790573959946795)\n",
      "('dna', 0.6150313512765102)\n",
      "('adjuvant', 0.6082236059017139)\n",
      "('protection', 0.5568276701667509)\n",
      "('flu', 0.5008907464919089)\n",
      "('responses', 0.46724555540894125)\n",
      "('protective', 0.45923556089857753)\n",
      "('efficacy', 0.4495881738556746)\n",
      "('immune', 0.43851775404348775)\n",
      "\n",
      "Topic 7:\n",
      "('zikv', 2.0937546524334585)\n",
      "('zika', 0.26096252987076746)\n",
      "('fetal', 0.18361222206518646)\n",
      "('microcephaly', 0.1788829841504204)\n",
      "('infection', 0.1584888055778424)\n",
      "('flavivirus', 0.14904444314224435)\n",
      "('pregnancy', 0.13546175729050838)\n",
      "('pregnant', 0.10146484180536537)\n",
      "('brain', 0.09989034810023335)\n",
      "('aim', 0.09401068874540379)\n",
      "\n",
      "Topic 8:\n",
      "('hcmv', 2.3207263876148194)\n",
      "('latency', 0.48517677836071654)\n",
      "('viral', 0.363245197018025)\n",
      "('infection', 0.2688094005981279)\n",
      "('reactivation', 0.24428697593595716)\n",
      "('mirnas', 0.20060639082697962)\n",
      "('cytomegalovirus', 0.18803609813232436)\n",
      "('cellular', 0.18463143425346307)\n",
      "('replication', 0.17991087794882693)\n",
      "('oral', 0.1692416287970206)\n",
      "\n",
      "Topic 9:\n",
      "('cmv', 2.3782656945755516)\n",
      "('transplant', 0.43191932998102983)\n",
      "('recipients', 0.2670722138017153)\n",
      "('specific', 0.25397319134090196)\n",
      "('allograft', 0.21847619305060997)\n",
      "('reactivation', 0.19923131521739165)\n",
      "('rejection', 0.17794174698821374)\n",
      "('cytomegalovirus', 0.17002234747378372)\n",
      "('infection', 0.16864392767941244)\n",
      "('patients', 0.163738181239326)\n",
      "\n",
      "Topic 10:\n",
      "('drug', 0.9471798638602005)\n",
      "('inhibitors', 0.7133831899400715)\n",
      "('resistance', 0.6867638340621175)\n",
      "('drugs', 0.4684471011630057)\n",
      "('compounds', 0.4069455901205677)\n",
      "('resistant', 0.37490404181141507)\n",
      "('antiviral', 0.32917037330949694)\n",
      "('treatment', 0.3179617058931066)\n",
      "('novel', 0.25854671703189397)\n",
      "('m2', 0.25148278034985244)\n",
      "\n",
      "Topic 11:\n",
      "('hbv', 2.0556214455738315)\n",
      "('chronic', 0.24827462359411637)\n",
      "('replication', 0.1758324695183892)\n",
      "('dna', 0.17490152286042807)\n",
      "('liver', 0.1704389943161159)\n",
      "('hcc', 0.1672799628773452)\n",
      "('hepatitis', 0.13943274367899441)\n",
      "('hepatocytes', 0.12316375322918023)\n",
      "('infection', 0.09816151197789766)\n",
      "('cccdna', 0.09750481912207705)\n",
      "\n",
      "Topic 12:\n",
      "('viral', 1.054821376326416)\n",
      "('rna', 0.7572837454183013)\n",
      "('gag', 0.7318946023070714)\n",
      "('assembly', 0.635278175683239)\n",
      "('protein', 0.6343637380062214)\n",
      "('proteins', 0.6090231407084404)\n",
      "('host', 0.5404119353322693)\n",
      "('virus', 0.4945691896598429)\n",
      "('interactions', 0.35690699987948993)\n",
      "('cellular', 0.3455494786387533)\n",
      "\n",
      "Topic 13:\n",
      "('subproject', 1.1376783003218456)\n",
      "('center', 0.6164922733244956)\n",
      "('nih', 0.6048744721860041)\n",
      "('institution', 0.4899192308267024)\n",
      "('ncrr', 0.4609041964226699)\n",
      "('grant', 0.363892236012605)\n",
      "('subprojects', 0.34966677418852216)\n",
      "('funded', 0.34424713118115136)\n",
      "('listed', 0.3436230461188285)\n",
      "('utilizing', 0.30399433312281804)\n",
      "\n",
      "Topic 14:\n",
      "('ifn', 1.247117768769188)\n",
      "('immune', 0.8676679345919992)\n",
      "('innate', 0.6487158075221111)\n",
      "('infection', 0.6464935052852965)\n",
      "('cells', 0.6374157221268801)\n",
      "('wnv', 0.5550912362354657)\n",
      "('responses', 0.4559146603648168)\n",
      "('response', 0.4324972464655724)\n",
      "('viral', 0.4319183126965485)\n",
      "('lung', 0.4301467857979581)\n",
      "\n",
      "Topic 15:\n",
      "('viruses', 1.6403909282916977)\n",
      "('virus', 0.7512487544072732)\n",
      "('avian', 0.7487855567157157)\n",
      "('h5n1', 0.7081973832411372)\n",
      "('influenza', 0.6756882847577902)\n",
      "('h1n1', 0.47961022250986984)\n",
      "('human', 0.4497612536351809)\n",
      "('swine', 0.41805425418780384)\n",
      "('humans', 0.4078893704277789)\n",
      "('animal', 0.37662418741082965)\n",
      "\n",
      "Topic 16:\n",
      "('tb', 1.739441872216076)\n",
      "('mtb', 0.9379341212406492)\n",
      "('tuberculosis', 0.6663199392421391)\n",
      "('mycobacterium', 0.18568022453123778)\n",
      "('drug', 0.1812737103115139)\n",
      "('treatment', 0.17672339807938287)\n",
      "('resistance', 0.15931908805279085)\n",
      "('replicating', 0.15876865586956365)\n",
      "('africa', 0.14651977749042255)\n",
      "('south', 0.14215926388802066)\n",
      "\n",
      "Topic 17:\n",
      "('obesity', 1.0092117871957784)\n",
      "('obese', 0.446011703966504)\n",
      "('insulin', 0.4423871296098457)\n",
      "('diabetes', 0.3539137161293903)\n",
      "('metabolic', 0.3361193714687729)\n",
      "('cancer', 0.2533899599625487)\n",
      "('glucose', 0.25241742078286067)\n",
      "('energy', 0.25063857383200444)\n",
      "('weight', 0.24596795963231535)\n",
      "('fat', 0.21448272074759434)\n",
      "\n",
      "Topic 18:\n",
      "('ha', 1.2559957989949377)\n",
      "('antibodies', 0.8524275281514162)\n",
      "('neutralizing', 0.5038051393398236)\n",
      "('antibody', 0.4186855885882998)\n",
      "('epitopes', 0.3246957237153803)\n",
      "('h5', 0.301453041739961)\n",
      "('broadly', 0.2984346246146323)\n",
      "('influenza', 0.2685247962065631)\n",
      "('stalk', 0.2590138545228258)\n",
      "('binding', 0.2543440890022613)\n",
      "\n",
      "Topic 19:\n",
      "('cov', 1.1039145595822795)\n",
      "('mers', 0.6431971284821179)\n",
      "('sars', 0.6118043358703009)\n",
      "('disease', 0.21011157547154635)\n",
      "('coronavirus', 0.20973448698752883)\n",
      "('rbd', 0.19399420605739726)\n",
      "('respiratory', 0.18987488190676774)\n",
      "('models', 0.1604591170530351)\n",
      "('coronaviruses', 0.15698563708399535)\n",
      "('severe', 0.15331002253357925)\n",
      "\n",
      "Topic 20:\n",
      "('iav', 1.3626942964815154)\n",
      "('sp', 0.44635393748494706)\n",
      "('lung', 0.2090493844701742)\n",
      "('strains', 0.15937394456602064)\n",
      "('dc', 0.1478359707738295)\n",
      "('infection', 0.14602444920784594)\n",
      "('cd1c', 0.13569307604540018)\n",
      "('responses', 0.11214135131537298)\n",
      "('host', 0.10710833503237023)\n",
      "('mortality', 0.1018232873963994)\n",
      "\n",
      "Topic 21:\n",
      "('env', 1.7492056938385594)\n",
      "('hiv', 0.3764641920326091)\n",
      "('trimer', 0.371145986428609)\n",
      "('gp120', 0.35844077548958614)\n",
      "('trimers', 0.2955367290910558)\n",
      "('envelope', 0.2807548811854122)\n",
      "('binding', 0.23569129453169702)\n",
      "('cd4', 0.20667991298538235)\n",
      "('entry', 0.20065350595525633)\n",
      "('native', 0.1842637019904169)\n",
      "\n",
      "Topic 22:\n",
      "('dengue', 1.6178208158925862)\n",
      "('fever', 0.3737731486593943)\n",
      "('dhf', 0.22012285977923976)\n",
      "('mosquito', 0.20600531266346908)\n",
      "('aegypti', 0.1941419833724692)\n",
      "('hemorrhagic', 0.15809708082713506)\n",
      "('vector', 0.15503205359833389)\n",
      "('mosquitoes', 0.1313114753905868)\n",
      "('ae', 0.12914481222337507)\n",
      "('disease', 0.11820095361333154)\n",
      "\n",
      "Topic 23:\n",
      "('1918', 1.359580236605083)\n",
      "('influenza', 0.5812017828128395)\n",
      "('virus', 0.49037342781965154)\n",
      "('pandemics', 0.4610943249612155)\n",
      "('pandemic', 0.3334755585952668)\n",
      "('viruses', 0.3248792098741794)\n",
      "('autopsy', 0.29518105288617785)\n",
      "('resulted', 0.2941541217930046)\n",
      "('human', 0.26670789857922944)\n",
      "('virulence', 0.25766761404147787)\n",
      "\n",
      "Topic 24:\n",
      "('health', 0.41126600033919386)\n",
      "('social', 0.3210353745105285)\n",
      "('infectious', 0.3159160801623222)\n",
      "('disease', 0.3084012759577926)\n",
      "('public', 0.29118473322679983)\n",
      "('interventions', 0.2877904220347467)\n",
      "('models', 0.28226076441810233)\n",
      "('project', 0.28045060053287735)\n",
      "('data', 0.2647151997914919)\n",
      "('intervention', 0.24447534142926744)\n",
      "\n",
      "Topic 25:\n",
      "('cholerae', 1.253738176121736)\n",
      "('virulence', 0.42763393902508057)\n",
      "('cholera', 0.37265656073907855)\n",
      "('colonization', 0.24459399737497428)\n",
      "('vibrio', 0.2327755671282801)\n",
      "('zebrafish', 0.19788992959774565)\n",
      "('toxt', 0.16857096039386607)\n",
      "('genes', 0.14744790608495204)\n",
      "('environmental', 0.14185469737641201)\n",
      "('phages', 0.1407413873804692)\n",
      "\n",
      "Topic 26:\n",
      "('airway', 0.839824405437843)\n",
      "('gabaa', 0.7270896788339041)\n",
      "('muscle', 0.6580732710812591)\n",
      "('smooth', 0.6515763849882767)\n",
      "('asthma', 0.2315650580633347)\n",
      "('gaba', 0.1908144528624277)\n",
      "('relaxation', 0.15346062607541117)\n",
      "('subunits', 0.1496751167025912)\n",
      "('tone', 0.14473613403182928)\n",
      "('receptors', 0.12524187727947247)\n",
      "\n",
      "Topic 27:\n",
      "('clinical', 0.55639434981554)\n",
      "('patients', 0.4859850891437019)\n",
      "('trial', 0.3523458438889213)\n",
      "('dose', 0.3442183734997949)\n",
      "('study', 0.3433128067563465)\n",
      "('trials', 0.2706474708566237)\n",
      "('protocol', 0.25849485719772275)\n",
      "('oseltamivir', 0.2340601883968661)\n",
      "('h1n1', 0.2005184346523982)\n",
      "('randomized', 0.1931614755167862)\n",
      "\n",
      "Topic 28:\n",
      "('ebv', 1.270311049468071)\n",
      "('lytic', 0.39926909955011597)\n",
      "('viral', 0.21597209983169033)\n",
      "('latency', 0.18618424201582268)\n",
      "('latent', 0.1514982514348791)\n",
      "('lymphomas', 0.12494544096643007)\n",
      "('expression', 0.12341467820595534)\n",
      "('aim', 0.11973249124284355)\n",
      "('hsp', 0.11646000579190852)\n",
      "('epigenetic', 0.11159516869532572)\n",
      "\n",
      "Topic 29:\n",
      "('vectors', 1.008651447230502)\n",
      "('vector', 0.5766728692851218)\n",
      "('siv', 0.4440192380102424)\n",
      "('lines', 0.318170935137677)\n",
      "('viral', 0.30916066417916377)\n",
      "('cell', 0.18737202017254284)\n",
      "('rat', 0.18349320326168603)\n",
      "('purification', 0.16516373831703543)\n",
      "('lentiviral', 0.1631398504741884)\n",
      "('rhcmv', 0.152770133762785)\n"
     ]
    }
   ],
   "source": [
    "print_topics(nmf_model, nmf_vectorizer, 10)"
   ]
  },
  {
   "cell_type": "code",
   "execution_count": null,
   "metadata": {},
   "outputs": [],
   "source": []
  }
 ],
 "metadata": {
  "kernelspec": {
   "display_name": "Python 3",
   "language": "python",
   "name": "python3"
  },
  "language_info": {
   "codemirror_mode": {
    "name": "ipython",
    "version": 3
   },
   "file_extension": ".py",
   "mimetype": "text/x-python",
   "name": "python",
   "nbconvert_exporter": "python",
   "pygments_lexer": "ipython3",
   "version": "3.7.4"
  }
 },
 "nbformat": 4,
 "nbformat_minor": 4
}
