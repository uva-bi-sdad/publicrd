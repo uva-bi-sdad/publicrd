{
 "cells": [
  {
   "cell_type": "code",
   "execution_count": 1,
   "metadata": {},
   "outputs": [],
   "source": [
    "import pandas as pd\n",
    "import numpy as np\n",
    "import matplotlib.pyplot as plt\n",
    "\n",
    "import re\n",
    "import string\n",
    "import time\n",
    "\n",
    "pd.set_option('display.max_columns', 30)"
   ]
  },
  {
   "cell_type": "code",
   "execution_count": 2,
   "metadata": {},
   "outputs": [
    {
     "name": "stdout",
     "output_type": "stream",
     "text": [
      "(1156137, 26)\n"
     ]
    }
   ],
   "source": [
    "# reading in raw data\n",
    "\n",
    "# set data types\n",
    "cols = ['PROJECT_ID', 'ABSTRACT', 'FY.x', 'PROJECT_TERMS', 'PROJECT_TITLE', 'DEPARTMENT', 'AGENCY', 'IC_CENTER', \n",
    "        'PROJECT_NUMBER', 'PROJECT_START_DATE', 'PROJECT_END_DATE', 'CONTACT_PI_PROJECT_LEADER', 'OTHER_PIS', \n",
    "        'CONGRESSIONAL_DISTRICT', 'DUNS_NUMBER', 'ORGANIZATION_NAME', 'ORGANIZATION_CITY', 'ORGANIZATION_STATE', \n",
    "        'ORGANIZATION_ZIP', 'ORGANIZATION_COUNTRY', 'BUDGET_START_DATE', 'BUDGET_END_DATE', 'CFDA_CODE', 'FY.y', \n",
    "        'FY_TOTAL_COST', 'FY_TOTAL_COST_SUB_PROJECTS']\n",
    "dtypes = {col: 'str' for col in cols}\n",
    "dtypes[\"FY_TOTAL_COST\"] = 'float'\n",
    "dtypes[\"FY_TOTAL_COST_SUB_PROJECTS\"] = 'float'\n",
    "\n",
    "df = pd.read_csv('../../data/original/working_federal_reporter_2020.csv', dtype = dtypes, engine='python')\n",
    "print(df.shape)"
   ]
  },
  {
   "cell_type": "code",
   "execution_count": 3,
   "metadata": {},
   "outputs": [
    {
     "name": "stdout",
     "output_type": "stream",
     "text": [
      "42380 null ABSTRACTs removed\n"
     ]
    }
   ],
   "source": [
    "#remove rows with NULL abstracts\n",
    "\n",
    "l1 = len(df)\n",
    "df = df[~df.ABSTRACT.isnull()]\n",
    "l2 = len(df)\n",
    "\n",
    "print(l1-l2, \"null ABSTRACTs removed\")"
   ]
  },
  {
   "cell_type": "code",
   "execution_count": 4,
   "metadata": {},
   "outputs": [
    {
     "name": "stdout",
     "output_type": "stream",
     "text": [
      "1324 ABSTRACT NOT PROVIDED and \"No abstract provided\" removed\n"
     ]
    }
   ],
   "source": [
    "# drop abstracts with values of \"ABSTRACT NOT PROVIDED\" and \"No abstract provided \"\n",
    "\n",
    "l1 = len(df)\n",
    "df = df[df.ABSTRACT != 'ABSTRACT NOT PROVIDED']\n",
    "df = df[df.ABSTRACT != 'No abstract provided']\n",
    "l2 = len(df)\n",
    "\n",
    "print(l1-l2, \"ABSTRACT NOT PROVIDED and \\\"No abstract provided\\\" removed\")"
   ]
  },
  {
   "cell_type": "code",
   "execution_count": 5,
   "metadata": {},
   "outputs": [],
   "source": [
    "# FY.x is the reliable fiscal year information so we rename this column to FY\n",
    "\n",
    "df = df.rename(columns={'FY.x': 'FY'})"
   ]
  },
  {
   "cell_type": "code",
   "execution_count": 7,
   "metadata": {},
   "outputs": [
    {
     "data": {
      "text/plain": [
       "PROJECT_ID                          0\n",
       "ABSTRACT                            0\n",
       "FY                                  0\n",
       "PROJECT_TERMS                    3536\n",
       "PROJECT_TITLE                       0\n",
       "DEPARTMENT                          0\n",
       "AGENCY                              0\n",
       "IC_CENTER                      595857\n",
       "PROJECT_NUMBER                      0\n",
       "PROJECT_START_DATE             149391\n",
       "PROJECT_END_DATE               141193\n",
       "CONTACT_PI_PROJECT_LEADER          43\n",
       "OTHER_PIS                      969227\n",
       "CONGRESSIONAL_DISTRICT          69263\n",
       "DUNS_NUMBER                     12047\n",
       "ORGANIZATION_NAME                1626\n",
       "ORGANIZATION_CITY                5548\n",
       "ORGANIZATION_STATE              12162\n",
       "ORGANIZATION_ZIP                46167\n",
       "ORGANIZATION_COUNTRY             5341\n",
       "BUDGET_START_DATE              632754\n",
       "BUDGET_END_DATE                632805\n",
       "CFDA_CODE                      192234\n",
       "FY.y                               19\n",
       "FY_TOTAL_COST                  275416\n",
       "FY_TOTAL_COST_SUB_PROJECTS    1041539\n",
       "dtype: int64"
      ]
     },
     "execution_count": 7,
     "metadata": {},
     "output_type": "execute_result"
    }
   ],
   "source": [
    "df.isnull().sum()"
   ]
  },
  {
   "cell_type": "code",
   "execution_count": 8,
   "metadata": {},
   "outputs": [],
   "source": [
    "temp = df[df[\"PROJECT_START_DATE\"].isnull()]"
   ]
  },
  {
   "cell_type": "code",
   "execution_count": 10,
   "metadata": {},
   "outputs": [
    {
     "data": {
      "text/plain": [
       "149391"
      ]
     },
     "execution_count": 10,
     "metadata": {},
     "output_type": "execute_result"
    }
   ],
   "source": [
    "len(temp)"
   ]
  },
  {
   "cell_type": "code",
   "execution_count": 9,
   "metadata": {},
   "outputs": [
    {
     "data": {
      "text/plain": [
       "PROJECT_ID                         0\n",
       "ABSTRACT                           0\n",
       "FY                                 0\n",
       "PROJECT_TERMS                    816\n",
       "PROJECT_TITLE                      0\n",
       "DEPARTMENT                         0\n",
       "AGENCY                             0\n",
       "IC_CENTER                      55952\n",
       "PROJECT_NUMBER                     0\n",
       "PROJECT_START_DATE            149391\n",
       "PROJECT_END_DATE              134650\n",
       "CONTACT_PI_PROJECT_LEADER          0\n",
       "OTHER_PIS                     146953\n",
       "CONGRESSIONAL_DISTRICT         41637\n",
       "DUNS_NUMBER                     3363\n",
       "ORGANIZATION_NAME                196\n",
       "ORGANIZATION_CITY               3374\n",
       "ORGANIZATION_STATE              3938\n",
       "ORGANIZATION_ZIP               41014\n",
       "ORGANIZATION_COUNTRY            3374\n",
       "BUDGET_START_DATE              79267\n",
       "BUDGET_END_DATE                79267\n",
       "CFDA_CODE                     149388\n",
       "FY.y                               0\n",
       "FY_TOTAL_COST                 112030\n",
       "FY_TOTAL_COST_SUB_PROJECTS     88016\n",
       "dtype: int64"
      ]
     },
     "execution_count": 9,
     "metadata": {},
     "output_type": "execute_result"
    }
   ],
   "source": [
    "temp.isnull().sum()"
   ]
  },
  {
   "cell_type": "code",
   "execution_count": null,
   "metadata": {},
   "outputs": [],
   "source": [
    "# Fill missing values in Project Start/End Date with Budget Start/End Date\n",
    "df['PROJECT_START_DATE'] = df['PROJECT_START_DATE'].fillna(df['BUDGET_START_DATE'])\n",
    "df['PROJECT_END_DATE'] = df['PROJECT_END_DATE'].fillna(df['BUDGET_END_DATE'])\n",
    "\n",
    "#df.isnull().sum()\n",
    "\n",
    "#If START date is still missing, fill both start and end date with FY\n",
    "df['PROJECT_START_DATE'] = df['PROJECT_START_DATE'].fillna(df['FY'])\n",
    "df['PROJECT_END_DATE'] = df['PROJECT_END_DATE'].fillna(df['FY'])\n",
    "\n",
    "#df.isnull().sum()"
   ]
  },
  {
   "cell_type": "code",
   "execution_count": null,
   "metadata": {},
   "outputs": [],
   "source": []
  }
 ],
 "metadata": {
  "kernelspec": {
   "display_name": "Python 3",
   "language": "python",
   "name": "python3"
  },
  "language_info": {
   "codemirror_mode": {
    "name": "ipython",
    "version": 3
   },
   "file_extension": ".py",
   "mimetype": "text/x-python",
   "name": "python",
   "nbconvert_exporter": "python",
   "pygments_lexer": "ipython3",
   "version": "3.7.4"
  }
 },
 "nbformat": 4,
 "nbformat_minor": 4
}
