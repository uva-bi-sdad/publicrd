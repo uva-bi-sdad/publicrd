{
 "cells": [
  {
   "cell_type": "code",
   "execution_count": 1,
   "metadata": {},
   "outputs": [],
   "source": [
    "import pandas as pd\n",
    "import numpy as np"
   ]
  },
  {
   "cell_type": "code",
   "execution_count": 3,
   "metadata": {},
   "outputs": [
    {
     "name": "stderr",
     "output_type": "stream",
     "text": [
      "/apps/software/standard/compiler/gcc/9.2.0/jupyter_conda/2019.10-py3.7/lib/python3.7/site-packages/IPython/core/interactiveshell.py:3063: DtypeWarning: Columns (12,20) have mixed types.Specify dtype option on import or set low_memory=False.\n",
      "  interactivity=interactivity, compiler=compiler, result=result)\n"
     ]
    }
   ],
   "source": [
    "# looking into the cost column in the 2014 Federal RePORTER data.  How much is missing?  Does this match the FR \n",
    "# file online?\n",
    "\n",
    "df = pd.read_csv('../../../data/prd/RND_Topic_Modelling/federal-reporter_updated/metadata/FedRePORTER_PRJ_C_FY2014.csv')"
   ]
  },
  {
   "cell_type": "code",
   "execution_count": 4,
   "metadata": {},
   "outputs": [
    {
     "data": {
      "text/html": [
       "<div>\n",
       "<style scoped>\n",
       "    .dataframe tbody tr th:only-of-type {\n",
       "        vertical-align: middle;\n",
       "    }\n",
       "\n",
       "    .dataframe tbody tr th {\n",
       "        vertical-align: top;\n",
       "    }\n",
       "\n",
       "    .dataframe thead th {\n",
       "        text-align: right;\n",
       "    }\n",
       "</style>\n",
       "<table border=\"1\" class=\"dataframe\">\n",
       "  <thead>\n",
       "    <tr style=\"text-align: right;\">\n",
       "      <th></th>\n",
       "      <th>PROJECT_ID</th>\n",
       "      <th>PROJECT_TERMS</th>\n",
       "      <th>PROJECT_TITLE</th>\n",
       "      <th>DEPARTMENT</th>\n",
       "      <th>AGENCY</th>\n",
       "      <th>IC_CENTER</th>\n",
       "      <th>PROJECT_NUMBER</th>\n",
       "      <th>PROJECT_START_DATE</th>\n",
       "      <th>PROJECT_END_DATE</th>\n",
       "      <th>CONTACT_PI_PROJECT_LEADER</th>\n",
       "      <th>...</th>\n",
       "      <th>ORGANIZATION_CITY</th>\n",
       "      <th>ORGANIZATION_STATE</th>\n",
       "      <th>ORGANIZATION_ZIP</th>\n",
       "      <th>ORGANIZATION_COUNTRY</th>\n",
       "      <th>BUDGET_START_DATE</th>\n",
       "      <th>BUDGET_END_DATE</th>\n",
       "      <th>CFDA_CODE</th>\n",
       "      <th>FY</th>\n",
       "      <th>FY_TOTAL_COST</th>\n",
       "      <th>FY_TOTAL_COST_SUB_PROJECTS</th>\n",
       "    </tr>\n",
       "  </thead>\n",
       "  <tbody>\n",
       "    <tr>\n",
       "      <th>0</th>\n",
       "      <td>589214</td>\n",
       "      <td>Bees; Chemicals; Development; Devices; Diet; ...</td>\n",
       "      <td>IMPROVE NUTRITION FOR HONEY BEE COLONIES TO ST...</td>\n",
       "      <td>USDA</td>\n",
       "      <td>ARS</td>\n",
       "      <td>NaN</td>\n",
       "      <td>ARS-0425868</td>\n",
       "      <td>10/1/2013</td>\n",
       "      <td>2/6/2014</td>\n",
       "      <td>HOFFMAN, GLORIA D</td>\n",
       "      <td>...</td>\n",
       "      <td>TUCSON</td>\n",
       "      <td>AZ</td>\n",
       "      <td>85719</td>\n",
       "      <td>UNITED STATES</td>\n",
       "      <td>NaN</td>\n",
       "      <td>NaN</td>\n",
       "      <td>10.001</td>\n",
       "      <td>2014</td>\n",
       "      <td>NaN</td>\n",
       "      <td>NaN</td>\n",
       "    </tr>\n",
       "    <tr>\n",
       "      <th>1</th>\n",
       "      <td>589224</td>\n",
       "      <td>Affect; Algae; Amendment; Appearance; base; B...</td>\n",
       "      <td>ALGAL-BASED WATER TREATMENT TECHNOLOGIES FOR S...</td>\n",
       "      <td>USDA</td>\n",
       "      <td>ARS</td>\n",
       "      <td>NaN</td>\n",
       "      <td>ARS-0426136</td>\n",
       "      <td>1/1/2014</td>\n",
       "      <td>12/31/2018</td>\n",
       "      <td>HALL, DAVID GOODSELL</td>\n",
       "      <td>...</td>\n",
       "      <td>FORT PIERCE</td>\n",
       "      <td>FL</td>\n",
       "      <td>34945</td>\n",
       "      <td>UNITED STATES</td>\n",
       "      <td>NaN</td>\n",
       "      <td>NaN</td>\n",
       "      <td>10.001</td>\n",
       "      <td>2014</td>\n",
       "      <td>NaN</td>\n",
       "      <td>NaN</td>\n",
       "    </tr>\n",
       "    <tr>\n",
       "      <th>2</th>\n",
       "      <td>591601</td>\n",
       "      <td>Area; base; Biological; California; Consumpti...</td>\n",
       "      <td>BIOLOGICAL CONTROL OF PIERCE'S DISEASE OF GRAP...</td>\n",
       "      <td>USDA</td>\n",
       "      <td>NIFA</td>\n",
       "      <td>NaN</td>\n",
       "      <td>0212205</td>\n",
       "      <td>8/20/2014</td>\n",
       "      <td>9/30/2014</td>\n",
       "      <td>HOPKINS, DO, .</td>\n",
       "      <td>...</td>\n",
       "      <td>GAINESVILLE</td>\n",
       "      <td>FL</td>\n",
       "      <td>32611-0110</td>\n",
       "      <td>UNITED STATES</td>\n",
       "      <td>NaN</td>\n",
       "      <td>NaN</td>\n",
       "      <td>10.203</td>\n",
       "      <td>2014</td>\n",
       "      <td>NaN</td>\n",
       "      <td>NaN</td>\n",
       "    </tr>\n",
       "    <tr>\n",
       "      <th>3</th>\n",
       "      <td>593659</td>\n",
       "      <td>absorption; Address; Anemia; Anemia due to Ch...</td>\n",
       "      <td>MOLECULAR MECHSNISMS OF INTESTINAL METAL ION T...</td>\n",
       "      <td>USDA</td>\n",
       "      <td>NIFA</td>\n",
       "      <td>NaN</td>\n",
       "      <td>0217191</td>\n",
       "      <td>7/8/2014</td>\n",
       "      <td>7/9/2014</td>\n",
       "      <td>COLLINS, JA, F..</td>\n",
       "      <td>...</td>\n",
       "      <td>GAINESVILLE</td>\n",
       "      <td>FL</td>\n",
       "      <td>32611-0110</td>\n",
       "      <td>UNITED STATES</td>\n",
       "      <td>NaN</td>\n",
       "      <td>NaN</td>\n",
       "      <td>10.203</td>\n",
       "      <td>2014</td>\n",
       "      <td>NaN</td>\n",
       "      <td>NaN</td>\n",
       "    </tr>\n",
       "    <tr>\n",
       "      <th>4</th>\n",
       "      <td>597171</td>\n",
       "      <td>Climate; Decision Support Systems; Developmen...</td>\n",
       "      <td>ASSESSING CLIMATE INFORMATION NEEDS AND OPPORT...</td>\n",
       "      <td>USDA</td>\n",
       "      <td>NIFA</td>\n",
       "      <td>NaN</td>\n",
       "      <td>0226918</td>\n",
       "      <td>8/19/2014</td>\n",
       "      <td>8/20/2014</td>\n",
       "      <td>JONES, J.</td>\n",
       "      <td>...</td>\n",
       "      <td>GAINESVILLE</td>\n",
       "      <td>FL</td>\n",
       "      <td>32611-0110</td>\n",
       "      <td>UNITED STATES</td>\n",
       "      <td>NaN</td>\n",
       "      <td>NaN</td>\n",
       "      <td>10.202</td>\n",
       "      <td>2014</td>\n",
       "      <td>NaN</td>\n",
       "      <td>NaN</td>\n",
       "    </tr>\n",
       "  </tbody>\n",
       "</table>\n",
       "<p>5 rows × 24 columns</p>\n",
       "</div>"
      ],
      "text/plain": [
       "   PROJECT_ID                                      PROJECT_TERMS  \\\n",
       "0      589214   Bees; Chemicals; Development; Devices; Diet; ...   \n",
       "1      589224   Affect; Algae; Amendment; Appearance; base; B...   \n",
       "2      591601   Area; base; Biological; California; Consumpti...   \n",
       "3      593659   absorption; Address; Anemia; Anemia due to Ch...   \n",
       "4      597171   Climate; Decision Support Systems; Developmen...   \n",
       "\n",
       "                                       PROJECT_TITLE  DEPARTMENT  AGENCY  \\\n",
       "0  IMPROVE NUTRITION FOR HONEY BEE COLONIES TO ST...        USDA     ARS   \n",
       "1  ALGAL-BASED WATER TREATMENT TECHNOLOGIES FOR S...        USDA     ARS   \n",
       "2  BIOLOGICAL CONTROL OF PIERCE'S DISEASE OF GRAP...        USDA    NIFA   \n",
       "3  MOLECULAR MECHSNISMS OF INTESTINAL METAL ION T...        USDA    NIFA   \n",
       "4  ASSESSING CLIMATE INFORMATION NEEDS AND OPPORT...        USDA    NIFA   \n",
       "\n",
       "   IC_CENTER  PROJECT_NUMBER  PROJECT_START_DATE  PROJECT_END_DATE  \\\n",
       "0        NaN     ARS-0425868           10/1/2013          2/6/2014   \n",
       "1        NaN     ARS-0426136            1/1/2014        12/31/2018   \n",
       "2        NaN         0212205           8/20/2014         9/30/2014   \n",
       "3        NaN         0217191            7/8/2014          7/9/2014   \n",
       "4        NaN         0226918           8/19/2014         8/20/2014   \n",
       "\n",
       "   CONTACT_PI_PROJECT_LEADER  ...  ORGANIZATION_CITY   ORGANIZATION_STATE  \\\n",
       "0          HOFFMAN, GLORIA D  ...             TUCSON                   AZ   \n",
       "1       HALL, DAVID GOODSELL  ...        FORT PIERCE                   FL   \n",
       "2             HOPKINS, DO, .  ...        GAINESVILLE                   FL   \n",
       "3           COLLINS, JA, F..  ...        GAINESVILLE                   FL   \n",
       "4                  JONES, J.  ...        GAINESVILLE                   FL   \n",
       "\n",
       "   ORGANIZATION_ZIP  ORGANIZATION_COUNTRY  BUDGET_START_DATE  BUDGET_END_DATE  \\\n",
       "0             85719         UNITED STATES                NaN              NaN   \n",
       "1             34945         UNITED STATES                NaN              NaN   \n",
       "2        32611-0110         UNITED STATES                NaN              NaN   \n",
       "3        32611-0110         UNITED STATES                NaN              NaN   \n",
       "4        32611-0110         UNITED STATES                NaN              NaN   \n",
       "\n",
       "   CFDA_CODE    FY  FY_TOTAL_COST  FY_TOTAL_COST_SUB_PROJECTS  \n",
       "0     10.001  2014            NaN                         NaN  \n",
       "1     10.001  2014            NaN                         NaN  \n",
       "2     10.203  2014            NaN                         NaN  \n",
       "3     10.203  2014            NaN                         NaN  \n",
       "4     10.202  2014            NaN                         NaN  \n",
       "\n",
       "[5 rows x 24 columns]"
      ]
     },
     "execution_count": 4,
     "metadata": {},
     "output_type": "execute_result"
    }
   ],
   "source": [
    "df.head()"
   ]
  },
  {
   "cell_type": "code",
   "execution_count": 10,
   "metadata": {},
   "outputs": [
    {
     "data": {
      "text/plain": [
       "['PROJECT_ID',\n",
       " ' PROJECT_TERMS',\n",
       " ' PROJECT_TITLE',\n",
       " ' DEPARTMENT',\n",
       " ' AGENCY',\n",
       " ' IC_CENTER',\n",
       " ' PROJECT_NUMBER',\n",
       " ' PROJECT_START_DATE',\n",
       " ' PROJECT_END_DATE',\n",
       " ' CONTACT_PI_PROJECT_LEADER',\n",
       " ' OTHER_PIS',\n",
       " ' CONGRESSIONAL_DISTRICT',\n",
       " ' DUNS_NUMBER',\n",
       " ' ORGANIZATION_NAME',\n",
       " ' ORGANIZATION_CITY',\n",
       " ' ORGANIZATION_STATE',\n",
       " ' ORGANIZATION_ZIP',\n",
       " ' ORGANIZATION_COUNTRY',\n",
       " ' BUDGET_START_DATE',\n",
       " ' BUDGET_END_DATE',\n",
       " ' CFDA_CODE',\n",
       " ' FY',\n",
       " ' FY_TOTAL_COST',\n",
       " ' FY_TOTAL_COST_SUB_PROJECTS']"
      ]
     },
     "execution_count": 10,
     "metadata": {},
     "output_type": "execute_result"
    }
   ],
   "source": [
    "list(df.columns)"
   ]
  },
  {
   "cell_type": "code",
   "execution_count": 11,
   "metadata": {},
   "outputs": [
    {
     "data": {
      "text/plain": [
       "PROJECT_ID                       int64\n",
       " PROJECT_TERMS                  object\n",
       " PROJECT_TITLE                  object\n",
       " DEPARTMENT                     object\n",
       " AGENCY                         object\n",
       " IC_CENTER                      object\n",
       " PROJECT_NUMBER                 object\n",
       " PROJECT_START_DATE             object\n",
       " PROJECT_END_DATE               object\n",
       " CONTACT_PI_PROJECT_LEADER      object\n",
       " OTHER_PIS                      object\n",
       " CONGRESSIONAL_DISTRICT        float64\n",
       " DUNS_NUMBER                    object\n",
       " ORGANIZATION_NAME              object\n",
       " ORGANIZATION_CITY              object\n",
       " ORGANIZATION_STATE             object\n",
       " ORGANIZATION_ZIP               object\n",
       " ORGANIZATION_COUNTRY           object\n",
       " BUDGET_START_DATE              object\n",
       " BUDGET_END_DATE                object\n",
       " CFDA_CODE                      object\n",
       " FY                              int64\n",
       " FY_TOTAL_COST                 float64\n",
       " FY_TOTAL_COST_SUB_PROJECTS    float64\n",
       "dtype: object"
      ]
     },
     "execution_count": 11,
     "metadata": {},
     "output_type": "execute_result"
    }
   ],
   "source": [
    "df.dtypes"
   ]
  },
  {
   "cell_type": "code",
   "execution_count": 13,
   "metadata": {},
   "outputs": [
    {
     "data": {
      "text/plain": [
       "PROJECT_ID                         0\n",
       " PROJECT_TERMS                     0\n",
       " PROJECT_TITLE                     0\n",
       " DEPARTMENT                        0\n",
       " AGENCY                            0\n",
       " IC_CENTER                     17250\n",
       " PROJECT_NUMBER                    0\n",
       " PROJECT_START_DATE            12496\n",
       " PROJECT_END_DATE              11709\n",
       " CONTACT_PI_PROJECT_LEADER         6\n",
       " OTHER_PIS                     77833\n",
       " CONGRESSIONAL_DISTRICT         6815\n",
       " DUNS_NUMBER                     845\n",
       " ORGANIZATION_NAME                35\n",
       " ORGANIZATION_CITY               243\n",
       " ORGANIZATION_STATE             1326\n",
       " ORGANIZATION_ZIP               3836\n",
       " ORGANIZATION_COUNTRY            239\n",
       " BUDGET_START_DATE             22150\n",
       " BUDGET_END_DATE               22151\n",
       " CFDA_CODE                     16344\n",
       " FY                                0\n",
       " FY_TOTAL_COST                 15851\n",
       " FY_TOTAL_COST_SUB_PROJECTS    79518\n",
       "dtype: int64"
      ]
     },
     "execution_count": 13,
     "metadata": {},
     "output_type": "execute_result"
    }
   ],
   "source": [
    "df.isnull().sum()"
   ]
  },
  {
   "cell_type": "code",
   "execution_count": 14,
   "metadata": {},
   "outputs": [
    {
     "data": {
      "text/plain": [
       "PROJECT_ID                     0.000000\n",
       " PROJECT_TERMS                 0.000000\n",
       " PROJECT_TITLE                 0.000000\n",
       " DEPARTMENT                    0.000000\n",
       " AGENCY                        0.000000\n",
       " IC_CENTER                     0.189677\n",
       " PROJECT_NUMBER                0.000000\n",
       " PROJECT_START_DATE            0.137403\n",
       " PROJECT_END_DATE              0.128750\n",
       " CONTACT_PI_PROJECT_LEADER     0.000066\n",
       " OTHER_PIS                     0.855834\n",
       " CONGRESSIONAL_DISTRICT        0.074936\n",
       " DUNS_NUMBER                   0.009291\n",
       " ORGANIZATION_NAME             0.000385\n",
       " ORGANIZATION_CITY             0.002672\n",
       " ORGANIZATION_STATE            0.014580\n",
       " ORGANIZATION_ZIP              0.042180\n",
       " ORGANIZATION_COUNTRY          0.002628\n",
       " BUDGET_START_DATE             0.243556\n",
       " BUDGET_END_DATE               0.243567\n",
       " CFDA_CODE                     0.179715\n",
       " FY                            0.000000\n",
       " FY_TOTAL_COST                 0.174294\n",
       " FY_TOTAL_COST_SUB_PROJECTS    0.874362\n",
       "dtype: float64"
      ]
     },
     "execution_count": 14,
     "metadata": {},
     "output_type": "execute_result"
    }
   ],
   "source": [
    "df.isnull().sum()/len(df)"
   ]
  },
  {
   "cell_type": "code",
   "execution_count": 15,
   "metadata": {},
   "outputs": [
    {
     "data": {
      "text/plain": [
       "90944"
      ]
     },
     "execution_count": 15,
     "metadata": {},
     "output_type": "execute_result"
    }
   ],
   "source": [
    "len(df)"
   ]
  },
  {
   "cell_type": "code",
   "execution_count": 16,
   "metadata": {},
   "outputs": [
    {
     "data": {
      "text/plain": [
       "(90944, 24)"
      ]
     },
     "execution_count": 16,
     "metadata": {},
     "output_type": "execute_result"
    }
   ],
   "source": [
    "df.shape"
   ]
  },
  {
   "cell_type": "code",
   "execution_count": null,
   "metadata": {},
   "outputs": [],
   "source": [
    "# FY_TOTAL_COST is only missing 17% of the data -- not what we calculated during DSPG ()"
   ]
  },
  {
   "cell_type": "code",
   "execution_count": null,
   "metadata": {},
   "outputs": [],
   "source": []
  },
  {
   "cell_type": "code",
   "execution_count": null,
   "metadata": {},
   "outputs": [],
   "source": [
    "# checking against aggregated FR dataset that we used"
   ]
  },
  {
   "cell_type": "code",
   "execution_count": 19,
   "metadata": {},
   "outputs": [
    {
     "name": "stdout",
     "output_type": "stream",
     "text": [
      "(1156137, 26)\n"
     ]
    }
   ],
   "source": [
    "df_all = pd.read_csv('/home/kjl5t/dspg20RnD/data/original/working_federal_reporter_2020.csv', engine='python')\n",
    "print(df_all.shape)"
   ]
  },
  {
   "cell_type": "code",
   "execution_count": 21,
   "metadata": {},
   "outputs": [
    {
     "data": {
      "text/plain": [
       "Index(['PROJECT_ID', 'ABSTRACT', 'FY.x', 'PROJECT_TERMS', 'PROJECT_TITLE',\n",
       "       'DEPARTMENT', 'AGENCY', 'IC_CENTER', 'PROJECT_NUMBER',\n",
       "       'PROJECT_START_DATE', 'PROJECT_END_DATE', 'CONTACT_PI_PROJECT_LEADER',\n",
       "       'OTHER_PIS', 'CONGRESSIONAL_DISTRICT', 'DUNS_NUMBER',\n",
       "       'ORGANIZATION_NAME', 'ORGANIZATION_CITY', 'ORGANIZATION_STATE',\n",
       "       'ORGANIZATION_ZIP', 'ORGANIZATION_COUNTRY', 'BUDGET_START_DATE',\n",
       "       'BUDGET_END_DATE', 'CFDA_CODE', 'FY.y', 'FY_TOTAL_COST',\n",
       "       'FY_TOTAL_COST_SUB_PROJECTS'],\n",
       "      dtype='object')"
      ]
     },
     "execution_count": 21,
     "metadata": {},
     "output_type": "execute_result"
    }
   ],
   "source": [
    "df_all.columns"
   ]
  },
  {
   "cell_type": "code",
   "execution_count": null,
   "metadata": {},
   "outputs": [],
   "source": []
  },
  {
   "cell_type": "code",
   "execution_count": 22,
   "metadata": {},
   "outputs": [],
   "source": [
    "t = df_all[df_all['FY.x'] == 2014]"
   ]
  },
  {
   "cell_type": "code",
   "execution_count": 23,
   "metadata": {},
   "outputs": [
    {
     "data": {
      "text/plain": [
       "86527"
      ]
     },
     "execution_count": 23,
     "metadata": {},
     "output_type": "execute_result"
    }
   ],
   "source": [
    "len(t)"
   ]
  },
  {
   "cell_type": "code",
   "execution_count": 24,
   "metadata": {},
   "outputs": [
    {
     "data": {
      "text/plain": [
       "PROJECT_ID                        0\n",
       "ABSTRACT                          3\n",
       "FY.x                              0\n",
       "PROJECT_TERMS                     0\n",
       "PROJECT_TITLE                     0\n",
       "DEPARTMENT                        0\n",
       "AGENCY                            0\n",
       "IC_CENTER                     16932\n",
       "PROJECT_NUMBER                    0\n",
       "PROJECT_START_DATE            12118\n",
       "PROJECT_END_DATE              11374\n",
       "CONTACT_PI_PROJECT_LEADER         5\n",
       "OTHER_PIS                     73445\n",
       "CONGRESSIONAL_DISTRICT         6186\n",
       "DUNS_NUMBER                     716\n",
       "ORGANIZATION_NAME                33\n",
       "ORGANIZATION_CITY               219\n",
       "ORGANIZATION_STATE              731\n",
       "ORGANIZATION_ZIP               3536\n",
       "ORGANIZATION_COUNTRY            216\n",
       "BUDGET_START_DATE             21797\n",
       "BUDGET_END_DATE               21798\n",
       "CFDA_CODE                     15846\n",
       "FY.y                              1\n",
       "FY_TOTAL_COST                 86413\n",
       "FY_TOTAL_COST_SUB_PROJECTS    86490\n",
       "dtype: int64"
      ]
     },
     "execution_count": 24,
     "metadata": {},
     "output_type": "execute_result"
    }
   ],
   "source": [
    "t.isnull().sum()"
   ]
  },
  {
   "cell_type": "code",
   "execution_count": null,
   "metadata": {},
   "outputs": [],
   "source": [
    "# Most costs ended up being missing...this should not be the case.  Going back to the R file where dataset was \n",
    "# created."
   ]
  }
 ],
 "metadata": {
  "kernelspec": {
   "display_name": "Python 3",
   "language": "python",
   "name": "python3"
  },
  "language_info": {
   "codemirror_mode": {
    "name": "ipython",
    "version": 3
   },
   "file_extension": ".py",
   "mimetype": "text/x-python",
   "name": "python",
   "nbconvert_exporter": "python",
   "pygments_lexer": "ipython3",
   "version": "3.7.4"
  }
 },
 "nbformat": 4,
 "nbformat_minor": 4
}
