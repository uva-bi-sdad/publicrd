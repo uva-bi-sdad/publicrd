{
 "cells": [
  {
   "cell_type": "markdown",
   "metadata": {},
   "source": [
    "# Information Retrieval - Corpus Filtering  \n",
    "This notebook retrieves abstracts relevant to pandemics and then uses topic modeling to analyze the chosen abstracts.  Two info retrieval techniques are used: Literal Term Matching and Latent Semantic Indexing.  These are linear algebra techniques.  \n",
    "We use the Scikit-Learn library."
   ]
  },
  {
   "cell_type": "code",
   "execution_count": 1,
   "metadata": {},
   "outputs": [],
   "source": [
    "import pandas as pd\n",
    "pd.set_option('display.max_columns', 50)\n",
    "\n",
    "import numpy as np\n",
    "import pickle\n",
    "import matplotlib.pyplot as plt\n",
    "import gensim\n",
    "import time\n",
    "\n",
    "from sklearn.decomposition import NMF, TruncatedSVD, LatentDirichletAllocation\n",
    "from sklearn.feature_extraction.text import CountVectorizer\n",
    "from sklearn.feature_extraction.text import TfidfVectorizer\n",
    "#from sklearn.metrics import pairwise_distances\n",
    "from sklearn.metrics.pairwise import cosine_similarity\n",
    "\n",
    "#import spacy\n",
    "#from spacy.lang.en.stop_words import STOP_WORDS"
   ]
  },
  {
   "cell_type": "code",
   "execution_count": null,
   "metadata": {},
   "outputs": [],
   "source": []
  },
  {
   "cell_type": "code",
   "execution_count": 2,
   "metadata": {},
   "outputs": [],
   "source": [
    "# pull in data\n",
    "\n",
    "# full corpus\n",
    "df = pd.read_pickle(\"../../../../data/prd/Tech-Report/FR_meta_and_final_tokens_21SEPT14.pkl\")\n",
    "df.reset_index(inplace = True)\n",
    "\n",
    "# pandemics corpus\n",
    "#df = pd.read_pickle(\"pandemic_corpus.pkl\")\n",
    "#df.reset_index(inplace = True)\n",
    "#df.rename(columns={'index':'original index'}, inplace=True)"
   ]
  },
  {
   "cell_type": "code",
   "execution_count": 3,
   "metadata": {},
   "outputs": [
    {
     "data": {
      "text/html": [
       "<div>\n",
       "<style scoped>\n",
       "    .dataframe tbody tr th:only-of-type {\n",
       "        vertical-align: middle;\n",
       "    }\n",
       "\n",
       "    .dataframe tbody tr th {\n",
       "        vertical-align: top;\n",
       "    }\n",
       "\n",
       "    .dataframe thead th {\n",
       "        text-align: right;\n",
       "    }\n",
       "</style>\n",
       "<table border=\"1\" class=\"dataframe\">\n",
       "  <thead>\n",
       "    <tr style=\"text-align: right;\">\n",
       "      <th></th>\n",
       "      <th>index</th>\n",
       "      <th>original index</th>\n",
       "      <th>PROJECT_ID</th>\n",
       "      <th>ABSTRACT</th>\n",
       "      <th>FY</th>\n",
       "      <th>PROJECT_TERMS</th>\n",
       "      <th>PROJECT_TITLE</th>\n",
       "      <th>DEPARTMENT</th>\n",
       "      <th>AGENCY</th>\n",
       "      <th>IC_CENTER</th>\n",
       "      <th>PROJECT_NUMBER</th>\n",
       "      <th>PROJECT_START_DATE</th>\n",
       "      <th>PROJECT_END_DATE</th>\n",
       "      <th>CONTACT_PI_PROJECT_LEADER</th>\n",
       "      <th>OTHER_PIS</th>\n",
       "      <th>CONGRESSIONAL_DISTRICT</th>\n",
       "      <th>DUNS_NUMBER</th>\n",
       "      <th>ORGANIZATION_NAME</th>\n",
       "      <th>ORGANIZATION_CITY</th>\n",
       "      <th>ORGANIZATION_STATE</th>\n",
       "      <th>ORGANIZATION_ZIP</th>\n",
       "      <th>ORGANIZATION_COUNTRY</th>\n",
       "      <th>BUDGET_START_DATE</th>\n",
       "      <th>BUDGET_END_DATE</th>\n",
       "      <th>CFDA_CODE</th>\n",
       "      <th>FY.y</th>\n",
       "      <th>FY_TOTAL_COST</th>\n",
       "      <th>FY_TOTAL_COST_SUB_PROJECTS</th>\n",
       "      <th>ORG_COUNT</th>\n",
       "      <th>PI_COUNT</th>\n",
       "      <th>final_tokens</th>\n",
       "    </tr>\n",
       "  </thead>\n",
       "  <tbody>\n",
       "    <tr>\n",
       "      <th>0</th>\n",
       "      <td>0</td>\n",
       "      <td>0</td>\n",
       "      <td>89996</td>\n",
       "      <td>This is a project to explore Game-based, Metap...</td>\n",
       "      <td>2008</td>\n",
       "      <td>Achievement; analog; base; Cognitive Science; ...</td>\n",
       "      <td>RUI: CYGAMES: CYBER-ENABLED TEACHING AND LEARN...</td>\n",
       "      <td>NSF</td>\n",
       "      <td>NSF</td>\n",
       "      <td>NaN</td>\n",
       "      <td>0814512</td>\n",
       "      <td>9/15/2008</td>\n",
       "      <td>8/31/2012</td>\n",
       "      <td>REESE, DEBBIE D</td>\n",
       "      <td>CARTER, BEVERLY; WOOD, CHARLES; HITT, BEN</td>\n",
       "      <td>01</td>\n",
       "      <td>068719400</td>\n",
       "      <td>WHEELING JESUIT UNIVERSITY</td>\n",
       "      <td>WHEELING</td>\n",
       "      <td>WV</td>\n",
       "      <td>26003-6243</td>\n",
       "      <td>UNITED STATES</td>\n",
       "      <td>NaN</td>\n",
       "      <td>NaN</td>\n",
       "      <td>47.076</td>\n",
       "      <td>2008</td>\n",
       "      <td>1999467.0</td>\n",
       "      <td>NaN</td>\n",
       "      <td>1</td>\n",
       "      <td>1</td>\n",
       "      <td>[project, explore, game, base, metaphor, enhan...</td>\n",
       "    </tr>\n",
       "    <tr>\n",
       "      <th>1</th>\n",
       "      <td>1</td>\n",
       "      <td>1</td>\n",
       "      <td>89997</td>\n",
       "      <td>Institution: Franklin Institute Science Museum...</td>\n",
       "      <td>2008</td>\n",
       "      <td>Active Learning; Child; Computer software; des...</td>\n",
       "      <td>ARIEL - AUGMENTED REALITY FOR INTERPRETIVE AND...</td>\n",
       "      <td>NSF</td>\n",
       "      <td>NSF</td>\n",
       "      <td>NaN</td>\n",
       "      <td>0741659</td>\n",
       "      <td>9/15/2008</td>\n",
       "      <td>8/31/2012</td>\n",
       "      <td>SNYDER, STEVEN</td>\n",
       "      <td>ELINICH, KAREN; YOON, SUSAN</td>\n",
       "      <td>02</td>\n",
       "      <td>001741859</td>\n",
       "      <td>FRANKLIN INSTITUTE</td>\n",
       "      <td>PHILADELPHIA</td>\n",
       "      <td>PA</td>\n",
       "      <td>19103-1115</td>\n",
       "      <td>UNITED STATES</td>\n",
       "      <td>NaN</td>\n",
       "      <td>NaN</td>\n",
       "      <td>47.076</td>\n",
       "      <td>2008</td>\n",
       "      <td>1799699.0</td>\n",
       "      <td>NaN</td>\n",
       "      <td>1</td>\n",
       "      <td>1</td>\n",
       "      <td>[institution, franklin_institute, science, mus...</td>\n",
       "    </tr>\n",
       "    <tr>\n",
       "      <th>2</th>\n",
       "      <td>2</td>\n",
       "      <td>2</td>\n",
       "      <td>89998</td>\n",
       "      <td>Through programs (including small group conver...</td>\n",
       "      <td>2008</td>\n",
       "      <td>Address; Age; Birth; Brain; Caregivers; Child;...</td>\n",
       "      <td>BRIGHTER FUTURES: PUBLIC DELIBERATION ABOUT TH...</td>\n",
       "      <td>NSF</td>\n",
       "      <td>NSF</td>\n",
       "      <td>NaN</td>\n",
       "      <td>0813522</td>\n",
       "      <td>9/15/2008</td>\n",
       "      <td>8/31/2011</td>\n",
       "      <td>FINK, LAURIE KLEINBAUM</td>\n",
       "      <td>CADIGAN, KAREN; ELLENBOGEN, KIRSTEN</td>\n",
       "      <td>04</td>\n",
       "      <td>061451670</td>\n",
       "      <td>SCIENCE MUSEUM OF MINNESOTA</td>\n",
       "      <td>SAINT PAUL</td>\n",
       "      <td>MN</td>\n",
       "      <td>55102-1202</td>\n",
       "      <td>UNITED STATES</td>\n",
       "      <td>NaN</td>\n",
       "      <td>NaN</td>\n",
       "      <td>47.076</td>\n",
       "      <td>2008</td>\n",
       "      <td>1505858.0</td>\n",
       "      <td>NaN</td>\n",
       "      <td>1</td>\n",
       "      <td>1</td>\n",
       "      <td>[program, small, group, conversation, citizen,...</td>\n",
       "    </tr>\n",
       "    <tr>\n",
       "      <th>3</th>\n",
       "      <td>3</td>\n",
       "      <td>3</td>\n",
       "      <td>89999</td>\n",
       "      <td>In partnership with the American Chemical Soci...</td>\n",
       "      <td>2008</td>\n",
       "      <td>Advanced Development; American; Chemicals; Che...</td>\n",
       "      <td>FOSTERING US-INTERNATIONAL COLLABORATIVE PARTN...</td>\n",
       "      <td>NSF</td>\n",
       "      <td>NSF</td>\n",
       "      <td>NaN</td>\n",
       "      <td>0838627</td>\n",
       "      <td>8/1/2008</td>\n",
       "      <td>12/31/2010</td>\n",
       "      <td>JOST, JOHN W</td>\n",
       "      <td>MILLER, BRADLEY; BOWMAN, KATHERINE</td>\n",
       "      <td>04</td>\n",
       "      <td>009059242</td>\n",
       "      <td>INTERNATIONAL UNION OF PURE AND APPLIED CHEMISTRY</td>\n",
       "      <td>DURHAM</td>\n",
       "      <td>NC</td>\n",
       "      <td>27709-3757</td>\n",
       "      <td>UNITED STATES</td>\n",
       "      <td>NaN</td>\n",
       "      <td>NaN</td>\n",
       "      <td>47.049</td>\n",
       "      <td>2008</td>\n",
       "      <td>51000.0</td>\n",
       "      <td>NaN</td>\n",
       "      <td>1</td>\n",
       "      <td>1</td>\n",
       "      <td>[partnership, american, chemical, society, acs...</td>\n",
       "    </tr>\n",
       "    <tr>\n",
       "      <th>4</th>\n",
       "      <td>4</td>\n",
       "      <td>5</td>\n",
       "      <td>90001</td>\n",
       "      <td>The Center for Molecular Interfacing (CMI) wil...</td>\n",
       "      <td>2008</td>\n",
       "      <td>Address; Architecture; Carbon Nanotubes; Catal...</td>\n",
       "      <td>CCI PHASE I: CENTER FOR MOLECULAR INTERFACING</td>\n",
       "      <td>NSF</td>\n",
       "      <td>NSF</td>\n",
       "      <td>NaN</td>\n",
       "      <td>0847926</td>\n",
       "      <td>10/1/2008</td>\n",
       "      <td>9/30/2011</td>\n",
       "      <td>ABRUNA, HECTOR D</td>\n",
       "      <td>NaN</td>\n",
       "      <td>22</td>\n",
       "      <td>872612445</td>\n",
       "      <td>CORNELL UNIVERSITY ITHACA</td>\n",
       "      <td>ITHACA</td>\n",
       "      <td>NY</td>\n",
       "      <td>14850-2820</td>\n",
       "      <td>UNITED STATES</td>\n",
       "      <td>NaN</td>\n",
       "      <td>NaN</td>\n",
       "      <td>47.049</td>\n",
       "      <td>2008</td>\n",
       "      <td>1519821.0</td>\n",
       "      <td>NaN</td>\n",
       "      <td>1</td>\n",
       "      <td>1</td>\n",
       "      <td>[center, molecular, interfacing, cmi, enable, ...</td>\n",
       "    </tr>\n",
       "  </tbody>\n",
       "</table>\n",
       "</div>"
      ],
      "text/plain": [
       "   index  original index PROJECT_ID  \\\n",
       "0      0               0      89996   \n",
       "1      1               1      89997   \n",
       "2      2               2      89998   \n",
       "3      3               3      89999   \n",
       "4      4               5      90001   \n",
       "\n",
       "                                            ABSTRACT    FY  \\\n",
       "0  This is a project to explore Game-based, Metap...  2008   \n",
       "1  Institution: Franklin Institute Science Museum...  2008   \n",
       "2  Through programs (including small group conver...  2008   \n",
       "3  In partnership with the American Chemical Soci...  2008   \n",
       "4  The Center for Molecular Interfacing (CMI) wil...  2008   \n",
       "\n",
       "                                       PROJECT_TERMS  \\\n",
       "0  Achievement; analog; base; Cognitive Science; ...   \n",
       "1  Active Learning; Child; Computer software; des...   \n",
       "2  Address; Age; Birth; Brain; Caregivers; Child;...   \n",
       "3  Advanced Development; American; Chemicals; Che...   \n",
       "4  Address; Architecture; Carbon Nanotubes; Catal...   \n",
       "\n",
       "                                       PROJECT_TITLE DEPARTMENT AGENCY  \\\n",
       "0  RUI: CYGAMES: CYBER-ENABLED TEACHING AND LEARN...        NSF    NSF   \n",
       "1  ARIEL - AUGMENTED REALITY FOR INTERPRETIVE AND...        NSF    NSF   \n",
       "2  BRIGHTER FUTURES: PUBLIC DELIBERATION ABOUT TH...        NSF    NSF   \n",
       "3  FOSTERING US-INTERNATIONAL COLLABORATIVE PARTN...        NSF    NSF   \n",
       "4      CCI PHASE I: CENTER FOR MOLECULAR INTERFACING        NSF    NSF   \n",
       "\n",
       "  IC_CENTER PROJECT_NUMBER PROJECT_START_DATE PROJECT_END_DATE  \\\n",
       "0       NaN        0814512          9/15/2008        8/31/2012   \n",
       "1       NaN        0741659          9/15/2008        8/31/2012   \n",
       "2       NaN        0813522          9/15/2008        8/31/2011   \n",
       "3       NaN        0838627           8/1/2008       12/31/2010   \n",
       "4       NaN        0847926          10/1/2008        9/30/2011   \n",
       "\n",
       "  CONTACT_PI_PROJECT_LEADER                                  OTHER_PIS  \\\n",
       "0           REESE, DEBBIE D  CARTER, BEVERLY; WOOD, CHARLES; HITT, BEN   \n",
       "1            SNYDER, STEVEN                ELINICH, KAREN; YOON, SUSAN   \n",
       "2    FINK, LAURIE KLEINBAUM        CADIGAN, KAREN; ELLENBOGEN, KIRSTEN   \n",
       "3              JOST, JOHN W         MILLER, BRADLEY; BOWMAN, KATHERINE   \n",
       "4          ABRUNA, HECTOR D                                        NaN   \n",
       "\n",
       "  CONGRESSIONAL_DISTRICT DUNS_NUMBER  \\\n",
       "0                     01   068719400   \n",
       "1                     02   001741859   \n",
       "2                     04   061451670   \n",
       "3                     04   009059242   \n",
       "4                     22   872612445   \n",
       "\n",
       "                                   ORGANIZATION_NAME ORGANIZATION_CITY  \\\n",
       "0                         WHEELING JESUIT UNIVERSITY          WHEELING   \n",
       "1                                 FRANKLIN INSTITUTE      PHILADELPHIA   \n",
       "2                        SCIENCE MUSEUM OF MINNESOTA        SAINT PAUL   \n",
       "3  INTERNATIONAL UNION OF PURE AND APPLIED CHEMISTRY            DURHAM   \n",
       "4                          CORNELL UNIVERSITY ITHACA            ITHACA   \n",
       "\n",
       "  ORGANIZATION_STATE ORGANIZATION_ZIP ORGANIZATION_COUNTRY BUDGET_START_DATE  \\\n",
       "0                 WV       26003-6243        UNITED STATES               NaN   \n",
       "1                 PA       19103-1115        UNITED STATES               NaN   \n",
       "2                 MN       55102-1202        UNITED STATES               NaN   \n",
       "3                 NC       27709-3757        UNITED STATES               NaN   \n",
       "4                 NY       14850-2820        UNITED STATES               NaN   \n",
       "\n",
       "  BUDGET_END_DATE CFDA_CODE  FY.y  FY_TOTAL_COST  FY_TOTAL_COST_SUB_PROJECTS  \\\n",
       "0             NaN    47.076  2008      1999467.0                         NaN   \n",
       "1             NaN    47.076  2008      1799699.0                         NaN   \n",
       "2             NaN    47.076  2008      1505858.0                         NaN   \n",
       "3             NaN    47.049  2008        51000.0                         NaN   \n",
       "4             NaN    47.049  2008      1519821.0                         NaN   \n",
       "\n",
       "   ORG_COUNT  PI_COUNT                                       final_tokens  \n",
       "0          1         1  [project, explore, game, base, metaphor, enhan...  \n",
       "1          1         1  [institution, franklin_institute, science, mus...  \n",
       "2          1         1  [program, small, group, conversation, citizen,...  \n",
       "3          1         1  [partnership, american, chemical, society, acs...  \n",
       "4          1         1  [center, molecular, interfacing, cmi, enable, ...  "
      ]
     },
     "execution_count": 3,
     "metadata": {},
     "output_type": "execute_result"
    }
   ],
   "source": [
    "df.head()"
   ]
  },
  {
   "cell_type": "code",
   "execution_count": null,
   "metadata": {},
   "outputs": [],
   "source": []
  },
  {
   "cell_type": "code",
   "execution_count": null,
   "metadata": {},
   "outputs": [],
   "source": []
  },
  {
   "cell_type": "code",
   "execution_count": 4,
   "metadata": {},
   "outputs": [],
   "source": [
    "# input needed for doc-term matrix creation in Scikit-Learn is one string per document (not a list of strings).  \n",
    "# Original data 'ABSTRACT' is already in this form, but not the tokens in \"final_frqwds_removed\"\n",
    "\n",
    "\n",
    "tokens = df['final_tokens']   #df[\"stopwds_removed\"]\n",
    "\n",
    "docs = [] # docs will contain the processed tokens in string form (1 string per abstract)\n",
    "\n",
    "for abstract in tokens:\n",
    "    docs.append(\" \".join(abstract))\n",
    "    \n",
    "docs = pd.Series(docs)\n",
    "\n",
    "\n",
    "#docs = df[\"ABSTRACT\"]  # raw text\n"
   ]
  },
  {
   "cell_type": "code",
   "execution_count": null,
   "metadata": {},
   "outputs": [],
   "source": []
  },
  {
   "cell_type": "code",
   "execution_count": null,
   "metadata": {},
   "outputs": [],
   "source": []
  },
  {
   "cell_type": "markdown",
   "metadata": {},
   "source": [
    "### Term Matching"
   ]
  },
  {
   "cell_type": "code",
   "execution_count": 5,
   "metadata": {},
   "outputs": [],
   "source": [
    "# new approach to grab all \"coronavirus\" matches\n",
    "\n",
    "term_match_idx = []\n",
    "\n",
    "for i, abstract in enumerate(docs):\n",
    "    if ('coronavirus' in abstract): \n",
    "        term_match_idx.append(i)\n",
    "        "
   ]
  },
  {
   "cell_type": "code",
   "execution_count": 6,
   "metadata": {},
   "outputs": [
    {
     "data": {
      "text/plain": [
       "541"
      ]
     },
     "execution_count": 6,
     "metadata": {},
     "output_type": "execute_result"
    }
   ],
   "source": [
    "len(term_match_idx) "
   ]
  },
  {
   "cell_type": "code",
   "execution_count": null,
   "metadata": {},
   "outputs": [],
   "source": []
  },
  {
   "cell_type": "code",
   "execution_count": null,
   "metadata": {},
   "outputs": [],
   "source": []
  },
  {
   "cell_type": "markdown",
   "metadata": {},
   "source": [
    "### Helper Functions"
   ]
  },
  {
   "cell_type": "code",
   "execution_count": 7,
   "metadata": {},
   "outputs": [],
   "source": [
    "# Create binary query vector \n",
    "\n",
    "def create_query(words, terms):\n",
    "    \n",
    "    # words: search query words\n",
    "    # terms: terms in corpus\n",
    "    \n",
    "    q = np.zeros(len(terms))  # number of terms\n",
    "\n",
    "    idx = []\n",
    "    for word in query_words:\n",
    "        idx.append(terms.index(word))\n",
    "\n",
    "    q[idx] = 1\n",
    "    \n",
    "    return q"
   ]
  },
  {
   "cell_type": "code",
   "execution_count": 8,
   "metadata": {},
   "outputs": [],
   "source": [
    "def return_top_abstracts(scores, top_n):\n",
    "    \n",
    "    '''\n",
    "    docs: Series that contains abstract\n",
    "    scores: scores of abstracts\n",
    "    top_n: return the top_n abstracts given by idx, if top_n = -1 return all abstracts\n",
    "    '''\n",
    "    # sort scores in descending order\n",
    "    scores_sorted_idx = np.argsort(scores)[::-1]\n",
    "    \n",
    "    if top_n == -1:\n",
    "        #n = sum(scores > 0)\n",
    "        ix = scores_sorted_idx #[:n]\n",
    "    else:\n",
    "        ix = scores_sorted_idx[:top_n]\n",
    "    \n",
    "    #print(ix[0:10])\n",
    "    \n",
    "    return ix\n",
    "    "
   ]
  },
  {
   "cell_type": "code",
   "execution_count": 9,
   "metadata": {},
   "outputs": [],
   "source": [
    "def create_result_df(abstracts, scores):\n",
    "    \n",
    "    df = pd.DataFrame()\n",
    "    df[\"abstracts\"] = abstracts\n",
    "    df[\"scores\"] = scores\n",
    "    \n",
    "    return df"
   ]
  },
  {
   "cell_type": "code",
   "execution_count": null,
   "metadata": {},
   "outputs": [],
   "source": []
  },
  {
   "cell_type": "code",
   "execution_count": 10,
   "metadata": {},
   "outputs": [],
   "source": [
    "# Find doc-term matrix using TF-IDF weighting\n",
    "\n",
    "tf_idf_vectorizer = TfidfVectorizer()\n",
    "tf_idf = tf_idf_vectorizer.fit_transform(docs)\n",
    "\n",
    "tf_idf_terms = tf_idf_vectorizer.get_feature_names()"
   ]
  },
  {
   "cell_type": "code",
   "execution_count": 11,
   "metadata": {},
   "outputs": [
    {
     "data": {
      "text/plain": [
       "1278210"
      ]
     },
     "execution_count": 11,
     "metadata": {},
     "output_type": "execute_result"
    }
   ],
   "source": [
    "len(tf_idf_terms)"
   ]
  },
  {
   "cell_type": "code",
   "execution_count": 12,
   "metadata": {},
   "outputs": [
    {
     "name": "stdout",
     "output_type": "stream",
     "text": [
      "abetacoronavirus\n",
      "acoronavirus\n",
      "andcoronaviruse\n",
      "anycoronavirus\n",
      "arecoronavirus\n",
      "ascoronaviruse\n",
      "bat_coronaviruse\n",
      "beta_coronavirus\n",
      "betacoronavirus\n",
      "betacoronaviruse\n",
      "carriedcoronavirus\n",
      "coronavirus\n",
      "coronavirus_cov\n",
      "coronavirus_hcov\n",
      "coronavirus_hcov_emc\n",
      "coronavirus_mers_cov\n",
      "coronavirus_nl63\n",
      "coronavirus_papain\n",
      "coronavirus_sar\n",
      "coronavirus_sar_cov\n",
      "coronavirus_sars\n",
      "coronavirus_sars_cov\n",
      "coronavirus_spike\n",
      "coronavirusand\n",
      "coronaviruse\n",
      "coronaviruse_cov\n",
      "coronaviruse_hcov\n",
      "coronaviruses\n",
      "coronavirusesinteract\n",
      "forcoronavirus\n",
      "gammacoronavirus\n",
      "manycoronavirus\n",
      "mers_coronavirus\n",
      "neurotropic_coronavirus\n",
      "ofcoronaviruse\n",
      "othercoronaviruse\n",
      "pan_anticoronavirus\n",
      "pan_coronavirus\n",
      "peritonitiscoronavirus\n",
      "respiratorycoronavirus\n",
      "sar_coronavirus\n",
      "sar_coronavirus_sar_cov\n",
      "sars_coronavirus\n",
      "sars_coronavirus_sars_cov\n",
      "syndrome_coronavirus_mers\n",
      "syndromecoronavirus\n",
      "thatcoronaviruse\n",
      "thecoronavirus\n",
      "tractable_sar_coronavirus\n",
      "49\n"
     ]
    }
   ],
   "source": [
    "count = 0\n",
    "\n",
    "for term in tf_idf_terms:\n",
    "    if 'coronavirus' in term:\n",
    "        print(term)\n",
    "        count = count + 1\n",
    "        \n",
    "print(count)"
   ]
  },
  {
   "cell_type": "code",
   "execution_count": null,
   "metadata": {},
   "outputs": [],
   "source": []
  },
  {
   "cell_type": "code",
   "execution_count": null,
   "metadata": {},
   "outputs": [],
   "source": []
  },
  {
   "cell_type": "markdown",
   "metadata": {},
   "source": [
    "#### Word Cloud"
   ]
  },
  {
   "cell_type": "code",
   "execution_count": 13,
   "metadata": {},
   "outputs": [],
   "source": [
    "# Find doc-term matrix for word cloud\n",
    "\n",
    "vectorizer = CountVectorizer()\n",
    "dtm = vectorizer.fit_transform(docs)\n",
    "\n",
    "terms = vectorizer.get_feature_names()"
   ]
  },
  {
   "cell_type": "code",
   "execution_count": 14,
   "metadata": {},
   "outputs": [
    {
     "data": {
      "text/plain": [
       "(696093, 1278210)"
      ]
     },
     "execution_count": 14,
     "metadata": {},
     "output_type": "execute_result"
    }
   ],
   "source": [
    "dtm.shape"
   ]
  },
  {
   "cell_type": "code",
   "execution_count": 15,
   "metadata": {},
   "outputs": [],
   "source": [
    "term_counts = dtm.sum(axis=0)"
   ]
  },
  {
   "cell_type": "code",
   "execution_count": 16,
   "metadata": {},
   "outputs": [],
   "source": [
    "d = {}\n",
    "\n",
    "for i, term in enumerate(terms):\n",
    "    if 'coronavirus' in term:\n",
    "        #print(term)\n",
    "        d[term] = term_counts[0,i]"
   ]
  },
  {
   "cell_type": "code",
   "execution_count": 17,
   "metadata": {},
   "outputs": [
    {
     "data": {
      "text/plain": [
       "{'abetacoronavirus': 1,\n",
       " 'acoronavirus': 1,\n",
       " 'andcoronaviruse': 1,\n",
       " 'anycoronavirus': 1,\n",
       " 'arecoronavirus': 4,\n",
       " 'ascoronaviruse': 1,\n",
       " 'bat_coronaviruse': 21,\n",
       " 'beta_coronavirus': 4,\n",
       " 'betacoronavirus': 18,\n",
       " 'betacoronaviruse': 11,\n",
       " 'carriedcoronavirus': 1,\n",
       " 'coronavirus': 417,\n",
       " 'coronavirus_cov': 12,\n",
       " 'coronavirus_hcov': 5,\n",
       " 'coronavirus_hcov_emc': 10,\n",
       " 'coronavirus_mers_cov': 6,\n",
       " 'coronavirus_nl63': 9,\n",
       " 'coronavirus_papain': 6,\n",
       " 'coronavirus_sar': 2,\n",
       " 'coronavirus_sar_cov': 13,\n",
       " 'coronavirus_sars': 7,\n",
       " 'coronavirus_sars_cov': 48,\n",
       " 'coronavirus_spike': 15,\n",
       " 'coronavirusand': 5,\n",
       " 'coronaviruse': 330,\n",
       " 'coronaviruse_cov': 24,\n",
       " 'coronaviruse_hcov': 14,\n",
       " 'coronaviruses': 3,\n",
       " 'coronavirusesinteract': 1,\n",
       " 'forcoronavirus': 1,\n",
       " 'gammacoronavirus': 1,\n",
       " 'manycoronavirus': 1,\n",
       " 'mers_coronavirus': 11,\n",
       " 'neurotropic_coronavirus': 12,\n",
       " 'ofcoronaviruse': 1,\n",
       " 'othercoronaviruse': 1,\n",
       " 'pan_anticoronavirus': 1,\n",
       " 'pan_coronavirus': 1,\n",
       " 'peritonitiscoronavirus': 1,\n",
       " 'respiratorycoronavirus': 1,\n",
       " 'sar_coronavirus': 53,\n",
       " 'sar_coronavirus_sar_cov': 3,\n",
       " 'sars_coronavirus': 60,\n",
       " 'sars_coronavirus_sars_cov': 29,\n",
       " 'syndrome_coronavirus_mers': 38,\n",
       " 'syndromecoronavirus': 2,\n",
       " 'thatcoronaviruse': 3,\n",
       " 'thecoronavirus': 1,\n",
       " 'tractable_sar_coronavirus': 16}"
      ]
     },
     "execution_count": 17,
     "metadata": {},
     "output_type": "execute_result"
    }
   ],
   "source": [
    "d"
   ]
  },
  {
   "cell_type": "code",
   "execution_count": 18,
   "metadata": {},
   "outputs": [
    {
     "data": {
      "text/plain": [
       "49"
      ]
     },
     "execution_count": 18,
     "metadata": {},
     "output_type": "execute_result"
    }
   ],
   "source": [
    "len(d)"
   ]
  },
  {
   "cell_type": "code",
   "execution_count": 19,
   "metadata": {},
   "outputs": [
    {
     "data": {
      "image/png": "[encoded data removed]",
      "text/plain": [
       "<Figure size 432x288 with 1 Axes>"
      ]
     },
     "metadata": {
      "needs_background": "light"
     },
     "output_type": "display_data"
    }
   ],
   "source": [
    "from wordcloud import WordCloud\n",
    "\n",
    "wordcloud = WordCloud(width=900, height= 500, scale=1, max_words = 25, background_color='white').generate_from_frequencies(d)\n",
    "\n",
    "plt.imshow(wordcloud, interpolation='bilinear')\n",
    "plt.axis(\"off\")\n",
    "plt.savefig(\"cor_wc.png\", dpi = 800, bbox_inches = \"tight\")\n",
    "plt.show()"
   ]
  },
  {
   "cell_type": "code",
   "execution_count": null,
   "metadata": {},
   "outputs": [],
   "source": []
  },
  {
   "cell_type": "code",
   "execution_count": null,
   "metadata": {},
   "outputs": [],
   "source": []
  },
  {
   "cell_type": "markdown",
   "metadata": {},
   "source": [
    "## Latent Semantic Indexing (LSI)"
   ]
  },
  {
   "cell_type": "code",
   "execution_count": 13,
   "metadata": {},
   "outputs": [],
   "source": [
    "# CHANGE QUERY WORDS HERE\n",
    "\n",
    "query_words = []\n",
    "\n",
    "for word in tf_idf_terms:\n",
    "    if 'coronavirus' in word:\n",
    "        query_words.append(word)\n",
    "\n",
    "#query_words = ['pandemic', 'pandemics'] \n",
    "              \n",
    "q = create_query(query_words, tf_idf_terms)"
   ]
  },
  {
   "cell_type": "code",
   "execution_count": 14,
   "metadata": {},
   "outputs": [
    {
     "data": {
      "text/plain": [
       "['abetacoronavirus',\n",
       " 'acoronavirus',\n",
       " 'andcoronaviruse',\n",
       " 'anycoronavirus',\n",
       " 'arecoronavirus',\n",
       " 'ascoronaviruse',\n",
       " 'bat_coronaviruse',\n",
       " 'beta_coronavirus',\n",
       " 'betacoronavirus',\n",
       " 'betacoronaviruse',\n",
       " 'carriedcoronavirus',\n",
       " 'coronavirus',\n",
       " 'coronavirus_cov',\n",
       " 'coronavirus_hcov',\n",
       " 'coronavirus_hcov_emc',\n",
       " 'coronavirus_mers_cov',\n",
       " 'coronavirus_nl63',\n",
       " 'coronavirus_papain',\n",
       " 'coronavirus_sar',\n",
       " 'coronavirus_sar_cov',\n",
       " 'coronavirus_sars',\n",
       " 'coronavirus_sars_cov',\n",
       " 'coronavirus_spike',\n",
       " 'coronavirusand',\n",
       " 'coronaviruse',\n",
       " 'coronaviruse_cov',\n",
       " 'coronaviruse_hcov',\n",
       " 'coronaviruses',\n",
       " 'coronavirusesinteract',\n",
       " 'forcoronavirus',\n",
       " 'gammacoronavirus',\n",
       " 'manycoronavirus',\n",
       " 'mers_coronavirus',\n",
       " 'neurotropic_coronavirus',\n",
       " 'ofcoronaviruse',\n",
       " 'othercoronaviruse',\n",
       " 'pan_anticoronavirus',\n",
       " 'pan_coronavirus',\n",
       " 'peritonitiscoronavirus',\n",
       " 'respiratorycoronavirus',\n",
       " 'sar_coronavirus',\n",
       " 'sar_coronavirus_sar_cov',\n",
       " 'sars_coronavirus',\n",
       " 'sars_coronavirus_sars_cov',\n",
       " 'syndrome_coronavirus_mers',\n",
       " 'syndromecoronavirus',\n",
       " 'thatcoronaviruse',\n",
       " 'thecoronavirus',\n",
       " 'tractable_sar_coronavirus']"
      ]
     },
     "execution_count": 14,
     "metadata": {},
     "output_type": "execute_result"
    }
   ],
   "source": [
    "query_words"
   ]
  },
  {
   "cell_type": "code",
   "execution_count": 15,
   "metadata": {},
   "outputs": [
    {
     "data": {
      "text/plain": [
       "49"
      ]
     },
     "execution_count": 15,
     "metadata": {},
     "output_type": "execute_result"
    }
   ],
   "source": [
    "len(query_words)"
   ]
  },
  {
   "cell_type": "code",
   "execution_count": null,
   "metadata": {},
   "outputs": [],
   "source": []
  },
  {
   "cell_type": "code",
   "execution_count": 16,
   "metadata": {},
   "outputs": [],
   "source": [
    "# Find the Truncated SVD of the TF-IDF matrix\n",
    "\n",
    "lsa = TruncatedSVD(n_components=50, random_state=1)  # CHANGE THE NUMBER OF COMPONENTS - NOTE: MORE COMPONENTS \n",
    "                                                      # GIVES YOU A MORE ACCURATE APPROXIMATION OF THE DOC-TERM \n",
    "                                                      # MATRIX, BUT IS ALSO MORE EXPENSIVE AND MAY NOT LEAD TO THE \n",
    "                                                      # BEST INFO RETRIEVAL RESULTS.\n",
    "USigma = lsa.fit_transform(tf_idf)\n",
    "Vtrans = lsa.components_"
   ]
  },
  {
   "cell_type": "code",
   "execution_count": 17,
   "metadata": {},
   "outputs": [],
   "source": [
    "S = lsa.singular_values_"
   ]
  },
  {
   "cell_type": "code",
   "execution_count": 18,
   "metadata": {},
   "outputs": [
    {
     "data": {
      "text/plain": [
       "array([126.2026823 ,  75.50207405,  58.61957317,  53.70609248,\n",
       "        53.36235746,  48.98076647,  45.11536839,  42.34263352,\n",
       "        39.78461328,  38.50170746,  37.75460958,  36.86680447,\n",
       "        35.77699442,  34.187326  ,  33.6845451 ,  33.14176657,\n",
       "        32.57960967,  31.90029149,  31.330768  ,  31.25763889,\n",
       "        30.66783579,  30.32479277,  30.04793135,  29.6305617 ,\n",
       "        29.09908964,  28.83356198,  28.7106275 ,  28.4572269 ,\n",
       "        28.19216753,  27.92769557,  27.44585017,  27.20000949,\n",
       "        26.65938306,  26.55558445,  26.18490167,  26.01166586,\n",
       "        25.82502699,  25.64733363,  25.54309587,  25.39677687,\n",
       "        25.18133438,  24.98979787,  24.84571794,  24.7454733 ,\n",
       "        24.56094518,  24.36732609,  24.08132006,  23.84525827,\n",
       "        23.57788701,  23.49980015])"
      ]
     },
     "execution_count": 18,
     "metadata": {},
     "output_type": "execute_result"
    }
   ],
   "source": [
    "S"
   ]
  },
  {
   "cell_type": "code",
   "execution_count": 19,
   "metadata": {},
   "outputs": [],
   "source": [
    "# transform query to be in same space as documents\n",
    "\n",
    "q = q.reshape(1,-1)  # changes (n,) vector to (1,n)\n",
    "qhat = lsa.transform(q)"
   ]
  },
  {
   "cell_type": "code",
   "execution_count": null,
   "metadata": {},
   "outputs": [],
   "source": []
  },
  {
   "cell_type": "markdown",
   "metadata": {},
   "source": [
    "##### checking query transform"
   ]
  },
  {
   "cell_type": "code",
   "execution_count": 33,
   "metadata": {},
   "outputs": [],
   "source": [
    "temp = np.dot(Vtrans,np.transpose(q))  # temp = qhat = qV or V'q'"
   ]
  },
  {
   "cell_type": "code",
   "execution_count": 55,
   "metadata": {},
   "outputs": [
    {
     "data": {
      "text/plain": [
       "array([[-0.00101137],\n",
       "       [ 0.00201684],\n",
       "       [-0.00053209],\n",
       "       [-0.00579364],\n",
       "       [-0.00516376],\n",
       "       [ 0.0005446 ],\n",
       "       [-0.00431415],\n",
       "       [ 0.00118177],\n",
       "       [ 0.00039139],\n",
       "       [ 0.00626149]])"
      ]
     },
     "execution_count": 55,
     "metadata": {},
     "output_type": "execute_result"
    }
   ],
   "source": [
    "temp[40:50]"
   ]
  },
  {
   "cell_type": "code",
   "execution_count": 56,
   "metadata": {},
   "outputs": [
    {
     "data": {
      "text/plain": [
       "array([-0.00101137,  0.00201684, -0.00053209, -0.00579364, -0.00516376,\n",
       "        0.0005446 , -0.00431415,  0.00118177,  0.00039139,  0.00626149])"
      ]
     },
     "execution_count": 56,
     "metadata": {},
     "output_type": "execute_result"
    }
   ],
   "source": [
    "qhat[0][40:50]"
   ]
  },
  {
   "cell_type": "code",
   "execution_count": 42,
   "metadata": {},
   "outputs": [
    {
     "data": {
      "text/plain": [
       "0.0008727347076789069"
      ]
     },
     "execution_count": 42,
     "metadata": {},
     "output_type": "execute_result"
    }
   ],
   "source": [
    "temp[0][0]"
   ]
  },
  {
   "cell_type": "code",
   "execution_count": 44,
   "metadata": {},
   "outputs": [
    {
     "data": {
      "text/plain": [
       "0.000872734707678907"
      ]
     },
     "execution_count": 44,
     "metadata": {},
     "output_type": "execute_result"
    }
   ],
   "source": [
    "qhat[0][0]"
   ]
  },
  {
   "cell_type": "code",
   "execution_count": 45,
   "metadata": {},
   "outputs": [
    {
     "data": {
      "text/plain": [
       "False"
      ]
     },
     "execution_count": 45,
     "metadata": {},
     "output_type": "execute_result"
    }
   ],
   "source": [
    "temp[0][0] == qhat[0][0]  # numerical error"
   ]
  },
  {
   "cell_type": "code",
   "execution_count": null,
   "metadata": {},
   "outputs": [],
   "source": []
  },
  {
   "cell_type": "code",
   "execution_count": null,
   "metadata": {},
   "outputs": [],
   "source": []
  },
  {
   "cell_type": "markdown",
   "metadata": {},
   "source": [
    "##### back to LSI"
   ]
  },
  {
   "cell_type": "code",
   "execution_count": 20,
   "metadata": {},
   "outputs": [
    {
     "name": "stdout",
     "output_type": "stream",
     "text": [
      "(1, 50)\n",
      "(696093, 50)\n",
      "(50, 1278210)\n"
     ]
    }
   ],
   "source": [
    "print(qhat.shape)\n",
    "print(USigma.shape)\n",
    "print(Vtrans.shape)"
   ]
  },
  {
   "cell_type": "code",
   "execution_count": 21,
   "metadata": {},
   "outputs": [],
   "source": [
    "lsa_scores = cosine_similarity(qhat, USigma)    \n",
    "\n",
    "# Term-Matching: Aq = score    (q: col vector)\n",
    "# LSI: A = U_k*Simga_k*V_k',   Transform: A*V_k, q'V_k then cosine similarity  "
   ]
  },
  {
   "cell_type": "code",
   "execution_count": 22,
   "metadata": {},
   "outputs": [
    {
     "data": {
      "text/plain": [
       "365991"
      ]
     },
     "execution_count": 22,
     "metadata": {},
     "output_type": "execute_result"
    }
   ],
   "source": [
    "sum(lsa_scores[0] > 0)\n",
    "\n",
    "# 10: 447043\n",
    "# 50: 376366   |  365991\n",
    "# 100: 378149\n",
    "# 150: \n",
    "# 200: 361772\n",
    "# 500: "
   ]
  },
  {
   "cell_type": "code",
   "execution_count": 23,
   "metadata": {},
   "outputs": [
    {
     "data": {
      "image/png": "[encoded data removed]",
      "text/plain": [
       "<Figure size 432x288 with 1 Axes>"
      ]
     },
     "metadata": {
      "needs_background": "light"
     },
     "output_type": "display_data"
    }
   ],
   "source": [
    "plt.hist(lsa_scores[0], bins = 30);\n",
    "#plt.xlim(0.9, 1.1)"
   ]
  },
  {
   "cell_type": "code",
   "execution_count": 24,
   "metadata": {},
   "outputs": [
    {
     "data": {
      "text/plain": [
       "8478"
      ]
     },
     "execution_count": 24,
     "metadata": {},
     "output_type": "execute_result"
    }
   ],
   "source": [
    "#np.percentile(lsa_scores[0], 93)\n",
    "\n",
    "sum(lsa_scores[0] >= 0.5)#/len(lsa_scores[0])\n",
    "\n",
    "# 10: 37846\n",
    "# 50: 8454    | 8478\n",
    "# 100: 3340\n",
    "# 150: \n",
    "# 200: 1458\n",
    "# 500: "
   ]
  },
  {
   "cell_type": "code",
   "execution_count": 25,
   "metadata": {},
   "outputs": [
    {
     "data": {
      "text/plain": [
       "0.5438514208495959"
      ]
     },
     "execution_count": 25,
     "metadata": {},
     "output_type": "execute_result"
    }
   ],
   "source": [
    "np.percentile(lsa_scores[0], 99)"
   ]
  },
  {
   "cell_type": "code",
   "execution_count": 26,
   "metadata": {},
   "outputs": [
    {
     "data": {
      "text/plain": [
       "0.0007182948255477357"
      ]
     },
     "execution_count": 26,
     "metadata": {},
     "output_type": "execute_result"
    }
   ],
   "source": [
    "500/len(lsa_scores[0])"
   ]
  },
  {
   "cell_type": "code",
   "execution_count": null,
   "metadata": {},
   "outputs": [],
   "source": []
  },
  {
   "cell_type": "code",
   "execution_count": null,
   "metadata": {},
   "outputs": [],
   "source": []
  },
  {
   "cell_type": "code",
   "execution_count": 27,
   "metadata": {},
   "outputs": [
    {
     "data": {
      "text/plain": [
       "array([0.92406464, 0.92406464, 0.92406464, 0.92406464, 0.92406464,\n",
       "       0.92406464, 0.92366568, 0.92232341, 0.92189915, 0.92189915])"
      ]
     },
     "execution_count": 27,
     "metadata": {},
     "output_type": "execute_result"
    }
   ],
   "source": [
    "lsa_idx = return_top_abstracts(lsa_scores[0], -1)  # CHANGE NUMBER OF TOP DOCS RETURNED -- 500\n",
    "top_lsa_abstracts = docs[lsa_idx]\n",
    "\n",
    "# top scores\n",
    "lsa_scores[0][lsa_idx][0:10]"
   ]
  },
  {
   "cell_type": "code",
   "execution_count": 28,
   "metadata": {},
   "outputs": [
    {
     "data": {
      "text/plain": [
       "153067    molecular interaction medically important arth...\n",
       "326965    tick_bern_flaviviruse_tbfv belong family flavi...\n",
       "58235     influenza virus iav significant human pathogen...\n",
       "543732    grow concern naturally exist benign virus huma...\n",
       "645927    hepatitis virus hev enterically transmit virus...\n",
       "261633    influenza virus infection lung cause contagiou...\n",
       "296776    etiology parkinson disease multivariate range ...\n",
       "53031     mosquito host persistently_infect arthropod_be...\n",
       "361224    transmit mosquitoe dengue important reemerge_i...\n",
       "389417    influenza virus continue major threat global h...\n",
       "448622    local site characteristic largely control tran...\n",
       "496203    local site characteristic largely control tran...\n",
       "83695     virus family paramyxoviridae contain number im...\n",
       "530186    virus significant commercial application vecto...\n",
       "97135     chronic infection hepatitis virus hbv affect a...\n",
       "265913    hepatitis_c virus hcv positive strand rna viru...\n",
       "160632    paramyxovirus family virus undergo p_h indepen...\n",
       "396967    protein function dynamically control post_tran...\n",
       "409620    protein function dynamically control post_tran...\n",
       "33046     eastern_venezuelan western equine_encephalitis...\n",
       "173098    dengue_ice differential protein expression sal...\n",
       "431154    goal research program understanding virus diff...\n",
       "174585    year influenza carry bird worldwide stage zoon...\n",
       "60914     0943424karimintellectual merit eager proposal ...\n",
       "338930    0943424karimintellectual merit eager proposal ...\n",
       "dtype: object"
      ]
     },
     "execution_count": 28,
     "metadata": {},
     "output_type": "execute_result"
    }
   ],
   "source": [
    "top_lsa_abstracts[475:500]"
   ]
  },
  {
   "cell_type": "code",
   "execution_count": 29,
   "metadata": {},
   "outputs": [
    {
     "data": {
      "text/plain": [
       "'chikungunya_virus_chikv_alphavirus togaviridae_family important anddangerous viral pathogen spread world recent year chikv causeschikungunya fever severe arthralgia persist month dengue virus denv_chikv arthropod_bern virus arbovirus currently license vaccine ordrug available human use chikungunya_virus recently develop novel technology base rational computer aid genedesign term synthetic_attenuated virus engineering save attenuate minusstrand rna virus poliovirus influenza virus dengue virus recode genome tointroduce unfavored codon pair codon pair deoptimize virus successfullyattenuated tissue culture animal model propose extend saveapproach emerge dangerous viral pathogen chikungunya_virus pursue theisolation attenuate viral strain aid computer tailoredalgorithms recode genome chikv contain large segment encode protein p4 e2_e1 codon pair dis favor mammal base previous study expect recode chik virus similarly attenuate andwill serve possible live vaccine candidate'"
      ]
     },
     "execution_count": 29,
     "metadata": {},
     "output_type": "execute_result"
    }
   ],
   "source": [
    "top_lsa_abstracts.iloc[10]"
   ]
  },
  {
   "cell_type": "code",
   "execution_count": 30,
   "metadata": {},
   "outputs": [
    {
     "data": {
      "text/plain": [
       "array([0.82555099, 0.82499203, 0.82469718, 0.82469718, 0.82464396,\n",
       "       0.82457311, 0.82429068, 0.82427733, 0.82418579, 0.82418579])"
      ]
     },
     "execution_count": 30,
     "metadata": {},
     "output_type": "execute_result"
    }
   ],
   "source": [
    "lsa_scores[0][lsa_idx][490:500]"
   ]
  },
  {
   "cell_type": "code",
   "execution_count": 31,
   "metadata": {},
   "outputs": [
    {
     "data": {
      "text/plain": [
       "696093"
      ]
     },
     "execution_count": 31,
     "metadata": {},
     "output_type": "execute_result"
    }
   ],
   "source": [
    "len(lsa_idx)"
   ]
  },
  {
   "cell_type": "code",
   "execution_count": null,
   "metadata": {},
   "outputs": [],
   "source": []
  },
  {
   "cell_type": "code",
   "execution_count": null,
   "metadata": {},
   "outputs": [],
   "source": []
  },
  {
   "cell_type": "markdown",
   "metadata": {},
   "source": [
    "### How do LSI and Term Matching Overlap?"
   ]
  },
  {
   "cell_type": "code",
   "execution_count": 42,
   "metadata": {},
   "outputs": [],
   "source": [
    "# look at the intersection/difference -- nothing jumping out\n",
    "\n",
    "#temp = list(set(term_match_idx).intersection(set(lsa_idx[0:500])))\n",
    "temp = list(set(term_match_idx) - set(lsa_idx[0:500]))"
   ]
  },
  {
   "cell_type": "code",
   "execution_count": 43,
   "metadata": {},
   "outputs": [
    {
     "data": {
      "text/plain": [
       "522"
      ]
     },
     "execution_count": 43,
     "metadata": {},
     "output_type": "execute_result"
    }
   ],
   "source": [
    "len(temp)"
   ]
  },
  {
   "cell_type": "code",
   "execution_count": 46,
   "metadata": {},
   "outputs": [
    {
     "data": {
      "text/plain": [
       "\"DESCRIPTION (provided by applicant): This U19 application for a Multi-Investigator Program to examine Immune Mechanisms of Virus Control focuses on the role of CD8 + effector T-cells in orchestrating clearance of virus and in the control of tissue inflammation and injury associated with the host response to virus infection. Four highly interactive and synergistic Projects and two supporting scientific cores comprise program. These projects are designed to explore the role of innate immune cells (notably natural killer (NK) cells and dendritic cell/macrophages) and their products in regulating the development of effector CD8 + T cells which can efficiently eliminates virus/virus infected cells and control excess and potentially injurious inflammation associated with T cell recognition of viruses at different sites of infection. The Specific Aims of the Program fulfill several of the stated Aims of the RFA including understanding and defining the role of innate immune cells in regulating adaptive responses at different sites of virus infection.' This Program also deals with a topic as important as effective virus clearance that is the control of tissue inflammation and injury and explores the contribution of intrinsic mechanisms of control of tissue inflammation and injury exhibited by effector CD8 + T cells (i.e. effector T cell derived I L-10 and inhibitory NK receptor expression by the effector T cells). The Program brings together project leaders with unique expertise and diverse and complementary skills in the areas of Viral Immunology, Mammalian Genetics, Virology and Clinical Medicine. The individual Project Leaders and Core Directors have both prior and ongoing collaborations. In this program we proposed to examine the following questions: How does I L-10 (interleukin-10) produced by antiviral CD8 + effector T-cells affect virus clearance and control lung inflammation in acute respiratory virus infection and what factors control the production of this regulatory cytokine by effector T-cells (Project 1)?; 2. What is the nature of the defect in the CD8 + T-cell effector response to hepatotropic virus infection and adaptive immune induction in the liver and how do liver NK cells (and liver dendritic cell-NK cell interactions) regulate the magnitude and the quality of the CD8 + T cell response (Project 2)7; 3. How does NK cell mediated control of early virus replication at the site of infection in a secondary lymphoid organ i.e. the spleen, and the activation state of the NK cells, affect virus elimination and the tempo and quality of the antiviral CD8 + T cell response (Project 3)?; 4. What are the factors that control the expression of an inhibitory NK-type receptor NKG2A on CD8 + effector T cells and how does that engagement of this inhibitory receptor control excess Inflammation and inhibit immune pathology in the virus infected lungs (Project 4)?       PROJECT 1: lnterleukin-10 in acute respiratory virus infection (Braciale, T)    PROJECT 1 DESCRIPTION (provided by applicant): Pulmonary inflammation and injury is a frequent (and, in some instances, lethal) outcome of virus infections of the respiratory tract. Respiratory virus infection triggers a coordinated response from the host innate and adaptive immune systems. The host response is essential for virus clearance and recovery, but is also a significant cause of pulmonary injury that can accompany virus elimination. Relevant recent examples of this are the immune-mediated lung inflammation/injury observed in human infections with the SARS coronavirus and the H5N1 avian influenza viruses. The long-term goal of Project 1 is to define and characterize the interactions between cells of the innate immune system i.e. dendritic cells, monocyte/ macrophage, NK cells and adaptive immune effector T lymphocytes (Te) in the process of virus clearance and in the control of inflammation/injury during experimental virus infection of the respiratory tract.     The foundation for this application is our recent and unexpected findings in the murine model of type A influenza infection that anti-viral effector T-cells (both CD4 +Te and more prominently CD8 +Te) infiltrating the infected lungs produce high levels of the anti-inflammatory/regulatory cytokines IL-10 during the Te response to infection and virus elimination. Furthermore, we found that blocking the effect of Te-derived IL- 10 during infection results in increased pulmonary inflammation and lethal injury. Our evidence further suggests that this Te-derived IL-10 plays a central role in controlling the level of lung inflammation/injury produced by mononuclear cells infiltrating the infected lungs in response to virus infection and the proinflammatory mediators released by virus- immune (Te). We wish to analyze the expression and regulation of IL-10 and specifically Te-derived IL-10 in the infected lungs and the impact of this cytokine on the control of virus clearance and lung inflammation/injury. The aims of Project 1 are: 1. To evaluate the cellular sources and effects of IL-10 on influenza virus infection; 2. To analyze the regulation of IL-10 production by Te during influenza infection; 3. To determine the impact of viral infection on the production of Te-derived IL- 10. The proposed studies are designed to complement ongoing related studies in Projects 2, 3 and 4.\""
      ]
     },
     "execution_count": 46,
     "metadata": {},
     "output_type": "execute_result"
    }
   ],
   "source": [
    "df['ABSTRACT'].iloc[temp[10]]"
   ]
  },
  {
   "cell_type": "code",
   "execution_count": null,
   "metadata": {},
   "outputs": [],
   "source": []
  },
  {
   "cell_type": "code",
   "execution_count": 47,
   "metadata": {},
   "outputs": [],
   "source": [
    "# find term matching indices in sorted scores list\n",
    "\n",
    "tm_in_lsa_idx = []\n",
    "tm_lsa_score = []\n",
    "\n",
    "for i in term_match_idx:\n",
    "    j = list(lsa_idx).index(i)\n",
    "    tm_in_lsa_idx.append(j)\n",
    "    tm_lsa_score.append(lsa_scores[0][lsa_idx[j]])        "
   ]
  },
  {
   "cell_type": "code",
   "execution_count": 48,
   "metadata": {},
   "outputs": [
    {
     "data": {
      "text/plain": [
       "[982, 1959, 6554, 11097, 10678]"
      ]
     },
     "execution_count": 48,
     "metadata": {},
     "output_type": "execute_result"
    }
   ],
   "source": [
    "tm_in_lsa_idx[0:5]"
   ]
  },
  {
   "cell_type": "code",
   "execution_count": 49,
   "metadata": {},
   "outputs": [
    {
     "data": {
      "text/plain": [
       "[0.7841300736358632,\n",
       " 0.722311904482108,\n",
       " 0.5567541351947892,\n",
       " 0.43202322908715163,\n",
       " 0.4436881235139446]"
      ]
     },
     "execution_count": 49,
     "metadata": {},
     "output_type": "execute_result"
    }
   ],
   "source": [
    "tm_lsa_score[0:5]"
   ]
  },
  {
   "cell_type": "code",
   "execution_count": 50,
   "metadata": {},
   "outputs": [
    {
     "data": {
      "text/plain": [
       "0.7841300736358632"
      ]
     },
     "execution_count": 50,
     "metadata": {},
     "output_type": "execute_result"
    }
   ],
   "source": [
    "lsa_scores[0][lsa_idx[982]]"
   ]
  },
  {
   "cell_type": "code",
   "execution_count": 51,
   "metadata": {},
   "outputs": [
    {
     "data": {
      "text/plain": [
       "[13938, 14418, 14514, 15809, 16846]"
      ]
     },
     "execution_count": 51,
     "metadata": {},
     "output_type": "execute_result"
    }
   ],
   "source": [
    "term_match_idx[0:5]"
   ]
  },
  {
   "cell_type": "code",
   "execution_count": 52,
   "metadata": {},
   "outputs": [
    {
     "data": {
      "text/plain": [
       "0.7841300736358632"
      ]
     },
     "execution_count": 52,
     "metadata": {},
     "output_type": "execute_result"
    }
   ],
   "source": [
    "lsa_scores[0][13938]"
   ]
  },
  {
   "cell_type": "code",
   "execution_count": 53,
   "metadata": {},
   "outputs": [
    {
     "data": {
      "text/plain": [
       "0.5212492122649629"
      ]
     },
     "execution_count": 53,
     "metadata": {},
     "output_type": "execute_result"
    }
   ],
   "source": [
    "np.mean(tm_lsa_score)"
   ]
  },
  {
   "cell_type": "code",
   "execution_count": 54,
   "metadata": {},
   "outputs": [
    {
     "data": {
      "text/plain": [
       "count       541.000000\n",
       "mean      14120.927911\n",
       "std       25894.300427\n",
       "min          42.000000\n",
       "25%        2880.000000\n",
       "50%        6172.000000\n",
       "75%       13942.000000\n",
       "max      320802.000000\n",
       "dtype: float64"
      ]
     },
     "execution_count": 54,
     "metadata": {},
     "output_type": "execute_result"
    }
   ],
   "source": [
    "pd.Series(tm_in_lsa_idx).describe()"
   ]
  },
  {
   "cell_type": "code",
   "execution_count": 61,
   "metadata": {},
   "outputs": [
    {
     "name": "stdout",
     "output_type": "stream",
     "text": [
      "68803.79999999992\n"
     ]
    }
   ],
   "source": [
    "p_95 = np.percentile(tm_in_lsa_idx,97)\n",
    "print(p_95)"
   ]
  },
  {
   "cell_type": "code",
   "execution_count": 62,
   "metadata": {},
   "outputs": [
    {
     "data": {
      "text/plain": [
       "9.884282703604248"
      ]
     },
     "execution_count": 62,
     "metadata": {},
     "output_type": "execute_result"
    }
   ],
   "source": [
    "100*p_95/len(df)"
   ]
  },
  {
   "cell_type": "code",
   "execution_count": 3,
   "metadata": {},
   "outputs": [
    {
     "data": {
      "text/plain": [
       "9.884167776432172"
      ]
     },
     "execution_count": 3,
     "metadata": {},
     "output_type": "execute_result"
    }
   ],
   "source": [
    "100*68803/len(df)"
   ]
  },
  {
   "cell_type": "code",
   "execution_count": null,
   "metadata": {},
   "outputs": [],
   "source": []
  },
  {
   "cell_type": "markdown",
   "metadata": {},
   "source": [
    "#### Scratch work for choosing rank of Truncated SVD in LSI\n",
    "\n",
    "Note: ending indices should each be +1 more than they are."
   ]
  },
  {
   "cell_type": "code",
   "execution_count": 31,
   "metadata": {},
   "outputs": [
    {
     "name": "stdout",
     "output_type": "stream",
     "text": [
      "365450\n"
     ]
    },
    {
     "data": {
      "text/plain": [
       "541"
      ]
     },
     "execution_count": 31,
     "metadata": {},
     "output_type": "execute_result"
    }
   ],
   "source": [
    "print(len(set(lsa_idx) - set(term_match_idx)))  # worst possible: 2307\n",
    "\n",
    "# 50: \n",
    "# 100: \n",
    "# 150: \n",
    "# 200: 1358\n",
    "# 500: \n",
    "\n",
    "len(set(term_match_idx).intersection(set(lsa_idx)))\n",
    "\n",
    "# 200: 750"
   ]
  },
  {
   "cell_type": "code",
   "execution_count": 36,
   "metadata": {},
   "outputs": [],
   "source": [
    "#idx_50 = lsa_idx\n",
    "#idx_100 = lsa_idx\n",
    "#idx_150 = lsa_idx\n",
    "idx_200 = lsa_idx\n",
    "#idx_500 = lsa_idx"
   ]
  },
  {
   "cell_type": "code",
   "execution_count": 94,
   "metadata": {},
   "outputs": [
    {
     "data": {
      "text/plain": [
       "array([367176, 359975, 165083, 159197, 195614, 192354,  87187, 166197,\n",
       "       184972, 180905, 374680, 190758, 374655, 476818, 171274, 568853,\n",
       "       459330,  86152, 144080, 668292, 152978, 322361, 476180, 538655,\n",
       "       532055,  84518, 182902, 667807, 157238, 191261, 180040, 183565,\n",
       "       128226, 157053, 166876, 149957, 185250, 179546, 197965, 186328,\n",
       "       193129, 190281, 268571, 144236, 669417, 684269,  42243,  42640,\n",
       "       161305, 316242])"
      ]
     },
     "execution_count": 94,
     "metadata": {},
     "output_type": "execute_result"
    }
   ],
   "source": [
    "idx_50[0:50]"
   ]
  },
  {
   "cell_type": "code",
   "execution_count": 95,
   "metadata": {},
   "outputs": [
    {
     "data": {
      "text/plain": [
       "array([656975, 532055, 359975, 459330, 193129, 185250, 197965, 190281,\n",
       "       179546, 186328, 367176, 161305,  86152, 374655,  62424, 142717,\n",
       "       143762, 153784, 575566, 195614, 669417, 192354, 165083, 159197,\n",
       "       183565, 414286, 682087, 374680, 190758, 188496, 322361, 538655,\n",
       "       477013, 180905, 476818, 658186, 320839, 167280, 231632,  83536,\n",
       "       541212, 165820,  16487, 157676, 541197, 530525, 424368, 152028,\n",
       "       160659, 141163])"
      ]
     },
     "execution_count": 95,
     "metadata": {},
     "output_type": "execute_result"
    }
   ],
   "source": [
    "idx_100[0:50]"
   ]
  },
  {
   "cell_type": "code",
   "execution_count": 96,
   "metadata": {},
   "outputs": [
    {
     "data": {
      "text/plain": [
       "array([656975, 532055,  62424, 494325, 506772, 142717, 197965, 179546,\n",
       "       185250, 193129, 186328, 190281, 575566, 477013, 161305, 682087,\n",
       "       414286, 658186, 231632, 160659, 152028, 141163, 666335, 143762,\n",
       "       530525, 153784, 634389, 655408, 659636, 532037, 201626, 280520,\n",
       "       374655, 658791, 459330, 658997,  26944, 532890, 533383, 157676,\n",
       "       655518, 174376, 367176, 386563, 359975, 536105, 169713, 188496,\n",
       "       165820, 607701])"
      ]
     },
     "execution_count": 96,
     "metadata": {},
     "output_type": "execute_result"
    }
   ],
   "source": [
    "idx_150[0:50]"
   ]
  },
  {
   "cell_type": "code",
   "execution_count": 37,
   "metadata": {},
   "outputs": [
    {
     "data": {
      "text/plain": [
       "array([251567, 694614, 400298, 312429,  63939, 686135, 450560, 181224,\n",
       "       120973, 187716, 259114,  50405, 226490,  50465, 691128, 253153,\n",
       "       253072, 456505, 428232, 549592, 503734, 586295, 687086, 124010,\n",
       "        52086, 157425, 321654, 296776,  41918, 527529, 509432, 321751,\n",
       "       644592, 382461, 116918, 630413, 486450, 545306, 690188, 256396,\n",
       "       510252,  39172, 328393, 647298, 113438, 123684, 187309, 115512,\n",
       "       145686,  43995])"
      ]
     },
     "execution_count": 37,
     "metadata": {},
     "output_type": "execute_result"
    }
   ],
   "source": [
    "idx_200[0:50]"
   ]
  },
  {
   "cell_type": "code",
   "execution_count": 98,
   "metadata": {},
   "outputs": [
    {
     "data": {
      "text/plain": [
       "array([656975, 532055, 494325, 506772, 477013, 201626, 634389, 659636,\n",
       "        26944, 658186, 655408, 530525, 575566, 585717, 658997, 553218,\n",
       "        62424, 308156, 658791, 459220, 256803, 258900, 666335, 193129,\n",
       "       197965, 190281, 179546, 186328, 185250, 659738, 519707, 406123,\n",
       "       231632, 280520, 217136, 524203, 477077, 414286, 682087, 422364,\n",
       "       257015,  91293, 657896, 142717, 337268, 143762, 153784,  30019,\n",
       "       157676,  17508])"
      ]
     },
     "execution_count": 98,
     "metadata": {},
     "output_type": "execute_result"
    }
   ],
   "source": [
    "idx_500[0:50]"
   ]
  },
  {
   "cell_type": "code",
   "execution_count": 99,
   "metadata": {},
   "outputs": [],
   "source": [
    "#pickle.dump([idx_50, idx_100, idx_150, idx_200, idx_500], open('rank_test.sav','wb'))"
   ]
  },
  {
   "cell_type": "code",
   "execution_count": null,
   "metadata": {},
   "outputs": [],
   "source": [
    "# import saved data\n",
    "f = open('rank_test.sav', 'rb')\n",
    "[idx_50, idx_100, idx_150, idx_200, idx_500] = pickle.load(f)\n",
    "f.close()"
   ]
  },
  {
   "cell_type": "code",
   "execution_count": null,
   "metadata": {},
   "outputs": [],
   "source": []
  },
  {
   "cell_type": "code",
   "execution_count": 100,
   "metadata": {},
   "outputs": [
    {
     "name": "stdout",
     "output_type": "stream",
     "text": [
      "318\n",
      "--------\n",
      "555\n"
     ]
    }
   ],
   "source": [
    "print(len(set(idx_50[0:999]) - set(idx_100[0:999]))) \n",
    "\n",
    "print('--------')\n",
    "\n",
    "print(len(set(idx_50[0:1999]) - set(idx_100[0:1999]))) "
   ]
  },
  {
   "cell_type": "code",
   "execution_count": 101,
   "metadata": {},
   "outputs": [
    {
     "name": "stdout",
     "output_type": "stream",
     "text": [
      "551\n",
      "301\n",
      "------------\n",
      "956\n",
      "530\n"
     ]
    }
   ],
   "source": [
    "print(len(set(idx_50[0:999]) - set(idx_150[0:999])))\n",
    "print(len(set(idx_100[0:999]) - set(idx_150[0:999])))\n",
    "\n",
    "print('------------')\n",
    "\n",
    "print(len(set(idx_50[0:1999]) - set(idx_150[0:1999])))\n",
    "print(len(set(idx_100[0:1999]) - set(idx_150[0:1999])))"
   ]
  },
  {
   "cell_type": "code",
   "execution_count": 102,
   "metadata": {},
   "outputs": [
    {
     "name": "stdout",
     "output_type": "stream",
     "text": [
      "592\n",
      "370\n",
      "95\n",
      "--------\n",
      "1231\n",
      "856\n",
      "389\n"
     ]
    }
   ],
   "source": [
    "print(len(set(idx_50[0:999]) - set(idx_200[0:999])))\n",
    "print(len(set(idx_100[0:999]) - set(idx_200[0:999])))\n",
    "print(len(set(idx_150[0:999]) - set(idx_200[0:999])))\n",
    "\n",
    "print('--------')\n",
    "\n",
    "print(len(set(idx_50[0:1999]) - set(idx_200[0:1999])))\n",
    "print(len(set(idx_100[0:1999]) - set(idx_200[0:1999])))\n",
    "print(len(set(idx_150[0:1999]) - set(idx_200[0:1999])))"
   ]
  },
  {
   "cell_type": "code",
   "execution_count": 103,
   "metadata": {},
   "outputs": [
    {
     "name": "stdout",
     "output_type": "stream",
     "text": [
      "611\n",
      "399\n",
      "133\n",
      "55\n",
      "--------\n",
      "1259\n",
      "888\n",
      "433\n",
      "85\n"
     ]
    }
   ],
   "source": [
    "print(len(set(idx_50[0:999]) - set(idx_500[0:999])))\n",
    "print(len(set(idx_100[0:999]) - set(idx_500[0:999])))\n",
    "print(len(set(idx_150[0:999]) - set(idx_500[0:999])))\n",
    "print(len(set(idx_200[0:999]) - set(idx_500[0:999])))\n",
    "\n",
    "print('--------')\n",
    "\n",
    "print(len(set(idx_50[0:1999]) - set(idx_500[0:1999])))\n",
    "print(len(set(idx_100[0:1999]) - set(idx_500[0:1999])))\n",
    "print(len(set(idx_150[0:1999]) - set(idx_500[0:1999])))\n",
    "print(len(set(idx_200[0:1999]) - set(idx_500[0:1999])))"
   ]
  },
  {
   "cell_type": "code",
   "execution_count": null,
   "metadata": {},
   "outputs": [],
   "source": []
  },
  {
   "cell_type": "code",
   "execution_count": 43,
   "metadata": {},
   "outputs": [
    {
     "data": {
      "text/plain": [
       "0.8241857915021549"
      ]
     },
     "execution_count": 43,
     "metadata": {},
     "output_type": "execute_result"
    }
   ],
   "source": [
    "lsa_scores[0][lsa_idx][499]"
   ]
  },
  {
   "cell_type": "code",
   "execution_count": 120,
   "metadata": {},
   "outputs": [
    {
     "name": "stdout",
     "output_type": "stream",
     "text": [
      "181\n",
      "231\n",
      "146\n",
      "--------\n",
      "1323\n",
      "1216\n",
      "1300\n"
     ]
    }
   ],
   "source": [
    "# check overlap for the documents returned with cosine score > 0.5\n",
    "\n",
    "#sum(lsa_scores[0] >= 0.5)\n",
    "\n",
    "# 50: 9731\n",
    "# 100: 3520\n",
    "# 150: 1505\n",
    "# 200: 1447\n",
    "# 500: 1307\n",
    "\n",
    "print(len(set(idx_150[0:1504]) - set(idx_200[0:1446])))\n",
    "print(len(set(idx_150[0:1504]) - set(idx_500[0:1446])))\n",
    "print(len(set(idx_200[0:1446]) - set(idx_500[0:1306])))\n",
    "\n",
    "print('--------')\n",
    "\n",
    "print(len(set(idx_150[0:1504]).intersection(set(idx_200[0:1446]))))\n",
    "print(len(set(idx_150[0:1504]).intersection(set(idx_500[0:1306]))))\n",
    "print(len(set(idx_500[0:1306]).intersection(set(idx_200[0:1446]))))"
   ]
  },
  {
   "cell_type": "code",
   "execution_count": null,
   "metadata": {},
   "outputs": [],
   "source": []
  },
  {
   "cell_type": "code",
   "execution_count": null,
   "metadata": {},
   "outputs": [],
   "source": []
  },
  {
   "cell_type": "code",
   "execution_count": null,
   "metadata": {},
   "outputs": [],
   "source": []
  },
  {
   "cell_type": "markdown",
   "metadata": {},
   "source": [
    "## Create filtered corpus\n",
    "\n",
    "We use the results of our two information retrieval techniques to create a new, smaller corpus that only contains abstracts relevant to the query. "
   ]
  },
  {
   "cell_type": "code",
   "execution_count": 44,
   "metadata": {},
   "outputs": [],
   "source": [
    "docs_ix = np.concatenate([term_match_idx, lsa_idx]) "
   ]
  },
  {
   "cell_type": "code",
   "execution_count": 45,
   "metadata": {},
   "outputs": [],
   "source": [
    "docs_idx = np.unique(docs_ix)"
   ]
  },
  {
   "cell_type": "code",
   "execution_count": 46,
   "metadata": {},
   "outputs": [
    {
     "data": {
      "text/plain": [
       "(1022,)"
      ]
     },
     "execution_count": 46,
     "metadata": {},
     "output_type": "execute_result"
    }
   ],
   "source": [
    "docs_idx.shape"
   ]
  },
  {
   "cell_type": "code",
   "execution_count": null,
   "metadata": {},
   "outputs": [],
   "source": []
  },
  {
   "cell_type": "code",
   "execution_count": null,
   "metadata": {},
   "outputs": [],
   "source": [
    "# check where term-matching and lsi indices overlap"
   ]
  },
  {
   "cell_type": "code",
   "execution_count": 47,
   "metadata": {},
   "outputs": [],
   "source": [
    "tm = set(term_match_idx)\n",
    "lsi = set(lsa_idx)"
   ]
  },
  {
   "cell_type": "code",
   "execution_count": 48,
   "metadata": {},
   "outputs": [
    {
     "name": "stdout",
     "output_type": "stream",
     "text": [
      "19\n"
     ]
    }
   ],
   "source": [
    "both = tm.intersection(lsi)\n",
    "print(len(both))"
   ]
  },
  {
   "cell_type": "code",
   "execution_count": 49,
   "metadata": {},
   "outputs": [
    {
     "name": "stdout",
     "output_type": "stream",
     "text": [
      "541\n",
      "500\n"
     ]
    }
   ],
   "source": [
    "print(len(term_match_idx))\n",
    "print(len(lsa_idx))"
   ]
  },
  {
   "cell_type": "code",
   "execution_count": 50,
   "metadata": {},
   "outputs": [
    {
     "data": {
      "text/plain": [
       "522"
      ]
     },
     "execution_count": 50,
     "metadata": {},
     "output_type": "execute_result"
    }
   ],
   "source": [
    "541-19"
   ]
  },
  {
   "cell_type": "code",
   "execution_count": 51,
   "metadata": {},
   "outputs": [
    {
     "data": {
      "text/plain": [
       "481"
      ]
     },
     "execution_count": 51,
     "metadata": {},
     "output_type": "execute_result"
    }
   ],
   "source": [
    "500-19"
   ]
  },
  {
   "cell_type": "code",
   "execution_count": null,
   "metadata": {},
   "outputs": [],
   "source": []
  },
  {
   "cell_type": "code",
   "execution_count": null,
   "metadata": {},
   "outputs": [],
   "source": []
  },
  {
   "cell_type": "markdown",
   "metadata": {},
   "source": [
    "**create case-study corpuses**"
   ]
  },
  {
   "cell_type": "code",
   "execution_count": 52,
   "metadata": {},
   "outputs": [],
   "source": [
    "filt_corpus = df.loc[docs_idx, :]"
   ]
  },
  {
   "cell_type": "code",
   "execution_count": 53,
   "metadata": {},
   "outputs": [
    {
     "data": {
      "text/plain": [
       "(1022, 31)"
      ]
     },
     "execution_count": 53,
     "metadata": {},
     "output_type": "execute_result"
    }
   ],
   "source": [
    "filt_corpus.shape"
   ]
  },
  {
   "cell_type": "code",
   "execution_count": null,
   "metadata": {},
   "outputs": [],
   "source": []
  },
  {
   "cell_type": "code",
   "execution_count": 54,
   "metadata": {},
   "outputs": [],
   "source": [
    "filt_corpus.to_pickle(\"./coronavirus_corpus.pkl\")\n",
    "\n",
    "#pandemic_corpus = pd.read_pickle(\"/home/kjl5t/dspg20RnD/data/final/dashboard_data/pandemic_corpus.pkl\")\n",
    "#pandemic_corpus.shape"
   ]
  },
  {
   "cell_type": "code",
   "execution_count": 55,
   "metadata": {},
   "outputs": [],
   "source": [
    "lim_docs = filt_corpus[\"final_tokens\"]"
   ]
  },
  {
   "cell_type": "code",
   "execution_count": null,
   "metadata": {},
   "outputs": [],
   "source": []
  },
  {
   "cell_type": "code",
   "execution_count": 56,
   "metadata": {},
   "outputs": [],
   "source": [
    "# input needed for LDA, NMF (all from Scikit-Learn) is one string per document (not a list of strings)\n",
    "\n",
    "text = []\n",
    "\n",
    "for token_list in lim_docs:\n",
    "    text.append(\" \".join(token_list))"
   ]
  },
  {
   "cell_type": "code",
   "execution_count": 57,
   "metadata": {},
   "outputs": [
    {
     "data": {
      "text/plain": [
       "1022"
      ]
     },
     "execution_count": 57,
     "metadata": {},
     "output_type": "execute_result"
    }
   ],
   "source": [
    "len(lim_docs)"
   ]
  },
  {
   "cell_type": "code",
   "execution_count": null,
   "metadata": {},
   "outputs": [],
   "source": []
  },
  {
   "cell_type": "code",
   "execution_count": null,
   "metadata": {},
   "outputs": [],
   "source": []
  },
  {
   "cell_type": "markdown",
   "metadata": {},
   "source": [
    "## Topic Modeling with relevant pandemic abstracts"
   ]
  },
  {
   "cell_type": "code",
   "execution_count": 58,
   "metadata": {},
   "outputs": [],
   "source": [
    "# function slightly modified from https://nlpforhackers.io/topic-modeling/\n",
    "\n",
    "def print_topics(model, vectorizer, top_n=10):\n",
    "    for idx, topic in enumerate(model.components_):  # loop through each row of H.  idx = row index.  topic = actual row\n",
    "        print(\"\\nTopic %d:\" % (idx))\n",
    "        #print([(vectorizer.get_feature_names()[i], topic[i])  # printing out words corresponding to indices found in next line\n",
    "                        #for i in topic.argsort()[:-top_n - 1:-1]])  # finding indices of top words in topic\n",
    "            \n",
    "        print_list = [(vectorizer.get_feature_names()[i], topic[i])  \n",
    "                        for i in topic.argsort()[:-top_n - 1:-1]]\n",
    "        for item in print_list:\n",
    "            print(item)\n",
    "        "
   ]
  },
  {
   "cell_type": "code",
   "execution_count": 59,
   "metadata": {},
   "outputs": [],
   "source": [
    "# Create a TF-IDF document-term matrix for the coronavirus corpus \n",
    "\n",
    "# TRY DIFFERENT PARAMETERS IN THE TF-IDF DOC-TERM MATRIX SET-UP\n",
    "\n",
    "stop_wds = ['research', 'study', 'project']\n",
    "\n",
    "nmf_vectorizer = TfidfVectorizer(max_df=1.0, min_df=3, lowercase=False, stop_words=stop_wds)\n",
    "\n",
    "nmf_tf_idf = nmf_vectorizer.fit_transform(text)"
   ]
  },
  {
   "cell_type": "code",
   "execution_count": 60,
   "metadata": {},
   "outputs": [
    {
     "data": {
      "text/plain": [
       "(1022, 5383)"
      ]
     },
     "execution_count": 60,
     "metadata": {},
     "output_type": "execute_result"
    }
   ],
   "source": [
    "nmf_tf_idf.shape"
   ]
  },
  {
   "cell_type": "code",
   "execution_count": 61,
   "metadata": {},
   "outputs": [],
   "source": [
    "# topic modeling with NMF\n",
    "\n",
    "nmf_model = NMF(n_components=25, random_state=1)  # TRY DIFFERENT NUMBERS OF TOPICS\n",
    "W = nmf_model.fit_transform(nmf_tf_idf)\n",
    "H = nmf_model.components_"
   ]
  },
  {
   "cell_type": "code",
   "execution_count": 62,
   "metadata": {},
   "outputs": [
    {
     "name": "stdout",
     "output_type": "stream",
     "text": [
      "\n",
      "Topic 0:\n",
      "('replication', 1.3504304416929505)\n",
      "('rna', 1.3350147577790858)\n",
      "('protein', 1.3044787632797876)\n",
      "('viral', 0.925376504588184)\n",
      "('host', 0.8808893863796495)\n",
      "('coronavirus', 0.6041805357556755)\n",
      "('factor', 0.43241519900686276)\n",
      "('interaction', 0.424789520618751)\n",
      "('target', 0.3828641698156403)\n",
      "('cellular', 0.3815882840222217)\n",
      "\n",
      "Topic 1:\n",
      "('immune', 1.467970151560196)\n",
      "('polygenic', 0.9560642847423532)\n",
      "('trait', 0.7515794304961743)\n",
      "('regulate', 0.7200917388641046)\n",
      "('response', 0.6022644709140813)\n",
      "('protective', 0.554386742498629)\n",
      "('immunity', 0.5458349271400872)\n",
      "('kinetic', 0.48331884276384984)\n",
      "('phenotype', 0.45168292040798785)\n",
      "('diverse', 0.42309853774212347)\n",
      "\n",
      "Topic 2:\n",
      "('influenza', 1.6484545442026095)\n",
      "('virus', 0.8963847487360438)\n",
      "('1918', 0.5003029089630254)\n",
      "('pandemic', 0.41679956759484527)\n",
      "('human', 0.29324310617037447)\n",
      "('strain', 0.27411014695712393)\n",
      "('2009', 0.238825188046448)\n",
      "('avian', 0.22227539485489564)\n",
      "('autopsy', 0.20959839771050162)\n",
      "('people', 0.2090064735820787)\n",
      "\n",
      "Topic 3:\n",
      "('vaccine', 1.1923262862760846)\n",
      "('attenuate', 0.48684576873846475)\n",
      "('sars_cov', 0.4200870475641984)\n",
      "('sar_cov', 0.37000586372058486)\n",
      "('vector', 0.36926809362317425)\n",
      "('candidate', 0.3620445401020925)\n",
      "('protein', 0.3581559163148426)\n",
      "('sar', 0.30330302452809527)\n",
      "('live', 0.292059650559036)\n",
      "('virus', 0.29168590744789213)\n",
      "\n",
      "Topic 4:\n",
      "('cns', 0.7414725070393171)\n",
      "('mhv', 0.5943335793858245)\n",
      "('cell', 0.5469802015773927)\n",
      "('cn', 0.5264237750177689)\n",
      "('type', 0.4450522251833146)\n",
      "('induce', 0.39501071585226755)\n",
      "('chemokine', 0.3602900774140766)\n",
      "('demyelination', 0.35984837639140965)\n",
      "('oligodendrocyte', 0.33554161590056236)\n",
      "('infection', 0.33340737909723417)\n",
      "\n",
      "Topic 5:\n",
      "('fusion', 1.8254346550358986)\n",
      "('peptide', 1.1235867241150892)\n",
      "('protein', 0.5801192237574585)\n",
      "('dv', 0.48947972668095263)\n",
      "('membrane', 0.47250965913717546)\n",
      "('cv', 0.39364838358232923)\n",
      "('class', 0.3611825255262498)\n",
      "('entry', 0.27234591009830855)\n",
      "('spike', 0.2705949024163194)\n",
      "('s2', 0.23295117445211133)\n",
      "\n",
      "Topic 6:\n",
      "('gene', 0.8092278497036425)\n",
      "('uncharacterize', 0.711783285080895)\n",
      "('orf', 0.5464062083496175)\n",
      "('encode', 0.48156233426192363)\n",
      "('rp', 0.4544928877339708)\n",
      "('expression', 0.4341417568197914)\n",
      "('rna', 0.34577019916419216)\n",
      "('lav_ebov', 0.3177033141834772)\n",
      "('signal', 0.28863072208959245)\n",
      "('candidate', 0.28450179389860286)\n",
      "\n",
      "Topic 7:\n",
      "('entry', 1.2348848766180605)\n",
      "('cell', 0.5543226477590953)\n",
      "('gene', 0.49045816485390165)\n",
      "('virus', 0.4458350725807591)\n",
      "('cellular', 0.3958659420884772)\n",
      "('inhibitor', 0.36959461653693826)\n",
      "('host', 0.3376428327197513)\n",
      "('share', 0.3318217215979879)\n",
      "('receptor', 0.3303309742001844)\n",
      "('hit', 0.29163293935487966)\n",
      "\n",
      "Topic 8:\n",
      "('inhibitor', 0.7660663992527058)\n",
      "('structure', 0.5825338545517349)\n",
      "('protease', 0.4766848707815839)\n",
      "('crystal', 0.40988149615279873)\n",
      "('enzyme', 0.2855640924598801)\n",
      "('drug', 0.25909639428857395)\n",
      "('sclpro', 0.25508000353022253)\n",
      "('screen', 0.2471626985617975)\n",
      "('site', 0.21420596893493413)\n",
      "('chemical', 0.21396929553411564)\n",
      "\n",
      "Topic 9:\n",
      "('animal', 0.8722314382093754)\n",
      "('influenza', 0.7566160827555953)\n",
      "('bird', 0.5602658631480346)\n",
      "('surveillance', 0.552308132598713)\n",
      "('contact', 0.5271572717510343)\n",
      "('close', 0.5121092157658059)\n",
      "('characterization', 0.4335253577572516)\n",
      "('rapid', 0.4262554583445367)\n",
      "('limit', 0.36413231194209)\n",
      "('land', 0.3196647417787328)\n",
      "\n",
      "Topic 10:\n",
      "('assembly', 1.1345636189772845)\n",
      "('virus', 0.605139633871986)\n",
      "('capsid', 0.4592172152516297)\n",
      "('hcv', 0.4064652006080016)\n",
      "('particle', 0.32575691159526865)\n",
      "('protein', 0.29936412326311873)\n",
      "('structure', 0.2894602713962964)\n",
      "('nucleocapsid', 0.25584789350145914)\n",
      "('rna', 0.22719796000892997)\n",
      "('ns2', 0.22669285444660522)\n",
      "\n",
      "Topic 11:\n",
      "('ace2', 1.59513844360142)\n",
      "('epithelial', 0.4623169577914462)\n",
      "('sar_cov', 0.43655329222910955)\n",
      "('airway', 0.42338335104410707)\n",
      "('lung', 0.30617143265425006)\n",
      "('nl63_cov', 0.3044179978569351)\n",
      "('nl63', 0.2987151322309192)\n",
      "('sars_cov', 0.29265589843680956)\n",
      "('pulmonary', 0.28647021158016267)\n",
      "('sar', 0.28092206405076503)\n",
      "\n",
      "Topic 12:\n",
      "('receptor', 0.9203985251235006)\n",
      "('rbd', 0.5448950811823076)\n",
      "('bind', 0.4907827694951203)\n",
      "('spike', 0.43749733987550177)\n",
      "('antibody', 0.39031564502483523)\n",
      "('neutralize_antibody', 0.38615019598222305)\n",
      "('fc', 0.34676125221523457)\n",
      "('structure', 0.3447830031678145)\n",
      "('subunit', 0.31304418822446006)\n",
      "('protein', 0.2505048400627899)\n",
      "\n",
      "Topic 13:\n",
      "('il', 0.8061728154664164)\n",
      "('injury', 0.7907002618797584)\n",
      "('te', 0.7802477917149913)\n",
      "('lung', 0.5626809939357555)\n",
      "('inflammation', 0.5217193222068786)\n",
      "('infection', 0.37801379375481514)\n",
      "('pulmonary', 0.37420008143990025)\n",
      "('cell', 0.3611500699525186)\n",
      "('clearance', 0.3310704395453547)\n",
      "('effector', 0.3281490669986128)\n",
      "\n",
      "Topic 14:\n",
      "('swine', 1.4481689748027107)\n",
      "('influenza', 0.7238464470062062)\n",
      "('iaa', 0.5731540991442001)\n",
      "('relatedness', 0.5390126151089828)\n",
      "('quantification', 0.5236719885272071)\n",
      "('usa', 0.4778529469854946)\n",
      "('funding', 0.43523033268780636)\n",
      "('antigenic', 0.4091491698870366)\n",
      "('evaluation', 0.3821944676053043)\n",
      "('investigation', 0.36948962552235737)\n",
      "\n",
      "Topic 15:\n",
      "('zoonotic', 0.7010390956615153)\n",
      "('emerge', 0.6060171748422549)\n",
      "('bat_cov', 0.5478616133124905)\n",
      "('movement', 0.5154829085870059)\n",
      "('species', 0.49199399681982353)\n",
      "('biology', 0.4814249531291405)\n",
      "('synthetically', 0.4238404866436285)\n",
      "('human', 0.4065740903926448)\n",
      "('design', 0.4065294526235533)\n",
      "('concern', 0.3910149180432611)\n",
      "\n",
      "Topic 16:\n",
      "('ns1', 0.9039078669224009)\n",
      "('ifn', 0.6202531170477352)\n",
      "('rig', 0.5884827020360228)\n",
      "('trim25', 0.3450920287108956)\n",
      "('influenza', 0.2899152867429004)\n",
      "('inhibit', 0.26024273754865984)\n",
      "('virus', 0.25219112147597117)\n",
      "('protein', 0.24793369929673806)\n",
      "('antiviral', 0.22267662998899063)\n",
      "('response', 0.20709771222264695)\n",
      "\n",
      "Topic 17:\n",
      "('compound', 0.6600970687349451)\n",
      "('fidelity', 0.46969703465169377)\n",
      "('activity', 0.42405153662994277)\n",
      "('cov', 0.4111146916336973)\n",
      "('vivo', 0.337836665459499)\n",
      "('exon', 0.2986264671035062)\n",
      "('dengue', 0.2929556306455908)\n",
      "('core', 0.2927755937380316)\n",
      "('antiviral', 0.2655310462667167)\n",
      "('rna', 0.2543128887694958)\n",
      "\n",
      "Topic 18:\n",
      "('aged', 0.6740159709153418)\n",
      "('mouse', 0.6467239883257774)\n",
      "('response', 0.5972516207126173)\n",
      "('cell', 0.5584412139524789)\n",
      "('severe', 0.36907877414084217)\n",
      "('anti_virus', 0.34984128097675476)\n",
      "('young', 0.3257251128952255)\n",
      "('disease', 0.31132868550898635)\n",
      "('respiratory', 0.30550796349453246)\n",
      "('rdc', 0.27448073108094284)\n",
      "\n",
      "Topic 19:\n",
      "('mers_cov', 1.1507974457742602)\n",
      "('mers', 0.508119374504073)\n",
      "('dpp4', 0.44193791997118687)\n",
      "('cov', 0.2621180018444334)\n",
      "('mouse', 0.2526834518517171)\n",
      "('disease', 0.21911827401581255)\n",
      "('middle_east', 0.21095589258655761)\n",
      "('diabete', 0.18535030740769776)\n",
      "('lung', 0.17998400283784172)\n",
      "('model', 0.16829945608967034)\n",
      "\n",
      "Topic 20:\n",
      "('core', 0.7642064496768785)\n",
      "('hrv', 0.6063658652596652)\n",
      "('stock', 0.426593356422942)\n",
      "('virus', 0.27217704395718867)\n",
      "('recombinant', 0.2544529535088296)\n",
      "('asthma', 0.23639736143721243)\n",
      "('assay', 0.2164567546298457)\n",
      "('dr', 0.19354904295009914)\n",
      "('pi', 0.18139260437002316)\n",
      "('benefit', 0.16728550193799108)\n",
      "\n",
      "Topic 21:\n",
      "('novel', 0.4511018469966038)\n",
      "('virus', 0.29204174491119117)\n",
      "('identify', 0.2777480532847736)\n",
      "('thesedisease', 0.26879527541893494)\n",
      "('gastroenteritis', 0.2587190992209907)\n",
      "('comprehensive', 0.22147453304107412)\n",
      "('specimen', 0.2174175123401214)\n",
      "('encephalitis', 0.21605856515766858)\n",
      "('patient', 0.19848534319865344)\n",
      "('new', 0.19637802403902002)\n",
      "\n",
      "Topic 22:\n",
      "('disease', 0.5204754177417119)\n",
      "('infectious', 0.307699181350518)\n",
      "('respiratory', 0.25937416642421846)\n",
      "('develop', 0.2561044769195138)\n",
      "('health', 0.25162824095315034)\n",
      "('human', 0.248507113238051)\n",
      "('emerge', 0.23317411264165813)\n",
      "('animal', 0.22627200672229247)\n",
      "('clinical', 0.21784134632594213)\n",
      "('training', 0.21325362220639169)\n",
      "\n",
      "Topic 23:\n",
      "('virus', 1.1361552298423416)\n",
      "('host', 0.4566827650522547)\n",
      "('transmission', 0.25181571541330566)\n",
      "('viral', 0.21160186428234148)\n",
      "('interaction', 0.18308095345881834)\n",
      "('vector', 0.18118503510774855)\n",
      "('population', 0.16365386241088098)\n",
      "('infection', 0.15368492622857394)\n",
      "('infect', 0.15342850988516377)\n",
      "('genetic', 0.14254813402498165)\n",
      "\n",
      "Topic 24:\n",
      "('iav', 1.0722169006906208)\n",
      "('evolution', 0.6295768482852172)\n",
      "('ha', 0.27446494727156334)\n",
      "('transmission', 0.19823679195887225)\n",
      "('influenza', 0.197736635486849)\n",
      "('vaccination', 0.1942219744269497)\n",
      "('virus', 0.19128102525157736)\n",
      "('viral', 0.1694392025963885)\n",
      "('host', 0.16820002420160926)\n",
      "('understanding', 0.16740687333331145)\n"
     ]
    }
   ],
   "source": [
    "print_topics(nmf_model, nmf_vectorizer, 10)"
   ]
  },
  {
   "cell_type": "code",
   "execution_count": null,
   "metadata": {},
   "outputs": [],
   "source": []
  },
  {
   "cell_type": "code",
   "execution_count": null,
   "metadata": {},
   "outputs": [],
   "source": []
  },
  {
   "cell_type": "code",
   "execution_count": 63,
   "metadata": {},
   "outputs": [
    {
     "data": {
      "text/plain": [
       "(541,)"
      ]
     },
     "execution_count": 63,
     "metadata": {},
     "output_type": "execute_result"
    }
   ],
   "source": [
    "docs_ix = term_match_idx \n",
    "docs_idx = np.unique(docs_ix)\n",
    "docs_idx.shape"
   ]
  },
  {
   "cell_type": "code",
   "execution_count": 64,
   "metadata": {},
   "outputs": [
    {
     "name": "stdout",
     "output_type": "stream",
     "text": [
      "(541, 31)\n",
      "541\n"
     ]
    }
   ],
   "source": [
    "# topic model with just term matching\n",
    "\n",
    "filt_corpus2 = df.loc[docs_idx, :]\n",
    "print(filt_corpus2.shape)\n",
    "\n",
    "lim_docs = filt_corpus2[\"final_tokens\"]\n",
    "print(len(lim_docs))"
   ]
  },
  {
   "cell_type": "code",
   "execution_count": 65,
   "metadata": {},
   "outputs": [],
   "source": [
    "#filt_corpus2.to_pickle(\"./term-match-corpus.pkl\")"
   ]
  },
  {
   "cell_type": "code",
   "execution_count": 66,
   "metadata": {},
   "outputs": [],
   "source": [
    "# input needed for LDA, NMF (all from Scikit-Learn) is one string per document (not a list of strings)\n",
    "\n",
    "text = []\n",
    "\n",
    "for token_list in lim_docs:\n",
    "    text.append(\" \".join(token_list))"
   ]
  },
  {
   "cell_type": "code",
   "execution_count": 67,
   "metadata": {},
   "outputs": [
    {
     "name": "stdout",
     "output_type": "stream",
     "text": [
      "(541, 3855)\n"
     ]
    }
   ],
   "source": [
    "# Create a TF-IDF document-term matrix for the pandemics corpus \n",
    "\n",
    "# TRY DIFFERENT PARAMETERS IN THE TF-IDF DOC-TERM MATRIX SET-UP\n",
    "\n",
    "stop_wds = ['research', 'study', 'project']\n",
    "\n",
    "nmf_vectorizer2 = TfidfVectorizer(max_df=1.0, min_df=3, lowercase=True, stop_words=stop_wds)\n",
    "\n",
    "nmf_tf_idf2 = nmf_vectorizer2.fit_transform(text)\n",
    "print(nmf_tf_idf2.shape)"
   ]
  },
  {
   "cell_type": "code",
   "execution_count": 68,
   "metadata": {},
   "outputs": [
    {
     "name": "stderr",
     "output_type": "stream",
     "text": [
      "/apps/software/standard/compiler/gcc/9.2.0/jupyter_conda/2020.11-py3.8/lib/python3.8/site-packages/sklearn/decomposition/_nmf.py:1076: ConvergenceWarning: Maximum number of iterations 200 reached. Increase it to improve convergence.\n",
      "  warnings.warn(\"Maximum number of iterations %d reached. Increase it to\"\n"
     ]
    }
   ],
   "source": [
    "# topic modeling with NMF\n",
    "\n",
    "nmf_model2 = NMF(n_components=25, random_state=1)  # TRY DIFFERENT NUMBERS OF TOPICS\n",
    "W = nmf_model2.fit_transform(nmf_tf_idf2)\n",
    "H = nmf_model2.components_"
   ]
  },
  {
   "cell_type": "code",
   "execution_count": 69,
   "metadata": {},
   "outputs": [
    {
     "name": "stdout",
     "output_type": "stream",
     "text": [
      "\n",
      "Topic 0:\n",
      "('rna', 1.464355889701537)\n",
      "('protein', 1.1814201811880014)\n",
      "('replication', 0.8500011524299423)\n",
      "('coronavirus', 0.7820987316922132)\n",
      "('viral', 0.7068812157307511)\n",
      "('coronaviruse', 0.5634737824116579)\n",
      "('structure', 0.5623802778729222)\n",
      "('interaction', 0.5400634430941839)\n",
      "('virus', 0.5321837497299398)\n",
      "('genome', 0.5159597664004939)\n",
      "\n",
      "Topic 1:\n",
      "('immune', 0.8538781407110143)\n",
      "('polygenic', 0.5890003829898199)\n",
      "('trait', 0.4759151181918677)\n",
      "('regulate', 0.44325961279094883)\n",
      "('protective', 0.35607773674976523)\n",
      "('response', 0.3522545701192746)\n",
      "('immunity', 0.3485273823821013)\n",
      "('kinetic', 0.3118172708740275)\n",
      "('phenotype', 0.3055942283737496)\n",
      "('diverse', 0.2765213259929522)\n",
      "\n",
      "Topic 2:\n",
      "('disease', 0.5550989954904901)\n",
      "('lung', 0.5003308879716493)\n",
      "('develop', 0.38154010001092203)\n",
      "('prognostic_indicator', 0.36209806962503005)\n",
      "('severity', 0.3295844610947636)\n",
      "('model', 0.3251323044660871)\n",
      "('respiratory', 0.32141537853691055)\n",
      "('etiology', 0.31628348318099314)\n",
      "('human', 0.3095617542273428)\n",
      "('use', 0.30037558639986245)\n",
      "\n",
      "Topic 3:\n",
      "('vector', 0.6418909542236964)\n",
      "('vaccine', 0.6312778850834673)\n",
      "('ndv', 0.5219129875916318)\n",
      "('hpiv3', 0.42630206115517255)\n",
      "('dose', 0.2401728057933618)\n",
      "('challenge', 0.21100832758182497)\n",
      "('express', 0.20860815323942672)\n",
      "('protective', 0.20278234890034838)\n",
      "('virus', 0.19474730329644643)\n",
      "('develop', 0.168468368312363)\n",
      "\n",
      "Topic 4:\n",
      "('rbd', 0.6677951374540559)\n",
      "('neutralize_antibody', 0.5534313835066478)\n",
      "('receptor', 0.5128115154198982)\n",
      "('subunit', 0.5006921460149073)\n",
      "('vaccine', 0.4658060437079836)\n",
      "('spike', 0.43095954560242467)\n",
      "('mers_cov', 0.4241757096538054)\n",
      "('bind', 0.42073156617682095)\n",
      "('structure', 0.41085293885681956)\n",
      "('stabilize', 0.38539803383319843)\n",
      "\n",
      "Topic 5:\n",
      "('training', 0.9428502959920547)\n",
      "('student', 0.8002815832094616)\n",
      "('program', 0.6766221023269602)\n",
      "('virology', 0.5757194853979792)\n",
      "('epidemiology', 0.5492138895567769)\n",
      "('graduate', 0.5365427543968647)\n",
      "('award', 0.4628477436476147)\n",
      "('infectious', 0.41183954116862526)\n",
      "('faculty', 0.40335953089012333)\n",
      "('trainee', 0.37410700901740584)\n",
      "\n",
      "Topic 6:\n",
      "('ace2', 1.3559069100368446)\n",
      "('epithelial', 0.3747558376332386)\n",
      "('sar_cov', 0.3044088740163859)\n",
      "('nl63_cov', 0.2843245409649369)\n",
      "('nl63', 0.26766597999955777)\n",
      "('receptor', 0.26695827815554285)\n",
      "('aim', 0.2356271422740552)\n",
      "('pulmonary', 0.23088499706205884)\n",
      "('function', 0.22555821924098543)\n",
      "('sar', 0.21325747616143786)\n",
      "\n",
      "Topic 7:\n",
      "('te', 0.8873205005634597)\n",
      "('il', 0.879614838501898)\n",
      "('injury', 0.7979812959731584)\n",
      "('inflammation', 0.5396741890896419)\n",
      "('lung', 0.47059806712284574)\n",
      "('virus', 0.4163384487728843)\n",
      "('infection', 0.4020023871597041)\n",
      "('pulmonary', 0.3935160765561105)\n",
      "('effector', 0.317378026746326)\n",
      "('clearance', 0.30295395203108005)\n",
      "\n",
      "Topic 8:\n",
      "('core', 0.5991773443048728)\n",
      "('fidelity', 0.5770399879238943)\n",
      "('compound', 0.5274147513462616)\n",
      "('cov', 0.41966931696040954)\n",
      "('exon', 0.3752055416117329)\n",
      "('vivo', 0.3550309948916411)\n",
      "('activity', 0.33900244462270135)\n",
      "('capping', 0.3076652845443591)\n",
      "('resistance', 0.280578331657364)\n",
      "('rna', 0.24374257185361026)\n",
      "\n",
      "Topic 9:\n",
      "('entry', 0.8117406859680915)\n",
      "('gene', 0.4291652615966848)\n",
      "('virus', 0.3782420244296657)\n",
      "('share', 0.30562671833219973)\n",
      "('cell', 0.29162605241388395)\n",
      "('hit', 0.288094805326422)\n",
      "('host', 0.2875797989045569)\n",
      "('inhibitor', 0.2808383401716449)\n",
      "('screen', 0.22503342004627752)\n",
      "('identify', 0.21362140197846544)\n",
      "\n",
      "Topic 10:\n",
      "('mers_cov', 1.3595041962198704)\n",
      "('mers', 0.6738913422129246)\n",
      "('dpp4', 0.6159150727028606)\n",
      "('mouse', 0.35581356679596726)\n",
      "('disease', 0.33703229708709787)\n",
      "('cov', 0.33298490283308924)\n",
      "('infection', 0.27560046746302036)\n",
      "('diabete', 0.27559914598819646)\n",
      "('middle_east', 0.2727825076312543)\n",
      "('human', 0.2569364809717268)\n",
      "\n",
      "Topic 11:\n",
      "('gene', 0.9506615943831453)\n",
      "('uncharacterize', 0.8314784878929681)\n",
      "('rp', 0.6139921611508633)\n",
      "('encode', 0.44423039273055454)\n",
      "('lav_ebov', 0.4314919677771677)\n",
      "('virus', 0.34083011406791036)\n",
      "('function', 0.317275635546082)\n",
      "('product', 0.303804802541794)\n",
      "('signal', 0.3036402262883005)\n",
      "('hypothetical_orf_noncode', 0.2417672740827472)\n",
      "\n",
      "Topic 12:\n",
      "('fusion', 1.2086161234754953)\n",
      "('peptide', 0.7867401499276107)\n",
      "('protein', 0.3863988926647233)\n",
      "('spike', 0.29472085833963646)\n",
      "('membrane', 0.2705386645405615)\n",
      "('class', 0.2637603122090027)\n",
      "('entry', 0.23183801456990955)\n",
      "('receptor', 0.22631250197062203)\n",
      "('s2', 0.21479720337545208)\n",
      "('site', 0.19650856488988092)\n",
      "\n",
      "Topic 13:\n",
      "('orf', 1.235447131192796)\n",
      "('expression', 0.7172898265685449)\n",
      "('rna', 0.48229376665106266)\n",
      "('vector', 0.46637005345498567)\n",
      "('2012', 0.43588147686285345)\n",
      "('orf_noncode', 0.40965668508932956)\n",
      "('candidate', 0.40625430888582664)\n",
      "('lav', 0.35850696242770685)\n",
      "('emc', 0.353452532026645)\n",
      "('viral', 0.3436606736695518)\n",
      "\n",
      "Topic 14:\n",
      "('hrv', 1.328397267214927)\n",
      "('asthma', 0.5166502002042975)\n",
      "('assay', 0.35516073813314)\n",
      "('core', 0.3421910935002859)\n",
      "('ppg', 0.22267837389867384)\n",
      "('serotype', 0.2159522688307294)\n",
      "('detect', 0.20160685064650957)\n",
      "('strain', 0.2015494697813542)\n",
      "('virus', 0.15190986464328862)\n",
      "('enterovirus', 0.1328397267214927)\n",
      "\n",
      "Topic 15:\n",
      "('aged', 0.893708923867428)\n",
      "('response', 0.7253044834923488)\n",
      "('mouse', 0.7059739703095467)\n",
      "('cell', 0.5586287635637595)\n",
      "('anti_virus', 0.5156296355798907)\n",
      "('young', 0.46107146300842067)\n",
      "('severe', 0.41824360678263056)\n",
      "('rdc', 0.37041941148103186)\n",
      "('disease', 0.3590672571194253)\n",
      "('balb_c_mouse', 0.34248833082154384)\n",
      "\n",
      "Topic 16:\n",
      "('zoonotic', 0.5354284624286806)\n",
      "('emerge', 0.437662474171599)\n",
      "('bat_cov', 0.4074479559998141)\n",
      "('movement', 0.40287364857907404)\n",
      "('species', 0.35331939121884764)\n",
      "('biology', 0.34506387204744565)\n",
      "('synthetically', 0.32173300169397406)\n",
      "('concern', 0.3207967036676125)\n",
      "('design', 0.30853419139048427)\n",
      "('reconstruct', 0.3056413274418162)\n",
      "\n",
      "Topic 17:\n",
      "('oligodendrocyte', 0.5896984305076087)\n",
      "('cn', 0.5165388652641535)\n",
      "('persistent', 0.3898198277709895)\n",
      "('cell', 0.36895640438842253)\n",
      "('demyelination', 0.3501650519405067)\n",
      "('ifna', 0.29484921525380436)\n",
      "('type', 0.29321374580435383)\n",
      "('microglia_astrocyte', 0.28840350384214525)\n",
      "('thecn', 0.27995271671360616)\n",
      "('persistently_infect', 0.26686832726098214)\n",
      "\n",
      "Topic 18:\n",
      "('novel', 0.4627690323210339)\n",
      "('virus', 0.34307106392117503)\n",
      "('thesedisease', 0.2846961266826439)\n",
      "('gastroenteritis', 0.2846961266826439)\n",
      "('identify', 0.2664560135977973)\n",
      "('new', 0.2316991255120675)\n",
      "('specimen', 0.23119894911584993)\n",
      "('patient', 0.21878317114023516)\n",
      "('comprehensive', 0.21644998306003577)\n",
      "('encephalitis', 0.21558766588721867)\n",
      "\n",
      "Topic 19:\n",
      "('inhibitor', 0.6364924403998411)\n",
      "('structure', 0.4223041145318568)\n",
      "('protease', 0.375063324932773)\n",
      "('crystal', 0.3558893608285532)\n",
      "('enzyme', 0.2673865140505293)\n",
      "('screen', 0.2518319080075273)\n",
      "('drug', 0.2274767996329233)\n",
      "('sclpro', 0.2235276452545419)\n",
      "('cancer', 0.20298933093286448)\n",
      "('chemical', 0.1922137283594487)\n",
      "\n",
      "Topic 20:\n",
      "('mhv', 0.4798535825595291)\n",
      "('cns', 0.41088045541943596)\n",
      "('chemokine', 0.3321337910316038)\n",
      "('ifn', 0.2821668685390119)\n",
      "('ms', 0.22869038994504112)\n",
      "('hepatitis', 0.22502877925885406)\n",
      "('demyelinating', 0.202655092061762)\n",
      "('induce', 0.19063763996202332)\n",
      "('cell', 0.18402606313024444)\n",
      "('mouse', 0.1827295949223905)\n",
      "\n",
      "Topic 21:\n",
      "('cd8_t', 0.5995491084278723)\n",
      "('cell', 0.38494531150436195)\n",
      "('ifn', 0.3277649245454099)\n",
      "('interferon', 0.28863074281202)\n",
      "('type', 0.24019390164243729)\n",
      "('expression', 0.2356560018104278)\n",
      "('receptor', 0.2073645512406269)\n",
      "('antigen', 0.18745110998114956)\n",
      "('nkg2_aexpression', 0.18346017844825055)\n",
      "('inhibitory_nkg2a', 0.18346017844825055)\n",
      "\n",
      "Topic 22:\n",
      "('vaccine', 0.552788467137449)\n",
      "('protein', 0.4578947757503932)\n",
      "('attenuate', 0.3331553450803933)\n",
      "('sars_cov', 0.32077357123497424)\n",
      "('rsar_cov', 0.32037058362470333)\n",
      "('candidate', 0.2912377876296485)\n",
      "('delete', 0.2765519574479225)\n",
      "('construction', 0.27125873337199474)\n",
      "('sar_cov', 0.2652569394224066)\n",
      "('gene', 0.2546824744269541)\n",
      "\n",
      "Topic 23:\n",
      "('airway', 0.8950979495115364)\n",
      "('aav', 0.47990430471242107)\n",
      "('glycan', 0.2868219090921579)\n",
      "('tropism', 0.2815201488723217)\n",
      "('cell', 0.2075073592213291)\n",
      "('aav_serotype', 0.2039427841366396)\n",
      "('aav_capsid', 0.2039427841366396)\n",
      "('comprehensive', 0.1791260535554212)\n",
      "('aav_vector', 0.17399012850746162)\n",
      "('cystic_fibrosis', 0.16946475835721597)\n",
      "\n",
      "Topic 24:\n",
      "('mali', 0.6036760674027256)\n",
      "('lassa_virus', 0.5735194883632206)\n",
      "('uganda', 0.506208339252322)\n",
      "('health', 0.37974367746614873)\n",
      "('rodent', 0.2770784194074569)\n",
      "('animal', 0.25015862383762505)\n",
      "('pathogen', 0.2425911721847666)\n",
      "('surveillance', 0.2349448657628416)\n",
      "('start', 0.22095130064307042)\n",
      "('emerge', 0.2160657035191221)\n"
     ]
    }
   ],
   "source": [
    "print_topics(nmf_model2, nmf_vectorizer2, 10)"
   ]
  },
  {
   "cell_type": "code",
   "execution_count": null,
   "metadata": {},
   "outputs": [],
   "source": []
  },
  {
   "cell_type": "code",
   "execution_count": 70,
   "metadata": {},
   "outputs": [
    {
     "data": {
      "text/html": [
       "<div>\n",
       "<style scoped>\n",
       "    .dataframe tbody tr th:only-of-type {\n",
       "        vertical-align: middle;\n",
       "    }\n",
       "\n",
       "    .dataframe tbody tr th {\n",
       "        vertical-align: top;\n",
       "    }\n",
       "\n",
       "    .dataframe thead th {\n",
       "        text-align: right;\n",
       "    }\n",
       "</style>\n",
       "<table border=\"1\" class=\"dataframe\">\n",
       "  <thead>\n",
       "    <tr style=\"text-align: right;\">\n",
       "      <th></th>\n",
       "      <th>index</th>\n",
       "      <th>original index</th>\n",
       "      <th>PROJECT_ID</th>\n",
       "      <th>ABSTRACT</th>\n",
       "      <th>FY</th>\n",
       "      <th>PROJECT_TERMS</th>\n",
       "      <th>PROJECT_TITLE</th>\n",
       "      <th>DEPARTMENT</th>\n",
       "      <th>AGENCY</th>\n",
       "      <th>IC_CENTER</th>\n",
       "      <th>PROJECT_NUMBER</th>\n",
       "      <th>PROJECT_START_DATE</th>\n",
       "      <th>PROJECT_END_DATE</th>\n",
       "      <th>CONTACT_PI_PROJECT_LEADER</th>\n",
       "      <th>OTHER_PIS</th>\n",
       "      <th>CONGRESSIONAL_DISTRICT</th>\n",
       "      <th>DUNS_NUMBER</th>\n",
       "      <th>ORGANIZATION_NAME</th>\n",
       "      <th>ORGANIZATION_CITY</th>\n",
       "      <th>ORGANIZATION_STATE</th>\n",
       "      <th>ORGANIZATION_ZIP</th>\n",
       "      <th>ORGANIZATION_COUNTRY</th>\n",
       "      <th>BUDGET_START_DATE</th>\n",
       "      <th>BUDGET_END_DATE</th>\n",
       "      <th>CFDA_CODE</th>\n",
       "      <th>FY.y</th>\n",
       "      <th>FY_TOTAL_COST</th>\n",
       "      <th>FY_TOTAL_COST_SUB_PROJECTS</th>\n",
       "      <th>ORG_COUNT</th>\n",
       "      <th>PI_COUNT</th>\n",
       "      <th>final_tokens</th>\n",
       "    </tr>\n",
       "  </thead>\n",
       "  <tbody>\n",
       "    <tr>\n",
       "      <th>5122</th>\n",
       "      <td>5122</td>\n",
       "      <td>5608</td>\n",
       "      <td>95622</td>\n",
       "      <td>Host - virus interactions are greatly affected...</td>\n",
       "      <td>2008</td>\n",
       "      <td>Affect; Antiviral Agents; Area; Biochemical; D...</td>\n",
       "      <td>THE ROLE OF A HOST ION PUMP IN RNA VIRUS RECOM...</td>\n",
       "      <td>NSF</td>\n",
       "      <td>NSF</td>\n",
       "      <td>NaN</td>\n",
       "      <td>0817790</td>\n",
       "      <td>8/15/2008</td>\n",
       "      <td>7/31/2012</td>\n",
       "      <td>NAGY, PETER D</td>\n",
       "      <td>NaN</td>\n",
       "      <td>00</td>\n",
       "      <td>007400724</td>\n",
       "      <td>UNIVERSITY OF KENTUCKY</td>\n",
       "      <td>LEXINGTON</td>\n",
       "      <td>KY</td>\n",
       "      <td>40506-0057</td>\n",
       "      <td>UNITED STATES</td>\n",
       "      <td>NaN</td>\n",
       "      <td>NaN</td>\n",
       "      <td>47.074</td>\n",
       "      <td>2008</td>\n",
       "      <td>612000.0</td>\n",
       "      <td>NaN</td>\n",
       "      <td>1</td>\n",
       "      <td>1</td>\n",
       "      <td>[host, virus, interaction, greatly, affect, ex...</td>\n",
       "    </tr>\n",
       "    <tr>\n",
       "      <th>13938</th>\n",
       "      <td>13938</td>\n",
       "      <td>15726</td>\n",
       "      <td>152221</td>\n",
       "      <td>AbstractThe American Society for Virology (ASV...</td>\n",
       "      <td>2008</td>\n",
       "      <td>abstracting; Acquired Immunodeficiency Syndrom...</td>\n",
       "      <td>INTERNATIONAL CONGRESS OF VIROLOGY, ISTANBUL, ...</td>\n",
       "      <td>HHS</td>\n",
       "      <td>NIH</td>\n",
       "      <td>NIAID</td>\n",
       "      <td>1R13AI075719-01</td>\n",
       "      <td>2/1/2008</td>\n",
       "      <td>1/31/2009</td>\n",
       "      <td>SAWICKI, DOROTHEA L</td>\n",
       "      <td>NaN</td>\n",
       "      <td>09</td>\n",
       "      <td>807418939</td>\n",
       "      <td>UNIVERSITY OF TOLEDO HEALTH SCI CAMPUS</td>\n",
       "      <td>TOLEDO</td>\n",
       "      <td>OH</td>\n",
       "      <td>436142595</td>\n",
       "      <td>UNITED STATES</td>\n",
       "      <td>2/1/2008</td>\n",
       "      <td>1/31/2009</td>\n",
       "      <td>93.855</td>\n",
       "      <td>2008</td>\n",
       "      <td>30000.0</td>\n",
       "      <td>NaN</td>\n",
       "      <td>1</td>\n",
       "      <td>1</td>\n",
       "      <td>[american, society, virology_asv, wish, provid...</td>\n",
       "    </tr>\n",
       "    <tr>\n",
       "      <th>14418</th>\n",
       "      <td>14418</td>\n",
       "      <td>17118</td>\n",
       "      <td>153617</td>\n",
       "      <td>DESCRIPTION (provided by applicant):  Severe a...</td>\n",
       "      <td>2008</td>\n",
       "      <td>Abbreviations; Address; Alleles; Alphavirus; A...</td>\n",
       "      <td>SARS REVERSE GENETICS</td>\n",
       "      <td>HHS</td>\n",
       "      <td>NIH</td>\n",
       "      <td>NIAID</td>\n",
       "      <td>5R01AI059136-05</td>\n",
       "      <td>2/15/2004</td>\n",
       "      <td>1/31/2010</td>\n",
       "      <td>BARIC, RALPH S</td>\n",
       "      <td>NaN</td>\n",
       "      <td>04</td>\n",
       "      <td>608195277</td>\n",
       "      <td>UNIVERSITY OF NORTH CAROLINA CHAPEL HILL</td>\n",
       "      <td>CHAPEL HILL</td>\n",
       "      <td>NC</td>\n",
       "      <td>275990001</td>\n",
       "      <td>UNITED STATES</td>\n",
       "      <td>2/1/2008</td>\n",
       "      <td>1/31/2010</td>\n",
       "      <td>93.855</td>\n",
       "      <td>2008</td>\n",
       "      <td>271608.0</td>\n",
       "      <td>NaN</td>\n",
       "      <td>1</td>\n",
       "      <td>1</td>\n",
       "      <td>[severe, acute, respiratory, syndrome, life_th...</td>\n",
       "    </tr>\n",
       "    <tr>\n",
       "      <th>14514</th>\n",
       "      <td>14514</td>\n",
       "      <td>17384</td>\n",
       "      <td>153888</td>\n",
       "      <td>DESCRIPTION (provided by applicant): Human cor...</td>\n",
       "      <td>2008</td>\n",
       "      <td>Acute; Age-Years; Antigens; Archives; base; Bi...</td>\n",
       "      <td>EPIDEMIOLOGY AND CLINICAL FEATURES OF HUMAN CO...</td>\n",
       "      <td>HHS</td>\n",
       "      <td>NIH</td>\n",
       "      <td>NIAID</td>\n",
       "      <td>5R03AI068069-02</td>\n",
       "      <td>2/1/2007</td>\n",
       "      <td>1/31/2010</td>\n",
       "      <td>WILLIAMS, JOHN V</td>\n",
       "      <td>NaN</td>\n",
       "      <td>05</td>\n",
       "      <td>965717143</td>\n",
       "      <td>VANDERBILT UNIVERSITY</td>\n",
       "      <td>NASHVILLE</td>\n",
       "      <td>TN</td>\n",
       "      <td>372407749</td>\n",
       "      <td>UNITED STATES</td>\n",
       "      <td>2/1/2008</td>\n",
       "      <td>1/31/2010</td>\n",
       "      <td>93.855</td>\n",
       "      <td>2008</td>\n",
       "      <td>75292.0</td>\n",
       "      <td>NaN</td>\n",
       "      <td>1</td>\n",
       "      <td>1</td>\n",
       "      <td>[human, coronaviruse_hcov, initially, identify...</td>\n",
       "    </tr>\n",
       "    <tr>\n",
       "      <th>14565</th>\n",
       "      <td>14565</td>\n",
       "      <td>17526</td>\n",
       "      <td>154033</td>\n",
       "      <td>DESCRIPTION: Plus-stranded RNA viruses, which ...</td>\n",
       "      <td>2008</td>\n",
       "      <td>Affect; Agriculture; Animals; Antiviral Agents...</td>\n",
       "      <td>ROLES OF HOST RNA BINDING PROTEINS IN VIRUS RE...</td>\n",
       "      <td>HHS</td>\n",
       "      <td>NIH</td>\n",
       "      <td>NIAID</td>\n",
       "      <td>5R21AI072170-02</td>\n",
       "      <td>2/1/2007</td>\n",
       "      <td>1/31/2010</td>\n",
       "      <td>NAGY, PETER</td>\n",
       "      <td>NaN</td>\n",
       "      <td>06</td>\n",
       "      <td>939017877</td>\n",
       "      <td>UNIVERSITY OF KENTUCKY</td>\n",
       "      <td>LEXINGTON</td>\n",
       "      <td>KY</td>\n",
       "      <td>405260001</td>\n",
       "      <td>UNITED STATES</td>\n",
       "      <td>2/1/2008</td>\n",
       "      <td>1/31/2010</td>\n",
       "      <td>93.855</td>\n",
       "      <td>2008</td>\n",
       "      <td>200124.0</td>\n",
       "      <td>NaN</td>\n",
       "      <td>1</td>\n",
       "      <td>1</td>\n",
       "      <td>[strand, rna, virus, pose, significant, risk, ...</td>\n",
       "    </tr>\n",
       "  </tbody>\n",
       "</table>\n",
       "</div>"
      ],
      "text/plain": [
       "       index  original index PROJECT_ID  \\\n",
       "5122    5122            5608      95622   \n",
       "13938  13938           15726     152221   \n",
       "14418  14418           17118     153617   \n",
       "14514  14514           17384     153888   \n",
       "14565  14565           17526     154033   \n",
       "\n",
       "                                                ABSTRACT    FY  \\\n",
       "5122   Host - virus interactions are greatly affected...  2008   \n",
       "13938  AbstractThe American Society for Virology (ASV...  2008   \n",
       "14418  DESCRIPTION (provided by applicant):  Severe a...  2008   \n",
       "14514  DESCRIPTION (provided by applicant): Human cor...  2008   \n",
       "14565  DESCRIPTION: Plus-stranded RNA viruses, which ...  2008   \n",
       "\n",
       "                                           PROJECT_TERMS  \\\n",
       "5122   Affect; Antiviral Agents; Area; Biochemical; D...   \n",
       "13938  abstracting; Acquired Immunodeficiency Syndrom...   \n",
       "14418  Abbreviations; Address; Alleles; Alphavirus; A...   \n",
       "14514  Acute; Age-Years; Antigens; Archives; base; Bi...   \n",
       "14565  Affect; Agriculture; Animals; Antiviral Agents...   \n",
       "\n",
       "                                           PROJECT_TITLE DEPARTMENT AGENCY  \\\n",
       "5122   THE ROLE OF A HOST ION PUMP IN RNA VIRUS RECOM...        NSF    NSF   \n",
       "13938  INTERNATIONAL CONGRESS OF VIROLOGY, ISTANBUL, ...        HHS    NIH   \n",
       "14418                              SARS REVERSE GENETICS        HHS    NIH   \n",
       "14514  EPIDEMIOLOGY AND CLINICAL FEATURES OF HUMAN CO...        HHS    NIH   \n",
       "14565  ROLES OF HOST RNA BINDING PROTEINS IN VIRUS RE...        HHS    NIH   \n",
       "\n",
       "      IC_CENTER   PROJECT_NUMBER PROJECT_START_DATE PROJECT_END_DATE  \\\n",
       "5122        NaN          0817790          8/15/2008        7/31/2012   \n",
       "13938     NIAID  1R13AI075719-01           2/1/2008        1/31/2009   \n",
       "14418     NIAID  5R01AI059136-05          2/15/2004        1/31/2010   \n",
       "14514     NIAID  5R03AI068069-02           2/1/2007        1/31/2010   \n",
       "14565     NIAID  5R21AI072170-02           2/1/2007        1/31/2010   \n",
       "\n",
       "      CONTACT_PI_PROJECT_LEADER OTHER_PIS CONGRESSIONAL_DISTRICT DUNS_NUMBER  \\\n",
       "5122              NAGY, PETER D       NaN                     00   007400724   \n",
       "13938       SAWICKI, DOROTHEA L       NaN                     09   807418939   \n",
       "14418            BARIC, RALPH S       NaN                     04   608195277   \n",
       "14514          WILLIAMS, JOHN V       NaN                     05   965717143   \n",
       "14565               NAGY, PETER       NaN                     06   939017877   \n",
       "\n",
       "                              ORGANIZATION_NAME ORGANIZATION_CITY  \\\n",
       "5122                     UNIVERSITY OF KENTUCKY         LEXINGTON   \n",
       "13938    UNIVERSITY OF TOLEDO HEALTH SCI CAMPUS            TOLEDO   \n",
       "14418  UNIVERSITY OF NORTH CAROLINA CHAPEL HILL       CHAPEL HILL   \n",
       "14514                     VANDERBILT UNIVERSITY         NASHVILLE   \n",
       "14565                    UNIVERSITY OF KENTUCKY         LEXINGTON   \n",
       "\n",
       "      ORGANIZATION_STATE ORGANIZATION_ZIP ORGANIZATION_COUNTRY  \\\n",
       "5122                  KY       40506-0057        UNITED STATES   \n",
       "13938                 OH        436142595        UNITED STATES   \n",
       "14418                 NC        275990001        UNITED STATES   \n",
       "14514                 TN        372407749        UNITED STATES   \n",
       "14565                 KY        405260001        UNITED STATES   \n",
       "\n",
       "      BUDGET_START_DATE BUDGET_END_DATE CFDA_CODE  FY.y  FY_TOTAL_COST  \\\n",
       "5122                NaN             NaN    47.074  2008       612000.0   \n",
       "13938          2/1/2008       1/31/2009    93.855  2008        30000.0   \n",
       "14418          2/1/2008       1/31/2010    93.855  2008       271608.0   \n",
       "14514          2/1/2008       1/31/2010    93.855  2008        75292.0   \n",
       "14565          2/1/2008       1/31/2010    93.855  2008       200124.0   \n",
       "\n",
       "       FY_TOTAL_COST_SUB_PROJECTS  ORG_COUNT  PI_COUNT  \\\n",
       "5122                          NaN          1         1   \n",
       "13938                         NaN          1         1   \n",
       "14418                         NaN          1         1   \n",
       "14514                         NaN          1         1   \n",
       "14565                         NaN          1         1   \n",
       "\n",
       "                                            final_tokens  \n",
       "5122   [host, virus, interaction, greatly, affect, ex...  \n",
       "13938  [american, society, virology_asv, wish, provid...  \n",
       "14418  [severe, acute, respiratory, syndrome, life_th...  \n",
       "14514  [human, coronaviruse_hcov, initially, identify...  \n",
       "14565  [strand, rna, virus, pose, significant, risk, ...  "
      ]
     },
     "execution_count": 70,
     "metadata": {},
     "output_type": "execute_result"
    }
   ],
   "source": [
    "filt_corpus.head()"
   ]
  },
  {
   "cell_type": "code",
   "execution_count": null,
   "metadata": {},
   "outputs": [],
   "source": []
  }
 ],
 "metadata": {
  "kernelspec": {
   "display_name": "Python 3",
   "language": "python",
   "name": "python3"
  },
  "language_info": {
   "codemirror_mode": {
    "name": "ipython",
    "version": 3
   },
   "file_extension": ".py",
   "mimetype": "text/x-python",
   "name": "python",
   "nbconvert_exporter": "python",
   "pygments_lexer": "ipython3",
   "version": "3.8.8"
  }
 },
 "nbformat": 4,
 "nbformat_minor": 4
}
