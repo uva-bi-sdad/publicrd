{
 "cells": [
  {
   "cell_type": "markdown",
   "metadata": {},
   "source": [
    "# Information Retrieval - Corpus Filtering  \n",
    "This notebook retrieves abstracts relevant to pandemics and then uses topic modeling to analyze the chosen abstracts.  Two info retrieval techniques are used: Literal Term Matching and Latent Semantic Indexing.  These are linear algebra techniques.  \n",
    "We use the Scikit-Learn library."
   ]
  },
  {
   "cell_type": "code",
   "execution_count": 1,
   "metadata": {},
   "outputs": [],
   "source": [
    "import pandas as pd\n",
    "pd.set_option('display.max_columns', 50)\n",
    "\n",
    "import numpy as np\n",
    "import pickle\n",
    "import matplotlib.pyplot as plt\n",
    "import gensim\n",
    "import time\n",
    "\n",
    "from sklearn.decomposition import NMF, TruncatedSVD, LatentDirichletAllocation\n",
    "from sklearn.feature_extraction.text import CountVectorizer\n",
    "from sklearn.feature_extraction.text import TfidfVectorizer\n",
    "#from sklearn.metrics import pairwise_distances\n",
    "from sklearn.metrics.pairwise import cosine_similarity\n",
    "\n",
    "#import spacy\n",
    "#from spacy.lang.en.stop_words import STOP_WORDS"
   ]
  },
  {
   "cell_type": "code",
   "execution_count": null,
   "metadata": {},
   "outputs": [],
   "source": []
  },
  {
   "cell_type": "code",
   "execution_count": 2,
   "metadata": {},
   "outputs": [],
   "source": [
    "# pull in data\n",
    "\n",
    "# full corpus\n",
    "df = pd.read_pickle(\"../../../../data/prd/Tech-Report/FR_meta_and_final_tokens_21SEPT14.pkl\")\n",
    "df.reset_index(inplace = True)\n",
    "\n",
    "# pandemics corpus\n",
    "#df = pd.read_pickle(\"pandemic_corpus.pkl\")\n",
    "#df.reset_index(inplace = True)\n",
    "#df.rename(columns={'index':'original index'}, inplace=True)"
   ]
  },
  {
   "cell_type": "code",
   "execution_count": 3,
   "metadata": {},
   "outputs": [
    {
     "data": {
      "text/html": [
       "<div>\n",
       "<style scoped>\n",
       "    .dataframe tbody tr th:only-of-type {\n",
       "        vertical-align: middle;\n",
       "    }\n",
       "\n",
       "    .dataframe tbody tr th {\n",
       "        vertical-align: top;\n",
       "    }\n",
       "\n",
       "    .dataframe thead th {\n",
       "        text-align: right;\n",
       "    }\n",
       "</style>\n",
       "<table border=\"1\" class=\"dataframe\">\n",
       "  <thead>\n",
       "    <tr style=\"text-align: right;\">\n",
       "      <th></th>\n",
       "      <th>index</th>\n",
       "      <th>original index</th>\n",
       "      <th>PROJECT_ID</th>\n",
       "      <th>ABSTRACT</th>\n",
       "      <th>FY</th>\n",
       "      <th>PROJECT_TERMS</th>\n",
       "      <th>PROJECT_TITLE</th>\n",
       "      <th>DEPARTMENT</th>\n",
       "      <th>AGENCY</th>\n",
       "      <th>IC_CENTER</th>\n",
       "      <th>PROJECT_NUMBER</th>\n",
       "      <th>PROJECT_START_DATE</th>\n",
       "      <th>PROJECT_END_DATE</th>\n",
       "      <th>CONTACT_PI_PROJECT_LEADER</th>\n",
       "      <th>OTHER_PIS</th>\n",
       "      <th>CONGRESSIONAL_DISTRICT</th>\n",
       "      <th>DUNS_NUMBER</th>\n",
       "      <th>ORGANIZATION_NAME</th>\n",
       "      <th>ORGANIZATION_CITY</th>\n",
       "      <th>ORGANIZATION_STATE</th>\n",
       "      <th>ORGANIZATION_ZIP</th>\n",
       "      <th>ORGANIZATION_COUNTRY</th>\n",
       "      <th>BUDGET_START_DATE</th>\n",
       "      <th>BUDGET_END_DATE</th>\n",
       "      <th>CFDA_CODE</th>\n",
       "      <th>FY.y</th>\n",
       "      <th>FY_TOTAL_COST</th>\n",
       "      <th>FY_TOTAL_COST_SUB_PROJECTS</th>\n",
       "      <th>ORG_COUNT</th>\n",
       "      <th>PI_COUNT</th>\n",
       "      <th>final_tokens</th>\n",
       "    </tr>\n",
       "  </thead>\n",
       "  <tbody>\n",
       "    <tr>\n",
       "      <th>0</th>\n",
       "      <td>0</td>\n",
       "      <td>0</td>\n",
       "      <td>89996</td>\n",
       "      <td>This is a project to explore Game-based, Metap...</td>\n",
       "      <td>2008</td>\n",
       "      <td>Achievement; analog; base; Cognitive Science; ...</td>\n",
       "      <td>RUI: CYGAMES: CYBER-ENABLED TEACHING AND LEARN...</td>\n",
       "      <td>NSF</td>\n",
       "      <td>NSF</td>\n",
       "      <td>NaN</td>\n",
       "      <td>0814512</td>\n",
       "      <td>9/15/2008</td>\n",
       "      <td>8/31/2012</td>\n",
       "      <td>REESE, DEBBIE D</td>\n",
       "      <td>CARTER, BEVERLY; WOOD, CHARLES; HITT, BEN</td>\n",
       "      <td>01</td>\n",
       "      <td>068719400</td>\n",
       "      <td>WHEELING JESUIT UNIVERSITY</td>\n",
       "      <td>WHEELING</td>\n",
       "      <td>WV</td>\n",
       "      <td>26003-6243</td>\n",
       "      <td>UNITED STATES</td>\n",
       "      <td>NaN</td>\n",
       "      <td>NaN</td>\n",
       "      <td>47.076</td>\n",
       "      <td>2008</td>\n",
       "      <td>1999467.0</td>\n",
       "      <td>NaN</td>\n",
       "      <td>1</td>\n",
       "      <td>1</td>\n",
       "      <td>[project, explore, game, base, metaphor, enhan...</td>\n",
       "    </tr>\n",
       "    <tr>\n",
       "      <th>1</th>\n",
       "      <td>1</td>\n",
       "      <td>1</td>\n",
       "      <td>89997</td>\n",
       "      <td>Institution: Franklin Institute Science Museum...</td>\n",
       "      <td>2008</td>\n",
       "      <td>Active Learning; Child; Computer software; des...</td>\n",
       "      <td>ARIEL - AUGMENTED REALITY FOR INTERPRETIVE AND...</td>\n",
       "      <td>NSF</td>\n",
       "      <td>NSF</td>\n",
       "      <td>NaN</td>\n",
       "      <td>0741659</td>\n",
       "      <td>9/15/2008</td>\n",
       "      <td>8/31/2012</td>\n",
       "      <td>SNYDER, STEVEN</td>\n",
       "      <td>ELINICH, KAREN; YOON, SUSAN</td>\n",
       "      <td>02</td>\n",
       "      <td>001741859</td>\n",
       "      <td>FRANKLIN INSTITUTE</td>\n",
       "      <td>PHILADELPHIA</td>\n",
       "      <td>PA</td>\n",
       "      <td>19103-1115</td>\n",
       "      <td>UNITED STATES</td>\n",
       "      <td>NaN</td>\n",
       "      <td>NaN</td>\n",
       "      <td>47.076</td>\n",
       "      <td>2008</td>\n",
       "      <td>1799699.0</td>\n",
       "      <td>NaN</td>\n",
       "      <td>1</td>\n",
       "      <td>1</td>\n",
       "      <td>[institution, franklin_institute, science, mus...</td>\n",
       "    </tr>\n",
       "    <tr>\n",
       "      <th>2</th>\n",
       "      <td>2</td>\n",
       "      <td>2</td>\n",
       "      <td>89998</td>\n",
       "      <td>Through programs (including small group conver...</td>\n",
       "      <td>2008</td>\n",
       "      <td>Address; Age; Birth; Brain; Caregivers; Child;...</td>\n",
       "      <td>BRIGHTER FUTURES: PUBLIC DELIBERATION ABOUT TH...</td>\n",
       "      <td>NSF</td>\n",
       "      <td>NSF</td>\n",
       "      <td>NaN</td>\n",
       "      <td>0813522</td>\n",
       "      <td>9/15/2008</td>\n",
       "      <td>8/31/2011</td>\n",
       "      <td>FINK, LAURIE KLEINBAUM</td>\n",
       "      <td>CADIGAN, KAREN; ELLENBOGEN, KIRSTEN</td>\n",
       "      <td>04</td>\n",
       "      <td>061451670</td>\n",
       "      <td>SCIENCE MUSEUM OF MINNESOTA</td>\n",
       "      <td>SAINT PAUL</td>\n",
       "      <td>MN</td>\n",
       "      <td>55102-1202</td>\n",
       "      <td>UNITED STATES</td>\n",
       "      <td>NaN</td>\n",
       "      <td>NaN</td>\n",
       "      <td>47.076</td>\n",
       "      <td>2008</td>\n",
       "      <td>1505858.0</td>\n",
       "      <td>NaN</td>\n",
       "      <td>1</td>\n",
       "      <td>1</td>\n",
       "      <td>[program, small, group, conversation, citizen,...</td>\n",
       "    </tr>\n",
       "    <tr>\n",
       "      <th>3</th>\n",
       "      <td>3</td>\n",
       "      <td>3</td>\n",
       "      <td>89999</td>\n",
       "      <td>In partnership with the American Chemical Soci...</td>\n",
       "      <td>2008</td>\n",
       "      <td>Advanced Development; American; Chemicals; Che...</td>\n",
       "      <td>FOSTERING US-INTERNATIONAL COLLABORATIVE PARTN...</td>\n",
       "      <td>NSF</td>\n",
       "      <td>NSF</td>\n",
       "      <td>NaN</td>\n",
       "      <td>0838627</td>\n",
       "      <td>8/1/2008</td>\n",
       "      <td>12/31/2010</td>\n",
       "      <td>JOST, JOHN W</td>\n",
       "      <td>MILLER, BRADLEY; BOWMAN, KATHERINE</td>\n",
       "      <td>04</td>\n",
       "      <td>009059242</td>\n",
       "      <td>INTERNATIONAL UNION OF PURE AND APPLIED CHEMISTRY</td>\n",
       "      <td>DURHAM</td>\n",
       "      <td>NC</td>\n",
       "      <td>27709-3757</td>\n",
       "      <td>UNITED STATES</td>\n",
       "      <td>NaN</td>\n",
       "      <td>NaN</td>\n",
       "      <td>47.049</td>\n",
       "      <td>2008</td>\n",
       "      <td>51000.0</td>\n",
       "      <td>NaN</td>\n",
       "      <td>1</td>\n",
       "      <td>1</td>\n",
       "      <td>[partnership, american, chemical, society, acs...</td>\n",
       "    </tr>\n",
       "    <tr>\n",
       "      <th>4</th>\n",
       "      <td>4</td>\n",
       "      <td>5</td>\n",
       "      <td>90001</td>\n",
       "      <td>The Center for Molecular Interfacing (CMI) wil...</td>\n",
       "      <td>2008</td>\n",
       "      <td>Address; Architecture; Carbon Nanotubes; Catal...</td>\n",
       "      <td>CCI PHASE I: CENTER FOR MOLECULAR INTERFACING</td>\n",
       "      <td>NSF</td>\n",
       "      <td>NSF</td>\n",
       "      <td>NaN</td>\n",
       "      <td>0847926</td>\n",
       "      <td>10/1/2008</td>\n",
       "      <td>9/30/2011</td>\n",
       "      <td>ABRUNA, HECTOR D</td>\n",
       "      <td>NaN</td>\n",
       "      <td>22</td>\n",
       "      <td>872612445</td>\n",
       "      <td>CORNELL UNIVERSITY ITHACA</td>\n",
       "      <td>ITHACA</td>\n",
       "      <td>NY</td>\n",
       "      <td>14850-2820</td>\n",
       "      <td>UNITED STATES</td>\n",
       "      <td>NaN</td>\n",
       "      <td>NaN</td>\n",
       "      <td>47.049</td>\n",
       "      <td>2008</td>\n",
       "      <td>1519821.0</td>\n",
       "      <td>NaN</td>\n",
       "      <td>1</td>\n",
       "      <td>1</td>\n",
       "      <td>[center, molecular, interfacing, cmi, enable, ...</td>\n",
       "    </tr>\n",
       "  </tbody>\n",
       "</table>\n",
       "</div>"
      ],
      "text/plain": [
       "   index  original index PROJECT_ID  \\\n",
       "0      0               0      89996   \n",
       "1      1               1      89997   \n",
       "2      2               2      89998   \n",
       "3      3               3      89999   \n",
       "4      4               5      90001   \n",
       "\n",
       "                                            ABSTRACT    FY  \\\n",
       "0  This is a project to explore Game-based, Metap...  2008   \n",
       "1  Institution: Franklin Institute Science Museum...  2008   \n",
       "2  Through programs (including small group conver...  2008   \n",
       "3  In partnership with the American Chemical Soci...  2008   \n",
       "4  The Center for Molecular Interfacing (CMI) wil...  2008   \n",
       "\n",
       "                                       PROJECT_TERMS  \\\n",
       "0  Achievement; analog; base; Cognitive Science; ...   \n",
       "1  Active Learning; Child; Computer software; des...   \n",
       "2  Address; Age; Birth; Brain; Caregivers; Child;...   \n",
       "3  Advanced Development; American; Chemicals; Che...   \n",
       "4  Address; Architecture; Carbon Nanotubes; Catal...   \n",
       "\n",
       "                                       PROJECT_TITLE DEPARTMENT AGENCY  \\\n",
       "0  RUI: CYGAMES: CYBER-ENABLED TEACHING AND LEARN...        NSF    NSF   \n",
       "1  ARIEL - AUGMENTED REALITY FOR INTERPRETIVE AND...        NSF    NSF   \n",
       "2  BRIGHTER FUTURES: PUBLIC DELIBERATION ABOUT TH...        NSF    NSF   \n",
       "3  FOSTERING US-INTERNATIONAL COLLABORATIVE PARTN...        NSF    NSF   \n",
       "4      CCI PHASE I: CENTER FOR MOLECULAR INTERFACING        NSF    NSF   \n",
       "\n",
       "  IC_CENTER PROJECT_NUMBER PROJECT_START_DATE PROJECT_END_DATE  \\\n",
       "0       NaN        0814512          9/15/2008        8/31/2012   \n",
       "1       NaN        0741659          9/15/2008        8/31/2012   \n",
       "2       NaN        0813522          9/15/2008        8/31/2011   \n",
       "3       NaN        0838627           8/1/2008       12/31/2010   \n",
       "4       NaN        0847926          10/1/2008        9/30/2011   \n",
       "\n",
       "  CONTACT_PI_PROJECT_LEADER                                  OTHER_PIS  \\\n",
       "0           REESE, DEBBIE D  CARTER, BEVERLY; WOOD, CHARLES; HITT, BEN   \n",
       "1            SNYDER, STEVEN                ELINICH, KAREN; YOON, SUSAN   \n",
       "2    FINK, LAURIE KLEINBAUM        CADIGAN, KAREN; ELLENBOGEN, KIRSTEN   \n",
       "3              JOST, JOHN W         MILLER, BRADLEY; BOWMAN, KATHERINE   \n",
       "4          ABRUNA, HECTOR D                                        NaN   \n",
       "\n",
       "  CONGRESSIONAL_DISTRICT DUNS_NUMBER  \\\n",
       "0                     01   068719400   \n",
       "1                     02   001741859   \n",
       "2                     04   061451670   \n",
       "3                     04   009059242   \n",
       "4                     22   872612445   \n",
       "\n",
       "                                   ORGANIZATION_NAME ORGANIZATION_CITY  \\\n",
       "0                         WHEELING JESUIT UNIVERSITY          WHEELING   \n",
       "1                                 FRANKLIN INSTITUTE      PHILADELPHIA   \n",
       "2                        SCIENCE MUSEUM OF MINNESOTA        SAINT PAUL   \n",
       "3  INTERNATIONAL UNION OF PURE AND APPLIED CHEMISTRY            DURHAM   \n",
       "4                          CORNELL UNIVERSITY ITHACA            ITHACA   \n",
       "\n",
       "  ORGANIZATION_STATE ORGANIZATION_ZIP ORGANIZATION_COUNTRY BUDGET_START_DATE  \\\n",
       "0                 WV       26003-6243        UNITED STATES               NaN   \n",
       "1                 PA       19103-1115        UNITED STATES               NaN   \n",
       "2                 MN       55102-1202        UNITED STATES               NaN   \n",
       "3                 NC       27709-3757        UNITED STATES               NaN   \n",
       "4                 NY       14850-2820        UNITED STATES               NaN   \n",
       "\n",
       "  BUDGET_END_DATE CFDA_CODE  FY.y  FY_TOTAL_COST  FY_TOTAL_COST_SUB_PROJECTS  \\\n",
       "0             NaN    47.076  2008      1999467.0                         NaN   \n",
       "1             NaN    47.076  2008      1799699.0                         NaN   \n",
       "2             NaN    47.076  2008      1505858.0                         NaN   \n",
       "3             NaN    47.049  2008        51000.0                         NaN   \n",
       "4             NaN    47.049  2008      1519821.0                         NaN   \n",
       "\n",
       "   ORG_COUNT  PI_COUNT                                       final_tokens  \n",
       "0          1         1  [project, explore, game, base, metaphor, enhan...  \n",
       "1          1         1  [institution, franklin_institute, science, mus...  \n",
       "2          1         1  [program, small, group, conversation, citizen,...  \n",
       "3          1         1  [partnership, american, chemical, society, acs...  \n",
       "4          1         1  [center, molecular, interfacing, cmi, enable, ...  "
      ]
     },
     "execution_count": 3,
     "metadata": {},
     "output_type": "execute_result"
    }
   ],
   "source": [
    "df.head()"
   ]
  },
  {
   "cell_type": "code",
   "execution_count": null,
   "metadata": {},
   "outputs": [],
   "source": []
  },
  {
   "cell_type": "code",
   "execution_count": null,
   "metadata": {},
   "outputs": [],
   "source": []
  },
  {
   "cell_type": "code",
   "execution_count": 4,
   "metadata": {},
   "outputs": [],
   "source": [
    "# input needed for doc-term matrix creation in Scikit-Learn is one string per document (not a list of strings).  \n",
    "# Original data 'ABSTRACT' is already in this form, but not the tokens in \"final_frqwds_removed\"\n",
    "\n",
    "\n",
    "tokens = df['final_tokens']   #df[\"stopwds_removed\"]\n",
    "\n",
    "docs = [] # docs will contain the processed tokens in string form (1 string per abstract)\n",
    "\n",
    "for abstract in tokens:\n",
    "    docs.append(\" \".join(abstract))\n",
    "    \n",
    "docs = pd.Series(docs)\n",
    "\n",
    "\n",
    "#docs = df[\"ABSTRACT\"]  # raw text\n"
   ]
  },
  {
   "cell_type": "code",
   "execution_count": null,
   "metadata": {},
   "outputs": [],
   "source": []
  },
  {
   "cell_type": "code",
   "execution_count": null,
   "metadata": {},
   "outputs": [],
   "source": []
  },
  {
   "cell_type": "markdown",
   "metadata": {},
   "source": [
    "### Term Matching"
   ]
  },
  {
   "cell_type": "code",
   "execution_count": 5,
   "metadata": {},
   "outputs": [],
   "source": [
    "# new approach to grab all \"pandemic\" matches\n",
    "\n",
    "term_match_idx = []\n",
    "\n",
    "for i, abstract in enumerate(docs):\n",
    "    if ('pandemic' in abstract): #or ('epidemic' in abstract):\n",
    "        term_match_idx.append(i)\n",
    "        "
   ]
  },
  {
   "cell_type": "code",
   "execution_count": 6,
   "metadata": {},
   "outputs": [
    {
     "data": {
      "text/plain": [
       "2308"
      ]
     },
     "execution_count": 6,
     "metadata": {},
     "output_type": "execute_result"
    }
   ],
   "source": [
    "len(term_match_idx) "
   ]
  },
  {
   "cell_type": "code",
   "execution_count": null,
   "metadata": {},
   "outputs": [],
   "source": []
  },
  {
   "cell_type": "code",
   "execution_count": null,
   "metadata": {},
   "outputs": [],
   "source": []
  },
  {
   "cell_type": "markdown",
   "metadata": {},
   "source": [
    "### Helper Functions"
   ]
  },
  {
   "cell_type": "code",
   "execution_count": 7,
   "metadata": {},
   "outputs": [],
   "source": [
    "# Create binary query vector \n",
    "\n",
    "def create_query(words, terms):\n",
    "    \n",
    "    # words: search query words\n",
    "    # terms: terms in corpus\n",
    "    \n",
    "    q = np.zeros(len(terms))  # number of terms\n",
    "\n",
    "    idx = []\n",
    "    for word in query_words:\n",
    "        idx.append(terms.index(word))\n",
    "\n",
    "    q[idx] = 1\n",
    "    \n",
    "    return q"
   ]
  },
  {
   "cell_type": "code",
   "execution_count": 8,
   "metadata": {},
   "outputs": [],
   "source": [
    "def return_top_abstracts(scores, top_n):\n",
    "    \n",
    "    '''\n",
    "    docs: Series that contains abstract\n",
    "    scores: scores of abstracts\n",
    "    top_n: return the top_n abstracts given by idx, if top_n = -1 return all abstracts\n",
    "    '''\n",
    "    # sort scores in descending order\n",
    "    scores_sorted_idx = np.argsort(scores)[::-1]\n",
    "    \n",
    "    if top_n == -1:\n",
    "        #n = sum(scores > 0)\n",
    "        ix = scores_sorted_idx #[:n]\n",
    "    else:\n",
    "        ix = scores_sorted_idx[:top_n]\n",
    "    \n",
    "    #print(ix[0:10])\n",
    "    \n",
    "    return ix\n",
    "    "
   ]
  },
  {
   "cell_type": "code",
   "execution_count": 9,
   "metadata": {},
   "outputs": [],
   "source": [
    "def create_result_df(abstracts, scores):\n",
    "    \n",
    "    df = pd.DataFrame()\n",
    "    df[\"abstracts\"] = abstracts\n",
    "    df[\"scores\"] = scores\n",
    "    \n",
    "    return df"
   ]
  },
  {
   "cell_type": "code",
   "execution_count": null,
   "metadata": {},
   "outputs": [],
   "source": []
  },
  {
   "cell_type": "code",
   "execution_count": 10,
   "metadata": {},
   "outputs": [],
   "source": [
    "# Find doc-term matrix using TF-IDF weighting\n",
    "\n",
    "tf_idf_vectorizer = TfidfVectorizer()\n",
    "tf_idf = tf_idf_vectorizer.fit_transform(docs)\n",
    "\n",
    "tf_idf_terms = tf_idf_vectorizer.get_feature_names()"
   ]
  },
  {
   "cell_type": "code",
   "execution_count": 11,
   "metadata": {},
   "outputs": [
    {
     "data": {
      "text/plain": [
       "1278210"
      ]
     },
     "execution_count": 11,
     "metadata": {},
     "output_type": "execute_result"
    }
   ],
   "source": [
    "len(tf_idf_terms)"
   ]
  },
  {
   "cell_type": "code",
   "execution_count": 12,
   "metadata": {},
   "outputs": [
    {
     "name": "stdout",
     "output_type": "stream",
     "text": [
      "1918_influenza_pandemic\n",
      "1918_pandemic\n",
      "1957_1968_pandemics\n",
      "2009_pandemic_h1n1\n",
      "aidspandemic\n",
      "andpandemic\n",
      "andpandemics\n",
      "apandemic\n",
      "bothpandemic\n",
      "causedpandemics\n",
      "co_pandemic\n",
      "detetermrminineififththesuprragenomeofftthepandemiciccllonesiis\n",
      "devastating_pandemics\n",
      "ebolapandemic\n",
      "epidemics_occasional_pandemics\n",
      "epidemics_pandemics\n",
      "escalatingpandemic\n",
      "establishingpandemic\n",
      "flu_pandemic\n",
      "futurepandemics\n",
      "globalpandemic\n",
      "greatpandemic\n",
      "growingpandemic\n",
      "h1n1_influenza_pandemic\n",
      "h1n1_pandemic\n",
      "h5n1_pandemic\n",
      "hivpandemic\n",
      "humanpandemics\n",
      "increasedpandemic\n",
      "influenza_pandemics\n",
      "influenzapandemic\n",
      "influenzapandemics\n",
      "inpandemic\n",
      "inter_pandemic\n",
      "interpandemic\n",
      "majorpandemic\n",
      "non_pandemic\n",
      "occasional_pandemics\n",
      "occasionalpandemics\n",
      "ofpandemic\n",
      "ofpandemics\n",
      "pandemic\n",
      "pandemic57499\n",
      "pandemic_1918\n",
      "pandemic_flu\n",
      "pandemic_h1_n1\n",
      "pandemic_h1n1\n",
      "pandemic_h2n2\n",
      "pandemic_influenza\n",
      "pandemic_non_pandemic\n",
      "pandemic_preparedness\n",
      "pandemically\n",
      "pandemicand\n",
      "pandemiccompare\n",
      "pandemicdisease\n",
      "pandemicemergence\n",
      "pandemicflu\n",
      "pandemichuman\n",
      "pandemicin\n",
      "pandemicinfection\n",
      "pandemicinfluenza\n",
      "pandemicpreparedness\n",
      "pandemics\n",
      "pandemics_1918\n",
      "pandemicsettings\n",
      "pandemicsthat\n",
      "pandemicstrain\n",
      "pandemicthreat\n",
      "pandemicvaccine\n",
      "possiblepandemics\n",
      "post_pandemic\n",
      "pre_pandemic\n",
      "prepandemic\n",
      "recurrentpandemics\n",
      "seasonal_pandemic\n",
      "thepandemic\n",
      "thispandemic\n",
      "threepandemics\n",
      "understandpandemic\n",
      "withpandemic\n",
      "worldwide_pandemics_1957\n",
      "yearly_epidemics_occasional_pandemics\n",
      "82\n"
     ]
    }
   ],
   "source": [
    "count = 0\n",
    "\n",
    "for term in tf_idf_terms:\n",
    "    if 'pandemic' in term:\n",
    "        print(term)\n",
    "        count = count + 1\n",
    "        \n",
    "print(count)"
   ]
  },
  {
   "cell_type": "code",
   "execution_count": null,
   "metadata": {},
   "outputs": [],
   "source": []
  },
  {
   "cell_type": "code",
   "execution_count": null,
   "metadata": {},
   "outputs": [],
   "source": []
  },
  {
   "cell_type": "markdown",
   "metadata": {},
   "source": [
    "#### Word cloud"
   ]
  },
  {
   "cell_type": "code",
   "execution_count": 13,
   "metadata": {},
   "outputs": [],
   "source": [
    "# Find doc-term matrix for word cloud\n",
    "\n",
    "vectorizer = CountVectorizer()\n",
    "dtm = vectorizer.fit_transform(docs)\n",
    "\n",
    "terms = vectorizer.get_feature_names()"
   ]
  },
  {
   "cell_type": "code",
   "execution_count": 14,
   "metadata": {},
   "outputs": [
    {
     "data": {
      "text/plain": [
       "(696093, 1278210)"
      ]
     },
     "execution_count": 14,
     "metadata": {},
     "output_type": "execute_result"
    }
   ],
   "source": [
    "dtm.shape"
   ]
  },
  {
   "cell_type": "code",
   "execution_count": 15,
   "metadata": {},
   "outputs": [],
   "source": [
    "term_counts = dtm.sum(axis=0)"
   ]
  },
  {
   "cell_type": "code",
   "execution_count": 16,
   "metadata": {},
   "outputs": [],
   "source": [
    "d = {}\n",
    "\n",
    "for i, term in enumerate(terms):\n",
    "    if 'pandemic' in term:\n",
    "        #print(term)\n",
    "        d[term] = term_counts[0,i]"
   ]
  },
  {
   "cell_type": "code",
   "execution_count": 17,
   "metadata": {},
   "outputs": [
    {
     "data": {
      "text/plain": [
       "{'1918_influenza_pandemic': 51,\n",
       " '1918_pandemic': 68,\n",
       " '1957_1968_pandemics': 12,\n",
       " '2009_pandemic_h1n1': 54,\n",
       " 'aidspandemic': 2,\n",
       " 'andpandemic': 1,\n",
       " 'andpandemics': 1,\n",
       " 'apandemic': 2,\n",
       " 'bothpandemic': 2,\n",
       " 'causedpandemics': 1,\n",
       " 'co_pandemic': 1,\n",
       " 'detetermrminineififththesuprragenomeofftthepandemiciccllonesiis': 1,\n",
       " 'devastating_pandemics': 26,\n",
       " 'ebolapandemic': 1,\n",
       " 'epidemics_occasional_pandemics': 10,\n",
       " 'epidemics_pandemics': 66,\n",
       " 'escalatingpandemic': 1,\n",
       " 'establishingpandemic': 1,\n",
       " 'flu_pandemic': 26,\n",
       " 'futurepandemics': 1,\n",
       " 'globalpandemic': 1,\n",
       " 'greatpandemic': 1,\n",
       " 'growingpandemic': 1,\n",
       " 'h1n1_influenza_pandemic': 13,\n",
       " 'h1n1_pandemic': 47,\n",
       " 'h5n1_pandemic': 27,\n",
       " 'hivpandemic': 8,\n",
       " 'humanpandemics': 1,\n",
       " 'increasedpandemic': 1,\n",
       " 'influenza_pandemics': 72,\n",
       " 'influenzapandemic': 1,\n",
       " 'influenzapandemics': 1,\n",
       " 'inpandemic': 1,\n",
       " 'inter_pandemic': 5,\n",
       " 'interpandemic': 7,\n",
       " 'majorpandemic': 1,\n",
       " 'non_pandemic': 7,\n",
       " 'occasional_pandemics': 8,\n",
       " 'occasionalpandemics': 1,\n",
       " 'ofpandemic': 3,\n",
       " 'ofpandemics': 1,\n",
       " 'pandemic': 2307,\n",
       " 'pandemic57499': 3,\n",
       " 'pandemic_1918': 19,\n",
       " 'pandemic_flu': 45,\n",
       " 'pandemic_h1_n1': 23,\n",
       " 'pandemic_h1n1': 68,\n",
       " 'pandemic_h2n2': 6,\n",
       " 'pandemic_influenza': 409,\n",
       " 'pandemic_non_pandemic': 6,\n",
       " 'pandemic_preparedness': 50,\n",
       " 'pandemically': 1,\n",
       " 'pandemicand': 2,\n",
       " 'pandemiccompare': 1,\n",
       " 'pandemicdisease': 1,\n",
       " 'pandemicemergence': 1,\n",
       " 'pandemicflu': 1,\n",
       " 'pandemichuman': 1,\n",
       " 'pandemicin': 2,\n",
       " 'pandemicinfection': 1,\n",
       " 'pandemicinfluenza': 9,\n",
       " 'pandemicpreparedness': 3,\n",
       " 'pandemics': 398,\n",
       " 'pandemics_1918': 3,\n",
       " 'pandemicsettings': 1,\n",
       " 'pandemicsthat': 2,\n",
       " 'pandemicstrain': 1,\n",
       " 'pandemicthreat': 1,\n",
       " 'pandemicvaccine': 1,\n",
       " 'possiblepandemics': 1,\n",
       " 'post_pandemic': 4,\n",
       " 'pre_pandemic': 13,\n",
       " 'prepandemic': 5,\n",
       " 'recurrentpandemics': 2,\n",
       " 'seasonal_pandemic': 114,\n",
       " 'thepandemic': 2,\n",
       " 'thispandemic': 1,\n",
       " 'threepandemics': 1,\n",
       " 'understandpandemic': 1,\n",
       " 'withpandemic': 3,\n",
       " 'worldwide_pandemics_1957': 36,\n",
       " 'yearly_epidemics_occasional_pandemics': 42}"
      ]
     },
     "execution_count": 17,
     "metadata": {},
     "output_type": "execute_result"
    }
   ],
   "source": [
    "d"
   ]
  },
  {
   "cell_type": "code",
   "execution_count": 18,
   "metadata": {},
   "outputs": [
    {
     "data": {
      "image/png": "[encoded data removed]",
      "text/plain": [
       "<Figure size 432x288 with 1 Axes>"
      ]
     },
     "metadata": {
      "needs_background": "light"
     },
     "output_type": "display_data"
    }
   ],
   "source": [
    "from wordcloud import WordCloud\n",
    "\n",
    "wordcloud = WordCloud(width=900, height= 500, scale=1, max_words = 25, background_color='white').generate_from_frequencies(d)\n",
    "\n",
    "plt.imshow(wordcloud, interpolation='bilinear')\n",
    "plt.axis(\"off\")\n",
    "plt.savefig(\"pan_wc.png\", dpi = 800, bbox_inches = \"tight\")\n",
    "plt.show()"
   ]
  },
  {
   "cell_type": "code",
   "execution_count": null,
   "metadata": {},
   "outputs": [],
   "source": []
  },
  {
   "cell_type": "code",
   "execution_count": null,
   "metadata": {},
   "outputs": [],
   "source": []
  },
  {
   "cell_type": "markdown",
   "metadata": {},
   "source": [
    "## Latent Semantic Indexing (LSI)"
   ]
  },
  {
   "cell_type": "code",
   "execution_count": null,
   "metadata": {},
   "outputs": [],
   "source": []
  },
  {
   "cell_type": "code",
   "execution_count": 13,
   "metadata": {},
   "outputs": [],
   "source": [
    "# CHANGE QUERY WORDS HERE\n",
    "\n",
    "query_words = []\n",
    "\n",
    "for word in tf_idf_terms:\n",
    "    if 'pandemic' in word:\n",
    "        query_words.append(word)\n",
    "\n",
    "#query_words = ['pandemic', 'pandemics'] \n",
    "              \n",
    "q = create_query(query_words, tf_idf_terms)"
   ]
  },
  {
   "cell_type": "code",
   "execution_count": 14,
   "metadata": {},
   "outputs": [
    {
     "data": {
      "text/plain": [
       "['1918_influenza_pandemic',\n",
       " '1918_pandemic',\n",
       " '1957_1968_pandemics',\n",
       " '2009_pandemic_h1n1',\n",
       " 'aidspandemic',\n",
       " 'andpandemic',\n",
       " 'andpandemics',\n",
       " 'apandemic',\n",
       " 'bothpandemic',\n",
       " 'causedpandemics',\n",
       " 'co_pandemic',\n",
       " 'detetermrminineififththesuprragenomeofftthepandemiciccllonesiis',\n",
       " 'devastating_pandemics',\n",
       " 'ebolapandemic',\n",
       " 'epidemics_occasional_pandemics',\n",
       " 'epidemics_pandemics',\n",
       " 'escalatingpandemic',\n",
       " 'establishingpandemic',\n",
       " 'flu_pandemic',\n",
       " 'futurepandemics',\n",
       " 'globalpandemic',\n",
       " 'greatpandemic',\n",
       " 'growingpandemic',\n",
       " 'h1n1_influenza_pandemic',\n",
       " 'h1n1_pandemic',\n",
       " 'h5n1_pandemic',\n",
       " 'hivpandemic',\n",
       " 'humanpandemics',\n",
       " 'increasedpandemic',\n",
       " 'influenza_pandemics',\n",
       " 'influenzapandemic',\n",
       " 'influenzapandemics',\n",
       " 'inpandemic',\n",
       " 'inter_pandemic',\n",
       " 'interpandemic',\n",
       " 'majorpandemic',\n",
       " 'non_pandemic',\n",
       " 'occasional_pandemics',\n",
       " 'occasionalpandemics',\n",
       " 'ofpandemic',\n",
       " 'ofpandemics',\n",
       " 'pandemic',\n",
       " 'pandemic57499',\n",
       " 'pandemic_1918',\n",
       " 'pandemic_flu',\n",
       " 'pandemic_h1_n1',\n",
       " 'pandemic_h1n1',\n",
       " 'pandemic_h2n2',\n",
       " 'pandemic_influenza',\n",
       " 'pandemic_non_pandemic',\n",
       " 'pandemic_preparedness',\n",
       " 'pandemically',\n",
       " 'pandemicand',\n",
       " 'pandemiccompare',\n",
       " 'pandemicdisease',\n",
       " 'pandemicemergence',\n",
       " 'pandemicflu',\n",
       " 'pandemichuman',\n",
       " 'pandemicin',\n",
       " 'pandemicinfection',\n",
       " 'pandemicinfluenza',\n",
       " 'pandemicpreparedness',\n",
       " 'pandemics',\n",
       " 'pandemics_1918',\n",
       " 'pandemicsettings',\n",
       " 'pandemicsthat',\n",
       " 'pandemicstrain',\n",
       " 'pandemicthreat',\n",
       " 'pandemicvaccine',\n",
       " 'possiblepandemics',\n",
       " 'post_pandemic',\n",
       " 'pre_pandemic',\n",
       " 'prepandemic',\n",
       " 'recurrentpandemics',\n",
       " 'seasonal_pandemic',\n",
       " 'thepandemic',\n",
       " 'thispandemic',\n",
       " 'threepandemics',\n",
       " 'understandpandemic',\n",
       " 'withpandemic',\n",
       " 'worldwide_pandemics_1957',\n",
       " 'yearly_epidemics_occasional_pandemics']"
      ]
     },
     "execution_count": 14,
     "metadata": {},
     "output_type": "execute_result"
    }
   ],
   "source": [
    "query_words"
   ]
  },
  {
   "cell_type": "code",
   "execution_count": 15,
   "metadata": {},
   "outputs": [
    {
     "data": {
      "text/plain": [
       "82"
      ]
     },
     "execution_count": 15,
     "metadata": {},
     "output_type": "execute_result"
    }
   ],
   "source": [
    "len(query_words)"
   ]
  },
  {
   "cell_type": "code",
   "execution_count": null,
   "metadata": {},
   "outputs": [],
   "source": []
  },
  {
   "cell_type": "code",
   "execution_count": 16,
   "metadata": {},
   "outputs": [],
   "source": [
    "# Find the Truncated SVD of the TF-IDF matrix\n",
    "\n",
    "lsa = TruncatedSVD(n_components=50, random_state=1)  # CHANGE THE NUMBER OF COMPONENTS - NOTE: MORE COMPONENTS \n",
    "                                                      # GIVES YOU A MORE ACCURATE APPROXIMATION OF THE DOC-TERM \n",
    "                                                      # MATRIX, BUT IS ALSO MORE EXPENSIVE AND MAY NOT LEAD TO THE \n",
    "                                                      # BEST INFO RETRIEVAL RESULTS.\n",
    "USigma = lsa.fit_transform(tf_idf)\n",
    "Vtrans = lsa.components_"
   ]
  },
  {
   "cell_type": "code",
   "execution_count": 17,
   "metadata": {},
   "outputs": [],
   "source": [
    "S = lsa.singular_values_"
   ]
  },
  {
   "cell_type": "code",
   "execution_count": 18,
   "metadata": {},
   "outputs": [
    {
     "data": {
      "text/plain": [
       "array([126.2026823 ,  75.50207405,  58.61957317,  53.70609248,\n",
       "        53.36235746,  48.98076647,  45.11536839,  42.34263352,\n",
       "        39.78461328,  38.50170746,  37.75460958,  36.86680447,\n",
       "        35.77699442,  34.187326  ,  33.6845451 ,  33.14176657,\n",
       "        32.57960967,  31.90029149,  31.330768  ,  31.25763889,\n",
       "        30.66783579,  30.32479277,  30.04793135,  29.6305617 ,\n",
       "        29.09908964,  28.83356198,  28.7106275 ,  28.4572269 ,\n",
       "        28.19216753,  27.92769557,  27.44585017,  27.20000949,\n",
       "        26.65938306,  26.55558445,  26.18490167,  26.01166586,\n",
       "        25.82502699,  25.64733363,  25.54309587,  25.39677687,\n",
       "        25.18133438,  24.98979787,  24.84571794,  24.7454733 ,\n",
       "        24.56094518,  24.36732609,  24.08132006,  23.84525827,\n",
       "        23.57788701,  23.49980015])"
      ]
     },
     "execution_count": 18,
     "metadata": {},
     "output_type": "execute_result"
    }
   ],
   "source": [
    "S"
   ]
  },
  {
   "cell_type": "code",
   "execution_count": null,
   "metadata": {},
   "outputs": [],
   "source": []
  },
  {
   "cell_type": "code",
   "execution_count": 19,
   "metadata": {},
   "outputs": [],
   "source": [
    "# transform query to be in same space as documents\n",
    "\n",
    "q = q.reshape(1,-1)  # changes (n,) vector to (1,n)\n",
    "qhat = lsa.transform(q)"
   ]
  },
  {
   "cell_type": "code",
   "execution_count": 20,
   "metadata": {},
   "outputs": [
    {
     "name": "stdout",
     "output_type": "stream",
     "text": [
      "(1, 50)\n",
      "(696093, 50)\n",
      "(50, 1278210)\n"
     ]
    }
   ],
   "source": [
    "print(qhat.shape)\n",
    "print(USigma.shape)\n",
    "print(Vtrans.shape)"
   ]
  },
  {
   "cell_type": "code",
   "execution_count": 21,
   "metadata": {},
   "outputs": [],
   "source": [
    "lsa_scores = cosine_similarity(qhat, USigma)  "
   ]
  },
  {
   "cell_type": "code",
   "execution_count": 22,
   "metadata": {},
   "outputs": [
    {
     "data": {
      "text/plain": [
       "388482"
      ]
     },
     "execution_count": 22,
     "metadata": {},
     "output_type": "execute_result"
    }
   ],
   "source": [
    "sum(lsa_scores[0] > 0)\n",
    "\n",
    "# 10: 447043\n",
    "# 50: 376366   |  388482\n",
    "# 100: 378149\n",
    "# 150: \n",
    "# 200: 361772\n",
    "# 500: "
   ]
  },
  {
   "cell_type": "code",
   "execution_count": 23,
   "metadata": {},
   "outputs": [
    {
     "data": {
      "image/png": "[encoded data removed]",
      "text/plain": [
       "<Figure size 432x288 with 1 Axes>"
      ]
     },
     "metadata": {
      "needs_background": "light"
     },
     "output_type": "display_data"
    }
   ],
   "source": [
    "plt.hist(lsa_scores[0], bins = 30);\n",
    "#plt.xlim(0.9, 1.1)"
   ]
  },
  {
   "cell_type": "code",
   "execution_count": 24,
   "metadata": {},
   "outputs": [
    {
     "data": {
      "text/plain": [
       "7598"
      ]
     },
     "execution_count": 24,
     "metadata": {},
     "output_type": "execute_result"
    }
   ],
   "source": [
    "#np.percentile(lsa_scores[0], 93)\n",
    "\n",
    "sum(lsa_scores[0] >= 0.5)#/len(lsa_scores[0])\n",
    "\n",
    "# 10: 37846\n",
    "# 50: 8454    | 7598\n",
    "# 100: 3340\n",
    "# 150: \n",
    "# 200: 1458\n",
    "# 500: "
   ]
  },
  {
   "cell_type": "code",
   "execution_count": 25,
   "metadata": {},
   "outputs": [
    {
     "data": {
      "text/plain": [
       "0.5147699530707883"
      ]
     },
     "execution_count": 25,
     "metadata": {},
     "output_type": "execute_result"
    }
   ],
   "source": [
    "np.percentile(lsa_scores[0], 99)"
   ]
  },
  {
   "cell_type": "code",
   "execution_count": 26,
   "metadata": {},
   "outputs": [
    {
     "data": {
      "text/plain": [
       "0.002873179302190943"
      ]
     },
     "execution_count": 26,
     "metadata": {},
     "output_type": "execute_result"
    }
   ],
   "source": [
    "2000/len(lsa_scores[0])"
   ]
  },
  {
   "cell_type": "code",
   "execution_count": null,
   "metadata": {},
   "outputs": [],
   "source": []
  },
  {
   "cell_type": "code",
   "execution_count": null,
   "metadata": {},
   "outputs": [],
   "source": []
  },
  {
   "cell_type": "code",
   "execution_count": 27,
   "metadata": {},
   "outputs": [
    {
     "data": {
      "text/plain": [
       "array([0.96193369, 0.96065641, 0.94892791, 0.94892791, 0.94723005,\n",
       "       0.94530215, 0.94461166, 0.94329276, 0.94044104, 0.94044104])"
      ]
     },
     "execution_count": 27,
     "metadata": {},
     "output_type": "execute_result"
    }
   ],
   "source": [
    "lsa_idx = return_top_abstracts(lsa_scores[0], -1)  # CHANGE NUMBER OF TOP DOCS RETURNED -- 2000\n",
    "top_lsa_abstracts = docs[lsa_idx]\n",
    "\n",
    "# top scores\n",
    "lsa_scores[0][lsa_idx][0:10]"
   ]
  },
  {
   "cell_type": "code",
   "execution_count": 28,
   "metadata": {},
   "outputs": [
    {
     "data": {
      "text/plain": [
       "458334    influenza virus infection cause significant mo...\n",
       "663850    influenza virus infection cause significant mo...\n",
       "258602    april 2009 centers disease control prevention ...\n",
       "329048    april 2009 centers disease control prevention ...\n",
       "325384    epidemiological success pandemic epidemic infl...\n",
       "625742    use clinical sample identify influenza virus a...\n",
       "380216    lid scientist collaborate scientist medimmune_...\n",
       "477165    ferret widely use influenza virus pathogenesis...\n",
       "456505    iaa provide funding quantification usa swine i...\n",
       "549592    iaa provide funding quantification usa swine i...\n",
       "428232    iaa provide funding quantification usa swine i...\n",
       "687086    iaa provide funding quantification usa swine i...\n",
       "586295    iaa provide funding quantification usa swine i...\n",
       "503734    iaa provide funding quantification usa swine i...\n",
       "123103    appropriate vaccine essential global pandemic_...\n",
       "429075    experimental laboratory component use reverse ...\n",
       "328723    mosquito_bern member family bunyaviridae recog...\n",
       "475360    vaccination important method prevent seasonal_...\n",
       "327469    influenza virus evolution preclude long lastin...\n",
       "257255    influenza virus evolution preclude long lastin...\n",
       "185618    influenza virus evolution preclude long lastin...\n",
       "181749    billion poultry vaccine live genetically_modif...\n",
       "30912     annual epidemics influenza virus responsible d...\n",
       "87005     influenza virus constantly change virus regula...\n",
       "56567     lid scientist collaborate scientist medimmune_...\n",
       "dtype: object"
      ]
     },
     "execution_count": 28,
     "metadata": {},
     "output_type": "execute_result"
    }
   ],
   "source": [
    "top_lsa_abstracts[0:25]"
   ]
  },
  {
   "cell_type": "code",
   "execution_count": 29,
   "metadata": {},
   "outputs": [
    {
     "data": {
      "text/plain": [
       "'objective determine impact variant emerge virus development control respiratory disease ruminant develop means detect survey variant virus develop model evaluate infection emerge variant virus subobjective determine impact variant emerge virus improve current surveillance method diagnostic tool use detect control emerge virus objective elucidate host pathogen interaction associate bovine respiratory disease complex brdc define host pathway modulate result viral infection characterize role stress immunological related host effector molecule brdc_subobjective define interaction viral pathogen contribute development respiratory disease define modulation host immune response viral infection associate stress cause vitamin_d_insufficiency objective evaluate formulation delivery system vaccination neonate identify means modulate stress immunological factor associate brdc generate identification criterion mean generate vaccine ready calve develop intervention strategy control viral respiratory infection ruminant subobjective identify factor associate common management practice modulate immune function neonatal calve evaluate candidate vaccine use calve'"
      ]
     },
     "execution_count": 29,
     "metadata": {},
     "output_type": "execute_result"
    }
   ],
   "source": [
    "top_lsa_abstracts.iloc[1999]"
   ]
  },
  {
   "cell_type": "code",
   "execution_count": 30,
   "metadata": {},
   "outputs": [
    {
     "data": {
      "text/plain": [
       "array([0.68899447, 0.68899447, 0.68882351, 0.68840109, 0.68836624,\n",
       "       0.68831429, 0.68826001, 0.68820921, 0.68819917, 0.68817755])"
      ]
     },
     "execution_count": 30,
     "metadata": {},
     "output_type": "execute_result"
    }
   ],
   "source": [
    "lsa_scores[0][lsa_idx][1990:2000]"
   ]
  },
  {
   "cell_type": "code",
   "execution_count": null,
   "metadata": {},
   "outputs": [],
   "source": []
  },
  {
   "cell_type": "code",
   "execution_count": null,
   "metadata": {},
   "outputs": [],
   "source": []
  },
  {
   "cell_type": "markdown",
   "metadata": {},
   "source": [
    "### How do LSI and Term Matching Overlap?"
   ]
  },
  {
   "cell_type": "code",
   "execution_count": 34,
   "metadata": {},
   "outputs": [],
   "source": [
    "# look at the intersection/difference -- LSI seems to pick up mainly influenza\n",
    "\n",
    "#temp = list(set(term_match_idx).intersection(set(lsa_idx[0:2000])))\n",
    "temp = list(set(term_match_idx) - set(lsa_idx[0:2000]))"
   ]
  },
  {
   "cell_type": "code",
   "execution_count": 35,
   "metadata": {},
   "outputs": [
    {
     "data": {
      "text/plain": [
       "1839"
      ]
     },
     "execution_count": 35,
     "metadata": {},
     "output_type": "execute_result"
    }
   ],
   "source": [
    "len(temp)"
   ]
  },
  {
   "cell_type": "code",
   "execution_count": 36,
   "metadata": {},
   "outputs": [
    {
     "data": {
      "text/plain": [
       "'DESCRIPTION (provided by applicant): The emerging obesity pandemic is driving an alarming increase in the prevalence of insulin resistant forms of diabetes. The mechanisms whereby obesity leads to insulin resistance remain to be fully elucidated. Chronic caloric excess leads to increased delivery of adipose-derived fatty acids (FA) and cytokines to insulin responsive tissues such as skeletal muscle and heart, which can result in toxic effects (cellular  lipotoxicity ). Myocyte lipotoxicity is associated with mitochondrial derangements, insulin resistance, glucose intolerance, and striated muscle dysfunction, yet cause-effect relationships have not been established. Moreover, the molecular regulatory pathways that are protective or pathogenic in the cellular lipotoxic response have not been defined. We propose that traditional single disciplinary approaches to this problem cannot effectively address this complex process. Therefore, we plan to establish an interdisciplinary research team at the Burnham Institute for Medical Research (BIMR) to address this important problem. The specific objectives of this one year R24 Seed planning proposal are: 1) to assemble a team of investigators across scientific disciplines including biology, molecular medicine, medicinal chemistry, pharmacology, nanoscience engineering, bioinformatics, and physiology to develop and test strategies that will delineate pathways and molecules involved in the network of cellular signaling events and  downstream gene regulatory responses that drive adipocyte-myocyte metabolic reprogramming in  states of caloric excess; 2) to establish in vivo and cell-based systems that will support  complementary genetic and small molecule high-throughput screens using combined muscle and  adipose phenotypic endpoints and; 3) to generate preliminary data to establish proof-of-concept  and for the support of an application to establish a formal R24-supported research team. The long  term goal of this project is to unveil new mechanistic pathogenic paradigms and to identify novel  molecules and pathways that show promise as therapeutic targets and biomarkers relevant to  treatment of type 2 diabetes and its complications.  PUBLIC HEALTH RELEVANCE: We are currently witnessing an epidemic of obesity in the US, which is driving an unprecedented increase in the prevalence of diabetes. We have assembled a team of scientists from a variety of different disciplines to come together to address this important problem. We will use the strengths of biology, genetics, chemistry, physiology, and engineering in a single scientific team to identify new diagnostic markers and therapies for the prevention and treatment of diabetes and its complications.'"
      ]
     },
     "execution_count": 36,
     "metadata": {},
     "output_type": "execute_result"
    }
   ],
   "source": [
    "df['ABSTRACT'].iloc[temp[401]]"
   ]
  },
  {
   "cell_type": "code",
   "execution_count": null,
   "metadata": {},
   "outputs": [],
   "source": []
  },
  {
   "cell_type": "code",
   "execution_count": 37,
   "metadata": {},
   "outputs": [
    {
     "data": {
      "text/plain": [
       "696093"
      ]
     },
     "execution_count": 37,
     "metadata": {},
     "output_type": "execute_result"
    }
   ],
   "source": [
    "len(lsa_idx)"
   ]
  },
  {
   "cell_type": "code",
   "execution_count": 39,
   "metadata": {},
   "outputs": [],
   "source": [
    "# find term matching indices in sorted scores list\n",
    "\n",
    "tm_in_lsa_idx = []\n",
    "tm_lsa_score = []\n",
    "\n",
    "for i in term_match_idx:\n",
    "    j = list(lsa_idx).index(i)\n",
    "    tm_in_lsa_idx.append(j)\n",
    "    tm_lsa_score.append(lsa_scores[0][lsa_idx[j]])        "
   ]
  },
  {
   "cell_type": "code",
   "execution_count": 40,
   "metadata": {},
   "outputs": [
    {
     "data": {
      "text/plain": [
       "[61011, 67272, 6240, 2205, 523487]"
      ]
     },
     "execution_count": 40,
     "metadata": {},
     "output_type": "execute_result"
    }
   ],
   "source": [
    "tm_in_lsa_idx[0:5]"
   ]
  },
  {
   "cell_type": "code",
   "execution_count": 41,
   "metadata": {},
   "outputs": [
    {
     "data": {
      "text/plain": [
       "[0.09651653357997687,\n",
       " 0.08997739464500154,\n",
       " 0.5324789043302848,\n",
       " 0.6784939313737441,\n",
       " -0.025164367516276504]"
      ]
     },
     "execution_count": 41,
     "metadata": {},
     "output_type": "execute_result"
    }
   ],
   "source": [
    "tm_lsa_score[0:5]"
   ]
  },
  {
   "cell_type": "code",
   "execution_count": 42,
   "metadata": {},
   "outputs": [
    {
     "data": {
      "text/plain": [
       "0.09651653357997687"
      ]
     },
     "execution_count": 42,
     "metadata": {},
     "output_type": "execute_result"
    }
   ],
   "source": [
    "lsa_scores[0][lsa_idx[61011]]"
   ]
  },
  {
   "cell_type": "code",
   "execution_count": 43,
   "metadata": {},
   "outputs": [
    {
     "data": {
      "text/plain": [
       "[338, 464, 761, 3300, 3364]"
      ]
     },
     "execution_count": 43,
     "metadata": {},
     "output_type": "execute_result"
    }
   ],
   "source": [
    "term_match_idx[0:5]"
   ]
  },
  {
   "cell_type": "code",
   "execution_count": 44,
   "metadata": {},
   "outputs": [
    {
     "data": {
      "text/plain": [
       "0.09651653357997687"
      ]
     },
     "execution_count": 44,
     "metadata": {},
     "output_type": "execute_result"
    }
   ],
   "source": [
    "lsa_scores[0][338]"
   ]
  },
  {
   "cell_type": "code",
   "execution_count": 45,
   "metadata": {},
   "outputs": [
    {
     "data": {
      "text/plain": [
       "0.3725585267167022"
      ]
     },
     "execution_count": 45,
     "metadata": {},
     "output_type": "execute_result"
    }
   ],
   "source": [
    "np.mean(tm_lsa_score)"
   ]
  },
  {
   "cell_type": "code",
   "execution_count": 46,
   "metadata": {},
   "outputs": [
    {
     "data": {
      "text/plain": [
       "count      2308.000000\n",
       "mean      91465.904246\n",
       "std      164501.989669\n",
       "min           2.000000\n",
       "25%        2867.500000\n",
       "50%       16056.500000\n",
       "75%       72397.250000\n",
       "max      692744.000000\n",
       "dtype: float64"
      ]
     },
     "execution_count": 46,
     "metadata": {},
     "output_type": "execute_result"
    }
   ],
   "source": [
    "pd.Series(tm_in_lsa_idx).describe()"
   ]
  },
  {
   "cell_type": "code",
   "execution_count": 64,
   "metadata": {},
   "outputs": [
    {
     "name": "stdout",
     "output_type": "stream",
     "text": [
      "72397.25\n"
     ]
    }
   ],
   "source": [
    "p_95 = np.percentile(tm_in_lsa_idx,75)\n",
    "print(p_95)"
   ]
  },
  {
   "cell_type": "code",
   "execution_count": 65,
   "metadata": {},
   "outputs": [
    {
     "data": {
      "text/plain": [
       "10.400514011777162"
      ]
     },
     "execution_count": 65,
     "metadata": {},
     "output_type": "execute_result"
    }
   ],
   "source": [
    "100*p_95/len(df)"
   ]
  },
  {
   "cell_type": "code",
   "execution_count": 3,
   "metadata": {},
   "outputs": [
    {
     "data": {
      "text/plain": [
       "10.400478097035885"
      ]
     },
     "execution_count": 3,
     "metadata": {},
     "output_type": "execute_result"
    }
   ],
   "source": [
    "100*72397/len(df)"
   ]
  },
  {
   "cell_type": "code",
   "execution_count": null,
   "metadata": {},
   "outputs": [],
   "source": []
  },
  {
   "cell_type": "markdown",
   "metadata": {},
   "source": [
    "#### Scratch work for choosing rank of Truncated SVD in LSI\n",
    "\n",
    "Note: ending indices should each be +1 more than they are."
   ]
  },
  {
   "cell_type": "code",
   "execution_count": 35,
   "metadata": {},
   "outputs": [
    {
     "name": "stdout",
     "output_type": "stream",
     "text": [
      "1358\n"
     ]
    },
    {
     "data": {
      "text/plain": [
       "750"
      ]
     },
     "execution_count": 35,
     "metadata": {},
     "output_type": "execute_result"
    }
   ],
   "source": [
    "print(len(set(lsa_idx[0:2308]) - set(term_match_idx)))  # worst possible: 2307\n",
    "\n",
    "# 50: \n",
    "# 100: \n",
    "# 150: \n",
    "# 200: 1358\n",
    "# 500: \n",
    "\n",
    "len(set(term_match_idx).intersection(set(lsa_idx[:1458])))\n",
    "\n",
    "# 200: 750"
   ]
  },
  {
   "cell_type": "code",
   "execution_count": null,
   "metadata": {},
   "outputs": [],
   "source": []
  },
  {
   "cell_type": "code",
   "execution_count": 36,
   "metadata": {},
   "outputs": [],
   "source": [
    "#idx_50 = lsa_idx\n",
    "#idx_100 = lsa_idx\n",
    "#idx_150 = lsa_idx\n",
    "idx_200 = lsa_idx\n",
    "#idx_500 = lsa_idx"
   ]
  },
  {
   "cell_type": "code",
   "execution_count": 94,
   "metadata": {},
   "outputs": [
    {
     "data": {
      "text/plain": [
       "array([367176, 359975, 165083, 159197, 195614, 192354,  87187, 166197,\n",
       "       184972, 180905, 374680, 190758, 374655, 476818, 171274, 568853,\n",
       "       459330,  86152, 144080, 668292, 152978, 322361, 476180, 538655,\n",
       "       532055,  84518, 182902, 667807, 157238, 191261, 180040, 183565,\n",
       "       128226, 157053, 166876, 149957, 185250, 179546, 197965, 186328,\n",
       "       193129, 190281, 268571, 144236, 669417, 684269,  42243,  42640,\n",
       "       161305, 316242])"
      ]
     },
     "execution_count": 94,
     "metadata": {},
     "output_type": "execute_result"
    }
   ],
   "source": [
    "idx_50[0:50]"
   ]
  },
  {
   "cell_type": "code",
   "execution_count": 95,
   "metadata": {},
   "outputs": [
    {
     "data": {
      "text/plain": [
       "array([656975, 532055, 359975, 459330, 193129, 185250, 197965, 190281,\n",
       "       179546, 186328, 367176, 161305,  86152, 374655,  62424, 142717,\n",
       "       143762, 153784, 575566, 195614, 669417, 192354, 165083, 159197,\n",
       "       183565, 414286, 682087, 374680, 190758, 188496, 322361, 538655,\n",
       "       477013, 180905, 476818, 658186, 320839, 167280, 231632,  83536,\n",
       "       541212, 165820,  16487, 157676, 541197, 530525, 424368, 152028,\n",
       "       160659, 141163])"
      ]
     },
     "execution_count": 95,
     "metadata": {},
     "output_type": "execute_result"
    }
   ],
   "source": [
    "idx_100[0:50]"
   ]
  },
  {
   "cell_type": "code",
   "execution_count": 96,
   "metadata": {},
   "outputs": [
    {
     "data": {
      "text/plain": [
       "array([656975, 532055,  62424, 494325, 506772, 142717, 197965, 179546,\n",
       "       185250, 193129, 186328, 190281, 575566, 477013, 161305, 682087,\n",
       "       414286, 658186, 231632, 160659, 152028, 141163, 666335, 143762,\n",
       "       530525, 153784, 634389, 655408, 659636, 532037, 201626, 280520,\n",
       "       374655, 658791, 459330, 658997,  26944, 532890, 533383, 157676,\n",
       "       655518, 174376, 367176, 386563, 359975, 536105, 169713, 188496,\n",
       "       165820, 607701])"
      ]
     },
     "execution_count": 96,
     "metadata": {},
     "output_type": "execute_result"
    }
   ],
   "source": [
    "idx_150[0:50]"
   ]
  },
  {
   "cell_type": "code",
   "execution_count": 37,
   "metadata": {},
   "outputs": [
    {
     "data": {
      "text/plain": [
       "array([251567, 694614, 400298, 312429,  63939, 686135, 450560, 181224,\n",
       "       120973, 187716, 259114,  50405, 226490,  50465, 691128, 253153,\n",
       "       253072, 456505, 428232, 549592, 503734, 586295, 687086, 124010,\n",
       "        52086, 157425, 321654, 296776,  41918, 527529, 509432, 321751,\n",
       "       644592, 382461, 116918, 630413, 486450, 545306, 690188, 256396,\n",
       "       510252,  39172, 328393, 647298, 113438, 123684, 187309, 115512,\n",
       "       145686,  43995])"
      ]
     },
     "execution_count": 37,
     "metadata": {},
     "output_type": "execute_result"
    }
   ],
   "source": [
    "idx_200[0:50]"
   ]
  },
  {
   "cell_type": "code",
   "execution_count": 98,
   "metadata": {},
   "outputs": [
    {
     "data": {
      "text/plain": [
       "array([656975, 532055, 494325, 506772, 477013, 201626, 634389, 659636,\n",
       "        26944, 658186, 655408, 530525, 575566, 585717, 658997, 553218,\n",
       "        62424, 308156, 658791, 459220, 256803, 258900, 666335, 193129,\n",
       "       197965, 190281, 179546, 186328, 185250, 659738, 519707, 406123,\n",
       "       231632, 280520, 217136, 524203, 477077, 414286, 682087, 422364,\n",
       "       257015,  91293, 657896, 142717, 337268, 143762, 153784,  30019,\n",
       "       157676,  17508])"
      ]
     },
     "execution_count": 98,
     "metadata": {},
     "output_type": "execute_result"
    }
   ],
   "source": [
    "idx_500[0:50]"
   ]
  },
  {
   "cell_type": "code",
   "execution_count": 99,
   "metadata": {},
   "outputs": [],
   "source": [
    "#pickle.dump([idx_50, idx_100, idx_150, idx_200, idx_500], open('rank_test.sav','wb'))"
   ]
  },
  {
   "cell_type": "code",
   "execution_count": null,
   "metadata": {},
   "outputs": [],
   "source": [
    "# import saved data\n",
    "f = open('rank_test.sav', 'rb')\n",
    "[idx_50, idx_100, idx_150, idx_200, idx_500] = pickle.load(f)\n",
    "f.close()"
   ]
  },
  {
   "cell_type": "code",
   "execution_count": null,
   "metadata": {},
   "outputs": [],
   "source": []
  },
  {
   "cell_type": "code",
   "execution_count": 100,
   "metadata": {},
   "outputs": [
    {
     "name": "stdout",
     "output_type": "stream",
     "text": [
      "318\n",
      "--------\n",
      "555\n"
     ]
    }
   ],
   "source": [
    "print(len(set(idx_50[0:999]) - set(idx_100[0:999]))) \n",
    "\n",
    "print('--------')\n",
    "\n",
    "print(len(set(idx_50[0:1999]) - set(idx_100[0:1999]))) "
   ]
  },
  {
   "cell_type": "code",
   "execution_count": 101,
   "metadata": {},
   "outputs": [
    {
     "name": "stdout",
     "output_type": "stream",
     "text": [
      "551\n",
      "301\n",
      "------------\n",
      "956\n",
      "530\n"
     ]
    }
   ],
   "source": [
    "print(len(set(idx_50[0:999]) - set(idx_150[0:999])))\n",
    "print(len(set(idx_100[0:999]) - set(idx_150[0:999])))\n",
    "\n",
    "print('------------')\n",
    "\n",
    "print(len(set(idx_50[0:1999]) - set(idx_150[0:1999])))\n",
    "print(len(set(idx_100[0:1999]) - set(idx_150[0:1999])))"
   ]
  },
  {
   "cell_type": "code",
   "execution_count": 102,
   "metadata": {},
   "outputs": [
    {
     "name": "stdout",
     "output_type": "stream",
     "text": [
      "592\n",
      "370\n",
      "95\n",
      "--------\n",
      "1231\n",
      "856\n",
      "389\n"
     ]
    }
   ],
   "source": [
    "print(len(set(idx_50[0:999]) - set(idx_200[0:999])))\n",
    "print(len(set(idx_100[0:999]) - set(idx_200[0:999])))\n",
    "print(len(set(idx_150[0:999]) - set(idx_200[0:999])))\n",
    "\n",
    "print('--------')\n",
    "\n",
    "print(len(set(idx_50[0:1999]) - set(idx_200[0:1999])))\n",
    "print(len(set(idx_100[0:1999]) - set(idx_200[0:1999])))\n",
    "print(len(set(idx_150[0:1999]) - set(idx_200[0:1999])))"
   ]
  },
  {
   "cell_type": "code",
   "execution_count": 103,
   "metadata": {},
   "outputs": [
    {
     "name": "stdout",
     "output_type": "stream",
     "text": [
      "611\n",
      "399\n",
      "133\n",
      "55\n",
      "--------\n",
      "1259\n",
      "888\n",
      "433\n",
      "85\n"
     ]
    }
   ],
   "source": [
    "print(len(set(idx_50[0:999]) - set(idx_500[0:999])))\n",
    "print(len(set(idx_100[0:999]) - set(idx_500[0:999])))\n",
    "print(len(set(idx_150[0:999]) - set(idx_500[0:999])))\n",
    "print(len(set(idx_200[0:999]) - set(idx_500[0:999])))\n",
    "\n",
    "print('--------')\n",
    "\n",
    "print(len(set(idx_50[0:1999]) - set(idx_500[0:1999])))\n",
    "print(len(set(idx_100[0:1999]) - set(idx_500[0:1999])))\n",
    "print(len(set(idx_150[0:1999]) - set(idx_500[0:1999])))\n",
    "print(len(set(idx_200[0:1999]) - set(idx_500[0:1999])))"
   ]
  },
  {
   "cell_type": "code",
   "execution_count": null,
   "metadata": {},
   "outputs": [],
   "source": []
  },
  {
   "cell_type": "code",
   "execution_count": 39,
   "metadata": {},
   "outputs": [
    {
     "data": {
      "text/plain": [
       "0.500140538844111"
      ]
     },
     "execution_count": 39,
     "metadata": {},
     "output_type": "execute_result"
    }
   ],
   "source": [
    "lsa_scores[0][lsa_idx][1457]"
   ]
  },
  {
   "cell_type": "code",
   "execution_count": 120,
   "metadata": {},
   "outputs": [
    {
     "name": "stdout",
     "output_type": "stream",
     "text": [
      "181\n",
      "231\n",
      "146\n",
      "--------\n",
      "1323\n",
      "1216\n",
      "1300\n"
     ]
    }
   ],
   "source": [
    "# check overlap for the documents returned with cosine score > 0.5\n",
    "\n",
    "#sum(lsa_scores[0] >= 0.5)\n",
    "\n",
    "# 50: 9731\n",
    "# 100: 3520\n",
    "# 150: 1505\n",
    "# 200: 1447\n",
    "# 500: 1307\n",
    "\n",
    "print(len(set(idx_150[0:1504]) - set(idx_200[0:1446])))\n",
    "print(len(set(idx_150[0:1504]) - set(idx_500[0:1446])))\n",
    "print(len(set(idx_200[0:1446]) - set(idx_500[0:1306])))\n",
    "\n",
    "print('--------')\n",
    "\n",
    "print(len(set(idx_150[0:1504]).intersection(set(idx_200[0:1446]))))\n",
    "print(len(set(idx_150[0:1504]).intersection(set(idx_500[0:1306]))))\n",
    "print(len(set(idx_500[0:1306]).intersection(set(idx_200[0:1446]))))"
   ]
  },
  {
   "cell_type": "code",
   "execution_count": null,
   "metadata": {},
   "outputs": [],
   "source": []
  },
  {
   "cell_type": "code",
   "execution_count": null,
   "metadata": {},
   "outputs": [],
   "source": []
  },
  {
   "cell_type": "code",
   "execution_count": null,
   "metadata": {},
   "outputs": [],
   "source": []
  },
  {
   "cell_type": "markdown",
   "metadata": {},
   "source": [
    "## Create filtered corpus\n",
    "\n",
    "We use the results of our two information retrieval techniques to create a new, smaller corpus that only contains abstracts relevant to the query. "
   ]
  },
  {
   "cell_type": "code",
   "execution_count": 55,
   "metadata": {},
   "outputs": [],
   "source": [
    "docs_ix = np.concatenate([term_match_idx, lsa_idx]) "
   ]
  },
  {
   "cell_type": "code",
   "execution_count": 56,
   "metadata": {},
   "outputs": [],
   "source": [
    "docs_idx = np.unique(docs_ix)"
   ]
  },
  {
   "cell_type": "code",
   "execution_count": 57,
   "metadata": {},
   "outputs": [
    {
     "data": {
      "text/plain": [
       "(3839,)"
      ]
     },
     "execution_count": 57,
     "metadata": {},
     "output_type": "execute_result"
    }
   ],
   "source": [
    "docs_idx.shape"
   ]
  },
  {
   "cell_type": "code",
   "execution_count": null,
   "metadata": {},
   "outputs": [],
   "source": []
  },
  {
   "cell_type": "code",
   "execution_count": null,
   "metadata": {},
   "outputs": [],
   "source": [
    "# check where term-matching and lsi indices overlap"
   ]
  },
  {
   "cell_type": "code",
   "execution_count": 58,
   "metadata": {},
   "outputs": [],
   "source": [
    "tm = set(term_match_idx)\n",
    "lsi = set(lsa_idx)"
   ]
  },
  {
   "cell_type": "code",
   "execution_count": 59,
   "metadata": {},
   "outputs": [
    {
     "name": "stdout",
     "output_type": "stream",
     "text": [
      "469\n"
     ]
    }
   ],
   "source": [
    "both = tm.intersection(lsi)\n",
    "print(len(both))"
   ]
  },
  {
   "cell_type": "code",
   "execution_count": 60,
   "metadata": {},
   "outputs": [
    {
     "name": "stdout",
     "output_type": "stream",
     "text": [
      "2308\n",
      "2000\n"
     ]
    }
   ],
   "source": [
    "print(len(term_match_idx))\n",
    "print(len(lsa_idx))"
   ]
  },
  {
   "cell_type": "code",
   "execution_count": 61,
   "metadata": {},
   "outputs": [
    {
     "data": {
      "text/plain": [
       "1839"
      ]
     },
     "execution_count": 61,
     "metadata": {},
     "output_type": "execute_result"
    }
   ],
   "source": [
    "2308-469"
   ]
  },
  {
   "cell_type": "code",
   "execution_count": 62,
   "metadata": {},
   "outputs": [
    {
     "data": {
      "text/plain": [
       "1531"
      ]
     },
     "execution_count": 62,
     "metadata": {},
     "output_type": "execute_result"
    }
   ],
   "source": [
    "2000-469"
   ]
  },
  {
   "cell_type": "code",
   "execution_count": null,
   "metadata": {},
   "outputs": [],
   "source": []
  },
  {
   "cell_type": "code",
   "execution_count": null,
   "metadata": {},
   "outputs": [],
   "source": []
  },
  {
   "cell_type": "markdown",
   "metadata": {},
   "source": [
    "**create case-study corpuses**"
   ]
  },
  {
   "cell_type": "code",
   "execution_count": 63,
   "metadata": {},
   "outputs": [],
   "source": [
    "filt_corpus = df.loc[docs_idx, :]"
   ]
  },
  {
   "cell_type": "code",
   "execution_count": 64,
   "metadata": {},
   "outputs": [
    {
     "data": {
      "text/plain": [
       "(3839, 31)"
      ]
     },
     "execution_count": 64,
     "metadata": {},
     "output_type": "execute_result"
    }
   ],
   "source": [
    "filt_corpus.shape"
   ]
  },
  {
   "cell_type": "code",
   "execution_count": null,
   "metadata": {},
   "outputs": [],
   "source": []
  },
  {
   "cell_type": "code",
   "execution_count": 65,
   "metadata": {},
   "outputs": [],
   "source": [
    "filt_corpus.to_pickle(\"./pandemic_corpus.pkl\")\n",
    "\n",
    "#pandemic_corpus = pd.read_pickle(\"/home/kjl5t/dspg20RnD/data/final/dashboard_data/pandemic_corpus.pkl\")\n",
    "#pandemic_corpus.shape"
   ]
  },
  {
   "cell_type": "code",
   "execution_count": 41,
   "metadata": {},
   "outputs": [],
   "source": [
    "lim_docs = filt_corpus[\"final_tokens\"]"
   ]
  },
  {
   "cell_type": "code",
   "execution_count": null,
   "metadata": {},
   "outputs": [],
   "source": []
  },
  {
   "cell_type": "code",
   "execution_count": 42,
   "metadata": {},
   "outputs": [],
   "source": [
    "# input needed for LDA, NMF (all from Scikit-Learn) is one string per document (not a list of strings)\n",
    "\n",
    "text = []\n",
    "\n",
    "for token_list in lim_docs:\n",
    "    text.append(\" \".join(token_list))"
   ]
  },
  {
   "cell_type": "code",
   "execution_count": 43,
   "metadata": {},
   "outputs": [
    {
     "data": {
      "text/plain": [
       "3839"
      ]
     },
     "execution_count": 43,
     "metadata": {},
     "output_type": "execute_result"
    }
   ],
   "source": [
    "len(lim_docs)"
   ]
  },
  {
   "cell_type": "code",
   "execution_count": null,
   "metadata": {},
   "outputs": [],
   "source": []
  },
  {
   "cell_type": "code",
   "execution_count": null,
   "metadata": {},
   "outputs": [],
   "source": []
  },
  {
   "cell_type": "markdown",
   "metadata": {},
   "source": [
    "## Topic Modeling with relevant pandemic abstracts"
   ]
  },
  {
   "cell_type": "code",
   "execution_count": 44,
   "metadata": {},
   "outputs": [],
   "source": [
    "# function slightly modified from https://nlpforhackers.io/topic-modeling/\n",
    "\n",
    "def print_topics(model, vectorizer, top_n=10):\n",
    "    for idx, topic in enumerate(model.components_):  # loop through each row of H.  idx = row index.  topic = actual row\n",
    "        print(\"\\nTopic %d:\" % (idx))\n",
    "        #print([(vectorizer.get_feature_names()[i], topic[i])  # printing out words corresponding to indices found in next line\n",
    "                        #for i in topic.argsort()[:-top_n - 1:-1]])  # finding indices of top words in topic\n",
    "            \n",
    "        print_list = [(vectorizer.get_feature_names()[i], topic[i])  \n",
    "                        for i in topic.argsort()[:-top_n - 1:-1]]\n",
    "        for item in print_list:\n",
    "            print(item)\n",
    "        "
   ]
  },
  {
   "cell_type": "code",
   "execution_count": 45,
   "metadata": {},
   "outputs": [],
   "source": [
    "# Create a TF-IDF document-term matrix for the pandemics corpus \n",
    "\n",
    "# TRY DIFFERENT PARAMETERS IN THE TF-IDF DOC-TERM MATRIX SET-UP\n",
    "\n",
    "stop_wds = ['research', 'study', 'project']\n",
    "\n",
    "nmf_vectorizer = TfidfVectorizer(max_df=1.0, min_df=3, lowercase=False, stop_words=stop_wds)\n",
    "\n",
    "nmf_tf_idf = nmf_vectorizer.fit_transform(text)"
   ]
  },
  {
   "cell_type": "code",
   "execution_count": 46,
   "metadata": {},
   "outputs": [
    {
     "data": {
      "text/plain": [
       "(3839, 12767)"
      ]
     },
     "execution_count": 46,
     "metadata": {},
     "output_type": "execute_result"
    }
   ],
   "source": [
    "nmf_tf_idf.shape"
   ]
  },
  {
   "cell_type": "code",
   "execution_count": 47,
   "metadata": {},
   "outputs": [],
   "source": [
    "# topic modeling with NMF\n",
    "\n",
    "nmf_model = NMF(n_components=30, random_state=1)  # TRY DIFFERENT NUMBERS OF TOPICS\n",
    "W = nmf_model.fit_transform(nmf_tf_idf)\n",
    "H = nmf_model.components_"
   ]
  },
  {
   "cell_type": "code",
   "execution_count": 48,
   "metadata": {},
   "outputs": [
    {
     "name": "stdout",
     "output_type": "stream",
     "text": [
      "\n",
      "Topic 0:\n",
      "('virus', 4.31011811025143)\n",
      "('human', 0.6192710623536578)\n",
      "('cause', 0.4062242273753832)\n",
      "('infection', 0.3931962375371554)\n",
      "('infect', 0.38102094943879566)\n",
      "('isolate', 0.2822045262750038)\n",
      "('vector', 0.27526502162276945)\n",
      "('avian_influenza', 0.264309352118311)\n",
      "('significant', 0.2424332078014022)\n",
      "('1918', 0.23437215301700548)\n",
      "\n",
      "Topic 1:\n",
      "('hiv', 2.747452764493949)\n",
      "('aids', 0.3852091100243925)\n",
      "('infect', 0.2252743153793536)\n",
      "('env', 0.19258907703466285)\n",
      "('infection', 0.18461836426711975)\n",
      "('antiretroviral', 0.14906257630047054)\n",
      "('trial', 0.14656214639724593)\n",
      "('prevention', 0.13908005772937918)\n",
      "('pandemic', 0.13713038455827942)\n",
      "('study', 0.13530580206696766)\n",
      "\n",
      "Topic 2:\n",
      "('vaccine', 1.8458208599468884)\n",
      "('adjuvant', 0.44521836811944077)\n",
      "('protection', 0.3513026333949451)\n",
      "('antigen', 0.33651781015637994)\n",
      "('protective', 0.32349172339492505)\n",
      "('immune', 0.2985902362231166)\n",
      "('response', 0.2844381151622103)\n",
      "('strain', 0.2816831094083402)\n",
      "('immunity', 0.2815867063896581)\n",
      "('efficacy', 0.2813757494989276)\n",
      "\n",
      "Topic 3:\n",
      "('influenza', 2.9023855009089004)\n",
      "('strain', 0.34845894299595515)\n",
      "('vaccination', 0.26496549812361947)\n",
      "('virus', 0.24012928393545113)\n",
      "('year', 0.22145812197545472)\n",
      "('child', 0.19423403179784088)\n",
      "('ha', 0.16850766034861092)\n",
      "('swine', 0.16475349271627135)\n",
      "('pandemic', 0.16253942295423077)\n",
      "('effectiveness', 0.15541559908933653)\n",
      "\n",
      "Topic 4:\n",
      "('cell', 2.3669741620252904)\n",
      "('memory', 0.8980995848619249)\n",
      "('response', 0.7571538221573151)\n",
      "('cd4', 0.6334286235379919)\n",
      "('subset', 0.4612794231731799)\n",
      "('cd8_t', 0.3442638942205098)\n",
      "('infection', 0.3357130965910588)\n",
      "('selectin', 0.32969648177290306)\n",
      "('immunity', 0.3219583368151244)\n",
      "('effector', 0.2959559127179464)\n",
      "\n",
      "Topic 5:\n",
      "('training', 1.5257604770991964)\n",
      "('research', 1.5167915948751742)\n",
      "('program', 1.123653049162693)\n",
      "('trainee', 0.6998931491486485)\n",
      "('student', 0.5630555936297313)\n",
      "('university', 0.5339334752603296)\n",
      "('faculty', 0.5060268000307923)\n",
      "('scientist', 0.4870265617175854)\n",
      "('investigator', 0.4617124847217438)\n",
      "('career', 0.40709655332833605)\n",
      "\n",
      "Topic 6:\n",
      "('inhibitor', 1.5459028106531565)\n",
      "('drug', 1.3912980309112069)\n",
      "('compound', 0.7768162680198298)\n",
      "('resistance', 0.6550491515895698)\n",
      "('antiviral', 0.5697492359159907)\n",
      "('target', 0.4834952282651504)\n",
      "('entry', 0.4104558242355708)\n",
      "('screen', 0.40984329369097106)\n",
      "('fusion', 0.39983096996243533)\n",
      "('activity', 0.36758172632592145)\n",
      "\n",
      "Topic 7:\n",
      "('antibody', 1.7534847910633133)\n",
      "('epitope', 0.8875824615580943)\n",
      "('ha', 0.7255134859713854)\n",
      "('bind', 0.5571663343496307)\n",
      "('immunogen', 0.39876624322304005)\n",
      "('monoclonal_antibody', 0.3888140497757234)\n",
      "('neutralization', 0.3852523188719928)\n",
      "('human', 0.3767923090530855)\n",
      "('conserve', 0.3428770353529226)\n",
      "('neutralize', 0.3362694359835805)\n",
      "\n",
      "Topic 8:\n",
      "('infection', 1.2168651177717653)\n",
      "('lung', 1.1831575436206936)\n",
      "('mouse', 0.5703811371637063)\n",
      "('ifn', 0.4962343430233248)\n",
      "('bacterial', 0.4931376350078363)\n",
      "('model', 0.489653606324917)\n",
      "('respiratory', 0.48630922744805016)\n",
      "('injury', 0.46758665494348206)\n",
      "('disease', 0.4608894146594915)\n",
      "('response', 0.4400838515340195)\n",
      "\n",
      "Topic 9:\n",
      "('iav', 2.2172279414556595)\n",
      "('response', 0.23298703288394954)\n",
      "('immunity', 0.21317423791276988)\n",
      "('sp', 0.2037288059740088)\n",
      "('cd1c_dc', 0.17783982830703082)\n",
      "('evolution', 0.17482431427300058)\n",
      "('htbe', 0.15476191433034048)\n",
      "('study', 0.14637470807419783)\n",
      "('host', 0.14122162226096552)\n",
      "('ha', 0.13349118761078743)\n",
      "\n",
      "Topic 10:\n",
      "('vaccine', 1.5663334320723774)\n",
      "('attenuate', 1.5036621942951596)\n",
      "('live', 0.9479168078332607)\n",
      "('dose', 0.7891063324000045)\n",
      "('virus', 0.7397060228858061)\n",
      "('candidate', 0.7238406409455396)\n",
      "('clinical', 0.5590910792759158)\n",
      "('laiv', 0.5571411103983519)\n",
      "('mutation', 0.5349199491385582)\n",
      "('evaluate', 0.48402764149530075)\n",
      "\n",
      "Topic 11:\n",
      "('intervention', 0.7350752309833467)\n",
      "('health', 0.5855232465802817)\n",
      "('social', 0.5786042283312128)\n",
      "('model', 0.5503621893520496)\n",
      "('data', 0.5335404937512953)\n",
      "('transmission', 0.5188358519396484)\n",
      "('behavior', 0.5086811784273143)\n",
      "('risk', 0.48814643308671135)\n",
      "('disease', 0.4773526298108556)\n",
      "('population', 0.42473806231279343)\n",
      "\n",
      "Topic 12:\n",
      "('host', 1.520651355136172)\n",
      "('viral', 1.1135348325694865)\n",
      "('evolution', 0.962438906091344)\n",
      "('transmission', 0.7073552601943635)\n",
      "('evolutionary', 0.5705714980887184)\n",
      "('diversity', 0.5704771465219219)\n",
      "('genetic', 0.5689706956088246)\n",
      "('pathogen', 0.49882559720869596)\n",
      "('pathogenesis', 0.4751287852412647)\n",
      "('resistance', 0.42200861650536226)\n",
      "\n",
      "Topic 13:\n",
      "('rsv', 2.4028182188576013)\n",
      "('child', 0.3687622371939554)\n",
      "('respiratory_syncytial', 0.30803255681204184)\n",
      "('vaccine', 0.2530940563937942)\n",
      "('mtase', 0.21735102551816193)\n",
      "('candidate', 0.19323638365790394)\n",
      "('virus', 0.18023856289714538)\n",
      "('cotton', 0.17613354802924097)\n",
      "('infant', 0.17259042713370487)\n",
      "('attenuate', 0.16728243323436667)\n",
      "\n",
      "Topic 14:\n",
      "('core', 2.5208186542634468)\n",
      "('project', 0.9987084718996893)\n",
      "('support', 0.5509060243783029)\n",
      "('research', 0.5149558758364384)\n",
      "('investigator', 0.46971333381438124)\n",
      "('kshv', 0.3661064644792745)\n",
      "('service', 0.3552793992315307)\n",
      "('technology', 0.35203455047268645)\n",
      "('method', 0.3286616102745784)\n",
      "('stock', 0.313382765406063)\n",
      "\n",
      "Topic 15:\n",
      "('hsv', 1.8942908151843885)\n",
      "('genital_herpes', 0.38902859192220424)\n",
      "('dl5_29', 0.2516949795165844)\n",
      "('herpes_simplex_virus', 0.16593892959659504)\n",
      "('subject', 0.16089781552410606)\n",
      "('infection', 0.14282396979504045)\n",
      "('herpes', 0.13071974790156776)\n",
      "('vaccine', 0.12174699642100867)\n",
      "('microbicy', 0.11224661496890245)\n",
      "('genital', 0.10141172554902035)\n",
      "\n",
      "Topic 16:\n",
      "('influenza', 1.1966567304190434)\n",
      "('ecologic', 1.1546287727947073)\n",
      "('immune', 1.096579410953894)\n",
      "('cross_protection', 1.0406479668367226)\n",
      "('environmental', 0.8883384375214443)\n",
      "('pathogenicity', 0.8048054904113262)\n",
      "('correlate', 0.7848083576020238)\n",
      "('evolution', 0.7774170718624716)\n",
      "('influence', 0.7646038795420845)\n",
      "('emergence', 0.6837687562358672)\n",
      "\n",
      "Topic 17:\n",
      "('dengue', 2.484700125488214)\n",
      "('serotype', 0.3686265072434036)\n",
      "('denv', 0.3415747086531902)\n",
      "('virus', 0.32032306343516737)\n",
      "('den', 0.2169373502268978)\n",
      "('vector', 0.19112053387967837)\n",
      "('mosquito', 0.18881257043592567)\n",
      "('infection', 0.1839723993829573)\n",
      "('tetravalent_vaccine', 0.1752652677109791)\n",
      "('vaccine', 0.1702446723364239)\n",
      "\n",
      "Topic 18:\n",
      "('diagnostic', 0.9908292619217444)\n",
      "('detection', 0.6816000423396997)\n",
      "('assay', 0.5542502815439255)\n",
      "('sample', 0.5360658655612418)\n",
      "('poc', 0.5346275029403609)\n",
      "('technology', 0.49215669018947256)\n",
      "('rapid', 0.41994752762628346)\n",
      "('cost', 0.4005146132348099)\n",
      "('test', 0.39731326904965175)\n",
      "('detect', 0.36392674030608385)\n",
      "\n",
      "Topic 19:\n",
      "('product', 0.7122822605281378)\n",
      "('facility', 0.7117741014551855)\n",
      "('manufacturing', 0.5873376781286748)\n",
      "('material', 0.5496617712613923)\n",
      "('clinical', 0.5131429746788533)\n",
      "('trial', 0.44805036206339693)\n",
      "('vaccine', 0.44732253087288754)\n",
      "('raw', 0.44356280359679207)\n",
      "('manufacture', 0.41029014199055025)\n",
      "('fill', 0.39526409135385854)\n",
      "\n",
      "Topic 20:\n",
      "('hcv', 1.6516000407993414)\n",
      "('hepatitis', 0.6079733476053465)\n",
      "('chimpanzee', 0.5768147463000782)\n",
      "('genotype', 0.35581058632874124)\n",
      "('liver', 0.2933904296283122)\n",
      "('hev', 0.28116689563632896)\n",
      "('hepatitis_c', 0.27296876788953756)\n",
      "('vaccine', 0.2484528329387514)\n",
      "('infection', 0.24016124930854546)\n",
      "('cancer', 0.238402010338491)\n",
      "\n",
      "Topic 21:\n",
      "('siv', 1.4304714379481438)\n",
      "('challenge', 0.4941274930793147)\n",
      "('mucosal', 0.44980273074571075)\n",
      "('transmit_founder', 0.4057682479627739)\n",
      "('transmission', 0.3385734134788298)\n",
      "('macaque', 0.26186688368491845)\n",
      "('replication', 0.2589328447015624)\n",
      "('route', 0.22338970374880207)\n",
      "('clone', 0.21307572148729853)\n",
      "('rhesus_macaque', 0.21147103268015366)\n",
      "\n",
      "Topic 22:\n",
      "('animal', 1.0897264922339935)\n",
      "('bird', 0.6242511323801522)\n",
      "('surveillance', 0.5074137318544418)\n",
      "('close', 0.45313735514132364)\n",
      "('contact', 0.44990318023729015)\n",
      "('characterization', 0.40850780160984707)\n",
      "('rapid', 0.38585238292639534)\n",
      "('human', 0.3370261969096566)\n",
      "('reassortment', 0.33677788524010877)\n",
      "('wild', 0.3229679684453442)\n",
      "\n",
      "Topic 23:\n",
      "('wnv', 1.5417547044842321)\n",
      "('denv', 0.6237001959961719)\n",
      "('antibody', 0.5028968699586026)\n",
      "('flaviviruse', 0.412286627568649)\n",
      "('infection', 0.4010045253019259)\n",
      "('flavivirus', 0.36135866186273563)\n",
      "('ade', 0.3394912891965731)\n",
      "('disease', 0.31023119206224326)\n",
      "('serotype_denv', 0.30631091243733827)\n",
      "('enhancement', 0.2572792253704213)\n",
      "\n",
      "Topic 24:\n",
      "('obesity', 1.2326577858935062)\n",
      "('cancer', 0.4575940498912017)\n",
      "('insulin', 0.4405199544952037)\n",
      "('obese', 0.42838389010742034)\n",
      "('diabete', 0.3864016853424205)\n",
      "('metabolic', 0.3444048016174714)\n",
      "('adipocyte', 0.3028757088278857)\n",
      "('weight', 0.24136757502396156)\n",
      "('glucose', 0.23742034345227778)\n",
      "('effect', 0.21733810510250476)\n",
      "\n",
      "Topic 25:\n",
      "('rna', 1.5289042974322435)\n",
      "('protein', 1.3777093945516423)\n",
      "('viral', 1.1408781668635977)\n",
      "('assembly', 0.716837572026575)\n",
      "('ns1', 0.5847453968085519)\n",
      "('structure', 0.5435471203528769)\n",
      "('virus', 0.5416594703832808)\n",
      "('replication', 0.5379762376701742)\n",
      "('interaction', 0.516320796109385)\n",
      "('host', 0.47004254423502084)\n",
      "\n",
      "Topic 26:\n",
      "('organism', 0.8707079385626609)\n",
      "('gene', 0.8337599553817483)\n",
      "('sequence', 0.6964108584459314)\n",
      "('ortholog', 0.5025080673850238)\n",
      "('genome', 0.38305347196999195)\n",
      "('missing', 0.3177048199544721)\n",
      "('analysis', 0.23295620060462435)\n",
      "('dna', 0.2240062115962703)\n",
      "('different', 0.20515758774090911)\n",
      "('group', 0.20445361171977744)\n",
      "\n",
      "Topic 27:\n",
      "('mucus', 0.7678007148895309)\n",
      "('igg', 0.5905436129731647)\n",
      "('trap', 0.5297530722068483)\n",
      "('vaginal', 0.2600910085743912)\n",
      "('trapping', 0.2510893352630215)\n",
      "('penetrate_mucus', 0.22609532671213778)\n",
      "('mucus_gel', 0.2258559115198785)\n",
      "('reach', 0.2098155229861469)\n",
      "('pab', 0.20598231684001547)\n",
      "('function', 0.20223210113505732)\n",
      "\n",
      "Topic 28:\n",
      "('tb', 1.2214227990529185)\n",
      "('mtb', 0.9216510785942972)\n",
      "('tuberculosis_tb', 0.17877300331454574)\n",
      "('treatment', 0.17744731511880288)\n",
      "('drug', 0.15941013467648632)\n",
      "('tuberculosis', 0.14834779698557865)\n",
      "('aids', 0.14542158099247243)\n",
      "('treg', 0.1316193098409748)\n",
      "('co_infection', 0.122861684018632)\n",
      "('mycobacterium_tuberculosis_mtb', 0.12160605142697273)\n",
      "\n",
      "Topic 29:\n",
      "('zikv', 1.772407459344226)\n",
      "('zika_virus_zikv', 0.22177040586161528)\n",
      "('microcephaly', 0.15962875939916726)\n",
      "('mosquito', 0.12185779324890571)\n",
      "('fetal', 0.1147201733937108)\n",
      "('transmit', 0.11416145257779893)\n",
      "('transmission', 0.11110693042171786)\n",
      "('outbreak', 0.11034391340513088)\n",
      "('infect', 0.1060947881856258)\n",
      "('infection', 0.10563749748316444)\n"
     ]
    }
   ],
   "source": [
    "print_topics(nmf_model, nmf_vectorizer, 10)"
   ]
  },
  {
   "cell_type": "code",
   "execution_count": null,
   "metadata": {},
   "outputs": [],
   "source": []
  },
  {
   "cell_type": "code",
   "execution_count": null,
   "metadata": {},
   "outputs": [],
   "source": []
  },
  {
   "cell_type": "code",
   "execution_count": 66,
   "metadata": {},
   "outputs": [
    {
     "data": {
      "text/plain": [
       "(2308,)"
      ]
     },
     "execution_count": 66,
     "metadata": {},
     "output_type": "execute_result"
    }
   ],
   "source": [
    "docs_ix = term_match_idx \n",
    "docs_idx = np.unique(docs_ix)\n",
    "docs_idx.shape"
   ]
  },
  {
   "cell_type": "code",
   "execution_count": 67,
   "metadata": {},
   "outputs": [
    {
     "name": "stdout",
     "output_type": "stream",
     "text": [
      "(2308, 31)\n",
      "2308\n"
     ]
    }
   ],
   "source": [
    "# topic model with just term matching\n",
    "\n",
    "filt_corpus2 = df.loc[docs_idx, :]\n",
    "print(filt_corpus2.shape)\n",
    "\n",
    "lim_docs = filt_corpus2[\"final_tokens\"]\n",
    "print(len(lim_docs))"
   ]
  },
  {
   "cell_type": "code",
   "execution_count": 68,
   "metadata": {},
   "outputs": [],
   "source": [
    "filt_corpus2.to_pickle(\"./term-match-corpus.pkl\")"
   ]
  },
  {
   "cell_type": "code",
   "execution_count": 51,
   "metadata": {},
   "outputs": [],
   "source": [
    "# input needed for LDA, NMF (all from Scikit-Learn) is one string per document (not a list of strings)\n",
    "\n",
    "text = []\n",
    "\n",
    "for token_list in lim_docs:\n",
    "    text.append(\" \".join(token_list))"
   ]
  },
  {
   "cell_type": "code",
   "execution_count": 52,
   "metadata": {},
   "outputs": [
    {
     "name": "stdout",
     "output_type": "stream",
     "text": [
      "(2308, 9493)\n"
     ]
    }
   ],
   "source": [
    "# Create a TF-IDF document-term matrix for the pandemics corpus \n",
    "\n",
    "# TRY DIFFERENT PARAMETERS IN THE TF-IDF DOC-TERM MATRIX SET-UP\n",
    "\n",
    "stop_wds = ['research', 'study', 'project']\n",
    "nmf_vectorizer2 = TfidfVectorizer(max_df=1.0, min_df=3, lowercase=True, stop_words=stop_wds) \n",
    "\n",
    "nmf_tf_idf2 = nmf_vectorizer2.fit_transform(text)\n",
    "print(nmf_tf_idf2.shape)"
   ]
  },
  {
   "cell_type": "code",
   "execution_count": 53,
   "metadata": {},
   "outputs": [],
   "source": [
    "# topic modeling with NMF\n",
    "\n",
    "nmf_model2 = NMF(n_components=30, random_state=1)  # TRY DIFFERENT NUMBERS OF TOPICS\n",
    "W = nmf_model2.fit_transform(nmf_tf_idf2)\n",
    "H = nmf_model2.components_"
   ]
  },
  {
   "cell_type": "code",
   "execution_count": 54,
   "metadata": {},
   "outputs": [
    {
     "name": "stdout",
     "output_type": "stream",
     "text": [
      "\n",
      "Topic 0:\n",
      "('virus', 3.4757536613841533)\n",
      "('influenza', 1.0017618579781031)\n",
      "('human', 0.8580609368669242)\n",
      "('1918', 0.6482605992746269)\n",
      "('swine', 0.48860665517983026)\n",
      "('avian_influenza', 0.4790004780351554)\n",
      "('2009', 0.4438599464577766)\n",
      "('avian', 0.4128289361943704)\n",
      "('significant', 0.39699960937694484)\n",
      "('cause', 0.39251951969446697)\n",
      "\n",
      "Topic 1:\n",
      "('hiv', 2.4761948979510433)\n",
      "('aids', 0.375140738358964)\n",
      "('infection', 0.22971812145478543)\n",
      "('transmission', 0.2187235056311156)\n",
      "('infect', 0.20155118589300994)\n",
      "('prevention', 0.1542656114104718)\n",
      "('woman', 0.15019637715986667)\n",
      "('incidence', 0.13529172554748783)\n",
      "('sexual', 0.1287311887761681)\n",
      "('siv', 0.12386166946240978)\n",
      "\n",
      "Topic 2:\n",
      "('influenza', 2.6886065118124183)\n",
      "('strain', 0.454477748739749)\n",
      "('child', 0.41296196065464186)\n",
      "('vaccination', 0.36537092915503105)\n",
      "('virus', 0.30122324813712575)\n",
      "('year', 0.27782170824074337)\n",
      "('age', 0.2510203727899376)\n",
      "('population', 0.23875382304526305)\n",
      "('illness', 0.20715377302997026)\n",
      "('effectiveness', 0.2048934629886081)\n",
      "\n",
      "Topic 3:\n",
      "('vaccine', 1.952513888761615)\n",
      "('adjuvant', 0.4262457214522313)\n",
      "('antigen', 0.3952946927745079)\n",
      "('protective', 0.36457921730200055)\n",
      "('protection', 0.3584126826836522)\n",
      "('efficacy', 0.3014385893331429)\n",
      "('immunity', 0.2973790923259043)\n",
      "('response', 0.284131249228618)\n",
      "('strain', 0.26253483966856006)\n",
      "('immune', 0.25907991504863553)\n",
      "\n",
      "Topic 4:\n",
      "('cell', 2.2091744907028126)\n",
      "('response', 0.9095898449420543)\n",
      "('infection', 0.6501610015336975)\n",
      "('dc', 0.5633764973764596)\n",
      "('immune', 0.5224413736098208)\n",
      "('ifn', 0.3901675496656558)\n",
      "('nk', 0.3489738005004691)\n",
      "('cytokine', 0.3241305228568677)\n",
      "('immunity', 0.3132079151377554)\n",
      "('human', 0.24847754986950596)\n",
      "\n",
      "Topic 5:\n",
      "('drug', 1.6345525665695804)\n",
      "('inhibitor', 1.1738633963458407)\n",
      "('resistance', 0.844530165259128)\n",
      "('compound', 0.6280909485518928)\n",
      "('antiviral', 0.5374165209152542)\n",
      "('resistant', 0.4342879782348569)\n",
      "('treatment', 0.4028596220341692)\n",
      "('target', 0.3559037589359018)\n",
      "('activity', 0.33267346844532336)\n",
      "('combination', 0.3187361465354956)\n",
      "\n",
      "Topic 6:\n",
      "('training', 1.5641470602645142)\n",
      "('research', 1.2809232343615666)\n",
      "('program', 1.1254636936012672)\n",
      "('trainee', 0.7367528290374437)\n",
      "('faculty', 0.47140000523706044)\n",
      "('student', 0.4116834334795433)\n",
      "('career', 0.4067633805265637)\n",
      "('university', 0.368682914912099)\n",
      "('health', 0.3604118470326298)\n",
      "('mentor', 0.35003423092008196)\n",
      "\n",
      "Topic 7:\n",
      "('env', 1.221140913618402)\n",
      "('inhibitor', 0.6182624968626842)\n",
      "('entry', 0.5832218429561227)\n",
      "('hlv', 0.5394378136553584)\n",
      "('gp120', 0.4984821244693816)\n",
      "('bind', 0.47268688165030764)\n",
      "('molecule', 0.4094621221523531)\n",
      "('antagonist', 0.38590329996164247)\n",
      "('small', 0.3630883672318073)\n",
      "('trimer', 0.3546779109608164)\n",
      "\n",
      "Topic 8:\n",
      "('intervention', 0.9031683569158082)\n",
      "('model', 0.7576496000955026)\n",
      "('social', 0.7316937440360619)\n",
      "('disease', 0.680594613670437)\n",
      "('health', 0.6657558777603119)\n",
      "('behavior', 0.6483954586500836)\n",
      "('risk', 0.5076183994715529)\n",
      "('simulation', 0.5069722520887514)\n",
      "('public', 0.4968737046601432)\n",
      "('data', 0.49173506001452233)\n",
      "\n",
      "Topic 9:\n",
      "('influenza', 1.035106275421012)\n",
      "('ecologic', 0.9417754202472922)\n",
      "('cross_protection', 0.8833019263683322)\n",
      "('immune', 0.8773938620306138)\n",
      "('environmental', 0.7253801471639015)\n",
      "('evolution', 0.7197552763380292)\n",
      "('pathogenicity', 0.7044861517082582)\n",
      "('correlate', 0.652512968702589)\n",
      "('influence', 0.627734474959274)\n",
      "('virus', 0.5869074524496838)\n",
      "\n",
      "Topic 10:\n",
      "('iav', 2.264241757892232)\n",
      "('sp', 0.28038646036958215)\n",
      "('cd1c_dc', 0.23510825126646626)\n",
      "('response', 0.2348685918138051)\n",
      "('htbe', 0.19830969954624167)\n",
      "('host', 0.19395410809675426)\n",
      "('strain', 0.1849144974482194)\n",
      "('lung', 0.18336231230742128)\n",
      "('evolution', 0.17265583007046698)\n",
      "('immunity', 0.16387551684327176)\n",
      "\n",
      "Topic 11:\n",
      "('facility', 1.2724056665013885)\n",
      "('product', 1.1912491150901625)\n",
      "('manufacturing', 1.0243868757768515)\n",
      "('material', 0.9873555976767382)\n",
      "('vaccine', 0.8683136224485586)\n",
      "('raw', 0.78149097798019)\n",
      "('manufacture', 0.7105255978778273)\n",
      "('fill', 0.6833842163701792)\n",
      "('suite', 0.6707400115439872)\n",
      "('clinical', 0.5893113522898126)\n",
      "\n",
      "Topic 12:\n",
      "('organism', 1.4845225084082199)\n",
      "('gene', 1.1925234115425754)\n",
      "('sequence', 1.0082483387279357)\n",
      "('ortholog', 0.8540170055702948)\n",
      "('genome', 0.5840201662450889)\n",
      "('missing', 0.5502632407318997)\n",
      "('complete', 0.3124020451558617)\n",
      "('potentially', 0.31140780647780775)\n",
      "('group', 0.3011374285630053)\n",
      "('apparently', 0.2881240349594096)\n",
      "\n",
      "Topic 13:\n",
      "('obesity', 1.319905317123594)\n",
      "('insulin', 0.5512845286329696)\n",
      "('diabete', 0.4960909602307311)\n",
      "('metabolic', 0.4443758327306291)\n",
      "('obese', 0.40197246434204403)\n",
      "('adipocyte', 0.3644476923746563)\n",
      "('glucose', 0.3137171223000231)\n",
      "('mouse', 0.2883311074255142)\n",
      "('weight', 0.27609538128561384)\n",
      "('t2d', 0.26471481664604096)\n",
      "\n",
      "Topic 14:\n",
      "('antibody', 2.1816535704331006)\n",
      "('ha', 1.0925449822677031)\n",
      "('epitope', 0.6664212130255337)\n",
      "('human', 0.5462156552145863)\n",
      "('bind', 0.5110824760235843)\n",
      "('structure', 0.4084055288905432)\n",
      "('neutralize', 0.39390377211124533)\n",
      "('mab', 0.3784960949116222)\n",
      "('subtype', 0.3728707474414892)\n",
      "('broadly_neutralize', 0.3702660289639403)\n",
      "\n",
      "Topic 15:\n",
      "('core', 1.5590077111119682)\n",
      "('research', 0.539288439667837)\n",
      "('project', 0.47402835290436957)\n",
      "('support', 0.47222311464625405)\n",
      "('investigator', 0.3921077561086667)\n",
      "('method', 0.37923194411024347)\n",
      "('technology', 0.3150219244183768)\n",
      "('service', 0.2725069064732715)\n",
      "('infrastructure', 0.23050111272330526)\n",
      "('scientific', 0.2292643871745921)\n",
      "\n",
      "Topic 16:\n",
      "('animal', 1.292861485274358)\n",
      "('bird', 0.770363114979669)\n",
      "('surveillance', 0.6737998176722705)\n",
      "('close', 0.6685444477915441)\n",
      "('contact', 0.6481609037473638)\n",
      "('characterization', 0.6074864876180908)\n",
      "('rapid', 0.525573705417226)\n",
      "('virus', 0.4569538716579896)\n",
      "('limit', 0.44037501651308136)\n",
      "('reassortment', 0.4396473964094687)\n",
      "\n",
      "Topic 17:\n",
      "('viral', 0.8113002758823473)\n",
      "('host', 0.7426985616990375)\n",
      "('evolution', 0.6671059811462255)\n",
      "('pathogen', 0.49613794901852953)\n",
      "('evolutionary', 0.4665641847952359)\n",
      "('diversity', 0.44911776869093434)\n",
      "('antiviral', 0.4300771541727602)\n",
      "('resistance', 0.4178736948119551)\n",
      "('genomic', 0.3977480081138214)\n",
      "('transmission', 0.3940901058050408)\n",
      "\n",
      "Topic 18:\n",
      "('tb', 1.4217244830681732)\n",
      "('mtb', 1.1350372493728405)\n",
      "('tuberculosis_tb', 0.2093953619673158)\n",
      "('treatment', 0.17157839826389937)\n",
      "('tuberculosis', 0.1661054151669314)\n",
      "('treg', 0.16359353752463035)\n",
      "('aids', 0.15950282199410254)\n",
      "('mycobacterium_tuberculosis_mtb', 0.14788739564599415)\n",
      "('co_infection', 0.14161871505878781)\n",
      "('m_tuberculosis', 0.13538900975135532)\n",
      "\n",
      "Topic 19:\n",
      "('diagnostic', 1.0569547998813145)\n",
      "('poc', 0.8005352205865572)\n",
      "('detection', 0.5181846238120998)\n",
      "('lrs', 0.48960258774557813)\n",
      "('technology', 0.44755728959748947)\n",
      "('test', 0.4200446248896959)\n",
      "('sample', 0.37976674198033106)\n",
      "('device', 0.3677273026463907)\n",
      "('assay', 0.3636411816790994)\n",
      "('care', 0.35028131523014605)\n",
      "\n",
      "Topic 20:\n",
      "('patient', 0.7413306987286445)\n",
      "('clinical', 0.735674522098865)\n",
      "('trial', 0.7122608554488713)\n",
      "('dose', 0.5501096440018978)\n",
      "('study', 0.43279376073530346)\n",
      "('protocol', 0.35045575008410773)\n",
      "('care', 0.2563167463282651)\n",
      "('treatment', 0.2547030360414635)\n",
      "('oseltamivir', 0.2414879063471456)\n",
      "('phase', 0.22961179616846794)\n",
      "\n",
      "Topic 21:\n",
      "('lung', 1.1500115104784991)\n",
      "('infection', 0.7977522209075049)\n",
      "('injury', 0.5472681464586978)\n",
      "('bacterial', 0.4560309401747681)\n",
      "('mouse', 0.42310407559008784)\n",
      "('pneumonia', 0.3972866673830699)\n",
      "('induce', 0.37032027957927915)\n",
      "('il', 0.34388180428417514)\n",
      "('disease', 0.3264831417415283)\n",
      "('model', 0.30525093618294386)\n",
      "\n",
      "Topic 22:\n",
      "('rna', 1.7019750041568817)\n",
      "('np', 0.5390019245406784)\n",
      "('viral', 0.5289456940518527)\n",
      "('polymerase', 0.3138053734795918)\n",
      "('virus', 0.2799970014382628)\n",
      "('segment', 0.2718410565017123)\n",
      "('replication', 0.24836264989340517)\n",
      "('synthesis', 0.21999656335208545)\n",
      "('assembly', 0.2072774934604228)\n",
      "('fidelity', 0.2025341723373813)\n",
      "\n",
      "Topic 23:\n",
      "('dna', 1.1151376533387178)\n",
      "('vaccine', 0.6691283390230499)\n",
      "('boost', 0.39438439599937636)\n",
      "('testing', 0.2959232478446338)\n",
      "('study', 0.2562882366965417)\n",
      "('candidate', 0.2361010061309408)\n",
      "('prime', 0.23350926482695392)\n",
      "('vrc', 0.23102481873576902)\n",
      "('develop', 0.22242901772727033)\n",
      "('adenoviral', 0.2173679106260265)\n",
      "\n",
      "Topic 24:\n",
      "('protein', 1.1688611356611067)\n",
      "('membrane', 0.47765296579097327)\n",
      "('ns1', 0.2822519374579704)\n",
      "('viral', 0.279194235830094)\n",
      "('fusion', 0.2571949228323357)\n",
      "('bind', 0.2562044018847508)\n",
      "('domain', 0.2551759398648777)\n",
      "('virus', 0.2363971929143565)\n",
      "('interaction', 0.23422458475241414)\n",
      "('structure', 0.22143555091710226)\n",
      "\n",
      "Topic 25:\n",
      "('meeting', 0.8544968389234587)\n",
      "('scientist', 0.4653168422126009)\n",
      "('conference', 0.36060551247100064)\n",
      "('biology', 0.35291192365582263)\n",
      "('university', 0.34115553675694005)\n",
      "('student', 0.32445098030188113)\n",
      "('colorado', 0.32363795520286764)\n",
      "('prion', 0.303127717075601)\n",
      "('virology', 0.25790206656319414)\n",
      "('encourage', 0.24640643125653072)\n",
      "\n",
      "Topic 26:\n",
      "('v_cholerae', 1.0304512860565143)\n",
      "('virulence', 0.5452658490431319)\n",
      "('cholera', 0.3082662302278935)\n",
      "('colonization', 0.2538047590169092)\n",
      "('gene', 0.23521203918555436)\n",
      "('strain', 0.19738659939129596)\n",
      "('factor', 0.19499470987890274)\n",
      "('disease', 0.19046111998407883)\n",
      "('zebrafish', 0.18922917467834774)\n",
      "('phage', 0.17475772138951082)\n",
      "\n",
      "Topic 27:\n",
      "('memory', 1.0721079408948018)\n",
      "('cell', 0.8477027964844861)\n",
      "('selectin', 0.5748597687511553)\n",
      "('subset', 0.5610811467915853)\n",
      "('cd4', 0.5297593322310815)\n",
      "('effector', 0.3221612523361639)\n",
      "('cds', 0.22569393377857686)\n",
      "('determine', 0.2237369369169505)\n",
      "('il_17', 0.21551565211711346)\n",
      "('lung', 0.1957230639026222)\n",
      "\n",
      "Topic 28:\n",
      "('cancer', 1.2179677820664923)\n",
      "('aoic', 0.26000935263056274)\n",
      "('co_infection', 0.2126371191243962)\n",
      "('research', 0.20327485579832308)\n",
      "('aids', 0.1819273330349813)\n",
      "('associate', 0.18071251868689472)\n",
      "('aoic_swg', 0.17317619549524713)\n",
      "('leptin', 0.16213569748802942)\n",
      "('breast', 0.15860033565685516)\n",
      "('hcc', 0.13865409501649034)\n",
      "\n",
      "Topic 29:\n",
      "('hiv', 0.5780471393670905)\n",
      "('viremia', 0.5609759640758599)\n",
      "('activation', 0.5114325910646677)\n",
      "('immune', 0.3634437716989023)\n",
      "('persistent_viremia', 0.2812656197692273)\n",
      "('cell', 0.2775305436408866)\n",
      "('reservoir', 0.2508140916687341)\n",
      "('infect', 0.24547962279909186)\n",
      "('persistence', 0.2413360963261253)\n",
      "('persistent', 0.221305731875806)\n"
     ]
    }
   ],
   "source": [
    "print_topics(nmf_model2, nmf_vectorizer2, 10)"
   ]
  },
  {
   "cell_type": "code",
   "execution_count": null,
   "metadata": {},
   "outputs": [],
   "source": []
  },
  {
   "cell_type": "code",
   "execution_count": 44,
   "metadata": {},
   "outputs": [],
   "source": [
    "# TRY TOPIC MODELING WITH LDA\n",
    "# create document-term matrix\n",
    "\n",
    "lda_vectorizer = CountVectorizer(max_df=1.0, min_df=3, lowercase=True)\n",
    "lda_dtm = lda_vectorizer.fit_transform(text)"
   ]
  },
  {
   "cell_type": "code",
   "execution_count": 45,
   "metadata": {},
   "outputs": [],
   "source": [
    "# create model\n",
    "\n",
    "num_topics = 10\n",
    "lda_model = LatentDirichletAllocation(n_components=num_topics, doc_topic_prior = 1/num_topics, \n",
    "                                      topic_word_prior=0.1, n_jobs=39, random_state = 0)\n",
    "doc_top_dist = lda_model.fit_transform(lda_dtm)\n",
    "top_term_dist = lda_model.components_"
   ]
  },
  {
   "cell_type": "code",
   "execution_count": 46,
   "metadata": {},
   "outputs": [
    {
     "name": "stdout",
     "output_type": "stream",
     "text": [
      "\n",
      "Topic 0:\n",
      "('virus', 1525.4434120604676)\n",
      "('protein', 1126.1206467974187)\n",
      "('viral', 1102.4826850278316)\n",
      "('influenza', 1102.337619466158)\n",
      "('drug', 959.4075573102688)\n",
      "('cell', 862.1102503722885)\n",
      "('host', 748.5477931671157)\n",
      "('infection', 713.8863832057556)\n",
      "('inhibitor', 686.472540751323)\n",
      "('antiviral', 559.0138587330052)\n",
      "\n",
      "Topic 1:\n",
      "('influenza', 2516.301212913236)\n",
      "('vaccine', 611.2175597088066)\n",
      "('child', 517.3323659383097)\n",
      "('vaccination', 493.1391539296775)\n",
      "('respiratory', 346.13523581875955)\n",
      "('health', 304.09035331927504)\n",
      "('population', 298.6905077704604)\n",
      "('virus', 284.0263811968307)\n",
      "('illness', 283.11488938156197)\n",
      "('age', 273.30372915922976)\n",
      "\n",
      "Topic 2:\n",
      "('health', 1355.3287110291553)\n",
      "('hiv', 1056.795144906868)\n",
      "('public', 712.8899074675587)\n",
      "('clinical', 603.3312981168108)\n",
      "('infectious', 533.0829880934559)\n",
      "('need', 472.5800466109964)\n",
      "('pandemic', 447.51365678286277)\n",
      "('infection', 422.8808826831427)\n",
      "('population', 420.70064017763826)\n",
      "('technology', 418.9261234638962)\n",
      "\n",
      "Topic 3:\n",
      "('vaccine', 3723.7937906125117)\n",
      "('influenza', 2592.7852823490666)\n",
      "('virus', 2401.730304918175)\n",
      "('strain', 917.2833221299993)\n",
      "('human', 581.3778710771845)\n",
      "('protection', 556.62722393745)\n",
      "('dose', 554.1661656801722)\n",
      "('antibody', 532.723208560498)\n",
      "('ha', 530.1066047441419)\n",
      "('clinical', 496.7581142208651)\n",
      "\n",
      "Topic 4:\n",
      "('cell', 308.3642644335578)\n",
      "('human', 255.96867862902687)\n",
      "('virus', 168.41166176834062)\n",
      "('pathogen', 164.73814288561832)\n",
      "('cancer', 147.3517490727677)\n",
      "('protein', 135.94961048159556)\n",
      "('infection', 115.39361954042742)\n",
      "('receptor', 105.28864133089382)\n",
      "('bat', 103.23405938271829)\n",
      "('molecular', 102.88627033078735)\n",
      "\n",
      "Topic 5:\n",
      "('lung', 325.11152480897476)\n",
      "('infection', 295.5681397251064)\n",
      "('injury', 237.87819887685217)\n",
      "('gene', 219.428510903356)\n",
      "('vaccine', 194.35410710639025)\n",
      "('bacterial', 189.91092921383867)\n",
      "('pneumonia', 178.53453283984507)\n",
      "('zikv', 136.09997048352363)\n",
      "('dna', 132.09539463113458)\n",
      "('acute', 118.48274012729452)\n",
      "\n",
      "Topic 6:\n",
      "('hiv', 4360.948452503913)\n",
      "('cell', 956.4201067666241)\n",
      "('infection', 864.612020444808)\n",
      "('infect', 687.9340856532843)\n",
      "('aids', 476.22844803134353)\n",
      "('viral', 385.57055496564703)\n",
      "('immune', 370.2571229517711)\n",
      "('transmission', 337.7112430635166)\n",
      "('individual', 293.2738304127247)\n",
      "('pandemic', 260.1009150115909)\n",
      "\n",
      "Topic 7:\n",
      "('obesity', 478.08579963044923)\n",
      "('tb', 270.5784721546753)\n",
      "('diabete', 245.2934297154236)\n",
      "('mouse', 239.56590747305722)\n",
      "('cell', 224.27791606443947)\n",
      "('insulin', 188.0862680387158)\n",
      "('mtb', 184.20308360750892)\n",
      "('il', 167.75957079196803)\n",
      "('obese', 167.55096872353175)\n",
      "('human', 166.68370422286418)\n",
      "\n",
      "Topic 8:\n",
      "('cell', 3805.9436920479498)\n",
      "('influenza', 3476.5567694944016)\n",
      "('infection', 2387.5313543587777)\n",
      "('virus', 1742.5664227509567)\n",
      "('vaccine', 1739.8585282851955)\n",
      "('immune', 1506.437812067489)\n",
      "('human', 1007.616215339206)\n",
      "('antibody', 944.4855511826969)\n",
      "('immunity', 845.0186023670831)\n",
      "('vaccination', 798.4772769953893)\n",
      "\n",
      "Topic 9:\n",
      "('virus', 2971.8372650344254)\n",
      "('influenza', 1561.7362612584056)\n",
      "('human', 1324.76326641844)\n",
      "('host', 789.9412417287206)\n",
      "('strain', 735.5200712680144)\n",
      "('viral', 678.0037360686468)\n",
      "('pandemic', 534.0755245007712)\n",
      "('gene', 513.2180629757097)\n",
      "('infection', 490.2601686465912)\n",
      "('animal', 462.24850975563896)\n"
     ]
    }
   ],
   "source": [
    "print_topics(lda_model, lda_vectorizer, 10)"
   ]
  },
  {
   "cell_type": "code",
   "execution_count": 60,
   "metadata": {},
   "outputs": [
    {
     "data": {
      "text/html": [
       "<div>\n",
       "<style scoped>\n",
       "    .dataframe tbody tr th:only-of-type {\n",
       "        vertical-align: middle;\n",
       "    }\n",
       "\n",
       "    .dataframe tbody tr th {\n",
       "        vertical-align: top;\n",
       "    }\n",
       "\n",
       "    .dataframe thead th {\n",
       "        text-align: right;\n",
       "    }\n",
       "</style>\n",
       "<table border=\"1\" class=\"dataframe\">\n",
       "  <thead>\n",
       "    <tr style=\"text-align: right;\">\n",
       "      <th></th>\n",
       "      <th>index</th>\n",
       "      <th>original index</th>\n",
       "      <th>PROJECT_ID</th>\n",
       "      <th>ABSTRACT</th>\n",
       "      <th>FY</th>\n",
       "      <th>PROJECT_TERMS</th>\n",
       "      <th>PROJECT_TITLE</th>\n",
       "      <th>DEPARTMENT</th>\n",
       "      <th>AGENCY</th>\n",
       "      <th>IC_CENTER</th>\n",
       "      <th>PROJECT_NUMBER</th>\n",
       "      <th>PROJECT_START_DATE</th>\n",
       "      <th>PROJECT_END_DATE</th>\n",
       "      <th>CONTACT_PI_PROJECT_LEADER</th>\n",
       "      <th>OTHER_PIS</th>\n",
       "      <th>CONGRESSIONAL_DISTRICT</th>\n",
       "      <th>DUNS_NUMBER</th>\n",
       "      <th>ORGANIZATION_NAME</th>\n",
       "      <th>ORGANIZATION_CITY</th>\n",
       "      <th>ORGANIZATION_STATE</th>\n",
       "      <th>ORGANIZATION_ZIP</th>\n",
       "      <th>ORGANIZATION_COUNTRY</th>\n",
       "      <th>BUDGET_START_DATE</th>\n",
       "      <th>BUDGET_END_DATE</th>\n",
       "      <th>CFDA_CODE</th>\n",
       "      <th>FY.y</th>\n",
       "      <th>FY_TOTAL_COST</th>\n",
       "      <th>FY_TOTAL_COST_SUB_PROJECTS</th>\n",
       "      <th>ORG_COUNT</th>\n",
       "      <th>PI_COUNT</th>\n",
       "      <th>working_abstract</th>\n",
       "      <th>lemma_abstract</th>\n",
       "      <th>clean_lemmas</th>\n",
       "      <th>stopwds_removed</th>\n",
       "      <th>n_grams_added</th>\n",
       "      <th>final_tokens</th>\n",
       "    </tr>\n",
       "  </thead>\n",
       "  <tbody>\n",
       "    <tr>\n",
       "      <th>338</th>\n",
       "      <td>338</td>\n",
       "      <td>380</td>\n",
       "      <td>90045</td>\n",
       "      <td>Study of Emerging Networks in Outbreak Respons...</td>\n",
       "      <td>2008</td>\n",
       "      <td>Arts; Communicable Diseases; Communication; Co...</td>\n",
       "      <td>STUDY OF EMERGING NETWORKS IN OUTBREAK RESPONSE</td>\n",
       "      <td>NSF</td>\n",
       "      <td>NSF</td>\n",
       "      <td>NaN</td>\n",
       "      <td>0826995</td>\n",
       "      <td>9/15/2008</td>\n",
       "      <td>8/31/2012</td>\n",
       "      <td>ANSELL, CHRISTOPHER</td>\n",
       "      <td>KELLER, ANN; REINGOLD, ARTHUR</td>\n",
       "      <td>09</td>\n",
       "      <td>124726725</td>\n",
       "      <td>UNIVERSITY OF CALIFORNIA BERKELEY</td>\n",
       "      <td>BERKELEY</td>\n",
       "      <td>CA</td>\n",
       "      <td>94704-5940</td>\n",
       "      <td>UNITED STATES</td>\n",
       "      <td>NaN</td>\n",
       "      <td>NaN</td>\n",
       "      <td>47.075</td>\n",
       "      <td>2008</td>\n",
       "      <td>726706.0</td>\n",
       "      <td>NaN</td>\n",
       "      <td>1</td>\n",
       "      <td>1</td>\n",
       "      <td>Study of Emerging Networks in Outbreak Respons...</td>\n",
       "      <td>[study, emerge, network, outbreak, ResponsePri...</td>\n",
       "      <td>[study, emerge, network, outbreak, responsepri...</td>\n",
       "      <td>[study, emerge, network, outbreak, responsepri...</td>\n",
       "      <td>[study, emerge, network, outbreak, responsepri...</td>\n",
       "      <td>[study, emerge, network, outbreak, responsepri...</td>\n",
       "    </tr>\n",
       "    <tr>\n",
       "      <th>464</th>\n",
       "      <td>464</td>\n",
       "      <td>524</td>\n",
       "      <td>90243</td>\n",
       "      <td>One of the products of human development and p...</td>\n",
       "      <td>2008</td>\n",
       "      <td>Affect; Agriculture; anthropogenesis; Award; b...</td>\n",
       "      <td>HSD: COLLABORATIVE RESEARCH: HUMAN-RELATED FAC...</td>\n",
       "      <td>NSF</td>\n",
       "      <td>NSF</td>\n",
       "      <td>NaN</td>\n",
       "      <td>0826779</td>\n",
       "      <td>10/1/2008</td>\n",
       "      <td>3/31/2012</td>\n",
       "      <td>DASZAK, PETER</td>\n",
       "      <td>KILPATRICK, A MARM</td>\n",
       "      <td>08</td>\n",
       "      <td>077090066</td>\n",
       "      <td>ECOHEALTH ALLIANCE INC</td>\n",
       "      <td>NEW YORK</td>\n",
       "      <td>NY</td>\n",
       "      <td>10001-2320</td>\n",
       "      <td>UNITED STATES</td>\n",
       "      <td>NaN</td>\n",
       "      <td>NaN</td>\n",
       "      <td>47.075</td>\n",
       "      <td>2008</td>\n",
       "      <td>468673.0</td>\n",
       "      <td>NaN</td>\n",
       "      <td>2</td>\n",
       "      <td>2</td>\n",
       "      <td>One of the products of human development and p...</td>\n",
       "      <td>[one, product, human, development, population,...</td>\n",
       "      <td>[one, product, human, development, population,...</td>\n",
       "      <td>[product, human, development, population, grow...</td>\n",
       "      <td>[product, human, development, population, grow...</td>\n",
       "      <td>[product, human, development, population, grow...</td>\n",
       "    </tr>\n",
       "    <tr>\n",
       "      <th>761</th>\n",
       "      <td>761</td>\n",
       "      <td>859</td>\n",
       "      <td>90573</td>\n",
       "      <td>Intellectual merit:The proposed project seeks ...</td>\n",
       "      <td>2008</td>\n",
       "      <td>base; Basic Science; Biological; Biology; Bird...</td>\n",
       "      <td>COMBINING ECOLOGICAL AND MOLECULAR MODELS TO U...</td>\n",
       "      <td>NSF</td>\n",
       "      <td>NSF</td>\n",
       "      <td>NaN</td>\n",
       "      <td>0827416</td>\n",
       "      <td>9/1/2008</td>\n",
       "      <td>8/31/2011</td>\n",
       "      <td>KOELLE, KATHARINA</td>\n",
       "      <td>NaN</td>\n",
       "      <td>04</td>\n",
       "      <td>044387793</td>\n",
       "      <td>DUKE UNIVERSITY</td>\n",
       "      <td>DURHAM</td>\n",
       "      <td>NC</td>\n",
       "      <td>27705-4010</td>\n",
       "      <td>UNITED STATES</td>\n",
       "      <td>NaN</td>\n",
       "      <td>NaN</td>\n",
       "      <td>47.074</td>\n",
       "      <td>2008</td>\n",
       "      <td>610071.0</td>\n",
       "      <td>NaN</td>\n",
       "      <td>1</td>\n",
       "      <td>1</td>\n",
       "      <td>Intellectual merit:The proposed project seeks ...</td>\n",
       "      <td>[intellectual, merit, propose, project, seek, ...</td>\n",
       "      <td>[intellectual, merit, propose, project, seek, ...</td>\n",
       "      <td>[intellectual, merit, propose, project, seek, ...</td>\n",
       "      <td>[intellectual_merit, propose, project, seek, d...</td>\n",
       "      <td>[intellectual_merit, propose, project, seek, d...</td>\n",
       "    </tr>\n",
       "    <tr>\n",
       "      <th>3300</th>\n",
       "      <td>3300</td>\n",
       "      <td>3661</td>\n",
       "      <td>93669</td>\n",
       "      <td>About five percent of the world's population d...</td>\n",
       "      <td>2008</td>\n",
       "      <td>Affect; Disabled Persons; Disease; Emerging Co...</td>\n",
       "      <td>RESEARCH STARTER: POPULATION DYNAMICS AND EVOL...</td>\n",
       "      <td>NSF</td>\n",
       "      <td>NSF</td>\n",
       "      <td>NaN</td>\n",
       "      <td>0804039</td>\n",
       "      <td>8/1/2008</td>\n",
       "      <td>7/31/2010</td>\n",
       "      <td>DENNEHY, JOHN J</td>\n",
       "      <td>NaN</td>\n",
       "      <td>09</td>\n",
       "      <td>064932676</td>\n",
       "      <td>RESEARCH FOUNDATION OF THE CITY UNIVERSITY OF ...</td>\n",
       "      <td>FLUSHING</td>\n",
       "      <td>NY</td>\n",
       "      <td>11367-1575</td>\n",
       "      <td>UNITED STATES</td>\n",
       "      <td>NaN</td>\n",
       "      <td>NaN</td>\n",
       "      <td>47.074</td>\n",
       "      <td>2008</td>\n",
       "      <td>67848.0</td>\n",
       "      <td>NaN</td>\n",
       "      <td>1</td>\n",
       "      <td>1</td>\n",
       "      <td>About five percent of the world's population d...</td>\n",
       "      <td>[about, five, percent, world, population, die,...</td>\n",
       "      <td>[about, five, percent, world, population, die,...</td>\n",
       "      <td>[percent, world, population, die, major, influ...</td>\n",
       "      <td>[percent, world, population, die, major, influ...</td>\n",
       "      <td>[percent, world, population, die, major, influ...</td>\n",
       "    </tr>\n",
       "    <tr>\n",
       "      <th>3364</th>\n",
       "      <td>3364</td>\n",
       "      <td>3734</td>\n",
       "      <td>93742</td>\n",
       "      <td>South Africa has the highest rate of HIV/AIDS ...</td>\n",
       "      <td>2008</td>\n",
       "      <td>Address; Affect; Africa; African; AIDS/HIV pro...</td>\n",
       "      <td>DOCTORAL DISSERTATION RESEARCH: IMPACT OF HIV/...</td>\n",
       "      <td>NSF</td>\n",
       "      <td>NSF</td>\n",
       "      <td>NaN</td>\n",
       "      <td>0825414</td>\n",
       "      <td>9/1/2008</td>\n",
       "      <td>2/28/2011</td>\n",
       "      <td>STEPP, JOHN R</td>\n",
       "      <td>COLES, BRITT</td>\n",
       "      <td>06</td>\n",
       "      <td>019361885</td>\n",
       "      <td>UNIVERSITY OF FLORIDA</td>\n",
       "      <td>GAINESVILLE</td>\n",
       "      <td>FL</td>\n",
       "      <td>32611-2002</td>\n",
       "      <td>UNITED STATES</td>\n",
       "      <td>NaN</td>\n",
       "      <td>NaN</td>\n",
       "      <td>47.075</td>\n",
       "      <td>2008</td>\n",
       "      <td>12000.0</td>\n",
       "      <td>NaN</td>\n",
       "      <td>1</td>\n",
       "      <td>1</td>\n",
       "      <td>South Africa has the highest rate of HIV/AIDS ...</td>\n",
       "      <td>[South, Africa, have, highest, rate, hiv, aids...</td>\n",
       "      <td>[south, africa, have, highest, rate, hiv, aids...</td>\n",
       "      <td>[south, africa, highest, rate, hiv, aids, worl...</td>\n",
       "      <td>[south_africa, highest, rate, hiv, aids, world...</td>\n",
       "      <td>[south_africa, highest, rate, hiv, aids, world...</td>\n",
       "    </tr>\n",
       "  </tbody>\n",
       "</table>\n",
       "</div>"
      ],
      "text/plain": [
       "      index  original index PROJECT_ID  \\\n",
       "338     338             380      90045   \n",
       "464     464             524      90243   \n",
       "761     761             859      90573   \n",
       "3300   3300            3661      93669   \n",
       "3364   3364            3734      93742   \n",
       "\n",
       "                                               ABSTRACT    FY  \\\n",
       "338   Study of Emerging Networks in Outbreak Respons...  2008   \n",
       "464   One of the products of human development and p...  2008   \n",
       "761   Intellectual merit:The proposed project seeks ...  2008   \n",
       "3300  About five percent of the world's population d...  2008   \n",
       "3364  South Africa has the highest rate of HIV/AIDS ...  2008   \n",
       "\n",
       "                                          PROJECT_TERMS  \\\n",
       "338   Arts; Communicable Diseases; Communication; Co...   \n",
       "464   Affect; Agriculture; anthropogenesis; Award; b...   \n",
       "761   base; Basic Science; Biological; Biology; Bird...   \n",
       "3300  Affect; Disabled Persons; Disease; Emerging Co...   \n",
       "3364  Address; Affect; Africa; African; AIDS/HIV pro...   \n",
       "\n",
       "                                          PROJECT_TITLE DEPARTMENT AGENCY  \\\n",
       "338     STUDY OF EMERGING NETWORKS IN OUTBREAK RESPONSE        NSF    NSF   \n",
       "464   HSD: COLLABORATIVE RESEARCH: HUMAN-RELATED FAC...        NSF    NSF   \n",
       "761   COMBINING ECOLOGICAL AND MOLECULAR MODELS TO U...        NSF    NSF   \n",
       "3300  RESEARCH STARTER: POPULATION DYNAMICS AND EVOL...        NSF    NSF   \n",
       "3364  DOCTORAL DISSERTATION RESEARCH: IMPACT OF HIV/...        NSF    NSF   \n",
       "\n",
       "     IC_CENTER PROJECT_NUMBER PROJECT_START_DATE PROJECT_END_DATE  \\\n",
       "338        NaN        0826995          9/15/2008        8/31/2012   \n",
       "464        NaN        0826779          10/1/2008        3/31/2012   \n",
       "761        NaN        0827416           9/1/2008        8/31/2011   \n",
       "3300       NaN        0804039           8/1/2008        7/31/2010   \n",
       "3364       NaN        0825414           9/1/2008        2/28/2011   \n",
       "\n",
       "     CONTACT_PI_PROJECT_LEADER                      OTHER_PIS  \\\n",
       "338        ANSELL, CHRISTOPHER  KELLER, ANN; REINGOLD, ARTHUR   \n",
       "464              DASZAK, PETER             KILPATRICK, A MARM   \n",
       "761          KOELLE, KATHARINA                            NaN   \n",
       "3300           DENNEHY, JOHN J                            NaN   \n",
       "3364             STEPP, JOHN R                   COLES, BRITT   \n",
       "\n",
       "     CONGRESSIONAL_DISTRICT DUNS_NUMBER  \\\n",
       "338                      09   124726725   \n",
       "464                      08   077090066   \n",
       "761                      04   044387793   \n",
       "3300                     09   064932676   \n",
       "3364                     06   019361885   \n",
       "\n",
       "                                      ORGANIZATION_NAME ORGANIZATION_CITY  \\\n",
       "338                   UNIVERSITY OF CALIFORNIA BERKELEY          BERKELEY   \n",
       "464                              ECOHEALTH ALLIANCE INC          NEW YORK   \n",
       "761                                     DUKE UNIVERSITY            DURHAM   \n",
       "3300  RESEARCH FOUNDATION OF THE CITY UNIVERSITY OF ...          FLUSHING   \n",
       "3364                              UNIVERSITY OF FLORIDA       GAINESVILLE   \n",
       "\n",
       "     ORGANIZATION_STATE ORGANIZATION_ZIP ORGANIZATION_COUNTRY  \\\n",
       "338                  CA       94704-5940        UNITED STATES   \n",
       "464                  NY       10001-2320        UNITED STATES   \n",
       "761                  NC       27705-4010        UNITED STATES   \n",
       "3300                 NY       11367-1575        UNITED STATES   \n",
       "3364                 FL       32611-2002        UNITED STATES   \n",
       "\n",
       "     BUDGET_START_DATE BUDGET_END_DATE CFDA_CODE  FY.y  FY_TOTAL_COST  \\\n",
       "338                NaN             NaN    47.075  2008       726706.0   \n",
       "464                NaN             NaN    47.075  2008       468673.0   \n",
       "761                NaN             NaN    47.074  2008       610071.0   \n",
       "3300               NaN             NaN    47.074  2008        67848.0   \n",
       "3364               NaN             NaN    47.075  2008        12000.0   \n",
       "\n",
       "      FY_TOTAL_COST_SUB_PROJECTS  ORG_COUNT  PI_COUNT  \\\n",
       "338                          NaN          1         1   \n",
       "464                          NaN          2         2   \n",
       "761                          NaN          1         1   \n",
       "3300                         NaN          1         1   \n",
       "3364                         NaN          1         1   \n",
       "\n",
       "                                       working_abstract  \\\n",
       "338   Study of Emerging Networks in Outbreak Respons...   \n",
       "464   One of the products of human development and p...   \n",
       "761   Intellectual merit:The proposed project seeks ...   \n",
       "3300  About five percent of the world's population d...   \n",
       "3364  South Africa has the highest rate of HIV/AIDS ...   \n",
       "\n",
       "                                         lemma_abstract  \\\n",
       "338   [study, emerge, network, outbreak, ResponsePri...   \n",
       "464   [one, product, human, development, population,...   \n",
       "761   [intellectual, merit, propose, project, seek, ...   \n",
       "3300  [about, five, percent, world, population, die,...   \n",
       "3364  [South, Africa, have, highest, rate, hiv, aids...   \n",
       "\n",
       "                                           clean_lemmas  \\\n",
       "338   [study, emerge, network, outbreak, responsepri...   \n",
       "464   [one, product, human, development, population,...   \n",
       "761   [intellectual, merit, propose, project, seek, ...   \n",
       "3300  [about, five, percent, world, population, die,...   \n",
       "3364  [south, africa, have, highest, rate, hiv, aids...   \n",
       "\n",
       "                                        stopwds_removed  \\\n",
       "338   [study, emerge, network, outbreak, responsepri...   \n",
       "464   [product, human, development, population, grow...   \n",
       "761   [intellectual, merit, propose, project, seek, ...   \n",
       "3300  [percent, world, population, die, major, influ...   \n",
       "3364  [south, africa, highest, rate, hiv, aids, worl...   \n",
       "\n",
       "                                          n_grams_added  \\\n",
       "338   [study, emerge, network, outbreak, responsepri...   \n",
       "464   [product, human, development, population, grow...   \n",
       "761   [intellectual_merit, propose, project, seek, d...   \n",
       "3300  [percent, world, population, die, major, influ...   \n",
       "3364  [south_africa, highest, rate, hiv, aids, world...   \n",
       "\n",
       "                                           final_tokens  \n",
       "338   [study, emerge, network, outbreak, responsepri...  \n",
       "464   [product, human, development, population, grow...  \n",
       "761   [intellectual_merit, propose, project, seek, d...  \n",
       "3300  [percent, world, population, die, major, influ...  \n",
       "3364  [south_africa, highest, rate, hiv, aids, world...  "
      ]
     },
     "execution_count": 60,
     "metadata": {},
     "output_type": "execute_result"
    }
   ],
   "source": [
    "filt_corpus.head()"
   ]
  },
  {
   "cell_type": "code",
   "execution_count": null,
   "metadata": {},
   "outputs": [],
   "source": []
  }
 ],
 "metadata": {
  "kernelspec": {
   "display_name": "Python 3.8",
   "language": "python",
   "name": "python-3.8"
  },
  "language_info": {
   "codemirror_mode": {
    "name": "ipython",
    "version": 3
   },
   "file_extension": ".py",
   "mimetype": "text/x-python",
   "name": "python",
   "nbconvert_exporter": "python",
   "pygments_lexer": "ipython3",
   "version": "3.8.8"
  }
 },
 "nbformat": 4,
 "nbformat_minor": 4
}
