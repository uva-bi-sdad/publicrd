{
 "cells": [
  {
   "cell_type": "markdown",
   "metadata": {},
   "source": [
    "# EDA on full dataset "
   ]
  },
  {
   "cell_type": "code",
   "execution_count": 1,
   "metadata": {},
   "outputs": [
    {
     "name": "stderr",
     "output_type": "stream",
     "text": [
      "/home/kjl5t/.local/lib/python3.8/site-packages/gensim/similarities/__init__.py:15: UserWarning: The gensim.similarities.levenshtein submodule is disabled, because the optional Levenshtein package <https://pypi.org/project/python-Levenshtein/> is unavailable. Install Levenhstein (e.g. `pip install python-Levenshtein`) to suppress this warning.\n",
      "  warnings.warn(msg)\n"
     ]
    }
   ],
   "source": [
    "import pandas as pd\n",
    "pd.set_option('display.max_columns', 50)\n",
    "\n",
    "import numpy as np\n",
    "import pickle\n",
    "import matplotlib.pyplot as plt\n",
    "import gensim\n",
    "import time\n",
    "\n",
    "from sklearn.decomposition import NMF, TruncatedSVD, LatentDirichletAllocation\n",
    "from sklearn.feature_extraction.text import CountVectorizer\n",
    "from sklearn.feature_extraction.text import TfidfVectorizer\n",
    "#from sklearn.metrics import pairwise_distances\n",
    "from sklearn.metrics.pairwise import cosine_similarity\n",
    "\n",
    "#import spacy\n",
    "#from spacy.lang.en.stop_words import STOP_WORDS\n",
    "\n",
    "from importlib import reload"
   ]
  },
  {
   "cell_type": "code",
   "execution_count": null,
   "metadata": {},
   "outputs": [],
   "source": []
  },
  {
   "cell_type": "code",
   "execution_count": 2,
   "metadata": {},
   "outputs": [],
   "source": [
    "# pull in data\n",
    "\n",
    "# full corpus\n",
    "#df = pd.read_pickle(\"../../data/prd/Federal_RePORTER/FR-cleaned-2021FEB24.pkl\")\n",
    "df = pd.read_pickle(\"/home/kjl5t/dspg21RnD/data/dspg21RnD/smaller-final-dataset.pkl\")\n",
    "\n"
   ]
  },
  {
   "cell_type": "code",
   "execution_count": 3,
   "metadata": {},
   "outputs": [
    {
     "data": {
      "text/html": [
       "<div>\n",
       "<style scoped>\n",
       "    .dataframe tbody tr th:only-of-type {\n",
       "        vertical-align: middle;\n",
       "    }\n",
       "\n",
       "    .dataframe tbody tr th {\n",
       "        vertical-align: top;\n",
       "    }\n",
       "\n",
       "    .dataframe thead th {\n",
       "        text-align: right;\n",
       "    }\n",
       "</style>\n",
       "<table border=\"1\" class=\"dataframe\">\n",
       "  <thead>\n",
       "    <tr style=\"text-align: right;\">\n",
       "      <th></th>\n",
       "      <th>original index</th>\n",
       "      <th>PROJECT_ID</th>\n",
       "      <th>ABSTRACT</th>\n",
       "      <th>FY</th>\n",
       "      <th>ORG_COUNT</th>\n",
       "      <th>PI_COUNT</th>\n",
       "      <th>nchar</th>\n",
       "      <th>final_frqwds_removed</th>\n",
       "      <th>PROJECT_TERMS</th>\n",
       "      <th>PROJECT_TITLE</th>\n",
       "      <th>DEPARTMENT</th>\n",
       "      <th>AGENCY</th>\n",
       "      <th>IC_CENTER</th>\n",
       "      <th>PROJECT_NUMBER</th>\n",
       "      <th>PROJECT_START_DATE</th>\n",
       "      <th>PROJECT_END_DATE</th>\n",
       "      <th>CONTACT_PI_PROJECT_LEADER</th>\n",
       "      <th>OTHER_PIS</th>\n",
       "      <th>CONGRESSIONAL_DISTRICT</th>\n",
       "      <th>DUNS_NUMBER</th>\n",
       "      <th>ORGANIZATION_NAME</th>\n",
       "      <th>ORGANIZATION_CITY</th>\n",
       "      <th>ORGANIZATION_STATE</th>\n",
       "      <th>ORGANIZATION_ZIP</th>\n",
       "      <th>ORGANIZATION_COUNTRY</th>\n",
       "      <th>BUDGET_START_DATE</th>\n",
       "      <th>BUDGET_END_DATE</th>\n",
       "      <th>CFDA_CODE</th>\n",
       "      <th>FY.y</th>\n",
       "      <th>FY_TOTAL_COST</th>\n",
       "      <th>FY_TOTAL_COST_SUB_PROJECTS</th>\n",
       "    </tr>\n",
       "  </thead>\n",
       "  <tbody>\n",
       "    <tr>\n",
       "      <th>0</th>\n",
       "      <td>17608</td>\n",
       "      <td>152242</td>\n",
       "      <td>The multiprotein complex y-secretase proteolyt...</td>\n",
       "      <td>2008</td>\n",
       "      <td>1</td>\n",
       "      <td>1</td>\n",
       "      <td>1402</td>\n",
       "      <td>[multiprotein, y_secretase, proteolytically_cl...</td>\n",
       "      <td>Active Sites; Affect; Alzheimer's Disease; Am...</td>\n",
       "      <td>STRUCTURE OF SIGNAL PEPTIDE PEPTIDASE</td>\n",
       "      <td>HHS</td>\n",
       "      <td>NIH</td>\n",
       "      <td>NIA</td>\n",
       "      <td>5F32AG027647-03</td>\n",
       "      <td>12/1/2005</td>\n",
       "      <td>1/1/2008</td>\n",
       "      <td>LIEBERMAN, RAQUEL L</td>\n",
       "      <td>NaN</td>\n",
       "      <td>07</td>\n",
       "      <td>030811269</td>\n",
       "      <td>BRIGHAM AND WOMEN'S HOSPITAL</td>\n",
       "      <td>BOSTON</td>\n",
       "      <td>MA</td>\n",
       "      <td>021156110</td>\n",
       "      <td>UNITED STATES</td>\n",
       "      <td>12/1/2007</td>\n",
       "      <td>1/1/2008</td>\n",
       "      <td>93.866</td>\n",
       "      <td>2008</td>\n",
       "      <td>3483.0</td>\n",
       "      <td>NaN</td>\n",
       "    </tr>\n",
       "    <tr>\n",
       "      <th>1</th>\n",
       "      <td>111864</td>\n",
       "      <td>190316</td>\n",
       "      <td>DESCRIPTION (provided by applicant):   The Kis...</td>\n",
       "      <td>2008</td>\n",
       "      <td>1</td>\n",
       "      <td>1</td>\n",
       "      <td>2553</td>\n",
       "      <td>[kissl, gene, encode, peptide, kisspeptin, bin...</td>\n",
       "      <td>Affect; Animal Model; Axon; Behavior; Behavio...</td>\n",
       "      <td>ROLE OF KISS1 NEURONS IN THE SEASONAL AND CIRC...</td>\n",
       "      <td>HHS</td>\n",
       "      <td>NIH</td>\n",
       "      <td>NICHD</td>\n",
       "      <td>5K99HD056157-02</td>\n",
       "      <td>9/1/2007</td>\n",
       "      <td>1/1/2009</td>\n",
       "      <td>KAUFFMAN, ALEXANDER S</td>\n",
       "      <td>NaN</td>\n",
       "      <td>07</td>\n",
       "      <td>605799469</td>\n",
       "      <td>UNIVERSITY OF WASHINGTON</td>\n",
       "      <td>SEATTLE</td>\n",
       "      <td>WA</td>\n",
       "      <td>981959472</td>\n",
       "      <td>UNITED STATES</td>\n",
       "      <td>9/1/2008</td>\n",
       "      <td>1/1/2009</td>\n",
       "      <td>93.865</td>\n",
       "      <td>2008</td>\n",
       "      <td>39175.0</td>\n",
       "      <td>NaN</td>\n",
       "    </tr>\n",
       "    <tr>\n",
       "      <th>2</th>\n",
       "      <td>22052</td>\n",
       "      <td>154213</td>\n",
       "      <td>DESCRIPTION (provided by applicant): The objec...</td>\n",
       "      <td>2008</td>\n",
       "      <td>1</td>\n",
       "      <td>1</td>\n",
       "      <td>1414</td>\n",
       "      <td>[biophysical, basis, thermodynamics_kinetic, m...</td>\n",
       "      <td>Agreement; Antibodies; base; Binding; Biochem...</td>\n",
       "      <td>CARBONIC ANHYDRASE AS A MODEL TO UNDERSTAND DI...</td>\n",
       "      <td>HHS</td>\n",
       "      <td>NIH</td>\n",
       "      <td>NIGMS</td>\n",
       "      <td>5F32GM076971-02</td>\n",
       "      <td>1/2/2007</td>\n",
       "      <td>1/1/2009</td>\n",
       "      <td>MACK, ERIC T</td>\n",
       "      <td>NaN</td>\n",
       "      <td>05</td>\n",
       "      <td>082359691</td>\n",
       "      <td>HARVARD UNIVERSITY</td>\n",
       "      <td>CAMBRIDGE</td>\n",
       "      <td>MA</td>\n",
       "      <td>021385319</td>\n",
       "      <td>UNITED STATES</td>\n",
       "      <td>1/2/2008</td>\n",
       "      <td>1/1/2009</td>\n",
       "      <td>93.859</td>\n",
       "      <td>2008</td>\n",
       "      <td>49646.0</td>\n",
       "      <td>NaN</td>\n",
       "    </tr>\n",
       "    <tr>\n",
       "      <th>3</th>\n",
       "      <td>35004</td>\n",
       "      <td>159362</td>\n",
       "      <td>Obesity is the cause of many adverse pregnancy...</td>\n",
       "      <td>2008</td>\n",
       "      <td>1</td>\n",
       "      <td>1</td>\n",
       "      <td>1545</td>\n",
       "      <td>[obesity, adverse_pregnancyoutcome, great, hea...</td>\n",
       "      <td>African; Analysis of Variance; Asians; Birth;...</td>\n",
       "      <td>OBESITY ON VAGAL TONE AND HBA1C DURING PREGNANCY</td>\n",
       "      <td>HHS</td>\n",
       "      <td>NIH</td>\n",
       "      <td>NINR</td>\n",
       "      <td>5F31NR009611-03</td>\n",
       "      <td>4/1/2006</td>\n",
       "      <td>1/1/2009</td>\n",
       "      <td>HELMREICH, REBECCA J</td>\n",
       "      <td>NaN</td>\n",
       "      <td>09</td>\n",
       "      <td>800771594</td>\n",
       "      <td>UNIVERSITY OF TEXAS HLTH SCI CTR HOUSTON</td>\n",
       "      <td>HOUSTON</td>\n",
       "      <td>TX</td>\n",
       "      <td>770305400</td>\n",
       "      <td>UNITED STATES</td>\n",
       "      <td>4/1/2008</td>\n",
       "      <td>1/1/2009</td>\n",
       "      <td>93.361</td>\n",
       "      <td>2008</td>\n",
       "      <td>20406.0</td>\n",
       "      <td>NaN</td>\n",
       "    </tr>\n",
       "    <tr>\n",
       "      <th>4</th>\n",
       "      <td>371628</td>\n",
       "      <td>594482</td>\n",
       "      <td>Local potato advisory groups have expressed in...</td>\n",
       "      <td>2010</td>\n",
       "      <td>1</td>\n",
       "      <td>1</td>\n",
       "      <td>271</td>\n",
       "      <td>[local, potato, advisory, express, interest, m...</td>\n",
       "      <td>cost; Health; interest; Manure; Parasitic nem...</td>\n",
       "      <td>PLANT-PARASITIC NEMATODE MANAGEMENT AS A COMPO...</td>\n",
       "      <td>USDA</td>\n",
       "      <td>NIFA</td>\n",
       "      <td>NaN</td>\n",
       "      <td>0219605</td>\n",
       "      <td>10/1/2009</td>\n",
       "      <td>1/1/2010</td>\n",
       "      <td>CHARLTON, B.</td>\n",
       "      <td>NaN</td>\n",
       "      <td>NaN</td>\n",
       "      <td>053599908</td>\n",
       "      <td>OREGON STATE UNIVERSITY</td>\n",
       "      <td>CORVALLIS</td>\n",
       "      <td>OR</td>\n",
       "      <td>97331</td>\n",
       "      <td>UNITED STATES</td>\n",
       "      <td>NaN</td>\n",
       "      <td>NaN</td>\n",
       "      <td>10.203</td>\n",
       "      <td>2010</td>\n",
       "      <td>NaN</td>\n",
       "      <td>NaN</td>\n",
       "    </tr>\n",
       "  </tbody>\n",
       "</table>\n",
       "</div>"
      ],
      "text/plain": [
       "   original index PROJECT_ID  \\\n",
       "0           17608     152242   \n",
       "1          111864     190316   \n",
       "2           22052     154213   \n",
       "3           35004     159362   \n",
       "4          371628     594482   \n",
       "\n",
       "                                            ABSTRACT    FY  ORG_COUNT  \\\n",
       "0  The multiprotein complex y-secretase proteolyt...  2008          1   \n",
       "1  DESCRIPTION (provided by applicant):   The Kis...  2008          1   \n",
       "2  DESCRIPTION (provided by applicant): The objec...  2008          1   \n",
       "3  Obesity is the cause of many adverse pregnancy...  2008          1   \n",
       "4  Local potato advisory groups have expressed in...  2010          1   \n",
       "\n",
       "   PI_COUNT  nchar                               final_frqwds_removed  \\\n",
       "0         1   1402  [multiprotein, y_secretase, proteolytically_cl...   \n",
       "1         1   2553  [kissl, gene, encode, peptide, kisspeptin, bin...   \n",
       "2         1   1414  [biophysical, basis, thermodynamics_kinetic, m...   \n",
       "3         1   1545  [obesity, adverse_pregnancyoutcome, great, hea...   \n",
       "4         1    271  [local, potato, advisory, express, interest, m...   \n",
       "\n",
       "                                       PROJECT_TERMS  \\\n",
       "0   Active Sites; Affect; Alzheimer's Disease; Am...   \n",
       "1   Affect; Animal Model; Axon; Behavior; Behavio...   \n",
       "2   Agreement; Antibodies; base; Binding; Biochem...   \n",
       "3   African; Analysis of Variance; Asians; Birth;...   \n",
       "4   cost; Health; interest; Manure; Parasitic nem...   \n",
       "\n",
       "                                       PROJECT_TITLE DEPARTMENT AGENCY  \\\n",
       "0              STRUCTURE OF SIGNAL PEPTIDE PEPTIDASE        HHS    NIH   \n",
       "1  ROLE OF KISS1 NEURONS IN THE SEASONAL AND CIRC...        HHS    NIH   \n",
       "2  CARBONIC ANHYDRASE AS A MODEL TO UNDERSTAND DI...        HHS    NIH   \n",
       "3   OBESITY ON VAGAL TONE AND HBA1C DURING PREGNANCY        HHS    NIH   \n",
       "4  PLANT-PARASITIC NEMATODE MANAGEMENT AS A COMPO...       USDA   NIFA   \n",
       "\n",
       "  IC_CENTER   PROJECT_NUMBER PROJECT_START_DATE PROJECT_END_DATE  \\\n",
       "0       NIA  5F32AG027647-03          12/1/2005         1/1/2008   \n",
       "1     NICHD  5K99HD056157-02           9/1/2007         1/1/2009   \n",
       "2     NIGMS  5F32GM076971-02           1/2/2007         1/1/2009   \n",
       "3      NINR  5F31NR009611-03           4/1/2006         1/1/2009   \n",
       "4       NaN          0219605          10/1/2009         1/1/2010   \n",
       "\n",
       "  CONTACT_PI_PROJECT_LEADER OTHER_PIS CONGRESSIONAL_DISTRICT DUNS_NUMBER  \\\n",
       "0       LIEBERMAN, RAQUEL L       NaN                     07   030811269   \n",
       "1     KAUFFMAN, ALEXANDER S       NaN                     07   605799469   \n",
       "2              MACK, ERIC T       NaN                     05   082359691   \n",
       "3      HELMREICH, REBECCA J       NaN                     09   800771594   \n",
       "4              CHARLTON, B.       NaN                    NaN   053599908   \n",
       "\n",
       "                          ORGANIZATION_NAME ORGANIZATION_CITY  \\\n",
       "0              BRIGHAM AND WOMEN'S HOSPITAL            BOSTON   \n",
       "1                  UNIVERSITY OF WASHINGTON           SEATTLE   \n",
       "2                        HARVARD UNIVERSITY         CAMBRIDGE   \n",
       "3  UNIVERSITY OF TEXAS HLTH SCI CTR HOUSTON           HOUSTON   \n",
       "4                   OREGON STATE UNIVERSITY         CORVALLIS   \n",
       "\n",
       "  ORGANIZATION_STATE ORGANIZATION_ZIP ORGANIZATION_COUNTRY BUDGET_START_DATE  \\\n",
       "0                 MA        021156110        UNITED STATES         12/1/2007   \n",
       "1                 WA        981959472        UNITED STATES          9/1/2008   \n",
       "2                 MA        021385319        UNITED STATES          1/2/2008   \n",
       "3                 TX        770305400        UNITED STATES          4/1/2008   \n",
       "4                 OR            97331        UNITED STATES               NaN   \n",
       "\n",
       "  BUDGET_END_DATE CFDA_CODE  FY.y  FY_TOTAL_COST  FY_TOTAL_COST_SUB_PROJECTS  \n",
       "0        1/1/2008    93.866  2008         3483.0                         NaN  \n",
       "1        1/1/2009    93.865  2008        39175.0                         NaN  \n",
       "2        1/1/2009    93.859  2008        49646.0                         NaN  \n",
       "3        1/1/2009    93.361  2008        20406.0                         NaN  \n",
       "4             NaN    10.203  2010            NaN                         NaN  "
      ]
     },
     "execution_count": 3,
     "metadata": {},
     "output_type": "execute_result"
    }
   ],
   "source": [
    "df.head()"
   ]
  },
  {
   "cell_type": "code",
   "execution_count": null,
   "metadata": {},
   "outputs": [],
   "source": []
  },
  {
   "cell_type": "code",
   "execution_count": 4,
   "metadata": {},
   "outputs": [
    {
     "data": {
      "text/plain": [
       "HHS     511793\n",
       "NSF     121715\n",
       "USDA     29769\n",
       "NASA     10853\n",
       "DOD       7845\n",
       "VA        5529\n",
       "ED        1764\n",
       "EPA       1540\n",
       "Name: DEPARTMENT, dtype: int64"
      ]
     },
     "execution_count": 4,
     "metadata": {},
     "output_type": "execute_result"
    }
   ],
   "source": [
    "# agency distribution\n",
    "\n",
    "df[\"DEPARTMENT\"].value_counts()"
   ]
  },
  {
   "cell_type": "code",
   "execution_count": 5,
   "metadata": {},
   "outputs": [
    {
     "data": {
      "text/plain": [
       "690814"
      ]
     },
     "execution_count": 5,
     "metadata": {},
     "output_type": "execute_result"
    }
   ],
   "source": [
    "len(df)"
   ]
  },
  {
   "cell_type": "code",
   "execution_count": 6,
   "metadata": {},
   "outputs": [
    {
     "name": "stdout",
     "output_type": "stream",
     "text": [
      "HHS     74.085499\n",
      "NSF     17.619070\n",
      "USDA     4.309264\n",
      "NASA     1.571045\n",
      "DOD      1.135617\n",
      "VA       0.800360\n",
      "ED       0.255351\n",
      "EPA      0.222925\n",
      "Name: DEPARTMENT, dtype: float64\n"
     ]
    }
   ],
   "source": [
    "agency_counts = 100*df[\"DEPARTMENT\"].value_counts()/len(df)\n",
    "print(agency_counts)"
   ]
  },
  {
   "cell_type": "code",
   "execution_count": 7,
   "metadata": {},
   "outputs": [
    {
     "data": {
      "image/png": "[encoded data removed]",
      "text/plain": [
       "<Figure size 432x288 with 1 Axes>"
      ]
     },
     "metadata": {
      "needs_background": "light"
     },
     "output_type": "display_data"
    }
   ],
   "source": [
    "# plot\n",
    "agency = agency_counts.index.tolist()\n",
    "count = agency_counts.values\n",
    "\n",
    "#reload(plt)\n",
    "fig = plt.figure()\n",
    "ax = fig.add_subplot(111)\n",
    "ax.set_axisbelow(True)\n",
    "plt.grid(True, color = \"whitesmoke\")\n",
    "plt.bar(agency, count, color='navy')\n",
    "plt.ylim(0,100)\n",
    "plt.xlabel(\"Agency\")\n",
    "plt.ylabel(\"Percent of Dataset\")\n",
    "plt.title(\"Project Distribution by Funding Agency\")\n",
    "\n",
    "#plt.savefig(\"figures/agency_dist.png\", dpi = 800, bbox_inches = \"tight\")"
   ]
  },
  {
   "cell_type": "code",
   "execution_count": null,
   "metadata": {},
   "outputs": [],
   "source": []
  },
  {
   "cell_type": "code",
   "execution_count": null,
   "metadata": {},
   "outputs": [],
   "source": []
  },
  {
   "cell_type": "code",
   "execution_count": null,
   "metadata": {},
   "outputs": [],
   "source": []
  },
  {
   "cell_type": "code",
   "execution_count": 8,
   "metadata": {},
   "outputs": [],
   "source": [
    "# project start year distribution\n",
    "\n",
    "#sum(df[\"PROJECT_START_DATE\"].isna())  #0\n",
    "\n",
    "# Extract Year from PROJECT_START_DATE - Sean's function from emerging topics code\n",
    "\n",
    "def getYear(a):   \n",
    "    a = str(a)\n",
    "    if a.find(\"/\"):\n",
    "        splitdate = a.split(\"/\")\n",
    "        if len(splitdate) == 3:\n",
    "            a = splitdate[2]\n",
    "        else:\n",
    "            a = splitdate[0]\n",
    "    year = str(a)\n",
    "    return year\n",
    "\n",
    "df['START_YEAR'] = df['PROJECT_START_DATE'].apply(getYear)\n"
   ]
  },
  {
   "cell_type": "code",
   "execution_count": 9,
   "metadata": {},
   "outputs": [],
   "source": [
    "df[\"START_YEAR\"] = df[\"START_YEAR\"].astype('int')"
   ]
  },
  {
   "cell_type": "code",
   "execution_count": 10,
   "metadata": {},
   "outputs": [
    {
     "data": {
      "text/plain": [
       "2009    70326\n",
       "2010    65361\n",
       "2011    59065\n",
       "2008    56133\n",
       "2012    52137\n",
       "2014    45773\n",
       "2016    44917\n",
       "2015    44798\n",
       "2013    43666\n",
       "2018    43224\n",
       "2017    41733\n",
       "2019    31166\n",
       "2007    18138\n",
       "2006    10509\n",
       "2005     9521\n",
       "2004     8038\n",
       "2003     5093\n",
       "1997     4507\n",
       "2002     4486\n",
       "2001     4406\n",
       "2000     3635\n",
       "1999     3475\n",
       "1998     2677\n",
       "1996     1851\n",
       "1994     1598\n",
       "1995     1436\n",
       "1992     1269\n",
       "1993     1179\n",
       "1991     1136\n",
       "1988      913\n",
       "1990      845\n",
       "1989      840\n",
       "1987      704\n",
       "1986      675\n",
       "1985      665\n",
       "1978      639\n",
       "1983      637\n",
       "1984      598\n",
       "1977      506\n",
       "1975      490\n",
       "1979      463\n",
       "1980      438\n",
       "1982      393\n",
       "1981      341\n",
       "1976      336\n",
       "2020       33\n",
       "1974       32\n",
       "1972        4\n",
       "1970        4\n",
       "1965        4\n",
       "1973        1\n",
       "Name: START_YEAR, dtype: int64"
      ]
     },
     "execution_count": 10,
     "metadata": {},
     "output_type": "execute_result"
    }
   ],
   "source": [
    "df['START_YEAR'].value_counts()"
   ]
  },
  {
   "cell_type": "code",
   "execution_count": 11,
   "metadata": {},
   "outputs": [
    {
     "name": "stdout",
     "output_type": "stream",
     "text": [
      "92482\n",
      "13.3873951599128\n"
     ]
    }
   ],
   "source": [
    "# number of projects with a start year before 2008\n",
    "\n",
    "#df.dtypes\n",
    "print(len(df[df['START_YEAR'] < 2008]))\n",
    "print(100*len(df[df['START_YEAR'] < 2008])/len(df))"
   ]
  },
  {
   "cell_type": "code",
   "execution_count": null,
   "metadata": {},
   "outputs": [],
   "source": []
  },
  {
   "cell_type": "code",
   "execution_count": 41,
   "metadata": {},
   "outputs": [],
   "source": [
    "# projects with start year of at least 2008\n",
    "\n",
    "filt_df = df[df['START_YEAR'] >= 2008]\n",
    "filt_df = filt_df[filt_df['START_YEAR'] < 2020]"
   ]
  },
  {
   "cell_type": "code",
   "execution_count": 42,
   "metadata": {},
   "outputs": [
    {
     "name": "stdout",
     "output_type": "stream",
     "text": [
      "2009    70326\n",
      "2010    65361\n",
      "2011    59065\n",
      "2008    56133\n",
      "2012    52137\n",
      "2014    45773\n",
      "2016    44917\n",
      "2015    44798\n",
      "2013    43666\n",
      "2018    43224\n",
      "2017    41733\n",
      "2019    31166\n",
      "Name: START_YEAR, dtype: int64\n"
     ]
    }
   ],
   "source": [
    "year_counts = filt_df[\"START_YEAR\"].value_counts()\n",
    "print(year_counts)"
   ]
  },
  {
   "cell_type": "code",
   "execution_count": 47,
   "metadata": {},
   "outputs": [
    {
     "data": {
      "image/png": "[encoded data removed]",
      "text/plain": [
       "<Figure size 432x288 with 1 Axes>"
      ]
     },
     "metadata": {
      "needs_background": "light"
     },
     "output_type": "display_data"
    }
   ],
   "source": [
    "# plot\n",
    "year = year_counts.index.tolist()\n",
    "count = year_counts.values\n",
    "\n",
    "fig = plt.figure()\n",
    "ax = fig.add_subplot(111)\n",
    "ax.set_axisbelow(True)\n",
    "plt.grid(True, color = \"whitesmoke\")\n",
    "plt.bar(year, count, color='navy')\n",
    "plt.xlim(2007.3, 2019.7)\n",
    "plt.xticks(year, rotation=45)\n",
    "#x_ticks = ax.xaxis.get_major_ticks()\n",
    "#x_ticks[-1].label1.set_visible(False)\n",
    "plt.xlabel(\"Project Start Year\")\n",
    "plt.ylabel(\"Number of Projects\")\n",
    "plt.title(\"Project Frequency by Start Year\")\n",
    "\n",
    "plt.savefig(\"figures/startyr_freq.png\", dpi = 800, bbox_inches = \"tight\")"
   ]
  },
  {
   "cell_type": "code",
   "execution_count": null,
   "metadata": {},
   "outputs": [],
   "source": []
  }
 ],
 "metadata": {
  "kernelspec": {
   "display_name": "Python 3",
   "language": "python",
   "name": "python3"
  },
  "language_info": {
   "codemirror_mode": {
    "name": "ipython",
    "version": 3
   },
   "file_extension": ".py",
   "mimetype": "text/x-python",
   "name": "python",
   "nbconvert_exporter": "python",
   "pygments_lexer": "ipython3",
   "version": "3.8.8"
  }
 },
 "nbformat": 4,
 "nbformat_minor": 4
}
