{
 "cells": [
  {
   "cell_type": "markdown",
   "metadata": {},
   "source": [
    "## Wrangling Calculations for Tech Report \n",
    "\n",
    "df: raw FR data from DSPG 2020 (Sean's data pull)  \n",
    "df_meta: raw FR data - abstracts from DSPG 2020, metadata from Kathryn's XML pull in February 2021. This should be the dataset we use going forward.\n",
    "\n",
    "Using this script to check if df_meta and df will result in the same filtered dataset. "
   ]
  },
  {
   "cell_type": "code",
   "execution_count": 1,
   "metadata": {},
   "outputs": [],
   "source": [
    "import pandas as pd\n",
    "import numpy as np\n",
    "\n",
    "pd.set_option(\"display.max_columns\", 75) "
   ]
  },
  {
   "cell_type": "code",
   "execution_count": null,
   "metadata": {},
   "outputs": [],
   "source": []
  },
  {
   "cell_type": "code",
   "execution_count": 40,
   "metadata": {},
   "outputs": [
    {
     "name": "stdout",
     "output_type": "stream",
     "text": [
      "(1156137, 26)\n"
     ]
    }
   ],
   "source": [
    "# reading in raw data\n",
    "\n",
    "# set data types\n",
    "cols = ['PROJECT_ID', 'ABSTRACT', 'FY.x', 'PROJECT_TERMS', 'PROJECT_TITLE', 'DEPARTMENT', 'AGENCY', 'IC_CENTER', \n",
    "        'PROJECT_NUMBER', 'PROJECT_START_DATE', 'PROJECT_END_DATE', 'CONTACT_PI_PROJECT_LEADER', 'OTHER_PIS', \n",
    "        'CONGRESSIONAL_DISTRICT', 'DUNS_NUMBER', 'ORGANIZATION_NAME', 'ORGANIZATION_CITY', 'ORGANIZATION_STATE', \n",
    "        'ORGANIZATION_ZIP', 'ORGANIZATION_COUNTRY', 'BUDGET_START_DATE', 'BUDGET_END_DATE', 'CFDA_CODE', 'FY.y', \n",
    "        'FY_TOTAL_COST', 'FY_TOTAL_COST_SUB_PROJECTS']\n",
    "dtypes = {col: 'str' for col in cols}\n",
    "dtypes[\"FY_TOTAL_COST\"] = 'float'\n",
    "dtypes[\"FY_TOTAL_COST_SUB_PROJECTS\"] = 'float'\n",
    "\n",
    "df = pd.read_csv('/home/kjl5t/dspg20RnD/data/original/working_federal_reporter_2020.csv', dtype = dtypes, engine='python')\n",
    "print(df.shape)"
   ]
  },
  {
   "cell_type": "code",
   "execution_count": 41,
   "metadata": {},
   "outputs": [
    {
     "name": "stdout",
     "output_type": "stream",
     "text": [
      "(1156137, 26)\n"
     ]
    }
   ],
   "source": [
    "# reading in fixed metadata\n",
    "\n",
    "# set data types\n",
    "cols = ['PROJECT_ID', 'ABSTRACT', 'FY.x', 'PROJECT_TERMS', 'PROJECT_TITLE', 'DEPARTMENT', 'AGENCY', 'IC_CENTER', \n",
    "        'PROJECT_NUMBER', 'PROJECT_START_DATE', 'PROJECT_END_DATE', 'CONTACT_PI_PROJECT_LEADER', 'OTHER_PIS', \n",
    "        'CONGRESSIONAL_DISTRICT', 'DUNS_NUMBER', 'ORGANIZATION_NAME', 'ORGANIZATION_CITY', 'ORGANIZATION_STATE', \n",
    "        'ORGANIZATION_ZIP', 'ORGANIZATION_COUNTRY', 'BUDGET_START_DATE', 'BUDGET_END_DATE', 'CFDA_CODE', 'FY.y', \n",
    "        'FY_TOTAL_COST', 'FY_TOTAL_COST_SUB_PROJECTS']\n",
    "dtypes = {col: 'str' for col in cols}\n",
    "dtypes[\"FY_TOTAL_COST\"] = 'float'\n",
    "dtypes[\"FY_TOTAL_COST_SUB_PROJECTS\"] = 'float'\n",
    "\n",
    "# dtype = dtypes,\n",
    "df_meta = pd.read_csv('../../../data/prd/Federal_RePORTER/FR_raw_2021FEB24.csv', dtype = dtypes, engine='python')\n",
    "print(df_meta.shape)"
   ]
  },
  {
   "cell_type": "code",
   "execution_count": null,
   "metadata": {},
   "outputs": [],
   "source": []
  },
  {
   "cell_type": "code",
   "execution_count": 4,
   "metadata": {},
   "outputs": [
    {
     "data": {
      "text/html": [
       "<div>\n",
       "<style scoped>\n",
       "    .dataframe tbody tr th:only-of-type {\n",
       "        vertical-align: middle;\n",
       "    }\n",
       "\n",
       "    .dataframe tbody tr th {\n",
       "        vertical-align: top;\n",
       "    }\n",
       "\n",
       "    .dataframe thead th {\n",
       "        text-align: right;\n",
       "    }\n",
       "</style>\n",
       "<table border=\"1\" class=\"dataframe\">\n",
       "  <thead>\n",
       "    <tr style=\"text-align: right;\">\n",
       "      <th></th>\n",
       "      <th>PROJECT_ID</th>\n",
       "      <th>ABSTRACT</th>\n",
       "      <th>FY.x</th>\n",
       "      <th>PROJECT_TERMS</th>\n",
       "      <th>PROJECT_TITLE</th>\n",
       "      <th>DEPARTMENT</th>\n",
       "      <th>AGENCY</th>\n",
       "      <th>IC_CENTER</th>\n",
       "      <th>PROJECT_NUMBER</th>\n",
       "      <th>PROJECT_START_DATE</th>\n",
       "      <th>PROJECT_END_DATE</th>\n",
       "      <th>CONTACT_PI_PROJECT_LEADER</th>\n",
       "      <th>OTHER_PIS</th>\n",
       "      <th>CONGRESSIONAL_DISTRICT</th>\n",
       "      <th>DUNS_NUMBER</th>\n",
       "      <th>ORGANIZATION_NAME</th>\n",
       "      <th>ORGANIZATION_CITY</th>\n",
       "      <th>ORGANIZATION_STATE</th>\n",
       "      <th>ORGANIZATION_ZIP</th>\n",
       "      <th>ORGANIZATION_COUNTRY</th>\n",
       "      <th>BUDGET_START_DATE</th>\n",
       "      <th>BUDGET_END_DATE</th>\n",
       "      <th>CFDA_CODE</th>\n",
       "      <th>FY.y</th>\n",
       "      <th>FY_TOTAL_COST</th>\n",
       "      <th>FY_TOTAL_COST_SUB_PROJECTS</th>\n",
       "    </tr>\n",
       "  </thead>\n",
       "  <tbody>\n",
       "    <tr>\n",
       "      <th>10004</th>\n",
       "      <td>1e+05</td>\n",
       "      <td>Dr. David Lai is awarded an NSF Astronomy and ...</td>\n",
       "      <td>2008</td>\n",
       "      <td>adaptive optics; Astronomy; Award; base; Calif...</td>\n",
       "      <td>CHEMICAL SIGNATURES OF RECENT MERGER EVENTS IN...</td>\n",
       "      <td>NSF</td>\n",
       "      <td>NSF</td>\n",
       "      <td>NaN</td>\n",
       "      <td>0802292</td>\n",
       "      <td>9/1/2008</td>\n",
       "      <td>8/31/2011</td>\n",
       "      <td>LAI, DAVID K</td>\n",
       "      <td>NaN</td>\n",
       "      <td>17</td>\n",
       "      <td>NaN</td>\n",
       "      <td>LAI, DAVID K</td>\n",
       "      <td>SANTA CRUZ</td>\n",
       "      <td>CA</td>\n",
       "      <td>95064-1077</td>\n",
       "      <td>UNITED STATES</td>\n",
       "      <td>NaN</td>\n",
       "      <td>NaN</td>\n",
       "      <td>47.049</td>\n",
       "      <td>2008</td>\n",
       "      <td>231000.0</td>\n",
       "      <td>NaN</td>\n",
       "    </tr>\n",
       "  </tbody>\n",
       "</table>\n",
       "</div>"
      ],
      "text/plain": [
       "      PROJECT_ID                                           ABSTRACT  FY.x  \\\n",
       "10004      1e+05  Dr. David Lai is awarded an NSF Astronomy and ...  2008   \n",
       "\n",
       "                                           PROJECT_TERMS  \\\n",
       "10004  adaptive optics; Astronomy; Award; base; Calif...   \n",
       "\n",
       "                                           PROJECT_TITLE DEPARTMENT AGENCY  \\\n",
       "10004  CHEMICAL SIGNATURES OF RECENT MERGER EVENTS IN...        NSF    NSF   \n",
       "\n",
       "      IC_CENTER PROJECT_NUMBER PROJECT_START_DATE PROJECT_END_DATE  \\\n",
       "10004       NaN        0802292           9/1/2008        8/31/2011   \n",
       "\n",
       "      CONTACT_PI_PROJECT_LEADER OTHER_PIS CONGRESSIONAL_DISTRICT DUNS_NUMBER  \\\n",
       "10004              LAI, DAVID K       NaN                     17         NaN   \n",
       "\n",
       "      ORGANIZATION_NAME ORGANIZATION_CITY ORGANIZATION_STATE ORGANIZATION_ZIP  \\\n",
       "10004      LAI, DAVID K        SANTA CRUZ                 CA       95064-1077   \n",
       "\n",
       "      ORGANIZATION_COUNTRY BUDGET_START_DATE BUDGET_END_DATE CFDA_CODE  FY.y  \\\n",
       "10004        UNITED STATES               NaN             NaN    47.049  2008   \n",
       "\n",
       "       FY_TOTAL_COST  FY_TOTAL_COST_SUB_PROJECTS  \n",
       "10004       231000.0                         NaN  "
      ]
     },
     "execution_count": 4,
     "metadata": {},
     "output_type": "execute_result"
    }
   ],
   "source": [
    "df[df['PROJECT_ID'] == '1e+05']"
   ]
  },
  {
   "cell_type": "code",
   "execution_count": 5,
   "metadata": {},
   "outputs": [
    {
     "data": {
      "text/html": [
       "<div>\n",
       "<style scoped>\n",
       "    .dataframe tbody tr th:only-of-type {\n",
       "        vertical-align: middle;\n",
       "    }\n",
       "\n",
       "    .dataframe tbody tr th {\n",
       "        vertical-align: top;\n",
       "    }\n",
       "\n",
       "    .dataframe thead th {\n",
       "        text-align: right;\n",
       "    }\n",
       "</style>\n",
       "<table border=\"1\" class=\"dataframe\">\n",
       "  <thead>\n",
       "    <tr style=\"text-align: right;\">\n",
       "      <th></th>\n",
       "      <th>PROJECT_ID</th>\n",
       "      <th>ABSTRACT</th>\n",
       "      <th>FY.x</th>\n",
       "      <th>PROJECT_TERMS</th>\n",
       "      <th>PROJECT_TITLE</th>\n",
       "      <th>DEPARTMENT</th>\n",
       "      <th>AGENCY</th>\n",
       "      <th>IC_CENTER</th>\n",
       "      <th>PROJECT_NUMBER</th>\n",
       "      <th>PROJECT_START_DATE</th>\n",
       "      <th>PROJECT_END_DATE</th>\n",
       "      <th>CONTACT_PI_PROJECT_LEADER</th>\n",
       "      <th>OTHER_PIS</th>\n",
       "      <th>CONGRESSIONAL_DISTRICT</th>\n",
       "      <th>DUNS_NUMBER</th>\n",
       "      <th>ORGANIZATION_NAME</th>\n",
       "      <th>ORGANIZATION_CITY</th>\n",
       "      <th>ORGANIZATION_STATE</th>\n",
       "      <th>ORGANIZATION_ZIP</th>\n",
       "      <th>ORGANIZATION_COUNTRY</th>\n",
       "      <th>BUDGET_START_DATE</th>\n",
       "      <th>BUDGET_END_DATE</th>\n",
       "      <th>CFDA_CODE</th>\n",
       "      <th>FY.y</th>\n",
       "      <th>FY_TOTAL_COST</th>\n",
       "      <th>FY_TOTAL_COST_SUB_PROJECTS</th>\n",
       "    </tr>\n",
       "  </thead>\n",
       "  <tbody>\n",
       "    <tr>\n",
       "      <th>10004</th>\n",
       "      <td>100000</td>\n",
       "      <td>Dr. David Lai is awarded an NSF Astronomy and ...</td>\n",
       "      <td>2008</td>\n",
       "      <td>adaptive optics; Astronomy; Award; base; Cali...</td>\n",
       "      <td>CHEMICAL SIGNATURES OF RECENT MERGER EVENTS IN...</td>\n",
       "      <td>NSF</td>\n",
       "      <td>NSF</td>\n",
       "      <td>NaN</td>\n",
       "      <td>0802292</td>\n",
       "      <td>9/1/2008</td>\n",
       "      <td>8/31/2011</td>\n",
       "      <td>LAI, DAVID K</td>\n",
       "      <td>NaN</td>\n",
       "      <td>17</td>\n",
       "      <td>NaN</td>\n",
       "      <td>LAI, DAVID K</td>\n",
       "      <td>SANTA CRUZ</td>\n",
       "      <td>CA</td>\n",
       "      <td>95064-1077</td>\n",
       "      <td>UNITED STATES</td>\n",
       "      <td>NaN</td>\n",
       "      <td>NaN</td>\n",
       "      <td>47.049</td>\n",
       "      <td>2008</td>\n",
       "      <td>231000.0</td>\n",
       "      <td>NaN</td>\n",
       "    </tr>\n",
       "  </tbody>\n",
       "</table>\n",
       "</div>"
      ],
      "text/plain": [
       "      PROJECT_ID                                           ABSTRACT  FY.x  \\\n",
       "10004     100000  Dr. David Lai is awarded an NSF Astronomy and ...  2008   \n",
       "\n",
       "                                           PROJECT_TERMS  \\\n",
       "10004   adaptive optics; Astronomy; Award; base; Cali...   \n",
       "\n",
       "                                           PROJECT_TITLE DEPARTMENT AGENCY  \\\n",
       "10004  CHEMICAL SIGNATURES OF RECENT MERGER EVENTS IN...        NSF    NSF   \n",
       "\n",
       "      IC_CENTER PROJECT_NUMBER PROJECT_START_DATE PROJECT_END_DATE  \\\n",
       "10004       NaN        0802292           9/1/2008        8/31/2011   \n",
       "\n",
       "      CONTACT_PI_PROJECT_LEADER OTHER_PIS CONGRESSIONAL_DISTRICT DUNS_NUMBER  \\\n",
       "10004              LAI, DAVID K       NaN                     17         NaN   \n",
       "\n",
       "      ORGANIZATION_NAME ORGANIZATION_CITY ORGANIZATION_STATE ORGANIZATION_ZIP  \\\n",
       "10004      LAI, DAVID K        SANTA CRUZ                 CA       95064-1077   \n",
       "\n",
       "      ORGANIZATION_COUNTRY BUDGET_START_DATE BUDGET_END_DATE CFDA_CODE  FY.y  \\\n",
       "10004        UNITED STATES               NaN             NaN    47.049  2008   \n",
       "\n",
       "       FY_TOTAL_COST  FY_TOTAL_COST_SUB_PROJECTS  \n",
       "10004       231000.0                         NaN  "
      ]
     },
     "execution_count": 5,
     "metadata": {},
     "output_type": "execute_result"
    }
   ],
   "source": [
    "df_meta[df_meta['PROJECT_ID'] == '100000']"
   ]
  },
  {
   "cell_type": "code",
   "execution_count": null,
   "metadata": {},
   "outputs": [],
   "source": []
  },
  {
   "cell_type": "code",
   "execution_count": 6,
   "metadata": {},
   "outputs": [],
   "source": [
    "# find different elements in each set\n",
    "\n",
    "A = set(df[\"PROJECT_ID\"])\n",
    "B = set(df_meta[\"PROJECT_ID\"])"
   ]
  },
  {
   "cell_type": "code",
   "execution_count": 7,
   "metadata": {},
   "outputs": [
    {
     "data": {
      "text/plain": [
       "{'1e+05',\n",
       " '1e+06',\n",
       " '2e+05',\n",
       " '3e+05',\n",
       " '4e+05',\n",
       " '5e+05',\n",
       " '7e+05',\n",
       " '8e+05',\n",
       " '9e+05'}"
      ]
     },
     "execution_count": 7,
     "metadata": {},
     "output_type": "execute_result"
    }
   ],
   "source": [
    "A.difference(B)"
   ]
  },
  {
   "cell_type": "code",
   "execution_count": 8,
   "metadata": {},
   "outputs": [
    {
     "data": {
      "text/plain": [
       "{'100000',\n",
       " '1000000',\n",
       " '200000',\n",
       " '300000',\n",
       " '400000',\n",
       " '500000',\n",
       " '700000',\n",
       " '800000',\n",
       " '900000'}"
      ]
     },
     "execution_count": 8,
     "metadata": {},
     "output_type": "execute_result"
    }
   ],
   "source": [
    "B.difference(A)"
   ]
  },
  {
   "cell_type": "code",
   "execution_count": null,
   "metadata": {},
   "outputs": [],
   "source": []
  },
  {
   "cell_type": "code",
   "execution_count": 42,
   "metadata": {},
   "outputs": [
    {
     "name": "stderr",
     "output_type": "stream",
     "text": [
      "<ipython-input-42-3adf747e5c63>:8: SettingWithCopyWarning: \n",
      "A value is trying to be set on a copy of a slice from a DataFrame\n",
      "\n",
      "See the caveats in the documentation: https://pandas.pydata.org/pandas-docs/stable/user_guide/indexing.html#returning-a-view-versus-a-copy\n",
      "  df['PROJECT_ID'][idx[0][0]] = fixed[i]\n"
     ]
    }
   ],
   "source": [
    "# fix the scientific notation indices in df\n",
    "\n",
    "sci_not = ['1e+05', '1e+06', '2e+05', '3e+05', '4e+05', '5e+05', '7e+05', '8e+05', '9e+05']\n",
    "fixed = ['100000', '1000000', '200000', '300000', '400000', '500000', '700000', '800000', '900000']\n",
    "\n",
    "for i, proj_id in enumerate(sci_not):\n",
    "    idx = np.where(df[\"PROJECT_ID\"] == proj_id)\n",
    "    df['PROJECT_ID'][idx[0][0]] = fixed[i]\n",
    "    "
   ]
  },
  {
   "cell_type": "code",
   "execution_count": 43,
   "metadata": {},
   "outputs": [
    {
     "name": "stdout",
     "output_type": "stream",
     "text": [
      "set()\n",
      "set()\n"
     ]
    }
   ],
   "source": [
    "# find different elements in each set\n",
    "\n",
    "A = set(df[\"PROJECT_ID\"])\n",
    "B = set(df_meta[\"PROJECT_ID\"])\n",
    "\n",
    "print(A.difference(B))\n",
    "print(B.difference(A))"
   ]
  },
  {
   "cell_type": "code",
   "execution_count": 11,
   "metadata": {},
   "outputs": [
    {
     "data": {
      "text/html": [
       "<div>\n",
       "<style scoped>\n",
       "    .dataframe tbody tr th:only-of-type {\n",
       "        vertical-align: middle;\n",
       "    }\n",
       "\n",
       "    .dataframe tbody tr th {\n",
       "        vertical-align: top;\n",
       "    }\n",
       "\n",
       "    .dataframe thead th {\n",
       "        text-align: right;\n",
       "    }\n",
       "</style>\n",
       "<table border=\"1\" class=\"dataframe\">\n",
       "  <thead>\n",
       "    <tr style=\"text-align: right;\">\n",
       "      <th></th>\n",
       "      <th>PROJECT_ID</th>\n",
       "      <th>ABSTRACT</th>\n",
       "      <th>FY.x</th>\n",
       "      <th>PROJECT_TERMS</th>\n",
       "      <th>PROJECT_TITLE</th>\n",
       "      <th>DEPARTMENT</th>\n",
       "      <th>AGENCY</th>\n",
       "      <th>IC_CENTER</th>\n",
       "      <th>PROJECT_NUMBER</th>\n",
       "      <th>PROJECT_START_DATE</th>\n",
       "      <th>PROJECT_END_DATE</th>\n",
       "      <th>CONTACT_PI_PROJECT_LEADER</th>\n",
       "      <th>OTHER_PIS</th>\n",
       "      <th>CONGRESSIONAL_DISTRICT</th>\n",
       "      <th>DUNS_NUMBER</th>\n",
       "      <th>ORGANIZATION_NAME</th>\n",
       "      <th>ORGANIZATION_CITY</th>\n",
       "      <th>ORGANIZATION_STATE</th>\n",
       "      <th>ORGANIZATION_ZIP</th>\n",
       "      <th>ORGANIZATION_COUNTRY</th>\n",
       "      <th>BUDGET_START_DATE</th>\n",
       "      <th>BUDGET_END_DATE</th>\n",
       "      <th>CFDA_CODE</th>\n",
       "      <th>FY.y</th>\n",
       "      <th>FY_TOTAL_COST</th>\n",
       "      <th>FY_TOTAL_COST_SUB_PROJECTS</th>\n",
       "    </tr>\n",
       "  </thead>\n",
       "  <tbody>\n",
       "    <tr>\n",
       "      <th>118663</th>\n",
       "      <td>200000</td>\n",
       "      <td>DESCRIPTION (provided by applicant):  Parkinso...</td>\n",
       "      <td>2009</td>\n",
       "      <td>Affect; Age; Age of Onset; age related; aging ...</td>\n",
       "      <td>DJ-1 AND ITS INTERACTIONS WITH PARKIN AND ALPH...</td>\n",
       "      <td>HHS</td>\n",
       "      <td>NIH</td>\n",
       "      <td>NaN</td>\n",
       "      <td>5F31GM082026-02</td>\n",
       "      <td>1/1/2008</td>\n",
       "      <td>12/31/2011</td>\n",
       "      <td>RAMSEY, CHENERE PIERCE</td>\n",
       "      <td>NaN</td>\n",
       "      <td>02</td>\n",
       "      <td>042250712</td>\n",
       "      <td>UNIVERSITY OF PENNSYLVANIA</td>\n",
       "      <td>PHILADELPHIA</td>\n",
       "      <td>PA</td>\n",
       "      <td>191046205</td>\n",
       "      <td>UNITED STATES</td>\n",
       "      <td>NaN</td>\n",
       "      <td>NaN</td>\n",
       "      <td>93.859</td>\n",
       "      <td>2009</td>\n",
       "      <td>41176.0</td>\n",
       "      <td>NaN</td>\n",
       "    </tr>\n",
       "  </tbody>\n",
       "</table>\n",
       "</div>"
      ],
      "text/plain": [
       "       PROJECT_ID                                           ABSTRACT  FY.x  \\\n",
       "118663     200000  DESCRIPTION (provided by applicant):  Parkinso...  2009   \n",
       "\n",
       "                                            PROJECT_TERMS  \\\n",
       "118663  Affect; Age; Age of Onset; age related; aging ...   \n",
       "\n",
       "                                            PROJECT_TITLE DEPARTMENT AGENCY  \\\n",
       "118663  DJ-1 AND ITS INTERACTIONS WITH PARKIN AND ALPH...        HHS    NIH   \n",
       "\n",
       "       IC_CENTER   PROJECT_NUMBER PROJECT_START_DATE PROJECT_END_DATE  \\\n",
       "118663       NaN  5F31GM082026-02           1/1/2008       12/31/2011   \n",
       "\n",
       "       CONTACT_PI_PROJECT_LEADER OTHER_PIS CONGRESSIONAL_DISTRICT DUNS_NUMBER  \\\n",
       "118663    RAMSEY, CHENERE PIERCE       NaN                     02   042250712   \n",
       "\n",
       "                 ORGANIZATION_NAME ORGANIZATION_CITY ORGANIZATION_STATE  \\\n",
       "118663  UNIVERSITY OF PENNSYLVANIA      PHILADELPHIA                 PA   \n",
       "\n",
       "       ORGANIZATION_ZIP ORGANIZATION_COUNTRY BUDGET_START_DATE  \\\n",
       "118663        191046205        UNITED STATES               NaN   \n",
       "\n",
       "       BUDGET_END_DATE CFDA_CODE  FY.y  FY_TOTAL_COST  \\\n",
       "118663             NaN    93.859  2009        41176.0   \n",
       "\n",
       "        FY_TOTAL_COST_SUB_PROJECTS  \n",
       "118663                         NaN  "
      ]
     },
     "execution_count": 11,
     "metadata": {},
     "output_type": "execute_result"
    }
   ],
   "source": [
    "df[df[\"PROJECT_ID\"] == '200000']"
   ]
  },
  {
   "cell_type": "code",
   "execution_count": 12,
   "metadata": {},
   "outputs": [
    {
     "data": {
      "text/html": [
       "<div>\n",
       "<style scoped>\n",
       "    .dataframe tbody tr th:only-of-type {\n",
       "        vertical-align: middle;\n",
       "    }\n",
       "\n",
       "    .dataframe tbody tr th {\n",
       "        vertical-align: top;\n",
       "    }\n",
       "\n",
       "    .dataframe thead th {\n",
       "        text-align: right;\n",
       "    }\n",
       "</style>\n",
       "<table border=\"1\" class=\"dataframe\">\n",
       "  <thead>\n",
       "    <tr style=\"text-align: right;\">\n",
       "      <th></th>\n",
       "      <th>PROJECT_ID</th>\n",
       "      <th>ABSTRACT</th>\n",
       "      <th>FY.x</th>\n",
       "      <th>PROJECT_TERMS</th>\n",
       "      <th>PROJECT_TITLE</th>\n",
       "      <th>DEPARTMENT</th>\n",
       "      <th>AGENCY</th>\n",
       "      <th>IC_CENTER</th>\n",
       "      <th>PROJECT_NUMBER</th>\n",
       "      <th>PROJECT_START_DATE</th>\n",
       "      <th>PROJECT_END_DATE</th>\n",
       "      <th>CONTACT_PI_PROJECT_LEADER</th>\n",
       "      <th>OTHER_PIS</th>\n",
       "      <th>CONGRESSIONAL_DISTRICT</th>\n",
       "      <th>DUNS_NUMBER</th>\n",
       "      <th>ORGANIZATION_NAME</th>\n",
       "      <th>ORGANIZATION_CITY</th>\n",
       "      <th>ORGANIZATION_STATE</th>\n",
       "      <th>ORGANIZATION_ZIP</th>\n",
       "      <th>ORGANIZATION_COUNTRY</th>\n",
       "      <th>BUDGET_START_DATE</th>\n",
       "      <th>BUDGET_END_DATE</th>\n",
       "      <th>CFDA_CODE</th>\n",
       "      <th>FY.y</th>\n",
       "      <th>FY_TOTAL_COST</th>\n",
       "      <th>FY_TOTAL_COST_SUB_PROJECTS</th>\n",
       "    </tr>\n",
       "  </thead>\n",
       "  <tbody>\n",
       "    <tr>\n",
       "      <th>118663</th>\n",
       "      <td>200000</td>\n",
       "      <td>DESCRIPTION (provided by applicant):  Parkinso...</td>\n",
       "      <td>2009</td>\n",
       "      <td>Affect; Age; Age of Onset; age related; aging...</td>\n",
       "      <td>DJ-1 AND ITS INTERACTIONS WITH PARKIN AND ALPH...</td>\n",
       "      <td>HHS</td>\n",
       "      <td>NIH</td>\n",
       "      <td>NIGMS</td>\n",
       "      <td>5F31GM082026-02</td>\n",
       "      <td>1/1/2008</td>\n",
       "      <td>12/31/2011</td>\n",
       "      <td>RAMSEY, CHENERE PIERCE</td>\n",
       "      <td>NaN</td>\n",
       "      <td>02</td>\n",
       "      <td>042250712</td>\n",
       "      <td>UNIVERSITY OF PENNSYLVANIA</td>\n",
       "      <td>PHILADELPHIA</td>\n",
       "      <td>PA</td>\n",
       "      <td>191046205</td>\n",
       "      <td>UNITED STATES</td>\n",
       "      <td>1/1/2009</td>\n",
       "      <td>12/31/2009</td>\n",
       "      <td>93.859</td>\n",
       "      <td>2009</td>\n",
       "      <td>41176.0</td>\n",
       "      <td>NaN</td>\n",
       "    </tr>\n",
       "  </tbody>\n",
       "</table>\n",
       "</div>"
      ],
      "text/plain": [
       "       PROJECT_ID                                           ABSTRACT  FY.x  \\\n",
       "118663     200000  DESCRIPTION (provided by applicant):  Parkinso...  2009   \n",
       "\n",
       "                                            PROJECT_TERMS  \\\n",
       "118663   Affect; Age; Age of Onset; age related; aging...   \n",
       "\n",
       "                                            PROJECT_TITLE DEPARTMENT AGENCY  \\\n",
       "118663  DJ-1 AND ITS INTERACTIONS WITH PARKIN AND ALPH...        HHS    NIH   \n",
       "\n",
       "       IC_CENTER   PROJECT_NUMBER PROJECT_START_DATE PROJECT_END_DATE  \\\n",
       "118663     NIGMS  5F31GM082026-02           1/1/2008       12/31/2011   \n",
       "\n",
       "       CONTACT_PI_PROJECT_LEADER OTHER_PIS CONGRESSIONAL_DISTRICT DUNS_NUMBER  \\\n",
       "118663    RAMSEY, CHENERE PIERCE       NaN                     02   042250712   \n",
       "\n",
       "                 ORGANIZATION_NAME ORGANIZATION_CITY ORGANIZATION_STATE  \\\n",
       "118663  UNIVERSITY OF PENNSYLVANIA      PHILADELPHIA                 PA   \n",
       "\n",
       "       ORGANIZATION_ZIP ORGANIZATION_COUNTRY BUDGET_START_DATE  \\\n",
       "118663        191046205        UNITED STATES          1/1/2009   \n",
       "\n",
       "       BUDGET_END_DATE CFDA_CODE  FY.y  FY_TOTAL_COST  \\\n",
       "118663      12/31/2009    93.859  2009        41176.0   \n",
       "\n",
       "        FY_TOTAL_COST_SUB_PROJECTS  \n",
       "118663                         NaN  "
      ]
     },
     "execution_count": 12,
     "metadata": {},
     "output_type": "execute_result"
    }
   ],
   "source": [
    "df_meta[df_meta[\"PROJECT_ID\"] == '200000']"
   ]
  },
  {
   "cell_type": "markdown",
   "metadata": {},
   "source": [
    "## Project ID's are all the same, dataframes have the same length"
   ]
  },
  {
   "cell_type": "code",
   "execution_count": null,
   "metadata": {},
   "outputs": [],
   "source": []
  },
  {
   "cell_type": "code",
   "execution_count": null,
   "metadata": {},
   "outputs": [],
   "source": []
  },
  {
   "cell_type": "code",
   "execution_count": 13,
   "metadata": {},
   "outputs": [
    {
     "data": {
      "text/plain": [
       "False"
      ]
     },
     "execution_count": 13,
     "metadata": {},
     "output_type": "execute_result"
    }
   ],
   "source": [
    "# are df and df meta the same?\n",
    "\n",
    "df.equals(df_meta)"
   ]
  },
  {
   "cell_type": "code",
   "execution_count": 14,
   "metadata": {},
   "outputs": [
    {
     "data": {
      "text/plain": [
       "1156137"
      ]
     },
     "execution_count": 14,
     "metadata": {},
     "output_type": "execute_result"
    }
   ],
   "source": [
    "sum(df.index == df_meta.index)"
   ]
  },
  {
   "cell_type": "markdown",
   "metadata": {},
   "source": [
    "### Dataframes are not the same but their indices are"
   ]
  },
  {
   "cell_type": "code",
   "execution_count": 15,
   "metadata": {},
   "outputs": [
    {
     "name": "stdout",
     "output_type": "stream",
     "text": [
      "Index(['PROJECT_ID', 'ABSTRACT', 'FY.x', 'PROJECT_TERMS', 'PROJECT_TITLE',\n",
      "       'DEPARTMENT', 'AGENCY', 'IC_CENTER', 'PROJECT_NUMBER',\n",
      "       'PROJECT_START_DATE', 'PROJECT_END_DATE', 'CONTACT_PI_PROJECT_LEADER',\n",
      "       'OTHER_PIS', 'CONGRESSIONAL_DISTRICT', 'DUNS_NUMBER',\n",
      "       'ORGANIZATION_NAME', 'ORGANIZATION_CITY', 'ORGANIZATION_STATE',\n",
      "       'ORGANIZATION_ZIP', 'ORGANIZATION_COUNTRY', 'BUDGET_START_DATE',\n",
      "       'BUDGET_END_DATE', 'CFDA_CODE', 'FY.y', 'FY_TOTAL_COST',\n",
      "       'FY_TOTAL_COST_SUB_PROJECTS'],\n",
      "      dtype='object')\n",
      "Index(['PROJECT_ID', 'ABSTRACT', 'FY.x', 'PROJECT_TERMS', 'PROJECT_TITLE',\n",
      "       'DEPARTMENT', 'AGENCY', 'IC_CENTER', 'PROJECT_NUMBER',\n",
      "       'PROJECT_START_DATE', 'PROJECT_END_DATE', 'CONTACT_PI_PROJECT_LEADER',\n",
      "       'OTHER_PIS', 'CONGRESSIONAL_DISTRICT', 'DUNS_NUMBER',\n",
      "       'ORGANIZATION_NAME', 'ORGANIZATION_CITY', 'ORGANIZATION_STATE',\n",
      "       'ORGANIZATION_ZIP', 'ORGANIZATION_COUNTRY', 'BUDGET_START_DATE',\n",
      "       'BUDGET_END_DATE', 'CFDA_CODE', 'FY.y', 'FY_TOTAL_COST',\n",
      "       'FY_TOTAL_COST_SUB_PROJECTS'],\n",
      "      dtype='object')\n",
      "[ True  True  True  True  True  True  True  True  True  True  True  True\n",
      "  True  True  True  True  True  True  True  True  True  True  True  True\n",
      "  True  True]\n"
     ]
    }
   ],
   "source": [
    "# check column by column\n",
    "\n",
    "print(df.columns)\n",
    "print(df_meta.columns)\n",
    "print(df.columns == df_meta.columns)"
   ]
  },
  {
   "cell_type": "markdown",
   "metadata": {},
   "source": [
    "### dataframes have same columns and in same order"
   ]
  },
  {
   "cell_type": "code",
   "execution_count": 16,
   "metadata": {},
   "outputs": [
    {
     "name": "stdout",
     "output_type": "stream",
     "text": [
      "PROJECT_ID: 0\n",
      "ABSTRACT: 42380\n",
      "FY.x: 35035\n",
      "PROJECT_TERMS: 1156137\n",
      "PROJECT_TITLE: 163\n",
      "DEPARTMENT: 0\n",
      "AGENCY: 0\n",
      "IC_CENTER: 622428\n",
      "PROJECT_NUMBER: 1\n",
      "PROJECT_START_DATE: 154926\n",
      "PROJECT_END_DATE: 146332\n",
      "CONTACT_PI_PROJECT_LEADER: 181\n",
      "OTHER_PIS: 1101813\n",
      "CONGRESSIONAL_DISTRICT: 74510\n",
      "DUNS_NUMBER: 14633\n",
      "ORGANIZATION_NAME: 14575\n",
      "ORGANIZATION_CITY: 5969\n",
      "ORGANIZATION_STATE: 17030\n",
      "ORGANIZATION_ZIP: 49018\n",
      "ORGANIZATION_COUNTRY: 5738\n",
      "BUDGET_START_DATE: 659663\n",
      "BUDGET_END_DATE: 659714\n",
      "CFDA_CODE: 216350\n",
      "FY.y: 29\n",
      "FY_TOTAL_COST: 287698\n",
      "FY_TOTAL_COST_SUB_PROJECTS: 1082117\n"
     ]
    }
   ],
   "source": [
    "# checking each column for equality - NaN's won't report as equal\n",
    "\n",
    "for col in df.columns:\n",
    "    s = sum(df[col] == df_meta[col])\n",
    "    print(f\"{col}: {len(df)-s}\")\n",
    "    "
   ]
  },
  {
   "cell_type": "code",
   "execution_count": null,
   "metadata": {},
   "outputs": [],
   "source": []
  },
  {
   "cell_type": "code",
   "execution_count": null,
   "metadata": {},
   "outputs": [],
   "source": []
  },
  {
   "cell_type": "markdown",
   "metadata": {},
   "source": [
    "### Goal: find number of duplicates - need the same abstract, project title and start date between dataframes to keep the same filtered abstracts\n",
    "\n",
    "### remove null abstracts"
   ]
  },
  {
   "cell_type": "code",
   "execution_count": 44,
   "metadata": {},
   "outputs": [
    {
     "name": "stdout",
     "output_type": "stream",
     "text": [
      "42380 null ABSTRACTs removed\n"
     ]
    }
   ],
   "source": [
    "l1 = len(df)\n",
    "df = df[~df['ABSTRACT'].isnull()]\n",
    "l2 = len(df)\n",
    "\n",
    "print(l1-l2, \"null ABSTRACTs removed\")"
   ]
  },
  {
   "cell_type": "code",
   "execution_count": 45,
   "metadata": {},
   "outputs": [
    {
     "name": "stdout",
     "output_type": "stream",
     "text": [
      "42380 null ABSTRACTs removed\n"
     ]
    }
   ],
   "source": [
    "l1 = len(df_meta)\n",
    "df_meta = df_meta[~df_meta['ABSTRACT'].isnull()]\n",
    "l2 = len(df_meta)\n",
    "\n",
    "print(l1-l2, \"null ABSTRACTs removed\")"
   ]
  },
  {
   "cell_type": "code",
   "execution_count": 46,
   "metadata": {},
   "outputs": [
    {
     "data": {
      "text/plain": [
       "1113757"
      ]
     },
     "execution_count": 46,
     "metadata": {},
     "output_type": "execute_result"
    }
   ],
   "source": [
    "len(df)"
   ]
  },
  {
   "cell_type": "code",
   "execution_count": null,
   "metadata": {},
   "outputs": [],
   "source": []
  },
  {
   "cell_type": "markdown",
   "metadata": {},
   "source": [
    "#### project titles: differences bc df was read in from CSVs, df_meta from XML."
   ]
  },
  {
   "cell_type": "code",
   "execution_count": 47,
   "metadata": {},
   "outputs": [
    {
     "name": "stdout",
     "output_type": "stream",
     "text": [
      "PROJECT_ID\n",
      "ABSTRACT\n",
      "FY.x\n",
      "PROJECT_TERMS\n",
      "PROJECT_TITLE\n",
      "DEPARTMENT\n",
      "AGENCY\n",
      "IC_CENTER\n",
      "PROJECT_NUMBER\n",
      "PROJECT_START_DATE\n",
      "PROJECT_END_DATE\n",
      "CONTACT_PI_PROJECT_LEADER\n",
      "OTHER_PIS\n",
      "CONGRESSIONAL_DISTRICT\n",
      "DUNS_NUMBER\n",
      "ORGANIZATION_NAME\n",
      "ORGANIZATION_CITY\n",
      "ORGANIZATION_STATE\n",
      "ORGANIZATION_ZIP\n",
      "ORGANIZATION_COUNTRY\n",
      "BUDGET_START_DATE\n",
      "BUDGET_END_DATE\n",
      "CFDA_CODE\n",
      "FY.y\n"
     ]
    }
   ],
   "source": [
    "# strip white space from character columns\n",
    "\n",
    "for col in df.columns[0:24]:\n",
    "    print(col)\n",
    "    df[col] = df[col].str.strip()\n",
    "    df_meta[col] = df_meta[col].str.strip()"
   ]
  },
  {
   "cell_type": "code",
   "execution_count": 21,
   "metadata": {},
   "outputs": [
    {
     "name": "stdout",
     "output_type": "stream",
     "text": [
      "PROJECT_ID: 0\n",
      "ABSTRACT: 0\n",
      "FY.x: 0\n",
      "PROJECT_TERMS: 26124\n",
      "PROJECT_TITLE: 57\n",
      "DEPARTMENT: 0\n",
      "AGENCY: 0\n",
      "IC_CENTER: 596842\n",
      "PROJECT_NUMBER: 0\n",
      "PROJECT_START_DATE: 150344\n",
      "PROJECT_END_DATE: 142110\n",
      "CONTACT_PI_PROJECT_LEADER: 76\n",
      "OTHER_PIS: 970531\n",
      "CONGRESSIONAL_DISTRICT: 69297\n",
      "DUNS_NUMBER: 12076\n",
      "ORGANIZATION_NAME: 12565\n",
      "ORGANIZATION_CITY: 5577\n",
      "ORGANIZATION_STATE: 12198\n",
      "ORGANIZATION_ZIP: 46190\n",
      "ORGANIZATION_COUNTRY: 5363\n",
      "BUDGET_START_DATE: 633748\n",
      "BUDGET_END_DATE: 633799\n",
      "CFDA_CODE: 205097\n",
      "FY.y: 29\n",
      "FY_TOTAL_COST: 276557\n",
      "FY_TOTAL_COST_SUB_PROJECTS: 1042708\n"
     ]
    }
   ],
   "source": [
    "for col in df.columns:\n",
    "    s = sum(df[col] == df_meta[col])\n",
    "    print(f\"{col}: {len(df)-s}\")"
   ]
  },
  {
   "cell_type": "markdown",
   "metadata": {},
   "source": [
    "### all abstracts are the same, 57 titles differ"
   ]
  },
  {
   "cell_type": "code",
   "execution_count": 22,
   "metadata": {},
   "outputs": [],
   "source": [
    "same_title = (df['PROJECT_TITLE'].values == df_meta['PROJECT_TITLE'].values)"
   ]
  },
  {
   "cell_type": "code",
   "execution_count": 23,
   "metadata": {},
   "outputs": [
    {
     "data": {
      "text/plain": [
       "(array([ 90756, 203339, 203342, 203363, 203696, 203945, 203974, 208639,\n",
       "        208640, 208641, 208645, 208646, 208650, 309610, 309611, 314275,\n",
       "        314277, 314281, 314282, 314283, 314284, 314285, 314286, 314288,\n",
       "        314290, 314291, 314295, 314297, 314299, 314300, 314304, 314305,\n",
       "        314307, 314311, 314313, 314314, 314315, 314316, 314317, 314319,\n",
       "        314320, 314325, 314326, 314327, 314328, 314332, 314333, 314335,\n",
       "        407433, 407489, 492587, 492604, 492631, 579002, 579018, 579049,\n",
       "        579907]),)"
      ]
     },
     "execution_count": 23,
     "metadata": {},
     "output_type": "execute_result"
    }
   ],
   "source": [
    "np.where(same_title == False)"
   ]
  },
  {
   "cell_type": "code",
   "execution_count": 24,
   "metadata": {},
   "outputs": [
    {
     "data": {
      "text/plain": [
       "'FACILITATING EMPLOYMENT FOR YOUTH WITH AUTISM: A REPLICATION STUDY OF AN INTERNSHIP\\r\\nMODEL TO IDENTIFY EVIDENCE BASED PRACTICES'"
      ]
     },
     "execution_count": 24,
     "metadata": {},
     "output_type": "execute_result"
    }
   ],
   "source": [
    "df[\"PROJECT_TITLE\"].iloc[492587]"
   ]
  },
  {
   "cell_type": "code",
   "execution_count": 25,
   "metadata": {},
   "outputs": [
    {
     "data": {
      "text/plain": [
       "'FACILITATING EMPLOYMENT FOR YOUTH WITH AUTISM: A REPLICATION STUDY OF AN INTERNSHIP\\nMODEL TO IDENTIFY EVIDENCE BASED PRACTICES'"
      ]
     },
     "execution_count": 25,
     "metadata": {},
     "output_type": "execute_result"
    }
   ],
   "source": [
    "df_meta[\"PROJECT_TITLE\"].iloc[492587]"
   ]
  },
  {
   "cell_type": "code",
   "execution_count": 26,
   "metadata": {},
   "outputs": [
    {
     "name": "stdout",
     "output_type": "stream",
     "text": [
      "57\n"
     ]
    }
   ],
   "source": [
    "# \\r character seems to be the problem - whitespace - comes thru on CSV, not XML\n",
    "\n",
    "count = 0\n",
    "\n",
    "for i, title in enumerate(df['PROJECT_TITLE']):\n",
    "    if '\\r' in title:\n",
    "        count = count + 1\n",
    "        \n",
    "print(count)"
   ]
  },
  {
   "cell_type": "code",
   "execution_count": 48,
   "metadata": {},
   "outputs": [],
   "source": [
    "# replace \\r in df titles to match with df_meta\n",
    "\n",
    "df['PROJECT_TITLE'] = df['PROJECT_TITLE'].str.replace('\\r', '')"
   ]
  },
  {
   "cell_type": "code",
   "execution_count": 49,
   "metadata": {},
   "outputs": [
    {
     "name": "stdout",
     "output_type": "stream",
     "text": [
      "PROJECT_ID: 0\n",
      "ABSTRACT: 0\n",
      "FY.x: 0\n",
      "PROJECT_TERMS: 26124\n",
      "PROJECT_TITLE: 0\n",
      "DEPARTMENT: 0\n",
      "AGENCY: 0\n",
      "IC_CENTER: 596842\n",
      "PROJECT_NUMBER: 0\n",
      "PROJECT_START_DATE: 150344\n",
      "PROJECT_END_DATE: 142110\n",
      "CONTACT_PI_PROJECT_LEADER: 76\n",
      "OTHER_PIS: 970531\n",
      "CONGRESSIONAL_DISTRICT: 69297\n",
      "DUNS_NUMBER: 12076\n",
      "ORGANIZATION_NAME: 12565\n",
      "ORGANIZATION_CITY: 5577\n",
      "ORGANIZATION_STATE: 12198\n",
      "ORGANIZATION_ZIP: 46190\n",
      "ORGANIZATION_COUNTRY: 5363\n",
      "BUDGET_START_DATE: 633748\n",
      "BUDGET_END_DATE: 633799\n",
      "CFDA_CODE: 205097\n",
      "FY.y: 29\n",
      "FY_TOTAL_COST: 276557\n",
      "FY_TOTAL_COST_SUB_PROJECTS: 1042708\n"
     ]
    }
   ],
   "source": [
    "for col in df.columns:\n",
    "    s = sum(df[col] == df_meta[col])\n",
    "    print(f\"{col}: {len(df)-s}\")"
   ]
  },
  {
   "cell_type": "markdown",
   "metadata": {},
   "source": [
    "### project titles are the same between the dataframes"
   ]
  },
  {
   "cell_type": "code",
   "execution_count": null,
   "metadata": {},
   "outputs": [],
   "source": []
  },
  {
   "cell_type": "code",
   "execution_count": null,
   "metadata": {},
   "outputs": [],
   "source": []
  },
  {
   "cell_type": "code",
   "execution_count": 29,
   "metadata": {},
   "outputs": [
    {
     "name": "stdout",
     "output_type": "stream",
     "text": [
      "PROJECT_ID\n",
      "ABSTRACT\n",
      "FY.x\n",
      "PROJECT_TERMS\n",
      "PROJECT_TITLE\n",
      "DEPARTMENT\n",
      "AGENCY\n",
      "IC_CENTER\n",
      "PROJECT_NUMBER\n",
      "PROJECT_START_DATE\n",
      "PROJECT_END_DATE\n",
      "CONTACT_PI_PROJECT_LEADER\n",
      "OTHER_PIS\n",
      "CONGRESSIONAL_DISTRICT\n",
      "DUNS_NUMBER\n",
      "ORGANIZATION_NAME\n",
      "ORGANIZATION_CITY\n",
      "ORGANIZATION_STATE\n",
      "ORGANIZATION_ZIP\n",
      "ORGANIZATION_COUNTRY\n",
      "BUDGET_START_DATE\n",
      "BUDGET_END_DATE\n",
      "CFDA_CODE\n",
      "FY.y\n"
     ]
    }
   ],
   "source": [
    "# change NaN's to '' for character columns so we can compare df and df_meta column\n",
    "\n",
    "for col in df.columns[0:24]:\n",
    "    print(col)\n",
    "    df[col] = df[col].fillna(\"\")\n",
    "    df_meta[col] = df_meta[col].fillna(\"\")"
   ]
  },
  {
   "cell_type": "code",
   "execution_count": 30,
   "metadata": {},
   "outputs": [
    {
     "name": "stdout",
     "output_type": "stream",
     "text": [
      "PROJECT_ID: 0\n",
      "ABSTRACT: 0\n",
      "FY.x: 0\n",
      "PROJECT_TERMS: 22582\n",
      "PROJECT_TITLE: 0\n",
      "DEPARTMENT: 0\n",
      "AGENCY: 0\n",
      "IC_CENTER: 404975\n",
      "PROJECT_NUMBER: 0\n",
      "PROJECT_START_DATE: 0\n",
      "PROJECT_END_DATE: 0\n",
      "CONTACT_PI_PROJECT_LEADER: 33\n",
      "OTHER_PIS: 25\n",
      "CONGRESSIONAL_DISTRICT: 29\n",
      "DUNS_NUMBER: 29\n",
      "ORGANIZATION_NAME: 10939\n",
      "ORGANIZATION_CITY: 29\n",
      "ORGANIZATION_STATE: 29\n",
      "ORGANIZATION_ZIP: 29\n",
      "ORGANIZATION_COUNTRY: 29\n",
      "BUDGET_START_DATE: 381125\n",
      "BUDGET_END_DATE: 381112\n",
      "CFDA_CODE: 11757\n",
      "FY.y: 29\n",
      "FY_TOTAL_COST: 276557\n",
      "FY_TOTAL_COST_SUB_PROJECTS: 1042708\n"
     ]
    }
   ],
   "source": [
    "for col in df.columns:\n",
    "    s = sum(df[col] == df_meta[col])\n",
    "    print(f\"{col}: {len(df)-s}\")"
   ]
  },
  {
   "cell_type": "code",
   "execution_count": 34,
   "metadata": {},
   "outputs": [
    {
     "data": {
      "text/plain": [
       "(array([  16224,   50513,   72729,   73366,   73389,   86793,  125878,\n",
       "         153315,  185531,  186137,  215397,  232011,  266954,  291642,\n",
       "         295964,  296496,  299010,  304690,  378951,  455937,  525428,\n",
       "         633407,  937662,  937664, 1031979, 1031981, 1078894, 1080488,\n",
       "        1105393]),)"
      ]
     },
     "execution_count": 34,
     "metadata": {},
     "output_type": "execute_result"
    }
   ],
   "source": [
    "same = (df['ORGANIZATION_COUNTRY'].values == df_meta['ORGANIZATION_COUNTRY'].values)\n",
    "np.where(same == False)"
   ]
  },
  {
   "cell_type": "code",
   "execution_count": 35,
   "metadata": {},
   "outputs": [
    {
     "data": {
      "text/plain": [
       "PROJECT_ID                                                               152724\n",
       "ABSTRACT                      DESCRIPTION (provided by applicant): Cell migr...\n",
       "FY.x                                                                       2008\n",
       "PROJECT_TERMS                 Actinin; Actins; Address; Adhesions; Adhesives...\n",
       "PROJECT_TITLE                 DETERMINANTS OF MYOGENIC AND NEURONAL MEMBRANE...\n",
       "DEPARTMENT                                                                  HHS\n",
       "AGENCY                                                                      NIH\n",
       "IC_CENTER                                                                      \n",
       "PROJECT_NUMBER                                                  5R01GM023244-33\n",
       "PROJECT_START_DATE                                                     1/1/1988\n",
       "PROJECT_END_DATE                                                     12/31/2010\n",
       "CONTACT_PI_PROJECT_LEADER                          HORWITZ, ALAN F. RICK\",\",\"05\n",
       "OTHER_PIS                                                             065391526\n",
       "CONGRESSIONAL_DISTRICT                   UNIVERSITY OF VIRGINIA CHARLOTTESVILLE\n",
       "DUNS_NUMBER                                                     CHARLOTTESVILLE\n",
       "ORGANIZATION_NAME                                                            VA\n",
       "ORGANIZATION_CITY                                                     229044195\n",
       "ORGANIZATION_STATE                                                UNITED STATES\n",
       "ORGANIZATION_ZIP                                                       1/1/2008\n",
       "ORGANIZATION_COUNTRY                                                 12/31/2008\n",
       "BUDGET_START_DATE                                                              \n",
       "BUDGET_END_DATE                                                                \n",
       "CFDA_CODE                                                                553663\n",
       "FY.y                                                                           \n",
       "FY_TOTAL_COST                                                               NaN\n",
       "FY_TOTAL_COST_SUB_PROJECTS                                                  NaN\n",
       "Name: 16282, dtype: object"
      ]
     },
     "execution_count": 35,
     "metadata": {},
     "output_type": "execute_result"
    }
   ],
   "source": [
    "df.iloc[16224]"
   ]
  },
  {
   "cell_type": "code",
   "execution_count": 37,
   "metadata": {},
   "outputs": [
    {
     "data": {
      "text/plain": [
       "PROJECT_ID                                                               152724\n",
       "ABSTRACT                      DESCRIPTION (provided by applicant): Cell migr...\n",
       "FY.x                                                                       2008\n",
       "PROJECT_TERMS                 Actinin; Actins; Address; Adhesions; Adhesives...\n",
       "PROJECT_TITLE                 DETERMINANTS OF MYOGENIC AND NEURONAL MEMBRANE...\n",
       "DEPARTMENT                                                                  HHS\n",
       "AGENCY                                                                      NIH\n",
       "IC_CENTER                                                                 NIGMS\n",
       "PROJECT_NUMBER                                                  5R01GM023244-33\n",
       "PROJECT_START_DATE                                                     1/1/1988\n",
       "PROJECT_END_DATE                                                     12/31/2010\n",
       "CONTACT_PI_PROJECT_LEADER                               HORWITZ, ALAN F. \"RICK\"\n",
       "OTHER_PIS                                                                      \n",
       "CONGRESSIONAL_DISTRICT                                                       05\n",
       "DUNS_NUMBER                                                           065391526\n",
       "ORGANIZATION_NAME                        UNIVERSITY OF VIRGINIA CHARLOTTESVILLE\n",
       "ORGANIZATION_CITY                                               CHARLOTTESVILLE\n",
       "ORGANIZATION_STATE                                                           VA\n",
       "ORGANIZATION_ZIP                                                      229044195\n",
       "ORGANIZATION_COUNTRY                                              UNITED STATES\n",
       "BUDGET_START_DATE                                                      1/1/2008\n",
       "BUDGET_END_DATE                                                      12/31/2008\n",
       "CFDA_CODE                                                                93.859\n",
       "FY.y                                                                       2008\n",
       "FY_TOTAL_COST                                                            553663\n",
       "FY_TOTAL_COST_SUB_PROJECTS                                                  NaN\n",
       "Name: 16282, dtype: object"
      ]
     },
     "execution_count": 37,
     "metadata": {},
     "output_type": "execute_result"
    }
   ],
   "source": [
    "df_meta.iloc[16224]"
   ]
  },
  {
   "cell_type": "markdown",
   "metadata": {},
   "source": [
    "### df_meta has correct data with parsing issues fixed from names in \"\""
   ]
  },
  {
   "cell_type": "code",
   "execution_count": null,
   "metadata": {},
   "outputs": [],
   "source": []
  },
  {
   "cell_type": "code",
   "execution_count": null,
   "metadata": {},
   "outputs": [],
   "source": []
  },
  {
   "cell_type": "markdown",
   "metadata": {},
   "source": [
    "### Project Start Dates - need to check for how they were filled in since these determine duplicates, Project Start Dates and FY.x the same between dataframes\n",
    "\n",
    "df_meta has more budget start dates bc of issues with how the CSV df was read in (missing data in first n entries caused those columns to be read in as missing)"
   ]
  },
  {
   "cell_type": "code",
   "execution_count": 31,
   "metadata": {},
   "outputs": [
    {
     "data": {
      "text/plain": [
       "(array([  13984,   13985,   13986, ..., 1078894, 1080488, 1105393]),)"
      ]
     },
     "execution_count": 31,
     "metadata": {},
     "output_type": "execute_result"
    }
   ],
   "source": [
    "same = (df['BUDGET_START_DATE'].values == df_meta['BUDGET_START_DATE'].values)\n",
    "np.where(same == False)"
   ]
  },
  {
   "cell_type": "code",
   "execution_count": 32,
   "metadata": {},
   "outputs": [
    {
     "data": {
      "text/plain": [
       "PROJECT_ID                                                               150680\n",
       "ABSTRACT                      DESCRIPTION (provided by applicant):  Gastropr...\n",
       "FY.x                                                                       2008\n",
       "PROJECT_TERMS                 Address; Adverse effects; Adverse event; Affec...\n",
       "PROJECT_TITLE                 NEW DIAGNOSIS AND TREATMENT APPROACHES FOR PAT...\n",
       "DEPARTMENT                                                                  HHS\n",
       "AGENCY                                                                      NIH\n",
       "IC_CENTER                                                                      \n",
       "PROJECT_NUMBER                                                  1U01DK074035-01\n",
       "PROJECT_START_DATE                                                    9/30/2008\n",
       "PROJECT_END_DATE                                                      4/30/2009\n",
       "CONTACT_PI_PROJECT_LEADER                                   MCCALLUM, RICHARD W\n",
       "OTHER_PIS                                                                      \n",
       "CONGRESSIONAL_DISTRICT                                                       03\n",
       "DUNS_NUMBER                                                           016060860\n",
       "ORGANIZATION_NAME                           UNIVERSITY OF KANSAS MEDICAL CENTER\n",
       "ORGANIZATION_CITY                                                   KANSAS CITY\n",
       "ORGANIZATION_STATE                                                           KS\n",
       "ORGANIZATION_ZIP                                                      661608500\n",
       "ORGANIZATION_COUNTRY                                              UNITED STATES\n",
       "BUDGET_START_DATE                                                              \n",
       "BUDGET_END_DATE                                                                \n",
       "CFDA_CODE                                                                93.848\n",
       "FY.y                                                                       2008\n",
       "FY_TOTAL_COST                                                              2775\n",
       "FY_TOTAL_COST_SUB_PROJECTS                                                  NaN\n",
       "Name: 14032, dtype: object"
      ]
     },
     "execution_count": 32,
     "metadata": {},
     "output_type": "execute_result"
    }
   ],
   "source": [
    "df.iloc[13984]"
   ]
  },
  {
   "cell_type": "code",
   "execution_count": 33,
   "metadata": {},
   "outputs": [
    {
     "data": {
      "text/plain": [
       "PROJECT_ID                                                               150680\n",
       "ABSTRACT                      DESCRIPTION (provided by applicant):  Gastropr...\n",
       "FY.x                                                                       2008\n",
       "PROJECT_TERMS                 Address; Adverse effects; Adverse event; Affec...\n",
       "PROJECT_TITLE                 NEW DIAGNOSIS AND TREATMENT APPROACHES FOR PAT...\n",
       "DEPARTMENT                                                                  HHS\n",
       "AGENCY                                                                      NIH\n",
       "IC_CENTER                                                                 NIDDK\n",
       "PROJECT_NUMBER                                                  1U01DK074035-01\n",
       "PROJECT_START_DATE                                                    9/30/2008\n",
       "PROJECT_END_DATE                                                      4/30/2009\n",
       "CONTACT_PI_PROJECT_LEADER                                   MCCALLUM, RICHARD W\n",
       "OTHER_PIS                                                                      \n",
       "CONGRESSIONAL_DISTRICT                                                       03\n",
       "DUNS_NUMBER                                                           016060860\n",
       "ORGANIZATION_NAME                           UNIVERSITY OF KANSAS MEDICAL CENTER\n",
       "ORGANIZATION_CITY                                                   KANSAS CITY\n",
       "ORGANIZATION_STATE                                                           KS\n",
       "ORGANIZATION_ZIP                                                      661608500\n",
       "ORGANIZATION_COUNTRY                                              UNITED STATES\n",
       "BUDGET_START_DATE                                                     9/30/2008\n",
       "BUDGET_END_DATE                                                       4/30/2009\n",
       "CFDA_CODE                                                                93.848\n",
       "FY.y                                                                       2008\n",
       "FY_TOTAL_COST                                                              2775\n",
       "FY_TOTAL_COST_SUB_PROJECTS                                                  NaN\n",
       "Name: 14032, dtype: object"
      ]
     },
     "execution_count": 33,
     "metadata": {},
     "output_type": "execute_result"
    }
   ],
   "source": [
    "df_meta.iloc[13984]"
   ]
  },
  {
   "cell_type": "code",
   "execution_count": null,
   "metadata": {},
   "outputs": [],
   "source": []
  },
  {
   "cell_type": "code",
   "execution_count": null,
   "metadata": {},
   "outputs": [],
   "source": []
  },
  {
   "cell_type": "markdown",
   "metadata": {},
   "source": [
    "### Fill in missing start dates in each dataframe and compare\n",
    "\n",
    "Previously filled in missing start dates to compare data frames...rereading data, removing null abstracts and skipping to here"
   ]
  },
  {
   "cell_type": "code",
   "execution_count": 50,
   "metadata": {},
   "outputs": [
    {
     "name": "stdout",
     "output_type": "stream",
     "text": [
      "150344\n",
      "13.498815271194704\n"
     ]
    }
   ],
   "source": [
    "print(sum(df[\"PROJECT_START_DATE\"].isna()))\n",
    "print(100*sum(df[\"PROJECT_START_DATE\"].isna())/len(df))"
   ]
  },
  {
   "cell_type": "code",
   "execution_count": 51,
   "metadata": {},
   "outputs": [
    {
     "name": "stdout",
     "output_type": "stream",
     "text": [
      "150344\n",
      "13.498815271194704\n"
     ]
    }
   ],
   "source": [
    "print(sum(df_meta[\"PROJECT_START_DATE\"].isna()))\n",
    "print(100*sum(df_meta[\"PROJECT_START_DATE\"].isna())/len(df_meta))"
   ]
  },
  {
   "cell_type": "code",
   "execution_count": null,
   "metadata": {},
   "outputs": [],
   "source": []
  },
  {
   "cell_type": "code",
   "execution_count": 52,
   "metadata": {},
   "outputs": [],
   "source": [
    "# Fill missing values in Project Start Date with Budget Start Date\n",
    "df['PROJECT_START_DATE'] = df['PROJECT_START_DATE'].fillna(df['BUDGET_START_DATE'])\n",
    "df_meta['PROJECT_START_DATE'] = df_meta['PROJECT_START_DATE'].fillna(df_meta['BUDGET_START_DATE'])"
   ]
  },
  {
   "cell_type": "code",
   "execution_count": 53,
   "metadata": {},
   "outputs": [
    {
     "name": "stdout",
     "output_type": "stream",
     "text": [
      "80080\n",
      "7.190078266623689\n"
     ]
    }
   ],
   "source": [
    "print(sum(df[\"PROJECT_START_DATE\"].isna()))\n",
    "print(100*sum(df[\"PROJECT_START_DATE\"].isna())/len(df))"
   ]
  },
  {
   "cell_type": "code",
   "execution_count": 54,
   "metadata": {},
   "outputs": [
    {
     "name": "stdout",
     "output_type": "stream",
     "text": [
      "41813\n",
      "3.7542300519772267\n"
     ]
    }
   ],
   "source": [
    "print(sum(df_meta[\"PROJECT_START_DATE\"].isna()))\n",
    "print(100*sum(df_meta[\"PROJECT_START_DATE\"].isna())/len(df_meta))"
   ]
  },
  {
   "cell_type": "code",
   "execution_count": 60,
   "metadata": {},
   "outputs": [
    {
     "data": {
      "text/plain": [
       "9.744585219217477"
      ]
     },
     "execution_count": 60,
     "metadata": {},
     "output_type": "execute_result"
    }
   ],
   "source": [
    "100*(150344-41813)/len(df)"
   ]
  },
  {
   "cell_type": "code",
   "execution_count": null,
   "metadata": {},
   "outputs": [],
   "source": []
  },
  {
   "cell_type": "markdown",
   "metadata": {},
   "source": [
    "### differences in how many filled in with budget start date"
   ]
  },
  {
   "cell_type": "code",
   "execution_count": 55,
   "metadata": {},
   "outputs": [],
   "source": [
    "#If START date is still missing, fill start date with FY\n",
    "df['PROJECT_START_DATE'] = df['PROJECT_START_DATE'].fillna(df['FY.x'])\n",
    "df_meta['PROJECT_START_DATE'] = df_meta['PROJECT_START_DATE'].fillna(df_meta['FY.x'])"
   ]
  },
  {
   "cell_type": "code",
   "execution_count": 56,
   "metadata": {},
   "outputs": [
    {
     "name": "stdout",
     "output_type": "stream",
     "text": [
      "0\n",
      "0.0\n"
     ]
    }
   ],
   "source": [
    "print(sum(df[\"PROJECT_START_DATE\"].isna()))\n",
    "print(100*sum(df[\"PROJECT_START_DATE\"].isna())/len(df))"
   ]
  },
  {
   "cell_type": "code",
   "execution_count": 57,
   "metadata": {},
   "outputs": [
    {
     "name": "stdout",
     "output_type": "stream",
     "text": [
      "0\n",
      "0.0\n"
     ]
    }
   ],
   "source": [
    "print(sum(df_meta[\"PROJECT_START_DATE\"].isna()))\n",
    "print(100*sum(df_meta[\"PROJECT_START_DATE\"].isna())/len(df_meta))"
   ]
  },
  {
   "cell_type": "code",
   "execution_count": 61,
   "metadata": {},
   "outputs": [
    {
     "data": {
      "text/plain": [
       "3.7542300519772267"
      ]
     },
     "execution_count": 61,
     "metadata": {},
     "output_type": "execute_result"
    }
   ],
   "source": [
    "100*(41813-0)/len(df)"
   ]
  },
  {
   "cell_type": "code",
   "execution_count": 58,
   "metadata": {},
   "outputs": [
    {
     "data": {
      "text/plain": [
       "1113757"
      ]
     },
     "execution_count": 58,
     "metadata": {},
     "output_type": "execute_result"
    }
   ],
   "source": [
    "len(df)"
   ]
  },
  {
   "cell_type": "code",
   "execution_count": null,
   "metadata": {},
   "outputs": [],
   "source": []
  },
  {
   "cell_type": "code",
   "execution_count": 63,
   "metadata": {},
   "outputs": [
    {
     "data": {
      "text/plain": [
       "38267"
      ]
     },
     "execution_count": 63,
     "metadata": {},
     "output_type": "execute_result"
    }
   ],
   "source": [
    "# number of projects in df and df_meta with a different start date\n",
    "\n",
    "len(df) - sum(df['PROJECT_START_DATE'] == df_meta['PROJECT_START_DATE'])"
   ]
  },
  {
   "cell_type": "code",
   "execution_count": null,
   "metadata": {},
   "outputs": [],
   "source": []
  },
  {
   "cell_type": "markdown",
   "metadata": {},
   "source": [
    "### Number of Duplicates in dataset"
   ]
  },
  {
   "cell_type": "code",
   "execution_count": 65,
   "metadata": {},
   "outputs": [],
   "source": [
    "# save NON-duplicated rows and the LAST occurrance of duplicated rows\n",
    "df_dedup = df[~df.duplicated(subset=['ABSTRACT',  'PROJECT_TITLE', 'PROJECT_START_DATE'], keep='last')]"
   ]
  },
  {
   "cell_type": "code",
   "execution_count": 66,
   "metadata": {},
   "outputs": [
    {
     "name": "stdout",
     "output_type": "stream",
     "text": [
      "Original: 1113757\n",
      "Deduplicated: 699672\n",
      "Number of Duplicates: 414085\n"
     ]
    }
   ],
   "source": [
    "print(f\"Original: {len(df)}\")\n",
    "print(f\"Deduplicated: {len(df_dedup)}\")\n",
    "print(f\"Number of Duplicates: {len(df) - len(df_dedup)}\")"
   ]
  },
  {
   "cell_type": "code",
   "execution_count": null,
   "metadata": {},
   "outputs": [],
   "source": []
  },
  {
   "cell_type": "code",
   "execution_count": 67,
   "metadata": {},
   "outputs": [],
   "source": [
    "# save NON-duplicated rows and the LAST occurrance of duplicated rows\n",
    "df_meta_dedup = df_meta[~df_meta.duplicated(subset=['ABSTRACT',  'PROJECT_TITLE', 'PROJECT_START_DATE'], keep='last')]"
   ]
  },
  {
   "cell_type": "code",
   "execution_count": 68,
   "metadata": {},
   "outputs": [
    {
     "name": "stdout",
     "output_type": "stream",
     "text": [
      "Original: 1113757\n",
      "Deduplicated: 699652\n",
      "Number of Duplicates: 414105\n"
     ]
    }
   ],
   "source": [
    "print(f\"Original: {len(df_meta)}\")\n",
    "print(f\"Deduplicated: {len(df_meta_dedup)}\")\n",
    "print(f\"Number of Duplicates: {len(df_meta) - len(df_meta_dedup)}\")"
   ]
  },
  {
   "cell_type": "code",
   "execution_count": null,
   "metadata": {},
   "outputs": [],
   "source": []
  },
  {
   "cell_type": "code",
   "execution_count": null,
   "metadata": {},
   "outputs": [],
   "source": []
  },
  {
   "cell_type": "markdown",
   "metadata": {},
   "source": [
    "### Difference between dataframes"
   ]
  },
  {
   "cell_type": "code",
   "execution_count": 72,
   "metadata": {},
   "outputs": [],
   "source": [
    "# find different elements in each set\n",
    "\n",
    "A = set(df_dedup[\"PROJECT_ID\"])\n",
    "B = set(df_meta_dedup[\"PROJECT_ID\"])"
   ]
  },
  {
   "cell_type": "code",
   "execution_count": 73,
   "metadata": {},
   "outputs": [
    {
     "name": "stdout",
     "output_type": "stream",
     "text": [
      "{'451642', '454030', '448329', '73965', '448332', '448871', '421304', '485259', '451645', '448382', '456322', '448869', '493323', '497247', '73759', '450729', '453614', '521180', '478601', '448868', '456444', '531808', '448864', '448867', '438471', '449696', '480840', '52941', '52937', '488268', '451649', '447131', '448865', '517345', '450909', '481661', '52940', '495296', '451653', '447135', '66291', '481461', '477264', '536301', '449694', '450727', '491957', '513417', '529483', '453617', '403610', '520136', '448872', '532143', '481217', '499682', '505984', '52936', '448333', '453619', '477091', '52933', '477076', '450730', '445586', '514311', '489081', '506329', '450731', '479281', '39022', '456447', '478881', '447134', '451644', '490453', '501241', '448252', '449697', '311114', '516385', '73964', '234933', '66289', '52934', '479435', '490645', '513414', '511913', '66288', '447128', '453616', '451647', '483600', '515249', '449693', '73749', '449698', '497932', '55254', '451648', '449164', '66295', '18981', '534526', '530274', '448870', '401064', '73756', '521449', '456443', '486329', '31021', '491071', '450726', '448689', '448345', '503641', '448247', '447136', '535184', '448251', '530256', '52939', '453615', '447130', '448248', '448873', '484878', '454845', '524051', '448687', '454847', '499764', '52932', '505828', '526986', '456445', '514603', '482331', '499891', '456446', '401065', '448688', '533294', '518070', '52935', '509188', '479358', '513539', '513571', '484133', '492068', '66290', '52938', '52942', '448253', '234928', '447127', '451646', '451652', '448249', '401057', '481868', '66292', '451651', '447129', '450910', '451643', '450911', '449695', '453618', '483326', '66293', '248199', '504486', '456442', '52943', '59733', '448383', '499101', '66294', '503777', '506524', '506896', '533293', '448254', '453613', '450163', '448344', '450728', '401058', '71287'}\n",
      "{'379953', '438088', '225366', '314374', '303667', '420567', '314368', '314378', '499263', '303685', '454534', '296124', '223217', '454538', '379595', '502945', '314369', '314371', '232205', '323218', '296060', '442386', '438085', '479428', '455710', '487288', '314361', '210152', '314373', '303664', '438087', '454537', '323219', '479442', '214508', '303691', '512240', '303674', '319079', '287952', '314364', '234031', '455712', '314376', '314359', '425960', '314358', '303675', '323221', '303677', '296059', '314375', '314362', '303681', '438092', '303689', '294528', '485940', '454536', '234028', '223216', '222186', '211742', '503661', '438083', '303665', '454535', '303672', '299778', '288484', '220546', '485252', '303666', '299599', '483606', '314360', '247869', '211741', '426750', '487835', '314372', '294526', '494507', '448834', '379957', '438089', '314381', '294522', '499900', '303678', '280390', '494509', '258473', '303671', '500640', '314366', '438090', '509734', '207378', '303676', '311639', '294525', '314367', '287955', '499763', '455713', '290677', '507476', '438124', '303680', '294531', '478660', '287956', '379956', '294527', '319080', '455709', '290676', '303679', '234029', '303663', '219014', '314380', '478741', '294529', '304411', '500457', '241781', '212843', '477083', '303686', '234030', '323220', '524617', '505275', '314370', '319081', '303687', '287954', '294530', '314377', '520075', '303673', '311072', '303683', '379954', '399186', '520945', '303684', '379955', '303668', '438086', '303682', '334346', '482344', '314379', '502830', '438091', '420566', '481306', '455711', '319078', '314356', '442381', '287953', '258474', '303690', '234027', '314363', '314365', '323222', '303669', '215402'}\n"
     ]
    }
   ],
   "source": [
    "print(A.difference(B))\n",
    "print(B.difference(A))"
   ]
  },
  {
   "cell_type": "code",
   "execution_count": 89,
   "metadata": {},
   "outputs": [
    {
     "data": {
      "text/html": [
       "<div>\n",
       "<style scoped>\n",
       "    .dataframe tbody tr th:only-of-type {\n",
       "        vertical-align: middle;\n",
       "    }\n",
       "\n",
       "    .dataframe tbody tr th {\n",
       "        vertical-align: top;\n",
       "    }\n",
       "\n",
       "    .dataframe thead th {\n",
       "        text-align: right;\n",
       "    }\n",
       "</style>\n",
       "<table border=\"1\" class=\"dataframe\">\n",
       "  <thead>\n",
       "    <tr style=\"text-align: right;\">\n",
       "      <th></th>\n",
       "      <th>PROJECT_ID</th>\n",
       "      <th>ABSTRACT</th>\n",
       "      <th>FY.x</th>\n",
       "      <th>PROJECT_TERMS</th>\n",
       "      <th>PROJECT_TITLE</th>\n",
       "      <th>DEPARTMENT</th>\n",
       "      <th>AGENCY</th>\n",
       "      <th>IC_CENTER</th>\n",
       "      <th>PROJECT_NUMBER</th>\n",
       "      <th>PROJECT_START_DATE</th>\n",
       "      <th>PROJECT_END_DATE</th>\n",
       "      <th>CONTACT_PI_PROJECT_LEADER</th>\n",
       "      <th>OTHER_PIS</th>\n",
       "      <th>CONGRESSIONAL_DISTRICT</th>\n",
       "      <th>DUNS_NUMBER</th>\n",
       "      <th>ORGANIZATION_NAME</th>\n",
       "      <th>ORGANIZATION_CITY</th>\n",
       "      <th>ORGANIZATION_STATE</th>\n",
       "      <th>ORGANIZATION_ZIP</th>\n",
       "      <th>ORGANIZATION_COUNTRY</th>\n",
       "      <th>BUDGET_START_DATE</th>\n",
       "      <th>BUDGET_END_DATE</th>\n",
       "      <th>CFDA_CODE</th>\n",
       "      <th>FY.y</th>\n",
       "      <th>FY_TOTAL_COST</th>\n",
       "      <th>FY_TOTAL_COST_SUB_PROJECTS</th>\n",
       "    </tr>\n",
       "  </thead>\n",
       "  <tbody>\n",
       "    <tr>\n",
       "      <th>394176</th>\n",
       "      <td>451642</td>\n",
       "      <td>The Data Compilation and Bioinformatics Shared...</td>\n",
       "      <td>2011</td>\n",
       "      <td>Archives; behavior measurement; Biochemical; B...</td>\n",
       "      <td>DATA COMPILATION</td>\n",
       "      <td>HHS</td>\n",
       "      <td>NIH</td>\n",
       "      <td>NaN</td>\n",
       "      <td>5P30CA023100-27 (9001)</td>\n",
       "      <td>2011</td>\n",
       "      <td>4/30/2014</td>\n",
       "      <td>CARSON, DENNIS</td>\n",
       "      <td>NaN</td>\n",
       "      <td>52</td>\n",
       "      <td>804355790</td>\n",
       "      <td>UNIVERSITY OF CALIFORNIA SAN DIEGO</td>\n",
       "      <td>LA JOLLA</td>\n",
       "      <td>CA</td>\n",
       "      <td>920930934</td>\n",
       "      <td>UNITED STATES</td>\n",
       "      <td>NaN</td>\n",
       "      <td>NaN</td>\n",
       "      <td>NaN</td>\n",
       "      <td>2011</td>\n",
       "      <td>NaN</td>\n",
       "      <td>NaN</td>\n",
       "    </tr>\n",
       "  </tbody>\n",
       "</table>\n",
       "</div>"
      ],
      "text/plain": [
       "       PROJECT_ID                                           ABSTRACT  FY.x  \\\n",
       "394176     451642  The Data Compilation and Bioinformatics Shared...  2011   \n",
       "\n",
       "                                            PROJECT_TERMS     PROJECT_TITLE  \\\n",
       "394176  Archives; behavior measurement; Biochemical; B...  DATA COMPILATION   \n",
       "\n",
       "       DEPARTMENT AGENCY IC_CENTER          PROJECT_NUMBER PROJECT_START_DATE  \\\n",
       "394176        HHS    NIH       NaN  5P30CA023100-27 (9001)               2011   \n",
       "\n",
       "       PROJECT_END_DATE CONTACT_PI_PROJECT_LEADER OTHER_PIS  \\\n",
       "394176        4/30/2014            CARSON, DENNIS       NaN   \n",
       "\n",
       "       CONGRESSIONAL_DISTRICT DUNS_NUMBER                   ORGANIZATION_NAME  \\\n",
       "394176                     52   804355790  UNIVERSITY OF CALIFORNIA SAN DIEGO   \n",
       "\n",
       "       ORGANIZATION_CITY ORGANIZATION_STATE ORGANIZATION_ZIP  \\\n",
       "394176          LA JOLLA                 CA        920930934   \n",
       "\n",
       "       ORGANIZATION_COUNTRY BUDGET_START_DATE BUDGET_END_DATE CFDA_CODE  FY.y  \\\n",
       "394176        UNITED STATES               NaN             NaN       NaN  2011   \n",
       "\n",
       "        FY_TOTAL_COST  FY_TOTAL_COST_SUB_PROJECTS  \n",
       "394176            NaN                         NaN  "
      ]
     },
     "execution_count": 89,
     "metadata": {},
     "output_type": "execute_result"
    }
   ],
   "source": [
    "df[df['PROJECT_ID'] == '451642']"
   ]
  },
  {
   "cell_type": "code",
   "execution_count": 90,
   "metadata": {},
   "outputs": [
    {
     "data": {
      "text/html": [
       "<div>\n",
       "<style scoped>\n",
       "    .dataframe tbody tr th:only-of-type {\n",
       "        vertical-align: middle;\n",
       "    }\n",
       "\n",
       "    .dataframe tbody tr th {\n",
       "        vertical-align: top;\n",
       "    }\n",
       "\n",
       "    .dataframe thead th {\n",
       "        text-align: right;\n",
       "    }\n",
       "</style>\n",
       "<table border=\"1\" class=\"dataframe\">\n",
       "  <thead>\n",
       "    <tr style=\"text-align: right;\">\n",
       "      <th></th>\n",
       "      <th>PROJECT_ID</th>\n",
       "      <th>ABSTRACT</th>\n",
       "      <th>FY.x</th>\n",
       "      <th>PROJECT_TERMS</th>\n",
       "      <th>PROJECT_TITLE</th>\n",
       "      <th>DEPARTMENT</th>\n",
       "      <th>AGENCY</th>\n",
       "      <th>IC_CENTER</th>\n",
       "      <th>PROJECT_NUMBER</th>\n",
       "      <th>PROJECT_START_DATE</th>\n",
       "      <th>PROJECT_END_DATE</th>\n",
       "      <th>CONTACT_PI_PROJECT_LEADER</th>\n",
       "      <th>OTHER_PIS</th>\n",
       "      <th>CONGRESSIONAL_DISTRICT</th>\n",
       "      <th>DUNS_NUMBER</th>\n",
       "      <th>ORGANIZATION_NAME</th>\n",
       "      <th>ORGANIZATION_CITY</th>\n",
       "      <th>ORGANIZATION_STATE</th>\n",
       "      <th>ORGANIZATION_ZIP</th>\n",
       "      <th>ORGANIZATION_COUNTRY</th>\n",
       "      <th>BUDGET_START_DATE</th>\n",
       "      <th>BUDGET_END_DATE</th>\n",
       "      <th>CFDA_CODE</th>\n",
       "      <th>FY.y</th>\n",
       "      <th>FY_TOTAL_COST</th>\n",
       "      <th>FY_TOTAL_COST_SUB_PROJECTS</th>\n",
       "    </tr>\n",
       "  </thead>\n",
       "  <tbody>\n",
       "    <tr>\n",
       "      <th>394176</th>\n",
       "      <td>451642</td>\n",
       "      <td>The Data Compilation and Bioinformatics Shared...</td>\n",
       "      <td>2011</td>\n",
       "      <td>Archives; behavior measurement; Biochemical; B...</td>\n",
       "      <td>DATA COMPILATION</td>\n",
       "      <td>HHS</td>\n",
       "      <td>NIH</td>\n",
       "      <td>NCI</td>\n",
       "      <td>5P30CA023100-27 (9001)</td>\n",
       "      <td>5/1/2011</td>\n",
       "      <td>4/30/2014</td>\n",
       "      <td>CARSON, DENNIS</td>\n",
       "      <td>NaN</td>\n",
       "      <td>52</td>\n",
       "      <td>804355790</td>\n",
       "      <td>UNIVERSITY OF CALIFORNIA SAN DIEGO</td>\n",
       "      <td>LA JOLLA</td>\n",
       "      <td>CA</td>\n",
       "      <td>920930934</td>\n",
       "      <td>UNITED STATES</td>\n",
       "      <td>5/1/2011</td>\n",
       "      <td>4/30/2013</td>\n",
       "      <td>NaN</td>\n",
       "      <td>2011</td>\n",
       "      <td>NaN</td>\n",
       "      <td>380131.0</td>\n",
       "    </tr>\n",
       "  </tbody>\n",
       "</table>\n",
       "</div>"
      ],
      "text/plain": [
       "       PROJECT_ID                                           ABSTRACT  FY.x  \\\n",
       "394176     451642  The Data Compilation and Bioinformatics Shared...  2011   \n",
       "\n",
       "                                            PROJECT_TERMS     PROJECT_TITLE  \\\n",
       "394176  Archives; behavior measurement; Biochemical; B...  DATA COMPILATION   \n",
       "\n",
       "       DEPARTMENT AGENCY IC_CENTER          PROJECT_NUMBER PROJECT_START_DATE  \\\n",
       "394176        HHS    NIH       NCI  5P30CA023100-27 (9001)           5/1/2011   \n",
       "\n",
       "       PROJECT_END_DATE CONTACT_PI_PROJECT_LEADER OTHER_PIS  \\\n",
       "394176        4/30/2014            CARSON, DENNIS       NaN   \n",
       "\n",
       "       CONGRESSIONAL_DISTRICT DUNS_NUMBER                   ORGANIZATION_NAME  \\\n",
       "394176                     52   804355790  UNIVERSITY OF CALIFORNIA SAN DIEGO   \n",
       "\n",
       "       ORGANIZATION_CITY ORGANIZATION_STATE ORGANIZATION_ZIP  \\\n",
       "394176          LA JOLLA                 CA        920930934   \n",
       "\n",
       "       ORGANIZATION_COUNTRY BUDGET_START_DATE BUDGET_END_DATE CFDA_CODE  FY.y  \\\n",
       "394176        UNITED STATES          5/1/2011       4/30/2013       NaN  2011   \n",
       "\n",
       "        FY_TOTAL_COST  FY_TOTAL_COST_SUB_PROJECTS  \n",
       "394176            NaN                    380131.0  "
      ]
     },
     "execution_count": 90,
     "metadata": {},
     "output_type": "execute_result"
    }
   ],
   "source": [
    "df_meta[df_meta['PROJECT_ID'] == '451642']"
   ]
  },
  {
   "cell_type": "code",
   "execution_count": 91,
   "metadata": {},
   "outputs": [
    {
     "data": {
      "text/html": [
       "<div>\n",
       "<style scoped>\n",
       "    .dataframe tbody tr th:only-of-type {\n",
       "        vertical-align: middle;\n",
       "    }\n",
       "\n",
       "    .dataframe tbody tr th {\n",
       "        vertical-align: top;\n",
       "    }\n",
       "\n",
       "    .dataframe thead th {\n",
       "        text-align: right;\n",
       "    }\n",
       "</style>\n",
       "<table border=\"1\" class=\"dataframe\">\n",
       "  <thead>\n",
       "    <tr style=\"text-align: right;\">\n",
       "      <th></th>\n",
       "      <th>PROJECT_ID</th>\n",
       "      <th>ABSTRACT</th>\n",
       "      <th>FY.x</th>\n",
       "      <th>PROJECT_TERMS</th>\n",
       "      <th>PROJECT_TITLE</th>\n",
       "      <th>DEPARTMENT</th>\n",
       "      <th>AGENCY</th>\n",
       "      <th>IC_CENTER</th>\n",
       "      <th>PROJECT_NUMBER</th>\n",
       "      <th>PROJECT_START_DATE</th>\n",
       "      <th>PROJECT_END_DATE</th>\n",
       "      <th>CONTACT_PI_PROJECT_LEADER</th>\n",
       "      <th>OTHER_PIS</th>\n",
       "      <th>CONGRESSIONAL_DISTRICT</th>\n",
       "      <th>DUNS_NUMBER</th>\n",
       "      <th>ORGANIZATION_NAME</th>\n",
       "      <th>ORGANIZATION_CITY</th>\n",
       "      <th>ORGANIZATION_STATE</th>\n",
       "      <th>ORGANIZATION_ZIP</th>\n",
       "      <th>ORGANIZATION_COUNTRY</th>\n",
       "      <th>BUDGET_START_DATE</th>\n",
       "      <th>BUDGET_END_DATE</th>\n",
       "      <th>CFDA_CODE</th>\n",
       "      <th>FY.y</th>\n",
       "      <th>FY_TOTAL_COST</th>\n",
       "      <th>FY_TOTAL_COST_SUB_PROJECTS</th>\n",
       "    </tr>\n",
       "  </thead>\n",
       "  <tbody>\n",
       "    <tr>\n",
       "      <th>74218</th>\n",
       "      <td>246024</td>\n",
       "      <td>Data Compilation and BioinformaticsThe Data Co...</td>\n",
       "      <td>2008</td>\n",
       "      <td>Address; Archives; Area; behavior measurement;...</td>\n",
       "      <td>DATA COMPILATION</td>\n",
       "      <td>HHS</td>\n",
       "      <td>NIH</td>\n",
       "      <td>NaN</td>\n",
       "      <td>5P30CA023100-24 (9001)</td>\n",
       "      <td>2008</td>\n",
       "      <td>NaN</td>\n",
       "      <td>CARSON, DENNIS</td>\n",
       "      <td>NaN</td>\n",
       "      <td>52</td>\n",
       "      <td>804355790</td>\n",
       "      <td>UNIVERSITY OF CALIFORNIA SAN DIEGO</td>\n",
       "      <td>LA JOLLA</td>\n",
       "      <td>CA</td>\n",
       "      <td>920930934</td>\n",
       "      <td>UNITED STATES</td>\n",
       "      <td>NaN</td>\n",
       "      <td>NaN</td>\n",
       "      <td>NaN</td>\n",
       "      <td>2008</td>\n",
       "      <td>NaN</td>\n",
       "      <td>NaN</td>\n",
       "    </tr>\n",
       "    <tr>\n",
       "      <th>189986</th>\n",
       "      <td>339732</td>\n",
       "      <td>Data Compilation and BioinformaticsThe Data Co...</td>\n",
       "      <td>2009</td>\n",
       "      <td>Address; Archives; Area; behavior measurement;...</td>\n",
       "      <td>DATA COMPILATION</td>\n",
       "      <td>HHS</td>\n",
       "      <td>NIH</td>\n",
       "      <td>NaN</td>\n",
       "      <td>5P30CA023100-25 (9001)</td>\n",
       "      <td>2009</td>\n",
       "      <td>NaN</td>\n",
       "      <td>CARSON, DENNIS</td>\n",
       "      <td>NaN</td>\n",
       "      <td>52</td>\n",
       "      <td>804355790</td>\n",
       "      <td>UNIVERSITY OF CALIFORNIA SAN DIEGO</td>\n",
       "      <td>LA JOLLA</td>\n",
       "      <td>CA</td>\n",
       "      <td>920930934</td>\n",
       "      <td>UNITED STATES</td>\n",
       "      <td>NaN</td>\n",
       "      <td>NaN</td>\n",
       "      <td>NaN</td>\n",
       "      <td>2009</td>\n",
       "      <td>NaN</td>\n",
       "      <td>NaN</td>\n",
       "    </tr>\n",
       "    <tr>\n",
       "      <th>295898</th>\n",
       "      <td>402481</td>\n",
       "      <td>The Data Compilation and Bioinformatics Shared...</td>\n",
       "      <td>2010</td>\n",
       "      <td>Archives; behavior measurement; Biochemical; B...</td>\n",
       "      <td>DATA COMPILATION</td>\n",
       "      <td>HHS</td>\n",
       "      <td>NIH</td>\n",
       "      <td>NaN</td>\n",
       "      <td>5P30CA023100-26 (9001)</td>\n",
       "      <td>2010</td>\n",
       "      <td>NaN</td>\n",
       "      <td>CARSON, DENNIS</td>\n",
       "      <td>NaN</td>\n",
       "      <td>52</td>\n",
       "      <td>804355790</td>\n",
       "      <td>UNIVERSITY OF CALIFORNIA SAN DIEGO</td>\n",
       "      <td>LA JOLLA</td>\n",
       "      <td>CA</td>\n",
       "      <td>920930934</td>\n",
       "      <td>UNITED STATES</td>\n",
       "      <td>NaN</td>\n",
       "      <td>NaN</td>\n",
       "      <td>NaN</td>\n",
       "      <td>2010</td>\n",
       "      <td>NaN</td>\n",
       "      <td>NaN</td>\n",
       "    </tr>\n",
       "    <tr>\n",
       "      <th>394176</th>\n",
       "      <td>451642</td>\n",
       "      <td>The Data Compilation and Bioinformatics Shared...</td>\n",
       "      <td>2011</td>\n",
       "      <td>Archives; behavior measurement; Biochemical; B...</td>\n",
       "      <td>DATA COMPILATION</td>\n",
       "      <td>HHS</td>\n",
       "      <td>NIH</td>\n",
       "      <td>NaN</td>\n",
       "      <td>5P30CA023100-27 (9001)</td>\n",
       "      <td>2011</td>\n",
       "      <td>4/30/2014</td>\n",
       "      <td>CARSON, DENNIS</td>\n",
       "      <td>NaN</td>\n",
       "      <td>52</td>\n",
       "      <td>804355790</td>\n",
       "      <td>UNIVERSITY OF CALIFORNIA SAN DIEGO</td>\n",
       "      <td>LA JOLLA</td>\n",
       "      <td>CA</td>\n",
       "      <td>920930934</td>\n",
       "      <td>UNITED STATES</td>\n",
       "      <td>NaN</td>\n",
       "      <td>NaN</td>\n",
       "      <td>NaN</td>\n",
       "      <td>2011</td>\n",
       "      <td>NaN</td>\n",
       "      <td>NaN</td>\n",
       "    </tr>\n",
       "    <tr>\n",
       "      <th>470983</th>\n",
       "      <td>66299</td>\n",
       "      <td>The Data Compilation and Bioinformatics Shared...</td>\n",
       "      <td>2012</td>\n",
       "      <td>Archives; behavior measurement; Biochemical; B...</td>\n",
       "      <td>DATA COMPILATION</td>\n",
       "      <td>HHS</td>\n",
       "      <td>NIH</td>\n",
       "      <td>NCI</td>\n",
       "      <td>3P30CA023100-27S7 (9001)</td>\n",
       "      <td>5/1/2011</td>\n",
       "      <td>4/30/2014</td>\n",
       "      <td>CARSON, DENNIS</td>\n",
       "      <td>NaN</td>\n",
       "      <td>52</td>\n",
       "      <td>804355790</td>\n",
       "      <td>UNIVERSITY OF CALIFORNIA SAN DIEGO</td>\n",
       "      <td>LA JOLLA</td>\n",
       "      <td>CA</td>\n",
       "      <td>920930934</td>\n",
       "      <td>UNITED STATES</td>\n",
       "      <td>5/1/2011</td>\n",
       "      <td>4/30/2013</td>\n",
       "      <td>NaN</td>\n",
       "      <td>2012</td>\n",
       "      <td>NaN</td>\n",
       "      <td>200699.0</td>\n",
       "    </tr>\n",
       "    <tr>\n",
       "      <th>470985</th>\n",
       "      <td>66301</td>\n",
       "      <td>The Data Compilation and Bioinformatics Shared...</td>\n",
       "      <td>2012</td>\n",
       "      <td>Archives; behavior measurement; Biochemical; B...</td>\n",
       "      <td>DATA COMPILATION</td>\n",
       "      <td>HHS</td>\n",
       "      <td>NIH</td>\n",
       "      <td>NCI</td>\n",
       "      <td>3P30CA023100-27S8 (9001)</td>\n",
       "      <td>5/1/2011</td>\n",
       "      <td>4/30/2014</td>\n",
       "      <td>CARSON, DENNIS</td>\n",
       "      <td>NaN</td>\n",
       "      <td>52</td>\n",
       "      <td>804355790</td>\n",
       "      <td>UNIVERSITY OF CALIFORNIA SAN DIEGO</td>\n",
       "      <td>LA JOLLA</td>\n",
       "      <td>CA</td>\n",
       "      <td>920930934</td>\n",
       "      <td>UNITED STATES</td>\n",
       "      <td>5/1/2011</td>\n",
       "      <td>4/30/2013</td>\n",
       "      <td>NaN</td>\n",
       "      <td>2012</td>\n",
       "      <td>NaN</td>\n",
       "      <td>725058.0</td>\n",
       "    </tr>\n",
       "  </tbody>\n",
       "</table>\n",
       "</div>"
      ],
      "text/plain": [
       "       PROJECT_ID                                           ABSTRACT  FY.x  \\\n",
       "74218      246024  Data Compilation and BioinformaticsThe Data Co...  2008   \n",
       "189986     339732  Data Compilation and BioinformaticsThe Data Co...  2009   \n",
       "295898     402481  The Data Compilation and Bioinformatics Shared...  2010   \n",
       "394176     451642  The Data Compilation and Bioinformatics Shared...  2011   \n",
       "470983      66299  The Data Compilation and Bioinformatics Shared...  2012   \n",
       "470985      66301  The Data Compilation and Bioinformatics Shared...  2012   \n",
       "\n",
       "                                            PROJECT_TERMS     PROJECT_TITLE  \\\n",
       "74218   Address; Archives; Area; behavior measurement;...  DATA COMPILATION   \n",
       "189986  Address; Archives; Area; behavior measurement;...  DATA COMPILATION   \n",
       "295898  Archives; behavior measurement; Biochemical; B...  DATA COMPILATION   \n",
       "394176  Archives; behavior measurement; Biochemical; B...  DATA COMPILATION   \n",
       "470983  Archives; behavior measurement; Biochemical; B...  DATA COMPILATION   \n",
       "470985  Archives; behavior measurement; Biochemical; B...  DATA COMPILATION   \n",
       "\n",
       "       DEPARTMENT AGENCY IC_CENTER            PROJECT_NUMBER  \\\n",
       "74218         HHS    NIH       NaN    5P30CA023100-24 (9001)   \n",
       "189986        HHS    NIH       NaN    5P30CA023100-25 (9001)   \n",
       "295898        HHS    NIH       NaN    5P30CA023100-26 (9001)   \n",
       "394176        HHS    NIH       NaN    5P30CA023100-27 (9001)   \n",
       "470983        HHS    NIH       NCI  3P30CA023100-27S7 (9001)   \n",
       "470985        HHS    NIH       NCI  3P30CA023100-27S8 (9001)   \n",
       "\n",
       "       PROJECT_START_DATE PROJECT_END_DATE CONTACT_PI_PROJECT_LEADER  \\\n",
       "74218                2008              NaN            CARSON, DENNIS   \n",
       "189986               2009              NaN            CARSON, DENNIS   \n",
       "295898               2010              NaN            CARSON, DENNIS   \n",
       "394176               2011        4/30/2014            CARSON, DENNIS   \n",
       "470983           5/1/2011        4/30/2014            CARSON, DENNIS   \n",
       "470985           5/1/2011        4/30/2014            CARSON, DENNIS   \n",
       "\n",
       "       OTHER_PIS CONGRESSIONAL_DISTRICT DUNS_NUMBER  \\\n",
       "74218        NaN                     52   804355790   \n",
       "189986       NaN                     52   804355790   \n",
       "295898       NaN                     52   804355790   \n",
       "394176       NaN                     52   804355790   \n",
       "470983       NaN                     52   804355790   \n",
       "470985       NaN                     52   804355790   \n",
       "\n",
       "                         ORGANIZATION_NAME ORGANIZATION_CITY  \\\n",
       "74218   UNIVERSITY OF CALIFORNIA SAN DIEGO          LA JOLLA   \n",
       "189986  UNIVERSITY OF CALIFORNIA SAN DIEGO          LA JOLLA   \n",
       "295898  UNIVERSITY OF CALIFORNIA SAN DIEGO          LA JOLLA   \n",
       "394176  UNIVERSITY OF CALIFORNIA SAN DIEGO          LA JOLLA   \n",
       "470983  UNIVERSITY OF CALIFORNIA SAN DIEGO          LA JOLLA   \n",
       "470985  UNIVERSITY OF CALIFORNIA SAN DIEGO          LA JOLLA   \n",
       "\n",
       "       ORGANIZATION_STATE ORGANIZATION_ZIP ORGANIZATION_COUNTRY  \\\n",
       "74218                  CA        920930934        UNITED STATES   \n",
       "189986                 CA        920930934        UNITED STATES   \n",
       "295898                 CA        920930934        UNITED STATES   \n",
       "394176                 CA        920930934        UNITED STATES   \n",
       "470983                 CA        920930934        UNITED STATES   \n",
       "470985                 CA        920930934        UNITED STATES   \n",
       "\n",
       "       BUDGET_START_DATE BUDGET_END_DATE CFDA_CODE  FY.y  FY_TOTAL_COST  \\\n",
       "74218                NaN             NaN       NaN  2008            NaN   \n",
       "189986               NaN             NaN       NaN  2009            NaN   \n",
       "295898               NaN             NaN       NaN  2010            NaN   \n",
       "394176               NaN             NaN       NaN  2011            NaN   \n",
       "470983          5/1/2011       4/30/2013       NaN  2012            NaN   \n",
       "470985          5/1/2011       4/30/2013       NaN  2012            NaN   \n",
       "\n",
       "        FY_TOTAL_COST_SUB_PROJECTS  \n",
       "74218                          NaN  \n",
       "189986                         NaN  \n",
       "295898                         NaN  \n",
       "394176                         NaN  \n",
       "470983                    200699.0  \n",
       "470985                    725058.0  "
      ]
     },
     "execution_count": 91,
     "metadata": {},
     "output_type": "execute_result"
    }
   ],
   "source": [
    "df[df['PROJECT_TITLE'] == \"DATA COMPILATION\"]"
   ]
  },
  {
   "cell_type": "code",
   "execution_count": 92,
   "metadata": {},
   "outputs": [
    {
     "data": {
      "text/html": [
       "<div>\n",
       "<style scoped>\n",
       "    .dataframe tbody tr th:only-of-type {\n",
       "        vertical-align: middle;\n",
       "    }\n",
       "\n",
       "    .dataframe tbody tr th {\n",
       "        vertical-align: top;\n",
       "    }\n",
       "\n",
       "    .dataframe thead th {\n",
       "        text-align: right;\n",
       "    }\n",
       "</style>\n",
       "<table border=\"1\" class=\"dataframe\">\n",
       "  <thead>\n",
       "    <tr style=\"text-align: right;\">\n",
       "      <th></th>\n",
       "      <th>PROJECT_ID</th>\n",
       "      <th>ABSTRACT</th>\n",
       "      <th>FY.x</th>\n",
       "      <th>PROJECT_TERMS</th>\n",
       "      <th>PROJECT_TITLE</th>\n",
       "      <th>DEPARTMENT</th>\n",
       "      <th>AGENCY</th>\n",
       "      <th>IC_CENTER</th>\n",
       "      <th>PROJECT_NUMBER</th>\n",
       "      <th>PROJECT_START_DATE</th>\n",
       "      <th>PROJECT_END_DATE</th>\n",
       "      <th>CONTACT_PI_PROJECT_LEADER</th>\n",
       "      <th>OTHER_PIS</th>\n",
       "      <th>CONGRESSIONAL_DISTRICT</th>\n",
       "      <th>DUNS_NUMBER</th>\n",
       "      <th>ORGANIZATION_NAME</th>\n",
       "      <th>ORGANIZATION_CITY</th>\n",
       "      <th>ORGANIZATION_STATE</th>\n",
       "      <th>ORGANIZATION_ZIP</th>\n",
       "      <th>ORGANIZATION_COUNTRY</th>\n",
       "      <th>BUDGET_START_DATE</th>\n",
       "      <th>BUDGET_END_DATE</th>\n",
       "      <th>CFDA_CODE</th>\n",
       "      <th>FY.y</th>\n",
       "      <th>FY_TOTAL_COST</th>\n",
       "      <th>FY_TOTAL_COST_SUB_PROJECTS</th>\n",
       "    </tr>\n",
       "  </thead>\n",
       "  <tbody>\n",
       "    <tr>\n",
       "      <th>74218</th>\n",
       "      <td>246024</td>\n",
       "      <td>Data Compilation and BioinformaticsThe Data Co...</td>\n",
       "      <td>2008</td>\n",
       "      <td>Address; Archives; Area; behavior measurement;...</td>\n",
       "      <td>DATA COMPILATION</td>\n",
       "      <td>HHS</td>\n",
       "      <td>NIH</td>\n",
       "      <td>NaN</td>\n",
       "      <td>5P30CA023100-24 (9001)</td>\n",
       "      <td>2008</td>\n",
       "      <td>NaN</td>\n",
       "      <td>CARSON, DENNIS</td>\n",
       "      <td>NaN</td>\n",
       "      <td>52</td>\n",
       "      <td>804355790</td>\n",
       "      <td>UNIVERSITY OF CALIFORNIA SAN DIEGO</td>\n",
       "      <td>LA JOLLA</td>\n",
       "      <td>CA</td>\n",
       "      <td>920930934</td>\n",
       "      <td>UNITED STATES</td>\n",
       "      <td>NaN</td>\n",
       "      <td>NaN</td>\n",
       "      <td>NaN</td>\n",
       "      <td>2008</td>\n",
       "      <td>NaN</td>\n",
       "      <td>NaN</td>\n",
       "    </tr>\n",
       "    <tr>\n",
       "      <th>189986</th>\n",
       "      <td>339732</td>\n",
       "      <td>Data Compilation and BioinformaticsThe Data Co...</td>\n",
       "      <td>2009</td>\n",
       "      <td>Address; Archives; Area; behavior measurement;...</td>\n",
       "      <td>DATA COMPILATION</td>\n",
       "      <td>HHS</td>\n",
       "      <td>NIH</td>\n",
       "      <td>NaN</td>\n",
       "      <td>5P30CA023100-25 (9001)</td>\n",
       "      <td>2009</td>\n",
       "      <td>NaN</td>\n",
       "      <td>CARSON, DENNIS</td>\n",
       "      <td>NaN</td>\n",
       "      <td>52</td>\n",
       "      <td>804355790</td>\n",
       "      <td>UNIVERSITY OF CALIFORNIA SAN DIEGO</td>\n",
       "      <td>LA JOLLA</td>\n",
       "      <td>CA</td>\n",
       "      <td>920930934</td>\n",
       "      <td>UNITED STATES</td>\n",
       "      <td>NaN</td>\n",
       "      <td>NaN</td>\n",
       "      <td>NaN</td>\n",
       "      <td>2009</td>\n",
       "      <td>NaN</td>\n",
       "      <td>NaN</td>\n",
       "    </tr>\n",
       "    <tr>\n",
       "      <th>295898</th>\n",
       "      <td>402481</td>\n",
       "      <td>The Data Compilation and Bioinformatics Shared...</td>\n",
       "      <td>2010</td>\n",
       "      <td>Archives; behavior measurement; Biochemical; B...</td>\n",
       "      <td>DATA COMPILATION</td>\n",
       "      <td>HHS</td>\n",
       "      <td>NIH</td>\n",
       "      <td>NaN</td>\n",
       "      <td>5P30CA023100-26 (9001)</td>\n",
       "      <td>2010</td>\n",
       "      <td>NaN</td>\n",
       "      <td>CARSON, DENNIS</td>\n",
       "      <td>NaN</td>\n",
       "      <td>52</td>\n",
       "      <td>804355790</td>\n",
       "      <td>UNIVERSITY OF CALIFORNIA SAN DIEGO</td>\n",
       "      <td>LA JOLLA</td>\n",
       "      <td>CA</td>\n",
       "      <td>920930934</td>\n",
       "      <td>UNITED STATES</td>\n",
       "      <td>NaN</td>\n",
       "      <td>NaN</td>\n",
       "      <td>NaN</td>\n",
       "      <td>2010</td>\n",
       "      <td>NaN</td>\n",
       "      <td>NaN</td>\n",
       "    </tr>\n",
       "    <tr>\n",
       "      <th>394176</th>\n",
       "      <td>451642</td>\n",
       "      <td>The Data Compilation and Bioinformatics Shared...</td>\n",
       "      <td>2011</td>\n",
       "      <td>Archives; behavior measurement; Biochemical; B...</td>\n",
       "      <td>DATA COMPILATION</td>\n",
       "      <td>HHS</td>\n",
       "      <td>NIH</td>\n",
       "      <td>NaN</td>\n",
       "      <td>5P30CA023100-27 (9001)</td>\n",
       "      <td>2011</td>\n",
       "      <td>4/30/2014</td>\n",
       "      <td>CARSON, DENNIS</td>\n",
       "      <td>NaN</td>\n",
       "      <td>52</td>\n",
       "      <td>804355790</td>\n",
       "      <td>UNIVERSITY OF CALIFORNIA SAN DIEGO</td>\n",
       "      <td>LA JOLLA</td>\n",
       "      <td>CA</td>\n",
       "      <td>920930934</td>\n",
       "      <td>UNITED STATES</td>\n",
       "      <td>NaN</td>\n",
       "      <td>NaN</td>\n",
       "      <td>NaN</td>\n",
       "      <td>2011</td>\n",
       "      <td>NaN</td>\n",
       "      <td>NaN</td>\n",
       "    </tr>\n",
       "    <tr>\n",
       "      <th>470985</th>\n",
       "      <td>66301</td>\n",
       "      <td>The Data Compilation and Bioinformatics Shared...</td>\n",
       "      <td>2012</td>\n",
       "      <td>Archives; behavior measurement; Biochemical; B...</td>\n",
       "      <td>DATA COMPILATION</td>\n",
       "      <td>HHS</td>\n",
       "      <td>NIH</td>\n",
       "      <td>NCI</td>\n",
       "      <td>3P30CA023100-27S8 (9001)</td>\n",
       "      <td>5/1/2011</td>\n",
       "      <td>4/30/2014</td>\n",
       "      <td>CARSON, DENNIS</td>\n",
       "      <td>NaN</td>\n",
       "      <td>52</td>\n",
       "      <td>804355790</td>\n",
       "      <td>UNIVERSITY OF CALIFORNIA SAN DIEGO</td>\n",
       "      <td>LA JOLLA</td>\n",
       "      <td>CA</td>\n",
       "      <td>920930934</td>\n",
       "      <td>UNITED STATES</td>\n",
       "      <td>5/1/2011</td>\n",
       "      <td>4/30/2013</td>\n",
       "      <td>NaN</td>\n",
       "      <td>2012</td>\n",
       "      <td>NaN</td>\n",
       "      <td>725058.0</td>\n",
       "    </tr>\n",
       "  </tbody>\n",
       "</table>\n",
       "</div>"
      ],
      "text/plain": [
       "       PROJECT_ID                                           ABSTRACT  FY.x  \\\n",
       "74218      246024  Data Compilation and BioinformaticsThe Data Co...  2008   \n",
       "189986     339732  Data Compilation and BioinformaticsThe Data Co...  2009   \n",
       "295898     402481  The Data Compilation and Bioinformatics Shared...  2010   \n",
       "394176     451642  The Data Compilation and Bioinformatics Shared...  2011   \n",
       "470985      66301  The Data Compilation and Bioinformatics Shared...  2012   \n",
       "\n",
       "                                            PROJECT_TERMS     PROJECT_TITLE  \\\n",
       "74218   Address; Archives; Area; behavior measurement;...  DATA COMPILATION   \n",
       "189986  Address; Archives; Area; behavior measurement;...  DATA COMPILATION   \n",
       "295898  Archives; behavior measurement; Biochemical; B...  DATA COMPILATION   \n",
       "394176  Archives; behavior measurement; Biochemical; B...  DATA COMPILATION   \n",
       "470985  Archives; behavior measurement; Biochemical; B...  DATA COMPILATION   \n",
       "\n",
       "       DEPARTMENT AGENCY IC_CENTER            PROJECT_NUMBER  \\\n",
       "74218         HHS    NIH       NaN    5P30CA023100-24 (9001)   \n",
       "189986        HHS    NIH       NaN    5P30CA023100-25 (9001)   \n",
       "295898        HHS    NIH       NaN    5P30CA023100-26 (9001)   \n",
       "394176        HHS    NIH       NaN    5P30CA023100-27 (9001)   \n",
       "470985        HHS    NIH       NCI  3P30CA023100-27S8 (9001)   \n",
       "\n",
       "       PROJECT_START_DATE PROJECT_END_DATE CONTACT_PI_PROJECT_LEADER  \\\n",
       "74218                2008              NaN            CARSON, DENNIS   \n",
       "189986               2009              NaN            CARSON, DENNIS   \n",
       "295898               2010              NaN            CARSON, DENNIS   \n",
       "394176               2011        4/30/2014            CARSON, DENNIS   \n",
       "470985           5/1/2011        4/30/2014            CARSON, DENNIS   \n",
       "\n",
       "       OTHER_PIS CONGRESSIONAL_DISTRICT DUNS_NUMBER  \\\n",
       "74218        NaN                     52   804355790   \n",
       "189986       NaN                     52   804355790   \n",
       "295898       NaN                     52   804355790   \n",
       "394176       NaN                     52   804355790   \n",
       "470985       NaN                     52   804355790   \n",
       "\n",
       "                         ORGANIZATION_NAME ORGANIZATION_CITY  \\\n",
       "74218   UNIVERSITY OF CALIFORNIA SAN DIEGO          LA JOLLA   \n",
       "189986  UNIVERSITY OF CALIFORNIA SAN DIEGO          LA JOLLA   \n",
       "295898  UNIVERSITY OF CALIFORNIA SAN DIEGO          LA JOLLA   \n",
       "394176  UNIVERSITY OF CALIFORNIA SAN DIEGO          LA JOLLA   \n",
       "470985  UNIVERSITY OF CALIFORNIA SAN DIEGO          LA JOLLA   \n",
       "\n",
       "       ORGANIZATION_STATE ORGANIZATION_ZIP ORGANIZATION_COUNTRY  \\\n",
       "74218                  CA        920930934        UNITED STATES   \n",
       "189986                 CA        920930934        UNITED STATES   \n",
       "295898                 CA        920930934        UNITED STATES   \n",
       "394176                 CA        920930934        UNITED STATES   \n",
       "470985                 CA        920930934        UNITED STATES   \n",
       "\n",
       "       BUDGET_START_DATE BUDGET_END_DATE CFDA_CODE  FY.y  FY_TOTAL_COST  \\\n",
       "74218                NaN             NaN       NaN  2008            NaN   \n",
       "189986               NaN             NaN       NaN  2009            NaN   \n",
       "295898               NaN             NaN       NaN  2010            NaN   \n",
       "394176               NaN             NaN       NaN  2011            NaN   \n",
       "470985          5/1/2011       4/30/2013       NaN  2012            NaN   \n",
       "\n",
       "        FY_TOTAL_COST_SUB_PROJECTS  \n",
       "74218                          NaN  \n",
       "189986                         NaN  \n",
       "295898                         NaN  \n",
       "394176                         NaN  \n",
       "470985                    725058.0  "
      ]
     },
     "execution_count": 92,
     "metadata": {},
     "output_type": "execute_result"
    }
   ],
   "source": [
    "df_dedup[df_dedup['PROJECT_TITLE'] == \"DATA COMPILATION\"]"
   ]
  },
  {
   "cell_type": "code",
   "execution_count": 93,
   "metadata": {},
   "outputs": [
    {
     "data": {
      "text/html": [
       "<div>\n",
       "<style scoped>\n",
       "    .dataframe tbody tr th:only-of-type {\n",
       "        vertical-align: middle;\n",
       "    }\n",
       "\n",
       "    .dataframe tbody tr th {\n",
       "        vertical-align: top;\n",
       "    }\n",
       "\n",
       "    .dataframe thead th {\n",
       "        text-align: right;\n",
       "    }\n",
       "</style>\n",
       "<table border=\"1\" class=\"dataframe\">\n",
       "  <thead>\n",
       "    <tr style=\"text-align: right;\">\n",
       "      <th></th>\n",
       "      <th>PROJECT_ID</th>\n",
       "      <th>ABSTRACT</th>\n",
       "      <th>FY.x</th>\n",
       "      <th>PROJECT_TERMS</th>\n",
       "      <th>PROJECT_TITLE</th>\n",
       "      <th>DEPARTMENT</th>\n",
       "      <th>AGENCY</th>\n",
       "      <th>IC_CENTER</th>\n",
       "      <th>PROJECT_NUMBER</th>\n",
       "      <th>PROJECT_START_DATE</th>\n",
       "      <th>PROJECT_END_DATE</th>\n",
       "      <th>CONTACT_PI_PROJECT_LEADER</th>\n",
       "      <th>OTHER_PIS</th>\n",
       "      <th>CONGRESSIONAL_DISTRICT</th>\n",
       "      <th>DUNS_NUMBER</th>\n",
       "      <th>ORGANIZATION_NAME</th>\n",
       "      <th>ORGANIZATION_CITY</th>\n",
       "      <th>ORGANIZATION_STATE</th>\n",
       "      <th>ORGANIZATION_ZIP</th>\n",
       "      <th>ORGANIZATION_COUNTRY</th>\n",
       "      <th>BUDGET_START_DATE</th>\n",
       "      <th>BUDGET_END_DATE</th>\n",
       "      <th>CFDA_CODE</th>\n",
       "      <th>FY.y</th>\n",
       "      <th>FY_TOTAL_COST</th>\n",
       "      <th>FY_TOTAL_COST_SUB_PROJECTS</th>\n",
       "    </tr>\n",
       "  </thead>\n",
       "  <tbody>\n",
       "    <tr>\n",
       "      <th>74218</th>\n",
       "      <td>246024</td>\n",
       "      <td>Data Compilation and BioinformaticsThe Data Co...</td>\n",
       "      <td>2008</td>\n",
       "      <td>Address; Archives; Area; behavior measurement;...</td>\n",
       "      <td>DATA COMPILATION</td>\n",
       "      <td>HHS</td>\n",
       "      <td>NIH</td>\n",
       "      <td>NCI</td>\n",
       "      <td>5P30CA023100-24 (9001)</td>\n",
       "      <td>5/1/2008</td>\n",
       "      <td>NaN</td>\n",
       "      <td>CARSON, DENNIS</td>\n",
       "      <td>NaN</td>\n",
       "      <td>52</td>\n",
       "      <td>804355790</td>\n",
       "      <td>UNIVERSITY OF CALIFORNIA SAN DIEGO</td>\n",
       "      <td>LA JOLLA</td>\n",
       "      <td>CA</td>\n",
       "      <td>920930934</td>\n",
       "      <td>UNITED STATES</td>\n",
       "      <td>5/1/2008</td>\n",
       "      <td>4/30/2009</td>\n",
       "      <td>NaN</td>\n",
       "      <td>2008</td>\n",
       "      <td>NaN</td>\n",
       "      <td>379725.0</td>\n",
       "    </tr>\n",
       "    <tr>\n",
       "      <th>189986</th>\n",
       "      <td>339732</td>\n",
       "      <td>Data Compilation and BioinformaticsThe Data Co...</td>\n",
       "      <td>2009</td>\n",
       "      <td>Address; Archives; Area; behavior measurement;...</td>\n",
       "      <td>DATA COMPILATION</td>\n",
       "      <td>HHS</td>\n",
       "      <td>NIH</td>\n",
       "      <td>NCI</td>\n",
       "      <td>5P30CA023100-25 (9001)</td>\n",
       "      <td>5/1/2009</td>\n",
       "      <td>NaN</td>\n",
       "      <td>CARSON, DENNIS</td>\n",
       "      <td>NaN</td>\n",
       "      <td>52</td>\n",
       "      <td>804355790</td>\n",
       "      <td>UNIVERSITY OF CALIFORNIA SAN DIEGO</td>\n",
       "      <td>LA JOLLA</td>\n",
       "      <td>CA</td>\n",
       "      <td>920930934</td>\n",
       "      <td>UNITED STATES</td>\n",
       "      <td>5/1/2009</td>\n",
       "      <td>4/30/2010</td>\n",
       "      <td>NaN</td>\n",
       "      <td>2009</td>\n",
       "      <td>NaN</td>\n",
       "      <td>412545.0</td>\n",
       "    </tr>\n",
       "    <tr>\n",
       "      <th>295898</th>\n",
       "      <td>402481</td>\n",
       "      <td>The Data Compilation and Bioinformatics Shared...</td>\n",
       "      <td>2010</td>\n",
       "      <td>Archives; behavior measurement; Biochemical; B...</td>\n",
       "      <td>DATA COMPILATION</td>\n",
       "      <td>HHS</td>\n",
       "      <td>NIH</td>\n",
       "      <td>NCI</td>\n",
       "      <td>5P30CA023100-26 (9001)</td>\n",
       "      <td>5/1/2010</td>\n",
       "      <td>NaN</td>\n",
       "      <td>CARSON, DENNIS</td>\n",
       "      <td>NaN</td>\n",
       "      <td>52</td>\n",
       "      <td>804355790</td>\n",
       "      <td>UNIVERSITY OF CALIFORNIA SAN DIEGO</td>\n",
       "      <td>LA JOLLA</td>\n",
       "      <td>CA</td>\n",
       "      <td>920930934</td>\n",
       "      <td>UNITED STATES</td>\n",
       "      <td>5/1/2010</td>\n",
       "      <td>4/30/2011</td>\n",
       "      <td>NaN</td>\n",
       "      <td>2010</td>\n",
       "      <td>NaN</td>\n",
       "      <td>410937.0</td>\n",
       "    </tr>\n",
       "    <tr>\n",
       "      <th>394176</th>\n",
       "      <td>451642</td>\n",
       "      <td>The Data Compilation and Bioinformatics Shared...</td>\n",
       "      <td>2011</td>\n",
       "      <td>Archives; behavior measurement; Biochemical; B...</td>\n",
       "      <td>DATA COMPILATION</td>\n",
       "      <td>HHS</td>\n",
       "      <td>NIH</td>\n",
       "      <td>NCI</td>\n",
       "      <td>5P30CA023100-27 (9001)</td>\n",
       "      <td>5/1/2011</td>\n",
       "      <td>4/30/2014</td>\n",
       "      <td>CARSON, DENNIS</td>\n",
       "      <td>NaN</td>\n",
       "      <td>52</td>\n",
       "      <td>804355790</td>\n",
       "      <td>UNIVERSITY OF CALIFORNIA SAN DIEGO</td>\n",
       "      <td>LA JOLLA</td>\n",
       "      <td>CA</td>\n",
       "      <td>920930934</td>\n",
       "      <td>UNITED STATES</td>\n",
       "      <td>5/1/2011</td>\n",
       "      <td>4/30/2013</td>\n",
       "      <td>NaN</td>\n",
       "      <td>2011</td>\n",
       "      <td>NaN</td>\n",
       "      <td>380131.0</td>\n",
       "    </tr>\n",
       "    <tr>\n",
       "      <th>470983</th>\n",
       "      <td>66299</td>\n",
       "      <td>The Data Compilation and Bioinformatics Shared...</td>\n",
       "      <td>2012</td>\n",
       "      <td>Archives; behavior measurement; Biochemical; B...</td>\n",
       "      <td>DATA COMPILATION</td>\n",
       "      <td>HHS</td>\n",
       "      <td>NIH</td>\n",
       "      <td>NCI</td>\n",
       "      <td>3P30CA023100-27S7 (9001)</td>\n",
       "      <td>5/1/2011</td>\n",
       "      <td>4/30/2014</td>\n",
       "      <td>CARSON, DENNIS</td>\n",
       "      <td>NaN</td>\n",
       "      <td>52</td>\n",
       "      <td>804355790</td>\n",
       "      <td>UNIVERSITY OF CALIFORNIA SAN DIEGO</td>\n",
       "      <td>LA JOLLA</td>\n",
       "      <td>CA</td>\n",
       "      <td>920930934</td>\n",
       "      <td>UNITED STATES</td>\n",
       "      <td>5/1/2011</td>\n",
       "      <td>4/30/2013</td>\n",
       "      <td>NaN</td>\n",
       "      <td>2012</td>\n",
       "      <td>NaN</td>\n",
       "      <td>200699.0</td>\n",
       "    </tr>\n",
       "    <tr>\n",
       "      <th>470985</th>\n",
       "      <td>66301</td>\n",
       "      <td>The Data Compilation and Bioinformatics Shared...</td>\n",
       "      <td>2012</td>\n",
       "      <td>Archives; behavior measurement; Biochemical; B...</td>\n",
       "      <td>DATA COMPILATION</td>\n",
       "      <td>HHS</td>\n",
       "      <td>NIH</td>\n",
       "      <td>NCI</td>\n",
       "      <td>3P30CA023100-27S8 (9001)</td>\n",
       "      <td>5/1/2011</td>\n",
       "      <td>4/30/2014</td>\n",
       "      <td>CARSON, DENNIS</td>\n",
       "      <td>NaN</td>\n",
       "      <td>52</td>\n",
       "      <td>804355790</td>\n",
       "      <td>UNIVERSITY OF CALIFORNIA SAN DIEGO</td>\n",
       "      <td>LA JOLLA</td>\n",
       "      <td>CA</td>\n",
       "      <td>920930934</td>\n",
       "      <td>UNITED STATES</td>\n",
       "      <td>5/1/2011</td>\n",
       "      <td>4/30/2013</td>\n",
       "      <td>NaN</td>\n",
       "      <td>2012</td>\n",
       "      <td>NaN</td>\n",
       "      <td>725058.0</td>\n",
       "    </tr>\n",
       "  </tbody>\n",
       "</table>\n",
       "</div>"
      ],
      "text/plain": [
       "       PROJECT_ID                                           ABSTRACT  FY.x  \\\n",
       "74218      246024  Data Compilation and BioinformaticsThe Data Co...  2008   \n",
       "189986     339732  Data Compilation and BioinformaticsThe Data Co...  2009   \n",
       "295898     402481  The Data Compilation and Bioinformatics Shared...  2010   \n",
       "394176     451642  The Data Compilation and Bioinformatics Shared...  2011   \n",
       "470983      66299  The Data Compilation and Bioinformatics Shared...  2012   \n",
       "470985      66301  The Data Compilation and Bioinformatics Shared...  2012   \n",
       "\n",
       "                                            PROJECT_TERMS     PROJECT_TITLE  \\\n",
       "74218   Address; Archives; Area; behavior measurement;...  DATA COMPILATION   \n",
       "189986  Address; Archives; Area; behavior measurement;...  DATA COMPILATION   \n",
       "295898  Archives; behavior measurement; Biochemical; B...  DATA COMPILATION   \n",
       "394176  Archives; behavior measurement; Biochemical; B...  DATA COMPILATION   \n",
       "470983  Archives; behavior measurement; Biochemical; B...  DATA COMPILATION   \n",
       "470985  Archives; behavior measurement; Biochemical; B...  DATA COMPILATION   \n",
       "\n",
       "       DEPARTMENT AGENCY IC_CENTER            PROJECT_NUMBER  \\\n",
       "74218         HHS    NIH       NCI    5P30CA023100-24 (9001)   \n",
       "189986        HHS    NIH       NCI    5P30CA023100-25 (9001)   \n",
       "295898        HHS    NIH       NCI    5P30CA023100-26 (9001)   \n",
       "394176        HHS    NIH       NCI    5P30CA023100-27 (9001)   \n",
       "470983        HHS    NIH       NCI  3P30CA023100-27S7 (9001)   \n",
       "470985        HHS    NIH       NCI  3P30CA023100-27S8 (9001)   \n",
       "\n",
       "       PROJECT_START_DATE PROJECT_END_DATE CONTACT_PI_PROJECT_LEADER  \\\n",
       "74218            5/1/2008              NaN            CARSON, DENNIS   \n",
       "189986           5/1/2009              NaN            CARSON, DENNIS   \n",
       "295898           5/1/2010              NaN            CARSON, DENNIS   \n",
       "394176           5/1/2011        4/30/2014            CARSON, DENNIS   \n",
       "470983           5/1/2011        4/30/2014            CARSON, DENNIS   \n",
       "470985           5/1/2011        4/30/2014            CARSON, DENNIS   \n",
       "\n",
       "       OTHER_PIS CONGRESSIONAL_DISTRICT DUNS_NUMBER  \\\n",
       "74218        NaN                     52   804355790   \n",
       "189986       NaN                     52   804355790   \n",
       "295898       NaN                     52   804355790   \n",
       "394176       NaN                     52   804355790   \n",
       "470983       NaN                     52   804355790   \n",
       "470985       NaN                     52   804355790   \n",
       "\n",
       "                         ORGANIZATION_NAME ORGANIZATION_CITY  \\\n",
       "74218   UNIVERSITY OF CALIFORNIA SAN DIEGO          LA JOLLA   \n",
       "189986  UNIVERSITY OF CALIFORNIA SAN DIEGO          LA JOLLA   \n",
       "295898  UNIVERSITY OF CALIFORNIA SAN DIEGO          LA JOLLA   \n",
       "394176  UNIVERSITY OF CALIFORNIA SAN DIEGO          LA JOLLA   \n",
       "470983  UNIVERSITY OF CALIFORNIA SAN DIEGO          LA JOLLA   \n",
       "470985  UNIVERSITY OF CALIFORNIA SAN DIEGO          LA JOLLA   \n",
       "\n",
       "       ORGANIZATION_STATE ORGANIZATION_ZIP ORGANIZATION_COUNTRY  \\\n",
       "74218                  CA        920930934        UNITED STATES   \n",
       "189986                 CA        920930934        UNITED STATES   \n",
       "295898                 CA        920930934        UNITED STATES   \n",
       "394176                 CA        920930934        UNITED STATES   \n",
       "470983                 CA        920930934        UNITED STATES   \n",
       "470985                 CA        920930934        UNITED STATES   \n",
       "\n",
       "       BUDGET_START_DATE BUDGET_END_DATE CFDA_CODE  FY.y  FY_TOTAL_COST  \\\n",
       "74218           5/1/2008       4/30/2009       NaN  2008            NaN   \n",
       "189986          5/1/2009       4/30/2010       NaN  2009            NaN   \n",
       "295898          5/1/2010       4/30/2011       NaN  2010            NaN   \n",
       "394176          5/1/2011       4/30/2013       NaN  2011            NaN   \n",
       "470983          5/1/2011       4/30/2013       NaN  2012            NaN   \n",
       "470985          5/1/2011       4/30/2013       NaN  2012            NaN   \n",
       "\n",
       "        FY_TOTAL_COST_SUB_PROJECTS  \n",
       "74218                     379725.0  \n",
       "189986                    412545.0  \n",
       "295898                    410937.0  \n",
       "394176                    380131.0  \n",
       "470983                    200699.0  \n",
       "470985                    725058.0  "
      ]
     },
     "execution_count": 93,
     "metadata": {},
     "output_type": "execute_result"
    }
   ],
   "source": [
    "df_meta[df_meta['PROJECT_TITLE'] == \"DATA COMPILATION\"]"
   ]
  },
  {
   "cell_type": "code",
   "execution_count": 94,
   "metadata": {},
   "outputs": [
    {
     "data": {
      "text/html": [
       "<div>\n",
       "<style scoped>\n",
       "    .dataframe tbody tr th:only-of-type {\n",
       "        vertical-align: middle;\n",
       "    }\n",
       "\n",
       "    .dataframe tbody tr th {\n",
       "        vertical-align: top;\n",
       "    }\n",
       "\n",
       "    .dataframe thead th {\n",
       "        text-align: right;\n",
       "    }\n",
       "</style>\n",
       "<table border=\"1\" class=\"dataframe\">\n",
       "  <thead>\n",
       "    <tr style=\"text-align: right;\">\n",
       "      <th></th>\n",
       "      <th>PROJECT_ID</th>\n",
       "      <th>ABSTRACT</th>\n",
       "      <th>FY.x</th>\n",
       "      <th>PROJECT_TERMS</th>\n",
       "      <th>PROJECT_TITLE</th>\n",
       "      <th>DEPARTMENT</th>\n",
       "      <th>AGENCY</th>\n",
       "      <th>IC_CENTER</th>\n",
       "      <th>PROJECT_NUMBER</th>\n",
       "      <th>PROJECT_START_DATE</th>\n",
       "      <th>PROJECT_END_DATE</th>\n",
       "      <th>CONTACT_PI_PROJECT_LEADER</th>\n",
       "      <th>OTHER_PIS</th>\n",
       "      <th>CONGRESSIONAL_DISTRICT</th>\n",
       "      <th>DUNS_NUMBER</th>\n",
       "      <th>ORGANIZATION_NAME</th>\n",
       "      <th>ORGANIZATION_CITY</th>\n",
       "      <th>ORGANIZATION_STATE</th>\n",
       "      <th>ORGANIZATION_ZIP</th>\n",
       "      <th>ORGANIZATION_COUNTRY</th>\n",
       "      <th>BUDGET_START_DATE</th>\n",
       "      <th>BUDGET_END_DATE</th>\n",
       "      <th>CFDA_CODE</th>\n",
       "      <th>FY.y</th>\n",
       "      <th>FY_TOTAL_COST</th>\n",
       "      <th>FY_TOTAL_COST_SUB_PROJECTS</th>\n",
       "    </tr>\n",
       "  </thead>\n",
       "  <tbody>\n",
       "    <tr>\n",
       "      <th>74218</th>\n",
       "      <td>246024</td>\n",
       "      <td>Data Compilation and BioinformaticsThe Data Co...</td>\n",
       "      <td>2008</td>\n",
       "      <td>Address; Archives; Area; behavior measurement;...</td>\n",
       "      <td>DATA COMPILATION</td>\n",
       "      <td>HHS</td>\n",
       "      <td>NIH</td>\n",
       "      <td>NCI</td>\n",
       "      <td>5P30CA023100-24 (9001)</td>\n",
       "      <td>5/1/2008</td>\n",
       "      <td>NaN</td>\n",
       "      <td>CARSON, DENNIS</td>\n",
       "      <td>NaN</td>\n",
       "      <td>52</td>\n",
       "      <td>804355790</td>\n",
       "      <td>UNIVERSITY OF CALIFORNIA SAN DIEGO</td>\n",
       "      <td>LA JOLLA</td>\n",
       "      <td>CA</td>\n",
       "      <td>920930934</td>\n",
       "      <td>UNITED STATES</td>\n",
       "      <td>5/1/2008</td>\n",
       "      <td>4/30/2009</td>\n",
       "      <td>NaN</td>\n",
       "      <td>2008</td>\n",
       "      <td>NaN</td>\n",
       "      <td>379725.0</td>\n",
       "    </tr>\n",
       "    <tr>\n",
       "      <th>189986</th>\n",
       "      <td>339732</td>\n",
       "      <td>Data Compilation and BioinformaticsThe Data Co...</td>\n",
       "      <td>2009</td>\n",
       "      <td>Address; Archives; Area; behavior measurement;...</td>\n",
       "      <td>DATA COMPILATION</td>\n",
       "      <td>HHS</td>\n",
       "      <td>NIH</td>\n",
       "      <td>NCI</td>\n",
       "      <td>5P30CA023100-25 (9001)</td>\n",
       "      <td>5/1/2009</td>\n",
       "      <td>NaN</td>\n",
       "      <td>CARSON, DENNIS</td>\n",
       "      <td>NaN</td>\n",
       "      <td>52</td>\n",
       "      <td>804355790</td>\n",
       "      <td>UNIVERSITY OF CALIFORNIA SAN DIEGO</td>\n",
       "      <td>LA JOLLA</td>\n",
       "      <td>CA</td>\n",
       "      <td>920930934</td>\n",
       "      <td>UNITED STATES</td>\n",
       "      <td>5/1/2009</td>\n",
       "      <td>4/30/2010</td>\n",
       "      <td>NaN</td>\n",
       "      <td>2009</td>\n",
       "      <td>NaN</td>\n",
       "      <td>412545.0</td>\n",
       "    </tr>\n",
       "    <tr>\n",
       "      <th>295898</th>\n",
       "      <td>402481</td>\n",
       "      <td>The Data Compilation and Bioinformatics Shared...</td>\n",
       "      <td>2010</td>\n",
       "      <td>Archives; behavior measurement; Biochemical; B...</td>\n",
       "      <td>DATA COMPILATION</td>\n",
       "      <td>HHS</td>\n",
       "      <td>NIH</td>\n",
       "      <td>NCI</td>\n",
       "      <td>5P30CA023100-26 (9001)</td>\n",
       "      <td>5/1/2010</td>\n",
       "      <td>NaN</td>\n",
       "      <td>CARSON, DENNIS</td>\n",
       "      <td>NaN</td>\n",
       "      <td>52</td>\n",
       "      <td>804355790</td>\n",
       "      <td>UNIVERSITY OF CALIFORNIA SAN DIEGO</td>\n",
       "      <td>LA JOLLA</td>\n",
       "      <td>CA</td>\n",
       "      <td>920930934</td>\n",
       "      <td>UNITED STATES</td>\n",
       "      <td>5/1/2010</td>\n",
       "      <td>4/30/2011</td>\n",
       "      <td>NaN</td>\n",
       "      <td>2010</td>\n",
       "      <td>NaN</td>\n",
       "      <td>410937.0</td>\n",
       "    </tr>\n",
       "    <tr>\n",
       "      <th>470985</th>\n",
       "      <td>66301</td>\n",
       "      <td>The Data Compilation and Bioinformatics Shared...</td>\n",
       "      <td>2012</td>\n",
       "      <td>Archives; behavior measurement; Biochemical; B...</td>\n",
       "      <td>DATA COMPILATION</td>\n",
       "      <td>HHS</td>\n",
       "      <td>NIH</td>\n",
       "      <td>NCI</td>\n",
       "      <td>3P30CA023100-27S8 (9001)</td>\n",
       "      <td>5/1/2011</td>\n",
       "      <td>4/30/2014</td>\n",
       "      <td>CARSON, DENNIS</td>\n",
       "      <td>NaN</td>\n",
       "      <td>52</td>\n",
       "      <td>804355790</td>\n",
       "      <td>UNIVERSITY OF CALIFORNIA SAN DIEGO</td>\n",
       "      <td>LA JOLLA</td>\n",
       "      <td>CA</td>\n",
       "      <td>920930934</td>\n",
       "      <td>UNITED STATES</td>\n",
       "      <td>5/1/2011</td>\n",
       "      <td>4/30/2013</td>\n",
       "      <td>NaN</td>\n",
       "      <td>2012</td>\n",
       "      <td>NaN</td>\n",
       "      <td>725058.0</td>\n",
       "    </tr>\n",
       "  </tbody>\n",
       "</table>\n",
       "</div>"
      ],
      "text/plain": [
       "       PROJECT_ID                                           ABSTRACT  FY.x  \\\n",
       "74218      246024  Data Compilation and BioinformaticsThe Data Co...  2008   \n",
       "189986     339732  Data Compilation and BioinformaticsThe Data Co...  2009   \n",
       "295898     402481  The Data Compilation and Bioinformatics Shared...  2010   \n",
       "470985      66301  The Data Compilation and Bioinformatics Shared...  2012   \n",
       "\n",
       "                                            PROJECT_TERMS     PROJECT_TITLE  \\\n",
       "74218   Address; Archives; Area; behavior measurement;...  DATA COMPILATION   \n",
       "189986  Address; Archives; Area; behavior measurement;...  DATA COMPILATION   \n",
       "295898  Archives; behavior measurement; Biochemical; B...  DATA COMPILATION   \n",
       "470985  Archives; behavior measurement; Biochemical; B...  DATA COMPILATION   \n",
       "\n",
       "       DEPARTMENT AGENCY IC_CENTER            PROJECT_NUMBER  \\\n",
       "74218         HHS    NIH       NCI    5P30CA023100-24 (9001)   \n",
       "189986        HHS    NIH       NCI    5P30CA023100-25 (9001)   \n",
       "295898        HHS    NIH       NCI    5P30CA023100-26 (9001)   \n",
       "470985        HHS    NIH       NCI  3P30CA023100-27S8 (9001)   \n",
       "\n",
       "       PROJECT_START_DATE PROJECT_END_DATE CONTACT_PI_PROJECT_LEADER  \\\n",
       "74218            5/1/2008              NaN            CARSON, DENNIS   \n",
       "189986           5/1/2009              NaN            CARSON, DENNIS   \n",
       "295898           5/1/2010              NaN            CARSON, DENNIS   \n",
       "470985           5/1/2011        4/30/2014            CARSON, DENNIS   \n",
       "\n",
       "       OTHER_PIS CONGRESSIONAL_DISTRICT DUNS_NUMBER  \\\n",
       "74218        NaN                     52   804355790   \n",
       "189986       NaN                     52   804355790   \n",
       "295898       NaN                     52   804355790   \n",
       "470985       NaN                     52   804355790   \n",
       "\n",
       "                         ORGANIZATION_NAME ORGANIZATION_CITY  \\\n",
       "74218   UNIVERSITY OF CALIFORNIA SAN DIEGO          LA JOLLA   \n",
       "189986  UNIVERSITY OF CALIFORNIA SAN DIEGO          LA JOLLA   \n",
       "295898  UNIVERSITY OF CALIFORNIA SAN DIEGO          LA JOLLA   \n",
       "470985  UNIVERSITY OF CALIFORNIA SAN DIEGO          LA JOLLA   \n",
       "\n",
       "       ORGANIZATION_STATE ORGANIZATION_ZIP ORGANIZATION_COUNTRY  \\\n",
       "74218                  CA        920930934        UNITED STATES   \n",
       "189986                 CA        920930934        UNITED STATES   \n",
       "295898                 CA        920930934        UNITED STATES   \n",
       "470985                 CA        920930934        UNITED STATES   \n",
       "\n",
       "       BUDGET_START_DATE BUDGET_END_DATE CFDA_CODE  FY.y  FY_TOTAL_COST  \\\n",
       "74218           5/1/2008       4/30/2009       NaN  2008            NaN   \n",
       "189986          5/1/2009       4/30/2010       NaN  2009            NaN   \n",
       "295898          5/1/2010       4/30/2011       NaN  2010            NaN   \n",
       "470985          5/1/2011       4/30/2013       NaN  2012            NaN   \n",
       "\n",
       "        FY_TOTAL_COST_SUB_PROJECTS  \n",
       "74218                     379725.0  \n",
       "189986                    412545.0  \n",
       "295898                    410937.0  \n",
       "470985                    725058.0  "
      ]
     },
     "execution_count": 94,
     "metadata": {},
     "output_type": "execute_result"
    }
   ],
   "source": [
    "df_meta_dedup[df_meta_dedup['PROJECT_TITLE'] == \"DATA COMPILATION\"]"
   ]
  },
  {
   "cell_type": "code",
   "execution_count": null,
   "metadata": {},
   "outputs": [],
   "source": []
  },
  {
   "cell_type": "code",
   "execution_count": 78,
   "metadata": {},
   "outputs": [
    {
     "name": "stdout",
     "output_type": "stream",
     "text": [
      "(1156137, 26)\n"
     ]
    }
   ],
   "source": [
    "# reading in raw data\n",
    "\n",
    "# set data types\n",
    "cols = ['PROJECT_ID', 'ABSTRACT', 'FY.x', 'PROJECT_TERMS', 'PROJECT_TITLE', 'DEPARTMENT', 'AGENCY', 'IC_CENTER', \n",
    "        'PROJECT_NUMBER', 'PROJECT_START_DATE', 'PROJECT_END_DATE', 'CONTACT_PI_PROJECT_LEADER', 'OTHER_PIS', \n",
    "        'CONGRESSIONAL_DISTRICT', 'DUNS_NUMBER', 'ORGANIZATION_NAME', 'ORGANIZATION_CITY', 'ORGANIZATION_STATE', \n",
    "        'ORGANIZATION_ZIP', 'ORGANIZATION_COUNTRY', 'BUDGET_START_DATE', 'BUDGET_END_DATE', 'CFDA_CODE', 'FY.y', \n",
    "        'FY_TOTAL_COST', 'FY_TOTAL_COST_SUB_PROJECTS']\n",
    "dtypes = {col: 'str' for col in cols}\n",
    "dtypes[\"FY_TOTAL_COST\"] = 'float'\n",
    "dtypes[\"FY_TOTAL_COST_SUB_PROJECTS\"] = 'float'\n",
    "\n",
    "df_og = pd.read_csv('/home/kjl5t/dspg20RnD/data/original/working_federal_reporter_2020.csv', dtype = dtypes, engine='python')\n",
    "print(df_og.shape)"
   ]
  },
  {
   "cell_type": "code",
   "execution_count": 84,
   "metadata": {},
   "outputs": [
    {
     "data": {
      "text/html": [
       "<div>\n",
       "<style scoped>\n",
       "    .dataframe tbody tr th:only-of-type {\n",
       "        vertical-align: middle;\n",
       "    }\n",
       "\n",
       "    .dataframe tbody tr th {\n",
       "        vertical-align: top;\n",
       "    }\n",
       "\n",
       "    .dataframe thead th {\n",
       "        text-align: right;\n",
       "    }\n",
       "</style>\n",
       "<table border=\"1\" class=\"dataframe\">\n",
       "  <thead>\n",
       "    <tr style=\"text-align: right;\">\n",
       "      <th></th>\n",
       "      <th>PROJECT_ID</th>\n",
       "      <th>ABSTRACT</th>\n",
       "      <th>FY.x</th>\n",
       "      <th>PROJECT_TERMS</th>\n",
       "      <th>PROJECT_TITLE</th>\n",
       "      <th>DEPARTMENT</th>\n",
       "      <th>AGENCY</th>\n",
       "      <th>IC_CENTER</th>\n",
       "      <th>PROJECT_NUMBER</th>\n",
       "      <th>PROJECT_START_DATE</th>\n",
       "      <th>PROJECT_END_DATE</th>\n",
       "      <th>CONTACT_PI_PROJECT_LEADER</th>\n",
       "      <th>OTHER_PIS</th>\n",
       "      <th>CONGRESSIONAL_DISTRICT</th>\n",
       "      <th>DUNS_NUMBER</th>\n",
       "      <th>ORGANIZATION_NAME</th>\n",
       "      <th>ORGANIZATION_CITY</th>\n",
       "      <th>ORGANIZATION_STATE</th>\n",
       "      <th>ORGANIZATION_ZIP</th>\n",
       "      <th>ORGANIZATION_COUNTRY</th>\n",
       "      <th>BUDGET_START_DATE</th>\n",
       "      <th>BUDGET_END_DATE</th>\n",
       "      <th>CFDA_CODE</th>\n",
       "      <th>FY.y</th>\n",
       "      <th>FY_TOTAL_COST</th>\n",
       "      <th>FY_TOTAL_COST_SUB_PROJECTS</th>\n",
       "    </tr>\n",
       "  </thead>\n",
       "  <tbody>\n",
       "    <tr>\n",
       "      <th>396135</th>\n",
       "      <td>454030</td>\n",
       "      <td>This Project is designed to pursue clinical de...</td>\n",
       "      <td>2011</td>\n",
       "      <td>Address; Adenovirus Vector; Adenoviruses; Adhe...</td>\n",
       "      <td>CLINICAL DEVELOPMENT OF CHIMP ADENOVIRUS VECTORS</td>\n",
       "      <td>HHS</td>\n",
       "      <td>NIH</td>\n",
       "      <td>NaN</td>\n",
       "      <td>5U19AI074078-05 (0001)</td>\n",
       "      <td>NaN</td>\n",
       "      <td>8/31/2015</td>\n",
       "      <td>ERTL, HILDEGUND C. J.</td>\n",
       "      <td>NaN</td>\n",
       "      <td>02</td>\n",
       "      <td>075524595</td>\n",
       "      <td>WISTAR INSTITUTE</td>\n",
       "      <td>PHILADELPHIA</td>\n",
       "      <td>PA</td>\n",
       "      <td>191044265</td>\n",
       "      <td>UNITED STATES</td>\n",
       "      <td>NaN</td>\n",
       "      <td>NaN</td>\n",
       "      <td>NaN</td>\n",
       "      <td>2011</td>\n",
       "      <td>NaN</td>\n",
       "      <td>NaN</td>\n",
       "    </tr>\n",
       "  </tbody>\n",
       "</table>\n",
       "</div>"
      ],
      "text/plain": [
       "       PROJECT_ID                                           ABSTRACT  FY.x  \\\n",
       "396135     454030  This Project is designed to pursue clinical de...  2011   \n",
       "\n",
       "                                            PROJECT_TERMS  \\\n",
       "396135  Address; Adenovirus Vector; Adenoviruses; Adhe...   \n",
       "\n",
       "                                           PROJECT_TITLE DEPARTMENT AGENCY  \\\n",
       "396135  CLINICAL DEVELOPMENT OF CHIMP ADENOVIRUS VECTORS        HHS    NIH   \n",
       "\n",
       "       IC_CENTER          PROJECT_NUMBER PROJECT_START_DATE PROJECT_END_DATE  \\\n",
       "396135       NaN  5U19AI074078-05 (0001)                NaN        8/31/2015   \n",
       "\n",
       "       CONTACT_PI_PROJECT_LEADER OTHER_PIS CONGRESSIONAL_DISTRICT DUNS_NUMBER  \\\n",
       "396135     ERTL, HILDEGUND C. J.       NaN                     02   075524595   \n",
       "\n",
       "       ORGANIZATION_NAME ORGANIZATION_CITY ORGANIZATION_STATE  \\\n",
       "396135  WISTAR INSTITUTE      PHILADELPHIA                 PA   \n",
       "\n",
       "       ORGANIZATION_ZIP ORGANIZATION_COUNTRY BUDGET_START_DATE  \\\n",
       "396135        191044265        UNITED STATES               NaN   \n",
       "\n",
       "       BUDGET_END_DATE CFDA_CODE  FY.y  FY_TOTAL_COST  \\\n",
       "396135             NaN       NaN  2011            NaN   \n",
       "\n",
       "        FY_TOTAL_COST_SUB_PROJECTS  \n",
       "396135                         NaN  "
      ]
     },
     "execution_count": 84,
     "metadata": {},
     "output_type": "execute_result"
    }
   ],
   "source": [
    "df_og[df_og['PROJECT_ID'] == '454030']"
   ]
  },
  {
   "cell_type": "code",
   "execution_count": 80,
   "metadata": {},
   "outputs": [
    {
     "data": {
      "text/plain": [
       "PROJECT_ID                                                               451642\n",
       "ABSTRACT                      The Data Compilation and Bioinformatics Shared...\n",
       "FY.x                                                                       2011\n",
       "PROJECT_TERMS                 Archives; behavior measurement; Biochemical; B...\n",
       "PROJECT_TITLE                                                  DATA COMPILATION\n",
       "DEPARTMENT                                                                  HHS\n",
       "AGENCY                                                                      NIH\n",
       "IC_CENTER                                                                   NaN\n",
       "PROJECT_NUMBER                                           5P30CA023100-27 (9001)\n",
       "PROJECT_START_DATE                                                          NaN\n",
       "PROJECT_END_DATE                                                      4/30/2014\n",
       "CONTACT_PI_PROJECT_LEADER                                        CARSON, DENNIS\n",
       "OTHER_PIS                                                                   NaN\n",
       "CONGRESSIONAL_DISTRICT                                                       52\n",
       "DUNS_NUMBER                                                           804355790\n",
       "ORGANIZATION_NAME                            UNIVERSITY OF CALIFORNIA SAN DIEGO\n",
       "ORGANIZATION_CITY                                                      LA JOLLA\n",
       "ORGANIZATION_STATE                                                           CA\n",
       "ORGANIZATION_ZIP                                                      920930934\n",
       "ORGANIZATION_COUNTRY                                              UNITED STATES\n",
       "BUDGET_START_DATE                                                           NaN\n",
       "BUDGET_END_DATE                                                             NaN\n",
       "CFDA_CODE                                                                   NaN\n",
       "FY.y                                                                       2011\n",
       "FY_TOTAL_COST                                                               NaN\n",
       "FY_TOTAL_COST_SUB_PROJECTS                                                  NaN\n",
       "Name: 394176, dtype: object"
      ]
     },
     "execution_count": 80,
     "metadata": {},
     "output_type": "execute_result"
    }
   ],
   "source": [
    "df_og.iloc[394176] # start date was just missing, but budget date filled in for df_meta"
   ]
  },
  {
   "cell_type": "code",
   "execution_count": 85,
   "metadata": {},
   "outputs": [
    {
     "name": "stdout",
     "output_type": "stream",
     "text": [
      "(1156137, 26)\n"
     ]
    }
   ],
   "source": [
    "# reading in fixed metadata\n",
    "\n",
    "# set data types\n",
    "cols = ['PROJECT_ID', 'ABSTRACT', 'FY.x', 'PROJECT_TERMS', 'PROJECT_TITLE', 'DEPARTMENT', 'AGENCY', 'IC_CENTER', \n",
    "        'PROJECT_NUMBER', 'PROJECT_START_DATE', 'PROJECT_END_DATE', 'CONTACT_PI_PROJECT_LEADER', 'OTHER_PIS', \n",
    "        'CONGRESSIONAL_DISTRICT', 'DUNS_NUMBER', 'ORGANIZATION_NAME', 'ORGANIZATION_CITY', 'ORGANIZATION_STATE', \n",
    "        'ORGANIZATION_ZIP', 'ORGANIZATION_COUNTRY', 'BUDGET_START_DATE', 'BUDGET_END_DATE', 'CFDA_CODE', 'FY.y', \n",
    "        'FY_TOTAL_COST', 'FY_TOTAL_COST_SUB_PROJECTS']\n",
    "dtypes = {col: 'str' for col in cols}\n",
    "dtypes[\"FY_TOTAL_COST\"] = 'float'\n",
    "dtypes[\"FY_TOTAL_COST_SUB_PROJECTS\"] = 'float'\n",
    "\n",
    "# dtype = dtypes,\n",
    "df_meta_og = pd.read_csv('../../../data/prd/Federal_RePORTER/FR_raw_2021FEB24.csv', dtype = dtypes, engine='python')\n",
    "print(df_meta_og.shape)"
   ]
  },
  {
   "cell_type": "code",
   "execution_count": 86,
   "metadata": {},
   "outputs": [
    {
     "data": {
      "text/html": [
       "<div>\n",
       "<style scoped>\n",
       "    .dataframe tbody tr th:only-of-type {\n",
       "        vertical-align: middle;\n",
       "    }\n",
       "\n",
       "    .dataframe tbody tr th {\n",
       "        vertical-align: top;\n",
       "    }\n",
       "\n",
       "    .dataframe thead th {\n",
       "        text-align: right;\n",
       "    }\n",
       "</style>\n",
       "<table border=\"1\" class=\"dataframe\">\n",
       "  <thead>\n",
       "    <tr style=\"text-align: right;\">\n",
       "      <th></th>\n",
       "      <th>PROJECT_ID</th>\n",
       "      <th>ABSTRACT</th>\n",
       "      <th>FY.x</th>\n",
       "      <th>PROJECT_TERMS</th>\n",
       "      <th>PROJECT_TITLE</th>\n",
       "      <th>DEPARTMENT</th>\n",
       "      <th>AGENCY</th>\n",
       "      <th>IC_CENTER</th>\n",
       "      <th>PROJECT_NUMBER</th>\n",
       "      <th>PROJECT_START_DATE</th>\n",
       "      <th>PROJECT_END_DATE</th>\n",
       "      <th>CONTACT_PI_PROJECT_LEADER</th>\n",
       "      <th>OTHER_PIS</th>\n",
       "      <th>CONGRESSIONAL_DISTRICT</th>\n",
       "      <th>DUNS_NUMBER</th>\n",
       "      <th>ORGANIZATION_NAME</th>\n",
       "      <th>ORGANIZATION_CITY</th>\n",
       "      <th>ORGANIZATION_STATE</th>\n",
       "      <th>ORGANIZATION_ZIP</th>\n",
       "      <th>ORGANIZATION_COUNTRY</th>\n",
       "      <th>BUDGET_START_DATE</th>\n",
       "      <th>BUDGET_END_DATE</th>\n",
       "      <th>CFDA_CODE</th>\n",
       "      <th>FY.y</th>\n",
       "      <th>FY_TOTAL_COST</th>\n",
       "      <th>FY_TOTAL_COST_SUB_PROJECTS</th>\n",
       "    </tr>\n",
       "  </thead>\n",
       "  <tbody>\n",
       "    <tr>\n",
       "      <th>396135</th>\n",
       "      <td>454030</td>\n",
       "      <td>This Project is designed to pursue clinical de...</td>\n",
       "      <td>2011</td>\n",
       "      <td>Address; Adenovirus Vector; Adenoviruses; Adh...</td>\n",
       "      <td>CLINICAL DEVELOPMENT OF CHIMP ADENOVIRUS VECTORS</td>\n",
       "      <td>HHS</td>\n",
       "      <td>NIH</td>\n",
       "      <td>NIAID</td>\n",
       "      <td>5U19AI074078-05 (0001)</td>\n",
       "      <td>NaN</td>\n",
       "      <td>8/31/2015</td>\n",
       "      <td>ERTL, HILDEGUND C. J.</td>\n",
       "      <td>NaN</td>\n",
       "      <td>02</td>\n",
       "      <td>075524595</td>\n",
       "      <td>WISTAR INSTITUTE</td>\n",
       "      <td>PHILADELPHIA</td>\n",
       "      <td>PA</td>\n",
       "      <td>191044265</td>\n",
       "      <td>UNITED STATES</td>\n",
       "      <td>9/1/2011</td>\n",
       "      <td>8/31/2013</td>\n",
       "      <td>NaN</td>\n",
       "      <td>2011</td>\n",
       "      <td>NaN</td>\n",
       "      <td>204266.0</td>\n",
       "    </tr>\n",
       "  </tbody>\n",
       "</table>\n",
       "</div>"
      ],
      "text/plain": [
       "       PROJECT_ID                                           ABSTRACT  FY.x  \\\n",
       "396135     454030  This Project is designed to pursue clinical de...  2011   \n",
       "\n",
       "                                            PROJECT_TERMS  \\\n",
       "396135   Address; Adenovirus Vector; Adenoviruses; Adh...   \n",
       "\n",
       "                                           PROJECT_TITLE DEPARTMENT AGENCY  \\\n",
       "396135  CLINICAL DEVELOPMENT OF CHIMP ADENOVIRUS VECTORS        HHS    NIH   \n",
       "\n",
       "       IC_CENTER          PROJECT_NUMBER PROJECT_START_DATE PROJECT_END_DATE  \\\n",
       "396135     NIAID  5U19AI074078-05 (0001)                NaN        8/31/2015   \n",
       "\n",
       "       CONTACT_PI_PROJECT_LEADER OTHER_PIS CONGRESSIONAL_DISTRICT DUNS_NUMBER  \\\n",
       "396135     ERTL, HILDEGUND C. J.       NaN                     02   075524595   \n",
       "\n",
       "       ORGANIZATION_NAME ORGANIZATION_CITY ORGANIZATION_STATE  \\\n",
       "396135  WISTAR INSTITUTE      PHILADELPHIA                 PA   \n",
       "\n",
       "       ORGANIZATION_ZIP ORGANIZATION_COUNTRY BUDGET_START_DATE  \\\n",
       "396135        191044265        UNITED STATES          9/1/2011   \n",
       "\n",
       "       BUDGET_END_DATE CFDA_CODE  FY.y  FY_TOTAL_COST  \\\n",
       "396135       8/31/2013       NaN  2011            NaN   \n",
       "\n",
       "        FY_TOTAL_COST_SUB_PROJECTS  \n",
       "396135                    204266.0  "
      ]
     },
     "execution_count": 86,
     "metadata": {},
     "output_type": "execute_result"
    }
   ],
   "source": [
    "df_meta_og[df_meta_og['PROJECT_ID'] == '454030']"
   ]
  },
  {
   "cell_type": "code",
   "execution_count": null,
   "metadata": {},
   "outputs": [],
   "source": []
  }
 ],
 "metadata": {
  "kernelspec": {
   "display_name": "Python 3",
   "language": "python",
   "name": "python3"
  },
  "language_info": {
   "codemirror_mode": {
    "name": "ipython",
    "version": 3
   },
   "file_extension": ".py",
   "mimetype": "text/x-python",
   "name": "python",
   "nbconvert_exporter": "python",
   "pygments_lexer": "ipython3",
   "version": "3.8.8"
  }
 },
 "nbformat": 4,
 "nbformat_minor": 4
}
