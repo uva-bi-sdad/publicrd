{
 "cells": [
  {
   "cell_type": "code",
   "execution_count": 1,
   "metadata": {},
   "outputs": [
    {
     "name": "stderr",
     "output_type": "stream",
     "text": [
      "/home/kjl5t/.local/lib/python3.8/site-packages/gensim/similarities/__init__.py:15: UserWarning: The gensim.similarities.levenshtein submodule is disabled, because the optional Levenshtein package <https://pypi.org/project/python-Levenshtein/> is unavailable. Install Levenhstein (e.g. `pip install python-Levenshtein`) to suppress this warning.\n",
      "  warnings.warn(msg)\n"
     ]
    }
   ],
   "source": [
    "import pandas as pd\n",
    "import numpy as np\n",
    "import pickle\n",
    "import matplotlib.pyplot as plt\n",
    "import gensim\n",
    "import time\n",
    "\n",
    "from sklearn.decomposition import NMF, TruncatedSVD, LatentDirichletAllocation\n",
    "from sklearn.feature_extraction.text import CountVectorizer\n",
    "from sklearn.feature_extraction.text import TfidfVectorizer\n",
    "\n",
    "from gensim.models.coherencemodel import CoherenceModel"
   ]
  },
  {
   "cell_type": "code",
   "execution_count": 2,
   "metadata": {},
   "outputs": [],
   "source": [
    "# function slightly modified from https://nlpforhackers.io/topic-modeling/\n",
    "\n",
    "def print_topics(topic_term_mat, vectorizer, top_n=10):\n",
    "    for idx, topic in enumerate(topic_term_mat):  # loop through each row of H.  idx = row index.  topic = actual row\n",
    "        print(\"\\nTopic %d:\" % (idx))\n",
    "        #print([(vectorizer.get_feature_names()[i], topic[i])  # printing out words corresponding to indices found in next line\n",
    "                        #for i in topic.argsort()[:-top_n - 1:-1]])  # finding indices of top words in topic\n",
    "            \n",
    "        print_list = [(vectorizer.get_feature_names()[i], topic[i])  \n",
    "                        for i in topic.argsort()[:-top_n - 1:-1]]\n",
    "        for item in print_list:\n",
    "            print(item)"
   ]
  },
  {
   "cell_type": "code",
   "execution_count": 3,
   "metadata": {},
   "outputs": [],
   "source": [
    "def list_topics(topic_term_mat, vectorizer, top_n=10):\n",
    "\n",
    "    #input. top_n: how many words to list per topic.  If -1, then list all words.\n",
    "       \n",
    "    topic_words = []\n",
    "    \n",
    "    for idx, topic in enumerate(topic_term_mat):  # loop through each row of H.  idx = row index.  topic = actual row\n",
    "            \n",
    "        if top_n == -1:   \n",
    "            topic_words.append([vectorizer.get_feature_names()[i] for i in topic.argsort()[::-1]])\n",
    "        else:\n",
    "            topic_words.append([vectorizer.get_feature_names()[i] for i in topic.argsort()[:-top_n - 1:-1]])\n",
    "        \n",
    "    return topic_words"
   ]
  },
  {
   "cell_type": "code",
   "execution_count": 4,
   "metadata": {},
   "outputs": [],
   "source": [
    "f = open('full_coherence_vars.sav', 'rb')\n",
    "[corpus, id2word, docs] = pickle.load(f)\n",
    "f.close()"
   ]
  },
  {
   "cell_type": "code",
   "execution_count": 5,
   "metadata": {},
   "outputs": [],
   "source": [
    "text = []\n",
    "\n",
    "for abstract in docs:\n",
    "    text.append(\" \".join(abstract))"
   ]
  },
  {
   "cell_type": "code",
   "execution_count": 6,
   "metadata": {},
   "outputs": [],
   "source": [
    "tfidf_vectorizer = TfidfVectorizer(max_df=0.6, min_df=20, lowercase=False, max_features=int(len(docs)/2))\n",
    "tf_idf = tfidf_vectorizer.fit_transform(text)"
   ]
  },
  {
   "cell_type": "code",
   "execution_count": 7,
   "metadata": {},
   "outputs": [],
   "source": [
    "num_topics = 75\n",
    "\n",
    "doc_topic, topic_term = pickle.load(open('../../../data/prd/Paper-ET/final_model_DT_TT.sav','rb'))"
   ]
  },
  {
   "cell_type": "code",
   "execution_count": 8,
   "metadata": {},
   "outputs": [
    {
     "name": "stdout",
     "output_type": "stream",
     "text": [
      "0.745157970957045\n",
      "  Coherence time: 317.56836891174316\n"
     ]
    }
   ],
   "source": [
    "# calculate topic coherence\n",
    "\n",
    "# create list of topics\n",
    "topics = list_topics(topic_term, tfidf_vectorizer, top_n=10)\n",
    "\n",
    "t1 = time.time()\n",
    "cm = CoherenceModel(topics=topics, corpus=corpus, dictionary=id2word, texts=docs, \n",
    "                    coherence='c_v', processes=8) #window_size=500 ) \n",
    "print(cm.get_coherence())\n",
    "t2 = time.time()\n",
    "print(f\"  Coherence time: {t2-t1}\")"
   ]
  },
  {
   "cell_type": "code",
   "execution_count": null,
   "metadata": {},
   "outputs": [],
   "source": [
    "#topics_5 = list_topics(topic_term, tfidf_vectorizer, top_n=5)"
   ]
  },
  {
   "cell_type": "code",
   "execution_count": 9,
   "metadata": {},
   "outputs": [],
   "source": [
    "nmf_output = pd.DataFrame(cm.get_coherence_per_topic(with_std=True))\n",
    "nmf_output.insert(0, 'topic_words', topics)\n",
    "nmf_output.columns = ['topic_words', 'coherence_mean', 'coherence_stdev']"
   ]
  },
  {
   "cell_type": "code",
   "execution_count": 10,
   "metadata": {},
   "outputs": [
    {
     "data": {
      "text/html": [
       "<div>\n",
       "<style scoped>\n",
       "    .dataframe tbody tr th:only-of-type {\n",
       "        vertical-align: middle;\n",
       "    }\n",
       "\n",
       "    .dataframe tbody tr th {\n",
       "        vertical-align: top;\n",
       "    }\n",
       "\n",
       "    .dataframe thead th {\n",
       "        text-align: right;\n",
       "    }\n",
       "</style>\n",
       "<table border=\"1\" class=\"dataframe\">\n",
       "  <thead>\n",
       "    <tr style=\"text-align: right;\">\n",
       "      <th></th>\n",
       "      <th>topic_words</th>\n",
       "      <th>coherence_mean</th>\n",
       "      <th>coherence_stdev</th>\n",
       "    </tr>\n",
       "  </thead>\n",
       "  <tbody>\n",
       "    <tr>\n",
       "      <th>0</th>\n",
       "      <td>[cell, differentiation, cellular, antigen, cul...</td>\n",
       "      <td>0.615038</td>\n",
       "      <td>0.108656</td>\n",
       "    </tr>\n",
       "    <tr>\n",
       "      <th>1</th>\n",
       "      <td>[student, undergraduate, graduate, college, fa...</td>\n",
       "      <td>0.881729</td>\n",
       "      <td>0.051303</td>\n",
       "    </tr>\n",
       "    <tr>\n",
       "      <th>2</th>\n",
       "      <td>[cancer, nci, pancreatic, member, ovarian, pre...</td>\n",
       "      <td>0.662256</td>\n",
       "      <td>0.151528</td>\n",
       "    </tr>\n",
       "    <tr>\n",
       "      <th>3</th>\n",
       "      <td>[hiv, aids, infect, prevention, cfar, antiretr...</td>\n",
       "      <td>0.770968</td>\n",
       "      <td>0.148324</td>\n",
       "    </tr>\n",
       "    <tr>\n",
       "      <th>4</th>\n",
       "      <td>[infection, infect, immune, viral, hpv, hcv, p...</td>\n",
       "      <td>0.713201</td>\n",
       "      <td>0.154076</td>\n",
       "    </tr>\n",
       "  </tbody>\n",
       "</table>\n",
       "</div>"
      ],
      "text/plain": [
       "                                         topic_words  coherence_mean  \\\n",
       "0  [cell, differentiation, cellular, antigen, cul...        0.615038   \n",
       "1  [student, undergraduate, graduate, college, fa...        0.881729   \n",
       "2  [cancer, nci, pancreatic, member, ovarian, pre...        0.662256   \n",
       "3  [hiv, aids, infect, prevention, cfar, antiretr...        0.770968   \n",
       "4  [infection, infect, immune, viral, hpv, hcv, p...        0.713201   \n",
       "\n",
       "   coherence_stdev  \n",
       "0         0.108656  \n",
       "1         0.051303  \n",
       "2         0.151528  \n",
       "3         0.148324  \n",
       "4         0.154076  "
      ]
     },
     "execution_count": 10,
     "metadata": {},
     "output_type": "execute_result"
    }
   ],
   "source": [
    "nmf_output.head()"
   ]
  },
  {
   "cell_type": "code",
   "execution_count": 11,
   "metadata": {},
   "outputs": [],
   "source": [
    "doc_topic_df = pd.DataFrame(data=doc_topic.copy())\n",
    "nmf_output[\"avg_weight_in_corpus\"] = doc_topic_df.mean(axis=0)\n",
    "nmf_output[\"med_weight_in_corpus\"] = doc_topic_df.median(axis=0)"
   ]
  },
  {
   "cell_type": "code",
   "execution_count": 12,
   "metadata": {},
   "outputs": [],
   "source": [
    "# create a column for the number of documents that contain a topic\n",
    "doc_topic_bool = pd.DataFrame(data=doc_topic.copy())\n",
    "doc_topic_bool[doc_topic_bool > 0] = 1 "
   ]
  },
  {
   "cell_type": "code",
   "execution_count": 13,
   "metadata": {},
   "outputs": [],
   "source": [
    "nmf_output[\"num_docs_containing_topic\"] = doc_topic_bool.sum(axis=0)\n",
    "nmf_output[\"percent_docs_containing_topic\"] = 100*(nmf_output[\"num_docs_containing_topic\"]/doc_topic.shape[0])"
   ]
  },
  {
   "cell_type": "code",
   "execution_count": 14,
   "metadata": {},
   "outputs": [],
   "source": [
    "# find the dominant topic per document\n",
    "max_topic = doc_topic_df.idxmax(axis=1)"
   ]
  },
  {
   "cell_type": "code",
   "execution_count": 16,
   "metadata": {},
   "outputs": [
    {
     "data": {
      "text/html": [
       "<div>\n",
       "<style scoped>\n",
       "    .dataframe tbody tr th:only-of-type {\n",
       "        vertical-align: middle;\n",
       "    }\n",
       "\n",
       "    .dataframe tbody tr th {\n",
       "        vertical-align: top;\n",
       "    }\n",
       "\n",
       "    .dataframe thead th {\n",
       "        text-align: right;\n",
       "    }\n",
       "</style>\n",
       "<table border=\"1\" class=\"dataframe\">\n",
       "  <thead>\n",
       "    <tr style=\"text-align: right;\">\n",
       "      <th></th>\n",
       "      <th>0</th>\n",
       "      <th>1</th>\n",
       "      <th>2</th>\n",
       "      <th>3</th>\n",
       "      <th>4</th>\n",
       "      <th>5</th>\n",
       "      <th>6</th>\n",
       "      <th>7</th>\n",
       "      <th>8</th>\n",
       "      <th>9</th>\n",
       "      <th>...</th>\n",
       "      <th>65</th>\n",
       "      <th>66</th>\n",
       "      <th>67</th>\n",
       "      <th>68</th>\n",
       "      <th>69</th>\n",
       "      <th>70</th>\n",
       "      <th>71</th>\n",
       "      <th>72</th>\n",
       "      <th>73</th>\n",
       "      <th>74</th>\n",
       "    </tr>\n",
       "  </thead>\n",
       "  <tbody>\n",
       "    <tr>\n",
       "      <th>0</th>\n",
       "      <td>0.000000</td>\n",
       "      <td>0.0</td>\n",
       "      <td>0.000171</td>\n",
       "      <td>0.0</td>\n",
       "      <td>0.0</td>\n",
       "      <td>0.001167</td>\n",
       "      <td>0.000000</td>\n",
       "      <td>0.000000</td>\n",
       "      <td>0.000000</td>\n",
       "      <td>0.001698</td>\n",
       "      <td>...</td>\n",
       "      <td>0.0</td>\n",
       "      <td>0.000771</td>\n",
       "      <td>0.000000</td>\n",
       "      <td>0.000000</td>\n",
       "      <td>0.000037</td>\n",
       "      <td>0.000000</td>\n",
       "      <td>0.000669</td>\n",
       "      <td>0.0</td>\n",
       "      <td>0.000767</td>\n",
       "      <td>0.000000</td>\n",
       "    </tr>\n",
       "    <tr>\n",
       "      <th>1</th>\n",
       "      <td>0.000000</td>\n",
       "      <td>0.0</td>\n",
       "      <td>0.000000</td>\n",
       "      <td>0.0</td>\n",
       "      <td>0.0</td>\n",
       "      <td>0.000646</td>\n",
       "      <td>0.001446</td>\n",
       "      <td>0.000000</td>\n",
       "      <td>0.014818</td>\n",
       "      <td>0.000425</td>\n",
       "      <td>...</td>\n",
       "      <td>0.0</td>\n",
       "      <td>0.000000</td>\n",
       "      <td>0.001405</td>\n",
       "      <td>0.000000</td>\n",
       "      <td>0.000000</td>\n",
       "      <td>0.000000</td>\n",
       "      <td>0.007767</td>\n",
       "      <td>0.0</td>\n",
       "      <td>0.000000</td>\n",
       "      <td>0.000727</td>\n",
       "    </tr>\n",
       "    <tr>\n",
       "      <th>2</th>\n",
       "      <td>0.000000</td>\n",
       "      <td>0.0</td>\n",
       "      <td>0.000095</td>\n",
       "      <td>0.0</td>\n",
       "      <td>0.0</td>\n",
       "      <td>0.000000</td>\n",
       "      <td>0.000391</td>\n",
       "      <td>0.002431</td>\n",
       "      <td>0.000000</td>\n",
       "      <td>0.003938</td>\n",
       "      <td>...</td>\n",
       "      <td>0.0</td>\n",
       "      <td>0.000000</td>\n",
       "      <td>0.000039</td>\n",
       "      <td>0.000000</td>\n",
       "      <td>0.000689</td>\n",
       "      <td>0.000346</td>\n",
       "      <td>0.018710</td>\n",
       "      <td>0.0</td>\n",
       "      <td>0.000000</td>\n",
       "      <td>0.000000</td>\n",
       "    </tr>\n",
       "    <tr>\n",
       "      <th>3</th>\n",
       "      <td>0.000000</td>\n",
       "      <td>0.0</td>\n",
       "      <td>0.000000</td>\n",
       "      <td>0.0</td>\n",
       "      <td>0.0</td>\n",
       "      <td>0.000172</td>\n",
       "      <td>0.000000</td>\n",
       "      <td>0.000000</td>\n",
       "      <td>0.000000</td>\n",
       "      <td>0.000000</td>\n",
       "      <td>...</td>\n",
       "      <td>0.0</td>\n",
       "      <td>0.000000</td>\n",
       "      <td>0.029590</td>\n",
       "      <td>0.043594</td>\n",
       "      <td>0.000000</td>\n",
       "      <td>0.000389</td>\n",
       "      <td>0.000000</td>\n",
       "      <td>0.0</td>\n",
       "      <td>0.000000</td>\n",
       "      <td>0.000000</td>\n",
       "    </tr>\n",
       "    <tr>\n",
       "      <th>4</th>\n",
       "      <td>0.000026</td>\n",
       "      <td>0.0</td>\n",
       "      <td>0.000000</td>\n",
       "      <td>0.0</td>\n",
       "      <td>0.0</td>\n",
       "      <td>0.000000</td>\n",
       "      <td>0.000000</td>\n",
       "      <td>0.000000</td>\n",
       "      <td>0.001600</td>\n",
       "      <td>0.000034</td>\n",
       "      <td>...</td>\n",
       "      <td>0.0</td>\n",
       "      <td>0.000420</td>\n",
       "      <td>0.000000</td>\n",
       "      <td>0.000000</td>\n",
       "      <td>0.000330</td>\n",
       "      <td>0.000000</td>\n",
       "      <td>0.000169</td>\n",
       "      <td>0.0</td>\n",
       "      <td>0.000000</td>\n",
       "      <td>0.000423</td>\n",
       "    </tr>\n",
       "  </tbody>\n",
       "</table>\n",
       "<p>5 rows × 75 columns</p>\n",
       "</div>"
      ],
      "text/plain": [
       "         0    1         2    3    4         5         6         7         8   \\\n",
       "0  0.000000  0.0  0.000171  0.0  0.0  0.001167  0.000000  0.000000  0.000000   \n",
       "1  0.000000  0.0  0.000000  0.0  0.0  0.000646  0.001446  0.000000  0.014818   \n",
       "2  0.000000  0.0  0.000095  0.0  0.0  0.000000  0.000391  0.002431  0.000000   \n",
       "3  0.000000  0.0  0.000000  0.0  0.0  0.000172  0.000000  0.000000  0.000000   \n",
       "4  0.000026  0.0  0.000000  0.0  0.0  0.000000  0.000000  0.000000  0.001600   \n",
       "\n",
       "         9   ...   65        66        67        68        69        70  \\\n",
       "0  0.001698  ...  0.0  0.000771  0.000000  0.000000  0.000037  0.000000   \n",
       "1  0.000425  ...  0.0  0.000000  0.001405  0.000000  0.000000  0.000000   \n",
       "2  0.003938  ...  0.0  0.000000  0.000039  0.000000  0.000689  0.000346   \n",
       "3  0.000000  ...  0.0  0.000000  0.029590  0.043594  0.000000  0.000389   \n",
       "4  0.000034  ...  0.0  0.000420  0.000000  0.000000  0.000330  0.000000   \n",
       "\n",
       "         71   72        73        74  \n",
       "0  0.000669  0.0  0.000767  0.000000  \n",
       "1  0.007767  0.0  0.000000  0.000727  \n",
       "2  0.018710  0.0  0.000000  0.000000  \n",
       "3  0.000000  0.0  0.000000  0.000000  \n",
       "4  0.000169  0.0  0.000000  0.000423  \n",
       "\n",
       "[5 rows x 75 columns]"
      ]
     },
     "execution_count": 16,
     "metadata": {},
     "output_type": "execute_result"
    }
   ],
   "source": [
    "doc_topic_df.head()"
   ]
  },
  {
   "cell_type": "code",
   "execution_count": 15,
   "metadata": {},
   "outputs": [
    {
     "data": {
      "text/plain": [
       "0         16\n",
       "1          8\n",
       "2         71\n",
       "3         68\n",
       "4         19\n",
       "          ..\n",
       "690809    71\n",
       "690810    16\n",
       "690811    61\n",
       "690812    27\n",
       "690813    46\n",
       "Length: 690814, dtype: int64"
      ]
     },
     "execution_count": 15,
     "metadata": {},
     "output_type": "execute_result"
    }
   ],
   "source": [
    "max_topic"
   ]
  },
  {
   "cell_type": "code",
   "execution_count": 17,
   "metadata": {},
   "outputs": [],
   "source": [
    "nmf_output[\"num_times_max_topic\"] = max_topic.value_counts()\n",
    "nmf_output[\"percent_times_max_topic\"] = 100*(nmf_output[\"num_times_max_topic\"]/doc_topic.shape[0])"
   ]
  },
  {
   "cell_type": "code",
   "execution_count": 18,
   "metadata": {},
   "outputs": [
    {
     "data": {
      "text/html": [
       "<div>\n",
       "<style scoped>\n",
       "    .dataframe tbody tr th:only-of-type {\n",
       "        vertical-align: middle;\n",
       "    }\n",
       "\n",
       "    .dataframe tbody tr th {\n",
       "        vertical-align: top;\n",
       "    }\n",
       "\n",
       "    .dataframe thead th {\n",
       "        text-align: right;\n",
       "    }\n",
       "</style>\n",
       "<table border=\"1\" class=\"dataframe\">\n",
       "  <thead>\n",
       "    <tr style=\"text-align: right;\">\n",
       "      <th></th>\n",
       "      <th>topic_words</th>\n",
       "      <th>coherence_mean</th>\n",
       "      <th>coherence_stdev</th>\n",
       "      <th>avg_weight_in_corpus</th>\n",
       "      <th>med_weight_in_corpus</th>\n",
       "      <th>num_docs_containing_topic</th>\n",
       "      <th>percent_docs_containing_topic</th>\n",
       "      <th>num_times_max_topic</th>\n",
       "      <th>percent_times_max_topic</th>\n",
       "    </tr>\n",
       "  </thead>\n",
       "  <tbody>\n",
       "    <tr>\n",
       "      <th>0</th>\n",
       "      <td>[cell, differentiation, cellular, antigen, cul...</td>\n",
       "      <td>0.615038</td>\n",
       "      <td>0.108656</td>\n",
       "      <td>0.000502</td>\n",
       "      <td>1.968816e-07</td>\n",
       "      <td>346034.0</td>\n",
       "      <td>50.090762</td>\n",
       "      <td>767</td>\n",
       "      <td>0.111028</td>\n",
       "    </tr>\n",
       "    <tr>\n",
       "      <th>1</th>\n",
       "      <td>[student, undergraduate, graduate, college, fa...</td>\n",
       "      <td>0.881729</td>\n",
       "      <td>0.051303</td>\n",
       "      <td>0.001211</td>\n",
       "      <td>0.000000e+00</td>\n",
       "      <td>217644.0</td>\n",
       "      <td>31.505441</td>\n",
       "      <td>17352</td>\n",
       "      <td>2.511819</td>\n",
       "    </tr>\n",
       "    <tr>\n",
       "      <th>2</th>\n",
       "      <td>[cancer, nci, pancreatic, member, ovarian, pre...</td>\n",
       "      <td>0.662256</td>\n",
       "      <td>0.151528</td>\n",
       "      <td>0.001800</td>\n",
       "      <td>0.000000e+00</td>\n",
       "      <td>251421.0</td>\n",
       "      <td>36.394891</td>\n",
       "      <td>24706</td>\n",
       "      <td>3.576361</td>\n",
       "    </tr>\n",
       "    <tr>\n",
       "      <th>3</th>\n",
       "      <td>[hiv, aids, infect, prevention, cfar, antiretr...</td>\n",
       "      <td>0.770968</td>\n",
       "      <td>0.148324</td>\n",
       "      <td>0.000582</td>\n",
       "      <td>0.000000e+00</td>\n",
       "      <td>216121.0</td>\n",
       "      <td>31.284977</td>\n",
       "      <td>9563</td>\n",
       "      <td>1.384309</td>\n",
       "    </tr>\n",
       "    <tr>\n",
       "      <th>4</th>\n",
       "      <td>[infection, infect, immune, viral, hpv, hcv, p...</td>\n",
       "      <td>0.713201</td>\n",
       "      <td>0.154076</td>\n",
       "      <td>0.001173</td>\n",
       "      <td>0.000000e+00</td>\n",
       "      <td>236715.0</td>\n",
       "      <td>34.266098</td>\n",
       "      <td>15936</td>\n",
       "      <td>2.306844</td>\n",
       "    </tr>\n",
       "  </tbody>\n",
       "</table>\n",
       "</div>"
      ],
      "text/plain": [
       "                                         topic_words  coherence_mean  \\\n",
       "0  [cell, differentiation, cellular, antigen, cul...        0.615038   \n",
       "1  [student, undergraduate, graduate, college, fa...        0.881729   \n",
       "2  [cancer, nci, pancreatic, member, ovarian, pre...        0.662256   \n",
       "3  [hiv, aids, infect, prevention, cfar, antiretr...        0.770968   \n",
       "4  [infection, infect, immune, viral, hpv, hcv, p...        0.713201   \n",
       "\n",
       "   coherence_stdev  avg_weight_in_corpus  med_weight_in_corpus  \\\n",
       "0         0.108656              0.000502          1.968816e-07   \n",
       "1         0.051303              0.001211          0.000000e+00   \n",
       "2         0.151528              0.001800          0.000000e+00   \n",
       "3         0.148324              0.000582          0.000000e+00   \n",
       "4         0.154076              0.001173          0.000000e+00   \n",
       "\n",
       "   num_docs_containing_topic  percent_docs_containing_topic  \\\n",
       "0                   346034.0                      50.090762   \n",
       "1                   217644.0                      31.505441   \n",
       "2                   251421.0                      36.394891   \n",
       "3                   216121.0                      31.284977   \n",
       "4                   236715.0                      34.266098   \n",
       "\n",
       "   num_times_max_topic  percent_times_max_topic  \n",
       "0                  767                 0.111028  \n",
       "1                17352                 2.511819  \n",
       "2                24706                 3.576361  \n",
       "3                 9563                 1.384309  \n",
       "4                15936                 2.306844  "
      ]
     },
     "execution_count": 18,
     "metadata": {},
     "output_type": "execute_result"
    }
   ],
   "source": [
    "nmf_output.head()"
   ]
  },
  {
   "cell_type": "code",
   "execution_count": 19,
   "metadata": {},
   "outputs": [],
   "source": [
    "# save to file\n",
    "#pickle.dump([doc_topic, topic_term, nmf_output], open('nmf_tuning/full/nmf_100.sav','wb'))\n",
    "\n",
    "nmf_output.to_csv('full_nmf_results.csv', index=False)"
   ]
  },
  {
   "cell_type": "code",
   "execution_count": null,
   "metadata": {},
   "outputs": [],
   "source": []
  },
  {
   "cell_type": "code",
   "execution_count": null,
   "metadata": {},
   "outputs": [],
   "source": []
  },
  {
   "cell_type": "code",
   "execution_count": 20,
   "metadata": {},
   "outputs": [],
   "source": [
    "# check if old results equal these results\n",
    "\n",
    "old_results = pd.read_csv(\"nmf_df.csv\")   \n",
    "# this file is in emerging_topics/emerging_topics/topic_model_tuning/results"
   ]
  },
  {
   "cell_type": "code",
   "execution_count": 21,
   "metadata": {},
   "outputs": [
    {
     "data": {
      "text/plain": [
       "False"
      ]
     },
     "execution_count": 21,
     "metadata": {},
     "output_type": "execute_result"
    }
   ],
   "source": [
    "nmf_output.equals(old_results)"
   ]
  },
  {
   "cell_type": "code",
   "execution_count": 27,
   "metadata": {},
   "outputs": [
    {
     "data": {
      "text/html": [
       "<div>\n",
       "<style scoped>\n",
       "    .dataframe tbody tr th:only-of-type {\n",
       "        vertical-align: middle;\n",
       "    }\n",
       "\n",
       "    .dataframe tbody tr th {\n",
       "        vertical-align: top;\n",
       "    }\n",
       "\n",
       "    .dataframe thead th {\n",
       "        text-align: right;\n",
       "    }\n",
       "</style>\n",
       "<table border=\"1\" class=\"dataframe\">\n",
       "  <thead>\n",
       "    <tr style=\"text-align: right;\">\n",
       "      <th></th>\n",
       "      <th>topic_words</th>\n",
       "      <th>coherence_mean</th>\n",
       "      <th>coherence_stdev</th>\n",
       "      <th>avg_weight_in_corpus</th>\n",
       "      <th>med_weight_in_corpus</th>\n",
       "      <th>num_docs_containing_topic</th>\n",
       "      <th>percent_docs_containing_topic</th>\n",
       "      <th>num_times_max_topic</th>\n",
       "      <th>percent_times_max_topic</th>\n",
       "    </tr>\n",
       "  </thead>\n",
       "  <tbody>\n",
       "    <tr>\n",
       "      <th>6</th>\n",
       "      <td>[administrative, scientific, meeting, coordina...</td>\n",
       "      <td>0.812359</td>\n",
       "      <td>0.063807</td>\n",
       "      <td>0.001109</td>\n",
       "      <td>0.0</td>\n",
       "      <td>282238.0</td>\n",
       "      <td>40.855860</td>\n",
       "      <td>14409</td>\n",
       "      <td>2.085800</td>\n",
       "    </tr>\n",
       "    <tr>\n",
       "      <th>9</th>\n",
       "      <td>[protein, membrane, bind, interaction, structu...</td>\n",
       "      <td>0.634499</td>\n",
       "      <td>0.086340</td>\n",
       "      <td>0.001781</td>\n",
       "      <td>0.0</td>\n",
       "      <td>313880.0</td>\n",
       "      <td>45.436253</td>\n",
       "      <td>30280</td>\n",
       "      <td>4.383235</td>\n",
       "    </tr>\n",
       "    <tr>\n",
       "      <th>30</th>\n",
       "      <td>[breast, cancer, er, metastasis, estrogen, her...</td>\n",
       "      <td>0.837503</td>\n",
       "      <td>0.062180</td>\n",
       "      <td>0.000592</td>\n",
       "      <td>0.0</td>\n",
       "      <td>183161.0</td>\n",
       "      <td>26.513794</td>\n",
       "      <td>7475</td>\n",
       "      <td>1.082057</td>\n",
       "    </tr>\n",
       "    <tr>\n",
       "      <th>38</th>\n",
       "      <td>[dr, director, career, mentor, award, independ...</td>\n",
       "      <td>0.781606</td>\n",
       "      <td>0.092007</td>\n",
       "      <td>0.000797</td>\n",
       "      <td>0.0</td>\n",
       "      <td>221631.0</td>\n",
       "      <td>32.082587</td>\n",
       "      <td>8628</td>\n",
       "      <td>1.248961</td>\n",
       "    </tr>\n",
       "    <tr>\n",
       "      <th>45</th>\n",
       "      <td>[stem, hsc, hematopoietic, progenitor, college...</td>\n",
       "      <td>0.456995</td>\n",
       "      <td>0.204592</td>\n",
       "      <td>0.000794</td>\n",
       "      <td>0.0</td>\n",
       "      <td>222035.0</td>\n",
       "      <td>32.141068</td>\n",
       "      <td>10000</td>\n",
       "      <td>1.447568</td>\n",
       "    </tr>\n",
       "    <tr>\n",
       "      <th>57</th>\n",
       "      <td>[animal, human, testing, contract, product, sm...</td>\n",
       "      <td>0.400554</td>\n",
       "      <td>0.080745</td>\n",
       "      <td>0.001066</td>\n",
       "      <td>0.0</td>\n",
       "      <td>295836.0</td>\n",
       "      <td>42.824262</td>\n",
       "      <td>9467</td>\n",
       "      <td>1.370412</td>\n",
       "    </tr>\n",
       "  </tbody>\n",
       "</table>\n",
       "</div>"
      ],
      "text/plain": [
       "                                          topic_words  coherence_mean  \\\n",
       "6   [administrative, scientific, meeting, coordina...        0.812359   \n",
       "9   [protein, membrane, bind, interaction, structu...        0.634499   \n",
       "30  [breast, cancer, er, metastasis, estrogen, her...        0.837503   \n",
       "38  [dr, director, career, mentor, award, independ...        0.781606   \n",
       "45  [stem, hsc, hematopoietic, progenitor, college...        0.456995   \n",
       "57  [animal, human, testing, contract, product, sm...        0.400554   \n",
       "\n",
       "    coherence_stdev  avg_weight_in_corpus  med_weight_in_corpus  \\\n",
       "6          0.063807              0.001109                   0.0   \n",
       "9          0.086340              0.001781                   0.0   \n",
       "30         0.062180              0.000592                   0.0   \n",
       "38         0.092007              0.000797                   0.0   \n",
       "45         0.204592              0.000794                   0.0   \n",
       "57         0.080745              0.001066                   0.0   \n",
       "\n",
       "    num_docs_containing_topic  percent_docs_containing_topic  \\\n",
       "6                    282238.0                      40.855860   \n",
       "9                    313880.0                      45.436253   \n",
       "30                   183161.0                      26.513794   \n",
       "38                   221631.0                      32.082587   \n",
       "45                   222035.0                      32.141068   \n",
       "57                   295836.0                      42.824262   \n",
       "\n",
       "    num_times_max_topic  percent_times_max_topic  \n",
       "6                 14409                 2.085800  \n",
       "9                 30280                 4.383235  \n",
       "30                 7475                 1.082057  \n",
       "38                 8628                 1.248961  \n",
       "45                10000                 1.447568  \n",
       "57                 9467                 1.370412  "
      ]
     },
     "execution_count": 27,
     "metadata": {},
     "output_type": "execute_result"
    }
   ],
   "source": [
    "nmf_output[nmf_output['coherence_mean'] != old_results['coherence_mean']]"
   ]
  },
  {
   "cell_type": "code",
   "execution_count": 29,
   "metadata": {},
   "outputs": [
    {
     "data": {
      "text/plain": [
       "topic_words                      [administrative, scientific, meeting, coordina...\n",
       "coherence_mean                                                            0.812359\n",
       "coherence_stdev                                                          0.0638069\n",
       "avg_weight_in_corpus                                                    0.00110878\n",
       "med_weight_in_corpus                                                             0\n",
       "num_docs_containing_topic                                                   282238\n",
       "percent_docs_containing_topic                                              40.8559\n",
       "num_times_max_topic                                                          14409\n",
       "percent_times_max_topic                                                     2.0858\n",
       "Name: 6, dtype: object"
      ]
     },
     "execution_count": 29,
     "metadata": {},
     "output_type": "execute_result"
    }
   ],
   "source": [
    "nmf_output.iloc[6,:]"
   ]
  },
  {
   "cell_type": "code",
   "execution_count": 30,
   "metadata": {},
   "outputs": [
    {
     "data": {
      "text/plain": [
       "topic_words                      ['administrative', 'scientific', 'meeting', 'c...\n",
       "coherence_mean                                                            0.812359\n",
       "coherence_stdev                                                          0.0638069\n",
       "avg_weight_in_corpus                                                    0.00110878\n",
       "med_weight_in_corpus                                                             0\n",
       "num_docs_containing_topic                                                   282238\n",
       "percent_docs_containing_topic                                              40.8559\n",
       "num_times_max_topic                                                          14409\n",
       "percent_times_max_topic                                                     2.0858\n",
       "Name: 6, dtype: object"
      ]
     },
     "execution_count": 30,
     "metadata": {},
     "output_type": "execute_result"
    }
   ],
   "source": [
    "old_results.iloc[6,:]"
   ]
  },
  {
   "cell_type": "code",
   "execution_count": null,
   "metadata": {},
   "outputs": [],
   "source": []
  },
  {
   "cell_type": "code",
   "execution_count": null,
   "metadata": {},
   "outputs": [],
   "source": []
  },
  {
   "cell_type": "code",
   "execution_count": 31,
   "metadata": {},
   "outputs": [],
   "source": [
    "# getting false bc I was comparing to just calculated dataframe, not saved csv file\n",
    "# must have been something about rounding\n",
    "\n",
    "new_results = pd.read_csv(\"full_nmf_results.csv\")"
   ]
  },
  {
   "cell_type": "code",
   "execution_count": 32,
   "metadata": {},
   "outputs": [
    {
     "data": {
      "text/plain": [
       "True"
      ]
     },
     "execution_count": 32,
     "metadata": {},
     "output_type": "execute_result"
    }
   ],
   "source": [
    "new_results.equals(old_results)"
   ]
  },
  {
   "cell_type": "code",
   "execution_count": null,
   "metadata": {},
   "outputs": [],
   "source": []
  }
 ],
 "metadata": {
  "kernelspec": {
   "display_name": "Python 3",
   "language": "python",
   "name": "python3"
  },
  "language_info": {
   "codemirror_mode": {
    "name": "ipython",
    "version": 3
   },
   "file_extension": ".py",
   "mimetype": "text/x-python",
   "name": "python",
   "nbconvert_exporter": "python",
   "pygments_lexer": "ipython3",
   "version": "3.8.8"
  }
 },
 "nbformat": 4,
 "nbformat_minor": 4
}
