{
 "cells": [
  {
   "cell_type": "markdown",
   "metadata": {},
   "source": [
    "## Package up topic model results to make figures and tables"
   ]
  },
  {
   "cell_type": "code",
   "execution_count": 1,
   "metadata": {},
   "outputs": [],
   "source": [
    "import pandas as pd\n",
    "import numpy as np\n",
    "import pickle\n",
    "import matplotlib.pyplot as plt\n",
    "import gensim\n",
    "import time\n",
    "\n",
    "from sklearn.decomposition import NMF, TruncatedSVD, LatentDirichletAllocation\n",
    "from sklearn.feature_extraction.text import CountVectorizer\n",
    "\n",
    "from sklearn.feature_extraction.text import TfidfVectorizer\n",
    "\n",
    "from gensim.models.coherencemodel import CoherenceModel"
   ]
  },
  {
   "cell_type": "code",
   "execution_count": 2,
   "metadata": {},
   "outputs": [],
   "source": [
    "# function slightly modified from https://nlpforhackers.io/topic-modeling/\n",
    "\n",
    "def print_topics(topic_term_mat, vectorizer, top_n=10):\n",
    "    for idx, topic in enumerate(topic_term_mat):  # loop through each row of H.  idx = row index.  topic = actual row\n",
    "        print(\"\\nTopic %d:\" % (idx))\n",
    "        #print([(vectorizer.get_feature_names()[i], topic[i])  # printing out words corresponding to indices found in next line\n",
    "                        #for i in topic.argsort()[:-top_n - 1:-1]])  # finding indices of top words in topic\n",
    "            \n",
    "        print_list = [(vectorizer.get_feature_names()[i], topic[i])  \n",
    "                        for i in topic.argsort()[:-top_n - 1:-1]]\n",
    "        for item in print_list:\n",
    "            print(item)"
   ]
  },
  {
   "cell_type": "code",
   "execution_count": 3,
   "metadata": {},
   "outputs": [],
   "source": [
    "def list_topics(topic_term_mat, vectorizer, top_n=10):\n",
    "\n",
    "    #input. top_n: how many words to list per topic.  If -1, then list all words.\n",
    "       \n",
    "    topic_words = []\n",
    "    \n",
    "    for idx, topic in enumerate(topic_term_mat):  # loop through each row of H.  idx = row index.  topic = actual row\n",
    "            \n",
    "        if top_n == -1:   \n",
    "            topic_words.append([vectorizer.get_feature_names()[i] for i in topic.argsort()[::-1]])\n",
    "        else:\n",
    "            topic_words.append([vectorizer.get_feature_names()[i] for i in topic.argsort()[:-top_n - 1:-1]])\n",
    "        \n",
    "    return topic_words"
   ]
  },
  {
   "cell_type": "code",
   "execution_count": 4,
   "metadata": {},
   "outputs": [],
   "source": [
    "f = open('../model_selection/coherence_vars.sav', 'rb')\n",
    "[id2word, docs] = pickle.load(f)\n",
    "f.close()"
   ]
  },
  {
   "cell_type": "code",
   "execution_count": null,
   "metadata": {},
   "outputs": [],
   "source": []
  },
  {
   "cell_type": "code",
   "execution_count": null,
   "metadata": {},
   "outputs": [],
   "source": []
  },
  {
   "cell_type": "code",
   "execution_count": null,
   "metadata": {},
   "outputs": [],
   "source": [
    "# only run these cells to save the topics, except always run middle cell"
   ]
  },
  {
   "cell_type": "code",
   "execution_count": 5,
   "metadata": {},
   "outputs": [],
   "source": [
    "text = []\n",
    "\n",
    "for abstract in docs:\n",
    "    text.append(\" \".join(abstract))"
   ]
  },
  {
   "cell_type": "code",
   "execution_count": 6,
   "metadata": {},
   "outputs": [],
   "source": [
    "# create document-term matrix\n",
    "\n",
    "stop_wds = ['research', 'study', 'project']  # use will be eliminated by max_df\n",
    "\n",
    "tfidf_vectorizer = TfidfVectorizer(max_df=0.6, min_df=20, lowercase=False, stop_words=stop_wds)\n",
    "doc_term_matrix = tfidf_vectorizer.fit_transform(text)"
   ]
  },
  {
   "cell_type": "code",
   "execution_count": null,
   "metadata": {},
   "outputs": [],
   "source": []
  },
  {
   "cell_type": "code",
   "execution_count": 9,
   "metadata": {},
   "outputs": [],
   "source": [
    "num_topics = 200\n",
    "\n",
    "with open(\"/project/biocomplexity/sdad/projects_data/ncses/prd/Tech-Report/nmf_full_200.pkl\", \"rb\") as f:\n",
    "    res = pickle.load(f)\n",
    "    \n",
    "doc_topic = res[0]\n",
    "topic_term = res[1]"
   ]
  },
  {
   "cell_type": "code",
   "execution_count": null,
   "metadata": {},
   "outputs": [],
   "source": []
  },
  {
   "cell_type": "code",
   "execution_count": 8,
   "metadata": {},
   "outputs": [],
   "source": [
    "# create list of topics\n",
    "topics = list_topics(topic_term, tfidf_vectorizer, top_n=10)"
   ]
  },
  {
   "cell_type": "code",
   "execution_count": 9,
   "metadata": {},
   "outputs": [],
   "source": [
    "# save topics\n",
    "\n",
    "with open(\"nmf_full_200_topics.pkl\",\"wb\") as f:\n",
    "    pickle.dump(topics, f)"
   ]
  },
  {
   "cell_type": "code",
   "execution_count": null,
   "metadata": {},
   "outputs": [],
   "source": []
  },
  {
   "cell_type": "code",
   "execution_count": null,
   "metadata": {},
   "outputs": [],
   "source": []
  },
  {
   "cell_type": "code",
   "execution_count": 5,
   "metadata": {},
   "outputs": [],
   "source": [
    "f = open('nmf_full_50_topics.pkl', 'rb')\n",
    "topics = pickle.load(f)\n",
    "f.close()"
   ]
  },
  {
   "cell_type": "code",
   "execution_count": 6,
   "metadata": {},
   "outputs": [
    {
     "name": "stdout",
     "output_type": "stream",
     "text": [
      "0.7164024793963208\n",
      "  Coherence time: 145.60491561889648\n"
     ]
    }
   ],
   "source": [
    "# calculate topic coherence\n",
    "\n",
    "t1 = time.time()\n",
    "cm = CoherenceModel(topics=topics, dictionary=id2word, texts=docs, coherence='c_v', processes=30)  \n",
    "print(cm.get_coherence())\n",
    "t2 = time.time()\n",
    "print(f\"  Coherence time: {t2-t1}\")\n",
    "\n",
    "# 50:   0.7164024793963208, time 146\n",
    "# 100:  0.7140256923571832, time 258\n",
    "# 150:  0.7089132569879217, time 457\n",
    "# 200:  0.7014362320832395, time 579"
   ]
  },
  {
   "cell_type": "code",
   "execution_count": 7,
   "metadata": {},
   "outputs": [],
   "source": [
    "nmf_output = pd.DataFrame(cm.get_coherence_per_topic(with_std=True))\n",
    "nmf_output.insert(0, 'topic_words', topics)\n",
    "nmf_output.columns = ['topic_words', 'coherence_mean', 'coherence_stdev']"
   ]
  },
  {
   "cell_type": "code",
   "execution_count": 8,
   "metadata": {},
   "outputs": [
    {
     "data": {
      "text/html": [
       "<div>\n",
       "<style scoped>\n",
       "    .dataframe tbody tr th:only-of-type {\n",
       "        vertical-align: middle;\n",
       "    }\n",
       "\n",
       "    .dataframe tbody tr th {\n",
       "        vertical-align: top;\n",
       "    }\n",
       "\n",
       "    .dataframe thead th {\n",
       "        text-align: right;\n",
       "    }\n",
       "</style>\n",
       "<table border=\"1\" class=\"dataframe\">\n",
       "  <thead>\n",
       "    <tr style=\"text-align: right;\">\n",
       "      <th></th>\n",
       "      <th>topic_words</th>\n",
       "      <th>coherence_mean</th>\n",
       "      <th>coherence_stdev</th>\n",
       "    </tr>\n",
       "  </thead>\n",
       "  <tbody>\n",
       "    <tr>\n",
       "      <th>0</th>\n",
       "      <td>[new, development, develop, discovery, approac...</td>\n",
       "      <td>0.461889</td>\n",
       "      <td>0.065752</td>\n",
       "    </tr>\n",
       "    <tr>\n",
       "      <th>1</th>\n",
       "      <td>[program, member, department, theme, evaluatio...</td>\n",
       "      <td>0.645525</td>\n",
       "      <td>0.122956</td>\n",
       "    </tr>\n",
       "    <tr>\n",
       "      <th>2</th>\n",
       "      <td>[core, provide, personnel, ppg, ensure, assist...</td>\n",
       "      <td>0.676987</td>\n",
       "      <td>0.105412</td>\n",
       "    </tr>\n",
       "    <tr>\n",
       "      <th>3</th>\n",
       "      <td>[treatment, therapy, effective, efficacy, outc...</td>\n",
       "      <td>0.587592</td>\n",
       "      <td>0.132792</td>\n",
       "    </tr>\n",
       "    <tr>\n",
       "      <th>4</th>\n",
       "      <td>[cancer, nci, pancreatic, ovarian, member, col...</td>\n",
       "      <td>0.678605</td>\n",
       "      <td>0.142110</td>\n",
       "    </tr>\n",
       "  </tbody>\n",
       "</table>\n",
       "</div>"
      ],
      "text/plain": [
       "                                         topic_words  coherence_mean  \\\n",
       "0  [new, development, develop, discovery, approac...        0.461889   \n",
       "1  [program, member, department, theme, evaluatio...        0.645525   \n",
       "2  [core, provide, personnel, ppg, ensure, assist...        0.676987   \n",
       "3  [treatment, therapy, effective, efficacy, outc...        0.587592   \n",
       "4  [cancer, nci, pancreatic, ovarian, member, col...        0.678605   \n",
       "\n",
       "   coherence_stdev  \n",
       "0         0.065752  \n",
       "1         0.122956  \n",
       "2         0.105412  \n",
       "3         0.132792  \n",
       "4         0.142110  "
      ]
     },
     "execution_count": 8,
     "metadata": {},
     "output_type": "execute_result"
    }
   ],
   "source": [
    "nmf_output.head()"
   ]
  },
  {
   "cell_type": "code",
   "execution_count": 10,
   "metadata": {},
   "outputs": [],
   "source": [
    "doc_topic_df = pd.DataFrame(data=doc_topic.copy())\n",
    "nmf_output[\"avg_weight_in_corpus\"] = doc_topic_df.mean(axis=0)\n",
    "nmf_output[\"med_weight_in_corpus\"] = doc_topic_df.median(axis=0)"
   ]
  },
  {
   "cell_type": "code",
   "execution_count": 11,
   "metadata": {},
   "outputs": [],
   "source": [
    "# create a column for the number of documents that contain a topic\n",
    "doc_topic_bool = pd.DataFrame(data=doc_topic.copy())\n",
    "doc_topic_bool[doc_topic_bool > 0] = 1 "
   ]
  },
  {
   "cell_type": "code",
   "execution_count": 12,
   "metadata": {},
   "outputs": [],
   "source": [
    "nmf_output[\"num_docs_containing_topic\"] = doc_topic_bool.sum(axis=0)\n",
    "nmf_output[\"percent_docs_containing_topic\"] = 100*(nmf_output[\"num_docs_containing_topic\"]/doc_topic.shape[0])"
   ]
  },
  {
   "cell_type": "code",
   "execution_count": 13,
   "metadata": {},
   "outputs": [],
   "source": [
    "# find the dominant topic per document\n",
    "max_topic = doc_topic_df.idxmax(axis=1)"
   ]
  },
  {
   "cell_type": "code",
   "execution_count": 14,
   "metadata": {},
   "outputs": [
    {
     "data": {
      "text/html": [
       "<div>\n",
       "<style scoped>\n",
       "    .dataframe tbody tr th:only-of-type {\n",
       "        vertical-align: middle;\n",
       "    }\n",
       "\n",
       "    .dataframe tbody tr th {\n",
       "        vertical-align: top;\n",
       "    }\n",
       "\n",
       "    .dataframe thead th {\n",
       "        text-align: right;\n",
       "    }\n",
       "</style>\n",
       "<table border=\"1\" class=\"dataframe\">\n",
       "  <thead>\n",
       "    <tr style=\"text-align: right;\">\n",
       "      <th></th>\n",
       "      <th>0</th>\n",
       "      <th>1</th>\n",
       "      <th>2</th>\n",
       "      <th>3</th>\n",
       "      <th>4</th>\n",
       "      <th>5</th>\n",
       "      <th>6</th>\n",
       "      <th>7</th>\n",
       "      <th>8</th>\n",
       "      <th>9</th>\n",
       "      <th>...</th>\n",
       "      <th>190</th>\n",
       "      <th>191</th>\n",
       "      <th>192</th>\n",
       "      <th>193</th>\n",
       "      <th>194</th>\n",
       "      <th>195</th>\n",
       "      <th>196</th>\n",
       "      <th>197</th>\n",
       "      <th>198</th>\n",
       "      <th>199</th>\n",
       "    </tr>\n",
       "  </thead>\n",
       "  <tbody>\n",
       "    <tr>\n",
       "      <th>0</th>\n",
       "      <td>0.003327</td>\n",
       "      <td>0.000000</td>\n",
       "      <td>0.001449</td>\n",
       "      <td>0.000000</td>\n",
       "      <td>0.0</td>\n",
       "      <td>0.000000</td>\n",
       "      <td>0.001549</td>\n",
       "      <td>0.0</td>\n",
       "      <td>0.000000</td>\n",
       "      <td>0.000000</td>\n",
       "      <td>...</td>\n",
       "      <td>0.0</td>\n",
       "      <td>0.0</td>\n",
       "      <td>0.0</td>\n",
       "      <td>0.000000</td>\n",
       "      <td>0.000000</td>\n",
       "      <td>0.000000</td>\n",
       "      <td>0.000538</td>\n",
       "      <td>0.016298</td>\n",
       "      <td>0.000000</td>\n",
       "      <td>0.000000</td>\n",
       "    </tr>\n",
       "    <tr>\n",
       "      <th>1</th>\n",
       "      <td>0.012865</td>\n",
       "      <td>0.000000</td>\n",
       "      <td>0.000037</td>\n",
       "      <td>0.000000</td>\n",
       "      <td>0.0</td>\n",
       "      <td>0.000000</td>\n",
       "      <td>0.000000</td>\n",
       "      <td>0.0</td>\n",
       "      <td>0.000080</td>\n",
       "      <td>0.000000</td>\n",
       "      <td>...</td>\n",
       "      <td>0.0</td>\n",
       "      <td>0.0</td>\n",
       "      <td>0.0</td>\n",
       "      <td>0.000462</td>\n",
       "      <td>0.004259</td>\n",
       "      <td>0.000000</td>\n",
       "      <td>0.000000</td>\n",
       "      <td>0.000000</td>\n",
       "      <td>0.000000</td>\n",
       "      <td>0.007231</td>\n",
       "    </tr>\n",
       "    <tr>\n",
       "      <th>2</th>\n",
       "      <td>0.003901</td>\n",
       "      <td>0.001176</td>\n",
       "      <td>0.000000</td>\n",
       "      <td>0.000000</td>\n",
       "      <td>0.0</td>\n",
       "      <td>0.000000</td>\n",
       "      <td>0.000000</td>\n",
       "      <td>0.0</td>\n",
       "      <td>0.000000</td>\n",
       "      <td>0.000000</td>\n",
       "      <td>...</td>\n",
       "      <td>0.0</td>\n",
       "      <td>0.0</td>\n",
       "      <td>0.0</td>\n",
       "      <td>0.000000</td>\n",
       "      <td>0.008670</td>\n",
       "      <td>0.000000</td>\n",
       "      <td>0.000000</td>\n",
       "      <td>0.000000</td>\n",
       "      <td>0.000000</td>\n",
       "      <td>0.000164</td>\n",
       "    </tr>\n",
       "    <tr>\n",
       "      <th>3</th>\n",
       "      <td>0.001322</td>\n",
       "      <td>0.001154</td>\n",
       "      <td>0.000000</td>\n",
       "      <td>0.000191</td>\n",
       "      <td>0.0</td>\n",
       "      <td>0.000145</td>\n",
       "      <td>0.000000</td>\n",
       "      <td>0.0</td>\n",
       "      <td>0.000000</td>\n",
       "      <td>0.000000</td>\n",
       "      <td>...</td>\n",
       "      <td>0.0</td>\n",
       "      <td>0.0</td>\n",
       "      <td>0.0</td>\n",
       "      <td>0.000455</td>\n",
       "      <td>0.000000</td>\n",
       "      <td>0.000000</td>\n",
       "      <td>0.000000</td>\n",
       "      <td>0.000000</td>\n",
       "      <td>0.000000</td>\n",
       "      <td>0.000000</td>\n",
       "    </tr>\n",
       "    <tr>\n",
       "      <th>4</th>\n",
       "      <td>0.001637</td>\n",
       "      <td>0.001618</td>\n",
       "      <td>0.000037</td>\n",
       "      <td>0.000000</td>\n",
       "      <td>0.0</td>\n",
       "      <td>0.000000</td>\n",
       "      <td>0.000000</td>\n",
       "      <td>0.0</td>\n",
       "      <td>0.000112</td>\n",
       "      <td>0.000005</td>\n",
       "      <td>...</td>\n",
       "      <td>0.0</td>\n",
       "      <td>0.0</td>\n",
       "      <td>0.0</td>\n",
       "      <td>0.001055</td>\n",
       "      <td>0.000692</td>\n",
       "      <td>0.002164</td>\n",
       "      <td>0.000000</td>\n",
       "      <td>0.000279</td>\n",
       "      <td>0.001866</td>\n",
       "      <td>0.001445</td>\n",
       "    </tr>\n",
       "  </tbody>\n",
       "</table>\n",
       "<p>5 rows × 200 columns</p>\n",
       "</div>"
      ],
      "text/plain": [
       "        0         1         2         3    4         5         6    7    \\\n",
       "0  0.003327  0.000000  0.001449  0.000000  0.0  0.000000  0.001549  0.0   \n",
       "1  0.012865  0.000000  0.000037  0.000000  0.0  0.000000  0.000000  0.0   \n",
       "2  0.003901  0.001176  0.000000  0.000000  0.0  0.000000  0.000000  0.0   \n",
       "3  0.001322  0.001154  0.000000  0.000191  0.0  0.000145  0.000000  0.0   \n",
       "4  0.001637  0.001618  0.000037  0.000000  0.0  0.000000  0.000000  0.0   \n",
       "\n",
       "        8         9    ...  190  191  192       193       194       195  \\\n",
       "0  0.000000  0.000000  ...  0.0  0.0  0.0  0.000000  0.000000  0.000000   \n",
       "1  0.000080  0.000000  ...  0.0  0.0  0.0  0.000462  0.004259  0.000000   \n",
       "2  0.000000  0.000000  ...  0.0  0.0  0.0  0.000000  0.008670  0.000000   \n",
       "3  0.000000  0.000000  ...  0.0  0.0  0.0  0.000455  0.000000  0.000000   \n",
       "4  0.000112  0.000005  ...  0.0  0.0  0.0  0.001055  0.000692  0.002164   \n",
       "\n",
       "        196       197       198       199  \n",
       "0  0.000538  0.016298  0.000000  0.000000  \n",
       "1  0.000000  0.000000  0.000000  0.007231  \n",
       "2  0.000000  0.000000  0.000000  0.000164  \n",
       "3  0.000000  0.000000  0.000000  0.000000  \n",
       "4  0.000000  0.000279  0.001866  0.001445  \n",
       "\n",
       "[5 rows x 200 columns]"
      ]
     },
     "execution_count": 14,
     "metadata": {},
     "output_type": "execute_result"
    }
   ],
   "source": [
    "doc_topic_df.head()"
   ]
  },
  {
   "cell_type": "code",
   "execution_count": 15,
   "metadata": {},
   "outputs": [
    {
     "data": {
      "text/plain": [
       "0         197\n",
       "1           0\n",
       "2          15\n",
       "3         156\n",
       "4         145\n",
       "         ... \n",
       "696088    169\n",
       "696089    176\n",
       "696090    176\n",
       "696091    184\n",
       "696092     11\n",
       "Length: 696093, dtype: int64"
      ]
     },
     "execution_count": 15,
     "metadata": {},
     "output_type": "execute_result"
    }
   ],
   "source": [
    "max_topic"
   ]
  },
  {
   "cell_type": "code",
   "execution_count": 16,
   "metadata": {},
   "outputs": [],
   "source": [
    "nmf_output[\"num_times_max_topic\"] = max_topic.value_counts()\n",
    "nmf_output[\"percent_times_max_topic\"] = 100*(nmf_output[\"num_times_max_topic\"]/doc_topic.shape[0])"
   ]
  },
  {
   "cell_type": "code",
   "execution_count": 17,
   "metadata": {},
   "outputs": [
    {
     "data": {
      "text/html": [
       "<div>\n",
       "<style scoped>\n",
       "    .dataframe tbody tr th:only-of-type {\n",
       "        vertical-align: middle;\n",
       "    }\n",
       "\n",
       "    .dataframe tbody tr th {\n",
       "        vertical-align: top;\n",
       "    }\n",
       "\n",
       "    .dataframe thead th {\n",
       "        text-align: right;\n",
       "    }\n",
       "</style>\n",
       "<table border=\"1\" class=\"dataframe\">\n",
       "  <thead>\n",
       "    <tr style=\"text-align: right;\">\n",
       "      <th></th>\n",
       "      <th>topic_words</th>\n",
       "      <th>coherence_mean</th>\n",
       "      <th>coherence_stdev</th>\n",
       "      <th>avg_weight_in_corpus</th>\n",
       "      <th>med_weight_in_corpus</th>\n",
       "      <th>num_docs_containing_topic</th>\n",
       "      <th>percent_docs_containing_topic</th>\n",
       "      <th>num_times_max_topic</th>\n",
       "      <th>percent_times_max_topic</th>\n",
       "    </tr>\n",
       "  </thead>\n",
       "  <tbody>\n",
       "    <tr>\n",
       "      <th>0</th>\n",
       "      <td>[new, development, develop, discovery, approac...</td>\n",
       "      <td>0.461889</td>\n",
       "      <td>0.065752</td>\n",
       "      <td>0.003973</td>\n",
       "      <td>0.000998</td>\n",
       "      <td>447505.0</td>\n",
       "      <td>64.288105</td>\n",
       "      <td>76880.0</td>\n",
       "      <td>11.044501</td>\n",
       "    </tr>\n",
       "    <tr>\n",
       "      <th>1</th>\n",
       "      <td>[program, member, department, theme, evaluatio...</td>\n",
       "      <td>0.645525</td>\n",
       "      <td>0.122956</td>\n",
       "      <td>0.000505</td>\n",
       "      <td>0.000000</td>\n",
       "      <td>312199.0</td>\n",
       "      <td>44.850185</td>\n",
       "      <td>2734.0</td>\n",
       "      <td>0.392764</td>\n",
       "    </tr>\n",
       "    <tr>\n",
       "      <th>2</th>\n",
       "      <td>[core, provide, personnel, ppg, ensure, assist...</td>\n",
       "      <td>0.676987</td>\n",
       "      <td>0.105412</td>\n",
       "      <td>0.001229</td>\n",
       "      <td>0.000000</td>\n",
       "      <td>266806.0</td>\n",
       "      <td>38.329074</td>\n",
       "      <td>28288.0</td>\n",
       "      <td>4.063825</td>\n",
       "    </tr>\n",
       "    <tr>\n",
       "      <th>3</th>\n",
       "      <td>[treatment, therapy, effective, efficacy, outc...</td>\n",
       "      <td>0.587592</td>\n",
       "      <td>0.132792</td>\n",
       "      <td>0.000321</td>\n",
       "      <td>0.000000</td>\n",
       "      <td>325644.0</td>\n",
       "      <td>46.781680</td>\n",
       "      <td>824.0</td>\n",
       "      <td>0.118375</td>\n",
       "    </tr>\n",
       "    <tr>\n",
       "      <th>4</th>\n",
       "      <td>[cancer, nci, pancreatic, ovarian, member, col...</td>\n",
       "      <td>0.678605</td>\n",
       "      <td>0.142110</td>\n",
       "      <td>0.000854</td>\n",
       "      <td>0.000000</td>\n",
       "      <td>223328.0</td>\n",
       "      <td>32.083069</td>\n",
       "      <td>14491.0</td>\n",
       "      <td>2.081762</td>\n",
       "    </tr>\n",
       "  </tbody>\n",
       "</table>\n",
       "</div>"
      ],
      "text/plain": [
       "                                         topic_words  coherence_mean  \\\n",
       "0  [new, development, develop, discovery, approac...        0.461889   \n",
       "1  [program, member, department, theme, evaluatio...        0.645525   \n",
       "2  [core, provide, personnel, ppg, ensure, assist...        0.676987   \n",
       "3  [treatment, therapy, effective, efficacy, outc...        0.587592   \n",
       "4  [cancer, nci, pancreatic, ovarian, member, col...        0.678605   \n",
       "\n",
       "   coherence_stdev  avg_weight_in_corpus  med_weight_in_corpus  \\\n",
       "0         0.065752              0.003973              0.000998   \n",
       "1         0.122956              0.000505              0.000000   \n",
       "2         0.105412              0.001229              0.000000   \n",
       "3         0.132792              0.000321              0.000000   \n",
       "4         0.142110              0.000854              0.000000   \n",
       "\n",
       "   num_docs_containing_topic  percent_docs_containing_topic  \\\n",
       "0                   447505.0                      64.288105   \n",
       "1                   312199.0                      44.850185   \n",
       "2                   266806.0                      38.329074   \n",
       "3                   325644.0                      46.781680   \n",
       "4                   223328.0                      32.083069   \n",
       "\n",
       "   num_times_max_topic  percent_times_max_topic  \n",
       "0              76880.0                11.044501  \n",
       "1               2734.0                 0.392764  \n",
       "2              28288.0                 4.063825  \n",
       "3                824.0                 0.118375  \n",
       "4              14491.0                 2.081762  "
      ]
     },
     "execution_count": 17,
     "metadata": {},
     "output_type": "execute_result"
    }
   ],
   "source": [
    "nmf_output.head()"
   ]
  },
  {
   "cell_type": "code",
   "execution_count": 18,
   "metadata": {},
   "outputs": [],
   "source": [
    "# save to file\n",
    "\n",
    "nmf_output.to_csv('../CSVs/nmf_200_results.csv', index=False)"
   ]
  },
  {
   "cell_type": "code",
   "execution_count": null,
   "metadata": {},
   "outputs": [],
   "source": []
  },
  {
   "cell_type": "code",
   "execution_count": null,
   "metadata": {},
   "outputs": [],
   "source": []
  },
  {
   "cell_type": "markdown",
   "metadata": {},
   "source": [
    "### Scratch work"
   ]
  },
  {
   "cell_type": "code",
   "execution_count": 20,
   "metadata": {},
   "outputs": [],
   "source": [
    "# check if old results equal these results\n",
    "\n",
    "old_results = pd.read_csv(\"nmf_df.csv\")   \n",
    "# this file is in emerging_topics/emerging_topics/topic_model_tuning/results"
   ]
  },
  {
   "cell_type": "code",
   "execution_count": 21,
   "metadata": {},
   "outputs": [
    {
     "data": {
      "text/plain": [
       "False"
      ]
     },
     "execution_count": 21,
     "metadata": {},
     "output_type": "execute_result"
    }
   ],
   "source": [
    "nmf_output.equals(old_results)"
   ]
  },
  {
   "cell_type": "code",
   "execution_count": 27,
   "metadata": {},
   "outputs": [
    {
     "data": {
      "text/html": [
       "<div>\n",
       "<style scoped>\n",
       "    .dataframe tbody tr th:only-of-type {\n",
       "        vertical-align: middle;\n",
       "    }\n",
       "\n",
       "    .dataframe tbody tr th {\n",
       "        vertical-align: top;\n",
       "    }\n",
       "\n",
       "    .dataframe thead th {\n",
       "        text-align: right;\n",
       "    }\n",
       "</style>\n",
       "<table border=\"1\" class=\"dataframe\">\n",
       "  <thead>\n",
       "    <tr style=\"text-align: right;\">\n",
       "      <th></th>\n",
       "      <th>topic_words</th>\n",
       "      <th>coherence_mean</th>\n",
       "      <th>coherence_stdev</th>\n",
       "      <th>avg_weight_in_corpus</th>\n",
       "      <th>med_weight_in_corpus</th>\n",
       "      <th>num_docs_containing_topic</th>\n",
       "      <th>percent_docs_containing_topic</th>\n",
       "      <th>num_times_max_topic</th>\n",
       "      <th>percent_times_max_topic</th>\n",
       "    </tr>\n",
       "  </thead>\n",
       "  <tbody>\n",
       "    <tr>\n",
       "      <th>6</th>\n",
       "      <td>[administrative, scientific, meeting, coordina...</td>\n",
       "      <td>0.812359</td>\n",
       "      <td>0.063807</td>\n",
       "      <td>0.001109</td>\n",
       "      <td>0.0</td>\n",
       "      <td>282238.0</td>\n",
       "      <td>40.855860</td>\n",
       "      <td>14409</td>\n",
       "      <td>2.085800</td>\n",
       "    </tr>\n",
       "    <tr>\n",
       "      <th>9</th>\n",
       "      <td>[protein, membrane, bind, interaction, structu...</td>\n",
       "      <td>0.634499</td>\n",
       "      <td>0.086340</td>\n",
       "      <td>0.001781</td>\n",
       "      <td>0.0</td>\n",
       "      <td>313880.0</td>\n",
       "      <td>45.436253</td>\n",
       "      <td>30280</td>\n",
       "      <td>4.383235</td>\n",
       "    </tr>\n",
       "    <tr>\n",
       "      <th>30</th>\n",
       "      <td>[breast, cancer, er, metastasis, estrogen, her...</td>\n",
       "      <td>0.837503</td>\n",
       "      <td>0.062180</td>\n",
       "      <td>0.000592</td>\n",
       "      <td>0.0</td>\n",
       "      <td>183161.0</td>\n",
       "      <td>26.513794</td>\n",
       "      <td>7475</td>\n",
       "      <td>1.082057</td>\n",
       "    </tr>\n",
       "    <tr>\n",
       "      <th>38</th>\n",
       "      <td>[dr, director, career, mentor, award, independ...</td>\n",
       "      <td>0.781606</td>\n",
       "      <td>0.092007</td>\n",
       "      <td>0.000797</td>\n",
       "      <td>0.0</td>\n",
       "      <td>221631.0</td>\n",
       "      <td>32.082587</td>\n",
       "      <td>8628</td>\n",
       "      <td>1.248961</td>\n",
       "    </tr>\n",
       "    <tr>\n",
       "      <th>45</th>\n",
       "      <td>[stem, hsc, hematopoietic, progenitor, college...</td>\n",
       "      <td>0.456995</td>\n",
       "      <td>0.204592</td>\n",
       "      <td>0.000794</td>\n",
       "      <td>0.0</td>\n",
       "      <td>222035.0</td>\n",
       "      <td>32.141068</td>\n",
       "      <td>10000</td>\n",
       "      <td>1.447568</td>\n",
       "    </tr>\n",
       "    <tr>\n",
       "      <th>57</th>\n",
       "      <td>[animal, human, testing, contract, product, sm...</td>\n",
       "      <td>0.400554</td>\n",
       "      <td>0.080745</td>\n",
       "      <td>0.001066</td>\n",
       "      <td>0.0</td>\n",
       "      <td>295836.0</td>\n",
       "      <td>42.824262</td>\n",
       "      <td>9467</td>\n",
       "      <td>1.370412</td>\n",
       "    </tr>\n",
       "  </tbody>\n",
       "</table>\n",
       "</div>"
      ],
      "text/plain": [
       "                                          topic_words  coherence_mean  \\\n",
       "6   [administrative, scientific, meeting, coordina...        0.812359   \n",
       "9   [protein, membrane, bind, interaction, structu...        0.634499   \n",
       "30  [breast, cancer, er, metastasis, estrogen, her...        0.837503   \n",
       "38  [dr, director, career, mentor, award, independ...        0.781606   \n",
       "45  [stem, hsc, hematopoietic, progenitor, college...        0.456995   \n",
       "57  [animal, human, testing, contract, product, sm...        0.400554   \n",
       "\n",
       "    coherence_stdev  avg_weight_in_corpus  med_weight_in_corpus  \\\n",
       "6          0.063807              0.001109                   0.0   \n",
       "9          0.086340              0.001781                   0.0   \n",
       "30         0.062180              0.000592                   0.0   \n",
       "38         0.092007              0.000797                   0.0   \n",
       "45         0.204592              0.000794                   0.0   \n",
       "57         0.080745              0.001066                   0.0   \n",
       "\n",
       "    num_docs_containing_topic  percent_docs_containing_topic  \\\n",
       "6                    282238.0                      40.855860   \n",
       "9                    313880.0                      45.436253   \n",
       "30                   183161.0                      26.513794   \n",
       "38                   221631.0                      32.082587   \n",
       "45                   222035.0                      32.141068   \n",
       "57                   295836.0                      42.824262   \n",
       "\n",
       "    num_times_max_topic  percent_times_max_topic  \n",
       "6                 14409                 2.085800  \n",
       "9                 30280                 4.383235  \n",
       "30                 7475                 1.082057  \n",
       "38                 8628                 1.248961  \n",
       "45                10000                 1.447568  \n",
       "57                 9467                 1.370412  "
      ]
     },
     "execution_count": 27,
     "metadata": {},
     "output_type": "execute_result"
    }
   ],
   "source": [
    "nmf_output[nmf_output['coherence_mean'] != old_results['coherence_mean']]"
   ]
  },
  {
   "cell_type": "code",
   "execution_count": 29,
   "metadata": {},
   "outputs": [
    {
     "data": {
      "text/plain": [
       "topic_words                      [administrative, scientific, meeting, coordina...\n",
       "coherence_mean                                                            0.812359\n",
       "coherence_stdev                                                          0.0638069\n",
       "avg_weight_in_corpus                                                    0.00110878\n",
       "med_weight_in_corpus                                                             0\n",
       "num_docs_containing_topic                                                   282238\n",
       "percent_docs_containing_topic                                              40.8559\n",
       "num_times_max_topic                                                          14409\n",
       "percent_times_max_topic                                                     2.0858\n",
       "Name: 6, dtype: object"
      ]
     },
     "execution_count": 29,
     "metadata": {},
     "output_type": "execute_result"
    }
   ],
   "source": [
    "nmf_output.iloc[6,:]"
   ]
  },
  {
   "cell_type": "code",
   "execution_count": 30,
   "metadata": {},
   "outputs": [
    {
     "data": {
      "text/plain": [
       "topic_words                      ['administrative', 'scientific', 'meeting', 'c...\n",
       "coherence_mean                                                            0.812359\n",
       "coherence_stdev                                                          0.0638069\n",
       "avg_weight_in_corpus                                                    0.00110878\n",
       "med_weight_in_corpus                                                             0\n",
       "num_docs_containing_topic                                                   282238\n",
       "percent_docs_containing_topic                                              40.8559\n",
       "num_times_max_topic                                                          14409\n",
       "percent_times_max_topic                                                     2.0858\n",
       "Name: 6, dtype: object"
      ]
     },
     "execution_count": 30,
     "metadata": {},
     "output_type": "execute_result"
    }
   ],
   "source": [
    "old_results.iloc[6,:]"
   ]
  },
  {
   "cell_type": "code",
   "execution_count": null,
   "metadata": {},
   "outputs": [],
   "source": []
  },
  {
   "cell_type": "code",
   "execution_count": null,
   "metadata": {},
   "outputs": [],
   "source": []
  },
  {
   "cell_type": "code",
   "execution_count": 31,
   "metadata": {},
   "outputs": [],
   "source": [
    "# getting false bc I was comparing to just calculated dataframe, not saved csv file\n",
    "# must have been something about rounding\n",
    "\n",
    "new_results = pd.read_csv(\"full_nmf_results.csv\")"
   ]
  },
  {
   "cell_type": "code",
   "execution_count": 32,
   "metadata": {},
   "outputs": [
    {
     "data": {
      "text/plain": [
       "True"
      ]
     },
     "execution_count": 32,
     "metadata": {},
     "output_type": "execute_result"
    }
   ],
   "source": [
    "new_results.equals(old_results)"
   ]
  },
  {
   "cell_type": "code",
   "execution_count": null,
   "metadata": {},
   "outputs": [],
   "source": []
  }
 ],
 "metadata": {
  "kernelspec": {
   "display_name": "Python 3",
   "language": "python",
   "name": "python3"
  },
  "language_info": {
   "codemirror_mode": {
    "name": "ipython",
    "version": 3
   },
   "file_extension": ".py",
   "mimetype": "text/x-python",
   "name": "python",
   "nbconvert_exporter": "python",
   "pygments_lexer": "ipython3",
   "version": "3.8.8"
  }
 },
 "nbformat": 4,
 "nbformat_minor": 4
}
