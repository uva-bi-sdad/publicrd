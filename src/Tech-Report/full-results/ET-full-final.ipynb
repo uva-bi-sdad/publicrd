{
 "cells": [
  {
   "cell_type": "markdown",
   "metadata": {},
   "source": [
    "# Emerging topics final code - Full (new code cleaning)"
   ]
  },
  {
   "cell_type": "code",
   "execution_count": 1,
   "metadata": {},
   "outputs": [
    {
     "name": "stderr",
     "output_type": "stream",
     "text": [
      "/home/eo9tv/.local/lib/python3.8/site-packages/gensim/similarities/__init__.py:15: UserWarning: The gensim.similarities.levenshtein submodule is disabled, because the optional Levenshtein package <https://pypi.org/project/python-Levenshtein/> is unavailable. Install Levenhstein (e.g. `pip install python-Levenshtein`) to suppress this warning.\n",
      "  warnings.warn(msg)\n"
     ]
    }
   ],
   "source": [
    "import pandas as pd\n",
    "pd.set_option('display.max_columns', 50)\n",
    "\n",
    "import numpy as np\n",
    "import pickle\n",
    "import matplotlib.pyplot as plt\n",
    "import gensim\n",
    "import time\n",
    "\n",
    "from sklearn.decomposition import NMF\n",
    "from sklearn.feature_extraction.text import TfidfVectorizer\n",
    "from sklearn.linear_model import LinearRegression as lm\n",
    "\n",
    "import matplotlib.collections as mcol\n",
    "from matplotlib.legend_handler import HandlerLineCollection, HandlerTuple\n",
    "from matplotlib.lines import Line2D\n",
    "\n",
    "import seaborn as sns\n",
    "import os\n",
    "\n",
    "from gensim.models.coherencemodel import CoherenceModel\n",
    "\n",
    "import statsmodels.api as sm"
   ]
  },
  {
   "cell_type": "markdown",
   "metadata": {},
   "source": [
    "## Data ingestion"
   ]
  },
  {
   "cell_type": "code",
   "execution_count": 2,
   "metadata": {},
   "outputs": [],
   "source": [
    "# full corpus\n",
    "df = pd.read_pickle(\"/project/biocomplexity/sdad/projects_data/ncses/prd/Tech-Report/FR_meta_and_final_tokens_21SEPT14.pkl\")"
   ]
  },
  {
   "cell_type": "code",
   "execution_count": 3,
   "metadata": {},
   "outputs": [
    {
     "data": {
      "text/html": [
       "<div>\n",
       "<style scoped>\n",
       "    .dataframe tbody tr th:only-of-type {\n",
       "        vertical-align: middle;\n",
       "    }\n",
       "\n",
       "    .dataframe tbody tr th {\n",
       "        vertical-align: top;\n",
       "    }\n",
       "\n",
       "    .dataframe thead th {\n",
       "        text-align: right;\n",
       "    }\n",
       "</style>\n",
       "<table border=\"1\" class=\"dataframe\">\n",
       "  <thead>\n",
       "    <tr style=\"text-align: right;\">\n",
       "      <th></th>\n",
       "      <th>original index</th>\n",
       "      <th>PROJECT_ID</th>\n",
       "      <th>ABSTRACT</th>\n",
       "      <th>FY</th>\n",
       "      <th>PROJECT_TERMS</th>\n",
       "      <th>PROJECT_TITLE</th>\n",
       "      <th>DEPARTMENT</th>\n",
       "      <th>AGENCY</th>\n",
       "      <th>IC_CENTER</th>\n",
       "      <th>PROJECT_NUMBER</th>\n",
       "      <th>PROJECT_START_DATE</th>\n",
       "      <th>PROJECT_END_DATE</th>\n",
       "      <th>CONTACT_PI_PROJECT_LEADER</th>\n",
       "      <th>OTHER_PIS</th>\n",
       "      <th>CONGRESSIONAL_DISTRICT</th>\n",
       "      <th>DUNS_NUMBER</th>\n",
       "      <th>ORGANIZATION_NAME</th>\n",
       "      <th>ORGANIZATION_CITY</th>\n",
       "      <th>ORGANIZATION_STATE</th>\n",
       "      <th>ORGANIZATION_ZIP</th>\n",
       "      <th>ORGANIZATION_COUNTRY</th>\n",
       "      <th>BUDGET_START_DATE</th>\n",
       "      <th>BUDGET_END_DATE</th>\n",
       "      <th>CFDA_CODE</th>\n",
       "      <th>FY.y</th>\n",
       "      <th>FY_TOTAL_COST</th>\n",
       "      <th>FY_TOTAL_COST_SUB_PROJECTS</th>\n",
       "      <th>ORG_COUNT</th>\n",
       "      <th>PI_COUNT</th>\n",
       "      <th>final_tokens</th>\n",
       "    </tr>\n",
       "  </thead>\n",
       "  <tbody>\n",
       "    <tr>\n",
       "      <th>0</th>\n",
       "      <td>0</td>\n",
       "      <td>89996</td>\n",
       "      <td>This is a project to explore Game-based, Metap...</td>\n",
       "      <td>2008</td>\n",
       "      <td>Achievement; analog; base; Cognitive Science; ...</td>\n",
       "      <td>RUI: CYGAMES: CYBER-ENABLED TEACHING AND LEARN...</td>\n",
       "      <td>NSF</td>\n",
       "      <td>NSF</td>\n",
       "      <td>NaN</td>\n",
       "      <td>0814512</td>\n",
       "      <td>9/15/2008</td>\n",
       "      <td>8/31/2012</td>\n",
       "      <td>REESE, DEBBIE D</td>\n",
       "      <td>CARTER, BEVERLY; WOOD, CHARLES; HITT, BEN</td>\n",
       "      <td>01</td>\n",
       "      <td>068719400</td>\n",
       "      <td>WHEELING JESUIT UNIVERSITY</td>\n",
       "      <td>WHEELING</td>\n",
       "      <td>WV</td>\n",
       "      <td>26003-6243</td>\n",
       "      <td>UNITED STATES</td>\n",
       "      <td>NaN</td>\n",
       "      <td>NaN</td>\n",
       "      <td>47.076</td>\n",
       "      <td>2008</td>\n",
       "      <td>1999467.0</td>\n",
       "      <td>NaN</td>\n",
       "      <td>1</td>\n",
       "      <td>1</td>\n",
       "      <td>[project, explore, game, base, metaphor, enhan...</td>\n",
       "    </tr>\n",
       "    <tr>\n",
       "      <th>1</th>\n",
       "      <td>1</td>\n",
       "      <td>89997</td>\n",
       "      <td>Institution: Franklin Institute Science Museum...</td>\n",
       "      <td>2008</td>\n",
       "      <td>Active Learning; Child; Computer software; des...</td>\n",
       "      <td>ARIEL - AUGMENTED REALITY FOR INTERPRETIVE AND...</td>\n",
       "      <td>NSF</td>\n",
       "      <td>NSF</td>\n",
       "      <td>NaN</td>\n",
       "      <td>0741659</td>\n",
       "      <td>9/15/2008</td>\n",
       "      <td>8/31/2012</td>\n",
       "      <td>SNYDER, STEVEN</td>\n",
       "      <td>ELINICH, KAREN; YOON, SUSAN</td>\n",
       "      <td>02</td>\n",
       "      <td>001741859</td>\n",
       "      <td>FRANKLIN INSTITUTE</td>\n",
       "      <td>PHILADELPHIA</td>\n",
       "      <td>PA</td>\n",
       "      <td>19103-1115</td>\n",
       "      <td>UNITED STATES</td>\n",
       "      <td>NaN</td>\n",
       "      <td>NaN</td>\n",
       "      <td>47.076</td>\n",
       "      <td>2008</td>\n",
       "      <td>1799699.0</td>\n",
       "      <td>NaN</td>\n",
       "      <td>1</td>\n",
       "      <td>1</td>\n",
       "      <td>[institution, franklin_institute, science, mus...</td>\n",
       "    </tr>\n",
       "    <tr>\n",
       "      <th>2</th>\n",
       "      <td>2</td>\n",
       "      <td>89998</td>\n",
       "      <td>Through programs (including small group conver...</td>\n",
       "      <td>2008</td>\n",
       "      <td>Address; Age; Birth; Brain; Caregivers; Child;...</td>\n",
       "      <td>BRIGHTER FUTURES: PUBLIC DELIBERATION ABOUT TH...</td>\n",
       "      <td>NSF</td>\n",
       "      <td>NSF</td>\n",
       "      <td>NaN</td>\n",
       "      <td>0813522</td>\n",
       "      <td>9/15/2008</td>\n",
       "      <td>8/31/2011</td>\n",
       "      <td>FINK, LAURIE KLEINBAUM</td>\n",
       "      <td>CADIGAN, KAREN; ELLENBOGEN, KIRSTEN</td>\n",
       "      <td>04</td>\n",
       "      <td>061451670</td>\n",
       "      <td>SCIENCE MUSEUM OF MINNESOTA</td>\n",
       "      <td>SAINT PAUL</td>\n",
       "      <td>MN</td>\n",
       "      <td>55102-1202</td>\n",
       "      <td>UNITED STATES</td>\n",
       "      <td>NaN</td>\n",
       "      <td>NaN</td>\n",
       "      <td>47.076</td>\n",
       "      <td>2008</td>\n",
       "      <td>1505858.0</td>\n",
       "      <td>NaN</td>\n",
       "      <td>1</td>\n",
       "      <td>1</td>\n",
       "      <td>[program, small, group, conversation, citizen,...</td>\n",
       "    </tr>\n",
       "    <tr>\n",
       "      <th>3</th>\n",
       "      <td>3</td>\n",
       "      <td>89999</td>\n",
       "      <td>In partnership with the American Chemical Soci...</td>\n",
       "      <td>2008</td>\n",
       "      <td>Advanced Development; American; Chemicals; Che...</td>\n",
       "      <td>FOSTERING US-INTERNATIONAL COLLABORATIVE PARTN...</td>\n",
       "      <td>NSF</td>\n",
       "      <td>NSF</td>\n",
       "      <td>NaN</td>\n",
       "      <td>0838627</td>\n",
       "      <td>8/1/2008</td>\n",
       "      <td>12/31/2010</td>\n",
       "      <td>JOST, JOHN W</td>\n",
       "      <td>MILLER, BRADLEY; BOWMAN, KATHERINE</td>\n",
       "      <td>04</td>\n",
       "      <td>009059242</td>\n",
       "      <td>INTERNATIONAL UNION OF PURE AND APPLIED CHEMISTRY</td>\n",
       "      <td>DURHAM</td>\n",
       "      <td>NC</td>\n",
       "      <td>27709-3757</td>\n",
       "      <td>UNITED STATES</td>\n",
       "      <td>NaN</td>\n",
       "      <td>NaN</td>\n",
       "      <td>47.049</td>\n",
       "      <td>2008</td>\n",
       "      <td>51000.0</td>\n",
       "      <td>NaN</td>\n",
       "      <td>1</td>\n",
       "      <td>1</td>\n",
       "      <td>[partnership, american, chemical, society, acs...</td>\n",
       "    </tr>\n",
       "    <tr>\n",
       "      <th>4</th>\n",
       "      <td>5</td>\n",
       "      <td>90001</td>\n",
       "      <td>The Center for Molecular Interfacing (CMI) wil...</td>\n",
       "      <td>2008</td>\n",
       "      <td>Address; Architecture; Carbon Nanotubes; Catal...</td>\n",
       "      <td>CCI PHASE I: CENTER FOR MOLECULAR INTERFACING</td>\n",
       "      <td>NSF</td>\n",
       "      <td>NSF</td>\n",
       "      <td>NaN</td>\n",
       "      <td>0847926</td>\n",
       "      <td>10/1/2008</td>\n",
       "      <td>9/30/2011</td>\n",
       "      <td>ABRUNA, HECTOR D</td>\n",
       "      <td>NaN</td>\n",
       "      <td>22</td>\n",
       "      <td>872612445</td>\n",
       "      <td>CORNELL UNIVERSITY ITHACA</td>\n",
       "      <td>ITHACA</td>\n",
       "      <td>NY</td>\n",
       "      <td>14850-2820</td>\n",
       "      <td>UNITED STATES</td>\n",
       "      <td>NaN</td>\n",
       "      <td>NaN</td>\n",
       "      <td>47.049</td>\n",
       "      <td>2008</td>\n",
       "      <td>1519821.0</td>\n",
       "      <td>NaN</td>\n",
       "      <td>1</td>\n",
       "      <td>1</td>\n",
       "      <td>[center, molecular, interfacing, cmi, enable, ...</td>\n",
       "    </tr>\n",
       "  </tbody>\n",
       "</table>\n",
       "</div>"
      ],
      "text/plain": [
       "   original index PROJECT_ID  \\\n",
       "0               0      89996   \n",
       "1               1      89997   \n",
       "2               2      89998   \n",
       "3               3      89999   \n",
       "4               5      90001   \n",
       "\n",
       "                                            ABSTRACT    FY  \\\n",
       "0  This is a project to explore Game-based, Metap...  2008   \n",
       "1  Institution: Franklin Institute Science Museum...  2008   \n",
       "2  Through programs (including small group conver...  2008   \n",
       "3  In partnership with the American Chemical Soci...  2008   \n",
       "4  The Center for Molecular Interfacing (CMI) wil...  2008   \n",
       "\n",
       "                                       PROJECT_TERMS  \\\n",
       "0  Achievement; analog; base; Cognitive Science; ...   \n",
       "1  Active Learning; Child; Computer software; des...   \n",
       "2  Address; Age; Birth; Brain; Caregivers; Child;...   \n",
       "3  Advanced Development; American; Chemicals; Che...   \n",
       "4  Address; Architecture; Carbon Nanotubes; Catal...   \n",
       "\n",
       "                                       PROJECT_TITLE DEPARTMENT AGENCY  \\\n",
       "0  RUI: CYGAMES: CYBER-ENABLED TEACHING AND LEARN...        NSF    NSF   \n",
       "1  ARIEL - AUGMENTED REALITY FOR INTERPRETIVE AND...        NSF    NSF   \n",
       "2  BRIGHTER FUTURES: PUBLIC DELIBERATION ABOUT TH...        NSF    NSF   \n",
       "3  FOSTERING US-INTERNATIONAL COLLABORATIVE PARTN...        NSF    NSF   \n",
       "4      CCI PHASE I: CENTER FOR MOLECULAR INTERFACING        NSF    NSF   \n",
       "\n",
       "  IC_CENTER PROJECT_NUMBER PROJECT_START_DATE PROJECT_END_DATE  \\\n",
       "0       NaN        0814512          9/15/2008        8/31/2012   \n",
       "1       NaN        0741659          9/15/2008        8/31/2012   \n",
       "2       NaN        0813522          9/15/2008        8/31/2011   \n",
       "3       NaN        0838627           8/1/2008       12/31/2010   \n",
       "4       NaN        0847926          10/1/2008        9/30/2011   \n",
       "\n",
       "  CONTACT_PI_PROJECT_LEADER                                  OTHER_PIS  \\\n",
       "0           REESE, DEBBIE D  CARTER, BEVERLY; WOOD, CHARLES; HITT, BEN   \n",
       "1            SNYDER, STEVEN                ELINICH, KAREN; YOON, SUSAN   \n",
       "2    FINK, LAURIE KLEINBAUM        CADIGAN, KAREN; ELLENBOGEN, KIRSTEN   \n",
       "3              JOST, JOHN W         MILLER, BRADLEY; BOWMAN, KATHERINE   \n",
       "4          ABRUNA, HECTOR D                                        NaN   \n",
       "\n",
       "  CONGRESSIONAL_DISTRICT DUNS_NUMBER  \\\n",
       "0                     01   068719400   \n",
       "1                     02   001741859   \n",
       "2                     04   061451670   \n",
       "3                     04   009059242   \n",
       "4                     22   872612445   \n",
       "\n",
       "                                   ORGANIZATION_NAME ORGANIZATION_CITY  \\\n",
       "0                         WHEELING JESUIT UNIVERSITY          WHEELING   \n",
       "1                                 FRANKLIN INSTITUTE      PHILADELPHIA   \n",
       "2                        SCIENCE MUSEUM OF MINNESOTA        SAINT PAUL   \n",
       "3  INTERNATIONAL UNION OF PURE AND APPLIED CHEMISTRY            DURHAM   \n",
       "4                          CORNELL UNIVERSITY ITHACA            ITHACA   \n",
       "\n",
       "  ORGANIZATION_STATE ORGANIZATION_ZIP ORGANIZATION_COUNTRY BUDGET_START_DATE  \\\n",
       "0                 WV       26003-6243        UNITED STATES               NaN   \n",
       "1                 PA       19103-1115        UNITED STATES               NaN   \n",
       "2                 MN       55102-1202        UNITED STATES               NaN   \n",
       "3                 NC       27709-3757        UNITED STATES               NaN   \n",
       "4                 NY       14850-2820        UNITED STATES               NaN   \n",
       "\n",
       "  BUDGET_END_DATE CFDA_CODE  FY.y  FY_TOTAL_COST  FY_TOTAL_COST_SUB_PROJECTS  \\\n",
       "0             NaN    47.076  2008      1999467.0                         NaN   \n",
       "1             NaN    47.076  2008      1799699.0                         NaN   \n",
       "2             NaN    47.076  2008      1505858.0                         NaN   \n",
       "3             NaN    47.049  2008        51000.0                         NaN   \n",
       "4             NaN    47.049  2008      1519821.0                         NaN   \n",
       "\n",
       "   ORG_COUNT  PI_COUNT                                       final_tokens  \n",
       "0          1         1  [project, explore, game, base, metaphor, enhan...  \n",
       "1          1         1  [institution, franklin_institute, science, mus...  \n",
       "2          1         1  [program, small, group, conversation, citizen,...  \n",
       "3          1         1  [partnership, american, chemical, society, acs...  \n",
       "4          1         1  [center, molecular, interfacing, cmi, enable, ...  "
      ]
     },
     "execution_count": 3,
     "metadata": {},
     "output_type": "execute_result"
    }
   ],
   "source": [
    "df.head()"
   ]
  },
  {
   "cell_type": "code",
   "execution_count": 4,
   "metadata": {},
   "outputs": [],
   "source": [
    "# input needed for LDA, NMF (all from Scikit-Learn) is one string per document (not a list of strings)\n",
    "\n",
    "text = []\n",
    "docs = df[\"final_tokens\"]\n",
    "\n",
    "for abstract in docs:\n",
    "    text.append(\" \".join(abstract))"
   ]
  },
  {
   "cell_type": "code",
   "execution_count": 5,
   "metadata": {},
   "outputs": [],
   "source": [
    "def createLDAvars(docs):\n",
    "\n",
    "    # Create the variables needed for LDA from df[final_frqwds_removed]: dictionary (id2word), corpus\n",
    "    \n",
    "    # Create Dictionary\n",
    "    id2word = gensim.corpora.Dictionary(docs)\n",
    "\n",
    "    #Filter words to only those found in at least a set number of documents (min_appearances)\n",
    "    id2word.filter_extremes(no_below=20, no_above=0.6)\n",
    "    \n",
    "    # filter out stop words - \"use\" already filtered out by previous line\n",
    "    id2word.filter_tokens(bad_ids=[id2word.token2id['research'], id2word.token2id['study'], \\\n",
    "                               id2word.token2id['project']])\n",
    "\n",
    "    return id2word"
   ]
  },
  {
   "cell_type": "code",
   "execution_count": 6,
   "metadata": {},
   "outputs": [],
   "source": [
    "id2word = createLDAvars(docs)"
   ]
  },
  {
   "cell_type": "markdown",
   "metadata": {},
   "source": [
    "## Functions needed for all models"
   ]
  },
  {
   "cell_type": "code",
   "execution_count": 7,
   "metadata": {},
   "outputs": [],
   "source": [
    "# Function to format topics as a \"list of list of strings\".\n",
    "# Needed for topic coherence function in Gensim\n",
    "\n",
    "# function modified from https://nlpforhackers.io/topic-modeling/\n",
    "\n",
    "def list_topics(topic_term_dist, vectorizer, top_n=10):\n",
    "\n",
    "    #input. top_n: how many words to list per topic.  If -1, then list all words.\n",
    "       \n",
    "    topic_words = []\n",
    "    \n",
    "    for idx, topic in enumerate(topic_term_dist):  # loop through each row of H.  idx = row index.  topic = actual row\n",
    "            \n",
    "        if top_n == -1:   \n",
    "            topic_words.append([vectorizer.get_feature_names()[i] for i in topic.argsort()[::-1]])\n",
    "        else:\n",
    "            topic_words.append([vectorizer.get_feature_names()[i] for i in topic.argsort()[:-top_n - 1:-1]])\n",
    "        \n",
    "    return topic_words"
   ]
  },
  {
   "cell_type": "code",
   "execution_count": 8,
   "metadata": {},
   "outputs": [],
   "source": [
    "def str_topics(topic_term_mat, vectorizer, top_n=10):\n",
    "\n",
    "    #input. top_n: how many words to list per topic.  If -1, then list all words.\n",
    "       \n",
    "    topic_words = []\n",
    "    \n",
    "    for idx, topic in enumerate(topic_term_mat):  # loop through each row of H.  idx = row index.  topic = actual row\n",
    "            \n",
    "        if top_n == -1:   \n",
    "            topic_words.append([vectorizer.get_feature_names()[i] for i in topic.argsort()[::-1]])\n",
    "        else:\n",
    "            topic_words.append([vectorizer.get_feature_names()[i] for i in topic.argsort()[:-top_n - 1:-1]])\n",
    "    \n",
    "    str_wds = []\n",
    "    \n",
    "    for wds in topic_words:\n",
    "        str_wds.append(\", \".join(wds))    \n",
    "    \n",
    "    return str_wds "
   ]
  },
  {
   "cell_type": "markdown",
   "metadata": {},
   "source": [
    "## NMF\n",
    "- 50 topics, random state = ?"
   ]
  },
  {
   "cell_type": "code",
   "execution_count": 9,
   "metadata": {},
   "outputs": [],
   "source": [
    "stop_wds = ['research', 'study', 'project']  # use will be eliminated by max_df"
   ]
  },
  {
   "cell_type": "code",
   "execution_count": 10,
   "metadata": {},
   "outputs": [],
   "source": [
    "# construct term document matrix\n",
    "tfidf_vectorizer = TfidfVectorizer(max_df=0.6, min_df=20, lowercase=False, stop_words=stop_wds)\n",
    "tf_idf = tfidf_vectorizer.fit_transform(text)"
   ]
  },
  {
   "cell_type": "code",
   "execution_count": null,
   "metadata": {},
   "outputs": [],
   "source": [
    "# first time topic model run\n",
    "#num_topics = 100\n",
    "\n",
    "#nmf_model = NMF(n_components = num_topics, random_state = 1)\n",
    "#doc_topic = nmf_model.fit_transform(tf_idf)\n",
    "#topic_term = nmf_model.components_"
   ]
  },
  {
   "cell_type": "code",
   "execution_count": null,
   "metadata": {},
   "outputs": [],
   "source": [
    "#with open(\"/project/biocomplexity/sdad/projects_data/ncses/prd/nmf_full_100.pkl\",\"wb\") as f:\n",
    "#    pickle.dump((doc_topic, topic_term), f)"
   ]
  },
  {
   "cell_type": "code",
   "execution_count": 11,
   "metadata": {},
   "outputs": [],
   "source": [
    "# read in fit topic model\n",
    "num_topics = 50\n",
    "\n",
    "with open(\"/project/biocomplexity/sdad/projects_data/ncses/prd/nmf_full_50.pkl\", \"rb\") as f:\n",
    "    res = pickle.load(f)\n",
    "    \n",
    "doc_topic = res[0]\n",
    "topic_term = res[1]"
   ]
  },
  {
   "cell_type": "code",
   "execution_count": 12,
   "metadata": {},
   "outputs": [],
   "source": [
    "topics = list_topics(topic_term, tfidf_vectorizer, top_n = 10)"
   ]
  },
  {
   "cell_type": "code",
   "execution_count": null,
   "metadata": {},
   "outputs": [],
   "source": [
    "# calculate coherence\n",
    "#cm = CoherenceModel(topics = topics,\n",
    "#                    #corpus = corpus,\n",
    "#                    dictionary = id2word,\n",
    "#                    texts = docs, \n",
    "#                    coherence = 'c_v', \n",
    "#                    processes = 8)"
   ]
  },
  {
   "cell_type": "markdown",
   "metadata": {},
   "source": [
    "## Emerging topics"
   ]
  },
  {
   "cell_type": "code",
   "execution_count": 13,
   "metadata": {},
   "outputs": [],
   "source": [
    "# Extract Year from PROJECT_START_DATE\n",
    "\n",
    "def getYear(a):   \n",
    "    a = str(a)\n",
    "    if a.find(\"/\"):\n",
    "        splitdate = a.split(\"/\")\n",
    "        if len(splitdate) == 3:\n",
    "            a = splitdate[2]\n",
    "        else:\n",
    "            a = splitdate[0]\n",
    "    year = str(a)\n",
    "    return year\n",
    "\n",
    "df['START_YEAR'] = df['PROJECT_START_DATE'].apply(getYear)"
   ]
  },
  {
   "cell_type": "code",
   "execution_count": 14,
   "metadata": {},
   "outputs": [],
   "source": [
    "# add start year to doc topic matrix\n",
    "topic_frame = pd.DataFrame(doc_topic, columns=[\"Topic\"+\" \"+str(i) for i in range(num_topics)])\n",
    "topic_frame[\"START_YEAR\"] = df[\"START_YEAR\"]"
   ]
  },
  {
   "cell_type": "markdown",
   "metadata": {},
   "source": [
    "#### compute count of projects with weight > 0 for each topic"
   ]
  },
  {
   "cell_type": "code",
   "execution_count": null,
   "metadata": {},
   "outputs": [],
   "source": [
    "topic_proj_count = topic_frame.copy()"
   ]
  },
  {
   "cell_type": "code",
   "execution_count": null,
   "metadata": {},
   "outputs": [],
   "source": [
    "# count number of docs with weight > 0\n",
    "topic_count_bool = (topic_proj_count.iloc[:,0:num_topics] > 0)\n",
    "topic_count_bool[\"START_YEAR\"] = topic_proj_count[\"START_YEAR\"]"
   ]
  },
  {
   "cell_type": "code",
   "execution_count": null,
   "metadata": {},
   "outputs": [],
   "source": [
    "# count number of docs with weight > 0 BY YEAR\n",
    "topic_counts = topic_count_bool.groupby(\"START_YEAR\").sum().reset_index()\n",
    "topic_counts[\"START_YEAR\"] = topic_counts[\"START_YEAR\"].astype(int)"
   ]
  },
  {
   "cell_type": "code",
   "execution_count": null,
   "metadata": {},
   "outputs": [],
   "source": [
    "# get docs between 2010 and 2019\n",
    "topic_counts_filt = topic_counts[topic_counts[\"START_YEAR\"] > 2009] \n",
    "topic_counts_filt = topic_counts_filt[topic_counts_filt[\"START_YEAR\"] < 2020]"
   ]
  },
  {
   "cell_type": "code",
   "execution_count": null,
   "metadata": {},
   "outputs": [],
   "source": [
    "n_by_topic = topic_counts_filt.sum()[1:]"
   ]
  },
  {
   "cell_type": "markdown",
   "metadata": {},
   "source": [
    "#### calculate mean topic weight by year and standard errors on means"
   ]
  },
  {
   "cell_type": "code",
   "execution_count": 15,
   "metadata": {},
   "outputs": [],
   "source": [
    "topic_frame_se = topic_frame.groupby(\"START_YEAR\").sem().reset_index()\n",
    "topic_frame_se = topic_frame_se.sort_values(by = \"START_YEAR\")\n",
    "topic_frame_se[\"START_YEAR\"] = topic_frame_se[\"START_YEAR\"].astype(int)\n",
    "\n",
    "topic_wts_se_2010_2019 = topic_frame_se[topic_frame_se[\"START_YEAR\"] > 2009] \n",
    "topic_wts_se_2010_2019 = topic_wts_se_2010_2019[topic_wts_se_2010_2019[\"START_YEAR\"] < 2020]\n",
    "#topic_wts_se_2010_2019 = topic_wts_se_2010_2019[topic_wts_se_2010_2019[\"START_YEAR\"] < 2019]"
   ]
  },
  {
   "cell_type": "code",
   "execution_count": 16,
   "metadata": {},
   "outputs": [],
   "source": [
    "topic_frame = topic_frame.groupby(\"START_YEAR\").mean().reset_index()\n",
    "topic_frame = topic_frame.sort_values(by = \"START_YEAR\")\n",
    "topic_frame[\"START_YEAR\"] = topic_frame[\"START_YEAR\"].astype(int)"
   ]
  },
  {
   "cell_type": "code",
   "execution_count": 17,
   "metadata": {},
   "outputs": [],
   "source": [
    "# filter topic_frame for years 2010 - 2019\n",
    "\n",
    "topic_wts_2010_2019 = topic_frame[topic_frame[\"START_YEAR\"] > 2009] \n",
    "topic_wts_2010_2019 = topic_wts_2010_2019[topic_wts_2010_2019[\"START_YEAR\"] < 2020] \n",
    "#topic_wts_2010_2019 = topic_wts_2010_2019[topic_wts_2010_2019[\"START_YEAR\"] < 2019] "
   ]
  },
  {
   "cell_type": "code",
   "execution_count": 18,
   "metadata": {},
   "outputs": [],
   "source": [
    "# fit OLS and get slope, SE, p-value\n",
    "topic_slopes = []\n",
    "topic_slopes_se = []\n",
    "topic_slopes_pval = []\n",
    "\n",
    "lm_x = topic_wts_2010_2019[\"START_YEAR\"].values.reshape(-1,1)\n",
    "lm_x = sm.add_constant(lm_x)\n",
    "\n",
    "for i in range(1,num_topics+1):\n",
    "\n",
    "    linear_fit = sm.OLS(topic_wts_2010_2019.iloc[:,i].values.reshape(-1,1),lm_x).fit()\n",
    "    \n",
    "    topic_slopes.append(linear_fit.params[1])\n",
    "    topic_slopes_se.append(linear_fit.bse[1])\n",
    "    topic_slopes_pval.append(linear_fit.pvalues[1])"
   ]
  },
  {
   "cell_type": "code",
   "execution_count": 19,
   "metadata": {},
   "outputs": [],
   "source": [
    "topic_ols_res = pd.DataFrame(\n",
    "    {\"Slope\": topic_slopes, \n",
    "     \"SE\": topic_slopes_se,\n",
    "     \"p-value\": topic_slopes_pval\n",
    "    })"
   ]
  },
  {
   "cell_type": "code",
   "execution_count": 20,
   "metadata": {},
   "outputs": [],
   "source": [
    "reg_topics = pd.DataFrame()\n",
    "reg_topics[\"Topic Words\"] = str_topics(topic_term, tfidf_vectorizer, top_n = 5)"
   ]
  },
  {
   "cell_type": "code",
   "execution_count": 21,
   "metadata": {},
   "outputs": [],
   "source": [
    "regression_res = pd.concat([reg_topics, topic_ols_res], axis = 1)"
   ]
  },
  {
   "cell_type": "code",
   "execution_count": 22,
   "metadata": {},
   "outputs": [],
   "source": [
    "regression_res = regression_res.sort_values('Topic Words')"
   ]
  },
  {
   "cell_type": "code",
   "execution_count": 23,
   "metadata": {},
   "outputs": [],
   "source": [
    "topic_label_num = range(1, num_topics + 1)\n",
    "topic_label = [\"FR\" + str(x) for x in topic_label_num]\n",
    "regression_res[\"Topic Label\"] = topic_label"
   ]
  },
  {
   "cell_type": "code",
   "execution_count": 26,
   "metadata": {},
   "outputs": [],
   "source": [
    "regression_res.to_csv(\"full_50_topics_2019_df.csv\", index=False)"
   ]
  },
  {
   "cell_type": "markdown",
   "metadata": {},
   "source": [
    "## Create plot - top 10 hot and cold topics"
   ]
  },
  {
   "cell_type": "code",
   "execution_count": 27,
   "metadata": {},
   "outputs": [],
   "source": [
    "top_slopes = regression_res.nlargest(10, 'Slope')"
   ]
  },
  {
   "cell_type": "code",
   "execution_count": 28,
   "metadata": {},
   "outputs": [],
   "source": [
    "top_leg_topic_label = top_slopes['Topic Label'].tolist()\n",
    "top_leg = top_slopes['Topic Words'].tolist()\n",
    "top_leg_label = [i + \": \" + j for i, j in zip(top_leg_topic_label, top_leg)]"
   ]
  },
  {
   "cell_type": "code",
   "execution_count": 29,
   "metadata": {},
   "outputs": [],
   "source": [
    "bottom_slopes = regression_res.nsmallest(10, 'Slope')"
   ]
  },
  {
   "cell_type": "code",
   "execution_count": 30,
   "metadata": {},
   "outputs": [],
   "source": [
    "bottom_leg_topic_label = bottom_slopes['Topic Label'].tolist()\n",
    "bottom_leg = bottom_slopes['Topic Words'].tolist()\n",
    "bottom_leg_label = [i + \": \" + j for i, j in zip(bottom_leg_topic_label, bottom_leg)]"
   ]
  },
  {
   "cell_type": "markdown",
   "metadata": {},
   "source": [
    "### Plot hottest and coldest topics on separate plots"
   ]
  },
  {
   "cell_type": "code",
   "execution_count": 32,
   "metadata": {},
   "outputs": [
    {
     "data": {
      "image/png": "[encoded data removed]",
      "text/plain": [
       "<Figure size 432x288 with 1 Axes>"
      ]
     },
     "metadata": {
      "needs_background": "light"
     },
     "output_type": "display_data"
    },
    {
     "data": {
      "image/png": "[encoded data removed]",
      "text/plain": [
       "<Figure size 432x288 with 1 Axes>"
      ]
     },
     "metadata": {
      "needs_background": "light"
     },
     "output_type": "display_data"
    }
   ],
   "source": [
    "# Make Graphs\n",
    "\n",
    "color_list = plt.rcParams['axes.prop_cycle'].by_key()['color']\n",
    "\n",
    "line_return = []\n",
    "fig = plt.figure()\n",
    "fig.suptitle('Top 10 Topics with Increasing Weights', fontsize=16)\n",
    "ax = fig.add_subplot(111)\n",
    "plt.grid(True, color = \"whitesmoke\")\n",
    "line = [[(0, 0)]]\n",
    "i = 0\n",
    "for n in top_slopes.index:\n",
    "    zorder = 10\n",
    "    color = color_list[i] # \"#D3D3D3\"   \n",
    "    if i == 0:\n",
    "        zorder = 10 #20\n",
    "        color = color_list[i];\n",
    "    #linear_fit = lm().fit(topic_wts_2010_2019[\"START_YEAR\"].values.reshape(-1,1), topic_wts_2010_2019.iloc[:,n].values.reshape(-1,1))\n",
    "    #ax.plot(topic_wts_2010_2019[\"START_YEAR\"], (topic_wts_2010_2019[\"START_YEAR\"]*linear_fit.coef_[0][0])+linear_fit.intercept_,linestyle = 'dashed', color = color_list[i])\n",
    "    ax.plot(topic_wts_2010_2019[\"START_YEAR\"], topic_wts_2010_2019.iloc[:,n+1], '-o', color = color, zorder = zorder)\n",
    "    ax.errorbar(topic_wts_2010_2019[\"START_YEAR\"], topic_wts_2010_2019.iloc[:,n+1], \n",
    "            yerr = np.array(topic_wts_se_2010_2019.iloc[:,n+1]), fmt = \"o\", color = color, zorder = zorder)\n",
    "    #line_return.append(mcol.LineCollection(2 * line, linestyles=['solid','dashed'], colors=[color_list[i],color_list[i]]))\n",
    "    line_return.append(mcol.LineCollection(line, linestyles=['solid'], colors=[color]))\n",
    "    i+=1\n",
    "    #leg.append(\"Topic %d\"%(n+1))\n",
    "\n",
    "plt.xticks(np.arange(topic_wts_2010_2019[\"START_YEAR\"].min(), topic_wts_2010_2019[\"START_YEAR\"].max()+1, 1.0))\n",
    "plt.xlabel('Year', fontsize=14)\n",
    "plt.ylabel('Mean Topic Weight', fontsize=14)\n",
    "plt.ylim(bottom = 0, top = 0.0035)\n",
    "#ax.yaxis.set_label_coords(-0.14,0.5)\n",
    "\n",
    "# set up the proxy artist\n",
    "lc = mcol.LineCollection(2 * line, linestyles=['solid','dashed'], colors=['blue','blue'])\n",
    "lc2 = mcol.LineCollection(2 * line, linestyles=['solid','dashed'], colors=['orange','orange'])\n",
    "# create the legend\n",
    "#plt.legend(line_return, [leg[x-1] for x in top_slopes], handler_map={type(line_return[0]): HandlerDashedLines()},\n",
    "#          handlelength=2, handleheight=2,bbox_to_anchor=(1.05, 0.7, 0.3, 0.2), loc='upper left')\n",
    "\n",
    "plt.legend([top_leg_label[x] for x in range(0,len(top_leg_label))], bbox_to_anchor=(0.35, -0.35, 0.3, 0.2), \n",
    "           loc='upper center', fontsize = 'large', frameon = False)\n",
    "plt.savefig(\"full_increasing_50_topics_2019.png\", dpi = 800, bbox_inches = \"tight\")\n",
    "plt.show()\n",
    "\n",
    "\n",
    "#Make Graphs\n",
    "#leg = []\n",
    "\n",
    "#bottom_slopes.reverse()  # so the plot legend has the coldest listed first\n",
    "\n",
    "line_return = []\n",
    "fig = plt.figure()\n",
    "fig.suptitle('Top 10 Topics with Decreasing Weights', fontsize=16)\n",
    "ax = fig.add_subplot(111)\n",
    "plt.grid(True, color = \"whitesmoke\")\n",
    "i = 0\n",
    "for n in bottom_slopes.index:\n",
    "    zorder = 10\n",
    "    color = color_list[i]  #\"#D3D3D3\"  \n",
    "    if i == 4:\n",
    "        zorder = 10 #20\n",
    "        color = color_list[i]\n",
    "    #linear_fit = lm().fit(topic_wts_2010_2019[\"START_YEAR\"].values.reshape(-1,1), topic_wts_2010_2019.iloc[:,n].values.reshape(-1,1))\n",
    "    #ax.plot(topic_wts_2010_2019[\"START_YEAR\"], (topic_wts_2010_2019[\"START_YEAR\"]*linear_fit.coef_[0][0])+linear_fit.intercept_,linestyle = 'dashed', color = color_list[i+5])\n",
    "    ax.plot(topic_wts_2010_2019[\"START_YEAR\"], topic_wts_2010_2019.iloc[:,n+1], '-o', color=color, zorder = zorder)\n",
    "    ax.errorbar(topic_wts_2010_2019[\"START_YEAR\"], topic_wts_2010_2019.iloc[:,n+1], \n",
    "            yerr = np.array(topic_wts_se_2010_2019.iloc[:,n+1]), fmt = \"o\", color=color, zorder = zorder)\n",
    "    #line_return.append(mcol.LineCollection(2 * line, linestyles=['solid','dashed'], colors=[color_list[i+5],color_list[i+5]]))\n",
    "    line_return.append(mcol.LineCollection(line, linestyles=['solid'], colors=[color]))\n",
    "    i+=1\n",
    "    #leg.append(\"Topic %d\"%(n+1))\n",
    "\n",
    "plt.xticks(np.arange(topic_wts_2010_2019[\"START_YEAR\"].min(), topic_wts_2010_2019[\"START_YEAR\"].max()+1, 1.0))\n",
    "plt.xlabel('Year', fontsize=14)\n",
    "plt.ylabel('Mean Topic Weight', fontsize=14)\n",
    "plt.ylim(bottom = 0, top = 0.0035)\n",
    "#ax.yaxis.set_label_coords(-0.14,0.5)\n",
    "\n",
    "\n",
    "# set up the proxy artist\n",
    "lc = mcol.LineCollection(2 * line, linestyles=['solid','dashed'], colors=['blue','blue'])\n",
    "lc2 = mcol.LineCollection(2 * line, linestyles=['solid','dashed'], colors=['orange','orange'])\n",
    "\n",
    "# create the legend\n",
    "#plt.legend(line_return, [leg[x-1] for x in bottom_slopes], handler_map={type(line_return[0]): HandlerDashedLines()},\n",
    "#          handlelength=2, handleheight=2,bbox_to_anchor=(1.05, 0.7, 0.3, 0.2), loc='upper left')\n",
    "\n",
    "plt.legend([bottom_leg_label[x] for x in range(0,len(bottom_leg_label))], bbox_to_anchor=(0.35, -0.35, 0.3, 0.2), \n",
    "           loc='upper center', fontsize = 'large', frameon = False)\n",
    "plt.savefig(\"full_decreasing_50_topics_2019.png\", dpi = 800, bbox_inches = \"tight\")\n",
    "plt.show()\n"
   ]
  },
  {
   "cell_type": "code",
   "execution_count": null,
   "metadata": {},
   "outputs": [],
   "source": []
  }
 ],
 "metadata": {
  "kernelspec": {
   "display_name": "Python 3",
   "language": "python",
   "name": "python3"
  },
  "language_info": {
   "codemirror_mode": {
    "name": "ipython",
    "version": 3
   },
   "file_extension": ".py",
   "mimetype": "text/x-python",
   "name": "python",
   "nbconvert_exporter": "python",
   "pygments_lexer": "ipython3",
   "version": "3.8.8"
  }
 },
 "nbformat": 4,
 "nbformat_minor": 4
}
