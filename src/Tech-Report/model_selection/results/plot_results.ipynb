{
 "cells": [
  {
   "cell_type": "markdown",
   "metadata": {},
   "source": [
    "## Plot model selection results\n"
   ]
  },
  {
   "cell_type": "code",
   "execution_count": 1,
   "metadata": {},
   "outputs": [],
   "source": [
    "import pandas as pd\n",
    "import numpy as np\n",
    "import pickle\n",
    "import matplotlib.pyplot as plt\n",
    "import seaborn as sns"
   ]
  },
  {
   "cell_type": "markdown",
   "metadata": {},
   "source": [
    "### LDA"
   ]
  },
  {
   "cell_type": "code",
   "execution_count": 2,
   "metadata": {},
   "outputs": [],
   "source": [
    "# coherence\n",
    "c0 = pd.read_pickle(\"coherence/co_lda_val0-2.pkl\")\n",
    "c1 = pd.read_pickle(\"coherence/co_lda_val3-5.pkl\")\n",
    "c2 = pd.read_pickle(\"coherence/co_lda_val6-7.pkl\")\n",
    "c3 = pd.read_pickle(\"coherence/co_lda_val8-9.pkl\")\n",
    "\n",
    "# perplexity\n",
    "p0 = pd.read_pickle(\"LDA/lda_p0-2.pkl\")\n",
    "p1 = pd.read_pickle(\"LDA/lda_p3-5.pkl\")\n",
    "p2 = pd.read_pickle(\"LDA/lda_p6-7.pkl\")\n",
    "p3 = pd.read_pickle(\"LDA/lda_p8-9.pkl\")\n",
    "\n",
    "# time\n",
    "t0 = pd.read_pickle(\"LDA/lda_t0-2.pkl\")\n",
    "t1 = pd.read_pickle(\"LDA/lda_t3-5.pkl\")\n",
    "t2 = pd.read_pickle(\"LDA/lda_t6-7.pkl\")\n",
    "t3 = pd.read_pickle(\"LDA/lda_t8-9.pkl\")"
   ]
  },
  {
   "cell_type": "code",
   "execution_count": 3,
   "metadata": {},
   "outputs": [],
   "source": [
    "# fix batch number on coherence 3-5\n",
    "\n",
    "c1 = c1.rename(columns = {\"iteration 0\": \"iteration 3\", \"iteration 1\": \"iteration 4\", \"iteration 2\": \"iteration 5\"})"
   ]
  },
  {
   "cell_type": "code",
   "execution_count": 4,
   "metadata": {},
   "outputs": [],
   "source": [
    "# create dataframes\n",
    "\n",
    "lda_coherence = pd.concat([c0, c1, c2, c3], axis=1)\n",
    "lda_perplexity = pd.concat([p0, p1, p2, p3], axis=1)\n",
    "lda_time = pd.concat([t0, t1, t2, t3], axis=1)"
   ]
  },
  {
   "cell_type": "code",
   "execution_count": null,
   "metadata": {},
   "outputs": [],
   "source": []
  },
  {
   "cell_type": "markdown",
   "metadata": {},
   "source": [
    "### NMF"
   ]
  },
  {
   "cell_type": "code",
   "execution_count": 5,
   "metadata": {},
   "outputs": [],
   "source": [
    "# coherence\n",
    "c0 = pd.read_pickle(\"coherence/co_nmf_val0.pkl\")\n",
    "c1 = pd.read_pickle(\"coherence/co_nmf_val1.pkl\")\n",
    "c2 = pd.read_pickle(\"coherence/co_nmf_val2.pkl\")\n",
    "c3 = pd.read_pickle(\"coherence/co_nmf_val3.pkl\")\n",
    "c4 = pd.read_pickle(\"coherence/co_nmf_val4.pkl\")\n",
    "c5 = pd.read_pickle(\"coherence/co_nmf_val5.pkl\")\n",
    "c6 = pd.read_pickle(\"coherence/co_nmf_val6.pkl\")\n",
    "c7 = pd.read_pickle(\"coherence/co_nmf_val7.pkl\")\n",
    "c8 = pd.read_pickle(\"coherence/co_nmf_val8.pkl\")\n",
    "c9 = pd.read_pickle(\"coherence/co_nmf_val9.pkl\")\n",
    "\n",
    "\n",
    "# time\n",
    "t0 = pd.read_pickle(\"NMF/nmf_t0.pkl\")\n",
    "t1 = pd.read_pickle(\"NMF/nmf_t1.pkl\")\n",
    "t2 = pd.read_pickle(\"NMF/nmf_t2.pkl\")\n",
    "t3 = pd.read_pickle(\"NMF/nmf_t3.pkl\")\n",
    "t4 = pd.read_pickle(\"NMF/nmf_t4.pkl\")\n",
    "t5 = pd.read_pickle(\"NMF/nmf_t5.pkl\")\n",
    "t6 = pd.read_pickle(\"NMF/nmf_t6.pkl\")\n",
    "t7 = pd.read_pickle(\"NMF/nmf_t7.pkl\")\n",
    "t8 = pd.read_pickle(\"NMF/nmf_t8.pkl\")\n",
    "t9 = pd.read_pickle(\"NMF/nmf_t9.pkl\")"
   ]
  },
  {
   "cell_type": "code",
   "execution_count": 6,
   "metadata": {},
   "outputs": [],
   "source": [
    "# create dfs\n",
    "\n",
    "nmf_coherence = pd.concat([c0, c1, c2, c3, c4, c5, c6, c7, c8, c9], axis=1)\n",
    "nmf_time = pd.concat([t0, t1, t2, t3, t4, t5, t6, t7, t8, t9], axis=1)"
   ]
  },
  {
   "cell_type": "code",
   "execution_count": null,
   "metadata": {},
   "outputs": [],
   "source": []
  },
  {
   "cell_type": "markdown",
   "metadata": {},
   "source": [
    "### Coherence plot"
   ]
  },
  {
   "cell_type": "code",
   "execution_count": 7,
   "metadata": {},
   "outputs": [],
   "source": [
    "# Add number of topics as a column for melt\n",
    "\n",
    "lda_coherence['n_topics']=lda_coherence.index\n",
    "nmf_coherence['n_topics']=nmf_coherence.index"
   ]
  },
  {
   "cell_type": "code",
   "execution_count": 8,
   "metadata": {},
   "outputs": [],
   "source": [
    "# change dfs from wide to long format\n",
    "\n",
    "c_lda_melt=lda_coherence.melt(id_vars='n_topics',value_vars=['iteration {}'.format(i) for i in range(10)],value_name='Coherence' )\n",
    "c_nmf_melt=nmf_coherence.melt(id_vars='n_topics',value_vars=['iteration {}'.format(i) for i in range(10)],value_name='Coherence' )\n",
    "\n",
    "c_lda_melt['Model']='LDA'\n",
    "c_nmf_melt['Model']='NMF'\n",
    "\n",
    "all_models=pd.concat([c_lda_melt,c_nmf_melt])"
   ]
  },
  {
   "cell_type": "code",
   "execution_count": 9,
   "metadata": {},
   "outputs": [
    {
     "data": {
      "text/html": [
       "<div>\n",
       "<style scoped>\n",
       "    .dataframe tbody tr th:only-of-type {\n",
       "        vertical-align: middle;\n",
       "    }\n",
       "\n",
       "    .dataframe tbody tr th {\n",
       "        vertical-align: top;\n",
       "    }\n",
       "\n",
       "    .dataframe thead th {\n",
       "        text-align: right;\n",
       "    }\n",
       "</style>\n",
       "<table border=\"1\" class=\"dataframe\">\n",
       "  <thead>\n",
       "    <tr style=\"text-align: right;\">\n",
       "      <th></th>\n",
       "      <th>n_topics</th>\n",
       "      <th>variable</th>\n",
       "      <th>Coherence</th>\n",
       "      <th>Model</th>\n",
       "    </tr>\n",
       "  </thead>\n",
       "  <tbody>\n",
       "    <tr>\n",
       "      <th>0</th>\n",
       "      <td>5</td>\n",
       "      <td>iteration 0</td>\n",
       "      <td>0.516320</td>\n",
       "      <td>LDA</td>\n",
       "    </tr>\n",
       "    <tr>\n",
       "      <th>1</th>\n",
       "      <td>10</td>\n",
       "      <td>iteration 0</td>\n",
       "      <td>0.531602</td>\n",
       "      <td>LDA</td>\n",
       "    </tr>\n",
       "    <tr>\n",
       "      <th>2</th>\n",
       "      <td>15</td>\n",
       "      <td>iteration 0</td>\n",
       "      <td>0.577059</td>\n",
       "      <td>LDA</td>\n",
       "    </tr>\n",
       "    <tr>\n",
       "      <th>3</th>\n",
       "      <td>20</td>\n",
       "      <td>iteration 0</td>\n",
       "      <td>0.588273</td>\n",
       "      <td>LDA</td>\n",
       "    </tr>\n",
       "    <tr>\n",
       "      <th>4</th>\n",
       "      <td>25</td>\n",
       "      <td>iteration 0</td>\n",
       "      <td>0.602236</td>\n",
       "      <td>LDA</td>\n",
       "    </tr>\n",
       "    <tr>\n",
       "      <th>...</th>\n",
       "      <td>...</td>\n",
       "      <td>...</td>\n",
       "      <td>...</td>\n",
       "      <td>...</td>\n",
       "    </tr>\n",
       "    <tr>\n",
       "      <th>295</th>\n",
       "      <td>130</td>\n",
       "      <td>iteration 9</td>\n",
       "      <td>0.701045</td>\n",
       "      <td>NMF</td>\n",
       "    </tr>\n",
       "    <tr>\n",
       "      <th>296</th>\n",
       "      <td>140</td>\n",
       "      <td>iteration 9</td>\n",
       "      <td>0.704106</td>\n",
       "      <td>NMF</td>\n",
       "    </tr>\n",
       "    <tr>\n",
       "      <th>297</th>\n",
       "      <td>150</td>\n",
       "      <td>iteration 9</td>\n",
       "      <td>0.713437</td>\n",
       "      <td>NMF</td>\n",
       "    </tr>\n",
       "    <tr>\n",
       "      <th>298</th>\n",
       "      <td>175</td>\n",
       "      <td>iteration 9</td>\n",
       "      <td>0.706695</td>\n",
       "      <td>NMF</td>\n",
       "    </tr>\n",
       "    <tr>\n",
       "      <th>299</th>\n",
       "      <td>200</td>\n",
       "      <td>iteration 9</td>\n",
       "      <td>0.705639</td>\n",
       "      <td>NMF</td>\n",
       "    </tr>\n",
       "  </tbody>\n",
       "</table>\n",
       "<p>600 rows × 4 columns</p>\n",
       "</div>"
      ],
      "text/plain": [
       "     n_topics     variable  Coherence Model\n",
       "0           5  iteration 0   0.516320   LDA\n",
       "1          10  iteration 0   0.531602   LDA\n",
       "2          15  iteration 0   0.577059   LDA\n",
       "3          20  iteration 0   0.588273   LDA\n",
       "4          25  iteration 0   0.602236   LDA\n",
       "..        ...          ...        ...   ...\n",
       "295       130  iteration 9   0.701045   NMF\n",
       "296       140  iteration 9   0.704106   NMF\n",
       "297       150  iteration 9   0.713437   NMF\n",
       "298       175  iteration 9   0.706695   NMF\n",
       "299       200  iteration 9   0.705639   NMF\n",
       "\n",
       "[600 rows x 4 columns]"
      ]
     },
     "execution_count": 9,
     "metadata": {},
     "output_type": "execute_result"
    }
   ],
   "source": [
    "all_models"
   ]
  },
  {
   "cell_type": "code",
   "execution_count": 10,
   "metadata": {},
   "outputs": [
    {
     "data": {
      "image/png": "[encoded data removed]",
      "text/plain": [
       "<Figure size 432x288 with 1 Axes>"
      ]
     },
     "metadata": {},
     "output_type": "display_data"
    }
   ],
   "source": [
    "# Coherence plots by number of topics\n",
    "\n",
    "sns.set_style(\"whitegrid\")\n",
    "sns.lineplot(x=\"n_topics\", y=\"Coherence\", hue='Model', data=all_models).set(xlim=(0,200))\n",
    "plt.title(\"LDA and NMF Coherence Comparison\");\n",
    "plt.xlabel('Number of Topics');\n",
    "plt.ylabel('Mean $C_{V}$ Topic Coherence');\n",
    "\n",
    "plt.savefig(\"coherence_comparison.png\", dpi = 800)"
   ]
  },
  {
   "cell_type": "code",
   "execution_count": null,
   "metadata": {},
   "outputs": [],
   "source": []
  },
  {
   "cell_type": "markdown",
   "metadata": {},
   "source": [
    "### Time plot"
   ]
  },
  {
   "cell_type": "code",
   "execution_count": 11,
   "metadata": {},
   "outputs": [],
   "source": [
    "# Add number of topics as a column for melt\n",
    "\n",
    "lda_time['n_topics']=lda_time.index\n",
    "nmf_time['n_topics']=nmf_time.index"
   ]
  },
  {
   "cell_type": "code",
   "execution_count": 12,
   "metadata": {},
   "outputs": [],
   "source": [
    "# change dfs from wide to long format\n",
    "\n",
    "lda_melt=lda_time.melt(id_vars='n_topics',value_vars=['iteration {}'.format(i) for i in range(10)],value_name='Time' )\n",
    "nmf_melt=nmf_time.melt(id_vars='n_topics',value_vars=['iteration {}'.format(i) for i in range(10)],value_name='Time' )\n",
    "\n",
    "lda_melt['Model']='LDA'\n",
    "nmf_melt['Model']='NMF'\n",
    "\n",
    "all_models=pd.concat([lda_melt,nmf_melt])"
   ]
  },
  {
   "cell_type": "code",
   "execution_count": 13,
   "metadata": {},
   "outputs": [],
   "source": [
    "# convert to minutes\n",
    "\n",
    "all_models[\"Time\"] = all_models[\"Time\"]/60"
   ]
  },
  {
   "cell_type": "code",
   "execution_count": 14,
   "metadata": {},
   "outputs": [
    {
     "data": {
      "text/html": [
       "<div>\n",
       "<style scoped>\n",
       "    .dataframe tbody tr th:only-of-type {\n",
       "        vertical-align: middle;\n",
       "    }\n",
       "\n",
       "    .dataframe tbody tr th {\n",
       "        vertical-align: top;\n",
       "    }\n",
       "\n",
       "    .dataframe thead th {\n",
       "        text-align: right;\n",
       "    }\n",
       "</style>\n",
       "<table border=\"1\" class=\"dataframe\">\n",
       "  <thead>\n",
       "    <tr style=\"text-align: right;\">\n",
       "      <th></th>\n",
       "      <th>n_topics</th>\n",
       "      <th>variable</th>\n",
       "      <th>Time</th>\n",
       "      <th>Model</th>\n",
       "    </tr>\n",
       "  </thead>\n",
       "  <tbody>\n",
       "    <tr>\n",
       "      <th>0</th>\n",
       "      <td>5</td>\n",
       "      <td>iteration 0</td>\n",
       "      <td>4.554285</td>\n",
       "      <td>LDA</td>\n",
       "    </tr>\n",
       "    <tr>\n",
       "      <th>1</th>\n",
       "      <td>10</td>\n",
       "      <td>iteration 0</td>\n",
       "      <td>5.271661</td>\n",
       "      <td>LDA</td>\n",
       "    </tr>\n",
       "    <tr>\n",
       "      <th>2</th>\n",
       "      <td>15</td>\n",
       "      <td>iteration 0</td>\n",
       "      <td>5.603527</td>\n",
       "      <td>LDA</td>\n",
       "    </tr>\n",
       "    <tr>\n",
       "      <th>3</th>\n",
       "      <td>20</td>\n",
       "      <td>iteration 0</td>\n",
       "      <td>5.918412</td>\n",
       "      <td>LDA</td>\n",
       "    </tr>\n",
       "    <tr>\n",
       "      <th>4</th>\n",
       "      <td>25</td>\n",
       "      <td>iteration 0</td>\n",
       "      <td>6.441256</td>\n",
       "      <td>LDA</td>\n",
       "    </tr>\n",
       "    <tr>\n",
       "      <th>...</th>\n",
       "      <td>...</td>\n",
       "      <td>...</td>\n",
       "      <td>...</td>\n",
       "      <td>...</td>\n",
       "    </tr>\n",
       "    <tr>\n",
       "      <th>295</th>\n",
       "      <td>130</td>\n",
       "      <td>iteration 9</td>\n",
       "      <td>85.224953</td>\n",
       "      <td>NMF</td>\n",
       "    </tr>\n",
       "    <tr>\n",
       "      <th>296</th>\n",
       "      <td>140</td>\n",
       "      <td>iteration 9</td>\n",
       "      <td>59.224617</td>\n",
       "      <td>NMF</td>\n",
       "    </tr>\n",
       "    <tr>\n",
       "      <th>297</th>\n",
       "      <td>150</td>\n",
       "      <td>iteration 9</td>\n",
       "      <td>121.315954</td>\n",
       "      <td>NMF</td>\n",
       "    </tr>\n",
       "    <tr>\n",
       "      <th>298</th>\n",
       "      <td>175</td>\n",
       "      <td>iteration 9</td>\n",
       "      <td>168.960859</td>\n",
       "      <td>NMF</td>\n",
       "    </tr>\n",
       "    <tr>\n",
       "      <th>299</th>\n",
       "      <td>200</td>\n",
       "      <td>iteration 9</td>\n",
       "      <td>229.248734</td>\n",
       "      <td>NMF</td>\n",
       "    </tr>\n",
       "  </tbody>\n",
       "</table>\n",
       "<p>600 rows × 4 columns</p>\n",
       "</div>"
      ],
      "text/plain": [
       "     n_topics     variable        Time Model\n",
       "0           5  iteration 0    4.554285   LDA\n",
       "1          10  iteration 0    5.271661   LDA\n",
       "2          15  iteration 0    5.603527   LDA\n",
       "3          20  iteration 0    5.918412   LDA\n",
       "4          25  iteration 0    6.441256   LDA\n",
       "..        ...          ...         ...   ...\n",
       "295       130  iteration 9   85.224953   NMF\n",
       "296       140  iteration 9   59.224617   NMF\n",
       "297       150  iteration 9  121.315954   NMF\n",
       "298       175  iteration 9  168.960859   NMF\n",
       "299       200  iteration 9  229.248734   NMF\n",
       "\n",
       "[600 rows x 4 columns]"
      ]
     },
     "execution_count": 14,
     "metadata": {},
     "output_type": "execute_result"
    }
   ],
   "source": [
    "all_models"
   ]
  },
  {
   "cell_type": "code",
   "execution_count": 15,
   "metadata": {},
   "outputs": [
    {
     "data": {
      "image/png": "[encoded data removed]",
      "text/plain": [
       "<Figure size 432x288 with 1 Axes>"
      ]
     },
     "metadata": {},
     "output_type": "display_data"
    }
   ],
   "source": [
    "# Time plots by number of topics\n",
    "\n",
    "sns.set_style(\"whitegrid\")\n",
    "sns.lineplot(x=\"n_topics\", y=\"Time\", hue='Model', data=all_models).set(xlim=(0,200))\n",
    "plt.title(\"LDA and NMF Time Comparison\");\n",
    "plt.xlabel('Number of Topics');\n",
    "plt.ylabel('Mean Time (minutes)');\n",
    "\n",
    "plt.savefig(\"time_comparison.png\", dpi = 800)"
   ]
  },
  {
   "cell_type": "code",
   "execution_count": null,
   "metadata": {},
   "outputs": [],
   "source": []
  }
 ],
 "metadata": {
  "kernelspec": {
   "display_name": "Python 3",
   "language": "python",
   "name": "python3"
  },
  "language_info": {
   "codemirror_mode": {
    "name": "ipython",
    "version": 3
   },
   "file_extension": ".py",
   "mimetype": "text/x-python",
   "name": "python",
   "nbconvert_exporter": "python",
   "pygments_lexer": "ipython3",
   "version": "3.8.8"
  }
 },
 "nbformat": 4,
 "nbformat_minor": 4
}
