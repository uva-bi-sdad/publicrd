{
 "cells": [
  {
   "cell_type": "code",
   "execution_count": 1,
   "metadata": {},
   "outputs": [],
   "source": [
    "import pandas as pd\n",
    "import numpy as np\n",
    "import matplotlib.pyplot as plt"
   ]
  },
  {
   "cell_type": "code",
   "execution_count": 2,
   "metadata": {},
   "outputs": [
    {
     "data": {
      "text/plain": [
       "(1143869, 30)"
      ]
     },
     "execution_count": 2,
     "metadata": {},
     "output_type": "execute_result"
    }
   ],
   "source": [
    "# pull in data\n",
    "df = pd.read_pickle(\"../../../data/prd/Paper/FR_meta_and_final_tokens_23DEC21.pkl\")\n",
    "df.reset_index(inplace = True, drop = True)\n",
    "df.shape"
   ]
  },
  {
   "cell_type": "code",
   "execution_count": 3,
   "metadata": {},
   "outputs": [
    {
     "data": {
      "text/html": [
       "<div>\n",
       "<style scoped>\n",
       "    .dataframe tbody tr th:only-of-type {\n",
       "        vertical-align: middle;\n",
       "    }\n",
       "\n",
       "    .dataframe tbody tr th {\n",
       "        vertical-align: top;\n",
       "    }\n",
       "\n",
       "    .dataframe thead th {\n",
       "        text-align: right;\n",
       "    }\n",
       "</style>\n",
       "<table border=\"1\" class=\"dataframe\">\n",
       "  <thead>\n",
       "    <tr style=\"text-align: right;\">\n",
       "      <th></th>\n",
       "      <th>PROJECT_ID</th>\n",
       "      <th>ABSTRACT</th>\n",
       "      <th>PROJECT_TERMS</th>\n",
       "      <th>PROJECT_TITLE</th>\n",
       "      <th>DEPARTMENT</th>\n",
       "      <th>AGENCY</th>\n",
       "      <th>IC_CENTER</th>\n",
       "      <th>PROJECT_NUMBER</th>\n",
       "      <th>PROJECT_START_DATE</th>\n",
       "      <th>PROJECT_END_DATE</th>\n",
       "      <th>...</th>\n",
       "      <th>BUDGET_END_DATE</th>\n",
       "      <th>CFDA_CODE</th>\n",
       "      <th>FY</th>\n",
       "      <th>FY_TOTAL_COST</th>\n",
       "      <th>FY_TOTAL_COST_SUB_PROJECTS</th>\n",
       "      <th>ORG_COUNT</th>\n",
       "      <th>PI_COUNT</th>\n",
       "      <th>FY_TOTAL_COST_SUM</th>\n",
       "      <th>NUM_RECORDS</th>\n",
       "      <th>final_tokens</th>\n",
       "    </tr>\n",
       "  </thead>\n",
       "  <tbody>\n",
       "    <tr>\n",
       "      <th>0</th>\n",
       "      <td>89996</td>\n",
       "      <td>This is a project to explore Game-based, Metap...</td>\n",
       "      <td>Achievement; analog; base; Cognitive Science; ...</td>\n",
       "      <td>RUI: CYGAMES: CYBER-ENABLED TEACHING AND LEARN...</td>\n",
       "      <td>NSF</td>\n",
       "      <td>NSF</td>\n",
       "      <td>NaN</td>\n",
       "      <td>0814512</td>\n",
       "      <td>9/15/2008</td>\n",
       "      <td>8/31/2012</td>\n",
       "      <td>...</td>\n",
       "      <td>NaN</td>\n",
       "      <td>47.076</td>\n",
       "      <td>2008</td>\n",
       "      <td>1999467.0</td>\n",
       "      <td>NaN</td>\n",
       "      <td>1</td>\n",
       "      <td>1</td>\n",
       "      <td>1999467.0</td>\n",
       "      <td>1</td>\n",
       "      <td>project explore game base metaphor enhanced ga...</td>\n",
       "    </tr>\n",
       "    <tr>\n",
       "      <th>1</th>\n",
       "      <td>89997</td>\n",
       "      <td>Institution: Franklin Institute Science Museum...</td>\n",
       "      <td>Active Learning; Child; Computer software; des...</td>\n",
       "      <td>ARIEL - AUGMENTED REALITY FOR INTERPRETIVE AND...</td>\n",
       "      <td>NSF</td>\n",
       "      <td>NSF</td>\n",
       "      <td>NaN</td>\n",
       "      <td>0741659</td>\n",
       "      <td>9/15/2008</td>\n",
       "      <td>8/31/2012</td>\n",
       "      <td>...</td>\n",
       "      <td>NaN</td>\n",
       "      <td>47.076</td>\n",
       "      <td>2008</td>\n",
       "      <td>1799699.0</td>\n",
       "      <td>NaN</td>\n",
       "      <td>1</td>\n",
       "      <td>1</td>\n",
       "      <td>1799699.0</td>\n",
       "      <td>1</td>\n",
       "      <td>institution franklin institute science museum ...</td>\n",
       "    </tr>\n",
       "    <tr>\n",
       "      <th>2</th>\n",
       "      <td>89998</td>\n",
       "      <td>Through programs (including small group conver...</td>\n",
       "      <td>Address; Age; Birth; Brain; Caregivers; Child;...</td>\n",
       "      <td>BRIGHTER FUTURES: PUBLIC DELIBERATION ABOUT TH...</td>\n",
       "      <td>NSF</td>\n",
       "      <td>NSF</td>\n",
       "      <td>NaN</td>\n",
       "      <td>0813522</td>\n",
       "      <td>9/15/2008</td>\n",
       "      <td>8/31/2011</td>\n",
       "      <td>...</td>\n",
       "      <td>NaN</td>\n",
       "      <td>47.076</td>\n",
       "      <td>2008</td>\n",
       "      <td>1505858.0</td>\n",
       "      <td>NaN</td>\n",
       "      <td>1</td>\n",
       "      <td>1</td>\n",
       "      <td>1505858.0</td>\n",
       "      <td>1</td>\n",
       "      <td>program include small group conversation citiz...</td>\n",
       "    </tr>\n",
       "    <tr>\n",
       "      <th>3</th>\n",
       "      <td>89999</td>\n",
       "      <td>In partnership with the American Chemical Soci...</td>\n",
       "      <td>Advanced Development; American; Chemicals; Che...</td>\n",
       "      <td>FOSTERING US-INTERNATIONAL COLLABORATIVE PARTN...</td>\n",
       "      <td>NSF</td>\n",
       "      <td>NSF</td>\n",
       "      <td>NaN</td>\n",
       "      <td>0838627</td>\n",
       "      <td>8/1/2008</td>\n",
       "      <td>12/31/2010</td>\n",
       "      <td>...</td>\n",
       "      <td>NaN</td>\n",
       "      <td>47.049</td>\n",
       "      <td>2008</td>\n",
       "      <td>51000.0</td>\n",
       "      <td>NaN</td>\n",
       "      <td>1</td>\n",
       "      <td>1</td>\n",
       "      <td>51000.0</td>\n",
       "      <td>1</td>\n",
       "      <td>partnership american chemical society acs nati...</td>\n",
       "    </tr>\n",
       "    <tr>\n",
       "      <th>4</th>\n",
       "      <td>90001</td>\n",
       "      <td>The Center for Molecular Interfacing (CMI) wil...</td>\n",
       "      <td>Address; Architecture; Carbon Nanotubes; Catal...</td>\n",
       "      <td>CCI PHASE I: CENTER FOR MOLECULAR INTERFACING</td>\n",
       "      <td>NSF</td>\n",
       "      <td>NSF</td>\n",
       "      <td>NaN</td>\n",
       "      <td>0847926</td>\n",
       "      <td>10/1/2008</td>\n",
       "      <td>9/30/2011</td>\n",
       "      <td>...</td>\n",
       "      <td>NaN</td>\n",
       "      <td>47.049</td>\n",
       "      <td>2008</td>\n",
       "      <td>1519821.0</td>\n",
       "      <td>NaN</td>\n",
       "      <td>1</td>\n",
       "      <td>1</td>\n",
       "      <td>1519821.0</td>\n",
       "      <td>1</td>\n",
       "      <td>center molecular interfacing cmi enable integr...</td>\n",
       "    </tr>\n",
       "  </tbody>\n",
       "</table>\n",
       "<p>5 rows × 30 columns</p>\n",
       "</div>"
      ],
      "text/plain": [
       "  PROJECT_ID                                           ABSTRACT  \\\n",
       "0      89996  This is a project to explore Game-based, Metap...   \n",
       "1      89997  Institution: Franklin Institute Science Museum...   \n",
       "2      89998  Through programs (including small group conver...   \n",
       "3      89999  In partnership with the American Chemical Soci...   \n",
       "4      90001  The Center for Molecular Interfacing (CMI) wil...   \n",
       "\n",
       "                                       PROJECT_TERMS  \\\n",
       "0  Achievement; analog; base; Cognitive Science; ...   \n",
       "1  Active Learning; Child; Computer software; des...   \n",
       "2  Address; Age; Birth; Brain; Caregivers; Child;...   \n",
       "3  Advanced Development; American; Chemicals; Che...   \n",
       "4  Address; Architecture; Carbon Nanotubes; Catal...   \n",
       "\n",
       "                                       PROJECT_TITLE DEPARTMENT AGENCY  \\\n",
       "0  RUI: CYGAMES: CYBER-ENABLED TEACHING AND LEARN...        NSF    NSF   \n",
       "1  ARIEL - AUGMENTED REALITY FOR INTERPRETIVE AND...        NSF    NSF   \n",
       "2  BRIGHTER FUTURES: PUBLIC DELIBERATION ABOUT TH...        NSF    NSF   \n",
       "3  FOSTERING US-INTERNATIONAL COLLABORATIVE PARTN...        NSF    NSF   \n",
       "4      CCI PHASE I: CENTER FOR MOLECULAR INTERFACING        NSF    NSF   \n",
       "\n",
       "  IC_CENTER PROJECT_NUMBER PROJECT_START_DATE PROJECT_END_DATE  ...  \\\n",
       "0       NaN        0814512          9/15/2008        8/31/2012  ...   \n",
       "1       NaN        0741659          9/15/2008        8/31/2012  ...   \n",
       "2       NaN        0813522          9/15/2008        8/31/2011  ...   \n",
       "3       NaN        0838627           8/1/2008       12/31/2010  ...   \n",
       "4       NaN        0847926          10/1/2008        9/30/2011  ...   \n",
       "\n",
       "  BUDGET_END_DATE CFDA_CODE    FY FY_TOTAL_COST FY_TOTAL_COST_SUB_PROJECTS  \\\n",
       "0             NaN    47.076  2008     1999467.0                        NaN   \n",
       "1             NaN    47.076  2008     1799699.0                        NaN   \n",
       "2             NaN    47.076  2008     1505858.0                        NaN   \n",
       "3             NaN    47.049  2008       51000.0                        NaN   \n",
       "4             NaN    47.049  2008     1519821.0                        NaN   \n",
       "\n",
       "  ORG_COUNT PI_COUNT FY_TOTAL_COST_SUM NUM_RECORDS  \\\n",
       "0         1        1         1999467.0           1   \n",
       "1         1        1         1799699.0           1   \n",
       "2         1        1         1505858.0           1   \n",
       "3         1        1           51000.0           1   \n",
       "4         1        1         1519821.0           1   \n",
       "\n",
       "                                        final_tokens  \n",
       "0  project explore game base metaphor enhanced ga...  \n",
       "1  institution franklin institute science museum ...  \n",
       "2  program include small group conversation citiz...  \n",
       "3  partnership american chemical society acs nati...  \n",
       "4  center molecular interfacing cmi enable integr...  \n",
       "\n",
       "[5 rows x 30 columns]"
      ]
     },
     "execution_count": 3,
     "metadata": {},
     "output_type": "execute_result"
    }
   ],
   "source": [
    "df.head()"
   ]
  },
  {
   "cell_type": "code",
   "execution_count": 4,
   "metadata": {},
   "outputs": [],
   "source": [
    "# new approach to grab all \"big data\" matches\n",
    "\n",
    "big_idx = []\n",
    "large_idx = []\n",
    "\n",
    "for i, abstract in enumerate(df[\"ABSTRACT\"]):\n",
    "    if ('big data' in abstract.lower()): \n",
    "        big_idx.append(i)\n",
    "    if ('large data' in abstract.lower()): \n",
    "        large_idx.append(i)"
   ]
  },
  {
   "cell_type": "code",
   "execution_count": 5,
   "metadata": {},
   "outputs": [
    {
     "name": "stdout",
     "output_type": "stream",
     "text": [
      "4383\n",
      "5269\n"
     ]
    }
   ],
   "source": [
    "print(len(big_idx))\n",
    "print(len(large_idx))"
   ]
  },
  {
   "cell_type": "code",
   "execution_count": null,
   "metadata": {},
   "outputs": [],
   "source": []
  },
  {
   "cell_type": "code",
   "execution_count": 6,
   "metadata": {},
   "outputs": [
    {
     "data": {
      "text/html": [
       "<div>\n",
       "<style scoped>\n",
       "    .dataframe tbody tr th:only-of-type {\n",
       "        vertical-align: middle;\n",
       "    }\n",
       "\n",
       "    .dataframe tbody tr th {\n",
       "        vertical-align: top;\n",
       "    }\n",
       "\n",
       "    .dataframe thead th {\n",
       "        text-align: right;\n",
       "    }\n",
       "</style>\n",
       "<table border=\"1\" class=\"dataframe\">\n",
       "  <thead>\n",
       "    <tr style=\"text-align: right;\">\n",
       "      <th></th>\n",
       "      <th>PROJECT_ID</th>\n",
       "      <th>ABSTRACT</th>\n",
       "      <th>PROJECT_TERMS</th>\n",
       "      <th>PROJECT_TITLE</th>\n",
       "      <th>DEPARTMENT</th>\n",
       "      <th>AGENCY</th>\n",
       "      <th>IC_CENTER</th>\n",
       "      <th>PROJECT_NUMBER</th>\n",
       "      <th>PROJECT_START_DATE</th>\n",
       "      <th>PROJECT_END_DATE</th>\n",
       "      <th>...</th>\n",
       "      <th>BUDGET_END_DATE</th>\n",
       "      <th>CFDA_CODE</th>\n",
       "      <th>FY</th>\n",
       "      <th>FY_TOTAL_COST</th>\n",
       "      <th>FY_TOTAL_COST_SUB_PROJECTS</th>\n",
       "      <th>ORG_COUNT</th>\n",
       "      <th>PI_COUNT</th>\n",
       "      <th>FY_TOTAL_COST_SUM</th>\n",
       "      <th>NUM_RECORDS</th>\n",
       "      <th>final_tokens</th>\n",
       "    </tr>\n",
       "  </thead>\n",
       "  <tbody>\n",
       "    <tr>\n",
       "      <th>105027</th>\n",
       "      <td>114036</td>\n",
       "      <td>The Virtualization Studio spearheads research ...</td>\n",
       "      <td>Algorithms; Arts; Behavior; Biological Preserv...</td>\n",
       "      <td>II-EN THE HUMAN VIRTUALIZATION STUDIO: FROM DI...</td>\n",
       "      <td>NSF</td>\n",
       "      <td>NSF</td>\n",
       "      <td>NaN</td>\n",
       "      <td>0855163</td>\n",
       "      <td>7/15/2009</td>\n",
       "      <td>6/30/2011</td>\n",
       "      <td>...</td>\n",
       "      <td>NaN</td>\n",
       "      <td>47.070</td>\n",
       "      <td>2009</td>\n",
       "      <td>600000.0</td>\n",
       "      <td>NaN</td>\n",
       "      <td>1</td>\n",
       "      <td>1</td>\n",
       "      <td>600000.0</td>\n",
       "      <td>1</td>\n",
       "      <td>virtualization studio spearhead research recon...</td>\n",
       "    </tr>\n",
       "    <tr>\n",
       "      <th>110140</th>\n",
       "      <td>119449</td>\n",
       "      <td>Progress in the field of machine translation (...</td>\n",
       "      <td>Algorithms; Architecture; Area; cluster comput...</td>\n",
       "      <td>INCA: AN INTEGRATED CLUSTER COMPUTING ARCHITEC...</td>\n",
       "      <td>NSF</td>\n",
       "      <td>NSF</td>\n",
       "      <td>NaN</td>\n",
       "      <td>0844507</td>\n",
       "      <td>2/15/2009</td>\n",
       "      <td>1/31/2012</td>\n",
       "      <td>...</td>\n",
       "      <td>NaN</td>\n",
       "      <td>47.070</td>\n",
       "      <td>2009</td>\n",
       "      <td>465089.0</td>\n",
       "      <td>NaN</td>\n",
       "      <td>1</td>\n",
       "      <td>1</td>\n",
       "      <td>465089.0</td>\n",
       "      <td>1</td>\n",
       "      <td>progress field machine translation mt come dep...</td>\n",
       "    </tr>\n",
       "    <tr>\n",
       "      <th>153476</th>\n",
       "      <td>275113</td>\n",
       "      <td>DESCRIPTION (provided by applicant): Rare dise...</td>\n",
       "      <td>abstracting; Acquired Immunodeficiency Syndrom...</td>\n",
       "      <td>INTEGRATED DISCOVERY AND HYPOTHESIS TESTING OF...</td>\n",
       "      <td>HHS</td>\n",
       "      <td>NIH</td>\n",
       "      <td>NLM</td>\n",
       "      <td>1R01LM010140-01</td>\n",
       "      <td>7/1/2009</td>\n",
       "      <td>6/30/2011</td>\n",
       "      <td>...</td>\n",
       "      <td>6/30/2010</td>\n",
       "      <td>93.701</td>\n",
       "      <td>2009</td>\n",
       "      <td>533007.0</td>\n",
       "      <td>NaN</td>\n",
       "      <td>1</td>\n",
       "      <td>1</td>\n",
       "      <td>533007.0</td>\n",
       "      <td>1</td>\n",
       "      <td>rare disease study isolated laboratory forget ...</td>\n",
       "    </tr>\n",
       "    <tr>\n",
       "      <th>157841</th>\n",
       "      <td>280840</td>\n",
       "      <td>DESCRIPTION (provided by applicant): Recent ad...</td>\n",
       "      <td>Achievement; Address; Adopted; Algorithms; ant...</td>\n",
       "      <td>SEMANTIC DATA INTEGRATION FOR INTEGRATIVE CANC...</td>\n",
       "      <td>HHS</td>\n",
       "      <td>NIH</td>\n",
       "      <td>NCI</td>\n",
       "      <td>2R44CA132293-02A2</td>\n",
       "      <td>9/21/2007</td>\n",
       "      <td>8/31/2012</td>\n",
       "      <td>...</td>\n",
       "      <td>8/31/2010</td>\n",
       "      <td>93.396</td>\n",
       "      <td>2009</td>\n",
       "      <td>449882.0</td>\n",
       "      <td>NaN</td>\n",
       "      <td>1</td>\n",
       "      <td>1</td>\n",
       "      <td>449882.0</td>\n",
       "      <td>1</td>\n",
       "      <td>recent advance high throughput measurement cri...</td>\n",
       "    </tr>\n",
       "    <tr>\n",
       "      <th>257284</th>\n",
       "      <td>350954</td>\n",
       "      <td>DESCRIPTION (provided by applicant): Recent ad...</td>\n",
       "      <td>Achievement; Address; Adopted; Algorithms; ant...</td>\n",
       "      <td>SEMANTIC DATA INTEGRATION FOR INTEGRATIVE CANC...</td>\n",
       "      <td>HHS</td>\n",
       "      <td>NIH</td>\n",
       "      <td>NCI</td>\n",
       "      <td>5R44CA132293-03</td>\n",
       "      <td>9/21/2007</td>\n",
       "      <td>8/31/2012</td>\n",
       "      <td>...</td>\n",
       "      <td>8/31/2011</td>\n",
       "      <td>93.396</td>\n",
       "      <td>2010</td>\n",
       "      <td>463379.0</td>\n",
       "      <td>NaN</td>\n",
       "      <td>1</td>\n",
       "      <td>1</td>\n",
       "      <td>463379.0</td>\n",
       "      <td>1</td>\n",
       "      <td>recent advance high throughput measurement cri...</td>\n",
       "    </tr>\n",
       "  </tbody>\n",
       "</table>\n",
       "<p>5 rows × 30 columns</p>\n",
       "</div>"
      ],
      "text/plain": [
       "       PROJECT_ID                                           ABSTRACT  \\\n",
       "105027     114036  The Virtualization Studio spearheads research ...   \n",
       "110140     119449  Progress in the field of machine translation (...   \n",
       "153476     275113  DESCRIPTION (provided by applicant): Rare dise...   \n",
       "157841     280840  DESCRIPTION (provided by applicant): Recent ad...   \n",
       "257284     350954  DESCRIPTION (provided by applicant): Recent ad...   \n",
       "\n",
       "                                            PROJECT_TERMS  \\\n",
       "105027  Algorithms; Arts; Behavior; Biological Preserv...   \n",
       "110140  Algorithms; Architecture; Area; cluster comput...   \n",
       "153476  abstracting; Acquired Immunodeficiency Syndrom...   \n",
       "157841  Achievement; Address; Adopted; Algorithms; ant...   \n",
       "257284  Achievement; Address; Adopted; Algorithms; ant...   \n",
       "\n",
       "                                            PROJECT_TITLE DEPARTMENT AGENCY  \\\n",
       "105027  II-EN THE HUMAN VIRTUALIZATION STUDIO: FROM DI...        NSF    NSF   \n",
       "110140  INCA: AN INTEGRATED CLUSTER COMPUTING ARCHITEC...        NSF    NSF   \n",
       "153476  INTEGRATED DISCOVERY AND HYPOTHESIS TESTING OF...        HHS    NIH   \n",
       "157841  SEMANTIC DATA INTEGRATION FOR INTEGRATIVE CANC...        HHS    NIH   \n",
       "257284  SEMANTIC DATA INTEGRATION FOR INTEGRATIVE CANC...        HHS    NIH   \n",
       "\n",
       "       IC_CENTER     PROJECT_NUMBER PROJECT_START_DATE PROJECT_END_DATE  ...  \\\n",
       "105027       NaN            0855163          7/15/2009        6/30/2011  ...   \n",
       "110140       NaN            0844507          2/15/2009        1/31/2012  ...   \n",
       "153476       NLM    1R01LM010140-01           7/1/2009        6/30/2011  ...   \n",
       "157841       NCI  2R44CA132293-02A2          9/21/2007        8/31/2012  ...   \n",
       "257284       NCI    5R44CA132293-03          9/21/2007        8/31/2012  ...   \n",
       "\n",
       "       BUDGET_END_DATE CFDA_CODE    FY FY_TOTAL_COST  \\\n",
       "105027             NaN    47.070  2009      600000.0   \n",
       "110140             NaN    47.070  2009      465089.0   \n",
       "153476       6/30/2010    93.701  2009      533007.0   \n",
       "157841       8/31/2010    93.396  2009      449882.0   \n",
       "257284       8/31/2011    93.396  2010      463379.0   \n",
       "\n",
       "       FY_TOTAL_COST_SUB_PROJECTS ORG_COUNT PI_COUNT FY_TOTAL_COST_SUM  \\\n",
       "105027                        NaN         1        1          600000.0   \n",
       "110140                        NaN         1        1          465089.0   \n",
       "153476                        NaN         1        1          533007.0   \n",
       "157841                        NaN         1        1          449882.0   \n",
       "257284                        NaN         1        1          463379.0   \n",
       "\n",
       "       NUM_RECORDS                                       final_tokens  \n",
       "105027           1  virtualization studio spearhead research recon...  \n",
       "110140           1  progress field machine translation mt come dep...  \n",
       "153476           1  rare disease study isolated laboratory forget ...  \n",
       "157841           1  recent advance high throughput measurement cri...  \n",
       "257284           1  recent advance high throughput measurement cri...  \n",
       "\n",
       "[5 rows x 30 columns]"
      ]
     },
     "execution_count": 6,
     "metadata": {},
     "output_type": "execute_result"
    }
   ],
   "source": [
    "big_df = df.iloc[big_idx]\n",
    "big_df.head()"
   ]
  },
  {
   "cell_type": "code",
   "execution_count": 7,
   "metadata": {},
   "outputs": [
    {
     "data": {
      "text/html": [
       "<div>\n",
       "<style scoped>\n",
       "    .dataframe tbody tr th:only-of-type {\n",
       "        vertical-align: middle;\n",
       "    }\n",
       "\n",
       "    .dataframe tbody tr th {\n",
       "        vertical-align: top;\n",
       "    }\n",
       "\n",
       "    .dataframe thead th {\n",
       "        text-align: right;\n",
       "    }\n",
       "</style>\n",
       "<table border=\"1\" class=\"dataframe\">\n",
       "  <thead>\n",
       "    <tr style=\"text-align: right;\">\n",
       "      <th></th>\n",
       "      <th>PROJECT_ID</th>\n",
       "      <th>ABSTRACT</th>\n",
       "      <th>PROJECT_TERMS</th>\n",
       "      <th>PROJECT_TITLE</th>\n",
       "      <th>DEPARTMENT</th>\n",
       "      <th>AGENCY</th>\n",
       "      <th>IC_CENTER</th>\n",
       "      <th>PROJECT_NUMBER</th>\n",
       "      <th>PROJECT_START_DATE</th>\n",
       "      <th>PROJECT_END_DATE</th>\n",
       "      <th>...</th>\n",
       "      <th>BUDGET_END_DATE</th>\n",
       "      <th>CFDA_CODE</th>\n",
       "      <th>FY</th>\n",
       "      <th>FY_TOTAL_COST</th>\n",
       "      <th>FY_TOTAL_COST_SUB_PROJECTS</th>\n",
       "      <th>ORG_COUNT</th>\n",
       "      <th>PI_COUNT</th>\n",
       "      <th>FY_TOTAL_COST_SUM</th>\n",
       "      <th>NUM_RECORDS</th>\n",
       "      <th>final_tokens</th>\n",
       "    </tr>\n",
       "  </thead>\n",
       "  <tbody>\n",
       "    <tr>\n",
       "      <th>20</th>\n",
       "      <td>89991</td>\n",
       "      <td>This proposed project is an empirical study th...</td>\n",
       "      <td>Achievement; Address; Area; cognitive neurosci...</td>\n",
       "      <td>MATH AND SCIENCE ACHIEVEMENT GAPS FOR MINORITY...</td>\n",
       "      <td>NSF</td>\n",
       "      <td>NSF</td>\n",
       "      <td>NaN</td>\n",
       "      <td>0815787</td>\n",
       "      <td>9/15/2008</td>\n",
       "      <td>8/31/2012</td>\n",
       "      <td>...</td>\n",
       "      <td>NaN</td>\n",
       "      <td>47.076</td>\n",
       "      <td>2008</td>\n",
       "      <td>952710.0</td>\n",
       "      <td>NaN</td>\n",
       "      <td>1</td>\n",
       "      <td>1</td>\n",
       "      <td>952710.0</td>\n",
       "      <td>1</td>\n",
       "      <td>propose project empirical study fall contextua...</td>\n",
       "    </tr>\n",
       "    <tr>\n",
       "      <th>162</th>\n",
       "      <td>90188</td>\n",
       "      <td>An extraordinary explosion of new information ...</td>\n",
       "      <td>Archaeology; Area; Award; base; Biological; cl...</td>\n",
       "      <td>ALFRED: MAKING VERY HIGH THROUGHPUT DATA ACCES...</td>\n",
       "      <td>NSF</td>\n",
       "      <td>NSF</td>\n",
       "      <td>NaN</td>\n",
       "      <td>0840570</td>\n",
       "      <td>9/15/2008</td>\n",
       "      <td>8/31/2010</td>\n",
       "      <td>...</td>\n",
       "      <td>NaN</td>\n",
       "      <td>47.075</td>\n",
       "      <td>2008</td>\n",
       "      <td>199997.0</td>\n",
       "      <td>NaN</td>\n",
       "      <td>1</td>\n",
       "      <td>1</td>\n",
       "      <td>199997.0</td>\n",
       "      <td>1</td>\n",
       "      <td>extraordinary explosion new information human ...</td>\n",
       "    </tr>\n",
       "    <tr>\n",
       "      <th>641</th>\n",
       "      <td>90442</td>\n",
       "      <td>This collaborative research project between th...</td>\n",
       "      <td>Algorithms; Area; Behavior; Collection; Data; ...</td>\n",
       "      <td>COLLABORATIVE RESEARCH: EDUCATIONAL DATA MININ...</td>\n",
       "      <td>NSF</td>\n",
       "      <td>NSF</td>\n",
       "      <td>NaN</td>\n",
       "      <td>0840745</td>\n",
       "      <td>10/1/2008</td>\n",
       "      <td>9/30/2012</td>\n",
       "      <td>...</td>\n",
       "      <td>NaN</td>\n",
       "      <td>47.076</td>\n",
       "      <td>2008</td>\n",
       "      <td>74935.0</td>\n",
       "      <td>NaN</td>\n",
       "      <td>2</td>\n",
       "      <td>2</td>\n",
       "      <td>112572.0</td>\n",
       "      <td>2</td>\n",
       "      <td>collaborative research project exploratorium u...</td>\n",
       "    </tr>\n",
       "    <tr>\n",
       "      <th>851</th>\n",
       "      <td>90963</td>\n",
       "      <td>TECHNICAL SUMMARY:This award support research ...</td>\n",
       "      <td>Ablation; Address; Affect; Award; base; Biomed...</td>\n",
       "      <td>MULTISCALE SIMULATION OF LASER PROCESSING AND ...</td>\n",
       "      <td>NSF</td>\n",
       "      <td>NSF</td>\n",
       "      <td>NaN</td>\n",
       "      <td>0809015</td>\n",
       "      <td>9/15/2008</td>\n",
       "      <td>8/31/2011</td>\n",
       "      <td>...</td>\n",
       "      <td>NaN</td>\n",
       "      <td>47.049</td>\n",
       "      <td>2008</td>\n",
       "      <td>150000.0</td>\n",
       "      <td>NaN</td>\n",
       "      <td>1</td>\n",
       "      <td>1</td>\n",
       "      <td>150000.0</td>\n",
       "      <td>1</td>\n",
       "      <td>award support research education optical inter...</td>\n",
       "    </tr>\n",
       "    <tr>\n",
       "      <th>901</th>\n",
       "      <td>90746</td>\n",
       "      <td>Engaging undergraduate students in authentic r...</td>\n",
       "      <td>Address; Adoption; base; Behavior; Bioinformat...</td>\n",
       "      <td>SCAFFOLDING CONCEPTUALLY DRIVEN GENOMICS EDUCA...</td>\n",
       "      <td>NSF</td>\n",
       "      <td>NSF</td>\n",
       "      <td>NaN</td>\n",
       "      <td>0837375</td>\n",
       "      <td>12/15/2008</td>\n",
       "      <td>11/30/2011</td>\n",
       "      <td>...</td>\n",
       "      <td>NaN</td>\n",
       "      <td>47.076</td>\n",
       "      <td>2008</td>\n",
       "      <td>149976.0</td>\n",
       "      <td>NaN</td>\n",
       "      <td>1</td>\n",
       "      <td>1</td>\n",
       "      <td>149976.0</td>\n",
       "      <td>1</td>\n",
       "      <td>engage undergraduate student authentic researc...</td>\n",
       "    </tr>\n",
       "  </tbody>\n",
       "</table>\n",
       "<p>5 rows × 30 columns</p>\n",
       "</div>"
      ],
      "text/plain": [
       "    PROJECT_ID                                           ABSTRACT  \\\n",
       "20       89991  This proposed project is an empirical study th...   \n",
       "162      90188  An extraordinary explosion of new information ...   \n",
       "641      90442  This collaborative research project between th...   \n",
       "851      90963  TECHNICAL SUMMARY:This award support research ...   \n",
       "901      90746  Engaging undergraduate students in authentic r...   \n",
       "\n",
       "                                         PROJECT_TERMS  \\\n",
       "20   Achievement; Address; Area; cognitive neurosci...   \n",
       "162  Archaeology; Area; Award; base; Biological; cl...   \n",
       "641  Algorithms; Area; Behavior; Collection; Data; ...   \n",
       "851  Ablation; Address; Affect; Award; base; Biomed...   \n",
       "901  Address; Adoption; base; Behavior; Bioinformat...   \n",
       "\n",
       "                                         PROJECT_TITLE DEPARTMENT AGENCY  \\\n",
       "20   MATH AND SCIENCE ACHIEVEMENT GAPS FOR MINORITY...        NSF    NSF   \n",
       "162  ALFRED: MAKING VERY HIGH THROUGHPUT DATA ACCES...        NSF    NSF   \n",
       "641  COLLABORATIVE RESEARCH: EDUCATIONAL DATA MININ...        NSF    NSF   \n",
       "851  MULTISCALE SIMULATION OF LASER PROCESSING AND ...        NSF    NSF   \n",
       "901  SCAFFOLDING CONCEPTUALLY DRIVEN GENOMICS EDUCA...        NSF    NSF   \n",
       "\n",
       "    IC_CENTER PROJECT_NUMBER PROJECT_START_DATE PROJECT_END_DATE  ...  \\\n",
       "20        NaN        0815787          9/15/2008        8/31/2012  ...   \n",
       "162       NaN        0840570          9/15/2008        8/31/2010  ...   \n",
       "641       NaN        0840745          10/1/2008        9/30/2012  ...   \n",
       "851       NaN        0809015          9/15/2008        8/31/2011  ...   \n",
       "901       NaN        0837375         12/15/2008       11/30/2011  ...   \n",
       "\n",
       "    BUDGET_END_DATE CFDA_CODE    FY FY_TOTAL_COST FY_TOTAL_COST_SUB_PROJECTS  \\\n",
       "20              NaN    47.076  2008      952710.0                        NaN   \n",
       "162             NaN    47.075  2008      199997.0                        NaN   \n",
       "641             NaN    47.076  2008       74935.0                        NaN   \n",
       "851             NaN    47.049  2008      150000.0                        NaN   \n",
       "901             NaN    47.076  2008      149976.0                        NaN   \n",
       "\n",
       "    ORG_COUNT PI_COUNT FY_TOTAL_COST_SUM NUM_RECORDS  \\\n",
       "20          1        1          952710.0           1   \n",
       "162         1        1          199997.0           1   \n",
       "641         2        2          112572.0           2   \n",
       "851         1        1          150000.0           1   \n",
       "901         1        1          149976.0           1   \n",
       "\n",
       "                                          final_tokens  \n",
       "20   propose project empirical study fall contextua...  \n",
       "162  extraordinary explosion new information human ...  \n",
       "641  collaborative research project exploratorium u...  \n",
       "851  award support research education optical inter...  \n",
       "901  engage undergraduate student authentic researc...  \n",
       "\n",
       "[5 rows x 30 columns]"
      ]
     },
     "execution_count": 7,
     "metadata": {},
     "output_type": "execute_result"
    }
   ],
   "source": [
    "large_df = df.iloc[large_idx]\n",
    "large_df.head()"
   ]
  },
  {
   "cell_type": "code",
   "execution_count": null,
   "metadata": {},
   "outputs": [],
   "source": []
  },
  {
   "cell_type": "code",
   "execution_count": 20,
   "metadata": {},
   "outputs": [
    {
     "data": {
      "text/plain": [
       "HHS     2264\n",
       "NSF     2074\n",
       "USDA      27\n",
       "VA         8\n",
       "DOD        7\n",
       "NASA       2\n",
       "EPA        1\n",
       "Name: DEPARTMENT, dtype: int64"
      ]
     },
     "execution_count": 20,
     "metadata": {},
     "output_type": "execute_result"
    }
   ],
   "source": [
    "# agency distribution\n",
    "\n",
    "big_df[\"DEPARTMENT\"].value_counts()"
   ]
  },
  {
   "cell_type": "code",
   "execution_count": 21,
   "metadata": {},
   "outputs": [
    {
     "name": "stdout",
     "output_type": "stream",
     "text": [
      "HHS     51.654118\n",
      "NSF     47.319188\n",
      "USDA     0.616016\n",
      "VA       0.182523\n",
      "DOD      0.159708\n",
      "NASA     0.045631\n",
      "EPA      0.022815\n",
      "Name: DEPARTMENT, dtype: float64\n"
     ]
    }
   ],
   "source": [
    "agency_counts = 100*big_df[\"DEPARTMENT\"].value_counts()/len(big_df)\n",
    "print(agency_counts)"
   ]
  },
  {
   "cell_type": "code",
   "execution_count": 22,
   "metadata": {},
   "outputs": [
    {
     "data": {
      "image/png": "[encoded data removed]",
      "text/plain": [
       "<Figure size 432x288 with 1 Axes>"
      ]
     },
     "metadata": {
      "needs_background": "light"
     },
     "output_type": "display_data"
    }
   ],
   "source": [
    "# plot\n",
    "agency = agency_counts.index.tolist()\n",
    "count = agency_counts.values\n",
    "\n",
    "fig = plt.figure()\n",
    "ax = fig.add_subplot(111)\n",
    "ax.set_axisbelow(True)\n",
    "plt.grid(True, color = \"whitesmoke\")\n",
    "plt.bar(agency, count, color='navy')\n",
    "plt.ylim(0,100)\n",
    "plt.xlabel(\"Agency\")\n",
    "plt.ylabel(\"Percent of Dataset\")\n",
    "plt.title(\"'Big Data' Term Match\")\n",
    "\n",
    "plt.savefig(\"big_data_agency_dist.png\", dpi = 800, bbox_inches = \"tight\")\n",
    "#plt.savefig(\"big_data_agency_dist.pdf\", dpi = 800, bbox_inches = \"tight\")"
   ]
  },
  {
   "cell_type": "code",
   "execution_count": 23,
   "metadata": {},
   "outputs": [
    {
     "name": "stderr",
     "output_type": "stream",
     "text": [
      "/home/kjl5t/.local/lib/python3.8/site-packages/pandas/core/frame.py:3607: SettingWithCopyWarning: \n",
      "A value is trying to be set on a copy of a slice from a DataFrame.\n",
      "Try using .loc[row_indexer,col_indexer] = value instead\n",
      "\n",
      "See the caveats in the documentation: https://pandas.pydata.org/pandas-docs/stable/user_guide/indexing.html#returning-a-view-versus-a-copy\n",
      "  self._set_item(key, value)\n"
     ]
    }
   ],
   "source": [
    "big_df[\"FY\"] = pd.to_numeric(big_df[\"FY\"])\n",
    "large_df[\"FY\"] = pd.to_numeric(large_df[\"FY\"])"
   ]
  },
  {
   "cell_type": "code",
   "execution_count": 24,
   "metadata": {},
   "outputs": [
    {
     "name": "stdout",
     "output_type": "stream",
     "text": [
      "2009      4\n",
      "2010      2\n",
      "2011      5\n",
      "2012     58\n",
      "2013    181\n",
      "2014    314\n",
      "2015    459\n",
      "2016    612\n",
      "2017    634\n",
      "2018    711\n",
      "2019    705\n",
      "2020    698\n",
      "Name: FY, dtype: int64\n"
     ]
    }
   ],
   "source": [
    "year_counts = big_df['FY'].value_counts().sort_index(ascending=True)\n",
    "print(year_counts)"
   ]
  },
  {
   "cell_type": "code",
   "execution_count": 25,
   "metadata": {},
   "outputs": [
    {
     "name": "stderr",
     "output_type": "stream",
     "text": [
      "<ipython-input-25-949f2c9af101>:13: UserWarning: FixedFormatter should only be used together with FixedLocator\n",
      "  ax.set_yticklabels(['{:,}'.format(int(x)) for x in ax.get_yticks().tolist()])\n"
     ]
    },
    {
     "data": {
      "image/png": "[encoded data removed]",
      "text/plain": [
       "<Figure size 432x288 with 1 Axes>"
      ]
     },
     "metadata": {
      "needs_background": "light"
     },
     "output_type": "display_data"
    }
   ],
   "source": [
    "# plot\n",
    "year = year_counts.index.tolist()\n",
    "count = year_counts.values\n",
    "\n",
    "fig = plt.figure()\n",
    "ax = fig.add_subplot(111)\n",
    "ax.set_axisbelow(True)\n",
    "plt.grid(True, color = \"whitesmoke\")\n",
    "plt.bar(year, count, color='navy')\n",
    "#plt.xlim(-0.7, len(year)-0.3)\n",
    "plt.xlim(2008.3,2020.7)\n",
    "plt.xticks(year, rotation=45)\n",
    "ax.set_yticklabels(['{:,}'.format(int(x)) for x in ax.get_yticks().tolist()])\n",
    "#x_ticks = ax.xaxis.get_major_ticks()\n",
    "#x_ticks[-1].label1.set_visible(False)\n",
    "plt.xlabel(\"FY\")\n",
    "plt.ylabel(\"Number of Projects\")\n",
    "plt.title(\"'Big Data' Term Match\")\n",
    "\n",
    "plt.savefig(\"big_data_startyr_freq.png\", dpi = 800, bbox_inches = \"tight\")\n",
    "#plt.savefig(\"big_data_startyr_freq.pdf\", dpi = 800, bbox_inches = \"tight\")"
   ]
  },
  {
   "cell_type": "code",
   "execution_count": null,
   "metadata": {},
   "outputs": [],
   "source": []
  },
  {
   "cell_type": "code",
   "execution_count": null,
   "metadata": {},
   "outputs": [],
   "source": []
  },
  {
   "cell_type": "code",
   "execution_count": 26,
   "metadata": {},
   "outputs": [
    {
     "data": {
      "text/plain": [
       "HHS     3641\n",
       "NSF     1514\n",
       "USDA      33\n",
       "VA        33\n",
       "DOD       26\n",
       "NASA      13\n",
       "ED         7\n",
       "EPA        2\n",
       "Name: DEPARTMENT, dtype: int64"
      ]
     },
     "execution_count": 26,
     "metadata": {},
     "output_type": "execute_result"
    }
   ],
   "source": [
    "# agency distribution\n",
    "\n",
    "large_df[\"DEPARTMENT\"].value_counts()"
   ]
  },
  {
   "cell_type": "code",
   "execution_count": 27,
   "metadata": {},
   "outputs": [
    {
     "name": "stdout",
     "output_type": "stream",
     "text": [
      "HHS     69.102296\n",
      "NSF     28.734105\n",
      "USDA     0.626305\n",
      "VA       0.626305\n",
      "DOD      0.493452\n",
      "NASA     0.246726\n",
      "ED       0.132853\n",
      "EPA      0.037958\n",
      "Name: DEPARTMENT, dtype: float64\n"
     ]
    }
   ],
   "source": [
    "agency_counts = 100*large_df[\"DEPARTMENT\"].value_counts()/len(large_df)\n",
    "print(agency_counts)"
   ]
  },
  {
   "cell_type": "code",
   "execution_count": 28,
   "metadata": {},
   "outputs": [
    {
     "data": {
      "image/png": "[encoded data removed]",
      "text/plain": [
       "<Figure size 432x288 with 1 Axes>"
      ]
     },
     "metadata": {
      "needs_background": "light"
     },
     "output_type": "display_data"
    }
   ],
   "source": [
    "# plot\n",
    "agency = agency_counts.index.tolist()\n",
    "count = agency_counts.values\n",
    "\n",
    "fig = plt.figure()\n",
    "ax = fig.add_subplot(111)\n",
    "ax.set_axisbelow(True)\n",
    "plt.grid(True, color = \"whitesmoke\")\n",
    "plt.bar(agency, count, color='navy')\n",
    "plt.ylim(0,100)\n",
    "plt.xlabel(\"Agency\")\n",
    "plt.ylabel(\"Percent of Dataset\")\n",
    "plt.title(\"'Large Data' Term Match\")\n",
    "\n",
    "plt.savefig(\"large_data_agency_dist.png\", dpi = 800, bbox_inches = \"tight\")\n",
    "#plt.savefig(\"large_data_agency_dist.pdf\", dpi = 800, bbox_inches = \"tight\")"
   ]
  },
  {
   "cell_type": "code",
   "execution_count": 29,
   "metadata": {},
   "outputs": [
    {
     "name": "stdout",
     "output_type": "stream",
     "text": [
      "2008    265\n",
      "2009    352\n",
      "2010    350\n",
      "2011    309\n",
      "2012    302\n",
      "2013    352\n",
      "2014    361\n",
      "2015    420\n",
      "2016    446\n",
      "2017    483\n",
      "2018    535\n",
      "2019    520\n",
      "2020    574\n",
      "Name: FY, dtype: int64\n"
     ]
    }
   ],
   "source": [
    "year_counts = large_df['FY'].value_counts().sort_index(ascending=True)\n",
    "print(year_counts)"
   ]
  },
  {
   "cell_type": "code",
   "execution_count": 30,
   "metadata": {},
   "outputs": [
    {
     "name": "stderr",
     "output_type": "stream",
     "text": [
      "<ipython-input-30-9472609eaef6>:13: UserWarning: FixedFormatter should only be used together with FixedLocator\n",
      "  ax.set_yticklabels(['{:,}'.format(int(x)) for x in ax.get_yticks().tolist()])\n"
     ]
    },
    {
     "data": {
      "image/png": "[encoded data removed]",
      "text/plain": [
       "<Figure size 432x288 with 1 Axes>"
      ]
     },
     "metadata": {
      "needs_background": "light"
     },
     "output_type": "display_data"
    }
   ],
   "source": [
    "# plot\n",
    "year = year_counts.index.tolist()\n",
    "count = year_counts.values\n",
    "\n",
    "fig = plt.figure()\n",
    "ax = fig.add_subplot(111)\n",
    "ax.set_axisbelow(True)\n",
    "plt.grid(True, color = \"whitesmoke\")\n",
    "plt.bar(year, count, color='navy')\n",
    "#plt.xlim(-0.7, len(year)-0.3)\n",
    "plt.xlim(2007.3,2020.7)\n",
    "plt.xticks(year, rotation=45)\n",
    "ax.set_yticklabels(['{:,}'.format(int(x)) for x in ax.get_yticks().tolist()])\n",
    "#x_ticks = ax.xaxis.get_major_ticks()\n",
    "#x_ticks[-1].label1.set_visible(False)\n",
    "plt.xlabel(\"FY\")\n",
    "plt.ylabel(\"Number of Projects\")\n",
    "plt.title(\"'Large Data' Term Match\")\n",
    "\n",
    "plt.savefig(\"large_data_startyr_freq.png\", dpi = 800, bbox_inches = \"tight\")\n",
    "#plt.savefig(\"large_data_startyr_freq.pdf\", dpi = 800, bbox_inches = \"tight\")"
   ]
  },
  {
   "cell_type": "code",
   "execution_count": null,
   "metadata": {},
   "outputs": [],
   "source": []
  },
  {
   "cell_type": "code",
   "execution_count": null,
   "metadata": {},
   "outputs": [],
   "source": []
  },
  {
   "cell_type": "code",
   "execution_count": 66,
   "metadata": {},
   "outputs": [
    {
     "data": {
      "text/plain": [
       "\"This collaborative research project between the Exploratorium and Utah State's Department of Instructional Technology and Learning Sciences investigates online evaluation approaches and the application of educational data mining to educational digital libraries and services. Much work over the past decades has focused on developing algorithms and methods for discovering patterns in large datasets, known as Knowledge Discovery from Data (KDD). Webmetrics, the application of KDD to web usage mining, is growing rapidly in areas such as e-commerce. Educational Data Mining (EDM) is just beginning to emerge as a tool to analyze the massive, longitudinal user data that are captured in online learning environments and educational digital libraries.This project uses EDM to examine data from the Exploratorium's Learning Resources Collection and the Instructional Architect at Utah State University. The results are combined with more traditional evaluation data (e.g., surveys, interviews) as part of a comprehensive strategy to understand science teachers' behaviors, motivations, and learning experiences with digital library resources The outcomes of this targeted research promise to contribute new knowledge regarding Knowledge Discovery from Data and the application of Educational Data Mining to digital libraries. The project informs improvements in the design of the user experience, as well as tailored teacher professional development, contributing to a growing body of research on teacher learning by using cyber-enabled approaches.\""
      ]
     },
     "execution_count": 66,
     "metadata": {},
     "output_type": "execute_result"
    }
   ],
   "source": [
    "# example abstracts\n",
    "\n",
    "large_df[\"ABSTRACT\"].iloc[2]"
   ]
  },
  {
   "cell_type": "code",
   "execution_count": 67,
   "metadata": {},
   "outputs": [
    {
     "data": {
      "text/plain": [
       "'Progress in the field of machine translation (MT) has come to depend heavily on open-source toolkits, which make it easier for new research groups to tackle the problem at lower cost, broadening participation.  Unfortunately, toolkits have not kept up with modern computing infrastructure (e.g., the MapReduce framework) required for modern  big data  approaches to MT, the  primitives  in most toolkits are hardly extensible to new models since they focus on pipeline components rather than algorithmic concepts, and experiment management has been all but ignored.This project is developing the  Integrated Cluster Computing Architecture (INCA) for translation to overcome these challenges, by implementing an extensible, open-source toolkit that can leverage MapReduce clusters and flexibly implement many types of MT systems.  MT is not a perfect fit for MapReduce (it has massive memory footprints and requires iterative algorithms); new algorithms are being developed to take advantage of the framework without being limited by it.  Experiment management, evaluation, and advice about  best practices  are also part of the toolkit, to make it as widely accessible as possible.This project is expected to have broad impact in MT research through the open-source toolkit to be made available to the research community.  A course project suitable for undergraduates will be developed and shared openly using the toolkit.  Technical solutions to problems in large-scale, parallelized MT will be applicable in areas of data-intensive natural language processing and machine learning, and elements of the toolkit are expected to be useful in such research efforts as well.'"
      ]
     },
     "execution_count": 67,
     "metadata": {},
     "output_type": "execute_result"
    }
   ],
   "source": [
    "big_df[\"ABSTRACT\"].iloc[1]"
   ]
  },
  {
   "cell_type": "code",
   "execution_count": null,
   "metadata": {},
   "outputs": [],
   "source": []
  }
 ],
 "metadata": {
  "kernelspec": {
   "display_name": "Python 3.8",
   "language": "python",
   "name": "python-3.8"
  },
  "language_info": {
   "codemirror_mode": {
    "name": "ipython",
    "version": 3
   },
   "file_extension": ".py",
   "mimetype": "text/x-python",
   "name": "python",
   "nbconvert_exporter": "python",
   "pygments_lexer": "ipython3",
   "version": "3.8.8"
  }
 },
 "nbformat": 4,
 "nbformat_minor": 4
}
